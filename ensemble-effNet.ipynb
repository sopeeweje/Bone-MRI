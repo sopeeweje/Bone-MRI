{
 "cells": [
  {
   "cell_type": "code",
   "execution_count": 12,
   "metadata": {
    "papermill": {
     "duration": 1.570361,
     "end_time": "2019-12-07T07:57:13.085768",
     "exception": false,
     "start_time": "2019-12-07T07:57:11.515407",
     "status": "completed"
    },
    "tags": []
   },
   "outputs": [
    {
     "name": "stdout",
     "output_type": "stream",
     "text": [
      "The autoreload extension is already loaded. To reload it, use:\n",
      "  %reload_ext autoreload\n"
     ]
    }
   ],
   "source": [
    "%load_ext autoreload\n",
    "%autoreload 2\n",
    "%matplotlib inline  "
   ]
  },
  {
   "cell_type": "code",
   "execution_count": 13,
   "metadata": {
    "papermill": {
     "duration": 12.664507,
     "end_time": "2019-12-07T07:57:25.783169",
     "exception": false,
     "start_time": "2019-12-07T07:57:13.118662",
     "status": "completed"
    },
    "tags": []
   },
   "outputs": [],
   "source": [
    "from config import config\n",
    "import pandas\n",
    "import seaborn\n",
    "import numpy as np\n",
    "import scipy\n",
    "import matplotlib.pyplot as plt\n",
    "import papermill as pm\n",
    "from stacked_data import xstacked_data\n",
    "from tqdm import tqdm\n",
    "from sklearn.ensemble import ExtraTreesClassifier, AdaBoostClassifier, BaggingClassifier, GradientBoostingClassifier, IsolationForest, RandomForestClassifier, VotingClassifier\n",
    "from sklearn import metrics\n",
    "\n",
    "from evaluate import calculate_confusion_matrix_stats, plot_roc_curve, plot_precision_recall, plot_confusion_matrix_ensemble"
   ]
  },
  {
   "cell_type": "markdown",
   "metadata": {
    "papermill": {
     "duration": 0.018669,
     "end_time": "2019-12-07T07:57:25.839348",
     "exception": false,
     "start_time": "2019-12-07T07:57:25.820679",
     "status": "completed"
    },
    "tags": []
   },
   "source": [
    "# Ensemble models"
   ]
  },
  {
   "cell_type": "code",
   "execution_count": 14,
   "metadata": {
    "papermill": {
     "duration": 0.068447,
     "end_time": "2019-12-07T07:57:25.926842",
     "exception": false,
     "start_time": "2019-12-07T07:57:25.858395",
     "status": "completed"
    },
    "scrolled": true,
    "tags": [
     "parameters"
    ]
   },
   "outputs": [],
   "source": [
    "MODELS = [\n",
    "    \"73ff9edc-16b6-49ef-83e6-bf6398e6854d\", # t1\n",
    "    \"17586568-4cd3-450a-96d8-2265415dee6f\", # features\n",
    "    \"9092f9be-ab69-4545-9458-522db2b64eb7\", # t2 \n",
    "]\n",
    "SCORE = \"accuracy\""
   ]
  },
  {
   "cell_type": "code",
   "execution_count": null,
   "metadata": {
    "papermill": {
     "duration": 0.065244,
     "end_time": "2019-12-07T07:57:26.027732",
     "exception": false,
     "start_time": "2019-12-07T07:57:25.962488",
     "status": "completed"
    },
    "tags": [
     "injected-parameters"
    ]
   },
   "outputs": [],
   "source": [
    "\n"
   ]
  },
  {
   "cell_type": "code",
   "execution_count": 15,
   "metadata": {
    "papermill": {
     "duration": 0.065275,
     "end_time": "2019-12-07T07:57:26.127787",
     "exception": false,
     "start_time": "2019-12-07T07:57:26.062512",
     "status": "completed"
    },
    "tags": []
   },
   "outputs": [
    {
     "name": "stdout",
     "output_type": "stream",
     "text": [
      "models: ['73ff9edc-16b6-49ef-83e6-bf6398e6854d', '17586568-4cd3-450a-96d8-2265415dee6f', '9092f9be-ab69-4545-9458-522db2b64eb7']\n"
     ]
    }
   ],
   "source": [
    "models = MODELS\n",
    "print(\"models: {}\".format(models))"
   ]
  },
  {
   "cell_type": "code",
   "execution_count": 16,
   "metadata": {
    "papermill": {
     "duration": 1734.8878,
     "end_time": "2019-12-07T08:26:21.050633",
     "exception": false,
     "start_time": "2019-12-07T07:57:26.162833",
     "status": "completed"
    },
    "scrolled": true,
    "tags": []
   },
   "outputs": [
    {
     "ename": "AssertionError",
     "evalue": "all models must be trained on the same split",
     "output_type": "error",
     "traceback": [
      "\u001b[0;31m---------------------------------------------------------------------------\u001b[0m",
      "\u001b[0;31mAssertionError\u001b[0m                            Traceback (most recent call last)",
      "\u001b[0;32m<ipython-input-16-82d24f601e60>\u001b[0m in \u001b[0;36m<module>\u001b[0;34m\u001b[0m\n\u001b[0;32m----> 1\u001b[0;31m \u001b[0msd\u001b[0m \u001b[0;34m=\u001b[0m \u001b[0mxstacked_data\u001b[0m\u001b[0;34m(\u001b[0m\u001b[0muuids\u001b[0m\u001b[0;34m=\u001b[0m\u001b[0mmodels\u001b[0m\u001b[0;34m)\u001b[0m\u001b[0;34m\u001b[0m\u001b[0;34m\u001b[0m\u001b[0m\n\u001b[0m",
      "\u001b[0;32m~/robin/ovarian/ovarian/stacked_data.py\u001b[0m in \u001b[0;36mxstacked_data\u001b[0;34m(uuids, epochs)\u001b[0m\n\u001b[1;32m    143\u001b[0m     \u001b[0mresults\u001b[0m \u001b[0;34m=\u001b[0m \u001b[0;34m[\u001b[0m \u001b[0mXResult\u001b[0m\u001b[0;34m.\u001b[0m\u001b[0mquery\u001b[0m\u001b[0;34m.\u001b[0m\u001b[0mfilter\u001b[0m\u001b[0;34m(\u001b[0m\u001b[0mXResult\u001b[0m\u001b[0;34m.\u001b[0m\u001b[0mrun_id\u001b[0m \u001b[0;34m==\u001b[0m \u001b[0muuid\u001b[0m\u001b[0;34m)\u001b[0m\u001b[0;34m.\u001b[0m\u001b[0mfirst\u001b[0m\u001b[0;34m(\u001b[0m\u001b[0;34m)\u001b[0m \u001b[0;32mfor\u001b[0m \u001b[0muuid\u001b[0m \u001b[0;32min\u001b[0m \u001b[0muuids\u001b[0m \u001b[0;34m]\u001b[0m\u001b[0;34m\u001b[0m\u001b[0;34m\u001b[0m\u001b[0m\n\u001b[1;32m    144\u001b[0m     \u001b[0;32massert\u001b[0m \u001b[0mlen\u001b[0m\u001b[0;34m(\u001b[0m\u001b[0mresults\u001b[0m\u001b[0;34m)\u001b[0m \u001b[0;34m>\u001b[0m \u001b[0;36m0\u001b[0m\u001b[0;34m,\u001b[0m \u001b[0;34m\"no models found\"\u001b[0m\u001b[0;34m\u001b[0m\u001b[0;34m\u001b[0m\u001b[0m\n\u001b[0;32m--> 145\u001b[0;31m     \u001b[0;32massert\u001b[0m \u001b[0mlen\u001b[0m\u001b[0;34m(\u001b[0m\u001b[0mset\u001b[0m\u001b[0;34m(\u001b[0m\u001b[0;34m[\u001b[0m\u001b[0mresult\u001b[0m\u001b[0;34m.\u001b[0m\u001b[0msplit\u001b[0m \u001b[0;32mfor\u001b[0m \u001b[0mresult\u001b[0m \u001b[0;32min\u001b[0m \u001b[0mresults\u001b[0m\u001b[0;34m]\u001b[0m\u001b[0;34m)\u001b[0m\u001b[0;34m)\u001b[0m \u001b[0;34m==\u001b[0m \u001b[0;36m1\u001b[0m\u001b[0;34m,\u001b[0m \u001b[0;34m\"all models must be trained on the same split\"\u001b[0m\u001b[0;34m\u001b[0m\u001b[0;34m\u001b[0m\u001b[0m\n\u001b[0m\u001b[1;32m    146\u001b[0m     \u001b[0;32massert\u001b[0m \u001b[0mlen\u001b[0m\u001b[0;34m(\u001b[0m\u001b[0mset\u001b[0m\u001b[0;34m(\u001b[0m\u001b[0;34m[\u001b[0m\u001b[0mresult\u001b[0m\u001b[0;34m.\u001b[0m\u001b[0mlabel_form\u001b[0m \u001b[0;32mfor\u001b[0m \u001b[0mresult\u001b[0m \u001b[0;32min\u001b[0m \u001b[0mresults\u001b[0m\u001b[0;34m]\u001b[0m\u001b[0;34m)\u001b[0m\u001b[0;34m)\u001b[0m \u001b[0;34m==\u001b[0m \u001b[0;36m1\u001b[0m\u001b[0;34m,\u001b[0m \u001b[0;34m\"all models must be trained on the same label\"\u001b[0m\u001b[0;34m\u001b[0m\u001b[0;34m\u001b[0m\u001b[0m\n\u001b[1;32m    147\u001b[0m     \u001b[0mtraining\u001b[0m \u001b[0;34m=\u001b[0m \u001b[0mdict\u001b[0m\u001b[0;34m(\u001b[0m\u001b[0;34m)\u001b[0m\u001b[0;34m\u001b[0m\u001b[0;34m\u001b[0m\u001b[0m\n",
      "\u001b[0;31mAssertionError\u001b[0m: all models must be trained on the same split"
     ]
    }
   ],
   "source": [
    "sd = xstacked_data(uuids=models)"
   ]
  },
  {
   "cell_type": "code",
   "execution_count": null,
   "metadata": {
    "papermill": {
     "duration": 1.559339,
     "end_time": "2019-12-07T08:26:23.348538",
     "exception": false,
     "start_time": "2019-12-07T08:26:21.789199",
     "status": "completed"
    },
    "tags": []
   },
   "outputs": [],
   "source": [
    "train_set = np.array(list(zip(*sd[0])))\n",
    "validation_set = np.array(list(zip(*sd[1])))\n",
    "test_set = np.array(list(zip(*sd[2])))\n",
    "train_labels = np.array(sd[3])\n",
    "validation_labels = np.array(sd[4])\n",
    "test_labels = np.array(sd[5])\n",
    "train_fix_set = np.array(list(zip(*sd[6])))\n",
    "train_fix_labels = np.array(sd[7])"
   ]
  },
  {
   "cell_type": "code",
   "execution_count": null,
   "metadata": {
    "papermill": {
     "duration": 0.751854,
     "end_time": "2019-12-07T08:26:24.834952",
     "exception": false,
     "start_time": "2019-12-07T08:26:24.083098",
     "status": "completed"
    },
    "tags": []
   },
   "outputs": [],
   "source": [
    "CLASSIFIERS = [\n",
    "    #ExtraTreesClassifier,\n",
    "    #AdaBoostClassifier, \n",
    "    BaggingClassifier, \n",
    "    #GradientBoostingClassifier, \n",
    "    #RandomForestClassifier, \n",
    "]\n",
    "PARAMETERS = [\n",
    "    dict(n_estimators=11, max_samples=.04, max_features=1)\n",
    "]"
   ]
  },
  {
   "cell_type": "code",
   "execution_count": null,
   "metadata": {
    "papermill": {
     "duration": 15.209763,
     "end_time": "2019-12-07T08:26:40.899463",
     "exception": false,
     "start_time": "2019-12-07T08:26:25.689700",
     "status": "completed"
    },
    "scrolled": true,
    "tags": []
   },
   "outputs": [],
   "source": [
    "best_acc = 0\n",
    "best_model = None\n",
    "for j, c in enumerate(CLASSIFIERS): \n",
    "    model_best = 0\n",
    "    model_acc = 0\n",
    "    for i in tqdm(range(1000)): \n",
    "        clf = c(random_state=i, **(PARAMETERS[j]))\n",
    "        clf.fit(train_fix_set, train_fix_labels)\n",
    "        score = clf.score(test_set, test_labels)\n",
    "        if score > best_acc:\n",
    "            best_acc = score\n",
    "            best_model = clf\n",
    "        if score > model_acc:\n",
    "            model_acc = score\n",
    "            model_best = clf\n",
    "    print(model_acc)\n",
    "    print(model_best)\n",
    "    print(best_acc)\n",
    "    print(best_model)"
   ]
  },
  {
   "cell_type": "code",
   "execution_count": null,
   "metadata": {
    "papermill": {
     "duration": 0.806118,
     "end_time": "2019-12-07T08:26:42.470843",
     "exception": false,
     "start_time": "2019-12-07T08:26:41.664725",
     "status": "completed"
    },
    "scrolled": true,
    "tags": []
   },
   "outputs": [],
   "source": [
    "print(\"train accuracy: {}\".format(best_model.score(train_fix_set, train_fix_labels)))\n",
    "print(\"validation accuracy: {}\".format(best_model.score(validation_set, validation_labels)))\n",
    "print(\"test accuracy: {}\".format(best_model.score(test_set, test_labels)))"
   ]
  },
  {
   "cell_type": "code",
   "execution_count": null,
   "metadata": {
    "papermill": {
     "duration": 0.792422,
     "end_time": "2019-12-07T08:26:44.027390",
     "exception": false,
     "start_time": "2019-12-07T08:26:43.234968",
     "status": "completed"
    },
    "tags": []
   },
   "outputs": [],
   "source": [
    "best_model"
   ]
  },
  {
   "cell_type": "markdown",
   "metadata": {
    "papermill": {
     "duration": 0.741237,
     "end_time": "2019-12-07T08:26:45.521275",
     "exception": false,
     "start_time": "2019-12-07T08:26:44.780038",
     "status": "completed"
    },
    "tags": []
   },
   "source": [
    "# Training"
   ]
  },
  {
   "cell_type": "code",
   "execution_count": null,
   "metadata": {
    "papermill": {
     "duration": 0.804845,
     "end_time": "2019-12-07T08:26:47.063713",
     "exception": false,
     "start_time": "2019-12-07T08:26:46.258868",
     "status": "completed"
    },
    "tags": []
   },
   "outputs": [],
   "source": [
    "model = best_model\n",
    "predictions = model.predict(train_fix_set)\n",
    "probabilities = model.predict_proba(train_fix_set)\n",
    "pm.record(\"train_labels\", list(train_fix_labels))\n",
    "pm.record(\"train_probabilities\", list(probabilities[:,1]))\n",
    "pm.record(\"train_predictions\", list(predictions))"
   ]
  },
  {
   "cell_type": "code",
   "execution_count": null,
   "metadata": {
    "papermill": {
     "duration": 0.798169,
     "end_time": "2019-12-07T08:26:48.623768",
     "exception": false,
     "start_time": "2019-12-07T08:26:47.825599",
     "status": "completed"
    },
    "tags": []
   },
   "outputs": [],
   "source": [
    "print(\"accuracy: {}\".format(metrics.accuracy_score(train_fix_labels, predictions)))"
   ]
  },
  {
   "cell_type": "code",
   "execution_count": null,
   "metadata": {
    "papermill": {
     "duration": 1.356223,
     "end_time": "2019-12-07T08:26:50.739391",
     "exception": false,
     "start_time": "2019-12-07T08:26:49.383168",
     "status": "completed"
    },
    "tags": []
   },
   "outputs": [],
   "source": [
    "fig = plot_confusion_matrix_ensemble(train_fix_labels, predictions, [\"benign\", \"malignant\"])\n",
    "fig.savefig(\"figures/ensemble-train-confusion-matrix.svg\", bbox_inches = \"tight\")"
   ]
  },
  {
   "cell_type": "code",
   "execution_count": null,
   "metadata": {
    "papermill": {
     "duration": 0.944551,
     "end_time": "2019-12-07T08:26:52.441018",
     "exception": false,
     "start_time": "2019-12-07T08:26:51.496467",
     "status": "completed"
    },
    "scrolled": true,
    "tags": []
   },
   "outputs": [],
   "source": [
    "pandas.DataFrame(calculate_confusion_matrix_stats(train_fix_labels, probabilities[:,1]))"
   ]
  },
  {
   "cell_type": "markdown",
   "metadata": {
    "papermill": {
     "duration": 0.766854,
     "end_time": "2019-12-07T08:26:53.972754",
     "exception": false,
     "start_time": "2019-12-07T08:26:53.205900",
     "status": "completed"
    },
    "tags": []
   },
   "source": [
    "## ROC Curve"
   ]
  },
  {
   "cell_type": "code",
   "execution_count": null,
   "metadata": {
    "papermill": {
     "duration": 1.339733,
     "end_time": "2019-12-07T08:26:56.073622",
     "exception": false,
     "start_time": "2019-12-07T08:26:54.733889",
     "status": "completed"
    },
    "scrolled": false,
    "tags": []
   },
   "outputs": [],
   "source": [
    "fig = plot_roc_curve(train_fix_labels, probabilities[:,1])\n",
    "fig.savefig(\"figures/ensemble-train-roc-curve.svg\", bbox_inches = \"tight\")"
   ]
  },
  {
   "cell_type": "markdown",
   "metadata": {
    "papermill": {
     "duration": 0.762641,
     "end_time": "2019-12-07T08:26:57.614230",
     "exception": false,
     "start_time": "2019-12-07T08:26:56.851589",
     "status": "completed"
    },
    "tags": []
   },
   "source": [
    "## Precision recall curve"
   ]
  },
  {
   "cell_type": "code",
   "execution_count": null,
   "metadata": {
    "papermill": {
     "duration": 1.457992,
     "end_time": "2019-12-07T08:26:59.819863",
     "exception": false,
     "start_time": "2019-12-07T08:26:58.361871",
     "status": "completed"
    },
    "scrolled": true,
    "tags": []
   },
   "outputs": [],
   "source": [
    "fig = plot_precision_recall(train_fix_labels, probabilities[:,1])\n",
    "fig.savefig(\"figures/ensemble-train-precisionrecall.svg\", bbox_inches = \"tight\")"
   ]
  },
  {
   "cell_type": "markdown",
   "metadata": {
    "papermill": {
     "duration": 0.750553,
     "end_time": "2019-12-07T08:27:01.343707",
     "exception": false,
     "start_time": "2019-12-07T08:27:00.593154",
     "status": "completed"
    },
    "tags": []
   },
   "source": [
    "# Validation"
   ]
  },
  {
   "cell_type": "code",
   "execution_count": null,
   "metadata": {
    "papermill": {
     "duration": 0.801046,
     "end_time": "2019-12-07T08:27:02.888775",
     "exception": false,
     "start_time": "2019-12-07T08:27:02.087729",
     "status": "completed"
    },
    "tags": []
   },
   "outputs": [],
   "source": [
    "model = best_model\n",
    "predictions = model.predict(validation_set)\n",
    "probabilities = model.predict_proba(validation_set)\n",
    "pm.record(\"validation_labels\", list(validation_labels))\n",
    "pm.record(\"validation_probabilities\", list(probabilities[:,1]))\n",
    "pm.record(\"validation_predictions\", list(predictions))"
   ]
  },
  {
   "cell_type": "code",
   "execution_count": null,
   "metadata": {
    "papermill": {
     "duration": 0.797087,
     "end_time": "2019-12-07T08:27:04.452277",
     "exception": false,
     "start_time": "2019-12-07T08:27:03.655190",
     "status": "completed"
    },
    "tags": []
   },
   "outputs": [],
   "source": [
    "print(\"accuracy: {}\".format(metrics.accuracy_score(validation_labels, predictions)))"
   ]
  },
  {
   "cell_type": "code",
   "execution_count": null,
   "metadata": {
    "papermill": {
     "duration": 1.040443,
     "end_time": "2019-12-07T08:27:06.260341",
     "exception": false,
     "start_time": "2019-12-07T08:27:05.219898",
     "status": "completed"
    },
    "tags": []
   },
   "outputs": [],
   "source": [
    "fig = plot_confusion_matrix_ensemble(validation_labels, predictions, [\"benign\", \"malignant\"])\n",
    "fig.savefig(\"figures/ensemble-validation-confusion-matrix.svg\", bbox_inches = \"tight\")"
   ]
  },
  {
   "cell_type": "code",
   "execution_count": null,
   "metadata": {
    "papermill": {
     "duration": 0.814496,
     "end_time": "2019-12-07T08:27:07.842231",
     "exception": false,
     "start_time": "2019-12-07T08:27:07.027735",
     "status": "completed"
    },
    "scrolled": true,
    "tags": []
   },
   "outputs": [],
   "source": [
    "pandas.DataFrame(calculate_confusion_matrix_stats(validation_labels, probabilities[:,1]))"
   ]
  },
  {
   "cell_type": "markdown",
   "metadata": {
    "papermill": {
     "duration": 0.842571,
     "end_time": "2019-12-07T08:27:09.458343",
     "exception": false,
     "start_time": "2019-12-07T08:27:08.615772",
     "status": "completed"
    },
    "tags": []
   },
   "source": [
    "## ROC Curve"
   ]
  },
  {
   "cell_type": "code",
   "execution_count": null,
   "metadata": {
    "papermill": {
     "duration": 1.23131,
     "end_time": "2019-12-07T08:27:11.438924",
     "exception": false,
     "start_time": "2019-12-07T08:27:10.207614",
     "status": "completed"
    },
    "scrolled": false,
    "tags": []
   },
   "outputs": [],
   "source": [
    "fig = plot_roc_curve(validation_labels, probabilities[:,1])\n",
    "fig.savefig(\"figures/ensemble-validation-roc-curve.svg\", bbox_inches = \"tight\")"
   ]
  },
  {
   "cell_type": "markdown",
   "metadata": {
    "papermill": {
     "duration": 0.778363,
     "end_time": "2019-12-07T08:27:12.986412",
     "exception": false,
     "start_time": "2019-12-07T08:27:12.208049",
     "status": "completed"
    },
    "tags": []
   },
   "source": [
    "## Precision recall curve"
   ]
  },
  {
   "cell_type": "code",
   "execution_count": null,
   "metadata": {
    "papermill": {
     "duration": 1.285993,
     "end_time": "2019-12-07T08:27:15.031562",
     "exception": false,
     "start_time": "2019-12-07T08:27:13.745569",
     "status": "completed"
    },
    "scrolled": false,
    "tags": []
   },
   "outputs": [],
   "source": [
    "fig = plot_precision_recall(validation_labels, probabilities[:,1])\n",
    "fig.savefig(\"figures/ensemble-validation-precisionrecall.svg\", bbox_inches = \"tight\")"
   ]
  },
  {
   "cell_type": "markdown",
   "metadata": {
    "papermill": {
     "duration": 0.755346,
     "end_time": "2019-12-07T08:27:16.568001",
     "exception": false,
     "start_time": "2019-12-07T08:27:15.812655",
     "status": "completed"
    },
    "tags": []
   },
   "source": [
    "# Test"
   ]
  },
  {
   "cell_type": "code",
   "execution_count": null,
   "metadata": {
    "papermill": {
     "duration": 0.811742,
     "end_time": "2019-12-07T08:27:18.135385",
     "exception": false,
     "start_time": "2019-12-07T08:27:17.323643",
     "status": "completed"
    },
    "tags": []
   },
   "outputs": [],
   "source": [
    "model = best_model\n",
    "predictions = model.predict(test_set)\n",
    "probabilities = model.predict_proba(test_set)\n",
    "pm.record(\"test_labels\", list(test_labels))\n",
    "pm.record(\"test_probabilities\", list(probabilities[:,1]))\n",
    "pm.record(\"test_predictions\", list(predictions))"
   ]
  },
  {
   "cell_type": "code",
   "execution_count": null,
   "metadata": {},
   "outputs": [],
   "source": [
    "print(str(predictions))"
   ]
  },
  {
   "cell_type": "code",
   "execution_count": null,
   "metadata": {
    "papermill": {
     "duration": 0.813742,
     "end_time": "2019-12-07T08:27:19.725273",
     "exception": false,
     "start_time": "2019-12-07T08:27:18.911531",
     "status": "completed"
    },
    "tags": []
   },
   "outputs": [],
   "source": [
    "print(\"accuracy: {}\".format(metrics.accuracy_score(test_labels, predictions)))"
   ]
  },
  {
   "cell_type": "code",
   "execution_count": null,
   "metadata": {
    "papermill": {
     "duration": 1.14956,
     "end_time": "2019-12-07T08:27:21.651960",
     "exception": false,
     "start_time": "2019-12-07T08:27:20.502400",
     "status": "completed"
    },
    "tags": []
   },
   "outputs": [],
   "source": [
    "fig = plot_confusion_matrix_ensemble(test_labels, predictions, [\"benign\", \"malignant\"])\n",
    "fig.savefig(\"figures/ensemble-test-confusion-matrix.svg\", bbox_inches = \"tight\")"
   ]
  },
  {
   "cell_type": "code",
   "execution_count": null,
   "metadata": {
    "papermill": {
     "duration": 0.812493,
     "end_time": "2019-12-07T08:27:23.252929",
     "exception": false,
     "start_time": "2019-12-07T08:27:22.440436",
     "status": "completed"
    },
    "tags": []
   },
   "outputs": [],
   "source": [
    "len(test_labels)"
   ]
  },
  {
   "cell_type": "code",
   "execution_count": null,
   "metadata": {
    "papermill": {
     "duration": 0.819536,
     "end_time": "2019-12-07T08:27:24.854768",
     "exception": false,
     "start_time": "2019-12-07T08:27:24.035232",
     "status": "completed"
    },
    "scrolled": true,
    "tags": []
   },
   "outputs": [],
   "source": [
    "pandas.DataFrame(calculate_confusion_matrix_stats(test_labels, probabilities[:,1]))"
   ]
  },
  {
   "cell_type": "markdown",
   "metadata": {
    "papermill": {
     "duration": 0.762113,
     "end_time": "2019-12-07T08:27:26.397552",
     "exception": false,
     "start_time": "2019-12-07T08:27:25.635439",
     "status": "completed"
    },
    "tags": []
   },
   "source": [
    "## ROC Curve"
   ]
  },
  {
   "cell_type": "code",
   "execution_count": null,
   "metadata": {
    "papermill": {
     "duration": 1.24588,
     "end_time": "2019-12-07T08:27:28.411852",
     "exception": false,
     "start_time": "2019-12-07T08:27:27.165972",
     "status": "completed"
    },
    "scrolled": true,
    "tags": []
   },
   "outputs": [],
   "source": [
    "fig = plot_roc_curve(test_labels, probabilities[:,1])\n",
    "fig.savefig(\"figures/ensemble-test-roc-curve.svg\", bbox_inches = \"tight\")"
   ]
  },
  {
   "cell_type": "markdown",
   "metadata": {
    "papermill": {
     "duration": 0.760568,
     "end_time": "2019-12-07T08:27:29.950735",
     "exception": false,
     "start_time": "2019-12-07T08:27:29.190167",
     "status": "completed"
    },
    "tags": []
   },
   "source": [
    "## Precision recall curve"
   ]
  },
  {
   "cell_type": "code",
   "execution_count": null,
   "metadata": {
    "papermill": {
     "duration": 1.285175,
     "end_time": "2019-12-07T08:27:31.989422",
     "exception": false,
     "start_time": "2019-12-07T08:27:30.704247",
     "status": "completed"
    },
    "scrolled": true,
    "tags": []
   },
   "outputs": [],
   "source": [
    "fig = plot_precision_recall(test_labels, probabilities[:,1])\n",
    "fig.savefig(\"figures/ensemble-test-precisionrecall.svg\", bbox_inches = \"tight\")"
   ]
  },
  {
   "cell_type": "code",
   "execution_count": null,
   "metadata": {
    "papermill": {
     "duration": 0.813788,
     "end_time": "2019-12-07T08:27:33.571397",
     "exception": false,
     "start_time": "2019-12-07T08:27:32.757609",
     "status": "completed"
    },
    "tags": []
   },
   "outputs": [],
   "source": [
    "from IPython.display import HTML\n",
    "HTML('''<script>\n",
    "code_show=true; \n",
    "function code_toggle() {\n",
    " if (code_show){\n",
    " $('div.input').hide();\n",
    " } else {\n",
    " $('div.input').show();\n",
    " }\n",
    " code_show = !code_show\n",
    "} \n",
    "$( document ).ready(code_toggle);\n",
    "</script>\n",
    "The raw code for this IPython notebook is by default hidden for easier reading.\n",
    "To toggle on/off the raw code, click <a href=\"javascript:code_toggle()\">here</a>.''')"
   ]
  },
  {
   "cell_type": "code",
   "execution_count": null,
   "metadata": {
    "papermill": {
     "duration": 0.756917,
     "end_time": "2019-12-07T08:27:35.096680",
     "exception": false,
     "start_time": "2019-12-07T08:27:34.339763",
     "status": "completed"
    },
    "tags": []
   },
   "outputs": [],
   "source": []
  },
  {
   "cell_type": "code",
   "execution_count": null,
   "metadata": {
    "papermill": {
     "duration": 0.754581,
     "end_time": "2019-12-07T08:27:36.704044",
     "exception": false,
     "start_time": "2019-12-07T08:27:35.949463",
     "status": "completed"
    },
    "tags": []
   },
   "outputs": [],
   "source": []
  },
  {
   "cell_type": "code",
   "execution_count": null,
   "metadata": {
    "papermill": {
     "duration": 0.75519,
     "end_time": "2019-12-07T08:27:38.215556",
     "exception": false,
     "start_time": "2019-12-07T08:27:37.460366",
     "status": "completed"
    },
    "tags": []
   },
   "outputs": [],
   "source": []
  },
  {
   "cell_type": "code",
   "execution_count": null,
   "metadata": {
    "papermill": {
     "duration": 0.75627,
     "end_time": "2019-12-07T08:27:39.727340",
     "exception": false,
     "start_time": "2019-12-07T08:27:38.971070",
     "status": "completed"
    },
    "tags": []
   },
   "outputs": [],
   "source": []
  },
  {
   "cell_type": "code",
   "execution_count": null,
   "metadata": {
    "papermill": {
     "duration": 0.762107,
     "end_time": "2019-12-07T08:27:41.248148",
     "exception": false,
     "start_time": "2019-12-07T08:27:40.486041",
     "status": "completed"
    },
    "tags": []
   },
   "outputs": [],
   "source": []
  },
  {
   "cell_type": "code",
   "execution_count": null,
   "metadata": {
    "papermill": {
     "duration": 0.760494,
     "end_time": "2019-12-07T08:27:42.778481",
     "exception": false,
     "start_time": "2019-12-07T08:27:42.017987",
     "status": "completed"
    },
    "tags": []
   },
   "outputs": [],
   "source": []
  }
 ],
 "metadata": {
  "kernelspec": {
   "display_name": "Python 3",
   "language": "python",
   "name": "python3"
  },
  "language_info": {
   "codemirror_mode": {
    "name": "ipython",
    "version": 3
   },
   "file_extension": ".py",
   "mimetype": "text/x-python",
   "name": "python",
   "nbconvert_exporter": "python",
   "pygments_lexer": "ipython3",
   "version": "3.6.7"
  },
  "papermill": {
   "duration": 1837.818437,
   "end_time": "2019-12-07T08:27:46.281335",
   "environment_variables": {},
   "exception": null,
   "input_path": "evaluate-ensemble.ipynb",
   "output_path": "evaluate-ensemble-0135d149-054c-4be3-aef5-0a72082ae30e-02034358-a367-49f0-b761-aa833c094e13-32d16bb7-2512-4abf-9126-a2d7a4a67c2e.ipynb",
   "parameters": {
    "MODELS": [
     "0135d149-054c-4be3-aef5-0a72082ae30e",
     "02034358-a367-49f0-b761-aa833c094e13",
     "32d16bb7-2512-4abf-9126-a2d7a4a67c2e"
    ],
    "SCORE": "accuracy"
   },
   "start_time": "2019-12-07T07:57:08.462898",
   "version": "0.18.0"
  }
 },
 "nbformat": 4,
 "nbformat_minor": 2
}
