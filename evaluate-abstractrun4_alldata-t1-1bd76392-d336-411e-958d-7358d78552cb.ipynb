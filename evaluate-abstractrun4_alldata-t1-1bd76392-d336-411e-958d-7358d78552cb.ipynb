{
 "cells": [
  {
   "cell_type": "code",
   "execution_count": 1,
   "metadata": {
    "papermill": {
     "duration": 1.099612,
     "end_time": "2020-04-28T18:10:37.058197",
     "exception": false,
     "start_time": "2020-04-28T18:10:35.958585",
     "status": "completed"
    },
    "tags": []
   },
   "outputs": [],
   "source": [
    "%load_ext autoreload\n",
    "%autoreload 2\n",
    "%matplotlib inline  \n",
    "from IPython.display import HTML"
   ]
  },
  {
   "cell_type": "code",
   "execution_count": 2,
   "metadata": {
    "collapsed": true,
    "papermill": {
     "duration": 7.969017,
     "end_time": "2020-04-28T18:10:45.028914",
     "exception": false,
     "start_time": "2020-04-28T18:10:37.059897",
     "status": "completed"
    },
    "tags": []
   },
   "outputs": [
    {
     "name": "stderr",
     "output_type": "stream",
     "text": [
      "Using TensorFlow backend.\n"
     ]
    },
    {
     "name": "stderr",
     "output_type": "stream",
     "text": [
      "/home/user1/.local/share/virtualenvs/Bone-MRI-iLizu8rs/lib/python3.6/site-packages/tensorflow/python/framework/dtypes.py:516: FutureWarning: Passing (type, 1) or '1type' as a synonym of type is deprecated; in a future version of numpy, it will be understood as (type, (1,)) / '(1,)type'.\n",
      "  _np_qint8 = np.dtype([(\"qint8\", np.int8, 1)])\n",
      "/home/user1/.local/share/virtualenvs/Bone-MRI-iLizu8rs/lib/python3.6/site-packages/tensorflow/python/framework/dtypes.py:517: FutureWarning: Passing (type, 1) or '1type' as a synonym of type is deprecated; in a future version of numpy, it will be understood as (type, (1,)) / '(1,)type'.\n",
      "  _np_quint8 = np.dtype([(\"quint8\", np.uint8, 1)])\n",
      "/home/user1/.local/share/virtualenvs/Bone-MRI-iLizu8rs/lib/python3.6/site-packages/tensorflow/python/framework/dtypes.py:518: FutureWarning: Passing (type, 1) or '1type' as a synonym of type is deprecated; in a future version of numpy, it will be understood as (type, (1,)) / '(1,)type'.\n",
      "  _np_qint16 = np.dtype([(\"qint16\", np.int16, 1)])\n",
      "/home/user1/.local/share/virtualenvs/Bone-MRI-iLizu8rs/lib/python3.6/site-packages/tensorflow/python/framework/dtypes.py:519: FutureWarning: Passing (type, 1) or '1type' as a synonym of type is deprecated; in a future version of numpy, it will be understood as (type, (1,)) / '(1,)type'.\n",
      "  _np_quint16 = np.dtype([(\"quint16\", np.uint16, 1)])\n",
      "/home/user1/.local/share/virtualenvs/Bone-MRI-iLizu8rs/lib/python3.6/site-packages/tensorflow/python/framework/dtypes.py:520: FutureWarning: Passing (type, 1) or '1type' as a synonym of type is deprecated; in a future version of numpy, it will be understood as (type, (1,)) / '(1,)type'.\n",
      "  _np_qint32 = np.dtype([(\"qint32\", np.int32, 1)])\n",
      "/home/user1/.local/share/virtualenvs/Bone-MRI-iLizu8rs/lib/python3.6/site-packages/tensorflow/python/framework/dtypes.py:525: FutureWarning: Passing (type, 1) or '1type' as a synonym of type is deprecated; in a future version of numpy, it will be understood as (type, (1,)) / '(1,)type'.\n",
      "  np_resource = np.dtype([(\"resource\", np.ubyte, 1)])\n"
     ]
    },
    {
     "name": "stderr",
     "output_type": "stream",
     "text": [
      "WARNING:root:Limited tf.compat.v2.summary API due to missing TensorBoard installation.\n"
     ]
    }
   ],
   "source": [
    "from sklearn.metrics import f1_score, roc_auc_score, average_precision_score, precision_score, recall_score\n",
    "import pandas\n",
    "import numpy as np\n",
    "import papermill as pm\n",
    "import json\n",
    "import matplotlib.pyplot as plt\n",
    "import os\n",
    "import uuid\n",
    "from db import Result\n",
    "import ast\n",
    "import math\n",
    "from vis.visualization import visualize_cam, visualize_saliency, overlay\n",
    "from vis.utils.utils import load_img, normalize, find_layer_idx\n",
    "\n",
    "\n",
    "pandas.options.display.float_format = '{:,.3f}'.format"
   ]
  },
  {
   "cell_type": "code",
   "execution_count": 3,
   "metadata": {
    "collapsed": true,
    "papermill": {
     "duration": 0.405156,
     "end_time": "2020-04-28T18:10:45.438429",
     "exception": false,
     "start_time": "2020-04-28T18:10:45.033273",
     "status": "completed"
    },
    "tags": []
   },
   "outputs": [],
   "source": [
    "from evaluate import plot_learning_curve, plot_accuracy_curve, load, get_results, get_labels, transform_binary_probabilities, transform_binary_predictions, calculate_accuracy_loss, plot_confusion_matrix, plot_precision_recall, plot_roc_curve, calculate_pr_auc, calculate_confusion_matrix_stats, calculate_confusion_matrix, plot_tsne, plot_multiple_grad_cam, plot_precision_recall"
   ]
  },
  {
   "cell_type": "code",
   "execution_count": 4,
   "metadata": {
    "collapsed": true,
    "papermill": {
     "duration": 0.163693,
     "end_time": "2020-04-28T18:10:45.603145",
     "exception": false,
     "start_time": "2020-04-28T18:10:45.439452",
     "status": "completed"
    },
    "tags": []
   },
   "outputs": [],
   "source": [
    "from data_gen import data\n",
    "from run import characterize_data\n",
    "from config import config"
   ]
  },
  {
   "cell_type": "code",
   "execution_count": 5,
   "metadata": {
    "papermill": {
     "duration": 0.12409,
     "end_time": "2020-04-28T18:10:45.733252",
     "exception": false,
     "start_time": "2020-04-28T18:10:45.609162",
     "status": "completed"
    },
    "tags": [
     "parameters"
    ]
   },
   "outputs": [],
   "source": [
    "# Parameters\n",
    "UUID = \"1bd76392-d336-411e-958d-7358d78552cb\"\n",
    "SELECTIONS = \"None\"\n",
    "TSNE_PERPLEXITY = None\n"
   ]
  },
  {
   "cell_type": "code",
   "execution_count": 6,
   "metadata": {
    "collapsed": true,
    "papermill": {
     "duration": 0.127043,
     "end_time": "2020-04-28T18:10:45.872016",
     "exception": false,
     "start_time": "2020-04-28T18:10:45.744973",
     "status": "completed"
    },
    "tags": []
   },
   "outputs": [],
   "source": [
    "SELECTIONS = eval(SELECTIONS)"
   ]
  },
  {
   "cell_type": "markdown",
   "metadata": {
    "papermill": {
     "duration": 4.4e-05,
     "end_time": "2020-04-28T18:10:45.873638",
     "exception": false,
     "start_time": "2020-04-28T18:10:45.873594",
     "status": "completed"
    },
    "tags": []
   },
   "source": [
    "# Learning Curve"
   ]
  },
  {
   "cell_type": "code",
   "execution_count": 7,
   "metadata": {
    "papermill": {
     "duration": 1.184858,
     "end_time": "2020-04-28T18:10:47.122869",
     "exception": false,
     "start_time": "2020-04-28T18:10:45.938011",
     "status": "completed"
    },
    "tags": []
   },
   "outputs": [
    {
     "data": {
      "image/png": "[encoded data removed]",
      "text/plain": [
       "<Figure size 432x288 with 1 Axes>"
      ]
     },
     "metadata": {},
     "output_type": "display_data"
    }
   ],
   "source": [
    "result = Result.query.filter(Result.uuid == UUID).first()\n",
    "fig = plot_learning_curve(result)\n",
    "fig.savefig(\"figures/learning_curves/{}-learning_curve.svg\".format(UUID))"
   ]
  },
  {
   "cell_type": "markdown",
   "metadata": {
    "papermill": {
     "duration": 8e-05,
     "end_time": "2020-04-28T18:10:47.125633",
     "exception": false,
     "start_time": "2020-04-28T18:10:47.125553",
     "status": "completed"
    },
    "tags": []
   },
   "source": [
    "# Accuracy Trend"
   ]
  },
  {
   "cell_type": "code",
   "execution_count": 8,
   "metadata": {
    "papermill": {
     "duration": 0.802372,
     "end_time": "2020-04-28T18:10:47.996273",
     "exception": false,
     "start_time": "2020-04-28T18:10:47.193901",
     "status": "completed"
    },
    "tags": []
   },
   "outputs": [
    {
     "data": {
      "image/png": "[encoded data removed]",
      "text/plain": [
       "<Figure size 432x288 with 1 Axes>"
      ]
     },
     "metadata": {},
     "output_type": "display_data"
    }
   ],
   "source": [
    "fig = plot_accuracy_curve(result)\n",
    "fig.savefig(\"figures/accuracy/{}-accuracy.svg\".format(UUID))"
   ]
  },
  {
   "cell_type": "code",
   "execution_count": 9,
   "metadata": {
    "papermill": {
     "duration": 0.130501,
     "end_time": "2020-04-28T18:10:48.132282",
     "exception": false,
     "start_time": "2020-04-28T18:10:48.001781",
     "status": "completed"
    },
    "tags": []
   },
   "outputs": [
    {
     "name": "stdout",
     "output_type": "stream",
     "text": [
      "input form: t1\n"
     ]
    }
   ],
   "source": [
    "print(\"input form:\", result.input_form)"
   ]
  },
  {
   "cell_type": "code",
   "execution_count": 10,
   "metadata": {
    "collapsed": true,
    "papermill": {
     "duration": 0.103104,
     "end_time": "2020-04-28T18:10:48.242752",
     "exception": false,
     "start_time": "2020-04-28T18:10:48.139648",
     "status": "completed"
    },
    "tags": []
   },
   "outputs": [],
   "source": [
    "MODEL = \"{}/models/{}-{}.h5\".format(config.OUTPUT, UUID, result.model)"
   ]
  },
  {
   "cell_type": "code",
   "execution_count": 11,
   "metadata": {
    "papermill": {
     "duration": 212.518864,
     "end_time": "2020-04-28T18:14:20.762639",
     "exception": false,
     "start_time": "2020-04-28T18:10:48.243775",
     "status": "completed"
    },
    "scrolled": false,
    "tags": []
   },
   "outputs": [
    {
     "name": "stderr",
     "output_type": "stream",
     "text": [
      "\r",
      "  0%|          | 0/710 [00:00<?, ?it/s]"
     ]
    },
    {
     "name": "stdout",
     "output_type": "stream",
     "text": [
      "Training points = 710\n",
      "Benign: 191, Intermediate: 519, Malignant: 0\n",
      "\n",
      "Validation points = 201\n",
      "Benign: 54, Intermediate: 147, Malignant: 0\n",
      "\n",
      "Testing points = 100\n",
      "Benign: 27, Intermediate: 73, Malignant: 0\n",
      "bone-china-065\n",
      "Does this patient have T1 available? True\n",
      "I'm doing the thing.\n"
     ]
    },
    {
     "name": "stderr",
     "output_type": "stream",
     "text": [
      "\r",
      "  0%|          | 1/710 [00:00<02:53,  4.08it/s]"
     ]
    },
    {
     "name": "stderr",
     "output_type": "stream",
     "text": [
      "\r",
      "  0%|          | 2/710 [00:00<02:29,  4.73it/s]"
     ]
    },
    {
     "name": "stdout",
     "output_type": "stream",
     "text": [
      "bone-penn-586\n",
      "Does this patient have T1 available? True\n",
      "I'm doing the thing.\n",
      "bone-china-069\n",
      "Does this patient have T1 available? True\n",
      "I'm doing the thing.\n"
     ]
    },
    {
     "name": "stderr",
     "output_type": "stream",
     "text": [
      "\r",
      "  0%|          | 3/710 [00:00<02:22,  4.95it/s]"
     ]
    },
    {
     "name": "stderr",
     "output_type": "stream",
     "text": [
      "\r",
      "  1%|          | 4/710 [00:00<02:02,  5.78it/s]"
     ]
    },
    {
     "name": "stdout",
     "output_type": "stream",
     "text": [
      "bone-penn-552\n",
      "Does this patient have T1 available? True\n",
      "I'm doing the thing.\n",
      "bone-penn-319\n",
      "Does this patient have T1 available? True\n",
      "I'm doing the thing.\n"
     ]
    },
    {
     "name": "stderr",
     "output_type": "stream",
     "text": [
      "\r",
      "  1%|          | 5/710 [00:00<01:46,  6.60it/s]"
     ]
    },
    {
     "name": "stdout",
     "output_type": "stream",
     "text": [
      "bone-china-017\n",
      "Does this patient have T1 available? True\n",
      "I'm doing the thing.\n"
     ]
    },
    {
     "name": "stderr",
     "output_type": "stream",
     "text": [
      "\r",
      "  1%|          | 6/710 [00:01<02:09,  5.45it/s]"
     ]
    },
    {
     "name": "stdout",
     "output_type": "stream",
     "text": [
      "bone-china-053\n",
      "Does this patient have T1 available? True\n",
      "I'm doing the thing.\n"
     ]
    },
    {
     "name": "stderr",
     "output_type": "stream",
     "text": [
      "\r",
      "  1%|          | 7/710 [00:01<02:17,  5.10it/s]"
     ]
    },
    {
     "name": "stderr",
     "output_type": "stream",
     "text": [
      "\r",
      "  1%|          | 8/710 [00:01<02:17,  5.10it/s]"
     ]
    },
    {
     "name": "stdout",
     "output_type": "stream",
     "text": [
      "bone-hup-302\n",
      "Does this patient have T1 available? True\n",
      "I'm doing the thing.\n",
      "bone-hup-311\n",
      "Does this patient have T1 available? True\n",
      "I'm doing the thing.\n"
     ]
    },
    {
     "name": "stderr",
     "output_type": "stream",
     "text": [
      "\r",
      "  1%|▏         | 9/710 [00:02<03:48,  3.07it/s]"
     ]
    },
    {
     "name": "stdout",
     "output_type": "stream",
     "text": [
      "bone-china-067\n",
      "Does this patient have T1 available? True\n",
      "I'm doing the thing.\n",
      "bone-penn-555\n",
      "Does this patient have T1 available? True\n",
      "I'm doing the thing.\n"
     ]
    },
    {
     "name": "stderr",
     "output_type": "stream",
     "text": [
      "\r",
      "  2%|▏         | 11/710 [00:02<03:15,  3.57it/s]"
     ]
    },
    {
     "name": "stderr",
     "output_type": "stream",
     "text": [
      "\r",
      "  2%|▏         | 14/710 [00:02<02:26,  4.75it/s]"
     ]
    },
    {
     "name": "stdout",
     "output_type": "stream",
     "text": [
      "bone-hup-304\n",
      "Does this patient have T1 available? False\n",
      "T1 image unavailable\n",
      "bone-china-018\n",
      "Does this patient have T1 available? True\n",
      "I'm doing the thing.\n",
      "bone-penn-154\n",
      "Does this patient have T1 available? True\n",
      "I'm doing the thing.\n",
      "bone-hup-296\n",
      "Does this patient have T1 available? True\n",
      "I'm doing the thing.\n"
     ]
    },
    {
     "name": "stderr",
     "output_type": "stream",
     "text": [
      "\r",
      "  2%|▏         | 15/710 [00:02<02:08,  5.42it/s]"
     ]
    },
    {
     "name": "stdout",
     "output_type": "stream",
     "text": [
      "bone-penn-274\n",
      "Does this patient have T1 available? True\n",
      "I'm doing the thing.\n"
     ]
    },
    {
     "name": "stderr",
     "output_type": "stream",
     "text": [
      "\r",
      "  2%|▏         | 16/710 [00:03<05:13,  2.22it/s]"
     ]
    },
    {
     "name": "stderr",
     "output_type": "stream",
     "text": [
      "\r",
      "  2%|▏         | 17/710 [00:03<04:10,  2.77it/s]"
     ]
    },
    {
     "name": "stdout",
     "output_type": "stream",
     "text": [
      "bone-hup-274\n",
      "Does this patient have T1 available? True\n",
      "I'm doing the thing.\n",
      "bone-penn-468\n",
      "Does this patient have T1 available? True\n",
      "I'm doing the thing.\n"
     ]
    },
    {
     "name": "stderr",
     "output_type": "stream",
     "text": [
      "\r",
      "  3%|▎         | 18/710 [00:04<05:59,  1.92it/s]"
     ]
    },
    {
     "name": "stderr",
     "output_type": "stream",
     "text": [
      "\r",
      "  3%|▎         | 19/710 [00:04<04:52,  2.36it/s]"
     ]
    },
    {
     "name": "stdout",
     "output_type": "stream",
     "text": [
      "bone-china-001\n",
      "Does this patient have T1 available? True\n",
      "I'm doing the thing.\n"
     ]
    },
    {
     "name": "stdout",
     "output_type": "stream",
     "text": [
      "bone-hup-312\n",
      "Does this patient have T1 available? True\n",
      "I'm doing the thing.\n",
      "bone-hup-321\n",
      "Does this patient have T1 available? True\n",
      "I'm doing the thing.\n"
     ]
    },
    {
     "name": "stderr",
     "output_type": "stream",
     "text": [
      "\r",
      "  3%|▎         | 21/710 [00:05<04:33,  2.52it/s]"
     ]
    },
    {
     "name": "stderr",
     "output_type": "stream",
     "text": [
      "\r",
      "  3%|▎         | 22/710 [00:05<03:49,  3.00it/s]"
     ]
    },
    {
     "name": "stdout",
     "output_type": "stream",
     "text": [
      "bone-hup-316\n",
      "Does this patient have T1 available? True\n",
      "I'm doing the thing.\n",
      "bone-china-049\n",
      "Does this patient have T1 available? True\n",
      "I'm doing the thing.\n"
     ]
    },
    {
     "name": "stderr",
     "output_type": "stream",
     "text": [
      "\r",
      "  3%|▎         | 23/710 [00:05<03:05,  3.71it/s]"
     ]
    },
    {
     "name": "stderr",
     "output_type": "stream",
     "text": [
      "\r",
      "  3%|▎         | 24/710 [00:06<02:34,  4.45it/s]"
     ]
    },
    {
     "name": "stdout",
     "output_type": "stream",
     "text": [
      "bone-penn-145\n",
      "Does this patient have T1 available? True\n",
      "I'm doing the thing.\n",
      "bone-penn-302\n",
      "Does this patient have T1 available? True\n",
      "I'm doing the thing.\n"
     ]
    },
    {
     "name": "stderr",
     "output_type": "stream",
     "text": [
      "\r",
      "  4%|▎         | 25/710 [00:06<02:15,  5.06it/s]"
     ]
    },
    {
     "name": "stdout",
     "output_type": "stream",
     "text": [
      "bone-china-036\n",
      "Does this patient have T1 available? True\n",
      "I'm doing the thing.\n",
      "bone-penn-500\n",
      "Does this patient have T1 available? True\n",
      "I'm doing the thing.\n"
     ]
    },
    {
     "name": "stderr",
     "output_type": "stream",
     "text": [
      "\r",
      "  4%|▍         | 27/710 [00:06<02:30,  4.55it/s]"
     ]
    },
    {
     "name": "stdout",
     "output_type": "stream",
     "text": [
      "bone-china-009\n",
      "Does this patient have T1 available? True\n",
      "I'm doing the thing.\n",
      "bone-hup-303\n",
      "Does this patient have T1 available? True\n",
      "I'm doing the thing.\n"
     ]
    },
    {
     "name": "stderr",
     "output_type": "stream",
     "text": [
      "\r",
      "  4%|▍         | 29/710 [00:07<02:12,  5.13it/s]"
     ]
    },
    {
     "name": "stderr",
     "output_type": "stream",
     "text": [
      "\r",
      "  4%|▍         | 31/710 [00:07<01:49,  6.19it/s]"
     ]
    },
    {
     "name": "stdout",
     "output_type": "stream",
     "text": [
      "bone-penn-509\n",
      "Does this patient have T1 available? True\n",
      "I'm doing the thing.\n",
      "bone-china-055\n",
      "Does this patient have T1 available? True\n",
      "I'm doing the thing.\n",
      "bone-hup-281\n",
      "Does this patient have T1 available? True\n",
      "I'm doing the thing.\n"
     ]
    },
    {
     "name": "stderr",
     "output_type": "stream",
     "text": [
      "\r",
      "  5%|▍         | 32/710 [00:07<01:44,  6.48it/s]"
     ]
    },
    {
     "name": "stdout",
     "output_type": "stream",
     "text": [
      "bone-penn-556\n",
      "Does this patient have T1 available? True\n",
      "I'm doing the thing.\n"
     ]
    },
    {
     "name": "stderr",
     "output_type": "stream",
     "text": [
      "\r",
      "  5%|▍         | 33/710 [00:07<02:12,  5.11it/s]"
     ]
    },
    {
     "name": "stderr",
     "output_type": "stream",
     "text": [
      "\r",
      "  5%|▍         | 34/710 [00:07<02:13,  5.05it/s]"
     ]
    },
    {
     "name": "stdout",
     "output_type": "stream",
     "text": [
      "bone-china-075\n",
      "Does this patient have T1 available? True\n",
      "I'm doing the thing.\n",
      "bone-hup-317\n",
      "Does this patient have T1 available? True\n",
      "I'm doing the thing.\n"
     ]
    },
    {
     "name": "stderr",
     "output_type": "stream",
     "text": [
      "\r",
      "  5%|▍         | 35/710 [00:07<02:04,  5.44it/s]"
     ]
    },
    {
     "name": "stderr",
     "output_type": "stream",
     "text": [
      "\r",
      "  5%|▌         | 36/710 [00:08<02:03,  5.45it/s]"
     ]
    },
    {
     "name": "stdout",
     "output_type": "stream",
     "text": [
      "bone-china-010\n",
      "Does this patient have T1 available? True\n",
      "I'm doing the thing.\n",
      "bone-hup-325\n",
      "Does this patient have T1 available? True\n",
      "I'm doing the thing.\n"
     ]
    },
    {
     "name": "stderr",
     "output_type": "stream",
     "text": [
      "\r",
      "  5%|▌         | 37/710 [00:08<02:13,  5.06it/s]"
     ]
    },
    {
     "name": "stdout",
     "output_type": "stream",
     "text": [
      "bone-penn-133\n",
      "Does this patient have T1 available? True\n",
      "I'm doing the thing.\n"
     ]
    },
    {
     "name": "stderr",
     "output_type": "stream",
     "text": [
      "\r",
      "  5%|▌         | 38/710 [00:08<02:24,  4.64it/s]"
     ]
    },
    {
     "name": "stderr",
     "output_type": "stream",
     "text": [
      "\r",
      "  5%|▌         | 39/710 [00:08<02:03,  5.43it/s]"
     ]
    },
    {
     "name": "stdout",
     "output_type": "stream",
     "text": [
      "bone-hup-299\n",
      "Does this patient have T1 available? True\n",
      "I'm doing the thing.\n",
      "bone-penn-331\n",
      "Does this patient have T1 available? True\n",
      "I'm doing the thing.\n"
     ]
    },
    {
     "name": "stderr",
     "output_type": "stream",
     "text": [
      "\r",
      "  6%|▌         | 40/710 [00:08<01:51,  6.00it/s]"
     ]
    },
    {
     "name": "stderr",
     "output_type": "stream",
     "text": [
      "\r",
      "  6%|▌         | 41/710 [00:09<01:53,  5.90it/s]"
     ]
    },
    {
     "name": "stdout",
     "output_type": "stream",
     "text": [
      "bone-china-003\n",
      "Does this patient have T1 available? True\n",
      "I'm doing the thing.\n",
      "bone-penn-562\n",
      "Does this patient have T1 available? True\n",
      "I'm doing the thing.\n"
     ]
    },
    {
     "name": "stderr",
     "output_type": "stream",
     "text": [
      "\r",
      "  6%|▌         | 42/710 [00:09<01:54,  5.83it/s]"
     ]
    },
    {
     "name": "stderr",
     "output_type": "stream",
     "text": [
      "\r",
      "  6%|▌         | 43/710 [00:09<01:53,  5.87it/s]"
     ]
    },
    {
     "name": "stdout",
     "output_type": "stream",
     "text": [
      "bone-china-015\n",
      "Does this patient have T1 available? True\n",
      "I'm doing the thing.\n",
      "bone-china-002\n",
      "Does this patient have T1 available? True\n",
      "I'm doing the thing.\n"
     ]
    },
    {
     "name": "stderr",
     "output_type": "stream",
     "text": [
      "\r",
      "  6%|▋         | 46/710 [00:09<01:26,  7.64it/s]"
     ]
    },
    {
     "name": "stdout",
     "output_type": "stream",
     "text": [
      "bone-hup-269\n",
      "Does this patient have T1 available? False\n",
      "T1 image unavailable\n",
      "bone-china-066\n",
      "Does this patient have T1 available? True\n",
      "I'm doing the thing.\n",
      "bone-china-061\n",
      "Does this patient have T1 available? True\n",
      "I'm doing the thing.\n",
      "bone-penn-549\n",
      "Does this patient have T1 available? True\n",
      "I'm doing the thing.\n"
     ]
    },
    {
     "name": "stderr",
     "output_type": "stream",
     "text": [
      "\r",
      "  7%|▋         | 48/710 [00:09<01:18,  8.44it/s]"
     ]
    },
    {
     "name": "stdout",
     "output_type": "stream",
     "text": [
      "bone-penn-508\n",
      "Does this patient have T1 available? True\n",
      "I'm doing the thing.\n",
      "bone-china-032\n",
      "Does this patient have T1 available? True\n",
      "I'm doing the thing.\n"
     ]
    },
    {
     "name": "stderr",
     "output_type": "stream",
     "text": [
      "\r",
      "  7%|▋         | 50/710 [00:10<01:23,  7.94it/s]"
     ]
    },
    {
     "name": "stdout",
     "output_type": "stream",
     "text": [
      "bone-china-023\n",
      "Does this patient have T1 available? True\n",
      "I'm doing the thing.\n",
      "\n",
      "################################################################################\n",
      "Exception occurred for: outcome_pos   0.000\n",
      "outcome_neg   0.000\n",
      "outcome_3     0.000\n",
      "sort              -\n",
      "volume        0.140\n",
      "Name: bone-china-023, dtype: object\n",
      "index 101 is out of bounds for axis 0 with size 2\n",
      "T1 image unavailable\n",
      "Traceback (most recent call last):\n",
      "  File \"/home/user1/Documents/Bone-MRI/data_gen.py\", line 373, in generate_from_features\n",
      "    t1_masked = load_image(t1_image_file, t1_seg_file, verbose=verbose)\n",
      "  File \"/home/user1/Documents/Bone-MRI/data_gen.py\", line 331, in load_image\n",
      "    return [mask_image_percentile(image, segmentation, 100, a) for a in (0, 1, 2)]\n",
      "  File \"/home/user1/Documents/Bone-MRI/data_gen.py\", line 331, in <listcomp>\n",
      "    return [mask_image_percentile(image, segmentation, 100, a) for a in (0, 1, 2)]\n",
      "  File \"/home/user1/Documents/Bone-MRI/data_gen.py\", line 335, in mask_image_percentile\n",
      "    image, segmentation = select_slice(image, segmentation, plane, axis)\n",
      "  File \"/home/user1/Documents/Bone-MRI/segmentation.py\", line 40, in select_slice\n",
      "    image = axis_plane[axis](image, plane)\n",
      "  File \"/home/user1/Documents/Bone-MRI/segmentation.py\", line 13, in <lambda>\n",
      "    0: lambda image, plane : image[plane, :, :],\n",
      "IndexError: index 101 is out of bounds for axis 0 with size 2\n",
      "\n",
      "bone-penn-565\n",
      "Does this patient have T1 available? True\n",
      "I'm doing the thing.\n"
     ]
    },
    {
     "name": "stderr",
     "output_type": "stream",
     "text": [
      "\r",
      "  7%|▋         | 52/710 [00:10<01:51,  5.91it/s]"
     ]
    },
    {
     "name": "stderr",
     "output_type": "stream",
     "text": [
      "\r",
      "  7%|▋         | 53/710 [00:10<01:58,  5.53it/s]"
     ]
    },
    {
     "name": "stdout",
     "output_type": "stream",
     "text": [
      "bone-hup-155\n",
      "Does this patient have T1 available? True\n",
      "I'm doing the thing.\n",
      "bone-hup-310\n",
      "Does this patient have T1 available? True\n",
      "I'm doing the thing.\n"
     ]
    },
    {
     "name": "stderr",
     "output_type": "stream",
     "text": [
      "\r",
      "  8%|▊         | 54/710 [00:10<02:00,  5.47it/s]"
     ]
    },
    {
     "name": "stderr",
     "output_type": "stream",
     "text": [
      "\r",
      "  8%|▊         | 56/710 [00:11<01:40,  6.50it/s]"
     ]
    },
    {
     "name": "stdout",
     "output_type": "stream",
     "text": [
      "bone-china-038\n",
      "Does this patient have T1 available? True\n",
      "I'm doing the thing.\n",
      "bone-penn-296\n",
      "Does this patient have T1 available? True\n",
      "I'm doing the thing.\n",
      "bone-china-043\n",
      "Does this patient have T1 available? True\n",
      "I'm doing the thing.\n"
     ]
    },
    {
     "name": "stderr",
     "output_type": "stream",
     "text": [
      "\r",
      "  8%|▊         | 57/710 [00:11<01:31,  7.12it/s]"
     ]
    },
    {
     "name": "stderr",
     "output_type": "stream",
     "text": [
      "\r",
      "  8%|▊         | 58/710 [00:11<01:38,  6.65it/s]"
     ]
    },
    {
     "name": "stdout",
     "output_type": "stream",
     "text": [
      "bone-hup-320\n",
      "Does this patient have T1 available? True\n",
      "I'm doing the thing.\n",
      "bone-china-040\n",
      "Does this patient have T1 available? True\n",
      "I'm doing the thing.\n"
     ]
    },
    {
     "name": "stderr",
     "output_type": "stream",
     "text": [
      "\r",
      "  8%|▊         | 60/710 [00:11<01:23,  7.75it/s]"
     ]
    },
    {
     "name": "stdout",
     "output_type": "stream",
     "text": [
      "bone-penn-548\n",
      "Does this patient have T1 available? True\n",
      "I'm doing the thing.\n",
      "bone-hup-322\n",
      "Does this patient have T1 available? True\n",
      "I'm doing the thing.\n"
     ]
    },
    {
     "name": "stderr",
     "output_type": "stream",
     "text": [
      "\r",
      "  9%|▊         | 61/710 [00:11<01:51,  5.82it/s]"
     ]
    },
    {
     "name": "stderr",
     "output_type": "stream",
     "text": [
      "\r",
      "  9%|▊         | 62/710 [00:11<01:38,  6.57it/s]"
     ]
    },
    {
     "name": "stdout",
     "output_type": "stream",
     "text": [
      "bone-china-014\n",
      "Does this patient have T1 available? True\n",
      "I'm doing the thing.\n",
      "bone-hup-275\n",
      "Does this patient have T1 available? True\n",
      "I'm doing the thing.\n"
     ]
    },
    {
     "name": "stderr",
     "output_type": "stream",
     "text": [
      "\r",
      "  9%|▉         | 63/710 [00:12<03:41,  2.92it/s]"
     ]
    },
    {
     "name": "stderr",
     "output_type": "stream",
     "text": [
      "\r",
      "  9%|▉         | 64/710 [00:12<02:59,  3.60it/s]"
     ]
    },
    {
     "name": "stdout",
     "output_type": "stream",
     "text": [
      "bone-china-054\n",
      "Does this patient have T1 available? True\n",
      "I'm doing the thing.\n",
      "bone-penn-567\n",
      "Does this patient have T1 available? False\n",
      "T1 image unavailable\n",
      "bone-china-025\n",
      "Does this patient have T1 available? True\n",
      "I'm doing the thing.\n"
     ]
    },
    {
     "name": "stderr",
     "output_type": "stream",
     "text": [
      "\r",
      "  9%|▉         | 66/710 [00:12<02:17,  4.67it/s]"
     ]
    },
    {
     "name": "stderr",
     "output_type": "stream",
     "text": [
      "\r",
      "  9%|▉         | 67/710 [00:13<01:56,  5.50it/s]"
     ]
    },
    {
     "name": "stdout",
     "output_type": "stream",
     "text": [
      "bone-penn-129\n",
      "Does this patient have T1 available? True\n",
      "I'm doing the thing.\n",
      "bone-hup-307\n",
      "Does this patient have T1 available? True\n",
      "I'm doing the thing.\n"
     ]
    },
    {
     "name": "stderr",
     "output_type": "stream",
     "text": [
      "\r",
      " 10%|▉         | 68/710 [00:13<01:51,  5.77it/s]"
     ]
    },
    {
     "name": "stdout",
     "output_type": "stream",
     "text": [
      "bone-china-056\n",
      "Does this patient have T1 available? True\n",
      "I'm doing the thing.\n",
      "bone-penn-455\n",
      "Does this patient have T1 available? True\n",
      "I'm doing the thing.\n"
     ]
    },
    {
     "name": "stderr",
     "output_type": "stream",
     "text": [
      "\r",
      " 10%|▉         | 70/710 [00:13<01:48,  5.88it/s]"
     ]
    },
    {
     "name": "stderr",
     "output_type": "stream",
     "text": [
      "\r",
      " 10%|█         | 71/710 [00:13<01:48,  5.88it/s]"
     ]
    },
    {
     "name": "stdout",
     "output_type": "stream",
     "text": [
      "bone-penn-563\n",
      "Does this patient have T1 available? True\n",
      "I'm doing the thing.\n",
      "bone-china-008\n",
      "Does this patient have T1 available? True\n",
      "I'm doing the thing.\n",
      "\n",
      "################################################################################\n",
      "Exception occurred for: outcome_pos   0.000\n",
      "outcome_neg   0.000\n",
      "outcome_3     0.000\n",
      "sort              -\n",
      "volume        0.140\n",
      "Name: bone-china-008, dtype: object\n",
      "Size of the data does not equal the product of all the dimensions: 3686400-1003560=2682840\n",
      "T1 image unavailable\n",
      "Traceback (most recent call last):\n",
      "  File \"/home/user1/Documents/Bone-MRI/data_gen.py\", line 373, in generate_from_features\n",
      "    t1_masked = load_image(t1_image_file, t1_seg_file, verbose=verbose)\n",
      "  File \"/home/user1/Documents/Bone-MRI/data_gen.py\", line 324, in load_image\n",
      "    image, _ = nrrd.read(image_path)\n",
      "  File \"/home/user1/.local/share/virtualenvs/Bone-MRI-iLizu8rs/lib/python3.6/site-packages/nrrd/reader.py\", line 508, in read\n",
      "    data = read_data(header, fh, filename, index_order)\n",
      "  File \"/home/user1/.local/share/virtualenvs/Bone-MRI-iLizu8rs/lib/python3.6/site-packages/nrrd/reader.py\", line 457, in read_data\n",
      "    .format(total_data_points, data.size, total_data_points - data.size))\n",
      "nrrd.errors.NRRDError: Size of the data does not equal the product of all the dimensions: 3686400-1003560=2682840\n",
      "\n",
      "bone-penn-476\n",
      "Does this patient have T1 available? True\n",
      "I'm doing the thing.\n"
     ]
    },
    {
     "name": "stderr",
     "output_type": "stream",
     "text": [
      "\r",
      " 10%|█         | 73/710 [00:13<01:33,  6.85it/s]"
     ]
    },
    {
     "name": "stdout",
     "output_type": "stream",
     "text": [
      "bone-hup-117\n",
      "Does this patient have T1 available? True\n",
      "I'm doing the thing.\n",
      "bone-penn-142\n",
      "Does this patient have T1 available? True\n",
      "I'm doing the thing.\n"
     ]
    },
    {
     "name": "stderr",
     "output_type": "stream",
     "text": [
      "\r",
      " 11%|█         | 75/710 [00:14<01:25,  7.40it/s]"
     ]
    },
    {
     "name": "stderr",
     "output_type": "stream",
     "text": [
      "\r",
      " 11%|█         | 76/710 [00:14<01:32,  6.82it/s]"
     ]
    },
    {
     "name": "stdout",
     "output_type": "stream",
     "text": [
      "bone-penn-136\n",
      "Does this patient have T1 available? True\n",
      "I'm doing the thing.\n",
      "bone-china-013\n",
      "Does this patient have T1 available? True\n",
      "I'm doing the thing.\n"
     ]
    },
    {
     "name": "stderr",
     "output_type": "stream",
     "text": [
      "\r",
      " 11%|█         | 77/710 [00:14<01:34,  6.71it/s]"
     ]
    },
    {
     "name": "stdout",
     "output_type": "stream",
     "text": [
      "bone-penn-138\n",
      "Does this patient have T1 available? True\n",
      "I'm doing the thing.\n"
     ]
    },
    {
     "name": "stderr",
     "output_type": "stream",
     "text": [
      "\r",
      " 11%|█         | 78/710 [00:14<01:44,  6.05it/s]"
     ]
    },
    {
     "name": "stdout",
     "output_type": "stream",
     "text": [
      "bone-hup-291\n",
      "Does this patient have T1 available? True\n",
      "I'm doing the thing.\n"
     ]
    },
    {
     "name": "stderr",
     "output_type": "stream",
     "text": [
      "\r",
      " 11%|█         | 79/710 [00:14<01:52,  5.59it/s]"
     ]
    },
    {
     "name": "stdout",
     "output_type": "stream",
     "text": [
      "bone-hup-328\n",
      "Does this patient have T1 available? True\n",
      "I'm doing the thing.\n"
     ]
    },
    {
     "name": "stderr",
     "output_type": "stream",
     "text": [
      "\r",
      " 11%|█▏        | 80/710 [00:15<03:10,  3.30it/s]"
     ]
    },
    {
     "name": "stdout",
     "output_type": "stream",
     "text": [
      "bone-china-041\n",
      "Does this patient have T1 available? True\n",
      "I'm doing the thing.\n"
     ]
    },
    {
     "name": "stderr",
     "output_type": "stream",
     "text": [
      "\r",
      " 11%|█▏        | 81/710 [00:15<02:54,  3.60it/s]"
     ]
    },
    {
     "name": "stderr",
     "output_type": "stream",
     "text": [
      "\r",
      " 12%|█▏        | 82/710 [00:15<02:23,  4.39it/s]"
     ]
    },
    {
     "name": "stdout",
     "output_type": "stream",
     "text": [
      "bone-penn-560\n",
      "Does this patient have T1 available? True\n",
      "I'm doing the thing.\n",
      "bone-china-006\n",
      "Does this patient have T1 available? True\n",
      "I'm doing the thing.\n",
      "bone-penn-497\n",
      "Does this patient have T1 available? True\n",
      "I'm doing the thing.\n"
     ]
    },
    {
     "name": "stderr",
     "output_type": "stream",
     "text": [
      "\r",
      " 12%|█▏        | 84/710 [00:16<02:01,  5.15it/s]"
     ]
    },
    {
     "name": "stderr",
     "output_type": "stream",
     "text": [
      "\r",
      " 12%|█▏        | 85/710 [00:16<01:49,  5.69it/s]"
     ]
    },
    {
     "name": "stdout",
     "output_type": "stream",
     "text": [
      "bone-penn-143\n",
      "Does this patient have T1 available? True\n",
      "I'm doing the thing.\n",
      "bone-hup-116\n",
      "Does this patient have T1 available? True\n",
      "I'm doing the thing.\n"
     ]
    },
    {
     "name": "stderr",
     "output_type": "stream",
     "text": [
      "\r",
      " 12%|█▏        | 87/710 [00:16<01:37,  6.39it/s]"
     ]
    },
    {
     "name": "stdout",
     "output_type": "stream",
     "text": [
      "bone-penn-491\n",
      "Does this patient have T1 available? True\n",
      "I'm doing the thing.\n",
      "bone-penn-494\n",
      "Does this patient have T1 available? True\n",
      "I'm doing the thing.\n"
     ]
    },
    {
     "name": "stderr",
     "output_type": "stream",
     "text": [
      "\r",
      " 12%|█▏        | 88/710 [00:16<01:35,  6.55it/s]"
     ]
    },
    {
     "name": "stderr",
     "output_type": "stream",
     "text": [
      "\r",
      " 13%|█▎        | 89/710 [00:16<01:33,  6.67it/s]"
     ]
    },
    {
     "name": "stdout",
     "output_type": "stream",
     "text": [
      "bone-china-019\n",
      "Does this patient have T1 available? True\n",
      "I'm doing the thing.\n",
      "bone-penn-132\n",
      "Does this patient have T1 available? True\n",
      "I'm doing the thing.\n"
     ]
    },
    {
     "name": "stderr",
     "output_type": "stream",
     "text": [
      "\r",
      " 13%|█▎        | 90/710 [00:16<01:27,  7.11it/s]"
     ]
    },
    {
     "name": "stderr",
     "output_type": "stream",
     "text": [
      "\r",
      " 13%|█▎        | 91/710 [00:16<01:21,  7.57it/s]"
     ]
    },
    {
     "name": "stdout",
     "output_type": "stream",
     "text": [
      "bone-china-033\n",
      "Does this patient have T1 available? True\n",
      "I'm doing the thing.\n",
      "bone-penn-375\n",
      "Does this patient have T1 available? True\n",
      "I'm doing the thing.\n"
     ]
    },
    {
     "name": "stderr",
     "output_type": "stream",
     "text": [
      "\r",
      " 13%|█▎        | 92/710 [00:17<01:22,  7.53it/s]"
     ]
    },
    {
     "name": "stderr",
     "output_type": "stream",
     "text": [
      "\r",
      " 13%|█▎        | 93/710 [00:17<01:17,  8.01it/s]"
     ]
    },
    {
     "name": "stdout",
     "output_type": "stream",
     "text": [
      "bone-penn-456\n",
      "Does this patient have T1 available? True\n",
      "I'm doing the thing.\n",
      "bone-penn-474\n",
      "Does this patient have T1 available? True\n",
      "I'm doing the thing.\n",
      "bone-penn-323\n",
      "Does this patient have T1 available? False\n",
      "T1 image unavailable\n",
      "bone-hup-309\n",
      "Does this patient have T1 available? True\n",
      "I'm doing the thing.\n"
     ]
    },
    {
     "name": "stderr",
     "output_type": "stream",
     "text": [
      "\r",
      " 14%|█▎        | 96/710 [00:17<01:07,  9.14it/s]"
     ]
    },
    {
     "name": "stderr",
     "output_type": "stream",
     "text": [
      "\r",
      " 14%|█▎        | 97/710 [00:17<01:14,  8.18it/s]"
     ]
    },
    {
     "name": "stdout",
     "output_type": "stream",
     "text": [
      "bone-china-031\n",
      "Does this patient have T1 available? True\n",
      "I'm doing the thing.\n",
      "bone-penn-568\n",
      "Does this patient have T1 available? True\n",
      "I'm doing the thing.\n"
     ]
    },
    {
     "name": "stderr",
     "output_type": "stream",
     "text": [
      "\r",
      " 14%|█▍        | 98/710 [00:17<01:34,  6.47it/s]"
     ]
    },
    {
     "name": "stderr",
     "output_type": "stream",
     "text": [
      "\r",
      " 14%|█▍        | 99/710 [00:17<01:27,  7.01it/s]"
     ]
    },
    {
     "name": "stdout",
     "output_type": "stream",
     "text": [
      "bone-china-071\n",
      "Does this patient have T1 available? True\n",
      "I'm doing the thing.\n",
      "bone-penn-557\n",
      "Does this patient have T1 available? True\n",
      "I'm doing the thing.\n"
     ]
    },
    {
     "name": "stderr",
     "output_type": "stream",
     "text": [
      "\r",
      " 14%|█▍        | 100/710 [00:18<01:28,  6.88it/s]"
     ]
    },
    {
     "name": "stderr",
     "output_type": "stream",
     "text": [
      "\r",
      " 14%|█▍        | 101/710 [00:18<01:23,  7.28it/s]"
     ]
    },
    {
     "name": "stdout",
     "output_type": "stream",
     "text": [
      "bone-penn-315\n",
      "Does this patient have T1 available? True\n",
      "I'm doing the thing.\n",
      "bone-china-045\n",
      "Does this patient have T1 available? True\n",
      "I'm doing the thing.\n"
     ]
    },
    {
     "name": "stderr",
     "output_type": "stream",
     "text": [
      "\r",
      " 14%|█▍        | 102/710 [00:18<01:53,  5.34it/s]"
     ]
    },
    {
     "name": "stderr",
     "output_type": "stream",
     "text": [
      "\r",
      " 15%|█▍        | 104/710 [00:18<01:32,  6.56it/s]"
     ]
    },
    {
     "name": "stdout",
     "output_type": "stream",
     "text": [
      "bone-hup-276\n",
      "Does this patient have T1 available? True\n",
      "I'm doing the thing.\n",
      "bone-penn-131\n",
      "Does this patient have T1 available? True\n",
      "I'm doing the thing.\n",
      "bone-penn-158\n",
      "Does this patient have T1 available? True\n",
      "I'm doing the thing.\n"
     ]
    },
    {
     "name": "stderr",
     "output_type": "stream",
     "text": [
      "\r",
      " 15%|█▍        | 105/710 [00:18<01:25,  7.08it/s]"
     ]
    },
    {
     "name": "stdout",
     "output_type": "stream",
     "text": [
      "bone-hup-135\n",
      "Does this patient have T1 available? False\n",
      "T1 image unavailable\n",
      "bone-penn-140\n",
      "Does this patient have T1 available? True\n",
      "I'm doing the thing.\n",
      "bone-china-080\n",
      "Does this patient have T1 available? True\n",
      "I'm doing the thing.\n"
     ]
    },
    {
     "name": "stderr",
     "output_type": "stream",
     "text": [
      "\r",
      " 15%|█▌        | 108/710 [00:18<01:13,  8.19it/s]"
     ]
    },
    {
     "name": "stderr",
     "output_type": "stream",
     "text": [
      "\r",
      " 15%|█▌        | 109/710 [00:19<01:26,  6.98it/s]"
     ]
    },
    {
     "name": "stdout",
     "output_type": "stream",
     "text": [
      "bone-hup-266\n",
      "Does this patient have T1 available? True\n",
      "I'm doing the thing.\n",
      "bone-hup-142\n",
      "Does this patient have T1 available? True\n",
      "I'm doing the thing.\n"
     ]
    },
    {
     "name": "stderr",
     "output_type": "stream",
     "text": [
      "\r",
      " 15%|█▌        | 110/710 [00:19<01:48,  5.52it/s]"
     ]
    },
    {
     "name": "stderr",
     "output_type": "stream",
     "text": [
      "\r",
      " 16%|█▌        | 111/710 [00:19<01:44,  5.73it/s]"
     ]
    },
    {
     "name": "stdout",
     "output_type": "stream",
     "text": [
      "bone-penn-148\n",
      "Does this patient have T1 available? True\n",
      "I'm doing the thing.\n",
      "bone-china-020\n",
      "Does this patient have T1 available? True\n",
      "I'm doing the thing.\n"
     ]
    },
    {
     "name": "stderr",
     "output_type": "stream",
     "text": [
      "\r",
      " 16%|█▌        | 113/710 [00:19<01:23,  7.16it/s]"
     ]
    },
    {
     "name": "stderr",
     "output_type": "stream",
     "text": [
      "\r",
      " 16%|█▌        | 114/710 [00:19<01:17,  7.73it/s]"
     ]
    },
    {
     "name": "stdout",
     "output_type": "stream",
     "text": [
      "bone-china-029\n",
      "Does this patient have T1 available? True\n",
      "I'm doing the thing.\n",
      "bone-penn-391\n",
      "Does this patient have T1 available? True\n",
      "I'm doing the thing.\n",
      "bone-penn-155\n",
      "Does this patient have T1 available? True\n",
      "I'm doing the thing.\n"
     ]
    },
    {
     "name": "stdout",
     "output_type": "stream",
     "text": [
      "bone-hup-272\n",
      "Does this patient have T1 available? True\n",
      "I'm doing the thing.\n"
     ]
    },
    {
     "name": "stderr",
     "output_type": "stream",
     "text": [
      "\r",
      " 16%|█▋        | 116/710 [00:20<01:47,  5.50it/s]"
     ]
    },
    {
     "name": "stdout",
     "output_type": "stream",
     "text": [
      "bone-penn-490\n",
      "Does this patient have T1 available? True\n",
      "I'm doing the thing.\n"
     ]
    },
    {
     "name": "stderr",
     "output_type": "stream",
     "text": [
      "\r",
      " 16%|█▋        | 117/710 [00:20<02:40,  3.69it/s]"
     ]
    },
    {
     "name": "stdout",
     "output_type": "stream",
     "text": [
      "bone-penn-459\n",
      "Does this patient have T1 available? True\n",
      "I'm doing the thing.\n"
     ]
    },
    {
     "name": "stderr",
     "output_type": "stream",
     "text": [
      "\r",
      " 17%|█▋        | 118/710 [00:21<02:37,  3.77it/s]"
     ]
    },
    {
     "name": "stdout",
     "output_type": "stream",
     "text": [
      "bone-penn-566\n",
      "Does this patient have T1 available? True\n",
      "I'm doing the thing.\n"
     ]
    },
    {
     "name": "stderr",
     "output_type": "stream",
     "text": [
      "\r",
      " 17%|█▋        | 119/710 [00:21<02:33,  3.86it/s]"
     ]
    },
    {
     "name": "stdout",
     "output_type": "stream",
     "text": [
      "bone-china-089\n",
      "Does this patient have T1 available? True\n",
      "I'm doing the thing.\n",
      "bone-penn-591\n",
      "Does this patient have T1 available? True\n",
      "I'm doing the thing.\n"
     ]
    },
    {
     "name": "stderr",
     "output_type": "stream",
     "text": [
      "\r",
      " 17%|█▋        | 121/710 [00:21<02:37,  3.74it/s]"
     ]
    },
    {
     "name": "stderr",
     "output_type": "stream",
     "text": [
      "\r",
      " 17%|█▋        | 123/710 [00:22<02:06,  4.64it/s]"
     ]
    },
    {
     "name": "stdout",
     "output_type": "stream",
     "text": [
      "bone-hup-292\n",
      "Does this patient have T1 available? True\n",
      "I'm doing the thing.\n",
      "bone-china-081\n",
      "Does this patient have T1 available? True\n",
      "I'm doing the thing.\n",
      "bone-china-044\n",
      "Does this patient have T1 available? True\n",
      "I'm doing the thing.\n"
     ]
    },
    {
     "name": "stderr",
     "output_type": "stream",
     "text": [
      "\r",
      " 17%|█▋        | 124/710 [00:22<01:56,  5.02it/s]"
     ]
    },
    {
     "name": "stdout",
     "output_type": "stream",
     "text": [
      "bone-china-059\n",
      "Does this patient have T1 available? True\n",
      "I'm doing the thing.\n",
      "bone-hup-150\n",
      "Does this patient have T1 available? True\n",
      "I'm doing the thing.\n"
     ]
    },
    {
     "name": "stderr",
     "output_type": "stream",
     "text": [
      "\r",
      " 18%|█▊        | 126/710 [00:22<01:50,  5.30it/s]"
     ]
    },
    {
     "name": "stdout",
     "output_type": "stream",
     "text": [
      "bone-china-042\n",
      "Does this patient have T1 available? True\n",
      "I'm doing the thing.\n"
     ]
    },
    {
     "name": "stderr",
     "output_type": "stream",
     "text": [
      "\r",
      " 18%|█▊        | 127/710 [00:22<01:58,  4.93it/s]"
     ]
    },
    {
     "name": "stdout",
     "output_type": "stream",
     "text": [
      "bone-penn-134\n",
      "Does this patient have T1 available? True\n",
      "I'm doing the thing.\n"
     ]
    },
    {
     "name": "stderr",
     "output_type": "stream",
     "text": [
      "\r",
      " 18%|█▊        | 128/710 [00:23<02:34,  3.76it/s]"
     ]
    },
    {
     "name": "stdout",
     "output_type": "stream",
     "text": [
      "bone-hup-145\n",
      "Does this patient have T1 available? True\n",
      "I'm doing the thing.\n"
     ]
    },
    {
     "name": "stderr",
     "output_type": "stream",
     "text": [
      "\r",
      " 18%|█▊        | 129/710 [00:23<03:03,  3.16it/s]"
     ]
    },
    {
     "name": "stdout",
     "output_type": "stream",
     "text": [
      "bone-penn-612\n",
      "Does this patient have T1 available? True\n",
      "I'm doing the thing.\n"
     ]
    },
    {
     "name": "stderr",
     "output_type": "stream",
     "text": [
      "\r",
      " 18%|█▊        | 130/710 [00:24<03:43,  2.59it/s]"
     ]
    },
    {
     "name": "stdout",
     "output_type": "stream",
     "text": [
      "bone-china-068\n",
      "Does this patient have T1 available? True\n",
      "I'm doing the thing.\n",
      "bone-china-058\n",
      "Does this patient have T1 available? True\n",
      "I'm doing the thing.\n"
     ]
    },
    {
     "name": "stderr",
     "output_type": "stream",
     "text": [
      "\r",
      " 19%|█▊        | 132/710 [00:24<03:12,  3.00it/s]"
     ]
    },
    {
     "name": "stderr",
     "output_type": "stream",
     "text": [
      "\r",
      " 19%|█▊        | 133/710 [00:24<02:38,  3.64it/s]"
     ]
    },
    {
     "name": "stdout",
     "output_type": "stream",
     "text": [
      "bone-china-084\n",
      "Does this patient have T1 available? True\n",
      "I'm doing the thing.\n",
      "bone-hup-124\n",
      "Does this patient have T1 available? True\n",
      "I'm doing the thing.\n"
     ]
    },
    {
     "name": "stderr",
     "output_type": "stream",
     "text": [
      "\r",
      " 19%|█▉        | 134/710 [00:25<02:52,  3.34it/s]"
     ]
    },
    {
     "name": "stderr",
     "output_type": "stream",
     "text": [
      "\r",
      " 19%|█▉        | 135/710 [00:25<02:18,  4.17it/s]"
     ]
    },
    {
     "name": "stdout",
     "output_type": "stream",
     "text": [
      "bone-hup-271\n",
      "Does this patient have T1 available? True\n",
      "I'm doing the thing.\n",
      "bone-penn-127\n",
      "Does this patient have T1 available? True\n",
      "I'm doing the thing.\n"
     ]
    },
    {
     "name": "stderr",
     "output_type": "stream",
     "text": [
      "\r",
      " 19%|█▉        | 136/710 [00:25<01:54,  5.03it/s]"
     ]
    },
    {
     "name": "stdout",
     "output_type": "stream",
     "text": [
      "bone-penn-141\n",
      "Does this patient have T1 available? True\n",
      "I'm doing the thing.\n",
      "bone-penn-144\n",
      "Does this patient have T1 available? False\n",
      "T1 image unavailable\n",
      "bone-hup-324\n",
      "Does this patient have T1 available? False\n",
      "T1 image unavailable\n",
      "bone-china-062\n",
      "Does this patient have T1 available? True\n",
      "I'm doing the thing.\n"
     ]
    },
    {
     "name": "stderr",
     "output_type": "stream",
     "text": [
      "\r",
      " 20%|█▉        | 140/710 [00:25<01:33,  6.07it/s]"
     ]
    },
    {
     "name": "stderr",
     "output_type": "stream",
     "text": [
      "\r",
      " 20%|██        | 142/710 [00:25<01:16,  7.39it/s]"
     ]
    },
    {
     "name": "stdout",
     "output_type": "stream",
     "text": [
      "bone-penn-287\n",
      "Does this patient have T1 available? True\n",
      "I'm doing the thing.\n",
      "bone-hup-151\n",
      "Does this patient have T1 available? True\n",
      "I'm doing the thing.\n",
      "bone-hup-306\n",
      "Does this patient have T1 available? True\n",
      "I'm doing the thing.\n"
     ]
    },
    {
     "name": "stderr",
     "output_type": "stream",
     "text": [
      "\r",
      " 20%|██        | 144/710 [00:26<01:26,  6.54it/s]"
     ]
    },
    {
     "name": "stdout",
     "output_type": "stream",
     "text": [
      "bone-china-090\n",
      "Does this patient have T1 available? True\n",
      "I'm doing the thing.\n",
      "bone-penn-569\n",
      "Does this patient have T1 available? True\n",
      "I'm doing the thing.\n"
     ]
    },
    {
     "name": "stderr",
     "output_type": "stream",
     "text": [
      "\r",
      " 20%|██        | 145/710 [00:27<03:57,  2.38it/s]"
     ]
    },
    {
     "name": "stderr",
     "output_type": "stream",
     "text": [
      "\r",
      " 21%|██        | 147/710 [00:27<02:54,  3.23it/s]"
     ]
    },
    {
     "name": "stdout",
     "output_type": "stream",
     "text": [
      "bone-penn-421\n",
      "Does this patient have T1 available? False\n",
      "T1 image unavailable\n",
      "bone-hup-257\n",
      "Does this patient have T1 available? True\n",
      "I'm doing the thing.\n",
      "bone-penn-551\n",
      "Does this patient have T1 available? True\n",
      "I'm doing the thing.\n",
      "bone-hup-308\n",
      "Does this patient have T1 available? True\n",
      "I'm doing the thing.\n"
     ]
    },
    {
     "name": "stderr",
     "output_type": "stream",
     "text": [
      "\r",
      " 21%|██        | 149/710 [00:27<02:28,  3.78it/s]"
     ]
    },
    {
     "name": "stderr",
     "output_type": "stream",
     "text": [
      "\r",
      " 21%|██        | 150/710 [00:27<02:09,  4.33it/s]"
     ]
    },
    {
     "name": "stdout",
     "output_type": "stream",
     "text": [
      "bone-penn-471\n",
      "Does this patient have T1 available? True\n",
      "I'm doing the thing.\n",
      "bone-hup-298\n",
      "Does this patient have T1 available? True\n",
      "I'm doing the thing.\n"
     ]
    },
    {
     "name": "stderr",
     "output_type": "stream",
     "text": [
      "\r",
      " 21%|██▏       | 151/710 [00:28<02:08,  4.36it/s]"
     ]
    },
    {
     "name": "stderr",
     "output_type": "stream",
     "text": [
      "\r",
      " 21%|██▏       | 152/710 [00:28<01:59,  4.65it/s]"
     ]
    },
    {
     "name": "stdout",
     "output_type": "stream",
     "text": [
      "bone-hup-137\n",
      "Does this patient have T1 available? True\n",
      "I'm doing the thing.\n",
      "bone-hup-157\n",
      "Does this patient have T1 available? True\n",
      "I'm doing the thing.\n"
     ]
    },
    {
     "name": "stderr",
     "output_type": "stream",
     "text": [
      "\r",
      " 22%|██▏       | 153/710 [00:28<02:40,  3.47it/s]"
     ]
    },
    {
     "name": "stdout",
     "output_type": "stream",
     "text": [
      "bone-hup-163\n",
      "Does this patient have T1 available? False\n",
      "T1 image unavailable\n",
      "bone-hup-134\n",
      "Does this patient have T1 available? True\n",
      "I'm doing the thing.\n"
     ]
    },
    {
     "name": "stderr",
     "output_type": "stream",
     "text": [
      "\r",
      " 22%|██▏       | 155/710 [00:28<02:17,  4.04it/s]"
     ]
    },
    {
     "name": "stderr",
     "output_type": "stream",
     "text": [
      "\r",
      " 22%|██▏       | 156/710 [00:29<02:00,  4.62it/s]"
     ]
    },
    {
     "name": "stdout",
     "output_type": "stream",
     "text": [
      "bone-penn-558\n",
      "Does this patient have T1 available? True\n",
      "I'm doing the thing.\n",
      "bone-china-026\n",
      "Does this patient have T1 available? True\n",
      "I'm doing the thing.\n"
     ]
    },
    {
     "name": "stderr",
     "output_type": "stream",
     "text": [
      "\r",
      " 22%|██▏       | 158/710 [00:29<01:37,  5.69it/s]"
     ]
    },
    {
     "name": "stdout",
     "output_type": "stream",
     "text": [
      "bone-china-030\n",
      "Does this patient have T1 available? True\n",
      "I'm doing the thing.\n",
      "bone-penn-304\n",
      "Does this patient have T1 available? True\n",
      "I'm doing the thing.\n",
      "bone-hup-131\n",
      "Does this patient have T1 available? True\n",
      "I'm doing the thing.\n"
     ]
    },
    {
     "name": "stderr",
     "output_type": "stream",
     "text": [
      "\r",
      " 23%|██▎       | 160/710 [00:29<02:04,  4.42it/s]"
     ]
    },
    {
     "name": "stdout",
     "output_type": "stream",
     "text": [
      "bone-hup-326\n",
      "Does this patient have T1 available? True\n",
      "I'm doing the thing.\n"
     ]
    },
    {
     "name": "stderr",
     "output_type": "stream",
     "text": [
      "\r",
      " 23%|██▎       | 161/710 [00:30<03:19,  2.75it/s]"
     ]
    },
    {
     "name": "stdout",
     "output_type": "stream",
     "text": [
      "bone-hup-290\n",
      "Does this patient have T1 available? True\n",
      "I'm doing the thing.\n"
     ]
    },
    {
     "name": "stderr",
     "output_type": "stream",
     "text": [
      "\r",
      " 23%|██▎       | 162/710 [00:30<02:58,  3.07it/s]"
     ]
    },
    {
     "name": "stderr",
     "output_type": "stream",
     "text": [
      "\r",
      " 23%|██▎       | 164/710 [00:31<02:18,  3.94it/s]"
     ]
    },
    {
     "name": "stdout",
     "output_type": "stream",
     "text": [
      "bone-penn-153\n",
      "Does this patient have T1 available? True\n",
      "I'm doing the thing.\n",
      "bone-penn-289\n",
      "Does this patient have T1 available? True\n",
      "I'm doing the thing.\n",
      "bone-hup-265\n",
      "Does this patient have T1 available? True\n",
      "I'm doing the thing.\n"
     ]
    },
    {
     "name": "stderr",
     "output_type": "stream",
     "text": [
      "\r",
      " 23%|██▎       | 165/710 [00:31<02:02,  4.47it/s]"
     ]
    },
    {
     "name": "stderr",
     "output_type": "stream",
     "text": [
      "\r",
      " 24%|██▎       | 167/710 [00:31<01:35,  5.71it/s]"
     ]
    },
    {
     "name": "stdout",
     "output_type": "stream",
     "text": [
      "bone-hup-293\n",
      "Does this patient have T1 available? True\n",
      "I'm doing the thing.\n",
      "bone-penn-137\n",
      "Does this patient have T1 available? True\n",
      "I'm doing the thing.\n",
      "bone-china-035\n",
      "Does this patient have T1 available? True\n",
      "I'm doing the thing.\n",
      "bone-penn-348\n",
      "Does this patient have T1 available? True\n",
      "I'm doing the thing.\n"
     ]
    },
    {
     "name": "stderr",
     "output_type": "stream",
     "text": [
      "\r",
      " 24%|██▍       | 169/710 [00:31<01:26,  6.28it/s]"
     ]
    },
    {
     "name": "stderr",
     "output_type": "stream",
     "text": [
      "\r",
      " 24%|██▍       | 171/710 [00:31<01:13,  7.31it/s]"
     ]
    },
    {
     "name": "stdout",
     "output_type": "stream",
     "text": [
      "bone-hup-161\n",
      "Does this patient have T1 available? True\n",
      "I'm doing the thing.\n",
      "bone-hup-327\n",
      "Does this patient have T1 available? True\n",
      "I'm doing the thing.\n",
      "bone-penn-361\n",
      "Does this patient have T1 available? False\n",
      "T1 image unavailable\n",
      "bone-china-085\n",
      "Does this patient have T1 available? True\n",
      "I'm doing the thing.\n"
     ]
    },
    {
     "name": "stderr",
     "output_type": "stream",
     "text": [
      "\r",
      " 25%|██▍       | 174/710 [00:31<01:01,  8.76it/s]"
     ]
    },
    {
     "name": "stdout",
     "output_type": "stream",
     "text": [
      "bone-china-021\n",
      "Does this patient have T1 available? True\n",
      "I'm doing the thing.\n",
      "bone-china-077\n",
      "Does this patient have T1 available? True\n",
      "I'm doing the thing.\n",
      "bone-penn-559\n",
      "Does this patient have T1 available? True\n",
      "I'm doing the thing.\n"
     ]
    },
    {
     "name": "stderr",
     "output_type": "stream",
     "text": [
      "\r",
      " 25%|██▍       | 176/710 [00:32<00:54,  9.82it/s]"
     ]
    },
    {
     "name": "stdout",
     "output_type": "stream",
     "text": [
      "bone-china-048\n",
      "Does this patient have T1 available? False\n",
      "T1 image unavailable\n",
      "bone-penn-130\n",
      "Does this patient have T1 available? True\n",
      "I'm doing the thing.\n"
     ]
    },
    {
     "name": "stderr",
     "output_type": "stream",
     "text": [
      "\r",
      " 25%|██▌       | 178/710 [00:32<00:54,  9.74it/s]"
     ]
    },
    {
     "name": "stdout",
     "output_type": "stream",
     "text": [
      "bone-china-047\n",
      "Does this patient have T1 available? True\n",
      "I'm doing the thing.\n"
     ]
    },
    {
     "name": "stderr",
     "output_type": "stream",
     "text": [
      "\r",
      " 25%|██▌       | 180/710 [00:32<01:11,  7.45it/s]"
     ]
    },
    {
     "name": "stdout",
     "output_type": "stream",
     "text": [
      "bone-china-060\n",
      "Does this patient have T1 available? True\n",
      "I'm doing the thing.\n",
      "bone-china-027\n",
      "Does this patient have T1 available? True\n",
      "I'm doing the thing.\n"
     ]
    },
    {
     "name": "stderr",
     "output_type": "stream",
     "text": [
      "\r",
      " 25%|██▌       | 181/710 [00:32<01:08,  7.73it/s]"
     ]
    },
    {
     "name": "stderr",
     "output_type": "stream",
     "text": [
      "\r",
      " 26%|██▌       | 182/710 [00:33<01:19,  6.64it/s]"
     ]
    },
    {
     "name": "stdout",
     "output_type": "stream",
     "text": [
      "bone-china-087\n",
      "Does this patient have T1 available? True\n",
      "I'm doing the thing.\n",
      "bone-china-050\n",
      "Does this patient have T1 available? True\n",
      "I'm doing the thing.\n"
     ]
    },
    {
     "name": "stderr",
     "output_type": "stream",
     "text": [
      "\r",
      " 26%|██▌       | 183/710 [00:33<01:11,  7.38it/s]"
     ]
    },
    {
     "name": "stdout",
     "output_type": "stream",
     "text": [
      "bone-china-072\n",
      "Does this patient have T1 available? True\n",
      "I'm doing the thing.\n"
     ]
    },
    {
     "name": "stderr",
     "output_type": "stream",
     "text": [
      "\r",
      " 26%|██▌       | 184/710 [00:33<01:27,  6.02it/s]"
     ]
    },
    {
     "name": "stderr",
     "output_type": "stream",
     "text": [
      "\r",
      " 26%|██▌       | 185/710 [00:33<01:25,  6.16it/s]"
     ]
    },
    {
     "name": "stdout",
     "output_type": "stream",
     "text": [
      "bone-penn-149\n",
      "Does this patient have T1 available? True\n",
      "I'm doing the thing.\n",
      "bone-china-004\n",
      "Does this patient have T1 available? True\n",
      "I'm doing the thing.\n"
     ]
    },
    {
     "name": "stderr",
     "output_type": "stream",
     "text": [
      "\r",
      " 26%|██▌       | 186/710 [00:33<01:16,  6.82it/s]"
     ]
    },
    {
     "name": "stdout",
     "output_type": "stream",
     "text": [
      "bone-hup-318\n",
      "Does this patient have T1 available? True\n",
      "I'm doing the thing.\n"
     ]
    },
    {
     "name": "stderr",
     "output_type": "stream",
     "text": [
      "\r",
      " 26%|██▋       | 187/710 [00:34<03:03,  2.85it/s]"
     ]
    },
    {
     "name": "stdout",
     "output_type": "stream",
     "text": [
      "bone-penn-495\n",
      "Does this patient have T1 available? True\n",
      "I'm doing the thing.\n"
     ]
    },
    {
     "name": "stderr",
     "output_type": "stream",
     "text": [
      "\r",
      " 26%|██▋       | 188/710 [00:34<03:25,  2.54it/s]"
     ]
    },
    {
     "name": "stdout",
     "output_type": "stream",
     "text": [
      "bone-hup-146\n",
      "Does this patient have T1 available? True\n",
      "I'm doing the thing.\n",
      "bone-penn-303\n",
      "Does this patient have T1 available? True\n",
      "I'm doing the thing.\n"
     ]
    },
    {
     "name": "stderr",
     "output_type": "stream",
     "text": [
      "\r",
      " 27%|██▋       | 190/710 [00:35<02:42,  3.21it/s]"
     ]
    },
    {
     "name": "stderr",
     "output_type": "stream",
     "text": [
      "\r",
      " 27%|██▋       | 191/710 [00:35<02:15,  3.84it/s]"
     ]
    },
    {
     "name": "stdout",
     "output_type": "stream",
     "text": [
      "bone-penn-246\n",
      "Does this patient have T1 available? True\n",
      "I'm doing the thing.\n",
      "bone-hup-143\n",
      "Does this patient have T1 available? True\n",
      "I'm doing the thing.\n"
     ]
    },
    {
     "name": "stdout",
     "output_type": "stream",
     "text": [
      "bone-penn-84\n",
      "Does this patient have T1 available? True\n",
      "I'm doing the thing.\n"
     ]
    },
    {
     "name": "stderr",
     "output_type": "stream",
     "text": [
      "\r",
      " 27%|██▋       | 193/710 [00:35<02:10,  3.98it/s]"
     ]
    },
    {
     "name": "stderr",
     "output_type": "stream",
     "text": [
      "\r",
      " 28%|██▊       | 197/710 [00:35<01:35,  5.35it/s]"
     ]
    },
    {
     "name": "stdout",
     "output_type": "stream",
     "text": [
      "bone-hup-201\n",
      "Does this patient have T1 available? True\n",
      "I'm doing the thing.\n",
      "bone-penn-325\n",
      "Does this patient have T1 available? False\n",
      "T1 image unavailable\n",
      "bone-china-102\n",
      "Does this patient have T1 available? False\n",
      "T1 image unavailable\n",
      "bone-china-206\n",
      "Does this patient have T1 available? True\n",
      "I'm doing the thing.\n",
      "bone-penn-92\n",
      "Does this patient have T1 available? False\n",
      "T1 image unavailable\n",
      "bone-penn-262\n",
      "Does this patient have T1 available? True\n",
      "I'm doing the thing.\n"
     ]
    },
    {
     "name": "stderr",
     "output_type": "stream",
     "text": [
      "\r",
      " 28%|██▊       | 199/710 [00:36<01:28,  5.80it/s]"
     ]
    },
    {
     "name": "stdout",
     "output_type": "stream",
     "text": [
      "bone-penn-504\n",
      "Does this patient have T1 available? True\n",
      "I'm doing the thing.\n",
      "bone-penn-330\n",
      "Does this patient have T1 available? True\n",
      "I'm doing the thing.\n"
     ]
    },
    {
     "name": "stderr",
     "output_type": "stream",
     "text": [
      "\r",
      " 28%|██▊       | 201/710 [00:36<01:34,  5.41it/s]"
     ]
    },
    {
     "name": "stderr",
     "output_type": "stream",
     "text": [
      "\r",
      " 29%|██▊       | 203/710 [00:36<01:13,  6.90it/s]"
     ]
    },
    {
     "name": "stdout",
     "output_type": "stream",
     "text": [
      "bone-penn-371\n",
      "Does this patient have T1 available? False\n",
      "T1 image unavailable\n",
      "bone-hup-77\n",
      "Does this patient have T1 available? True\n",
      "I'm doing the thing.\n",
      "bone-penn-260\n",
      "Does this patient have T1 available? True\n",
      "I'm doing the thing.\n",
      "bone-penn-469\n",
      "Does this patient have T1 available? True\n",
      "I'm doing the thing.\n"
     ]
    },
    {
     "name": "stderr",
     "output_type": "stream",
     "text": [
      "\r",
      " 29%|██▉       | 205/710 [00:37<01:15,  6.70it/s]"
     ]
    },
    {
     "name": "stdout",
     "output_type": "stream",
     "text": [
      "bone-china-190\n",
      "Does this patient have T1 available? True\n",
      "I'm doing the thing.\n",
      "bone-hup-71\n",
      "Does this patient have T1 available? True\n",
      "I'm doing the thing.\n"
     ]
    },
    {
     "name": "stderr",
     "output_type": "stream",
     "text": [
      "\r",
      " 29%|██▉       | 207/710 [00:37<01:44,  4.81it/s]"
     ]
    },
    {
     "name": "stdout",
     "output_type": "stream",
     "text": [
      "bone-penn-299\n",
      "Does this patient have T1 available? True\n",
      "I'm doing the thing.\n"
     ]
    },
    {
     "name": "stderr",
     "output_type": "stream",
     "text": [
      "\r",
      " 29%|██▉       | 208/710 [00:37<01:43,  4.85it/s]"
     ]
    },
    {
     "name": "stderr",
     "output_type": "stream",
     "text": [
      "\r",
      " 29%|██▉       | 209/710 [00:38<01:41,  4.96it/s]"
     ]
    },
    {
     "name": "stdout",
     "output_type": "stream",
     "text": [
      "bone-penn-528\n",
      "Does this patient have T1 available? True\n",
      "I'm doing the thing.\n",
      "bone-penn-631\n",
      "Does this patient have T1 available? True\n",
      "I'm doing the thing.\n"
     ]
    },
    {
     "name": "stderr",
     "output_type": "stream",
     "text": [
      "\r",
      " 30%|██▉       | 210/710 [00:38<01:32,  5.40it/s]"
     ]
    },
    {
     "name": "stderr",
     "output_type": "stream",
     "text": [
      "\r",
      " 30%|██▉       | 211/710 [00:38<01:29,  5.59it/s]"
     ]
    },
    {
     "name": "stdout",
     "output_type": "stream",
     "text": [
      "bone-hup-219\n",
      "Does this patient have T1 available? True\n",
      "I'm doing the thing.\n",
      "bone-penn-466\n",
      "Does this patient have T1 available? True\n",
      "I'm doing the thing.\n"
     ]
    },
    {
     "name": "stderr",
     "output_type": "stream",
     "text": [
      "\r",
      " 30%|██▉       | 212/710 [00:39<02:20,  3.54it/s]"
     ]
    },
    {
     "name": "stdout",
     "output_type": "stream",
     "text": [
      "bone-hup-284\n",
      "Does this patient have T1 available? False\n",
      "T1 image unavailable\n",
      "bone-penn-107\n",
      "Does this patient have T1 available? True\n",
      "I'm doing the thing.\n"
     ]
    },
    {
     "name": "stderr",
     "output_type": "stream",
     "text": [
      "\r",
      " 30%|███       | 214/710 [00:39<02:00,  4.13it/s]"
     ]
    },
    {
     "name": "stdout",
     "output_type": "stream",
     "text": [
      "bone-hup-105\n",
      "Does this patient have T1 available? True\n",
      "I'm doing the thing.\n"
     ]
    },
    {
     "name": "stderr",
     "output_type": "stream",
     "text": [
      "\r",
      " 30%|███       | 215/710 [00:39<01:59,  4.13it/s]"
     ]
    },
    {
     "name": "stderr",
     "output_type": "stream",
     "text": [
      "\r",
      " 30%|███       | 216/710 [00:39<01:44,  4.74it/s]"
     ]
    },
    {
     "name": "stdout",
     "output_type": "stream",
     "text": [
      "bone-china-169\n",
      "Does this patient have T1 available? True\n",
      "I'm doing the thing.\n",
      "bone-hup-2\n",
      "Does this patient have T1 available? True\n",
      "I'm doing the thing.\n"
     ]
    },
    {
     "name": "stderr",
     "output_type": "stream",
     "text": [
      "\r",
      " 31%|███       | 217/710 [00:39<01:32,  5.34it/s]"
     ]
    },
    {
     "name": "stdout",
     "output_type": "stream",
     "text": [
      "bone-hup-283\n",
      "Does this patient have T1 available? True\n",
      "I'm doing the thing.\n"
     ]
    },
    {
     "name": "stderr",
     "output_type": "stream",
     "text": [
      "\r",
      " 31%|███       | 218/710 [00:40<01:45,  4.66it/s]"
     ]
    },
    {
     "name": "stdout",
     "output_type": "stream",
     "text": [
      "bone-china-243\n",
      "Does this patient have T1 available? True\n",
      "I'm doing the thing.\n"
     ]
    },
    {
     "name": "stderr",
     "output_type": "stream",
     "text": [
      "\r",
      " 31%|███       | 219/710 [00:40<01:50,  4.45it/s]"
     ]
    },
    {
     "name": "stdout",
     "output_type": "stream",
     "text": [
      "bone-hup-84\n",
      "Does this patient have T1 available? True\n",
      "I'm doing the thing.\n"
     ]
    },
    {
     "name": "stderr",
     "output_type": "stream",
     "text": [
      "\r",
      " 31%|███       | 220/710 [00:40<02:23,  3.41it/s]"
     ]
    },
    {
     "name": "stderr",
     "output_type": "stream",
     "text": [
      "\r",
      " 31%|███▏      | 223/710 [00:40<01:49,  4.45it/s]"
     ]
    },
    {
     "name": "stdout",
     "output_type": "stream",
     "text": [
      "bone-penn-123\n",
      "Does this patient have T1 available? False\n",
      "T1 image unavailable\n",
      "bone-hup-108\n",
      "Does this patient have T1 available? True\n",
      "I'm doing the thing.\n",
      "bone-china-136\n",
      "Does this patient have T1 available? True\n",
      "I'm doing the thing.\n",
      "bone-penn-185\n",
      "Does this patient have T1 available? True\n",
      "I'm doing the thing.\n"
     ]
    },
    {
     "name": "stderr",
     "output_type": "stream",
     "text": [
      "\r",
      " 32%|███▏      | 224/710 [00:41<01:54,  4.24it/s]"
     ]
    },
    {
     "name": "stderr",
     "output_type": "stream",
     "text": [
      "\r",
      " 32%|███▏      | 226/710 [00:41<01:32,  5.21it/s]"
     ]
    },
    {
     "name": "stdout",
     "output_type": "stream",
     "text": [
      "bone-penn-483\n",
      "Does this patient have T1 available? False\n",
      "T1 image unavailable\n",
      "bone-penn-620\n",
      "Does this patient have T1 available? True\n",
      "I'm doing the thing.\n",
      "bone-penn-467\n",
      "Does this patient have T1 available? True\n",
      "I'm doing the thing.\n"
     ]
    },
    {
     "name": "stdout",
     "output_type": "stream",
     "text": [
      "bone-penn-462\n",
      "Does this patient have T1 available? True\n",
      "I'm doing the thing.\n"
     ]
    },
    {
     "name": "stderr",
     "output_type": "stream",
     "text": [
      "\r",
      " 32%|███▏      | 228/710 [00:41<01:33,  5.16it/s]"
     ]
    },
    {
     "name": "stdout",
     "output_type": "stream",
     "text": [
      "bone-penn-259\n",
      "Does this patient have T1 available? True\n",
      "I'm doing the thing.\n",
      "bone-penn-523\n",
      "Does this patient have T1 available? True\n",
      "I'm doing the thing.\n"
     ]
    },
    {
     "name": "stderr",
     "output_type": "stream",
     "text": [
      "\r",
      " 32%|███▏      | 230/710 [00:42<01:27,  5.46it/s]"
     ]
    },
    {
     "name": "stdout",
     "output_type": "stream",
     "text": [
      "bone-hup-243\n",
      "Does this patient have T1 available? False\n",
      "T1 image unavailable\n",
      "bone-hup-110\n",
      "Does this patient have T1 available? True\n",
      "I'm doing the thing.\n"
     ]
    },
    {
     "name": "stderr",
     "output_type": "stream",
     "text": [
      "\r",
      " 33%|███▎      | 232/710 [00:42<01:20,  5.95it/s]"
     ]
    },
    {
     "name": "stderr",
     "output_type": "stream",
     "text": [
      "\r",
      " 33%|███▎      | 235/710 [00:42<01:04,  7.32it/s]"
     ]
    },
    {
     "name": "stdout",
     "output_type": "stream",
     "text": [
      "bone-hup-208\n",
      "Does this patient have T1 available? True\n",
      "I'm doing the thing.\n",
      "bone-penn-276\n",
      "Does this patient have T1 available? False\n",
      "T1 image unavailable\n",
      "bone-hup-203\n",
      "Does this patient have T1 available? True\n",
      "I'm doing the thing.\n",
      "bone-china-100\n",
      "Does this patient have T1 available? True\n",
      "I'm doing the thing.\n"
     ]
    },
    {
     "name": "stderr",
     "output_type": "stream",
     "text": [
      "\r",
      " 33%|███▎      | 236/710 [00:42<01:07,  6.97it/s]"
     ]
    },
    {
     "name": "stdout",
     "output_type": "stream",
     "text": [
      "bone-penn-197\n",
      "Does this patient have T1 available? True\n",
      "I'm doing the thing.\n"
     ]
    },
    {
     "name": "stderr",
     "output_type": "stream",
     "text": [
      "\r",
      " 33%|███▎      | 237/710 [00:43<01:23,  5.68it/s]"
     ]
    },
    {
     "name": "stderr",
     "output_type": "stream",
     "text": [
      "\r",
      " 34%|███▎      | 238/710 [00:43<01:19,  5.92it/s]"
     ]
    },
    {
     "name": "stdout",
     "output_type": "stream",
     "text": [
      "bone-china-143\n",
      "Does this patient have T1 available? True\n",
      "I'm doing the thing.\n",
      "bone-penn-176\n",
      "Does this patient have T1 available? True\n",
      "I'm doing the thing.\n"
     ]
    },
    {
     "name": "stderr",
     "output_type": "stream",
     "text": [
      "\r",
      " 34%|███▎      | 239/710 [00:43<01:27,  5.41it/s]"
     ]
    },
    {
     "name": "stdout",
     "output_type": "stream",
     "text": [
      "bone-penn-540\n",
      "Does this patient have T1 available? True\n",
      "I'm doing the thing.\n"
     ]
    },
    {
     "name": "stderr",
     "output_type": "stream",
     "text": [
      "\r",
      " 34%|███▍      | 240/710 [00:43<01:31,  5.14it/s]"
     ]
    },
    {
     "name": "stderr",
     "output_type": "stream",
     "text": [
      "\r",
      " 34%|███▍      | 241/710 [00:43<01:29,  5.24it/s]"
     ]
    },
    {
     "name": "stdout",
     "output_type": "stream",
     "text": [
      "bone-penn-519\n",
      "Does this patient have T1 available? True\n",
      "I'm doing the thing.\n",
      "bone-hup-179\n",
      "Does this patient have T1 available? True\n",
      "I'm doing the thing.\n"
     ]
    },
    {
     "name": "stderr",
     "output_type": "stream",
     "text": [
      "\r",
      " 34%|███▍      | 242/710 [00:44<01:47,  4.35it/s]"
     ]
    },
    {
     "name": "stderr",
     "output_type": "stream",
     "text": [
      "\r",
      " 34%|███▍      | 243/710 [00:44<01:43,  4.52it/s]"
     ]
    },
    {
     "name": "stdout",
     "output_type": "stream",
     "text": [
      "bone-china-127\n",
      "Does this patient have T1 available? True\n",
      "I'm doing the thing.\n",
      "bone-penn-243\n",
      "Does this patient have T1 available? False\n",
      "T1 image unavailable\n",
      "bone-penn-570\n",
      "Does this patient have T1 available? False\n",
      "T1 image unavailable\n",
      "bone-penn-116\n",
      "Does this patient have T1 available? True\n",
      "I'm doing the thing.\n"
     ]
    },
    {
     "name": "stderr",
     "output_type": "stream",
     "text": [
      "\r",
      " 35%|███▍      | 246/710 [00:44<01:24,  5.48it/s]"
     ]
    },
    {
     "name": "stdout",
     "output_type": "stream",
     "text": [
      "bone-penn-526\n",
      "Does this patient have T1 available? True\n",
      "I'm doing the thing.\n",
      "bone-penn-354\n",
      "Does this patient have T1 available? True\n",
      "I'm doing the thing.\n"
     ]
    },
    {
     "name": "stderr",
     "output_type": "stream",
     "text": [
      "\r",
      " 35%|███▍      | 248/710 [00:44<01:21,  5.70it/s]"
     ]
    },
    {
     "name": "stdout",
     "output_type": "stream",
     "text": [
      "bone-china-148\n",
      "Does this patient have T1 available? True\n",
      "I'm doing the thing.\n"
     ]
    },
    {
     "name": "stderr",
     "output_type": "stream",
     "text": [
      "\r",
      " 35%|███▌      | 249/710 [00:45<01:28,  5.20it/s]"
     ]
    },
    {
     "name": "stderr",
     "output_type": "stream",
     "text": [
      "\r",
      " 35%|███▌      | 250/710 [00:45<01:23,  5.50it/s]"
     ]
    },
    {
     "name": "stdout",
     "output_type": "stream",
     "text": [
      "bone-penn-95\n",
      "Does this patient have T1 available? True\n",
      "I'm doing the thing.\n",
      "bone-penn-423\n",
      "Does this patient have T1 available? True\n",
      "I'm doing the thing.\n"
     ]
    },
    {
     "name": "stderr",
     "output_type": "stream",
     "text": [
      "\r",
      " 35%|███▌      | 251/710 [00:45<01:55,  3.98it/s]"
     ]
    },
    {
     "name": "stderr",
     "output_type": "stream",
     "text": [
      "\r",
      " 36%|███▌      | 253/710 [00:45<01:27,  5.21it/s]"
     ]
    },
    {
     "name": "stdout",
     "output_type": "stream",
     "text": [
      "bone-penn-327\n",
      "Does this patient have T1 available? False\n",
      "T1 image unavailable\n",
      "bone-china-228\n",
      "Does this patient have T1 available? True\n",
      "I'm doing the thing.\n",
      "bone-penn-219\n",
      "Does this patient have T1 available? True\n",
      "I'm doing the thing.\n"
     ]
    },
    {
     "name": "stderr",
     "output_type": "stream",
     "text": [
      "\r",
      " 36%|███▌      | 254/710 [00:46<01:33,  4.87it/s]"
     ]
    },
    {
     "name": "stderr",
     "output_type": "stream",
     "text": [
      "\r",
      " 36%|███▌      | 255/710 [00:46<01:26,  5.27it/s]"
     ]
    },
    {
     "name": "stdout",
     "output_type": "stream",
     "text": [
      "bone-penn-258\n",
      "Does this patient have T1 available? True\n",
      "I'm doing the thing.\n",
      "bone-hup-180\n",
      "Does this patient have T1 available? True\n",
      "I'm doing the thing.\n"
     ]
    },
    {
     "name": "stderr",
     "output_type": "stream",
     "text": [
      "\r",
      " 36%|███▌      | 256/710 [00:46<01:29,  5.08it/s]"
     ]
    },
    {
     "name": "stderr",
     "output_type": "stream",
     "text": [
      "\r",
      " 36%|███▌      | 257/710 [00:46<01:23,  5.39it/s]"
     ]
    },
    {
     "name": "stdout",
     "output_type": "stream",
     "text": [
      "bone-penn-484\n",
      "Does this patient have T1 available? True\n",
      "I'm doing the thing.\n",
      "bone-china-175\n",
      "Does this patient have T1 available? True\n",
      "I'm doing the thing.\n"
     ]
    },
    {
     "name": "stderr",
     "output_type": "stream",
     "text": [
      "\r",
      " 36%|███▋      | 258/710 [00:46<01:17,  5.86it/s]"
     ]
    },
    {
     "name": "stderr",
     "output_type": "stream",
     "text": [
      "\r",
      " 36%|███▋      | 259/710 [00:46<01:08,  6.54it/s]"
     ]
    },
    {
     "name": "stdout",
     "output_type": "stream",
     "text": [
      "bone-penn-486\n",
      "Does this patient have T1 available? True\n",
      "I'm doing the thing.\n",
      "bone-penn-377\n",
      "Does this patient have T1 available? True\n",
      "I'm doing the thing.\n",
      "bone-penn-475\n",
      "Does this patient have T1 available? True\n",
      "I'm doing the thing.\n"
     ]
    },
    {
     "name": "stderr",
     "output_type": "stream",
     "text": [
      "\r",
      " 37%|███▋      | 261/710 [00:46<00:57,  7.77it/s]"
     ]
    },
    {
     "name": "stdout",
     "output_type": "stream",
     "text": [
      "bone-penn-318\n",
      "Does this patient have T1 available? False\n",
      "T1 image unavailable\n",
      "bone-penn-305\n",
      "Does this patient have T1 available? True\n",
      "I'm doing the thing.\n",
      "bone-penn-387\n",
      "Does this patient have T1 available? True\n",
      "I'm doing the thing.\n"
     ]
    },
    {
     "name": "stderr",
     "output_type": "stream",
     "text": [
      "\r",
      " 37%|███▋      | 264/710 [00:47<00:54,  8.22it/s]"
     ]
    },
    {
     "name": "stderr",
     "output_type": "stream",
     "text": [
      "\r",
      " 37%|███▋      | 265/710 [00:47<01:02,  7.17it/s]"
     ]
    },
    {
     "name": "stdout",
     "output_type": "stream",
     "text": [
      "bone-penn-368\n",
      "Does this patient have T1 available? True\n",
      "I'm doing the thing.\n",
      "bone-penn-226\n",
      "Does this patient have T1 available? True\n",
      "I'm doing the thing.\n"
     ]
    },
    {
     "name": "stderr",
     "output_type": "stream",
     "text": [
      "\r",
      " 38%|███▊      | 267/710 [00:47<00:54,  8.06it/s]"
     ]
    },
    {
     "name": "stdout",
     "output_type": "stream",
     "text": [
      "bone-penn-128\n",
      "Does this patient have T1 available? True\n",
      "I'm doing the thing.\n",
      "bone-penn-610\n",
      "Does this patient have T1 available? True\n",
      "I'm doing the thing.\n"
     ]
    },
    {
     "name": "stderr",
     "output_type": "stream",
     "text": [
      "\r",
      " 38%|███▊      | 268/710 [00:47<00:58,  7.57it/s]"
     ]
    },
    {
     "name": "stderr",
     "output_type": "stream",
     "text": [
      "\r",
      " 38%|███▊      | 271/710 [00:47<00:45,  9.72it/s]"
     ]
    },
    {
     "name": "stdout",
     "output_type": "stream",
     "text": [
      "bone-hup-165\n",
      "Does this patient have T1 available? False\n",
      "T1 image unavailable\n",
      "bone-penn-619\n",
      "Does this patient have T1 available? False\n",
      "T1 image unavailable\n",
      "bone-penn-460\n",
      "Does this patient have T1 available? True\n",
      "I'm doing the thing.\n",
      "bone-penn-161\n",
      "Does this patient have T1 available? True\n",
      "I'm doing the thing.\n"
     ]
    },
    {
     "name": "stdout",
     "output_type": "stream",
     "text": [
      "bone-hup-164\n",
      "Does this patient have T1 available? True\n",
      "I'm doing the thing.\n"
     ]
    },
    {
     "name": "stderr",
     "output_type": "stream",
     "text": [
      "\r",
      " 38%|███▊      | 273/710 [00:48<01:02,  6.99it/s]"
     ]
    },
    {
     "name": "stdout",
     "output_type": "stream",
     "text": [
      "bone-penn-641\n",
      "Does this patient have T1 available? True\n",
      "I'm doing the thing.\n"
     ]
    },
    {
     "name": "stderr",
     "output_type": "stream",
     "text": [
      "\r",
      " 39%|███▊      | 275/710 [00:48<01:06,  6.50it/s]"
     ]
    },
    {
     "name": "stdout",
     "output_type": "stream",
     "text": [
      "bone-hup-3\n",
      "Does this patient have T1 available? True\n",
      "I'm doing the thing.\n",
      "bone-penn-269\n",
      "Does this patient have T1 available? True\n",
      "I'm doing the thing.\n",
      "bone-hup-210\n",
      "Does this patient have T1 available? False\n",
      "T1 image unavailable\n",
      "bone-penn-530\n",
      "Does this patient have T1 available? True\n",
      "I'm doing the thing.\n"
     ]
    },
    {
     "name": "stderr",
     "output_type": "stream",
     "text": [
      "\r",
      " 39%|███▉      | 278/710 [00:48<00:55,  7.83it/s]"
     ]
    },
    {
     "name": "stdout",
     "output_type": "stream",
     "text": [
      "bone-penn-190\n",
      "Does this patient have T1 available? True\n",
      "I'm doing the thing.\n",
      "bone-penn-435\n",
      "Does this patient have T1 available? True\n",
      "I'm doing the thing.\n"
     ]
    },
    {
     "name": "stderr",
     "output_type": "stream",
     "text": [
      "\r",
      " 39%|███▉      | 280/710 [00:49<01:06,  6.43it/s]"
     ]
    },
    {
     "name": "stdout",
     "output_type": "stream",
     "text": [
      "bone-china-193\n",
      "Does this patient have T1 available? True\n",
      "I'm doing the thing.\n",
      "bone-penn-383\n",
      "Does this patient have T1 available? True\n",
      "I'm doing the thing.\n"
     ]
    },
    {
     "name": "stderr",
     "output_type": "stream",
     "text": [
      "\r",
      " 40%|███▉      | 282/710 [00:49<01:00,  7.05it/s]"
     ]
    },
    {
     "name": "stdout",
     "output_type": "stream",
     "text": [
      "bone-hup-174\n",
      "Does this patient have T1 available? True\n",
      "I'm doing the thing.\n"
     ]
    },
    {
     "name": "stderr",
     "output_type": "stream",
     "text": [
      "\r",
      " 40%|███▉      | 283/710 [00:50<02:16,  3.14it/s]"
     ]
    },
    {
     "name": "stderr",
     "output_type": "stream",
     "text": [
      "\r",
      " 40%|████      | 284/710 [00:50<01:54,  3.72it/s]"
     ]
    },
    {
     "name": "stdout",
     "output_type": "stream",
     "text": [
      "bone-penn-85\n",
      "Does this patient have T1 available? True\n",
      "I'm doing the thing.\n",
      "bone-penn-215\n",
      "Does this patient have T1 available? False\n",
      "T1 image unavailable\n",
      "bone-penn-101\n",
      "Does this patient have T1 available? True\n",
      "I'm doing the thing.\n"
     ]
    },
    {
     "name": "stderr",
     "output_type": "stream",
     "text": [
      "\r",
      " 40%|████      | 286/710 [00:50<01:34,  4.47it/s]"
     ]
    },
    {
     "name": "stderr",
     "output_type": "stream",
     "text": [
      "\r",
      " 41%|████      | 288/710 [00:50<01:15,  5.58it/s]"
     ]
    },
    {
     "name": "stdout",
     "output_type": "stream",
     "text": [
      "bone-penn-584\n",
      "Does this patient have T1 available? True\n",
      "I'm doing the thing.\n",
      "bone-penn-546\n",
      "Does this patient have T1 available? True\n",
      "I'm doing the thing.\n",
      "bone-penn-213\n",
      "Does this patient have T1 available? True\n",
      "I'm doing the thing.\n"
     ]
    },
    {
     "name": "stderr",
     "output_type": "stream",
     "text": [
      "\r",
      " 41%|████      | 289/710 [00:51<01:12,  5.77it/s]"
     ]
    },
    {
     "name": "stdout",
     "output_type": "stream",
     "text": [
      "bone-penn-232\n",
      "Does this patient have T1 available? True\n",
      "I'm doing the thing.\n"
     ]
    },
    {
     "name": "stderr",
     "output_type": "stream",
     "text": [
      "\r",
      " 41%|████      | 290/710 [00:51<01:52,  3.72it/s]"
     ]
    },
    {
     "name": "stdout",
     "output_type": "stream",
     "text": [
      "bone-penn-637\n",
      "Does this patient have T1 available? True\n",
      "I'm doing the thing.\n"
     ]
    },
    {
     "name": "stderr",
     "output_type": "stream",
     "text": [
      "\r",
      " 41%|████      | 291/710 [00:51<01:46,  3.94it/s]"
     ]
    },
    {
     "name": "stderr",
     "output_type": "stream",
     "text": [
      "\r",
      " 41%|████▏     | 293/710 [00:51<01:25,  4.87it/s]"
     ]
    },
    {
     "name": "stdout",
     "output_type": "stream",
     "text": [
      "bone-china-166\n",
      "Does this patient have T1 available? True\n",
      "I'm doing the thing.\n",
      "bone-hup-133\n",
      "Does this patient have T1 available? True\n",
      "I'm doing the thing.\n",
      "bone-hup-149\n",
      "Does this patient have T1 available? False\n",
      "T1 image unavailable\n",
      "bone-penn-407\n",
      "Does this patient have T1 available? True\n",
      "I'm doing the thing.\n"
     ]
    },
    {
     "name": "stderr",
     "output_type": "stream",
     "text": [
      "\r",
      " 42%|████▏     | 295/710 [00:52<01:13,  5.67it/s]"
     ]
    },
    {
     "name": "stderr",
     "output_type": "stream",
     "text": [
      "\r",
      " 42%|████▏     | 296/710 [00:52<01:08,  6.01it/s]"
     ]
    },
    {
     "name": "stdout",
     "output_type": "stream",
     "text": [
      "bone-china-225\n",
      "Does this patient have T1 available? True\n",
      "I'm doing the thing.\n",
      "bone-penn-307\n",
      "Does this patient have T1 available? True\n",
      "I'm doing the thing.\n"
     ]
    },
    {
     "name": "stderr",
     "output_type": "stream",
     "text": [
      "\r",
      " 42%|████▏     | 297/710 [00:52<01:10,  5.84it/s]"
     ]
    },
    {
     "name": "stdout",
     "output_type": "stream",
     "text": [
      "bone-hup-231\n",
      "Does this patient have T1 available? True\n",
      "I'm doing the thing.\n"
     ]
    },
    {
     "name": "stderr",
     "output_type": "stream",
     "text": [
      "\r",
      " 42%|████▏     | 298/710 [00:52<01:20,  5.09it/s]"
     ]
    },
    {
     "name": "stdout",
     "output_type": "stream",
     "text": [
      "bone-china-156\n",
      "Does this patient have T1 available? True\n",
      "I'm doing the thing.\n",
      "bone-hup-252\n",
      "Does this patient have T1 available? False\n",
      "T1 image unavailable\n",
      "bone-penn-524\n",
      "Does this patient have T1 available? True\n",
      "I'm doing the thing.\n"
     ]
    },
    {
     "name": "stderr",
     "output_type": "stream",
     "text": [
      "\r",
      " 42%|████▏     | 301/710 [00:53<01:12,  5.65it/s]"
     ]
    },
    {
     "name": "stdout",
     "output_type": "stream",
     "text": [
      "bone-penn-392\n",
      "Does this patient have T1 available? True\n",
      "I'm doing the thing.\n"
     ]
    },
    {
     "name": "stderr",
     "output_type": "stream",
     "text": [
      "\r",
      " 43%|████▎     | 302/710 [00:53<01:18,  5.21it/s]"
     ]
    },
    {
     "name": "stderr",
     "output_type": "stream",
     "text": [
      "\r",
      " 43%|████▎     | 303/710 [00:53<01:11,  5.70it/s]"
     ]
    },
    {
     "name": "stdout",
     "output_type": "stream",
     "text": [
      "bone-china-140\n",
      "Does this patient have T1 available? True\n",
      "I'm doing the thing.\n",
      "bone-hup-122\n",
      "Does this patient have T1 available? True\n",
      "I'm doing the thing.\n"
     ]
    },
    {
     "name": "stderr",
     "output_type": "stream",
     "text": [
      "\r",
      " 43%|████▎     | 304/710 [00:53<01:03,  6.39it/s]"
     ]
    },
    {
     "name": "stdout",
     "output_type": "stream",
     "text": [
      "bone-hup-230\n",
      "Does this patient have T1 available? True\n",
      "I'm doing the thing.\n"
     ]
    },
    {
     "name": "stderr",
     "output_type": "stream",
     "text": [
      "\r",
      " 43%|████▎     | 305/710 [00:54<01:44,  3.89it/s]"
     ]
    },
    {
     "name": "stderr",
     "output_type": "stream",
     "text": [
      "\r",
      " 43%|████▎     | 306/710 [00:54<01:28,  4.57it/s]"
     ]
    },
    {
     "name": "stdout",
     "output_type": "stream",
     "text": [
      "bone-china-101\n",
      "Does this patient have T1 available? True\n",
      "I'm doing the thing.\n",
      "bone-china-232\n",
      "Does this patient have T1 available? True\n",
      "I'm doing the thing.\n",
      "bone-hup-156\n",
      "Does this patient have T1 available? True\n",
      "I'm doing the thing.\n"
     ]
    },
    {
     "name": "stderr",
     "output_type": "stream",
     "text": [
      "\r",
      " 43%|████▎     | 308/710 [00:54<01:19,  5.04it/s]"
     ]
    },
    {
     "name": "stderr",
     "output_type": "stream",
     "text": [
      "\r",
      " 44%|████▎     | 310/710 [00:54<01:06,  6.04it/s]"
     ]
    },
    {
     "name": "stdout",
     "output_type": "stream",
     "text": [
      "bone-china-213\n",
      "Does this patient have T1 available? True\n",
      "I'm doing the thing.\n",
      "bone-penn-298\n",
      "Does this patient have T1 available? True\n",
      "I'm doing the thing.\n",
      "bone-china-198\n",
      "Does this patient have T1 available? True\n",
      "I'm doing the thing.\n"
     ]
    },
    {
     "name": "stderr",
     "output_type": "stream",
     "text": [
      "\r",
      " 44%|████▍     | 311/710 [00:54<01:01,  6.51it/s]"
     ]
    },
    {
     "name": "stderr",
     "output_type": "stream",
     "text": [
      "\r",
      " 44%|████▍     | 312/710 [00:54<01:05,  6.07it/s]"
     ]
    },
    {
     "name": "stdout",
     "output_type": "stream",
     "text": [
      "bone-china-170\n",
      "Does this patient have T1 available? True\n",
      "I'm doing the thing.\n",
      "bone-penn-622\n",
      "Does this patient have T1 available? True\n",
      "I'm doing the thing.\n"
     ]
    },
    {
     "name": "stderr",
     "output_type": "stream",
     "text": [
      "\r",
      " 44%|████▍     | 313/710 [00:55<01:20,  4.95it/s]"
     ]
    },
    {
     "name": "stdout",
     "output_type": "stream",
     "text": [
      "bone-penn-160\n",
      "Does this patient have T1 available? True\n",
      "I'm doing the thing.\n"
     ]
    },
    {
     "name": "stderr",
     "output_type": "stream",
     "text": [
      "\r",
      " 44%|████▍     | 314/710 [00:55<01:26,  4.58it/s]"
     ]
    },
    {
     "name": "stdout",
     "output_type": "stream",
     "text": [
      "bone-penn-547\n",
      "Does this patient have T1 available? True\n",
      "I'm doing the thing.\n",
      "bone-penn-218\n",
      "Does this patient have T1 available? True\n",
      "I'm doing the thing.\n"
     ]
    },
    {
     "name": "stderr",
     "output_type": "stream",
     "text": [
      "\r",
      " 45%|████▍     | 316/710 [00:55<01:26,  4.55it/s]"
     ]
    },
    {
     "name": "stdout",
     "output_type": "stream",
     "text": [
      "bone-penn-100\n",
      "Does this patient have T1 available? True\n",
      "I'm doing the thing.\n"
     ]
    },
    {
     "name": "stderr",
     "output_type": "stream",
     "text": [
      "\r",
      " 45%|████▍     | 317/710 [00:56<01:27,  4.49it/s]"
     ]
    },
    {
     "name": "stderr",
     "output_type": "stream",
     "text": [
      "\r",
      " 45%|████▍     | 318/710 [00:56<01:19,  4.96it/s]"
     ]
    },
    {
     "name": "stdout",
     "output_type": "stream",
     "text": [
      "bone-hup-121\n",
      "Does this patient have T1 available? True\n",
      "I'm doing the thing.\n",
      "bone-hup-202\n",
      "Does this patient have T1 available? False\n",
      "T1 image unavailable\n",
      "bone-penn-119\n",
      "Does this patient have T1 available? True\n",
      "I'm doing the thing.\n"
     ]
    },
    {
     "name": "stdout",
     "output_type": "stream",
     "text": [
      "bone-china-096\n",
      "Does this patient have T1 available? False\n",
      "T1 image unavailable\n",
      "bone-penn-248\n",
      "Does this patient have T1 available? True\n",
      "I'm doing the thing.\n"
     ]
    },
    {
     "name": "stderr",
     "output_type": "stream",
     "text": [
      "\r",
      " 45%|████▌     | 322/710 [00:56<01:03,  6.11it/s]"
     ]
    },
    {
     "name": "stderr",
     "output_type": "stream",
     "text": [
      "\r",
      " 45%|████▌     | 323/710 [00:56<01:05,  5.91it/s]"
     ]
    },
    {
     "name": "stdout",
     "output_type": "stream",
     "text": [
      "bone-penn-653\n",
      "Does this patient have T1 available? True\n",
      "I'm doing the thing.\n",
      "bone-penn-384\n",
      "Does this patient have T1 available? True\n",
      "I'm doing the thing.\n"
     ]
    },
    {
     "name": "stderr",
     "output_type": "stream",
     "text": [
      "\r",
      " 46%|████▌     | 325/710 [00:57<01:00,  6.31it/s]"
     ]
    },
    {
     "name": "stdout",
     "output_type": "stream",
     "text": [
      "bone-penn-244\n",
      "Does this patient have T1 available? True\n",
      "I'm doing the thing.\n",
      "bone-penn-202\n",
      "Does this patient have T1 available? True\n",
      "I'm doing the thing.\n"
     ]
    },
    {
     "name": "stderr",
     "output_type": "stream",
     "text": [
      "\r",
      " 46%|████▌     | 326/710 [00:58<02:47,  2.29it/s]"
     ]
    },
    {
     "name": "stdout",
     "output_type": "stream",
     "text": [
      "bone-penn-650\n",
      "Does this patient have T1 available? True\n",
      "I'm doing the thing.\n"
     ]
    },
    {
     "name": "stderr",
     "output_type": "stream",
     "text": [
      "\r",
      " 46%|████▌     | 327/710 [00:58<02:24,  2.66it/s]"
     ]
    },
    {
     "name": "stderr",
     "output_type": "stream",
     "text": [
      "\r",
      " 46%|████▌     | 328/710 [00:58<01:56,  3.27it/s]"
     ]
    },
    {
     "name": "stdout",
     "output_type": "stream",
     "text": [
      "bone-china-124\n",
      "Does this patient have T1 available? True\n",
      "I'm doing the thing.\n",
      "bone-penn-294\n",
      "Does this patient have T1 available? False\n",
      "T1 image unavailable\n",
      "bone-penn-376\n",
      "Does this patient have T1 available? True\n",
      "I'm doing the thing.\n"
     ]
    },
    {
     "name": "stderr",
     "output_type": "stream",
     "text": [
      "\r",
      " 46%|████▋     | 330/710 [00:58<01:40,  3.78it/s]"
     ]
    },
    {
     "name": "stderr",
     "output_type": "stream",
     "text": [
      "\r",
      " 47%|████▋     | 331/710 [00:59<01:21,  4.62it/s]"
     ]
    },
    {
     "name": "stdout",
     "output_type": "stream",
     "text": [
      "bone-penn-221\n",
      "Does this patient have T1 available? True\n",
      "I'm doing the thing.\n",
      "bone-penn-393\n",
      "Does this patient have T1 available? True\n",
      "I'm doing the thing.\n"
     ]
    },
    {
     "name": "stderr",
     "output_type": "stream",
     "text": [
      "\r",
      " 47%|████▋     | 332/710 [00:59<01:22,  4.56it/s]"
     ]
    },
    {
     "name": "stderr",
     "output_type": "stream",
     "text": [
      "\r",
      " 47%|████▋     | 335/710 [00:59<01:02,  6.01it/s]"
     ]
    },
    {
     "name": "stdout",
     "output_type": "stream",
     "text": [
      "bone-penn-333\n",
      "Does this patient have T1 available? False\n",
      "T1 image unavailable\n",
      "bone-penn-212\n",
      "Does this patient have T1 available? False\n",
      "T1 image unavailable\n",
      "bone-hup-225\n",
      "Does this patient have T1 available? True\n",
      "I'm doing the thing.\n",
      "bone-penn-477\n",
      "Does this patient have T1 available? True\n",
      "I'm doing the thing.\n"
     ]
    },
    {
     "name": "stderr",
     "output_type": "stream",
     "text": [
      "\r",
      " 47%|████▋     | 337/710 [00:59<01:01,  6.02it/s]"
     ]
    },
    {
     "name": "stdout",
     "output_type": "stream",
     "text": [
      "bone-penn-324\n",
      "Does this patient have T1 available? True\n",
      "I'm doing the thing.\n",
      "bone-china-129\n",
      "Does this patient have T1 available? True\n",
      "I'm doing the thing.\n",
      "bone-hup-102\n",
      "Does this patient have T1 available? True\n",
      "I'm doing the thing.\n"
     ]
    },
    {
     "name": "stderr",
     "output_type": "stream",
     "text": [
      "\r",
      " 48%|████▊     | 339/710 [00:59<00:55,  6.74it/s]"
     ]
    },
    {
     "name": "stdout",
     "output_type": "stream",
     "text": [
      "bone-penn-332\n",
      "Does this patient have T1 available? True\n",
      "I'm doing the thing.\n"
     ]
    },
    {
     "name": "stderr",
     "output_type": "stream",
     "text": [
      "\r",
      " 48%|████▊     | 340/710 [01:00<01:11,  5.19it/s]"
     ]
    },
    {
     "name": "stderr",
     "output_type": "stream",
     "text": [
      "\r",
      " 48%|████▊     | 341/710 [01:00<01:01,  5.96it/s]"
     ]
    },
    {
     "name": "stdout",
     "output_type": "stream",
     "text": [
      "bone-penn-283\n",
      "Does this patient have T1 available? True\n",
      "I'm doing the thing.\n",
      "bone-hup-277\n",
      "Does this patient have T1 available? True\n",
      "I'm doing the thing.\n"
     ]
    },
    {
     "name": "stderr",
     "output_type": "stream",
     "text": [
      "\r",
      " 48%|████▊     | 342/710 [01:00<01:09,  5.32it/s]"
     ]
    },
    {
     "name": "stdout",
     "output_type": "stream",
     "text": [
      "bone-penn-301\n",
      "Does this patient have T1 available? True\n",
      "I'm doing the thing.\n"
     ]
    },
    {
     "name": "stderr",
     "output_type": "stream",
     "text": [
      "\r",
      " 48%|████▊     | 343/710 [01:00<01:20,  4.56it/s]"
     ]
    },
    {
     "name": "stderr",
     "output_type": "stream",
     "text": [
      "\r",
      " 48%|████▊     | 344/710 [01:01<01:14,  4.90it/s]"
     ]
    },
    {
     "name": "stdout",
     "output_type": "stream",
     "text": [
      "bone-penn-183\n",
      "Does this patient have T1 available? True\n",
      "I'm doing the thing.\n",
      "bone-hup-112\n",
      "Does this patient have T1 available? True\n",
      "I'm doing the thing.\n"
     ]
    },
    {
     "name": "stderr",
     "output_type": "stream",
     "text": [
      "\r",
      " 49%|████▊     | 345/710 [01:01<01:17,  4.73it/s]"
     ]
    },
    {
     "name": "stderr",
     "output_type": "stream",
     "text": [
      "\r",
      " 49%|████▊     | 346/710 [01:01<01:06,  5.50it/s]"
     ]
    },
    {
     "name": "stdout",
     "output_type": "stream",
     "text": [
      "bone-hup-79\n",
      "Does this patient have T1 available? True\n",
      "I'm doing the thing.\n",
      "bone-hup-194\n",
      "Does this patient have T1 available? True\n",
      "I'm doing the thing.\n"
     ]
    },
    {
     "name": "stderr",
     "output_type": "stream",
     "text": [
      "\r",
      " 49%|████▉     | 347/710 [01:01<01:06,  5.46it/s]"
     ]
    },
    {
     "name": "stderr",
     "output_type": "stream",
     "text": [
      "\r",
      " 49%|████▉     | 348/710 [01:01<01:01,  5.88it/s]"
     ]
    },
    {
     "name": "stdout",
     "output_type": "stream",
     "text": [
      "bone-penn-492\n",
      "Does this patient have T1 available? True\n",
      "I'm doing the thing.\n",
      "bone-penn-314\n",
      "Does this patient have T1 available? True\n",
      "I'm doing the thing.\n"
     ]
    },
    {
     "name": "stderr",
     "output_type": "stream",
     "text": [
      "\r",
      " 49%|████▉     | 349/710 [01:01<01:06,  5.40it/s]"
     ]
    },
    {
     "name": "stdout",
     "output_type": "stream",
     "text": [
      "bone-penn-279\n",
      "Does this patient have T1 available? True\n",
      "I'm doing the thing.\n",
      "bone-penn-264\n",
      "Does this patient have T1 available? True\n",
      "I'm doing the thing.\n"
     ]
    },
    {
     "name": "stderr",
     "output_type": "stream",
     "text": [
      "\r",
      " 49%|████▉     | 351/710 [01:02<01:03,  5.67it/s]"
     ]
    },
    {
     "name": "stdout",
     "output_type": "stream",
     "text": [
      "bone-hup-185\n",
      "Does this patient have T1 available? False\n",
      "T1 image unavailable\n",
      "bone-penn-615\n",
      "Does this patient have T1 available? True\n",
      "I'm doing the thing.\n",
      "bone-penn-429\n",
      "Does this patient have T1 available? True\n",
      "I'm doing the thing.\n"
     ]
    },
    {
     "name": "stderr",
     "output_type": "stream",
     "text": [
      "\r",
      " 50%|████▉     | 354/710 [01:02<00:53,  6.69it/s]"
     ]
    },
    {
     "name": "stderr",
     "output_type": "stream",
     "text": [
      "\r",
      " 50%|█████     | 355/710 [01:02<00:51,  6.96it/s]"
     ]
    },
    {
     "name": "stdout",
     "output_type": "stream",
     "text": [
      "bone-china-103\n",
      "Does this patient have T1 available? True\n",
      "I'm doing the thing.\n",
      "bone-hup-65\n",
      "Does this patient have T1 available? True\n",
      "I'm doing the thing.\n"
     ]
    },
    {
     "name": "stderr",
     "output_type": "stream",
     "text": [
      "\r",
      " 50%|█████     | 356/710 [01:02<00:53,  6.61it/s]"
     ]
    },
    {
     "name": "stdout",
     "output_type": "stream",
     "text": [
      "bone-china-242\n",
      "Does this patient have T1 available? True\n",
      "I'm doing the thing.\n"
     ]
    },
    {
     "name": "stderr",
     "output_type": "stream",
     "text": [
      "\r",
      " 50%|█████     | 357/710 [01:03<01:12,  4.88it/s]"
     ]
    },
    {
     "name": "stdout",
     "output_type": "stream",
     "text": [
      "bone-penn-257\n",
      "Does this patient have T1 available? True\n",
      "I'm doing the thing.\n",
      "bone-penn-611\n",
      "Does this patient have T1 available? True\n",
      "I'm doing the thing.\n"
     ]
    },
    {
     "name": "stderr",
     "output_type": "stream",
     "text": [
      "\r",
      " 51%|█████     | 359/710 [01:03<01:06,  5.27it/s]"
     ]
    },
    {
     "name": "stdout",
     "output_type": "stream",
     "text": [
      "bone-hup-97\n",
      "Does this patient have T1 available? True\n",
      "I'm doing the thing.\n"
     ]
    },
    {
     "name": "stderr",
     "output_type": "stream",
     "text": [
      "\r",
      " 51%|█████     | 360/710 [01:03<01:18,  4.48it/s]"
     ]
    },
    {
     "name": "stdout",
     "output_type": "stream",
     "text": [
      "bone-penn-178\n",
      "Does this patient have T1 available? True\n",
      "I'm doing the thing.\n",
      "bone-penn-520\n",
      "Does this patient have T1 available? True\n",
      "I'm doing the thing.\n"
     ]
    },
    {
     "name": "stderr",
     "output_type": "stream",
     "text": [
      "\r",
      " 51%|█████     | 362/710 [01:04<01:11,  4.87it/s]"
     ]
    },
    {
     "name": "stderr",
     "output_type": "stream",
     "text": [
      "\r",
      " 51%|█████     | 363/710 [01:04<01:01,  5.61it/s]"
     ]
    },
    {
     "name": "stdout",
     "output_type": "stream",
     "text": [
      "bone-china-108\n",
      "Does this patient have T1 available? True\n",
      "I'm doing the thing.\n",
      "bone-hup-90\n",
      "Does this patient have T1 available? True\n",
      "I'm doing the thing.\n"
     ]
    },
    {
     "name": "stderr",
     "output_type": "stream",
     "text": [
      "\r",
      " 51%|█████▏    | 364/710 [01:04<01:20,  4.27it/s]"
     ]
    },
    {
     "name": "stderr",
     "output_type": "stream",
     "text": [
      "\r",
      " 51%|█████▏    | 365/710 [01:04<01:11,  4.79it/s]"
     ]
    },
    {
     "name": "stdout",
     "output_type": "stream",
     "text": [
      "bone-china-093\n",
      "Does this patient have T1 available? True\n",
      "I'm doing the thing.\n",
      "bone-penn-418\n",
      "Does this patient have T1 available? True\n",
      "I'm doing the thing.\n"
     ]
    },
    {
     "name": "stderr",
     "output_type": "stream",
     "text": [
      "\r",
      " 52%|█████▏    | 366/710 [01:05<01:47,  3.19it/s]"
     ]
    },
    {
     "name": "stderr",
     "output_type": "stream",
     "text": [
      "\r",
      " 52%|█████▏    | 367/710 [01:05<01:29,  3.85it/s]"
     ]
    },
    {
     "name": "stdout",
     "output_type": "stream",
     "text": [
      "bone-penn-199\n",
      "Does this patient have T1 available? True\n",
      "I'm doing the thing.\n",
      "bone-china-173\n",
      "Does this patient have T1 available? True\n",
      "I'm doing the thing.\n"
     ]
    },
    {
     "name": "stderr",
     "output_type": "stream",
     "text": [
      "\r",
      " 52%|█████▏    | 369/710 [01:05<01:12,  4.68it/s]"
     ]
    },
    {
     "name": "stdout",
     "output_type": "stream",
     "text": [
      "bone-china-202\n",
      "Does this patient have T1 available? True\n",
      "I'm doing the thing.\n",
      "bone-penn-182\n",
      "Does this patient have T1 available? True\n",
      "I'm doing the thing.\n"
     ]
    },
    {
     "name": "stderr",
     "output_type": "stream",
     "text": [
      "\r",
      " 52%|█████▏    | 370/710 [01:05<01:10,  4.84it/s]"
     ]
    },
    {
     "name": "stderr",
     "output_type": "stream",
     "text": [
      "\r",
      " 53%|█████▎    | 373/710 [01:05<00:53,  6.34it/s]"
     ]
    },
    {
     "name": "stdout",
     "output_type": "stream",
     "text": [
      "bone-china-197\n",
      "Does this patient have T1 available? False\n",
      "T1 image unavailable\n",
      "bone-penn-96\n",
      "Does this patient have T1 available? True\n",
      "I'm doing the thing.\n",
      "bone-hup-30\n",
      "Does this patient have T1 available? True\n",
      "I'm doing the thing.\n",
      "bone-hup-55\n",
      "Does this patient have T1 available? True\n",
      "I'm doing the thing.\n",
      "bone-penn-389\n",
      "Does this patient have T1 available? True\n",
      "I'm doing the thing.\n"
     ]
    },
    {
     "name": "stderr",
     "output_type": "stream",
     "text": [
      "\r",
      " 53%|█████▎    | 375/710 [01:06<00:55,  6.06it/s]"
     ]
    },
    {
     "name": "stdout",
     "output_type": "stream",
     "text": [
      "bone-penn-589\n",
      "Does this patient have T1 available? True\n",
      "I'm doing the thing.\n"
     ]
    },
    {
     "name": "stderr",
     "output_type": "stream",
     "text": [
      "\r",
      " 53%|█████▎    | 376/710 [01:06<01:03,  5.29it/s]"
     ]
    },
    {
     "name": "stderr",
     "output_type": "stream",
     "text": [
      "\r",
      " 53%|█████▎    | 377/710 [01:06<00:58,  5.68it/s]"
     ]
    },
    {
     "name": "stdout",
     "output_type": "stream",
     "text": [
      "bone-hup-176\n",
      "Does this patient have T1 available? True\n",
      "I'm doing the thing.\n",
      "\n",
      "################################################################################\n",
      "Exception occurred for: outcome_pos   1.000\n",
      "outcome_neg   1.000\n",
      "outcome_3     2.000\n",
      "sort              -\n",
      "volume        0.140\n",
      "Name: bone-hup-176, dtype: object\n",
      "index 145 is out of bounds for axis 0 with size 2\n",
      "T1 image unavailable\n",
      "Traceback (most recent call last):\n",
      "  File \"/home/user1/Documents/Bone-MRI/data_gen.py\", line 373, in generate_from_features\n",
      "    t1_masked = load_image(t1_image_file, t1_seg_file, verbose=verbose)\n",
      "  File \"/home/user1/Documents/Bone-MRI/data_gen.py\", line 331, in load_image\n",
      "    return [mask_image_percentile(image, segmentation, 100, a) for a in (0, 1, 2)]\n",
      "  File \"/home/user1/Documents/Bone-MRI/data_gen.py\", line 331, in <listcomp>\n",
      "    return [mask_image_percentile(image, segmentation, 100, a) for a in (0, 1, 2)]\n",
      "  File \"/home/user1/Documents/Bone-MRI/data_gen.py\", line 335, in mask_image_percentile\n",
      "    image, segmentation = select_slice(image, segmentation, plane, axis)\n",
      "  File \"/home/user1/Documents/Bone-MRI/segmentation.py\", line 40, in select_slice\n",
      "    image = axis_plane[axis](image, plane)\n",
      "  File \"/home/user1/Documents/Bone-MRI/segmentation.py\", line 13, in <lambda>\n",
      "    0: lambda image, plane : image[plane, :, :],\n",
      "IndexError: index 145 is out of bounds for axis 0 with size 2\n",
      "\n",
      "bone-penn-271\n",
      "Does this patient have T1 available? True\n",
      "I'm doing the thing.\n"
     ]
    },
    {
     "name": "stderr",
     "output_type": "stream",
     "text": [
      "\r",
      " 53%|█████▎    | 379/710 [01:06<00:52,  6.31it/s]"
     ]
    },
    {
     "name": "stdout",
     "output_type": "stream",
     "text": [
      "bone-penn-210\n",
      "Does this patient have T1 available? True\n",
      "I'm doing the thing.\n",
      "bone-penn-541\n",
      "Does this patient have T1 available? True\n",
      "I'm doing the thing.\n"
     ]
    },
    {
     "name": "stderr",
     "output_type": "stream",
     "text": [
      "\r",
      " 54%|█████▎    | 380/710 [01:07<00:58,  5.67it/s]"
     ]
    },
    {
     "name": "stderr",
     "output_type": "stream",
     "text": [
      "\r",
      " 54%|█████▎    | 381/710 [01:07<00:55,  5.91it/s]"
     ]
    },
    {
     "name": "stdout",
     "output_type": "stream",
     "text": [
      "bone-penn-628\n",
      "Does this patient have T1 available? True\n",
      "I'm doing the thing.\n",
      "bone-china-113\n",
      "Does this patient have T1 available? True\n",
      "I'm doing the thing.\n"
     ]
    },
    {
     "name": "stderr",
     "output_type": "stream",
     "text": [
      "\r",
      " 54%|█████▍    | 382/710 [01:07<00:52,  6.19it/s]"
     ]
    },
    {
     "name": "stderr",
     "output_type": "stream",
     "text": [
      "\r",
      " 54%|█████▍    | 383/710 [01:07<00:54,  5.96it/s]"
     ]
    },
    {
     "name": "stdout",
     "output_type": "stream",
     "text": [
      "bone-china-110\n",
      "Does this patient have T1 available? True\n",
      "I'm doing the thing.\n",
      "bone-china-223\n",
      "Does this patient have T1 available? True\n",
      "I'm doing the thing.\n"
     ]
    },
    {
     "name": "stderr",
     "output_type": "stream",
     "text": [
      "\r",
      " 54%|█████▍    | 384/710 [01:07<00:58,  5.60it/s]"
     ]
    },
    {
     "name": "stdout",
     "output_type": "stream",
     "text": [
      "bone-penn-517\n",
      "Does this patient have T1 available? True\n",
      "I'm doing the thing.\n"
     ]
    },
    {
     "name": "stderr",
     "output_type": "stream",
     "text": [
      "\r",
      " 54%|█████▍    | 385/710 [01:08<01:06,  4.87it/s]"
     ]
    },
    {
     "name": "stdout",
     "output_type": "stream",
     "text": [
      "bone-penn-514\n",
      "Does this patient have T1 available? True\n",
      "I'm doing the thing.\n"
     ]
    },
    {
     "name": "stderr",
     "output_type": "stream",
     "text": [
      "\r",
      " 54%|█████▍    | 386/710 [01:08<01:28,  3.66it/s]"
     ]
    },
    {
     "name": "stderr",
     "output_type": "stream",
     "text": [
      "\r",
      " 55%|█████▍    | 388/710 [01:08<01:08,  4.68it/s]"
     ]
    },
    {
     "name": "stdout",
     "output_type": "stream",
     "text": [
      "bone-penn-263\n",
      "Does this patient have T1 available? True\n",
      "I'm doing the thing.\n",
      "bone-penn-498\n",
      "Does this patient have T1 available? True\n",
      "I'm doing the thing.\n",
      "bone-penn-465\n",
      "Does this patient have T1 available? True\n",
      "I'm doing the thing.\n"
     ]
    },
    {
     "name": "stderr",
     "output_type": "stream",
     "text": [
      "\r",
      " 55%|█████▍    | 389/710 [01:08<01:18,  4.10it/s]"
     ]
    },
    {
     "name": "stderr",
     "output_type": "stream",
     "text": [
      "\r",
      " 55%|█████▍    | 390/710 [01:09<01:08,  4.68it/s]"
     ]
    },
    {
     "name": "stdout",
     "output_type": "stream",
     "text": [
      "bone-china-221\n",
      "Does this patient have T1 available? True\n",
      "I'm doing the thing.\n",
      "bone-hup-136\n",
      "Does this patient have T1 available? True\n",
      "I'm doing the thing.\n"
     ]
    },
    {
     "name": "stderr",
     "output_type": "stream",
     "text": [
      "\r",
      " 55%|█████▌    | 391/710 [01:09<01:00,  5.29it/s]"
     ]
    },
    {
     "name": "stdout",
     "output_type": "stream",
     "text": [
      "bone-penn-239\n",
      "Does this patient have T1 available? True\n",
      "I'm doing the thing.\n",
      "bone-hup-88\n",
      "Does this patient have T1 available? True\n",
      "I'm doing the thing.\n"
     ]
    },
    {
     "name": "stderr",
     "output_type": "stream",
     "text": [
      "\r",
      " 55%|█████▌    | 393/710 [01:09<01:03,  4.98it/s]"
     ]
    },
    {
     "name": "stderr",
     "output_type": "stream",
     "text": [
      "\r",
      " 55%|█████▌    | 394/710 [01:09<00:59,  5.31it/s]"
     ]
    },
    {
     "name": "stdout",
     "output_type": "stream",
     "text": [
      "bone-penn-518\n",
      "Does this patient have T1 available? True\n",
      "I'm doing the thing.\n",
      "bone-hup-245\n",
      "Does this patient have T1 available? False\n",
      "T1 image unavailable\n",
      "bone-penn-254\n",
      "Does this patient have T1 available? True\n",
      "I'm doing the thing.\n"
     ]
    },
    {
     "name": "stderr",
     "output_type": "stream",
     "text": [
      "\r",
      " 56%|█████▌    | 396/710 [01:10<00:52,  6.00it/s]"
     ]
    },
    {
     "name": "stdout",
     "output_type": "stream",
     "text": [
      "bone-hup-195\n",
      "Does this patient have T1 available? True\n",
      "I'm doing the thing.\n",
      "bone-hup-249\n",
      "Does this patient have T1 available? True\n",
      "I'm doing the thing.\n"
     ]
    },
    {
     "name": "stderr",
     "output_type": "stream",
     "text": [
      "\r",
      " 56%|█████▌    | 398/710 [01:10<00:51,  6.05it/s]"
     ]
    },
    {
     "name": "stdout",
     "output_type": "stream",
     "text": [
      "bone-penn-364\n",
      "Does this patient have T1 available? True\n",
      "I'm doing the thing.\n"
     ]
    },
    {
     "name": "stderr",
     "output_type": "stream",
     "text": [
      "\r",
      " 56%|█████▌    | 399/710 [01:10<01:14,  4.18it/s]"
     ]
    },
    {
     "name": "stderr",
     "output_type": "stream",
     "text": [
      "\r",
      " 56%|█████▋    | 400/710 [01:11<01:09,  4.48it/s]"
     ]
    },
    {
     "name": "stdout",
     "output_type": "stream",
     "text": [
      "bone-penn-596\n",
      "Does this patient have T1 available? True\n",
      "I'm doing the thing.\n",
      "bone-hup-221\n",
      "Does this patient have T1 available? True\n",
      "I'm doing the thing.\n"
     ]
    },
    {
     "name": "stderr",
     "output_type": "stream",
     "text": [
      "\r",
      " 56%|█████▋    | 401/710 [01:11<01:01,  5.02it/s]"
     ]
    },
    {
     "name": "stderr",
     "output_type": "stream",
     "text": [
      "\r",
      " 57%|█████▋    | 403/710 [01:11<00:51,  6.01it/s]"
     ]
    },
    {
     "name": "stdout",
     "output_type": "stream",
     "text": [
      "bone-hup-192\n",
      "Does this patient have T1 available? True\n",
      "I'm doing the thing.\n",
      "bone-penn-544\n",
      "Does this patient have T1 available? True\n",
      "I'm doing the thing.\n",
      "bone-hup-91\n",
      "Does this patient have T1 available? True\n",
      "I'm doing the thing.\n"
     ]
    },
    {
     "name": "stderr",
     "output_type": "stream",
     "text": [
      "\r",
      " 57%|█████▋    | 404/710 [01:11<00:47,  6.39it/s]"
     ]
    },
    {
     "name": "stderr",
     "output_type": "stream",
     "text": [
      "\r",
      " 57%|█████▋    | 405/710 [01:11<00:44,  6.93it/s]"
     ]
    },
    {
     "name": "stdout",
     "output_type": "stream",
     "text": [
      "bone-penn-115\n",
      "Does this patient have T1 available? True\n",
      "I'm doing the thing.\n",
      "bone-penn-367\n",
      "Does this patient have T1 available? True\n",
      "I'm doing the thing.\n",
      "bone-hup-67\n",
      "Does this patient have T1 available? True\n",
      "I'm doing the thing.\n"
     ]
    },
    {
     "name": "stderr",
     "output_type": "stream",
     "text": [
      "\r",
      " 57%|█████▋    | 407/710 [01:11<00:40,  7.47it/s]"
     ]
    },
    {
     "name": "stdout",
     "output_type": "stream",
     "text": [
      "bone-penn-227\n",
      "Does this patient have T1 available? True\n",
      "I'm doing the thing.\n"
     ]
    },
    {
     "name": "stderr",
     "output_type": "stream",
     "text": [
      "\r",
      " 57%|█████▋    | 408/710 [01:13<02:25,  2.08it/s]"
     ]
    },
    {
     "name": "stdout",
     "output_type": "stream",
     "text": [
      "bone-penn-649\n",
      "Does this patient have T1 available? True\n",
      "I'm doing the thing.\n"
     ]
    },
    {
     "name": "stderr",
     "output_type": "stream",
     "text": [
      "\r",
      " 58%|█████▊    | 409/710 [01:13<02:00,  2.49it/s]"
     ]
    },
    {
     "name": "stderr",
     "output_type": "stream",
     "text": [
      "\r",
      " 58%|█████▊    | 410/710 [01:13<01:35,  3.13it/s]"
     ]
    },
    {
     "name": "stdout",
     "output_type": "stream",
     "text": [
      "bone-penn-366\n",
      "Does this patient have T1 available? True\n",
      "I'm doing the thing.\n",
      "bone-penn-632\n",
      "Does this patient have T1 available? True\n",
      "I'm doing the thing.\n"
     ]
    },
    {
     "name": "stderr",
     "output_type": "stream",
     "text": [
      "\r",
      " 58%|█████▊    | 411/710 [01:13<01:28,  3.40it/s]"
     ]
    },
    {
     "name": "stderr",
     "output_type": "stream",
     "text": [
      "\r",
      " 58%|█████▊    | 412/710 [01:13<01:16,  3.88it/s]"
     ]
    },
    {
     "name": "stdout",
     "output_type": "stream",
     "text": [
      "bone-hup-172\n",
      "Does this patient have T1 available? True\n",
      "I'm doing the thing.\n",
      "bone-hup-74\n",
      "Does this patient have T1 available? False\n",
      "T1 image unavailable\n",
      "bone-penn-587\n",
      "Does this patient have T1 available? True\n",
      "I'm doing the thing.\n"
     ]
    },
    {
     "name": "stdout",
     "output_type": "stream",
     "text": [
      "bone-penn-627\n",
      "Does this patient have T1 available? True\n",
      "I'm doing the thing.\n"
     ]
    },
    {
     "name": "stderr",
     "output_type": "stream",
     "text": [
      "\r",
      " 58%|█████▊    | 415/710 [01:17<02:53,  1.70it/s]"
     ]
    },
    {
     "name": "stderr",
     "output_type": "stream",
     "text": [
      "\r",
      " 59%|█████▊    | 416/710 [01:18<02:13,  2.20it/s]"
     ]
    },
    {
     "name": "stdout",
     "output_type": "stream",
     "text": [
      "bone-penn-479\n",
      "Does this patient have T1 available? True\n",
      "I'm doing the thing.\n",
      "bone-hup-51\n",
      "Does this patient have T1 available? True\n",
      "I'm doing the thing.\n"
     ]
    },
    {
     "name": "stderr",
     "output_type": "stream",
     "text": [
      "\r",
      " 59%|█████▊    | 417/710 [01:18<01:53,  2.59it/s]"
     ]
    },
    {
     "name": "stderr",
     "output_type": "stream",
     "text": [
      "\r",
      " 59%|█████▉    | 418/710 [01:18<01:33,  3.13it/s]"
     ]
    },
    {
     "name": "stdout",
     "output_type": "stream",
     "text": [
      "bone-china-094\n",
      "Does this patient have T1 available? True\n",
      "I'm doing the thing.\n",
      "bone-penn-174\n",
      "Does this patient have T1 available? True\n",
      "I'm doing the thing.\n"
     ]
    },
    {
     "name": "stderr",
     "output_type": "stream",
     "text": [
      "\r",
      " 59%|█████▉    | 419/710 [01:18<01:28,  3.31it/s]"
     ]
    },
    {
     "name": "stdout",
     "output_type": "stream",
     "text": [
      "bone-hup-182\n",
      "Does this patient have T1 available? True\n",
      "I'm doing the thing.\n"
     ]
    },
    {
     "name": "stderr",
     "output_type": "stream",
     "text": [
      "\r",
      " 59%|█████▉    | 420/710 [01:18<01:22,  3.52it/s]"
     ]
    },
    {
     "name": "stdout",
     "output_type": "stream",
     "text": [
      "bone-china-132\n",
      "Does this patient have T1 available? True\n",
      "I'm doing the thing.\n"
     ]
    },
    {
     "name": "stderr",
     "output_type": "stream",
     "text": [
      "\r",
      " 59%|█████▉    | 421/710 [01:19<01:16,  3.76it/s]"
     ]
    },
    {
     "name": "stderr",
     "output_type": "stream",
     "text": [
      "\r",
      " 59%|█████▉    | 422/710 [01:19<01:04,  4.44it/s]"
     ]
    },
    {
     "name": "stdout",
     "output_type": "stream",
     "text": [
      "bone-hup-193\n",
      "Does this patient have T1 available? True\n",
      "I'm doing the thing.\n",
      "bone-china-180\n",
      "Does this patient have T1 available? True\n",
      "I'm doing the thing.\n"
     ]
    },
    {
     "name": "stderr",
     "output_type": "stream",
     "text": [
      "\r",
      " 60%|█████▉    | 423/710 [01:19<01:06,  4.28it/s]"
     ]
    },
    {
     "name": "stdout",
     "output_type": "stream",
     "text": [
      "bone-penn-164\n",
      "Does this patient have T1 available? False\n",
      "T1 image unavailable\n",
      "bone-penn-225\n",
      "Does this patient have T1 available? True\n",
      "I'm doing the thing.\n"
     ]
    },
    {
     "name": "stderr",
     "output_type": "stream",
     "text": [
      "\r",
      " 60%|█████▉    | 425/710 [01:19<01:02,  4.59it/s]"
     ]
    },
    {
     "name": "stderr",
     "output_type": "stream",
     "text": [
      "\r",
      " 60%|██████    | 426/710 [01:20<00:58,  4.82it/s]"
     ]
    },
    {
     "name": "stdout",
     "output_type": "stream",
     "text": [
      "bone-hup-212\n",
      "Does this patient have T1 available? True\n",
      "I'm doing the thing.\n",
      "bone-china-199\n",
      "Does this patient have T1 available? True\n",
      "I'm doing the thing.\n"
     ]
    },
    {
     "name": "stderr",
     "output_type": "stream",
     "text": [
      "\r",
      " 60%|██████    | 427/710 [01:20<00:55,  5.06it/s]"
     ]
    },
    {
     "name": "stderr",
     "output_type": "stream",
     "text": [
      "\r",
      " 60%|██████    | 429/710 [01:20<00:43,  6.51it/s]"
     ]
    },
    {
     "name": "stdout",
     "output_type": "stream",
     "text": [
      "bone-penn-355\n",
      "Does this patient have T1 available? False\n",
      "T1 image unavailable\n",
      "bone-penn-171\n",
      "Does this patient have T1 available? True\n",
      "I'm doing the thing.\n",
      "bone-penn-245\n",
      "Does this patient have T1 available? True\n",
      "I'm doing the thing.\n"
     ]
    },
    {
     "name": "stderr",
     "output_type": "stream",
     "text": [
      "\r",
      " 61%|██████    | 430/710 [01:20<00:38,  7.27it/s]"
     ]
    },
    {
     "name": "stdout",
     "output_type": "stream",
     "text": [
      "bone-penn-236\n",
      "Does this patient have T1 available? True\n",
      "I'm doing the thing.\n"
     ]
    },
    {
     "name": "stderr",
     "output_type": "stream",
     "text": [
      "\r",
      " 61%|██████    | 431/710 [01:20<00:50,  5.54it/s]"
     ]
    },
    {
     "name": "stdout",
     "output_type": "stream",
     "text": [
      "bone-penn-601\n",
      "Does this patient have T1 available? True\n",
      "I'm doing the thing.\n"
     ]
    },
    {
     "name": "stderr",
     "output_type": "stream",
     "text": [
      "\r",
      " 61%|██████    | 432/710 [01:21<02:13,  2.09it/s]"
     ]
    },
    {
     "name": "stderr",
     "output_type": "stream",
     "text": [
      "\r",
      " 61%|██████    | 433/710 [01:22<01:41,  2.74it/s]"
     ]
    },
    {
     "name": "stdout",
     "output_type": "stream",
     "text": [
      "bone-penn-592\n",
      "Does this patient have T1 available? True\n",
      "I'm doing the thing.\n",
      "bone-china-192\n",
      "Does this patient have T1 available? True\n",
      "I'm doing the thing.\n",
      "bone-penn-630\n",
      "Does this patient have T1 available? True\n",
      "I'm doing the thing.\n"
     ]
    },
    {
     "name": "stderr",
     "output_type": "stream",
     "text": [
      "\r",
      " 61%|██████▏   | 435/710 [01:22<01:20,  3.43it/s]"
     ]
    },
    {
     "name": "stderr",
     "output_type": "stream",
     "text": [
      "\r",
      " 61%|██████▏   | 436/710 [01:22<01:08,  4.00it/s]"
     ]
    },
    {
     "name": "stdout",
     "output_type": "stream",
     "text": [
      "bone-hup-96\n",
      "Does this patient have T1 available? True\n",
      "I'm doing the thing.\n",
      "bone-penn-88\n",
      "Does this patient have T1 available? True\n",
      "I'm doing the thing.\n"
     ]
    },
    {
     "name": "stderr",
     "output_type": "stream",
     "text": [
      "\r",
      " 62%|██████▏   | 437/710 [01:22<01:02,  4.35it/s]"
     ]
    },
    {
     "name": "stderr",
     "output_type": "stream",
     "text": [
      "\r",
      " 62%|██████▏   | 438/710 [01:22<00:54,  4.96it/s]"
     ]
    },
    {
     "name": "stdout",
     "output_type": "stream",
     "text": [
      "bone-china-212\n",
      "Does this patient have T1 available? True\n",
      "I'm doing the thing.\n",
      "bone-penn-363\n",
      "Does this patient have T1 available? True\n",
      "I'm doing the thing.\n"
     ]
    },
    {
     "name": "stderr",
     "output_type": "stream",
     "text": [
      "\r",
      " 62%|██████▏   | 439/710 [01:23<01:06,  4.10it/s]"
     ]
    },
    {
     "name": "stdout",
     "output_type": "stream",
     "text": [
      "bone-penn-539\n",
      "Does this patient have T1 available? True\n",
      "I'm doing the thing.\n"
     ]
    },
    {
     "name": "stderr",
     "output_type": "stream",
     "text": [
      "\r",
      " 62%|██████▏   | 440/710 [01:23<01:02,  4.31it/s]"
     ]
    },
    {
     "name": "stderr",
     "output_type": "stream",
     "text": [
      "\r",
      " 62%|██████▏   | 441/710 [01:23<00:56,  4.80it/s]"
     ]
    },
    {
     "name": "stdout",
     "output_type": "stream",
     "text": [
      "bone-china-164\n",
      "Does this patient have T1 available? True\n",
      "I'm doing the thing.\n",
      "bone-penn-322\n",
      "Does this patient have T1 available? True\n",
      "I'm doing the thing.\n"
     ]
    },
    {
     "name": "stderr",
     "output_type": "stream",
     "text": [
      "\r",
      " 62%|██████▏   | 442/710 [01:23<01:07,  4.00it/s]"
     ]
    },
    {
     "name": "stderr",
     "output_type": "stream",
     "text": [
      "\r",
      " 62%|██████▏   | 443/710 [01:23<00:56,  4.73it/s]"
     ]
    },
    {
     "name": "stdout",
     "output_type": "stream",
     "text": [
      "bone-penn-362\n",
      "Does this patient have T1 available? True\n",
      "I'm doing the thing.\n",
      "bone-hup-199\n",
      "Does this patient have T1 available? False\n",
      "T1 image unavailable\n",
      "bone-hup-141\n",
      "Does this patient have T1 available? True\n",
      "I'm doing the thing.\n"
     ]
    },
    {
     "name": "stderr",
     "output_type": "stream",
     "text": [
      "\r",
      " 63%|██████▎   | 445/710 [01:24<01:07,  3.95it/s]"
     ]
    },
    {
     "name": "stdout",
     "output_type": "stream",
     "text": [
      "bone-penn-507\n",
      "Does this patient have T1 available? False\n",
      "T1 image unavailable\n",
      "bone-penn-241\n",
      "Does this patient have T1 available? True\n",
      "I'm doing the thing.\n"
     ]
    },
    {
     "name": "stderr",
     "output_type": "stream",
     "text": [
      "\r",
      " 63%|██████▎   | 447/710 [01:25<01:04,  4.07it/s]"
     ]
    },
    {
     "name": "stdout",
     "output_type": "stream",
     "text": [
      "bone-hup-234\n",
      "Does this patient have T1 available? True\n",
      "I'm doing the thing.\n"
     ]
    },
    {
     "name": "stderr",
     "output_type": "stream",
     "text": [
      "\r",
      " 63%|██████▎   | 448/710 [01:25<01:19,  3.29it/s]"
     ]
    },
    {
     "name": "stderr",
     "output_type": "stream",
     "text": [
      "\r",
      " 63%|██████▎   | 449/710 [01:25<01:09,  3.78it/s]"
     ]
    },
    {
     "name": "stdout",
     "output_type": "stream",
     "text": [
      "bone-penn-480\n",
      "Does this patient have T1 available? True\n",
      "I'm doing the thing.\n",
      "bone-china-097\n",
      "Does this patient have T1 available? True\n",
      "I'm doing the thing.\n"
     ]
    },
    {
     "name": "stdout",
     "output_type": "stream",
     "text": [
      "bone-penn-401\n",
      "Does this patient have T1 available? True\n",
      "I'm doing the thing.\n"
     ]
    },
    {
     "name": "stderr",
     "output_type": "stream",
     "text": [
      "\r",
      " 64%|██████▎   | 451/710 [01:26<01:01,  4.22it/s]"
     ]
    },
    {
     "name": "stderr",
     "output_type": "stream",
     "text": [
      "\r",
      " 64%|██████▎   | 452/710 [01:26<00:53,  4.80it/s]"
     ]
    },
    {
     "name": "stdout",
     "output_type": "stream",
     "text": [
      "bone-china-200\n",
      "Does this patient have T1 available? True\n",
      "I'm doing the thing.\n",
      "bone-penn-597\n",
      "Does this patient have T1 available? True\n",
      "I'm doing the thing.\n"
     ]
    },
    {
     "name": "stderr",
     "output_type": "stream",
     "text": [
      "\r",
      " 64%|██████▍   | 453/710 [01:26<00:48,  5.32it/s]"
     ]
    },
    {
     "name": "stderr",
     "output_type": "stream",
     "text": [
      "\r",
      " 64%|██████▍   | 455/710 [01:26<00:38,  6.58it/s]"
     ]
    },
    {
     "name": "stdout",
     "output_type": "stream",
     "text": [
      "bone-hup-187\n",
      "Does this patient have T1 available? True\n",
      "I'm doing the thing.\n",
      "bone-penn-266\n",
      "Does this patient have T1 available? True\n",
      "I'm doing the thing.\n",
      "bone-penn-188\n",
      "Does this patient have T1 available? True\n",
      "I'm doing the thing.\n"
     ]
    },
    {
     "name": "stderr",
     "output_type": "stream",
     "text": [
      "\r",
      " 64%|██████▍   | 456/710 [01:26<00:35,  7.15it/s]"
     ]
    },
    {
     "name": "stdout",
     "output_type": "stream",
     "text": [
      "bone-china-123\n",
      "Does this patient have T1 available? True\n",
      "I'm doing the thing.\n",
      "bone-hup-167\n",
      "Does this patient have T1 available? False\n",
      "T1 image unavailable\n",
      "bone-penn-229\n",
      "Does this patient have T1 available? True\n",
      "I'm doing the thing.\n"
     ]
    },
    {
     "name": "stderr",
     "output_type": "stream",
     "text": [
      "\r",
      " 65%|██████▍   | 459/710 [01:26<00:30,  8.35it/s]"
     ]
    },
    {
     "name": "stdout",
     "output_type": "stream",
     "text": [
      "bone-china-201\n",
      "Does this patient have T1 available? True\n",
      "I'm doing the thing.\n",
      "bone-penn-317\n",
      "Does this patient have T1 available? True\n",
      "I'm doing the thing.\n"
     ]
    },
    {
     "name": "stderr",
     "output_type": "stream",
     "text": [
      "\r",
      " 65%|██████▍   | 461/710 [01:27<00:31,  7.79it/s]"
     ]
    },
    {
     "name": "stderr",
     "output_type": "stream",
     "text": [
      "\r",
      " 65%|██████▌   | 463/710 [01:27<00:26,  9.19it/s]"
     ]
    },
    {
     "name": "stdout",
     "output_type": "stream",
     "text": [
      "bone-hup-197\n",
      "Does this patient have T1 available? False\n",
      "T1 image unavailable\n",
      "bone-china-112\n",
      "Does this patient have T1 available? True\n",
      "I'm doing the thing.\n",
      "bone-penn-282\n",
      "Does this patient have T1 available? True\n",
      "I'm doing the thing.\n",
      "bone-penn-252\n",
      "Does this patient have T1 available? True\n",
      "I'm doing the thing.\n"
     ]
    },
    {
     "name": "stderr",
     "output_type": "stream",
     "text": [
      "\r",
      " 65%|██████▌   | 465/710 [01:27<00:23, 10.28it/s]"
     ]
    },
    {
     "name": "stdout",
     "output_type": "stream",
     "text": [
      "bone-hup-114\n",
      "Does this patient have T1 available? True\n",
      "I'm doing the thing.\n"
     ]
    },
    {
     "name": "stderr",
     "output_type": "stream",
     "text": [
      "\r",
      " 66%|██████▌   | 467/710 [01:27<00:27,  8.88it/s]"
     ]
    },
    {
     "name": "stdout",
     "output_type": "stream",
     "text": [
      "bone-hup-63\n",
      "Does this patient have T1 available? True\n",
      "I'm doing the thing.\n",
      "bone-penn-163\n",
      "Does this patient have T1 available? True\n",
      "I'm doing the thing.\n"
     ]
    },
    {
     "name": "stderr",
     "output_type": "stream",
     "text": [
      "\r",
      " 66%|██████▌   | 469/710 [01:27<00:24,  9.72it/s]"
     ]
    },
    {
     "name": "stdout",
     "output_type": "stream",
     "text": [
      "bone-penn-306\n",
      "Does this patient have T1 available? False\n",
      "T1 image unavailable\n",
      "bone-hup-89\n",
      "Does this patient have T1 available? True\n",
      "I'm doing the thing.\n"
     ]
    },
    {
     "name": "stdout",
     "output_type": "stream",
     "text": [
      "bone-penn-102\n",
      "Does this patient have T1 available? True\n",
      "I'm doing the thing.\n"
     ]
    },
    {
     "name": "stderr",
     "output_type": "stream",
     "text": [
      "\r",
      " 66%|██████▋   | 471/710 [01:28<00:45,  5.29it/s]"
     ]
    },
    {
     "name": "stdout",
     "output_type": "stream",
     "text": [
      "bone-penn-265\n",
      "Does this patient have T1 available? True\n",
      "I'm doing the thing.\n"
     ]
    },
    {
     "name": "stderr",
     "output_type": "stream",
     "text": [
      "\r",
      " 66%|██████▋   | 472/710 [01:28<01:00,  3.92it/s]"
     ]
    },
    {
     "name": "stdout",
     "output_type": "stream",
     "text": [
      "bone-hup-226\n",
      "Does this patient have T1 available? True\n",
      "I'm doing the thing.\n"
     ]
    },
    {
     "name": "stderr",
     "output_type": "stream",
     "text": [
      "\r",
      " 67%|██████▋   | 473/710 [01:29<01:01,  3.83it/s]"
     ]
    },
    {
     "name": "stdout",
     "output_type": "stream",
     "text": [
      "bone-china-210\n",
      "Does this patient have T1 available? True\n",
      "I'm doing the thing.\n",
      "bone-penn-532\n",
      "Does this patient have T1 available? True\n",
      "I'm doing the thing.\n"
     ]
    },
    {
     "name": "stderr",
     "output_type": "stream",
     "text": [
      "\r",
      " 67%|██████▋   | 475/710 [01:29<00:52,  4.48it/s]"
     ]
    },
    {
     "name": "stdout",
     "output_type": "stream",
     "text": [
      "bone-china-154\n",
      "Does this patient have T1 available? True\n",
      "I'm doing the thing.\n",
      "bone-penn-374\n",
      "Does this patient have T1 available? True\n",
      "I'm doing the thing.\n"
     ]
    },
    {
     "name": "stderr",
     "output_type": "stream",
     "text": [
      "\r",
      " 67%|██████▋   | 477/710 [01:29<00:44,  5.28it/s]"
     ]
    },
    {
     "name": "stdout",
     "output_type": "stream",
     "text": [
      "bone-penn-636\n",
      "Does this patient have T1 available? True\n",
      "I'm doing the thing.\n"
     ]
    },
    {
     "name": "stderr",
     "output_type": "stream",
     "text": [
      "\r",
      " 67%|██████▋   | 478/710 [01:29<00:46,  4.95it/s]"
     ]
    },
    {
     "name": "stderr",
     "output_type": "stream",
     "text": [
      "\r",
      " 68%|██████▊   | 480/710 [01:30<00:36,  6.30it/s]"
     ]
    },
    {
     "name": "stdout",
     "output_type": "stream",
     "text": [
      "bone-hup-235\n",
      "Does this patient have T1 available? False\n",
      "T1 image unavailable\n",
      "bone-penn-381\n",
      "Does this patient have T1 available? True\n",
      "I'm doing the thing.\n",
      "bone-penn-422\n",
      "Does this patient have T1 available? True\n",
      "I'm doing the thing.\n"
     ]
    },
    {
     "name": "stderr",
     "output_type": "stream",
     "text": [
      "\r",
      " 68%|██████▊   | 481/710 [01:30<00:32,  7.02it/s]"
     ]
    },
    {
     "name": "stderr",
     "output_type": "stream",
     "text": [
      "\r",
      " 68%|██████▊   | 483/710 [01:30<00:28,  7.99it/s]"
     ]
    },
    {
     "name": "stdout",
     "output_type": "stream",
     "text": [
      "bone-penn-403\n",
      "Does this patient have T1 available? True\n",
      "I'm doing the thing.\n",
      "bone-china-155\n",
      "Does this patient have T1 available? True\n",
      "I'm doing the thing.\n",
      "bone-china-195\n",
      "Does this patient have T1 available? True\n",
      "I'm doing the thing.\n"
     ]
    },
    {
     "name": "stderr",
     "output_type": "stream",
     "text": [
      "\r",
      " 68%|██████▊   | 485/710 [01:30<00:23,  9.72it/s]"
     ]
    },
    {
     "name": "stdout",
     "output_type": "stream",
     "text": [
      "bone-hup-125\n",
      "Does this patient have T1 available? False\n",
      "T1 image unavailable\n",
      "bone-hup-69\n",
      "Does this patient have T1 available? True\n",
      "I'm doing the thing.\n",
      "bone-hup-80\n",
      "Does this patient have T1 available? True\n",
      "I'm doing the thing.\n"
     ]
    },
    {
     "name": "stderr",
     "output_type": "stream",
     "text": [
      "\r",
      " 69%|██████▊   | 487/710 [01:30<00:24,  9.09it/s]"
     ]
    },
    {
     "name": "stdout",
     "output_type": "stream",
     "text": [
      "bone-penn-117\n",
      "Does this patient have T1 available? True\n",
      "I'm doing the thing.\n",
      "bone-penn-578\n",
      "Does this patient have T1 available? True\n",
      "I'm doing the thing.\n"
     ]
    },
    {
     "name": "stderr",
     "output_type": "stream",
     "text": [
      "\r",
      " 69%|██████▉   | 489/710 [01:31<00:46,  4.74it/s]"
     ]
    },
    {
     "name": "stdout",
     "output_type": "stream",
     "text": [
      "bone-penn-194\n",
      "Does this patient have T1 available? True\n",
      "I'm doing the thing.\n"
     ]
    },
    {
     "name": "stderr",
     "output_type": "stream",
     "text": [
      "\r",
      " 69%|██████▉   | 490/710 [01:31<00:46,  4.69it/s]"
     ]
    },
    {
     "name": "stdout",
     "output_type": "stream",
     "text": [
      "bone-hup-189\n",
      "Does this patient have T1 available? False\n",
      "T1 image unavailable\n",
      "bone-hup-81\n",
      "Does this patient have T1 available? True\n",
      "I'm doing the thing.\n"
     ]
    },
    {
     "name": "stderr",
     "output_type": "stream",
     "text": [
      "\r",
      " 69%|██████▉   | 492/710 [01:32<00:40,  5.37it/s]"
     ]
    },
    {
     "name": "stderr",
     "output_type": "stream",
     "text": [
      "\r",
      " 69%|██████▉   | 493/710 [01:32<00:36,  6.01it/s]"
     ]
    },
    {
     "name": "stdout",
     "output_type": "stream",
     "text": [
      "bone-penn-511\n",
      "Does this patient have T1 available? True\n",
      "I'm doing the thing.\n",
      "bone-china-189\n",
      "Does this patient have T1 available? True\n",
      "I'm doing the thing.\n",
      "bone-penn-273\n",
      "Does this patient have T1 available? True\n",
      "I'm doing the thing.\n"
     ]
    },
    {
     "name": "stderr",
     "output_type": "stream",
     "text": [
      "\r",
      " 70%|██████▉   | 495/710 [01:32<00:34,  6.27it/s]"
     ]
    },
    {
     "name": "stdout",
     "output_type": "stream",
     "text": [
      "bone-penn-603\n",
      "Does this patient have T1 available? True\n",
      "I'm doing the thing.\n"
     ]
    },
    {
     "name": "stderr",
     "output_type": "stream",
     "text": [
      "\r",
      " 70%|██████▉   | 496/710 [01:32<00:44,  4.83it/s]"
     ]
    },
    {
     "name": "stderr",
     "output_type": "stream",
     "text": [
      "\r",
      " 70%|███████   | 497/710 [01:32<00:38,  5.56it/s]"
     ]
    },
    {
     "name": "stdout",
     "output_type": "stream",
     "text": [
      "bone-hup-175\n",
      "Does this patient have T1 available? True\n",
      "I'm doing the thing.\n",
      "bone-penn-313\n",
      "Does this patient have T1 available? True\n",
      "I'm doing the thing.\n"
     ]
    },
    {
     "name": "stderr",
     "output_type": "stream",
     "text": [
      "\r",
      " 70%|███████   | 498/710 [01:33<00:35,  5.98it/s]"
     ]
    },
    {
     "name": "stderr",
     "output_type": "stream",
     "text": [
      "\r",
      " 70%|███████   | 499/710 [01:33<00:37,  5.63it/s]"
     ]
    },
    {
     "name": "stdout",
     "output_type": "stream",
     "text": [
      "bone-penn-89\n",
      "Does this patient have T1 available? True\n",
      "I'm doing the thing.\n"
     ]
    },
    {
     "name": "stderr",
     "output_type": "stream",
     "text": [
      "\r",
      " 70%|███████   | 500/710 [01:33<00:36,  5.75it/s]"
     ]
    },
    {
     "name": "stdout",
     "output_type": "stream",
     "text": [
      "bone-hup-92\n",
      "Does this patient have T1 available? True\n",
      "I'm doing the thing.\n",
      "bone-hup-232\n",
      "Does this patient have T1 available? True\n",
      "I'm doing the thing.\n"
     ]
    },
    {
     "name": "stderr",
     "output_type": "stream",
     "text": [
      "\r",
      " 71%|███████   | 501/710 [01:33<01:00,  3.44it/s]"
     ]
    },
    {
     "name": "stdout",
     "output_type": "stream",
     "text": [
      "bone-penn-489\n",
      "Does this patient have T1 available? True\n",
      "I'm doing the thing.\n"
     ]
    },
    {
     "name": "stderr",
     "output_type": "stream",
     "text": [
      "\r",
      " 71%|███████   | 502/710 [01:34<01:03,  3.25it/s]"
     ]
    },
    {
     "name": "stderr",
     "output_type": "stream",
     "text": [
      "\r",
      " 71%|███████   | 504/710 [01:34<00:48,  4.24it/s]"
     ]
    },
    {
     "name": "stdout",
     "output_type": "stream",
     "text": [
      "bone-hup-148\n",
      "Does this patient have T1 available? True\n",
      "I'm doing the thing.\n",
      "bone-china-222\n",
      "Does this patient have T1 available? True\n",
      "I'm doing the thing.\n",
      "bone-penn-94\n",
      "Does this patient have T1 available? True\n",
      "I'm doing the thing.\n"
     ]
    },
    {
     "name": "stderr",
     "output_type": "stream",
     "text": [
      "\r",
      " 71%|███████   | 505/710 [01:34<00:43,  4.68it/s]"
     ]
    },
    {
     "name": "stdout",
     "output_type": "stream",
     "text": [
      "bone-hup-101\n",
      "Does this patient have T1 available? True\n",
      "I'm doing the thing.\n"
     ]
    },
    {
     "name": "stderr",
     "output_type": "stream",
     "text": [
      "\r",
      " 71%|███████▏  | 506/710 [01:34<00:48,  4.19it/s]"
     ]
    },
    {
     "name": "stdout",
     "output_type": "stream",
     "text": [
      "bone-penn-196\n",
      "Does this patient have T1 available? True\n",
      "I'm doing the thing.\n"
     ]
    },
    {
     "name": "stderr",
     "output_type": "stream",
     "text": [
      "\r",
      " 71%|███████▏  | 507/710 [01:35<00:53,  3.78it/s]"
     ]
    },
    {
     "name": "stderr",
     "output_type": "stream",
     "text": [
      "\r",
      " 72%|███████▏  | 508/710 [01:35<00:44,  4.52it/s]"
     ]
    },
    {
     "name": "stdout",
     "output_type": "stream",
     "text": [
      "bone-china-147\n",
      "Does this patient have T1 available? True\n",
      "I'm doing the thing.\n",
      "bone-hup-237\n",
      "Does this patient have T1 available? True\n",
      "I'm doing the thing.\n"
     ]
    },
    {
     "name": "stderr",
     "output_type": "stream",
     "text": [
      "\r",
      " 72%|███████▏  | 509/710 [01:35<00:42,  4.69it/s]"
     ]
    },
    {
     "name": "stdout",
     "output_type": "stream",
     "text": [
      "bone-china-179\n",
      "Does this patient have T1 available? True\n",
      "I'm doing the thing.\n",
      "bone-penn-452\n",
      "Does this patient have T1 available? True\n",
      "I'm doing the thing.\n"
     ]
    },
    {
     "name": "stderr",
     "output_type": "stream",
     "text": [
      "\r",
      " 72%|███████▏  | 511/710 [01:35<00:36,  5.38it/s]"
     ]
    },
    {
     "name": "stdout",
     "output_type": "stream",
     "text": [
      "bone-china-171\n",
      "Does this patient have T1 available? True\n",
      "I'm doing the thing.\n",
      "bone-china-144\n",
      "Does this patient have T1 available? True\n",
      "I'm doing the thing.\n"
     ]
    },
    {
     "name": "stderr",
     "output_type": "stream",
     "text": [
      "\r",
      " 72%|███████▏  | 513/710 [01:36<00:33,  5.92it/s]"
     ]
    },
    {
     "name": "stderr",
     "output_type": "stream",
     "text": [
      "\r",
      " 72%|███████▏  | 514/710 [01:36<00:30,  6.34it/s]"
     ]
    },
    {
     "name": "stdout",
     "output_type": "stream",
     "text": [
      "bone-china-226\n",
      "Does this patient have T1 available? True\n",
      "I'm doing the thing.\n",
      "bone-china-120\n",
      "Does this patient have T1 available? True\n",
      "I'm doing the thing.\n"
     ]
    },
    {
     "name": "stderr",
     "output_type": "stream",
     "text": [
      "\r",
      " 73%|███████▎  | 515/710 [01:36<00:29,  6.68it/s]"
     ]
    },
    {
     "name": "stderr",
     "output_type": "stream",
     "text": [
      "\r",
      " 73%|███████▎  | 516/710 [01:36<00:28,  6.89it/s]"
     ]
    },
    {
     "name": "stdout",
     "output_type": "stream",
     "text": [
      "bone-penn-648\n",
      "Does this patient have T1 available? True\n",
      "I'm doing the thing.\n",
      "bone-hup-85\n",
      "Does this patient have T1 available? True\n",
      "I'm doing the thing.\n"
     ]
    },
    {
     "name": "stderr",
     "output_type": "stream",
     "text": [
      "\r",
      " 73%|███████▎  | 517/710 [01:36<00:41,  4.62it/s]"
     ]
    },
    {
     "name": "stderr",
     "output_type": "stream",
     "text": [
      "\r",
      " 73%|███████▎  | 518/710 [01:37<00:39,  4.89it/s]"
     ]
    },
    {
     "name": "stdout",
     "output_type": "stream",
     "text": [
      "bone-hup-244\n",
      "Does this patient have T1 available? True\n",
      "I'm doing the thing.\n",
      "bone-hup-228\n",
      "Does this patient have T1 available? True\n",
      "I'm doing the thing.\n"
     ]
    },
    {
     "name": "stdout",
     "output_type": "stream",
     "text": [
      "bone-penn-191\n",
      "Does this patient have T1 available? True\n",
      "I'm doing the thing.\n"
     ]
    },
    {
     "name": "stderr",
     "output_type": "stream",
     "text": [
      "\r",
      " 73%|███████▎  | 520/710 [01:37<00:37,  5.08it/s]"
     ]
    },
    {
     "name": "stdout",
     "output_type": "stream",
     "text": [
      "bone-hup-181\n",
      "Does this patient have T1 available? True\n",
      "I'm doing the thing.\n"
     ]
    },
    {
     "name": "stderr",
     "output_type": "stream",
     "text": [
      "\r",
      " 73%|███████▎  | 521/710 [01:37<00:41,  4.56it/s]"
     ]
    },
    {
     "name": "stderr",
     "output_type": "stream",
     "text": [
      "\r",
      " 74%|███████▎  | 522/710 [01:37<00:36,  5.19it/s]"
     ]
    },
    {
     "name": "stdout",
     "output_type": "stream",
     "text": [
      "bone-penn-446\n",
      "Does this patient have T1 available? True\n",
      "I'm doing the thing.\n",
      "bone-china-191\n",
      "Does this patient have T1 available? False\n",
      "T1 image unavailable\n",
      "bone-hup-207\n",
      "Does this patient have T1 available? True\n",
      "I'm doing the thing.\n"
     ]
    },
    {
     "name": "stderr",
     "output_type": "stream",
     "text": [
      "\r",
      " 74%|███████▍  | 524/710 [01:37<00:28,  6.61it/s]"
     ]
    },
    {
     "name": "stdout",
     "output_type": "stream",
     "text": [
      "bone-penn-310\n",
      "Does this patient have T1 available? True\n",
      "I'm doing the thing.\n"
     ]
    },
    {
     "name": "stderr",
     "output_type": "stream",
     "text": [
      "\r",
      " 74%|███████▍  | 525/710 [01:38<00:33,  5.49it/s]"
     ]
    },
    {
     "name": "stdout",
     "output_type": "stream",
     "text": [
      "bone-penn-621\n",
      "Does this patient have T1 available? True\n",
      "I'm doing the thing.\n"
     ]
    },
    {
     "name": "stderr",
     "output_type": "stream",
     "text": [
      "\r",
      " 74%|███████▍  | 526/710 [01:38<00:45,  4.04it/s]"
     ]
    },
    {
     "name": "stdout",
     "output_type": "stream",
     "text": [
      "bone-hup-66\n",
      "Does this patient have T1 available? False\n",
      "T1 image unavailable\n",
      "bone-hup-23\n",
      "Does this patient have T1 available? True\n",
      "I'm doing the thing.\n"
     ]
    },
    {
     "name": "stderr",
     "output_type": "stream",
     "text": [
      "\r",
      " 74%|███████▍  | 528/710 [01:38<00:39,  4.58it/s]"
     ]
    },
    {
     "name": "stderr",
     "output_type": "stream",
     "text": [
      "\r",
      " 75%|███████▍  | 531/710 [01:38<00:29,  6.00it/s]"
     ]
    },
    {
     "name": "stdout",
     "output_type": "stream",
     "text": [
      "bone-penn-165\n",
      "Does this patient have T1 available? True\n",
      "I'm doing the thing.\n",
      "bone-penn-177\n",
      "Does this patient have T1 available? False\n",
      "T1 image unavailable\n",
      "bone-china-233\n",
      "Does this patient have T1 available? True\n",
      "I'm doing the thing.\n",
      "bone-penn-629\n",
      "Does this patient have T1 available? True\n",
      "I'm doing the thing.\n"
     ]
    },
    {
     "name": "stdout",
     "output_type": "stream",
     "text": [
      "bone-hup-169\n",
      "Does this patient have T1 available? True\n",
      "I'm doing the thing.\n"
     ]
    },
    {
     "name": "stderr",
     "output_type": "stream",
     "text": [
      "\r",
      " 75%|███████▌  | 533/710 [01:39<00:38,  4.64it/s]"
     ]
    },
    {
     "name": "stdout",
     "output_type": "stream",
     "text": [
      "bone-hup-107\n",
      "Does this patient have T1 available? False\n",
      "T1 image unavailable\n",
      "bone-penn-397\n",
      "Does this patient have T1 available? True\n",
      "I'm doing the thing.\n"
     ]
    },
    {
     "name": "stderr",
     "output_type": "stream",
     "text": [
      "\r",
      " 75%|███████▌  | 535/710 [01:39<00:33,  5.24it/s]"
     ]
    },
    {
     "name": "stderr",
     "output_type": "stream",
     "text": [
      "\r",
      " 75%|███████▌  | 536/710 [01:40<00:32,  5.42it/s]"
     ]
    },
    {
     "name": "stdout",
     "output_type": "stream",
     "text": [
      "bone-penn-98\n",
      "Does this patient have T1 available? True\n",
      "I'm doing the thing.\n",
      "bone-china-119\n",
      "Does this patient have T1 available? True\n",
      "I'm doing the thing.\n"
     ]
    },
    {
     "name": "stderr",
     "output_type": "stream",
     "text": [
      "\r",
      " 76%|███████▌  | 537/710 [01:40<00:29,  5.80it/s]"
     ]
    },
    {
     "name": "stdout",
     "output_type": "stream",
     "text": [
      "bone-hup-162\n",
      "Does this patient have T1 available? True\n",
      "I'm doing the thing.\n"
     ]
    },
    {
     "name": "stderr",
     "output_type": "stream",
     "text": [
      "\r",
      " 76%|███████▌  | 538/710 [01:40<00:32,  5.25it/s]"
     ]
    },
    {
     "name": "stderr",
     "output_type": "stream",
     "text": [
      "\r",
      " 76%|███████▌  | 540/710 [01:40<00:26,  6.30it/s]"
     ]
    },
    {
     "name": "stdout",
     "output_type": "stream",
     "text": [
      "bone-penn-172\n",
      "Does this patient have T1 available? True\n",
      "I'm doing the thing.\n",
      "bone-hup-183\n",
      "Does this patient have T1 available? True\n",
      "I'm doing the thing.\n",
      "bone-hup-190\n",
      "Does this patient have T1 available? True\n",
      "I'm doing the thing.\n"
     ]
    },
    {
     "name": "stderr",
     "output_type": "stream",
     "text": [
      "\r",
      " 76%|███████▌  | 541/710 [01:40<00:32,  5.20it/s]"
     ]
    },
    {
     "name": "stdout",
     "output_type": "stream",
     "text": [
      "bone-penn-321\n",
      "Does this patient have T1 available? False\n",
      "T1 image unavailable\n",
      "bone-penn-126\n",
      "Does this patient have T1 available? True\n",
      "I'm doing the thing.\n"
     ]
    },
    {
     "name": "stderr",
     "output_type": "stream",
     "text": [
      "\r",
      " 76%|███████▋  | 543/710 [01:41<00:31,  5.33it/s]"
     ]
    },
    {
     "name": "stdout",
     "output_type": "stream",
     "text": [
      "bone-hup-262\n",
      "Does this patient have T1 available? True\n",
      "I'm doing the thing.\n",
      "bone-penn-228\n",
      "Does this patient have T1 available? False\n",
      "T1 image unavailable\n",
      "bone-hup-22\n",
      "Does this patient have T1 available? True\n",
      "I'm doing the thing.\n"
     ]
    },
    {
     "name": "stderr",
     "output_type": "stream",
     "text": [
      "\r",
      " 77%|███████▋  | 546/710 [01:41<00:25,  6.54it/s]"
     ]
    },
    {
     "name": "stderr",
     "output_type": "stream",
     "text": [
      "\r",
      " 77%|███████▋  | 548/710 [01:41<00:21,  7.40it/s]"
     ]
    },
    {
     "name": "stdout",
     "output_type": "stream",
     "text": [
      "bone-penn-284\n",
      "Does this patient have T1 available? False\n",
      "T1 image unavailable\n",
      "bone-china-165\n",
      "Does this patient have T1 available? True\n",
      "I'm doing the thing.\n",
      "bone-penn-522\n",
      "Does this patient have T1 available? True\n",
      "I'm doing the thing.\n"
     ]
    },
    {
     "name": "stderr",
     "output_type": "stream",
     "text": [
      "\r",
      " 77%|███████▋  | 549/710 [01:41<00:27,  5.96it/s]"
     ]
    },
    {
     "name": "stdout",
     "output_type": "stream",
     "text": [
      "bone-penn-316\n",
      "Does this patient have T1 available? True\n",
      "I'm doing the thing.\n"
     ]
    },
    {
     "name": "stderr",
     "output_type": "stream",
     "text": [
      "\r",
      " 77%|███████▋  | 550/710 [01:42<00:40,  3.91it/s]"
     ]
    },
    {
     "name": "stderr",
     "output_type": "stream",
     "text": [
      "\r",
      " 78%|███████▊  | 551/710 [01:42<00:35,  4.52it/s]"
     ]
    },
    {
     "name": "stdout",
     "output_type": "stream",
     "text": [
      "bone-china-211\n",
      "Does this patient have T1 available? True\n",
      "I'm doing the thing.\n",
      "bone-china-114\n",
      "Does this patient have T1 available? True\n",
      "I'm doing the thing.\n"
     ]
    },
    {
     "name": "stderr",
     "output_type": "stream",
     "text": [
      "\r",
      " 78%|███████▊  | 552/710 [01:42<00:35,  4.51it/s]"
     ]
    },
    {
     "name": "stderr",
     "output_type": "stream",
     "text": [
      "\r",
      " 78%|███████▊  | 553/710 [01:42<00:33,  4.66it/s]"
     ]
    },
    {
     "name": "stdout",
     "output_type": "stream",
     "text": [
      "bone-hup-218\n",
      "Does this patient have T1 available? True\n",
      "I'm doing the thing.\n",
      "bone-penn-580\n",
      "Does this patient have T1 available? True\n",
      "I'm doing the thing.\n"
     ]
    },
    {
     "name": "stdout",
     "output_type": "stream",
     "text": [
      "bone-penn-334\n",
      "Does this patient have T1 available? True\n",
      "I'm doing the thing.\n"
     ]
    },
    {
     "name": "stderr",
     "output_type": "stream",
     "text": [
      "\r",
      " 78%|███████▊  | 555/710 [01:43<00:34,  4.52it/s]"
     ]
    },
    {
     "name": "stderr",
     "output_type": "stream",
     "text": [
      "\r",
      " 78%|███████▊  | 556/710 [01:43<00:29,  5.25it/s]"
     ]
    },
    {
     "name": "stdout",
     "output_type": "stream",
     "text": [
      "bone-penn-169\n",
      "Does this patient have T1 available? True\n",
      "I'm doing the thing.\n",
      "bone-hup-278\n",
      "Does this patient have T1 available? True\n",
      "I'm doing the thing.\n",
      "bone-hup-59\n",
      "Does this patient have T1 available? True\n",
      "I'm doing the thing.\n"
     ]
    },
    {
     "name": "stderr",
     "output_type": "stream",
     "text": [
      "\r",
      " 79%|███████▊  | 558/710 [01:43<00:26,  5.76it/s]"
     ]
    },
    {
     "name": "stderr",
     "output_type": "stream",
     "text": [
      "\r",
      " 79%|███████▉  | 560/710 [01:43<00:21,  6.85it/s]"
     ]
    },
    {
     "name": "stdout",
     "output_type": "stream",
     "text": [
      "bone-penn-543\n",
      "Does this patient have T1 available? False\n",
      "T1 image unavailable\n",
      "bone-china-174\n",
      "Does this patient have T1 available? True\n",
      "I'm doing the thing.\n",
      "bone-penn-625\n",
      "Does this patient have T1 available? False\n",
      "T1 image unavailable\n",
      "bone-penn-525\n",
      "Does this patient have T1 available? True\n",
      "I'm doing the thing.\n"
     ]
    },
    {
     "name": "stderr",
     "output_type": "stream",
     "text": [
      "\r",
      " 79%|███████▉  | 562/710 [01:44<00:21,  6.99it/s]"
     ]
    },
    {
     "name": "stderr",
     "output_type": "stream",
     "text": [
      "\r",
      " 79%|███████▉  | 563/710 [01:44<00:19,  7.65it/s]"
     ]
    },
    {
     "name": "stdout",
     "output_type": "stream",
     "text": [
      "bone-hup-82\n",
      "Does this patient have T1 available? True\n",
      "I'm doing the thing.\n",
      "bone-hup-216\n",
      "Does this patient have T1 available? True\n",
      "I'm doing the thing.\n"
     ]
    },
    {
     "name": "stderr",
     "output_type": "stream",
     "text": [
      "\r",
      " 79%|███████▉  | 564/710 [01:44<00:21,  6.79it/s]"
     ]
    },
    {
     "name": "stdout",
     "output_type": "stream",
     "text": [
      "bone-hup-120\n",
      "Does this patient have T1 available? True\n",
      "I'm doing the thing.\n"
     ]
    },
    {
     "name": "stderr",
     "output_type": "stream",
     "text": [
      "\r",
      " 80%|███████▉  | 565/710 [01:44<00:26,  5.46it/s]"
     ]
    },
    {
     "name": "stdout",
     "output_type": "stream",
     "text": [
      "bone-hup-258\n",
      "Does this patient have T1 available? True\n",
      "I'm doing the thing.\n"
     ]
    },
    {
     "name": "stderr",
     "output_type": "stream",
     "text": [
      "\r",
      " 80%|███████▉  | 566/710 [01:44<00:27,  5.21it/s]"
     ]
    },
    {
     "name": "stderr",
     "output_type": "stream",
     "text": [
      "\r",
      " 80%|███████▉  | 567/710 [01:45<00:26,  5.35it/s]"
     ]
    },
    {
     "name": "stdout",
     "output_type": "stream",
     "text": [
      "bone-china-160\n",
      "Does this patient have T1 available? True\n",
      "I'm doing the thing.\n",
      "bone-china-157\n",
      "Does this patient have T1 available? True\n",
      "I'm doing the thing.\n"
     ]
    },
    {
     "name": "stderr",
     "output_type": "stream",
     "text": [
      "\r",
      " 80%|████████  | 570/710 [01:45<00:21,  6.63it/s]"
     ]
    },
    {
     "name": "stdout",
     "output_type": "stream",
     "text": [
      "bone-china-095\n",
      "Does this patient have T1 available? False\n",
      "T1 image unavailable\n",
      "bone-china-208\n",
      "Does this patient have T1 available? True\n",
      "I'm doing the thing.\n",
      "bone-penn-308\n",
      "Does this patient have T1 available? True\n",
      "I'm doing the thing.\n"
     ]
    },
    {
     "name": "stderr",
     "output_type": "stream",
     "text": [
      "\r",
      " 80%|████████  | 571/710 [01:45<00:22,  6.28it/s]"
     ]
    },
    {
     "name": "stderr",
     "output_type": "stream",
     "text": [
      "\r",
      " 81%|████████  | 572/710 [01:45<00:22,  6.25it/s]"
     ]
    },
    {
     "name": "stdout",
     "output_type": "stream",
     "text": [
      "bone-hup-73\n",
      "Does this patient have T1 available? True\n",
      "I'm doing the thing.\n",
      "bone-china-128\n",
      "Does this patient have T1 available? True\n",
      "I'm doing the thing.\n"
     ]
    },
    {
     "name": "stderr",
     "output_type": "stream",
     "text": [
      "\r",
      " 81%|████████  | 573/710 [01:45<00:21,  6.32it/s]"
     ]
    },
    {
     "name": "stdout",
     "output_type": "stream",
     "text": [
      "bone-penn-638\n",
      "Does this patient have T1 available? True\n",
      "I'm doing the thing.\n"
     ]
    },
    {
     "name": "stderr",
     "output_type": "stream",
     "text": [
      "\r",
      " 81%|████████  | 574/710 [01:46<00:26,  5.16it/s]"
     ]
    },
    {
     "name": "stderr",
     "output_type": "stream",
     "text": [
      "\r",
      " 81%|████████  | 575/710 [01:46<00:23,  5.63it/s]"
     ]
    },
    {
     "name": "stdout",
     "output_type": "stream",
     "text": [
      "bone-penn-124\n",
      "Does this patient have T1 available? True\n",
      "I'm doing the thing.\n",
      "bone-penn-599\n",
      "Does this patient have T1 available? True\n",
      "I'm doing the thing.\n"
     ]
    },
    {
     "name": "stderr",
     "output_type": "stream",
     "text": [
      "\r",
      " 81%|████████  | 576/710 [01:47<01:20,  1.66it/s]"
     ]
    },
    {
     "name": "stderr",
     "output_type": "stream",
     "text": [
      "\r",
      " 81%|████████▏ | 577/710 [01:48<01:03,  2.09it/s]"
     ]
    },
    {
     "name": "stdout",
     "output_type": "stream",
     "text": [
      "bone-china-134\n",
      "Does this patient have T1 available? True\n",
      "I'm doing the thing.\n",
      "bone-penn-572\n",
      "Does this patient have T1 available? True\n",
      "I'm doing the thing.\n"
     ]
    },
    {
     "name": "stdout",
     "output_type": "stream",
     "text": [
      "bone-penn-576\n",
      "Does this patient have T1 available? True\n",
      "I'm doing the thing.\n"
     ]
    },
    {
     "name": "stderr",
     "output_type": "stream",
     "text": [
      "\r",
      " 82%|████████▏ | 579/710 [01:48<00:50,  2.58it/s]"
     ]
    },
    {
     "name": "stdout",
     "output_type": "stream",
     "text": [
      "bone-penn-521\n",
      "Does this patient have T1 available? True\n",
      "I'm doing the thing.\n"
     ]
    },
    {
     "name": "stderr",
     "output_type": "stream",
     "text": [
      "\r",
      " 82%|████████▏ | 580/710 [01:48<00:54,  2.38it/s]"
     ]
    },
    {
     "name": "stderr",
     "output_type": "stream",
     "text": [
      "\r",
      " 82%|████████▏ | 582/710 [01:49<00:41,  3.11it/s]"
     ]
    },
    {
     "name": "stdout",
     "output_type": "stream",
     "text": [
      "bone-hup-198\n",
      "Does this patient have T1 available? False\n",
      "T1 image unavailable\n",
      "bone-penn-464\n",
      "Does this patient have T1 available? True\n",
      "I'm doing the thing.\n",
      "bone-penn-433\n",
      "Does this patient have T1 available? True\n",
      "I'm doing the thing.\n"
     ]
    },
    {
     "name": "stderr",
     "output_type": "stream",
     "text": [
      "\r",
      " 82%|████████▏ | 583/710 [01:49<00:59,  2.14it/s]"
     ]
    },
    {
     "name": "stderr",
     "output_type": "stream",
     "text": [
      "\r",
      " 82%|████████▏ | 584/710 [01:50<00:45,  2.77it/s]"
     ]
    },
    {
     "name": "stdout",
     "output_type": "stream",
     "text": [
      "bone-hup-170\n",
      "Does this patient have T1 available? True\n",
      "I'm doing the thing.\n",
      "bone-hup-94\n",
      "Does this patient have T1 available? True\n",
      "I'm doing the thing.\n"
     ]
    },
    {
     "name": "stderr",
     "output_type": "stream",
     "text": [
      "\r",
      " 82%|████████▏ | 585/710 [01:50<00:42,  2.97it/s]"
     ]
    },
    {
     "name": "stdout",
     "output_type": "stream",
     "text": [
      "bone-penn-527\n",
      "Does this patient have T1 available? True\n",
      "I'm doing the thing.\n"
     ]
    },
    {
     "name": "stderr",
     "output_type": "stream",
     "text": [
      "\r",
      " 83%|████████▎ | 586/710 [01:50<00:39,  3.16it/s]"
     ]
    },
    {
     "name": "stdout",
     "output_type": "stream",
     "text": [
      "bone-penn-439\n",
      "Does this patient have T1 available? True\n",
      "I'm doing the thing.\n"
     ]
    },
    {
     "name": "stderr",
     "output_type": "stream",
     "text": [
      "\r",
      " 83%|████████▎ | 587/710 [01:51<00:48,  2.52it/s]"
     ]
    },
    {
     "name": "stdout",
     "output_type": "stream",
     "text": [
      "bone-penn-582\n",
      "Does this patient have T1 available? True\n",
      "I'm doing the thing.\n",
      "bone-penn-595\n",
      "Does this patient have T1 available? True\n",
      "I'm doing the thing.\n"
     ]
    },
    {
     "name": "stderr",
     "output_type": "stream",
     "text": [
      "\r",
      " 83%|████████▎ | 589/710 [01:51<00:42,  2.85it/s]"
     ]
    },
    {
     "name": "stdout",
     "output_type": "stream",
     "text": [
      "bone-penn-531\n",
      "Does this patient have T1 available? True\n",
      "I'm doing the thing.\n"
     ]
    },
    {
     "name": "stderr",
     "output_type": "stream",
     "text": [
      "\r",
      " 83%|████████▎ | 590/710 [01:51<00:40,  2.96it/s]"
     ]
    },
    {
     "name": "stdout",
     "output_type": "stream",
     "text": [
      "bone-penn-598\n",
      "Does this patient have T1 available? True\n",
      "I'm doing the thing.\n"
     ]
    },
    {
     "name": "stderr",
     "output_type": "stream",
     "text": [
      "\r",
      " 83%|████████▎ | 591/710 [01:52<00:50,  2.37it/s]"
     ]
    },
    {
     "name": "stderr",
     "output_type": "stream",
     "text": [
      "\r",
      " 83%|████████▎ | 592/710 [01:52<00:40,  2.95it/s]"
     ]
    },
    {
     "name": "stdout",
     "output_type": "stream",
     "text": [
      "bone-hup-83\n",
      "Does this patient have T1 available? True\n",
      "I'm doing the thing.\n",
      "bone-penn-242\n",
      "Does this patient have T1 available? False\n",
      "T1 image unavailable\n",
      "bone-hup-177\n",
      "Does this patient have T1 available? True\n",
      "I'm doing the thing.\n"
     ]
    },
    {
     "name": "stderr",
     "output_type": "stream",
     "text": [
      "\r",
      " 84%|████████▎ | 594/710 [01:52<00:29,  3.88it/s]"
     ]
    },
    {
     "name": "stdout",
     "output_type": "stream",
     "text": [
      "bone-penn-189\n",
      "Does this patient have T1 available? True\n",
      "I'm doing the thing.\n"
     ]
    },
    {
     "name": "stderr",
     "output_type": "stream",
     "text": [
      "\r",
      " 84%|████████▍ | 595/710 [01:53<00:44,  2.59it/s]"
     ]
    },
    {
     "name": "stderr",
     "output_type": "stream",
     "text": [
      "\r",
      " 84%|████████▍ | 596/710 [01:53<00:37,  3.07it/s]"
     ]
    },
    {
     "name": "stdout",
     "output_type": "stream",
     "text": [
      "bone-penn-533\n",
      "Does this patient have T1 available? True\n",
      "I'm doing the thing.\n",
      "bone-penn-575\n",
      "Does this patient have T1 available? True\n",
      "I'm doing the thing.\n"
     ]
    },
    {
     "name": "stderr",
     "output_type": "stream",
     "text": [
      "\r",
      " 84%|████████▍ | 597/710 [01:53<00:29,  3.82it/s]"
     ]
    },
    {
     "name": "stdout",
     "output_type": "stream",
     "text": [
      "bone-hup-127\n",
      "Does this patient have T1 available? True\n",
      "I'm doing the thing.\n",
      "bone-penn-97\n",
      "Does this patient have T1 available? True\n",
      "I'm doing the thing.\n"
     ]
    },
    {
     "name": "stderr",
     "output_type": "stream",
     "text": [
      "\r",
      " 84%|████████▍ | 599/710 [01:54<00:26,  4.20it/s]"
     ]
    },
    {
     "name": "stdout",
     "output_type": "stream",
     "text": [
      "bone-hup-52\n",
      "Does this patient have T1 available? True\n",
      "I'm doing the thing.\n",
      "bone-hup-132\n",
      "Does this patient have T1 available? True\n",
      "I'm doing the thing.\n"
     ]
    },
    {
     "name": "stderr",
     "output_type": "stream",
     "text": [
      "\r",
      " 85%|████████▍ | 601/710 [01:54<00:23,  4.63it/s]"
     ]
    },
    {
     "name": "stderr",
     "output_type": "stream",
     "text": [
      "\r",
      " 85%|████████▍ | 603/710 [01:54<00:18,  5.75it/s]"
     ]
    },
    {
     "name": "stdout",
     "output_type": "stream",
     "text": [
      "bone-penn-642\n",
      "Does this patient have T1 available? False\n",
      "T1 image unavailable\n",
      "bone-china-146\n",
      "Does this patient have T1 available? True\n",
      "I'm doing the thing.\n",
      "bone-hup-78\n",
      "Does this patient have T1 available? True\n",
      "I'm doing the thing.\n"
     ]
    },
    {
     "name": "stderr",
     "output_type": "stream",
     "text": [
      "\r",
      " 85%|████████▌ | 604/710 [01:55<00:25,  4.17it/s]"
     ]
    },
    {
     "name": "stdout",
     "output_type": "stream",
     "text": [
      "bone-penn-209\n",
      "Does this patient have T1 available? True\n",
      "I'm doing the thing.\n"
     ]
    },
    {
     "name": "stderr",
     "output_type": "stream",
     "text": [
      "\r",
      " 85%|████████▌ | 605/710 [01:55<00:27,  3.80it/s]"
     ]
    },
    {
     "name": "stdout",
     "output_type": "stream",
     "text": [
      "bone-penn-109\n",
      "Does this patient have T1 available? True\n",
      "I'm doing the thing.\n",
      "bone-hup-227\n",
      "Does this patient have T1 available? True\n",
      "I'm doing the thing.\n"
     ]
    },
    {
     "name": "stderr",
     "output_type": "stream",
     "text": [
      "\r",
      " 85%|████████▌ | 607/710 [01:55<00:28,  3.63it/s]"
     ]
    },
    {
     "name": "stderr",
     "output_type": "stream",
     "text": [
      "\r",
      " 86%|████████▌ | 608/710 [01:56<00:24,  4.19it/s]"
     ]
    },
    {
     "name": "stdout",
     "output_type": "stream",
     "text": [
      "bone-china-231\n",
      "Does this patient have T1 available? True\n",
      "I'm doing the thing.\n",
      "bone-penn-214\n",
      "Does this patient have T1 available? True\n",
      "I'm doing the thing.\n"
     ]
    },
    {
     "name": "stderr",
     "output_type": "stream",
     "text": [
      "\r",
      " 86%|████████▌ | 609/710 [01:56<00:22,  4.46it/s]"
     ]
    },
    {
     "name": "stdout",
     "output_type": "stream",
     "text": [
      "bone-penn-386\n",
      "Does this patient have T1 available? True\n",
      "I'm doing the thing.\n"
     ]
    },
    {
     "name": "stderr",
     "output_type": "stream",
     "text": [
      "\r",
      " 86%|████████▌ | 610/710 [01:56<00:24,  4.14it/s]"
     ]
    },
    {
     "name": "stderr",
     "output_type": "stream",
     "text": [
      "\r",
      " 86%|████████▌ | 612/710 [01:56<00:18,  5.16it/s]"
     ]
    },
    {
     "name": "stdout",
     "output_type": "stream",
     "text": [
      "bone-penn-634\n",
      "Does this patient have T1 available? False\n",
      "T1 image unavailable\n",
      "bone-china-126\n",
      "Does this patient have T1 available? True\n",
      "I'm doing the thing.\n",
      "bone-penn-574\n",
      "Does this patient have T1 available? True\n",
      "I'm doing the thing.\n"
     ]
    },
    {
     "name": "stdout",
     "output_type": "stream",
     "text": [
      "bone-hup-158\n",
      "Does this patient have T1 available? True\n",
      "I'm doing the thing.\n"
     ]
    },
    {
     "name": "stderr",
     "output_type": "stream",
     "text": [
      "\r",
      " 86%|████████▋ | 614/710 [01:57<00:17,  5.53it/s]"
     ]
    },
    {
     "name": "stdout",
     "output_type": "stream",
     "text": [
      "bone-china-141\n",
      "Does this patient have T1 available? True\n",
      "I'm doing the thing.\n",
      "bone-penn-394\n",
      "Does this patient have T1 available? True\n",
      "I'm doing the thing.\n"
     ]
    },
    {
     "name": "stderr",
     "output_type": "stream",
     "text": [
      "\r",
      " 87%|████████▋ | 616/710 [01:57<00:17,  5.52it/s]"
     ]
    },
    {
     "name": "stdout",
     "output_type": "stream",
     "text": [
      "bone-penn-624\n",
      "Does this patient have T1 available? True\n",
      "I'm doing the thing.\n"
     ]
    },
    {
     "name": "stderr",
     "output_type": "stream",
     "text": [
      "\r",
      " 87%|████████▋ | 617/710 [01:57<00:18,  4.92it/s]"
     ]
    },
    {
     "name": "stdout",
     "output_type": "stream",
     "text": [
      "bone-hup-248\n",
      "Does this patient have T1 available? True\n",
      "I'm doing the thing.\n"
     ]
    },
    {
     "name": "stderr",
     "output_type": "stream",
     "text": [
      "\r",
      " 87%|████████▋ | 618/710 [01:57<00:20,  4.48it/s]"
     ]
    },
    {
     "name": "stderr",
     "output_type": "stream",
     "text": [
      "\r",
      " 87%|████████▋ | 619/710 [01:58<00:19,  4.71it/s]"
     ]
    },
    {
     "name": "stdout",
     "output_type": "stream",
     "text": [
      "bone-hup-103\n",
      "Does this patient have T1 available? True\n",
      "I'm doing the thing.\n",
      "bone-hup-220\n",
      "Does this patient have T1 available? False\n",
      "T1 image unavailable\n",
      "bone-penn-112\n",
      "Does this patient have T1 available? True\n",
      "I'm doing the thing.\n"
     ]
    },
    {
     "name": "stderr",
     "output_type": "stream",
     "text": [
      "\r",
      " 87%|████████▋ | 621/710 [01:58<00:19,  4.48it/s]"
     ]
    },
    {
     "name": "stderr",
     "output_type": "stream",
     "text": [
      "\r",
      " 88%|████████▊ | 622/710 [01:58<00:16,  5.22it/s]"
     ]
    },
    {
     "name": "stdout",
     "output_type": "stream",
     "text": [
      "bone-china-167\n",
      "Does this patient have T1 available? True\n",
      "I'm doing the thing.\n",
      "bone-hup-247\n",
      "Does this patient have T1 available? False\n",
      "T1 image unavailable\n",
      "bone-china-125\n",
      "Does this patient have T1 available? True\n",
      "I'm doing the thing.\n",
      "bone-penn-222\n",
      "Does this patient have T1 available? True\n",
      "I'm doing the thing.\n"
     ]
    },
    {
     "name": "stderr",
     "output_type": "stream",
     "text": [
      "\r",
      " 88%|████████▊ | 625/710 [01:58<00:12,  6.64it/s]"
     ]
    },
    {
     "name": "stderr",
     "output_type": "stream",
     "text": [
      "\r",
      " 88%|████████▊ | 627/710 [01:59<00:10,  7.86it/s]"
     ]
    },
    {
     "name": "stdout",
     "output_type": "stream",
     "text": [
      "bone-hup-184\n",
      "Does this patient have T1 available? True\n",
      "I'm doing the thing.\n",
      "bone-penn-166\n",
      "Does this patient have T1 available? True\n",
      "I'm doing the thing.\n",
      "bone-penn-87\n",
      "Does this patient have T1 available? True\n",
      "I'm doing the thing.\n"
     ]
    },
    {
     "name": "stderr",
     "output_type": "stream",
     "text": [
      "\r",
      " 89%|████████▊ | 629/710 [01:59<00:17,  4.69it/s]"
     ]
    },
    {
     "name": "stdout",
     "output_type": "stream",
     "text": [
      "bone-penn-309\n",
      "Does this patient have T1 available? True\n",
      "I'm doing the thing.\n",
      "bone-penn-292\n",
      "Does this patient have T1 available? True\n",
      "I'm doing the thing.\n"
     ]
    },
    {
     "name": "stdout",
     "output_type": "stream",
     "text": [
      "bone-hup-87\n",
      "Does this patient have T1 available? True\n",
      "I'm doing the thing.\n"
     ]
    },
    {
     "name": "stderr",
     "output_type": "stream",
     "text": [
      "\r",
      " 89%|████████▉ | 631/710 [02:00<00:23,  3.34it/s]"
     ]
    },
    {
     "name": "stdout",
     "output_type": "stream",
     "text": [
      "bone-penn-482\n",
      "Does this patient have T1 available? True\n",
      "I'm doing the thing.\n"
     ]
    },
    {
     "name": "stderr",
     "output_type": "stream",
     "text": [
      "\r",
      " 89%|████████▉ | 632/710 [02:01<00:29,  2.64it/s]"
     ]
    },
    {
     "name": "stderr",
     "output_type": "stream",
     "text": [
      "\r",
      " 89%|████████▉ | 634/710 [02:01<00:21,  3.57it/s]"
     ]
    },
    {
     "name": "stdout",
     "output_type": "stream",
     "text": [
      "bone-china-092\n",
      "Does this patient have T1 available? True\n",
      "I'm doing the thing.\n",
      "bone-penn-626\n",
      "Does this patient have T1 available? True\n",
      "I'm doing the thing.\n",
      "bone-hup-152\n",
      "Does this patient have T1 available? True\n",
      "I'm doing the thing.\n"
     ]
    },
    {
     "name": "stderr",
     "output_type": "stream",
     "text": [
      "\r",
      " 89%|████████▉ | 635/710 [02:01<00:19,  3.88it/s]"
     ]
    },
    {
     "name": "stdout",
     "output_type": "stream",
     "text": [
      "bone-penn-216\n",
      "Does this patient have T1 available? False\n",
      "T1 image unavailable\n",
      "bone-penn-645\n",
      "Does this patient have T1 available? True\n",
      "I'm doing the thing.\n",
      "bone-penn-493\n",
      "Does this patient have T1 available? True\n",
      "I'm doing the thing.\n"
     ]
    },
    {
     "name": "stderr",
     "output_type": "stream",
     "text": [
      "\r",
      " 90%|████████▉ | 638/710 [02:02<00:15,  4.77it/s]"
     ]
    },
    {
     "name": "stderr",
     "output_type": "stream",
     "text": [
      "\r",
      " 90%|█████████ | 639/710 [02:02<00:12,  5.63it/s]"
     ]
    },
    {
     "name": "stdout",
     "output_type": "stream",
     "text": [
      "bone-penn-470\n",
      "Does this patient have T1 available? True\n",
      "I'm doing the thing.\n",
      "bone-penn-195\n",
      "Does this patient have T1 available? False\n",
      "T1 image unavailable\n",
      "bone-penn-82\n",
      "Does this patient have T1 available? True\n",
      "I'm doing the thing.\n"
     ]
    },
    {
     "name": "stderr",
     "output_type": "stream",
     "text": [
      "\r",
      " 90%|█████████ | 641/710 [02:02<00:11,  6.14it/s]"
     ]
    },
    {
     "name": "stderr",
     "output_type": "stream",
     "text": [
      "\r",
      " 90%|█████████ | 642/710 [02:02<00:11,  5.79it/s]"
     ]
    },
    {
     "name": "stdout",
     "output_type": "stream",
     "text": [
      "bone-hup-119\n",
      "Does this patient have T1 available? True\n",
      "I'm doing the thing.\n",
      "bone-china-215\n",
      "Does this patient have T1 available? True\n",
      "I'm doing the thing.\n"
     ]
    },
    {
     "name": "stderr",
     "output_type": "stream",
     "text": [
      "\r",
      " 91%|█████████ | 643/710 [02:02<00:11,  6.03it/s]"
     ]
    },
    {
     "name": "stdout",
     "output_type": "stream",
     "text": [
      "bone-penn-643\n",
      "Does this patient have T1 available? True\n",
      "I'm doing the thing.\n"
     ]
    },
    {
     "name": "stderr",
     "output_type": "stream",
     "text": [
      "\r",
      " 91%|█████████ | 644/710 [02:03<00:15,  4.22it/s]"
     ]
    },
    {
     "name": "stdout",
     "output_type": "stream",
     "text": [
      "bone-penn-537\n",
      "Does this patient have T1 available? True\n",
      "I'm doing the thing.\n"
     ]
    },
    {
     "name": "stderr",
     "output_type": "stream",
     "text": [
      "\r",
      " 91%|█████████ | 645/710 [02:03<00:15,  4.29it/s]"
     ]
    },
    {
     "name": "stderr",
     "output_type": "stream",
     "text": [
      "\r",
      " 91%|█████████ | 646/710 [02:03<00:13,  4.81it/s]"
     ]
    },
    {
     "name": "stdout",
     "output_type": "stream",
     "text": [
      "bone-hup-113\n",
      "Does this patient have T1 available? True\n",
      "I'm doing the thing.\n",
      "bone-hup-144\n",
      "Does this patient have T1 available? True\n",
      "I'm doing the thing.\n"
     ]
    },
    {
     "name": "stderr",
     "output_type": "stream",
     "text": [
      "\r",
      " 91%|█████████ | 647/710 [02:03<00:14,  4.48it/s]"
     ]
    },
    {
     "name": "stdout",
     "output_type": "stream",
     "text": [
      "bone-china-158\n",
      "Does this patient have T1 available? True\n",
      "I'm doing the thing.\n",
      "bone-penn-251\n",
      "Does this patient have T1 available? True\n",
      "I'm doing the thing.\n"
     ]
    },
    {
     "name": "stderr",
     "output_type": "stream",
     "text": [
      "\r",
      " 91%|█████████▏| 649/710 [02:04<00:11,  5.29it/s]"
     ]
    },
    {
     "name": "stderr",
     "output_type": "stream",
     "text": [
      "\r",
      " 92%|█████████▏| 650/710 [02:04<00:09,  6.01it/s]"
     ]
    },
    {
     "name": "stdout",
     "output_type": "stream",
     "text": [
      "bone-china-182\n",
      "Does this patient have T1 available? True\n",
      "I'm doing the thing.\n",
      "bone-penn-288\n",
      "Does this patient have T1 available? True\n",
      "I'm doing the thing.\n"
     ]
    },
    {
     "name": "stderr",
     "output_type": "stream",
     "text": [
      "\r",
      " 92%|█████████▏| 651/710 [02:04<00:09,  6.25it/s]"
     ]
    },
    {
     "name": "stdout",
     "output_type": "stream",
     "text": [
      "bone-china-115\n",
      "Does this patient have T1 available? True\n",
      "I'm doing the thing.\n"
     ]
    },
    {
     "name": "stderr",
     "output_type": "stream",
     "text": [
      "\r",
      " 92%|█████████▏| 652/710 [02:04<00:10,  5.40it/s]"
     ]
    },
    {
     "name": "stdout",
     "output_type": "stream",
     "text": [
      "bone-penn-453\n",
      "Does this patient have T1 available? True\n",
      "I'm doing the thing.\n"
     ]
    },
    {
     "name": "stderr",
     "output_type": "stream",
     "text": [
      "\r",
      " 92%|█████████▏| 653/710 [02:04<00:11,  4.81it/s]"
     ]
    },
    {
     "name": "stderr",
     "output_type": "stream",
     "text": [
      "\r",
      " 92%|█████████▏| 654/710 [02:04<00:10,  5.09it/s]"
     ]
    },
    {
     "name": "stdout",
     "output_type": "stream",
     "text": [
      "bone-china-138\n",
      "Does this patient have T1 available? True\n",
      "I'm doing the thing.\n",
      "bone-penn-529\n",
      "Does this patient have T1 available? True\n",
      "I'm doing the thing.\n"
     ]
    },
    {
     "name": "stderr",
     "output_type": "stream",
     "text": [
      "\r",
      " 92%|█████████▏| 655/710 [02:05<00:12,  4.51it/s]"
     ]
    },
    {
     "name": "stdout",
     "output_type": "stream",
     "text": [
      "bone-penn-233\n",
      "Does this patient have T1 available? True\n",
      "I'm doing the thing.\n"
     ]
    },
    {
     "name": "stderr",
     "output_type": "stream",
     "text": [
      "\r",
      " 92%|█████████▏| 656/710 [02:05<00:14,  3.79it/s]"
     ]
    },
    {
     "name": "stdout",
     "output_type": "stream",
     "text": [
      "\n",
      "################################################################################\n",
      "Exception occurred for: outcome_pos   1.000\n",
      "outcome_neg   1.000\n",
      "outcome_3     2.000\n",
      "sort              -\n",
      "volume        0.141\n",
      "Name: bone-penn-233, dtype: object\n",
      "index 148 is out of bounds for axis 0 with size 2\n",
      "T1 image unavailable\n",
      "Traceback (most recent call last):\n",
      "  File \"/home/user1/Documents/Bone-MRI/data_gen.py\", line 373, in generate_from_features\n",
      "    t1_masked = load_image(t1_image_file, t1_seg_file, verbose=verbose)\n",
      "  File \"/home/user1/Documents/Bone-MRI/data_gen.py\", line 331, in load_image\n",
      "    return [mask_image_percentile(image, segmentation, 100, a) for a in (0, 1, 2)]\n",
      "  File \"/home/user1/Documents/Bone-MRI/data_gen.py\", line 331, in <listcomp>\n",
      "    return [mask_image_percentile(image, segmentation, 100, a) for a in (0, 1, 2)]\n",
      "  File \"/home/user1/Documents/Bone-MRI/data_gen.py\", line 335, in mask_image_percentile\n",
      "    image, segmentation = select_slice(image, segmentation, plane, axis)\n",
      "  File \"/home/user1/Documents/Bone-MRI/segmentation.py\", line 40, in select_slice\n",
      "    image = axis_plane[axis](image, plane)\n",
      "  File \"/home/user1/Documents/Bone-MRI/segmentation.py\", line 13, in <lambda>\n",
      "    0: lambda image, plane : image[plane, :, :],\n",
      "IndexError: index 148 is out of bounds for axis 0 with size 2\n",
      "\n",
      "bone-penn-590\n",
      "Does this patient have T1 available? True\n",
      "I'm doing the thing.\n"
     ]
    },
    {
     "name": "stderr",
     "output_type": "stream",
     "text": [
      "\r",
      " 93%|█████████▎| 657/710 [02:06<00:19,  2.76it/s]"
     ]
    },
    {
     "name": "stderr",
     "output_type": "stream",
     "text": [
      "\r",
      " 93%|█████████▎| 658/710 [02:06<00:16,  3.18it/s]"
     ]
    },
    {
     "name": "stdout",
     "output_type": "stream",
     "text": [
      "bone-penn-295\n",
      "Does this patient have T1 available? True\n",
      "I'm doing the thing.\n",
      "bone-penn-613\n",
      "Does this patient have T1 available? True\n",
      "I'm doing the thing.\n"
     ]
    },
    {
     "name": "stderr",
     "output_type": "stream",
     "text": [
      "\r",
      " 93%|█████████▎| 659/710 [02:06<00:12,  3.99it/s]"
     ]
    },
    {
     "name": "stderr",
     "output_type": "stream",
     "text": [
      "\r",
      " 93%|█████████▎| 661/710 [02:06<00:09,  5.21it/s]"
     ]
    },
    {
     "name": "stdout",
     "output_type": "stream",
     "text": [
      "bone-china-098\n",
      "Does this patient have T1 available? False\n",
      "T1 image unavailable\n",
      "bone-penn-90\n",
      "Does this patient have T1 available? True\n",
      "I'm doing the thing.\n",
      "bone-penn-583\n",
      "Does this patient have T1 available? True\n",
      "I'm doing the thing.\n"
     ]
    },
    {
     "name": "stderr",
     "output_type": "stream",
     "text": [
      "\r",
      " 93%|█████████▎| 662/710 [02:06<00:12,  3.95it/s]"
     ]
    },
    {
     "name": "stdout",
     "output_type": "stream",
     "text": [
      "bone-penn-205\n",
      "Does this patient have T1 available? True\n",
      "I'm doing the thing.\n"
     ]
    },
    {
     "name": "stderr",
     "output_type": "stream",
     "text": [
      "\r",
      " 93%|█████████▎| 663/710 [02:07<00:12,  3.71it/s]"
     ]
    },
    {
     "name": "stdout",
     "output_type": "stream",
     "text": [
      "bone-hup-86\n",
      "Does this patient have T1 available? True\n",
      "I'm doing the thing.\n"
     ]
    },
    {
     "name": "stderr",
     "output_type": "stream",
     "text": [
      "\r",
      " 94%|█████████▎| 664/710 [02:07<00:18,  2.53it/s]"
     ]
    },
    {
     "name": "stdout",
     "output_type": "stream",
     "text": [
      "bone-penn-167\n",
      "Does this patient have T1 available? True\n",
      "I'm doing the thing.\n"
     ]
    },
    {
     "name": "stderr",
     "output_type": "stream",
     "text": [
      "\r",
      " 94%|█████████▎| 665/710 [02:09<00:32,  1.37it/s]"
     ]
    },
    {
     "name": "stderr",
     "output_type": "stream",
     "text": [
      "\r",
      " 94%|█████████▍| 667/710 [02:09<00:23,  1.85it/s]"
     ]
    },
    {
     "name": "stdout",
     "output_type": "stream",
     "text": [
      "bone-hup-200\n",
      "Does this patient have T1 available? True\n",
      "I'm doing the thing.\n",
      "bone-china-106\n",
      "Does this patient have T1 available? True\n",
      "I'm doing the thing.\n",
      "bone-hup-106\n",
      "Does this patient have T1 available? True\n",
      "I'm doing the thing.\n"
     ]
    },
    {
     "name": "stderr",
     "output_type": "stream",
     "text": [
      "\r",
      " 94%|█████████▍| 668/710 [02:10<00:20,  2.06it/s]"
     ]
    },
    {
     "name": "stderr",
     "output_type": "stream",
     "text": [
      "\r",
      " 94%|█████████▍| 669/710 [02:10<00:15,  2.59it/s]"
     ]
    },
    {
     "name": "stdout",
     "output_type": "stream",
     "text": [
      "bone-china-130\n",
      "Does this patient have T1 available? True\n",
      "I'm doing the thing.\n",
      "bone-china-172\n",
      "Does this patient have T1 available? False\n",
      "T1 image unavailable\n",
      "bone-penn-230\n",
      "Does this patient have T1 available? True\n",
      "I'm doing the thing.\n"
     ]
    },
    {
     "name": "stderr",
     "output_type": "stream",
     "text": [
      "\r",
      " 95%|█████████▍| 671/710 [02:10<00:13,  2.85it/s]"
     ]
    },
    {
     "name": "stderr",
     "output_type": "stream",
     "text": [
      "\r",
      " 95%|█████████▍| 672/710 [02:10<00:11,  3.45it/s]"
     ]
    },
    {
     "name": "stdout",
     "output_type": "stream",
     "text": [
      "bone-china-153\n",
      "Does this patient have T1 available? True\n",
      "I'm doing the thing.\n",
      "bone-hup-240\n",
      "Does this patient have T1 available? False\n",
      "T1 image unavailable\n",
      "bone-penn-173\n",
      "Does this patient have T1 available? True\n",
      "I'm doing the thing.\n"
     ]
    },
    {
     "name": "stderr",
     "output_type": "stream",
     "text": [
      "\r",
      " 95%|█████████▍| 674/710 [02:11<00:08,  4.23it/s]"
     ]
    },
    {
     "name": "stdout",
     "output_type": "stream",
     "text": [
      "bone-penn-396\n",
      "Does this patient have T1 available? True\n",
      "I'm doing the thing.\n"
     ]
    },
    {
     "name": "stderr",
     "output_type": "stream",
     "text": [
      "\r",
      " 95%|█████████▌| 675/710 [02:11<00:10,  3.43it/s]"
     ]
    },
    {
     "name": "stdout",
     "output_type": "stream",
     "text": [
      "bone-hup-118\n",
      "Does this patient have T1 available? True\n",
      "I'm doing the thing.\n"
     ]
    },
    {
     "name": "stderr",
     "output_type": "stream",
     "text": [
      "\r",
      " 95%|█████████▌| 676/710 [02:12<00:12,  2.70it/s]"
     ]
    },
    {
     "name": "stderr",
     "output_type": "stream",
     "text": [
      "\r",
      " 95%|█████████▌| 677/710 [02:12<00:09,  3.44it/s]"
     ]
    },
    {
     "name": "stdout",
     "output_type": "stream",
     "text": [
      "bone-penn-481\n",
      "Does this patient have T1 available? True\n",
      "I'm doing the thing.\n",
      "bone-penn-463\n",
      "Does this patient have T1 available? True\n",
      "I'm doing the thing.\n"
     ]
    },
    {
     "name": "stderr",
     "output_type": "stream",
     "text": [
      "\r",
      " 95%|█████████▌| 678/710 [02:12<00:07,  4.09it/s]"
     ]
    },
    {
     "name": "stdout",
     "output_type": "stream",
     "text": [
      "bone-china-111\n",
      "Does this patient have T1 available? False\n",
      "T1 image unavailable\n",
      "bone-penn-382\n",
      "Does this patient have T1 available? True\n",
      "I'm doing the thing.\n"
     ]
    },
    {
     "name": "stderr",
     "output_type": "stream",
     "text": [
      "\r",
      " 96%|█████████▌| 680/710 [02:12<00:06,  4.33it/s]"
     ]
    },
    {
     "name": "stdout",
     "output_type": "stream",
     "text": [
      "bone-penn-204\n",
      "Does this patient have T1 available? True\n",
      "I'm doing the thing.\n"
     ]
    },
    {
     "name": "stderr",
     "output_type": "stream",
     "text": [
      "\r",
      " 96%|█████████▌| 681/710 [02:13<00:13,  2.22it/s]"
     ]
    },
    {
     "name": "stderr",
     "output_type": "stream",
     "text": [
      "\r",
      " 96%|█████████▌| 683/710 [02:13<00:08,  3.02it/s]"
     ]
    },
    {
     "name": "stdout",
     "output_type": "stream",
     "text": [
      "bone-penn-267\n",
      "Does this patient have T1 available? True\n",
      "I'm doing the thing.\n",
      "bone-hup-267\n",
      "Does this patient have T1 available? True\n",
      "I'm doing the thing.\n",
      "bone-penn-249\n",
      "Does this patient have T1 available? True\n",
      "I'm doing the thing.\n",
      "bone-penn-488\n",
      "Does this patient have T1 available? True\n",
      "I'm doing the thing.\n"
     ]
    },
    {
     "name": "stderr",
     "output_type": "stream",
     "text": [
      "\r",
      " 96%|█████████▋| 685/710 [02:13<00:06,  4.01it/s]"
     ]
    },
    {
     "name": "stdout",
     "output_type": "stream",
     "text": [
      "bone-hup-100\n",
      "Does this patient have T1 available? False\n",
      "T1 image unavailable\n",
      "bone-hup-211\n",
      "Does this patient have T1 available? True\n",
      "I'm doing the thing.\n"
     ]
    },
    {
     "name": "stderr",
     "output_type": "stream",
     "text": [
      "\r",
      " 97%|█████████▋| 687/710 [02:14<00:05,  4.32it/s]"
     ]
    },
    {
     "name": "stdout",
     "output_type": "stream",
     "text": [
      "bone-hup-57\n",
      "Does this patient have T1 available? True\n",
      "I'm doing the thing.\n"
     ]
    },
    {
     "name": "stderr",
     "output_type": "stream",
     "text": [
      "\r",
      " 97%|█████████▋| 688/710 [02:14<00:05,  3.79it/s]"
     ]
    },
    {
     "name": "stderr",
     "output_type": "stream",
     "text": [
      "\r",
      " 97%|█████████▋| 689/710 [02:14<00:04,  4.36it/s]"
     ]
    },
    {
     "name": "stdout",
     "output_type": "stream",
     "text": [
      "bone-penn-193\n",
      "Does this patient have T1 available? True\n",
      "I'm doing the thing.\n",
      "bone-china-234\n",
      "Does this patient have T1 available? True\n",
      "I'm doing the thing.\n"
     ]
    },
    {
     "name": "stderr",
     "output_type": "stream",
     "text": [
      "\r",
      " 97%|█████████▋| 690/710 [02:14<00:03,  5.13it/s]"
     ]
    },
    {
     "name": "stdout",
     "output_type": "stream",
     "text": [
      "bone-hup-154\n",
      "Does this patient have T1 available? True\n",
      "I'm doing the thing.\n"
     ]
    },
    {
     "name": "stderr",
     "output_type": "stream",
     "text": [
      "\r",
      " 97%|█████████▋| 691/710 [02:15<00:04,  4.60it/s]"
     ]
    },
    {
     "name": "stderr",
     "output_type": "stream",
     "text": [
      "\r",
      " 97%|█████████▋| 692/710 [02:15<00:03,  4.91it/s]"
     ]
    },
    {
     "name": "stdout",
     "output_type": "stream",
     "text": [
      "bone-china-104\n",
      "Does this patient have T1 available? True\n",
      "I'm doing the thing.\n",
      "bone-penn-118\n",
      "Does this patient have T1 available? True\n",
      "I'm doing the thing.\n"
     ]
    },
    {
     "name": "stderr",
     "output_type": "stream",
     "text": [
      "\r",
      " 98%|█████████▊| 693/710 [02:16<00:08,  2.01it/s]"
     ]
    },
    {
     "name": "stderr",
     "output_type": "stream",
     "text": [
      "\r",
      " 98%|█████████▊| 695/710 [02:16<00:05,  2.75it/s]"
     ]
    },
    {
     "name": "stdout",
     "output_type": "stream",
     "text": [
      "bone-penn-395\n",
      "Does this patient have T1 available? True\n",
      "I'm doing the thing.\n",
      "bone-penn-373\n",
      "Does this patient have T1 available? False\n",
      "T1 image unavailable\n",
      "bone-penn-122\n",
      "Does this patient have T1 available? True\n",
      "I'm doing the thing.\n"
     ]
    },
    {
     "name": "stdout",
     "output_type": "stream",
     "text": [
      "bone-penn-250\n",
      "Does this patient have T1 available? True\n",
      "I'm doing the thing.\n"
     ]
    },
    {
     "name": "stderr",
     "output_type": "stream",
     "text": [
      "\r",
      " 98%|█████████▊| 697/710 [02:17<00:04,  3.20it/s]"
     ]
    },
    {
     "name": "stderr",
     "output_type": "stream",
     "text": [
      "\r",
      " 98%|█████████▊| 698/710 [02:17<00:03,  3.98it/s]"
     ]
    },
    {
     "name": "stdout",
     "output_type": "stream",
     "text": [
      "bone-hup-58\n",
      "Does this patient have T1 available? True\n",
      "I'm doing the thing.\n",
      "\n",
      "################################################################################\n",
      "Exception occurred for: outcome_pos   1.000\n",
      "outcome_neg   1.000\n",
      "outcome_3     2.000\n",
      "sort              -\n",
      "volume        0.140\n",
      "Name: bone-hup-58, dtype: object\n",
      "index 160 is out of bounds for axis 0 with size 2\n",
      "T1 image unavailable\n",
      "Traceback (most recent call last):\n",
      "  File \"/home/user1/Documents/Bone-MRI/data_gen.py\", line 373, in generate_from_features\n",
      "    t1_masked = load_image(t1_image_file, t1_seg_file, verbose=verbose)\n",
      "  File \"/home/user1/Documents/Bone-MRI/data_gen.py\", line 331, in load_image\n",
      "    return [mask_image_percentile(image, segmentation, 100, a) for a in (0, 1, 2)]\n",
      "  File \"/home/user1/Documents/Bone-MRI/data_gen.py\", line 331, in <listcomp>\n",
      "    return [mask_image_percentile(image, segmentation, 100, a) for a in (0, 1, 2)]\n",
      "  File \"/home/user1/Documents/Bone-MRI/data_gen.py\", line 335, in mask_image_percentile\n",
      "    image, segmentation = select_slice(image, segmentation, plane, axis)\n",
      "  File \"/home/user1/Documents/Bone-MRI/segmentation.py\", line 40, in select_slice\n",
      "    image = axis_plane[axis](image, plane)\n",
      "  File \"/home/user1/Documents/Bone-MRI/segmentation.py\", line 13, in <lambda>\n",
      "    0: lambda image, plane : image[plane, :, :],\n",
      "IndexError: index 160 is out of bounds for axis 0 with size 2\n",
      "\n",
      "bone-penn-365\n",
      "Does this patient have T1 available? True\n",
      "I'm doing the thing.\n"
     ]
    },
    {
     "name": "stderr",
     "output_type": "stream",
     "text": [
      "\r",
      " 98%|█████████▊| 699/710 [02:17<00:02,  3.85it/s]"
     ]
    },
    {
     "name": "stdout",
     "output_type": "stream",
     "text": [
      "bone-penn-220\n",
      "Does this patient have T1 available? True\n",
      "I'm doing the thing.\n"
     ]
    },
    {
     "name": "stderr",
     "output_type": "stream",
     "text": [
      "\r",
      " 99%|█████████▊| 700/710 [02:17<00:03,  3.05it/s]"
     ]
    },
    {
     "name": "stdout",
     "output_type": "stream",
     "text": [
      "bone-penn-406\n",
      "Does this patient have T1 available? True\n",
      "I'm doing the thing.\n"
     ]
    },
    {
     "name": "stderr",
     "output_type": "stream",
     "text": [
      "\r",
      " 99%|█████████▊| 701/710 [02:18<00:02,  3.07it/s]"
     ]
    },
    {
     "name": "stderr",
     "output_type": "stream",
     "text": [
      "\r",
      " 99%|█████████▉| 702/710 [02:18<00:02,  3.80it/s]"
     ]
    },
    {
     "name": "stdout",
     "output_type": "stream",
     "text": [
      "bone-china-151\n",
      "Does this patient have T1 available? True\n",
      "I'm doing the thing.\n",
      "bone-penn-623\n",
      "Does this patient have T1 available? False\n",
      "T1 image unavailable\n",
      "bone-penn-186\n",
      "Does this patient have T1 available? True\n",
      "I'm doing the thing.\n"
     ]
    },
    {
     "name": "stderr",
     "output_type": "stream",
     "text": [
      "\r",
      " 99%|█████████▉| 704/710 [02:18<00:01,  3.94it/s]"
     ]
    },
    {
     "name": "stderr",
     "output_type": "stream",
     "text": [
      "\r",
      " 99%|█████████▉| 705/710 [02:18<00:01,  4.42it/s]"
     ]
    },
    {
     "name": "stdout",
     "output_type": "stream",
     "text": [
      "bone-penn-405\n",
      "Does this patient have T1 available? True\n",
      "I'm doing the thing.\n",
      "bone-penn-181\n",
      "Does this patient have T1 available? True\n",
      "I'm doing the thing.\n"
     ]
    },
    {
     "name": "stderr",
     "output_type": "stream",
     "text": [
      "\r",
      " 99%|█████████▉| 706/710 [02:19<00:01,  3.99it/s]"
     ]
    },
    {
     "name": "stdout",
     "output_type": "stream",
     "text": [
      "bone-hup-93\n",
      "Does this patient have T1 available? True\n",
      "I'm doing the thing.\n"
     ]
    },
    {
     "name": "stderr",
     "output_type": "stream",
     "text": [
      "\r",
      "100%|█████████▉| 707/710 [02:19<00:00,  3.44it/s]"
     ]
    },
    {
     "name": "stdout",
     "output_type": "stream",
     "text": [
      "bone-hup-128\n",
      "Does this patient have T1 available? True\n",
      "I'm doing the thing.\n"
     ]
    },
    {
     "name": "stderr",
     "output_type": "stream",
     "text": [
      "\r",
      "100%|█████████▉| 708/710 [02:20<00:00,  2.89it/s]"
     ]
    },
    {
     "name": "stdout",
     "output_type": "stream",
     "text": [
      "bone-penn-356\n",
      "Does this patient have T1 available? True\n",
      "I'm doing the thing.\n"
     ]
    },
    {
     "name": "stderr",
     "output_type": "stream",
     "text": [
      "\r",
      "100%|█████████▉| 709/710 [02:20<00:00,  3.15it/s]"
     ]
    },
    {
     "name": "stderr",
     "output_type": "stream",
     "text": [
      "\r",
      "100%|██████████| 710/710 [02:20<00:00,  3.85it/s]"
     ]
    },
    {
     "name": "stderr",
     "output_type": "stream",
     "text": [
      "\r",
      "100%|██████████| 710/710 [02:20<00:00,  5.05it/s]"
     ]
    },
    {
     "name": "stderr",
     "output_type": "stream",
     "text": [
      "\n",
      "\r",
      "  0%|          | 0/201 [00:00<?, ?it/s]"
     ]
    },
    {
     "name": "stdout",
     "output_type": "stream",
     "text": [
      "bone-china-057\n",
      "Does this patient have T1 available? True\n",
      "I'm doing the thing.\n",
      "bone-penn-108\n",
      "Does this patient have T1 available? True\n",
      "I'm doing the thing.\n"
     ]
    },
    {
     "name": "stderr",
     "output_type": "stream",
     "text": [
      "\r",
      "  0%|          | 1/201 [00:00<01:13,  2.73it/s]"
     ]
    },
    {
     "name": "stdout",
     "output_type": "stream",
     "text": [
      "bone-hup-305\n",
      "Does this patient have T1 available? True\n",
      "I'm doing the thing.\n"
     ]
    },
    {
     "name": "stderr",
     "output_type": "stream",
     "text": [
      "\r",
      "  1%|          | 2/201 [00:00<01:10,  2.81it/s]"
     ]
    },
    {
     "name": "stderr",
     "output_type": "stream",
     "text": [
      "\r",
      "  1%|▏         | 3/201 [00:00<00:56,  3.47it/s]"
     ]
    },
    {
     "name": "stdout",
     "output_type": "stream",
     "text": [
      "bone-penn-505\n",
      "Does this patient have T1 available? True\n",
      "I'm doing the thing.\n",
      "bone-hup-264\n",
      "Does this patient have T1 available? True\n",
      "I'm doing the thing.\n"
     ]
    },
    {
     "name": "stderr",
     "output_type": "stream",
     "text": [
      "\r",
      "  2%|▏         | 4/201 [00:01<01:03,  3.12it/s]"
     ]
    },
    {
     "name": "stdout",
     "output_type": "stream",
     "text": [
      "bone-penn-91\n",
      "Does this patient have T1 available? True\n",
      "I'm doing the thing.\n"
     ]
    },
    {
     "name": "stderr",
     "output_type": "stream",
     "text": [
      "\r",
      "  2%|▏         | 5/201 [00:01<01:03,  3.08it/s]"
     ]
    },
    {
     "name": "stderr",
     "output_type": "stream",
     "text": [
      "\r",
      "  3%|▎         | 6/201 [00:01<00:51,  3.80it/s]"
     ]
    },
    {
     "name": "stdout",
     "output_type": "stream",
     "text": [
      "bone-penn-151\n",
      "Does this patient have T1 available? True\n",
      "I'm doing the thing.\n",
      "bone-china-052\n",
      "Does this patient have T1 available? True\n",
      "I'm doing the thing.\n",
      "bone-hup-159\n",
      "Does this patient have T1 available? True\n",
      "I'm doing the thing.\n"
     ]
    },
    {
     "name": "stderr",
     "output_type": "stream",
     "text": [
      "\r",
      "  4%|▍         | 8/201 [00:01<00:38,  4.99it/s]"
     ]
    },
    {
     "name": "stdout",
     "output_type": "stream",
     "text": [
      "bone-penn-146\n",
      "Does this patient have T1 available? True\n",
      "I'm doing the thing.\n"
     ]
    },
    {
     "name": "stderr",
     "output_type": "stream",
     "text": [
      "\r",
      "  4%|▍         | 9/201 [00:02<00:40,  4.80it/s]"
     ]
    },
    {
     "name": "stderr",
     "output_type": "stream",
     "text": [
      "\r",
      "  5%|▍         | 10/201 [00:02<00:38,  4.99it/s]"
     ]
    },
    {
     "name": "stdout",
     "output_type": "stream",
     "text": [
      "bone-china-086\n",
      "Does this patient have T1 available? True\n",
      "I'm doing the thing.\n",
      "bone-penn-156\n",
      "Does this patient have T1 available? True\n",
      "I'm doing the thing.\n"
     ]
    },
    {
     "name": "stderr",
     "output_type": "stream",
     "text": [
      "\r",
      "  5%|▌         | 11/201 [00:02<00:35,  5.41it/s]"
     ]
    },
    {
     "name": "stderr",
     "output_type": "stream",
     "text": [
      "\r",
      "  6%|▌         | 12/201 [00:02<00:31,  6.06it/s]"
     ]
    },
    {
     "name": "stdout",
     "output_type": "stream",
     "text": [
      "bone-china-012\n",
      "Does this patient have T1 available? True\n",
      "I'm doing the thing.\n",
      "bone-china-083\n",
      "Does this patient have T1 available? True\n",
      "I'm doing the thing.\n",
      "bone-penn-152\n",
      "Does this patient have T1 available? True\n",
      "I'm doing the thing.\n"
     ]
    },
    {
     "name": "stderr",
     "output_type": "stream",
     "text": [
      "\r",
      "  7%|▋         | 14/201 [00:02<00:30,  6.15it/s]"
     ]
    },
    {
     "name": "stdout",
     "output_type": "stream",
     "text": [
      "bone-penn-150\n",
      "Does this patient have T1 available? True\n",
      "I'm doing the thing.\n"
     ]
    },
    {
     "name": "stderr",
     "output_type": "stream",
     "text": [
      "\r",
      "  7%|▋         | 15/201 [00:03<00:36,  5.05it/s]"
     ]
    },
    {
     "name": "stderr",
     "output_type": "stream",
     "text": [
      "\r",
      "  8%|▊         | 16/201 [00:03<00:33,  5.45it/s]"
     ]
    },
    {
     "name": "stdout",
     "output_type": "stream",
     "text": [
      "bone-china-028\n",
      "Does this patient have T1 available? True\n",
      "I'm doing the thing.\n",
      "bone-penn-457\n",
      "Does this patient have T1 available? True\n",
      "I'm doing the thing.\n"
     ]
    },
    {
     "name": "stderr",
     "output_type": "stream",
     "text": [
      "\r",
      "  8%|▊         | 17/201 [00:03<00:34,  5.39it/s]"
     ]
    },
    {
     "name": "stdout",
     "output_type": "stream",
     "text": [
      "bone-china-011\n",
      "Does this patient have T1 available? False\n",
      "T1 image unavailable\n",
      "bone-penn-503\n",
      "Does this patient have T1 available? True\n",
      "I'm doing the thing.\n"
     ]
    },
    {
     "name": "stderr",
     "output_type": "stream",
     "text": [
      "\r",
      "  9%|▉         | 19/201 [00:03<00:32,  5.52it/s]"
     ]
    },
    {
     "name": "stdout",
     "output_type": "stream",
     "text": [
      "bone-penn-573\n",
      "Does this patient have T1 available? True\n",
      "I'm doing the thing.\n",
      "bone-china-024\n",
      "Does this patient have T1 available? False\n",
      "T1 image unavailable\n",
      "bone-penn-312\n",
      "Does this patient have T1 available? True\n",
      "I'm doing the thing.\n"
     ]
    },
    {
     "name": "stderr",
     "output_type": "stream",
     "text": [
      "\r",
      " 11%|█         | 22/201 [00:04<00:30,  5.93it/s]"
     ]
    },
    {
     "name": "stderr",
     "output_type": "stream",
     "text": [
      "\r",
      " 11%|█▏        | 23/201 [00:04<00:30,  5.93it/s]"
     ]
    },
    {
     "name": "stdout",
     "output_type": "stream",
     "text": [
      "bone-china-070\n",
      "Does this patient have T1 available? True\n",
      "I'm doing the thing.\n",
      "bone-china-046\n",
      "Does this patient have T1 available? True\n",
      "I'm doing the thing.\n"
     ]
    },
    {
     "name": "stderr",
     "output_type": "stream",
     "text": [
      "\r",
      " 12%|█▏        | 24/201 [00:04<00:32,  5.46it/s]"
     ]
    },
    {
     "name": "stderr",
     "output_type": "stream",
     "text": [
      "\r",
      " 12%|█▏        | 25/201 [00:04<00:30,  5.86it/s]"
     ]
    },
    {
     "name": "stdout",
     "output_type": "stream",
     "text": [
      "bone-penn-157\n",
      "Does this patient have T1 available? True\n",
      "I'm doing the thing.\n",
      "bone-hup-295\n",
      "Does this patient have T1 available? True\n",
      "I'm doing the thing.\n"
     ]
    },
    {
     "name": "stderr",
     "output_type": "stream",
     "text": [
      "\r",
      " 13%|█▎        | 26/201 [00:04<00:27,  6.41it/s]"
     ]
    },
    {
     "name": "stdout",
     "output_type": "stream",
     "text": [
      "bone-hup-313\n",
      "Does this patient have T1 available? True\n",
      "I'm doing the thing.\n"
     ]
    },
    {
     "name": "stderr",
     "output_type": "stream",
     "text": [
      "\r",
      " 13%|█▎        | 27/201 [00:05<00:29,  5.88it/s]"
     ]
    },
    {
     "name": "stderr",
     "output_type": "stream",
     "text": [
      "\r",
      " 14%|█▍        | 28/201 [00:05<00:29,  5.94it/s]"
     ]
    },
    {
     "name": "stdout",
     "output_type": "stream",
     "text": [
      "bone-penn-351\n",
      "Does this patient have T1 available? True\n",
      "I'm doing the thing.\n",
      "bone-penn-553\n",
      "Does this patient have T1 available? True\n",
      "I'm doing the thing.\n"
     ]
    },
    {
     "name": "stderr",
     "output_type": "stream",
     "text": [
      "\r",
      " 14%|█▍        | 29/201 [00:05<00:29,  5.75it/s]"
     ]
    },
    {
     "name": "stdout",
     "output_type": "stream",
     "text": [
      "bone-hup-294\n",
      "Does this patient have T1 available? True\n",
      "I'm doing the thing.\n"
     ]
    },
    {
     "name": "stderr",
     "output_type": "stream",
     "text": [
      "\r",
      " 15%|█▍        | 30/201 [00:05<00:31,  5.40it/s]"
     ]
    },
    {
     "name": "stdout",
     "output_type": "stream",
     "text": [
      "bone-hup-140\n",
      "Does this patient have T1 available? True\n",
      "I'm doing the thing.\n"
     ]
    },
    {
     "name": "stderr",
     "output_type": "stream",
     "text": [
      "\r",
      " 15%|█▌        | 31/201 [00:05<00:38,  4.40it/s]"
     ]
    },
    {
     "name": "stderr",
     "output_type": "stream",
     "text": [
      "\r",
      " 16%|█▌        | 32/201 [00:06<00:35,  4.79it/s]"
     ]
    },
    {
     "name": "stdout",
     "output_type": "stream",
     "text": [
      "bone-hup-319\n",
      "Does this patient have T1 available? True\n",
      "I'm doing the thing.\n",
      "bone-penn-135\n",
      "Does this patient have T1 available? True\n",
      "I'm doing the thing.\n"
     ]
    },
    {
     "name": "stdout",
     "output_type": "stream",
     "text": [
      "bone-penn-352\n",
      "Does this patient have T1 available? False\n",
      "T1 image unavailable\n",
      "bone-china-088\n",
      "Does this patient have T1 available? True\n",
      "I'm doing the thing.\n"
     ]
    },
    {
     "name": "stderr",
     "output_type": "stream",
     "text": [
      "\r",
      " 17%|█▋        | 35/201 [00:06<00:29,  5.58it/s]"
     ]
    },
    {
     "name": "stderr",
     "output_type": "stream",
     "text": [
      "\r",
      " 18%|█▊        | 36/201 [00:06<00:26,  6.33it/s]"
     ]
    },
    {
     "name": "stdout",
     "output_type": "stream",
     "text": [
      "bone-china-051\n",
      "Does this patient have T1 available? True\n",
      "I'm doing the thing.\n",
      "bone-hup-147\n",
      "Does this patient have T1 available? True\n",
      "I'm doing the thing.\n"
     ]
    },
    {
     "name": "stderr",
     "output_type": "stream",
     "text": [
      "\r",
      " 18%|█▊        | 37/201 [00:06<00:41,  3.95it/s]"
     ]
    },
    {
     "name": "stderr",
     "output_type": "stream",
     "text": [
      "\r",
      " 19%|█▉        | 38/201 [00:07<00:35,  4.55it/s]"
     ]
    },
    {
     "name": "stdout",
     "output_type": "stream",
     "text": [
      "bone-china-063\n",
      "Does this patient have T1 available? True\n",
      "I'm doing the thing.\n",
      "bone-china-076\n",
      "Does this patient have T1 available? True\n",
      "I'm doing the thing.\n"
     ]
    },
    {
     "name": "stderr",
     "output_type": "stream",
     "text": [
      "\r",
      " 19%|█▉        | 39/201 [00:07<00:39,  4.10it/s]"
     ]
    },
    {
     "name": "stderr",
     "output_type": "stream",
     "text": [
      "\r",
      " 20%|█▉        | 40/201 [00:07<00:32,  4.89it/s]"
     ]
    },
    {
     "name": "stdout",
     "output_type": "stream",
     "text": [
      "bone-penn-561\n",
      "Does this patient have T1 available? True\n",
      "I'm doing the thing.\n",
      "bone-penn-349\n",
      "Does this patient have T1 available? True\n",
      "I'm doing the thing.\n"
     ]
    },
    {
     "name": "stderr",
     "output_type": "stream",
     "text": [
      "\r",
      " 20%|██        | 41/201 [00:07<00:28,  5.69it/s]"
     ]
    },
    {
     "name": "stdout",
     "output_type": "stream",
     "text": [
      "bone-penn-506\n",
      "Does this patient have T1 available? True\n",
      "I'm doing the thing.\n",
      "bone-hup-329\n",
      "Does this patient have T1 available? True\n",
      "I'm doing the thing.\n"
     ]
    },
    {
     "name": "stderr",
     "output_type": "stream",
     "text": [
      "\r",
      " 21%|██▏       | 43/201 [00:08<00:29,  5.38it/s]"
     ]
    },
    {
     "name": "stderr",
     "output_type": "stream",
     "text": [
      "\r",
      " 22%|██▏       | 44/201 [00:08<00:25,  6.14it/s]"
     ]
    },
    {
     "name": "stdout",
     "output_type": "stream",
     "text": [
      "bone-china-039\n",
      "Does this patient have T1 available? True\n",
      "I'm doing the thing.\n",
      "bone-penn-550\n",
      "Does this patient have T1 available? True\n",
      "I'm doing the thing.\n"
     ]
    },
    {
     "name": "stderr",
     "output_type": "stream",
     "text": [
      "\r",
      " 22%|██▏       | 45/201 [00:08<00:22,  6.87it/s]"
     ]
    },
    {
     "name": "stderr",
     "output_type": "stream",
     "text": [
      "\r",
      " 23%|██▎       | 46/201 [00:08<00:24,  6.24it/s]"
     ]
    },
    {
     "name": "stdout",
     "output_type": "stream",
     "text": [
      "bone-penn-285\n",
      "Does this patient have T1 available? True\n",
      "I'm doing the thing.\n",
      "bone-penn-139\n",
      "Does this patient have T1 available? True\n",
      "I'm doing the thing.\n"
     ]
    },
    {
     "name": "stderr",
     "output_type": "stream",
     "text": [
      "\r",
      " 23%|██▎       | 47/201 [00:08<00:22,  6.86it/s]"
     ]
    },
    {
     "name": "stderr",
     "output_type": "stream",
     "text": [
      "\r",
      " 24%|██▍       | 49/201 [00:08<00:19,  7.90it/s]"
     ]
    },
    {
     "name": "stdout",
     "output_type": "stream",
     "text": [
      "bone-penn-159\n",
      "Does this patient have T1 available? True\n",
      "I'm doing the thing.\n",
      "bone-china-079\n",
      "Does this patient have T1 available? True\n",
      "I'm doing the thing.\n",
      "bone-hup-139\n",
      "Does this patient have T1 available? True\n",
      "I'm doing the thing.\n"
     ]
    },
    {
     "name": "stderr",
     "output_type": "stream",
     "text": [
      "\r",
      " 25%|██▍       | 50/201 [00:09<00:56,  2.66it/s]"
     ]
    },
    {
     "name": "stderr",
     "output_type": "stream",
     "text": [
      "\r",
      " 25%|██▌       | 51/201 [00:09<00:45,  3.31it/s]"
     ]
    },
    {
     "name": "stdout",
     "output_type": "stream",
     "text": [
      "bone-china-078\n",
      "Does this patient have T1 available? True\n",
      "I'm doing the thing.\n",
      "bone-penn-281\n",
      "Does this patient have T1 available? True\n",
      "I'm doing the thing.\n",
      "bone-penn-473\n",
      "Does this patient have T1 available? True\n",
      "I'm doing the thing.\n"
     ]
    },
    {
     "name": "stderr",
     "output_type": "stream",
     "text": [
      "\r",
      " 26%|██▋       | 53/201 [00:09<00:34,  4.24it/s]"
     ]
    },
    {
     "name": "stderr",
     "output_type": "stream",
     "text": [
      "\r",
      " 27%|██▋       | 54/201 [00:10<00:29,  4.98it/s]"
     ]
    },
    {
     "name": "stdout",
     "output_type": "stream",
     "text": [
      "bone-hup-287\n",
      "Does this patient have T1 available? True\n",
      "I'm doing the thing.\n",
      "bone-china-217\n",
      "Does this patient have T1 available? True\n",
      "I'm doing the thing.\n"
     ]
    },
    {
     "name": "stdout",
     "output_type": "stream",
     "text": [
      "bone-penn-458\n",
      "Does this patient have T1 available? True\n",
      "I'm doing the thing.\n"
     ]
    },
    {
     "name": "stderr",
     "output_type": "stream",
     "text": [
      "\r",
      " 28%|██▊       | 56/201 [00:10<00:28,  5.06it/s]"
     ]
    },
    {
     "name": "stderr",
     "output_type": "stream",
     "text": [
      "\r",
      " 29%|██▉       | 58/201 [00:10<00:22,  6.38it/s]"
     ]
    },
    {
     "name": "stdout",
     "output_type": "stream",
     "text": [
      "bone-penn-224\n",
      "Does this patient have T1 available? True\n",
      "I'm doing the thing.\n",
      "bone-penn-93\n",
      "Does this patient have T1 available? True\n",
      "I'm doing the thing.\n",
      "bone-china-137\n",
      "Does this patient have T1 available? True\n",
      "I'm doing the thing.\n",
      "bone-penn-534\n",
      "Does this patient have T1 available? True\n",
      "I'm doing the thing.\n"
     ]
    },
    {
     "name": "stderr",
     "output_type": "stream",
     "text": [
      "\r",
      " 30%|██▉       | 60/201 [00:10<00:19,  7.21it/s]"
     ]
    },
    {
     "name": "stderr",
     "output_type": "stream",
     "text": [
      "\r",
      " 31%|███       | 62/201 [00:10<00:17,  8.02it/s]"
     ]
    },
    {
     "name": "stdout",
     "output_type": "stream",
     "text": [
      "bone-penn-379\n",
      "Does this patient have T1 available? True\n",
      "I'm doing the thing.\n",
      "bone-penn-286\n",
      "Does this patient have T1 available? True\n",
      "I'm doing the thing.\n",
      "bone-hup-111\n",
      "Does this patient have T1 available? True\n",
      "I'm doing the thing.\n"
     ]
    },
    {
     "name": "stdout",
     "output_type": "stream",
     "text": [
      "bone-china-159\n",
      "Does this patient have T1 available? True\n",
      "I'm doing the thing.\n"
     ]
    },
    {
     "name": "stderr",
     "output_type": "stream",
     "text": [
      "\r",
      " 32%|███▏      | 64/201 [00:11<00:23,  5.85it/s]"
     ]
    },
    {
     "name": "stderr",
     "output_type": "stream",
     "text": [
      "\r",
      " 32%|███▏      | 65/201 [00:11<00:21,  6.33it/s]"
     ]
    },
    {
     "name": "stdout",
     "output_type": "stream",
     "text": [
      "bone-china-163\n",
      "Does this patient have T1 available? True\n",
      "I'm doing the thing.\n",
      "bone-penn-200\n",
      "Does this patient have T1 available? True\n",
      "I'm doing the thing.\n"
     ]
    },
    {
     "name": "stderr",
     "output_type": "stream",
     "text": [
      "\r",
      " 33%|███▎      | 66/201 [00:11<00:27,  4.90it/s]"
     ]
    },
    {
     "name": "stderr",
     "output_type": "stream",
     "text": [
      "\r",
      " 33%|███▎      | 67/201 [00:12<00:26,  5.07it/s]"
     ]
    },
    {
     "name": "stdout",
     "output_type": "stream",
     "text": [
      "bone-penn-616\n",
      "Does this patient have T1 available? True\n",
      "I'm doing the thing.\n",
      "bone-hup-75\n",
      "Does this patient have T1 available? True\n",
      "I'm doing the thing.\n"
     ]
    },
    {
     "name": "stderr",
     "output_type": "stream",
     "text": [
      "\r",
      " 34%|███▍      | 68/201 [00:12<00:24,  5.32it/s]"
     ]
    },
    {
     "name": "stderr",
     "output_type": "stream",
     "text": [
      "\r",
      " 34%|███▍      | 69/201 [00:12<00:22,  5.88it/s]"
     ]
    },
    {
     "name": "stdout",
     "output_type": "stream",
     "text": [
      "bone-penn-372\n",
      "Does this patient have T1 available? True\n",
      "I'm doing the thing.\n",
      "bone-hup-61\n",
      "Does this patient have T1 available? True\n",
      "I'm doing the thing.\n"
     ]
    },
    {
     "name": "stderr",
     "output_type": "stream",
     "text": [
      "\r",
      " 35%|███▍      | 70/201 [00:12<00:19,  6.59it/s]"
     ]
    },
    {
     "name": "stdout",
     "output_type": "stream",
     "text": [
      "bone-hup-209\n",
      "Does this patient have T1 available? True\n",
      "I'm doing the thing.\n"
     ]
    },
    {
     "name": "stderr",
     "output_type": "stream",
     "text": [
      "\r",
      " 35%|███▌      | 71/201 [00:12<00:24,  5.36it/s]"
     ]
    },
    {
     "name": "stderr",
     "output_type": "stream",
     "text": [
      "\r",
      " 36%|███▌      | 72/201 [00:12<00:21,  6.06it/s]"
     ]
    },
    {
     "name": "stdout",
     "output_type": "stream",
     "text": [
      "bone-china-187\n",
      "Does this patient have T1 available? True\n",
      "I'm doing the thing.\n",
      "bone-penn-496\n",
      "Does this patient have T1 available? True\n",
      "I'm doing the thing.\n"
     ]
    },
    {
     "name": "stderr",
     "output_type": "stream",
     "text": [
      "\r",
      " 36%|███▋      | 73/201 [00:15<01:39,  1.28it/s]"
     ]
    },
    {
     "name": "stdout",
     "output_type": "stream",
     "text": [
      "bone-penn-80\n",
      "Does this patient have T1 available? True\n",
      "I'm doing the thing.\n"
     ]
    },
    {
     "name": "stderr",
     "output_type": "stream",
     "text": [
      "\r",
      " 37%|███▋      | 74/201 [00:15<01:23,  1.51it/s]"
     ]
    },
    {
     "name": "stdout",
     "output_type": "stream",
     "text": [
      "bone-penn-538\n",
      "Does this patient have T1 available? True\n",
      "I'm doing the thing.\n"
     ]
    },
    {
     "name": "stderr",
     "output_type": "stream",
     "text": [
      "\r",
      " 37%|███▋      | 75/201 [00:15<01:09,  1.80it/s]"
     ]
    },
    {
     "name": "stderr",
     "output_type": "stream",
     "text": [
      "\r",
      " 38%|███▊      | 77/201 [00:15<00:50,  2.45it/s]"
     ]
    },
    {
     "name": "stdout",
     "output_type": "stream",
     "text": [
      "bone-china-139\n",
      "Does this patient have T1 available? True\n",
      "I'm doing the thing.\n",
      "bone-china-184\n",
      "Does this patient have T1 available? True\n",
      "I'm doing the thing.\n",
      "bone-penn-86\n",
      "Does this patient have T1 available? True\n",
      "I'm doing the thing.\n"
     ]
    },
    {
     "name": "stderr",
     "output_type": "stream",
     "text": [
      "\r",
      " 39%|███▉      | 78/201 [00:16<00:45,  2.72it/s]"
     ]
    },
    {
     "name": "stdout",
     "output_type": "stream",
     "text": [
      "bone-china-236\n",
      "Does this patient have T1 available? False\n",
      "T1 image unavailable\n",
      "bone-china-176\n",
      "Does this patient have T1 available? True\n",
      "I'm doing the thing.\n"
     ]
    },
    {
     "name": "stderr",
     "output_type": "stream",
     "text": [
      "\r",
      " 40%|███▉      | 80/201 [00:16<00:36,  3.36it/s]"
     ]
    },
    {
     "name": "stderr",
     "output_type": "stream",
     "text": [
      "\r",
      " 40%|████      | 81/201 [00:16<00:31,  3.81it/s]"
     ]
    },
    {
     "name": "stdout",
     "output_type": "stream",
     "text": [
      "bone-china-178\n",
      "Does this patient have T1 available? True\n",
      "I'm doing the thing.\n",
      "bone-penn-179\n",
      "Does this patient have T1 available? True\n",
      "I'm doing the thing.\n"
     ]
    },
    {
     "name": "stderr",
     "output_type": "stream",
     "text": [
      "\r",
      " 41%|████      | 82/201 [00:16<00:26,  4.53it/s]"
     ]
    },
    {
     "name": "stdout",
     "output_type": "stream",
     "text": [
      "bone-hup-68\n",
      "Does this patient have T1 available? False\n",
      "T1 image unavailable\n",
      "bone-hup-160\n",
      "Does this patient have T1 available? True\n",
      "I'm doing the thing.\n"
     ]
    },
    {
     "name": "stderr",
     "output_type": "stream",
     "text": [
      "\r",
      " 42%|████▏     | 84/201 [00:17<00:24,  4.74it/s]"
     ]
    },
    {
     "name": "stdout",
     "output_type": "stream",
     "text": [
      "bone-penn-255\n",
      "Does this patient have T1 available? True\n",
      "I'm doing the thing.\n",
      "bone-penn-425\n",
      "Does this patient have T1 available? True\n",
      "I'm doing the thing.\n"
     ]
    },
    {
     "name": "stderr",
     "output_type": "stream",
     "text": [
      "\r",
      " 43%|████▎     | 86/201 [00:17<00:21,  5.36it/s]"
     ]
    },
    {
     "name": "stderr",
     "output_type": "stream",
     "text": [
      "\r",
      " 44%|████▍     | 88/201 [00:17<00:17,  6.59it/s]"
     ]
    },
    {
     "name": "stdout",
     "output_type": "stream",
     "text": [
      "bone-penn-184\n",
      "Does this patient have T1 available? True\n",
      "I'm doing the thing.\n",
      "bone-china-116\n",
      "Does this patient have T1 available? True\n",
      "I'm doing the thing.\n",
      "bone-china-150\n",
      "Does this patient have T1 available? True\n",
      "I'm doing the thing.\n"
     ]
    },
    {
     "name": "stderr",
     "output_type": "stream",
     "text": [
      "\r",
      " 44%|████▍     | 89/201 [00:17<00:17,  6.57it/s]"
     ]
    },
    {
     "name": "stderr",
     "output_type": "stream",
     "text": [
      "\r",
      " 45%|████▍     | 90/201 [00:17<00:17,  6.50it/s]"
     ]
    },
    {
     "name": "stdout",
     "output_type": "stream",
     "text": [
      "bone-penn-114\n",
      "Does this patient have T1 available? True\n",
      "I'm doing the thing.\n",
      "bone-hup-224\n",
      "Does this patient have T1 available? True\n",
      "I'm doing the thing.\n"
     ]
    },
    {
     "name": "stderr",
     "output_type": "stream",
     "text": [
      "\r",
      " 46%|████▌     | 92/201 [00:18<00:15,  6.91it/s]"
     ]
    },
    {
     "name": "stdout",
     "output_type": "stream",
     "text": [
      "bone-china-204\n",
      "Does this patient have T1 available? True\n",
      "I'm doing the thing.\n",
      "bone-hup-123\n",
      "Does this patient have T1 available? True\n",
      "I'm doing the thing.\n"
     ]
    },
    {
     "name": "stderr",
     "output_type": "stream",
     "text": [
      "\r",
      " 46%|████▋     | 93/201 [00:18<00:16,  6.39it/s]"
     ]
    },
    {
     "name": "stderr",
     "output_type": "stream",
     "text": [
      "\r",
      " 47%|████▋     | 94/201 [00:18<00:16,  6.46it/s]"
     ]
    },
    {
     "name": "stdout",
     "output_type": "stream",
     "text": [
      "bone-china-203\n",
      "Does this patient have T1 available? True\n",
      "I'm doing the thing.\n",
      "bone-penn-83\n",
      "Does this patient have T1 available? True\n",
      "I'm doing the thing.\n"
     ]
    },
    {
     "name": "stderr",
     "output_type": "stream",
     "text": [
      "\r",
      " 47%|████▋     | 95/201 [00:18<00:16,  6.38it/s]"
     ]
    },
    {
     "name": "stdout",
     "output_type": "stream",
     "text": [
      "bone-china-235\n",
      "Does this patient have T1 available? True\n",
      "I'm doing the thing.\n"
     ]
    },
    {
     "name": "stderr",
     "output_type": "stream",
     "text": [
      "\r",
      " 48%|████▊     | 96/201 [00:18<00:19,  5.27it/s]"
     ]
    },
    {
     "name": "stderr",
     "output_type": "stream",
     "text": [
      "\r",
      " 48%|████▊     | 97/201 [00:19<00:17,  5.99it/s]"
     ]
    },
    {
     "name": "stdout",
     "output_type": "stream",
     "text": [
      "bone-penn-432\n",
      "Does this patient have T1 available? True\n",
      "I'm doing the thing.\n",
      "bone-penn-654\n",
      "Does this patient have T1 available? True\n",
      "I'm doing the thing.\n"
     ]
    },
    {
     "name": "stderr",
     "output_type": "stream",
     "text": [
      "\r",
      " 49%|████▉     | 98/201 [00:19<00:16,  6.19it/s]"
     ]
    },
    {
     "name": "stdout",
     "output_type": "stream",
     "text": [
      "bone-penn-110\n",
      "Does this patient have T1 available? True\n",
      "I'm doing the thing.\n"
     ]
    },
    {
     "name": "stderr",
     "output_type": "stream",
     "text": [
      "\r",
      " 49%|████▉     | 99/201 [00:19<00:21,  4.65it/s]"
     ]
    },
    {
     "name": "stderr",
     "output_type": "stream",
     "text": [
      "\r",
      " 50%|████▉     | 100/201 [00:19<00:19,  5.07it/s]"
     ]
    },
    {
     "name": "stdout",
     "output_type": "stream",
     "text": [
      "bone-penn-607\n",
      "Does this patient have T1 available? True\n",
      "I'm doing the thing.\n",
      "bone-penn-208\n",
      "Does this patient have T1 available? True\n",
      "I'm doing the thing.\n"
     ]
    },
    {
     "name": "stdout",
     "output_type": "stream",
     "text": [
      "bone-penn-652\n",
      "Does this patient have T1 available? True\n",
      "I'm doing the thing.\n"
     ]
    },
    {
     "name": "stderr",
     "output_type": "stream",
     "text": [
      "\r",
      " 51%|█████     | 102/201 [00:19<00:18,  5.48it/s]"
     ]
    },
    {
     "name": "stdout",
     "output_type": "stream",
     "text": [
      "bone-penn-223\n",
      "Does this patient have T1 available? True\n",
      "I'm doing the thing.\n"
     ]
    },
    {
     "name": "stderr",
     "output_type": "stream",
     "text": [
      "\r",
      " 51%|█████     | 103/201 [00:20<00:18,  5.20it/s]"
     ]
    },
    {
     "name": "stderr",
     "output_type": "stream",
     "text": [
      "\r",
      " 52%|█████▏    | 104/201 [00:20<00:17,  5.50it/s]"
     ]
    },
    {
     "name": "stdout",
     "output_type": "stream",
     "text": [
      "bone-china-149\n",
      "Does this patient have T1 available? True\n",
      "I'm doing the thing.\n",
      "bone-penn-472\n",
      "Does this patient have T1 available? True\n",
      "I'm doing the thing.\n"
     ]
    },
    {
     "name": "stderr",
     "output_type": "stream",
     "text": [
      "\r",
      " 52%|█████▏    | 105/201 [00:20<00:17,  5.64it/s]"
     ]
    },
    {
     "name": "stderr",
     "output_type": "stream",
     "text": [
      "\r",
      " 53%|█████▎    | 106/201 [00:20<00:15,  6.09it/s]"
     ]
    },
    {
     "name": "stdout",
     "output_type": "stream",
     "text": [
      "bone-hup-263\n",
      "Does this patient have T1 available? True\n",
      "I'm doing the thing.\n",
      "bone-penn-293\n",
      "Does this patient have T1 available? True\n",
      "I'm doing the thing.\n",
      "bone-hup-205\n",
      "Does this patient have T1 available? True\n",
      "I'm doing the thing.\n"
     ]
    },
    {
     "name": "stderr",
     "output_type": "stream",
     "text": [
      "\r",
      " 54%|█████▎    | 108/201 [00:20<00:14,  6.41it/s]"
     ]
    },
    {
     "name": "stderr",
     "output_type": "stream",
     "text": [
      "\r",
      " 54%|█████▍    | 109/201 [00:21<00:15,  6.03it/s]"
     ]
    },
    {
     "name": "stdout",
     "output_type": "stream",
     "text": [
      "bone-china-107\n",
      "Does this patient have T1 available? True\n",
      "I'm doing the thing.\n",
      "bone-hup-126\n",
      "Does this patient have T1 available? True\n",
      "I'm doing the thing.\n"
     ]
    },
    {
     "name": "stderr",
     "output_type": "stream",
     "text": [
      "\r",
      " 55%|█████▍    | 110/201 [00:21<00:20,  4.38it/s]"
     ]
    },
    {
     "name": "stderr",
     "output_type": "stream",
     "text": [
      "\r",
      " 55%|█████▌    | 111/201 [00:21<00:17,  5.19it/s]"
     ]
    },
    {
     "name": "stdout",
     "output_type": "stream",
     "text": [
      "bone-china-133\n",
      "Does this patient have T1 available? True\n",
      "I'm doing the thing.\n",
      "bone-china-118\n",
      "Does this patient have T1 available? True\n",
      "I'm doing the thing.\n"
     ]
    },
    {
     "name": "stderr",
     "output_type": "stream",
     "text": [
      "\r",
      " 56%|█████▌    | 112/201 [00:21<00:18,  4.81it/s]"
     ]
    },
    {
     "name": "stderr",
     "output_type": "stream",
     "text": [
      "\r",
      " 56%|█████▌    | 113/201 [00:21<00:16,  5.34it/s]"
     ]
    },
    {
     "name": "stdout",
     "output_type": "stream",
     "text": [
      "bone-hup-56\n",
      "Does this patient have T1 available? True\n",
      "I'm doing the thing.\n",
      "bone-penn-579\n",
      "Does this patient have T1 available? True\n",
      "I'm doing the thing.\n"
     ]
    },
    {
     "name": "stderr",
     "output_type": "stream",
     "text": [
      "\r",
      " 57%|█████▋    | 115/201 [00:22<00:14,  5.85it/s]"
     ]
    },
    {
     "name": "stdout",
     "output_type": "stream",
     "text": [
      "bone-penn-206\n",
      "Does this patient have T1 available? True\n",
      "I'm doing the thing.\n",
      "bone-penn-297\n",
      "Does this patient have T1 available? True\n",
      "I'm doing the thing.\n"
     ]
    },
    {
     "name": "stderr",
     "output_type": "stream",
     "text": [
      "\r",
      " 58%|█████▊    | 116/201 [00:22<00:14,  6.02it/s]"
     ]
    },
    {
     "name": "stdout",
     "output_type": "stream",
     "text": [
      "bone-penn-594\n",
      "Does this patient have T1 available? True\n",
      "I'm doing the thing.\n",
      "bone-penn-545\n",
      "Does this patient have T1 available? True\n",
      "I'm doing the thing.\n"
     ]
    },
    {
     "name": "stderr",
     "output_type": "stream",
     "text": [
      "\r",
      " 59%|█████▊    | 118/201 [00:22<00:14,  5.89it/s]"
     ]
    },
    {
     "name": "stderr",
     "output_type": "stream",
     "text": [
      "\r",
      " 59%|█████▉    | 119/201 [00:22<00:13,  6.04it/s]"
     ]
    },
    {
     "name": "stdout",
     "output_type": "stream",
     "text": [
      "bone-china-241\n",
      "Does this patient have T1 available? True\n",
      "I'm doing the thing.\n",
      "bone-hup-98\n",
      "Does this patient have T1 available? True\n",
      "I'm doing the thing.\n"
     ]
    },
    {
     "name": "stderr",
     "output_type": "stream",
     "text": [
      "\r",
      " 60%|█████▉    | 120/201 [00:23<00:15,  5.27it/s]"
     ]
    },
    {
     "name": "stdout",
     "output_type": "stream",
     "text": [
      "bone-penn-121\n",
      "Does this patient have T1 available? True\n",
      "I'm doing the thing.\n"
     ]
    },
    {
     "name": "stderr",
     "output_type": "stream",
     "text": [
      "\r",
      " 60%|██████    | 121/201 [00:23<00:18,  4.36it/s]"
     ]
    },
    {
     "name": "stdout",
     "output_type": "stream",
     "text": [
      "bone-penn-240\n",
      "Does this patient have T1 available? True\n",
      "I'm doing the thing.\n",
      "bone-penn-125\n",
      "Does this patient have T1 available? True\n",
      "I'm doing the thing.\n"
     ]
    },
    {
     "name": "stderr",
     "output_type": "stream",
     "text": [
      "\r",
      " 61%|██████    | 123/201 [00:23<00:15,  5.07it/s]"
     ]
    },
    {
     "name": "stdout",
     "output_type": "stream",
     "text": [
      "bone-penn-99\n",
      "Does this patient have T1 available? True\n",
      "I'm doing the thing.\n"
     ]
    },
    {
     "name": "stderr",
     "output_type": "stream",
     "text": [
      "\r",
      " 62%|██████▏   | 124/201 [00:24<00:18,  4.28it/s]"
     ]
    },
    {
     "name": "stdout",
     "output_type": "stream",
     "text": [
      "bone-penn-201\n",
      "Does this patient have T1 available? True\n",
      "I'm doing the thing.\n",
      "bone-hup-188\n",
      "Does this patient have T1 available? True\n",
      "I'm doing the thing.\n"
     ]
    },
    {
     "name": "stderr",
     "output_type": "stream",
     "text": [
      "\r",
      " 63%|██████▎   | 126/201 [00:24<00:19,  3.79it/s]"
     ]
    },
    {
     "name": "stderr",
     "output_type": "stream",
     "text": [
      "\r",
      " 63%|██████▎   | 127/201 [00:24<00:18,  4.07it/s]"
     ]
    },
    {
     "name": "stdout",
     "output_type": "stream",
     "text": [
      "bone-penn-278\n",
      "Does this patient have T1 available? True\n",
      "I'm doing the thing.\n"
     ]
    },
    {
     "name": "stdout",
     "output_type": "stream",
     "text": [
      "bone-penn-478\n",
      "Does this patient have T1 available? True\n",
      "I'm doing the thing.\n"
     ]
    },
    {
     "name": "stderr",
     "output_type": "stream",
     "text": [
      "\r",
      " 64%|██████▎   | 128/201 [00:25<00:21,  3.42it/s]"
     ]
    },
    {
     "name": "stderr",
     "output_type": "stream",
     "text": [
      "\r",
      " 64%|██████▍   | 129/201 [00:25<00:18,  3.92it/s]"
     ]
    },
    {
     "name": "stdout",
     "output_type": "stream",
     "text": [
      "bone-penn-291\n",
      "Does this patient have T1 available? True\n",
      "I'm doing the thing.\n",
      "bone-penn-275\n",
      "Does this patient have T1 available? True\n",
      "I'm doing the thing.\n"
     ]
    },
    {
     "name": "stderr",
     "output_type": "stream",
     "text": [
      "\r",
      " 66%|██████▌   | 132/201 [00:25<00:13,  5.22it/s]"
     ]
    },
    {
     "name": "stderr",
     "output_type": "stream",
     "text": [
      "\r",
      " 66%|██████▌   | 133/201 [00:25<00:11,  5.97it/s]"
     ]
    },
    {
     "name": "stdout",
     "output_type": "stream",
     "text": [
      "bone-hup-115\n",
      "Does this patient have T1 available? False\n",
      "T1 image unavailable\n",
      "bone-hup-223\n",
      "Does this patient have T1 available? True\n",
      "I'm doing the thing.\n",
      "bone-hup-213\n",
      "Does this patient have T1 available? True\n",
      "I'm doing the thing.\n",
      "bone-hup-138\n",
      "Does this patient have T1 available? True\n",
      "I'm doing the thing.\n"
     ]
    },
    {
     "name": "stderr",
     "output_type": "stream",
     "text": [
      "\r",
      " 67%|██████▋   | 134/201 [00:25<00:10,  6.35it/s]"
     ]
    },
    {
     "name": "stdout",
     "output_type": "stream",
     "text": [
      "bone-penn-516\n",
      "Does this patient have T1 available? True\n",
      "I'm doing the thing.\n"
     ]
    },
    {
     "name": "stderr",
     "output_type": "stream",
     "text": [
      "\r",
      " 67%|██████▋   | 135/201 [00:26<00:13,  4.83it/s]"
     ]
    },
    {
     "name": "stdout",
     "output_type": "stream",
     "text": [
      "bone-penn-609\n",
      "Does this patient have T1 available? True\n",
      "I'm doing the thing.\n"
     ]
    },
    {
     "name": "stderr",
     "output_type": "stream",
     "text": [
      "\r",
      " 68%|██████▊   | 136/201 [00:26<00:15,  4.19it/s]"
     ]
    },
    {
     "name": "stderr",
     "output_type": "stream",
     "text": [
      "\r",
      " 68%|██████▊   | 137/201 [00:26<00:13,  4.90it/s]"
     ]
    },
    {
     "name": "stdout",
     "output_type": "stream",
     "text": [
      "bone-hup-129\n",
      "Does this patient have T1 available? True\n",
      "I'm doing the thing.\n",
      "bone-hup-72\n",
      "Does this patient have T1 available? True\n",
      "I'm doing the thing.\n"
     ]
    },
    {
     "name": "stderr",
     "output_type": "stream",
     "text": [
      "\r",
      " 69%|██████▊   | 138/201 [00:26<00:14,  4.47it/s]"
     ]
    },
    {
     "name": "stdout",
     "output_type": "stream",
     "text": [
      "bone-hup-173\n",
      "Does this patient have T1 available? True\n",
      "I'm doing the thing.\n"
     ]
    },
    {
     "name": "stderr",
     "output_type": "stream",
     "text": [
      "\r",
      " 69%|██████▉   | 139/201 [00:27<00:27,  2.27it/s]"
     ]
    },
    {
     "name": "stdout",
     "output_type": "stream",
     "text": [
      "bone-penn-106\n",
      "Does this patient have T1 available? True\n",
      "I'm doing the thing.\n"
     ]
    },
    {
     "name": "stderr",
     "output_type": "stream",
     "text": [
      "\r",
      " 70%|██████▉   | 140/201 [00:28<00:23,  2.58it/s]"
     ]
    },
    {
     "name": "stdout",
     "output_type": "stream",
     "text": [
      "bone-penn-602\n",
      "Does this patient have T1 available? True\n",
      "I'm doing the thing.\n"
     ]
    },
    {
     "name": "stderr",
     "output_type": "stream",
     "text": [
      "\r",
      " 70%|███████   | 141/201 [00:28<00:21,  2.82it/s]"
     ]
    },
    {
     "name": "stdout",
     "output_type": "stream",
     "text": [
      "bone-penn-487\n",
      "Does this patient have T1 available? True\n",
      "I'm doing the thing.\n"
     ]
    },
    {
     "name": "stderr",
     "output_type": "stream",
     "text": [
      "\r",
      " 71%|███████   | 142/201 [00:28<00:22,  2.59it/s]"
     ]
    },
    {
     "name": "stdout",
     "output_type": "stream",
     "text": [
      "bone-penn-207\n",
      "Does this patient have T1 available? True\n",
      "I'm doing the thing.\n",
      "bone-hup-241\n",
      "Does this patient have T1 available? True\n",
      "I'm doing the thing.\n"
     ]
    },
    {
     "name": "stderr",
     "output_type": "stream",
     "text": [
      "\r",
      " 72%|███████▏  | 144/201 [00:29<00:18,  3.13it/s]"
     ]
    },
    {
     "name": "stderr",
     "output_type": "stream",
     "text": [
      "\r",
      " 72%|███████▏  | 145/201 [00:29<00:14,  3.74it/s]"
     ]
    },
    {
     "name": "stdout",
     "output_type": "stream",
     "text": [
      "bone-penn-380\n",
      "Does this patient have T1 available? True\n",
      "I'm doing the thing.\n",
      "bone-penn-370\n",
      "Does this patient have T1 available? True\n",
      "I'm doing the thing.\n"
     ]
    },
    {
     "name": "stderr",
     "output_type": "stream",
     "text": [
      "\r",
      " 73%|███████▎  | 147/201 [00:29<00:11,  4.63it/s]"
     ]
    },
    {
     "name": "stdout",
     "output_type": "stream",
     "text": [
      "bone-china-161\n",
      "Does this patient have T1 available? True\n",
      "I'm doing the thing.\n",
      "bone-penn-378\n",
      "Does this patient have T1 available? True\n",
      "I'm doing the thing.\n"
     ]
    },
    {
     "name": "stderr",
     "output_type": "stream",
     "text": [
      "\r",
      " 74%|███████▎  | 148/201 [00:29<00:13,  4.02it/s]"
     ]
    },
    {
     "name": "stderr",
     "output_type": "stream",
     "text": [
      "\r",
      " 74%|███████▍  | 149/201 [00:29<00:11,  4.61it/s]"
     ]
    },
    {
     "name": "stdout",
     "output_type": "stream",
     "text": [
      "bone-china-117\n",
      "Does this patient have T1 available? True\n",
      "I'm doing the thing.\n",
      "bone-hup-53\n",
      "Does this patient have T1 available? True\n",
      "I'm doing the thing.\n"
     ]
    },
    {
     "name": "stderr",
     "output_type": "stream",
     "text": [
      "\r",
      " 75%|███████▌  | 151/201 [00:30<00:08,  5.78it/s]"
     ]
    },
    {
     "name": "stdout",
     "output_type": "stream",
     "text": [
      "bone-penn-120\n",
      "Does this patient have T1 available? True\n",
      "I'm doing the thing.\n",
      "bone-penn-231\n",
      "Does this patient have T1 available? True\n",
      "I'm doing the thing.\n"
     ]
    },
    {
     "name": "stderr",
     "output_type": "stream",
     "text": [
      "\r",
      " 76%|███████▌  | 152/201 [00:30<00:08,  6.04it/s]"
     ]
    },
    {
     "name": "stderr",
     "output_type": "stream",
     "text": [
      "\r",
      " 76%|███████▌  | 153/201 [00:30<00:07,  6.53it/s]"
     ]
    },
    {
     "name": "stdout",
     "output_type": "stream",
     "text": [
      "bone-hup-48\n",
      "Does this patient have T1 available? True\n",
      "I'm doing the thing.\n",
      "bone-penn-211\n",
      "Does this patient have T1 available? True\n",
      "I'm doing the thing.\n"
     ]
    },
    {
     "name": "stderr",
     "output_type": "stream",
     "text": [
      "\r",
      " 77%|███████▋  | 154/201 [00:30<00:09,  4.89it/s]"
     ]
    },
    {
     "name": "stdout",
     "output_type": "stream",
     "text": [
      "bone-china-216\n",
      "Does this patient have T1 available? True\n",
      "I'm doing the thing.\n",
      "bone-penn-593\n",
      "Does this patient have T1 available? True\n",
      "I'm doing the thing.\n"
     ]
    },
    {
     "name": "stderr",
     "output_type": "stream",
     "text": [
      "\r",
      " 78%|███████▊  | 156/201 [00:31<00:08,  5.18it/s]"
     ]
    },
    {
     "name": "stderr",
     "output_type": "stream",
     "text": [
      "\r",
      " 78%|███████▊  | 157/201 [00:31<00:07,  5.94it/s]"
     ]
    },
    {
     "name": "stdout",
     "output_type": "stream",
     "text": [
      "bone-penn-388\n",
      "Does this patient have T1 available? True\n",
      "I'm doing the thing.\n",
      "bone-china-131\n",
      "Does this patient have T1 available? True\n",
      "I'm doing the thing.\n",
      "bone-penn-277\n",
      "Does this patient have T1 available? True\n",
      "I'm doing the thing.\n"
     ]
    },
    {
     "name": "stderr",
     "output_type": "stream",
     "text": [
      "\r",
      " 79%|███████▉  | 159/201 [00:31<00:07,  5.49it/s]"
     ]
    },
    {
     "name": "stderr",
     "output_type": "stream",
     "text": [
      "\r",
      " 80%|███████▉  | 160/201 [00:31<00:07,  5.29it/s]"
     ]
    },
    {
     "name": "stdout",
     "output_type": "stream",
     "text": [
      "bone-china-145\n",
      "Does this patient have T1 available? True\n",
      "I'm doing the thing.\n",
      "bone-penn-606\n",
      "Does this patient have T1 available? True\n",
      "I'm doing the thing.\n"
     ]
    },
    {
     "name": "stderr",
     "output_type": "stream",
     "text": [
      "\r",
      " 80%|████████  | 161/201 [00:31<00:07,  5.31it/s]"
     ]
    },
    {
     "name": "stdout",
     "output_type": "stream",
     "text": [
      "bone-penn-235\n",
      "Does this patient have T1 available? True\n",
      "I'm doing the thing.\n"
     ]
    },
    {
     "name": "stderr",
     "output_type": "stream",
     "text": [
      "\r",
      " 81%|████████  | 162/201 [00:32<00:13,  2.92it/s]"
     ]
    },
    {
     "name": "stderr",
     "output_type": "stream",
     "text": [
      "\r",
      " 81%|████████  | 163/201 [00:32<00:10,  3.59it/s]"
     ]
    },
    {
     "name": "stdout",
     "output_type": "stream",
     "text": [
      "bone-hup-166\n",
      "Does this patient have T1 available? True\n",
      "I'm doing the thing.\n",
      "bone-china-135\n",
      "Does this patient have T1 available? True\n",
      "I'm doing the thing.\n"
     ]
    },
    {
     "name": "stderr",
     "output_type": "stream",
     "text": [
      "\r",
      " 82%|████████▏ | 164/201 [00:32<00:08,  4.27it/s]"
     ]
    },
    {
     "name": "stdout",
     "output_type": "stream",
     "text": [
      "bone-hup-214\n",
      "Does this patient have T1 available? True\n",
      "I'm doing the thing.\n"
     ]
    },
    {
     "name": "stderr",
     "output_type": "stream",
     "text": [
      "\r",
      " 82%|████████▏ | 165/201 [00:33<00:13,  2.62it/s]"
     ]
    },
    {
     "name": "stdout",
     "output_type": "stream",
     "text": [
      "bone-hup-186\n",
      "Does this patient have T1 available? False\n",
      "T1 image unavailable\n",
      "bone-hup-54\n",
      "Does this patient have T1 available? True\n",
      "I'm doing the thing.\n",
      "bone-penn-577\n",
      "Does this patient have T1 available? True\n",
      "I'm doing the thing.\n"
     ]
    },
    {
     "name": "stderr",
     "output_type": "stream",
     "text": [
      "\r",
      " 84%|████████▎ | 168/201 [00:34<00:10,  3.18it/s]"
     ]
    },
    {
     "name": "stdout",
     "output_type": "stream",
     "text": [
      "bone-hup-60\n",
      "Does this patient have T1 available? True\n",
      "I'm doing the thing.\n"
     ]
    },
    {
     "name": "stderr",
     "output_type": "stream",
     "text": [
      "\r",
      " 84%|████████▍ | 169/201 [00:34<00:10,  3.13it/s]"
     ]
    },
    {
     "name": "stdout",
     "output_type": "stream",
     "text": [
      "bone-hup-239\n",
      "Does this patient have T1 available? False\n",
      "T1 image unavailable\n",
      "bone-penn-247\n",
      "Does this patient have T1 available? True\n",
      "I'm doing the thing.\n",
      "bone-penn-651\n",
      "Does this patient have T1 available? True\n",
      "I'm doing the thing.\n"
     ]
    },
    {
     "name": "stderr",
     "output_type": "stream",
     "text": [
      "\r",
      " 86%|████████▌ | 172/201 [00:35<00:08,  3.54it/s]"
     ]
    },
    {
     "name": "stderr",
     "output_type": "stream",
     "text": [
      "\r",
      " 86%|████████▌ | 173/201 [00:35<00:06,  4.18it/s]"
     ]
    },
    {
     "name": "stdout",
     "output_type": "stream",
     "text": [
      "bone-penn-180\n",
      "Does this patient have T1 available? True\n",
      "I'm doing the thing.\n",
      "bone-penn-104\n",
      "Does this patient have T1 available? True\n",
      "I'm doing the thing.\n"
     ]
    },
    {
     "name": "stderr",
     "output_type": "stream",
     "text": [
      "\r",
      " 87%|████████▋ | 174/201 [00:35<00:05,  4.58it/s]"
     ]
    },
    {
     "name": "stdout",
     "output_type": "stream",
     "text": [
      "bone-penn-280\n",
      "Does this patient have T1 available? True\n",
      "I'm doing the thing.\n",
      "bone-penn-536\n",
      "Does this patient have T1 available? True\n",
      "I'm doing the thing.\n"
     ]
    },
    {
     "name": "stderr",
     "output_type": "stream",
     "text": [
      "\r",
      " 88%|████████▊ | 176/201 [00:35<00:05,  4.79it/s]"
     ]
    },
    {
     "name": "stdout",
     "output_type": "stream",
     "text": [
      "bone-hup-246\n",
      "Does this patient have T1 available? True\n",
      "I'm doing the thing.\n"
     ]
    },
    {
     "name": "stderr",
     "output_type": "stream",
     "text": [
      "\r",
      " 88%|████████▊ | 177/201 [00:36<00:05,  4.47it/s]"
     ]
    },
    {
     "name": "stderr",
     "output_type": "stream",
     "text": [
      "\r",
      " 89%|████████▊ | 178/201 [00:36<00:04,  5.22it/s]"
     ]
    },
    {
     "name": "stdout",
     "output_type": "stream",
     "text": [
      "bone-hup-279\n",
      "Does this patient have T1 available? True\n",
      "I'm doing the thing.\n",
      "bone-penn-542\n",
      "Does this patient have T1 available? True\n",
      "I'm doing the thing.\n"
     ]
    },
    {
     "name": "stderr",
     "output_type": "stream",
     "text": [
      "\r",
      " 89%|████████▉ | 179/201 [00:36<00:04,  4.89it/s]"
     ]
    },
    {
     "name": "stdout",
     "output_type": "stream",
     "text": [
      "bone-hup-222\n",
      "Does this patient have T1 available? True\n",
      "I'm doing the thing.\n"
     ]
    },
    {
     "name": "stderr",
     "output_type": "stream",
     "text": [
      "\r",
      " 90%|████████▉ | 180/201 [00:36<00:05,  4.12it/s]"
     ]
    },
    {
     "name": "stderr",
     "output_type": "stream",
     "text": [
      "\r",
      " 90%|█████████ | 181/201 [00:36<00:04,  4.78it/s]"
     ]
    },
    {
     "name": "stdout",
     "output_type": "stream",
     "text": [
      "bone-penn-604\n",
      "Does this patient have T1 available? True\n",
      "I'm doing the thing.\n",
      "bone-penn-175\n",
      "Does this patient have T1 available? True\n",
      "I'm doing the thing.\n"
     ]
    },
    {
     "name": "stderr",
     "output_type": "stream",
     "text": [
      "\r",
      " 91%|█████████ | 182/201 [00:37<00:03,  4.80it/s]"
     ]
    },
    {
     "name": "stderr",
     "output_type": "stream",
     "text": [
      "\r",
      " 91%|█████████ | 183/201 [00:37<00:03,  5.64it/s]"
     ]
    },
    {
     "name": "stdout",
     "output_type": "stream",
     "text": [
      "bone-penn-571\n",
      "Does this patient have T1 available? True\n",
      "I'm doing the thing.\n",
      "bone-penn-290\n",
      "Does this patient have T1 available? True\n",
      "I'm doing the thing.\n"
     ]
    },
    {
     "name": "stderr",
     "output_type": "stream",
     "text": [
      "\r",
      " 92%|█████████▏| 184/201 [00:37<00:02,  6.00it/s]"
     ]
    },
    {
     "name": "stdout",
     "output_type": "stream",
     "text": [
      "bone-penn-198\n",
      "Does this patient have T1 available? True\n",
      "I'm doing the thing.\n"
     ]
    },
    {
     "name": "stderr",
     "output_type": "stream",
     "text": [
      "\r",
      " 92%|█████████▏| 185/201 [00:37<00:03,  5.13it/s]"
     ]
    },
    {
     "name": "stderr",
     "output_type": "stream",
     "text": [
      "\r",
      " 93%|█████████▎| 186/201 [00:37<00:02,  5.55it/s]"
     ]
    },
    {
     "name": "stdout",
     "output_type": "stream",
     "text": [
      "bone-hup-171\n",
      "Does this patient have T1 available? True\n",
      "I'm doing the thing.\n",
      "bone-hup-229\n",
      "Does this patient have T1 available? True\n",
      "I'm doing the thing.\n"
     ]
    },
    {
     "name": "stderr",
     "output_type": "stream",
     "text": [
      "\r",
      " 94%|█████████▎| 188/201 [00:37<00:01,  6.67it/s]"
     ]
    },
    {
     "name": "stderr",
     "output_type": "stream",
     "text": [
      "\r",
      " 94%|█████████▍| 189/201 [00:37<00:01,  7.04it/s]"
     ]
    },
    {
     "name": "stdout",
     "output_type": "stream",
     "text": [
      "bone-penn-512\n",
      "Does this patient have T1 available? True\n",
      "I'm doing the thing.\n",
      "bone-penn-618\n",
      "Does this patient have T1 available? True\n",
      "I'm doing the thing.\n",
      "bone-penn-272\n",
      "Does this patient have T1 available? True\n",
      "I'm doing the thing.\n"
     ]
    },
    {
     "name": "stderr",
     "output_type": "stream",
     "text": [
      "\r",
      " 95%|█████████▍| 190/201 [00:38<00:02,  4.22it/s]"
     ]
    },
    {
     "name": "stderr",
     "output_type": "stream",
     "text": [
      "\r",
      " 96%|█████████▌| 192/201 [00:38<00:01,  5.09it/s]"
     ]
    },
    {
     "name": "stdout",
     "output_type": "stream",
     "text": [
      "bone-penn-237\n",
      "Does this patient have T1 available? False\n",
      "T1 image unavailable\n",
      "bone-china-188\n",
      "Does this patient have T1 available? True\n",
      "I'm doing the thing.\n",
      "bone-hup-204\n",
      "Does this patient have T1 available? True\n",
      "I'm doing the thing.\n"
     ]
    },
    {
     "name": "stderr",
     "output_type": "stream",
     "text": [
      "\r",
      " 96%|█████████▌| 193/201 [00:38<00:01,  4.54it/s]"
     ]
    },
    {
     "name": "stderr",
     "output_type": "stream",
     "text": [
      "\r",
      " 97%|█████████▋| 194/201 [00:39<00:01,  4.75it/s]"
     ]
    },
    {
     "name": "stdout",
     "output_type": "stream",
     "text": [
      "bone-hup-236\n",
      "Does this patient have T1 available? True\n",
      "I'm doing the thing.\n",
      "bone-penn-640\n",
      "Does this patient have T1 available? True\n",
      "I'm doing the thing.\n"
     ]
    },
    {
     "name": "stderr",
     "output_type": "stream",
     "text": [
      "\r",
      " 98%|█████████▊| 196/201 [00:39<00:00,  5.65it/s]"
     ]
    },
    {
     "name": "stdout",
     "output_type": "stream",
     "text": [
      "bone-hup-273\n",
      "Does this patient have T1 available? True\n",
      "I'm doing the thing.\n",
      "bone-hup-70\n",
      "Does this patient have T1 available? True\n",
      "I'm doing the thing.\n"
     ]
    },
    {
     "name": "stderr",
     "output_type": "stream",
     "text": [
      "\r",
      " 98%|█████████▊| 197/201 [00:39<00:00,  5.86it/s]"
     ]
    },
    {
     "name": "stdout",
     "output_type": "stream",
     "text": [
      "bone-hup-50\n",
      "Does this patient have T1 available? True\n",
      "I'm doing the thing.\n"
     ]
    },
    {
     "name": "stderr",
     "output_type": "stream",
     "text": [
      "\r",
      " 99%|█████████▊| 198/201 [00:39<00:00,  4.07it/s]"
     ]
    },
    {
     "name": "stderr",
     "output_type": "stream",
     "text": [
      "\r",
      " 99%|█████████▉| 199/201 [00:40<00:00,  4.59it/s]"
     ]
    },
    {
     "name": "stdout",
     "output_type": "stream",
     "text": [
      "bone-hup-99\n",
      "Does this patient have T1 available? True\n",
      "I'm doing the thing.\n",
      "bone-penn-162\n",
      "Does this patient have T1 available? True\n",
      "I'm doing the thing.\n"
     ]
    },
    {
     "name": "stderr",
     "output_type": "stream",
     "text": [
      "\r",
      "100%|█████████▉| 200/201 [00:40<00:00,  2.58it/s]"
     ]
    },
    {
     "name": "stdout",
     "output_type": "stream",
     "text": [
      "\n",
      "################################################################################\n",
      "Exception occurred for: outcome_pos   1.000\n",
      "outcome_neg   1.000\n",
      "outcome_3     2.000\n",
      "sort              -\n",
      "volume        0.140\n",
      "Name: bone-penn-162, dtype: object\n",
      "index 223 is out of bounds for axis 0 with size 2\n",
      "T1 image unavailable\n",
      "Traceback (most recent call last):\n",
      "  File \"/home/user1/Documents/Bone-MRI/data_gen.py\", line 373, in generate_from_features\n",
      "    t1_masked = load_image(t1_image_file, t1_seg_file, verbose=verbose)\n",
      "  File \"/home/user1/Documents/Bone-MRI/data_gen.py\", line 331, in load_image\n",
      "    return [mask_image_percentile(image, segmentation, 100, a) for a in (0, 1, 2)]\n",
      "  File \"/home/user1/Documents/Bone-MRI/data_gen.py\", line 331, in <listcomp>\n",
      "    return [mask_image_percentile(image, segmentation, 100, a) for a in (0, 1, 2)]\n",
      "  File \"/home/user1/Documents/Bone-MRI/data_gen.py\", line 335, in mask_image_percentile\n",
      "    image, segmentation = select_slice(image, segmentation, plane, axis)\n",
      "  File \"/home/user1/Documents/Bone-MRI/segmentation.py\", line 40, in select_slice\n",
      "    image = axis_plane[axis](image, plane)\n",
      "  File \"/home/user1/Documents/Bone-MRI/segmentation.py\", line 13, in <lambda>\n",
      "    0: lambda image, plane : image[plane, :, :],\n",
      "IndexError: index 223 is out of bounds for axis 0 with size 2\n",
      "\n",
      "bone-penn-413\n",
      "Does this patient have T1 available? True\n",
      "I'm doing the thing.\n"
     ]
    },
    {
     "name": "stderr",
     "output_type": "stream",
     "text": [
      "\r",
      "100%|██████████| 201/201 [00:41<00:00,  2.79it/s]"
     ]
    },
    {
     "name": "stderr",
     "output_type": "stream",
     "text": [
      "\r",
      "100%|██████████| 201/201 [00:41<00:00,  4.89it/s]"
     ]
    },
    {
     "name": "stderr",
     "output_type": "stream",
     "text": [
      "\n",
      "\r",
      "  0%|          | 0/100 [00:00<?, ?it/s]"
     ]
    },
    {
     "name": "stderr",
     "output_type": "stream",
     "text": [
      "\r",
      "  1%|          | 1/100 [00:00<00:10,  9.81it/s]"
     ]
    },
    {
     "name": "stdout",
     "output_type": "stream",
     "text": [
      "bone-penn-564\n",
      "Does this patient have T1 available? True\n",
      "I'm doing the thing.\n",
      "bone-penn-502\n",
      "Does this patient have T1 available? True\n",
      "I'm doing the thing.\n"
     ]
    },
    {
     "name": "stderr",
     "output_type": "stream",
     "text": [
      "\r",
      "  2%|▏         | 2/100 [00:00<00:11,  8.39it/s]"
     ]
    },
    {
     "name": "stdout",
     "output_type": "stream",
     "text": [
      "bone-hup-314\n",
      "Does this patient have T1 available? True\n",
      "I'm doing the thing.\n"
     ]
    },
    {
     "name": "stderr",
     "output_type": "stream",
     "text": [
      "\r",
      "  3%|▎         | 3/100 [00:00<00:23,  4.20it/s]"
     ]
    },
    {
     "name": "stdout",
     "output_type": "stream",
     "text": [
      "bone-china-074\n",
      "Does this patient have T1 available? True\n",
      "I'm doing the thing.\n"
     ]
    },
    {
     "name": "stderr",
     "output_type": "stream",
     "text": [
      "\r",
      "  4%|▍         | 4/100 [00:00<00:21,  4.38it/s]"
     ]
    },
    {
     "name": "stdout",
     "output_type": "stream",
     "text": [
      "bone-china-034\n",
      "Does this patient have T1 available? True\n",
      "I'm doing the thing.\n"
     ]
    },
    {
     "name": "stderr",
     "output_type": "stream",
     "text": [
      "\r",
      "  5%|▌         | 5/100 [00:01<00:21,  4.45it/s]"
     ]
    },
    {
     "name": "stdout",
     "output_type": "stream",
     "text": [
      "bone-hup-300\n",
      "Does this patient have T1 available? True\n",
      "I'm doing the thing.\n"
     ]
    },
    {
     "name": "stderr",
     "output_type": "stream",
     "text": [
      "\r",
      "  6%|▌         | 6/100 [00:01<00:20,  4.49it/s]"
     ]
    },
    {
     "name": "stderr",
     "output_type": "stream",
     "text": [
      "\r",
      "  7%|▋         | 7/100 [00:01<00:19,  4.70it/s]"
     ]
    },
    {
     "name": "stdout",
     "output_type": "stream",
     "text": [
      "bone-penn-326\n",
      "Does this patient have T1 available? True\n",
      "I'm doing the thing.\n",
      "bone-penn-329\n",
      "Does this patient have T1 available? True\n",
      "I'm doing the thing.\n"
     ]
    },
    {
     "name": "stderr",
     "output_type": "stream",
     "text": [
      "\r",
      "  8%|▊         | 8/100 [00:02<00:32,  2.83it/s]"
     ]
    },
    {
     "name": "stderr",
     "output_type": "stream",
     "text": [
      "\r",
      "  9%|▉         | 9/100 [00:02<00:27,  3.29it/s]"
     ]
    },
    {
     "name": "stdout",
     "output_type": "stream",
     "text": [
      "bone-china-037\n",
      "Does this patient have T1 available? True\n",
      "I'm doing the thing.\n",
      "bone-penn-147\n",
      "Does this patient have T1 available? True\n",
      "I'm doing the thing.\n"
     ]
    },
    {
     "name": "stderr",
     "output_type": "stream",
     "text": [
      "\r",
      " 10%|█         | 10/100 [00:02<00:22,  3.99it/s]"
     ]
    },
    {
     "name": "stderr",
     "output_type": "stream",
     "text": [
      "\r",
      " 11%|█         | 11/100 [00:02<00:18,  4.73it/s]"
     ]
    },
    {
     "name": "stdout",
     "output_type": "stream",
     "text": [
      "bone-china-082\n",
      "Does this patient have T1 available? True\n",
      "I'm doing the thing.\n",
      "bone-penn-320\n",
      "Does this patient have T1 available? True\n",
      "I'm doing the thing.\n"
     ]
    },
    {
     "name": "stderr",
     "output_type": "stream",
     "text": [
      "\r",
      " 12%|█▏        | 12/100 [00:02<00:19,  4.58it/s]"
     ]
    },
    {
     "name": "stderr",
     "output_type": "stream",
     "text": [
      "\r",
      " 13%|█▎        | 13/100 [00:03<00:17,  5.04it/s]"
     ]
    },
    {
     "name": "stdout",
     "output_type": "stream",
     "text": [
      "bone-penn-554\n",
      "Does this patient have T1 available? True\n",
      "I'm doing the thing.\n",
      "bone-china-022\n",
      "Does this patient have T1 available? True\n",
      "I'm doing the thing.\n"
     ]
    },
    {
     "name": "stderr",
     "output_type": "stream",
     "text": [
      "\r",
      " 14%|█▍        | 14/100 [00:03<00:16,  5.37it/s]"
     ]
    },
    {
     "name": "stderr",
     "output_type": "stream",
     "text": [
      "\r",
      " 15%|█▌        | 15/100 [00:03<00:14,  5.73it/s]"
     ]
    },
    {
     "name": "stdout",
     "output_type": "stream",
     "text": [
      "bone-china-064\n",
      "Does this patient have T1 available? True\n",
      "I'm doing the thing.\n",
      "bone-china-016\n",
      "Does this patient have T1 available? True\n",
      "I'm doing the thing.\n"
     ]
    },
    {
     "name": "stderr",
     "output_type": "stream",
     "text": [
      "\r",
      " 16%|█▌        | 16/100 [00:03<00:12,  6.55it/s]"
     ]
    },
    {
     "name": "stdout",
     "output_type": "stream",
     "text": [
      "bone-penn-513\n",
      "Does this patient have T1 available? True\n",
      "I'm doing the thing.\n"
     ]
    },
    {
     "name": "stderr",
     "output_type": "stream",
     "text": [
      "\r",
      " 17%|█▋        | 17/100 [00:03<00:15,  5.37it/s]"
     ]
    },
    {
     "name": "stderr",
     "output_type": "stream",
     "text": [
      "\r",
      " 18%|█▊        | 18/100 [00:03<00:13,  5.91it/s]"
     ]
    },
    {
     "name": "stdout",
     "output_type": "stream",
     "text": [
      "bone-china-073\n",
      "Does this patient have T1 available? True\n",
      "I'm doing the thing.\n",
      "bone-penn-328\n",
      "Does this patient have T1 available? True\n",
      "I'm doing the thing.\n",
      "bone-hup-297\n",
      "Does this patient have T1 available? True\n",
      "I'm doing the thing.\n"
     ]
    },
    {
     "name": "stderr",
     "output_type": "stream",
     "text": [
      "\r",
      " 20%|██        | 20/100 [00:04<00:15,  5.30it/s]"
     ]
    },
    {
     "name": "stderr",
     "output_type": "stream",
     "text": [
      "\r",
      " 21%|██        | 21/100 [00:04<00:12,  6.11it/s]"
     ]
    },
    {
     "name": "stdout",
     "output_type": "stream",
     "text": [
      "bone-hup-301\n",
      "Does this patient have T1 available? True\n",
      "I'm doing the thing.\n",
      "bone-china-005\n",
      "Does this patient have T1 available? True\n",
      "I'm doing the thing.\n",
      "\n",
      "################################################################################\n",
      "Exception occurred for: outcome_pos   0.000\n",
      "outcome_neg   0.000\n",
      "outcome_3     0.000\n",
      "sort              -\n",
      "volume        0.140\n",
      "Name: bone-china-005, dtype: object\n",
      "buffer size must be a multiple of element size\n",
      "T1 image unavailable\n",
      "Traceback (most recent call last):\n",
      "  File \"/home/user1/Documents/Bone-MRI/data_gen.py\", line 373, in generate_from_features\n",
      "    t1_masked = load_image(t1_image_file, t1_seg_file, verbose=verbose)\n",
      "  File \"/home/user1/Documents/Bone-MRI/data_gen.py\", line 324, in load_image\n",
      "    image, _ = nrrd.read(image_path)\n",
      "  File \"/home/user1/.local/share/virtualenvs/Bone-MRI-iLizu8rs/lib/python3.6/site-packages/nrrd/reader.py\", line 508, in read\n",
      "    data = read_data(header, fh, filename, index_order)\n",
      "  File \"/home/user1/.local/share/virtualenvs/Bone-MRI-iLizu8rs/lib/python3.6/site-packages/nrrd/reader.py\", line 450, in read_data\n",
      "    data = np.frombuffer(decompressed_data[byte_skip:], dtype)\n",
      "ValueError: buffer size must be a multiple of element size\n",
      "\n",
      "bone-penn-347\n",
      "Does this patient have T1 available? True\n",
      "I'm doing the thing.\n"
     ]
    },
    {
     "name": "stderr",
     "output_type": "stream",
     "text": [
      "\r",
      " 23%|██▎       | 23/100 [00:04<00:11,  6.74it/s]"
     ]
    },
    {
     "name": "stdout",
     "output_type": "stream",
     "text": [
      "bone-penn-417\n",
      "Does this patient have T1 available? True\n",
      "I'm doing the thing.\n"
     ]
    },
    {
     "name": "stderr",
     "output_type": "stream",
     "text": [
      "\r",
      " 24%|██▍       | 24/100 [00:04<00:14,  5.39it/s]"
     ]
    },
    {
     "name": "stderr",
     "output_type": "stream",
     "text": [
      "\r",
      " 25%|██▌       | 25/100 [00:05<00:12,  5.79it/s]"
     ]
    },
    {
     "name": "stdout",
     "output_type": "stream",
     "text": [
      "bone-hup-315\n",
      "Does this patient have T1 available? True\n",
      "I'm doing the thing.\n",
      "bone-hup-330\n",
      "Does this patient have T1 available? True\n",
      "I'm doing the thing.\n"
     ]
    },
    {
     "name": "stderr",
     "output_type": "stream",
     "text": [
      "\r",
      " 26%|██▌       | 26/100 [00:05<00:17,  4.19it/s]"
     ]
    },
    {
     "name": "stderr",
     "output_type": "stream",
     "text": [
      "\r",
      " 27%|██▋       | 27/100 [00:05<00:15,  4.76it/s]"
     ]
    },
    {
     "name": "stdout",
     "output_type": "stream",
     "text": [
      "bone-china-007\n",
      "Does this patient have T1 available? True\n",
      "I'm doing the thing.\n",
      "bone-hup-261\n",
      "Does this patient have T1 available? True\n",
      "I'm doing the thing.\n"
     ]
    },
    {
     "name": "stderr",
     "output_type": "stream",
     "text": [
      "\r",
      " 29%|██▉       | 29/100 [00:05<00:12,  5.83it/s]"
     ]
    },
    {
     "name": "stdout",
     "output_type": "stream",
     "text": [
      "bone-penn-253\n",
      "Does this patient have T1 available? True\n",
      "I'm doing the thing.\n",
      "bone-penn-454\n",
      "Does this patient have T1 available? True\n",
      "I'm doing the thing.\n",
      "bone-penn-300\n",
      "Does this patient have T1 available? True\n",
      "I'm doing the thing.\n"
     ]
    },
    {
     "name": "stderr",
     "output_type": "stream",
     "text": [
      "\r",
      " 31%|███       | 31/100 [00:06<00:14,  4.71it/s]"
     ]
    },
    {
     "name": "stdout",
     "output_type": "stream",
     "text": [
      "bone-penn-414\n",
      "Does this patient have T1 available? True\n",
      "I'm doing the thing.\n",
      "bone-penn-203\n",
      "Does this patient have T1 available? True\n",
      "I'm doing the thing.\n"
     ]
    },
    {
     "name": "stderr",
     "output_type": "stream",
     "text": [
      "\r",
      " 33%|███▎      | 33/100 [00:08<00:27,  2.46it/s]"
     ]
    },
    {
     "name": "stdout",
     "output_type": "stream",
     "text": [
      "bone-china-142\n",
      "Does this patient have T1 available? True\n",
      "I'm doing the thing.\n"
     ]
    },
    {
     "name": "stderr",
     "output_type": "stream",
     "text": [
      "\r",
      " 34%|███▍      | 34/100 [00:08<00:24,  2.69it/s]"
     ]
    },
    {
     "name": "stderr",
     "output_type": "stream",
     "text": [
      "\r",
      " 35%|███▌      | 35/100 [00:08<00:19,  3.42it/s]"
     ]
    },
    {
     "name": "stdout",
     "output_type": "stream",
     "text": [
      "bone-china-105\n",
      "Does this patient have T1 available? True\n",
      "I'm doing the thing.\n",
      "bone-penn-510\n",
      "Does this patient have T1 available? True\n",
      "I'm doing the thing.\n"
     ]
    },
    {
     "name": "stderr",
     "output_type": "stream",
     "text": [
      "\r",
      " 36%|███▌      | 36/100 [00:08<00:17,  3.66it/s]"
     ]
    },
    {
     "name": "stderr",
     "output_type": "stream",
     "text": [
      "\r",
      " 37%|███▋      | 37/100 [00:08<00:15,  4.15it/s]"
     ]
    },
    {
     "name": "stdout",
     "output_type": "stream",
     "text": [
      "bone-china-196\n",
      "Does this patient have T1 available? True\n",
      "I'm doing the thing.\n",
      "bone-hup-196\n",
      "Does this patient have T1 available? True\n",
      "I'm doing the thing.\n"
     ]
    },
    {
     "name": "stderr",
     "output_type": "stream",
     "text": [
      "\r",
      " 38%|███▊      | 38/100 [00:09<00:13,  4.70it/s]"
     ]
    },
    {
     "name": "stderr",
     "output_type": "stream",
     "text": [
      "\r",
      " 39%|███▉      | 39/100 [00:09<00:12,  4.83it/s]"
     ]
    },
    {
     "name": "stdout",
     "output_type": "stream",
     "text": [
      "bone-penn-646\n",
      "Does this patient have T1 available? True\n",
      "I'm doing the thing.\n",
      "bone-penn-385\n",
      "Does this patient have T1 available? True\n",
      "I'm doing the thing.\n"
     ]
    },
    {
     "name": "stderr",
     "output_type": "stream",
     "text": [
      "\r",
      " 40%|████      | 40/100 [00:09<00:11,  5.27it/s]"
     ]
    },
    {
     "name": "stderr",
     "output_type": "stream",
     "text": [
      "\r",
      " 41%|████      | 41/100 [00:09<00:10,  5.52it/s]"
     ]
    },
    {
     "name": "stdout",
     "output_type": "stream",
     "text": [
      "bone-china-122\n",
      "Does this patient have T1 available? True\n",
      "I'm doing the thing.\n",
      "bone-penn-461\n",
      "Does this patient have T1 available? True\n",
      "I'm doing the thing.\n"
     ]
    },
    {
     "name": "stderr",
     "output_type": "stream",
     "text": [
      "\r",
      " 42%|████▏     | 42/100 [00:10<00:14,  3.87it/s]"
     ]
    },
    {
     "name": "stderr",
     "output_type": "stream",
     "text": [
      "\r",
      " 43%|████▎     | 43/100 [00:10<00:13,  4.37it/s]"
     ]
    },
    {
     "name": "stdout",
     "output_type": "stream",
     "text": [
      "bone-china-194\n",
      "Does this patient have T1 available? True\n",
      "I'm doing the thing.\n",
      "bone-china-121\n",
      "Does this patient have T1 available? True\n",
      "I'm doing the thing.\n"
     ]
    },
    {
     "name": "stderr",
     "output_type": "stream",
     "text": [
      "\r",
      " 44%|████▍     | 44/100 [00:10<00:12,  4.51it/s]"
     ]
    },
    {
     "name": "stdout",
     "output_type": "stream",
     "text": [
      "bone-penn-485\n",
      "Does this patient have T1 available? True\n",
      "I'm doing the thing.\n"
     ]
    },
    {
     "name": "stderr",
     "output_type": "stream",
     "text": [
      "\r",
      " 45%|████▌     | 45/100 [00:10<00:14,  3.86it/s]"
     ]
    },
    {
     "name": "stdout",
     "output_type": "stream",
     "text": [
      "bone-hup-62\n",
      "Does this patient have T1 available? True\n",
      "I'm doing the thing.\n"
     ]
    },
    {
     "name": "stderr",
     "output_type": "stream",
     "text": [
      "\r",
      " 46%|████▌     | 46/100 [00:14<01:03,  1.18s/it]"
     ]
    },
    {
     "name": "stdout",
     "output_type": "stream",
     "text": [
      "bone-hup-153\n",
      "Does this patient have T1 available? True\n",
      "I'm doing the thing.\n"
     ]
    },
    {
     "name": "stderr",
     "output_type": "stream",
     "text": [
      "\r",
      " 47%|████▋     | 47/100 [00:14<00:48,  1.09it/s]"
     ]
    },
    {
     "name": "stdout",
     "output_type": "stream",
     "text": [
      "bone-hup-39\n",
      "Does this patient have T1 available? True\n",
      "I'm doing the thing.\n"
     ]
    },
    {
     "name": "stderr",
     "output_type": "stream",
     "text": [
      "\r",
      " 48%|████▊     | 48/100 [00:15<00:48,  1.06it/s]"
     ]
    },
    {
     "name": "stderr",
     "output_type": "stream",
     "text": [
      "\r",
      " 49%|████▉     | 49/100 [00:15<00:36,  1.41it/s]"
     ]
    },
    {
     "name": "stdout",
     "output_type": "stream",
     "text": [
      "bone-china-109\n",
      "Does this patient have T1 available? True\n",
      "I'm doing the thing.\n",
      "bone-penn-346\n",
      "Does this patient have T1 available? True\n",
      "I'm doing the thing.\n"
     ]
    },
    {
     "name": "stderr",
     "output_type": "stream",
     "text": [
      "\r",
      " 51%|█████     | 51/100 [00:15<00:26,  1.86it/s]"
     ]
    },
    {
     "name": "stdout",
     "output_type": "stream",
     "text": [
      "bone-penn-187\n",
      "Does this patient have T1 available? True\n",
      "I'm doing the thing.\n",
      "bone-penn-644\n",
      "Does this patient have T1 available? True\n",
      "I'm doing the thing.\n"
     ]
    },
    {
     "name": "stderr",
     "output_type": "stream",
     "text": [
      "\r",
      " 52%|█████▏    | 52/100 [00:16<00:28,  1.71it/s]"
     ]
    },
    {
     "name": "stdout",
     "output_type": "stream",
     "text": [
      "bone-penn-311\n",
      "Does this patient have T1 available? True\n",
      "I'm doing the thing.\n"
     ]
    },
    {
     "name": "stderr",
     "output_type": "stream",
     "text": [
      "\r",
      " 53%|█████▎    | 53/100 [00:16<00:22,  2.06it/s]"
     ]
    },
    {
     "name": "stderr",
     "output_type": "stream",
     "text": [
      "\r",
      " 54%|█████▍    | 54/100 [00:16<00:17,  2.62it/s]"
     ]
    },
    {
     "name": "stdout",
     "output_type": "stream",
     "text": [
      "bone-penn-600\n",
      "Does this patient have T1 available? True\n",
      "I'm doing the thing.\n",
      "bone-hup-76\n",
      "Does this patient have T1 available? True\n",
      "I'm doing the thing.\n"
     ]
    },
    {
     "name": "stderr",
     "output_type": "stream",
     "text": [
      "\r",
      " 55%|█████▌    | 55/100 [00:17<00:14,  3.20it/s]"
     ]
    },
    {
     "name": "stdout",
     "output_type": "stream",
     "text": [
      "bone-penn-238\n",
      "Does this patient have T1 available? True\n",
      "I'm doing the thing.\n",
      "bone-penn-103\n",
      "Does this patient have T1 available? True\n",
      "I'm doing the thing.\n"
     ]
    },
    {
     "name": "stderr",
     "output_type": "stream",
     "text": [
      "\r",
      " 57%|█████▋    | 57/100 [00:17<00:11,  3.64it/s]"
     ]
    },
    {
     "name": "stdout",
     "output_type": "stream",
     "text": [
      "bone-penn-261\n",
      "Does this patient have T1 available? True\n",
      "I'm doing the thing.\n",
      "bone-penn-515\n",
      "Does this patient have T1 available? True\n",
      "I'm doing the thing.\n"
     ]
    },
    {
     "name": "stderr",
     "output_type": "stream",
     "text": [
      "\r",
      " 59%|█████▉    | 59/100 [00:17<00:09,  4.41it/s]"
     ]
    },
    {
     "name": "stdout",
     "output_type": "stream",
     "text": [
      "bone-penn-390\n",
      "Does this patient have T1 available? True\n",
      "I'm doing the thing.\n"
     ]
    },
    {
     "name": "stderr",
     "output_type": "stream",
     "text": [
      "\r",
      " 60%|██████    | 60/100 [00:17<00:09,  4.16it/s]"
     ]
    },
    {
     "name": "stdout",
     "output_type": "stream",
     "text": [
      "bone-penn-605\n",
      "Does this patient have T1 available? True\n",
      "I'm doing the thing.\n"
     ]
    },
    {
     "name": "stderr",
     "output_type": "stream",
     "text": [
      "\r",
      " 61%|██████    | 61/100 [00:18<00:10,  3.78it/s]"
     ]
    },
    {
     "name": "stderr",
     "output_type": "stream",
     "text": [
      "\r",
      " 62%|██████▏   | 62/100 [00:18<00:08,  4.45it/s]"
     ]
    },
    {
     "name": "stdout",
     "output_type": "stream",
     "text": [
      "bone-penn-608\n",
      "Does this patient have T1 available? True\n",
      "I'm doing the thing.\n",
      "bone-penn-268\n",
      "Does this patient have T1 available? True\n",
      "I'm doing the thing.\n",
      "bone-china-091\n",
      "Does this patient have T1 available? True\n",
      "I'm doing the thing.\n"
     ]
    },
    {
     "name": "stderr",
     "output_type": "stream",
     "text": [
      "\r",
      " 64%|██████▍   | 64/100 [00:18<00:06,  5.32it/s]"
     ]
    },
    {
     "name": "stderr",
     "output_type": "stream",
     "text": [
      "\r",
      " 65%|██████▌   | 65/100 [00:18<00:05,  6.10it/s]"
     ]
    },
    {
     "name": "stdout",
     "output_type": "stream",
     "text": [
      "bone-penn-585\n",
      "Does this patient have T1 available? True\n",
      "I'm doing the thing.\n",
      "bone-china-209\n",
      "Does this patient have T1 available? True\n",
      "I'm doing the thing.\n"
     ]
    },
    {
     "name": "stderr",
     "output_type": "stream",
     "text": [
      "\r",
      " 66%|██████▌   | 66/100 [00:18<00:05,  6.33it/s]"
     ]
    },
    {
     "name": "stdout",
     "output_type": "stream",
     "text": [
      "bone-penn-105\n",
      "Does this patient have T1 available? True\n",
      "I'm doing the thing.\n"
     ]
    },
    {
     "name": "stderr",
     "output_type": "stream",
     "text": [
      "\r",
      " 67%|██████▋   | 67/100 [00:19<00:06,  5.31it/s]"
     ]
    },
    {
     "name": "stderr",
     "output_type": "stream",
     "text": [
      "\r",
      " 68%|██████▊   | 68/100 [00:19<00:05,  6.08it/s]"
     ]
    },
    {
     "name": "stdout",
     "output_type": "stream",
     "text": [
      "bone-china-168\n",
      "Does this patient have T1 available? True\n",
      "I'm doing the thing.\n",
      "bone-china-099\n",
      "Does this patient have T1 available? True\n",
      "I'm doing the thing.\n",
      "bone-penn-639\n",
      "Does this patient have T1 available? True\n",
      "I'm doing the thing.\n"
     ]
    },
    {
     "name": "stderr",
     "output_type": "stream",
     "text": [
      "\r",
      " 70%|███████   | 70/100 [00:19<00:04,  7.41it/s]"
     ]
    },
    {
     "name": "stdout",
     "output_type": "stream",
     "text": [
      "bone-hup-109\n",
      "Does this patient have T1 available? True\n",
      "I'm doing the thing.\n"
     ]
    },
    {
     "name": "stderr",
     "output_type": "stream",
     "text": [
      "\r",
      " 71%|███████   | 71/100 [00:19<00:05,  5.66it/s]"
     ]
    },
    {
     "name": "stdout",
     "output_type": "stream",
     "text": [
      "bone-penn-111\n",
      "Does this patient have T1 available? True\n",
      "I'm doing the thing.\n"
     ]
    },
    {
     "name": "stderr",
     "output_type": "stream",
     "text": [
      "\r",
      " 72%|███████▏  | 72/100 [00:20<00:08,  3.40it/s]"
     ]
    },
    {
     "name": "stdout",
     "output_type": "stream",
     "text": [
      "bone-penn-192\n",
      "Does this patient have T1 available? True\n",
      "I'm doing the thing.\n"
     ]
    },
    {
     "name": "stderr",
     "output_type": "stream",
     "text": [
      "\r",
      " 73%|███████▎  | 73/100 [00:20<00:08,  3.04it/s]"
     ]
    },
    {
     "name": "stderr",
     "output_type": "stream",
     "text": [
      "\r",
      " 74%|███████▍  | 74/100 [00:20<00:06,  3.79it/s]"
     ]
    },
    {
     "name": "stdout",
     "output_type": "stream",
     "text": [
      "bone-hup-168\n",
      "Does this patient have T1 available? True\n",
      "I'm doing the thing.\n",
      "bone-penn-234\n",
      "Does this patient have T1 available? True\n",
      "I'm doing the thing.\n"
     ]
    },
    {
     "name": "stderr",
     "output_type": "stream",
     "text": [
      "\r",
      " 75%|███████▌  | 75/100 [00:20<00:06,  3.82it/s]"
     ]
    },
    {
     "name": "stdout",
     "output_type": "stream",
     "text": [
      "bone-china-229\n",
      "Does this patient have T1 available? True\n",
      "I'm doing the thing.\n"
     ]
    },
    {
     "name": "stderr",
     "output_type": "stream",
     "text": [
      "\r",
      " 76%|███████▌  | 76/100 [00:21<00:06,  3.58it/s]"
     ]
    },
    {
     "name": "stdout",
     "output_type": "stream",
     "text": [
      "bone-penn-501\n",
      "Does this patient have T1 available? True\n",
      "I'm doing the thing.\n"
     ]
    },
    {
     "name": "stderr",
     "output_type": "stream",
     "text": [
      "\r",
      " 77%|███████▋  | 77/100 [00:23<00:19,  1.15it/s]"
     ]
    },
    {
     "name": "stderr",
     "output_type": "stream",
     "text": [
      "\r",
      " 79%|███████▉  | 79/100 [00:23<00:13,  1.60it/s]"
     ]
    },
    {
     "name": "stdout",
     "output_type": "stream",
     "text": [
      "bone-hup-238\n",
      "Does this patient have T1 available? True\n",
      "I'm doing the thing.\n",
      "bone-penn-113\n",
      "Does this patient have T1 available? True\n",
      "I'm doing the thing.\n",
      "bone-penn-535\n",
      "Does this patient have T1 available? True\n",
      "I'm doing the thing.\n"
     ]
    },
    {
     "name": "stderr",
     "output_type": "stream",
     "text": [
      "\r",
      " 80%|████████  | 80/100 [00:23<00:10,  1.99it/s]"
     ]
    },
    {
     "name": "stdout",
     "output_type": "stream",
     "text": [
      "bone-penn-617\n",
      "Does this patient have T1 available? True\n",
      "I'm doing the thing.\n"
     ]
    },
    {
     "name": "stderr",
     "output_type": "stream",
     "text": [
      "\r",
      " 81%|████████  | 81/100 [00:24<00:10,  1.87it/s]"
     ]
    },
    {
     "name": "stdout",
     "output_type": "stream",
     "text": [
      "bone-penn-168\n",
      "Does this patient have T1 available? True\n",
      "I'm doing the thing.\n"
     ]
    },
    {
     "name": "stderr",
     "output_type": "stream",
     "text": [
      "\r",
      " 82%|████████▏ | 82/100 [00:24<00:08,  2.14it/s]"
     ]
    },
    {
     "name": "stderr",
     "output_type": "stream",
     "text": [
      "\r",
      " 83%|████████▎ | 83/100 [00:24<00:06,  2.64it/s]"
     ]
    },
    {
     "name": "stdout",
     "output_type": "stream",
     "text": [
      "bone-penn-588\n",
      "Does this patient have T1 available? True\n",
      "I'm doing the thing.\n",
      "bone-hup-191\n",
      "Does this patient have T1 available? True\n",
      "I'm doing the thing.\n"
     ]
    },
    {
     "name": "stderr",
     "output_type": "stream",
     "text": [
      "\r",
      " 84%|████████▍ | 84/100 [00:25<00:07,  2.02it/s]"
     ]
    },
    {
     "name": "stderr",
     "output_type": "stream",
     "text": [
      "\r",
      " 85%|████████▌ | 85/100 [00:25<00:05,  2.58it/s]"
     ]
    },
    {
     "name": "stdout",
     "output_type": "stream",
     "text": [
      "bone-penn-647\n",
      "Does this patient have T1 available? True\n",
      "I'm doing the thing.\n",
      "bone-china-162\n",
      "Does this patient have T1 available? True\n",
      "I'm doing the thing.\n"
     ]
    },
    {
     "name": "stderr",
     "output_type": "stream",
     "text": [
      "\r",
      " 86%|████████▌ | 86/100 [00:25<00:04,  3.27it/s]"
     ]
    },
    {
     "name": "stderr",
     "output_type": "stream",
     "text": [
      "\r",
      " 88%|████████▊ | 88/100 [00:26<00:02,  4.21it/s]"
     ]
    },
    {
     "name": "stdout",
     "output_type": "stream",
     "text": [
      "bone-china-186\n",
      "Does this patient have T1 available? True\n",
      "I'm doing the thing.\n",
      "bone-penn-217\n",
      "Does this patient have T1 available? True\n",
      "I'm doing the thing.\n",
      "bone-hup-130\n",
      "Does this patient have T1 available? True\n",
      "I'm doing the thing.\n"
     ]
    },
    {
     "name": "stderr",
     "output_type": "stream",
     "text": [
      "\r",
      " 89%|████████▉ | 89/100 [00:26<00:02,  4.39it/s]"
     ]
    },
    {
     "name": "stderr",
     "output_type": "stream",
     "text": [
      "\r",
      " 90%|█████████ | 90/100 [00:26<00:02,  4.52it/s]"
     ]
    },
    {
     "name": "stdout",
     "output_type": "stream",
     "text": [
      "bone-hup-104\n",
      "Does this patient have T1 available? True\n",
      "I'm doing the thing.\n"
     ]
    },
    {
     "name": "stderr",
     "output_type": "stream",
     "text": [
      "\r",
      " 91%|█████████ | 91/100 [00:26<00:02,  4.37it/s]"
     ]
    },
    {
     "name": "stdout",
     "output_type": "stream",
     "text": [
      "bone-penn-81\n",
      "Does this patient have T1 available? True\n",
      "I'm doing the thing.\n",
      "bone-penn-633\n",
      "Does this patient have T1 available? True\n",
      "I'm doing the thing.\n",
      "bone-penn-499\n",
      "Does this patient have T1 available? True\n",
      "I'm doing the thing.\n"
     ]
    },
    {
     "name": "stderr",
     "output_type": "stream",
     "text": [
      "\r",
      " 93%|█████████▎| 93/100 [00:27<00:01,  4.82it/s]"
     ]
    },
    {
     "name": "stderr",
     "output_type": "stream",
     "text": [
      "\r",
      " 94%|█████████▍| 94/100 [00:27<00:01,  5.07it/s]"
     ]
    },
    {
     "name": "stdout",
     "output_type": "stream",
     "text": [
      "bone-china-181\n",
      "Does this patient have T1 available? True\n",
      "I'm doing the thing.\n",
      "bone-china-152\n",
      "Does this patient have T1 available? True\n",
      "I'm doing the thing.\n"
     ]
    },
    {
     "name": "stderr",
     "output_type": "stream",
     "text": [
      "\r",
      " 95%|█████████▌| 95/100 [00:27<00:00,  5.15it/s]"
     ]
    },
    {
     "name": "stderr",
     "output_type": "stream",
     "text": [
      "\r",
      " 96%|█████████▌| 96/100 [00:27<00:00,  5.33it/s]"
     ]
    },
    {
     "name": "stdout",
     "output_type": "stream",
     "text": [
      "bone-penn-614\n",
      "Does this patient have T1 available? True\n",
      "I'm doing the thing.\n",
      "bone-penn-369\n",
      "Does this patient have T1 available? True\n",
      "I'm doing the thing.\n"
     ]
    },
    {
     "name": "stderr",
     "output_type": "stream",
     "text": [
      "\r",
      " 97%|█████████▋| 97/100 [00:27<00:00,  5.32it/s]"
     ]
    },
    {
     "name": "stdout",
     "output_type": "stream",
     "text": [
      "bone-hup-95\n",
      "Does this patient have T1 available? True\n",
      "I'm doing the thing.\n"
     ]
    },
    {
     "name": "stderr",
     "output_type": "stream",
     "text": [
      "\r",
      " 98%|█████████▊| 98/100 [00:28<00:00,  3.68it/s]"
     ]
    },
    {
     "name": "stderr",
     "output_type": "stream",
     "text": [
      "\r",
      " 99%|█████████▉| 99/100 [00:28<00:00,  4.48it/s]"
     ]
    },
    {
     "name": "stderr",
     "output_type": "stream",
     "text": [
      "\r",
      "100%|██████████| 100/100 [00:28<00:00,  3.51it/s]"
     ]
    },
    {
     "name": "stderr",
     "output_type": "stream",
     "text": [
      "\n"
     ]
    },
    {
     "name": "stdout",
     "output_type": "stream",
     "text": [
      "bone-china-177\n",
      "Does this patient have T1 available? True\n",
      "I'm doing the thing.\n",
      "bone-penn-256\n",
      "Does this patient have T1 available? True\n",
      "I'm doing the thing.\n",
      "0.8887323943661972\n",
      "0.99\n",
      "0.9502487562189055\n"
     ]
    }
   ],
   "source": [
    "train, validation, test = data(seed=uuid.UUID(result.split_seed), label_form=result.label_form, input_form=result.input_form, train_shuffle=False, test_shuffle=False, validation_shuffle=False, train_augment=False, validation_augment=False, test_augment=False)"
   ]
  },
  {
   "cell_type": "code",
   "execution_count": 12,
   "metadata": {
    "papermill": {
     "duration": 0.286852,
     "end_time": "2020-04-28T18:14:21.051399",
     "exception": false,
     "start_time": "2020-04-28T18:14:20.764547",
     "status": "completed"
    },
    "scrolled": true,
    "tags": []
   },
   "outputs": [
    {
     "name": "stdout",
     "output_type": "stream",
     "text": [
      "training N: 631\n",
      "validation N: 191\n",
      "test N: 99\n"
     ]
    }
   ],
   "source": [
    "print(\"training N:\", len(train))\n",
    "print(\"validation N:\", len(validation))\n",
    "print(\"test N:\", len(test))"
   ]
  },
  {
   "cell_type": "code",
   "execution_count": 13,
   "metadata": {
    "papermill": {
     "duration": 0.297833,
     "end_time": "2020-04-28T18:14:21.924388",
     "exception": false,
     "start_time": "2020-04-28T18:14:21.626555",
     "status": "completed"
    },
    "tags": []
   },
   "outputs": [
    {
     "name": "stdout",
     "output_type": "stream",
     "text": [
      "training 1.0: 453\n",
      "validation 1.0: 140\n",
      "test 1.0: 73\n"
     ]
    }
   ],
   "source": [
    "class_inv = {v: k for k, v in train.class_indices.items()}\n",
    "print(\"training {}:\".format(class_inv[1]), sum(train.classes))\n",
    "print(\"validation {}:\".format(class_inv[1]), sum(validation.classes))\n",
    "print(\"test {}:\".format(class_inv[1]), sum(test.classes))"
   ]
  },
  {
   "cell_type": "code",
   "execution_count": 14,
   "metadata": {
    "collapsed": true,
    "papermill": {
     "duration": 74.421136,
     "end_time": "2020-04-28T18:15:36.961085",
     "exception": false,
     "start_time": "2020-04-28T18:14:22.539949",
     "status": "completed"
    },
    "tags": []
   },
   "outputs": [
    {
     "name": "stdout",
     "output_type": "stream",
     "text": [
      "WARNING:tensorflow:From /home/user1/.local/share/virtualenvs/Bone-MRI-iLizu8rs/lib/python3.6/site-packages/tensorflow/python/ops/nn_impl.py:180: add_dispatch_support.<locals>.wrapper (from tensorflow.python.ops.array_ops) is deprecated and will be removed in a future version.\n",
      "Instructions for updating:\n",
      "Use tf.where in 2.0, which has the same broadcast rule as np.where\n"
     ]
    },
    {
     "name": "stderr",
     "output_type": "stream",
     "text": [
      "WARNING:tensorflow:From /home/user1/.local/share/virtualenvs/Bone-MRI-iLizu8rs/lib/python3.6/site-packages/tensorflow/python/ops/nn_impl.py:180: add_dispatch_support.<locals>.wrapper (from tensorflow.python.ops.array_ops) is deprecated and will be removed in a future version.\n",
      "Instructions for updating:\n",
      "Use tf.where in 2.0, which has the same broadcast rule as np.where\n"
     ]
    },
    {
     "name": "stdout",
     "output_type": "stream",
     "text": [
      "WARNING:tensorflow:From /home/user1/.local/share/virtualenvs/Bone-MRI-iLizu8rs/lib/python3.6/site-packages/keras/backend/tensorflow_backend.py:422: The name tf.global_variables is deprecated. Please use tf.compat.v1.global_variables instead.\n",
      "\n"
     ]
    },
    {
     "name": "stderr",
     "output_type": "stream",
     "text": [
      "WARNING:tensorflow:From /home/user1/.local/share/virtualenvs/Bone-MRI-iLizu8rs/lib/python3.6/site-packages/keras/backend/tensorflow_backend.py:422: The name tf.global_variables is deprecated. Please use tf.compat.v1.global_variables instead.\n",
      "\n"
     ]
    }
   ],
   "source": [
    "model = load(MODEL)"
   ]
  },
  {
   "cell_type": "code",
   "execution_count": 15,
   "metadata": {
    "papermill": {
     "duration": 0.250564,
     "end_time": "2020-04-28T18:15:37.216437",
     "exception": false,
     "start_time": "2020-04-28T18:15:36.965873",
     "status": "completed"
    },
    "tags": []
   },
   "outputs": [
    {
     "data": {
      "text/plain": [
       "<keras.engine.training.Model at 0x7fad33b46198>"
      ]
     },
     "execution_count": 15,
     "metadata": {},
     "output_type": "execute_result"
    }
   ],
   "source": [
    "model"
   ]
  },
  {
   "cell_type": "markdown",
   "metadata": {
    "papermill": {
     "duration": 7.5e-05,
     "end_time": "2020-04-28T18:15:37.925976",
     "exception": false,
     "start_time": "2020-04-28T18:15:37.925901",
     "status": "completed"
    },
    "tags": []
   },
   "source": [
    "# Train"
   ]
  },
  {
   "cell_type": "code",
   "execution_count": 16,
   "metadata": {
    "collapsed": true,
    "papermill": {
     "duration": 33.189465,
     "end_time": "2020-04-28T18:16:11.926344",
     "exception": false,
     "start_time": "2020-04-28T18:15:38.736879",
     "status": "completed"
    },
    "tags": []
   },
   "outputs": [],
   "source": [
    "results = get_results(model, train)"
   ]
  },
  {
   "cell_type": "code",
   "execution_count": 17,
   "metadata": {
    "papermill": {
     "duration": 0.317108,
     "end_time": "2020-04-28T18:16:12.245495",
     "exception": false,
     "start_time": "2020-04-28T18:16:11.928387",
     "status": "completed"
    },
    "scrolled": false,
    "tags": []
   },
   "outputs": [
    {
     "data": {
      "application/papermill.record+json": {
       "train_labels": [
        0,
        0,
        0,
        0,
        0,
        0,
        0,
        0,
        0,
        0,
        0,
        0,
        0,
        0,
        0,
        0,
        0,
        0,
        0,
        0,
        0,
        0,
        0,
        0,
        0,
        0,
        0,
        0,
        0,
        0,
        0,
        0,
        0,
        0,
        0,
        0,
        0,
        0,
        0,
        0,
        0,
        0,
        0,
        0,
        0,
        0,
        0,
        0,
        0,
        0,
        0,
        0,
        0,
        0,
        0,
        0,
        0,
        0,
        0,
        0,
        0,
        0,
        0,
        0,
        0,
        0,
        0,
        0,
        0,
        0,
        0,
        0,
        0,
        0,
        0,
        0,
        0,
        0,
        0,
        0,
        0,
        0,
        0,
        0,
        0,
        0,
        0,
        0,
        0,
        0,
        0,
        0,
        0,
        0,
        0,
        0,
        0,
        0,
        0,
        0,
        0,
        0,
        0,
        0,
        0,
        0,
        0,
        0,
        0,
        0,
        0,
        0,
        0,
        0,
        0,
        0,
        0,
        0,
        0,
        0,
        0,
        0,
        0,
        0,
        0,
        0,
        0,
        0,
        0,
        0,
        0,
        0,
        0,
        0,
        0,
        0,
        0,
        0,
        0,
        0,
        0,
        0,
        0,
        0,
        0,
        0,
        0,
        0,
        0,
        0,
        0,
        0,
        0,
        0,
        0,
        0,
        0,
        0,
        0,
        0,
        0,
        0,
        0,
        0,
        0,
        0,
        0,
        0,
        0,
        0,
        0,
        0,
        0,
        0,
        0,
        0,
        0,
        1,
        1,
        1,
        1,
        1,
        1,
        1,
        1,
        1,
        1,
        1,
        1,
        1,
        1,
        1,
        1,
        1,
        1,
        1,
        1,
        1,
        1,
        1,
        1,
        1,
        1,
        1,
        1,
        1,
        1,
        1,
        1,
        1,
        1,
        1,
        1,
        1,
        1,
        1,
        1,
        1,
        1,
        1,
        1,
        1,
        1,
        1,
        1,
        1,
        1,
        1,
        1,
        1,
        1,
        1,
        1,
        1,
        1,
        1,
        1,
        1,
        1,
        1,
        1,
        1,
        1,
        1,
        1,
        1,
        1,
        1,
        1,
        1,
        1,
        1,
        1,
        1,
        1,
        1,
        1,
        1,
        1,
        1,
        1,
        1,
        1,
        1,
        1,
        1,
        1,
        1,
        1,
        1,
        1,
        1,
        1,
        1,
        1,
        1,
        1,
        1,
        1,
        1,
        1,
        1,
        1,
        1,
        1,
        1,
        1,
        1,
        1,
        1,
        1,
        1,
        1,
        1,
        1,
        1,
        1,
        1,
        1,
        1,
        1,
        1,
        1,
        1,
        1,
        1,
        1,
        1,
        1,
        1,
        1,
        1,
        1,
        1,
        1,
        1,
        1,
        1,
        1,
        1,
        1,
        1,
        1,
        1,
        1,
        1,
        1,
        1,
        1,
        1,
        1,
        1,
        1,
        1,
        1,
        1,
        1,
        1,
        1,
        1,
        1,
        1,
        1,
        1,
        1,
        1,
        1,
        1,
        1,
        1,
        1,
        1,
        1,
        1,
        1,
        1,
        1,
        1,
        1,
        1,
        1,
        1,
        1,
        1,
        1,
        1,
        1,
        1,
        1,
        1,
        1,
        1,
        1,
        1,
        1,
        1,
        1,
        1,
        1,
        1,
        1,
        1,
        1,
        1,
        1,
        1,
        1,
        1,
        1,
        1,
        1,
        1,
        1,
        1,
        1,
        1,
        1,
        1,
        1,
        1,
        1,
        1,
        1,
        1,
        1,
        1,
        1,
        1,
        1,
        1,
        1,
        1,
        1,
        1,
        1,
        1,
        1,
        1,
        1,
        1,
        1,
        1,
        1,
        1,
        1,
        1,
        1,
        1,
        1,
        1,
        1,
        1,
        1,
        1,
        1,
        1,
        1,
        1,
        1,
        1,
        1,
        1,
        1,
        1,
        1,
        1,
        1,
        1,
        1,
        1,
        1,
        1,
        1,
        1,
        1,
        1,
        1,
        1,
        1,
        1,
        1,
        1,
        1,
        1,
        1,
        1,
        1,
        1,
        1,
        1,
        1,
        1,
        1,
        1,
        1,
        1,
        1,
        1,
        1,
        1,
        1,
        1,
        1,
        1,
        1,
        1,
        1,
        1,
        1,
        1,
        1,
        1,
        1,
        1,
        1,
        1,
        1,
        1,
        1,
        1,
        1,
        1,
        1,
        1,
        1,
        1,
        1,
        1,
        1,
        1,
        1,
        1,
        1,
        1,
        1,
        1,
        1,
        1,
        1,
        1,
        1,
        1,
        1,
        1,
        1,
        1,
        1,
        1,
        1,
        1,
        1,
        1,
        1,
        1,
        1,
        1,
        1,
        1,
        1,
        1,
        1,
        1,
        1,
        1,
        1,
        1,
        1,
        1,
        1,
        1,
        1,
        1,
        1,
        1,
        1,
        1,
        1,
        1,
        1,
        1,
        1,
        1,
        1,
        1,
        1,
        1,
        1,
        1,
        1,
        1,
        1,
        1,
        1,
        1,
        1,
        1,
        1,
        1,
        1,
        1,
        1,
        1,
        1,
        1,
        1,
        1,
        1,
        1,
        1,
        1,
        1,
        1,
        1,
        1,
        1,
        1,
        1,
        1,
        1,
        1,
        1,
        1,
        1,
        1,
        1,
        1,
        1,
        1,
        1,
        1,
        1,
        1,
        1,
        1,
        1,
        1,
        1,
        1,
        1,
        1,
        1,
        1,
        1,
        1,
        1,
        1,
        1,
        1,
        1,
        1,
        0
       ]
      }
     },
     "metadata": {},
     "output_type": "display_data"
    },
    {
     "data": {
      "application/papermill.record+json": {
       "train_probabilities": [
        0.4863589406013489,
        0.5004788041114807,
        0.48900777101516724,
        0.49599915742874146,
        0.49574923515319824,
        0.49947020411491394,
        0.5178562998771667,
        0.48442456126213074,
        0.4911941885948181,
        0.511981189250946,
        0.49329251050949097,
        0.49341675639152527,
        0.5045785903930664,
        0.4983244836330414,
        0.5080015659332275,
        0.5238322615623474,
        0.49912282824516296,
        0.5061103701591492,
        0.500429093837738,
        0.5073443651199341,
        0.5057640671730042,
        0.5111285448074341,
        0.5235681533813477,
        0.49208056926727295,
        0.49581992626190186,
        0.48955461382865906,
        0.5068771839141846,
        0.49564129114151,
        0.49577659368515015,
        0.4887911379337311,
        0.4932158291339874,
        0.5062299370765686,
        0.49377450346946716,
        0.5236363410949707,
        0.4895554184913635,
        0.5099183320999146,
        0.5008813738822937,
        0.5121811032295227,
        0.4966050684452057,
        0.510255753993988,
        0.500259280204773,
        0.4869115948677063,
        0.49712949991226196,
        0.5235007405281067,
        0.492587685585022,
        0.49434855580329895,
        0.4877874255180359,
        0.4989778697490692,
        0.5066043138504028,
        0.5032658576965332,
        0.5048240423202515,
        0.4866938591003418,
        0.49731534719467163,
        0.5158215165138245,
        0.5200659036636353,
        0.5098424553871155,
        0.48870840668678284,
        0.5003101229667664,
        0.4980398416519165,
        0.5096567273139954,
        0.5193762183189392,
        0.5208989381790161,
        0.4964485168457031,
        0.5045644640922546,
        0.4878195822238922,
        0.4923524856567383,
        0.49593546986579895,
        0.4903155267238617,
        0.5075767636299133,
        0.5042875409126282,
        0.4886455237865448,
        0.5135596990585327,
        0.5075688362121582,
        0.49938395619392395,
        0.4876839220523834,
        0.4982657730579376,
        0.5185274481773376,
        0.5099104642868042,
        0.5065551400184631,
        0.4996988773345947,
        0.4934251010417938,
        0.512385368347168,
        0.48667511343955994,
        0.4957076907157898,
        0.49437597393989563,
        0.5043262243270874,
        0.50641930103302,
        0.4936011731624603,
        0.49358561635017395,
        0.5121660828590393,
        0.5024682879447937,
        0.49379822611808777,
        0.48605242371559143,
        0.4855031371116638,
        0.49757853150367737,
        0.4941001534461975,
        0.5000998377799988,
        0.5063352584838867,
        0.5010533928871155,
        0.5010769367218018,
        0.4865584969520569,
        0.505546510219574,
        0.48840686678886414,
        0.49350789189338684,
        0.4968121647834778,
        0.5194806456565857,
        0.5028862953186035,
        0.49577105045318604,
        0.5211483836174011,
        0.4956125020980835,
        0.4924772083759308,
        0.5130940675735474,
        0.48517531156539917,
        0.49493613839149475,
        0.5228039622306824,
        0.5020058751106262,
        0.4991353154182434,
        0.48803362250328064,
        0.49530017375946045,
        0.49105104804039,
        0.5240152478218079,
        0.523393988609314,
        0.5239736437797546,
        0.49165984988212585,
        0.5195631980895996,
        0.4973824620246887,
        0.5131136178970337,
        0.500775158405304,
        0.5124680399894714,
        0.48813891410827637,
        0.5058774352073669,
        0.495681494474411,
        0.505938708782196,
        0.5128729343414307,
        0.49990662932395935,
        0.5151410698890686,
        0.49736151099205017,
        0.5151558518409729,
        0.49447566270828247,
        0.48732730746269226,
        0.509208619594574,
        0.49781620502471924,
        0.5226684212684631,
        0.5233990550041199,
        0.4982588291168213,
        0.5066301822662354,
        0.5058896541595459,
        0.5017992258071899,
        0.5236230492591858,
        0.5101119875907898,
        0.5222419500350952,
        0.4964536130428314,
        0.5228509306907654,
        0.5012320876121521,
        0.4996526539325714,
        0.48491328954696655,
        0.4969358444213867,
        0.4879927933216095,
        0.5004193782806396,
        0.5081003308296204,
        0.4932352304458618,
        0.5072393417358398,
        0.48526614904403687,
        0.5023482441902161,
        0.5102608799934387,
        0.512737512588501,
        0.506885290145874,
        0.4882924556732178,
        0.5145877003669739,
        0.4898029863834381,
        0.5143445730209351,
        0.5014206767082214,
        0.5097017884254456,
        0.5073021054267883,
        0.492902547121048,
        0.48751550912857056,
        0.4849550127983093,
        0.510834813117981,
        0.48398223519325256,
        0.48586151003837585,
        0.48783954977989197,
        0.4913824498653412,
        0.4966728389263153,
        0.4828367531299591,
        0.503557026386261,
        0.49719682335853577,
        0.4975818395614624,
        0.4924270510673523,
        0.5217947959899902,
        0.49653998017311096,
        0.4915420114994049,
        0.4864625632762909,
        0.5122148990631104,
        0.4879494905471802,
        0.5001099705696106,
        0.4921596646308899,
        0.5071313977241516,
        0.4935484826564789,
        0.508109986782074,
        0.5090788006782532,
        0.5055316686630249,
        0.49008214473724365,
        0.5080403685569763,
        0.49701347947120667,
        0.5234967470169067,
        0.4928344488143921,
        0.49492451548576355,
        0.4848812222480774,
        0.5149668455123901,
        0.4981299936771393,
        0.503620982170105,
        0.5021365284919739,
        0.504841148853302,
        0.4866814911365509,
        0.497006893157959,
        0.5012028813362122,
        0.5216477513313293,
        0.496006578207016,
        0.5056620240211487,
        0.510065495967865,
        0.5006508827209473,
        0.49028152227401733,
        0.4952717423439026,
        0.5238929986953735,
        0.5006089806556702,
        0.504649817943573,
        0.48974937200546265,
        0.5234179496765137,
        0.5190068483352661,
        0.523743212223053,
        0.50875324010849,
        0.5239747166633606,
        0.49224236607551575,
        0.5070590972900391,
        0.5203181505203247,
        0.4829881191253662,
        0.5202463865280151,
        0.5084171891212463,
        0.5175071358680725,
        0.5063341856002808,
        0.4904809594154358,
        0.5085933208465576,
        0.49137482047080994,
        0.4918297827243805,
        0.5035815238952637,
        0.5217594504356384,
        0.5018270611763,
        0.490090936422348,
        0.49954754114151,
        0.5044533014297485,
        0.5259612202644348,
        0.5040026307106018,
        0.49734431505203247,
        0.5200245380401611,
        0.48311376571655273,
        0.5039801001548767,
        0.48802655935287476,
        0.5077930092811584,
        0.4891400635242462,
        0.5023617744445801,
        0.5065452456474304,
        0.4990762174129486,
        0.5234061479568481,
        0.5027811527252197,
        0.4941166043281555,
        0.5005219578742981,
        0.5149345993995667,
        0.5212467312812805,
        0.4934219419956207,
        0.49466416239738464,
        0.52195143699646,
        0.5018017292022705,
        0.49146246910095215,
        0.5101479887962341,
        0.5047268271446228,
        0.5196458101272583,
        0.5058194994926453,
        0.515582799911499,
        0.5140750408172607,
        0.49400681257247925,
        0.4995412230491638,
        0.5232940912246704,
        0.5084690451622009,
        0.5036891102790833,
        0.502738893032074,
        0.48955029249191284,
        0.4966149628162384,
        0.49227577447891235,
        0.48875245451927185,
        0.5085224509239197,
        0.49371659755706787,
        0.4927282929420471,
        0.4953053891658783,
        0.5148402452468872,
        0.5046209096908569,
        0.5043463706970215,
        0.4938252568244934,
        0.506479024887085,
        0.5119962096214294,
        0.520780622959137,
        0.49583005905151367,
        0.4914572238922119,
        0.5123164057731628,
        0.49308428168296814,
        0.49641096591949463,
        0.5235233902931213,
        0.495473712682724,
        0.5236302018165588,
        0.5003133416175842,
        0.5138562917709351,
        0.4919019639492035,
        0.523575484752655,
        0.5234174132347107,
        0.4989745616912842,
        0.5214707851409912,
        0.5012678503990173,
        0.49355167150497437,
        0.5038660168647766,
        0.523202657699585,
        0.5027862787246704,
        0.5118436217308044,
        0.5143532752990723,
        0.5011665225028992,
        0.5002402067184448,
        0.48738333582878113,
        0.49768853187561035,
        0.5006674528121948,
        0.5083010792732239,
        0.49516305327415466,
        0.511159360408783,
        0.5021225810050964,
        0.5093450546264648,
        0.5093249082565308,
        0.49595141410827637,
        0.5021483302116394,
        0.4945012032985687,
        0.513184666633606,
        0.515905499458313,
        0.5170436501502991,
        0.5016294717788696,
        0.48702558875083923,
        0.49050429463386536,
        0.5087340474128723,
        0.5024948120117188,
        0.5050860047340393,
        0.49159544706344604,
        0.5068036913871765,
        0.5041730403900146,
        0.49915948510169983,
        0.503221869468689,
        0.49844756722450256,
        0.48950105905532837,
        0.500543475151062,
        0.4933811128139496,
        0.5030288696289062,
        0.4971601068973541,
        0.5238019227981567,
        0.501666247844696,
        0.5050626993179321,
        0.501335620880127,
        0.5120754837989807,
        0.48930275440216064,
        0.5052577257156372,
        0.5144799947738647,
        0.5017957091331482,
        0.4909953474998474,
        0.5070354342460632,
        0.5059380531311035,
        0.4977293610572815,
        0.4975092113018036,
        0.5027663707733154,
        0.5215140581130981,
        0.5045974254608154,
        0.5099672675132751,
        0.49828866124153137,
        0.5049397349357605,
        0.4955063462257385,
        0.4883376955986023,
        0.5027545690536499,
        0.5067329406738281,
        0.5014528632164001,
        0.4918653070926666,
        0.5203229188919067,
        0.48983293771743774,
        0.4892134368419647,
        0.5035732388496399,
        0.5039494037628174,
        0.49611419439315796,
        0.5012179613113403,
        0.5237162113189697,
        0.5088603496551514,
        0.5235142111778259,
        0.49643662571907043,
        0.4893219470977783,
        0.49875298142433167,
        0.4880584478378296,
        0.49979883432388306,
        0.4990156888961792,
        0.4914989769458771,
        0.5236340761184692,
        0.4987560510635376,
        0.49388834834098816,
        0.49342212080955505,
        0.49462562799453735,
        0.5191033482551575,
        0.4890616536140442,
        0.518976092338562,
        0.4894917905330658,
        0.5233061909675598,
        0.5179386138916016,
        0.49784010648727417,
        0.5103034377098083,
        0.502135157585144,
        0.4885687530040741,
        0.5118809342384338,
        0.5048221349716187,
        0.49379298090934753,
        0.5129189491271973,
        0.501343846321106,
        0.4949827194213867,
        0.5073844194412231,
        0.4924127459526062,
        0.5218960642814636,
        0.49960002303123474,
        0.5098662376403809,
        0.5005099773406982,
        0.48940759897232056,
        0.5109660029411316,
        0.4890870749950409,
        0.4916194677352905,
        0.5001686215400696,
        0.49261993169784546,
        0.5013698935508728,
        0.507876455783844,
        0.4935835301876068,
        0.5197964310646057,
        0.5101751089096069,
        0.4888341426849365,
        0.5226724147796631,
        0.4981987774372101,
        0.5208298563957214,
        0.49249157309532166,
        0.5099418759346008,
        0.5127229690551758,
        0.48684215545654297,
        0.4944661855697632,
        0.5239610075950623,
        0.4987074136734009,
        0.48739123344421387,
        0.49001333117485046,
        0.494753897190094,
        0.5007885694503784,
        0.5026485323905945,
        0.5224413275718689,
        0.5139047503471375,
        0.4930938482284546,
        0.5236812829971313,
        0.5211113691329956,
        0.4928439259529114,
        0.4995538890361786,
        0.5017455816268921,
        0.48847439885139465,
        0.5092359781265259,
        0.49004867672920227,
        0.5038245916366577,
        0.488477498292923,
        0.5234851837158203,
        0.5233075022697449,
        0.5047165155410767,
        0.5029482245445251,
        0.49229058623313904,
        0.5051376819610596,
        0.5133733153343201,
        0.4842185378074646,
        0.4868684709072113,
        0.4966098368167877,
        0.4966380000114441,
        0.5115119814872742,
        0.4927772879600525,
        0.499872088432312,
        0.5020595788955688,
        0.49802446365356445,
        0.5193763375282288,
        0.5087205767631531,
        0.49316835403442383,
        0.49928221106529236,
        0.5008106231689453,
        0.490157812833786,
        0.4847899079322815,
        0.5070664882659912,
        0.498172789812088,
        0.4983621835708618,
        0.5232629776000977,
        0.491085410118103,
        0.49428465962409973,
        0.5043997764587402,
        0.5001258850097656,
        0.4813757836818695,
        0.4877220094203949,
        0.5008462071418762,
        0.4924841523170471,
        0.5237225890159607,
        0.5218846797943115,
        0.5226129293441772,
        0.5233584642410278,
        0.49696797132492065,
        0.5228037238121033,
        0.4873383641242981,
        0.49844327569007874,
        0.4856736361980438,
        0.5189481377601624,
        0.5006469488143921,
        0.4979843497276306,
        0.4926774203777313,
        0.5113966464996338,
        0.5031963586807251,
        0.5010931491851807,
        0.5059376955032349,
        0.49369075894355774,
        0.4967935383319855,
        0.5224702954292297,
        0.5121503472328186,
        0.486586332321167,
        0.4844937324523926,
        0.521746039390564,
        0.4955248534679413,
        0.49838435649871826,
        0.5054192543029785,
        0.5235978364944458,
        0.4962148368358612,
        0.5239130854606628,
        0.490588515996933,
        0.5025335550308228,
        0.48292508721351624,
        0.5048890113830566,
        0.5202564597129822,
        0.5029295086860657,
        0.5152656435966492,
        0.49568766355514526,
        0.5047906041145325,
        0.5005530714988708,
        0.4843187928199768,
        0.5036429166793823,
        0.5044184327125549,
        0.49074989557266235,
        0.5234133005142212,
        0.5195538997650146,
        0.506548285484314,
        0.49921292066574097,
        0.494977742433548,
        0.4960254430770874,
        0.48995348811149597,
        0.5111820101737976,
        0.5215957164764404,
        0.48503822088241577,
        0.4994376003742218,
        0.5182074308395386,
        0.5198728442192078,
        0.4919227957725525,
        0.48371243476867676,
        0.5177903175354004,
        0.4975651204586029,
        0.492022842168808,
        0.4868118464946747,
        0.49100467562675476,
        0.49032872915267944,
        0.5089617371559143,
        0.5223521590232849,
        0.48852017521858215,
        0.4980961084365845,
        0.4950713813304901,
        0.5089700222015381,
        0.520264208316803,
        0.5060522556304932,
        0.4916114807128906,
        0.5234459638595581,
        0.49045974016189575,
        0.4882954955101013,
        0.500101625919342,
        0.497576504945755,
        0.49680840969085693,
        0.5232629776000977,
        0.5232983231544495,
        0.5149434208869934,
        0.4842921793460846,
        0.4909294843673706,
        0.48994606733322144,
        0.5138766765594482,
        0.5078991651535034,
        0.4971811771392822,
        0.5026898384094238,
        0.5082213878631592,
        0.4968697726726532,
        0.5043459534645081,
        0.49975112080574036,
        0.5058104991912842,
        0.5211578607559204,
        0.49104970693588257,
        0.49746134877204895,
        0.4996682405471802,
        0.5121636986732483,
        0.497714102268219,
        0.4915955066680908,
        0.4913203716278076,
        0.4975476861000061,
        0.4954312741756439,
        0.5237131118774414,
        0.5231746435165405,
        0.5004687905311584,
        0.5225817561149597,
        0.5224569439888,
        0.5012520551681519,
        0.5155811905860901,
        0.4989405870437622,
        0.5219424962997437,
        0.5010350346565247,
        0.49798694252967834,
        0.5218002796173096,
        0.4939635992050171,
        0.4925154447555542,
        0.48667794466018677,
        0.5217366218566895,
        0.49591264128685,
        0.48836684226989746,
        0.5185903906822205,
        0.5144900679588318,
        0.49213123321533203,
        0.5049052238464355,
        0.4927082359790802,
        0.5005800724029541,
        0.5008317232131958
       ]
      }
     },
     "metadata": {},
     "output_type": "display_data"
    },
    {
     "data": {
      "application/papermill.record+json": {
       "train_predictions": [
        0,
        1,
        0,
        0,
        0,
        0,
        1,
        0,
        0,
        1,
        0,
        0,
        1,
        0,
        1,
        1,
        0,
        1,
        1,
        1,
        1,
        1,
        1,
        0,
        0,
        0,
        1,
        0,
        0,
        0,
        0,
        1,
        0,
        1,
        0,
        1,
        1,
        1,
        0,
        1,
        1,
        0,
        0,
        1,
        0,
        0,
        0,
        0,
        1,
        1,
        1,
        0,
        0,
        1,
        1,
        1,
        0,
        1,
        0,
        1,
        1,
        1,
        0,
        1,
        0,
        0,
        0,
        0,
        1,
        1,
        0,
        1,
        1,
        0,
        0,
        0,
        1,
        1,
        1,
        0,
        0,
        1,
        0,
        0,
        0,
        1,
        1,
        0,
        0,
        1,
        1,
        0,
        0,
        0,
        0,
        0,
        1,
        1,
        1,
        1,
        0,
        1,
        0,
        0,
        0,
        1,
        1,
        0,
        1,
        0,
        0,
        1,
        0,
        0,
        1,
        1,
        0,
        0,
        0,
        0,
        1,
        1,
        1,
        0,
        1,
        0,
        1,
        1,
        1,
        0,
        1,
        0,
        1,
        1,
        0,
        1,
        0,
        1,
        0,
        0,
        1,
        0,
        1,
        1,
        0,
        1,
        1,
        1,
        1,
        1,
        1,
        0,
        1,
        1,
        0,
        0,
        0,
        0,
        1,
        1,
        0,
        1,
        0,
        1,
        1,
        1,
        1,
        0,
        1,
        0,
        1,
        1,
        1,
        1,
        0,
        0,
        0,
        1,
        0,
        0,
        0,
        0,
        0,
        0,
        1,
        0,
        0,
        0,
        1,
        0,
        0,
        0,
        1,
        0,
        1,
        0,
        1,
        0,
        1,
        1,
        1,
        0,
        1,
        0,
        1,
        0,
        0,
        0,
        1,
        0,
        1,
        1,
        1,
        0,
        0,
        1,
        1,
        0,
        1,
        1,
        1,
        0,
        0,
        1,
        1,
        1,
        0,
        1,
        1,
        1,
        1,
        1,
        0,
        1,
        1,
        0,
        1,
        1,
        1,
        1,
        0,
        1,
        0,
        0,
        1,
        1,
        1,
        0,
        0,
        1,
        1,
        1,
        0,
        1,
        0,
        1,
        0,
        1,
        0,
        1,
        1,
        0,
        1,
        1,
        0,
        1,
        1,
        1,
        0,
        0,
        1,
        1,
        0,
        1,
        1,
        1,
        1,
        1,
        1,
        0,
        0,
        1,
        1,
        1,
        1,
        0,
        0,
        0,
        0,
        1,
        0,
        0,
        0,
        1,
        1,
        1,
        0,
        1,
        1,
        1,
        0,
        0,
        1,
        0,
        0,
        1,
        0,
        1,
        1,
        1,
        0,
        1,
        1,
        0,
        1,
        1,
        0,
        1,
        1,
        1,
        1,
        1,
        1,
        1,
        0,
        0,
        1,
        1,
        0,
        1,
        1,
        1,
        1,
        0,
        1,
        0,
        1,
        1,
        1,
        1,
        0,
        0,
        1,
        1,
        1,
        0,
        1,
        1,
        0,
        1,
        0,
        0,
        1,
        0,
        1,
        0,
        1,
        1,
        1,
        1,
        1,
        0,
        1,
        1,
        1,
        0,
        1,
        1,
        0,
        0,
        1,
        1,
        1,
        1,
        0,
        1,
        0,
        0,
        1,
        1,
        1,
        0,
        1,
        0,
        0,
        1,
        1,
        0,
        1,
        1,
        1,
        1,
        0,
        0,
        0,
        0,
        0,
        0,
        0,
        1,
        0,
        0,
        0,
        0,
        1,
        0,
        1,
        0,
        1,
        1,
        0,
        1,
        1,
        0,
        1,
        1,
        0,
        1,
        1,
        0,
        1,
        0,
        1,
        0,
        1,
        1,
        0,
        1,
        0,
        0,
        1,
        0,
        1,
        1,
        0,
        1,
        1,
        0,
        1,
        0,
        1,
        0,
        1,
        1,
        0,
        0,
        1,
        0,
        0,
        0,
        0,
        1,
        1,
        1,
        1,
        0,
        1,
        1,
        0,
        0,
        1,
        0,
        1,
        0,
        1,
        0,
        1,
        1,
        1,
        1,
        0,
        1,
        1,
        0,
        0,
        0,
        0,
        1,
        0,
        0,
        1,
        0,
        1,
        1,
        0,
        0,
        1,
        0,
        0,
        1,
        0,
        0,
        1,
        0,
        0,
        1,
        1,
        0,
        0,
        1,
        0,
        1,
        1,
        1,
        1,
        0,
        1,
        0,
        0,
        0,
        1,
        1,
        0,
        0,
        1,
        1,
        1,
        1,
        0,
        0,
        1,
        1,
        0,
        0,
        1,
        0,
        0,
        1,
        1,
        0,
        1,
        0,
        1,
        0,
        1,
        1,
        1,
        1,
        0,
        1,
        1,
        0,
        1,
        1,
        0,
        1,
        1,
        1,
        0,
        0,
        0,
        0,
        1,
        1,
        0,
        0,
        1,
        1,
        0,
        0,
        1,
        0,
        0,
        0,
        0,
        0,
        1,
        1,
        0,
        0,
        0,
        1,
        1,
        1,
        0,
        1,
        0,
        0,
        1,
        0,
        0,
        1,
        1,
        1,
        0,
        0,
        0,
        1,
        1,
        0,
        1,
        1,
        0,
        1,
        0,
        1,
        1,
        0,
        0,
        0,
        1,
        0,
        0,
        0,
        0,
        0,
        1,
        1,
        1,
        1,
        1,
        1,
        1,
        0,
        1,
        1,
        0,
        1,
        0,
        0,
        0,
        1,
        0,
        0,
        1,
        1,
        0,
        1,
        0,
        1,
        1
       ]
      }
     },
     "metadata": {},
     "output_type": "display_data"
    }
   ],
   "source": [
    "probabilities = transform_binary_probabilities(results)\n",
    "predictions = transform_binary_predictions(results)\n",
    "labels = get_labels(train)\n",
    "pm.record(\"train_labels\", list(labels))\n",
    "pm.record(\"train_probabilities\", list(probabilities))\n",
    "pm.record(\"train_predictions\", list(predictions))"
   ]
  },
  {
   "cell_type": "markdown",
   "metadata": {
    "papermill": {
     "duration": 2.6e-05,
     "end_time": "2020-04-28T18:16:12.954339",
     "exception": false,
     "start_time": "2020-04-28T18:16:12.954313",
     "status": "completed"
    },
    "tags": []
   },
   "source": [
    "## Train statistics"
   ]
  },
  {
   "cell_type": "code",
   "execution_count": 18,
   "metadata": {
    "papermill": {
     "duration": 35.685472,
     "end_time": "2020-04-28T18:16:49.568889",
     "exception": false,
     "start_time": "2020-04-28T18:16:13.883417",
     "status": "completed"
    },
    "tags": []
   },
   "outputs": [
    {
     "name": "stdout",
     "output_type": "stream",
     "text": [
      "Accuracy: 0.5309033393859863\n",
      "Loss: 23.286184310913086\n"
     ]
    },
    {
     "data": {
      "text/html": [
       "<div>\n",
       "<style scoped>\n",
       "    .dataframe tbody tr th:only-of-type {\n",
       "        vertical-align: middle;\n",
       "    }\n",
       "\n",
       "    .dataframe tbody tr th {\n",
       "        vertical-align: top;\n",
       "    }\n",
       "\n",
       "    .dataframe thead th {\n",
       "        text-align: right;\n",
       "    }\n",
       "</style>\n",
       "<table border=\"1\" class=\"dataframe\">\n",
       "  <thead>\n",
       "    <tr style=\"text-align: right;\">\n",
       "      <th></th>\n",
       "      <th>Acc</th>\n",
       "      <th>TP</th>\n",
       "      <th>TN</th>\n",
       "      <th>FP</th>\n",
       "      <th>FN</th>\n",
       "      <th>TPR</th>\n",
       "      <th>TNR</th>\n",
       "      <th>PPV</th>\n",
       "      <th>NPV</th>\n",
       "      <th>FPR</th>\n",
       "      <th>FNR</th>\n",
       "      <th>FDR</th>\n",
       "      <th>AM</th>\n",
       "      <th>GM</th>\n",
       "    </tr>\n",
       "  </thead>\n",
       "  <tbody>\n",
       "    <tr>\n",
       "      <th>0.000</th>\n",
       "      <td>0.531</td>\n",
       "      <td>87</td>\n",
       "      <td>248</td>\n",
       "      <td>205</td>\n",
       "      <td>91</td>\n",
       "      <td>0.489</td>\n",
       "      <td>0.547</td>\n",
       "      <td>0.298</td>\n",
       "      <td>0.732</td>\n",
       "      <td>0.453</td>\n",
       "      <td>0.511</td>\n",
       "      <td>0.702</td>\n",
       "      <td>0.518</td>\n",
       "      <td>0.517</td>\n",
       "    </tr>\n",
       "    <tr>\n",
       "      <th>1.000</th>\n",
       "      <td>0.531</td>\n",
       "      <td>248</td>\n",
       "      <td>87</td>\n",
       "      <td>91</td>\n",
       "      <td>205</td>\n",
       "      <td>0.547</td>\n",
       "      <td>0.489</td>\n",
       "      <td>0.732</td>\n",
       "      <td>0.298</td>\n",
       "      <td>0.511</td>\n",
       "      <td>0.453</td>\n",
       "      <td>0.268</td>\n",
       "      <td>0.518</td>\n",
       "      <td>0.517</td>\n",
       "    </tr>\n",
       "  </tbody>\n",
       "</table>\n",
       "</div>"
      ],
      "text/plain": [
       "        Acc   TP   TN   FP   FN   TPR   TNR   PPV   NPV   FPR   FNR   FDR  \\\n",
       "0.000 0.531   87  248  205   91 0.489 0.547 0.298 0.732 0.453 0.511 0.702   \n",
       "1.000 0.531  248   87   91  205 0.547 0.489 0.732 0.298 0.511 0.453 0.268   \n",
       "\n",
       "         AM    GM  \n",
       "0.000 0.518 0.517  \n",
       "1.000 0.518 0.517  "
      ]
     },
     "execution_count": 18,
     "metadata": {},
     "output_type": "execute_result"
    }
   ],
   "source": [
    "loss, accuracy = calculate_accuracy_loss(model, train)\n",
    "print(\"Accuracy:\", accuracy)\n",
    "print(\"Loss:\", loss)\n",
    "stats = calculate_confusion_matrix_stats(labels, results)\n",
    "pandas.DataFrame(stats, index=train.class_indices)"
   ]
  },
  {
   "cell_type": "markdown",
   "metadata": {
    "papermill": {
     "duration": 2.9e-05,
     "end_time": "2020-04-28T18:16:49.570045",
     "exception": false,
     "start_time": "2020-04-28T18:16:49.570016",
     "status": "completed"
    },
    "tags": []
   },
   "source": [
    "## Train confusion matrix"
   ]
  },
  {
   "cell_type": "code",
   "execution_count": 19,
   "metadata": {
    "papermill": {
     "duration": 0.821886,
     "end_time": "2020-04-28T18:16:51.304216",
     "exception": false,
     "start_time": "2020-04-28T18:16:50.482330",
     "status": "completed"
    },
    "tags": []
   },
   "outputs": [
    {
     "data": {
      "image/png": "[encoded data removed]",
      "text/plain": [
       "<Figure size 432x288 with 2 Axes>"
      ]
     },
     "metadata": {},
     "output_type": "display_data"
    }
   ],
   "source": [
    "fig = plot_confusion_matrix(train, results)\n",
    "fig.savefig(\"figures/{}-{}-train-confusion-matrix.svg\".format(result.uuid, result.input_form), bbox_inches = \"tight\")"
   ]
  },
  {
   "cell_type": "markdown",
   "metadata": {
    "papermill": {
     "duration": 1.7e-05,
     "end_time": "2020-04-28T18:16:51.305472",
     "exception": false,
     "start_time": "2020-04-28T18:16:51.305455",
     "status": "completed"
    },
    "tags": []
   },
   "source": [
    "## Train ROC curve"
   ]
  },
  {
   "cell_type": "code",
   "execution_count": 20,
   "metadata": {
    "papermill": {
     "duration": 1.18902,
     "end_time": "2020-04-28T18:16:53.506387",
     "exception": false,
     "start_time": "2020-04-28T18:16:52.317367",
     "status": "completed"
    },
    "scrolled": false,
    "tags": []
   },
   "outputs": [
    {
     "data": {
      "image/png": "[encoded data removed]",
      "text/plain": [
       "<Figure size 432x288 with 1 Axes>"
      ]
     },
     "metadata": {},
     "output_type": "display_data"
    }
   ],
   "source": [
    "fig = plot_roc_curve(labels, probabilities)\n",
    "fig.savefig(\"figures/{}-{}-train-ROC-curve.svg\".format(result.uuid, result.input_form), bbox_inches = \"tight\")"
   ]
  },
  {
   "cell_type": "markdown",
   "metadata": {
    "papermill": {
     "duration": 3.3e-05,
     "end_time": "2020-04-28T18:16:53.507282",
     "exception": false,
     "start_time": "2020-04-28T18:16:53.507249",
     "status": "completed"
    },
    "tags": []
   },
   "source": [
    "## Train precision-recall curve"
   ]
  },
  {
   "cell_type": "code",
   "execution_count": 21,
   "metadata": {
    "papermill": {
     "duration": 1.644858,
     "end_time": "2020-04-28T18:16:55.948663",
     "exception": false,
     "start_time": "2020-04-28T18:16:54.303805",
     "status": "completed"
    },
    "scrolled": false,
    "tags": []
   },
   "outputs": [
    {
     "data": {
      "image/png": "[encoded data removed]",
      "text/plain": [
       "<Figure size 432x288 with 1 Axes>"
      ]
     },
     "metadata": {},
     "output_type": "display_data"
    }
   ],
   "source": [
    "fig = plot_precision_recall(labels, results)\n",
    "fig.savefig(\"figures/{}-{}-train-precisionrecall-curve.svg\".format(result.uuid, result.input_form), bbox_inches = \"tight\")"
   ]
  },
  {
   "cell_type": "markdown",
   "metadata": {
    "papermill": {
     "duration": 1.7e-05,
     "end_time": "2020-04-28T18:16:55.949694",
     "exception": false,
     "start_time": "2020-04-28T18:16:55.949677",
     "status": "completed"
    },
    "tags": []
   },
   "source": [
    "# Validation"
   ]
  },
  {
   "cell_type": "code",
   "execution_count": 22,
   "metadata": {
    "collapsed": true,
    "papermill": {
     "duration": 8.526571,
     "end_time": "2020-04-28T18:17:05.262764",
     "exception": false,
     "start_time": "2020-04-28T18:16:56.736193",
     "status": "completed"
    },
    "tags": []
   },
   "outputs": [],
   "source": [
    "results = get_results(model, validation)"
   ]
  },
  {
   "cell_type": "code",
   "execution_count": 23,
   "metadata": {
    "papermill": {
     "duration": 0.223998,
     "end_time": "2020-04-28T18:17:05.490318",
     "exception": false,
     "start_time": "2020-04-28T18:17:05.266320",
     "status": "completed"
    },
    "scrolled": false,
    "tags": []
   },
   "outputs": [
    {
     "data": {
      "application/papermill.record+json": {
       "validation_labels": [
        0,
        0,
        0,
        0,
        0,
        0,
        0,
        0,
        0,
        0,
        0,
        0,
        0,
        0,
        0,
        0,
        0,
        0,
        0,
        0,
        0,
        0,
        0,
        0,
        0,
        0,
        0,
        0,
        0,
        0,
        0,
        0,
        0,
        0,
        0,
        0,
        0,
        0,
        0,
        0,
        0,
        0,
        0,
        0,
        0,
        0,
        0,
        0,
        0,
        0,
        0,
        1,
        1,
        1,
        1,
        1,
        1,
        1,
        1,
        1,
        1,
        1,
        1,
        1,
        1,
        1,
        1,
        1,
        1,
        1,
        1,
        1,
        1,
        1,
        1,
        1,
        1,
        1,
        1,
        1,
        1,
        1,
        1,
        1,
        1,
        1,
        1,
        1,
        1,
        1,
        1,
        1,
        1,
        1,
        1,
        1,
        1,
        1,
        1,
        1,
        1,
        1,
        1,
        1,
        1,
        1,
        1,
        1,
        1,
        1,
        1,
        1,
        1,
        1,
        1,
        1,
        1,
        1,
        1,
        1,
        1,
        1,
        1,
        1,
        1,
        1,
        1,
        1,
        1,
        1,
        1,
        1,
        1,
        1,
        1,
        1,
        1,
        1,
        1,
        1,
        1,
        1,
        1,
        1,
        1,
        1,
        1,
        1,
        1,
        1,
        1,
        1,
        1,
        1,
        1,
        1,
        1,
        1,
        1,
        1,
        1,
        1,
        1,
        1,
        1,
        1,
        1,
        1,
        1,
        1,
        1,
        1,
        1,
        1,
        1,
        1,
        1,
        1,
        1,
        1,
        1,
        1,
        1,
        1,
        1,
        1,
        1,
        1,
        1,
        1,
        1
       ]
      }
     },
     "metadata": {},
     "output_type": "display_data"
    },
    {
     "data": {
      "application/papermill.record+json": {
       "validation_probabilities": [
        0.5018269419670105,
        0.48827770352363586,
        0.5016958117485046,
        0.5005272030830383,
        0.487248957157135,
        0.5124158263206482,
        0.5014001131057739,
        0.5237048268318176,
        0.48785606026649475,
        0.504033088684082,
        0.5065345764160156,
        0.48435911536216736,
        0.5075299143791199,
        0.5108261704444885,
        0.5135205984115601,
        0.5051842927932739,
        0.5045770406723022,
        0.49847736954689026,
        0.4933033883571625,
        0.5006311535835266,
        0.5107347965240479,
        0.49284833669662476,
        0.4955926835536957,
        0.5235715508460999,
        0.48691076040267944,
        0.5062179565429688,
        0.5077337622642517,
        0.4883018732070923,
        0.5084540247917175,
        0.49918925762176514,
        0.5058391690254211,
        0.49987271428108215,
        0.4981832504272461,
        0.4891371726989746,
        0.5001798868179321,
        0.5091344118118286,
        0.48858124017715454,
        0.4926908314228058,
        0.5037059783935547,
        0.5231539011001587,
        0.4874248206615448,
        0.48889490962028503,
        0.4964663088321686,
        0.4942699074745178,
        0.4864655137062073,
        0.5100015997886658,
        0.48673391342163086,
        0.5140960216522217,
        0.5106682777404785,
        0.5234581828117371,
        0.5006123185157776,
        0.5048887133598328,
        0.4892021417617798,
        0.499394029378891,
        0.5236072540283203,
        0.4949353039264679,
        0.5025925040245056,
        0.5232793092727661,
        0.49665194749832153,
        0.5239418148994446,
        0.5078171491622925,
        0.4846055805683136,
        0.5167374610900879,
        0.5192318558692932,
        0.4992779493331909,
        0.4866427183151245,
        0.5237354636192322,
        0.5219135880470276,
        0.501244068145752,
        0.4962984025478363,
        0.4973291754722595,
        0.5011181235313416,
        0.4888376295566559,
        0.5182032585144043,
        0.5065056681632996,
        0.5148029923439026,
        0.5206413269042969,
        0.5165748000144958,
        0.5065059065818787,
        0.5037406086921692,
        0.48985210061073303,
        0.5065091848373413,
        0.48983386158943176,
        0.5092734098434448,
        0.4928740859031677,
        0.5027164816856384,
        0.5011004209518433,
        0.49287596344947815,
        0.493565171957016,
        0.4984202980995178,
        0.5227179527282715,
        0.4876260459423065,
        0.5040727853775024,
        0.5212323665618896,
        0.4929271340370178,
        0.489541232585907,
        0.523870050907135,
        0.4987594187259674,
        0.487547904253006,
        0.523319661617279,
        0.5007945895195007,
        0.5237147808074951,
        0.5055451393127441,
        0.5098190307617188,
        0.48652657866477966,
        0.5012784600257874,
        0.5195436477661133,
        0.4974214732646942,
        0.48958784341812134,
        0.4924955368041992,
        0.5106250047683716,
        0.4972674548625946,
        0.49693796038627625,
        0.5194865465164185,
        0.4962690472602844,
        0.5004680752754211,
        0.500791072845459,
        0.523463785648346,
        0.49993669986724854,
        0.5045863389968872,
        0.49125561118125916,
        0.5004984140396118,
        0.4881088435649872,
        0.5226925015449524,
        0.523849606513977,
        0.5085544586181641,
        0.5036334991455078,
        0.5081698894500732,
        0.48753058910369873,
        0.514737606048584,
        0.506676197052002,
        0.5046781301498413,
        0.4882478415966034,
        0.48617109656333923,
        0.5061972141265869,
        0.4888666272163391,
        0.5028880834579468,
        0.5242673754692078,
        0.49706870317459106,
        0.5084528923034668,
        0.4975767135620117,
        0.5115775465965271,
        0.49266037344932556,
        0.487894743680954,
        0.5236659646034241,
        0.5075104832649231,
        0.4928864538669586,
        0.5171957015991211,
        0.50126051902771,
        0.5007395148277283,
        0.5022879838943481,
        0.49206307530403137,
        0.49545931816101074,
        0.50257807970047,
        0.49859243631362915,
        0.48720479011535645,
        0.4871304929256439,
        0.5042784810066223,
        0.49290624260902405,
        0.48734423518180847,
        0.490480899810791,
        0.4970341622829437,
        0.5145432949066162,
        0.4876009225845337,
        0.5030971169471741,
        0.5014408826828003,
        0.49476855993270874,
        0.5170472264289856,
        0.4907161295413971,
        0.5058517456054688,
        0.5059557557106018,
        0.496040403842926,
        0.49612659215927124,
        0.49131330847740173,
        0.5009630918502808,
        0.5238233208656311,
        0.49130958318710327,
        0.5231242775917053,
        0.49885761737823486,
        0.4875378906726837,
        0.5060269832611084,
        0.50582355260849,
        0.5033509731292725,
        0.4893714189529419,
        0.5101540088653564,
        0.49519452452659607,
        0.5081979632377625,
        0.4941984713077545,
        0.50382000207901,
        0.5227214097976685,
        0.4984883666038513
       ]
      }
     },
     "metadata": {},
     "output_type": "display_data"
    },
    {
     "data": {
      "application/papermill.record+json": {
       "validation_predictions": [
        1,
        0,
        1,
        1,
        0,
        1,
        1,
        1,
        0,
        1,
        1,
        0,
        1,
        1,
        1,
        1,
        1,
        0,
        0,
        1,
        1,
        0,
        0,
        1,
        0,
        1,
        1,
        0,
        1,
        0,
        1,
        0,
        0,
        0,
        1,
        1,
        0,
        0,
        1,
        1,
        0,
        0,
        0,
        0,
        0,
        1,
        0,
        1,
        1,
        1,
        1,
        1,
        0,
        0,
        1,
        0,
        1,
        1,
        0,
        1,
        1,
        0,
        1,
        1,
        0,
        0,
        1,
        1,
        1,
        0,
        0,
        1,
        0,
        1,
        1,
        1,
        1,
        1,
        1,
        1,
        0,
        1,
        0,
        1,
        0,
        1,
        1,
        0,
        0,
        0,
        1,
        0,
        1,
        1,
        0,
        0,
        1,
        0,
        0,
        1,
        1,
        1,
        1,
        1,
        0,
        1,
        1,
        0,
        0,
        0,
        1,
        0,
        0,
        1,
        0,
        1,
        1,
        1,
        0,
        1,
        0,
        1,
        0,
        1,
        1,
        1,
        1,
        1,
        0,
        1,
        1,
        1,
        0,
        0,
        1,
        0,
        1,
        1,
        0,
        1,
        0,
        1,
        0,
        0,
        1,
        1,
        0,
        1,
        1,
        1,
        1,
        0,
        0,
        1,
        0,
        0,
        0,
        1,
        0,
        0,
        0,
        0,
        1,
        0,
        1,
        1,
        0,
        1,
        0,
        1,
        1,
        0,
        0,
        0,
        1,
        1,
        0,
        1,
        0,
        0,
        1,
        1,
        1,
        0,
        1,
        0,
        1,
        0,
        1,
        1,
        0
       ]
      }
     },
     "metadata": {},
     "output_type": "display_data"
    }
   ],
   "source": [
    "probabilities = transform_binary_probabilities(results)\n",
    "predictions = transform_binary_predictions(results)\n",
    "labels = get_labels(validation)\n",
    "pm.record(\"validation_labels\", list(labels))\n",
    "pm.record(\"validation_probabilities\", list(probabilities))\n",
    "pm.record(\"validation_predictions\", list(predictions))"
   ]
  },
  {
   "cell_type": "markdown",
   "metadata": {
    "papermill": {
     "duration": 0.000143,
     "end_time": "2020-04-28T18:17:06.330303",
     "exception": false,
     "start_time": "2020-04-28T18:17:06.330160",
     "status": "completed"
    },
    "tags": []
   },
   "source": [
    "## Validation statistics"
   ]
  },
  {
   "cell_type": "code",
   "execution_count": 24,
   "metadata": {
    "papermill": {
     "duration": 8.947627,
     "end_time": "2020-04-28T18:17:16.154643",
     "exception": false,
     "start_time": "2020-04-28T18:17:07.207016",
     "status": "completed"
    },
    "tags": []
   },
   "outputs": [
    {
     "name": "stdout",
     "output_type": "stream",
     "text": [
      "Accuracy: 0.5235602259635925\n",
      "Loss: 23.287572860717773\n"
     ]
    },
    {
     "data": {
      "text/html": [
       "<div>\n",
       "<style scoped>\n",
       "    .dataframe tbody tr th:only-of-type {\n",
       "        vertical-align: middle;\n",
       "    }\n",
       "\n",
       "    .dataframe tbody tr th {\n",
       "        vertical-align: top;\n",
       "    }\n",
       "\n",
       "    .dataframe thead th {\n",
       "        text-align: right;\n",
       "    }\n",
       "</style>\n",
       "<table border=\"1\" class=\"dataframe\">\n",
       "  <thead>\n",
       "    <tr style=\"text-align: right;\">\n",
       "      <th></th>\n",
       "      <th>Acc</th>\n",
       "      <th>TP</th>\n",
       "      <th>TN</th>\n",
       "      <th>FP</th>\n",
       "      <th>FN</th>\n",
       "      <th>TPR</th>\n",
       "      <th>TNR</th>\n",
       "      <th>PPV</th>\n",
       "      <th>NPV</th>\n",
       "      <th>FPR</th>\n",
       "      <th>FNR</th>\n",
       "      <th>FDR</th>\n",
       "      <th>AM</th>\n",
       "      <th>GM</th>\n",
       "    </tr>\n",
       "  </thead>\n",
       "  <tbody>\n",
       "    <tr>\n",
       "      <th>0.000</th>\n",
       "      <td>0.524</td>\n",
       "      <td>22</td>\n",
       "      <td>78</td>\n",
       "      <td>62</td>\n",
       "      <td>29</td>\n",
       "      <td>0.431</td>\n",
       "      <td>0.557</td>\n",
       "      <td>0.262</td>\n",
       "      <td>0.729</td>\n",
       "      <td>0.443</td>\n",
       "      <td>0.569</td>\n",
       "      <td>0.738</td>\n",
       "      <td>0.494</td>\n",
       "      <td>0.490</td>\n",
       "    </tr>\n",
       "    <tr>\n",
       "      <th>1.000</th>\n",
       "      <td>0.524</td>\n",
       "      <td>78</td>\n",
       "      <td>22</td>\n",
       "      <td>29</td>\n",
       "      <td>62</td>\n",
       "      <td>0.557</td>\n",
       "      <td>0.431</td>\n",
       "      <td>0.729</td>\n",
       "      <td>0.262</td>\n",
       "      <td>0.569</td>\n",
       "      <td>0.443</td>\n",
       "      <td>0.271</td>\n",
       "      <td>0.494</td>\n",
       "      <td>0.490</td>\n",
       "    </tr>\n",
       "  </tbody>\n",
       "</table>\n",
       "</div>"
      ],
      "text/plain": [
       "        Acc  TP  TN  FP  FN   TPR   TNR   PPV   NPV   FPR   FNR   FDR    AM  \\\n",
       "0.000 0.524  22  78  62  29 0.431 0.557 0.262 0.729 0.443 0.569 0.738 0.494   \n",
       "1.000 0.524  78  22  29  62 0.557 0.431 0.729 0.262 0.569 0.443 0.271 0.494   \n",
       "\n",
       "         GM  \n",
       "0.000 0.490  \n",
       "1.000 0.490  "
      ]
     },
     "execution_count": 24,
     "metadata": {},
     "output_type": "execute_result"
    }
   ],
   "source": [
    "loss, accuracy = calculate_accuracy_loss(model, validation)\n",
    "print(\"Accuracy:\", accuracy)\n",
    "print(\"Loss:\", loss)\n",
    "stats = calculate_confusion_matrix_stats(labels, results)\n",
    "pandas.DataFrame(stats, index=validation.class_indices)"
   ]
  },
  {
   "cell_type": "markdown",
   "metadata": {
    "papermill": {
     "duration": 2e-05,
     "end_time": "2020-04-28T18:17:16.157404",
     "exception": false,
     "start_time": "2020-04-28T18:17:16.157384",
     "status": "completed"
    },
    "tags": []
   },
   "source": [
    "## Validation confusion matrix"
   ]
  },
  {
   "cell_type": "code",
   "execution_count": 25,
   "metadata": {
    "papermill": {
     "duration": 0.830984,
     "end_time": "2020-04-28T18:17:17.807171",
     "exception": false,
     "start_time": "2020-04-28T18:17:16.976187",
     "status": "completed"
    },
    "tags": []
   },
   "outputs": [
    {
     "data": {
      "image/png": "[encoded data removed]",
      "text/plain": [
       "<Figure size 432x288 with 2 Axes>"
      ]
     },
     "metadata": {},
     "output_type": "display_data"
    }
   ],
   "source": [
    "fig = plot_confusion_matrix(validation, results)\n",
    "fig.savefig(\"figures/{}-{}-validation-confusion-matrix.svg\".format(result.uuid, result.input_form), bbox_inches = \"tight\")"
   ]
  },
  {
   "cell_type": "markdown",
   "metadata": {
    "papermill": {
     "duration": 3e-05,
     "end_time": "2020-04-28T18:17:17.919753",
     "exception": false,
     "start_time": "2020-04-28T18:17:17.919723",
     "status": "completed"
    },
    "tags": []
   },
   "source": [
    "## Validation ROC curve"
   ]
  },
  {
   "cell_type": "code",
   "execution_count": 26,
   "metadata": {
    "papermill": {
     "duration": 1.037198,
     "end_time": "2020-04-28T18:17:19.871614",
     "exception": false,
     "start_time": "2020-04-28T18:17:18.834416",
     "status": "completed"
    },
    "scrolled": true,
    "tags": []
   },
   "outputs": [
    {
     "data": {
      "image/png": "[encoded data removed]",
      "text/plain": [
       "<Figure size 432x288 with 1 Axes>"
      ]
     },
     "metadata": {},
     "output_type": "display_data"
    }
   ],
   "source": [
    "fig = plot_roc_curve(labels, probabilities)\n",
    "fig.savefig(\"figures/{}-{}-validation-ROC-curve.svg\".format(result.uuid, result.input_form), bbox_inches = \"tight\")"
   ]
  },
  {
   "cell_type": "markdown",
   "metadata": {
    "papermill": {
     "duration": 1.9e-05,
     "end_time": "2020-04-28T18:17:19.872552",
     "exception": false,
     "start_time": "2020-04-28T18:17:19.872533",
     "status": "completed"
    },
    "tags": []
   },
   "source": [
    "## Validation precision-recall curve"
   ]
  },
  {
   "cell_type": "code",
   "execution_count": 27,
   "metadata": {
    "papermill": {
     "duration": 1.138682,
     "end_time": "2020-04-28T18:17:22.070446",
     "exception": false,
     "start_time": "2020-04-28T18:17:20.931764",
     "status": "completed"
    },
    "tags": []
   },
   "outputs": [
    {
     "data": {
      "image/png": "[encoded data removed]",
      "text/plain": [
       "<Figure size 432x288 with 1 Axes>"
      ]
     },
     "metadata": {},
     "output_type": "display_data"
    }
   ],
   "source": [
    "fig = plot_precision_recall(labels, results)\n",
    "fig.savefig(\"figures/{}-{}-validation-precisionrecall-curve.svg\".format(result.uuid, result.input_form), bbox_inches = \"tight\")"
   ]
  },
  {
   "cell_type": "markdown",
   "metadata": {
    "papermill": {
     "duration": 2.3e-05,
     "end_time": "2020-04-28T18:17:22.071484",
     "exception": false,
     "start_time": "2020-04-28T18:17:22.071461",
     "status": "completed"
    },
    "tags": []
   },
   "source": [
    "# Test"
   ]
  },
  {
   "cell_type": "code",
   "execution_count": 28,
   "metadata": {
    "collapsed": true,
    "papermill": {
     "duration": 4.415081,
     "end_time": "2020-04-28T18:17:27.462177",
     "exception": false,
     "start_time": "2020-04-28T18:17:23.047096",
     "status": "completed"
    },
    "tags": []
   },
   "outputs": [],
   "source": [
    "results = get_results(model, test)"
   ]
  },
  {
   "cell_type": "code",
   "execution_count": 29,
   "metadata": {
    "papermill": {
     "duration": 0.13746,
     "end_time": "2020-04-28T18:17:27.601879",
     "exception": false,
     "start_time": "2020-04-28T18:17:27.464419",
     "status": "completed"
    },
    "scrolled": false,
    "tags": []
   },
   "outputs": [
    {
     "data": {
      "application/papermill.record+json": {
       "test_labels": [
        0,
        0,
        0,
        0,
        0,
        0,
        0,
        0,
        0,
        0,
        0,
        0,
        0,
        0,
        0,
        0,
        0,
        0,
        0,
        0,
        0,
        0,
        0,
        0,
        0,
        0,
        1,
        1,
        1,
        1,
        1,
        1,
        1,
        1,
        1,
        1,
        1,
        1,
        1,
        1,
        1,
        1,
        1,
        1,
        1,
        1,
        1,
        1,
        1,
        1,
        1,
        1,
        1,
        1,
        1,
        1,
        1,
        1,
        1,
        1,
        1,
        1,
        1,
        1,
        1,
        1,
        1,
        1,
        1,
        1,
        1,
        1,
        1,
        1,
        1,
        1,
        1,
        1,
        1,
        1,
        1,
        1,
        1,
        1,
        1,
        1,
        1,
        1,
        1,
        1,
        1,
        1,
        1,
        1,
        1,
        1,
        1,
        1,
        1
       ]
      }
     },
     "metadata": {},
     "output_type": "display_data"
    },
    {
     "data": {
      "application/papermill.record+json": {
       "test_probabilities": [
        0.4935954213142395,
        0.5239273309707642,
        0.4941190183162689,
        0.5031405091285706,
        0.49883580207824707,
        0.5150509476661682,
        0.4960322678089142,
        0.491448312997818,
        0.5156534314155579,
        0.49498283863067627,
        0.5113687515258789,
        0.5083593130111694,
        0.5230675935745239,
        0.5198041200637817,
        0.49920591711997986,
        0.49819785356521606,
        0.5235334634780884,
        0.49544939398765564,
        0.5233842134475708,
        0.4867231547832489,
        0.5235100388526917,
        0.5036272406578064,
        0.5203509330749512,
        0.4882301986217499,
        0.5233694314956665,
        0.5127930045127869,
        0.49369561672210693,
        0.5187287330627441,
        0.4862287640571594,
        0.5136651992797852,
        0.5008155107498169,
        0.5093584656715393,
        0.509601354598999,
        0.49481284618377686,
        0.5032905340194702,
        0.5238591432571411,
        0.48970699310302734,
        0.497602641582489,
        0.5220829248428345,
        0.4860876202583313,
        0.4892464876174927,
        0.4949750304222107,
        0.48863720893859863,
        0.49641528725624084,
        0.523874819278717,
        0.48918840289115906,
        0.4966381788253784,
        0.5013737678527832,
        0.48469510674476624,
        0.5131287574768066,
        0.5012652277946472,
        0.5125105381011963,
        0.5241736769676208,
        0.487710177898407,
        0.4881938695907593,
        0.5019768476486206,
        0.48818397521972656,
        0.5008813738822937,
        0.5068089365959167,
        0.49499329924583435,
        0.5110709071159363,
        0.496482253074646,
        0.48742741346359253,
        0.4982093572616577,
        0.49660801887512207,
        0.501349687576294,
        0.5000470876693726,
        0.5057276487350464,
        0.5079958438873291,
        0.5136117339134216,
        0.48366186022758484,
        0.5234922170639038,
        0.5059287548065186,
        0.5063757300376892,
        0.523940920829773,
        0.48960861563682556,
        0.505532443523407,
        0.5234956741333008,
        0.48793357610702515,
        0.5173481702804565,
        0.49359193444252014,
        0.5084899067878723,
        0.5235744714736938,
        0.522459864616394,
        0.4850994646549225,
        0.5100359320640564,
        0.49633777141571045,
        0.4893234372138977,
        0.500407874584198,
        0.5071471929550171,
        0.4937787652015686,
        0.5002060532569885,
        0.5002081990242004,
        0.5128465890884399,
        0.5149233341217041,
        0.49578094482421875,
        0.508124828338623,
        0.488743394613266,
        0.5039469003677368
       ]
      }
     },
     "metadata": {},
     "output_type": "display_data"
    },
    {
     "data": {
      "application/papermill.record+json": {
       "test_predictions": [
        0,
        1,
        0,
        1,
        0,
        1,
        0,
        0,
        1,
        0,
        1,
        1,
        1,
        1,
        0,
        0,
        1,
        0,
        1,
        0,
        1,
        1,
        1,
        0,
        1,
        1,
        0,
        1,
        0,
        1,
        1,
        1,
        1,
        0,
        1,
        1,
        0,
        0,
        1,
        0,
        0,
        0,
        0,
        0,
        1,
        0,
        0,
        1,
        0,
        1,
        1,
        1,
        1,
        0,
        0,
        1,
        0,
        1,
        1,
        0,
        1,
        0,
        0,
        0,
        0,
        1,
        1,
        1,
        1,
        1,
        0,
        1,
        1,
        1,
        1,
        0,
        1,
        1,
        0,
        1,
        0,
        1,
        1,
        1,
        0,
        1,
        0,
        0,
        1,
        1,
        0,
        1,
        1,
        1,
        1,
        0,
        1,
        0,
        1
       ]
      }
     },
     "metadata": {},
     "output_type": "display_data"
    }
   ],
   "source": [
    "probabilities = transform_binary_probabilities(results)\n",
    "predictions = transform_binary_predictions(results)\n",
    "labels = get_labels(test)\n",
    "names = test.names\n",
    "test_results = [['PatientID','True label','Predicted label','Probability']]\n",
    "index = 0\n",
    "for name in names:\n",
    "    test_results.append([name, labels[index], predictions[index], probabilities[index]])\n",
    "    index += 1\n",
    "df = pandas.DataFrame(test_results)\n",
    "df.to_csv(\"output/test_results/{}-{}.csv\".format(UUID, result.model), header=False, index=False)\n",
    "pm.record(\"test_labels\", list(labels))\n",
    "pm.record(\"test_probabilities\", list(probabilities))\n",
    "pm.record(\"test_predictions\", list(predictions))"
   ]
  },
  {
   "cell_type": "markdown",
   "metadata": {
    "papermill": {
     "duration": 3.3e-05,
     "end_time": "2020-04-28T18:17:28.368799",
     "exception": false,
     "start_time": "2020-04-28T18:17:28.368766",
     "status": "completed"
    },
    "tags": []
   },
   "source": [
    "## Test statistics"
   ]
  },
  {
   "cell_type": "code",
   "execution_count": 30,
   "metadata": {
    "papermill": {
     "duration": 4.807833,
     "end_time": "2020-04-28T18:17:33.941115",
     "exception": false,
     "start_time": "2020-04-28T18:17:29.133282",
     "status": "completed"
    },
    "tags": []
   },
   "outputs": [
    {
     "name": "stdout",
     "output_type": "stream",
     "text": [
      "Accuracy: 0.5353535413742065\n",
      "Loss: 23.292034149169922\n"
     ]
    },
    {
     "data": {
      "text/html": [
       "<div>\n",
       "<style scoped>\n",
       "    .dataframe tbody tr th:only-of-type {\n",
       "        vertical-align: middle;\n",
       "    }\n",
       "\n",
       "    .dataframe tbody tr th {\n",
       "        vertical-align: top;\n",
       "    }\n",
       "\n",
       "    .dataframe thead th {\n",
       "        text-align: right;\n",
       "    }\n",
       "</style>\n",
       "<table border=\"1\" class=\"dataframe\">\n",
       "  <thead>\n",
       "    <tr style=\"text-align: right;\">\n",
       "      <th></th>\n",
       "      <th>Acc</th>\n",
       "      <th>TP</th>\n",
       "      <th>TN</th>\n",
       "      <th>FP</th>\n",
       "      <th>FN</th>\n",
       "      <th>TPR</th>\n",
       "      <th>TNR</th>\n",
       "      <th>PPV</th>\n",
       "      <th>NPV</th>\n",
       "      <th>FPR</th>\n",
       "      <th>FNR</th>\n",
       "      <th>FDR</th>\n",
       "      <th>AM</th>\n",
       "      <th>GM</th>\n",
       "    </tr>\n",
       "  </thead>\n",
       "  <tbody>\n",
       "    <tr>\n",
       "      <th>0.000</th>\n",
       "      <td>0.535</td>\n",
       "      <td>11</td>\n",
       "      <td>42</td>\n",
       "      <td>31</td>\n",
       "      <td>15</td>\n",
       "      <td>0.423</td>\n",
       "      <td>0.575</td>\n",
       "      <td>0.262</td>\n",
       "      <td>0.737</td>\n",
       "      <td>0.425</td>\n",
       "      <td>0.577</td>\n",
       "      <td>0.738</td>\n",
       "      <td>0.499</td>\n",
       "      <td>0.493</td>\n",
       "    </tr>\n",
       "    <tr>\n",
       "      <th>1.000</th>\n",
       "      <td>0.535</td>\n",
       "      <td>42</td>\n",
       "      <td>11</td>\n",
       "      <td>15</td>\n",
       "      <td>31</td>\n",
       "      <td>0.575</td>\n",
       "      <td>0.423</td>\n",
       "      <td>0.737</td>\n",
       "      <td>0.262</td>\n",
       "      <td>0.577</td>\n",
       "      <td>0.425</td>\n",
       "      <td>0.263</td>\n",
       "      <td>0.499</td>\n",
       "      <td>0.493</td>\n",
       "    </tr>\n",
       "  </tbody>\n",
       "</table>\n",
       "</div>"
      ],
      "text/plain": [
       "        Acc  TP  TN  FP  FN   TPR   TNR   PPV   NPV   FPR   FNR   FDR    AM  \\\n",
       "0.000 0.535  11  42  31  15 0.423 0.575 0.262 0.737 0.425 0.577 0.738 0.499   \n",
       "1.000 0.535  42  11  15  31 0.575 0.423 0.737 0.262 0.577 0.425 0.263 0.499   \n",
       "\n",
       "         GM  \n",
       "0.000 0.493  \n",
       "1.000 0.493  "
      ]
     },
     "execution_count": 30,
     "metadata": {},
     "output_type": "execute_result"
    }
   ],
   "source": [
    "loss, accuracy = calculate_accuracy_loss(model, test)\n",
    "print(\"Accuracy:\", accuracy)\n",
    "print(\"Loss:\", loss)\n",
    "stats = calculate_confusion_matrix_stats(labels, results)\n",
    "pandas.DataFrame(stats, index=validation.class_indices)"
   ]
  },
  {
   "cell_type": "markdown",
   "metadata": {
    "papermill": {
     "duration": 2.9e-05,
     "end_time": "2020-04-28T18:17:33.942428",
     "exception": false,
     "start_time": "2020-04-28T18:17:33.942399",
     "status": "completed"
    },
    "tags": []
   },
   "source": [
    "## Test confusion matrix"
   ]
  },
  {
   "cell_type": "code",
   "execution_count": 31,
   "metadata": {
    "papermill": {
     "duration": 1.051902,
     "end_time": "2020-04-28T18:17:35.753214",
     "exception": false,
     "start_time": "2020-04-28T18:17:34.701312",
     "status": "completed"
    },
    "scrolled": true,
    "tags": []
   },
   "outputs": [
    {
     "data": {
      "image/png": "[encoded data removed]",
      "text/plain": [
       "<Figure size 432x288 with 2 Axes>"
      ]
     },
     "metadata": {},
     "output_type": "display_data"
    }
   ],
   "source": [
    "fig = plot_confusion_matrix(test, results)\n",
    "fig.savefig(\"figures/{}-{}-test-confusion-matrix.svg\".format(result.uuid, result.input_form), bbox_inches = \"tight\")"
   ]
  },
  {
   "cell_type": "markdown",
   "metadata": {
    "papermill": {
     "duration": 8e-05,
     "end_time": "2020-04-28T18:17:35.800306",
     "exception": false,
     "start_time": "2020-04-28T18:17:35.800226",
     "status": "completed"
    },
    "tags": []
   },
   "source": [
    "## Test ROC curve"
   ]
  },
  {
   "cell_type": "code",
   "execution_count": 32,
   "metadata": {
    "papermill": {
     "duration": 1.388993,
     "end_time": "2020-04-28T18:17:37.925729",
     "exception": false,
     "start_time": "2020-04-28T18:17:36.536736",
     "status": "completed"
    },
    "tags": []
   },
   "outputs": [
    {
     "data": {
      "image/png": "[encoded data removed]",
      "text/plain": [
       "<Figure size 432x288 with 1 Axes>"
      ]
     },
     "metadata": {},
     "output_type": "display_data"
    }
   ],
   "source": [
    "fig = plot_roc_curve(labels, probabilities)\n",
    "fig.savefig(\"figures/{}-{}-test-ROC-curve.svg\".format(result.uuid, result.input_form), bbox_inches = \"tight\")"
   ]
  },
  {
   "cell_type": "markdown",
   "metadata": {
    "papermill": {
     "duration": 2.8e-05,
     "end_time": "2020-04-28T18:17:37.927777",
     "exception": false,
     "start_time": "2020-04-28T18:17:37.927749",
     "status": "completed"
    },
    "tags": []
   },
   "source": [
    "## Test precision-recall curve"
   ]
  },
  {
   "cell_type": "code",
   "execution_count": 33,
   "metadata": {
    "papermill": {
     "duration": 1.392247,
     "end_time": "2020-04-28T18:17:40.176422",
     "exception": false,
     "start_time": "2020-04-28T18:17:38.784175",
     "status": "completed"
    },
    "tags": []
   },
   "outputs": [
    {
     "data": {
      "image/png": "[encoded data removed]",
      "text/plain": [
       "<Figure size 432x288 with 1 Axes>"
      ]
     },
     "metadata": {},
     "output_type": "display_data"
    }
   ],
   "source": [
    "fig = plot_precision_recall(labels, results)\n",
    "fig.savefig(\"figures/{}-{}-test-precisionrecall-curve.svg\".format(result.uuid, result.input_form), bbox_inches = \"tight\")"
   ]
  },
  {
   "cell_type": "code",
   "execution_count": 34,
   "metadata": {
    "collapsed": true,
    "papermill": {
     "duration": 0.1573,
     "end_time": "2020-04-28T18:17:40.336605",
     "exception": false,
     "start_time": "2020-04-28T18:17:40.179305",
     "status": "completed"
    },
    "tags": []
   },
   "outputs": [],
   "source": [
    "import json\n",
    "hyperparameters = json.loads(result.hyperparameters)\n",
    "deep_top = hyperparameters[\"deep-dense-top\"]\n",
    "grad_cam_layer = \"dense_3\"\n",
    "if deep_top: \n",
    "    grad_cam_layer = \"dense_6\""
   ]
  },
  {
   "cell_type": "markdown",
   "metadata": {
    "papermill": {
     "duration": 2.7e-05,
     "end_time": "2020-04-28T18:17:41.068013",
     "exception": false,
     "start_time": "2020-04-28T18:17:41.067986",
     "status": "completed"
    },
    "tags": []
   },
   "source": [
    "# TSNE"
   ]
  },
  {
   "cell_type": "markdown",
   "metadata": {
    "papermill": {
     "duration": 3.3e-05,
     "end_time": "2020-04-28T18:17:41.781071",
     "exception": false,
     "start_time": "2020-04-28T18:17:41.781038",
     "status": "completed"
    },
    "tags": []
   },
   "source": [
    "# Grad Cam"
   ]
  },
  {
   "cell_type": "code",
   "execution_count": 35,
   "metadata": {
    "collapsed": true,
    "papermill": {
     "duration": 0.211067,
     "end_time": "2020-04-28T18:17:43.047236",
     "exception": false,
     "start_time": "2020-04-28T18:17:42.836169",
     "status": "completed"
    },
    "tags": []
   },
   "outputs": [],
   "source": [
    "def show_grad_cam_images(images, labels, predictions, names=None, penultimate_layer=\"res5c_branch2c\", layer=\"dense_3\", columns=2, include_label=True):\n",
    "    filter_idx = [0]\n",
    "    grad_modifier = None\n",
    "    backprop_modifier = None\n",
    "    penultimate_layer_idx = None\n",
    "    if penultimate_layer:\n",
    "        penultimate_layer_idx = find_layer_idx(model, penultimate_layer)    \n",
    "    rows = int(math.ceil(len(images) * 2/columns))\n",
    "    f, ax = plt.subplots(rows, columns, figsize=(5.5, 3 * rows))    \n",
    "    ax = ax.flatten()\n",
    "    for i, image in enumerate(images): \n",
    "        grad = visualize_cam(\n",
    "            model,\n",
    "            find_layer_idx(model, layer),\n",
    "            filter_idx,\n",
    "            normalize(image),\n",
    "            penultimate_layer_idx=penultimate_layer_idx,\n",
    "            backprop_modifier=backprop_modifier,\n",
    "            grad_modifier=grad_modifier)\n",
    "        if names is not None: \n",
    "            ax[2*i].set_title(\"{}\".format(names[i]))\n",
    "        ax[2*i].imshow(image)\n",
    "        ax[2*i].axis('off')\n",
    "        if include_label: \n",
    "            ax[2*i+1].set_title(\"label/pred: {}/{}\".format(labels[i], predictions[i]))\n",
    "        ax[2*i+1].imshow(overlay(grad, image))\n",
    "        ax[2*i+1].axis('off')\n",
    "    return f, ax"
   ]
  },
  {
   "cell_type": "code",
   "execution_count": 36,
   "metadata": {
    "collapsed": true,
    "papermill": {
     "duration": 0.264745,
     "end_time": "2020-04-28T18:17:43.973816",
     "exception": false,
     "start_time": "2020-04-28T18:17:43.709071",
     "status": "completed"
    },
    "tags": []
   },
   "outputs": [
    {
     "data": {
      "text/html": [
       "<script>\n",
       "code_show=true; \n",
       "function code_toggle() {\n",
       " if (code_show){\n",
       " $('div.input').hide();\n",
       " } else {\n",
       " $('div.input').show();\n",
       " }\n",
       " code_show = !code_show\n",
       "} \n",
       "$( document ).ready(code_toggle);\n",
       "</script>\n",
       "The raw code for this IPython notebook is by default hidden for easier reading.\n",
       "To toggle on/off the raw code, click <a href=\"javascript:code_toggle()\">here</a>."
      ],
      "text/plain": [
       "<IPython.core.display.HTML object>"
      ]
     },
     "execution_count": 36,
     "metadata": {},
     "output_type": "execute_result"
    }
   ],
   "source": [
    "from IPython.display import HTML\n",
    "HTML('''<script>\n",
    "code_show=true; \n",
    "function code_toggle() {\n",
    " if (code_show){\n",
    " $('div.input').hide();\n",
    " } else {\n",
    " $('div.input').show();\n",
    " }\n",
    " code_show = !code_show\n",
    "} \n",
    "$( document ).ready(code_toggle);\n",
    "</script>\n",
    "The raw code for this IPython notebook is by default hidden for easier reading.\n",
    "To toggle on/off the raw code, click <a href=\"javascript:code_toggle()\">here</a>.''')"
   ]
  },
  {
   "cell_type": "code",
   "execution_count": null,
   "metadata": {
    "collapsed": true,
    "papermill": {
     "duration": 6e-06,
     "end_time": "2020-04-28T18:17:44.606915",
     "exception": null,
     "start_time": "2020-04-28T18:17:44.606909",
     "status": "completed"
    },
    "tags": []
   },
   "outputs": [],
   "source": []
  },
  {
   "cell_type": "code",
   "execution_count": null,
   "metadata": {
    "collapsed": true,
    "papermill": {
     "duration": 6e-06,
     "end_time": "2020-04-28T18:17:45.586571",
     "exception": null,
     "start_time": "2020-04-28T18:17:45.586565",
     "status": "completed"
    },
    "tags": []
   },
   "outputs": [],
   "source": []
  },
  {
   "cell_type": "code",
   "execution_count": null,
   "metadata": {
    "collapsed": true,
    "papermill": {
     "duration": 7e-05,
     "end_time": "2020-04-28T18:17:46.350566",
     "exception": null,
     "start_time": "2020-04-28T18:17:46.350496",
     "status": "completed"
    },
    "tags": []
   },
   "outputs": [],
   "source": []
  },
  {
   "cell_type": "code",
   "execution_count": null,
   "metadata": {
    "collapsed": true,
    "papermill": {
     "duration": 1.5e-05,
     "end_time": "2020-04-28T18:17:47.470828",
     "exception": null,
     "start_time": "2020-04-28T18:17:47.470813",
     "status": "completed"
    },
    "tags": []
   },
   "outputs": [],
   "source": []
  },
  {
   "cell_type": "code",
   "execution_count": null,
   "metadata": {
    "collapsed": true,
    "papermill": {
     "duration": 8e-06,
     "end_time": "2020-04-28T18:17:48.255459",
     "exception": null,
     "start_time": "2020-04-28T18:17:48.255451",
     "status": "completed"
    },
    "tags": []
   },
   "outputs": [],
   "source": []
  }
 ],
 "metadata": {
  "kernelspec": {
   "display_name": "Python 3",
   "language": "python",
   "name": "python3"
  },
  "language_info": {
   "codemirror_mode": {
    "name": "ipython",
    "version": 3
   },
   "file_extension": ".py",
   "mimetype": "text/x-python",
   "name": "python",
   "nbconvert_exporter": "python",
   "pygments_lexer": "ipython3",
   "version": "3.6.1"
  },
  "papermill": {
   "duration": 440.715487,
   "end_time": "2020-04-28T18:17:54.446324",
   "environment_variables": {},
   "exception": false,
   "output_path": "evaluate-abstractrun4_alldata-t1-1bd76392-d336-411e-958d-7358d78552cb.ipynb",
   "parameters": {
    "SELECTIONS": "None",
    "TSNE_PERPLEXITY": null,
    "UUID": "1bd76392-d336-411e-958d-7358d78552cb"
   },
   "start_time": "2020-04-28T18:10:33.730837",
   "version": "0.10.1"
  }
 },
 "nbformat": 4,
 "nbformat_minor": 2
}