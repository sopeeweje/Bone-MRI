{
 "cells": [
  {
   "cell_type": "code",
   "execution_count": 1,
   "metadata": {
    "papermill": {
     "duration": 1.193276,
     "end_time": "2020-04-27T23:32:59.161815",
     "exception": false,
     "start_time": "2020-04-27T23:32:57.968539",
     "status": "completed"
    },
    "tags": []
   },
   "outputs": [],
   "source": [
    "%load_ext autoreload\n",
    "%autoreload 2\n",
    "%matplotlib inline  \n",
    "from IPython.display import HTML"
   ]
  },
  {
   "cell_type": "code",
   "execution_count": 2,
   "metadata": {
    "papermill": {
     "duration": 8.284718,
     "end_time": "2020-04-27T23:33:07.449451",
     "exception": false,
     "start_time": "2020-04-27T23:32:59.164733",
     "status": "completed"
    },
    "tags": []
   },
   "outputs": [
    {
     "name": "stderr",
     "output_type": "stream",
     "text": [
      "Using TensorFlow backend.\n",
      "/home/user1/.local/share/virtualenvs/Bone-MRI-iLizu8rs/lib/python3.6/site-packages/tensorflow/python/framework/dtypes.py:516: FutureWarning: Passing (type, 1) or '1type' as a synonym of type is deprecated; in a future version of numpy, it will be understood as (type, (1,)) / '(1,)type'.\n",
      "  _np_qint8 = np.dtype([(\"qint8\", np.int8, 1)])\n",
      "/home/user1/.local/share/virtualenvs/Bone-MRI-iLizu8rs/lib/python3.6/site-packages/tensorflow/python/framework/dtypes.py:517: FutureWarning: Passing (type, 1) or '1type' as a synonym of type is deprecated; in a future version of numpy, it will be understood as (type, (1,)) / '(1,)type'.\n",
      "  _np_quint8 = np.dtype([(\"quint8\", np.uint8, 1)])\n",
      "/home/user1/.local/share/virtualenvs/Bone-MRI-iLizu8rs/lib/python3.6/site-packages/tensorflow/python/framework/dtypes.py:518: FutureWarning: Passing (type, 1) or '1type' as a synonym of type is deprecated; in a future version of numpy, it will be understood as (type, (1,)) / '(1,)type'.\n",
      "  _np_qint16 = np.dtype([(\"qint16\", np.int16, 1)])\n",
      "/home/user1/.local/share/virtualenvs/Bone-MRI-iLizu8rs/lib/python3.6/site-packages/tensorflow/python/framework/dtypes.py:519: FutureWarning: Passing (type, 1) or '1type' as a synonym of type is deprecated; in a future version of numpy, it will be understood as (type, (1,)) / '(1,)type'.\n",
      "  _np_quint16 = np.dtype([(\"quint16\", np.uint16, 1)])\n",
      "/home/user1/.local/share/virtualenvs/Bone-MRI-iLizu8rs/lib/python3.6/site-packages/tensorflow/python/framework/dtypes.py:520: FutureWarning: Passing (type, 1) or '1type' as a synonym of type is deprecated; in a future version of numpy, it will be understood as (type, (1,)) / '(1,)type'.\n",
      "  _np_qint32 = np.dtype([(\"qint32\", np.int32, 1)])\n",
      "/home/user1/.local/share/virtualenvs/Bone-MRI-iLizu8rs/lib/python3.6/site-packages/tensorflow/python/framework/dtypes.py:525: FutureWarning: Passing (type, 1) or '1type' as a synonym of type is deprecated; in a future version of numpy, it will be understood as (type, (1,)) / '(1,)type'.\n",
      "  np_resource = np.dtype([(\"resource\", np.ubyte, 1)])\n",
      "WARNING:root:Limited tf.compat.v2.summary API due to missing TensorBoard installation.\n"
     ]
    }
   ],
   "source": [
    "from sklearn.metrics import f1_score, roc_auc_score, average_precision_score, precision_score, recall_score\n",
    "import pandas\n",
    "import numpy as np\n",
    "import papermill as pm\n",
    "import json\n",
    "import matplotlib.pyplot as plt\n",
    "import os\n",
    "import uuid\n",
    "from db import Result\n",
    "import ast\n",
    "import math\n",
    "from vis.visualization import visualize_cam, visualize_saliency, overlay\n",
    "from vis.utils.utils import load_img, normalize, find_layer_idx\n",
    "\n",
    "\n",
    "pandas.options.display.float_format = '{:,.3f}'.format"
   ]
  },
  {
   "cell_type": "code",
   "execution_count": 3,
   "metadata": {
    "papermill": {
     "duration": 0.238193,
     "end_time": "2020-04-27T23:33:07.689679",
     "exception": false,
     "start_time": "2020-04-27T23:33:07.451486",
     "status": "completed"
    },
    "tags": []
   },
   "outputs": [],
   "source": [
    "from evaluate import plot_learning_curve, plot_accuracy_curve, load, get_results, get_labels, transform_binary_probabilities, transform_binary_predictions, calculate_accuracy_loss, plot_confusion_matrix, plot_precision_recall, plot_roc_curve, calculate_pr_auc, calculate_confusion_matrix_stats, calculate_confusion_matrix, plot_tsne, plot_multiple_grad_cam, plot_precision_recall"
   ]
  },
  {
   "cell_type": "code",
   "execution_count": 4,
   "metadata": {
    "papermill": {
     "duration": 0.084334,
     "end_time": "2020-04-27T23:33:07.775923",
     "exception": false,
     "start_time": "2020-04-27T23:33:07.691589",
     "status": "completed"
    },
    "tags": []
   },
   "outputs": [],
   "source": [
    "from data_gen import data\n",
    "from run import characterize_data\n",
    "from config import config"
   ]
  },
  {
   "cell_type": "code",
   "execution_count": 5,
   "metadata": {
    "papermill": {
     "duration": 0.093051,
     "end_time": "2020-04-27T23:33:07.869220",
     "exception": false,
     "start_time": "2020-04-27T23:33:07.776169",
     "status": "completed"
    },
    "tags": [
     "parameters"
    ]
   },
   "outputs": [],
   "source": [
    "# Parameters\n",
    "UUID = \"23c07175-158e-4ae6-957a-92d59edbddc7\"\n",
    "SELECTIONS = \"None\"\n",
    "TSNE_PERPLEXITY = 10\n"
   ]
  },
  {
   "cell_type": "code",
   "execution_count": 6,
   "metadata": {
    "papermill": {
     "duration": 0.092395,
     "end_time": "2020-04-27T23:33:07.970358",
     "exception": false,
     "start_time": "2020-04-27T23:33:07.877963",
     "status": "completed"
    },
    "tags": []
   },
   "outputs": [],
   "source": [
    "SELECTIONS = eval(SELECTIONS)"
   ]
  },
  {
   "cell_type": "markdown",
   "metadata": {
    "papermill": {
     "duration": 0.00033,
     "end_time": "2020-04-27T23:33:08.196922",
     "exception": false,
     "start_time": "2020-04-27T23:33:08.196592",
     "status": "completed"
    },
    "tags": []
   },
   "source": [
    "# Learning Curve"
   ]
  },
  {
   "cell_type": "code",
   "execution_count": 8,
   "metadata": {
    "papermill": {
     "duration": 1.196535,
     "end_time": "2020-04-27T23:33:09.500208",
     "exception": false,
     "start_time": "2020-04-27T23:33:08.303673",
     "status": "completed"
    },
    "tags": []
   },
   "outputs": [
    {
     "data": {
      "image/png": "[encoded data removed]",
      "text/plain": [
       "<Figure size 432x288 with 1 Axes>"
      ]
     },
     "metadata": {},
     "output_type": "display_data"
    }
   ],
   "source": [
    "result = Result.query.filter(Result.uuid == UUID).first()\n",
    "fig = plot_learning_curve(result)\n",
    "fig.savefig(\"figures/learning_curves/{}-learning_curve.svg\".format(UUID))"
   ]
  },
  {
   "cell_type": "markdown",
   "metadata": {
    "papermill": {
     "duration": 2.8e-05,
     "end_time": "2020-04-27T23:33:09.501614",
     "exception": false,
     "start_time": "2020-04-27T23:33:09.501586",
     "status": "completed"
    },
    "tags": []
   },
   "source": [
    "# Accuracy Trend"
   ]
  },
  {
   "cell_type": "code",
   "execution_count": 8,
   "metadata": {
    "papermill": {
     "duration": 0.866522,
     "end_time": "2020-04-27T23:33:10.436388",
     "exception": false,
     "start_time": "2020-04-27T23:33:09.569866",
     "status": "completed"
    },
    "tags": []
   },
   "outputs": [
    {
     "data": {
      "image/png": "[encoded data removed]",
      "text/plain": [
       "<Figure size 432x288 with 1 Axes>"
      ]
     },
     "metadata": {},
     "output_type": "display_data"
    }
   ],
   "source": [
    "fig = plot_accuracy_curve(result)\n",
    "fig.savefig(\"figures/accuracy/{}-accuracy.svg\".format(UUID))"
   ]
  },
  {
   "cell_type": "code",
   "execution_count": 9,
   "metadata": {
    "papermill": {
     "duration": 0.194278,
     "end_time": "2020-04-27T23:33:10.634845",
     "exception": false,
     "start_time": "2020-04-27T23:33:10.440567",
     "status": "completed"
    },
    "tags": []
   },
   "outputs": [
    {
     "name": "stdout",
     "output_type": "stream",
     "text": [
      "input form: t2\n"
     ]
    }
   ],
   "source": [
    "print(\"input form:\", result.input_form)"
   ]
  },
  {
   "cell_type": "code",
   "execution_count": 9,
   "metadata": {
    "papermill": {
     "duration": 0.176689,
     "end_time": "2020-04-27T23:33:10.815136",
     "exception": false,
     "start_time": "2020-04-27T23:33:10.638447",
     "status": "completed"
    },
    "tags": []
   },
   "outputs": [],
   "source": [
    "MODEL = \"{}/models/{}-{}.h5\".format(config.OUTPUT, UUID, result.model)"
   ]
  },
  {
   "cell_type": "code",
   "execution_count": 10,
   "metadata": {
    "papermill": {
     "duration": null,
     "end_time": null,
     "exception": null,
     "start_time": null,
     "status": "running"
    },
    "tags": []
   },
   "outputs": [
    {
     "name": "stderr",
     "output_type": "stream",
     "text": [
      "\r",
      "  0%|          | 0/708 [00:00<?, ?it/s]"
     ]
    },
    {
     "name": "stdout",
     "output_type": "stream",
     "text": [
      "Training points = 708\n",
      "Benign: 378, Intermediate: 330, Malignant: 0\n",
      "\n",
      "Validation points = 202\n",
      "Benign: 108, Intermediate: 94, Malignant: 0\n",
      "\n",
      "Testing points = 101\n",
      "Benign: 54, Intermediate: 47, Malignant: 0\n",
      "bone-penn-281\n",
      "Does this patient have T2 available? True\n",
      "I'm doing the thing.\n"
     ]
    },
    {
     "name": "stderr",
     "output_type": "stream",
     "text": [
      "  0%|          | 2/708 [00:00<02:52,  4.10it/s]"
     ]
    },
    {
     "name": "stdout",
     "output_type": "stream",
     "text": [
      "bone-china-005\n",
      "Does this patient have T2 available? True\n",
      "I'm doing the thing.\n",
      "bone-china-080\n",
      "Does this patient have T2 available? True\n",
      "I'm doing the thing.\n"
     ]
    },
    {
     "name": "stderr",
     "output_type": "stream",
     "text": [
      "\r",
      "  0%|          | 3/708 [00:00<02:29,  4.72it/s]"
     ]
    },
    {
     "name": "stdout",
     "output_type": "stream",
     "text": [
      "bone-penn-330\n",
      "Does this patient have T2 available? True\n",
      "I'm doing the thing.\n"
     ]
    },
    {
     "name": "stderr",
     "output_type": "stream",
     "text": [
      "\r",
      "  1%|          | 4/708 [00:01<03:47,  3.09it/s]"
     ]
    },
    {
     "name": "stdout",
     "output_type": "stream",
     "text": [
      "bone-penn-95\n",
      "Does this patient have T2 available? True\n",
      "I'm doing the thing.\n"
     ]
    },
    {
     "name": "stderr",
     "output_type": "stream",
     "text": [
      "  1%|          | 6/708 [00:01<03:10,  3.68it/s]"
     ]
    },
    {
     "name": "stdout",
     "output_type": "stream",
     "text": [
      "bone-penn-564\n",
      "Does this patient have T2 available? True\n",
      "I'm doing the thing.\n",
      "bone-china-167\n",
      "Does this patient have T2 available? True\n",
      "I'm doing the thing.\n"
     ]
    },
    {
     "name": "stderr",
     "output_type": "stream",
     "text": [
      "  1%|          | 8/708 [00:01<02:31,  4.61it/s]"
     ]
    },
    {
     "name": "stdout",
     "output_type": "stream",
     "text": [
      "bone-hup-145\n",
      "Does this patient have T2 available? True\n",
      "I'm doing the thing.\n",
      "bone-penn-567\n",
      "Does this patient have T2 available? True\n",
      "I'm doing the thing.\n"
     ]
    },
    {
     "name": "stderr",
     "output_type": "stream",
     "text": [
      "  1%|▏         | 10/708 [00:02<03:28,  3.35it/s]"
     ]
    },
    {
     "name": "stdout",
     "output_type": "stream",
     "text": [
      "bone-china-117\n",
      "Does this patient have T2 available? True\n",
      "I'm doing the thing.\n",
      "bone-penn-589\n",
      "Does this patient have T2 available? True\n",
      "I'm doing the thing.\n"
     ]
    },
    {
     "name": "stderr",
     "output_type": "stream",
     "text": [
      "  2%|▏         | 12/708 [00:03<02:56,  3.94it/s]"
     ]
    },
    {
     "name": "stdout",
     "output_type": "stream",
     "text": [
      "bone-china-106\n",
      "Does this patient have T2 available? True\n",
      "I'm doing the thing.\n",
      "bone-penn-613\n",
      "Does this patient have T2 available? True\n",
      "I'm doing the thing.\n"
     ]
    },
    {
     "name": "stderr",
     "output_type": "stream",
     "text": [
      "\r",
      "  2%|▏         | 13/708 [00:03<02:33,  4.53it/s]"
     ]
    },
    {
     "name": "stdout",
     "output_type": "stream",
     "text": [
      "bone-penn-542\n",
      "Does this patient have T2 available? True\n",
      "I'm doing the thing.\n"
     ]
    },
    {
     "name": "stderr",
     "output_type": "stream",
     "text": [
      "  2%|▏         | 15/708 [00:03<02:36,  4.41it/s]"
     ]
    },
    {
     "name": "stdout",
     "output_type": "stream",
     "text": [
      "bone-china-041\n",
      "Does this patient have T2 available? True\n",
      "I'm doing the thing.\n",
      "bone-hup-328\n",
      "Does this patient have T2 available? True\n",
      "I'm doing the thing.\n"
     ]
    },
    {
     "name": "stderr",
     "output_type": "stream",
     "text": [
      "\r",
      "  2%|▏         | 16/708 [00:04<04:29,  2.56it/s]"
     ]
    },
    {
     "name": "stdout",
     "output_type": "stream",
     "text": [
      "bone-penn-590\n",
      "Does this patient have T2 available? True\n",
      "I'm doing the thing.\n"
     ]
    },
    {
     "name": "stderr",
     "output_type": "stream",
     "text": [
      "\r",
      "  2%|▏         | 17/708 [00:04<04:01,  2.86it/s]"
     ]
    },
    {
     "name": "stdout",
     "output_type": "stream",
     "text": [
      "bone-penn-159\n",
      "Does this patient have T2 available? True\n",
      "I'm doing the thing.\n"
     ]
    },
    {
     "name": "stderr",
     "output_type": "stream",
     "text": [
      "\r",
      "  3%|▎         | 18/708 [00:05<03:40,  3.13it/s]"
     ]
    },
    {
     "name": "stdout",
     "output_type": "stream",
     "text": [
      "bone-penn-347\n",
      "Does this patient have T2 available? True\n",
      "I'm doing the thing.\n"
     ]
    },
    {
     "name": "stderr",
     "output_type": "stream",
     "text": [
      "\r",
      "  3%|▎         | 19/708 [00:05<03:31,  3.25it/s]"
     ]
    },
    {
     "name": "stdout",
     "output_type": "stream",
     "text": [
      "bone-hup-264\n",
      "Does this patient have T2 available? False\n",
      "T2 image unavailable\n",
      "bone-penn-518\n",
      "Does this patient have T2 available? True\n",
      "I'm doing the thing.\n"
     ]
    },
    {
     "name": "stderr",
     "output_type": "stream",
     "text": [
      "\r",
      "  3%|▎         | 21/708 [00:05<03:05,  3.70it/s]"
     ]
    },
    {
     "name": "stdout",
     "output_type": "stream",
     "text": [
      "bone-hup-287\n",
      "Does this patient have T2 available? True\n",
      "I'm doing the thing.\n"
     ]
    },
    {
     "name": "stderr",
     "output_type": "stream",
     "text": [
      "  3%|▎         | 23/708 [00:06<02:53,  3.96it/s]"
     ]
    },
    {
     "name": "stdout",
     "output_type": "stream",
     "text": [
      "bone-hup-301\n",
      "Does this patient have T2 available? True\n",
      "I'm doing the thing.\n",
      "bone-hup-278\n",
      "Does this patient have T2 available? True\n",
      "I'm doing the thing.\n"
     ]
    },
    {
     "name": "stderr",
     "output_type": "stream",
     "text": [
      "\r",
      "  3%|▎         | 24/708 [00:06<02:28,  4.62it/s]"
     ]
    },
    {
     "name": "stdout",
     "output_type": "stream",
     "text": [
      "bone-penn-545\n",
      "Does this patient have T2 available? False\n",
      "T2 image unavailable\n",
      "bone-hup-266\n",
      "Does this patient have T2 available? True\n",
      "I'm doing the thing.\n"
     ]
    },
    {
     "name": "stderr",
     "output_type": "stream",
     "text": [
      "\r",
      "  4%|▎         | 26/708 [00:06<02:26,  4.65it/s]"
     ]
    },
    {
     "name": "stdout",
     "output_type": "stream",
     "text": [
      "bone-hup-326\n",
      "Does this patient have T2 available? True\n",
      "I'm doing the thing.\n"
     ]
    },
    {
     "name": "stderr",
     "output_type": "stream",
     "text": [
      "  4%|▍         | 29/708 [00:07<03:27,  3.27it/s]"
     ]
    },
    {
     "name": "stdout",
     "output_type": "stream",
     "text": [
      "bone-hup-140\n",
      "Does this patient have T2 available? False\n",
      "T2 image unavailable\n",
      "bone-china-039\n",
      "Does this patient have T2 available? True\n",
      "I'm doing the thing.\n",
      "bone-china-033\n",
      "Does this patient have T2 available? True\n",
      "I'm doing the thing.\n"
     ]
    },
    {
     "name": "stderr",
     "output_type": "stream",
     "text": [
      "\r",
      "  4%|▍         | 30/708 [00:07<02:49,  4.00it/s]"
     ]
    },
    {
     "name": "stdout",
     "output_type": "stream",
     "text": [
      "bone-penn-476\n",
      "Does this patient have T2 available? True\n",
      "I'm doing the thing.\n",
      "bone-penn-612\n",
      "Does this patient have T2 available? True\n",
      "I'm doing the thing.\n"
     ]
    },
    {
     "name": "stderr",
     "output_type": "stream",
     "text": [
      "  5%|▍         | 33/708 [00:09<03:13,  3.48it/s]"
     ]
    },
    {
     "name": "stdout",
     "output_type": "stream",
     "text": [
      "bone-china-002\n",
      "Does this patient have T2 available? True\n",
      "I'm doing the thing.\n",
      "bone-penn-294"
     ]
    },
    {
     "name": "stderr",
     "output_type": "stream",
     "text": [
      "\r",
      "  5%|▍         | 35/708 [00:09<02:26,  4.60it/s]"
     ]
    },
    {
     "name": "stdout",
     "output_type": "stream",
     "text": [
      "\n",
      "Does this patient have T2 available? False\n",
      "T2 image unavailable\n",
      "bone-penn-509\n",
      "Does this patient have T2 available? True\n",
      "I'm doing the thing.\n",
      "bone-penn-293\n",
      "Does this patient have T2 available? True\n",
      "I'm doing the thing.\n"
     ]
    },
    {
     "name": "stderr",
     "output_type": "stream",
     "text": [
      "  5%|▌         | 37/708 [00:09<02:03,  5.43it/s]"
     ]
    },
    {
     "name": "stdout",
     "output_type": "stream",
     "text": [
      "bone-hup-142\n",
      "Does this patient have T2 available? True\n",
      "I'm doing the thing.\n",
      "bone-penn-527\n",
      "Does this patient have T2 available? True\n",
      "I'm doing the thing.\n"
     ]
    },
    {
     "name": "stderr",
     "output_type": "stream",
     "text": [
      "  6%|▌         | 39/708 [00:09<02:07,  5.23it/s]"
     ]
    },
    {
     "name": "stdout",
     "output_type": "stream",
     "text": [
      "bone-penn-503\n",
      "Does this patient have T2 available? True\n",
      "I'm doing the thing.\n",
      "bone-penn-413\n",
      "Does this patient have T2 available? True\n",
      "I'm doing the thing.\n"
     ]
    },
    {
     "name": "stderr",
     "output_type": "stream",
     "text": [
      "  6%|▌         | 41/708 [00:10<01:57,  5.68it/s]"
     ]
    },
    {
     "name": "stdout",
     "output_type": "stream",
     "text": [
      "bone-penn-303\n",
      "Does this patient have T2 available? True\n",
      "I'm doing the thing.\n",
      "bone-hup-293\n",
      "Does this patient have T2 available? True\n",
      "I'm doing the thing.\n"
     ]
    },
    {
     "name": "stderr",
     "output_type": "stream",
     "text": [
      "\r",
      "  6%|▌         | 42/708 [00:10<01:52,  5.90it/s]"
     ]
    },
    {
     "name": "stdout",
     "output_type": "stream",
     "text": [
      "bone-penn-535\n",
      "Does this patient have T2 available? True\n",
      "I'm doing the thing.\n"
     ]
    },
    {
     "name": "stderr",
     "output_type": "stream",
     "text": [
      "  6%|▌         | 44/708 [00:10<02:20,  4.72it/s]"
     ]
    },
    {
     "name": "stdout",
     "output_type": "stream",
     "text": [
      "bone-penn-481\n",
      "Does this patient have T2 available? True\n",
      "I'm doing the thing.\n",
      "bone-china-022\n",
      "Does this patient have T2 available? True\n",
      "I'm doing the thing.\n"
     ]
    },
    {
     "name": "stderr",
     "output_type": "stream",
     "text": [
      "\r",
      "  6%|▋         | 45/708 [00:11<02:06,  5.26it/s]"
     ]
    },
    {
     "name": "stdout",
     "output_type": "stream",
     "text": [
      "bone-penn-107\n",
      "Does this patient have T2 available? True\n",
      "I'm doing the thing.\n"
     ]
    },
    {
     "name": "stderr",
     "output_type": "stream",
     "text": [
      "\r",
      "  6%|▋         | 46/708 [00:11<02:56,  3.75it/s]"
     ]
    },
    {
     "name": "stdout",
     "output_type": "stream",
     "text": [
      "bone-penn-276\n",
      "Does this patient have T2 available? True\n",
      "I'm doing the thing.\n"
     ]
    },
    {
     "name": "stderr",
     "output_type": "stream",
     "text": [
      "\r",
      "  7%|▋         | 47/708 [00:12<04:45,  2.32it/s]"
     ]
    },
    {
     "name": "stdout",
     "output_type": "stream",
     "text": [
      "bone-hup-129\n",
      "Does this patient have T2 available? True\n",
      "I'm doing the thing.\n"
     ]
    },
    {
     "name": "stderr",
     "output_type": "stream",
     "text": [
      "  7%|▋         | 49/708 [00:13<04:12,  2.61it/s]"
     ]
    },
    {
     "name": "stdout",
     "output_type": "stream",
     "text": [
      "bone-china-168\n",
      "Does this patient have T2 available? True\n",
      "I'm doing the thing.\n",
      "bone-china-035\n",
      "Does this patient have T2 available? True\n",
      "I'm doing the thing.\n"
     ]
    },
    {
     "name": "stderr",
     "output_type": "stream",
     "text": [
      "  7%|▋         | 51/708 [00:13<02:56,  3.72it/s]"
     ]
    },
    {
     "name": "stdout",
     "output_type": "stream",
     "text": [
      "bone-china-155\n",
      "Does this patient have T2 available? True\n",
      "I'm doing the thing.\n",
      "bone-penn-323\n",
      "Does this patient have T2 available? True\n",
      "I'm doing the thing.\n"
     ]
    },
    {
     "name": "stderr",
     "output_type": "stream",
     "text": [
      "  7%|▋         | 53/708 [00:13<02:44,  3.98it/s]"
     ]
    },
    {
     "name": "stdout",
     "output_type": "stream",
     "text": [
      "bone-china-014\n",
      "Does this patient have T2 available? True\n",
      "I'm doing the thing.\n",
      "bone-penn-562\n",
      "Does this patient have T2 available? False\n",
      "T2 image unavailable\n",
      "bone-china-100\n",
      "Does this patient have T2 available? True\n",
      "I'm doing the thing.\n"
     ]
    },
    {
     "name": "stderr",
     "output_type": "stream",
     "text": [
      "\r",
      "  8%|▊         | 55/708 [00:14<02:07,  5.10it/s]"
     ]
    },
    {
     "name": "stdout",
     "output_type": "stream",
     "text": [
      "bone-penn-561\n",
      "Does this patient have T2 available? True\n",
      "I'm doing the thing.\n"
     ]
    },
    {
     "name": "stderr",
     "output_type": "stream",
     "text": [
      "  8%|▊         | 57/708 [00:14<02:16,  4.78it/s]"
     ]
    },
    {
     "name": "stdout",
     "output_type": "stream",
     "text": [
      "bone-penn-304\n",
      "Does this patient have T2 available? True\n",
      "I'm doing the thing.\n",
      "bone-penn-560\n",
      "Does this patient have T2 available? False\n",
      "T2 image unavailable\n",
      "bone-penn-473\n",
      "Does this patient have T2 available? True\n",
      "I'm doing the thing.\n"
     ]
    },
    {
     "name": "stderr",
     "output_type": "stream",
     "text": [
      "  9%|▊         | 61/708 [00:14<01:35,  6.77it/s]"
     ]
    },
    {
     "name": "stdout",
     "output_type": "stream",
     "text": [
      "bone-china-032\n",
      "Does this patient have T2 available? True\n",
      "I'm doing the thing.\n",
      "bone-china-070\n",
      "Does this patient have T2 available? True\n",
      "I'm doing the thing.\n",
      "bone-china-043\n",
      "Does this patient have T2 available? True\n",
      "I'm doing the thing.\n"
     ]
    },
    {
     "name": "stderr",
     "output_type": "stream",
     "text": [
      "\r",
      "  9%|▉         | 63/708 [00:15<01:32,  7.00it/s]"
     ]
    },
    {
     "name": "stdout",
     "output_type": "stream",
     "text": [
      "bone-penn-346\n",
      "Does this patient have T2 available? True\n",
      "I'm doing the thing.\n",
      "bone-penn-99\n",
      "Does this patient have T2 available? True\n",
      "I'm doing the thing.\n"
     ]
    },
    {
     "name": "stderr",
     "output_type": "stream",
     "text": [
      "\r",
      "  9%|▉         | 64/708 [00:15<02:36,  4.11it/s]"
     ]
    },
    {
     "name": "stdout",
     "output_type": "stream",
     "text": [
      "bone-penn-297\n",
      "Does this patient have T2 available? True\n",
      "I'm doing the thing.\n"
     ]
    },
    {
     "name": "stderr",
     "output_type": "stream",
     "text": [
      "\r",
      "  9%|▉         | 65/708 [00:15<02:29,  4.29it/s]"
     ]
    },
    {
     "name": "stdout",
     "output_type": "stream",
     "text": [
      "bone-china-136\n",
      "Does this patient have T2 available? True\n",
      "I'm doing the thing.\n",
      "bone-penn-88\n",
      "Does this patient have T2 available? False\n",
      "T2 image unavailable\n",
      "bone-china-151\n",
      "Does this patient have T2 available? True\n",
      "I'm doing the thing.\n"
     ]
    },
    {
     "name": "stderr",
     "output_type": "stream",
     "text": [
      " 10%|▉         | 69/708 [00:16<02:02,  5.22it/s]"
     ]
    },
    {
     "name": "stdout",
     "output_type": "stream",
     "text": [
      "bone-china-038\n",
      "Does this patient have T2 available? True\n",
      "I'm doing the thing.\n",
      "bone-china-160\n",
      "Does this patient have T2 available? True\n",
      "I'm doing the thing.\n"
     ]
    },
    {
     "name": "stderr",
     "output_type": "stream",
     "text": [
      " 10%|█         | 71/708 [00:16<01:58,  5.36it/s]"
     ]
    },
    {
     "name": "stdout",
     "output_type": "stream",
     "text": [
      "bone-china-132\n",
      "Does this patient have T2 available? True\n",
      "I'm doing the thing.\n",
      "bone-penn-90\n",
      "Does this patient have T2 available? True\n",
      "I'm doing the thing.\n"
     ]
    },
    {
     "name": "stderr",
     "output_type": "stream",
     "text": [
      " 10%|█         | 73/708 [00:17<01:48,  5.86it/s]"
     ]
    },
    {
     "name": "stdout",
     "output_type": "stream",
     "text": [
      "bone-china-133\n",
      "Does this patient have T2 available? True\n",
      "I'm doing the thing.\n",
      "bone-china-124\n",
      "Does this patient have T2 available? True\n",
      "I'm doing the thing.\n"
     ]
    },
    {
     "name": "stderr",
     "output_type": "stream",
     "text": [
      " 11%|█         | 75/708 [00:17<01:52,  5.65it/s]"
     ]
    },
    {
     "name": "stdout",
     "output_type": "stream",
     "text": [
      "bone-china-008\n",
      "Does this patient have T2 available? True\n",
      "I'm doing the thing.\n",
      "bone-penn-284\n",
      "Does this patient have T2 available? False\n",
      "T2 image unavailable\n",
      "bone-penn-552\n",
      "Does this patient have T2 available? False\n",
      "T2 image unavailable\n",
      "bone-hup-297\n",
      "Does this patient have T2 available? True\n",
      "I'm doing the thing.\n"
     ]
    },
    {
     "name": "stderr",
     "output_type": "stream",
     "text": [
      "\r",
      " 11%|█         | 78/708 [00:18<02:24,  4.36it/s]"
     ]
    },
    {
     "name": "stdout",
     "output_type": "stream",
     "text": [
      "bone-penn-83\n",
      "Does this patient have T2 available? True\n",
      "I'm doing the thing.\n"
     ]
    },
    {
     "name": "stderr",
     "output_type": "stream",
     "text": [
      " 11%|█▏        | 81/708 [00:18<02:05,  5.01it/s]"
     ]
    },
    {
     "name": "stdout",
     "output_type": "stream",
     "text": [
      "bone-penn-89\n",
      "Does this patient have T2 available? False\n",
      "T2 image unavailable\n",
      "bone-china-060\n",
      "Does this patient have T2 available? True\n",
      "I'm doing the thing.\n"
     ]
    },
    {
     "name": "stderr",
     "output_type": "stream",
     "text": [
      "\r",
      " 12%|█▏        | 82/708 [00:19<02:04,  5.02it/s]"
     ]
    },
    {
     "name": "stdout",
     "output_type": "stream",
     "text": [
      "bone-penn-471\n",
      "Does this patient have T2 available? True\n",
      "I'm doing the thing.\n",
      "bone-penn-317\n",
      "Does this patient have T2 available? True\n",
      "I'm doing the thing.\n"
     ]
    },
    {
     "name": "stderr",
     "output_type": "stream",
     "text": [
      "\r",
      " 12%|█▏        | 83/708 [00:19<01:57,  5.32it/s]"
     ]
    },
    {
     "name": "stdout",
     "output_type": "stream",
     "text": [
      "bone-penn-150\n",
      "Does this patient have T2 available? True\n",
      "I'm doing the thing.\n"
     ]
    },
    {
     "name": "stderr",
     "output_type": "stream",
     "text": [
      "\r",
      " 12%|█▏        | 84/708 [00:19<02:16,  4.58it/s]"
     ]
    },
    {
     "name": "stdout",
     "output_type": "stream",
     "text": [
      "bone-penn-332\n",
      "Does this patient have T2 available? True\n",
      "I'm doing the thing.\n"
     ]
    },
    {
     "name": "stderr",
     "output_type": "stream",
     "text": [
      " 12%|█▏        | 86/708 [00:20<02:22,  4.36it/s]"
     ]
    },
    {
     "name": "stdout",
     "output_type": "stream",
     "text": [
      "bone-china-023\n",
      "Does this patient have T2 available? True\n",
      "I'm doing the thing.\n",
      "bone-china-162\n",
      "Does this patient have T2 available? True\n",
      "I'm doing the thing.\n",
      "bone-penn-525\n",
      "Does this patient have T2 available? True\n",
      "I'm doing the thing.\n"
     ]
    },
    {
     "name": "stderr",
     "output_type": "stream",
     "text": [
      "\r",
      " 12%|█▏        | 88/708 [00:21<03:04,  3.36it/s]"
     ]
    },
    {
     "name": "stdout",
     "output_type": "stream",
     "text": [
      "\n",
      "################################################################################\n",
      "Exception occurred for: outcome_pos   0.000\n",
      "outcome_neg   1.000\n",
      "outcome_3     1.000\n",
      "sort              -\n",
      "volume        0.140\n",
      "Name: bone-penn-525, dtype: object\n",
      "index 161 is out of bounds for axis 0 with size 2\n",
      "T2 image unavailable\n",
      "Traceback (most recent call last):\n",
      "  File \"/home/user1/Documents/Bone-MRI/data_gen.py\", line 392, in generate_from_features\n",
      "    t2_masked = load_image(t2_image_file, t2_seg_file, verbose=verbose)\n",
      "  File \"/home/user1/Documents/Bone-MRI/data_gen.py\", line 331, in load_image\n",
      "    return [mask_image_percentile(image, segmentation, 100, a) for a in (0, 1, 2)]\n",
      "  File \"/home/user1/Documents/Bone-MRI/data_gen.py\", line 331, in <listcomp>\n",
      "    return [mask_image_percentile(image, segmentation, 100, a) for a in (0, 1, 2)]\n",
      "  File \"/home/user1/Documents/Bone-MRI/data_gen.py\", line 335, in mask_image_percentile\n",
      "    image, segmentation = select_slice(image, segmentation, plane, axis)\n",
      "  File \"/home/user1/Documents/Bone-MRI/segmentation.py\", line 40, in select_slice\n",
      "    image = axis_plane[axis](image, plane)\n",
      "  File \"/home/user1/Documents/Bone-MRI/segmentation.py\", line 13, in <lambda>\n",
      "    0: lambda image, plane : image[plane, :, :],\n",
      "IndexError: index 161 is out of bounds for axis 0 with size 2\n",
      "\n",
      "bone-penn-113\n",
      "Does this patient have T2 available? True\n",
      "I'm doing the thing.\n",
      "bone-penn-274\n",
      "Does this patient have T2 available? True\n",
      "I'm doing the thing.\n"
     ]
    },
    {
     "name": "stderr",
     "output_type": "stream",
     "text": [
      " 13%|█▎        | 91/708 [00:22<02:52,  3.58it/s]"
     ]
    },
    {
     "name": "stdout",
     "output_type": "stream",
     "text": [
      "bone-china-051\n",
      "Does this patient have T2 available? True\n",
      "I'm doing the thing.\n",
      "bone-china-126\n",
      "Does this patient have T2 available? True\n",
      "I'm doing the thing.\n"
     ]
    },
    {
     "name": "stderr",
     "output_type": "stream",
     "text": [
      "\r",
      " 13%|█▎        | 92/708 [00:22<02:42,  3.78it/s]"
     ]
    },
    {
     "name": "stdout",
     "output_type": "stream",
     "text": [
      "bone-penn-497\n",
      "Does this patient have T2 available? True\n",
      "I'm doing the thing.\n",
      "bone-penn-630\n",
      "Does this patient have T2 available? True\n",
      "I'm doing the thing.\n"
     ]
    },
    {
     "name": "stderr",
     "output_type": "stream",
     "text": [
      " 13%|█▎        | 95/708 [00:22<02:17,  4.47it/s]"
     ]
    },
    {
     "name": "stdout",
     "output_type": "stream",
     "text": [
      "bone-penn-282\n",
      "Does this patient have T2 available? True\n",
      "I'm doing the thing.\n",
      "bone-penn-291\n",
      "Does this patient have T2 available? True\n",
      "I'm doing the thing.\n"
     ]
    },
    {
     "name": "stderr",
     "output_type": "stream",
     "text": [
      "\r",
      " 14%|█▎        | 96/708 [00:22<02:05,  4.87it/s]"
     ]
    },
    {
     "name": "stdout",
     "output_type": "stream",
     "text": [
      "bone-penn-100\n",
      "Does this patient have T2 available? False\n",
      "T2 image unavailable\n",
      "bone-penn-570\n",
      "Does this patient have T2 available? False\n",
      "T2 image unavailable\n",
      "bone-penn-480\n",
      "Does this patient have T2 available? True\n",
      "I'm doing the thing.\n"
     ]
    },
    {
     "name": "stderr",
     "output_type": "stream",
     "text": [
      "\r",
      " 14%|█▍        | 99/708 [00:23<01:45,  5.76it/s]"
     ]
    },
    {
     "name": "stdout",
     "output_type": "stream",
     "text": [
      "bone-penn-536\n",
      "Does this patient have T2 available? True\n",
      "I'm doing the thing.\n"
     ]
    },
    {
     "name": "stderr",
     "output_type": "stream",
     "text": [
      "\r",
      " 14%|█▍        | 100/708 [00:23<02:29,  4.06it/s]"
     ]
    },
    {
     "name": "stdout",
     "output_type": "stream",
     "text": [
      "bone-penn-520\n",
      "Does this patient have T2 available? True\n",
      "I'm doing the thing.\n"
     ]
    },
    {
     "name": "stderr",
     "output_type": "stream",
     "text": [
      "\r",
      " 14%|█▍        | 101/708 [00:23<02:24,  4.21it/s]"
     ]
    },
    {
     "name": "stdout",
     "output_type": "stream",
     "text": [
      "bone-hup-119\n",
      "Does this patient have T2 available? True\n",
      "I'm doing the thing.\n"
     ]
    },
    {
     "name": "stderr",
     "output_type": "stream",
     "text": [
      "\r",
      " 14%|█▍        | 102/708 [00:24<02:19,  4.33it/s]"
     ]
    },
    {
     "name": "stdout",
     "output_type": "stream",
     "text": [
      "bone-penn-82\n",
      "Does this patient have T2 available? True\n",
      "I'm doing the thing.\n"
     ]
    },
    {
     "name": "stderr",
     "output_type": "stream",
     "text": [
      " 15%|█▍        | 104/708 [00:24<02:26,  4.11it/s]"
     ]
    },
    {
     "name": "stdout",
     "output_type": "stream",
     "text": [
      "bone-china-107\n",
      "Does this patient have T2 available? True\n",
      "I'm doing the thing.\n",
      "bone-penn-327\n",
      "Does this patient have T2 available? True\n",
      "I'm doing the thing.\n"
     ]
    },
    {
     "name": "stderr",
     "output_type": "stream",
     "text": [
      " 15%|█▍        | 106/708 [00:25<03:12,  3.12it/s]"
     ]
    },
    {
     "name": "stdout",
     "output_type": "stream",
     "text": [
      "bone-penn-109\n",
      "Does this patient have T2 available? True\n",
      "I'm doing the thing.\n",
      "bone-hup-125\n",
      "Does this patient have T2 available? True\n",
      "I'm doing the thing.\n"
     ]
    },
    {
     "name": "stderr",
     "output_type": "stream",
     "text": [
      " 15%|█▌        | 108/708 [00:25<02:24,  4.14it/s]"
     ]
    },
    {
     "name": "stdout",
     "output_type": "stream",
     "text": [
      "bone-hup-257\n",
      "Does this patient have T2 available? True\n",
      "I'm doing the thing.\n",
      "bone-hup-269\n",
      "Does this patient have T2 available? True\n",
      "I'm doing the thing.\n"
     ]
    },
    {
     "name": "stderr",
     "output_type": "stream",
     "text": [
      "\r",
      " 15%|█▌        | 109/708 [00:26<02:29,  4.01it/s]"
     ]
    },
    {
     "name": "stdout",
     "output_type": "stream",
     "text": [
      "bone-penn-312\n",
      "Does this patient have T2 available? True\n",
      "I'm doing the thing.\n"
     ]
    },
    {
     "name": "stderr",
     "output_type": "stream",
     "text": [
      " 16%|█▌        | 112/708 [00:27<03:01,  3.28it/s]"
     ]
    },
    {
     "name": "stdout",
     "output_type": "stream",
     "text": [
      "bone-penn-136\n",
      "Does this patient have T2 available? False\n",
      "T2 image unavailable\n",
      "bone-penn-382\n",
      "Does this patient have T2 available? True\n",
      "I'm doing the thing.\n",
      "bone-penn-108\n",
      "Does this patient have T2 available? True\n",
      "I'm doing the thing.\n"
     ]
    },
    {
     "name": "stderr",
     "output_type": "stream",
     "text": [
      " 16%|█▌        | 114/708 [00:27<03:21,  2.94it/s]"
     ]
    },
    {
     "name": "stdout",
     "output_type": "stream",
     "text": [
      "bone-hup-155\n",
      "Does this patient have T2 available? True\n",
      "I'm doing the thing.\n",
      "bone-china-129\n",
      "Does this patient have T2 available? True\n",
      "I'm doing the thing.\n"
     ]
    },
    {
     "name": "stderr",
     "output_type": "stream",
     "text": [
      " 16%|█▋        | 116/708 [00:28<02:24,  4.10it/s]"
     ]
    },
    {
     "name": "stdout",
     "output_type": "stream",
     "text": [
      "bone-china-068\n",
      "Does this patient have T2 available? True\n",
      "I'm doing the thing.\n",
      "bone-penn-548\n",
      "Does this patient have T2 available? True\n",
      "I'm doing the thing.\n"
     ]
    },
    {
     "name": "stderr",
     "output_type": "stream",
     "text": [
      " 17%|█▋        | 118/708 [00:28<02:22,  4.15it/s]"
     ]
    },
    {
     "name": "stdout",
     "output_type": "stream",
     "text": [
      "bone-china-170\n",
      "Does this patient have T2 available? True\n",
      "I'm doing the thing.\n",
      "bone-china-075\n",
      "Does this patient have T2 available? True\n",
      "I'm doing the thing.\n"
     ]
    },
    {
     "name": "stderr",
     "output_type": "stream",
     "text": [
      "\r",
      " 17%|█▋        | 119/708 [00:28<02:00,  4.89it/s]"
     ]
    },
    {
     "name": "stdout",
     "output_type": "stream",
     "text": [
      "bone-penn-453\n",
      "Does this patient have T2 available? True\n",
      "I'm doing the thing.\n"
     ]
    },
    {
     "name": "stderr",
     "output_type": "stream",
     "text": [
      "\r",
      " 17%|█▋        | 120/708 [00:29<02:44,  3.58it/s]"
     ]
    },
    {
     "name": "stdout",
     "output_type": "stream",
     "text": [
      "bone-penn-588\n",
      "Does this patient have T2 available? True\n",
      "I'm doing the thing.\n"
     ]
    },
    {
     "name": "stderr",
     "output_type": "stream",
     "text": [
      " 17%|█▋        | 122/708 [00:29<02:45,  3.55it/s]"
     ]
    },
    {
     "name": "stdout",
     "output_type": "stream",
     "text": [
      "bone-penn-549\n",
      "Does this patient have T2 available? True\n",
      "I'm doing the thing.\n",
      "bone-penn-302\n",
      "Does this patient have T2 available? False\n",
      "T2 image unavailable\n",
      "bone-penn-484\n",
      "Does this patient have T2 available? True\n",
      "I'm doing the thing.\n"
     ]
    },
    {
     "name": "stderr",
     "output_type": "stream",
     "text": [
      " 18%|█▊        | 125/708 [00:30<02:07,  4.58it/s]"
     ]
    },
    {
     "name": "stdout",
     "output_type": "stream",
     "text": [
      "bone-china-010\n",
      "Does this patient have T2 available? True\n",
      "I'm doing the thing.\n",
      "bone-penn-385\n",
      "Does this patient have T2 available? True\n",
      "I'm doing the thing.\n"
     ]
    },
    {
     "name": "stderr",
     "output_type": "stream",
     "text": [
      " 18%|█▊        | 127/708 [00:31<02:33,  3.79it/s]"
     ]
    },
    {
     "name": "stdout",
     "output_type": "stream",
     "text": [
      "bone-china-175\n",
      "Does this patient have T2 available? True\n",
      "I'm doing the thing.\n",
      "bone-penn-584\n",
      "Does this patient have T2 available? True\n",
      "I'm doing the thing.\n"
     ]
    },
    {
     "name": "stderr",
     "output_type": "stream",
     "text": [
      "\r",
      " 18%|█▊        | 128/708 [00:31<02:10,  4.46it/s]"
     ]
    },
    {
     "name": "stdout",
     "output_type": "stream",
     "text": [
      "\n",
      "################################################################################\n",
      "Exception occurred for: outcome_pos   0.000\n",
      "outcome_neg   1.000\n",
      "outcome_3     1.000\n",
      "sort              -\n",
      "volume        0.145\n",
      "Name: bone-penn-584, dtype: object\n",
      "operands could not be broadcast together with shapes (255,20) (318,20) \n",
      "T2 image unavailable\n",
      "Traceback (most recent call last):\n",
      "  File \"/home/user1/Documents/Bone-MRI/data_gen.py\", line 392, in generate_from_features\n",
      "    t2_masked = load_image(t2_image_file, t2_seg_file, verbose=verbose)\n",
      "  File \"/home/user1/Documents/Bone-MRI/data_gen.py\", line 331, in load_image\n",
      "    return [mask_image_percentile(image, segmentation, 100, a) for a in (0, 1, 2)]\n",
      "  File \"/home/user1/Documents/Bone-MRI/data_gen.py\", line 331, in <listcomp>\n",
      "    return [mask_image_percentile(image, segmentation, 100, a) for a in (0, 1, 2)]\n",
      "  File \"/home/user1/Documents/Bone-MRI/data_gen.py\", line 340, in mask_image_percentile\n",
      "    masked = image * segmentation\n",
      "ValueError: operands could not be broadcast together with shapes (255,20) (318,20) \n",
      "\n",
      "bone-hup-324\n",
      "Does this patient have T2 available? True\n",
      "I'm doing the thing.\n"
     ]
    },
    {
     "name": "stderr",
     "output_type": "stream",
     "text": [
      "\r",
      " 18%|█▊        | 129/708 [00:31<03:01,  3.19it/s]"
     ]
    },
    {
     "name": "stdout",
     "output_type": "stream",
     "text": [
      "bone-penn-485\n",
      "Does this patient have T2 available? True\n",
      "I'm doing the thing.\n"
     ]
    },
    {
     "name": "stderr",
     "output_type": "stream",
     "text": [
      "\r",
      " 18%|█▊        | 130/708 [00:32<03:33,  2.71it/s]"
     ]
    },
    {
     "name": "stdout",
     "output_type": "stream",
     "text": [
      "bone-penn-129\n",
      "Does this patient have T2 available? False\n",
      "T2 image unavailable\n",
      "bone-hup-272\n",
      "Does this patient have T2 available? True\n",
      "I'm doing the thing.\n"
     ]
    },
    {
     "name": "stderr",
     "output_type": "stream",
     "text": [
      "\r",
      " 19%|█▊        | 132/708 [00:32<03:17,  2.91it/s]"
     ]
    },
    {
     "name": "stdout",
     "output_type": "stream",
     "text": [
      "bone-hup-316\n",
      "Does this patient have T2 available? True\n",
      "I'm doing the thing.\n"
     ]
    },
    {
     "name": "stderr",
     "output_type": "stream",
     "text": [
      " 19%|█▉        | 134/708 [00:33<02:41,  3.55it/s]"
     ]
    },
    {
     "name": "stdout",
     "output_type": "stream",
     "text": [
      "bone-penn-280\n",
      "Does this patient have T2 available? True\n",
      "I'm doing the thing.\n",
      "bone-china-078\n",
      "Does this patient have T2 available? True\n",
      "I'm doing the thing.\n"
     ]
    },
    {
     "name": "stderr",
     "output_type": "stream",
     "text": [
      " 19%|█▉        | 136/708 [00:33<02:05,  4.56it/s]"
     ]
    },
    {
     "name": "stdout",
     "output_type": "stream",
     "text": [
      "bone-penn-93\n",
      "Does this patient have T2 available? True\n",
      "I'm doing the thing.\n",
      "bone-china-026\n",
      "Does this patient have T2 available? True\n",
      "I'm doing the thing.\n"
     ]
    },
    {
     "name": "stderr",
     "output_type": "stream",
     "text": [
      "\r",
      " 19%|█▉        | 137/708 [00:33<01:49,  5.22it/s]"
     ]
    },
    {
     "name": "stdout",
     "output_type": "stream",
     "text": [
      "bone-penn-110\n",
      "Does this patient have T2 available? True\n",
      "I'm doing the thing.\n"
     ]
    },
    {
     "name": "stderr",
     "output_type": "stream",
     "text": [
      "\r",
      " 19%|█▉        | 138/708 [00:34<02:25,  3.93it/s]"
     ]
    },
    {
     "name": "stdout",
     "output_type": "stream",
     "text": [
      "bone-penn-289\n",
      "Does this patient have T2 available? True\n",
      "I'm doing the thing.\n"
     ]
    },
    {
     "name": "stderr",
     "output_type": "stream",
     "text": [
      "\r",
      " 20%|█▉        | 139/708 [00:34<02:40,  3.55it/s]"
     ]
    },
    {
     "name": "stdout",
     "output_type": "stream",
     "text": [
      "bone-china-011\n",
      "Does this patient have T2 available? True\n",
      "I'm doing the thing.\n"
     ]
    },
    {
     "name": "stderr",
     "output_type": "stream",
     "text": [
      "\r",
      " 20%|█▉        | 140/708 [00:34<02:31,  3.76it/s]"
     ]
    },
    {
     "name": "stdout",
     "output_type": "stream",
     "text": [
      "bone-penn-491\n",
      "Does this patient have T2 available? True\n",
      "I'm doing the thing.\n"
     ]
    },
    {
     "name": "stderr",
     "output_type": "stream",
     "text": [
      " 20%|██        | 143/708 [00:35<01:51,  5.05it/s]"
     ]
    },
    {
     "name": "stdout",
     "output_type": "stream",
     "text": [
      "bone-hup-159\n",
      "Does this patient have T2 available? False\n",
      "T2 image unavailable\n",
      "bone-china-069\n",
      "Does this patient have T2 available? True\n",
      "I'm doing the thing.\n",
      "bone-hup-320\n",
      "Does this patient have T2 available? True\n",
      "I'm doing the thing.\n"
     ]
    },
    {
     "name": "stderr",
     "output_type": "stream",
     "text": [
      "\r",
      " 20%|██        | 144/708 [00:35<03:29,  2.69it/s]"
     ]
    },
    {
     "name": "stdout",
     "output_type": "stream",
     "text": [
      "bone-hup-275\n",
      "Does this patient have T2 available? True\n",
      "I'm doing the thing.\n"
     ]
    },
    {
     "name": "stderr",
     "output_type": "stream",
     "text": [
      " 21%|██        | 146/708 [00:37<04:07,  2.27it/s]"
     ]
    },
    {
     "name": "stdout",
     "output_type": "stream",
     "text": [
      "bone-china-089\n",
      "Does this patient have T2 available? True\n",
      "I'm doing the thing.\n",
      "bone-penn-151\n",
      "Does this patient have T2 available? True\n",
      "I'm doing the thing.\n"
     ]
    },
    {
     "name": "stderr",
     "output_type": "stream",
     "text": [
      "\r",
      " 21%|██        | 147/708 [00:37<05:26,  1.72it/s]"
     ]
    },
    {
     "name": "stdout",
     "output_type": "stream",
     "text": [
      "bone-hup-265\n",
      "Does this patient have T2 available? True\n",
      "I'm doing the thing.\n"
     ]
    },
    {
     "name": "stderr",
     "output_type": "stream",
     "text": [
      "\r",
      " 21%|██        | 148/708 [00:38<04:30,  2.07it/s]"
     ]
    },
    {
     "name": "stdout",
     "output_type": "stream",
     "text": [
      "bone-penn-96\n",
      "Does this patient have T2 available? True\n",
      "I'm doing the thing.\n"
     ]
    },
    {
     "name": "stderr",
     "output_type": "stream",
     "text": [
      "\r",
      " 21%|██        | 149/708 [00:38<05:23,  1.73it/s]"
     ]
    },
    {
     "name": "stdout",
     "output_type": "stream",
     "text": [
      "bone-penn-133\n",
      "Does this patient have T2 available? False\n",
      "T2 image unavailable\n",
      "bone-penn-158\n",
      "Does this patient have T2 available? False\n",
      "T2 image unavailable\n",
      "bone-china-079\n",
      "Does this patient have T2 available? True\n",
      "I'm doing the thing.\n"
     ]
    },
    {
     "name": "stderr",
     "output_type": "stream",
     "text": [
      " 22%|██▏       | 153/708 [00:39<03:10,  2.91it/s]"
     ]
    },
    {
     "name": "stdout",
     "output_type": "stream",
     "text": [
      "bone-china-077\n",
      "Does this patient have T2 available? True\n",
      "I'm doing the thing.\n",
      "bone-penn-575\n",
      "Does this patient have T2 available? True\n",
      "I'm doing the thing.\n"
     ]
    },
    {
     "name": "stderr",
     "output_type": "stream",
     "text": [
      " 22%|██▏       | 156/708 [00:39<02:39,  3.47it/s]"
     ]
    },
    {
     "name": "stdout",
     "output_type": "stream",
     "text": [
      "bone-hup-161\n",
      "Does this patient have T2 available? True\n",
      "I'm doing the thing.\n",
      "bone-china-055\n",
      "Does this patient have T2 available? True\n",
      "I'm doing the thing.\n",
      "bone-penn-530\n",
      "Does this patient have T2 available? True\n",
      "I'm doing the thing.\n"
     ]
    },
    {
     "name": "stderr",
     "output_type": "stream",
     "text": [
      " 22%|██▏       | 158/708 [00:40<01:55,  4.76it/s]"
     ]
    },
    {
     "name": "stdout",
     "output_type": "stream",
     "text": [
      "bone-china-163\n",
      "Does this patient have T2 available? True\n",
      "I'm doing the thing.\n",
      "bone-penn-349\n",
      "Does this patient have T2 available? True\n",
      "I'm doing the thing.\n"
     ]
    },
    {
     "name": "stderr",
     "output_type": "stream",
     "text": [
      " 23%|██▎       | 160/708 [00:40<01:47,  5.09it/s]"
     ]
    },
    {
     "name": "stdout",
     "output_type": "stream",
     "text": [
      "bone-china-073\n",
      "Does this patient have T2 available? True\n",
      "I'm doing the thing.\n",
      "bone-penn-325\n",
      "Does this patient have T2 available? True\n",
      "I'm doing the thing.\n"
     ]
    },
    {
     "name": "stderr",
     "output_type": "stream",
     "text": [
      " 23%|██▎       | 162/708 [00:40<01:43,  5.26it/s]"
     ]
    },
    {
     "name": "stdout",
     "output_type": "stream",
     "text": [
      "bone-penn-155\n",
      "Does this patient have T2 available? True\n",
      "I'm doing the thing.\n",
      "bone-china-154\n",
      "Does this patient have T2 available? True\n",
      "I'm doing the thing.\n"
     ]
    },
    {
     "name": "stderr",
     "output_type": "stream",
     "text": [
      "\r",
      " 23%|██▎       | 164/708 [00:41<01:26,  6.26it/s]"
     ]
    },
    {
     "name": "stdout",
     "output_type": "stream",
     "text": [
      "bone-china-066\n",
      "Does this patient have T2 available? True\n",
      "I'm doing the thing.\n",
      "bone-hup-158\n",
      "Does this patient have T2 available? True\n",
      "I'm doing the thing.\n"
     ]
    },
    {
     "name": "stderr",
     "output_type": "stream",
     "text": [
      " 23%|██▎       | 166/708 [00:41<01:42,  5.26it/s]"
     ]
    },
    {
     "name": "stdout",
     "output_type": "stream",
     "text": [
      "bone-penn-498\n",
      "Does this patient have T2 available? True\n",
      "I'm doing the thing.\n",
      "bone-penn-285\n",
      "Does this patient have T2 available? True\n",
      "I'm doing the thing.\n"
     ]
    },
    {
     "name": "stderr",
     "output_type": "stream",
     "text": [
      "\r",
      " 24%|██▎       | 167/708 [00:42<02:40,  3.37it/s]"
     ]
    },
    {
     "name": "stdout",
     "output_type": "stream",
     "text": [
      "bone-penn-84\n",
      "Does this patient have T2 available? True\n",
      "I'm doing the thing.\n"
     ]
    },
    {
     "name": "stderr",
     "output_type": "stream",
     "text": [
      "\r",
      " 24%|██▎       | 168/708 [00:42<03:00,  2.99it/s]"
     ]
    },
    {
     "name": "stdout",
     "output_type": "stream",
     "text": [
      "bone-hup-312\n",
      "Does this patient have T2 available? True\n",
      "I'm doing the thing.\n"
     ]
    },
    {
     "name": "stderr",
     "output_type": "stream",
     "text": [
      "\r",
      " 24%|██▍       | 169/708 [00:42<02:46,  3.24it/s]"
     ]
    },
    {
     "name": "stdout",
     "output_type": "stream",
     "text": [
      "bone-penn-296\n",
      "Does this patient have T2 available? True\n",
      "I'm doing the thing.\n"
     ]
    },
    {
     "name": "stderr",
     "output_type": "stream",
     "text": [
      "\r",
      " 24%|██▍       | 170/708 [00:43<02:52,  3.11it/s]"
     ]
    },
    {
     "name": "stdout",
     "output_type": "stream",
     "text": [
      "bone-hup-322\n",
      "Does this patient have T2 available? True\n",
      "I'm doing the thing.\n"
     ]
    },
    {
     "name": "stderr",
     "output_type": "stream",
     "text": [
      "\r",
      " 24%|██▍       | 171/708 [00:43<03:04,  2.91it/s]"
     ]
    },
    {
     "name": "stdout",
     "output_type": "stream",
     "text": [
      "bone-penn-435\n",
      "Does this patient have T2 available? True\n",
      "I'm doing the thing.\n"
     ]
    },
    {
     "name": "stderr",
     "output_type": "stream",
     "text": [
      " 24%|██▍       | 173/708 [00:44<02:21,  3.77it/s]"
     ]
    },
    {
     "name": "stdout",
     "output_type": "stream",
     "text": [
      "bone-penn-572\n",
      "Does this patient have T2 available? True\n",
      "I'm doing the thing.\n",
      "bone-penn-101\n",
      "Does this patient have T2 available? True\n",
      "I'm doing the thing.\n"
     ]
    },
    {
     "name": "stderr",
     "output_type": "stream",
     "text": [
      " 25%|██▍       | 175/708 [00:44<02:01,  4.38it/s]"
     ]
    },
    {
     "name": "stdout",
     "output_type": "stream",
     "text": [
      "bone-china-147\n",
      "Does this patient have T2 available? True\n",
      "I'm doing the thing.\n",
      "bone-penn-321\n",
      "Does this patient have T2 available? False\n",
      "T2 image unavailable\n",
      "bone-penn-573\n",
      "Does this patient have T2 available? False\n",
      "T2 image unavailable\n",
      "bone-penn-580\n",
      "Does this patient have T2 available? False\n",
      "T2 image unavailable\n",
      "bone-hup-299\n",
      "Does this patient have T2 available? True\n",
      "I'm doing the thing.\n"
     ]
    },
    {
     "name": "stderr",
     "output_type": "stream",
     "text": [
      "\r",
      " 25%|██▌       | 179/708 [00:44<01:31,  5.77it/s]"
     ]
    },
    {
     "name": "stdout",
     "output_type": "stream",
     "text": [
      "bone-penn-462\n",
      "Does this patient have T2 available? True\n",
      "I'm doing the thing.\n"
     ]
    },
    {
     "name": "stderr",
     "output_type": "stream",
     "text": [
      "\r",
      " 26%|██▌       | 181/708 [00:45<01:37,  5.40it/s]"
     ]
    },
    {
     "name": "stdout",
     "output_type": "stream",
     "text": [
      "bone-penn-153\n",
      "Does this patient have T2 available? False\n",
      "T2 image unavailable\n",
      "bone-penn-521\n",
      "Does this patient have T2 available? True\n",
      "I'm doing the thing.\n"
     ]
    },
    {
     "name": "stderr",
     "output_type": "stream",
     "text": [
      "\r",
      " 26%|██▌       | 182/708 [00:46<03:43,  2.35it/s]"
     ]
    },
    {
     "name": "stdout",
     "output_type": "stream",
     "text": [
      "bone-china-086\n",
      "Does this patient have T2 available? True\n",
      "I'm doing the thing.\n"
     ]
    },
    {
     "name": "stderr",
     "output_type": "stream",
     "text": [
      " 26%|██▌       | 184/708 [00:46<02:32,  3.43it/s]"
     ]
    },
    {
     "name": "stdout",
     "output_type": "stream",
     "text": [
      "bone-penn-333\n",
      "Does this patient have T2 available? True\n",
      "I'm doing the thing.\n",
      "bone-penn-455\n",
      "Does this patient have T2 available? True\n",
      "I'm doing the thing.\n"
     ]
    },
    {
     "name": "stderr",
     "output_type": "stream",
     "text": [
      " 26%|██▋       | 186/708 [00:46<02:27,  3.54it/s]"
     ]
    },
    {
     "name": "stdout",
     "output_type": "stream",
     "text": [
      "bone-penn-417\n",
      "Does this patient have T2 available? True\n",
      "I'm doing the thing.\n",
      "bone-penn-591\n",
      "Does this patient have T2 available? True\n",
      "I'm doing the thing.\n"
     ]
    },
    {
     "name": "stderr",
     "output_type": "stream",
     "text": [
      " 27%|██▋       | 188/708 [00:47<02:24,  3.61it/s]"
     ]
    },
    {
     "name": "stdout",
     "output_type": "stream",
     "text": [
      "bone-china-138\n",
      "Does this patient have T2 available? True\n",
      "I'm doing the thing.\n",
      "bone-china-112\n",
      "Does this patient have T2 available? True\n",
      "I'm doing the thing.\n"
     ]
    },
    {
     "name": "stderr",
     "output_type": "stream",
     "text": [
      " 27%|██▋       | 191/708 [00:47<01:35,  5.44it/s]"
     ]
    },
    {
     "name": "stdout",
     "output_type": "stream",
     "text": [
      "bone-china-097\n",
      "Does this patient have T2 available? False\n",
      "T2 image unavailable\n",
      "bone-china-065\n",
      "Does this patient have T2 available? True\n",
      "I'm doing the thing.\n",
      "bone-penn-421\n",
      "Does this patient have T2 available? True\n",
      "I'm doing the thing.\n"
     ]
    },
    {
     "name": "stderr",
     "output_type": "stream",
     "text": [
      "\r",
      " 27%|██▋       | 192/708 [00:48<02:05,  4.12it/s]"
     ]
    },
    {
     "name": "stdout",
     "output_type": "stream",
     "text": [
      "bone-penn-148\n",
      "Does this patient have T2 available? True\n",
      "I'm doing the thing.\n"
     ]
    },
    {
     "name": "stderr",
     "output_type": "stream",
     "text": [
      "\r",
      " 27%|██▋       | 193/708 [00:48<02:07,  4.05it/s]"
     ]
    },
    {
     "name": "stdout",
     "output_type": "stream",
     "text": [
      "bone-hup-308\n",
      "Does this patient have T2 available? True\n",
      "I'm doing the thing.\n"
     ]
    },
    {
     "name": "stderr",
     "output_type": "stream",
     "text": [
      " 28%|██▊       | 195/708 [00:48<01:57,  4.36it/s]"
     ]
    },
    {
     "name": "stdout",
     "output_type": "stream",
     "text": [
      "bone-china-145\n",
      "Does this patient have T2 available? True\n",
      "I'm doing the thing.\n",
      "bone-penn-152\n",
      "Does this patient have T2 available? True\n",
      "I'm doing the thing.\n"
     ]
    },
    {
     "name": "stderr",
     "output_type": "stream",
     "text": [
      " 28%|██▊       | 197/708 [00:49<01:53,  4.52it/s]"
     ]
    },
    {
     "name": "stdout",
     "output_type": "stream",
     "text": [
      "bone-penn-586\n",
      "Does this patient have T2 available? True\n",
      "I'm doing the thing.\n",
      "bone-hup-152\n",
      "Does this patient have T2 available? True\n",
      "I'm doing the thing.\n"
     ]
    },
    {
     "name": "stderr",
     "output_type": "stream",
     "text": [
      " 28%|██▊       | 199/708 [00:49<01:48,  4.70it/s]"
     ]
    },
    {
     "name": "stdout",
     "output_type": "stream",
     "text": [
      "bone-china-143\n",
      "Does this patient have T2 available? True\n",
      "I'm doing the thing.\n",
      "bone-china-139\n",
      "Does this patient have T2 available? True\n",
      "I'm doing the thing.\n"
     ]
    },
    {
     "name": "stderr",
     "output_type": "stream",
     "text": [
      "\r",
      " 28%|██▊       | 200/708 [00:49<01:45,  4.81it/s]"
     ]
    },
    {
     "name": "stdout",
     "output_type": "stream",
     "text": [
      "bone-hup-150\n",
      "Does this patient have T2 available? True\n",
      "I'm doing the thing.\n"
     ]
    },
    {
     "name": "stderr",
     "output_type": "stream",
     "text": [
      "\r",
      " 28%|██▊       | 201/708 [00:50<01:55,  4.38it/s]"
     ]
    },
    {
     "name": "stdout",
     "output_type": "stream",
     "text": [
      "bone-hup-298\n",
      "Does this patient have T2 available? True\n",
      "I'm doing the thing.\n",
      "bone-china-127\n",
      "Does this patient have T2 available? True\n",
      "I'm doing the thing.\n"
     ]
    },
    {
     "name": "stderr",
     "output_type": "stream",
     "text": [
      " 29%|██▉       | 205/708 [00:50<01:20,  6.22it/s]"
     ]
    },
    {
     "name": "stdout",
     "output_type": "stream",
     "text": [
      "bone-china-052\n",
      "Does this patient have T2 available? True\n",
      "I'm doing the thing.\n",
      "bone-china-053\n",
      "Does this patient have T2 available? True\n",
      "I'm doing the thing.\n",
      "bone-hup-329\n",
      "Does this patient have T2 available? True\n",
      "I'm doing the thing.\n"
     ]
    },
    {
     "name": "stderr",
     "output_type": "stream",
     "text": [
      " 29%|██▉       | 207/708 [00:51<01:53,  4.42it/s]"
     ]
    },
    {
     "name": "stdout",
     "output_type": "stream",
     "text": [
      "bone-penn-104\n",
      "Does this patient have T2 available? True\n",
      "I'm doing the thing.\n",
      "bone-penn-556\n",
      "Does this patient have T2 available? True\n",
      "I'm doing the thing.\n"
     ]
    },
    {
     "name": "stderr",
     "output_type": "stream",
     "text": [
      " 30%|██▉       | 209/708 [00:51<01:46,  4.68it/s]"
     ]
    },
    {
     "name": "stdout",
     "output_type": "stream",
     "text": [
      "bone-china-148\n",
      "Does this patient have T2 available? True\n",
      "I'm doing the thing.\n",
      "bone-penn-331\n",
      "Does this patient have T2 available? False\n",
      "T2 image unavailable\n",
      "bone-china-088\n",
      "Does this patient have T2 available? True\n",
      "I'm doing the thing.\n"
     ]
    },
    {
     "name": "stderr",
     "output_type": "stream",
     "text": [
      " 30%|██▉       | 212/708 [00:52<01:28,  5.62it/s]"
     ]
    },
    {
     "name": "stdout",
     "output_type": "stream",
     "text": [
      "bone-penn-585\n",
      "Does this patient have T2 available? True\n",
      "I'm doing the thing.\n",
      "bone-hup-146\n",
      "Does this patient have T2 available? True\n",
      "I'm doing the thing.\n"
     ]
    },
    {
     "name": "stderr",
     "output_type": "stream",
     "text": [
      "\r",
      " 30%|███       | 213/708 [00:52<01:20,  6.18it/s]"
     ]
    },
    {
     "name": "stdout",
     "output_type": "stream",
     "text": [
      "bone-penn-334\n",
      "Does this patient have T2 available? True\n",
      "I'm doing the thing.\n"
     ]
    },
    {
     "name": "stderr",
     "output_type": "stream",
     "text": [
      "\r",
      " 30%|███       | 214/708 [00:52<02:27,  3.34it/s]"
     ]
    },
    {
     "name": "stdout",
     "output_type": "stream",
     "text": [
      "bone-hup-290\n",
      "Does this patient have T2 available? True\n",
      "I'm doing the thing.\n"
     ]
    },
    {
     "name": "stderr",
     "output_type": "stream",
     "text": [
      " 31%|███       | 217/708 [00:53<02:10,  3.76it/s]"
     ]
    },
    {
     "name": "stdout",
     "output_type": "stream",
     "text": [
      "bone-hup-30\n",
      "Does this patient have T2 available? False\n",
      "T2 image unavailable\n",
      "bone-penn-116\n",
      "Does this patient have T2 available? True\n",
      "I'm doing the thing.\n",
      "bone-penn-322\n",
      "Does this patient have T2 available? True\n",
      "I'm doing the thing.\n"
     ]
    },
    {
     "name": "stderr",
     "output_type": "stream",
     "text": [
      " 31%|███       | 219/708 [00:53<01:44,  4.67it/s]"
     ]
    },
    {
     "name": "stdout",
     "output_type": "stream",
     "text": [
      "bone-penn-391\n",
      "Does this patient have T2 available? True\n",
      "I'm doing the thing.\n",
      "bone-china-114\n",
      "Does this patient have T2 available? True\n",
      "I'm doing the thing.\n"
     ]
    },
    {
     "name": "stderr",
     "output_type": "stream",
     "text": [
      "\r",
      " 31%|███       | 220/708 [00:53<01:38,  4.94it/s]"
     ]
    },
    {
     "name": "stdout",
     "output_type": "stream",
     "text": [
      "bone-penn-375\n",
      "Does this patient have T2 available? True\n",
      "I'm doing the thing.\n"
     ]
    },
    {
     "name": "stderr",
     "output_type": "stream",
     "text": [
      "\r",
      " 31%|███       | 221/708 [00:54<01:38,  4.93it/s]"
     ]
    },
    {
     "name": "stdout",
     "output_type": "stream",
     "text": [
      "bone-penn-313\n",
      "Does this patient have T2 available? True\n",
      "I'm doing the thing.\n"
     ]
    },
    {
     "name": "stderr",
     "output_type": "stream",
     "text": [
      " 31%|███▏      | 223/708 [00:54<02:05,  3.86it/s]"
     ]
    },
    {
     "name": "stdout",
     "output_type": "stream",
     "text": [
      "bone-penn-94\n",
      "Does this patient have T2 available? True\n",
      "I'm doing the thing.\n",
      "bone-penn-277\n",
      "Does this patient have T2 available? True\n",
      "I'm doing the thing.\n"
     ]
    },
    {
     "name": "stderr",
     "output_type": "stream",
     "text": [
      " 32%|███▏      | 226/708 [00:55<02:13,  3.60it/s]"
     ]
    },
    {
     "name": "stdout",
     "output_type": "stream",
     "text": [
      "bone-hup-117\n",
      "Does this patient have T2 available? False\n",
      "T2 image unavailable\n",
      "bone-china-031\n",
      "Does this patient have T2 available? True\n",
      "I'm doing the thing.\n",
      "bone-hup-126\n",
      "Does this patient have T2 available? True\n",
      "I'm doing the thing.\n"
     ]
    },
    {
     "name": "stderr",
     "output_type": "stream",
     "text": [
      "\r",
      " 32%|███▏      | 227/708 [00:56<02:56,  2.72it/s]"
     ]
    },
    {
     "name": "stdout",
     "output_type": "stream",
     "text": [
      "bone-hup-319\n",
      "Does this patient have T2 available? False\n",
      "T2 image unavailable\n",
      "bone-penn-468\n",
      "Does this patient have T2 available? True\n",
      "I'm doing the thing.\n"
     ]
    },
    {
     "name": "stderr",
     "output_type": "stream",
     "text": [
      "\r",
      " 32%|███▏      | 229/708 [00:57<03:41,  2.16it/s]"
     ]
    },
    {
     "name": "stdout",
     "output_type": "stream",
     "text": [
      "bone-china-036\n",
      "Does this patient have T2 available? True\n",
      "I'm doing the thing.\n",
      "bone-hup-327\n",
      "Does this patient have T2 available? True\n",
      "I'm doing the thing.\n"
     ]
    },
    {
     "name": "stderr",
     "output_type": "stream",
     "text": [
      "\r",
      " 33%|███▎      | 231/708 [00:57<02:52,  2.77it/s]"
     ]
    },
    {
     "name": "stdout",
     "output_type": "stream",
     "text": [
      "bone-hup-157\n",
      "Does this patient have T2 available? True\n",
      "I'm doing the thing.\n"
     ]
    },
    {
     "name": "stderr",
     "output_type": "stream",
     "text": [
      "\r",
      " 33%|███▎      | 232/708 [00:58<04:11,  1.89it/s]"
     ]
    },
    {
     "name": "stdout",
     "output_type": "stream",
     "text": [
      "bone-penn-146\n",
      "Does this patient have T2 available? False\n",
      "T2 image unavailable\n",
      "bone-penn-85\n",
      "Does this patient have T2 available? True\n",
      "I'm doing the thing.\n",
      "bone-china-074\n",
      "Does this patient have T2 available? True\n",
      "I'm doing the thing.\n"
     ]
    },
    {
     "name": "stderr",
     "output_type": "stream",
     "text": [
      " 33%|███▎      | 236/708 [00:59<02:36,  3.02it/s]"
     ]
    },
    {
     "name": "stdout",
     "output_type": "stream",
     "text": [
      "bone-china-158\n",
      "Does this patient have T2 available? True\n",
      "I'm doing the thing.\n",
      "bone-hup-295\n",
      "Does this patient have T2 available? True\n",
      "I'm doing the thing.\n"
     ]
    },
    {
     "name": "stderr",
     "output_type": "stream",
     "text": [
      " 34%|███▎      | 238/708 [01:00<02:49,  2.77it/s]"
     ]
    },
    {
     "name": "stdout",
     "output_type": "stream",
     "text": [
      "bone-penn-537\n",
      "Does this patient have T2 available? True\n",
      "I'm doing the thing.\n",
      "bone-penn-504\n",
      "Does this patient have T2 available? True"
     ]
    },
    {
     "name": "stderr",
     "output_type": "stream",
     "text": [
      "\r",
      " 34%|███▍      | 239/708 [01:00<02:25,  3.22it/s]"
     ]
    },
    {
     "name": "stdout",
     "output_type": "stream",
     "text": [
      "\n",
      "I'm doing the thing.\n",
      "bone-china-061\n",
      "Does this patient have T2 available? True\n",
      "I'm doing the thing.\n"
     ]
    },
    {
     "name": "stderr",
     "output_type": "stream",
     "text": [
      "\r",
      " 34%|███▍      | 240/708 [01:00<01:59,  3.91it/s]"
     ]
    },
    {
     "name": "stdout",
     "output_type": "stream",
     "text": [
      "bone-hup-51\n",
      "Does this patient have T2 available? True\n",
      "I'm doing the thing.\n"
     ]
    },
    {
     "name": "stderr",
     "output_type": "stream",
     "text": [
      " 34%|███▍      | 242/708 [01:00<01:44,  4.47it/s]"
     ]
    },
    {
     "name": "stdout",
     "output_type": "stream",
     "text": [
      "bone-china-028\n",
      "Does this patient have T2 available? True\n",
      "I'm doing the thing.\n",
      "bone-china-099\n",
      "Does this patient have T2 available? True\n",
      "I'm doing the thing.\n"
     ]
    },
    {
     "name": "stderr",
     "output_type": "stream",
     "text": [
      "\r",
      " 34%|███▍      | 244/708 [01:00<01:24,  5.49it/s]"
     ]
    },
    {
     "name": "stdout",
     "output_type": "stream",
     "text": [
      "bone-penn-154\n",
      "Does this patient have T2 available? True\n",
      "I'm doing the thing.\n",
      "bone-penn-329\n",
      "Does this patient have T2 available? True\n",
      "I'm doing the thing.\n"
     ]
    },
    {
     "name": "stderr",
     "output_type": "stream",
     "text": [
      "\r",
      " 35%|███▍      | 245/708 [01:01<02:42,  2.84it/s]"
     ]
    },
    {
     "name": "stdout",
     "output_type": "stream",
     "text": [
      "bone-hup-116\n",
      "Does this patient have T2 available? True\n",
      "I'm doing the thing.\n"
     ]
    },
    {
     "name": "stderr",
     "output_type": "stream",
     "text": [
      "\r",
      " 35%|███▍      | 246/708 [01:02<03:03,  2.52it/s]"
     ]
    },
    {
     "name": "stdout",
     "output_type": "stream",
     "text": [
      "bone-penn-516\n",
      "Does this patient have T2 available? True\n",
      "I'm doing the thing.\n"
     ]
    },
    {
     "name": "stderr",
     "output_type": "stream",
     "text": [
      "\r",
      " 35%|███▍      | 247/708 [01:02<03:03,  2.51it/s]"
     ]
    },
    {
     "name": "stdout",
     "output_type": "stream",
     "text": [
      "bone-penn-143\n",
      "Does this patient have T2 available? True\n",
      "I'm doing the thing.\n"
     ]
    },
    {
     "name": "stderr",
     "output_type": "stream",
     "text": [
      "\r",
      " 35%|███▌      | 248/708 [01:03<03:00,  2.55it/s]"
     ]
    },
    {
     "name": "stdout",
     "output_type": "stream",
     "text": [
      "bone-penn-352\n",
      "Does this patient have T2 available? False\n",
      "T2 image unavailable\n",
      "bone-china-111\n",
      "Does this patient have T2 available? True\n",
      "I'm doing the thing.\n"
     ]
    },
    {
     "name": "stderr",
     "output_type": "stream",
     "text": [
      " 35%|███▌      | 251/708 [01:03<01:56,  3.92it/s]"
     ]
    },
    {
     "name": "stdout",
     "output_type": "stream",
     "text": [
      "bone-china-173\n",
      "Does this patient have T2 available? True\n",
      "I'm doing the thing.\n",
      "bone-penn-456\n",
      "Does this patient have T2 available? True\n",
      "I'm doing the thing.\n"
     ]
    },
    {
     "name": "stderr",
     "output_type": "stream",
     "text": [
      "\r",
      " 36%|███▌      | 252/708 [01:03<02:23,  3.18it/s]"
     ]
    },
    {
     "name": "stdout",
     "output_type": "stream",
     "text": [
      "bone-china-116\n",
      "Does this patient have T2 available? True\n",
      "I'm doing the thing.\n",
      "bone-china-103\n",
      "Does this patient have T2 available? True\n",
      "I'm doing the thing.\n"
     ]
    },
    {
     "name": "stderr",
     "output_type": "stream",
     "text": [
      " 36%|███▌      | 255/708 [01:04<01:39,  4.54it/s]"
     ]
    },
    {
     "name": "stdout",
     "output_type": "stream",
     "text": [
      "bone-china-054\n",
      "Does this patient have T2 available? True\n",
      "I'm doing the thing.\n",
      "bone-penn-457\n",
      "Does this patient have T2 available? True\n",
      "I'm doing the thing.\n"
     ]
    },
    {
     "name": "stderr",
     "output_type": "stream",
     "text": [
      " 36%|███▋      | 257/708 [01:04<01:32,  4.87it/s]"
     ]
    },
    {
     "name": "stdout",
     "output_type": "stream",
     "text": [
      "bone-china-081\n",
      "Does this patient have T2 available? True\n",
      "I'm doing the thing.\n",
      "bone-china-166\n",
      "Does this patient have T2 available? True\n",
      "I'm doing the thing.\n"
     ]
    },
    {
     "name": "stderr",
     "output_type": "stream",
     "text": [
      " 37%|███▋      | 259/708 [01:04<01:21,  5.53it/s]"
     ]
    },
    {
     "name": "stdout",
     "output_type": "stream",
     "text": [
      "bone-penn-501\n",
      "Does this patient have T2 available? True\n",
      "I'm doing the thing.\n",
      "bone-china-109\n",
      "Does this patient have T2 available? True\n",
      "I'm doing the thing.\n",
      "bone-china-149\n",
      "Does this patient have T2 available? True\n",
      "I'm doing the thing.\n"
     ]
    },
    {
     "name": "stderr",
     "output_type": "stream",
     "text": [
      " 37%|███▋      | 262/708 [01:05<01:09,  6.44it/s]"
     ]
    },
    {
     "name": "stdout",
     "output_type": "stream",
     "text": [
      "bone-china-024\n",
      "Does this patient have T2 available? True\n",
      "I'm doing the thing.\n",
      "bone-penn-140\n",
      "Does this patient have T2 available? True\n",
      "I'm doing the thing.\n"
     ]
    },
    {
     "name": "stderr",
     "output_type": "stream",
     "text": [
      "\r",
      " 37%|███▋      | 263/708 [01:05<01:09,  6.37it/s]"
     ]
    },
    {
     "name": "stdout",
     "output_type": "stream",
     "text": [
      "bone-china-084\n",
      "Does this patient have T2 available? True\n",
      "I'm doing the thing.\n"
     ]
    },
    {
     "name": "stderr",
     "output_type": "stream",
     "text": [
      "\r",
      " 37%|███▋      | 264/708 [01:05<01:19,  5.59it/s]"
     ]
    },
    {
     "name": "stdout",
     "output_type": "stream",
     "text": [
      "bone-hup-276\n",
      "Does this patient have T2 available? True\n",
      "I'm doing the thing.\n",
      "bone-penn-292\n",
      "Does this patient have T2 available? True\n",
      "I'm doing the thing.\n"
     ]
    },
    {
     "name": "stderr",
     "output_type": "stream",
     "text": [
      "\r",
      " 38%|███▊      | 266/708 [01:05<01:10,  6.25it/s]"
     ]
    },
    {
     "name": "stdout",
     "output_type": "stream",
     "text": [
      "bone-hup-123\n",
      "Does this patient have T2 available? True\n",
      "I'm doing the thing.\n"
     ]
    },
    {
     "name": "stderr",
     "output_type": "stream",
     "text": [
      "\r",
      " 38%|███▊      | 267/708 [01:06<01:39,  4.45it/s]"
     ]
    },
    {
     "name": "stdout",
     "output_type": "stream",
     "text": [
      "bone-penn-459\n",
      "Does this patient have T2 available? True\n",
      "I'm doing the thing.\n"
     ]
    },
    {
     "name": "stderr",
     "output_type": "stream",
     "text": [
      " 38%|███▊      | 270/708 [01:06<01:16,  5.71it/s]"
     ]
    },
    {
     "name": "stdout",
     "output_type": "stream",
     "text": [
      "bone-penn-563\n",
      "Does this patient have T2 available? False\n",
      "T2 image unavailable\n",
      "bone-penn-92\n",
      "Does this patient have T2 available? True\n",
      "I'm doing the thing.\n",
      "bone-penn-381\n",
      "Does this patient have T2 available? True\n",
      "I'm doing the thing.\n",
      "bone-china-093\n",
      "Does this patient have T2 available? True\n",
      "I'm doing the thing.\n"
     ]
    },
    {
     "name": "stderr",
     "output_type": "stream",
     "text": [
      " 39%|███▊      | 273/708 [01:07<01:12,  5.99it/s]"
     ]
    },
    {
     "name": "stdout",
     "output_type": "stream",
     "text": [
      "bone-china-098\n",
      "Does this patient have T2 available? True\n",
      "I'm doing the thing.\n",
      "bone-hup-136\n",
      "Does this patient have T2 available? True\n",
      "I'm doing the thing.\n"
     ]
    },
    {
     "name": "stderr",
     "output_type": "stream",
     "text": [
      "\r",
      " 39%|███▊      | 274/708 [01:07<01:14,  5.82it/s]"
     ]
    },
    {
     "name": "stdout",
     "output_type": "stream",
     "text": [
      "bone-penn-351\n",
      "Does this patient have T2 available? False\n",
      "T2 image unavailable\n",
      "bone-penn-348\n",
      "Does this patient have T2 available? True\n",
      "I'm doing the thing.\n",
      "bone-penn-577\n",
      "Does this patient have T2 available? True\n",
      "I'm doing the thing.\n"
     ]
    },
    {
     "name": "stderr",
     "output_type": "stream",
     "text": [
      "\r",
      " 39%|███▉      | 277/708 [01:07<01:19,  5.43it/s]"
     ]
    },
    {
     "name": "stdout",
     "output_type": "stream",
     "text": [
      "bone-penn-139\n",
      "Does this patient have T2 available? True\n",
      "I'm doing the thing.\n"
     ]
    },
    {
     "name": "stderr",
     "output_type": "stream",
     "text": [
      "\r",
      " 39%|███▉      | 278/708 [01:08<01:24,  5.07it/s]"
     ]
    },
    {
     "name": "stdout",
     "output_type": "stream",
     "text": [
      "bone-penn-132\n",
      "Does this patient have T2 available? True\n",
      "I'm doing the thing.\n"
     ]
    },
    {
     "name": "stderr",
     "output_type": "stream",
     "text": [
      "\r",
      " 39%|███▉      | 279/708 [01:08<02:33,  2.79it/s]"
     ]
    },
    {
     "name": "stdout",
     "output_type": "stream",
     "text": [
      "bone-penn-446\n",
      "Does this patient have T2 available? True\n",
      "I'm doing the thing.\n"
     ]
    },
    {
     "name": "stderr",
     "output_type": "stream",
     "text": [
      "\r",
      " 40%|███▉      | 280/708 [01:09<02:24,  2.95it/s]"
     ]
    },
    {
     "name": "stdout",
     "output_type": "stream",
     "text": [
      "bone-penn-568\n",
      "Does this patient have T2 available? True\n",
      "I'm doing the thing.\n"
     ]
    },
    {
     "name": "stderr",
     "output_type": "stream",
     "text": [
      "\r",
      " 40%|███▉      | 281/708 [01:09<02:12,  3.23it/s]"
     ]
    },
    {
     "name": "stdout",
     "output_type": "stream",
     "text": [
      "bone-china-020\n",
      "Does this patient have T2 available? True\n",
      "I'm doing the thing.\n",
      "bone-penn-114\n",
      "Does this patient have T2 available? False\n",
      "T2 image unavailable\n",
      "bone-penn-541\n",
      "Does this patient have T2 available? True\n",
      "I'm doing the thing.\n"
     ]
    },
    {
     "name": "stderr",
     "output_type": "stream",
     "text": [
      "\r",
      " 40%|████      | 284/708 [01:09<01:41,  4.20it/s]"
     ]
    },
    {
     "name": "stdout",
     "output_type": "stream",
     "text": [
      "bone-hup-135\n",
      "Does this patient have T2 available? True\n",
      "I'm doing the thing.\n"
     ]
    },
    {
     "name": "stderr",
     "output_type": "stream",
     "text": [
      "\r",
      " 40%|████      | 285/708 [01:09<01:55,  3.67it/s]"
     ]
    },
    {
     "name": "stdout",
     "output_type": "stream",
     "text": [
      "bone-china-004\n",
      "Does this patient have T2 available? True\n",
      "I'm doing the thing.\n",
      "bone-penn-565\n",
      "Does this patient have T2 available? True\n",
      "I'm doing the thing.\n"
     ]
    },
    {
     "name": "stderr",
     "output_type": "stream",
     "text": [
      "\r",
      " 41%|████      | 287/708 [01:10<01:53,  3.72it/s]"
     ]
    },
    {
     "name": "stdout",
     "output_type": "stream",
     "text": [
      "bone-penn-97\n",
      "Does this patient have T2 available? True\n",
      "I'm doing the thing.\n"
     ]
    },
    {
     "name": "stderr",
     "output_type": "stream",
     "text": [
      "\r",
      " 41%|████      | 288/708 [01:11<02:38,  2.65it/s]"
     ]
    },
    {
     "name": "stdout",
     "output_type": "stream",
     "text": [
      "bone-penn-489\n",
      "Does this patient have T2 available? True\n",
      "I'm doing the thing.\n"
     ]
    },
    {
     "name": "stderr",
     "output_type": "stream",
     "text": [
      " 41%|████      | 290/708 [01:11<02:18,  3.02it/s]"
     ]
    },
    {
     "name": "stdout",
     "output_type": "stream",
     "text": [
      "bone-china-102\n",
      "Does this patient have T2 available? True\n",
      "I'm doing the thing.\n",
      "bone-penn-141\n",
      "Does this patient have T2 available? True\n",
      "I'm doing the thing.\n"
     ]
    },
    {
     "name": "stderr",
     "output_type": "stream",
     "text": [
      " 41%|████      | 292/708 [01:12<01:45,  3.94it/s]"
     ]
    },
    {
     "name": "stdout",
     "output_type": "stream",
     "text": [
      "bone-hup-307\n",
      "Does this patient have T2 available? True\n",
      "I'm doing the thing.\n",
      "bone-penn-553\n",
      "Does this patient have T2 available? True\n",
      "I'm doing the thing.\n"
     ]
    },
    {
     "name": "stderr",
     "output_type": "stream",
     "text": [
      " 42%|████▏     | 294/708 [01:12<01:41,  4.10it/s]"
     ]
    },
    {
     "name": "stdout",
     "output_type": "stream",
     "text": [
      "bone-penn-528\n",
      "Does this patient have T2 available? True\n",
      "I'm doing the thing.\n",
      "bone-china-131\n",
      "Does this patient have T2 available? True\n",
      "I'm doing the thing.\n"
     ]
    },
    {
     "name": "stderr",
     "output_type": "stream",
     "text": [
      " 42%|████▏     | 296/708 [01:12<01:18,  5.27it/s]"
     ]
    },
    {
     "name": "stdout",
     "output_type": "stream",
     "text": [
      "bone-penn-474\n",
      "Does this patient have T2 available? True\n",
      "I'm doing the thing.\n",
      "bone-penn-423\n",
      "Does this patient have T2 available? True\n",
      "I'm doing the thing.\n"
     ]
    },
    {
     "name": "stderr",
     "output_type": "stream",
     "text": [
      "\r",
      " 42%|████▏     | 297/708 [01:13<02:46,  2.48it/s]"
     ]
    },
    {
     "name": "stdout",
     "output_type": "stream",
     "text": [
      "bone-hup-303\n",
      "Does this patient have T2 available? True\n",
      "I'm doing the thing.\n"
     ]
    },
    {
     "name": "stderr",
     "output_type": "stream",
     "text": [
      " 42%|████▏     | 300/708 [01:14<02:40,  2.54it/s]"
     ]
    },
    {
     "name": "stdout",
     "output_type": "stream",
     "text": [
      "bone-penn-403\n",
      "Does this patient have T2 available? True\n",
      "I'm doing the thing.\n",
      "bone-penn-619\n",
      "Does this patient have T2 available? True\n",
      "I'm doing the thing.\n",
      "bone-china-050\n",
      "Does this patient have T2 available? True\n",
      "I'm doing the thing.\n"
     ]
    },
    {
     "name": "stderr",
     "output_type": "stream",
     "text": [
      "\r",
      " 43%|████▎     | 302/708 [01:15<02:08,  3.16it/s]"
     ]
    },
    {
     "name": "stdout",
     "output_type": "stream",
     "text": [
      "bone-china-134\n",
      "Does this patient have T2 available? True\n",
      "I'm doing the thing.\n",
      "bone-penn-283\n",
      "Does this patient have T2 available? True\n",
      "I'm doing the thing.\n"
     ]
    },
    {
     "name": "stderr",
     "output_type": "stream",
     "text": [
      "\r",
      " 43%|████▎     | 303/708 [01:15<02:17,  2.96it/s]"
     ]
    },
    {
     "name": "stdout",
     "output_type": "stream",
     "text": [
      "bone-penn-517\n",
      "Does this patient have T2 available? True\n",
      "I'm doing the thing.\n"
     ]
    },
    {
     "name": "stderr",
     "output_type": "stream",
     "text": [
      " 43%|████▎     | 306/708 [01:15<01:43,  3.89it/s]"
     ]
    },
    {
     "name": "stdout",
     "output_type": "stream",
     "text": [
      "bone-penn-287\n",
      "Does this patient have T2 available? False\n",
      "T2 image unavailable\n",
      "bone-china-169\n",
      "Does this patient have T2 available? True\n",
      "I'm doing the thing.\n",
      "bone-penn-86\n",
      "Does this patient have T2 available? True\n",
      "I'm doing the thing.\n"
     ]
    },
    {
     "name": "stderr",
     "output_type": "stream",
     "text": [
      "\r",
      " 43%|████▎     | 307/708 [01:16<01:53,  3.54it/s]"
     ]
    },
    {
     "name": "stdout",
     "output_type": "stream",
     "text": [
      "bone-penn-91\n",
      "Does this patient have T2 available? True\n",
      "I'm doing the thing.\n",
      "bone-penn-506\n",
      "Does this patient have T2 available? True\n",
      "I'm doing the thing.\n"
     ]
    },
    {
     "name": "stderr",
     "output_type": "stream",
     "text": [
      " 44%|████▍     | 310/708 [01:16<01:32,  4.32it/s]"
     ]
    },
    {
     "name": "stdout",
     "output_type": "stream",
     "text": [
      "bone-china-159\n",
      "Does this patient have T2 available? True\n",
      "I'm doing the thing.\n",
      "bone-penn-98\n",
      "Does this patient have T2 available? True\n",
      "I'm doing the thing.\n"
     ]
    },
    {
     "name": "stderr",
     "output_type": "stream",
     "text": [
      "\r",
      " 44%|████▍     | 311/708 [01:17<01:27,  4.52it/s]"
     ]
    },
    {
     "name": "stdout",
     "output_type": "stream",
     "text": [
      "bone-penn-533\n",
      "Does this patient have T2 available? False\n",
      "T2 image unavailable\n",
      "bone-penn-487\n",
      "Does this patient have T2 available? True\n",
      "I'm doing the thing.\n"
     ]
    },
    {
     "name": "stderr",
     "output_type": "stream",
     "text": [
      " 44%|████▍     | 314/708 [01:17<01:29,  4.43it/s]"
     ]
    },
    {
     "name": "stdout",
     "output_type": "stream",
     "text": [
      "bone-penn-286\n",
      "Does this patient have T2 available? True\n",
      "I'm doing the thing.\n",
      "bone-penn-406\n",
      "Does this patient have T2 available? True\n",
      "I'm doing the thing.\n"
     ]
    },
    {
     "name": "stderr",
     "output_type": "stream",
     "text": [
      " 45%|████▍     | 316/708 [01:18<01:17,  5.04it/s]"
     ]
    },
    {
     "name": "stdout",
     "output_type": "stream",
     "text": [
      "\n",
      "################################################################################\n",
      "Exception occurred for: outcome_pos   0.000\n",
      "outcome_neg   1.000\n",
      "outcome_3     1.000\n",
      "sort              -\n",
      "volume        0.140\n",
      "Name: bone-penn-406, dtype: object\n",
      "index 192 is out of bounds for axis 0 with size 2\n",
      "T2 image unavailable\n",
      "Traceback (most recent call last):\n",
      "  File \"/home/user1/Documents/Bone-MRI/data_gen.py\", line 392, in generate_from_features\n",
      "    t2_masked = load_image(t2_image_file, t2_seg_file, verbose=verbose)\n",
      "  File \"/home/user1/Documents/Bone-MRI/data_gen.py\", line 331, in load_image\n",
      "    return [mask_image_percentile(image, segmentation, 100, a) for a in (0, 1, 2)]\n",
      "  File \"/home/user1/Documents/Bone-MRI/data_gen.py\", line 331, in <listcomp>\n",
      "    return [mask_image_percentile(image, segmentation, 100, a) for a in (0, 1, 2)]\n",
      "  File \"/home/user1/Documents/Bone-MRI/data_gen.py\", line 335, in mask_image_percentile\n",
      "    image, segmentation = select_slice(image, segmentation, plane, axis)\n",
      "  File \"/home/user1/Documents/Bone-MRI/segmentation.py\", line 40, in select_slice\n",
      "    image = axis_plane[axis](image, plane)\n",
      "  File \"/home/user1/Documents/Bone-MRI/segmentation.py\", line 13, in <lambda>\n",
      "    0: lambda image, plane : image[plane, :, :],\n",
      "IndexError: index 192 is out of bounds for axis 0 with size 2\n",
      "\n",
      "bone-penn-156\n",
      "Does this patient have T2 available? True\n",
      "I'm doing the thing.\n"
     ]
    },
    {
     "name": "stderr",
     "output_type": "stream",
     "text": [
      "\r",
      " 45%|████▍     | 317/708 [01:18<01:11,  5.49it/s]"
     ]
    },
    {
     "name": "stdout",
     "output_type": "stream",
     "text": [
      "bone-hup-330\n",
      "Does this patient have T2 available? True\n",
      "I'm doing the thing.\n",
      "bone-penn-555\n",
      "Does this patient have T2 available? True\n",
      "I'm doing the thing.\n"
     ]
    },
    {
     "name": "stderr",
     "output_type": "stream",
     "text": [
      " 45%|████▌     | 320/708 [01:18<01:14,  5.23it/s]"
     ]
    },
    {
     "name": "stdout",
     "output_type": "stream",
     "text": [
      "bone-china-029\n",
      "Does this patient have T2 available? True\n",
      "I'm doing the thing.\n",
      "bone-china-123\n",
      "Does this patient have T2 available? True\n",
      "I'm doing the thing.\n"
     ]
    },
    {
     "name": "stderr",
     "output_type": "stream",
     "text": [
      "\r",
      " 45%|████▌     | 322/708 [01:18<00:58,  6.63it/s]"
     ]
    },
    {
     "name": "stdout",
     "output_type": "stream",
     "text": [
      "bone-penn-288\n",
      "Does this patient have T2 available? False\n",
      "T2 image unavailable\n",
      "bone-penn-275\n",
      "Does this patient have T2 available? True\n",
      "I'm doing the thing.\n",
      "bone-penn-492\n",
      "Does this patient have T2 available? True\n",
      "I'm doing the thing.\n"
     ]
    },
    {
     "name": "stderr",
     "output_type": "stream",
     "text": [
      " 46%|████▌     | 324/708 [01:19<01:02,  6.17it/s]"
     ]
    },
    {
     "name": "stdout",
     "output_type": "stream",
     "text": [
      "bone-china-006\n",
      "Does this patient have T2 available? True\n",
      "I'm doing the thing.\n",
      "bone-hup-291\n",
      "Does this patient have T2 available? True\n",
      "I'm doing the thing.\n"
     ]
    },
    {
     "name": "stderr",
     "output_type": "stream",
     "text": [
      "\r",
      " 46%|████▌     | 325/708 [01:19<01:00,  6.29it/s]"
     ]
    },
    {
     "name": "stdout",
     "output_type": "stream",
     "text": [
      "bone-penn-392\n",
      "Does this patient have T2 available? True\n",
      "I'm doing the thing.\n"
     ]
    },
    {
     "name": "stderr",
     "output_type": "stream",
     "text": [
      " 46%|████▌     | 327/708 [01:20<01:17,  4.89it/s]"
     ]
    },
    {
     "name": "stdout",
     "output_type": "stream",
     "text": [
      "bone-china-165\n",
      "Does this patient have T2 available? True\n",
      "I'm doing the thing.\n",
      "bone-china-015\n",
      "Does this patient have T2 available? True\n",
      "I'm doing the thing.\n"
     ]
    },
    {
     "name": "stderr",
     "output_type": "stream",
     "text": [
      "\r",
      " 46%|████▋     | 328/708 [01:20<01:10,  5.37it/s]"
     ]
    },
    {
     "name": "stdout",
     "output_type": "stream",
     "text": [
      "bone-penn-134\n",
      "Does this patient have T2 available? True\n",
      "I'm doing the thing.\n"
     ]
    },
    {
     "name": "stderr",
     "output_type": "stream",
     "text": [
      "\r",
      " 46%|████▋     | 329/708 [01:20<01:37,  3.91it/s]"
     ]
    },
    {
     "name": "stdout",
     "output_type": "stream",
     "text": [
      "bone-china-172\n",
      "Does this patient have T2 available? True\n",
      "I'm doing the thing.\n",
      "bone-hup-128\n",
      "Does this patient have T2 available? True\n",
      "I'm doing the thing.\n"
     ]
    },
    {
     "name": "stderr",
     "output_type": "stream",
     "text": [
      "\r",
      " 47%|████▋     | 331/708 [01:21<01:43,  3.64it/s]"
     ]
    },
    {
     "name": "stdout",
     "output_type": "stream",
     "text": [
      "bone-penn-526\n",
      "Does this patient have T2 available? True\n",
      "I'm doing the thing.\n"
     ]
    },
    {
     "name": "stderr",
     "output_type": "stream",
     "text": [
      "\r",
      " 47%|████▋     | 332/708 [01:22<03:01,  2.07it/s]"
     ]
    },
    {
     "name": "stdout",
     "output_type": "stream",
     "text": [
      "\n",
      "################################################################################\n",
      "Exception occurred for: outcome_pos   0.000\n",
      "outcome_neg   1.000\n",
      "outcome_3     1.000\n",
      "sort              -\n",
      "volume        0.140\n",
      "Name: bone-penn-526, dtype: object\n",
      "index 213 is out of bounds for axis 0 with size 2\n",
      "T2 image unavailable\n",
      "Traceback (most recent call last):\n",
      "  File \"/home/user1/Documents/Bone-MRI/data_gen.py\", line 392, in generate_from_features\n",
      "    t2_masked = load_image(t2_image_file, t2_seg_file, verbose=verbose)\n",
      "  File \"/home/user1/Documents/Bone-MRI/data_gen.py\", line 331, in load_image\n",
      "    return [mask_image_percentile(image, segmentation, 100, a) for a in (0, 1, 2)]\n",
      "  File \"/home/user1/Documents/Bone-MRI/data_gen.py\", line 331, in <listcomp>\n",
      "    return [mask_image_percentile(image, segmentation, 100, a) for a in (0, 1, 2)]\n",
      "  File \"/home/user1/Documents/Bone-MRI/data_gen.py\", line 335, in mask_image_percentile\n",
      "    image, segmentation = select_slice(image, segmentation, plane, axis)\n",
      "  File \"/home/user1/Documents/Bone-MRI/segmentation.py\", line 40, in select_slice\n",
      "    image = axis_plane[axis](image, plane)\n",
      "  File \"/home/user1/Documents/Bone-MRI/segmentation.py\", line 13, in <lambda>\n",
      "    0: lambda image, plane : image[plane, :, :],\n",
      "IndexError: index 213 is out of bounds for axis 0 with size 2\n",
      "\n",
      "bone-penn-401\n",
      "Does this patient have T2 available? True\n",
      "I'm doing the thing.\n"
     ]
    },
    {
     "name": "stderr",
     "output_type": "stream",
     "text": [
      "\r",
      " 47%|████▋     | 333/708 [01:22<02:53,  2.16it/s]"
     ]
    },
    {
     "name": "stdout",
     "output_type": "stream",
     "text": [
      "bone-penn-131\n",
      "Does this patient have T2 available? True\n",
      "I'm doing the thing.\n"
     ]
    },
    {
     "name": "stderr",
     "output_type": "stream",
     "text": [
      " 47%|████▋     | 336/708 [01:23<02:05,  2.96it/s]"
     ]
    },
    {
     "name": "stdout",
     "output_type": "stream",
     "text": [
      "bone-penn-121\n",
      "Does this patient have T2 available? False\n",
      "T2 image unavailable\n",
      "bone-china-113\n",
      "Does this patient have T2 available? True\n",
      "I'm doing the thing.\n",
      "bone-penn-384\n",
      "Does this patient have T2 available? True\n",
      "I'm doing the thing.\n"
     ]
    },
    {
     "name": "stderr",
     "output_type": "stream",
     "text": [
      " 48%|████▊     | 338/708 [01:23<01:28,  4.17it/s]"
     ]
    },
    {
     "name": "stdout",
     "output_type": "stream",
     "text": [
      "bone-china-120\n",
      "Does this patient have T2 available? True\n",
      "I'm doing the thing.\n",
      "bone-penn-532\n",
      "Does this patient have T2 available? True\n",
      "I'm doing the thing.\n"
     ]
    },
    {
     "name": "stderr",
     "output_type": "stream",
     "text": [
      " 48%|████▊     | 340/708 [01:23<01:20,  4.57it/s]"
     ]
    },
    {
     "name": "stdout",
     "output_type": "stream",
     "text": [
      "bone-china-037\n",
      "Does this patient have T2 available? True\n",
      "I'm doing the thing.\n",
      "bone-hup-325\n",
      "Does this patient have T2 available? True\n",
      "I'm doing the thing.\n"
     ]
    },
    {
     "name": "stderr",
     "output_type": "stream",
     "text": [
      "\r",
      " 48%|████▊     | 341/708 [01:24<01:28,  4.13it/s]"
     ]
    },
    {
     "name": "stdout",
     "output_type": "stream",
     "text": [
      "bone-penn-111\n",
      "Does this patient have T2 available? True\n",
      "I'm doing the thing.\n"
     ]
    },
    {
     "name": "stderr",
     "output_type": "stream",
     "text": [
      "\r",
      " 48%|████▊     | 342/708 [01:24<01:41,  3.62it/s]"
     ]
    },
    {
     "name": "stdout",
     "output_type": "stream",
     "text": [
      "bone-hup-304\n",
      "Does this patient have T2 available? True\n",
      "I'm doing the thing.\n"
     ]
    },
    {
     "name": "stderr",
     "output_type": "stream",
     "text": [
      " 49%|████▊     | 344/708 [01:24<01:21,  4.47it/s]"
     ]
    },
    {
     "name": "stdout",
     "output_type": "stream",
     "text": [
      "bone-china-072\n",
      "Does this patient have T2 available? True\n",
      "I'm doing the thing.\n",
      "bone-penn-130\n",
      "Does this patient have T2 available? True\n",
      "I'm doing the thing.\n"
     ]
    },
    {
     "name": "stderr",
     "output_type": "stream",
     "text": [
      " 49%|████▉     | 347/708 [01:25<01:06,  5.45it/s]"
     ]
    },
    {
     "name": "stdout",
     "output_type": "stream",
     "text": [
      "bone-penn-138\n",
      "Does this patient have T2 available? False\n",
      "T2 image unavailable\n",
      "bone-china-095\n",
      "Does this patient have T2 available? True\n",
      "I'm doing the thing.\n",
      "bone-china-161\n",
      "Does this patient have T2 available? True\n",
      "I'm doing the thing.\n"
     ]
    },
    {
     "name": "stderr",
     "output_type": "stream",
     "text": [
      " 49%|████▉     | 349/708 [01:25<00:57,  6.27it/s]"
     ]
    },
    {
     "name": "stdout",
     "output_type": "stream",
     "text": [
      "bone-china-044\n",
      "Does this patient have T2 available? True\n",
      "I'm doing the thing.\n",
      "bone-china-091\n",
      "Does this patient have T2 available? True\n",
      "I'm doing the thing.\n"
     ]
    },
    {
     "name": "stderr",
     "output_type": "stream",
     "text": [
      "\r",
      " 49%|████▉     | 350/708 [01:25<00:56,  6.37it/s]"
     ]
    },
    {
     "name": "stdout",
     "output_type": "stream",
     "text": [
      "bone-hup-154\n",
      "Does this patient have T2 available? True\n",
      "I'm doing the thing.\n"
     ]
    },
    {
     "name": "stderr",
     "output_type": "stream",
     "text": [
      " 50%|████▉     | 352/708 [01:26<01:11,  5.00it/s]"
     ]
    },
    {
     "name": "stdout",
     "output_type": "stream",
     "text": [
      "bone-china-128\n",
      "Does this patient have T2 available? True\n",
      "I'm doing the thing.\n",
      "bone-penn-495\n",
      "Does this patient have T2 available? True\n",
      "I'm doing the thing.\n"
     ]
    },
    {
     "name": "stderr",
     "output_type": "stream",
     "text": [
      " 50%|█████     | 354/708 [01:26<01:03,  5.62it/s]"
     ]
    },
    {
     "name": "stdout",
     "output_type": "stream",
     "text": [
      "bone-penn-512\n",
      "Does this patient have T2 available? True\n",
      "I'm doing the thing.\n",
      "bone-hup-3\n",
      "Does this patient have T2 available? True\n",
      "I'm doing the thing.\n"
     ]
    },
    {
     "name": "stderr",
     "output_type": "stream",
     "text": [
      " 50%|█████     | 356/708 [01:27<01:16,  4.62it/s]"
     ]
    },
    {
     "name": "stdout",
     "output_type": "stream",
     "text": [
      "bone-china-104\n",
      "Does this patient have T2 available? True\n",
      "I'm doing the thing.\n"
     ]
    },
    {
     "name": "stderr",
     "output_type": "stream",
     "text": [
      "\r",
      " 50%|█████     | 357/708 [01:27<01:04,  5.44it/s]"
     ]
    },
    {
     "name": "stdout",
     "output_type": "stream",
     "text": [
      "bone-china-049\n",
      "Does this patient have T2 available? True\n",
      "I'm doing the thing.\n",
      "bone-hup-121\n",
      "Does this patient have T2 available? False\n",
      "T2 image unavailable\n",
      "bone-china-115\n",
      "Does this patient have T2 available? True\n",
      "I'm doing the thing.\n"
     ]
    },
    {
     "name": "stderr",
     "output_type": "stream",
     "text": [
      "\r",
      " 51%|█████     | 359/708 [01:27<00:53,  6.51it/s]"
     ]
    },
    {
     "name": "stdout",
     "output_type": "stream",
     "text": [
      "bone-penn-452\n",
      "Does this patient have T2 available? True\n",
      "I'm doing the thing.\n"
     ]
    },
    {
     "name": "stderr",
     "output_type": "stream",
     "text": [
      " 51%|█████     | 362/708 [01:27<01:07,  5.11it/s]"
     ]
    },
    {
     "name": "stdout",
     "output_type": "stream",
     "text": [
      "bone-china-017\n",
      "Does this patient have T2 available? True\n",
      "I'm doing the thing.\n",
      "bone-penn-115\n",
      "Does this patient have T2 available? True\n",
      "I'm doing the thing.\n",
      "bone-hup-122\n",
      "Does this patient have T2 available? True\n",
      "I'm doing the thing.\n"
     ]
    },
    {
     "name": "stderr",
     "output_type": "stream",
     "text": [
      "\r",
      " 51%|█████▏    | 363/708 [01:28<00:59,  5.79it/s]"
     ]
    },
    {
     "name": "stdout",
     "output_type": "stream",
     "text": [
      "bone-penn-374\n",
      "Does this patient have T2 available? True\n",
      "I'm doing the thing.\n"
     ]
    },
    {
     "name": "stderr",
     "output_type": "stream",
     "text": [
      " 52%|█████▏    | 365/708 [01:28<00:57,  5.98it/s]"
     ]
    },
    {
     "name": "stdout",
     "output_type": "stream",
     "text": [
      "bone-penn-592\n",
      "Does this patient have T2 available? True\n",
      "I'm doing the thing.\n",
      "bone-hup-296\n",
      "Does this patient have T2 available? True\n",
      "I'm doing the thing.\n"
     ]
    },
    {
     "name": "stderr",
     "output_type": "stream",
     "text": [
      " 52%|█████▏    | 367/708 [01:28<01:02,  5.44it/s]"
     ]
    },
    {
     "name": "stdout",
     "output_type": "stream",
     "text": [
      "bone-china-083\n",
      "Does this patient have T2 available? True\n",
      "I'm doing the thing.\n",
      "bone-china-105\n",
      "Does this patient have T2 available? True\n",
      "I'm doing the thing.\n"
     ]
    },
    {
     "name": "stderr",
     "output_type": "stream",
     "text": [
      " 52%|█████▏    | 369/708 [01:29<00:57,  5.93it/s]"
     ]
    },
    {
     "name": "stdout",
     "output_type": "stream",
     "text": [
      "bone-penn-319\n",
      "Does this patient have T2 available? True\n",
      "I'm doing the thing.\n",
      "bone-penn-593\n",
      "Does this patient have T2 available? True\n",
      "I'm doing the thing.\n"
     ]
    },
    {
     "name": "stderr",
     "output_type": "stream",
     "text": [
      "\r",
      " 52%|█████▏    | 370/708 [01:29<00:55,  6.07it/s]"
     ]
    },
    {
     "name": "stdout",
     "output_type": "stream",
     "text": [
      "bone-hup-131\n",
      "Does this patient have T2 available? True\n",
      "I'm doing the thing.\n"
     ]
    },
    {
     "name": "stderr",
     "output_type": "stream",
     "text": [
      "\r",
      " 52%|█████▏    | 371/708 [01:29<01:02,  5.39it/s]"
     ]
    },
    {
     "name": "stdout",
     "output_type": "stream",
     "text": [
      "bone-china-087\n",
      "Does this patient have T2 available? True\n",
      "I'm doing the thing.\n",
      "bone-china-042\n",
      "Does this patient have T2 available? True\n",
      "I'm doing the thing.\n"
     ]
    },
    {
     "name": "stderr",
     "output_type": "stream",
     "text": [
      "\r",
      " 53%|█████▎    | 373/708 [01:29<00:54,  6.20it/s]"
     ]
    },
    {
     "name": "stdout",
     "output_type": "stream",
     "text": [
      "bone-penn-534\n",
      "Does this patient have T2 available? False\n",
      "T2 image unavailable\n",
      "bone-penn-515\n",
      "Does this patient have T2 available? True\n",
      "I'm doing the thing.\n"
     ]
    },
    {
     "name": "stderr",
     "output_type": "stream",
     "text": [
      "\r",
      " 53%|█████▎    | 375/708 [01:30<00:59,  5.58it/s]"
     ]
    },
    {
     "name": "stdout",
     "output_type": "stream",
     "text": [
      "bone-china-146\n",
      "Does this patient have T2 available? True\n",
      "I'm doing the thing.\n"
     ]
    },
    {
     "name": "stderr",
     "output_type": "stream",
     "text": [
      " 53%|█████▎    | 377/708 [01:30<01:00,  5.49it/s]"
     ]
    },
    {
     "name": "stdout",
     "output_type": "stream",
     "text": [
      "bone-hup-48\n",
      "Does this patient have T2 available? True\n",
      "I'm doing the thing.\n",
      "bone-penn-118\n",
      "Does this patient have T2 available? True\n",
      "I'm doing the thing.\n"
     ]
    },
    {
     "name": "stderr",
     "output_type": "stream",
     "text": [
      " 54%|█████▎    | 379/708 [01:32<02:33,  2.14it/s]"
     ]
    },
    {
     "name": "stdout",
     "output_type": "stream",
     "text": [
      "bone-china-216\n",
      "Does this patient have T2 available? True\n",
      "I'm doing the thing.\n",
      "bone-hup-241\n",
      "Does this patient have T2 available? False\n",
      "T2 image unavailable\n",
      "bone-hup-65\n",
      "Does this patient have T2 available? True\n",
      "I'm doing the thing.\n"
     ]
    },
    {
     "name": "stderr",
     "output_type": "stream",
     "text": [
      "\r",
      " 54%|█████▍    | 381/708 [01:32<01:57,  2.77it/s]"
     ]
    },
    {
     "name": "stdout",
     "output_type": "stream",
     "text": [
      "bone-hup-218\n",
      "Does this patient have T2 available? False\n",
      "T2 image unavailable\n",
      "bone-penn-162\n",
      "Does this patient have T2 available? True\n",
      "I'm doing the thing.\n"
     ]
    },
    {
     "name": "stderr",
     "output_type": "stream",
     "text": [
      " 54%|█████▍    | 384/708 [01:33<01:24,  3.86it/s]"
     ]
    },
    {
     "name": "stdout",
     "output_type": "stream",
     "text": [
      "bone-china-177\n",
      "Does this patient have T2 available? True\n",
      "I'm doing the thing.\n",
      "bone-penn-645\n",
      "Does this patient have T2 available? True\n",
      "I'm doing the thing.\n"
     ]
    },
    {
     "name": "stderr",
     "output_type": "stream",
     "text": [
      "\r",
      " 54%|█████▍    | 385/708 [01:33<01:34,  3.43it/s]"
     ]
    },
    {
     "name": "stdout",
     "output_type": "stream",
     "text": [
      "bone-penn-212\n",
      "Does this patient have T2 available? False\n",
      "T2 image unavailable\n",
      "bone-penn-314\n",
      "Does this patient have T2 available? True\n",
      "I'm doing the thing.\n"
     ]
    },
    {
     "name": "stderr",
     "output_type": "stream",
     "text": [
      "\r",
      " 55%|█████▍    | 387/708 [01:33<01:24,  3.78it/s]"
     ]
    },
    {
     "name": "stdout",
     "output_type": "stream",
     "text": [
      "bone-penn-507\n",
      "Does this patient have T2 available? True\n",
      "I'm doing the thing.\n"
     ]
    },
    {
     "name": "stderr",
     "output_type": "stream",
     "text": [
      "\r",
      " 55%|█████▍    | 388/708 [01:34<01:29,  3.59it/s]"
     ]
    },
    {
     "name": "stdout",
     "output_type": "stream",
     "text": [
      "bone-hup-248\n",
      "Does this patient have T2 available? True\n",
      "I'm doing the thing.\n",
      "bone-hup-72\n",
      "Does this patient have T2 available? True\n",
      "I'm doing the thing.\n"
     ]
    },
    {
     "name": "stderr",
     "output_type": "stream",
     "text": [
      " 55%|█████▌    | 391/708 [01:34<01:16,  4.13it/s]"
     ]
    },
    {
     "name": "stdout",
     "output_type": "stream",
     "text": [
      "bone-penn-187\n",
      "Does this patient have T2 available? True\n",
      "I'm doing the thing.\n",
      "bone-penn-608\n",
      "Does this patient have T2 available? True\n",
      "I'm doing the thing.\n"
     ]
    },
    {
     "name": "stderr",
     "output_type": "stream",
     "text": [
      " 56%|█████▌    | 393/708 [01:35<01:06,  4.77it/s]"
     ]
    },
    {
     "name": "stdout",
     "output_type": "stream",
     "text": [
      "bone-penn-161\n",
      "Does this patient have T2 available? True\n",
      "I'm doing the thing.\n",
      "bone-hup-199\n",
      "Does this patient have T2 available? True\n",
      "I'm doing the thing.\n"
     ]
    },
    {
     "name": "stderr",
     "output_type": "stream",
     "text": [
      "\r",
      " 56%|█████▌    | 394/708 [01:35<01:06,  4.76it/s]"
     ]
    },
    {
     "name": "stdout",
     "output_type": "stream",
     "text": [
      "bone-penn-467\n",
      "Does this patient have T2 available? True\n",
      "I'm doing the thing.\n"
     ]
    },
    {
     "name": "stderr",
     "output_type": "stream",
     "text": [
      "\r",
      " 56%|█████▌    | 395/708 [01:35<01:05,  4.77it/s]"
     ]
    },
    {
     "name": "stdout",
     "output_type": "stream",
     "text": [
      "bone-penn-463\n",
      "Does this patient have T2 available? True\n",
      "I'm doing the thing.\n"
     ]
    },
    {
     "name": "stderr",
     "output_type": "stream",
     "text": [
      " 56%|█████▌    | 397/708 [01:35<00:58,  5.32it/s]"
     ]
    },
    {
     "name": "stdout",
     "output_type": "stream",
     "text": [
      "bone-penn-160\n",
      "Does this patient have T2 available? True\n",
      "I'm doing the thing.\n",
      "bone-penn-390\n",
      "Does this patient have T2 available? True\n",
      "I'm doing the thing.\n"
     ]
    },
    {
     "name": "stderr",
     "output_type": "stream",
     "text": [
      "\r",
      " 56%|█████▌    | 398/708 [01:36<01:10,  4.38it/s]"
     ]
    },
    {
     "name": "stdout",
     "output_type": "stream",
     "text": [
      "bone-penn-204\n",
      "Does this patient have T2 available? False\n",
      "T2 image unavailable\n",
      "bone-hup-77\n",
      "Does this patient have T2 available? True\n",
      "I'm doing the thing.\n",
      "bone-china-190\n",
      "Does this patient have T2 available? True\n",
      "I'm doing the thing.\n"
     ]
    },
    {
     "name": "stderr",
     "output_type": "stream",
     "text": [
      "\r",
      " 57%|█████▋    | 401/708 [01:36<00:56,  5.43it/s]"
     ]
    },
    {
     "name": "stdout",
     "output_type": "stream",
     "text": [
      "bone-hup-189\n",
      "Does this patient have T2 available? True\n",
      "I'm doing the thing.\n"
     ]
    },
    {
     "name": "stderr",
     "output_type": "stream",
     "text": [
      " 57%|█████▋    | 403/708 [01:36<00:57,  5.32it/s]"
     ]
    },
    {
     "name": "stdout",
     "output_type": "stream",
     "text": [
      "bone-hup-235\n",
      "Does this patient have T2 available? True\n",
      "I'm doing the thing.\n",
      "bone-penn-461\n",
      "Does this patient have T2 available? True\n",
      "I'm doing the thing.\n"
     ]
    },
    {
     "name": "stderr",
     "output_type": "stream",
     "text": [
      "\r",
      " 57%|█████▋    | 404/708 [01:37<01:37,  3.13it/s]"
     ]
    },
    {
     "name": "stdout",
     "output_type": "stream",
     "text": [
      "bone-hup-247\n",
      "Does this patient have T2 available? True\n",
      "I'm doing the thing.\n",
      "bone-china-211\n",
      "Does this patient have T2 available? True\n",
      "I'm doing the thing.\n"
     ]
    },
    {
     "name": "stderr",
     "output_type": "stream",
     "text": [
      "\r",
      " 57%|█████▋    | 406/708 [01:37<01:19,  3.80it/s]"
     ]
    },
    {
     "name": "stdout",
     "output_type": "stream",
     "text": [
      "bone-penn-250\n",
      "Does this patient have T2 available? True\n",
      "I'm doing the thing.\n"
     ]
    },
    {
     "name": "stderr",
     "output_type": "stream",
     "text": [
      " 58%|█████▊    | 408/708 [01:38<01:26,  3.47it/s]"
     ]
    },
    {
     "name": "stdout",
     "output_type": "stream",
     "text": [
      "\n",
      "################################################################################\n",
      "Exception occurred for: outcome_pos   1.000\n",
      "outcome_neg   1.000\n",
      "outcome_3     2.000\n",
      "sort              -\n",
      "volume        0.140\n",
      "Name: bone-penn-250, dtype: object\n",
      "index 286 is out of bounds for axis 0 with size 2\n",
      "T2 image unavailable\n",
      "Traceback (most recent call last):\n",
      "  File \"/home/user1/Documents/Bone-MRI/data_gen.py\", line 392, in generate_from_features\n",
      "    t2_masked = load_image(t2_image_file, t2_seg_file, verbose=verbose)\n",
      "  File \"/home/user1/Documents/Bone-MRI/data_gen.py\", line 331, in load_image\n",
      "    return [mask_image_percentile(image, segmentation, 100, a) for a in (0, 1, 2)]\n",
      "  File \"/home/user1/Documents/Bone-MRI/data_gen.py\", line 331, in <listcomp>\n",
      "    return [mask_image_percentile(image, segmentation, 100, a) for a in (0, 1, 2)]\n",
      "  File \"/home/user1/Documents/Bone-MRI/data_gen.py\", line 335, in mask_image_percentile\n",
      "    image, segmentation = select_slice(image, segmentation, plane, axis)\n",
      "  File \"/home/user1/Documents/Bone-MRI/segmentation.py\", line 40, in select_slice\n",
      "    image = axis_plane[axis](image, plane)\n",
      "  File \"/home/user1/Documents/Bone-MRI/segmentation.py\", line 13, in <lambda>\n",
      "    0: lambda image, plane : image[plane, :, :],\n",
      "IndexError: index 286 is out of bounds for axis 0 with size 2\n",
      "\n",
      "bone-penn-511\n",
      "Does this patient have T2 available? True\n",
      "I'm doing the thing.\n",
      "bone-penn-433\n",
      "Does this patient have T2 available? True\n",
      "I'm doing the thing.\n"
     ]
    },
    {
     "name": "stderr",
     "output_type": "stream",
     "text": [
      "\r",
      " 58%|█████▊    | 409/708 [01:39<02:24,  2.07it/s]"
     ]
    },
    {
     "name": "stdout",
     "output_type": "stream",
     "text": [
      "bone-china-242\n",
      "Does this patient have T2 available? True\n",
      "I'm doing the thing.\n"
     ]
    },
    {
     "name": "stderr",
     "output_type": "stream",
     "text": [
      " 58%|█████▊    | 411/708 [01:39<01:45,  2.81it/s]"
     ]
    },
    {
     "name": "stdout",
     "output_type": "stream",
     "text": [
      "bone-penn-188\n",
      "Does this patient have T2 available? True\n",
      "I'm doing the thing.\n",
      "bone-china-225\n",
      "Does this patient have T2 available? True\n",
      "I'm doing the thing.\n"
     ]
    },
    {
     "name": "stderr",
     "output_type": "stream",
     "text": [
      "\r",
      " 58%|█████▊    | 412/708 [01:40<01:33,  3.17it/s]"
     ]
    },
    {
     "name": "stdout",
     "output_type": "stream",
     "text": [
      "bone-penn-264\n",
      "Does this patient have T2 available? True\n",
      "I'm doing the thing.\n"
     ]
    },
    {
     "name": "stderr",
     "output_type": "stream",
     "text": [
      " 58%|█████▊    | 414/708 [01:40<01:15,  3.88it/s]"
     ]
    },
    {
     "name": "stdout",
     "output_type": "stream",
     "text": [
      "bone-hup-105\n",
      "Does this patient have T2 available? True\n",
      "I'm doing the thing.\n",
      "bone-hup-110\n",
      "Does this patient have T2 available? True\n",
      "I'm doing the thing.\n"
     ]
    },
    {
     "name": "stderr",
     "output_type": "stream",
     "text": [
      "\r",
      " 59%|█████▊    | 415/708 [01:40<01:12,  4.07it/s]"
     ]
    },
    {
     "name": "stdout",
     "output_type": "stream",
     "text": [
      "bone-penn-647\n",
      "Does this patient have T2 available? True\n",
      "I'm doing the thing.\n"
     ]
    },
    {
     "name": "stderr",
     "output_type": "stream",
     "text": [
      "\r",
      " 59%|█████▉    | 416/708 [01:40<01:10,  4.12it/s]"
     ]
    },
    {
     "name": "stdout",
     "output_type": "stream",
     "text": [
      "bone-penn-644\n",
      "Does this patient have T2 available? True\n",
      "I'm doing the thing.\n"
     ]
    },
    {
     "name": "stderr",
     "output_type": "stream",
     "text": [
      "\r",
      " 59%|█████▉    | 417/708 [01:41<01:55,  2.51it/s]"
     ]
    },
    {
     "name": "stdout",
     "output_type": "stream",
     "text": [
      "bone-penn-653\n",
      "Does this patient have T2 available? True\n",
      "I'm doing the thing.\n"
     ]
    },
    {
     "name": "stderr",
     "output_type": "stream",
     "text": [
      "\r",
      " 59%|█████▉    | 418/708 [01:42<01:46,  2.72it/s]"
     ]
    },
    {
     "name": "stdout",
     "output_type": "stream",
     "text": [
      "bone-penn-616\n",
      "Does this patient have T2 available? True\n",
      "I'm doing the thing.\n"
     ]
    },
    {
     "name": "stderr",
     "output_type": "stream",
     "text": [
      "\r",
      " 59%|█████▉    | 419/708 [01:42<01:36,  2.99it/s]"
     ]
    },
    {
     "name": "stdout",
     "output_type": "stream",
     "text": [
      "bone-penn-615\n",
      "Does this patient have T2 available? True\n",
      "I'm doing the thing.\n"
     ]
    },
    {
     "name": "stderr",
     "output_type": "stream",
     "text": [
      "\r",
      " 59%|█████▉    | 420/708 [01:42<01:49,  2.63it/s]"
     ]
    },
    {
     "name": "stdout",
     "output_type": "stream",
     "text": [
      "bone-penn-124\n",
      "Does this patient have T2 available? True\n",
      "I'm doing the thing.\n"
     ]
    },
    {
     "name": "stderr",
     "output_type": "stream",
     "text": [
      "\r",
      " 59%|█████▉    | 421/708 [01:43<02:24,  1.98it/s]"
     ]
    },
    {
     "name": "stdout",
     "output_type": "stream",
     "text": [
      "bone-penn-225\n",
      "Does this patient have T2 available? False\n",
      "T2 image unavailable\n",
      "bone-penn-466\n",
      "Does this patient have T2 available? True\n",
      "I'm doing the thing.\n"
     ]
    },
    {
     "name": "stderr",
     "output_type": "stream",
     "text": [
      "\r",
      " 60%|█████▉    | 423/708 [01:44<02:12,  2.15it/s]"
     ]
    },
    {
     "name": "stdout",
     "output_type": "stream",
     "text": [
      "bone-hup-162\n",
      "Does this patient have T2 available? False\n",
      "T2 image unavailable\n",
      "bone-china-180\n",
      "Does this patient have T2 available? True\n",
      "I'm doing the thing.\n"
     ]
    },
    {
     "name": "stderr",
     "output_type": "stream",
     "text": [
      " 60%|██████    | 426/708 [01:44<01:30,  3.13it/s]"
     ]
    },
    {
     "name": "stdout",
     "output_type": "stream",
     "text": [
      "bone-hup-177\n",
      "Does this patient have T2 available? True\n",
      "I'm doing the thing.\n",
      "bone-china-200\n",
      "Does this patient have T2 available? True\n",
      "I'm doing the thing.\n"
     ]
    },
    {
     "name": "stderr",
     "output_type": "stream",
     "text": [
      "\r",
      " 60%|██████    | 427/708 [01:45<01:20,  3.49it/s]"
     ]
    },
    {
     "name": "stdout",
     "output_type": "stream",
     "text": [
      "bone-hup-39\n",
      "Does this patient have T2 available? True\n",
      "I'm doing the thing.\n"
     ]
    },
    {
     "name": "stderr",
     "output_type": "stream",
     "text": [
      " 61%|██████    | 429/708 [01:45<01:15,  3.71it/s]"
     ]
    },
    {
     "name": "stdout",
     "output_type": "stream",
     "text": [
      "bone-penn-180\n",
      "Does this patient have T2 available? True\n",
      "I'm doing the thing.\n",
      "bone-penn-439\n",
      "Does this patient have T2 available? True\n",
      "I'm doing the thing.\n"
     ]
    },
    {
     "name": "stderr",
     "output_type": "stream",
     "text": [
      "\r",
      " 61%|██████    | 430/708 [01:46<01:59,  2.33it/s]"
     ]
    },
    {
     "name": "stdout",
     "output_type": "stream",
     "text": [
      "bone-penn-418\n",
      "Does this patient have T2 available? True\n",
      "I'm doing the thing.\n"
     ]
    },
    {
     "name": "stderr",
     "output_type": "stream",
     "text": [
      " 61%|██████    | 432/708 [01:47<01:58,  2.34it/s]"
     ]
    },
    {
     "name": "stdout",
     "output_type": "stream",
     "text": [
      "bone-penn-300\n",
      "Does this patient have T2 available? True\n",
      "I'm doing the thing.\n",
      "bone-penn-200\n",
      "Does this patient have T2 available? True\n",
      "I'm doing the thing.\n"
     ]
    },
    {
     "name": "stderr",
     "output_type": "stream",
     "text": [
      " 61%|██████▏   | 435/708 [01:47<01:15,  3.59it/s]"
     ]
    },
    {
     "name": "stdout",
     "output_type": "stream",
     "text": [
      "bone-penn-251\n",
      "Does this patient have T2 available? False\n",
      "T2 image unavailable\n",
      "bone-hup-263\n",
      "Does this patient have T2 available? True\n",
      "I'm doing the thing.\n",
      "bone-penn-460\n",
      "Does this patient have T2 available? True\n",
      "I'm doing the thing.\n"
     ]
    },
    {
     "name": "stderr",
     "output_type": "stream",
     "text": [
      "\r",
      " 62%|██████▏   | 436/708 [01:48<01:10,  3.87it/s]"
     ]
    },
    {
     "name": "stdout",
     "output_type": "stream",
     "text": [
      "bone-penn-425\n",
      "Does this patient have T2 available? False\n",
      "T2 image unavailable\n",
      "bone-penn-249\n",
      "Does this patient have T2 available? False\n",
      "T2 image unavailable\n",
      "bone-hup-173\n",
      "Does this patient have T2 available? True\n",
      "I'm doing the thing.\n"
     ]
    },
    {
     "name": "stderr",
     "output_type": "stream",
     "text": [
      "\r",
      " 62%|██████▏   | 439/708 [01:48<01:08,  3.93it/s]"
     ]
    },
    {
     "name": "stdout",
     "output_type": "stream",
     "text": [
      "bone-hup-97\n",
      "Does this patient have T2 available? True\n",
      "I'm doing the thing.\n"
     ]
    },
    {
     "name": "stderr",
     "output_type": "stream",
     "text": [
      "\r",
      " 62%|██████▏   | 440/708 [01:49<01:10,  3.78it/s]"
     ]
    },
    {
     "name": "stdout",
     "output_type": "stream",
     "text": [
      "bone-penn-265\n",
      "Does this patient have T2 available? True\n",
      "I'm doing the thing.\n"
     ]
    },
    {
     "name": "stderr",
     "output_type": "stream",
     "text": [
      " 62%|██████▏   | 442/708 [01:49<01:03,  4.20it/s]"
     ]
    },
    {
     "name": "stdout",
     "output_type": "stream",
     "text": [
      "bone-penn-119\n",
      "Does this patient have T2 available? True\n",
      "I'm doing the thing.\n",
      "bone-penn-631\n",
      "Does this patient have T2 available? True\n",
      "I'm doing the thing.\n"
     ]
    },
    {
     "name": "stderr",
     "output_type": "stream",
     "text": [
      " 63%|██████▎   | 444/708 [01:49<00:48,  5.49it/s]"
     ]
    },
    {
     "name": "stdout",
     "output_type": "stream",
     "text": [
      "bone-china-217\n",
      "Does this patient have T2 available? True\n",
      "I'm doing the thing.\n",
      "bone-china-187\n",
      "Does this patient have T2 available? True\n",
      "I'm doing the thing.\n"
     ]
    },
    {
     "name": "stderr",
     "output_type": "stream",
     "text": [
      " 63%|██████▎   | 446/708 [01:50<00:40,  6.45it/s]"
     ]
    },
    {
     "name": "stdout",
     "output_type": "stream",
     "text": [
      "bone-hup-55\n",
      "Does this patient have T2 available? True\n",
      "I'm doing the thing.\n",
      "bone-penn-197\n",
      "Does this patient have T2 available? True\n",
      "I'm doing the thing.\n"
     ]
    },
    {
     "name": "stderr",
     "output_type": "stream",
     "text": [
      "\r",
      " 63%|██████▎   | 447/708 [01:50<00:46,  5.64it/s]"
     ]
    },
    {
     "name": "stdout",
     "output_type": "stream",
     "text": [
      "bone-penn-253\n",
      "Does this patient have T2 available? True\n",
      "I'm doing the thing.\n"
     ]
    },
    {
     "name": "stderr",
     "output_type": "stream",
     "text": [
      "\r",
      " 63%|██████▎   | 448/708 [01:50<00:56,  4.62it/s]"
     ]
    },
    {
     "name": "stdout",
     "output_type": "stream",
     "text": [
      "bone-hup-82\n",
      "Does this patient have T2 available? True\n",
      "I'm doing the thing.\n"
     ]
    },
    {
     "name": "stderr",
     "output_type": "stream",
     "text": [
      "\r",
      " 63%|██████▎   | 449/708 [01:50<01:04,  4.04it/s]"
     ]
    },
    {
     "name": "stdout",
     "output_type": "stream",
     "text": [
      "bone-penn-597\n",
      "Does this patient have T2 available? True\n",
      "I'm doing the thing.\n"
     ]
    },
    {
     "name": "stderr",
     "output_type": "stream",
     "text": [
      "\r",
      " 64%|██████▎   | 450/708 [01:52<03:07,  1.37it/s]"
     ]
    },
    {
     "name": "stdout",
     "output_type": "stream",
     "text": [
      "bone-penn-483\n",
      "Does this patient have T2 available? True\n",
      "I'm doing the thing.\n",
      "bone-penn-472\n",
      "Does this patient have T2 available? False\n",
      "T2 image unavailable\n",
      "bone-hup-226\n",
      "Does this patient have T2 available? True\n",
      "I'm doing the thing.\n"
     ]
    },
    {
     "name": "stderr",
     "output_type": "stream",
     "text": [
      " 64%|██████▍   | 454/708 [01:53<01:45,  2.42it/s]"
     ]
    },
    {
     "name": "stdout",
     "output_type": "stream",
     "text": [
      "bone-china-213\n",
      "Does this patient have T2 available? True\n",
      "I'm doing the thing.\n",
      "bone-penn-244\n",
      "Does this patient have T2 available? True\n",
      "I'm doing the thing.\n"
     ]
    },
    {
     "name": "stderr",
     "output_type": "stream",
     "text": [
      " 64%|██████▍   | 456/708 [01:53<01:09,  3.62it/s]"
     ]
    },
    {
     "name": "stdout",
     "output_type": "stream",
     "text": [
      "bone-penn-252\n",
      "Does this patient have T2 available? True\n",
      "I'm doing the thing.\n",
      "\n",
      "################################################################################\n",
      "Exception occurred for: outcome_pos   1.000\n",
      "outcome_neg   1.000\n",
      "outcome_3     2.000\n",
      "sort              -\n",
      "volume        0.140\n",
      "Name: bone-penn-252, dtype: object\n",
      "index 182 is out of bounds for axis 0 with size 2\n",
      "T2 image unavailable\n",
      "Traceback (most recent call last):\n",
      "  File \"/home/user1/Documents/Bone-MRI/data_gen.py\", line 392, in generate_from_features\n",
      "    t2_masked = load_image(t2_image_file, t2_seg_file, verbose=verbose)\n",
      "  File \"/home/user1/Documents/Bone-MRI/data_gen.py\", line 331, in load_image\n",
      "    return [mask_image_percentile(image, segmentation, 100, a) for a in (0, 1, 2)]\n",
      "  File \"/home/user1/Documents/Bone-MRI/data_gen.py\", line 331, in <listcomp>\n",
      "    return [mask_image_percentile(image, segmentation, 100, a) for a in (0, 1, 2)]\n",
      "  File \"/home/user1/Documents/Bone-MRI/data_gen.py\", line 335, in mask_image_percentile\n",
      "    image, segmentation = select_slice(image, segmentation, plane, axis)\n",
      "  File \"/home/user1/Documents/Bone-MRI/segmentation.py\", line 40, in select_slice\n",
      "    image = axis_plane[axis](image, plane)\n",
      "  File \"/home/user1/Documents/Bone-MRI/segmentation.py\", line 13, in <lambda>\n",
      "    0: lambda image, plane : image[plane, :, :],\n",
      "IndexError: index 182 is out of bounds for axis 0 with size 2\n",
      "\n",
      "bone-penn-642\n",
      "Does this patient have T2 available? True\n",
      "I'm doing the thing.\n"
     ]
    },
    {
     "name": "stderr",
     "output_type": "stream",
     "text": [
      "\r",
      " 65%|██████▍   | 457/708 [01:54<01:33,  2.68it/s]"
     ]
    },
    {
     "name": "stdout",
     "output_type": "stream",
     "text": [
      "bone-hup-68\n",
      "Does this patient have T2 available? True\n",
      "I'm doing the thing.\n",
      "bone-penn-394\n",
      "Does this patient have T2 available? False\n",
      "T2 image unavailable\n",
      "bone-penn-546\n",
      "Does this patient have T2 available? True\n",
      "I'm doing the thing.\n"
     ]
    },
    {
     "name": "stderr",
     "output_type": "stream",
     "text": [
      "\r",
      " 65%|██████▍   | 460/708 [01:54<01:17,  3.20it/s]"
     ]
    },
    {
     "name": "stdout",
     "output_type": "stream",
     "text": [
      "bone-penn-625\n",
      "Does this patient have T2 available? True\n",
      "I'm doing the thing.\n",
      "bone-hup-181\n",
      "Does this patient have T2 available? True\n",
      "I'm doing the thing.\n"
     ]
    },
    {
     "name": "stderr",
     "output_type": "stream",
     "text": [
      "\r",
      " 65%|██████▌   | 462/708 [01:54<01:08,  3.59it/s]"
     ]
    },
    {
     "name": "stdout",
     "output_type": "stream",
     "text": [
      "bone-penn-181\n",
      "Does this patient have T2 available? True\n",
      "I'm doing the thing.\n"
     ]
    },
    {
     "name": "stderr",
     "output_type": "stream",
     "text": [
      "\r",
      " 65%|██████▌   | 463/708 [01:55<01:04,  3.78it/s]"
     ]
    },
    {
     "name": "stdout",
     "output_type": "stream",
     "text": [
      "bone-penn-429\n",
      "Does this patient have T2 available? True\n",
      "I'm doing the thing.\n"
     ]
    },
    {
     "name": "stderr",
     "output_type": "stream",
     "text": [
      " 66%|██████▌   | 465/708 [01:55<00:59,  4.10it/s]"
     ]
    },
    {
     "name": "stdout",
     "output_type": "stream",
     "text": [
      "bone-penn-246\n",
      "Does this patient have T2 available? True\n",
      "I'm doing the thing.\n",
      "bone-penn-623\n",
      "Does this patient have T2 available? False\n",
      "T2 image unavailable\n",
      "bone-hup-168\n",
      "Does this patient have T2 available? True\n",
      "I'm doing the thing.\n"
     ]
    },
    {
     "name": "stderr",
     "output_type": "stream",
     "text": [
      " 66%|██████▌   | 468/708 [01:56<00:42,  5.60it/s]"
     ]
    },
    {
     "name": "stdout",
     "output_type": "stream",
     "text": [
      "bone-china-179\n",
      "Does this patient have T2 available? True\n",
      "I'm doing the thing.\n",
      "bone-china-176\n",
      "Does this patient have T2 available? True\n",
      "I'm doing the thing.\n"
     ]
    },
    {
     "name": "stderr",
     "output_type": "stream",
     "text": [
      " 67%|██████▋   | 471/708 [01:56<00:37,  6.31it/s]"
     ]
    },
    {
     "name": "stdout",
     "output_type": "stream",
     "text": [
      "bone-penn-230\n",
      "Does this patient have T2 available? False\n",
      "T2 image unavailable\n",
      "bone-penn-652\n",
      "Does this patient have T2 available? True\n",
      "I'm doing the thing.\n",
      "bone-hup-202\n",
      "Does this patient have T2 available? True\n",
      "I'm doing the thing.\n"
     ]
    },
    {
     "name": "stderr",
     "output_type": "stream",
     "text": [
      "\r",
      " 67%|██████▋   | 472/708 [01:56<00:49,  4.81it/s]"
     ]
    },
    {
     "name": "stdout",
     "output_type": "stream",
     "text": [
      "bone-penn-465\n",
      "Does this patient have T2 available? True\n",
      "I'm doing the thing.\n"
     ]
    },
    {
     "name": "stderr",
     "output_type": "stream",
     "text": [
      " 67%|██████▋   | 474/708 [01:57<01:11,  3.26it/s]"
     ]
    },
    {
     "name": "stdout",
     "output_type": "stream",
     "text": [
      "bone-hup-176\n",
      "Does this patient have T2 available? True\n",
      "I'm doing the thing.\n",
      "bone-hup-225\n",
      "Does this patient have T2 available? True\n",
      "I'm doing the thing.\n",
      "bone-penn-310\n",
      "Does this patient have T2 available? False\n",
      "T2 image unavailable\n",
      "bone-hup-219\n",
      "Does this patient have T2 available? True\n",
      "I'm doing the thing.\n"
     ]
    },
    {
     "name": "stderr",
     "output_type": "stream",
     "text": [
      " 68%|██████▊   | 478/708 [01:58<00:48,  4.75it/s]"
     ]
    },
    {
     "name": "stdout",
     "output_type": "stream",
     "text": [
      "bone-penn-219\n",
      "Does this patient have T2 available? True\n",
      "I'm doing the thing.\n",
      "bone-penn-228\n",
      "Does this patient have T2 available? True\n",
      "I'm doing the thing.\n"
     ]
    },
    {
     "name": "stderr",
     "output_type": "stream",
     "text": [
      "\r",
      " 68%|██████▊   | 479/708 [01:58<00:45,  5.05it/s]"
     ]
    },
    {
     "name": "stdout",
     "output_type": "stream",
     "text": [
      "bone-hup-172\n",
      "Does this patient have T2 available? False\n",
      "T2 image unavailable\n",
      "bone-penn-364\n",
      "Does this patient have T2 available? True\n",
      "I'm doing the thing.\n"
     ]
    },
    {
     "name": "stderr",
     "output_type": "stream",
     "text": [
      " 68%|██████▊   | 482/708 [01:58<00:44,  5.05it/s]"
     ]
    },
    {
     "name": "stdout",
     "output_type": "stream",
     "text": [
      "bone-penn-654\n",
      "Does this patient have T2 available? True\n",
      "I'm doing the thing.\n",
      "bone-hup-167\n",
      "Does this patient have T2 available? True\n",
      "I'm doing the thing.\n"
     ]
    },
    {
     "name": "stderr",
     "output_type": "stream",
     "text": [
      "\r",
      " 68%|██████▊   | 483/708 [01:59<00:48,  4.62it/s]"
     ]
    },
    {
     "name": "stdout",
     "output_type": "stream",
     "text": [
      "bone-hup-118\n",
      "Does this patient have T2 available? True\n",
      "I'm doing the thing.\n"
     ]
    },
    {
     "name": "stderr",
     "output_type": "stream",
     "text": [
      " 69%|██████▊   | 485/708 [01:59<00:56,  3.94it/s]"
     ]
    },
    {
     "name": "stdout",
     "output_type": "stream",
     "text": [
      "bone-hup-244\n",
      "Does this patient have T2 available? True\n",
      "I'm doing the thing.\n",
      "bone-hup-227\n",
      "Does this patient have T2 available? True\n",
      "I'm doing the thing.\n"
     ]
    },
    {
     "name": "stderr",
     "output_type": "stream",
     "text": [
      "\r",
      " 69%|██████▊   | 486/708 [01:59<00:49,  4.47it/s]"
     ]
    },
    {
     "name": "stdout",
     "output_type": "stream",
     "text": [
      "bone-hup-187\n",
      "Does this patient have T2 available? False\n",
      "T2 image unavailable\n",
      "bone-penn-603\n",
      "Does this patient have T2 available? True\n",
      "I'm doing the thing.\n"
     ]
    },
    {
     "name": "stderr",
     "output_type": "stream",
     "text": [
      "\r",
      " 69%|██████▉   | 488/708 [02:00<00:47,  4.60it/s]"
     ]
    },
    {
     "name": "stdout",
     "output_type": "stream",
     "text": [
      "bone-penn-163\n",
      "Does this patient have T2 available? True\n",
      "I'm doing the thing.\n"
     ]
    },
    {
     "name": "stderr",
     "output_type": "stream",
     "text": [
      "\r",
      " 69%|██████▉   | 489/708 [02:00<00:50,  4.34it/s]"
     ]
    },
    {
     "name": "stdout",
     "output_type": "stream",
     "text": [
      "bone-penn-543\n",
      "Does this patient have T2 available? True\n",
      "I'm doing the thing.\n"
     ]
    },
    {
     "name": "stderr",
     "output_type": "stream",
     "text": [
      "\r",
      " 69%|██████▉   | 490/708 [02:01<01:05,  3.33it/s]"
     ]
    },
    {
     "name": "stdout",
     "output_type": "stream",
     "text": [
      "bone-penn-372\n",
      "Does this patient have T2 available? True\n",
      "I'm doing the thing.\n"
     ]
    },
    {
     "name": "stderr",
     "output_type": "stream",
     "text": [
      " 69%|██████▉   | 492/708 [02:01<00:54,  3.95it/s]"
     ]
    },
    {
     "name": "stdout",
     "output_type": "stream",
     "text": [
      "bone-penn-648\n",
      "Does this patient have T2 available? True\n",
      "I'm doing the thing.\n",
      "bone-penn-604\n",
      "Does this patient have T2 available? False\n",
      "T2 image unavailable\n",
      "bone-china-228\n",
      "Does this patient have T2 available? True\n",
      "I'm doing the thing.\n"
     ]
    },
    {
     "name": "stderr",
     "output_type": "stream",
     "text": [
      "\r",
      " 70%|██████▉   | 494/708 [02:01<00:42,  5.01it/s]"
     ]
    },
    {
     "name": "stdout",
     "output_type": "stream",
     "text": [
      "bone-penn-176\n",
      "Does this patient have T2 available? True\n",
      "I'm doing the thing.\n",
      "bone-hup-132\n",
      "Does this patient have T2 available? True\n",
      "I'm doing the thing.\n"
     ]
    },
    {
     "name": "stderr",
     "output_type": "stream",
     "text": [
      " 70%|███████   | 497/708 [02:02<00:35,  5.87it/s]"
     ]
    },
    {
     "name": "stdout",
     "output_type": "stream",
     "text": [
      "bone-penn-479\n",
      "Does this patient have T2 available? True\n",
      "I'm doing the thing.\n",
      "bone-hup-196\n",
      "Does this patient have T2 available? True\n",
      "I'm doing the thing.\n"
     ]
    },
    {
     "name": "stderr",
     "output_type": "stream",
     "text": [
      "\r",
      " 70%|███████   | 498/708 [02:02<00:38,  5.44it/s]"
     ]
    },
    {
     "name": "stdout",
     "output_type": "stream",
     "text": [
      "bone-hup-180\n",
      "Does this patient have T2 available? True\n",
      "I'm doing the thing.\n"
     ]
    },
    {
     "name": "stderr",
     "output_type": "stream",
     "text": [
      "\r",
      " 70%|███████   | 499/708 [02:02<00:41,  5.01it/s]"
     ]
    },
    {
     "name": "stdout",
     "output_type": "stream",
     "text": [
      "bone-penn-226\n",
      "Does this patient have T2 available? True\n",
      "I'm doing the thing.\n",
      "bone-hup-89\n",
      "Does this patient have T2 available? True\n",
      "I'm doing the thing.\n"
     ]
    },
    {
     "name": "stderr",
     "output_type": "stream",
     "text": [
      "\r",
      " 71%|███████   | 501/708 [02:03<00:43,  4.71it/s]"
     ]
    },
    {
     "name": "stdout",
     "output_type": "stream",
     "text": [
      "bone-hup-93\n",
      "Does this patient have T2 available? True\n",
      "I'm doing the thing.\n"
     ]
    },
    {
     "name": "stderr",
     "output_type": "stream",
     "text": [
      " 71%|███████▏  | 505/708 [02:03<00:44,  4.56it/s]"
     ]
    },
    {
     "name": "stdout",
     "output_type": "stream",
     "text": [
      "bone-hup-224\n",
      "Does this patient have T2 available? True\n",
      "I'm doing the thing.\n",
      "bone-hup-208\n",
      "Does this patient have T2 available? False\n",
      "T2 image unavailable\n",
      "bone-china-192\n",
      "Does this patient have T2 available? True\n",
      "I'm doing the thing.\n",
      "bone-hup-197"
     ]
    },
    {
     "name": "stderr",
     "output_type": "stream",
     "text": [
      "\r",
      " 71%|███████▏  | 506/708 [02:03<00:41,  4.84it/s]"
     ]
    },
    {
     "name": "stdout",
     "output_type": "stream",
     "text": [
      "\n",
      "Does this patient have T2 available? True\n",
      "I'm doing the thing.\n",
      "bone-penn-307\n",
      "Does this patient have T2 available? True\n",
      "I'm doing the thing.\n"
     ]
    },
    {
     "name": "stderr",
     "output_type": "stream",
     "text": [
      " 72%|███████▏  | 508/708 [02:04<00:42,  4.76it/s]"
     ]
    },
    {
     "name": "stdout",
     "output_type": "stream",
     "text": [
      "bone-china-198\n",
      "Does this patient have T2 available? True\n",
      "I'm doing the thing.\n",
      "bone-hup-108\n",
      "Does this patient have T2 available? True\n",
      "I'm doing the thing.\n"
     ]
    },
    {
     "name": "stderr",
     "output_type": "stream",
     "text": [
      " 72%|███████▏  | 510/708 [02:04<00:36,  5.45it/s]"
     ]
    },
    {
     "name": "stdout",
     "output_type": "stream",
     "text": [
      "bone-penn-198\n",
      "Does this patient have T2 available? True\n",
      "I'm doing the thing.\n",
      "bone-china-195\n",
      "Does this patient have T2 available? True\n",
      "I'm doing the thing.\n"
     ]
    },
    {
     "name": "stderr",
     "output_type": "stream",
     "text": [
      " 72%|███████▏  | 512/708 [02:04<00:32,  6.02it/s]"
     ]
    },
    {
     "name": "stdout",
     "output_type": "stream",
     "text": [
      "bone-penn-388\n",
      "Does this patient have T2 available? True\n",
      "I'm doing the thing.\n",
      "bone-penn-194\n",
      "Does this patient have T2 available? True\n",
      "I'm doing the thing.\n"
     ]
    },
    {
     "name": "stderr",
     "output_type": "stream",
     "text": [
      " 73%|███████▎  | 514/708 [02:05<01:00,  3.22it/s]"
     ]
    },
    {
     "name": "stdout",
     "output_type": "stream",
     "text": [
      "bone-penn-318\n",
      "Does this patient have T2 available? True\n",
      "I'm doing the thing.\n",
      "bone-penn-257\n",
      "Does this patient have T2 available? True\n",
      "I'm doing the thing.\n"
     ]
    },
    {
     "name": "stderr",
     "output_type": "stream",
     "text": [
      " 73%|███████▎  | 516/708 [02:06<00:44,  4.36it/s]"
     ]
    },
    {
     "name": "stdout",
     "output_type": "stream",
     "text": [
      "\n",
      "################################################################################\n",
      "Exception occurred for: outcome_pos   1.000\n",
      "outcome_neg   1.000\n",
      "outcome_3     2.000\n",
      "sort              -\n",
      "volume        0.140\n",
      "Name: bone-penn-257, dtype: object\n",
      "index 74 is out of bounds for axis 0 with size 2\n",
      "T2 image unavailable\n",
      "Traceback (most recent call last):\n",
      "  File \"/home/user1/Documents/Bone-MRI/data_gen.py\", line 392, in generate_from_features\n",
      "    t2_masked = load_image(t2_image_file, t2_seg_file, verbose=verbose)\n",
      "  File \"/home/user1/Documents/Bone-MRI/data_gen.py\", line 331, in load_image\n",
      "    return [mask_image_percentile(image, segmentation, 100, a) for a in (0, 1, 2)]\n",
      "  File \"/home/user1/Documents/Bone-MRI/data_gen.py\", line 331, in <listcomp>\n",
      "    return [mask_image_percentile(image, segmentation, 100, a) for a in (0, 1, 2)]\n",
      "  File \"/home/user1/Documents/Bone-MRI/data_gen.py\", line 335, in mask_image_percentile\n",
      "    image, segmentation = select_slice(image, segmentation, plane, axis)\n",
      "  File \"/home/user1/Documents/Bone-MRI/segmentation.py\", line 40, in select_slice\n",
      "    image = axis_plane[axis](image, plane)\n",
      "  File \"/home/user1/Documents/Bone-MRI/segmentation.py\", line 13, in <lambda>\n",
      "    0: lambda image, plane : image[plane, :, :],\n",
      "IndexError: index 74 is out of bounds for axis 0 with size 2\n",
      "\n",
      "bone-hup-229\n",
      "Does this patient have T2 available? True\n",
      "I'm doing the thing.\n",
      "bone-penn-207\n",
      "Does this patient have T2 available? True\n",
      "I'm doing the thing.\n"
     ]
    },
    {
     "name": "stderr",
     "output_type": "stream",
     "text": [
      " 73%|███████▎  | 520/708 [02:06<00:40,  4.67it/s]"
     ]
    },
    {
     "name": "stdout",
     "output_type": "stream",
     "text": [
      "bone-penn-240\n",
      "Does this patient have T2 available? False\n",
      "T2 image unavailable\n",
      "bone-penn-259\n",
      "Does this patient have T2 available? True\n",
      "I'm doing the thing.\n",
      "bone-hup-283\n",
      "Does this patient have T2 available? True\n",
      "I'm doing the thing.\n",
      "bone-penn-599\n",
      "Does this patient have T2 available? True\n",
      "I'm doing the thing.\n"
     ]
    },
    {
     "name": "stderr",
     "output_type": "stream",
     "text": [
      " 74%|███████▎  | 522/708 [02:07<00:48,  3.85it/s]"
     ]
    },
    {
     "name": "stdout",
     "output_type": "stream",
     "text": [
      "bone-hup-66\n",
      "Does this patient have T2 available? True\n",
      "I'm doing the thing.\n",
      "bone-china-178\n",
      "Does this patient have T2 available? False\n",
      "T2 image unavailable\n",
      "bone-penn-214\n",
      "Does this patient have T2 available? True\n",
      "I'm doing the thing.\n"
     ]
    },
    {
     "name": "stderr",
     "output_type": "stream",
     "text": [
      "\r",
      " 74%|███████▍  | 524/708 [02:08<00:45,  4.07it/s]"
     ]
    },
    {
     "name": "stdout",
     "output_type": "stream",
     "text": [
      "bone-penn-354\n",
      "Does this patient have T2 available? False\n",
      "T2 image unavailable\n",
      "bone-penn-192\n",
      "Does this patient have T2 available? True\n",
      "I'm doing the thing.\n"
     ]
    },
    {
     "name": "stderr",
     "output_type": "stream",
     "text": [
      "\r",
      " 74%|███████▍  | 526/708 [02:08<00:43,  4.21it/s]"
     ]
    },
    {
     "name": "stdout",
     "output_type": "stream",
     "text": [
      "bone-penn-199\n",
      "Does this patient have T2 available? False\n",
      "T2 image unavailable\n",
      "bone-hup-277\n",
      "Does this patient have T2 available? True\n",
      "I'm doing the thing.\n"
     ]
    },
    {
     "name": "stderr",
     "output_type": "stream",
     "text": [
      "\r",
      " 75%|███████▍  | 528/708 [02:08<00:38,  4.73it/s]"
     ]
    },
    {
     "name": "stdout",
     "output_type": "stream",
     "text": [
      "bone-penn-254\n",
      "Does this patient have T2 available? True\n",
      "I'm doing the thing.\n"
     ]
    },
    {
     "name": "stderr",
     "output_type": "stream",
     "text": [
      "\r",
      " 75%|███████▍  | 529/708 [02:08<00:38,  4.71it/s]"
     ]
    },
    {
     "name": "stdout",
     "output_type": "stream",
     "text": [
      "bone-hup-179\n",
      "Does this patient have T2 available? True\n",
      "I'm doing the thing.\n",
      "bone-penn-373\n",
      "Does this patient have T2 available? True\n",
      "I'm doing the thing.\n"
     ]
    },
    {
     "name": "stderr",
     "output_type": "stream",
     "text": [
      "\r",
      " 75%|███████▌  | 531/708 [02:09<00:35,  5.01it/s]"
     ]
    },
    {
     "name": "stdout",
     "output_type": "stream",
     "text": [
      "bone-hup-188\n",
      "Does this patient have T2 available? True\n",
      "I'm doing the thing.\n"
     ]
    },
    {
     "name": "stderr",
     "output_type": "stream",
     "text": [
      "\r",
      " 75%|███████▌  | 532/708 [02:09<00:51,  3.41it/s]"
     ]
    },
    {
     "name": "stdout",
     "output_type": "stream",
     "text": [
      "bone-penn-209\n",
      "Does this patient have T2 available? True\n",
      "I'm doing the thing.\n"
     ]
    },
    {
     "name": "stderr",
     "output_type": "stream",
     "text": [
      "\r",
      " 75%|███████▌  | 533/708 [02:10<01:23,  2.11it/s]"
     ]
    },
    {
     "name": "stdout",
     "output_type": "stream",
     "text": [
      "\n",
      "################################################################################\n",
      "Exception occurred for: outcome_pos   1.000\n",
      "outcome_neg   1.000\n",
      "outcome_3     2.000\n",
      "sort              -\n",
      "volume        0.140\n",
      "Name: bone-penn-209, dtype: object\n",
      "index 231 is out of bounds for axis 0 with size 2\n",
      "T2 image unavailable\n",
      "Traceback (most recent call last):\n",
      "  File \"/home/user1/Documents/Bone-MRI/data_gen.py\", line 392, in generate_from_features\n",
      "    t2_masked = load_image(t2_image_file, t2_seg_file, verbose=verbose)\n",
      "  File \"/home/user1/Documents/Bone-MRI/data_gen.py\", line 331, in load_image\n",
      "    return [mask_image_percentile(image, segmentation, 100, a) for a in (0, 1, 2)]\n",
      "  File \"/home/user1/Documents/Bone-MRI/data_gen.py\", line 331, in <listcomp>\n",
      "    return [mask_image_percentile(image, segmentation, 100, a) for a in (0, 1, 2)]\n",
      "  File \"/home/user1/Documents/Bone-MRI/data_gen.py\", line 335, in mask_image_percentile\n",
      "    image, segmentation = select_slice(image, segmentation, plane, axis)\n",
      "  File \"/home/user1/Documents/Bone-MRI/segmentation.py\", line 40, in select_slice\n",
      "    image = axis_plane[axis](image, plane)\n",
      "  File \"/home/user1/Documents/Bone-MRI/segmentation.py\", line 13, in <lambda>\n",
      "    0: lambda image, plane : image[plane, :, :],\n",
      "IndexError: index 231 is out of bounds for axis 0 with size 2\n",
      "\n",
      "bone-penn-308\n",
      "Does this patient have T2 available? False\n",
      "T2 image unavailable\n",
      "bone-penn-179\n",
      "Does this patient have T2 available? True\n",
      "I'm doing the thing.\n"
     ]
    },
    {
     "name": "stderr",
     "output_type": "stream",
     "text": [
      "\r",
      " 76%|███████▌  | 535/708 [02:11<01:12,  2.38it/s]"
     ]
    },
    {
     "name": "stdout",
     "output_type": "stream",
     "text": [
      "bone-hup-239\n",
      "Does this patient have T2 available? True\n",
      "I'm doing the thing.\n"
     ]
    },
    {
     "name": "stderr",
     "output_type": "stream",
     "text": [
      " 76%|███████▌  | 537/708 [02:11<00:53,  3.20it/s]"
     ]
    },
    {
     "name": "stdout",
     "output_type": "stream",
     "text": [
      "bone-hup-133\n",
      "Does this patient have T2 available? True\n",
      "I'm doing the thing.\n",
      "bone-hup-70\n",
      "Does this patient have T2 available? True\n",
      "I'm doing the thing.\n"
     ]
    },
    {
     "name": "stderr",
     "output_type": "stream",
     "text": [
      "\r",
      " 76%|███████▌  | 538/708 [02:11<00:51,  3.30it/s]"
     ]
    },
    {
     "name": "stdout",
     "output_type": "stream",
     "text": [
      "bone-hup-96\n",
      "Does this patient have T2 available? True\n",
      "I'm doing the thing.\n"
     ]
    },
    {
     "name": "stderr",
     "output_type": "stream",
     "text": [
      " 76%|███████▋  | 540/708 [02:12<00:45,  3.67it/s]"
     ]
    },
    {
     "name": "stdout",
     "output_type": "stream",
     "text": [
      "bone-penn-606\n",
      "Does this patient have T2 available? True\n",
      "I'm doing the thing.\n",
      "bone-penn-609\n",
      "Does this patient have T2 available? True\n",
      "I'm doing the thing.\n"
     ]
    },
    {
     "name": "stderr",
     "output_type": "stream",
     "text": [
      " 77%|███████▋  | 542/708 [02:13<01:01,  2.69it/s]"
     ]
    },
    {
     "name": "stdout",
     "output_type": "stream",
     "text": [
      "bone-hup-214\n",
      "Does this patient have T2 available? True\n",
      "I'm doing the thing.\n",
      "bone-penn-628\n",
      "Does this patient have T2 available? True\n",
      "I'm doing the thing."
     ]
    },
    {
     "name": "stderr",
     "output_type": "stream",
     "text": [
      "\r",
      " 77%|███████▋  | 543/708 [02:13<00:51,  3.19it/s]"
     ]
    },
    {
     "name": "stdout",
     "output_type": "stream",
     "text": [
      "\n",
      "bone-hup-59\n",
      "Does this patient have T2 available? True\n",
      "I'm doing the thing.\n"
     ]
    },
    {
     "name": "stderr",
     "output_type": "stream",
     "text": [
      " 77%|███████▋  | 545/708 [02:14<00:42,  3.82it/s]"
     ]
    },
    {
     "name": "stdout",
     "output_type": "stream",
     "text": [
      "bone-hup-91\n",
      "Does this patient have T2 available? True\n",
      "I'm doing the thing.\n",
      "bone-penn-217\n",
      "Does this patient have T2 available? True\n",
      "I'm doing the thing.\n"
     ]
    },
    {
     "name": "stderr",
     "output_type": "stream",
     "text": [
      "\r",
      " 77%|███████▋  | 546/708 [02:15<01:10,  2.29it/s]"
     ]
    },
    {
     "name": "stdout",
     "output_type": "stream",
     "text": [
      "bone-hup-141\n",
      "Does this patient have T2 available? True\n",
      "I'm doing the thing.\n"
     ]
    },
    {
     "name": "stderr",
     "output_type": "stream",
     "text": [
      "\r",
      " 77%|███████▋  | 547/708 [02:15<01:28,  1.82it/s]"
     ]
    },
    {
     "name": "stdout",
     "output_type": "stream",
     "text": [
      "bone-hup-67\n",
      "Does this patient have T2 available? True\n",
      "I'm doing the thing.\n"
     ]
    },
    {
     "name": "stderr",
     "output_type": "stream",
     "text": [
      "\r",
      " 77%|███████▋  | 548/708 [02:16<01:14,  2.15it/s]"
     ]
    },
    {
     "name": "stdout",
     "output_type": "stream",
     "text": [
      "bone-penn-205\n",
      "Does this patient have T2 available? True\n",
      "I'm doing the thing.\n"
     ]
    },
    {
     "name": "stderr",
     "output_type": "stream",
     "text": [
      "\r",
      " 78%|███████▊  | 549/708 [02:17<02:19,  1.14it/s]"
     ]
    },
    {
     "name": "stdout",
     "output_type": "stream",
     "text": [
      "bone-penn-232\n",
      "Does this patient have T2 available? True\n",
      "I'm doing the thing.\n"
     ]
    },
    {
     "name": "stderr",
     "output_type": "stream",
     "text": [
      "\r",
      " 78%|███████▊  | 550/708 [02:18<02:09,  1.22it/s]"
     ]
    },
    {
     "name": "stdout",
     "output_type": "stream",
     "text": [
      "bone-penn-255\n",
      "Does this patient have T2 available? True\n",
      "I'm doing the thing.\n"
     ]
    },
    {
     "name": "stderr",
     "output_type": "stream",
     "text": [
      "\r",
      " 78%|███████▊  | 551/708 [02:19<01:48,  1.44it/s]"
     ]
    },
    {
     "name": "stdout",
     "output_type": "stream",
     "text": [
      "bone-penn-172\n",
      "Does this patient have T2 available? True\n",
      "I'm doing the thing.\n"
     ]
    },
    {
     "name": "stderr",
     "output_type": "stream",
     "text": [
      " 78%|███████▊  | 554/708 [02:19<01:06,  2.33it/s]"
     ]
    },
    {
     "name": "stdout",
     "output_type": "stream",
     "text": [
      "bone-hup-204\n",
      "Does this patient have T2 available? True\n",
      "I'm doing the thing.\n",
      "bone-penn-368\n",
      "Does this patient have T2 available? True\n",
      "I'm doing the thing.\n",
      "bone-hup-231\n",
      "Does this patient have T2 available? True\n",
      "I'm doing the thing.\n"
     ]
    },
    {
     "name": "stderr",
     "output_type": "stream",
     "text": [
      "\r",
      " 78%|███████▊  | 555/708 [02:19<00:55,  2.74it/s]"
     ]
    },
    {
     "name": "stdout",
     "output_type": "stream",
     "text": [
      "bone-hup-230\n",
      "Does this patient have T2 available? False\n",
      "T2 image unavailable\n",
      "bone-hup-160\n",
      "Does this patient have T2 available? True\n",
      "I'm doing the thing.\n"
     ]
    },
    {
     "name": "stderr",
     "output_type": "stream",
     "text": [
      "\r",
      " 79%|███████▊  | 557/708 [02:20<00:53,  2.80it/s]"
     ]
    },
    {
     "name": "stdout",
     "output_type": "stream",
     "text": [
      "bone-penn-622\n",
      "Does this patient have T2 available? True\n",
      "I'm doing the thing.\n"
     ]
    },
    {
     "name": "stderr",
     "output_type": "stream",
     "text": [
      "\r",
      " 79%|███████▉  | 558/708 [02:20<00:52,  2.88it/s]"
     ]
    },
    {
     "name": "stdout",
     "output_type": "stream",
     "text": [
      "bone-penn-123\n",
      "Does this patient have T2 available? True\n",
      "I'm doing the thing.\n"
     ]
    },
    {
     "name": "stderr",
     "output_type": "stream",
     "text": [
      "\r",
      " 79%|███████▉  | 559/708 [02:21<00:50,  2.92it/s]"
     ]
    },
    {
     "name": "stdout",
     "output_type": "stream",
     "text": [
      "bone-penn-531\n",
      "Does this patient have T2 available? True\n",
      "I'm doing the thing.\n",
      "bone-china-188\n",
      "Does this patient have T2 available? True\n",
      "I'm doing the thing.\n"
     ]
    },
    {
     "name": "stderr",
     "output_type": "stream",
     "text": [
      "\r",
      " 79%|███████▉  | 561/708 [02:21<00:40,  3.61it/s]"
     ]
    },
    {
     "name": "stdout",
     "output_type": "stream",
     "text": [
      "bone-china-189\n",
      "Does this patient have T2 available? True\n",
      "I'm doing the thing.\n",
      "bone-china-203\n",
      "Does this patient have T2 available? True\n",
      "I'm doing the thing.\n"
     ]
    },
    {
     "name": "stderr",
     "output_type": "stream",
     "text": [
      "\r",
      " 80%|███████▉  | 563/708 [02:21<00:32,  4.43it/s]"
     ]
    },
    {
     "name": "stdout",
     "output_type": "stream",
     "text": [
      "bone-penn-305\n",
      "Does this patient have T2 available? True\n",
      "I'm doing the thing.\n"
     ]
    },
    {
     "name": "stderr",
     "output_type": "stream",
     "text": [
      " 80%|███████▉  | 565/708 [02:21<00:30,  4.76it/s]"
     ]
    },
    {
     "name": "stdout",
     "output_type": "stream",
     "text": [
      "bone-hup-243\n",
      "Does this patient have T2 available? True\n",
      "I'm doing the thing.\n",
      "bone-hup-234\n",
      "Does this patient have T2 available? True\n",
      "I'm doing the thing.\n"
     ]
    },
    {
     "name": "stderr",
     "output_type": "stream",
     "text": [
      " 80%|████████  | 568/708 [02:22<00:25,  5.53it/s]"
     ]
    },
    {
     "name": "stdout",
     "output_type": "stream",
     "text": [
      "bone-penn-377\n",
      "Does this patient have T2 available? False\n",
      "T2 image unavailable\n",
      "bone-china-204\n",
      "Does this patient have T2 available? True\n",
      "I'm doing the thing.\n",
      "bone-penn-458\n",
      "Does this patient have T2 available? True\n",
      "I'm doing the thing.\n"
     ]
    },
    {
     "name": "stderr",
     "output_type": "stream",
     "text": [
      "\r",
      " 80%|████████  | 569/708 [02:22<00:34,  3.97it/s]"
     ]
    },
    {
     "name": "stdout",
     "output_type": "stream",
     "text": [
      "bone-penn-651\n",
      "Does this patient have T2 available? True\n",
      "I'm doing the thing.\n"
     ]
    },
    {
     "name": "stderr",
     "output_type": "stream",
     "text": [
      "\r",
      " 81%|████████  | 570/708 [02:22<00:33,  4.13it/s]"
     ]
    },
    {
     "name": "stdout",
     "output_type": "stream",
     "text": [
      "bone-penn-650\n",
      "Does this patient have T2 available? True\n",
      "I'm doing the thing.\n"
     ]
    },
    {
     "name": "stderr",
     "output_type": "stream",
     "text": [
      "\r",
      " 81%|████████  | 571/708 [02:23<00:36,  3.75it/s]"
     ]
    },
    {
     "name": "stdout",
     "output_type": "stream",
     "text": [
      "bone-penn-639\n",
      "Does this patient have T2 available? True\n",
      "I'm doing the thing.\n"
     ]
    },
    {
     "name": "stderr",
     "output_type": "stream",
     "text": [
      "\r",
      " 81%|████████  | 572/708 [02:23<00:38,  3.57it/s]"
     ]
    },
    {
     "name": "stdout",
     "output_type": "stream",
     "text": [
      "bone-hup-223\n",
      "Does this patient have T2 available? False\n",
      "T2 image unavailable\n",
      "bone-china-186\n",
      "Does this patient have T2 available? True\n",
      "I'm doing the thing.\n",
      "bone-penn-122\n",
      "Does this patient have T2 available? True\n",
      "I'm doing the thing.\n"
     ]
    },
    {
     "name": "stderr",
     "output_type": "stream",
     "text": [
      "\r",
      " 81%|████████  | 575/708 [02:23<00:29,  4.52it/s]"
     ]
    },
    {
     "name": "stdout",
     "output_type": "stream",
     "text": [
      "bone-hup-86\n",
      "Does this patient have T2 available? True\n",
      "I'm doing the thing.\n"
     ]
    },
    {
     "name": "stderr",
     "output_type": "stream",
     "text": [
      "\r",
      " 81%|████████▏ | 576/708 [02:24<00:53,  2.45it/s]"
     ]
    },
    {
     "name": "stdout",
     "output_type": "stream",
     "text": [
      "bone-hup-109\n",
      "Does this patient have T2 available? True\n",
      "I'm doing the thing.\n"
     ]
    },
    {
     "name": "stderr",
     "output_type": "stream",
     "text": [
      "\r",
      " 81%|████████▏ | 577/708 [02:25<00:55,  2.37it/s]"
     ]
    },
    {
     "name": "stdout",
     "output_type": "stream",
     "text": [
      "bone-penn-231\n",
      "Does this patient have T2 available? True\n",
      "I'm doing the thing.\n"
     ]
    },
    {
     "name": "stderr",
     "output_type": "stream",
     "text": [
      " 82%|████████▏ | 579/708 [02:26<00:56,  2.28it/s]"
     ]
    },
    {
     "name": "stdout",
     "output_type": "stream",
     "text": [
      "bone-penn-173\n",
      "Does this patient have T2 available? True\n",
      "I'm doing the thing.\n",
      "bone-china-210\n",
      "Does this patient have T2 available? True\n",
      "I'm doing the thing.\n"
     ]
    },
    {
     "name": "stderr",
     "output_type": "stream",
     "text": [
      "\r",
      " 82%|████████▏ | 580/708 [02:26<00:44,  2.86it/s]"
     ]
    },
    {
     "name": "stdout",
     "output_type": "stream",
     "text": [
      "bone-penn-177\n",
      "Does this patient have T2 available? True\n",
      "I'm doing the thing.\n"
     ]
    },
    {
     "name": "stderr",
     "output_type": "stream",
     "text": [
      "\r",
      " 82%|████████▏ | 581/708 [02:26<00:44,  2.87it/s]"
     ]
    },
    {
     "name": "stdout",
     "output_type": "stream",
     "text": [
      "bone-penn-632\n",
      "Does this patient have T2 available? True\n",
      "I'm doing the thing.\n"
     ]
    },
    {
     "name": "stderr",
     "output_type": "stream",
     "text": [
      " 82%|████████▏ | 584/708 [02:27<00:30,  4.06it/s]"
     ]
    },
    {
     "name": "stdout",
     "output_type": "stream",
     "text": [
      "bone-china-191\n",
      "Does this patient have T2 available? True\n",
      "I'm doing the thing.\n",
      "bone-china-199\n",
      "Does this patient have T2 available? True\n",
      "I'm doing the thing.\n",
      "bone-penn-629\n",
      "Does this patient have T2 available? True\n",
      "I'm doing the thing.\n"
     ]
    },
    {
     "name": "stderr",
     "output_type": "stream",
     "text": [
      "\r",
      " 83%|████████▎ | 585/708 [02:27<00:28,  4.28it/s]"
     ]
    },
    {
     "name": "stdout",
     "output_type": "stream",
     "text": [
      "bone-hup-216\n",
      "Does this patient have T2 available? True\n",
      "I'm doing the thing.\n"
     ]
    },
    {
     "name": "stderr",
     "output_type": "stream",
     "text": [
      "\r",
      " 83%|████████▎ | 586/708 [02:27<00:29,  4.19it/s]"
     ]
    },
    {
     "name": "stdout",
     "output_type": "stream",
     "text": [
      "bone-penn-263\n",
      "Does this patient have T2 available? True\n",
      "I'm doing the thing.\n"
     ]
    },
    {
     "name": "stderr",
     "output_type": "stream",
     "text": [
      " 83%|████████▎ | 588/708 [02:28<00:29,  4.00it/s]"
     ]
    },
    {
     "name": "stdout",
     "output_type": "stream",
     "text": [
      "bone-china-223\n",
      "Does this patient have T2 available? True\n",
      "I'm doing the thing.\n",
      "bone-hup-61\n",
      "Does this patient have T2 available? True\n",
      "I'm doing the thing.\n"
     ]
    },
    {
     "name": "stderr",
     "output_type": "stream",
     "text": [
      " 83%|████████▎ | 590/708 [02:28<00:24,  4.76it/s]"
     ]
    },
    {
     "name": "stdout",
     "output_type": "stream",
     "text": [
      "bone-china-194\n",
      "Does this patient have T2 available? True\n",
      "I'm doing the thing.\n",
      "bone-penn-602\n",
      "Does this patient have T2 available? True\n",
      "I'm doing the thing.\n"
     ]
    },
    {
     "name": "stderr",
     "output_type": "stream",
     "text": [
      "\r",
      " 83%|████████▎ | 591/708 [02:28<00:32,  3.62it/s]"
     ]
    },
    {
     "name": "stdout",
     "output_type": "stream",
     "text": [
      "bone-penn-220\n",
      "Does this patient have T2 available? True\n",
      "I'm doing the thing.\n"
     ]
    },
    {
     "name": "stderr",
     "output_type": "stream",
     "text": [
      "\r",
      " 84%|████████▎ | 592/708 [02:29<00:30,  3.82it/s]"
     ]
    },
    {
     "name": "stdout",
     "output_type": "stream",
     "text": [
      "bone-hup-111\n",
      "Does this patient have T2 available? True\n",
      "I'm doing the thing.\n"
     ]
    },
    {
     "name": "stderr",
     "output_type": "stream",
     "text": [
      " 84%|████████▍ | 594/708 [02:29<00:33,  3.40it/s]"
     ]
    },
    {
     "name": "stdout",
     "output_type": "stream",
     "text": [
      "bone-penn-379\n",
      "Does this patient have T2 available? True\n",
      "I'm doing the thing.\n",
      "bone-hup-205\n",
      "Does this patient have T2 available? True\n",
      "I'm doing the thing.\n"
     ]
    },
    {
     "name": "stderr",
     "output_type": "stream",
     "text": [
      "\r",
      " 84%|████████▍ | 595/708 [02:30<00:34,  3.24it/s]"
     ]
    },
    {
     "name": "stdout",
     "output_type": "stream",
     "text": [
      "bone-hup-88\n",
      "Does this patient have T2 available? True\n",
      "I'm doing the thing.\n"
     ]
    },
    {
     "name": "stderr",
     "output_type": "stream",
     "text": [
      "\r",
      " 84%|████████▍ | 596/708 [02:30<00:39,  2.83it/s]"
     ]
    },
    {
     "name": "stdout",
     "output_type": "stream",
     "text": [
      "bone-penn-203\n",
      "Does this patient have T2 available? True\n",
      "I'm doing the thing.\n"
     ]
    },
    {
     "name": "stderr",
     "output_type": "stream",
     "text": [
      "\r",
      " 84%|████████▍ | 597/708 [02:31<00:55,  1.99it/s]"
     ]
    },
    {
     "name": "stdout",
     "output_type": "stream",
     "text": [
      "bone-hup-57\n",
      "Does this patient have T2 available? False\n",
      "T2 image unavailable\n",
      "bone-penn-269\n",
      "Does this patient have T2 available? True\n",
      "I'm doing the thing.\n",
      "bone-penn-306\n",
      "Does this patient have T2 available? True\n",
      "I'm doing the thing.\n"
     ]
    },
    {
     "name": "stderr",
     "output_type": "stream",
     "text": [
      " 85%|████████▍ | 601/708 [02:31<00:31,  3.38it/s]"
     ]
    },
    {
     "name": "stdout",
     "output_type": "stream",
     "text": [
      "bone-china-215\n",
      "Does this patient have T2 available? True\n",
      "I'm doing the thing.\n",
      "bone-hup-23\n",
      "Does this patient have T2 available? True\n",
      "I'm doing the thing.\n"
     ]
    },
    {
     "name": "stderr",
     "output_type": "stream",
     "text": [
      "\r",
      " 85%|████████▌ | 602/708 [02:32<00:41,  2.52it/s]"
     ]
    },
    {
     "name": "stdout",
     "output_type": "stream",
     "text": [
      "bone-penn-196\n",
      "Does this patient have T2 available? False\n",
      "T2 image unavailable\n",
      "bone-penn-215\n",
      "Does this patient have T2 available? True\n",
      "I'm doing the thing.\n"
     ]
    },
    {
     "name": "stderr",
     "output_type": "stream",
     "text": [
      "\r",
      " 85%|████████▌ | 604/708 [02:32<00:35,  2.93it/s]"
     ]
    },
    {
     "name": "stdout",
     "output_type": "stream",
     "text": [
      "bone-hup-2\n",
      "Does this patient have T2 available? True\n",
      "I'm doing the thing.\n"
     ]
    },
    {
     "name": "stderr",
     "output_type": "stream",
     "text": [
      " 86%|████████▌ | 606/708 [02:34<00:44,  2.30it/s]"
     ]
    },
    {
     "name": "stdout",
     "output_type": "stream",
     "text": [
      "bone-hup-228\n",
      "Does this patient have T2 available? True\n",
      "I'm doing the thing.\n",
      "bone-penn-618\n",
      "Does this patient have T2 available? True\n",
      "I'm doing the thing.\n"
     ]
    },
    {
     "name": "stderr",
     "output_type": "stream",
     "text": [
      " 86%|████████▌ | 608/708 [02:34<00:30,  3.25it/s]"
     ]
    },
    {
     "name": "stdout",
     "output_type": "stream",
     "text": [
      "bone-hup-185\n",
      "Does this patient have T2 available? True\n",
      "I'm doing the thing.\n",
      "bone-penn-414\n",
      "Does this patient have T2 available? True\n",
      "I'm doing the thing.\n"
     ]
    },
    {
     "name": "stderr",
     "output_type": "stream",
     "text": [
      "\r",
      " 86%|████████▌ | 609/708 [02:34<00:24,  4.02it/s]"
     ]
    },
    {
     "name": "stdout",
     "output_type": "stream",
     "text": [
      "bone-penn-213\n",
      "Does this patient have T2 available? False\n",
      "T2 image unavailable\n",
      "bone-hup-112\n",
      "Does this patient have T2 available? True\n",
      "I'm doing the thing.\n"
     ]
    },
    {
     "name": "stderr",
     "output_type": "stream",
     "text": [
      " 86%|████████▋ | 612/708 [02:35<00:20,  4.79it/s]"
     ]
    },
    {
     "name": "stdout",
     "output_type": "stream",
     "text": [
      "bone-penn-183\n",
      "Does this patient have T2 available? True\n",
      "I'm doing the thing.\n",
      "bone-hup-170\n",
      "Does this patient have T2 available? True\n",
      "I'm doing the thing.\n",
      "bone-penn-120\n",
      "Does this patient have T2 available? True\n",
      "I'm doing the thing.\n"
     ]
    },
    {
     "name": "stderr",
     "output_type": "stream",
     "text": [
      " 87%|████████▋ | 615/708 [02:35<00:16,  5.48it/s]"
     ]
    },
    {
     "name": "stdout",
     "output_type": "stream",
     "text": [
      "bone-hup-104\n",
      "Does this patient have T2 available? True\n",
      "I'm doing the thing.\n",
      "bone-penn-272\n",
      "Does this patient have T2 available? False\n",
      "T2 image unavailable\n",
      "bone-penn-216\n",
      "Does this patient have T2 available? True\n",
      "I'm doing the thing.\n"
     ]
    },
    {
     "name": "stderr",
     "output_type": "stream",
     "text": [
      "\r",
      " 87%|████████▋ | 617/708 [02:35<00:13,  6.67it/s]"
     ]
    },
    {
     "name": "stdout",
     "output_type": "stream",
     "text": [
      "bone-hup-209\n",
      "Does this patient have T2 available? False\n",
      "T2 image unavailable\n",
      "bone-penn-221\n",
      "Does this patient have T2 available? False\n",
      "T2 image unavailable\n",
      "bone-hup-201\n",
      "Does this patient have T2 available? True\n",
      "I'm doing the thing.\n"
     ]
    },
    {
     "name": "stderr",
     "output_type": "stream",
     "text": [
      " 88%|████████▊ | 621/708 [02:36<00:11,  7.43it/s]"
     ]
    },
    {
     "name": "stdout",
     "output_type": "stream",
     "text": [
      "bone-penn-605\n",
      "Does this patient have T2 available? True\n",
      "I'm doing the thing.\n",
      "bone-hup-63\n",
      "Does this patient have T2 available? False\n",
      "T2 image unavailable\n",
      "bone-hup-245\n",
      "Does this patient have T2 available? True\n",
      "I'm doing the thing.\n"
     ]
    },
    {
     "name": "stderr",
     "output_type": "stream",
     "text": [
      "\r",
      " 88%|████████▊ | 623/708 [02:36<00:10,  7.87it/s]"
     ]
    },
    {
     "name": "stdout",
     "output_type": "stream",
     "text": [
      "bone-penn-241\n",
      "Does this patient have T2 available? True\n",
      "I'm doing the thing.\n"
     ]
    },
    {
     "name": "stderr",
     "output_type": "stream",
     "text": [
      "\r",
      " 88%|████████▊ | 624/708 [02:36<00:23,  3.57it/s]"
     ]
    },
    {
     "name": "stdout",
     "output_type": "stream",
     "text": [
      "bone-penn-169\n",
      "Does this patient have T2 available? True\n",
      "I'm doing the thing.\n"
     ]
    },
    {
     "name": "stderr",
     "output_type": "stream",
     "text": [
      " 88%|████████▊ | 626/708 [02:37<00:21,  3.90it/s]"
     ]
    },
    {
     "name": "stdout",
     "output_type": "stream",
     "text": [
      "bone-china-209\n",
      "Does this patient have T2 available? True\n",
      "I'm doing the thing.\n",
      "bone-penn-309\n",
      "Does this patient have T2 available? True\n",
      "I'm doing the thing.\n"
     ]
    },
    {
     "name": "stderr",
     "output_type": "stream",
     "text": [
      "\r",
      " 89%|████████▊ | 627/708 [02:37<00:20,  3.95it/s]"
     ]
    },
    {
     "name": "stdout",
     "output_type": "stream",
     "text": [
      "bone-hup-107\n",
      "Does this patient have T2 available? True\n",
      "I'm doing the thing.\n"
     ]
    },
    {
     "name": "stderr",
     "output_type": "stream",
     "text": [
      " 89%|████████▉ | 629/708 [02:38<00:21,  3.69it/s]"
     ]
    },
    {
     "name": "stdout",
     "output_type": "stream",
     "text": [
      "bone-hup-58\n",
      "Does this patient have T2 available? True\n",
      "I'm doing the thing.\n",
      "\n",
      "################################################################################\n",
      "Exception occurred for: outcome_pos   1.000\n",
      "outcome_neg   1.000\n",
      "outcome_3     2.000\n",
      "sort              -\n",
      "volume        0.140\n",
      "Name: bone-hup-58, dtype: object\n",
      "index 163 is out of bounds for axis 0 with size 2\n",
      "T2 image unavailable\n",
      "Traceback (most recent call last):\n",
      "  File \"/home/user1/Documents/Bone-MRI/data_gen.py\", line 392, in generate_from_features\n",
      "    t2_masked = load_image(t2_image_file, t2_seg_file, verbose=verbose)\n",
      "  File \"/home/user1/Documents/Bone-MRI/data_gen.py\", line 331, in load_image\n",
      "    return [mask_image_percentile(image, segmentation, 100, a) for a in (0, 1, 2)]\n",
      "  File \"/home/user1/Documents/Bone-MRI/data_gen.py\", line 331, in <listcomp>\n",
      "    return [mask_image_percentile(image, segmentation, 100, a) for a in (0, 1, 2)]\n",
      "  File \"/home/user1/Documents/Bone-MRI/data_gen.py\", line 335, in mask_image_percentile\n",
      "    image, segmentation = select_slice(image, segmentation, plane, axis)\n",
      "  File \"/home/user1/Documents/Bone-MRI/segmentation.py\", line 40, in select_slice\n",
      "    image = axis_plane[axis](image, plane)\n",
      "  File \"/home/user1/Documents/Bone-MRI/segmentation.py\", line 13, in <lambda>\n",
      "    0: lambda image, plane : image[plane, :, :],\n",
      "IndexError: index 163 is out of bounds for axis 0 with size 2\n",
      "\n",
      "bone-penn-223\n",
      "Does this patient have T2 available? True\n",
      "I'm doing the thing.\n"
     ]
    },
    {
     "name": "stderr",
     "output_type": "stream",
     "text": [
      "\r",
      " 89%|████████▉ | 630/708 [02:39<00:32,  2.36it/s]"
     ]
    },
    {
     "name": "stdout",
     "output_type": "stream",
     "text": [
      "bone-penn-273\n",
      "Does this patient have T2 available? True\n",
      "I'm doing the thing.\n"
     ]
    },
    {
     "name": "stderr",
     "output_type": "stream",
     "text": [
      "\r",
      " 89%|████████▉ | 631/708 [02:39<00:38,  2.00it/s]"
     ]
    },
    {
     "name": "stdout",
     "output_type": "stream",
     "text": [
      "\n",
      "################################################################################\n",
      "Exception occurred for: outcome_pos   1.000\n",
      "outcome_neg   1.000\n",
      "outcome_3     2.000\n",
      "sort              -\n",
      "volume        0.141\n",
      "Name: bone-penn-273, dtype: object\n",
      "index 246 is out of bounds for axis 0 with size 2\n",
      "T2 image unavailable\n",
      "Traceback (most recent call last):\n",
      "  File \"/home/user1/Documents/Bone-MRI/data_gen.py\", line 392, in generate_from_features\n",
      "    t2_masked = load_image(t2_image_file, t2_seg_file, verbose=verbose)\n",
      "  File \"/home/user1/Documents/Bone-MRI/data_gen.py\", line 331, in load_image\n",
      "    return [mask_image_percentile(image, segmentation, 100, a) for a in (0, 1, 2)]\n",
      "  File \"/home/user1/Documents/Bone-MRI/data_gen.py\", line 331, in <listcomp>\n",
      "    return [mask_image_percentile(image, segmentation, 100, a) for a in (0, 1, 2)]\n",
      "  File \"/home/user1/Documents/Bone-MRI/data_gen.py\", line 335, in mask_image_percentile\n",
      "    image, segmentation = select_slice(image, segmentation, plane, axis)\n",
      "  File \"/home/user1/Documents/Bone-MRI/segmentation.py\", line 40, in select_slice\n",
      "    image = axis_plane[axis](image, plane)\n",
      "  File \"/home/user1/Documents/Bone-MRI/segmentation.py\", line 13, in <lambda>\n",
      "    0: lambda image, plane : image[plane, :, :],\n",
      "IndexError: index 246 is out of bounds for axis 0 with size 2\n",
      "\n",
      "bone-hup-92\n",
      "Does this patient have T2 available? True\n",
      "I'm doing the thing.\n"
     ]
    },
    {
     "name": "stderr",
     "output_type": "stream",
     "text": [
      "\r",
      " 89%|████████▉ | 632/708 [02:40<00:31,  2.41it/s]"
     ]
    },
    {
     "name": "stdout",
     "output_type": "stream",
     "text": [
      "bone-penn-201\n",
      "Does this patient have T2 available? False\n",
      "T2 image unavailable\n",
      "bone-penn-311\n",
      "Does this patient have T2 available? True\n",
      "I'm doing the thing.\n"
     ]
    },
    {
     "name": "stderr",
     "output_type": "stream",
     "text": [
      "\r",
      " 90%|████████▉ | 634/708 [02:40<00:26,  2.81it/s]"
     ]
    },
    {
     "name": "stdout",
     "output_type": "stream",
     "text": [
      "bone-hup-22\n",
      "Does this patient have T2 available? True\n",
      "I'm doing the thing.\n"
     ]
    },
    {
     "name": "stderr",
     "output_type": "stream",
     "text": [
      " 90%|████████▉ | 637/708 [02:40<00:17,  4.03it/s]"
     ]
    },
    {
     "name": "stdout",
     "output_type": "stream",
     "text": [
      "bone-penn-477\n",
      "Does this patient have T2 available? False\n",
      "T2 image unavailable\n",
      "bone-hup-207\n",
      "Does this patient have T2 available? True\n",
      "I'm doing the thing.\n",
      "bone-penn-643\n",
      "Does this patient have T2 available? True\n",
      "I'm doing the thing.\n"
     ]
    },
    {
     "name": "stderr",
     "output_type": "stream",
     "text": [
      "\r",
      " 90%|█████████ | 638/708 [02:41<00:23,  3.01it/s]"
     ]
    },
    {
     "name": "stdout",
     "output_type": "stream",
     "text": [
      "bone-hup-221\n",
      "Does this patient have T2 available? False\n",
      "T2 image unavailable\n",
      "bone-hup-56\n",
      "Does this patient have T2 available? True\n",
      "I'm doing the thing.\n"
     ]
    },
    {
     "name": "stderr",
     "output_type": "stream",
     "text": [
      " 91%|█████████ | 641/708 [02:41<00:16,  4.11it/s]"
     ]
    },
    {
     "name": "stdout",
     "output_type": "stream",
     "text": [
      "bone-penn-195\n",
      "Does this patient have T2 available? True\n",
      "I'm doing the thing.\n",
      "bone-hup-83\n",
      "Does this patient have T2 available? True\n",
      "I'm doing the thing.\n"
     ]
    },
    {
     "name": "stderr",
     "output_type": "stream",
     "text": [
      "\r",
      " 91%|█████████ | 642/708 [02:42<00:15,  4.21it/s]"
     ]
    },
    {
     "name": "stdout",
     "output_type": "stream",
     "text": [
      "bone-china-222\n",
      "Does this patient have T2 available? True\n",
      "I'm doing the thing.\n",
      "bone-penn-262\n",
      "Does this patient have T2 available? True\n",
      "I'm doing the thing.\n"
     ]
    },
    {
     "name": "stderr",
     "output_type": "stream",
     "text": [
      " 91%|█████████ | 645/708 [02:42<00:13,  4.71it/s]"
     ]
    },
    {
     "name": "stdout",
     "output_type": "stream",
     "text": [
      "\n",
      "################################################################################\n",
      "Exception occurred for: outcome_pos   1.000\n",
      "outcome_neg   1.000\n",
      "outcome_3     2.000\n",
      "sort              -\n",
      "volume        0.140\n",
      "Name: bone-penn-262, dtype: object\n",
      "index 352 is out of bounds for axis 0 with size 2\n",
      "T2 image unavailable\n",
      "Traceback (most recent call last):\n",
      "  File \"/home/user1/Documents/Bone-MRI/data_gen.py\", line 392, in generate_from_features\n",
      "    t2_masked = load_image(t2_image_file, t2_seg_file, verbose=verbose)\n",
      "  File \"/home/user1/Documents/Bone-MRI/data_gen.py\", line 331, in load_image\n",
      "    return [mask_image_percentile(image, segmentation, 100, a) for a in (0, 1, 2)]\n",
      "  File \"/home/user1/Documents/Bone-MRI/data_gen.py\", line 331, in <listcomp>\n",
      "    return [mask_image_percentile(image, segmentation, 100, a) for a in (0, 1, 2)]\n",
      "  File \"/home/user1/Documents/Bone-MRI/data_gen.py\", line 335, in mask_image_percentile\n",
      "    image, segmentation = select_slice(image, segmentation, plane, axis)\n",
      "  File \"/home/user1/Documents/Bone-MRI/segmentation.py\", line 40, in select_slice\n",
      "    image = axis_plane[axis](image, plane)\n",
      "  File \"/home/user1/Documents/Bone-MRI/segmentation.py\", line 13, in <lambda>\n",
      "    0: lambda image, plane : image[plane, :, :],\n",
      "IndexError: index 352 is out of bounds for axis 0 with size 2\n",
      "\n",
      "bone-china-231\n",
      "Does this patient have T2 available? True\n",
      "I'm doing the thing.\n",
      "bone-penn-227\n",
      "Does this patient have T2 available? True\n",
      "I'm doing the thing.\n"
     ]
    },
    {
     "name": "stderr",
     "output_type": "stream",
     "text": [
      "\r",
      " 91%|█████████ | 646/708 [02:43<00:31,  1.98it/s]"
     ]
    },
    {
     "name": "stdout",
     "output_type": "stream",
     "text": [
      "bone-penn-626\n",
      "Does this patient have T2 available? True\n",
      "I'm doing the thing.\n",
      "bone-penn-370\n",
      "Does this patient have T2 available? True\n",
      "I'm doing the thing.\n"
     ]
    },
    {
     "name": "stderr",
     "output_type": "stream",
     "text": [
      " 92%|█████████▏| 649/708 [02:44<00:19,  3.01it/s]"
     ]
    },
    {
     "name": "stdout",
     "output_type": "stream",
     "text": [
      "bone-hup-166\n",
      "Does this patient have T2 available? True\n",
      "I'm doing the thing.\n",
      "bone-penn-174\n",
      "Does this patient have T2 available? True\n",
      "I'm doing the thing.\n"
     ]
    },
    {
     "name": "stderr",
     "output_type": "stream",
     "text": [
      " 92%|█████████▏| 651/708 [02:44<00:13,  4.13it/s]"
     ]
    },
    {
     "name": "stdout",
     "output_type": "stream",
     "text": [
      "bone-penn-237\n",
      "Does this patient have T2 available? True\n",
      "I'm doing the thing.\n",
      "bone-hup-261\n",
      "Does this patient have T2 available? True\n",
      "I'm doing the thing.\n"
     ]
    },
    {
     "name": "stderr",
     "output_type": "stream",
     "text": [
      "\r",
      " 92%|█████████▏| 652/708 [02:45<00:29,  1.93it/s]"
     ]
    },
    {
     "name": "stdout",
     "output_type": "stream",
     "text": [
      "bone-hup-184\n",
      "Does this patient have T2 available? False\n",
      "T2 image unavailable\n",
      "bone-hup-198\n",
      "Does this patient have T2 available? True\n",
      "I'm doing the thing.\n"
     ]
    },
    {
     "name": "stderr",
     "output_type": "stream",
     "text": [
      " 93%|█████████▎| 655/708 [02:46<00:16,  3.16it/s]"
     ]
    },
    {
     "name": "stdout",
     "output_type": "stream",
     "text": [
      "bone-china-197\n",
      "Does this patient have T2 available? True\n",
      "I'm doing the thing.\n",
      "bone-hup-113\n",
      "Does this patient have T2 available? True\n",
      "I'm doing the thing.\n"
     ]
    },
    {
     "name": "stderr",
     "output_type": "stream",
     "text": [
      " 93%|█████████▎| 657/708 [02:46<00:12,  4.17it/s]"
     ]
    },
    {
     "name": "stdout",
     "output_type": "stream",
     "text": [
      "bone-hup-213\n",
      "Does this patient have T2 available? True\n",
      "I'm doing the thing.\n",
      "bone-penn-186\n",
      "Does this patient have T2 available? False\n",
      "T2 image unavailable\n",
      "bone-penn-245\n",
      "Does this patient have T2 available? True\n",
      "I'm doing the thing.\n"
     ]
    },
    {
     "name": "stderr",
     "output_type": "stream",
     "text": [
      " 93%|█████████▎| 660/708 [02:46<00:08,  5.87it/s]"
     ]
    },
    {
     "name": "stdout",
     "output_type": "stream",
     "text": [
      "bone-penn-247\n",
      "Does this patient have T2 available? True\n",
      "I'm doing the thing.\n",
      "bone-hup-232\n",
      "Does this patient have T2 available? True\n",
      "I'm doing the thing.\n"
     ]
    },
    {
     "name": "stderr",
     "output_type": "stream",
     "text": [
      " 94%|█████████▎| 662/708 [02:47<00:09,  5.06it/s]"
     ]
    },
    {
     "name": "stdout",
     "output_type": "stream",
     "text": [
      "bone-penn-640\n",
      "Does this patient have T2 available? True\n",
      "I'm doing the thing.\n",
      "bone-hup-98\n",
      "Does this patient have T2 available? True\n",
      "I'm doing the thing.\n"
     ]
    },
    {
     "name": "stderr",
     "output_type": "stream",
     "text": [
      "\r",
      " 94%|█████████▎| 663/708 [02:47<00:09,  4.94it/s]"
     ]
    },
    {
     "name": "stdout",
     "output_type": "stream",
     "text": [
      "bone-penn-236\n",
      "Does this patient have T2 available? True\n",
      "I'm doing the thing.\n"
     ]
    },
    {
     "name": "stderr",
     "output_type": "stream",
     "text": [
      "\r",
      " 94%|█████████▍| 664/708 [02:47<00:11,  3.95it/s]"
     ]
    },
    {
     "name": "stdout",
     "output_type": "stream",
     "text": [
      "bone-hup-186\n",
      "Does this patient have T2 available? True\n",
      "I'm doing the thing.\n"
     ]
    },
    {
     "name": "stderr",
     "output_type": "stream",
     "text": [
      " 94%|█████████▍| 666/708 [02:48<00:10,  4.04it/s]"
     ]
    },
    {
     "name": "stdout",
     "output_type": "stream",
     "text": [
      "bone-hup-53\n",
      "Does this patient have T2 available? True\n",
      "I'm doing the thing.\n",
      "bone-penn-611\n",
      "Does this patient have T2 available? True\n",
      "I'm doing the thing.\n"
     ]
    },
    {
     "name": "stderr",
     "output_type": "stream",
     "text": [
      "\r",
      " 94%|█████████▍| 667/708 [02:48<00:10,  3.78it/s]"
     ]
    },
    {
     "name": "stdout",
     "output_type": "stream",
     "text": [
      "bone-penn-242\n",
      "Does this patient have T2 available? True\n",
      "I'm doing the thing.\n"
     ]
    },
    {
     "name": "stderr",
     "output_type": "stream",
     "text": [
      "\r",
      " 94%|█████████▍| 668/708 [02:49<00:11,  3.36it/s]"
     ]
    },
    {
     "name": "stdout",
     "output_type": "stream",
     "text": [
      "bone-hup-115\n",
      "Does this patient have T2 available? True\n",
      "I'm doing the thing.\n"
     ]
    },
    {
     "name": "stderr",
     "output_type": "stream",
     "text": [
      " 95%|█████████▍| 670/708 [02:49<00:09,  3.88it/s]"
     ]
    },
    {
     "name": "stdout",
     "output_type": "stream",
     "text": [
      "bone-hup-183\n",
      "Does this patient have T2 available? True\n",
      "I'm doing the thing.\n",
      "bone-hup-69\n",
      "Does this patient have T2 available? True\n",
      "I'm doing the thing.\n"
     ]
    },
    {
     "name": "stderr",
     "output_type": "stream",
     "text": [
      "\r",
      " 95%|█████████▍| 671/708 [02:49<00:09,  4.00it/s]"
     ]
    },
    {
     "name": "stdout",
     "output_type": "stream",
     "text": [
      "bone-hup-138\n",
      "Does this patient have T2 available? True\n",
      "I'm doing the thing.\n"
     ]
    },
    {
     "name": "stderr",
     "output_type": "stream",
     "text": [
      "\r",
      " 95%|█████████▍| 672/708 [02:50<00:09,  3.69it/s]"
     ]
    },
    {
     "name": "stdout",
     "output_type": "stream",
     "text": [
      "bone-penn-167\n",
      "Does this patient have T2 available? True\n",
      "I'm doing the thing.\n"
     ]
    },
    {
     "name": "stderr",
     "output_type": "stream",
     "text": [
      "\r",
      " 95%|█████████▌| 673/708 [02:50<00:10,  3.47it/s]"
     ]
    },
    {
     "name": "stdout",
     "output_type": "stream",
     "text": [
      "bone-penn-210\n",
      "Does this patient have T2 available? True\n",
      "I'm doing the thing.\n"
     ]
    },
    {
     "name": "stderr",
     "output_type": "stream",
     "text": [
      " 95%|█████████▌| 675/708 [02:50<00:07,  4.30it/s]"
     ]
    },
    {
     "name": "stdout",
     "output_type": "stream",
     "text": [
      "bone-hup-175\n",
      "Does this patient have T2 available? True\n",
      "I'm doing the thing.\n",
      "bone-penn-218\n",
      "Does this patient have T2 available? True\n",
      "I'm doing the thing.\n"
     ]
    },
    {
     "name": "stderr",
     "output_type": "stream",
     "text": [
      "\r",
      " 95%|█████████▌| 676/708 [02:51<00:10,  3.13it/s]"
     ]
    },
    {
     "name": "stdout",
     "output_type": "stream",
     "text": [
      "bone-hup-94\n",
      "Does this patient have T2 available? True\n",
      "I'm doing the thing.\n"
     ]
    },
    {
     "name": "stderr",
     "output_type": "stream",
     "text": [
      "\r",
      " 96%|█████████▌| 677/708 [02:51<00:08,  3.46it/s]"
     ]
    },
    {
     "name": "stdout",
     "output_type": "stream",
     "text": [
      "bone-penn-268\n",
      "Does this patient have T2 available? True\n",
      "I'm doing the thing.\n",
      "bone-hup-252\n",
      "Does this patient have T2 available? True\n",
      "I'm doing the thing.\n"
     ]
    },
    {
     "name": "stderr",
     "output_type": "stream",
     "text": [
      "\r",
      " 96%|█████████▌| 679/708 [02:51<00:07,  3.86it/s]"
     ]
    },
    {
     "name": "stdout",
     "output_type": "stream",
     "text": [
      "bone-penn-191\n",
      "Does this patient have T2 available? True\n",
      "I'm doing the thing.\n"
     ]
    },
    {
     "name": "stderr",
     "output_type": "stream",
     "text": [
      "\r",
      " 96%|█████████▌| 680/708 [02:52<00:07,  3.60it/s]"
     ]
    },
    {
     "name": "stdout",
     "output_type": "stream",
     "text": [
      "bone-penn-646\n",
      "Does this patient have T2 available? True\n",
      "I'm doing the thing.\n"
     ]
    },
    {
     "name": "stderr",
     "output_type": "stream",
     "text": [
      "\r",
      " 96%|█████████▌| 681/708 [02:52<00:07,  3.68it/s]"
     ]
    },
    {
     "name": "stdout",
     "output_type": "stream",
     "text": [
      "bone-penn-234\n",
      "Does this patient have T2 available? True\n",
      "I'm doing the thing.\n"
     ]
    },
    {
     "name": "stderr",
     "output_type": "stream",
     "text": [
      "\r",
      " 96%|█████████▋| 682/708 [02:53<00:10,  2.40it/s]"
     ]
    },
    {
     "name": "stdout",
     "output_type": "stream",
     "text": [
      "bone-hup-54\n",
      "Does this patient have T2 available? True\n",
      "I'm doing the thing.\n"
     ]
    },
    {
     "name": "stderr",
     "output_type": "stream",
     "text": [
      " 97%|█████████▋| 685/708 [02:53<00:06,  3.57it/s]"
     ]
    },
    {
     "name": "stdout",
     "output_type": "stream",
     "text": [
      "bone-penn-634\n",
      "Does this patient have T2 available? True\n",
      "I'm doing the thing.\n",
      "bone-hup-200\n",
      "Does this patient have T2 available? True\n",
      "I'm doing the thing.\n",
      "bone-hup-192\n",
      "Does this patient have T2 available? True\n",
      "I'm doing the thing.\n"
     ]
    },
    {
     "name": "stderr",
     "output_type": "stream",
     "text": [
      " 97%|█████████▋| 687/708 [02:54<00:04,  4.88it/s]"
     ]
    },
    {
     "name": "stdout",
     "output_type": "stream",
     "text": [
      "bone-hup-76\n",
      "Does this patient have T2 available? True\n",
      "I'm doing the thing.\n",
      "bone-hup-100\n",
      "Does this patient have T2 available? True\n",
      "I'm doing the thing.\n"
     ]
    },
    {
     "name": "stderr",
     "output_type": "stream",
     "text": [
      "\r",
      " 97%|█████████▋| 688/708 [02:54<00:04,  4.17it/s]"
     ]
    },
    {
     "name": "stdout",
     "output_type": "stream",
     "text": [
      "bone-penn-637\n",
      "Does this patient have T2 available? True\n",
      "I'm doing the thing.\n"
     ]
    },
    {
     "name": "stderr",
     "output_type": "stream",
     "text": [
      "\r",
      " 97%|█████████▋| 689/708 [02:54<00:04,  3.86it/s]"
     ]
    },
    {
     "name": "stdout",
     "output_type": "stream",
     "text": [
      "bone-penn-365\n",
      "Does this patient have T2 available? False\n",
      "T2 image unavailable\n",
      "bone-penn-422\n",
      "Does this patient have T2 available? True\n",
      "I'm doing the thing.\n"
     ]
    },
    {
     "name": "stderr",
     "output_type": "stream",
     "text": [
      " 98%|█████████▊| 692/708 [02:55<00:03,  4.98it/s]"
     ]
    },
    {
     "name": "stdout",
     "output_type": "stream",
     "text": [
      "bone-hup-284\n",
      "Does this patient have T2 available? True\n",
      "I'm doing the thing.\n",
      "bone-china-201\n",
      "Does this patient have T2 available? True\n",
      "I'm doing the thing.\n"
     ]
    },
    {
     "name": "stderr",
     "output_type": "stream",
     "text": [
      " 98%|█████████▊| 694/708 [02:55<00:02,  6.12it/s]"
     ]
    },
    {
     "name": "stdout",
     "output_type": "stream",
     "text": [
      "bone-penn-633\n",
      "Does this patient have T2 available? True\n",
      "I'm doing the thing.\n",
      "bone-penn-367\n",
      "Does this patient have T2 available? True\n",
      "I'm doing the thing.\n"
     ]
    },
    {
     "name": "stderr",
     "output_type": "stream",
     "text": [
      "\r",
      " 98%|█████████▊| 696/708 [02:55<00:01,  7.07it/s]"
     ]
    },
    {
     "name": "stdout",
     "output_type": "stream",
     "text": [
      "bone-china-184\n",
      "Does this patient have T2 available? True\n",
      "I'm doing the thing.\n",
      "bone-hup-148\n",
      "Does this patient have T2 available? True\n",
      "I'm doing the thing.\n"
     ]
    },
    {
     "name": "stderr",
     "output_type": "stream",
     "text": [
      "\r",
      " 98%|█████████▊| 697/708 [02:55<00:02,  4.27it/s]"
     ]
    },
    {
     "name": "stdout",
     "output_type": "stream",
     "text": [
      "bone-hup-106\n",
      "Does this patient have T2 available? True\n",
      "I'm doing the thing.\n"
     ]
    },
    {
     "name": "stderr",
     "output_type": "stream",
     "text": [
      "\r",
      " 99%|█████████▊| 698/708 [02:56<00:02,  3.54it/s]"
     ]
    },
    {
     "name": "stdout",
     "output_type": "stream",
     "text": [
      "bone-penn-596\n",
      "Does this patient have T2 available? True\n",
      "I'm doing the thing.\n",
      "bone-penn-598\n",
      "Does this patient have T2 available? True\n",
      "I'm doing the thing.\n"
     ]
    },
    {
     "name": "stderr",
     "output_type": "stream",
     "text": [
      "\r",
      " 99%|█████████▉| 700/708 [02:56<00:02,  3.90it/s]"
     ]
    },
    {
     "name": "stdout",
     "output_type": "stream",
     "text": [
      "bone-penn-258\n",
      "Does this patient have T2 available? True\n",
      "I'm doing the thing.\n"
     ]
    },
    {
     "name": "stderr",
     "output_type": "stream",
     "text": [
      "\r",
      " 99%|█████████▉| 701/708 [02:56<00:01,  4.11it/s]"
     ]
    },
    {
     "name": "stdout",
     "output_type": "stream",
     "text": [
      "bone-penn-128\n",
      "Does this patient have T2 available? False\n",
      "T2 image unavailable\n",
      "bone-hup-203\n",
      "Does this patient have T2 available? True\n",
      "I'm doing the thing.\n",
      "bone-penn-222\n",
      "Does this patient have T2 available? True\n",
      "I'm doing the thing.\n"
     ]
    },
    {
     "name": "stderr",
     "output_type": "stream",
     "text": [
      "\r",
      " 99%|█████████▉| 704/708 [02:57<00:00,  5.13it/s]"
     ]
    },
    {
     "name": "stdout",
     "output_type": "stream",
     "text": [
      "bone-penn-607\n",
      "Does this patient have T2 available? True\n",
      "I'm doing the thing.\n"
     ]
    },
    {
     "name": "stderr",
     "output_type": "stream",
     "text": [
      "\r",
      "100%|█████████▉| 705/708 [02:58<00:01,  2.47it/s]"
     ]
    },
    {
     "name": "stdout",
     "output_type": "stream",
     "text": [
      "bone-hup-85\n",
      "Does this patient have T2 available? True\n",
      "I'm doing the thing.\n"
     ]
    },
    {
     "name": "stderr",
     "output_type": "stream",
     "text": [
      "\r",
      "100%|█████████▉| 706/708 [02:58<00:00,  2.16it/s]"
     ]
    },
    {
     "name": "stdout",
     "output_type": "stream",
     "text": [
      "bone-penn-386\n",
      "Does this patient have T2 available? True\n",
      "I'm doing the thing.\n"
     ]
    },
    {
     "name": "stderr",
     "output_type": "stream",
     "text": [
      "\r",
      "100%|█████████▉| 707/708 [02:59<00:00,  2.03it/s]"
     ]
    },
    {
     "name": "stdout",
     "output_type": "stream",
     "text": [
      "bone-penn-178\n",
      "Does this patient have T2 available? True\n",
      "I'm doing the thing.\n"
     ]
    },
    {
     "name": "stderr",
     "output_type": "stream",
     "text": [
      "100%|██████████| 708/708 [02:59<00:00,  3.94it/s]\n",
      "  0%|          | 0/202 [00:00<?, ?it/s]"
     ]
    },
    {
     "name": "stdout",
     "output_type": "stream",
     "text": [
      "bone-penn-127\n",
      "Does this patient have T2 available? True\n",
      "I'm doing the thing.\n"
     ]
    },
    {
     "name": "stderr",
     "output_type": "stream",
     "text": [
      "\r",
      "  0%|          | 1/202 [00:00<01:08,  2.93it/s]"
     ]
    },
    {
     "name": "stdout",
     "output_type": "stream",
     "text": [
      "bone-penn-558\n",
      "Does this patient have T2 available? False\n",
      "T2 image unavailable\n",
      "bone-hup-134\n",
      "Does this patient have T2 available? True\n",
      "I'm doing the thing.\n"
     ]
    },
    {
     "name": "stderr",
     "output_type": "stream",
     "text": [
      "  2%|▏         | 4/202 [00:00<00:47,  4.13it/s]"
     ]
    },
    {
     "name": "stdout",
     "output_type": "stream",
     "text": [
      "bone-china-101\n",
      "Does this patient have T2 available? True\n",
      "I'm doing the thing.\n",
      "bone-hup-124\n",
      "Does this patient have T2 available? True\n",
      "I'm doing the thing.\n"
     ]
    },
    {
     "name": "stderr",
     "output_type": "stream",
     "text": [
      "  3%|▎         | 6/202 [00:01<00:34,  5.71it/s]"
     ]
    },
    {
     "name": "stdout",
     "output_type": "stream",
     "text": [
      "bone-penn-81\n",
      "Does this patient have T2 available? True\n",
      "I'm doing the thing.\n",
      "bone-china-144\n",
      "Does this patient have T2 available? True\n",
      "I'm doing the thing.\n",
      "bone-china-125"
     ]
    },
    {
     "name": "stderr",
     "output_type": "stream",
     "text": [
      "  4%|▍         | 9/202 [00:01<00:26,  7.39it/s]"
     ]
    },
    {
     "name": "stdout",
     "output_type": "stream",
     "text": [
      "\n",
      "Does this patient have T2 available? True\n",
      "I'm doing the thing.\n",
      "bone-hup-314\n",
      "Does this patient have T2 available? True\n",
      "I'm doing the thing.\n",
      "bone-penn-538\n",
      "Does this patient have T2 available? True\n",
      "I'm doing the thing.\n"
     ]
    },
    {
     "name": "stderr",
     "output_type": "stream",
     "text": [
      "  5%|▌         | 11/202 [00:02<00:50,  3.80it/s]"
     ]
    },
    {
     "name": "stdout",
     "output_type": "stream",
     "text": [
      "bone-hup-151\n",
      "Does this patient have T2 available? True\n",
      "I'm doing the thing.\n",
      "bone-penn-362\n",
      "Does this patient have T2 available? True\n",
      "I'm doing the thing.\n"
     ]
    },
    {
     "name": "stderr",
     "output_type": "stream",
     "text": [
      "\r",
      "  6%|▌         | 12/202 [00:02<01:01,  3.07it/s]"
     ]
    },
    {
     "name": "stdout",
     "output_type": "stream",
     "text": [
      "bone-penn-578\n",
      "Does this patient have T2 available? True\n",
      "I'm doing the thing.\n"
     ]
    },
    {
     "name": "stderr",
     "output_type": "stream",
     "text": [
      "  7%|▋         | 14/202 [00:04<01:26,  2.18it/s]"
     ]
    },
    {
     "name": "stdout",
     "output_type": "stream",
     "text": [
      "bone-china-096\n",
      "Does this patient have T2 available? True\n",
      "I'm doing the thing.\n",
      "bone-china-040\n",
      "Does this patient have T2 available? True\n",
      "I'm doing the thing.\n"
     ]
    },
    {
     "name": "stderr",
     "output_type": "stream",
     "text": [
      "  8%|▊         | 16/202 [00:04<00:52,  3.54it/s]"
     ]
    },
    {
     "name": "stdout",
     "output_type": "stream",
     "text": [
      "bone-china-009\n",
      "Does this patient have T2 available? True\n",
      "I'm doing the thing.\n",
      "bone-penn-147\n",
      "Does this patient have T2 available? True\n",
      "I'm doing the thing.\n"
     ]
    },
    {
     "name": "stderr",
     "output_type": "stream",
     "text": [
      "  9%|▉         | 18/202 [00:04<00:49,  3.73it/s]"
     ]
    },
    {
     "name": "stdout",
     "output_type": "stream",
     "text": [
      "bone-hup-306\n",
      "Does this patient have T2 available? True\n",
      "I'm doing the thing.\n",
      "bone-hup-271\n",
      "Does this patient have T2 available? True\n",
      "I'm doing the thing.\n"
     ]
    },
    {
     "name": "stderr",
     "output_type": "stream",
     "text": [
      "\r",
      "  9%|▉         | 19/202 [00:05<00:55,  3.28it/s]"
     ]
    },
    {
     "name": "stdout",
     "output_type": "stream",
     "text": [
      "bone-hup-305\n",
      "Does this patient have T2 available? True\n",
      "I'm doing the thing.\n"
     ]
    },
    {
     "name": "stderr",
     "output_type": "stream",
     "text": [
      "\r",
      " 10%|▉         | 20/202 [00:05<01:01,  2.95it/s]"
     ]
    },
    {
     "name": "stdout",
     "output_type": "stream",
     "text": [
      "bone-china-058\n",
      "Does this patient have T2 available? True\n",
      "I'm doing the thing.\n"
     ]
    },
    {
     "name": "stderr",
     "output_type": "stream",
     "text": [
      "\r",
      " 10%|█         | 21/202 [00:06<01:44,  1.73it/s]"
     ]
    },
    {
     "name": "stdout",
     "output_type": "stream",
     "text": [
      "bone-hup-310\n",
      "Does this patient have T2 available? True\n",
      "I'm doing the thing.\n"
     ]
    },
    {
     "name": "stderr",
     "output_type": "stream",
     "text": [
      " 11%|█▏        | 23/202 [00:07<01:04,  2.76it/s]"
     ]
    },
    {
     "name": "stdout",
     "output_type": "stream",
     "text": [
      "bone-penn-579\n",
      "Does this patient have T2 available? True\n",
      "I'm doing the thing.\n",
      "bone-china-027\n",
      "Does this patient have T2 available? True\n",
      "I'm doing the thing.\n"
     ]
    },
    {
     "name": "stderr",
     "output_type": "stream",
     "text": [
      " 12%|█▏        | 25/202 [00:07<00:43,  4.11it/s]"
     ]
    },
    {
     "name": "stdout",
     "output_type": "stream",
     "text": [
      "bone-penn-320\n",
      "Does this patient have T2 available? True\n",
      "I'm doing the thing.\n",
      "bone-penn-87\n",
      "Does this patient have T2 available? True\n",
      "I'm doing the thing.\n"
     ]
    },
    {
     "name": "stderr",
     "output_type": "stream",
     "text": [
      "\r",
      " 13%|█▎        | 26/202 [00:07<00:48,  3.61it/s]"
     ]
    },
    {
     "name": "stdout",
     "output_type": "stream",
     "text": [
      "bone-hup-321\n",
      "Does this patient have T2 available? True\n",
      "I'm doing the thing.\n"
     ]
    },
    {
     "name": "stderr",
     "output_type": "stream",
     "text": [
      "\r",
      " 13%|█▎        | 27/202 [00:08<00:53,  3.28it/s]"
     ]
    },
    {
     "name": "stdout",
     "output_type": "stream",
     "text": [
      "bone-penn-299\n",
      "Does this patient have T2 available? True\n",
      "I'm doing the thing.\n"
     ]
    },
    {
     "name": "stderr",
     "output_type": "stream",
     "text": [
      "\r",
      " 14%|█▍        | 28/202 [00:08<00:49,  3.53it/s]"
     ]
    },
    {
     "name": "stdout",
     "output_type": "stream",
     "text": [
      "bone-hup-317\n",
      "Does this patient have T2 available? True\n",
      "I'm doing the thing.\n"
     ]
    },
    {
     "name": "stderr",
     "output_type": "stream",
     "text": [
      "\r",
      " 14%|█▍        | 29/202 [00:08<00:53,  3.24it/s]"
     ]
    },
    {
     "name": "stdout",
     "output_type": "stream",
     "text": [
      "bone-penn-490\n",
      "Does this patient have T2 available? True\n",
      "I'm doing the thing.\n"
     ]
    },
    {
     "name": "stderr",
     "output_type": "stream",
     "text": [
      " 15%|█▌        | 31/202 [00:09<00:50,  3.42it/s]"
     ]
    },
    {
     "name": "stdout",
     "output_type": "stream",
     "text": [
      "bone-china-003\n",
      "Does this patient have T2 available? True\n",
      "I'm doing the thing.\n",
      "bone-penn-278\n",
      "Does this patient have T2 available? True\n",
      "I'm doing the thing.\n"
     ]
    },
    {
     "name": "stderr",
     "output_type": "stream",
     "text": [
      "\r",
      " 16%|█▌        | 32/202 [00:09<00:52,  3.25it/s]"
     ]
    },
    {
     "name": "stdout",
     "output_type": "stream",
     "text": [
      "bone-penn-478\n",
      "Does this patient have T2 available? True\n",
      "I'm doing the thing.\n"
     ]
    },
    {
     "name": "stderr",
     "output_type": "stream",
     "text": [
      "\r",
      " 16%|█▋        | 33/202 [00:09<00:52,  3.25it/s]"
     ]
    },
    {
     "name": "stdout",
     "output_type": "stream",
     "text": [
      "bone-penn-587\n",
      "Does this patient have T2 available? True\n",
      "I'm doing the thing.\n"
     ]
    },
    {
     "name": "stderr",
     "output_type": "stream",
     "text": [
      "\r",
      " 17%|█▋        | 34/202 [00:10<00:51,  3.24it/s]"
     ]
    },
    {
     "name": "stdout",
     "output_type": "stream",
     "text": [
      "bone-penn-482\n",
      "Does this patient have T2 available? True\n",
      "I'm doing the thing.\n"
     ]
    },
    {
     "name": "stderr",
     "output_type": "stream",
     "text": [
      " 18%|█▊        | 36/202 [00:11<01:05,  2.55it/s]"
     ]
    },
    {
     "name": "stdout",
     "output_type": "stream",
     "text": [
      "bone-hup-274\n",
      "Does this patient have T2 available? True\n",
      "I'm doing the thing.\n"
     ]
    },
    {
     "name": "stderr",
     "output_type": "stream",
     "text": [
      "\r",
      " 18%|█▊        | 37/202 [00:11<00:50,  3.25it/s]"
     ]
    },
    {
     "name": "stdout",
     "output_type": "stream",
     "text": [
      "bone-china-030\n",
      "Does this patient have T2 available? True\n",
      "I'm doing the thing.\n",
      "bone-hup-147\n",
      "Does this patient have T2 available? True\n",
      "I'm doing the thing.\n"
     ]
    },
    {
     "name": "stderr",
     "output_type": "stream",
     "text": [
      " 19%|█▉        | 39/202 [00:12<00:54,  2.99it/s]"
     ]
    },
    {
     "name": "stdout",
     "output_type": "stream",
     "text": [
      "bone-china-057\n",
      "Does this patient have T2 available? True\n",
      "I'm doing the thing.\n",
      "bone-hup-281\n",
      "Does this patient have T2 available? True\n",
      "I'm doing the thing.\n"
     ]
    },
    {
     "name": "stderr",
     "output_type": "stream",
     "text": [
      " 20%|██        | 41/202 [00:12<00:44,  3.61it/s]"
     ]
    },
    {
     "name": "stdout",
     "output_type": "stream",
     "text": [
      "bone-hup-163\n",
      "Does this patient have T2 available? True\n",
      "I'm doing the thing.\n",
      "bone-penn-571\n",
      "Does this patient have T2 available? True\n",
      "I'm doing the thing.\n"
     ]
    },
    {
     "name": "stderr",
     "output_type": "stream",
     "text": [
      " 21%|██▏       | 43/202 [00:13<00:44,  3.58it/s]"
     ]
    },
    {
     "name": "stdout",
     "output_type": "stream",
     "text": [
      "bone-china-047\n",
      "Does this patient have T2 available? True\n",
      "I'm doing the thing.\n",
      "bone-penn-551\n",
      "Does this patient have T2 available? True\n",
      "I'm doing the thing.\n"
     ]
    },
    {
     "name": "stderr",
     "output_type": "stream",
     "text": [
      "\r",
      " 22%|██▏       | 44/202 [00:13<00:37,  4.22it/s]"
     ]
    },
    {
     "name": "stdout",
     "output_type": "stream",
     "text": [
      "bone-penn-522\n",
      "Does this patient have T2 available? True\n",
      "I'm doing the thing.\n"
     ]
    },
    {
     "name": "stderr",
     "output_type": "stream",
     "text": [
      "\r",
      " 22%|██▏       | 45/202 [00:13<00:39,  3.97it/s]"
     ]
    },
    {
     "name": "stdout",
     "output_type": "stream",
     "text": [
      "bone-penn-396\n",
      "Does this patient have T2 available? True\n",
      "I'm doing the thing.\n"
     ]
    },
    {
     "name": "stderr",
     "output_type": "stream",
     "text": [
      "\r",
      " 23%|██▎       | 46/202 [00:14<00:58,  2.66it/s]"
     ]
    },
    {
     "name": "stdout",
     "output_type": "stream",
     "text": [
      "bone-penn-488\n",
      "Does this patient have T2 available? True\n",
      "I'm doing the thing.\n",
      "bone-hup-302\n",
      "Does this patient have T2 available? True\n",
      "I'm doing the thing.\n"
     ]
    },
    {
     "name": "stderr",
     "output_type": "stream",
     "text": [
      "\r",
      " 24%|██▍       | 48/202 [00:14<00:51,  2.97it/s]"
     ]
    },
    {
     "name": "stdout",
     "output_type": "stream",
     "text": [
      "bone-penn-397\n",
      "Does this patient have T2 available? True\n",
      "I'm doing the thing.\n"
     ]
    },
    {
     "name": "stderr",
     "output_type": "stream",
     "text": [
      " 25%|██▍       | 50/202 [00:15<00:54,  2.79it/s]"
     ]
    },
    {
     "name": "stdout",
     "output_type": "stream",
     "text": [
      "bone-china-085\n",
      "Does this patient have T2 available? True\n",
      "I'm doing the thing.\n",
      "bone-china-118\n",
      "Does this patient have T2 available? True\n",
      "I'm doing the thing.\n"
     ]
    },
    {
     "name": "stderr",
     "output_type": "stream",
     "text": [
      "\r",
      " 25%|██▌       | 51/202 [00:15<00:48,  3.11it/s]"
     ]
    },
    {
     "name": "stdout",
     "output_type": "stream",
     "text": [
      "bone-penn-576\n",
      "Does this patient have T2 available? True\n",
      "I'm doing the thing.\n"
     ]
    },
    {
     "name": "stderr",
     "output_type": "stream",
     "text": [
      " 26%|██▌       | 53/202 [00:16<00:51,  2.91it/s]"
     ]
    },
    {
     "name": "stdout",
     "output_type": "stream",
     "text": [
      "bone-penn-142\n",
      "Does this patient have T2 available? True\n",
      "I'm doing the thing.\n",
      "bone-china-016\n",
      "Does this patient have T2 available? True\n",
      "I'm doing the thing.\n"
     ]
    },
    {
     "name": "stderr",
     "output_type": "stream",
     "text": [
      "\r",
      " 27%|██▋       | 54/202 [00:16<00:41,  3.60it/s]"
     ]
    },
    {
     "name": "stdout",
     "output_type": "stream",
     "text": [
      "bone-penn-137\n",
      "Does this patient have T2 available? True\n",
      "I'm doing the thing.\n"
     ]
    },
    {
     "name": "stderr",
     "output_type": "stream",
     "text": [
      " 28%|██▊       | 56/202 [00:17<00:41,  3.52it/s]"
     ]
    },
    {
     "name": "stdout",
     "output_type": "stream",
     "text": [
      "bone-china-152\n",
      "Does this patient have T2 available? True\n",
      "I'm doing the thing.\n",
      "bone-penn-454\n",
      "Does this patient have T2 available? True\n",
      "I'm doing the thing.\n"
     ]
    },
    {
     "name": "stderr",
     "output_type": "stream",
     "text": [
      "\r",
      " 29%|██▊       | 58/202 [00:17<00:33,  4.29it/s]"
     ]
    },
    {
     "name": "stdout",
     "output_type": "stream",
     "text": [
      "bone-china-071\n",
      "Does this patient have T2 available? True\n",
      "I'm doing the thing.\n",
      "bone-penn-315\n",
      "Does this patient have T2 available? False\n",
      "T2 image unavailable\n",
      "bone-penn-361\n",
      "Does this patient have T2 available? True\n",
      "I'm doing the thing.\n"
     ]
    },
    {
     "name": "stderr",
     "output_type": "stream",
     "text": [
      "\r",
      " 30%|██▉       | 60/202 [00:17<00:28,  5.07it/s]"
     ]
    },
    {
     "name": "stdout",
     "output_type": "stream",
     "text": [
      "bone-china-019\n",
      "Does this patient have T2 available? True\n",
      "I'm doing the thing.\n",
      "bone-penn-494\n",
      "Does this patient have T2 available? True\n",
      "I'm doing the thing.\n"
     ]
    },
    {
     "name": "stderr",
     "output_type": "stream",
     "text": [
      " 31%|███       | 63/202 [00:18<00:33,  4.09it/s]"
     ]
    },
    {
     "name": "stdout",
     "output_type": "stream",
     "text": [
      "bone-hup-292\n",
      "Does this patient have T2 available? True\n",
      "I'm doing the thing.\n",
      "bone-china-059\n",
      "Does this patient have T2 available? True\n",
      "I'm doing the thing.\n",
      "bone-penn-105\n",
      "Does this patient have T2 available? True\n",
      "I'm doing the thing.\n"
     ]
    },
    {
     "name": "stderr",
     "output_type": "stream",
     "text": [
      "\r",
      " 32%|███▏      | 65/202 [00:19<00:31,  4.31it/s]"
     ]
    },
    {
     "name": "stdout",
     "output_type": "stream",
     "text": [
      "bone-china-174\n",
      "Does this patient have T2 available? True\n",
      "I'm doing the thing.\n"
     ]
    },
    {
     "name": "stderr",
     "output_type": "stream",
     "text": [
      " 34%|███▎      | 68/202 [00:19<00:26,  5.12it/s]"
     ]
    },
    {
     "name": "stdout",
     "output_type": "stream",
     "text": [
      "bone-penn-523\n",
      "Does this patient have T2 available? False\n",
      "T2 image unavailable\n",
      "bone-china-110\n",
      "Does this patient have T2 available? True\n",
      "I'm doing the thing.\n",
      "bone-penn-595\n",
      "Does this patient have T2 available? True\n",
      "I'm doing the thing.\n"
     ]
    },
    {
     "name": "stderr",
     "output_type": "stream",
     "text": [
      "\r",
      " 34%|███▍      | 69/202 [00:20<00:28,  4.68it/s]"
     ]
    },
    {
     "name": "stdout",
     "output_type": "stream",
     "text": [
      "bone-china-092\n",
      "Does this patient have T2 available? True\n",
      "I'm doing the thing.\n",
      "bone-penn-157\n",
      "Does this patient have T2 available? True\n",
      "I'm doing the thing.\n"
     ]
    },
    {
     "name": "stderr",
     "output_type": "stream",
     "text": [
      " 36%|███▌      | 72/202 [00:20<00:25,  5.12it/s]"
     ]
    },
    {
     "name": "stdout",
     "output_type": "stream",
     "text": [
      "bone-china-046\n",
      "Does this patient have T2 available? True\n",
      "I'm doing the thing.\n",
      "bone-penn-328\n",
      "Does this patient have T2 available? True\n",
      "I'm doing the thing.\n"
     ]
    },
    {
     "name": "stderr",
     "output_type": "stream",
     "text": [
      "\r",
      " 36%|███▌      | 73/202 [00:20<00:27,  4.76it/s]"
     ]
    },
    {
     "name": "stdout",
     "output_type": "stream",
     "text": [
      "bone-penn-496\n",
      "Does this patient have T2 available? True\n",
      "I'm doing the thing.\n"
     ]
    },
    {
     "name": "stderr",
     "output_type": "stream",
     "text": [
      " 38%|███▊      | 76/202 [00:21<00:32,  3.83it/s]"
     ]
    },
    {
     "name": "stdout",
     "output_type": "stream",
     "text": [
      "bone-hup-258\n",
      "Does this patient have T2 available? False\n",
      "T2 image unavailable\n",
      "bone-china-021\n",
      "Does this patient have T2 available? True\n",
      "I'm doing the thing.\n",
      "bone-china-153\n",
      "Does this patient have T2 available? True\n",
      "I'm doing the thing.\n"
     ]
    },
    {
     "name": "stderr",
     "output_type": "stream",
     "text": [
      " 39%|███▊      | 78/202 [00:21<00:26,  4.68it/s]"
     ]
    },
    {
     "name": "stdout",
     "output_type": "stream",
     "text": [
      "bone-penn-583\n",
      "Does this patient have T2 available? True\n",
      "I'm doing the thing.\n",
      "bone-china-122\n",
      "Does this patient have T2 available? True\n",
      "I'm doing the thing.\n"
     ]
    },
    {
     "name": "stderr",
     "output_type": "stream",
     "text": [
      " 40%|███▉      | 80/202 [00:22<00:24,  4.99it/s]"
     ]
    },
    {
     "name": "stdout",
     "output_type": "stream",
     "text": [
      "bone-hup-309\n",
      "Does this patient have T2 available? True\n",
      "I'm doing the thing.\n",
      "bone-hup-267\n",
      "Does this patient have T2 available? True\n",
      "I'm doing the thing.\n"
     ]
    },
    {
     "name": "stderr",
     "output_type": "stream",
     "text": [
      " 41%|████      | 82/202 [00:22<00:22,  5.29it/s]"
     ]
    },
    {
     "name": "stdout",
     "output_type": "stream",
     "text": [
      "bone-china-171\n",
      "Does this patient have T2 available? True\n",
      "I'm doing the thing.\n",
      "bone-penn-529\n",
      "Does this patient have T2 available? True\n",
      "I'm doing the thing.\n"
     ]
    },
    {
     "name": "stderr",
     "output_type": "stream",
     "text": [
      " 42%|████▏     | 84/202 [00:23<00:23,  4.93it/s]"
     ]
    },
    {
     "name": "stdout",
     "output_type": "stream",
     "text": [
      "bone-china-045\n",
      "Does this patient have T2 available? True\n",
      "I'm doing the thing.\n",
      "bone-hup-315\n",
      "Does this patient have T2 available? True\n",
      "I'm doing the thing.\n"
     ]
    },
    {
     "name": "stderr",
     "output_type": "stream",
     "text": [
      "\r",
      " 42%|████▏     | 85/202 [00:23<00:22,  5.20it/s]"
     ]
    },
    {
     "name": "stdout",
     "output_type": "stream",
     "text": [
      "bone-penn-500\n",
      "Does this patient have T2 available? True\n",
      "I'm doing the thing.\n"
     ]
    },
    {
     "name": "stderr",
     "output_type": "stream",
     "text": [
      " 43%|████▎     | 87/202 [00:23<00:23,  4.97it/s]"
     ]
    },
    {
     "name": "stdout",
     "output_type": "stream",
     "text": [
      "bone-china-119\n",
      "Does this patient have T2 available? True\n",
      "I'm doing the thing.\n",
      "bone-penn-144\n",
      "Does this patient have T2 available? True\n",
      "I'm doing the thing.\n"
     ]
    },
    {
     "name": "stderr",
     "output_type": "stream",
     "text": [
      " 44%|████▍     | 89/202 [00:24<00:20,  5.62it/s]"
     ]
    },
    {
     "name": "stdout",
     "output_type": "stream",
     "text": [
      "bone-penn-369\n",
      "Does this patient have T2 available? True\n",
      "I'm doing the thing.\n",
      "bone-china-076\n",
      "Does this patient have T2 available? True\n",
      "I'm doing the thing.\n"
     ]
    },
    {
     "name": "stderr",
     "output_type": "stream",
     "text": [
      "\r",
      " 45%|████▍     | 90/202 [00:24<00:25,  4.39it/s]"
     ]
    },
    {
     "name": "stdout",
     "output_type": "stream",
     "text": [
      "bone-penn-508\n",
      "Does this patient have T2 available? True\n",
      "I'm doing the thing.\n"
     ]
    },
    {
     "name": "stderr",
     "output_type": "stream",
     "text": [
      " 46%|████▌     | 92/202 [00:24<00:23,  4.58it/s]"
     ]
    },
    {
     "name": "stdout",
     "output_type": "stream",
     "text": [
      "bone-china-135\n",
      "Does this patient have T2 available? True\n",
      "I'm doing the thing.\n",
      "bone-china-001\n",
      "Does this patient have T2 available? True\n",
      "I'm doing the thing.\n"
     ]
    },
    {
     "name": "stderr",
     "output_type": "stream",
     "text": [
      " 47%|████▋     | 95/202 [00:25<00:17,  6.17it/s]"
     ]
    },
    {
     "name": "stdout",
     "output_type": "stream",
     "text": [
      "bone-china-048\n",
      "Does this patient have T2 available? True\n",
      "I'm doing the thing.\n",
      "bone-china-056\n",
      "Does this patient have T2 available? True\n",
      "I'm doing the thing.\n",
      "bone-penn-502\n",
      "Does this patient have T2 available? True\n",
      "I'm doing the thing.\n"
     ]
    },
    {
     "name": "stderr",
     "output_type": "stream",
     "text": [
      "\r",
      " 48%|████▊     | 96/202 [00:25<00:33,  3.19it/s]"
     ]
    },
    {
     "name": "stdout",
     "output_type": "stream",
     "text": [
      "bone-penn-550\n",
      "Does this patient have T2 available? True\n",
      "I'm doing the thing.\n"
     ]
    },
    {
     "name": "stderr",
     "output_type": "stream",
     "text": [
      "\r",
      " 48%|████▊     | 97/202 [00:26<00:31,  3.31it/s]"
     ]
    },
    {
     "name": "stdout",
     "output_type": "stream",
     "text": [
      "bone-china-034\n",
      "Does this patient have T2 available? True\n",
      "I'm doing the thing.\n"
     ]
    },
    {
     "name": "stderr",
     "output_type": "stream",
     "text": [
      " 49%|████▉     | 99/202 [00:26<00:23,  4.30it/s]"
     ]
    },
    {
     "name": "stdout",
     "output_type": "stream",
     "text": [
      "bone-china-164\n",
      "Does this patient have T2 available? True\n",
      "I'm doing the thing.\n",
      "bone-china-062\n",
      "Does this patient have T2 available? True\n",
      "I'm doing the thing.\n"
     ]
    },
    {
     "name": "stderr",
     "output_type": "stream",
     "text": [
      "\r",
      " 50%|████▉     | 100/202 [00:26<00:22,  4.44it/s]"
     ]
    },
    {
     "name": "stdout",
     "output_type": "stream",
     "text": [
      "bone-penn-112\n",
      "Does this patient have T2 available? True\n",
      "I'm doing the thing.\n"
     ]
    },
    {
     "name": "stderr",
     "output_type": "stream",
     "text": [
      "\r",
      " 50%|█████     | 101/202 [00:28<01:08,  1.47it/s]"
     ]
    },
    {
     "name": "stdout",
     "output_type": "stream",
     "text": [
      "bone-penn-279\n",
      "Does this patient have T2 available? True\n",
      "I'm doing the thing.\n"
     ]
    },
    {
     "name": "stderr",
     "output_type": "stream",
     "text": [
      "\r",
      " 50%|█████     | 102/202 [00:29<01:13,  1.35it/s]"
     ]
    },
    {
     "name": "stdout",
     "output_type": "stream",
     "text": [
      "bone-hup-139\n",
      "Does this patient have T2 available? True\n",
      "I'm doing the thing.\n"
     ]
    },
    {
     "name": "stderr",
     "output_type": "stream",
     "text": [
      " 51%|█████▏    | 104/202 [00:29<00:44,  2.20it/s]"
     ]
    },
    {
     "name": "stdout",
     "output_type": "stream",
     "text": [
      "bone-penn-149\n",
      "Does this patient have T2 available? True\n",
      "I'm doing the thing.\n",
      "bone-penn-106\n",
      "Does this patient have T2 available? True\n",
      "I'm doing the thing.\n"
     ]
    },
    {
     "name": "stderr",
     "output_type": "stream",
     "text": [
      " 52%|█████▏    | 106/202 [00:30<00:31,  3.05it/s]"
     ]
    },
    {
     "name": "stdout",
     "output_type": "stream",
     "text": [
      "bone-china-140\n",
      "Does this patient have T2 available? True\n",
      "I'm doing the thing.\n",
      "bone-china-025\n",
      "Does this patient have T2 available? True\n",
      "I'm doing the thing.\n"
     ]
    },
    {
     "name": "stderr",
     "output_type": "stream",
     "text": [
      "\r",
      " 53%|█████▎    | 107/202 [00:30<00:26,  3.65it/s]"
     ]
    },
    {
     "name": "stdout",
     "output_type": "stream",
     "text": [
      "bone-china-121\n",
      "Does this patient have T2 available? True\n",
      "I'm doing the thing.\n"
     ]
    },
    {
     "name": "stderr",
     "output_type": "stream",
     "text": [
      " 54%|█████▍    | 109/202 [00:30<00:22,  4.12it/s]"
     ]
    },
    {
     "name": "stdout",
     "output_type": "stream",
     "text": [
      "bone-penn-600\n",
      "Does this patient have T2 available? True\n",
      "I'm doing the thing.\n",
      "bone-penn-190\n",
      "Does this patient have T2 available? True\n",
      "I'm doing the thing.\n"
     ]
    },
    {
     "name": "stderr",
     "output_type": "stream",
     "text": [
      "\r",
      " 54%|█████▍    | 110/202 [00:31<00:22,  4.17it/s]"
     ]
    },
    {
     "name": "stdout",
     "output_type": "stream",
     "text": [
      "bone-hup-210\n",
      "Does this patient have T2 available? True\n",
      "I'm doing the thing.\n"
     ]
    },
    {
     "name": "stderr",
     "output_type": "stream",
     "text": [
      " 56%|█████▌    | 113/202 [00:31<00:18,  4.80it/s]"
     ]
    },
    {
     "name": "stdout",
     "output_type": "stream",
     "text": [
      "bone-penn-301\n",
      "Does this patient have T2 available? False\n",
      "T2 image unavailable\n",
      "bone-hup-149\n",
      "Does this patient have T2 available? True\n",
      "I'm doing the thing.\n",
      "bone-hup-60\n",
      "Does this patient have T2 available? True\n",
      "I'm doing the thing.\n"
     ]
    },
    {
     "name": "stderr",
     "output_type": "stream",
     "text": [
      "\r",
      " 56%|█████▋    | 114/202 [00:31<00:16,  5.37it/s]"
     ]
    },
    {
     "name": "stdout",
     "output_type": "stream",
     "text": [
      "bone-penn-380\n",
      "Does this patient have T2 available? True\n",
      "I'm doing the thing.\n"
     ]
    },
    {
     "name": "stderr",
     "output_type": "stream",
     "text": [
      " 57%|█████▋    | 116/202 [00:32<00:19,  4.43it/s]"
     ]
    },
    {
     "name": "stdout",
     "output_type": "stream",
     "text": [
      "bone-china-236\n",
      "Does this patient have T2 available? True\n",
      "I'm doing the thing.\n"
     ]
    },
    {
     "name": "stderr",
     "output_type": "stream",
     "text": [
      "\r",
      " 58%|█████▊    | 117/202 [00:32<00:19,  4.40it/s]"
     ]
    },
    {
     "name": "stdout",
     "output_type": "stream",
     "text": [
      "bone-china-221\n",
      "Does this patient have T2 available? True\n",
      "I'm doing the thing.\n",
      "bone-penn-601\n",
      "Does this patient have T2 available? True\n",
      "I'm doing the thing.\n"
     ]
    },
    {
     "name": "stderr",
     "output_type": "stream",
     "text": [
      " 59%|█████▉    | 119/202 [00:34<00:39,  2.13it/s]"
     ]
    },
    {
     "name": "stdout",
     "output_type": "stream",
     "text": [
      "bone-penn-243\n",
      "Does this patient have T2 available? True\n",
      "I'm doing the thing.\n",
      "bone-hup-165\n",
      "Does this patient have T2 available? True\n",
      "I'm doing the thing.\n"
     ]
    },
    {
     "name": "stderr",
     "output_type": "stream",
     "text": [
      "\r",
      " 59%|█████▉    | 120/202 [00:34<00:30,  2.71it/s]"
     ]
    },
    {
     "name": "stdout",
     "output_type": "stream",
     "text": [
      "bone-penn-363\n",
      "Does this patient have T2 available? True\n",
      "I'm doing the thing.\n"
     ]
    },
    {
     "name": "stderr",
     "output_type": "stream",
     "text": [
      "\r",
      " 60%|█████▉    | 121/202 [00:34<00:34,  2.35it/s]"
     ]
    },
    {
     "name": "stdout",
     "output_type": "stream",
     "text": [
      "bone-penn-182\n",
      "Does this patient have T2 available? True\n",
      "I'm doing the thing.\n"
     ]
    },
    {
     "name": "stderr",
     "output_type": "stream",
     "text": [
      "\r",
      " 60%|██████    | 122/202 [00:35<00:35,  2.27it/s]"
     ]
    },
    {
     "name": "stdout",
     "output_type": "stream",
     "text": [
      "bone-hup-211\n",
      "Does this patient have T2 available? True\n",
      "I'm doing the thing.\n"
     ]
    },
    {
     "name": "stderr",
     "output_type": "stream",
     "text": [
      "\r",
      " 61%|██████    | 123/202 [00:35<00:34,  2.28it/s]"
     ]
    },
    {
     "name": "stdout",
     "output_type": "stream",
     "text": [
      "bone-penn-266\n",
      "Does this patient have T2 available? True\n",
      "I'm doing the thing.\n"
     ]
    },
    {
     "name": "stderr",
     "output_type": "stream",
     "text": [
      "\r",
      " 61%|██████▏   | 124/202 [00:35<00:28,  2.69it/s]"
     ]
    },
    {
     "name": "stdout",
     "output_type": "stream",
     "text": [
      "bone-penn-395\n",
      "Does this patient have T2 available? False\n",
      "T2 image unavailable\n",
      "bone-hup-144\n",
      "Does this patient have T2 available? True\n",
      "I'm doing the thing.\n"
     ]
    },
    {
     "name": "stderr",
     "output_type": "stream",
     "text": [
      "\r",
      " 62%|██████▏   | 126/202 [00:36<00:23,  3.28it/s]"
     ]
    },
    {
     "name": "stdout",
     "output_type": "stream",
     "text": [
      "bone-hup-246\n",
      "Does this patient have T2 available? True\n",
      "I'm doing the thing.\n"
     ]
    },
    {
     "name": "stderr",
     "output_type": "stream",
     "text": [
      " 64%|██████▍   | 129/202 [00:36<00:18,  4.02it/s]"
     ]
    },
    {
     "name": "stdout",
     "output_type": "stream",
     "text": [
      "bone-penn-376\n",
      "Does this patient have T2 available? False\n",
      "T2 image unavailable\n",
      "bone-penn-168\n",
      "Does this patient have T2 available? True\n",
      "I'm doing the thing.\n",
      "bone-penn-267\n",
      "Does this patient have T2 available? False\n",
      "T2 image unavailable\n",
      "bone-penn-211\n",
      "Does this patient have T2 available? True\n",
      "I'm doing the thing.\n"
     ]
    },
    {
     "name": "stderr",
     "output_type": "stream",
     "text": [
      "\r",
      " 65%|██████▍   | 131/202 [00:37<00:18,  3.88it/s]"
     ]
    },
    {
     "name": "stdout",
     "output_type": "stream",
     "text": [
      "bone-penn-298\n",
      "Does this patient have T2 available? True\n",
      "I'm doing the thing.\n"
     ]
    },
    {
     "name": "stderr",
     "output_type": "stream",
     "text": [
      "\r",
      " 65%|██████▌   | 132/202 [00:37<00:18,  3.88it/s]"
     ]
    },
    {
     "name": "stdout",
     "output_type": "stream",
     "text": [
      "bone-penn-164\n",
      "Does this patient have T2 available? True\n",
      "I'm doing the thing.\n"
     ]
    },
    {
     "name": "stderr",
     "output_type": "stream",
     "text": [
      "\r",
      " 66%|██████▌   | 133/202 [00:38<00:26,  2.64it/s]"
     ]
    },
    {
     "name": "stdout",
     "output_type": "stream",
     "text": [
      "bone-penn-126\n",
      "Does this patient have T2 available? True\n",
      "I'm doing the thing.\n"
     ]
    },
    {
     "name": "stderr",
     "output_type": "stream",
     "text": [
      "\r",
      " 66%|██████▋   | 134/202 [00:38<00:29,  2.34it/s]"
     ]
    },
    {
     "name": "stdout",
     "output_type": "stream",
     "text": [
      "bone-penn-617\n",
      "Does this patient have T2 available? True\n",
      "I'm doing the thing.\n"
     ]
    },
    {
     "name": "stderr",
     "output_type": "stream",
     "text": [
      "\r",
      " 67%|██████▋   | 135/202 [00:39<00:38,  1.76it/s]"
     ]
    },
    {
     "name": "stdout",
     "output_type": "stream",
     "text": [
      "bone-hup-81\n",
      "Does this patient have T2 available? True\n",
      "I'm doing the thing.\n",
      "bone-penn-636\n",
      "Does this patient have T2 available? True\n",
      "I'm doing the thing.\n"
     ]
    },
    {
     "name": "stderr",
     "output_type": "stream",
     "text": [
      " 69%|██████▉   | 139/202 [00:40<00:21,  2.88it/s]"
     ]
    },
    {
     "name": "stdout",
     "output_type": "stream",
     "text": [
      "bone-hup-194\n",
      "Does this patient have T2 available? False\n",
      "T2 image unavailable\n",
      "bone-china-193\n",
      "Does this patient have T2 available? True\n",
      "I'm doing the thing.\n",
      "bone-hup-153\n",
      "Does this patient have T2 available? True\n",
      "I'm doing the thing.\n"
     ]
    },
    {
     "name": "stderr",
     "output_type": "stream",
     "text": [
      "\r",
      " 69%|██████▉   | 140/202 [00:40<00:17,  3.47it/s]"
     ]
    },
    {
     "name": "stdout",
     "output_type": "stream",
     "text": [
      "bone-penn-238\n",
      "Does this patient have T2 available? True\n",
      "I'm doing the thing.\n"
     ]
    },
    {
     "name": "stderr",
     "output_type": "stream",
     "text": [
      " 70%|███████   | 142/202 [00:40<00:13,  4.36it/s]"
     ]
    },
    {
     "name": "stdout",
     "output_type": "stream",
     "text": [
      "bone-china-196\n",
      "Does this patient have T2 available? True\n",
      "I'm doing the thing.\n",
      "bone-penn-248\n",
      "Does this patient have T2 available? False\n",
      "T2 image unavailable\n",
      "bone-penn-464\n",
      "Does this patient have T2 available? True\n",
      "I'm doing the thing.\n"
     ]
    },
    {
     "name": "stderr",
     "output_type": "stream",
     "text": [
      "\r",
      " 71%|███████▏  | 144/202 [00:40<00:10,  5.36it/s]"
     ]
    },
    {
     "name": "stdout",
     "output_type": "stream",
     "text": [
      "bone-hup-71\n",
      "Does this patient have T2 available? False\n",
      "T2 image unavailable\n",
      "bone-penn-235\n",
      "Does this patient have T2 available? False\n",
      "T2 image unavailable\n",
      "bone-hup-191\n",
      "Does this patient have T2 available? True\n",
      "I'm doing the thing.\n"
     ]
    },
    {
     "name": "stderr",
     "output_type": "stream",
     "text": [
      " 73%|███████▎  | 148/202 [00:41<00:09,  5.99it/s]"
     ]
    },
    {
     "name": "stdout",
     "output_type": "stream",
     "text": [
      "bone-hup-62\n",
      "Does this patient have T2 available? True\n",
      "I'm doing the thing.\n",
      "bone-penn-378\n",
      "Does this patient have T2 available? True\n",
      "I'm doing the thing.\n"
     ]
    },
    {
     "name": "stderr",
     "output_type": "stream",
     "text": [
      "\r",
      " 74%|███████▍  | 149/202 [00:41<00:11,  4.55it/s]"
     ]
    },
    {
     "name": "stdout",
     "output_type": "stream",
     "text": [
      "bone-hup-52\n",
      "Does this patient have T2 available? True\n",
      "I'm doing the thing.\n"
     ]
    },
    {
     "name": "stderr",
     "output_type": "stream",
     "text": [
      " 75%|███████▌  | 152/202 [00:42<00:12,  3.89it/s]"
     ]
    },
    {
     "name": "stdout",
     "output_type": "stream",
     "text": [
      "bone-penn-261\n",
      "Does this patient have T2 available? True\n",
      "I'm doing the thing.\n",
      "bone-hup-95\n",
      "Does this patient have T2 available? True\n",
      "I'm doing the thing.\n",
      "bone-china-234\n",
      "Does this patient have T2 available? True\n",
      "I'm doing the thing.\n"
     ]
    },
    {
     "name": "stderr",
     "output_type": "stream",
     "text": [
      " 76%|███████▌  | 154/202 [00:42<00:10,  4.74it/s]"
     ]
    },
    {
     "name": "stdout",
     "output_type": "stream",
     "text": [
      "bone-penn-371\n",
      "Does this patient have T2 available? True\n",
      "I'm doing the thing.\n",
      "bone-hup-79\n",
      "Does this patient have T2 available? True\n",
      "I'm doing the thing.\n"
     ]
    },
    {
     "name": "stderr",
     "output_type": "stream",
     "text": [
      " 77%|███████▋  | 156/202 [00:43<00:11,  4.14it/s]"
     ]
    },
    {
     "name": "stdout",
     "output_type": "stream",
     "text": [
      "bone-penn-641\n",
      "Does this patient have T2 available? True\n",
      "I'm doing the thing.\n",
      "bone-penn-316\n",
      "Does this patient have T2 available? True\n",
      "I'm doing the thing.\n"
     ]
    },
    {
     "name": "stderr",
     "output_type": "stream",
     "text": [
      "\r",
      " 78%|███████▊  | 157/202 [00:43<00:09,  4.94it/s]"
     ]
    },
    {
     "name": "stdout",
     "output_type": "stream",
     "text": [
      "bone-penn-165\n",
      "Does this patient have T2 available? True\n",
      "I'm doing the thing.\n",
      "bone-penn-189\n",
      "Does this patient have T2 available? True\n",
      "I'm doing the thing.\n"
     ]
    },
    {
     "name": "stderr",
     "output_type": "stream",
     "text": [
      "\r",
      " 79%|███████▊  | 159/202 [00:44<00:12,  3.47it/s]"
     ]
    },
    {
     "name": "stdout",
     "output_type": "stream",
     "text": [
      "bone-hup-73\n",
      "Does this patient have T2 available? True\n",
      "I'm doing the thing.\n"
     ]
    },
    {
     "name": "stderr",
     "output_type": "stream",
     "text": [
      " 80%|███████▉  | 161/202 [00:44<00:10,  3.87it/s]"
     ]
    },
    {
     "name": "stdout",
     "output_type": "stream",
     "text": [
      "bone-penn-355\n",
      "Does this patient have T2 available? True\n",
      "I'm doing the thing.\n",
      "bone-hup-249\n",
      "Does this patient have T2 available? False\n",
      "T2 image unavailable\n",
      "bone-hup-102\n",
      "Does this patient have T2 available? True\n",
      "I'm doing the thing.\n"
     ]
    },
    {
     "name": "stderr",
     "output_type": "stream",
     "text": [
      " 81%|████████  | 164/202 [00:45<00:06,  5.60it/s]"
     ]
    },
    {
     "name": "stdout",
     "output_type": "stream",
     "text": [
      "bone-hup-193\n",
      "Does this patient have T2 available? True\n",
      "I'm doing the thing.\n",
      "bone-hup-80\n",
      "Does this patient have T2 available? True\n",
      "I'm doing the thing.\n"
     ]
    },
    {
     "name": "stderr",
     "output_type": "stream",
     "text": [
      "\r",
      " 82%|████████▏ | 165/202 [00:45<00:09,  3.95it/s]"
     ]
    },
    {
     "name": "stdout",
     "output_type": "stream",
     "text": [
      "bone-penn-405\n",
      "Does this patient have T2 available? True\n",
      "I'm doing the thing.\n"
     ]
    },
    {
     "name": "stderr",
     "output_type": "stream",
     "text": [
      " 83%|████████▎ | 167/202 [00:45<00:07,  4.67it/s]"
     ]
    },
    {
     "name": "stdout",
     "output_type": "stream",
     "text": [
      "bone-penn-256\n",
      "Does this patient have T2 available? True\n",
      "I'm doing the thing.\n",
      "bone-hup-169\n",
      "Does this patient have T2 available? True\n",
      "I'm doing the thing.\n"
     ]
    },
    {
     "name": "stderr",
     "output_type": "stream",
     "text": [
      " 84%|████████▎ | 169/202 [00:46<00:07,  4.25it/s]"
     ]
    },
    {
     "name": "stdout",
     "output_type": "stream",
     "text": [
      "bone-china-243\n",
      "Does this patient have T2 available? True\n",
      "I'm doing the thing.\n",
      "bone-hup-222\n",
      "Does this patient have T2 available? True\n",
      "I'm doing the thing.\n"
     ]
    },
    {
     "name": "stderr",
     "output_type": "stream",
     "text": [
      "\r",
      " 85%|████████▍ | 171/202 [00:46<00:05,  5.33it/s]"
     ]
    },
    {
     "name": "stdout",
     "output_type": "stream",
     "text": [
      "bone-penn-224\n",
      "Does this patient have T2 available? True\n",
      "I'm doing the thing.\n",
      "bone-penn-166\n",
      "Does this patient have T2 available? True\n",
      "I'm doing the thing.\n"
     ]
    },
    {
     "name": "stderr",
     "output_type": "stream",
     "text": [
      "\r",
      " 85%|████████▌ | 172/202 [00:46<00:05,  5.52it/s]"
     ]
    },
    {
     "name": "stdout",
     "output_type": "stream",
     "text": [
      "bone-hup-75\n",
      "Does this patient have T2 available? False\n",
      "T2 image unavailable\n",
      "bone-hup-279\n",
      "Does this patient have T2 available? True\n",
      "I'm doing the thing.\n",
      "bone-penn-356\n",
      "Does this patient have T2 available? True\n",
      "I'm doing the thing.\n"
     ]
    },
    {
     "name": "stderr",
     "output_type": "stream",
     "text": [
      " 87%|████████▋ | 176/202 [00:47<00:04,  5.38it/s]"
     ]
    },
    {
     "name": "stdout",
     "output_type": "stream",
     "text": [
      "bone-hup-103\n",
      "Does this patient have T2 available? True\n",
      "I'm doing the thing.\n",
      "bone-hup-78\n",
      "Does this patient have T2 available? True\n",
      "I'm doing the thing.\n"
     ]
    },
    {
     "name": "stderr",
     "output_type": "stream",
     "text": [
      "\r",
      " 88%|████████▊ | 177/202 [00:48<00:05,  4.26it/s]"
     ]
    },
    {
     "name": "stdout",
     "output_type": "stream",
     "text": [
      "bone-penn-206\n",
      "Does this patient have T2 available? True\n",
      "I'm doing the thing.\n",
      "bone-hup-273\n",
      "Does this patient have T2 available? True\n",
      "I'm doing the thing.\n"
     ]
    },
    {
     "name": "stderr",
     "output_type": "stream",
     "text": [
      "\r",
      " 89%|████████▊ | 179/202 [00:48<00:04,  5.11it/s]"
     ]
    },
    {
     "name": "stdout",
     "output_type": "stream",
     "text": [
      "bone-penn-193\n",
      "Does this patient have T2 available? True\n",
      "I'm doing the thing.\n"
     ]
    },
    {
     "name": "stderr",
     "output_type": "stream",
     "text": [
      "\r",
      " 89%|████████▉ | 180/202 [00:48<00:05,  4.34it/s]"
     ]
    },
    {
     "name": "stdout",
     "output_type": "stream",
     "text": [
      "bone-penn-624\n",
      "Does this patient have T2 available? True\n",
      "I'm doing the thing.\n"
     ]
    },
    {
     "name": "stderr",
     "output_type": "stream",
     "text": [
      " 90%|█████████ | 182/202 [00:49<00:04,  4.45it/s]"
     ]
    },
    {
     "name": "stdout",
     "output_type": "stream",
     "text": [
      "bone-hup-74\n",
      "Does this patient have T2 available? True\n",
      "I'm doing the thing.\n"
     ]
    },
    {
     "name": "stderr",
     "output_type": "stream",
     "text": [
      "\r",
      " 91%|█████████ | 183/202 [00:49<00:03,  5.01it/s]"
     ]
    },
    {
     "name": "stdout",
     "output_type": "stream",
     "text": [
      "bone-china-212\n",
      "Does this patient have T2 available? True\n",
      "I'm doing the thing.\n",
      "bone-hup-101\n",
      "Does this patient have T2 available? True\n",
      "I'm doing the thing.\n"
     ]
    },
    {
     "name": "stderr",
     "output_type": "stream",
     "text": [
      " 92%|█████████▏| 185/202 [00:49<00:03,  4.40it/s]"
     ]
    },
    {
     "name": "stdout",
     "output_type": "stream",
     "text": [
      "bone-hup-171\n",
      "Does this patient have T2 available? True\n",
      "I'm doing the thing.\n",
      "bone-hup-237\n",
      "Does this patient have T2 available? True\n",
      "I'm doing the thing.\n"
     ]
    },
    {
     "name": "stderr",
     "output_type": "stream",
     "text": [
      "\r",
      " 92%|█████████▏| 186/202 [00:49<00:03,  4.39it/s]"
     ]
    },
    {
     "name": "stdout",
     "output_type": "stream",
     "text": [
      "bone-penn-621\n",
      "Does this patient have T2 available? True\n",
      "I'm doing the thing.\n"
     ]
    },
    {
     "name": "stderr",
     "output_type": "stream",
     "text": [
      "\r",
      " 93%|█████████▎| 187/202 [00:50<00:06,  2.46it/s]"
     ]
    },
    {
     "name": "stdout",
     "output_type": "stream",
     "text": [
      "bone-penn-627\n",
      "Does this patient have T2 available? True\n",
      "I'm doing the thing.\n"
     ]
    },
    {
     "name": "stderr",
     "output_type": "stream",
     "text": [
      "\r",
      " 93%|█████████▎| 188/202 [00:51<00:07,  1.92it/s]"
     ]
    },
    {
     "name": "stdout",
     "output_type": "stream",
     "text": [
      "bone-penn-171\n",
      "Does this patient have T2 available? True\n",
      "I'm doing the thing.\n"
     ]
    },
    {
     "name": "stderr",
     "output_type": "stream",
     "text": [
      "\r",
      " 94%|█████████▎| 189/202 [00:51<00:05,  2.27it/s]"
     ]
    },
    {
     "name": "stdout",
     "output_type": "stream",
     "text": [
      "bone-penn-324\n",
      "Does this patient have T2 available? False\n",
      "T2 image unavailable\n",
      "bone-penn-620\n",
      "Does this patient have T2 available? True\n",
      "I'm doing the thing.\n"
     ]
    },
    {
     "name": "stderr",
     "output_type": "stream",
     "text": [
      "\r",
      " 95%|█████████▍| 191/202 [00:52<00:03,  2.90it/s]"
     ]
    },
    {
     "name": "stdout",
     "output_type": "stream",
     "text": [
      "bone-penn-514\n",
      "Does this patient have T2 available? True\n",
      "I'm doing the thing.\n"
     ]
    },
    {
     "name": "stderr",
     "output_type": "stream",
     "text": [
      " 96%|█████████▌| 193/202 [00:52<00:02,  3.30it/s]"
     ]
    },
    {
     "name": "stdout",
     "output_type": "stream",
     "text": [
      "bone-penn-610\n",
      "Does this patient have T2 available? True\n",
      "I'm doing the thing.\n",
      "bone-hup-262"
     ]
    },
    {
     "name": "stderr",
     "output_type": "stream",
     "text": [
      " 97%|█████████▋| 195/202 [00:52<00:01,  4.22it/s]"
     ]
    },
    {
     "name": "stdout",
     "output_type": "stream",
     "text": [
      "\n",
      "Does this patient have T2 available? True\n",
      "I'm doing the thing.\n",
      "bone-penn-614\n",
      "Does this patient have T2 available? True\n",
      "I'm doing the thing.\n",
      "bone-penn-260\n",
      "Does this patient have T2 available? True\n",
      "I'm doing the thing.\n"
     ]
    },
    {
     "name": "stderr",
     "output_type": "stream",
     "text": [
      "\r",
      " 97%|█████████▋| 196/202 [00:53<00:01,  3.36it/s]"
     ]
    },
    {
     "name": "stdout",
     "output_type": "stream",
     "text": [
      "bone-hup-220\n",
      "Does this patient have T2 available? True\n",
      "I'm doing the thing.\n"
     ]
    },
    {
     "name": "stderr",
     "output_type": "stream",
     "text": [
      "\r",
      " 98%|█████████▊| 197/202 [00:53<00:01,  3.09it/s]"
     ]
    },
    {
     "name": "stdout",
     "output_type": "stream",
     "text": [
      "bone-hup-156\n",
      "Does this patient have T2 available? True\n",
      "I'm doing the thing.\n"
     ]
    },
    {
     "name": "stderr",
     "output_type": "stream",
     "text": [
      "\r",
      " 98%|█████████▊| 198/202 [00:54<00:01,  2.55it/s]"
     ]
    },
    {
     "name": "stdout",
     "output_type": "stream",
     "text": [
      "bone-hup-240\n",
      "Does this patient have T2 available? True\n",
      "I'm doing the thing.\n"
     ]
    },
    {
     "name": "stderr",
     "output_type": "stream",
     "text": [
      "\r",
      " 99%|█████████▊| 199/202 [00:54<00:01,  2.74it/s]"
     ]
    },
    {
     "name": "stdout",
     "output_type": "stream",
     "text": [
      "bone-penn-239\n",
      "Does this patient have T2 available? True\n",
      "I'm doing the thing.\n"
     ]
    },
    {
     "name": "stderr",
     "output_type": "stream",
     "text": [
      "\r",
      " 99%|█████████▉| 200/202 [00:54<00:00,  2.98it/s]"
     ]
    },
    {
     "name": "stdout",
     "output_type": "stream",
     "text": [
      "bone-hup-84\n",
      "Does this patient have T2 available? True\n",
      "I'm doing the thing.\n"
     ]
    },
    {
     "name": "stderr",
     "output_type": "stream",
     "text": [
      "100%|██████████| 202/202 [00:55<00:00,  3.62it/s]\n",
      "  0%|          | 0/101 [00:00<?, ?it/s]"
     ]
    },
    {
     "name": "stdout",
     "output_type": "stream",
     "text": [
      "bone-china-226\n",
      "Does this patient have T2 available? True\n",
      "I'm doing the thing.\n",
      "bone-penn-547\n",
      "Does this patient have T2 available? True\n",
      "I'm doing the thing.\n"
     ]
    },
    {
     "name": "stderr",
     "output_type": "stream",
     "text": [
      "\r",
      "  1%|          | 1/101 [00:00<00:10,  9.28it/s]"
     ]
    },
    {
     "name": "stdout",
     "output_type": "stream",
     "text": [
      "bone-penn-554\n",
      "Does this patient have T2 available? True\n",
      "I'm doing the thing.\n"
     ]
    },
    {
     "name": "stderr",
     "output_type": "stream",
     "text": [
      "\r",
      "  2%|▏         | 2/101 [00:00<00:15,  6.32it/s]"
     ]
    },
    {
     "name": "stdout",
     "output_type": "stream",
     "text": [
      "bone-penn-513\n",
      "Does this patient have T2 available? True\n",
      "I'm doing the thing.\n"
     ]
    },
    {
     "name": "stderr",
     "output_type": "stream",
     "text": [
      "  4%|▍         | 4/101 [00:00<00:19,  5.08it/s]"
     ]
    },
    {
     "name": "stdout",
     "output_type": "stream",
     "text": [
      "bone-penn-569\n",
      "Does this patient have T2 available? True\n",
      "I'm doing the thing.\n",
      "bone-china-137\n",
      "Does this patient have T2 available? True\n",
      "I'm doing the thing.\n"
     ]
    },
    {
     "name": "stderr",
     "output_type": "stream",
     "text": [
      "  6%|▌         | 6/101 [00:01<00:15,  6.03it/s]"
     ]
    },
    {
     "name": "stdout",
     "output_type": "stream",
     "text": [
      "bone-penn-519\n",
      "Does this patient have T2 available? True\n",
      "I'm doing the thing.\n",
      "bone-china-013\n",
      "Does this patient have T2 available? True\n",
      "I'm doing the thing.\n"
     ]
    },
    {
     "name": "stderr",
     "output_type": "stream",
     "text": [
      "  8%|▊         | 8/101 [00:01<00:13,  6.73it/s]"
     ]
    },
    {
     "name": "stdout",
     "output_type": "stream",
     "text": [
      "bone-china-156\n",
      "Does this patient have T2 available? True\n",
      "I'm doing the thing.\n",
      "bone-china-007\n",
      "Does this patient have T2 available? True\n",
      "I'm doing the thing.\n",
      "bone-china-063\n",
      "Does this patient have T2 available? True\n",
      "I'm doing the thing.\n"
     ]
    },
    {
     "name": "stderr",
     "output_type": "stream",
     "text": [
      " 11%|█         | 11/101 [00:01<00:12,  7.35it/s]"
     ]
    },
    {
     "name": "stdout",
     "output_type": "stream",
     "text": [
      "bone-penn-582\n",
      "Does this patient have T2 available? True\n",
      "I'm doing the thing.\n",
      "bone-penn-574\n",
      "Does this patient have T2 available? True\n",
      "I'm doing the thing.\n"
     ]
    },
    {
     "name": "stderr",
     "output_type": "stream",
     "text": [
      " 14%|█▍        | 14/101 [00:02<00:10,  8.10it/s]"
     ]
    },
    {
     "name": "stdout",
     "output_type": "stream",
     "text": [
      "bone-penn-510\n",
      "Does this patient have T2 available? True\n",
      "I'm doing the thing.\n",
      "bone-penn-290\n",
      "Does this patient have T2 available? True\n",
      "I'm doing the thing.\n",
      "bone-hup-313\n",
      "Does this patient have T2 available? True\n",
      "I'm doing the thing.\n"
     ]
    },
    {
     "name": "stderr",
     "output_type": "stream",
     "text": [
      "\r",
      " 15%|█▍        | 15/101 [00:02<00:14,  6.06it/s]"
     ]
    },
    {
     "name": "stdout",
     "output_type": "stream",
     "text": [
      "bone-penn-540\n",
      "Does this patient have T2 available? True\n",
      "I'm doing the thing.\n"
     ]
    },
    {
     "name": "stderr",
     "output_type": "stream",
     "text": [
      "\r",
      " 16%|█▌        | 16/101 [00:02<00:16,  5.22it/s]"
     ]
    },
    {
     "name": "stdout",
     "output_type": "stream",
     "text": [
      "bone-china-141\n",
      "Does this patient have T2 available? True\n",
      "I'm doing the thing.\n",
      "bone-china-142\n",
      "Does this patient have T2 available? True\n",
      "I'm doing the thing.\n"
     ]
    },
    {
     "name": "stderr",
     "output_type": "stream",
     "text": [
      " 19%|█▉        | 19/101 [00:03<00:14,  5.49it/s]"
     ]
    },
    {
     "name": "stdout",
     "output_type": "stream",
     "text": [
      "bone-hup-137\n",
      "Does this patient have T2 available? True\n",
      "I'm doing the thing.\n",
      "bone-china-012\n",
      "Does this patient have T2 available? True\n",
      "I'm doing the thing.\n"
     ]
    },
    {
     "name": "stderr",
     "output_type": "stream",
     "text": [
      "\r",
      " 20%|█▉        | 20/101 [00:03<00:14,  5.48it/s]"
     ]
    },
    {
     "name": "stdout",
     "output_type": "stream",
     "text": [
      "bone-penn-524\n",
      "Does this patient have T2 available? True\n",
      "I'm doing the thing.\n"
     ]
    },
    {
     "name": "stderr",
     "output_type": "stream",
     "text": [
      "\r",
      " 21%|██        | 21/101 [00:03<00:18,  4.39it/s]"
     ]
    },
    {
     "name": "stdout",
     "output_type": "stream",
     "text": [
      "bone-china-082\n",
      "Does this patient have T2 available? True\n",
      "I'm doing the thing.\n",
      "bone-penn-505\n",
      "Does this patient have T2 available? True\n",
      "I'm doing the thing.\n"
     ]
    },
    {
     "name": "stderr",
     "output_type": "stream",
     "text": [
      " 24%|██▍       | 24/101 [00:04<00:17,  4.52it/s]"
     ]
    },
    {
     "name": "stdout",
     "output_type": "stream",
     "text": [
      "bone-hup-130\n",
      "Does this patient have T2 available? True\n",
      "I'm doing the thing.\n",
      "bone-penn-326\n",
      "Does this patient have T2 available? True\n",
      "I'm doing the thing.\n",
      "bone-penn-145\n",
      "Does this patient have T2 available? True\n",
      "I'm doing the thing.\n"
     ]
    },
    {
     "name": "stderr",
     "output_type": "stream",
     "text": [
      "\r",
      " 26%|██▌       | 26/101 [00:05<00:19,  3.83it/s]"
     ]
    },
    {
     "name": "stdout",
     "output_type": "stream",
     "text": [
      "bone-hup-311\n",
      "Does this patient have T2 available? True\n",
      "I'm doing the thing.\n"
     ]
    },
    {
     "name": "stderr",
     "output_type": "stream",
     "text": [
      " 28%|██▊       | 28/101 [00:06<00:26,  2.80it/s]"
     ]
    },
    {
     "name": "stdout",
     "output_type": "stream",
     "text": [
      "bone-china-150\n",
      "Does this patient have T2 available? True\n",
      "I'm doing the thing.\n",
      "bone-penn-80\n",
      "Does this patient have T2 available? True\n",
      "I'm doing the thing.\n"
     ]
    },
    {
     "name": "stderr",
     "output_type": "stream",
     "text": [
      "\r",
      " 29%|██▊       | 29/101 [00:06<00:22,  3.22it/s]"
     ]
    },
    {
     "name": "stdout",
     "output_type": "stream",
     "text": [
      "bone-hup-50\n",
      "Does this patient have T2 available? True\n",
      "I'm doing the thing.\n"
     ]
    },
    {
     "name": "stderr",
     "output_type": "stream",
     "text": [
      " 32%|███▏      | 32/101 [00:10<01:08,  1.01it/s]"
     ]
    },
    {
     "name": "stdout",
     "output_type": "stream",
     "text": [
      "bone-hup-143\n",
      "Does this patient have T2 available? True\n",
      "I'm doing the thing.\n",
      "bone-china-067\n",
      "Does this patient have T2 available? True\n",
      "I'm doing the thing.\n",
      "bone-china-130\n",
      "Does this patient have T2 available? True\n",
      "I'm doing the thing.\n"
     ]
    },
    {
     "name": "stderr",
     "output_type": "stream",
     "text": [
      "\r",
      " 33%|███▎      | 33/101 [00:10<00:50,  1.34it/s]"
     ]
    },
    {
     "name": "stdout",
     "output_type": "stream",
     "text": [
      "bone-penn-295\n",
      "Does this patient have T2 available? True\n",
      "I'm doing the thing.\n",
      "bone-hup-318\n",
      "Does this patient have T2 available? True\n",
      "I'm doing the thing.\n"
     ]
    },
    {
     "name": "stderr",
     "output_type": "stream",
     "text": [
      "\r",
      " 35%|███▍      | 35/101 [00:11<00:46,  1.42it/s]"
     ]
    },
    {
     "name": "stdout",
     "output_type": "stream",
     "text": [
      "bone-china-064\n",
      "Does this patient have T2 available? True\n",
      "I'm doing the thing.\n"
     ]
    },
    {
     "name": "stderr",
     "output_type": "stream",
     "text": [
      "\r",
      " 36%|███▌      | 36/101 [00:12<00:37,  1.73it/s]"
     ]
    },
    {
     "name": "stdout",
     "output_type": "stream",
     "text": [
      "bone-penn-383\n",
      "Does this patient have T2 available? True\n",
      "I'm doing the thing.\n"
     ]
    },
    {
     "name": "stderr",
     "output_type": "stream",
     "text": [
      " 38%|███▊      | 38/101 [00:12<00:25,  2.48it/s]"
     ]
    },
    {
     "name": "stdout",
     "output_type": "stream",
     "text": [
      "bone-china-108\n",
      "Does this patient have T2 available? True\n",
      "I'm doing the thing.\n",
      "bone-china-018\n",
      "Does this patient have T2 available? True\n",
      "I'm doing the thing.\n",
      "bone-hup-120\n",
      "Does this patient have T2 available? True\n",
      "I'm doing the thing.\n"
     ]
    },
    {
     "name": "stderr",
     "output_type": "stream",
     "text": [
      " 41%|████      | 41/101 [00:13<00:16,  3.67it/s]"
     ]
    },
    {
     "name": "stdout",
     "output_type": "stream",
     "text": [
      "bone-china-094\n",
      "Does this patient have T2 available? True\n",
      "I'm doing the thing.\n",
      "bone-penn-566\n",
      "Does this patient have T2 available? True\n",
      "I'm doing the thing.\n"
     ]
    },
    {
     "name": "stderr",
     "output_type": "stream",
     "text": [
      " 44%|████▎     | 44/101 [00:13<00:10,  5.38it/s]"
     ]
    },
    {
     "name": "stdout",
     "output_type": "stream",
     "text": [
      "bone-china-157\n",
      "Does this patient have T2 available? True\n",
      "I'm doing the thing.\n",
      "bone-china-090\n",
      "Does this patient have T2 available? True\n",
      "I'm doing the thing.\n",
      "bone-hup-294\n",
      "Does this patient have T2 available? True\n",
      "I'm doing the thing.\n"
     ]
    },
    {
     "name": "stderr",
     "output_type": "stream",
     "text": [
      "\r",
      " 45%|████▍     | 45/101 [00:13<00:11,  5.04it/s]"
     ]
    },
    {
     "name": "stdout",
     "output_type": "stream",
     "text": [
      "bone-penn-135\n",
      "Does this patient have T2 available? True\n",
      "I'm doing the thing.\n"
     ]
    },
    {
     "name": "stderr",
     "output_type": "stream",
     "text": [
      " 47%|████▋     | 47/101 [00:13<00:09,  5.47it/s]"
     ]
    },
    {
     "name": "stdout",
     "output_type": "stream",
     "text": [
      "bone-penn-594\n",
      "Does this patient have T2 available? True\n",
      "I'm doing the thing.\n",
      "bone-penn-557\n",
      "Does this patient have T2 available? True\n",
      "I'm doing the thing.\n"
     ]
    },
    {
     "name": "stderr",
     "output_type": "stream",
     "text": [
      "\r",
      " 48%|████▊     | 48/101 [00:14<00:12,  4.39it/s]"
     ]
    },
    {
     "name": "stdout",
     "output_type": "stream",
     "text": [
      "bone-penn-539\n",
      "Does this patient have T2 available? True\n",
      "I'm doing the thing.\n"
     ]
    },
    {
     "name": "stderr",
     "output_type": "stream",
     "text": [
      "\r",
      " 49%|████▊     | 49/101 [00:14<00:13,  3.96it/s]"
     ]
    },
    {
     "name": "stdout",
     "output_type": "stream",
     "text": [
      "bone-penn-102\n",
      "Does this patient have T2 available? True\n",
      "I'm doing the thing.\n"
     ]
    },
    {
     "name": "stderr",
     "output_type": "stream",
     "text": [
      " 50%|█████     | 51/101 [00:15<00:18,  2.70it/s]"
     ]
    },
    {
     "name": "stdout",
     "output_type": "stream",
     "text": [
      "bone-hup-300\n",
      "Does this patient have T2 available? True\n",
      "I'm doing the thing.\n",
      "bone-penn-117\n",
      "Does this patient have T2 available? True\n",
      "I'm doing the thing.\n"
     ]
    },
    {
     "name": "stderr",
     "output_type": "stream",
     "text": [
      " 52%|█████▏    | 53/101 [00:16<00:13,  3.48it/s]"
     ]
    },
    {
     "name": "stdout",
     "output_type": "stream",
     "text": [
      "bone-penn-103\n",
      "Does this patient have T2 available? True\n",
      "I'm doing the thing.\n",
      "bone-penn-559\n",
      "Does this patient have T2 available? True\n",
      "I'm doing the thing.\n"
     ]
    },
    {
     "name": "stderr",
     "output_type": "stream",
     "text": [
      " 54%|█████▍    | 55/101 [00:16<00:09,  4.66it/s]"
     ]
    },
    {
     "name": "stdout",
     "output_type": "stream",
     "text": [
      "bone-penn-470\n",
      "Does this patient have T2 available? True\n",
      "I'm doing the thing.\n",
      "bone-penn-366\n",
      "Does this patient have T2 available? True\n",
      "I'm doing the thing.\n"
     ]
    },
    {
     "name": "stderr",
     "output_type": "stream",
     "text": [
      "\r",
      " 55%|█████▌    | 56/101 [00:16<00:08,  5.36it/s]"
     ]
    },
    {
     "name": "stdout",
     "output_type": "stream",
     "text": [
      "bone-china-206\n",
      "Does this patient have T2 available? True\n",
      "I'm doing the thing.\n",
      "bone-penn-475\n",
      "Does this patient have T2 available? True\n",
      "I'm doing the thing.\n"
     ]
    },
    {
     "name": "stderr",
     "output_type": "stream",
     "text": [
      "\r",
      " 57%|█████▋    | 58/101 [00:16<00:06,  6.19it/s]"
     ]
    },
    {
     "name": "stdout",
     "output_type": "stream",
     "text": [
      "bone-penn-389\n",
      "Does this patient have T2 available? True\n",
      "I'm doing the thing.\n"
     ]
    },
    {
     "name": "stderr",
     "output_type": "stream",
     "text": [
      "\r",
      " 58%|█████▊    | 59/101 [00:17<00:14,  2.82it/s]"
     ]
    },
    {
     "name": "stdout",
     "output_type": "stream",
     "text": [
      "bone-penn-432\n",
      "Does this patient have T2 available? True\n",
      "I'm doing the thing.\n"
     ]
    },
    {
     "name": "stderr",
     "output_type": "stream",
     "text": [
      "\r",
      " 59%|█████▉    | 60/101 [00:17<00:12,  3.17it/s]"
     ]
    },
    {
     "name": "stdout",
     "output_type": "stream",
     "text": [
      "bone-hup-87\n",
      "Does this patient have T2 available? True\n",
      "I'm doing the thing.\n"
     ]
    },
    {
     "name": "stderr",
     "output_type": "stream",
     "text": [
      "\r",
      " 60%|██████    | 61/101 [00:18<00:17,  2.33it/s]"
     ]
    },
    {
     "name": "stdout",
     "output_type": "stream",
     "text": [
      "bone-penn-469\n",
      "Does this patient have T2 available? True\n",
      "I'm doing the thing.\n"
     ]
    },
    {
     "name": "stderr",
     "output_type": "stream",
     "text": [
      " 62%|██████▏   | 63/101 [00:18<00:10,  3.48it/s]"
     ]
    },
    {
     "name": "stdout",
     "output_type": "stream",
     "text": [
      "bone-china-208\n",
      "Does this patient have T2 available? True\n",
      "I'm doing the thing.\n",
      "bone-china-229\n",
      "Does this patient have T2 available? True\n",
      "I'm doing the thing.\n"
     ]
    },
    {
     "name": "stderr",
     "output_type": "stream",
     "text": [
      " 64%|██████▍   | 65/101 [00:19<00:08,  4.18it/s]"
     ]
    },
    {
     "name": "stdout",
     "output_type": "stream",
     "text": [
      "bone-hup-127\n",
      "Does this patient have T2 available? True\n",
      "I'm doing the thing.\n",
      "bone-penn-125\n",
      "Does this patient have T2 available? True\n",
      "I'm doing the thing.\n"
     ]
    },
    {
     "name": "stderr",
     "output_type": "stream",
     "text": [
      " 66%|██████▋   | 67/101 [00:19<00:07,  4.81it/s]"
     ]
    },
    {
     "name": "stdout",
     "output_type": "stream",
     "text": [
      "bone-china-182\n",
      "Does this patient have T2 available? True\n",
      "I'm doing the thing.\n",
      "bone-penn-229\n",
      "Does this patient have T2 available? True\n",
      "I'm doing the thing.\n"
     ]
    },
    {
     "name": "stderr",
     "output_type": "stream",
     "text": [
      "\r",
      " 67%|██████▋   | 68/101 [00:19<00:08,  4.07it/s]"
     ]
    },
    {
     "name": "stdout",
     "output_type": "stream",
     "text": [
      "bone-hup-90\n",
      "Does this patient have T2 available? True\n",
      "I'm doing the thing.\n"
     ]
    },
    {
     "name": "stderr",
     "output_type": "stream",
     "text": [
      " 69%|██████▉   | 70/101 [00:20<00:09,  3.20it/s]"
     ]
    },
    {
     "name": "stdout",
     "output_type": "stream",
     "text": [
      "bone-china-232\n",
      "Does this patient have T2 available? True\n",
      "I'm doing the thing.\n",
      "bone-penn-185\n",
      "Does this patient have T2 available? True\n",
      "I'm doing the thing.\n"
     ]
    },
    {
     "name": "stderr",
     "output_type": "stream",
     "text": [
      "\r",
      " 70%|███████   | 71/101 [00:20<00:07,  3.84it/s]"
     ]
    },
    {
     "name": "stdout",
     "output_type": "stream",
     "text": [
      "bone-penn-493\n",
      "Does this patient have T2 available? True\n",
      "I'm doing the thing.\n"
     ]
    },
    {
     "name": "stderr",
     "output_type": "stream",
     "text": [
      " 72%|███████▏  | 73/101 [00:21<00:08,  3.34it/s]"
     ]
    },
    {
     "name": "stdout",
     "output_type": "stream",
     "text": [
      "bone-china-241\n",
      "Does this patient have T2 available? True\n",
      "I'm doing the thing.\n",
      "bone-hup-174\n",
      "Does this patient have T2 available? True\n",
      "I'm doing the thing.\n"
     ]
    },
    {
     "name": "stderr",
     "output_type": "stream",
     "text": [
      "\r",
      " 73%|███████▎  | 74/101 [00:22<00:11,  2.41it/s]"
     ]
    },
    {
     "name": "stdout",
     "output_type": "stream",
     "text": [
      "bone-penn-175\n",
      "Does this patient have T2 available? True\n",
      "I'm doing the thing.\n"
     ]
    },
    {
     "name": "stderr",
     "output_type": "stream",
     "text": [
      " 76%|███████▌  | 77/101 [00:22<00:06,  3.64it/s]"
     ]
    },
    {
     "name": "stdout",
     "output_type": "stream",
     "text": [
      "bone-china-233\n",
      "Does this patient have T2 available? True\n",
      "I'm doing the thing.\n",
      "bone-penn-393\n",
      "Does this patient have T2 available? True\n",
      "I'm doing the thing.\n",
      "bone-penn-387\n",
      "Does this patient have T2 available? True\n",
      "I'm doing the thing.\n"
     ]
    },
    {
     "name": "stderr",
     "output_type": "stream",
     "text": [
      " 78%|███████▊  | 79/101 [00:23<00:07,  3.14it/s]"
     ]
    },
    {
     "name": "stdout",
     "output_type": "stream",
     "text": [
      "bone-china-181\n",
      "Does this patient have T2 available? True\n",
      "I'm doing the thing.\n",
      "bone-penn-407\n",
      "Does this patient have T2 available? True\n",
      "I'm doing the thing.\n"
     ]
    },
    {
     "name": "stderr",
     "output_type": "stream",
     "text": [
      "\r",
      " 79%|███████▉  | 80/101 [00:23<00:06,  3.40it/s]"
     ]
    },
    {
     "name": "stdout",
     "output_type": "stream",
     "text": [
      "bone-hup-182\n",
      "Does this patient have T2 available? True\n",
      "I'm doing the thing.\n",
      "bone-hup-99\n",
      "Does this patient have T2 available? True\n",
      "I'm doing the thing.\n"
     ]
    },
    {
     "name": "stderr",
     "output_type": "stream",
     "text": [
      " 82%|████████▏ | 83/101 [00:24<00:04,  3.77it/s]"
     ]
    },
    {
     "name": "stdout",
     "output_type": "stream",
     "text": [
      "bone-china-235\n",
      "Does this patient have T2 available? True\n",
      "I'm doing the thing.\n",
      "bone-penn-649\n",
      "Does this patient have T2 available? True\n",
      "I'm doing the thing.\n"
     ]
    },
    {
     "name": "stderr",
     "output_type": "stream",
     "text": [
      " 84%|████████▍ | 85/101 [00:24<00:03,  4.66it/s]"
     ]
    },
    {
     "name": "stdout",
     "output_type": "stream",
     "text": [
      "bone-china-202\n",
      "Does this patient have T2 available? True\n",
      "I'm doing the thing.\n",
      "bone-penn-184\n",
      "Does this patient have T2 available? True\n",
      "I'm doing the thing.\n",
      "bone-penn-202\n",
      "Does this patient have T2 available? True\n",
      "I'm doing the thing.\n"
     ]
    },
    {
     "name": "stderr",
     "output_type": "stream",
     "text": [
      " 87%|████████▋ | 88/101 [00:26<00:03,  3.51it/s]"
     ]
    },
    {
     "name": "stdout",
     "output_type": "stream",
     "text": [
      "bone-penn-271\n",
      "Does this patient have T2 available? True\n",
      "I'm doing the thing.\n",
      "\n",
      "################################################################################\n",
      "Exception occurred for: outcome_pos   1.000\n",
      "outcome_neg   1.000\n",
      "outcome_3     2.000\n",
      "sort              -\n",
      "volume        0.141\n",
      "Name: bone-penn-271, dtype: object\n",
      "index 183 is out of bounds for axis 0 with size 2\n",
      "T2 image unavailable\n",
      "Traceback (most recent call last):\n",
      "  File \"/home/user1/Documents/Bone-MRI/data_gen.py\", line 392, in generate_from_features\n",
      "    t2_masked = load_image(t2_image_file, t2_seg_file, verbose=verbose)\n",
      "  File \"/home/user1/Documents/Bone-MRI/data_gen.py\", line 331, in load_image\n",
      "    return [mask_image_percentile(image, segmentation, 100, a) for a in (0, 1, 2)]\n",
      "  File \"/home/user1/Documents/Bone-MRI/data_gen.py\", line 331, in <listcomp>\n",
      "    return [mask_image_percentile(image, segmentation, 100, a) for a in (0, 1, 2)]\n",
      "  File \"/home/user1/Documents/Bone-MRI/data_gen.py\", line 335, in mask_image_percentile\n",
      "    image, segmentation = select_slice(image, segmentation, plane, axis)\n",
      "  File \"/home/user1/Documents/Bone-MRI/segmentation.py\", line 40, in select_slice\n",
      "    image = axis_plane[axis](image, plane)\n",
      "  File \"/home/user1/Documents/Bone-MRI/segmentation.py\", line 13, in <lambda>\n",
      "    0: lambda image, plane : image[plane, :, :],\n",
      "IndexError: index 183 is out of bounds for axis 0 with size 2\n",
      "\n",
      "bone-penn-208\n",
      "Does this patient have T2 available? True\n",
      "I'm doing the thing.\n"
     ]
    },
    {
     "name": "stderr",
     "output_type": "stream",
     "text": [
      "\r",
      " 88%|████████▊ | 89/101 [00:26<00:03,  3.42it/s]"
     ]
    },
    {
     "name": "stdout",
     "output_type": "stream",
     "text": [
      "bone-penn-638\n",
      "Does this patient have T2 available? True\n",
      "I'm doing the thing.\n"
     ]
    },
    {
     "name": "stderr",
     "output_type": "stream",
     "text": [
      "\r",
      " 89%|████████▉ | 90/101 [00:27<00:03,  3.22it/s]"
     ]
    },
    {
     "name": "stdout",
     "output_type": "stream",
     "text": [
      "bone-hup-114\n",
      "Does this patient have T2 available? True\n",
      "I'm doing the thing.\n"
     ]
    },
    {
     "name": "stderr",
     "output_type": "stream",
     "text": [
      " 91%|█████████ | 92/101 [00:27<00:02,  3.57it/s]"
     ]
    },
    {
     "name": "stdout",
     "output_type": "stream",
     "text": [
      "bone-penn-544\n",
      "Does this patient have T2 available? True\n",
      "I'm doing the thing.\n",
      "bone-hup-212\n",
      "Does this patient have T2 available? True\n",
      "I'm doing the thing.\n"
     ]
    },
    {
     "name": "stderr",
     "output_type": "stream",
     "text": [
      "\r",
      " 92%|█████████▏| 93/101 [00:27<00:01,  4.31it/s]"
     ]
    },
    {
     "name": "stdout",
     "output_type": "stream",
     "text": [
      "bone-penn-499\n",
      "Does this patient have T2 available? True\n",
      "I'm doing the thing.\n"
     ]
    },
    {
     "name": "stderr",
     "output_type": "stream",
     "text": [
      " 94%|█████████▍| 95/101 [00:28<00:01,  5.07it/s]"
     ]
    },
    {
     "name": "stdout",
     "output_type": "stream",
     "text": [
      "bone-hup-238\n",
      "Does this patient have T2 available? True\n",
      "I'm doing the thing.\n",
      "bone-hup-195\n",
      "Does this patient have T2 available? True\n",
      "I'm doing the thing.\n",
      "bone-hup-164\n",
      "Does this patient have T2 available? True\n",
      "I'm doing the thing.\n"
     ]
    },
    {
     "name": "stderr",
     "output_type": "stream",
     "text": [
      "\r",
      " 96%|█████████▌| 97/101 [00:28<00:00,  5.65it/s]"
     ]
    },
    {
     "name": "stdout",
     "output_type": "stream",
     "text": [
      "bone-hup-236\n",
      "Does this patient have T2 available? True\n",
      "I'm doing the thing.\n"
     ]
    },
    {
     "name": "stderr",
     "output_type": "stream",
     "text": [
      "\r",
      " 97%|█████████▋| 98/101 [00:28<00:00,  4.62it/s]"
     ]
    },
    {
     "name": "stdout",
     "output_type": "stream",
     "text": [
      "bone-penn-486\n",
      "Does this patient have T2 available? True\n",
      "I'm doing the thing.\n"
     ]
    },
    {
     "name": "stderr",
     "output_type": "stream",
     "text": [
      "\r",
      " 98%|█████████▊| 99/101 [00:28<00:00,  4.64it/s]"
     ]
    },
    {
     "name": "stdout",
     "output_type": "stream",
     "text": [
      "bone-penn-233\n",
      "Does this patient have T2 available? True\n",
      "I'm doing the thing.\n"
     ]
    },
    {
     "name": "stderr",
     "output_type": "stream",
     "text": [
      "\r",
      " 99%|█████████▉| 100/101 [00:29<00:00,  4.58it/s]"
     ]
    },
    {
     "name": "stdout",
     "output_type": "stream",
     "text": [
      "bone-hup-190\n",
      "Does this patient have T2 available? True\n",
      "I'm doing the thing.\n"
     ]
    },
    {
     "name": "stderr",
     "output_type": "stream",
     "text": [
      "100%|██████████| 101/101 [00:29<00:00,  3.44it/s]\n"
     ]
    },
    {
     "name": "stdout",
     "output_type": "stream",
     "text": [
      "0.8728813559322034\n",
      "0.9900990099009901\n",
      "0.9257425742574258\n"
     ]
    }
   ],
   "source": [
    "train, validation, test = data(seed=uuid.UUID(result.split_seed), label_form=result.label_form, input_form=result.input_form, train_shuffle=False, test_shuffle=False, validation_shuffle=False, train_augment=False, validation_augment=False, test_augment=False)"
   ]
  },
  {
   "cell_type": "code",
   "execution_count": 10,
   "metadata": {
    "papermill": {
     "duration": null,
     "end_time": null,
     "exception": null,
     "start_time": null,
     "status": "pending"
    },
    "scrolled": true,
    "tags": []
   },
   "outputs": [
    {
     "name": "stdout",
     "output_type": "stream",
     "text": [
      "training N: 618\n",
      "validation N: 187\n",
      "test N: 100\n"
     ]
    }
   ],
   "source": [
    "print(\"training N:\", len(train))\n",
    "print(\"validation N:\", len(validation))\n",
    "print(\"test N:\", len(test))"
   ]
  },
  {
   "cell_type": "code",
   "execution_count": 11,
   "metadata": {
    "papermill": {
     "duration": null,
     "end_time": null,
     "exception": null,
     "start_time": null,
     "status": "pending"
    },
    "tags": []
   },
   "outputs": [
    {
     "name": "stdout",
     "output_type": "stream",
     "text": [
      "training 1.0: 283\n",
      "validation 1.0: 83\n",
      "test 1.0: 46\n"
     ]
    }
   ],
   "source": [
    "class_inv = {v: k for k, v in train.class_indices.items()}\n",
    "print(\"training {}:\".format(class_inv[1]), sum(train.classes))\n",
    "print(\"validation {}:\".format(class_inv[1]), sum(validation.classes))\n",
    "print(\"test {}:\".format(class_inv[1]), sum(test.classes))"
   ]
  },
  {
   "cell_type": "code",
   "execution_count": 11,
   "metadata": {
    "papermill": {
     "duration": null,
     "end_time": null,
     "exception": null,
     "start_time": null,
     "status": "pending"
    },
    "tags": []
   },
   "outputs": [
    {
     "name": "stdout",
     "output_type": "stream",
     "text": [
      "WARNING:tensorflow:From /home/user1/.local/share/virtualenvs/Bone-MRI-iLizu8rs/lib/python3.6/site-packages/tensorflow/python/ops/nn_impl.py:180: add_dispatch_support.<locals>.wrapper (from tensorflow.python.ops.array_ops) is deprecated and will be removed in a future version.\n",
      "Instructions for updating:\n",
      "Use tf.where in 2.0, which has the same broadcast rule as np.where\n"
     ]
    },
    {
     "name": "stderr",
     "output_type": "stream",
     "text": [
      "WARNING:tensorflow:From /home/user1/.local/share/virtualenvs/Bone-MRI-iLizu8rs/lib/python3.6/site-packages/tensorflow/python/ops/nn_impl.py:180: add_dispatch_support.<locals>.wrapper (from tensorflow.python.ops.array_ops) is deprecated and will be removed in a future version.\n",
      "Instructions for updating:\n",
      "Use tf.where in 2.0, which has the same broadcast rule as np.where\n"
     ]
    },
    {
     "name": "stdout",
     "output_type": "stream",
     "text": [
      "WARNING:tensorflow:From /home/user1/.local/share/virtualenvs/Bone-MRI-iLizu8rs/lib/python3.6/site-packages/keras/backend/tensorflow_backend.py:422: The name tf.global_variables is deprecated. Please use tf.compat.v1.global_variables instead.\n",
      "\n"
     ]
    },
    {
     "name": "stderr",
     "output_type": "stream",
     "text": [
      "WARNING:tensorflow:From /home/user1/.local/share/virtualenvs/Bone-MRI-iLizu8rs/lib/python3.6/site-packages/keras/backend/tensorflow_backend.py:422: The name tf.global_variables is deprecated. Please use tf.compat.v1.global_variables instead.\n",
      "\n"
     ]
    }
   ],
   "source": [
    "model = load(MODEL)"
   ]
  },
  {
   "cell_type": "code",
   "execution_count": null,
   "metadata": {
    "papermill": {
     "duration": null,
     "end_time": null,
     "exception": null,
     "start_time": null,
     "status": "pending"
    },
    "tags": []
   },
   "outputs": [],
   "source": [
    "model"
   ]
  },
  {
   "cell_type": "markdown",
   "metadata": {
    "papermill": {
     "duration": null,
     "end_time": null,
     "exception": null,
     "start_time": null,
     "status": "pending"
    },
    "tags": []
   },
   "source": [
    "# Train"
   ]
  },
  {
   "cell_type": "code",
   "execution_count": 12,
   "metadata": {
    "papermill": {
     "duration": null,
     "end_time": null,
     "exception": null,
     "start_time": null,
     "status": "pending"
    },
    "tags": []
   },
   "outputs": [],
   "source": [
    "results = get_results(model, train)"
   ]
  },
  {
   "cell_type": "code",
   "execution_count": 13,
   "metadata": {
    "papermill": {
     "duration": null,
     "end_time": null,
     "exception": null,
     "start_time": null,
     "status": "pending"
    },
    "scrolled": false,
    "tags": []
   },
   "outputs": [
    {
     "data": {
      "application/papermill.record+json": {
       "train_labels": [
        0,
        0,
        0,
        0,
        0,
        0,
        0,
        0,
        0,
        0,
        0,
        0,
        0,
        0,
        0,
        0,
        0,
        0,
        0,
        0,
        0,
        0,
        0,
        0,
        0,
        0,
        0,
        0,
        0,
        0,
        0,
        0,
        0,
        0,
        0,
        0,
        0,
        0,
        0,
        0,
        0,
        0,
        0,
        0,
        0,
        0,
        0,
        0,
        0,
        0,
        0,
        0,
        0,
        0,
        0,
        0,
        0,
        0,
        0,
        0,
        0,
        0,
        0,
        0,
        0,
        0,
        0,
        0,
        0,
        0,
        0,
        0,
        0,
        0,
        0,
        0,
        0,
        0,
        0,
        0,
        0,
        0,
        0,
        0,
        0,
        0,
        0,
        0,
        0,
        0,
        0,
        0,
        0,
        0,
        0,
        0,
        0,
        0,
        0,
        0,
        0,
        0,
        0,
        0,
        0,
        0,
        0,
        0,
        0,
        0,
        0,
        0,
        0,
        0,
        0,
        0,
        0,
        0,
        0,
        0,
        0,
        0,
        0,
        0,
        0,
        0,
        0,
        0,
        0,
        0,
        0,
        0,
        0,
        0,
        0,
        0,
        0,
        0,
        0,
        0,
        0,
        0,
        0,
        0,
        0,
        0,
        0,
        0,
        0,
        0,
        0,
        0,
        0,
        0,
        0,
        0,
        0,
        0,
        0,
        0,
        0,
        0,
        0,
        0,
        0,
        0,
        0,
        0,
        0,
        0,
        0,
        0,
        0,
        0,
        0,
        0,
        0,
        0,
        0,
        0,
        0,
        0,
        0,
        0,
        0,
        0,
        0,
        0,
        0,
        0,
        0,
        0,
        0,
        0,
        0,
        0,
        0,
        0,
        0,
        0,
        0,
        0,
        0,
        0,
        0,
        0,
        0,
        0,
        0,
        0,
        0,
        0,
        0,
        0,
        0,
        0,
        0,
        0,
        0,
        0,
        0,
        0,
        0,
        0,
        0,
        0,
        0,
        0,
        0,
        0,
        0,
        0,
        0,
        0,
        0,
        0,
        0,
        0,
        0,
        0,
        0,
        0,
        0,
        0,
        0,
        0,
        0,
        0,
        0,
        0,
        0,
        0,
        0,
        0,
        0,
        0,
        0,
        0,
        0,
        0,
        0,
        0,
        0,
        0,
        0,
        0,
        0,
        0,
        0,
        0,
        0,
        0,
        0,
        0,
        0,
        0,
        0,
        0,
        0,
        0,
        0,
        0,
        0,
        0,
        0,
        0,
        0,
        0,
        0,
        0,
        0,
        0,
        0,
        0,
        0,
        0,
        0,
        0,
        0,
        0,
        0,
        0,
        0,
        0,
        0,
        0,
        0,
        0,
        0,
        0,
        0,
        0,
        0,
        0,
        0,
        0,
        0,
        0,
        0,
        0,
        0,
        0,
        0,
        0,
        0,
        0,
        0,
        0,
        0,
        0,
        0,
        0,
        0,
        0,
        0,
        1,
        1,
        1,
        1,
        1,
        1,
        1,
        1,
        1,
        1,
        1,
        1,
        1,
        1,
        1,
        1,
        1,
        1,
        1,
        1,
        1,
        1,
        1,
        1,
        1,
        1,
        1,
        1,
        1,
        1,
        1,
        1,
        1,
        1,
        1,
        1,
        1,
        1,
        1,
        1,
        1,
        1,
        1,
        1,
        1,
        1,
        1,
        1,
        1,
        1,
        1,
        1,
        1,
        1,
        1,
        1,
        1,
        1,
        1,
        1,
        1,
        1,
        1,
        1,
        1,
        1,
        1,
        1,
        1,
        1,
        1,
        1,
        1,
        1,
        1,
        1,
        1,
        1,
        1,
        1,
        1,
        1,
        1,
        1,
        1,
        1,
        1,
        1,
        1,
        1,
        1,
        1,
        1,
        1,
        1,
        1,
        1,
        1,
        1,
        1,
        1,
        1,
        1,
        1,
        1,
        1,
        1,
        1,
        1,
        1,
        1,
        1,
        1,
        1,
        1,
        1,
        1,
        1,
        1,
        1,
        1,
        1,
        1,
        1,
        1,
        1,
        1,
        1,
        1,
        1,
        1,
        1,
        1,
        1,
        1,
        1,
        1,
        1,
        1,
        1,
        1,
        1,
        1,
        1,
        1,
        1,
        1,
        1,
        1,
        1,
        1,
        1,
        1,
        1,
        1,
        1,
        1,
        1,
        1,
        1,
        1,
        1,
        1,
        1,
        1,
        1,
        1,
        1,
        1,
        1,
        1,
        1,
        1,
        1,
        1,
        1,
        1,
        1,
        1,
        1,
        1,
        1,
        1,
        1,
        1,
        1,
        1,
        1,
        1,
        1,
        1,
        1,
        1,
        1,
        1,
        1,
        1,
        1,
        1,
        1,
        1,
        1,
        1,
        1,
        1,
        1,
        1,
        1,
        1,
        1,
        1,
        1,
        1,
        1,
        1,
        1,
        1,
        1,
        1,
        1,
        1,
        1,
        1,
        1,
        1,
        1,
        1,
        1,
        1,
        1,
        1,
        1,
        1,
        1,
        1,
        1,
        1,
        1,
        1,
        1,
        1,
        1,
        1,
        1,
        1,
        1,
        1,
        1,
        1,
        1,
        1,
        1,
        1,
        1,
        1,
        1,
        1,
        1,
        1,
        1,
        1,
        1,
        1,
        1,
        1,
        1,
        1,
        1,
        1,
        1,
        1,
        1,
        1,
        1,
        1,
        1,
        1,
        1,
        1,
        1,
        1,
        1,
        1
       ]
      }
     },
     "metadata": {},
     "output_type": "display_data"
    },
    {
     "data": {
      "application/papermill.record+json": {
       "train_probabilities": [
        0.5835759043693542,
        0.30503445863723755,
        0.46643733978271484,
        0.49408090114593506,
        0.3564678430557251,
        0.41772645711898804,
        0.28490060567855835,
        0.27140793204307556,
        0.41945773363113403,
        0.2157849371433258,
        0.5369229912757874,
        0.4043424129486084,
        0.7911399602890015,
        0.5021499991416931,
        0.26040902733802795,
        0.3954637050628662,
        0.5063176155090332,
        0.22392883896827698,
        0.7683570981025696,
        0.4743916392326355,
        0.40088701248168945,
        0.4950798451900482,
        0.512099027633667,
        0.6085206270217896,
        0.1919327676296234,
        0.4817590117454529,
        0.3236243724822998,
        0.3116915822029114,
        0.5310701727867126,
        0.472784161567688,
        0.40372878313064575,
        0.3414981961250305,
        0.35161536931991577,
        0.3552602529525757,
        0.5470519661903381,
        0.35948580503463745,
        0.21479478478431702,
        0.4072842299938202,
        0.4583684504032135,
        0.4518694579601288,
        0.23890841007232666,
        0.3957054615020752,
        0.7168693542480469,
        0.8291369676589966,
        0.4527832865715027,
        0.48878446221351624,
        0.3723829388618469,
        0.438577264547348,
        0.7166244387626648,
        0.25139713287353516,
        0.22069108486175537,
        0.23296913504600525,
        0.6627576351165771,
        0.39817121624946594,
        0.2598547041416168,
        0.3285333216190338,
        0.3521498143672943,
        0.3855660557746887,
        0.5523813366889954,
        0.719761848449707,
        0.29707127809524536,
        0.23474925756454468,
        0.2671799659729004,
        0.21838200092315674,
        0.3414134383201599,
        0.5274145007133484,
        0.30567431449890137,
        0.558499813079834,
        0.6021019816398621,
        0.2819105386734009,
        0.6553751826286316,
        0.32571855187416077,
        0.4837813973426819,
        0.6919932961463928,
        0.3805047869682312,
        0.22128403186798096,
        0.5547758936882019,
        0.2612692713737488,
        0.5141512751579285,
        0.2647770643234253,
        0.4735015630722046,
        0.35539424419403076,
        0.3681022822856903,
        0.22264286875724792,
        0.426384299993515,
        0.5896259546279907,
        0.4139440059661865,
        0.6271913051605225,
        0.32582610845565796,
        0.35335099697113037,
        0.6905102133750916,
        0.6571434140205383,
        0.5423411726951599,
        0.2529870867729187,
        0.35872727632522583,
        0.4728843867778778,
        0.3542208969593048,
        0.7122363448143005,
        0.44708335399627686,
        0.307722270488739,
        0.23412320017814636,
        0.6522327661514282,
        0.3559993803501129,
        0.5631051659584045,
        0.2639784514904022,
        0.7304396629333496,
        0.2460036277770996,
        0.2619815468788147,
        0.24875718355178833,
        0.4512275159358978,
        0.4021850824356079,
        0.24962133169174194,
        0.2866140305995941,
        0.6519653797149658,
        0.42708733677864075,
        0.5271398425102234,
        0.31044089794158936,
        0.5365856885910034,
        0.3915017247200012,
        0.2989887595176697,
        0.7308230400085449,
        0.4239463210105896,
        0.3767438530921936,
        0.44469761848449707,
        0.36979466676712036,
        0.6194266080856323,
        0.7351778149604797,
        0.35389140248298645,
        0.2939850687980652,
        0.8382748365402222,
        0.4055343270301819,
        0.21554356813430786,
        0.3650681972503662,
        0.7429447174072266,
        0.4099111557006836,
        0.4785139858722687,
        0.38607197999954224,
        0.28421664237976074,
        0.2616612911224365,
        0.32082656025886536,
        0.6048027873039246,
        0.30900001525878906,
        0.3157845139503479,
        0.2525981366634369,
        0.2135474979877472,
        0.5253056287765503,
        0.7195132970809937,
        0.7233079075813293,
        0.5472034811973572,
        0.6661428809165955,
        0.46655046939849854,
        0.6156240701675415,
        0.22728562355041504,
        0.340291827917099,
        0.5955297946929932,
        0.28389298915863037,
        0.2503359317779541,
        0.36440348625183105,
        0.2420571744441986,
        0.5789775252342224,
        0.2331337034702301,
        0.28007984161376953,
        0.42758119106292725,
        0.3065685033798218,
        0.4617258608341217,
        0.2889198660850525,
        0.513343870639801,
        0.2823227345943451,
        0.6390370726585388,
        0.6819532513618469,
        0.6650298833847046,
        0.24059826135635376,
        0.3495929539203644,
        0.39172884821891785,
        0.4489612281322479,
        0.2886418104171753,
        0.6981483697891235,
        0.5671581029891968,
        0.4105015993118286,
        0.2749045193195343,
        0.6868535876274109,
        0.30518773198127747,
        0.3303815424442291,
        0.47272804379463196,
        0.418670654296875,
        0.5509977340698242,
        0.31430524587631226,
        0.3441178798675537,
        0.27550381422042847,
        0.3477831482887268,
        0.2728889584541321,
        0.6716001033782959,
        0.34267815947532654,
        0.7050814628601074,
        0.6348972916603088,
        0.39615732431411743,
        0.4377228319644928,
        0.6973990201950073,
        0.42711177468299866,
        0.39626458287239075,
        0.26206254959106445,
        0.5055118203163147,
        0.5136397480964661,
        0.3956919014453888,
        0.3149922490119934,
        0.285533607006073,
        0.2349073886871338,
        0.4428306221961975,
        0.3319694995880127,
        0.35985368490219116,
        0.4975036382675171,
        0.40638113021850586,
        0.329934298992157,
        0.40436458587646484,
        0.23973610997200012,
        0.2764817476272583,
        0.6712210178375244,
        0.5264983177185059,
        0.6296043992042542,
        0.2316492795944214,
        0.3190114498138428,
        0.4475127160549164,
        0.5770806074142456,
        0.24611777067184448,
        0.32237064838409424,
        0.535033643245697,
        0.4180048704147339,
        0.38894134759902954,
        0.3517373204231262,
        0.46253296732902527,
        0.5568833947181702,
        0.34907031059265137,
        0.2695985436439514,
        0.6884584426879883,
        0.3982086777687073,
        0.2709417939186096,
        0.28901663422584534,
        0.4260236918926239,
        0.30891337990760803,
        0.29674404859542847,
        0.6880888938903809,
        0.7263386249542236,
        0.2617185115814209,
        0.5222495794296265,
        0.31967344880104065,
        0.23200425505638123,
        0.5434103608131409,
        0.40752220153808594,
        0.28912848234176636,
        0.3079429864883423,
        0.2196064293384552,
        0.3575798273086548,
        0.28596776723861694,
        0.7013266086578369,
        0.5883385539054871,
        0.4011304974555969,
        0.24190381169319153,
        0.27757757902145386,
        0.7179387807846069,
        0.40316295623779297,
        0.5155787467956543,
        0.248409241437912,
        0.7229683995246887,
        0.3273540139198303,
        0.26561233401298523,
        0.35431867837905884,
        0.29232922196388245,
        0.3132096230983734,
        0.3980536162853241,
        0.4933709502220154,
        0.5837856531143188,
        0.3719945549964905,
        0.3850867748260498,
        0.45960503816604614,
        0.4099729061126709,
        0.41078609228134155,
        0.45333826541900635,
        0.2815755605697632,
        0.703795313835144,
        0.44634073972702026,
        0.7307748198509216,
        0.2767791450023651,
        0.2850971221923828,
        0.45188671350479126,
        0.35650092363357544,
        0.2868741750717163,
        0.3490900695323944,
        0.4779782295227051,
        0.2892340421676636,
        0.4007943272590637,
        0.22629579901695251,
        0.5785706043243408,
        0.3637182414531708,
        0.4258967638015747,
        0.3890707790851593,
        0.2646852135658264,
        0.2069821059703827,
        0.6546558141708374,
        0.3988514542579651,
        0.32494139671325684,
        0.3900309205055237,
        0.32182198762893677,
        0.6763639450073242,
        0.19737651944160461,
        0.3182327151298523,
        0.47407352924346924,
        0.5247767567634583,
        0.26726382970809937,
        0.28019893169403076,
        0.6707746982574463,
        0.26758792996406555,
        0.29667261242866516,
        0.3694777190685272,
        0.6093641519546509,
        0.5182600617408752,
        0.23560044169425964,
        0.3724313974380493,
        0.3304451107978821,
        0.2711244225502014,
        0.3613373041152954,
        0.3252487778663635,
        0.810387134552002,
        0.23695534467697144,
        0.5226917862892151,
        0.26721900701522827,
        0.4267749786376953,
        0.3638809323310852,
        0.48653173446655273,
        0.2614615857601166,
        0.2207868993282318,
        0.35931965708732605,
        0.2779715657234192,
        0.2474200427532196,
        0.34354856610298157,
        0.3283821940422058,
        0.6247005462646484,
        0.5343446731567383,
        0.6762204170227051,
        0.6366917490959167,
        0.730682909488678,
        0.8225258588790894,
        0.7382793426513672,
        0.694243311882019,
        0.42060697078704834,
        0.5599703788757324,
        0.5633758902549744,
        0.367495596408844,
        0.4399338662624359,
        0.49402403831481934,
        0.7346389889717102,
        0.7145364880561829,
        0.4000827968120575,
        0.5510370135307312,
        0.6685605049133301,
        0.7922419905662537,
        0.3483908176422119,
        0.46731969714164734,
        0.5105569362640381,
        0.7224019765853882,
        0.5985985994338989,
        0.738521933555603,
        0.5415924191474915,
        0.7267624139785767,
        0.7034862041473389,
        0.6550043225288391,
        0.7252922058105469,
        0.5918117165565491,
        0.5164458155632019,
        0.585884153842926,
        0.7723492383956909,
        0.6935417652130127,
        0.7225989103317261,
        0.6800553798675537,
        0.7203443050384521,
        0.7176269888877869,
        0.6819072961807251,
        0.7310417890548706,
        0.3369011878967285,
        0.6309628486633301,
        0.7238922715187073,
        0.6120445132255554,
        0.6060352325439453,
        0.671033501625061,
        0.6795875430107117,
        0.6554962992668152,
        0.8405451774597168,
        0.5948549509048462,
        0.7329233884811401,
        0.5750097632408142,
        0.6971515417098999,
        0.46140944957733154,
        0.7015650868415833,
        0.6914728879928589,
        0.7216683030128479,
        0.7154731154441833,
        0.8042808771133423,
        0.6396843194961548,
        0.46018415689468384,
        0.5460696816444397,
        0.6267158389091492,
        0.4936773180961609,
        0.5503864288330078,
        0.65635085105896,
        0.5767673850059509,
        0.5780855417251587,
        0.32821953296661377,
        0.7037152647972107,
        0.7261470556259155,
        0.6854549646377563,
        0.8172178268432617,
        0.7308182120323181,
        0.8031639456748962,
        0.6504483222961426,
        0.37319737672805786,
        0.7200582027435303,
        0.7212033867835999,
        0.6988792419433594,
        0.5011517405509949,
        0.7039949893951416,
        0.706499457359314,
        0.7683829069137573,
        0.7191042900085449,
        0.8343498706817627,
        0.6387577652931213,
        0.7176531553268433,
        0.672189474105835,
        0.5613692402839661,
        0.6521533727645874,
        0.7402299046516418,
        0.6580881476402283,
        0.5931016206741333,
        0.7346163988113403,
        0.6068356037139893,
        0.7301585674285889,
        0.8053574562072754,
        0.5623199343681335,
        0.7065234780311584,
        0.6005120277404785,
        0.574761152267456,
        0.6679238080978394,
        0.5581414699554443,
        0.7184076905250549,
        0.7276957631111145,
        0.7079724669456482,
        0.6683529615402222,
        0.7395620942115784,
        0.8253086805343628,
        0.6096447706222534,
        0.6935228109359741,
        0.7269598841667175,
        0.5015267729759216,
        0.5132083296775818,
        0.7210956811904907,
        0.36192935705184937,
        0.5933908820152283,
        0.7142748832702637,
        0.7882360816001892,
        0.7367979288101196,
        0.6832752823829651,
        0.5716549158096313,
        0.795398473739624,
        0.5659620761871338,
        0.7332543134689331,
        0.8221539258956909,
        0.7201810479164124,
        0.5743597745895386,
        0.7376887798309326,
        0.7080135345458984,
        0.8059943914413452,
        0.7518842816352844,
        0.7309522032737732,
        0.679799497127533,
        0.25280559062957764,
        0.6861265897750854,
        0.7176138162612915,
        0.6713579297065735,
        0.32310205698013306,
        0.7279191613197327,
        0.46007484197616577,
        0.5146973133087158,
        0.6249784827232361,
        0.5592012405395508,
        0.6618436574935913,
        0.7505736351013184,
        0.570232093334198,
        0.6926189064979553,
        0.3468276560306549,
        0.5247467756271362,
        0.39298883080482483,
        0.6409124135971069,
        0.7315899133682251,
        0.622051477432251,
        0.7395358681678772,
        0.5578866600990295,
        0.7198816537857056,
        0.4970017969608307,
        0.6266942024230957,
        0.8093004822731018,
        0.7452095150947571,
        0.7187765836715698,
        0.3671489357948303,
        0.4354877173900604,
        0.4212659001350403,
        0.7571803331375122,
        0.732039749622345,
        0.7220498323440552,
        0.6011828184127808,
        0.7311723232269287,
        0.6153874397277832,
        0.5797277688980103,
        0.45595186948776245,
        0.6205296516418457,
        0.73030686378479,
        0.7313649654388428,
        0.3987167775630951,
        0.4815405607223511,
        0.7754683494567871,
        0.7318825721740723,
        0.6189424991607666,
        0.43324601650238037,
        0.8158407211303711,
        0.7325054407119751,
        0.5733054876327515,
        0.6191526651382446,
        0.6053328514099121,
        0.4907890558242798,
        0.7383456230163574,
        0.7062891721725464,
        0.5491046905517578,
        0.5114254355430603,
        0.7142682671546936,
        0.6015815138816833,
        0.3943586051464081,
        0.7233991026878357,
        0.7220845222473145,
        0.7223458290100098,
        0.5738660097122192,
        0.5674629807472229,
        0.6925913095474243,
        0.5866983532905579,
        0.5641303062438965,
        0.8285019397735596,
        0.639868974685669,
        0.6813696026802063,
        0.7345600128173828,
        0.6151319146156311,
        0.7395886182785034,
        0.5800204873085022,
        0.7258427143096924,
        0.6888300180435181,
        0.7053448557853699,
        0.6114283800125122,
        0.6631543040275574,
        0.7544613480567932,
        0.5435889363288879,
        0.28319501876831055,
        0.758786678314209,
        0.5499460697174072,
        0.48325735330581665,
        0.7266013622283936,
        0.3151782751083374,
        0.7038861513137817,
        0.6860789656639099,
        0.6809158325195312,
        0.7234066724777222,
        0.816730797290802,
        0.6595275402069092,
        0.7307324409484863,
        0.6421035528182983,
        0.7341053485870361,
        0.7328861951828003,
        0.7198147773742676,
        0.6965762376785278,
        0.6580345630645752,
        0.7240403890609741,
        0.4011628329753876,
        0.7354759573936462,
        0.4763472378253937,
        0.7401600480079651,
        0.7107616662979126,
        0.718147873878479,
        0.47316205501556396,
        0.7044229507446289,
        0.625278115272522,
        0.7902681827545166,
        0.6635563969612122,
        0.6877365112304688,
        0.8181858062744141,
        0.737566351890564,
        0.7302077412605286,
        0.7949742078781128,
        0.572250247001648,
        0.6242862939834595,
        0.8273240327835083,
        0.4740964472293854,
        0.7292380928993225,
        0.6089512705802917,
        0.701880931854248,
        0.42710843682289124,
        0.3808668553829193,
        0.670624852180481,
        0.751197338104248,
        0.6913178563117981,
        0.4509504437446594,
        0.43807452917099,
        0.4413125813007355,
        0.7182766795158386,
        0.5202969908714294,
        0.6108758449554443,
        0.6544053554534912,
        0.7123867273330688,
        0.72780442237854,
        0.6943384408950806,
        0.3673068881034851,
        0.7312184572219849,
        0.5704839825630188,
        0.5145206451416016,
        0.6943793892860413
       ]
      }
     },
     "metadata": {},
     "output_type": "display_data"
    },
    {
     "data": {
      "application/papermill.record+json": {
       "train_predictions": [
        1,
        0,
        0,
        0,
        0,
        0,
        0,
        0,
        0,
        0,
        1,
        0,
        1,
        1,
        0,
        0,
        1,
        0,
        1,
        0,
        0,
        0,
        1,
        1,
        0,
        0,
        0,
        0,
        1,
        0,
        0,
        0,
        0,
        0,
        1,
        0,
        0,
        0,
        0,
        0,
        0,
        0,
        1,
        1,
        0,
        0,
        0,
        0,
        1,
        0,
        0,
        0,
        1,
        0,
        0,
        0,
        0,
        0,
        1,
        1,
        0,
        0,
        0,
        0,
        0,
        1,
        0,
        1,
        1,
        0,
        1,
        0,
        0,
        1,
        0,
        0,
        1,
        0,
        1,
        0,
        0,
        0,
        0,
        0,
        0,
        1,
        0,
        1,
        0,
        0,
        1,
        1,
        1,
        0,
        0,
        0,
        0,
        1,
        0,
        0,
        0,
        1,
        0,
        1,
        0,
        1,
        0,
        0,
        0,
        0,
        0,
        0,
        0,
        1,
        0,
        1,
        0,
        1,
        0,
        0,
        1,
        0,
        0,
        0,
        0,
        1,
        1,
        0,
        0,
        1,
        0,
        0,
        0,
        1,
        0,
        0,
        0,
        0,
        0,
        0,
        1,
        0,
        0,
        0,
        0,
        1,
        1,
        1,
        1,
        1,
        0,
        1,
        0,
        0,
        1,
        0,
        0,
        0,
        0,
        1,
        0,
        0,
        0,
        0,
        0,
        0,
        1,
        0,
        1,
        1,
        1,
        0,
        0,
        0,
        0,
        0,
        1,
        1,
        0,
        0,
        1,
        0,
        0,
        0,
        0,
        1,
        0,
        0,
        0,
        0,
        0,
        1,
        0,
        1,
        1,
        0,
        0,
        1,
        0,
        0,
        0,
        1,
        1,
        0,
        0,
        0,
        0,
        0,
        0,
        0,
        0,
        0,
        0,
        0,
        0,
        0,
        1,
        1,
        1,
        0,
        0,
        0,
        1,
        0,
        0,
        1,
        0,
        0,
        0,
        0,
        1,
        0,
        0,
        1,
        0,
        0,
        0,
        0,
        0,
        0,
        1,
        1,
        0,
        1,
        0,
        0,
        1,
        0,
        0,
        0,
        0,
        0,
        0,
        1,
        1,
        0,
        0,
        0,
        1,
        0,
        1,
        0,
        1,
        0,
        0,
        0,
        0,
        0,
        0,
        0,
        1,
        0,
        0,
        0,
        0,
        0,
        0,
        0,
        1,
        0,
        1,
        0,
        0,
        0,
        0,
        0,
        0,
        0,
        0,
        0,
        0,
        1,
        0,
        0,
        0,
        0,
        0,
        1,
        0,
        0,
        0,
        0,
        1,
        0,
        0,
        0,
        1,
        0,
        0,
        1,
        0,
        0,
        0,
        1,
        1,
        0,
        0,
        0,
        0,
        0,
        0,
        1,
        0,
        1,
        0,
        0,
        0,
        0,
        0,
        0,
        0,
        0,
        0,
        0,
        0,
        1,
        1,
        1,
        1,
        1,
        1,
        1,
        1,
        0,
        1,
        1,
        0,
        0,
        0,
        1,
        1,
        0,
        1,
        1,
        1,
        0,
        0,
        1,
        1,
        1,
        1,
        1,
        1,
        1,
        1,
        1,
        1,
        1,
        1,
        1,
        1,
        1,
        1,
        1,
        1,
        1,
        1,
        0,
        1,
        1,
        1,
        1,
        1,
        1,
        1,
        1,
        1,
        1,
        1,
        1,
        0,
        1,
        1,
        1,
        1,
        1,
        1,
        0,
        1,
        1,
        0,
        1,
        1,
        1,
        1,
        0,
        1,
        1,
        1,
        1,
        1,
        1,
        1,
        0,
        1,
        1,
        1,
        1,
        1,
        1,
        1,
        1,
        1,
        1,
        1,
        1,
        1,
        1,
        1,
        1,
        1,
        1,
        1,
        1,
        1,
        1,
        1,
        1,
        1,
        1,
        1,
        1,
        1,
        1,
        1,
        1,
        1,
        1,
        1,
        1,
        1,
        1,
        1,
        0,
        1,
        1,
        1,
        1,
        1,
        1,
        1,
        1,
        1,
        1,
        1,
        1,
        1,
        1,
        1,
        1,
        1,
        1,
        0,
        1,
        1,
        1,
        0,
        1,
        0,
        1,
        1,
        1,
        1,
        1,
        1,
        1,
        0,
        1,
        0,
        1,
        1,
        1,
        1,
        1,
        1,
        0,
        1,
        1,
        1,
        1,
        0,
        0,
        0,
        1,
        1,
        1,
        1,
        1,
        1,
        1,
        0,
        1,
        1,
        1,
        0,
        0,
        1,
        1,
        1,
        0,
        1,
        1,
        1,
        1,
        1,
        0,
        1,
        1,
        1,
        1,
        1,
        1,
        0,
        1,
        1,
        1,
        1,
        1,
        1,
        1,
        1,
        1,
        1,
        1,
        1,
        1,
        1,
        1,
        1,
        1,
        1,
        1,
        1,
        1,
        1,
        0,
        1,
        1,
        0,
        1,
        0,
        1,
        1,
        1,
        1,
        1,
        1,
        1,
        1,
        1,
        1,
        1,
        1,
        1,
        1,
        0,
        1,
        0,
        1,
        1,
        1,
        0,
        1,
        1,
        1,
        1,
        1,
        1,
        1,
        1,
        1,
        1,
        1,
        1,
        0,
        1,
        1,
        1,
        0,
        0,
        1,
        1,
        1,
        0,
        0,
        0,
        1,
        1,
        1,
        1,
        1,
        1,
        1,
        0,
        1,
        1,
        1,
        1
       ]
      }
     },
     "metadata": {},
     "output_type": "display_data"
    }
   ],
   "source": [
    "probabilities = transform_binary_probabilities(results)\n",
    "predictions = transform_binary_predictions(results)\n",
    "labels = get_labels(train)\n",
    "pm.record(\"train_labels\", list(labels))\n",
    "pm.record(\"train_probabilities\", list(probabilities))\n",
    "pm.record(\"train_predictions\", list(predictions))"
   ]
  },
  {
   "cell_type": "markdown",
   "metadata": {
    "papermill": {
     "duration": null,
     "end_time": null,
     "exception": null,
     "start_time": null,
     "status": "pending"
    },
    "tags": []
   },
   "source": [
    "## Train statistics"
   ]
  },
  {
   "cell_type": "code",
   "execution_count": 14,
   "metadata": {
    "papermill": {
     "duration": null,
     "end_time": null,
     "exception": null,
     "start_time": null,
     "status": "pending"
    },
    "tags": []
   },
   "outputs": [
    {
     "name": "stdout",
     "output_type": "stream",
     "text": [
      "Accuracy: 0.7847896218299866\n",
      "Loss: 29.323631286621094\n"
     ]
    },
    {
     "data": {
      "text/html": [
       "<div>\n",
       "<style scoped>\n",
       "    .dataframe tbody tr th:only-of-type {\n",
       "        vertical-align: middle;\n",
       "    }\n",
       "\n",
       "    .dataframe tbody tr th {\n",
       "        vertical-align: top;\n",
       "    }\n",
       "\n",
       "    .dataframe thead th {\n",
       "        text-align: right;\n",
       "    }\n",
       "</style>\n",
       "<table border=\"1\" class=\"dataframe\">\n",
       "  <thead>\n",
       "    <tr style=\"text-align: right;\">\n",
       "      <th></th>\n",
       "      <th>Acc</th>\n",
       "      <th>TP</th>\n",
       "      <th>TN</th>\n",
       "      <th>FP</th>\n",
       "      <th>FN</th>\n",
       "      <th>TPR</th>\n",
       "      <th>TNR</th>\n",
       "      <th>PPV</th>\n",
       "      <th>NPV</th>\n",
       "      <th>FPR</th>\n",
       "      <th>FNR</th>\n",
       "      <th>FDR</th>\n",
       "      <th>AM</th>\n",
       "      <th>GM</th>\n",
       "    </tr>\n",
       "  </thead>\n",
       "  <tbody>\n",
       "    <tr>\n",
       "      <th>0.000</th>\n",
       "      <td>0.785</td>\n",
       "      <td>244</td>\n",
       "      <td>241</td>\n",
       "      <td>42</td>\n",
       "      <td>91</td>\n",
       "      <td>0.728</td>\n",
       "      <td>0.852</td>\n",
       "      <td>0.853</td>\n",
       "      <td>0.726</td>\n",
       "      <td>0.148</td>\n",
       "      <td>0.272</td>\n",
       "      <td>0.147</td>\n",
       "      <td>0.790</td>\n",
       "      <td>0.788</td>\n",
       "    </tr>\n",
       "    <tr>\n",
       "      <th>1.000</th>\n",
       "      <td>0.785</td>\n",
       "      <td>241</td>\n",
       "      <td>244</td>\n",
       "      <td>91</td>\n",
       "      <td>42</td>\n",
       "      <td>0.852</td>\n",
       "      <td>0.728</td>\n",
       "      <td>0.726</td>\n",
       "      <td>0.853</td>\n",
       "      <td>0.272</td>\n",
       "      <td>0.148</td>\n",
       "      <td>0.274</td>\n",
       "      <td>0.790</td>\n",
       "      <td>0.788</td>\n",
       "    </tr>\n",
       "  </tbody>\n",
       "</table>\n",
       "</div>"
      ],
      "text/plain": [
       "        Acc   TP   TN  FP  FN   TPR   TNR   PPV   NPV   FPR   FNR   FDR    AM  \\\n",
       "0.000 0.785  244  241  42  91 0.728 0.852 0.853 0.726 0.148 0.272 0.147 0.790   \n",
       "1.000 0.785  241  244  91  42 0.852 0.728 0.726 0.853 0.272 0.148 0.274 0.790   \n",
       "\n",
       "         GM  \n",
       "0.000 0.788  \n",
       "1.000 0.788  "
      ]
     },
     "execution_count": 14,
     "metadata": {},
     "output_type": "execute_result"
    }
   ],
   "source": [
    "loss, accuracy = calculate_accuracy_loss(model, train)\n",
    "print(\"Accuracy:\", accuracy)\n",
    "print(\"Loss:\", loss)\n",
    "stats = calculate_confusion_matrix_stats(labels, results)\n",
    "pandas.DataFrame(stats, index=train.class_indices)"
   ]
  },
  {
   "cell_type": "markdown",
   "metadata": {
    "papermill": {
     "duration": null,
     "end_time": null,
     "exception": null,
     "start_time": null,
     "status": "pending"
    },
    "tags": []
   },
   "source": [
    "## Train confusion matrix"
   ]
  },
  {
   "cell_type": "code",
   "execution_count": null,
   "metadata": {
    "papermill": {
     "duration": null,
     "end_time": null,
     "exception": null,
     "start_time": null,
     "status": "pending"
    },
    "tags": []
   },
   "outputs": [],
   "source": [
    "fig = plot_confusion_matrix(train, results)\n",
    "fig.savefig(\"figures/{}-{}-train-confusion-matrix.svg\".format(result.uuid, result.input_form), bbox_inches = \"tight\")"
   ]
  },
  {
   "cell_type": "markdown",
   "metadata": {
    "papermill": {
     "duration": null,
     "end_time": null,
     "exception": null,
     "start_time": null,
     "status": "pending"
    },
    "tags": []
   },
   "source": [
    "## Train ROC curve"
   ]
  },
  {
   "cell_type": "code",
   "execution_count": null,
   "metadata": {
    "papermill": {
     "duration": null,
     "end_time": null,
     "exception": null,
     "start_time": null,
     "status": "pending"
    },
    "scrolled": false,
    "tags": []
   },
   "outputs": [],
   "source": [
    "fig = plot_roc_curve(labels, probabilities)\n",
    "fig.savefig(\"figures/{}-{}-train-ROC-curve.svg\".format(result.uuid, result.input_form), bbox_inches = \"tight\")"
   ]
  },
  {
   "cell_type": "markdown",
   "metadata": {
    "papermill": {
     "duration": null,
     "end_time": null,
     "exception": null,
     "start_time": null,
     "status": "pending"
    },
    "tags": []
   },
   "source": [
    "## Train precision-recall curve"
   ]
  },
  {
   "cell_type": "code",
   "execution_count": null,
   "metadata": {
    "papermill": {
     "duration": null,
     "end_time": null,
     "exception": null,
     "start_time": null,
     "status": "pending"
    },
    "scrolled": false,
    "tags": []
   },
   "outputs": [],
   "source": [
    "fig = plot_precision_recall(labels, results)\n",
    "fig.savefig(\"figures/{}-{}-train-precisionrecall-curve.svg\".format(result.uuid, result.input_form), bbox_inches = \"tight\")"
   ]
  },
  {
   "cell_type": "markdown",
   "metadata": {
    "papermill": {
     "duration": null,
     "end_time": null,
     "exception": null,
     "start_time": null,
     "status": "pending"
    },
    "tags": []
   },
   "source": [
    "# Validation"
   ]
  },
  {
   "cell_type": "code",
   "execution_count": 15,
   "metadata": {
    "papermill": {
     "duration": null,
     "end_time": null,
     "exception": null,
     "start_time": null,
     "status": "pending"
    },
    "tags": []
   },
   "outputs": [],
   "source": [
    "results = get_results(model, validation)"
   ]
  },
  {
   "cell_type": "code",
   "execution_count": 16,
   "metadata": {
    "papermill": {
     "duration": null,
     "end_time": null,
     "exception": null,
     "start_time": null,
     "status": "pending"
    },
    "scrolled": false,
    "tags": []
   },
   "outputs": [
    {
     "data": {
      "application/papermill.record+json": {
       "validation_labels": [
        0,
        0,
        0,
        0,
        0,
        0,
        0,
        0,
        0,
        0,
        0,
        0,
        0,
        0,
        0,
        0,
        0,
        0,
        0,
        0,
        0,
        0,
        0,
        0,
        0,
        0,
        0,
        0,
        0,
        0,
        0,
        0,
        0,
        0,
        0,
        0,
        0,
        0,
        0,
        0,
        0,
        0,
        0,
        0,
        0,
        0,
        0,
        0,
        0,
        0,
        0,
        0,
        0,
        0,
        0,
        0,
        0,
        0,
        0,
        0,
        0,
        0,
        0,
        0,
        0,
        0,
        0,
        0,
        0,
        0,
        0,
        0,
        0,
        0,
        0,
        0,
        0,
        0,
        0,
        0,
        0,
        0,
        0,
        0,
        0,
        0,
        0,
        0,
        0,
        0,
        0,
        0,
        0,
        0,
        0,
        0,
        0,
        0,
        0,
        0,
        0,
        0,
        0,
        0,
        1,
        1,
        1,
        1,
        1,
        1,
        1,
        1,
        1,
        1,
        1,
        1,
        1,
        1,
        1,
        1,
        1,
        1,
        1,
        1,
        1,
        1,
        1,
        1,
        1,
        1,
        1,
        1,
        1,
        1,
        1,
        1,
        1,
        1,
        1,
        1,
        1,
        1,
        1,
        1,
        1,
        1,
        1,
        1,
        1,
        1,
        1,
        1,
        1,
        1,
        1,
        1,
        1,
        1,
        1,
        1,
        1,
        1,
        1,
        1,
        1,
        1,
        1,
        1,
        1,
        1,
        1,
        1,
        1,
        1,
        1,
        1,
        1,
        1,
        1,
        1,
        1,
        1,
        1,
        1,
        1,
        1,
        1
       ]
      }
     },
     "metadata": {},
     "output_type": "display_data"
    },
    {
     "data": {
      "application/papermill.record+json": {
       "validation_probabilities": [
        0.2554187476634979,
        0.34214091300964355,
        0.5103724598884583,
        0.27056270837783813,
        0.3251120448112488,
        0.2709501385688782,
        0.23347502946853638,
        0.2692981958389282,
        0.5559366941452026,
        0.25729191303253174,
        0.35676687955856323,
        0.6994315981864929,
        0.8090070486068726,
        0.2331967055797577,
        0.3038023114204407,
        0.4954494535923004,
        0.22421768307685852,
        0.49103233218193054,
        0.23419338464736938,
        0.6905651688575745,
        0.5119670629501343,
        0.791694164276123,
        0.3689313530921936,
        0.3496290445327759,
        0.35966014862060547,
        0.4166380763053894,
        0.297654390335083,
        0.30868953466415405,
        0.38915547728538513,
        0.33410102128982544,
        0.26994788646698,
        0.24206781387329102,
        0.4132089912891388,
        0.33596092462539673,
        0.27838611602783203,
        0.30939796566963196,
        0.6697819828987122,
        0.21571582555770874,
        0.5177043676376343,
        0.6358250975608826,
        0.29184606671333313,
        0.24876335263252258,
        0.40592265129089355,
        0.48981088399887085,
        0.4815235137939453,
        0.6020697355270386,
        0.2185858190059662,
        0.4158850908279419,
        0.227512389421463,
        0.5838426351547241,
        0.227338969707489,
        0.34285154938697815,
        0.35080641508102417,
        0.6840835213661194,
        0.503455638885498,
        0.33469945192337036,
        0.5130085349082947,
        0.537134051322937,
        0.5256223678588867,
        0.2805424928665161,
        0.40006619691848755,
        0.2071850597858429,
        0.4909578263759613,
        0.6246317028999329,
        0.47376948595046997,
        0.6436497569084167,
        0.3829974830150604,
        0.38167357444763184,
        0.7315661311149597,
        0.46116873621940613,
        0.3000369668006897,
        0.22698664665222168,
        0.4343966245651245,
        0.37275993824005127,
        0.6877482533454895,
        0.6680154800415039,
        0.3801969885826111,
        0.625010073184967,
        0.33029279112815857,
        0.32483017444610596,
        0.33200371265411377,
        0.6995803117752075,
        0.3617972731590271,
        0.26480764150619507,
        0.7259690761566162,
        0.39019066095352173,
        0.2979186177253723,
        0.3223983645439148,
        0.3749752342700958,
        0.2681906819343567,
        0.41353121399879456,
        0.647003710269928,
        0.6568096876144409,
        0.30824393033981323,
        0.2515714764595032,
        0.26049110293388367,
        0.6977981328964233,
        0.7967464923858643,
        0.4263875186443329,
        0.41155707836151123,
        0.42459943890571594,
        0.6957595348358154,
        0.4894635081291199,
        0.6826926469802856,
        0.631280243396759,
        0.747410237789154,
        0.8253825306892395,
        0.6350031495094299,
        0.6807593703269958,
        0.7289810180664062,
        0.4943005442619324,
        0.7687947750091553,
        0.6943210363388062,
        0.47261831164360046,
        0.6903649568557739,
        0.7095353603363037,
        0.7083404064178467,
        0.5420526266098022,
        0.5688194036483765,
        0.8265353441238403,
        0.7182230949401855,
        0.7037084102630615,
        0.667990505695343,
        0.6066185235977173,
        0.7214683294296265,
        0.7700883150100708,
        0.7197467684745789,
        0.5064622163772583,
        0.7234843373298645,
        0.48986539244651794,
        0.38637036085128784,
        0.7192317247390747,
        0.34742629528045654,
        0.6652778387069702,
        0.7317999005317688,
        0.6855011582374573,
        0.8219021558761597,
        0.2535243034362793,
        0.7005825638771057,
        0.7666151523590088,
        0.6657199859619141,
        0.6914045214653015,
        0.3760565519332886,
        0.684132993221283,
        0.7287933230400085,
        0.3498305082321167,
        0.6655204892158508,
        0.4627285897731781,
        0.3095844089984894,
        0.6665312647819519,
        0.5281045436859131,
        0.6930230855941772,
        0.8008301258087158,
        0.6974826455116272,
        0.6667129993438721,
        0.7239876985549927,
        0.513209342956543,
        0.3101412057876587,
        0.5425592660903931,
        0.42199939489364624,
        0.7421315908432007,
        0.6655398011207581,
        0.7292824387550354,
        0.4986886978149414,
        0.4138083755970001,
        0.5557025074958801,
        0.6754238605499268,
        0.6847714185714722,
        0.7102617025375366,
        0.7298535108566284,
        0.6799476146697998,
        0.6553319692611694,
        0.5788012742996216,
        0.6870542764663696,
        0.5205597877502441,
        0.5603116154670715,
        0.6979618072509766,
        0.6822503805160522,
        0.6850622892379761,
        0.7024691104888916,
        0.7048060894012451,
        0.6915739178657532,
        0.5642369389533997,
        0.7195131778717041,
        0.4176575243473053,
        0.28590127825737,
        0.7330639958381653
       ]
      }
     },
     "metadata": {},
     "output_type": "display_data"
    },
    {
     "data": {
      "application/papermill.record+json": {
       "validation_predictions": [
        0,
        0,
        1,
        0,
        0,
        0,
        0,
        0,
        1,
        0,
        0,
        1,
        1,
        0,
        0,
        0,
        0,
        0,
        0,
        1,
        1,
        1,
        0,
        0,
        0,
        0,
        0,
        0,
        0,
        0,
        0,
        0,
        0,
        0,
        0,
        0,
        1,
        0,
        1,
        1,
        0,
        0,
        0,
        0,
        0,
        1,
        0,
        0,
        0,
        1,
        0,
        0,
        0,
        1,
        1,
        0,
        1,
        1,
        1,
        0,
        0,
        0,
        0,
        1,
        0,
        1,
        0,
        0,
        1,
        0,
        0,
        0,
        0,
        0,
        1,
        1,
        0,
        1,
        0,
        0,
        0,
        1,
        0,
        0,
        1,
        0,
        0,
        0,
        0,
        0,
        0,
        1,
        1,
        0,
        0,
        0,
        1,
        1,
        0,
        0,
        0,
        1,
        0,
        1,
        1,
        1,
        1,
        1,
        1,
        1,
        0,
        1,
        1,
        0,
        1,
        1,
        1,
        1,
        1,
        1,
        1,
        1,
        1,
        1,
        1,
        1,
        1,
        1,
        1,
        0,
        0,
        1,
        0,
        1,
        1,
        1,
        1,
        0,
        1,
        1,
        1,
        1,
        0,
        1,
        1,
        0,
        1,
        0,
        0,
        1,
        1,
        1,
        1,
        1,
        1,
        1,
        1,
        0,
        1,
        0,
        1,
        1,
        1,
        0,
        0,
        1,
        1,
        1,
        1,
        1,
        1,
        1,
        1,
        1,
        1,
        1,
        1,
        1,
        1,
        1,
        1,
        1,
        1,
        1,
        0,
        0,
        1
       ]
      }
     },
     "metadata": {},
     "output_type": "display_data"
    }
   ],
   "source": [
    "probabilities = transform_binary_probabilities(results)\n",
    "predictions = transform_binary_predictions(results)\n",
    "labels = get_labels(validation)\n",
    "pm.record(\"validation_labels\", list(labels))\n",
    "pm.record(\"validation_probabilities\", list(probabilities))\n",
    "pm.record(\"validation_predictions\", list(predictions))"
   ]
  },
  {
   "cell_type": "markdown",
   "metadata": {
    "papermill": {
     "duration": null,
     "end_time": null,
     "exception": null,
     "start_time": null,
     "status": "pending"
    },
    "tags": []
   },
   "source": [
    "## Validation statistics"
   ]
  },
  {
   "cell_type": "code",
   "execution_count": 17,
   "metadata": {
    "papermill": {
     "duration": null,
     "end_time": null,
     "exception": null,
     "start_time": null,
     "status": "pending"
    },
    "tags": []
   },
   "outputs": [
    {
     "name": "stdout",
     "output_type": "stream",
     "text": [
      "Accuracy: 0.7486631274223328\n",
      "Loss: 29.3419132232666\n"
     ]
    },
    {
     "data": {
      "text/html": [
       "<div>\n",
       "<style scoped>\n",
       "    .dataframe tbody tr th:only-of-type {\n",
       "        vertical-align: middle;\n",
       "    }\n",
       "\n",
       "    .dataframe tbody tr th {\n",
       "        vertical-align: top;\n",
       "    }\n",
       "\n",
       "    .dataframe thead th {\n",
       "        text-align: right;\n",
       "    }\n",
       "</style>\n",
       "<table border=\"1\" class=\"dataframe\">\n",
       "  <thead>\n",
       "    <tr style=\"text-align: right;\">\n",
       "      <th></th>\n",
       "      <th>Acc</th>\n",
       "      <th>TP</th>\n",
       "      <th>TN</th>\n",
       "      <th>FP</th>\n",
       "      <th>FN</th>\n",
       "      <th>TPR</th>\n",
       "      <th>TNR</th>\n",
       "      <th>PPV</th>\n",
       "      <th>NPV</th>\n",
       "      <th>FPR</th>\n",
       "      <th>FNR</th>\n",
       "      <th>FDR</th>\n",
       "      <th>AM</th>\n",
       "      <th>GM</th>\n",
       "    </tr>\n",
       "  </thead>\n",
       "  <tbody>\n",
       "    <tr>\n",
       "      <th>0.000</th>\n",
       "      <td>0.749</td>\n",
       "      <td>73</td>\n",
       "      <td>67</td>\n",
       "      <td>16</td>\n",
       "      <td>31</td>\n",
       "      <td>0.702</td>\n",
       "      <td>0.807</td>\n",
       "      <td>0.820</td>\n",
       "      <td>0.684</td>\n",
       "      <td>0.193</td>\n",
       "      <td>0.298</td>\n",
       "      <td>0.180</td>\n",
       "      <td>0.755</td>\n",
       "      <td>0.753</td>\n",
       "    </tr>\n",
       "    <tr>\n",
       "      <th>1.000</th>\n",
       "      <td>0.749</td>\n",
       "      <td>67</td>\n",
       "      <td>73</td>\n",
       "      <td>31</td>\n",
       "      <td>16</td>\n",
       "      <td>0.807</td>\n",
       "      <td>0.702</td>\n",
       "      <td>0.684</td>\n",
       "      <td>0.820</td>\n",
       "      <td>0.298</td>\n",
       "      <td>0.193</td>\n",
       "      <td>0.316</td>\n",
       "      <td>0.755</td>\n",
       "      <td>0.753</td>\n",
       "    </tr>\n",
       "  </tbody>\n",
       "</table>\n",
       "</div>"
      ],
      "text/plain": [
       "        Acc  TP  TN  FP  FN   TPR   TNR   PPV   NPV   FPR   FNR   FDR    AM  \\\n",
       "0.000 0.749  73  67  16  31 0.702 0.807 0.820 0.684 0.193 0.298 0.180 0.755   \n",
       "1.000 0.749  67  73  31  16 0.807 0.702 0.684 0.820 0.298 0.193 0.316 0.755   \n",
       "\n",
       "         GM  \n",
       "0.000 0.753  \n",
       "1.000 0.753  "
      ]
     },
     "execution_count": 17,
     "metadata": {},
     "output_type": "execute_result"
    }
   ],
   "source": [
    "loss, accuracy = calculate_accuracy_loss(model, validation)\n",
    "print(\"Accuracy:\", accuracy)\n",
    "print(\"Loss:\", loss)\n",
    "stats = calculate_confusion_matrix_stats(labels, results)\n",
    "pandas.DataFrame(stats, index=validation.class_indices)"
   ]
  },
  {
   "cell_type": "markdown",
   "metadata": {
    "papermill": {
     "duration": null,
     "end_time": null,
     "exception": null,
     "start_time": null,
     "status": "pending"
    },
    "tags": []
   },
   "source": [
    "## Validation confusion matrix"
   ]
  },
  {
   "cell_type": "code",
   "execution_count": null,
   "metadata": {
    "papermill": {
     "duration": null,
     "end_time": null,
     "exception": null,
     "start_time": null,
     "status": "pending"
    },
    "tags": []
   },
   "outputs": [],
   "source": [
    "fig = plot_confusion_matrix(validation, results)\n",
    "fig.savefig(\"figures/{}-{}-validation-confusion-matrix.svg\".format(result.uuid, result.input_form), bbox_inches = \"tight\")"
   ]
  },
  {
   "cell_type": "markdown",
   "metadata": {
    "papermill": {
     "duration": null,
     "end_time": null,
     "exception": null,
     "start_time": null,
     "status": "pending"
    },
    "tags": []
   },
   "source": [
    "## Validation ROC curve"
   ]
  },
  {
   "cell_type": "code",
   "execution_count": null,
   "metadata": {
    "papermill": {
     "duration": null,
     "end_time": null,
     "exception": null,
     "start_time": null,
     "status": "pending"
    },
    "scrolled": true,
    "tags": []
   },
   "outputs": [],
   "source": [
    "fig = plot_roc_curve(labels, probabilities)\n",
    "fig.savefig(\"figures/{}-{}-validation-ROC-curve.svg\".format(result.uuid, result.input_form), bbox_inches = \"tight\")"
   ]
  },
  {
   "cell_type": "markdown",
   "metadata": {
    "papermill": {
     "duration": null,
     "end_time": null,
     "exception": null,
     "start_time": null,
     "status": "pending"
    },
    "tags": []
   },
   "source": [
    "## Validation precision-recall curve"
   ]
  },
  {
   "cell_type": "code",
   "execution_count": null,
   "metadata": {
    "papermill": {
     "duration": null,
     "end_time": null,
     "exception": null,
     "start_time": null,
     "status": "pending"
    },
    "tags": []
   },
   "outputs": [],
   "source": [
    "fig = plot_precision_recall(labels, results)\n",
    "fig.savefig(\"figures/{}-{}-validation-precisionrecall-curve.svg\".format(result.uuid, result.input_form), bbox_inches = \"tight\")"
   ]
  },
  {
   "cell_type": "markdown",
   "metadata": {
    "papermill": {
     "duration": null,
     "end_time": null,
     "exception": null,
     "start_time": null,
     "status": "pending"
    },
    "tags": []
   },
   "source": [
    "# Test"
   ]
  },
  {
   "cell_type": "code",
   "execution_count": 18,
   "metadata": {
    "papermill": {
     "duration": null,
     "end_time": null,
     "exception": null,
     "start_time": null,
     "status": "pending"
    },
    "tags": []
   },
   "outputs": [],
   "source": [
    "results = get_results(model, test)"
   ]
  },
  {
   "cell_type": "code",
   "execution_count": 19,
   "metadata": {
    "papermill": {
     "duration": null,
     "end_time": null,
     "exception": null,
     "start_time": null,
     "status": "pending"
    },
    "scrolled": false,
    "tags": []
   },
   "outputs": [
    {
     "data": {
      "application/papermill.record+json": {
       "test_labels": [
        0,
        0,
        0,
        0,
        0,
        0,
        0,
        0,
        0,
        0,
        0,
        0,
        0,
        0,
        0,
        0,
        0,
        0,
        0,
        0,
        0,
        0,
        0,
        0,
        0,
        0,
        0,
        0,
        0,
        0,
        0,
        0,
        0,
        0,
        0,
        0,
        0,
        0,
        0,
        0,
        0,
        0,
        0,
        0,
        0,
        0,
        0,
        0,
        0,
        0,
        0,
        0,
        0,
        0,
        1,
        1,
        1,
        1,
        1,
        1,
        1,
        1,
        1,
        1,
        1,
        1,
        1,
        1,
        1,
        1,
        1,
        1,
        1,
        1,
        1,
        1,
        1,
        1,
        1,
        1,
        1,
        1,
        1,
        1,
        1,
        1,
        1,
        1,
        1,
        1,
        1,
        1,
        1,
        1,
        1,
        1,
        1,
        1,
        1,
        1
       ]
      }
     },
     "metadata": {},
     "output_type": "display_data"
    },
    {
     "data": {
      "application/papermill.record+json": {
       "test_probabilities": [
        0.4653305113315582,
        0.33183377981185913,
        0.6969903111457825,
        0.27367863059043884,
        0.39909249544143677,
        0.7284677028656006,
        0.6482232213020325,
        0.5690383911132812,
        0.414076030254364,
        0.3577822744846344,
        0.38856253027915955,
        0.31354475021362305,
        0.4287421405315399,
        0.5739756226539612,
        0.2937580347061157,
        0.5597311854362488,
        0.3163943886756897,
        0.6928683519363403,
        0.7031593918800354,
        0.3296743631362915,
        0.3887341618537903,
        0.3843788206577301,
        0.3866198658943176,
        0.23027467727661133,
        0.35221025347709656,
        0.5520228743553162,
        0.3710487484931946,
        0.447171151638031,
        0.35668203234672546,
        0.8274797201156616,
        0.29729634523391724,
        0.22220855951309204,
        0.2518082857131958,
        0.37458598613739014,
        0.6021908521652222,
        0.5486663579940796,
        0.5200142860412598,
        0.3829813599586487,
        0.3202284574508667,
        0.5766957998275757,
        0.4327637255191803,
        0.632953941822052,
        0.33630943298339844,
        0.3364272117614746,
        0.4796244204044342,
        0.7954044342041016,
        0.3694620728492737,
        0.2215857207775116,
        0.3039476275444031,
        0.3113628029823303,
        0.22596484422683716,
        0.3320360779762268,
        0.28839537501335144,
        0.6809902191162109,
        0.6462111473083496,
        0.7082542181015015,
        0.6063769459724426,
        0.4517475664615631,
        0.7322989702224731,
        0.5561699867248535,
        0.5302883982658386,
        0.730135977268219,
        0.7158323526382446,
        0.6135172247886658,
        0.3601534962654114,
        0.5867031812667847,
        0.7791401743888855,
        0.7199154496192932,
        0.6714205741882324,
        0.7482451796531677,
        0.6313608884811401,
        0.5630543828010559,
        0.7151680588722229,
        0.7039861679077148,
        0.6669247150421143,
        0.4619635343551636,
        0.6526458263397217,
        0.7298502326011658,
        0.673635721206665,
        0.6999247074127197,
        0.6396549344062805,
        0.7849317789077759,
        0.2817046046257019,
        0.6103853583335876,
        0.38027891516685486,
        0.7129855155944824,
        0.740877628326416,
        0.7112040519714355,
        0.7024893760681152,
        0.8214259147644043,
        0.6033403873443604,
        0.51624995470047,
        0.5849081873893738,
        0.5658955574035645,
        0.6626862287521362,
        0.6774959564208984,
        0.7240226864814758,
        0.4777544140815735,
        0.591421365737915,
        0.6560282111167908
       ]
      }
     },
     "metadata": {},
     "output_type": "display_data"
    },
    {
     "data": {
      "application/papermill.record+json": {
       "test_predictions": [
        0,
        0,
        1,
        0,
        0,
        1,
        1,
        1,
        0,
        0,
        0,
        0,
        0,
        1,
        0,
        1,
        0,
        1,
        1,
        0,
        0,
        0,
        0,
        0,
        0,
        1,
        0,
        0,
        0,
        1,
        0,
        0,
        0,
        0,
        1,
        1,
        1,
        0,
        0,
        1,
        0,
        1,
        0,
        0,
        0,
        1,
        0,
        0,
        0,
        0,
        0,
        0,
        0,
        1,
        1,
        1,
        1,
        0,
        1,
        1,
        1,
        1,
        1,
        1,
        0,
        1,
        1,
        1,
        1,
        1,
        1,
        1,
        1,
        1,
        1,
        0,
        1,
        1,
        1,
        1,
        1,
        1,
        0,
        1,
        0,
        1,
        1,
        1,
        1,
        1,
        1,
        1,
        1,
        1,
        1,
        1,
        1,
        0,
        1,
        1
       ]
      }
     },
     "metadata": {},
     "output_type": "display_data"
    }
   ],
   "source": [
    "probabilities = transform_binary_probabilities(results)\n",
    "predictions = transform_binary_predictions(results)\n",
    "labels = get_labels(test)\n",
    "names = test.names\n",
    "test_results = [['PatientID','True label','Predicted label','Probability']]\n",
    "index = 0\n",
    "for name in names:\n",
    "    test_results.append([name, labels[index], predictions[index], probabilities[index]])\n",
    "    index += 1\n",
    "df = pandas.DataFrame(test_results)\n",
    "df.to_csv(\"output/test_results/{}-{}.csv\".format(UUID, result.model), header=False, index=False)\n",
    "pm.record(\"test_labels\", list(labels))\n",
    "pm.record(\"test_probabilities\", list(probabilities))\n",
    "pm.record(\"test_predictions\", list(predictions))"
   ]
  },
  {
   "cell_type": "markdown",
   "metadata": {
    "papermill": {
     "duration": null,
     "end_time": null,
     "exception": null,
     "start_time": null,
     "status": "pending"
    },
    "tags": []
   },
   "source": [
    "## Test statistics"
   ]
  },
  {
   "cell_type": "code",
   "execution_count": 21,
   "metadata": {
    "papermill": {
     "duration": null,
     "end_time": null,
     "exception": null,
     "start_time": null,
     "status": "pending"
    },
    "tags": []
   },
   "outputs": [
    {
     "name": "stdout",
     "output_type": "stream",
     "text": [
      "Accuracy: 0.7699999809265137\n",
      "Loss: 29.34135627746582\n"
     ]
    },
    {
     "data": {
      "text/html": [
       "<div>\n",
       "<style scoped>\n",
       "    .dataframe tbody tr th:only-of-type {\n",
       "        vertical-align: middle;\n",
       "    }\n",
       "\n",
       "    .dataframe tbody tr th {\n",
       "        vertical-align: top;\n",
       "    }\n",
       "\n",
       "    .dataframe thead th {\n",
       "        text-align: right;\n",
       "    }\n",
       "</style>\n",
       "<table border=\"1\" class=\"dataframe\">\n",
       "  <thead>\n",
       "    <tr style=\"text-align: right;\">\n",
       "      <th></th>\n",
       "      <th>Acc</th>\n",
       "      <th>TP</th>\n",
       "      <th>TN</th>\n",
       "      <th>FP</th>\n",
       "      <th>FN</th>\n",
       "      <th>TPR</th>\n",
       "      <th>TNR</th>\n",
       "      <th>PPV</th>\n",
       "      <th>NPV</th>\n",
       "      <th>FPR</th>\n",
       "      <th>FNR</th>\n",
       "      <th>FDR</th>\n",
       "      <th>AM</th>\n",
       "      <th>GM</th>\n",
       "    </tr>\n",
       "  </thead>\n",
       "  <tbody>\n",
       "    <tr>\n",
       "      <th>0.000</th>\n",
       "      <td>0.770</td>\n",
       "      <td>37</td>\n",
       "      <td>40</td>\n",
       "      <td>6</td>\n",
       "      <td>17</td>\n",
       "      <td>0.685</td>\n",
       "      <td>0.870</td>\n",
       "      <td>0.860</td>\n",
       "      <td>0.702</td>\n",
       "      <td>0.130</td>\n",
       "      <td>0.315</td>\n",
       "      <td>0.140</td>\n",
       "      <td>0.777</td>\n",
       "      <td>0.772</td>\n",
       "    </tr>\n",
       "    <tr>\n",
       "      <th>1.000</th>\n",
       "      <td>0.770</td>\n",
       "      <td>40</td>\n",
       "      <td>37</td>\n",
       "      <td>17</td>\n",
       "      <td>6</td>\n",
       "      <td>0.870</td>\n",
       "      <td>0.685</td>\n",
       "      <td>0.702</td>\n",
       "      <td>0.860</td>\n",
       "      <td>0.315</td>\n",
       "      <td>0.130</td>\n",
       "      <td>0.298</td>\n",
       "      <td>0.777</td>\n",
       "      <td>0.772</td>\n",
       "    </tr>\n",
       "  </tbody>\n",
       "</table>\n",
       "</div>"
      ],
      "text/plain": [
       "        Acc  TP  TN  FP  FN   TPR   TNR   PPV   NPV   FPR   FNR   FDR    AM  \\\n",
       "0.000 0.770  37  40   6  17 0.685 0.870 0.860 0.702 0.130 0.315 0.140 0.777   \n",
       "1.000 0.770  40  37  17   6 0.870 0.685 0.702 0.860 0.315 0.130 0.298 0.777   \n",
       "\n",
       "         GM  \n",
       "0.000 0.772  \n",
       "1.000 0.772  "
      ]
     },
     "execution_count": 21,
     "metadata": {},
     "output_type": "execute_result"
    }
   ],
   "source": [
    "loss, accuracy = calculate_accuracy_loss(model, test)\n",
    "print(\"Accuracy:\", accuracy)\n",
    "print(\"Loss:\", loss)\n",
    "stats = calculate_confusion_matrix_stats(labels, results)\n",
    "pandas.DataFrame(stats, index=validation.class_indices)"
   ]
  },
  {
   "cell_type": "markdown",
   "metadata": {
    "papermill": {
     "duration": null,
     "end_time": null,
     "exception": null,
     "start_time": null,
     "status": "pending"
    },
    "tags": []
   },
   "source": [
    "## Test confusion matrix"
   ]
  },
  {
   "cell_type": "code",
   "execution_count": null,
   "metadata": {
    "papermill": {
     "duration": null,
     "end_time": null,
     "exception": null,
     "start_time": null,
     "status": "pending"
    },
    "scrolled": true,
    "tags": []
   },
   "outputs": [],
   "source": [
    "fig = plot_confusion_matrix(test, results)\n",
    "fig.savefig(\"figures/{}-{}-test-confusion-matrix.svg\".format(result.uuid, result.input_form), bbox_inches = \"tight\")"
   ]
  },
  {
   "cell_type": "markdown",
   "metadata": {
    "papermill": {
     "duration": null,
     "end_time": null,
     "exception": null,
     "start_time": null,
     "status": "pending"
    },
    "tags": []
   },
   "source": [
    "## Test ROC curve"
   ]
  },
  {
   "cell_type": "code",
   "execution_count": 22,
   "metadata": {
    "papermill": {
     "duration": null,
     "end_time": null,
     "exception": null,
     "start_time": null,
     "status": "pending"
    },
    "tags": []
   },
   "outputs": [
    {
     "data": {
      "image/png": "[encoded data removed]",
      "text/plain": [
       "<Figure size 432x288 with 1 Axes>"
      ]
     },
     "metadata": {},
     "output_type": "display_data"
    }
   ],
   "source": [
    "fig = plot_roc_curve(labels, probabilities)\n",
    "fig.savefig(\"figures/{}-{}-test-ROC-curve.svg\".format(result.uuid, result.input_form), bbox_inches = \"tight\")"
   ]
  },
  {
   "cell_type": "markdown",
   "metadata": {
    "papermill": {
     "duration": null,
     "end_time": null,
     "exception": null,
     "start_time": null,
     "status": "pending"
    },
    "tags": []
   },
   "source": [
    "## Test precision-recall curve"
   ]
  },
  {
   "cell_type": "code",
   "execution_count": null,
   "metadata": {
    "papermill": {
     "duration": null,
     "end_time": null,
     "exception": null,
     "start_time": null,
     "status": "pending"
    },
    "tags": []
   },
   "outputs": [],
   "source": [
    "fig = plot_precision_recall(labels, results)\n",
    "fig.savefig(\"figures/{}-{}-test-precisionrecall-curve.svg\".format(result.uuid, result.input_form), bbox_inches = \"tight\")"
   ]
  },
  {
   "cell_type": "code",
   "execution_count": null,
   "metadata": {
    "collapsed": true,
    "papermill": {
     "duration": null,
     "end_time": null,
     "exception": null,
     "start_time": null,
     "status": "pending"
    },
    "tags": []
   },
   "outputs": [],
   "source": [
    "import json\n",
    "hyperparameters = json.loads(result.hyperparameters)\n",
    "deep_top = hyperparameters[\"deep-dense-top\"]\n",
    "grad_cam_layer = \"dense_3\"\n",
    "if deep_top: \n",
    "    grad_cam_layer = \"dense_6\""
   ]
  },
  {
   "cell_type": "markdown",
   "metadata": {
    "papermill": {
     "duration": null,
     "end_time": null,
     "exception": null,
     "start_time": null,
     "status": "pending"
    },
    "tags": []
   },
   "source": [
    "# TSNE"
   ]
  },
  {
   "cell_type": "code",
   "execution_count": null,
   "metadata": {
    "papermill": {
     "duration": null,
     "end_time": null,
     "exception": null,
     "start_time": null,
     "status": "pending"
    },
    "tags": []
   },
   "outputs": [],
   "source": [
    "if result.input_form != \"features\": \n",
    "    layer = \"dense_1\"\n",
    "    if deep_top: \n",
    "        layer = \"dense_3\"\n",
    "    tsne_dataset = train\n",
    "    tsne_dataset.reset()\n",
    "    fieldnames = [\"histographic interpretation\"]\n",
    "    tsne_results = [\"malignant\" if i else \"benign\" for i in transform_binary_predictions(get_results(model, tsne_dataset))]\n",
    "    figs = plot_tsne(\n",
    "        model, \n",
    "        layer, \n",
    "        tsne_dataset, \n",
    "        [tsne_results, tsne_dataset.labels], \n",
    "        fieldnames=[\"model output\", *fieldnames], \n",
    "        perplexity=TSNE_PERPLEXITY,\n",
    "    )\n",
    "    for i, field in enumerate([\"model output\", *fieldnames]): \n",
    "        figs[i].savefig(\"figures/{}-{}-{}-tsne.svg\".format(result.description, result.input_form, field.replace(\" \", \"-\")), bbox_inches = \"tight\")\n",
    "    tsne_dataset.reset()"
   ]
  },
  {
   "cell_type": "markdown",
   "metadata": {
    "papermill": {
     "duration": null,
     "end_time": null,
     "exception": null,
     "start_time": null,
     "status": "pending"
    },
    "tags": []
   },
   "source": [
    "# Grad Cam"
   ]
  },
  {
   "cell_type": "code",
   "execution_count": null,
   "metadata": {
    "collapsed": true,
    "papermill": {
     "duration": null,
     "end_time": null,
     "exception": null,
     "start_time": null,
     "status": "pending"
    },
    "tags": []
   },
   "outputs": [],
   "source": [
    "def show_grad_cam_images(images, labels, predictions, names=None, penultimate_layer=\"res5c_branch2c\", layer=\"dense_3\", columns=2, include_label=True):\n",
    "    filter_idx = [0]\n",
    "    grad_modifier = None\n",
    "    backprop_modifier = None\n",
    "    penultimate_layer_idx = None\n",
    "    if penultimate_layer:\n",
    "        penultimate_layer_idx = find_layer_idx(model, penultimate_layer)    \n",
    "    rows = int(math.ceil(len(images) * 2/columns))\n",
    "    f, ax = plt.subplots(rows, columns, figsize=(5.5, 3 * rows))    \n",
    "    ax = ax.flatten()\n",
    "    for i, image in enumerate(images): \n",
    "        grad = visualize_cam(\n",
    "            model,\n",
    "            find_layer_idx(model, layer),\n",
    "            filter_idx,\n",
    "            normalize(image),\n",
    "            penultimate_layer_idx=penultimate_layer_idx,\n",
    "            backprop_modifier=backprop_modifier,\n",
    "            grad_modifier=grad_modifier)\n",
    "        if names is not None: \n",
    "            ax[2*i].set_title(\"{}\".format(names[i]))\n",
    "        ax[2*i].imshow(image)\n",
    "        ax[2*i].axis('off')\n",
    "        if include_label: \n",
    "            ax[2*i+1].set_title(\"label/pred: {}/{}\".format(labels[i], predictions[i]))\n",
    "        ax[2*i+1].imshow(overlay(grad, image))\n",
    "        ax[2*i+1].axis('off')\n",
    "    return f, ax"
   ]
  },
  {
   "cell_type": "code",
   "execution_count": null,
   "metadata": {
    "collapsed": true,
    "papermill": {
     "duration": null,
     "end_time": null,
     "exception": null,
     "start_time": null,
     "status": "pending"
    },
    "tags": []
   },
   "outputs": [],
   "source": [
    "from IPython.display import HTML\n",
    "HTML('''<script>\n",
    "code_show=true; \n",
    "function code_toggle() {\n",
    " if (code_show){\n",
    " $('div.input').hide();\n",
    " } else {\n",
    " $('div.input').show();\n",
    " }\n",
    " code_show = !code_show\n",
    "} \n",
    "$( document ).ready(code_toggle);\n",
    "</script>\n",
    "The raw code for this IPython notebook is by default hidden for easier reading.\n",
    "To toggle on/off the raw code, click <a href=\"javascript:code_toggle()\">here</a>.''')"
   ]
  },
  {
   "cell_type": "code",
   "execution_count": null,
   "metadata": {
    "collapsed": true,
    "papermill": {
     "duration": null,
     "end_time": null,
     "exception": null,
     "start_time": null,
     "status": "pending"
    },
    "tags": []
   },
   "outputs": [],
   "source": []
  },
  {
   "cell_type": "code",
   "execution_count": null,
   "metadata": {
    "collapsed": true,
    "papermill": {
     "duration": null,
     "end_time": null,
     "exception": null,
     "start_time": null,
     "status": "pending"
    },
    "tags": []
   },
   "outputs": [],
   "source": []
  },
  {
   "cell_type": "code",
   "execution_count": null,
   "metadata": {
    "collapsed": true,
    "papermill": {
     "duration": null,
     "end_time": null,
     "exception": null,
     "start_time": null,
     "status": "pending"
    },
    "tags": []
   },
   "outputs": [],
   "source": []
  },
  {
   "cell_type": "code",
   "execution_count": null,
   "metadata": {
    "collapsed": true,
    "papermill": {
     "duration": null,
     "end_time": null,
     "exception": null,
     "start_time": null,
     "status": "pending"
    },
    "tags": []
   },
   "outputs": [],
   "source": []
  },
  {
   "cell_type": "code",
   "execution_count": null,
   "metadata": {
    "collapsed": true,
    "papermill": {
     "duration": null,
     "end_time": null,
     "exception": null,
     "start_time": null,
     "status": "pending"
    },
    "tags": []
   },
   "outputs": [],
   "source": []
  }
 ],
 "metadata": {
  "kernelspec": {
   "display_name": "Python 3",
   "language": "python",
   "name": "python3"
  },
  "language_info": {
   "codemirror_mode": {
    "name": "ipython",
    "version": 3
   },
   "file_extension": ".py",
   "mimetype": "text/x-python",
   "name": "python",
   "nbconvert_exporter": "python",
   "pygments_lexer": "ipython3",
   "version": "3.6.1"
  },
  "papermill": {
   "environment_variables": {},
   "output_path": "evaluate-abstractrun4_alldata-t2-23c07175-158e-4ae6-957a-92d59edbddc7.ipynb",
   "parameters": {
    "SELECTIONS": "None",
    "TSNE_PERPLEXITY": 10,
    "UUID": "23c07175-158e-4ae6-957a-92d59edbddc7"
   },
   "version": "0.10.1"
  }
 },
 "nbformat": 4,
 "nbformat_minor": 2
}
