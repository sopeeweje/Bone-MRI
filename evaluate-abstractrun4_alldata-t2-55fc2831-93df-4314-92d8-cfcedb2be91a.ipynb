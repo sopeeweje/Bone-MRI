{
 "cells": [
  {
   "cell_type": "markdown",
   "metadata": {},
   "source": [
    "<span style=\"color:red; font-family:Helvetica Neue, Helvetica, Arial, sans-serif; font-size:2em;\">An Exception was encountered at 'In [18]'.</span>"
   ]
  },
  {
   "cell_type": "code",
   "execution_count": 1,
   "metadata": {
    "papermill": {
     "duration": 0.584577,
     "end_time": "2020-04-28T23:46:34.070529",
     "exception": false,
     "start_time": "2020-04-28T23:46:33.485952",
     "status": "completed"
    },
    "tags": []
   },
   "outputs": [],
   "source": [
    "%load_ext autoreload\n",
    "%autoreload 2\n",
    "%matplotlib inline  \n",
    "from IPython.display import HTML"
   ]
  },
  {
   "cell_type": "code",
   "execution_count": 2,
   "metadata": {
    "collapsed": true,
    "papermill": {
     "duration": 4.6545,
     "end_time": "2020-04-28T23:46:38.727059",
     "exception": false,
     "start_time": "2020-04-28T23:46:34.072559",
     "status": "completed"
    },
    "tags": []
   },
   "outputs": [
    {
     "name": "stderr",
     "output_type": "stream",
     "text": [
      "Using TensorFlow backend.\n"
     ]
    },
    {
     "name": "stderr",
     "output_type": "stream",
     "text": [
      "/home/user1/.local/share/virtualenvs/Bone-MRI-iLizu8rs/lib/python3.6/site-packages/tensorflow/python/framework/dtypes.py:516: FutureWarning: Passing (type, 1) or '1type' as a synonym of type is deprecated; in a future version of numpy, it will be understood as (type, (1,)) / '(1,)type'.\n",
      "  _np_qint8 = np.dtype([(\"qint8\", np.int8, 1)])\n",
      "/home/user1/.local/share/virtualenvs/Bone-MRI-iLizu8rs/lib/python3.6/site-packages/tensorflow/python/framework/dtypes.py:517: FutureWarning: Passing (type, 1) or '1type' as a synonym of type is deprecated; in a future version of numpy, it will be understood as (type, (1,)) / '(1,)type'.\n",
      "  _np_quint8 = np.dtype([(\"quint8\", np.uint8, 1)])\n",
      "/home/user1/.local/share/virtualenvs/Bone-MRI-iLizu8rs/lib/python3.6/site-packages/tensorflow/python/framework/dtypes.py:518: FutureWarning: Passing (type, 1) or '1type' as a synonym of type is deprecated; in a future version of numpy, it will be understood as (type, (1,)) / '(1,)type'.\n",
      "  _np_qint16 = np.dtype([(\"qint16\", np.int16, 1)])\n",
      "/home/user1/.local/share/virtualenvs/Bone-MRI-iLizu8rs/lib/python3.6/site-packages/tensorflow/python/framework/dtypes.py:519: FutureWarning: Passing (type, 1) or '1type' as a synonym of type is deprecated; in a future version of numpy, it will be understood as (type, (1,)) / '(1,)type'.\n",
      "  _np_quint16 = np.dtype([(\"quint16\", np.uint16, 1)])\n",
      "/home/user1/.local/share/virtualenvs/Bone-MRI-iLizu8rs/lib/python3.6/site-packages/tensorflow/python/framework/dtypes.py:520: FutureWarning: Passing (type, 1) or '1type' as a synonym of type is deprecated; in a future version of numpy, it will be understood as (type, (1,)) / '(1,)type'.\n",
      "  _np_qint32 = np.dtype([(\"qint32\", np.int32, 1)])\n",
      "/home/user1/.local/share/virtualenvs/Bone-MRI-iLizu8rs/lib/python3.6/site-packages/tensorflow/python/framework/dtypes.py:525: FutureWarning: Passing (type, 1) or '1type' as a synonym of type is deprecated; in a future version of numpy, it will be understood as (type, (1,)) / '(1,)type'.\n",
      "  np_resource = np.dtype([(\"resource\", np.ubyte, 1)])\n"
     ]
    },
    {
     "name": "stderr",
     "output_type": "stream",
     "text": [
      "WARNING:root:Limited tf.compat.v2.summary API due to missing TensorBoard installation.\n"
     ]
    }
   ],
   "source": [
    "from sklearn.metrics import f1_score, roc_auc_score, average_precision_score, precision_score, recall_score\n",
    "import pandas\n",
    "import numpy as np\n",
    "import papermill as pm\n",
    "import json\n",
    "import matplotlib.pyplot as plt\n",
    "import os\n",
    "import uuid\n",
    "from db import Result\n",
    "import ast\n",
    "import math\n",
    "from vis.visualization import visualize_cam, visualize_saliency, overlay\n",
    "from vis.utils.utils import load_img, normalize, find_layer_idx\n",
    "\n",
    "\n",
    "pandas.options.display.float_format = '{:,.3f}'.format"
   ]
  },
  {
   "cell_type": "code",
   "execution_count": 3,
   "metadata": {
    "collapsed": true,
    "papermill": {
     "duration": 0.210837,
     "end_time": "2020-04-28T23:46:38.939799",
     "exception": false,
     "start_time": "2020-04-28T23:46:38.728962",
     "status": "completed"
    },
    "tags": []
   },
   "outputs": [],
   "source": [
    "from evaluate import plot_learning_curve, plot_accuracy_curve, load, get_results, get_labels, transform_binary_probabilities, transform_binary_predictions, calculate_accuracy_loss, plot_confusion_matrix, plot_precision_recall, plot_roc_curve, calculate_pr_auc, calculate_confusion_matrix_stats, calculate_confusion_matrix, plot_tsne, plot_multiple_grad_cam, plot_precision_recall"
   ]
  },
  {
   "cell_type": "code",
   "execution_count": 4,
   "metadata": {
    "collapsed": true,
    "papermill": {
     "duration": 0.081748,
     "end_time": "2020-04-28T23:46:39.023372",
     "exception": false,
     "start_time": "2020-04-28T23:46:38.941624",
     "status": "completed"
    },
    "tags": []
   },
   "outputs": [],
   "source": [
    "from data_gen import data\n",
    "from run import characterize_data\n",
    "from config import config"
   ]
  },
  {
   "cell_type": "code",
   "execution_count": 5,
   "metadata": {
    "papermill": {
     "duration": 0.08021,
     "end_time": "2020-04-28T23:46:39.103793",
     "exception": false,
     "start_time": "2020-04-28T23:46:39.023583",
     "status": "completed"
    },
    "tags": [
     "parameters"
    ]
   },
   "outputs": [],
   "source": [
    "# Parameters\n",
    "UUID = \"55fc2831-93df-4314-92d8-cfcedb2be91a\"\n",
    "SELECTIONS = \"None\"\n",
    "TSNE_PERPLEXITY = 10\n"
   ]
  },
  {
   "cell_type": "code",
   "execution_count": 6,
   "metadata": {
    "collapsed": true,
    "papermill": {
     "duration": 0.073323,
     "end_time": "2020-04-28T23:46:39.179820",
     "exception": false,
     "start_time": "2020-04-28T23:46:39.106497",
     "status": "completed"
    },
    "tags": []
   },
   "outputs": [],
   "source": [
    "SELECTIONS = eval(SELECTIONS)"
   ]
  },
  {
   "cell_type": "markdown",
   "metadata": {
    "papermill": {
     "duration": 3.6e-05,
     "end_time": "2020-04-28T23:46:39.180075",
     "exception": false,
     "start_time": "2020-04-28T23:46:39.180039",
     "status": "completed"
    },
    "tags": []
   },
   "source": [
    "# Learning Curve"
   ]
  },
  {
   "cell_type": "code",
   "execution_count": 7,
   "metadata": {
    "papermill": {
     "duration": 0.441248,
     "end_time": "2020-04-28T23:46:39.669238",
     "exception": false,
     "start_time": "2020-04-28T23:46:39.227990",
     "status": "completed"
    },
    "tags": []
   },
   "outputs": [
    {
     "data": {
      "image/png": "[encoded data removed]",
      "text/plain": [
       "<Figure size 432x288 with 1 Axes>"
      ]
     },
     "metadata": {},
     "output_type": "display_data"
    }
   ],
   "source": [
    "result = Result.query.filter(Result.uuid == UUID).first()\n",
    "fig = plot_learning_curve(result)\n",
    "fig.savefig(\"figures/learning_curves/{}-learning_curve.svg\".format(UUID))"
   ]
  },
  {
   "cell_type": "markdown",
   "metadata": {
    "papermill": {
     "duration": 4.1e-05,
     "end_time": "2020-04-28T23:46:39.671204",
     "exception": false,
     "start_time": "2020-04-28T23:46:39.671163",
     "status": "completed"
    },
    "tags": []
   },
   "source": [
    "# Accuracy Trend"
   ]
  },
  {
   "cell_type": "code",
   "execution_count": 8,
   "metadata": {
    "papermill": {
     "duration": 0.410962,
     "end_time": "2020-04-28T23:46:40.136896",
     "exception": false,
     "start_time": "2020-04-28T23:46:39.725934",
     "status": "completed"
    },
    "tags": []
   },
   "outputs": [
    {
     "data": {
      "image/png": "[encoded data removed]",
      "text/plain": [
       "<Figure size 432x288 with 1 Axes>"
      ]
     },
     "metadata": {},
     "output_type": "display_data"
    }
   ],
   "source": [
    "fig = plot_accuracy_curve(result)\n",
    "fig.savefig(\"figures/accuracy/{}-accuracy.svg\".format(UUID))"
   ]
  },
  {
   "cell_type": "code",
   "execution_count": 9,
   "metadata": {
    "papermill": {
     "duration": 0.074606,
     "end_time": "2020-04-28T23:46:40.213569",
     "exception": false,
     "start_time": "2020-04-28T23:46:40.138963",
     "status": "completed"
    },
    "tags": []
   },
   "outputs": [
    {
     "name": "stdout",
     "output_type": "stream",
     "text": [
      "input form: t2\n"
     ]
    }
   ],
   "source": [
    "print(\"input form:\", result.input_form)"
   ]
  },
  {
   "cell_type": "code",
   "execution_count": 10,
   "metadata": {
    "collapsed": true,
    "papermill": {
     "duration": 0.080117,
     "end_time": "2020-04-28T23:46:40.293938",
     "exception": false,
     "start_time": "2020-04-28T23:46:40.213821",
     "status": "completed"
    },
    "tags": []
   },
   "outputs": [],
   "source": [
    "MODEL = \"{}/models/{}-{}.h5\".format(config.OUTPUT, UUID, result.model)"
   ]
  },
  {
   "cell_type": "code",
   "execution_count": 11,
   "metadata": {
    "papermill": {
     "duration": 97.209326,
     "end_time": "2020-04-28T23:48:17.505145",
     "exception": false,
     "start_time": "2020-04-28T23:46:40.295819",
     "status": "completed"
    },
    "scrolled": false,
    "tags": []
   },
   "outputs": [
    {
     "name": "stderr",
     "output_type": "stream",
     "text": [
      "\r",
      "  0%|          | 0/710 [00:00<?, ?it/s]"
     ]
    },
    {
     "name": "stdout",
     "output_type": "stream",
     "text": [
      "Training points = 710\n",
      "Benign: 193, Intermediate: 187, Malignant: 330\n",
      "\n",
      "Validation points = 200\n",
      "Benign: 54, Intermediate: 52, Malignant: 94\n",
      "\n",
      "Testing points = 101\n",
      "Benign: 25, Intermediate: 29, Malignant: 47\n",
      "bone-china-057\n",
      "Does this patient have T2 available? True\n",
      "I'm doing the thing.\n",
      "bone-penn-459\n",
      "Does this patient have T2 available? True\n",
      "I'm doing the thing.\n"
     ]
    },
    {
     "name": "stderr",
     "output_type": "stream",
     "text": [
      "\r",
      "  0%|          | 2/710 [00:00<01:06, 10.64it/s]"
     ]
    },
    {
     "name": "stderr",
     "output_type": "stream",
     "text": [
      "\r",
      "  1%|          | 4/710 [00:00<01:05, 10.83it/s]"
     ]
    },
    {
     "name": "stdout",
     "output_type": "stream",
     "text": [
      "bone-hup-274\n",
      "Does this patient have T2 available? True\n",
      "I'm doing the thing.\n",
      "bone-china-044\n",
      "Does this patient have T2 available? True\n",
      "I'm doing the thing.\n",
      "bone-penn-502\n",
      "Does this patient have T2 available? True\n",
      "I'm doing the thing.\n"
     ]
    },
    {
     "name": "stderr",
     "output_type": "stream",
     "text": [
      "\r",
      "  1%|          | 5/710 [00:00<02:05,  5.60it/s]"
     ]
    },
    {
     "name": "stdout",
     "output_type": "stream",
     "text": [
      "bone-china-041\n",
      "Does this patient have T2 available? True\n",
      "I'm doing the thing.\n",
      "bone-hup-317\n",
      "Does this patient have T2 available? True\n",
      "I'm doing the thing.\n"
     ]
    },
    {
     "name": "stderr",
     "output_type": "stream",
     "text": [
      "\r",
      "  1%|          | 7/710 [00:00<01:54,  6.16it/s]"
     ]
    },
    {
     "name": "stdout",
     "output_type": "stream",
     "text": [
      "bone-china-079\n",
      "Does this patient have T2 available? True\n",
      "I'm doing the thing.\n",
      "bone-hup-325\n",
      "Does this patient have T2 available? True\n",
      "I'm doing the thing.\n"
     ]
    },
    {
     "name": "stderr",
     "output_type": "stream",
     "text": [
      "\r",
      "  1%|▏         | 9/710 [00:01<01:44,  6.68it/s]"
     ]
    },
    {
     "name": "stderr",
     "output_type": "stream",
     "text": [
      "\r",
      "  1%|▏         | 10/710 [00:01<01:47,  6.49it/s]"
     ]
    },
    {
     "name": "stdout",
     "output_type": "stream",
     "text": [
      "bone-penn-500\n",
      "Does this patient have T2 available? True\n",
      "I'm doing the thing.\n",
      "bone-hup-291\n",
      "Does this patient have T2 available? True\n",
      "I'm doing the thing.\n"
     ]
    },
    {
     "name": "stderr",
     "output_type": "stream",
     "text": [
      "\r",
      "  2%|▏         | 13/710 [00:01<01:26,  8.06it/s]"
     ]
    },
    {
     "name": "stdout",
     "output_type": "stream",
     "text": [
      "bone-china-024\n",
      "Does this patient have T2 available? True\n",
      "T2 image unavailable\n",
      "bone-penn-561\n",
      "Does this patient have T2 available? True\n",
      "I'm doing the thing.\n",
      "bone-china-058\n",
      "Does this patient have T2 available? True\n",
      "I'm doing the thing.\n"
     ]
    },
    {
     "name": "stderr",
     "output_type": "stream",
     "text": [
      "\r",
      "  2%|▏         | 15/710 [00:02<01:47,  6.44it/s]"
     ]
    },
    {
     "name": "stderr",
     "output_type": "stream",
     "text": [
      "\r",
      "  2%|▏         | 16/710 [00:02<01:41,  6.85it/s]"
     ]
    },
    {
     "name": "stdout",
     "output_type": "stream",
     "text": [
      "bone-penn-558\n",
      "Does this patient have T2 available? False\n",
      "T2 image unavailable\n",
      "bone-hup-281\n",
      "Does this patient have T2 available? True\n",
      "I'm doing the thing.\n",
      "bone-china-011\n",
      "Does this patient have T2 available? True\n",
      "T2 image unavailable\n",
      "bone-china-033\n",
      "Does this patient have T2 available? True\n",
      "I'm doing the thing.\n",
      "bone-penn-556\n",
      "Does this patient have T2 available? True\n",
      "I'm doing the thing.\n"
     ]
    },
    {
     "name": "stderr",
     "output_type": "stream",
     "text": [
      "\r",
      "  3%|▎         | 19/710 [00:02<01:22,  8.36it/s]"
     ]
    },
    {
     "name": "stderr",
     "output_type": "stream",
     "text": [
      "\r",
      "  3%|▎         | 22/710 [00:02<01:05, 10.46it/s]"
     ]
    },
    {
     "name": "stdout",
     "output_type": "stream",
     "text": [
      "bone-penn-573\n",
      "Does this patient have T2 available? False\n",
      "T2 image unavailable\n",
      "bone-china-031\n",
      "Does this patient have T2 available? True\n",
      "I'm doing the thing.\n",
      "bone-china-080\n",
      "Does this patient have T2 available? True\n",
      "I'm doing the thing.\n",
      "bone-hup-290\n",
      "Does this patient have T2 available? True\n",
      "I'm doing the thing.\n"
     ]
    },
    {
     "name": "stderr",
     "output_type": "stream",
     "text": [
      "\r",
      "  3%|▎         | 24/710 [00:02<01:10,  9.72it/s]"
     ]
    },
    {
     "name": "stdout",
     "output_type": "stream",
     "text": [
      "bone-penn-154\n",
      "Does this patient have T2 available? True\n",
      "I'm doing the thing.\n",
      "bone-hup-275\n",
      "Does this patient have T2 available? True\n",
      "I'm doing the thing.\n"
     ]
    },
    {
     "name": "stderr",
     "output_type": "stream",
     "text": [
      "\r",
      "  4%|▎         | 26/710 [00:03<01:39,  6.85it/s]"
     ]
    },
    {
     "name": "stdout",
     "output_type": "stream",
     "text": [
      "bone-china-052\n",
      "Does this patient have T2 available? True\n",
      "I'm doing the thing.\n",
      "bone-penn-304\n",
      "Does this patient have T2 available? True\n",
      "I'm doing the thing.\n",
      "bone-hup-296\n",
      "Does this patient have T2 available? True\n",
      "I'm doing the thing.\n"
     ]
    },
    {
     "name": "stderr",
     "output_type": "stream",
     "text": [
      "\r",
      "  4%|▍         | 28/710 [00:03<01:30,  7.50it/s]"
     ]
    },
    {
     "name": "stdout",
     "output_type": "stream",
     "text": [
      "bone-penn-274\n",
      "Does this patient have T2 available? True\n",
      "I'm doing the thing.\n"
     ]
    },
    {
     "name": "stderr",
     "output_type": "stream",
     "text": [
      "\r",
      "  4%|▍         | 30/710 [00:03<01:46,  6.38it/s]"
     ]
    },
    {
     "name": "stderr",
     "output_type": "stream",
     "text": [
      "\r",
      "  5%|▍         | 32/710 [00:03<01:25,  7.94it/s]"
     ]
    },
    {
     "name": "stdout",
     "output_type": "stream",
     "text": [
      "bone-china-078\n",
      "Does this patient have T2 available? True\n",
      "I'm doing the thing.\n",
      "bone-china-029\n",
      "Does this patient have T2 available? True\n",
      "I'm doing the thing.\n",
      "bone-hup-310\n",
      "Does this patient have T2 available? True\n",
      "I'm doing the thing.\n",
      "bone-hup-301\n",
      "Does this patient have T2 available? True\n",
      "I'm doing the thing.\n"
     ]
    },
    {
     "name": "stderr",
     "output_type": "stream",
     "text": [
      "\r",
      "  5%|▍         | 34/710 [00:04<01:14,  9.11it/s]"
     ]
    },
    {
     "name": "stdout",
     "output_type": "stream",
     "text": [
      "bone-china-001\n",
      "Does this patient have T2 available? True\n",
      "I'm doing the thing.\n",
      "bone-penn-612\n",
      "Does this patient have T2 available? True\n",
      "I'm doing the thing.\n"
     ]
    },
    {
     "name": "stderr",
     "output_type": "stream",
     "text": [
      "\r",
      "  5%|▌         | 36/710 [00:04<01:36,  6.97it/s]"
     ]
    },
    {
     "name": "stdout",
     "output_type": "stream",
     "text": [
      "bone-china-023\n",
      "Does this patient have T2 available? True\n",
      "I'm doing the thing.\n",
      "bone-hup-321\n",
      "Does this patient have T2 available? True\n",
      "I'm doing the thing.\n"
     ]
    },
    {
     "name": "stderr",
     "output_type": "stream",
     "text": [
      "\r",
      "  5%|▌         | 37/710 [00:04<01:48,  6.19it/s]"
     ]
    },
    {
     "name": "stderr",
     "output_type": "stream",
     "text": [
      "\r",
      "  5%|▌         | 39/710 [00:04<01:28,  7.58it/s]"
     ]
    },
    {
     "name": "stdout",
     "output_type": "stream",
     "text": [
      "bone-hup-299\n",
      "Does this patient have T2 available? True\n",
      "I'm doing the thing.\n",
      "bone-penn-320\n",
      "Does this patient have T2 available? True\n",
      "I'm doing the thing.\n",
      "bone-china-015\n",
      "Does this patient have T2 available? True\n",
      "I'm doing the thing.\n",
      "bone-hup-328\n",
      "Does this patient have T2 available? True\n",
      "I'm doing the thing.\n"
     ]
    },
    {
     "name": "stderr",
     "output_type": "stream",
     "text": [
      "\r",
      "  6%|▌         | 41/710 [00:05<01:39,  6.73it/s]"
     ]
    },
    {
     "name": "stderr",
     "output_type": "stream",
     "text": [
      "\r",
      "  6%|▌         | 43/710 [00:05<01:20,  8.25it/s]"
     ]
    },
    {
     "name": "stdout",
     "output_type": "stream",
     "text": [
      "bone-penn-328\n",
      "Does this patient have T2 available? True\n",
      "I'm doing the thing.\n",
      "bone-china-036\n",
      "Does this patient have T2 available? True\n",
      "I'm doing the thing.\n",
      "bone-china-008\n",
      "Does this patient have T2 available? True\n",
      "I'm doing the thing.\n",
      "bone-hup-330\n",
      "Does this patient have T2 available? True\n",
      "I'm doing the thing.\n"
     ]
    },
    {
     "name": "stderr",
     "output_type": "stream",
     "text": [
      "\r",
      "  6%|▋         | 45/710 [00:05<01:09,  9.50it/s]"
     ]
    },
    {
     "name": "stderr",
     "output_type": "stream",
     "text": [
      "\r",
      "  7%|▋         | 48/710 [00:05<00:59, 11.18it/s]"
     ]
    },
    {
     "name": "stdout",
     "output_type": "stream",
     "text": [
      "bone-china-059\n",
      "Does this patient have T2 available? True\n",
      "I'm doing the thing.\n",
      "bone-china-006\n",
      "Does this patient have T2 available? True\n",
      "I'm doing the thing.\n",
      "bone-china-083\n",
      "Does this patient have T2 available? True\n",
      "I'm doing the thing.\n",
      "bone-penn-323\n",
      "Does this patient have T2 available? True\n",
      "T2 image unavailable\n",
      "bone-china-055\n",
      "Does this patient have T2 available? True\n",
      "I'm doing the thing.\n"
     ]
    },
    {
     "name": "stderr",
     "output_type": "stream",
     "text": [
      "\r",
      "  7%|▋         | 51/710 [00:05<00:51, 12.86it/s]"
     ]
    },
    {
     "name": "stdout",
     "output_type": "stream",
     "text": [
      "bone-penn-159\n",
      "Does this patient have T2 available? True\n",
      "I'm doing the thing.\n",
      "bone-china-022\n",
      "Does this patient have T2 available? True\n",
      "I'm doing the thing.\n",
      "bone-penn-568\n",
      "Does this patient have T2 available? True\n",
      "I'm doing the thing.\n"
     ]
    },
    {
     "name": "stderr",
     "output_type": "stream",
     "text": [
      "\r",
      "  7%|▋         | 53/710 [00:05<00:52, 12.41it/s]"
     ]
    },
    {
     "name": "stderr",
     "output_type": "stream",
     "text": [
      "\r",
      "  8%|▊         | 57/710 [00:06<00:44, 14.80it/s]"
     ]
    },
    {
     "name": "stdout",
     "output_type": "stream",
     "text": [
      "bone-china-045\n",
      "Does this patient have T2 available? True\n",
      "I'm doing the thing.\n",
      "bone-china-020\n",
      "Does this patient have T2 available? True\n",
      "I'm doing the thing.\n",
      "bone-hup-269\n",
      "Does this patient have T2 available? True\n",
      "T2 image unavailable\n",
      "bone-hup-155\n",
      "Does this patient have T2 available? True\n",
      "I'm doing the thing.\n",
      "bone-penn-476\n",
      "Does this patient have T2 available? True\n",
      "I'm doing the thing.\n",
      "bone-china-039\n",
      "Does this patient have T2 available? True\n",
      "I'm doing the thing.\n"
     ]
    },
    {
     "name": "stderr",
     "output_type": "stream",
     "text": [
      "\r",
      "  8%|▊         | 59/710 [00:06<00:42, 15.34it/s]"
     ]
    },
    {
     "name": "stdout",
     "output_type": "stream",
     "text": [
      "bone-penn-315\n",
      "Does this patient have T2 available? False\n",
      "T2 image unavailable\n",
      "bone-china-089\n",
      "Does this patient have T2 available? True\n",
      "I'm doing the thing.\n",
      "bone-hup-329\n",
      "Does this patient have T2 available? True\n",
      "I'm doing the thing.\n"
     ]
    },
    {
     "name": "stderr",
     "output_type": "stream",
     "text": [
      "\r",
      "  9%|▊         | 62/710 [00:06<00:45, 14.26it/s]"
     ]
    },
    {
     "name": "stdout",
     "output_type": "stream",
     "text": [
      "bone-china-060\n",
      "Does this patient have T2 available? True\n",
      "I'm doing the thing.\n",
      "bone-penn-455\n",
      "Does this patient have T2 available? True\n",
      "I'm doing the thing.\n"
     ]
    },
    {
     "name": "stderr",
     "output_type": "stream",
     "text": [
      "\r",
      "  9%|▉         | 64/710 [00:06<00:54, 11.95it/s]"
     ]
    },
    {
     "name": "stderr",
     "output_type": "stream",
     "text": [
      "\r",
      "  9%|▉         | 67/710 [00:06<00:49, 12.95it/s]"
     ]
    },
    {
     "name": "stdout",
     "output_type": "stream",
     "text": [
      "bone-penn-133\n",
      "Does this patient have T2 available? False\n",
      "T2 image unavailable\n",
      "bone-penn-146\n",
      "Does this patient have T2 available? False\n",
      "T2 image unavailable\n",
      "bone-penn-553\n",
      "Does this patient have T2 available? True\n",
      "I'm doing the thing.\n",
      "bone-penn-549\n",
      "Does this patient have T2 available? True\n",
      "I'm doing the thing.\n"
     ]
    },
    {
     "name": "stderr",
     "output_type": "stream",
     "text": [
      "\r",
      " 10%|▉         | 70/710 [00:07<00:44, 14.38it/s]"
     ]
    },
    {
     "name": "stdout",
     "output_type": "stream",
     "text": [
      "bone-penn-129\n",
      "Does this patient have T2 available? False\n",
      "T2 image unavailable\n",
      "bone-hup-292\n",
      "Does this patient have T2 available? True\n",
      "I'm doing the thing.\n",
      "bone-penn-494\n",
      "Does this patient have T2 available? True\n",
      "I'm doing the thing.\n"
     ]
    },
    {
     "name": "stderr",
     "output_type": "stream",
     "text": [
      "\r",
      " 10%|█         | 72/710 [00:07<01:17,  8.28it/s]"
     ]
    },
    {
     "name": "stdout",
     "output_type": "stream",
     "text": [
      "bone-penn-506\n",
      "Does this patient have T2 available? True\n",
      "I'm doing the thing.\n",
      "bone-china-084\n",
      "Does this patient have T2 available? True\n",
      "I'm doing the thing.\n"
     ]
    },
    {
     "name": "stderr",
     "output_type": "stream",
     "text": [
      "\r",
      " 11%|█         | 75/710 [00:07<01:01, 10.40it/s]"
     ]
    },
    {
     "name": "stdout",
     "output_type": "stream",
     "text": [
      "bone-hup-319\n",
      "Does this patient have T2 available? False\n",
      "T2 image unavailable\n",
      "bone-penn-497\n",
      "Does this patient have T2 available? True\n",
      "I'm doing the thing.\n",
      "bone-hup-117\n",
      "Does this patient have T2 available? False\n",
      "T2 image unavailable\n",
      "bone-penn-142\n",
      "Does this patient have T2 available? True\n",
      "I'm doing the thing.\n",
      "bone-penn-132\n",
      "Does this patient have T2 available? True\n",
      "I'm doing the thing.\n"
     ]
    },
    {
     "name": "stderr",
     "output_type": "stream",
     "text": [
      "\r",
      " 11%|█         | 78/710 [00:07<01:04,  9.79it/s]"
     ]
    },
    {
     "name": "stdout",
     "output_type": "stream",
     "text": [
      "bone-china-070\n",
      "Does this patient have T2 available? True\n",
      "I'm doing the thing.\n",
      "bone-penn-131\n",
      "Does this patient have T2 available? True\n",
      "I'm doing the thing.\n"
     ]
    },
    {
     "name": "stderr",
     "output_type": "stream",
     "text": [
      "\r",
      " 11%|█▏        | 80/710 [00:08<01:08,  9.17it/s]"
     ]
    },
    {
     "name": "stdout",
     "output_type": "stream",
     "text": [
      "bone-hup-316\n",
      "Does this patient have T2 available? True\n",
      "I'm doing the thing.\n",
      "bone-hup-306\n",
      "Does this patient have T2 available? True\n",
      "I'm doing the thing.\n"
     ]
    },
    {
     "name": "stderr",
     "output_type": "stream",
     "text": [
      "\r",
      " 12%|█▏        | 82/710 [00:08<01:10,  8.91it/s]"
     ]
    },
    {
     "name": "stderr",
     "output_type": "stream",
     "text": [
      "\r",
      " 12%|█▏        | 86/710 [00:08<00:55, 11.32it/s]"
     ]
    },
    {
     "name": "stdout",
     "output_type": "stream",
     "text": [
      "bone-china-002\n",
      "Does this patient have T2 available? True\n",
      "I'm doing the thing.\n",
      "bone-penn-567\n",
      "Does this patient have T2 available? True\n",
      "T2 image unavailable\n",
      "bone-china-053\n",
      "Does this patient have T2 available? True\n",
      "I'm doing the thing.\n",
      "bone-penn-509\n",
      "Does this patient have T2 available? True\n",
      "I'm doing the thing.\n",
      "bone-penn-143\n",
      "Does this patient have T2 available? True\n",
      "I'm doing the thing.\n"
     ]
    },
    {
     "name": "stderr",
     "output_type": "stream",
     "text": [
      "\r",
      " 12%|█▏        | 88/710 [00:08<01:01, 10.13it/s]"
     ]
    },
    {
     "name": "stdout",
     "output_type": "stream",
     "text": [
      "bone-hup-151\n",
      "Does this patient have T2 available? True\n",
      "I'm doing the thing.\n",
      "bone-penn-508\n",
      "Does this patient have T2 available? True\n",
      "I'm doing the thing.\n"
     ]
    },
    {
     "name": "stderr",
     "output_type": "stream",
     "text": [
      "\r",
      " 13%|█▎        | 90/710 [00:09<01:10,  8.85it/s]"
     ]
    },
    {
     "name": "stdout",
     "output_type": "stream",
     "text": [
      "bone-penn-456\n",
      "Does this patient have T2 available? True\n",
      "I'm doing the thing.\n",
      "bone-china-075\n",
      "Does this patient have T2 available? True\n",
      "I'm doing the thing.\n"
     ]
    },
    {
     "name": "stderr",
     "output_type": "stream",
     "text": [
      "\r",
      " 13%|█▎        | 93/710 [00:09<00:57, 10.80it/s]"
     ]
    },
    {
     "name": "stdout",
     "output_type": "stream",
     "text": [
      "bone-penn-91\n",
      "Does this patient have T2 available? True\n",
      "I'm doing the thing.\n",
      "bone-china-009\n",
      "Does this patient have T2 available? True\n",
      "I'm doing the thing.\n",
      "bone-penn-375\n",
      "Does this patient have T2 available? True\n",
      "I'm doing the thing.\n",
      "bone-china-088\n",
      "Does this patient have T2 available? True\n",
      "I'm doing the thing.\n"
     ]
    },
    {
     "name": "stderr",
     "output_type": "stream",
     "text": [
      "\r",
      " 13%|█▎        | 95/710 [00:09<00:58, 10.60it/s]"
     ]
    },
    {
     "name": "stdout",
     "output_type": "stream",
     "text": [
      "bone-china-027\n",
      "Does this patient have T2 available? True\n",
      "I'm doing the thing.\n",
      "bone-hup-322\n",
      "Does this patient have T2 available? True\n",
      "I'm doing the thing.\n"
     ]
    },
    {
     "name": "stderr",
     "output_type": "stream",
     "text": [
      "\r",
      " 14%|█▎        | 97/710 [00:09<01:01,  9.92it/s]"
     ]
    },
    {
     "name": "stderr",
     "output_type": "stream",
     "text": [
      "\r",
      " 14%|█▍        | 99/710 [00:09<01:00, 10.18it/s]"
     ]
    },
    {
     "name": "stdout",
     "output_type": "stream",
     "text": [
      "bone-hup-309\n",
      "Does this patient have T2 available? True\n",
      "I'm doing the thing.\n",
      "bone-hup-312\n",
      "Does this patient have T2 available? True\n",
      "I'm doing the thing.\n",
      "bone-penn-564\n",
      "Does this patient have T2 available? True\n",
      "I'm doing the thing.\n"
     ]
    },
    {
     "name": "stderr",
     "output_type": "stream",
     "text": [
      "\r",
      " 14%|█▍        | 101/710 [00:10<00:54, 11.12it/s]"
     ]
    },
    {
     "name": "stdout",
     "output_type": "stream",
     "text": [
      "bone-china-025\n",
      "Does this patient have T2 available? True\n",
      "I'm doing the thing.\n",
      "bone-penn-560\n",
      "Does this patient have T2 available? False\n",
      "T2 image unavailable\n",
      "bone-penn-591\n",
      "Does this patient have T2 available? True\n",
      "I'm doing the thing.\n"
     ]
    },
    {
     "name": "stderr",
     "output_type": "stream",
     "text": [
      "\r",
      " 15%|█▍        | 103/710 [00:10<00:54, 11.13it/s]"
     ]
    },
    {
     "name": "stdout",
     "output_type": "stream",
     "text": [
      "bone-penn-319\n",
      "Does this patient have T2 available? True\n",
      "I'm doing the thing.\n",
      "bone-hup-276\n",
      "Does this patient have T2 available? True\n",
      "I'm doing the thing.\n",
      "bone-penn-153\n",
      "Does this patient have T2 available? False\n",
      "T2 image unavailable\n",
      "bone-penn-158\n",
      "Does this patient have T2 available? False\n",
      "T2 image unavailable\n",
      "bone-hup-147\n",
      "Does this patient have T2 available? True\n",
      "I'm doing the thing.\n"
     ]
    },
    {
     "name": "stderr",
     "output_type": "stream",
     "text": [
      "\r",
      " 15%|█▌        | 108/710 [00:10<00:51, 11.77it/s]"
     ]
    },
    {
     "name": "stdout",
     "output_type": "stream",
     "text": [
      "bone-penn-147\n",
      "Does this patient have T2 available? True\n",
      "I'm doing the thing.\n",
      "bone-china-030\n",
      "Does this patient have T2 available? True\n",
      "I'm doing the thing.\n"
     ]
    },
    {
     "name": "stderr",
     "output_type": "stream",
     "text": [
      "\r",
      " 15%|█▌        | 110/710 [00:10<00:55, 10.85it/s]"
     ]
    },
    {
     "name": "stdout",
     "output_type": "stream",
     "text": [
      "bone-hup-266\n",
      "Does this patient have T2 available? True\n",
      "I'm doing the thing.\n",
      "bone-hup-116\n",
      "Does this patient have T2 available? True\n",
      "I'm doing the thing.\n"
     ]
    },
    {
     "name": "stderr",
     "output_type": "stream",
     "text": [
      "\r",
      " 16%|█▌        | 112/710 [00:11<01:12,  8.19it/s]"
     ]
    },
    {
     "name": "stderr",
     "output_type": "stream",
     "text": [
      "\r",
      " 16%|█▌        | 114/710 [00:11<01:05,  9.16it/s]"
     ]
    },
    {
     "name": "stdout",
     "output_type": "stream",
     "text": [
      "bone-penn-156\n",
      "Does this patient have T2 available? True\n",
      "I'm doing the thing.\n",
      "bone-china-086\n",
      "Does this patient have T2 available? True\n",
      "I'm doing the thing.\n",
      "bone-china-043\n",
      "Does this patient have T2 available? True\n",
      "I'm doing the thing.\n"
     ]
    },
    {
     "name": "stderr",
     "output_type": "stream",
     "text": [
      "\r",
      " 16%|█▋        | 116/710 [00:11<00:56, 10.50it/s]"
     ]
    },
    {
     "name": "stdout",
     "output_type": "stream",
     "text": [
      "bone-penn-391\n",
      "Does this patient have T2 available? True\n",
      "I'm doing the thing.\n",
      "bone-penn-155\n",
      "Does this patient have T2 available? True\n",
      "I'm doing the thing.\n",
      "bone-hup-272\n",
      "Does this patient have T2 available? True\n",
      "I'm doing the thing.\n"
     ]
    },
    {
     "name": "stderr",
     "output_type": "stream",
     "text": [
      "\r",
      " 17%|█▋        | 118/710 [00:11<01:09,  8.51it/s]"
     ]
    },
    {
     "name": "stderr",
     "output_type": "stream",
     "text": [
      "\r",
      " 17%|█▋        | 120/710 [00:11<01:01,  9.62it/s]"
     ]
    },
    {
     "name": "stdout",
     "output_type": "stream",
     "text": [
      "bone-penn-471\n",
      "Does this patient have T2 available? True\n",
      "I'm doing the thing.\n",
      "bone-china-074\n",
      "Does this patient have T2 available? True\n",
      "I'm doing the thing.\n",
      "bone-china-061\n",
      "Does this patient have T2 available? True\n",
      "I'm doing the thing.\n",
      "bone-china-019\n",
      "Does this patient have T2 available? True\n",
      "I'm doing the thing.\n",
      "bone-penn-586\n",
      "Does this patient have T2 available? True\n",
      "I'm doing the thing.\n"
     ]
    },
    {
     "name": "stderr",
     "output_type": "stream",
     "text": [
      "\r",
      " 17%|█▋        | 123/710 [00:12<00:48, 12.08it/s]"
     ]
    },
    {
     "name": "stderr",
     "output_type": "stream",
     "text": [
      "\r",
      " 18%|█▊        | 125/710 [00:12<00:45, 12.77it/s]"
     ]
    },
    {
     "name": "stdout",
     "output_type": "stream",
     "text": [
      "bone-hup-315\n",
      "Does this patient have T2 available? True\n",
      "I'm doing the thing.\n",
      "bone-china-010\n",
      "Does this patient have T2 available? True\n",
      "I'm doing the thing.\n",
      "bone-penn-495\n",
      "Does this patient have T2 available? True\n",
      "I'm doing the thing.\n"
     ]
    },
    {
     "name": "stderr",
     "output_type": "stream",
     "text": [
      "\r",
      " 18%|█▊        | 127/710 [00:12<00:45, 12.74it/s]"
     ]
    },
    {
     "name": "stdout",
     "output_type": "stream",
     "text": [
      "bone-penn-473\n",
      "Does this patient have T2 available? True\n",
      "I'm doing the thing.\n",
      "bone-hup-150\n",
      "Does this patient have T2 available? True\n",
      "I'm doing the thing.\n",
      "bone-china-032\n",
      "Does this patient have T2 available? True\n",
      "I'm doing the thing.\n"
     ]
    },
    {
     "name": "stderr",
     "output_type": "stream",
     "text": [
      "\r",
      " 18%|█▊        | 129/710 [00:12<00:44, 12.94it/s]"
     ]
    },
    {
     "name": "stdout",
     "output_type": "stream",
     "text": [
      "bone-hup-131\n",
      "Does this patient have T2 available? True\n",
      "I'm doing the thing.\n",
      "bone-penn-555\n",
      "Does this patient have T2 available? True\n",
      "I'm doing the thing.\n"
     ]
    },
    {
     "name": "stderr",
     "output_type": "stream",
     "text": [
      "\r",
      " 18%|█▊        | 131/710 [00:12<00:51, 11.30it/s]"
     ]
    },
    {
     "name": "stderr",
     "output_type": "stream",
     "text": [
      "\r",
      " 19%|█▊        | 133/710 [00:12<00:44, 12.90it/s]"
     ]
    },
    {
     "name": "stdout",
     "output_type": "stream",
     "text": [
      "bone-china-066\n",
      "Does this patient have T2 available? True\n",
      "I'm doing the thing.\n",
      "bone-china-038\n",
      "Does this patient have T2 available? True\n",
      "I'm doing the thing.\n",
      "bone-penn-552\n",
      "Does this patient have T2 available? False\n",
      "T2 image unavailable\n",
      "bone-hup-124\n",
      "Does this patient have T2 available? True\n",
      "I'm doing the thing.\n",
      "bone-hup-271\n",
      "Does this patient have T2 available? True\n",
      "I'm doing the thing.\n"
     ]
    },
    {
     "name": "stderr",
     "output_type": "stream",
     "text": [
      "\r",
      " 19%|█▉        | 136/710 [00:13<00:44, 13.02it/s]"
     ]
    },
    {
     "name": "stdout",
     "output_type": "stream",
     "text": [
      "bone-penn-421\n",
      "Does this patient have T2 available? True\n",
      "T2 image unavailable\n",
      "bone-penn-141\n",
      "Does this patient have T2 available? True\n",
      "I'm doing the thing.\n",
      "bone-penn-144\n",
      "Does this patient have T2 available? True\n",
      "T2 image unavailable\n",
      "bone-hup-297\n",
      "Does this patient have T2 available? True\n",
      "I'm doing the thing.\n"
     ]
    },
    {
     "name": "stderr",
     "output_type": "stream",
     "text": [
      "\r",
      " 20%|█▉        | 140/710 [00:13<00:51, 11.10it/s]"
     ]
    },
    {
     "name": "stdout",
     "output_type": "stream",
     "text": [
      "bone-china-037\n",
      "Does this patient have T2 available? True\n",
      "I'm doing the thing.\n",
      "bone-penn-285\n",
      "Does this patient have T2 available? True\n",
      "I'm doing the thing.\n"
     ]
    },
    {
     "name": "stderr",
     "output_type": "stream",
     "text": [
      "\r",
      " 20%|██        | 142/710 [00:13<01:06,  8.54it/s]"
     ]
    },
    {
     "name": "stdout",
     "output_type": "stream",
     "text": [
      "bone-penn-303\n",
      "Does this patient have T2 available? True\n",
      "I'm doing the thing.\n",
      "bone-hup-302\n",
      "Does this patient have T2 available? True\n",
      "I'm doing the thing.\n"
     ]
    },
    {
     "name": "stderr",
     "output_type": "stream",
     "text": [
      "\r",
      " 20%|██        | 144/710 [00:14<01:08,  8.23it/s]"
     ]
    },
    {
     "name": "stdout",
     "output_type": "stream",
     "text": [
      "bone-penn-565\n",
      "Does this patient have T2 available? True\n",
      "I'm doing the thing.\n"
     ]
    },
    {
     "name": "stderr",
     "output_type": "stream",
     "text": [
      "\r",
      " 20%|██        | 145/710 [00:14<01:24,  6.65it/s]"
     ]
    },
    {
     "name": "stderr",
     "output_type": "stream",
     "text": [
      "\r",
      " 21%|██        | 148/710 [00:14<01:04,  8.65it/s]"
     ]
    },
    {
     "name": "stdout",
     "output_type": "stream",
     "text": [
      "bone-penn-562\n",
      "Does this patient have T2 available? False\n",
      "T2 image unavailable\n",
      "bone-penn-417\n",
      "Does this patient have T2 available? True\n",
      "I'm doing the thing.\n",
      "bone-hup-257\n",
      "Does this patient have T2 available? True\n",
      "I'm doing the thing.\n",
      "bone-china-017\n",
      "Does this patient have T2 available? True\n",
      "I'm doing the thing.\n",
      "bone-hup-298\n",
      "Does this patient have T2 available? True\n",
      "I'm doing the thing.\n",
      "bone-penn-468\n",
      "Does this patient have T2 available? True\n",
      "I'm doing the thing.\n"
     ]
    },
    {
     "name": "stderr",
     "output_type": "stream",
     "text": [
      "\r",
      " 21%|██▏       | 151/710 [00:15<01:19,  7.01it/s]"
     ]
    },
    {
     "name": "stderr",
     "output_type": "stream",
     "text": [
      "\r",
      " 22%|██▏       | 153/710 [00:15<01:06,  8.37it/s]"
     ]
    },
    {
     "name": "stdout",
     "output_type": "stream",
     "text": [
      "bone-hup-314\n",
      "Does this patient have T2 available? True\n",
      "I'm doing the thing.\n",
      "bone-hup-145\n",
      "Does this patient have T2 available? True\n",
      "I'm doing the thing.\n",
      "bone-hup-157\n",
      "Does this patient have T2 available? True\n",
      "I'm doing the thing.\n"
     ]
    },
    {
     "name": "stderr",
     "output_type": "stream",
     "text": [
      "\r",
      " 22%|██▏       | 155/710 [00:15<01:14,  7.42it/s]"
     ]
    },
    {
     "name": "stdout",
     "output_type": "stream",
     "text": [
      "bone-hup-163\n",
      "Does this patient have T2 available? True\n",
      "T2 image unavailable\n",
      "bone-hup-134\n",
      "Does this patient have T2 available? True\n",
      "I'm doing the thing.\n",
      "bone-penn-490\n",
      "Does this patient have T2 available? True\n",
      "I'm doing the thing.\n"
     ]
    },
    {
     "name": "stderr",
     "output_type": "stream",
     "text": [
      "\r",
      " 22%|██▏       | 157/710 [00:15<01:24,  6.52it/s]"
     ]
    },
    {
     "name": "stdout",
     "output_type": "stream",
     "text": [
      "bone-china-087\n",
      "Does this patient have T2 available? True\n",
      "I'm doing the thing.\n",
      "bone-china-073\n",
      "Does this patient have T2 available? True\n",
      "I'm doing the thing.\n",
      "bone-penn-296\n",
      "Does this patient have T2 available? True\n",
      "I'm doing the thing.\n"
     ]
    },
    {
     "name": "stderr",
     "output_type": "stream",
     "text": [
      "\r",
      " 23%|██▎       | 160/710 [00:16<01:12,  7.56it/s]"
     ]
    },
    {
     "name": "stdout",
     "output_type": "stream",
     "text": [
      "bone-hup-135\n",
      "Does this patient have T2 available? True\n",
      "T2 image unavailable\n",
      "bone-hup-303\n",
      "Does this patient have T2 available? True\n",
      "I'm doing the thing.\n"
     ]
    },
    {
     "name": "stderr",
     "output_type": "stream",
     "text": [
      "\r",
      " 23%|██▎       | 162/710 [00:16<01:16,  7.17it/s]"
     ]
    },
    {
     "name": "stdout",
     "output_type": "stream",
     "text": [
      "bone-hup-326\n",
      "Does this patient have T2 available? True\n",
      "I'm doing the thing.\n"
     ]
    },
    {
     "name": "stderr",
     "output_type": "stream",
     "text": [
      "\r",
      " 23%|██▎       | 163/710 [00:16<01:44,  5.25it/s]"
     ]
    },
    {
     "name": "stderr",
     "output_type": "stream",
     "text": [
      "\r",
      " 23%|██▎       | 164/710 [00:16<01:32,  5.93it/s]"
     ]
    },
    {
     "name": "stdout",
     "output_type": "stream",
     "text": [
      "bone-penn-148\n",
      "Does this patient have T2 available? True\n",
      "I'm doing the thing.\n",
      "bone-penn-352\n",
      "Does this patient have T2 available? False\n",
      "T2 image unavailable\n",
      "bone-hup-265\n",
      "Does this patient have T2 available? True\n",
      "I'm doing the thing.\n"
     ]
    },
    {
     "name": "stderr",
     "output_type": "stream",
     "text": [
      "\r",
      " 24%|██▍       | 169/710 [00:17<01:08,  7.85it/s]"
     ]
    },
    {
     "name": "stderr",
     "output_type": "stream",
     "text": [
      "\r",
      " 24%|██▍       | 171/710 [00:17<00:56,  9.58it/s]"
     ]
    },
    {
     "name": "stdout",
     "output_type": "stream",
     "text": [
      "bone-hup-304\n",
      "Does this patient have T2 available? True\n",
      "T2 image unavailable\n",
      "bone-penn-138\n",
      "Does this patient have T2 available? False\n",
      "T2 image unavailable\n",
      "bone-china-003\n",
      "Does this patient have T2 available? True\n",
      "I'm doing the thing.\n",
      "bone-china-047\n",
      "Does this patient have T2 available? True\n",
      "I'm doing the thing.\n",
      "bone-penn-348\n",
      "Does this patient have T2 available? True\n",
      "I'm doing the thing.\n",
      "bone-hup-161\n",
      "Does this patient have T2 available? True\n",
      "I'm doing the thing.\n",
      "bone-hup-307\n",
      "Does this patient have T2 available? True\n",
      "I'm doing the thing.\n"
     ]
    },
    {
     "name": "stderr",
     "output_type": "stream",
     "text": [
      "\r",
      " 24%|██▍       | 173/710 [00:17<00:47, 11.21it/s]"
     ]
    },
    {
     "name": "stderr",
     "output_type": "stream",
     "text": [
      "\r",
      " 25%|██▍       | 177/710 [00:17<00:37, 14.18it/s]"
     ]
    },
    {
     "name": "stdout",
     "output_type": "stream",
     "text": [
      "bone-penn-361\n",
      "Does this patient have T2 available? True\n",
      "T2 image unavailable\n",
      "bone-china-054\n",
      "Does this patient have T2 available? True\n",
      "I'm doing the thing.\n",
      "bone-china-050\n",
      "Does this patient have T2 available? True\n",
      "I'm doing the thing.\n",
      "bone-china-051\n",
      "Does this patient have T2 available? True\n",
      "I'm doing the thing.\n",
      "bone-penn-548\n",
      "Does this patient have T2 available? True\n",
      "I'm doing the thing.\n",
      "bone-china-026\n",
      "Does this patient have T2 available? True\n",
      "I'm doing the thing.\n"
     ]
    },
    {
     "name": "stderr",
     "output_type": "stream",
     "text": [
      "\r",
      " 25%|██▌       | 180/710 [00:17<00:35, 15.05it/s]"
     ]
    },
    {
     "name": "stdout",
     "output_type": "stream",
     "text": [
      "bone-penn-140\n",
      "Does this patient have T2 available? True\n",
      "I'm doing the thing.\n",
      "bone-china-004\n",
      "Does this patient have T2 available? True\n",
      "I'm doing the thing.\n",
      "bone-china-072\n",
      "Does this patient have T2 available? True\n",
      "I'm doing the thing.\n",
      "bone-china-076\n",
      "Does this patient have T2 available? True\n",
      "I'm doing the thing.\n"
     ]
    },
    {
     "name": "stderr",
     "output_type": "stream",
     "text": [
      "\r",
      " 26%|██▌       | 183/710 [00:17<00:34, 15.17it/s]"
     ]
    },
    {
     "name": "stderr",
     "output_type": "stream",
     "text": [
      "\r",
      " 26%|██▋       | 187/710 [00:17<00:31, 16.75it/s]"
     ]
    },
    {
     "name": "stdout",
     "output_type": "stream",
     "text": [
      "bone-china-034\n",
      "Does this patient have T2 available? True\n",
      "I'm doing the thing.\n",
      "bone-china-005\n",
      "Does this patient have T2 available? True\n",
      "I'm doing the thing.\n",
      "bone-china-048\n",
      "Does this patient have T2 available? True\n",
      "T2 image unavailable\n",
      "bone-penn-149\n",
      "Does this patient have T2 available? True\n",
      "I'm doing the thing.\n",
      "bone-china-062\n",
      "Does this patient have T2 available? True\n",
      "I'm doing the thing.\n"
     ]
    },
    {
     "name": "stderr",
     "output_type": "stream",
     "text": [
      "\r",
      " 27%|██▋       | 190/710 [00:18<00:34, 15.00it/s]"
     ]
    },
    {
     "name": "stdout",
     "output_type": "stream",
     "text": [
      "bone-hup-308\n",
      "Does this patient have T2 available? True\n",
      "I'm doing the thing.\n",
      "bone-penn-491\n",
      "Does this patient have T2 available? True\n",
      "I'm doing the thing.\n",
      "bone-penn-535\n",
      "Does this patient have T2 available? True\n",
      "I'm doing the thing.\n"
     ]
    },
    {
     "name": "stderr",
     "output_type": "stream",
     "text": [
      "\r",
      " 27%|██▋       | 192/710 [00:18<00:39, 12.96it/s]"
     ]
    },
    {
     "name": "stdout",
     "output_type": "stream",
     "text": [
      "bone-penn-454\n",
      "Does this patient have T2 available? True\n",
      "I'm doing the thing.\n",
      "bone-penn-595\n",
      "Does this patient have T2 available? True\n",
      "I'm doing the thing.\n",
      "bone-penn-283\n",
      "Does this patient have T2 available? True\n",
      "I'm doing the thing.\n"
     ]
    },
    {
     "name": "stderr",
     "output_type": "stream",
     "text": [
      "\r",
      " 27%|██▋       | 194/710 [00:18<00:46, 10.98it/s]"
     ]
    },
    {
     "name": "stdout",
     "output_type": "stream",
     "text": [
      "bone-penn-526\n",
      "Does this patient have T2 available? True\n",
      "I'm doing the thing.\n"
     ]
    },
    {
     "name": "stderr",
     "output_type": "stream",
     "text": [
      "\r",
      " 28%|██▊       | 196/710 [00:19<01:01,  8.37it/s]"
     ]
    },
    {
     "name": "stdout",
     "output_type": "stream",
     "text": [
      "\n",
      "################################################################################\n",
      "Exception occurred for: outcome_pos   0.000\n",
      "outcome_neg   1.000\n",
      "outcome_3     1.000\n",
      "sort              -\n",
      "volume        0.140\n",
      "Name: bone-penn-526, dtype: object\n",
      "index 213 is out of bounds for axis 0 with size 2\n",
      "T2 image unavailable\n",
      "Traceback (most recent call last):\n",
      "  File \"/home/user1/Documents/Bone-MRI/data_gen.py\", line 392, in generate_from_features\n",
      "    t2_masked = load_image(t2_image_file, t2_seg_file, verbose=verbose)\n",
      "  File \"/home/user1/Documents/Bone-MRI/data_gen.py\", line 331, in load_image\n",
      "    return [mask_image_percentile(image, segmentation, 100, a) for a in (0, 1, 2)]\n",
      "  File \"/home/user1/Documents/Bone-MRI/data_gen.py\", line 331, in <listcomp>\n",
      "    return [mask_image_percentile(image, segmentation, 100, a) for a in (0, 1, 2)]\n",
      "  File \"/home/user1/Documents/Bone-MRI/data_gen.py\", line 335, in mask_image_percentile\n",
      "    image, segmentation = select_slice(image, segmentation, plane, axis)\n",
      "  File \"/home/user1/Documents/Bone-MRI/segmentation.py\", line 40, in select_slice\n",
      "    image = axis_plane[axis](image, plane)\n",
      "  File \"/home/user1/Documents/Bone-MRI/segmentation.py\", line 13, in <lambda>\n",
      "    0: lambda image, plane : image[plane, :, :],\n",
      "IndexError: index 213 is out of bounds for axis 0 with size 2\n",
      "\n",
      "bone-penn-580\n",
      "Does this patient have T2 available? False\n",
      "T2 image unavailable\n",
      "bone-penn-284\n",
      "Does this patient have T2 available? False\n",
      "T2 image unavailable\n",
      "bone-hup-51\n",
      "Does this patient have T2 available? True\n",
      "I'm doing the thing.\n",
      "bone-hup-3\n",
      "Does this patient have T2 available? True\n",
      "I'm doing the thing.\n"
     ]
    },
    {
     "name": "stderr",
     "output_type": "stream",
     "text": [
      "\r",
      " 28%|██▊       | 199/710 [00:19<00:54,  9.34it/s]"
     ]
    },
    {
     "name": "stderr",
     "output_type": "stream",
     "text": [
      "\r",
      " 28%|██▊       | 202/710 [00:19<00:43, 11.72it/s]"
     ]
    },
    {
     "name": "stdout",
     "output_type": "stream",
     "text": [
      "bone-penn-85\n",
      "Does this patient have T2 available? True\n",
      "I'm doing the thing.\n",
      "bone-penn-523\n",
      "Does this patient have T2 available? False\n",
      "T2 image unavailable\n",
      "bone-penn-90\n",
      "Does this patient have T2 available? True\n",
      "I'm doing the thing.\n",
      "bone-china-165\n",
      "Does this patient have T2 available? True\n",
      "I'm doing the thing.\n",
      "bone-china-161\n",
      "Does this patient have T2 available? True\n",
      "I'm doing the thing.\n",
      "bone-china-136\n",
      "Does this patient have T2 available? True\n",
      "I'm doing the thing.\n",
      "bone-china-093\n",
      "Does this patient have T2 available? True\n",
      "I'm doing the thing.\n"
     ]
    },
    {
     "name": "stderr",
     "output_type": "stream",
     "text": [
      "\r",
      " 29%|██▉       | 206/710 [00:19<00:36, 13.88it/s]"
     ]
    },
    {
     "name": "stderr",
     "output_type": "stream",
     "text": [
      "\r",
      " 29%|██▉       | 208/710 [00:19<00:34, 14.57it/s]"
     ]
    },
    {
     "name": "stdout",
     "output_type": "stream",
     "text": [
      "bone-penn-104\n",
      "Does this patient have T2 available? True\n",
      "I'm doing the thing.\n",
      "bone-penn-520\n",
      "Does this patient have T2 available? True\n",
      "I'm doing the thing.\n",
      "bone-china-119\n",
      "Does this patient have T2 available? True\n",
      "I'm doing the thing.\n",
      "bone-penn-501\n",
      "Does this patient have T2 available? True\n",
      "I'm doing the thing.\n"
     ]
    },
    {
     "name": "stderr",
     "output_type": "stream",
     "text": [
      "\r",
      " 30%|██▉       | 210/710 [00:19<00:33, 15.12it/s]"
     ]
    },
    {
     "name": "stdout",
     "output_type": "stream",
     "text": [
      "bone-china-140\n",
      "Does this patient have T2 available? True\n",
      "I'm doing the thing.\n",
      "bone-penn-462\n",
      "Does this patient have T2 available? True\n",
      "I'm doing the thing.\n"
     ]
    },
    {
     "name": "stderr",
     "output_type": "stream",
     "text": [
      "\r",
      " 30%|██▉       | 212/710 [00:20<00:41, 11.98it/s]"
     ]
    },
    {
     "name": "stdout",
     "output_type": "stream",
     "text": [
      "bone-penn-538\n",
      "Does this patient have T2 available? True\n",
      "I'm doing the thing.\n"
     ]
    },
    {
     "name": "stderr",
     "output_type": "stream",
     "text": [
      "\r",
      " 30%|███       | 214/710 [00:20<00:50,  9.86it/s]"
     ]
    },
    {
     "name": "stdout",
     "output_type": "stream",
     "text": [
      "bone-penn-528\n",
      "Does this patient have T2 available? True\n",
      "I'm doing the thing.\n",
      "bone-penn-530\n",
      "Does this patient have T2 available? True\n",
      "I'm doing the thing.\n",
      "bone-penn-485\n",
      "Does this patient have T2 available? True\n",
      "I'm doing the thing.\n"
     ]
    },
    {
     "name": "stderr",
     "output_type": "stream",
     "text": [
      "\r",
      " 30%|███       | 216/710 [00:20<00:53,  9.27it/s]"
     ]
    },
    {
     "name": "stdout",
     "output_type": "stream",
     "text": [
      "bone-china-125\n",
      "Does this patient have T2 available? True\n",
      "I'm doing the thing.\n",
      "bone-china-116\n",
      "Does this patient have T2 available? True\n",
      "I'm doing the thing.\n",
      "bone-penn-537\n",
      "Does this patient have T2 available? True\n",
      "I'm doing the thing.\n",
      "bone-china-097\n",
      "Does this patient have T2 available? False\n",
      "T2 image unavailable\n",
      "bone-penn-107\n",
      "Does this patient have T2 available? True\n",
      "I'm doing the thing.\n"
     ]
    },
    {
     "name": "stderr",
     "output_type": "stream",
     "text": [
      "\r",
      " 31%|███       | 221/710 [00:20<00:44, 10.87it/s]"
     ]
    },
    {
     "name": "stdout",
     "output_type": "stream",
     "text": [
      "bone-penn-525\n",
      "Does this patient have T2 available? True\n",
      "I'm doing the thing.\n"
     ]
    },
    {
     "name": "stderr",
     "output_type": "stream",
     "text": [
      "\r",
      " 31%|███▏      | 223/710 [00:21<00:57,  8.45it/s]"
     ]
    },
    {
     "name": "stdout",
     "output_type": "stream",
     "text": [
      "\n",
      "################################################################################\n",
      "Exception occurred for: outcome_pos   0.000\n",
      "outcome_neg   1.000\n",
      "outcome_3     1.000\n",
      "sort              -\n",
      "volume        0.140\n",
      "Name: bone-penn-525, dtype: object\n",
      "index 161 is out of bounds for axis 0 with size 2\n",
      "T2 image unavailable\n",
      "Traceback (most recent call last):\n",
      "  File \"/home/user1/Documents/Bone-MRI/data_gen.py\", line 392, in generate_from_features\n",
      "    t2_masked = load_image(t2_image_file, t2_seg_file, verbose=verbose)\n",
      "  File \"/home/user1/Documents/Bone-MRI/data_gen.py\", line 331, in load_image\n",
      "    return [mask_image_percentile(image, segmentation, 100, a) for a in (0, 1, 2)]\n",
      "  File \"/home/user1/Documents/Bone-MRI/data_gen.py\", line 331, in <listcomp>\n",
      "    return [mask_image_percentile(image, segmentation, 100, a) for a in (0, 1, 2)]\n",
      "  File \"/home/user1/Documents/Bone-MRI/data_gen.py\", line 335, in mask_image_percentile\n",
      "    image, segmentation = select_slice(image, segmentation, plane, axis)\n",
      "  File \"/home/user1/Documents/Bone-MRI/segmentation.py\", line 40, in select_slice\n",
      "    image = axis_plane[axis](image, plane)\n",
      "  File \"/home/user1/Documents/Bone-MRI/segmentation.py\", line 13, in <lambda>\n",
      "    0: lambda image, plane : image[plane, :, :],\n",
      "IndexError: index 161 is out of bounds for axis 0 with size 2\n",
      "\n",
      "bone-china-158\n",
      "Does this patient have T2 available? True\n",
      "I'm doing the thing.\n",
      "bone-china-134\n",
      "Does this patient have T2 available? True\n",
      "I'm doing the thing.\n",
      "bone-china-138\n",
      "Does this patient have T2 available? True\n",
      "I'm doing the thing.\n"
     ]
    },
    {
     "name": "stderr",
     "output_type": "stream",
     "text": [
      "\r",
      " 32%|███▏      | 225/710 [00:21<00:51,  9.48it/s]"
     ]
    },
    {
     "name": "stderr",
     "output_type": "stream",
     "text": [
      "\r",
      " 32%|███▏      | 227/710 [00:21<00:44, 10.97it/s]"
     ]
    },
    {
     "name": "stdout",
     "output_type": "stream",
     "text": [
      "bone-penn-512\n",
      "Does this patient have T2 available? True\n",
      "I'm doing the thing.\n",
      "bone-china-155\n",
      "Does this patient have T2 available? True\n",
      "I'm doing the thing.\n",
      "bone-china-100\n",
      "Does this patient have T2 available? True\n",
      "I'm doing the thing.\n",
      "bone-china-166\n",
      "Does this patient have T2 available? True\n",
      "I'm doing the thing.\n"
     ]
    },
    {
     "name": "stderr",
     "output_type": "stream",
     "text": [
      "\r",
      " 32%|███▏      | 229/710 [00:21<00:38, 12.42it/s]"
     ]
    },
    {
     "name": "stderr",
     "output_type": "stream",
     "text": [
      "\r",
      " 33%|███▎      | 231/710 [00:21<00:34, 13.79it/s]"
     ]
    },
    {
     "name": "stdout",
     "output_type": "stream",
     "text": [
      "bone-china-169\n",
      "Does this patient have T2 available? True\n",
      "I'm doing the thing.\n",
      "bone-china-147\n",
      "Does this patient have T2 available? True\n",
      "I'm doing the thing.\n",
      "bone-penn-481\n",
      "Does this patient have T2 available? True\n",
      "I'm doing the thing.\n",
      "bone-china-175\n",
      "Does this patient have T2 available? True\n",
      "I'm doing the thing.\n"
     ]
    },
    {
     "name": "stderr",
     "output_type": "stream",
     "text": [
      "\r",
      " 33%|███▎      | 233/710 [00:21<00:31, 15.20it/s]"
     ]
    },
    {
     "name": "stdout",
     "output_type": "stream",
     "text": [
      "bone-penn-100\n",
      "Does this patient have T2 available? False\n",
      "T2 image unavailable\n",
      "bone-penn-97\n",
      "Does this patient have T2 available? True\n",
      "I'm doing the thing.\n"
     ]
    },
    {
     "name": "stderr",
     "output_type": "stream",
     "text": [
      "\r",
      " 33%|███▎      | 235/710 [00:22<00:39, 12.06it/s]"
     ]
    },
    {
     "name": "stderr",
     "output_type": "stream",
     "text": [
      "\r",
      " 33%|███▎      | 237/710 [00:22<00:38, 12.36it/s]"
     ]
    },
    {
     "name": "stdout",
     "output_type": "stream",
     "text": [
      "bone-penn-278\n",
      "Does this patient have T2 available? True\n",
      "I'm doing the thing.\n",
      "bone-china-109\n",
      "Does this patient have T2 available? True\n",
      "I'm doing the thing.\n",
      "bone-penn-116\n",
      "Does this patient have T2 available? True\n",
      "I'm doing the thing.\n"
     ]
    },
    {
     "name": "stderr",
     "output_type": "stream",
     "text": [
      "\r",
      " 34%|███▍      | 240/710 [00:22<00:32, 14.31it/s]"
     ]
    },
    {
     "name": "stderr",
     "output_type": "stream",
     "text": [
      "\r",
      " 34%|███▍      | 242/710 [00:22<00:30, 15.12it/s]"
     ]
    },
    {
     "name": "stdout",
     "output_type": "stream",
     "text": [
      "bone-china-163\n",
      "Does this patient have T2 available? True\n",
      "I'm doing the thing.\n",
      "bone-penn-115\n",
      "Does this patient have T2 available? True\n",
      "I'm doing the thing.\n",
      "bone-penn-533\n",
      "Does this patient have T2 available? False\n",
      "T2 image unavailable\n",
      "bone-penn-590\n",
      "Does this patient have T2 available? True\n",
      "I'm doing the thing.\n",
      "bone-penn-542\n",
      "Does this patient have T2 available? True\n",
      "I'm doing the thing.\n"
     ]
    },
    {
     "name": "stderr",
     "output_type": "stream",
     "text": [
      "\r",
      " 34%|███▍      | 244/710 [00:22<00:29, 15.82it/s]"
     ]
    },
    {
     "name": "stderr",
     "output_type": "stream",
     "text": [
      "\r",
      " 35%|███▍      | 246/710 [00:22<00:30, 15.43it/s]"
     ]
    },
    {
     "name": "stdout",
     "output_type": "stream",
     "text": [
      "bone-penn-325\n",
      "Does this patient have T2 available? True\n",
      "T2 image unavailable\n",
      "bone-penn-480\n",
      "Does this patient have T2 available? True\n",
      "I'm doing the thing.\n",
      "bone-china-171\n",
      "Does this patient have T2 available? True\n",
      "I'm doing the thing.\n",
      "bone-penn-369\n",
      "Does this patient have T2 available? True\n",
      "I'm doing the thing.\n",
      "bone-penn-105\n",
      "Does this patient have T2 available? True\n",
      "I'm doing the thing.\n"
     ]
    },
    {
     "name": "stderr",
     "output_type": "stream",
     "text": [
      "\r",
      " 35%|███▍      | 248/710 [00:22<00:33, 13.82it/s]"
     ]
    },
    {
     "name": "stdout",
     "output_type": "stream",
     "text": [
      "bone-penn-487\n",
      "Does this patient have T2 available? True\n",
      "I'm doing the thing.\n"
     ]
    },
    {
     "name": "stderr",
     "output_type": "stream",
     "text": [
      "\r",
      " 35%|███▌      | 250/710 [00:23<00:51,  8.93it/s]"
     ]
    },
    {
     "name": "stdout",
     "output_type": "stream",
     "text": [
      "bone-hup-267\n",
      "Does this patient have T2 available? True\n",
      "I'm doing the thing.\n",
      "bone-china-153\n",
      "Does this patient have T2 available? True\n",
      "I'm doing the thing.\n",
      "bone-penn-89\n",
      "Does this patient have T2 available? False\n",
      "T2 image unavailable\n",
      "bone-penn-532\n",
      "Does this patient have T2 available? True\n",
      "I'm doing the thing.\n"
     ]
    },
    {
     "name": "stderr",
     "output_type": "stream",
     "text": [
      "\r",
      " 36%|███▌      | 253/710 [00:23<00:41, 11.03it/s]"
     ]
    },
    {
     "name": "stdout",
     "output_type": "stream",
     "text": [
      "bone-hup-129\n",
      "Does this patient have T2 available? True\n",
      "I'm doing the thing.\n"
     ]
    },
    {
     "name": "stderr",
     "output_type": "stream",
     "text": [
      "\r",
      " 36%|███▌      | 255/710 [00:23<00:54,  8.30it/s]"
     ]
    },
    {
     "name": "stdout",
     "output_type": "stream",
     "text": [
      "bone-penn-452\n",
      "Does this patient have T2 available? True\n",
      "I'm doing the thing.\n",
      "bone-penn-321\n",
      "Does this patient have T2 available? False\n",
      "T2 image unavailable\n",
      "bone-china-144\n",
      "Does this patient have T2 available? True\n",
      "I'm doing the thing.\n",
      "bone-penn-489\n",
      "Does this patient have T2 available? True\n",
      "I'm doing the thing.\n"
     ]
    },
    {
     "name": "stderr",
     "output_type": "stream",
     "text": [
      "\r",
      " 36%|███▋      | 258/710 [00:23<00:46,  9.66it/s]"
     ]
    },
    {
     "name": "stderr",
     "output_type": "stream",
     "text": [
      "\r",
      " 37%|███▋      | 260/710 [00:24<00:42, 10.59it/s]"
     ]
    },
    {
     "name": "stdout",
     "output_type": "stream",
     "text": [
      "bone-penn-332\n",
      "Does this patient have T2 available? True\n",
      "I'm doing the thing.\n",
      "bone-hup-121\n",
      "Does this patient have T2 available? False\n",
      "T2 image unavailable\n",
      "bone-penn-106\n",
      "Does this patient have T2 available? True\n",
      "I'm doing the thing.\n"
     ]
    },
    {
     "name": "stderr",
     "output_type": "stream",
     "text": [
      "\r",
      " 37%|███▋      | 262/710 [00:24<00:38, 11.62it/s]"
     ]
    },
    {
     "name": "stdout",
     "output_type": "stream",
     "text": [
      "bone-penn-114\n",
      "Does this patient have T2 available? False\n",
      "T2 image unavailable\n",
      "bone-china-127\n",
      "Does this patient have T2 available? True\n",
      "I'm doing the thing.\n",
      "bone-penn-397\n",
      "Does this patient have T2 available? True\n",
      "I'm doing the thing.\n"
     ]
    },
    {
     "name": "stderr",
     "output_type": "stream",
     "text": [
      "\r",
      " 37%|███▋      | 264/710 [00:24<00:46,  9.64it/s]"
     ]
    },
    {
     "name": "stdout",
     "output_type": "stream",
     "text": [
      "bone-penn-279\n",
      "Does this patient have T2 available? True\n",
      "I'm doing the thing.\n"
     ]
    },
    {
     "name": "stderr",
     "output_type": "stream",
     "text": [
      "\r",
      " 37%|███▋      | 266/710 [00:24<00:53,  8.33it/s]"
     ]
    },
    {
     "name": "stdout",
     "output_type": "stream",
     "text": [
      "bone-china-154\n",
      "Does this patient have T2 available? True\n",
      "I'm doing the thing.\n",
      "bone-china-160\n",
      "Does this patient have T2 available? True\n",
      "I'm doing the thing.\n",
      "bone-penn-484\n",
      "Does this patient have T2 available? True\n",
      "I'm doing the thing.\n"
     ]
    },
    {
     "name": "stderr",
     "output_type": "stream",
     "text": [
      "\r",
      " 38%|███▊      | 268/710 [00:25<00:49,  8.98it/s]"
     ]
    },
    {
     "name": "stdout",
     "output_type": "stream",
     "text": [
      "bone-china-162\n",
      "Does this patient have T2 available? True\n",
      "I'm doing the thing.\n",
      "bone-penn-496\n",
      "Does this patient have T2 available? True\n",
      "I'm doing the thing.\n"
     ]
    },
    {
     "name": "stderr",
     "output_type": "stream",
     "text": [
      "\r",
      " 38%|███▊      | 270/710 [00:25<00:54,  8.14it/s]"
     ]
    },
    {
     "name": "stderr",
     "output_type": "stream",
     "text": [
      "\r",
      " 38%|███▊      | 272/710 [00:25<00:46,  9.42it/s]"
     ]
    },
    {
     "name": "stdout",
     "output_type": "stream",
     "text": [
      "bone-penn-88\n",
      "Does this patient have T2 available? False\n",
      "T2 image unavailable\n",
      "bone-penn-587\n",
      "Does this patient have T2 available? True\n",
      "I'm doing the thing.\n",
      "bone-penn-334\n",
      "Does this patient have T2 available? True\n",
      "I'm doing the thing.\n"
     ]
    },
    {
     "name": "stderr",
     "output_type": "stream",
     "text": [
      "\r",
      " 39%|███▊      | 274/710 [00:25<00:54,  7.99it/s]"
     ]
    },
    {
     "name": "stdout",
     "output_type": "stream",
     "text": [
      "bone-penn-630\n",
      "Does this patient have T2 available? True\n",
      "I'm doing the thing.\n",
      "bone-china-173\n",
      "Does this patient have T2 available? True\n",
      "I'm doing the thing.\n",
      "bone-penn-109\n",
      "Does this patient have T2 available? True\n",
      "I'm doing the thing.\n",
      "bone-china-159\n",
      "Does this patient have T2 available? True\n",
      "I'm doing the thing.\n"
     ]
    },
    {
     "name": "stderr",
     "output_type": "stream",
     "text": [
      "\r",
      " 39%|███▉      | 277/710 [00:25<00:44,  9.75it/s]"
     ]
    },
    {
     "name": "stderr",
     "output_type": "stream",
     "text": [
      "\r",
      " 39%|███▉      | 279/710 [00:26<00:40, 10.63it/s]"
     ]
    },
    {
     "name": "stdout",
     "output_type": "stream",
     "text": [
      "bone-penn-95\n",
      "Does this patient have T2 available? True\n",
      "I'm doing the thing.\n",
      "bone-china-104\n",
      "Does this patient have T2 available? True\n",
      "I'm doing the thing.\n",
      "bone-china-103\n",
      "Does this patient have T2 available? True\n",
      "I'm doing the thing.\n",
      "bone-china-172\n",
      "Does this patient have T2 available? True\n",
      "T2 image unavailable\n",
      "bone-penn-545\n",
      "Does this patient have T2 available? False\n",
      "T2 image unavailable\n",
      "bone-penn-521\n",
      "Does this patient have T2 available? True\n",
      "I'm doing the thing.\n"
     ]
    },
    {
     "name": "stderr",
     "output_type": "stream",
     "text": [
      "\r",
      " 40%|███▉      | 283/710 [00:26<00:41, 10.30it/s]"
     ]
    },
    {
     "name": "stdout",
     "output_type": "stream",
     "text": [
      "bone-penn-517\n",
      "Does this patient have T2 available? True\n",
      "I'm doing the thing.\n",
      "bone-penn-482\n",
      "Does this patient have T2 available? True\n",
      "I'm doing the thing.\n"
     ]
    },
    {
     "name": "stderr",
     "output_type": "stream",
     "text": [
      "\r",
      " 40%|████      | 285/710 [00:26<01:00,  6.99it/s]"
     ]
    },
    {
     "name": "stderr",
     "output_type": "stream",
     "text": [
      "\r",
      " 40%|████      | 286/710 [00:27<01:04,  6.57it/s]"
     ]
    },
    {
     "name": "stdout",
     "output_type": "stream",
     "text": [
      "bone-penn-575\n",
      "Does this patient have T2 available? True\n",
      "I'm doing the thing.\n",
      "bone-penn-536\n",
      "Does this patient have T2 available? True\n",
      "I'm doing the thing.\n"
     ]
    },
    {
     "name": "stderr",
     "output_type": "stream",
     "text": [
      "\r",
      " 40%|████      | 287/710 [00:27<01:04,  6.56it/s]"
     ]
    },
    {
     "name": "stderr",
     "output_type": "stream",
     "text": [
      "\r",
      " 41%|████      | 288/710 [00:27<00:59,  7.10it/s]"
     ]
    },
    {
     "name": "stdout",
     "output_type": "stream",
     "text": [
      "bone-penn-101\n",
      "Does this patient have T2 available? True\n",
      "I'm doing the thing.\n",
      "bone-penn-385\n",
      "Does this patient have T2 available? True\n",
      "I'm doing the thing.\n"
     ]
    },
    {
     "name": "stderr",
     "output_type": "stream",
     "text": [
      "\r",
      " 41%|████      | 289/710 [00:27<01:11,  5.92it/s]"
     ]
    },
    {
     "name": "stderr",
     "output_type": "stream",
     "text": [
      "\r",
      " 41%|████      | 291/710 [00:27<00:56,  7.46it/s]"
     ]
    },
    {
     "name": "stdout",
     "output_type": "stream",
     "text": [
      "bone-penn-94\n",
      "Does this patient have T2 available? True\n",
      "I'm doing the thing.\n",
      "bone-penn-593\n",
      "Does this patient have T2 available? True\n",
      "I'm doing the thing.\n",
      "bone-penn-294\n",
      "Does this patient have T2 available? False\n",
      "T2 image unavailable\n",
      "bone-china-120\n",
      "Does this patient have T2 available? True\n",
      "I'm doing the thing.\n",
      "bone-penn-81\n",
      "Does this patient have T2 available? True\n",
      "I'm doing the thing.\n"
     ]
    },
    {
     "name": "stderr",
     "output_type": "stream",
     "text": [
      "\r",
      " 41%|████▏     | 294/710 [00:27<00:43,  9.59it/s]"
     ]
    },
    {
     "name": "stderr",
     "output_type": "stream",
     "text": [
      "\r",
      " 42%|████▏     | 296/710 [00:28<00:42,  9.76it/s]"
     ]
    },
    {
     "name": "stdout",
     "output_type": "stream",
     "text": [
      "bone-penn-589\n",
      "Does this patient have T2 available? True\n",
      "I'm doing the thing.\n",
      "bone-penn-346\n",
      "Does this patient have T2 available? True\n",
      "I'm doing the thing.\n",
      "bone-china-098\n",
      "Does this patient have T2 available? True\n",
      "T2 image unavailable\n",
      "bone-china-114\n",
      "Does this patient have T2 available? True\n",
      "I'm doing the thing.\n"
     ]
    },
    {
     "name": "stdout",
     "output_type": "stream",
     "text": [
      "bone-penn-577\n",
      "Does this patient have T2 available? True\n",
      "I'm doing the thing.\n"
     ]
    },
    {
     "name": "stderr",
     "output_type": "stream",
     "text": [
      "\r",
      " 42%|████▏     | 299/710 [00:28<00:41,  9.89it/s]"
     ]
    },
    {
     "name": "stdout",
     "output_type": "stream",
     "text": [
      "bone-penn-84\n",
      "Does this patient have T2 available? True\n",
      "I'm doing the thing.\n",
      "bone-penn-87\n",
      "Does this patient have T2 available? True\n",
      "I'm doing the thing.\n"
     ]
    },
    {
     "name": "stderr",
     "output_type": "stream",
     "text": [
      "\r",
      " 42%|████▏     | 301/710 [00:28<00:49,  8.26it/s]"
     ]
    },
    {
     "name": "stderr",
     "output_type": "stream",
     "text": [
      "\r",
      " 43%|████▎     | 307/710 [00:28<00:37, 10.70it/s]"
     ]
    },
    {
     "name": "stdout",
     "output_type": "stream",
     "text": [
      "bone-penn-619\n",
      "Does this patient have T2 available? True\n",
      "T2 image unavailable\n",
      "bone-china-096\n",
      "Does this patient have T2 available? True\n",
      "T2 image unavailable\n",
      "bone-china-152\n",
      "Does this patient have T2 available? True\n",
      "I'm doing the thing.\n",
      "bone-china-111\n",
      "Does this patient have T2 available? True\n",
      "T2 image unavailable\n",
      "bone-penn-570\n",
      "Does this patient have T2 available? False\n",
      "T2 image unavailable\n",
      "bone-penn-522\n",
      "Does this patient have T2 available? True\n",
      "I'm doing the thing.\n",
      "bone-china-117\n",
      "Does this patient have T2 available? True\n",
      "I'm doing the thing.\n"
     ]
    },
    {
     "name": "stderr",
     "output_type": "stream",
     "text": [
      "\r",
      " 44%|████▎     | 310/710 [00:29<00:31, 12.52it/s]"
     ]
    },
    {
     "name": "stdout",
     "output_type": "stream",
     "text": [
      "bone-china-168\n",
      "Does this patient have T2 available? True\n",
      "I'm doing the thing.\n",
      "bone-china-123\n",
      "Does this patient have T2 available? True\n",
      "I'm doing the thing.\n",
      "bone-hup-123\n",
      "Does this patient have T2 available? True\n",
      "I'm doing the thing.\n"
     ]
    },
    {
     "name": "stderr",
     "output_type": "stream",
     "text": [
      "\r",
      " 44%|████▍     | 312/710 [00:29<00:33, 11.85it/s]"
     ]
    },
    {
     "name": "stderr",
     "output_type": "stream",
     "text": [
      "\r",
      " 44%|████▍     | 314/710 [00:29<00:29, 13.41it/s]"
     ]
    },
    {
     "name": "stdout",
     "output_type": "stream",
     "text": [
      "bone-china-121\n",
      "Does this patient have T2 available? True\n",
      "I'm doing the thing.\n",
      "bone-penn-288\n",
      "Does this patient have T2 available? False\n",
      "T2 image unavailable\n",
      "bone-penn-299\n",
      "Does this patient have T2 available? True\n",
      "I'm doing the thing.\n",
      "bone-china-146\n",
      "Does this patient have T2 available? True\n",
      "I'm doing the thing.\n"
     ]
    },
    {
     "name": "stderr",
     "output_type": "stream",
     "text": [
      "\r",
      " 45%|████▍     | 316/710 [00:29<00:29, 13.56it/s]"
     ]
    },
    {
     "name": "stderr",
     "output_type": "stream",
     "text": [
      "\r",
      " 45%|████▍     | 318/710 [00:29<00:27, 14.25it/s]"
     ]
    },
    {
     "name": "stdout",
     "output_type": "stream",
     "text": [
      "bone-china-126\n",
      "Does this patient have T2 available? True\n",
      "I'm doing the thing.\n",
      "bone-china-133\n",
      "Does this patient have T2 available? True\n",
      "I'm doing the thing.\n",
      "bone-china-139\n",
      "Does this patient have T2 available? True\n",
      "I'm doing the thing.\n",
      "bone-china-132\n",
      "Does this patient have T2 available? True\n",
      "I'm doing the thing.\n"
     ]
    },
    {
     "name": "stderr",
     "output_type": "stream",
     "text": [
      "\r",
      " 45%|████▌     | 320/710 [00:29<00:30, 12.61it/s]"
     ]
    },
    {
     "name": "stdout",
     "output_type": "stream",
     "text": [
      "bone-hup-158\n",
      "Does this patient have T2 available? True\n",
      "I'm doing the thing.\n",
      "bone-penn-96\n",
      "Does this patient have T2 available? True\n",
      "I'm doing the thing.\n"
     ]
    },
    {
     "name": "stdout",
     "output_type": "stream",
     "text": [
      "bone-penn-576\n",
      "Does this patient have T2 available? True\n",
      "I'm doing the thing.\n"
     ]
    },
    {
     "name": "stderr",
     "output_type": "stream",
     "text": [
      "\r",
      " 45%|████▌     | 322/710 [00:30<00:52,  7.44it/s]"
     ]
    },
    {
     "name": "stdout",
     "output_type": "stream",
     "text": [
      "bone-penn-110\n",
      "Does this patient have T2 available? True\n",
      "I'm doing the thing.\n",
      "bone-penn-83\n",
      "Does this patient have T2 available? True\n",
      "I'm doing the thing.\n"
     ]
    },
    {
     "name": "stderr",
     "output_type": "stream",
     "text": [
      "\r",
      " 46%|████▌     | 324/710 [00:30<00:54,  7.10it/s]"
     ]
    },
    {
     "name": "stderr",
     "output_type": "stream",
     "text": [
      "\r",
      " 46%|████▌     | 327/710 [00:30<00:43,  8.81it/s]"
     ]
    },
    {
     "name": "stdout",
     "output_type": "stream",
     "text": [
      "bone-penn-276\n",
      "Does this patient have T2 available? True\n",
      "T2 image unavailable\n",
      "bone-china-131\n",
      "Does this patient have T2 available? True\n",
      "I'm doing the thing.\n",
      "bone-penn-446\n",
      "Does this patient have T2 available? True\n",
      "I'm doing the thing.\n",
      "bone-penn-583\n",
      "Does this patient have T2 available? True\n",
      "I'm doing the thing.\n",
      "bone-penn-277\n",
      "Does this patient have T2 available? True\n",
      "I'm doing the thing.\n"
     ]
    },
    {
     "name": "stderr",
     "output_type": "stream",
     "text": [
      "\r",
      " 46%|████▋     | 329/710 [00:31<00:45,  8.30it/s]"
     ]
    },
    {
     "name": "stderr",
     "output_type": "stream",
     "text": [
      "\r",
      " 47%|████▋     | 331/710 [00:31<00:42,  8.82it/s]"
     ]
    },
    {
     "name": "stdout",
     "output_type": "stream",
     "text": [
      "bone-penn-327\n",
      "Does this patient have T2 available? True\n",
      "T2 image unavailable\n",
      "bone-penn-453\n",
      "Does this patient have T2 available? True\n",
      "I'm doing the thing.\n",
      "bone-penn-571\n",
      "Does this patient have T2 available? True\n",
      "I'm doing the thing.\n"
     ]
    },
    {
     "name": "stderr",
     "output_type": "stream",
     "text": [
      "\r",
      " 47%|████▋     | 333/710 [00:31<00:38,  9.72it/s]"
     ]
    },
    {
     "name": "stderr",
     "output_type": "stream",
     "text": [
      "\r",
      " 47%|████▋     | 335/710 [00:31<00:35, 10.63it/s]"
     ]
    },
    {
     "name": "stdout",
     "output_type": "stream",
     "text": [
      "bone-penn-92\n",
      "Does this patient have T2 available? True\n",
      "T2 image unavailable\n",
      "bone-china-174\n",
      "Does this patient have T2 available? True\n",
      "I'm doing the thing.\n",
      "bone-penn-541\n",
      "Does this patient have T2 available? True\n",
      "I'm doing the thing.\n",
      "bone-hup-30\n",
      "Does this patient have T2 available? False\n",
      "T2 image unavailable\n",
      "bone-penn-515\n",
      "Does this patient have T2 available? True\n",
      "I'm doing the thing.\n"
     ]
    },
    {
     "name": "stderr",
     "output_type": "stream",
     "text": [
      "\r",
      " 47%|████▋     | 337/710 [00:31<00:34, 10.88it/s]"
     ]
    },
    {
     "name": "stdout",
     "output_type": "stream",
     "text": [
      "bone-penn-313\n",
      "Does this patient have T2 available? True\n",
      "I'm doing the thing.\n",
      "bone-hup-154\n",
      "Does this patient have T2 available? True\n",
      "I'm doing the thing.\n"
     ]
    },
    {
     "name": "stderr",
     "output_type": "stream",
     "text": [
      "\r",
      " 48%|████▊     | 339/710 [00:32<00:40,  9.19it/s]"
     ]
    },
    {
     "name": "stdout",
     "output_type": "stream",
     "text": [
      "bone-hup-152\n",
      "Does this patient have T2 available? True\n",
      "I'm doing the thing.\n",
      "bone-hup-126\n",
      "Does this patient have T2 available? True\n",
      "I'm doing the thing.\n"
     ]
    },
    {
     "name": "stderr",
     "output_type": "stream",
     "text": [
      "\r",
      " 48%|████▊     | 341/710 [00:32<00:43,  8.42it/s]"
     ]
    },
    {
     "name": "stderr",
     "output_type": "stream",
     "text": [
      "\r",
      " 48%|████▊     | 343/710 [00:32<00:39,  9.37it/s]"
     ]
    },
    {
     "name": "stdout",
     "output_type": "stream",
     "text": [
      "bone-penn-492\n",
      "Does this patient have T2 available? True\n",
      "I'm doing the thing.\n",
      "bone-china-113\n",
      "Does this patient have T2 available? True\n",
      "I'm doing the thing.\n",
      "bone-china-128\n",
      "Does this patient have T2 available? True\n",
      "I'm doing the thing.\n"
     ]
    },
    {
     "name": "stderr",
     "output_type": "stream",
     "text": [
      "\r",
      " 49%|████▊     | 345/710 [00:32<00:34, 10.61it/s]"
     ]
    },
    {
     "name": "stdout",
     "output_type": "stream",
     "text": [
      "bone-penn-585\n",
      "Does this patient have T2 available? True\n",
      "I'm doing the thing.\n",
      "bone-penn-297\n",
      "Does this patient have T2 available? True\n",
      "I'm doing the thing.\n",
      "bone-penn-518\n",
      "Does this patient have T2 available? True\n",
      "I'm doing the thing.\n"
     ]
    },
    {
     "name": "stderr",
     "output_type": "stream",
     "text": [
      "\r",
      " 49%|████▉     | 347/710 [00:32<00:36, 10.03it/s]"
     ]
    },
    {
     "name": "stdout",
     "output_type": "stream",
     "text": [
      "bone-penn-529\n",
      "Does this patient have T2 available? True\n",
      "I'm doing the thing.\n",
      "bone-penn-392\n",
      "Does this patient have T2 available? True\n",
      "I'm doing the thing.\n"
     ]
    },
    {
     "name": "stderr",
     "output_type": "stream",
     "text": [
      "\r",
      " 49%|████▉     | 349/710 [00:33<00:45,  8.01it/s]"
     ]
    },
    {
     "name": "stdout",
     "output_type": "stream",
     "text": [
      "bone-penn-403\n",
      "Does this patient have T2 available? True\n",
      "I'm doing the thing.\n",
      "bone-penn-99\n",
      "Does this patient have T2 available? True\n",
      "I'm doing the thing.\n"
     ]
    },
    {
     "name": "stderr",
     "output_type": "stream",
     "text": [
      "\r",
      " 49%|████▉     | 351/710 [00:33<00:42,  8.37it/s]"
     ]
    },
    {
     "name": "stdout",
     "output_type": "stream",
     "text": [
      "bone-penn-275\n",
      "Does this patient have T2 available? True\n",
      "I'm doing the thing.\n",
      "bone-penn-396\n",
      "Does this patient have T2 available? True\n",
      "I'm doing the thing.\n"
     ]
    },
    {
     "name": "stderr",
     "output_type": "stream",
     "text": [
      "\r",
      " 50%|████▉     | 353/710 [00:33<00:45,  7.78it/s]"
     ]
    },
    {
     "name": "stderr",
     "output_type": "stream",
     "text": [
      "\r",
      " 50%|█████     | 355/710 [00:33<00:40,  8.85it/s]"
     ]
    },
    {
     "name": "stdout",
     "output_type": "stream",
     "text": [
      "bone-china-118\n",
      "Does this patient have T2 available? True\n",
      "I'm doing the thing.\n",
      "bone-penn-406\n",
      "Does this patient have T2 available? True\n",
      "I'm doing the thing.\n",
      "\n",
      "################################################################################\n",
      "Exception occurred for: outcome_pos   0.000\n",
      "outcome_neg   1.000\n",
      "outcome_3     1.000\n",
      "sort              -\n",
      "volume        0.140\n",
      "Name: bone-penn-406, dtype: object\n",
      "index 192 is out of bounds for axis 0 with size 2\n",
      "T2 image unavailable\n",
      "Traceback (most recent call last):\n",
      "  File \"/home/user1/Documents/Bone-MRI/data_gen.py\", line 392, in generate_from_features\n",
      "    t2_masked = load_image(t2_image_file, t2_seg_file, verbose=verbose)\n",
      "  File \"/home/user1/Documents/Bone-MRI/data_gen.py\", line 331, in load_image\n",
      "    return [mask_image_percentile(image, segmentation, 100, a) for a in (0, 1, 2)]\n",
      "  File \"/home/user1/Documents/Bone-MRI/data_gen.py\", line 331, in <listcomp>\n",
      "    return [mask_image_percentile(image, segmentation, 100, a) for a in (0, 1, 2)]\n",
      "  File \"/home/user1/Documents/Bone-MRI/data_gen.py\", line 335, in mask_image_percentile\n",
      "    image, segmentation = select_slice(image, segmentation, plane, axis)\n",
      "  File \"/home/user1/Documents/Bone-MRI/segmentation.py\", line 40, in select_slice\n",
      "    image = axis_plane[axis](image, plane)\n",
      "  File \"/home/user1/Documents/Bone-MRI/segmentation.py\", line 13, in <lambda>\n",
      "    0: lambda image, plane : image[plane, :, :],\n",
      "IndexError: index 192 is out of bounds for axis 0 with size 2\n",
      "\n",
      "bone-hup-119\n",
      "Does this patient have T2 available? True\n",
      "I'm doing the thing.\n"
     ]
    },
    {
     "name": "stderr",
     "output_type": "stream",
     "text": [
      "\r",
      " 51%|█████     | 359/710 [00:33<00:31, 11.16it/s]"
     ]
    },
    {
     "name": "stderr",
     "output_type": "stream",
     "text": [
      "\r",
      " 51%|█████     | 361/710 [00:34<00:27, 12.66it/s]"
     ]
    },
    {
     "name": "stdout",
     "output_type": "stream",
     "text": [
      "bone-penn-534\n",
      "Does this patient have T2 available? False\n",
      "T2 image unavailable\n",
      "bone-penn-121\n",
      "Does this patient have T2 available? False\n",
      "T2 image unavailable\n",
      "bone-china-151\n",
      "Does this patient have T2 available? True\n",
      "I'm doing the thing.\n",
      "bone-china-105\n",
      "Does this patient have T2 available? True\n",
      "I'm doing the thing.\n",
      "bone-china-170\n",
      "Does this patient have T2 available? True\n",
      "I'm doing the thing.\n",
      "bone-penn-478\n",
      "Does this patient have T2 available? True\n",
      "I'm doing the thing.\n"
     ]
    },
    {
     "name": "stderr",
     "output_type": "stream",
     "text": [
      "\r",
      " 51%|█████     | 363/710 [00:34<00:30, 11.33it/s]"
     ]
    },
    {
     "name": "stderr",
     "output_type": "stream",
     "text": [
      "\r",
      " 51%|█████▏    | 365/710 [00:34<00:27, 12.58it/s]"
     ]
    },
    {
     "name": "stdout",
     "output_type": "stream",
     "text": [
      "bone-china-115\n",
      "Does this patient have T2 available? True\n",
      "I'm doing the thing.\n",
      "bone-penn-286\n",
      "Does this patient have T2 available? True\n",
      "I'm doing the thing.\n",
      "bone-china-149\n",
      "Does this patient have T2 available? True\n",
      "I'm doing the thing.\n",
      "bone-china-107\n",
      "Does this patient have T2 available? True\n",
      "I'm doing the thing.\n"
     ]
    },
    {
     "name": "stderr",
     "output_type": "stream",
     "text": [
      "\r",
      " 52%|█████▏    | 367/710 [00:34<00:30, 11.18it/s]"
     ]
    },
    {
     "name": "stdout",
     "output_type": "stream",
     "text": [
      "bone-penn-330\n",
      "Does this patient have T2 available? True\n",
      "I'm doing the thing.\n",
      "bone-china-101\n",
      "Does this patient have T2 available? True\n",
      "I'm doing the thing.\n"
     ]
    },
    {
     "name": "stderr",
     "output_type": "stream",
     "text": [
      "\r",
      " 52%|█████▏    | 370/710 [00:34<00:25, 13.31it/s]"
     ]
    },
    {
     "name": "stderr",
     "output_type": "stream",
     "text": [
      "\r",
      " 52%|█████▏    | 372/710 [00:34<00:23, 14.68it/s]"
     ]
    },
    {
     "name": "stdout",
     "output_type": "stream",
     "text": [
      "bone-china-167\n",
      "Does this patient have T2 available? True\n",
      "I'm doing the thing.\n",
      "bone-china-092\n",
      "Does this patient have T2 available? True\n",
      "I'm doing the thing.\n",
      "bone-penn-93\n",
      "Does this patient have T2 available? True\n",
      "I'm doing the thing.\n",
      "bone-china-135\n",
      "Does this patient have T2 available? True\n",
      "I'm doing the thing.\n",
      "bone-penn-516\n",
      "Does this patient have T2 available? True\n",
      "I'm doing the thing.\n"
     ]
    },
    {
     "name": "stderr",
     "output_type": "stream",
     "text": [
      "\r",
      " 53%|█████▎    | 374/710 [00:35<00:25, 12.94it/s]"
     ]
    },
    {
     "name": "stderr",
     "output_type": "stream",
     "text": [
      "\r",
      " 53%|█████▎    | 376/710 [00:35<00:24, 13.70it/s]"
     ]
    },
    {
     "name": "stdout",
     "output_type": "stream",
     "text": [
      "bone-penn-498\n",
      "Does this patient have T2 available? True\n",
      "I'm doing the thing.\n",
      "bone-hup-136\n",
      "Does this patient have T2 available? True\n",
      "I'm doing the thing.\n",
      "bone-penn-584\n",
      "Does this patient have T2 available? True\n",
      "I'm doing the thing.\n",
      "\n",
      "################################################################################\n",
      "Exception occurred for: outcome_pos   0.000\n",
      "outcome_neg   1.000\n",
      "outcome_3     1.000\n",
      "sort              -\n",
      "volume        0.145\n",
      "Name: bone-penn-584, dtype: object\n",
      "operands could not be broadcast together with shapes (255,20) (318,20) \n",
      "T2 image unavailable\n",
      "Traceback (most recent call last):\n",
      "  File \"/home/user1/Documents/Bone-MRI/data_gen.py\", line 392, in generate_from_features\n",
      "    t2_masked = load_image(t2_image_file, t2_seg_file, verbose=verbose)\n",
      "  File \"/home/user1/Documents/Bone-MRI/data_gen.py\", line 331, in load_image\n",
      "    return [mask_image_percentile(image, segmentation, 100, a) for a in (0, 1, 2)]\n",
      "  File \"/home/user1/Documents/Bone-MRI/data_gen.py\", line 331, in <listcomp>\n",
      "    return [mask_image_percentile(image, segmentation, 100, a) for a in (0, 1, 2)]\n",
      "  File \"/home/user1/Documents/Bone-MRI/data_gen.py\", line 340, in mask_image_percentile\n",
      "    masked = image * segmentation\n",
      "ValueError: operands could not be broadcast together with shapes (255,20) (318,20) \n",
      "\n",
      "bone-penn-280\n",
      "Does this patient have T2 available? True\n",
      "I'm doing the thing.\n"
     ]
    },
    {
     "name": "stderr",
     "output_type": "stream",
     "text": [
      "\r",
      " 54%|█████▎    | 380/710 [00:35<00:21, 15.69it/s]"
     ]
    },
    {
     "name": "stdout",
     "output_type": "stream",
     "text": [
      "bone-china-216\n",
      "Does this patient have T2 available? True\n",
      "I'm doing the thing.\n",
      "bone-hup-241\n",
      "Does this patient have T2 available? False\n",
      "T2 image unavailable\n",
      "bone-hup-65\n",
      "Does this patient have T2 available? True\n",
      "I'm doing the thing.\n",
      "bone-hup-218\n",
      "Does this patient have T2 available? False\n",
      "T2 image unavailable\n",
      "bone-penn-162\n",
      "Does this patient have T2 available? True\n",
      "I'm doing the thing.\n"
     ]
    },
    {
     "name": "stderr",
     "output_type": "stream",
     "text": [
      "\r",
      " 54%|█████▍    | 382/710 [00:35<00:21, 15.16it/s]"
     ]
    },
    {
     "name": "stdout",
     "output_type": "stream",
     "text": [
      "bone-china-177\n",
      "Does this patient have T2 available? True\n",
      "I'm doing the thing.\n",
      "bone-penn-645\n",
      "Does this patient have T2 available? True\n",
      "I'm doing the thing.\n"
     ]
    },
    {
     "name": "stderr",
     "output_type": "stream",
     "text": [
      "\r",
      " 54%|█████▍    | 384/710 [00:35<00:25, 12.96it/s]"
     ]
    },
    {
     "name": "stderr",
     "output_type": "stream",
     "text": [
      "\r",
      " 54%|█████▍    | 386/710 [00:35<00:25, 12.68it/s]"
     ]
    },
    {
     "name": "stdout",
     "output_type": "stream",
     "text": [
      "bone-penn-212\n",
      "Does this patient have T2 available? False\n",
      "T2 image unavailable\n",
      "bone-penn-314\n",
      "Does this patient have T2 available? True\n",
      "I'm doing the thing.\n",
      "bone-penn-507\n",
      "Does this patient have T2 available? True\n",
      "T2 image unavailable\n",
      "bone-hup-248\n",
      "Does this patient have T2 available? True\n",
      "I'm doing the thing.\n"
     ]
    },
    {
     "name": "stderr",
     "output_type": "stream",
     "text": [
      "\r",
      " 55%|█████▍    | 389/710 [00:36<00:22, 14.20it/s]"
     ]
    },
    {
     "name": "stdout",
     "output_type": "stream",
     "text": [
      "bone-hup-72\n",
      "Does this patient have T2 available? True\n",
      "I'm doing the thing.\n",
      "bone-penn-187\n",
      "Does this patient have T2 available? True\n",
      "I'm doing the thing.\n",
      "bone-penn-608\n",
      "Does this patient have T2 available? True\n",
      "I'm doing the thing.\n"
     ]
    },
    {
     "name": "stderr",
     "output_type": "stream",
     "text": [
      "\r",
      " 55%|█████▌    | 391/710 [00:36<00:22, 14.00it/s]"
     ]
    },
    {
     "name": "stderr",
     "output_type": "stream",
     "text": [
      "\r",
      " 55%|█████▌    | 394/710 [00:36<00:21, 14.86it/s]"
     ]
    },
    {
     "name": "stdout",
     "output_type": "stream",
     "text": [
      "bone-penn-161\n",
      "Does this patient have T2 available? True\n",
      "I'm doing the thing.\n",
      "bone-hup-199\n",
      "Does this patient have T2 available? True\n",
      "T2 image unavailable\n",
      "bone-penn-467\n",
      "Does this patient have T2 available? True\n",
      "I'm doing the thing.\n",
      "bone-penn-463\n",
      "Does this patient have T2 available? True\n",
      "I'm doing the thing.\n"
     ]
    },
    {
     "name": "stderr",
     "output_type": "stream",
     "text": [
      "\r",
      " 56%|█████▌    | 396/710 [00:36<00:21, 14.89it/s]"
     ]
    },
    {
     "name": "stderr",
     "output_type": "stream",
     "text": [
      "\r",
      " 56%|█████▌    | 398/710 [00:36<00:20, 15.51it/s]"
     ]
    },
    {
     "name": "stdout",
     "output_type": "stream",
     "text": [
      "bone-penn-160\n",
      "Does this patient have T2 available? True\n",
      "I'm doing the thing.\n",
      "bone-penn-390\n",
      "Does this patient have T2 available? True\n",
      "I'm doing the thing.\n",
      "bone-penn-204\n",
      "Does this patient have T2 available? False\n",
      "T2 image unavailable\n",
      "bone-hup-77\n",
      "Does this patient have T2 available? True\n",
      "I'm doing the thing.\n",
      "bone-china-190\n",
      "Does this patient have T2 available? True\n",
      "I'm doing the thing.\n"
     ]
    },
    {
     "name": "stdout",
     "output_type": "stream",
     "text": [
      "bone-hup-189\n",
      "Does this patient have T2 available? True\n",
      "T2 image unavailable\n",
      "bone-hup-235\n",
      "Does this patient have T2 available? True\n",
      "T2 image unavailable\n",
      "bone-penn-461\n",
      "Does this patient have T2 available? True\n",
      "I'm doing the thing.\n"
     ]
    },
    {
     "name": "stderr",
     "output_type": "stream",
     "text": [
      "\r",
      " 57%|█████▋    | 403/710 [00:36<00:19, 15.63it/s]"
     ]
    },
    {
     "name": "stdout",
     "output_type": "stream",
     "text": [
      "bone-hup-247\n",
      "Does this patient have T2 available? True\n",
      "T2 image unavailable\n",
      "bone-china-211\n",
      "Does this patient have T2 available? True\n",
      "I'm doing the thing.\n",
      "bone-penn-250\n",
      "Does this patient have T2 available? True\n",
      "I'm doing the thing.\n"
     ]
    },
    {
     "name": "stderr",
     "output_type": "stream",
     "text": [
      "\r",
      " 57%|█████▋    | 406/710 [00:37<00:22, 13.81it/s]"
     ]
    },
    {
     "name": "stdout",
     "output_type": "stream",
     "text": [
      "\n",
      "################################################################################\n",
      "Exception occurred for: outcome_pos   1.000\n",
      "outcome_neg   1.000\n",
      "outcome_3     2.000\n",
      "sort              -\n",
      "volume        0.140\n",
      "Name: bone-penn-250, dtype: object\n",
      "index 286 is out of bounds for axis 0 with size 2\n",
      "T2 image unavailable\n",
      "Traceback (most recent call last):\n",
      "  File \"/home/user1/Documents/Bone-MRI/data_gen.py\", line 392, in generate_from_features\n",
      "    t2_masked = load_image(t2_image_file, t2_seg_file, verbose=verbose)\n",
      "  File \"/home/user1/Documents/Bone-MRI/data_gen.py\", line 331, in load_image\n",
      "    return [mask_image_percentile(image, segmentation, 100, a) for a in (0, 1, 2)]\n",
      "  File \"/home/user1/Documents/Bone-MRI/data_gen.py\", line 331, in <listcomp>\n",
      "    return [mask_image_percentile(image, segmentation, 100, a) for a in (0, 1, 2)]\n",
      "  File \"/home/user1/Documents/Bone-MRI/data_gen.py\", line 335, in mask_image_percentile\n",
      "    image, segmentation = select_slice(image, segmentation, plane, axis)\n",
      "  File \"/home/user1/Documents/Bone-MRI/segmentation.py\", line 40, in select_slice\n",
      "    image = axis_plane[axis](image, plane)\n",
      "  File \"/home/user1/Documents/Bone-MRI/segmentation.py\", line 13, in <lambda>\n",
      "    0: lambda image, plane : image[plane, :, :],\n",
      "IndexError: index 286 is out of bounds for axis 0 with size 2\n",
      "\n",
      "bone-penn-511\n",
      "Does this patient have T2 available? True\n",
      "I'm doing the thing.\n",
      "bone-penn-433\n",
      "Does this patient have T2 available? True\n",
      "I'm doing the thing.\n"
     ]
    },
    {
     "name": "stderr",
     "output_type": "stream",
     "text": [
      "\r",
      " 57%|█████▋    | 408/710 [00:37<00:34,  8.76it/s]"
     ]
    },
    {
     "name": "stderr",
     "output_type": "stream",
     "text": [
      "\r",
      " 58%|█████▊    | 410/710 [00:37<00:32,  9.27it/s]"
     ]
    },
    {
     "name": "stdout",
     "output_type": "stream",
     "text": [
      "bone-china-242\n",
      "Does this patient have T2 available? True\n",
      "I'm doing the thing.\n",
      "bone-penn-188\n",
      "Does this patient have T2 available? True\n",
      "I'm doing the thing.\n",
      "bone-china-225\n",
      "Does this patient have T2 available? True\n",
      "I'm doing the thing.\n"
     ]
    },
    {
     "name": "stderr",
     "output_type": "stream",
     "text": [
      "\r",
      " 58%|█████▊    | 412/710 [00:38<00:32,  9.23it/s]"
     ]
    },
    {
     "name": "stdout",
     "output_type": "stream",
     "text": [
      "bone-penn-264\n",
      "Does this patient have T2 available? True\n",
      "I'm doing the thing.\n",
      "bone-hup-105\n",
      "Does this patient have T2 available? True\n",
      "I'm doing the thing.\n",
      "bone-hup-110\n",
      "Does this patient have T2 available? True\n",
      "I'm doing the thing.\n"
     ]
    },
    {
     "name": "stderr",
     "output_type": "stream",
     "text": [
      "\r",
      " 58%|█████▊    | 414/710 [00:38<00:27, 10.79it/s]"
     ]
    },
    {
     "name": "stdout",
     "output_type": "stream",
     "text": [
      "bone-penn-647\n",
      "Does this patient have T2 available? True\n",
      "I'm doing the thing.\n",
      "bone-penn-644\n",
      "Does this patient have T2 available? True\n",
      "I'm doing the thing.\n"
     ]
    },
    {
     "name": "stderr",
     "output_type": "stream",
     "text": [
      "\r",
      " 59%|█████▊    | 416/710 [00:38<00:35,  8.35it/s]"
     ]
    },
    {
     "name": "stdout",
     "output_type": "stream",
     "text": [
      "bone-penn-653\n",
      "Does this patient have T2 available? True\n",
      "I'm doing the thing.\n",
      "bone-penn-616\n",
      "Does this patient have T2 available? True\n",
      "I'm doing the thing.\n"
     ]
    },
    {
     "name": "stderr",
     "output_type": "stream",
     "text": [
      "\r",
      " 59%|█████▉    | 418/710 [00:38<00:33,  8.70it/s]"
     ]
    },
    {
     "name": "stdout",
     "output_type": "stream",
     "text": [
      "bone-penn-615\n",
      "Does this patient have T2 available? True\n",
      "I'm doing the thing.\n",
      "bone-penn-124\n",
      "Does this patient have T2 available? True\n",
      "I'm doing the thing.\n"
     ]
    },
    {
     "name": "stderr",
     "output_type": "stream",
     "text": [
      "\r",
      " 59%|█████▉    | 420/710 [00:39<00:44,  6.59it/s]"
     ]
    },
    {
     "name": "stdout",
     "output_type": "stream",
     "text": [
      "bone-penn-225\n",
      "Does this patient have T2 available? False\n",
      "T2 image unavailable\n",
      "bone-penn-466\n",
      "Does this patient have T2 available? True\n",
      "I'm doing the thing.\n"
     ]
    },
    {
     "name": "stderr",
     "output_type": "stream",
     "text": [
      "\r",
      " 59%|█████▉    | 422/710 [00:39<00:44,  6.51it/s]"
     ]
    },
    {
     "name": "stderr",
     "output_type": "stream",
     "text": [
      "\r",
      " 60%|█████▉    | 424/710 [00:39<00:37,  7.56it/s]"
     ]
    },
    {
     "name": "stdout",
     "output_type": "stream",
     "text": [
      "bone-hup-162\n",
      "Does this patient have T2 available? False\n",
      "T2 image unavailable\n",
      "bone-china-180\n",
      "Does this patient have T2 available? True\n",
      "I'm doing the thing.\n",
      "bone-hup-177\n",
      "Does this patient have T2 available? True\n",
      "I'm doing the thing.\n"
     ]
    },
    {
     "name": "stderr",
     "output_type": "stream",
     "text": [
      "\r",
      " 60%|██████    | 426/710 [00:39<00:30,  9.26it/s]"
     ]
    },
    {
     "name": "stdout",
     "output_type": "stream",
     "text": [
      "bone-china-200\n",
      "Does this patient have T2 available? True\n",
      "I'm doing the thing.\n",
      "bone-hup-39\n",
      "Does this patient have T2 available? True\n",
      "I'm doing the thing.\n"
     ]
    },
    {
     "name": "stderr",
     "output_type": "stream",
     "text": [
      "\r",
      " 60%|██████    | 428/710 [00:40<00:30,  9.17it/s]"
     ]
    },
    {
     "name": "stdout",
     "output_type": "stream",
     "text": [
      "bone-penn-180\n",
      "Does this patient have T2 available? True\n",
      "I'm doing the thing.\n",
      "bone-penn-439\n",
      "Does this patient have T2 available? True\n",
      "I'm doing the thing.\n"
     ]
    },
    {
     "name": "stdout",
     "output_type": "stream",
     "text": [
      "bone-penn-418\n",
      "Does this patient have T2 available? True\n",
      "I'm doing the thing.\n"
     ]
    },
    {
     "name": "stderr",
     "output_type": "stream",
     "text": [
      "\r",
      " 61%|██████    | 430/710 [00:40<00:47,  5.94it/s]"
     ]
    },
    {
     "name": "stderr",
     "output_type": "stream",
     "text": [
      "\r",
      " 61%|██████    | 432/710 [00:40<00:37,  7.42it/s]"
     ]
    },
    {
     "name": "stdout",
     "output_type": "stream",
     "text": [
      "bone-penn-300\n",
      "Does this patient have T2 available? True\n",
      "I'm doing the thing.\n",
      "bone-penn-200\n",
      "Does this patient have T2 available? True\n",
      "I'm doing the thing.\n",
      "bone-penn-251\n",
      "Does this patient have T2 available? False\n",
      "T2 image unavailable\n",
      "bone-hup-263\n",
      "Does this patient have T2 available? True\n",
      "I'm doing the thing.\n",
      "bone-penn-460\n",
      "Does this patient have T2 available? True\n",
      "I'm doing the thing.\n"
     ]
    },
    {
     "name": "stderr",
     "output_type": "stream",
     "text": [
      "\r",
      " 61%|██████▏   | 435/710 [00:40<00:29,  9.45it/s]"
     ]
    },
    {
     "name": "stdout",
     "output_type": "stream",
     "text": [
      "bone-penn-425\n",
      "Does this patient have T2 available? False\n",
      "T2 image unavailable\n",
      "bone-penn-249\n",
      "Does this patient have T2 available? False\n",
      "T2 image unavailable\n",
      "bone-hup-173\n",
      "Does this patient have T2 available? True\n",
      "I'm doing the thing.\n"
     ]
    },
    {
     "name": "stderr",
     "output_type": "stream",
     "text": [
      "\r",
      " 62%|██████▏   | 438/710 [00:41<00:28,  9.48it/s]"
     ]
    },
    {
     "name": "stdout",
     "output_type": "stream",
     "text": [
      "bone-hup-97\n",
      "Does this patient have T2 available? True\n",
      "I'm doing the thing.\n",
      "bone-penn-265\n",
      "Does this patient have T2 available? True\n",
      "I'm doing the thing.\n"
     ]
    },
    {
     "name": "stderr",
     "output_type": "stream",
     "text": [
      "\r",
      " 62%|██████▏   | 440/710 [00:41<00:29,  9.22it/s]"
     ]
    },
    {
     "name": "stderr",
     "output_type": "stream",
     "text": [
      "\r",
      " 62%|██████▏   | 442/710 [00:41<00:24, 10.87it/s]"
     ]
    },
    {
     "name": "stdout",
     "output_type": "stream",
     "text": [
      "bone-penn-119\n",
      "Does this patient have T2 available? True\n",
      "I'm doing the thing.\n",
      "bone-penn-631\n",
      "Does this patient have T2 available? True\n",
      "I'm doing the thing.\n",
      "bone-china-217\n",
      "Does this patient have T2 available? True\n",
      "I'm doing the thing.\n",
      "bone-china-187\n",
      "Does this patient have T2 available? True\n",
      "I'm doing the thing.\n",
      "bone-hup-55\n",
      "Does this patient have T2 available? True\n",
      "I'm doing the thing.\n"
     ]
    },
    {
     "name": "stderr",
     "output_type": "stream",
     "text": [
      "\r",
      " 63%|██████▎   | 445/710 [00:41<00:19, 13.40it/s]"
     ]
    },
    {
     "name": "stderr",
     "output_type": "stream",
     "text": [
      "\r",
      " 63%|██████▎   | 447/710 [00:41<00:21, 12.51it/s]"
     ]
    },
    {
     "name": "stdout",
     "output_type": "stream",
     "text": [
      "bone-penn-197\n",
      "Does this patient have T2 available? True\n",
      "I'm doing the thing.\n",
      "bone-penn-253\n",
      "Does this patient have T2 available? True\n",
      "I'm doing the thing.\n",
      "bone-hup-82\n",
      "Does this patient have T2 available? True\n",
      "I'm doing the thing.\n"
     ]
    },
    {
     "name": "stdout",
     "output_type": "stream",
     "text": [
      "bone-penn-597\n",
      "Does this patient have T2 available? True\n",
      "I'm doing the thing.\n"
     ]
    },
    {
     "name": "stderr",
     "output_type": "stream",
     "text": [
      "\r",
      " 63%|██████▎   | 449/710 [00:42<00:47,  5.54it/s]"
     ]
    },
    {
     "name": "stderr",
     "output_type": "stream",
     "text": [
      "\r",
      " 64%|██████▍   | 453/710 [00:42<00:34,  7.37it/s]"
     ]
    },
    {
     "name": "stdout",
     "output_type": "stream",
     "text": [
      "bone-penn-483\n",
      "Does this patient have T2 available? True\n",
      "T2 image unavailable\n",
      "bone-penn-472\n",
      "Does this patient have T2 available? False\n",
      "T2 image unavailable\n",
      "bone-hup-226\n",
      "Does this patient have T2 available? True\n",
      "I'm doing the thing.\n",
      "bone-china-213\n",
      "Does this patient have T2 available? True\n",
      "I'm doing the thing.\n",
      "bone-penn-244\n",
      "Does this patient have T2 available? True\n",
      "I'm doing the thing.\n",
      "bone-penn-252\n",
      "Does this patient have T2 available? True\n",
      "I'm doing the thing.\n"
     ]
    },
    {
     "name": "stderr",
     "output_type": "stream",
     "text": [
      "\r",
      " 65%|██████▍   | 458/710 [00:42<00:25,  9.91it/s]"
     ]
    },
    {
     "name": "stdout",
     "output_type": "stream",
     "text": [
      "\n",
      "################################################################################\n",
      "Exception occurred for: outcome_pos   1.000\n",
      "outcome_neg   1.000\n",
      "outcome_3     2.000\n",
      "sort              -\n",
      "volume        0.140\n",
      "Name: bone-penn-252, dtype: object\n",
      "index 182 is out of bounds for axis 0 with size 2\n",
      "T2 image unavailable\n",
      "Traceback (most recent call last):\n",
      "  File \"/home/user1/Documents/Bone-MRI/data_gen.py\", line 392, in generate_from_features\n",
      "    t2_masked = load_image(t2_image_file, t2_seg_file, verbose=verbose)\n",
      "  File \"/home/user1/Documents/Bone-MRI/data_gen.py\", line 331, in load_image\n",
      "    return [mask_image_percentile(image, segmentation, 100, a) for a in (0, 1, 2)]\n",
      "  File \"/home/user1/Documents/Bone-MRI/data_gen.py\", line 331, in <listcomp>\n",
      "    return [mask_image_percentile(image, segmentation, 100, a) for a in (0, 1, 2)]\n",
      "  File \"/home/user1/Documents/Bone-MRI/data_gen.py\", line 335, in mask_image_percentile\n",
      "    image, segmentation = select_slice(image, segmentation, plane, axis)\n",
      "  File \"/home/user1/Documents/Bone-MRI/segmentation.py\", line 40, in select_slice\n",
      "    image = axis_plane[axis](image, plane)\n",
      "  File \"/home/user1/Documents/Bone-MRI/segmentation.py\", line 13, in <lambda>\n",
      "    0: lambda image, plane : image[plane, :, :],\n",
      "IndexError: index 182 is out of bounds for axis 0 with size 2\n",
      "\n",
      "bone-penn-642\n",
      "Does this patient have T2 available? True\n",
      "T2 image unavailable\n",
      "bone-hup-68\n",
      "Does this patient have T2 available? True\n",
      "T2 image unavailable\n",
      "bone-penn-394\n",
      "Does this patient have T2 available? False\n",
      "T2 image unavailable\n",
      "bone-penn-546\n",
      "Does this patient have T2 available? True\n",
      "I'm doing the thing.\n",
      "bone-penn-625\n",
      "Does this patient have T2 available? True\n",
      "T2 image unavailable\n",
      "bone-hup-181\n",
      "Does this patient have T2 available? True\n",
      "I'm doing the thing.\n"
     ]
    },
    {
     "name": "stderr",
     "output_type": "stream",
     "text": [
      "\r",
      " 65%|██████▍   | 461/710 [00:43<00:24, 10.24it/s]"
     ]
    },
    {
     "name": "stdout",
     "output_type": "stream",
     "text": [
      "bone-penn-181\n",
      "Does this patient have T2 available? True\n",
      "I'm doing the thing.\n",
      "bone-penn-429\n",
      "Does this patient have T2 available? True\n",
      "I'm doing the thing.\n"
     ]
    },
    {
     "name": "stderr",
     "output_type": "stream",
     "text": [
      "\r",
      " 65%|██████▌   | 464/710 [00:43<00:23, 10.39it/s]"
     ]
    },
    {
     "name": "stderr",
     "output_type": "stream",
     "text": [
      "\r",
      " 66%|██████▌   | 467/710 [00:43<00:19, 12.45it/s]"
     ]
    },
    {
     "name": "stdout",
     "output_type": "stream",
     "text": [
      "bone-penn-246\n",
      "Does this patient have T2 available? True\n",
      "I'm doing the thing.\n",
      "bone-penn-623\n",
      "Does this patient have T2 available? False\n",
      "T2 image unavailable\n",
      "bone-hup-168\n",
      "Does this patient have T2 available? True\n",
      "I'm doing the thing.\n",
      "bone-china-179\n",
      "Does this patient have T2 available? True\n",
      "I'm doing the thing.\n",
      "bone-china-176\n",
      "Does this patient have T2 available? True\n",
      "I'm doing the thing.\n"
     ]
    },
    {
     "name": "stderr",
     "output_type": "stream",
     "text": [
      "\r",
      " 66%|██████▌   | 470/710 [00:43<00:17, 13.92it/s]"
     ]
    },
    {
     "name": "stdout",
     "output_type": "stream",
     "text": [
      "bone-penn-230\n",
      "Does this patient have T2 available? False\n",
      "T2 image unavailable\n",
      "bone-penn-652\n",
      "Does this patient have T2 available? True\n",
      "I'm doing the thing.\n",
      "bone-hup-202\n",
      "Does this patient have T2 available? True\n",
      "T2 image unavailable\n",
      "bone-penn-465\n",
      "Does this patient have T2 available? True\n",
      "I'm doing the thing.\n"
     ]
    },
    {
     "name": "stderr",
     "output_type": "stream",
     "text": [
      "\r",
      " 67%|██████▋   | 473/710 [00:44<00:20, 11.78it/s]"
     ]
    },
    {
     "name": "stderr",
     "output_type": "stream",
     "text": [
      "\r",
      " 67%|██████▋   | 476/710 [00:44<00:16, 14.17it/s]"
     ]
    },
    {
     "name": "stdout",
     "output_type": "stream",
     "text": [
      "bone-hup-176\n",
      "Does this patient have T2 available? True\n",
      "I'm doing the thing.\n",
      "bone-hup-225\n",
      "Does this patient have T2 available? True\n",
      "I'm doing the thing.\n",
      "bone-penn-310\n",
      "Does this patient have T2 available? False\n",
      "T2 image unavailable\n",
      "bone-hup-219\n",
      "Does this patient have T2 available? True\n",
      "I'm doing the thing.\n",
      "bone-penn-219\n",
      "Does this patient have T2 available? True\n",
      "I'm doing the thing.\n"
     ]
    },
    {
     "name": "stdout",
     "output_type": "stream",
     "text": [
      "bone-penn-228\n",
      "Does this patient have T2 available? True\n",
      "T2 image unavailable\n",
      "bone-hup-172\n",
      "Does this patient have T2 available? False\n",
      "T2 image unavailable\n",
      "bone-penn-364\n",
      "Does this patient have T2 available? True\n",
      "I'm doing the thing.\n"
     ]
    },
    {
     "name": "stderr",
     "output_type": "stream",
     "text": [
      "\r",
      " 68%|██████▊   | 480/710 [00:44<00:16, 14.35it/s]"
     ]
    },
    {
     "name": "stdout",
     "output_type": "stream",
     "text": [
      "bone-penn-654\n",
      "Does this patient have T2 available? True\n",
      "I'm doing the thing.\n",
      "bone-hup-167\n",
      "Does this patient have T2 available? True\n",
      "T2 image unavailable\n",
      "bone-hup-118\n",
      "Does this patient have T2 available? True\n",
      "I'm doing the thing.\n"
     ]
    },
    {
     "name": "stderr",
     "output_type": "stream",
     "text": [
      "\r",
      " 68%|██████▊   | 483/710 [00:44<00:16, 13.89it/s]"
     ]
    },
    {
     "name": "stderr",
     "output_type": "stream",
     "text": [
      "\r",
      " 68%|██████▊   | 485/710 [00:44<00:16, 14.05it/s]"
     ]
    },
    {
     "name": "stdout",
     "output_type": "stream",
     "text": [
      "bone-hup-244\n",
      "Does this patient have T2 available? True\n",
      "I'm doing the thing.\n",
      "bone-hup-227\n",
      "Does this patient have T2 available? True\n",
      "I'm doing the thing.\n",
      "bone-hup-187\n",
      "Does this patient have T2 available? False\n",
      "T2 image unavailable\n",
      "bone-penn-603\n",
      "Does this patient have T2 available? True\n",
      "I'm doing the thing.\n"
     ]
    },
    {
     "name": "stderr",
     "output_type": "stream",
     "text": [
      "\r",
      " 69%|██████▊   | 487/710 [00:44<00:16, 13.93it/s]"
     ]
    },
    {
     "name": "stderr",
     "output_type": "stream",
     "text": [
      "\r",
      " 69%|██████▉   | 490/710 [00:45<00:15, 14.26it/s]"
     ]
    },
    {
     "name": "stdout",
     "output_type": "stream",
     "text": [
      "bone-penn-163\n",
      "Does this patient have T2 available? True\n",
      "I'm doing the thing.\n",
      "bone-penn-543\n",
      "Does this patient have T2 available? True\n",
      "T2 image unavailable\n",
      "bone-penn-372\n",
      "Does this patient have T2 available? True\n",
      "I'm doing the thing.\n",
      "bone-penn-648\n",
      "Does this patient have T2 available? True\n",
      "I'm doing the thing.\n"
     ]
    },
    {
     "name": "stderr",
     "output_type": "stream",
     "text": [
      "\r",
      " 70%|██████▉   | 494/710 [00:45<00:12, 17.32it/s]"
     ]
    },
    {
     "name": "stdout",
     "output_type": "stream",
     "text": [
      "bone-penn-604\n",
      "Does this patient have T2 available? False\n",
      "T2 image unavailable\n",
      "bone-china-228\n",
      "Does this patient have T2 available? True\n",
      "I'm doing the thing.\n",
      "bone-penn-176\n",
      "Does this patient have T2 available? True\n",
      "I'm doing the thing.\n",
      "bone-hup-132\n",
      "Does this patient have T2 available? True\n",
      "I'm doing the thing.\n",
      "bone-penn-479\n",
      "Does this patient have T2 available? True\n",
      "I'm doing the thing.\n"
     ]
    },
    {
     "name": "stderr",
     "output_type": "stream",
     "text": [
      "\r",
      " 70%|███████   | 497/710 [00:45<00:13, 15.51it/s]"
     ]
    },
    {
     "name": "stdout",
     "output_type": "stream",
     "text": [
      "bone-hup-196\n",
      "Does this patient have T2 available? True\n",
      "I'm doing the thing.\n",
      "bone-hup-180\n",
      "Does this patient have T2 available? True\n",
      "I'm doing the thing.\n",
      "bone-penn-226\n",
      "Does this patient have T2 available? True\n",
      "I'm doing the thing.\n"
     ]
    },
    {
     "name": "stderr",
     "output_type": "stream",
     "text": [
      "\r",
      " 70%|███████   | 499/710 [00:45<00:13, 15.38it/s]"
     ]
    },
    {
     "name": "stdout",
     "output_type": "stream",
     "text": [
      "bone-hup-89\n",
      "Does this patient have T2 available? True\n",
      "I'm doing the thing.\n",
      "bone-hup-93\n",
      "Does this patient have T2 available? True\n",
      "I'm doing the thing.\n"
     ]
    },
    {
     "name": "stderr",
     "output_type": "stream",
     "text": [
      "\r",
      " 71%|███████   | 501/710 [00:45<00:21,  9.75it/s]"
     ]
    },
    {
     "name": "stdout",
     "output_type": "stream",
     "text": [
      "bone-hup-224\n",
      "Does this patient have T2 available? True\n",
      "I'm doing the thing.\n",
      "bone-hup-208\n",
      "Does this patient have T2 available? False\n",
      "T2 image unavailable\n",
      "bone-china-192\n",
      "Does this patient have T2 available? True\n",
      "I'm doing the thing.\n",
      "bone-hup-197\n",
      "Does this patient have T2 available? True\n",
      "T2 image unavailable\n",
      "bone-penn-307\n",
      "Does this patient have T2 available? True\n",
      "I'm doing the thing.\n"
     ]
    },
    {
     "name": "stderr",
     "output_type": "stream",
     "text": [
      "\r",
      " 71%|███████▏  | 506/710 [00:46<00:17, 11.61it/s]"
     ]
    },
    {
     "name": "stderr",
     "output_type": "stream",
     "text": [
      "\r",
      " 72%|███████▏  | 509/710 [00:46<00:15, 13.03it/s]"
     ]
    },
    {
     "name": "stdout",
     "output_type": "stream",
     "text": [
      "bone-china-198\n",
      "Does this patient have T2 available? True\n",
      "I'm doing the thing.\n",
      "bone-hup-108\n",
      "Does this patient have T2 available? True\n",
      "I'm doing the thing.\n",
      "bone-penn-198\n",
      "Does this patient have T2 available? True\n",
      "I'm doing the thing.\n",
      "bone-china-195\n",
      "Does this patient have T2 available? True\n",
      "I'm doing the thing.\n"
     ]
    },
    {
     "name": "stdout",
     "output_type": "stream",
     "text": [
      "bone-penn-388\n",
      "Does this patient have T2 available? True\n",
      "I'm doing the thing.\n",
      "bone-penn-194\n",
      "Does this patient have T2 available? True\n",
      "I'm doing the thing.\n"
     ]
    },
    {
     "name": "stderr",
     "output_type": "stream",
     "text": [
      "\r",
      " 72%|███████▏  | 512/710 [00:46<00:19, 10.18it/s]"
     ]
    },
    {
     "name": "stdout",
     "output_type": "stream",
     "text": [
      "bone-penn-318\n",
      "Does this patient have T2 available? True\n",
      "T2 image unavailable\n",
      "bone-penn-257\n",
      "Does this patient have T2 available? True\n",
      "I'm doing the thing.\n",
      "\n",
      "################################################################################\n",
      "Exception occurred for: outcome_pos   1.000\n",
      "outcome_neg   1.000\n",
      "outcome_3     2.000\n",
      "sort              -\n",
      "volume        0.140\n",
      "Name: bone-penn-257, dtype: object\n",
      "index 74 is out of bounds for axis 0 with size 2\n",
      "T2 image unavailable\n",
      "Traceback (most recent call last):\n",
      "  File \"/home/user1/Documents/Bone-MRI/data_gen.py\", line 392, in generate_from_features\n",
      "    t2_masked = load_image(t2_image_file, t2_seg_file, verbose=verbose)\n",
      "  File \"/home/user1/Documents/Bone-MRI/data_gen.py\", line 331, in load_image\n",
      "    return [mask_image_percentile(image, segmentation, 100, a) for a in (0, 1, 2)]\n",
      "  File \"/home/user1/Documents/Bone-MRI/data_gen.py\", line 331, in <listcomp>\n",
      "    return [mask_image_percentile(image, segmentation, 100, a) for a in (0, 1, 2)]\n",
      "  File \"/home/user1/Documents/Bone-MRI/data_gen.py\", line 335, in mask_image_percentile\n",
      "    image, segmentation = select_slice(image, segmentation, plane, axis)\n",
      "  File \"/home/user1/Documents/Bone-MRI/segmentation.py\", line 40, in select_slice\n",
      "    image = axis_plane[axis](image, plane)\n",
      "  File \"/home/user1/Documents/Bone-MRI/segmentation.py\", line 13, in <lambda>\n",
      "    0: lambda image, plane : image[plane, :, :],\n",
      "IndexError: index 74 is out of bounds for axis 0 with size 2\n",
      "\n",
      "bone-hup-229\n",
      "Does this patient have T2 available? True\n",
      "I'm doing the thing.\n",
      "bone-penn-207\n",
      "Does this patient have T2 available? True\n",
      "I'm doing the thing.\n"
     ]
    },
    {
     "name": "stderr",
     "output_type": "stream",
     "text": [
      "\r",
      " 73%|███████▎  | 516/710 [00:47<00:17, 11.31it/s]"
     ]
    },
    {
     "name": "stdout",
     "output_type": "stream",
     "text": [
      "bone-penn-240\n",
      "Does this patient have T2 available? False\n",
      "T2 image unavailable\n",
      "bone-penn-259\n",
      "Does this patient have T2 available? True\n",
      "I'm doing the thing.\n",
      "bone-hup-283\n",
      "Does this patient have T2 available? True\n",
      "I'm doing the thing.\n",
      "bone-penn-599\n",
      "Does this patient have T2 available? True\n",
      "I'm doing the thing.\n"
     ]
    },
    {
     "name": "stderr",
     "output_type": "stream",
     "text": [
      "\r",
      " 73%|███████▎  | 520/710 [00:47<00:15, 12.17it/s]"
     ]
    },
    {
     "name": "stderr",
     "output_type": "stream",
     "text": [
      "\r",
      " 74%|███████▎  | 523/710 [00:47<00:14, 13.35it/s]"
     ]
    },
    {
     "name": "stdout",
     "output_type": "stream",
     "text": [
      "bone-hup-66\n",
      "Does this patient have T2 available? True\n",
      "T2 image unavailable\n",
      "bone-china-178\n",
      "Does this patient have T2 available? False\n",
      "T2 image unavailable\n",
      "bone-penn-214\n",
      "Does this patient have T2 available? True\n",
      "I'm doing the thing.\n",
      "bone-penn-354\n",
      "Does this patient have T2 available? False\n",
      "T2 image unavailable\n",
      "bone-penn-192\n",
      "Does this patient have T2 available? True\n",
      "I'm doing the thing.\n"
     ]
    },
    {
     "name": "stderr",
     "output_type": "stream",
     "text": [
      "\r",
      " 74%|███████▍  | 525/710 [00:47<00:14, 13.12it/s]"
     ]
    },
    {
     "name": "stderr",
     "output_type": "stream",
     "text": [
      "\r",
      " 74%|███████▍  | 527/710 [00:47<00:12, 14.29it/s]"
     ]
    },
    {
     "name": "stdout",
     "output_type": "stream",
     "text": [
      "bone-penn-199\n",
      "Does this patient have T2 available? False\n",
      "T2 image unavailable\n",
      "bone-hup-277\n",
      "Does this patient have T2 available? True\n",
      "I'm doing the thing.\n",
      "bone-penn-254\n",
      "Does this patient have T2 available? True\n",
      "I'm doing the thing.\n"
     ]
    },
    {
     "name": "stderr",
     "output_type": "stream",
     "text": [
      "\r",
      " 75%|███████▍  | 529/710 [00:47<00:13, 13.83it/s]"
     ]
    },
    {
     "name": "stdout",
     "output_type": "stream",
     "text": [
      "bone-hup-179\n",
      "Does this patient have T2 available? True\n",
      "I'm doing the thing.\n",
      "bone-penn-373\n",
      "Does this patient have T2 available? True\n",
      "T2 image unavailable\n",
      "bone-hup-188\n",
      "Does this patient have T2 available? True\n",
      "I'm doing the thing.\n"
     ]
    },
    {
     "name": "stderr",
     "output_type": "stream",
     "text": [
      "\r",
      " 75%|███████▍  | 531/710 [00:48<00:13, 13.07it/s]"
     ]
    },
    {
     "name": "stdout",
     "output_type": "stream",
     "text": [
      "bone-penn-209\n",
      "Does this patient have T2 available? True\n",
      "I'm doing the thing.\n"
     ]
    },
    {
     "name": "stderr",
     "output_type": "stream",
     "text": [
      "\r",
      " 75%|███████▌  | 533/710 [00:48<00:18,  9.50it/s]"
     ]
    },
    {
     "name": "stdout",
     "output_type": "stream",
     "text": [
      "\n",
      "################################################################################\n",
      "Exception occurred for: outcome_pos   1.000\n",
      "outcome_neg   1.000\n",
      "outcome_3     2.000\n",
      "sort              -\n",
      "volume        0.140\n",
      "Name: bone-penn-209, dtype: object\n",
      "index 231 is out of bounds for axis 0 with size 2\n",
      "T2 image unavailable\n",
      "Traceback (most recent call last):\n",
      "  File \"/home/user1/Documents/Bone-MRI/data_gen.py\", line 392, in generate_from_features\n",
      "    t2_masked = load_image(t2_image_file, t2_seg_file, verbose=verbose)\n",
      "  File \"/home/user1/Documents/Bone-MRI/data_gen.py\", line 331, in load_image\n",
      "    return [mask_image_percentile(image, segmentation, 100, a) for a in (0, 1, 2)]\n",
      "  File \"/home/user1/Documents/Bone-MRI/data_gen.py\", line 331, in <listcomp>\n",
      "    return [mask_image_percentile(image, segmentation, 100, a) for a in (0, 1, 2)]\n",
      "  File \"/home/user1/Documents/Bone-MRI/data_gen.py\", line 335, in mask_image_percentile\n",
      "    image, segmentation = select_slice(image, segmentation, plane, axis)\n",
      "  File \"/home/user1/Documents/Bone-MRI/segmentation.py\", line 40, in select_slice\n",
      "    image = axis_plane[axis](image, plane)\n",
      "  File \"/home/user1/Documents/Bone-MRI/segmentation.py\", line 13, in <lambda>\n",
      "    0: lambda image, plane : image[plane, :, :],\n",
      "IndexError: index 231 is out of bounds for axis 0 with size 2\n",
      "\n",
      "bone-penn-308\n",
      "Does this patient have T2 available? False\n",
      "T2 image unavailable\n",
      "bone-penn-179\n",
      "Does this patient have T2 available? True\n",
      "I'm doing the thing.\n"
     ]
    },
    {
     "name": "stderr",
     "output_type": "stream",
     "text": [
      "\r",
      " 75%|███████▌  | 535/710 [00:48<00:18,  9.41it/s]"
     ]
    },
    {
     "name": "stderr",
     "output_type": "stream",
     "text": [
      "\r",
      " 76%|███████▌  | 537/710 [00:48<00:17, 10.12it/s]"
     ]
    },
    {
     "name": "stdout",
     "output_type": "stream",
     "text": [
      "bone-hup-239\n",
      "Does this patient have T2 available? True\n",
      "T2 image unavailable\n",
      "bone-hup-133\n",
      "Does this patient have T2 available? True\n",
      "I'm doing the thing.\n",
      "bone-hup-70\n",
      "Does this patient have T2 available? True\n",
      "I'm doing the thing.\n",
      "bone-hup-96\n",
      "Does this patient have T2 available? True\n",
      "I'm doing the thing.\n"
     ]
    },
    {
     "name": "stderr",
     "output_type": "stream",
     "text": [
      "\r",
      " 76%|███████▌  | 539/710 [00:49<00:17,  9.91it/s]"
     ]
    },
    {
     "name": "stdout",
     "output_type": "stream",
     "text": [
      "bone-penn-606\n",
      "Does this patient have T2 available? True\n",
      "I'm doing the thing.\n",
      "bone-penn-609\n",
      "Does this patient have T2 available? True\n",
      "I'm doing the thing.\n"
     ]
    },
    {
     "name": "stderr",
     "output_type": "stream",
     "text": [
      "\r",
      " 76%|███████▌  | 541/710 [00:49<00:21,  7.72it/s]"
     ]
    },
    {
     "name": "stdout",
     "output_type": "stream",
     "text": [
      "bone-hup-214\n",
      "Does this patient have T2 available? True\n",
      "I'm doing the thing.\n",
      "bone-penn-628\n",
      "Does this patient have T2 available? True\n",
      "I'm doing the thing.\n",
      "bone-hup-59\n",
      "Does this patient have T2 available? True\n",
      "I'm doing the thing.\n"
     ]
    },
    {
     "name": "stderr",
     "output_type": "stream",
     "text": [
      "\r",
      " 76%|███████▋  | 543/710 [00:49<00:19,  8.40it/s]"
     ]
    },
    {
     "name": "stdout",
     "output_type": "stream",
     "text": [
      "bone-hup-91\n",
      "Does this patient have T2 available? True\n",
      "I'm doing the thing.\n",
      "bone-penn-217\n",
      "Does this patient have T2 available? True\n",
      "I'm doing the thing.\n"
     ]
    },
    {
     "name": "stderr",
     "output_type": "stream",
     "text": [
      "\r",
      " 77%|███████▋  | 545/710 [00:49<00:21,  7.51it/s]"
     ]
    },
    {
     "name": "stdout",
     "output_type": "stream",
     "text": [
      "bone-hup-141\n",
      "Does this patient have T2 available? True\n",
      "I'm doing the thing.\n"
     ]
    },
    {
     "name": "stderr",
     "output_type": "stream",
     "text": [
      "\r",
      " 77%|███████▋  | 546/710 [00:50<00:29,  5.57it/s]"
     ]
    },
    {
     "name": "stdout",
     "output_type": "stream",
     "text": [
      "bone-hup-67\n",
      "Does this patient have T2 available? True\n",
      "I'm doing the thing.\n",
      "bone-penn-205\n",
      "Does this patient have T2 available? True\n",
      "I'm doing the thing.\n"
     ]
    },
    {
     "name": "stderr",
     "output_type": "stream",
     "text": [
      "\r",
      " 77%|███████▋  | 548/710 [00:51<00:38,  4.16it/s]"
     ]
    },
    {
     "name": "stderr",
     "output_type": "stream",
     "text": [
      "\r",
      " 77%|███████▋  | 549/710 [00:51<00:36,  4.39it/s]"
     ]
    },
    {
     "name": "stdout",
     "output_type": "stream",
     "text": [
      "bone-penn-232\n",
      "Does this patient have T2 available? True\n",
      "I'm doing the thing.\n",
      "bone-penn-255\n",
      "Does this patient have T2 available? True\n",
      "I'm doing the thing.\n"
     ]
    },
    {
     "name": "stderr",
     "output_type": "stream",
     "text": [
      "\r",
      " 77%|███████▋  | 550/710 [00:51<00:32,  4.93it/s]"
     ]
    },
    {
     "name": "stderr",
     "output_type": "stream",
     "text": [
      "\r",
      " 78%|███████▊  | 552/710 [00:51<00:25,  6.31it/s]"
     ]
    },
    {
     "name": "stdout",
     "output_type": "stream",
     "text": [
      "bone-penn-172\n",
      "Does this patient have T2 available? True\n",
      "I'm doing the thing.\n",
      "bone-hup-204\n",
      "Does this patient have T2 available? True\n",
      "I'm doing the thing.\n",
      "bone-penn-368\n",
      "Does this patient have T2 available? True\n",
      "I'm doing the thing.\n",
      "bone-hup-231\n",
      "Does this patient have T2 available? True\n",
      "I'm doing the thing.\n"
     ]
    },
    {
     "name": "stderr",
     "output_type": "stream",
     "text": [
      "\r",
      " 78%|███████▊  | 554/710 [00:51<00:20,  7.52it/s]"
     ]
    },
    {
     "name": "stdout",
     "output_type": "stream",
     "text": [
      "bone-hup-230\n",
      "Does this patient have T2 available? False\n",
      "T2 image unavailable\n",
      "bone-hup-160\n",
      "Does this patient have T2 available? True\n",
      "I'm doing the thing.\n"
     ]
    },
    {
     "name": "stderr",
     "output_type": "stream",
     "text": [
      "\r",
      " 78%|███████▊  | 556/710 [00:51<00:19,  7.82it/s]"
     ]
    },
    {
     "name": "stderr",
     "output_type": "stream",
     "text": [
      "\r",
      " 79%|███████▊  | 558/710 [00:51<00:16,  9.32it/s]"
     ]
    },
    {
     "name": "stdout",
     "output_type": "stream",
     "text": [
      "bone-penn-622\n",
      "Does this patient have T2 available? True\n",
      "I'm doing the thing.\n",
      "bone-penn-123\n",
      "Does this patient have T2 available? True\n",
      "T2 image unavailable\n",
      "bone-penn-531\n",
      "Does this patient have T2 available? True\n",
      "I'm doing the thing.\n",
      "bone-china-188\n",
      "Does this patient have T2 available? True\n",
      "I'm doing the thing.\n"
     ]
    },
    {
     "name": "stderr",
     "output_type": "stream",
     "text": [
      "\r",
      " 79%|███████▉  | 560/710 [00:52<00:13, 11.01it/s]"
     ]
    },
    {
     "name": "stderr",
     "output_type": "stream",
     "text": [
      "\r",
      " 79%|███████▉  | 563/710 [00:52<00:11, 12.34it/s]"
     ]
    },
    {
     "name": "stdout",
     "output_type": "stream",
     "text": [
      "bone-china-189\n",
      "Does this patient have T2 available? True\n",
      "I'm doing the thing.\n",
      "bone-china-203\n",
      "Does this patient have T2 available? True\n",
      "I'm doing the thing.\n",
      "bone-penn-305\n",
      "Does this patient have T2 available? True\n",
      "I'm doing the thing.\n",
      "bone-hup-243\n",
      "Does this patient have T2 available? True\n",
      "T2 image unavailable\n",
      "bone-hup-234\n",
      "Does this patient have T2 available? True\n",
      "I'm doing the thing.\n"
     ]
    },
    {
     "name": "stderr",
     "output_type": "stream",
     "text": [
      "\r",
      " 80%|███████▉  | 565/710 [00:52<00:10, 13.76it/s]"
     ]
    },
    {
     "name": "stdout",
     "output_type": "stream",
     "text": [
      "bone-penn-377\n",
      "Does this patient have T2 available? False\n",
      "T2 image unavailable\n",
      "bone-china-204\n",
      "Does this patient have T2 available? True\n",
      "I'm doing the thing.\n",
      "bone-penn-458\n",
      "Does this patient have T2 available? True\n",
      "I'm doing the thing.\n"
     ]
    },
    {
     "name": "stderr",
     "output_type": "stream",
     "text": [
      "\r",
      " 80%|████████  | 568/710 [00:52<00:10, 13.24it/s]"
     ]
    },
    {
     "name": "stdout",
     "output_type": "stream",
     "text": [
      "bone-penn-651\n",
      "Does this patient have T2 available? True\n",
      "I'm doing the thing.\n",
      "bone-penn-650\n",
      "Does this patient have T2 available? True\n",
      "I'm doing the thing.\n"
     ]
    },
    {
     "name": "stderr",
     "output_type": "stream",
     "text": [
      "\r",
      " 80%|████████  | 570/710 [00:52<00:12, 11.57it/s]"
     ]
    },
    {
     "name": "stderr",
     "output_type": "stream",
     "text": [
      "\r",
      " 81%|████████  | 572/710 [00:53<00:11, 11.94it/s]"
     ]
    },
    {
     "name": "stdout",
     "output_type": "stream",
     "text": [
      "bone-penn-639\n",
      "Does this patient have T2 available? True\n",
      "I'm doing the thing.\n",
      "bone-hup-223\n",
      "Does this patient have T2 available? False\n",
      "T2 image unavailable\n",
      "bone-china-186\n",
      "Does this patient have T2 available? True\n",
      "I'm doing the thing.\n",
      "bone-penn-122\n",
      "Does this patient have T2 available? True\n",
      "I'm doing the thing.\n"
     ]
    },
    {
     "name": "stdout",
     "output_type": "stream",
     "text": [
      "bone-hup-86\n",
      "Does this patient have T2 available? True\n",
      "I'm doing the thing.\n"
     ]
    },
    {
     "name": "stderr",
     "output_type": "stream",
     "text": [
      "\r",
      " 81%|████████  | 575/710 [00:53<00:14,  9.57it/s]"
     ]
    },
    {
     "name": "stdout",
     "output_type": "stream",
     "text": [
      "bone-hup-109\n",
      "Does this patient have T2 available? True\n",
      "I'm doing the thing.\n",
      "bone-penn-231\n",
      "Does this patient have T2 available? True\n",
      "I'm doing the thing.\n"
     ]
    },
    {
     "name": "stderr",
     "output_type": "stream",
     "text": [
      "\r",
      " 81%|████████▏ | 577/710 [00:53<00:19,  6.86it/s]"
     ]
    },
    {
     "name": "stderr",
     "output_type": "stream",
     "text": [
      "\r",
      " 82%|████████▏ | 579/710 [00:54<00:15,  8.34it/s]"
     ]
    },
    {
     "name": "stdout",
     "output_type": "stream",
     "text": [
      "bone-penn-173\n",
      "Does this patient have T2 available? True\n",
      "I'm doing the thing.\n",
      "bone-china-210\n",
      "Does this patient have T2 available? True\n",
      "I'm doing the thing.\n",
      "bone-penn-177\n",
      "Does this patient have T2 available? True\n",
      "T2 image unavailable\n",
      "bone-penn-632\n",
      "Does this patient have T2 available? True\n",
      "I'm doing the thing.\n"
     ]
    },
    {
     "name": "stderr",
     "output_type": "stream",
     "text": [
      "\r",
      " 82%|████████▏ | 582/710 [00:54<00:12, 10.65it/s]"
     ]
    },
    {
     "name": "stderr",
     "output_type": "stream",
     "text": [
      "\r",
      " 82%|████████▏ | 584/710 [00:54<00:10, 11.59it/s]"
     ]
    },
    {
     "name": "stdout",
     "output_type": "stream",
     "text": [
      "bone-china-191\n",
      "Does this patient have T2 available? True\n",
      "T2 image unavailable\n",
      "bone-china-199\n",
      "Does this patient have T2 available? True\n",
      "I'm doing the thing.\n",
      "bone-penn-629\n",
      "Does this patient have T2 available? True\n",
      "I'm doing the thing.\n",
      "bone-hup-216\n",
      "Does this patient have T2 available? True\n",
      "I'm doing the thing.\n"
     ]
    },
    {
     "name": "stderr",
     "output_type": "stream",
     "text": [
      "\r",
      " 83%|████████▎ | 586/710 [00:54<00:12,  9.66it/s]"
     ]
    },
    {
     "name": "stdout",
     "output_type": "stream",
     "text": [
      "bone-penn-263\n",
      "Does this patient have T2 available? True\n",
      "I'm doing the thing.\n",
      "bone-china-223\n",
      "Does this patient have T2 available? True\n",
      "I'm doing the thing.\n"
     ]
    },
    {
     "name": "stderr",
     "output_type": "stream",
     "text": [
      "\r",
      " 83%|████████▎ | 588/710 [00:54<00:11, 10.76it/s]"
     ]
    },
    {
     "name": "stdout",
     "output_type": "stream",
     "text": [
      "bone-hup-61\n",
      "Does this patient have T2 available? True\n",
      "I'm doing the thing.\n",
      "bone-china-194\n",
      "Does this patient have T2 available? True\n",
      "I'm doing the thing.\n",
      "bone-penn-602\n",
      "Does this patient have T2 available? True\n",
      "I'm doing the thing.\n"
     ]
    },
    {
     "name": "stderr",
     "output_type": "stream",
     "text": [
      "\r",
      " 83%|████████▎ | 590/710 [00:54<00:11, 10.00it/s]"
     ]
    },
    {
     "name": "stdout",
     "output_type": "stream",
     "text": [
      "bone-penn-220\n",
      "Does this patient have T2 available? True\n",
      "I'm doing the thing.\n",
      "bone-hup-111\n",
      "Does this patient have T2 available? True\n",
      "I'm doing the thing.\n"
     ]
    },
    {
     "name": "stderr",
     "output_type": "stream",
     "text": [
      "\r",
      " 83%|████████▎ | 592/710 [00:55<00:13,  8.60it/s]"
     ]
    },
    {
     "name": "stdout",
     "output_type": "stream",
     "text": [
      "bone-penn-379\n",
      "Does this patient have T2 available? True\n",
      "I'm doing the thing.\n",
      "bone-hup-205\n",
      "Does this patient have T2 available? True\n",
      "I'm doing the thing.\n"
     ]
    },
    {
     "name": "stderr",
     "output_type": "stream",
     "text": [
      "\r",
      " 84%|████████▎ | 594/710 [00:55<00:13,  8.71it/s]"
     ]
    },
    {
     "name": "stdout",
     "output_type": "stream",
     "text": [
      "bone-hup-88\n",
      "Does this patient have T2 available? True\n",
      "I'm doing the thing.\n",
      "bone-penn-203\n",
      "Does this patient have T2 available? True\n",
      "I'm doing the thing.\n"
     ]
    },
    {
     "name": "stderr",
     "output_type": "stream",
     "text": [
      "\r",
      " 84%|████████▍ | 596/710 [00:56<00:18,  6.21it/s]"
     ]
    },
    {
     "name": "stdout",
     "output_type": "stream",
     "text": [
      "bone-hup-57\n",
      "Does this patient have T2 available? False\n",
      "T2 image unavailable\n",
      "bone-penn-269\n",
      "Does this patient have T2 available? True\n",
      "I'm doing the thing.\n",
      "bone-penn-306\n",
      "Does this patient have T2 available? True\n",
      "T2 image unavailable\n",
      "bone-china-215\n",
      "Does this patient have T2 available? True\n",
      "I'm doing the thing.\n",
      "bone-hup-23\n",
      "Does this patient have T2 available? True\n",
      "I'm doing the thing.\n"
     ]
    },
    {
     "name": "stderr",
     "output_type": "stream",
     "text": [
      "\r",
      " 85%|████████▍ | 601/710 [00:56<00:14,  7.55it/s]"
     ]
    },
    {
     "name": "stdout",
     "output_type": "stream",
     "text": [
      "bone-penn-196\n",
      "Does this patient have T2 available? False\n",
      "T2 image unavailable\n",
      "bone-penn-215\n",
      "Does this patient have T2 available? True\n",
      "T2 image unavailable\n",
      "bone-hup-2\n",
      "Does this patient have T2 available? True\n",
      "I'm doing the thing.\n"
     ]
    },
    {
     "name": "stderr",
     "output_type": "stream",
     "text": [
      "\r",
      " 85%|████████▌ | 604/710 [00:56<00:14,  7.33it/s]"
     ]
    },
    {
     "name": "stderr",
     "output_type": "stream",
     "text": [
      "\r",
      " 85%|████████▌ | 606/710 [00:56<00:12,  8.60it/s]"
     ]
    },
    {
     "name": "stdout",
     "output_type": "stream",
     "text": [
      "bone-hup-228\n",
      "Does this patient have T2 available? True\n",
      "I'm doing the thing.\n",
      "bone-penn-618\n",
      "Does this patient have T2 available? True\n",
      "I'm doing the thing.\n",
      "bone-hup-185\n",
      "Does this patient have T2 available? True\n",
      "T2 image unavailable\n",
      "bone-penn-414\n",
      "Does this patient have T2 available? True\n",
      "I'm doing the thing.\n",
      "bone-penn-213\n",
      "Does this patient have T2 available? False\n",
      "T2 image unavailable\n",
      "bone-hup-112\n",
      "Does this patient have T2 available? True\n",
      "I'm doing the thing.\n"
     ]
    },
    {
     "name": "stderr",
     "output_type": "stream",
     "text": [
      "\r",
      " 86%|████████▌ | 610/710 [00:57<00:09, 10.59it/s]"
     ]
    },
    {
     "name": "stderr",
     "output_type": "stream",
     "text": [
      "\r",
      " 86%|████████▌ | 612/710 [00:57<00:08, 11.99it/s]"
     ]
    },
    {
     "name": "stdout",
     "output_type": "stream",
     "text": [
      "bone-penn-183\n",
      "Does this patient have T2 available? True\n",
      "I'm doing the thing.\n",
      "bone-hup-170\n",
      "Does this patient have T2 available? True\n",
      "I'm doing the thing.\n",
      "bone-penn-120\n",
      "Does this patient have T2 available? True\n",
      "I'm doing the thing.\n"
     ]
    },
    {
     "name": "stderr",
     "output_type": "stream",
     "text": [
      "\r",
      " 86%|████████▋ | 614/710 [00:57<00:07, 12.14it/s]"
     ]
    },
    {
     "name": "stderr",
     "output_type": "stream",
     "text": [
      "\r",
      " 87%|████████▋ | 619/710 [00:57<00:05, 15.61it/s]"
     ]
    },
    {
     "name": "stdout",
     "output_type": "stream",
     "text": [
      "bone-hup-104\n",
      "Does this patient have T2 available? True\n",
      "I'm doing the thing.\n",
      "bone-penn-272\n",
      "Does this patient have T2 available? False\n",
      "T2 image unavailable\n",
      "bone-penn-216\n",
      "Does this patient have T2 available? True\n",
      "T2 image unavailable\n",
      "bone-hup-209\n",
      "Does this patient have T2 available? False\n",
      "T2 image unavailable\n",
      "bone-penn-221\n",
      "Does this patient have T2 available? False\n",
      "T2 image unavailable\n",
      "bone-hup-201\n",
      "Does this patient have T2 available? True\n",
      "I'm doing the thing.\n",
      "bone-penn-605\n",
      "Does this patient have T2 available? True\n",
      "I'm doing the thing.\n"
     ]
    },
    {
     "name": "stdout",
     "output_type": "stream",
     "text": [
      "bone-hup-63\n",
      "Does this patient have T2 available? False\n",
      "T2 image unavailable\n",
      "bone-hup-245\n",
      "Does this patient have T2 available? True\n",
      "T2 image unavailable\n",
      "bone-penn-241\n",
      "Does this patient have T2 available? True\n",
      "I'm doing the thing.\n"
     ]
    },
    {
     "name": "stderr",
     "output_type": "stream",
     "text": [
      "\r",
      " 88%|████████▊ | 623/710 [00:57<00:06, 14.28it/s]"
     ]
    },
    {
     "name": "stdout",
     "output_type": "stream",
     "text": [
      "bone-penn-169\n",
      "Does this patient have T2 available? True\n",
      "I'm doing the thing.\n",
      "bone-china-209\n",
      "Does this patient have T2 available? True\n",
      "I'm doing the thing.\n",
      "bone-penn-309\n",
      "Does this patient have T2 available? True\n",
      "I'm doing the thing.\n"
     ]
    },
    {
     "name": "stderr",
     "output_type": "stream",
     "text": [
      "\r",
      " 88%|████████▊ | 626/710 [00:58<00:06, 13.17it/s]"
     ]
    },
    {
     "name": "stdout",
     "output_type": "stream",
     "text": [
      "bone-hup-107\n",
      "Does this patient have T2 available? True\n",
      "T2 image unavailable\n",
      "bone-hup-58\n",
      "Does this patient have T2 available? True\n",
      "I'm doing the thing.\n",
      "\n",
      "################################################################################\n",
      "Exception occurred for: outcome_pos   1.000\n",
      "outcome_neg   1.000\n",
      "outcome_3     2.000\n",
      "sort              -\n",
      "volume        0.140\n",
      "Name: bone-hup-58, dtype: object\n",
      "index 163 is out of bounds for axis 0 with size 2\n",
      "T2 image unavailable\n",
      "Traceback (most recent call last):\n",
      "  File \"/home/user1/Documents/Bone-MRI/data_gen.py\", line 392, in generate_from_features\n",
      "    t2_masked = load_image(t2_image_file, t2_seg_file, verbose=verbose)\n",
      "  File \"/home/user1/Documents/Bone-MRI/data_gen.py\", line 331, in load_image\n",
      "    return [mask_image_percentile(image, segmentation, 100, a) for a in (0, 1, 2)]\n",
      "  File \"/home/user1/Documents/Bone-MRI/data_gen.py\", line 331, in <listcomp>\n",
      "    return [mask_image_percentile(image, segmentation, 100, a) for a in (0, 1, 2)]\n",
      "  File \"/home/user1/Documents/Bone-MRI/data_gen.py\", line 335, in mask_image_percentile\n",
      "    image, segmentation = select_slice(image, segmentation, plane, axis)\n",
      "  File \"/home/user1/Documents/Bone-MRI/segmentation.py\", line 40, in select_slice\n",
      "    image = axis_plane[axis](image, plane)\n",
      "  File \"/home/user1/Documents/Bone-MRI/segmentation.py\", line 13, in <lambda>\n",
      "    0: lambda image, plane : image[plane, :, :],\n",
      "IndexError: index 163 is out of bounds for axis 0 with size 2\n",
      "\n",
      "bone-penn-223\n",
      "Does this patient have T2 available? True\n",
      "I'm doing the thing.\n"
     ]
    },
    {
     "name": "stderr",
     "output_type": "stream",
     "text": [
      "\r",
      " 89%|████████▊ | 629/710 [00:58<00:06, 11.96it/s]"
     ]
    },
    {
     "name": "stdout",
     "output_type": "stream",
     "text": [
      "bone-penn-273\n",
      "Does this patient have T2 available? True\n",
      "I'm doing the thing.\n"
     ]
    },
    {
     "name": "stderr",
     "output_type": "stream",
     "text": [
      "\r",
      " 89%|████████▉ | 631/710 [00:58<00:08,  9.52it/s]"
     ]
    },
    {
     "name": "stdout",
     "output_type": "stream",
     "text": [
      "\n",
      "################################################################################\n",
      "Exception occurred for: outcome_pos   1.000\n",
      "outcome_neg   1.000\n",
      "outcome_3     2.000\n",
      "sort              -\n",
      "volume        0.141\n",
      "Name: bone-penn-273, dtype: object\n",
      "index 246 is out of bounds for axis 0 with size 2\n",
      "T2 image unavailable\n",
      "Traceback (most recent call last):\n",
      "  File \"/home/user1/Documents/Bone-MRI/data_gen.py\", line 392, in generate_from_features\n",
      "    t2_masked = load_image(t2_image_file, t2_seg_file, verbose=verbose)\n",
      "  File \"/home/user1/Documents/Bone-MRI/data_gen.py\", line 331, in load_image\n",
      "    return [mask_image_percentile(image, segmentation, 100, a) for a in (0, 1, 2)]\n",
      "  File \"/home/user1/Documents/Bone-MRI/data_gen.py\", line 331, in <listcomp>\n",
      "    return [mask_image_percentile(image, segmentation, 100, a) for a in (0, 1, 2)]\n",
      "  File \"/home/user1/Documents/Bone-MRI/data_gen.py\", line 335, in mask_image_percentile\n",
      "    image, segmentation = select_slice(image, segmentation, plane, axis)\n",
      "  File \"/home/user1/Documents/Bone-MRI/segmentation.py\", line 40, in select_slice\n",
      "    image = axis_plane[axis](image, plane)\n",
      "  File \"/home/user1/Documents/Bone-MRI/segmentation.py\", line 13, in <lambda>\n",
      "    0: lambda image, plane : image[plane, :, :],\n",
      "IndexError: index 246 is out of bounds for axis 0 with size 2\n",
      "\n",
      "bone-hup-92\n",
      "Does this patient have T2 available? True\n",
      "I'm doing the thing.\n",
      "bone-penn-201\n",
      "Does this patient have T2 available? False\n",
      "T2 image unavailable\n",
      "bone-penn-311\n",
      "Does this patient have T2 available? True\n",
      "I'm doing the thing.\n"
     ]
    },
    {
     "name": "stderr",
     "output_type": "stream",
     "text": [
      "\r",
      " 89%|████████▉ | 633/710 [00:58<00:07,  9.95it/s]"
     ]
    },
    {
     "name": "stderr",
     "output_type": "stream",
     "text": [
      "\r",
      " 89%|████████▉ | 635/710 [00:59<00:06, 11.32it/s]"
     ]
    },
    {
     "name": "stdout",
     "output_type": "stream",
     "text": [
      "bone-hup-22\n",
      "Does this patient have T2 available? True\n",
      "I'm doing the thing.\n",
      "bone-penn-477\n",
      "Does this patient have T2 available? False\n",
      "T2 image unavailable\n",
      "bone-hup-207\n",
      "Does this patient have T2 available? True\n",
      "I'm doing the thing.\n",
      "bone-penn-643\n",
      "Does this patient have T2 available? True\n",
      "I'm doing the thing.\n"
     ]
    },
    {
     "name": "stderr",
     "output_type": "stream",
     "text": [
      "\r",
      " 90%|████████▉ | 637/710 [00:59<00:07, 10.34it/s]"
     ]
    },
    {
     "name": "stderr",
     "output_type": "stream",
     "text": [
      "\r",
      " 90%|█████████ | 641/710 [00:59<00:05, 12.49it/s]"
     ]
    },
    {
     "name": "stdout",
     "output_type": "stream",
     "text": [
      "bone-hup-221\n",
      "Does this patient have T2 available? False\n",
      "T2 image unavailable\n",
      "bone-hup-56\n",
      "Does this patient have T2 available? True\n",
      "I'm doing the thing.\n",
      "bone-penn-195\n",
      "Does this patient have T2 available? True\n",
      "T2 image unavailable\n",
      "bone-hup-83\n",
      "Does this patient have T2 available? True\n",
      "I'm doing the thing.\n",
      "bone-china-222\n",
      "Does this patient have T2 available? True\n",
      "I'm doing the thing.\n",
      "bone-penn-262\n",
      "Does this patient have T2 available? True\n",
      "I'm doing the thing.\n"
     ]
    },
    {
     "name": "stderr",
     "output_type": "stream",
     "text": [
      "\r",
      " 91%|█████████ | 643/710 [00:59<00:05, 11.48it/s]"
     ]
    },
    {
     "name": "stdout",
     "output_type": "stream",
     "text": [
      "\n",
      "################################################################################\n",
      "Exception occurred for: outcome_pos   1.000\n",
      "outcome_neg   1.000\n",
      "outcome_3     2.000\n",
      "sort              -\n",
      "volume        0.140\n",
      "Name: bone-penn-262, dtype: object\n",
      "index 352 is out of bounds for axis 0 with size 2\n",
      "T2 image unavailable\n",
      "Traceback (most recent call last):\n",
      "  File \"/home/user1/Documents/Bone-MRI/data_gen.py\", line 392, in generate_from_features\n",
      "    t2_masked = load_image(t2_image_file, t2_seg_file, verbose=verbose)\n",
      "  File \"/home/user1/Documents/Bone-MRI/data_gen.py\", line 331, in load_image\n",
      "    return [mask_image_percentile(image, segmentation, 100, a) for a in (0, 1, 2)]\n",
      "  File \"/home/user1/Documents/Bone-MRI/data_gen.py\", line 331, in <listcomp>\n",
      "    return [mask_image_percentile(image, segmentation, 100, a) for a in (0, 1, 2)]\n",
      "  File \"/home/user1/Documents/Bone-MRI/data_gen.py\", line 335, in mask_image_percentile\n",
      "    image, segmentation = select_slice(image, segmentation, plane, axis)\n",
      "  File \"/home/user1/Documents/Bone-MRI/segmentation.py\", line 40, in select_slice\n",
      "    image = axis_plane[axis](image, plane)\n",
      "  File \"/home/user1/Documents/Bone-MRI/segmentation.py\", line 13, in <lambda>\n",
      "    0: lambda image, plane : image[plane, :, :],\n",
      "IndexError: index 352 is out of bounds for axis 0 with size 2\n",
      "\n",
      "bone-china-231\n",
      "Does this patient have T2 available? True\n",
      "I'm doing the thing.\n",
      "bone-penn-227\n",
      "Does this patient have T2 available? True\n",
      "I'm doing the thing.\n"
     ]
    },
    {
     "name": "stderr",
     "output_type": "stream",
     "text": [
      "\r",
      " 91%|█████████ | 645/710 [01:00<00:08,  7.33it/s]"
     ]
    },
    {
     "name": "stderr",
     "output_type": "stream",
     "text": [
      "\r",
      " 91%|█████████▏| 648/710 [01:00<00:06,  8.95it/s]"
     ]
    },
    {
     "name": "stdout",
     "output_type": "stream",
     "text": [
      "bone-penn-626\n",
      "Does this patient have T2 available? True\n",
      "I'm doing the thing.\n",
      "bone-penn-370\n",
      "Does this patient have T2 available? True\n",
      "I'm doing the thing.\n",
      "bone-hup-166\n",
      "Does this patient have T2 available? True\n",
      "I'm doing the thing.\n",
      "bone-penn-174\n",
      "Does this patient have T2 available? True\n",
      "I'm doing the thing.\n"
     ]
    },
    {
     "name": "stdout",
     "output_type": "stream",
     "text": [
      "bone-penn-237\n",
      "Does this patient have T2 available? True\n",
      "T2 image unavailable\n",
      "bone-hup-261\n",
      "Does this patient have T2 available? True\n",
      "I'm doing the thing.\n"
     ]
    },
    {
     "name": "stderr",
     "output_type": "stream",
     "text": [
      "\r",
      " 92%|█████████▏| 651/710 [01:00<00:07,  7.56it/s]"
     ]
    },
    {
     "name": "stderr",
     "output_type": "stream",
     "text": [
      "\r",
      " 92%|█████████▏| 656/710 [01:00<00:05, 10.04it/s]"
     ]
    },
    {
     "name": "stdout",
     "output_type": "stream",
     "text": [
      "bone-hup-184\n",
      "Does this patient have T2 available? False\n",
      "T2 image unavailable\n",
      "bone-hup-198\n",
      "Does this patient have T2 available? True\n",
      "T2 image unavailable\n",
      "bone-china-197\n",
      "Does this patient have T2 available? True\n",
      "T2 image unavailable\n",
      "bone-hup-113\n",
      "Does this patient have T2 available? True\n",
      "I'm doing the thing.\n",
      "bone-hup-213\n",
      "Does this patient have T2 available? True\n",
      "I'm doing the thing.\n",
      "bone-penn-186\n",
      "Does this patient have T2 available? False\n",
      "T2 image unavailable\n",
      "bone-penn-245\n",
      "Does this patient have T2 available? True\n",
      "I'm doing the thing.\n"
     ]
    },
    {
     "name": "stderr",
     "output_type": "stream",
     "text": [
      "\r",
      " 93%|█████████▎| 659/710 [01:01<00:04, 11.96it/s]"
     ]
    },
    {
     "name": "stdout",
     "output_type": "stream",
     "text": [
      "bone-penn-247\n",
      "Does this patient have T2 available? True\n",
      "I'm doing the thing.\n",
      "bone-hup-232\n",
      "Does this patient have T2 available? True\n",
      "I'm doing the thing.\n"
     ]
    },
    {
     "name": "stderr",
     "output_type": "stream",
     "text": [
      "\r",
      " 93%|█████████▎| 662/710 [01:01<00:04, 11.02it/s]"
     ]
    },
    {
     "name": "stdout",
     "output_type": "stream",
     "text": [
      "bone-penn-640\n",
      "Does this patient have T2 available? True\n",
      "I'm doing the thing.\n",
      "bone-hup-98\n",
      "Does this patient have T2 available? True\n",
      "I'm doing the thing.\n",
      "bone-penn-236\n",
      "Does this patient have T2 available? True\n",
      "I'm doing the thing.\n"
     ]
    },
    {
     "name": "stderr",
     "output_type": "stream",
     "text": [
      "\r",
      " 94%|█████████▎| 664/710 [01:01<00:04, 11.37it/s]"
     ]
    },
    {
     "name": "stderr",
     "output_type": "stream",
     "text": [
      "\r",
      " 94%|█████████▍| 666/710 [01:01<00:03, 11.31it/s]"
     ]
    },
    {
     "name": "stdout",
     "output_type": "stream",
     "text": [
      "bone-hup-186\n",
      "Does this patient have T2 available? True\n",
      "T2 image unavailable\n",
      "bone-hup-53\n",
      "Does this patient have T2 available? True\n",
      "I'm doing the thing.\n",
      "bone-penn-611\n",
      "Does this patient have T2 available? True\n",
      "I'm doing the thing.\n",
      "bone-penn-242\n",
      "Does this patient have T2 available? True\n",
      "T2 image unavailable\n",
      "bone-hup-115\n",
      "Does this patient have T2 available? True\n",
      "T2 image unavailable\n",
      "bone-hup-183\n",
      "Does this patient have T2 available? True\n",
      "I'm doing the thing.\n"
     ]
    },
    {
     "name": "stderr",
     "output_type": "stream",
     "text": [
      "\r",
      " 94%|█████████▍| 670/710 [01:01<00:02, 13.58it/s]"
     ]
    },
    {
     "name": "stdout",
     "output_type": "stream",
     "text": [
      "bone-hup-69\n",
      "Does this patient have T2 available? True\n",
      "I'm doing the thing.\n",
      "bone-hup-138\n",
      "Does this patient have T2 available? True\n",
      "I'm doing the thing.\n"
     ]
    },
    {
     "name": "stderr",
     "output_type": "stream",
     "text": [
      "\r",
      " 95%|█████████▍| 672/710 [01:02<00:03, 11.30it/s]"
     ]
    },
    {
     "name": "stdout",
     "output_type": "stream",
     "text": [
      "bone-penn-167\n",
      "Does this patient have T2 available? True\n",
      "I'm doing the thing.\n",
      "bone-penn-210\n",
      "Does this patient have T2 available? True\n",
      "I'm doing the thing.\n"
     ]
    },
    {
     "name": "stderr",
     "output_type": "stream",
     "text": [
      "\r",
      " 95%|█████████▍| 674/710 [01:02<00:03, 11.63it/s]"
     ]
    },
    {
     "name": "stdout",
     "output_type": "stream",
     "text": [
      "bone-hup-175\n",
      "Does this patient have T2 available? True\n",
      "I'm doing the thing.\n",
      "bone-penn-218\n",
      "Does this patient have T2 available? True\n",
      "I'm doing the thing.\n"
     ]
    },
    {
     "name": "stderr",
     "output_type": "stream",
     "text": [
      "\r",
      " 95%|█████████▌| 676/710 [01:02<00:03,  9.55it/s]"
     ]
    },
    {
     "name": "stdout",
     "output_type": "stream",
     "text": [
      "bone-hup-94\n",
      "Does this patient have T2 available? True\n",
      "I'm doing the thing.\n",
      "bone-penn-268\n",
      "Does this patient have T2 available? True\n",
      "I'm doing the thing.\n",
      "bone-hup-252\n",
      "Does this patient have T2 available? True\n",
      "T2 image unavailable\n",
      "bone-penn-191\n",
      "Does this patient have T2 available? True\n",
      "I'm doing the thing.\n"
     ]
    },
    {
     "name": "stderr",
     "output_type": "stream",
     "text": [
      "\r",
      " 96%|█████████▌| 679/710 [01:02<00:02, 10.96it/s]"
     ]
    },
    {
     "name": "stdout",
     "output_type": "stream",
     "text": [
      "bone-penn-646\n",
      "Does this patient have T2 available? True\n",
      "I'm doing the thing.\n",
      "bone-penn-234\n",
      "Does this patient have T2 available? True\n",
      "I'm doing the thing.\n"
     ]
    },
    {
     "name": "stderr",
     "output_type": "stream",
     "text": [
      "\r",
      " 96%|█████████▌| 681/710 [01:03<00:03,  8.13it/s]"
     ]
    },
    {
     "name": "stderr",
     "output_type": "stream",
     "text": [
      "\r",
      " 96%|█████████▋| 684/710 [01:03<00:02, 10.14it/s]"
     ]
    },
    {
     "name": "stdout",
     "output_type": "stream",
     "text": [
      "bone-hup-54\n",
      "Does this patient have T2 available? True\n",
      "I'm doing the thing.\n",
      "bone-penn-634\n",
      "Does this patient have T2 available? True\n",
      "T2 image unavailable\n",
      "bone-hup-200\n",
      "Does this patient have T2 available? True\n",
      "I'm doing the thing.\n",
      "bone-hup-192\n",
      "Does this patient have T2 available? True\n",
      "I'm doing the thing.\n",
      "bone-hup-76\n",
      "Does this patient have T2 available? True\n",
      "I'm doing the thing.\n"
     ]
    },
    {
     "name": "stderr",
     "output_type": "stream",
     "text": [
      "\r",
      " 97%|█████████▋| 686/710 [01:03<00:02, 11.60it/s]"
     ]
    },
    {
     "name": "stderr",
     "output_type": "stream",
     "text": [
      "\r",
      " 97%|█████████▋| 688/710 [01:03<00:01, 13.00it/s]"
     ]
    },
    {
     "name": "stdout",
     "output_type": "stream",
     "text": [
      "bone-hup-100\n",
      "Does this patient have T2 available? True\n",
      "T2 image unavailable\n",
      "bone-penn-637\n",
      "Does this patient have T2 available? True\n",
      "I'm doing the thing.\n",
      "bone-penn-365\n",
      "Does this patient have T2 available? False\n",
      "T2 image unavailable\n",
      "bone-penn-422\n",
      "Does this patient have T2 available? True\n",
      "I'm doing the thing.\n"
     ]
    },
    {
     "name": "stderr",
     "output_type": "stream",
     "text": [
      "\r",
      " 97%|█████████▋| 690/710 [01:03<00:01, 14.52it/s]"
     ]
    },
    {
     "name": "stderr",
     "output_type": "stream",
     "text": [
      "\r",
      " 98%|█████████▊| 694/710 [01:03<00:00, 17.70it/s]"
     ]
    },
    {
     "name": "stdout",
     "output_type": "stream",
     "text": [
      "bone-hup-284\n",
      "Does this patient have T2 available? True\n",
      "T2 image unavailable\n",
      "bone-china-201\n",
      "Does this patient have T2 available? True\n",
      "I'm doing the thing.\n",
      "bone-penn-633\n",
      "Does this patient have T2 available? True\n",
      "I'm doing the thing.\n",
      "bone-penn-367\n",
      "Does this patient have T2 available? True\n",
      "I'm doing the thing.\n",
      "bone-china-184\n",
      "Does this patient have T2 available? True\n",
      "I'm doing the thing.\n",
      "bone-hup-148\n",
      "Does this patient have T2 available? True\n",
      "I'm doing the thing.\n"
     ]
    },
    {
     "name": "stderr",
     "output_type": "stream",
     "text": [
      "\r",
      " 98%|█████████▊| 697/710 [01:04<00:00, 13.22it/s]"
     ]
    },
    {
     "name": "stdout",
     "output_type": "stream",
     "text": [
      "bone-hup-106\n",
      "Does this patient have T2 available? True\n",
      "I'm doing the thing.\n",
      "bone-penn-596\n",
      "Does this patient have T2 available? True\n",
      "I'm doing the thing.\n"
     ]
    },
    {
     "name": "stderr",
     "output_type": "stream",
     "text": [
      "\r",
      " 98%|█████████▊| 699/710 [01:04<00:00, 12.79it/s]"
     ]
    },
    {
     "name": "stdout",
     "output_type": "stream",
     "text": [
      "bone-penn-598\n",
      "Does this patient have T2 available? True\n",
      "I'm doing the thing.\n",
      "bone-penn-258\n",
      "Does this patient have T2 available? True\n",
      "I'm doing the thing.\n"
     ]
    },
    {
     "name": "stderr",
     "output_type": "stream",
     "text": [
      "\r",
      " 99%|█████████▉| 702/710 [01:04<00:00, 15.22it/s]"
     ]
    },
    {
     "name": "stdout",
     "output_type": "stream",
     "text": [
      "bone-penn-128\n",
      "Does this patient have T2 available? False\n",
      "T2 image unavailable\n",
      "bone-hup-203\n",
      "Does this patient have T2 available? True\n",
      "I'm doing the thing.\n",
      "bone-penn-222\n",
      "Does this patient have T2 available? True\n",
      "I'm doing the thing.\n",
      "bone-penn-607\n",
      "Does this patient have T2 available? True\n",
      "I'm doing the thing.\n"
     ]
    },
    {
     "name": "stderr",
     "output_type": "stream",
     "text": [
      "\r",
      " 99%|█████████▉| 704/710 [01:04<00:00,  9.41it/s]"
     ]
    },
    {
     "name": "stdout",
     "output_type": "stream",
     "text": [
      "bone-hup-85\n",
      "Does this patient have T2 available? True\n",
      "I'm doing the thing.\n"
     ]
    },
    {
     "name": "stderr",
     "output_type": "stream",
     "text": [
      "\r",
      " 99%|█████████▉| 706/710 [01:05<00:00,  7.27it/s]"
     ]
    },
    {
     "name": "stdout",
     "output_type": "stream",
     "text": [
      "bone-penn-386\n",
      "Does this patient have T2 available? True\n",
      "I'm doing the thing.\n",
      "bone-penn-178\n",
      "Does this patient have T2 available? True\n",
      "I'm doing the thing.\n"
     ]
    },
    {
     "name": "stderr",
     "output_type": "stream",
     "text": [
      "\r",
      "100%|█████████▉| 708/710 [01:05<00:00,  7.98it/s]"
     ]
    },
    {
     "name": "stderr",
     "output_type": "stream",
     "text": [
      "\r",
      "100%|██████████| 710/710 [01:05<00:00, 10.84it/s]"
     ]
    },
    {
     "name": "stderr",
     "output_type": "stream",
     "text": [
      "\n",
      "\r",
      "  0%|          | 0/200 [00:00<?, ?it/s]"
     ]
    },
    {
     "name": "stdout",
     "output_type": "stream",
     "text": [
      "bone-penn-130\n",
      "Does this patient have T2 available? True\n",
      "I'm doing the thing.\n",
      "bone-china-016\n",
      "Does this patient have T2 available? True\n",
      "I'm doing the thing.\n",
      "bone-china-049\n",
      "Does this patient have T2 available? True\n",
      "I'm doing the thing.\n",
      "bone-penn-302\n",
      "Does this patient have T2 available? False\n",
      "T2 image unavailable\n",
      "bone-hup-287\n",
      "Does this patient have T2 available? True\n",
      "I'm doing the thing.\n"
     ]
    },
    {
     "name": "stderr",
     "output_type": "stream",
     "text": [
      "\r",
      "  2%|▏         | 3/200 [00:00<00:08, 23.84it/s]"
     ]
    },
    {
     "name": "stdout",
     "output_type": "stream",
     "text": [
      "bone-penn-457\n",
      "Does this patient have T2 available? True\n",
      "I'm doing the thing.\n",
      "bone-penn-281\n",
      "Does this patient have T2 available? True\n",
      "I'm doing the thing.\n",
      "bone-penn-347\n",
      "Does this patient have T2 available? True\n",
      "I'm doing the thing.\n"
     ]
    },
    {
     "name": "stderr",
     "output_type": "stream",
     "text": [
      "\r",
      "  2%|▎         | 5/200 [00:00<00:10, 18.48it/s]"
     ]
    },
    {
     "name": "stderr",
     "output_type": "stream",
     "text": [
      "\r",
      "  3%|▎         | 6/200 [00:00<00:16, 12.06it/s]"
     ]
    },
    {
     "name": "stdout",
     "output_type": "stream",
     "text": [
      "bone-penn-289\n",
      "Does this patient have T2 available? True\n",
      "I'm doing the thing.\n",
      "bone-china-040\n",
      "Does this patient have T2 available? True\n",
      "I'm doing the thing.\n",
      "bone-hup-140\n",
      "Does this patient have T2 available? False\n",
      "T2 image unavailable\n",
      "bone-penn-150\n",
      "Does this patient have T2 available? True\n",
      "I'm doing the thing.\n"
     ]
    },
    {
     "name": "stderr",
     "output_type": "stream",
     "text": [
      "\r",
      "  4%|▍         | 9/200 [00:00<00:14, 13.54it/s]"
     ]
    },
    {
     "name": "stderr",
     "output_type": "stream",
     "text": [
      "\r",
      "  6%|▌         | 11/200 [00:00<00:13, 14.07it/s]"
     ]
    },
    {
     "name": "stdout",
     "output_type": "stream",
     "text": [
      "bone-china-021\n",
      "Does this patient have T2 available? True\n",
      "I'm doing the thing.\n",
      "bone-penn-157\n",
      "Does this patient have T2 available? True\n",
      "I'm doing the thing.\n",
      "bone-china-042\n",
      "Does this patient have T2 available? True\n",
      "I'm doing the thing.\n",
      "bone-penn-551\n",
      "Does this patient have T2 available? True\n",
      "I'm doing the thing.\n"
     ]
    },
    {
     "name": "stderr",
     "output_type": "stream",
     "text": [
      "\r",
      "  7%|▋         | 14/200 [00:00<00:13, 13.32it/s]"
     ]
    },
    {
     "name": "stdout",
     "output_type": "stream",
     "text": [
      "bone-penn-137\n",
      "Does this patient have T2 available? True\n",
      "I'm doing the thing.\n",
      "bone-penn-152\n",
      "Does this patient have T2 available? True\n",
      "I'm doing the thing.\n"
     ]
    },
    {
     "name": "stderr",
     "output_type": "stream",
     "text": [
      "\r",
      "  8%|▊         | 16/200 [00:01<00:15, 11.79it/s]"
     ]
    },
    {
     "name": "stdout",
     "output_type": "stream",
     "text": [
      "bone-hup-293\n",
      "Does this patient have T2 available? True\n",
      "I'm doing the thing.\n",
      "bone-china-065\n",
      "Does this patient have T2 available? True\n",
      "I'm doing the thing.\n",
      "bone-china-069\n",
      "Does this patient have T2 available? True\n",
      "I'm doing the thing.\n",
      "bone-penn-503\n",
      "Does this patient have T2 available? True\n",
      "I'm doing the thing.\n"
     ]
    },
    {
     "name": "stderr",
     "output_type": "stream",
     "text": [
      "\r",
      " 10%|▉         | 19/200 [00:01<00:13, 13.02it/s]"
     ]
    },
    {
     "name": "stdout",
     "output_type": "stream",
     "text": [
      "bone-penn-312\n",
      "Does this patient have T2 available? True\n",
      "I'm doing the thing.\n"
     ]
    },
    {
     "name": "stderr",
     "output_type": "stream",
     "text": [
      "\r",
      " 10%|█         | 21/200 [00:01<00:17, 10.46it/s]"
     ]
    },
    {
     "name": "stderr",
     "output_type": "stream",
     "text": [
      "\r",
      " 12%|█▏        | 23/200 [00:01<00:14, 11.92it/s]"
     ]
    },
    {
     "name": "stdout",
     "output_type": "stream",
     "text": [
      "bone-china-071\n",
      "Does this patient have T2 available? True\n",
      "I'm doing the thing.\n",
      "bone-hup-142\n",
      "Does this patient have T2 available? True\n",
      "I'm doing the thing.\n",
      "bone-china-056\n",
      "Does this patient have T2 available? True\n",
      "I'm doing the thing.\n",
      "bone-china-028\n",
      "Does this patient have T2 available? True\n",
      "I'm doing the thing.\n"
     ]
    },
    {
     "name": "stdout",
     "output_type": "stream",
     "text": [
      "bone-penn-151\n",
      "Does this patient have T2 available? True\n",
      "I'm doing the thing.\n"
     ]
    },
    {
     "name": "stderr",
     "output_type": "stream",
     "text": [
      "\r",
      " 12%|█▎        | 25/200 [00:02<00:19,  9.13it/s]"
     ]
    },
    {
     "name": "stderr",
     "output_type": "stream",
     "text": [
      "\r",
      " 14%|█▍        | 29/200 [00:02<00:15, 11.02it/s]"
     ]
    },
    {
     "name": "stdout",
     "output_type": "stream",
     "text": [
      "bone-hup-264\n",
      "Does this patient have T2 available? False\n",
      "T2 image unavailable\n",
      "bone-china-085\n",
      "Does this patient have T2 available? True\n",
      "I'm doing the thing.\n",
      "bone-penn-331\n",
      "Does this patient have T2 available? False\n",
      "T2 image unavailable\n",
      "bone-penn-127\n",
      "Does this patient have T2 available? True\n",
      "I'm doing the thing.\n",
      "bone-penn-563\n",
      "Does this patient have T2 available? False\n",
      "T2 image unavailable\n",
      "bone-hup-305\n",
      "Does this patient have T2 available? True\n",
      "I'm doing the thing.\n"
     ]
    },
    {
     "name": "stderr",
     "output_type": "stream",
     "text": [
      "\r",
      " 16%|█▌        | 31/200 [00:02<00:15, 10.79it/s]"
     ]
    },
    {
     "name": "stdout",
     "output_type": "stream",
     "text": [
      "bone-hup-146\n",
      "Does this patient have T2 available? True\n",
      "I'm doing the thing.\n",
      "bone-hup-295\n",
      "Does this patient have T2 available? True\n",
      "I'm doing the thing.\n"
     ]
    },
    {
     "name": "stderr",
     "output_type": "stream",
     "text": [
      "\r",
      " 16%|█▋        | 33/200 [00:02<00:18,  9.18it/s]"
     ]
    },
    {
     "name": "stderr",
     "output_type": "stream",
     "text": [
      "\r",
      " 19%|█▉        | 38/200 [00:02<00:14, 11.51it/s]"
     ]
    },
    {
     "name": "stdout",
     "output_type": "stream",
     "text": [
      "bone-penn-287\n",
      "Does this patient have T2 available? False\n",
      "T2 image unavailable\n",
      "bone-penn-351\n",
      "Does this patient have T2 available? False\n",
      "T2 image unavailable\n",
      "bone-china-077\n",
      "Does this patient have T2 available? True\n",
      "I'm doing the thing.\n",
      "bone-china-014\n",
      "Does this patient have T2 available? True\n",
      "I'm doing the thing.\n",
      "bone-china-046\n",
      "Does this patient have T2 available? True\n",
      "I'm doing the thing.\n",
      "bone-hup-159\n",
      "Does this patient have T2 available? False\n",
      "T2 image unavailable\n",
      "bone-china-035\n",
      "Does this patient have T2 available? True\n",
      "I'm doing the thing.\n"
     ]
    },
    {
     "name": "stderr",
     "output_type": "stream",
     "text": [
      "\r",
      " 20%|██        | 41/200 [00:03<00:11, 13.62it/s]"
     ]
    },
    {
     "name": "stdout",
     "output_type": "stream",
     "text": [
      "bone-china-081\n",
      "Does this patient have T2 available? True\n",
      "I'm doing the thing.\n",
      "bone-penn-474\n",
      "Does this patient have T2 available? True\n",
      "I'm doing the thing.\n",
      "bone-penn-108\n",
      "Does this patient have T2 available? True\n",
      "I'm doing the thing.\n"
     ]
    },
    {
     "name": "stderr",
     "output_type": "stream",
     "text": [
      "\r",
      " 22%|██▏       | 43/200 [00:03<00:14, 10.93it/s]"
     ]
    },
    {
     "name": "stdout",
     "output_type": "stream",
     "text": [
      "bone-china-068\n",
      "Does this patient have T2 available? True\n",
      "I'm doing the thing.\n",
      "bone-hup-320\n",
      "Does this patient have T2 available? True\n",
      "I'm doing the thing.\n"
     ]
    },
    {
     "name": "stderr",
     "output_type": "stream",
     "text": [
      "\r",
      " 22%|██▎       | 45/200 [00:03<00:19,  7.99it/s]"
     ]
    },
    {
     "name": "stderr",
     "output_type": "stream",
     "text": [
      "\r",
      " 24%|██▎       | 47/200 [00:03<00:17,  8.85it/s]"
     ]
    },
    {
     "name": "stdout",
     "output_type": "stream",
     "text": [
      "bone-hup-327\n",
      "Does this patient have T2 available? True\n",
      "I'm doing the thing.\n",
      "bone-penn-550\n",
      "Does this patient have T2 available? True\n",
      "I'm doing the thing.\n",
      "bone-penn-349\n",
      "Does this patient have T2 available? True\n",
      "I'm doing the thing.\n"
     ]
    },
    {
     "name": "stderr",
     "output_type": "stream",
     "text": [
      "\r",
      " 25%|██▌       | 50/200 [00:04<00:14, 10.49it/s]"
     ]
    },
    {
     "name": "stdout",
     "output_type": "stream",
     "text": [
      "bone-penn-136\n",
      "Does this patient have T2 available? False\n",
      "T2 image unavailable\n",
      "bone-penn-139\n",
      "Does this patient have T2 available? True\n",
      "I'm doing the thing.\n",
      "bone-penn-329\n",
      "Does this patient have T2 available? True\n",
      "I'm doing the thing.\n"
     ]
    },
    {
     "name": "stderr",
     "output_type": "stream",
     "text": [
      "\r",
      " 26%|██▌       | 52/200 [00:04<00:17,  8.27it/s]"
     ]
    },
    {
     "name": "stdout",
     "output_type": "stream",
     "text": [
      "bone-hup-139\n",
      "Does this patient have T2 available? True\n",
      "I'm doing the thing.\n",
      "bone-hup-324\n",
      "Does this patient have T2 available? True\n",
      "T2 image unavailable\n",
      "bone-penn-134\n",
      "Does this patient have T2 available? True\n",
      "I'm doing the thing.\n"
     ]
    },
    {
     "name": "stderr",
     "output_type": "stream",
     "text": [
      "\r",
      " 27%|██▋       | 54/200 [00:04<00:16,  8.98it/s]"
     ]
    },
    {
     "name": "stderr",
     "output_type": "stream",
     "text": [
      "\r",
      " 28%|██▊       | 56/200 [00:04<00:13, 10.34it/s]"
     ]
    },
    {
     "name": "stdout",
     "output_type": "stream",
     "text": [
      "bone-penn-98\n",
      "Does this patient have T2 available? True\n",
      "I'm doing the thing.\n",
      "bone-penn-317\n",
      "Does this patient have T2 available? True\n",
      "I'm doing the thing.\n",
      "bone-china-148\n",
      "Does this patient have T2 available? True\n",
      "I'm doing the thing.\n",
      "bone-china-102\n",
      "Does this patient have T2 available? True\n",
      "T2 image unavailable\n",
      "bone-china-143\n",
      "Does this patient have T2 available? True\n",
      "I'm doing the thing.\n"
     ]
    },
    {
     "name": "stderr",
     "output_type": "stream",
     "text": [
      "\r",
      " 30%|██▉       | 59/200 [00:04<00:11, 12.70it/s]"
     ]
    },
    {
     "name": "stderr",
     "output_type": "stream",
     "text": [
      "\r",
      " 30%|███       | 61/200 [00:04<00:10, 13.62it/s]"
     ]
    },
    {
     "name": "stdout",
     "output_type": "stream",
     "text": [
      "bone-penn-292\n",
      "Does this patient have T2 available? True\n",
      "I'm doing the thing.\n",
      "bone-hup-122\n",
      "Does this patient have T2 available? True\n",
      "I'm doing the thing.\n",
      "bone-penn-113\n",
      "Does this patient have T2 available? True\n",
      "I'm doing the thing.\n",
      "bone-china-110\n",
      "Does this patient have T2 available? True\n",
      "I'm doing the thing.\n"
     ]
    },
    {
     "name": "stderr",
     "output_type": "stream",
     "text": [
      "\r",
      " 32%|███▏      | 64/200 [00:05<00:08, 15.90it/s]"
     ]
    },
    {
     "name": "stdout",
     "output_type": "stream",
     "text": [
      "bone-penn-381\n",
      "Does this patient have T2 available? True\n",
      "I'm doing the thing.\n",
      "bone-penn-413\n",
      "Does this patient have T2 available? True\n",
      "I'm doing the thing.\n",
      "bone-penn-362\n",
      "Does this patient have T2 available? True\n",
      "I'm doing the thing.\n"
     ]
    },
    {
     "name": "stderr",
     "output_type": "stream",
     "text": [
      "\r",
      " 33%|███▎      | 66/200 [00:05<00:10, 12.26it/s]"
     ]
    },
    {
     "name": "stderr",
     "output_type": "stream",
     "text": [
      "\r",
      " 34%|███▍      | 68/200 [00:05<00:09, 13.71it/s]"
     ]
    },
    {
     "name": "stdout",
     "output_type": "stream",
     "text": [
      "bone-penn-293\n",
      "Does this patient have T2 available? True\n",
      "I'm doing the thing.\n",
      "bone-penn-613\n",
      "Does this patient have T2 available? True\n",
      "I'm doing the thing.\n",
      "bone-china-112\n",
      "Does this patient have T2 available? True\n",
      "I'm doing the thing.\n",
      "bone-penn-572\n",
      "Does this patient have T2 available? True\n",
      "I'm doing the thing.\n"
     ]
    },
    {
     "name": "stderr",
     "output_type": "stream",
     "text": [
      "\r",
      " 35%|███▌      | 70/200 [00:05<00:08, 14.99it/s]"
     ]
    },
    {
     "name": "stderr",
     "output_type": "stream",
     "text": [
      "\r",
      " 36%|███▌      | 72/200 [00:05<00:08, 15.40it/s]"
     ]
    },
    {
     "name": "stdout",
     "output_type": "stream",
     "text": [
      "bone-china-122\n",
      "Does this patient have T2 available? True\n",
      "I'm doing the thing.\n",
      "bone-penn-291\n",
      "Does this patient have T2 available? True\n",
      "I'm doing the thing.\n",
      "bone-penn-578\n",
      "Does this patient have T2 available? True\n",
      "I'm doing the thing.\n"
     ]
    },
    {
     "name": "stderr",
     "output_type": "stream",
     "text": [
      "\r",
      " 37%|███▋      | 74/200 [00:06<00:15,  7.94it/s]"
     ]
    },
    {
     "name": "stdout",
     "output_type": "stream",
     "text": [
      "bone-penn-504\n",
      "Does this patient have T2 available? True\n",
      "I'm doing the thing.\n",
      "bone-penn-592\n",
      "Does this patient have T2 available? True\n",
      "I'm doing the thing.\n",
      "bone-china-095\n",
      "Does this patient have T2 available? True\n",
      "T2 image unavailable\n",
      "bone-penn-374\n",
      "Does this patient have T2 available? True\n",
      "I'm doing the thing.\n"
     ]
    },
    {
     "name": "stderr",
     "output_type": "stream",
     "text": [
      "\r",
      " 38%|███▊      | 77/200 [00:06<00:12,  9.58it/s]"
     ]
    },
    {
     "name": "stdout",
     "output_type": "stream",
     "text": [
      "bone-penn-118\n",
      "Does this patient have T2 available? True\n",
      "I'm doing the thing.\n"
     ]
    },
    {
     "name": "stderr",
     "output_type": "stream",
     "text": [
      "\r",
      " 40%|███▉      | 79/200 [00:07<00:20,  5.81it/s]"
     ]
    },
    {
     "name": "stdout",
     "output_type": "stream",
     "text": [
      "bone-penn-333\n",
      "Does this patient have T2 available? True\n",
      "T2 image unavailable\n",
      "bone-penn-488\n",
      "Does this patient have T2 available? True\n",
      "I'm doing the thing.\n",
      "bone-hup-125\n",
      "Does this patient have T2 available? True\n",
      "T2 image unavailable\n",
      "bone-penn-282\n",
      "Does this patient have T2 available? True\n",
      "I'm doing the thing.\n",
      "bone-penn-111\n",
      "Does this patient have T2 available? True\n",
      "I'm doing the thing.\n"
     ]
    },
    {
     "name": "stderr",
     "output_type": "stream",
     "text": [
      "\r",
      " 42%|████▏     | 83/200 [00:07<00:16,  7.16it/s]"
     ]
    },
    {
     "name": "stdout",
     "output_type": "stream",
     "text": [
      "bone-penn-579\n",
      "Does this patient have T2 available? True\n",
      "I'm doing the thing.\n",
      "bone-hup-258\n",
      "Does this patient have T2 available? False\n",
      "T2 image unavailable\n",
      "bone-penn-382\n",
      "Does this patient have T2 available? True\n",
      "I'm doing the thing.\n",
      "bone-penn-401\n",
      "Does this patient have T2 available? True\n",
      "I'm doing the thing.\n"
     ]
    },
    {
     "name": "stderr",
     "output_type": "stream",
     "text": [
      "\r",
      " 44%|████▎     | 87/200 [00:07<00:13,  8.55it/s]"
     ]
    },
    {
     "name": "stderr",
     "output_type": "stream",
     "text": [
      "\r",
      " 44%|████▍     | 89/200 [00:07<00:11,  9.55it/s]"
     ]
    },
    {
     "name": "stdout",
     "output_type": "stream",
     "text": [
      "bone-china-091\n",
      "Does this patient have T2 available? True\n",
      "I'm doing the thing.\n",
      "bone-china-145\n",
      "Does this patient have T2 available? True\n",
      "I'm doing the thing.\n",
      "bone-penn-588\n",
      "Does this patient have T2 available? True\n",
      "I'm doing the thing.\n"
     ]
    },
    {
     "name": "stderr",
     "output_type": "stream",
     "text": [
      "\r",
      " 46%|████▌     | 91/200 [00:07<00:11,  9.57it/s]"
     ]
    },
    {
     "name": "stderr",
     "output_type": "stream",
     "text": [
      "\r",
      " 46%|████▋     | 93/200 [00:08<00:10, 10.57it/s]"
     ]
    },
    {
     "name": "stdout",
     "output_type": "stream",
     "text": [
      "bone-china-129\n",
      "Does this patient have T2 available? True\n",
      "I'm doing the thing.\n",
      "bone-china-124\n",
      "Does this patient have T2 available? True\n",
      "I'm doing the thing.\n",
      "bone-hup-48\n",
      "Does this patient have T2 available? True\n",
      "I'm doing the thing.\n",
      "bone-penn-423\n",
      "Does this patient have T2 available? True\n",
      "I'm doing the thing.\n"
     ]
    },
    {
     "name": "stderr",
     "output_type": "stream",
     "text": [
      "\r",
      " 48%|████▊     | 95/200 [00:08<00:12,  8.32it/s]"
     ]
    },
    {
     "name": "stderr",
     "output_type": "stream",
     "text": [
      "\r",
      " 48%|████▊     | 97/200 [00:08<00:10,  9.76it/s]"
     ]
    },
    {
     "name": "stdout",
     "output_type": "stream",
     "text": [
      "bone-penn-322\n",
      "Does this patient have T2 available? True\n",
      "I'm doing the thing.\n",
      "bone-penn-527\n",
      "Does this patient have T2 available? True\n",
      "I'm doing the thing.\n",
      "bone-china-106\n",
      "Does this patient have T2 available? True\n",
      "I'm doing the thing.\n",
      "bone-penn-435\n",
      "Does this patient have T2 available? True\n",
      "I'm doing the thing.\n"
     ]
    },
    {
     "name": "stdout",
     "output_type": "stream",
     "text": [
      "bone-penn-112\n",
      "Does this patient have T2 available? True\n",
      "I'm doing the thing.\n"
     ]
    },
    {
     "name": "stderr",
     "output_type": "stream",
     "text": [
      "\r",
      " 50%|████▉     | 99/200 [00:09<00:18,  5.39it/s]"
     ]
    },
    {
     "name": "stdout",
     "output_type": "stream",
     "text": [
      "bone-penn-384\n",
      "Does this patient have T2 available? True\n",
      "I'm doing the thing.\n",
      "bone-china-099\n",
      "Does this patient have T2 available? True\n",
      "I'm doing the thing.\n",
      "bone-hup-128\n",
      "Does this patient have T2 available? True\n",
      "I'm doing the thing.\n"
     ]
    },
    {
     "name": "stderr",
     "output_type": "stream",
     "text": [
      "\r",
      " 51%|█████     | 102/200 [00:09<00:15,  6.22it/s]"
     ]
    },
    {
     "name": "stderr",
     "output_type": "stream",
     "text": [
      "\r",
      " 52%|█████▏    | 104/200 [00:09<00:13,  7.07it/s]"
     ]
    },
    {
     "name": "stdout",
     "output_type": "stream",
     "text": [
      "bone-hup-278\n",
      "Does this patient have T2 available? True\n",
      "I'm doing the thing.\n",
      "bone-penn-86\n",
      "Does this patient have T2 available? True\n",
      "I'm doing the thing.\n",
      "bone-penn-82\n",
      "Does this patient have T2 available? True\n",
      "I'm doing the thing.\n"
     ]
    },
    {
     "name": "stderr",
     "output_type": "stream",
     "text": [
      "\r",
      " 52%|█████▎    | 105/200 [00:09<00:12,  7.50it/s]"
     ]
    },
    {
     "name": "stderr",
     "output_type": "stream",
     "text": [
      "\r",
      " 54%|█████▎    | 107/200 [00:10<00:10,  8.88it/s]"
     ]
    },
    {
     "name": "stdout",
     "output_type": "stream",
     "text": [
      "bone-china-164\n",
      "Does this patient have T2 available? True\n",
      "I'm doing the thing.\n",
      "bone-penn-600\n",
      "Does this patient have T2 available? True\n",
      "I'm doing the thing.\n",
      "bone-penn-190\n",
      "Does this patient have T2 available? True\n",
      "I'm doing the thing.\n"
     ]
    },
    {
     "name": "stderr",
     "output_type": "stream",
     "text": [
      "\r",
      " 56%|█████▌    | 112/200 [00:10<00:07, 11.51it/s]"
     ]
    },
    {
     "name": "stderr",
     "output_type": "stream",
     "text": [
      "\r",
      " 57%|█████▋    | 114/200 [00:10<00:06, 12.77it/s]"
     ]
    },
    {
     "name": "stdout",
     "output_type": "stream",
     "text": [
      "bone-hup-210\n",
      "Does this patient have T2 available? True\n",
      "T2 image unavailable\n",
      "bone-penn-301\n",
      "Does this patient have T2 available? False\n",
      "T2 image unavailable\n",
      "bone-hup-149\n",
      "Does this patient have T2 available? True\n",
      "T2 image unavailable\n",
      "bone-hup-60\n",
      "Does this patient have T2 available? True\n",
      "I'm doing the thing.\n",
      "bone-penn-380\n",
      "Does this patient have T2 available? True\n",
      "I'm doing the thing.\n",
      "bone-china-236\n",
      "Does this patient have T2 available? True\n",
      "T2 image unavailable\n",
      "bone-china-221\n",
      "Does this patient have T2 available? True\n",
      "I'm doing the thing.\n"
     ]
    },
    {
     "name": "stdout",
     "output_type": "stream",
     "text": [
      "bone-penn-601\n",
      "Does this patient have T2 available? True\n",
      "I'm doing the thing.\n"
     ]
    },
    {
     "name": "stderr",
     "output_type": "stream",
     "text": [
      "\r",
      " 58%|█████▊    | 116/200 [00:10<00:12,  6.95it/s]"
     ]
    },
    {
     "name": "stdout",
     "output_type": "stream",
     "text": [
      "bone-penn-243\n",
      "Does this patient have T2 available? True\n",
      "T2 image unavailable\n",
      "bone-hup-165\n",
      "Does this patient have T2 available? True\n",
      "T2 image unavailable\n",
      "bone-penn-363\n",
      "Does this patient have T2 available? True\n",
      "I'm doing the thing.\n"
     ]
    },
    {
     "name": "stderr",
     "output_type": "stream",
     "text": [
      "\r",
      " 60%|█████▉    | 119/200 [00:11<00:09,  8.22it/s]"
     ]
    },
    {
     "name": "stdout",
     "output_type": "stream",
     "text": [
      "bone-penn-182\n",
      "Does this patient have T2 available? True\n",
      "I'm doing the thing.\n",
      "bone-hup-211\n",
      "Does this patient have T2 available? True\n",
      "I'm doing the thing.\n"
     ]
    },
    {
     "name": "stderr",
     "output_type": "stream",
     "text": [
      "\r",
      " 60%|██████    | 121/200 [00:11<00:11,  7.09it/s]"
     ]
    },
    {
     "name": "stderr",
     "output_type": "stream",
     "text": [
      "\r",
      " 62%|██████▏   | 124/200 [00:11<00:08,  8.81it/s]"
     ]
    },
    {
     "name": "stdout",
     "output_type": "stream",
     "text": [
      "bone-penn-266\n",
      "Does this patient have T2 available? True\n",
      "I'm doing the thing.\n",
      "bone-penn-395\n",
      "Does this patient have T2 available? False\n",
      "T2 image unavailable\n",
      "bone-hup-144\n",
      "Does this patient have T2 available? True\n",
      "I'm doing the thing.\n",
      "bone-hup-246\n",
      "Does this patient have T2 available? True\n",
      "I'm doing the thing.\n"
     ]
    },
    {
     "name": "stderr",
     "output_type": "stream",
     "text": [
      "\r",
      " 63%|██████▎   | 126/200 [00:11<00:07, 10.17it/s]"
     ]
    },
    {
     "name": "stdout",
     "output_type": "stream",
     "text": [
      "bone-penn-376\n",
      "Does this patient have T2 available? False\n",
      "T2 image unavailable\n",
      "bone-penn-168\n",
      "Does this patient have T2 available? True\n",
      "I'm doing the thing.\n",
      "bone-penn-267\n",
      "Does this patient have T2 available? False\n",
      "T2 image unavailable\n",
      "bone-penn-211\n",
      "Does this patient have T2 available? True\n",
      "I'm doing the thing.\n"
     ]
    },
    {
     "name": "stderr",
     "output_type": "stream",
     "text": [
      "\r",
      " 64%|██████▍   | 129/200 [00:12<00:06, 10.30it/s]"
     ]
    },
    {
     "name": "stdout",
     "output_type": "stream",
     "text": [
      "bone-penn-298\n",
      "Does this patient have T2 available? True\n",
      "I'm doing the thing.\n",
      "bone-penn-164\n",
      "Does this patient have T2 available? True\n",
      "T2 image unavailable\n",
      "bone-penn-126\n",
      "Does this patient have T2 available? True\n",
      "I'm doing the thing.\n"
     ]
    },
    {
     "name": "stderr",
     "output_type": "stream",
     "text": [
      "\r",
      " 66%|██████▌   | 132/200 [00:12<00:06, 10.80it/s]"
     ]
    },
    {
     "name": "stdout",
     "output_type": "stream",
     "text": [
      "bone-penn-617\n",
      "Does this patient have T2 available? True\n",
      "I'm doing the thing.\n"
     ]
    },
    {
     "name": "stderr",
     "output_type": "stream",
     "text": [
      "\r",
      " 67%|██████▋   | 134/200 [00:12<00:07,  8.44it/s]"
     ]
    },
    {
     "name": "stderr",
     "output_type": "stream",
     "text": [
      "\r",
      " 68%|██████▊   | 136/200 [00:12<00:06,  9.86it/s]"
     ]
    },
    {
     "name": "stdout",
     "output_type": "stream",
     "text": [
      "bone-hup-81\n",
      "Does this patient have T2 available? True\n",
      "I'm doing the thing.\n",
      "bone-penn-636\n",
      "Does this patient have T2 available? True\n",
      "I'm doing the thing.\n",
      "bone-hup-194\n",
      "Does this patient have T2 available? False\n",
      "T2 image unavailable\n",
      "bone-china-193\n",
      "Does this patient have T2 available? True\n",
      "I'm doing the thing.\n",
      "bone-hup-153\n",
      "Does this patient have T2 available? True\n",
      "I'm doing the thing.\n"
     ]
    },
    {
     "name": "stderr",
     "output_type": "stream",
     "text": [
      "\r",
      " 69%|██████▉   | 138/200 [00:12<00:05, 11.55it/s]"
     ]
    },
    {
     "name": "stderr",
     "output_type": "stream",
     "text": [
      "\r",
      " 70%|███████   | 140/200 [00:13<00:05, 11.65it/s]"
     ]
    },
    {
     "name": "stdout",
     "output_type": "stream",
     "text": [
      "bone-penn-238\n",
      "Does this patient have T2 available? True\n",
      "I'm doing the thing.\n",
      "bone-china-196\n",
      "Does this patient have T2 available? True\n",
      "I'm doing the thing.\n",
      "bone-penn-248\n",
      "Does this patient have T2 available? False\n",
      "T2 image unavailable\n",
      "bone-penn-464\n",
      "Does this patient have T2 available? True\n",
      "I'm doing the thing.\n"
     ]
    },
    {
     "name": "stderr",
     "output_type": "stream",
     "text": [
      "\r",
      " 72%|███████▎  | 145/200 [00:13<00:03, 13.93it/s]"
     ]
    },
    {
     "name": "stdout",
     "output_type": "stream",
     "text": [
      "bone-hup-71\n",
      "Does this patient have T2 available? False\n",
      "T2 image unavailable\n",
      "bone-penn-235\n",
      "Does this patient have T2 available? False\n",
      "T2 image unavailable\n",
      "bone-hup-191\n",
      "Does this patient have T2 available? True\n",
      "I'm doing the thing.\n",
      "bone-hup-62\n",
      "Does this patient have T2 available? True\n",
      "I'm doing the thing.\n"
     ]
    },
    {
     "name": "stderr",
     "output_type": "stream",
     "text": [
      "\r",
      " 74%|███████▎  | 147/200 [00:13<00:04, 10.78it/s]"
     ]
    },
    {
     "name": "stdout",
     "output_type": "stream",
     "text": [
      "bone-penn-378\n",
      "Does this patient have T2 available? True\n",
      "I'm doing the thing.\n",
      "bone-hup-52\n",
      "Does this patient have T2 available? True\n",
      "I'm doing the thing.\n"
     ]
    },
    {
     "name": "stderr",
     "output_type": "stream",
     "text": [
      "\r",
      " 74%|███████▍  | 149/200 [00:13<00:05,  9.04it/s]"
     ]
    },
    {
     "name": "stderr",
     "output_type": "stream",
     "text": [
      "\r",
      " 76%|███████▌  | 151/200 [00:13<00:04,  9.98it/s]"
     ]
    },
    {
     "name": "stdout",
     "output_type": "stream",
     "text": [
      "bone-penn-261\n",
      "Does this patient have T2 available? True\n",
      "I'm doing the thing.\n",
      "bone-hup-95\n",
      "Does this patient have T2 available? True\n",
      "I'm doing the thing.\n",
      "bone-china-234\n",
      "Does this patient have T2 available? True\n",
      "I'm doing the thing.\n",
      "bone-penn-371\n",
      "Does this patient have T2 available? True\n",
      "T2 image unavailable\n",
      "bone-hup-79\n",
      "Does this patient have T2 available? True\n",
      "I'm doing the thing.\n"
     ]
    },
    {
     "name": "stderr",
     "output_type": "stream",
     "text": [
      "\r",
      " 78%|███████▊  | 155/200 [00:14<00:03, 12.36it/s]"
     ]
    },
    {
     "name": "stdout",
     "output_type": "stream",
     "text": [
      "bone-penn-641\n",
      "Does this patient have T2 available? True\n",
      "I'm doing the thing.\n",
      "bone-penn-316\n",
      "Does this patient have T2 available? True\n",
      "I'm doing the thing.\n",
      "bone-penn-165\n",
      "Does this patient have T2 available? True\n",
      "I'm doing the thing.\n",
      "bone-penn-189\n",
      "Does this patient have T2 available? True\n",
      "I'm doing the thing.\n"
     ]
    },
    {
     "name": "stderr",
     "output_type": "stream",
     "text": [
      "\r",
      " 78%|███████▊  | 157/200 [00:14<00:04,  8.68it/s]"
     ]
    },
    {
     "name": "stderr",
     "output_type": "stream",
     "text": [
      "\r",
      " 80%|████████  | 161/200 [00:14<00:03, 10.74it/s]"
     ]
    },
    {
     "name": "stdout",
     "output_type": "stream",
     "text": [
      "bone-hup-73\n",
      "Does this patient have T2 available? True\n",
      "I'm doing the thing.\n",
      "bone-penn-355\n",
      "Does this patient have T2 available? True\n",
      "T2 image unavailable\n",
      "bone-hup-249\n",
      "Does this patient have T2 available? False\n",
      "T2 image unavailable\n",
      "bone-hup-102\n",
      "Does this patient have T2 available? True\n",
      "I'm doing the thing.\n",
      "bone-hup-193\n",
      "Does this patient have T2 available? True\n",
      "I'm doing the thing.\n"
     ]
    },
    {
     "name": "stderr",
     "output_type": "stream",
     "text": [
      "\r",
      " 82%|████████▏ | 163/200 [00:14<00:03, 10.28it/s]"
     ]
    },
    {
     "name": "stdout",
     "output_type": "stream",
     "text": [
      "bone-hup-80\n",
      "Does this patient have T2 available? True\n",
      "I'm doing the thing.\n",
      "bone-penn-405\n",
      "Does this patient have T2 available? True\n",
      "I'm doing the thing.\n"
     ]
    },
    {
     "name": "stderr",
     "output_type": "stream",
     "text": [
      "\r",
      " 82%|████████▎ | 165/200 [00:15<00:03, 11.22it/s]"
     ]
    },
    {
     "name": "stdout",
     "output_type": "stream",
     "text": [
      "bone-penn-256\n",
      "Does this patient have T2 available? True\n",
      "I'm doing the thing.\n",
      "bone-hup-169\n",
      "Does this patient have T2 available? True\n",
      "I'm doing the thing.\n"
     ]
    },
    {
     "name": "stderr",
     "output_type": "stream",
     "text": [
      "\r",
      " 84%|████████▎ | 167/200 [00:15<00:03, 10.10it/s]"
     ]
    },
    {
     "name": "stdout",
     "output_type": "stream",
     "text": [
      "bone-china-243\n",
      "Does this patient have T2 available? True\n",
      "I'm doing the thing.\n",
      "bone-hup-222\n",
      "Does this patient have T2 available? True\n",
      "I'm doing the thing.\n",
      "bone-penn-224\n",
      "Does this patient have T2 available? True\n",
      "I'm doing the thing.\n",
      "bone-penn-166\n",
      "Does this patient have T2 available? True\n",
      "I'm doing the thing.\n"
     ]
    },
    {
     "name": "stderr",
     "output_type": "stream",
     "text": [
      "\r",
      " 85%|████████▌ | 170/200 [00:15<00:02, 12.01it/s]"
     ]
    },
    {
     "name": "stdout",
     "output_type": "stream",
     "text": [
      "bone-hup-75\n",
      "Does this patient have T2 available? False\n",
      "T2 image unavailable\n",
      "bone-hup-279\n",
      "Does this patient have T2 available? True\n",
      "I'm doing the thing.\n",
      "bone-penn-356\n",
      "Does this patient have T2 available? True\n",
      "I'm doing the thing.\n"
     ]
    },
    {
     "name": "stderr",
     "output_type": "stream",
     "text": [
      "\r",
      " 86%|████████▋ | 173/200 [00:15<00:02, 11.59it/s]"
     ]
    },
    {
     "name": "stderr",
     "output_type": "stream",
     "text": [
      "\r",
      " 88%|████████▊ | 175/200 [00:15<00:02, 11.45it/s]"
     ]
    },
    {
     "name": "stdout",
     "output_type": "stream",
     "text": [
      "bone-hup-103\n",
      "Does this patient have T2 available? True\n",
      "I'm doing the thing.\n",
      "bone-hup-78\n",
      "Does this patient have T2 available? True\n",
      "I'm doing the thing.\n",
      "bone-penn-206\n",
      "Does this patient have T2 available? True\n",
      "I'm doing the thing.\n"
     ]
    },
    {
     "name": "stderr",
     "output_type": "stream",
     "text": [
      "\r",
      " 89%|████████▉ | 178/200 [00:16<00:01, 12.34it/s]"
     ]
    },
    {
     "name": "stdout",
     "output_type": "stream",
     "text": [
      "bone-hup-273\n",
      "Does this patient have T2 available? True\n",
      "I'm doing the thing.\n",
      "bone-penn-193\n",
      "Does this patient have T2 available? True\n",
      "I'm doing the thing.\n",
      "bone-penn-624\n",
      "Does this patient have T2 available? True\n",
      "I'm doing the thing.\n"
     ]
    },
    {
     "name": "stderr",
     "output_type": "stream",
     "text": [
      "\r",
      " 90%|█████████ | 180/200 [00:16<00:01, 13.46it/s]"
     ]
    },
    {
     "name": "stderr",
     "output_type": "stream",
     "text": [
      "\r",
      " 91%|█████████ | 182/200 [00:16<00:01, 12.26it/s]"
     ]
    },
    {
     "name": "stdout",
     "output_type": "stream",
     "text": [
      "bone-hup-74\n",
      "Does this patient have T2 available? True\n",
      "T2 image unavailable\n",
      "bone-china-212\n",
      "Does this patient have T2 available? True\n",
      "I'm doing the thing.\n",
      "bone-hup-101\n",
      "Does this patient have T2 available? True\n",
      "I'm doing the thing.\n",
      "bone-hup-171\n",
      "Does this patient have T2 available? True\n",
      "I'm doing the thing.\n"
     ]
    },
    {
     "name": "stderr",
     "output_type": "stream",
     "text": [
      "\r",
      " 92%|█████████▏| 184/200 [00:16<00:01, 11.87it/s]"
     ]
    },
    {
     "name": "stdout",
     "output_type": "stream",
     "text": [
      "bone-hup-237\n",
      "Does this patient have T2 available? True\n",
      "I'm doing the thing.\n",
      "bone-penn-621\n",
      "Does this patient have T2 available? True\n",
      "I'm doing the thing.\n"
     ]
    },
    {
     "name": "stdout",
     "output_type": "stream",
     "text": [
      "bone-penn-627\n",
      "Does this patient have T2 available? True\n",
      "I'm doing the thing.\n"
     ]
    },
    {
     "name": "stderr",
     "output_type": "stream",
     "text": [
      "\r",
      " 93%|█████████▎| 186/200 [00:17<00:02,  6.62it/s]"
     ]
    },
    {
     "name": "stderr",
     "output_type": "stream",
     "text": [
      "\r",
      " 94%|█████████▎| 187/200 [00:17<00:01,  7.32it/s]"
     ]
    },
    {
     "name": "stdout",
     "output_type": "stream",
     "text": [
      "bone-penn-171\n",
      "Does this patient have T2 available? True\n",
      "I'm doing the thing.\n",
      "bone-penn-324\n",
      "Does this patient have T2 available? False\n",
      "T2 image unavailable\n",
      "bone-penn-620\n",
      "Does this patient have T2 available? True\n",
      "I'm doing the thing.\n",
      "bone-penn-514\n",
      "Does this patient have T2 available? True\n",
      "I'm doing the thing.\n"
     ]
    },
    {
     "name": "stderr",
     "output_type": "stream",
     "text": [
      "\r",
      " 95%|█████████▌| 190/200 [00:17<00:01,  8.52it/s]"
     ]
    },
    {
     "name": "stderr",
     "output_type": "stream",
     "text": [
      "\r",
      " 96%|█████████▌| 192/200 [00:17<00:00,  9.66it/s]"
     ]
    },
    {
     "name": "stdout",
     "output_type": "stream",
     "text": [
      "bone-penn-610\n",
      "Does this patient have T2 available? True\n",
      "I'm doing the thing.\n",
      "bone-hup-262\n",
      "Does this patient have T2 available? True\n",
      "I'm doing the thing.\n",
      "bone-penn-614\n",
      "Does this patient have T2 available? True\n",
      "I'm doing the thing.\n"
     ]
    },
    {
     "name": "stderr",
     "output_type": "stream",
     "text": [
      "\r",
      " 97%|█████████▋| 194/200 [00:17<00:00,  8.92it/s]"
     ]
    },
    {
     "name": "stdout",
     "output_type": "stream",
     "text": [
      "bone-penn-260\n",
      "Does this patient have T2 available? True\n",
      "I'm doing the thing.\n",
      "bone-hup-220\n",
      "Does this patient have T2 available? True\n",
      "T2 image unavailable\n",
      "bone-hup-156\n",
      "Does this patient have T2 available? True\n",
      "I'm doing the thing.\n"
     ]
    },
    {
     "name": "stderr",
     "output_type": "stream",
     "text": [
      "\r",
      " 98%|█████████▊| 196/200 [00:18<00:00,  8.74it/s]"
     ]
    },
    {
     "name": "stderr",
     "output_type": "stream",
     "text": [
      "\r",
      " 99%|█████████▉| 198/200 [00:18<00:00, 10.43it/s]"
     ]
    },
    {
     "name": "stdout",
     "output_type": "stream",
     "text": [
      "bone-hup-240\n",
      "Does this patient have T2 available? True\n",
      "T2 image unavailable\n",
      "bone-penn-239\n",
      "Does this patient have T2 available? True\n",
      "I'm doing the thing.\n",
      "bone-hup-84\n",
      "Does this patient have T2 available? True\n",
      "I'm doing the thing.\n"
     ]
    },
    {
     "name": "stderr",
     "output_type": "stream",
     "text": [
      "\r",
      "100%|██████████| 200/200 [00:18<00:00,  7.70it/s]"
     ]
    },
    {
     "name": "stderr",
     "output_type": "stream",
     "text": [
      "\r",
      "100%|██████████| 200/200 [00:18<00:00, 10.72it/s]"
     ]
    },
    {
     "name": "stderr",
     "output_type": "stream",
     "text": [
      "\n",
      "\r",
      "  0%|          | 0/101 [00:00<?, ?it/s]"
     ]
    },
    {
     "name": "stderr",
     "output_type": "stream",
     "text": [
      "\r",
      "  2%|▏         | 2/101 [00:00<00:05, 17.70it/s]"
     ]
    },
    {
     "name": "stdout",
     "output_type": "stream",
     "text": [
      "bone-china-226\n",
      "Does this patient have T2 available? True\n",
      "I'm doing the thing.\n",
      "bone-hup-137\n",
      "Does this patient have T2 available? True\n",
      "I'm doing the thing.\n",
      "bone-hup-130\n",
      "Does this patient have T2 available? True\n",
      "I'm doing the thing.\n",
      "bone-hup-120\n",
      "Does this patient have T2 available? True\n",
      "I'm doing the thing.\n"
     ]
    },
    {
     "name": "stderr",
     "output_type": "stream",
     "text": [
      "\r",
      "  4%|▍         | 4/101 [00:00<00:05, 17.57it/s]"
     ]
    },
    {
     "name": "stderr",
     "output_type": "stream",
     "text": [
      "\r",
      "  7%|▋         | 7/101 [00:00<00:05, 18.40it/s]"
     ]
    },
    {
     "name": "stdout",
     "output_type": "stream",
     "text": [
      "bone-hup-143\n",
      "Does this patient have T2 available? True\n",
      "I'm doing the thing.\n",
      "bone-hup-127\n",
      "Does this patient have T2 available? True\n",
      "I'm doing the thing.\n",
      "bone-penn-295\n",
      "Does this patient have T2 available? True\n",
      "I'm doing the thing.\n",
      "bone-penn-594\n",
      "Does this patient have T2 available? True\n",
      "I'm doing the thing.\n",
      "bone-penn-582\n",
      "Does this patient have T2 available? True\n",
      "I'm doing the thing.\n"
     ]
    },
    {
     "name": "stderr",
     "output_type": "stream",
     "text": [
      "\r",
      " 10%|▉         | 10/101 [00:00<00:05, 17.64it/s]"
     ]
    },
    {
     "name": "stdout",
     "output_type": "stream",
     "text": [
      "bone-penn-574\n",
      "Does this patient have T2 available? True\n",
      "I'm doing the thing.\n",
      "bone-penn-125\n",
      "Does this patient have T2 available? True\n",
      "I'm doing the thing.\n",
      "bone-penn-407\n",
      "Does this patient have T2 available? True\n",
      "I'm doing the thing.\n"
     ]
    },
    {
     "name": "stderr",
     "output_type": "stream",
     "text": [
      "\r",
      " 12%|█▏        | 12/101 [00:00<00:06, 14.30it/s]"
     ]
    },
    {
     "name": "stdout",
     "output_type": "stream",
     "text": [
      "bone-penn-432\n",
      "Does this patient have T2 available? True\n",
      "I'm doing the thing.\n",
      "bone-penn-117\n",
      "Does this patient have T2 available? True\n",
      "I'm doing the thing.\n",
      "bone-penn-393\n",
      "Does this patient have T2 available? True\n",
      "I'm doing the thing.\n",
      "bone-penn-389\n",
      "Does this patient have T2 available? True\n",
      "I'm doing the thing.\n"
     ]
    },
    {
     "name": "stderr",
     "output_type": "stream",
     "text": [
      "\r",
      " 15%|█▍        | 15/101 [00:01<00:07, 11.19it/s]"
     ]
    },
    {
     "name": "stdout",
     "output_type": "stream",
     "text": [
      "bone-penn-387\n",
      "Does this patient have T2 available? True\n",
      "I'm doing the thing.\n"
     ]
    },
    {
     "name": "stderr",
     "output_type": "stream",
     "text": [
      "\r",
      " 17%|█▋        | 17/101 [00:01<00:10,  7.71it/s]"
     ]
    },
    {
     "name": "stdout",
     "output_type": "stream",
     "text": [
      "bone-penn-229\n",
      "Does this patient have T2 available? True\n",
      "I'm doing the thing.\n",
      "bone-penn-233\n",
      "Does this patient have T2 available? True\n",
      "I'm doing the thing.\n"
     ]
    },
    {
     "name": "stderr",
     "output_type": "stream",
     "text": [
      "\r",
      " 19%|█▉        | 19/101 [00:01<00:09,  8.58it/s]"
     ]
    },
    {
     "name": "stdout",
     "output_type": "stream",
     "text": [
      "bone-penn-271\n",
      "Does this patient have T2 available? True\n",
      "I'm doing the thing.\n",
      "\n",
      "################################################################################\n",
      "Exception occurred for: outcome_pos   1.000\n",
      "outcome_neg   1.000\n",
      "outcome_3     2.000\n",
      "sort           test\n",
      "volume        0.141\n",
      "Name: bone-penn-271, dtype: object\n",
      "index 183 is out of bounds for axis 0 with size 2\n",
      "T2 image unavailable\n",
      "Traceback (most recent call last):\n",
      "  File \"/home/user1/Documents/Bone-MRI/data_gen.py\", line 392, in generate_from_features\n",
      "    t2_masked = load_image(t2_image_file, t2_seg_file, verbose=verbose)\n",
      "  File \"/home/user1/Documents/Bone-MRI/data_gen.py\", line 331, in load_image\n",
      "    return [mask_image_percentile(image, segmentation, 100, a) for a in (0, 1, 2)]\n",
      "  File \"/home/user1/Documents/Bone-MRI/data_gen.py\", line 331, in <listcomp>\n",
      "    return [mask_image_percentile(image, segmentation, 100, a) for a in (0, 1, 2)]\n",
      "  File \"/home/user1/Documents/Bone-MRI/data_gen.py\", line 335, in mask_image_percentile\n",
      "    image, segmentation = select_slice(image, segmentation, plane, axis)\n",
      "  File \"/home/user1/Documents/Bone-MRI/segmentation.py\", line 40, in select_slice\n",
      "    image = axis_plane[axis](image, plane)\n",
      "  File \"/home/user1/Documents/Bone-MRI/segmentation.py\", line 13, in <lambda>\n",
      "    0: lambda image, plane : image[plane, :, :],\n",
      "IndexError: index 183 is out of bounds for axis 0 with size 2\n",
      "\n",
      "bone-hup-174\n",
      "Does this patient have T2 available? True\n",
      "I'm doing the thing.\n"
     ]
    },
    {
     "name": "stderr",
     "output_type": "stream",
     "text": [
      "\r",
      " 20%|█▉        | 20/101 [00:02<00:14,  5.60it/s]"
     ]
    },
    {
     "name": "stderr",
     "output_type": "stream",
     "text": [
      "\r",
      " 21%|██        | 21/101 [00:02<00:14,  5.61it/s]"
     ]
    },
    {
     "name": "stdout",
     "output_type": "stream",
     "text": [
      "bone-hup-190\n",
      "Does this patient have T2 available? True\n",
      "I'm doing the thing.\n",
      "bone-hup-238\n",
      "Does this patient have T2 available? True\n",
      "I'm doing the thing.\n"
     ]
    },
    {
     "name": "stderr",
     "output_type": "stream",
     "text": [
      "\r",
      " 23%|██▎       | 23/101 [00:02<00:11,  6.88it/s]"
     ]
    },
    {
     "name": "stdout",
     "output_type": "stream",
     "text": [
      "bone-hup-164\n",
      "Does this patient have T2 available? True\n",
      "I'm doing the thing.\n",
      "bone-hup-212\n",
      "Does this patient have T2 available? True\n",
      "I'm doing the thing.\n",
      "bone-hup-195\n",
      "Does this patient have T2 available? True\n",
      "I'm doing the thing.\n",
      "bone-hup-236\n",
      "Does this patient have T2 available? True\n",
      "I'm doing the thing.\n"
     ]
    },
    {
     "name": "stderr",
     "output_type": "stream",
     "text": [
      "\r",
      " 26%|██▌       | 26/101 [00:02<00:08,  8.44it/s]"
     ]
    },
    {
     "name": "stdout",
     "output_type": "stream",
     "text": [
      "bone-hup-182\n",
      "Does this patient have T2 available? True\n",
      "I'm doing the thing.\n",
      "bone-penn-290\n",
      "Does this patient have T2 available? True\n",
      "I'm doing the thing.\n",
      "bone-penn-202\n",
      "Does this patient have T2 available? True\n",
      "I'm doing the thing.\n"
     ]
    },
    {
     "name": "stderr",
     "output_type": "stream",
     "text": [
      "\r",
      " 29%|██▊       | 29/101 [00:03<00:10,  6.99it/s]"
     ]
    },
    {
     "name": "stderr",
     "output_type": "stream",
     "text": [
      "\r",
      " 31%|███       | 31/101 [00:03<00:09,  7.74it/s]"
     ]
    },
    {
     "name": "stdout",
     "output_type": "stream",
     "text": [
      "bone-penn-184\n",
      "Does this patient have T2 available? True\n",
      "I'm doing the thing.\n",
      "bone-penn-208\n",
      "Does this patient have T2 available? True\n",
      "I'm doing the thing.\n",
      "bone-penn-175\n",
      "Does this patient have T2 available? True\n",
      "I'm doing the thing.\n"
     ]
    },
    {
     "name": "stderr",
     "output_type": "stream",
     "text": [
      "\r",
      " 33%|███▎      | 33/101 [00:03<00:07,  8.58it/s]"
     ]
    },
    {
     "name": "stdout",
     "output_type": "stream",
     "text": [
      "bone-penn-185\n",
      "Does this patient have T2 available? True\n",
      "I'm doing the thing.\n",
      "bone-penn-103\n",
      "Does this patient have T2 available? True\n",
      "I'm doing the thing.\n",
      "bone-penn-102\n",
      "Does this patient have T2 available? True\n",
      "I'm doing the thing.\n"
     ]
    },
    {
     "name": "stderr",
     "output_type": "stream",
     "text": [
      "\r",
      " 35%|███▍      | 35/101 [00:04<00:09,  6.77it/s]"
     ]
    },
    {
     "name": "stdout",
     "output_type": "stream",
     "text": [
      "bone-penn-80\n",
      "Does this patient have T2 available? True\n",
      "I'm doing the thing.\n",
      "bone-hup-114\n",
      "Does this patient have T2 available? True\n",
      "I'm doing the thing.\n"
     ]
    },
    {
     "name": "stderr",
     "output_type": "stream",
     "text": [
      "\r",
      " 37%|███▋      | 37/101 [00:04<00:09,  7.04it/s]"
     ]
    },
    {
     "name": "stdout",
     "output_type": "stream",
     "text": [
      "bone-hup-87\n",
      "Does this patient have T2 available? True\n",
      "I'm doing the thing.\n"
     ]
    },
    {
     "name": "stderr",
     "output_type": "stream",
     "text": [
      "\r",
      " 38%|███▊      | 38/101 [00:04<00:11,  5.60it/s]"
     ]
    },
    {
     "name": "stdout",
     "output_type": "stream",
     "text": [
      "bone-hup-99\n",
      "Does this patient have T2 available? True\n",
      "I'm doing the thing.\n"
     ]
    },
    {
     "name": "stderr",
     "output_type": "stream",
     "text": [
      "\r",
      " 39%|███▊      | 39/101 [00:04<00:12,  5.08it/s]"
     ]
    },
    {
     "name": "stdout",
     "output_type": "stream",
     "text": [
      "bone-hup-90\n",
      "Does this patient have T2 available? True\n",
      "I'm doing the thing.\n"
     ]
    },
    {
     "name": "stderr",
     "output_type": "stream",
     "text": [
      "\r",
      " 40%|███▉      | 40/101 [00:05<00:13,  4.54it/s]"
     ]
    },
    {
     "name": "stderr",
     "output_type": "stream",
     "text": [
      "\r",
      " 42%|████▏     | 42/101 [00:05<00:10,  5.70it/s]"
     ]
    },
    {
     "name": "stdout",
     "output_type": "stream",
     "text": [
      "bone-penn-544\n",
      "Does this patient have T2 available? True\n",
      "I'm doing the thing.\n",
      "bone-penn-547\n",
      "Does this patient have T2 available? True\n",
      "I'm doing the thing.\n",
      "bone-penn-135\n",
      "Does this patient have T2 available? True\n",
      "I'm doing the thing.\n"
     ]
    },
    {
     "name": "stdout",
     "output_type": "stream",
     "text": [
      "bone-penn-145\n",
      "Does this patient have T2 available? True\n",
      "I'm doing the thing.\n"
     ]
    },
    {
     "name": "stderr",
     "output_type": "stream",
     "text": [
      "\r",
      " 44%|████▎     | 44/101 [00:05<00:10,  5.67it/s]"
     ]
    },
    {
     "name": "stdout",
     "output_type": "stream",
     "text": [
      "bone-penn-366\n",
      "Does this patient have T2 available? True\n",
      "I'm doing the thing.\n",
      "bone-penn-383\n",
      "Does this patient have T2 available? True\n",
      "I'm doing the thing.\n"
     ]
    },
    {
     "name": "stderr",
     "output_type": "stream",
     "text": [
      "\r",
      " 46%|████▌     | 46/101 [00:05<00:08,  6.43it/s]"
     ]
    },
    {
     "name": "stderr",
     "output_type": "stream",
     "text": [
      "\r",
      " 48%|████▊     | 48/101 [00:05<00:07,  7.31it/s]"
     ]
    },
    {
     "name": "stdout",
     "output_type": "stream",
     "text": [
      "bone-penn-519\n",
      "Does this patient have T2 available? True\n",
      "I'm doing the thing.\n",
      "bone-penn-540\n",
      "Does this patient have T2 available? True\n",
      "I'm doing the thing.\n",
      "bone-penn-524\n",
      "Does this patient have T2 available? True\n",
      "I'm doing the thing.\n"
     ]
    },
    {
     "name": "stderr",
     "output_type": "stream",
     "text": [
      "\r",
      " 49%|████▊     | 49/101 [00:06<00:07,  7.15it/s]"
     ]
    },
    {
     "name": "stderr",
     "output_type": "stream",
     "text": [
      "\r",
      " 50%|████▉     | 50/101 [00:06<00:06,  7.46it/s]"
     ]
    },
    {
     "name": "stdout",
     "output_type": "stream",
     "text": [
      "bone-penn-539\n",
      "Does this patient have T2 available? True\n",
      "I'm doing the thing.\n",
      "bone-china-137\n",
      "Does this patient have T2 available? True\n",
      "I'm doing the thing.\n",
      "bone-china-150\n",
      "Does this patient have T2 available? True\n",
      "I'm doing the thing.\n"
     ]
    },
    {
     "name": "stderr",
     "output_type": "stream",
     "text": [
      "\r",
      " 52%|█████▏    | 53/101 [00:06<00:05,  9.32it/s]"
     ]
    },
    {
     "name": "stdout",
     "output_type": "stream",
     "text": [
      "bone-china-141\n",
      "Does this patient have T2 available? True\n",
      "I'm doing the thing.\n",
      "bone-china-142\n",
      "Does this patient have T2 available? True\n",
      "I'm doing the thing.\n",
      "bone-china-156\n",
      "Does this patient have T2 available? True\n",
      "I'm doing the thing.\n"
     ]
    },
    {
     "name": "stderr",
     "output_type": "stream",
     "text": [
      "\r",
      " 54%|█████▍    | 55/101 [00:06<00:04,  9.89it/s]"
     ]
    },
    {
     "name": "stderr",
     "output_type": "stream",
     "text": [
      "\r",
      " 57%|█████▋    | 58/101 [00:06<00:03, 12.01it/s]"
     ]
    },
    {
     "name": "stdout",
     "output_type": "stream",
     "text": [
      "bone-china-157\n",
      "Does this patient have T2 available? True\n",
      "I'm doing the thing.\n",
      "bone-china-094\n",
      "Does this patient have T2 available? True\n",
      "I'm doing the thing.\n",
      "bone-china-108\n",
      "Does this patient have T2 available? True\n",
      "I'm doing the thing.\n",
      "bone-china-130\n",
      "Does this patient have T2 available? True\n",
      "I'm doing the thing.\n",
      "bone-hup-294\n",
      "Does this patient have T2 available? True\n",
      "I'm doing the thing.\n"
     ]
    },
    {
     "name": "stderr",
     "output_type": "stream",
     "text": [
      "\r",
      " 59%|█████▉    | 60/101 [00:06<00:03, 12.68it/s]"
     ]
    },
    {
     "name": "stdout",
     "output_type": "stream",
     "text": [
      "bone-hup-318\n",
      "Does this patient have T2 available? True\n",
      "I'm doing the thing.\n"
     ]
    },
    {
     "name": "stderr",
     "output_type": "stream",
     "text": [
      "\r",
      " 61%|██████▏   | 62/101 [00:07<00:04,  8.06it/s]"
     ]
    },
    {
     "name": "stdout",
     "output_type": "stream",
     "text": [
      "bone-hup-300\n",
      "Does this patient have T2 available? True\n",
      "I'm doing the thing.\n",
      "bone-hup-313\n",
      "Does this patient have T2 available? True\n",
      "I'm doing the thing.\n",
      "bone-hup-311\n",
      "Does this patient have T2 available? True\n",
      "I'm doing the thing.\n"
     ]
    },
    {
     "name": "stderr",
     "output_type": "stream",
     "text": [
      "\r",
      " 63%|██████▎   | 64/101 [00:07<00:05,  6.46it/s]"
     ]
    },
    {
     "name": "stderr",
     "output_type": "stream",
     "text": [
      "\r",
      " 66%|██████▋   | 67/101 [00:07<00:04,  8.41it/s]"
     ]
    },
    {
     "name": "stdout",
     "output_type": "stream",
     "text": [
      "bone-penn-326\n",
      "Does this patient have T2 available? True\n",
      "I'm doing the thing.\n",
      "bone-china-067\n",
      "Does this patient have T2 available? True\n",
      "I'm doing the thing.\n",
      "bone-china-082\n",
      "Does this patient have T2 available? True\n",
      "I'm doing the thing.\n",
      "bone-china-090\n",
      "Does this patient have T2 available? True\n",
      "I'm doing the thing.\n",
      "bone-china-012\n",
      "Does this patient have T2 available? True\n",
      "I'm doing the thing.\n"
     ]
    },
    {
     "name": "stderr",
     "output_type": "stream",
     "text": [
      "\r",
      " 68%|██████▊   | 69/101 [00:07<00:03,  9.64it/s]"
     ]
    },
    {
     "name": "stderr",
     "output_type": "stream",
     "text": [
      "\r",
      " 70%|███████   | 71/101 [00:08<00:02, 10.93it/s]"
     ]
    },
    {
     "name": "stdout",
     "output_type": "stream",
     "text": [
      "bone-china-064\n",
      "Does this patient have T2 available? True\n",
      "I'm doing the thing.\n",
      "bone-china-063\n",
      "Does this patient have T2 available? True\n",
      "I'm doing the thing.\n",
      "bone-china-007\n",
      "Does this patient have T2 available? True\n",
      "I'm doing the thing.\n",
      "bone-china-018\n",
      "Does this patient have T2 available? True\n",
      "I'm doing the thing.\n",
      "bone-china-013\n",
      "Does this patient have T2 available? True\n",
      "I'm doing the thing.\n"
     ]
    },
    {
     "name": "stderr",
     "output_type": "stream",
     "text": [
      "\r",
      " 73%|███████▎  | 74/101 [00:08<00:02, 13.14it/s]"
     ]
    },
    {
     "name": "stdout",
     "output_type": "stream",
     "text": [
      "bone-hup-50\n",
      "Does this patient have T2 available? True\n",
      "I'm doing the thing.\n"
     ]
    },
    {
     "name": "stderr",
     "output_type": "stream",
     "text": [
      "\r",
      " 75%|███████▌  | 76/101 [00:09<00:07,  3.22it/s]"
     ]
    },
    {
     "name": "stdout",
     "output_type": "stream",
     "text": [
      "bone-penn-638\n",
      "Does this patient have T2 available? True\n",
      "I'm doing the thing.\n",
      "bone-penn-649\n",
      "Does this patient have T2 available? True\n",
      "I'm doing the thing.\n"
     ]
    },
    {
     "name": "stderr",
     "output_type": "stream",
     "text": [
      "\r",
      " 77%|███████▋  | 78/101 [00:10<00:05,  4.23it/s]"
     ]
    },
    {
     "name": "stderr",
     "output_type": "stream",
     "text": [
      "\r",
      " 79%|███████▉  | 80/101 [00:10<00:03,  5.46it/s]"
     ]
    },
    {
     "name": "stdout",
     "output_type": "stream",
     "text": [
      "bone-china-206\n",
      "Does this patient have T2 available? True\n",
      "I'm doing the thing.\n",
      "bone-china-235\n",
      "Does this patient have T2 available? True\n",
      "I'm doing the thing.\n",
      "bone-china-232\n",
      "Does this patient have T2 available? True\n",
      "I'm doing the thing.\n",
      "bone-china-182\n",
      "Does this patient have T2 available? True\n",
      "I'm doing the thing.\n"
     ]
    },
    {
     "name": "stderr",
     "output_type": "stream",
     "text": [
      "\r",
      " 81%|████████  | 82/101 [00:10<00:02,  6.45it/s]"
     ]
    },
    {
     "name": "stdout",
     "output_type": "stream",
     "text": [
      "bone-china-229\n",
      "Does this patient have T2 available? True\n",
      "I'm doing the thing.\n",
      "bone-china-208\n",
      "Does this patient have T2 available? True\n",
      "I'm doing the thing.\n",
      "bone-china-181\n",
      "Does this patient have T2 available? True\n",
      "I'm doing the thing.\n"
     ]
    },
    {
     "name": "stderr",
     "output_type": "stream",
     "text": [
      "\r",
      " 84%|████████▍ | 85/101 [00:10<00:01,  8.21it/s]"
     ]
    },
    {
     "name": "stdout",
     "output_type": "stream",
     "text": [
      "bone-china-202\n",
      "Does this patient have T2 available? True\n",
      "I'm doing the thing.\n",
      "bone-china-241\n",
      "Does this patient have T2 available? True\n",
      "I'm doing the thing.\n",
      "bone-china-233\n",
      "Does this patient have T2 available? True\n",
      "I'm doing the thing.\n",
      "bone-penn-469\n",
      "Does this patient have T2 available? True\n",
      "I'm doing the thing.\n"
     ]
    },
    {
     "name": "stderr",
     "output_type": "stream",
     "text": [
      "\r",
      " 87%|████████▋ | 88/101 [00:10<00:01,  9.62it/s]"
     ]
    },
    {
     "name": "stdout",
     "output_type": "stream",
     "text": [
      "bone-penn-486\n",
      "Does this patient have T2 available? True\n",
      "I'm doing the thing.\n",
      "bone-penn-505\n",
      "Does this patient have T2 available? True\n",
      "I'm doing the thing.\n"
     ]
    },
    {
     "name": "stderr",
     "output_type": "stream",
     "text": [
      "\r",
      " 89%|████████▉ | 90/101 [00:10<00:01,  8.69it/s]"
     ]
    },
    {
     "name": "stdout",
     "output_type": "stream",
     "text": [
      "bone-penn-513\n",
      "Does this patient have T2 available? True\n",
      "I'm doing the thing.\n",
      "bone-penn-499\n",
      "Does this patient have T2 available? True\n",
      "I'm doing the thing.\n"
     ]
    },
    {
     "name": "stderr",
     "output_type": "stream",
     "text": [
      "\r",
      " 91%|█████████ | 92/101 [00:11<00:01,  8.65it/s]"
     ]
    },
    {
     "name": "stderr",
     "output_type": "stream",
     "text": [
      "\r",
      " 93%|█████████▎| 94/101 [00:11<00:00, 10.22it/s]"
     ]
    },
    {
     "name": "stdout",
     "output_type": "stream",
     "text": [
      "bone-penn-470\n",
      "Does this patient have T2 available? True\n",
      "I'm doing the thing.\n",
      "bone-penn-510\n",
      "Does this patient have T2 available? True\n",
      "I'm doing the thing.\n",
      "bone-penn-475\n",
      "Does this patient have T2 available? True\n",
      "I'm doing the thing.\n",
      "bone-penn-493\n",
      "Does this patient have T2 available? True\n",
      "I'm doing the thing.\n"
     ]
    },
    {
     "name": "stderr",
     "output_type": "stream",
     "text": [
      "\r",
      " 95%|█████████▌| 96/101 [00:11<00:00,  9.27it/s]"
     ]
    },
    {
     "name": "stderr",
     "output_type": "stream",
     "text": [
      "\r",
      " 97%|█████████▋| 98/101 [00:11<00:00, 10.75it/s]"
     ]
    },
    {
     "name": "stdout",
     "output_type": "stream",
     "text": [
      "bone-penn-559\n",
      "Does this patient have T2 available? True\n",
      "I'm doing the thing.\n",
      "bone-penn-569\n",
      "Does this patient have T2 available? True\n",
      "I'm doing the thing.\n",
      "bone-penn-554\n",
      "Does this patient have T2 available? True\n",
      "I'm doing the thing.\n"
     ]
    },
    {
     "name": "stderr",
     "output_type": "stream",
     "text": [
      "\r",
      " 99%|█████████▉| 100/101 [00:11<00:00, 11.53it/s]"
     ]
    },
    {
     "name": "stderr",
     "output_type": "stream",
     "text": [
      "\r",
      "100%|██████████| 101/101 [00:11<00:00,  8.48it/s]"
     ]
    },
    {
     "name": "stdout",
     "output_type": "stream",
     "text": [
      "bone-penn-566\n",
      "Does this patient have T2 available? True\n",
      "I'm doing the thing.\n",
      "bone-penn-557\n",
      "Does this patient have T2 available? True\n",
      "I'm doing the thing.\n",
      "0.7971830985915493\n",
      "0.9900990099009901\n",
      "0.815\n"
     ]
    },
    {
     "name": "stderr",
     "output_type": "stream",
     "text": [
      "\n"
     ]
    }
   ],
   "source": [
    "train, validation, test = data(seed=uuid.UUID(result.split_seed), label_form=result.label_form, input_form=result.input_form, train_shuffle=False, test_shuffle=False, validation_shuffle=False, train_augment=False, validation_augment=False, test_augment=False)"
   ]
  },
  {
   "cell_type": "code",
   "execution_count": 12,
   "metadata": {
    "papermill": {
     "duration": 0.295682,
     "end_time": "2020-04-28T23:48:17.802018",
     "exception": false,
     "start_time": "2020-04-28T23:48:17.506336",
     "status": "completed"
    },
    "scrolled": true,
    "tags": []
   },
   "outputs": [
    {
     "name": "stdout",
     "output_type": "stream",
     "text": [
      "training N: 566\n",
      "validation N: 163\n",
      "test N: 100\n"
     ]
    }
   ],
   "source": [
    "print(\"training N:\", len(train))\n",
    "print(\"validation N:\", len(validation))\n",
    "print(\"test N:\", len(test))"
   ]
  },
  {
   "cell_type": "code",
   "execution_count": 13,
   "metadata": {
    "papermill": {
     "duration": 0.264014,
     "end_time": "2020-04-28T23:48:18.082685",
     "exception": false,
     "start_time": "2020-04-28T23:48:17.818671",
     "status": "completed"
    },
    "tags": []
   },
   "outputs": [
    {
     "name": "stdout",
     "output_type": "stream",
     "text": [
      "training 1.0: 644\n",
      "validation 1.0: 191\n",
      "test 1.0: 121\n"
     ]
    }
   ],
   "source": [
    "class_inv = {v: k for k, v in train.class_indices.items()}\n",
    "print(\"training {}:\".format(class_inv[1]), sum(train.classes))\n",
    "print(\"validation {}:\".format(class_inv[1]), sum(validation.classes))\n",
    "print(\"test {}:\".format(class_inv[1]), sum(test.classes))"
   ]
  },
  {
   "cell_type": "code",
   "execution_count": 14,
   "metadata": {
    "collapsed": true,
    "papermill": {
     "duration": 30.745514,
     "end_time": "2020-04-28T23:48:48.856434",
     "exception": false,
     "start_time": "2020-04-28T23:48:18.110920",
     "status": "completed"
    },
    "tags": []
   },
   "outputs": [
    {
     "name": "stdout",
     "output_type": "stream",
     "text": [
      "WARNING:tensorflow:From /home/user1/.local/share/virtualenvs/Bone-MRI-iLizu8rs/lib/python3.6/site-packages/keras/backend/tensorflow_backend.py:422: The name tf.global_variables is deprecated. Please use tf.compat.v1.global_variables instead.\n",
      "\n"
     ]
    },
    {
     "name": "stderr",
     "output_type": "stream",
     "text": [
      "WARNING:tensorflow:From /home/user1/.local/share/virtualenvs/Bone-MRI-iLizu8rs/lib/python3.6/site-packages/keras/backend/tensorflow_backend.py:422: The name tf.global_variables is deprecated. Please use tf.compat.v1.global_variables instead.\n",
      "\n"
     ]
    }
   ],
   "source": [
    "model = load(MODEL)"
   ]
  },
  {
   "cell_type": "code",
   "execution_count": 15,
   "metadata": {
    "papermill": {
     "duration": 0.188992,
     "end_time": "2020-04-28T23:48:49.047362",
     "exception": false,
     "start_time": "2020-04-28T23:48:48.858370",
     "status": "completed"
    },
    "tags": []
   },
   "outputs": [
    {
     "data": {
      "text/plain": [
       "<keras.engine.training.Model at 0x7f98f7af9358>"
      ]
     },
     "execution_count": 15,
     "metadata": {},
     "output_type": "execute_result"
    }
   ],
   "source": [
    "model"
   ]
  },
  {
   "cell_type": "markdown",
   "metadata": {
    "papermill": {
     "duration": 4.8e-05,
     "end_time": "2020-04-28T23:48:49.206484",
     "exception": false,
     "start_time": "2020-04-28T23:48:49.206436",
     "status": "completed"
    },
    "tags": []
   },
   "source": [
    "# Train"
   ]
  },
  {
   "cell_type": "code",
   "execution_count": 16,
   "metadata": {
    "collapsed": true,
    "papermill": {
     "duration": 16.375778,
     "end_time": "2020-04-28T23:49:05.853430",
     "exception": false,
     "start_time": "2020-04-28T23:48:49.477652",
     "status": "completed"
    },
    "tags": []
   },
   "outputs": [],
   "source": [
    "results = get_results(model, train)"
   ]
  },
  {
   "cell_type": "code",
   "execution_count": 17,
   "metadata": {
    "papermill": {
     "duration": 0.328126,
     "end_time": "2020-04-28T23:49:06.183487",
     "exception": false,
     "start_time": "2020-04-28T23:49:05.855361",
     "status": "completed"
    },
    "scrolled": false,
    "tags": []
   },
   "outputs": [
    {
     "data": {
      "application/papermill.record+json": {
       "train_labels": [
        0,
        0,
        0,
        0,
        0,
        0,
        0,
        0,
        0,
        0,
        0,
        0,
        0,
        0,
        0,
        0,
        0,
        0,
        0,
        0,
        0,
        0,
        0,
        0,
        0,
        0,
        0,
        0,
        0,
        0,
        0,
        0,
        0,
        0,
        0,
        0,
        0,
        0,
        0,
        0,
        0,
        0,
        0,
        0,
        0,
        0,
        0,
        0,
        0,
        0,
        0,
        0,
        0,
        0,
        0,
        0,
        0,
        0,
        0,
        0,
        0,
        0,
        0,
        0,
        0,
        0,
        0,
        0,
        0,
        0,
        0,
        0,
        0,
        0,
        0,
        0,
        0,
        0,
        0,
        0,
        0,
        0,
        0,
        0,
        0,
        0,
        0,
        0,
        0,
        0,
        0,
        0,
        0,
        0,
        0,
        0,
        0,
        0,
        0,
        0,
        0,
        0,
        0,
        0,
        0,
        0,
        0,
        0,
        0,
        0,
        0,
        0,
        0,
        0,
        0,
        0,
        0,
        0,
        0,
        0,
        0,
        0,
        0,
        0,
        0,
        0,
        0,
        0,
        0,
        0,
        0,
        0,
        0,
        0,
        0,
        0,
        0,
        0,
        0,
        0,
        0,
        0,
        0,
        0,
        0,
        0,
        0,
        0,
        0,
        0,
        0,
        0,
        0,
        0,
        0,
        0,
        0,
        0,
        0,
        0,
        0,
        0,
        0,
        1,
        1,
        1,
        1,
        1,
        1,
        1,
        1,
        1,
        1,
        1,
        1,
        1,
        1,
        1,
        1,
        1,
        1,
        1,
        1,
        1,
        1,
        1,
        1,
        1,
        1,
        1,
        1,
        1,
        1,
        1,
        1,
        1,
        1,
        1,
        1,
        1,
        1,
        1,
        1,
        1,
        1,
        1,
        1,
        1,
        1,
        1,
        1,
        1,
        1,
        1,
        1,
        1,
        1,
        1,
        1,
        1,
        1,
        1,
        1,
        1,
        1,
        1,
        1,
        1,
        1,
        1,
        1,
        1,
        1,
        1,
        1,
        1,
        1,
        1,
        1,
        1,
        1,
        1,
        1,
        1,
        1,
        1,
        1,
        1,
        1,
        1,
        1,
        1,
        1,
        1,
        1,
        1,
        1,
        1,
        1,
        1,
        1,
        1,
        1,
        1,
        1,
        1,
        1,
        1,
        1,
        1,
        1,
        1,
        1,
        1,
        1,
        1,
        1,
        1,
        1,
        1,
        1,
        1,
        1,
        1,
        1,
        1,
        1,
        1,
        1,
        1,
        1,
        1,
        1,
        1,
        1,
        1,
        1,
        1,
        1,
        1,
        1,
        1,
        1,
        1,
        1,
        1,
        1,
        1,
        1,
        1,
        1,
        1,
        1,
        1,
        1,
        1,
        1,
        1,
        1,
        2,
        2,
        2,
        2,
        2,
        2,
        2,
        2,
        2,
        2,
        2,
        2,
        2,
        2,
        2,
        2,
        2,
        2,
        2,
        2,
        2,
        2,
        2,
        2,
        2,
        2,
        2,
        2,
        2,
        2,
        2,
        2,
        2,
        2,
        2,
        2,
        2,
        2,
        2,
        2,
        2,
        2,
        2,
        2,
        2,
        2,
        2,
        2,
        2,
        2,
        2,
        2,
        2,
        2,
        2,
        2,
        2,
        2,
        2,
        2,
        2,
        2,
        2,
        2,
        2,
        2,
        2,
        2,
        2,
        2,
        2,
        2,
        2,
        2,
        2,
        2,
        2,
        2,
        2,
        2,
        2,
        2,
        2,
        2,
        2,
        2,
        2,
        2,
        2,
        2,
        2,
        2,
        2,
        2,
        2,
        2,
        2,
        2,
        2,
        2,
        2,
        2,
        2,
        2,
        2,
        2,
        2,
        2,
        2,
        2,
        2,
        2,
        2,
        2,
        2,
        2,
        2,
        2,
        2,
        2,
        2,
        2,
        2,
        2,
        2,
        2,
        2,
        2,
        2,
        2,
        2,
        2,
        2,
        2,
        2,
        2,
        2,
        2,
        2,
        2,
        2,
        2,
        2,
        2,
        2,
        2,
        2,
        2,
        2,
        2,
        2,
        2,
        2,
        2,
        2,
        2,
        2,
        2,
        2,
        2,
        2,
        2,
        2,
        2,
        2,
        2,
        2,
        2,
        2,
        2,
        2,
        2,
        2,
        2,
        2,
        2,
        2,
        2,
        2,
        2,
        2,
        2,
        2,
        2,
        2,
        2,
        2,
        2,
        2,
        2,
        2,
        2,
        2,
        2,
        2,
        2,
        2,
        2,
        2,
        2,
        2,
        2,
        2,
        2,
        2,
        2,
        2,
        2,
        2,
        2,
        2,
        2,
        2,
        2,
        2,
        2,
        2,
        2,
        2,
        2,
        2,
        2,
        2,
        2,
        2,
        2,
        2,
        2,
        2,
        2,
        2,
        2,
        2,
        2,
        2,
        2,
        2,
        2,
        2,
        2,
        2,
        2,
        2,
        2,
        0,
        0,
        0
       ]
      }
     },
     "metadata": {},
     "output_type": "display_data"
    },
    {
     "data": {
      "application/papermill.record+json": {
       "train_probabilities": [
        0.4008532166481018,
        0.3853496015071869,
        0.21379713714122772,
        0.38657936453819275,
        0.38880303502082825,
        0.2246176153421402,
        0.2911013066768646,
        0.37928158044815063,
        0.32961714267730713,
        0.31259509921073914,
        0.38718336820602417,
        0.3002215027809143,
        0.23607462644577026,
        0.3404356837272644,
        0.42348968982696533,
        0.38611355423927307,
        0.3890315592288971,
        0.22485493123531342,
        0.23183844983577728,
        0.33351585268974304,
        0.4346456825733185,
        0.466781347990036,
        0.3679284155368805,
        0.1652902066707611,
        0.2695801556110382,
        0.3714844584465027,
        0.3589353561401367,
        0.24803903698921204,
        0.3584805428981781,
        0.39348042011260986,
        0.2356308102607727,
        0.33971861004829407,
        0.4246505796909332,
        0.27326491475105286,
        0.37611573934555054,
        0.3506193459033966,
        0.2381093055009842,
        0.3438456654548645,
        0.4180450737476349,
        0.2467353641986847,
        0.3562413156032562,
        0.39702335000038147,
        0.3519560694694519,
        0.3907835781574249,
        0.25726035237312317,
        0.398550808429718,
        0.38663771748542786,
        0.2148115336894989,
        0.2362855076789856,
        0.34085261821746826,
        0.4228619337081909,
        0.27792564034461975,
        0.3805067539215088,
        0.34156760573387146,
        0.23795659840106964,
        0.34359240531921387,
        0.4184509813785553,
        0.29432952404022217,
        0.3831935524940491,
        0.32247689366340637,
        0.24594339728355408,
        0.3552989065647125,
        0.3987576365470886,
        0.2264176607131958,
        0.3239932060241699,
        0.44958916306495667,
        0.23572632670402527,
        0.33972805738449097,
        0.42454567551612854,
        0.24006061255931854,
        0.34690386056900024,
        0.41303548216819763,
        0.2395048290491104,
        0.34608888626098633,
        0.4144062101840973,
        0.5098108053207397,
        0.3444066047668457,
        0.1457826793193817,
        0.28956902027130127,
        0.38156208395957947,
        0.32886892557144165,
        0.24819913506507874,
        0.3588143587112427,
        0.392986536026001,
        0.24366332590579987,
        0.3501063585281372,
        0.40623027086257935,
        0.2480921894311905,
        0.35820433497428894,
        0.39370349049568176,
        0.23781858384609222,
        0.3433597683906555,
        0.41882169246673584,
        0.4673455059528351,
        0.3679395318031311,
        0.1647149920463562,
        0.24053333699703217,
        0.34748518466949463,
        0.4119815230369568,
        0.4039650559425354,
        0.38715386390686035,
        0.20888113975524902,
        0.23852933943271637,
        0.34452173113822937,
        0.41694897413253784,
        0.41731345653533936,
        0.3844068944454193,
        0.19827964901924133,
        0.3162013590335846,
        0.3887540400028229,
        0.29504460096359253,
        0.26945212483406067,
        0.3767455816268921,
        0.3538023829460144,
        0.38171640038490295,
        0.3909381628036499,
        0.22734545171260834,
        0.2360639125108719,
        0.3404519259929657,
        0.4234841465950012,
        0.24657434225082397,
        0.35422781109809875,
        0.39919784665107727,
        0.27039197087287903,
        0.3691841661930084,
        0.36042386293411255,
        0.3219354450702667,
        0.38853028416633606,
        0.2895343601703644,
        0.34998616576194763,
        0.39125022292137146,
        0.25876370072364807,
        0.24266046285629272,
        0.34967273473739624,
        0.40766680240631104,
        0.25576701760292053,
        0.36351659893989563,
        0.38071635365486145,
        0.2764635980129242,
        0.3767054080963135,
        0.3468310236930847,
        0.31462398171424866,
        0.3876004219055176,
        0.29777559638023376,
        0.2452465295791626,
        0.354576975107193,
        0.400176465511322,
        0.29767122864723206,
        0.38516828417778015,
        0.317160427570343,
        0.24873556196689606,
        0.3535923957824707,
        0.39767205715179443,
        0.277601957321167,
        0.3803044855594635,
        0.3420935273170471,
        0.24970607459545135,
        0.35998162627220154,
        0.3903122842311859,
        0.7589288353919983,
        0.18912924826145172,
        0.05194193497300148,
        0.23511235415935516,
        0.33884090185165405,
        0.4260467290878296,
        0.23707760870456696,
        0.3419731855392456,
        0.42094919085502625,
        0.23527951538562775,
        0.3390471041202545,
        0.4256734251976013,
        0.23278674483299255,
        0.33501002192497253,
        0.4322032034397125,
        0.2808476984500885,
        0.3812103271484375,
        0.3379420340061188,
        0.24442818760871887,
        0.353442907333374,
        0.4021288752555847,
        0.32130852341651917,
        0.38634437322616577,
        0.29234713315963745,
        0.24950891733169556,
        0.36083319783210754,
        0.3896578848361969,
        0.2585916817188263,
        0.36571255326271057,
        0.37569573521614075,
        0.23366886377334595,
        0.3365243077278137,
        0.4298068881034851,
        0.2511958181858063,
        0.3627695143222809,
        0.38603469729423523,
        0.30899807810783386,
        0.3837171792984009,
        0.30728474259376526,
        0.2543073892593384,
        0.36596277356147766,
        0.37972986698150635,
        0.3078899085521698,
        0.3888758420944214,
        0.3032342493534088,
        0.24770118296146393,
        0.35798823833465576,
        0.3943105936050415,
        0.28944462537765503,
        0.3842129409313202,
        0.3263424038887024,
        0.23275484144687653,
        0.334913045167923,
        0.4323320984840393,
        0.4076390862464905,
        0.3853928744792938,
        0.20696809887886047,
        0.25644707679748535,
        0.36872047185897827,
        0.374832421541214,
        0.24014396965503693,
        0.34692326188087463,
        0.41293278336524963,
        0.4047880172729492,
        0.387163370847702,
        0.20804868638515472,
        0.23313003778457642,
        0.33558937907218933,
        0.43128055334091187,
        0.26058700680732727,
        0.371797651052475,
        0.36761531233787537,
        0.28671541810035706,
        0.3812837600708008,
        0.3320007920265198,
        0.3259423077106476,
        0.3906511068344116,
        0.2834065854549408,
        0.3836423456668854,
        0.3891664445400238,
        0.2271912544965744,
        0.23721398413181305,
        0.3423750102519989,
        0.42041102051734924,
        0.25156015157699585,
        0.3633219003677368,
        0.38511791825294495,
        0.24995046854019165,
        0.35623615980148315,
        0.3938133120536804,
        0.24556449055671692,
        0.35513758659362793,
        0.39929789304733276,
        0.26904600858688354,
        0.37332019209861755,
        0.3576337695121765,
        0.6865595579147339,
        0.23869498074054718,
        0.07474545389413834,
        0.23368112742900848,
        0.33632975816726685,
        0.4299890697002411,
        0.23690718412399292,
        0.34172961115837097,
        0.42136314511299133,
        0.2383405864238739,
        0.34379372000694275,
        0.41786566376686096,
        0.25397422909736633,
        0.36539629101753235,
        0.3806294798851013,
        0.2360709309577942,
        0.3404165506362915,
        0.4235125482082367,
        0.23831534385681152,
        0.34420469403266907,
        0.4174800217151642,
        0.29637324810028076,
        0.38564276695251465,
        0.317984014749527,
        0.2528799772262573,
        0.3654301166534424,
        0.3816899061203003,
        0.23620229959487915,
        0.3407396078109741,
        0.42305809259414673,
        0.2811428904533386,
        0.3783678710460663,
        0.3404891788959503,
        0.231495663523674,
        0.3328738212585449,
        0.4356305003166199,
        0.2558235228061676,
        0.36767008900642395,
        0.37650641798973083,
        0.2451086938381195,
        0.35385939478874207,
        0.40103185176849365,
        0.23478293418884277,
        0.33843061327934265,
        0.4267863929271698,
        0.275337815284729,
        0.3799343407154083,
        0.34472793340682983,
        0.23501041531562805,
        0.33876925706863403,
        0.4262203574180603,
        0.6333861947059631,
        0.273271381855011,
        0.09334242343902588,
        0.24754668772220612,
        0.35735803842544556,
        0.39509525895118713,
        0.2929189205169678,
        0.38300561904907227,
        0.32407546043395996,
        0.24374176561832428,
        0.35196349024772644,
        0.4042947292327881,
        0.23868019878864288,
        0.3443458378314972,
        0.4169739782810211,
        0.2549867630004883,
        0.36190661787986755,
        0.38310664892196655,
        0.24907152354717255,
        0.3580385744571686,
        0.3928898572921753,
        0.2363535463809967,
        0.3406238257884979,
        0.42302262783050537,
        0.2292994111776352,
        0.3293897211551666,
        0.44131091237068176,
        0.24813112616539001,
        0.35819947719573975,
        0.39366939663887024,
        0.23553524911403656,
        0.3395783007144928,
        0.42488640546798706,
        0.2310229241847992,
        0.3318794071674347,
        0.4370976686477661,
        0.27939173579216003,
        0.37878653407096863,
        0.3418217599391937,
        0.3798387944698334,
        0.38985610008239746,
        0.2303050458431244,
        0.45596471428871155,
        0.3729516863822937,
        0.17108362913131714,
        0.2275184839963913,
        0.32615992426872253,
        0.4463215470314026,
        0.2864687740802765,
        0.3821665048599243,
        0.3313647210597992,
        0.29217806458473206,
        0.3837365210056305,
        0.32408541440963745,
        0.25620225071907043,
        0.36601191759109497,
        0.3777858316898346,
        0.3396280109882355,
        0.38989266753196716,
        0.27047932147979736,
        0.23935186862945557,
        0.3457748293876648,
        0.41487327218055725,
        0.5883327126502991,
        0.3009791374206543,
        0.11068814992904663,
        0.3342977464199066,
        0.3883361220359802,
        0.27736613154411316,
        0.2657504081726074,
        0.37363773584365845,
        0.36061182618141174,
        0.24252256751060486,
        0.3505672812461853,
        0.40691009163856506,
        0.2512994706630707,
        0.36271196603775024,
        0.38598859310150146,
        0.29004544019699097,
        0.38203194737434387,
        0.32792261242866516,
        0.2376660853624344,
        0.34309491515159607,
        0.4192390739917755,
        0.376146525144577,
        0.3906483054161072,
        0.23320522904396057,
        0.3398047387599945,
        0.3907895088195801,
        0.2694058120250702,
        0.24088504910469055,
        0.34729593992233276,
        0.4118190109729767,
        0.23613470792770386,
        0.3406984806060791,
        0.42316684126853943,
        0.25504761934280396,
        0.36573100090026855,
        0.3792213797569275,
        0.2393905073404312,
        0.3456675708293915,
        0.4149418771266937,
        0.23618948459625244,
        0.34043094515800476,
        0.4233795702457428,
        0.4087285101413727,
        0.385936975479126,
        0.20533449947834015,
        0.2298792451620102,
        0.3300130069255829,
        0.44010770320892334,
        0.25670430064201355,
        0.3671591877937317,
        0.37613654136657715,
        0.2757644057273865,
        0.3739820718765259,
        0.35025355219841003,
        0.3940735161304474,
        0.38695046305656433,
        0.21897608041763306,
        0.23944616317749023,
        0.3457479178905487,
        0.41480597853660583,
        0.2515549659729004,
        0.35469117760658264,
        0.3937538266181946,
        0.27136287093162537,
        0.3769792914390564,
        0.35165783762931824,
        0.31533026695251465,
        0.3872596323490143,
        0.29741013050079346,
        0.23488909006118774,
        0.33865952491760254,
        0.42645135521888733,
        0.3553988039493561,
        0.39244741201400757,
        0.25215381383895874,
        0.25168782472610474,
        0.36290836334228516,
        0.3854038417339325,
        0.23690898716449738,
        0.3416460454463959,
        0.4214448928833008,
        0.32883894443511963,
        0.39015480875968933,
        0.2810061573982239,
        0.3555973470211029,
        0.3909898102283478,
        0.2534128427505493,
        0.31169432401657104,
        0.38366857171058655,
        0.3046371340751648,
        0.34566134214401245,
        0.39003124833106995,
        0.2643073499202728,
        0.2364233136177063,
        0.34102964401245117,
        0.4225470721721649,
        0.27614423632621765,
        0.37661123275756836,
        0.3472445011138916,
        0.23489521443843842,
        0.3385665714740753,
        0.42653822898864746,
        0.266690194606781,
        0.37389272451400757,
        0.3594170808792114,
        0.31572145223617554,
        0.38561898469924927,
        0.2986595630645752,
        0.2506416440010071,
        0.36140570044517517,
        0.38795265555381775,
        0.25281307101249695,
        0.35625723004341125,
        0.3909296691417694,
        0.2506198287010193,
        0.3593897223472595,
        0.3899904191493988,
        0.23567357659339905,
        0.3397212624549866,
        0.4246051609516144,
        0.3473912477493286,
        0.3902261257171631,
        0.2623826563358307,
        0.24035626649856567,
        0.34737876057624817,
        0.41226494312286377,
        0.23915985226631165,
        0.345552533864975,
        0.415287584066391,
        0.24165689945220947,
        0.3493577837944031,
        0.40898531675338745,
        0.2357161045074463,
        0.3397749662399292,
        0.4245089590549469,
        0.23483483493328094,
        0.3384109437465668,
        0.4267541766166687,
        0.23566947877407074,
        0.33979734778404236,
        0.4245331585407257,
        0.25444331765174866,
        0.3653889298439026,
        0.38016775250434875,
        0.27201372385025024,
        0.3766278922557831,
        0.3513583838939667,
        0.23905625939369202,
        0.34536582231521606,
        0.4155779182910919,
        0.24262744188308716,
        0.35043224692344666,
        0.4069403111934662,
        0.3813782334327698,
        0.39042195677757263,
        0.22819975018501282,
        0.2395755648612976,
        0.346089243888855,
        0.414335161447525,
        0.26707807183265686,
        0.3740543723106384,
        0.35886749625205994,
        0.252349317073822,
        0.3646194636821747,
        0.3830312192440033,
        0.24328450858592987,
        0.3490326702594757,
        0.40768277645111084,
        0.24414026737213135,
        0.3519367277622223,
        0.40392306447029114,
        0.22826044261455536,
        0.32774069905281067,
        0.4439988434314728,
        0.258213609457016,
        0.3703666925430298,
        0.3714196979999542,
        0.2740858495235443,
        0.37930986285209656,
        0.3466043174266815,
        0.23786970973014832,
        0.34347623586654663,
        0.4186539947986603,
        0.24394530057907104,
        0.35242360830307007,
        0.4036311209201813,
        0.24241943657398224,
        0.35026222467422485,
        0.4073183834552765,
        0.3857140839099884,
        0.38832372426986694,
        0.22596223652362823,
        0.23690783977508545,
        0.34193384647369385,
        0.4211582839488983,
        0.26762938499450684,
        0.3765140175819397,
        0.35585665702819824,
        0.2378571629524231,
        0.3434644937515259,
        0.4186783730983734,
        0.2433735877275467,
        0.3501270115375519,
        0.4064994156360626,
        0.25788193941116333,
        0.37010815739631653,
        0.37200993299484253,
        0.29997238516807556,
        0.38301557302474976,
        0.31701210141181946,
        0.2563595473766327,
        0.3668615520000458,
        0.3767789602279663,
        0.269283264875412,
        0.37045854330062866,
        0.36025816202163696,
        0.2344226986169815,
        0.33778369426727295,
        0.42779359221458435,
        0.2473498284816742,
        0.35775089263916016,
        0.39489924907684326,
        0.23845256865024567,
        0.3443855047225952,
        0.4171619713306427,
        0.23819668591022491,
        0.3439069986343384,
        0.4178963899612427,
        0.47736498713493347,
        0.3628104031085968,
        0.15982463955879211,
        0.23728613555431366,
        0.3424980342388153,
        0.4202158749103546,
        0.24047572910785675,
        0.3461351692676544,
        0.41338911652565,
        0.26799121499061584,
        0.37193411588668823,
        0.36007463932037354,
        0.4462258219718933,
        0.3760327994823456,
        0.17774145305156708,
        0.34042978286743164,
        0.3914153277873993,
        0.26815488934516907,
        0.2905632555484772,
        0.3809404671192169,
        0.32849618792533875,
        0.23883046209812164,
        0.34504032135009766,
        0.4161292612552643,
        0.24080082774162292,
        0.3474881649017334,
        0.4117109775543213,
        0.2582579553127289,
        0.36001113057136536,
        0.3817308843135834,
        0.6660264730453491,
        0.25259220600128174,
        0.0813814029097557,
        0.24299849569797516,
        0.35135766863822937,
        0.40564385056495667,
        0.23579055070877075,
        0.3399442732334137,
        0.42426514625549316,
        0.2281762957572937,
        0.32749444246292114,
        0.44432929158210754,
        0.24998559057712555,
        0.35805246233940125,
        0.3919619917869568,
        0.23481811583042145,
        0.3383047580718994,
        0.4268772006034851,
        0.23543381690979004,
        0.3392898440361023,
        0.42527633905410767,
        0.2427719533443451,
        0.35021811723709106,
        0.40700992941856384,
        0.23584707081317902,
        0.33998849987983704,
        0.4241645038127899,
        0.4245021939277649,
        0.3829120695590973,
        0.1925857663154602,
        0.24027396738529205,
        0.3468165397644043,
        0.41290947794914246,
        0.23465153574943542,
        0.338020384311676,
        0.4273280203342438,
        0.6222646832466125,
        0.27997511625289917,
        0.09776026755571365,
        0.2386801391839981,
        0.3446514308452606,
        0.4166683852672577,
        0.23303678631782532,
        0.3352471888065338,
        0.4317159950733185,
        0.24186615645885468,
        0.34963107109069824,
        0.4085027873516083,
        0.28921082615852356,
        0.3840716779232025,
        0.32671743631362915,
        0.2654310166835785,
        0.372414231300354,
        0.3621548116207123,
        0.23258648812770844,
        0.3348766565322876,
        0.43253687024116516,
        0.2389179915189743,
        0.3447338342666626,
        0.4163481891155243,
        0.23861297965049744,
        0.343935489654541,
        0.41745150089263916,
        0.24291400611400604,
        0.35081106424331665,
        0.4062749445438385,
        0.23215730488300323,
        0.33383941650390625,
        0.4340033233165741,
        0.2287047803401947,
        0.3281936049461365,
        0.4431016445159912,
        0.245754674077034,
        0.35411322116851807,
        0.40013206005096436,
        0.2386355996131897,
        0.3447082042694092,
        0.4166562259197235,
        0.24234452843666077,
        0.35001713037490845,
        0.40763840079307556,
        0.26608484983444214,
        0.3737509548664093,
        0.36016419529914856,
        0.23785193264484406,
        0.3430691957473755,
        0.4190788269042969,
        0.26531797647476196,
        0.3749580383300781,
        0.3597239553928375,
        0.29802405834198,
        0.386122465133667,
        0.31585344672203064,
        0.28810206055641174,
        0.3839159607887268,
        0.3279819190502167,
        0.2353784143924713,
        0.3393285870552063,
        0.42529296875,
        0.23697935044765472,
        0.3420390486717224,
        0.42098164558410645,
        0.25784817337989807,
        0.36929914355278015,
        0.37285271286964417,
        0.2363397479057312,
        0.34097543358802795,
        0.42268481850624084,
        0.2317223846912384,
        0.3333275020122528,
        0.43495017290115356,
        0.24743178486824036,
        0.3574531674385071,
        0.39511510729789734,
        0.30847159028053284,
        0.38823530077934265,
        0.3032930791378021,
        0.2589768171310425,
        0.37080147862434387,
        0.37022167444229126,
        0.25070682168006897,
        0.36218318343162537,
        0.38711005449295044,
        0.2559458911418915,
        0.36620885133743286,
        0.3778451979160309,
        0.2328299731016159,
        0.33514100313186646,
        0.43202900886535645,
        0.30837181210517883,
        0.3866823613643646,
        0.30494585633277893,
        0.23990774154663086,
        0.3460858464241028,
        0.41400641202926636,
        0.2363758236169815,
        0.3409760594367981,
        0.4226481020450592,
        0.35865554213523865,
        0.3905092775821686,
        0.2508351802825928,
        0.27726516127586365,
        0.3791906237602234,
        0.34354424476623535,
        0.24536144733428955,
        0.3548007607460022,
        0.39983782172203064,
        0.31558987498283386,
        0.3865744471549988,
        0.29783570766448975,
        0.25023844838142395,
        0.3618279695510864,
        0.38793352246284485,
        0.26761218905448914,
        0.3761235475540161,
        0.3562643229961395,
        0.2328242063522339,
        0.335061252117157,
        0.4321145713329315,
        0.24320560693740845,
        0.35164421796798706,
        0.4051502048969269,
        0.2360166609287262,
        0.3403526842594147,
        0.42363062500953674,
        0.24980910122394562,
        0.3597638010978699,
        0.3904270529747009,
        0.23730981349945068,
        0.34250178933143616,
        0.42018842697143555,
        0.2357518970966339,
        0.3399110734462738,
        0.4243369996547699,
        0.2488478720188141,
        0.3596804141998291,
        0.3914717137813568,
        0.25203701853752136,
        0.3621728718280792,
        0.385790079832077,
        0.23842349648475647,
        0.3442434072494507,
        0.41733303666114807,
        0.25808975100517273,
        0.36976858973503113,
        0.37214165925979614,
        0.24138034880161285,
        0.3487882614135742,
        0.40983137488365173,
        0.23630596697330475,
        0.3408910632133484,
        0.42280298471450806,
        0.3063725233078003,
        0.3857446610927582,
        0.30788278579711914,
        0.2669343054294586,
        0.37218308448791504,
        0.36088258028030396,
        0.25038689374923706,
        0.3620710074901581,
        0.38754212856292725,
        0.2447192221879959,
        0.35356178879737854,
        0.40171900391578674,
        0.23673848807811737,
        0.34149008989334106,
        0.42177143692970276,
        0.23732590675354004,
        0.3425107002258301,
        0.4201633632183075,
        0.24933072924613953,
        0.36042147874832153,
        0.39024779200553894,
        0.27525946497917175,
        0.37698429822921753,
        0.34775617718696594,
        0.2465171217918396,
        0.35629117488861084,
        0.3971916735172272,
        0.23519301414489746,
        0.33891090750694275,
        0.4258961081504822,
        0.23302793502807617,
        0.3354690372943878,
        0.4315029978752136,
        0.2675206959247589,
        0.3731560707092285,
        0.3593232035636902,
        0.24588845670223236,
        0.3543339967727661,
        0.3997775614261627,
        0.331108421087265,
        0.3896941542625427,
        0.2791973352432251,
        0.23460152745246887,
        0.33790186047554016,
        0.42749661207199097,
        0.2384398877620697,
        0.34434664249420166,
        0.41721343994140625,
        0.24016237258911133,
        0.3464932441711426,
        0.4133443534374237,
        0.28204289078712463,
        0.37093284726142883,
        0.34702423214912415,
        0.23442429304122925,
        0.3376272916793823,
        0.42794835567474365,
        0.24032184481620789,
        0.34703564643859863,
        0.4126425087451935,
        0.24809418618679047,
        0.35826578736305237,
        0.39364004135131836,
        0.31745055317878723,
        0.3891022801399231,
        0.2934471070766449,
        0.2534990608692169,
        0.3653809130191803,
        0.3811199963092804,
        0.2465849369764328,
        0.3564193844795227,
        0.3969956934452057,
        0.24122251570224762,
        0.34861165285110474,
        0.41016581654548645,
        0.23140379786491394,
        0.33263492584228516,
        0.43596136569976807,
        0.23586978018283844,
        0.33984997868537903,
        0.42428022623062134,
        0.23725047707557678,
        0.342487096786499,
        0.4202624261379242,
        0.30362603068351746,
        0.38756847381591797,
        0.3088054656982422,
        0.2915862798690796,
        0.38262537121772766,
        0.32578834891319275,
        0.34817323088645935,
        0.39045265316963196,
        0.2613741159439087,
        0.345081090927124,
        0.39098286628723145,
        0.2639360725879669,
        0.2438286393880844,
        0.3503762185573578,
        0.4057951867580414,
        0.23807205259799957,
        0.3436799645423889,
        0.4182480275630951,
        0.23890814185142517,
        0.3451519012451172,
        0.41593998670578003,
        0.2482273280620575,
        0.35896286368370056,
        0.39280983805656433,
        0.30646032094955444,
        0.38767507672309875,
        0.3058646321296692,
        0.24343080818653107,
        0.3515852391719818,
        0.4049839675426483,
        0.23691199719905853,
        0.3418424129486084,
        0.42124563455581665,
        0.3350379168987274,
        0.3907480239868164,
        0.27421408891677856,
        0.25772973895072937,
        0.3632984161376953,
        0.3789718449115753,
        0.23726342618465424,
        0.3424519896507263,
        0.42028459906578064,
        0.23538972437381744,
        0.3392413854598999,
        0.4253688454627991,
        0.2386687994003296,
        0.34467318654060364,
        0.41665804386138916,
        0.23560957610607147,
        0.3396744430065155,
        0.42471593618392944,
        0.24869537353515625,
        0.3593308925628662,
        0.3919738233089447,
        0.23482127487659454,
        0.3384295403957367,
        0.4267491400241852,
        0.23724150657653809,
        0.34230661392211914,
        0.4204518496990204,
        0.23301468789577484,
        0.3353756368160248,
        0.4316096603870392,
        0.23378565907478333,
        0.33662471175193787,
        0.4295895993709564,
        0.22587525844573975,
        0.32309144735336304,
        0.45103320479393005,
        0.24184192717075348,
        0.34889668226242065,
        0.4092613160610199,
        0.23579804599285126,
        0.34000164270401,
        0.42420026659965515,
        0.2709997296333313,
        0.37749773263931274,
        0.35150253772735596,
        0.23925967514514923,
        0.34572163224220276,
        0.4150186777114868,
        0.23410102725028992,
        0.3370205760002136,
        0.4288783669471741,
        0.27050235867500305,
        0.37788891792297363,
        0.35160866379737854,
        0.2392577826976776,
        0.34547436237335205,
        0.4152678847312927,
        0.2369767129421234,
        0.34190812706947327,
        0.42111510038375854,
        0.2334050089120865,
        0.3361482620239258,
        0.43044668436050415,
        0.25171026587486267,
        0.36334091424942017,
        0.3849487602710724,
        0.234537273645401,
        0.3378846049308777,
        0.4275781214237213,
        0.24984508752822876,
        0.36090323328971863,
        0.3892516791820526,
        0.24595025181770325,
        0.35467830300331116,
        0.3993714451789856,
        0.23224981129169464,
        0.3340274691581726,
        0.43372273445129395,
        0.24403724074363708,
        0.35281601548194885,
        0.40314674377441406,
        0.23449479043483734,
        0.3379271328449249,
        0.42757806181907654,
        0.23667746782302856,
        0.34147176146507263,
        0.4218507707118988,
        0.23360666632652283,
        0.3361347019672394,
        0.43025869131088257,
        0.24001911282539368,
        0.346854031085968,
        0.4131268262863159,
        0.23432548344135284,
        0.3375832438468933,
        0.42809128761291504,
        0.2540745437145233,
        0.3662497401237488,
        0.3796757459640503,
        0.23564378917217255,
        0.3396734297275543,
        0.42468273639678955,
        0.23149102926254272,
        0.3328274190425873,
        0.4356815814971924,
        0.28805577754974365,
        0.3788190186023712,
        0.3331252336502075,
        0.2339532971382141,
        0.3370685875415802,
        0.42897817492485046,
        0.23531673848628998,
        0.3390836715698242,
        0.425599604845047,
        0.25284087657928467,
        0.3653751313686371,
        0.3817839026451111,
        0.23763857781887054,
        0.34302622079849243,
        0.41933515667915344,
        0.2357913851737976,
        0.33990418910980225,
        0.42430439591407776,
        0.2316025048494339,
        0.33291906118392944,
        0.43547847867012024,
        0.23334744572639465,
        0.33585068583488464,
        0.4308018982410431,
        0.2365948110818863,
        0.3413265347480774,
        0.4220786392688751,
        0.42863649129867554,
        0.3814012110233307,
        0.18996235728263855,
        0.2853732407093048,
        0.3801337480545044,
        0.33449307084083557,
        0.23892687261104584,
        0.34514155983924866,
        0.41593149304389954,
        0.23467527329921722,
        0.33821943402290344,
        0.42710527777671814,
        0.2345721572637558,
        0.33801743388175964,
        0.42741045355796814,
        0.23598073422908783,
        0.3402736485004425,
        0.42374560236930847,
        0.22585533559322357,
        0.3229253888130188,
        0.4512192904949188,
        0.26728808879852295,
        0.3749915063381195,
        0.35772040486335754,
        0.23271317780017853,
        0.33486440777778625,
        0.432422399520874,
        0.23612259328365326,
        0.3405660390853882,
        0.42331141233444214,
        0.2347206324338913,
        0.33806151151657104,
        0.4272178113460541,
        0.2643882930278778,
        0.374066561460495,
        0.3615451455116272,
        0.32145023345947266,
        0.3777053952217102,
        0.30084434151649475,
        0.23840753734111786,
        0.34425508975982666,
        0.4173373579978943,
        0.25355514883995056,
        0.3660903573036194,
        0.38035446405410767,
        0.23127850890159607,
        0.33240485191345215,
        0.436316579580307,
        0.23244242370128632,
        0.3344382047653198,
        0.43311938643455505,
        0.23973578214645386,
        0.34607502818107605,
        0.4141891598701477,
        0.23994992673397064,
        0.34667032957077026,
        0.4133797287940979,
        0.23958691954612732,
        0.34621524810791016,
        0.4141978323459625,
        0.23273396492004395,
        0.3348837196826935,
        0.4323822259902954,
        0.23690542578697205,
        0.341907262802124,
        0.42118725180625916,
        0.2617603540420532,
        0.3699452877044678,
        0.3682943284511566,
        0.2374434471130371,
        0.34268641471862793,
        0.4198700785636902,
        0.2360955774784088,
        0.340597003698349,
        0.42330747842788696,
        0.25239893794059753,
        0.36460861563682556,
        0.3829924166202545,
        0.23325327038764954,
        0.3356596827507019,
        0.43108704686164856,
        0.2371000349521637,
        0.342207670211792,
        0.4206922650337219,
        0.23366662859916687,
        0.3364576995372772,
        0.4298757016658783,
        0.228700190782547,
        0.32838794589042664,
        0.44291186332702637,
        0.23706166446208954,
        0.3421117961406708,
        0.42082643508911133,
        0.23713761568069458,
        0.3422682583332062,
        0.420594185590744,
        0.23181647062301636,
        0.3334464430809021,
        0.43473705649375916,
        0.23799659311771393,
        0.3436194360256195,
        0.41838401556015015,
        0.2799347937107086,
        0.35864949226379395,
        0.36141565442085266,
        0.30162158608436584,
        0.38265544176101685,
        0.31572291254997253,
        0.2280573695898056,
        0.327213853597641,
        0.4447287619113922,
        0.23353712260723114,
        0.3361610174179077,
        0.43030184507369995,
        0.2381359487771988,
        0.34390512108802795,
        0.41795897483825684,
        0.2372158020734787,
        0.34240105748176575,
        0.4203830659389496,
        0.22699616849422455,
        0.32548975944519043,
        0.44751405715942383,
        0.5983830690383911,
        0.29561251401901245,
        0.1060044914484024,
        0.2310400754213333,
        0.3320695757865906,
        0.43689027428627014,
        0.22924678027629852,
        0.32896047830581665,
        0.441792756319046,
        0.23035049438476562,
        0.3310798108577728,
        0.43856972455978394,
        0.24012018740177155,
        0.3389393985271454,
        0.4209403991699219,
        0.23504957556724548,
        0.33876529335975647,
        0.42618513107299805,
        0.23457928001880646,
        0.337858647108078,
        0.42756208777427673,
        0.2362847775220871,
        0.34072038531303406,
        0.42299485206604004,
        0.23545895516872406,
        0.33951184153556824,
        0.4250291883945465,
        0.23371320962905884,
        0.33644309639930725,
        0.4298436939716339,
        0.22763879597187042,
        0.3265000283718109,
        0.44586119055747986,
        0.23030884563922882,
        0.33086520433425903,
        0.4388258755207062,
        0.2710797190666199,
        0.3768223524093628,
        0.35209789872169495,
        0.23400530219078064,
        0.3369666635990143,
        0.4290280044078827,
        0.23475560545921326,
        0.3383488655090332,
        0.42689552903175354,
        0.23635433614253998,
        0.34088054299354553,
        0.4227650761604309,
        0.23141278326511383,
        0.3327476680278778,
        0.43583959341049194,
        0.23489154875278473,
        0.3384312689304352,
        0.4266771674156189,
        0.2260766327381134,
        0.3235245943069458,
        0.4503987729549408,
        0.24322518706321716,
        0.3514092266559601,
        0.40536558628082275,
        0.23202534019947052,
        0.3335215449333191,
        0.4344530999660492,
        0.23430271446704865,
        0.33756133913993835,
        0.4281359314918518,
        0.2367943674325943,
        0.34156280755996704,
        0.42164289951324463,
        0.2462354451417923,
        0.35517075657844543,
        0.3985937535762787,
        0.2351868450641632,
        0.33893829584121704,
        0.4258749186992645,
        0.2625685930252075,
        0.3732968866825104,
        0.3641345202922821,
        0.7460567951202393,
        0.19849689304828644,
        0.055446382611989975,
        0.2377830296754837,
        0.34329357743263245,
        0.41892340779304504,
        0.2294480800628662,
        0.329414039850235,
        0.4411379098892212,
        0.22844476997852325,
        0.32761842012405396,
        0.443936824798584,
        0.6781188249588013,
        0.24389506876468658,
        0.07798607647418976,
        0.24367167055606842,
        0.3518102765083313,
        0.40451809763908386,
        0.2501688301563263,
        0.3608675003051758,
        0.3889636695384979,
        0.2382308691740036,
        0.34380969405174255,
        0.41795942187309265,
        0.2398480921983719,
        0.3465482294559479,
        0.4136037230491638,
        0.23193100094795227,
        0.3335455656051636,
        0.43452349305152893,
        0.22931089997291565,
        0.3292982280254364,
        0.44139087200164795,
        0.23786623775959015,
        0.34343278408050537,
        0.4187009930610657,
        0.22907929122447968,
        0.3286501169204712,
        0.44227057695388794,
        0.23234722018241882,
        0.3341291844844818,
        0.433523565530777,
        0.25148144364356995,
        0.3633260726928711,
        0.3851925730705261,
        0.2510296702384949,
        0.3614365756511688,
        0.3875337839126587,
        0.783108651638031,
        0.17217087745666504,
        0.04472050815820694,
        0.31144726276397705,
        0.3881600797176361,
        0.30039259791374207,
        0.2385776937007904,
        0.3445741832256317,
        0.4168481230735779,
        0.26555484533309937,
        0.3739818036556244,
        0.36046335101127625,
        0.23712487518787384,
        0.34218916296958923,
        0.42068588733673096,
        0.24020032584667206,
        0.34711602330207825,
        0.4126836359500885,
        0.2337758094072342,
        0.3367622494697571,
        0.4294619560241699,
        0.2332150936126709,
        0.33578920364379883,
        0.4309956431388855,
        0.23406991362571716,
        0.33724406361579895,
        0.42868608236312866,
        0.2571910321712494,
        0.3678911626338959,
        0.37491777539253235,
        0.23547674715518951,
        0.33941519260406494,
        0.42510804533958435,
        0.22683139145374298,
        0.3250913619995117,
        0.4480772912502289,
        0.23382113873958588,
        0.3366406261920929,
        0.4295383095741272,
        0.2375970482826233,
        0.34305471181869507,
        0.41934823989868164,
        0.34220847487449646,
        0.3915092945098877,
        0.26628223061561584,
        0.23629997670650482,
        0.34091347455978394,
        0.42278656363487244,
        0.22684110701084137,
        0.32504013180732727,
        0.44811874628067017,
        0.2330152541399002,
        0.3354538381099701,
        0.4315309226512909,
        0.2525072991847992,
        0.36285853385925293,
        0.3846341669559479,
        0.23063284158706665,
        0.33148086071014404,
        0.4378862977027893,
        0.2277131825685501,
        0.32657480239868164,
        0.44571200013160706,
        0.23863016068935394,
        0.3447013795375824,
        0.4166683852672577,
        0.23532114923000336,
        0.3390689492225647,
        0.42560991644859314,
        0.23341374099254608,
        0.3361710011959076,
        0.4304152727127075,
        0.24095992743968964,
        0.348276287317276,
        0.41076377034187317,
        0.22614729404449463,
        0.323830783367157,
        0.4500219523906708,
        0.2717839181423187,
        0.3758056163787842,
        0.35241055488586426,
        0.23589225113391876,
        0.3400551378726959,
        0.42405256628990173,
        0.23060499131679535,
        0.331350713968277,
        0.4380442500114441,
        0.24268582463264465,
        0.3508366346359253,
        0.40647754073143005,
        0.23873086273670197,
        0.3448903560638428,
        0.41637879610061646,
        0.23771478235721588,
        0.34320569038391113,
        0.419079452753067,
        0.23010648787021637,
        0.33062753081321716,
        0.43926599621772766,
        0.23758846521377563,
        0.3429241180419922,
        0.4194874167442322,
        0.24540360271930695,
        0.35464203357696533,
        0.39995434880256653,
        0.227777361869812,
        0.3267351984977722,
        0.44548743963241577,
        0.23776529729366302,
        0.3431777358055115,
        0.4190569221973419,
        0.2969345450401306,
        0.3696148693561554,
        0.33345064520835876,
        0.24521219730377197,
        0.353287935256958,
        0.40149986743927,
        0.23141229152679443,
        0.3328191637992859,
        0.43576857447624207,
        0.23803971707820892,
        0.343648761510849,
        0.41831153631210327,
        0.23360098898410797,
        0.33635351061820984,
        0.4300455152988434,
        0.2472689151763916,
        0.35760030150413513,
        0.3951307535171509,
        0.2382580190896988,
        0.3441285192966461,
        0.41761353611946106,
        0.2379462718963623,
        0.34357401728630066,
        0.41847971081733704,
        0.30215170979499817,
        0.38828572630882263,
        0.3095625936985016,
        0.24072781205177307,
        0.3479291498661041,
        0.4113430380821228,
        0.4755457639694214,
        0.3626822531223297,
        0.1617719978094101,
        0.228784441947937,
        0.32832810282707214,
        0.44288745522499084,
        0.247695192694664,
        0.35819777846336365,
        0.39410704374313354,
        0.23340348899364471,
        0.3360588550567627,
        0.4305376708507538,
        0.22860848903656006,
        0.32802507281303406,
        0.44336652755737305,
        0.23396597802639008,
        0.3368959426879883,
        0.42913809418678284,
        0.2308095097541809,
        0.3317555785179138,
        0.4374348819255829,
        0.22574517130851746,
        0.3229506015777588,
        0.45130419731140137,
        0.2339072823524475,
        0.3369974195957184,
        0.4290953576564789,
        0.25538143515586853,
        0.3651067018508911,
        0.37951189279556274,
        0.23370328545570374,
        0.33651110529899597,
        0.42978566884994507,
        0.22929851710796356,
        0.32920920848846436,
        0.4414922893047333,
        0.22573822736740112,
        0.3230368494987488,
        0.4512249827384949,
        0.2346617728471756,
        0.3381575345993042,
        0.4271806478500366,
        0.23065564036369324,
        0.33171120285987854,
        0.43763312697410583,
        0.2261311262845993,
        0.32358503341674805,
        0.45028379559516907,
        0.2308962196111679,
        0.33186808228492737,
        0.43723568320274353,
        0.23368479311466217,
        0.33657875657081604,
        0.429736465215683,
        0.24456898868083954,
        0.3527812063694,
        0.40264976024627686,
        0.23094503581523895,
        0.3320297300815582,
        0.4370253086090088,
        0.23489777743816376,
        0.3385292589664459,
        0.4265730381011963,
        0.24620091915130615,
        0.35598093271255493,
        0.3978181779384613,
        0.22905193269252777,
        0.32879215478897095,
        0.4421559274196625,
        0.23671561479568481,
        0.3414417803287506,
        0.42184263467788696,
        0.22901159524917603,
        0.3289431929588318,
        0.4420451521873474,
        0.2373141497373581,
        0.3425082266330719,
        0.4201776087284088,
        0.2504422962665558,
        0.36167076230049133,
        0.3878869414329529,
        0.23426644504070282,
        0.33750706911087036,
        0.4282264709472656,
        0.243167445063591,
        0.35130083560943604,
        0.40553173422813416,
        0.2450779527425766,
        0.35263559222221375,
        0.40228646993637085,
        0.24372917413711548,
        0.3519308567047119,
        0.4043399393558502,
        0.24471165239810944,
        0.353183776140213,
        0.40210458636283875,
        0.2423914521932602,
        0.3503868281841278,
        0.40722164511680603,
        0.23251669108867645,
        0.3346325159072876,
        0.43285077810287476,
        0.23318073153495789,
        0.33563232421875,
        0.4311869144439697,
        0.24212752282619476,
        0.3495284914970398,
        0.40834397077560425,
        0.2342107743024826,
        0.3373495936393738,
        0.4284396171569824,
        0.2289181798696518,
        0.3286167085170746,
        0.4424651265144348,
        0.2312171459197998,
        0.33234280347824097,
        0.4364401400089264,
        0.23529885709285736,
        0.33917632699012756,
        0.42552486062049866,
        0.23150916397571564,
        0.33285048604011536,
        0.4356403946876526,
        0.23389680683612823,
        0.3368125259876251,
        0.4292905926704407,
        0.6239951848983765,
        0.2790032923221588,
        0.0970015600323677,
        0.2324216216802597,
        0.3343903720378876,
        0.43318796157836914,
        0.23460091650485992,
        0.33817058801651,
        0.4272284209728241,
        0.23466509580612183,
        0.3381369113922119,
        0.42719802260398865,
        0.22959545254707336,
        0.3295089304447174,
        0.440895676612854,
        0.23300966620445251,
        0.33538684248924255,
        0.43160346150398254,
        0.23627975583076477,
        0.3406950533390045,
        0.42302513122558594,
        0.2318587750196457,
        0.3334527313709259,
        0.434688538312912,
        0.23958227038383484,
        0.3461630344390869,
        0.414254754781723,
        0.23059958219528198,
        0.33137181401252747,
        0.43802857398986816,
        0.23859164118766785,
        0.34466004371643066,
        0.41674837470054626,
        0.22895188629627228,
        0.32891330122947693,
        0.4421347677707672,
        0.22770601511001587,
        0.32663896679878235,
        0.4456550180912018,
        0.24011246860027313,
        0.3462762236595154,
        0.41361135244369507,
        0.23683665692806244,
        0.34174272418022156,
        0.4214206337928772,
        0.2618991732597351,
        0.3725582957267761,
        0.36554259061813354,
        0.22894959151744843,
        0.32857584953308105,
        0.44247451424598694,
        0.28511470556259155,
        0.379856139421463,
        0.33502912521362305,
        0.23604658246040344,
        0.34028494358062744,
        0.4236684739589691,
        0.2361205518245697,
        0.34046563506126404,
        0.42341384291648865,
        0.2330106943845749,
        0.3354598879814148,
        0.4315294623374939,
        0.23837126791477203,
        0.3442331850528717,
        0.4173955023288727,
        0.24967369437217712,
        0.3606099784374237,
        0.389716237783432,
        0.24337248504161835,
        0.35189691185951233,
        0.40473058819770813,
        0.23592175543308258,
        0.3402130901813507,
        0.4238651692867279,
        0.237651988863945,
        0.3430699110031128,
        0.41927802562713623,
        0.2341829538345337,
        0.3374972641468048,
        0.4283197820186615,
        0.22916556894779205,
        0.3290325105190277,
        0.44180193543434143,
        0.23446281254291534,
        0.33779728412628174,
        0.4277399182319641,
        0.23331613838672638,
        0.3358968496322632,
        0.43078696727752686,
        0.23793360590934753,
        0.3435213565826416,
        0.4185450077056885,
        0.23706389963626862,
        0.34216073155403137,
        0.4207753539085388,
        0.2294902354478836,
        0.32953545451164246,
        0.44097432494163513,
        0.23585771024227142,
        0.34010055661201477,
        0.4240416884422302,
        0.2501477301120758,
        0.36082059144973755,
        0.38903164863586426,
        0.38680630922317505,
        0.3890957832336426,
        0.22409792244434357,
        0.506022572517395,
        0.3381800353527069,
        0.15579742193222046,
        0.26931342482566833,
        0.37630927562713623,
        0.3543773293495178
       ]
      }
     },
     "metadata": {},
     "output_type": "display_data"
    },
    {
     "data": {
      "application/papermill.record+json": {
       "train_predictions": [
        0,
        0,
        0,
        0,
        0,
        0,
        0,
        0,
        0,
        0,
        0,
        0,
        0,
        0,
        0,
        0,
        0,
        0,
        0,
        0,
        0,
        0,
        0,
        0,
        0,
        0,
        0,
        0,
        0,
        0,
        0,
        0,
        0,
        0,
        0,
        0,
        0,
        0,
        0,
        0,
        0,
        0,
        0,
        0,
        0,
        0,
        0,
        0,
        0,
        0,
        0,
        0,
        0,
        0,
        0,
        0,
        0,
        0,
        0,
        0,
        0,
        0,
        0,
        0,
        0,
        0,
        0,
        0,
        0,
        0,
        0,
        0,
        0,
        0,
        0,
        1,
        0,
        0,
        0,
        0,
        0,
        0,
        0,
        0,
        0,
        0,
        0,
        0,
        0,
        0,
        0,
        0,
        0,
        0,
        0,
        0,
        0,
        0,
        0,
        0,
        0,
        0,
        0,
        0,
        0,
        0,
        0,
        0,
        0,
        0,
        0,
        0,
        0,
        0,
        0,
        0,
        0,
        0,
        0,
        0,
        0,
        0,
        0,
        0,
        0,
        0,
        0,
        0,
        0,
        0,
        0,
        0,
        0,
        0,
        0,
        0,
        0,
        0,
        0,
        0,
        0,
        0,
        0,
        0,
        0,
        0,
        0,
        0,
        0,
        0,
        0,
        0,
        0,
        0,
        0,
        0,
        0,
        0,
        0,
        1,
        0,
        0,
        0,
        0,
        0,
        0,
        0,
        0,
        0,
        0,
        0,
        0,
        0,
        0,
        0,
        0,
        0,
        0,
        0,
        0,
        0,
        0,
        0,
        0,
        0,
        0,
        0,
        0,
        0,
        0,
        0,
        0,
        0,
        0,
        0,
        0,
        0,
        0,
        0,
        0,
        0,
        0,
        0,
        0,
        0,
        0,
        0,
        0,
        0,
        0,
        0,
        0,
        0,
        0,
        0,
        0,
        0,
        0,
        0,
        0,
        0,
        0,
        0,
        0,
        0,
        0,
        0,
        0,
        0,
        0,
        0,
        0,
        0,
        0,
        0,
        0,
        0,
        0,
        0,
        0,
        0,
        0,
        0,
        0,
        0,
        0,
        0,
        0,
        0,
        0,
        0,
        0,
        0,
        0,
        0,
        1,
        0,
        0,
        0,
        0,
        0,
        0,
        0,
        0,
        0,
        0,
        0,
        0,
        0,
        0,
        0,
        0,
        0,
        0,
        0,
        0,
        0,
        0,
        0,
        0,
        0,
        0,
        0,
        0,
        0,
        0,
        0,
        0,
        0,
        0,
        0,
        0,
        0,
        0,
        0,
        0,
        0,
        0,
        0,
        0,
        0,
        0,
        0,
        0,
        0,
        0,
        1,
        0,
        0,
        0,
        0,
        0,
        0,
        0,
        0,
        0,
        0,
        0,
        0,
        0,
        0,
        0,
        0,
        0,
        0,
        0,
        0,
        0,
        0,
        0,
        0,
        0,
        0,
        0,
        0,
        0,
        0,
        0,
        0,
        0,
        0,
        0,
        0,
        0,
        0,
        0,
        0,
        0,
        0,
        0,
        0,
        0,
        0,
        0,
        0,
        0,
        0,
        0,
        0,
        0,
        0,
        0,
        0,
        0,
        0,
        0,
        0,
        0,
        0,
        1,
        0,
        0,
        0,
        0,
        0,
        0,
        0,
        0,
        0,
        0,
        0,
        0,
        0,
        0,
        0,
        0,
        0,
        0,
        0,
        0,
        0,
        0,
        0,
        0,
        0,
        0,
        0,
        0,
        0,
        0,
        0,
        0,
        0,
        0,
        0,
        0,
        0,
        0,
        0,
        0,
        0,
        0,
        0,
        0,
        0,
        0,
        0,
        0,
        0,
        0,
        0,
        0,
        0,
        0,
        0,
        0,
        0,
        0,
        0,
        0,
        0,
        0,
        0,
        0,
        0,
        0,
        0,
        0,
        0,
        0,
        0,
        0,
        0,
        0,
        0,
        0,
        0,
        0,
        0,
        0,
        0,
        0,
        0,
        0,
        0,
        0,
        0,
        0,
        0,
        0,
        0,
        0,
        0,
        0,
        0,
        0,
        0,
        0,
        0,
        0,
        0,
        0,
        0,
        0,
        0,
        0,
        0,
        0,
        0,
        0,
        0,
        0,
        0,
        0,
        0,
        0,
        0,
        0,
        0,
        0,
        0,
        0,
        0,
        0,
        0,
        0,
        0,
        0,
        0,
        0,
        0,
        0,
        0,
        0,
        0,
        0,
        0,
        0,
        0,
        0,
        0,
        0,
        0,
        0,
        0,
        0,
        0,
        0,
        0,
        0,
        0,
        0,
        0,
        0,
        0,
        0,
        0,
        0,
        0,
        0,
        0,
        0,
        0,
        0,
        0,
        0,
        0,
        0,
        0,
        0,
        0,
        0,
        0,
        0,
        0,
        0,
        0,
        0,
        0,
        0,
        0,
        0,
        0,
        0,
        0,
        0,
        0,
        0,
        0,
        0,
        0,
        0,
        0,
        0,
        0,
        0,
        0,
        0,
        0,
        0,
        0,
        0,
        0,
        0,
        0,
        0,
        0,
        0,
        0,
        0,
        0,
        0,
        0,
        0,
        0,
        0,
        0,
        0,
        0,
        0,
        0,
        0,
        0,
        0,
        0,
        0,
        0,
        0,
        0,
        0,
        0,
        0,
        0,
        0,
        0,
        0,
        0,
        0,
        0,
        0,
        0,
        0,
        0,
        0,
        0,
        0,
        0,
        0,
        0,
        0,
        0,
        0,
        0,
        0,
        0,
        0,
        0,
        1,
        0,
        0,
        0,
        0,
        0,
        0,
        0,
        0,
        0,
        0,
        0,
        0,
        0,
        0,
        0,
        0,
        0,
        0,
        0,
        0,
        0,
        0,
        0,
        0,
        0,
        0,
        0,
        0,
        0,
        0,
        0,
        0,
        0,
        0,
        0,
        1,
        0,
        0,
        0,
        0,
        0,
        0,
        0,
        0,
        0,
        0,
        0,
        0,
        0,
        0,
        0,
        0,
        0,
        0,
        0,
        0,
        0,
        0,
        0,
        0,
        0,
        0,
        0,
        0,
        0,
        0,
        0,
        0,
        0,
        0,
        0,
        0,
        0,
        0,
        0,
        0,
        0,
        0,
        0,
        0,
        0,
        0,
        0,
        0,
        0,
        0,
        0,
        0,
        0,
        0,
        0,
        0,
        0,
        0,
        0,
        0,
        0,
        0,
        0,
        0,
        0,
        0,
        0,
        0,
        0,
        0,
        0,
        0,
        0,
        0,
        0,
        0,
        0,
        0,
        0,
        0,
        0,
        0,
        0,
        0,
        0,
        0,
        0,
        0,
        0,
        0,
        0,
        0,
        0,
        0,
        0,
        0,
        0,
        0,
        0,
        0,
        0,
        0,
        0,
        0,
        0,
        0,
        0,
        0,
        0,
        0,
        0,
        0,
        0,
        0,
        0,
        0,
        0,
        0,
        0,
        0,
        0,
        0,
        0,
        0,
        0,
        0,
        0,
        0,
        0,
        0,
        0,
        0,
        0,
        0,
        0,
        0,
        0,
        0,
        0,
        0,
        0,
        0,
        0,
        0,
        0,
        0,
        0,
        0,
        0,
        0,
        0,
        0,
        0,
        0,
        0,
        0,
        0,
        0,
        0,
        0,
        0,
        0,
        0,
        0,
        0,
        0,
        0,
        0,
        0,
        0,
        0,
        0,
        0,
        0,
        0,
        0,
        0,
        0,
        0,
        0,
        0,
        0,
        0,
        0,
        0,
        0,
        0,
        0,
        0,
        0,
        0,
        0,
        0,
        0,
        0,
        0,
        0,
        0,
        0,
        0,
        0,
        0,
        0,
        0,
        0,
        0,
        0,
        0,
        0,
        0,
        0,
        0,
        0,
        0,
        0,
        0,
        0,
        0,
        0,
        0,
        0,
        0,
        0,
        0,
        0,
        0,
        0,
        0,
        0,
        0,
        0,
        0,
        0,
        0,
        0,
        0,
        0,
        0,
        0,
        0,
        0,
        0,
        0,
        0,
        0,
        0,
        0,
        0,
        0,
        0,
        0,
        0,
        0,
        0,
        0,
        0,
        0,
        0,
        0,
        0,
        0,
        0,
        0,
        0,
        0,
        0,
        0,
        0,
        0,
        0,
        0,
        0,
        0,
        0,
        0,
        0,
        0,
        0,
        0,
        0,
        0,
        0,
        0,
        0,
        0,
        0,
        0,
        0,
        0,
        0,
        0,
        0,
        0,
        0,
        0,
        0,
        0,
        0,
        0,
        0,
        0,
        0,
        0,
        0,
        0,
        0,
        0,
        0,
        0,
        0,
        0,
        0,
        0,
        0,
        0,
        0,
        0,
        0,
        0,
        0,
        0,
        0,
        0,
        0,
        0,
        0,
        0,
        0,
        0,
        0,
        0,
        0,
        0,
        0,
        0,
        0,
        0,
        0,
        0,
        0,
        0,
        0,
        0,
        0,
        0,
        0,
        0,
        0,
        0,
        0,
        0,
        0,
        0,
        0,
        0,
        0,
        0,
        0,
        0,
        0,
        0,
        0,
        0,
        0,
        0,
        0,
        0,
        0,
        0,
        0,
        0,
        0,
        0,
        0,
        0,
        0,
        0,
        0,
        0,
        0,
        0,
        0,
        0,
        0,
        0,
        0,
        0,
        0,
        0,
        0,
        0,
        0,
        0,
        0,
        0,
        0,
        0,
        0,
        0,
        0,
        0,
        0,
        0,
        0,
        0,
        0,
        0,
        0,
        0,
        0,
        0,
        0,
        0,
        0,
        0,
        0,
        0,
        0,
        0,
        0,
        0,
        0,
        0,
        0,
        0,
        0,
        0,
        0,
        0,
        0,
        0,
        0,
        0,
        0,
        0,
        0,
        0,
        0,
        0,
        0,
        0,
        0,
        0,
        0,
        0,
        0,
        0,
        0,
        0,
        0,
        0,
        0,
        0,
        0,
        0,
        0,
        0,
        0,
        0,
        0,
        0,
        0,
        0,
        0,
        0,
        0,
        0,
        0,
        0,
        0,
        0,
        0,
        0,
        0,
        0,
        0,
        0,
        0,
        0,
        0,
        0,
        0,
        0,
        0,
        0,
        0,
        0,
        0,
        0,
        0,
        0,
        0,
        0,
        0,
        0,
        0,
        0,
        0,
        0,
        0,
        0,
        0,
        0,
        0,
        0,
        0,
        0,
        0,
        0,
        0,
        0,
        0,
        0,
        0,
        0,
        0,
        0,
        0,
        0,
        0,
        0,
        0,
        0,
        0,
        0,
        0,
        0,
        1,
        0,
        0,
        0,
        0,
        0,
        0,
        0,
        0,
        0,
        0,
        0,
        0,
        0,
        0,
        0,
        0,
        0,
        0,
        0,
        0,
        0,
        0,
        0,
        0,
        0,
        0,
        0,
        0,
        0,
        0,
        0,
        0,
        0,
        0,
        0,
        0,
        0,
        0,
        0,
        0,
        0,
        0,
        0,
        0,
        0,
        0,
        0,
        0,
        0,
        0,
        0,
        0,
        0,
        0,
        0,
        0,
        0,
        0,
        0,
        0,
        0,
        0,
        0,
        0,
        0,
        0,
        0,
        0,
        0,
        0,
        0,
        0,
        0,
        0,
        0,
        0,
        0,
        1,
        0,
        0,
        0,
        0,
        0,
        0,
        0,
        0,
        0,
        0,
        0,
        1,
        0,
        0,
        0,
        0,
        0,
        0,
        0,
        0,
        0,
        0,
        0,
        0,
        0,
        0,
        0,
        0,
        0,
        0,
        0,
        0,
        0,
        0,
        0,
        0,
        0,
        0,
        0,
        0,
        0,
        0,
        0,
        0,
        0,
        0,
        0,
        1,
        0,
        0,
        0,
        0,
        0,
        0,
        0,
        0,
        0,
        0,
        0,
        0,
        0,
        0,
        0,
        0,
        0,
        0,
        0,
        0,
        0,
        0,
        0,
        0,
        0,
        0,
        0,
        0,
        0,
        0,
        0,
        0,
        0,
        0,
        0,
        0,
        0,
        0,
        0,
        0,
        0,
        0,
        0,
        0,
        0,
        0,
        0,
        0,
        0,
        0,
        0,
        0,
        0,
        0,
        0,
        0,
        0,
        0,
        0,
        0,
        0,
        0,
        0,
        0,
        0,
        0,
        0,
        0,
        0,
        0,
        0,
        0,
        0,
        0,
        0,
        0,
        0,
        0,
        0,
        0,
        0,
        0,
        0,
        0,
        0,
        0,
        0,
        0,
        0,
        0,
        0,
        0,
        0,
        0,
        0,
        0,
        0,
        0,
        0,
        0,
        0,
        0,
        0,
        0,
        0,
        0,
        0,
        0,
        0,
        0,
        0,
        0,
        0,
        0,
        0,
        0,
        0,
        0,
        0,
        0,
        0,
        0,
        0,
        0,
        0,
        0,
        0,
        0,
        0,
        0,
        0,
        0,
        0,
        0,
        0,
        0,
        0,
        0,
        0,
        0,
        0,
        0,
        0,
        0,
        0,
        0,
        0,
        0,
        0,
        0,
        0,
        0,
        0,
        0,
        0,
        0,
        0,
        0,
        0,
        0,
        0,
        0,
        0,
        0,
        0,
        0,
        0,
        0,
        0,
        0,
        0,
        0,
        0,
        0,
        0,
        0,
        0,
        0,
        0,
        0,
        0,
        0,
        0,
        0,
        0,
        0,
        0,
        0,
        0,
        0,
        0,
        0,
        0,
        0,
        0,
        0,
        0,
        0,
        0,
        0,
        0,
        0,
        0,
        0,
        0,
        0,
        0,
        0,
        0,
        0,
        0,
        0,
        0,
        0,
        0,
        0,
        0,
        0,
        0,
        0,
        0,
        0,
        0,
        0,
        0,
        0,
        0,
        0,
        0,
        0,
        0,
        0,
        0,
        0,
        0,
        0,
        0,
        0,
        0,
        0,
        0,
        0,
        0,
        0,
        0,
        0,
        0,
        0,
        0,
        0,
        0,
        0,
        0,
        0,
        0,
        0,
        0,
        0,
        0,
        0,
        0,
        0,
        0,
        0,
        0,
        0,
        1,
        0,
        0,
        0,
        0,
        0,
        0,
        0,
        0,
        0,
        0,
        0,
        0,
        0,
        0,
        0,
        0,
        0,
        0,
        0,
        0,
        0,
        0,
        0,
        0,
        0,
        0,
        0,
        0,
        0,
        0,
        0,
        0,
        0,
        0,
        0,
        0,
        0,
        0,
        0,
        0,
        0,
        0,
        0,
        0,
        0,
        0,
        0,
        0,
        0,
        0,
        0,
        0,
        0,
        0,
        0,
        0,
        0,
        0,
        0,
        0,
        0,
        0,
        0,
        0,
        0,
        0,
        0,
        0,
        0,
        0,
        0,
        0,
        0,
        0,
        0,
        0,
        0,
        0,
        0,
        0,
        0,
        0,
        0,
        0,
        0,
        0,
        0,
        0,
        0,
        0,
        0,
        0,
        0,
        0,
        0,
        0,
        0,
        0,
        0,
        0,
        0,
        0,
        0,
        0,
        0,
        0,
        0,
        1,
        0,
        0,
        0,
        0,
        0
       ]
      }
     },
     "metadata": {},
     "output_type": "display_data"
    }
   ],
   "source": [
    "probabilities = transform_binary_probabilities(results)\n",
    "predictions = transform_binary_predictions(results)\n",
    "labels = get_labels(train)\n",
    "pm.record(\"train_labels\", list(labels))\n",
    "pm.record(\"train_probabilities\", list(probabilities))\n",
    "pm.record(\"train_predictions\", list(predictions))"
   ]
  },
  {
   "cell_type": "markdown",
   "metadata": {
    "papermill": {
     "duration": 4.3e-05,
     "end_time": "2020-04-28T23:49:06.186439",
     "exception": false,
     "start_time": "2020-04-28T23:49:06.186396",
     "status": "completed"
    },
    "tags": []
   },
   "source": [
    "## Train statistics"
   ]
  },
  {
   "cell_type": "code",
   "execution_count": 18,
   "metadata": {
    "papermill": {
     "duration": 18.158904,
     "end_time": "2020-04-28T23:49:24.646444",
     "exception": true,
     "start_time": "2020-04-28T23:49:06.487540",
     "status": "completed"
    },
    "tags": []
   },
   "outputs": [
    {
     "name": "stdout",
     "output_type": "stream",
     "text": [
      "Accuracy: 0.48233217000961304\n",
      "Loss: 28.11128044128418\n"
     ]
    },
    {
     "ename": "ValueError",
     "evalue": "Found input variables with inconsistent numbers of samples: [566, 1698]",
     "output_type": "error",
     "traceback": [
      "\u001b[0;31m--------------------------------------------------------------------------\u001b[0m",
      "\u001b[0;31mValueError\u001b[0m                               Traceback (most recent call last)",
      "\u001b[0;32m<ipython-input-18-405ed729e671>\u001b[0m in \u001b[0;36m<module>\u001b[0;34m\u001b[0m\n\u001b[1;32m      2\u001b[0m \u001b[0mprint\u001b[0m\u001b[0;34m(\u001b[0m\u001b[0;34m\"Accuracy:\"\u001b[0m\u001b[0;34m,\u001b[0m \u001b[0maccuracy\u001b[0m\u001b[0;34m)\u001b[0m\u001b[0;34m\u001b[0m\u001b[0m\n\u001b[1;32m      3\u001b[0m \u001b[0mprint\u001b[0m\u001b[0;34m(\u001b[0m\u001b[0;34m\"Loss:\"\u001b[0m\u001b[0;34m,\u001b[0m \u001b[0mloss\u001b[0m\u001b[0;34m)\u001b[0m\u001b[0;34m\u001b[0m\u001b[0m\n\u001b[0;32m----> 4\u001b[0;31m \u001b[0mstats\u001b[0m \u001b[0;34m=\u001b[0m \u001b[0mcalculate_confusion_matrix_stats\u001b[0m\u001b[0;34m(\u001b[0m\u001b[0mlabels\u001b[0m\u001b[0;34m,\u001b[0m \u001b[0mresults\u001b[0m\u001b[0;34m)\u001b[0m\u001b[0;34m\u001b[0m\u001b[0m\n\u001b[0m\u001b[1;32m      5\u001b[0m \u001b[0mpandas\u001b[0m\u001b[0;34m.\u001b[0m\u001b[0mDataFrame\u001b[0m\u001b[0;34m(\u001b[0m\u001b[0mstats\u001b[0m\u001b[0;34m,\u001b[0m \u001b[0mindex\u001b[0m\u001b[0;34m=\u001b[0m\u001b[0mtrain\u001b[0m\u001b[0;34m.\u001b[0m\u001b[0mclass_indices\u001b[0m\u001b[0;34m)\u001b[0m\u001b[0;34m\u001b[0m\u001b[0m\n",
      "\u001b[0;32m~/Documents/Bone-MRI/evaluate.py\u001b[0m in \u001b[0;36mcalculate_confusion_matrix_stats\u001b[0;34m(labels, results)\u001b[0m\n\u001b[1;32m     72\u001b[0m \u001b[0;34m\u001b[0m\u001b[0m\n\u001b[1;32m     73\u001b[0m \u001b[0;32mdef\u001b[0m \u001b[0mcalculate_confusion_matrix_stats\u001b[0m\u001b[0;34m(\u001b[0m\u001b[0mlabels\u001b[0m\u001b[0;34m,\u001b[0m \u001b[0mresults\u001b[0m\u001b[0;34m)\u001b[0m\u001b[0;34m:\u001b[0m\u001b[0;34m\u001b[0m\u001b[0m\n\u001b[0;32m---> 74\u001b[0;31m     \u001b[0mconfusion_matrix\u001b[0m \u001b[0;34m=\u001b[0m \u001b[0mcalculate_confusion_matrix\u001b[0m\u001b[0;34m(\u001b[0m\u001b[0mlabels\u001b[0m\u001b[0;34m,\u001b[0m \u001b[0mresults\u001b[0m\u001b[0;34m)\u001b[0m\u001b[0;34m\u001b[0m\u001b[0m\n\u001b[0m\u001b[1;32m     75\u001b[0m     \u001b[0mFP\u001b[0m \u001b[0;34m=\u001b[0m \u001b[0mconfusion_matrix\u001b[0m\u001b[0;34m.\u001b[0m\u001b[0msum\u001b[0m\u001b[0;34m(\u001b[0m\u001b[0maxis\u001b[0m\u001b[0;34m=\u001b[0m\u001b[0;36m0\u001b[0m\u001b[0;34m)\u001b[0m \u001b[0;34m-\u001b[0m \u001b[0mnp\u001b[0m\u001b[0;34m.\u001b[0m\u001b[0mdiag\u001b[0m\u001b[0;34m(\u001b[0m\u001b[0mconfusion_matrix\u001b[0m\u001b[0;34m)\u001b[0m\u001b[0;34m\u001b[0m\u001b[0m\n\u001b[1;32m     76\u001b[0m     \u001b[0mFN\u001b[0m \u001b[0;34m=\u001b[0m \u001b[0mconfusion_matrix\u001b[0m\u001b[0;34m.\u001b[0m\u001b[0msum\u001b[0m\u001b[0;34m(\u001b[0m\u001b[0maxis\u001b[0m\u001b[0;34m=\u001b[0m\u001b[0;36m1\u001b[0m\u001b[0;34m)\u001b[0m \u001b[0;34m-\u001b[0m \u001b[0mnp\u001b[0m\u001b[0;34m.\u001b[0m\u001b[0mdiag\u001b[0m\u001b[0;34m(\u001b[0m\u001b[0mconfusion_matrix\u001b[0m\u001b[0;34m)\u001b[0m\u001b[0;34m\u001b[0m\u001b[0m\n",
      "\u001b[0;32m~/Documents/Bone-MRI/evaluate.py\u001b[0m in \u001b[0;36mcalculate_confusion_matrix\u001b[0;34m(labels, results)\u001b[0m\n\u001b[1;32m     69\u001b[0m     \"\"\"\n\u001b[1;32m     70\u001b[0m     \u001b[0mpredictions\u001b[0m \u001b[0;34m=\u001b[0m \u001b[0mtransform_binary_predictions\u001b[0m\u001b[0;34m(\u001b[0m\u001b[0mresults\u001b[0m\u001b[0;34m)\u001b[0m\u001b[0;34m\u001b[0m\u001b[0m\n\u001b[0;32m---> 71\u001b[0;31m     \u001b[0;32mreturn\u001b[0m \u001b[0mconfusion_matrix\u001b[0m\u001b[0;34m(\u001b[0m\u001b[0mlabels\u001b[0m\u001b[0;34m,\u001b[0m \u001b[0mpredictions\u001b[0m\u001b[0;34m)\u001b[0m\u001b[0;34m\u001b[0m\u001b[0m\n\u001b[0m\u001b[1;32m     72\u001b[0m \u001b[0;34m\u001b[0m\u001b[0m\n\u001b[1;32m     73\u001b[0m \u001b[0;32mdef\u001b[0m \u001b[0mcalculate_confusion_matrix_stats\u001b[0m\u001b[0;34m(\u001b[0m\u001b[0mlabels\u001b[0m\u001b[0;34m,\u001b[0m \u001b[0mresults\u001b[0m\u001b[0;34m)\u001b[0m\u001b[0;34m:\u001b[0m\u001b[0;34m\u001b[0m\u001b[0m\n",
      "\u001b[0;32m~/.local/share/virtualenvs/Bone-MRI-iLizu8rs/lib/python3.6/site-packages/sklearn/metrics/_classification.py\u001b[0m in \u001b[0;36mconfusion_matrix\u001b[0;34m(y_true, y_pred, labels, sample_weight, normalize)\u001b[0m\n\u001b[1;32m    266\u001b[0m \u001b[0;34m\u001b[0m\u001b[0m\n\u001b[1;32m    267\u001b[0m     \"\"\"\n\u001b[0;32m--> 268\u001b[0;31m     \u001b[0my_type\u001b[0m\u001b[0;34m,\u001b[0m \u001b[0my_true\u001b[0m\u001b[0;34m,\u001b[0m \u001b[0my_pred\u001b[0m \u001b[0;34m=\u001b[0m \u001b[0m_check_targets\u001b[0m\u001b[0;34m(\u001b[0m\u001b[0my_true\u001b[0m\u001b[0;34m,\u001b[0m \u001b[0my_pred\u001b[0m\u001b[0;34m)\u001b[0m\u001b[0;34m\u001b[0m\u001b[0m\n\u001b[0m\u001b[1;32m    269\u001b[0m     \u001b[0;32mif\u001b[0m \u001b[0my_type\u001b[0m \u001b[0;32mnot\u001b[0m \u001b[0;32min\u001b[0m \u001b[0;34m(\u001b[0m\u001b[0;34m\"binary\"\u001b[0m\u001b[0;34m,\u001b[0m \u001b[0;34m\"multiclass\"\u001b[0m\u001b[0;34m)\u001b[0m\u001b[0;34m:\u001b[0m\u001b[0;34m\u001b[0m\u001b[0m\n\u001b[1;32m    270\u001b[0m         \u001b[0;32mraise\u001b[0m \u001b[0mValueError\u001b[0m\u001b[0;34m(\u001b[0m\u001b[0;34m\"%s is not supported\"\u001b[0m \u001b[0;34m%\u001b[0m \u001b[0my_type\u001b[0m\u001b[0;34m)\u001b[0m\u001b[0;34m\u001b[0m\u001b[0m\n",
      "\u001b[0;32m~/.local/share/virtualenvs/Bone-MRI-iLizu8rs/lib/python3.6/site-packages/sklearn/metrics/_classification.py\u001b[0m in \u001b[0;36m_check_targets\u001b[0;34m(y_true, y_pred)\u001b[0m\n\u001b[1;32m     78\u001b[0m     \u001b[0my_pred\u001b[0m \u001b[0;34m:\u001b[0m \u001b[0marray\u001b[0m \u001b[0;32mor\u001b[0m \u001b[0mindicator\u001b[0m \u001b[0mmatrix\u001b[0m\u001b[0;34m\u001b[0m\u001b[0m\n\u001b[1;32m     79\u001b[0m     \"\"\"\n\u001b[0;32m---> 80\u001b[0;31m     \u001b[0mcheck_consistent_length\u001b[0m\u001b[0;34m(\u001b[0m\u001b[0my_true\u001b[0m\u001b[0;34m,\u001b[0m \u001b[0my_pred\u001b[0m\u001b[0;34m)\u001b[0m\u001b[0;34m\u001b[0m\u001b[0m\n\u001b[0m\u001b[1;32m     81\u001b[0m     \u001b[0mtype_true\u001b[0m \u001b[0;34m=\u001b[0m \u001b[0mtype_of_target\u001b[0m\u001b[0;34m(\u001b[0m\u001b[0my_true\u001b[0m\u001b[0;34m)\u001b[0m\u001b[0;34m\u001b[0m\u001b[0m\n\u001b[1;32m     82\u001b[0m     \u001b[0mtype_pred\u001b[0m \u001b[0;34m=\u001b[0m \u001b[0mtype_of_target\u001b[0m\u001b[0;34m(\u001b[0m\u001b[0my_pred\u001b[0m\u001b[0;34m)\u001b[0m\u001b[0;34m\u001b[0m\u001b[0m\n",
      "\u001b[0;32m~/.local/share/virtualenvs/Bone-MRI-iLizu8rs/lib/python3.6/site-packages/sklearn/utils/validation.py\u001b[0m in \u001b[0;36mcheck_consistent_length\u001b[0;34m(*arrays)\u001b[0m\n\u001b[1;32m    210\u001b[0m     \u001b[0;32mif\u001b[0m \u001b[0mlen\u001b[0m\u001b[0;34m(\u001b[0m\u001b[0muniques\u001b[0m\u001b[0;34m)\u001b[0m \u001b[0;34m>\u001b[0m \u001b[0;36m1\u001b[0m\u001b[0;34m:\u001b[0m\u001b[0;34m\u001b[0m\u001b[0m\n\u001b[1;32m    211\u001b[0m         raise ValueError(\"Found input variables with inconsistent numbers of\"\n\u001b[0;32m--> 212\u001b[0;31m                          \" samples: %r\" % [int(l) for l in lengths])\n\u001b[0m\u001b[1;32m    213\u001b[0m \u001b[0;34m\u001b[0m\u001b[0m\n\u001b[1;32m    214\u001b[0m \u001b[0;34m\u001b[0m\u001b[0m\n",
      "\u001b[0;31mValueError\u001b[0m: Found input variables with inconsistent numbers of samples: [566, 1698]"
     ]
    }
   ],
   "source": [
    "loss, accuracy = calculate_accuracy_loss(model, train)\n",
    "print(\"Accuracy:\", accuracy)\n",
    "print(\"Loss:\", loss)\n",
    "stats = calculate_confusion_matrix_stats(labels, results)\n",
    "pandas.DataFrame(stats, index=train.class_indices)"
   ]
  },
  {
   "cell_type": "markdown",
   "metadata": {
    "papermill": {
     "duration": null,
     "end_time": null,
     "exception": null,
     "start_time": null,
     "status": "pending"
    },
    "tags": []
   },
   "source": [
    "## Train confusion matrix"
   ]
  },
  {
   "cell_type": "code",
   "execution_count": null,
   "metadata": {
    "papermill": {
     "duration": null,
     "end_time": null,
     "exception": null,
     "start_time": null,
     "status": "pending"
    },
    "tags": []
   },
   "outputs": [],
   "source": [
    "fig = plot_confusion_matrix(train, results)\n",
    "fig.savefig(\"figures/{}-{}-train-confusion-matrix.svg\".format(result.uuid, result.input_form), bbox_inches = \"tight\")"
   ]
  },
  {
   "cell_type": "markdown",
   "metadata": {
    "papermill": {
     "duration": null,
     "end_time": null,
     "exception": null,
     "start_time": null,
     "status": "pending"
    },
    "tags": []
   },
   "source": [
    "## Train ROC curve"
   ]
  },
  {
   "cell_type": "code",
   "execution_count": null,
   "metadata": {
    "papermill": {
     "duration": null,
     "end_time": null,
     "exception": null,
     "start_time": null,
     "status": "pending"
    },
    "scrolled": false,
    "tags": []
   },
   "outputs": [],
   "source": [
    "fig = plot_roc_curve(labels, probabilities)\n",
    "fig.savefig(\"figures/{}-{}-train-ROC-curve.svg\".format(result.uuid, result.input_form), bbox_inches = \"tight\")"
   ]
  },
  {
   "cell_type": "markdown",
   "metadata": {
    "papermill": {
     "duration": null,
     "end_time": null,
     "exception": null,
     "start_time": null,
     "status": "pending"
    },
    "tags": []
   },
   "source": [
    "## Train precision-recall curve"
   ]
  },
  {
   "cell_type": "code",
   "execution_count": null,
   "metadata": {
    "papermill": {
     "duration": null,
     "end_time": null,
     "exception": null,
     "start_time": null,
     "status": "pending"
    },
    "scrolled": false,
    "tags": []
   },
   "outputs": [],
   "source": [
    "fig = plot_precision_recall(labels, results)\n",
    "fig.savefig(\"figures/{}-{}-train-precisionrecall-curve.svg\".format(result.uuid, result.input_form), bbox_inches = \"tight\")"
   ]
  },
  {
   "cell_type": "markdown",
   "metadata": {
    "papermill": {
     "duration": null,
     "end_time": null,
     "exception": null,
     "start_time": null,
     "status": "pending"
    },
    "tags": []
   },
   "source": [
    "# Validation"
   ]
  },
  {
   "cell_type": "code",
   "execution_count": null,
   "metadata": {
    "collapsed": true,
    "papermill": {
     "duration": null,
     "end_time": null,
     "exception": null,
     "start_time": null,
     "status": "pending"
    },
    "tags": []
   },
   "outputs": [],
   "source": [
    "results = get_results(model, validation)"
   ]
  },
  {
   "cell_type": "code",
   "execution_count": null,
   "metadata": {
    "papermill": {
     "duration": null,
     "end_time": null,
     "exception": null,
     "start_time": null,
     "status": "pending"
    },
    "scrolled": false,
    "tags": []
   },
   "outputs": [],
   "source": [
    "probabilities = transform_binary_probabilities(results)\n",
    "predictions = transform_binary_predictions(results)\n",
    "labels = get_labels(validation)\n",
    "pm.record(\"validation_labels\", list(labels))\n",
    "pm.record(\"validation_probabilities\", list(probabilities))\n",
    "pm.record(\"validation_predictions\", list(predictions))"
   ]
  },
  {
   "cell_type": "markdown",
   "metadata": {
    "papermill": {
     "duration": null,
     "end_time": null,
     "exception": null,
     "start_time": null,
     "status": "pending"
    },
    "tags": []
   },
   "source": [
    "## Validation statistics"
   ]
  },
  {
   "cell_type": "code",
   "execution_count": null,
   "metadata": {
    "papermill": {
     "duration": null,
     "end_time": null,
     "exception": null,
     "start_time": null,
     "status": "pending"
    },
    "tags": []
   },
   "outputs": [],
   "source": [
    "loss, accuracy = calculate_accuracy_loss(model, validation)\n",
    "print(\"Accuracy:\", accuracy)\n",
    "print(\"Loss:\", loss)\n",
    "stats = calculate_confusion_matrix_stats(labels, results)\n",
    "pandas.DataFrame(stats, index=validation.class_indices)"
   ]
  },
  {
   "cell_type": "markdown",
   "metadata": {
    "papermill": {
     "duration": null,
     "end_time": null,
     "exception": null,
     "start_time": null,
     "status": "pending"
    },
    "tags": []
   },
   "source": [
    "## Validation confusion matrix"
   ]
  },
  {
   "cell_type": "code",
   "execution_count": null,
   "metadata": {
    "papermill": {
     "duration": null,
     "end_time": null,
     "exception": null,
     "start_time": null,
     "status": "pending"
    },
    "tags": []
   },
   "outputs": [],
   "source": [
    "fig = plot_confusion_matrix(validation, results)\n",
    "fig.savefig(\"figures/{}-{}-validation-confusion-matrix.svg\".format(result.uuid, result.input_form), bbox_inches = \"tight\")"
   ]
  },
  {
   "cell_type": "markdown",
   "metadata": {
    "papermill": {
     "duration": null,
     "end_time": null,
     "exception": null,
     "start_time": null,
     "status": "pending"
    },
    "tags": []
   },
   "source": [
    "## Validation ROC curve"
   ]
  },
  {
   "cell_type": "code",
   "execution_count": null,
   "metadata": {
    "papermill": {
     "duration": null,
     "end_time": null,
     "exception": null,
     "start_time": null,
     "status": "pending"
    },
    "scrolled": true,
    "tags": []
   },
   "outputs": [],
   "source": [
    "fig = plot_roc_curve(labels, probabilities)\n",
    "fig.savefig(\"figures/{}-{}-validation-ROC-curve.svg\".format(result.uuid, result.input_form), bbox_inches = \"tight\")"
   ]
  },
  {
   "cell_type": "markdown",
   "metadata": {
    "papermill": {
     "duration": null,
     "end_time": null,
     "exception": null,
     "start_time": null,
     "status": "pending"
    },
    "tags": []
   },
   "source": [
    "## Validation precision-recall curve"
   ]
  },
  {
   "cell_type": "code",
   "execution_count": null,
   "metadata": {
    "papermill": {
     "duration": null,
     "end_time": null,
     "exception": null,
     "start_time": null,
     "status": "pending"
    },
    "tags": []
   },
   "outputs": [],
   "source": [
    "fig = plot_precision_recall(labels, results)\n",
    "fig.savefig(\"figures/{}-{}-validation-precisionrecall-curve.svg\".format(result.uuid, result.input_form), bbox_inches = \"tight\")"
   ]
  },
  {
   "cell_type": "markdown",
   "metadata": {
    "papermill": {
     "duration": null,
     "end_time": null,
     "exception": null,
     "start_time": null,
     "status": "pending"
    },
    "tags": []
   },
   "source": [
    "# Test"
   ]
  },
  {
   "cell_type": "code",
   "execution_count": null,
   "metadata": {
    "collapsed": true,
    "papermill": {
     "duration": null,
     "end_time": null,
     "exception": null,
     "start_time": null,
     "status": "pending"
    },
    "tags": []
   },
   "outputs": [],
   "source": [
    "results = get_results(model, test)"
   ]
  },
  {
   "cell_type": "code",
   "execution_count": null,
   "metadata": {
    "papermill": {
     "duration": null,
     "end_time": null,
     "exception": null,
     "start_time": null,
     "status": "pending"
    },
    "scrolled": false,
    "tags": []
   },
   "outputs": [],
   "source": [
    "probabilities = transform_binary_probabilities(results)\n",
    "predictions = transform_binary_predictions(results)\n",
    "labels = get_labels(test)\n",
    "names = test.names\n",
    "test_results = [['PatientID','True label','Predicted label','Probability']]\n",
    "index = 0\n",
    "for name in names:\n",
    "    test_results.append([name, labels[index], predictions[index], probabilities[index]])\n",
    "    index += 1\n",
    "df = pandas.DataFrame(test_results)\n",
    "df.to_csv(\"output/test_results/{}-{}.csv\".format(UUID, result.model), header=False, index=False)\n",
    "pm.record(\"test_labels\", list(labels))\n",
    "pm.record(\"test_probabilities\", list(probabilities))\n",
    "pm.record(\"test_predictions\", list(predictions))"
   ]
  },
  {
   "cell_type": "markdown",
   "metadata": {
    "papermill": {
     "duration": null,
     "end_time": null,
     "exception": null,
     "start_time": null,
     "status": "pending"
    },
    "tags": []
   },
   "source": [
    "## Test statistics"
   ]
  },
  {
   "cell_type": "code",
   "execution_count": null,
   "metadata": {
    "papermill": {
     "duration": null,
     "end_time": null,
     "exception": null,
     "start_time": null,
     "status": "pending"
    },
    "tags": []
   },
   "outputs": [],
   "source": [
    "loss, accuracy = calculate_accuracy_loss(model, test)\n",
    "print(\"Accuracy:\", accuracy)\n",
    "print(\"Loss:\", loss)\n",
    "stats = calculate_confusion_matrix_stats(labels, results)\n",
    "pandas.DataFrame(stats, index=validation.class_indices)"
   ]
  },
  {
   "cell_type": "markdown",
   "metadata": {
    "papermill": {
     "duration": null,
     "end_time": null,
     "exception": null,
     "start_time": null,
     "status": "pending"
    },
    "tags": []
   },
   "source": [
    "## Test confusion matrix"
   ]
  },
  {
   "cell_type": "code",
   "execution_count": null,
   "metadata": {
    "papermill": {
     "duration": null,
     "end_time": null,
     "exception": null,
     "start_time": null,
     "status": "pending"
    },
    "scrolled": true,
    "tags": []
   },
   "outputs": [],
   "source": [
    "fig = plot_confusion_matrix(test, results)\n",
    "fig.savefig(\"figures/{}-{}-test-confusion-matrix.svg\".format(result.uuid, result.input_form), bbox_inches = \"tight\")"
   ]
  },
  {
   "cell_type": "markdown",
   "metadata": {
    "papermill": {
     "duration": null,
     "end_time": null,
     "exception": null,
     "start_time": null,
     "status": "pending"
    },
    "tags": []
   },
   "source": [
    "## Test ROC curve"
   ]
  },
  {
   "cell_type": "code",
   "execution_count": null,
   "metadata": {
    "papermill": {
     "duration": null,
     "end_time": null,
     "exception": null,
     "start_time": null,
     "status": "pending"
    },
    "tags": []
   },
   "outputs": [],
   "source": [
    "fig = plot_roc_curve(labels, probabilities)\n",
    "fig.savefig(\"figures/{}-{}-test-ROC-curve.svg\".format(result.uuid, result.input_form), bbox_inches = \"tight\")"
   ]
  },
  {
   "cell_type": "markdown",
   "metadata": {
    "papermill": {
     "duration": null,
     "end_time": null,
     "exception": null,
     "start_time": null,
     "status": "pending"
    },
    "tags": []
   },
   "source": [
    "## Test precision-recall curve"
   ]
  },
  {
   "cell_type": "code",
   "execution_count": null,
   "metadata": {
    "papermill": {
     "duration": null,
     "end_time": null,
     "exception": null,
     "start_time": null,
     "status": "pending"
    },
    "tags": []
   },
   "outputs": [],
   "source": [
    "fig = plot_precision_recall(labels, results)\n",
    "fig.savefig(\"figures/{}-{}-test-precisionrecall-curve.svg\".format(result.uuid, result.input_form), bbox_inches = \"tight\")"
   ]
  },
  {
   "cell_type": "code",
   "execution_count": null,
   "metadata": {
    "collapsed": true,
    "papermill": {
     "duration": null,
     "end_time": null,
     "exception": null,
     "start_time": null,
     "status": "pending"
    },
    "tags": []
   },
   "outputs": [],
   "source": [
    "import json\n",
    "hyperparameters = json.loads(result.hyperparameters)\n",
    "deep_top = hyperparameters[\"deep-dense-top\"]\n",
    "grad_cam_layer = \"dense_3\"\n",
    "if deep_top: \n",
    "    grad_cam_layer = \"dense_6\""
   ]
  },
  {
   "cell_type": "markdown",
   "metadata": {
    "papermill": {
     "duration": null,
     "end_time": null,
     "exception": null,
     "start_time": null,
     "status": "pending"
    },
    "tags": []
   },
   "source": [
    "# TSNE"
   ]
  },
  {
   "cell_type": "markdown",
   "metadata": {
    "papermill": {
     "duration": null,
     "end_time": null,
     "exception": null,
     "start_time": null,
     "status": "pending"
    },
    "tags": []
   },
   "source": [
    "# Grad Cam"
   ]
  },
  {
   "cell_type": "code",
   "execution_count": null,
   "metadata": {
    "collapsed": true,
    "papermill": {
     "duration": null,
     "end_time": null,
     "exception": null,
     "start_time": null,
     "status": "pending"
    },
    "tags": []
   },
   "outputs": [],
   "source": [
    "def show_grad_cam_images(images, labels, predictions, names=None, penultimate_layer=\"res5c_branch2c\", layer=\"dense_3\", columns=2, include_label=True):\n",
    "    filter_idx = [0]\n",
    "    grad_modifier = None\n",
    "    backprop_modifier = None\n",
    "    penultimate_layer_idx = None\n",
    "    if penultimate_layer:\n",
    "        penultimate_layer_idx = find_layer_idx(model, penultimate_layer)    \n",
    "    rows = int(math.ceil(len(images) * 2/columns))\n",
    "    f, ax = plt.subplots(rows, columns, figsize=(5.5, 3 * rows))    \n",
    "    ax = ax.flatten()\n",
    "    for i, image in enumerate(images): \n",
    "        grad = visualize_cam(\n",
    "            model,\n",
    "            find_layer_idx(model, layer),\n",
    "            filter_idx,\n",
    "            normalize(image),\n",
    "            penultimate_layer_idx=penultimate_layer_idx,\n",
    "            backprop_modifier=backprop_modifier,\n",
    "            grad_modifier=grad_modifier)\n",
    "        if names is not None: \n",
    "            ax[2*i].set_title(\"{}\".format(names[i]))\n",
    "        ax[2*i].imshow(image)\n",
    "        ax[2*i].axis('off')\n",
    "        if include_label: \n",
    "            ax[2*i+1].set_title(\"label/pred: {}/{}\".format(labels[i], predictions[i]))\n",
    "        ax[2*i+1].imshow(overlay(grad, image))\n",
    "        ax[2*i+1].axis('off')\n",
    "    return f, ax"
   ]
  },
  {
   "cell_type": "code",
   "execution_count": null,
   "metadata": {
    "collapsed": true,
    "papermill": {
     "duration": null,
     "end_time": null,
     "exception": null,
     "start_time": null,
     "status": "pending"
    },
    "tags": []
   },
   "outputs": [],
   "source": [
    "from IPython.display import HTML\n",
    "HTML('''<script>\n",
    "code_show=true; \n",
    "function code_toggle() {\n",
    " if (code_show){\n",
    " $('div.input').hide();\n",
    " } else {\n",
    " $('div.input').show();\n",
    " }\n",
    " code_show = !code_show\n",
    "} \n",
    "$( document ).ready(code_toggle);\n",
    "</script>\n",
    "The raw code for this IPython notebook is by default hidden for easier reading.\n",
    "To toggle on/off the raw code, click <a href=\"javascript:code_toggle()\">here</a>.''')"
   ]
  },
  {
   "cell_type": "code",
   "execution_count": null,
   "metadata": {
    "collapsed": true,
    "papermill": {
     "duration": null,
     "end_time": null,
     "exception": null,
     "start_time": null,
     "status": "pending"
    },
    "tags": []
   },
   "outputs": [],
   "source": []
  },
  {
   "cell_type": "code",
   "execution_count": null,
   "metadata": {
    "collapsed": true,
    "papermill": {
     "duration": null,
     "end_time": null,
     "exception": null,
     "start_time": null,
     "status": "pending"
    },
    "tags": []
   },
   "outputs": [],
   "source": []
  },
  {
   "cell_type": "code",
   "execution_count": null,
   "metadata": {
    "collapsed": true,
    "papermill": {
     "duration": null,
     "end_time": null,
     "exception": null,
     "start_time": null,
     "status": "pending"
    },
    "tags": []
   },
   "outputs": [],
   "source": []
  },
  {
   "cell_type": "code",
   "execution_count": null,
   "metadata": {
    "collapsed": true,
    "papermill": {
     "duration": null,
     "end_time": null,
     "exception": null,
     "start_time": null,
     "status": "pending"
    },
    "tags": []
   },
   "outputs": [],
   "source": []
  },
  {
   "cell_type": "code",
   "execution_count": null,
   "metadata": {
    "collapsed": true,
    "papermill": {
     "duration": null,
     "end_time": null,
     "exception": null,
     "start_time": null,
     "status": "pending"
    },
    "tags": []
   },
   "outputs": [],
   "source": []
  }
 ],
 "metadata": {
  "kernelspec": {
   "display_name": "Python 3",
   "language": "python",
   "name": "python3"
  },
  "language_info": {
   "codemirror_mode": {
    "name": "ipython",
    "version": 3
   },
   "file_extension": ".py",
   "mimetype": "text/x-python",
   "name": "python",
   "nbconvert_exporter": "python",
   "pygments_lexer": "ipython3",
   "version": "3.6.1"
  },
  "papermill": {
   "duration": 174.821551,
   "end_time": "2020-04-28T23:49:27.058823",
   "environment_variables": {},
   "exception": true,
   "output_path": "evaluate-abstractrun4_alldata-t2-55fc2831-93df-4314-92d8-cfcedb2be91a.ipynb",
   "parameters": {
    "SELECTIONS": "None",
    "TSNE_PERPLEXITY": 10,
    "UUID": "55fc2831-93df-4314-92d8-cfcedb2be91a"
   },
   "start_time": "2020-04-28T23:46:32.237272",
   "version": "0.10.1"
  }
 },
 "nbformat": 4,
 "nbformat_minor": 2
}