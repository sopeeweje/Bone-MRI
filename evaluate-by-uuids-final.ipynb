{
 "cells": [
  {
   "cell_type": "code",
   "execution_count": 1,
   "metadata": {
    "scrolled": true
   },
   "outputs": [
    {
     "name": "stderr",
     "output_type": "stream",
     "text": [
      "Using TensorFlow backend.\n",
      "/home/user1/.local/share/virtualenvs/Bone-MRI-iLizu8rs/lib/python3.6/site-packages/tensorflow/python/framework/dtypes.py:516: FutureWarning: Passing (type, 1) or '1type' as a synonym of type is deprecated; in a future version of numpy, it will be understood as (type, (1,)) / '(1,)type'.\n",
      "  _np_qint8 = np.dtype([(\"qint8\", np.int8, 1)])\n",
      "/home/user1/.local/share/virtualenvs/Bone-MRI-iLizu8rs/lib/python3.6/site-packages/tensorflow/python/framework/dtypes.py:517: FutureWarning: Passing (type, 1) or '1type' as a synonym of type is deprecated; in a future version of numpy, it will be understood as (type, (1,)) / '(1,)type'.\n",
      "  _np_quint8 = np.dtype([(\"quint8\", np.uint8, 1)])\n",
      "/home/user1/.local/share/virtualenvs/Bone-MRI-iLizu8rs/lib/python3.6/site-packages/tensorflow/python/framework/dtypes.py:518: FutureWarning: Passing (type, 1) or '1type' as a synonym of type is deprecated; in a future version of numpy, it will be understood as (type, (1,)) / '(1,)type'.\n",
      "  _np_qint16 = np.dtype([(\"qint16\", np.int16, 1)])\n",
      "/home/user1/.local/share/virtualenvs/Bone-MRI-iLizu8rs/lib/python3.6/site-packages/tensorflow/python/framework/dtypes.py:519: FutureWarning: Passing (type, 1) or '1type' as a synonym of type is deprecated; in a future version of numpy, it will be understood as (type, (1,)) / '(1,)type'.\n",
      "  _np_quint16 = np.dtype([(\"quint16\", np.uint16, 1)])\n",
      "/home/user1/.local/share/virtualenvs/Bone-MRI-iLizu8rs/lib/python3.6/site-packages/tensorflow/python/framework/dtypes.py:520: FutureWarning: Passing (type, 1) or '1type' as a synonym of type is deprecated; in a future version of numpy, it will be understood as (type, (1,)) / '(1,)type'.\n",
      "  _np_qint32 = np.dtype([(\"qint32\", np.int32, 1)])\n",
      "/home/user1/.local/share/virtualenvs/Bone-MRI-iLizu8rs/lib/python3.6/site-packages/tensorflow/python/framework/dtypes.py:525: FutureWarning: Passing (type, 1) or '1type' as a synonym of type is deprecated; in a future version of numpy, it will be understood as (type, (1,)) / '(1,)type'.\n",
      "  np_resource = np.dtype([(\"resource\", np.ubyte, 1)])\n",
      "WARNING:root:Limited tf.compat.v2.summary API due to missing TensorBoard installation.\n"
     ]
    }
   ],
   "source": [
    "%load_ext autoreload\n",
    "%autoreload 2\n",
    "%matplotlib inline  \n",
    "from IPython.display import display, HTML, SVG\n",
    "from db import Result\n",
    "import papermill as pm\n",
    "import os\n",
    "import seaborn\n",
    "import pandas\n",
    "import matplotlib.pyplot as plt\n",
    "from collections import defaultdict \n",
    "from sklearn.metrics import auc, precision_recall_curve, roc_curve, confusion_matrix, roc_auc_score, roc_curve, f1_score, accuracy_score\n",
    "from sklearn.metrics import cohen_kappa_score\n",
    "from evaluate import calculate_confusion_matrix_stats_predictions, calculate_roc_curve, roc_auc_score\n",
    "from scipy.stats import binom_test, fisher_exact, chi2_contingency\n",
    "from tabulate import tabulate\n",
    "from calculate_features import all_features\n",
    "from config import config\n",
    "from data_gen import data\n",
    "plt.rcParams['svg.fonttype'] = 'none'"
   ]
  },
  {
   "cell_type": "code",
   "execution_count": 2,
   "metadata": {},
   "outputs": [],
   "source": [
    "SKIP = False\n",
    "UUIDS = [    \n",
    "     \"bb203f76-fc98-44ed-a8e6-2592c681457e\", # t2, outcome_pos\n",
    "     \"ec0a84dd-313b-44fc-9110-d72a62ee12a2\", # t1, outcome_pos\n",
    "     #\"7e946fc2-5f5d-46b8-94e6-c57ea02f32ad\", # t2, outcome_neg\n",
    "     #\"ba0de65e-7e2b-483f-b2ec-f41a39959e6d\" # t1, outcome_neg\n",
    "     #\"55fc2831-93df-4314-92d8-cfcedb2be91a\", # t2, outcome_3\n",
    "     #\"0edc5931-1fd4-4f3a-b296-f97fd308f299\", # t1, outcome_3\n",
    "]\n",
    "SELECTIONS = {\n",
    "     \"bb203f76-fc98-44ed-a8e6-2592c681457e\": None, #t2, outcome_pos\n",
    "     \"ec0a84dd-313b-44fc-9110-d72a62ee12a2\": None, # t1, outcome_pos\n",
    "     #\"7e946fc2-5f5d-46b8-94e6-c57ea02f32ad\": None, # t2, outcome_neg\n",
    "     #\"ba0de65e-7e2b-483f-b2ec-f41a39959e6d\": None, # t1, outcome_neg\n",
    "     #\"55fc2831-93df-4314-92d8-cfcedb2be91a\": None, # t2, outcome_3\n",
    "     #\"0edc5931-1fd4-4f3a-b296-f97fd308f299\": None, # t1, outcome_3\n",
    "}\n",
    "TSNE_PERPLEXITY = {\n",
    "    \"bb203f76-fc98-44ed-a8e6-2592c681457e\": 10, # t2, outcome_pos\n",
    "    \"ec0a84dd-313b-44fc-9110-d72a62ee12a2\": 10, # t1, outcome_pos\n",
    "    #\"7e946fc2-5f5d-46b8-94e6-c57ea02f32ad\": 10, # t2, outcome_neg\n",
    "    #\"ba0de65e-7e2b-483f-b2ec-f41a39959e6d\": 10, # t1, outcome_neg\n",
    "    #\"55fc2831-93df-4314-92d8-cfcedb2be91a\": 10, # t2, outcome_3\n",
    "    #\"0edc5931-1fd4-4f3a-b296-f97fd308f299\": 10, # t1, outcome_3\n",
    "}\n",
    "MODALITY = {\n",
    "    \"bb203f76-fc98-44ed-a8e6-2592c681457e\": \"t2\", # t2, outcome_pos\n",
    "    \"ec0a84dd-313b-44fc-9110-d72a62ee12a2\": \"t1\" # t1, outcome_pos\n",
    "    #\"7e946fc2-5f5d-46b8-94e6-c57ea02f32ad\": \"t2\", # t2, outcome_neg\n",
    "    #\"ba0de65e-7e2b-483f-b2ec-f41a39959e6d\": \"t1\", # t1, outcome_neg\n",
    "    #\"55fc2831-93df-4314-92d8-cfcedb2be91a\": \"t2\", # t2, outcome_3\n",
    "    #\"0edc5931-1fd4-4f3a-b296-f97fd308f299\": \"t1\", # t1, outcome_3\n",
    "}"
   ]
  },
  {
   "cell_type": "code",
   "execution_count": 3,
   "metadata": {},
   "outputs": [],
   "source": [
    "import math\n",
    "def adjusted_wald(p, n, z=1.96):\n",
    "    p_adj = (n * p + (z**2)/2)/(n+z**2)\n",
    "    n_adj = n + z**2\n",
    "    span = z * math.sqrt(p_adj*(1-p_adj)/n_adj)\n",
    "    return max(0, p_adj - span), min(p_adj + span, 1.0)"
   ]
  },
  {
   "cell_type": "code",
   "execution_count": 4,
   "metadata": {},
   "outputs": [],
   "source": [
    "def execute_notebook(uuid, selections=None, tsne_perplexity=5, input_form=\"none\", description=\"\"): \n",
    "    name = \"evaluate-{}-{}-{}.ipynb\".format(description, input_form, uuid)\n",
    "    if not SKIP and not os.path.exists(name): \n",
    "        pm.execute_notebook(\n",
    "            \"evaluate-specific-model.ipynb\",\n",
    "            \"evaluate-{}-{}-{}.ipynb\".format(description, input_form, uuid),\n",
    "            parameters = dict(\n",
    "                UUID=uuid,\n",
    "                SELECTIONS=repr(selections),\n",
    "                TSNE_PERPLEXITY=tsne_perplexity,\n",
    "            ),\n",
    "    )\n",
    "    return name"
   ]
  },
  {
   "cell_type": "code",
   "execution_count": 5,
   "metadata": {},
   "outputs": [],
   "source": [
    "completed_notebooks = list()\n",
    "modality_by_notebook = dict()"
   ]
  },
  {
   "cell_type": "code",
   "execution_count": 6,
   "metadata": {},
   "outputs": [
    {
     "name": "stdout",
     "output_type": "stream",
     "text": [
      "bb203f76-fc98-44ed-a8e6-2592c681457e\n",
      "Input Notebook:  evaluate-specific-model.ipynb\n",
      "Output Notebook: evaluate-t1-t2-verified_trial1-t2-bb203f76-fc98-44ed-a8e6-2592c681457e.ipynb\n"
     ]
    },
    {
     "name": "stderr",
     "output_type": "stream",
     "text": [
      "100%|██████████| 60/60 [09:21<00:00,  9.36s/it]\n"
     ]
    },
    {
     "name": "stdout",
     "output_type": "stream",
     "text": [
      "done\n",
      "ec0a84dd-313b-44fc-9110-d72a62ee12a2\n",
      "Input Notebook:  evaluate-specific-model.ipynb\n",
      "Output Notebook: evaluate-t1-t2-verified_trial1-t1-ec0a84dd-313b-44fc-9110-d72a62ee12a2.ipynb\n"
     ]
    },
    {
     "name": "stderr",
     "output_type": "stream",
     "text": [
      "100%|██████████| 60/60 [09:43<00:00,  9.72s/it]\n"
     ]
    },
    {
     "name": "stdout",
     "output_type": "stream",
     "text": [
      "done\n"
     ]
    }
   ],
   "source": [
    "for uuid in UUIDS: \n",
    "    print(uuid)\n",
    "    result = Result.query.filter(Result.uuid == uuid).first()\n",
    "    name = execute_notebook(uuid, SELECTIONS.get(uuid), TSNE_PERPLEXITY.get(uuid), result.input_form, result.description)\n",
    "    completed_notebooks.append(name)\n",
    "    modality_by_notebook[name] = MODALITY[uuid]\n",
    "    print(\"done\")"
   ]
  },
  {
   "cell_type": "code",
   "execution_count": 7,
   "metadata": {},
   "outputs": [
    {
     "data": {
      "text/plain": [
       "{'evaluate-t1-t2-verified_trial1-t2-bb203f76-fc98-44ed-a8e6-2592c681457e.ipynb': 't2',\n",
       " 'evaluate-t1-t2-verified_trial1-t1-ec0a84dd-313b-44fc-9110-d72a62ee12a2.ipynb': 't1'}"
      ]
     },
     "execution_count": 7,
     "metadata": {},
     "output_type": "execute_result"
    }
   ],
   "source": [
    "modality_by_notebook"
   ]
  },
  {
   "cell_type": "code",
   "execution_count": 8,
   "metadata": {},
   "outputs": [
    {
     "name": "stdout",
     "output_type": "stream",
     "text": [
      "Input Notebook:  evaluate-ensemble.ipynb\n",
      "Output Notebook: evaluate-ensemble-bb203f76-fc98-44ed-a8e6-2592c681457e-ec0a84dd-313b-44fc-9110-d72a62ee12a2.ipynb\n"
     ]
    },
    {
     "name": "stderr",
     "output_type": "stream",
     "text": [
      "100%|██████████| 46/46 [33:28<00:00, 43.66s/it]   \n"
     ]
    }
   ],
   "source": [
    "if not SKIP: \n",
    "    pm.execute_notebook(\n",
    "        \"evaluate-ensemble.ipynb\",\n",
    "        \"evaluate-ensemble-{}.ipynb\".format(\"-\".join(UUIDS)),\n",
    "        parameters = dict(\n",
    "            MODELS=UUIDS,\n",
    "            SCORE=\"accuracy\",\n",
    "        ),\n",
    "    )\n",
    "completed_notebooks.append(\"evaluate-ensemble-{}.ipynb\".format(\"-\".join(UUIDS)))"
   ]
  },
  {
   "cell_type": "code",
   "execution_count": 9,
   "metadata": {},
   "outputs": [],
   "source": [
    "modality_by_notebook[\"evaluate-ensemble-{}.ipynb\".format(\"-\".join(UUIDS))] = \"ensemble\""
   ]
  },
  {
   "cell_type": "code",
   "execution_count": 10,
   "metadata": {},
   "outputs": [],
   "source": [
    "def get_notebook_output(notebook, name): \n",
    "    return (notebook.dataframe[notebook.dataframe.name==name].value.tolist())[0]"
   ]
  },
  {
   "cell_type": "code",
   "execution_count": 11,
   "metadata": {},
   "outputs": [],
   "source": [
    "train = dict()\n",
    "validation = dict()\n",
    "test = dict()\n",
    "test_1 = dict()\n",
    "test_2 = dict()\n",
    "for notebook in completed_notebooks: \n",
    "    nb = pm.read_notebook(notebook)\n",
    "    train[\"{}-{}\".format(modality_by_notebook[notebook], \"labels\")] = get_notebook_output(nb, \"train_labels\")\n",
    "    train[\"{}-{}\".format(modality_by_notebook[notebook], \"predictions\")] = get_notebook_output(nb, \"train_predictions\")\n",
    "    train[\"{}-{}\".format(modality_by_notebook[notebook], \"probabilities\")] = get_notebook_output(nb, \"train_probabilities\")\n",
    "    validation[\"{}-{}\".format(modality_by_notebook[notebook], \"labels\")] = get_notebook_output(nb, \"validation_labels\")\n",
    "    validation[\"{}-{}\".format(modality_by_notebook[notebook], \"predictions\")] = get_notebook_output(nb, \"validation_predictions\")\n",
    "    validation[\"{}-{}\".format(modality_by_notebook[notebook], \"probabilities\")] = get_notebook_output(nb, \"validation_probabilities\")\n",
    "    test[\"{}-{}\".format(modality_by_notebook[notebook], \"labels\")] = get_notebook_output(nb, \"test_labels\")\n",
    "    test[\"{}-{}\".format(modality_by_notebook[notebook], \"predictions\")] = get_notebook_output(nb, \"test_predictions\")\n",
    "    test[\"{}-{}\".format(modality_by_notebook[notebook], \"probabilities\")] = get_notebook_output(nb, \"test_probabilities\")\n",
    "    #test_1[\"{}-{}\".format(modality_by_notebook[notebook], \"labels\")] = get_notebook_output(nb, \"test-1_labels\")\n",
    "    #test_1[\"{}-{}\".format(modality_by_notebook[notebook], \"predictions\")] = get_notebook_output(nb, \"test-1_predictions\")\n",
    "    #test_1[\"{}-{}\".format(modality_by_notebook[notebook], \"probabilities\")] = get_notebook_output(nb, \"test-1_probabilities\")\n",
    "    #test_2[\"{}-{}\".format(modality_by_notebook[notebook], \"labels\")] = get_notebook_output(nb, \"test-2_labels\")\n",
    "    #test_2[\"{}-{}\".format(modality_by_notebook[notebook], \"predictions\")] = get_notebook_output(nb, \"test-2_predictions\")\n",
    "    #test_2[\"{}-{}\".format(modality_by_notebook[notebook], \"probabilities\")] = get_notebook_output(nb, \"test-2_probabilities\")    "
   ]
  },
  {
   "cell_type": "code",
   "execution_count": 12,
   "metadata": {},
   "outputs": [
    {
     "name": "stdout",
     "output_type": "stream",
     "text": [
      "99\n"
     ]
    }
   ],
   "source": [
    "train.keys()\n",
    "print(len(test['t1-predictions']))"
   ]
  },
  {
   "cell_type": "code",
   "execution_count": 13,
   "metadata": {},
   "outputs": [
    {
     "data": {
      "text/plain": [
       "['evaluate-t1-t2-verified_trial1-t2-bb203f76-fc98-44ed-a8e6-2592c681457e.ipynb',\n",
       " 'evaluate-t1-t2-verified_trial1-t1-ec0a84dd-313b-44fc-9110-d72a62ee12a2.ipynb',\n",
       " 'evaluate-ensemble-bb203f76-fc98-44ed-a8e6-2592c681457e-ec0a84dd-313b-44fc-9110-d72a62ee12a2.ipynb']"
      ]
     },
     "execution_count": 13,
     "metadata": {},
     "output_type": "execute_result"
    }
   ],
   "source": [
    "completed_notebooks"
   ]
  },
  {
   "cell_type": "code",
   "execution_count": 14,
   "metadata": {
    "scrolled": true
   },
   "outputs": [
    {
     "name": "stderr",
     "output_type": "stream",
     "text": [
      "\r",
      "  0%|          | 0/622 [00:00<?, ?it/s]"
     ]
    },
    {
     "name": "stdout",
     "output_type": "stream",
     "text": [
      "bb203f76-fc98-44ed-a8e6-2592c681457e\n",
      "84a64c17-fe3e-440c-aaaf-e1bd5b02576f\n",
      "1072\n",
      "889\n",
      "Training points = 622\n",
      "Benign: 349, Intermediate: 273, Malignant: 0\n",
      "\n",
      "Validation points = 168\n",
      "Benign: 96, Intermediate: 72, Malignant: 0\n",
      "\n",
      "Testing points = 99\n",
      "Benign: 54, Intermediate: 45, Malignant: 0\n",
      "bone-china-046\n",
      "Does this patient have T2 available? True\n",
      "I'm doing the thing.\n"
     ]
    },
    {
     "name": "stderr",
     "output_type": "stream",
     "text": [
      "\r",
      "  0%|          | 1/622 [00:00<02:22,  4.35it/s]"
     ]
    },
    {
     "name": "stdout",
     "output_type": "stream",
     "text": [
      "bone-penn-157\n",
      "Does this patient have T2 available? True\n",
      "I'm doing the thing.\n"
     ]
    },
    {
     "name": "stderr",
     "output_type": "stream",
     "text": [
      "  0%|          | 3/622 [00:00<02:18,  4.48it/s]"
     ]
    },
    {
     "name": "stdout",
     "output_type": "stream",
     "text": [
      "bone-china-124\n",
      "Does this patient have T2 available? True\n",
      "I'm doing the thing.\n",
      "bone-penn-107\n",
      "Does this patient have T2 available? True\n",
      "I'm doing the thing.\n"
     ]
    },
    {
     "name": "stderr",
     "output_type": "stream",
     "text": [
      "\r",
      "  1%|          | 4/622 [00:01<02:56,  3.50it/s]"
     ]
    },
    {
     "name": "stdout",
     "output_type": "stream",
     "text": [
      "bone-hup-134\n",
      "Does this patient have T2 available? True\n",
      "I'm doing the thing.\n"
     ]
    },
    {
     "name": "stderr",
     "output_type": "stream",
     "text": [
      "  1%|          | 6/622 [00:01<02:33,  4.00it/s]"
     ]
    },
    {
     "name": "stdout",
     "output_type": "stream",
     "text": [
      "bone-china-068\n",
      "Does this patient have T2 available? True\n",
      "I'm doing the thing.\n",
      "bone-penn-522\n",
      "Does this patient have T2 available? True\n",
      "I'm doing the thing.\n"
     ]
    },
    {
     "name": "stderr",
     "output_type": "stream",
     "text": [
      "\r",
      "  1%|          | 7/622 [00:01<02:37,  3.91it/s]"
     ]
    },
    {
     "name": "stdout",
     "output_type": "stream",
     "text": [
      "bone-penn-279\n",
      "Does this patient have T2 available? True\n",
      "I'm doing the thing.\n"
     ]
    },
    {
     "name": "stderr",
     "output_type": "stream",
     "text": [
      "  1%|▏         | 9/622 [00:02<02:51,  3.56it/s]"
     ]
    },
    {
     "name": "stdout",
     "output_type": "stream",
     "text": [
      "bone-penn-81\n",
      "Does this patient have T2 available? True\n",
      "I'm doing the thing.\n",
      "bone-china-128\n",
      "Does this patient have T2 available? True\n",
      "I'm doing the thing.\n"
     ]
    },
    {
     "name": "stderr",
     "output_type": "stream",
     "text": [
      "\r",
      "  2%|▏         | 10/622 [00:02<02:26,  4.17it/s]"
     ]
    },
    {
     "name": "stdout",
     "output_type": "stream",
     "text": [
      "bone-hup-296\n",
      "Does this patient have T2 available? True\n",
      "I'm doing the thing.\n"
     ]
    },
    {
     "name": "stderr",
     "output_type": "stream",
     "text": [
      "\r",
      "  2%|▏         | 11/622 [00:02<02:30,  4.07it/s]"
     ]
    },
    {
     "name": "stdout",
     "output_type": "stream",
     "text": [
      "bone-china-106\n",
      "Does this patient have T2 available? True\n",
      "I'm doing the thing.\n",
      "bone-penn-292\n",
      "Does this patient have T2 available? True\n",
      "I'm doing the thing.\n"
     ]
    },
    {
     "name": "stderr",
     "output_type": "stream",
     "text": [
      "\r",
      "  2%|▏         | 13/622 [00:03<02:04,  4.88it/s]"
     ]
    },
    {
     "name": "stdout",
     "output_type": "stream",
     "text": [
      "bone-hup-123\n",
      "Does this patient have T2 available? True\n",
      "I'm doing the thing.\n"
     ]
    },
    {
     "name": "stderr",
     "output_type": "stream",
     "text": [
      "\r",
      "  2%|▏         | 14/622 [00:03<02:10,  4.67it/s]"
     ]
    },
    {
     "name": "stdout",
     "output_type": "stream",
     "text": [
      "bone-penn-362\n",
      "Does this patient have T2 available? True\n",
      "I'm doing the thing.\n"
     ]
    },
    {
     "name": "stderr",
     "output_type": "stream",
     "text": [
      "\r",
      "  2%|▏         | 15/622 [00:03<02:27,  4.11it/s]"
     ]
    },
    {
     "name": "stdout",
     "output_type": "stream",
     "text": [
      "bone-penn-588\n",
      "Does this patient have T2 available? True\n",
      "I'm doing the thing.\n"
     ]
    },
    {
     "name": "stderr",
     "output_type": "stream",
     "text": [
      "  3%|▎         | 17/622 [00:04<02:17,  4.39it/s]"
     ]
    },
    {
     "name": "stdout",
     "output_type": "stream",
     "text": [
      "bone-penn-139\n",
      "Does this patient have T2 available? True\n",
      "I'm doing the thing.\n",
      "bone-penn-381\n",
      "Does this patient have T2 available? True\n",
      "I'm doing the thing.\n",
      "bone-penn-93\n",
      "Does this patient have T2 available? True\n",
      "I'm doing the thing.\n"
     ]
    },
    {
     "name": "stderr",
     "output_type": "stream",
     "text": [
      "\r",
      "  3%|▎         | 19/622 [00:04<01:50,  5.46it/s]"
     ]
    },
    {
     "name": "stdout",
     "output_type": "stream",
     "text": [
      "bone-china-052\n",
      "Does this patient have T2 available? True\n",
      "I'm doing the thing.\n",
      "bone-penn-142\n",
      "Does this patient have T2 available? True\n",
      "I'm doing the thing.\n"
     ]
    },
    {
     "name": "stderr",
     "output_type": "stream",
     "text": [
      "  4%|▎         | 22/622 [00:04<01:34,  6.33it/s]"
     ]
    },
    {
     "name": "stdout",
     "output_type": "stream",
     "text": [
      "bone-penn-280\n",
      "Does this patient have T2 available? True\n",
      "I'm doing the thing.\n",
      "bone-penn-457\n",
      "Does this patient have T2 available? True\n",
      "I'm doing the thing.\n"
     ]
    },
    {
     "name": "stderr",
     "output_type": "stream",
     "text": [
      "  4%|▍         | 24/622 [00:05<01:37,  6.16it/s]"
     ]
    },
    {
     "name": "stdout",
     "output_type": "stream",
     "text": [
      "bone-hup-155\n",
      "Does this patient have T2 available? True\n",
      "I'm doing the thing.\n",
      "bone-hup-48\n",
      "Does this patient have T2 available? True\n",
      "I'm doing the thing.\n"
     ]
    },
    {
     "name": "stderr",
     "output_type": "stream",
     "text": [
      "  4%|▍         | 27/622 [00:05<01:21,  7.31it/s]"
     ]
    },
    {
     "name": "stdout",
     "output_type": "stream",
     "text": [
      "bone-penn-85\n",
      "Does this patient have T2 available? True\n",
      "I'm doing the thing.\n",
      "bone-penn-551\n",
      "Does this patient have T2 available? True\n",
      "I'm doing the thing.\n",
      "bone-china-020\n",
      "Does this patient have T2 available? True\n",
      "I'm doing the thing.\n"
     ]
    },
    {
     "name": "stderr",
     "output_type": "stream",
     "text": [
      "\r",
      "  5%|▍         | 29/622 [00:05<01:14,  7.99it/s]"
     ]
    },
    {
     "name": "stdout",
     "output_type": "stream",
     "text": [
      "bone-china-057\n",
      "Does this patient have T2 available? True\n",
      "I'm doing the thing.\n",
      "bone-china-107\n",
      "Does this patient have T2 available? True\n",
      "I'm doing the thing.\n"
     ]
    },
    {
     "name": "stderr",
     "output_type": "stream",
     "text": [
      "\r",
      "  5%|▍         | 30/622 [00:05<01:13,  8.04it/s]"
     ]
    },
    {
     "name": "stdout",
     "output_type": "stream",
     "text": [
      "bone-penn-105\n",
      "Does this patient have T2 available? True\n",
      "I'm doing the thing.\n"
     ]
    },
    {
     "name": "stderr",
     "output_type": "stream",
     "text": [
      "\r",
      "  5%|▍         | 31/622 [00:06<01:50,  5.33it/s]"
     ]
    },
    {
     "name": "stdout",
     "output_type": "stream",
     "text": [
      "bone-penn-106\n",
      "Does this patient have T2 available? True\n",
      "I'm doing the thing.\n"
     ]
    },
    {
     "name": "stderr",
     "output_type": "stream",
     "text": [
      "  5%|▌         | 33/622 [00:06<01:53,  5.17it/s]"
     ]
    },
    {
     "name": "stdout",
     "output_type": "stream",
     "text": [
      "bone-penn-94\n",
      "Does this patient have T2 available? True\n",
      "I'm doing the thing.\n",
      "bone-china-089\n",
      "Does this patient have T2 available? True\n",
      "I'm doing the thing.\n",
      "bone-hup-303\n",
      "Does this patient have T2 available? True\n",
      "I'm doing the thing.\n"
     ]
    },
    {
     "name": "stderr",
     "output_type": "stream",
     "text": [
      "  6%|▌         | 36/622 [00:07<02:07,  4.61it/s]"
     ]
    },
    {
     "name": "stdout",
     "output_type": "stream",
     "text": [
      "bone-china-081\n",
      "Does this patient have T2 available? True\n",
      "I'm doing the thing.\n",
      "bone-hup-51\n",
      "Does this patient have T2 available? True\n",
      "I'm doing the thing.\n"
     ]
    },
    {
     "name": "stderr",
     "output_type": "stream",
     "text": [
      "\r",
      "  6%|▌         | 37/622 [00:07<02:01,  4.80it/s]"
     ]
    },
    {
     "name": "stdout",
     "output_type": "stream",
     "text": [
      "bone-penn-277\n",
      "Does this patient have T2 available? True\n",
      "I'm doing the thing.\n"
     ]
    },
    {
     "name": "stderr",
     "output_type": "stream",
     "text": [
      "  6%|▋         | 39/622 [00:08<02:15,  4.30it/s]"
     ]
    },
    {
     "name": "stdout",
     "output_type": "stream",
     "text": [
      "bone-penn-473\n",
      "Does this patient have T2 available? True\n",
      "I'm doing the thing.\n",
      "bone-penn-468\n",
      "Does this patient have T2 available? True\n",
      "I'm doing the thing.\n"
     ]
    },
    {
     "name": "stderr",
     "output_type": "stream",
     "text": [
      "\r",
      "  6%|▋         | 40/622 [00:09<04:44,  2.05it/s]"
     ]
    },
    {
     "name": "stdout",
     "output_type": "stream",
     "text": [
      "bone-china-069\n",
      "Does this patient have T2 available? True\n",
      "I'm doing the thing.\n",
      "bone-penn-478\n",
      "Does this patient have T2 available? True\n",
      "I'm doing the thing.\n"
     ]
    },
    {
     "name": "stderr",
     "output_type": "stream",
     "text": [
      "  7%|▋         | 43/622 [00:09<03:12,  3.00it/s]"
     ]
    },
    {
     "name": "stdout",
     "output_type": "stream",
     "text": [
      "bone-penn-495\n",
      "Does this patient have T2 available? True\n",
      "I'm doing the thing.\n",
      "bone-china-040\n",
      "Does this patient have T2 available? True\n",
      "I'm doing the thing.\n",
      "bone-penn-148\n",
      "Does this patient have T2 available? True\n",
      "I'm doing the thing.\n"
     ]
    },
    {
     "name": "stderr",
     "output_type": "stream",
     "text": [
      "\r",
      "  7%|▋         | 45/622 [00:10<02:40,  3.59it/s]"
     ]
    },
    {
     "name": "stdout",
     "output_type": "stream",
     "text": [
      "bone-penn-481\n",
      "Does this patient have T2 available? True\n",
      "I'm doing the thing.\n",
      "bone-penn-330\n",
      "Does this patient have T2 available? True\n",
      "I'm doing the thing.\n"
     ]
    },
    {
     "name": "stderr",
     "output_type": "stream",
     "text": [
      "\r",
      "  8%|▊         | 47/622 [00:10<02:21,  4.05it/s]"
     ]
    },
    {
     "name": "stdout",
     "output_type": "stream",
     "text": [
      "bone-china-151\n",
      "Does this patient have T2 available? True\n",
      "I'm doing the thing.\n",
      "bone-china-146\n",
      "Does this patient have T2 available? True\n",
      "I'm doing the thing.\n"
     ]
    },
    {
     "name": "stderr",
     "output_type": "stream",
     "text": [
      "  8%|▊         | 51/622 [00:10<01:34,  6.07it/s]"
     ]
    },
    {
     "name": "stdout",
     "output_type": "stream",
     "text": [
      "bone-china-056\n",
      "Does this patient have T2 available? True\n",
      "I'm doing the thing.\n",
      "bone-penn-038\n",
      "Does this patient have T2 available? True\n",
      "I'm doing the thing.\n",
      "bone-china-169\n",
      "Does this patient have T2 available? True\n",
      "I'm doing the thing.\n"
     ]
    },
    {
     "name": "stderr",
     "output_type": "stream",
     "text": [
      "\r",
      "  8%|▊         | 52/622 [00:10<01:25,  6.67it/s]"
     ]
    },
    {
     "name": "stdout",
     "output_type": "stream",
     "text": [
      "bone-penn-151\n",
      "Does this patient have T2 available? True\n",
      "I'm doing the thing.\n"
     ]
    },
    {
     "name": "stderr",
     "output_type": "stream",
     "text": [
      "\r",
      "  9%|▊         | 53/622 [00:11<02:53,  3.28it/s]"
     ]
    },
    {
     "name": "stdout",
     "output_type": "stream",
     "text": [
      "bone-hup-317\n",
      "Does this patient have T2 available? True\n",
      "I'm doing the thing.\n"
     ]
    },
    {
     "name": "stderr",
     "output_type": "stream",
     "text": [
      "\r",
      "  9%|▊         | 54/622 [00:11<02:59,  3.16it/s]"
     ]
    },
    {
     "name": "stdout",
     "output_type": "stream",
     "text": [
      "bone-penn-047\n",
      "Does this patient have T2 available? True\n",
      "I'm doing the thing.\n"
     ]
    },
    {
     "name": "stderr",
     "output_type": "stream",
     "text": [
      "  9%|▉         | 56/622 [00:12<03:12,  2.94it/s]"
     ]
    },
    {
     "name": "stdout",
     "output_type": "stream",
     "text": [
      "bone-hup-151\n",
      "Does this patient have T2 available? True\n",
      "I'm doing the thing.\n",
      "bone-penn-118\n",
      "Does this patient have T2 available? True\n",
      "I'm doing the thing.\n"
     ]
    },
    {
     "name": "stderr",
     "output_type": "stream",
     "text": [
      "  9%|▉         | 58/622 [00:14<04:59,  1.88it/s]"
     ]
    },
    {
     "name": "stdout",
     "output_type": "stream",
     "text": [
      "bone-china-114\n",
      "Does this patient have T2 available? True\n",
      "I'm doing the thing.\n",
      "bone-china-062\n",
      "Does this patient have T2 available? True\n",
      "I'm doing the thing.\n"
     ]
    },
    {
     "name": "stderr",
     "output_type": "stream",
     "text": [
      "\r",
      "  9%|▉         | 59/622 [00:14<03:58,  2.36it/s]"
     ]
    },
    {
     "name": "stdout",
     "output_type": "stream",
     "text": [
      "bone-china-163\n",
      "Does this patient have T2 available? True\n",
      "I'm doing the thing.\n",
      "bone-penn-90\n",
      "Does this patient have T2 available? True\n",
      "I'm doing the thing.\n"
     ]
    },
    {
     "name": "stderr",
     "output_type": "stream",
     "text": [
      "\r",
      " 10%|▉         | 61/622 [00:14<03:04,  3.05it/s]"
     ]
    },
    {
     "name": "stdout",
     "output_type": "stream",
     "text": [
      "bone-penn-497\n",
      "Does this patient have T2 available? True\n",
      "I'm doing the thing.\n",
      "bone-hup-265\n",
      "Does this patient have T2 available? True\n",
      "I'm doing the thing.\n"
     ]
    },
    {
     "name": "stderr",
     "output_type": "stream",
     "text": [
      " 10%|█         | 65/622 [00:15<01:56,  4.78it/s]"
     ]
    },
    {
     "name": "stdout",
     "output_type": "stream",
     "text": [
      "bone-china-162\n",
      "Does this patient have T2 available? True\n",
      "I'm doing the thing.\n",
      "bone-penn-104\n",
      "Does this patient have T2 available? True\n",
      "I'm doing the thing.\n",
      "bone-penn-485\n",
      "Does this patient have T2 available? True\n",
      "I'm doing the thing.\n"
     ]
    },
    {
     "name": "stderr",
     "output_type": "stream",
     "text": [
      "\r",
      " 11%|█         | 66/622 [00:15<02:29,  3.71it/s]"
     ]
    },
    {
     "name": "stdout",
     "output_type": "stream",
     "text": [
      "bone-china-004\n",
      "Does this patient have T2 available? True\n",
      "I'm doing the thing.\n",
      "bone-hup-131\n",
      "Does this patient have T2 available? True\n",
      "I'm doing the thing.\n"
     ]
    },
    {
     "name": "stderr",
     "output_type": "stream",
     "text": [
      "\r",
      " 11%|█         | 68/622 [00:15<02:05,  4.42it/s]"
     ]
    },
    {
     "name": "stdout",
     "output_type": "stream",
     "text": [
      "bone-penn-577\n",
      "Does this patient have T2 available? True\n",
      "I'm doing the thing.\n"
     ]
    },
    {
     "name": "stderr",
     "output_type": "stream",
     "text": [
      " 11%|█▏        | 71/622 [00:16<02:02,  4.52it/s]"
     ]
    },
    {
     "name": "stdout",
     "output_type": "stream",
     "text": [
      "bone-china-077\n",
      "Does this patient have T2 available? True\n",
      "I'm doing the thing.\n",
      "bone-china-032\n",
      "Does this patient have T2 available? True\n",
      "I'm doing the thing.\n",
      "bone-hup-152\n",
      "Does this patient have T2 available? True\n",
      "I'm doing the thing.\n"
     ]
    },
    {
     "name": "stderr",
     "output_type": "stream",
     "text": [
      "\r",
      " 12%|█▏        | 72/622 [00:16<02:00,  4.55it/s]"
     ]
    },
    {
     "name": "stdout",
     "output_type": "stream",
     "text": [
      "bone-penn-84\n",
      "Does this patient have T2 available? True\n",
      "I'm doing the thing.\n"
     ]
    },
    {
     "name": "stderr",
     "output_type": "stream",
     "text": [
      "\r",
      " 12%|█▏        | 73/622 [00:16<02:08,  4.28it/s]"
     ]
    },
    {
     "name": "stdout",
     "output_type": "stream",
     "text": [
      "bone-china-120\n",
      "Does this patient have T2 available? True\n",
      "I'm doing the thing.\n",
      "bone-penn-074\n",
      "Does this patient have T2 available? True\n",
      "I'm doing the thing.\n"
     ]
    },
    {
     "name": "stderr",
     "output_type": "stream",
     "text": [
      "\r",
      " 12%|█▏        | 75/622 [00:17<01:46,  5.14it/s]"
     ]
    },
    {
     "name": "stdout",
     "output_type": "stream",
     "text": [
      "bone-penn-143\n",
      "Does this patient have T2 available? True\n",
      "I'm doing the thing.\n"
     ]
    },
    {
     "name": "stderr",
     "output_type": "stream",
     "text": [
      " 13%|█▎        | 78/622 [00:17<01:34,  5.79it/s]"
     ]
    },
    {
     "name": "stdout",
     "output_type": "stream",
     "text": [
      "bone-hup-124\n",
      "Does this patient have T2 available? True\n",
      "I'm doing the thing.\n",
      "bone-penn-474\n",
      "Does this patient have T2 available? True\n",
      "I'm doing the thing.\n",
      "bone-penn-530\n",
      "Does this patient have T2 available? True\n",
      "I'm doing the thing.\n"
     ]
    },
    {
     "name": "stderr",
     "output_type": "stream",
     "text": [
      "\r",
      " 13%|█▎        | 79/622 [00:17<01:25,  6.36it/s]"
     ]
    },
    {
     "name": "stdout",
     "output_type": "stream",
     "text": [
      "bone-penn-115\n",
      "Does this patient have T2 available? True\n",
      "I'm doing the thing.\n",
      "bone-penn-384\n",
      "Does this patient have T2 available? True\n",
      "I'm doing the thing.\n"
     ]
    },
    {
     "name": "stderr",
     "output_type": "stream",
     "text": [
      " 13%|█▎        | 82/622 [00:17<01:13,  7.32it/s]"
     ]
    },
    {
     "name": "stdout",
     "output_type": "stream",
     "text": [
      "bone-penn-322\n",
      "Does this patient have T2 available? True\n",
      "I'm doing the thing.\n",
      "bone-china-055\n",
      "Does this patient have T2 available? True\n",
      "I'm doing the thing.\n"
     ]
    },
    {
     "name": "stderr",
     "output_type": "stream",
     "text": [
      "\r",
      " 14%|█▎        | 84/622 [00:18<01:11,  7.57it/s]"
     ]
    },
    {
     "name": "stdout",
     "output_type": "stream",
     "text": [
      "bone-penn-585\n",
      "Does this patient have T2 available? True\n",
      "I'm doing the thing.\n",
      "bone-china-148\n",
      "Does this patient have T2 available? True\n",
      "I'm doing the thing.\n"
     ]
    },
    {
     "name": "stderr",
     "output_type": "stream",
     "text": [
      " 14%|█▍        | 86/622 [00:18<01:19,  6.76it/s]"
     ]
    },
    {
     "name": "stdout",
     "output_type": "stream",
     "text": [
      "bone-china-149\n",
      "Does this patient have T2 available? True\n",
      "I'm doing the thing.\n",
      "bone-penn-005\n",
      "Does this patient have T2 available? True\n",
      "I'm doing the thing.\n"
     ]
    },
    {
     "name": "stderr",
     "output_type": "stream",
     "text": [
      " 14%|█▍        | 88/622 [00:19<01:51,  4.80it/s]"
     ]
    },
    {
     "name": "stdout",
     "output_type": "stream",
     "text": [
      "bone-china-031\n",
      "Does this patient have T2 available? True\n",
      "I'm doing the thing.\n",
      "bone-china-033\n",
      "Does this patient have T2 available? True\n",
      "I'm doing the thing.\n"
     ]
    },
    {
     "name": "stderr",
     "output_type": "stream",
     "text": [
      "\r",
      " 14%|█▍        | 89/622 [00:19<01:33,  5.67it/s]"
     ]
    },
    {
     "name": "stdout",
     "output_type": "stream",
     "text": [
      "bone-penn-032\n",
      "Does this patient have T2 available? True\n",
      "I'm doing the thing.\n"
     ]
    },
    {
     "name": "stderr",
     "output_type": "stream",
     "text": [
      "\r",
      " 14%|█▍        | 90/622 [00:19<02:09,  4.12it/s]"
     ]
    },
    {
     "name": "stdout",
     "output_type": "stream",
     "text": [
      "bone-penn-001\n",
      "Does this patient have T2 available? True\n",
      "I'm doing the thing.\n"
     ]
    },
    {
     "name": "stderr",
     "output_type": "stream",
     "text": [
      "\r",
      " 15%|█▍        | 91/622 [00:19<02:02,  4.34it/s]"
     ]
    },
    {
     "name": "stdout",
     "output_type": "stream",
     "text": [
      "bone-penn-529\n",
      "Does this patient have T2 available? True\n",
      "I'm doing the thing.\n"
     ]
    },
    {
     "name": "stderr",
     "output_type": "stream",
     "text": [
      " 15%|█▍        | 93/622 [00:20<01:54,  4.63it/s]"
     ]
    },
    {
     "name": "stdout",
     "output_type": "stream",
     "text": [
      "bone-penn-492\n",
      "Does this patient have T2 available? True\n",
      "I'm doing the thing.\n",
      "bone-penn-587\n",
      "Does this patient have T2 available? True\n",
      "I'm doing the thing.\n"
     ]
    },
    {
     "name": "stderr",
     "output_type": "stream",
     "text": [
      "\r",
      " 15%|█▌        | 94/622 [00:20<01:58,  4.47it/s]"
     ]
    },
    {
     "name": "stdout",
     "output_type": "stream",
     "text": [
      "bone-china-053\n",
      "Does this patient have T2 available? True\n",
      "I'm doing the thing.\n",
      "bone-penn-127\n",
      "Does this patient have T2 available? True\n",
      "I'm doing the thing.\n"
     ]
    },
    {
     "name": "stderr",
     "output_type": "stream",
     "text": [
      "\r",
      " 15%|█▌        | 96/622 [00:20<01:44,  5.04it/s]"
     ]
    },
    {
     "name": "stdout",
     "output_type": "stream",
     "text": [
      "bone-hup-297\n",
      "Does this patient have T2 available? True\n",
      "I'm doing the thing.\n"
     ]
    },
    {
     "name": "stderr",
     "output_type": "stream",
     "text": [
      "\r",
      " 16%|█▌        | 97/622 [00:21<02:58,  2.93it/s]"
     ]
    },
    {
     "name": "stdout",
     "output_type": "stream",
     "text": [
      "bone-hup-290\n",
      "Does this patient have T2 available? True\n",
      "I'm doing the thing.\n"
     ]
    },
    {
     "name": "stderr",
     "output_type": "stream",
     "text": [
      " 16%|█▌        | 99/622 [00:21<02:23,  3.66it/s]"
     ]
    },
    {
     "name": "stdout",
     "output_type": "stream",
     "text": [
      "bone-china-166\n",
      "Does this patient have T2 available? True\n",
      "I'm doing the thing.\n",
      "bone-penn-95\n",
      "Does this patient have T2 available? True\n",
      "I'm doing the thing.\n"
     ]
    },
    {
     "name": "stderr",
     "output_type": "stream",
     "text": [
      "\r",
      " 16%|█▌        | 100/622 [00:22<02:02,  4.25it/s]"
     ]
    },
    {
     "name": "stdout",
     "output_type": "stream",
     "text": [
      "bone-penn-110\n",
      "Does this patient have T2 available? True\n",
      "I'm doing the thing.\n"
     ]
    },
    {
     "name": "stderr",
     "output_type": "stream",
     "text": [
      "\r",
      " 16%|█▌        | 101/622 [00:22<02:22,  3.67it/s]"
     ]
    },
    {
     "name": "stdout",
     "output_type": "stream",
     "text": [
      "bone-hup-305\n",
      "Does this patient have T2 available? True\n",
      "I'm doing the thing.\n"
     ]
    },
    {
     "name": "stderr",
     "output_type": "stream",
     "text": [
      " 17%|█▋        | 104/622 [00:22<02:04,  4.15it/s]"
     ]
    },
    {
     "name": "stdout",
     "output_type": "stream",
     "text": [
      "bone-china-072\n",
      "Does this patient have T2 available? True\n",
      "I'm doing the thing.\n",
      "bone-penn-532\n",
      "Does this patient have T2 available? True\n",
      "I'm doing the thing.\n",
      "bone-china-139\n",
      "Does this patient have T2 available? True\n",
      "I'm doing the thing.\n"
     ]
    },
    {
     "name": "stderr",
     "output_type": "stream",
     "text": [
      "\r",
      " 17%|█▋        | 105/622 [00:23<01:51,  4.65it/s]"
     ]
    },
    {
     "name": "stdout",
     "output_type": "stream",
     "text": [
      "bone-penn-274\n",
      "Does this patient have T2 available? True\n",
      "I'm doing the thing.\n"
     ]
    },
    {
     "name": "stderr",
     "output_type": "stream",
     "text": [
      "\r",
      " 17%|█▋        | 106/622 [00:23<02:34,  3.33it/s]"
     ]
    },
    {
     "name": "stdout",
     "output_type": "stream",
     "text": [
      "bone-china-101\n",
      "Does this patient have T2 available? True\n",
      "I'm doing the thing.\n",
      "bone-penn-299\n",
      "Does this patient have T2 available? True\n",
      "I'm doing the thing.\n"
     ]
    },
    {
     "name": "stderr",
     "output_type": "stream",
     "text": [
      " 18%|█▊        | 109/622 [00:23<01:47,  4.75it/s]"
     ]
    },
    {
     "name": "stdout",
     "output_type": "stream",
     "text": [
      "bone-hup-309\n",
      "Does this patient have T2 available? True\n",
      "I'm doing the thing.\n",
      "bone-penn-490\n",
      "Does this patient have T2 available? True\n",
      "I'm doing the thing.\n"
     ]
    },
    {
     "name": "stderr",
     "output_type": "stream",
     "text": [
      "\r",
      " 18%|█▊        | 110/622 [00:24<02:26,  3.49it/s]"
     ]
    },
    {
     "name": "stdout",
     "output_type": "stream",
     "text": [
      "bone-penn-140\n",
      "Does this patient have T2 available? True\n",
      "I'm doing the thing.\n",
      "bone-hup-3\n",
      "Does this patient have T2 available? True\n",
      "I'm doing the thing.\n"
     ]
    },
    {
     "name": "stderr",
     "output_type": "stream",
     "text": [
      "\r",
      " 18%|█▊        | 112/622 [00:24<02:17,  3.70it/s]"
     ]
    },
    {
     "name": "stdout",
     "output_type": "stream",
     "text": [
      "bone-china-109\n",
      "Does this patient have T2 available? True\n",
      "I'm doing the thing.\n",
      "bone-penn-278\n",
      "Does this patient have T2 available? True\n",
      "I'm doing the thing.\n"
     ]
    },
    {
     "name": "stderr",
     "output_type": "stream",
     "text": [
      "\r",
      " 18%|█▊        | 114/622 [00:25<02:04,  4.08it/s]"
     ]
    },
    {
     "name": "stdout",
     "output_type": "stream",
     "text": [
      "bone-penn-134\n",
      "Does this patient have T2 available? True\n",
      "I'm doing the thing.\n"
     ]
    },
    {
     "name": "stderr",
     "output_type": "stream",
     "text": [
      " 19%|█▊        | 116/622 [00:25<02:00,  4.18it/s]"
     ]
    },
    {
     "name": "stdout",
     "output_type": "stream",
     "text": [
      "bone-china-160\n",
      "Does this patient have T2 available? True\n",
      "I'm doing the thing.\n",
      "bone-penn-067\n",
      "Does this patient have T2 available? True\n",
      "I'm doing the thing.\n",
      "bone-penn-550\n",
      "Does this patient have T2 available? True\n",
      "I'm doing the thing.\n"
     ]
    },
    {
     "name": "stderr",
     "output_type": "stream",
     "text": [
      " 19%|█▉        | 119/622 [00:26<01:42,  4.92it/s]"
     ]
    },
    {
     "name": "stdout",
     "output_type": "stream",
     "text": [
      "bone-china-112\n",
      "Does this patient have T2 available? True\n",
      "I'm doing the thing.\n",
      "bone-penn-487\n",
      "Does this patient have T2 available? True\n",
      "I'm doing the thing.\n"
     ]
    },
    {
     "name": "stderr",
     "output_type": "stream",
     "text": [
      " 19%|█▉        | 121/622 [00:26<02:08,  3.90it/s]"
     ]
    },
    {
     "name": "stdout",
     "output_type": "stream",
     "text": [
      "bone-hup-278\n",
      "Does this patient have T2 available? True\n",
      "I'm doing the thing.\n",
      "bone-penn-435\n",
      "Does this patient have T2 available? True\n",
      "I'm doing the thing.\n"
     ]
    },
    {
     "name": "stderr",
     "output_type": "stream",
     "text": [
      "\r",
      " 20%|█▉        | 122/622 [00:27<01:48,  4.61it/s]"
     ]
    },
    {
     "name": "stdout",
     "output_type": "stream",
     "text": [
      "bone-penn-496\n",
      "Does this patient have T2 available? True\n",
      "I'm doing the thing.\n"
     ]
    },
    {
     "name": "stderr",
     "output_type": "stream",
     "text": [
      " 20%|█▉        | 124/622 [00:27<02:05,  3.96it/s]"
     ]
    },
    {
     "name": "stdout",
     "output_type": "stream",
     "text": [
      "bone-china-026\n",
      "Does this patient have T2 available? True\n",
      "I'm doing the thing.\n",
      "bone-penn-347\n",
      "Does this patient have T2 available? True\n",
      "I'm doing the thing.\n"
     ]
    },
    {
     "name": "stderr",
     "output_type": "stream",
     "text": [
      "\r",
      " 20%|██        | 125/622 [00:27<01:58,  4.21it/s]"
     ]
    },
    {
     "name": "stdout",
     "output_type": "stream",
     "text": [
      "bone-penn-535\n",
      "Does this patient have T2 available? True\n",
      "I'm doing the thing.\n"
     ]
    },
    {
     "name": "stderr",
     "output_type": "stream",
     "text": [
      "\r",
      " 20%|██        | 126/622 [00:28<02:05,  3.95it/s]"
     ]
    },
    {
     "name": "stdout",
     "output_type": "stream",
     "text": [
      "bone-china-070\n",
      "Does this patient have T2 available? True\n",
      "I'm doing the thing.\n",
      "bone-penn-027\n",
      "Does this patient have T2 available? True\n",
      "I'm doing the thing.\n"
     ]
    },
    {
     "name": "stderr",
     "output_type": "stream",
     "text": [
      "\r",
      " 21%|██        | 128/622 [00:28<02:00,  4.11it/s]"
     ]
    },
    {
     "name": "stdout",
     "output_type": "stream",
     "text": [
      "bone-penn-112\n",
      "Does this patient have T2 available? True\n",
      "I'm doing the thing.\n"
     ]
    },
    {
     "name": "stderr",
     "output_type": "stream",
     "text": [
      " 21%|██        | 131/622 [00:30<03:29,  2.34it/s]"
     ]
    },
    {
     "name": "stdout",
     "output_type": "stream",
     "text": [
      "bone-china-117\n",
      "Does this patient have T2 available? True\n",
      "I'm doing the thing.\n",
      "bone-penn-509\n",
      "Does this patient have T2 available? True\n",
      "I'm doing the thing.\n",
      "bone-penn-518\n",
      "Does this patient have T2 available? True\n",
      "I'm doing the thing.\n"
     ]
    },
    {
     "name": "stderr",
     "output_type": "stream",
     "text": [
      "\r",
      " 21%|██        | 132/622 [00:30<03:00,  2.71it/s]"
     ]
    },
    {
     "name": "stdout",
     "output_type": "stream",
     "text": [
      "bone-penn-553\n",
      "Does this patient have T2 available? True\n",
      "I'm doing the thing.\n"
     ]
    },
    {
     "name": "stderr",
     "output_type": "stream",
     "text": [
      " 22%|██▏       | 134/622 [00:30<02:14,  3.63it/s]"
     ]
    },
    {
     "name": "stdout",
     "output_type": "stream",
     "text": [
      "bone-china-110\n",
      "Does this patient have T2 available? True\n",
      "I'm doing the thing.\n",
      "bone-penn-595\n",
      "Does this patient have T2 available? True\n",
      "I'm doing the thing.\n"
     ]
    },
    {
     "name": "stderr",
     "output_type": "stream",
     "text": [
      "\r",
      " 22%|██▏       | 135/622 [00:30<02:01,  4.00it/s]"
     ]
    },
    {
     "name": "stdout",
     "output_type": "stream",
     "text": [
      "bone-china-140\n",
      "Does this patient have T2 available? True\n",
      "I'm doing the thing.\n",
      "bone-penn-070\n",
      "Does this patient have T2 available? True\n",
      "I'm doing the thing.\n"
     ]
    },
    {
     "name": "stderr",
     "output_type": "stream",
     "text": [
      " 22%|██▏       | 138/622 [00:32<02:07,  3.80it/s]"
     ]
    },
    {
     "name": "stdout",
     "output_type": "stream",
     "text": [
      "bone-china-010\n",
      "Does this patient have T2 available? True\n",
      "I'm doing the thing.\n",
      "bone-hup-147\n",
      "Does this patient have T2 available? True\n",
      "I'm doing the thing.\n"
     ]
    },
    {
     "name": "stderr",
     "output_type": "stream",
     "text": [
      " 23%|██▎       | 140/622 [00:32<02:28,  3.24it/s]"
     ]
    },
    {
     "name": "stdout",
     "output_type": "stream",
     "text": [
      "bone-china-044\n",
      "Does this patient have T2 available? True\n",
      "I'm doing the thing.\n",
      "bone-penn-296\n",
      "Does this patient have T2 available? True\n",
      "I'm doing the thing.\n"
     ]
    },
    {
     "name": "stderr",
     "output_type": "stream",
     "text": [
      "\r",
      " 23%|██▎       | 141/622 [00:33<02:38,  3.03it/s]"
     ]
    },
    {
     "name": "stdout",
     "output_type": "stream",
     "text": [
      "bone-penn-541\n",
      "Does this patient have T2 available? True\n",
      "I'm doing the thing.\n",
      "bone-penn-565\n",
      "Does this patient have T2 available? True\n",
      "I'm doing the thing.\n"
     ]
    },
    {
     "name": "stderr",
     "output_type": "stream",
     "text": [
      " 23%|██▎       | 144/622 [00:33<01:55,  4.13it/s]"
     ]
    },
    {
     "name": "stdout",
     "output_type": "stream",
     "text": [
      "bone-china-060\n",
      "Does this patient have T2 available? True\n",
      "I'm doing the thing.\n",
      "bone-penn-369\n",
      "Does this patient have T2 available? True\n",
      "I'm doing the thing.\n"
     ]
    },
    {
     "name": "stderr",
     "output_type": "stream",
     "text": [
      "\r",
      " 23%|██▎       | 145/622 [00:33<01:38,  4.85it/s]"
     ]
    },
    {
     "name": "stdout",
     "output_type": "stream",
     "text": [
      "bone-penn-150\n",
      "Does this patient have T2 available? True\n",
      "I'm doing the thing.\n"
     ]
    },
    {
     "name": "stderr",
     "output_type": "stream",
     "text": [
      " 24%|██▎       | 147/622 [00:34<01:29,  5.32it/s]"
     ]
    },
    {
     "name": "stdout",
     "output_type": "stream",
     "text": [
      "bone-china-168\n",
      "Does this patient have T2 available? True\n",
      "I'm doing the thing.\n",
      "bone-china-144\n",
      "Does this patient have T2 available? True\n",
      "I'm doing the thing.\n",
      "bone-hup-321\n",
      "Does this patient have T2 available? True\n",
      "I'm doing the thing.\n"
     ]
    },
    {
     "name": "stderr",
     "output_type": "stream",
     "text": [
      " 24%|██▍       | 150/622 [00:34<01:22,  5.74it/s]"
     ]
    },
    {
     "name": "stdout",
     "output_type": "stream",
     "text": [
      "bone-china-037\n",
      "Does this patient have T2 available? True\n",
      "I'm doing the thing.\n",
      "bone-china-009\n",
      "Does this patient have T2 available? True\n",
      "I'm doing the thing.\n"
     ]
    },
    {
     "name": "stderr",
     "output_type": "stream",
     "text": [
      "\r",
      " 24%|██▍       | 152/622 [00:35<01:13,  6.42it/s]"
     ]
    },
    {
     "name": "stdout",
     "output_type": "stream",
     "text": [
      "bone-hup-293\n",
      "Does this patient have T2 available? True\n",
      "I'm doing the thing.\n",
      "bone-penn-028\n",
      "Does this patient have T2 available? True\n",
      "I'm doing the thing.\n"
     ]
    },
    {
     "name": "stderr",
     "output_type": "stream",
     "text": [
      "\r",
      " 25%|██▍       | 153/622 [00:35<01:11,  6.58it/s]"
     ]
    },
    {
     "name": "stdout",
     "output_type": "stream",
     "text": [
      "bone-china-085\n",
      "Does this patient have T2 available? True\n",
      "I'm doing the thing.\n",
      "bone-china-115\n",
      "Does this patient have T2 available? True\n",
      "I'm doing the thing.\n"
     ]
    },
    {
     "name": "stderr",
     "output_type": "stream",
     "text": [
      " 25%|██▌       | 156/622 [00:35<00:59,  7.80it/s]"
     ]
    },
    {
     "name": "stdout",
     "output_type": "stream",
     "text": [
      "bone-penn-317\n",
      "Does this patient have T2 available? True\n",
      "I'm doing the thing.\n",
      "bone-china-103\n",
      "Does this patient have T2 available? True\n",
      "I'm doing the thing.\n"
     ]
    },
    {
     "name": "stderr",
     "output_type": "stream",
     "text": [
      " 25%|██▌       | 158/622 [00:35<01:00,  7.62it/s]"
     ]
    },
    {
     "name": "stdout",
     "output_type": "stream",
     "text": [
      "bone-china-034\n",
      "Does this patient have T2 available? True\n",
      "I'm doing the thing.\n",
      "bone-hup-146\n",
      "Does this patient have T2 available? True\n",
      "I'm doing the thing.\n",
      "bone-penn-152\n",
      "Does this patient have T2 available? True\n",
      "I'm doing the thing.\n"
     ]
    },
    {
     "name": "stderr",
     "output_type": "stream",
     "text": [
      " 26%|██▌       | 161/622 [00:36<01:01,  7.48it/s]"
     ]
    },
    {
     "name": "stdout",
     "output_type": "stream",
     "text": [
      "bone-penn-275\n",
      "Does this patient have T2 available? True\n",
      "I'm doing the thing.\n",
      "bone-hup-275\n",
      "Does this patient have T2 available? True\n",
      "I'm doing the thing.\n"
     ]
    },
    {
     "name": "stderr",
     "output_type": "stream",
     "text": [
      " 26%|██▋       | 164/622 [00:37<01:50,  4.16it/s]"
     ]
    },
    {
     "name": "stdout",
     "output_type": "stream",
     "text": [
      "bone-china-100\n",
      "Does this patient have T2 available? True\n",
      "I'm doing the thing.\n",
      "bone-penn-042\n",
      "Does this patient have T2 available? True\n",
      "I'm doing the thing.\n",
      "bone-china-154\n",
      "Does this patient have T2 available? True\n",
      "I'm doing the thing.\n",
      "bone-penn-96\n",
      "Does this patient have T2 available? True\n",
      "I'm doing the thing.\n"
     ]
    },
    {
     "name": "stderr",
     "output_type": "stream",
     "text": [
      "\r",
      " 27%|██▋       | 166/622 [00:37<01:57,  3.90it/s]"
     ]
    },
    {
     "name": "stdout",
     "output_type": "stream",
     "text": [
      "bone-penn-527\n",
      "Does this patient have T2 available? True\n",
      "I'm doing the thing.\n"
     ]
    },
    {
     "name": "stderr",
     "output_type": "stream",
     "text": [
      "\r",
      " 27%|██▋       | 167/622 [00:37<01:49,  4.15it/s]"
     ]
    },
    {
     "name": "stdout",
     "output_type": "stream",
     "text": [
      "bone-penn-004\n",
      "Does this patient have T2 available? True\n",
      "I'm doing the thing.\n"
     ]
    },
    {
     "name": "stderr",
     "output_type": "stream",
     "text": [
      "\r",
      " 27%|██▋       | 168/622 [00:38<02:16,  3.33it/s]"
     ]
    },
    {
     "name": "stdout",
     "output_type": "stream",
     "text": [
      "bone-penn-108\n",
      "Does this patient have T2 available? True\n",
      "I'm doing the thing.\n"
     ]
    },
    {
     "name": "stderr",
     "output_type": "stream",
     "text": [
      " 27%|██▋       | 170/622 [00:39<02:16,  3.31it/s]"
     ]
    },
    {
     "name": "stdout",
     "output_type": "stream",
     "text": [
      "bone-china-035\n",
      "Does this patient have T2 available? True\n",
      "I'm doing the thing.\n",
      "bone-penn-051\n",
      "Does this patient have T2 available? True\n",
      "I'm doing the thing.\n"
     ]
    },
    {
     "name": "stderr",
     "output_type": "stream",
     "text": [
      "\r",
      " 27%|██▋       | 171/622 [00:39<01:57,  3.82it/s]"
     ]
    },
    {
     "name": "stdout",
     "output_type": "stream",
     "text": [
      "bone-penn-612\n",
      "Does this patient have T2 available? True\n",
      "I'm doing the thing.\n"
     ]
    },
    {
     "name": "stderr",
     "output_type": "stream",
     "text": [
      "\r",
      " 28%|██▊       | 172/622 [00:39<02:59,  2.51it/s]"
     ]
    },
    {
     "name": "stdout",
     "output_type": "stream",
     "text": [
      "bone-penn-502\n",
      "Does this patient have T2 available? True\n",
      "I'm doing the thing.\n"
     ]
    },
    {
     "name": "stderr",
     "output_type": "stream",
     "text": [
      "\r",
      " 28%|██▊       | 173/622 [00:40<03:33,  2.10it/s]"
     ]
    },
    {
     "name": "stdout",
     "output_type": "stream",
     "text": [
      "bone-penn-97\n",
      "Does this patient have T2 available? True\n",
      "I'm doing the thing.\n"
     ]
    },
    {
     "name": "stderr",
     "output_type": "stream",
     "text": [
      " 28%|██▊       | 175/622 [00:41<02:46,  2.69it/s]"
     ]
    },
    {
     "name": "stdout",
     "output_type": "stream",
     "text": [
      "bone-china-073\n",
      "Does this patient have T2 available? True\n",
      "I'm doing the thing.\n",
      "bone-china-173\n",
      "Does this patient have T2 available? True\n",
      "I'm doing the thing.\n"
     ]
    },
    {
     "name": "stderr",
     "output_type": "stream",
     "text": [
      "\r",
      " 28%|██▊       | 177/622 [00:41<02:06,  3.52it/s]"
     ]
    },
    {
     "name": "stdout",
     "output_type": "stream",
     "text": [
      "bone-penn-549\n",
      "Does this patient have T2 available? True\n",
      "I'm doing the thing.\n",
      "bone-penn-349\n",
      "Does this patient have T2 available? True\n",
      "I'm doing the thing.\n"
     ]
    },
    {
     "name": "stderr",
     "output_type": "stream",
     "text": [
      "\r",
      " 29%|██▊       | 178/622 [00:41<01:50,  4.04it/s]"
     ]
    },
    {
     "name": "stdout",
     "output_type": "stream",
     "text": [
      "bone-penn-456\n",
      "Does this patient have T2 available? True\n",
      "I'm doing the thing.\n"
     ]
    },
    {
     "name": "stderr",
     "output_type": "stream",
     "text": [
      "\r",
      " 29%|██▉       | 179/622 [00:41<01:59,  3.70it/s]"
     ]
    },
    {
     "name": "stdout",
     "output_type": "stream",
     "text": [
      "bone-hup-267\n",
      "Does this patient have T2 available? True\n",
      "I'm doing the thing.\n"
     ]
    },
    {
     "name": "stderr",
     "output_type": "stream",
     "text": [
      " 29%|██▉       | 181/622 [00:42<01:35,  4.63it/s]"
     ]
    },
    {
     "name": "stdout",
     "output_type": "stream",
     "text": [
      "bone-china-135\n",
      "Does this patient have T2 available? True\n",
      "I'm doing the thing.\n",
      "bone-hup-291\n",
      "Does this patient have T2 available? True\n",
      "I'm doing the thing.\n"
     ]
    },
    {
     "name": "stderr",
     "output_type": "stream",
     "text": [
      "\r",
      " 29%|██▉       | 182/622 [00:42<01:23,  5.29it/s]"
     ]
    },
    {
     "name": "stdout",
     "output_type": "stream",
     "text": [
      "bone-penn-575\n",
      "Does this patient have T2 available? True\n",
      "I'm doing the thing.\n"
     ]
    },
    {
     "name": "stderr",
     "output_type": "stream",
     "text": [
      "\r",
      " 29%|██▉       | 183/622 [00:42<01:41,  4.31it/s]"
     ]
    },
    {
     "name": "stdout",
     "output_type": "stream",
     "text": [
      "bone-hup-276\n",
      "Does this patient have T2 available? True\n",
      "I'm doing the thing.\n",
      "bone-penn-99\n",
      "Does this patient have T2 available? True\n",
      "I'm doing the thing.\n"
     ]
    },
    {
     "name": "stderr",
     "output_type": "stream",
     "text": [
      " 30%|██▉       | 186/622 [00:43<01:33,  4.65it/s]"
     ]
    },
    {
     "name": "stdout",
     "output_type": "stream",
     "text": [
      "bone-penn-568\n",
      "Does this patient have T2 available? True\n",
      "I'm doing the thing.\n",
      "bone-china-041\n",
      "Does this patient have T2 available? True\n",
      "I'm doing the thing.\n"
     ]
    },
    {
     "name": "stderr",
     "output_type": "stream",
     "text": [
      " 30%|███       | 189/622 [00:43<01:06,  6.47it/s]"
     ]
    },
    {
     "name": "stdout",
     "output_type": "stream",
     "text": [
      "bone-china-029\n",
      "Does this patient have T2 available? True\n",
      "I'm doing the thing.\n",
      "bone-china-158\n",
      "Does this patient have T2 available? True\n",
      "I'm doing the thing.\n",
      "bone-china-132\n",
      "Does this patient have T2 available? True\n",
      "I'm doing the thing.\n"
     ]
    },
    {
     "name": "stderr",
     "output_type": "stream",
     "text": [
      " 31%|███       | 191/622 [00:43<00:59,  7.29it/s]"
     ]
    },
    {
     "name": "stdout",
     "output_type": "stream",
     "text": [
      "bone-hup-119\n",
      "Does this patient have T2 available? True\n",
      "I'm doing the thing.\n",
      "bone-hup-154\n",
      "Does this patient have T2 available? True\n",
      "I'm doing the thing.\n"
     ]
    },
    {
     "name": "stderr",
     "output_type": "stream",
     "text": [
      "\r",
      " 31%|███       | 192/622 [00:43<01:08,  6.30it/s]"
     ]
    },
    {
     "name": "stdout",
     "output_type": "stream",
     "text": [
      "bone-penn-571\n",
      "Does this patient have T2 available? True\n",
      "I'm doing the thing.\n"
     ]
    },
    {
     "name": "stderr",
     "output_type": "stream",
     "text": [
      " 31%|███       | 194/622 [00:44<01:14,  5.73it/s]"
     ]
    },
    {
     "name": "stdout",
     "output_type": "stream",
     "text": [
      "bone-penn-413\n",
      "Does this patient have T2 available? True\n",
      "I'm doing the thing.\n",
      "bone-china-092\n",
      "Does this patient have T2 available? True\n",
      "I'm doing the thing.\n",
      "bone-china-086\n",
      "Does this patient have T2 available? True\n",
      "I'm doing the thing.\n"
     ]
    },
    {
     "name": "stderr",
     "output_type": "stream",
     "text": [
      "\r",
      " 32%|███▏      | 196/622 [00:44<01:02,  6.77it/s]"
     ]
    },
    {
     "name": "stdout",
     "output_type": "stream",
     "text": [
      "bone-penn-304\n",
      "Does this patient have T2 available? True\n",
      "I'm doing the thing.\n"
     ]
    },
    {
     "name": "stderr",
     "output_type": "stream",
     "text": [
      " 32%|███▏      | 198/622 [00:44<01:07,  6.26it/s]"
     ]
    },
    {
     "name": "stdout",
     "output_type": "stream",
     "text": [
      "bone-china-119\n",
      "Does this patient have T2 available? True\n",
      "I'm doing the thing.\n",
      "bone-penn-286\n",
      "Does this patient have T2 available? True\n",
      "I'm doing the thing.\n"
     ]
    },
    {
     "name": "stderr",
     "output_type": "stream",
     "text": [
      " 32%|███▏      | 200/622 [00:45<01:09,  6.07it/s]"
     ]
    },
    {
     "name": "stdout",
     "output_type": "stream",
     "text": [
      "bone-china-126\n",
      "Does this patient have T2 available? True\n",
      "I'm doing the thing.\n",
      "bone-china-045\n",
      "Does this patient have T2 available? True\n",
      "I'm doing the thing.\n"
     ]
    },
    {
     "name": "stderr",
     "output_type": "stream",
     "text": [
      "\r",
      " 32%|███▏      | 202/622 [00:45<01:02,  6.77it/s]"
     ]
    },
    {
     "name": "stdout",
     "output_type": "stream",
     "text": [
      "bone-penn-320\n",
      "Does this patient have T2 available? True\n",
      "I'm doing the thing.\n",
      "bone-penn-501\n",
      "Does this patient have T2 available? True\n",
      "I'm doing the thing.\n"
     ]
    },
    {
     "name": "stderr",
     "output_type": "stream",
     "text": [
      "\r",
      " 33%|███▎      | 203/622 [00:45<00:56,  7.36it/s]"
     ]
    },
    {
     "name": "stdout",
     "output_type": "stream",
     "text": [
      "bone-penn-480\n",
      "Does this patient have T2 available? True\n",
      "I'm doing the thing.\n"
     ]
    },
    {
     "name": "stderr",
     "output_type": "stream",
     "text": [
      " 33%|███▎      | 205/622 [00:45<00:59,  7.03it/s]"
     ]
    },
    {
     "name": "stdout",
     "output_type": "stream",
     "text": [
      "bone-penn-154\n",
      "Does this patient have T2 available? True\n",
      "I'm doing the thing.\n",
      "bone-penn-141\n",
      "Does this patient have T2 available? True\n",
      "I'm doing the thing.\n"
     ]
    },
    {
     "name": "stderr",
     "output_type": "stream",
     "text": [
      "\r",
      " 33%|███▎      | 206/622 [00:46<01:01,  6.79it/s]"
     ]
    },
    {
     "name": "stdout",
     "output_type": "stream",
     "text": [
      "bone-penn-401\n",
      "Does this patient have T2 available? True\n",
      "I'm doing the thing.\n"
     ]
    },
    {
     "name": "stderr",
     "output_type": "stream",
     "text": [
      " 33%|███▎      | 208/622 [00:46<01:24,  4.92it/s]"
     ]
    },
    {
     "name": "stdout",
     "output_type": "stream",
     "text": [
      "bone-china-091\n",
      "Does this patient have T2 available? True\n",
      "I'm doing the thing.\n",
      "bone-china-134\n",
      "Does this patient have T2 available? True\n",
      "I'm doing the thing.\n"
     ]
    },
    {
     "name": "stderr",
     "output_type": "stream",
     "text": [
      " 34%|███▍      | 211/622 [00:46<01:02,  6.57it/s]"
     ]
    },
    {
     "name": "stdout",
     "output_type": "stream",
     "text": [
      "bone-penn-348\n",
      "Does this patient have T2 available? True\n",
      "I'm doing the thing.\n",
      "bone-china-116\n",
      "Does this patient have T2 available? True\n",
      "I'm doing the thing.\n",
      "bone-penn-488\n",
      "Does this patient have T2 available? True\n",
      "I'm doing the thing.\n",
      "bone-penn-556\n",
      "Does this patient have T2 available? True\n",
      "I'm doing the thing.\n"
     ]
    },
    {
     "name": "stderr",
     "output_type": "stream",
     "text": [
      " 34%|███▍      | 214/622 [00:47<00:56,  7.25it/s]"
     ]
    },
    {
     "name": "stdout",
     "output_type": "stream",
     "text": [
      "bone-china-147\n",
      "Does this patient have T2 available? True\n",
      "I'm doing the thing.\n",
      "bone-china-066\n",
      "Does this patient have T2 available? True\n",
      "I'm doing the thing.\n"
     ]
    },
    {
     "name": "stderr",
     "output_type": "stream",
     "text": [
      "\r",
      " 35%|███▍      | 216/622 [00:47<00:50,  8.08it/s]"
     ]
    },
    {
     "name": "stdout",
     "output_type": "stream",
     "text": [
      "bone-china-075\n",
      "Does this patient have T2 available? True\n",
      "I'm doing the thing.\n",
      "bone-china-074\n",
      "Does this patient have T2 available? True\n",
      "I'm doing the thing.\n"
     ]
    },
    {
     "name": "stderr",
     "output_type": "stream",
     "text": [
      "\r",
      " 35%|███▍      | 217/622 [00:47<00:53,  7.53it/s]"
     ]
    },
    {
     "name": "stdout",
     "output_type": "stream",
     "text": [
      "bone-penn-101\n",
      "Does this patient have T2 available? True\n",
      "I'm doing the thing.\n"
     ]
    },
    {
     "name": "stderr",
     "output_type": "stream",
     "text": [
      " 35%|███▌      | 219/622 [00:47<01:02,  6.43it/s]"
     ]
    },
    {
     "name": "stdout",
     "output_type": "stream",
     "text": [
      "bone-penn-057\n",
      "Does this patient have T2 available? True\n",
      "I'm doing the thing.\n",
      "bone-china-123\n",
      "Does this patient have T2 available? True\n",
      "I'm doing the thing.\n"
     ]
    },
    {
     "name": "stderr",
     "output_type": "stream",
     "text": [
      " 36%|███▌      | 221/622 [00:48<01:00,  6.66it/s]"
     ]
    },
    {
     "name": "stdout",
     "output_type": "stream",
     "text": [
      "bone-penn-459\n",
      "Does this patient have T2 available? True\n",
      "I'm doing the thing.\n",
      "bone-china-006\n",
      "Does this patient have T2 available? True\n",
      "I'm doing the thing.\n"
     ]
    },
    {
     "name": "stderr",
     "output_type": "stream",
     "text": [
      "\r",
      " 36%|███▌      | 222/622 [00:48<00:55,  7.20it/s]"
     ]
    },
    {
     "name": "stdout",
     "output_type": "stream",
     "text": [
      "bone-penn-334\n",
      "Does this patient have T2 available? True\n",
      "I'm doing the thing.\n"
     ]
    },
    {
     "name": "stderr",
     "output_type": "stream",
     "text": [
      " 36%|███▌      | 224/622 [00:49<01:31,  4.35it/s]"
     ]
    },
    {
     "name": "stdout",
     "output_type": "stream",
     "text": [
      "bone-china-016\n",
      "Does this patient have T2 available? True\n",
      "I'm doing the thing.\n",
      "bone-penn-516\n",
      "Does this patient have T2 available? True\n",
      "I'm doing the thing.\n"
     ]
    },
    {
     "name": "stderr",
     "output_type": "stream",
     "text": [
      "\r",
      " 36%|███▌      | 225/622 [00:49<01:46,  3.74it/s]"
     ]
    },
    {
     "name": "stdout",
     "output_type": "stream",
     "text": [
      "bone-penn-062\n",
      "Does this patient have T2 available? True\n",
      "I'm doing the thing.\n"
     ]
    },
    {
     "name": "stderr",
     "output_type": "stream",
     "text": [
      "\r",
      " 36%|███▋      | 226/622 [00:50<02:56,  2.25it/s]"
     ]
    },
    {
     "name": "stdout",
     "output_type": "stream",
     "text": [
      "bone-hup-266\n",
      "Does this patient have T2 available? True\n",
      "I'm doing the thing.\n"
     ]
    },
    {
     "name": "stderr",
     "output_type": "stream",
     "text": [
      " 37%|███▋      | 228/622 [00:50<02:01,  3.25it/s]"
     ]
    },
    {
     "name": "stdout",
     "output_type": "stream",
     "text": [
      "bone-penn-471\n",
      "Does this patient have T2 available? True\n",
      "I'm doing the thing.\n",
      "bone-penn-593\n",
      "Does this patient have T2 available? True\n",
      "I'm doing the thing.\n",
      "bone-china-022\n",
      "Does this patient have T2 available? True\n",
      "I'm doing the thing.\n"
     ]
    },
    {
     "name": "stderr",
     "output_type": "stream",
     "text": [
      " 37%|███▋      | 231/622 [00:50<01:20,  4.88it/s]"
     ]
    },
    {
     "name": "stdout",
     "output_type": "stream",
     "text": [
      "bone-penn-303\n",
      "Does this patient have T2 available? True\n",
      "I'm doing the thing.\n",
      "bone-china-083\n",
      "Does this patient have T2 available? True\n",
      "I'm doing the thing.\n"
     ]
    },
    {
     "name": "stderr",
     "output_type": "stream",
     "text": [
      " 38%|███▊      | 234/622 [00:51<00:58,  6.67it/s]"
     ]
    },
    {
     "name": "stdout",
     "output_type": "stream",
     "text": [
      "bone-china-099\n",
      "Does this patient have T2 available? True\n",
      "I'm doing the thing.\n",
      "bone-penn-528\n",
      "Does this patient have T2 available? True\n",
      "I'm doing the thing.\n",
      "bone-penn-149\n",
      "Does this patient have T2 available? True\n",
      "I'm doing the thing.\n"
     ]
    },
    {
     "name": "stderr",
     "output_type": "stream",
     "text": [
      " 38%|███▊      | 236/622 [00:51<01:02,  6.14it/s]"
     ]
    },
    {
     "name": "stdout",
     "output_type": "stream",
     "text": [
      "bone-china-121\n",
      "Does this patient have T2 available? True\n",
      "I'm doing the thing.\n",
      "bone-penn-159\n",
      "Does this patient have T2 available? True\n",
      "I'm doing the thing.\n"
     ]
    },
    {
     "name": "stderr",
     "output_type": "stream",
     "text": [
      " 38%|███▊      | 238/622 [00:52<01:12,  5.31it/s]"
     ]
    },
    {
     "name": "stdout",
     "output_type": "stream",
     "text": [
      "bone-hup-274\n",
      "Does this patient have T2 available? True\n",
      "I'm doing the thing.\n",
      "bone-hup-328\n",
      "Does this patient have T2 available? True\n",
      "I'm doing the thing.\n"
     ]
    },
    {
     "name": "stderr",
     "output_type": "stream",
     "text": [
      "\r",
      " 38%|███▊      | 239/622 [00:52<02:02,  3.14it/s]"
     ]
    },
    {
     "name": "stdout",
     "output_type": "stream",
     "text": [
      "bone-hup-142\n",
      "Does this patient have T2 available? True\n",
      "I'm doing the thing.\n"
     ]
    },
    {
     "name": "stderr",
     "output_type": "stream",
     "text": [
      "\r",
      " 39%|███▊      | 240/622 [00:52<01:54,  3.34it/s]"
     ]
    },
    {
     "name": "stdout",
     "output_type": "stream",
     "text": [
      "bone-penn-87\n",
      "Does this patient have T2 available? True\n",
      "I'm doing the thing.\n"
     ]
    },
    {
     "name": "stderr",
     "output_type": "stream",
     "text": [
      " 39%|███▉      | 242/622 [00:53<01:37,  3.88it/s]"
     ]
    },
    {
     "name": "stdout",
     "output_type": "stream",
     "text": [
      "bone-china-071\n",
      "Does this patient have T2 available? True\n",
      "I'm doing the thing.\n",
      "bone-penn-592\n",
      "Does this patient have T2 available? True\n",
      "I'm doing the thing.\n"
     ]
    },
    {
     "name": "stderr",
     "output_type": "stream",
     "text": [
      "\r",
      " 39%|███▉      | 243/622 [00:53<01:20,  4.72it/s]"
     ]
    },
    {
     "name": "stdout",
     "output_type": "stream",
     "text": [
      "bone-penn-498\n",
      "Does this patient have T2 available? True\n",
      "I'm doing the thing.\n",
      "bone-china-088\n",
      "Does this patient have T2 available? True\n",
      "I'm doing the thing.\n"
     ]
    },
    {
     "name": "stderr",
     "output_type": "stream",
     "text": [
      " 40%|███▉      | 246/622 [00:53<01:01,  6.11it/s]"
     ]
    },
    {
     "name": "stdout",
     "output_type": "stream",
     "text": [
      "bone-china-042\n",
      "Does this patient have T2 available? True\n",
      "I'm doing the thing.\n",
      "bone-hup-129\n",
      "Does this patient have T2 available? True\n",
      "I'm doing the thing.\n"
     ]
    },
    {
     "name": "stderr",
     "output_type": "stream",
     "text": [
      " 40%|███▉      | 248/622 [00:54<01:24,  4.45it/s]"
     ]
    },
    {
     "name": "stdout",
     "output_type": "stream",
     "text": [
      "bone-china-153\n",
      "Does this patient have T2 available? True\n",
      "I'm doing the thing.\n",
      "bone-penn-137\n",
      "Does this patient have T2 available? True\n",
      "I'm doing the thing.\n"
     ]
    },
    {
     "name": "stderr",
     "output_type": "stream",
     "text": [
      "\r",
      " 40%|████      | 249/622 [00:54<01:32,  4.03it/s]"
     ]
    },
    {
     "name": "stdout",
     "output_type": "stream",
     "text": [
      "bone-penn-508\n",
      "Does this patient have T2 available? True\n",
      "I'm doing the thing.\n"
     ]
    },
    {
     "name": "stderr",
     "output_type": "stream",
     "text": [
      "\r",
      " 40%|████      | 250/622 [00:54<01:27,  4.26it/s]"
     ]
    },
    {
     "name": "stdout",
     "output_type": "stream",
     "text": [
      "bone-penn-538\n",
      "Does this patient have T2 available? True\n",
      "I'm doing the thing.\n"
     ]
    },
    {
     "name": "stderr",
     "output_type": "stream",
     "text": [
      "\r",
      " 40%|████      | 251/622 [00:55<01:48,  3.41it/s]"
     ]
    },
    {
     "name": "stdout",
     "output_type": "stream",
     "text": [
      "bone-china-014\n",
      "Does this patient have T2 available? True\n",
      "I'm doing the thing.\n",
      "bone-penn-589\n",
      "Does this patient have T2 available? True\n",
      "I'm doing the thing.\n"
     ]
    },
    {
     "name": "stderr",
     "output_type": "stream",
     "text": [
      " 41%|████      | 254/622 [00:55<01:25,  4.32it/s]"
     ]
    },
    {
     "name": "stdout",
     "output_type": "stream",
     "text": [
      "bone-penn-446\n",
      "Does this patient have T2 available? True\n",
      "I'm doing the thing.\n",
      "bone-china-080\n",
      "Does this patient have T2 available? True\n",
      "I'm doing the thing.\n"
     ]
    },
    {
     "name": "stderr",
     "output_type": "stream",
     "text": [
      " 41%|████      | 256/622 [00:56<01:01,  5.92it/s]"
     ]
    },
    {
     "name": "stdout",
     "output_type": "stream",
     "text": [
      "bone-china-087\n",
      "Does this patient have T2 available? True\n",
      "I'm doing the thing.\n",
      "bone-penn-111\n",
      "Does this patient have T2 available? True\n",
      "I'm doing the thing.\n"
     ]
    },
    {
     "name": "stderr",
     "output_type": "stream",
     "text": [
      " 41%|████▏     | 258/622 [00:56<01:02,  5.83it/s]"
     ]
    },
    {
     "name": "stdout",
     "output_type": "stream",
     "text": [
      "bone-hup-330\n",
      "Does this patient have T2 available? True\n",
      "I'm doing the thing.\n",
      "bone-china-131\n",
      "Does this patient have T2 available? True\n",
      "I'm doing the thing.\n",
      "bone-china-143\n",
      "Does this patient have T2 available? True\n",
      "I'm doing the thing.\n"
     ]
    },
    {
     "name": "stderr",
     "output_type": "stream",
     "text": [
      " 42%|████▏     | 261/622 [00:56<00:55,  6.48it/s]"
     ]
    },
    {
     "name": "stdout",
     "output_type": "stream",
     "text": [
      "bone-china-104\n",
      "Does this patient have T2 available? True\n",
      "I'm doing the thing.\n",
      "bone-china-155\n",
      "Does this patient have T2 available? True\n",
      "I'm doing the thing.\n"
     ]
    },
    {
     "name": "stderr",
     "output_type": "stream",
     "text": [
      "\r",
      " 42%|████▏     | 263/622 [00:57<00:48,  7.41it/s]"
     ]
    },
    {
     "name": "stdout",
     "output_type": "stream",
     "text": [
      "bone-penn-504\n",
      "Does this patient have T2 available? True\n",
      "I'm doing the thing.\n",
      "bone-china-027\n",
      "Does this patient have T2 available? True\n",
      "I'm doing the thing.\n",
      "bone-hup-257\n",
      "Does this patient have T2 available? True\n",
      "I'm doing the thing.\n"
     ]
    },
    {
     "name": "stderr",
     "output_type": "stream",
     "text": [
      "\r",
      " 43%|████▎     | 265/622 [00:57<00:40,  8.82it/s]"
     ]
    },
    {
     "name": "stdout",
     "output_type": "stream",
     "text": [
      "bone-china-129\n",
      "Does this patient have T2 available? True\n",
      "I'm doing the thing.\n",
      "bone-penn-045\n",
      "Does this patient have T2 available? True\n",
      "I'm doing the thing.\n"
     ]
    },
    {
     "name": "stderr",
     "output_type": "stream",
     "text": [
      "\r",
      " 43%|████▎     | 267/622 [00:57<00:41,  8.56it/s]"
     ]
    },
    {
     "name": "stdout",
     "output_type": "stream",
     "text": [
      "bone-china-084\n",
      "Does this patient have T2 available? True\n",
      "I'm doing the thing.\n",
      "bone-hup-327\n",
      "Does this patient have T2 available? True\n",
      "I'm doing the thing.\n"
     ]
    },
    {
     "name": "stderr",
     "output_type": "stream",
     "text": [
      "\r",
      " 43%|████▎     | 269/622 [00:57<00:42,  8.40it/s]"
     ]
    },
    {
     "name": "stdout",
     "output_type": "stream",
     "text": [
      "bone-penn-313\n",
      "Does this patient have T2 available? True\n",
      "I'm doing the thing.\n"
     ]
    },
    {
     "name": "stderr",
     "output_type": "stream",
     "text": [
      "\r",
      " 43%|████▎     | 270/622 [00:58<01:04,  5.42it/s]"
     ]
    },
    {
     "name": "stdout",
     "output_type": "stream",
     "text": [
      "bone-hup-292\n",
      "Does this patient have T2 available? True\n",
      "I'm doing the thing.\n"
     ]
    },
    {
     "name": "stderr",
     "output_type": "stream",
     "text": [
      "\r",
      " 44%|████▎     | 271/622 [00:58<01:12,  4.85it/s]"
     ]
    },
    {
     "name": "stdout",
     "output_type": "stream",
     "text": [
      "bone-penn-506\n",
      "Does this patient have T2 available? True\n",
      "I'm doing the thing.\n"
     ]
    },
    {
     "name": "stderr",
     "output_type": "stream",
     "text": [
      " 44%|████▍     | 273/622 [00:58<01:16,  4.54it/s]"
     ]
    },
    {
     "name": "stdout",
     "output_type": "stream",
     "text": [
      "bone-penn-586\n",
      "Does this patient have T2 available? True\n",
      "I'm doing the thing.\n",
      "bone-china-138\n",
      "Does this patient have T2 available? True\n",
      "I'm doing the thing.\n"
     ]
    },
    {
     "name": "stderr",
     "output_type": "stream",
     "text": [
      "\r",
      " 44%|████▍     | 274/622 [00:58<01:11,  4.90it/s]"
     ]
    },
    {
     "name": "stdout",
     "output_type": "stream",
     "text": [
      "bone-hup-161\n",
      "Does this patient have T2 available? True\n",
      "I'm doing the thing.\n",
      "bone-hup-310\n",
      "Does this patient have T2 available? True\n",
      "I'm doing the thing.\n"
     ]
    },
    {
     "name": "stderr",
     "output_type": "stream",
     "text": [
      "\r",
      " 44%|████▍     | 276/622 [00:59<01:00,  5.68it/s]"
     ]
    },
    {
     "name": "stdout",
     "output_type": "stream",
     "text": [
      "bone-china-017\n",
      "Does this patient have T2 available? True\n",
      "I'm doing the thing.\n",
      "bone-penn-382\n",
      "Does this patient have T2 available? True\n",
      "I'm doing the thing.\n"
     ]
    },
    {
     "name": "stderr",
     "output_type": "stream",
     "text": [
      "\r",
      " 45%|████▍     | 278/622 [00:59<00:54,  6.33it/s]"
     ]
    },
    {
     "name": "stdout",
     "output_type": "stream",
     "text": [
      "bone-hup-122\n",
      "Does this patient have T2 available? True\n",
      "I'm doing the thing.\n",
      "bone-hup-126\n",
      "Does this patient have T2 available? True\n",
      "I'm doing the thing.\n"
     ]
    },
    {
     "name": "stderr",
     "output_type": "stream",
     "text": [
      " 45%|████▌     | 281/622 [01:00<01:00,  5.59it/s]"
     ]
    },
    {
     "name": "stdout",
     "output_type": "stream",
     "text": [
      "bone-hup-298\n",
      "Does this patient have T2 available? True\n",
      "I'm doing the thing.\n",
      "bone-china-049\n",
      "Does this patient have T2 available? True\n",
      "I'm doing the thing.\n"
     ]
    },
    {
     "name": "stderr",
     "output_type": "stream",
     "text": [
      "\r",
      " 45%|████▌     | 283/622 [01:00<00:54,  6.22it/s]"
     ]
    },
    {
     "name": "stdout",
     "output_type": "stream",
     "text": [
      "bone-hup-306\n",
      "Does this patient have T2 available? True\n",
      "I'm doing the thing.\n",
      "bone-hup-295\n",
      "Does this patient have T2 available? True\n",
      "I'm doing the thing.\n"
     ]
    },
    {
     "name": "stderr",
     "output_type": "stream",
     "text": [
      "\r",
      " 46%|████▌     | 284/622 [01:00<01:31,  3.70it/s]"
     ]
    },
    {
     "name": "stdout",
     "output_type": "stream",
     "text": [
      "bone-penn-289\n",
      "Does this patient have T2 available? True\n",
      "I'm doing the thing.\n"
     ]
    },
    {
     "name": "stderr",
     "output_type": "stream",
     "text": [
      "\r",
      " 46%|████▌     | 285/622 [01:01<01:33,  3.61it/s]"
     ]
    },
    {
     "name": "stdout",
     "output_type": "stream",
     "text": [
      "bone-china-059\n",
      "Does this patient have T2 available? True\n",
      "I'm doing the thing.\n",
      "bone-china-118\n",
      "Does this patient have T2 available? True\n",
      "I'm doing the thing.\n"
     ]
    },
    {
     "name": "stderr",
     "output_type": "stream",
     "text": [
      "\r",
      " 46%|████▌     | 287/622 [01:01<01:17,  4.33it/s]"
     ]
    },
    {
     "name": "stdout",
     "output_type": "stream",
     "text": [
      "bone-hup-158\n",
      "Does this patient have T2 available? True\n",
      "I'm doing the thing.\n"
     ]
    },
    {
     "name": "stderr",
     "output_type": "stream",
     "text": [
      " 46%|████▋     | 289/622 [01:01<01:07,  4.91it/s]"
     ]
    },
    {
     "name": "stdout",
     "output_type": "stream",
     "text": [
      "bone-china-001\n",
      "Does this patient have T2 available? True\n",
      "I'm doing the thing.\n",
      "bone-china-047\n",
      "Does this patient have T2 available? True\n",
      "I'm doing the thing.\n"
     ]
    },
    {
     "name": "stderr",
     "output_type": "stream",
     "text": [
      "\r",
      " 47%|████▋     | 290/622 [01:01<00:59,  5.60it/s]"
     ]
    },
    {
     "name": "stdout",
     "output_type": "stream",
     "text": [
      "bone-china-054\n",
      "Does this patient have T2 available? True\n",
      "I'm doing the thing.\n",
      "bone-penn-058\n",
      "Does this patient have T2 available? True\n",
      "I'm doing the thing.\n"
     ]
    },
    {
     "name": "stderr",
     "output_type": "stream",
     "text": [
      " 47%|████▋     | 293/622 [01:02<00:59,  5.52it/s]"
     ]
    },
    {
     "name": "stdout",
     "output_type": "stream",
     "text": [
      "bone-china-021\n",
      "Does this patient have T2 available? True\n",
      "I'm doing the thing.\n",
      "bone-china-076\n",
      "Does this patient have T2 available? True\n",
      "I'm doing the thing.\n"
     ]
    },
    {
     "name": "stderr",
     "output_type": "stream",
     "text": [
      " 47%|████▋     | 295/622 [01:03<01:07,  4.86it/s]"
     ]
    },
    {
     "name": "stdout",
     "output_type": "stream",
     "text": [
      "bone-hup-150\n",
      "Does this patient have T2 available? True\n",
      "I'm doing the thing.\n"
     ]
    },
    {
     "name": "stderr",
     "output_type": "stream",
     "text": [
      "\r",
      " 48%|████▊     | 297/622 [01:03<00:54,  5.95it/s]"
     ]
    },
    {
     "name": "stdout",
     "output_type": "stream",
     "text": [
      "bone-china-136\n",
      "Does this patient have T2 available? True\n",
      "I'm doing the thing.\n",
      "bone-penn-015\n",
      "Does this patient have T2 available? True\n",
      "I'm doing the thing.\n",
      "bone-hup-312\n",
      "Does this patient have T2 available? True\n",
      "I'm doing the thing.\n"
     ]
    },
    {
     "name": "stderr",
     "output_type": "stream",
     "text": [
      " 48%|████▊     | 299/622 [01:03<00:58,  5.54it/s]"
     ]
    },
    {
     "name": "stdout",
     "output_type": "stream",
     "text": [
      "bone-penn-548\n",
      "Does this patient have T2 available? True\n",
      "I'm doing the thing.\n",
      "bone-penn-056\n",
      "Does this patient have T2 available? True\n",
      "I'm doing the thing.\n"
     ]
    },
    {
     "name": "stderr",
     "output_type": "stream",
     "text": [
      "\r",
      " 48%|████▊     | 300/622 [01:03<01:05,  4.88it/s]"
     ]
    },
    {
     "name": "stdout",
     "output_type": "stream",
     "text": [
      "bone-penn-453\n",
      "Does this patient have T2 available? True\n",
      "I'm doing the thing.\n"
     ]
    },
    {
     "name": "stderr",
     "output_type": "stream",
     "text": [
      " 49%|████▊     | 302/622 [01:04<01:03,  5.03it/s]"
     ]
    },
    {
     "name": "stdout",
     "output_type": "stream",
     "text": [
      "bone-china-015\n",
      "Does this patient have T2 available? True\n",
      "I'm doing the thing.\n",
      "bone-hup-271\n",
      "Does this patient have T2 available? True\n",
      "I'm doing the thing.\n"
     ]
    },
    {
     "name": "stderr",
     "output_type": "stream",
     "text": [
      " 49%|████▉     | 304/622 [01:04<01:01,  5.17it/s]"
     ]
    },
    {
     "name": "stdout",
     "output_type": "stream",
     "text": [
      "bone-penn-071\n",
      "Does this patient have T2 available? True\n",
      "I'm doing the thing.\n",
      "bone-penn-555\n",
      "Does this patient have T2 available? True\n",
      "I'm doing the thing.\n"
     ]
    },
    {
     "name": "stderr",
     "output_type": "stream",
     "text": [
      " 49%|████▉     | 307/622 [01:05<00:57,  5.44it/s]"
     ]
    },
    {
     "name": "stdout",
     "output_type": "stream",
     "text": [
      "bone-penn-403\n",
      "Does this patient have T2 available? True\n",
      "I'm doing the thing.\n",
      "bone-china-061\n",
      "Does this patient have T2 available? True\n",
      "I'm doing the thing.\n",
      "bone-penn-537\n",
      "Does this patient have T2 available? True\n",
      "I'm doing the thing.\n"
     ]
    },
    {
     "name": "stderr",
     "output_type": "stream",
     "text": [
      " 50%|████▉     | 309/622 [01:05<00:48,  6.42it/s]"
     ]
    },
    {
     "name": "stdout",
     "output_type": "stream",
     "text": [
      "bone-penn-503\n",
      "Does this patient have T2 available? True\n",
      "I'm doing the thing.\n",
      "bone-china-152\n",
      "Does this patient have T2 available? True\n",
      "I'm doing the thing.\n"
     ]
    },
    {
     "name": "stderr",
     "output_type": "stream",
     "text": [
      "\r",
      " 50%|████▉     | 310/622 [01:05<00:45,  6.79it/s]"
     ]
    },
    {
     "name": "stdout",
     "output_type": "stream",
     "text": [
      "bone-hup-322\n",
      "Does this patient have T2 available? True\n",
      "I'm doing the thing.\n"
     ]
    },
    {
     "name": "stderr",
     "output_type": "stream",
     "text": [
      " 50%|█████     | 312/622 [01:06<00:56,  5.51it/s]"
     ]
    },
    {
     "name": "stdout",
     "output_type": "stream",
     "text": [
      "bone-china-002\n",
      "Does this patient have T2 available? True\n",
      "I'm doing the thing.\n",
      "bone-penn-462\n",
      "Does this patient have T2 available? True\n",
      "I'm doing the thing.\n"
     ]
    },
    {
     "name": "stderr",
     "output_type": "stream",
     "text": [
      " 50%|█████     | 314/622 [01:06<01:17,  3.98it/s]"
     ]
    },
    {
     "name": "stdout",
     "output_type": "stream",
     "text": [
      "bone-hup-315\n",
      "Does this patient have T2 available? True\n",
      "I'm doing the thing.\n",
      "bone-penn-116\n",
      "Does this patient have T2 available? True\n",
      "I'm doing the thing.\n"
     ]
    },
    {
     "name": "stderr",
     "output_type": "stream",
     "text": [
      "\r",
      " 51%|█████     | 315/622 [01:06<01:04,  4.74it/s]"
     ]
    },
    {
     "name": "stdout",
     "output_type": "stream",
     "text": [
      "bone-penn-86\n",
      "Does this patient have T2 available? True\n",
      "I'm doing the thing.\n"
     ]
    },
    {
     "name": "stderr",
     "output_type": "stream",
     "text": [
      " 51%|█████     | 317/622 [01:07<01:01,  4.97it/s]"
     ]
    },
    {
     "name": "stdout",
     "output_type": "stream",
     "text": [
      "bone-china-170\n",
      "Does this patient have T2 available? True\n",
      "I'm doing the thing.\n",
      "bone-penn-291\n",
      "Does this patient have T2 available? True\n",
      "I'm doing the thing.\n",
      "bone-china-058\n",
      "Does this patient have T2 available? True\n",
      "I'm doing the thing.\n"
     ]
    },
    {
     "name": "stderr",
     "output_type": "stream",
     "text": [
      " 51%|█████▏    | 320/622 [01:08<01:07,  4.50it/s]"
     ]
    },
    {
     "name": "stdout",
     "output_type": "stream",
     "text": [
      "bone-hup-299\n",
      "Does this patient have T2 available? True\n",
      "I'm doing the thing.\n",
      "bone-penn-452\n",
      "Does this patient have T2 available? True\n",
      "I'm doing the thing.\n"
     ]
    },
    {
     "name": "stderr",
     "output_type": "stream",
     "text": [
      " 52%|█████▏    | 322/622 [01:08<01:03,  4.72it/s]"
     ]
    },
    {
     "name": "stdout",
     "output_type": "stream",
     "text": [
      "bone-hup-314\n",
      "Does this patient have T2 available? True\n",
      "I'm doing the thing.\n",
      "bone-penn-578\n",
      "Does this patient have T2 available? True\n",
      "I'm doing the thing.\n"
     ]
    },
    {
     "name": "stderr",
     "output_type": "stream",
     "text": [
      "\r",
      " 52%|█████▏    | 323/622 [01:09<02:11,  2.27it/s]"
     ]
    },
    {
     "name": "stdout",
     "output_type": "stream",
     "text": [
      "bone-penn-131\n",
      "Does this patient have T2 available? True\n",
      "I'm doing the thing.\n"
     ]
    },
    {
     "name": "stderr",
     "output_type": "stream",
     "text": [
      " 52%|█████▏    | 326/622 [01:10<01:33,  3.18it/s]"
     ]
    },
    {
     "name": "stdout",
     "output_type": "stream",
     "text": [
      "bone-penn-037\n",
      "Does this patient have T2 available? True\n",
      "I'm doing the thing.\n",
      "bone-china-122\n",
      "Does this patient have T2 available? True\n",
      "I'm doing the thing.\n",
      "bone-penn-281\n",
      "Does this patient have T2 available? True\n",
      "I'm doing the thing.\n"
     ]
    },
    {
     "name": "stderr",
     "output_type": "stream",
     "text": [
      "\r",
      " 53%|█████▎    | 327/622 [01:10<01:18,  3.75it/s]"
     ]
    },
    {
     "name": "stdout",
     "output_type": "stream",
     "text": [
      "bone-hup-272\n",
      "Does this patient have T2 available? True\n",
      "I'm doing the thing.\n"
     ]
    },
    {
     "name": "stderr",
     "output_type": "stream",
     "text": [
      "\r",
      " 53%|█████▎    | 328/622 [01:10<01:25,  3.44it/s]"
     ]
    },
    {
     "name": "stdout",
     "output_type": "stream",
     "text": [
      "bone-china-161\n",
      "Does this patient have T2 available? True\n",
      "I'm doing the thing.\n",
      "bone-penn-385\n",
      "Does this patient have T2 available? True\n",
      "I'm doing the thing.\n"
     ]
    },
    {
     "name": "stderr",
     "output_type": "stream",
     "text": [
      "\r",
      " 53%|█████▎    | 330/622 [01:11<01:16,  3.79it/s]"
     ]
    },
    {
     "name": "stdout",
     "output_type": "stream",
     "text": [
      "bone-penn-591\n",
      "Does this patient have T2 available? True\n",
      "I'm doing the thing.\n"
     ]
    },
    {
     "name": "stderr",
     "output_type": "stream",
     "text": [
      "\r",
      " 53%|█████▎    | 331/622 [01:11<01:18,  3.69it/s]"
     ]
    },
    {
     "name": "stdout",
     "output_type": "stream",
     "text": [
      "bone-hup-281\n",
      "Does this patient have T2 available? True\n",
      "I'm doing the thing.\n"
     ]
    },
    {
     "name": "stderr",
     "output_type": "stream",
     "text": [
      "\r",
      " 53%|█████▎    | 332/622 [01:11<01:17,  3.74it/s]"
     ]
    },
    {
     "name": "stdout",
     "output_type": "stream",
     "text": [
      "bone-penn-061\n",
      "Does this patient have T2 available? True\n",
      "I'm doing the thing.\n"
     ]
    },
    {
     "name": "stderr",
     "output_type": "stream",
     "text": [
      "\r",
      " 54%|█████▎    | 333/622 [01:11<01:19,  3.65it/s]"
     ]
    },
    {
     "name": "stdout",
     "output_type": "stream",
     "text": [
      "bone-penn-91\n",
      "Does this patient have T2 available? True\n",
      "I'm doing the thing.\n",
      "bone-penn-397\n",
      "Does this patient have T2 available? True\n",
      "I'm doing the thing.\n"
     ]
    },
    {
     "name": "stderr",
     "output_type": "stream",
     "text": [
      "\r",
      " 54%|█████▍    | 335/622 [01:12<01:19,  3.63it/s]"
     ]
    },
    {
     "name": "stdout",
     "output_type": "stream",
     "text": [
      "bone-penn-521\n",
      "Does this patient have T2 available? True\n",
      "I'm doing the thing.\n"
     ]
    },
    {
     "name": "stderr",
     "output_type": "stream",
     "text": [
      " 54%|█████▍    | 337/622 [01:13<01:41,  2.81it/s]"
     ]
    },
    {
     "name": "stdout",
     "output_type": "stream",
     "text": [
      "bone-china-038\n",
      "Does this patient have T2 available? True\n",
      "I'm doing the thing.\n",
      "bone-china-030\n",
      "Does this patient have T2 available? True\n",
      "I'm doing the thing.\n",
      "bone-penn-002\n",
      "Does this patient have T2 available? True\n",
      "I'm doing the thing.\n"
     ]
    },
    {
     "name": "stderr",
     "output_type": "stream",
     "text": [
      " 55%|█████▍    | 341/622 [01:13<01:05,  4.31it/s]"
     ]
    },
    {
     "name": "stdout",
     "output_type": "stream",
     "text": [
      "bone-china-065\n",
      "Does this patient have T2 available? True\n",
      "I'm doing the thing.\n",
      "bone-penn-572\n",
      "Does this patient have T2 available? True\n",
      "I'm doing the thing.\n",
      "bone-hup-302\n",
      "Does this patient have T2 available? True\n",
      "I'm doing the thing.\n"
     ]
    },
    {
     "name": "stderr",
     "output_type": "stream",
     "text": [
      " 55%|█████▌    | 343/622 [01:14<01:02,  4.45it/s]"
     ]
    },
    {
     "name": "stdout",
     "output_type": "stream",
     "text": [
      "bone-penn-491\n",
      "Does this patient have T2 available? True\n",
      "I'm doing the thing.\n",
      "bone-penn-423\n",
      "Does this patient have T2 available? True\n",
      "I'm doing the thing.\n"
     ]
    },
    {
     "name": "stderr",
     "output_type": "stream",
     "text": [
      "\r",
      " 55%|█████▌    | 344/622 [01:15<01:36,  2.87it/s]"
     ]
    },
    {
     "name": "stdout",
     "output_type": "stream",
     "text": [
      "bone-hup-320\n",
      "Does this patient have T2 available? True\n",
      "I'm doing the thing.\n"
     ]
    },
    {
     "name": "stderr",
     "output_type": "stream",
     "text": [
      "\r",
      " 55%|█████▌    | 345/622 [01:15<02:14,  2.06it/s]"
     ]
    },
    {
     "name": "stdout",
     "output_type": "stream",
     "text": [
      "bone-penn-500\n",
      "Does this patient have T2 available? True\n",
      "I'm doing the thing.\n"
     ]
    },
    {
     "name": "stderr",
     "output_type": "stream",
     "text": [
      "\r",
      " 56%|█████▌    | 346/622 [01:16<02:02,  2.26it/s]"
     ]
    },
    {
     "name": "stdout",
     "output_type": "stream",
     "text": [
      "bone-china-036\n",
      "Does this patient have T2 available? True\n",
      "I'm doing the thing.\n",
      "bone-penn-484\n",
      "Does this patient have T2 available? True\n",
      "I'm doing the thing.\n"
     ]
    },
    {
     "name": "stderr",
     "output_type": "stream",
     "text": [
      "\r",
      " 56%|█████▌    | 348/622 [01:16<01:34,  2.91it/s]"
     ]
    },
    {
     "name": "stdout",
     "output_type": "stream",
     "text": [
      "bone-china-175\n",
      "Does this patient have T2 available? True\n",
      "I'm doing the thing.\n",
      "bone-penn-030\n",
      "Does this patient have T2 available? True\n",
      "I'm doing the thing.\n"
     ]
    },
    {
     "name": "stderr",
     "output_type": "stream",
     "text": [
      " 57%|█████▋    | 352/622 [01:16<01:04,  4.21it/s]"
     ]
    },
    {
     "name": "stdout",
     "output_type": "stream",
     "text": [
      "bone-hup-79\n",
      "Does this patient have T2 available? True\n",
      "I'm doing the thing.\n",
      "bone-hup-175\n",
      "Does this patient have T2 available? True\n",
      "I'm doing the thing.\n",
      "bone-penn-226\n",
      "Does this patient have T2 available? True\n",
      "I'm doing the thing.\n",
      "bone-penn-011\n",
      "Does this patient have T2 available? True\n",
      "I'm doing the thing.\n"
     ]
    },
    {
     "name": "stderr",
     "output_type": "stream",
     "text": [
      " 57%|█████▋    | 355/622 [01:17<00:47,  5.64it/s]"
     ]
    },
    {
     "name": "stdout",
     "output_type": "stream",
     "text": [
      "bone-penn-188\n",
      "Does this patient have T2 available? True\n",
      "I'm doing the thing.\n",
      "bone-penn-166\n",
      "Does this patient have T2 available? True\n",
      "I'm doing the thing.\n"
     ]
    },
    {
     "name": "stderr",
     "output_type": "stream",
     "text": [
      " 57%|█████▋    | 357/622 [01:17<00:46,  5.72it/s]"
     ]
    },
    {
     "name": "stdout",
     "output_type": "stream",
     "text": [
      "bone-penn-239\n",
      "Does this patient have T2 available? True\n",
      "I'm doing the thing.\n",
      "bone-hup-101\n",
      "Does this patient have T2 available? True\n",
      "I'm doing the thing.\n"
     ]
    },
    {
     "name": "stderr",
     "output_type": "stream",
     "text": [
      "\r",
      " 58%|█████▊    | 358/622 [01:17<00:52,  5.01it/s]"
     ]
    },
    {
     "name": "stdout",
     "output_type": "stream",
     "text": [
      "bone-penn-311\n",
      "Does this patient have T2 available? True\n",
      "I'm doing the thing.\n"
     ]
    },
    {
     "name": "stderr",
     "output_type": "stream",
     "text": [
      " 58%|█████▊    | 360/622 [01:18<01:04,  4.09it/s]"
     ]
    },
    {
     "name": "stdout",
     "output_type": "stream",
     "text": [
      "bone-penn-161\n",
      "Does this patient have T2 available? True\n",
      "I'm doing the thing.\n",
      "bone-penn-628\n",
      "Does this patient have T2 available? True\n",
      "I'm doing the thing.\n"
     ]
    },
    {
     "name": "stderr",
     "output_type": "stream",
     "text": [
      " 58%|█████▊    | 362/622 [01:18<00:53,  4.88it/s]"
     ]
    },
    {
     "name": "stdout",
     "output_type": "stream",
     "text": [
      "bone-penn-180\n",
      "Does this patient have T2 available? True\n",
      "I'm doing the thing.\n",
      "bone-penn-599\n",
      "Does this patient have T2 available? True\n",
      "I'm doing the thing.\n"
     ]
    },
    {
     "name": "stderr",
     "output_type": "stream",
     "text": [
      " 59%|█████▊    | 364/622 [01:19<00:56,  4.57it/s]"
     ]
    },
    {
     "name": "stdout",
     "output_type": "stream",
     "text": [
      "bone-china-195\n",
      "Does this patient have T2 available? True\n",
      "I'm doing the thing.\n",
      "bone-hup-88\n",
      "Does this patient have T2 available? True\n",
      "I'm doing the thing.\n"
     ]
    },
    {
     "name": "stderr",
     "output_type": "stream",
     "text": [
      "\r",
      " 59%|█████▊    | 365/622 [01:19<01:15,  3.40it/s]"
     ]
    },
    {
     "name": "stdout",
     "output_type": "stream",
     "text": [
      "bone-penn-264\n",
      "Does this patient have T2 available? True\n",
      "I'm doing the thing.\n"
     ]
    },
    {
     "name": "stderr",
     "output_type": "stream",
     "text": [
      "\r",
      " 59%|█████▉    | 366/622 [01:20<01:16,  3.33it/s]"
     ]
    },
    {
     "name": "stdout",
     "output_type": "stream",
     "text": [
      "bone-penn-615\n",
      "Does this patient have T2 available? True\n",
      "I'm doing the thing.\n"
     ]
    },
    {
     "name": "stderr",
     "output_type": "stream",
     "text": [
      " 59%|█████▉    | 368/622 [01:20<01:04,  3.93it/s]"
     ]
    },
    {
     "name": "stdout",
     "output_type": "stream",
     "text": [
      "bone-china-203\n",
      "Does this patient have T2 available? True\n",
      "I'm doing the thing.\n",
      "bone-hup-98\n",
      "Does this patient have T2 available? True\n",
      "I'm doing the thing.\n"
     ]
    },
    {
     "name": "stderr",
     "output_type": "stream",
     "text": [
      " 59%|█████▉    | 370/622 [01:21<00:53,  4.69it/s]"
     ]
    },
    {
     "name": "stdout",
     "output_type": "stream",
     "text": [
      "bone-hup-73\n",
      "Does this patient have T2 available? True\n",
      "I'm doing the thing.\n",
      "bone-penn-641\n",
      "Does this patient have T2 available? True\n",
      "I'm doing the thing.\n",
      "bone-penn-378\n",
      "Does this patient have T2 available? True\n",
      "I'm doing the thing.\n"
     ]
    },
    {
     "name": "stderr",
     "output_type": "stream",
     "text": [
      " 60%|██████    | 374/622 [01:21<00:43,  5.65it/s]"
     ]
    },
    {
     "name": "stdout",
     "output_type": "stream",
     "text": [
      "bone-hup-113\n",
      "Does this patient have T2 available? True\n",
      "I'm doing the thing.\n",
      "bone-china-228\n",
      "Does this patient have T2 available? True\n",
      "I'm doing the thing.\n",
      "bone-penn-206\n",
      "Does this patient have T2 available? True\n",
      "I'm doing the thing.\n"
     ]
    },
    {
     "name": "stderr",
     "output_type": "stream",
     "text": [
      "\r",
      " 60%|██████    | 376/622 [01:21<00:40,  6.09it/s]"
     ]
    },
    {
     "name": "stdout",
     "output_type": "stream",
     "text": [
      "bone-penn-651\n",
      "Does this patient have T2 available? True\n",
      "I'm doing the thing.\n",
      "bone-hup-80\n",
      "Does this patient have T2 available? True\n",
      "I'm doing the thing.\n"
     ]
    },
    {
     "name": "stderr",
     "output_type": "stream",
     "text": [
      "\r",
      " 61%|██████    | 377/622 [01:22<00:50,  4.85it/s]"
     ]
    },
    {
     "name": "stdout",
     "output_type": "stream",
     "text": [
      "bone-hup-141\n",
      "Does this patient have T2 available? True\n",
      "I'm doing the thing.\n"
     ]
    },
    {
     "name": "stderr",
     "output_type": "stream",
     "text": [
      "\r",
      " 61%|██████    | 378/622 [01:22<01:23,  2.94it/s]"
     ]
    },
    {
     "name": "stdout",
     "output_type": "stream",
     "text": [
      "bone-penn-429\n",
      "Does this patient have T2 available? True\n",
      "I'm doing the thing.\n"
     ]
    },
    {
     "name": "stderr",
     "output_type": "stream",
     "text": [
      " 61%|██████    | 380/622 [01:23<01:08,  3.52it/s]"
     ]
    },
    {
     "name": "stdout",
     "output_type": "stream",
     "text": [
      "bone-penn-370\n",
      "Does this patient have T2 available? True\n",
      "I'm doing the thing.\n",
      "bone-china-186\n",
      "Does this patient have T2 available? True\n",
      "I'm doing the thing.\n",
      "bone-hup-277\n",
      "Does this patient have T2 available? True\n",
      "I'm doing the thing.\n"
     ]
    },
    {
     "name": "stderr",
     "output_type": "stream",
     "text": [
      " 62%|██████▏   | 384/622 [01:23<00:45,  5.21it/s]"
     ]
    },
    {
     "name": "stdout",
     "output_type": "stream",
     "text": [
      "bone-penn-165\n",
      "Does this patient have T2 available? True\n",
      "I'm doing the thing.\n",
      "bone-hup-283\n",
      "Does this patient have T2 available? True\n",
      "I'm doing the thing.\n",
      "bone-china-200\n",
      "Does this patient have T2 available? True\n",
      "I'm doing the thing.\n"
     ]
    },
    {
     "name": "stderr",
     "output_type": "stream",
     "text": [
      "\r",
      " 62%|██████▏   | 386/622 [01:23<00:38,  6.15it/s]"
     ]
    },
    {
     "name": "stdout",
     "output_type": "stream",
     "text": [
      "bone-penn-298\n",
      "Does this patient have T2 available? True\n",
      "I'm doing the thing.\n",
      "bone-china-204\n",
      "Does this patient have T2 available? True\n",
      "I'm doing the thing.\n"
     ]
    },
    {
     "name": "stderr",
     "output_type": "stream",
     "text": [
      "\r",
      " 62%|██████▏   | 387/622 [01:24<00:35,  6.56it/s]"
     ]
    },
    {
     "name": "stdout",
     "output_type": "stream",
     "text": [
      "bone-penn-263\n",
      "Does this patient have T2 available? True\n",
      "I'm doing the thing.\n"
     ]
    },
    {
     "name": "stderr",
     "output_type": "stream",
     "text": [
      " 63%|██████▎   | 389/622 [01:24<00:48,  4.76it/s]"
     ]
    },
    {
     "name": "stdout",
     "output_type": "stream",
     "text": [
      "bone-penn-193\n",
      "Does this patient have T2 available? True\n",
      "I'm doing the thing.\n",
      "bone-penn-211\n",
      "Does this patient have T2 available? True\n",
      "I'm doing the thing.\n"
     ]
    },
    {
     "name": "stderr",
     "output_type": "stream",
     "text": [
      " 63%|██████▎   | 391/622 [01:25<01:06,  3.48it/s]"
     ]
    },
    {
     "name": "stdout",
     "output_type": "stream",
     "text": [
      "bone-china-196\n",
      "Does this patient have T2 available? True\n",
      "I'm doing the thing.\n",
      "bone-penn-024\n",
      "Does this patient have T2 available? True\n",
      "I'm doing the thing.\n",
      "bone-hup-148\n",
      "Does this patient have T2 available? True\n",
      "I'm doing the thing.\n"
     ]
    },
    {
     "name": "stderr",
     "output_type": "stream",
     "text": [
      " 64%|██████▎   | 395/622 [01:26<00:48,  4.71it/s]"
     ]
    },
    {
     "name": "stdout",
     "output_type": "stream",
     "text": [
      "bone-penn-256\n",
      "Does this patient have T2 available? True\n",
      "I'm doing the thing.\n",
      "bone-hup-222\n",
      "Does this patient have T2 available? True\n",
      "I'm doing the thing.\n",
      "bone-penn-189\n",
      "Does this patient have T2 available? True\n",
      "I'm doing the thing.\n"
     ]
    },
    {
     "name": "stderr",
     "output_type": "stream",
     "text": [
      "\r",
      " 64%|██████▎   | 396/622 [01:26<01:25,  2.64it/s]"
     ]
    },
    {
     "name": "stdout",
     "output_type": "stream",
     "text": [
      "bone-hup-201\n",
      "Does this patient have T2 available? True\n",
      "I'm doing the thing.\n"
     ]
    },
    {
     "name": "stderr",
     "output_type": "stream",
     "text": [
      " 64%|██████▍   | 398/622 [01:27<01:05,  3.44it/s]"
     ]
    },
    {
     "name": "stdout",
     "output_type": "stream",
     "text": [
      "bone-penn-629\n",
      "Does this patient have T2 available? True\n",
      "I'm doing the thing.\n",
      "bone-penn-422\n",
      "Does this patient have T2 available? True\n",
      "I'm doing the thing.\n"
     ]
    },
    {
     "name": "stderr",
     "output_type": "stream",
     "text": [
      "\r",
      " 64%|██████▍   | 399/622 [01:27<00:58,  3.81it/s]"
     ]
    },
    {
     "name": "stdout",
     "output_type": "stream",
     "text": [
      "bone-penn-029\n",
      "Does this patient have T2 available? True\n",
      "I'm doing the thing.\n"
     ]
    },
    {
     "name": "stderr",
     "output_type": "stream",
     "text": [
      "\r",
      " 64%|██████▍   | 400/622 [01:27<01:11,  3.09it/s]"
     ]
    },
    {
     "name": "stdout",
     "output_type": "stream",
     "text": [
      "bone-penn-624\n",
      "Does this patient have T2 available? True\n",
      "I'm doing the thing.\n"
     ]
    },
    {
     "name": "stderr",
     "output_type": "stream",
     "text": [
      " 65%|██████▍   | 402/622 [01:28<00:56,  3.90it/s]"
     ]
    },
    {
     "name": "stdout",
     "output_type": "stream",
     "text": [
      "bone-hup-133\n",
      "Does this patient have T2 available? True\n",
      "I'm doing the thing.\n",
      "bone-penn-222\n",
      "Does this patient have T2 available? True\n",
      "I'm doing the thing.\n"
     ]
    },
    {
     "name": "stderr",
     "output_type": "stream",
     "text": [
      " 65%|██████▍   | 404/622 [01:28<00:43,  4.95it/s]"
     ]
    },
    {
     "name": "stdout",
     "output_type": "stream",
     "text": [
      "bone-china-188\n",
      "Does this patient have T2 available? True\n",
      "I'm doing the thing.\n",
      "bone-china-210\n",
      "Does this patient have T2 available? True\n",
      "I'm doing the thing.\n"
     ]
    },
    {
     "name": "stderr",
     "output_type": "stream",
     "text": [
      "\r",
      " 65%|██████▌   | 405/622 [01:28<00:38,  5.67it/s]"
     ]
    },
    {
     "name": "stdout",
     "output_type": "stream",
     "text": [
      "bone-penn-514\n",
      "Does this patient have T2 available? True\n",
      "I'm doing the thing.\n"
     ]
    },
    {
     "name": "stderr",
     "output_type": "stream",
     "text": [
      "\r",
      " 65%|██████▌   | 406/622 [01:29<00:43,  4.96it/s]"
     ]
    },
    {
     "name": "stdout",
     "output_type": "stream",
     "text": [
      "bone-penn-167\n",
      "Does this patient have T2 available? True\n",
      "I'm doing the thing.\n"
     ]
    },
    {
     "name": "stderr",
     "output_type": "stream",
     "text": [
      "\r",
      " 65%|██████▌   | 407/622 [01:29<00:49,  4.36it/s]"
     ]
    },
    {
     "name": "stdout",
     "output_type": "stream",
     "text": [
      "bone-penn-637\n",
      "Does this patient have T2 available? True\n",
      "I'm doing the thing.\n"
     ]
    },
    {
     "name": "stderr",
     "output_type": "stream",
     "text": [
      "\r",
      " 66%|██████▌   | 408/622 [01:29<00:48,  4.39it/s]"
     ]
    },
    {
     "name": "stdout",
     "output_type": "stream",
     "text": [
      "bone-hup-97\n",
      "Does this patient have T2 available? True\n",
      "I'm doing the thing.\n"
     ]
    },
    {
     "name": "stderr",
     "output_type": "stream",
     "text": [
      " 66%|██████▌   | 411/622 [01:29<00:39,  5.37it/s]"
     ]
    },
    {
     "name": "stdout",
     "output_type": "stream",
     "text": [
      "bone-penn-640\n",
      "Does this patient have T2 available? True\n",
      "I'm doing the thing.\n",
      "bone-hup-103\n",
      "Does this patient have T2 available? True\n",
      "I'm doing the thing.\n"
     ]
    },
    {
     "name": "stderr",
     "output_type": "stream",
     "text": [
      "\r",
      " 66%|██████▌   | 412/622 [01:30<00:41,  5.00it/s]"
     ]
    },
    {
     "name": "stdout",
     "output_type": "stream",
     "text": [
      "bone-hup-22\n",
      "Does this patient have T2 available? True\n",
      "I'm doing the thing.\n",
      "bone-hup-246\n",
      "Does this patient have T2 available? True\n",
      "I'm doing the thing.\n"
     ]
    },
    {
     "name": "stderr",
     "output_type": "stream",
     "text": [
      " 67%|██████▋   | 414/622 [01:30<00:38,  5.39it/s]"
     ]
    },
    {
     "name": "stdout",
     "output_type": "stream",
     "text": [
      "bone-china-223\n",
      "Does this patient have T2 available? True\n",
      "I'm doing the thing.\n",
      "bone-hup-82\n",
      "Does this patient have T2 available? True\n",
      "I'm doing the thing.\n"
     ]
    },
    {
     "name": "stderr",
     "output_type": "stream",
     "text": [
      " 67%|██████▋   | 416/622 [01:30<00:35,  5.83it/s]"
     ]
    },
    {
     "name": "stdout",
     "output_type": "stream",
     "text": [
      "bone-hup-153\n",
      "Does this patient have T2 available? True\n",
      "I'm doing the thing.\n",
      "bone-hup-200\n",
      "Does this patient have T2 available? True\n",
      "I'm doing the thing.\n",
      "bone-hup-234\n",
      "Does this patient have T2 available? True\n",
      "I'm doing the thing.\n"
     ]
    },
    {
     "name": "stderr",
     "output_type": "stream",
     "text": [
      "\r",
      " 67%|██████▋   | 418/622 [01:31<00:32,  6.32it/s]"
     ]
    },
    {
     "name": "stdout",
     "output_type": "stream",
     "text": [
      "bone-penn-255\n",
      "Does this patient have T2 available? True\n",
      "I'm doing the thing.\n"
     ]
    },
    {
     "name": "stderr",
     "output_type": "stream",
     "text": [
      " 68%|██████▊   | 420/622 [01:31<00:36,  5.56it/s]"
     ]
    },
    {
     "name": "stdout",
     "output_type": "stream",
     "text": [
      "bone-penn-631\n",
      "Does this patient have T2 available? True\n",
      "I'm doing the thing.\n",
      "bone-penn-639\n",
      "Does this patient have T2 available? True\n",
      "I'm doing the thing.\n"
     ]
    },
    {
     "name": "stderr",
     "output_type": "stream",
     "text": [
      "\r",
      " 68%|██████▊   | 421/622 [01:31<00:48,  4.16it/s]"
     ]
    },
    {
     "name": "stdout",
     "output_type": "stream",
     "text": [
      "bone-hup-84\n",
      "Does this patient have T2 available? True\n",
      "I'm doing the thing.\n"
     ]
    },
    {
     "name": "stderr",
     "output_type": "stream",
     "text": [
      "\r",
      " 68%|██████▊   | 422/622 [01:32<01:23,  2.38it/s]"
     ]
    },
    {
     "name": "stdout",
     "output_type": "stream",
     "text": [
      "bone-penn-621\n",
      "Does this patient have T2 available? True\n",
      "I'm doing the thing.\n"
     ]
    },
    {
     "name": "stderr",
     "output_type": "stream",
     "text": [
      "\r",
      " 68%|██████▊   | 423/622 [01:33<01:44,  1.91it/s]"
     ]
    },
    {
     "name": "stdout",
     "output_type": "stream",
     "text": [
      "bone-penn-645\n",
      "Does this patient have T2 available? True\n",
      "I'm doing the thing.\n"
     ]
    },
    {
     "name": "stderr",
     "output_type": "stream",
     "text": [
      "\r",
      " 68%|██████▊   | 424/622 [01:33<01:33,  2.13it/s]"
     ]
    },
    {
     "name": "stdout",
     "output_type": "stream",
     "text": [
      "bone-hup-86\n",
      "Does this patient have T2 available? True\n",
      "I'm doing the thing.\n"
     ]
    },
    {
     "name": "stderr",
     "output_type": "stream",
     "text": [
      " 68%|██████▊   | 426/622 [01:34<01:22,  2.38it/s]"
     ]
    },
    {
     "name": "stdout",
     "output_type": "stream",
     "text": [
      "bone-china-187\n",
      "Does this patient have T2 available? True\n",
      "I'm doing the thing.\n",
      "bone-hup-85\n",
      "Does this patient have T2 available? True\n",
      "I'm doing the thing.\n"
     ]
    },
    {
     "name": "stderr",
     "output_type": "stream",
     "text": [
      " 69%|██████▉   | 428/622 [01:35<01:09,  2.78it/s]"
     ]
    },
    {
     "name": "stdout",
     "output_type": "stream",
     "text": [
      "bone-penn-183\n",
      "Does this patient have T2 available? True\n",
      "I'm doing the thing.\n",
      "bone-penn-466\n",
      "Does this patient have T2 available? True\n",
      "I'm doing the thing.\n"
     ]
    },
    {
     "name": "stderr",
     "output_type": "stream",
     "text": [
      "\r",
      " 69%|██████▉   | 429/622 [01:36<01:26,  2.24it/s]"
     ]
    },
    {
     "name": "stdout",
     "output_type": "stream",
     "text": [
      "bone-hup-96\n",
      "Does this patient have T2 available? True\n",
      "I'm doing the thing.\n"
     ]
    },
    {
     "name": "stderr",
     "output_type": "stream",
     "text": [
      "\r",
      " 69%|██████▉   | 430/622 [01:36<01:15,  2.55it/s]"
     ]
    },
    {
     "name": "stdout",
     "output_type": "stream",
     "text": [
      "bone-china-180\n",
      "Does this patient have T2 available? True\n",
      "I'm doing the thing.\n"
     ]
    },
    {
     "name": "stderr",
     "output_type": "stream",
     "text": [
      "\r",
      " 69%|██████▉   | 431/622 [01:36<01:12,  2.64it/s]"
     ]
    },
    {
     "name": "stdout",
     "output_type": "stream",
     "text": [
      "bone-penn-224\n",
      "Does this patient have T2 available? True\n",
      "I'm doing the thing.\n",
      "bone-hup-109\n",
      "Does this patient have T2 available? True\n",
      "I'm doing the thing.\n"
     ]
    },
    {
     "name": "stderr",
     "output_type": "stream",
     "text": [
      " 70%|██████▉   | 434/622 [01:37<00:49,  3.80it/s]"
     ]
    },
    {
     "name": "stdout",
     "output_type": "stream",
     "text": [
      "bone-hup-168\n",
      "Does this patient have T2 available? True\n",
      "I'm doing the thing.\n",
      "bone-penn-022\n",
      "Does this patient have T2 available? True\n",
      "I'm doing the thing.\n"
     ]
    },
    {
     "name": "stderr",
     "output_type": "stream",
     "text": [
      "\r",
      " 70%|███████   | 436/622 [01:37<00:38,  4.82it/s]"
     ]
    },
    {
     "name": "stdout",
     "output_type": "stream",
     "text": [
      "bone-penn-511\n",
      "Does this patient have T2 available? True\n",
      "I'm doing the thing.\n",
      "bone-penn-234\n",
      "Does this patient have T2 available? True\n",
      "I'm doing the thing.\n"
     ]
    },
    {
     "name": "stderr",
     "output_type": "stream",
     "text": [
      "\r",
      " 70%|███████   | 437/622 [01:37<00:56,  3.29it/s]"
     ]
    },
    {
     "name": "stdout",
     "output_type": "stream",
     "text": [
      "bone-penn-364\n",
      "Does this patient have T2 available? True\n",
      "I'm doing the thing.\n"
     ]
    },
    {
     "name": "stderr",
     "output_type": "stream",
     "text": [
      "\r",
      " 70%|███████   | 438/622 [01:38<01:10,  2.60it/s]"
     ]
    },
    {
     "name": "stdout",
     "output_type": "stream",
     "text": [
      "bone-penn-616\n",
      "Does this patient have T2 available? True\n",
      "I'm doing the thing.\n"
     ]
    },
    {
     "name": "stderr",
     "output_type": "stream",
     "text": [
      " 71%|███████   | 440/622 [01:38<00:52,  3.45it/s]"
     ]
    },
    {
     "name": "stdout",
     "output_type": "stream",
     "text": [
      "bone-hup-214\n",
      "Does this patient have T2 available? True\n",
      "I'm doing the thing.\n",
      "bone-penn-163\n",
      "Does this patient have T2 available? True\n",
      "I'm doing the thing.\n"
     ]
    },
    {
     "name": "stderr",
     "output_type": "stream",
     "text": [
      "\r",
      " 71%|███████   | 441/622 [01:39<00:47,  3.83it/s]"
     ]
    },
    {
     "name": "stdout",
     "output_type": "stream",
     "text": [
      "bone-hup-205\n",
      "Does this patient have T2 available? True\n",
      "I'm doing the thing.\n"
     ]
    },
    {
     "name": "stderr",
     "output_type": "stream",
     "text": [
      " 71%|███████   | 443/622 [01:39<00:46,  3.89it/s]"
     ]
    },
    {
     "name": "stdout",
     "output_type": "stream",
     "text": [
      "bone-hup-192\n",
      "Does this patient have T2 available? True\n",
      "I'm doing the thing.\n",
      "bone-china-215\n",
      "Does this patient have T2 available? True\n",
      "I'm doing the thing.\n"
     ]
    },
    {
     "name": "stderr",
     "output_type": "stream",
     "text": [
      "\r",
      " 71%|███████▏  | 444/622 [01:39<00:41,  4.29it/s]"
     ]
    },
    {
     "name": "stdout",
     "output_type": "stream",
     "text": [
      "bone-penn-356\n",
      "Does this patient have T2 available? True\n",
      "I'm doing the thing.\n"
     ]
    },
    {
     "name": "stderr",
     "output_type": "stream",
     "text": [
      "\r",
      " 72%|███████▏  | 445/622 [01:40<00:57,  3.08it/s]"
     ]
    },
    {
     "name": "stdout",
     "output_type": "stream",
     "text": [
      "bone-hup-261\n",
      "Does this patient have T2 available? True\n",
      "I'm doing the thing.\n"
     ]
    },
    {
     "name": "stderr",
     "output_type": "stream",
     "text": [
      "\r",
      " 72%|███████▏  | 446/622 [01:41<01:29,  1.96it/s]"
     ]
    },
    {
     "name": "stdout",
     "output_type": "stream",
     "text": [
      "bone-hup-89\n",
      "Does this patient have T2 available? True\n",
      "I'm doing the thing.\n"
     ]
    },
    {
     "name": "stderr",
     "output_type": "stream",
     "text": [
      "\r",
      " 72%|███████▏  | 447/622 [01:41<01:20,  2.18it/s]"
     ]
    },
    {
     "name": "stdout",
     "output_type": "stream",
     "text": [
      "bone-penn-617\n",
      "Does this patient have T2 available? True\n",
      "I'm doing the thing.\n"
     ]
    },
    {
     "name": "stderr",
     "output_type": "stream",
     "text": [
      " 72%|███████▏  | 449/622 [01:42<01:10,  2.46it/s]"
     ]
    },
    {
     "name": "stdout",
     "output_type": "stream",
     "text": [
      "bone-china-234\n",
      "Does this patient have T2 available? True\n",
      "I'm doing the thing.\n",
      "bone-penn-388\n",
      "Does this patient have T2 available? True\n",
      "I'm doing the thing.\n"
     ]
    },
    {
     "name": "stderr",
     "output_type": "stream",
     "text": [
      "\r",
      " 73%|███████▎  | 451/622 [01:42<00:53,  3.21it/s]"
     ]
    },
    {
     "name": "stdout",
     "output_type": "stream",
     "text": [
      "bone-penn-633\n",
      "Does this patient have T2 available? True\n",
      "I'm doing the thing.\n",
      "bone-penn-380\n",
      "Does this patient have T2 available? True\n",
      "I'm doing the thing.\n"
     ]
    },
    {
     "name": "stderr",
     "output_type": "stream",
     "text": [
      "\r",
      " 73%|███████▎  | 452/622 [01:42<00:50,  3.34it/s]"
     ]
    },
    {
     "name": "stdout",
     "output_type": "stream",
     "text": [
      "bone-penn-261\n",
      "Does this patient have T2 available? True\n",
      "I'm doing the thing.\n",
      "bone-hup-118\n",
      "Does this patient have T2 available? True\n",
      "I'm doing the thing.\n"
     ]
    },
    {
     "name": "stderr",
     "output_type": "stream",
     "text": [
      "\r",
      " 73%|███████▎  | 454/622 [01:43<00:45,  3.70it/s]"
     ]
    },
    {
     "name": "stdout",
     "output_type": "stream",
     "text": [
      "bone-hup-224\n",
      "Does this patient have T2 available? True\n",
      "I'm doing the thing.\n",
      "bone-hup-213\n",
      "Does this patient have T2 available? True\n",
      "I'm doing the thing.\n"
     ]
    },
    {
     "name": "stderr",
     "output_type": "stream",
     "text": [
      "\r",
      " 73%|███████▎  | 456/622 [01:43<00:37,  4.41it/s]"
     ]
    },
    {
     "name": "stdout",
     "output_type": "stream",
     "text": [
      "bone-penn-241\n",
      "Does this patient have T2 available? True\n",
      "I'm doing the thing.\n"
     ]
    },
    {
     "name": "stderr",
     "output_type": "stream",
     "text": [
      "\r",
      " 73%|███████▎  | 457/622 [01:43<00:49,  3.34it/s]"
     ]
    },
    {
     "name": "stdout",
     "output_type": "stream",
     "text": [
      "bone-penn-646\n",
      "Does this patient have T2 available? True\n",
      "I'm doing the thing.\n"
     ]
    },
    {
     "name": "stderr",
     "output_type": "stream",
     "text": [
      "\r",
      " 74%|███████▎  | 458/622 [01:44<00:45,  3.61it/s]"
     ]
    },
    {
     "name": "stdout",
     "output_type": "stream",
     "text": [
      "bone-penn-203\n",
      "Does this patient have T2 available? True\n",
      "I'm doing the thing.\n"
     ]
    },
    {
     "name": "stderr",
     "output_type": "stream",
     "text": [
      " 74%|███████▍  | 460/622 [01:45<00:54,  2.95it/s]"
     ]
    },
    {
     "name": "stdout",
     "output_type": "stream",
     "text": [
      "bone-hup-193\n",
      "Does this patient have T2 available? True\n",
      "I'm doing the thing.\n",
      "bone-hup-166\n",
      "Does this patient have T2 available? True\n",
      "I'm doing the thing.\n"
     ]
    },
    {
     "name": "stderr",
     "output_type": "stream",
     "text": [
      "\r",
      " 74%|███████▍  | 461/622 [01:45<00:47,  3.41it/s]"
     ]
    },
    {
     "name": "stdout",
     "output_type": "stream",
     "text": [
      "bone-penn-611\n",
      "Does this patient have T2 available? True\n",
      "I'm doing the thing.\n"
     ]
    },
    {
     "name": "stderr",
     "output_type": "stream",
     "text": [
      "\r",
      " 74%|███████▍  | 462/622 [01:45<00:46,  3.45it/s]"
     ]
    },
    {
     "name": "stdout",
     "output_type": "stream",
     "text": [
      "bone-penn-178\n",
      "Does this patient have T2 available? True\n",
      "I'm doing the thing.\n"
     ]
    },
    {
     "name": "stderr",
     "output_type": "stream",
     "text": [
      "\r",
      " 74%|███████▍  | 463/622 [01:45<00:44,  3.61it/s]"
     ]
    },
    {
     "name": "stdout",
     "output_type": "stream",
     "text": [
      "bone-penn-627\n",
      "Does this patient have T2 available? True\n",
      "I'm doing the thing.\n"
     ]
    },
    {
     "name": "stderr",
     "output_type": "stream",
     "text": [
      " 75%|███████▍  | 465/622 [01:46<00:57,  2.73it/s]"
     ]
    },
    {
     "name": "stdout",
     "output_type": "stream",
     "text": [
      "bone-hup-54\n",
      "Does this patient have T2 available? True\n",
      "I'm doing the thing.\n"
     ]
    },
    {
     "name": "stderr",
     "output_type": "stream",
     "text": [
      " 75%|███████▌  | 467/622 [01:47<00:40,  3.87it/s]"
     ]
    },
    {
     "name": "stdout",
     "output_type": "stream",
     "text": [
      "bone-penn-171\n",
      "Does this patient have T2 available? True\n",
      "I'm doing the thing.\n",
      "bone-hup-226\n",
      "Does this patient have T2 available? True\n",
      "I'm doing the thing.\n",
      "bone-penn-198\n",
      "Does this patient have T2 available? True\n",
      "I'm doing the thing.\n"
     ]
    },
    {
     "name": "stderr",
     "output_type": "stream",
     "text": [
      "\r",
      " 75%|███████▌  | 468/622 [01:47<00:34,  4.43it/s]"
     ]
    },
    {
     "name": "stdout",
     "output_type": "stream",
     "text": [
      "bone-hup-2\n",
      "Does this patient have T2 available? True\n",
      "I'm doing the thing.\n"
     ]
    },
    {
     "name": "stderr",
     "output_type": "stream",
     "text": [
      " 76%|███████▌  | 470/622 [01:48<00:50,  3.00it/s]"
     ]
    },
    {
     "name": "stdout",
     "output_type": "stream",
     "text": [
      "bone-hup-67\n",
      "Does this patient have T2 available? True\n",
      "I'm doing the thing.\n",
      "bone-china-177\n",
      "Does this patient have T2 available? True\n",
      "I'm doing the thing.\n"
     ]
    },
    {
     "name": "stderr",
     "output_type": "stream",
     "text": [
      "\r",
      " 76%|███████▌  | 471/622 [01:48<00:41,  3.66it/s]"
     ]
    },
    {
     "name": "stdout",
     "output_type": "stream",
     "text": [
      "bone-hup-39\n",
      "Does this patient have T2 available? True\n",
      "I'm doing the thing.\n"
     ]
    },
    {
     "name": "stderr",
     "output_type": "stream",
     "text": [
      " 76%|███████▌  | 474/622 [01:48<00:31,  4.77it/s]"
     ]
    },
    {
     "name": "stdout",
     "output_type": "stream",
     "text": [
      "bone-penn-531\n",
      "Does this patient have T2 available? True\n",
      "I'm doing the thing.\n",
      "bone-hup-77\n",
      "Does this patient have T2 available? True\n",
      "I'm doing the thing.\n",
      "bone-penn-006\n",
      "Does this patient have T2 available? True\n",
      "I'm doing the thing.\n"
     ]
    },
    {
     "name": "stderr",
     "output_type": "stream",
     "text": [
      " 77%|███████▋  | 476/622 [01:49<00:26,  5.60it/s]"
     ]
    },
    {
     "name": "stdout",
     "output_type": "stream",
     "text": [
      "bone-penn-266\n",
      "Does this patient have T2 available? True\n",
      "I'm doing the thing.\n",
      "bone-penn-601\n",
      "Does this patient have T2 available? True\n",
      "I'm doing the thing.\n"
     ]
    },
    {
     "name": "stderr",
     "output_type": "stream",
     "text": [
      "\r",
      " 77%|███████▋  | 477/622 [01:50<01:00,  2.41it/s]"
     ]
    },
    {
     "name": "stdout",
     "output_type": "stream",
     "text": [
      "bone-penn-363\n",
      "Does this patient have T2 available? True\n",
      "I'm doing the thing.\n"
     ]
    },
    {
     "name": "stderr",
     "output_type": "stream",
     "text": [
      "\r",
      " 77%|███████▋  | 478/622 [01:50<00:57,  2.52it/s]"
     ]
    },
    {
     "name": "stdout",
     "output_type": "stream",
     "text": [
      "bone-penn-414\n",
      "Does this patient have T2 available? True\n",
      "I'm doing the thing.\n",
      "bone-hup-56\n",
      "Does this patient have T2 available? True\n",
      "I'm doing the thing.\n"
     ]
    },
    {
     "name": "stderr",
     "output_type": "stream",
     "text": [
      " 77%|███████▋  | 481/622 [01:50<00:36,  3.91it/s]"
     ]
    },
    {
     "name": "stdout",
     "output_type": "stream",
     "text": [
      "bone-hup-83\n",
      "Does this patient have T2 available? True\n",
      "I'm doing the thing.\n",
      "bone-penn-169\n",
      "Does this patient have T2 available? True\n",
      "I'm doing the thing.\n"
     ]
    },
    {
     "name": "stderr",
     "output_type": "stream",
     "text": [
      " 78%|███████▊  | 483/622 [01:51<00:31,  4.36it/s]"
     ]
    },
    {
     "name": "stdout",
     "output_type": "stream",
     "text": [
      "bone-penn-620\n",
      "Does this patient have T2 available? True\n",
      "I'm doing the thing.\n",
      "bone-hup-94\n",
      "Does this patient have T2 available? True\n",
      "I'm doing the thing.\n"
     ]
    },
    {
     "name": "stderr",
     "output_type": "stream",
     "text": [
      "\r",
      " 78%|███████▊  | 484/622 [01:51<00:32,  4.24it/s]"
     ]
    },
    {
     "name": "stdout",
     "output_type": "stream",
     "text": [
      "bone-penn-124\n",
      "Does this patient have T2 available? True\n",
      "I'm doing the thing.\n"
     ]
    },
    {
     "name": "stderr",
     "output_type": "stream",
     "text": [
      "\r",
      " 78%|███████▊  | 485/622 [01:52<00:49,  2.78it/s]"
     ]
    },
    {
     "name": "stdout",
     "output_type": "stream",
     "text": [
      "bone-hup-232\n",
      "Does this patient have T2 available? True\n",
      "I'm doing the thing.\n"
     ]
    },
    {
     "name": "stderr",
     "output_type": "stream",
     "text": [
      "\r",
      " 78%|███████▊  | 486/622 [01:52<00:53,  2.54it/s]"
     ]
    },
    {
     "name": "stdout",
     "output_type": "stream",
     "text": [
      "bone-penn-014\n",
      "Does this patient have T2 available? True\n",
      "I'm doing the thing.\n"
     ]
    },
    {
     "name": "stderr",
     "output_type": "stream",
     "text": [
      "\r",
      " 78%|███████▊  | 487/622 [01:52<00:47,  2.87it/s]"
     ]
    },
    {
     "name": "stdout",
     "output_type": "stream",
     "text": [
      "bone-penn-314\n",
      "Does this patient have T2 available? True\n",
      "I'm doing the thing.\n"
     ]
    },
    {
     "name": "stderr",
     "output_type": "stream",
     "text": [
      "\r",
      " 78%|███████▊  | 488/622 [01:53<00:50,  2.66it/s]"
     ]
    },
    {
     "name": "stdout",
     "output_type": "stream",
     "text": [
      "bone-penn-644\n",
      "Does this patient have T2 available? True\n",
      "I'm doing the thing.\n"
     ]
    },
    {
     "name": "stderr",
     "output_type": "stream",
     "text": [
      "\r",
      " 79%|███████▊  | 489/622 [01:53<00:58,  2.28it/s]"
     ]
    },
    {
     "name": "stdout",
     "output_type": "stream",
     "text": [
      "bone-penn-194\n",
      "Does this patient have T2 available? True\n",
      "I'm doing the thing.\n"
     ]
    },
    {
     "name": "stderr",
     "output_type": "stream",
     "text": [
      " 79%|███████▉  | 491/622 [01:54<00:53,  2.43it/s]"
     ]
    },
    {
     "name": "stdout",
     "output_type": "stream",
     "text": [
      "bone-penn-608\n",
      "Does this patient have T2 available? True\n",
      "I'm doing the thing.\n",
      "bone-penn-179\n",
      "Does this patient have T2 available? True\n",
      "I'm doing the thing.\n"
     ]
    },
    {
     "name": "stderr",
     "output_type": "stream",
     "text": [
      "\r",
      " 79%|███████▉  | 492/622 [01:55<00:54,  2.37it/s]"
     ]
    },
    {
     "name": "stdout",
     "output_type": "stream",
     "text": [
      "bone-penn-238\n",
      "Does this patient have T2 available? True\n",
      "I'm doing the thing.\n"
     ]
    },
    {
     "name": "stderr",
     "output_type": "stream",
     "text": [
      " 79%|███████▉  | 494/622 [01:55<00:38,  3.31it/s]"
     ]
    },
    {
     "name": "stdout",
     "output_type": "stream",
     "text": [
      "bone-penn-460\n",
      "Does this patient have T2 available? True\n",
      "I'm doing the thing.\n",
      "bone-hup-102\n",
      "Does this patient have T2 available? True\n",
      "I'm doing the thing.\n"
     ]
    },
    {
     "name": "stderr",
     "output_type": "stream",
     "text": [
      "\r",
      " 80%|███████▉  | 495/622 [01:55<00:32,  3.95it/s]"
     ]
    },
    {
     "name": "stdout",
     "output_type": "stream",
     "text": [
      "bone-penn-622\n",
      "Does this patient have T2 available? True\n",
      "I'm doing the thing.\n"
     ]
    },
    {
     "name": "stderr",
     "output_type": "stream",
     "text": [
      " 80%|███████▉  | 497/622 [01:56<00:29,  4.28it/s]"
     ]
    },
    {
     "name": "stdout",
     "output_type": "stream",
     "text": [
      "bone-hup-144\n",
      "Does this patient have T2 available? True\n",
      "I'm doing the thing.\n",
      "bone-hup-171\n",
      "Does this patient have T2 available? True\n",
      "I'm doing the thing.\n"
     ]
    },
    {
     "name": "stderr",
     "output_type": "stream",
     "text": [
      " 80%|████████  | 499/622 [01:56<00:23,  5.19it/s]"
     ]
    },
    {
     "name": "stdout",
     "output_type": "stream",
     "text": [
      "bone-china-176\n",
      "Does this patient have T2 available? True\n",
      "I'm doing the thing.\n",
      "bone-penn-607\n",
      "Does this patient have T2 available? True\n",
      "I'm doing the thing.\n"
     ]
    },
    {
     "name": "stderr",
     "output_type": "stream",
     "text": [
      "\r",
      " 80%|████████  | 500/622 [01:57<00:37,  3.22it/s]"
     ]
    },
    {
     "name": "stdout",
     "output_type": "stream",
     "text": [
      "bone-penn-439\n",
      "Does this patient have T2 available? True\n",
      "I'm doing the thing.\n"
     ]
    },
    {
     "name": "stderr",
     "output_type": "stream",
     "text": [
      "\r",
      " 81%|████████  | 501/622 [01:57<00:47,  2.57it/s]"
     ]
    },
    {
     "name": "stdout",
     "output_type": "stream",
     "text": [
      "bone-penn-020\n",
      "Does this patient have T2 available? True\n",
      "I'm doing the thing.\n",
      "bone-hup-111\n",
      "Does this patient have T2 available? True\n",
      "I'm doing the thing.\n"
     ]
    },
    {
     "name": "stderr",
     "output_type": "stream",
     "text": [
      " 81%|████████  | 504/622 [01:58<00:35,  3.31it/s]"
     ]
    },
    {
     "name": "stdout",
     "output_type": "stream",
     "text": [
      "bone-penn-596\n",
      "Does this patient have T2 available? True\n",
      "I'm doing the thing.\n",
      "bone-penn-367\n",
      "Does this patient have T2 available? True\n",
      "I'm doing the thing.\n",
      "bone-hup-55\n",
      "Does this patient have T2 available? True\n",
      "I'm doing the thing.\n"
     ]
    },
    {
     "name": "stderr",
     "output_type": "stream",
     "text": [
      " 82%|████████▏ | 507/622 [01:58<00:22,  5.06it/s]"
     ]
    },
    {
     "name": "stdout",
     "output_type": "stream",
     "text": [
      "bone-penn-316\n",
      "Does this patient have T2 available? True\n",
      "I'm doing the thing.\n",
      "bone-penn-458\n",
      "Does this patient have T2 available? True\n",
      "I'm doing the thing.\n"
     ]
    },
    {
     "name": "stderr",
     "output_type": "stream",
     "text": [
      "\r",
      " 82%|████████▏ | 508/622 [01:59<00:29,  3.93it/s]"
     ]
    },
    {
     "name": "stdout",
     "output_type": "stream",
     "text": [
      "bone-hup-211\n",
      "Does this patient have T2 available? True\n",
      "I'm doing the thing.\n"
     ]
    },
    {
     "name": "stderr",
     "output_type": "stream",
     "text": [
      "\r",
      " 82%|████████▏ | 509/622 [01:59<00:37,  3.04it/s]"
     ]
    },
    {
     "name": "stdout",
     "output_type": "stream",
     "text": [
      "bone-penn-268\n",
      "Does this patient have T2 available? True\n",
      "I'm doing the thing.\n",
      "bone-penn-026\n",
      "Does this patient have T2 available? True\n",
      "I'm doing the thing.\n"
     ]
    },
    {
     "name": "stderr",
     "output_type": "stream",
     "text": [
      "\r",
      " 82%|████████▏ | 511/622 [01:59<00:29,  3.76it/s]"
     ]
    },
    {
     "name": "stdout",
     "output_type": "stream",
     "text": [
      "bone-penn-010\n",
      "Does this patient have T2 available? True\n",
      "I'm doing the thing.\n"
     ]
    },
    {
     "name": "stderr",
     "output_type": "stream",
     "text": [
      "\r",
      " 82%|████████▏ | 512/622 [02:00<00:29,  3.71it/s]"
     ]
    },
    {
     "name": "stdout",
     "output_type": "stream",
     "text": [
      "bone-penn-191\n",
      "Does this patient have T2 available? True\n",
      "I'm doing the thing.\n"
     ]
    },
    {
     "name": "stderr",
     "output_type": "stream",
     "text": [
      "\r",
      " 82%|████████▏ | 513/622 [02:00<00:29,  3.67it/s]"
     ]
    },
    {
     "name": "stdout",
     "output_type": "stream",
     "text": [
      "bone-penn-052\n",
      "Does this patient have T2 available? True\n",
      "I'm doing the thing.\n"
     ]
    },
    {
     "name": "stderr",
     "output_type": "stream",
     "text": [
      "\r",
      " 83%|████████▎ | 514/622 [02:00<00:31,  3.45it/s]"
     ]
    },
    {
     "name": "stdout",
     "output_type": "stream",
     "text": [
      "bone-hup-160\n",
      "Does this patient have T2 available? True\n",
      "I'm doing the thing.\n"
     ]
    },
    {
     "name": "stderr",
     "output_type": "stream",
     "text": [
      " 83%|████████▎ | 516/622 [02:01<00:29,  3.62it/s]"
     ]
    },
    {
     "name": "stdout",
     "output_type": "stream",
     "text": [
      "bone-penn-073\n",
      "Does this patient have T2 available? True\n",
      "I'm doing the thing.\n",
      "bone-penn-368\n",
      "Does this patient have T2 available? True\n",
      "I'm doing the thing.\n"
     ]
    },
    {
     "name": "stderr",
     "output_type": "stream",
     "text": [
      " 83%|████████▎ | 518/622 [02:01<00:20,  5.15it/s]"
     ]
    },
    {
     "name": "stdout",
     "output_type": "stream",
     "text": [
      "bone-penn-479\n",
      "Does this patient have T2 available? True\n",
      "I'm doing the thing.\n",
      "bone-penn-172\n",
      "Does this patient have T2 available? True\n",
      "I'm doing the thing.\n"
     ]
    },
    {
     "name": "stderr",
     "output_type": "stream",
     "text": [
      " 84%|████████▎ | 520/622 [02:01<00:17,  5.77it/s]"
     ]
    },
    {
     "name": "stdout",
     "output_type": "stream",
     "text": [
      "bone-penn-063\n",
      "Does this patient have T2 available? True\n",
      "I'm doing the thing.\n",
      "bone-penn-119\n",
      "Does this patient have T2 available? True\n",
      "I'm doing the thing.\n"
     ]
    },
    {
     "name": "stderr",
     "output_type": "stream",
     "text": [
      " 84%|████████▍ | 522/622 [02:02<00:15,  6.28it/s]"
     ]
    },
    {
     "name": "stdout",
     "output_type": "stream",
     "text": [
      "bone-penn-069\n",
      "Does this patient have T2 available? True\n",
      "I'm doing the thing.\n",
      "bone-china-209\n",
      "Does this patient have T2 available? True\n",
      "I'm doing the thing.\n"
     ]
    },
    {
     "name": "stderr",
     "output_type": "stream",
     "text": [
      "\r",
      " 84%|████████▍ | 524/622 [02:02<00:13,  7.34it/s]"
     ]
    },
    {
     "name": "stdout",
     "output_type": "stream",
     "text": [
      "bone-penn-300\n",
      "Does this patient have T2 available? True\n",
      "I'm doing the thing.\n",
      "bone-hup-273\n",
      "Does this patient have T2 available? True\n",
      "I'm doing the thing.\n"
     ]
    },
    {
     "name": "stderr",
     "output_type": "stream",
     "text": [
      " 85%|████████▍ | 526/622 [02:02<00:13,  6.96it/s]"
     ]
    },
    {
     "name": "stdout",
     "output_type": "stream",
     "text": [
      "bone-hup-65\n",
      "Does this patient have T2 available? True\n",
      "I'm doing the thing.\n",
      "bone-penn-259\n",
      "Does this patient have T2 available? True\n",
      "I'm doing the thing.\n",
      "bone-hup-169\n",
      "Does this patient have T2 available? True\n",
      "I'm doing the thing.\n"
     ]
    },
    {
     "name": "stderr",
     "output_type": "stream",
     "text": [
      " 85%|████████▌ | 529/622 [02:03<00:14,  6.53it/s]"
     ]
    },
    {
     "name": "stdout",
     "output_type": "stream",
     "text": [
      "bone-hup-61\n",
      "Does this patient have T2 available? True\n",
      "I'm doing the thing.\n",
      "bone-penn-309\n",
      "Does this patient have T2 available? True\n",
      "I'm doing the thing.\n"
     ]
    },
    {
     "name": "stderr",
     "output_type": "stream",
     "text": [
      "\r",
      " 85%|████████▌ | 530/622 [02:03<00:14,  6.29it/s]"
     ]
    },
    {
     "name": "stdout",
     "output_type": "stream",
     "text": [
      "bone-penn-650\n",
      "Does this patient have T2 available? True\n",
      "I'm doing the thing.\n"
     ]
    },
    {
     "name": "stderr",
     "output_type": "stream",
     "text": [
      " 86%|████████▌ | 532/622 [02:03<00:14,  6.00it/s]"
     ]
    },
    {
     "name": "stdout",
     "output_type": "stream",
     "text": [
      "bone-penn-614\n",
      "Does this patient have T2 available? True\n",
      "I'm doing the thing.\n",
      "bone-penn-405\n",
      "Does this patient have T2 available? True\n",
      "I'm doing the thing.\n"
     ]
    },
    {
     "name": "stderr",
     "output_type": "stream",
     "text": [
      " 86%|████████▌ | 534/622 [02:03<00:14,  6.29it/s]"
     ]
    },
    {
     "name": "stdout",
     "output_type": "stream",
     "text": [
      "bone-penn-600\n",
      "Does this patient have T2 available? True\n",
      "I'm doing the thing.\n",
      "bone-hup-81\n",
      "Does this patient have T2 available? True\n",
      "I'm doing the thing.\n",
      "bone-penn-626\n",
      "Does this patient have T2 available? True\n",
      "I'm doing the thing.\n"
     ]
    },
    {
     "name": "stderr",
     "output_type": "stream",
     "text": [
      "\r",
      " 86%|████████▌ | 536/622 [02:04<00:10,  7.88it/s]"
     ]
    },
    {
     "name": "stdout",
     "output_type": "stream",
     "text": [
      "bone-hup-52\n",
      "Does this patient have T2 available? True\n",
      "I'm doing the thing.\n",
      "bone-hup-93\n",
      "Does this patient have T2 available? True\n",
      "I'm doing the thing.\n"
     ]
    },
    {
     "name": "stderr",
     "output_type": "stream",
     "text": [
      "\r",
      " 86%|████████▋ | 538/622 [02:05<00:22,  3.78it/s]"
     ]
    },
    {
     "name": "stdout",
     "output_type": "stream",
     "text": [
      "bone-hup-23\n",
      "Does this patient have T2 available? True\n",
      "I'm doing the thing.\n"
     ]
    },
    {
     "name": "stderr",
     "output_type": "stream",
     "text": [
      "\r",
      " 87%|████████▋ | 539/622 [02:05<00:29,  2.78it/s]"
     ]
    },
    {
     "name": "stdout",
     "output_type": "stream",
     "text": [
      "bone-penn-643\n",
      "Does this patient have T2 available? True\n",
      "I'm doing the thing.\n"
     ]
    },
    {
     "name": "stderr",
     "output_type": "stream",
     "text": [
      "\r",
      " 87%|████████▋ | 540/622 [02:06<00:31,  2.57it/s]"
     ]
    },
    {
     "name": "stdout",
     "output_type": "stream",
     "text": [
      "bone-hup-237\n",
      "Does this patient have T2 available? True\n",
      "I'm doing the thing.\n"
     ]
    },
    {
     "name": "stderr",
     "output_type": "stream",
     "text": [
      " 87%|████████▋ | 542/622 [02:06<00:21,  3.66it/s]"
     ]
    },
    {
     "name": "stdout",
     "output_type": "stream",
     "text": [
      "bone-china-231\n",
      "Does this patient have T2 available? True\n",
      "I'm doing the thing.\n",
      "bone-penn-598\n",
      "Does this patient have T2 available? True\n",
      "I'm doing the thing.\n"
     ]
    },
    {
     "name": "stderr",
     "output_type": "stream",
     "text": [
      " 87%|████████▋ | 544/622 [02:06<00:16,  4.61it/s]"
     ]
    },
    {
     "name": "stdout",
     "output_type": "stream",
     "text": [
      "bone-hup-179\n",
      "Does this patient have T2 available? True\n",
      "I'm doing the thing.\n",
      "bone-penn-244\n",
      "Does this patient have T2 available? True\n",
      "I'm doing the thing.\n"
     ]
    },
    {
     "name": "stderr",
     "output_type": "stream",
     "text": [
      "\r",
      " 88%|████████▊ | 545/622 [02:07<00:14,  5.37it/s]"
     ]
    },
    {
     "name": "stdout",
     "output_type": "stream",
     "text": [
      "bone-hup-138\n",
      "Does this patient have T2 available? True\n",
      "I'm doing the thing.\n"
     ]
    },
    {
     "name": "stderr",
     "output_type": "stream",
     "text": [
      " 88%|████████▊ | 547/622 [02:07<00:13,  5.46it/s]"
     ]
    },
    {
     "name": "stdout",
     "output_type": "stream",
     "text": [
      "bone-hup-244\n",
      "Does this patient have T2 available? True\n",
      "I'm doing the thing.\n",
      "bone-penn-219\n",
      "Does this patient have T2 available? True\n",
      "I'm doing the thing.\n"
     ]
    },
    {
     "name": "stderr",
     "output_type": "stream",
     "text": [
      "\r",
      " 88%|████████▊ | 548/622 [02:07<00:12,  6.07it/s]"
     ]
    },
    {
     "name": "stdout",
     "output_type": "stream",
     "text": [
      "bone-hup-262\n",
      "Does this patient have T2 available? True\n",
      "I'm doing the thing.\n",
      "bone-penn-055\n",
      "Does this patient have T2 available? True\n",
      "I'm doing the thing.\n"
     ]
    },
    {
     "name": "stderr",
     "output_type": "stream",
     "text": [
      "\r",
      " 88%|████████▊ | 550/622 [02:07<00:11,  6.47it/s]"
     ]
    },
    {
     "name": "stdout",
     "output_type": "stream",
     "text": [
      "bone-penn-192\n",
      "Does this patient have T2 available? True\n",
      "I'm doing the thing.\n"
     ]
    },
    {
     "name": "stderr",
     "output_type": "stream",
     "text": [
      "\r",
      " 89%|████████▊ | 551/622 [02:08<00:13,  5.15it/s]"
     ]
    },
    {
     "name": "stdout",
     "output_type": "stream",
     "text": [
      "bone-penn-236\n",
      "Does this patient have T2 available? True\n",
      "I'm doing the thing.\n"
     ]
    },
    {
     "name": "stderr",
     "output_type": "stream",
     "text": [
      "\r",
      " 89%|████████▊ | 552/622 [02:08<00:16,  4.20it/s]"
     ]
    },
    {
     "name": "stdout",
     "output_type": "stream",
     "text": [
      "bone-penn-018\n",
      "Does this patient have T2 available? True\n",
      "I'm doing the thing.\n"
     ]
    },
    {
     "name": "stderr",
     "output_type": "stream",
     "text": [
      "\r",
      " 89%|████████▉ | 553/622 [02:09<00:22,  3.01it/s]"
     ]
    },
    {
     "name": "stdout",
     "output_type": "stream",
     "text": [
      "bone-penn-072\n",
      "Does this patient have T2 available? True\n",
      "I'm doing the thing.\n"
     ]
    },
    {
     "name": "stderr",
     "output_type": "stream",
     "text": [
      "\r",
      " 89%|████████▉ | 554/622 [02:09<00:24,  2.73it/s]"
     ]
    },
    {
     "name": "stdout",
     "output_type": "stream",
     "text": [
      "bone-penn-546\n",
      "Does this patient have T2 available? True\n",
      "I'm doing the thing.\n"
     ]
    },
    {
     "name": "stderr",
     "output_type": "stream",
     "text": [
      "\r",
      " 89%|████████▉ | 555/622 [02:09<00:23,  2.86it/s]"
     ]
    },
    {
     "name": "stdout",
     "output_type": "stream",
     "text": [
      "bone-china-201\n",
      "Does this patient have T2 available? True\n",
      "I'm doing the thing.\n",
      "bone-penn-597\n",
      "Does this patient have T2 available? True\n",
      "I'm doing the thing.\n"
     ]
    },
    {
     "name": "stderr",
     "output_type": "stream",
     "text": [
      " 90%|████████▉ | 558/622 [02:11<00:22,  2.89it/s]"
     ]
    },
    {
     "name": "stdout",
     "output_type": "stream",
     "text": [
      "bone-hup-91\n",
      "Does this patient have T2 available? True\n",
      "I'm doing the thing.\n",
      "bone-penn-227\n",
      "Does this patient have T2 available? True\n",
      "I'm doing the thing.\n"
     ]
    },
    {
     "name": "stderr",
     "output_type": "stream",
     "text": [
      " 90%|█████████ | 560/622 [02:12<00:25,  2.41it/s]"
     ]
    },
    {
     "name": "stdout",
     "output_type": "stream",
     "text": [
      "bone-penn-464\n",
      "Does this patient have T2 available? True\n",
      "I'm doing the thing.\n",
      "bone-penn-467\n",
      "Does this patient have T2 available? True\n",
      "I'm doing the thing.\n"
     ]
    },
    {
     "name": "stderr",
     "output_type": "stream",
     "text": [
      " 90%|█████████ | 562/622 [02:12<00:16,  3.64it/s]"
     ]
    },
    {
     "name": "stdout",
     "output_type": "stream",
     "text": [
      "bone-hup-228\n",
      "Does this patient have T2 available? True\n",
      "I'm doing the thing.\n",
      "bone-penn-618\n",
      "Does this patient have T2 available? True\n",
      "I'm doing the thing.\n"
     ]
    },
    {
     "name": "stderr",
     "output_type": "stream",
     "text": [
      " 91%|█████████ | 564/622 [02:13<00:15,  3.84it/s]"
     ]
    },
    {
     "name": "stdout",
     "output_type": "stream",
     "text": [
      "bone-penn-253\n",
      "Does this patient have T2 available? True\n",
      "I'm doing the thing.\n",
      "bone-china-198\n",
      "Does this patient have T2 available? True\n",
      "I'm doing the thing.\n",
      "bone-penn-223\n",
      "Does this patient have T2 available? True\n",
      "I'm doing the thing.\n"
     ]
    },
    {
     "name": "stderr",
     "output_type": "stream",
     "text": [
      "\r",
      " 91%|█████████ | 566/622 [02:13<00:16,  3.45it/s]"
     ]
    },
    {
     "name": "stdout",
     "output_type": "stream",
     "text": [
      "bone-hup-112\n",
      "Does this patient have T2 available? True\n",
      "I'm doing the thing.\n"
     ]
    },
    {
     "name": "stderr",
     "output_type": "stream",
     "text": [
      "\r",
      " 91%|█████████ | 567/622 [02:14<00:15,  3.65it/s]"
     ]
    },
    {
     "name": "stdout",
     "output_type": "stream",
     "text": [
      "bone-hup-105\n",
      "Does this patient have T2 available? True\n",
      "I'm doing the thing.\n",
      "bone-hup-62\n",
      "Does this patient have T2 available? True\n",
      "I'm doing the thing.\n"
     ]
    },
    {
     "name": "stderr",
     "output_type": "stream",
     "text": [
      "\r",
      " 91%|█████████▏| 569/622 [02:14<00:12,  4.34it/s]"
     ]
    },
    {
     "name": "stdout",
     "output_type": "stream",
     "text": [
      "bone-china-199\n",
      "Does this patient have T2 available? True\n",
      "I'm doing the thing.\n",
      "bone-penn-126\n",
      "Does this patient have T2 available? True\n",
      "I'm doing the thing.\n"
     ]
    },
    {
     "name": "stderr",
     "output_type": "stream",
     "text": [
      " 92%|█████████▏| 572/622 [02:14<00:10,  4.92it/s]"
     ]
    },
    {
     "name": "stdout",
     "output_type": "stream",
     "text": [
      "bone-penn-064\n",
      "Does this patient have T2 available? True\n",
      "I'm doing the thing.\n",
      "bone-penn-461\n",
      "Does this patient have T2 available? True\n",
      "I'm doing the thing.\n"
     ]
    },
    {
     "name": "stderr",
     "output_type": "stream",
     "text": [
      " 92%|█████████▏| 574/622 [02:15<00:12,  3.92it/s]"
     ]
    },
    {
     "name": "stdout",
     "output_type": "stream",
     "text": [
      "bone-penn-606\n",
      "Does this patient have T2 available? True\n",
      "I'm doing the thing.\n",
      "bone-penn-265\n",
      "Does this patient have T2 available? True\n",
      "I'm doing the thing.\n"
     ]
    },
    {
     "name": "stderr",
     "output_type": "stream",
     "text": [
      " 93%|█████████▎| 577/622 [02:15<00:09,  4.99it/s]"
     ]
    },
    {
     "name": "stdout",
     "output_type": "stream",
     "text": [
      "bone-hup-225\n",
      "Does this patient have T2 available? True\n",
      "I'm doing the thing.\n",
      "bone-hup-60\n",
      "Does this patient have T2 available? True\n",
      "I'm doing the thing.\n",
      "bone-hup-279\n",
      "Does this patient have T2 available? True\n",
      "I'm doing the thing.\n"
     ]
    },
    {
     "name": "stderr",
     "output_type": "stream",
     "text": [
      "\r",
      " 93%|█████████▎| 579/622 [02:16<00:07,  5.83it/s]"
     ]
    },
    {
     "name": "stdout",
     "output_type": "stream",
     "text": [
      "bone-hup-53\n",
      "Does this patient have T2 available? True\n",
      "I'm doing the thing.\n",
      "bone-hup-196\n",
      "Does this patient have T2 available? True\n",
      "I'm doing the thing.\n"
     ]
    },
    {
     "name": "stderr",
     "output_type": "stream",
     "text": [
      "\r",
      " 93%|█████████▎| 580/622 [02:16<00:07,  5.87it/s]"
     ]
    },
    {
     "name": "stdout",
     "output_type": "stream",
     "text": [
      "bone-penn-254\n",
      "Does this patient have T2 available? True\n",
      "I'm doing the thing.\n"
     ]
    },
    {
     "name": "stderr",
     "output_type": "stream",
     "text": [
      " 94%|█████████▎| 582/622 [02:16<00:06,  6.04it/s]"
     ]
    },
    {
     "name": "stdout",
     "output_type": "stream",
     "text": [
      "bone-penn-079\n",
      "Does this patient have T2 available? True\n",
      "I'm doing the thing.\n",
      "bone-penn-602\n",
      "Does this patient have T2 available? True\n",
      "I'm doing the thing.\n"
     ]
    },
    {
     "name": "stderr",
     "output_type": "stream",
     "text": [
      " 94%|█████████▍| 584/622 [02:17<00:07,  5.36it/s]"
     ]
    },
    {
     "name": "stdout",
     "output_type": "stream",
     "text": [
      "bone-penn-652\n",
      "Does this patient have T2 available? True\n",
      "I'm doing the thing.\n",
      "bone-hup-70\n",
      "Does this patient have T2 available? True\n",
      "I'm doing the thing.\n"
     ]
    },
    {
     "name": "stderr",
     "output_type": "stream",
     "text": [
      "\r",
      " 94%|█████████▍| 585/622 [02:17<00:06,  5.62it/s]"
     ]
    },
    {
     "name": "stdout",
     "output_type": "stream",
     "text": [
      "bone-china-212\n",
      "Does this patient have T2 available? True\n",
      "I'm doing the thing.\n",
      "bone-penn-386\n",
      "Does this patient have T2 available? True\n",
      "I'm doing the thing.\n"
     ]
    },
    {
     "name": "stderr",
     "output_type": "stream",
     "text": [
      " 95%|█████████▍| 588/622 [02:17<00:06,  5.49it/s]"
     ]
    },
    {
     "name": "stdout",
     "output_type": "stream",
     "text": [
      "bone-china-243\n",
      "Does this patient have T2 available? True\n",
      "I'm doing the thing.\n",
      "bone-penn-174\n",
      "Does this patient have T2 available? True\n",
      "I'm doing the thing.\n"
     ]
    },
    {
     "name": "stderr",
     "output_type": "stream",
     "text": [
      " 95%|█████████▍| 590/622 [02:18<00:05,  5.93it/s]"
     ]
    },
    {
     "name": "stdout",
     "output_type": "stream",
     "text": [
      "bone-hup-170\n",
      "Does this patient have T2 available? True\n",
      "I'm doing the thing.\n",
      "bone-penn-647\n",
      "Does this patient have T2 available? True\n",
      "I'm doing the thing.\n"
     ]
    },
    {
     "name": "stderr",
     "output_type": "stream",
     "text": [
      " 95%|█████████▌| 592/622 [02:18<00:05,  5.45it/s]"
     ]
    },
    {
     "name": "stdout",
     "output_type": "stream",
     "text": [
      "bone-china-194\n",
      "Does this patient have T2 available? True\n",
      "I'm doing the thing.\n",
      "bone-penn-610\n",
      "Does this patient have T2 available? True\n",
      "I'm doing the thing.\n"
     ]
    },
    {
     "name": "stderr",
     "output_type": "stream",
     "text": [
      "\r",
      " 95%|█████████▌| 593/622 [02:18<00:05,  5.20it/s]"
     ]
    },
    {
     "name": "stdout",
     "output_type": "stream",
     "text": [
      "bone-penn-372\n",
      "Does this patient have T2 available? True\n",
      "I'm doing the thing.\n"
     ]
    },
    {
     "name": "stderr",
     "output_type": "stream",
     "text": [
      " 96%|█████████▌| 596/622 [02:19<00:04,  6.12it/s]"
     ]
    },
    {
     "name": "stdout",
     "output_type": "stream",
     "text": [
      "bone-penn-176\n",
      "Does this patient have T2 available? True\n",
      "I'm doing the thing.\n",
      "bone-china-190\n",
      "Does this patient have T2 available? True\n",
      "I'm doing the thing.\n",
      "bone-penn-636\n",
      "Does this patient have T2 available? True\n",
      "I'm doing the thing.\n"
     ]
    },
    {
     "name": "stderr",
     "output_type": "stream",
     "text": [
      "\r",
      " 96%|█████████▌| 597/622 [02:19<00:04,  5.10it/s]"
     ]
    },
    {
     "name": "stdout",
     "output_type": "stream",
     "text": [
      "bone-hup-110\n",
      "Does this patient have T2 available? True\n",
      "I'm doing the thing.\n"
     ]
    },
    {
     "name": "stderr",
     "output_type": "stream",
     "text": [
      "\r",
      " 96%|█████████▌| 598/622 [02:19<00:04,  4.91it/s]"
     ]
    },
    {
     "name": "stdout",
     "output_type": "stream",
     "text": [
      "bone-penn-041\n",
      "Does this patient have T2 available? True\n",
      "I'm doing the thing.\n"
     ]
    },
    {
     "name": "stderr",
     "output_type": "stream",
     "text": [
      " 97%|█████████▋| 601/622 [02:20<00:05,  4.19it/s]"
     ]
    },
    {
     "name": "stdout",
     "output_type": "stream",
     "text": [
      "bone-china-184\n",
      "Does this patient have T2 available? True\n",
      "I'm doing the thing.\n",
      "bone-hup-207\n",
      "Does this patient have T2 available? True\n",
      "I'm doing the thing.\n",
      "bone-hup-248\n",
      "Does this patient have T2 available? True\n",
      "I'm doing the thing.\n"
     ]
    },
    {
     "name": "stderr",
     "output_type": "stream",
     "text": [
      "\r",
      " 97%|█████████▋| 603/622 [02:20<00:03,  5.12it/s]"
     ]
    },
    {
     "name": "stdout",
     "output_type": "stream",
     "text": [
      "bone-hup-183\n",
      "Does this patient have T2 available? True\n",
      "I'm doing the thing.\n",
      "bone-hup-180\n",
      "Does this patient have T2 available? True\n",
      "I'm doing the thing.\n"
     ]
    },
    {
     "name": "stderr",
     "output_type": "stream",
     "text": [
      "\r",
      " 97%|█████████▋| 604/622 [02:20<00:03,  5.13it/s]"
     ]
    },
    {
     "name": "stdout",
     "output_type": "stream",
     "text": [
      "bone-penn-418\n",
      "Does this patient have T2 available? True\n",
      "I'm doing the thing.\n"
     ]
    },
    {
     "name": "stderr",
     "output_type": "stream",
     "text": [
      "\r",
      " 97%|█████████▋| 605/622 [02:21<00:05,  3.15it/s]"
     ]
    },
    {
     "name": "stdout",
     "output_type": "stream",
     "text": [
      "bone-hup-106\n",
      "Does this patient have T2 available? True\n",
      "I'm doing the thing.\n"
     ]
    },
    {
     "name": "stderr",
     "output_type": "stream",
     "text": [
      " 98%|█████████▊| 607/622 [02:21<00:03,  3.80it/s]"
     ]
    },
    {
     "name": "stdout",
     "output_type": "stream",
     "text": [
      "bone-penn-247\n",
      "Does this patient have T2 available? True\n",
      "I'm doing the thing.\n",
      "bone-hup-191\n",
      "Does this patient have T2 available? True\n",
      "I'm doing the thing.\n"
     ]
    },
    {
     "name": "stderr",
     "output_type": "stream",
     "text": [
      " 98%|█████████▊| 609/622 [02:22<00:03,  4.31it/s]"
     ]
    },
    {
     "name": "stdout",
     "output_type": "stream",
     "text": [
      "bone-hup-231\n",
      "Does this patient have T2 available? True\n",
      "I'm doing the thing.\n"
     ]
    },
    {
     "name": "stderr",
     "output_type": "stream",
     "text": [
      "\r",
      " 98%|█████████▊| 610/622 [02:22<00:02,  4.97it/s]"
     ]
    },
    {
     "name": "stdout",
     "output_type": "stream",
     "text": [
      "bone-penn-160\n",
      "Does this patient have T2 available? True\n",
      "I'm doing the thing.\n",
      "bone-penn-653\n",
      "Does this patient have T2 available? True\n",
      "I'm doing the thing.\n"
     ]
    },
    {
     "name": "stderr",
     "output_type": "stream",
     "text": [
      "\r",
      " 98%|█████████▊| 611/622 [02:22<00:02,  4.97it/s]"
     ]
    },
    {
     "name": "stdout",
     "output_type": "stream",
     "text": [
      "bone-penn-231\n",
      "Does this patient have T2 available? True\n",
      "I'm doing the thing.\n"
     ]
    },
    {
     "name": "stderr",
     "output_type": "stream",
     "text": [
      "\r",
      " 98%|█████████▊| 612/622 [02:23<00:03,  2.92it/s]"
     ]
    },
    {
     "name": "stdout",
     "output_type": "stream",
     "text": [
      "bone-penn-246\n",
      "Does this patient have T2 available? True\n",
      "I'm doing the thing.\n",
      "bone-penn-214\n",
      "Does this patient have T2 available? True\n",
      "I'm doing the thing.\n"
     ]
    },
    {
     "name": "stderr",
     "output_type": "stream",
     "text": [
      "\r",
      " 99%|█████████▊| 614/622 [02:23<00:02,  3.40it/s]"
     ]
    },
    {
     "name": "stdout",
     "output_type": "stream",
     "text": [
      "bone-china-222\n",
      "Does this patient have T2 available? True\n",
      "I'm doing the thing.\n",
      "bone-hup-69\n",
      "Does this patient have T2 available? True\n",
      "I'm doing the thing.\n"
     ]
    },
    {
     "name": "stderr",
     "output_type": "stream",
     "text": [
      " 99%|█████████▉| 617/622 [02:23<00:01,  4.69it/s]"
     ]
    },
    {
     "name": "stdout",
     "output_type": "stream",
     "text": [
      "bone-china-221\n",
      "Does this patient have T2 available? True\n",
      "I'm doing the thing.\n",
      "bone-penn-390\n",
      "Does this patient have T2 available? True\n",
      "I'm doing the thing.\n"
     ]
    },
    {
     "name": "stderr",
     "output_type": "stream",
     "text": [
      "100%|█████████▉| 620/622 [02:24<00:00,  5.62it/s]"
     ]
    },
    {
     "name": "stdout",
     "output_type": "stream",
     "text": [
      "bone-china-193\n",
      "Does this patient have T2 available? True\n",
      "I'm doing the thing.\n",
      "bone-hup-263\n",
      "Does this patient have T2 available? True\n",
      "I'm doing the thing.\n",
      "bone-penn-168\n",
      "Does this patient have T2 available? True\n",
      "I'm doing the thing.\n"
     ]
    },
    {
     "name": "stderr",
     "output_type": "stream",
     "text": [
      "\r",
      "100%|█████████▉| 621/622 [02:24<00:00,  6.06it/s]"
     ]
    },
    {
     "name": "stdout",
     "output_type": "stream",
     "text": [
      "bone-penn-217\n",
      "Does this patient have T2 available? True\n",
      "I'm doing the thing.\n"
     ]
    },
    {
     "name": "stderr",
     "output_type": "stream",
     "text": [
      "100%|██████████| 622/622 [02:25<00:00,  4.28it/s]\n",
      "  0%|          | 0/168 [00:00<?, ?it/s]"
     ]
    },
    {
     "name": "stdout",
     "output_type": "stream",
     "text": [
      "bone-penn-113\n",
      "Does this patient have T2 available? True\n",
      "I'm doing the thing.\n",
      "bone-china-003\n",
      "Does this patient have T2 available? True\n",
      "I'm doing the thing.\n"
     ]
    },
    {
     "name": "stderr",
     "output_type": "stream",
     "text": [
      "  2%|▏         | 3/168 [00:00<00:20,  8.10it/s]"
     ]
    },
    {
     "name": "stdout",
     "output_type": "stream",
     "text": [
      "bone-penn-630\n",
      "Does this patient have T2 available? True\n",
      "I'm doing the thing.\n",
      "bone-china-078\n",
      "Does this patient have T2 available? True\n",
      "I'm doing the thing.\n"
     ]
    },
    {
     "name": "stderr",
     "output_type": "stream",
     "text": [
      "\r",
      "  2%|▏         | 4/168 [00:00<00:19,  8.29it/s]"
     ]
    },
    {
     "name": "stdout",
     "output_type": "stream",
     "text": [
      "bone-hup-326\n",
      "Does this patient have T2 available? True\n",
      "I'm doing the thing.\n"
     ]
    },
    {
     "name": "stderr",
     "output_type": "stream",
     "text": [
      "\r",
      "  3%|▎         | 5/168 [00:01<00:53,  3.07it/s]"
     ]
    },
    {
     "name": "stdout",
     "output_type": "stream",
     "text": [
      "bone-penn-054\n",
      "Does this patient have T2 available? True\n",
      "I'm doing the thing.\n",
      "bone-penn-312\n",
      "Does this patient have T2 available? True\n",
      "I'm doing the thing.\n"
     ]
    },
    {
     "name": "stderr",
     "output_type": "stream",
     "text": [
      "\r",
      "  4%|▍         | 7/168 [00:01<00:51,  3.13it/s]"
     ]
    },
    {
     "name": "stdout",
     "output_type": "stream",
     "text": [
      "bone-hup-116\n",
      "Does this patient have T2 available? True\n",
      "I'm doing the thing.\n"
     ]
    },
    {
     "name": "stderr",
     "output_type": "stream",
     "text": [
      "\r",
      "  5%|▍         | 8/168 [00:02<00:52,  3.06it/s]"
     ]
    },
    {
     "name": "stdout",
     "output_type": "stream",
     "text": [
      "bone-penn-031\n",
      "Does this patient have T2 available? True\n",
      "I'm doing the thing.\n",
      "bone-penn-482\n",
      "Does this patient have T2 available? True\n",
      "I'm doing the thing.\n"
     ]
    },
    {
     "name": "stderr",
     "output_type": "stream",
     "text": [
      "\r",
      "  6%|▌         | 10/168 [00:03<00:54,  2.88it/s]"
     ]
    },
    {
     "name": "stdout",
     "output_type": "stream",
     "text": [
      "bone-penn-82\n",
      "Does this patient have T2 available? True\n",
      "I'm doing the thing.\n"
     ]
    },
    {
     "name": "stderr",
     "output_type": "stream",
     "text": [
      "  8%|▊         | 13/168 [00:03<00:39,  3.94it/s]"
     ]
    },
    {
     "name": "stdout",
     "output_type": "stream",
     "text": [
      "bone-china-165\n",
      "Does this patient have T2 available? True\n",
      "I'm doing the thing.\n",
      "bone-penn-583\n",
      "Does this patient have T2 available? True\n",
      "I'm doing the thing.\n",
      "bone-china-145\n",
      "Does this patient have T2 available? True\n",
      "I'm doing the thing.\n"
     ]
    },
    {
     "name": "stderr",
     "output_type": "stream",
     "text": [
      "  9%|▉         | 15/168 [00:03<00:32,  4.71it/s]"
     ]
    },
    {
     "name": "stdout",
     "output_type": "stream",
     "text": [
      "bone-china-079\n",
      "Does this patient have T2 available? True\n",
      "I'm doing the thing.\n",
      "bone-hup-287\n",
      "Does this patient have T2 available? True\n",
      "I'm doing the thing.\n"
     ]
    },
    {
     "name": "stderr",
     "output_type": "stream",
     "text": [
      " 10%|█         | 17/168 [00:04<00:27,  5.45it/s]"
     ]
    },
    {
     "name": "stdout",
     "output_type": "stream",
     "text": [
      "bone-penn-328\n",
      "Does this patient have T2 available? True\n",
      "I'm doing the thing.\n",
      "bone-hup-128\n",
      "Does this patient have T2 available? True\n",
      "I'm doing the thing.\n"
     ]
    },
    {
     "name": "stderr",
     "output_type": "stream",
     "text": [
      "\r",
      " 11%|█         | 18/168 [00:04<00:40,  3.73it/s]"
     ]
    },
    {
     "name": "stdout",
     "output_type": "stream",
     "text": [
      "bone-penn-283\n",
      "Does this patient have T2 available? True\n",
      "I'm doing the thing.\n"
     ]
    },
    {
     "name": "stderr",
     "output_type": "stream",
     "text": [
      "\r",
      " 11%|█▏        | 19/168 [00:04<00:37,  3.94it/s]"
     ]
    },
    {
     "name": "stdout",
     "output_type": "stream",
     "text": [
      "bone-penn-576\n",
      "Does this patient have T2 available? True\n",
      "I'm doing the thing.\n"
     ]
    },
    {
     "name": "stderr",
     "output_type": "stream",
     "text": [
      "\r",
      " 12%|█▏        | 20/168 [00:05<00:41,  3.58it/s]"
     ]
    },
    {
     "name": "stdout",
     "output_type": "stream",
     "text": [
      "bone-penn-392\n",
      "Does this patient have T2 available? True\n",
      "I'm doing the thing.\n"
     ]
    },
    {
     "name": "stderr",
     "output_type": "stream",
     "text": [
      "\r",
      " 12%|█▎        | 21/168 [00:05<00:43,  3.36it/s]"
     ]
    },
    {
     "name": "stdout",
     "output_type": "stream",
     "text": [
      "bone-penn-454\n",
      "Does this patient have T2 available? True\n",
      "I'm doing the thing.\n",
      "bone-penn-374\n",
      "Does this patient have T2 available? True\n",
      "I'm doing the thing.\n"
     ]
    },
    {
     "name": "stderr",
     "output_type": "stream",
     "text": [
      " 14%|█▍        | 24/168 [00:06<00:34,  4.19it/s]"
     ]
    },
    {
     "name": "stdout",
     "output_type": "stream",
     "text": [
      "bone-china-127\n",
      "Does this patient have T2 available? True\n",
      "I'm doing the thing.\n",
      "bone-penn-147\n",
      "Does this patient have T2 available? True\n",
      "I'm doing the thing.\n"
     ]
    },
    {
     "name": "stderr",
     "output_type": "stream",
     "text": [
      " 15%|█▌        | 26/168 [00:06<00:34,  4.11it/s]"
     ]
    },
    {
     "name": "stdout",
     "output_type": "stream",
     "text": [
      "bone-hup-301\n",
      "Does this patient have T2 available? True\n",
      "I'm doing the thing.\n",
      "bone-china-174\n",
      "Does this patient have T2 available? True\n",
      "I'm doing the thing.\n"
     ]
    },
    {
     "name": "stderr",
     "output_type": "stream",
     "text": [
      "\r",
      " 16%|█▌        | 27/168 [00:06<00:32,  4.40it/s]"
     ]
    },
    {
     "name": "stdout",
     "output_type": "stream",
     "text": [
      "bone-hup-316\n",
      "Does this patient have T2 available? True\n",
      "I'm doing the thing.\n"
     ]
    },
    {
     "name": "stderr",
     "output_type": "stream",
     "text": [
      " 17%|█▋        | 29/168 [00:07<00:32,  4.32it/s]"
     ]
    },
    {
     "name": "stdout",
     "output_type": "stream",
     "text": [
      "bone-china-025\n",
      "Does this patient have T2 available? True\n",
      "I'm doing the thing.\n",
      "bone-penn-285\n",
      "Does this patient have T2 available? True\n",
      "I'm doing the thing.\n"
     ]
    },
    {
     "name": "stderr",
     "output_type": "stream",
     "text": [
      " 18%|█▊        | 31/168 [00:07<00:33,  4.11it/s]"
     ]
    },
    {
     "name": "stdout",
     "output_type": "stream",
     "text": [
      "bone-penn-512\n",
      "Does this patient have T2 available? True\n",
      "I'm doing the thing.\n",
      "bone-china-171\n",
      "Does this patient have T2 available? True\n",
      "I'm doing the thing.\n",
      "bone-hup-325\n",
      "Does this patient have T2 available? True\n",
      "I'm doing the thing.\n"
     ]
    },
    {
     "name": "stderr",
     "output_type": "stream",
     "text": [
      "\r",
      " 20%|█▉        | 33/168 [00:08<00:29,  4.51it/s]"
     ]
    },
    {
     "name": "stdout",
     "output_type": "stream",
     "text": [
      "bone-penn-517\n",
      "Does this patient have T2 available? True\n",
      "I'm doing the thing.\n"
     ]
    },
    {
     "name": "stderr",
     "output_type": "stream",
     "text": [
      " 21%|██        | 35/168 [00:08<00:26,  5.00it/s]"
     ]
    },
    {
     "name": "stdout",
     "output_type": "stream",
     "text": [
      "bone-china-105\n",
      "Does this patient have T2 available? True\n",
      "I'm doing the thing.\n",
      "bone-penn-109\n",
      "Does this patient have T2 available? True\n",
      "I'm doing the thing.\n"
     ]
    },
    {
     "name": "stderr",
     "output_type": "stream",
     "text": [
      "\r",
      " 21%|██▏       | 36/168 [00:08<00:22,  5.83it/s]"
     ]
    },
    {
     "name": "stdout",
     "output_type": "stream",
     "text": [
      "bone-china-125\n",
      "Does this patient have T2 available? True\n",
      "I'm doing the thing.\n",
      "bone-penn-016\n",
      "Does this patient have T2 available? True\n",
      "I'm doing the thing.\n"
     ]
    },
    {
     "name": "stderr",
     "output_type": "stream",
     "text": [
      " 23%|██▎       | 39/168 [00:09<00:20,  6.22it/s]"
     ]
    },
    {
     "name": "stdout",
     "output_type": "stream",
     "text": [
      "bone-china-028\n",
      "Does this patient have T2 available? True\n",
      "I'm doing the thing.\n",
      "bone-hup-136\n",
      "Does this patient have T2 available? True\n",
      "I'm doing the thing.\n"
     ]
    },
    {
     "name": "stderr",
     "output_type": "stream",
     "text": [
      "\r",
      " 24%|██▍       | 40/168 [00:09<00:19,  6.49it/s]"
     ]
    },
    {
     "name": "stdout",
     "output_type": "stream",
     "text": [
      "bone-penn-83\n",
      "Does this patient have T2 available? True\n",
      "I'm doing the thing.\n"
     ]
    },
    {
     "name": "stderr",
     "output_type": "stream",
     "text": [
      " 25%|██▌       | 42/168 [00:09<00:20,  6.15it/s]"
     ]
    },
    {
     "name": "stdout",
     "output_type": "stream",
     "text": [
      "bone-penn-130\n",
      "Does this patient have T2 available? True\n",
      "I'm doing the thing.\n",
      "bone-penn-017\n",
      "Does this patient have T2 available? True\n",
      "I'm doing the thing.\n"
     ]
    },
    {
     "name": "stderr",
     "output_type": "stream",
     "text": [
      " 26%|██▌       | 44/168 [00:09<00:17,  7.15it/s]"
     ]
    },
    {
     "name": "stdout",
     "output_type": "stream",
     "text": [
      "bone-penn-346\n",
      "Does this patient have T2 available? True\n",
      "I'm doing the thing.\n",
      "bone-penn-489\n",
      "Does this patient have T2 available? True\n",
      "I'm doing the thing.\n"
     ]
    },
    {
     "name": "stderr",
     "output_type": "stream",
     "text": [
      " 28%|██▊       | 47/168 [00:10<00:19,  6.27it/s]"
     ]
    },
    {
     "name": "stdout",
     "output_type": "stream",
     "text": [
      "bone-china-167\n",
      "Does this patient have T2 available? True\n",
      "I'm doing the thing.\n",
      "bone-penn-417\n",
      "Does this patient have T2 available? True\n",
      "I'm doing the thing.\n",
      "bone-penn-156\n",
      "Does this patient have T2 available? True\n",
      "I'm doing the thing.\n"
     ]
    },
    {
     "name": "stderr",
     "output_type": "stream",
     "text": [
      " 29%|██▉       | 49/168 [00:10<00:20,  5.84it/s]"
     ]
    },
    {
     "name": "stdout",
     "output_type": "stream",
     "text": [
      "bone-penn-590\n",
      "Does this patient have T2 available? True\n",
      "I'm doing the thing.\n",
      "bone-china-051\n",
      "Does this patient have T2 available? True\n",
      "I'm doing the thing.\n"
     ]
    },
    {
     "name": "stderr",
     "output_type": "stream",
     "text": [
      "\r",
      " 30%|███       | 51/168 [00:10<00:17,  6.74it/s]"
     ]
    },
    {
     "name": "stdout",
     "output_type": "stream",
     "text": [
      "bone-penn-98\n",
      "Does this patient have T2 available? True\n",
      "I'm doing the thing.\n",
      "bone-penn-077\n",
      "Does this patient have T2 available? True\n",
      "I'm doing the thing.\n"
     ]
    },
    {
     "name": "stderr",
     "output_type": "stream",
     "text": [
      "\r",
      " 31%|███       | 52/168 [00:11<00:15,  7.37it/s]"
     ]
    },
    {
     "name": "stdout",
     "output_type": "stream",
     "text": [
      "bone-china-050\n",
      "Does this patient have T2 available? True\n",
      "I'm doing the thing.\n",
      "bone-penn-494\n",
      "Does this patient have T2 available? True\n",
      "I'm doing the thing.\n"
     ]
    },
    {
     "name": "stderr",
     "output_type": "stream",
     "text": [
      "\r",
      " 32%|███▏      | 54/168 [00:11<00:19,  5.73it/s]"
     ]
    },
    {
     "name": "stdout",
     "output_type": "stream",
     "text": [
      "bone-penn-542\n",
      "Does this patient have T2 available? True\n",
      "I'm doing the thing.\n"
     ]
    },
    {
     "name": "stderr",
     "output_type": "stream",
     "text": [
      "\r",
      " 33%|███▎      | 55/168 [00:11<00:25,  4.47it/s]"
     ]
    },
    {
     "name": "stdout",
     "output_type": "stream",
     "text": [
      "bone-penn-049\n",
      "Does this patient have T2 available? True\n",
      "I'm doing the thing.\n"
     ]
    },
    {
     "name": "stderr",
     "output_type": "stream",
     "text": [
      "\r",
      " 33%|███▎      | 56/168 [00:12<00:26,  4.18it/s]"
     ]
    },
    {
     "name": "stdout",
     "output_type": "stream",
     "text": [
      "bone-penn-536\n",
      "Does this patient have T2 available? True\n",
      "I'm doing the thing.\n"
     ]
    },
    {
     "name": "stderr",
     "output_type": "stream",
     "text": [
      " 35%|███▍      | 58/168 [00:12<00:26,  4.16it/s]"
     ]
    },
    {
     "name": "stdout",
     "output_type": "stream",
     "text": [
      "bone-penn-564\n",
      "Does this patient have T2 available? True\n",
      "I'm doing the thing.\n",
      "bone-china-113\n",
      "Does this patient have T2 available? True\n",
      "I'm doing the thing.\n"
     ]
    },
    {
     "name": "stderr",
     "output_type": "stream",
     "text": [
      " 36%|███▌      | 60/168 [00:13<00:21,  5.03it/s]"
     ]
    },
    {
     "name": "stdout",
     "output_type": "stream",
     "text": [
      "bone-penn-613\n",
      "Does this patient have T2 available? True\n",
      "I'm doing the thing.\n",
      "bone-penn-455\n",
      "Does this patient have T2 available? True\n",
      "I'm doing the thing.\n"
     ]
    },
    {
     "name": "stderr",
     "output_type": "stream",
     "text": [
      " 37%|███▋      | 62/168 [00:13<00:22,  4.67it/s]"
     ]
    },
    {
     "name": "stdout",
     "output_type": "stream",
     "text": [
      "bone-penn-520\n",
      "Does this patient have T2 available? True\n",
      "I'm doing the thing.\n",
      "bone-penn-155\n",
      "Does this patient have T2 available? True\n",
      "I'm doing the thing.\n"
     ]
    },
    {
     "name": "stderr",
     "output_type": "stream",
     "text": [
      "\r",
      " 38%|███▊      | 63/168 [00:13<00:21,  4.90it/s]"
     ]
    },
    {
     "name": "stdout",
     "output_type": "stream",
     "text": [
      "bone-penn-068\n",
      "Does this patient have T2 available? True\n",
      "I'm doing the thing.\n",
      "bone-penn-332\n",
      "Does this patient have T2 available? True\n",
      "I'm doing the thing.\n"
     ]
    },
    {
     "name": "stderr",
     "output_type": "stream",
     "text": [
      "\r",
      " 39%|███▊      | 65/168 [00:14<00:21,  4.90it/s]"
     ]
    },
    {
     "name": "stdout",
     "output_type": "stream",
     "text": [
      "bone-penn-007\n",
      "Does this patient have T2 available? True\n",
      "I'm doing the thing.\n"
     ]
    },
    {
     "name": "stderr",
     "output_type": "stream",
     "text": [
      "\r",
      " 39%|███▉      | 66/168 [00:14<00:23,  4.40it/s]"
     ]
    },
    {
     "name": "stdout",
     "output_type": "stream",
     "text": [
      "bone-penn-561\n",
      "Does this patient have T2 available? True\n",
      "I'm doing the thing.\n"
     ]
    },
    {
     "name": "stderr",
     "output_type": "stream",
     "text": [
      "\r",
      " 40%|███▉      | 67/168 [00:14<00:23,  4.38it/s]"
     ]
    },
    {
     "name": "stdout",
     "output_type": "stream",
     "text": [
      "bone-china-005\n",
      "Does this patient have T2 available? True\n",
      "I'm doing the thing.\n",
      "bone-penn-039\n",
      "Does this patient have T2 available? True\n",
      "I'm doing the thing.\n"
     ]
    },
    {
     "name": "stderr",
     "output_type": "stream",
     "text": [
      " 42%|████▏     | 70/168 [00:15<00:18,  5.31it/s]"
     ]
    },
    {
     "name": "stdout",
     "output_type": "stream",
     "text": [
      "bone-china-039\n",
      "Does this patient have T2 available? True\n",
      "I'm doing the thing.\n",
      "bone-penn-396\n",
      "Does this patient have T2 available? True\n",
      "I'm doing the thing.\n"
     ]
    },
    {
     "name": "stderr",
     "output_type": "stream",
     "text": [
      "\r",
      " 42%|████▏     | 71/168 [00:15<00:30,  3.21it/s]"
     ]
    },
    {
     "name": "stdout",
     "output_type": "stream",
     "text": [
      "bone-penn-329\n",
      "Does this patient have T2 available? True\n",
      "I'm doing the thing.\n"
     ]
    },
    {
     "name": "stderr",
     "output_type": "stream",
     "text": [
      " 44%|████▍     | 74/168 [00:16<00:30,  3.05it/s]"
     ]
    },
    {
     "name": "stdout",
     "output_type": "stream",
     "text": [
      "bone-penn-319\n",
      "Does this patient have T2 available? True\n",
      "I'm doing the thing.\n",
      "bone-penn-282\n",
      "Does this patient have T2 available? True\n",
      "I'm doing the thing.\n",
      "bone-hup-329\n",
      "Does this patient have T2 available? True\n",
      "I'm doing the thing.\n"
     ]
    },
    {
     "name": "stderr",
     "output_type": "stream",
     "text": [
      " 45%|████▌     | 76/168 [00:17<00:27,  3.37it/s]"
     ]
    },
    {
     "name": "stdout",
     "output_type": "stream",
     "text": [
      "bone-penn-476\n",
      "Does this patient have T2 available? True\n",
      "I'm doing the thing.\n",
      "bone-china-159\n",
      "Does this patient have T2 available? True\n",
      "I'm doing the thing.\n"
     ]
    },
    {
     "name": "stderr",
     "output_type": "stream",
     "text": [
      " 46%|████▋     | 78/168 [00:17<00:20,  4.36it/s]"
     ]
    },
    {
     "name": "stdout",
     "output_type": "stream",
     "text": [
      "bone-hup-139\n",
      "Does this patient have T2 available? True\n",
      "I'm doing the thing.\n",
      "bone-hup-307\n",
      "Does this patient have T2 available? True\n",
      "I'm doing the thing.\n"
     ]
    },
    {
     "name": "stderr",
     "output_type": "stream",
     "text": [
      " 48%|████▊     | 80/168 [00:17<00:17,  4.99it/s]"
     ]
    },
    {
     "name": "stdout",
     "output_type": "stream",
     "text": [
      "bone-penn-297\n",
      "Does this patient have T2 available? True\n",
      "I'm doing the thing.\n",
      "bone-china-133\n",
      "Does this patient have T2 available? True\n",
      "I'm doing the thing.\n"
     ]
    },
    {
     "name": "stderr",
     "output_type": "stream",
     "text": [
      "\r",
      " 48%|████▊     | 81/168 [00:17<00:15,  5.52it/s]"
     ]
    },
    {
     "name": "stdout",
     "output_type": "stream",
     "text": [
      "bone-penn-132\n",
      "Does this patient have T2 available? True\n",
      "I'm doing the thing.\n"
     ]
    },
    {
     "name": "stderr",
     "output_type": "stream",
     "text": [
      " 49%|████▉     | 83/168 [00:18<00:23,  3.65it/s]"
     ]
    },
    {
     "name": "stdout",
     "output_type": "stream",
     "text": [
      "bone-penn-375\n",
      "Does this patient have T2 available? True\n",
      "I'm doing the thing.\n",
      "bone-penn-391\n",
      "Does this patient have T2 available? True\n",
      "I'm doing the thing.\n"
     ]
    },
    {
     "name": "stderr",
     "output_type": "stream",
     "text": [
      "\r",
      " 50%|█████     | 84/168 [00:18<00:20,  4.15it/s]"
     ]
    },
    {
     "name": "stdout",
     "output_type": "stream",
     "text": [
      "bone-penn-040\n",
      "Does this patient have T2 available? True\n",
      "I'm doing the thing.\n"
     ]
    },
    {
     "name": "stderr",
     "output_type": "stream",
     "text": [
      "\r",
      " 51%|█████     | 85/168 [00:19<00:21,  3.83it/s]"
     ]
    },
    {
     "name": "stdout",
     "output_type": "stream",
     "text": [
      "bone-china-093\n",
      "Does this patient have T2 available? True\n",
      "I'm doing the thing.\n"
     ]
    },
    {
     "name": "stderr",
     "output_type": "stream",
     "text": [
      " 52%|█████▏    | 87/168 [00:19<00:17,  4.69it/s]"
     ]
    },
    {
     "name": "stdout",
     "output_type": "stream",
     "text": [
      "bone-penn-293\n",
      "Does this patient have T2 available? True\n",
      "I'm doing the thing.\n",
      "bone-penn-515\n",
      "Does this patient have T2 available? True\n",
      "I'm doing the thing.\n"
     ]
    },
    {
     "name": "stderr",
     "output_type": "stream",
     "text": [
      " 54%|█████▎    | 90/168 [00:20<00:17,  4.52it/s]"
     ]
    },
    {
     "name": "stdout",
     "output_type": "stream",
     "text": [
      "bone-china-164\n",
      "Does this patient have T2 available? True\n",
      "I'm doing the thing.\n",
      "bone-china-019\n",
      "Does this patient have T2 available? True\n",
      "I'm doing the thing.\n",
      "bone-hup-157\n",
      "Does this patient have T2 available? True\n",
      "I'm doing the thing.\n"
     ]
    },
    {
     "name": "stderr",
     "output_type": "stream",
     "text": [
      "\r",
      " 54%|█████▍    | 91/168 [00:20<00:30,  2.56it/s]"
     ]
    },
    {
     "name": "stdout",
     "output_type": "stream",
     "text": [
      "bone-penn-078\n",
      "Does this patient have T2 available? True\n",
      "I'm doing the thing.\n"
     ]
    },
    {
     "name": "stderr",
     "output_type": "stream",
     "text": [
      " 55%|█████▌    | 93/168 [00:21<00:21,  3.56it/s]"
     ]
    },
    {
     "name": "stdout",
     "output_type": "stream",
     "text": [
      "bone-china-043\n",
      "Does this patient have T2 available? True\n",
      "I'm doing the thing.\n",
      "bone-hup-145\n",
      "Does this patient have T2 available? True\n",
      "I'm doing the thing.\n"
     ]
    },
    {
     "name": "stderr",
     "output_type": "stream",
     "text": [
      "\r",
      " 56%|█████▌    | 94/168 [00:21<00:18,  4.03it/s]"
     ]
    },
    {
     "name": "stdout",
     "output_type": "stream",
     "text": [
      "bone-penn-579\n",
      "Does this patient have T2 available? True\n",
      "I'm doing the thing.\n",
      "bone-hup-308\n",
      "Does this patient have T2 available? True\n",
      "I'm doing the thing.\n"
     ]
    },
    {
     "name": "stderr",
     "output_type": "stream",
     "text": [
      "\r",
      " 57%|█████▋    | 96/168 [00:21<00:15,  4.68it/s]"
     ]
    },
    {
     "name": "stdout",
     "output_type": "stream",
     "text": [
      "bone-penn-059\n",
      "Does this patient have T2 available? True\n",
      "I'm doing the thing.\n"
     ]
    },
    {
     "name": "stderr",
     "output_type": "stream",
     "text": [
      " 58%|█████▊    | 98/168 [00:22<00:19,  3.53it/s]"
     ]
    },
    {
     "name": "stdout",
     "output_type": "stream",
     "text": [
      "bone-hup-229\n",
      "Does this patient have T2 available? True\n",
      "I'm doing the thing.\n",
      "bone-hup-204\n",
      "Does this patient have T2 available? True\n",
      "I'm doing the thing.\n",
      "bone-penn-044\n",
      "Does this patient have T2 available? True\n",
      "I'm doing the thing.\n"
     ]
    },
    {
     "name": "stderr",
     "output_type": "stream",
     "text": [
      "\r",
      " 60%|█████▉    | 100/168 [00:23<00:20,  3.32it/s]"
     ]
    },
    {
     "name": "stdout",
     "output_type": "stream",
     "text": [
      "bone-penn-245\n",
      "Does this patient have T2 available? True\n",
      "I'm doing the thing.\n"
     ]
    },
    {
     "name": "stderr",
     "output_type": "stream",
     "text": [
      "\r",
      " 60%|██████    | 101/168 [00:23<00:18,  3.58it/s]"
     ]
    },
    {
     "name": "stdout",
     "output_type": "stream",
     "text": [
      "bone-china-242\n",
      "Does this patient have T2 available? True\n",
      "I'm doing the thing.\n"
     ]
    },
    {
     "name": "stderr",
     "output_type": "stream",
     "text": [
      "\r",
      " 61%|██████    | 102/168 [00:23<00:17,  3.67it/s]"
     ]
    },
    {
     "name": "stdout",
     "output_type": "stream",
     "text": [
      "bone-penn-260\n",
      "Does this patient have T2 available? True\n",
      "I'm doing the thing.\n"
     ]
    },
    {
     "name": "stderr",
     "output_type": "stream",
     "text": [
      " 62%|██████▏   | 104/168 [00:24<00:17,  3.67it/s]"
     ]
    },
    {
     "name": "stdout",
     "output_type": "stream",
     "text": [
      "bone-china-225\n",
      "Does this patient have T2 available? True\n",
      "I'm doing the thing.\n",
      "bone-penn-048\n",
      "Does this patient have T2 available? True\n",
      "I'm doing the thing.\n"
     ]
    },
    {
     "name": "stderr",
     "output_type": "stream",
     "text": [
      " 63%|██████▎   | 106/168 [00:25<00:21,  2.91it/s]"
     ]
    },
    {
     "name": "stdout",
     "output_type": "stream",
     "text": [
      "bone-penn-603\n",
      "Does this patient have T2 available? True\n",
      "I'm doing the thing.\n",
      "bone-penn-632\n",
      "Does this patient have T2 available? True\n",
      "I'm doing the thing.\n"
     ]
    },
    {
     "name": "stderr",
     "output_type": "stream",
     "text": [
      " 65%|██████▍   | 109/168 [00:25<00:12,  4.73it/s]"
     ]
    },
    {
     "name": "stdout",
     "output_type": "stream",
     "text": [
      "bone-hup-203\n",
      "Does this patient have T2 available? True\n",
      "I'm doing the thing.\n",
      "bone-china-211\n",
      "Does this patient have T2 available? True\n",
      "I'm doing the thing.\n",
      "bone-penn-379\n",
      "Does this patient have T2 available? True\n",
      "I'm doing the thing.\n",
      "bone-penn-609\n",
      "Does this patient have T2 available? True\n",
      "I'm doing the thing.\n"
     ]
    },
    {
     "name": "stderr",
     "output_type": "stream",
     "text": [
      "\r",
      " 66%|██████▌   | 111/168 [00:25<00:12,  4.61it/s]"
     ]
    },
    {
     "name": "stdout",
     "output_type": "stream",
     "text": [
      "bone-hup-188\n",
      "Does this patient have T2 available? True\n",
      "I'm doing the thing.\n"
     ]
    },
    {
     "name": "stderr",
     "output_type": "stream",
     "text": [
      "\r",
      " 67%|██████▋   | 112/168 [00:26<00:12,  4.52it/s]"
     ]
    },
    {
     "name": "stdout",
     "output_type": "stream",
     "text": [
      "bone-penn-065\n",
      "Does this patient have T2 available? True\n",
      "I'm doing the thing.\n"
     ]
    },
    {
     "name": "stderr",
     "output_type": "stream",
     "text": [
      " 68%|██████▊   | 115/168 [00:26<00:13,  3.91it/s]"
     ]
    },
    {
     "name": "stdout",
     "output_type": "stream",
     "text": [
      "bone-china-226\n",
      "Does this patient have T2 available? True\n",
      "I'm doing the thing.\n",
      "bone-penn-120\n",
      "Does this patient have T2 available? True\n",
      "I'm doing the thing.\n",
      "bone-penn-433\n",
      "Does this patient have T2 available? True\n",
      "I'm doing the thing.\n"
     ]
    },
    {
     "name": "stderr",
     "output_type": "stream",
     "text": [
      " 70%|██████▉   | 117/168 [00:27<00:14,  3.49it/s]"
     ]
    },
    {
     "name": "stdout",
     "output_type": "stream",
     "text": [
      "bone-hup-76\n",
      "Does this patient have T2 available? True\n",
      "I'm doing the thing.\n",
      "bone-penn-190\n",
      "Does this patient have T2 available? True\n",
      "I'm doing the thing.\n"
     ]
    },
    {
     "name": "stderr",
     "output_type": "stream",
     "text": [
      "\r",
      " 70%|███████   | 118/168 [00:28<00:16,  2.96it/s]"
     ]
    },
    {
     "name": "stdout",
     "output_type": "stream",
     "text": [
      "bone-penn-197\n",
      "Does this patient have T2 available? True\n",
      "I'm doing the thing.\n"
     ]
    },
    {
     "name": "stderr",
     "output_type": "stream",
     "text": [
      " 71%|███████▏  | 120/168 [00:28<00:13,  3.62it/s]"
     ]
    },
    {
     "name": "stdout",
     "output_type": "stream",
     "text": [
      "bone-hup-104\n",
      "Does this patient have T2 available? True\n",
      "I'm doing the thing.\n",
      "bone-penn-220\n",
      "Does this patient have T2 available? True\n",
      "I'm doing the thing.\n"
     ]
    },
    {
     "name": "stderr",
     "output_type": "stream",
     "text": [
      " 73%|███████▎  | 122/168 [00:28<00:10,  4.39it/s]"
     ]
    },
    {
     "name": "stdout",
     "output_type": "stream",
     "text": [
      "bone-penn-122\n",
      "Does this patient have T2 available? True\n",
      "I'm doing the thing.\n",
      "bone-penn-019\n",
      "Does this patient have T2 available? True\n",
      "I'm doing the thing.\n"
     ]
    },
    {
     "name": "stderr",
     "output_type": "stream",
     "text": [
      "\r",
      " 74%|███████▍  | 124/168 [00:29<00:08,  4.99it/s]"
     ]
    },
    {
     "name": "stdout",
     "output_type": "stream",
     "text": [
      "bone-hup-219\n",
      "Does this patient have T2 available? True\n",
      "I'm doing the thing.\n",
      "bone-hup-108\n",
      "Does this patient have T2 available? True\n",
      "I'm doing the thing.\n"
     ]
    },
    {
     "name": "stderr",
     "output_type": "stream",
     "text": [
      "\r",
      " 74%|███████▍  | 125/168 [00:29<00:07,  5.59it/s]"
     ]
    },
    {
     "name": "stdout",
     "output_type": "stream",
     "text": [
      "bone-penn-013\n",
      "Does this patient have T2 available? True\n",
      "I'm doing the thing.\n"
     ]
    },
    {
     "name": "stderr",
     "output_type": "stream",
     "text": [
      " 76%|███████▌  | 127/168 [00:30<00:10,  3.93it/s]"
     ]
    },
    {
     "name": "stdout",
     "output_type": "stream",
     "text": [
      "bone-hup-132\n",
      "Does this patient have T2 available? True\n",
      "I'm doing the thing.\n",
      "bone-penn-269\n",
      "Does this patient have T2 available? True\n",
      "I'm doing the thing.\n"
     ]
    },
    {
     "name": "stderr",
     "output_type": "stream",
     "text": [
      "\r",
      " 77%|███████▋  | 129/168 [00:30<00:07,  5.07it/s]"
     ]
    },
    {
     "name": "stdout",
     "output_type": "stream",
     "text": [
      "bone-penn-021\n",
      "Does this patient have T2 available? True\n",
      "I'm doing the thing.\n",
      "bone-penn-035\n",
      "Does this patient have T2 available? True\n",
      "I'm doing the thing.\n",
      "bone-penn-232\n",
      "Does this patient have T2 available? True\n",
      "I'm doing the thing.\n"
     ]
    },
    {
     "name": "stderr",
     "output_type": "stream",
     "text": [
      " 79%|███████▊  | 132/168 [00:30<00:06,  5.39it/s]"
     ]
    },
    {
     "name": "stdout",
     "output_type": "stream",
     "text": [
      "bone-hup-227\n",
      "Does this patient have T2 available? True\n",
      "I'm doing the thing.\n",
      "bone-hup-95\n",
      "Does this patient have T2 available? True\n",
      "I'm doing the thing.\n"
     ]
    },
    {
     "name": "stderr",
     "output_type": "stream",
     "text": [
      "\r",
      " 79%|███████▉  | 133/168 [00:30<00:06,  5.73it/s]"
     ]
    },
    {
     "name": "stdout",
     "output_type": "stream",
     "text": [
      "bone-penn-465\n",
      "Does this patient have T2 available? True\n",
      "I'm doing the thing.\n"
     ]
    },
    {
     "name": "stderr",
     "output_type": "stream",
     "text": [
      "\r",
      " 80%|███████▉  | 134/168 [00:31<00:09,  3.52it/s]"
     ]
    },
    {
     "name": "stdout",
     "output_type": "stream",
     "text": [
      "bone-china-216\n",
      "Does this patient have T2 available? True\n",
      "I'm doing the thing.\n",
      "bone-penn-605\n",
      "Does this patient have T2 available? True\n",
      "I'm doing the thing.\n"
     ]
    },
    {
     "name": "stderr",
     "output_type": "stream",
     "text": [
      " 82%|████████▏ | 138/168 [00:31<00:05,  5.21it/s]"
     ]
    },
    {
     "name": "stdout",
     "output_type": "stream",
     "text": [
      "bone-china-217\n",
      "Does this patient have T2 available? True\n",
      "I'm doing the thing.\n",
      "bone-penn-200\n",
      "Does this patient have T2 available? True\n",
      "I'm doing the thing.\n",
      "bone-penn-053\n",
      "Does this patient have T2 available? True\n",
      "I'm doing the thing.\n"
     ]
    },
    {
     "name": "stderr",
     "output_type": "stream",
     "text": [
      "\r",
      " 83%|████████▎ | 139/168 [00:32<00:05,  5.75it/s]"
     ]
    },
    {
     "name": "stdout",
     "output_type": "stream",
     "text": [
      "bone-penn-205\n",
      "Does this patient have T2 available? True\n",
      "I'm doing the thing.\n"
     ]
    },
    {
     "name": "stderr",
     "output_type": "stream",
     "text": [
      " 85%|████████▍ | 142/168 [00:33<00:10,  2.57it/s]"
     ]
    },
    {
     "name": "stdout",
     "output_type": "stream",
     "text": [
      "bone-china-179\n",
      "Does this patient have T2 available? True\n",
      "I'm doing the thing.\n",
      "bone-penn-463\n",
      "Does this patient have T2 available? True\n",
      "I'm doing the thing.\n",
      "bone-penn-187\n",
      "Does this patient have T2 available? True\n",
      "I'm doing the thing.\n"
     ]
    },
    {
     "name": "stderr",
     "output_type": "stream",
     "text": [
      "\r",
      " 85%|████████▌ | 143/168 [00:33<00:07,  3.23it/s]"
     ]
    },
    {
     "name": "stdout",
     "output_type": "stream",
     "text": [
      "bone-hup-59\n",
      "Does this patient have T2 available? True\n",
      "I'm doing the thing.\n"
     ]
    },
    {
     "name": "stderr",
     "output_type": "stream",
     "text": [
      " 86%|████████▋ | 145/168 [00:34<00:05,  3.96it/s]"
     ]
    },
    {
     "name": "stdout",
     "output_type": "stream",
     "text": [
      "bone-penn-258\n",
      "Does this patient have T2 available? True\n",
      "I'm doing the thing.\n",
      "bone-penn-648\n",
      "Does this patient have T2 available? True\n",
      "I'm doing the thing.\n"
     ]
    },
    {
     "name": "stderr",
     "output_type": "stream",
     "text": [
      "\r",
      " 88%|████████▊ | 147/168 [00:34<00:04,  4.98it/s]"
     ]
    },
    {
     "name": "stdout",
     "output_type": "stream",
     "text": [
      "bone-china-192\n",
      "Does this patient have T2 available? True\n",
      "I'm doing the thing.\n",
      "bone-hup-216\n",
      "Does this patient have T2 available? True\n",
      "I'm doing the thing.\n"
     ]
    },
    {
     "name": "stderr",
     "output_type": "stream",
     "text": [
      " 89%|████████▊ | 149/168 [00:34<00:04,  4.61it/s]"
     ]
    },
    {
     "name": "stdout",
     "output_type": "stream",
     "text": [
      "bone-penn-181\n",
      "Does this patient have T2 available? True\n",
      "I'm doing the thing.\n",
      "bone-china-213\n",
      "Does this patient have T2 available? True\n",
      "I'm doing the thing.\n"
     ]
    },
    {
     "name": "stderr",
     "output_type": "stream",
     "text": [
      "\r",
      " 89%|████████▉ | 150/168 [00:34<00:03,  5.18it/s]"
     ]
    },
    {
     "name": "stdout",
     "output_type": "stream",
     "text": [
      "bone-hup-78\n",
      "Does this patient have T2 available? True\n",
      "I'm doing the thing.\n"
     ]
    },
    {
     "name": "stderr",
     "output_type": "stream",
     "text": [
      "\r",
      " 90%|████████▉ | 151/168 [00:35<00:03,  4.45it/s]"
     ]
    },
    {
     "name": "stdout",
     "output_type": "stream",
     "text": [
      "bone-hup-156\n",
      "Does this patient have T2 available? True\n",
      "I'm doing the thing.\n"
     ]
    },
    {
     "name": "stderr",
     "output_type": "stream",
     "text": [
      "\r",
      " 90%|█████████ | 152/168 [00:35<00:04,  3.24it/s]"
     ]
    },
    {
     "name": "stdout",
     "output_type": "stream",
     "text": [
      "bone-penn-075\n",
      "Does this patient have T2 available? True\n",
      "I'm doing the thing.\n"
     ]
    },
    {
     "name": "stderr",
     "output_type": "stream",
     "text": [
      " 92%|█████████▏| 154/168 [00:36<00:04,  3.36it/s]"
     ]
    },
    {
     "name": "stdout",
     "output_type": "stream",
     "text": [
      "bone-penn-654\n",
      "Does this patient have T2 available? True\n",
      "I'm doing the thing.\n",
      "bone-penn-182\n",
      "Does this patient have T2 available? True\n",
      "I'm doing the thing.\n"
     ]
    },
    {
     "name": "stderr",
     "output_type": "stream",
     "text": [
      " 93%|█████████▎| 156/168 [00:36<00:03,  3.65it/s]"
     ]
    },
    {
     "name": "stdout",
     "output_type": "stream",
     "text": [
      "bone-penn-173\n",
      "Does this patient have T2 available? True\n",
      "I'm doing the thing.\n",
      "bone-penn-207\n",
      "Does this patient have T2 available? True\n",
      "I'm doing the thing.\n"
     ]
    },
    {
     "name": "stderr",
     "output_type": "stream",
     "text": [
      "\r",
      " 93%|█████████▎| 157/168 [00:37<00:03,  3.44it/s]"
     ]
    },
    {
     "name": "stdout",
     "output_type": "stream",
     "text": [
      "bone-hup-181\n",
      "Does this patient have T2 available? True\n",
      "I'm doing the thing.\n"
     ]
    },
    {
     "name": "stderr",
     "output_type": "stream",
     "text": [
      "\r",
      " 94%|█████████▍| 158/168 [00:37<00:02,  3.65it/s]"
     ]
    },
    {
     "name": "stdout",
     "output_type": "stream",
     "text": [
      "bone-hup-177\n",
      "Does this patient have T2 available? True\n",
      "I'm doing the thing.\n",
      "bone-hup-72\n",
      "Does this patient have T2 available? True\n",
      "I'm doing the thing.\n"
     ]
    },
    {
     "name": "stderr",
     "output_type": "stream",
     "text": [
      "\r",
      " 95%|█████████▌| 160/168 [00:37<00:01,  4.17it/s]"
     ]
    },
    {
     "name": "stdout",
     "output_type": "stream",
     "text": [
      "bone-hup-173\n",
      "Does this patient have T2 available? True\n",
      "I'm doing the thing.\n"
     ]
    },
    {
     "name": "stderr",
     "output_type": "stream",
     "text": [
      " 96%|█████████▋| 162/168 [00:38<00:01,  3.31it/s]"
     ]
    },
    {
     "name": "stdout",
     "output_type": "stream",
     "text": [
      "bone-hup-92\n",
      "Does this patient have T2 available? True\n",
      "I'm doing the thing.\n",
      "bone-penn-034\n",
      "Does this patient have T2 available? True\n",
      "I'm doing the thing.\n"
     ]
    },
    {
     "name": "stderr",
     "output_type": "stream",
     "text": [
      "\r",
      " 97%|█████████▋| 163/168 [00:39<00:03,  1.62it/s]"
     ]
    },
    {
     "name": "stdout",
     "output_type": "stream",
     "text": [
      "bone-penn-307\n",
      "Does this patient have T2 available? True\n",
      "I'm doing the thing.\n"
     ]
    },
    {
     "name": "stderr",
     "output_type": "stream",
     "text": [
      " 98%|█████████▊| 165/168 [00:40<00:01,  2.51it/s]"
     ]
    },
    {
     "name": "stdout",
     "output_type": "stream",
     "text": [
      "bone-penn-210\n",
      "Does this patient have T2 available? True\n",
      "I'm doing the thing.\n",
      "bone-penn-305\n",
      "Does this patient have T2 available? True\n",
      "I'm doing the thing.\n"
     ]
    },
    {
     "name": "stderr",
     "output_type": "stream",
     "text": [
      "\r",
      " 99%|█████████▉| 166/168 [00:40<00:00,  3.07it/s]"
     ]
    },
    {
     "name": "stdout",
     "output_type": "stream",
     "text": [
      "bone-penn-218\n",
      "Does this patient have T2 available? True\n",
      "I'm doing the thing.\n"
     ]
    },
    {
     "name": "stderr",
     "output_type": "stream",
     "text": [
      "100%|██████████| 168/168 [00:40<00:00,  4.11it/s]\n",
      "  0%|          | 0/99 [00:00<?, ?it/s]"
     ]
    },
    {
     "name": "stdout",
     "output_type": "stream",
     "text": [
      "bone-china-189\n",
      "Does this patient have T2 available? True\n",
      "I'm doing the thing.\n",
      "bone-hup-137\n",
      "Does this patient have T2 available? True\n",
      "I'm doing the thing.\n"
     ]
    },
    {
     "name": "stderr",
     "output_type": "stream",
     "text": [
      "  2%|▏         | 2/99 [00:00<00:15,  6.15it/s]"
     ]
    },
    {
     "name": "stdout",
     "output_type": "stream",
     "text": [
      "bone-hup-130\n",
      "Does this patient have T2 available? True\n",
      "I'm doing the thing.\n",
      "bone-hup-120\n",
      "Does this patient have T2 available? True\n",
      "I'm doing the thing.\n"
     ]
    },
    {
     "name": "stderr",
     "output_type": "stream",
     "text": [
      "\r",
      "  3%|▎         | 3/99 [00:00<00:19,  5.04it/s]"
     ]
    },
    {
     "name": "stdout",
     "output_type": "stream",
     "text": [
      "bone-hup-143\n",
      "Does this patient have T2 available? True\n",
      "I'm doing the thing.\n",
      "bone-hup-127\n",
      "Does this patient have T2 available? True\n",
      "I'm doing the thing.\n"
     ]
    },
    {
     "name": "stderr",
     "output_type": "stream",
     "text": [
      "  7%|▋         | 7/99 [00:01<00:13,  6.79it/s]"
     ]
    },
    {
     "name": "stdout",
     "output_type": "stream",
     "text": [
      "bone-penn-295\n",
      "Does this patient have T2 available? True\n",
      "I'm doing the thing.\n",
      "bone-penn-594\n",
      "Does this patient have T2 available? True\n",
      "I'm doing the thing.\n",
      "bone-penn-582\n",
      "Does this patient have T2 available? True\n",
      "I'm doing the thing.\n"
     ]
    },
    {
     "name": "stderr",
     "output_type": "stream",
     "text": [
      "  9%|▉         | 9/99 [00:01<00:12,  7.43it/s]"
     ]
    },
    {
     "name": "stdout",
     "output_type": "stream",
     "text": [
      "bone-penn-574\n",
      "Does this patient have T2 available? True\n",
      "I'm doing the thing.\n",
      "bone-penn-125\n",
      "Does this patient have T2 available? True\n",
      "I'm doing the thing.\n"
     ]
    },
    {
     "name": "stderr",
     "output_type": "stream",
     "text": [
      "\r",
      " 10%|█         | 10/99 [00:01<00:13,  6.43it/s]"
     ]
    },
    {
     "name": "stdout",
     "output_type": "stream",
     "text": [
      "bone-penn-407\n",
      "Does this patient have T2 available? True\n",
      "I'm doing the thing.\n"
     ]
    },
    {
     "name": "stderr",
     "output_type": "stream",
     "text": [
      "\r",
      " 11%|█         | 11/99 [00:01<00:18,  4.88it/s]"
     ]
    },
    {
     "name": "stdout",
     "output_type": "stream",
     "text": [
      "bone-penn-432\n",
      "Does this patient have T2 available? True\n",
      "I'm doing the thing.\n"
     ]
    },
    {
     "name": "stderr",
     "output_type": "stream",
     "text": [
      " 13%|█▎        | 13/99 [00:02<00:15,  5.53it/s]"
     ]
    },
    {
     "name": "stdout",
     "output_type": "stream",
     "text": [
      "bone-penn-117\n",
      "Does this patient have T2 available? True\n",
      "I'm doing the thing.\n",
      "bone-penn-393\n",
      "Does this patient have T2 available? True\n",
      "I'm doing the thing.\n",
      "bone-penn-389\n",
      "Does this patient have T2 available? True\n",
      "I'm doing the thing.\n"
     ]
    },
    {
     "name": "stderr",
     "output_type": "stream",
     "text": [
      "\r",
      " 15%|█▌        | 15/99 [00:02<00:19,  4.27it/s]"
     ]
    },
    {
     "name": "stdout",
     "output_type": "stream",
     "text": [
      "bone-penn-387\n",
      "Does this patient have T2 available? True\n",
      "I'm doing the thing.\n"
     ]
    },
    {
     "name": "stderr",
     "output_type": "stream",
     "text": [
      "\r",
      " 16%|█▌        | 16/99 [00:03<00:27,  3.02it/s]"
     ]
    },
    {
     "name": "stdout",
     "output_type": "stream",
     "text": [
      "bone-penn-229\n",
      "Does this patient have T2 available? True\n",
      "I'm doing the thing.\n"
     ]
    },
    {
     "name": "stderr",
     "output_type": "stream",
     "text": [
      "\r",
      " 17%|█▋        | 17/99 [00:03<00:27,  2.97it/s]"
     ]
    },
    {
     "name": "stdout",
     "output_type": "stream",
     "text": [
      "bone-hup-174\n",
      "Does this patient have T2 available? True\n",
      "I'm doing the thing.\n"
     ]
    },
    {
     "name": "stderr",
     "output_type": "stream",
     "text": [
      "\r",
      " 18%|█▊        | 18/99 [00:04<00:34,  2.36it/s]"
     ]
    },
    {
     "name": "stdout",
     "output_type": "stream",
     "text": [
      "bone-hup-190\n",
      "Does this patient have T2 available? True\n",
      "I'm doing the thing.\n"
     ]
    },
    {
     "name": "stderr",
     "output_type": "stream",
     "text": [
      "\r",
      " 19%|█▉        | 19/99 [00:04<00:32,  2.49it/s]"
     ]
    },
    {
     "name": "stdout",
     "output_type": "stream",
     "text": [
      "bone-hup-238\n",
      "Does this patient have T2 available? True\n",
      "I'm doing the thing.\n",
      "bone-hup-164\n",
      "Does this patient have T2 available? True\n",
      "I'm doing the thing.\n"
     ]
    },
    {
     "name": "stderr",
     "output_type": "stream",
     "text": [
      " 23%|██▎       | 23/99 [00:05<00:18,  4.06it/s]"
     ]
    },
    {
     "name": "stdout",
     "output_type": "stream",
     "text": [
      "bone-hup-212\n",
      "Does this patient have T2 available? True\n",
      "I'm doing the thing.\n",
      "bone-hup-195\n",
      "Does this patient have T2 available? True\n",
      "I'm doing the thing.\n",
      "bone-hup-236\n",
      "Does this patient have T2 available? True\n",
      "I'm doing the thing.\n"
     ]
    },
    {
     "name": "stderr",
     "output_type": "stream",
     "text": [
      " 26%|██▋       | 26/99 [00:05<00:14,  5.18it/s]"
     ]
    },
    {
     "name": "stdout",
     "output_type": "stream",
     "text": [
      "bone-hup-182\n",
      "Does this patient have T2 available? True\n",
      "I'm doing the thing.\n",
      "bone-penn-290\n",
      "Does this patient have T2 available? True\n",
      "I'm doing the thing.\n",
      "bone-penn-202\n",
      "Does this patient have T2 available? True\n",
      "I'm doing the thing.\n"
     ]
    },
    {
     "name": "stderr",
     "output_type": "stream",
     "text": [
      "\r",
      " 27%|██▋       | 27/99 [00:06<00:28,  2.51it/s]"
     ]
    },
    {
     "name": "stdout",
     "output_type": "stream",
     "text": [
      "bone-penn-184\n",
      "Does this patient have T2 available? True\n",
      "I'm doing the thing.\n",
      "bone-penn-208\n",
      "Does this patient have T2 available? True\n",
      "I'm doing the thing.\n"
     ]
    },
    {
     "name": "stderr",
     "output_type": "stream",
     "text": [
      "\r",
      " 29%|██▉       | 29/99 [00:06<00:24,  2.85it/s]"
     ]
    },
    {
     "name": "stdout",
     "output_type": "stream",
     "text": [
      "bone-penn-175\n",
      "Does this patient have T2 available? True\n",
      "I'm doing the thing.\n"
     ]
    },
    {
     "name": "stderr",
     "output_type": "stream",
     "text": [
      " 31%|███▏      | 31/99 [00:07<00:18,  3.66it/s]"
     ]
    },
    {
     "name": "stdout",
     "output_type": "stream",
     "text": [
      "bone-penn-185\n",
      "Does this patient have T2 available? True\n",
      "I'm doing the thing.\n",
      "bone-penn-103\n",
      "Does this patient have T2 available? True\n",
      "I'm doing the thing.\n"
     ]
    },
    {
     "name": "stderr",
     "output_type": "stream",
     "text": [
      "\r",
      " 32%|███▏      | 32/99 [00:07<00:15,  4.35it/s]"
     ]
    },
    {
     "name": "stdout",
     "output_type": "stream",
     "text": [
      "bone-penn-102\n",
      "Does this patient have T2 available? True\n",
      "I'm doing the thing.\n"
     ]
    },
    {
     "name": "stderr",
     "output_type": "stream",
     "text": [
      " 34%|███▍      | 34/99 [00:08<00:23,  2.82it/s]"
     ]
    },
    {
     "name": "stdout",
     "output_type": "stream",
     "text": [
      "bone-penn-80\n",
      "Does this patient have T2 available? True\n",
      "I'm doing the thing.\n",
      "bone-hup-114\n",
      "Does this patient have T2 available? True\n",
      "I'm doing the thing.\n"
     ]
    },
    {
     "name": "stderr",
     "output_type": "stream",
     "text": [
      "\r",
      " 35%|███▌      | 35/99 [00:08<00:22,  2.83it/s]"
     ]
    },
    {
     "name": "stdout",
     "output_type": "stream",
     "text": [
      "bone-hup-87\n",
      "Does this patient have T2 available? True\n",
      "I'm doing the thing.\n"
     ]
    },
    {
     "name": "stderr",
     "output_type": "stream",
     "text": [
      "\r",
      " 36%|███▋      | 36/99 [00:09<00:25,  2.51it/s]"
     ]
    },
    {
     "name": "stdout",
     "output_type": "stream",
     "text": [
      "bone-hup-99\n",
      "Does this patient have T2 available? True\n",
      "I'm doing the thing.\n"
     ]
    },
    {
     "name": "stderr",
     "output_type": "stream",
     "text": [
      "\r",
      " 37%|███▋      | 37/99 [00:09<00:26,  2.37it/s]"
     ]
    },
    {
     "name": "stdout",
     "output_type": "stream",
     "text": [
      "bone-hup-90\n",
      "Does this patient have T2 available? True\n",
      "I'm doing the thing.\n"
     ]
    },
    {
     "name": "stderr",
     "output_type": "stream",
     "text": [
      " 39%|███▉      | 39/99 [00:10<00:20,  2.93it/s]"
     ]
    },
    {
     "name": "stdout",
     "output_type": "stream",
     "text": [
      "bone-penn-544\n",
      "Does this patient have T2 available? True\n",
      "I'm doing the thing.\n",
      "bone-penn-547\n",
      "Does this patient have T2 available? True\n",
      "I'm doing the thing.\n"
     ]
    },
    {
     "name": "stderr",
     "output_type": "stream",
     "text": [
      " 41%|████▏     | 41/99 [00:10<00:13,  4.23it/s]"
     ]
    },
    {
     "name": "stdout",
     "output_type": "stream",
     "text": [
      "bone-penn-135\n",
      "Does this patient have T2 available? True\n",
      "I'm doing the thing.\n",
      "bone-penn-145\n",
      "Does this patient have T2 available? True\n",
      "I'm doing the thing.\n"
     ]
    },
    {
     "name": "stderr",
     "output_type": "stream",
     "text": [
      " 43%|████▎     | 43/99 [00:11<00:13,  4.24it/s]"
     ]
    },
    {
     "name": "stdout",
     "output_type": "stream",
     "text": [
      "bone-penn-366\n",
      "Does this patient have T2 available? True\n",
      "I'm doing the thing.\n",
      "bone-penn-383\n",
      "Does this patient have T2 available? True\n",
      "I'm doing the thing.\n"
     ]
    },
    {
     "name": "stderr",
     "output_type": "stream",
     "text": [
      " 45%|████▌     | 45/99 [00:11<00:11,  4.69it/s]"
     ]
    },
    {
     "name": "stdout",
     "output_type": "stream",
     "text": [
      "bone-penn-519\n",
      "Does this patient have T2 available? True\n",
      "I'm doing the thing.\n",
      "bone-penn-540\n",
      "Does this patient have T2 available? True\n",
      "I'm doing the thing.\n"
     ]
    },
    {
     "name": "stderr",
     "output_type": "stream",
     "text": [
      "\r",
      " 46%|████▋     | 46/99 [00:11<00:11,  4.68it/s]"
     ]
    },
    {
     "name": "stdout",
     "output_type": "stream",
     "text": [
      "bone-penn-524\n",
      "Does this patient have T2 available? True\n",
      "I'm doing the thing.\n"
     ]
    },
    {
     "name": "stderr",
     "output_type": "stream",
     "text": [
      " 48%|████▊     | 48/99 [00:12<00:10,  4.66it/s]"
     ]
    },
    {
     "name": "stdout",
     "output_type": "stream",
     "text": [
      "bone-penn-539\n",
      "Does this patient have T2 available? True\n",
      "I'm doing the thing.\n",
      "bone-china-137\n",
      "Does this patient have T2 available? True\n",
      "I'm doing the thing.\n"
     ]
    },
    {
     "name": "stderr",
     "output_type": "stream",
     "text": [
      "\r",
      " 51%|█████     | 50/99 [00:12<00:08,  5.76it/s]"
     ]
    },
    {
     "name": "stdout",
     "output_type": "stream",
     "text": [
      "bone-china-150\n",
      "Does this patient have T2 available? True\n",
      "I'm doing the thing.\n",
      "bone-china-141\n",
      "Does this patient have T2 available? True\n",
      "I'm doing the thing.\n",
      "bone-china-142\n",
      "Does this patient have T2 available? True\n",
      "I'm doing the thing.\n"
     ]
    },
    {
     "name": "stderr",
     "output_type": "stream",
     "text": [
      " 55%|█████▍    | 54/99 [00:12<00:06,  7.17it/s]"
     ]
    },
    {
     "name": "stdout",
     "output_type": "stream",
     "text": [
      "bone-china-156\n",
      "Does this patient have T2 available? True\n",
      "I'm doing the thing.\n",
      "bone-china-157\n",
      "Does this patient have T2 available? True\n",
      "I'm doing the thing.\n",
      "bone-china-094\n",
      "Does this patient have T2 available? True\n",
      "I'm doing the thing.\n"
     ]
    },
    {
     "name": "stderr",
     "output_type": "stream",
     "text": [
      "\r",
      " 57%|█████▋    | 56/99 [00:13<00:05,  8.01it/s]"
     ]
    },
    {
     "name": "stdout",
     "output_type": "stream",
     "text": [
      "bone-china-108\n",
      "Does this patient have T2 available? True\n",
      "I'm doing the thing.\n",
      "bone-china-130\n",
      "Does this patient have T2 available? True\n",
      "I'm doing the thing.\n",
      "bone-hup-294\n",
      "Does this patient have T2 available? True\n",
      "I'm doing the thing.\n"
     ]
    },
    {
     "name": "stderr",
     "output_type": "stream",
     "text": [
      "\r",
      " 59%|█████▊    | 58/99 [00:13<00:05,  7.34it/s]"
     ]
    },
    {
     "name": "stdout",
     "output_type": "stream",
     "text": [
      "bone-hup-318\n",
      "Does this patient have T2 available? True\n",
      "I'm doing the thing.\n"
     ]
    },
    {
     "name": "stderr",
     "output_type": "stream",
     "text": [
      " 61%|██████    | 60/99 [00:14<00:10,  3.69it/s]"
     ]
    },
    {
     "name": "stdout",
     "output_type": "stream",
     "text": [
      "bone-hup-300\n",
      "Does this patient have T2 available? True\n",
      "I'm doing the thing.\n",
      "bone-hup-313\n",
      "Does this patient have T2 available? True\n",
      "I'm doing the thing.\n"
     ]
    },
    {
     "name": "stderr",
     "output_type": "stream",
     "text": [
      "\r",
      " 62%|██████▏   | 61/99 [00:14<00:09,  3.86it/s]"
     ]
    },
    {
     "name": "stdout",
     "output_type": "stream",
     "text": [
      "bone-hup-311\n",
      "Does this patient have T2 available? True\n",
      "I'm doing the thing.\n"
     ]
    },
    {
     "name": "stderr",
     "output_type": "stream",
     "text": [
      " 65%|██████▍   | 64/99 [00:15<00:11,  3.06it/s]"
     ]
    },
    {
     "name": "stdout",
     "output_type": "stream",
     "text": [
      "bone-penn-326\n",
      "Does this patient have T2 available? True\n",
      "I'm doing the thing.\n",
      "bone-china-067\n",
      "Does this patient have T2 available? True\n",
      "I'm doing the thing.\n",
      "bone-china-082\n",
      "Does this patient have T2 available? True\n",
      "I'm doing the thing.\n"
     ]
    },
    {
     "name": "stderr",
     "output_type": "stream",
     "text": [
      "\r",
      " 67%|██████▋   | 66/99 [00:15<00:08,  3.91it/s]"
     ]
    },
    {
     "name": "stdout",
     "output_type": "stream",
     "text": [
      "bone-china-090\n",
      "Does this patient have T2 available? True\n",
      "I'm doing the thing.\n",
      "bone-china-012\n",
      "Does this patient have T2 available? True\n",
      "I'm doing the thing.\n"
     ]
    },
    {
     "name": "stderr",
     "output_type": "stream",
     "text": [
      " 69%|██████▊   | 68/99 [00:16<00:06,  4.93it/s]"
     ]
    },
    {
     "name": "stdout",
     "output_type": "stream",
     "text": [
      "bone-china-064\n",
      "Does this patient have T2 available? True\n",
      "I'm doing the thing.\n",
      "bone-china-063\n",
      "Does this patient have T2 available? True\n",
      "I'm doing the thing.\n"
     ]
    },
    {
     "name": "stderr",
     "output_type": "stream",
     "text": [
      " 72%|███████▏  | 71/99 [00:16<00:04,  6.97it/s]"
     ]
    },
    {
     "name": "stdout",
     "output_type": "stream",
     "text": [
      "bone-china-007\n",
      "Does this patient have T2 available? True\n",
      "I'm doing the thing.\n",
      "bone-china-018\n",
      "Does this patient have T2 available? True\n",
      "I'm doing the thing.\n",
      "bone-china-013\n",
      "Does this patient have T2 available? True\n",
      "I'm doing the thing.\n",
      "bone-hup-50\n",
      "Does this patient have T2 available? True\n",
      "I'm doing the thing.\n"
     ]
    },
    {
     "name": "stderr",
     "output_type": "stream",
     "text": [
      "\r",
      " 74%|███████▎  | 73/99 [00:19<00:13,  1.91it/s]"
     ]
    },
    {
     "name": "stdout",
     "output_type": "stream",
     "text": [
      "bone-penn-638\n",
      "Does this patient have T2 available? True\n",
      "I'm doing the thing.\n"
     ]
    },
    {
     "name": "stderr",
     "output_type": "stream",
     "text": [
      " 76%|███████▌  | 75/99 [00:19<00:09,  2.64it/s]"
     ]
    },
    {
     "name": "stdout",
     "output_type": "stream",
     "text": [
      "bone-penn-649\n",
      "Does this patient have T2 available? True\n",
      "I'm doing the thing.\n",
      "bone-china-206\n",
      "Does this patient have T2 available? True\n",
      "I'm doing the thing.\n"
     ]
    },
    {
     "name": "stderr",
     "output_type": "stream",
     "text": [
      " 78%|███████▊  | 77/99 [00:19<00:05,  3.79it/s]"
     ]
    },
    {
     "name": "stdout",
     "output_type": "stream",
     "text": [
      "bone-china-235\n",
      "Does this patient have T2 available? True\n",
      "I'm doing the thing.\n",
      "bone-china-232\n",
      "Does this patient have T2 available? True\n",
      "I'm doing the thing.\n"
     ]
    },
    {
     "name": "stderr",
     "output_type": "stream",
     "text": [
      " 80%|███████▉  | 79/99 [00:20<00:04,  4.83it/s]"
     ]
    },
    {
     "name": "stdout",
     "output_type": "stream",
     "text": [
      "bone-china-182\n",
      "Does this patient have T2 available? True\n",
      "I'm doing the thing.\n",
      "bone-china-229\n",
      "Does this patient have T2 available? True\n",
      "I'm doing the thing.\n"
     ]
    },
    {
     "name": "stderr",
     "output_type": "stream",
     "text": [
      " 82%|████████▏ | 81/99 [00:20<00:03,  5.48it/s]"
     ]
    },
    {
     "name": "stdout",
     "output_type": "stream",
     "text": [
      "bone-china-208\n",
      "Does this patient have T2 available? True\n",
      "I'm doing the thing.\n",
      "bone-china-181\n",
      "Does this patient have T2 available? True\n",
      "I'm doing the thing.\n",
      "bone-china-202\n",
      "Does this patient have T2 available? True\n",
      "I'm doing the thing.\n"
     ]
    },
    {
     "name": "stderr",
     "output_type": "stream",
     "text": [
      " 85%|████████▍ | 84/99 [00:20<00:02,  6.84it/s]"
     ]
    },
    {
     "name": "stdout",
     "output_type": "stream",
     "text": [
      "bone-china-241\n",
      "Does this patient have T2 available? True\n",
      "I'm doing the thing.\n",
      "bone-china-233\n",
      "Does this patient have T2 available? True\n",
      "I'm doing the thing.\n",
      "bone-penn-469\n",
      "Does this patient have T2 available? True\n",
      "I'm doing the thing.\n"
     ]
    },
    {
     "name": "stderr",
     "output_type": "stream",
     "text": [
      "\r",
      " 87%|████████▋ | 86/99 [00:21<00:01,  7.06it/s]"
     ]
    },
    {
     "name": "stdout",
     "output_type": "stream",
     "text": [
      "bone-penn-486\n",
      "Does this patient have T2 available? True\n",
      "I'm doing the thing.\n"
     ]
    },
    {
     "name": "stderr",
     "output_type": "stream",
     "text": [
      "\r",
      " 88%|████████▊ | 87/99 [00:21<00:01,  6.05it/s]"
     ]
    },
    {
     "name": "stdout",
     "output_type": "stream",
     "text": [
      "bone-penn-505\n",
      "Does this patient have T2 available? True\n",
      "I'm doing the thing.\n"
     ]
    },
    {
     "name": "stderr",
     "output_type": "stream",
     "text": [
      "\r",
      " 89%|████████▉ | 88/99 [00:21<00:02,  3.97it/s]"
     ]
    },
    {
     "name": "stdout",
     "output_type": "stream",
     "text": [
      "bone-penn-513\n",
      "Does this patient have T2 available? True\n",
      "I'm doing the thing.\n"
     ]
    },
    {
     "name": "stderr",
     "output_type": "stream",
     "text": [
      "\r",
      " 90%|████████▉ | 89/99 [00:22<00:02,  4.11it/s]"
     ]
    },
    {
     "name": "stdout",
     "output_type": "stream",
     "text": [
      "bone-penn-499\n",
      "Does this patient have T2 available? True\n",
      "I'm doing the thing.\n"
     ]
    },
    {
     "name": "stderr",
     "output_type": "stream",
     "text": [
      " 92%|█████████▏| 91/99 [00:22<00:01,  4.67it/s]"
     ]
    },
    {
     "name": "stdout",
     "output_type": "stream",
     "text": [
      "bone-penn-470\n",
      "Does this patient have T2 available? True\n",
      "I'm doing the thing.\n",
      "bone-penn-510\n",
      "Does this patient have T2 available? True\n",
      "I'm doing the thing.\n"
     ]
    },
    {
     "name": "stderr",
     "output_type": "stream",
     "text": [
      "\r",
      " 94%|█████████▍| 93/99 [00:22<00:01,  5.50it/s]"
     ]
    },
    {
     "name": "stdout",
     "output_type": "stream",
     "text": [
      "bone-penn-475\n",
      "Does this patient have T2 available? True\n",
      "I'm doing the thing.\n",
      "bone-penn-493\n",
      "Does this patient have T2 available? True\n",
      "I'm doing the thing.\n"
     ]
    },
    {
     "name": "stderr",
     "output_type": "stream",
     "text": [
      "\r",
      " 95%|█████████▍| 94/99 [00:23<00:01,  3.94it/s]"
     ]
    },
    {
     "name": "stdout",
     "output_type": "stream",
     "text": [
      "bone-penn-559\n",
      "Does this patient have T2 available? True\n",
      "I'm doing the thing.\n",
      "bone-penn-569\n",
      "Does this patient have T2 available? True\n",
      "I'm doing the thing.\n"
     ]
    },
    {
     "name": "stderr",
     "output_type": "stream",
     "text": [
      "\r",
      " 97%|█████████▋| 96/99 [00:23<00:00,  4.75it/s]"
     ]
    },
    {
     "name": "stdout",
     "output_type": "stream",
     "text": [
      "bone-penn-554\n",
      "Does this patient have T2 available? True\n",
      "I'm doing the thing.\n"
     ]
    },
    {
     "name": "stderr",
     "output_type": "stream",
     "text": [
      " 99%|█████████▉| 98/99 [00:23<00:00,  5.40it/s]"
     ]
    },
    {
     "name": "stdout",
     "output_type": "stream",
     "text": [
      "bone-penn-566\n",
      "Does this patient have T2 available? True\n",
      "I'm doing the thing.\n",
      "bone-penn-557\n",
      "Does this patient have T2 available? True\n",
      "I'm doing the thing.\n"
     ]
    },
    {
     "name": "stderr",
     "output_type": "stream",
     "text": [
      "100%|██████████| 99/99 [00:23<00:00,  4.15it/s]\n"
     ]
    },
    {
     "name": "stdout",
     "output_type": "stream",
     "text": [
      "622\n",
      "99\n",
      "168\n"
     ]
    }
   ],
   "source": [
    "import uuid\n",
    "result = Result.query.filter(Result.uuid == UUIDS[0]).first()\n",
    "print(result.uuid)\n",
    "print(result.split_seed)\n",
    "train_set, validation_set, test_set = data(seed=uuid.UUID(result.split_seed), label_form=result.label_form, input_form=result.input_form, train_shuffle=False, test_shuffle=False, validation_shuffle=False, train_augment=False, validation_augment=False, test_augment=False)"
   ]
  },
  {
   "cell_type": "code",
   "execution_count": 22,
   "metadata": {},
   "outputs": [],
   "source": [
    "MODALITIES = [\n",
    "    #\"features\",     \n",
    "    \"t2\",\n",
    "    \"t1\",\n",
    "    \"ensemble\" \n",
    "]\n",
    "\n",
    "MODALITY_KEY = {\n",
    "    #\"features\": \"Clinical\",     \n",
    "    \"t1\": \"T1\", \n",
    "    \"t2\": \"T2\", \n",
    "    #\"t1-sensitive\": \"T1C Sensitive\", \n",
    "    #\"t2-sensitive\": \"T2WI Sensitive\",     \n",
    "    #\"t1-specific\": \"T1C Specific\", \n",
    "    #\"t2-specific\": \"T2WI Specific\",         \n",
    "    \"ensemble\": \"Ensemble\", \n",
    "}\n",
    "\n",
    "def get_pr_data_for_modality(dataset, comparison_models=[]): \n",
    "    results = list()\n",
    "    points = list()\n",
    "    for modality in MODALITIES: \n",
    "        labels = dataset[\"{}-labels\".format(modality)]\n",
    "        probabilities = dataset[\"{}-probabilities\".format(modality)]\n",
    "        predictions = dataset[\"{}-predictions\".format(modality)]\n",
    "        print(modality, len(labels), len(probabilities), len(predictions))\n",
    "        acc = accuracy_score(labels, predictions)\n",
    "        precision, recall, _ = precision_recall_curve(labels, probabilities)\n",
    "        pr_auc = auc(recall, precision)\n",
    "        stats = calculate_confusion_matrix_stats_predictions(labels, predictions)\n",
    "        points.append({\n",
    "            \"modality\": \"{} (auc={:.2f}, acc={:.2f})\".format(MODALITY_KEY[modality], pr_auc, acc),\n",
    "            \"precision\": stats[\"PPV\"][1],\n",
    "            \"recall\": stats[\"TPR\"][1],\n",
    "        })\n",
    "        for p, r in zip(precision, recall): \n",
    "            results.append({ \"precision\": p, \"recall\": r, \"modality\": \"{} (auc={:.2f}, acc={:.2f})\".format(MODALITY_KEY[modality], pr_auc, acc)})\n",
    "    for probabilities in comparison_models: \n",
    "        modality = \"Radiomics\"\n",
    "        labels = dataset[\"t1-labels\"]\n",
    "        predictions = [p > 0.5 for p in probabilities]\n",
    "        print(modality, len(labels), len(probabilities), len(predictions))\n",
    "        precision, recall, _ = precision_recall_curve(labels, probabilities)\n",
    "        pr_auc = auc(recall, precision)\n",
    "        stats = calculate_confusion_matrix_stats_predictions(labels, predictions)\n",
    "        acc = accuracy_score(labels, predictions)\n",
    "        points.append({\n",
    "            \"modality\": \"{} (auc={:.2f}, acc={:.2f})\".format(MODALITY_KEY[modality], pr_auc, acc),\n",
    "            \"precision\": stats[\"PPV\"][1],\n",
    "            \"recall\": stats[\"TPR\"][1],\n",
    "        })\n",
    "        for p, r in zip(precision, recall): \n",
    "            results.append({ \"precision\": p, \"recall\": r, \"modality\": \"{} (auc={:.2f}, acc={:.2f})\".format(MODALITY_KEY[modality], pr_auc, acc)})           \n",
    "    return results, pr_auc, []\n",
    "        \n",
    "def plot_multiple_precision_recall(dataset, experts=[], comparison_models=[]):\n",
    "    results, auc, points = get_pr_data_for_modality(dataset, comparison_models)        \n",
    "    if len(experts) > 0:\n",
    "        for i, expert in enumerate(experts): \n",
    "            labels = dataset[\"t1-labels\"]\n",
    "            predictions = expert\n",
    "            stats = calculate_confusion_matrix_stats_predictions(labels, predictions)\n",
    "            acc = accuracy_score(labels, predictions)\n",
    "            points.append({\n",
    "                \"precision\": stats[\"PPV\"][1],\n",
    "                \"recall\": stats[\"TPR\"][1],                \n",
    "                \"experts\": \"Expert {} (acc={:.2f})\".format(i + 1, acc), \n",
    "            })\n",
    "    fig, ax = plt.subplots()\n",
    "    seaborn.lineplot(\n",
    "        data=pandas.DataFrame(results),\n",
    "        x=\"recall\",\n",
    "        y=\"precision\",\n",
    "        hue=\"modality\",\n",
    "        ax=ax, \n",
    "        err_style=None,\n",
    "    )\n",
    "    if points: \n",
    "        seaborn.scatterplot(\n",
    "            data=pandas.DataFrame(points),\n",
    "            x=\"recall\",\n",
    "            y=\"precision\",\n",
    "            hue=\"experts\",\n",
    "            style=\"experts\",                        \n",
    "            markers=[\"o\", \"v\", \"s\", \"P\"],\n",
    "            palette={ p[\"experts\"]: \"black\" for p in points },            \n",
    "            ax=ax,\n",
    "        )\n",
    "    ax.set_ylim(0.5, 1.04)\n",
    "    ax.set_xlim(-0.04, 1.02)\n",
    "    ax.legend(bbox_to_anchor=(1.05, 1), loc=2, borderaxespad=0.)\n",
    "    return fig\n",
    "\n",
    "def get_roc_data_for_modality(dataset, comparison_models=[]): \n",
    "    results = list()\n",
    "    points = list()\n",
    "    for modality in MODALITIES: \n",
    "        labels = dataset[\"{}-labels\".format(modality)]\n",
    "        probabilities = dataset[\"{}-probabilities\".format(modality)]\n",
    "        predictions = dataset[\"{}-predictions\".format(modality)]\n",
    "        fpr, tpr, _ = roc_curve(labels, probabilities, drop_intermediate=False)\n",
    "        roc_auc = roc_auc_score(labels, probabilities)\n",
    "        stats = calculate_confusion_matrix_stats_predictions(labels, predictions)\n",
    "        acc = accuracy_score(labels, predictions)\n",
    "        points.append({\n",
    "            \"modality\": \"{} (auc={:.2f}, acc={:.2f})\".format(MODALITY_KEY[modality], roc_auc, acc),\n",
    "            \"fpr\": stats[\"FPR\"][1],\n",
    "            \"tpr\": stats[\"TPR\"][1],\n",
    "        })\n",
    "        for f, t in zip(fpr, tpr): \n",
    "            results.append({ \"fpr\": f, \"tpr\": t, \"modality\": \"{} (auc={:.2f}, acc={:.2f})\".format(MODALITY_KEY[modality], roc_auc, acc)})\n",
    "    for probabilities in comparison_models: \n",
    "        modality = \"Radiomics\"\n",
    "        labels = dataset[\"t1-labels\"]\n",
    "        predictions = [p > 0.5 for p in probabilities]\n",
    "        fpr, tpr, _ = roc_curve(labels, probabilities, drop_intermediate=False)\n",
    "        roc_auc = roc_auc_score(labels, probabilities)\n",
    "        stats = calculate_confusion_matrix_stats_predictions(labels, predictions)\n",
    "        acc = accuracy_score(labels, predictions)\n",
    "        points.append({\n",
    "            \"modality\": \"{} (auc={:.2f}, acc={:.2f})\".format(MODALITY_KEY[modality], roc_auc, acc),\n",
    "            \"fpr\": stats[\"FPR\"][1],\n",
    "            \"tpr\": stats[\"TPR\"][1],\n",
    "        })\n",
    "        for f, t in zip(fpr, tpr): \n",
    "            results.append({ \"fpr\": f, \"tpr\": t, \"modality\": \"{} (auc={:.2f}, acc={:.2f})\".format(MODALITY_KEY[modality], roc_auc, acc)})        \n",
    "    return results, roc_auc, []\n",
    "        \n",
    "def plot_multiple_roc_curve(dataset, experts=[], comparison_models=[]):\n",
    "    results, auc, points = get_roc_data_for_modality(dataset, comparison_models)\n",
    "    if len(experts) > 0:\n",
    "        for i, expert in enumerate(experts): \n",
    "            labels = dataset[\"t1-labels\"]\n",
    "            predictions = expert\n",
    "            stats = calculate_confusion_matrix_stats_predictions(labels, predictions)\n",
    "            acc = accuracy_score(labels, predictions)            \n",
    "            points.append({\n",
    "                \"fpr\": stats[\"FPR\"][1],\n",
    "                \"tpr\": stats[\"TPR\"][1],\n",
    "                \"experts\": \"Expert {} (acc={:.2f})\".format(i + 1, acc),                 \n",
    "            })\n",
    "    fig, ax = plt.subplots()\n",
    "    seaborn.lineplot(\n",
    "        data=pandas.DataFrame(results),\n",
    "        x=\"fpr\",\n",
    "        y=\"tpr\",\n",
    "        hue=\"modality\",\n",
    "        ax=ax,\n",
    "        err_style=None,\n",
    "    )\n",
    "    if points:     \n",
    "        seaborn.scatterplot(\n",
    "            data=pandas.DataFrame(points),\n",
    "            x=\"fpr\",\n",
    "            y=\"tpr\",\n",
    "            hue=\"experts\",\n",
    "            style=\"experts\",            \n",
    "            ax=ax,\n",
    "            markers=[\"o\", \"v\", \"s\", \"P\"],\n",
    "            palette={ p[\"experts\"]: \"black\" for p in points },\n",
    "        )\n",
    "    ax.plot([0, 1], [0, 1], linestyle='--')\n",
    "    ax.set_ylim(-0.04, 1.04)\n",
    "    ax.set_xlim(-0.04, 1.02)\n",
    "    ax.legend(bbox_to_anchor=(1.05, 1), loc=2, borderaxespad=0.)\n",
    "    return fig\n",
    "\n",
    "def get_statistics(dataset, experts=[]):#, comparison_models=[]): \n",
    "    results = list()\n",
    "    for modality in MODALITIES: \n",
    "        labels = dataset[\"{}-labels\".format(modality)]\n",
    "        probabilities = dataset[\"{}-probabilities\".format(modality)]\n",
    "        predictions = dataset[\"{}-predictions\".format(modality)]\n",
    "        roc_auc = roc_auc_score(labels, probabilities)\n",
    "        precision, recall, _ = precision_recall_curve(labels, probabilities)\n",
    "        pr_auc = auc(recall, precision)\n",
    "        f1 = f1_score(labels, predictions)\n",
    "        d = {\n",
    "            \"F1 Score\": [f1, f1],            \n",
    "            \"ROC AUC\": [roc_auc, roc_auc], \n",
    "            \"PR AUC\": [pr_auc, pr_auc],\n",
    "            **calculate_confusion_matrix_stats_predictions(labels, predictions), \n",
    "            \"Modality\": [modality.capitalize(), modality.capitalize()], \n",
    "            \"Total\": [len(labels), len(labels)], \n",
    "            \"Malignant\": [len([l for l in labels if l]), len([l for l in labels if l])], \n",
    "            \"Benign\": [len([l for l in labels if not l]), len([l for l in labels if not l])], \n",
    "        } \n",
    "        # remove more that are not relevant to imbalanced datasets\n",
    "        del d[\"TP\"]\n",
    "        del d[\"TN\"]\n",
    "        del d[\"FN\"]\n",
    "        del d[\"FP\"]    \n",
    "        del d[\"AM\"]        \n",
    "        del d[\"GM\"]\n",
    "        del d[\"FPR\"]\n",
    "        del d[\"FNR\"]\n",
    "        d[\"Acc (95% CI)\"] = [\"\", \"{:.2f} ({:.2f}-{:.2f})\".format(d[\"Acc\"][1], *adjusted_wald(d[\"Acc\"][1], len(labels)))]\n",
    "        d[\"TPR (95% CI)\"] = [\"\", \"{:.2f} ({:.2f}-{:.2f})\".format(d[\"TPR\"][1], *adjusted_wald(d[\"TPR\"][1], len([l for l in labels if l])))]\n",
    "        d[\"TNR (95% CI)\"] = [\"\", \"{:.2f} ({:.2f}-{:.2f})\".format(d[\"TNR\"][1], *adjusted_wald(d[\"TNR\"][1], len([l for l in labels if not l])))]\n",
    "        results.append(pandas.DataFrame(d).iloc[[1]])\n",
    "    for i, expert in enumerate(experts): \n",
    "        labels = dataset[\"ensemble-labels\"]\n",
    "        predictions = expert\n",
    "        print(predictions)\n",
    "        f1 = f1_score(labels, predictions)        \n",
    "        d = {\n",
    "            \"F1 Score\": [f1, f1],            \n",
    "            **calculate_confusion_matrix_stats_predictions(labels, predictions),             \n",
    "            \"Modality\": [\"Expert {}\".format(i + 1), \"Expert {}\".format(i + 1)], \n",
    "            \"Total\": [len(labels), len(labels)], \n",
    "            \"Malignant\": [len([l for l in labels if l]), len([l for l in labels if l])], \n",
    "            \"Benign\": [len([l for l in labels if not l]), len([l for l in labels if not l])],             \n",
    "        }\n",
    "        # remove more that are not relevant to imbalanced datasets (remove from article too)\n",
    "        del d[\"TP\"]\n",
    "        del d[\"TN\"]\n",
    "        del d[\"FN\"]\n",
    "        del d[\"FP\"]               \n",
    "        del d[\"AM\"]        \n",
    "        del d[\"GM\"]\n",
    "        del d[\"FPR\"]\n",
    "        del d[\"FNR\"]        \n",
    "        d[\"Acc (95% CI)\"] = [\"\", \"{:.2f} ({:.2f}-{:.2f})\".format(d[\"Acc\"][1], *adjusted_wald(d[\"Acc\"][1], len(labels)))]\n",
    "        d[\"TPR (95% CI)\"] = [\"\", \"{:.2f} ({:.2f}-{:.2f})\".format(d[\"TPR\"][1], *adjusted_wald(d[\"TPR\"][1], len([l for l in labels if l])))]\n",
    "        d[\"TNR (95% CI)\"] = [\"\", \"{:.2f} ({:.2f}-{:.2f})\".format(d[\"TNR\"][1], *adjusted_wald(d[\"TNR\"][1], len([l for l in labels if not l])))]        \n",
    "        results.append(pandas.DataFrame(d).iloc[[1]])\n",
    "    #for probabilities in comparison_models: \n",
    "        #labels = dataset[\"ensemble-labels\"]\n",
    "        #predictions = [p > 0.5 for p in probabilities]\n",
    "        #roc_auc = roc_auc_score(labels, probabilities)\n",
    "        #precision, recall, _ = precision_recall_curve(labels, probabilities)\n",
    "        #pr_auc = auc(recall, precision)\n",
    "        #f1 = f1_score(labels, predictions)\n",
    "        #d = {\n",
    "        #    \"F1 Score\": [f1, f1],            \n",
    "        #    \"ROC AUC\": [roc_auc, roc_auc], \n",
    "        #    \"PR AUC\": [pr_auc, pr_auc],\n",
    "        #    **calculate_confusion_matrix_stats_predictions(labels, predictions), \n",
    "        #    \"Modality\": [\"Radiomics\", \"Radiomics\"], \n",
    "        #    \"Total\": [len(labels), len(labels)], \n",
    "        #    \"Malignant\": [len([l for l in labels if l]), len([l for l in labels if l])], \n",
    "        #    \"Benign\": [len([l for l in labels if not l]), len([l for l in labels if not l])],             \n",
    "        #} \n",
    "        # remove more that are not relevant to imbalanced datasets (remove from article too)\n",
    "        #del d[\"TP\"]\n",
    "        #del d[\"TN\"]\n",
    "        #del d[\"FN\"]\n",
    "        #del d[\"FP\"]         \n",
    "        #del d[\"AM\"]        \n",
    "        #del d[\"GM\"]\n",
    "        #del d[\"FPR\"]\n",
    "        #del d[\"FNR\"]\n",
    "        #d[\"Acc (95% CI)\"] = [\"\", \"{:.2f} ({:.2f}-{:.2f})\".format(d[\"Acc\"][1], *adjusted_wald(d[\"Acc\"][1], len(labels)))]\n",
    "        #d[\"TPR (95% CI)\"] = [\"\", \"{:.2f} ({:.2f}-{:.2f})\".format(d[\"TPR\"][1], *adjusted_wald(d[\"TPR\"][1], len([l for l in labels if l])))]\n",
    "        #d[\"TNR (95% CI)\"] = [\"\", \"{:.2f} ({:.2f}-{:.2f})\".format(d[\"TNR\"][1], *adjusted_wald(d[\"TNR\"][1], len([l for l in labels if not l])))]        \n",
    "        #results.append(pandas.DataFrame(d).iloc[[1]])\n",
    "\n",
    "    return pandas.concat(results, axis=0, sort=False).set_index(\"Modality\")\n",
    "\n",
    "def get_experts_for_names(features, names, experts=[\"expert1\"], transform=int, default=0): \n",
    "    result = list()\n",
    "    for e in experts: \n",
    "        expert_results = list()\n",
    "        for n in names:\n",
    "            f = features.get(n, None)\n",
    "            if f is None: \n",
    "                print(\"error, cannot find {}\".format(n))\n",
    "                expert_results.append(default)\n",
    "                continue\n",
    "            r = f.get(e, default)\n",
    "            if r == \"\": \n",
    "                r = 0\n",
    "            elif r == \"2\":# or r == \"1\": #benign vs. not benign (outcome_neg)\n",
    "                r = 1\n",
    "            else:\n",
    "                r = 0\n",
    "            r = transform(r)\n",
    "            expert_results.append(r)\n",
    "        result.append(expert_results)\n",
    "    return result"
   ]
  },
  {
   "cell_type": "code",
   "execution_count": 23,
   "metadata": {
    "scrolled": true
   },
   "outputs": [
    {
     "name": "stdout",
     "output_type": "stream",
     "text": [
      "\n",
      "##### Train\n",
      "\n",
      "| Modality   |   F1 Score |   ROC AUC |   PR AUC |   PPV |   NPV |     FDR | Acc (95% CI)     | TPR (95% CI)     | TNR (95% CI)     |\n",
      "|:-----------|-----------:|----------:|---------:|------:|------:|--------:|:-----------------|:-----------------|:-----------------|\n",
      "| T2         |      0.984 |      1.00 |     1.00 | 0.971 | 0.997 | 0.0286  | 0.99 (0.97-0.99) | 1.00 (0.98-1.00) | 0.98 (0.95-0.99) |\n",
      "| T1         |      0.996 |      1.00 |     1.00 | 0.993 | 1.00  | 0.00727 | 1.00 (0.99-1.00) | 1.00 (0.98-1.00) | 0.99 (0.98-1.00) |\n",
      "| Ensemble   |      0.998 |      1.00 |     1.00 | 1.00  | 0.997 | 0.00    | 1.00 (0.99-1.00) | 1.00 (0.98-1.00) | 1.00 (0.99-1.00) |\n",
      "\n",
      "##### Validation\n",
      "\n",
      "| Modality   |   F1 Score |   ROC AUC |   PR AUC |   PPV |   NPV |   FDR | Acc (95% CI)     | TPR (95% CI)     | TNR (95% CI)     |\n",
      "|:-----------|-----------:|----------:|---------:|------:|------:|------:|:-----------------|:-----------------|:-----------------|\n",
      "| T2         |      0.671 |     0.750 |    0.695 | 0.589 | 0.781 | 0.411 | 0.67 (0.60-0.74) | 0.78 (0.67-0.86) | 0.59 (0.49-0.69) |\n",
      "| T1         |      0.651 |     0.714 |    0.615 | 0.553 | 0.769 | 0.447 | 0.64 (0.56-0.71) | 0.79 (0.68-0.87) | 0.52 (0.42-0.62) |\n",
      "| Ensemble   |      0.685 |     0.749 |    0.712 | 0.690 | 0.763 | 0.310 | 0.73 (0.66-0.79) | 0.68 (0.57-0.78) | 0.77 (0.68-0.84) |\n",
      "[1, 1, 0, 1, 0, 1, 0, 1, 0, 0, 1, 1, 1, 1, 1, 1, 1, 1, 1, 0, 1, 1, 0, 0, 1, 0, 0, 1, 0, 1, 1, 1, 0, 1, 1, 1, 0, 0, 1, 1, 0, 1, 1, 0, 0, 1, 0, 0, 0, 1, 1, 1, 0, 0, 1, 1, 0, 0, 1, 0, 0, 0, 1, 0, 0, 0, 0, 0, 1, 0, 1, 1, 0, 1, 1, 1, 1, 1, 1, 1, 1, 1, 1, 1, 1, 1, 1, 1, 0, 1, 0, 1, 1, 1, 0, 0, 1, 0, 0]\n",
      "[0, 0, 0, 0, 0, 0, 0, 0, 0, 0, 0, 0, 0, 0, 0, 0, 0, 0, 0, 0, 0, 0, 0, 0, 0, 0, 0, 0, 0, 0, 0, 0, 0, 0, 0, 0, 0, 0, 0, 0, 0, 0, 0, 0, 0, 0, 0, 0, 0, 0, 0, 0, 0, 0, 0, 0, 0, 0, 0, 0, 0, 0, 0, 0, 0, 0, 0, 0, 0, 0, 0, 0, 0, 0, 0, 0, 0, 0, 0, 0, 0, 0, 0, 0, 0, 0, 0, 0, 0, 0, 0, 0, 0, 0, 0, 0, 0, 0, 0]\n",
      "\n",
      "##### Test\n",
      "\n",
      "| Modality   |   F1 Score |   ROC AUC |   PR AUC |    PPV |   NPV |    FDR | Acc (95% CI)     | TPR (95% CI)     | TNR (95% CI)     |\n",
      "|:-----------|-----------:|----------:|---------:|-------:|------:|-------:|:-----------------|:-----------------|:-----------------|\n",
      "| T2         |       0.68 |      0.73 |     0.63 |   0.62 |  0.75 |   0.38 | 0.68 (0.58-0.76) | 0.76 (0.61-0.86) | 0.61 (0.48-0.73) |\n",
      "| T1         |       0.65 |      0.67 |     0.64 |   0.58 |  0.71 |   0.42 | 0.64 (0.54-0.72) | 0.73 (0.59-0.84) | 0.56 (0.42-0.68) |\n",
      "| Ensemble   |       0.55 |      0.74 |     0.71 |   0.66 |  0.64 |   0.34 | 0.65 (0.55-0.73) | 0.47 (0.33-0.61) | 0.80 (0.67-0.88) |\n",
      "| Expert 1   |       0.67 |    N/A    |   N/A    |   0.59 |  0.75 |   0.41 | 0.66 (0.56-0.74) | 0.78 (0.64-0.88) | 0.56 (0.42-0.68) |\n",
      "| Expert 2   |       0.0  |    N/A    |   N/A    | N/A    |  0.55 | N/A    | 0.55 (0.45-0.64) | 0.00 (0.00-0.09) | 1.00 (0.92-1.00) |\n"
     ]
    },
    {
     "name": "stderr",
     "output_type": "stream",
     "text": [
      "/home/user1/Documents/Bone-MRI/evaluate.py:130: RuntimeWarning: invalid value encountered in true_divide\n",
      "  PPV = TP/(TP+FP)\n",
      "/home/user1/Documents/Bone-MRI/evaluate.py:132: RuntimeWarning: invalid value encountered in true_divide\n",
      "  NPV = TN/(TN+FN)\n",
      "/home/user1/Documents/Bone-MRI/evaluate.py:138: RuntimeWarning: invalid value encountered in true_divide\n",
      "  FDR = FP/(TP+FP)\n"
     ]
    }
   ],
   "source": [
    "expert_features = all_features(files = [\"experts.csv\"])\n",
    "#for n in test_set.names:\n",
    "    #print(n)\n",
    "#comparison_model_features = all_features(files=[\"features/comparison-models.csv\"])\n",
    "df = get_statistics(train)#, get_experts_for_names(expert_features, train_set.names))#, get_experts_for_names(comparison_model_features, train_set.names, experts=[\"radiomics\"], transform=float))\n",
    "df = df.drop(['Acc', \"TPR\", \"TNR\", \"Total\", \"Malignant\", \"Benign\"], axis=1)\n",
    "print()\n",
    "print(\"##### Train\")\n",
    "print()\n",
    "print(tabulate(df, tablefmt=\"pipe\", headers=\"keys\", floatfmt=\"#.3g\").replace(\"nan\", \"N/A\").replace(\"Features\", \"Clinical\"))\n",
    "df = get_statistics(validation)#, get_experts_for_names(expert_features, validation_set.names))#, get_experts_for_names(comparison_model_features, validation_set.names, experts=[\"radiomics\"], transform=float))\n",
    "df = df.drop(['Acc', \"TPR\", \"TNR\", \"Total\", \"Malignant\", \"Benign\"], axis=1)\n",
    "print()\n",
    "print(\"##### Validation\")\n",
    "print()\n",
    "print(tabulate(df, tablefmt=\"pipe\", headers=\"keys\", floatfmt=\"#.3g\").replace(\"nan\", \"N/A\").replace(\"Features\", \"Clinical\"))\n",
    "df = get_statistics((test), get_experts_for_names(expert_features, test_set.names, experts=[\"expert1\", \"expert2\"]))#, get_experts_for_names(comparison_model_features, test_set.names, experts=[\"radiomics\"], transform=float))\n",
    "test_statistics = df\n",
    "df = df.drop(['Acc', \"TPR\", \"TNR\", \"Total\", \"Malignant\", \"Benign\"], axis=1)\n",
    "print()\n",
    "print(\"##### Test\")\n",
    "print()\n",
    "print(tabulate(df, tablefmt=\"pipe\", headers=\"keys\", floatfmt=\"#.2g\").replace(\"nan\", \"N/A\").replace(\"Features\", \"Clinical\"))\n",
    "#df = get_statistics(test_1, get_experts_for_names(expert_features, test_set.names, experts=[\"expert1\", \"expert2\", \"expert3\", \"expert4\"]), get_experts_for_names(comparison_model_features, test_set.names, experts=[\"radiomics\"], transform=float))\n",
    "#test_1_statistics = df\n",
    "#df = df.drop(['Acc', \"TPR\", \"TNR\", \"Total\", \"Malignant\", \"Benign\"], axis=1)\n",
    "#print()\n",
    "#print(\"##### Test 1\")\n",
    "#print()\n",
    "#print(tabulate(df, tablefmt=\"pipe\", headers=\"keys\", floatfmt=\"#.2g\").replace(\"nan\", \"N/A\").replace(\"Features\", \"Clinical\"))\n",
    "#df = get_statistics(test_2, get_experts_for_names(expert_features, test_set.names, experts=[\"expert1\", \"expert2\", \"expert3\", \"expert4\"]), get_experts_for_names(comparison_model_features, test_set.names, experts=[\"radiomics\"], transform=float))\n",
    "#test_2_statistics = df\n",
    "#df = df.drop(['Acc', \"TPR\", \"TNR\", \"Total\", \"Malignant\", \"Benign\"], axis=1)\n",
    "#print()\n",
    "#print(\"##### Test 2\")\n",
    "#print()\n",
    "#print(tabulate(df, tablefmt=\"pipe\", headers=\"keys\", floatfmt=\"#.2g\").replace(\"nan\", \"N/A\").replace(\"Features\", \"Clinical\"))\n"
   ]
  },
  {
   "cell_type": "code",
   "execution_count": 28,
   "metadata": {},
   "outputs": [],
   "source": [
    "cross_validation_statistics = {\n",
    " 'F1 Score': 0.88,\n",
    " 'ROC AUC': 0.6243243243243244,\n",
    " 'PR AUC': 0.90,\n",
    " 'Acc': 0.80,\n",
    " 'TPR': 0.96,\n",
    " 'TNR': 0.22,\n",
    " 'PPV': 0.896551724137931,\n",
    " 'NPV': 0.3888888888888889,\n",
    " 'FDR': 0.10344827586206896,\n",
    " 'Total': 47,\n",
    " 'Malignant': 37,\n",
    " 'Benign': 10,\n",
    " 'Acc (95% CI)': '0.70 (0.56-0.81)',\n",
    " 'TPR (95% CI)': '0.70 (0.54-0.83)',\n",
    " 'TNR (95% CI)': '0.70 (0.39-0.90)'\n",
    "}"
   ]
  },
  {
   "cell_type": "code",
   "execution_count": 29,
   "metadata": {},
   "outputs": [
    {
     "ename": "NameError",
     "evalue": "name 'test_1_statistics' is not defined",
     "output_type": "error",
     "traceback": [
      "\u001b[0;31m---------------------------------------------------------------------------\u001b[0m",
      "\u001b[0;31mNameError\u001b[0m                                 Traceback (most recent call last)",
      "\u001b[0;32m<ipython-input-29-de514bd6d83b>\u001b[0m in \u001b[0;36m<module>\u001b[0;34m\u001b[0m\n\u001b[1;32m     69\u001b[0m     \u001b[0mt2_statistics\u001b[0m\u001b[0;34m=\u001b[0m\u001b[0mformat_AUC_statistics\u001b[0m\u001b[0;34m(\u001b[0m\u001b[0mdict\u001b[0m\u001b[0;34m(\u001b[0m\u001b[0mtest_statistics\u001b[0m\u001b[0;34m.\u001b[0m\u001b[0mloc\u001b[0m\u001b[0;34m[\u001b[0m\u001b[0;34m\"T2\"\u001b[0m\u001b[0;34m]\u001b[0m\u001b[0;34m)\u001b[0m\u001b[0;34m)\u001b[0m\u001b[0;34m,\u001b[0m\u001b[0;34m\u001b[0m\u001b[0m\n\u001b[1;32m     70\u001b[0m     \u001b[0mensemble_statistics\u001b[0m\u001b[0;34m=\u001b[0m\u001b[0mformat_AUC_statistics\u001b[0m\u001b[0;34m(\u001b[0m\u001b[0mdict\u001b[0m\u001b[0;34m(\u001b[0m\u001b[0mtest_statistics\u001b[0m\u001b[0;34m.\u001b[0m\u001b[0mloc\u001b[0m\u001b[0;34m[\u001b[0m\u001b[0;34m\"Ensemble\"\u001b[0m\u001b[0;34m]\u001b[0m\u001b[0;34m)\u001b[0m\u001b[0;34m)\u001b[0m\u001b[0;34m,\u001b[0m\u001b[0;34m\u001b[0m\u001b[0m\n\u001b[0;32m---> 71\u001b[0;31m     \u001b[0mensemble_1_statistics\u001b[0m\u001b[0;34m=\u001b[0m\u001b[0mformat_AUC_statistics\u001b[0m\u001b[0;34m(\u001b[0m\u001b[0mdict\u001b[0m\u001b[0;34m(\u001b[0m\u001b[0mtest_1_statistics\u001b[0m\u001b[0;34m.\u001b[0m\u001b[0mloc\u001b[0m\u001b[0;34m[\u001b[0m\u001b[0;34m\"Ensemble\"\u001b[0m\u001b[0;34m]\u001b[0m\u001b[0;34m)\u001b[0m\u001b[0;34m)\u001b[0m\u001b[0;34m,\u001b[0m\u001b[0;34m\u001b[0m\u001b[0m\n\u001b[0m\u001b[1;32m     72\u001b[0m     \u001b[0mensemble_2_statistics\u001b[0m\u001b[0;34m=\u001b[0m\u001b[0mformat_AUC_statistics\u001b[0m\u001b[0;34m(\u001b[0m\u001b[0mdict\u001b[0m\u001b[0;34m(\u001b[0m\u001b[0mtest_2_statistics\u001b[0m\u001b[0;34m.\u001b[0m\u001b[0mloc\u001b[0m\u001b[0;34m[\u001b[0m\u001b[0;34m\"Ensemble\"\u001b[0m\u001b[0;34m]\u001b[0m\u001b[0;34m)\u001b[0m\u001b[0;34m)\u001b[0m\u001b[0;34m,\u001b[0m\u001b[0;34m\u001b[0m\u001b[0m\n\u001b[1;32m     73\u001b[0m     \u001b[0mcross_validation_statistics\u001b[0m\u001b[0;34m=\u001b[0m\u001b[0mformat_AUC_statistics\u001b[0m\u001b[0;34m(\u001b[0m\u001b[0mcross_validation_statistics\u001b[0m\u001b[0;34m)\u001b[0m\u001b[0;34m,\u001b[0m\u001b[0;34m\u001b[0m\u001b[0m\n",
      "\u001b[0;31mNameError\u001b[0m: name 'test_1_statistics' is not defined"
     ]
    }
   ],
   "source": [
    "CI_text = \"\"\"{value:.2g} (95% CI: {low:.2g}-{high:.2g})\"\"\"\n",
    "\n",
    "statistics_text = \"\"\"test accuracy of {accuracy}, F1 score of {f1:.2g}, and sensitivity of {sensitivity}, and specificity of {specificity}\"\"\"\n",
    "def format_statistics(data):\n",
    "    acc_low, acc_high = adjusted_wald(data[\"Acc\"], data[\"Total\"])\n",
    "    tpr_low, tpr_high = adjusted_wald(data[\"TPR\"], data[\"Malignant\"])\n",
    "    tnr_low, tnr_high = adjusted_wald(data[\"TNR\"], data[\"Benign\"])\n",
    "    data_dict = {\n",
    "        \"accuracy\": CI_text.format(value=data[\"Acc\"], low=acc_low, high=acc_high),\n",
    "        \"sensitivity\": CI_text.format(value=data[\"TPR\"], low=tpr_low, high=tpr_high),\n",
    "        \"specificity\": CI_text.format(value=data[\"TNR\"], low=tnr_low, high=tnr_high),\n",
    "        \"f1\": data[\"F1 Score\"],\n",
    "    }\n",
    "    return statistics_text.format(**data_dict)\n",
    "\n",
    "statistics_AUC_text = \"\"\"test accuracy of {accuracy}, F1 score of {f1:.2g}, precision recall AUC of {PR_AUC:.2g}, sensitivity of {sensitivity}, and specificity of {specificity}\"\"\"\n",
    "def format_AUC_statistics(data):\n",
    "    acc_low, acc_high = adjusted_wald(data[\"Acc\"], data[\"Total\"])\n",
    "    tpr_low, tpr_high = adjusted_wald(data[\"TPR\"], data[\"Malignant\"])\n",
    "    tnr_low, tnr_high = adjusted_wald(data[\"TNR\"], data[\"Benign\"])\n",
    "    data_dict = {\n",
    "        \"accuracy\": CI_text.format(value=data[\"Acc\"], low=acc_low, high=acc_high),\n",
    "        \"sensitivity\": CI_text.format(value=data[\"TPR\"], low=tpr_low, high=tpr_high),\n",
    "        \"specificity\": CI_text.format(value=data[\"TNR\"], low=tnr_low, high=tnr_high),\n",
    "        \"f1\": data[\"F1 Score\"],\n",
    "        \"PR_AUC\": data[\"PR AUC\"],\n",
    "    }\n",
    "    return statistics_AUC_text.format(**data_dict)\n",
    "\n",
    "comparison_text =\"\"\"{accuracy_judge} test accuracy ({accuracy_1:.2g} vs. {accuracy_2:.2g}, p={accuracy_p:.2g}), {sensitivity_judge} test sensitivity ({sensitivity_1:.2g} vs. {sensitivity_2:.2g}, p={sensitivity_p:.2g}) and {specificity_judge} test specificity ({specificity_1:.2g} vs. {specificity_2:.2g}, p={specificity_p:.2g})\"\"\"\n",
    "def format_comparison_text(data_1, data_2):\n",
    "    data_dict = {\n",
    "        \"accuracy_judge\": \"higher\" if data_1[\"Acc\"] > data_2[\"Acc\"] else \"lower\",\n",
    "        \"sensitivity_judge\": \"higher\" if data_1[\"TPR\"] > data_2[\"TPR\"] else \"lower\",\n",
    "        \"specificity_judge\": \"higher\" if data_1[\"TNR\"] > data_2[\"TNR\"] else \"lower\",\n",
    "        \"accuracy_1\": data_1[\"Acc\"],\n",
    "        \"specificity_1\": data_1[\"TNR\"],\n",
    "        \"sensitivity_1\": data_1[\"TPR\"],\n",
    "        \"accuracy_2\": data_2[\"Acc\"],\n",
    "        \"specificity_2\": data_2[\"TNR\"],\n",
    "        \"sensitivity_2\": data_2[\"TPR\"],\n",
    "        \"accuracy_p\": binom_test(int(data_1[\"Acc\"] * data_1[\"Total\"]), data_1[\"Total\"], data_2[\"Acc\"]),\n",
    "        \"specificity_p\": binom_test(int(data_1[\"TNR\"] * data_1[\"Benign\"]), data_1[\"Benign\"], data_2[\"TNR\"]),\n",
    "        \"sensitivity_p\": binom_test(int(data_1[\"TPR\"] * data_1[\"Malignant\"]), data_1[\"Malignant\"], data_2[\"TPR\"]),\n",
    "    }\n",
    "    return comparison_text.format(**data_dict)\n",
    "\n",
    "results_text = \"\"\"\n",
    "## Model performance\n",
    "The train, validation and test sets were balanced in terms of age, gender, tumor size, tumor laterality, tumor location, histologic diagnosis, and institution (Supplemental table S1).\n",
    "\n",
    "Performance characteristics of the clinical variable logistic regression, models trained on T1C and T2WI images, and the final ensemble model in test set are summarized in Table 2. Performance characteristics in training and validation sets are summarized in Supplemental table S2. The clinical variable logistic regression achieved a {logistic_regression_statistics}.\n",
    "\n",
    "The T1C trained model achieved a {t1_statistics}. The T2WI trained model achieved a {t2_statistics}. The ensemble model achieved a {ensemble_statistics}. The ensemble model achieved comparative performance on the second set of test set segmentations with a {ensemble_1_statistics} and the third set of test set segmentation with a {ensemble_2_statistics} (Supplemental table S3). On average, cross validation analysis of the ensemble model demonstrated a {cross_validation_statistics}. Supplemental table S4 summarizes the cross-validation performance of the ensemble model.\n",
    "\n",
    "In comparison, expert 1 achieved a {expert_1_statistics}; expert 2 had a {expert_2_statistics}; expert 3 had a {expert_3_statistics}; expert 4 had a {expert_4_statistics}. Radiomics model achieved a {radiomics_statistics} (Supplemental table S5).\n",
    "\n",
    "CONFIRM THE BELOW PARAGRAPH IS STILL TRUE\n",
    "\n",
    "Compared to all experts averaged, the ensemble deep learning model had {ensemble_vs_experts}, COMMENT although none of these statistics was significantly different. Compared to the radiomics model, the ensemble deep learning model had {ensemble_vs_radiomics}; COMMENT difference in accuracy was not significant but differences in sensitivity and specificity between radiomics and ensemble deep learning models were significant. Compared to all experts averaged, the radiomics model had {radiomics_vs_experts}; COMMENT difference in accuracy was not significant, but differences in sensitivity and specificity between radiomics and averaged expert performance metrics were significant. Figure 2 shows the precision recall curves of all models overlaid with expert performance.\n",
    "\n",
    "Grad-Cam focus maps demonstrate that for the correctly classified images by our model, the algorithm was more likely to focus on the lesion or part of the lesion deemed important by the radiologists, while focus was more likely to be on the surrounding tissue for the incorrectly classified lesions (Figure 3). t-SNE representation of the final dense layer of ResNet demonstrates good separation of malignant and benign lesions by the model when compared to histopathological diagnosis (Figure 4).\n",
    "\n",
    "\"\"\"\n",
    "\n",
    "print(results_text.format(\n",
    "    logistic_regression_statistics=format_AUC_statistics(dict(test_statistics.loc[\"Features\"])),\n",
    "    t1_statistics=format_AUC_statistics(dict(test_statistics.loc[\"T1\"])),\n",
    "    t2_statistics=format_AUC_statistics(dict(test_statistics.loc[\"T2\"])),\n",
    "    ensemble_statistics=format_AUC_statistics(dict(test_statistics.loc[\"Ensemble\"])),\n",
    "    ensemble_1_statistics=format_AUC_statistics(dict(test_1_statistics.loc[\"Ensemble\"])),\n",
    "    ensemble_2_statistics=format_AUC_statistics(dict(test_2_statistics.loc[\"Ensemble\"])),\n",
    "    cross_validation_statistics=format_AUC_statistics(cross_validation_statistics),\n",
    "    expert_1_statistics=format_statistics(dict(test_statistics.loc[\"Expert 1\"])),\n",
    "    expert_2_statistics=format_statistics(dict(test_statistics.loc[\"Expert 2\"])),\n",
    "    expert_3_statistics=format_statistics(dict(test_statistics.loc[\"Expert 3\"])),\n",
    "    expert_4_statistics=format_statistics(dict(test_statistics.loc[\"Expert 4\"])),\n",
    "    radiomics_statistics=format_statistics(dict(test_statistics.loc[\"Radiomics\"])),\n",
    "    ensemble_vs_experts=format_comparison_text(dict(test_statistics.loc[\"Ensemble\"]), dict(test_statistics.loc[[\"Expert 1\", \"Expert 2\", \"Expert 3\", \"Expert 4\"]].mean())),\n",
    "    ensemble_vs_radiomics=format_comparison_text(dict(test_statistics.loc[\"Ensemble\"]), dict(test_statistics.loc[\"Radiomics\"])),\n",
    "    radiomics_vs_experts=format_comparison_text(dict(test_statistics.loc[\"Radiomics\"]), dict(test_statistics.loc[[\"Expert 1\", \"Expert 2\", \"Expert 3\", \"Expert 4\"]].mean())),\n",
    "))"
   ]
  },
  {
   "cell_type": "code",
   "execution_count": null,
   "metadata": {},
   "outputs": [],
   "source": [
    "results_text = \"\"\"\n",
    "## Inter-segmenter agreement\n",
    "\n",
    "The average DSC among our three segmenters was {dice_average}. Segmenter 1 and 2 had an average DSC of {dice_1_2}. Segmenter 2 and 3 had an average DSC of {dice_2_3}. Segmenter 1 and 3 had an average DSC of {dice_1_3}. Benign lesions had an average DSC of {dice_benign} across all reviewers, while malignant lesions had an average DSC of {dice_malignant} across all reviewers. \n",
    "\n",
    "## Model performance\n",
    "The train, validation and test sets were balanced in terms of age, gender, tumor size, tumor laterality, tumor location, histologic diagnosis, and institution (Supplemental table S1). \n",
    "\n",
    "Performance characteristics of the clinical variable logistic regression, models trained on T1C and T2WI images, and the final ensemble model in test set are summarized in Table 2. Performance characteristics in training and validation sets are summarized in Supplemental table S2. The clinical variable logistic regression achieved a test accuracy of {regression_accuracy}, F1 score of {regression_F1}, precision recall AUC of {regression_PR_AUC}, sensitivity of {regression_sensitivity}, and specificity of {regression_specificity}. \n",
    "\n",
    "The T1C trained model achieved a test accuracy of {t1c_accuracy}, F1 score of {t1c_f1}, precision recall AUC of {t1c_PR_AUC}, sensitivity of 0.92 (95% CI: 0.78-0.98), and specificity of 0.50 (95% CI: 0.24-0.76). The T2WI trained model achieved a test accuracy of 0.83 (95% CI: 0.70-0.91), F1 score of 0.90, precision recall AUC of 0.92, sensitivity of 0.97 (95% CI: 0.84-1.00), and specificity of 0.30 (95% CI: 0.10-0.61). The ensemble model achieved a test accuracy of 0.89 (95% CI: 0.77-0.96), F1 score of 0.94, precision recall AUC of 0.90, sensitivity of 1.0 (95% CI: 0.88-1.00), and specificity of 0.50 (95% CI: 0.24-0.76). The ensemble model achieved comparative performance on the second set of test set segmentations with an accuracy of 0.81 (95% CI: 0.67-0.90), F1 score of 0.89, precision recall AUC of 0.89, sensitivity of 0.97 (95% CI: 0.84-1.00), and specificity of 0.20 (95% CI: 0.05-0.52) and the third set of test set segmentation with an accuracy of 0.81 (95% CI: 0.67-0.90), F1 score of 0.89, precision recall AUC of 0.83, sensitivity of 1.0 (95% CI: 0.88-1.00), and specificity of 0.10 (95% CI: 0.00-0.42) (Supplemental table S3). The average cross validation test accuracy was 0.80 (95% CI: 0.66-0.89) with average F1 score of 0.88, precision recall AUC of 0.90, sensitivity of 0.96 (95% CI: 0.83-1.00), and specificity of 0.22 (95% CI: 0.06-0.54). Supplemental table S4 summarizes the cross-validation performance of the ensemble model.\n",
    "\n",
    "In comparison, expert 1 achieved a test accuracy of 0.85 (95% CI: 0.72-0.92), F1 score of 0.91, and sensitivity of 1.0 (95% CI: 0.88-1.00), and specificity of 0.30 (95% CI: 0.10-0.61); expert 2 had a test accuracy of 0.79 (95% CI: 0.65-0.88), F1 score of 0.88, and sensitivity of 0.95 (95% CI: 0.82-1.00), and specificity of 0.20 (95% CI: 0.05-0.52); expert 3 had a test accuracy of 0.74 (95% CI: 0.60-0.84), F1 score of 0.73, sensitivity of 0.81 (95% CI: 0.65-0.90), and specificity of 0.50 (95% CI: 0.24-0.76); expert 4 had a test accuracy of 0.85 (95% CI: 0.72-0.93), F1 score of 0.91, and sensitivity of 0.92 (95% CI: 0.78 -0.98), and specificity of 0.60 (95% CI: 0.31-0.83). Radiomics model achieved a test accuracy of 0.78 (95% CI: 0.64-0.88), F1 score of 0.84, sensitivity of 0.76 (95% CI: 0.60-0.87), and specificity of 0.80 (95% CI: 0.47-0.95) (Supplemental table S5).\n",
    "\n",
    "Compared to all experts averaged, the ensemble deep learning model had higher test accuracy (0.89 vs. 0.81, p=0.32), higher test sensitivity (1.00 vs. 0.92, p=0.07) and higher test specificity (0.50 vs. 0.40, p=0.53), although none of these statistics was significantly different. Compared to the radiomics model, the ensemble deep learning model had higher test accuracy (0.89 vs. 0.77, p=0.12), higher test sensitivity (1.00 vs. 0.76, p<0.01) and lower test specificity (0.50 vs. 0.80, p=0.03); difference in accuracy was not significant but differences in sensitivity and specificity between radiomics and ensemble deep learning models were significant. Compared to all experts averaged, the radiomics model had lower test accuracy (0.77 vs. 0.81, p=0.61), lower test sensitivity (0.76 vs. 0.92, p=0.0021) and higher test specificity (0.80 vs. 0.40, p<0.01); difference in accuracy was not significant, but differences in sensitivity and specificity between radiomics and averaged expert performance metrics were significant. Figure 2 shows the precision recall curves of all models overlaid with expert performance. \n",
    "\n",
    "Grad-Cam focus maps demonstrate that for the correctly classified images by our model, the algorithm was more likely to focus on the lesion or part of the lesion deemed important by the radiologists, while focus was more likely to be on the surrounding tissue for the incorrectly classified lesions (Figure 3). t-SNE representation of the final dense layer of ResNet demonstrates good separation of malignant and benign lesions by the model when compared to histopathological diagnosis (Figure 4).\n",
    "\n",
    "\"\"\""
   ]
  },
  {
   "cell_type": "code",
   "execution_count": null,
   "metadata": {
    "scrolled": true
   },
   "outputs": [],
   "source": [
    "train"
   ]
  },
  {
   "cell_type": "code",
   "execution_count": 205,
   "metadata": {
    "scrolled": true
   },
   "outputs": [
    {
     "name": "stdout",
     "output_type": "stream",
     "text": [
      "bone-hup-137\n",
      "bone-hup-130\n",
      "bone-hup-120\n",
      "bone-hup-143\n",
      "bone-hup-127\n",
      "bone-penn-295\n",
      "bone-penn-594\n",
      "bone-penn-582\n",
      "bone-penn-574\n",
      "bone-penn-125\n",
      "bone-penn-407\n",
      "bone-penn-432\n",
      "bone-penn-117\n",
      "bone-penn-393\n",
      "bone-penn-389\n",
      "bone-penn-387\n",
      "bone-penn-229\n",
      "bone-penn-233\n",
      "bone-hup-174\n",
      "bone-hup-190\n",
      "bone-hup-238\n",
      "bone-hup-164\n",
      "bone-hup-212\n",
      "bone-hup-195\n",
      "bone-hup-236\n",
      "bone-hup-182\n",
      "bone-penn-290\n",
      "bone-penn-202\n",
      "bone-penn-184\n",
      "bone-penn-208\n",
      "bone-penn-175\n",
      "bone-penn-185\n",
      "bone-penn-103\n",
      "bone-penn-102\n",
      "bone-penn-80\n",
      "bone-hup-114\n",
      "bone-hup-87\n",
      "bone-hup-99\n",
      "bone-hup-90\n",
      "bone-penn-544\n",
      "bone-penn-547\n",
      "bone-penn-135\n",
      "bone-penn-145\n",
      "bone-penn-366\n",
      "bone-penn-383\n",
      "bone-penn-519\n",
      "bone-penn-540\n",
      "bone-penn-524\n",
      "bone-penn-539\n",
      "bone-china-137\n",
      "bone-china-150\n",
      "bone-china-141\n",
      "bone-china-142\n",
      "bone-china-156\n",
      "bone-china-157\n",
      "bone-china-094\n",
      "bone-china-108\n",
      "bone-china-130\n",
      "bone-hup-294\n",
      "bone-hup-318\n",
      "bone-hup-300\n",
      "bone-hup-313\n",
      "bone-hup-311\n",
      "bone-penn-326\n",
      "bone-china-067\n",
      "bone-china-082\n",
      "bone-china-090\n",
      "bone-china-012\n",
      "bone-china-064\n",
      "bone-china-063\n",
      "bone-china-007\n",
      "bone-china-018\n",
      "bone-china-013\n",
      "bone-hup-50\n",
      "bone-penn-638\n",
      "bone-penn-649\n",
      "bone-china-206\n",
      "bone-china-235\n",
      "bone-china-232\n",
      "bone-china-182\n",
      "bone-china-229\n",
      "bone-china-208\n",
      "bone-china-181\n",
      "bone-china-202\n",
      "bone-china-241\n",
      "bone-china-233\n",
      "bone-penn-469\n",
      "bone-penn-486\n",
      "bone-penn-505\n",
      "bone-penn-513\n",
      "bone-penn-499\n",
      "bone-penn-470\n",
      "bone-penn-510\n",
      "bone-penn-475\n",
      "bone-penn-493\n",
      "bone-penn-559\n",
      "bone-penn-569\n",
      "bone-penn-554\n",
      "bone-penn-566\n",
      "bone-penn-557\n",
      "t2 100 100 100\n",
      "t1 99 99 99\n",
      "ensemble 100 100 100\n"
     ]
    },
    {
     "ename": "ValueError",
     "evalue": "Found input variables with inconsistent numbers of samples: [99, 100]",
     "output_type": "error",
     "traceback": [
      "\u001b[0;31m--------------------------------------------------------------------------\u001b[0m",
      "\u001b[0;31mValueError\u001b[0m                               Traceback (most recent call last)",
      "\u001b[0;32m<ipython-input-205-e0e109627f42>\u001b[0m in \u001b[0;36m<module>\u001b[0;34m\u001b[0m\n\u001b[1;32m      3\u001b[0m \u001b[0;31m#fig = plot_multiple_precision_recall(validation, experts=get_experts_for_names(expert_features, validation_set.names))#,  comparison_models=get_experts_for_names(comparison_model_features, validation_set.names, experts=['radiomics'], transform=float))\u001b[0m\u001b[0;34m\u001b[0m\u001b[0;34m\u001b[0m\u001b[0m\n\u001b[1;32m      4\u001b[0m \u001b[0;31m#fig.savefig(\"figures/combined-validation-precision-recall.svg\", bbox_inches = \"tight\")\u001b[0m\u001b[0;34m\u001b[0m\u001b[0;34m\u001b[0m\u001b[0m\n\u001b[0;32m----> 5\u001b[0;31m \u001b[0mfig\u001b[0m \u001b[0;34m=\u001b[0m \u001b[0mplot_multiple_precision_recall\u001b[0m\u001b[0;34m(\u001b[0m\u001b[0mtest\u001b[0m\u001b[0;34m,\u001b[0m \u001b[0mexperts\u001b[0m\u001b[0;34m=\u001b[0m\u001b[0mget_experts_for_names\u001b[0m\u001b[0;34m(\u001b[0m\u001b[0mexpert_features\u001b[0m\u001b[0;34m,\u001b[0m \u001b[0mtest_set\u001b[0m\u001b[0;34m.\u001b[0m\u001b[0mnames\u001b[0m\u001b[0;34m,\u001b[0m \u001b[0mexperts\u001b[0m\u001b[0;34m=\u001b[0m\u001b[0;34m[\u001b[0m\u001b[0;34m\"expert1\"\u001b[0m\u001b[0;34m]\u001b[0m\u001b[0;34m)\u001b[0m\u001b[0;34m)\u001b[0m\u001b[0;31m#, comparison_models=get_experts_for_names(comparison_model_features, test_set.names, experts=['radiomics'], transform=float))\u001b[0m\u001b[0;34m\u001b[0m\u001b[0m\n\u001b[0m\u001b[1;32m      6\u001b[0m \u001b[0mfig\u001b[0m\u001b[0;34m.\u001b[0m\u001b[0msavefig\u001b[0m\u001b[0;34m(\u001b[0m\u001b[0;34m\"figures/combined-test-precision-recall.svg\"\u001b[0m\u001b[0;34m,\u001b[0m \u001b[0mbbox_inches\u001b[0m \u001b[0;34m=\u001b[0m \u001b[0;34m\"tight\"\u001b[0m\u001b[0;34m)\u001b[0m\u001b[0;34m\u001b[0m\u001b[0m\n\u001b[1;32m      7\u001b[0m \u001b[0;31m#fig = plot_multiple_precision_recall(test_1, experts=get_experts_for_names(expert_features, test_set.names, experts=[\"expert1\", \"expert2\", \"expert3\", \"expert4\"]))#, comparison_models=get_experts_for_names(comparison_model_features, test_set.names, experts=['radiomics'], transform=float))\u001b[0m\u001b[0;34m\u001b[0m\u001b[0;34m\u001b[0m\u001b[0m\n",
      "\u001b[0;32m<ipython-input-200-bc304a4b1587>\u001b[0m in \u001b[0;36mplot_multiple_precision_recall\u001b[0;34m(dataset, experts, comparison_models)\u001b[0m\n\u001b[1;32m     60\u001b[0m             \u001b[0mlabels\u001b[0m \u001b[0;34m=\u001b[0m \u001b[0mdataset\u001b[0m\u001b[0;34m[\u001b[0m\u001b[0;34m\"t1-labels\"\u001b[0m\u001b[0;34m]\u001b[0m\u001b[0;34m\u001b[0m\u001b[0m\n\u001b[1;32m     61\u001b[0m             \u001b[0mpredictions\u001b[0m \u001b[0;34m=\u001b[0m \u001b[0mexpert\u001b[0m\u001b[0;34m\u001b[0m\u001b[0m\n\u001b[0;32m---> 62\u001b[0;31m             \u001b[0mstats\u001b[0m \u001b[0;34m=\u001b[0m \u001b[0mcalculate_confusion_matrix_stats_predictions\u001b[0m\u001b[0;34m(\u001b[0m\u001b[0mlabels\u001b[0m\u001b[0;34m,\u001b[0m \u001b[0mpredictions\u001b[0m\u001b[0;34m)\u001b[0m\u001b[0;34m\u001b[0m\u001b[0m\n\u001b[0m\u001b[1;32m     63\u001b[0m             \u001b[0macc\u001b[0m \u001b[0;34m=\u001b[0m \u001b[0maccuracy_score\u001b[0m\u001b[0;34m(\u001b[0m\u001b[0mlabels\u001b[0m\u001b[0;34m,\u001b[0m \u001b[0mpredictions\u001b[0m\u001b[0;34m)\u001b[0m\u001b[0;34m\u001b[0m\u001b[0m\n\u001b[1;32m     64\u001b[0m             points.append({\n",
      "\u001b[0;32m~/Documents/Bone-MRI/evaluate.py\u001b[0m in \u001b[0;36mcalculate_confusion_matrix_stats_predictions\u001b[0;34m(labels, predictions)\u001b[0m\n\u001b[1;32m    117\u001b[0m \u001b[0;34m\u001b[0m\u001b[0m\n\u001b[1;32m    118\u001b[0m \u001b[0;32mdef\u001b[0m \u001b[0mcalculate_confusion_matrix_stats_predictions\u001b[0m\u001b[0;34m(\u001b[0m\u001b[0mlabels\u001b[0m\u001b[0;34m,\u001b[0m \u001b[0mpredictions\u001b[0m\u001b[0;34m)\u001b[0m\u001b[0;34m:\u001b[0m\u001b[0;34m\u001b[0m\u001b[0m\n\u001b[0;32m--> 119\u001b[0;31m     \u001b[0mconfusion_matrix\u001b[0m \u001b[0;34m=\u001b[0m \u001b[0mcalculate_confusion_matrix_predictions\u001b[0m\u001b[0;34m(\u001b[0m\u001b[0mlabels\u001b[0m\u001b[0;34m,\u001b[0m \u001b[0mpredictions\u001b[0m\u001b[0;34m)\u001b[0m\u001b[0;34m\u001b[0m\u001b[0m\n\u001b[0m\u001b[1;32m    120\u001b[0m     \u001b[0mFP\u001b[0m \u001b[0;34m=\u001b[0m \u001b[0mconfusion_matrix\u001b[0m\u001b[0;34m.\u001b[0m\u001b[0msum\u001b[0m\u001b[0;34m(\u001b[0m\u001b[0maxis\u001b[0m\u001b[0;34m=\u001b[0m\u001b[0;36m0\u001b[0m\u001b[0;34m)\u001b[0m \u001b[0;34m-\u001b[0m \u001b[0mnp\u001b[0m\u001b[0;34m.\u001b[0m\u001b[0mdiag\u001b[0m\u001b[0;34m(\u001b[0m\u001b[0mconfusion_matrix\u001b[0m\u001b[0;34m)\u001b[0m\u001b[0;34m\u001b[0m\u001b[0m\n\u001b[1;32m    121\u001b[0m     \u001b[0mFN\u001b[0m \u001b[0;34m=\u001b[0m \u001b[0mconfusion_matrix\u001b[0m\u001b[0;34m.\u001b[0m\u001b[0msum\u001b[0m\u001b[0;34m(\u001b[0m\u001b[0maxis\u001b[0m\u001b[0;34m=\u001b[0m\u001b[0;36m1\u001b[0m\u001b[0;34m)\u001b[0m \u001b[0;34m-\u001b[0m \u001b[0mnp\u001b[0m\u001b[0;34m.\u001b[0m\u001b[0mdiag\u001b[0m\u001b[0;34m(\u001b[0m\u001b[0mconfusion_matrix\u001b[0m\u001b[0;34m)\u001b[0m\u001b[0;34m\u001b[0m\u001b[0m\n",
      "\u001b[0;32m~/Documents/Bone-MRI/evaluate.py\u001b[0m in \u001b[0;36mcalculate_confusion_matrix_predictions\u001b[0;34m(labels, predictions)\u001b[0m\n\u001b[1;32m    114\u001b[0m     \u001b[0mreturns\u001b[0m \u001b[0ma\u001b[0m \u001b[0mconfusion\u001b[0m \u001b[0mmatrix\u001b[0m\u001b[0;34m\u001b[0m\u001b[0m\n\u001b[1;32m    115\u001b[0m     \"\"\"\n\u001b[0;32m--> 116\u001b[0;31m     \u001b[0;32mreturn\u001b[0m \u001b[0mconfusion_matrix\u001b[0m\u001b[0;34m(\u001b[0m\u001b[0mlabels\u001b[0m\u001b[0;34m,\u001b[0m \u001b[0mpredictions\u001b[0m\u001b[0;34m)\u001b[0m\u001b[0;34m\u001b[0m\u001b[0m\n\u001b[0m\u001b[1;32m    117\u001b[0m \u001b[0;34m\u001b[0m\u001b[0m\n\u001b[1;32m    118\u001b[0m \u001b[0;32mdef\u001b[0m \u001b[0mcalculate_confusion_matrix_stats_predictions\u001b[0m\u001b[0;34m(\u001b[0m\u001b[0mlabels\u001b[0m\u001b[0;34m,\u001b[0m \u001b[0mpredictions\u001b[0m\u001b[0;34m)\u001b[0m\u001b[0;34m:\u001b[0m\u001b[0;34m\u001b[0m\u001b[0m\n",
      "\u001b[0;32m~/.local/share/virtualenvs/Bone-MRI-iLizu8rs/lib/python3.6/site-packages/sklearn/metrics/_classification.py\u001b[0m in \u001b[0;36mconfusion_matrix\u001b[0;34m(y_true, y_pred, labels, sample_weight, normalize)\u001b[0m\n\u001b[1;32m    266\u001b[0m \u001b[0;34m\u001b[0m\u001b[0m\n\u001b[1;32m    267\u001b[0m     \"\"\"\n\u001b[0;32m--> 268\u001b[0;31m     \u001b[0my_type\u001b[0m\u001b[0;34m,\u001b[0m \u001b[0my_true\u001b[0m\u001b[0;34m,\u001b[0m \u001b[0my_pred\u001b[0m \u001b[0;34m=\u001b[0m \u001b[0m_check_targets\u001b[0m\u001b[0;34m(\u001b[0m\u001b[0my_true\u001b[0m\u001b[0;34m,\u001b[0m \u001b[0my_pred\u001b[0m\u001b[0;34m)\u001b[0m\u001b[0;34m\u001b[0m\u001b[0m\n\u001b[0m\u001b[1;32m    269\u001b[0m     \u001b[0;32mif\u001b[0m \u001b[0my_type\u001b[0m \u001b[0;32mnot\u001b[0m \u001b[0;32min\u001b[0m \u001b[0;34m(\u001b[0m\u001b[0;34m\"binary\"\u001b[0m\u001b[0;34m,\u001b[0m \u001b[0;34m\"multiclass\"\u001b[0m\u001b[0;34m)\u001b[0m\u001b[0;34m:\u001b[0m\u001b[0;34m\u001b[0m\u001b[0m\n\u001b[1;32m    270\u001b[0m         \u001b[0;32mraise\u001b[0m \u001b[0mValueError\u001b[0m\u001b[0;34m(\u001b[0m\u001b[0;34m\"%s is not supported\"\u001b[0m \u001b[0;34m%\u001b[0m \u001b[0my_type\u001b[0m\u001b[0;34m)\u001b[0m\u001b[0;34m\u001b[0m\u001b[0m\n",
      "\u001b[0;32m~/.local/share/virtualenvs/Bone-MRI-iLizu8rs/lib/python3.6/site-packages/sklearn/metrics/_classification.py\u001b[0m in \u001b[0;36m_check_targets\u001b[0;34m(y_true, y_pred)\u001b[0m\n\u001b[1;32m     78\u001b[0m     \u001b[0my_pred\u001b[0m \u001b[0;34m:\u001b[0m \u001b[0marray\u001b[0m \u001b[0;32mor\u001b[0m \u001b[0mindicator\u001b[0m \u001b[0mmatrix\u001b[0m\u001b[0;34m\u001b[0m\u001b[0m\n\u001b[1;32m     79\u001b[0m     \"\"\"\n\u001b[0;32m---> 80\u001b[0;31m     \u001b[0mcheck_consistent_length\u001b[0m\u001b[0;34m(\u001b[0m\u001b[0my_true\u001b[0m\u001b[0;34m,\u001b[0m \u001b[0my_pred\u001b[0m\u001b[0;34m)\u001b[0m\u001b[0;34m\u001b[0m\u001b[0m\n\u001b[0m\u001b[1;32m     81\u001b[0m     \u001b[0mtype_true\u001b[0m \u001b[0;34m=\u001b[0m \u001b[0mtype_of_target\u001b[0m\u001b[0;34m(\u001b[0m\u001b[0my_true\u001b[0m\u001b[0;34m)\u001b[0m\u001b[0;34m\u001b[0m\u001b[0m\n\u001b[1;32m     82\u001b[0m     \u001b[0mtype_pred\u001b[0m \u001b[0;34m=\u001b[0m \u001b[0mtype_of_target\u001b[0m\u001b[0;34m(\u001b[0m\u001b[0my_pred\u001b[0m\u001b[0;34m)\u001b[0m\u001b[0;34m\u001b[0m\u001b[0m\n",
      "\u001b[0;32m~/.local/share/virtualenvs/Bone-MRI-iLizu8rs/lib/python3.6/site-packages/sklearn/utils/validation.py\u001b[0m in \u001b[0;36mcheck_consistent_length\u001b[0;34m(*arrays)\u001b[0m\n\u001b[1;32m    210\u001b[0m     \u001b[0;32mif\u001b[0m \u001b[0mlen\u001b[0m\u001b[0;34m(\u001b[0m\u001b[0muniques\u001b[0m\u001b[0;34m)\u001b[0m \u001b[0;34m>\u001b[0m \u001b[0;36m1\u001b[0m\u001b[0;34m:\u001b[0m\u001b[0;34m\u001b[0m\u001b[0m\n\u001b[1;32m    211\u001b[0m         raise ValueError(\"Found input variables with inconsistent numbers of\"\n\u001b[0;32m--> 212\u001b[0;31m                          \" samples: %r\" % [int(l) for l in lengths])\n\u001b[0m\u001b[1;32m    213\u001b[0m \u001b[0;34m\u001b[0m\u001b[0m\n\u001b[1;32m    214\u001b[0m \u001b[0;34m\u001b[0m\u001b[0m\n",
      "\u001b[0;31mValueError\u001b[0m: Found input variables with inconsistent numbers of samples: [99, 100]"
     ]
    }
   ],
   "source": [
    "fig = plot_multiple_precision_recall(train, experts=get_experts_for_names(expert_features, train_set.names))#, comparison_models=get_experts_for_names(comparison_model_features, train_set.names, experts=['radiomics'], transform=float))\n",
    "fig.savefig(\"figures/combined-train-precision-recall.svg\", bbox_inches = \"tight\")\n",
    "fig = plot_multiple_precision_recall(validation, experts=get_experts_for_names(expert_features, validation_set.names))#,  comparison_models=get_experts_for_names(comparison_model_features, validation_set.names, experts=['radiomics'], transform=float))\n",
    "fig.savefig(\"figures/combined-validation-precision-recall.svg\", bbox_inches = \"tight\")\n",
    "fig = plot_multiple_precision_recall(test, experts=get_experts_for_names(expert_features, test_set.names, experts=[\"expert1\"]))#, comparison_models=get_experts_for_names(comparison_model_features, test_set.names, experts=['radiomics'], transform=float))\n",
    "fig.savefig(\"figures/combined-test-precision-recall.svg\", bbox_inches = \"tight\")\n",
    "#fig = plot_multiple_precision_recall(test_1, experts=get_experts_for_names(expert_features, test_set.names, experts=[\"expert1\", \"expert2\", \"expert3\", \"expert4\"]))#, comparison_models=get_experts_for_names(comparison_model_features, test_set.names, experts=['radiomics'], transform=float))\n",
    "#fig.savefig(\"figures/combined-test-1-precision-recall.svg\", bbox_inches = \"tight\")\n",
    "#fig = plot_multiple_precision_recall(test_2, experts=get_experts_for_names(expert_features, test_set.names, experts=[\"expert1\", \"expert2\", \"expert3\", \"expert4\"]))#, comparison_models=get_experts_for_names(comparison_model_features, test_set.names, experts=['radiomics'], transform=float))\n",
    "#fig.savefig(\"figures/combined-test-2-precision-recall.svg\", bbox_inches = \"tight\")\n",
    "fig = plot_multiple_roc_curve(train, experts=get_experts_for_names(expert_features, train_set.names))#, comparison_models=get_experts_for_names(comparison_model_features, train_set.names, experts=['radiomics'], transform=float))\n",
    "fig.savefig(\"figures/combined-train-roc.svg\", bbox_inches = \"tight\")\n",
    "fig = plot_multiple_roc_curve(validation, experts=get_experts_for_names(expert_features, validation_set.names))#, comparison_models=get_experts_for_names(comparison_model_features, validation_set.names, experts=['radiomics'], transform=float))\n",
    "fig.savefig(\"figures/combined-validation-roc.svg\", bbox_inches = \"tight\")\n",
    "fig = plot_multiple_roc_curve(test, experts=get_experts_for_names(expert_features, test_set.names, experts=[\"expert1\"]))#, comparison_models=get_experts_for_names(comparison_model_features, test_set.names, experts=['radiomics'], transform=float))\n",
    "fig.savefig(\"figures/combined-test-roc.svg\", bbox_inches = \"tight\")\n",
    "#fig = plot_multiple_roc_curve(test_1, experts=get_experts_for_names(expert_features, test_set.names, experts=[\"expert1\", \"expert2\", \"expert3\", \"expert4\"]))#, comparison_models=get_experts_for_names(comparison_model_features, test_set.names, experts=['radiomics'], transform=float))\n",
    "#fig.savefig(\"figures/combined-test-1-roc.svg\", bbox_inches = \"tight\")\n",
    "#fig = plot_multiple_roc_curve(test_2, experts=get_experts_for_names(expert_features, test_set.names, experts=[\"expert1\", \"expert2\", \"expert3\", \"expert4\"]))#, comparison_models=get_experts_for_names(comparison_model_features, test_set.names, experts=['radiomics'], transform=float))\n",
    "#fig.savefig(\"figures/combined-test-2-roc.svg\", bbox_inches = \"tight\")"
   ]
  },
  {
   "cell_type": "code",
   "execution_count": null,
   "metadata": {},
   "outputs": [],
   "source": [
    "def correct_num_for_modality(dataset, experts=[], comparison_models=[]): \n",
    "    results = list()\n",
    "    if len(experts) > 0:\n",
    "        for i, expert in enumerate(experts): \n",
    "            labels = dataset[\"t1-labels\"]\n",
    "            predictions = expert\n",
    "            correct = sum([ labels[i] == p for i, p in enumerate(predictions) ])\n",
    "            total = len(labels)\n",
    "            results.append({ \n",
    "                \"correct\": correct, \n",
    "                \"total\": total, \n",
    "                \"incorrect\": total-correct, \n",
    "                \"modality\": \"Expert {}\".format(i),\n",
    "                \"acc\": correct/total,                \n",
    "                \"wald\": adjusted_wald(correct/total, total),\n",
    "                **calculate_confusion_matrix_stats_predictions(labels, predictions),\n",
    "            })\n",
    "    for modality in MODALITIES: \n",
    "        labels = dataset[\"{}-labels\".format(modality)]\n",
    "        probabilities = dataset[\"{}-probabilities\".format(modality)]\n",
    "        predictions = dataset[\"{}-predictions\".format(modality)]\n",
    "        total = len(labels)\n",
    "        correct = sum([ labels[i] == p for i, p in enumerate(predictions) ])\n",
    "        results.append({ \n",
    "            \"correct\": correct, \n",
    "            \"total\": total, \n",
    "            \"incorrect\": total-correct, \n",
    "            \"modality\": MODALITY_KEY[modality],\n",
    "            \"acc\": correct/total,\n",
    "            \"wald\": adjusted_wald(correct/total, total),\n",
    "            **calculate_confusion_matrix_stats_predictions(labels, predictions),            \n",
    "        })        \n",
    "    for probabilities in comparison_models: \n",
    "        modality = \"Radiomics\"\n",
    "        labels = dataset[\"t1-labels\"]\n",
    "        predictions = [p > 0.5 for p in probabilities]\n",
    "        predictions = dataset[\"{}-predictions\".format(modality)]\n",
    "        total = len(labels)\n",
    "        correct = sum([ labels[i] == p for i, p in enumerate(predictions) ])\n",
    "        results.append({ \n",
    "            \"correct\": correct, \n",
    "            \"total\": total, \n",
    "            \"incorrect\": total-correct, \n",
    "            \"modality\": modality,\n",
    "            \"acc\": correct/total,\n",
    "            \"wald\": adjusted_wald(correct/total, total),\n",
    "            **calculate_confusion_matrix_stats_predictions(labels, predictions),            \n",
    "        })                \n",
    "    return results"
   ]
  },
  {
   "cell_type": "code",
   "execution_count": null,
   "metadata": {},
   "outputs": [],
   "source": [
    "results = correct_num_for_modality(test, experts=get_experts_for_names(expert_features, test_set.names, experts=[\"expert1\", \"expert2\", \"expert3\", \"expert4\"]))#, comparison_models=get_experts_for_names(comparison_model_features, test_set.names, experts=['radiomics'], transform=float))"
   ]
  },
  {
   "cell_type": "code",
   "execution_count": null,
   "metadata": {
    "scrolled": false
   },
   "outputs": [],
   "source": [
    "experts = get_experts_for_names(expert_features, test_set.names, experts=[\"expert1\", \"expert2\", \"expert3\", \"expert4\"])"
   ]
  },
  {
   "cell_type": "code",
   "execution_count": null,
   "metadata": {},
   "outputs": [],
   "source": [
    "kappa_scores = list()\n",
    "for e in experts: \n",
    "    current = list()\n",
    "    for x in experts: \n",
    "        current.append(cohen_kappa_score(e, x))\n",
    "    kappa_scores.append(current)\n",
    "kappa_scores"
   ]
  },
  {
   "cell_type": "code",
   "execution_count": null,
   "metadata": {},
   "outputs": [],
   "source": [
    "seaborn.heatmap(kappa_scores, annot=True, square=True, fmt=\".2f\", xticklabels=[\"1\", \"2\", \"3\", \"4\"], yticklabels=[\"1\", \"2\", \"3\", \"4\"])"
   ]
  },
  {
   "cell_type": "code",
   "execution_count": null,
   "metadata": {},
   "outputs": [],
   "source": [
    "from itertools import combinations\n",
    "import numpy as np"
   ]
  },
  {
   "cell_type": "code",
   "execution_count": null,
   "metadata": {},
   "outputs": [],
   "source": [
    "unique_kappa = list()\n",
    "for x, y in combinations(experts, 2): \n",
    "    unique_kappa.append(cohen_kappa_score(x, y))\n",
    "np.average(unique_kappa)"
   ]
  },
  {
   "cell_type": "code",
   "execution_count": null,
   "metadata": {},
   "outputs": [],
   "source": [
    "def fleiss_kappa(ratings, n):\n",
    "    '''\n",
    "    Computes the Fleiss' kappa measure for assessing the reliability of \n",
    "    agreement between a fixed number n of raters when assigning categorical\n",
    "    ratings to a number of items.\n",
    "    \n",
    "    Args:\n",
    "        ratings: a list of (item, category)-ratings\n",
    "        n: number of raters\n",
    "        k: number of categories\n",
    "    Returns:\n",
    "        the Fleiss' kappa score\n",
    "    \n",
    "    See also:\n",
    "        http://en.wikipedia.org/wiki/Fleiss'_kappa\n",
    "    '''\n",
    "    items = set()\n",
    "    categories = set()\n",
    "    n_ij = {}\n",
    "    \n",
    "    for i, c in ratings:\n",
    "        items.add(i)\n",
    "        categories.add(c)\n",
    "        n_ij[(i,c)] = n_ij.get((i,c), 0) + 1\n",
    "    \n",
    "    N = len(items)\n",
    "    \n",
    "    p_j = dict(((c, sum(n_ij.get((i, c), 0) for i in items) / (1.0 * n * N)) for c in categories))\n",
    "    P_i = dict(((i, (sum(n_ij.get((i, c), 0) ** 2 for c in categories) - n) / (n * (n - 1.0))) for i in items))\n",
    "\n",
    "    P_bar = sum(P_i.values()) / (1.0 * N)\n",
    "    P_e_bar = sum(value ** 2 for value in p_j.values())\n",
    "    \n",
    "    kappa = (P_bar - P_e_bar) / (1 - P_e_bar)\n",
    "    \n",
    "    return kappa"
   ]
  },
  {
   "cell_type": "code",
   "execution_count": null,
   "metadata": {},
   "outputs": [],
   "source": [
    "fleiss_kappa_array = list()\n",
    "for e in list(zip(*experts)): \n",
    "    for i in e: \n",
    "        fleiss_kappa_array.append((1, i))"
   ]
  },
  {
   "cell_type": "code",
   "execution_count": null,
   "metadata": {},
   "outputs": [],
   "source": [
    "fleiss_kappa(fleiss_kappa_array, 4)"
   ]
  },
  {
   "cell_type": "code",
   "execution_count": null,
   "metadata": {},
   "outputs": [],
   "source": [
    "ratings = [(1, 'yes')] * 10 + [(1, 'no')] * 0  + \\\n",
    "[(2, 'yes')] * 8  + [(2, 'no')] * 2  + \\\n",
    "[(3, 'yes')] * 9  + [(3, 'no')] * 1  + \\\n",
    "[(4, 'yes')] * 0  + [(4, 'no')] * 10 + \\\n",
    "[(5, 'yes')] * 7  + [(5, 'no')] * 3\n",
    "ratings"
   ]
  },
  {
   "cell_type": "code",
   "execution_count": null,
   "metadata": {},
   "outputs": [],
   "source": [
    "x = np.array(experts).T\n",
    "fleiss_kappa(x)"
   ]
  },
  {
   "cell_type": "code",
   "execution_count": null,
   "metadata": {},
   "outputs": [],
   "source": [
    "ensemble = results.pop()\n",
    "for r in results: \n",
    "    print(r[\"modality\"], fisher_exact([[ensemble[\"correct\"], r[\"correct\"]], [ensemble[\"incorrect\"], r[\"incorrect\"]]]))"
   ]
  },
  {
   "cell_type": "code",
   "execution_count": null,
   "metadata": {},
   "outputs": [],
   "source": [
    "results"
   ]
  },
  {
   "cell_type": "code",
   "execution_count": null,
   "metadata": {},
   "outputs": [],
   "source": []
  },
  {
   "cell_type": "code",
   "execution_count": null,
   "metadata": {},
   "outputs": [],
   "source": [
    "from IPython.display import HTML\n",
    "HTML('''<script>\n",
    "code_show=true; \n",
    "function code_toggle() {\n",
    " if (code_show){\n",
    " $('div.input').hide();\n",
    " } else {\n",
    " $('div.input').show();\n",
    " }\n",
    " code_show = !code_show\n",
    "} \n",
    "$( document ).ready(code_toggle);\n",
    "</script>\n",
    "The raw code for this IPython notebook is by default hidden for easier reading.\n",
    "To toggle on/off the raw code, click <a href=\"javascript:code_toggle()\">here</a>.''')"
   ]
  },
  {
   "cell_type": "code",
   "execution_count": null,
   "metadata": {},
   "outputs": [],
   "source": []
  },
  {
   "cell_type": "code",
   "execution_count": null,
   "metadata": {},
   "outputs": [],
   "source": []
  },
  {
   "cell_type": "code",
   "execution_count": null,
   "metadata": {},
   "outputs": [],
   "source": []
  },
  {
   "cell_type": "code",
   "execution_count": null,
   "metadata": {},
   "outputs": [],
   "source": []
  },
  {
   "cell_type": "code",
   "execution_count": null,
   "metadata": {},
   "outputs": [],
   "source": []
  }
 ],
 "metadata": {
  "kernelspec": {
   "display_name": "Python 3",
   "language": "python",
   "name": "python3"
  },
  "language_info": {
   "codemirror_mode": {
    "name": "ipython",
    "version": 3
   },
   "file_extension": ".py",
   "mimetype": "text/x-python",
   "name": "python",
   "nbconvert_exporter": "python",
   "pygments_lexer": "ipython3",
   "version": "3.6.1"
  }
 },
 "nbformat": 4,
 "nbformat_minor": 2
}
