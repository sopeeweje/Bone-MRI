{
 "cells": [
  {
   "cell_type": "code",
   "execution_count": 167,
   "metadata": {},
   "outputs": [
    {
     "name": "stdout",
     "output_type": "stream",
     "text": [
      "The autoreload extension is already loaded. To reload it, use:\n",
      "  %reload_ext autoreload\n"
     ]
    }
   ],
   "source": [
    "%load_ext autoreload\n",
    "%autoreload 2\n",
    "%matplotlib inline  \n",
    "from IPython.display import display, HTML, SVG\n",
    "from db import Result\n",
    "import papermill as pm\n",
    "import os\n",
    "import seaborn\n",
    "import pandas\n",
    "import matplotlib.pyplot as plt\n",
    "from collections import defaultdict \n",
    "from sklearn.metrics import auc, precision_recall_curve, roc_curve, confusion_matrix, roc_auc_score, roc_curve, f1_score, accuracy_score\n",
    "from sklearn.metrics import cohen_kappa_score\n",
    "from evaluate import calculate_confusion_matrix_stats_predictions, calculate_roc_curve, roc_auc_score\n",
    "from scipy.stats import binom_test, fisher_exact, chi2_contingency\n",
    "from tabulate import tabulate\n",
    "from calculate_features import all_features\n",
    "from config import config\n",
    "from data_gen import data\n",
    "plt.rcParams['svg.fonttype'] = 'none'"
   ]
  },
  {
   "cell_type": "code",
   "execution_count": 131,
   "metadata": {},
   "outputs": [],
   "source": [
    "SKIP = False\n",
    "UUIDS = [    \n",
    "     #\"23c07175-158e-4ae6-957a-92d59edbddc7\", # t2, outcome_pos\n",
    "     #\"0dc80db6-a8be-494d-bf8a-3f436bf32aa1\", # t1, outcome_pos\n",
    "     \"7e946fc2-5f5d-46b8-94e6-c57ea02f32ad\", # t2, outcome_neg\n",
    "     \"ba0de65e-7e2b-483f-b2ec-f41a39959e6d\" # t1, outcome_neg\n",
    "     #\"55fc2831-93df-4314-92d8-cfcedb2be91a\", # t2, outcome_3\n",
    "     #\"44cda793-d14b-4397-8159-b2405eb6bcb0\", # t1, outcome_3\n",
    "]\n",
    "SELECTIONS = {\n",
    "     #\"23c07175-158e-4ae6-957a-92d59edbddc7\": None, #t2, outcome_pos\n",
    "     #\"0dc80db6-a8be-494d-bf8a-3f436bf32aa1\": None, # t1, outcome_pos\n",
    "     \"7e946fc2-5f5d-46b8-94e6-c57ea02f32ad\": None, # t2, outcome_neg\n",
    "     \"ba0de65e-7e2b-483f-b2ec-f41a39959e6d\": None, # t1, outcome_neg\n",
    "}\n",
    "TSNE_PERPLEXITY = {\n",
    "    #\"23c07175-158e-4ae6-957a-92d59edbddc7\": 10, # t2, outcome_pos\n",
    "    #\"0dc80db6-a8be-494d-bf8a-3f436bf32aa1\": 10, # t1, outcome_pos\n",
    "    \"7e946fc2-5f5d-46b8-94e6-c57ea02f32ad\": 10, # t2, outcome_neg\n",
    "    \"ba0de65e-7e2b-483f-b2ec-f41a39959e6d\": 10, # t1, outcome_neg\n",
    "    #\"55fc2831-93df-4314-92d8-cfcedb2be91a\": 10, # t2, outcome_3\n",
    "    #\"bbcee945-5abb-4d11-8035-68b8a3d484d4\": 10 # t1, outcome_3\n",
    "}\n",
    "MODALITY = {\n",
    "    #\"23c07175-158e-4ae6-957a-92d59edbddc7\": \"t2\", # t2, outcome_pos\n",
    "    #\"0dc80db6-a8be-494d-bf8a-3f436bf32aa1\": \"t1\" # t1, outcome_pos\n",
    "    \"7e946fc2-5f5d-46b8-94e6-c57ea02f32ad\": \"t2\", # t2, outcome_neg\n",
    "    \"ba0de65e-7e2b-483f-b2ec-f41a39959e6d\": \"t1\", # t1, outcome_neg\n",
    "    #\"55fc2831-93df-4314-92d8-cfcedb2be91a\": \"t2\", # t2, outcome_3\n",
    "    #\"bbcee945-5abb-4d11-8035-68b8a3d484d4\": \"t1\" # t1, outcome_3    \n",
    "}"
   ]
  },
  {
   "cell_type": "code",
   "execution_count": 132,
   "metadata": {},
   "outputs": [],
   "source": [
    "import math\n",
    "def adjusted_wald(p, n, z=1.96):\n",
    "    p_adj = (n * p + (z**2)/2)/(n+z**2)\n",
    "    n_adj = n + z**2\n",
    "    span = z * math.sqrt(p_adj*(1-p_adj)/n_adj)\n",
    "    return max(0, p_adj - span), min(p_adj + span, 1.0)"
   ]
  },
  {
   "cell_type": "code",
   "execution_count": 133,
   "metadata": {},
   "outputs": [],
   "source": [
    "def execute_notebook(uuid, selections=None, tsne_perplexity=5, input_form=\"none\", description=\"\"): \n",
    "    name = \"evaluate-{}-{}-{}.ipynb\".format(description, input_form, uuid)\n",
    "    if not SKIP and not os.path.exists(name): \n",
    "        pm.execute_notebook(\n",
    "            \"evaluate-specific-model.ipynb\",\n",
    "            \"evaluate-{}-{}-{}.ipynb\".format(description, input_form, uuid),\n",
    "            parameters = dict(\n",
    "                UUID=uuid,\n",
    "                SELECTIONS=repr(selections),\n",
    "                TSNE_PERPLEXITY=tsne_perplexity,\n",
    "            ),\n",
    "    )\n",
    "    return name"
   ]
  },
  {
   "cell_type": "code",
   "execution_count": 134,
   "metadata": {},
   "outputs": [],
   "source": [
    "completed_notebooks = list()\n",
    "modality_by_notebook = dict()"
   ]
  },
  {
   "cell_type": "code",
   "execution_count": 135,
   "metadata": {
    "scrolled": false
   },
   "outputs": [
    {
     "name": "stdout",
     "output_type": "stream",
     "text": [
      "7e946fc2-5f5d-46b8-94e6-c57ea02f32ad\n",
      "done\n",
      "ba0de65e-7e2b-483f-b2ec-f41a39959e6d\n",
      "Input Notebook:  evaluate-specific-model.ipynb\n",
      "Output Notebook: evaluate-abstractrun4_alldata_t1_sgd50-t1-ba0de65e-7e2b-483f-b2ec-f41a39959e6d.ipynb\n"
     ]
    },
    {
     "name": "stderr",
     "output_type": "stream",
     "text": [
      "100%|██████████| 60/60 [04:38<00:00,  4.65s/it]\n"
     ]
    },
    {
     "name": "stdout",
     "output_type": "stream",
     "text": [
      "done\n"
     ]
    }
   ],
   "source": [
    "for uuid in UUIDS: \n",
    "    print(uuid)\n",
    "    result = Result.query.filter(Result.uuid == uuid).first()\n",
    "    name = execute_notebook(uuid, SELECTIONS.get(uuid), TSNE_PERPLEXITY.get(uuid), result.input_form, result.description)\n",
    "    completed_notebooks.append(name)\n",
    "    modality_by_notebook[name] = MODALITY[uuid]\n",
    "    print(\"done\")"
   ]
  },
  {
   "cell_type": "code",
   "execution_count": 138,
   "metadata": {},
   "outputs": [
    {
     "data": {
      "text/plain": [
       "{'evaluate-abstractrun4_alldata-t2-7e946fc2-5f5d-46b8-94e6-c57ea02f32ad.ipynb': 't2',\n",
       " 'evaluate-abstractrun4_alldata_t1_sgd50-t1-ba0de65e-7e2b-483f-b2ec-f41a39959e6d.ipynb': 't1'}"
      ]
     },
     "execution_count": 138,
     "metadata": {},
     "output_type": "execute_result"
    }
   ],
   "source": [
    "modality_by_notebook"
   ]
  },
  {
   "cell_type": "code",
   "execution_count": 142,
   "metadata": {},
   "outputs": [
    {
     "name": "stdout",
     "output_type": "stream",
     "text": [
      "Input Notebook:  evaluate-ensemble.ipynb\n",
      "Output Notebook: evaluate-ensemble-7e946fc2-5f5d-46b8-94e6-c57ea02f32ad-ba0de65e-7e2b-483f-b2ec-f41a39959e6d.ipynb\n"
     ]
    },
    {
     "name": "stderr",
     "output_type": "stream",
     "text": [
      "100%|██████████| 46/46 [20:21<00:00, 26.56s/it]  \n"
     ]
    }
   ],
   "source": [
    "if not SKIP: \n",
    "    pm.execute_notebook(\n",
    "        \"evaluate-ensemble.ipynb\",\n",
    "        \"evaluate-ensemble-{}.ipynb\".format(\"-\".join(UUIDS)),\n",
    "        parameters = dict(\n",
    "            MODELS=UUIDS,\n",
    "            SCORE=\"accuracy\",\n",
    "        ),\n",
    "    )\n",
    "completed_notebooks.append(\"evaluate-ensemble-{}.ipynb\".format(\"-\".join(UUIDS)))"
   ]
  },
  {
   "cell_type": "code",
   "execution_count": 143,
   "metadata": {},
   "outputs": [],
   "source": [
    "modality_by_notebook[\"evaluate-ensemble-{}.ipynb\".format(\"-\".join(UUIDS))] = \"ensemble\""
   ]
  },
  {
   "cell_type": "code",
   "execution_count": 144,
   "metadata": {},
   "outputs": [],
   "source": [
    "def get_notebook_output(notebook, name): \n",
    "    return (notebook.dataframe[notebook.dataframe.name==name].value.tolist())[0]"
   ]
  },
  {
   "cell_type": "code",
   "execution_count": 145,
   "metadata": {},
   "outputs": [],
   "source": [
    "train = dict()\n",
    "validation = dict()\n",
    "test = dict()\n",
    "test_1 = dict()\n",
    "test_2 = dict()\n",
    "for notebook in completed_notebooks: \n",
    "    nb = pm.read_notebook(notebook)\n",
    "    train[\"{}-{}\".format(modality_by_notebook[notebook], \"labels\")] = get_notebook_output(nb, \"train_labels\")\n",
    "    train[\"{}-{}\".format(modality_by_notebook[notebook], \"predictions\")] = get_notebook_output(nb, \"train_predictions\")\n",
    "    train[\"{}-{}\".format(modality_by_notebook[notebook], \"probabilities\")] = get_notebook_output(nb, \"train_probabilities\")\n",
    "    validation[\"{}-{}\".format(modality_by_notebook[notebook], \"labels\")] = get_notebook_output(nb, \"validation_labels\")\n",
    "    validation[\"{}-{}\".format(modality_by_notebook[notebook], \"predictions\")] = get_notebook_output(nb, \"validation_predictions\")\n",
    "    validation[\"{}-{}\".format(modality_by_notebook[notebook], \"probabilities\")] = get_notebook_output(nb, \"validation_probabilities\")\n",
    "    test[\"{}-{}\".format(modality_by_notebook[notebook], \"labels\")] = get_notebook_output(nb, \"test_labels\")\n",
    "    test[\"{}-{}\".format(modality_by_notebook[notebook], \"predictions\")] = get_notebook_output(nb, \"test_predictions\")\n",
    "    test[\"{}-{}\".format(modality_by_notebook[notebook], \"probabilities\")] = get_notebook_output(nb, \"test_probabilities\")\n",
    "    #test_1[\"{}-{}\".format(modality_by_notebook[notebook], \"labels\")] = get_notebook_output(nb, \"test-1_labels\")\n",
    "    #test_1[\"{}-{}\".format(modality_by_notebook[notebook], \"predictions\")] = get_notebook_output(nb, \"test-1_predictions\")\n",
    "    #test_1[\"{}-{}\".format(modality_by_notebook[notebook], \"probabilities\")] = get_notebook_output(nb, \"test-1_probabilities\")\n",
    "    #test_2[\"{}-{}\".format(modality_by_notebook[notebook], \"labels\")] = get_notebook_output(nb, \"test-2_labels\")\n",
    "    #test_2[\"{}-{}\".format(modality_by_notebook[notebook], \"predictions\")] = get_notebook_output(nb, \"test-2_predictions\")\n",
    "    #test_2[\"{}-{}\".format(modality_by_notebook[notebook], \"probabilities\")] = get_notebook_output(nb, \"test-2_probabilities\")    "
   ]
  },
  {
   "cell_type": "code",
   "execution_count": 146,
   "metadata": {},
   "outputs": [
    {
     "data": {
      "text/plain": [
       "dict_keys(['t2-labels', 't2-predictions', 't2-probabilities', 't1-labels', 't1-predictions', 't1-probabilities', 'ensemble-labels', 'ensemble-predictions', 'ensemble-probabilities'])"
      ]
     },
     "execution_count": 146,
     "metadata": {},
     "output_type": "execute_result"
    }
   ],
   "source": [
    "train.keys()"
   ]
  },
  {
   "cell_type": "code",
   "execution_count": 147,
   "metadata": {},
   "outputs": [
    {
     "data": {
      "text/plain": [
       "['evaluate-abstractrun4_alldata-t2-7e946fc2-5f5d-46b8-94e6-c57ea02f32ad.ipynb',\n",
       " 'evaluate-abstractrun4_alldata_t1_sgd50-t1-ba0de65e-7e2b-483f-b2ec-f41a39959e6d.ipynb',\n",
       " 'evaluate-ensemble-7e946fc2-5f5d-46b8-94e6-c57ea02f32ad-ba0de65e-7e2b-483f-b2ec-f41a39959e6d.ipynb']"
      ]
     },
     "execution_count": 147,
     "metadata": {},
     "output_type": "execute_result"
    }
   ],
   "source": [
    "completed_notebooks"
   ]
  },
  {
   "cell_type": "code",
   "execution_count": 168,
   "metadata": {
    "scrolled": true
   },
   "outputs": [
    {
     "name": "stderr",
     "output_type": "stream",
     "text": [
      "  0%|          | 2/710 [00:00<00:36, 19.50it/s]"
     ]
    },
    {
     "name": "stdout",
     "output_type": "stream",
     "text": [
      "40be5ca1-f243-4e59-b35b-69653e7c3f13\n",
      "Training points = 710\n",
      "Benign: 191, Intermediate: 519, Malignant: 0\n",
      "\n",
      "Validation points = 201\n",
      "Benign: 54, Intermediate: 147, Malignant: 0\n",
      "\n",
      "Testing points = 100\n",
      "Benign: 27, Intermediate: 73, Malignant: 0\n",
      "bone-china-065\n",
      "Does this patient have T2 available? True\n",
      "I'm doing the thing.\n",
      "bone-penn-586\n",
      "Does this patient have T2 available? True\n",
      "I'm doing the thing.\n",
      "bone-china-069\n",
      "Does this patient have T2 available? True\n",
      "I'm doing the thing.\n"
     ]
    },
    {
     "name": "stderr",
     "output_type": "stream",
     "text": [
      "\r",
      "  1%|          | 5/710 [00:00<00:32, 21.56it/s]"
     ]
    },
    {
     "name": "stdout",
     "output_type": "stream",
     "text": [
      "bone-penn-552\n",
      "Does this patient have T2 available? False\n",
      "T2 image unavailable\n",
      "bone-penn-319\n",
      "Does this patient have T2 available? True\n",
      "I'm doing the thing.\n",
      "bone-china-017\n",
      "Does this patient have T2 available? True\n",
      "I'm doing the thing.\n",
      "bone-china-053\n",
      "Does this patient have T2 available? True\n",
      "I'm doing the thing.\n",
      "bone-hup-302\n",
      "Does this patient have T2 available? True\n",
      "I'm doing the thing.\n"
     ]
    },
    {
     "name": "stderr",
     "output_type": "stream",
     "text": [
      "\r",
      "  1%|          | 8/710 [00:00<00:38, 18.08it/s]"
     ]
    },
    {
     "name": "stdout",
     "output_type": "stream",
     "text": [
      "bone-hup-311\n",
      "Does this patient have T2 available? True\n",
      "I'm doing the thing.\n"
     ]
    },
    {
     "name": "stderr",
     "output_type": "stream",
     "text": [
      "\r",
      "  1%|▏         | 10/710 [00:00<01:03, 11.05it/s]"
     ]
    },
    {
     "name": "stdout",
     "output_type": "stream",
     "text": [
      "bone-china-067\n",
      "Does this patient have T2 available? True\n",
      "I'm doing the thing.\n",
      "bone-penn-555\n",
      "Does this patient have T2 available? True\n",
      "I'm doing the thing.\n",
      "bone-hup-304\n",
      "Does this patient have T2 available? True\n",
      "I'm doing the thing.\n"
     ]
    },
    {
     "name": "stderr",
     "output_type": "stream",
     "text": [
      "\r",
      "  2%|▏         | 12/710 [00:01<01:09, 10.02it/s]"
     ]
    },
    {
     "name": "stdout",
     "output_type": "stream",
     "text": [
      "bone-china-018\n",
      "Does this patient have T2 available? True\n",
      "I'm doing the thing.\n",
      "bone-penn-154\n",
      "Does this patient have T2 available? True\n",
      "I'm doing the thing.\n",
      "bone-hup-296\n",
      "Does this patient have T2 available? True\n",
      "I'm doing the thing.\n"
     ]
    },
    {
     "name": "stderr",
     "output_type": "stream",
     "text": [
      "\r",
      "  2%|▏         | 15/710 [00:01<01:03, 11.02it/s]"
     ]
    },
    {
     "name": "stdout",
     "output_type": "stream",
     "text": [
      "bone-penn-274\n",
      "Does this patient have T2 available? True\n",
      "I'm doing the thing.\n"
     ]
    },
    {
     "name": "stderr",
     "output_type": "stream",
     "text": [
      "\r",
      "  2%|▏         | 17/710 [00:01<01:17,  8.89it/s]"
     ]
    },
    {
     "name": "stdout",
     "output_type": "stream",
     "text": [
      "bone-hup-274\n",
      "Does this patient have T2 available? True\n",
      "I'm doing the thing.\n",
      "bone-penn-468\n",
      "Does this patient have T2 available? True\n",
      "I'm doing the thing.\n"
     ]
    },
    {
     "name": "stderr",
     "output_type": "stream",
     "text": [
      "  3%|▎         | 20/710 [00:02<02:14,  5.11it/s]"
     ]
    },
    {
     "name": "stdout",
     "output_type": "stream",
     "text": [
      "bone-china-001\n",
      "Does this patient have T2 available? True\n",
      "I'm doing the thing.\n",
      "bone-hup-312\n",
      "Does this patient have T2 available? True\n",
      "I'm doing the thing.\n",
      "bone-hup-321\n",
      "Does this patient have T2 available? True\n",
      "I'm doing the thing.\n"
     ]
    },
    {
     "name": "stderr",
     "output_type": "stream",
     "text": [
      "  3%|▎         | 22/710 [00:02<02:03,  5.57it/s]"
     ]
    },
    {
     "name": "stdout",
     "output_type": "stream",
     "text": [
      "bone-hup-316\n",
      "Does this patient have T2 available? True\n",
      "I'm doing the thing.\n",
      "bone-china-049\n",
      "Does this patient have T2 available? True\n",
      "I'm doing the thing.\n",
      "bone-penn-145\n",
      "Does this patient have T2 available? True\n",
      "I'm doing the thing.\n"
     ]
    },
    {
     "name": "stderr",
     "output_type": "stream",
     "text": [
      "  4%|▍         | 27/710 [00:03<01:31,  7.46it/s]"
     ]
    },
    {
     "name": "stdout",
     "output_type": "stream",
     "text": [
      "bone-penn-302\n",
      "Does this patient have T2 available? False\n",
      "T2 image unavailable\n",
      "bone-china-036\n",
      "Does this patient have T2 available? True\n",
      "I'm doing the thing.\n",
      "bone-penn-500\n",
      "Does this patient have T2 available? True\n",
      "I'm doing the thing.\n",
      "bone-china-009\n",
      "Does this patient have T2 available? True\n",
      "I'm doing the thing.\n",
      "bone-hup-303\n",
      "Does this patient have T2 available? True\n",
      "I'm doing the thing.\n"
     ]
    },
    {
     "name": "stderr",
     "output_type": "stream",
     "text": [
      "  5%|▍         | 32/710 [00:03<01:19,  8.50it/s]"
     ]
    },
    {
     "name": "stdout",
     "output_type": "stream",
     "text": [
      "bone-penn-509\n",
      "Does this patient have T2 available? True\n",
      "I'm doing the thing.\n",
      "bone-china-055\n",
      "Does this patient have T2 available? True\n",
      "I'm doing the thing.\n",
      "bone-hup-281\n",
      "Does this patient have T2 available? True\n",
      "I'm doing the thing.\n",
      "bone-penn-556\n",
      "Does this patient have T2 available? True\n",
      "I'm doing the thing.\n"
     ]
    },
    {
     "name": "stderr",
     "output_type": "stream",
     "text": [
      "\r",
      "  5%|▍         | 34/710 [00:03<01:12,  9.36it/s]"
     ]
    },
    {
     "name": "stdout",
     "output_type": "stream",
     "text": [
      "bone-china-075\n",
      "Does this patient have T2 available? True\n",
      "I'm doing the thing.\n",
      "bone-hup-317\n",
      "Does this patient have T2 available? True\n",
      "I'm doing the thing.\n",
      "bone-china-010\n",
      "Does this patient have T2 available? True\n",
      "I'm doing the thing.\n"
     ]
    },
    {
     "name": "stderr",
     "output_type": "stream",
     "text": [
      "  5%|▌         | 38/710 [00:04<01:03, 10.60it/s]"
     ]
    },
    {
     "name": "stdout",
     "output_type": "stream",
     "text": [
      "bone-hup-325\n",
      "Does this patient have T2 available? True\n",
      "I'm doing the thing.\n",
      "bone-penn-133\n",
      "Does this patient have T2 available? False\n",
      "T2 image unavailable\n",
      "bone-hup-299\n",
      "Does this patient have T2 available? True\n",
      "I'm doing the thing.\n"
     ]
    },
    {
     "name": "stderr",
     "output_type": "stream",
     "text": [
      "\r",
      "  6%|▌         | 41/710 [00:04<00:54, 12.36it/s]"
     ]
    },
    {
     "name": "stdout",
     "output_type": "stream",
     "text": [
      "bone-penn-331\n",
      "Does this patient have T2 available? False\n",
      "T2 image unavailable\n",
      "bone-china-003\n",
      "Does this patient have T2 available? True\n",
      "I'm doing the thing.\n",
      "bone-penn-562\n",
      "Does this patient have T2 available? False\n",
      "T2 image unavailable\n",
      "bone-china-015\n",
      "Does this patient have T2 available? True\n",
      "I'm doing the thing.\n",
      "bone-china-002\n",
      "Does this patient have T2 available? True\n",
      "I'm doing the thing.\n"
     ]
    },
    {
     "name": "stderr",
     "output_type": "stream",
     "text": [
      "  6%|▋         | 46/710 [00:04<00:46, 14.29it/s]"
     ]
    },
    {
     "name": "stdout",
     "output_type": "stream",
     "text": [
      "bone-hup-269\n",
      "Does this patient have T2 available? True\n",
      "I'm doing the thing.\n",
      "bone-china-066\n",
      "Does this patient have T2 available? True\n",
      "I'm doing the thing.\n",
      "bone-china-061\n",
      "Does this patient have T2 available? True\n",
      "I'm doing the thing.\n",
      "bone-penn-549\n",
      "Does this patient have T2 available? True\n",
      "I'm doing the thing.\n",
      "bone-penn-508\n",
      "Does this patient have T2 available? True\n",
      "I'm doing the thing.\n"
     ]
    },
    {
     "name": "stderr",
     "output_type": "stream",
     "text": [
      "  7%|▋         | 51/710 [00:04<00:43, 15.28it/s]"
     ]
    },
    {
     "name": "stdout",
     "output_type": "stream",
     "text": [
      "bone-china-032\n",
      "Does this patient have T2 available? True\n",
      "I'm doing the thing.\n",
      "bone-china-023\n",
      "Does this patient have T2 available? True\n",
      "I'm doing the thing.\n",
      "bone-penn-565\n",
      "Does this patient have T2 available? True\n",
      "I'm doing the thing.\n"
     ]
    },
    {
     "name": "stderr",
     "output_type": "stream",
     "text": [
      "\r",
      "  7%|▋         | 53/710 [00:05<00:55, 11.76it/s]"
     ]
    },
    {
     "name": "stdout",
     "output_type": "stream",
     "text": [
      "bone-hup-155\n",
      "Does this patient have T2 available? True\n",
      "I'm doing the thing.\n",
      "bone-hup-310\n",
      "Does this patient have T2 available? True\n",
      "I'm doing the thing.\n",
      "bone-china-038\n",
      "Does this patient have T2 available? True\n",
      "I'm doing the thing.\n"
     ]
    },
    {
     "name": "stderr",
     "output_type": "stream",
     "text": [
      "  8%|▊         | 57/710 [00:05<00:56, 11.50it/s]"
     ]
    },
    {
     "name": "stdout",
     "output_type": "stream",
     "text": [
      "bone-penn-296\n",
      "Does this patient have T2 available? True\n",
      "I'm doing the thing.\n",
      "bone-china-043\n",
      "Does this patient have T2 available? True\n",
      "I'm doing the thing.\n",
      "bone-hup-320\n",
      "Does this patient have T2 available? True\n",
      "I'm doing the thing.\n"
     ]
    },
    {
     "name": "stderr",
     "output_type": "stream",
     "text": [
      "\r",
      "  8%|▊         | 59/710 [00:05<01:16,  8.49it/s]"
     ]
    },
    {
     "name": "stdout",
     "output_type": "stream",
     "text": [
      "bone-china-040\n",
      "Does this patient have T2 available? True\n",
      "I'm doing the thing.\n",
      "bone-penn-548\n",
      "Does this patient have T2 available? True\n",
      "I'm doing the thing.\n",
      "bone-hup-322\n",
      "Does this patient have T2 available? True\n",
      "I'm doing the thing.\n"
     ]
    },
    {
     "name": "stderr",
     "output_type": "stream",
     "text": [
      "\r",
      "  9%|▊         | 61/710 [00:06<01:19,  8.15it/s]"
     ]
    },
    {
     "name": "stdout",
     "output_type": "stream",
     "text": [
      "bone-china-014\n",
      "Does this patient have T2 available? True\n",
      "I'm doing the thing.\n",
      "bone-hup-275\n",
      "Does this patient have T2 available? True\n",
      "I'm doing the thing.\n"
     ]
    },
    {
     "name": "stderr",
     "output_type": "stream",
     "text": [
      "\r",
      "  9%|▉         | 63/710 [00:06<01:39,  6.53it/s]"
     ]
    },
    {
     "name": "stdout",
     "output_type": "stream",
     "text": [
      "bone-china-054\n",
      "Does this patient have T2 available? True\n",
      "I'm doing the thing.\n",
      "bone-penn-567\n",
      "Does this patient have T2 available? True\n",
      "I'm doing the thing.\n"
     ]
    },
    {
     "name": "stderr",
     "output_type": "stream",
     "text": [
      " 10%|▉         | 68/710 [00:07<01:23,  7.67it/s]"
     ]
    },
    {
     "name": "stdout",
     "output_type": "stream",
     "text": [
      "bone-china-025\n",
      "Does this patient have T2 available? True\n",
      "I'm doing the thing.\n",
      "bone-penn-129\n",
      "Does this patient have T2 available? False\n",
      "T2 image unavailable\n",
      "bone-hup-307\n",
      "Does this patient have T2 available? True\n",
      "I'm doing the thing.\n",
      "bone-china-056\n",
      "Does this patient have T2 available? True\n",
      "I'm doing the thing.\n"
     ]
    },
    {
     "name": "stderr",
     "output_type": "stream",
     "text": [
      "\r",
      " 10%|▉         | 70/710 [00:07<01:18,  8.14it/s]"
     ]
    },
    {
     "name": "stdout",
     "output_type": "stream",
     "text": [
      "bone-penn-455\n",
      "Does this patient have T2 available? True\n",
      "I'm doing the thing.\n",
      "bone-penn-563\n",
      "Does this patient have T2 available? False\n",
      "T2 image unavailable\n",
      "bone-china-008\n",
      "Does this patient have T2 available? True\n",
      "I'm doing the thing.\n"
     ]
    },
    {
     "name": "stderr",
     "output_type": "stream",
     "text": [
      " 11%|█         | 75/710 [00:07<00:52, 12.06it/s]"
     ]
    },
    {
     "name": "stdout",
     "output_type": "stream",
     "text": [
      "bone-penn-476\n",
      "Does this patient have T2 available? True\n",
      "I'm doing the thing.\n",
      "bone-hup-117\n",
      "Does this patient have T2 available? False\n",
      "T2 image unavailable\n",
      "bone-penn-142\n",
      "Does this patient have T2 available? True\n",
      "I'm doing the thing.\n",
      "bone-penn-136\n",
      "Does this patient have T2 available? False\n",
      "T2 image unavailable\n",
      "bone-china-013\n",
      "Does this patient have T2 available? True\n",
      "I'm doing the thing.\n"
     ]
    },
    {
     "name": "stderr",
     "output_type": "stream",
     "text": [
      "\r",
      " 11%|█         | 79/710 [00:07<00:43, 14.36it/s]"
     ]
    },
    {
     "name": "stdout",
     "output_type": "stream",
     "text": [
      "bone-penn-138\n",
      "Does this patient have T2 available? False\n",
      "T2 image unavailable\n",
      "bone-hup-291\n",
      "Does this patient have T2 available? True\n",
      "I'm doing the thing.\n",
      "bone-hup-328\n",
      "Does this patient have T2 available? True\n",
      "I'm doing the thing.\n"
     ]
    },
    {
     "name": "stderr",
     "output_type": "stream",
     "text": [
      "\r",
      " 11%|█▏        | 81/710 [00:07<01:05,  9.67it/s]"
     ]
    },
    {
     "name": "stdout",
     "output_type": "stream",
     "text": [
      "bone-china-041\n",
      "Does this patient have T2 available? True\n",
      "I'm doing the thing.\n",
      "bone-penn-560\n",
      "Does this patient have T2 available? False\n",
      "T2 image unavailable\n",
      "bone-china-006\n",
      "Does this patient have T2 available? True\n",
      "I'm doing the thing.\n",
      "bone-penn-497\n",
      "Does this patient have T2 available? True\n",
      "I'm doing the thing.\n",
      "bone-penn-143\n",
      "Does this patient have T2 available? True\n",
      "I'm doing the thing.\n"
     ]
    },
    {
     "name": "stderr",
     "output_type": "stream",
     "text": [
      "\r",
      " 12%|█▏        | 85/710 [00:08<00:56, 11.05it/s]"
     ]
    },
    {
     "name": "stdout",
     "output_type": "stream",
     "text": [
      "bone-hup-116\n",
      "Does this patient have T2 available? True\n",
      "I'm doing the thing.\n"
     ]
    },
    {
     "name": "stderr",
     "output_type": "stream",
     "text": [
      "\r",
      " 12%|█▏        | 87/710 [00:08<01:08,  9.08it/s]"
     ]
    },
    {
     "name": "stdout",
     "output_type": "stream",
     "text": [
      "bone-penn-491\n",
      "Does this patient have T2 available? True\n",
      "I'm doing the thing.\n",
      "bone-penn-494\n",
      "Does this patient have T2 available? True\n",
      "I'm doing the thing.\n"
     ]
    },
    {
     "name": "stderr",
     "output_type": "stream",
     "text": [
      "\r",
      " 13%|█▎        | 89/710 [00:08<01:16,  8.09it/s]"
     ]
    },
    {
     "name": "stdout",
     "output_type": "stream",
     "text": [
      "bone-china-019\n",
      "Does this patient have T2 available? True\n",
      "I'm doing the thing.\n",
      "bone-penn-132\n",
      "Does this patient have T2 available? True\n",
      "I'm doing the thing.\n"
     ]
    },
    {
     "name": "stderr",
     "output_type": "stream",
     "text": [
      "\r",
      " 13%|█▎        | 91/710 [00:09<01:21,  7.62it/s]"
     ]
    },
    {
     "name": "stdout",
     "output_type": "stream",
     "text": [
      "bone-china-033\n",
      "Does this patient have T2 available? True\n",
      "I'm doing the thing.\n",
      "bone-penn-375\n",
      "Does this patient have T2 available? True\n",
      "I'm doing the thing.\n",
      "bone-penn-456\n",
      "Does this patient have T2 available? True\n",
      "I'm doing the thing.\n"
     ]
    },
    {
     "name": "stderr",
     "output_type": "stream",
     "text": [
      "\r",
      " 13%|█▎        | 93/710 [00:09<01:21,  7.57it/s]"
     ]
    },
    {
     "name": "stdout",
     "output_type": "stream",
     "text": [
      "bone-penn-474\n",
      "Does this patient have T2 available? True\n",
      "I'm doing the thing.\n",
      "bone-penn-323\n",
      "Does this patient have T2 available? True\n",
      "I'm doing the thing.\n"
     ]
    },
    {
     "name": "stderr",
     "output_type": "stream",
     "text": [
      " 14%|█▎        | 97/710 [00:09<01:10,  8.72it/s]"
     ]
    },
    {
     "name": "stdout",
     "output_type": "stream",
     "text": [
      "bone-hup-309\n",
      "Does this patient have T2 available? True\n",
      "I'm doing the thing.\n",
      "bone-china-031\n",
      "Does this patient have T2 available? True\n",
      "I'm doing the thing.\n",
      "bone-penn-568\n",
      "Does this patient have T2 available? True\n",
      "I'm doing the thing.\n"
     ]
    },
    {
     "name": "stderr",
     "output_type": "stream",
     "text": [
      "\r",
      " 14%|█▍        | 98/710 [00:09<01:09,  8.84it/s]"
     ]
    },
    {
     "name": "stdout",
     "output_type": "stream",
     "text": [
      "bone-china-071\n",
      "Does this patient have T2 available? True\n",
      "I'm doing the thing.\n",
      "bone-penn-557\n",
      "Does this patient have T2 available? True\n",
      "I'm doing the thing.\n"
     ]
    },
    {
     "name": "stderr",
     "output_type": "stream",
     "text": [
      "\r",
      " 14%|█▍        | 100/710 [00:10<01:07,  9.06it/s]"
     ]
    },
    {
     "name": "stdout",
     "output_type": "stream",
     "text": [
      "bone-penn-315\n",
      "Does this patient have T2 available? False\n",
      "T2 image unavailable\n",
      "bone-china-045\n",
      "Does this patient have T2 available? True\n",
      "I'm doing the thing.\n",
      "bone-hup-276\n",
      "Does this patient have T2 available? True\n",
      "I'm doing the thing.\n",
      "bone-penn-131\n",
      "Does this patient have T2 available? True\n",
      "I'm doing the thing.\n"
     ]
    },
    {
     "name": "stderr",
     "output_type": "stream",
     "text": [
      " 15%|█▍        | 106/710 [00:10<00:51, 11.78it/s]"
     ]
    },
    {
     "name": "stdout",
     "output_type": "stream",
     "text": [
      "bone-penn-158\n",
      "Does this patient have T2 available? False\n",
      "T2 image unavailable\n",
      "bone-hup-135\n",
      "Does this patient have T2 available? True\n",
      "I'm doing the thing.\n",
      "bone-penn-140\n",
      "Does this patient have T2 available? True\n",
      "I'm doing the thing.\n",
      "bone-china-080\n",
      "Does this patient have T2 available? True\n",
      "I'm doing the thing.\n"
     ]
    },
    {
     "name": "stderr",
     "output_type": "stream",
     "text": [
      "\r",
      " 15%|█▌        | 108/710 [00:10<00:45, 13.12it/s]"
     ]
    },
    {
     "name": "stdout",
     "output_type": "stream",
     "text": [
      "bone-hup-266\n",
      "Does this patient have T2 available? True\n",
      "I'm doing the thing.\n",
      "bone-hup-142\n",
      "Does this patient have T2 available? True\n",
      "I'm doing the thing.\n"
     ]
    },
    {
     "name": "stderr",
     "output_type": "stream",
     "text": [
      " 16%|█▌        | 112/710 [00:11<00:52, 11.33it/s]"
     ]
    },
    {
     "name": "stdout",
     "output_type": "stream",
     "text": [
      "bone-penn-148\n",
      "Does this patient have T2 available? True\n",
      "I'm doing the thing.\n",
      "bone-china-020\n",
      "Does this patient have T2 available? True\n",
      "I'm doing the thing.\n",
      "bone-china-029\n",
      "Does this patient have T2 available? True\n",
      "I'm doing the thing.\n",
      "bone-penn-391\n",
      "Does this patient have T2 available? True\n",
      "I'm doing the thing.\n"
     ]
    },
    {
     "name": "stderr",
     "output_type": "stream",
     "text": [
      "\r",
      " 16%|█▌        | 114/710 [00:11<00:47, 12.60it/s]"
     ]
    },
    {
     "name": "stdout",
     "output_type": "stream",
     "text": [
      "bone-penn-155\n",
      "Does this patient have T2 available? True\n",
      "I'm doing the thing.\n",
      "bone-hup-272\n",
      "Does this patient have T2 available? True\n",
      "I'm doing the thing.\n"
     ]
    },
    {
     "name": "stderr",
     "output_type": "stream",
     "text": [
      "\r",
      " 16%|█▋        | 116/710 [00:11<00:59,  9.92it/s]"
     ]
    },
    {
     "name": "stdout",
     "output_type": "stream",
     "text": [
      "bone-penn-490\n",
      "Does this patient have T2 available? True\n",
      "I'm doing the thing.\n",
      "bone-penn-459\n",
      "Does this patient have T2 available? True\n",
      "I'm doing the thing.\n"
     ]
    },
    {
     "name": "stderr",
     "output_type": "stream",
     "text": [
      "\r",
      " 17%|█▋        | 118/710 [00:11<01:06,  8.88it/s]"
     ]
    },
    {
     "name": "stdout",
     "output_type": "stream",
     "text": [
      "bone-penn-566\n",
      "Does this patient have T2 available? True\n",
      "I'm doing the thing.\n",
      "bone-china-089\n",
      "Does this patient have T2 available? True\n",
      "I'm doing the thing.\n",
      "bone-penn-591\n",
      "Does this patient have T2 available? True\n",
      "I'm doing the thing.\n"
     ]
    },
    {
     "name": "stderr",
     "output_type": "stream",
     "text": [
      " 17%|█▋        | 123/710 [00:12<00:55, 10.59it/s]"
     ]
    },
    {
     "name": "stdout",
     "output_type": "stream",
     "text": [
      "bone-hup-292\n",
      "Does this patient have T2 available? True\n",
      "I'm doing the thing.\n",
      "bone-china-081\n",
      "Does this patient have T2 available? True\n",
      "I'm doing the thing.\n",
      "bone-china-044\n",
      "Does this patient have T2 available? True\n",
      "I'm doing the thing.\n"
     ]
    },
    {
     "name": "stderr",
     "output_type": "stream",
     "text": [
      "\r",
      " 18%|█▊        | 126/710 [00:12<00:50, 11.63it/s]"
     ]
    },
    {
     "name": "stdout",
     "output_type": "stream",
     "text": [
      "bone-china-059\n",
      "Does this patient have T2 available? True\n",
      "I'm doing the thing.\n",
      "bone-hup-150\n",
      "Does this patient have T2 available? True\n",
      "I'm doing the thing.\n",
      "bone-china-042\n",
      "Does this patient have T2 available? True\n",
      "I'm doing the thing.\n",
      "bone-penn-134\n",
      "Does this patient have T2 available? True\n",
      "I'm doing the thing.\n"
     ]
    },
    {
     "name": "stderr",
     "output_type": "stream",
     "text": [
      "\r",
      " 18%|█▊        | 128/710 [00:12<00:55, 10.48it/s]"
     ]
    },
    {
     "name": "stdout",
     "output_type": "stream",
     "text": [
      "bone-hup-145\n",
      "Does this patient have T2 available? True\n",
      "I'm doing the thing.\n",
      "bone-penn-612\n",
      "Does this patient have T2 available? True\n",
      "I'm doing the thing.\n"
     ]
    },
    {
     "name": "stderr",
     "output_type": "stream",
     "text": [
      "\r",
      " 18%|█▊        | 130/710 [00:12<01:09,  8.38it/s]"
     ]
    },
    {
     "name": "stdout",
     "output_type": "stream",
     "text": [
      "bone-china-068\n",
      "Does this patient have T2 available? True\n",
      "I'm doing the thing.\n",
      "bone-china-058\n",
      "Does this patient have T2 available? True\n",
      "I'm doing the thing.\n"
     ]
    },
    {
     "name": "stderr",
     "output_type": "stream",
     "text": [
      " 19%|█▉        | 134/710 [00:13<01:12,  7.89it/s]"
     ]
    },
    {
     "name": "stdout",
     "output_type": "stream",
     "text": [
      "bone-china-084\n",
      "Does this patient have T2 available? True\n",
      "I'm doing the thing.\n",
      "bone-hup-124\n",
      "Does this patient have T2 available? True\n",
      "I'm doing the thing.\n",
      "bone-hup-271\n",
      "Does this patient have T2 available? True\n",
      "I'm doing the thing.\n"
     ]
    },
    {
     "name": "stderr",
     "output_type": "stream",
     "text": [
      "\r",
      " 19%|█▉        | 136/710 [00:13<01:15,  7.59it/s]"
     ]
    },
    {
     "name": "stdout",
     "output_type": "stream",
     "text": [
      "bone-penn-127\n",
      "Does this patient have T2 available? True\n",
      "I'm doing the thing.\n",
      "bone-penn-141\n",
      "Does this patient have T2 available? True\n",
      "I'm doing the thing.\n"
     ]
    },
    {
     "name": "stderr",
     "output_type": "stream",
     "text": [
      "\r",
      " 19%|█▉        | 138/710 [00:13<01:07,  8.51it/s]"
     ]
    },
    {
     "name": "stdout",
     "output_type": "stream",
     "text": [
      "bone-penn-144\n",
      "Does this patient have T2 available? True\n",
      "I'm doing the thing.\n",
      "bone-hup-324\n",
      "Does this patient have T2 available? True\n",
      "I'm doing the thing.\n"
     ]
    },
    {
     "name": "stderr",
     "output_type": "stream",
     "text": [
      "\r",
      " 20%|█▉        | 140/710 [00:14<01:12,  7.90it/s]"
     ]
    },
    {
     "name": "stdout",
     "output_type": "stream",
     "text": [
      "bone-china-062\n",
      "Does this patient have T2 available? True\n",
      "I'm doing the thing.\n",
      "bone-penn-287\n",
      "Does this patient have T2 available? False\n",
      "T2 image unavailable\n",
      "bone-hup-151\n",
      "Does this patient have T2 available? True\n",
      "I'm doing the thing.\n",
      "bone-hup-306\n",
      "Does this patient have T2 available? True\n",
      "I'm doing the thing.\n"
     ]
    },
    {
     "name": "stderr",
     "output_type": "stream",
     "text": [
      " 20%|██        | 145/710 [00:14<00:51, 10.97it/s]"
     ]
    },
    {
     "name": "stdout",
     "output_type": "stream",
     "text": [
      "bone-china-090\n",
      "Does this patient have T2 available? True\n",
      "I'm doing the thing.\n",
      "bone-penn-569\n",
      "Does this patient have T2 available? True\n",
      "I'm doing the thing.\n",
      "bone-penn-421\n",
      "Does this patient have T2 available? True\n",
      "I'm doing the thing.\n"
     ]
    },
    {
     "name": "stderr",
     "output_type": "stream",
     "text": [
      " 21%|██        | 149/710 [00:14<00:47, 11.82it/s]"
     ]
    },
    {
     "name": "stdout",
     "output_type": "stream",
     "text": [
      "bone-hup-257\n",
      "Does this patient have T2 available? True\n",
      "I'm doing the thing.\n",
      "bone-penn-551\n",
      "Does this patient have T2 available? True\n",
      "I'm doing the thing.\n",
      "bone-hup-308\n",
      "Does this patient have T2 available? True\n",
      "I'm doing the thing.\n",
      "bone-penn-471\n",
      "Does this patient have T2 available? True\n",
      "I'm doing the thing.\n"
     ]
    },
    {
     "name": "stderr",
     "output_type": "stream",
     "text": [
      "\r",
      " 21%|██▏       | 152/710 [00:15<00:41, 13.37it/s]"
     ]
    },
    {
     "name": "stdout",
     "output_type": "stream",
     "text": [
      "bone-hup-298\n",
      "Does this patient have T2 available? True\n",
      "I'm doing the thing.\n",
      "bone-hup-137\n",
      "Does this patient have T2 available? True\n",
      "I'm doing the thing.\n",
      "bone-hup-157\n",
      "Does this patient have T2 available? True\n",
      "I'm doing the thing.\n"
     ]
    },
    {
     "name": "stderr",
     "output_type": "stream",
     "text": [
      "\r",
      " 22%|██▏       | 154/710 [00:15<01:02,  8.95it/s]"
     ]
    },
    {
     "name": "stdout",
     "output_type": "stream",
     "text": [
      "bone-hup-163\n",
      "Does this patient have T2 available? True\n",
      "I'm doing the thing.\n",
      "bone-hup-134\n",
      "Does this patient have T2 available? True\n",
      "I'm doing the thing.\n"
     ]
    },
    {
     "name": "stderr",
     "output_type": "stream",
     "text": [
      " 22%|██▏       | 159/710 [00:15<00:47, 11.54it/s]"
     ]
    },
    {
     "name": "stdout",
     "output_type": "stream",
     "text": [
      "bone-penn-558\n",
      "Does this patient have T2 available? False\n",
      "T2 image unavailable\n",
      "bone-china-026\n",
      "Does this patient have T2 available? True\n",
      "I'm doing the thing.\n",
      "bone-china-030\n",
      "Does this patient have T2 available? True\n",
      "I'm doing the thing.\n",
      "bone-penn-304\n",
      "Does this patient have T2 available? True\n",
      "I'm doing the thing.\n",
      "bone-hup-131\n",
      "Does this patient have T2 available? True\n",
      "I'm doing the thing.\n",
      "bone-hup-326\n",
      "Does this patient have T2 available? True\n",
      "I'm doing the thing.\n"
     ]
    },
    {
     "name": "stderr",
     "output_type": "stream",
     "text": [
      " 23%|██▎       | 163/710 [00:16<00:56,  9.68it/s]"
     ]
    },
    {
     "name": "stdout",
     "output_type": "stream",
     "text": [
      "bone-hup-290\n",
      "Does this patient have T2 available? True\n",
      "I'm doing the thing.\n",
      "bone-penn-153\n",
      "Does this patient have T2 available? False\n",
      "T2 image unavailable\n",
      "bone-penn-289\n",
      "Does this patient have T2 available? True\n",
      "I'm doing the thing.\n"
     ]
    },
    {
     "name": "stderr",
     "output_type": "stream",
     "text": [
      "\r",
      " 23%|██▎       | 165/710 [00:16<00:59,  9.23it/s]"
     ]
    },
    {
     "name": "stdout",
     "output_type": "stream",
     "text": [
      "bone-hup-265\n",
      "Does this patient have T2 available? True\n",
      "I'm doing the thing.\n",
      "bone-hup-293\n",
      "Does this patient have T2 available? True\n",
      "I'm doing the thing.\n",
      "bone-penn-137\n",
      "Does this patient have T2 available? True\n",
      "I'm doing the thing.\n"
     ]
    },
    {
     "name": "stderr",
     "output_type": "stream",
     "text": [
      " 24%|██▍       | 170/710 [00:16<00:47, 11.32it/s]"
     ]
    },
    {
     "name": "stdout",
     "output_type": "stream",
     "text": [
      "bone-china-035\n",
      "Does this patient have T2 available? True\n",
      "I'm doing the thing.\n",
      "bone-penn-348\n",
      "Does this patient have T2 available? True\n",
      "I'm doing the thing.\n",
      "bone-hup-161\n",
      "Does this patient have T2 available? True\n",
      "I'm doing the thing.\n",
      "bone-hup-327\n",
      "Does this patient have T2 available? True\n",
      "I'm doing the thing.\n",
      "bone-penn-361\n",
      "Does this patient have T2 available? True\n",
      "I'm doing the thing.\n"
     ]
    },
    {
     "name": "stderr",
     "output_type": "stream",
     "text": [
      " 25%|██▍       | 175/710 [00:17<00:39, 13.46it/s]"
     ]
    },
    {
     "name": "stdout",
     "output_type": "stream",
     "text": [
      "bone-china-085\n",
      "Does this patient have T2 available? True\n",
      "I'm doing the thing.\n",
      "bone-china-021\n",
      "Does this patient have T2 available? True\n",
      "I'm doing the thing.\n",
      "bone-china-077\n",
      "Does this patient have T2 available? True\n",
      "I'm doing the thing.\n",
      "bone-penn-559\n",
      "Does this patient have T2 available? True\n",
      "I'm doing the thing.\n",
      "bone-china-048\n",
      "Does this patient have T2 available? True\n",
      "I'm doing the thing.\n"
     ]
    },
    {
     "name": "stderr",
     "output_type": "stream",
     "text": [
      " 25%|██▌       | 179/710 [00:17<00:35, 14.90it/s]"
     ]
    },
    {
     "name": "stdout",
     "output_type": "stream",
     "text": [
      "bone-penn-130\n",
      "Does this patient have T2 available? True\n",
      "I'm doing the thing.\n",
      "bone-china-047\n",
      "Does this patient have T2 available? True\n",
      "I'm doing the thing.\n",
      "bone-china-060\n",
      "Does this patient have T2 available? True\n",
      "I'm doing the thing.\n",
      "bone-china-027\n",
      "Does this patient have T2 available? True\n",
      "I'm doing the thing.\n"
     ]
    },
    {
     "name": "stderr",
     "output_type": "stream",
     "text": [
      " 26%|██▌       | 184/710 [00:17<00:28, 18.30it/s]"
     ]
    },
    {
     "name": "stdout",
     "output_type": "stream",
     "text": [
      "bone-china-087\n",
      "Does this patient have T2 available? True\n",
      "I'm doing the thing.\n",
      "bone-china-050\n",
      "Does this patient have T2 available? True\n",
      "I'm doing the thing.\n",
      "bone-china-072\n",
      "Does this patient have T2 available? True\n",
      "I'm doing the thing.\n",
      "bone-penn-149\n",
      "Does this patient have T2 available? True\n",
      "I'm doing the thing.\n",
      "bone-china-004\n",
      "Does this patient have T2 available? True\n",
      "I'm doing the thing.\n",
      "bone-hup-318\n",
      "Does this patient have T2 available? True\n",
      "I'm doing the thing.\n"
     ]
    },
    {
     "name": "stderr",
     "output_type": "stream",
     "text": [
      " 27%|██▋       | 189/710 [00:18<00:39, 13.11it/s]"
     ]
    },
    {
     "name": "stdout",
     "output_type": "stream",
     "text": [
      "bone-penn-495\n",
      "Does this patient have T2 available? True\n",
      "I'm doing the thing.\n",
      "bone-hup-146\n",
      "Does this patient have T2 available? True\n",
      "I'm doing the thing.\n",
      "bone-penn-303\n",
      "Does this patient have T2 available? True\n",
      "I'm doing the thing.\n",
      "bone-penn-246\n",
      "Does this patient have T2 available? True\n",
      "I'm doing the thing.\n"
     ]
    },
    {
     "name": "stderr",
     "output_type": "stream",
     "text": [
      "\r",
      " 27%|██▋       | 192/710 [00:18<00:33, 15.26it/s]"
     ]
    },
    {
     "name": "stdout",
     "output_type": "stream",
     "text": [
      "bone-hup-143\n",
      "Does this patient have T2 available? True\n",
      "I'm doing the thing.\n",
      "bone-penn-84\n",
      "Does this patient have T2 available? True\n",
      "I'm doing the thing.\n",
      "bone-hup-201\n",
      "Does this patient have T2 available? True\n",
      "I'm doing the thing.\n"
     ]
    },
    {
     "name": "stderr",
     "output_type": "stream",
     "text": [
      " 28%|██▊       | 196/710 [00:18<00:40, 12.60it/s]"
     ]
    },
    {
     "name": "stdout",
     "output_type": "stream",
     "text": [
      "bone-penn-325\n",
      "Does this patient have T2 available? True\n",
      "I'm doing the thing.\n",
      "bone-china-102\n",
      "Does this patient have T2 available? True\n",
      "I'm doing the thing.\n",
      "bone-china-206\n",
      "Does this patient have T2 available? True\n",
      "I'm doing the thing.\n",
      "bone-penn-92\n",
      "Does this patient have T2 available? True\n",
      "I'm doing the thing.\n"
     ]
    },
    {
     "name": "stderr",
     "output_type": "stream",
     "text": [
      "\r",
      " 28%|██▊       | 198/710 [00:18<00:36, 13.84it/s]"
     ]
    },
    {
     "name": "stdout",
     "output_type": "stream",
     "text": [
      "bone-penn-262\n",
      "Does this patient have T2 available? True\n",
      "I'm doing the thing.\n",
      "\n",
      "################################################################################\n",
      "Exception occurred for: outcome_pos          1\n",
      "outcome_neg          1\n",
      "outcome_3            2\n",
      "sort                 -\n",
      "volume         0.14036\n",
      "Name: bone-penn-262, dtype: object\n",
      "index 352 is out of bounds for axis 0 with size 2\n",
      "T2 image unavailable\n",
      "Traceback (most recent call last):\n",
      "  File \"/home/user1/Documents/Bone-MRI/data_gen.py\", line 392, in generate_from_features\n",
      "    t2_masked = load_image(t2_image_file, t2_seg_file, verbose=verbose)\n",
      "  File \"/home/user1/Documents/Bone-MRI/data_gen.py\", line 331, in load_image\n",
      "    return [mask_image_percentile(image, segmentation, 100, a) for a in (0, 1, 2)]\n",
      "  File \"/home/user1/Documents/Bone-MRI/data_gen.py\", line 331, in <listcomp>\n",
      "    return [mask_image_percentile(image, segmentation, 100, a) for a in (0, 1, 2)]\n",
      "  File \"/home/user1/Documents/Bone-MRI/data_gen.py\", line 335, in mask_image_percentile\n",
      "    image, segmentation = select_slice(image, segmentation, plane, axis)\n",
      "  File \"/home/user1/Documents/Bone-MRI/segmentation.py\", line 40, in select_slice\n",
      "    image = axis_plane[axis](image, plane)\n",
      "  File \"/home/user1/Documents/Bone-MRI/segmentation.py\", line 13, in <lambda>\n",
      "    0: lambda image, plane : image[plane, :, :],\n",
      "IndexError: index 352 is out of bounds for axis 0 with size 2\n",
      "\n",
      "bone-penn-504\n",
      "Does this patient have T2 available? True\n",
      "I'm doing the thing.\n"
     ]
    },
    {
     "name": "stderr",
     "output_type": "stream",
     "text": [
      "\r",
      " 28%|██▊       | 200/710 [00:18<00:42, 11.88it/s]"
     ]
    },
    {
     "name": "stdout",
     "output_type": "stream",
     "text": [
      "bone-penn-330\n",
      "Does this patient have T2 available? True\n",
      "I'm doing the thing.\n",
      "bone-penn-371\n",
      "Does this patient have T2 available? True\n",
      "I'm doing the thing.\n"
     ]
    },
    {
     "name": "stderr",
     "output_type": "stream",
     "text": [
      " 29%|██▊       | 204/710 [00:19<00:49, 10.19it/s]"
     ]
    },
    {
     "name": "stdout",
     "output_type": "stream",
     "text": [
      "bone-hup-77\n",
      "Does this patient have T2 available? True\n",
      "I'm doing the thing.\n",
      "bone-penn-260\n",
      "Does this patient have T2 available? True\n",
      "I'm doing the thing.\n",
      "bone-penn-469\n",
      "Does this patient have T2 available? True\n",
      "I'm doing the thing.\n"
     ]
    },
    {
     "name": "stderr",
     "output_type": "stream",
     "text": [
      " 29%|██▉       | 208/710 [00:19<00:40, 12.48it/s]"
     ]
    },
    {
     "name": "stdout",
     "output_type": "stream",
     "text": [
      "bone-china-190\n",
      "Does this patient have T2 available? True\n",
      "I'm doing the thing.\n",
      "bone-hup-71\n",
      "Does this patient have T2 available? False\n",
      "T2 image unavailable\n",
      "bone-penn-299\n",
      "Does this patient have T2 available? True\n",
      "I'm doing the thing.\n",
      "bone-penn-528\n",
      "Does this patient have T2 available? True\n",
      "I'm doing the thing.\n"
     ]
    },
    {
     "name": "stderr",
     "output_type": "stream",
     "text": [
      "\r",
      " 30%|██▉       | 210/710 [00:19<00:37, 13.23it/s]"
     ]
    },
    {
     "name": "stdout",
     "output_type": "stream",
     "text": [
      "bone-penn-631\n",
      "Does this patient have T2 available? True\n",
      "I'm doing the thing.\n",
      "bone-hup-219\n",
      "Does this patient have T2 available? True\n",
      "I'm doing the thing.\n",
      "bone-penn-466\n",
      "Does this patient have T2 available? True\n",
      "I'm doing the thing.\n"
     ]
    },
    {
     "name": "stderr",
     "output_type": "stream",
     "text": [
      "\r",
      " 30%|██▉       | 212/710 [00:20<00:52,  9.54it/s]"
     ]
    },
    {
     "name": "stdout",
     "output_type": "stream",
     "text": [
      "bone-hup-284\n",
      "Does this patient have T2 available? True\n",
      "I'm doing the thing.\n",
      "bone-penn-107\n",
      "Does this patient have T2 available? True\n",
      "I'm doing the thing.\n"
     ]
    },
    {
     "name": "stderr",
     "output_type": "stream",
     "text": [
      " 30%|███       | 216/710 [00:20<00:45, 10.87it/s]"
     ]
    },
    {
     "name": "stdout",
     "output_type": "stream",
     "text": [
      "bone-hup-105\n",
      "Does this patient have T2 available? True\n",
      "I'm doing the thing.\n",
      "bone-china-169\n",
      "Does this patient have T2 available? True\n",
      "I'm doing the thing.\n",
      "bone-hup-2\n",
      "Does this patient have T2 available? True\n",
      "I'm doing the thing.\n"
     ]
    },
    {
     "name": "stderr",
     "output_type": "stream",
     "text": [
      "\r",
      " 31%|███       | 218/710 [00:20<01:05,  7.47it/s]"
     ]
    },
    {
     "name": "stdout",
     "output_type": "stream",
     "text": [
      "bone-hup-283\n",
      "Does this patient have T2 available? True\n",
      "I'm doing the thing.\n",
      "bone-china-243\n",
      "Does this patient have T2 available? True\n",
      "I'm doing the thing.\n",
      "bone-hup-84\n",
      "Does this patient have T2 available? True\n",
      "I'm doing the thing.\n"
     ]
    },
    {
     "name": "stderr",
     "output_type": "stream",
     "text": [
      " 31%|███       | 221/710 [00:21<01:14,  6.57it/s]"
     ]
    },
    {
     "name": "stdout",
     "output_type": "stream",
     "text": [
      "bone-penn-123\n",
      "Does this patient have T2 available? True\n",
      "I'm doing the thing.\n",
      "bone-hup-108\n",
      "Does this patient have T2 available? True\n",
      "I'm doing the thing.\n",
      "bone-china-136\n",
      "Does this patient have T2 available? True\n",
      "I'm doing the thing.\n"
     ]
    },
    {
     "name": "stderr",
     "output_type": "stream",
     "text": [
      "\r",
      " 32%|███▏      | 224/710 [00:21<00:57,  8.39it/s]"
     ]
    },
    {
     "name": "stdout",
     "output_type": "stream",
     "text": [
      "bone-penn-185\n",
      "Does this patient have T2 available? True\n",
      "I'm doing the thing.\n",
      "bone-penn-483\n",
      "Does this patient have T2 available? True\n",
      "I'm doing the thing.\n",
      "bone-penn-620\n",
      "Does this patient have T2 available? True\n",
      "I'm doing the thing.\n"
     ]
    },
    {
     "name": "stderr",
     "output_type": "stream",
     "text": [
      "\r",
      " 32%|███▏      | 226/710 [00:21<00:50,  9.51it/s]"
     ]
    },
    {
     "name": "stdout",
     "output_type": "stream",
     "text": [
      "bone-penn-467\n",
      "Does this patient have T2 available? True\n",
      "I'm doing the thing.\n",
      "bone-penn-462\n",
      "Does this patient have T2 available? True\n",
      "I'm doing the thing.\n"
     ]
    },
    {
     "name": "stderr",
     "output_type": "stream",
     "text": [
      " 33%|███▎      | 232/710 [00:22<00:44, 10.84it/s]"
     ]
    },
    {
     "name": "stdout",
     "output_type": "stream",
     "text": [
      "bone-penn-259\n",
      "Does this patient have T2 available? True\n",
      "I'm doing the thing.\n",
      "bone-penn-523\n",
      "Does this patient have T2 available? False\n",
      "T2 image unavailable\n",
      "bone-hup-243\n",
      "Does this patient have T2 available? True\n",
      "I'm doing the thing.\n",
      "bone-hup-110\n",
      "Does this patient have T2 available? True\n",
      "I'm doing the thing.\n",
      "bone-hup-208\n",
      "Does this patient have T2 available? False\n",
      "T2 image unavailable\n",
      "bone-penn-276\n",
      "Does this patient have T2 available? True\n",
      "I'm doing the thing.\n"
     ]
    },
    {
     "name": "stderr",
     "output_type": "stream",
     "text": [
      " 33%|███▎      | 237/710 [00:22<00:44, 10.65it/s]"
     ]
    },
    {
     "name": "stdout",
     "output_type": "stream",
     "text": [
      "bone-hup-203\n",
      "Does this patient have T2 available? True\n",
      "I'm doing the thing.\n",
      "bone-china-100\n",
      "Does this patient have T2 available? True\n",
      "I'm doing the thing.\n",
      "bone-penn-197\n",
      "Does this patient have T2 available? True\n",
      "I'm doing the thing.\n",
      "bone-china-143\n",
      "Does this patient have T2 available? True\n",
      "I'm doing the thing.\n"
     ]
    },
    {
     "name": "stderr",
     "output_type": "stream",
     "text": [
      "\r",
      " 34%|███▍      | 240/710 [00:22<00:40, 11.63it/s]"
     ]
    },
    {
     "name": "stdout",
     "output_type": "stream",
     "text": [
      "bone-penn-176\n",
      "Does this patient have T2 available? True\n",
      "I'm doing the thing.\n",
      "bone-penn-540\n",
      "Does this patient have T2 available? True\n",
      "I'm doing the thing.\n",
      "bone-penn-519\n",
      "Does this patient have T2 available? True\n",
      "I'm doing the thing.\n"
     ]
    },
    {
     "name": "stderr",
     "output_type": "stream",
     "text": [
      "\r",
      " 34%|███▍      | 242/710 [00:23<00:37, 12.63it/s]"
     ]
    },
    {
     "name": "stdout",
     "output_type": "stream",
     "text": [
      "bone-hup-179\n",
      "Does this patient have T2 available? True\n",
      "I'm doing the thing.\n",
      "bone-china-127\n",
      "Does this patient have T2 available? True\n",
      "I'm doing the thing.\n",
      "bone-penn-243\n",
      "Does this patient have T2 available? True\n",
      "I'm doing the thing.\n"
     ]
    },
    {
     "name": "stderr",
     "output_type": "stream",
     "text": [
      "\r",
      " 34%|███▍      | 244/710 [00:23<00:36, 12.68it/s]"
     ]
    },
    {
     "name": "stdout",
     "output_type": "stream",
     "text": [
      "bone-penn-570\n",
      "Does this patient have T2 available? False\n",
      "T2 image unavailable\n",
      "bone-penn-116\n",
      "Does this patient have T2 available? True\n",
      "I'm doing the thing.\n",
      "bone-penn-526\n",
      "Does this patient have T2 available? True\n",
      "I'm doing the thing.\n"
     ]
    },
    {
     "name": "stderr",
     "output_type": "stream",
     "text": [
      " 35%|███▌      | 250/710 [00:23<00:36, 12.76it/s]"
     ]
    },
    {
     "name": "stdout",
     "output_type": "stream",
     "text": [
      "\n",
      "################################################################################\n",
      "Exception occurred for: outcome_pos           0\n",
      "outcome_neg           1\n",
      "outcome_3             1\n",
      "sort                  -\n",
      "volume         0.140097\n",
      "Name: bone-penn-526, dtype: object\n",
      "index 213 is out of bounds for axis 0 with size 2\n",
      "T2 image unavailable\n",
      "Traceback (most recent call last):\n",
      "  File \"/home/user1/Documents/Bone-MRI/data_gen.py\", line 392, in generate_from_features\n",
      "    t2_masked = load_image(t2_image_file, t2_seg_file, verbose=verbose)\n",
      "  File \"/home/user1/Documents/Bone-MRI/data_gen.py\", line 331, in load_image\n",
      "    return [mask_image_percentile(image, segmentation, 100, a) for a in (0, 1, 2)]\n",
      "  File \"/home/user1/Documents/Bone-MRI/data_gen.py\", line 331, in <listcomp>\n",
      "    return [mask_image_percentile(image, segmentation, 100, a) for a in (0, 1, 2)]\n",
      "  File \"/home/user1/Documents/Bone-MRI/data_gen.py\", line 335, in mask_image_percentile\n",
      "    image, segmentation = select_slice(image, segmentation, plane, axis)\n",
      "  File \"/home/user1/Documents/Bone-MRI/segmentation.py\", line 40, in select_slice\n",
      "    image = axis_plane[axis](image, plane)\n",
      "  File \"/home/user1/Documents/Bone-MRI/segmentation.py\", line 13, in <lambda>\n",
      "    0: lambda image, plane : image[plane, :, :],\n",
      "IndexError: index 213 is out of bounds for axis 0 with size 2\n",
      "\n",
      "bone-penn-354\n",
      "Does this patient have T2 available? False\n",
      "T2 image unavailable\n",
      "bone-china-148\n",
      "Does this patient have T2 available? True\n",
      "I'm doing the thing.\n",
      "bone-penn-95\n",
      "Does this patient have T2 available? True\n",
      "I'm doing the thing.\n",
      "bone-penn-423\n",
      "Does this patient have T2 available? True\n",
      "I'm doing the thing.\n",
      "bone-penn-327\n",
      "Does this patient have T2 available? True\n",
      "I'm doing the thing.\n"
     ]
    },
    {
     "name": "stderr",
     "output_type": "stream",
     "text": [
      " 36%|███▌      | 254/710 [00:24<00:52,  8.76it/s]"
     ]
    },
    {
     "name": "stdout",
     "output_type": "stream",
     "text": [
      "bone-china-228\n",
      "Does this patient have T2 available? True\n",
      "I'm doing the thing.\n",
      "bone-penn-219\n",
      "Does this patient have T2 available? True\n",
      "I'm doing the thing.\n",
      "bone-penn-258\n",
      "Does this patient have T2 available? True\n",
      "I'm doing the thing.\n",
      "bone-hup-180\n",
      "Does this patient have T2 available? True\n",
      "I'm doing the thing.\n"
     ]
    },
    {
     "name": "stderr",
     "output_type": "stream",
     "text": [
      " 36%|███▋      | 258/710 [00:24<00:44, 10.16it/s]"
     ]
    },
    {
     "name": "stdout",
     "output_type": "stream",
     "text": [
      "bone-penn-484\n",
      "Does this patient have T2 available? True\n",
      "I'm doing the thing.\n",
      "bone-china-175\n",
      "Does this patient have T2 available? True\n",
      "I'm doing the thing.\n",
      "bone-penn-486\n",
      "Does this patient have T2 available? True\n",
      "I'm doing the thing.\n"
     ]
    },
    {
     "name": "stderr",
     "output_type": "stream",
     "text": [
      "\r",
      " 37%|███▋      | 261/710 [00:24<00:37, 11.94it/s]"
     ]
    },
    {
     "name": "stdout",
     "output_type": "stream",
     "text": [
      "bone-penn-377\n",
      "Does this patient have T2 available? False\n",
      "T2 image unavailable\n",
      "bone-penn-475\n",
      "Does this patient have T2 available? True\n",
      "I'm doing the thing.\n",
      "bone-penn-318\n",
      "Does this patient have T2 available? True\n",
      "I'm doing the thing.\n",
      "bone-penn-305\n",
      "Does this patient have T2 available? True\n",
      "I'm doing the thing.\n"
     ]
    },
    {
     "name": "stderr",
     "output_type": "stream",
     "text": [
      "\r",
      " 37%|███▋      | 263/710 [00:25<00:37, 11.84it/s]"
     ]
    },
    {
     "name": "stdout",
     "output_type": "stream",
     "text": [
      "bone-penn-387\n",
      "Does this patient have T2 available? True\n",
      "I'm doing the thing.\n"
     ]
    },
    {
     "name": "stderr",
     "output_type": "stream",
     "text": [
      " 38%|███▊      | 268/710 [00:25<00:37, 11.74it/s]"
     ]
    },
    {
     "name": "stdout",
     "output_type": "stream",
     "text": [
      "bone-penn-368\n",
      "Does this patient have T2 available? True\n",
      "I'm doing the thing.\n",
      "bone-penn-226\n",
      "Does this patient have T2 available? True\n",
      "I'm doing the thing.\n",
      "bone-penn-128\n",
      "Does this patient have T2 available? False\n",
      "T2 image unavailable\n",
      "bone-penn-610\n",
      "Does this patient have T2 available? True\n",
      "I'm doing the thing.\n",
      "bone-hup-165\n",
      "Does this patient have T2 available? True\n",
      "I'm doing the thing.\n"
     ]
    },
    {
     "name": "stderr",
     "output_type": "stream",
     "text": [
      "\r",
      " 38%|███▊      | 271/710 [00:25<00:33, 13.16it/s]"
     ]
    },
    {
     "name": "stdout",
     "output_type": "stream",
     "text": [
      "bone-penn-619\n",
      "Does this patient have T2 available? True\n",
      "I'm doing the thing.\n",
      "bone-penn-460\n",
      "Does this patient have T2 available? True\n",
      "I'm doing the thing.\n",
      "bone-penn-161\n",
      "Does this patient have T2 available? True\n",
      "I'm doing the thing.\n"
     ]
    },
    {
     "name": "stderr",
     "output_type": "stream",
     "text": [
      "\r",
      " 38%|███▊      | 273/710 [00:25<00:36, 12.10it/s]"
     ]
    },
    {
     "name": "stdout",
     "output_type": "stream",
     "text": [
      "bone-hup-164\n",
      "Does this patient have T2 available? True\n",
      "I'm doing the thing.\n",
      "bone-penn-641\n",
      "Does this patient have T2 available? True\n",
      "I'm doing the thing.\n",
      "bone-hup-3\n",
      "Does this patient have T2 available? True\n",
      "I'm doing the thing.\n"
     ]
    },
    {
     "name": "stderr",
     "output_type": "stream",
     "text": [
      " 39%|███▉      | 277/710 [00:26<00:34, 12.50it/s]"
     ]
    },
    {
     "name": "stdout",
     "output_type": "stream",
     "text": [
      "bone-penn-269\n",
      "Does this patient have T2 available? True\n",
      "I'm doing the thing.\n",
      "bone-hup-210\n",
      "Does this patient have T2 available? True\n",
      "I'm doing the thing.\n",
      "bone-penn-530\n",
      "Does this patient have T2 available? True\n",
      "I'm doing the thing.\n"
     ]
    },
    {
     "name": "stderr",
     "output_type": "stream",
     "text": [
      " 40%|███▉      | 281/710 [00:26<00:30, 13.98it/s]"
     ]
    },
    {
     "name": "stdout",
     "output_type": "stream",
     "text": [
      "bone-penn-190\n",
      "Does this patient have T2 available? True\n",
      "I'm doing the thing.\n",
      "bone-penn-435\n",
      "Does this patient have T2 available? True\n",
      "I'm doing the thing.\n",
      "bone-china-193\n",
      "Does this patient have T2 available? True\n",
      "I'm doing the thing.\n",
      "bone-penn-383\n",
      "Does this patient have T2 available? True\n",
      "I'm doing the thing.\n",
      "bone-hup-174\n",
      "Does this patient have T2 available? True\n",
      "I'm doing the thing.\n"
     ]
    },
    {
     "name": "stderr",
     "output_type": "stream",
     "text": [
      "\r",
      " 40%|███▉      | 283/710 [00:26<00:49,  8.59it/s]"
     ]
    },
    {
     "name": "stdout",
     "output_type": "stream",
     "text": [
      "bone-penn-85\n",
      "Does this patient have T2 available? True\n",
      "I'm doing the thing.\n",
      "bone-penn-215\n",
      "Does this patient have T2 available? True\n",
      "I'm doing the thing.\n"
     ]
    },
    {
     "name": "stderr",
     "output_type": "stream",
     "text": [
      " 40%|████      | 287/710 [00:27<00:47,  8.92it/s]"
     ]
    },
    {
     "name": "stdout",
     "output_type": "stream",
     "text": [
      "bone-penn-101\n",
      "Does this patient have T2 available? True\n",
      "I'm doing the thing.\n",
      "bone-penn-584\n",
      "Does this patient have T2 available? True\n",
      "I'm doing the thing.\n",
      "\n",
      "################################################################################\n",
      "Exception occurred for: outcome_pos           0\n",
      "outcome_neg           1\n",
      "outcome_3             1\n",
      "sort                  -\n",
      "volume         0.145203\n",
      "Name: bone-penn-584, dtype: object\n",
      "operands could not be broadcast together with shapes (255,20) (318,20) \n",
      "T2 image unavailable\n",
      "Traceback (most recent call last):\n",
      "  File \"/home/user1/Documents/Bone-MRI/data_gen.py\", line 392, in generate_from_features\n",
      "    t2_masked = load_image(t2_image_file, t2_seg_file, verbose=verbose)\n",
      "  File \"/home/user1/Documents/Bone-MRI/data_gen.py\", line 331, in load_image\n",
      "    return [mask_image_percentile(image, segmentation, 100, a) for a in (0, 1, 2)]\n",
      "  File \"/home/user1/Documents/Bone-MRI/data_gen.py\", line 331, in <listcomp>\n",
      "    return [mask_image_percentile(image, segmentation, 100, a) for a in (0, 1, 2)]\n",
      "  File \"/home/user1/Documents/Bone-MRI/data_gen.py\", line 340, in mask_image_percentile\n",
      "    masked = image * segmentation\n",
      "ValueError: operands could not be broadcast together with shapes (255,20) (318,20) \n",
      "\n",
      "bone-penn-546\n",
      "Does this patient have T2 available? True\n",
      "I'm doing the thing.\n"
     ]
    },
    {
     "name": "stderr",
     "output_type": "stream",
     "text": [
      "\r",
      " 41%|████      | 289/710 [00:27<00:43,  9.76it/s]"
     ]
    },
    {
     "name": "stdout",
     "output_type": "stream",
     "text": [
      "bone-penn-213\n",
      "Does this patient have T2 available? False\n",
      "T2 image unavailable\n",
      "bone-penn-232\n",
      "Does this patient have T2 available? True\n",
      "I'm doing the thing.\n",
      "bone-penn-637\n",
      "Does this patient have T2 available? True\n",
      "I'm doing the thing.\n"
     ]
    },
    {
     "name": "stderr",
     "output_type": "stream",
     "text": [
      " 41%|████▏     | 293/710 [00:27<00:42,  9.75it/s]"
     ]
    },
    {
     "name": "stdout",
     "output_type": "stream",
     "text": [
      "bone-china-166\n",
      "Does this patient have T2 available? True\n",
      "I'm doing the thing.\n",
      "bone-hup-133\n",
      "Does this patient have T2 available? True\n",
      "I'm doing the thing.\n",
      "bone-hup-149\n",
      "Does this patient have T2 available? True\n",
      "I'm doing the thing.\n",
      "bone-penn-407\n",
      "Does this patient have T2 available? True\n",
      "I'm doing the thing.\n"
     ]
    },
    {
     "name": "stderr",
     "output_type": "stream",
     "text": [
      "\r",
      " 42%|████▏     | 295/710 [00:28<00:40, 10.35it/s]"
     ]
    },
    {
     "name": "stdout",
     "output_type": "stream",
     "text": [
      "bone-china-225\n",
      "Does this patient have T2 available? True\n",
      "I'm doing the thing.\n",
      "bone-penn-307\n",
      "Does this patient have T2 available? True\n",
      "I'm doing the thing.\n"
     ]
    },
    {
     "name": "stderr",
     "output_type": "stream",
     "text": [
      " 42%|████▏     | 299/710 [00:28<00:39, 10.34it/s]"
     ]
    },
    {
     "name": "stdout",
     "output_type": "stream",
     "text": [
      "bone-hup-231\n",
      "Does this patient have T2 available? True\n",
      "I'm doing the thing.\n",
      "bone-china-156\n",
      "Does this patient have T2 available? True\n",
      "I'm doing the thing.\n",
      "bone-hup-252\n",
      "Does this patient have T2 available? True\n",
      "I'm doing the thing.\n"
     ]
    },
    {
     "name": "stderr",
     "output_type": "stream",
     "text": [
      "\r",
      " 42%|████▏     | 301/710 [00:28<00:45,  8.94it/s]"
     ]
    },
    {
     "name": "stdout",
     "output_type": "stream",
     "text": [
      "bone-penn-524\n",
      "Does this patient have T2 available? True\n",
      "I'm doing the thing.\n",
      "bone-penn-392\n",
      "Does this patient have T2 available? True\n",
      "I'm doing the thing.\n"
     ]
    },
    {
     "name": "stderr",
     "output_type": "stream",
     "text": [
      " 43%|████▎     | 304/710 [00:29<00:45,  8.85it/s]"
     ]
    },
    {
     "name": "stdout",
     "output_type": "stream",
     "text": [
      "bone-china-140\n",
      "Does this patient have T2 available? True\n",
      "I'm doing the thing.\n",
      "bone-hup-122\n",
      "Does this patient have T2 available? True\n",
      "I'm doing the thing.\n",
      "bone-hup-230\n",
      "Does this patient have T2 available? False\n",
      "T2 image unavailable\n",
      "bone-china-101\n",
      "Does this patient have T2 available? True\n",
      "I'm doing the thing.\n",
      "bone-china-232\n",
      "Does this patient have T2 available? True\n",
      "I'm doing the thing.\n"
     ]
    },
    {
     "name": "stderr",
     "output_type": "stream",
     "text": [
      "\r",
      " 43%|████▎     | 307/710 [00:29<00:36, 11.12it/s]"
     ]
    },
    {
     "name": "stdout",
     "output_type": "stream",
     "text": [
      "bone-hup-156\n",
      "Does this patient have T2 available? True\n",
      "I'm doing the thing.\n"
     ]
    },
    {
     "name": "stderr",
     "output_type": "stream",
     "text": [
      " 44%|████▍     | 311/710 [00:29<00:36, 11.04it/s]"
     ]
    },
    {
     "name": "stdout",
     "output_type": "stream",
     "text": [
      "bone-china-213\n",
      "Does this patient have T2 available? True\n",
      "I'm doing the thing.\n",
      "bone-penn-298\n",
      "Does this patient have T2 available? True\n",
      "I'm doing the thing.\n",
      "bone-china-198\n",
      "Does this patient have T2 available? True\n",
      "I'm doing the thing.\n",
      "bone-china-170\n",
      "Does this patient have T2 available? True\n",
      "I'm doing the thing.\n"
     ]
    },
    {
     "name": "stderr",
     "output_type": "stream",
     "text": [
      "\r",
      " 44%|████▍     | 313/710 [00:29<00:35, 11.06it/s]"
     ]
    },
    {
     "name": "stdout",
     "output_type": "stream",
     "text": [
      "bone-penn-622\n",
      "Does this patient have T2 available? True\n",
      "I'm doing the thing.\n",
      "bone-penn-160\n",
      "Does this patient have T2 available? True\n",
      "I'm doing the thing.\n",
      "bone-penn-547\n",
      "Does this patient have T2 available? True\n",
      "I'm doing the thing.\n"
     ]
    },
    {
     "name": "stderr",
     "output_type": "stream",
     "text": [
      "\r",
      " 44%|████▍     | 315/710 [00:29<00:31, 12.42it/s]"
     ]
    },
    {
     "name": "stdout",
     "output_type": "stream",
     "text": [
      "bone-penn-218\n",
      "Does this patient have T2 available? True\n",
      "I'm doing the thing.\n"
     ]
    },
    {
     "name": "stderr",
     "output_type": "stream",
     "text": [
      " 45%|████▍     | 319/710 [00:30<00:31, 12.36it/s]"
     ]
    },
    {
     "name": "stdout",
     "output_type": "stream",
     "text": [
      "bone-penn-100\n",
      "Does this patient have T2 available? False\n",
      "T2 image unavailable\n",
      "bone-hup-121\n",
      "Does this patient have T2 available? False\n",
      "T2 image unavailable\n",
      "bone-hup-202\n",
      "Does this patient have T2 available? True\n",
      "I'm doing the thing.\n",
      "bone-penn-119\n",
      "Does this patient have T2 available? True\n",
      "I'm doing the thing.\n",
      "bone-china-096\n",
      "Does this patient have T2 available? True\n",
      "I'm doing the thing.\n"
     ]
    },
    {
     "name": "stderr",
     "output_type": "stream",
     "text": [
      " 45%|████▌     | 323/710 [00:30<00:26, 14.42it/s]"
     ]
    },
    {
     "name": "stdout",
     "output_type": "stream",
     "text": [
      "bone-penn-248\n",
      "Does this patient have T2 available? False\n",
      "T2 image unavailable\n",
      "bone-penn-653\n",
      "Does this patient have T2 available? True\n",
      "I'm doing the thing.\n",
      "bone-penn-384\n",
      "Does this patient have T2 available? True\n",
      "I'm doing the thing.\n",
      "bone-penn-244\n",
      "Does this patient have T2 available? True\n",
      "I'm doing the thing.\n"
     ]
    },
    {
     "name": "stderr",
     "output_type": "stream",
     "text": [
      "\r",
      " 46%|████▌     | 325/710 [00:30<00:24, 15.43it/s]"
     ]
    },
    {
     "name": "stdout",
     "output_type": "stream",
     "text": [
      "bone-penn-202\n",
      "Does this patient have T2 available? True\n",
      "I'm doing the thing.\n"
     ]
    },
    {
     "name": "stderr",
     "output_type": "stream",
     "text": [
      "\r",
      " 46%|████▌     | 327/710 [00:31<00:53,  7.10it/s]"
     ]
    },
    {
     "name": "stdout",
     "output_type": "stream",
     "text": [
      "bone-penn-650\n",
      "Does this patient have T2 available? True\n",
      "I'm doing the thing.\n",
      "bone-china-124\n",
      "Does this patient have T2 available? True\n",
      "I'm doing the thing.\n",
      "bone-penn-294\n",
      "Does this patient have T2 available? False\n",
      "T2 image unavailable\n",
      "bone-penn-376\n",
      "Does this patient have T2 available? False\n",
      "T2 image unavailable\n",
      "bone-penn-221\n",
      "Does this patient have T2 available? False\n",
      "T2 image unavailable\n",
      "bone-penn-393\n",
      "Does this patient have T2 available? True\n",
      "I'm doing the thing.\n"
     ]
    },
    {
     "name": "stderr",
     "output_type": "stream",
     "text": [
      " 48%|████▊     | 338/710 [00:31<00:29, 12.46it/s]"
     ]
    },
    {
     "name": "stdout",
     "output_type": "stream",
     "text": [
      "bone-penn-333\n",
      "Does this patient have T2 available? True\n",
      "I'm doing the thing.\n",
      "bone-penn-212\n",
      "Does this patient have T2 available? False\n",
      "T2 image unavailable\n",
      "bone-hup-225\n",
      "Does this patient have T2 available? True\n",
      "I'm doing the thing.\n",
      "bone-penn-477\n",
      "Does this patient have T2 available? False\n",
      "T2 image unavailable\n",
      "bone-penn-324\n",
      "Does this patient have T2 available? False\n",
      "T2 image unavailable\n",
      "bone-china-129\n",
      "Does this patient have T2 available? True\n",
      "I'm doing the thing.\n",
      "bone-hup-102\n",
      "Does this patient have T2 available? True\n",
      "I'm doing the thing.\n",
      "bone-penn-332\n",
      "Does this patient have T2 available? True\n",
      "I'm doing the thing.\n"
     ]
    },
    {
     "name": "stderr",
     "output_type": "stream",
     "text": [
      "\r",
      " 48%|████▊     | 341/710 [00:31<00:34, 10.69it/s]"
     ]
    },
    {
     "name": "stdout",
     "output_type": "stream",
     "text": [
      "bone-penn-283\n",
      "Does this patient have T2 available? True\n",
      "I'm doing the thing.\n",
      "bone-hup-277\n",
      "Does this patient have T2 available? True\n",
      "I'm doing the thing.\n"
     ]
    },
    {
     "name": "stderr",
     "output_type": "stream",
     "text": [
      "\r",
      " 48%|████▊     | 344/710 [00:31<00:30, 11.95it/s]"
     ]
    },
    {
     "name": "stdout",
     "output_type": "stream",
     "text": [
      "bone-penn-301\n",
      "Does this patient have T2 available? False\n",
      "T2 image unavailable\n",
      "bone-penn-183\n",
      "Does this patient have T2 available? True\n",
      "I'm doing the thing.\n",
      "bone-hup-112\n",
      "Does this patient have T2 available? True\n",
      "I'm doing the thing.\n",
      "bone-hup-79\n",
      "Does this patient have T2 available? True\n",
      "I'm doing the thing.\n"
     ]
    },
    {
     "name": "stderr",
     "output_type": "stream",
     "text": [
      "\r",
      " 49%|████▉     | 347/710 [00:32<00:27, 13.03it/s]"
     ]
    },
    {
     "name": "stdout",
     "output_type": "stream",
     "text": [
      "bone-hup-194\n",
      "Does this patient have T2 available? False\n",
      "T2 image unavailable\n",
      "bone-penn-492\n",
      "Does this patient have T2 available? True\n",
      "I'm doing the thing.\n",
      "bone-penn-314\n",
      "Does this patient have T2 available? True\n",
      "I'm doing the thing.\n"
     ]
    },
    {
     "name": "stderr",
     "output_type": "stream",
     "text": [
      "\r",
      " 49%|████▉     | 349/710 [00:32<00:33, 10.86it/s]"
     ]
    },
    {
     "name": "stdout",
     "output_type": "stream",
     "text": [
      "bone-penn-279\n",
      "Does this patient have T2 available? True\n",
      "I'm doing the thing.\n"
     ]
    },
    {
     "name": "stderr",
     "output_type": "stream",
     "text": [
      "\r",
      " 49%|████▉     | 351/710 [00:32<00:45,  7.87it/s]"
     ]
    },
    {
     "name": "stdout",
     "output_type": "stream",
     "text": [
      "bone-penn-264\n",
      "Does this patient have T2 available? True\n",
      "I'm doing the thing.\n",
      "bone-hup-185\n",
      "Does this patient have T2 available? True\n",
      "I'm doing the thing.\n"
     ]
    },
    {
     "name": "stderr",
     "output_type": "stream",
     "text": [
      "\r",
      " 50%|████▉     | 353/710 [00:33<00:47,  7.56it/s]"
     ]
    },
    {
     "name": "stdout",
     "output_type": "stream",
     "text": [
      "bone-penn-615\n",
      "Does this patient have T2 available? True\n",
      "I'm doing the thing.\n",
      "bone-penn-429\n",
      "Does this patient have T2 available? True\n",
      "I'm doing the thing.\n"
     ]
    },
    {
     "name": "stderr",
     "output_type": "stream",
     "text": [
      "\r",
      " 50%|█████     | 355/710 [00:33<00:44,  8.05it/s]"
     ]
    },
    {
     "name": "stdout",
     "output_type": "stream",
     "text": [
      "bone-china-103\n",
      "Does this patient have T2 available? True\n",
      "I'm doing the thing.\n",
      "bone-hup-65\n",
      "Does this patient have T2 available? True\n",
      "I'm doing the thing.\n",
      "bone-china-242\n",
      "Does this patient have T2 available? True\n",
      "I'm doing the thing.\n"
     ]
    },
    {
     "name": "stderr",
     "output_type": "stream",
     "text": [
      " 51%|█████     | 359/710 [00:33<00:37,  9.34it/s]"
     ]
    },
    {
     "name": "stdout",
     "output_type": "stream",
     "text": [
      "bone-penn-257\n",
      "Does this patient have T2 available? True\n",
      "I'm doing the thing.\n",
      "\n",
      "################################################################################\n",
      "Exception occurred for: outcome_pos           1\n",
      "outcome_neg           1\n",
      "outcome_3             2\n",
      "sort                  -\n",
      "volume         0.140257\n",
      "Name: bone-penn-257, dtype: object\n",
      "index 74 is out of bounds for axis 0 with size 2\n",
      "T2 image unavailable\n",
      "Traceback (most recent call last):\n",
      "  File \"/home/user1/Documents/Bone-MRI/data_gen.py\", line 392, in generate_from_features\n",
      "    t2_masked = load_image(t2_image_file, t2_seg_file, verbose=verbose)\n",
      "  File \"/home/user1/Documents/Bone-MRI/data_gen.py\", line 331, in load_image\n",
      "    return [mask_image_percentile(image, segmentation, 100, a) for a in (0, 1, 2)]\n",
      "  File \"/home/user1/Documents/Bone-MRI/data_gen.py\", line 331, in <listcomp>\n",
      "    return [mask_image_percentile(image, segmentation, 100, a) for a in (0, 1, 2)]\n",
      "  File \"/home/user1/Documents/Bone-MRI/data_gen.py\", line 335, in mask_image_percentile\n",
      "    image, segmentation = select_slice(image, segmentation, plane, axis)\n",
      "  File \"/home/user1/Documents/Bone-MRI/segmentation.py\", line 40, in select_slice\n",
      "    image = axis_plane[axis](image, plane)\n",
      "  File \"/home/user1/Documents/Bone-MRI/segmentation.py\", line 13, in <lambda>\n",
      "    0: lambda image, plane : image[plane, :, :],\n",
      "IndexError: index 74 is out of bounds for axis 0 with size 2\n",
      "\n",
      "bone-penn-611\n",
      "Does this patient have T2 available? True\n",
      "I'm doing the thing.\n",
      "bone-hup-97\n",
      "Does this patient have T2 available? True\n",
      "I'm doing the thing.\n"
     ]
    },
    {
     "name": "stderr",
     "output_type": "stream",
     "text": [
      "\r",
      " 51%|█████     | 361/710 [00:33<00:38,  9.10it/s]"
     ]
    },
    {
     "name": "stdout",
     "output_type": "stream",
     "text": [
      "bone-penn-178\n",
      "Does this patient have T2 available? True\n",
      "I'm doing the thing.\n",
      "bone-penn-520\n",
      "Does this patient have T2 available? True\n",
      "I'm doing the thing.\n",
      "bone-china-108\n",
      "Does this patient have T2 available? True\n",
      "I'm doing the thing.\n"
     ]
    },
    {
     "name": "stderr",
     "output_type": "stream",
     "text": [
      "\r",
      " 51%|█████     | 363/710 [00:34<00:32, 10.70it/s]"
     ]
    },
    {
     "name": "stdout",
     "output_type": "stream",
     "text": [
      "bone-hup-90\n",
      "Does this patient have T2 available? True\n",
      "I'm doing the thing.\n"
     ]
    },
    {
     "name": "stderr",
     "output_type": "stream",
     "text": [
      "\r",
      " 51%|█████▏    | 365/710 [00:34<00:38,  8.87it/s]"
     ]
    },
    {
     "name": "stdout",
     "output_type": "stream",
     "text": [
      "bone-china-093\n",
      "Does this patient have T2 available? True\n",
      "I'm doing the thing.\n",
      "bone-penn-418\n",
      "Does this patient have T2 available? True\n",
      "I'm doing the thing.\n"
     ]
    },
    {
     "name": "stderr",
     "output_type": "stream",
     "text": [
      "\r",
      " 52%|█████▏    | 367/710 [00:34<00:41,  8.35it/s]"
     ]
    },
    {
     "name": "stdout",
     "output_type": "stream",
     "text": [
      "bone-penn-199\n",
      "Does this patient have T2 available? False\n",
      "T2 image unavailable\n",
      "bone-china-173\n",
      "Does this patient have T2 available? True\n",
      "I'm doing the thing.\n",
      "bone-china-202\n",
      "Does this patient have T2 available? True\n",
      "I'm doing the thing.\n",
      "bone-penn-182\n",
      "Does this patient have T2 available? True\n",
      "I'm doing the thing.\n"
     ]
    },
    {
     "name": "stderr",
     "output_type": "stream",
     "text": [
      "\r",
      " 52%|█████▏    | 370/710 [00:34<00:38,  8.91it/s]"
     ]
    },
    {
     "name": "stdout",
     "output_type": "stream",
     "text": [
      "bone-china-197\n",
      "Does this patient have T2 available? True\n",
      "I'm doing the thing.\n",
      "bone-penn-96\n",
      "Does this patient have T2 available? True\n",
      "I'm doing the thing.\n"
     ]
    },
    {
     "name": "stderr",
     "output_type": "stream",
     "text": [
      "\r",
      " 52%|█████▏    | 372/710 [00:35<00:42,  7.88it/s]"
     ]
    },
    {
     "name": "stdout",
     "output_type": "stream",
     "text": [
      "bone-hup-30\n",
      "Does this patient have T2 available? False\n",
      "T2 image unavailable\n",
      "bone-hup-55\n",
      "Does this patient have T2 available? True\n",
      "I'm doing the thing.\n",
      "bone-penn-389\n",
      "Does this patient have T2 available? True\n",
      "I'm doing the thing.\n"
     ]
    },
    {
     "name": "stderr",
     "output_type": "stream",
     "text": [
      " 53%|█████▎    | 376/710 [00:35<00:43,  7.76it/s]"
     ]
    },
    {
     "name": "stdout",
     "output_type": "stream",
     "text": [
      "bone-penn-589\n",
      "Does this patient have T2 available? True\n",
      "I'm doing the thing.\n",
      "bone-hup-176\n",
      "Does this patient have T2 available? True\n",
      "I'm doing the thing.\n"
     ]
    },
    {
     "name": "stderr",
     "output_type": "stream",
     "text": [
      " 53%|█████▎    | 379/710 [00:35<00:36,  8.97it/s]"
     ]
    },
    {
     "name": "stdout",
     "output_type": "stream",
     "text": [
      "bone-penn-271\n",
      "Does this patient have T2 available? True\n",
      "I'm doing the thing.\n",
      "\n",
      "################################################################################\n",
      "Exception occurred for: outcome_pos           1\n",
      "outcome_neg           1\n",
      "outcome_3             2\n",
      "sort                  -\n",
      "volume         0.140764\n",
      "Name: bone-penn-271, dtype: object\n",
      "index 183 is out of bounds for axis 0 with size 2\n",
      "T2 image unavailable\n",
      "Traceback (most recent call last):\n",
      "  File \"/home/user1/Documents/Bone-MRI/data_gen.py\", line 392, in generate_from_features\n",
      "    t2_masked = load_image(t2_image_file, t2_seg_file, verbose=verbose)\n",
      "  File \"/home/user1/Documents/Bone-MRI/data_gen.py\", line 331, in load_image\n",
      "    return [mask_image_percentile(image, segmentation, 100, a) for a in (0, 1, 2)]\n",
      "  File \"/home/user1/Documents/Bone-MRI/data_gen.py\", line 331, in <listcomp>\n",
      "    return [mask_image_percentile(image, segmentation, 100, a) for a in (0, 1, 2)]\n",
      "  File \"/home/user1/Documents/Bone-MRI/data_gen.py\", line 335, in mask_image_percentile\n",
      "    image, segmentation = select_slice(image, segmentation, plane, axis)\n",
      "  File \"/home/user1/Documents/Bone-MRI/segmentation.py\", line 40, in select_slice\n",
      "    image = axis_plane[axis](image, plane)\n",
      "  File \"/home/user1/Documents/Bone-MRI/segmentation.py\", line 13, in <lambda>\n",
      "    0: lambda image, plane : image[plane, :, :],\n",
      "IndexError: index 183 is out of bounds for axis 0 with size 2\n",
      "\n",
      "bone-penn-210\n",
      "Does this patient have T2 available? True\n",
      "I'm doing the thing.\n",
      "bone-penn-541\n",
      "Does this patient have T2 available? True\n",
      "I'm doing the thing.\n"
     ]
    },
    {
     "name": "stderr",
     "output_type": "stream",
     "text": [
      "\r",
      " 54%|█████▎    | 381/710 [00:36<00:32, 10.27it/s]"
     ]
    },
    {
     "name": "stdout",
     "output_type": "stream",
     "text": [
      "bone-penn-628\n",
      "Does this patient have T2 available? True\n",
      "I'm doing the thing.\n",
      "bone-china-113\n",
      "Does this patient have T2 available? True\n",
      "I'm doing the thing.\n",
      "bone-china-110\n",
      "Does this patient have T2 available? True\n",
      "I'm doing the thing.\n"
     ]
    },
    {
     "name": "stderr",
     "output_type": "stream",
     "text": [
      "\r",
      " 54%|█████▍    | 383/710 [00:36<00:29, 11.14it/s]"
     ]
    },
    {
     "name": "stdout",
     "output_type": "stream",
     "text": [
      "bone-china-223\n",
      "Does this patient have T2 available? True\n",
      "I'm doing the thing.\n",
      "bone-penn-517\n",
      "Does this patient have T2 available? True\n",
      "I'm doing the thing.\n"
     ]
    },
    {
     "name": "stderr",
     "output_type": "stream",
     "text": [
      "\r",
      " 54%|█████▍    | 385/710 [00:36<00:30, 10.61it/s]"
     ]
    },
    {
     "name": "stdout",
     "output_type": "stream",
     "text": [
      "bone-penn-514\n",
      "Does this patient have T2 available? True\n",
      "I'm doing the thing.\n",
      "bone-penn-263\n",
      "Does this patient have T2 available? True\n",
      "I'm doing the thing.\n"
     ]
    },
    {
     "name": "stderr",
     "output_type": "stream",
     "text": [
      "\r",
      " 55%|█████▍    | 387/710 [00:36<00:36,  8.90it/s]"
     ]
    },
    {
     "name": "stdout",
     "output_type": "stream",
     "text": [
      "bone-penn-498\n",
      "Does this patient have T2 available? True\n",
      "I'm doing the thing.\n",
      "bone-penn-465\n",
      "Does this patient have T2 available? True\n",
      "I'm doing the thing.\n"
     ]
    },
    {
     "name": "stderr",
     "output_type": "stream",
     "text": [
      " 55%|█████▌    | 391/710 [00:37<00:34,  9.28it/s]"
     ]
    },
    {
     "name": "stdout",
     "output_type": "stream",
     "text": [
      "bone-china-221\n",
      "Does this patient have T2 available? True\n",
      "I'm doing the thing.\n",
      "bone-hup-136\n",
      "Does this patient have T2 available? True\n",
      "I'm doing the thing.\n",
      "bone-penn-239\n",
      "Does this patient have T2 available? True\n",
      "I'm doing the thing.\n"
     ]
    },
    {
     "name": "stderr",
     "output_type": "stream",
     "text": [
      "\r",
      " 55%|█████▌    | 393/710 [00:37<00:38,  8.27it/s]"
     ]
    },
    {
     "name": "stdout",
     "output_type": "stream",
     "text": [
      "bone-hup-88\n",
      "Does this patient have T2 available? True\n",
      "I'm doing the thing.\n",
      "bone-penn-518\n",
      "Does this patient have T2 available? True\n",
      "I'm doing the thing.\n"
     ]
    },
    {
     "name": "stderr",
     "output_type": "stream",
     "text": [
      " 56%|█████▌    | 395/710 [00:37<00:40,  7.82it/s]"
     ]
    },
    {
     "name": "stdout",
     "output_type": "stream",
     "text": [
      "bone-hup-245\n",
      "Does this patient have T2 available? True\n",
      "I'm doing the thing.\n",
      "bone-penn-254\n",
      "Does this patient have T2 available? True\n",
      "I'm doing the thing.\n"
     ]
    },
    {
     "name": "stderr",
     "output_type": "stream",
     "text": [
      " 56%|█████▌    | 399/710 [00:38<00:32,  9.60it/s]"
     ]
    },
    {
     "name": "stdout",
     "output_type": "stream",
     "text": [
      "bone-hup-195\n",
      "Does this patient have T2 available? True\n",
      "I'm doing the thing.\n",
      "bone-hup-249\n",
      "Does this patient have T2 available? False\n",
      "T2 image unavailable\n",
      "bone-penn-364\n",
      "Does this patient have T2 available? True\n",
      "I'm doing the thing.\n",
      "bone-penn-596\n",
      "Does this patient have T2 available? True\n",
      "I'm doing the thing.\n"
     ]
    },
    {
     "name": "stderr",
     "output_type": "stream",
     "text": [
      " 57%|█████▋    | 404/710 [00:38<00:23, 13.03it/s]"
     ]
    },
    {
     "name": "stdout",
     "output_type": "stream",
     "text": [
      "bone-hup-221\n",
      "Does this patient have T2 available? False\n",
      "T2 image unavailable\n",
      "bone-hup-192\n",
      "Does this patient have T2 available? True\n",
      "I'm doing the thing.\n",
      "bone-penn-544\n",
      "Does this patient have T2 available? True\n",
      "I'm doing the thing.\n",
      "bone-hup-91\n",
      "Does this patient have T2 available? True\n",
      "I'm doing the thing.\n",
      "bone-penn-115\n",
      "Does this patient have T2 available? True\n",
      "I'm doing the thing.\n"
     ]
    },
    {
     "name": "stderr",
     "output_type": "stream",
     "text": [
      "\r",
      " 57%|█████▋    | 407/710 [00:38<00:20, 14.73it/s]"
     ]
    },
    {
     "name": "stdout",
     "output_type": "stream",
     "text": [
      "bone-penn-367\n",
      "Does this patient have T2 available? True\n",
      "I'm doing the thing.\n",
      "bone-hup-67\n",
      "Does this patient have T2 available? True\n",
      "I'm doing the thing.\n",
      "bone-penn-227\n",
      "Does this patient have T2 available? True\n",
      "I'm doing the thing.\n"
     ]
    },
    {
     "name": "stderr",
     "output_type": "stream",
     "text": [
      "\r",
      " 58%|█████▊    | 409/710 [00:38<00:38,  7.85it/s]"
     ]
    },
    {
     "name": "stdout",
     "output_type": "stream",
     "text": [
      "bone-penn-649\n",
      "Does this patient have T2 available? True\n",
      "I'm doing the thing.\n",
      "bone-penn-366\n",
      "Does this patient have T2 available? True\n",
      "I'm doing the thing.\n",
      "bone-penn-632\n",
      "Does this patient have T2 available? True\n",
      "I'm doing the thing.\n"
     ]
    },
    {
     "name": "stderr",
     "output_type": "stream",
     "text": [
      "\r",
      " 58%|█████▊    | 411/710 [00:39<00:33,  8.87it/s]"
     ]
    },
    {
     "name": "stdout",
     "output_type": "stream",
     "text": [
      "bone-hup-172\n",
      "Does this patient have T2 available? False\n",
      "T2 image unavailable\n",
      "bone-hup-74\n",
      "Does this patient have T2 available? True\n",
      "I'm doing the thing.\n",
      "bone-penn-587\n",
      "Does this patient have T2 available? True\n",
      "I'm doing the thing.\n"
     ]
    },
    {
     "name": "stderr",
     "output_type": "stream",
     "text": [
      "\r",
      " 58%|█████▊    | 414/710 [00:39<00:29,  9.94it/s]"
     ]
    },
    {
     "name": "stdout",
     "output_type": "stream",
     "text": [
      "bone-penn-627\n",
      "Does this patient have T2 available? True\n",
      "I'm doing the thing.\n"
     ]
    },
    {
     "name": "stderr",
     "output_type": "stream",
     "text": [
      " 59%|█████▉    | 418/710 [00:39<00:30,  9.57it/s]"
     ]
    },
    {
     "name": "stdout",
     "output_type": "stream",
     "text": [
      "bone-penn-479\n",
      "Does this patient have T2 available? True\n",
      "I'm doing the thing.\n",
      "bone-hup-51\n",
      "Does this patient have T2 available? True\n",
      "I'm doing the thing.\n",
      "bone-china-094\n",
      "Does this patient have T2 available? True\n",
      "I'm doing the thing.\n",
      "bone-penn-174\n",
      "Does this patient have T2 available? True\n",
      "I'm doing the thing.\n"
     ]
    },
    {
     "name": "stderr",
     "output_type": "stream",
     "text": [
      " 59%|█████▉    | 422/710 [00:40<00:22, 12.58it/s]"
     ]
    },
    {
     "name": "stdout",
     "output_type": "stream",
     "text": [
      "bone-hup-182\n",
      "Does this patient have T2 available? True\n",
      "I'm doing the thing.\n",
      "bone-china-132\n",
      "Does this patient have T2 available? True\n",
      "I'm doing the thing.\n",
      "bone-hup-193\n",
      "Does this patient have T2 available? True\n",
      "I'm doing the thing.\n",
      "bone-china-180\n",
      "Does this patient have T2 available? True\n",
      "I'm doing the thing.\n",
      "bone-penn-164\n",
      "Does this patient have T2 available? True\n",
      "I'm doing the thing.\n"
     ]
    },
    {
     "name": "stderr",
     "output_type": "stream",
     "text": [
      " 60%|██████    | 428/710 [00:40<00:26, 10.71it/s]"
     ]
    },
    {
     "name": "stdout",
     "output_type": "stream",
     "text": [
      "bone-penn-225\n",
      "Does this patient have T2 available? False\n",
      "T2 image unavailable\n",
      "bone-hup-212\n",
      "Does this patient have T2 available? True\n",
      "I'm doing the thing.\n",
      "bone-china-199\n",
      "Does this patient have T2 available? True\n",
      "I'm doing the thing.\n",
      "bone-penn-355\n",
      "Does this patient have T2 available? True\n",
      "I'm doing the thing.\n",
      "bone-penn-171\n",
      "Does this patient have T2 available? True\n",
      "I'm doing the thing.\n"
     ]
    },
    {
     "name": "stderr",
     "output_type": "stream",
     "text": [
      "\r",
      " 61%|██████    | 430/710 [00:40<00:26, 10.66it/s]"
     ]
    },
    {
     "name": "stdout",
     "output_type": "stream",
     "text": [
      "bone-penn-245\n",
      "Does this patient have T2 available? True\n",
      "I'm doing the thing.\n",
      "bone-penn-236\n",
      "Does this patient have T2 available? True\n",
      "I'm doing the thing.\n",
      "bone-penn-601\n",
      "Does this patient have T2 available? True\n",
      "I'm doing the thing.\n"
     ]
    },
    {
     "name": "stderr",
     "output_type": "stream",
     "text": [
      " 61%|██████▏   | 435/710 [00:41<00:36,  7.53it/s]"
     ]
    },
    {
     "name": "stdout",
     "output_type": "stream",
     "text": [
      "bone-penn-592\n",
      "Does this patient have T2 available? True\n",
      "I'm doing the thing.\n",
      "bone-china-192\n",
      "Does this patient have T2 available? True\n",
      "I'm doing the thing.\n",
      "bone-penn-630\n",
      "Does this patient have T2 available? True\n",
      "I'm doing the thing.\n",
      "bone-hup-96\n",
      "Does this patient have T2 available? True\n",
      "I'm doing the thing.\n"
     ]
    },
    {
     "name": "stderr",
     "output_type": "stream",
     "text": [
      "\r",
      " 62%|██████▏   | 437/710 [00:41<00:30,  8.85it/s]"
     ]
    },
    {
     "name": "stdout",
     "output_type": "stream",
     "text": [
      "bone-penn-88\n",
      "Does this patient have T2 available? False\n",
      "T2 image unavailable\n",
      "bone-china-212\n",
      "Does this patient have T2 available? True\n",
      "I'm doing the thing.\n",
      "bone-penn-363\n",
      "Does this patient have T2 available? True\n",
      "I'm doing the thing.\n"
     ]
    },
    {
     "name": "stderr",
     "output_type": "stream",
     "text": [
      " 62%|██████▏   | 441/710 [00:42<00:29,  9.26it/s]"
     ]
    },
    {
     "name": "stdout",
     "output_type": "stream",
     "text": [
      "bone-penn-539\n",
      "Does this patient have T2 available? True\n",
      "I'm doing the thing.\n",
      "bone-china-164\n",
      "Does this patient have T2 available? True\n",
      "I'm doing the thing.\n",
      "bone-penn-322\n",
      "Does this patient have T2 available? True\n",
      "I'm doing the thing.\n"
     ]
    },
    {
     "name": "stderr",
     "output_type": "stream",
     "text": [
      "\r",
      " 62%|██████▏   | 443/710 [00:42<00:29,  9.08it/s]"
     ]
    },
    {
     "name": "stdout",
     "output_type": "stream",
     "text": [
      "bone-penn-362\n",
      "Does this patient have T2 available? True\n",
      "I'm doing the thing.\n",
      "bone-hup-199\n",
      "Does this patient have T2 available? True\n",
      "I'm doing the thing.\n",
      "bone-hup-141\n",
      "Does this patient have T2 available? True\n",
      "I'm doing the thing.\n"
     ]
    },
    {
     "name": "stderr",
     "output_type": "stream",
     "text": [
      " 63%|██████▎   | 446/710 [00:42<00:36,  7.18it/s]"
     ]
    },
    {
     "name": "stdout",
     "output_type": "stream",
     "text": [
      "bone-penn-507\n",
      "Does this patient have T2 available? True\n",
      "I'm doing the thing.\n",
      "bone-penn-241\n",
      "Does this patient have T2 available? True\n",
      "I'm doing the thing.\n"
     ]
    },
    {
     "name": "stderr",
     "output_type": "stream",
     "text": [
      " 63%|██████▎   | 448/710 [00:43<00:41,  6.37it/s]"
     ]
    },
    {
     "name": "stdout",
     "output_type": "stream",
     "text": [
      "bone-hup-234\n",
      "Does this patient have T2 available? True\n",
      "I'm doing the thing.\n",
      "bone-penn-480\n",
      "Does this patient have T2 available? True\n",
      "I'm doing the thing.\n"
     ]
    },
    {
     "name": "stderr",
     "output_type": "stream",
     "text": [
      " 64%|██████▎   | 451/710 [00:43<00:31,  8.22it/s]"
     ]
    },
    {
     "name": "stdout",
     "output_type": "stream",
     "text": [
      "bone-china-097\n",
      "Does this patient have T2 available? False\n",
      "T2 image unavailable\n",
      "bone-penn-401\n",
      "Does this patient have T2 available? True\n",
      "I'm doing the thing.\n",
      "bone-china-200\n",
      "Does this patient have T2 available? True\n",
      "I'm doing the thing.\n",
      "bone-penn-597\n",
      "Does this patient have T2 available? True\n",
      "I'm doing the thing.\n"
     ]
    },
    {
     "name": "stderr",
     "output_type": "stream",
     "text": [
      " 64%|██████▍   | 456/710 [00:44<00:38,  6.58it/s]"
     ]
    },
    {
     "name": "stdout",
     "output_type": "stream",
     "text": [
      "bone-hup-187\n",
      "Does this patient have T2 available? False\n",
      "T2 image unavailable\n",
      "bone-penn-266\n",
      "Does this patient have T2 available? True\n",
      "I'm doing the thing.\n",
      "bone-penn-188\n",
      "Does this patient have T2 available? True\n",
      "I'm doing the thing.\n",
      "bone-china-123\n",
      "Does this patient have T2 available? True\n",
      "I'm doing the thing.\n"
     ]
    },
    {
     "name": "stderr",
     "output_type": "stream",
     "text": [
      "\r",
      " 65%|██████▍   | 458/710 [00:44<00:33,  7.48it/s]"
     ]
    },
    {
     "name": "stdout",
     "output_type": "stream",
     "text": [
      "bone-hup-167\n",
      "Does this patient have T2 available? True\n",
      "I'm doing the thing.\n",
      "bone-penn-229\n",
      "Does this patient have T2 available? True\n",
      "I'm doing the thing.\n"
     ]
    },
    {
     "name": "stderr",
     "output_type": "stream",
     "text": [
      " 65%|██████▌   | 462/710 [00:45<00:25,  9.68it/s]"
     ]
    },
    {
     "name": "stdout",
     "output_type": "stream",
     "text": [
      "bone-china-201\n",
      "Does this patient have T2 available? True\n",
      "I'm doing the thing.\n",
      "bone-penn-317\n",
      "Does this patient have T2 available? True\n",
      "I'm doing the thing.\n",
      "bone-hup-197\n",
      "Does this patient have T2 available? True\n",
      "I'm doing the thing.\n",
      "bone-china-112\n",
      "Does this patient have T2 available? True\n",
      "I'm doing the thing.\n"
     ]
    },
    {
     "name": "stderr",
     "output_type": "stream",
     "text": [
      "\r",
      " 65%|██████▌   | 464/710 [00:45<00:21, 11.25it/s]"
     ]
    },
    {
     "name": "stdout",
     "output_type": "stream",
     "text": [
      "bone-penn-282\n",
      "Does this patient have T2 available? True\n",
      "I'm doing the thing.\n",
      "bone-penn-252\n",
      "Does this patient have T2 available? True\n",
      "I'm doing the thing.\n",
      "\n",
      "################################################################################\n",
      "Exception occurred for: outcome_pos           1\n",
      "outcome_neg           1\n",
      "outcome_3             2\n",
      "sort                  -\n",
      "volume         0.140131\n",
      "Name: bone-penn-252, dtype: object\n",
      "index 182 is out of bounds for axis 0 with size 2\n",
      "T2 image unavailable\n",
      "Traceback (most recent call last):\n",
      "  File \"/home/user1/Documents/Bone-MRI/data_gen.py\", line 392, in generate_from_features\n",
      "    t2_masked = load_image(t2_image_file, t2_seg_file, verbose=verbose)\n",
      "  File \"/home/user1/Documents/Bone-MRI/data_gen.py\", line 331, in load_image\n",
      "    return [mask_image_percentile(image, segmentation, 100, a) for a in (0, 1, 2)]\n",
      "  File \"/home/user1/Documents/Bone-MRI/data_gen.py\", line 331, in <listcomp>\n",
      "    return [mask_image_percentile(image, segmentation, 100, a) for a in (0, 1, 2)]\n",
      "  File \"/home/user1/Documents/Bone-MRI/data_gen.py\", line 335, in mask_image_percentile\n",
      "    image, segmentation = select_slice(image, segmentation, plane, axis)\n",
      "  File \"/home/user1/Documents/Bone-MRI/segmentation.py\", line 40, in select_slice\n",
      "    image = axis_plane[axis](image, plane)\n",
      "  File \"/home/user1/Documents/Bone-MRI/segmentation.py\", line 13, in <lambda>\n",
      "    0: lambda image, plane : image[plane, :, :],\n",
      "IndexError: index 182 is out of bounds for axis 0 with size 2\n",
      "\n",
      "bone-hup-114\n",
      "Does this patient have T2 available? True\n",
      "I'm doing the thing.\n"
     ]
    },
    {
     "name": "stderr",
     "output_type": "stream",
     "text": [
      "\r",
      " 66%|██████▌   | 466/710 [00:45<00:24, 10.13it/s]"
     ]
    },
    {
     "name": "stdout",
     "output_type": "stream",
     "text": [
      "bone-hup-63\n",
      "Does this patient have T2 available? False\n",
      "T2 image unavailable\n",
      "bone-penn-163\n",
      "Does this patient have T2 available? True\n",
      "I'm doing the thing.\n",
      "bone-penn-306\n",
      "Does this patient have T2 available? True\n",
      "I'm doing the thing.\n"
     ]
    },
    {
     "name": "stderr",
     "output_type": "stream",
     "text": [
      "\r",
      " 66%|██████▌   | 469/710 [00:45<00:21, 11.16it/s]"
     ]
    },
    {
     "name": "stdout",
     "output_type": "stream",
     "text": [
      "bone-hup-89\n",
      "Does this patient have T2 available? True\n",
      "I'm doing the thing.\n",
      "bone-penn-102\n",
      "Does this patient have T2 available? True\n",
      "I'm doing the thing.\n"
     ]
    },
    {
     "name": "stderr",
     "output_type": "stream",
     "text": [
      " 67%|██████▋   | 473/710 [00:46<00:30,  7.81it/s]"
     ]
    },
    {
     "name": "stdout",
     "output_type": "stream",
     "text": [
      "bone-penn-265\n",
      "Does this patient have T2 available? True\n",
      "I'm doing the thing.\n",
      "bone-hup-226\n",
      "Does this patient have T2 available? True\n",
      "I'm doing the thing.\n",
      "bone-china-210\n",
      "Does this patient have T2 available? True\n",
      "I'm doing the thing.\n"
     ]
    },
    {
     "name": "stderr",
     "output_type": "stream",
     "text": [
      "\r",
      " 67%|██████▋   | 475/710 [00:46<00:25,  9.33it/s]"
     ]
    },
    {
     "name": "stdout",
     "output_type": "stream",
     "text": [
      "bone-penn-532\n",
      "Does this patient have T2 available? True\n",
      "I'm doing the thing.\n",
      "bone-china-154\n",
      "Does this patient have T2 available? True\n",
      "I'm doing the thing.\n",
      "bone-penn-374\n",
      "Does this patient have T2 available? True\n",
      "I'm doing the thing.\n"
     ]
    },
    {
     "name": "stderr",
     "output_type": "stream",
     "text": [
      " 67%|██████▋   | 479/710 [00:46<00:22, 10.26it/s]"
     ]
    },
    {
     "name": "stdout",
     "output_type": "stream",
     "text": [
      "bone-penn-636\n",
      "Does this patient have T2 available? True\n",
      "I'm doing the thing.\n",
      "bone-hup-235\n",
      "Does this patient have T2 available? True\n",
      "I'm doing the thing.\n",
      "bone-penn-381\n",
      "Does this patient have T2 available? True\n",
      "I'm doing the thing.\n"
     ]
    },
    {
     "name": "stderr",
     "output_type": "stream",
     "text": [
      "\r",
      " 68%|██████▊   | 481/710 [00:46<00:19, 11.57it/s]"
     ]
    },
    {
     "name": "stdout",
     "output_type": "stream",
     "text": [
      "bone-penn-422\n",
      "Does this patient have T2 available? True\n",
      "I'm doing the thing.\n",
      "bone-penn-403\n",
      "Does this patient have T2 available? True\n",
      "I'm doing the thing.\n",
      "bone-china-155\n",
      "Does this patient have T2 available? True\n",
      "I'm doing the thing.\n",
      "bone-china-195\n",
      "Does this patient have T2 available? True\n",
      "I'm doing the thing.\n"
     ]
    },
    {
     "name": "stderr",
     "output_type": "stream",
     "text": [
      " 68%|██████▊   | 486/710 [00:47<00:17, 12.58it/s]"
     ]
    },
    {
     "name": "stdout",
     "output_type": "stream",
     "text": [
      "bone-hup-125\n",
      "Does this patient have T2 available? True\n",
      "I'm doing the thing.\n",
      "bone-hup-69\n",
      "Does this patient have T2 available? True\n",
      "I'm doing the thing.\n",
      "bone-hup-80\n",
      "Does this patient have T2 available? True\n",
      "I'm doing the thing.\n"
     ]
    },
    {
     "name": "stderr",
     "output_type": "stream",
     "text": [
      "\r",
      " 69%|██████▊   | 488/710 [00:47<00:19, 11.30it/s]"
     ]
    },
    {
     "name": "stdout",
     "output_type": "stream",
     "text": [
      "bone-penn-117\n",
      "Does this patient have T2 available? True\n",
      "I'm doing the thing.\n",
      "bone-penn-578\n",
      "Does this patient have T2 available? True\n",
      "I'm doing the thing.\n",
      "bone-penn-194\n",
      "Does this patient have T2 available? True\n",
      "I'm doing the thing.\n"
     ]
    },
    {
     "name": "stderr",
     "output_type": "stream",
     "text": [
      " 69%|██████▉   | 492/710 [00:48<00:31,  6.86it/s]"
     ]
    },
    {
     "name": "stdout",
     "output_type": "stream",
     "text": [
      "bone-hup-189\n",
      "Does this patient have T2 available? True\n",
      "I'm doing the thing.\n",
      "bone-hup-81\n",
      "Does this patient have T2 available? True\n",
      "I'm doing the thing.\n",
      "bone-penn-511\n",
      "Does this patient have T2 available? True\n",
      "I'm doing the thing.\n",
      "bone-china-189\n",
      "Does this patient have T2 available? True\n",
      "I'm doing the thing.\n",
      "bone-penn-273\n",
      "Does this patient have T2 available? True\n",
      "I'm doing the thing.\n"
     ]
    },
    {
     "name": "stderr",
     "output_type": "stream",
     "text": [
      "\r",
      " 70%|██████▉   | 495/710 [00:48<00:28,  7.57it/s]"
     ]
    },
    {
     "name": "stdout",
     "output_type": "stream",
     "text": [
      "\n",
      "################################################################################\n",
      "Exception occurred for: outcome_pos           1\n",
      "outcome_neg           1\n",
      "outcome_3             2\n",
      "sort                  -\n",
      "volume         0.140641\n",
      "Name: bone-penn-273, dtype: object\n",
      "index 246 is out of bounds for axis 0 with size 2\n",
      "T2 image unavailable\n",
      "Traceback (most recent call last):\n",
      "  File \"/home/user1/Documents/Bone-MRI/data_gen.py\", line 392, in generate_from_features\n",
      "    t2_masked = load_image(t2_image_file, t2_seg_file, verbose=verbose)\n",
      "  File \"/home/user1/Documents/Bone-MRI/data_gen.py\", line 331, in load_image\n",
      "    return [mask_image_percentile(image, segmentation, 100, a) for a in (0, 1, 2)]\n",
      "  File \"/home/user1/Documents/Bone-MRI/data_gen.py\", line 331, in <listcomp>\n",
      "    return [mask_image_percentile(image, segmentation, 100, a) for a in (0, 1, 2)]\n",
      "  File \"/home/user1/Documents/Bone-MRI/data_gen.py\", line 335, in mask_image_percentile\n",
      "    image, segmentation = select_slice(image, segmentation, plane, axis)\n",
      "  File \"/home/user1/Documents/Bone-MRI/segmentation.py\", line 40, in select_slice\n",
      "    image = axis_plane[axis](image, plane)\n",
      "  File \"/home/user1/Documents/Bone-MRI/segmentation.py\", line 13, in <lambda>\n",
      "    0: lambda image, plane : image[plane, :, :],\n",
      "IndexError: index 246 is out of bounds for axis 0 with size 2\n",
      "\n",
      "bone-penn-603\n",
      "Does this patient have T2 available? True\n",
      "I'm doing the thing.\n",
      "bone-hup-175\n",
      "Does this patient have T2 available? True\n",
      "I'm doing the thing.\n"
     ]
    },
    {
     "name": "stderr",
     "output_type": "stream",
     "text": [
      " 70%|███████   | 499/710 [00:49<00:23,  8.83it/s]"
     ]
    },
    {
     "name": "stdout",
     "output_type": "stream",
     "text": [
      "bone-penn-313\n",
      "Does this patient have T2 available? True\n",
      "I'm doing the thing.\n",
      "bone-penn-89\n",
      "Does this patient have T2 available? False\n",
      "T2 image unavailable\n",
      "bone-hup-92\n",
      "Does this patient have T2 available? True\n",
      "I'm doing the thing.\n",
      "bone-hup-232\n",
      "Does this patient have T2 available? True\n",
      "I'm doing the thing.\n"
     ]
    },
    {
     "name": "stderr",
     "output_type": "stream",
     "text": [
      " 71%|███████   | 502/710 [00:49<00:28,  7.24it/s]"
     ]
    },
    {
     "name": "stdout",
     "output_type": "stream",
     "text": [
      "bone-penn-489\n",
      "Does this patient have T2 available? True\n",
      "I'm doing the thing.\n",
      "bone-hup-148\n",
      "Does this patient have T2 available? True\n",
      "I'm doing the thing.\n"
     ]
    },
    {
     "name": "stderr",
     "output_type": "stream",
     "text": [
      "\r",
      " 71%|███████   | 503/710 [00:49<00:29,  6.93it/s]"
     ]
    },
    {
     "name": "stdout",
     "output_type": "stream",
     "text": [
      "bone-china-222\n",
      "Does this patient have T2 available? True\n",
      "I'm doing the thing.\n",
      "bone-penn-94\n",
      "Does this patient have T2 available? True\n",
      "I'm doing the thing.\n",
      "bone-hup-101\n",
      "Does this patient have T2 available? True\n",
      "I'm doing the thing.\n"
     ]
    },
    {
     "name": "stderr",
     "output_type": "stream",
     "text": [
      " 72%|███████▏  | 509/710 [00:50<00:21,  9.54it/s]"
     ]
    },
    {
     "name": "stdout",
     "output_type": "stream",
     "text": [
      "bone-penn-196\n",
      "Does this patient have T2 available? False\n",
      "T2 image unavailable\n",
      "bone-china-147\n",
      "Does this patient have T2 available? True\n",
      "I'm doing the thing.\n",
      "bone-hup-237\n",
      "Does this patient have T2 available? True\n",
      "I'm doing the thing.\n",
      "bone-china-179\n",
      "Does this patient have T2 available? True\n",
      "I'm doing the thing.\n"
     ]
    },
    {
     "name": "stderr",
     "output_type": "stream",
     "text": [
      "\r",
      " 72%|███████▏  | 511/710 [00:50<00:21,  9.43it/s]"
     ]
    },
    {
     "name": "stdout",
     "output_type": "stream",
     "text": [
      "bone-penn-452\n",
      "Does this patient have T2 available? True\n",
      "I'm doing the thing.\n",
      "bone-china-171\n",
      "Does this patient have T2 available? True\n",
      "I'm doing the thing.\n"
     ]
    },
    {
     "name": "stderr",
     "output_type": "stream",
     "text": [
      " 73%|███████▎  | 516/710 [00:50<00:14, 13.32it/s]"
     ]
    },
    {
     "name": "stdout",
     "output_type": "stream",
     "text": [
      "bone-china-144\n",
      "Does this patient have T2 available? True\n",
      "I'm doing the thing.\n",
      "bone-china-226\n",
      "Does this patient have T2 available? True\n",
      "I'm doing the thing.\n",
      "bone-china-120\n",
      "Does this patient have T2 available? True\n",
      "I'm doing the thing.\n",
      "bone-penn-648\n",
      "Does this patient have T2 available? True\n",
      "I'm doing the thing.\n",
      "bone-hup-85\n",
      "Does this patient have T2 available? True\n",
      "I'm doing the thing.\n"
     ]
    },
    {
     "name": "stderr",
     "output_type": "stream",
     "text": [
      "\r",
      " 73%|███████▎  | 518/710 [00:50<00:18, 10.46it/s]"
     ]
    },
    {
     "name": "stdout",
     "output_type": "stream",
     "text": [
      "bone-hup-244\n",
      "Does this patient have T2 available? True\n",
      "I'm doing the thing.\n",
      "bone-hup-228\n",
      "Does this patient have T2 available? True\n",
      "I'm doing the thing.\n",
      "bone-penn-191\n",
      "Does this patient have T2 available? True\n",
      "I'm doing the thing.\n"
     ]
    },
    {
     "name": "stderr",
     "output_type": "stream",
     "text": [
      "\r",
      " 73%|███████▎  | 520/710 [00:50<00:18, 10.56it/s]"
     ]
    },
    {
     "name": "stdout",
     "output_type": "stream",
     "text": [
      "bone-hup-181\n",
      "Does this patient have T2 available? True\n",
      "I'm doing the thing.\n",
      "bone-penn-446\n",
      "Does this patient have T2 available? True\n",
      "I'm doing the thing.\n"
     ]
    },
    {
     "name": "stderr",
     "output_type": "stream",
     "text": [
      " 74%|███████▍  | 524/710 [00:51<00:16, 11.55it/s]"
     ]
    },
    {
     "name": "stdout",
     "output_type": "stream",
     "text": [
      "bone-china-191\n",
      "Does this patient have T2 available? True\n",
      "I'm doing the thing.\n",
      "bone-hup-207\n",
      "Does this patient have T2 available? True\n",
      "I'm doing the thing.\n",
      "bone-penn-310\n",
      "Does this patient have T2 available? False\n",
      "T2 image unavailable\n",
      "bone-penn-621\n",
      "Does this patient have T2 available? True\n",
      "I'm doing the thing.\n"
     ]
    },
    {
     "name": "stderr",
     "output_type": "stream",
     "text": [
      "\r",
      " 74%|███████▍  | 526/710 [00:51<00:18,  9.71it/s]"
     ]
    },
    {
     "name": "stdout",
     "output_type": "stream",
     "text": [
      "bone-hup-66\n",
      "Does this patient have T2 available? True\n",
      "I'm doing the thing.\n",
      "bone-hup-23\n",
      "Does this patient have T2 available? True\n",
      "I'm doing the thing.\n"
     ]
    },
    {
     "name": "stderr",
     "output_type": "stream",
     "text": [
      "\r",
      " 74%|███████▍  | 528/710 [00:51<00:20,  8.69it/s]"
     ]
    },
    {
     "name": "stdout",
     "output_type": "stream",
     "text": [
      "bone-penn-165\n",
      "Does this patient have T2 available? True\n",
      "I'm doing the thing.\n",
      "bone-penn-177\n",
      "Does this patient have T2 available? True\n",
      "I'm doing the thing.\n"
     ]
    },
    {
     "name": "stderr",
     "output_type": "stream",
     "text": [
      " 75%|███████▍  | 532/710 [00:52<00:17, 10.06it/s]"
     ]
    },
    {
     "name": "stdout",
     "output_type": "stream",
     "text": [
      "bone-china-233\n",
      "Does this patient have T2 available? True\n",
      "I'm doing the thing.\n",
      "bone-penn-629\n",
      "Does this patient have T2 available? True\n",
      "I'm doing the thing.\n",
      "bone-hup-169\n",
      "Does this patient have T2 available? True\n",
      "I'm doing the thing.\n",
      "bone-hup-107\n",
      "Does this patient have T2 available? True\n",
      "I'm doing the thing.\n"
     ]
    },
    {
     "name": "stderr",
     "output_type": "stream",
     "text": [
      "\r",
      " 75%|███████▌  | 534/710 [00:52<00:23,  7.49it/s]"
     ]
    },
    {
     "name": "stdout",
     "output_type": "stream",
     "text": [
      "bone-penn-397\n",
      "Does this patient have T2 available? True\n",
      "I'm doing the thing.\n"
     ]
    },
    {
     "name": "stderr",
     "output_type": "stream",
     "text": [
      " 76%|███████▌  | 537/710 [00:53<00:23,  7.41it/s]"
     ]
    },
    {
     "name": "stdout",
     "output_type": "stream",
     "text": [
      "bone-penn-98\n",
      "Does this patient have T2 available? True\n",
      "I'm doing the thing.\n",
      "bone-china-119\n",
      "Does this patient have T2 available? True\n",
      "I'm doing the thing.\n",
      "bone-hup-162\n",
      "Does this patient have T2 available? False\n",
      "T2 image unavailable\n",
      "bone-penn-172\n",
      "Does this patient have T2 available? True\n",
      "I'm doing the thing.\n"
     ]
    },
    {
     "name": "stderr",
     "output_type": "stream",
     "text": [
      "\r",
      " 76%|███████▌  | 540/710 [00:53<00:18,  9.15it/s]"
     ]
    },
    {
     "name": "stdout",
     "output_type": "stream",
     "text": [
      "bone-hup-183\n",
      "Does this patient have T2 available? True\n",
      "I'm doing the thing.\n",
      "bone-hup-190\n",
      "Does this patient have T2 available? True\n",
      "I'm doing the thing.\n"
     ]
    },
    {
     "name": "stderr",
     "output_type": "stream",
     "text": [
      "\r",
      " 76%|███████▋  | 542/710 [00:53<00:17,  9.71it/s]"
     ]
    },
    {
     "name": "stdout",
     "output_type": "stream",
     "text": [
      "bone-penn-321\n",
      "Does this patient have T2 available? False\n",
      "T2 image unavailable\n",
      "bone-penn-126\n",
      "Does this patient have T2 available? True\n",
      "I'm doing the thing.\n",
      "bone-hup-262\n",
      "Does this patient have T2 available? True\n",
      "I'm doing the thing.\n"
     ]
    },
    {
     "name": "stderr",
     "output_type": "stream",
     "text": [
      "\r",
      " 77%|███████▋  | 544/710 [00:53<00:17,  9.67it/s]"
     ]
    },
    {
     "name": "stdout",
     "output_type": "stream",
     "text": [
      "bone-penn-228\n",
      "Does this patient have T2 available? True\n",
      "I'm doing the thing.\n",
      "bone-hup-22\n",
      "Does this patient have T2 available? True\n",
      "I'm doing the thing.\n"
     ]
    },
    {
     "name": "stderr",
     "output_type": "stream",
     "text": [
      " 77%|███████▋  | 549/710 [00:53<00:14, 11.30it/s]"
     ]
    },
    {
     "name": "stdout",
     "output_type": "stream",
     "text": [
      "bone-penn-284\n",
      "Does this patient have T2 available? False\n",
      "T2 image unavailable\n",
      "bone-china-165\n",
      "Does this patient have T2 available? True\n",
      "I'm doing the thing.\n",
      "bone-penn-522\n",
      "Does this patient have T2 available? True\n",
      "I'm doing the thing.\n",
      "bone-penn-316\n",
      "Does this patient have T2 available? True\n",
      "I'm doing the thing.\n"
     ]
    },
    {
     "name": "stderr",
     "output_type": "stream",
     "text": [
      "\r",
      " 78%|███████▊  | 551/710 [00:54<00:12, 12.81it/s]"
     ]
    },
    {
     "name": "stdout",
     "output_type": "stream",
     "text": [
      "bone-china-211\n",
      "Does this patient have T2 available? True\n",
      "I'm doing the thing.\n",
      "bone-china-114\n",
      "Does this patient have T2 available? True\n",
      "I'm doing the thing.\n",
      "bone-hup-218\n",
      "Does this patient have T2 available? False\n",
      "T2 image unavailable\n",
      "bone-penn-580\n",
      "Does this patient have T2 available? False\n",
      "T2 image unavailable\n",
      "bone-penn-334\n",
      "Does this patient have T2 available? True\n",
      "I'm doing the thing.\n"
     ]
    },
    {
     "name": "stderr",
     "output_type": "stream",
     "text": [
      " 78%|███████▊  | 557/710 [00:54<00:12, 11.86it/s]"
     ]
    },
    {
     "name": "stdout",
     "output_type": "stream",
     "text": [
      "bone-penn-169\n",
      "Does this patient have T2 available? True\n",
      "I'm doing the thing.\n",
      "bone-hup-278\n",
      "Does this patient have T2 available? True\n",
      "I'm doing the thing.\n",
      "bone-hup-59\n",
      "Does this patient have T2 available? True\n",
      "I'm doing the thing.\n"
     ]
    },
    {
     "name": "stderr",
     "output_type": "stream",
     "text": [
      "\r",
      " 79%|███████▊  | 559/710 [00:54<00:16,  9.17it/s]"
     ]
    },
    {
     "name": "stdout",
     "output_type": "stream",
     "text": [
      "bone-penn-543\n",
      "Does this patient have T2 available? True\n",
      "I'm doing the thing.\n"
     ]
    },
    {
     "name": "stderr",
     "output_type": "stream",
     "text": [
      "\r",
      " 79%|███████▉  | 561/710 [00:55<00:15,  9.91it/s]"
     ]
    },
    {
     "name": "stdout",
     "output_type": "stream",
     "text": [
      "bone-china-174\n",
      "Does this patient have T2 available? True\n",
      "I'm doing the thing.\n",
      "bone-penn-625\n",
      "Does this patient have T2 available? True\n",
      "I'm doing the thing.\n",
      "bone-penn-525\n",
      "Does this patient have T2 available? True\n",
      "I'm doing the thing.\n"
     ]
    },
    {
     "name": "stderr",
     "output_type": "stream",
     "text": [
      "\r",
      " 79%|███████▉  | 563/710 [00:55<00:19,  7.70it/s]"
     ]
    },
    {
     "name": "stdout",
     "output_type": "stream",
     "text": [
      "\n",
      "################################################################################\n",
      "Exception occurred for: outcome_pos           0\n",
      "outcome_neg           1\n",
      "outcome_3             1\n",
      "sort                  -\n",
      "volume         0.140127\n",
      "Name: bone-penn-525, dtype: object\n",
      "index 161 is out of bounds for axis 0 with size 2\n",
      "T2 image unavailable\n",
      "Traceback (most recent call last):\n",
      "  File \"/home/user1/Documents/Bone-MRI/data_gen.py\", line 392, in generate_from_features\n",
      "    t2_masked = load_image(t2_image_file, t2_seg_file, verbose=verbose)\n",
      "  File \"/home/user1/Documents/Bone-MRI/data_gen.py\", line 331, in load_image\n",
      "    return [mask_image_percentile(image, segmentation, 100, a) for a in (0, 1, 2)]\n",
      "  File \"/home/user1/Documents/Bone-MRI/data_gen.py\", line 331, in <listcomp>\n",
      "    return [mask_image_percentile(image, segmentation, 100, a) for a in (0, 1, 2)]\n",
      "  File \"/home/user1/Documents/Bone-MRI/data_gen.py\", line 335, in mask_image_percentile\n",
      "    image, segmentation = select_slice(image, segmentation, plane, axis)\n",
      "  File \"/home/user1/Documents/Bone-MRI/segmentation.py\", line 40, in select_slice\n",
      "    image = axis_plane[axis](image, plane)\n",
      "  File \"/home/user1/Documents/Bone-MRI/segmentation.py\", line 13, in <lambda>\n",
      "    0: lambda image, plane : image[plane, :, :],\n",
      "IndexError: index 161 is out of bounds for axis 0 with size 2\n",
      "\n",
      "bone-hup-82\n",
      "Does this patient have T2 available? True\n",
      "I'm doing the thing.\n",
      "bone-hup-216\n",
      "Does this patient have T2 available? True\n",
      "I'm doing the thing.\n"
     ]
    },
    {
     "name": "stderr",
     "output_type": "stream",
     "text": [
      " 80%|███████▉  | 567/710 [00:55<00:15,  9.46it/s]"
     ]
    },
    {
     "name": "stdout",
     "output_type": "stream",
     "text": [
      "bone-hup-120\n",
      "Does this patient have T2 available? True\n",
      "I'm doing the thing.\n",
      "bone-hup-258\n",
      "Does this patient have T2 available? False\n",
      "T2 image unavailable\n",
      "bone-china-160\n",
      "Does this patient have T2 available? True\n",
      "I'm doing the thing.\n",
      "bone-china-157\n",
      "Does this patient have T2 available? True\n",
      "I'm doing the thing.\n"
     ]
    },
    {
     "name": "stderr",
     "output_type": "stream",
     "text": [
      "\r",
      " 80%|████████  | 569/710 [00:55<00:12, 10.94it/s]"
     ]
    },
    {
     "name": "stdout",
     "output_type": "stream",
     "text": [
      "bone-china-095\n",
      "Does this patient have T2 available? True\n",
      "I'm doing the thing.\n",
      "bone-china-208\n",
      "Does this patient have T2 available? True\n",
      "I'm doing the thing.\n",
      "bone-penn-308\n",
      "Does this patient have T2 available? False\n",
      "T2 image unavailable\n",
      "bone-hup-73\n",
      "Does this patient have T2 available? True\n",
      "I'm doing the thing.\n"
     ]
    },
    {
     "name": "stderr",
     "output_type": "stream",
     "text": [
      "\r",
      " 81%|████████  | 572/710 [00:55<00:10, 12.81it/s]"
     ]
    },
    {
     "name": "stdout",
     "output_type": "stream",
     "text": [
      "bone-china-128\n",
      "Does this patient have T2 available? True\n",
      "I'm doing the thing.\n",
      "bone-penn-638\n",
      "Does this patient have T2 available? True\n",
      "I'm doing the thing.\n"
     ]
    },
    {
     "name": "stderr",
     "output_type": "stream",
     "text": [
      "\r",
      " 81%|████████  | 574/710 [00:56<00:13, 10.44it/s]"
     ]
    },
    {
     "name": "stdout",
     "output_type": "stream",
     "text": [
      "bone-penn-124\n",
      "Does this patient have T2 available? True\n",
      "I'm doing the thing.\n"
     ]
    },
    {
     "name": "stderr",
     "output_type": "stream",
     "text": [
      "\r",
      " 81%|████████  | 576/710 [00:56<00:18,  7.36it/s]"
     ]
    },
    {
     "name": "stdout",
     "output_type": "stream",
     "text": [
      "bone-penn-599\n",
      "Does this patient have T2 available? True\n",
      "I'm doing the thing.\n",
      "bone-china-134\n",
      "Does this patient have T2 available? True\n",
      "I'm doing the thing.\n"
     ]
    },
    {
     "name": "stderr",
     "output_type": "stream",
     "text": [
      "\r",
      " 81%|████████▏ | 578/710 [00:56<00:15,  8.73it/s]"
     ]
    },
    {
     "name": "stdout",
     "output_type": "stream",
     "text": [
      "bone-penn-572\n",
      "Does this patient have T2 available? True\n",
      "I'm doing the thing.\n",
      "bone-penn-576\n",
      "Does this patient have T2 available? True\n",
      "I'm doing the thing.\n",
      "bone-penn-521\n",
      "Does this patient have T2 available? True\n",
      "I'm doing the thing.\n"
     ]
    },
    {
     "name": "stderr",
     "output_type": "stream",
     "text": [
      " 82%|████████▏ | 581/710 [00:57<00:20,  6.37it/s]"
     ]
    },
    {
     "name": "stdout",
     "output_type": "stream",
     "text": [
      "bone-hup-198\n",
      "Does this patient have T2 available? True\n",
      "I'm doing the thing.\n",
      "bone-penn-464\n",
      "Does this patient have T2 available? True\n",
      "I'm doing the thing.\n",
      "bone-penn-433\n",
      "Does this patient have T2 available? True\n",
      "I'm doing the thing.\n"
     ]
    },
    {
     "name": "stderr",
     "output_type": "stream",
     "text": [
      " 82%|████████▏ | 585/710 [00:58<00:17,  7.05it/s]"
     ]
    },
    {
     "name": "stdout",
     "output_type": "stream",
     "text": [
      "bone-hup-170\n",
      "Does this patient have T2 available? True\n",
      "I'm doing the thing.\n",
      "bone-hup-94\n",
      "Does this patient have T2 available? True\n",
      "I'm doing the thing.\n",
      "bone-penn-527\n",
      "Does this patient have T2 available? True\n",
      "I'm doing the thing.\n",
      "bone-penn-439\n",
      "Does this patient have T2 available? True\n",
      "I'm doing the thing.\n"
     ]
    },
    {
     "name": "stderr",
     "output_type": "stream",
     "text": [
      " 83%|████████▎ | 589/710 [00:58<00:15,  7.80it/s]"
     ]
    },
    {
     "name": "stdout",
     "output_type": "stream",
     "text": [
      "bone-penn-582\n",
      "Does this patient have T2 available? True\n",
      "I'm doing the thing.\n",
      "bone-penn-595\n",
      "Does this patient have T2 available? True\n",
      "I'm doing the thing.\n",
      "bone-penn-531\n",
      "Does this patient have T2 available? True\n",
      "I'm doing the thing.\n",
      "bone-penn-598\n",
      "Does this patient have T2 available? True\n",
      "I'm doing the thing.\n"
     ]
    },
    {
     "name": "stderr",
     "output_type": "stream",
     "text": [
      "\r",
      " 83%|████████▎ | 591/710 [00:58<00:13,  8.63it/s]"
     ]
    },
    {
     "name": "stdout",
     "output_type": "stream",
     "text": [
      "bone-hup-83\n",
      "Does this patient have T2 available? True\n",
      "I'm doing the thing.\n",
      "bone-penn-242\n",
      "Does this patient have T2 available? True\n",
      "I'm doing the thing.\n"
     ]
    },
    {
     "name": "stderr",
     "output_type": "stream",
     "text": [
      "\r",
      " 84%|████████▎ | 593/710 [00:59<00:13,  8.37it/s]"
     ]
    },
    {
     "name": "stdout",
     "output_type": "stream",
     "text": [
      "bone-hup-177\n",
      "Does this patient have T2 available? True\n",
      "I'm doing the thing.\n",
      "bone-penn-189\n",
      "Does this patient have T2 available? True\n",
      "I'm doing the thing.\n"
     ]
    },
    {
     "name": "stderr",
     "output_type": "stream",
     "text": [
      " 84%|████████▍ | 597/710 [00:59<00:13,  8.39it/s]"
     ]
    },
    {
     "name": "stdout",
     "output_type": "stream",
     "text": [
      "bone-penn-533\n",
      "Does this patient have T2 available? False\n",
      "T2 image unavailable\n",
      "bone-penn-575\n",
      "Does this patient have T2 available? True\n",
      "I'm doing the thing.\n",
      "bone-hup-127\n",
      "Does this patient have T2 available? True\n",
      "I'm doing the thing.\n",
      "bone-penn-97\n",
      "Does this patient have T2 available? True\n",
      "I'm doing the thing.\n"
     ]
    },
    {
     "name": "stderr",
     "output_type": "stream",
     "text": [
      "\r",
      " 84%|████████▍ | 599/710 [00:59<00:13,  8.09it/s]"
     ]
    },
    {
     "name": "stdout",
     "output_type": "stream",
     "text": [
      "bone-hup-52\n",
      "Does this patient have T2 available? True\n",
      "I'm doing the thing.\n"
     ]
    },
    {
     "name": "stderr",
     "output_type": "stream",
     "text": [
      " 85%|████████▍ | 601/710 [01:00<00:16,  6.74it/s]"
     ]
    },
    {
     "name": "stdout",
     "output_type": "stream",
     "text": [
      "bone-hup-132\n",
      "Does this patient have T2 available? True\n",
      "I'm doing the thing.\n",
      "bone-penn-642\n",
      "Does this patient have T2 available? True\n",
      "I'm doing the thing.\n"
     ]
    },
    {
     "name": "stderr",
     "output_type": "stream",
     "text": [
      " 85%|████████▌ | 604/710 [01:00<00:15,  6.82it/s]"
     ]
    },
    {
     "name": "stdout",
     "output_type": "stream",
     "text": [
      "bone-china-146\n",
      "Does this patient have T2 available? True\n",
      "I'm doing the thing.\n",
      "bone-hup-78\n",
      "Does this patient have T2 available? True\n",
      "I'm doing the thing.\n",
      "bone-penn-209\n",
      "Does this patient have T2 available? True\n",
      "I'm doing the thing.\n"
     ]
    },
    {
     "name": "stderr",
     "output_type": "stream",
     "text": [
      " 85%|████████▌ | 607/710 [01:01<00:15,  6.47it/s]"
     ]
    },
    {
     "name": "stdout",
     "output_type": "stream",
     "text": [
      "\n",
      "################################################################################\n",
      "Exception occurred for: outcome_pos           1\n",
      "outcome_neg           1\n",
      "outcome_3             2\n",
      "sort                  -\n",
      "volume         0.140114\n",
      "Name: bone-penn-209, dtype: object\n",
      "index 231 is out of bounds for axis 0 with size 2\n",
      "T2 image unavailable\n",
      "Traceback (most recent call last):\n",
      "  File \"/home/user1/Documents/Bone-MRI/data_gen.py\", line 392, in generate_from_features\n",
      "    t2_masked = load_image(t2_image_file, t2_seg_file, verbose=verbose)\n",
      "  File \"/home/user1/Documents/Bone-MRI/data_gen.py\", line 331, in load_image\n",
      "    return [mask_image_percentile(image, segmentation, 100, a) for a in (0, 1, 2)]\n",
      "  File \"/home/user1/Documents/Bone-MRI/data_gen.py\", line 331, in <listcomp>\n",
      "    return [mask_image_percentile(image, segmentation, 100, a) for a in (0, 1, 2)]\n",
      "  File \"/home/user1/Documents/Bone-MRI/data_gen.py\", line 335, in mask_image_percentile\n",
      "    image, segmentation = select_slice(image, segmentation, plane, axis)\n",
      "  File \"/home/user1/Documents/Bone-MRI/segmentation.py\", line 40, in select_slice\n",
      "    image = axis_plane[axis](image, plane)\n",
      "  File \"/home/user1/Documents/Bone-MRI/segmentation.py\", line 13, in <lambda>\n",
      "    0: lambda image, plane : image[plane, :, :],\n",
      "IndexError: index 231 is out of bounds for axis 0 with size 2\n",
      "\n",
      "bone-penn-109\n",
      "Does this patient have T2 available? True\n",
      "I'm doing the thing.\n",
      "bone-hup-227\n",
      "Does this patient have T2 available? True\n",
      "I'm doing the thing.\n",
      "bone-china-231\n",
      "Does this patient have T2 available? True\n",
      "I'm doing the thing.\n",
      "bone-penn-214\n",
      "Does this patient have T2 available? True\n",
      "I'm doing the thing.\n"
     ]
    },
    {
     "name": "stderr",
     "output_type": "stream",
     "text": [
      " 86%|████████▌ | 610/710 [01:01<00:15,  6.47it/s]"
     ]
    },
    {
     "name": "stdout",
     "output_type": "stream",
     "text": [
      "bone-penn-386\n",
      "Does this patient have T2 available? True\n",
      "I'm doing the thing.\n",
      "bone-penn-634\n",
      "Does this patient have T2 available? True\n",
      "I'm doing the thing.\n"
     ]
    },
    {
     "name": "stderr",
     "output_type": "stream",
     "text": [
      "\r",
      " 86%|████████▌ | 612/710 [01:01<00:12,  8.05it/s]"
     ]
    },
    {
     "name": "stdout",
     "output_type": "stream",
     "text": [
      "bone-china-126\n",
      "Does this patient have T2 available? True\n",
      "I'm doing the thing.\n",
      "bone-penn-574\n",
      "Does this patient have T2 available? True\n",
      "I'm doing the thing.\n",
      "bone-hup-158\n",
      "Does this patient have T2 available? True\n",
      "I'm doing the thing.\n"
     ]
    },
    {
     "name": "stderr",
     "output_type": "stream",
     "text": [
      " 87%|████████▋ | 617/710 [01:01<00:09, 10.30it/s]"
     ]
    },
    {
     "name": "stdout",
     "output_type": "stream",
     "text": [
      "bone-china-141\n",
      "Does this patient have T2 available? True\n",
      "I'm doing the thing.\n",
      "bone-penn-394\n",
      "Does this patient have T2 available? False\n",
      "T2 image unavailable\n",
      "bone-penn-624\n",
      "Does this patient have T2 available? True\n",
      "I'm doing the thing.\n",
      "bone-hup-248\n",
      "Does this patient have T2 available? True\n",
      "I'm doing the thing.\n",
      "bone-hup-103\n",
      "Does this patient have T2 available? True\n",
      "I'm doing the thing.\n"
     ]
    },
    {
     "name": "stderr",
     "output_type": "stream",
     "text": [
      "\r",
      " 87%|████████▋ | 620/710 [01:02<00:08, 10.34it/s]"
     ]
    },
    {
     "name": "stdout",
     "output_type": "stream",
     "text": [
      "bone-hup-220\n",
      "Does this patient have T2 available? True\n",
      "I'm doing the thing.\n",
      "bone-penn-112\n",
      "Does this patient have T2 available? True\n",
      "I'm doing the thing.\n"
     ]
    },
    {
     "name": "stderr",
     "output_type": "stream",
     "text": [
      " 88%|████████▊ | 625/710 [01:02<00:10,  7.78it/s]"
     ]
    },
    {
     "name": "stdout",
     "output_type": "stream",
     "text": [
      "bone-china-167\n",
      "Does this patient have T2 available? True\n",
      "I'm doing the thing.\n",
      "bone-hup-247\n",
      "Does this patient have T2 available? True\n",
      "I'm doing the thing.\n",
      "bone-china-125\n",
      "Does this patient have T2 available? True\n",
      "I'm doing the thing.\n",
      "bone-penn-222\n",
      "Does this patient have T2 available? True\n",
      "I'm doing the thing.\n",
      "bone-hup-184\n",
      "Does this patient have T2 available? False\n",
      "T2 image unavailable\n",
      "bone-penn-166\n",
      "Does this patient have T2 available? True\n",
      "I'm doing the thing.\n"
     ]
    },
    {
     "name": "stderr",
     "output_type": "stream",
     "text": [
      "\r",
      " 88%|████████▊ | 628/710 [01:03<00:09,  8.76it/s]"
     ]
    },
    {
     "name": "stdout",
     "output_type": "stream",
     "text": [
      "bone-penn-87\n",
      "Does this patient have T2 available? True\n",
      "I'm doing the thing.\n",
      "bone-penn-309\n",
      "Does this patient have T2 available? True\n",
      "I'm doing the thing.\n"
     ]
    },
    {
     "name": "stderr",
     "output_type": "stream",
     "text": [
      "\r",
      " 89%|████████▊ | 630/710 [01:03<00:08,  9.65it/s]"
     ]
    },
    {
     "name": "stdout",
     "output_type": "stream",
     "text": [
      "bone-penn-292\n",
      "Does this patient have T2 available? True\n",
      "I'm doing the thing.\n",
      "bone-hup-87\n",
      "Does this patient have T2 available? True\n",
      "I'm doing the thing.\n",
      "bone-penn-482\n",
      "Does this patient have T2 available? True\n",
      "I'm doing the thing.\n"
     ]
    },
    {
     "name": "stderr",
     "output_type": "stream",
     "text": [
      " 89%|████████▉ | 635/710 [01:04<00:09,  7.64it/s]"
     ]
    },
    {
     "name": "stdout",
     "output_type": "stream",
     "text": [
      "bone-china-092\n",
      "Does this patient have T2 available? True\n",
      "I'm doing the thing.\n",
      "bone-penn-626\n",
      "Does this patient have T2 available? True\n",
      "I'm doing the thing.\n",
      "bone-hup-152\n",
      "Does this patient have T2 available? True\n",
      "I'm doing the thing.\n",
      "bone-penn-216\n",
      "Does this patient have T2 available? True\n",
      "I'm doing the thing.\n"
     ]
    },
    {
     "name": "stderr",
     "output_type": "stream",
     "text": [
      "\r",
      " 90%|████████▉ | 637/710 [01:04<00:09,  7.87it/s]"
     ]
    },
    {
     "name": "stdout",
     "output_type": "stream",
     "text": [
      "bone-penn-645\n",
      "Does this patient have T2 available? True\n",
      "I'm doing the thing.\n",
      "bone-penn-493\n",
      "Does this patient have T2 available? True\n",
      "I'm doing the thing.\n"
     ]
    },
    {
     "name": "stderr",
     "output_type": "stream",
     "text": [
      "\r",
      " 90%|█████████ | 639/710 [01:04<00:09,  7.60it/s]"
     ]
    },
    {
     "name": "stdout",
     "output_type": "stream",
     "text": [
      "bone-penn-470\n",
      "Does this patient have T2 available? True\n",
      "I'm doing the thing.\n",
      "bone-penn-195\n",
      "Does this patient have T2 available? True\n",
      "I'm doing the thing.\n",
      "bone-penn-82\n",
      "Does this patient have T2 available? True\n",
      "I'm doing the thing.\n"
     ]
    },
    {
     "name": "stderr",
     "output_type": "stream",
     "text": [
      " 91%|█████████ | 643/710 [01:05<00:07,  9.48it/s]"
     ]
    },
    {
     "name": "stdout",
     "output_type": "stream",
     "text": [
      "bone-hup-119\n",
      "Does this patient have T2 available? True\n",
      "I'm doing the thing.\n",
      "bone-china-215\n",
      "Does this patient have T2 available? True\n",
      "I'm doing the thing.\n",
      "bone-penn-643\n",
      "Does this patient have T2 available? True\n",
      "I'm doing the thing.\n"
     ]
    },
    {
     "name": "stderr",
     "output_type": "stream",
     "text": [
      " 91%|█████████ | 647/710 [01:05<00:05, 10.98it/s]"
     ]
    },
    {
     "name": "stdout",
     "output_type": "stream",
     "text": [
      "bone-penn-537\n",
      "Does this patient have T2 available? True\n",
      "I'm doing the thing.\n",
      "bone-hup-113\n",
      "Does this patient have T2 available? True\n",
      "I'm doing the thing.\n",
      "bone-hup-144\n",
      "Does this patient have T2 available? True\n",
      "I'm doing the thing.\n",
      "bone-china-158\n",
      "Does this patient have T2 available? True\n",
      "I'm doing the thing.\n"
     ]
    },
    {
     "name": "stderr",
     "output_type": "stream",
     "text": [
      "\r",
      " 92%|█████████▏| 650/710 [01:05<00:04, 13.12it/s]"
     ]
    },
    {
     "name": "stdout",
     "output_type": "stream",
     "text": [
      "bone-penn-251\n",
      "Does this patient have T2 available? False\n",
      "T2 image unavailable\n",
      "bone-china-182\n",
      "Does this patient have T2 available? True\n",
      "I'm doing the thing.\n",
      "bone-penn-288\n",
      "Does this patient have T2 available? False\n",
      "T2 image unavailable\n",
      "bone-china-115\n",
      "Does this patient have T2 available? True\n",
      "I'm doing the thing.\n",
      "bone-penn-453\n",
      "Does this patient have T2 available? True\n",
      "I'm doing the thing.\n"
     ]
    },
    {
     "name": "stderr",
     "output_type": "stream",
     "text": [
      "\r",
      " 92%|█████████▏| 653/710 [01:05<00:04, 12.73it/s]"
     ]
    },
    {
     "name": "stdout",
     "output_type": "stream",
     "text": [
      "bone-china-138\n",
      "Does this patient have T2 available? True\n",
      "I'm doing the thing.\n",
      "bone-penn-529\n",
      "Does this patient have T2 available? True\n",
      "I'm doing the thing.\n"
     ]
    },
    {
     "name": "stderr",
     "output_type": "stream",
     "text": [
      "\r",
      " 92%|█████████▏| 655/710 [01:05<00:04, 11.48it/s]"
     ]
    },
    {
     "name": "stdout",
     "output_type": "stream",
     "text": [
      "bone-penn-233\n",
      "Does this patient have T2 available? True\n",
      "I'm doing the thing.\n",
      "bone-penn-590\n",
      "Does this patient have T2 available? True\n",
      "I'm doing the thing.\n"
     ]
    },
    {
     "name": "stderr",
     "output_type": "stream",
     "text": [
      " 93%|█████████▎| 660/710 [01:06<00:04, 11.99it/s]"
     ]
    },
    {
     "name": "stdout",
     "output_type": "stream",
     "text": [
      "bone-penn-295\n",
      "Does this patient have T2 available? True\n",
      "I'm doing the thing.\n",
      "bone-penn-613\n",
      "Does this patient have T2 available? True\n",
      "I'm doing the thing.\n",
      "bone-china-098\n",
      "Does this patient have T2 available? True\n",
      "I'm doing the thing.\n",
      "bone-penn-90\n",
      "Does this patient have T2 available? True\n",
      "I'm doing the thing.\n"
     ]
    },
    {
     "name": "stderr",
     "output_type": "stream",
     "text": [
      "\r",
      " 93%|█████████▎| 662/710 [01:06<00:03, 12.99it/s]"
     ]
    },
    {
     "name": "stdout",
     "output_type": "stream",
     "text": [
      "bone-penn-583\n",
      "Does this patient have T2 available? True\n",
      "I'm doing the thing.\n",
      "bone-penn-205\n",
      "Does this patient have T2 available? True\n",
      "I'm doing the thing.\n",
      "bone-hup-86\n",
      "Does this patient have T2 available? True\n",
      "I'm doing the thing.\n"
     ]
    },
    {
     "name": "stderr",
     "output_type": "stream",
     "text": [
      " 94%|█████████▍| 666/710 [01:07<00:07,  5.93it/s]"
     ]
    },
    {
     "name": "stdout",
     "output_type": "stream",
     "text": [
      "bone-penn-167\n",
      "Does this patient have T2 available? True\n",
      "I'm doing the thing.\n",
      "bone-hup-200\n",
      "Does this patient have T2 available? True\n",
      "I'm doing the thing.\n",
      "bone-china-106\n",
      "Does this patient have T2 available? True\n",
      "I'm doing the thing.\n"
     ]
    },
    {
     "name": "stderr",
     "output_type": "stream",
     "text": [
      "\r",
      " 94%|█████████▍| 668/710 [01:07<00:06,  6.54it/s]"
     ]
    },
    {
     "name": "stdout",
     "output_type": "stream",
     "text": [
      "bone-hup-106\n",
      "Does this patient have T2 available? True\n",
      "I'm doing the thing.\n",
      "bone-china-130\n",
      "Does this patient have T2 available? True\n",
      "I'm doing the thing.\n"
     ]
    },
    {
     "name": "stderr",
     "output_type": "stream",
     "text": [
      "\r",
      " 95%|█████████▍| 672/710 [01:08<00:04,  8.42it/s]"
     ]
    },
    {
     "name": "stdout",
     "output_type": "stream",
     "text": [
      "bone-china-172\n",
      "Does this patient have T2 available? True\n",
      "I'm doing the thing.\n",
      "bone-penn-230\n",
      "Does this patient have T2 available? False\n",
      "T2 image unavailable\n",
      "bone-china-153\n",
      "Does this patient have T2 available? True\n",
      "I'm doing the thing.\n",
      "bone-hup-240\n",
      "Does this patient have T2 available? True\n",
      "I'm doing the thing.\n"
     ]
    },
    {
     "name": "stderr",
     "output_type": "stream",
     "text": [
      "\r",
      " 95%|█████████▍| 674/710 [01:08<00:03,  9.15it/s]"
     ]
    },
    {
     "name": "stdout",
     "output_type": "stream",
     "text": [
      "bone-penn-173\n",
      "Does this patient have T2 available? True\n",
      "I'm doing the thing.\n",
      "bone-penn-396\n",
      "Does this patient have T2 available? True\n",
      "I'm doing the thing.\n"
     ]
    },
    {
     "name": "stderr",
     "output_type": "stream",
     "text": [
      "\r",
      " 95%|█████████▌| 676/710 [01:08<00:04,  7.24it/s]"
     ]
    },
    {
     "name": "stdout",
     "output_type": "stream",
     "text": [
      "bone-hup-118\n",
      "Does this patient have T2 available? True\n",
      "I'm doing the thing.\n",
      "bone-penn-481\n",
      "Does this patient have T2 available? True\n",
      "I'm doing the thing.\n"
     ]
    },
    {
     "name": "stderr",
     "output_type": "stream",
     "text": [
      "\r",
      " 95%|█████████▌| 678/710 [01:08<00:03,  8.66it/s]"
     ]
    },
    {
     "name": "stdout",
     "output_type": "stream",
     "text": [
      "bone-penn-463\n",
      "Does this patient have T2 available? True\n",
      "I'm doing the thing.\n",
      "bone-china-111\n",
      "Does this patient have T2 available? True\n",
      "I'm doing the thing.\n",
      "bone-penn-382\n",
      "Does this patient have T2 available? True\n",
      "I'm doing the thing.\n"
     ]
    },
    {
     "name": "stderr",
     "output_type": "stream",
     "text": [
      " 96%|█████████▌| 683/710 [01:09<00:02, 11.03it/s]"
     ]
    },
    {
     "name": "stdout",
     "output_type": "stream",
     "text": [
      "bone-penn-204\n",
      "Does this patient have T2 available? False\n",
      "T2 image unavailable\n",
      "bone-penn-267\n",
      "Does this patient have T2 available? False\n",
      "T2 image unavailable\n",
      "bone-hup-267\n",
      "Does this patient have T2 available? True\n",
      "I'm doing the thing.\n",
      "bone-penn-249\n",
      "Does this patient have T2 available? False\n",
      "T2 image unavailable\n",
      "bone-penn-488\n",
      "Does this patient have T2 available? True\n",
      "I'm doing the thing.\n",
      "bone-hup-100\n",
      "Does this patient have T2 available? True\n",
      "I'm doing the thing.\n"
     ]
    },
    {
     "name": "stderr",
     "output_type": "stream",
     "text": [
      " 97%|█████████▋| 688/710 [01:09<00:01, 11.88it/s]"
     ]
    },
    {
     "name": "stdout",
     "output_type": "stream",
     "text": [
      "bone-hup-211\n",
      "Does this patient have T2 available? True\n",
      "I'm doing the thing.\n",
      "bone-hup-57\n",
      "Does this patient have T2 available? False\n",
      "T2 image unavailable\n",
      "bone-penn-193\n",
      "Does this patient have T2 available? True\n",
      "I'm doing the thing.\n"
     ]
    },
    {
     "name": "stderr",
     "output_type": "stream",
     "text": [
      "\r",
      " 97%|█████████▋| 690/710 [01:09<00:01, 11.47it/s]"
     ]
    },
    {
     "name": "stdout",
     "output_type": "stream",
     "text": [
      "bone-china-234\n",
      "Does this patient have T2 available? True\n",
      "I'm doing the thing.\n",
      "bone-hup-154\n",
      "Does this patient have T2 available? True\n",
      "I'm doing the thing.\n",
      "bone-china-104\n",
      "Does this patient have T2 available? True\n",
      "I'm doing the thing.\n"
     ]
    },
    {
     "name": "stderr",
     "output_type": "stream",
     "text": [
      "\r",
      " 97%|█████████▋| 692/710 [01:09<00:01, 10.91it/s]"
     ]
    },
    {
     "name": "stdout",
     "output_type": "stream",
     "text": [
      "bone-penn-118\n",
      "Does this patient have T2 available? True\n",
      "I'm doing the thing.\n"
     ]
    },
    {
     "name": "stderr",
     "output_type": "stream",
     "text": [
      " 98%|█████████▊| 695/710 [01:10<00:02,  6.95it/s]"
     ]
    },
    {
     "name": "stdout",
     "output_type": "stream",
     "text": [
      "bone-penn-395\n",
      "Does this patient have T2 available? False\n",
      "T2 image unavailable\n",
      "bone-penn-373\n",
      "Does this patient have T2 available? True\n",
      "I'm doing the thing.\n",
      "bone-penn-122\n",
      "Does this patient have T2 available? True\n",
      "I'm doing the thing.\n",
      "bone-penn-250\n",
      "Does this patient have T2 available? True\n",
      "I'm doing the thing.\n"
     ]
    },
    {
     "name": "stderr",
     "output_type": "stream",
     "text": [
      " 99%|█████████▊| 700/710 [01:10<00:01,  8.88it/s]"
     ]
    },
    {
     "name": "stdout",
     "output_type": "stream",
     "text": [
      "\n",
      "################################################################################\n",
      "Exception occurred for: outcome_pos           1\n",
      "outcome_neg           1\n",
      "outcome_3             2\n",
      "sort                  -\n",
      "volume         0.140384\n",
      "Name: bone-penn-250, dtype: object\n",
      "index 286 is out of bounds for axis 0 with size 2\n",
      "T2 image unavailable\n",
      "Traceback (most recent call last):\n",
      "  File \"/home/user1/Documents/Bone-MRI/data_gen.py\", line 392, in generate_from_features\n",
      "    t2_masked = load_image(t2_image_file, t2_seg_file, verbose=verbose)\n",
      "  File \"/home/user1/Documents/Bone-MRI/data_gen.py\", line 331, in load_image\n",
      "    return [mask_image_percentile(image, segmentation, 100, a) for a in (0, 1, 2)]\n",
      "  File \"/home/user1/Documents/Bone-MRI/data_gen.py\", line 331, in <listcomp>\n",
      "    return [mask_image_percentile(image, segmentation, 100, a) for a in (0, 1, 2)]\n",
      "  File \"/home/user1/Documents/Bone-MRI/data_gen.py\", line 335, in mask_image_percentile\n",
      "    image, segmentation = select_slice(image, segmentation, plane, axis)\n",
      "  File \"/home/user1/Documents/Bone-MRI/segmentation.py\", line 40, in select_slice\n",
      "    image = axis_plane[axis](image, plane)\n",
      "  File \"/home/user1/Documents/Bone-MRI/segmentation.py\", line 13, in <lambda>\n",
      "    0: lambda image, plane : image[plane, :, :],\n",
      "IndexError: index 286 is out of bounds for axis 0 with size 2\n",
      "\n",
      "bone-hup-58\n",
      "Does this patient have T2 available? True\n",
      "I'm doing the thing.\n",
      "\n",
      "################################################################################\n",
      "Exception occurred for: outcome_pos           1\n",
      "outcome_neg           1\n",
      "outcome_3             2\n",
      "sort                  -\n",
      "volume         0.140097\n",
      "Name: bone-hup-58, dtype: object\n",
      "index 163 is out of bounds for axis 0 with size 2\n",
      "T2 image unavailable\n",
      "Traceback (most recent call last):\n",
      "  File \"/home/user1/Documents/Bone-MRI/data_gen.py\", line 392, in generate_from_features\n",
      "    t2_masked = load_image(t2_image_file, t2_seg_file, verbose=verbose)\n",
      "  File \"/home/user1/Documents/Bone-MRI/data_gen.py\", line 331, in load_image\n",
      "    return [mask_image_percentile(image, segmentation, 100, a) for a in (0, 1, 2)]\n",
      "  File \"/home/user1/Documents/Bone-MRI/data_gen.py\", line 331, in <listcomp>\n",
      "    return [mask_image_percentile(image, segmentation, 100, a) for a in (0, 1, 2)]\n",
      "  File \"/home/user1/Documents/Bone-MRI/data_gen.py\", line 335, in mask_image_percentile\n",
      "    image, segmentation = select_slice(image, segmentation, plane, axis)\n",
      "  File \"/home/user1/Documents/Bone-MRI/segmentation.py\", line 40, in select_slice\n",
      "    image = axis_plane[axis](image, plane)\n",
      "  File \"/home/user1/Documents/Bone-MRI/segmentation.py\", line 13, in <lambda>\n",
      "    0: lambda image, plane : image[plane, :, :],\n",
      "IndexError: index 163 is out of bounds for axis 0 with size 2\n",
      "\n",
      "bone-penn-365\n",
      "Does this patient have T2 available? False\n",
      "T2 image unavailable\n",
      "bone-penn-220\n",
      "Does this patient have T2 available? True\n",
      "I'm doing the thing.\n",
      "bone-penn-406\n",
      "Does this patient have T2 available? True\n",
      "I'm doing the thing.\n",
      "\n",
      "################################################################################\n",
      "Exception occurred for: outcome_pos          0\n",
      "outcome_neg          1\n",
      "outcome_3            1\n",
      "sort                 -\n",
      "volume         0.14011\n",
      "Name: bone-penn-406, dtype: object\n",
      "index 192 is out of bounds for axis 0 with size 2\n",
      "T2 image unavailable\n",
      "Traceback (most recent call last):\n",
      "  File \"/home/user1/Documents/Bone-MRI/data_gen.py\", line 392, in generate_from_features\n",
      "    t2_masked = load_image(t2_image_file, t2_seg_file, verbose=verbose)\n",
      "  File \"/home/user1/Documents/Bone-MRI/data_gen.py\", line 331, in load_image\n",
      "    return [mask_image_percentile(image, segmentation, 100, a) for a in (0, 1, 2)]\n",
      "  File \"/home/user1/Documents/Bone-MRI/data_gen.py\", line 331, in <listcomp>\n",
      "    return [mask_image_percentile(image, segmentation, 100, a) for a in (0, 1, 2)]\n",
      "  File \"/home/user1/Documents/Bone-MRI/data_gen.py\", line 335, in mask_image_percentile\n",
      "    image, segmentation = select_slice(image, segmentation, plane, axis)\n",
      "  File \"/home/user1/Documents/Bone-MRI/segmentation.py\", line 40, in select_slice\n",
      "    image = axis_plane[axis](image, plane)\n",
      "  File \"/home/user1/Documents/Bone-MRI/segmentation.py\", line 13, in <lambda>\n",
      "    0: lambda image, plane : image[plane, :, :],\n",
      "IndexError: index 192 is out of bounds for axis 0 with size 2\n",
      "\n",
      "bone-china-151\n",
      "Does this patient have T2 available? True\n",
      "I'm doing the thing.\n"
     ]
    },
    {
     "name": "stderr",
     "output_type": "stream",
     "text": [
      " 99%|█████████▉| 705/710 [01:11<00:00, 12.49it/s]"
     ]
    },
    {
     "name": "stdout",
     "output_type": "stream",
     "text": [
      "bone-penn-623\n",
      "Does this patient have T2 available? False\n",
      "T2 image unavailable\n",
      "bone-penn-186\n",
      "Does this patient have T2 available? False\n",
      "T2 image unavailable\n",
      "bone-penn-405\n",
      "Does this patient have T2 available? True\n",
      "I'm doing the thing.\n",
      "bone-penn-181\n",
      "Does this patient have T2 available? True\n",
      "I'm doing the thing.\n",
      "bone-hup-93\n",
      "Does this patient have T2 available? True\n",
      "I'm doing the thing.\n"
     ]
    },
    {
     "name": "stderr",
     "output_type": "stream",
     "text": [
      "\r",
      "100%|█████████▉| 707/710 [01:11<00:00, 10.25it/s]"
     ]
    },
    {
     "name": "stdout",
     "output_type": "stream",
     "text": [
      "bone-hup-128\n",
      "Does this patient have T2 available? True\n",
      "I'm doing the thing.\n",
      "bone-penn-356\n",
      "Does this patient have T2 available? True\n",
      "I'm doing the thing.\n"
     ]
    },
    {
     "name": "stderr",
     "output_type": "stream",
     "text": [
      "100%|██████████| 710/710 [01:11<00:00,  9.87it/s]\n",
      "  0%|          | 0/201 [00:00<?, ?it/s]"
     ]
    },
    {
     "name": "stdout",
     "output_type": "stream",
     "text": [
      "bone-china-057\n",
      "Does this patient have T2 available? True\n",
      "I'm doing the thing.\n",
      "bone-penn-108\n",
      "Does this patient have T2 available? True\n",
      "I'm doing the thing.\n"
     ]
    },
    {
     "name": "stderr",
     "output_type": "stream",
     "text": [
      "  1%|          | 2/201 [00:00<00:43,  4.59it/s]"
     ]
    },
    {
     "name": "stdout",
     "output_type": "stream",
     "text": [
      "bone-hup-305\n",
      "Does this patient have T2 available? True\n",
      "I'm doing the thing.\n",
      "bone-penn-505\n",
      "Does this patient have T2 available? True\n",
      "I'm doing the thing.\n"
     ]
    },
    {
     "name": "stderr",
     "output_type": "stream",
     "text": [
      "\r",
      "  1%|▏         | 3/201 [00:00<00:41,  4.73it/s]"
     ]
    },
    {
     "name": "stdout",
     "output_type": "stream",
     "text": [
      "bone-hup-264\n",
      "Does this patient have T2 available? False\n",
      "T2 image unavailable\n",
      "bone-penn-91\n",
      "Does this patient have T2 available? True\n",
      "I'm doing the thing.\n",
      "bone-penn-151\n",
      "Does this patient have T2 available? True\n",
      "I'm doing the thing.\n"
     ]
    },
    {
     "name": "stderr",
     "output_type": "stream",
     "text": [
      "  5%|▍         | 10/201 [00:01<00:25,  7.55it/s]"
     ]
    },
    {
     "name": "stdout",
     "output_type": "stream",
     "text": [
      "bone-china-052\n",
      "Does this patient have T2 available? True\n",
      "I'm doing the thing.\n",
      "bone-hup-159\n",
      "Does this patient have T2 available? False\n",
      "T2 image unavailable\n",
      "bone-penn-146\n",
      "Does this patient have T2 available? False\n",
      "T2 image unavailable\n",
      "bone-china-086\n",
      "Does this patient have T2 available? True\n",
      "I'm doing the thing.\n",
      "bone-penn-156\n",
      "Does this patient have T2 available? True\n",
      "I'm doing the thing.\n",
      "bone-china-012\n",
      "Does this patient have T2 available? True\n",
      "I'm doing the thing.\n"
     ]
    },
    {
     "name": "stderr",
     "output_type": "stream",
     "text": [
      "\r",
      "  6%|▌         | 12/201 [00:01<00:21,  8.72it/s]"
     ]
    },
    {
     "name": "stdout",
     "output_type": "stream",
     "text": [
      "bone-china-083\n",
      "Does this patient have T2 available? True\n",
      "I'm doing the thing.\n",
      "bone-penn-152\n",
      "Does this patient have T2 available? True\n",
      "I'm doing the thing.\n"
     ]
    },
    {
     "name": "stderr",
     "output_type": "stream",
     "text": [
      "  8%|▊         | 16/201 [00:01<00:20,  9.16it/s]"
     ]
    },
    {
     "name": "stdout",
     "output_type": "stream",
     "text": [
      "bone-penn-150\n",
      "Does this patient have T2 available? True\n",
      "I'm doing the thing.\n",
      "bone-china-028\n",
      "Does this patient have T2 available? True\n",
      "I'm doing the thing.\n",
      "bone-penn-457\n",
      "Does this patient have T2 available? True\n",
      "I'm doing the thing.\n"
     ]
    },
    {
     "name": "stderr",
     "output_type": "stream",
     "text": [
      "\r",
      "  9%|▉         | 18/201 [00:01<00:18,  9.81it/s]"
     ]
    },
    {
     "name": "stdout",
     "output_type": "stream",
     "text": [
      "bone-china-011\n",
      "Does this patient have T2 available? True\n",
      "I'm doing the thing.\n",
      "bone-penn-503\n",
      "Does this patient have T2 available? True\n",
      "I'm doing the thing.\n",
      "bone-penn-573\n",
      "Does this patient have T2 available? False\n",
      "T2 image unavailable\n",
      "bone-china-024\n",
      "Does this patient have T2 available? True\n",
      "I'm doing the thing.\n",
      "bone-penn-312\n",
      "Does this patient have T2 available? True\n",
      "I'm doing the thing.\n"
     ]
    },
    {
     "name": "stderr",
     "output_type": "stream",
     "text": [
      " 12%|█▏        | 24/201 [00:02<00:14, 11.84it/s]"
     ]
    },
    {
     "name": "stdout",
     "output_type": "stream",
     "text": [
      "bone-china-070\n",
      "Does this patient have T2 available? True\n",
      "I'm doing the thing.\n",
      "bone-china-046\n",
      "Does this patient have T2 available? True\n",
      "I'm doing the thing.\n",
      "bone-penn-157\n",
      "Does this patient have T2 available? True\n",
      "I'm doing the thing.\n",
      "bone-hup-295\n",
      "Does this patient have T2 available? True\n",
      "I'm doing the thing.\n"
     ]
    },
    {
     "name": "stderr",
     "output_type": "stream",
     "text": [
      " 14%|█▍        | 28/201 [00:02<00:16, 10.54it/s]"
     ]
    },
    {
     "name": "stdout",
     "output_type": "stream",
     "text": [
      "bone-hup-313\n",
      "Does this patient have T2 available? True\n",
      "I'm doing the thing.\n",
      "bone-penn-351\n",
      "Does this patient have T2 available? False\n",
      "T2 image unavailable\n",
      "bone-penn-553\n",
      "Does this patient have T2 available? True\n",
      "I'm doing the thing.\n"
     ]
    },
    {
     "name": "stderr",
     "output_type": "stream",
     "text": [
      "\r",
      " 15%|█▍        | 30/201 [00:02<00:17,  9.63it/s]"
     ]
    },
    {
     "name": "stdout",
     "output_type": "stream",
     "text": [
      "bone-hup-294\n",
      "Does this patient have T2 available? True\n",
      "I'm doing the thing.\n",
      "bone-hup-140\n",
      "Does this patient have T2 available? False\n",
      "T2 image unavailable\n",
      "bone-hup-319\n",
      "Does this patient have T2 available? False\n",
      "T2 image unavailable\n",
      "bone-penn-135\n",
      "Does this patient have T2 available? True\n",
      "I'm doing the thing.\n",
      "bone-penn-352\n",
      "Does this patient have T2 available? False\n",
      "T2 image unavailable\n",
      "bone-china-088\n",
      "Does this patient have T2 available? True\n",
      "I'm doing the thing.\n"
     ]
    },
    {
     "name": "stderr",
     "output_type": "stream",
     "text": [
      "\r",
      " 17%|█▋        | 35/201 [00:03<00:13, 11.86it/s]"
     ]
    },
    {
     "name": "stdout",
     "output_type": "stream",
     "text": [
      "bone-china-051\n",
      "Does this patient have T2 available? True\n",
      "I'm doing the thing.\n",
      "bone-hup-147\n",
      "Does this patient have T2 available? True\n",
      "I'm doing the thing.\n"
     ]
    },
    {
     "name": "stderr",
     "output_type": "stream",
     "text": [
      " 19%|█▉        | 39/201 [00:03<00:15, 10.15it/s]"
     ]
    },
    {
     "name": "stdout",
     "output_type": "stream",
     "text": [
      "bone-china-063\n",
      "Does this patient have T2 available? True\n",
      "I'm doing the thing.\n",
      "bone-china-076\n",
      "Does this patient have T2 available? True\n",
      "I'm doing the thing.\n",
      "bone-penn-561\n",
      "Does this patient have T2 available? True\n",
      "I'm doing the thing.\n"
     ]
    },
    {
     "name": "stderr",
     "output_type": "stream",
     "text": [
      "\r",
      " 20%|██        | 41/201 [00:03<00:15, 10.61it/s]"
     ]
    },
    {
     "name": "stdout",
     "output_type": "stream",
     "text": [
      "bone-penn-349\n",
      "Does this patient have T2 available? True\n",
      "I'm doing the thing.\n",
      "bone-penn-506\n",
      "Does this patient have T2 available? True\n",
      "I'm doing the thing.\n"
     ]
    },
    {
     "name": "stderr",
     "output_type": "stream",
     "text": [
      "\r",
      " 21%|██▏       | 43/201 [00:04<00:17,  8.80it/s]"
     ]
    },
    {
     "name": "stdout",
     "output_type": "stream",
     "text": [
      "bone-hup-329\n",
      "Does this patient have T2 available? True\n",
      "I'm doing the thing.\n",
      "bone-china-039\n",
      "Does this patient have T2 available? True\n",
      "I'm doing the thing.\n"
     ]
    },
    {
     "name": "stderr",
     "output_type": "stream",
     "text": [
      "\r",
      " 22%|██▏       | 45/201 [00:04<00:16,  9.46it/s]"
     ]
    },
    {
     "name": "stdout",
     "output_type": "stream",
     "text": [
      "bone-penn-550\n",
      "Does this patient have T2 available? True\n",
      "I'm doing the thing.\n",
      "bone-penn-285\n",
      "Does this patient have T2 available? True\n",
      "I'm doing the thing.\n"
     ]
    },
    {
     "name": "stderr",
     "output_type": "stream",
     "text": [
      "\r",
      " 23%|██▎       | 47/201 [00:04<00:18,  8.46it/s]"
     ]
    },
    {
     "name": "stdout",
     "output_type": "stream",
     "text": [
      "bone-penn-139\n",
      "Does this patient have T2 available? True\n",
      "I'm doing the thing.\n",
      "bone-penn-159\n",
      "Does this patient have T2 available? True\n",
      "I'm doing the thing.\n",
      "bone-china-079\n",
      "Does this patient have T2 available? True\n",
      "I'm doing the thing.\n"
     ]
    },
    {
     "name": "stderr",
     "output_type": "stream",
     "text": [
      " 25%|██▌       | 51/201 [00:04<00:14, 10.50it/s]"
     ]
    },
    {
     "name": "stdout",
     "output_type": "stream",
     "text": [
      "bone-hup-139\n",
      "Does this patient have T2 available? True\n",
      "I'm doing the thing.\n",
      "bone-china-078\n",
      "Does this patient have T2 available? True\n",
      "I'm doing the thing.\n",
      "bone-penn-281\n",
      "Does this patient have T2 available? True\n",
      "I'm doing the thing.\n"
     ]
    },
    {
     "name": "stderr",
     "output_type": "stream",
     "text": [
      " 27%|██▋       | 55/201 [00:05<00:11, 13.19it/s]"
     ]
    },
    {
     "name": "stdout",
     "output_type": "stream",
     "text": [
      "bone-penn-473\n",
      "Does this patient have T2 available? True\n",
      "I'm doing the thing.\n",
      "bone-hup-287\n",
      "Does this patient have T2 available? True\n",
      "I'm doing the thing.\n",
      "bone-china-217\n",
      "Does this patient have T2 available? True\n",
      "I'm doing the thing.\n",
      "bone-penn-458\n",
      "Does this patient have T2 available? True\n",
      "I'm doing the thing.\n"
     ]
    },
    {
     "name": "stderr",
     "output_type": "stream",
     "text": [
      " 30%|███       | 61/201 [00:05<00:10, 13.96it/s]"
     ]
    },
    {
     "name": "stdout",
     "output_type": "stream",
     "text": [
      "bone-penn-224\n",
      "Does this patient have T2 available? True\n",
      "I'm doing the thing.\n",
      "bone-penn-93\n",
      "Does this patient have T2 available? True\n",
      "I'm doing the thing.\n",
      "bone-china-137\n",
      "Does this patient have T2 available? True\n",
      "I'm doing the thing.\n",
      "bone-penn-534\n",
      "Does this patient have T2 available? False\n",
      "T2 image unavailable\n",
      "bone-penn-379\n",
      "Does this patient have T2 available? True\n",
      "I'm doing the thing.\n",
      "bone-penn-286\n",
      "Does this patient have T2 available? True\n",
      "I'm doing the thing.\n",
      "bone-hup-111\n",
      "Does this patient have T2 available? True\n",
      "I'm doing the thing.\n"
     ]
    },
    {
     "name": "stderr",
     "output_type": "stream",
     "text": [
      " 32%|███▏      | 65/201 [00:05<00:10, 12.90it/s]"
     ]
    },
    {
     "name": "stdout",
     "output_type": "stream",
     "text": [
      "bone-china-159\n",
      "Does this patient have T2 available? True\n",
      "I'm doing the thing.\n",
      "bone-china-163\n",
      "Does this patient have T2 available? True\n",
      "I'm doing the thing.\n",
      "bone-penn-200\n",
      "Does this patient have T2 available? True\n",
      "I'm doing the thing.\n",
      "bone-penn-616\n",
      "Does this patient have T2 available? True\n",
      "I'm doing the thing.\n"
     ]
    },
    {
     "name": "stderr",
     "output_type": "stream",
     "text": [
      " 34%|███▍      | 69/201 [00:06<00:09, 14.05it/s]"
     ]
    },
    {
     "name": "stdout",
     "output_type": "stream",
     "text": [
      "bone-hup-75\n",
      "Does this patient have T2 available? False\n",
      "T2 image unavailable\n",
      "bone-penn-372\n",
      "Does this patient have T2 available? True\n",
      "I'm doing the thing.\n",
      "bone-hup-61\n",
      "Does this patient have T2 available? True\n",
      "I'm doing the thing.\n",
      "bone-hup-209\n",
      "Does this patient have T2 available? False\n",
      "T2 image unavailable\n",
      "bone-china-187\n",
      "Does this patient have T2 available? True\n",
      "I'm doing the thing.\n"
     ]
    },
    {
     "name": "stderr",
     "output_type": "stream",
     "text": [
      "\r",
      " 36%|███▌      | 72/201 [00:06<00:07, 16.37it/s]"
     ]
    },
    {
     "name": "stdout",
     "output_type": "stream",
     "text": [
      "bone-penn-496\n",
      "Does this patient have T2 available? True\n",
      "I'm doing the thing.\n"
     ]
    },
    {
     "name": "stderr",
     "output_type": "stream",
     "text": [
      "\r",
      " 37%|███▋      | 74/201 [00:06<00:11, 11.27it/s]"
     ]
    },
    {
     "name": "stdout",
     "output_type": "stream",
     "text": [
      "bone-penn-80\n",
      "Does this patient have T2 available? True\n",
      "I'm doing the thing.\n",
      "bone-penn-538\n",
      "Does this patient have T2 available? True\n",
      "I'm doing the thing.\n"
     ]
    },
    {
     "name": "stderr",
     "output_type": "stream",
     "text": [
      "\r",
      " 38%|███▊      | 76/201 [00:06<00:13,  9.52it/s]"
     ]
    },
    {
     "name": "stdout",
     "output_type": "stream",
     "text": [
      "bone-china-139\n",
      "Does this patient have T2 available? True\n",
      "I'm doing the thing.\n",
      "bone-china-184\n",
      "Does this patient have T2 available? True\n",
      "I'm doing the thing.\n",
      "bone-penn-86\n",
      "Does this patient have T2 available? True\n",
      "I'm doing the thing.\n"
     ]
    },
    {
     "name": "stderr",
     "output_type": "stream",
     "text": [
      " 40%|███▉      | 80/201 [00:07<00:11, 10.77it/s]"
     ]
    },
    {
     "name": "stdout",
     "output_type": "stream",
     "text": [
      "bone-china-236\n",
      "Does this patient have T2 available? True\n",
      "I'm doing the thing.\n",
      "bone-china-176\n",
      "Does this patient have T2 available? True\n",
      "I'm doing the thing.\n",
      "bone-china-178\n",
      "Does this patient have T2 available? False\n",
      "T2 image unavailable\n",
      "bone-penn-179\n",
      "Does this patient have T2 available? True\n",
      "I'm doing the thing.\n"
     ]
    },
    {
     "name": "stderr",
     "output_type": "stream",
     "text": [
      "\r",
      " 41%|████      | 82/201 [00:07<00:11, 10.58it/s]"
     ]
    },
    {
     "name": "stdout",
     "output_type": "stream",
     "text": [
      "bone-hup-68\n",
      "Does this patient have T2 available? True\n",
      "I'm doing the thing.\n",
      "bone-hup-160\n",
      "Does this patient have T2 available? True\n",
      "I'm doing the thing.\n"
     ]
    },
    {
     "name": "stderr",
     "output_type": "stream",
     "text": [
      " 43%|████▎     | 86/201 [00:07<00:11, 10.38it/s]"
     ]
    },
    {
     "name": "stdout",
     "output_type": "stream",
     "text": [
      "bone-penn-255\n",
      "Does this patient have T2 available? True\n",
      "I'm doing the thing.\n",
      "bone-penn-425\n",
      "Does this patient have T2 available? False\n",
      "T2 image unavailable\n",
      "bone-penn-184\n",
      "Does this patient have T2 available? True\n",
      "I'm doing the thing.\n",
      "bone-china-116\n",
      "Does this patient have T2 available? True\n",
      "I'm doing the thing.\n"
     ]
    },
    {
     "name": "stderr",
     "output_type": "stream",
     "text": [
      " 46%|████▌     | 92/201 [00:07<00:07, 14.54it/s]"
     ]
    },
    {
     "name": "stdout",
     "output_type": "stream",
     "text": [
      "bone-china-150\n",
      "Does this patient have T2 available? True\n",
      "I'm doing the thing.\n",
      "bone-penn-114\n",
      "Does this patient have T2 available? False\n",
      "T2 image unavailable\n",
      "bone-hup-224\n",
      "Does this patient have T2 available? True\n",
      "I'm doing the thing.\n",
      "bone-china-204\n",
      "Does this patient have T2 available? True\n",
      "I'm doing the thing.\n",
      "bone-hup-123\n",
      "Does this patient have T2 available? True\n",
      "I'm doing the thing.\n"
     ]
    },
    {
     "name": "stderr",
     "output_type": "stream",
     "text": [
      "\r",
      " 47%|████▋     | 94/201 [00:08<00:08, 12.93it/s]"
     ]
    },
    {
     "name": "stdout",
     "output_type": "stream",
     "text": [
      "bone-china-203\n",
      "Does this patient have T2 available? True\n",
      "I'm doing the thing.\n",
      "bone-penn-83\n",
      "Does this patient have T2 available? True\n",
      "I'm doing the thing.\n",
      "bone-china-235\n",
      "Does this patient have T2 available? True\n",
      "I'm doing the thing.\n"
     ]
    },
    {
     "name": "stderr",
     "output_type": "stream",
     "text": [
      " 49%|████▉     | 98/201 [00:08<00:08, 12.63it/s]"
     ]
    },
    {
     "name": "stdout",
     "output_type": "stream",
     "text": [
      "bone-penn-432\n",
      "Does this patient have T2 available? True\n",
      "I'm doing the thing.\n",
      "bone-penn-654\n",
      "Does this patient have T2 available? True\n",
      "I'm doing the thing.\n",
      "bone-penn-110\n",
      "Does this patient have T2 available? True\n",
      "I'm doing the thing.\n",
      "bone-penn-607\n",
      "Does this patient have T2 available? True\n",
      "I'm doing the thing.\n"
     ]
    },
    {
     "name": "stderr",
     "output_type": "stream",
     "text": [
      "\r",
      " 50%|████▉     | 100/201 [00:08<00:12,  7.78it/s]"
     ]
    },
    {
     "name": "stdout",
     "output_type": "stream",
     "text": [
      "bone-penn-208\n",
      "Does this patient have T2 available? True\n",
      "I'm doing the thing.\n",
      "bone-penn-652\n",
      "Does this patient have T2 available? True\n",
      "I'm doing the thing.\n"
     ]
    },
    {
     "name": "stderr",
     "output_type": "stream",
     "text": [
      "\r",
      " 51%|█████     | 102/201 [00:09<00:12,  7.83it/s]"
     ]
    },
    {
     "name": "stdout",
     "output_type": "stream",
     "text": [
      "bone-penn-223\n",
      "Does this patient have T2 available? True\n",
      "I'm doing the thing.\n"
     ]
    },
    {
     "name": "stderr",
     "output_type": "stream",
     "text": [
      "\r",
      " 52%|█████▏    | 104/201 [00:09<00:13,  7.09it/s]"
     ]
    },
    {
     "name": "stdout",
     "output_type": "stream",
     "text": [
      "bone-china-149\n",
      "Does this patient have T2 available? True\n",
      "I'm doing the thing.\n",
      "bone-penn-472\n",
      "Does this patient have T2 available? False\n",
      "T2 image unavailable\n",
      "bone-hup-263\n",
      "Does this patient have T2 available? True\n",
      "I'm doing the thing.\n",
      "bone-penn-293\n",
      "Does this patient have T2 available? True\n",
      "I'm doing the thing.\n",
      "bone-hup-205\n",
      "Does this patient have T2 available? True\n",
      "I'm doing the thing.\n"
     ]
    },
    {
     "name": "stderr",
     "output_type": "stream",
     "text": [
      "\r",
      " 54%|█████▎    | 108/201 [00:09<00:10,  8.46it/s]"
     ]
    },
    {
     "name": "stdout",
     "output_type": "stream",
     "text": [
      "bone-china-107\n",
      "Does this patient have T2 available? True\n",
      "I'm doing the thing.\n",
      "bone-hup-126\n",
      "Does this patient have T2 available? True\n",
      "I'm doing the thing.\n"
     ]
    },
    {
     "name": "stderr",
     "output_type": "stream",
     "text": [
      " 56%|█████▌    | 112/201 [00:10<00:09,  9.56it/s]"
     ]
    },
    {
     "name": "stdout",
     "output_type": "stream",
     "text": [
      "bone-china-133\n",
      "Does this patient have T2 available? True\n",
      "I'm doing the thing.\n",
      "bone-china-118\n",
      "Does this patient have T2 available? True\n",
      "I'm doing the thing.\n",
      "bone-hup-56\n",
      "Does this patient have T2 available? True\n",
      "I'm doing the thing.\n"
     ]
    },
    {
     "name": "stderr",
     "output_type": "stream",
     "text": [
      " 58%|█████▊    | 116/201 [00:10<00:07, 12.02it/s]"
     ]
    },
    {
     "name": "stdout",
     "output_type": "stream",
     "text": [
      "bone-penn-579\n",
      "Does this patient have T2 available? True\n",
      "I'm doing the thing.\n",
      "bone-penn-206\n",
      "Does this patient have T2 available? True\n",
      "I'm doing the thing.\n",
      "bone-penn-297\n",
      "Does this patient have T2 available? True\n",
      "I'm doing the thing.\n",
      "bone-penn-594\n",
      "Does this patient have T2 available? True\n",
      "I'm doing the thing.\n"
     ]
    },
    {
     "name": "stderr",
     "output_type": "stream",
     "text": [
      "\r",
      " 59%|█████▉    | 119/201 [00:10<00:05, 14.27it/s]"
     ]
    },
    {
     "name": "stdout",
     "output_type": "stream",
     "text": [
      "bone-penn-545\n",
      "Does this patient have T2 available? False\n",
      "T2 image unavailable\n",
      "bone-china-241\n",
      "Does this patient have T2 available? True\n",
      "I'm doing the thing.\n",
      "bone-hup-98\n",
      "Does this patient have T2 available? True\n",
      "I'm doing the thing.\n",
      "bone-penn-121\n",
      "Does this patient have T2 available? False\n",
      "T2 image unavailable\n",
      "bone-penn-240\n",
      "Does this patient have T2 available? False\n",
      "T2 image unavailable\n",
      "bone-penn-125\n",
      "Does this patient have T2 available? True\n",
      "I'm doing the thing.\n"
     ]
    },
    {
     "name": "stderr",
     "output_type": "stream",
     "text": [
      " 62%|██████▏   | 125/201 [00:10<00:05, 14.15it/s]"
     ]
    },
    {
     "name": "stdout",
     "output_type": "stream",
     "text": [
      "bone-penn-99\n",
      "Does this patient have T2 available? True\n",
      "I'm doing the thing.\n",
      "bone-penn-201\n",
      "Does this patient have T2 available? False\n",
      "T2 image unavailable\n",
      "bone-hup-188\n",
      "Does this patient have T2 available? True\n",
      "I'm doing the thing.\n"
     ]
    },
    {
     "name": "stderr",
     "output_type": "stream",
     "text": [
      "\r",
      " 63%|██████▎   | 127/201 [00:11<00:06, 10.61it/s]"
     ]
    },
    {
     "name": "stdout",
     "output_type": "stream",
     "text": [
      "bone-penn-278\n",
      "Does this patient have T2 available? True\n",
      "I'm doing the thing.\n",
      "bone-penn-478\n",
      "Does this patient have T2 available? True\n",
      "I'm doing the thing.\n"
     ]
    },
    {
     "name": "stderr",
     "output_type": "stream",
     "text": [
      "\r",
      " 64%|██████▍   | 129/201 [00:11<00:06, 10.44it/s]"
     ]
    },
    {
     "name": "stdout",
     "output_type": "stream",
     "text": [
      "bone-penn-291\n",
      "Does this patient have T2 available? True\n",
      "I'm doing the thing.\n",
      "bone-penn-275\n",
      "Does this patient have T2 available? True\n",
      "I'm doing the thing.\n",
      "bone-hup-115\n",
      "Does this patient have T2 available? True\n",
      "I'm doing the thing.\n"
     ]
    },
    {
     "name": "stderr",
     "output_type": "stream",
     "text": [
      " 67%|██████▋   | 134/201 [00:11<00:06, 10.86it/s]"
     ]
    },
    {
     "name": "stdout",
     "output_type": "stream",
     "text": [
      "bone-hup-223\n",
      "Does this patient have T2 available? False\n",
      "T2 image unavailable\n",
      "bone-hup-213\n",
      "Does this patient have T2 available? True\n",
      "I'm doing the thing.\n",
      "bone-hup-138\n",
      "Does this patient have T2 available? True\n",
      "I'm doing the thing.\n",
      "bone-penn-516\n",
      "Does this patient have T2 available? True\n",
      "I'm doing the thing.\n",
      "bone-penn-609\n",
      "Does this patient have T2 available? True\n",
      "I'm doing the thing.\n"
     ]
    },
    {
     "name": "stderr",
     "output_type": "stream",
     "text": [
      "\r",
      " 68%|██████▊   | 136/201 [00:12<00:08,  7.73it/s]"
     ]
    },
    {
     "name": "stdout",
     "output_type": "stream",
     "text": [
      "bone-hup-129\n",
      "Does this patient have T2 available? True\n",
      "I'm doing the thing.\n"
     ]
    },
    {
     "name": "stderr",
     "output_type": "stream",
     "text": [
      "\r",
      " 69%|██████▊   | 138/201 [00:12<00:08,  7.10it/s]"
     ]
    },
    {
     "name": "stdout",
     "output_type": "stream",
     "text": [
      "bone-hup-72\n",
      "Does this patient have T2 available? True\n",
      "I'm doing the thing.\n",
      "bone-hup-173\n",
      "Does this patient have T2 available? True\n",
      "I'm doing the thing.\n"
     ]
    },
    {
     "name": "stderr",
     "output_type": "stream",
     "text": [
      " 70%|██████▉   | 140/201 [00:13<00:10,  5.98it/s]"
     ]
    },
    {
     "name": "stdout",
     "output_type": "stream",
     "text": [
      "bone-penn-106\n",
      "Does this patient have T2 available? True\n",
      "I'm doing the thing.\n",
      "bone-penn-602\n",
      "Does this patient have T2 available? True\n",
      "I'm doing the thing.\n"
     ]
    },
    {
     "name": "stderr",
     "output_type": "stream",
     "text": [
      "\r",
      " 70%|███████   | 141/201 [00:13<00:10,  5.87it/s]"
     ]
    },
    {
     "name": "stdout",
     "output_type": "stream",
     "text": [
      "bone-penn-487\n",
      "Does this patient have T2 available? True\n",
      "I'm doing the thing.\n"
     ]
    },
    {
     "name": "stderr",
     "output_type": "stream",
     "text": [
      " 71%|███████   | 143/201 [00:13<00:10,  5.32it/s]"
     ]
    },
    {
     "name": "stdout",
     "output_type": "stream",
     "text": [
      "bone-penn-207\n",
      "Does this patient have T2 available? True\n",
      "I'm doing the thing.\n",
      "bone-hup-241\n",
      "Does this patient have T2 available? False\n",
      "T2 image unavailable\n",
      "bone-penn-380\n",
      "Does this patient have T2 available? True\n",
      "I'm doing the thing.\n"
     ]
    },
    {
     "name": "stderr",
     "output_type": "stream",
     "text": [
      " 73%|███████▎  | 147/201 [00:13<00:06,  8.05it/s]"
     ]
    },
    {
     "name": "stdout",
     "output_type": "stream",
     "text": [
      "bone-penn-370\n",
      "Does this patient have T2 available? True\n",
      "I'm doing the thing.\n",
      "bone-china-161\n",
      "Does this patient have T2 available? True\n",
      "I'm doing the thing.\n",
      "bone-penn-378\n",
      "Does this patient have T2 available? True\n",
      "I'm doing the thing.\n"
     ]
    },
    {
     "name": "stderr",
     "output_type": "stream",
     "text": [
      "\r",
      " 74%|███████▍  | 149/201 [00:14<00:06,  8.33it/s]"
     ]
    },
    {
     "name": "stdout",
     "output_type": "stream",
     "text": [
      "bone-china-117\n",
      "Does this patient have T2 available? True\n",
      "I'm doing the thing.\n",
      "bone-hup-53\n",
      "Does this patient have T2 available? True\n",
      "I'm doing the thing.\n",
      "bone-penn-120\n",
      "Does this patient have T2 available? True\n",
      "I'm doing the thing.\n"
     ]
    },
    {
     "name": "stderr",
     "output_type": "stream",
     "text": [
      "\r",
      " 75%|███████▌  | 151/201 [00:14<00:05,  9.10it/s]"
     ]
    },
    {
     "name": "stdout",
     "output_type": "stream",
     "text": [
      "bone-penn-231\n",
      "Does this patient have T2 available? True\n",
      "I'm doing the thing.\n"
     ]
    },
    {
     "name": "stderr",
     "output_type": "stream",
     "text": [
      "\r",
      " 76%|███████▌  | 153/201 [00:14<00:06,  7.23it/s]"
     ]
    },
    {
     "name": "stdout",
     "output_type": "stream",
     "text": [
      "bone-hup-48\n",
      "Does this patient have T2 available? True\n",
      "I'm doing the thing.\n",
      "bone-penn-211\n",
      "Does this patient have T2 available? True\n",
      "I'm doing the thing.\n"
     ]
    },
    {
     "name": "stderr",
     "output_type": "stream",
     "text": [
      " 78%|███████▊  | 157/201 [00:15<00:05,  7.51it/s]"
     ]
    },
    {
     "name": "stdout",
     "output_type": "stream",
     "text": [
      "bone-china-216\n",
      "Does this patient have T2 available? True\n",
      "I'm doing the thing.\n",
      "bone-penn-593\n",
      "Does this patient have T2 available? True\n",
      "I'm doing the thing.\n",
      "bone-penn-388\n",
      "Does this patient have T2 available? True\n",
      "I'm doing the thing.\n",
      "bone-china-131\n",
      "Does this patient have T2 available? True\n",
      "I'm doing the thing.\n",
      "bone-penn-277\n",
      "Does this patient have T2 available? True\n",
      "I'm doing the thing.\n"
     ]
    },
    {
     "name": "stderr",
     "output_type": "stream",
     "text": [
      " 80%|████████  | 161/201 [00:15<00:04,  8.07it/s]"
     ]
    },
    {
     "name": "stdout",
     "output_type": "stream",
     "text": [
      "bone-china-145\n",
      "Does this patient have T2 available? True\n",
      "I'm doing the thing.\n",
      "bone-penn-606\n",
      "Does this patient have T2 available? True\n",
      "I'm doing the thing.\n"
     ]
    },
    {
     "name": "stderr",
     "output_type": "stream",
     "text": [
      "\r",
      " 82%|████████▏ | 164/201 [00:15<00:03,  9.81it/s]"
     ]
    },
    {
     "name": "stdout",
     "output_type": "stream",
     "text": [
      "bone-penn-235\n",
      "Does this patient have T2 available? False\n",
      "T2 image unavailable\n",
      "bone-hup-166\n",
      "Does this patient have T2 available? True\n",
      "I'm doing the thing.\n",
      "bone-china-135\n",
      "Does this patient have T2 available? True\n",
      "I'm doing the thing.\n",
      "bone-hup-214\n",
      "Does this patient have T2 available? True\n",
      "I'm doing the thing.\n",
      "bone-hup-186\n",
      "Does this patient have T2 available? True\n",
      "I'm doing the thing.\n"
     ]
    },
    {
     "name": "stderr",
     "output_type": "stream",
     "text": [
      "\r",
      " 83%|████████▎ | 166/201 [00:16<00:04,  8.57it/s]"
     ]
    },
    {
     "name": "stdout",
     "output_type": "stream",
     "text": [
      "bone-hup-54\n",
      "Does this patient have T2 available? True\n",
      "I'm doing the thing.\n",
      "bone-penn-577\n",
      "Does this patient have T2 available? True\n",
      "I'm doing the thing.\n"
     ]
    },
    {
     "name": "stderr",
     "output_type": "stream",
     "text": [
      " 85%|████████▍ | 170/201 [00:16<00:03,  8.59it/s]"
     ]
    },
    {
     "name": "stdout",
     "output_type": "stream",
     "text": [
      "bone-hup-60\n",
      "Does this patient have T2 available? True\n",
      "I'm doing the thing.\n",
      "bone-hup-239\n",
      "Does this patient have T2 available? True\n",
      "I'm doing the thing.\n",
      "bone-penn-247\n",
      "Does this patient have T2 available? True\n",
      "I'm doing the thing.\n"
     ]
    },
    {
     "name": "stderr",
     "output_type": "stream",
     "text": [
      "\r",
      " 86%|████████▌ | 172/201 [00:16<00:03,  9.46it/s]"
     ]
    },
    {
     "name": "stdout",
     "output_type": "stream",
     "text": [
      "bone-penn-651\n",
      "Does this patient have T2 available? True\n",
      "I'm doing the thing.\n",
      "bone-penn-180\n",
      "Does this patient have T2 available? True\n",
      "I'm doing the thing.\n",
      "bone-penn-104\n",
      "Does this patient have T2 available? True\n",
      "I'm doing the thing.\n"
     ]
    },
    {
     "name": "stderr",
     "output_type": "stream",
     "text": [
      "\r",
      " 87%|████████▋ | 174/201 [00:16<00:02, 10.78it/s]"
     ]
    },
    {
     "name": "stdout",
     "output_type": "stream",
     "text": [
      "bone-penn-280\n",
      "Does this patient have T2 available? True\n",
      "I'm doing the thing.\n",
      "bone-penn-536\n",
      "Does this patient have T2 available? True\n",
      "I'm doing the thing.\n"
     ]
    },
    {
     "name": "stderr",
     "output_type": "stream",
     "text": [
      " 89%|████████▊ | 178/201 [00:17<00:02, 10.59it/s]"
     ]
    },
    {
     "name": "stdout",
     "output_type": "stream",
     "text": [
      "bone-hup-246\n",
      "Does this patient have T2 available? True\n",
      "I'm doing the thing.\n",
      "bone-hup-279\n",
      "Does this patient have T2 available? True\n",
      "I'm doing the thing.\n",
      "bone-penn-542\n",
      "Does this patient have T2 available? True\n",
      "I'm doing the thing.\n"
     ]
    },
    {
     "name": "stderr",
     "output_type": "stream",
     "text": [
      " 91%|█████████ | 182/201 [00:17<00:01, 12.48it/s]"
     ]
    },
    {
     "name": "stdout",
     "output_type": "stream",
     "text": [
      "bone-hup-222\n",
      "Does this patient have T2 available? True\n",
      "I'm doing the thing.\n",
      "bone-penn-604\n",
      "Does this patient have T2 available? False\n",
      "T2 image unavailable\n",
      "bone-penn-175\n",
      "Does this patient have T2 available? True\n",
      "I'm doing the thing.\n",
      "bone-penn-571\n",
      "Does this patient have T2 available? True\n",
      "I'm doing the thing.\n"
     ]
    },
    {
     "name": "stderr",
     "output_type": "stream",
     "text": [
      " 93%|█████████▎| 186/201 [00:17<00:01, 11.95it/s]"
     ]
    },
    {
     "name": "stdout",
     "output_type": "stream",
     "text": [
      "bone-penn-290\n",
      "Does this patient have T2 available? True\n",
      "I'm doing the thing.\n",
      "bone-penn-198\n",
      "Does this patient have T2 available? True\n",
      "I'm doing the thing.\n",
      "bone-hup-171\n",
      "Does this patient have T2 available? True\n",
      "I'm doing the thing.\n",
      "bone-hup-229\n",
      "Does this patient have T2 available? True\n",
      "I'm doing the thing.\n"
     ]
    },
    {
     "name": "stderr",
     "output_type": "stream",
     "text": [
      " 95%|█████████▍| 190/201 [00:18<00:00, 14.71it/s]"
     ]
    },
    {
     "name": "stdout",
     "output_type": "stream",
     "text": [
      "bone-penn-512\n",
      "Does this patient have T2 available? True\n",
      "I'm doing the thing.\n",
      "bone-penn-618\n",
      "Does this patient have T2 available? True\n",
      "I'm doing the thing.\n",
      "bone-penn-272\n",
      "Does this patient have T2 available? False\n",
      "T2 image unavailable\n",
      "bone-penn-237\n",
      "Does this patient have T2 available? True\n",
      "I'm doing the thing.\n"
     ]
    },
    {
     "name": "stderr",
     "output_type": "stream",
     "text": [
      "\r",
      " 96%|█████████▌| 192/201 [00:18<00:00, 13.66it/s]"
     ]
    },
    {
     "name": "stdout",
     "output_type": "stream",
     "text": [
      "bone-china-188\n",
      "Does this patient have T2 available? True\n",
      "I'm doing the thing.\n",
      "bone-hup-204\n",
      "Does this patient have T2 available? True\n",
      "I'm doing the thing.\n",
      "bone-hup-236\n",
      "Does this patient have T2 available? True\n",
      "I'm doing the thing.\n"
     ]
    },
    {
     "name": "stderr",
     "output_type": "stream",
     "text": [
      " 98%|█████████▊| 196/201 [00:18<00:00, 14.99it/s]"
     ]
    },
    {
     "name": "stdout",
     "output_type": "stream",
     "text": [
      "bone-penn-640\n",
      "Does this patient have T2 available? True\n",
      "I'm doing the thing.\n",
      "bone-hup-273\n",
      "Does this patient have T2 available? True\n",
      "I'm doing the thing.\n",
      "bone-hup-70\n",
      "Does this patient have T2 available? True\n",
      "I'm doing the thing.\n",
      "bone-hup-50\n",
      "Does this patient have T2 available? True\n",
      "I'm doing the thing.\n"
     ]
    },
    {
     "name": "stderr",
     "output_type": "stream",
     "text": [
      "100%|█████████▉| 200/201 [00:20<00:00,  4.22it/s]"
     ]
    },
    {
     "name": "stdout",
     "output_type": "stream",
     "text": [
      "bone-hup-99\n",
      "Does this patient have T2 available? True\n",
      "I'm doing the thing.\n",
      "bone-penn-162\n",
      "Does this patient have T2 available? True\n",
      "I'm doing the thing.\n",
      "\n",
      "################################################################################\n",
      "Exception occurred for: outcome_pos           1\n",
      "outcome_neg           1\n",
      "outcome_3             2\n",
      "sort                  -\n",
      "volume         0.140307\n",
      "Name: bone-penn-162, dtype: object\n",
      "[Errno 2] No such file or directory: 'data_dir/preprocessed/bone-penn-162-t2-imagingVolume.nrrd'\n",
      "T2 image unavailable\n",
      "Traceback (most recent call last):\n",
      "  File \"/home/user1/Documents/Bone-MRI/data_gen.py\", line 392, in generate_from_features\n",
      "    t2_masked = load_image(t2_image_file, t2_seg_file, verbose=verbose)\n",
      "  File \"/home/user1/Documents/Bone-MRI/data_gen.py\", line 324, in load_image\n",
      "    image, _ = nrrd.read(image_path)\n",
      "  File \"/home/user1/.local/share/virtualenvs/Bone-MRI-iLizu8rs/lib/python3.6/site-packages/nrrd/reader.py\", line 506, in read\n",
      "    with open(filename, 'rb') as fh:\n",
      "FileNotFoundError: [Errno 2] No such file or directory: 'data_dir/preprocessed/bone-penn-162-t2-imagingVolume.nrrd'\n",
      "\n",
      "bone-penn-413\n",
      "Does this patient have T2 available? True\n",
      "I'm doing the thing.\n"
     ]
    },
    {
     "name": "stderr",
     "output_type": "stream",
     "text": [
      "100%|██████████| 201/201 [00:20<00:00,  9.86it/s]\n",
      "  0%|          | 0/100 [00:00<?, ?it/s]"
     ]
    },
    {
     "name": "stdout",
     "output_type": "stream",
     "text": [
      "bone-penn-564\n",
      "Does this patient have T2 available? True\n",
      "I'm doing the thing.\n",
      "bone-penn-502\n",
      "Does this patient have T2 available? True\n",
      "I'm doing the thing.\n"
     ]
    },
    {
     "name": "stderr",
     "output_type": "stream",
     "text": [
      "  4%|▍         | 4/100 [00:00<00:13,  7.03it/s]"
     ]
    },
    {
     "name": "stdout",
     "output_type": "stream",
     "text": [
      "bone-hup-314\n",
      "Does this patient have T2 available? True\n",
      "I'm doing the thing.\n",
      "bone-china-074\n",
      "Does this patient have T2 available? True\n",
      "I'm doing the thing.\n",
      "bone-china-034\n",
      "Does this patient have T2 available? True\n",
      "I'm doing the thing.\n",
      "bone-hup-300\n",
      "Does this patient have T2 available? True\n",
      "I'm doing the thing.\n"
     ]
    },
    {
     "name": "stderr",
     "output_type": "stream",
     "text": [
      "\r",
      "  6%|▌         | 6/100 [00:00<00:11,  8.46it/s]"
     ]
    },
    {
     "name": "stdout",
     "output_type": "stream",
     "text": [
      "bone-penn-326\n",
      "Does this patient have T2 available? True\n",
      "I'm doing the thing.\n",
      "bone-penn-329\n",
      "Does this patient have T2 available? True\n",
      "I'm doing the thing.\n"
     ]
    },
    {
     "name": "stderr",
     "output_type": "stream",
     "text": [
      "\r",
      "  8%|▊         | 8/100 [00:00<00:12,  7.63it/s]"
     ]
    },
    {
     "name": "stdout",
     "output_type": "stream",
     "text": [
      "bone-china-037\n",
      "Does this patient have T2 available? True\n",
      "I'm doing the thing.\n",
      "bone-penn-147\n",
      "Does this patient have T2 available? True\n",
      "I'm doing the thing.\n"
     ]
    },
    {
     "name": "stderr",
     "output_type": "stream",
     "text": [
      "\r",
      " 10%|█         | 10/100 [00:01<00:11,  7.64it/s]"
     ]
    },
    {
     "name": "stdout",
     "output_type": "stream",
     "text": [
      "bone-china-082\n",
      "Does this patient have T2 available? True\n",
      "I'm doing the thing.\n",
      "bone-penn-320\n",
      "Does this patient have T2 available? True\n",
      "I'm doing the thing.\n",
      "bone-penn-554\n",
      "Does this patient have T2 available? True\n",
      "I'm doing the thing.\n"
     ]
    },
    {
     "name": "stderr",
     "output_type": "stream",
     "text": [
      " 15%|█▌        | 15/100 [00:01<00:08, 10.26it/s]"
     ]
    },
    {
     "name": "stdout",
     "output_type": "stream",
     "text": [
      "bone-china-022\n",
      "Does this patient have T2 available? True\n",
      "I'm doing the thing.\n",
      "bone-china-064\n",
      "Does this patient have T2 available? True\n",
      "I'm doing the thing.\n",
      "bone-china-016\n",
      "Does this patient have T2 available? True\n",
      "I'm doing the thing.\n",
      "bone-penn-513\n",
      "Does this patient have T2 available? True\n",
      "I'm doing the thing.\n"
     ]
    },
    {
     "name": "stderr",
     "output_type": "stream",
     "text": [
      " 19%|█▉        | 19/100 [00:01<00:07, 11.26it/s]"
     ]
    },
    {
     "name": "stdout",
     "output_type": "stream",
     "text": [
      "bone-china-073\n",
      "Does this patient have T2 available? True\n",
      "I'm doing the thing.\n",
      "bone-penn-328\n",
      "Does this patient have T2 available? True\n",
      "I'm doing the thing.\n",
      "bone-hup-297\n",
      "Does this patient have T2 available? True\n",
      "I'm doing the thing.\n"
     ]
    },
    {
     "name": "stderr",
     "output_type": "stream",
     "text": [
      "\r",
      " 21%|██        | 21/100 [00:02<00:09,  8.07it/s]"
     ]
    },
    {
     "name": "stdout",
     "output_type": "stream",
     "text": [
      "bone-hup-301\n",
      "Does this patient have T2 available? True\n",
      "I'm doing the thing.\n",
      "bone-china-005\n",
      "Does this patient have T2 available? True\n",
      "I'm doing the thing.\n",
      "bone-penn-347\n",
      "Does this patient have T2 available? True\n",
      "I'm doing the thing.\n"
     ]
    },
    {
     "name": "stderr",
     "output_type": "stream",
     "text": [
      " 25%|██▌       | 25/100 [00:02<00:07, 10.69it/s]"
     ]
    },
    {
     "name": "stdout",
     "output_type": "stream",
     "text": [
      "bone-penn-417\n",
      "Does this patient have T2 available? True\n",
      "I'm doing the thing.\n",
      "bone-hup-315\n",
      "Does this patient have T2 available? True\n",
      "I'm doing the thing.\n",
      "bone-hup-330\n",
      "Does this patient have T2 available? True\n",
      "I'm doing the thing.\n",
      "bone-china-007\n",
      "Does this patient have T2 available? True\n",
      "I'm doing the thing.\n",
      "bone-hup-261\n",
      "Does this patient have T2 available? True\n",
      "I'm doing the thing.\n"
     ]
    },
    {
     "name": "stderr",
     "output_type": "stream",
     "text": [
      " 30%|███       | 30/100 [00:03<00:07,  9.71it/s]"
     ]
    },
    {
     "name": "stdout",
     "output_type": "stream",
     "text": [
      "bone-penn-253\n",
      "Does this patient have T2 available? True\n",
      "I'm doing the thing.\n",
      "bone-penn-454\n",
      "Does this patient have T2 available? True\n",
      "I'm doing the thing.\n",
      "bone-penn-300\n",
      "Does this patient have T2 available? True\n",
      "I'm doing the thing.\n",
      "bone-penn-414\n",
      "Does this patient have T2 available? True\n",
      "I'm doing the thing.\n"
     ]
    },
    {
     "name": "stderr",
     "output_type": "stream",
     "text": [
      "\r",
      " 32%|███▏      | 32/100 [00:03<00:05, 11.47it/s]"
     ]
    },
    {
     "name": "stdout",
     "output_type": "stream",
     "text": [
      "bone-penn-203\n",
      "Does this patient have T2 available? True\n",
      "I'm doing the thing.\n"
     ]
    },
    {
     "name": "stderr",
     "output_type": "stream",
     "text": [
      "\r",
      " 34%|███▍      | 34/100 [00:03<00:09,  7.17it/s]"
     ]
    },
    {
     "name": "stdout",
     "output_type": "stream",
     "text": [
      "bone-china-142\n",
      "Does this patient have T2 available? True\n",
      "I'm doing the thing.\n",
      "bone-china-105\n",
      "Does this patient have T2 available? True\n",
      "I'm doing the thing.\n",
      "bone-penn-510\n",
      "Does this patient have T2 available? True\n",
      "I'm doing the thing.\n"
     ]
    },
    {
     "name": "stderr",
     "output_type": "stream",
     "text": [
      "\r",
      " 37%|███▋      | 37/100 [00:03<00:07,  8.83it/s]"
     ]
    },
    {
     "name": "stdout",
     "output_type": "stream",
     "text": [
      "bone-china-196\n",
      "Does this patient have T2 available? True\n",
      "I'm doing the thing.\n",
      "bone-hup-196\n",
      "Does this patient have T2 available? True\n",
      "I'm doing the thing.\n",
      "bone-penn-646\n",
      "Does this patient have T2 available? True\n",
      "I'm doing the thing.\n"
     ]
    },
    {
     "name": "stderr",
     "output_type": "stream",
     "text": [
      "\r",
      " 39%|███▉      | 39/100 [00:04<00:06,  9.13it/s]"
     ]
    },
    {
     "name": "stdout",
     "output_type": "stream",
     "text": [
      "bone-penn-385\n",
      "Does this patient have T2 available? True\n",
      "I'm doing the thing.\n",
      "bone-china-122\n",
      "Does this patient have T2 available? True\n",
      "I'm doing the thing.\n"
     ]
    },
    {
     "name": "stderr",
     "output_type": "stream",
     "text": [
      "\r",
      " 41%|████      | 41/100 [00:04<00:06,  8.44it/s]"
     ]
    },
    {
     "name": "stdout",
     "output_type": "stream",
     "text": [
      "bone-penn-461\n",
      "Does this patient have T2 available? True\n",
      "I'm doing the thing.\n"
     ]
    },
    {
     "name": "stderr",
     "output_type": "stream",
     "text": [
      "\r",
      " 43%|████▎     | 43/100 [00:04<00:07,  7.94it/s]"
     ]
    },
    {
     "name": "stdout",
     "output_type": "stream",
     "text": [
      "bone-china-194\n",
      "Does this patient have T2 available? True\n",
      "I'm doing the thing.\n",
      "bone-china-121\n",
      "Does this patient have T2 available? True\n",
      "I'm doing the thing.\n",
      "bone-penn-485\n",
      "Does this patient have T2 available? True\n",
      "I'm doing the thing.\n"
     ]
    },
    {
     "name": "stderr",
     "output_type": "stream",
     "text": [
      " 46%|████▌     | 46/100 [00:05<00:06,  8.34it/s]"
     ]
    },
    {
     "name": "stdout",
     "output_type": "stream",
     "text": [
      "bone-hup-62\n",
      "Does this patient have T2 available? True\n",
      "I'm doing the thing.\n",
      "bone-hup-153\n",
      "Does this patient have T2 available? True\n",
      "I'm doing the thing.\n",
      "bone-hup-39\n",
      "Does this patient have T2 available? True\n",
      "I'm doing the thing.\n"
     ]
    },
    {
     "name": "stderr",
     "output_type": "stream",
     "text": [
      " 51%|█████     | 51/100 [00:05<00:04, 10.44it/s]"
     ]
    },
    {
     "name": "stdout",
     "output_type": "stream",
     "text": [
      "bone-china-109\n",
      "Does this patient have T2 available? True\n",
      "I'm doing the thing.\n",
      "bone-penn-346\n",
      "Does this patient have T2 available? True\n",
      "I'm doing the thing.\n",
      "bone-penn-187\n",
      "Does this patient have T2 available? True\n",
      "I'm doing the thing.\n",
      "bone-penn-644\n",
      "Does this patient have T2 available? True\n",
      "I'm doing the thing.\n"
     ]
    },
    {
     "name": "stderr",
     "output_type": "stream",
     "text": [
      "\r",
      " 53%|█████▎    | 53/100 [00:05<00:06,  7.53it/s]"
     ]
    },
    {
     "name": "stdout",
     "output_type": "stream",
     "text": [
      "bone-penn-311\n",
      "Does this patient have T2 available? True\n",
      "I'm doing the thing.\n",
      "bone-penn-600\n",
      "Does this patient have T2 available? True\n",
      "I'm doing the thing.\n"
     ]
    },
    {
     "name": "stderr",
     "output_type": "stream",
     "text": [
      "\r",
      " 55%|█████▌    | 55/100 [00:06<00:05,  8.83it/s]"
     ]
    },
    {
     "name": "stdout",
     "output_type": "stream",
     "text": [
      "bone-hup-76\n",
      "Does this patient have T2 available? True\n",
      "I'm doing the thing.\n",
      "bone-penn-238\n",
      "Does this patient have T2 available? True\n",
      "I'm doing the thing.\n",
      "bone-penn-103\n",
      "Does this patient have T2 available? True\n",
      "I'm doing the thing.\n"
     ]
    },
    {
     "name": "stderr",
     "output_type": "stream",
     "text": [
      "\r",
      " 57%|█████▋    | 57/100 [00:06<00:04,  9.58it/s]"
     ]
    },
    {
     "name": "stdout",
     "output_type": "stream",
     "text": [
      "bone-penn-261\n",
      "Does this patient have T2 available? True\n",
      "I'm doing the thing.\n",
      "bone-penn-515\n",
      "Does this patient have T2 available? True\n",
      "I'm doing the thing.\n"
     ]
    },
    {
     "name": "stderr",
     "output_type": "stream",
     "text": [
      " 61%|██████    | 61/100 [00:06<00:03,  9.91it/s]"
     ]
    },
    {
     "name": "stdout",
     "output_type": "stream",
     "text": [
      "bone-penn-390\n",
      "Does this patient have T2 available? True\n",
      "I'm doing the thing.\n",
      "bone-penn-605\n",
      "Does this patient have T2 available? True\n",
      "I'm doing the thing.\n",
      "bone-penn-608\n",
      "Does this patient have T2 available? True\n",
      "I'm doing the thing.\n"
     ]
    },
    {
     "name": "stderr",
     "output_type": "stream",
     "text": [
      " 65%|██████▌   | 65/100 [00:06<00:02, 12.58it/s]"
     ]
    },
    {
     "name": "stdout",
     "output_type": "stream",
     "text": [
      "bone-penn-268\n",
      "Does this patient have T2 available? True\n",
      "I'm doing the thing.\n",
      "bone-china-091\n",
      "Does this patient have T2 available? True\n",
      "I'm doing the thing.\n",
      "bone-penn-585\n",
      "Does this patient have T2 available? True\n",
      "I'm doing the thing.\n",
      "bone-china-209\n",
      "Does this patient have T2 available? True\n",
      "I'm doing the thing.\n"
     ]
    },
    {
     "name": "stderr",
     "output_type": "stream",
     "text": [
      "\r",
      " 67%|██████▋   | 67/100 [00:07<00:02, 11.94it/s]"
     ]
    },
    {
     "name": "stdout",
     "output_type": "stream",
     "text": [
      "bone-penn-105\n",
      "Does this patient have T2 available? True\n",
      "I'm doing the thing.\n",
      "bone-china-168\n",
      "Does this patient have T2 available? True\n",
      "I'm doing the thing.\n",
      "bone-china-099\n",
      "Does this patient have T2 available? True\n",
      "I'm doing the thing.\n"
     ]
    },
    {
     "name": "stderr",
     "output_type": "stream",
     "text": [
      "\r",
      " 70%|███████   | 70/100 [00:07<00:02, 12.10it/s]"
     ]
    },
    {
     "name": "stdout",
     "output_type": "stream",
     "text": [
      "bone-penn-639\n",
      "Does this patient have T2 available? True\n",
      "I'm doing the thing.\n",
      "bone-hup-109\n",
      "Does this patient have T2 available? True\n",
      "I'm doing the thing.\n"
     ]
    },
    {
     "name": "stderr",
     "output_type": "stream",
     "text": [
      "\r",
      " 72%|███████▏  | 72/100 [00:07<00:03,  9.25it/s]"
     ]
    },
    {
     "name": "stdout",
     "output_type": "stream",
     "text": [
      "bone-penn-111\n",
      "Does this patient have T2 available? True\n",
      "I'm doing the thing.\n",
      "bone-penn-192\n",
      "Does this patient have T2 available? True\n",
      "I'm doing the thing.\n"
     ]
    },
    {
     "name": "stderr",
     "output_type": "stream",
     "text": [
      "\r",
      " 74%|███████▍  | 74/100 [00:07<00:02,  8.98it/s]"
     ]
    },
    {
     "name": "stdout",
     "output_type": "stream",
     "text": [
      "bone-hup-168\n",
      "Does this patient have T2 available? True\n",
      "I'm doing the thing.\n",
      "bone-penn-234\n",
      "Does this patient have T2 available? True\n",
      "I'm doing the thing.\n"
     ]
    },
    {
     "name": "stderr",
     "output_type": "stream",
     "text": [
      "\r",
      " 76%|███████▌  | 76/100 [00:08<00:03,  7.26it/s]"
     ]
    },
    {
     "name": "stdout",
     "output_type": "stream",
     "text": [
      "bone-china-229\n",
      "Does this patient have T2 available? True\n",
      "I'm doing the thing.\n",
      "bone-penn-501\n",
      "Does this patient have T2 available? True\n",
      "I'm doing the thing.\n",
      "bone-hup-238\n",
      "Does this patient have T2 available? True\n",
      "I'm doing the thing.\n"
     ]
    },
    {
     "name": "stderr",
     "output_type": "stream",
     "text": [
      "\r",
      " 79%|███████▉  | 79/100 [00:08<00:02,  9.20it/s]"
     ]
    },
    {
     "name": "stdout",
     "output_type": "stream",
     "text": [
      "bone-penn-113\n",
      "Does this patient have T2 available? True\n",
      "I'm doing the thing.\n",
      "bone-penn-535\n",
      "Does this patient have T2 available? True\n",
      "I'm doing the thing.\n",
      "bone-penn-617\n",
      "Does this patient have T2 available? True\n",
      "I'm doing the thing.\n"
     ]
    },
    {
     "name": "stderr",
     "output_type": "stream",
     "text": [
      "\r",
      " 81%|████████  | 81/100 [00:08<00:02,  6.93it/s]"
     ]
    },
    {
     "name": "stdout",
     "output_type": "stream",
     "text": [
      "bone-penn-168\n",
      "Does this patient have T2 available? True\n",
      "I'm doing the thing.\n",
      "bone-penn-588\n",
      "Does this patient have T2 available? True\n",
      "I'm doing the thing.\n"
     ]
    },
    {
     "name": "stderr",
     "output_type": "stream",
     "text": [
      " 85%|████████▌ | 85/100 [00:09<00:01,  8.18it/s]"
     ]
    },
    {
     "name": "stdout",
     "output_type": "stream",
     "text": [
      "bone-hup-191\n",
      "Does this patient have T2 available? True\n",
      "I'm doing the thing.\n",
      "bone-penn-647\n",
      "Does this patient have T2 available? True\n",
      "I'm doing the thing.\n",
      "bone-china-162\n",
      "Does this patient have T2 available? True\n",
      "I'm doing the thing.\n",
      "bone-china-186\n",
      "Does this patient have T2 available? True\n",
      "I'm doing the thing.\n",
      "bone-penn-217\n",
      "Does this patient have T2 available? True\n",
      "I'm doing the thing.\n"
     ]
    },
    {
     "name": "stderr",
     "output_type": "stream",
     "text": [
      " 90%|█████████ | 90/100 [00:09<00:01,  9.63it/s]"
     ]
    },
    {
     "name": "stdout",
     "output_type": "stream",
     "text": [
      "bone-hup-130\n",
      "Does this patient have T2 available? True\n",
      "I'm doing the thing.\n",
      "bone-hup-104\n",
      "Does this patient have T2 available? True\n",
      "I'm doing the thing.\n",
      "bone-penn-81\n",
      "Does this patient have T2 available? True\n",
      "I'm doing the thing.\n",
      "bone-penn-633\n",
      "Does this patient have T2 available? True\n",
      "I'm doing the thing.\n"
     ]
    },
    {
     "name": "stderr",
     "output_type": "stream",
     "text": [
      "\r",
      " 93%|█████████▎| 93/100 [00:09<00:00, 10.65it/s]"
     ]
    },
    {
     "name": "stdout",
     "output_type": "stream",
     "text": [
      "bone-penn-499\n",
      "Does this patient have T2 available? True\n",
      "I'm doing the thing.\n",
      "bone-china-181\n",
      "Does this patient have T2 available? True\n",
      "I'm doing the thing.\n",
      "bone-china-152\n",
      "Does this patient have T2 available? True\n",
      "I'm doing the thing.\n"
     ]
    },
    {
     "name": "stderr",
     "output_type": "stream",
     "text": [
      " 97%|█████████▋| 97/100 [00:10<00:00, 12.78it/s]"
     ]
    },
    {
     "name": "stdout",
     "output_type": "stream",
     "text": [
      "bone-penn-614\n",
      "Does this patient have T2 available? True\n",
      "I'm doing the thing.\n",
      "bone-penn-369\n",
      "Does this patient have T2 available? True\n",
      "I'm doing the thing.\n",
      "bone-hup-95\n",
      "Does this patient have T2 available? True\n",
      "I'm doing the thing.\n"
     ]
    },
    {
     "name": "stderr",
     "output_type": "stream",
     "text": [
      "100%|██████████| 100/100 [00:10<00:00,  9.69it/s]\n"
     ]
    },
    {
     "name": "stdout",
     "output_type": "stream",
     "text": [
      "bone-china-177\n",
      "Does this patient have T2 available? True\n",
      "I'm doing the thing.\n",
      "bone-penn-256\n",
      "Does this patient have T2 available? True\n",
      "I'm doing the thing.\n",
      "0.8845070422535212\n",
      "1.0\n",
      "0.8756218905472637\n"
     ]
    }
   ],
   "source": [
    "import uuid\n",
    "result = Result.query.filter(Result.uuid == UUIDS[0]).first()\n",
    "print(result.split_seed)\n",
    "train_set, validation_set, test_set = data(seed=uuid.UUID(result.split_seed), label_form=result.label_form, input_form=result.input_form, train_shuffle=False, test_shuffle=False, validation_shuffle=False, train_augment=False, validation_augment=False, test_augment=False)"
   ]
  },
  {
   "cell_type": "code",
   "execution_count": 164,
   "metadata": {},
   "outputs": [],
   "source": [
    "MODALITIES = [\n",
    "    #\"features\",     \n",
    "    \"t2\",\n",
    "    \"t1\",\n",
    "    \"ensemble\" \n",
    "]\n",
    "\n",
    "MODALITY_KEY = {\n",
    "    #\"features\": \"Clinical\",     \n",
    "    \"t1\": \"T1\", \n",
    "    \"t2\": \"T2\", \n",
    "    #\"t1-sensitive\": \"T1C Sensitive\", \n",
    "    #\"t2-sensitive\": \"T2WI Sensitive\",     \n",
    "    #\"t1-specific\": \"T1C Specific\", \n",
    "    #\"t2-specific\": \"T2WI Specific\",         \n",
    "    \"ensemble\": \"Ensemble\", \n",
    "}\n",
    "\n",
    "def get_pr_data_for_modality(dataset, comparison_models=[]): \n",
    "    results = list()\n",
    "    points = list()\n",
    "    for modality in MODALITIES: \n",
    "        labels = dataset[\"{}-labels\".format(modality)]\n",
    "        probabilities = dataset[\"{}-probabilities\".format(modality)]\n",
    "        predictions = dataset[\"{}-predictions\".format(modality)]\n",
    "        print(modality, len(labels), len(probabilities), len(predictions))\n",
    "        acc = accuracy_score(labels, predictions)\n",
    "        precision, recall, _ = precision_recall_curve(labels, probabilities)\n",
    "        pr_auc = auc(recall, precision)\n",
    "        stats = calculate_confusion_matrix_stats_predictions(labels, predictions)\n",
    "        points.append({\n",
    "            \"modality\": \"{} (auc={:.2f}, acc={:.2f})\".format(MODALITY_KEY[modality], pr_auc, acc),\n",
    "            \"precision\": stats[\"PPV\"][1],\n",
    "            \"recall\": stats[\"TPR\"][1],\n",
    "        })\n",
    "        for p, r in zip(precision, recall): \n",
    "            results.append({ \"precision\": p, \"recall\": r, \"modality\": \"{} (auc={:.2f}, acc={:.2f})\".format(MODALITY_KEY[modality], pr_auc, acc)})\n",
    "    for probabilities in comparison_models: \n",
    "        modality = \"Radiomics\"\n",
    "        labels = dataset[\"t1-labels\"]\n",
    "        predictions = [p > 0.5 for p in probabilities]\n",
    "        print(modality, len(labels), len(probabilities), len(predictions))\n",
    "        precision, recall, _ = precision_recall_curve(labels, probabilities)\n",
    "        pr_auc = auc(recall, precision)\n",
    "        stats = calculate_confusion_matrix_stats_predictions(labels, predictions)\n",
    "        acc = accuracy_score(labels, predictions)\n",
    "        points.append({\n",
    "            \"modality\": \"{} (auc={:.2f}, acc={:.2f})\".format(MODALITY_KEY[modality], pr_auc, acc),\n",
    "            \"precision\": stats[\"PPV\"][1],\n",
    "            \"recall\": stats[\"TPR\"][1],\n",
    "        })\n",
    "        for p, r in zip(precision, recall): \n",
    "            results.append({ \"precision\": p, \"recall\": r, \"modality\": \"{} (auc={:.2f}, acc={:.2f})\".format(MODALITY_KEY[modality], pr_auc, acc)})           \n",
    "    return results, pr_auc, []\n",
    "        \n",
    "def plot_multiple_precision_recall(dataset, experts=[], comparison_models=[]):\n",
    "    results, auc, points = get_pr_data_for_modality(dataset, comparison_models)        \n",
    "    if len(experts) > 0:\n",
    "        for i, expert in enumerate(experts): \n",
    "            labels = dataset[\"t1-labels\"]\n",
    "            predictions = expert\n",
    "            stats = calculate_confusion_matrix_stats_predictions(labels, predictions)\n",
    "            acc = accuracy_score(labels, predictions)\n",
    "            points.append({\n",
    "                \"precision\": stats[\"PPV\"][1],\n",
    "                \"recall\": stats[\"TPR\"][1],                \n",
    "                \"experts\": \"Expert {} (acc={:.2f})\".format(i + 1, acc), \n",
    "            })\n",
    "    fig, ax = plt.subplots()\n",
    "    seaborn.lineplot(\n",
    "        data=pandas.DataFrame(results),\n",
    "        x=\"recall\",\n",
    "        y=\"precision\",\n",
    "        hue=\"modality\",\n",
    "        ax=ax, \n",
    "        err_style=None,\n",
    "    )\n",
    "    if points: \n",
    "        seaborn.scatterplot(\n",
    "            data=pandas.DataFrame(points),\n",
    "            x=\"recall\",\n",
    "            y=\"precision\",\n",
    "            hue=\"experts\",\n",
    "            style=\"experts\",                        \n",
    "            markers=[\"o\", \"v\", \"s\", \"P\"],\n",
    "            palette={ p[\"experts\"]: \"black\" for p in points },            \n",
    "            ax=ax,\n",
    "        )\n",
    "    ax.set_ylim(0.5, 1.04)\n",
    "    ax.set_xlim(-0.04, 1.02)\n",
    "    ax.legend(bbox_to_anchor=(1.05, 1), loc=2, borderaxespad=0.)\n",
    "    return fig\n",
    "\n",
    "def get_roc_data_for_modality(dataset, comparison_models=[]): \n",
    "    results = list()\n",
    "    points = list()\n",
    "    for modality in MODALITIES: \n",
    "        labels = dataset[\"{}-labels\".format(modality)]\n",
    "        probabilities = dataset[\"{}-probabilities\".format(modality)]\n",
    "        predictions = dataset[\"{}-predictions\".format(modality)]\n",
    "        fpr, tpr, _ = roc_curve(labels, probabilities, drop_intermediate=False)\n",
    "        roc_auc = roc_auc_score(labels, probabilities)\n",
    "        stats = calculate_confusion_matrix_stats_predictions(labels, predictions)\n",
    "        acc = accuracy_score(labels, predictions)\n",
    "        points.append({\n",
    "            \"modality\": \"{} (auc={:.2f}, acc={:.2f})\".format(MODALITY_KEY[modality], roc_auc, acc),\n",
    "            \"fpr\": stats[\"FPR\"][1],\n",
    "            \"tpr\": stats[\"TPR\"][1],\n",
    "        })\n",
    "        for f, t in zip(fpr, tpr): \n",
    "            results.append({ \"fpr\": f, \"tpr\": t, \"modality\": \"{} (auc={:.2f}, acc={:.2f})\".format(MODALITY_KEY[modality], roc_auc, acc)})\n",
    "    for probabilities in comparison_models: \n",
    "        modality = \"Radiomics\"\n",
    "        labels = dataset[\"t1-labels\"]\n",
    "        predictions = [p > 0.5 for p in probabilities]\n",
    "        fpr, tpr, _ = roc_curve(labels, probabilities, drop_intermediate=False)\n",
    "        roc_auc = roc_auc_score(labels, probabilities)\n",
    "        stats = calculate_confusion_matrix_stats_predictions(labels, predictions)\n",
    "        acc = accuracy_score(labels, predictions)\n",
    "        points.append({\n",
    "            \"modality\": \"{} (auc={:.2f}, acc={:.2f})\".format(MODALITY_KEY[modality], roc_auc, acc),\n",
    "            \"fpr\": stats[\"FPR\"][1],\n",
    "            \"tpr\": stats[\"TPR\"][1],\n",
    "        })\n",
    "        for f, t in zip(fpr, tpr): \n",
    "            results.append({ \"fpr\": f, \"tpr\": t, \"modality\": \"{} (auc={:.2f}, acc={:.2f})\".format(MODALITY_KEY[modality], roc_auc, acc)})        \n",
    "    return results, roc_auc, []\n",
    "        \n",
    "def plot_multiple_roc_curve(dataset, experts=[], comparison_models=[]):\n",
    "    results, auc, points = get_roc_data_for_modality(dataset, comparison_models)\n",
    "    if len(experts) > 0:\n",
    "        for i, expert in enumerate(experts): \n",
    "            labels = dataset[\"t1-labels\"]\n",
    "            predictions = expert\n",
    "            stats = calculate_confusion_matrix_stats_predictions(labels, predictions)\n",
    "            acc = accuracy_score(labels, predictions)            \n",
    "            points.append({\n",
    "                \"fpr\": stats[\"FPR\"][1],\n",
    "                \"tpr\": stats[\"TPR\"][1],\n",
    "                \"experts\": \"Expert {} (acc={:.2f})\".format(i + 1, acc),                 \n",
    "            })\n",
    "    fig, ax = plt.subplots()\n",
    "    seaborn.lineplot(\n",
    "        data=pandas.DataFrame(results),\n",
    "        x=\"fpr\",\n",
    "        y=\"tpr\",\n",
    "        hue=\"modality\",\n",
    "        ax=ax,\n",
    "        err_style=None,\n",
    "    )\n",
    "    if points:     \n",
    "        seaborn.scatterplot(\n",
    "            data=pandas.DataFrame(points),\n",
    "            x=\"fpr\",\n",
    "            y=\"tpr\",\n",
    "            hue=\"experts\",\n",
    "            style=\"experts\",            \n",
    "            ax=ax,\n",
    "            markers=[\"o\", \"v\", \"s\", \"P\"],\n",
    "            palette={ p[\"experts\"]: \"black\" for p in points },\n",
    "        )\n",
    "    ax.plot([0, 1], [0, 1], linestyle='--')\n",
    "    ax.set_ylim(-0.04, 1.04)\n",
    "    ax.set_xlim(-0.04, 1.02)\n",
    "    ax.legend(bbox_to_anchor=(1.05, 1), loc=2, borderaxespad=0.)\n",
    "    return fig\n",
    "\n",
    "def get_statistics(dataset, experts=[]):#, comparison_models=[]): \n",
    "    results = list()\n",
    "    for modality in MODALITIES: \n",
    "        labels = dataset[\"{}-labels\".format(modality)]\n",
    "        probabilities = dataset[\"{}-probabilities\".format(modality)]\n",
    "        predictions = dataset[\"{}-predictions\".format(modality)]\n",
    "        roc_auc = roc_auc_score(labels, probabilities)\n",
    "        precision, recall, _ = precision_recall_curve(labels, probabilities)\n",
    "        pr_auc = auc(recall, precision)\n",
    "        f1 = f1_score(labels, predictions)\n",
    "        d = {\n",
    "            \"F1 Score\": [f1, f1],            \n",
    "            \"ROC AUC\": [roc_auc, roc_auc], \n",
    "            \"PR AUC\": [pr_auc, pr_auc],\n",
    "            **calculate_confusion_matrix_stats_predictions(labels, predictions), \n",
    "            \"Modality\": [modality.capitalize(), modality.capitalize()], \n",
    "            \"Total\": [len(labels), len(labels)], \n",
    "            \"Malignant\": [len([l for l in labels if l]), len([l for l in labels if l])], \n",
    "            \"Benign\": [len([l for l in labels if not l]), len([l for l in labels if not l])], \n",
    "        } \n",
    "        # remove more that are not relevant to imbalanced datasets\n",
    "        del d[\"TP\"]\n",
    "        del d[\"TN\"]\n",
    "        del d[\"FN\"]\n",
    "        del d[\"FP\"]    \n",
    "        del d[\"AM\"]        \n",
    "        del d[\"GM\"]\n",
    "        del d[\"FPR\"]\n",
    "        del d[\"FNR\"]\n",
    "        d[\"Acc (95% CI)\"] = [\"\", \"{:.2f} ({:.2f}-{:.2f})\".format(d[\"Acc\"][1], *adjusted_wald(d[\"Acc\"][1], len(labels)))]\n",
    "        d[\"TPR (95% CI)\"] = [\"\", \"{:.2f} ({:.2f}-{:.2f})\".format(d[\"TPR\"][1], *adjusted_wald(d[\"TPR\"][1], len([l for l in labels if l])))]\n",
    "        d[\"TNR (95% CI)\"] = [\"\", \"{:.2f} ({:.2f}-{:.2f})\".format(d[\"TNR\"][1], *adjusted_wald(d[\"TNR\"][1], len([l for l in labels if not l])))]\n",
    "        results.append(pandas.DataFrame(d).iloc[[1]])\n",
    "    for i, expert in enumerate(experts): \n",
    "        labels = dataset[\"ensemble-labels\"]\n",
    "        predictions = expert\n",
    "        f1 = f1_score(labels, predictions)        \n",
    "        d = {\n",
    "            \"F1 Score\": [f1, f1],            \n",
    "            **calculate_confusion_matrix_stats_predictions(labels, predictions),             \n",
    "            \"Modality\": [\"Expert {}\".format(i + 1), \"Expert {}\".format(i + 1)], \n",
    "            \"Total\": [len(labels), len(labels)], \n",
    "            \"Malignant\": [len([l for l in labels if l]), len([l for l in labels if l])], \n",
    "            \"Benign\": [len([l for l in labels if not l]), len([l for l in labels if not l])],             \n",
    "        }\n",
    "        # remove more that are not relevant to imbalanced datasets (remove from article too)\n",
    "        del d[\"TP\"]\n",
    "        del d[\"TN\"]\n",
    "        del d[\"FN\"]\n",
    "        del d[\"FP\"]               \n",
    "        del d[\"AM\"]        \n",
    "        del d[\"GM\"]\n",
    "        del d[\"FPR\"]\n",
    "        del d[\"FNR\"]        \n",
    "        d[\"Acc (95% CI)\"] = [\"\", \"{:.2f} ({:.2f}-{:.2f})\".format(d[\"Acc\"][1], *adjusted_wald(d[\"Acc\"][1], len(labels)))]\n",
    "        d[\"TPR (95% CI)\"] = [\"\", \"{:.2f} ({:.2f}-{:.2f})\".format(d[\"TPR\"][1], *adjusted_wald(d[\"TPR\"][1], len([l for l in labels if l])))]\n",
    "        d[\"TNR (95% CI)\"] = [\"\", \"{:.2f} ({:.2f}-{:.2f})\".format(d[\"TNR\"][1], *adjusted_wald(d[\"TNR\"][1], len([l for l in labels if not l])))]        \n",
    "        results.append(pandas.DataFrame(d).iloc[[1]])\n",
    "    #for probabilities in comparison_models: \n",
    "        #labels = dataset[\"ensemble-labels\"]\n",
    "        #predictions = [p > 0.5 for p in probabilities]\n",
    "        #roc_auc = roc_auc_score(labels, probabilities)\n",
    "        #precision, recall, _ = precision_recall_curve(labels, probabilities)\n",
    "        #pr_auc = auc(recall, precision)\n",
    "        #f1 = f1_score(labels, predictions)\n",
    "        #d = {\n",
    "        #    \"F1 Score\": [f1, f1],            \n",
    "        #    \"ROC AUC\": [roc_auc, roc_auc], \n",
    "        #    \"PR AUC\": [pr_auc, pr_auc],\n",
    "        #    **calculate_confusion_matrix_stats_predictions(labels, predictions), \n",
    "        #    \"Modality\": [\"Radiomics\", \"Radiomics\"], \n",
    "        #    \"Total\": [len(labels), len(labels)], \n",
    "        #    \"Malignant\": [len([l for l in labels if l]), len([l for l in labels if l])], \n",
    "        #    \"Benign\": [len([l for l in labels if not l]), len([l for l in labels if not l])],             \n",
    "        #} \n",
    "        # remove more that are not relevant to imbalanced datasets (remove from article too)\n",
    "        #del d[\"TP\"]\n",
    "        #del d[\"TN\"]\n",
    "        #del d[\"FN\"]\n",
    "        #del d[\"FP\"]         \n",
    "        #del d[\"AM\"]        \n",
    "        #del d[\"GM\"]\n",
    "        #del d[\"FPR\"]\n",
    "        #del d[\"FNR\"]\n",
    "        #d[\"Acc (95% CI)\"] = [\"\", \"{:.2f} ({:.2f}-{:.2f})\".format(d[\"Acc\"][1], *adjusted_wald(d[\"Acc\"][1], len(labels)))]\n",
    "        #d[\"TPR (95% CI)\"] = [\"\", \"{:.2f} ({:.2f}-{:.2f})\".format(d[\"TPR\"][1], *adjusted_wald(d[\"TPR\"][1], len([l for l in labels if l])))]\n",
    "        #d[\"TNR (95% CI)\"] = [\"\", \"{:.2f} ({:.2f}-{:.2f})\".format(d[\"TNR\"][1], *adjusted_wald(d[\"TNR\"][1], len([l for l in labels if not l])))]        \n",
    "        #results.append(pandas.DataFrame(d).iloc[[1]])\n",
    "\n",
    "    return pandas.concat(results, axis=0, sort=False).set_index(\"Modality\")\n",
    "\n",
    "def get_experts_for_names(features, names, experts=[\"expert1\"], transform=int, default=0): \n",
    "    result = list()\n",
    "    for e in experts: \n",
    "        expert_results = list()\n",
    "        for n in names: \n",
    "            f = features.get(n, None)\n",
    "            if f is None: \n",
    "                #print(\"error, cannot find {}\".format(n))\n",
    "                expert_results.append(default)\n",
    "                continue\n",
    "            r = f.get(e, default)\n",
    "            if r == \"\": \n",
    "                r = 0\n",
    "            elif r == \"2\" or r == \"1\":\n",
    "                r = 1\n",
    "            else:\n",
    "                r = 0\n",
    "            r = transform(r)\n",
    "            expert_results.append(r)\n",
    "        result.append(expert_results)\n",
    "    return result"
   ]
  },
  {
   "cell_type": "code",
   "execution_count": 165,
   "metadata": {
    "scrolled": false
   },
   "outputs": [
    {
     "name": "stdout",
     "output_type": "stream",
     "text": [
      "[0, 0, 0, 0, 0, 0, 1, 0, 0, 0, 0, 0, 1, 0, 1, 0, 0, 0, 0, 0, 0, 0, 0, 0, 0, 0, 1, 0, 0, 0, 0, 0, 0, 1, 0, 1, 0, 0, 0, 0, 0, 0, 0, 0, 0, 0, 0, 0, 0, 0, 0, 0, 0, 0, 0, 0, 1, 0, 0, 0, 0, 0, 0, 0, 0, 0, 0, 0, 0, 0, 0, 0, 0, 0, 0, 1, 0, 1, 0, 0, 0, 0, 0, 0, 0, 0, 0, 0, 1, 0, 0, 0, 1, 1, 0, 0, 0, 0, 0, 0]\n",
      "['bone-penn-564', 'bone-penn-502', 'bone-hup-314', 'bone-china-074', 'bone-china-034', 'bone-hup-300', 'bone-penn-326', 'bone-penn-329', 'bone-china-037', 'bone-penn-147', 'bone-china-082', 'bone-penn-320', 'bone-penn-554', 'bone-china-022', 'bone-china-064', 'bone-china-016', 'bone-penn-513', 'bone-china-073', 'bone-penn-328', 'bone-hup-297', 'bone-hup-301', 'bone-china-005', 'bone-penn-347', 'bone-penn-417', 'bone-hup-315', 'bone-hup-330', 'bone-china-007', 'bone-hup-261', 'bone-penn-253', 'bone-penn-454', 'bone-penn-300', 'bone-penn-414', 'bone-penn-203', 'bone-china-142', 'bone-china-105', 'bone-penn-510', 'bone-china-196', 'bone-hup-196', 'bone-penn-646', 'bone-penn-385', 'bone-china-122', 'bone-penn-461', 'bone-china-194', 'bone-china-121', 'bone-penn-485', 'bone-hup-62', 'bone-hup-153', 'bone-hup-39', 'bone-china-109', 'bone-penn-346', 'bone-penn-187', 'bone-penn-644', 'bone-penn-311', 'bone-penn-600', 'bone-hup-76', 'bone-penn-238', 'bone-penn-103', 'bone-penn-261', 'bone-penn-515', 'bone-penn-390', 'bone-penn-605', 'bone-penn-608', 'bone-penn-268', 'bone-china-091', 'bone-penn-585', 'bone-china-209', 'bone-penn-105', 'bone-china-168', 'bone-china-099', 'bone-penn-639', 'bone-hup-109', 'bone-penn-111', 'bone-penn-192', 'bone-hup-168', 'bone-penn-234', 'bone-china-229', 'bone-penn-501', 'bone-hup-238', 'bone-penn-113', 'bone-penn-535', 'bone-penn-617', 'bone-penn-168', 'bone-penn-588', 'bone-hup-191', 'bone-penn-647', 'bone-china-162', 'bone-china-186', 'bone-penn-217', 'bone-hup-130', 'bone-hup-104', 'bone-penn-81', 'bone-penn-633', 'bone-penn-499', 'bone-china-181', 'bone-china-152', 'bone-penn-614', 'bone-penn-369', 'bone-hup-95', 'bone-china-177', 'bone-penn-256']\n",
      "{'bone-penn-539': {'patientID': 'bone-penn-539', 'expert1': '1'}, 'bone-china-181': {'patientID': 'bone-china-181', 'expert1': '2'}, 'bone-penn-540': {'patientID': 'bone-penn-540', 'expert1': '2'}, 'bone-china-007': {'patientID': 'bone-china-007', 'expert1': '1'}, 'bone-china-018': {'patientID': 'bone-china-018', 'expert1': '2'}, 'bone-hup-294': {'patientID': 'bone-hup-294', 'expert1': '0'}, 'bone-china-012': {'patientID': 'bone-china-012', 'expert1': '1'}, 'bone-hup-195': {'patientID': 'bone-hup-195', 'expert1': '0'}, 'bone-penn-559': {'patientID': 'bone-penn-559', 'expert1': '0'}, 'bone-penn-569': {'patientID': 'bone-penn-569', 'expert1': '0'}, 'bone-penn-233': {'patientID': 'bone-penn-233', 'expert1': '0'}, 'bone-china-233': {'patientID': 'bone-china-233', 'expert1': '2'}, 'bone-hup-212': {'patientID': 'bone-hup-212', 'expert1': '2'}, 'bone-china-208': {'patientID': 'bone-china-208', 'expert1': '2'}, 'bone-penn-505': {'patientID': 'bone-penn-505', 'expert1': '2'}, 'bone-hup-300': {'patientID': 'bone-hup-300', 'expert1': '0'}, 'bone-china-182': {'patientID': 'bone-china-182', 'expert1': '2'}, 'bone-china-082': {'patientID': 'bone-china-082', 'expert1': '0'}, 'bone-hup-174': {'patientID': 'bone-hup-174', 'expert1': '2'}, 'bone-china-090': {'patientID': 'bone-china-090', 'expert1': '1'}, 'bone-penn-185': {'patientID': 'bone-penn-185', 'expert1': '2'}, 'bone-china-202': {'patientID': 'bone-china-202', 'expert1': '2'}, 'bone-china-064': {'patientID': 'bone-china-064', 'expert1': '1'}, 'bone-penn-486': {'patientID': 'bone-penn-486', 'expert1': '2'}, 'bone-china-013': {'patientID': 'bone-china-013', 'expert1': '2'}, 'bone-penn-574': {'patientID': 'bone-penn-574', 'expert1': '0'}, 'bone-penn-389': {'patientID': 'bone-penn-389', 'expert1': '2'}, 'bone-penn-229': {'patientID': 'bone-penn-229', 'expert1': '2'}, 'bone-penn-202': {'patientID': 'bone-penn-202', 'expert1': '0'}, 'bone-hup-164': {'patientID': 'bone-hup-164', 'expert1': '2'}, 'bone-china-229': {'patientID': 'bone-china-229', 'expert1': '2'}, 'bone-hup-120': {'patientID': 'bone-hup-120', 'expert1': '1'}, 'bone-penn-554': {'patientID': 'bone-penn-554', 'expert1': '2'}, 'bone-penn-80': {'patientID': 'bone-penn-80', 'expert1': '2'}, 'bone-penn-582': {'patientID': 'bone-penn-582', 'expert1': '2'}, 'bone-china-235': {'patientID': 'bone-china-235', 'expert1': '2'}, 'bone-penn-566': {'patientID': 'bone-penn-566', 'expert1': '0'}, 'bone-penn-103': {'patientID': 'bone-penn-103', 'expert1': '2'}, 'bone-hup-90': {'patientID': 'bone-hup-90', 'expert1': '1'}, 'bone-hup-114': {'patientID': 'bone-hup-114', 'expert1': '2'}, 'bone-penn-271': {'patientID': 'bone-penn-271', 'expert1': '2'}, 'bone-penn-387': {'patientID': 'bone-penn-387', 'expert1': '2'}, 'bone-china-130': {'patientID': 'bone-china-130', 'expert1': '1'}, 'bone-hup-87': {'patientID': 'bone-hup-87', 'expert1': '2'}, 'bone-penn-557': {'patientID': 'bone-penn-557', 'expert1': '0'}, 'bone-penn-544': {'patientID': 'bone-penn-544', 'expert1': '2'}, 'bone-penn-326': {'patientID': 'bone-penn-326', 'expert1': '2'}, 'bone-penn-102': {'patientID': 'bone-penn-102', 'expert1': '1'}, 'bone-penn-117': {'patientID': 'bone-penn-117', 'expert1': '2'}, 'bone-penn-493': {'patientID': 'bone-penn-493', 'expert1': '2'}, 'bone-hup-50': {'patientID': 'bone-hup-50', 'expert1': '1'}, 'bone-china-094': {'patientID': 'bone-china-094', 'expert1': '2'}, 'bone-china-142': {'patientID': 'bone-china-142', 'expert1': '2'}, 'bone-hup-130': {'patientID': 'bone-hup-130', 'expert1': '2'}, 'bone-penn-513': {'patientID': 'bone-penn-513', 'expert1': '0'}, 'bone-penn-475': {'patientID': 'bone-penn-475', 'expert1': '2'}, 'bone-penn-208': {'patientID': 'bone-penn-208', 'expert1': '0'}, 'bone-hup-238': {'patientID': 'bone-hup-238', 'expert1': '1'}, 'bone-penn-649': {'patientID': 'bone-penn-649', 'expert1': '2'}, 'bone-hup-313': {'patientID': 'bone-hup-313', 'expert1': '1'}, 'bone-hup-236': {'patientID': 'bone-hup-236', 'expert1': '0'}, 'bone-china-206': {'patientID': 'bone-china-206', 'expert1': '2'}, 'bone-china-108': {'patientID': 'bone-china-108', 'expert1': '2'}, 'bone-hup-190': {'patientID': 'bone-hup-190', 'expert1': '2'}, 'bone-penn-184': {'patientID': 'bone-penn-184', 'expert1': '2'}, 'bone-penn-510': {'patientID': 'bone-penn-510', 'expert1': '2'}, 'bone-penn-125': {'patientID': 'bone-penn-125', 'expert1': '1'}, 'bone-hup-318': {'patientID': 'bone-hup-318', 'expert1': '2'}, 'bone-penn-594': {'patientID': 'bone-penn-594', 'expert1': '0'}, 'bone-penn-524': {'patientID': 'bone-penn-524', 'expert1': '1'}, 'bone-penn-432': {'patientID': 'bone-penn-432', 'expert1': '2'}, 'bone-penn-393': {'patientID': 'bone-penn-393', 'expert1': '2'}, 'bone-china-063': {'patientID': 'bone-china-063', 'expert1': '2'}, 'bone-china-137': {'patientID': 'bone-china-137', 'expert1': '1'}, 'bone-penn-366': {'patientID': 'bone-penn-366', 'expert1': '2'}, 'bone-china-156': {'patientID': 'bone-china-156', 'expert1': '1'}, 'bone-hup-143': {'patientID': 'bone-hup-143', 'expert1': '2'}, 'bone-penn-295': {'patientID': 'bone-penn-295', 'expert1': '2'}, 'bone-penn-175': {'patientID': 'bone-penn-175', 'expert1': '2'}, 'bone-penn-145': {'patientID': 'bone-penn-145', 'expert1': '2'}, 'bone-penn-383': {'patientID': 'bone-penn-383', 'expert1': '1'}, 'bone-penn-499': {'patientID': 'bone-penn-499', 'expert1': '2'}, 'bone-hup-311': {'patientID': 'bone-hup-311', 'expert1': '0'}, 'bone-china-241': {'patientID': 'bone-china-241', 'expert1': '2'}, 'bone-hup-137': {'patientID': 'bone-hup-137', 'expert1': '2'}, 'bone-china-141': {'patientID': 'bone-china-141', 'expert1': '2'}, 'bone-penn-135': {'patientID': 'bone-penn-135', 'expert1': '1'}, 'bone-penn-638': {'patientID': 'bone-penn-638', 'expert1': '2'}, 'bone-china-150': {'patientID': 'bone-china-150', 'expert1': '2'}, 'bone-penn-470': {'patientID': 'bone-penn-470', 'expert1': '0'}, 'bone-penn-407': {'patientID': 'bone-penn-407', 'expert1': '2'}, 'bone-china-157': {'patientID': 'bone-china-157', 'expert1': '0'}, 'bone-hup-127': {'patientID': 'bone-hup-127', 'expert1': '1'}, 'bone-penn-519': {'patientID': 'bone-penn-519', 'expert1': '0'}, 'bone-china-232': {'patientID': 'bone-china-232', 'expert1': '2'}, 'bone-penn-469': {'patientID': 'bone-penn-469', 'expert1': '2'}, 'bone-china-067': {'patientID': 'bone-china-067', 'expert1': '0'}, 'bone-penn-547': {'patientID': 'bone-penn-547', 'expert1': '2'}, 'bone-hup-99': {'patientID': 'bone-hup-99', 'expert1': '1'}, 'bone-penn-290': {'patientID': 'bone-penn-290', 'expert1': '0'}, 'bone-hup-182': {'patientID': 'bone-hup-182', 'expert1': '2'}}\n"
     ]
    }
   ],
   "source": [
    "expert_features = all_features(files = [config.EXPERTS])\n",
    "#comparison_model_features = all_features(files=[\"features/comparison-models.csv\"])\n",
    "#df = get_statistics((train), get_experts_for_names(expert_features, train_set.names))#, get_experts_for_names(comparison_model_features, train_set.names, experts=[\"radiomics\"], transform=float))\n",
    "#df = df.drop(['Acc', \"TPR\", \"TNR\", \"Total\", \"Malignant\", \"Benign\"], axis=1)\n",
    "#print()\n",
    "#print(\"##### Train\")\n",
    "#print()\n",
    "#print(tabulate(df, tablefmt=\"pipe\", headers=\"keys\", floatfmt=\"#.3g\").replace(\"nan\", \"N/A\").replace(\"Features\", \"Clinical\"))\n",
    "#df = get_statistics(validation)#, get_experts_for_names(expert_features, validation_set.names))#, get_experts_for_names(comparison_model_features, validation_set.names, experts=[\"radiomics\"], transform=float))\n",
    "#df = df.drop(['Acc', \"TPR\", \"TNR\", \"Total\", \"Malignant\", \"Benign\"], axis=1)\n",
    "#print()\n",
    "#print(\"##### Validation\")\n",
    "#print()\n",
    "#print(tabulate(df, tablefmt=\"pipe\", headers=\"keys\", floatfmt=\"#.3g\").replace(\"nan\", \"N/A\").replace(\"Features\", \"Clinical\"))\n",
    "df = get_statistics((test), get_experts_for_names(expert_features, test_set.names, experts=[\"expert1\"]))#, get_experts_for_names(comparison_model_features, test_set.names, experts=[\"radiomics\"], transform=float))\n",
    "print(test_set.names)\n",
    "print(expert_features)\n",
    "#######test_statistics = df\n",
    "#######df = df.drop(['Acc', \"TPR\", \"TNR\", \"Total\", \"Malignant\", \"Benign\"], axis=1)\n",
    "#######print()\n",
    "#######print(\"##### Test\")\n",
    "#######print()\n",
    "#######print(tabulate(df, tablefmt=\"pipe\", headers=\"keys\", floatfmt=\"#.2g\").replace(\"nan\", \"N/A\").replace(\"Features\", \"Clinical\"))\n",
    "#df = get_statistics(test_1, get_experts_for_names(expert_features, test_set.names, experts=[\"expert1\", \"expert2\", \"expert3\", \"expert4\"]), get_experts_for_names(comparison_model_features, test_set.names, experts=[\"radiomics\"], transform=float))\n",
    "#test_1_statistics = df\n",
    "#df = df.drop(['Acc', \"TPR\", \"TNR\", \"Total\", \"Malignant\", \"Benign\"], axis=1)\n",
    "#print()\n",
    "#print(\"##### Test 1\")\n",
    "#print()\n",
    "#print(tabulate(df, tablefmt=\"pipe\", headers=\"keys\", floatfmt=\"#.2g\").replace(\"nan\", \"N/A\").replace(\"Features\", \"Clinical\"))\n",
    "#df = get_statistics(test_2, get_experts_for_names(expert_features, test_set.names, experts=[\"expert1\", \"expert2\", \"expert3\", \"expert4\"]), get_experts_for_names(comparison_model_features, test_set.names, experts=[\"radiomics\"], transform=float))\n",
    "#test_2_statistics = df\n",
    "#df = df.drop(['Acc', \"TPR\", \"TNR\", \"Total\", \"Malignant\", \"Benign\"], axis=1)\n",
    "#print()\n",
    "#print(\"##### Test 2\")\n",
    "#print()\n",
    "#print(tabulate(df, tablefmt=\"pipe\", headers=\"keys\", floatfmt=\"#.2g\").replace(\"nan\", \"N/A\").replace(\"Features\", \"Clinical\"))\n"
   ]
  },
  {
   "cell_type": "code",
   "execution_count": 28,
   "metadata": {},
   "outputs": [],
   "source": [
    "cross_validation_statistics = {\n",
    " 'F1 Score': 0.88,\n",
    " 'ROC AUC': 0.6243243243243244,\n",
    " 'PR AUC': 0.90,\n",
    " 'Acc': 0.80,\n",
    " 'TPR': 0.96,\n",
    " 'TNR': 0.22,\n",
    " 'PPV': 0.896551724137931,\n",
    " 'NPV': 0.3888888888888889,\n",
    " 'FDR': 0.10344827586206896,\n",
    " 'Total': 47,\n",
    " 'Malignant': 37,\n",
    " 'Benign': 10,\n",
    " 'Acc (95% CI)': '0.70 (0.56-0.81)',\n",
    " 'TPR (95% CI)': '0.70 (0.54-0.83)',\n",
    " 'TNR (95% CI)': '0.70 (0.39-0.90)'\n",
    "}"
   ]
  },
  {
   "cell_type": "code",
   "execution_count": 29,
   "metadata": {},
   "outputs": [
    {
     "ename": "NameError",
     "evalue": "name 'test_1_statistics' is not defined",
     "output_type": "error",
     "traceback": [
      "\u001b[0;31m---------------------------------------------------------------------------\u001b[0m",
      "\u001b[0;31mNameError\u001b[0m                                 Traceback (most recent call last)",
      "\u001b[0;32m<ipython-input-29-de514bd6d83b>\u001b[0m in \u001b[0;36m<module>\u001b[0;34m\u001b[0m\n\u001b[1;32m     69\u001b[0m     \u001b[0mt2_statistics\u001b[0m\u001b[0;34m=\u001b[0m\u001b[0mformat_AUC_statistics\u001b[0m\u001b[0;34m(\u001b[0m\u001b[0mdict\u001b[0m\u001b[0;34m(\u001b[0m\u001b[0mtest_statistics\u001b[0m\u001b[0;34m.\u001b[0m\u001b[0mloc\u001b[0m\u001b[0;34m[\u001b[0m\u001b[0;34m\"T2\"\u001b[0m\u001b[0;34m]\u001b[0m\u001b[0;34m)\u001b[0m\u001b[0;34m)\u001b[0m\u001b[0;34m,\u001b[0m\u001b[0;34m\u001b[0m\u001b[0m\n\u001b[1;32m     70\u001b[0m     \u001b[0mensemble_statistics\u001b[0m\u001b[0;34m=\u001b[0m\u001b[0mformat_AUC_statistics\u001b[0m\u001b[0;34m(\u001b[0m\u001b[0mdict\u001b[0m\u001b[0;34m(\u001b[0m\u001b[0mtest_statistics\u001b[0m\u001b[0;34m.\u001b[0m\u001b[0mloc\u001b[0m\u001b[0;34m[\u001b[0m\u001b[0;34m\"Ensemble\"\u001b[0m\u001b[0;34m]\u001b[0m\u001b[0;34m)\u001b[0m\u001b[0;34m)\u001b[0m\u001b[0;34m,\u001b[0m\u001b[0;34m\u001b[0m\u001b[0m\n\u001b[0;32m---> 71\u001b[0;31m     \u001b[0mensemble_1_statistics\u001b[0m\u001b[0;34m=\u001b[0m\u001b[0mformat_AUC_statistics\u001b[0m\u001b[0;34m(\u001b[0m\u001b[0mdict\u001b[0m\u001b[0;34m(\u001b[0m\u001b[0mtest_1_statistics\u001b[0m\u001b[0;34m.\u001b[0m\u001b[0mloc\u001b[0m\u001b[0;34m[\u001b[0m\u001b[0;34m\"Ensemble\"\u001b[0m\u001b[0;34m]\u001b[0m\u001b[0;34m)\u001b[0m\u001b[0;34m)\u001b[0m\u001b[0;34m,\u001b[0m\u001b[0;34m\u001b[0m\u001b[0m\n\u001b[0m\u001b[1;32m     72\u001b[0m     \u001b[0mensemble_2_statistics\u001b[0m\u001b[0;34m=\u001b[0m\u001b[0mformat_AUC_statistics\u001b[0m\u001b[0;34m(\u001b[0m\u001b[0mdict\u001b[0m\u001b[0;34m(\u001b[0m\u001b[0mtest_2_statistics\u001b[0m\u001b[0;34m.\u001b[0m\u001b[0mloc\u001b[0m\u001b[0;34m[\u001b[0m\u001b[0;34m\"Ensemble\"\u001b[0m\u001b[0;34m]\u001b[0m\u001b[0;34m)\u001b[0m\u001b[0;34m)\u001b[0m\u001b[0;34m,\u001b[0m\u001b[0;34m\u001b[0m\u001b[0m\n\u001b[1;32m     73\u001b[0m     \u001b[0mcross_validation_statistics\u001b[0m\u001b[0;34m=\u001b[0m\u001b[0mformat_AUC_statistics\u001b[0m\u001b[0;34m(\u001b[0m\u001b[0mcross_validation_statistics\u001b[0m\u001b[0;34m)\u001b[0m\u001b[0;34m,\u001b[0m\u001b[0;34m\u001b[0m\u001b[0m\n",
      "\u001b[0;31mNameError\u001b[0m: name 'test_1_statistics' is not defined"
     ]
    }
   ],
   "source": [
    "CI_text = \"\"\"{value:.2g} (95% CI: {low:.2g}-{high:.2g})\"\"\"\n",
    "\n",
    "statistics_text = \"\"\"test accuracy of {accuracy}, F1 score of {f1:.2g}, and sensitivity of {sensitivity}, and specificity of {specificity}\"\"\"\n",
    "def format_statistics(data):\n",
    "    acc_low, acc_high = adjusted_wald(data[\"Acc\"], data[\"Total\"])\n",
    "    tpr_low, tpr_high = adjusted_wald(data[\"TPR\"], data[\"Malignant\"])\n",
    "    tnr_low, tnr_high = adjusted_wald(data[\"TNR\"], data[\"Benign\"])\n",
    "    data_dict = {\n",
    "        \"accuracy\": CI_text.format(value=data[\"Acc\"], low=acc_low, high=acc_high),\n",
    "        \"sensitivity\": CI_text.format(value=data[\"TPR\"], low=tpr_low, high=tpr_high),\n",
    "        \"specificity\": CI_text.format(value=data[\"TNR\"], low=tnr_low, high=tnr_high),\n",
    "        \"f1\": data[\"F1 Score\"],\n",
    "    }\n",
    "    return statistics_text.format(**data_dict)\n",
    "\n",
    "statistics_AUC_text = \"\"\"test accuracy of {accuracy}, F1 score of {f1:.2g}, precision recall AUC of {PR_AUC:.2g}, sensitivity of {sensitivity}, and specificity of {specificity}\"\"\"\n",
    "def format_AUC_statistics(data):\n",
    "    acc_low, acc_high = adjusted_wald(data[\"Acc\"], data[\"Total\"])\n",
    "    tpr_low, tpr_high = adjusted_wald(data[\"TPR\"], data[\"Malignant\"])\n",
    "    tnr_low, tnr_high = adjusted_wald(data[\"TNR\"], data[\"Benign\"])\n",
    "    data_dict = {\n",
    "        \"accuracy\": CI_text.format(value=data[\"Acc\"], low=acc_low, high=acc_high),\n",
    "        \"sensitivity\": CI_text.format(value=data[\"TPR\"], low=tpr_low, high=tpr_high),\n",
    "        \"specificity\": CI_text.format(value=data[\"TNR\"], low=tnr_low, high=tnr_high),\n",
    "        \"f1\": data[\"F1 Score\"],\n",
    "        \"PR_AUC\": data[\"PR AUC\"],\n",
    "    }\n",
    "    return statistics_AUC_text.format(**data_dict)\n",
    "\n",
    "comparison_text =\"\"\"{accuracy_judge} test accuracy ({accuracy_1:.2g} vs. {accuracy_2:.2g}, p={accuracy_p:.2g}), {sensitivity_judge} test sensitivity ({sensitivity_1:.2g} vs. {sensitivity_2:.2g}, p={sensitivity_p:.2g}) and {specificity_judge} test specificity ({specificity_1:.2g} vs. {specificity_2:.2g}, p={specificity_p:.2g})\"\"\"\n",
    "def format_comparison_text(data_1, data_2):\n",
    "    data_dict = {\n",
    "        \"accuracy_judge\": \"higher\" if data_1[\"Acc\"] > data_2[\"Acc\"] else \"lower\",\n",
    "        \"sensitivity_judge\": \"higher\" if data_1[\"TPR\"] > data_2[\"TPR\"] else \"lower\",\n",
    "        \"specificity_judge\": \"higher\" if data_1[\"TNR\"] > data_2[\"TNR\"] else \"lower\",\n",
    "        \"accuracy_1\": data_1[\"Acc\"],\n",
    "        \"specificity_1\": data_1[\"TNR\"],\n",
    "        \"sensitivity_1\": data_1[\"TPR\"],\n",
    "        \"accuracy_2\": data_2[\"Acc\"],\n",
    "        \"specificity_2\": data_2[\"TNR\"],\n",
    "        \"sensitivity_2\": data_2[\"TPR\"],\n",
    "        \"accuracy_p\": binom_test(int(data_1[\"Acc\"] * data_1[\"Total\"]), data_1[\"Total\"], data_2[\"Acc\"]),\n",
    "        \"specificity_p\": binom_test(int(data_1[\"TNR\"] * data_1[\"Benign\"]), data_1[\"Benign\"], data_2[\"TNR\"]),\n",
    "        \"sensitivity_p\": binom_test(int(data_1[\"TPR\"] * data_1[\"Malignant\"]), data_1[\"Malignant\"], data_2[\"TPR\"]),\n",
    "    }\n",
    "    return comparison_text.format(**data_dict)\n",
    "\n",
    "results_text = \"\"\"\n",
    "## Model performance\n",
    "The train, validation and test sets were balanced in terms of age, gender, tumor size, tumor laterality, tumor location, histologic diagnosis, and institution (Supplemental table S1).\n",
    "\n",
    "Performance characteristics of the clinical variable logistic regression, models trained on T1C and T2WI images, and the final ensemble model in test set are summarized in Table 2. Performance characteristics in training and validation sets are summarized in Supplemental table S2. The clinical variable logistic regression achieved a {logistic_regression_statistics}.\n",
    "\n",
    "The T1C trained model achieved a {t1_statistics}. The T2WI trained model achieved a {t2_statistics}. The ensemble model achieved a {ensemble_statistics}. The ensemble model achieved comparative performance on the second set of test set segmentations with a {ensemble_1_statistics} and the third set of test set segmentation with a {ensemble_2_statistics} (Supplemental table S3). On average, cross validation analysis of the ensemble model demonstrated a {cross_validation_statistics}. Supplemental table S4 summarizes the cross-validation performance of the ensemble model.\n",
    "\n",
    "In comparison, expert 1 achieved a {expert_1_statistics}; expert 2 had a {expert_2_statistics}; expert 3 had a {expert_3_statistics}; expert 4 had a {expert_4_statistics}. Radiomics model achieved a {radiomics_statistics} (Supplemental table S5).\n",
    "\n",
    "CONFIRM THE BELOW PARAGRAPH IS STILL TRUE\n",
    "\n",
    "Compared to all experts averaged, the ensemble deep learning model had {ensemble_vs_experts}, COMMENT although none of these statistics was significantly different. Compared to the radiomics model, the ensemble deep learning model had {ensemble_vs_radiomics}; COMMENT difference in accuracy was not significant but differences in sensitivity and specificity between radiomics and ensemble deep learning models were significant. Compared to all experts averaged, the radiomics model had {radiomics_vs_experts}; COMMENT difference in accuracy was not significant, but differences in sensitivity and specificity between radiomics and averaged expert performance metrics were significant. Figure 2 shows the precision recall curves of all models overlaid with expert performance.\n",
    "\n",
    "Grad-Cam focus maps demonstrate that for the correctly classified images by our model, the algorithm was more likely to focus on the lesion or part of the lesion deemed important by the radiologists, while focus was more likely to be on the surrounding tissue for the incorrectly classified lesions (Figure 3). t-SNE representation of the final dense layer of ResNet demonstrates good separation of malignant and benign lesions by the model when compared to histopathological diagnosis (Figure 4).\n",
    "\n",
    "\"\"\"\n",
    "\n",
    "print(results_text.format(\n",
    "    logistic_regression_statistics=format_AUC_statistics(dict(test_statistics.loc[\"Features\"])),\n",
    "    t1_statistics=format_AUC_statistics(dict(test_statistics.loc[\"T1\"])),\n",
    "    t2_statistics=format_AUC_statistics(dict(test_statistics.loc[\"T2\"])),\n",
    "    ensemble_statistics=format_AUC_statistics(dict(test_statistics.loc[\"Ensemble\"])),\n",
    "    ensemble_1_statistics=format_AUC_statistics(dict(test_1_statistics.loc[\"Ensemble\"])),\n",
    "    ensemble_2_statistics=format_AUC_statistics(dict(test_2_statistics.loc[\"Ensemble\"])),\n",
    "    cross_validation_statistics=format_AUC_statistics(cross_validation_statistics),\n",
    "    expert_1_statistics=format_statistics(dict(test_statistics.loc[\"Expert 1\"])),\n",
    "    expert_2_statistics=format_statistics(dict(test_statistics.loc[\"Expert 2\"])),\n",
    "    expert_3_statistics=format_statistics(dict(test_statistics.loc[\"Expert 3\"])),\n",
    "    expert_4_statistics=format_statistics(dict(test_statistics.loc[\"Expert 4\"])),\n",
    "    radiomics_statistics=format_statistics(dict(test_statistics.loc[\"Radiomics\"])),\n",
    "    ensemble_vs_experts=format_comparison_text(dict(test_statistics.loc[\"Ensemble\"]), dict(test_statistics.loc[[\"Expert 1\", \"Expert 2\", \"Expert 3\", \"Expert 4\"]].mean())),\n",
    "    ensemble_vs_radiomics=format_comparison_text(dict(test_statistics.loc[\"Ensemble\"]), dict(test_statistics.loc[\"Radiomics\"])),\n",
    "    radiomics_vs_experts=format_comparison_text(dict(test_statistics.loc[\"Radiomics\"]), dict(test_statistics.loc[[\"Expert 1\", \"Expert 2\", \"Expert 3\", \"Expert 4\"]].mean())),\n",
    "))"
   ]
  },
  {
   "cell_type": "code",
   "execution_count": null,
   "metadata": {},
   "outputs": [],
   "source": [
    "results_text = \"\"\"\n",
    "## Inter-segmenter agreement\n",
    "\n",
    "The average DSC among our three segmenters was {dice_average}. Segmenter 1 and 2 had an average DSC of {dice_1_2}. Segmenter 2 and 3 had an average DSC of {dice_2_3}. Segmenter 1 and 3 had an average DSC of {dice_1_3}. Benign lesions had an average DSC of {dice_benign} across all reviewers, while malignant lesions had an average DSC of {dice_malignant} across all reviewers. \n",
    "\n",
    "## Model performance\n",
    "The train, validation and test sets were balanced in terms of age, gender, tumor size, tumor laterality, tumor location, histologic diagnosis, and institution (Supplemental table S1). \n",
    "\n",
    "Performance characteristics of the clinical variable logistic regression, models trained on T1C and T2WI images, and the final ensemble model in test set are summarized in Table 2. Performance characteristics in training and validation sets are summarized in Supplemental table S2. The clinical variable logistic regression achieved a test accuracy of {regression_accuracy}, F1 score of {regression_F1}, precision recall AUC of {regression_PR_AUC}, sensitivity of {regression_sensitivity}, and specificity of {regression_specificity}. \n",
    "\n",
    "The T1C trained model achieved a test accuracy of {t1c_accuracy}, F1 score of {t1c_f1}, precision recall AUC of {t1c_PR_AUC}, sensitivity of 0.92 (95% CI: 0.78-0.98), and specificity of 0.50 (95% CI: 0.24-0.76). The T2WI trained model achieved a test accuracy of 0.83 (95% CI: 0.70-0.91), F1 score of 0.90, precision recall AUC of 0.92, sensitivity of 0.97 (95% CI: 0.84-1.00), and specificity of 0.30 (95% CI: 0.10-0.61). The ensemble model achieved a test accuracy of 0.89 (95% CI: 0.77-0.96), F1 score of 0.94, precision recall AUC of 0.90, sensitivity of 1.0 (95% CI: 0.88-1.00), and specificity of 0.50 (95% CI: 0.24-0.76). The ensemble model achieved comparative performance on the second set of test set segmentations with an accuracy of 0.81 (95% CI: 0.67-0.90), F1 score of 0.89, precision recall AUC of 0.89, sensitivity of 0.97 (95% CI: 0.84-1.00), and specificity of 0.20 (95% CI: 0.05-0.52) and the third set of test set segmentation with an accuracy of 0.81 (95% CI: 0.67-0.90), F1 score of 0.89, precision recall AUC of 0.83, sensitivity of 1.0 (95% CI: 0.88-1.00), and specificity of 0.10 (95% CI: 0.00-0.42) (Supplemental table S3). The average cross validation test accuracy was 0.80 (95% CI: 0.66-0.89) with average F1 score of 0.88, precision recall AUC of 0.90, sensitivity of 0.96 (95% CI: 0.83-1.00), and specificity of 0.22 (95% CI: 0.06-0.54). Supplemental table S4 summarizes the cross-validation performance of the ensemble model.\n",
    "\n",
    "In comparison, expert 1 achieved a test accuracy of 0.85 (95% CI: 0.72-0.92), F1 score of 0.91, and sensitivity of 1.0 (95% CI: 0.88-1.00), and specificity of 0.30 (95% CI: 0.10-0.61); expert 2 had a test accuracy of 0.79 (95% CI: 0.65-0.88), F1 score of 0.88, and sensitivity of 0.95 (95% CI: 0.82-1.00), and specificity of 0.20 (95% CI: 0.05-0.52); expert 3 had a test accuracy of 0.74 (95% CI: 0.60-0.84), F1 score of 0.73, sensitivity of 0.81 (95% CI: 0.65-0.90), and specificity of 0.50 (95% CI: 0.24-0.76); expert 4 had a test accuracy of 0.85 (95% CI: 0.72-0.93), F1 score of 0.91, and sensitivity of 0.92 (95% CI: 0.78 -0.98), and specificity of 0.60 (95% CI: 0.31-0.83). Radiomics model achieved a test accuracy of 0.78 (95% CI: 0.64-0.88), F1 score of 0.84, sensitivity of 0.76 (95% CI: 0.60-0.87), and specificity of 0.80 (95% CI: 0.47-0.95) (Supplemental table S5).\n",
    "\n",
    "Compared to all experts averaged, the ensemble deep learning model had higher test accuracy (0.89 vs. 0.81, p=0.32), higher test sensitivity (1.00 vs. 0.92, p=0.07) and higher test specificity (0.50 vs. 0.40, p=0.53), although none of these statistics was significantly different. Compared to the radiomics model, the ensemble deep learning model had higher test accuracy (0.89 vs. 0.77, p=0.12), higher test sensitivity (1.00 vs. 0.76, p<0.01) and lower test specificity (0.50 vs. 0.80, p=0.03); difference in accuracy was not significant but differences in sensitivity and specificity between radiomics and ensemble deep learning models were significant. Compared to all experts averaged, the radiomics model had lower test accuracy (0.77 vs. 0.81, p=0.61), lower test sensitivity (0.76 vs. 0.92, p=0.0021) and higher test specificity (0.80 vs. 0.40, p<0.01); difference in accuracy was not significant, but differences in sensitivity and specificity between radiomics and averaged expert performance metrics were significant. Figure 2 shows the precision recall curves of all models overlaid with expert performance. \n",
    "\n",
    "Grad-Cam focus maps demonstrate that for the correctly classified images by our model, the algorithm was more likely to focus on the lesion or part of the lesion deemed important by the radiologists, while focus was more likely to be on the surrounding tissue for the incorrectly classified lesions (Figure 3). t-SNE representation of the final dense layer of ResNet demonstrates good separation of malignant and benign lesions by the model when compared to histopathological diagnosis (Figure 4).\n",
    "\n",
    "\"\"\""
   ]
  },
  {
   "cell_type": "code",
   "execution_count": null,
   "metadata": {
    "scrolled": true
   },
   "outputs": [],
   "source": [
    "train"
   ]
  },
  {
   "cell_type": "code",
   "execution_count": 113,
   "metadata": {
    "scrolled": false
   },
   "outputs": [
    {
     "name": "stdout",
     "output_type": "stream",
     "text": [
      "t2 100 100 100\n",
      "t1 100 100 100\n",
      "ensemble 100 100 100\n"
     ]
    },
    {
     "data": {
      "image/png": "[encoded data removed]",
      "text/plain": [
       "<Figure size 432x288 with 1 Axes>"
      ]
     },
     "metadata": {
      "needs_background": "light"
     },
     "output_type": "display_data"
    },
    {
     "data": {
      "image/png": "[encoded data removed]",
      "text/plain": [
       "<Figure size 432x288 with 1 Axes>"
      ]
     },
     "metadata": {
      "needs_background": "light"
     },
     "output_type": "display_data"
    }
   ],
   "source": [
    "#fig = plot_multiple_precision_recall(train, experts=get_experts_for_names(expert_features, train_set.names))#, comparison_models=get_experts_for_names(comparison_model_features, train_set.names, experts=['radiomics'], transform=float))\n",
    "#fig.savefig(\"figures/combined-train-precision-recall.svg\", bbox_inches = \"tight\")\n",
    "#fig = plot_multiple_precision_recall(validation, experts=get_experts_for_names(expert_features, validation_set.names))#,  comparison_models=get_experts_for_names(comparison_model_features, validation_set.names, experts=['radiomics'], transform=float))\n",
    "#fig.savefig(\"figures/combined-validation-precision-recall.svg\", bbox_inches = \"tight\")\n",
    "fig = plot_multiple_precision_recall(test, experts=get_experts_for_names(expert_features, test_set.names, experts=[\"expert1\"]))#, comparison_models=get_experts_for_names(comparison_model_features, test_set.names, experts=['radiomics'], transform=float))\n",
    "fig.savefig(\"figures/combined-test-precision-recall.svg\", bbox_inches = \"tight\")\n",
    "#fig = plot_multiple_precision_recall(test_1, experts=get_experts_for_names(expert_features, test_set.names, experts=[\"expert1\", \"expert2\", \"expert3\", \"expert4\"]))#, comparison_models=get_experts_for_names(comparison_model_features, test_set.names, experts=['radiomics'], transform=float))\n",
    "#fig.savefig(\"figures/combined-test-1-precision-recall.svg\", bbox_inches = \"tight\")\n",
    "#fig = plot_multiple_precision_recall(test_2, experts=get_experts_for_names(expert_features, test_set.names, experts=[\"expert1\", \"expert2\", \"expert3\", \"expert4\"]))#, comparison_models=get_experts_for_names(comparison_model_features, test_set.names, experts=['radiomics'], transform=float))\n",
    "#fig.savefig(\"figures/combined-test-2-precision-recall.svg\", bbox_inches = \"tight\")\n",
    "#fig = plot_multiple_roc_curve(train, experts=get_experts_for_names(expert_features, train_set.names))#, comparison_models=get_experts_for_names(comparison_model_features, train_set.names, experts=['radiomics'], transform=float))\n",
    "#fig.savefig(\"figures/combined-train-roc.svg\", bbox_inches = \"tight\")\n",
    "#fig = plot_multiple_roc_curve(validation, experts=get_experts_for_names(expert_features, validation_set.names))#, comparison_models=get_experts_for_names(comparison_model_features, validation_set.names, experts=['radiomics'], transform=float))\n",
    "#fig.savefig(\"figures/combined-validation-roc.svg\", bbox_inches = \"tight\")\n",
    "fig = plot_multiple_roc_curve(test, experts=get_experts_for_names(expert_features, test_set.names, experts=[\"expert1\"]))#, comparison_models=get_experts_for_names(comparison_model_features, test_set.names, experts=['radiomics'], transform=float))\n",
    "fig.savefig(\"figures/combined-test-roc.svg\", bbox_inches = \"tight\")\n",
    "#fig = plot_multiple_roc_curve(test_1, experts=get_experts_for_names(expert_features, test_set.names, experts=[\"expert1\", \"expert2\", \"expert3\", \"expert4\"]))#, comparison_models=get_experts_for_names(comparison_model_features, test_set.names, experts=['radiomics'], transform=float))\n",
    "#fig.savefig(\"figures/combined-test-1-roc.svg\", bbox_inches = \"tight\")\n",
    "#fig = plot_multiple_roc_curve(test_2, experts=get_experts_for_names(expert_features, test_set.names, experts=[\"expert1\", \"expert2\", \"expert3\", \"expert4\"]))#, comparison_models=get_experts_for_names(comparison_model_features, test_set.names, experts=['radiomics'], transform=float))\n",
    "#fig.savefig(\"figures/combined-test-2-roc.svg\", bbox_inches = \"tight\")"
   ]
  },
  {
   "cell_type": "code",
   "execution_count": null,
   "metadata": {},
   "outputs": [],
   "source": [
    "def correct_num_for_modality(dataset, experts=[], comparison_models=[]): \n",
    "    results = list()\n",
    "    if len(experts) > 0:\n",
    "        for i, expert in enumerate(experts): \n",
    "            labels = dataset[\"t1-labels\"]\n",
    "            predictions = expert\n",
    "            correct = sum([ labels[i] == p for i, p in enumerate(predictions) ])\n",
    "            total = len(labels)\n",
    "            results.append({ \n",
    "                \"correct\": correct, \n",
    "                \"total\": total, \n",
    "                \"incorrect\": total-correct, \n",
    "                \"modality\": \"Expert {}\".format(i),\n",
    "                \"acc\": correct/total,                \n",
    "                \"wald\": adjusted_wald(correct/total, total),\n",
    "                **calculate_confusion_matrix_stats_predictions(labels, predictions),\n",
    "            })\n",
    "    for modality in MODALITIES: \n",
    "        labels = dataset[\"{}-labels\".format(modality)]\n",
    "        probabilities = dataset[\"{}-probabilities\".format(modality)]\n",
    "        predictions = dataset[\"{}-predictions\".format(modality)]\n",
    "        total = len(labels)\n",
    "        correct = sum([ labels[i] == p for i, p in enumerate(predictions) ])\n",
    "        results.append({ \n",
    "            \"correct\": correct, \n",
    "            \"total\": total, \n",
    "            \"incorrect\": total-correct, \n",
    "            \"modality\": MODALITY_KEY[modality],\n",
    "            \"acc\": correct/total,\n",
    "            \"wald\": adjusted_wald(correct/total, total),\n",
    "            **calculate_confusion_matrix_stats_predictions(labels, predictions),            \n",
    "        })        \n",
    "    for probabilities in comparison_models: \n",
    "        modality = \"Radiomics\"\n",
    "        labels = dataset[\"t1-labels\"]\n",
    "        predictions = [p > 0.5 for p in probabilities]\n",
    "        predictions = dataset[\"{}-predictions\".format(modality)]\n",
    "        total = len(labels)\n",
    "        correct = sum([ labels[i] == p for i, p in enumerate(predictions) ])\n",
    "        results.append({ \n",
    "            \"correct\": correct, \n",
    "            \"total\": total, \n",
    "            \"incorrect\": total-correct, \n",
    "            \"modality\": modality,\n",
    "            \"acc\": correct/total,\n",
    "            \"wald\": adjusted_wald(correct/total, total),\n",
    "            **calculate_confusion_matrix_stats_predictions(labels, predictions),            \n",
    "        })                \n",
    "    return results"
   ]
  },
  {
   "cell_type": "code",
   "execution_count": null,
   "metadata": {},
   "outputs": [],
   "source": [
    "results = correct_num_for_modality(test, experts=get_experts_for_names(expert_features, test_set.names, experts=[\"expert1\", \"expert2\", \"expert3\", \"expert4\"]))#, comparison_models=get_experts_for_names(comparison_model_features, test_set.names, experts=['radiomics'], transform=float))"
   ]
  },
  {
   "cell_type": "code",
   "execution_count": null,
   "metadata": {
    "scrolled": false
   },
   "outputs": [],
   "source": [
    "experts = get_experts_for_names(expert_features, test_set.names, experts=[\"expert1\", \"expert2\", \"expert3\", \"expert4\"])"
   ]
  },
  {
   "cell_type": "code",
   "execution_count": null,
   "metadata": {},
   "outputs": [],
   "source": [
    "kappa_scores = list()\n",
    "for e in experts: \n",
    "    current = list()\n",
    "    for x in experts: \n",
    "        current.append(cohen_kappa_score(e, x))\n",
    "    kappa_scores.append(current)\n",
    "kappa_scores"
   ]
  },
  {
   "cell_type": "code",
   "execution_count": null,
   "metadata": {},
   "outputs": [],
   "source": [
    "seaborn.heatmap(kappa_scores, annot=True, square=True, fmt=\".2f\", xticklabels=[\"1\", \"2\", \"3\", \"4\"], yticklabels=[\"1\", \"2\", \"3\", \"4\"])"
   ]
  },
  {
   "cell_type": "code",
   "execution_count": null,
   "metadata": {},
   "outputs": [],
   "source": [
    "from itertools import combinations\n",
    "import numpy as np"
   ]
  },
  {
   "cell_type": "code",
   "execution_count": null,
   "metadata": {},
   "outputs": [],
   "source": [
    "unique_kappa = list()\n",
    "for x, y in combinations(experts, 2): \n",
    "    unique_kappa.append(cohen_kappa_score(x, y))\n",
    "np.average(unique_kappa)"
   ]
  },
  {
   "cell_type": "code",
   "execution_count": null,
   "metadata": {},
   "outputs": [],
   "source": [
    "def fleiss_kappa(ratings, n):\n",
    "    '''\n",
    "    Computes the Fleiss' kappa measure for assessing the reliability of \n",
    "    agreement between a fixed number n of raters when assigning categorical\n",
    "    ratings to a number of items.\n",
    "    \n",
    "    Args:\n",
    "        ratings: a list of (item, category)-ratings\n",
    "        n: number of raters\n",
    "        k: number of categories\n",
    "    Returns:\n",
    "        the Fleiss' kappa score\n",
    "    \n",
    "    See also:\n",
    "        http://en.wikipedia.org/wiki/Fleiss'_kappa\n",
    "    '''\n",
    "    items = set()\n",
    "    categories = set()\n",
    "    n_ij = {}\n",
    "    \n",
    "    for i, c in ratings:\n",
    "        items.add(i)\n",
    "        categories.add(c)\n",
    "        n_ij[(i,c)] = n_ij.get((i,c), 0) + 1\n",
    "    \n",
    "    N = len(items)\n",
    "    \n",
    "    p_j = dict(((c, sum(n_ij.get((i, c), 0) for i in items) / (1.0 * n * N)) for c in categories))\n",
    "    P_i = dict(((i, (sum(n_ij.get((i, c), 0) ** 2 for c in categories) - n) / (n * (n - 1.0))) for i in items))\n",
    "\n",
    "    P_bar = sum(P_i.values()) / (1.0 * N)\n",
    "    P_e_bar = sum(value ** 2 for value in p_j.values())\n",
    "    \n",
    "    kappa = (P_bar - P_e_bar) / (1 - P_e_bar)\n",
    "    \n",
    "    return kappa"
   ]
  },
  {
   "cell_type": "code",
   "execution_count": null,
   "metadata": {},
   "outputs": [],
   "source": [
    "fleiss_kappa_array = list()\n",
    "for e in list(zip(*experts)): \n",
    "    for i in e: \n",
    "        fleiss_kappa_array.append((1, i))"
   ]
  },
  {
   "cell_type": "code",
   "execution_count": null,
   "metadata": {},
   "outputs": [],
   "source": [
    "fleiss_kappa(fleiss_kappa_array, 4)"
   ]
  },
  {
   "cell_type": "code",
   "execution_count": null,
   "metadata": {},
   "outputs": [],
   "source": [
    "ratings = [(1, 'yes')] * 10 + [(1, 'no')] * 0  + \\\n",
    "[(2, 'yes')] * 8  + [(2, 'no')] * 2  + \\\n",
    "[(3, 'yes')] * 9  + [(3, 'no')] * 1  + \\\n",
    "[(4, 'yes')] * 0  + [(4, 'no')] * 10 + \\\n",
    "[(5, 'yes')] * 7  + [(5, 'no')] * 3\n",
    "ratings"
   ]
  },
  {
   "cell_type": "code",
   "execution_count": null,
   "metadata": {},
   "outputs": [],
   "source": [
    "x = np.array(experts).T\n",
    "fleiss_kappa(x)"
   ]
  },
  {
   "cell_type": "code",
   "execution_count": null,
   "metadata": {},
   "outputs": [],
   "source": [
    "ensemble = results.pop()\n",
    "for r in results: \n",
    "    print(r[\"modality\"], fisher_exact([[ensemble[\"correct\"], r[\"correct\"]], [ensemble[\"incorrect\"], r[\"incorrect\"]]]))"
   ]
  },
  {
   "cell_type": "code",
   "execution_count": null,
   "metadata": {},
   "outputs": [],
   "source": [
    "results"
   ]
  },
  {
   "cell_type": "code",
   "execution_count": null,
   "metadata": {},
   "outputs": [],
   "source": []
  },
  {
   "cell_type": "code",
   "execution_count": null,
   "metadata": {},
   "outputs": [],
   "source": [
    "from IPython.display import HTML\n",
    "HTML('''<script>\n",
    "code_show=true; \n",
    "function code_toggle() {\n",
    " if (code_show){\n",
    " $('div.input').hide();\n",
    " } else {\n",
    " $('div.input').show();\n",
    " }\n",
    " code_show = !code_show\n",
    "} \n",
    "$( document ).ready(code_toggle);\n",
    "</script>\n",
    "The raw code for this IPython notebook is by default hidden for easier reading.\n",
    "To toggle on/off the raw code, click <a href=\"javascript:code_toggle()\">here</a>.''')"
   ]
  },
  {
   "cell_type": "code",
   "execution_count": null,
   "metadata": {},
   "outputs": [],
   "source": []
  },
  {
   "cell_type": "code",
   "execution_count": null,
   "metadata": {},
   "outputs": [],
   "source": []
  },
  {
   "cell_type": "code",
   "execution_count": null,
   "metadata": {},
   "outputs": [],
   "source": []
  },
  {
   "cell_type": "code",
   "execution_count": null,
   "metadata": {},
   "outputs": [],
   "source": []
  },
  {
   "cell_type": "code",
   "execution_count": null,
   "metadata": {},
   "outputs": [],
   "source": []
  }
 ],
 "metadata": {
  "kernelspec": {
   "display_name": "Python 3",
   "language": "python",
   "name": "python3"
  },
  "language_info": {
   "codemirror_mode": {
    "name": "ipython",
    "version": 3
   },
   "file_extension": ".py",
   "mimetype": "text/x-python",
   "name": "python",
   "nbconvert_exporter": "python",
   "pygments_lexer": "ipython3",
   "version": "3.6.1"
  }
 },
 "nbformat": 4,
 "nbformat_minor": 2
}
