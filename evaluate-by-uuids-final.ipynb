{
 "cells": [
  {
   "cell_type": "code",
   "execution_count": 1,
   "metadata": {
    "scrolled": true
   },
   "outputs": [],
   "source": [
    "%load_ext autoreload\n",
    "%autoreload 2\n",
    "%matplotlib inline  \n",
    "from IPython.display import display, HTML, SVG\n",
    "from db import Result\n",
    "import papermill as pm\n",
    "import scrapbook as sb\n",
    "import os\n",
    "import seaborn\n",
    "import pandas\n",
    "import matplotlib.pyplot as plt\n",
    "from collections import defaultdict \n",
    "from sklearn.metrics import auc, precision_recall_curve, roc_curve, confusion_matrix, roc_auc_score, roc_curve, f1_score, accuracy_score\n",
    "from sklearn.metrics import cohen_kappa_score\n",
    "from evaluate import calculate_confusion_matrix_stats_predictions, calculate_roc_curve, roc_auc_score\n",
    "from scipy.stats import binom_test, fisher_exact, chi2_contingency\n",
    "from tabulate import tabulate\n",
    "from calculate_features import all_features\n",
    "from config import config\n",
    "from data_gen import data\n",
    "from matplotlib.ticker import (MultipleLocator, FormatStrFormatter, AutoMinorLocator)\n",
    "plt.rcParams['svg.fonttype'] = 'none'"
   ]
  },
  {
   "cell_type": "code",
   "execution_count": 31,
   "metadata": {},
   "outputs": [],
   "source": [
    "SKIP = False\n",
    "UUIDS = [\n",
    "    #\"8af9ab00-4d86-41ce-8a48-659af724d622\", #t2\n",
    "    #\"c26d1754-30e7-482d-af0c-93834c484085\", #t1c\n",
    "    #\"bb10c0e7-e7dc-418b-8b59-d9ac94790031\", #t1-specific\n",
    "    #\"43a64e79-3c40-442f-b318-7ca9e0c4a2be\", #t1-sensitive\n",
    "    #\"d786bcef-7a8a-4bcb-b80a-b2125d18fbfa\", #t2-specific\n",
    "    #\"dcae56f4-f8fb-4d8c-856e-984937195aa1\", #t2-sensitive\n",
    "    \n",
    "    #Actual models\n",
    "    #\"a266e5a5-4baf-421a-a412-11490d130b38\", # 7, prox/dist leg split\n",
    "    #\"82dc825c-9b8a-4e07-aa87-eca1a7ef2a59\", # features, original\n",
    "    #\"f4340657-422b-48f7-99ac-1598608c10bf\", # features, all new features\n",
    "    #\"dc2fc811-4fcc-49f2-92ad-4301fa064e27\", # 9 features with original set\n",
    "    #\"8057ab69-a4f6-4583-840c-b1eb195ea7aa\", #10 features, new set\n",
    "    #\"dcae56f4-f8fb-4d8c-856e-984937195aa1\", #optimal T2\n",
    "    #\"d8563137-6958-41e4-9d35-d9a9be745887\", #\"f683af1e-e68c-4180-beef-c9c040c4d63f\", # t2, original\n",
    "    #\"cd40b79a-7071-4beb-97dd-248b52f2687e\", #optimal t1\n",
    "    #\"69d65638-156f-4a73-bf6c-b6658294af4a\", # t1, original\n",
    "    \n",
    "    #For real this time\n",
    "    \"dcae56f4-f8fb-4d8c-856e-984937195aa1\", #t2 sensitive\n",
    "    \"d786bcef-7a8a-4bcb-b80a-b2125d18fbfa\", #t2 specific\n",
    "    \"43a64e79-3c40-442f-b318-7ca9e0c4a2be\", #t1 sensistive\n",
    "    \"bb10c0e7-e7dc-418b-8b59-d9ac94790031\", #t1 specific\n",
    "    \"8057ab69-a4f6-4583-840c-b1eb195ea7aa\", #clinical\n",
    "]\n",
    "SELECTIONS = {\n",
    "}\n",
    "TSNE_PERPLEXITY = {\n",
    "}\n",
    "MODALITY = {\n",
    "    #For real this time\n",
    "    \"dcae56f4-f8fb-4d8c-856e-984937195aa1\": \"t2-sn\", #t2 sensitive\n",
    "    \"d786bcef-7a8a-4bcb-b80a-b2125d18fbfa\": \"t2-sp\", #t2 specific\n",
    "    \"43a64e79-3c40-442f-b318-7ca9e0c4a2be\": \"t1-sn\", #t1 sensistive\n",
    "    \"bb10c0e7-e7dc-418b-8b59-d9ac94790031\": \"t1-sp\", #t1 specific\n",
    "    \"8057ab69-a4f6-4583-840c-b1eb195ea7aa\": \"features\", #clinical\n",
    "    #\"8af9ab00-4d86-41ce-8a48-659af724d622\": \"t2\", #t2\n",
    "    #\"c26d1754-30e7-482d-af0c-93834c484085\": \"t1c\", #t1c\n",
    "    #\"bb10c0e7-e7dc-418b-8b59-d9ac94790031\": \"t1\", #t1-specific\n",
    "    #\"43a64e79-3c40-442f-b318-7ca9e0c4a2be\": \"t1\", #t1-sensitive\n",
    "    #\"d786bcef-7a8a-4bcb-b80a-b2125d18fbfa\": \"t2\", #t2-specific\n",
    "    #\"dcae56f4-f8fb-4d8c-856e-984937195aa1\": \"t2\", #t2-sensitive\n",
    "    \n",
    "    #Actual models\n",
    "    #\"a266e5a5-4baf-421a-a412-11490d130b38\": \"features\",\n",
    "    #\"82dc825c-9b8a-4e07-aa87-eca1a7ef2a59\": \"features\", # features, original\n",
    "    #\"f4340657-422b-48f7-99ac-1598608c10bf\": \"features\", #features, all new features\n",
    "    #\"dc2fc811-4fcc-49f2-92ad-4301fa064e27\": \"features\", # 9 features with original set\n",
    "    #\"8057ab69-a4f6-4583-840c-b1eb195ea7aa\": \"features\", #features, 10 features\n",
    "    #\"dcae56f4-f8fb-4d8c-856e-984937195aa1\": \"t2\",\n",
    "    #\"cd40b79a-7071-4beb-97dd-248b52f2687e\": \"t1\",\n",
    "    \n",
    "    #\"d8563137-6958-41e4-9d35-d9a9be745887\": \"t2\", #\"f683af1e-e68c-4180-beef-c9c040c4d63f\", # t2 \n",
    "    #\"69d65638-156f-4a73-bf6c-b6658294af4a\": \"t1\", # t1\n",
    "}\n",
    "FEATURES_MODELS = [\n",
    "    #\"a266e5a5-4baf-421a-a412-11490d130b38\",\n",
    "    #\"dc2fc811-4fcc-49f2-92ad-4301fa064e27\", # 9 features with original set\n",
    "    \"8057ab69-a4f6-4583-840c-b1eb195ea7aa\"\n",
    "    #\"f4340657-422b-48f7-99ac-1598608c10bf\"\n",
    "    #\"82dc825c-9b8a-4e07-aa87-eca1a7ef2a59\"\n",
    "]"
   ]
  },
  {
   "cell_type": "code",
   "execution_count": 34,
   "metadata": {},
   "outputs": [],
   "source": [
    "import math\n",
    "def adjusted_wald(p, n, z=1.96):\n",
    "    p_adj = (n * p + (z**2)/2)/(n+z**2)\n",
    "    n_adj = n + z**2\n",
    "    span = z * math.sqrt(p_adj*(1-p_adj)/n_adj)\n",
    "    return max(0, p_adj - span), min(p_adj + span, 1.0)"
   ]
  },
  {
   "cell_type": "code",
   "execution_count": 35,
   "metadata": {},
   "outputs": [],
   "source": [
    "def execute_notebook(uuid, selections=None, tsne_perplexity=5, input_form=\"none\", description=\"\"): \n",
    "    name = \"notebooks/evaluate-{}-{}-{}.ipynb\".format(description, input_form, uuid)\n",
    "    if not SKIP and not os.path.exists(name):\n",
    "        if uuid not in FEATURES_MODELS:\n",
    "            pm.execute_notebook(\n",
    "                \"evaluate-specific-model.ipynb\",\n",
    "                \"notebooks/evaluate-{}-{}-{}.ipynb\".format(description, input_form, uuid),\n",
    "                parameters = dict(\n",
    "                    UUID=uuid,\n",
    "                    SELECTIONS=repr(selections),\n",
    "                    TSNE_PERPLEXITY=tsne_perplexity,\n",
    "                ))\n",
    "        else:\n",
    "            pm.execute_notebook(\n",
    "                \"evaluate-specific-feature-model.ipynb\",\n",
    "                \"notebooks/evaluate-{}-{}-{}.ipynb\".format(description, input_form, uuid),\n",
    "                parameters = dict(\n",
    "                    UUID=uuid\n",
    "                ))\n",
    "    return name"
   ]
  },
  {
   "cell_type": "code",
   "execution_count": 36,
   "metadata": {},
   "outputs": [],
   "source": [
    "completed_notebooks = list()\n",
    "modality_by_notebook = dict()"
   ]
  },
  {
   "cell_type": "code",
   "execution_count": 37,
   "metadata": {},
   "outputs": [
    {
     "name": "stdout",
     "output_type": "stream",
     "text": [
      "dcae56f4-f8fb-4d8c-856e-984937195aa1\n",
      "done\n",
      "d786bcef-7a8a-4bcb-b80a-b2125d18fbfa\n",
      "done\n",
      "43a64e79-3c40-442f-b318-7ca9e0c4a2be\n",
      "done\n",
      "bb10c0e7-e7dc-418b-8b59-d9ac94790031\n",
      "done\n",
      "8057ab69-a4f6-4583-840c-b1eb195ea7aa\n",
      "done\n"
     ]
    }
   ],
   "source": [
    "for uuid in UUIDS: \n",
    "    print(uuid)\n",
    "    result = Result.query.filter(Result.uuid == uuid).first()\n",
    "    name = execute_notebook(uuid, SELECTIONS.get(uuid), TSNE_PERPLEXITY.get(uuid), result.input_form, result.description)\n",
    "    completed_notebooks.append(name)\n",
    "    modality_by_notebook[name] = MODALITY[uuid]\n",
    "    print(\"done\")"
   ]
  },
  {
   "cell_type": "code",
   "execution_count": 38,
   "metadata": {},
   "outputs": [
    {
     "data": {
      "text/plain": [
       "{'notebooks/evaluate-t2_final_run_200-t2-dcae56f4-f8fb-4d8c-856e-984937195aa1.ipynb': 't2-sn',\n",
       " 'notebooks/evaluate-t2_final_run_200-t2-d786bcef-7a8a-4bcb-b80a-b2125d18fbfa.ipynb': 't2-sp',\n",
       " 'notebooks/evaluate-t1_final_200-t1-43a64e79-3c40-442f-b318-7ca9e0c4a2be.ipynb': 't1-sn',\n",
       " 'notebooks/evaluate-t1_final_200-t1-bb10c0e7-e7dc-418b-8b59-d9ac94790031.ipynb': 't1-sp',\n",
       " 'notebooks/evaluate-RFE(estimator=LogisticRegression(random_state=0), n_features_to_select=10)-features-8057ab69-a4f6-4583-840c-b1eb195ea7aa.ipynb': 'features'}"
      ]
     },
     "execution_count": 38,
     "metadata": {},
     "output_type": "execute_result"
    }
   ],
   "source": [
    "modality_by_notebook"
   ]
  },
  {
   "cell_type": "code",
   "execution_count": 39,
   "metadata": {},
   "outputs": [
    {
     "data": {
      "application/vnd.jupyter.widget-view+json": {
       "model_id": "d2175088879d4310bcd834bef275b94e",
       "version_major": 2,
       "version_minor": 0
      },
      "text/plain": [
       "Executing:   0%|          | 0/55 [00:00<?, ?cell/s]"
      ]
     },
     "metadata": {},
     "output_type": "display_data"
    }
   ],
   "source": [
    "name = \"notebooks/evaluate-ensemble-{}.ipynb\".format(\"-\".join(UUIDS))\n",
    "if not SKIP and not os.path.exists(name): \n",
    "    pm.execute_notebook(\n",
    "        \"evaluate-ensemble.ipynb\",\n",
    "        \"notebooks/evaluate-ensemble-{}.ipynb\".format(\"-\".join(UUIDS)),\n",
    "        parameters = dict(\n",
    "            MODELS=UUIDS,\n",
    "            SCORE=\"accuracy\",\n",
    "        ),\n",
    "    )\n",
    "completed_notebooks.append(\"notebooks/evaluate-ensemble-{}.ipynb\".format(\"-\".join(UUIDS)))"
   ]
  },
  {
   "cell_type": "code",
   "execution_count": 40,
   "metadata": {},
   "outputs": [],
   "source": [
    "modality_by_notebook[\"notebooks/evaluate-ensemble-{}.ipynb\".format(\"-\".join(UUIDS))] = \"ensemble\""
   ]
  },
  {
   "cell_type": "code",
   "execution_count": 41,
   "metadata": {},
   "outputs": [],
   "source": [
    "def get_notebook_output(notebook, name): \n",
    "    return notebook[name]\n",
    "    #return (notebook.scrap_dataframe[notebook.scrap_dataframe.name==name].value.tolist())[0]"
   ]
  },
  {
   "cell_type": "code",
   "execution_count": 42,
   "metadata": {},
   "outputs": [],
   "source": [
    "train = dict()\n",
    "validation = dict()\n",
    "test = dict()\n",
    "external = dict()\n",
    "test_1 = dict()\n",
    "test_2 = dict()\n",
    "for notebook in completed_notebooks:\n",
    "    nb = sb.read_notebook(notebook)\n",
    "    nb = nb.scraps.data_dict\n",
    "    train[\"{}-{}\".format(modality_by_notebook[notebook], \"labels\")] = get_notebook_output(nb, \"train_labels\")\n",
    "    train[\"{}-{}\".format(modality_by_notebook[notebook], \"predictions\")] = get_notebook_output(nb, \"train_predictions\")\n",
    "    train[\"{}-{}\".format(modality_by_notebook[notebook], \"probabilities\")] = get_notebook_output(nb, \"train_probabilities\")\n",
    "    validation[\"{}-{}\".format(modality_by_notebook[notebook], \"labels\")] = get_notebook_output(nb, \"validation_labels\")\n",
    "    validation[\"{}-{}\".format(modality_by_notebook[notebook], \"predictions\")] = get_notebook_output(nb, \"validation_predictions\")\n",
    "    validation[\"{}-{}\".format(modality_by_notebook[notebook], \"probabilities\")] = get_notebook_output(nb, \"validation_probabilities\")\n",
    "    test[\"{}-{}\".format(modality_by_notebook[notebook], \"labels\")] = get_notebook_output(nb, \"test_labels\")\n",
    "    test[\"{}-{}\".format(modality_by_notebook[notebook], \"predictions\")] = get_notebook_output(nb, \"test_predictions\")\n",
    "    test[\"{}-{}\".format(modality_by_notebook[notebook], \"probabilities\")] = get_notebook_output(nb, \"test_probabilities\")\n",
    "    external[\"{}-{}\".format(modality_by_notebook[notebook], \"labels\")] = get_notebook_output(nb, \"external_labels\")\n",
    "    external[\"{}-{}\".format(modality_by_notebook[notebook], \"predictions\")] = get_notebook_output(nb, \"external_predictions\")\n",
    "    external[\"{}-{}\".format(modality_by_notebook[notebook], \"probabilities\")] = get_notebook_output(nb, \"external_probabilities\")\n",
    "    #test_1[\"{}-{}\".format(modality_by_notebook[notebook], \"labels\")] = get_notebook_output(nb, \"test-1_labels\")\n",
    "    #test_1[\"{}-{}\".format(modality_by_notebook[notebook], \"predictions\")] = get_notebook_output(nb, \"test-1_predictions\")\n",
    "    #test_1[\"{}-{}\".format(modality_by_notebook[notebook], \"probabilities\")] = get_notebook_output(nb, \"test-1_probabilities\")\n",
    "    #test_2[\"{}-{}\".format(modality_by_notebook[notebook], \"labels\")] = get_notebook_output(nb, \"test-2_labels\")\n",
    "    #test_2[\"{}-{}\".format(modality_by_notebook[notebook], \"predictions\")] = get_notebook_output(nb, \"test-2_predictions\")\n",
    "    #test_2[\"{}-{}\".format(modality_by_notebook[notebook], \"probabilities\")] = get_notebook_output(nb, \"test-2_probabilities\")                                                     "
   ]
  },
  {
   "cell_type": "code",
   "execution_count": 43,
   "metadata": {},
   "outputs": [
    {
     "name": "stdout",
     "output_type": "stream",
     "text": [
      "678\n",
      "191\n",
      "93\n"
     ]
    }
   ],
   "source": [
    "print(len(train[\"ensemble-predictions\"]))\n",
    "print(len(validation[\"ensemble-predictions\"]))\n",
    "print(len(test[\"ensemble-predictions\"]))"
   ]
  },
  {
   "cell_type": "code",
   "execution_count": 44,
   "metadata": {},
   "outputs": [
    {
     "data": {
      "text/plain": [
       "['notebooks/evaluate-t2_final_run_200-t2-dcae56f4-f8fb-4d8c-856e-984937195aa1.ipynb',\n",
       " 'notebooks/evaluate-t2_final_run_200-t2-d786bcef-7a8a-4bcb-b80a-b2125d18fbfa.ipynb',\n",
       " 'notebooks/evaluate-t1_final_200-t1-43a64e79-3c40-442f-b318-7ca9e0c4a2be.ipynb',\n",
       " 'notebooks/evaluate-t1_final_200-t1-bb10c0e7-e7dc-418b-8b59-d9ac94790031.ipynb',\n",
       " 'notebooks/evaluate-RFE(estimator=LogisticRegression(random_state=0), n_features_to_select=10)-features-8057ab69-a4f6-4583-840c-b1eb195ea7aa.ipynb',\n",
       " 'notebooks/evaluate-ensemble-dcae56f4-f8fb-4d8c-856e-984937195aa1-d786bcef-7a8a-4bcb-b80a-b2125d18fbfa-43a64e79-3c40-442f-b318-7ca9e0c4a2be-bb10c0e7-e7dc-418b-8b59-d9ac94790031-8057ab69-a4f6-4583-840c-b1eb195ea7aa.ipynb']"
      ]
     },
     "execution_count": 44,
     "metadata": {},
     "output_type": "execute_result"
    }
   ],
   "source": [
    "completed_notebooks"
   ]
  },
  {
   "cell_type": "code",
   "execution_count": 45,
   "metadata": {
    "scrolled": true
   },
   "outputs": [
    {
     "name": "stderr",
     "output_type": "stream",
     "text": [
      "\r",
      "  0%|          | 0/678 [00:00<?, ?it/s]"
     ]
    },
    {
     "name": "stdout",
     "output_type": "stream",
     "text": [
      "dcae56f4-f8fb-4d8c-856e-984937195aa1\n",
      "84a64c17-fe3e-440c-aaaf-e1bd5b02576f\n",
      "                outcome_pos  outcome_neg  outcome_3   age  sex  \\\n",
      "patientID                                                        \n",
      "bone-brown-1              0            0          0  52.0    1   \n",
      "bone-brown-10             0            0          0  52.0    0   \n",
      "bone-brown-100            1            1          2  22.0    1   \n",
      "bone-brown-101            0            0          0  88.0    0   \n",
      "bone-brown-102            0            0          0  56.0    1   \n",
      "...                     ...          ...        ...   ...  ...   \n",
      "bone-penn-650             1            1          2  20.0    1   \n",
      "bone-penn-651             0            0          0  16.0    1   \n",
      "bone-penn-652             1            1          2   8.0    0   \n",
      "bone-penn-653             1            1          2  16.0    1   \n",
      "bone-penn-654             1            1          2   3.0    1   \n",
      "\n",
      "                                                         location        sort  \n",
      "patientID                                                                      \n",
      "bone-brown-1    [0.0, 0.0, 0.0, 0.0, 0.0, 0.0, 0.0, 0.0, 0.0, ...       train  \n",
      "bone-brown-10   [0.0, 0.0, 0.0, 0.0, 1.0, 0.0, 0.0, 0.0, 0.0, ...  validation  \n",
      "bone-brown-100  [0.0, 0.0, 0.0, 0.0, 0.0, 0.0, 0.0, 0.0, 0.0, ...       train  \n",
      "bone-brown-101  [0.0, 0.0, 0.0, 0.0, 0.0, 0.0, 0.0, 0.0, 0.0, ...       train  \n",
      "bone-brown-102  [0.0, 0.0, 0.0, 0.0, 0.0, 0.0, 0.0, 0.0, 0.0, ...  validation  \n",
      "...                                                           ...         ...  \n",
      "bone-penn-650   [0.0, 0.0, 0.0, 0.0, 0.0, 0.0, 0.0, 0.0, 0.0, ...       train  \n",
      "bone-penn-651   [0.0, 0.0, 0.0, 0.0, 0.0, 0.0, 0.0, 0.0, 0.0, ...       train  \n",
      "bone-penn-652   [0.0, 0.0, 0.0, 0.0, 1.0, 0.0, 0.0, 0.0, 0.0, ...       train  \n",
      "bone-penn-653   [0.0, 0.0, 0.0, 0.0, 0.0, 0.0, 0.0, 0.0, 0.0, ...       train  \n",
      "bone-penn-654   [0.0, 0.0, 0.0, 0.0, 0.0, 0.0, 0.0, 0.0, 0.0, ...       train  \n",
      "\n",
      "[1060 rows x 7 columns]\n",
      "1060\n",
      "1059\n",
      "Training points = 678\n",
      "Benign: 368, Malignant: 310\n",
      "\n",
      "Validation points = 191\n",
      "Benign: 105, Malignant: 86\n",
      "\n",
      "Testing points = 93\n",
      "Benign: 51, Malignant: 42\n",
      "External points = 97\n",
      "Benign: 58, Malignant: 39\n",
      "bone-brown-1\n",
      "I'm doing the thing.\n",
      "I'm doing the thing.\n",
      "bone-brown-100\n",
      "I'm doing the thing.\n"
     ]
    },
    {
     "name": "stderr",
     "output_type": "stream",
     "text": [
      "\r",
      "  0%|          | 2/678 [00:00<02:20,  4.82it/s]"
     ]
    },
    {
     "name": "stdout",
     "output_type": "stream",
     "text": [
      "I'm doing the thing.\n",
      "bone-brown-101\n",
      "I'm doing the thing.\n"
     ]
    },
    {
     "name": "stderr",
     "output_type": "stream",
     "text": [
      "\r",
      "  0%|          | 3/678 [00:00<02:55,  3.84it/s]"
     ]
    },
    {
     "name": "stdout",
     "output_type": "stream",
     "text": [
      "I'm doing the thing.\n",
      "bone-brown-103\n",
      "I'm doing the thing.\n"
     ]
    },
    {
     "name": "stderr",
     "output_type": "stream",
     "text": [
      "\r",
      "  1%|          | 4/678 [00:01<03:18,  3.39it/s]"
     ]
    },
    {
     "name": "stdout",
     "output_type": "stream",
     "text": [
      "I'm doing the thing.\n",
      "bone-brown-106\n",
      "I'm doing the thing.\n"
     ]
    },
    {
     "name": "stderr",
     "output_type": "stream",
     "text": [
      "  1%|          | 6/678 [00:02<06:00,  1.87it/s]"
     ]
    },
    {
     "name": "stdout",
     "output_type": "stream",
     "text": [
      "I'm doing the thing.\n",
      "bone-brown-107\n",
      "I'm doing the thing.\n",
      "I'm doing the thing.\n",
      "bone-brown-11\n",
      "I'm doing the thing.\n"
     ]
    },
    {
     "name": "stderr",
     "output_type": "stream",
     "text": [
      "\r",
      "  1%|          | 7/678 [00:03<05:02,  2.22it/s]"
     ]
    },
    {
     "name": "stdout",
     "output_type": "stream",
     "text": [
      "I'm doing the thing.\n",
      "bone-brown-110\n",
      "I'm doing the thing.\n",
      "I'm doing the thing.\n",
      "bone-brown-112\n",
      "I'm doing the thing.\n"
     ]
    },
    {
     "name": "stderr",
     "output_type": "stream",
     "text": [
      "\r",
      "  1%|▏         | 9/678 [00:03<03:40,  3.03it/s]"
     ]
    },
    {
     "name": "stdout",
     "output_type": "stream",
     "text": [
      "I'm doing the thing.\n",
      "bone-brown-113\n",
      "I'm doing the thing.\n"
     ]
    },
    {
     "name": "stderr",
     "output_type": "stream",
     "text": [
      "\r",
      "  1%|▏         | 10/678 [00:03<03:42,  3.00it/s]"
     ]
    },
    {
     "name": "stdout",
     "output_type": "stream",
     "text": [
      "I'm doing the thing.\n",
      "bone-brown-114\n",
      "I'm doing the thing.\n"
     ]
    },
    {
     "name": "stderr",
     "output_type": "stream",
     "text": [
      "\r",
      "  2%|▏         | 11/678 [00:04<03:36,  3.08it/s]"
     ]
    },
    {
     "name": "stdout",
     "output_type": "stream",
     "text": [
      "I'm doing the thing.\n",
      "bone-brown-115\n",
      "I'm doing the thing.\n"
     ]
    },
    {
     "name": "stderr",
     "output_type": "stream",
     "text": [
      "\r",
      "  2%|▏         | 12/678 [00:04<03:55,  2.83it/s]"
     ]
    },
    {
     "name": "stdout",
     "output_type": "stream",
     "text": [
      "I'm doing the thing.\n",
      "bone-brown-116\n",
      "I'm doing the thing.\n"
     ]
    },
    {
     "name": "stderr",
     "output_type": "stream",
     "text": [
      "\r",
      "  2%|▏         | 13/678 [00:04<03:46,  2.94it/s]"
     ]
    },
    {
     "name": "stdout",
     "output_type": "stream",
     "text": [
      "I'm doing the thing.\n",
      "bone-brown-117\n",
      "I'm doing the thing.\n"
     ]
    },
    {
     "name": "stderr",
     "output_type": "stream",
     "text": [
      "  2%|▏         | 15/678 [00:05<04:02,  2.73it/s]"
     ]
    },
    {
     "name": "stdout",
     "output_type": "stream",
     "text": [
      "I'm doing the thing.\n",
      "bone-brown-120\n",
      "I'm doing the thing.\n",
      "I'm doing the thing.\n",
      "bone-brown-121\n",
      "I'm doing the thing.\n"
     ]
    },
    {
     "name": "stderr",
     "output_type": "stream",
     "text": [
      "  3%|▎         | 17/678 [00:05<02:36,  4.21it/s]"
     ]
    },
    {
     "name": "stdout",
     "output_type": "stream",
     "text": [
      "I'm doing the thing.\n",
      "bone-brown-123\n",
      "I'm doing the thing.\n",
      "I'm doing the thing.\n",
      "bone-brown-124\n",
      "I'm doing the thing.\n"
     ]
    },
    {
     "name": "stderr",
     "output_type": "stream",
     "text": [
      "\r",
      "  3%|▎         | 18/678 [00:06<03:21,  3.27it/s]"
     ]
    },
    {
     "name": "stdout",
     "output_type": "stream",
     "text": [
      "I'm doing the thing.\n",
      "bone-brown-125\n",
      "I'm doing the thing.\n"
     ]
    },
    {
     "name": "stderr",
     "output_type": "stream",
     "text": [
      "  3%|▎         | 20/678 [00:06<02:57,  3.71it/s]"
     ]
    },
    {
     "name": "stdout",
     "output_type": "stream",
     "text": [
      "I'm doing the thing.\n",
      "bone-brown-13\n",
      "I'm doing the thing.\n",
      "I'm doing the thing.\n",
      "bone-brown-14\n",
      "I'm doing the thing.\n",
      "I'm doing the thing.\n",
      "bone-brown-15\n",
      "I'm doing the thing.\n"
     ]
    },
    {
     "name": "stderr",
     "output_type": "stream",
     "text": [
      "\r",
      "  3%|▎         | 22/678 [00:07<02:26,  4.47it/s]"
     ]
    },
    {
     "name": "stdout",
     "output_type": "stream",
     "text": [
      "I'm doing the thing.\n",
      "bone-brown-17\n",
      "I'm doing the thing.\n"
     ]
    },
    {
     "name": "stderr",
     "output_type": "stream",
     "text": [
      "\r",
      "  3%|▎         | 23/678 [00:07<03:03,  3.56it/s]"
     ]
    },
    {
     "name": "stdout",
     "output_type": "stream",
     "text": [
      "I'm doing the thing.\n",
      "bone-brown-19\n",
      "I'm doing the thing.\n"
     ]
    },
    {
     "name": "stderr",
     "output_type": "stream",
     "text": [
      "\r",
      "  4%|▎         | 24/678 [00:08<03:12,  3.39it/s]"
     ]
    },
    {
     "name": "stdout",
     "output_type": "stream",
     "text": [
      "I'm doing the thing.\n",
      "bone-brown-2\n",
      "I'm doing the thing.\n"
     ]
    },
    {
     "name": "stderr",
     "output_type": "stream",
     "text": [
      "\r",
      "  4%|▎         | 25/678 [00:08<03:22,  3.23it/s]"
     ]
    },
    {
     "name": "stdout",
     "output_type": "stream",
     "text": [
      "I'm doing the thing.\n",
      "bone-brown-20\n",
      "I'm doing the thing.\n"
     ]
    },
    {
     "name": "stderr",
     "output_type": "stream",
     "text": [
      "\r",
      "  4%|▍         | 26/678 [00:08<03:24,  3.19it/s]"
     ]
    },
    {
     "name": "stdout",
     "output_type": "stream",
     "text": [
      "I'm doing the thing.\n",
      "bone-brown-21\n",
      "I'm doing the thing.\n"
     ]
    },
    {
     "name": "stderr",
     "output_type": "stream",
     "text": [
      "\r",
      "  4%|▍         | 27/678 [00:09<04:16,  2.54it/s]"
     ]
    },
    {
     "name": "stdout",
     "output_type": "stream",
     "text": [
      "I'm doing the thing.\n",
      "bone-brown-22\n",
      "I'm doing the thing.\n",
      "I'm doing the thing.\n",
      "bone-brown-23\n",
      "I'm doing the thing.\n"
     ]
    },
    {
     "name": "stderr",
     "output_type": "stream",
     "text": [
      "\r",
      "  4%|▍         | 29/678 [00:09<03:12,  3.37it/s]"
     ]
    },
    {
     "name": "stdout",
     "output_type": "stream",
     "text": [
      "I'm doing the thing.\n",
      "bone-brown-24\n",
      "I'm doing the thing.\n",
      "I'm doing the thing.\n",
      "bone-brown-25\n",
      "I'm doing the thing.\n"
     ]
    },
    {
     "name": "stderr",
     "output_type": "stream",
     "text": [
      "  5%|▍         | 33/678 [00:10<02:20,  4.60it/s]"
     ]
    },
    {
     "name": "stdout",
     "output_type": "stream",
     "text": [
      "I'm doing the thing.\n",
      "bone-brown-27\n",
      "I'm doing the thing.\n",
      "I'm doing the thing.\n",
      "bone-brown-29\n",
      "I'm doing the thing.\n",
      "I'm doing the thing.\n",
      "bone-brown-3\n",
      "I'm doing the thing.\n"
     ]
    },
    {
     "name": "stderr",
     "output_type": "stream",
     "text": [
      "\r",
      "  5%|▌         | 34/678 [00:10<02:30,  4.28it/s]"
     ]
    },
    {
     "name": "stdout",
     "output_type": "stream",
     "text": [
      "I'm doing the thing.\n",
      "bone-brown-31\n",
      "I'm doing the thing.\n"
     ]
    },
    {
     "name": "stderr",
     "output_type": "stream",
     "text": [
      "\r",
      "  5%|▌         | 35/678 [00:10<02:30,  4.26it/s]"
     ]
    },
    {
     "name": "stdout",
     "output_type": "stream",
     "text": [
      "I'm doing the thing.\n",
      "bone-brown-32\n",
      "I'm doing the thing.\n"
     ]
    },
    {
     "name": "stderr",
     "output_type": "stream",
     "text": [
      "\r",
      "  5%|▌         | 36/678 [00:11<02:31,  4.24it/s]"
     ]
    },
    {
     "name": "stdout",
     "output_type": "stream",
     "text": [
      "I'm doing the thing.\n",
      "bone-brown-34\n",
      "I'm doing the thing.\n"
     ]
    },
    {
     "name": "stderr",
     "output_type": "stream",
     "text": [
      "\r",
      "  5%|▌         | 37/678 [00:11<03:01,  3.54it/s]"
     ]
    },
    {
     "name": "stdout",
     "output_type": "stream",
     "text": [
      "I'm doing the thing.\n",
      "bone-brown-35\n",
      "I'm doing the thing.\n"
     ]
    },
    {
     "name": "stderr",
     "output_type": "stream",
     "text": [
      "\r",
      "  6%|▌         | 38/678 [00:11<03:07,  3.42it/s]"
     ]
    },
    {
     "name": "stdout",
     "output_type": "stream",
     "text": [
      "I'm doing the thing.\n",
      "bone-brown-37\n",
      "I'm doing the thing.\n"
     ]
    },
    {
     "name": "stderr",
     "output_type": "stream",
     "text": [
      "  6%|▌         | 40/678 [00:12<02:38,  4.03it/s]"
     ]
    },
    {
     "name": "stdout",
     "output_type": "stream",
     "text": [
      "I'm doing the thing.\n",
      "bone-brown-38\n",
      "I'm doing the thing.\n",
      "I'm doing the thing.\n",
      "bone-brown-39\n",
      "I'm doing the thing.\n"
     ]
    },
    {
     "name": "stderr",
     "output_type": "stream",
     "text": [
      "\r",
      "  6%|▌         | 41/678 [00:12<02:43,  3.89it/s]"
     ]
    },
    {
     "name": "stdout",
     "output_type": "stream",
     "text": [
      "I'm doing the thing.\n",
      "bone-brown-41\n",
      "I'm doing the thing.\n"
     ]
    },
    {
     "name": "stderr",
     "output_type": "stream",
     "text": [
      "\r",
      "  6%|▌         | 42/678 [00:13<03:10,  3.34it/s]"
     ]
    },
    {
     "name": "stdout",
     "output_type": "stream",
     "text": [
      "I'm doing the thing.\n",
      "bone-brown-42\n",
      "I'm doing the thing.\n"
     ]
    },
    {
     "name": "stderr",
     "output_type": "stream",
     "text": [
      "\r",
      "  6%|▋         | 43/678 [00:14<05:38,  1.87it/s]"
     ]
    },
    {
     "name": "stdout",
     "output_type": "stream",
     "text": [
      "I'm doing the thing.\n",
      "bone-brown-44\n",
      "I'm doing the thing.\n"
     ]
    },
    {
     "name": "stderr",
     "output_type": "stream",
     "text": [
      "\r",
      "  6%|▋         | 44/678 [00:15<07:04,  1.49it/s]"
     ]
    },
    {
     "name": "stdout",
     "output_type": "stream",
     "text": [
      "I'm doing the thing.\n",
      "bone-brown-46\n",
      "I'm doing the thing.\n",
      "I'm doing the thing.\n",
      "bone-brown-50\n",
      "I'm doing the thing.\n"
     ]
    },
    {
     "name": "stderr",
     "output_type": "stream",
     "text": [
      "\r",
      "  7%|▋         | 46/678 [00:15<05:30,  1.91it/s]"
     ]
    },
    {
     "name": "stdout",
     "output_type": "stream",
     "text": [
      "I'm doing the thing.\n",
      "bone-brown-51\n",
      "I'm doing the thing.\n"
     ]
    },
    {
     "name": "stderr",
     "output_type": "stream",
     "text": [
      "\r",
      "  7%|▋         | 47/678 [00:16<05:05,  2.07it/s]"
     ]
    },
    {
     "name": "stdout",
     "output_type": "stream",
     "text": [
      "I'm doing the thing.\n",
      "bone-brown-52\n",
      "I'm doing the thing.\n"
     ]
    },
    {
     "name": "stderr",
     "output_type": "stream",
     "text": [
      "\r",
      "  7%|▋         | 48/678 [00:16<04:23,  2.39it/s]"
     ]
    },
    {
     "name": "stdout",
     "output_type": "stream",
     "text": [
      "I'm doing the thing.\n",
      "bone-brown-53\n",
      "I'm doing the thing.\n",
      "I'm doing the thing.\n",
      "bone-brown-54\n",
      "I'm doing the thing.\n"
     ]
    },
    {
     "name": "stderr",
     "output_type": "stream",
     "text": [
      "\r",
      "  7%|▋         | 50/678 [00:16<03:30,  2.99it/s]"
     ]
    },
    {
     "name": "stdout",
     "output_type": "stream",
     "text": [
      "I'm doing the thing.\n",
      "bone-brown-56\n",
      "I'm doing the thing.\n"
     ]
    },
    {
     "name": "stderr",
     "output_type": "stream",
     "text": [
      "  8%|▊         | 52/678 [00:17<02:59,  3.49it/s]"
     ]
    },
    {
     "name": "stdout",
     "output_type": "stream",
     "text": [
      "I'm doing the thing.\n",
      "bone-brown-58\n",
      "I'm doing the thing.\n",
      "I'm doing the thing.\n",
      "bone-brown-59\n",
      "I'm doing the thing.\n"
     ]
    },
    {
     "name": "stderr",
     "output_type": "stream",
     "text": [
      "\r",
      "  8%|▊         | 53/678 [00:17<03:51,  2.70it/s]"
     ]
    },
    {
     "name": "stdout",
     "output_type": "stream",
     "text": [
      "I'm doing the thing.\n",
      "bone-brown-6\n",
      "I'm doing the thing.\n"
     ]
    },
    {
     "name": "stderr",
     "output_type": "stream",
     "text": [
      "\r",
      "  8%|▊         | 54/678 [00:19<05:49,  1.79it/s]"
     ]
    },
    {
     "name": "stdout",
     "output_type": "stream",
     "text": [
      "I'm doing the thing.\n",
      "bone-brown-63\n",
      "I'm doing the thing.\n"
     ]
    },
    {
     "name": "stderr",
     "output_type": "stream",
     "text": [
      "  8%|▊         | 56/678 [00:19<04:19,  2.40it/s]"
     ]
    },
    {
     "name": "stdout",
     "output_type": "stream",
     "text": [
      "I'm doing the thing.\n",
      "bone-brown-64\n",
      "I'm doing the thing.\n",
      "I'm doing the thing.\n",
      "bone-brown-65\n",
      "I'm doing the thing.\n"
     ]
    },
    {
     "name": "stderr",
     "output_type": "stream",
     "text": [
      "  9%|▊         | 59/678 [00:20<02:41,  3.84it/s]"
     ]
    },
    {
     "name": "stdout",
     "output_type": "stream",
     "text": [
      "I'm doing the thing.\n",
      "bone-brown-68\n",
      "I'm doing the thing.\n",
      "I'm doing the thing.\n",
      "bone-brown-70\n",
      "I'm doing the thing.\n",
      "I'm doing the thing.\n",
      "bone-brown-72\n",
      "I'm doing the thing.\n"
     ]
    },
    {
     "name": "stderr",
     "output_type": "stream",
     "text": [
      "\r",
      "  9%|▉         | 60/678 [00:20<02:58,  3.46it/s]"
     ]
    },
    {
     "name": "stdout",
     "output_type": "stream",
     "text": [
      "I'm doing the thing.\n",
      "bone-brown-73\n",
      "I'm doing the thing.\n"
     ]
    },
    {
     "name": "stderr",
     "output_type": "stream",
     "text": [
      "  9%|▉         | 62/678 [00:21<02:39,  3.86it/s]"
     ]
    },
    {
     "name": "stdout",
     "output_type": "stream",
     "text": [
      "I'm doing the thing.\n",
      "bone-brown-74\n",
      "I'm doing the thing.\n",
      "I'm doing the thing.\n",
      "bone-brown-75\n",
      "I'm doing the thing.\n"
     ]
    },
    {
     "name": "stderr",
     "output_type": "stream",
     "text": [
      "\r",
      "  9%|▉         | 63/678 [00:21<02:49,  3.63it/s]"
     ]
    },
    {
     "name": "stdout",
     "output_type": "stream",
     "text": [
      "I'm doing the thing.\n",
      "bone-brown-76\n",
      "I'm doing the thing.\n"
     ]
    },
    {
     "name": "stderr",
     "output_type": "stream",
     "text": [
      "\r",
      "  9%|▉         | 64/678 [00:21<02:40,  3.83it/s]"
     ]
    },
    {
     "name": "stdout",
     "output_type": "stream",
     "text": [
      "I'm doing the thing.\n",
      "bone-brown-77\n",
      "I'm doing the thing.\n"
     ]
    },
    {
     "name": "stderr",
     "output_type": "stream",
     "text": [
      " 10%|▉         | 66/678 [00:22<02:28,  4.12it/s]"
     ]
    },
    {
     "name": "stdout",
     "output_type": "stream",
     "text": [
      "I'm doing the thing.\n",
      "bone-brown-78\n",
      "I'm doing the thing.\n",
      "I'm doing the thing.\n",
      "bone-brown-8\n",
      "I'm doing the thing.\n"
     ]
    },
    {
     "name": "stderr",
     "output_type": "stream",
     "text": [
      "\r",
      " 10%|▉         | 67/678 [00:22<02:39,  3.84it/s]"
     ]
    },
    {
     "name": "stdout",
     "output_type": "stream",
     "text": [
      "I'm doing the thing.\n",
      "bone-brown-81\n",
      "I'm doing the thing.\n",
      "I'm doing the thing.\n",
      "bone-brown-83\n",
      "I'm doing the thing.\n"
     ]
    },
    {
     "name": "stderr",
     "output_type": "stream",
     "text": [
      "\r",
      " 10%|█         | 69/678 [00:22<02:26,  4.15it/s]"
     ]
    },
    {
     "name": "stdout",
     "output_type": "stream",
     "text": [
      "I'm doing the thing.\n",
      "bone-brown-84\n",
      "I'm doing the thing.\n"
     ]
    },
    {
     "name": "stderr",
     "output_type": "stream",
     "text": [
      "\r",
      " 10%|█         | 70/678 [00:24<06:14,  1.62it/s]"
     ]
    },
    {
     "name": "stdout",
     "output_type": "stream",
     "text": [
      "I'm doing the thing.\n",
      "bone-brown-85\n",
      "I'm doing the thing.\n"
     ]
    },
    {
     "name": "stderr",
     "output_type": "stream",
     "text": [
      "\r",
      " 10%|█         | 71/678 [00:25<06:13,  1.63it/s]"
     ]
    },
    {
     "name": "stdout",
     "output_type": "stream",
     "text": [
      "I'm doing the thing.\n",
      "bone-brown-86\n",
      "I'm doing the thing.\n"
     ]
    },
    {
     "name": "stderr",
     "output_type": "stream",
     "text": [
      "\r",
      " 11%|█         | 72/678 [00:25<05:26,  1.86it/s]"
     ]
    },
    {
     "name": "stdout",
     "output_type": "stream",
     "text": [
      "I'm doing the thing.\n",
      "bone-brown-88\n",
      "I'm doing the thing.\n"
     ]
    },
    {
     "name": "stderr",
     "output_type": "stream",
     "text": [
      "\r",
      " 11%|█         | 73/678 [00:25<04:46,  2.12it/s]"
     ]
    },
    {
     "name": "stdout",
     "output_type": "stream",
     "text": [
      "I'm doing the thing.\n",
      "bone-brown-89\n",
      "I'm doing the thing.\n"
     ]
    },
    {
     "name": "stderr",
     "output_type": "stream",
     "text": [
      " 11%|█         | 75/678 [00:26<03:17,  3.05it/s]"
     ]
    },
    {
     "name": "stdout",
     "output_type": "stream",
     "text": [
      "I'm doing the thing.\n",
      "bone-brown-91\n",
      "I'm doing the thing.\n",
      "I'm doing the thing.\n",
      "bone-brown-92\n",
      "I'm doing the thing.\n"
     ]
    },
    {
     "name": "stderr",
     "output_type": "stream",
     "text": [
      "\r",
      " 11%|█         | 76/678 [00:26<03:35,  2.80it/s]"
     ]
    },
    {
     "name": "stdout",
     "output_type": "stream",
     "text": [
      "I'm doing the thing.\n",
      "bone-brown-94\n",
      "I'm doing the thing.\n"
     ]
    },
    {
     "name": "stderr",
     "output_type": "stream",
     "text": [
      "\r",
      " 11%|█▏        | 77/678 [00:26<03:07,  3.21it/s]"
     ]
    },
    {
     "name": "stdout",
     "output_type": "stream",
     "text": [
      "I'm doing the thing.\n",
      "bone-brown-95\n",
      "I'm doing the thing.\n"
     ]
    },
    {
     "name": "stderr",
     "output_type": "stream",
     "text": [
      "\r",
      " 12%|█▏        | 78/678 [00:27<03:10,  3.15it/s]"
     ]
    },
    {
     "name": "stdout",
     "output_type": "stream",
     "text": [
      "I'm doing the thing.\n",
      "bone-brown-96\n",
      "I'm doing the thing.\n",
      "I'm doing the thing.\n",
      "bone-brown-97\n",
      "I'm doing the thing.\n"
     ]
    },
    {
     "name": "stderr",
     "output_type": "stream",
     "text": [
      "\r",
      " 12%|█▏        | 80/678 [00:27<02:21,  4.22it/s]"
     ]
    },
    {
     "name": "stdout",
     "output_type": "stream",
     "text": [
      "I'm doing the thing.\n",
      "bone-brown-99\n",
      "I'm doing the thing.\n"
     ]
    },
    {
     "name": "stderr",
     "output_type": "stream",
     "text": [
      " 12%|█▏        | 82/678 [00:28<02:37,  3.79it/s]"
     ]
    },
    {
     "name": "stdout",
     "output_type": "stream",
     "text": [
      "I'm doing the thing.\n",
      "bone-china-002\n",
      "I'm doing the thing.\n",
      "I'm doing the thing.\n",
      "bone-china-004\n",
      "I'm doing the thing.\n",
      "I'm doing the thing.\n",
      "bone-china-005\n",
      "I'm doing the thing.\n"
     ]
    },
    {
     "name": "stderr",
     "output_type": "stream",
     "text": [
      " 13%|█▎        | 86/678 [00:28<01:24,  7.02it/s]"
     ]
    },
    {
     "name": "stdout",
     "output_type": "stream",
     "text": [
      "I'm doing the thing.\n",
      "bone-china-006\n",
      "I'm doing the thing.\n",
      "I'm doing the thing.\n",
      "bone-china-008\n",
      "I'm doing the thing.\n",
      "I'm doing the thing.\n",
      "bone-china-009\n",
      "I'm doing the thing.\n"
     ]
    },
    {
     "name": "stderr",
     "output_type": "stream",
     "text": [
      "\r",
      " 13%|█▎        | 88/678 [00:28<01:11,  8.31it/s]"
     ]
    },
    {
     "name": "stdout",
     "output_type": "stream",
     "text": [
      "I'm doing the thing.\n",
      "bone-china-010\n",
      "I'm doing the thing.\n",
      "I'm doing the thing.\n",
      "bone-china-014\n",
      "I'm doing the thing.\n",
      "I'm doing the thing.\n",
      "bone-china-015\n",
      "I'm doing the thing.\n"
     ]
    },
    {
     "name": "stderr",
     "output_type": "stream",
     "text": [
      " 14%|█▎        | 93/678 [00:28<00:48, 12.15it/s]"
     ]
    },
    {
     "name": "stdout",
     "output_type": "stream",
     "text": [
      "I'm doing the thing.\n",
      "bone-china-019\n",
      "I'm doing the thing.\n",
      "I'm doing the thing.\n",
      "bone-china-020\n",
      "I'm doing the thing.\n",
      "I'm doing the thing.\n",
      "bone-china-021\n",
      "I'm doing the thing.\n",
      "I'm doing the thing.\n",
      "bone-china-022\n",
      "I'm doing the thing.\n",
      "I'm doing the thing.\n",
      "bone-china-023\n",
      "I'm doing the thing.\n"
     ]
    },
    {
     "name": "stderr",
     "output_type": "stream",
     "text": [
      " 14%|█▍        | 97/678 [00:29<00:45, 12.75it/s]"
     ]
    },
    {
     "name": "stdout",
     "output_type": "stream",
     "text": [
      "I'm doing the thing.\n",
      "bone-china-027\n",
      "I'm doing the thing.\n",
      "I'm doing the thing.\n",
      "bone-china-028\n",
      "I'm doing the thing.\n",
      "I'm doing the thing.\n",
      "bone-china-029\n",
      "I'm doing the thing.\n",
      "I'm doing the thing.\n",
      "bone-china-031\n",
      "I'm doing the thing.\n"
     ]
    },
    {
     "name": "stderr",
     "output_type": "stream",
     "text": [
      " 15%|█▍        | 101/678 [00:29<00:43, 13.39it/s]"
     ]
    },
    {
     "name": "stdout",
     "output_type": "stream",
     "text": [
      "I'm doing the thing.\n",
      "bone-china-033\n",
      "I'm doing the thing.\n",
      "I'm doing the thing.\n",
      "bone-china-035\n",
      "I'm doing the thing.\n",
      "I'm doing the thing.\n",
      "bone-china-037\n",
      "I'm doing the thing.\n"
     ]
    },
    {
     "name": "stderr",
     "output_type": "stream",
     "text": [
      "\r",
      " 15%|█▌        | 103/678 [00:29<00:45, 12.60it/s]"
     ]
    },
    {
     "name": "stdout",
     "output_type": "stream",
     "text": [
      "I'm doing the thing.\n",
      "bone-china-038\n",
      "I'm doing the thing.\n",
      "I'm doing the thing.\n",
      "bone-china-039\n",
      "I'm doing the thing.\n",
      "I'm doing the thing.\n",
      "bone-china-041\n",
      "I'm doing the thing.\n"
     ]
    },
    {
     "name": "stderr",
     "output_type": "stream",
     "text": [
      " 16%|█▌        | 107/678 [00:29<00:46, 12.21it/s]"
     ]
    },
    {
     "name": "stdout",
     "output_type": "stream",
     "text": [
      "I'm doing the thing.\n",
      "bone-china-044\n",
      "I'm doing the thing.\n",
      "I'm doing the thing.\n",
      "bone-china-045\n",
      "I'm doing the thing.\n",
      "I'm doing the thing.\n",
      "bone-china-046\n",
      "I'm doing the thing.\n"
     ]
    },
    {
     "name": "stderr",
     "output_type": "stream",
     "text": [
      " 16%|█▋        | 111/678 [00:30<00:43, 12.90it/s]"
     ]
    },
    {
     "name": "stdout",
     "output_type": "stream",
     "text": [
      "I'm doing the thing.\n",
      "bone-china-047\n",
      "I'm doing the thing.\n",
      "I'm doing the thing.\n",
      "bone-china-050\n",
      "I'm doing the thing.\n",
      "I'm doing the thing.\n",
      "bone-china-051\n",
      "I'm doing the thing.\n",
      "I'm doing the thing.\n",
      "bone-china-052\n",
      "I'm doing the thing.\n"
     ]
    },
    {
     "name": "stderr",
     "output_type": "stream",
     "text": [
      "\r",
      " 17%|█▋        | 114/678 [00:30<00:37, 14.99it/s]"
     ]
    },
    {
     "name": "stdout",
     "output_type": "stream",
     "text": [
      "I'm doing the thing.\n",
      "bone-china-053\n",
      "I'm doing the thing.\n",
      "I'm doing the thing.\n",
      "bone-china-055\n",
      "I'm doing the thing.\n",
      "I'm doing the thing.\n",
      "bone-china-056\n",
      "I'm doing the thing.\n",
      "I'm doing the thing.\n",
      "bone-china-058\n",
      "I'm doing the thing.\n"
     ]
    },
    {
     "name": "stderr",
     "output_type": "stream",
     "text": [
      " 17%|█▋        | 118/678 [00:30<00:51, 10.78it/s]"
     ]
    },
    {
     "name": "stdout",
     "output_type": "stream",
     "text": [
      "I'm doing the thing.\n",
      "bone-china-059\n",
      "I'm doing the thing.\n",
      "I'm doing the thing.\n",
      "bone-china-060\n",
      "I'm doing the thing.\n",
      "I'm doing the thing.\n",
      "bone-china-061\n",
      "I'm doing the thing.\n",
      "I'm doing the thing.\n",
      "bone-china-062\n",
      "I'm doing the thing.\n"
     ]
    },
    {
     "name": "stderr",
     "output_type": "stream",
     "text": [
      " 18%|█▊        | 122/678 [00:31<00:49, 11.33it/s]"
     ]
    },
    {
     "name": "stdout",
     "output_type": "stream",
     "text": [
      "I'm doing the thing.\n",
      "bone-china-065\n",
      "I'm doing the thing.\n",
      "I'm doing the thing.\n",
      "bone-china-066\n",
      "I'm doing the thing.\n",
      "I'm doing the thing.\n",
      "bone-china-067\n",
      "I'm doing the thing.\n"
     ]
    },
    {
     "name": "stderr",
     "output_type": "stream",
     "text": [
      "\r",
      " 18%|█▊        | 124/678 [00:31<00:46, 11.88it/s]"
     ]
    },
    {
     "name": "stdout",
     "output_type": "stream",
     "text": [
      "I'm doing the thing.\n",
      "bone-china-068\n",
      "I'm doing the thing.\n",
      "I'm doing the thing.\n",
      "bone-china-069\n",
      "I'm doing the thing.\n",
      "I'm doing the thing.\n",
      "bone-china-070\n",
      "I'm doing the thing.\n"
     ]
    },
    {
     "name": "stderr",
     "output_type": "stream",
     "text": [
      " 19%|█▉        | 128/678 [00:31<00:42, 13.07it/s]"
     ]
    },
    {
     "name": "stdout",
     "output_type": "stream",
     "text": [
      "I'm doing the thing.\n",
      "bone-china-071\n",
      "I'm doing the thing.\n",
      "I'm doing the thing.\n",
      "bone-china-072\n",
      "I'm doing the thing.\n",
      "I'm doing the thing.\n",
      "bone-china-074\n",
      "I'm doing the thing.\n"
     ]
    },
    {
     "name": "stderr",
     "output_type": "stream",
     "text": [
      "\r",
      " 19%|█▉        | 130/678 [00:31<00:44, 12.30it/s]"
     ]
    },
    {
     "name": "stdout",
     "output_type": "stream",
     "text": [
      "I'm doing the thing.\n",
      "bone-china-075\n",
      "I'm doing the thing.\n",
      "I'm doing the thing.\n",
      "bone-china-076\n",
      "I'm doing the thing.\n"
     ]
    },
    {
     "name": "stderr",
     "output_type": "stream",
     "text": [
      "\r",
      " 19%|█▉        | 132/678 [00:32<00:59,  9.14it/s]"
     ]
    },
    {
     "name": "stdout",
     "output_type": "stream",
     "text": [
      "I'm doing the thing.\n",
      "bone-china-079\n",
      "I'm doing the thing.\n",
      "I'm doing the thing.\n",
      "bone-china-080\n",
      "I'm doing the thing.\n"
     ]
    },
    {
     "name": "stderr",
     "output_type": "stream",
     "text": [
      "\r",
      " 20%|█▉        | 134/678 [00:32<00:56,  9.69it/s]"
     ]
    },
    {
     "name": "stdout",
     "output_type": "stream",
     "text": [
      "I'm doing the thing.\n",
      "bone-china-081\n",
      "I'm doing the thing.\n",
      "I'm doing the thing.\n",
      "bone-china-083\n",
      "I'm doing the thing.\n",
      "I'm doing the thing.\n",
      "bone-china-084\n",
      "I'm doing the thing.\n"
     ]
    },
    {
     "name": "stderr",
     "output_type": "stream",
     "text": [
      " 20%|██        | 138/678 [00:32<00:55,  9.76it/s]"
     ]
    },
    {
     "name": "stdout",
     "output_type": "stream",
     "text": [
      "I'm doing the thing.\n",
      "bone-china-085\n",
      "I'm doing the thing.\n",
      "I'm doing the thing.\n",
      "bone-china-086\n",
      "I'm doing the thing.\n",
      "I'm doing the thing.\n",
      "bone-china-087\n",
      "I'm doing the thing.\n"
     ]
    },
    {
     "name": "stderr",
     "output_type": "stream",
     "text": [
      "\r",
      " 21%|██        | 140/678 [00:33<00:59,  9.05it/s]"
     ]
    },
    {
     "name": "stdout",
     "output_type": "stream",
     "text": [
      "I'm doing the thing.\n",
      "bone-china-088\n",
      "I'm doing the thing.\n",
      "I'm doing the thing.\n",
      "bone-china-089\n",
      "I'm doing the thing.\n"
     ]
    },
    {
     "name": "stderr",
     "output_type": "stream",
     "text": [
      "\r",
      " 21%|██        | 142/678 [00:33<00:52, 10.26it/s]"
     ]
    },
    {
     "name": "stdout",
     "output_type": "stream",
     "text": [
      "I'm doing the thing.\n",
      "bone-china-090\n",
      "I'm doing the thing.\n",
      "I'm doing the thing.\n",
      "bone-china-092\n",
      "I'm doing the thing.\n",
      "I'm doing the thing.\n",
      "bone-china-093\n",
      "I'm doing the thing.\n"
     ]
    },
    {
     "name": "stderr",
     "output_type": "stream",
     "text": [
      " 22%|██▏       | 146/678 [00:33<00:45, 11.80it/s]"
     ]
    },
    {
     "name": "stdout",
     "output_type": "stream",
     "text": [
      "I'm doing the thing.\n",
      "bone-china-099\n",
      "I'm doing the thing.\n",
      "I'm doing the thing.\n",
      "bone-china-100\n",
      "I'm doing the thing.\n",
      "I'm doing the thing.\n",
      "bone-china-101\n",
      "I'm doing the thing.\n"
     ]
    },
    {
     "name": "stderr",
     "output_type": "stream",
     "text": [
      "\r",
      " 22%|██▏       | 148/678 [00:33<00:43, 12.32it/s]"
     ]
    },
    {
     "name": "stdout",
     "output_type": "stream",
     "text": [
      "I'm doing the thing.\n",
      "bone-china-103\n",
      "I'm doing the thing.\n",
      "I'm doing the thing.\n",
      "bone-china-104\n",
      "I'm doing the thing.\n"
     ]
    },
    {
     "name": "stderr",
     "output_type": "stream",
     "text": [
      "\r",
      " 22%|██▏       | 150/678 [00:33<00:49, 10.62it/s]"
     ]
    },
    {
     "name": "stdout",
     "output_type": "stream",
     "text": [
      "I'm doing the thing.\n",
      "bone-china-105\n",
      "I'm doing the thing.\n",
      "I'm doing the thing.\n",
      "bone-china-107\n",
      "I'm doing the thing.\n"
     ]
    },
    {
     "name": "stderr",
     "output_type": "stream",
     "text": [
      "\r",
      " 22%|██▏       | 152/678 [00:34<00:46, 11.42it/s]"
     ]
    },
    {
     "name": "stdout",
     "output_type": "stream",
     "text": [
      "I'm doing the thing.\n",
      "bone-china-109\n",
      "I'm doing the thing.\n",
      "I'm doing the thing.\n",
      "bone-china-110\n",
      "I'm doing the thing.\n",
      "I'm doing the thing.\n",
      "bone-china-113\n",
      "I'm doing the thing.\n"
     ]
    },
    {
     "name": "stderr",
     "output_type": "stream",
     "text": [
      " 23%|██▎       | 156/678 [00:34<00:44, 11.64it/s]"
     ]
    },
    {
     "name": "stdout",
     "output_type": "stream",
     "text": [
      "I'm doing the thing.\n",
      "bone-china-114\n",
      "I'm doing the thing.\n",
      "I'm doing the thing.\n",
      "bone-china-117\n",
      "I'm doing the thing.\n",
      "I'm doing the thing.\n",
      "bone-china-118\n",
      "I'm doing the thing.\n"
     ]
    },
    {
     "name": "stderr",
     "output_type": "stream",
     "text": [
      "\r",
      " 23%|██▎       | 158/678 [00:34<00:49, 10.60it/s]"
     ]
    },
    {
     "name": "stdout",
     "output_type": "stream",
     "text": [
      "I'm doing the thing.\n",
      "bone-china-121\n",
      "I'm doing the thing.\n",
      "I'm doing the thing.\n",
      "bone-china-122\n",
      "I'm doing the thing.\n"
     ]
    },
    {
     "name": "stderr",
     "output_type": "stream",
     "text": [
      "\r",
      " 24%|██▎       | 160/678 [00:34<00:50, 10.19it/s]"
     ]
    },
    {
     "name": "stdout",
     "output_type": "stream",
     "text": [
      "I'm doing the thing.\n",
      "bone-china-123\n",
      "I'm doing the thing.\n",
      "I'm doing the thing.\n",
      "bone-china-124\n",
      "I'm doing the thing.\n"
     ]
    },
    {
     "name": "stderr",
     "output_type": "stream",
     "text": [
      "\r",
      " 24%|██▍       | 162/678 [00:35<00:48, 10.66it/s]"
     ]
    },
    {
     "name": "stdout",
     "output_type": "stream",
     "text": [
      "I'm doing the thing.\n",
      "bone-china-125\n",
      "I'm doing the thing.\n",
      "I'm doing the thing.\n",
      "bone-china-126\n",
      "I'm doing the thing.\n",
      "I'm doing the thing.\n",
      "bone-china-127\n",
      "I'm doing the thing.\n"
     ]
    },
    {
     "name": "stderr",
     "output_type": "stream",
     "text": [
      " 24%|██▍       | 166/678 [00:35<00:48, 10.56it/s]"
     ]
    },
    {
     "name": "stdout",
     "output_type": "stream",
     "text": [
      "I'm doing the thing.\n",
      "bone-china-131\n",
      "I'm doing the thing.\n",
      "I'm doing the thing.\n",
      "bone-china-132\n",
      "I'm doing the thing.\n",
      "I'm doing the thing.\n",
      "bone-china-133\n",
      "I'm doing the thing.\n"
     ]
    },
    {
     "name": "stderr",
     "output_type": "stream",
     "text": [
      "\r",
      " 25%|██▍       | 168/678 [00:35<00:51,  9.87it/s]"
     ]
    },
    {
     "name": "stdout",
     "output_type": "stream",
     "text": [
      "I'm doing the thing.\n",
      "bone-china-134\n",
      "I'm doing the thing.\n",
      "I'm doing the thing.\n",
      "bone-china-135\n",
      "I'm doing the thing.\n"
     ]
    },
    {
     "name": "stderr",
     "output_type": "stream",
     "text": [
      "\r",
      " 25%|██▌       | 170/678 [00:35<00:45, 11.29it/s]"
     ]
    },
    {
     "name": "stdout",
     "output_type": "stream",
     "text": [
      "I'm doing the thing.\n",
      "bone-china-136\n",
      "I'm doing the thing.\n",
      "I'm doing the thing.\n",
      "bone-china-138\n",
      "I'm doing the thing.\n",
      "I'm doing the thing.\n",
      "bone-china-140\n",
      "I'm doing the thing.\n"
     ]
    },
    {
     "name": "stderr",
     "output_type": "stream",
     "text": [
      "\r",
      " 25%|██▌       | 172/678 [00:36<00:47, 10.60it/s]"
     ]
    },
    {
     "name": "stdout",
     "output_type": "stream",
     "text": [
      "I'm doing the thing.\n",
      "bone-china-143\n",
      "I'm doing the thing.\n",
      "I'm doing the thing.\n",
      "bone-china-145\n",
      "I'm doing the thing.\n"
     ]
    },
    {
     "name": "stderr",
     "output_type": "stream",
     "text": [
      "\r",
      " 26%|██▌       | 174/678 [00:36<00:54,  9.30it/s]"
     ]
    },
    {
     "name": "stdout",
     "output_type": "stream",
     "text": [
      "I'm doing the thing.\n",
      "bone-china-146\n",
      "I'm doing the thing.\n",
      "I'm doing the thing.\n",
      "bone-china-148\n",
      "I'm doing the thing.\n"
     ]
    },
    {
     "name": "stderr",
     "output_type": "stream",
     "text": [
      " 26%|██▌       | 177/678 [00:36<00:54,  9.12it/s]"
     ]
    },
    {
     "name": "stdout",
     "output_type": "stream",
     "text": [
      "I'm doing the thing.\n",
      "bone-china-149\n",
      "I'm doing the thing.\n",
      "I'm doing the thing.\n",
      "bone-china-152\n",
      "I'm doing the thing.\n",
      "I'm doing the thing.\n",
      "bone-china-153\n",
      "I'm doing the thing.\n"
     ]
    },
    {
     "name": "stderr",
     "output_type": "stream",
     "text": [
      " 27%|██▋       | 181/678 [00:36<00:43, 11.47it/s]"
     ]
    },
    {
     "name": "stdout",
     "output_type": "stream",
     "text": [
      "I'm doing the thing.\n",
      "bone-china-154\n",
      "I'm doing the thing.\n",
      "I'm doing the thing.\n",
      "bone-china-158\n",
      "I'm doing the thing.\n",
      "I'm doing the thing.\n",
      "bone-china-159\n",
      "I'm doing the thing.\n"
     ]
    },
    {
     "name": "stderr",
     "output_type": "stream",
     "text": [
      "\r",
      " 27%|██▋       | 183/678 [00:37<00:47, 10.51it/s]"
     ]
    },
    {
     "name": "stdout",
     "output_type": "stream",
     "text": [
      "I'm doing the thing.\n",
      "bone-china-160\n",
      "I'm doing the thing.\n",
      "I'm doing the thing.\n",
      "bone-china-161\n",
      "I'm doing the thing.\n",
      "I'm doing the thing.\n",
      "bone-china-164\n",
      "I'm doing the thing.\n"
     ]
    },
    {
     "name": "stderr",
     "output_type": "stream",
     "text": [
      " 28%|██▊       | 187/678 [00:37<00:39, 12.34it/s]"
     ]
    },
    {
     "name": "stdout",
     "output_type": "stream",
     "text": [
      "I'm doing the thing.\n",
      "bone-china-166\n",
      "I'm doing the thing.\n",
      "I'm doing the thing.\n",
      "bone-china-167\n",
      "I'm doing the thing.\n",
      "I'm doing the thing.\n",
      "bone-china-169\n",
      "I'm doing the thing.\n"
     ]
    },
    {
     "name": "stderr",
     "output_type": "stream",
     "text": [
      "\r",
      " 28%|██▊       | 189/678 [00:37<00:39, 12.37it/s]"
     ]
    },
    {
     "name": "stdout",
     "output_type": "stream",
     "text": [
      "I'm doing the thing.\n",
      "bone-china-170\n",
      "I'm doing the thing.\n",
      "I'm doing the thing.\n",
      "bone-china-174\n",
      "I'm doing the thing.\n"
     ]
    },
    {
     "name": "stderr",
     "output_type": "stream",
     "text": [
      "\r",
      " 28%|██▊       | 191/678 [00:37<00:46, 10.57it/s]"
     ]
    },
    {
     "name": "stdout",
     "output_type": "stream",
     "text": [
      "I'm doing the thing.\n",
      "bone-china-175\n",
      "I'm doing the thing.\n",
      "I'm doing the thing.\n",
      "bone-china-176\n",
      "I'm doing the thing.\n"
     ]
    },
    {
     "name": "stderr",
     "output_type": "stream",
     "text": [
      "\r",
      " 28%|██▊       | 193/678 [00:38<00:45, 10.66it/s]"
     ]
    },
    {
     "name": "stdout",
     "output_type": "stream",
     "text": [
      "I'm doing the thing.\n",
      "bone-china-177\n",
      "I'm doing the thing.\n",
      "I'm doing the thing.\n",
      "bone-china-180\n",
      "I'm doing the thing.\n",
      "I'm doing the thing.\n",
      "bone-china-184\n",
      "I'm doing the thing.\n"
     ]
    },
    {
     "name": "stderr",
     "output_type": "stream",
     "text": [
      " 29%|██▉       | 197/678 [00:38<00:38, 12.53it/s]"
     ]
    },
    {
     "name": "stdout",
     "output_type": "stream",
     "text": [
      "I'm doing the thing.\n",
      "bone-china-186\n",
      "I'm doing the thing.\n",
      "I'm doing the thing.\n",
      "bone-china-187\n",
      "I'm doing the thing.\n",
      "I'm doing the thing.\n",
      "bone-china-189\n",
      "I'm doing the thing.\n",
      "I'm doing the thing.\n",
      "bone-china-190\n",
      "I'm doing the thing.\n"
     ]
    },
    {
     "name": "stderr",
     "output_type": "stream",
     "text": [
      " 30%|██▉       | 201/678 [00:38<00:35, 13.34it/s]"
     ]
    },
    {
     "name": "stdout",
     "output_type": "stream",
     "text": [
      "I'm doing the thing.\n",
      "bone-china-192\n",
      "I'm doing the thing.\n",
      "I'm doing the thing.\n",
      "bone-china-193\n",
      "I'm doing the thing.\n",
      "I'm doing the thing.\n",
      "bone-china-194\n",
      "I'm doing the thing.\n"
     ]
    },
    {
     "name": "stderr",
     "output_type": "stream",
     "text": [
      "\r",
      " 30%|██▉       | 203/678 [00:38<00:38, 12.24it/s]"
     ]
    },
    {
     "name": "stdout",
     "output_type": "stream",
     "text": [
      "I'm doing the thing.\n",
      "bone-china-196\n",
      "I'm doing the thing.\n",
      "I'm doing the thing.\n",
      "bone-china-198\n",
      "I'm doing the thing.\n",
      "I'm doing the thing.\n",
      "bone-china-199\n",
      "I'm doing the thing.\n"
     ]
    },
    {
     "name": "stderr",
     "output_type": "stream",
     "text": [
      " 31%|███       | 207/678 [00:39<00:38, 12.09it/s]"
     ]
    },
    {
     "name": "stdout",
     "output_type": "stream",
     "text": [
      "I'm doing the thing.\n",
      "bone-china-203\n",
      "I'm doing the thing.\n",
      "I'm doing the thing.\n",
      "bone-china-209\n",
      "I'm doing the thing.\n",
      "I'm doing the thing.\n",
      "bone-china-212\n",
      "I'm doing the thing.\n"
     ]
    },
    {
     "name": "stderr",
     "output_type": "stream",
     "text": [
      "\r",
      " 31%|███       | 209/678 [00:39<00:38, 12.33it/s]"
     ]
    },
    {
     "name": "stdout",
     "output_type": "stream",
     "text": [
      "I'm doing the thing.\n",
      "bone-china-213\n",
      "I'm doing the thing.\n",
      "I'm doing the thing.\n",
      "bone-china-215\n",
      "I'm doing the thing.\n",
      "I'm doing the thing.\n",
      "bone-china-216\n",
      "I'm doing the thing.\n"
     ]
    },
    {
     "name": "stderr",
     "output_type": "stream",
     "text": [
      " 31%|███▏      | 213/678 [00:39<00:37, 12.31it/s]"
     ]
    },
    {
     "name": "stdout",
     "output_type": "stream",
     "text": [
      "I'm doing the thing.\n",
      "bone-china-217\n",
      "I'm doing the thing.\n",
      "I'm doing the thing.\n",
      "bone-china-221\n",
      "I'm doing the thing.\n",
      "I'm doing the thing.\n",
      "bone-china-222\n",
      "I'm doing the thing.\n"
     ]
    },
    {
     "name": "stderr",
     "output_type": "stream",
     "text": [
      "\r",
      " 32%|███▏      | 215/678 [00:39<00:39, 11.70it/s]"
     ]
    },
    {
     "name": "stdout",
     "output_type": "stream",
     "text": [
      "I'm doing the thing.\n",
      "bone-china-223\n",
      "I'm doing the thing.\n",
      "I'm doing the thing.\n",
      "bone-china-225\n",
      "I'm doing the thing.\n"
     ]
    },
    {
     "name": "stderr",
     "output_type": "stream",
     "text": [
      "\r",
      " 32%|███▏      | 217/678 [00:40<00:44, 10.26it/s]"
     ]
    },
    {
     "name": "stdout",
     "output_type": "stream",
     "text": [
      "I'm doing the thing.\n",
      "bone-china-228\n",
      "I'm doing the thing.\n",
      "I'm doing the thing.\n",
      "bone-china-231\n",
      "I'm doing the thing.\n",
      "I'm doing the thing.\n",
      "bone-china-234\n",
      "I'm doing the thing.\n"
     ]
    },
    {
     "name": "stderr",
     "output_type": "stream",
     "text": [
      "\r",
      " 32%|███▏      | 219/678 [00:40<00:47,  9.61it/s]"
     ]
    },
    {
     "name": "stdout",
     "output_type": "stream",
     "text": [
      "I'm doing the thing.\n",
      "bone-china-242\n",
      "I'm doing the thing.\n"
     ]
    },
    {
     "name": "stderr",
     "output_type": "stream",
     "text": [
      "\r",
      " 33%|███▎      | 221/678 [00:40<00:57,  7.93it/s]"
     ]
    },
    {
     "name": "stdout",
     "output_type": "stream",
     "text": [
      "I'm doing the thing.\n",
      "bone-china-243\n",
      "I'm doing the thing.\n",
      "I'm doing the thing.\n",
      "bone-hup-101\n",
      "I'm doing the thing.\n"
     ]
    },
    {
     "name": "stderr",
     "output_type": "stream",
     "text": [
      " 33%|███▎      | 223/678 [00:40<01:06,  6.83it/s]"
     ]
    },
    {
     "name": "stdout",
     "output_type": "stream",
     "text": [
      "I'm doing the thing.\n",
      "bone-hup-102\n",
      "I'm doing the thing.\n",
      "I'm doing the thing.\n",
      "bone-hup-103\n",
      "I'm doing the thing.\n",
      "I'm doing the thing.\n",
      "bone-hup-104\n",
      "I'm doing the thing.\n"
     ]
    },
    {
     "name": "stderr",
     "output_type": "stream",
     "text": [
      "\r",
      " 33%|███▎      | 225/678 [00:41<00:58,  7.68it/s]"
     ]
    },
    {
     "name": "stdout",
     "output_type": "stream",
     "text": [
      "I'm doing the thing.\n",
      "bone-hup-108\n",
      "I'm doing the thing.\n",
      "I'm doing the thing.\n",
      "bone-hup-109\n",
      "I'm doing the thing.\n"
     ]
    },
    {
     "name": "stderr",
     "output_type": "stream",
     "text": [
      "\r",
      " 33%|███▎      | 227/678 [00:41<01:09,  6.50it/s]"
     ]
    },
    {
     "name": "stdout",
     "output_type": "stream",
     "text": [
      "I'm doing the thing.\n",
      "bone-hup-111\n",
      "I'm doing the thing.\n"
     ]
    },
    {
     "name": "stderr",
     "output_type": "stream",
     "text": [
      "\r",
      " 34%|███▎      | 228/678 [00:42<01:31,  4.91it/s]"
     ]
    },
    {
     "name": "stdout",
     "output_type": "stream",
     "text": [
      "I'm doing the thing.\n",
      "bone-hup-112\n",
      "I'm doing the thing.\n"
     ]
    },
    {
     "name": "stderr",
     "output_type": "stream",
     "text": [
      "\r",
      " 34%|███▍      | 229/678 [00:42<01:36,  4.64it/s]"
     ]
    },
    {
     "name": "stdout",
     "output_type": "stream",
     "text": [
      "I'm doing the thing.\n",
      "bone-hup-114\n",
      "I'm doing the thing.\n"
     ]
    },
    {
     "name": "stderr",
     "output_type": "stream",
     "text": [
      "\r",
      " 34%|███▍      | 230/678 [00:42<01:52,  3.98it/s]"
     ]
    },
    {
     "name": "stdout",
     "output_type": "stream",
     "text": [
      "I'm doing the thing.\n",
      "bone-hup-116\n",
      "I'm doing the thing.\n"
     ]
    },
    {
     "name": "stderr",
     "output_type": "stream",
     "text": [
      "\r",
      " 34%|███▍      | 231/678 [00:42<02:03,  3.61it/s]"
     ]
    },
    {
     "name": "stdout",
     "output_type": "stream",
     "text": [
      "I'm doing the thing.\n",
      "bone-hup-118\n",
      "I'm doing the thing.\n"
     ]
    },
    {
     "name": "stderr",
     "output_type": "stream",
     "text": [
      " 34%|███▍      | 233/678 [00:43<01:48,  4.11it/s]"
     ]
    },
    {
     "name": "stdout",
     "output_type": "stream",
     "text": [
      "I'm doing the thing.\n",
      "bone-hup-119\n",
      "I'm doing the thing.\n",
      "I'm doing the thing.\n",
      "bone-hup-120\n",
      "I'm doing the thing.\n"
     ]
    },
    {
     "name": "stderr",
     "output_type": "stream",
     "text": [
      "\r",
      " 35%|███▍      | 234/678 [00:43<01:37,  4.56it/s]"
     ]
    },
    {
     "name": "stdout",
     "output_type": "stream",
     "text": [
      "I'm doing the thing.\n",
      "bone-hup-122\n",
      "I'm doing the thing.\n",
      "I'm doing the thing.\n",
      "bone-hup-123\n",
      "I'm doing the thing.\n"
     ]
    },
    {
     "name": "stderr",
     "output_type": "stream",
     "text": [
      "\r",
      " 35%|███▍      | 236/678 [00:43<01:25,  5.17it/s]"
     ]
    },
    {
     "name": "stdout",
     "output_type": "stream",
     "text": [
      "I'm doing the thing.\n",
      "bone-hup-124\n",
      "I'm doing the thing.\n",
      "I'm doing the thing.\n",
      "bone-hup-126\n",
      "I'm doing the thing.\n"
     ]
    },
    {
     "name": "stderr",
     "output_type": "stream",
     "text": [
      "\r",
      " 35%|███▌      | 238/678 [00:44<01:23,  5.25it/s]"
     ]
    },
    {
     "name": "stdout",
     "output_type": "stream",
     "text": [
      "I'm doing the thing.\n",
      "bone-hup-128\n",
      "I'm doing the thing.\n"
     ]
    },
    {
     "name": "stderr",
     "output_type": "stream",
     "text": [
      "\r",
      " 35%|███▌      | 239/678 [00:44<01:47,  4.07it/s]"
     ]
    },
    {
     "name": "stdout",
     "output_type": "stream",
     "text": [
      "I'm doing the thing.\n",
      "bone-hup-130\n",
      "I'm doing the thing.\n",
      "I'm doing the thing.\n",
      "bone-hup-131\n",
      "I'm doing the thing.\n"
     ]
    },
    {
     "name": "stderr",
     "output_type": "stream",
     "text": [
      " 36%|███▌      | 242/678 [00:45<01:23,  5.19it/s]"
     ]
    },
    {
     "name": "stdout",
     "output_type": "stream",
     "text": [
      "I'm doing the thing.\n",
      "bone-hup-132\n",
      "I'm doing the thing.\n",
      "I'm doing the thing.\n",
      "bone-hup-133\n",
      "I'm doing the thing.\n",
      "I'm doing the thing.\n",
      "bone-hup-134\n",
      "I'm doing the thing.\n"
     ]
    },
    {
     "name": "stderr",
     "output_type": "stream",
     "text": [
      " 36%|███▌      | 245/678 [00:45<01:17,  5.56it/s]"
     ]
    },
    {
     "name": "stdout",
     "output_type": "stream",
     "text": [
      "I'm doing the thing.\n",
      "bone-hup-136\n",
      "I'm doing the thing.\n",
      "I'm doing the thing.\n",
      "bone-hup-137\n",
      "I'm doing the thing.\n",
      "I'm doing the thing.\n",
      "bone-hup-138\n",
      "I'm doing the thing.\n"
     ]
    },
    {
     "name": "stderr",
     "output_type": "stream",
     "text": [
      " 37%|███▋      | 248/678 [00:46<01:08,  6.24it/s]"
     ]
    },
    {
     "name": "stdout",
     "output_type": "stream",
     "text": [
      "I'm doing the thing.\n",
      "bone-hup-139\n",
      "I'm doing the thing.\n",
      "I'm doing the thing.\n",
      "bone-hup-141\n",
      "I'm doing the thing.\n"
     ]
    },
    {
     "name": "stderr",
     "output_type": "stream",
     "text": [
      " 37%|███▋      | 251/678 [00:46<01:08,  6.27it/s]"
     ]
    },
    {
     "name": "stdout",
     "output_type": "stream",
     "text": [
      "I'm doing the thing.\n",
      "bone-hup-142\n",
      "I'm doing the thing.\n",
      "I'm doing the thing.\n",
      "bone-hup-143\n",
      "I'm doing the thing.\n",
      "I'm doing the thing.\n",
      "bone-hup-146\n",
      "I'm doing the thing.\n",
      "I'm doing the thing.\n",
      "bone-hup-148\n",
      "I'm doing the thing.\n"
     ]
    },
    {
     "name": "stderr",
     "output_type": "stream",
     "text": [
      " 37%|███▋      | 254/678 [00:47<01:11,  5.91it/s]"
     ]
    },
    {
     "name": "stdout",
     "output_type": "stream",
     "text": [
      "I'm doing the thing.\n",
      "bone-hup-150\n",
      "I'm doing the thing.\n",
      "I'm doing the thing.\n",
      "bone-hup-151\n",
      "I'm doing the thing.\n",
      "I'm doing the thing.\n",
      "bone-hup-152\n",
      "I'm doing the thing.\n",
      "I'm doing the thing.\n"
     ]
    },
    {
     "name": "stderr",
     "output_type": "stream",
     "text": [
      " 38%|███▊      | 257/678 [00:47<01:10,  6.01it/s]"
     ]
    },
    {
     "name": "stdout",
     "output_type": "stream",
     "text": [
      "bone-hup-154\n",
      "I'm doing the thing.\n",
      "I'm doing the thing.\n",
      "bone-hup-155\n",
      "I'm doing the thing.\n"
     ]
    },
    {
     "name": "stderr",
     "output_type": "stream",
     "text": [
      "\r",
      " 38%|███▊      | 258/678 [00:47<01:03,  6.58it/s]"
     ]
    },
    {
     "name": "stdout",
     "output_type": "stream",
     "text": [
      "I'm doing the thing.\n",
      "bone-hup-156\n",
      "I'm doing the thing.\n"
     ]
    },
    {
     "name": "stderr",
     "output_type": "stream",
     "text": [
      "\r",
      " 38%|███▊      | 259/678 [00:48<01:30,  4.63it/s]"
     ]
    },
    {
     "name": "stdout",
     "output_type": "stream",
     "text": [
      "I'm doing the thing.\n",
      "bone-hup-158\n",
      "I'm doing the thing.\n"
     ]
    },
    {
     "name": "stderr",
     "output_type": "stream",
     "text": [
      "\r",
      " 38%|███▊      | 260/678 [00:48<01:38,  4.26it/s]"
     ]
    },
    {
     "name": "stdout",
     "output_type": "stream",
     "text": [
      "I'm doing the thing.\n",
      "bone-hup-160\n",
      "I'm doing the thing.\n"
     ]
    },
    {
     "name": "stderr",
     "output_type": "stream",
     "text": [
      "\r",
      " 38%|███▊      | 261/678 [00:48<02:01,  3.44it/s]"
     ]
    },
    {
     "name": "stdout",
     "output_type": "stream",
     "text": [
      "I'm doing the thing.\n",
      "bone-hup-161\n",
      "I'm doing the thing.\n",
      "I'm doing the thing.\n",
      "bone-hup-168\n",
      "I'm doing the thing.\n"
     ]
    },
    {
     "name": "stderr",
     "output_type": "stream",
     "text": [
      "\r",
      " 39%|███▉      | 263/678 [00:49<01:27,  4.73it/s]"
     ]
    },
    {
     "name": "stdout",
     "output_type": "stream",
     "text": [
      "I'm doing the thing.\n",
      "bone-hup-169\n",
      "I'm doing the thing.\n"
     ]
    },
    {
     "name": "stderr",
     "output_type": "stream",
     "text": [
      "\r",
      " 39%|███▉      | 264/678 [00:49<01:39,  4.17it/s]"
     ]
    },
    {
     "name": "stdout",
     "output_type": "stream",
     "text": [
      "I'm doing the thing.\n",
      "bone-hup-173\n",
      "I'm doing the thing.\n"
     ]
    },
    {
     "name": "stderr",
     "output_type": "stream",
     "text": [
      " 39%|███▉      | 267/678 [00:50<01:33,  4.40it/s]"
     ]
    },
    {
     "name": "stdout",
     "output_type": "stream",
     "text": [
      "I'm doing the thing.\n",
      "bone-hup-177\n",
      "I'm doing the thing.\n",
      "I'm doing the thing.\n",
      "bone-hup-179\n",
      "I'm doing the thing.\n",
      "I'm doing the thing.\n",
      "bone-hup-180\n",
      "I'm doing the thing.\n"
     ]
    },
    {
     "name": "stderr",
     "output_type": "stream",
     "text": [
      "\r",
      " 40%|███▉      | 268/678 [00:50<01:26,  4.76it/s]"
     ]
    },
    {
     "name": "stdout",
     "output_type": "stream",
     "text": [
      "I'm doing the thing.\n",
      "bone-hup-188\n",
      "I'm doing the thing.\n"
     ]
    },
    {
     "name": "stderr",
     "output_type": "stream",
     "text": [
      "\r",
      " 40%|███▉      | 269/678 [00:50<01:38,  4.17it/s]"
     ]
    },
    {
     "name": "stdout",
     "output_type": "stream",
     "text": [
      "I'm doing the thing.\n",
      "bone-hup-193\n",
      "I'm doing the thing.\n",
      "I'm doing the thing.\n",
      "bone-hup-201\n",
      "I'm doing the thing.\n"
     ]
    },
    {
     "name": "stderr",
     "output_type": "stream",
     "text": [
      " 40%|████      | 273/678 [00:51<00:59,  6.76it/s]"
     ]
    },
    {
     "name": "stdout",
     "output_type": "stream",
     "text": [
      "I'm doing the thing.\n",
      "bone-hup-203\n",
      "I'm doing the thing.\n",
      "I'm doing the thing.\n",
      "bone-hup-207\n",
      "I'm doing the thing.\n",
      "I'm doing the thing.\n",
      "bone-hup-211\n",
      "I'm doing the thing.\n"
     ]
    },
    {
     "name": "stderr",
     "output_type": "stream",
     "text": [
      " 41%|████      | 275/678 [00:51<01:08,  5.88it/s]"
     ]
    },
    {
     "name": "stdout",
     "output_type": "stream",
     "text": [
      "I'm doing the thing.\n",
      "bone-hup-213\n",
      "I'm doing the thing.\n",
      "I'm doing the thing.\n",
      "bone-hup-214\n",
      "I'm doing the thing.\n"
     ]
    },
    {
     "name": "stderr",
     "output_type": "stream",
     "text": [
      " 41%|████      | 278/678 [00:51<00:48,  8.24it/s]"
     ]
    },
    {
     "name": "stdout",
     "output_type": "stream",
     "text": [
      "I'm doing the thing.\n",
      "bone-hup-219\n",
      "I'm doing the thing.\n",
      "I'm doing the thing.\n",
      "bone-hup-225\n",
      "I'm doing the thing.\n",
      "I'm doing the thing.\n",
      "bone-hup-228\n",
      "I'm doing the thing.\n",
      "I'm doing the thing.\n",
      "bone-hup-229\n",
      "I'm doing the thing.\n"
     ]
    },
    {
     "name": "stderr",
     "output_type": "stream",
     "text": [
      "\r",
      " 41%|████▏     | 280/678 [00:51<00:39, 10.15it/s]"
     ]
    },
    {
     "name": "stdout",
     "output_type": "stream",
     "text": [
      "I'm doing the thing.\n",
      "bone-hup-23\n",
      "I'm doing the thing.\n",
      "I'm doing the thing.\n",
      "bone-hup-231\n",
      "I'm doing the thing.\n"
     ]
    },
    {
     "name": "stderr",
     "output_type": "stream",
     "text": [
      "\r",
      " 42%|████▏     | 282/678 [00:52<01:10,  5.63it/s]"
     ]
    },
    {
     "name": "stdout",
     "output_type": "stream",
     "text": [
      "I'm doing the thing.\n",
      "bone-hup-232\n",
      "I'm doing the thing.\n"
     ]
    },
    {
     "name": "stderr",
     "output_type": "stream",
     "text": [
      "\r",
      " 42%|████▏     | 283/678 [00:52<01:19,  4.99it/s]"
     ]
    },
    {
     "name": "stdout",
     "output_type": "stream",
     "text": [
      "I'm doing the thing.\n",
      "bone-hup-234\n",
      "I'm doing the thing.\n"
     ]
    },
    {
     "name": "stderr",
     "output_type": "stream",
     "text": [
      " 42%|████▏     | 285/678 [00:53<01:18,  5.02it/s]"
     ]
    },
    {
     "name": "stdout",
     "output_type": "stream",
     "text": [
      "I'm doing the thing.\n",
      "bone-hup-237\n",
      "I'm doing the thing.\n",
      "I'm doing the thing.\n",
      "bone-hup-244\n",
      "I'm doing the thing.\n"
     ]
    },
    {
     "name": "stderr",
     "output_type": "stream",
     "text": [
      " 42%|████▏     | 288/678 [00:53<00:48,  8.02it/s]"
     ]
    },
    {
     "name": "stdout",
     "output_type": "stream",
     "text": [
      "I'm doing the thing.\n",
      "bone-hup-248\n",
      "I'm doing the thing.\n",
      "I'm doing the thing.\n",
      "bone-hup-257\n",
      "I'm doing the thing.\n",
      "I'm doing the thing.\n",
      "bone-hup-261\n",
      "I'm doing the thing.\n"
     ]
    },
    {
     "name": "stderr",
     "output_type": "stream",
     "text": [
      " 43%|████▎     | 292/678 [00:54<01:00,  6.36it/s]"
     ]
    },
    {
     "name": "stdout",
     "output_type": "stream",
     "text": [
      "I'm doing the thing.\n",
      "bone-hup-262\n",
      "I'm doing the thing.\n",
      "I'm doing the thing.\n",
      "bone-hup-263\n",
      "I'm doing the thing.\n",
      "I'm doing the thing.\n",
      "bone-hup-265\n",
      "I'm doing the thing.\n",
      "I'm doing the thing.\n",
      "bone-hup-266\n",
      "I'm doing the thing.\n"
     ]
    },
    {
     "name": "stderr",
     "output_type": "stream",
     "text": [
      "\r",
      " 43%|████▎     | 293/678 [00:54<01:14,  5.15it/s]"
     ]
    },
    {
     "name": "stdout",
     "output_type": "stream",
     "text": [
      "I'm doing the thing.\n",
      "bone-hup-271\n",
      "I'm doing the thing.\n"
     ]
    },
    {
     "name": "stderr",
     "output_type": "stream",
     "text": [
      "\r",
      " 43%|████▎     | 294/678 [00:54<01:23,  4.62it/s]"
     ]
    },
    {
     "name": "stdout",
     "output_type": "stream",
     "text": [
      "I'm doing the thing.\n",
      "bone-hup-272\n",
      "I'm doing the thing.\n"
     ]
    },
    {
     "name": "stderr",
     "output_type": "stream",
     "text": [
      "\r",
      " 44%|████▎     | 295/678 [00:55<01:38,  3.87it/s]"
     ]
    },
    {
     "name": "stdout",
     "output_type": "stream",
     "text": [
      "I'm doing the thing.\n",
      "bone-hup-275\n",
      "I'm doing the thing.\n"
     ]
    },
    {
     "name": "stderr",
     "output_type": "stream",
     "text": [
      "\r",
      " 44%|████▎     | 296/678 [00:56<02:34,  2.47it/s]"
     ]
    },
    {
     "name": "stdout",
     "output_type": "stream",
     "text": [
      "I'm doing the thing.\n",
      "bone-hup-276\n",
      "I'm doing the thing.\n",
      "I'm doing the thing.\n",
      "bone-hup-277\n",
      "I'm doing the thing.\n"
     ]
    },
    {
     "name": "stderr",
     "output_type": "stream",
     "text": [
      "\r",
      " 44%|████▍     | 298/678 [00:56<01:45,  3.60it/s]"
     ]
    },
    {
     "name": "stdout",
     "output_type": "stream",
     "text": [
      "I'm doing the thing.\n",
      "bone-hup-279\n",
      "I'm doing the thing.\n",
      "I'm doing the thing.\n",
      "bone-hup-281\n",
      "I'm doing the thing.\n"
     ]
    },
    {
     "name": "stderr",
     "output_type": "stream",
     "text": [
      " 44%|████▍     | 301/678 [00:56<01:13,  5.12it/s]"
     ]
    },
    {
     "name": "stdout",
     "output_type": "stream",
     "text": [
      "I'm doing the thing.\n",
      "bone-hup-287\n",
      "I'm doing the thing.\n",
      "I'm doing the thing.\n",
      "bone-hup-290\n",
      "I'm doing the thing.\n"
     ]
    },
    {
     "name": "stderr",
     "output_type": "stream",
     "text": [
      " 45%|████▍     | 303/678 [00:57<01:15,  4.98it/s]"
     ]
    },
    {
     "name": "stdout",
     "output_type": "stream",
     "text": [
      "I'm doing the thing.\n",
      "bone-hup-291\n",
      "I'm doing the thing.\n",
      "I'm doing the thing.\n",
      "bone-hup-293\n",
      "I'm doing the thing.\n"
     ]
    },
    {
     "name": "stderr",
     "output_type": "stream",
     "text": [
      "\r",
      " 45%|████▍     | 304/678 [00:57<01:05,  5.69it/s]"
     ]
    },
    {
     "name": "stdout",
     "output_type": "stream",
     "text": [
      "I'm doing the thing.\n",
      "bone-hup-296\n",
      "I'm doing the thing.\n"
     ]
    },
    {
     "name": "stderr",
     "output_type": "stream",
     "text": [
      "\r",
      " 45%|████▍     | 305/678 [00:57<01:08,  5.43it/s]"
     ]
    },
    {
     "name": "stdout",
     "output_type": "stream",
     "text": [
      "I'm doing the thing.\n",
      "bone-hup-297\n",
      "I'm doing the thing.\n"
     ]
    },
    {
     "name": "stderr",
     "output_type": "stream",
     "text": [
      " 45%|████▌     | 308/678 [00:58<01:14,  4.94it/s]"
     ]
    },
    {
     "name": "stdout",
     "output_type": "stream",
     "text": [
      "I'm doing the thing.\n",
      "bone-hup-298\n",
      "I'm doing the thing.\n",
      "I'm doing the thing.\n",
      "bone-hup-299\n",
      "I'm doing the thing.\n",
      "I'm doing the thing.\n",
      "bone-hup-3\n",
      "I'm doing the thing.\n"
     ]
    },
    {
     "name": "stderr",
     "output_type": "stream",
     "text": [
      "\r",
      " 46%|████▌     | 309/678 [00:58<01:18,  4.68it/s]"
     ]
    },
    {
     "name": "stdout",
     "output_type": "stream",
     "text": [
      "I'm doing the thing.\n",
      "bone-hup-302\n",
      "I'm doing the thing.\n"
     ]
    },
    {
     "name": "stderr",
     "output_type": "stream",
     "text": [
      "\r",
      " 46%|████▌     | 310/678 [00:58<01:26,  4.24it/s]"
     ]
    },
    {
     "name": "stdout",
     "output_type": "stream",
     "text": [
      "I'm doing the thing.\n",
      "bone-hup-305\n",
      "I'm doing the thing.\n"
     ]
    },
    {
     "name": "stderr",
     "output_type": "stream",
     "text": [
      " 46%|████▌     | 312/678 [00:59<01:25,  4.26it/s]"
     ]
    },
    {
     "name": "stdout",
     "output_type": "stream",
     "text": [
      "I'm doing the thing.\n",
      "bone-hup-306\n",
      "I'm doing the thing.\n",
      "I'm doing the thing.\n",
      "bone-hup-308\n",
      "I'm doing the thing.\n"
     ]
    },
    {
     "name": "stderr",
     "output_type": "stream",
     "text": [
      " 46%|████▋     | 314/678 [00:59<01:09,  5.26it/s]"
     ]
    },
    {
     "name": "stdout",
     "output_type": "stream",
     "text": [
      "I'm doing the thing.\n",
      "bone-hup-310\n",
      "I'm doing the thing.\n",
      "I'm doing the thing.\n",
      "bone-hup-312\n",
      "I'm doing the thing.\n"
     ]
    },
    {
     "name": "stderr",
     "output_type": "stream",
     "text": [
      "\r",
      " 46%|████▋     | 315/678 [00:59<01:05,  5.53it/s]"
     ]
    },
    {
     "name": "stdout",
     "output_type": "stream",
     "text": [
      "I'm doing the thing.\n",
      "bone-hup-314\n",
      "I'm doing the thing.\n",
      "I'm doing the thing.\n",
      "bone-hup-316\n",
      "I'm doing the thing.\n"
     ]
    },
    {
     "name": "stderr",
     "output_type": "stream",
     "text": [
      "\r",
      " 47%|████▋     | 317/678 [01:00<00:56,  6.42it/s]"
     ]
    },
    {
     "name": "stdout",
     "output_type": "stream",
     "text": [
      "I'm doing the thing.\n",
      "bone-hup-317\n",
      "I'm doing the thing.\n"
     ]
    },
    {
     "name": "stderr",
     "output_type": "stream",
     "text": [
      "\r",
      " 47%|████▋     | 318/678 [01:00<01:00,  5.98it/s]"
     ]
    },
    {
     "name": "stdout",
     "output_type": "stream",
     "text": [
      "I'm doing the thing.\n",
      "bone-hup-321\n",
      "I'm doing the thing.\n"
     ]
    },
    {
     "name": "stderr",
     "output_type": "stream",
     "text": [
      "\r",
      " 47%|████▋     | 319/678 [01:00<01:14,  4.81it/s]"
     ]
    },
    {
     "name": "stdout",
     "output_type": "stream",
     "text": [
      "I'm doing the thing.\n",
      "bone-hup-325\n",
      "I'm doing the thing.\n"
     ]
    },
    {
     "name": "stderr",
     "output_type": "stream",
     "text": [
      "\r",
      " 47%|████▋     | 320/678 [01:00<01:21,  4.40it/s]"
     ]
    },
    {
     "name": "stdout",
     "output_type": "stream",
     "text": [
      "I'm doing the thing.\n",
      "bone-hup-326\n",
      "I'm doing the thing.\n"
     ]
    },
    {
     "name": "stderr",
     "output_type": "stream",
     "text": [
      "\r",
      " 47%|████▋     | 321/678 [01:01<01:46,  3.35it/s]"
     ]
    },
    {
     "name": "stdout",
     "output_type": "stream",
     "text": [
      "I'm doing the thing.\n",
      "bone-hup-328\n",
      "I'm doing the thing.\n"
     ]
    },
    {
     "name": "stderr",
     "output_type": "stream",
     "text": [
      "\r",
      " 47%|████▋     | 322/678 [01:01<02:11,  2.71it/s]"
     ]
    },
    {
     "name": "stdout",
     "output_type": "stream",
     "text": [
      "I'm doing the thing.\n",
      "bone-hup-330\n",
      "I'm doing the thing.\n",
      "I'm doing the thing.\n",
      "bone-hup-50\n",
      "I'm doing the thing.\n"
     ]
    },
    {
     "name": "stderr",
     "output_type": "stream",
     "text": [
      " 48%|████▊     | 325/678 [01:04<03:55,  1.50it/s]"
     ]
    },
    {
     "name": "stdout",
     "output_type": "stream",
     "text": [
      "I'm doing the thing.\n",
      "bone-hup-51\n",
      "I'm doing the thing.\n",
      "I'm doing the thing.\n",
      "bone-hup-52\n",
      "I'm doing the thing.\n"
     ]
    },
    {
     "name": "stderr",
     "output_type": "stream",
     "text": [
      " 48%|████▊     | 328/678 [01:05<02:11,  2.66it/s]"
     ]
    },
    {
     "name": "stdout",
     "output_type": "stream",
     "text": [
      "I'm doing the thing.\n",
      "bone-hup-55\n",
      "I'm doing the thing.\n",
      "I'm doing the thing.\n",
      "bone-hup-56\n",
      "I'm doing the thing.\n",
      "I'm doing the thing.\n",
      "bone-hup-59\n",
      "I'm doing the thing.\n"
     ]
    },
    {
     "name": "stderr",
     "output_type": "stream",
     "text": [
      " 49%|████▉     | 331/678 [01:05<01:22,  4.21it/s]"
     ]
    },
    {
     "name": "stdout",
     "output_type": "stream",
     "text": [
      "I'm doing the thing.\n",
      "bone-hup-60\n",
      "I'm doing the thing.\n",
      "I'm doing the thing.\n",
      "bone-hup-61\n",
      "I'm doing the thing.\n",
      "I'm doing the thing.\n",
      "bone-hup-62\n",
      "I'm doing the thing.\n"
     ]
    },
    {
     "name": "stderr",
     "output_type": "stream",
     "text": [
      " 49%|████▉     | 333/678 [01:06<01:09,  4.99it/s]"
     ]
    },
    {
     "name": "stdout",
     "output_type": "stream",
     "text": [
      "I'm doing the thing.\n",
      "bone-hup-65\n",
      "I'm doing the thing.\n",
      "I'm doing the thing.\n",
      "bone-hup-67\n",
      "I'm doing the thing.\n"
     ]
    },
    {
     "name": "stderr",
     "output_type": "stream",
     "text": [
      " 49%|████▉     | 335/678 [01:06<01:03,  5.41it/s]"
     ]
    },
    {
     "name": "stdout",
     "output_type": "stream",
     "text": [
      "I'm doing the thing.\n",
      "bone-hup-69\n",
      "I'm doing the thing.\n",
      "I'm doing the thing.\n",
      "bone-hup-70\n",
      "I'm doing the thing.\n"
     ]
    },
    {
     "name": "stderr",
     "output_type": "stream",
     "text": [
      "\r",
      " 50%|████▉     | 336/678 [01:06<00:59,  5.72it/s]"
     ]
    },
    {
     "name": "stdout",
     "output_type": "stream",
     "text": [
      "I'm doing the thing.\n",
      "bone-hup-76\n",
      "I'm doing the thing.\n",
      "I'm doing the thing.\n",
      "bone-hup-78\n",
      "I'm doing the thing.\n"
     ]
    },
    {
     "name": "stderr",
     "output_type": "stream",
     "text": [
      "\r",
      " 50%|████▉     | 338/678 [01:06<00:53,  6.36it/s]"
     ]
    },
    {
     "name": "stdout",
     "output_type": "stream",
     "text": [
      "I'm doing the thing.\n",
      "bone-hup-79\n",
      "I'm doing the thing.\n",
      "I'm doing the thing.\n",
      "bone-hup-80\n",
      "I'm doing the thing.\n"
     ]
    },
    {
     "name": "stderr",
     "output_type": "stream",
     "text": [
      "\r",
      " 50%|█████     | 340/678 [01:07<00:50,  6.66it/s]"
     ]
    },
    {
     "name": "stdout",
     "output_type": "stream",
     "text": [
      "I'm doing the thing.\n",
      "bone-hup-81\n",
      "I'm doing the thing.\n",
      "I'm doing the thing.\n",
      "bone-hup-85\n",
      "I'm doing the thing.\n"
     ]
    },
    {
     "name": "stderr",
     "output_type": "stream",
     "text": [
      "\r",
      " 50%|█████     | 342/678 [01:07<01:02,  5.37it/s]"
     ]
    },
    {
     "name": "stdout",
     "output_type": "stream",
     "text": [
      "I'm doing the thing.\n",
      "bone-hup-90\n",
      "I'm doing the thing.\n"
     ]
    },
    {
     "name": "stderr",
     "output_type": "stream",
     "text": [
      "\r",
      " 51%|█████     | 343/678 [01:08<01:24,  3.95it/s]"
     ]
    },
    {
     "name": "stdout",
     "output_type": "stream",
     "text": [
      "I'm doing the thing.\n",
      "bone-hup-93\n",
      "I'm doing the thing.\n"
     ]
    },
    {
     "name": "stderr",
     "output_type": "stream",
     "text": [
      " 51%|█████     | 345/678 [01:08<01:22,  4.02it/s]"
     ]
    },
    {
     "name": "stdout",
     "output_type": "stream",
     "text": [
      "I'm doing the thing.\n",
      "bone-hup-95\n",
      "I'm doing the thing.\n",
      "I'm doing the thing.\n",
      "bone-penn-001\n",
      "I'm doing the thing.\n"
     ]
    },
    {
     "name": "stderr",
     "output_type": "stream",
     "text": [
      "\r",
      " 51%|█████     | 346/678 [01:08<01:16,  4.32it/s]"
     ]
    },
    {
     "name": "stdout",
     "output_type": "stream",
     "text": [
      "I'm doing the thing.\n",
      "bone-penn-005\n",
      "I'm doing the thing.\n"
     ]
    },
    {
     "name": "stderr",
     "output_type": "stream",
     "text": [
      "\r",
      " 51%|█████     | 347/678 [01:09<01:30,  3.67it/s]"
     ]
    },
    {
     "name": "stdout",
     "output_type": "stream",
     "text": [
      "I'm doing the thing.\n",
      "bone-penn-007\n",
      "I'm doing the thing.\n"
     ]
    },
    {
     "name": "stderr",
     "output_type": "stream",
     "text": [
      "\r",
      " 51%|█████▏    | 348/678 [01:09<01:27,  3.79it/s]"
     ]
    },
    {
     "name": "stdout",
     "output_type": "stream",
     "text": [
      "I'm doing the thing.\n",
      "bone-penn-011\n",
      "I'm doing the thing.\n"
     ]
    },
    {
     "name": "stderr",
     "output_type": "stream",
     "text": [
      " 52%|█████▏    | 350/678 [01:09<01:13,  4.45it/s]"
     ]
    },
    {
     "name": "stdout",
     "output_type": "stream",
     "text": [
      "I'm doing the thing.\n",
      "bone-penn-014\n",
      "I'm doing the thing.\n",
      "I'm doing the thing.\n",
      "bone-penn-018\n",
      "I'm doing the thing.\n"
     ]
    },
    {
     "name": "stderr",
     "output_type": "stream",
     "text": [
      " 52%|█████▏    | 353/678 [01:10<01:02,  5.17it/s]"
     ]
    },
    {
     "name": "stdout",
     "output_type": "stream",
     "text": [
      "I'm doing the thing.\n",
      "bone-penn-019\n",
      "I'm doing the thing.\n",
      "I'm doing the thing.\n",
      "bone-penn-020\n",
      "I'm doing the thing.\n",
      "I'm doing the thing.\n",
      "bone-penn-021\n",
      "I'm doing the thing.\n",
      "I'm doing the thing.\n",
      "bone-penn-022\n",
      "I'm doing the thing.\n"
     ]
    },
    {
     "name": "stderr",
     "output_type": "stream",
     "text": [
      " 53%|█████▎    | 357/678 [01:10<00:37,  8.50it/s]"
     ]
    },
    {
     "name": "stdout",
     "output_type": "stream",
     "text": [
      "I'm doing the thing.\n",
      "bone-penn-024\n",
      "I'm doing the thing.\n",
      "I'm doing the thing.\n",
      "bone-penn-027\n",
      "I'm doing the thing.\n",
      "I'm doing the thing.\n",
      "bone-penn-029\n",
      "I'm doing the thing.\n",
      "I'm doing the thing.\n",
      "bone-penn-030\n",
      "I'm doing the thing.\n"
     ]
    },
    {
     "name": "stderr",
     "output_type": "stream",
     "text": [
      "\r",
      " 53%|█████▎    | 359/678 [01:11<01:00,  5.25it/s]"
     ]
    },
    {
     "name": "stdout",
     "output_type": "stream",
     "text": [
      "I'm doing the thing.\n",
      "bone-penn-034\n",
      "I'm doing the thing.\n"
     ]
    },
    {
     "name": "stderr",
     "output_type": "stream",
     "text": [
      " 53%|█████▎    | 362/678 [01:12<01:29,  3.52it/s]"
     ]
    },
    {
     "name": "stdout",
     "output_type": "stream",
     "text": [
      "I'm doing the thing.\n",
      "bone-penn-036\n",
      "I'm doing the thing.\n",
      "I'm doing the thing.\n",
      "bone-penn-037\n",
      "I'm doing the thing.\n",
      "I'm doing the thing.\n",
      "bone-penn-038\n",
      "I'm doing the thing.\n"
     ]
    },
    {
     "name": "stderr",
     "output_type": "stream",
     "text": [
      "\r",
      " 54%|█████▎    | 364/678 [01:13<01:13,  4.27it/s]"
     ]
    },
    {
     "name": "stdout",
     "output_type": "stream",
     "text": [
      "I'm doing the thing.\n",
      "bone-penn-039\n",
      "I'm doing the thing.\n",
      "I'm doing the thing.\n",
      "bone-penn-040\n",
      "I'm doing the thing.\n"
     ]
    },
    {
     "name": "stderr",
     "output_type": "stream",
     "text": [
      " 54%|█████▍    | 366/678 [01:13<01:07,  4.60it/s]"
     ]
    },
    {
     "name": "stdout",
     "output_type": "stream",
     "text": [
      "I'm doing the thing.\n",
      "bone-penn-042\n",
      "I'm doing the thing.\n",
      "I'm doing the thing.\n",
      "bone-penn-045\n",
      "I'm doing the thing.\n"
     ]
    },
    {
     "name": "stderr",
     "output_type": "stream",
     "text": [
      "\r",
      " 54%|█████▍    | 367/678 [01:13<01:10,  4.40it/s]"
     ]
    },
    {
     "name": "stdout",
     "output_type": "stream",
     "text": [
      "I'm doing the thing.\n",
      "bone-penn-047\n",
      "I'm doing the thing.\n"
     ]
    },
    {
     "name": "stderr",
     "output_type": "stream",
     "text": [
      "\r",
      " 54%|█████▍    | 368/678 [01:14<01:32,  3.35it/s]"
     ]
    },
    {
     "name": "stdout",
     "output_type": "stream",
     "text": [
      "I'm doing the thing.\n",
      "bone-penn-048\n",
      "I'm doing the thing.\n"
     ]
    },
    {
     "name": "stderr",
     "output_type": "stream",
     "text": [
      " 55%|█████▍    | 370/678 [01:15<01:40,  3.05it/s]"
     ]
    },
    {
     "name": "stdout",
     "output_type": "stream",
     "text": [
      "I'm doing the thing.\n",
      "bone-penn-051\n",
      "I'm doing the thing.\n",
      "I'm doing the thing.\n",
      "bone-penn-052\n",
      "I'm doing the thing.\n"
     ]
    },
    {
     "name": "stderr",
     "output_type": "stream",
     "text": [
      " 55%|█████▍    | 372/678 [01:15<01:22,  3.73it/s]"
     ]
    },
    {
     "name": "stdout",
     "output_type": "stream",
     "text": [
      "I'm doing the thing.\n",
      "bone-penn-053\n",
      "I'm doing the thing.\n",
      "I'm doing the thing.\n",
      "bone-penn-054\n",
      "I'm doing the thing.\n",
      "I'm doing the thing.\n",
      "bone-penn-056\n",
      "I'm doing the thing.\n"
     ]
    },
    {
     "name": "stderr",
     "output_type": "stream",
     "text": [
      " 55%|█████▌    | 375/678 [01:16<01:02,  4.83it/s]"
     ]
    },
    {
     "name": "stdout",
     "output_type": "stream",
     "text": [
      "I'm doing the thing.\n",
      "bone-penn-057\n",
      "I'm doing the thing.\n",
      "I'm doing the thing.\n",
      "bone-penn-058\n",
      "I'm doing the thing.\n"
     ]
    },
    {
     "name": "stderr",
     "output_type": "stream",
     "text": [
      "\r",
      " 55%|█████▌    | 376/678 [01:16<01:03,  4.75it/s]"
     ]
    },
    {
     "name": "stdout",
     "output_type": "stream",
     "text": [
      "I'm doing the thing.\n",
      "bone-penn-062\n",
      "I'm doing the thing.\n"
     ]
    },
    {
     "name": "stderr",
     "output_type": "stream",
     "text": [
      "\r",
      " 56%|█████▌    | 377/678 [01:16<01:38,  3.06it/s]"
     ]
    },
    {
     "name": "stdout",
     "output_type": "stream",
     "text": [
      "I'm doing the thing.\n",
      "bone-penn-064\n",
      "I'm doing the thing.\n"
     ]
    },
    {
     "name": "stderr",
     "output_type": "stream",
     "text": [
      " 56%|█████▌    | 380/678 [01:17<01:00,  4.95it/s]"
     ]
    },
    {
     "name": "stdout",
     "output_type": "stream",
     "text": [
      "I'm doing the thing.\n",
      "bone-penn-068\n",
      "I'm doing the thing.\n",
      "I'm doing the thing.\n",
      "bone-penn-069\n",
      "I'm doing the thing.\n",
      "I'm doing the thing.\n",
      "bone-penn-070\n",
      "I'm doing the thing.\n"
     ]
    },
    {
     "name": "stderr",
     "output_type": "stream",
     "text": [
      "\r",
      " 56%|█████▌    | 381/678 [01:17<01:36,  3.07it/s]"
     ]
    },
    {
     "name": "stdout",
     "output_type": "stream",
     "text": [
      "I'm doing the thing.\n",
      "bone-penn-072\n",
      "I'm doing the thing.\n"
     ]
    },
    {
     "name": "stderr",
     "output_type": "stream",
     "text": [
      " 56%|█████▋    | 383/678 [01:18<01:22,  3.58it/s]"
     ]
    },
    {
     "name": "stdout",
     "output_type": "stream",
     "text": [
      "I'm doing the thing.\n",
      "bone-penn-073\n",
      "I'm doing the thing.\n",
      "I'm doing the thing.\n",
      "bone-penn-074\n",
      "I'm doing the thing.\n"
     ]
    },
    {
     "name": "stderr",
     "output_type": "stream",
     "text": [
      "\r",
      " 57%|█████▋    | 385/678 [01:18<01:00,  4.87it/s]"
     ]
    },
    {
     "name": "stdout",
     "output_type": "stream",
     "text": [
      "I'm doing the thing.\n",
      "bone-penn-078\n",
      "I'm doing the thing.\n",
      "I'm doing the thing.\n",
      "bone-penn-079\n",
      "I'm doing the thing.\n"
     ]
    },
    {
     "name": "stderr",
     "output_type": "stream",
     "text": [
      "\r",
      " 57%|█████▋    | 387/678 [01:18<00:45,  6.35it/s]"
     ]
    },
    {
     "name": "stdout",
     "output_type": "stream",
     "text": [
      "I'm doing the thing.\n",
      "bone-penn-081\n",
      "I'm doing the thing.\n",
      "I'm doing the thing.\n",
      "bone-penn-082\n",
      "I'm doing the thing.\n"
     ]
    },
    {
     "name": "stderr",
     "output_type": "stream",
     "text": [
      " 57%|█████▋    | 389/678 [01:19<00:47,  6.11it/s]"
     ]
    },
    {
     "name": "stdout",
     "output_type": "stream",
     "text": [
      "I'm doing the thing.\n",
      "bone-penn-083\n",
      "I'm doing the thing.\n",
      "I'm doing the thing.\n",
      "bone-penn-084\n",
      "I'm doing the thing.\n"
     ]
    },
    {
     "name": "stderr",
     "output_type": "stream",
     "text": [
      " 58%|█████▊    | 392/678 [01:19<00:39,  7.29it/s]"
     ]
    },
    {
     "name": "stdout",
     "output_type": "stream",
     "text": [
      "I'm doing the thing.\n",
      "bone-penn-085\n",
      "I'm doing the thing.\n",
      "I'm doing the thing.\n",
      "bone-penn-091\n",
      "I'm doing the thing.\n",
      "I'm doing the thing.\n",
      "bone-penn-092\n",
      "I'm doing the thing.\n"
     ]
    },
    {
     "name": "stderr",
     "output_type": "stream",
     "text": [
      " 58%|█████▊    | 395/678 [01:19<00:29,  9.53it/s]"
     ]
    },
    {
     "name": "stdout",
     "output_type": "stream",
     "text": [
      "I'm doing the thing.\n",
      "bone-penn-093\n",
      "I'm doing the thing.\n",
      "I'm doing the thing.\n",
      "bone-penn-094\n",
      "I'm doing the thing.\n",
      "I'm doing the thing.\n",
      "bone-penn-095\n",
      "I'm doing the thing.\n",
      "I'm doing the thing.\n",
      "bone-penn-097\n",
      "I'm doing the thing.\n"
     ]
    },
    {
     "name": "stderr",
     "output_type": "stream",
     "text": [
      "\r",
      " 59%|█████▊    | 397/678 [01:20<00:42,  6.68it/s]"
     ]
    },
    {
     "name": "stdout",
     "output_type": "stream",
     "text": [
      "I'm doing the thing.\n",
      "bone-penn-099\n",
      "I'm doing the thing.\n"
     ]
    },
    {
     "name": "stderr",
     "output_type": "stream",
     "text": [
      "\r",
      " 59%|█████▊    | 398/678 [01:20<00:54,  5.15it/s]"
     ]
    },
    {
     "name": "stdout",
     "output_type": "stream",
     "text": [
      "I'm doing the thing.\n",
      "bone-penn-102\n",
      "I'm doing the thing.\n"
     ]
    },
    {
     "name": "stderr",
     "output_type": "stream",
     "text": [
      "\r",
      " 59%|█████▉    | 399/678 [01:21<01:02,  4.46it/s]"
     ]
    },
    {
     "name": "stdout",
     "output_type": "stream",
     "text": [
      "I'm doing the thing.\n",
      "bone-penn-105\n",
      "I'm doing the thing.\n"
     ]
    },
    {
     "name": "stderr",
     "output_type": "stream",
     "text": [
      "\r",
      " 59%|█████▉    | 400/678 [01:21<01:04,  4.31it/s]"
     ]
    },
    {
     "name": "stdout",
     "output_type": "stream",
     "text": [
      "I'm doing the thing.\n",
      "bone-penn-106\n",
      "I'm doing the thing.\n"
     ]
    },
    {
     "name": "stderr",
     "output_type": "stream",
     "text": [
      "\r",
      " 59%|█████▉    | 401/678 [01:21<01:03,  4.36it/s]"
     ]
    },
    {
     "name": "stdout",
     "output_type": "stream",
     "text": [
      "I'm doing the thing.\n",
      "bone-penn-107\n",
      "I'm doing the thing.\n"
     ]
    },
    {
     "name": "stderr",
     "output_type": "stream",
     "text": [
      "\r",
      " 59%|█████▉    | 402/678 [01:21<01:08,  4.00it/s]"
     ]
    },
    {
     "name": "stdout",
     "output_type": "stream",
     "text": [
      "I'm doing the thing.\n",
      "bone-penn-109\n",
      "I'm doing the thing.\n",
      "I'm doing the thing.\n",
      "bone-penn-110\n",
      "I'm doing the thing.\n"
     ]
    },
    {
     "name": "stderr",
     "output_type": "stream",
     "text": [
      "\r",
      " 60%|█████▉    | 404/678 [01:22<01:02,  4.37it/s]"
     ]
    },
    {
     "name": "stdout",
     "output_type": "stream",
     "text": [
      "I'm doing the thing.\n",
      "bone-penn-111\n",
      "I'm doing the thing.\n"
     ]
    },
    {
     "name": "stderr",
     "output_type": "stream",
     "text": [
      "\r",
      " 60%|█████▉    | 405/678 [01:22<01:07,  4.05it/s]"
     ]
    },
    {
     "name": "stdout",
     "output_type": "stream",
     "text": [
      "I'm doing the thing.\n",
      "bone-penn-112\n",
      "I'm doing the thing.\n"
     ]
    },
    {
     "name": "stderr",
     "output_type": "stream",
     "text": [
      " 60%|██████    | 408/678 [01:23<01:20,  3.37it/s]"
     ]
    },
    {
     "name": "stdout",
     "output_type": "stream",
     "text": [
      "I'm doing the thing.\n",
      "bone-penn-113\n",
      "I'm doing the thing.\n",
      "I'm doing the thing.\n",
      "bone-penn-116\n",
      "I'm doing the thing.\n",
      "I'm doing the thing.\n",
      "bone-penn-118\n",
      "I'm doing the thing.\n"
     ]
    },
    {
     "name": "stderr",
     "output_type": "stream",
     "text": [
      "\r",
      " 60%|██████    | 409/678 [01:25<02:23,  1.87it/s]"
     ]
    },
    {
     "name": "stdout",
     "output_type": "stream",
     "text": [
      "I'm doing the thing.\n",
      "bone-penn-119\n",
      "I'm doing the thing.\n",
      "I'm doing the thing.\n",
      "bone-penn-120\n",
      "I'm doing the thing.\n"
     ]
    },
    {
     "name": "stderr",
     "output_type": "stream",
     "text": [
      " 61%|██████    | 412/678 [01:25<01:24,  3.15it/s]"
     ]
    },
    {
     "name": "stdout",
     "output_type": "stream",
     "text": [
      "I'm doing the thing.\n",
      "bone-penn-122\n",
      "I'm doing the thing.\n",
      "I'm doing the thing.\n",
      "bone-penn-126\n",
      "I'm doing the thing.\n"
     ]
    },
    {
     "name": "stderr",
     "output_type": "stream",
     "text": [
      "\r",
      " 61%|██████    | 413/678 [01:25<01:24,  3.12it/s]"
     ]
    },
    {
     "name": "stdout",
     "output_type": "stream",
     "text": [
      "I'm doing the thing.\n",
      "bone-penn-134\n",
      "I'm doing the thing.\n"
     ]
    },
    {
     "name": "stderr",
     "output_type": "stream",
     "text": [
      " 61%|██████    | 415/678 [01:26<01:10,  3.75it/s]"
     ]
    },
    {
     "name": "stdout",
     "output_type": "stream",
     "text": [
      "I'm doing the thing.\n",
      "bone-penn-135\n",
      "I'm doing the thing.\n",
      "I'm doing the thing.\n",
      "bone-penn-137\n",
      "I'm doing the thing.\n"
     ]
    },
    {
     "name": "stderr",
     "output_type": "stream",
     "text": [
      " 62%|██████▏   | 417/678 [01:26<01:08,  3.82it/s]"
     ]
    },
    {
     "name": "stdout",
     "output_type": "stream",
     "text": [
      "I'm doing the thing.\n",
      "bone-penn-139\n",
      "I'm doing the thing.\n",
      "I'm doing the thing.\n",
      "bone-penn-140\n",
      "I'm doing the thing.\n"
     ]
    },
    {
     "name": "stderr",
     "output_type": "stream",
     "text": [
      " 62%|██████▏   | 420/678 [01:27<00:42,  6.11it/s]"
     ]
    },
    {
     "name": "stdout",
     "output_type": "stream",
     "text": [
      "I'm doing the thing.\n",
      "bone-penn-141\n",
      "I'm doing the thing.\n",
      "I'm doing the thing.\n",
      "bone-penn-142\n",
      "I'm doing the thing.\n",
      "I'm doing the thing.\n",
      "bone-penn-147\n",
      "I'm doing the thing.\n"
     ]
    },
    {
     "name": "stderr",
     "output_type": "stream",
     "text": [
      "\r",
      " 62%|██████▏   | 421/678 [01:27<00:52,  4.86it/s]"
     ]
    },
    {
     "name": "stdout",
     "output_type": "stream",
     "text": [
      "I'm doing the thing.\n",
      "bone-penn-148\n",
      "I'm doing the thing.\n"
     ]
    },
    {
     "name": "stderr",
     "output_type": "stream",
     "text": [
      " 62%|██████▏   | 423/678 [01:27<00:52,  4.88it/s]"
     ]
    },
    {
     "name": "stdout",
     "output_type": "stream",
     "text": [
      "I'm doing the thing.\n",
      "bone-penn-149\n",
      "I'm doing the thing.\n",
      "I'm doing the thing.\n",
      "bone-penn-150\n",
      "I'm doing the thing.\n"
     ]
    },
    {
     "name": "stderr",
     "output_type": "stream",
     "text": [
      "\r",
      " 63%|██████▎   | 424/678 [01:28<00:56,  4.52it/s]"
     ]
    },
    {
     "name": "stdout",
     "output_type": "stream",
     "text": [
      "I'm doing the thing.\n",
      "bone-penn-152\n",
      "I'm doing the thing.\n"
     ]
    },
    {
     "name": "stderr",
     "output_type": "stream",
     "text": [
      "\r",
      " 63%|██████▎   | 425/678 [01:28<01:03,  4.00it/s]"
     ]
    },
    {
     "name": "stdout",
     "output_type": "stream",
     "text": [
      "I'm doing the thing.\n",
      "bone-penn-154\n",
      "I'm doing the thing.\n",
      "I'm doing the thing.\n",
      "bone-penn-155\n",
      "I'm doing the thing.\n"
     ]
    },
    {
     "name": "stderr",
     "output_type": "stream",
     "text": [
      " 63%|██████▎   | 428/678 [01:28<00:45,  5.54it/s]"
     ]
    },
    {
     "name": "stdout",
     "output_type": "stream",
     "text": [
      "I'm doing the thing.\n",
      "bone-penn-156\n",
      "I'm doing the thing.\n",
      "I'm doing the thing.\n",
      "bone-penn-157\n",
      "I'm doing the thing.\n"
     ]
    },
    {
     "name": "stderr",
     "output_type": "stream",
     "text": [
      "\r",
      " 63%|██████▎   | 429/678 [01:28<00:45,  5.43it/s]"
     ]
    },
    {
     "name": "stdout",
     "output_type": "stream",
     "text": [
      "I'm doing the thing.\n",
      "bone-penn-160\n",
      "I'm doing the thing.\n",
      "I'm doing the thing.\n",
      "bone-penn-161\n",
      "I'm doing the thing.\n"
     ]
    },
    {
     "name": "stderr",
     "output_type": "stream",
     "text": [
      " 64%|██████▎   | 432/678 [01:29<00:37,  6.61it/s]"
     ]
    },
    {
     "name": "stdout",
     "output_type": "stream",
     "text": [
      "I'm doing the thing.\n",
      "bone-penn-162\n",
      "I'm doing the thing.\n",
      "I'm doing the thing.\n",
      "bone-penn-163\n",
      "I'm doing the thing.\n"
     ]
    },
    {
     "name": "stderr",
     "output_type": "stream",
     "text": [
      "\r",
      " 64%|██████▍   | 433/678 [01:29<00:37,  6.48it/s]"
     ]
    },
    {
     "name": "stdout",
     "output_type": "stream",
     "text": [
      "I'm doing the thing.\n",
      "bone-penn-167\n",
      "I'm doing the thing.\n"
     ]
    },
    {
     "name": "stderr",
     "output_type": "stream",
     "text": [
      "\r",
      " 64%|██████▍   | 434/678 [01:29<00:45,  5.39it/s]"
     ]
    },
    {
     "name": "stdout",
     "output_type": "stream",
     "text": [
      "I'm doing the thing.\n",
      "bone-penn-168\n",
      "I'm doing the thing.\n",
      "I'm doing the thing.\n",
      "bone-penn-170\n",
      "I'm doing the thing.\n"
     ]
    },
    {
     "name": "stderr",
     "output_type": "stream",
     "text": [
      " 64%|██████▍   | 437/678 [01:30<00:39,  6.11it/s]"
     ]
    },
    {
     "name": "stdout",
     "output_type": "stream",
     "text": [
      "I'm doing the thing.\n",
      "bone-penn-171\n",
      "I'm doing the thing.\n",
      "I'm doing the thing.\n",
      "bone-penn-172\n",
      "I'm doing the thing.\n"
     ]
    },
    {
     "name": "stderr",
     "output_type": "stream",
     "text": [
      "\r",
      " 65%|██████▍   | 438/678 [01:30<00:36,  6.58it/s]"
     ]
    },
    {
     "name": "stdout",
     "output_type": "stream",
     "text": [
      "I'm doing the thing.\n",
      "bone-penn-173\n",
      "I'm doing the thing.\n",
      "I'm doing the thing.\n",
      "bone-penn-174\n",
      "I'm doing the thing.\n"
     ]
    },
    {
     "name": "stderr",
     "output_type": "stream",
     "text": [
      "\r",
      " 65%|██████▍   | 440/678 [01:30<00:31,  7.46it/s]"
     ]
    },
    {
     "name": "stdout",
     "output_type": "stream",
     "text": [
      "I'm doing the thing.\n",
      "bone-penn-178\n",
      "I'm doing the thing.\n"
     ]
    },
    {
     "name": "stderr",
     "output_type": "stream",
     "text": [
      "\r",
      " 65%|██████▌   | 441/678 [01:30<00:36,  6.49it/s]"
     ]
    },
    {
     "name": "stdout",
     "output_type": "stream",
     "text": [
      "I'm doing the thing.\n",
      "bone-penn-179\n",
      "I'm doing the thing.\n"
     ]
    },
    {
     "name": "stderr",
     "output_type": "stream",
     "text": [
      " 65%|██████▌   | 443/678 [01:31<00:44,  5.30it/s]"
     ]
    },
    {
     "name": "stdout",
     "output_type": "stream",
     "text": [
      "I'm doing the thing.\n",
      "bone-penn-180\n",
      "I'm doing the thing.\n",
      "I'm doing the thing.\n",
      "bone-penn-183\n",
      "I'm doing the thing.\n"
     ]
    },
    {
     "name": "stderr",
     "output_type": "stream",
     "text": [
      " 66%|██████▌   | 445/678 [01:31<00:36,  6.37it/s]"
     ]
    },
    {
     "name": "stdout",
     "output_type": "stream",
     "text": [
      "I'm doing the thing.\n",
      "bone-penn-187\n",
      "I'm doing the thing.\n",
      "I'm doing the thing.\n",
      "bone-penn-188\n",
      "I'm doing the thing.\n"
     ]
    },
    {
     "name": "stderr",
     "output_type": "stream",
     "text": [
      "\r",
      " 66%|██████▌   | 446/678 [01:31<00:33,  7.00it/s]"
     ]
    },
    {
     "name": "stdout",
     "output_type": "stream",
     "text": [
      "I'm doing the thing.\n",
      "bone-penn-189\n",
      "I'm doing the thing.\n"
     ]
    },
    {
     "name": "stderr",
     "output_type": "stream",
     "text": [
      "\r",
      " 66%|██████▌   | 447/678 [01:32<01:03,  3.66it/s]"
     ]
    },
    {
     "name": "stdout",
     "output_type": "stream",
     "text": [
      "I'm doing the thing.\n",
      "bone-penn-191\n",
      "I'm doing the thing.\n"
     ]
    },
    {
     "name": "stderr",
     "output_type": "stream",
     "text": [
      " 66%|██████▌   | 449/678 [01:32<00:50,  4.53it/s]"
     ]
    },
    {
     "name": "stdout",
     "output_type": "stream",
     "text": [
      "I'm doing the thing.\n",
      "bone-penn-192\n",
      "I'm doing the thing.\n",
      "I'm doing the thing.\n",
      "bone-penn-193\n",
      "I'm doing the thing.\n"
     ]
    },
    {
     "name": "stderr",
     "output_type": "stream",
     "text": [
      "\r",
      " 66%|██████▋   | 450/678 [01:32<00:48,  4.75it/s]"
     ]
    },
    {
     "name": "stdout",
     "output_type": "stream",
     "text": [
      "I'm doing the thing.\n",
      "bone-penn-194\n",
      "I'm doing the thing.\n"
     ]
    },
    {
     "name": "stderr",
     "output_type": "stream",
     "text": [
      " 67%|██████▋   | 452/678 [01:33<01:07,  3.34it/s]"
     ]
    },
    {
     "name": "stdout",
     "output_type": "stream",
     "text": [
      "I'm doing the thing.\n",
      "bone-penn-197\n",
      "I'm doing the thing.\n",
      "I'm doing the thing.\n",
      "bone-penn-198\n",
      "I'm doing the thing.\n"
     ]
    },
    {
     "name": "stderr",
     "output_type": "stream",
     "text": [
      "\r",
      " 67%|██████▋   | 453/678 [01:33<00:55,  4.04it/s]"
     ]
    },
    {
     "name": "stdout",
     "output_type": "stream",
     "text": [
      "I'm doing the thing.\n",
      "bone-penn-200\n",
      "I'm doing the thing.\n",
      "I'm doing the thing.\n",
      "bone-penn-205\n",
      "I'm doing the thing.\n"
     ]
    },
    {
     "name": "stderr",
     "output_type": "stream",
     "text": [
      "\r",
      " 67%|██████▋   | 455/678 [01:35<01:49,  2.03it/s]"
     ]
    },
    {
     "name": "stdout",
     "output_type": "stream",
     "text": [
      "I'm doing the thing.\n",
      "bone-penn-206\n",
      "I'm doing the thing.\n",
      "I'm doing the thing.\n",
      "bone-penn-207\n",
      "I'm doing the thing.\n"
     ]
    },
    {
     "name": "stderr",
     "output_type": "stream",
     "text": [
      "\r",
      " 67%|██████▋   | 457/678 [01:35<01:21,  2.72it/s]"
     ]
    },
    {
     "name": "stdout",
     "output_type": "stream",
     "text": [
      "I'm doing the thing.\n",
      "bone-penn-209\n",
      "I'm doing the thing.\n"
     ]
    },
    {
     "name": "stderr",
     "output_type": "stream",
     "text": [
      "\r",
      " 68%|██████▊   | 458/678 [01:36<01:22,  2.68it/s]"
     ]
    },
    {
     "name": "stdout",
     "output_type": "stream",
     "text": [
      "I'm doing the thing.\n",
      "bone-penn-210\n",
      "I'm doing the thing.\n"
     ]
    },
    {
     "name": "stderr",
     "output_type": "stream",
     "text": [
      "\r",
      " 68%|██████▊   | 459/678 [01:36<01:13,  2.98it/s]"
     ]
    },
    {
     "name": "stdout",
     "output_type": "stream",
     "text": [
      "I'm doing the thing.\n",
      "bone-penn-214\n",
      "I'm doing the thing.\n"
     ]
    },
    {
     "name": "stderr",
     "output_type": "stream",
     "text": [
      "\r",
      " 68%|██████▊   | 460/678 [01:36<01:13,  2.95it/s]"
     ]
    },
    {
     "name": "stdout",
     "output_type": "stream",
     "text": [
      "I'm doing the thing.\n",
      "bone-penn-217\n",
      "I'm doing the thing.\n"
     ]
    },
    {
     "name": "stderr",
     "output_type": "stream",
     "text": [
      "\r",
      " 68%|██████▊   | 461/678 [01:36<01:10,  3.07it/s]"
     ]
    },
    {
     "name": "stdout",
     "output_type": "stream",
     "text": [
      "I'm doing the thing.\n",
      "bone-penn-218\n",
      "I'm doing the thing.\n"
     ]
    },
    {
     "name": "stderr",
     "output_type": "stream",
     "text": [
      "\r",
      " 68%|██████▊   | 462/678 [01:37<01:16,  2.82it/s]"
     ]
    },
    {
     "name": "stdout",
     "output_type": "stream",
     "text": [
      "I'm doing the thing.\n",
      "bone-penn-219\n",
      "I'm doing the thing.\n",
      "I'm doing the thing.\n",
      "bone-penn-220\n",
      "I'm doing the thing.\n"
     ]
    },
    {
     "name": "stderr",
     "output_type": "stream",
     "text": [
      " 69%|██████▊   | 465/678 [01:37<00:48,  4.40it/s]"
     ]
    },
    {
     "name": "stdout",
     "output_type": "stream",
     "text": [
      "I'm doing the thing.\n",
      "bone-penn-222\n",
      "I'm doing the thing.\n",
      "I'm doing the thing.\n",
      "bone-penn-223\n",
      "I'm doing the thing.\n"
     ]
    },
    {
     "name": "stderr",
     "output_type": "stream",
     "text": [
      "\r",
      " 69%|██████▊   | 466/678 [01:38<01:09,  3.05it/s]"
     ]
    },
    {
     "name": "stdout",
     "output_type": "stream",
     "text": [
      "I'm doing the thing.\n",
      "bone-penn-224\n",
      "I'm doing the thing.\n",
      "I'm doing the thing.\n",
      "bone-penn-227\n",
      "I'm doing the thing.\n"
     ]
    },
    {
     "name": "stderr",
     "output_type": "stream",
     "text": [
      "\r",
      " 69%|██████▉   | 468/678 [01:38<00:55,  3.79it/s]"
     ]
    },
    {
     "name": "stdout",
     "output_type": "stream",
     "text": [
      "I'm doing the thing.\n",
      "bone-penn-231\n",
      "I'm doing the thing.\n"
     ]
    },
    {
     "name": "stderr",
     "output_type": "stream",
     "text": [
      "\r",
      " 69%|██████▉   | 469/678 [01:39<01:19,  2.62it/s]"
     ]
    },
    {
     "name": "stdout",
     "output_type": "stream",
     "text": [
      "I'm doing the thing.\n",
      "bone-penn-236\n",
      "I'm doing the thing.\n"
     ]
    },
    {
     "name": "stderr",
     "output_type": "stream",
     "text": [
      "\r",
      " 69%|██████▉   | 470/678 [01:39<01:18,  2.66it/s]"
     ]
    },
    {
     "name": "stdout",
     "output_type": "stream",
     "text": [
      "I'm doing the thing.\n",
      "bone-penn-238\n",
      "I'm doing the thing.\n"
     ]
    },
    {
     "name": "stderr",
     "output_type": "stream",
     "text": [
      "\r",
      " 69%|██████▉   | 471/678 [01:40<01:10,  2.94it/s]"
     ]
    },
    {
     "name": "stdout",
     "output_type": "stream",
     "text": [
      "I'm doing the thing.\n",
      "bone-penn-239\n",
      "I'm doing the thing.\n"
     ]
    },
    {
     "name": "stderr",
     "output_type": "stream",
     "text": [
      "\r",
      " 70%|██████▉   | 472/678 [01:40<01:03,  3.26it/s]"
     ]
    },
    {
     "name": "stdout",
     "output_type": "stream",
     "text": [
      "I'm doing the thing.\n",
      "bone-penn-241\n",
      "I'm doing the thing.\n"
     ]
    },
    {
     "name": "stderr",
     "output_type": "stream",
     "text": [
      " 70%|██████▉   | 474/678 [01:40<01:00,  3.40it/s]"
     ]
    },
    {
     "name": "stdout",
     "output_type": "stream",
     "text": [
      "I'm doing the thing.\n",
      "bone-penn-245\n",
      "I'm doing the thing.\n",
      "I'm doing the thing.\n",
      "bone-penn-246\n",
      "I'm doing the thing.\n"
     ]
    },
    {
     "name": "stderr",
     "output_type": "stream",
     "text": [
      "\r",
      " 70%|███████   | 476/678 [01:41<00:40,  5.03it/s]"
     ]
    },
    {
     "name": "stdout",
     "output_type": "stream",
     "text": [
      "I'm doing the thing.\n",
      "bone-penn-247\n",
      "I'm doing the thing.\n",
      "I'm doing the thing.\n",
      "bone-penn-250\n",
      "I'm doing the thing.\n"
     ]
    },
    {
     "name": "stderr",
     "output_type": "stream",
     "text": [
      "\r",
      " 70%|███████   | 477/678 [01:41<00:42,  4.71it/s]"
     ]
    },
    {
     "name": "stdout",
     "output_type": "stream",
     "text": [
      "I'm doing the thing.\n",
      "bone-penn-252\n",
      "I'm doing the thing.\n",
      "I'm doing the thing.\n",
      "bone-penn-253\n",
      "I'm doing the thing.\n"
     ]
    },
    {
     "name": "stderr",
     "output_type": "stream",
     "text": [
      " 71%|███████   | 480/678 [01:41<00:33,  5.83it/s]"
     ]
    },
    {
     "name": "stdout",
     "output_type": "stream",
     "text": [
      "I'm doing the thing.\n",
      "bone-penn-254\n",
      "I'm doing the thing.\n",
      "I'm doing the thing.\n",
      "bone-penn-255\n",
      "I'm doing the thing.\n"
     ]
    },
    {
     "name": "stderr",
     "output_type": "stream",
     "text": [
      "\r",
      " 71%|███████   | 481/678 [01:41<00:37,  5.22it/s]"
     ]
    },
    {
     "name": "stdout",
     "output_type": "stream",
     "text": [
      "I'm doing the thing.\n",
      "bone-penn-257\n",
      "I'm doing the thing.\n",
      "I'm doing the thing.\n",
      "bone-penn-260\n",
      "I'm doing the thing.\n"
     ]
    },
    {
     "name": "stderr",
     "output_type": "stream",
     "text": [
      "\r",
      " 71%|███████   | 483/678 [01:42<00:36,  5.35it/s]"
     ]
    },
    {
     "name": "stdout",
     "output_type": "stream",
     "text": [
      "I'm doing the thing.\n",
      "bone-penn-261\n",
      "I'm doing the thing.\n",
      "I'm doing the thing.\n",
      "bone-penn-262\n",
      "I'm doing the thing.\n"
     ]
    },
    {
     "name": "stderr",
     "output_type": "stream",
     "text": [
      " 72%|███████▏  | 486/678 [01:42<00:30,  6.21it/s]"
     ]
    },
    {
     "name": "stdout",
     "output_type": "stream",
     "text": [
      "I'm doing the thing.\n",
      "bone-penn-266\n",
      "I'm doing the thing.\n",
      "I'm doing the thing.\n",
      "bone-penn-268\n",
      "I'm doing the thing.\n",
      "I'm doing the thing.\n",
      "bone-penn-269\n",
      "I'm doing the thing.\n",
      "I'm doing the thing.\n",
      "bone-penn-277\n",
      "I'm doing the thing.\n"
     ]
    },
    {
     "name": "stderr",
     "output_type": "stream",
     "text": [
      "\r",
      " 72%|███████▏  | 489/678 [01:43<00:30,  6.13it/s]"
     ]
    },
    {
     "name": "stdout",
     "output_type": "stream",
     "text": [
      "I'm doing the thing.\n",
      "bone-penn-278\n",
      "I'm doing the thing.\n"
     ]
    },
    {
     "name": "stderr",
     "output_type": "stream",
     "text": [
      "\r",
      " 72%|███████▏  | 490/678 [01:43<00:34,  5.43it/s]"
     ]
    },
    {
     "name": "stdout",
     "output_type": "stream",
     "text": [
      "I'm doing the thing.\n",
      "bone-penn-279\n",
      "I'm doing the thing.\n"
     ]
    },
    {
     "name": "stderr",
     "output_type": "stream",
     "text": [
      " 73%|███████▎  | 493/678 [01:44<00:33,  5.52it/s]"
     ]
    },
    {
     "name": "stdout",
     "output_type": "stream",
     "text": [
      "I'm doing the thing.\n",
      "bone-penn-280\n",
      "I'm doing the thing.\n",
      "I'm doing the thing.\n",
      "bone-penn-282\n",
      "I'm doing the thing.\n",
      "I'm doing the thing.\n",
      "bone-penn-283\n",
      "I'm doing the thing.\n"
     ]
    },
    {
     "name": "stderr",
     "output_type": "stream",
     "text": [
      "\r",
      " 73%|███████▎  | 494/678 [01:44<00:38,  4.84it/s]"
     ]
    },
    {
     "name": "stdout",
     "output_type": "stream",
     "text": [
      "I'm doing the thing.\n",
      "bone-penn-285\n",
      "I'm doing the thing.\n"
     ]
    },
    {
     "name": "stderr",
     "output_type": "stream",
     "text": [
      "\r",
      " 73%|███████▎  | 495/678 [01:44<00:50,  3.64it/s]"
     ]
    },
    {
     "name": "stdout",
     "output_type": "stream",
     "text": [
      "I'm doing the thing.\n",
      "bone-penn-286\n",
      "I'm doing the thing.\n",
      "I'm doing the thing.\n",
      "bone-penn-289\n",
      "I'm doing the thing.\n"
     ]
    },
    {
     "name": "stderr",
     "output_type": "stream",
     "text": [
      "\r",
      " 73%|███████▎  | 497/678 [01:45<00:40,  4.45it/s]"
     ]
    },
    {
     "name": "stdout",
     "output_type": "stream",
     "text": [
      "I'm doing the thing.\n",
      "bone-penn-290\n",
      "I'm doing the thing.\n",
      "I'm doing the thing.\n",
      "bone-penn-292\n",
      "I'm doing the thing.\n"
     ]
    },
    {
     "name": "stderr",
     "output_type": "stream",
     "text": [
      "\r",
      " 74%|███████▎  | 499/678 [01:45<00:33,  5.29it/s]"
     ]
    },
    {
     "name": "stdout",
     "output_type": "stream",
     "text": [
      "I'm doing the thing.\n",
      "bone-penn-293\n",
      "I'm doing the thing.\n",
      "I'm doing the thing.\n",
      "bone-penn-296\n",
      "I'm doing the thing.\n"
     ]
    },
    {
     "name": "stderr",
     "output_type": "stream",
     "text": [
      " 74%|███████▍  | 502/678 [01:45<00:30,  5.83it/s]"
     ]
    },
    {
     "name": "stdout",
     "output_type": "stream",
     "text": [
      "I'm doing the thing.\n",
      "bone-penn-298\n",
      "I'm doing the thing.\n",
      "I'm doing the thing.\n",
      "bone-penn-299\n",
      "I'm doing the thing.\n"
     ]
    },
    {
     "name": "stderr",
     "output_type": "stream",
     "text": [
      " 74%|███████▍  | 505/678 [01:46<00:24,  7.20it/s]"
     ]
    },
    {
     "name": "stdout",
     "output_type": "stream",
     "text": [
      "I'm doing the thing.\n",
      "bone-penn-300\n",
      "I'm doing the thing.\n",
      "I'm doing the thing.\n",
      "bone-penn-304\n",
      "I'm doing the thing.\n",
      "I'm doing the thing.\n",
      "bone-penn-305\n",
      "I'm doing the thing.\n"
     ]
    },
    {
     "name": "stderr",
     "output_type": "stream",
     "text": [
      "\r",
      " 75%|███████▍  | 506/678 [01:46<00:22,  7.51it/s]"
     ]
    },
    {
     "name": "stdout",
     "output_type": "stream",
     "text": [
      "I'm doing the thing.\n",
      "bone-penn-307\n",
      "I'm doing the thing.\n"
     ]
    },
    {
     "name": "stderr",
     "output_type": "stream",
     "text": [
      "\r",
      " 75%|███████▍  | 507/678 [01:46<00:29,  5.80it/s]"
     ]
    },
    {
     "name": "stdout",
     "output_type": "stream",
     "text": [
      "I'm doing the thing.\n",
      "bone-penn-311\n",
      "I'm doing the thing.\n"
     ]
    },
    {
     "name": "stderr",
     "output_type": "stream",
     "text": [
      "\r",
      " 75%|███████▍  | 508/678 [01:47<00:37,  4.49it/s]"
     ]
    },
    {
     "name": "stdout",
     "output_type": "stream",
     "text": [
      "I'm doing the thing.\n",
      "bone-penn-312\n",
      "I'm doing the thing.\n"
     ]
    },
    {
     "name": "stderr",
     "output_type": "stream",
     "text": [
      "\r",
      " 75%|███████▌  | 509/678 [01:47<00:46,  3.62it/s]"
     ]
    },
    {
     "name": "stdout",
     "output_type": "stream",
     "text": [
      "I'm doing the thing.\n",
      "bone-penn-313\n",
      "I'm doing the thing.\n"
     ]
    },
    {
     "name": "stderr",
     "output_type": "stream",
     "text": [
      "\r",
      " 75%|███████▌  | 510/678 [01:47<00:50,  3.35it/s]"
     ]
    },
    {
     "name": "stdout",
     "output_type": "stream",
     "text": [
      "I'm doing the thing.\n",
      "bone-penn-314\n",
      "I'm doing the thing.\n"
     ]
    },
    {
     "name": "stderr",
     "output_type": "stream",
     "text": [
      " 76%|███████▌  | 512/678 [01:48<00:42,  3.91it/s]"
     ]
    },
    {
     "name": "stdout",
     "output_type": "stream",
     "text": [
      "I'm doing the thing.\n",
      "bone-penn-316\n",
      "I'm doing the thing.\n",
      "I'm doing the thing.\n",
      "bone-penn-317\n",
      "I'm doing the thing.\n",
      "I'm doing the thing.\n",
      "bone-penn-319\n",
      "I'm doing the thing.\n"
     ]
    },
    {
     "name": "stderr",
     "output_type": "stream",
     "text": [
      " 76%|███████▌  | 516/678 [01:48<00:21,  7.38it/s]"
     ]
    },
    {
     "name": "stdout",
     "output_type": "stream",
     "text": [
      "I'm doing the thing.\n",
      "bone-penn-320\n",
      "I'm doing the thing.\n",
      "I'm doing the thing.\n",
      "bone-penn-322\n",
      "I'm doing the thing.\n",
      "I'm doing the thing.\n",
      "bone-penn-326\n",
      "I'm doing the thing.\n"
     ]
    },
    {
     "name": "stderr",
     "output_type": "stream",
     "text": [
      "\r",
      " 76%|███████▋  | 518/678 [01:48<00:17,  8.91it/s]"
     ]
    },
    {
     "name": "stdout",
     "output_type": "stream",
     "text": [
      "I'm doing the thing.\n",
      "bone-penn-328\n",
      "I'm doing the thing.\n",
      "I'm doing the thing.\n",
      "bone-penn-330\n",
      "I'm doing the thing.\n",
      "I'm doing the thing.\n",
      "bone-penn-332\n",
      "I'm doing the thing.\n"
     ]
    },
    {
     "name": "stderr",
     "output_type": "stream",
     "text": [
      "\r",
      " 77%|███████▋  | 520/678 [01:49<00:26,  5.86it/s]"
     ]
    },
    {
     "name": "stdout",
     "output_type": "stream",
     "text": [
      "I'm doing the thing.\n",
      "bone-penn-335\n",
      "I'm doing the thing.\n"
     ]
    },
    {
     "name": "stderr",
     "output_type": "stream",
     "text": [
      " 77%|███████▋  | 523/678 [01:49<00:24,  6.24it/s]"
     ]
    },
    {
     "name": "stdout",
     "output_type": "stream",
     "text": [
      "I'm doing the thing.\n",
      "bone-penn-337\n",
      "I'm doing the thing.\n",
      "I'm doing the thing.\n",
      "bone-penn-338\n",
      "I'm doing the thing.\n",
      "I'm doing the thing.\n",
      "bone-penn-339\n",
      "I'm doing the thing.\n"
     ]
    },
    {
     "name": "stderr",
     "output_type": "stream",
     "text": [
      " 77%|███████▋  | 525/678 [01:50<00:26,  5.80it/s]"
     ]
    },
    {
     "name": "stdout",
     "output_type": "stream",
     "text": [
      "I'm doing the thing.\n",
      "bone-penn-340\n",
      "I'm doing the thing.\n",
      "I'm doing the thing.\n",
      "bone-penn-341\n",
      "I'm doing the thing.\n"
     ]
    },
    {
     "name": "stderr",
     "output_type": "stream",
     "text": [
      " 78%|███████▊  | 527/678 [01:50<00:28,  5.26it/s]"
     ]
    },
    {
     "name": "stdout",
     "output_type": "stream",
     "text": [
      "I'm doing the thing.\n",
      "bone-penn-342\n",
      "I'm doing the thing.\n",
      "I'm doing the thing.\n",
      "bone-penn-343\n",
      "I'm doing the thing.\n"
     ]
    },
    {
     "name": "stderr",
     "output_type": "stream",
     "text": [
      "\r",
      " 78%|███████▊  | 529/678 [01:50<00:21,  7.00it/s]"
     ]
    },
    {
     "name": "stdout",
     "output_type": "stream",
     "text": [
      "I'm doing the thing.\n",
      "bone-penn-345\n",
      "I'm doing the thing.\n",
      "I'm doing the thing.\n",
      "bone-penn-346\n",
      "I'm doing the thing.\n",
      "I'm doing the thing.\n",
      "bone-penn-347\n",
      "I'm doing the thing.\n"
     ]
    },
    {
     "name": "stderr",
     "output_type": "stream",
     "text": [
      " 79%|███████▊  | 533/678 [01:51<00:15,  9.57it/s]"
     ]
    },
    {
     "name": "stdout",
     "output_type": "stream",
     "text": [
      "I'm doing the thing.\n",
      "bone-penn-348\n",
      "I'm doing the thing.\n",
      "I'm doing the thing.\n",
      "bone-penn-349\n",
      "I'm doing the thing.\n",
      "I'm doing the thing.\n",
      "bone-penn-356\n",
      "I'm doing the thing.\n",
      "I'm doing the thing.\n",
      "bone-penn-362\n",
      "I'm doing the thing.\n"
     ]
    },
    {
     "name": "stderr",
     "output_type": "stream",
     "text": [
      "\r",
      " 79%|███████▉  | 535/678 [01:52<00:30,  4.66it/s]"
     ]
    },
    {
     "name": "stdout",
     "output_type": "stream",
     "text": [
      "I'm doing the thing.\n",
      "bone-penn-363\n",
      "I'm doing the thing.\n"
     ]
    },
    {
     "name": "stderr",
     "output_type": "stream",
     "text": [
      "\r",
      " 79%|███████▉  | 536/678 [01:52<00:36,  3.86it/s]"
     ]
    },
    {
     "name": "stdout",
     "output_type": "stream",
     "text": [
      "I'm doing the thing.\n",
      "bone-penn-364\n",
      "I'm doing the thing.\n"
     ]
    },
    {
     "name": "stderr",
     "output_type": "stream",
     "text": [
      " 79%|███████▉  | 539/678 [01:53<00:27,  5.10it/s]"
     ]
    },
    {
     "name": "stdout",
     "output_type": "stream",
     "text": [
      "I'm doing the thing.\n",
      "bone-penn-367\n",
      "I'm doing the thing.\n",
      "I'm doing the thing.\n",
      "bone-penn-368\n",
      "I'm doing the thing.\n",
      "I'm doing the thing.\n",
      "bone-penn-369\n",
      "I'm doing the thing.\n",
      "I'm doing the thing.\n",
      "bone-penn-370\n",
      "I'm doing the thing.\n"
     ]
    },
    {
     "name": "stderr",
     "output_type": "stream",
     "text": [
      "\r",
      " 80%|███████▉  | 541/678 [01:53<00:22,  6.15it/s]"
     ]
    },
    {
     "name": "stdout",
     "output_type": "stream",
     "text": [
      "I'm doing the thing.\n",
      "bone-penn-372\n",
      "I'm doing the thing.\n"
     ]
    },
    {
     "name": "stderr",
     "output_type": "stream",
     "text": [
      "\r",
      " 80%|███████▉  | 542/678 [01:53<00:23,  5.76it/s]"
     ]
    },
    {
     "name": "stdout",
     "output_type": "stream",
     "text": [
      "I'm doing the thing.\n",
      "bone-penn-374\n",
      "I'm doing the thing.\n"
     ]
    },
    {
     "name": "stderr",
     "output_type": "stream",
     "text": [
      " 80%|████████  | 544/678 [01:53<00:22,  5.98it/s]"
     ]
    },
    {
     "name": "stdout",
     "output_type": "stream",
     "text": [
      "I'm doing the thing.\n",
      "bone-penn-375\n",
      "I'm doing the thing.\n",
      "I'm doing the thing.\n",
      "bone-penn-379\n",
      "I'm doing the thing.\n"
     ]
    },
    {
     "name": "stderr",
     "output_type": "stream",
     "text": [
      "\r",
      " 80%|████████  | 545/678 [01:53<00:20,  6.52it/s]"
     ]
    },
    {
     "name": "stdout",
     "output_type": "stream",
     "text": [
      "I'm doing the thing.\n",
      "bone-penn-380\n",
      "I'm doing the thing.\n"
     ]
    },
    {
     "name": "stderr",
     "output_type": "stream",
     "text": [
      " 81%|████████  | 547/678 [01:54<00:21,  6.12it/s]"
     ]
    },
    {
     "name": "stdout",
     "output_type": "stream",
     "text": [
      "I'm doing the thing.\n",
      "bone-penn-382\n",
      "I'm doing the thing.\n",
      "I'm doing the thing.\n",
      "bone-penn-384\n",
      "I'm doing the thing.\n",
      "I'm doing the thing.\n",
      "bone-penn-385\n",
      "I'm doing the thing.\n"
     ]
    },
    {
     "name": "stderr",
     "output_type": "stream",
     "text": [
      "\r",
      " 81%|████████  | 549/678 [01:54<00:24,  5.31it/s]"
     ]
    },
    {
     "name": "stdout",
     "output_type": "stream",
     "text": [
      "I'm doing the thing.\n",
      "bone-penn-386\n",
      "I'm doing the thing.\n"
     ]
    },
    {
     "name": "stderr",
     "output_type": "stream",
     "text": [
      "\r",
      " 81%|████████  | 550/678 [01:55<00:29,  4.39it/s]"
     ]
    },
    {
     "name": "stdout",
     "output_type": "stream",
     "text": [
      "I'm doing the thing.\n",
      "bone-penn-387\n",
      "I'm doing the thing.\n"
     ]
    },
    {
     "name": "stderr",
     "output_type": "stream",
     "text": [
      "\r",
      " 81%|████████▏ | 551/678 [01:55<00:38,  3.33it/s]"
     ]
    },
    {
     "name": "stdout",
     "output_type": "stream",
     "text": [
      "I'm doing the thing.\n",
      "bone-penn-388\n",
      "I'm doing the thing.\n",
      "I'm doing the thing.\n",
      "bone-penn-389\n",
      "I'm doing the thing.\n"
     ]
    },
    {
     "name": "stderr",
     "output_type": "stream",
     "text": [
      " 82%|████████▏ | 554/678 [01:56<00:34,  3.57it/s]"
     ]
    },
    {
     "name": "stdout",
     "output_type": "stream",
     "text": [
      "I'm doing the thing.\n",
      "bone-penn-391\n",
      "I'm doing the thing.\n",
      "I'm doing the thing.\n",
      "bone-penn-392\n",
      "I'm doing the thing.\n"
     ]
    },
    {
     "name": "stderr",
     "output_type": "stream",
     "text": [
      "\r",
      " 82%|████████▏ | 555/678 [01:56<00:37,  3.28it/s]"
     ]
    },
    {
     "name": "stdout",
     "output_type": "stream",
     "text": [
      "I'm doing the thing.\n",
      "bone-penn-396\n",
      "I'm doing the thing.\n"
     ]
    },
    {
     "name": "stderr",
     "output_type": "stream",
     "text": [
      "\r",
      " 82%|████████▏ | 556/678 [01:57<00:43,  2.82it/s]"
     ]
    },
    {
     "name": "stdout",
     "output_type": "stream",
     "text": [
      "I'm doing the thing.\n",
      "bone-penn-397\n",
      "I'm doing the thing.\n"
     ]
    },
    {
     "name": "stderr",
     "output_type": "stream",
     "text": [
      " 82%|████████▏ | 558/678 [01:57<00:40,  2.97it/s]"
     ]
    },
    {
     "name": "stdout",
     "output_type": "stream",
     "text": [
      "I'm doing the thing.\n",
      "bone-penn-405\n",
      "I'm doing the thing.\n",
      "I'm doing the thing.\n",
      "bone-penn-413\n",
      "I'm doing the thing.\n"
     ]
    },
    {
     "name": "stderr",
     "output_type": "stream",
     "text": [
      "\r",
      " 82%|████████▏ | 559/678 [01:58<00:33,  3.58it/s]"
     ]
    },
    {
     "name": "stdout",
     "output_type": "stream",
     "text": [
      "I'm doing the thing.\n",
      "bone-penn-425\n",
      "I'm doing the thing.\n"
     ]
    },
    {
     "name": "stderr",
     "output_type": "stream",
     "text": [
      "\r",
      " 83%|████████▎ | 560/678 [01:58<00:38,  3.10it/s]"
     ]
    },
    {
     "name": "stdout",
     "output_type": "stream",
     "text": [
      "I'm doing the thing.\n",
      "bone-penn-429\n",
      "I'm doing the thing.\n"
     ]
    },
    {
     "name": "stderr",
     "output_type": "stream",
     "text": [
      "\r",
      " 83%|████████▎ | 561/678 [01:58<00:36,  3.25it/s]"
     ]
    },
    {
     "name": "stdout",
     "output_type": "stream",
     "text": [
      "I'm doing the thing.\n",
      "bone-penn-446\n",
      "I'm doing the thing.\n"
     ]
    },
    {
     "name": "stderr",
     "output_type": "stream",
     "text": [
      "\r",
      " 83%|████████▎ | 562/678 [01:59<00:32,  3.55it/s]"
     ]
    },
    {
     "name": "stdout",
     "output_type": "stream",
     "text": [
      "I'm doing the thing.\n",
      "bone-penn-453\n",
      "I'm doing the thing.\n"
     ]
    },
    {
     "name": "stderr",
     "output_type": "stream",
     "text": [
      " 83%|████████▎ | 565/678 [01:59<00:20,  5.51it/s]"
     ]
    },
    {
     "name": "stdout",
     "output_type": "stream",
     "text": [
      "I'm doing the thing.\n",
      "bone-penn-454\n",
      "I'm doing the thing.\n",
      "I'm doing the thing.\n",
      "bone-penn-457\n",
      "I'm doing the thing.\n",
      "I'm doing the thing.\n",
      "bone-penn-458\n",
      "I'm doing the thing.\n"
     ]
    },
    {
     "name": "stderr",
     "output_type": "stream",
     "text": [
      " 84%|████████▎ | 567/678 [01:59<00:21,  5.16it/s]"
     ]
    },
    {
     "name": "stdout",
     "output_type": "stream",
     "text": [
      "I'm doing the thing.\n",
      "bone-penn-459\n",
      "I'm doing the thing.\n",
      "I'm doing the thing.\n",
      "bone-penn-460\n",
      "I'm doing the thing.\n"
     ]
    },
    {
     "name": "stderr",
     "output_type": "stream",
     "text": [
      "\r",
      " 84%|████████▍ | 568/678 [02:00<00:19,  5.76it/s]"
     ]
    },
    {
     "name": "stdout",
     "output_type": "stream",
     "text": [
      "I'm doing the thing.\n",
      "bone-penn-461\n",
      "I'm doing the thing.\n"
     ]
    },
    {
     "name": "stderr",
     "output_type": "stream",
     "text": [
      " 84%|████████▍ | 570/678 [02:00<00:20,  5.18it/s]"
     ]
    },
    {
     "name": "stdout",
     "output_type": "stream",
     "text": [
      "I'm doing the thing.\n",
      "bone-penn-463\n",
      "I'm doing the thing.\n",
      "I'm doing the thing.\n",
      "bone-penn-465\n",
      "I'm doing the thing.\n"
     ]
    },
    {
     "name": "stderr",
     "output_type": "stream",
     "text": [
      " 84%|████████▍ | 572/678 [02:01<00:25,  4.12it/s]"
     ]
    },
    {
     "name": "stdout",
     "output_type": "stream",
     "text": [
      "I'm doing the thing.\n",
      "bone-penn-467\n",
      "I'm doing the thing.\n",
      "I'm doing the thing.\n",
      "bone-penn-471\n",
      "I'm doing the thing.\n"
     ]
    },
    {
     "name": "stderr",
     "output_type": "stream",
     "text": [
      " 85%|████████▍ | 575/678 [02:01<00:14,  7.04it/s]"
     ]
    },
    {
     "name": "stdout",
     "output_type": "stream",
     "text": [
      "I'm doing the thing.\n",
      "bone-penn-473\n",
      "I'm doing the thing.\n",
      "I'm doing the thing.\n",
      "bone-penn-476\n",
      "I'm doing the thing.\n",
      "I'm doing the thing.\n",
      "bone-penn-478\n",
      "I'm doing the thing.\n"
     ]
    },
    {
     "name": "stderr",
     "output_type": "stream",
     "text": [
      "\r",
      " 85%|████████▍ | 576/678 [02:01<00:15,  6.38it/s]"
     ]
    },
    {
     "name": "stdout",
     "output_type": "stream",
     "text": [
      "I'm doing the thing.\n",
      "bone-penn-480\n",
      "I'm doing the thing.\n"
     ]
    },
    {
     "name": "stderr",
     "output_type": "stream",
     "text": [
      "\r",
      " 85%|████████▌ | 577/678 [02:01<00:17,  5.66it/s]"
     ]
    },
    {
     "name": "stdout",
     "output_type": "stream",
     "text": [
      "I'm doing the thing.\n",
      "bone-penn-482\n",
      "I'm doing the thing.\n"
     ]
    },
    {
     "name": "stderr",
     "output_type": "stream",
     "text": [
      " 85%|████████▌ | 579/678 [02:02<00:27,  3.60it/s]"
     ]
    },
    {
     "name": "stdout",
     "output_type": "stream",
     "text": [
      "I'm doing the thing.\n",
      "bone-penn-484\n",
      "I'm doing the thing.\n",
      "I'm doing the thing.\n",
      "bone-penn-487\n",
      "I'm doing the thing.\n"
     ]
    },
    {
     "name": "stderr",
     "output_type": "stream",
     "text": [
      "\r",
      " 86%|████████▌ | 580/678 [02:03<00:32,  3.00it/s]"
     ]
    },
    {
     "name": "stdout",
     "output_type": "stream",
     "text": [
      "I'm doing the thing.\n",
      "bone-penn-489\n",
      "I'm doing the thing.\n"
     ]
    },
    {
     "name": "stderr",
     "output_type": "stream",
     "text": [
      "\r",
      " 86%|████████▌ | 581/678 [02:03<00:31,  3.10it/s]"
     ]
    },
    {
     "name": "stdout",
     "output_type": "stream",
     "text": [
      "I'm doing the thing.\n",
      "bone-penn-490\n",
      "I'm doing the thing.\n"
     ]
    },
    {
     "name": "stderr",
     "output_type": "stream",
     "text": [
      "\r",
      " 86%|████████▌ | 582/678 [02:03<00:32,  2.97it/s]"
     ]
    },
    {
     "name": "stdout",
     "output_type": "stream",
     "text": [
      "I'm doing the thing.\n",
      "bone-penn-494\n",
      "I'm doing the thing.\n"
     ]
    },
    {
     "name": "stderr",
     "output_type": "stream",
     "text": [
      " 86%|████████▌ | 584/678 [02:04<00:27,  3.39it/s]"
     ]
    },
    {
     "name": "stdout",
     "output_type": "stream",
     "text": [
      "I'm doing the thing.\n",
      "bone-penn-495\n",
      "I'm doing the thing.\n",
      "I'm doing the thing.\n",
      "bone-penn-496\n",
      "I'm doing the thing.\n"
     ]
    },
    {
     "name": "stderr",
     "output_type": "stream",
     "text": [
      " 87%|████████▋ | 587/678 [02:04<00:19,  4.68it/s]"
     ]
    },
    {
     "name": "stdout",
     "output_type": "stream",
     "text": [
      "I'm doing the thing.\n",
      "bone-penn-497\n",
      "I'm doing the thing.\n",
      "I'm doing the thing.\n",
      "bone-penn-503\n",
      "I'm doing the thing.\n",
      "I'm doing the thing.\n",
      "bone-penn-505\n",
      "I'm doing the thing.\n"
     ]
    },
    {
     "name": "stderr",
     "output_type": "stream",
     "text": [
      "\r",
      " 87%|████████▋ | 588/678 [02:05<00:24,  3.74it/s]"
     ]
    },
    {
     "name": "stdout",
     "output_type": "stream",
     "text": [
      "I'm doing the thing.\n",
      "bone-penn-506\n",
      "I'm doing the thing.\n"
     ]
    },
    {
     "name": "stderr",
     "output_type": "stream",
     "text": [
      " 87%|████████▋ | 591/678 [02:05<00:14,  5.96it/s]"
     ]
    },
    {
     "name": "stdout",
     "output_type": "stream",
     "text": [
      "I'm doing the thing.\n",
      "bone-penn-509\n",
      "I'm doing the thing.\n",
      "I'm doing the thing.\n",
      "bone-penn-512\n",
      "I'm doing the thing.\n",
      "I'm doing the thing.\n",
      "bone-penn-514\n",
      "I'm doing the thing.\n"
     ]
    },
    {
     "name": "stderr",
     "output_type": "stream",
     "text": [
      "\r",
      " 87%|████████▋ | 592/678 [02:05<00:16,  5.32it/s]"
     ]
    },
    {
     "name": "stdout",
     "output_type": "stream",
     "text": [
      "I'm doing the thing.\n",
      "bone-penn-515\n",
      "I'm doing the thing.\n"
     ]
    },
    {
     "name": "stderr",
     "output_type": "stream",
     "text": [
      "\r",
      " 87%|████████▋ | 593/678 [02:06<00:19,  4.36it/s]"
     ]
    },
    {
     "name": "stdout",
     "output_type": "stream",
     "text": [
      "I'm doing the thing.\n",
      "bone-penn-516\n",
      "I'm doing the thing.\n"
     ]
    },
    {
     "name": "stderr",
     "output_type": "stream",
     "text": [
      "\r",
      " 88%|████████▊ | 594/678 [02:06<00:20,  4.09it/s]"
     ]
    },
    {
     "name": "stdout",
     "output_type": "stream",
     "text": [
      "I'm doing the thing.\n",
      "bone-penn-517\n",
      "I'm doing the thing.\n"
     ]
    },
    {
     "name": "stderr",
     "output_type": "stream",
     "text": [
      " 88%|████████▊ | 596/678 [02:07<00:18,  4.39it/s]"
     ]
    },
    {
     "name": "stdout",
     "output_type": "stream",
     "text": [
      "I'm doing the thing.\n",
      "bone-penn-518\n",
      "I'm doing the thing.\n",
      "I'm doing the thing.\n",
      "bone-penn-519\n",
      "I'm doing the thing.\n"
     ]
    },
    {
     "name": "stderr",
     "output_type": "stream",
     "text": [
      "\r",
      " 88%|████████▊ | 597/678 [02:07<00:16,  4.96it/s]"
     ]
    },
    {
     "name": "stdout",
     "output_type": "stream",
     "text": [
      "I'm doing the thing.\n",
      "bone-penn-521\n",
      "I'm doing the thing.\n"
     ]
    },
    {
     "name": "stderr",
     "output_type": "stream",
     "text": [
      "\r",
      " 88%|████████▊ | 598/678 [02:07<00:18,  4.33it/s]"
     ]
    },
    {
     "name": "stdout",
     "output_type": "stream",
     "text": [
      "I'm doing the thing.\n",
      "bone-penn-522\n",
      "I'm doing the thing.\n"
     ]
    },
    {
     "name": "stderr",
     "output_type": "stream",
     "text": [
      "\r",
      " 88%|████████▊ | 599/678 [02:07<00:17,  4.49it/s]"
     ]
    },
    {
     "name": "stdout",
     "output_type": "stream",
     "text": [
      "I'm doing the thing.\n",
      "bone-penn-524\n",
      "I'm doing the thing.\n"
     ]
    },
    {
     "name": "stderr",
     "output_type": "stream",
     "text": [
      " 89%|████████▊ | 601/678 [02:08<00:15,  5.03it/s]"
     ]
    },
    {
     "name": "stdout",
     "output_type": "stream",
     "text": [
      "I'm doing the thing.\n",
      "bone-penn-527\n",
      "I'm doing the thing.\n",
      "I'm doing the thing.\n",
      "bone-penn-528\n",
      "I'm doing the thing.\n",
      "I'm doing the thing.\n",
      "bone-penn-529\n",
      "I'm doing the thing.\n"
     ]
    },
    {
     "name": "stderr",
     "output_type": "stream",
     "text": [
      "\r",
      " 89%|████████▉ | 603/678 [02:08<00:14,  5.35it/s]"
     ]
    },
    {
     "name": "stdout",
     "output_type": "stream",
     "text": [
      "I'm doing the thing.\n",
      "bone-penn-530\n",
      "I'm doing the thing.\n",
      "I'm doing the thing.\n",
      "bone-penn-535\n",
      "I'm doing the thing.\n"
     ]
    },
    {
     "name": "stderr",
     "output_type": "stream",
     "text": [
      "\r",
      " 89%|████████▉ | 605/678 [02:08<00:13,  5.29it/s]"
     ]
    },
    {
     "name": "stdout",
     "output_type": "stream",
     "text": [
      "I'm doing the thing.\n",
      "bone-penn-536\n",
      "I'm doing the thing.\n"
     ]
    },
    {
     "name": "stderr",
     "output_type": "stream",
     "text": [
      "\r",
      " 89%|████████▉ | 606/678 [02:09<00:15,  4.74it/s]"
     ]
    },
    {
     "name": "stdout",
     "output_type": "stream",
     "text": [
      "I'm doing the thing.\n",
      "bone-penn-538\n",
      "I'm doing the thing.\n"
     ]
    },
    {
     "name": "stderr",
     "output_type": "stream",
     "text": [
      "\r",
      " 90%|████████▉ | 607/678 [02:09<00:18,  3.86it/s]"
     ]
    },
    {
     "name": "stdout",
     "output_type": "stream",
     "text": [
      "I'm doing the thing.\n",
      "bone-penn-541\n",
      "I'm doing the thing.\n",
      "I'm doing the thing.\n",
      "bone-penn-546\n",
      "I'm doing the thing.\n"
     ]
    },
    {
     "name": "stderr",
     "output_type": "stream",
     "text": [
      " 90%|████████▉ | 610/678 [02:10<00:15,  4.44it/s]"
     ]
    },
    {
     "name": "stdout",
     "output_type": "stream",
     "text": [
      "I'm doing the thing.\n",
      "bone-penn-548\n",
      "I'm doing the thing.\n",
      "I'm doing the thing.\n"
     ]
    },
    {
     "name": "stderr",
     "output_type": "stream",
     "text": [
      "\r",
      " 90%|█████████ | 612/678 [02:10<00:11,  5.96it/s]"
     ]
    },
    {
     "name": "stdout",
     "output_type": "stream",
     "text": [
      "bone-penn-549\n",
      "I'm doing the thing.\n",
      "I'm doing the thing.\n",
      "bone-penn-551\n",
      "I'm doing the thing.\n",
      "I'm doing the thing.\n",
      "bone-penn-554\n",
      "I'm doing the thing.\n"
     ]
    },
    {
     "name": "stderr",
     "output_type": "stream",
     "text": [
      "\r",
      " 90%|█████████ | 613/678 [02:10<00:11,  5.53it/s]"
     ]
    },
    {
     "name": "stdout",
     "output_type": "stream",
     "text": [
      "I'm doing the thing.\n",
      "bone-penn-555\n",
      "I'm doing the thing.\n"
     ]
    },
    {
     "name": "stderr",
     "output_type": "stream",
     "text": [
      "\r",
      " 91%|█████████ | 614/678 [02:10<00:12,  4.94it/s]"
     ]
    },
    {
     "name": "stdout",
     "output_type": "stream",
     "text": [
      "I'm doing the thing.\n",
      "bone-penn-556\n",
      "I'm doing the thing.\n"
     ]
    },
    {
     "name": "stderr",
     "output_type": "stream",
     "text": [
      " 91%|█████████ | 616/678 [02:11<00:12,  4.93it/s]"
     ]
    },
    {
     "name": "stdout",
     "output_type": "stream",
     "text": [
      "I'm doing the thing.\n",
      "bone-penn-561\n",
      "I'm doing the thing.\n",
      "I'm doing the thing.\n",
      "bone-penn-565\n",
      "I'm doing the thing.\n"
     ]
    },
    {
     "name": "stderr",
     "output_type": "stream",
     "text": [
      " 91%|█████████ | 618/678 [02:11<00:13,  4.61it/s]"
     ]
    },
    {
     "name": "stdout",
     "output_type": "stream",
     "text": [
      "I'm doing the thing.\n",
      "bone-penn-568\n",
      "I'm doing the thing.\n",
      "I'm doing the thing.\n",
      "bone-penn-571\n",
      "I'm doing the thing.\n"
     ]
    },
    {
     "name": "stderr",
     "output_type": "stream",
     "text": [
      "\r",
      " 91%|█████████▏| 619/678 [02:11<00:14,  4.17it/s]"
     ]
    },
    {
     "name": "stdout",
     "output_type": "stream",
     "text": [
      "I'm doing the thing.\n",
      "bone-penn-572\n",
      "I'm doing the thing.\n",
      "I'm doing the thing.\n",
      "bone-penn-575\n",
      "I'm doing the thing.\n"
     ]
    },
    {
     "name": "stderr",
     "output_type": "stream",
     "text": [
      "\r",
      " 92%|█████████▏| 621/678 [02:12<00:13,  4.38it/s]"
     ]
    },
    {
     "name": "stdout",
     "output_type": "stream",
     "text": [
      "I'm doing the thing.\n",
      "bone-penn-577\n",
      "I'm doing the thing.\n"
     ]
    },
    {
     "name": "stderr",
     "output_type": "stream",
     "text": [
      "\r",
      " 92%|█████████▏| 622/678 [02:12<00:15,  3.60it/s]"
     ]
    },
    {
     "name": "stdout",
     "output_type": "stream",
     "text": [
      "I'm doing the thing.\n",
      "bone-penn-578\n",
      "I'm doing the thing.\n"
     ]
    },
    {
     "name": "stderr",
     "output_type": "stream",
     "text": [
      " 92%|█████████▏| 626/678 [02:13<00:12,  4.06it/s]"
     ]
    },
    {
     "name": "stdout",
     "output_type": "stream",
     "text": [
      "I'm doing the thing.\n",
      "bone-penn-579\n",
      "I'm doing the thing.\n",
      "I'm doing the thing.\n",
      "bone-penn-582\n",
      "I'm doing the thing.\n",
      "I'm doing the thing.\n",
      "bone-penn-585\n",
      "I'm doing the thing.\n",
      "I'm doing the thing.\n",
      "bone-penn-586\n",
      "I'm doing the thing.\n",
      "I'm doing the thing.\n",
      "bone-penn-587\n",
      "I'm doing the thing.\n"
     ]
    },
    {
     "name": "stderr",
     "output_type": "stream",
     "text": [
      "\r",
      " 93%|█████████▎| 628/678 [02:14<00:10,  4.57it/s]"
     ]
    },
    {
     "name": "stdout",
     "output_type": "stream",
     "text": [
      "I'm doing the thing.\n",
      "bone-penn-588\n",
      "I'm doing the thing.\n"
     ]
    },
    {
     "name": "stderr",
     "output_type": "stream",
     "text": [
      "\r",
      " 93%|█████████▎| 629/678 [02:14<00:11,  4.27it/s]"
     ]
    },
    {
     "name": "stdout",
     "output_type": "stream",
     "text": [
      "I'm doing the thing.\n",
      "bone-penn-589\n",
      "I'm doing the thing.\n"
     ]
    },
    {
     "name": "stderr",
     "output_type": "stream",
     "text": [
      " 93%|█████████▎| 632/678 [02:14<00:08,  5.61it/s]"
     ]
    },
    {
     "name": "stdout",
     "output_type": "stream",
     "text": [
      "I'm doing the thing.\n",
      "bone-penn-592\n",
      "I'm doing the thing.\n",
      "I'm doing the thing.\n",
      "bone-penn-593\n",
      "I'm doing the thing.\n",
      "I'm doing the thing.\n",
      "bone-penn-596\n",
      "I'm doing the thing.\n",
      "I'm doing the thing.\n",
      "bone-penn-597\n",
      "I'm doing the thing.\n"
     ]
    },
    {
     "name": "stderr",
     "output_type": "stream",
     "text": [
      "\r",
      " 94%|█████████▎| 634/678 [02:16<00:16,  2.61it/s]"
     ]
    },
    {
     "name": "stdout",
     "output_type": "stream",
     "text": [
      "I'm doing the thing.\n",
      "bone-penn-598\n",
      "I'm doing the thing.\n"
     ]
    },
    {
     "name": "stderr",
     "output_type": "stream",
     "text": [
      " 94%|█████████▍| 636/678 [02:16<00:12,  3.29it/s]"
     ]
    },
    {
     "name": "stdout",
     "output_type": "stream",
     "text": [
      "I'm doing the thing.\n",
      "bone-penn-599\n",
      "I'm doing the thing.\n",
      "I'm doing the thing.\n",
      "bone-penn-600\n",
      "I'm doing the thing.\n"
     ]
    },
    {
     "name": "stderr",
     "output_type": "stream",
     "text": [
      "\r",
      " 94%|█████████▍| 637/678 [02:17<00:10,  3.75it/s]"
     ]
    },
    {
     "name": "stdout",
     "output_type": "stream",
     "text": [
      "I'm doing the thing.\n",
      "bone-penn-601\n",
      "I'm doing the thing.\n"
     ]
    },
    {
     "name": "stderr",
     "output_type": "stream",
     "text": [
      "\r",
      " 94%|█████████▍| 638/678 [02:17<00:17,  2.33it/s]"
     ]
    },
    {
     "name": "stdout",
     "output_type": "stream",
     "text": [
      "I'm doing the thing.\n",
      "bone-penn-602\n",
      "I'm doing the thing.\n"
     ]
    },
    {
     "name": "stderr",
     "output_type": "stream",
     "text": [
      "\r",
      " 94%|█████████▍| 639/678 [02:18<00:15,  2.47it/s]"
     ]
    },
    {
     "name": "stdout",
     "output_type": "stream",
     "text": [
      "I'm doing the thing.\n",
      "bone-penn-603\n",
      "I'm doing the thing.\n"
     ]
    },
    {
     "name": "stderr",
     "output_type": "stream",
     "text": [
      " 95%|█████████▍| 641/678 [02:18<00:11,  3.27it/s]"
     ]
    },
    {
     "name": "stdout",
     "output_type": "stream",
     "text": [
      "I'm doing the thing.\n",
      "bone-penn-605\n",
      "I'm doing the thing.\n",
      "I'm doing the thing.\n",
      "bone-penn-606\n",
      "I'm doing the thing.\n"
     ]
    },
    {
     "name": "stderr",
     "output_type": "stream",
     "text": [
      "\r",
      " 95%|█████████▍| 642/678 [02:18<00:09,  3.77it/s]"
     ]
    },
    {
     "name": "stdout",
     "output_type": "stream",
     "text": [
      "I'm doing the thing.\n",
      "bone-penn-609\n",
      "I'm doing the thing.\n"
     ]
    },
    {
     "name": "stderr",
     "output_type": "stream",
     "text": [
      "\r",
      " 95%|█████████▍| 643/678 [02:19<00:12,  2.83it/s]"
     ]
    },
    {
     "name": "stdout",
     "output_type": "stream",
     "text": [
      "I'm doing the thing.\n",
      "bone-penn-610\n",
      "I'm doing the thing.\n"
     ]
    },
    {
     "name": "stderr",
     "output_type": "stream",
     "text": [
      " 95%|█████████▌| 646/678 [02:19<00:06,  4.87it/s]"
     ]
    },
    {
     "name": "stdout",
     "output_type": "stream",
     "text": [
      "I'm doing the thing.\n",
      "bone-penn-611\n",
      "I'm doing the thing.\n",
      "I'm doing the thing.\n",
      "bone-penn-613\n",
      "I'm doing the thing.\n",
      "I'm doing the thing.\n",
      "bone-penn-614\n",
      "I'm doing the thing.\n"
     ]
    },
    {
     "name": "stderr",
     "output_type": "stream",
     "text": [
      "\r",
      " 95%|█████████▌| 647/678 [02:19<00:05,  5.29it/s]"
     ]
    },
    {
     "name": "stdout",
     "output_type": "stream",
     "text": [
      "I'm doing the thing.\n",
      "bone-penn-615\n",
      "I'm doing the thing.\n"
     ]
    },
    {
     "name": "stderr",
     "output_type": "stream",
     "text": [
      " 96%|█████████▌| 649/678 [02:20<00:06,  4.76it/s]"
     ]
    },
    {
     "name": "stdout",
     "output_type": "stream",
     "text": [
      "I'm doing the thing.\n",
      "bone-penn-616\n",
      "I'm doing the thing.\n",
      "I'm doing the thing.\n",
      "bone-penn-617\n",
      "I'm doing the thing.\n"
     ]
    },
    {
     "name": "stderr",
     "output_type": "stream",
     "text": [
      " 96%|█████████▌| 652/678 [02:21<00:05,  4.68it/s]"
     ]
    },
    {
     "name": "stdout",
     "output_type": "stream",
     "text": [
      "I'm doing the thing.\n",
      "bone-penn-619\n",
      "I'm doing the thing.\n",
      "I'm doing the thing.\n",
      "bone-penn-620\n",
      "I'm doing the thing.\n",
      "I'm doing the thing.\n",
      "bone-penn-621\n",
      "I'm doing the thing.\n"
     ]
    },
    {
     "name": "stderr",
     "output_type": "stream",
     "text": [
      "\r",
      " 96%|█████████▋| 653/678 [02:21<00:07,  3.41it/s]"
     ]
    },
    {
     "name": "stdout",
     "output_type": "stream",
     "text": [
      "I'm doing the thing.\n",
      "bone-penn-622\n",
      "I'm doing the thing.\n"
     ]
    },
    {
     "name": "stderr",
     "output_type": "stream",
     "text": [
      "\r",
      " 96%|█████████▋| 654/678 [02:21<00:06,  3.60it/s]"
     ]
    },
    {
     "name": "stdout",
     "output_type": "stream",
     "text": [
      "I'm doing the thing.\n",
      "bone-penn-623\n",
      "I'm doing the thing.\n",
      "I'm doing the thing.\n",
      "bone-penn-624\n",
      "I'm doing the thing.\n"
     ]
    },
    {
     "name": "stderr",
     "output_type": "stream",
     "text": [
      " 97%|█████████▋| 658/678 [02:22<00:03,  6.46it/s]"
     ]
    },
    {
     "name": "stdout",
     "output_type": "stream",
     "text": [
      "I'm doing the thing.\n",
      "bone-penn-625\n",
      "I'm doing the thing.\n",
      "I'm doing the thing.\n",
      "bone-penn-626\n",
      "I'm doing the thing.\n",
      "I'm doing the thing.\n",
      "bone-penn-627\n",
      "I'm doing the thing.\n"
     ]
    },
    {
     "name": "stderr",
     "output_type": "stream",
     "text": [
      " 97%|█████████▋| 660/678 [02:22<00:03,  4.84it/s]"
     ]
    },
    {
     "name": "stdout",
     "output_type": "stream",
     "text": [
      "I'm doing the thing.\n",
      "bone-penn-629\n",
      "I'm doing the thing.\n",
      "I'm doing the thing.\n",
      "bone-penn-630\n",
      "I'm doing the thing.\n"
     ]
    },
    {
     "name": "stderr",
     "output_type": "stream",
     "text": [
      " 98%|█████████▊| 662/678 [02:23<00:02,  6.08it/s]"
     ]
    },
    {
     "name": "stdout",
     "output_type": "stream",
     "text": [
      "I'm doing the thing.\n",
      "bone-penn-631\n",
      "I'm doing the thing.\n",
      "I'm doing the thing.\n",
      "bone-penn-632\n",
      "I'm doing the thing.\n"
     ]
    },
    {
     "name": "stderr",
     "output_type": "stream",
     "text": [
      " 98%|█████████▊| 665/678 [02:23<00:01,  8.82it/s]"
     ]
    },
    {
     "name": "stdout",
     "output_type": "stream",
     "text": [
      "I'm doing the thing.\n",
      "bone-penn-633\n",
      "I'm doing the thing.\n",
      "I'm doing the thing.\n",
      "bone-penn-634\n",
      "I'm doing the thing.\n",
      "I'm doing the thing.\n",
      "bone-penn-635\n",
      "I'm doing the thing.\n",
      "I'm doing the thing.\n",
      "bone-penn-636\n",
      "I'm doing the thing.\n"
     ]
    },
    {
     "name": "stderr",
     "output_type": "stream",
     "text": [
      " 99%|█████████▊| 668/678 [02:23<00:01,  7.39it/s]"
     ]
    },
    {
     "name": "stdout",
     "output_type": "stream",
     "text": [
      "I'm doing the thing.\n",
      "bone-penn-637\n",
      "I'm doing the thing.\n",
      "I'm doing the thing.\n",
      "bone-penn-639\n",
      "I'm doing the thing.\n"
     ]
    },
    {
     "name": "stderr",
     "output_type": "stream",
     "text": [
      " 99%|█████████▉| 671/678 [02:24<00:00,  7.69it/s]"
     ]
    },
    {
     "name": "stdout",
     "output_type": "stream",
     "text": [
      "I'm doing the thing.\n",
      "bone-penn-640\n",
      "I'm doing the thing.\n",
      "I'm doing the thing.\n",
      "bone-penn-641\n",
      "I'm doing the thing.\n",
      "I'm doing the thing.\n",
      "bone-penn-643\n",
      "I'm doing the thing.\n"
     ]
    },
    {
     "name": "stderr",
     "output_type": "stream",
     "text": [
      "\r",
      " 99%|█████████▉| 672/678 [02:24<00:01,  5.56it/s]"
     ]
    },
    {
     "name": "stdout",
     "output_type": "stream",
     "text": [
      "I'm doing the thing.\n",
      "bone-penn-648\n",
      "I'm doing the thing.\n",
      "I'm doing the thing.\n",
      "bone-penn-650\n",
      "I'm doing the thing.\n"
     ]
    },
    {
     "name": "stderr",
     "output_type": "stream",
     "text": [
      "100%|█████████▉| 675/678 [02:25<00:00,  6.16it/s]"
     ]
    },
    {
     "name": "stdout",
     "output_type": "stream",
     "text": [
      "I'm doing the thing.\n",
      "bone-penn-651\n",
      "I'm doing the thing.\n",
      "I'm doing the thing.\n",
      "bone-penn-652\n",
      "I'm doing the thing.\n"
     ]
    },
    {
     "name": "stderr",
     "output_type": "stream",
     "text": [
      "100%|█████████▉| 677/678 [02:25<00:00,  6.28it/s]"
     ]
    },
    {
     "name": "stdout",
     "output_type": "stream",
     "text": [
      "I'm doing the thing.\n",
      "bone-penn-653\n",
      "I'm doing the thing.\n",
      "I'm doing the thing.\n",
      "bone-penn-654\n",
      "I'm doing the thing.\n"
     ]
    },
    {
     "name": "stderr",
     "output_type": "stream",
     "text": [
      "100%|██████████| 678/678 [02:25<00:00,  4.66it/s]\n",
      "  0%|          | 0/191 [00:00<?, ?it/s]"
     ]
    },
    {
     "name": "stdout",
     "output_type": "stream",
     "text": [
      "I'm doing the thing.\n",
      "bone-brown-10\n",
      "I'm doing the thing.\n",
      "I'm doing the thing.\n",
      "bone-brown-102\n",
      "I'm doing the thing.\n"
     ]
    },
    {
     "name": "stderr",
     "output_type": "stream",
     "text": [
      "\r",
      "  1%|          | 2/191 [00:00<00:29,  6.45it/s]"
     ]
    },
    {
     "name": "stdout",
     "output_type": "stream",
     "text": [
      "I'm doing the thing.\n",
      "bone-brown-105\n",
      "I'm doing the thing.\n"
     ]
    },
    {
     "name": "stderr",
     "output_type": "stream",
     "text": [
      "\r",
      "  2%|▏         | 3/191 [00:00<01:01,  3.07it/s]"
     ]
    },
    {
     "name": "stdout",
     "output_type": "stream",
     "text": [
      "I'm doing the thing.\n",
      "bone-brown-108\n",
      "I'm doing the thing.\n"
     ]
    },
    {
     "name": "stderr",
     "output_type": "stream",
     "text": [
      "\r",
      "  2%|▏         | 4/191 [00:01<01:15,  2.47it/s]"
     ]
    },
    {
     "name": "stdout",
     "output_type": "stream",
     "text": [
      "I'm doing the thing.\n",
      "bone-brown-109\n",
      "I'm doing the thing.\n"
     ]
    },
    {
     "name": "stderr",
     "output_type": "stream",
     "text": [
      "  3%|▎         | 6/191 [00:01<00:56,  3.29it/s]"
     ]
    },
    {
     "name": "stdout",
     "output_type": "stream",
     "text": [
      "I'm doing the thing.\n",
      "bone-brown-111\n",
      "I'm doing the thing.\n",
      "I'm doing the thing.\n",
      "bone-brown-12\n",
      "I'm doing the thing.\n"
     ]
    },
    {
     "name": "stderr",
     "output_type": "stream",
     "text": [
      "\r",
      "  4%|▎         | 7/191 [00:02<00:58,  3.16it/s]"
     ]
    },
    {
     "name": "stdout",
     "output_type": "stream",
     "text": [
      "I'm doing the thing.\n",
      "bone-brown-122\n",
      "I'm doing the thing.\n"
     ]
    },
    {
     "name": "stderr",
     "output_type": "stream",
     "text": [
      "\r",
      "  4%|▍         | 8/191 [00:02<00:58,  3.15it/s]"
     ]
    },
    {
     "name": "stdout",
     "output_type": "stream",
     "text": [
      "I'm doing the thing.\n",
      "bone-brown-28\n",
      "I'm doing the thing.\n"
     ]
    },
    {
     "name": "stderr",
     "output_type": "stream",
     "text": [
      "\r",
      "  5%|▍         | 9/191 [00:02<01:01,  2.95it/s]"
     ]
    },
    {
     "name": "stdout",
     "output_type": "stream",
     "text": [
      "I'm doing the thing.\n",
      "bone-brown-33\n",
      "I'm doing the thing.\n"
     ]
    },
    {
     "name": "stderr",
     "output_type": "stream",
     "text": [
      "\r",
      "  5%|▌         | 10/191 [00:03<01:02,  2.91it/s]"
     ]
    },
    {
     "name": "stdout",
     "output_type": "stream",
     "text": [
      "I'm doing the thing.\n",
      "bone-brown-36\n",
      "I'm doing the thing.\n"
     ]
    },
    {
     "name": "stderr",
     "output_type": "stream",
     "text": [
      "  6%|▋         | 12/191 [00:03<00:53,  3.35it/s]"
     ]
    },
    {
     "name": "stdout",
     "output_type": "stream",
     "text": [
      "I'm doing the thing.\n",
      "bone-brown-4\n",
      "I'm doing the thing.\n",
      "I'm doing the thing.\n",
      "bone-brown-40\n",
      "I'm doing the thing.\n"
     ]
    },
    {
     "name": "stderr",
     "output_type": "stream",
     "text": [
      "\r",
      "  7%|▋         | 13/191 [00:04<01:24,  2.10it/s]"
     ]
    },
    {
     "name": "stdout",
     "output_type": "stream",
     "text": [
      "I'm doing the thing.\n",
      "bone-brown-47\n",
      "I'm doing the thing.\n"
     ]
    },
    {
     "name": "stderr",
     "output_type": "stream",
     "text": [
      "  8%|▊         | 15/191 [00:05<00:55,  3.16it/s]"
     ]
    },
    {
     "name": "stdout",
     "output_type": "stream",
     "text": [
      "I'm doing the thing.\n",
      "bone-brown-48\n",
      "I'm doing the thing.\n",
      "I'm doing the thing.\n",
      "bone-brown-49\n",
      "I'm doing the thing.\n"
     ]
    },
    {
     "name": "stderr",
     "output_type": "stream",
     "text": [
      "\r",
      "  8%|▊         | 16/191 [00:05<01:06,  2.62it/s]"
     ]
    },
    {
     "name": "stdout",
     "output_type": "stream",
     "text": [
      "I'm doing the thing.\n",
      "bone-brown-5\n",
      "I'm doing the thing.\n"
     ]
    },
    {
     "name": "stderr",
     "output_type": "stream",
     "text": [
      "  9%|▉         | 18/191 [00:06<00:49,  3.52it/s]"
     ]
    },
    {
     "name": "stdout",
     "output_type": "stream",
     "text": [
      "I'm doing the thing.\n",
      "bone-brown-57\n",
      "I'm doing the thing.\n",
      "I'm doing the thing.\n",
      "bone-brown-61\n",
      "I'm doing the thing.\n"
     ]
    },
    {
     "name": "stderr",
     "output_type": "stream",
     "text": [
      " 10%|█         | 20/191 [00:06<00:34,  4.90it/s]"
     ]
    },
    {
     "name": "stdout",
     "output_type": "stream",
     "text": [
      "I'm doing the thing.\n",
      "bone-brown-66\n",
      "I'm doing the thing.\n",
      "I'm doing the thing.\n",
      "bone-brown-67\n",
      "I'm doing the thing.\n"
     ]
    },
    {
     "name": "stderr",
     "output_type": "stream",
     "text": [
      " 12%|█▏        | 22/191 [00:07<00:58,  2.90it/s]"
     ]
    },
    {
     "name": "stdout",
     "output_type": "stream",
     "text": [
      "I'm doing the thing.\n",
      "bone-brown-69\n",
      "I'm doing the thing.\n",
      "I'm doing the thing.\n",
      "bone-brown-7\n",
      "I'm doing the thing.\n",
      "I'm doing the thing.\n",
      "bone-brown-71\n",
      "I'm doing the thing.\n"
     ]
    },
    {
     "name": "stderr",
     "output_type": "stream",
     "text": [
      " 13%|█▎        | 25/191 [00:07<00:41,  4.02it/s]"
     ]
    },
    {
     "name": "stdout",
     "output_type": "stream",
     "text": [
      "I'm doing the thing.\n",
      "bone-brown-79\n",
      "I'm doing the thing.\n",
      "I'm doing the thing.\n",
      "bone-brown-80\n",
      "I'm doing the thing.\n"
     ]
    },
    {
     "name": "stderr",
     "output_type": "stream",
     "text": [
      "\r",
      " 14%|█▎        | 26/191 [00:08<00:39,  4.13it/s]"
     ]
    },
    {
     "name": "stdout",
     "output_type": "stream",
     "text": [
      "I'm doing the thing.\n",
      "bone-brown-87\n",
      "I'm doing the thing.\n"
     ]
    },
    {
     "name": "stderr",
     "output_type": "stream",
     "text": [
      "\r",
      " 14%|█▍        | 27/191 [00:08<00:41,  3.91it/s]"
     ]
    },
    {
     "name": "stdout",
     "output_type": "stream",
     "text": [
      "I'm doing the thing.\n",
      "bone-brown-9\n",
      "I'm doing the thing.\n"
     ]
    },
    {
     "name": "stderr",
     "output_type": "stream",
     "text": [
      " 15%|█▌        | 29/191 [00:08<00:33,  4.80it/s]"
     ]
    },
    {
     "name": "stdout",
     "output_type": "stream",
     "text": [
      "I'm doing the thing.\n",
      "bone-brown-98\n",
      "I'm doing the thing.\n",
      "I'm doing the thing.\n",
      "bone-china-001\n",
      "I'm doing the thing.\n",
      "I'm doing the thing.\n",
      "bone-china-003\n",
      "I'm doing the thing.\n"
     ]
    },
    {
     "name": "stderr",
     "output_type": "stream",
     "text": [
      " 17%|█▋        | 33/191 [00:09<00:18,  8.32it/s]"
     ]
    },
    {
     "name": "stdout",
     "output_type": "stream",
     "text": [
      "I'm doing the thing.\n",
      "bone-china-016\n",
      "I'm doing the thing.\n",
      "I'm doing the thing.\n",
      "bone-china-017\n",
      "I'm doing the thing.\n",
      "I'm doing the thing.\n",
      "bone-china-025\n",
      "I'm doing the thing.\n"
     ]
    },
    {
     "name": "stderr",
     "output_type": "stream",
     "text": [
      "\r",
      " 18%|█▊        | 35/191 [00:09<00:15,  9.96it/s]"
     ]
    },
    {
     "name": "stdout",
     "output_type": "stream",
     "text": [
      "I'm doing the thing.\n",
      "bone-china-026\n",
      "I'm doing the thing.\n",
      "I'm doing the thing.\n",
      "bone-china-030\n",
      "I'm doing the thing.\n",
      "I'm doing the thing.\n",
      "bone-china-034\n",
      "I'm doing the thing.\n"
     ]
    },
    {
     "name": "stderr",
     "output_type": "stream",
     "text": [
      " 21%|██        | 40/191 [00:09<00:11, 13.71it/s]"
     ]
    },
    {
     "name": "stdout",
     "output_type": "stream",
     "text": [
      "I'm doing the thing.\n",
      "bone-china-036\n",
      "I'm doing the thing.\n",
      "I'm doing the thing.\n",
      "bone-china-040\n",
      "I'm doing the thing.\n",
      "I'm doing the thing.\n",
      "bone-china-043\n",
      "I'm doing the thing.\n",
      "I'm doing the thing.\n",
      "bone-china-049\n",
      "I'm doing the thing.\n"
     ]
    },
    {
     "name": "stderr",
     "output_type": "stream",
     "text": [
      " 23%|██▎       | 44/191 [00:09<00:10, 13.84it/s]"
     ]
    },
    {
     "name": "stdout",
     "output_type": "stream",
     "text": [
      "I'm doing the thing.\n",
      "bone-china-054\n",
      "I'm doing the thing.\n",
      "I'm doing the thing.\n",
      "bone-china-057\n",
      "I'm doing the thing.\n",
      "I'm doing the thing.\n",
      "bone-china-077\n",
      "I'm doing the thing.\n",
      "I'm doing the thing.\n",
      "bone-china-078\n",
      "I'm doing the thing.\n"
     ]
    },
    {
     "name": "stderr",
     "output_type": "stream",
     "text": [
      "\r",
      " 24%|██▍       | 46/191 [00:09<00:10, 13.57it/s]"
     ]
    },
    {
     "name": "stdout",
     "output_type": "stream",
     "text": [
      "I'm doing the thing.\n",
      "bone-china-091\n",
      "I'm doing the thing.\n",
      "I'm doing the thing.\n",
      "bone-china-112\n",
      "I'm doing the thing.\n",
      "I'm doing the thing.\n",
      "bone-china-119\n",
      "I'm doing the thing.\n"
     ]
    },
    {
     "name": "stderr",
     "output_type": "stream",
     "text": [
      "\r",
      " 25%|██▌       | 48/191 [00:10<00:11, 12.53it/s]"
     ]
    },
    {
     "name": "stdout",
     "output_type": "stream",
     "text": [
      "I'm doing the thing.\n",
      "bone-china-120\n",
      "I'm doing the thing.\n",
      "I'm doing the thing.\n",
      "bone-china-128\n",
      "I'm doing the thing.\n"
     ]
    },
    {
     "name": "stderr",
     "output_type": "stream",
     "text": [
      " 27%|██▋       | 52/191 [00:10<00:11, 12.53it/s]"
     ]
    },
    {
     "name": "stdout",
     "output_type": "stream",
     "text": [
      "I'm doing the thing.\n",
      "bone-china-129\n",
      "I'm doing the thing.\n",
      "I'm doing the thing.\n",
      "bone-china-141\n",
      "I'm doing the thing.\n",
      "I'm doing the thing.\n",
      "bone-china-147\n",
      "I'm doing the thing.\n",
      "I'm doing the thing.\n",
      "bone-china-151\n",
      "I'm doing the thing.\n"
     ]
    },
    {
     "name": "stderr",
     "output_type": "stream",
     "text": [
      " 29%|██▉       | 56/191 [00:10<00:10, 13.11it/s]"
     ]
    },
    {
     "name": "stdout",
     "output_type": "stream",
     "text": [
      "I'm doing the thing.\n",
      "bone-china-155\n",
      "I'm doing the thing.\n",
      "I'm doing the thing.\n",
      "bone-china-162\n",
      "I'm doing the thing.\n",
      "I'm doing the thing.\n",
      "bone-china-163\n",
      "I'm doing the thing.\n"
     ]
    },
    {
     "name": "stderr",
     "output_type": "stream",
     "text": [
      "\r",
      " 30%|███       | 58/191 [00:10<00:09, 13.67it/s]"
     ]
    },
    {
     "name": "stdout",
     "output_type": "stream",
     "text": [
      "I'm doing the thing.\n",
      "bone-china-165\n",
      "I'm doing the thing.\n",
      "I'm doing the thing.\n",
      "bone-china-168\n",
      "I'm doing the thing.\n",
      "I'm doing the thing.\n",
      "bone-china-173\n",
      "I'm doing the thing.\n"
     ]
    },
    {
     "name": "stderr",
     "output_type": "stream",
     "text": [
      " 32%|███▏      | 62/191 [00:11<00:09, 13.43it/s]"
     ]
    },
    {
     "name": "stdout",
     "output_type": "stream",
     "text": [
      "I'm doing the thing.\n",
      "bone-china-179\n",
      "I'm doing the thing.\n",
      "I'm doing the thing.\n",
      "bone-china-195\n",
      "I'm doing the thing.\n",
      "I'm doing the thing.\n",
      "bone-china-201\n",
      "I'm doing the thing.\n"
     ]
    },
    {
     "name": "stderr",
     "output_type": "stream",
     "text": [
      "\r",
      " 34%|███▎      | 64/191 [00:11<00:10, 12.18it/s]"
     ]
    },
    {
     "name": "stdout",
     "output_type": "stream",
     "text": [
      "I'm doing the thing.\n",
      "bone-china-204\n",
      "I'm doing the thing.\n",
      "I'm doing the thing.\n",
      "bone-china-206\n",
      "I'm doing the thing.\n",
      "I'm doing the thing.\n",
      "bone-china-210\n",
      "I'm doing the thing.\n"
     ]
    },
    {
     "name": "stderr",
     "output_type": "stream",
     "text": [
      " 36%|███▌      | 68/191 [00:11<00:10, 12.26it/s]"
     ]
    },
    {
     "name": "stdout",
     "output_type": "stream",
     "text": [
      "I'm doing the thing.\n",
      "bone-china-211\n",
      "I'm doing the thing.\n",
      "I'm doing the thing.\n",
      "bone-china-226\n",
      "I'm doing the thing.\n",
      "I'm doing the thing.\n",
      "bone-hup-129\n",
      "I'm doing the thing.\n"
     ]
    },
    {
     "name": "stderr",
     "output_type": "stream",
     "text": [
      "\r",
      " 37%|███▋      | 70/191 [00:12<00:17,  6.92it/s]"
     ]
    },
    {
     "name": "stdout",
     "output_type": "stream",
     "text": [
      "I'm doing the thing.\n",
      "bone-hup-144\n",
      "I'm doing the thing.\n",
      "I'm doing the thing.\n",
      "bone-hup-145\n",
      "I'm doing the thing.\n"
     ]
    },
    {
     "name": "stderr",
     "output_type": "stream",
     "text": [
      "\r",
      " 37%|███▋      | 71/191 [00:12<00:17,  6.95it/s]"
     ]
    },
    {
     "name": "stdout",
     "output_type": "stream",
     "text": [
      "I'm doing the thing.\n",
      "bone-hup-147\n",
      "I'm doing the thing.\n"
     ]
    },
    {
     "name": "stderr",
     "output_type": "stream",
     "text": [
      "\r",
      " 38%|███▊      | 72/191 [00:12<00:25,  4.74it/s]"
     ]
    },
    {
     "name": "stdout",
     "output_type": "stream",
     "text": [
      "I'm doing the thing.\n",
      "bone-hup-153\n",
      "I'm doing the thing.\n",
      "I'm doing the thing.\n",
      "bone-hup-157\n",
      "I'm doing the thing.\n"
     ]
    },
    {
     "name": "stderr",
     "output_type": "stream",
     "text": [
      " 39%|███▉      | 75/191 [00:13<00:27,  4.23it/s]"
     ]
    },
    {
     "name": "stdout",
     "output_type": "stream",
     "text": [
      "I'm doing the thing.\n",
      "bone-hup-166\n",
      "I'm doing the thing.\n",
      "I'm doing the thing.\n",
      "bone-hup-170\n",
      "I'm doing the thing.\n",
      "I'm doing the thing.\n",
      "bone-hup-176\n",
      "I'm doing the thing.\n"
     ]
    },
    {
     "name": "stderr",
     "output_type": "stream",
     "text": [
      " 41%|████▏     | 79/191 [00:14<00:16,  6.95it/s]"
     ]
    },
    {
     "name": "stdout",
     "output_type": "stream",
     "text": [
      "I'm doing the thing.\n",
      "bone-hup-183\n",
      "I'm doing the thing.\n",
      "I'm doing the thing.\n",
      "bone-hup-192\n",
      "I'm doing the thing.\n",
      "I'm doing the thing.\n",
      "bone-hup-196\n",
      "I'm doing the thing.\n"
     ]
    },
    {
     "name": "stderr",
     "output_type": "stream",
     "text": [
      "\r",
      " 42%|████▏     | 81/191 [00:14<00:12,  8.64it/s]"
     ]
    },
    {
     "name": "stdout",
     "output_type": "stream",
     "text": [
      "I'm doing the thing.\n",
      "bone-hup-204\n",
      "I'm doing the thing.\n",
      "I'm doing the thing.\n",
      "bone-hup-205\n",
      "I'm doing the thing.\n",
      "I'm doing the thing.\n",
      "bone-hup-216\n",
      "I'm doing the thing.\n"
     ]
    },
    {
     "name": "stderr",
     "output_type": "stream",
     "text": [
      "\r",
      " 43%|████▎     | 83/191 [00:14<00:17,  6.20it/s]"
     ]
    },
    {
     "name": "stdout",
     "output_type": "stream",
     "text": [
      "I'm doing the thing.\n",
      "bone-hup-222\n",
      "I'm doing the thing.\n",
      "I'm doing the thing.\n",
      "bone-hup-246\n",
      "I'm doing the thing.\n"
     ]
    },
    {
     "name": "stderr",
     "output_type": "stream",
     "text": [
      " 45%|████▌     | 86/191 [00:15<00:16,  6.55it/s]"
     ]
    },
    {
     "name": "stdout",
     "output_type": "stream",
     "text": [
      "I'm doing the thing.\n",
      "bone-hup-292\n",
      "I'm doing the thing.\n",
      "I'm doing the thing.\n",
      "bone-hup-295\n",
      "I'm doing the thing.\n"
     ]
    },
    {
     "name": "stderr",
     "output_type": "stream",
     "text": [
      " 46%|████▌     | 88/191 [00:15<00:20,  4.97it/s]"
     ]
    },
    {
     "name": "stdout",
     "output_type": "stream",
     "text": [
      "I'm doing the thing.\n",
      "bone-hup-301\n",
      "I'm doing the thing.\n",
      "I'm doing the thing.\n",
      "bone-hup-303\n",
      "I'm doing the thing.\n"
     ]
    },
    {
     "name": "stderr",
     "output_type": "stream",
     "text": [
      " 47%|████▋     | 90/191 [00:16<00:26,  3.86it/s]"
     ]
    },
    {
     "name": "stdout",
     "output_type": "stream",
     "text": [
      "I'm doing the thing.\n",
      "bone-hup-307\n",
      "I'm doing the thing.\n",
      "I'm doing the thing.\n",
      "bone-hup-315\n",
      "I'm doing the thing.\n"
     ]
    },
    {
     "name": "stderr",
     "output_type": "stream",
     "text": [
      "\r",
      " 48%|████▊     | 91/191 [00:16<00:22,  4.45it/s]"
     ]
    },
    {
     "name": "stdout",
     "output_type": "stream",
     "text": [
      "I'm doing the thing.\n",
      "bone-hup-320\n",
      "I'm doing the thing.\n"
     ]
    },
    {
     "name": "stderr",
     "output_type": "stream",
     "text": [
      "\r",
      " 48%|████▊     | 92/191 [00:17<00:36,  2.69it/s]"
     ]
    },
    {
     "name": "stdout",
     "output_type": "stream",
     "text": [
      "I'm doing the thing.\n",
      "bone-hup-322\n",
      "I'm doing the thing.\n"
     ]
    },
    {
     "name": "stderr",
     "output_type": "stream",
     "text": [
      " 49%|████▉     | 94/191 [00:17<00:26,  3.66it/s]"
     ]
    },
    {
     "name": "stdout",
     "output_type": "stream",
     "text": [
      "I'm doing the thing.\n",
      "bone-hup-327\n",
      "I'm doing the thing.\n",
      "I'm doing the thing.\n",
      "bone-hup-329\n",
      "I'm doing the thing.\n"
     ]
    },
    {
     "name": "stderr",
     "output_type": "stream",
     "text": [
      " 50%|█████     | 96/191 [00:18<00:24,  3.91it/s]"
     ]
    },
    {
     "name": "stdout",
     "output_type": "stream",
     "text": [
      "I'm doing the thing.\n",
      "bone-hup-48\n",
      "I'm doing the thing.\n",
      "I'm doing the thing.\n",
      "bone-hup-54\n",
      "I'm doing the thing.\n"
     ]
    },
    {
     "name": "stderr",
     "output_type": "stream",
     "text": [
      "\r",
      " 51%|█████     | 97/191 [00:18<00:20,  4.69it/s]"
     ]
    },
    {
     "name": "stdout",
     "output_type": "stream",
     "text": [
      "I'm doing the thing.\n",
      "bone-hup-72\n",
      "I'm doing the thing.\n"
     ]
    },
    {
     "name": "stderr",
     "output_type": "stream",
     "text": [
      " 52%|█████▏    | 100/191 [00:18<00:13,  6.77it/s]"
     ]
    },
    {
     "name": "stdout",
     "output_type": "stream",
     "text": [
      "I'm doing the thing.\n",
      "bone-hup-73\n",
      "I'm doing the thing.\n",
      "I'm doing the thing.\n",
      "bone-hup-77\n",
      "I'm doing the thing.\n",
      "I'm doing the thing.\n",
      "bone-hup-89\n",
      "I'm doing the thing.\n"
     ]
    },
    {
     "name": "stderr",
     "output_type": "stream",
     "text": [
      " 53%|█████▎    | 102/191 [00:19<00:15,  5.89it/s]"
     ]
    },
    {
     "name": "stdout",
     "output_type": "stream",
     "text": [
      "I'm doing the thing.\n",
      "bone-penn-002\n",
      "I'm doing the thing.\n",
      "I'm doing the thing.\n",
      "bone-penn-004\n",
      "I'm doing the thing.\n"
     ]
    },
    {
     "name": "stderr",
     "output_type": "stream",
     "text": [
      "\r",
      " 54%|█████▍    | 103/191 [00:19<00:15,  5.67it/s]"
     ]
    },
    {
     "name": "stdout",
     "output_type": "stream",
     "text": [
      "I'm doing the thing.\n",
      "bone-penn-010\n",
      "I'm doing the thing.\n"
     ]
    },
    {
     "name": "stderr",
     "output_type": "stream",
     "text": [
      "\r",
      " 54%|█████▍    | 104/191 [00:19<00:16,  5.40it/s]"
     ]
    },
    {
     "name": "stdout",
     "output_type": "stream",
     "text": [
      "I'm doing the thing.\n",
      "bone-penn-013\n",
      "I'm doing the thing.\n"
     ]
    },
    {
     "name": "stderr",
     "output_type": "stream",
     "text": [
      " 55%|█████▌    | 106/191 [00:20<00:18,  4.55it/s]"
     ]
    },
    {
     "name": "stdout",
     "output_type": "stream",
     "text": [
      "I'm doing the thing.\n",
      "bone-penn-017\n",
      "I'm doing the thing.\n",
      "I'm doing the thing.\n",
      "bone-penn-026\n",
      "I'm doing the thing.\n"
     ]
    },
    {
     "name": "stderr",
     "output_type": "stream",
     "text": [
      " 57%|█████▋    | 108/191 [00:20<00:14,  5.86it/s]"
     ]
    },
    {
     "name": "stdout",
     "output_type": "stream",
     "text": [
      "I'm doing the thing.\n",
      "bone-penn-028\n",
      "I'm doing the thing.\n",
      "I'm doing the thing.\n",
      "bone-penn-031\n",
      "I'm doing the thing.\n",
      "I'm doing the thing.\n",
      "bone-penn-032\n",
      "I'm doing the thing.\n"
     ]
    },
    {
     "name": "stderr",
     "output_type": "stream",
     "text": [
      "\r",
      " 58%|█████▊    | 110/191 [00:20<00:13,  6.06it/s]"
     ]
    },
    {
     "name": "stdout",
     "output_type": "stream",
     "text": [
      "I'm doing the thing.\n",
      "bone-penn-035\n",
      "I'm doing the thing.\n",
      "I'm doing the thing.\n",
      "bone-penn-041\n",
      "I'm doing the thing.\n"
     ]
    },
    {
     "name": "stderr",
     "output_type": "stream",
     "text": [
      "\r",
      " 59%|█████▊    | 112/191 [00:21<00:14,  5.48it/s]"
     ]
    },
    {
     "name": "stdout",
     "output_type": "stream",
     "text": [
      "I'm doing the thing.\n",
      "bone-penn-044\n",
      "I'm doing the thing.\n"
     ]
    },
    {
     "name": "stderr",
     "output_type": "stream",
     "text": [
      " 60%|█████▉    | 114/191 [00:21<00:17,  4.47it/s]"
     ]
    },
    {
     "name": "stdout",
     "output_type": "stream",
     "text": [
      "I'm doing the thing.\n",
      "bone-penn-055\n",
      "I'm doing the thing.\n",
      "I'm doing the thing.\n",
      "bone-penn-059\n",
      "I'm doing the thing.\n"
     ]
    },
    {
     "name": "stderr",
     "output_type": "stream",
     "text": [
      " 61%|██████    | 116/191 [00:22<00:14,  5.13it/s]"
     ]
    },
    {
     "name": "stdout",
     "output_type": "stream",
     "text": [
      "I'm doing the thing.\n",
      "bone-penn-061\n",
      "I'm doing the thing.\n",
      "I'm doing the thing.\n",
      "bone-penn-063\n",
      "I'm doing the thing.\n"
     ]
    },
    {
     "name": "stderr",
     "output_type": "stream",
     "text": [
      "\r",
      " 61%|██████▏   | 117/191 [00:22<00:12,  5.78it/s]"
     ]
    },
    {
     "name": "stdout",
     "output_type": "stream",
     "text": [
      "I'm doing the thing.\n",
      "bone-penn-065\n",
      "I'm doing the thing.\n"
     ]
    },
    {
     "name": "stderr",
     "output_type": "stream",
     "text": [
      "\r",
      " 62%|██████▏   | 118/191 [00:22<00:26,  2.79it/s]"
     ]
    },
    {
     "name": "stdout",
     "output_type": "stream",
     "text": [
      "I'm doing the thing.\n",
      "bone-penn-067\n",
      "I'm doing the thing.\n",
      "I'm doing the thing.\n",
      "bone-penn-087\n",
      "I'm doing the thing.\n"
     ]
    },
    {
     "name": "stderr",
     "output_type": "stream",
     "text": [
      "\r",
      " 63%|██████▎   | 120/191 [00:23<00:19,  3.67it/s]"
     ]
    },
    {
     "name": "stdout",
     "output_type": "stream",
     "text": [
      "I'm doing the thing.\n",
      "bone-penn-096\n",
      "I'm doing the thing.\n"
     ]
    },
    {
     "name": "stderr",
     "output_type": "stream",
     "text": [
      " 64%|██████▍   | 122/191 [00:23<00:18,  3.76it/s]"
     ]
    },
    {
     "name": "stdout",
     "output_type": "stream",
     "text": [
      "I'm doing the thing.\n",
      "bone-penn-101\n",
      "I'm doing the thing.\n",
      "I'm doing the thing.\n",
      "bone-penn-104\n",
      "I'm doing the thing.\n",
      "I'm doing the thing.\n",
      "bone-penn-108\n",
      "I'm doing the thing.\n"
     ]
    },
    {
     "name": "stderr",
     "output_type": "stream",
     "text": [
      "\r",
      " 65%|██████▍   | 124/191 [00:24<00:17,  3.83it/s]"
     ]
    },
    {
     "name": "stdout",
     "output_type": "stream",
     "text": [
      "I'm doing the thing.\n",
      "bone-penn-115\n",
      "I'm doing the thing.\n",
      "I'm doing the thing.\n",
      "bone-penn-124\n",
      "I'm doing the thing.\n"
     ]
    },
    {
     "name": "stderr",
     "output_type": "stream",
     "text": [
      "\r",
      " 66%|██████▌   | 126/191 [00:25<00:18,  3.49it/s]"
     ]
    },
    {
     "name": "stdout",
     "output_type": "stream",
     "text": [
      "I'm doing the thing.\n",
      "bone-penn-132\n",
      "I'm doing the thing.\n"
     ]
    },
    {
     "name": "stderr",
     "output_type": "stream",
     "text": [
      "\r",
      " 66%|██████▋   | 127/191 [00:25<00:20,  3.05it/s]"
     ]
    },
    {
     "name": "stdout",
     "output_type": "stream",
     "text": [
      "I'm doing the thing.\n",
      "bone-penn-143\n",
      "I'm doing the thing.\n",
      "I'm doing the thing.\n"
     ]
    },
    {
     "name": "stderr",
     "output_type": "stream",
     "text": [
      "\r",
      " 67%|██████▋   | 128/191 [00:25<00:18,  3.35it/s]"
     ]
    },
    {
     "name": "stdout",
     "output_type": "stream",
     "text": [
      "bone-penn-145\n",
      "I'm doing the thing.\n"
     ]
    },
    {
     "name": "stderr",
     "output_type": "stream",
     "text": [
      "\r",
      " 68%|██████▊   | 129/191 [00:26<00:21,  2.86it/s]"
     ]
    },
    {
     "name": "stdout",
     "output_type": "stream",
     "text": [
      "I'm doing the thing.\n",
      "bone-penn-151\n",
      "I'm doing the thing.\n"
     ]
    },
    {
     "name": "stderr",
     "output_type": "stream",
     "text": [
      " 69%|██████▊   | 131/191 [00:26<00:21,  2.86it/s]"
     ]
    },
    {
     "name": "stdout",
     "output_type": "stream",
     "text": [
      "I'm doing the thing.\n",
      "bone-penn-159\n",
      "I'm doing the thing.\n",
      "I'm doing the thing.\n",
      "bone-penn-165\n",
      "I'm doing the thing.\n"
     ]
    },
    {
     "name": "stderr",
     "output_type": "stream",
     "text": [
      "\r",
      " 70%|██████▉   | 133/191 [00:27<00:13,  4.23it/s]"
     ]
    },
    {
     "name": "stdout",
     "output_type": "stream",
     "text": [
      "I'm doing the thing.\n",
      "bone-penn-166\n",
      "I'm doing the thing.\n",
      "I'm doing the thing.\n",
      "bone-penn-169\n",
      "I'm doing the thing.\n"
     ]
    },
    {
     "name": "stderr",
     "output_type": "stream",
     "text": [
      "\r",
      " 70%|███████   | 134/191 [00:27<00:14,  3.98it/s]"
     ]
    },
    {
     "name": "stdout",
     "output_type": "stream",
     "text": [
      "I'm doing the thing.\n",
      "bone-penn-176\n",
      "I'm doing the thing.\n",
      "I'm doing the thing.\n",
      "bone-penn-182\n",
      "I'm doing the thing.\n"
     ]
    },
    {
     "name": "stderr",
     "output_type": "stream",
     "text": [
      "\r",
      " 71%|███████   | 136/191 [00:27<00:12,  4.49it/s]"
     ]
    },
    {
     "name": "stdout",
     "output_type": "stream",
     "text": [
      "I'm doing the thing.\n",
      "bone-penn-186\n",
      "I'm doing the thing.\n"
     ]
    },
    {
     "name": "stderr",
     "output_type": "stream",
     "text": [
      "\r",
      " 72%|███████▏  | 137/191 [00:28<00:15,  3.49it/s]"
     ]
    },
    {
     "name": "stdout",
     "output_type": "stream",
     "text": [
      "I'm doing the thing.\n",
      "bone-penn-203\n",
      "I'm doing the thing.\n"
     ]
    },
    {
     "name": "stderr",
     "output_type": "stream",
     "text": [
      "\r",
      " 72%|███████▏  | 138/191 [00:28<00:15,  3.40it/s]"
     ]
    },
    {
     "name": "stdout",
     "output_type": "stream",
     "text": [
      "I'm doing the thing.\n",
      "bone-penn-211\n",
      "I'm doing the thing.\n"
     ]
    },
    {
     "name": "stderr",
     "output_type": "stream",
     "text": [
      "\r",
      " 73%|███████▎  | 139/191 [00:29<00:17,  2.97it/s]"
     ]
    },
    {
     "name": "stdout",
     "output_type": "stream",
     "text": [
      "I'm doing the thing.\n",
      "bone-penn-226\n",
      "I'm doing the thing.\n",
      "I'm doing the thing.\n",
      "bone-penn-234\n",
      "I'm doing the thing.\n"
     ]
    },
    {
     "name": "stderr",
     "output_type": "stream",
     "text": [
      "\r",
      " 74%|███████▍  | 141/191 [00:29<00:17,  2.93it/s]"
     ]
    },
    {
     "name": "stdout",
     "output_type": "stream",
     "text": [
      "I'm doing the thing.\n",
      "bone-penn-259\n",
      "I'm doing the thing.\n",
      "I'm doing the thing.\n",
      "bone-penn-263\n",
      "I'm doing the thing.\n"
     ]
    },
    {
     "name": "stderr",
     "output_type": "stream",
     "text": [
      "\r",
      " 75%|███████▍  | 143/191 [00:30<00:13,  3.46it/s]"
     ]
    },
    {
     "name": "stdout",
     "output_type": "stream",
     "text": [
      "I'm doing the thing.\n",
      "bone-penn-265\n",
      "I'm doing the thing.\n"
     ]
    },
    {
     "name": "stderr",
     "output_type": "stream",
     "text": [
      "\r",
      " 75%|███████▌  | 144/191 [00:30<00:13,  3.59it/s]"
     ]
    },
    {
     "name": "stdout",
     "output_type": "stream",
     "text": [
      "I'm doing the thing.\n",
      "bone-penn-270\n",
      "I'm doing the thing.\n"
     ]
    },
    {
     "name": "stderr",
     "output_type": "stream",
     "text": [
      "\r",
      " 76%|███████▌  | 145/191 [00:30<00:15,  3.01it/s]"
     ]
    },
    {
     "name": "stdout",
     "output_type": "stream",
     "text": [
      "I'm doing the thing.\n",
      "bone-penn-273\n",
      "I'm doing the thing.\n"
     ]
    },
    {
     "name": "stderr",
     "output_type": "stream",
     "text": [
      "\r",
      " 76%|███████▋  | 146/191 [00:31<00:14,  3.05it/s]"
     ]
    },
    {
     "name": "stdout",
     "output_type": "stream",
     "text": [
      "I'm doing the thing.\n",
      "bone-penn-274\n",
      "I'm doing the thing.\n"
     ]
    },
    {
     "name": "stderr",
     "output_type": "stream",
     "text": [
      " 78%|███████▊  | 149/191 [00:32<00:10,  3.82it/s]"
     ]
    },
    {
     "name": "stdout",
     "output_type": "stream",
     "text": [
      "I'm doing the thing.\n",
      "bone-penn-275\n",
      "I'm doing the thing.\n",
      "I'm doing the thing.\n",
      "bone-penn-281\n",
      "I'm doing the thing.\n",
      "I'm doing the thing.\n",
      "bone-penn-309\n",
      "I'm doing the thing.\n"
     ]
    },
    {
     "name": "stderr",
     "output_type": "stream",
     "text": [
      "\r",
      " 79%|███████▊  | 150/191 [00:32<00:09,  4.33it/s]"
     ]
    },
    {
     "name": "stdout",
     "output_type": "stream",
     "text": [
      "I'm doing the thing.\n",
      "bone-penn-329\n",
      "I'm doing the thing.\n"
     ]
    },
    {
     "name": "stderr",
     "output_type": "stream",
     "text": [
      "\r",
      " 79%|███████▉  | 151/191 [00:32<00:11,  3.50it/s]"
     ]
    },
    {
     "name": "stdout",
     "output_type": "stream",
     "text": [
      "I'm doing the thing.\n",
      "bone-penn-334\n",
      "I'm doing the thing.\n"
     ]
    },
    {
     "name": "stderr",
     "output_type": "stream",
     "text": [
      "\r",
      " 80%|███████▉  | 152/191 [00:33<00:13,  2.82it/s]"
     ]
    },
    {
     "name": "stdout",
     "output_type": "stream",
     "text": [
      "I'm doing the thing.\n",
      "bone-penn-378\n",
      "I'm doing the thing.\n"
     ]
    },
    {
     "name": "stderr",
     "output_type": "stream",
     "text": [
      "\r",
      " 80%|████████  | 153/191 [00:33<00:13,  2.87it/s]"
     ]
    },
    {
     "name": "stdout",
     "output_type": "stream",
     "text": [
      "I'm doing the thing.\n",
      "bone-penn-381\n",
      "I'm doing the thing.\n",
      "I'm doing the thing.\n",
      "bone-penn-383\n",
      "I'm doing the thing.\n"
     ]
    },
    {
     "name": "stderr",
     "output_type": "stream",
     "text": [
      "\r",
      " 81%|████████  | 155/191 [00:33<00:08,  4.01it/s]"
     ]
    },
    {
     "name": "stdout",
     "output_type": "stream",
     "text": [
      "I'm doing the thing.\n",
      "bone-penn-390\n",
      "I'm doing the thing.\n"
     ]
    },
    {
     "name": "stderr",
     "output_type": "stream",
     "text": [
      "\r",
      " 82%|████████▏ | 156/191 [00:33<00:08,  4.18it/s]"
     ]
    },
    {
     "name": "stdout",
     "output_type": "stream",
     "text": [
      "I'm doing the thing.\n",
      "bone-penn-403\n",
      "I'm doing the thing.\n",
      "I'm doing the thing.\n",
      "bone-penn-439\n",
      "I'm doing the thing.\n"
     ]
    },
    {
     "name": "stderr",
     "output_type": "stream",
     "text": [
      "\r",
      " 83%|████████▎ | 158/191 [00:34<00:07,  4.19it/s]"
     ]
    },
    {
     "name": "stdout",
     "output_type": "stream",
     "text": [
      "I'm doing the thing.\n",
      "bone-penn-456\n",
      "I'm doing the thing.\n"
     ]
    },
    {
     "name": "stderr",
     "output_type": "stream",
     "text": [
      "\r",
      " 83%|████████▎ | 159/191 [00:34<00:08,  3.94it/s]"
     ]
    },
    {
     "name": "stdout",
     "output_type": "stream",
     "text": [
      "I'm doing the thing.\n",
      "bone-penn-462\n",
      "I'm doing the thing.\n"
     ]
    },
    {
     "name": "stderr",
     "output_type": "stream",
     "text": [
      " 84%|████████▍ | 161/191 [00:35<00:07,  3.99it/s]"
     ]
    },
    {
     "name": "stdout",
     "output_type": "stream",
     "text": [
      "I'm doing the thing.\n",
      "bone-penn-464\n",
      "I'm doing the thing.\n",
      "I'm doing the thing.\n",
      "bone-penn-466\n",
      "I'm doing the thing.\n"
     ]
    },
    {
     "name": "stderr",
     "output_type": "stream",
     "text": [
      "\r",
      " 85%|████████▍ | 162/191 [00:35<00:09,  2.93it/s]"
     ]
    },
    {
     "name": "stdout",
     "output_type": "stream",
     "text": [
      "I'm doing the thing.\n",
      "bone-penn-481\n",
      "I'm doing the thing.\n",
      "I'm doing the thing.\n",
      "bone-penn-485\n",
      "I'm doing the thing.\n"
     ]
    },
    {
     "name": "stderr",
     "output_type": "stream",
     "text": [
      " 87%|████████▋ | 166/191 [00:36<00:05,  4.99it/s]"
     ]
    },
    {
     "name": "stdout",
     "output_type": "stream",
     "text": [
      "I'm doing the thing.\n",
      "bone-penn-488\n",
      "I'm doing the thing.\n",
      "I'm doing the thing.\n",
      "bone-penn-491\n",
      "I'm doing the thing.\n",
      "I'm doing the thing.\n",
      "bone-penn-492\n",
      "I'm doing the thing.\n"
     ]
    },
    {
     "name": "stderr",
     "output_type": "stream",
     "text": [
      "\r",
      " 87%|████████▋ | 167/191 [00:36<00:04,  5.46it/s]"
     ]
    },
    {
     "name": "stdout",
     "output_type": "stream",
     "text": [
      "I'm doing the thing.\n",
      "bone-penn-498\n",
      "I'm doing the thing.\n",
      "I'm doing the thing.\n",
      "bone-penn-500\n",
      "I'm doing the thing.\n"
     ]
    },
    {
     "name": "stderr",
     "output_type": "stream",
     "text": [
      "\r",
      " 88%|████████▊ | 169/191 [00:36<00:03,  5.60it/s]"
     ]
    },
    {
     "name": "stdout",
     "output_type": "stream",
     "text": [
      "I'm doing the thing.\n",
      "bone-penn-502\n",
      "I'm doing the thing.\n"
     ]
    },
    {
     "name": "stderr",
     "output_type": "stream",
     "text": [
      "\r",
      " 89%|████████▉ | 170/191 [00:37<00:05,  3.58it/s]"
     ]
    },
    {
     "name": "stdout",
     "output_type": "stream",
     "text": [
      "I'm doing the thing.\n",
      "bone-penn-504\n",
      "I'm doing the thing.\n",
      "I'm doing the thing.\n",
      "bone-penn-508\n",
      "I'm doing the thing.\n"
     ]
    },
    {
     "name": "stderr",
     "output_type": "stream",
     "text": [
      "\r",
      " 90%|█████████ | 172/191 [00:37<00:04,  4.47it/s]"
     ]
    },
    {
     "name": "stdout",
     "output_type": "stream",
     "text": [
      "I'm doing the thing.\n",
      "bone-penn-511\n",
      "I'm doing the thing.\n",
      "I'm doing the thing.\n",
      "bone-penn-513\n",
      "I'm doing the thing.\n"
     ]
    },
    {
     "name": "stderr",
     "output_type": "stream",
     "text": [
      "\r",
      " 91%|█████████ | 174/191 [00:38<00:03,  5.04it/s]"
     ]
    },
    {
     "name": "stdout",
     "output_type": "stream",
     "text": [
      "I'm doing the thing.\n",
      "bone-penn-526\n",
      "I'm doing the thing.\n"
     ]
    },
    {
     "name": "stderr",
     "output_type": "stream",
     "text": [
      "\r",
      " 92%|█████████▏| 175/191 [00:38<00:03,  4.07it/s]"
     ]
    },
    {
     "name": "stdout",
     "output_type": "stream",
     "text": [
      "I'm doing the thing.\n",
      "bone-penn-537\n",
      "I'm doing the thing.\n",
      "I'm doing the thing.\n",
      "bone-penn-539\n",
      "I'm doing the thing.\n"
     ]
    },
    {
     "name": "stderr",
     "output_type": "stream",
     "text": [
      "\r",
      " 93%|█████████▎| 177/191 [00:38<00:02,  5.09it/s]"
     ]
    },
    {
     "name": "stdout",
     "output_type": "stream",
     "text": [
      "I'm doing the thing.\n",
      "bone-penn-553\n",
      "I'm doing the thing.\n"
     ]
    },
    {
     "name": "stderr",
     "output_type": "stream",
     "text": [
      " 94%|█████████▎| 179/191 [00:39<00:02,  4.84it/s]"
     ]
    },
    {
     "name": "stdout",
     "output_type": "stream",
     "text": [
      "I'm doing the thing.\n",
      "bone-penn-564\n",
      "I'm doing the thing.\n",
      "I'm doing the thing.\n",
      "bone-penn-576\n",
      "I'm doing the thing.\n"
     ]
    },
    {
     "name": "stderr",
     "output_type": "stream",
     "text": [
      " 95%|█████████▍| 181/191 [00:39<00:02,  4.74it/s]"
     ]
    },
    {
     "name": "stdout",
     "output_type": "stream",
     "text": [
      "I'm doing the thing.\n",
      "bone-penn-583\n",
      "I'm doing the thing.\n",
      "I'm doing the thing.\n",
      "bone-penn-584\n",
      "I'm doing the thing.\n",
      "I'm doing the thing.\n",
      "bone-penn-590\n",
      "I'm doing the thing.\n"
     ]
    },
    {
     "name": "stderr",
     "output_type": "stream",
     "text": [
      " 96%|█████████▋| 184/191 [00:40<00:01,  5.53it/s]"
     ]
    },
    {
     "name": "stdout",
     "output_type": "stream",
     "text": [
      "I'm doing the thing.\n",
      "bone-penn-595\n",
      "I'm doing the thing.\n",
      "I'm doing the thing.\n",
      "bone-penn-607\n",
      "I'm doing the thing.\n"
     ]
    },
    {
     "name": "stderr",
     "output_type": "stream",
     "text": [
      " 97%|█████████▋| 186/191 [00:40<00:01,  4.20it/s]"
     ]
    },
    {
     "name": "stdout",
     "output_type": "stream",
     "text": [
      "I'm doing the thing.\n",
      "bone-penn-608\n",
      "I'm doing the thing.\n",
      "I'm doing the thing.\n",
      "bone-penn-618\n",
      "I'm doing the thing.\n"
     ]
    },
    {
     "name": "stderr",
     "output_type": "stream",
     "text": [
      " 98%|█████████▊| 188/191 [00:41<00:00,  5.20it/s]"
     ]
    },
    {
     "name": "stdout",
     "output_type": "stream",
     "text": [
      "I'm doing the thing.\n",
      "bone-penn-628\n",
      "I'm doing the thing.\n",
      "I'm doing the thing.\n",
      "bone-penn-645\n",
      "I'm doing the thing.\n"
     ]
    },
    {
     "name": "stderr",
     "output_type": "stream",
     "text": [
      " 99%|█████████▉| 190/191 [00:41<00:00,  4.67it/s]"
     ]
    },
    {
     "name": "stdout",
     "output_type": "stream",
     "text": [
      "I'm doing the thing.\n",
      "bone-penn-646\n",
      "I'm doing the thing.\n",
      "I'm doing the thing.\n",
      "bone-penn-647\n",
      "I'm doing the thing.\n"
     ]
    },
    {
     "name": "stderr",
     "output_type": "stream",
     "text": [
      "100%|██████████| 191/191 [00:41<00:00,  4.58it/s]\n",
      "  0%|          | 0/93 [00:00<?, ?it/s]"
     ]
    },
    {
     "name": "stdout",
     "output_type": "stream",
     "text": [
      "I'm doing the thing.\n",
      "bone-brown-90\n",
      "I'm doing the thing.\n"
     ]
    },
    {
     "name": "stderr",
     "output_type": "stream",
     "text": [
      "  3%|▎         | 3/93 [00:00<00:13,  6.88it/s]"
     ]
    },
    {
     "name": "stdout",
     "output_type": "stream",
     "text": [
      "I'm doing the thing.\n",
      "bone-china-007\n",
      "I'm doing the thing.\n",
      "I'm doing the thing.\n",
      "bone-china-012\n",
      "I'm doing the thing.\n",
      "I'm doing the thing.\n",
      "bone-china-013\n",
      "I'm doing the thing.\n"
     ]
    },
    {
     "name": "stderr",
     "output_type": "stream",
     "text": [
      "  6%|▋         | 6/93 [00:00<00:08, 10.34it/s]"
     ]
    },
    {
     "name": "stdout",
     "output_type": "stream",
     "text": [
      "I'm doing the thing.\n",
      "bone-china-018\n",
      "I'm doing the thing.\n",
      "I'm doing the thing.\n",
      "bone-china-032\n",
      "I'm doing the thing.\n",
      "I'm doing the thing.\n",
      "bone-china-042\n",
      "I'm doing the thing.\n",
      "I'm doing the thing.\n",
      "bone-china-063\n",
      "I'm doing the thing.\n"
     ]
    },
    {
     "name": "stderr",
     "output_type": "stream",
     "text": [
      "\r",
      "  9%|▊         | 8/93 [00:00<00:08, 10.62it/s]"
     ]
    },
    {
     "name": "stdout",
     "output_type": "stream",
     "text": [
      "I'm doing the thing.\n",
      "bone-china-064\n",
      "I'm doing the thing.\n",
      "I'm doing the thing.\n",
      "bone-china-073\n",
      "I'm doing the thing.\n"
     ]
    },
    {
     "name": "stderr",
     "output_type": "stream",
     "text": [
      " 13%|█▎        | 12/93 [00:01<00:06, 12.19it/s]"
     ]
    },
    {
     "name": "stdout",
     "output_type": "stream",
     "text": [
      "I'm doing the thing.\n",
      "bone-china-082\n",
      "I'm doing the thing.\n",
      "I'm doing the thing.\n",
      "bone-china-094\n",
      "I'm doing the thing.\n",
      "I'm doing the thing.\n",
      "bone-china-115\n",
      "I'm doing the thing.\n"
     ]
    },
    {
     "name": "stderr",
     "output_type": "stream",
     "text": [
      "\r",
      " 15%|█▌        | 14/93 [00:01<00:07, 10.97it/s]"
     ]
    },
    {
     "name": "stdout",
     "output_type": "stream",
     "text": [
      "I'm doing the thing.\n",
      "bone-china-130\n",
      "I'm doing the thing.\n",
      "I'm doing the thing.\n",
      "bone-china-137\n",
      "I'm doing the thing.\n",
      "I'm doing the thing.\n",
      "bone-china-139\n",
      "I'm doing the thing.\n"
     ]
    },
    {
     "name": "stderr",
     "output_type": "stream",
     "text": [
      "\r",
      " 17%|█▋        | 16/93 [00:01<00:06, 11.85it/s]"
     ]
    },
    {
     "name": "stdout",
     "output_type": "stream",
     "text": [
      "I'm doing the thing.\n",
      "bone-china-142\n",
      "I'm doing the thing.\n"
     ]
    },
    {
     "name": "stderr",
     "output_type": "stream",
     "text": [
      "\r",
      " 19%|█▉        | 18/93 [00:01<00:08,  8.82it/s]"
     ]
    },
    {
     "name": "stdout",
     "output_type": "stream",
     "text": [
      "I'm doing the thing.\n",
      "bone-china-150\n",
      "I'm doing the thing.\n",
      "I'm doing the thing.\n",
      "bone-china-156\n",
      "I'm doing the thing.\n",
      "I'm doing the thing.\n",
      "bone-china-157\n",
      "I'm doing the thing.\n"
     ]
    },
    {
     "name": "stderr",
     "output_type": "stream",
     "text": [
      " 24%|██▎       | 22/93 [00:02<00:06, 10.99it/s]"
     ]
    },
    {
     "name": "stdout",
     "output_type": "stream",
     "text": [
      "I'm doing the thing.\n",
      "bone-china-181\n",
      "I'm doing the thing.\n",
      "I'm doing the thing.\n",
      "bone-china-182\n",
      "I'm doing the thing.\n",
      "I'm doing the thing.\n",
      "bone-china-188\n",
      "I'm doing the thing.\n"
     ]
    },
    {
     "name": "stderr",
     "output_type": "stream",
     "text": [
      "\r",
      " 26%|██▌       | 24/93 [00:02<00:06, 10.98it/s]"
     ]
    },
    {
     "name": "stdout",
     "output_type": "stream",
     "text": [
      "I'm doing the thing.\n",
      "bone-china-202\n",
      "I'm doing the thing.\n",
      "I'm doing the thing.\n",
      "bone-china-208\n",
      "I'm doing the thing.\n",
      "I'm doing the thing.\n",
      "bone-china-229\n",
      "I'm doing the thing.\n"
     ]
    },
    {
     "name": "stderr",
     "output_type": "stream",
     "text": [
      " 30%|███       | 28/93 [00:02<00:06, 10.35it/s]"
     ]
    },
    {
     "name": "stdout",
     "output_type": "stream",
     "text": [
      "I'm doing the thing.\n",
      "bone-china-232\n",
      "I'm doing the thing.\n",
      "I'm doing the thing.\n",
      "bone-china-233\n",
      "I'm doing the thing.\n",
      "I'm doing the thing.\n",
      "bone-china-235\n",
      "I'm doing the thing.\n"
     ]
    },
    {
     "name": "stderr",
     "output_type": "stream",
     "text": [
      "\r",
      " 32%|███▏      | 30/93 [00:03<00:06,  9.75it/s]"
     ]
    },
    {
     "name": "stdout",
     "output_type": "stream",
     "text": [
      "I'm doing the thing.\n",
      "bone-china-241\n",
      "I'm doing the thing.\n",
      "I'm doing the thing.\n",
      "bone-hup-164\n",
      "I'm doing the thing.\n"
     ]
    },
    {
     "name": "stderr",
     "output_type": "stream",
     "text": [
      "\r",
      " 34%|███▍      | 32/93 [00:03<00:06, 10.16it/s]"
     ]
    },
    {
     "name": "stdout",
     "output_type": "stream",
     "text": [
      "I'm doing the thing.\n",
      "bone-hup-182\n",
      "I'm doing the thing.\n",
      "I'm doing the thing.\n",
      "bone-hup-190\n",
      "I'm doing the thing.\n"
     ]
    },
    {
     "name": "stderr",
     "output_type": "stream",
     "text": [
      "\r",
      " 37%|███▋      | 34/93 [00:03<00:07,  8.16it/s]"
     ]
    },
    {
     "name": "stdout",
     "output_type": "stream",
     "text": [
      "I'm doing the thing.\n",
      "bone-hup-195\n",
      "I'm doing the thing.\n",
      "I'm doing the thing.\n",
      "bone-hup-236\n",
      "I'm doing the thing.\n"
     ]
    },
    {
     "name": "stderr",
     "output_type": "stream",
     "text": [
      "\r",
      " 38%|███▊      | 35/93 [00:03<00:08,  7.13it/s]"
     ]
    },
    {
     "name": "stdout",
     "output_type": "stream",
     "text": [
      "I'm doing the thing.\n",
      "bone-hup-238\n",
      "I'm doing the thing.\n",
      "I'm doing the thing.\n",
      "bone-hup-294\n",
      "I'm doing the thing.\n"
     ]
    },
    {
     "name": "stderr",
     "output_type": "stream",
     "text": [
      "\r",
      " 40%|███▉      | 37/93 [00:04<00:07,  7.67it/s]"
     ]
    },
    {
     "name": "stdout",
     "output_type": "stream",
     "text": [
      "I'm doing the thing.\n",
      "bone-hup-300\n",
      "I'm doing the thing.\n",
      "I'm doing the thing.\n",
      "bone-hup-311\n",
      "I'm doing the thing.\n"
     ]
    },
    {
     "name": "stderr",
     "output_type": "stream",
     "text": [
      " 43%|████▎     | 40/93 [00:04<00:09,  5.69it/s]"
     ]
    },
    {
     "name": "stdout",
     "output_type": "stream",
     "text": [
      "I'm doing the thing.\n",
      "bone-hup-313\n",
      "I'm doing the thing.\n",
      "I'm doing the thing.\n",
      "bone-hup-318\n",
      "I'm doing the thing.\n"
     ]
    },
    {
     "name": "stderr",
     "output_type": "stream",
     "text": [
      "\r",
      " 44%|████▍     | 41/93 [00:05<00:16,  3.17it/s]"
     ]
    },
    {
     "name": "stdout",
     "output_type": "stream",
     "text": [
      "I'm doing the thing.\n",
      "bone-hup-53\n",
      "I'm doing the thing.\n",
      "I'm doing the thing.\n",
      "bone-hup-94\n",
      "I'm doing the thing.\n"
     ]
    },
    {
     "name": "stderr",
     "output_type": "stream",
     "text": [
      " 47%|████▋     | 44/93 [00:05<00:10,  4.61it/s]"
     ]
    },
    {
     "name": "stdout",
     "output_type": "stream",
     "text": [
      "I'm doing the thing.\n",
      "bone-penn-015\n",
      "I'm doing the thing.\n",
      "I'm doing the thing.\n",
      "bone-penn-071\n",
      "I'm doing the thing.\n",
      "I'm doing the thing.\n",
      "bone-penn-075\n",
      "I'm doing the thing.\n"
     ]
    },
    {
     "name": "stderr",
     "output_type": "stream",
     "text": [
      " 51%|█████     | 47/93 [00:06<00:08,  5.40it/s]"
     ]
    },
    {
     "name": "stdout",
     "output_type": "stream",
     "text": [
      "I'm doing the thing.\n",
      "bone-penn-077\n",
      "I'm doing the thing.\n",
      "I'm doing the thing.\n",
      "bone-penn-080\n",
      "I'm doing the thing.\n"
     ]
    },
    {
     "name": "stderr",
     "output_type": "stream",
     "text": [
      "\r",
      " 52%|█████▏    | 48/93 [00:06<00:07,  5.96it/s]"
     ]
    },
    {
     "name": "stdout",
     "output_type": "stream",
     "text": [
      "I'm doing the thing.\n",
      "bone-penn-086\n",
      "I'm doing the thing.\n"
     ]
    },
    {
     "name": "stderr",
     "output_type": "stream",
     "text": [
      " 54%|█████▍    | 50/93 [00:06<00:07,  5.65it/s]"
     ]
    },
    {
     "name": "stdout",
     "output_type": "stream",
     "text": [
      "I'm doing the thing.\n",
      "bone-penn-090\n",
      "I'm doing the thing.\n",
      "I'm doing the thing.\n",
      "bone-penn-103\n",
      "I'm doing the thing.\n"
     ]
    },
    {
     "name": "stderr",
     "output_type": "stream",
     "text": [
      " 57%|█████▋    | 53/93 [00:07<00:05,  7.65it/s]"
     ]
    },
    {
     "name": "stdout",
     "output_type": "stream",
     "text": [
      "I'm doing the thing.\n",
      "bone-penn-117\n",
      "I'm doing the thing.\n",
      "I'm doing the thing.\n",
      "bone-penn-130\n",
      "I'm doing the thing.\n",
      "I'm doing the thing.\n",
      "bone-penn-131\n",
      "I'm doing the thing.\n"
     ]
    },
    {
     "name": "stderr",
     "output_type": "stream",
     "text": [
      "\r",
      " 58%|█████▊    | 54/93 [00:07<00:06,  5.74it/s]"
     ]
    },
    {
     "name": "stdout",
     "output_type": "stream",
     "text": [
      "I'm doing the thing.\n",
      "bone-penn-175\n",
      "I'm doing the thing.\n"
     ]
    },
    {
     "name": "stderr",
     "output_type": "stream",
     "text": [
      " 61%|██████▏   | 57/93 [00:07<00:04,  7.57it/s]"
     ]
    },
    {
     "name": "stdout",
     "output_type": "stream",
     "text": [
      "I'm doing the thing.\n",
      "bone-penn-184\n",
      "I'm doing the thing.\n",
      "I'm doing the thing.\n",
      "bone-penn-185\n",
      "I'm doing the thing.\n",
      "I'm doing the thing.\n",
      "bone-penn-202\n",
      "I'm doing the thing.\n"
     ]
    },
    {
     "name": "stderr",
     "output_type": "stream",
     "text": [
      "\r",
      " 62%|██████▏   | 58/93 [00:08<00:10,  3.19it/s]"
     ]
    },
    {
     "name": "stdout",
     "output_type": "stream",
     "text": [
      "I'm doing the thing.\n",
      "bone-penn-229\n",
      "I'm doing the thing.\n"
     ]
    },
    {
     "name": "stderr",
     "output_type": "stream",
     "text": [
      " 65%|██████▍   | 60/93 [00:09<00:08,  3.84it/s]"
     ]
    },
    {
     "name": "stdout",
     "output_type": "stream",
     "text": [
      "I'm doing the thing.\n",
      "bone-penn-233\n",
      "I'm doing the thing.\n",
      "I'm doing the thing.\n",
      "bone-penn-271\n",
      "I'm doing the thing.\n"
     ]
    },
    {
     "name": "stderr",
     "output_type": "stream",
     "text": [
      "\r",
      " 67%|██████▋   | 62/93 [00:09<00:05,  5.54it/s]"
     ]
    },
    {
     "name": "stdout",
     "output_type": "stream",
     "text": [
      "I'm doing the thing.\n",
      "bone-penn-291\n",
      "I'm doing the thing.\n",
      "I'm doing the thing.\n",
      "bone-penn-295\n",
      "I'm doing the thing.\n",
      "I'm doing the thing.\n",
      "bone-penn-297\n",
      "I'm doing the thing.\n"
     ]
    },
    {
     "name": "stderr",
     "output_type": "stream",
     "text": [
      " 70%|██████▉   | 65/93 [00:09<00:03,  7.14it/s]"
     ]
    },
    {
     "name": "stdout",
     "output_type": "stream",
     "text": [
      "I'm doing the thing.\n",
      "bone-penn-366\n",
      "I'm doing the thing.\n",
      "I'm doing the thing.\n",
      "bone-penn-393\n",
      "I'm doing the thing.\n",
      "I'm doing the thing.\n",
      "bone-penn-401\n",
      "I'm doing the thing.\n"
     ]
    },
    {
     "name": "stderr",
     "output_type": "stream",
     "text": [
      " 73%|███████▎  | 68/93 [00:10<00:03,  7.24it/s]"
     ]
    },
    {
     "name": "stdout",
     "output_type": "stream",
     "text": [
      "I'm doing the thing.\n",
      "bone-penn-407\n",
      "I'm doing the thing.\n",
      "I'm doing the thing.\n",
      "bone-penn-432\n",
      "I'm doing the thing.\n"
     ]
    },
    {
     "name": "stderr",
     "output_type": "stream",
     "text": [
      "\r",
      " 74%|███████▍  | 69/93 [00:10<00:03,  6.78it/s]"
     ]
    },
    {
     "name": "stdout",
     "output_type": "stream",
     "text": [
      "I'm doing the thing.\n",
      "bone-penn-433\n",
      "I'm doing the thing.\n"
     ]
    },
    {
     "name": "stderr",
     "output_type": "stream",
     "text": [
      " 76%|███████▋  | 71/93 [00:11<00:05,  4.22it/s]"
     ]
    },
    {
     "name": "stdout",
     "output_type": "stream",
     "text": [
      "I'm doing the thing.\n",
      "bone-penn-435\n",
      "I'm doing the thing.\n",
      "I'm doing the thing.\n",
      "bone-penn-468\n",
      "I'm doing the thing.\n"
     ]
    },
    {
     "name": "stderr",
     "output_type": "stream",
     "text": [
      " 78%|███████▊  | 73/93 [00:11<00:06,  3.29it/s]"
     ]
    },
    {
     "name": "stdout",
     "output_type": "stream",
     "text": [
      "I'm doing the thing.\n",
      "bone-penn-469\n",
      "I'm doing the thing.\n",
      "I'm doing the thing.\n",
      "bone-penn-470\n",
      "I'm doing the thing.\n"
     ]
    },
    {
     "name": "stderr",
     "output_type": "stream",
     "text": [
      "\r",
      " 81%|████████  | 75/93 [00:12<00:03,  4.62it/s]"
     ]
    },
    {
     "name": "stdout",
     "output_type": "stream",
     "text": [
      "I'm doing the thing.\n",
      "bone-penn-475\n",
      "I'm doing the thing.\n",
      "I'm doing the thing.\n",
      "bone-penn-486\n",
      "I'm doing the thing.\n"
     ]
    },
    {
     "name": "stderr",
     "output_type": "stream",
     "text": [
      "\r",
      " 82%|████████▏ | 76/93 [00:12<00:03,  5.18it/s]"
     ]
    },
    {
     "name": "stdout",
     "output_type": "stream",
     "text": [
      "I'm doing the thing.\n",
      "bone-penn-493\n",
      "I'm doing the thing.\n"
     ]
    },
    {
     "name": "stderr",
     "output_type": "stream",
     "text": [
      "\r",
      " 83%|████████▎ | 77/93 [00:12<00:03,  4.10it/s]"
     ]
    },
    {
     "name": "stdout",
     "output_type": "stream",
     "text": [
      "I'm doing the thing.\n",
      "bone-penn-499\n",
      "I'm doing the thing.\n"
     ]
    },
    {
     "name": "stderr",
     "output_type": "stream",
     "text": [
      " 86%|████████▌ | 80/93 [00:12<00:02,  5.95it/s]"
     ]
    },
    {
     "name": "stdout",
     "output_type": "stream",
     "text": [
      "I'm doing the thing.\n",
      "bone-penn-501\n",
      "I'm doing the thing.\n",
      "I'm doing the thing.\n",
      "bone-penn-510\n",
      "I'm doing the thing.\n",
      "I'm doing the thing.\n",
      "bone-penn-520\n",
      "I'm doing the thing.\n"
     ]
    },
    {
     "name": "stderr",
     "output_type": "stream",
     "text": [
      "\r",
      " 88%|████████▊ | 82/93 [00:13<00:01,  7.50it/s]"
     ]
    },
    {
     "name": "stdout",
     "output_type": "stream",
     "text": [
      "I'm doing the thing.\n",
      "bone-penn-532\n",
      "I'm doing the thing.\n",
      "I'm doing the thing.\n",
      "bone-penn-540\n",
      "I'm doing the thing.\n"
     ]
    },
    {
     "name": "stderr",
     "output_type": "stream",
     "text": [
      " 91%|█████████▏| 85/93 [00:13<00:00,  8.74it/s]"
     ]
    },
    {
     "name": "stdout",
     "output_type": "stream",
     "text": [
      "I'm doing the thing.\n",
      "bone-penn-544\n",
      "I'm doing the thing.\n",
      "I'm doing the thing.\n",
      "bone-penn-547\n",
      "I'm doing the thing.\n",
      "I'm doing the thing.\n",
      "bone-penn-557\n",
      "I'm doing the thing.\n"
     ]
    },
    {
     "name": "stderr",
     "output_type": "stream",
     "text": [
      " 95%|█████████▍| 88/93 [00:13<00:00,  7.71it/s]"
     ]
    },
    {
     "name": "stdout",
     "output_type": "stream",
     "text": [
      "I'm doing the thing.\n",
      "bone-penn-566\n",
      "I'm doing the thing.\n",
      "I'm doing the thing.\n",
      "bone-penn-569\n",
      "I'm doing the thing.\n",
      "I'm doing the thing.\n",
      "bone-penn-574\n",
      "I'm doing the thing.\n",
      "I'm doing the thing.\n",
      "bone-penn-591\n",
      "I'm doing the thing.\n"
     ]
    },
    {
     "name": "stderr",
     "output_type": "stream",
     "text": [
      "\r",
      " 97%|█████████▋| 90/93 [00:14<00:00,  6.59it/s]"
     ]
    },
    {
     "name": "stdout",
     "output_type": "stream",
     "text": [
      "I'm doing the thing.\n",
      "bone-penn-594\n",
      "I'm doing the thing.\n",
      "I'm doing the thing.\n",
      "bone-penn-638\n",
      "I'm doing the thing.\n"
     ]
    },
    {
     "name": "stderr",
     "output_type": "stream",
     "text": [
      "100%|██████████| 93/93 [00:14<00:00,  6.22it/s]\n",
      "  0%|          | 0/97 [00:00<?, ?it/s]"
     ]
    },
    {
     "name": "stdout",
     "output_type": "stream",
     "text": [
      "I'm doing the thing.\n",
      "bone-penn-649\n",
      "I'm doing the thing.\n",
      "I'm doing the thing.\n",
      "bone-china-249\n",
      "I'm doing the thing.\n"
     ]
    },
    {
     "name": "stderr",
     "output_type": "stream",
     "text": [
      "\r",
      "  2%|▏         | 2/97 [00:00<00:06, 15.06it/s]"
     ]
    },
    {
     "name": "stdout",
     "output_type": "stream",
     "text": [
      "I'm doing the thing.\n",
      "bone-china-250\n",
      "I'm doing the thing.\n",
      "I'm doing the thing.\n",
      "bone-china-251\n",
      "I'm doing the thing.\n",
      "I'm doing the thing.\n",
      "bone-china-253\n",
      "I'm doing the thing.\n"
     ]
    },
    {
     "name": "stderr",
     "output_type": "stream",
     "text": [
      "\r",
      "  4%|▍         | 4/97 [00:00<00:07, 11.76it/s]"
     ]
    },
    {
     "name": "stdout",
     "output_type": "stream",
     "text": [
      "I'm doing the thing.\n",
      "bone-china-254\n",
      "I'm doing the thing.\n",
      "I'm doing the thing.\n",
      "bone-china-256\n",
      "I'm doing the thing.\n"
     ]
    },
    {
     "name": "stderr",
     "output_type": "stream",
     "text": [
      "  8%|▊         | 8/97 [00:00<00:07, 12.39it/s]"
     ]
    },
    {
     "name": "stdout",
     "output_type": "stream",
     "text": [
      "I'm doing the thing.\n",
      "bone-china-258\n",
      "I'm doing the thing.\n",
      "I'm doing the thing.\n",
      "bone-china-259\n",
      "I'm doing the thing.\n",
      "I'm doing the thing.\n",
      "bone-china-260\n",
      "I'm doing the thing.\n"
     ]
    },
    {
     "name": "stderr",
     "output_type": "stream",
     "text": [
      "\r",
      " 10%|█         | 10/97 [00:00<00:06, 12.72it/s]"
     ]
    },
    {
     "name": "stdout",
     "output_type": "stream",
     "text": [
      "I'm doing the thing.\n",
      "bone-china-261\n",
      "I'm doing the thing.\n",
      "I'm doing the thing.\n",
      "bone-china-262\n",
      "I'm doing the thing.\n",
      "I'm doing the thing.\n",
      "bone-china-263\n",
      "I'm doing the thing.\n"
     ]
    },
    {
     "name": "stderr",
     "output_type": "stream",
     "text": [
      " 14%|█▍        | 14/97 [00:01<00:07, 11.36it/s]"
     ]
    },
    {
     "name": "stdout",
     "output_type": "stream",
     "text": [
      "I'm doing the thing.\n",
      "bone-china-264\n",
      "I'm doing the thing.\n",
      "I'm doing the thing.\n",
      "bone-china-265\n",
      "I'm doing the thing.\n",
      "I'm doing the thing.\n",
      "bone-china-266\n",
      "I'm doing the thing.\n"
     ]
    },
    {
     "name": "stderr",
     "output_type": "stream",
     "text": [
      "\r",
      " 16%|█▋        | 16/97 [00:01<00:06, 11.88it/s]"
     ]
    },
    {
     "name": "stdout",
     "output_type": "stream",
     "text": [
      "I'm doing the thing.\n",
      "bone-china-267\n",
      "I'm doing the thing.\n",
      "I'm doing the thing.\n",
      "bone-china-269\n",
      "I'm doing the thing.\n",
      "I'm doing the thing.\n",
      "bone-china-270\n",
      "I'm doing the thing.\n"
     ]
    },
    {
     "name": "stderr",
     "output_type": "stream",
     "text": [
      "\r",
      " 19%|█▊        | 18/97 [00:01<00:07, 10.88it/s]"
     ]
    },
    {
     "name": "stdout",
     "output_type": "stream",
     "text": [
      "I'm doing the thing.\n",
      "bone-china-271\n",
      "I'm doing the thing.\n",
      "I'm doing the thing.\n",
      "bone-china-272\n",
      "I'm doing the thing.\n"
     ]
    },
    {
     "name": "stderr",
     "output_type": "stream",
     "text": [
      " 23%|██▎       | 22/97 [00:02<00:07, 10.22it/s]"
     ]
    },
    {
     "name": "stdout",
     "output_type": "stream",
     "text": [
      "I'm doing the thing.\n",
      "bone-china-273\n",
      "I'm doing the thing.\n",
      "I'm doing the thing.\n",
      "bone-china-274\n",
      "I'm doing the thing.\n",
      "I'm doing the thing.\n",
      "bone-china-275\n",
      "I'm doing the thing.\n"
     ]
    },
    {
     "name": "stderr",
     "output_type": "stream",
     "text": [
      "\r",
      " 25%|██▍       | 24/97 [00:02<00:07, 10.22it/s]"
     ]
    },
    {
     "name": "stdout",
     "output_type": "stream",
     "text": [
      "I'm doing the thing.\n",
      "bone-china-276\n",
      "I'm doing the thing.\n",
      "I'm doing the thing.\n",
      "bone-china-277\n",
      "I'm doing the thing.\n",
      "I'm doing the thing.\n",
      "bone-china-278\n",
      "I'm doing the thing.\n"
     ]
    },
    {
     "name": "stderr",
     "output_type": "stream",
     "text": [
      " 28%|██▊       | 27/97 [00:02<00:08,  8.63it/s]"
     ]
    },
    {
     "name": "stdout",
     "output_type": "stream",
     "text": [
      "I'm doing the thing.\n",
      "bone-china-279\n",
      "I'm doing the thing.\n",
      "I'm doing the thing.\n",
      "bone-china-280\n",
      "I'm doing the thing.\n",
      "I'm doing the thing.\n",
      "bone-china-281\n",
      "I'm doing the thing.\n"
     ]
    },
    {
     "name": "stderr",
     "output_type": "stream",
     "text": [
      "\r",
      " 31%|███       | 30/97 [00:02<00:06, 10.95it/s]"
     ]
    },
    {
     "name": "stdout",
     "output_type": "stream",
     "text": [
      "I'm doing the thing.\n",
      "bone-china-282\n",
      "I'm doing the thing.\n",
      "I'm doing the thing.\n",
      "bone-china-283\n",
      "I'm doing the thing.\n"
     ]
    },
    {
     "name": "stderr",
     "output_type": "stream",
     "text": [
      "\r",
      " 33%|███▎      | 32/97 [00:03<00:06, 10.79it/s]"
     ]
    },
    {
     "name": "stdout",
     "output_type": "stream",
     "text": [
      "I'm doing the thing.\n",
      "bone-china-285\n",
      "I'm doing the thing.\n",
      "I'm doing the thing.\n",
      "bone-china-286\n",
      "I'm doing the thing.\n"
     ]
    },
    {
     "name": "stderr",
     "output_type": "stream",
     "text": [
      "\r",
      " 35%|███▌      | 34/97 [00:03<00:07,  8.58it/s]"
     ]
    },
    {
     "name": "stdout",
     "output_type": "stream",
     "text": [
      "I'm doing the thing.\n",
      "bone-china-287\n",
      "I'm doing the thing.\n",
      "I'm doing the thing.\n",
      "bone-china-288\n",
      "I'm doing the thing.\n",
      "I'm doing the thing.\n",
      "bone-china-289\n",
      "I'm doing the thing.\n"
     ]
    },
    {
     "name": "stderr",
     "output_type": "stream",
     "text": [
      " 39%|███▉      | 38/97 [00:03<00:05, 10.04it/s]"
     ]
    },
    {
     "name": "stdout",
     "output_type": "stream",
     "text": [
      "I'm doing the thing.\n",
      "bone-china-290\n",
      "I'm doing the thing.\n",
      "I'm doing the thing.\n",
      "bone-china-291\n",
      "I'm doing the thing.\n",
      "I'm doing the thing.\n",
      "bone-china-293\n",
      "I'm doing the thing.\n",
      "I'm doing the thing.\n",
      "bone-china-295\n",
      "I'm doing the thing.\n"
     ]
    },
    {
     "name": "stderr",
     "output_type": "stream",
     "text": [
      " 44%|████▍     | 43/97 [00:03<00:04, 13.21it/s]"
     ]
    },
    {
     "name": "stdout",
     "output_type": "stream",
     "text": [
      "I'm doing the thing.\n",
      "bone-china-296\n",
      "I'm doing the thing.\n",
      "I'm doing the thing.\n",
      "bone-china-298\n",
      "I'm doing the thing.\n",
      "I'm doing the thing.\n",
      "bone-china-299\n",
      "I'm doing the thing.\n",
      "I'm doing the thing.\n",
      "bone-china-300\n",
      "I'm doing the thing.\n"
     ]
    },
    {
     "name": "stderr",
     "output_type": "stream",
     "text": [
      "\r",
      " 46%|████▋     | 45/97 [00:04<00:04, 10.52it/s]"
     ]
    },
    {
     "name": "stdout",
     "output_type": "stream",
     "text": [
      "I'm doing the thing.\n",
      "bone-china-303\n",
      "I'm doing the thing.\n",
      "I'm doing the thing.\n",
      "bone-china-304\n",
      "I'm doing the thing.\n"
     ]
    },
    {
     "name": "stderr",
     "output_type": "stream",
     "text": [
      " 51%|█████     | 49/97 [00:04<00:03, 12.32it/s]"
     ]
    },
    {
     "name": "stdout",
     "output_type": "stream",
     "text": [
      "I'm doing the thing.\n",
      "bone-china-306\n",
      "I'm doing the thing.\n",
      "I'm doing the thing.\n",
      "bone-china-307\n",
      "I'm doing the thing.\n",
      "I'm doing the thing.\n",
      "bone-china-308\n",
      "I'm doing the thing.\n",
      "I'm doing the thing.\n",
      "bone-china-309\n",
      "I'm doing the thing.\n"
     ]
    },
    {
     "name": "stderr",
     "output_type": "stream",
     "text": [
      "\r",
      " 53%|█████▎    | 51/97 [00:04<00:03, 11.89it/s]"
     ]
    },
    {
     "name": "stdout",
     "output_type": "stream",
     "text": [
      "I'm doing the thing.\n",
      "bone-china-310\n",
      "I'm doing the thing.\n",
      "I'm doing the thing.\n",
      "bone-china-311\n",
      "I'm doing the thing.\n",
      "I'm doing the thing.\n",
      "bone-china-312\n",
      "I'm doing the thing.\n",
      "I'm doing the thing.\n",
      "bone-china-313\n",
      "I'm doing the thing.\n"
     ]
    },
    {
     "name": "stderr",
     "output_type": "stream",
     "text": [
      " 58%|█████▊    | 56/97 [00:05<00:02, 14.17it/s]"
     ]
    },
    {
     "name": "stdout",
     "output_type": "stream",
     "text": [
      "I'm doing the thing.\n",
      "bone-china-314\n",
      "I'm doing the thing.\n",
      "I'm doing the thing.\n",
      "bone-china-315\n",
      "I'm doing the thing.\n",
      "I'm doing the thing.\n",
      "bone-china-316\n",
      "I'm doing the thing.\n",
      "I'm doing the thing.\n",
      "bone-china-317\n",
      "I'm doing the thing.\n"
     ]
    },
    {
     "name": "stderr",
     "output_type": "stream",
     "text": [
      "\r",
      " 60%|█████▉    | 58/97 [00:05<00:02, 13.86it/s]"
     ]
    },
    {
     "name": "stdout",
     "output_type": "stream",
     "text": [
      "I'm doing the thing.\n",
      "bone-china-318\n",
      "I'm doing the thing.\n"
     ]
    },
    {
     "name": "stderr",
     "output_type": "stream",
     "text": [
      "\r",
      " 62%|██████▏   | 60/97 [00:05<00:03, 11.16it/s]"
     ]
    },
    {
     "name": "stdout",
     "output_type": "stream",
     "text": [
      "I'm doing the thing.\n",
      "bone-china-319\n",
      "I'm doing the thing.\n",
      "I'm doing the thing.\n",
      "bone-china-321\n",
      "I'm doing the thing.\n",
      "I'm doing the thing.\n",
      "bone-china-322\n",
      "I'm doing the thing.\n",
      "I'm doing the thing.\n",
      "bone-china-323\n",
      "I'm doing the thing.\n"
     ]
    },
    {
     "name": "stderr",
     "output_type": "stream",
     "text": [
      "\r",
      " 65%|██████▍   | 63/97 [00:05<00:02, 12.97it/s]"
     ]
    },
    {
     "name": "stdout",
     "output_type": "stream",
     "text": [
      "I'm doing the thing.\n",
      "bone-china-324\n",
      "I'm doing the thing.\n",
      "I'm doing the thing.\n",
      "bone-china-325\n",
      "I'm doing the thing.\n"
     ]
    },
    {
     "name": "stderr",
     "output_type": "stream",
     "text": [
      "\r",
      " 67%|██████▋   | 65/97 [00:05<00:03,  9.91it/s]"
     ]
    },
    {
     "name": "stdout",
     "output_type": "stream",
     "text": [
      "I'm doing the thing.\n",
      "bone-china-326\n",
      "I'm doing the thing.\n"
     ]
    },
    {
     "name": "stderr",
     "output_type": "stream",
     "text": [
      "\r",
      " 69%|██████▉   | 67/97 [00:06<00:03,  8.34it/s]"
     ]
    },
    {
     "name": "stdout",
     "output_type": "stream",
     "text": [
      "I'm doing the thing.\n",
      "bone-china-327\n",
      "I'm doing the thing.\n",
      "I'm doing the thing.\n",
      "bone-china-328\n",
      "I'm doing the thing.\n"
     ]
    },
    {
     "name": "stderr",
     "output_type": "stream",
     "text": [
      "\r",
      " 70%|███████   | 68/97 [00:06<00:03,  8.25it/s]"
     ]
    },
    {
     "name": "stdout",
     "output_type": "stream",
     "text": [
      "I'm doing the thing.\n",
      "bone-china-329\n",
      "I'm doing the thing.\n",
      "I'm doing the thing.\n",
      "bone-china-330\n",
      "I'm doing the thing.\n"
     ]
    },
    {
     "name": "stderr",
     "output_type": "stream",
     "text": [
      " 73%|███████▎  | 71/97 [00:06<00:03,  8.13it/s]"
     ]
    },
    {
     "name": "stdout",
     "output_type": "stream",
     "text": [
      "I'm doing the thing.\n",
      "bone-china-331\n",
      "I'm doing the thing.\n",
      "I'm doing the thing.\n",
      "bone-china-332\n",
      "I'm doing the thing.\n"
     ]
    },
    {
     "name": "stderr",
     "output_type": "stream",
     "text": [
      "\r",
      " 75%|███████▌  | 73/97 [00:06<00:02,  8.92it/s]"
     ]
    },
    {
     "name": "stdout",
     "output_type": "stream",
     "text": [
      "I'm doing the thing.\n",
      "bone-china-333\n",
      "I'm doing the thing.\n",
      "I'm doing the thing.\n",
      "bone-china-334\n",
      "I'm doing the thing.\n",
      "I'm doing the thing.\n",
      "bone-china-335\n",
      "I'm doing the thing.\n"
     ]
    },
    {
     "name": "stderr",
     "output_type": "stream",
     "text": [
      " 79%|███████▉  | 77/97 [00:07<00:01, 10.85it/s]"
     ]
    },
    {
     "name": "stdout",
     "output_type": "stream",
     "text": [
      "I'm doing the thing.\n",
      "bone-china-337\n",
      "I'm doing the thing.\n",
      "I'm doing the thing.\n",
      "bone-china-338\n",
      "I'm doing the thing.\n",
      "I'm doing the thing.\n",
      "bone-china-340\n",
      "I'm doing the thing.\n",
      "I'm doing the thing.\n",
      "bone-china-341\n",
      "I'm doing the thing.\n"
     ]
    },
    {
     "name": "stderr",
     "output_type": "stream",
     "text": [
      " 82%|████████▏ | 80/97 [00:07<00:01,  8.70it/s]"
     ]
    },
    {
     "name": "stdout",
     "output_type": "stream",
     "text": [
      "I'm doing the thing.\n",
      "bone-china-342\n",
      "I'm doing the thing.\n",
      "I'm doing the thing.\n",
      "bone-china-343\n",
      "I'm doing the thing.\n"
     ]
    },
    {
     "name": "stderr",
     "output_type": "stream",
     "text": [
      " 86%|████████▌ | 83/97 [00:07<00:01, 10.24it/s]"
     ]
    },
    {
     "name": "stdout",
     "output_type": "stream",
     "text": [
      "I'm doing the thing.\n",
      "bone-china-344\n",
      "I'm doing the thing.\n",
      "I'm doing the thing.\n",
      "bone-china-345\n",
      "I'm doing the thing.\n",
      "I'm doing the thing.\n",
      "bone-china-347\n",
      "I'm doing the thing.\n"
     ]
    },
    {
     "name": "stderr",
     "output_type": "stream",
     "text": [
      "\r",
      " 88%|████████▊ | 85/97 [00:08<00:01, 11.43it/s]"
     ]
    },
    {
     "name": "stdout",
     "output_type": "stream",
     "text": [
      "I'm doing the thing.\n",
      "bone-china-348\n",
      "I'm doing the thing.\n",
      "I'm doing the thing.\n",
      "bone-china-349\n",
      "I'm doing the thing.\n",
      "I'm doing the thing.\n",
      "bone-china-350\n",
      "I'm doing the thing.\n"
     ]
    },
    {
     "name": "stderr",
     "output_type": "stream",
     "text": [
      "\r",
      " 90%|████████▉ | 87/97 [00:08<00:00, 12.10it/s]"
     ]
    },
    {
     "name": "stdout",
     "output_type": "stream",
     "text": [
      "I'm doing the thing.\n",
      "bone-china-353\n",
      "I'm doing the thing.\n"
     ]
    },
    {
     "name": "stderr",
     "output_type": "stream",
     "text": [
      "\r",
      " 92%|█████████▏| 89/97 [00:08<00:00,  9.86it/s]"
     ]
    },
    {
     "name": "stdout",
     "output_type": "stream",
     "text": [
      "I'm doing the thing.\n",
      "bone-china-354\n",
      "I'm doing the thing.\n",
      "I'm doing the thing.\n",
      "bone-china-355\n",
      "I'm doing the thing.\n",
      "I'm doing the thing.\n",
      "bone-china-356\n",
      "I'm doing the thing.\n"
     ]
    },
    {
     "name": "stderr",
     "output_type": "stream",
     "text": [
      " 96%|█████████▌| 93/97 [00:08<00:00, 11.25it/s]"
     ]
    },
    {
     "name": "stdout",
     "output_type": "stream",
     "text": [
      "I'm doing the thing.\n",
      "bone-china-357\n",
      "I'm doing the thing.\n",
      "I'm doing the thing.\n",
      "bone-china-358\n",
      "I'm doing the thing.\n",
      "I'm doing the thing.\n",
      "bone-china-359\n",
      "I'm doing the thing.\n"
     ]
    },
    {
     "name": "stderr",
     "output_type": "stream",
     "text": [
      "\r",
      " 98%|█████████▊| 95/97 [00:09<00:00, 10.39it/s]"
     ]
    },
    {
     "name": "stdout",
     "output_type": "stream",
     "text": [
      "I'm doing the thing.\n",
      "bone-china-360\n",
      "I'm doing the thing.\n",
      "I'm doing the thing.\n",
      "bone-china-361\n",
      "I'm doing the thing.\n"
     ]
    },
    {
     "name": "stderr",
     "output_type": "stream",
     "text": [
      "100%|██████████| 97/97 [00:09<00:00, 10.51it/s]\n"
     ]
    },
    {
     "name": "stdout",
     "output_type": "stream",
     "text": [
      "I'm doing the thing.\n",
      "bone-china-362\n",
      "I'm doing the thing.\n",
      "I'm doing the thing.\n",
      "Training: 678\n",
      "Validation: 191\n",
      "Testing: 93\n",
      "External: 97\n"
     ]
    }
   ],
   "source": [
    "import uuid\n",
    "result = Result.query.filter(Result.uuid == UUIDS[0]).first()\n",
    "print(result.uuid)\n",
    "print(result.split_seed)\n",
    "train_set, validation_set, test_set, external_set = data(seed=uuid.UUID(result.split_seed), label_form=result.label_form, input_form=result.input_form, train_shuffle=False, test_shuffle=False, validation_shuffle=False, train_augment=False, validation_augment=False, test_augment=False)"
   ]
  },
  {
   "cell_type": "code",
   "execution_count": 54,
   "metadata": {
    "scrolled": true
   },
   "outputs": [],
   "source": [
    "MODALITIES = [\n",
    "    \"features\",     \n",
    "    \"t2-sn\",\n",
    "    \"t2-sp\",\n",
    "    #\"t1c\",\n",
    "    \"t1-sn\",\n",
    "    \"t1-sp\",\n",
    "    \"ensemble\" \n",
    "]\n",
    "\n",
    "MODALITY_KEY = {\n",
    "    \"features\": \"Clinical\",     \n",
    "    \"t1\": \"T1\", \n",
    "    \"t1c\": \"T1C\",\n",
    "    \"t2\": \"T2\", \n",
    "    #\"t1-sensitive\": \"T1C Sensitive\", \n",
    "    #\"t2-sensitive\": \"T2WI Sensitive\",     \n",
    "    #\"t1-specific\": \"T1C Specific\", \n",
    "    #\"t2-specific\": \"T2WI Specific\",         \n",
    "    \"ensemble\": \"Ensemble\", \n",
    "}\n",
    "\n",
    "def get_pr_data_for_modality(dataset, comparison_models=[]): \n",
    "    results = list()\n",
    "    points = list()\n",
    "    for modality in MODALITIES: \n",
    "        labels = dataset[\"{}-labels\".format(modality)]\n",
    "        probabilities = dataset[\"{}-probabilities\".format(modality)]\n",
    "        predictions = dataset[\"{}-predictions\".format(modality)]\n",
    "        print(modality, len(labels), len(probabilities), len(predictions))\n",
    "        acc = accuracy_score(labels, predictions)\n",
    "        precision, recall, _ = precision_recall_curve(labels, probabilities)\n",
    "        pr_auc = auc(recall, precision)\n",
    "        stats = calculate_confusion_matrix_stats_predictions(labels, predictions)\n",
    "        points.append({\n",
    "            \"modality\": \"{} (auc={:.2f}, acc={:.2f})\".format(MODALITY_KEY[modality], pr_auc, acc),\n",
    "            \"precision\": stats[\"PPV\"][1],\n",
    "            \"recall\": stats[\"TPR\"][1],\n",
    "        })\n",
    "        for p, r in zip(precision, recall): \n",
    "            results.append({ \"precision\": p, \"recall\": r, \"modality\": \"{} (auc={:.2f}, acc={:.2f})\".format(MODALITY_KEY[modality], pr_auc, acc)})\n",
    "    for probabilities in comparison_models: \n",
    "        modality = \"Radiomics\"\n",
    "        labels = dataset[\"t1-labels\"]\n",
    "        predictions = [p > 0.5 for p in probabilities]\n",
    "        print(modality, len(labels), len(probabilities), len(predictions))\n",
    "        precision, recall, _ = precision_recall_curve(labels, probabilities)\n",
    "        pr_auc = auc(recall, precision)\n",
    "        stats = calculate_confusion_matrix_stats_predictions(labels, predictions)\n",
    "        acc = accuracy_score(labels, predictions)\n",
    "        points.append({\n",
    "            \"modality\": \"{} (auc={:.2f}, acc={:.2f})\".format(MODALITY_KEY[modality], pr_auc, acc),\n",
    "            \"precision\": stats[\"PPV\"][1],\n",
    "            \"recall\": stats[\"TPR\"][1],\n",
    "        })\n",
    "        for p, r in zip(precision, recall): \n",
    "            results.append({ \"precision\": p, \"recall\": r, \"modality\": \"{} (auc={:.2f}, acc={:.2f})\".format(MODALITY_KEY[modality], pr_auc, acc)})           \n",
    "    return results, pr_auc, []\n",
    "        \n",
    "def plot_multiple_precision_recall(dataset, experts=[], comparison_models=[]):\n",
    "    results, auc, points = get_pr_data_for_modality(dataset, comparison_models)        \n",
    "    if len(experts) > 0:\n",
    "        for i, expert in enumerate(experts): \n",
    "            labels = dataset[\"t1-labels\"]\n",
    "            predictions = expert\n",
    "            stats = calculate_confusion_matrix_stats_predictions(labels, predictions)\n",
    "            acc = accuracy_score(labels, predictions)\n",
    "            points.append({\n",
    "                \"precision\": stats[\"PPV\"][1],\n",
    "                \"recall\": stats[\"TPR\"][1],                \n",
    "                \"experts\": \"Expert {} (acc={:.2f})\".format(i + 1, acc), \n",
    "            })\n",
    "    fig, ax = plt.subplots()\n",
    "    seaborn.lineplot(\n",
    "        data=pandas.DataFrame(results),\n",
    "        x=\"recall\",\n",
    "        y=\"precision\",\n",
    "        hue=\"modality\",\n",
    "        ax=ax, \n",
    "        err_style=None,\n",
    "    )\n",
    "    if points: \n",
    "        seaborn.scatterplot(\n",
    "            data=pandas.DataFrame(points),\n",
    "            x=\"recall\",\n",
    "            y=\"precision\",\n",
    "            hue=\"experts\",\n",
    "            style=\"experts\",                        \n",
    "            markers=[\"o\", \"v\", \"s\", \"P\"],\n",
    "            palette={ p[\"experts\"]: \"black\" for p in points },            \n",
    "            ax=ax,\n",
    "        )\n",
    "    ax.set_ylim(0.5, 1.04)\n",
    "    ax.set_xlim(-0.04, 1.02)\n",
    "    ax.legend(bbox_to_anchor=(1.05, 1), loc=2, borderaxespad=0.)\n",
    "    return fig\n",
    "\n",
    "def get_roc_data_for_modality(dataset, comparison_models=[]): \n",
    "    results = list()\n",
    "    points = list()\n",
    "    for modality in MODALITIES: \n",
    "        labels = dataset[\"{}-labels\".format(modality)]\n",
    "        probabilities = dataset[\"{}-probabilities\".format(modality)]\n",
    "        predictions = dataset[\"{}-predictions\".format(modality)]\n",
    "        fpr, tpr, _ = roc_curve(labels, probabilities, drop_intermediate=False)\n",
    "        roc_auc = roc_auc_score(labels, probabilities)\n",
    "        stats = calculate_confusion_matrix_stats_predictions(labels, predictions)\n",
    "        acc = accuracy_score(labels, predictions)\n",
    "        points.append({\n",
    "            \"modality\": \"{} (auc={:.2f}, acc={:.2f})\".format(MODALITY_KEY[modality], roc_auc, acc),\n",
    "            \"fpr\": stats[\"FPR\"][1],\n",
    "            \"tpr\": stats[\"TPR\"][1],\n",
    "        })\n",
    "        for f, t in zip(fpr, tpr): \n",
    "            results.append({ \"fpr\": f, \"tpr\": t, \"modality\": \"{} (auc={:.2f}, acc={:.2f})\".format(MODALITY_KEY[modality], roc_auc, acc)})\n",
    "    for probabilities in comparison_models: \n",
    "        modality = \"Radiomics\"\n",
    "        labels = dataset[\"t1-labels\"]\n",
    "        predictions = [p > 0.5 for p in probabilities]\n",
    "        fpr, tpr, _ = roc_curve(labels, probabilities, drop_intermediate=False)\n",
    "        roc_auc = roc_auc_score(labels, probabilities)\n",
    "        stats = calculate_confusion_matrix_stats_predictions(labels, predictions)\n",
    "        acc = accuracy_score(labels, predictions)\n",
    "        points.append({\n",
    "            \"modality\": \"{} (auc={:.2f}, acc={:.2f})\".format(MODALITY_KEY[modality], roc_auc, acc),\n",
    "            \"fpr\": stats[\"FPR\"][1],\n",
    "            \"tpr\": stats[\"TPR\"][1],\n",
    "        })\n",
    "        for f, t in zip(fpr, tpr): \n",
    "            results.append({ \"fpr\": f, \"tpr\": t, \"modality\": \"{} (auc={:.2f}, acc={:.2f})\".format(MODALITY_KEY[modality], roc_auc, acc)})        \n",
    "    return results, roc_auc, []\n",
    "        \n",
    "def plot_multiple_roc_curve(dataset, experts=[], comparison_models=[]):\n",
    "    results, auc, points = get_roc_data_for_modality(dataset)\n",
    "    if len(experts) > 0:\n",
    "        for i, expert in enumerate(experts):\n",
    "            labels = dataset[\"t2-labels\"]\n",
    "            predictions = expert\n",
    "            stats = calculate_confusion_matrix_stats_predictions(labels, predictions)\n",
    "            acc = accuracy_score(labels, predictions)\n",
    "            if i < 3:\n",
    "                points.append({\n",
    "                              \"fpr\": stats[\"FPR\"][1],\n",
    "                              \"tpr\": stats[\"TPR\"][1],\n",
    "                              \"experts\": \"Expert {} (acc={:.2f})\".format(i + 1, acc),\n",
    "                              })\n",
    "            else:\n",
    "                points.append({\n",
    "                              \"fpr\": stats[\"FPR\"][1],\n",
    "                              \"tpr\": stats[\"TPR\"][1],\n",
    "                              \"experts\": \"Committee (acc={:.2f})\".format(acc),\n",
    "                              })\n",
    "    fig, ax = plt.subplots()\n",
    "    seaborn.lineplot(\n",
    "                     data=pandas.DataFrame(results),\n",
    "                     x=\"fpr\",\n",
    "                     y=\"tpr\",\n",
    "                     hue=\"modality\",\n",
    "                     ax=ax,\n",
    "                     style=\"modality\",\n",
    "                     err_style=None,\n",
    "                     )\n",
    "    if points:\n",
    "        seaborn.scatterplot(\n",
    "                         data=pandas.DataFrame(points),\n",
    "                         x=\"fpr\",\n",
    "                         y=\"tpr\",\n",
    "                         hue=\"experts\",\n",
    "                         style=\"experts\",\n",
    "                         ax=ax,\n",
    "                         markers=[\"o\", \"v\", \"s\", \"P\"],#, \"P\"],\n",
    "                         palette={ p[\"experts\"]: \"black\" for p in points },\n",
    "                         )\n",
    "    ax.plot([0, 1], [0, 1], linestyle='--', color='#929c95')\n",
    "    ax.set_ylim(-0.04, 1.04)\n",
    "    ax.set_xlim(-0.04, 1.02)\n",
    "    handles, labels = ax.get_legend_handles_labels()\n",
    "    # the below loops remove the labels and handles given by the hue argument for the modalities and experts\n",
    "    toRemove = set()\n",
    "    newLabels = []\n",
    "    newHandles = []\n",
    "    for idx, lab in enumerate(labels):\n",
    "        if lab == \"modality\" or lab == \"experts\":\n",
    "            toRemove.add(idx)\n",
    "        else:\n",
    "            newLabels.append(lab)\n",
    "    for idx, hand in enumerate(handles):\n",
    "        if idx not in toRemove:\n",
    "            newHandles.append(hand)\n",
    "    ax.xaxis.set_minor_locator(MultipleLocator(.05))\n",
    "    ax.yaxis.set_minor_locator(MultipleLocator(.05))\n",
    "    for tick in ax.xaxis.get_major_ticks():\n",
    "        tick.label1.set_fontsize(12)\n",
    "        tick.label1.set_fontweight('bold')\n",
    "    for tick in ax.yaxis.get_major_ticks():\n",
    "        tick.label1.set_fontsize(12)\n",
    "        tick.label1.set_fontweight('bold')\n",
    "\n",
    "    plt.xlabel('False Positive Rate', fontsize=12, fontweight='bold')\n",
    "    plt.ylabel('True Positive Rate', fontsize=12, fontweight='bold')\n",
    "    fig.suptitle('External Testing ROC Curve', fontsize=16, fontweight='bold', y= .93)\n",
    "    plt.rcParams[\"axes.labelsize\"] = 29\n",
    "    ax.legend(frameon=False, handles=newHandles, labels=newLabels)\n",
    "    return fig\n",
    "\n",
    "def get_statistics(dataset, experts=[]):#, comparison_models=[]): \n",
    "    results = list()\n",
    "    for modality in MODALITIES: \n",
    "        labels = dataset[\"{}-labels\".format(modality)]\n",
    "        probabilities = dataset[\"{}-probabilities\".format(modality)]\n",
    "        predictions = dataset[\"{}-predictions\".format(modality)]\n",
    "        roc_auc = roc_auc_score(labels, probabilities)\n",
    "        precision, recall, _ = precision_recall_curve(labels, probabilities)\n",
    "        pr_auc = auc(recall, precision)\n",
    "        f1 = f1_score(labels, predictions)\n",
    "        d = {\n",
    "            \"F1 Score\": [f1, f1],            \n",
    "            \"ROC AUC\": [roc_auc, roc_auc], \n",
    "            \"PR AUC\": [pr_auc, pr_auc],\n",
    "            **calculate_confusion_matrix_stats_predictions(labels, predictions), \n",
    "            \"Modality\": [modality.capitalize(), modality.capitalize()], \n",
    "            \"Total\": [len(labels), len(labels)], \n",
    "            \"Malignant\": [len([l for l in labels if l]), len([l for l in labels if l])], \n",
    "            \"Benign\": [len([l for l in labels if not l]), len([l for l in labels if not l])], \n",
    "        } \n",
    "        # remove more that are not relevant to imbalanced datasets\n",
    "        del d[\"TP\"]\n",
    "        del d[\"TN\"]\n",
    "        del d[\"FN\"]\n",
    "        del d[\"FP\"]    \n",
    "        del d[\"AM\"]        \n",
    "        del d[\"GM\"]\n",
    "        del d[\"FPR\"]\n",
    "        del d[\"FNR\"]\n",
    "        d[\"Acc (95% CI)\"] = [\"\", \"{:.2f} ({:.2f}-{:.2f})\".format(d[\"Acc\"][1], *adjusted_wald(d[\"Acc\"][1], len(labels)))]\n",
    "        d[\"TPR (95% CI)\"] = [\"\", \"{:.2f} ({:.2f}-{:.2f})\".format(d[\"TPR\"][1], *adjusted_wald(d[\"TPR\"][1], len([l for l in labels if l])))]\n",
    "        d[\"TNR (95% CI)\"] = [\"\", \"{:.2f} ({:.2f}-{:.2f})\".format(d[\"TNR\"][1], *adjusted_wald(d[\"TNR\"][1], len([l for l in labels if not l])))]\n",
    "        results.append(pandas.DataFrame(d).iloc[[1]])\n",
    "    for i, expert in enumerate(experts): \n",
    "        labels = dataset[\"ensemble-labels\"]\n",
    "        predictions = expert\n",
    "        f1 = f1_score(labels, predictions)        \n",
    "        d = {\n",
    "            \"F1 Score\": [f1, f1],            \n",
    "            **calculate_confusion_matrix_stats_predictions(labels, predictions),             \n",
    "            \"Modality\": [\"Expert {}\".format(i + 1), \"Expert {}\".format(i + 1)], \n",
    "            \"Total\": [len(labels), len(labels)], \n",
    "            \"Malignant\": [len([l for l in labels if l]), len([l for l in labels if l])], \n",
    "            \"Benign\": [len([l for l in labels if not l]), len([l for l in labels if not l])],             \n",
    "        }\n",
    "        # remove more that are not relevant to imbalanced datasets (remove from article too)\n",
    "        del d[\"TP\"]\n",
    "        del d[\"TN\"]\n",
    "        del d[\"FN\"]\n",
    "        del d[\"FP\"]               \n",
    "        del d[\"AM\"]        \n",
    "        del d[\"GM\"]\n",
    "        del d[\"FPR\"]\n",
    "        del d[\"FNR\"]        \n",
    "        d[\"Acc (95% CI)\"] = [\"\", \"{:.2f} ({:.2f}-{:.2f})\".format(d[\"Acc\"][1], *adjusted_wald(d[\"Acc\"][1], len(labels)))]\n",
    "        d[\"TPR (95% CI)\"] = [\"\", \"{:.2f} ({:.2f}-{:.2f})\".format(d[\"TPR\"][1], *adjusted_wald(d[\"TPR\"][1], len([l for l in labels if l])))]\n",
    "        d[\"TNR (95% CI)\"] = [\"\", \"{:.2f} ({:.2f}-{:.2f})\".format(d[\"TNR\"][1], *adjusted_wald(d[\"TNR\"][1], len([l for l in labels if not l])))]        \n",
    "        results.append(pandas.DataFrame(d).iloc[[1]])\n",
    "    #for probabilities in comparison_models: \n",
    "        #labels = dataset[\"ensemble-labels\"]\n",
    "        #predictions = [p > 0.5 for p in probabilities]\n",
    "        #roc_auc = roc_auc_score(labels, probabilities)\n",
    "        #precision, recall, _ = precision_recall_curve(labels, probabilities)\n",
    "        #pr_auc = auc(recall, precision)\n",
    "        #f1 = f1_score(labels, predictions)\n",
    "        #d = {\n",
    "        #    \"F1 Score\": [f1, f1],            \n",
    "        #    \"ROC AUC\": [roc_auc, roc_auc], \n",
    "        #    \"PR AUC\": [pr_auc, pr_auc],\n",
    "        #    **calculate_confusion_matrix_stats_predictions(labels, predictions), \n",
    "        #    \"Modality\": [\"Radiomics\", \"Radiomics\"], \n",
    "        #    \"Total\": [len(labels), len(labels)], \n",
    "        #    \"Malignant\": [len([l for l in labels if l]), len([l for l in labels if l])], \n",
    "        #    \"Benign\": [len([l for l in labels if not l]), len([l for l in labels if not l])],             \n",
    "        #} \n",
    "        # remove more that are not relevant to imbalanced datasets (remove from article too)\n",
    "        #del d[\"TP\"]\n",
    "        #del d[\"TN\"]\n",
    "        #del d[\"FN\"]\n",
    "        #del d[\"FP\"]         \n",
    "        #del d[\"AM\"]        \n",
    "        #del d[\"GM\"]\n",
    "        #del d[\"FPR\"]\n",
    "        #del d[\"FNR\"]\n",
    "        #d[\"Acc (95% CI)\"] = [\"\", \"{:.2f} ({:.2f}-{:.2f})\".format(d[\"Acc\"][1], *adjusted_wald(d[\"Acc\"][1], len(labels)))]\n",
    "        #d[\"TPR (95% CI)\"] = [\"\", \"{:.2f} ({:.2f}-{:.2f})\".format(d[\"TPR\"][1], *adjusted_wald(d[\"TPR\"][1], len([l for l in labels if l])))]\n",
    "        #d[\"TNR (95% CI)\"] = [\"\", \"{:.2f} ({:.2f}-{:.2f})\".format(d[\"TNR\"][1], *adjusted_wald(d[\"TNR\"][1], len([l for l in labels if not l])))]        \n",
    "        #results.append(pandas.DataFrame(d).iloc[[1]])\n",
    "\n",
    "    return pandas.concat(results, axis=0, sort=False).set_index(\"Modality\")\n",
    "\n",
    "def get_experts_for_names(features, names, experts=[\"expert1\"], transform=int, default=0): \n",
    "    result = list()\n",
    "    for e in experts: \n",
    "        expert_results = list()\n",
    "        for n in names:\n",
    "            f = features.get(n, None)\n",
    "            if f is None: \n",
    "                print(\"error, cannot find {}\".format(n))\n",
    "                expert_results.append(default)\n",
    "                continue\n",
    "            r = f.get(e, default)\n",
    "            r = transform(r)\n",
    "            expert_results.append(r)\n",
    "        result.append(expert_results)\n",
    "    print(result)\n",
    "    return result"
   ]
  },
  {
   "cell_type": "code",
   "execution_count": 55,
   "metadata": {
    "scrolled": false
   },
   "outputs": [
    {
     "name": "stdout",
     "output_type": "stream",
     "text": [
      "\n",
      "##### Train\n",
      "\n",
      "| Modality   |   F1 Score |   ROC AUC |   PR AUC |   PPV |   NPV |    FDR | Acc (95% CI)     | TPR (95% CI)     | TNR (95% CI)     |\n",
      "|:-----------|-----------:|----------:|---------:|------:|------:|-------:|:-----------------|:-----------------|:-----------------|\n",
      "| Clinical   |      0.647 |     0.749 |    0.699 | 0.682 | 0.701 | 0.318  | 0.69 (0.66-0.73) | 0.62 (0.56-0.67) | 0.76 (0.71-0.80) |\n",
      "| T2-sn      |      0.959 |     0.997 |    0.996 | 0.925 | 0.997 | 0.0754 | 0.96 (0.94-0.97) | 1.00 (0.98-1.00) | 0.93 (0.90-0.95) |\n",
      "| T2-sp      |      0.974 |     1.00  |    1.00  | 1.00  | 0.959 | 0.00   | 0.98 (0.96-0.99) | 0.95 (0.92-0.97) | 1.00 (0.99-1.00) |\n",
      "| T1-sn      |      0.994 |     1.00  |    1.00  | 0.988 | 1.00  | 0.0123 | 0.99 (0.98-1.00) | 1.00 (0.99-1.00) | 0.99 (0.97-1.00) |\n",
      "| T1-sp      |      0.939 |     0.995 |    0.995 | 0.986 | 0.919 | 0.0137 | 0.95 (0.93-0.96) | 0.90 (0.86-0.93) | 0.99 (0.97-1.00) |\n",
      "| Ensemble   |      0.992 |     1.00  |    1.00  | 0.984 | 1.00  | 0.0159 | 0.99 (0.98-1.00) | 1.00 (0.99-1.00) | 0.99 (0.97-1.00) |\n",
      "\n",
      "##### Validation\n",
      "\n",
      "| Modality   |   F1 Score |   ROC AUC |   PR AUC |   PPV |   NPV |   FDR | Acc (95% CI)     | TPR (95% CI)     | TNR (95% CI)     |\n",
      "|:-----------|-----------:|----------:|---------:|------:|------:|------:|:-----------------|:-----------------|:-----------------|\n",
      "| Clinical   |      0.658 |     0.790 |    0.740 | 0.707 | 0.716 | 0.293 | 0.71 (0.64-0.77) | 0.62 (0.51-0.71) | 0.79 (0.70-0.86) |\n",
      "| T2-sn      |      0.705 |     0.753 |    0.663 | 0.613 | 0.805 | 0.387 | 0.69 (0.62-0.75) | 0.83 (0.74-0.90) | 0.57 (0.48-0.66) |\n",
      "| T2-sp      |      0.600 |     0.747 |    0.689 | 0.726 | 0.679 | 0.274 | 0.69 (0.63-0.75) | 0.51 (0.41-0.61) | 0.84 (0.76-0.90) |\n",
      "| T1-sn      |      0.667 |     0.716 |    0.602 | 0.580 | 0.753 | 0.420 | 0.65 (0.58-0.71) | 0.78 (0.69-0.86) | 0.54 (0.44-0.63) |\n",
      "| T1-sp      |      0.637 |     0.709 |    0.605 | 0.725 | 0.701 | 0.275 | 0.71 (0.64-0.77) | 0.57 (0.46-0.67) | 0.82 (0.74-0.89) |\n",
      "| Ensemble   |      0.721 |     0.799 |    0.756 | 0.594 | 0.879 | 0.406 | 0.68 (0.61-0.74) | 0.92 (0.84-0.96) | 0.49 (0.39-0.58) |\n",
      "error, cannot find bone-brown-90\n",
      "error, cannot find bone-brown-90\n",
      "error, cannot find bone-brown-90\n",
      "error, cannot find bone-brown-90\n",
      "[[0, 0, 0, 0, 1, 0, 1, 1, 0, 1, 0, 1, 1, 1, 1, 1, 1, 1, 0, 0, 1, 1, 0, 1, 1, 1, 1, 1, 1, 1, 1, 1, 1, 0, 1, 1, 0, 0, 0, 0, 0, 1, 1, 0, 0, 1, 0, 0, 0, 0, 0, 0, 0, 0, 1, 1, 1, 0, 1, 1, 1, 0, 1, 0, 1, 1, 1, 1, 1, 1, 1, 0, 1, 1, 1, 1, 1, 1, 0, 1, 0, 0, 0, 1, 0, 0, 0, 0, 0, 1, 0, 0, 1], [0, 0, 1, 1, 1, 0, 1, 0, 0, 1, 0, 1, 0, 0, 0, 1, 1, 0, 1, 0, 1, 1, 1, 1, 1, 1, 1, 1, 1, 1, 0, 1, 1, 0, 0, 1, 0, 0, 0, 0, 0, 0, 1, 1, 0, 1, 0, 0, 0, 0, 0, 0, 0, 0, 1, 1, 1, 0, 1, 1, 1, 1, 1, 1, 1, 1, 1, 1, 1, 1, 1, 0, 1, 0, 1, 1, 1, 1, 1, 1, 0, 0, 1, 1, 1, 0, 0, 0, 0, 0, 0, 1, 1], [0, 0, 0, 0, 0, 0, 1, 1, 0, 0, 0, 0, 1, 0, 0, 0, 0, 1, 1, 0, 1, 1, 1, 0, 1, 1, 1, 1, 0, 1, 1, 1, 1, 0, 0, 0, 0, 0, 0, 0, 1, 0, 0, 0, 0, 1, 0, 1, 0, 0, 1, 0, 0, 0, 1, 0, 0, 0, 1, 0, 0, 1, 0, 0, 0, 1, 0, 1, 0, 1, 1, 0, 0, 0, 0, 1, 1, 1, 0, 1, 1, 0, 1, 0, 0, 0, 0, 0, 0, 1, 0, 0, 1], [0, 0, 0, 0, 1, 0, 1, 1, 0, 1, 0, 1, 1, 0, 0, 1, 1, 1, 1, 0, 1, 1, 1, 1, 1, 1, 1, 1, 1, 1, 1, 1, 1, 0, 0, 1, 0, 0, 0, 0, 0, 0, 1, 0, 0, 1, 0, 0, 0, 0, 0, 0, 0, 0, 1, 1, 1, 0, 1, 1, 1, 1, 1, 0, 1, 1, 1, 1, 1, 1, 1, 0, 1, 0, 1, 1, 1, 1, 0, 1, 0, 0, 1, 1, 0, 0, 0, 0, 0, 1, 0, 0, 1]]\n",
      "\n",
      "##### Test\n",
      "\n",
      "| Modality   |   F1 Score |   ROC AUC |   PR AUC |   PPV |   NPV |   FDR | Acc (95% CI)     | TPR (95% CI)     | TNR (95% CI)     |\n",
      "|:-----------|-----------:|----------:|---------:|------:|------:|------:|:-----------------|:-----------------|:-----------------|\n",
      "| Clinical   |       0.62 |      0.73 |     0.73 |  0.67 |  0.68 |  0.33 | 0.68 (0.58-0.76) | 0.57 (0.42-0.71) | 0.76 (0.63-0.86) |\n",
      "| T2-sn      |       0.67 |      0.70 |     0.67 |  0.58 |  0.75 |  0.42 | 0.65 (0.54-0.74) | 0.79 (0.64-0.89) | 0.53 (0.40-0.66) |\n",
      "| T2-sp      |       0.45 |      0.62 |     0.59 |  0.60 |  0.60 |  0.40 | 0.60 (0.50-0.70) | 0.36 (0.23-0.51) | 0.80 (0.67-0.89) |\n",
      "| T1-sn      |       0.63 |      0.64 |     0.54 |  0.56 |  0.69 |  0.44 | 0.61 (0.51-0.71) | 0.71 (0.56-0.83) | 0.53 (0.40-0.66) |\n",
      "| T1-sp      |       0.42 |      0.56 |     0.49 |  0.50 |  0.57 |  0.50 | 0.55 (0.45-0.65) | 0.36 (0.23-0.51) | 0.71 (0.57-0.81) |\n",
      "| Ensemble   |       0.66 |      0.74 |     0.69 |  0.54 |  0.77 |  0.46 | 0.60 (0.50-0.70) | 0.86 (0.72-0.94) | 0.39 (0.27-0.53) |\n",
      "| Expert 1   |       0.77 |    N/A    |   N/A    |  0.69 |  0.85 |  0.31 | 0.76 (0.67-0.84) | 0.86 (0.72-0.94) | 0.69 (0.55-0.80) |\n",
      "| Expert 2   |       0.74 |    N/A    |   N/A    |  0.66 |  0.82 |  0.34 | 0.73 (0.63-0.81) | 0.83 (0.69-0.92) | 0.65 (0.51-0.76) |\n",
      "| Expert 3   |       0.52 |    N/A    |   N/A    |  0.57 |  0.62 |  0.43 | 0.60 (0.50-0.70) | 0.48 (0.33-0.62) | 0.71 (0.57-0.81) |\n",
      "| Expert 4   |       0.73 |    N/A    |   N/A    |  0.67 |  0.81 |  0.33 | 0.73 (0.63-0.81) | 0.81 (0.66-0.90) | 0.67 (0.53-0.78) |\n",
      "\n",
      "##### External\n",
      "\n",
      "| Modality   |   F1 Score |   ROC AUC |   PR AUC |   PPV |   NPV |   FDR | Acc (95% CI)     | TPR (95% CI)     | TNR (95% CI)     |\n",
      "|:-----------|-----------:|----------:|---------:|------:|------:|------:|:-----------------|:-----------------|:-----------------|\n",
      "| Clinical   |      0.494 |     0.604 |    0.581 | 0.500 | 0.661 | 0.500 | 0.60 (0.50-0.69) | 0.49 (0.34-0.64) | 0.67 (0.54-0.78) |\n",
      "| T2-sn      |      0.667 |     0.729 |    0.637 | 0.574 | 0.814 | 0.426 | 0.68 (0.58-0.77) | 0.79 (0.64-0.89) | 0.60 (0.47-0.72) |\n",
      "| T2-sp      |      0.486 |     0.679 |    0.543 | 0.514 | 0.661 | 0.486 | 0.61 (0.51-0.70) | 0.46 (0.32-0.61) | 0.71 (0.58-0.81) |\n",
      "| T1-sn      |      0.539 |     0.611 |    0.455 | 0.480 | 0.681 | 0.520 | 0.58 (0.48-0.67) | 0.62 (0.46-0.75) | 0.55 (0.42-0.67) |\n",
      "| T1-sp      |      0.317 |     0.604 |    0.439 | 0.417 | 0.603 | 0.583 | 0.56 (0.46-0.65) | 0.26 (0.14-0.41) | 0.76 (0.63-0.85) |\n",
      "| Ensemble   |      0.653 |     0.725 |    0.547 | 0.532 | 0.829 | 0.468 | 0.64 (0.54-0.73) | 0.85 (0.70-0.93) | 0.50 (0.38-0.62) |\n"
     ]
    }
   ],
   "source": [
    "expert_features = all_features(files = [\"experts.csv\"])\n",
    "#for n in test_set.names:\n",
    "    #print(n)\n",
    "#comparison_model_features = all_features(files=[\"features/comparison-models.csv\"])\n",
    "df = get_statistics(train)#, get_experts_for_names(expert_features, train_set.names))#, get_experts_for_names(comparison_model_features, train_set.names, experts=[\"radiomics\"], transform=float))\n",
    "df = df.drop(['Acc', \"TPR\", \"TNR\", \"Total\", \"Malignant\", \"Benign\"], axis=1)\n",
    "print()\n",
    "print(\"##### Train\")\n",
    "print()\n",
    "print(tabulate(df, tablefmt=\"pipe\", headers=\"keys\", floatfmt=\"#.3g\").replace(\"nan\", \"N/A\").replace(\"Features\", \"Clinical\"))\n",
    "df = get_statistics(validation)#, get_experts_for_names(expert_features, validation_set.names))#, get_experts_for_names(comparison_model_features, validation_set.names, experts=[\"radiomics\"], transform=float))\n",
    "df = df.drop(['Acc', \"TPR\", \"TNR\", \"Total\", \"Malignant\", \"Benign\"], axis=1)\n",
    "print()\n",
    "print(\"##### Validation\")\n",
    "print()\n",
    "print(tabulate(df, tablefmt=\"pipe\", headers=\"keys\", floatfmt=\"#.3g\").replace(\"nan\", \"N/A\").replace(\"Features\", \"Clinical\"))\n",
    "df = get_statistics((test), get_experts_for_names(expert_features, test_set.names, experts=[\"expert1\", \"expert2\", \"expert3\", \"committee\"]))#, get_experts_for_names(comparison_model_features, test_set.names, experts=[\"radiomics\"], transform=float))\n",
    "df = df.drop(['Acc', \"TPR\", \"TNR\", \"Total\", \"Malignant\", \"Benign\"], axis=1)\n",
    "print()\n",
    "print(\"##### Test\")\n",
    "print()\n",
    "print(tabulate(df, tablefmt=\"pipe\", headers=\"keys\", floatfmt=\"#.2g\").replace(\"nan\", \"N/A\").replace(\"Features\", \"Clinical\"))\n",
    "df = get_statistics(external)#, get_experts_for_names(expert_features, validation_set.names))#, get_experts_for_names(comparison_model_features, validation_set.names, experts=[\"radiomics\"], transform=float))\n",
    "df = df.drop(['Acc', \"TPR\", \"TNR\", \"Total\", \"Malignant\", \"Benign\"], axis=1)\n",
    "print()\n",
    "print(\"##### External\")\n",
    "print()\n",
    "print(tabulate(df, tablefmt=\"pipe\", headers=\"keys\", floatfmt=\"#.3g\").replace(\"nan\", \"N/A\").replace(\"Features\", \"Clinical\"))\n",
    "\n",
    "#df = get_statistics(test_1, get_experts_for_names(expert_features, test_set.names, experts=[\"expert1\", \"expert2\", \"expert3\", \"expert4\"]), get_experts_for_names(comparison_model_features, test_set.names, experts=[\"radiomics\"], transform=float))\n",
    "#test_1_statistics = df\n",
    "#df = df.drop(['Acc', \"TPR\", \"TNR\", \"Total\", \"Malignant\", \"Benign\"], axis=1)\n",
    "#print()\n",
    "#print(\"##### Test 1\")\n",
    "#print()\n",
    "#print(tabulate(df, tablefmt=\"pipe\", headers=\"keys\", floatfmt=\"#.2g\").replace(\"nan\", \"N/A\").replace(\"Features\", \"Clinical\"))\n",
    "#df = get_statistics(test_2, get_experts_for_names(expert_features, test_set.names, experts=[\"expert1\", \"expert2\", \"expert3\", \"expert4\"]), get_experts_for_names(comparison_model_features, test_set.names, experts=[\"radiomics\"], transform=float))\n",
    "#test_2_statistics = df\n",
    "#df = df.drop(['Acc', \"TPR\", \"TNR\", \"Total\", \"Malignant\", \"Benign\"], axis=1)\n",
    "#print()\n",
    "#print(\"##### Test 2\")\n",
    "#print()\n",
    "#print(tabulate(df, tablefmt=\"pipe\", headers=\"keys\", floatfmt=\"#.2g\").replace(\"nan\", \"N/A\").replace(\"Features\", \"Clinical\"))\n"
   ]
  },
  {
   "cell_type": "code",
   "execution_count": 14,
   "metadata": {},
   "outputs": [],
   "source": [
    "cross_validation_statistics = {\n",
    " 'F1 Score': 0.88,\n",
    " 'ROC AUC': 0.6243243243243244,\n",
    " 'PR AUC': 0.90,\n",
    " 'Acc': 0.80,\n",
    " 'TPR': 0.96,\n",
    " 'TNR': 0.22,\n",
    " 'PPV': 0.896551724137931,\n",
    " 'NPV': 0.3888888888888889,\n",
    " 'FDR': 0.10344827586206896,\n",
    " 'Total': 47,\n",
    " 'Malignant': 37,\n",
    " 'Benign': 10,\n",
    " 'Acc (95% CI)': '0.70 (0.56-0.81)',\n",
    " 'TPR (95% CI)': '0.70 (0.54-0.83)',\n",
    " 'TNR (95% CI)': '0.70 (0.39-0.90)'\n",
    "}"
   ]
  },
  {
   "cell_type": "code",
   "execution_count": 29,
   "metadata": {},
   "outputs": [
    {
     "ename": "NameError",
     "evalue": "name 'test_1_statistics' is not defined",
     "output_type": "error",
     "traceback": [
      "\u001b[0;31m---------------------------------------------------------------------------\u001b[0m",
      "\u001b[0;31mNameError\u001b[0m                                 Traceback (most recent call last)",
      "\u001b[0;32m<ipython-input-29-de514bd6d83b>\u001b[0m in \u001b[0;36m<module>\u001b[0;34m\u001b[0m\n\u001b[1;32m     69\u001b[0m     \u001b[0mt2_statistics\u001b[0m\u001b[0;34m=\u001b[0m\u001b[0mformat_AUC_statistics\u001b[0m\u001b[0;34m(\u001b[0m\u001b[0mdict\u001b[0m\u001b[0;34m(\u001b[0m\u001b[0mtest_statistics\u001b[0m\u001b[0;34m.\u001b[0m\u001b[0mloc\u001b[0m\u001b[0;34m[\u001b[0m\u001b[0;34m\"T2\"\u001b[0m\u001b[0;34m]\u001b[0m\u001b[0;34m)\u001b[0m\u001b[0;34m)\u001b[0m\u001b[0;34m,\u001b[0m\u001b[0;34m\u001b[0m\u001b[0m\n\u001b[1;32m     70\u001b[0m     \u001b[0mensemble_statistics\u001b[0m\u001b[0;34m=\u001b[0m\u001b[0mformat_AUC_statistics\u001b[0m\u001b[0;34m(\u001b[0m\u001b[0mdict\u001b[0m\u001b[0;34m(\u001b[0m\u001b[0mtest_statistics\u001b[0m\u001b[0;34m.\u001b[0m\u001b[0mloc\u001b[0m\u001b[0;34m[\u001b[0m\u001b[0;34m\"Ensemble\"\u001b[0m\u001b[0;34m]\u001b[0m\u001b[0;34m)\u001b[0m\u001b[0;34m)\u001b[0m\u001b[0;34m,\u001b[0m\u001b[0;34m\u001b[0m\u001b[0m\n\u001b[0;32m---> 71\u001b[0;31m     \u001b[0mensemble_1_statistics\u001b[0m\u001b[0;34m=\u001b[0m\u001b[0mformat_AUC_statistics\u001b[0m\u001b[0;34m(\u001b[0m\u001b[0mdict\u001b[0m\u001b[0;34m(\u001b[0m\u001b[0mtest_1_statistics\u001b[0m\u001b[0;34m.\u001b[0m\u001b[0mloc\u001b[0m\u001b[0;34m[\u001b[0m\u001b[0;34m\"Ensemble\"\u001b[0m\u001b[0;34m]\u001b[0m\u001b[0;34m)\u001b[0m\u001b[0;34m)\u001b[0m\u001b[0;34m,\u001b[0m\u001b[0;34m\u001b[0m\u001b[0m\n\u001b[0m\u001b[1;32m     72\u001b[0m     \u001b[0mensemble_2_statistics\u001b[0m\u001b[0;34m=\u001b[0m\u001b[0mformat_AUC_statistics\u001b[0m\u001b[0;34m(\u001b[0m\u001b[0mdict\u001b[0m\u001b[0;34m(\u001b[0m\u001b[0mtest_2_statistics\u001b[0m\u001b[0;34m.\u001b[0m\u001b[0mloc\u001b[0m\u001b[0;34m[\u001b[0m\u001b[0;34m\"Ensemble\"\u001b[0m\u001b[0;34m]\u001b[0m\u001b[0;34m)\u001b[0m\u001b[0;34m)\u001b[0m\u001b[0;34m,\u001b[0m\u001b[0;34m\u001b[0m\u001b[0m\n\u001b[1;32m     73\u001b[0m     \u001b[0mcross_validation_statistics\u001b[0m\u001b[0;34m=\u001b[0m\u001b[0mformat_AUC_statistics\u001b[0m\u001b[0;34m(\u001b[0m\u001b[0mcross_validation_statistics\u001b[0m\u001b[0;34m)\u001b[0m\u001b[0;34m,\u001b[0m\u001b[0;34m\u001b[0m\u001b[0m\n",
      "\u001b[0;31mNameError\u001b[0m: name 'test_1_statistics' is not defined"
     ]
    }
   ],
   "source": [
    "CI_text = \"\"\"{value:.2g} (95% CI: {low:.2g}-{high:.2g})\"\"\"\n",
    "\n",
    "statistics_text = \"\"\"test accuracy of {accuracy}, F1 score of {f1:.2g}, and sensitivity of {sensitivity}, and specificity of {specificity}\"\"\"\n",
    "def format_statistics(data):\n",
    "    acc_low, acc_high = adjusted_wald(data[\"Acc\"], data[\"Total\"])\n",
    "    tpr_low, tpr_high = adjusted_wald(data[\"TPR\"], data[\"Malignant\"])\n",
    "    tnr_low, tnr_high = adjusted_wald(data[\"TNR\"], data[\"Benign\"])\n",
    "    data_dict = {\n",
    "        \"accuracy\": CI_text.format(value=data[\"Acc\"], low=acc_low, high=acc_high),\n",
    "        \"sensitivity\": CI_text.format(value=data[\"TPR\"], low=tpr_low, high=tpr_high),\n",
    "        \"specificity\": CI_text.format(value=data[\"TNR\"], low=tnr_low, high=tnr_high),\n",
    "        \"f1\": data[\"F1 Score\"],\n",
    "    }\n",
    "    return statistics_text.format(**data_dict)\n",
    "\n",
    "statistics_AUC_text = \"\"\"test accuracy of {accuracy}, F1 score of {f1:.2g}, precision recall AUC of {PR_AUC:.2g}, sensitivity of {sensitivity}, and specificity of {specificity}\"\"\"\n",
    "def format_AUC_statistics(data):\n",
    "    acc_low, acc_high = adjusted_wald(data[\"Acc\"], data[\"Total\"])\n",
    "    tpr_low, tpr_high = adjusted_wald(data[\"TPR\"], data[\"Malignant\"])\n",
    "    tnr_low, tnr_high = adjusted_wald(data[\"TNR\"], data[\"Benign\"])\n",
    "    data_dict = {\n",
    "        \"accuracy\": CI_text.format(value=data[\"Acc\"], low=acc_low, high=acc_high),\n",
    "        \"sensitivity\": CI_text.format(value=data[\"TPR\"], low=tpr_low, high=tpr_high),\n",
    "        \"specificity\": CI_text.format(value=data[\"TNR\"], low=tnr_low, high=tnr_high),\n",
    "        \"f1\": data[\"F1 Score\"],\n",
    "        \"PR_AUC\": data[\"PR AUC\"],\n",
    "    }\n",
    "    return statistics_AUC_text.format(**data_dict)\n",
    "\n",
    "comparison_text =\"\"\"{accuracy_judge} test accuracy ({accuracy_1:.2g} vs. {accuracy_2:.2g}, p={accuracy_p:.2g}), {sensitivity_judge} test sensitivity ({sensitivity_1:.2g} vs. {sensitivity_2:.2g}, p={sensitivity_p:.2g}) and {specificity_judge} test specificity ({specificity_1:.2g} vs. {specificity_2:.2g}, p={specificity_p:.2g})\"\"\"\n",
    "def format_comparison_text(data_1, data_2):\n",
    "    data_dict = {\n",
    "        \"accuracy_judge\": \"higher\" if data_1[\"Acc\"] > data_2[\"Acc\"] else \"lower\",\n",
    "        \"sensitivity_judge\": \"higher\" if data_1[\"TPR\"] > data_2[\"TPR\"] else \"lower\",\n",
    "        \"specificity_judge\": \"higher\" if data_1[\"TNR\"] > data_2[\"TNR\"] else \"lower\",\n",
    "        \"accuracy_1\": data_1[\"Acc\"],\n",
    "        \"specificity_1\": data_1[\"TNR\"],\n",
    "        \"sensitivity_1\": data_1[\"TPR\"],\n",
    "        \"accuracy_2\": data_2[\"Acc\"],\n",
    "        \"specificity_2\": data_2[\"TNR\"],\n",
    "        \"sensitivity_2\": data_2[\"TPR\"],\n",
    "        \"accuracy_p\": binom_test(int(data_1[\"Acc\"] * data_1[\"Total\"]), data_1[\"Total\"], data_2[\"Acc\"]),\n",
    "        \"specificity_p\": binom_test(int(data_1[\"TNR\"] * data_1[\"Benign\"]), data_1[\"Benign\"], data_2[\"TNR\"]),\n",
    "        \"sensitivity_p\": binom_test(int(data_1[\"TPR\"] * data_1[\"Malignant\"]), data_1[\"Malignant\"], data_2[\"TPR\"]),\n",
    "    }\n",
    "    return comparison_text.format(**data_dict)\n",
    "\n",
    "results_text = \"\"\"\n",
    "## Model performance\n",
    "The train, validation and test sets were balanced in terms of age, gender, tumor size, tumor laterality, tumor location, histologic diagnosis, and institution (Supplemental table S1).\n",
    "\n",
    "Performance characteristics of the clinical variable logistic regression, models trained on T1C and T2WI images, and the final ensemble model in test set are summarized in Table 2. Performance characteristics in training and validation sets are summarized in Supplemental table S2. The clinical variable logistic regression achieved a {logistic_regression_statistics}.\n",
    "\n",
    "The T1C trained model achieved a {t1_statistics}. The T2WI trained model achieved a {t2_statistics}. The ensemble model achieved a {ensemble_statistics}. The ensemble model achieved comparative performance on the second set of test set segmentations with a {ensemble_1_statistics} and the third set of test set segmentation with a {ensemble_2_statistics} (Supplemental table S3). On average, cross validation analysis of the ensemble model demonstrated a {cross_validation_statistics}. Supplemental table S4 summarizes the cross-validation performance of the ensemble model.\n",
    "\n",
    "In comparison, expert 1 achieved a {expert_1_statistics}; expert 2 had a {expert_2_statistics}; expert 3 had a {expert_3_statistics}; expert 4 had a {expert_4_statistics}. Radiomics model achieved a {radiomics_statistics} (Supplemental table S5).\n",
    "\n",
    "CONFIRM THE BELOW PARAGRAPH IS STILL TRUE\n",
    "\n",
    "Compared to all experts averaged, the ensemble deep learning model had {ensemble_vs_experts}, COMMENT although none of these statistics was significantly different. Compared to the radiomics model, the ensemble deep learning model had {ensemble_vs_radiomics}; COMMENT difference in accuracy was not significant but differences in sensitivity and specificity between radiomics and ensemble deep learning models were significant. Compared to all experts averaged, the radiomics model had {radiomics_vs_experts}; COMMENT difference in accuracy was not significant, but differences in sensitivity and specificity between radiomics and averaged expert performance metrics were significant. Figure 2 shows the precision recall curves of all models overlaid with expert performance.\n",
    "\n",
    "Grad-Cam focus maps demonstrate that for the correctly classified images by our model, the algorithm was more likely to focus on the lesion or part of the lesion deemed important by the radiologists, while focus was more likely to be on the surrounding tissue for the incorrectly classified lesions (Figure 3). t-SNE representation of the final dense layer of ResNet demonstrates good separation of malignant and benign lesions by the model when compared to histopathological diagnosis (Figure 4).\n",
    "\n",
    "\"\"\"\n",
    "\n",
    "print(results_text.format(\n",
    "    logistic_regression_statistics=format_AUC_statistics(dict(test_statistics.loc[\"Features\"])),\n",
    "    t1_statistics=format_AUC_statistics(dict(test_statistics.loc[\"T1\"])),\n",
    "    t2_statistics=format_AUC_statistics(dict(test_statistics.loc[\"T2\"])),\n",
    "    ensemble_statistics=format_AUC_statistics(dict(test_statistics.loc[\"Ensemble\"])),\n",
    "    ensemble_1_statistics=format_AUC_statistics(dict(test_1_statistics.loc[\"Ensemble\"])),\n",
    "    ensemble_2_statistics=format_AUC_statistics(dict(test_2_statistics.loc[\"Ensemble\"])),\n",
    "    cross_validation_statistics=format_AUC_statistics(cross_validation_statistics),\n",
    "    expert_1_statistics=format_statistics(dict(test_statistics.loc[\"Expert 1\"])),\n",
    "    expert_2_statistics=format_statistics(dict(test_statistics.loc[\"Expert 2\"])),\n",
    "    expert_3_statistics=format_statistics(dict(test_statistics.loc[\"Expert 3\"])),\n",
    "    expert_4_statistics=format_statistics(dict(test_statistics.loc[\"Expert 4\"])),\n",
    "    radiomics_statistics=format_statistics(dict(test_statistics.loc[\"Radiomics\"])),\n",
    "    ensemble_vs_experts=format_comparison_text(dict(test_statistics.loc[\"Ensemble\"]), dict(test_statistics.loc[[\"Expert 1\", \"Expert 2\", \"Expert 3\", \"Expert 4\"]].mean())),\n",
    "    ensemble_vs_radiomics=format_comparison_text(dict(test_statistics.loc[\"Ensemble\"]), dict(test_statistics.loc[\"Radiomics\"])),\n",
    "    radiomics_vs_experts=format_comparison_text(dict(test_statistics.loc[\"Radiomics\"]), dict(test_statistics.loc[[\"Expert 1\", \"Expert 2\", \"Expert 3\", \"Expert 4\"]].mean())),\n",
    "))"
   ]
  },
  {
   "cell_type": "code",
   "execution_count": null,
   "metadata": {},
   "outputs": [],
   "source": [
    "results_text = \"\"\"\n",
    "## Inter-segmenter agreement\n",
    "\n",
    "The average DSC among our three segmenters was {dice_average}. Segmenter 1 and 2 had an average DSC of {dice_1_2}. Segmenter 2 and 3 had an average DSC of {dice_2_3}. Segmenter 1 and 3 had an average DSC of {dice_1_3}. Benign lesions had an average DSC of {dice_benign} across all reviewers, while malignant lesions had an average DSC of {dice_malignant} across all reviewers. \n",
    "\n",
    "## Model performance\n",
    "The train, validation and test sets were balanced in terms of age, gender, tumor size, tumor laterality, tumor location, histologic diagnosis, and institution (Supplemental table S1). \n",
    "\n",
    "Performance characteristics of the clinical variable logistic regression, models trained on T1C and T2WI images, and the final ensemble model in test set are summarized in Table 2. Performance characteristics in training and validation sets are summarized in Supplemental table S2. The clinical variable logistic regression achieved a test accuracy of {regression_accuracy}, F1 score of {regression_F1}, precision recall AUC of {regression_PR_AUC}, sensitivity of {regression_sensitivity}, and specificity of {regression_specificity}. \n",
    "\n",
    "The T1C trained model achieved a test accuracy of {t1c_accuracy}, F1 score of {t1c_f1}, precision recall AUC of {t1c_PR_AUC}, sensitivity of 0.92 (95% CI: 0.78-0.98), and specificity of 0.50 (95% CI: 0.24-0.76). The T2WI trained model achieved a test accuracy of 0.83 (95% CI: 0.70-0.91), F1 score of 0.90, precision recall AUC of 0.92, sensitivity of 0.97 (95% CI: 0.84-1.00), and specificity of 0.30 (95% CI: 0.10-0.61). The ensemble model achieved a test accuracy of 0.89 (95% CI: 0.77-0.96), F1 score of 0.94, precision recall AUC of 0.90, sensitivity of 1.0 (95% CI: 0.88-1.00), and specificity of 0.50 (95% CI: 0.24-0.76). The ensemble model achieved comparative performance on the second set of test set segmentations with an accuracy of 0.81 (95% CI: 0.67-0.90), F1 score of 0.89, precision recall AUC of 0.89, sensitivity of 0.97 (95% CI: 0.84-1.00), and specificity of 0.20 (95% CI: 0.05-0.52) and the third set of test set segmentation with an accuracy of 0.81 (95% CI: 0.67-0.90), F1 score of 0.89, precision recall AUC of 0.83, sensitivity of 1.0 (95% CI: 0.88-1.00), and specificity of 0.10 (95% CI: 0.00-0.42) (Supplemental table S3). The average cross validation test accuracy was 0.80 (95% CI: 0.66-0.89) with average F1 score of 0.88, precision recall AUC of 0.90, sensitivity of 0.96 (95% CI: 0.83-1.00), and specificity of 0.22 (95% CI: 0.06-0.54). Supplemental table S4 summarizes the cross-validation performance of the ensemble model.\n",
    "\n",
    "In comparison, expert 1 achieved a test accuracy of 0.85 (95% CI: 0.72-0.92), F1 score of 0.91, and sensitivity of 1.0 (95% CI: 0.88-1.00), and specificity of 0.30 (95% CI: 0.10-0.61); expert 2 had a test accuracy of 0.79 (95% CI: 0.65-0.88), F1 score of 0.88, and sensitivity of 0.95 (95% CI: 0.82-1.00), and specificity of 0.20 (95% CI: 0.05-0.52); expert 3 had a test accuracy of 0.74 (95% CI: 0.60-0.84), F1 score of 0.73, sensitivity of 0.81 (95% CI: 0.65-0.90), and specificity of 0.50 (95% CI: 0.24-0.76); expert 4 had a test accuracy of 0.85 (95% CI: 0.72-0.93), F1 score of 0.91, and sensitivity of 0.92 (95% CI: 0.78 -0.98), and specificity of 0.60 (95% CI: 0.31-0.83). Radiomics model achieved a test accuracy of 0.78 (95% CI: 0.64-0.88), F1 score of 0.84, sensitivity of 0.76 (95% CI: 0.60-0.87), and specificity of 0.80 (95% CI: 0.47-0.95) (Supplemental table S5).\n",
    "\n",
    "Compared to all experts averaged, the ensemble deep learning model had higher test accuracy (0.89 vs. 0.81, p=0.32), higher test sensitivity (1.00 vs. 0.92, p=0.07) and higher test specificity (0.50 vs. 0.40, p=0.53), although none of these statistics was significantly different. Compared to the radiomics model, the ensemble deep learning model had higher test accuracy (0.89 vs. 0.77, p=0.12), higher test sensitivity (1.00 vs. 0.76, p<0.01) and lower test specificity (0.50 vs. 0.80, p=0.03); difference in accuracy was not significant but differences in sensitivity and specificity between radiomics and ensemble deep learning models were significant. Compared to all experts averaged, the radiomics model had lower test accuracy (0.77 vs. 0.81, p=0.61), lower test sensitivity (0.76 vs. 0.92, p=0.0021) and higher test specificity (0.80 vs. 0.40, p<0.01); difference in accuracy was not significant, but differences in sensitivity and specificity between radiomics and averaged expert performance metrics were significant. Figure 2 shows the precision recall curves of all models overlaid with expert performance. \n",
    "\n",
    "Grad-Cam focus maps demonstrate that for the correctly classified images by our model, the algorithm was more likely to focus on the lesion or part of the lesion deemed important by the radiologists, while focus was more likely to be on the surrounding tissue for the incorrectly classified lesions (Figure 3). t-SNE representation of the final dense layer of ResNet demonstrates good separation of malignant and benign lesions by the model when compared to histopathological diagnosis (Figure 4).\n",
    "\n",
    "\"\"\""
   ]
  },
  {
   "cell_type": "code",
   "execution_count": null,
   "metadata": {
    "scrolled": true
   },
   "outputs": [],
   "source": [
    "train"
   ]
  },
  {
   "cell_type": "code",
   "execution_count": 52,
   "metadata": {
    "scrolled": true
   },
   "outputs": [
    {
     "name": "stdout",
     "output_type": "stream",
     "text": [
      "[[0, 1, 1, 1, 1, 1, 1, 1, 1, 0, 0, 0, 0, 0, 0, 1, 1, 1, 0, 1, 0, 1, 1, 1, 1, 1, 1, 1, 1, 1, 0, 1, 0, 0, 1, 0, 0, 1, 0, 1, 1, 0, 1, 0, 1, 1, 1, 0, 0, 1, 0, 1, 1, 1, 1, 1, 0, 0, 0, 0, 1, 1, 0, 1, 1, 1, 0, 1, 1, 1, 0, 0, 0, 0, 0, 0, 0, 1, 0, 1, 1], [1, 0, 0, 1, 0, 1, 1, 1, 1, 1, 0, 0, 0, 0, 0, 1, 1, 1, 1, 1, 1, 1, 1, 1, 1, 1, 1, 1, 1, 1, 0, 1, 0, 1, 0, 0, 1, 1, 0, 1, 0, 0, 1, 0, 1, 0, 1, 1, 0, 1, 1, 1, 1, 1, 1, 1, 0, 0, 0, 0, 1, 1, 0, 1, 1, 1, 0, 0, 1, 1, 1, 0, 1, 1, 0, 0, 0, 0, 0, 1, 1], [0, 1, 0, 0, 1, 1, 0, 1, 1, 0, 0, 1, 0, 0, 0, 1, 1, 0, 1, 0, 0, 0, 1, 0, 1, 1, 0, 0, 1, 1, 1, 0, 0, 0, 0, 0, 0, 0, 0, 1, 1, 0, 0, 0, 0, 0, 0, 1, 0, 1, 1, 1, 1, 1, 0, 1, 0, 1, 0, 0, 0, 0, 0, 0, 1, 0, 0, 0, 1, 1, 0, 0, 1, 0, 0, 0, 0, 1, 0, 1, 0], [0, 1, 0, 1, 1, 1, 1, 1, 1, 0, 0, 0, 0, 0, 0, 1, 1, 1, 1, 1, 0, 1, 1, 1, 1, 1, 1, 1, 1, 1, 0, 1, 0, 0, 0, 0, 0, 1, 0, 1, 1, 0, 1, 0, 1, 0, 1, 1, 0, 1, 1, 1, 1, 1, 1, 1, 0, 0, 0, 0, 1, 1, 0, 1, 1, 1, 0, 0, 1, 1, 0, 0, 1, 0, 0, 0, 0, 1, 0, 1, 1]]\n"
     ]
    },
    {
     "ename": "KeyError",
     "evalue": "'t2-labels'",
     "output_type": "error",
     "traceback": [
      "\u001b[0;31m---------------------------------------------------------------------------\u001b[0m",
      "\u001b[0;31mKeyError\u001b[0m                                  Traceback (most recent call last)",
      "\u001b[0;32m<ipython-input-52-a084e88a74ad>\u001b[0m in \u001b[0;36m<module>\u001b[0;34m\u001b[0m\n\u001b[1;32m     16\u001b[0m \u001b[0mfig\u001b[0m\u001b[0;34m.\u001b[0m\u001b[0msavefig\u001b[0m\u001b[0;34m(\u001b[0m\u001b[0;34m\"figures/combined-test-roc.svg\"\u001b[0m\u001b[0;34m,\u001b[0m \u001b[0mbbox_inches\u001b[0m \u001b[0;34m=\u001b[0m \u001b[0;34m\"tight\"\u001b[0m\u001b[0;34m)\u001b[0m\u001b[0;34m\u001b[0m\u001b[0;34m\u001b[0m\u001b[0m\n\u001b[1;32m     17\u001b[0m \u001b[0;34m\u001b[0m\u001b[0m\n\u001b[0;32m---> 18\u001b[0;31m \u001b[0mfig\u001b[0m \u001b[0;34m=\u001b[0m \u001b[0mplot_multiple_roc_curve\u001b[0m\u001b[0;34m(\u001b[0m\u001b[0mexternal\u001b[0m\u001b[0;34m)\u001b[0m\u001b[0;34m\u001b[0m\u001b[0;34m\u001b[0m\u001b[0m\n\u001b[0m\u001b[1;32m     19\u001b[0m \u001b[0mfig\u001b[0m\u001b[0;34m.\u001b[0m\u001b[0msavefig\u001b[0m\u001b[0;34m(\u001b[0m\u001b[0;34m\"figures/combined-external-roc.svg\"\u001b[0m\u001b[0;34m,\u001b[0m \u001b[0mbbox_inches\u001b[0m \u001b[0;34m=\u001b[0m \u001b[0;34m\"tight\"\u001b[0m\u001b[0;34m)\u001b[0m\u001b[0;34m\u001b[0m\u001b[0;34m\u001b[0m\u001b[0m\n\u001b[1;32m     20\u001b[0m \u001b[0;31m#fig = plot_multiple_roc_curve(test_2, experts=get_experts_for_names(expert_features, test_set.names, experts=[\"expert1\", \"expert2\", \"expert3\", \"expert4\"]))#, comparison_models=get_experts_for_names(comparison_model_features, test_set.names, experts=['radiomics'], transform=float))\u001b[0m\u001b[0;34m\u001b[0m\u001b[0;34m\u001b[0m\u001b[0;34m\u001b[0m\u001b[0m\n",
      "\u001b[0;32m<ipython-input-49-971d6f6f8120>\u001b[0m in \u001b[0;36mplot_multiple_roc_curve\u001b[0;34m(dataset, experts, comparison_models)\u001b[0m\n\u001b[1;32m    130\u001b[0m \u001b[0;34m\u001b[0m\u001b[0m\n\u001b[1;32m    131\u001b[0m \u001b[0;32mdef\u001b[0m \u001b[0mplot_multiple_roc_curve\u001b[0m\u001b[0;34m(\u001b[0m\u001b[0mdataset\u001b[0m\u001b[0;34m,\u001b[0m \u001b[0mexperts\u001b[0m\u001b[0;34m=\u001b[0m\u001b[0;34m[\u001b[0m\u001b[0;34m]\u001b[0m\u001b[0;34m,\u001b[0m \u001b[0mcomparison_models\u001b[0m\u001b[0;34m=\u001b[0m\u001b[0;34m[\u001b[0m\u001b[0;34m]\u001b[0m\u001b[0;34m)\u001b[0m\u001b[0;34m:\u001b[0m\u001b[0;34m\u001b[0m\u001b[0;34m\u001b[0m\u001b[0m\n\u001b[0;32m--> 132\u001b[0;31m     \u001b[0mresults\u001b[0m\u001b[0;34m,\u001b[0m \u001b[0mauc\u001b[0m\u001b[0;34m,\u001b[0m \u001b[0mpoints\u001b[0m \u001b[0;34m=\u001b[0m \u001b[0mget_roc_data_for_modality\u001b[0m\u001b[0;34m(\u001b[0m\u001b[0mdataset\u001b[0m\u001b[0;34m)\u001b[0m\u001b[0;34m\u001b[0m\u001b[0;34m\u001b[0m\u001b[0m\n\u001b[0m\u001b[1;32m    133\u001b[0m     \u001b[0;32mif\u001b[0m \u001b[0mlen\u001b[0m\u001b[0;34m(\u001b[0m\u001b[0mexperts\u001b[0m\u001b[0;34m)\u001b[0m \u001b[0;34m>\u001b[0m \u001b[0;36m0\u001b[0m\u001b[0;34m:\u001b[0m\u001b[0;34m\u001b[0m\u001b[0;34m\u001b[0m\u001b[0m\n\u001b[1;32m    134\u001b[0m         \u001b[0;32mfor\u001b[0m \u001b[0mi\u001b[0m\u001b[0;34m,\u001b[0m \u001b[0mexpert\u001b[0m \u001b[0;32min\u001b[0m \u001b[0menumerate\u001b[0m\u001b[0;34m(\u001b[0m\u001b[0mexperts\u001b[0m\u001b[0;34m)\u001b[0m\u001b[0;34m:\u001b[0m\u001b[0;34m\u001b[0m\u001b[0;34m\u001b[0m\u001b[0m\n",
      "\u001b[0;32m<ipython-input-49-971d6f6f8120>\u001b[0m in \u001b[0;36mget_roc_data_for_modality\u001b[0;34m(dataset, comparison_models)\u001b[0m\n\u001b[1;32m     98\u001b[0m     \u001b[0mpoints\u001b[0m \u001b[0;34m=\u001b[0m \u001b[0mlist\u001b[0m\u001b[0;34m(\u001b[0m\u001b[0;34m)\u001b[0m\u001b[0;34m\u001b[0m\u001b[0;34m\u001b[0m\u001b[0m\n\u001b[1;32m     99\u001b[0m     \u001b[0;32mfor\u001b[0m \u001b[0mmodality\u001b[0m \u001b[0;32min\u001b[0m \u001b[0mMODALITIES\u001b[0m\u001b[0;34m:\u001b[0m\u001b[0;34m\u001b[0m\u001b[0;34m\u001b[0m\u001b[0m\n\u001b[0;32m--> 100\u001b[0;31m         \u001b[0mlabels\u001b[0m \u001b[0;34m=\u001b[0m \u001b[0mdataset\u001b[0m\u001b[0;34m[\u001b[0m\u001b[0;34m\"{}-labels\"\u001b[0m\u001b[0;34m.\u001b[0m\u001b[0mformat\u001b[0m\u001b[0;34m(\u001b[0m\u001b[0mmodality\u001b[0m\u001b[0;34m)\u001b[0m\u001b[0;34m]\u001b[0m\u001b[0;34m\u001b[0m\u001b[0;34m\u001b[0m\u001b[0m\n\u001b[0m\u001b[1;32m    101\u001b[0m         \u001b[0mprobabilities\u001b[0m \u001b[0;34m=\u001b[0m \u001b[0mdataset\u001b[0m\u001b[0;34m[\u001b[0m\u001b[0;34m\"{}-probabilities\"\u001b[0m\u001b[0;34m.\u001b[0m\u001b[0mformat\u001b[0m\u001b[0;34m(\u001b[0m\u001b[0mmodality\u001b[0m\u001b[0;34m)\u001b[0m\u001b[0;34m]\u001b[0m\u001b[0;34m\u001b[0m\u001b[0;34m\u001b[0m\u001b[0m\n\u001b[1;32m    102\u001b[0m         \u001b[0mpredictions\u001b[0m \u001b[0;34m=\u001b[0m \u001b[0mdataset\u001b[0m\u001b[0;34m[\u001b[0m\u001b[0;34m\"{}-predictions\"\u001b[0m\u001b[0;34m.\u001b[0m\u001b[0mformat\u001b[0m\u001b[0;34m(\u001b[0m\u001b[0mmodality\u001b[0m\u001b[0;34m)\u001b[0m\u001b[0;34m]\u001b[0m\u001b[0;34m\u001b[0m\u001b[0;34m\u001b[0m\u001b[0m\n",
      "\u001b[0;31mKeyError\u001b[0m: 't2-labels'"
     ]
    },
    {
     "data": {
      "image/png": "[encoded data removed]",
      "text/plain": [
       "<Figure size 432x288 with 1 Axes>"
      ]
     },
     "metadata": {},
     "output_type": "display_data"
    }
   ],
   "source": [
    "#fig = plot_multiple_precision_recall(train, experts=get_experts_for_names(expert_features, train_set.names))#, comparison_models=get_experts_for_names(comparison_model_features, train_set.names, experts=['radiomics'], transform=float))\n",
    "#fig.savefig(\"figures/combined-train-precision-recall.svg\", bbox_inches = \"tight\")\n",
    "#fig = plot_multiple_precision_recall(validation, experts=get_experts_for_names(expert_features, validation_set.names))#,  comparison_models=get_experts_for_names(comparison_model_features, validation_set.names, experts=['radiomics'], transform=float))\n",
    "#fig.savefig(\"figures/combined-validation-precision-recall.svg\", bbox_inches = \"tight\")\n",
    "#fig = plot_multiple_precision_recall(test, experts=get_experts_for_names(expert_features, test_set.names, experts=[\"expert1\"]))#, comparison_models=get_experts_for_names(comparison_model_features, test_set.names, experts=['radiomics'], transform=float))\n",
    "#fig.savefig(\"figures/combined-test-precision-recall.svg\", bbox_inches = \"tight\")\n",
    "#fig = plot_multiple_precision_recall(test_1, experts=get_experts_for_names(expert_features, test_set.names, experts=[\"expert1\", \"expert2\", \"expert3\", \"expert4\"]))#, comparison_models=get_experts_for_names(comparison_model_features, test_set.names, experts=['radiomics'], transform=float))\n",
    "#fig.savefig(\"figures/combined-test-1-precision-recall.svg\", bbox_inches = \"tight\")\n",
    "#fig = plot_multiple_precision_recall(test_2, experts=get_experts_for_names(expert_features, test_set.names, experts=[\"expert1\", \"expert2\", \"expert3\", \"expert4\"]))#, comparison_models=get_experts_for_names(comparison_model_features, test_set.names, experts=['radiomics'], transform=float))\n",
    "#fig.savefig(\"figures/combined-test-2-precision-recall.svg\", bbox_inches = \"tight\")\n",
    "#fig = plot_multiple_roc_curve(train, experts=get_experts_for_names(expert_features, train_set.names))#, comparison_models=get_experts_for_names(comparison_model_features, train_set.names, experts=['radiomics'], transform=float))\n",
    "#fig.savefig(\"figures/combined-train-roc.svg\", bbox_inches = \"tight\")\n",
    "#fig = plot_multiple_roc_curve(validation, experts=get_experts_for_names(expert_features, validation_set.names))#, comparison_models=get_experts_for_names(comparison_model_features, validation_set.names, experts=['radiomics'], transform=float))\n",
    "#fig.savefig(\"figures/combined-validation-roc.svg\", bbox_inches = \"tight\")\n",
    "fig = plot_multiple_roc_curve(test, experts=get_experts_for_names(expert_features, test_set.names, experts=[\"expert1\", \"expert2\", \"expert3\", \"committee\"]))#, comparison_models=get_experts_for_names(comparison_model_features, test_set.names, experts=['radiomics'], transform=float))\n",
    "fig.savefig(\"figures/combined-test-roc.svg\", bbox_inches = \"tight\")\n",
    "\n",
    "fig = plot_multiple_roc_curve(external)\n",
    "fig.savefig(\"figures/combined-external-roc.svg\", bbox_inches = \"tight\")\n",
    "#fig = plot_multiple_roc_curve(test_2, experts=get_experts_for_names(expert_features, test_set.names, experts=[\"expert1\", \"expert2\", \"expert3\", \"expert4\"]))#, comparison_models=get_experts_for_names(comparison_model_features, test_set.names, experts=['radiomics'], transform=float))\n",
    "#fig.savefig(\"figures/combined-test-2-roc.svg\", bbox_inches = \"tight\")"
   ]
  },
  {
   "cell_type": "code",
   "execution_count": 43,
   "metadata": {},
   "outputs": [],
   "source": [
    "def correct_num_for_modality(dataset, experts=[], comparison_models=[]): \n",
    "    results = list()\n",
    "    if len(experts) > 0:\n",
    "        for i, expert in enumerate(experts): \n",
    "            labels = dataset[\"t1-labels\"]\n",
    "            predictions = expert\n",
    "            correct = sum([ labels[i] == p for i, p in enumerate(predictions) ])\n",
    "            total = len(labels)\n",
    "            results.append({ \n",
    "                \"correct\": correct, \n",
    "                \"total\": total, \n",
    "                \"incorrect\": total-correct, \n",
    "                \"modality\": \"Expert {}\".format(i),\n",
    "                \"acc\": correct/total,                \n",
    "                \"wald\": adjusted_wald(correct/total, total),\n",
    "                **calculate_confusion_matrix_stats_predictions(labels, predictions),\n",
    "            })\n",
    "    for modality in MODALITIES: \n",
    "        labels = dataset[\"{}-labels\".format(modality)]\n",
    "        probabilities = dataset[\"{}-probabilities\".format(modality)]\n",
    "        predictions = dataset[\"{}-predictions\".format(modality)]\n",
    "        total = len(labels)\n",
    "        correct = sum([ labels[i] == p for i, p in enumerate(predictions) ])\n",
    "        results.append({ \n",
    "            \"correct\": correct, \n",
    "            \"total\": total, \n",
    "            \"incorrect\": total-correct, \n",
    "            \"modality\": MODALITY_KEY[modality],\n",
    "            \"acc\": correct/total,\n",
    "            \"wald\": adjusted_wald(correct/total, total),\n",
    "            **calculate_confusion_matrix_stats_predictions(labels, predictions),            \n",
    "        })        \n",
    "    for probabilities in comparison_models: \n",
    "        modality = \"Radiomics\"\n",
    "        labels = dataset[\"t1-labels\"]\n",
    "        predictions = [p > 0.5 for p in probabilities]\n",
    "        predictions = dataset[\"{}-predictions\".format(modality)]\n",
    "        total = len(labels)\n",
    "        correct = sum([ labels[i] == p for i, p in enumerate(predictions) ])\n",
    "        results.append({ \n",
    "            \"correct\": correct, \n",
    "            \"total\": total, \n",
    "            \"incorrect\": total-correct, \n",
    "            \"modality\": modality,\n",
    "            \"acc\": correct/total,\n",
    "            \"wald\": adjusted_wald(correct/total, total),\n",
    "            **calculate_confusion_matrix_stats_predictions(labels, predictions),            \n",
    "        })                \n",
    "    return results"
   ]
  },
  {
   "cell_type": "code",
   "execution_count": 45,
   "metadata": {},
   "outputs": [],
   "source": [
    "results = correct_num_for_modality(test, experts=get_experts_for_names(expert_features, test_set.names, experts=[\"expert1\", \"expert2\"]))#, comparison_models=get_experts_for_names(comparison_model_features, test_set.names, experts=['radiomics'], transform=float))"
   ]
  },
  {
   "cell_type": "code",
   "execution_count": 95,
   "metadata": {
    "scrolled": false
   },
   "outputs": [],
   "source": [
    "experts = get_experts_for_names(expert_features, test_set.names, experts=[\"committee\"])"
   ]
  },
  {
   "cell_type": "code",
   "execution_count": 96,
   "metadata": {},
   "outputs": [
    {
     "data": {
      "text/plain": [
       "[[1.0, 0.6627565982404693], [0.6627565982404693, 1.0]]"
      ]
     },
     "execution_count": 96,
     "metadata": {},
     "output_type": "execute_result"
    }
   ],
   "source": [
    "kappa_scores = list()\n",
    "for e in experts: \n",
    "    current = list()\n",
    "    for x in experts: \n",
    "        current.append(cohen_kappa_score(e, x))\n",
    "    kappa_scores.append(current)\n",
    "kappa_scores"
   ]
  },
  {
   "cell_type": "code",
   "execution_count": 48,
   "metadata": {},
   "outputs": [
    {
     "data": {
      "text/plain": [
       "<matplotlib.axes._subplots.AxesSubplot at 0x7f6dc2a0a7f0>"
      ]
     },
     "execution_count": 48,
     "metadata": {},
     "output_type": "execute_result"
    },
    {
     "data": {
      "image/png": "[encoded data removed]",
      "text/plain": [
       "<Figure size 432x288 with 2 Axes>"
      ]
     },
     "metadata": {},
     "output_type": "display_data"
    }
   ],
   "source": [
    "seaborn.heatmap(kappa_scores, annot=True, square=True, fmt=\".2f\", xticklabels=[\"1\", \"2\", \"3\", \"4\"], yticklabels=[\"1\", \"2\", \"3\", \"4\"])"
   ]
  },
  {
   "cell_type": "code",
   "execution_count": 49,
   "metadata": {},
   "outputs": [],
   "source": [
    "from itertools import combinations\n",
    "import numpy as np"
   ]
  },
  {
   "cell_type": "code",
   "execution_count": 50,
   "metadata": {},
   "outputs": [
    {
     "data": {
      "text/plain": [
       "0.6476868327402135"
      ]
     },
     "execution_count": 50,
     "metadata": {},
     "output_type": "execute_result"
    }
   ],
   "source": [
    "unique_kappa = list()\n",
    "for x, y in combinations(experts, 2): \n",
    "    unique_kappa.append(cohen_kappa_score(x, y))\n",
    "np.average(unique_kappa)"
   ]
  },
  {
   "cell_type": "code",
   "execution_count": 51,
   "metadata": {},
   "outputs": [],
   "source": [
    "def fleiss_kappa(ratings, n):\n",
    "    '''\n",
    "    Computes the Fleiss' kappa measure for assessing the reliability of \n",
    "    agreement between a fixed number n of raters when assigning categorical\n",
    "    ratings to a number of items.\n",
    "    \n",
    "    Args:\n",
    "        ratings: a list of (item, category)-ratings\n",
    "        n: number of raters\n",
    "        k: number of categories\n",
    "    Returns:\n",
    "        the Fleiss' kappa score\n",
    "    \n",
    "    See also:\n",
    "        http://en.wikipedia.org/wiki/Fleiss'_kappa\n",
    "    '''\n",
    "    items = set()\n",
    "    categories = set()\n",
    "    n_ij = {}\n",
    "    \n",
    "    for i, c in ratings:\n",
    "        items.add(i)\n",
    "        categories.add(c)\n",
    "        n_ij[(i,c)] = n_ij.get((i,c), 0) + 1\n",
    "    \n",
    "    N = len(items)\n",
    "    \n",
    "    p_j = dict(((c, sum(n_ij.get((i, c), 0) for i in items) / (1.0 * n * N)) for c in categories))\n",
    "    P_i = dict(((i, (sum(n_ij.get((i, c), 0) ** 2 for c in categories) - n) / (n * (n - 1.0))) for i in items))\n",
    "\n",
    "    P_bar = sum(P_i.values()) / (1.0 * N)\n",
    "    P_e_bar = sum(value ** 2 for value in p_j.values())\n",
    "    \n",
    "    kappa = (P_bar - P_e_bar) / (1 - P_e_bar)\n",
    "    \n",
    "    return kappa"
   ]
  },
  {
   "cell_type": "code",
   "execution_count": 52,
   "metadata": {},
   "outputs": [],
   "source": [
    "fleiss_kappa_array = list()\n",
    "for e in list(zip(*experts)): \n",
    "    for i in e: \n",
    "        fleiss_kappa_array.append((1, i))"
   ]
  },
  {
   "cell_type": "code",
   "execution_count": 53,
   "metadata": {},
   "outputs": [
    {
     "data": {
      "text/plain": [
       "-0.33333333333333326"
      ]
     },
     "execution_count": 53,
     "metadata": {},
     "output_type": "execute_result"
    }
   ],
   "source": [
    "fleiss_kappa(fleiss_kappa_array, 4)"
   ]
  },
  {
   "cell_type": "code",
   "execution_count": 54,
   "metadata": {},
   "outputs": [
    {
     "data": {
      "text/plain": [
       "[(1, 'yes'),\n",
       " (1, 'yes'),\n",
       " (1, 'yes'),\n",
       " (1, 'yes'),\n",
       " (1, 'yes'),\n",
       " (1, 'yes'),\n",
       " (1, 'yes'),\n",
       " (1, 'yes'),\n",
       " (1, 'yes'),\n",
       " (1, 'yes'),\n",
       " (2, 'yes'),\n",
       " (2, 'yes'),\n",
       " (2, 'yes'),\n",
       " (2, 'yes'),\n",
       " (2, 'yes'),\n",
       " (2, 'yes'),\n",
       " (2, 'yes'),\n",
       " (2, 'yes'),\n",
       " (2, 'no'),\n",
       " (2, 'no'),\n",
       " (3, 'yes'),\n",
       " (3, 'yes'),\n",
       " (3, 'yes'),\n",
       " (3, 'yes'),\n",
       " (3, 'yes'),\n",
       " (3, 'yes'),\n",
       " (3, 'yes'),\n",
       " (3, 'yes'),\n",
       " (3, 'yes'),\n",
       " (3, 'no'),\n",
       " (4, 'no'),\n",
       " (4, 'no'),\n",
       " (4, 'no'),\n",
       " (4, 'no'),\n",
       " (4, 'no'),\n",
       " (4, 'no'),\n",
       " (4, 'no'),\n",
       " (4, 'no'),\n",
       " (4, 'no'),\n",
       " (4, 'no'),\n",
       " (5, 'yes'),\n",
       " (5, 'yes'),\n",
       " (5, 'yes'),\n",
       " (5, 'yes'),\n",
       " (5, 'yes'),\n",
       " (5, 'yes'),\n",
       " (5, 'yes'),\n",
       " (5, 'no'),\n",
       " (5, 'no'),\n",
       " (5, 'no')]"
      ]
     },
     "execution_count": 54,
     "metadata": {},
     "output_type": "execute_result"
    }
   ],
   "source": [
    "ratings = [(1, 'yes')] * 10 + [(1, 'no')] * 0  + \\\n",
    "[(2, 'yes')] * 8  + [(2, 'no')] * 2  + \\\n",
    "[(3, 'yes')] * 9  + [(3, 'no')] * 1  + \\\n",
    "[(4, 'yes')] * 0  + [(4, 'no')] * 10 + \\\n",
    "[(5, 'yes')] * 7  + [(5, 'no')] * 3\n",
    "ratings"
   ]
  },
  {
   "cell_type": "code",
   "execution_count": 55,
   "metadata": {},
   "outputs": [
    {
     "ename": "TypeError",
     "evalue": "fleiss_kappa() missing 1 required positional argument: 'n'",
     "output_type": "error",
     "traceback": [
      "\u001b[0;31m---------------------------------------------------------------------------\u001b[0m",
      "\u001b[0;31mTypeError\u001b[0m                                 Traceback (most recent call last)",
      "\u001b[0;32m<ipython-input-55-40264f0e3261>\u001b[0m in \u001b[0;36m<module>\u001b[0;34m\u001b[0m\n\u001b[1;32m      1\u001b[0m \u001b[0mx\u001b[0m \u001b[0;34m=\u001b[0m \u001b[0mnp\u001b[0m\u001b[0;34m.\u001b[0m\u001b[0marray\u001b[0m\u001b[0;34m(\u001b[0m\u001b[0mexperts\u001b[0m\u001b[0;34m)\u001b[0m\u001b[0;34m.\u001b[0m\u001b[0mT\u001b[0m\u001b[0;34m\u001b[0m\u001b[0m\n\u001b[0;32m----> 2\u001b[0;31m \u001b[0mfleiss_kappa\u001b[0m\u001b[0;34m(\u001b[0m\u001b[0mx\u001b[0m\u001b[0;34m)\u001b[0m\u001b[0;34m\u001b[0m\u001b[0m\n\u001b[0m",
      "\u001b[0;31mTypeError\u001b[0m: fleiss_kappa() missing 1 required positional argument: 'n'"
     ]
    }
   ],
   "source": [
    "x = np.array(experts).T\n",
    "fleiss_kappa(x)"
   ]
  },
  {
   "cell_type": "code",
   "execution_count": null,
   "metadata": {},
   "outputs": [],
   "source": [
    "ensemble = results.pop()\n",
    "for r in results: \n",
    "    print(r[\"modality\"], fisher_exact([[ensemble[\"correct\"], r[\"correct\"]], [ensemble[\"incorrect\"], r[\"incorrect\"]]]))"
   ]
  },
  {
   "cell_type": "code",
   "execution_count": null,
   "metadata": {},
   "outputs": [],
   "source": [
    "results"
   ]
  },
  {
   "cell_type": "code",
   "execution_count": null,
   "metadata": {},
   "outputs": [],
   "source": []
  },
  {
   "cell_type": "code",
   "execution_count": null,
   "metadata": {},
   "outputs": [],
   "source": [
    "from IPython.display import HTML\n",
    "HTML('''<script>\n",
    "code_show=true; \n",
    "function code_toggle() {\n",
    " if (code_show){\n",
    " $('div.input').hide();\n",
    " } else {\n",
    " $('div.input').show();\n",
    " }\n",
    " code_show = !code_show\n",
    "} \n",
    "$( document ).ready(code_toggle);\n",
    "</script>\n",
    "The raw code for this IPython notebook is by default hidden for easier reading.\n",
    "To toggle on/off the raw code, click <a href=\"javascript:code_toggle()\">here</a>.''')"
   ]
  },
  {
   "cell_type": "code",
   "execution_count": null,
   "metadata": {},
   "outputs": [],
   "source": []
  },
  {
   "cell_type": "code",
   "execution_count": null,
   "metadata": {},
   "outputs": [],
   "source": []
  },
  {
   "cell_type": "code",
   "execution_count": null,
   "metadata": {},
   "outputs": [],
   "source": []
  },
  {
   "cell_type": "code",
   "execution_count": null,
   "metadata": {},
   "outputs": [],
   "source": []
  },
  {
   "cell_type": "code",
   "execution_count": null,
   "metadata": {},
   "outputs": [],
   "source": []
  }
 ],
 "metadata": {
  "kernelspec": {
   "display_name": "Python 3",
   "language": "python",
   "name": "python3"
  },
  "language_info": {
   "codemirror_mode": {
    "name": "ipython",
    "version": 3
   },
   "file_extension": ".py",
   "mimetype": "text/x-python",
   "name": "python",
   "nbconvert_exporter": "python",
   "pygments_lexer": "ipython3",
   "version": "3.8.5"
  }
 },
 "nbformat": 4,
 "nbformat_minor": 2
}
