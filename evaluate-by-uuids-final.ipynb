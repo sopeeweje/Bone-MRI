{
 "cells": [
  {
   "cell_type": "code",
   "execution_count": 17,
   "metadata": {
    "scrolled": true
   },
   "outputs": [
    {
     "name": "stdout",
     "output_type": "stream",
     "text": [
      "The autoreload extension is already loaded. To reload it, use:\n",
      "  %reload_ext autoreload\n"
     ]
    }
   ],
   "source": [
    "%load_ext autoreload\n",
    "%autoreload 2\n",
    "%matplotlib inline  \n",
    "from IPython.display import display, HTML, SVG\n",
    "from db import Result\n",
    "import papermill as pm\n",
    "import os\n",
    "import seaborn\n",
    "import pandas\n",
    "import matplotlib.pyplot as plt\n",
    "from collections import defaultdict \n",
    "from sklearn.metrics import auc, precision_recall_curve, roc_curve, confusion_matrix, roc_auc_score, roc_curve, f1_score, accuracy_score\n",
    "from sklearn.metrics import cohen_kappa_score\n",
    "from evaluate import calculate_confusion_matrix_stats_predictions, calculate_roc_curve, roc_auc_score\n",
    "from scipy.stats import binom_test, fisher_exact, chi2_contingency\n",
    "from tabulate import tabulate\n",
    "from calculate_features import all_features\n",
    "from config import config\n",
    "from data_gen import data\n",
    "plt.rcParams['svg.fonttype'] = 'none'"
   ]
  },
  {
   "cell_type": "code",
   "execution_count": 2,
   "metadata": {},
   "outputs": [],
   "source": [
    "SKIP = False\n",
    "UUIDS = [    \n",
    "     \"bb203f76-fc98-44ed-a8e6-2592c681457e\", # t2, outcome_pos\n",
    "     \"ec0a84dd-313b-44fc-9110-d72a62ee12a2\", # t1, outcome_pos\n",
    "     #\"7e946fc2-5f5d-46b8-94e6-c57ea02f32ad\", # t2, outcome_neg\n",
    "     #\"ba0de65e-7e2b-483f-b2ec-f41a39959e6d\" # t1, outcome_neg\n",
    "     #\"55fc2831-93df-4314-92d8-cfcedb2be91a\", # t2, outcome_3\n",
    "     #\"0edc5931-1fd4-4f3a-b296-f97fd308f299\", # t1, outcome_3\n",
    "]\n",
    "SELECTIONS = {\n",
    "     \"bb203f76-fc98-44ed-a8e6-2592c681457e\": None, #t2, outcome_pos\n",
    "     \"ec0a84dd-313b-44fc-9110-d72a62ee12a2\": None, # t1, outcome_pos\n",
    "     #\"7e946fc2-5f5d-46b8-94e6-c57ea02f32ad\": None, # t2, outcome_neg\n",
    "     #\"ba0de65e-7e2b-483f-b2ec-f41a39959e6d\": None, # t1, outcome_neg\n",
    "     #\"55fc2831-93df-4314-92d8-cfcedb2be91a\": None, # t2, outcome_3\n",
    "     #\"0edc5931-1fd4-4f3a-b296-f97fd308f299\": None, # t1, outcome_3\n",
    "}\n",
    "TSNE_PERPLEXITY = {\n",
    "    \"bb203f76-fc98-44ed-a8e6-2592c681457e\": 10, # t2, outcome_pos\n",
    "    \"ec0a84dd-313b-44fc-9110-d72a62ee12a2\": 10, # t1, outcome_pos\n",
    "    #\"7e946fc2-5f5d-46b8-94e6-c57ea02f32ad\": 10, # t2, outcome_neg\n",
    "    #\"ba0de65e-7e2b-483f-b2ec-f41a39959e6d\": 10, # t1, outcome_neg\n",
    "    #\"55fc2831-93df-4314-92d8-cfcedb2be91a\": 10, # t2, outcome_3\n",
    "    #\"0edc5931-1fd4-4f3a-b296-f97fd308f299\": 10, # t1, outcome_3\n",
    "}\n",
    "MODALITY = {\n",
    "    \"bb203f76-fc98-44ed-a8e6-2592c681457e\": \"t2\", # t2, outcome_pos\n",
    "    \"ec0a84dd-313b-44fc-9110-d72a62ee12a2\": \"t1\" # t1, outcome_pos\n",
    "    #\"7e946fc2-5f5d-46b8-94e6-c57ea02f32ad\": \"t2\", # t2, outcome_neg\n",
    "    #\"ba0de65e-7e2b-483f-b2ec-f41a39959e6d\": \"t1\", # t1, outcome_neg\n",
    "    #\"55fc2831-93df-4314-92d8-cfcedb2be91a\": \"t2\", # t2, outcome_3\n",
    "    #\"0edc5931-1fd4-4f3a-b296-f97fd308f299\": \"t1\", # t1, outcome_3\n",
    "}"
   ]
  },
  {
   "cell_type": "code",
   "execution_count": 3,
   "metadata": {},
   "outputs": [],
   "source": [
    "import math\n",
    "def adjusted_wald(p, n, z=1.96):\n",
    "    p_adj = (n * p + (z**2)/2)/(n+z**2)\n",
    "    n_adj = n + z**2\n",
    "    span = z * math.sqrt(p_adj*(1-p_adj)/n_adj)\n",
    "    return max(0, p_adj - span), min(p_adj + span, 1.0)"
   ]
  },
  {
   "cell_type": "code",
   "execution_count": 4,
   "metadata": {},
   "outputs": [],
   "source": [
    "def execute_notebook(uuid, selections=None, tsne_perplexity=5, input_form=\"none\", description=\"\"): \n",
    "    name = \"notebooks/evaluate-{}-{}-{}.ipynb\".format(description, input_form, uuid)\n",
    "    if not SKIP and not os.path.exists(name): \n",
    "        pm.execute_notebook(\n",
    "            \"evaluate-specific-model.ipynb\",\n",
    "            \"notebooks/evaluate-{}-{}-{}.ipynb\".format(description, input_form, uuid),\n",
    "            parameters = dict(\n",
    "                UUID=uuid,\n",
    "                SELECTIONS=repr(selections),\n",
    "                TSNE_PERPLEXITY=tsne_perplexity,\n",
    "            ),\n",
    "    )\n",
    "    return name"
   ]
  },
  {
   "cell_type": "code",
   "execution_count": 5,
   "metadata": {},
   "outputs": [],
   "source": [
    "completed_notebooks = list()\n",
    "modality_by_notebook = dict()"
   ]
  },
  {
   "cell_type": "code",
   "execution_count": 6,
   "metadata": {},
   "outputs": [
    {
     "name": "stdout",
     "output_type": "stream",
     "text": [
      "bb203f76-fc98-44ed-a8e6-2592c681457e\n",
      "done\n",
      "ec0a84dd-313b-44fc-9110-d72a62ee12a2\n",
      "done\n"
     ]
    }
   ],
   "source": [
    "for uuid in UUIDS: \n",
    "    print(uuid)\n",
    "    result = Result.query.filter(Result.uuid == uuid).first()\n",
    "    name = execute_notebook(uuid, SELECTIONS.get(uuid), TSNE_PERPLEXITY.get(uuid), result.input_form, result.description)\n",
    "    completed_notebooks.append(name)\n",
    "    modality_by_notebook[name] = MODALITY[uuid]\n",
    "    print(\"done\")"
   ]
  },
  {
   "cell_type": "code",
   "execution_count": 7,
   "metadata": {},
   "outputs": [
    {
     "data": {
      "text/plain": [
       "{'notebooks/evaluate-t1-t2-verified_trial1-t2-bb203f76-fc98-44ed-a8e6-2592c681457e.ipynb': 't2',\n",
       " 'notebooks/evaluate-t1-t2-verified_trial1-t1-ec0a84dd-313b-44fc-9110-d72a62ee12a2.ipynb': 't1'}"
      ]
     },
     "execution_count": 7,
     "metadata": {},
     "output_type": "execute_result"
    }
   ],
   "source": [
    "modality_by_notebook"
   ]
  },
  {
   "cell_type": "code",
   "execution_count": 8,
   "metadata": {},
   "outputs": [],
   "source": [
    "if not SKIP and not os.path.exists(name): \n",
    "    name = \"notebooks/evaluate-ensemble-{}.ipynb\".format(\"-\".join(UUIDS))\n",
    "    pm.execute_notebook(\n",
    "        \"evaluate-ensemble.ipynb\",\n",
    "        \"notebooks/evaluate-ensemble-{}.ipynb\".format(\"-\".join(UUIDS)),\n",
    "        parameters = dict(\n",
    "            MODELS=UUIDS,\n",
    "            SCORE=\"accuracy\",\n",
    "        ),\n",
    "    )\n",
    "completed_notebooks.append(\"notebooks/evaluate-ensemble-{}.ipynb\".format(\"-\".join(UUIDS)))"
   ]
  },
  {
   "cell_type": "code",
   "execution_count": 9,
   "metadata": {},
   "outputs": [],
   "source": [
    "modality_by_notebook[\"notebooks/evaluate-ensemble-{}.ipynb\".format(\"-\".join(UUIDS))] = \"ensemble\""
   ]
  },
  {
   "cell_type": "code",
   "execution_count": 10,
   "metadata": {},
   "outputs": [],
   "source": [
    "def get_notebook_output(notebook, name): \n",
    "    return (notebook.dataframe[notebook.dataframe.name==name].value.tolist())[0]"
   ]
  },
  {
   "cell_type": "code",
   "execution_count": 11,
   "metadata": {},
   "outputs": [],
   "source": [
    "train = dict()\n",
    "validation = dict()\n",
    "test = dict()\n",
    "test_1 = dict()\n",
    "test_2 = dict()\n",
    "for notebook in completed_notebooks: \n",
    "    nb = pm.read_notebook(notebook)\n",
    "    train[\"{}-{}\".format(modality_by_notebook[notebook], \"labels\")] = get_notebook_output(nb, \"train_labels\")\n",
    "    train[\"{}-{}\".format(modality_by_notebook[notebook], \"predictions\")] = get_notebook_output(nb, \"train_predictions\")\n",
    "    train[\"{}-{}\".format(modality_by_notebook[notebook], \"probabilities\")] = get_notebook_output(nb, \"train_probabilities\")\n",
    "    validation[\"{}-{}\".format(modality_by_notebook[notebook], \"labels\")] = get_notebook_output(nb, \"validation_labels\")\n",
    "    validation[\"{}-{}\".format(modality_by_notebook[notebook], \"predictions\")] = get_notebook_output(nb, \"validation_predictions\")\n",
    "    validation[\"{}-{}\".format(modality_by_notebook[notebook], \"probabilities\")] = get_notebook_output(nb, \"validation_probabilities\")\n",
    "    test[\"{}-{}\".format(modality_by_notebook[notebook], \"labels\")] = get_notebook_output(nb, \"test_labels\")\n",
    "    test[\"{}-{}\".format(modality_by_notebook[notebook], \"predictions\")] = get_notebook_output(nb, \"test_predictions\")\n",
    "    test[\"{}-{}\".format(modality_by_notebook[notebook], \"probabilities\")] = get_notebook_output(nb, \"test_probabilities\")\n",
    "    #test_1[\"{}-{}\".format(modality_by_notebook[notebook], \"labels\")] = get_notebook_output(nb, \"test-1_labels\")\n",
    "    #test_1[\"{}-{}\".format(modality_by_notebook[notebook], \"predictions\")] = get_notebook_output(nb, \"test-1_predictions\")\n",
    "    #test_1[\"{}-{}\".format(modality_by_notebook[notebook], \"probabilities\")] = get_notebook_output(nb, \"test-1_probabilities\")\n",
    "    #test_2[\"{}-{}\".format(modality_by_notebook[notebook], \"labels\")] = get_notebook_output(nb, \"test-2_labels\")\n",
    "    #test_2[\"{}-{}\".format(modality_by_notebook[notebook], \"predictions\")] = get_notebook_output(nb, \"test-2_predictions\")\n",
    "    #test_2[\"{}-{}\".format(modality_by_notebook[notebook], \"probabilities\")] = get_notebook_output(nb, \"test-2_probabilities\")    "
   ]
  },
  {
   "cell_type": "code",
   "execution_count": 13,
   "metadata": {},
   "outputs": [
    {
     "name": "stdout",
     "output_type": "stream",
     "text": [
      "{'t2-labels': [0, 0, 0, 0, 1, 0, 0, 0, 0, 1, 1, 1, 0, 1, 1, 1, 1, 1, 1, 1, 1, 1, 1, 1, 1, 0, 1, 1, 1, 1, 1, 0, 0, 0, 1, 1, 1, 1, 1, 0, 0, 0, 1, 0, 0, 0, 0, 0, 0, 0, 0, 0, 0, 0, 0, 0, 0, 0, 0, 0, 0, 0, 0, 0, 0, 0, 0, 0, 0, 0, 0, 0, 0, 1, 1, 1, 1, 1, 1, 1, 1, 1, 1, 1, 1, 1, 1, 0, 0, 1, 1, 0, 1, 1, 0, 0, 0, 0, 0], 't2-predictions': [1, 0, 1, 1, 1, 1, 0, 1, 0, 0, 1, 0, 1, 1, 1, 1, 1, 0, 1, 1, 1, 1, 1, 1, 1, 0, 1, 0, 0, 1, 0, 0, 0, 1, 1, 1, 1, 0, 0, 1, 1, 1, 1, 0, 0, 0, 0, 0, 0, 1, 0, 1, 0, 0, 0, 1, 0, 1, 1, 0, 0, 0, 0, 0, 0, 1, 0, 0, 0, 0, 0, 1, 1, 1, 1, 1, 1, 1, 1, 0, 0, 1, 1, 1, 1, 1, 1, 1, 1, 1, 1, 0, 0, 1, 1, 0, 0, 0, 0], 't2-probabilities': [0.8641476631164551, 0.04850572347640991, 0.7620673179626465, 0.58588045835495, 0.6092981696128845, 0.6122311949729919, 0.12623029947280884, 0.7747927904129028, 0.15856879949569702, 0.06381136178970337, 0.9023292660713196, 0.16890358924865723, 0.8298861980438232, 0.8764317631721497, 0.8906347751617432, 0.8994308114051819, 0.7904530763626099, 0.12350928783416748, 0.7380993962287903, 0.6397010087966919, 0.8500899076461792, 0.6479206085205078, 0.824934720993042, 0.732590913772583, 0.7894371747970581, 0.042136043310165405, 0.8948793411254883, 0.44490575790405273, 0.39027678966522217, 0.7362145185470581, 0.2500121593475342, 0.4328390061855316, 0.07060438394546509, 0.7899795174598694, 0.8544600605964661, 0.9174122214317322, 0.7343297004699707, 0.2665799856185913, 0.16615453362464905, 0.6884598135948181, 0.8204212188720703, 0.739686906337738, 0.6048266291618347, 0.09930911660194397, 0.1174916923046112, 0.07426440715789795, 0.0853545069694519, 0.03623369336128235, 0.0715411901473999, 0.5343037843704224, 0.1768375039100647, 0.7952120900154114, 0.10444635152816772, 0.09747165441513062, 0.14067289233207703, 0.9195536375045776, 0.1374014914035797, 0.8023399114608765, 0.7738286256790161, 0.04844006896018982, 0.20444121956825256, 0.28635185956954956, 0.06836849451065063, 0.04106423258781433, 0.1978999376296997, 0.6794248819351196, 0.176733136177063, 0.19119012355804443, 0.06711602210998535, 0.04622530937194824, 0.04486727714538574, 0.8648874759674072, 0.612436830997467, 0.6400085687637329, 0.7742137908935547, 0.6396847367286682, 0.624040961265564, 0.7768769264221191, 0.825586199760437, 0.15972623229026794, 0.18210485577583313, 0.859200119972229, 0.5075121521949768, 0.7669910192489624, 0.7982043027877808, 0.6888650059700012, 0.6421077251434326, 0.8054935932159424, 0.6030933260917664, 0.8645918369293213, 0.7768886089324951, 0.0696733295917511, 0.06345227360725403, 0.6923015713691711, 0.7264444231987, 0.08084028959274292, 0.39755359292030334, 0.4451005160808563, 0.05254422500729561], 't1-labels': [0, 0, 0, 0, 1, 0, 0, 0, 0, 1, 1, 1, 0, 1, 1, 1, 1, 1, 1, 1, 1, 1, 1, 1, 1, 0, 1, 1, 1, 1, 1, 0, 0, 0, 1, 1, 1, 1, 1, 0, 0, 0, 1, 0, 0, 0, 0, 0, 0, 0, 0, 0, 0, 0, 0, 0, 0, 0, 0, 0, 0, 0, 0, 0, 0, 0, 0, 0, 0, 0, 0, 0, 0, 1, 1, 1, 1, 1, 1, 1, 1, 1, 1, 1, 1, 1, 1, 0, 0, 1, 1, 0, 1, 1, 0, 0, 0, 0, 0], 't1-predictions': [1, 0, 1, 1, 1, 1, 0, 0, 0, 1, 0, 1, 0, 1, 1, 0, 1, 1, 1, 0, 1, 0, 1, 1, 0, 1, 0, 0, 1, 1, 1, 0, 0, 1, 1, 1, 1, 1, 1, 1, 0, 1, 0, 0, 1, 1, 1, 0, 1, 0, 0, 1, 0, 0, 1, 0, 0, 1, 1, 0, 1, 1, 0, 0, 0, 0, 0, 0, 1, 0, 0, 0, 1, 0, 1, 1, 1, 1, 1, 1, 1, 1, 1, 1, 0, 0, 1, 1, 1, 1, 0, 1, 1, 1, 0, 1, 0, 0, 0], 't1-probabilities': [0.9736838340759277, 0.0575522780418396, 0.9703097343444824, 0.5550577640533447, 0.8246997594833374, 0.9441009163856506, 0.030132442712783813, 0.05984079837799072, 0.16673463582992554, 0.9090169668197632, 0.1835635006427765, 0.9448560476303101, 0.06209444999694824, 0.9532290697097778, 0.94771808385849, 0.3424533009529114, 0.9715927839279175, 0.9665617942810059, 0.9631568193435669, 0.058258771896362305, 0.9755184650421143, 0.07406848669052124, 0.7169244289398193, 0.9603069424629211, 0.059271037578582764, 0.8322021961212158, 0.04248619079589844, 0.23140576481819153, 0.6035823225975037, 0.7003685235977173, 0.8947073817253113, 0.06658560037612915, 0.06523194909095764, 0.6572996973991394, 0.9749966263771057, 0.9580935835838318, 0.9572224617004395, 0.9046764373779297, 0.9453080892562866, 0.7893975973129272, 0.07049959897994995, 0.8960615396499634, 0.12965095043182373, 0.25376734137535095, 0.7401649951934814, 0.9657443165779114, 0.6864199638366699, 0.07976996898651123, 0.9203075170516968, 0.12255886197090149, 0.059174805879592896, 0.9644816517829895, 0.06709843873977661, 0.2889905571937561, 0.9307191371917725, 0.10457736253738403, 0.13458749651908875, 0.6372830271720886, 0.9643328189849854, 0.25972917675971985, 0.6873335242271423, 0.7869564294815063, 0.11355921626091003, 0.07733052968978882, 0.09518373012542725, 0.10430794954299927, 0.04675692319869995, 0.047576189041137695, 0.9752347469329834, 0.3322891891002655, 0.04551449418067932, 0.10412406921386719, 0.617063045501709, 0.3063836693763733, 0.9791141748428345, 0.9001554250717163, 0.9507399797439575, 0.9648650288581848, 0.9014708995819092, 0.976244330406189, 0.7113308906555176, 0.9408591985702515, 0.9077733755111694, 0.9801218509674072, 0.03048500418663025, 0.05259418487548828, 0.905825138092041, 0.960034966468811, 0.9381749629974365, 0.9578847885131836, 0.028212517499923706, 0.9150264263153076, 0.7301052808761597, 0.5351958870887756, 0.09898960590362549, 0.9547865390777588, 0.07631246000528336, 0.15920136868953705, 0.04932134225964546], 'ensemble-labels': [0, 0, 0, 0, 1, 0, 0, 0, 0, 1, 1, 1, 0, 1, 1, 1, 1, 1, 1, 1, 1, 1, 1, 1, 1, 0, 1, 1, 1, 1, 1, 0, 0, 0, 1, 1, 1, 1, 1, 0, 0, 0, 1, 0, 0, 0, 0, 0, 0, 0, 0, 0, 0, 0, 0, 0, 0, 0, 0, 0, 0, 0, 0, 0, 0, 0, 0, 0, 0, 0, 0, 0, 0, 1, 1, 1, 1, 1, 1, 1, 1, 1, 1, 1, 1, 1, 1, 0, 0, 1, 1, 0, 1, 1, 0, 0, 0, 0, 0], 'ensemble-predictions': [1, 0, 1, 0, 1, 1, 0, 0, 0, 0, 0, 0, 0, 1, 1, 0, 1, 0, 1, 0, 1, 0, 1, 1, 0, 0, 0, 0, 0, 1, 0, 0, 0, 1, 1, 1, 1, 0, 0, 1, 0, 1, 0, 0, 0, 0, 0, 0, 0, 0, 0, 1, 0, 0, 0, 0, 0, 1, 1, 0, 0, 0, 0, 0, 0, 0, 0, 0, 0, 0, 0, 0, 0, 0, 1, 1, 1, 1, 1, 0, 0, 1, 0, 1, 0, 0, 1, 1, 1, 1, 0, 0, 0, 0, 0, 0, 0, 0, 0], 'ensemble-probabilities': [1.0, 0.0, 0.9, 0.15, 0.65, 0.6, 0.0, 0.5, 0.0, 0.5, 0.5, 0.5, 0.5, 1.0, 1.0, 0.5, 1.0, 0.5, 0.95, 0.2, 1.0, 0.15, 0.65, 1.0, 0.5, 0.45, 0.5, 0.0, 0.0, 0.6, 0.4, 0.0, 0.0, 0.55, 1.0, 1.0, 1.0, 0.5, 0.5, 0.85, 0.5, 0.85, 0.15, 0.0, 0.3, 0.5, 0.1, 0.0, 0.5, 0.1, 0.0, 1.0, 0.0, 0.0, 0.5, 0.5, 0.0, 0.55, 1.0, 0.0, 0.1, 0.45, 0.0, 0.0, 0.0, 0.4, 0.0, 0.0, 0.5, 0.0, 0.0, 0.5, 0.1, 0.2, 1.0, 0.7, 0.7, 1.0, 1.0, 0.5, 0.15, 1.0, 0.5, 1.0, 0.45, 0.4, 0.7, 1.0, 0.7, 1.0, 0.5, 0.5, 0.25, 0.4, 0.5, 0.5, 0.0, 0.0, 0.0]}\n",
      "99\n"
     ]
    }
   ],
   "source": [
    "print(len(test['t1-predictions']))"
   ]
  },
  {
   "cell_type": "code",
   "execution_count": 29,
   "metadata": {},
   "outputs": [
    {
     "data": {
      "text/plain": [
       "['evaluate-t1-t2-verified_trial1-t2-bb203f76-fc98-44ed-a8e6-2592c681457e.ipynb',\n",
       " 'evaluate-t1-t2-verified_trial1-t1-ec0a84dd-313b-44fc-9110-d72a62ee12a2.ipynb',\n",
       " 'evaluate-ensemble-bb203f76-fc98-44ed-a8e6-2592c681457e-ec0a84dd-313b-44fc-9110-d72a62ee12a2.ipynb',\n",
       " 'evaluate-ensemble-bb203f76-fc98-44ed-a8e6-2592c681457e-ec0a84dd-313b-44fc-9110-d72a62ee12a2.ipynb']"
      ]
     },
     "execution_count": 29,
     "metadata": {},
     "output_type": "execute_result"
    }
   ],
   "source": [
    "completed_notebooks"
   ]
  },
  {
   "cell_type": "code",
   "execution_count": 18,
   "metadata": {
    "scrolled": true
   },
   "outputs": [
    {
     "name": "stderr",
     "output_type": "stream",
     "text": [
      "\r",
      "  0%|          | 0/622 [00:00<?, ?it/s]"
     ]
    },
    {
     "name": "stdout",
     "output_type": "stream",
     "text": [
      "bb203f76-fc98-44ed-a8e6-2592c681457e\n",
      "84a64c17-fe3e-440c-aaaf-e1bd5b02576f\n",
      "1072\n",
      "889\n",
      "Training points = 622\n",
      "Benign: 349, Intermediate: 273, Malignant: 0\n",
      "\n",
      "Validation points = 168\n",
      "Benign: 96, Intermediate: 72, Malignant: 0\n",
      "\n",
      "Testing points = 99\n",
      "Benign: 54, Intermediate: 45, Malignant: 0\n",
      "bone-china-046\n",
      "Does this patient have T2 available? True\n",
      "I'm doing the thing.\n"
     ]
    },
    {
     "name": "stderr",
     "output_type": "stream",
     "text": [
      "\r",
      "  0%|          | 1/622 [00:00<02:20,  4.43it/s]"
     ]
    },
    {
     "name": "stdout",
     "output_type": "stream",
     "text": [
      "bone-penn-157\n",
      "Does this patient have T2 available? True\n",
      "I'm doing the thing.\n"
     ]
    },
    {
     "name": "stderr",
     "output_type": "stream",
     "text": [
      "  0%|          | 3/622 [00:00<02:17,  4.49it/s]"
     ]
    },
    {
     "name": "stdout",
     "output_type": "stream",
     "text": [
      "bone-china-124\n",
      "Does this patient have T2 available? True\n",
      "I'm doing the thing.\n",
      "bone-penn-107\n",
      "Does this patient have T2 available? True\n",
      "I'm doing the thing.\n"
     ]
    },
    {
     "name": "stderr",
     "output_type": "stream",
     "text": [
      "\r",
      "  1%|          | 4/622 [00:01<03:06,  3.32it/s]"
     ]
    },
    {
     "name": "stdout",
     "output_type": "stream",
     "text": [
      "bone-hup-134\n",
      "Does this patient have T2 available? True\n",
      "I'm doing the thing.\n"
     ]
    },
    {
     "name": "stderr",
     "output_type": "stream",
     "text": [
      "  1%|          | 6/622 [00:01<02:44,  3.74it/s]"
     ]
    },
    {
     "name": "stdout",
     "output_type": "stream",
     "text": [
      "bone-china-068\n",
      "Does this patient have T2 available? True\n",
      "I'm doing the thing.\n",
      "bone-penn-522\n",
      "Does this patient have T2 available? True\n",
      "I'm doing the thing.\n"
     ]
    },
    {
     "name": "stderr",
     "output_type": "stream",
     "text": [
      "\r",
      "  1%|          | 7/622 [00:01<02:49,  3.62it/s]"
     ]
    },
    {
     "name": "stdout",
     "output_type": "stream",
     "text": [
      "bone-penn-279\n",
      "Does this patient have T2 available? True\n",
      "I'm doing the thing.\n"
     ]
    },
    {
     "name": "stderr",
     "output_type": "stream",
     "text": [
      "\r",
      "  1%|▏         | 8/622 [00:02<04:14,  2.41it/s]"
     ]
    },
    {
     "name": "stdout",
     "output_type": "stream",
     "text": [
      "bone-penn-81\n",
      "Does this patient have T2 available? True\n",
      "I'm doing the thing.\n",
      "bone-china-128\n",
      "Does this patient have T2 available? True\n",
      "I'm doing the thing.\n"
     ]
    },
    {
     "name": "stderr",
     "output_type": "stream",
     "text": [
      "\r",
      "  2%|▏         | 10/622 [00:02<03:20,  3.05it/s]"
     ]
    },
    {
     "name": "stdout",
     "output_type": "stream",
     "text": [
      "bone-hup-296\n",
      "Does this patient have T2 available? True\n",
      "I'm doing the thing.\n"
     ]
    },
    {
     "name": "stderr",
     "output_type": "stream",
     "text": [
      "  2%|▏         | 13/622 [00:03<02:25,  4.18it/s]"
     ]
    },
    {
     "name": "stdout",
     "output_type": "stream",
     "text": [
      "bone-china-106\n",
      "Does this patient have T2 available? True\n",
      "I'm doing the thing.\n",
      "bone-penn-292\n",
      "Does this patient have T2 available? True\n",
      "I'm doing the thing.\n",
      "bone-hup-123\n",
      "Does this patient have T2 available? True\n",
      "I'm doing the thing.\n"
     ]
    },
    {
     "name": "stderr",
     "output_type": "stream",
     "text": [
      "\r",
      "  2%|▏         | 14/622 [00:03<02:21,  4.30it/s]"
     ]
    },
    {
     "name": "stdout",
     "output_type": "stream",
     "text": [
      "bone-penn-362\n",
      "Does this patient have T2 available? True\n",
      "I'm doing the thing.\n"
     ]
    },
    {
     "name": "stderr",
     "output_type": "stream",
     "text": [
      "\r",
      "  2%|▏         | 15/622 [00:03<02:33,  3.95it/s]"
     ]
    },
    {
     "name": "stdout",
     "output_type": "stream",
     "text": [
      "bone-penn-588\n",
      "Does this patient have T2 available? True\n",
      "I'm doing the thing.\n"
     ]
    },
    {
     "name": "stderr",
     "output_type": "stream",
     "text": [
      "\r",
      "  3%|▎         | 16/622 [00:04<02:45,  3.66it/s]"
     ]
    },
    {
     "name": "stdout",
     "output_type": "stream",
     "text": [
      "bone-penn-139\n",
      "Does this patient have T2 available? True\n",
      "I'm doing the thing.\n"
     ]
    },
    {
     "name": "stderr",
     "output_type": "stream",
     "text": [
      "  3%|▎         | 19/622 [00:04<02:03,  4.90it/s]"
     ]
    },
    {
     "name": "stdout",
     "output_type": "stream",
     "text": [
      "bone-penn-381\n",
      "Does this patient have T2 available? True\n",
      "I'm doing the thing.\n",
      "bone-penn-93\n",
      "Does this patient have T2 available? True\n",
      "I'm doing the thing.\n",
      "bone-china-052\n",
      "Does this patient have T2 available? True\n",
      "I'm doing the thing.\n"
     ]
    },
    {
     "name": "stderr",
     "output_type": "stream",
     "text": [
      "\r",
      "  3%|▎         | 21/622 [00:04<01:47,  5.59it/s]"
     ]
    },
    {
     "name": "stdout",
     "output_type": "stream",
     "text": [
      "bone-penn-142\n",
      "Does this patient have T2 available? True\n",
      "I'm doing the thing.\n",
      "bone-penn-280\n",
      "Does this patient have T2 available? True\n",
      "I'm doing the thing.\n"
     ]
    },
    {
     "name": "stderr",
     "output_type": "stream",
     "text": [
      "  4%|▎         | 23/622 [00:05<01:40,  5.93it/s]"
     ]
    },
    {
     "name": "stdout",
     "output_type": "stream",
     "text": [
      "bone-penn-457\n",
      "Does this patient have T2 available? True\n",
      "I'm doing the thing.\n",
      "bone-hup-155\n",
      "Does this patient have T2 available? True\n",
      "I'm doing the thing.\n"
     ]
    },
    {
     "name": "stderr",
     "output_type": "stream",
     "text": [
      "  4%|▍         | 25/622 [00:05<01:36,  6.20it/s]"
     ]
    },
    {
     "name": "stdout",
     "output_type": "stream",
     "text": [
      "bone-hup-48\n",
      "Does this patient have T2 available? True\n",
      "I'm doing the thing.\n",
      "bone-penn-85\n",
      "Does this patient have T2 available? True\n",
      "I'm doing the thing.\n"
     ]
    },
    {
     "name": "stderr",
     "output_type": "stream",
     "text": [
      "\r",
      "  4%|▍         | 27/622 [00:05<01:23,  7.11it/s]"
     ]
    },
    {
     "name": "stdout",
     "output_type": "stream",
     "text": [
      "bone-penn-551\n",
      "Does this patient have T2 available? True\n",
      "I'm doing the thing.\n",
      "bone-china-020\n",
      "Does this patient have T2 available? True\n",
      "I'm doing the thing.\n",
      "bone-china-057\n",
      "Does this patient have T2 available? True\n",
      "I'm doing the thing.\n"
     ]
    },
    {
     "name": "stderr",
     "output_type": "stream",
     "text": [
      "  5%|▍         | 30/622 [00:06<01:22,  7.14it/s]"
     ]
    },
    {
     "name": "stdout",
     "output_type": "stream",
     "text": [
      "bone-china-107\n",
      "Does this patient have T2 available? True\n",
      "I'm doing the thing.\n",
      "bone-penn-105\n",
      "Does this patient have T2 available? True\n",
      "I'm doing the thing.\n"
     ]
    },
    {
     "name": "stderr",
     "output_type": "stream",
     "text": [
      "\r",
      "  5%|▍         | 31/622 [00:06<01:40,  5.90it/s]"
     ]
    },
    {
     "name": "stdout",
     "output_type": "stream",
     "text": [
      "bone-penn-106\n",
      "Does this patient have T2 available? True\n",
      "I'm doing the thing.\n"
     ]
    },
    {
     "name": "stderr",
     "output_type": "stream",
     "text": [
      "  5%|▌         | 33/622 [00:06<01:36,  6.10it/s]"
     ]
    },
    {
     "name": "stdout",
     "output_type": "stream",
     "text": [
      "bone-penn-94\n",
      "Does this patient have T2 available? True\n",
      "I'm doing the thing.\n",
      "bone-china-089\n",
      "Does this patient have T2 available? True\n",
      "I'm doing the thing.\n",
      "bone-hup-303\n",
      "Does this patient have T2 available? True\n",
      "I'm doing the thing.\n"
     ]
    },
    {
     "name": "stderr",
     "output_type": "stream",
     "text": [
      "  6%|▌         | 36/622 [00:07<01:53,  5.18it/s]"
     ]
    },
    {
     "name": "stdout",
     "output_type": "stream",
     "text": [
      "bone-china-081\n",
      "Does this patient have T2 available? True\n",
      "I'm doing the thing.\n",
      "bone-hup-51\n",
      "Does this patient have T2 available? True\n",
      "I'm doing the thing.\n"
     ]
    },
    {
     "name": "stderr",
     "output_type": "stream",
     "text": [
      "\r",
      "  6%|▌         | 37/622 [00:07<01:48,  5.41it/s]"
     ]
    },
    {
     "name": "stdout",
     "output_type": "stream",
     "text": [
      "bone-penn-277\n",
      "Does this patient have T2 available? True\n",
      "I'm doing the thing.\n"
     ]
    },
    {
     "name": "stderr",
     "output_type": "stream",
     "text": [
      "  6%|▋         | 39/622 [00:08<02:12,  4.39it/s]"
     ]
    },
    {
     "name": "stdout",
     "output_type": "stream",
     "text": [
      "bone-penn-473\n",
      "Does this patient have T2 available? True\n",
      "I'm doing the thing.\n",
      "bone-penn-468\n",
      "Does this patient have T2 available? True\n",
      "I'm doing the thing.\n"
     ]
    },
    {
     "name": "stderr",
     "output_type": "stream",
     "text": [
      "\r",
      "  6%|▋         | 40/622 [00:09<04:46,  2.03it/s]"
     ]
    },
    {
     "name": "stdout",
     "output_type": "stream",
     "text": [
      "bone-china-069\n",
      "Does this patient have T2 available? True\n",
      "I'm doing the thing.\n",
      "bone-penn-478\n",
      "Does this patient have T2 available? True\n",
      "I'm doing the thing.\n"
     ]
    },
    {
     "name": "stderr",
     "output_type": "stream",
     "text": [
      "  7%|▋         | 43/622 [00:09<03:00,  3.21it/s]"
     ]
    },
    {
     "name": "stdout",
     "output_type": "stream",
     "text": [
      "bone-penn-495\n",
      "Does this patient have T2 available? True\n",
      "I'm doing the thing.\n",
      "bone-china-040\n",
      "Does this patient have T2 available? True\n",
      "I'm doing the thing.\n",
      "bone-penn-148\n",
      "Does this patient have T2 available? True\n",
      "I'm doing the thing.\n"
     ]
    },
    {
     "name": "stderr",
     "output_type": "stream",
     "text": [
      "\r",
      "  7%|▋         | 45/622 [00:09<02:22,  4.04it/s]"
     ]
    },
    {
     "name": "stdout",
     "output_type": "stream",
     "text": [
      "bone-penn-481\n",
      "Does this patient have T2 available? True\n",
      "I'm doing the thing.\n",
      "bone-penn-330\n",
      "Does this patient have T2 available? True\n",
      "I'm doing the thing.\n"
     ]
    },
    {
     "name": "stderr",
     "output_type": "stream",
     "text": [
      "  8%|▊         | 48/622 [00:10<01:55,  4.95it/s]"
     ]
    },
    {
     "name": "stdout",
     "output_type": "stream",
     "text": [
      "bone-china-151\n",
      "Does this patient have T2 available? True\n",
      "I'm doing the thing.\n",
      "bone-china-146\n",
      "Does this patient have T2 available? True\n",
      "I'm doing the thing.\n"
     ]
    },
    {
     "name": "stderr",
     "output_type": "stream",
     "text": [
      "\r",
      "  8%|▊         | 49/622 [00:10<01:45,  5.44it/s]"
     ]
    },
    {
     "name": "stdout",
     "output_type": "stream",
     "text": [
      "bone-china-056\n",
      "Does this patient have T2 available? True\n",
      "I'm doing the thing.\n",
      "bone-penn-038\n",
      "Does this patient have T2 available? True\n",
      "I'm doing the thing.\n"
     ]
    },
    {
     "name": "stderr",
     "output_type": "stream",
     "text": [
      "  8%|▊         | 52/622 [00:10<01:27,  6.55it/s]"
     ]
    },
    {
     "name": "stdout",
     "output_type": "stream",
     "text": [
      "bone-china-169\n",
      "Does this patient have T2 available? True\n",
      "I'm doing the thing.\n",
      "bone-penn-151\n",
      "Does this patient have T2 available? True\n",
      "I'm doing the thing.\n"
     ]
    },
    {
     "name": "stderr",
     "output_type": "stream",
     "text": [
      "\r",
      "  9%|▊         | 53/622 [00:11<03:03,  3.11it/s]"
     ]
    },
    {
     "name": "stdout",
     "output_type": "stream",
     "text": [
      "bone-hup-317\n",
      "Does this patient have T2 available? True\n",
      "I'm doing the thing.\n"
     ]
    },
    {
     "name": "stderr",
     "output_type": "stream",
     "text": [
      "\r",
      "  9%|▊         | 54/622 [00:11<02:58,  3.17it/s]"
     ]
    },
    {
     "name": "stdout",
     "output_type": "stream",
     "text": [
      "bone-penn-047\n",
      "Does this patient have T2 available? True\n",
      "I'm doing the thing.\n"
     ]
    },
    {
     "name": "stderr",
     "output_type": "stream",
     "text": [
      "  9%|▉         | 56/622 [00:12<03:25,  2.75it/s]"
     ]
    },
    {
     "name": "stdout",
     "output_type": "stream",
     "text": [
      "bone-hup-151\n",
      "Does this patient have T2 available? True\n",
      "I'm doing the thing.\n",
      "bone-penn-118\n",
      "Does this patient have T2 available? True\n",
      "I'm doing the thing.\n"
     ]
    },
    {
     "name": "stderr",
     "output_type": "stream",
     "text": [
      "  9%|▉         | 58/622 [00:14<04:52,  1.93it/s]"
     ]
    },
    {
     "name": "stdout",
     "output_type": "stream",
     "text": [
      "bone-china-114\n",
      "Does this patient have T2 available? True\n",
      "I'm doing the thing.\n",
      "bone-china-062\n",
      "Does this patient have T2 available? True\n",
      "I'm doing the thing.\n"
     ]
    },
    {
     "name": "stderr",
     "output_type": "stream",
     "text": [
      " 10%|▉         | 60/622 [00:14<03:02,  3.08it/s]"
     ]
    },
    {
     "name": "stdout",
     "output_type": "stream",
     "text": [
      "bone-china-163\n",
      "Does this patient have T2 available? True\n",
      "I'm doing the thing.\n",
      "bone-penn-90\n",
      "Does this patient have T2 available? True\n",
      "I'm doing the thing.\n"
     ]
    },
    {
     "name": "stderr",
     "output_type": "stream",
     "text": [
      "\r",
      " 10%|▉         | 61/622 [00:14<02:27,  3.80it/s]"
     ]
    },
    {
     "name": "stdout",
     "output_type": "stream",
     "text": [
      "bone-penn-497\n",
      "Does this patient have T2 available? True\n",
      "I'm doing the thing.\n",
      "bone-hup-265\n",
      "Does this patient have T2 available? True\n",
      "I'm doing the thing.\n"
     ]
    },
    {
     "name": "stderr",
     "output_type": "stream",
     "text": [
      " 10%|█         | 65/622 [00:15<01:42,  5.41it/s]"
     ]
    },
    {
     "name": "stdout",
     "output_type": "stream",
     "text": [
      "bone-china-162\n",
      "Does this patient have T2 available? True\n",
      "I'm doing the thing.\n",
      "bone-penn-104\n",
      "Does this patient have T2 available? True\n",
      "I'm doing the thing.\n",
      "bone-penn-485\n",
      "Does this patient have T2 available? True\n",
      "I'm doing the thing.\n"
     ]
    },
    {
     "name": "stderr",
     "output_type": "stream",
     "text": [
      "\r",
      " 11%|█         | 66/622 [00:15<02:14,  4.13it/s]"
     ]
    },
    {
     "name": "stdout",
     "output_type": "stream",
     "text": [
      "bone-china-004\n",
      "Does this patient have T2 available? True\n",
      "I'm doing the thing.\n",
      "bone-hup-131\n",
      "Does this patient have T2 available? True\n",
      "I'm doing the thing.\n"
     ]
    },
    {
     "name": "stderr",
     "output_type": "stream",
     "text": [
      "\r",
      " 11%|█         | 68/622 [00:15<01:53,  4.88it/s]"
     ]
    },
    {
     "name": "stdout",
     "output_type": "stream",
     "text": [
      "bone-penn-577\n",
      "Does this patient have T2 available? True\n",
      "I'm doing the thing.\n"
     ]
    },
    {
     "name": "stderr",
     "output_type": "stream",
     "text": [
      " 11%|█▏        | 71/622 [00:16<01:38,  5.58it/s]"
     ]
    },
    {
     "name": "stdout",
     "output_type": "stream",
     "text": [
      "bone-china-077\n",
      "Does this patient have T2 available? True\n",
      "I'm doing the thing.\n",
      "bone-china-032\n",
      "Does this patient have T2 available? True\n",
      "I'm doing the thing.\n",
      "bone-hup-152\n",
      "Does this patient have T2 available? True\n",
      "I'm doing the thing.\n"
     ]
    },
    {
     "name": "stderr",
     "output_type": "stream",
     "text": [
      "\r",
      " 12%|█▏        | 72/622 [00:16<01:42,  5.36it/s]"
     ]
    },
    {
     "name": "stdout",
     "output_type": "stream",
     "text": [
      "bone-penn-84\n",
      "Does this patient have T2 available? True\n",
      "I'm doing the thing.\n"
     ]
    },
    {
     "name": "stderr",
     "output_type": "stream",
     "text": [
      " 12%|█▏        | 74/622 [00:16<01:43,  5.27it/s]"
     ]
    },
    {
     "name": "stdout",
     "output_type": "stream",
     "text": [
      "bone-china-120\n",
      "Does this patient have T2 available? True\n",
      "I'm doing the thing.\n",
      "bone-penn-074\n",
      "Does this patient have T2 available? True\n",
      "I'm doing the thing.\n"
     ]
    },
    {
     "name": "stderr",
     "output_type": "stream",
     "text": [
      "\r",
      " 12%|█▏        | 75/622 [00:17<01:44,  5.25it/s]"
     ]
    },
    {
     "name": "stdout",
     "output_type": "stream",
     "text": [
      "bone-penn-143\n",
      "Does this patient have T2 available? True\n",
      "I'm doing the thing.\n"
     ]
    },
    {
     "name": "stderr",
     "output_type": "stream",
     "text": [
      " 12%|█▏        | 77/622 [00:17<01:47,  5.07it/s]"
     ]
    },
    {
     "name": "stdout",
     "output_type": "stream",
     "text": [
      "bone-hup-124\n",
      "Does this patient have T2 available? True\n",
      "I'm doing the thing.\n",
      "bone-penn-474\n",
      "Does this patient have T2 available? True\n",
      "I'm doing the thing.\n"
     ]
    },
    {
     "name": "stderr",
     "output_type": "stream",
     "text": [
      " 13%|█▎        | 79/622 [00:17<01:31,  5.95it/s]"
     ]
    },
    {
     "name": "stdout",
     "output_type": "stream",
     "text": [
      "bone-penn-530\n",
      "Does this patient have T2 available? True\n",
      "I'm doing the thing.\n",
      "bone-penn-115\n",
      "Does this patient have T2 available? True\n",
      "I'm doing the thing.\n"
     ]
    },
    {
     "name": "stderr",
     "output_type": "stream",
     "text": [
      "\r",
      " 13%|█▎        | 81/622 [00:18<01:19,  6.77it/s]"
     ]
    },
    {
     "name": "stdout",
     "output_type": "stream",
     "text": [
      "bone-penn-384\n",
      "Does this patient have T2 available? True\n",
      "I'm doing the thing.\n",
      "bone-penn-322\n",
      "Does this patient have T2 available? True\n",
      "I'm doing the thing.\n"
     ]
    },
    {
     "name": "stderr",
     "output_type": "stream",
     "text": [
      "\r",
      " 13%|█▎        | 82/622 [00:18<01:15,  7.17it/s]"
     ]
    },
    {
     "name": "stdout",
     "output_type": "stream",
     "text": [
      "bone-china-055\n",
      "Does this patient have T2 available? True\n",
      "I'm doing the thing.\n",
      "bone-penn-585\n",
      "Does this patient have T2 available? True\n",
      "I'm doing the thing.\n"
     ]
    },
    {
     "name": "stderr",
     "output_type": "stream",
     "text": [
      " 14%|█▎        | 85/622 [00:18<01:15,  7.14it/s]"
     ]
    },
    {
     "name": "stdout",
     "output_type": "stream",
     "text": [
      "bone-china-148\n",
      "Does this patient have T2 available? True\n",
      "I'm doing the thing.\n",
      "bone-china-149\n",
      "Does this patient have T2 available? True\n",
      "I'm doing the thing.\n"
     ]
    },
    {
     "name": "stderr",
     "output_type": "stream",
     "text": [
      "\r",
      " 14%|█▍        | 86/622 [00:18<01:17,  6.96it/s]"
     ]
    },
    {
     "name": "stdout",
     "output_type": "stream",
     "text": [
      "bone-penn-005\n",
      "Does this patient have T2 available? True\n",
      "I'm doing the thing.\n"
     ]
    },
    {
     "name": "stderr",
     "output_type": "stream",
     "text": [
      " 14%|█▍        | 88/622 [00:19<01:44,  5.10it/s]"
     ]
    },
    {
     "name": "stdout",
     "output_type": "stream",
     "text": [
      "bone-china-031\n",
      "Does this patient have T2 available? True\n",
      "I'm doing the thing.\n",
      "bone-china-033\n",
      "Does this patient have T2 available? True\n",
      "I'm doing the thing.\n"
     ]
    },
    {
     "name": "stderr",
     "output_type": "stream",
     "text": [
      "\r",
      " 14%|█▍        | 89/622 [00:19<01:29,  5.97it/s]"
     ]
    },
    {
     "name": "stdout",
     "output_type": "stream",
     "text": [
      "bone-penn-032\n",
      "Does this patient have T2 available? True\n",
      "I'm doing the thing.\n"
     ]
    },
    {
     "name": "stderr",
     "output_type": "stream",
     "text": [
      " 15%|█▍        | 91/622 [00:19<01:52,  4.73it/s]"
     ]
    },
    {
     "name": "stdout",
     "output_type": "stream",
     "text": [
      "bone-penn-001\n",
      "Does this patient have T2 available? True\n",
      "I'm doing the thing.\n",
      "bone-penn-529\n",
      "Does this patient have T2 available? True\n",
      "I'm doing the thing.\n"
     ]
    },
    {
     "name": "stderr",
     "output_type": "stream",
     "text": [
      " 15%|█▍        | 93/622 [00:20<01:49,  4.83it/s]"
     ]
    },
    {
     "name": "stdout",
     "output_type": "stream",
     "text": [
      "bone-penn-492\n",
      "Does this patient have T2 available? True\n",
      "I'm doing the thing.\n",
      "bone-penn-587\n",
      "Does this patient have T2 available? True\n",
      "I'm doing the thing.\n"
     ]
    },
    {
     "name": "stderr",
     "output_type": "stream",
     "text": [
      "\r",
      " 15%|█▌        | 94/622 [00:20<01:59,  4.41it/s]"
     ]
    },
    {
     "name": "stdout",
     "output_type": "stream",
     "text": [
      "bone-china-053\n",
      "Does this patient have T2 available? True\n",
      "I'm doing the thing.\n",
      "bone-penn-127\n",
      "Does this patient have T2 available? True\n",
      "I'm doing the thing.\n"
     ]
    },
    {
     "name": "stderr",
     "output_type": "stream",
     "text": [
      "\r",
      " 15%|█▌        | 96/622 [00:20<01:45,  4.96it/s]"
     ]
    },
    {
     "name": "stdout",
     "output_type": "stream",
     "text": [
      "bone-hup-297\n",
      "Does this patient have T2 available? True\n",
      "I'm doing the thing.\n"
     ]
    },
    {
     "name": "stderr",
     "output_type": "stream",
     "text": [
      "\r",
      " 16%|█▌        | 97/622 [00:21<02:51,  3.05it/s]"
     ]
    },
    {
     "name": "stdout",
     "output_type": "stream",
     "text": [
      "bone-hup-290\n",
      "Does this patient have T2 available? True\n",
      "I'm doing the thing.\n"
     ]
    },
    {
     "name": "stderr",
     "output_type": "stream",
     "text": [
      " 16%|█▌        | 100/622 [00:21<02:11,  3.98it/s]"
     ]
    },
    {
     "name": "stdout",
     "output_type": "stream",
     "text": [
      "bone-china-166\n",
      "Does this patient have T2 available? True\n",
      "I'm doing the thing.\n",
      "bone-penn-95\n",
      "Does this patient have T2 available? True\n",
      "I'm doing the thing.\n",
      "bone-penn-110\n",
      "Does this patient have T2 available? True\n",
      "I'm doing the thing.\n"
     ]
    },
    {
     "name": "stderr",
     "output_type": "stream",
     "text": [
      "\r",
      " 16%|█▌        | 101/622 [00:22<02:14,  3.88it/s]"
     ]
    },
    {
     "name": "stdout",
     "output_type": "stream",
     "text": [
      "bone-hup-305\n",
      "Does this patient have T2 available? True\n",
      "I'm doing the thing.\n"
     ]
    },
    {
     "name": "stderr",
     "output_type": "stream",
     "text": [
      "\r",
      " 16%|█▋        | 102/622 [00:22<02:27,  3.51it/s]"
     ]
    },
    {
     "name": "stdout",
     "output_type": "stream",
     "text": [
      "bone-china-072\n",
      "Does this patient have T2 available? True\n",
      "I'm doing the thing.\n",
      "bone-penn-532\n",
      "Does this patient have T2 available? True\n",
      "I'm doing the thing.\n"
     ]
    },
    {
     "name": "stderr",
     "output_type": "stream",
     "text": [
      " 17%|█▋        | 105/622 [00:22<01:49,  4.70it/s]"
     ]
    },
    {
     "name": "stdout",
     "output_type": "stream",
     "text": [
      "bone-china-139\n",
      "Does this patient have T2 available? True\n",
      "I'm doing the thing.\n",
      "bone-penn-274\n",
      "Does this patient have T2 available? True\n",
      "I'm doing the thing.\n"
     ]
    },
    {
     "name": "stderr",
     "output_type": "stream",
     "text": [
      " 17%|█▋        | 107/622 [00:23<02:27,  3.49it/s]"
     ]
    },
    {
     "name": "stdout",
     "output_type": "stream",
     "text": [
      "bone-china-101\n",
      "Does this patient have T2 available? True\n",
      "I'm doing the thing.\n",
      "bone-penn-299\n",
      "Does this patient have T2 available? True\n",
      "I'm doing the thing.\n"
     ]
    },
    {
     "name": "stderr",
     "output_type": "stream",
     "text": [
      " 18%|█▊        | 109/622 [00:24<02:05,  4.09it/s]"
     ]
    },
    {
     "name": "stdout",
     "output_type": "stream",
     "text": [
      "bone-hup-309\n",
      "Does this patient have T2 available? True\n",
      "I'm doing the thing.\n",
      "bone-penn-490\n",
      "Does this patient have T2 available? True\n",
      "I'm doing the thing.\n"
     ]
    },
    {
     "name": "stderr",
     "output_type": "stream",
     "text": [
      " 18%|█▊        | 111/622 [00:24<02:23,  3.56it/s]"
     ]
    },
    {
     "name": "stdout",
     "output_type": "stream",
     "text": [
      "bone-penn-140\n",
      "Does this patient have T2 available? True\n",
      "I'm doing the thing.\n",
      "bone-hup-3\n",
      "Does this patient have T2 available? True\n",
      "I'm doing the thing.\n"
     ]
    },
    {
     "name": "stderr",
     "output_type": "stream",
     "text": [
      "\r",
      " 18%|█▊        | 112/622 [00:25<02:27,  3.46it/s]"
     ]
    },
    {
     "name": "stdout",
     "output_type": "stream",
     "text": [
      "bone-china-109\n",
      "Does this patient have T2 available? True\n",
      "I'm doing the thing.\n",
      "bone-penn-278\n",
      "Does this patient have T2 available? True\n",
      "I'm doing the thing.\n"
     ]
    },
    {
     "name": "stderr",
     "output_type": "stream",
     "text": [
      "\r",
      " 18%|█▊        | 114/622 [00:25<02:10,  3.88it/s]"
     ]
    },
    {
     "name": "stdout",
     "output_type": "stream",
     "text": [
      "bone-penn-134\n",
      "Does this patient have T2 available? True\n",
      "I'm doing the thing.\n"
     ]
    },
    {
     "name": "stderr",
     "output_type": "stream",
     "text": [
      " 19%|█▊        | 116/622 [00:26<02:14,  3.75it/s]"
     ]
    },
    {
     "name": "stdout",
     "output_type": "stream",
     "text": [
      "bone-china-160\n",
      "Does this patient have T2 available? True\n",
      "I'm doing the thing.\n",
      "bone-penn-067\n",
      "Does this patient have T2 available? True\n",
      "I'm doing the thing.\n",
      "bone-penn-550\n",
      "Does this patient have T2 available? True\n",
      "I'm doing the thing.\n"
     ]
    },
    {
     "name": "stderr",
     "output_type": "stream",
     "text": [
      " 19%|█▉        | 119/622 [00:26<01:48,  4.65it/s]"
     ]
    },
    {
     "name": "stdout",
     "output_type": "stream",
     "text": [
      "bone-china-112\n",
      "Does this patient have T2 available? True\n",
      "I'm doing the thing.\n",
      "bone-penn-487\n",
      "Does this patient have T2 available? True\n",
      "I'm doing the thing.\n"
     ]
    },
    {
     "name": "stderr",
     "output_type": "stream",
     "text": [
      " 19%|█▉        | 121/622 [00:27<02:23,  3.48it/s]"
     ]
    },
    {
     "name": "stdout",
     "output_type": "stream",
     "text": [
      "bone-hup-278\n",
      "Does this patient have T2 available? True\n",
      "I'm doing the thing.\n",
      "bone-penn-435\n",
      "Does this patient have T2 available? True\n",
      "I'm doing the thing.\n"
     ]
    },
    {
     "name": "stderr",
     "output_type": "stream",
     "text": [
      "\r",
      " 20%|█▉        | 122/622 [00:27<02:02,  4.10it/s]"
     ]
    },
    {
     "name": "stdout",
     "output_type": "stream",
     "text": [
      "bone-penn-496\n",
      "Does this patient have T2 available? True\n",
      "I'm doing the thing.\n"
     ]
    },
    {
     "name": "stderr",
     "output_type": "stream",
     "text": [
      " 20%|█▉        | 124/622 [00:28<02:31,  3.28it/s]"
     ]
    },
    {
     "name": "stdout",
     "output_type": "stream",
     "text": [
      "bone-china-026\n",
      "Does this patient have T2 available? True\n",
      "I'm doing the thing.\n",
      "bone-penn-347\n",
      "Does this patient have T2 available? True\n",
      "I'm doing the thing.\n"
     ]
    },
    {
     "name": "stderr",
     "output_type": "stream",
     "text": [
      "\r",
      " 20%|██        | 125/622 [00:28<02:25,  3.42it/s]"
     ]
    },
    {
     "name": "stdout",
     "output_type": "stream",
     "text": [
      "bone-penn-535\n",
      "Does this patient have T2 available? True\n",
      "I'm doing the thing.\n"
     ]
    },
    {
     "name": "stderr",
     "output_type": "stream",
     "text": [
      " 20%|██        | 127/622 [00:29<02:13,  3.72it/s]"
     ]
    },
    {
     "name": "stdout",
     "output_type": "stream",
     "text": [
      "bone-china-070\n",
      "Does this patient have T2 available? True\n",
      "I'm doing the thing.\n",
      "bone-penn-027\n",
      "Does this patient have T2 available? True\n",
      "I'm doing the thing.\n"
     ]
    },
    {
     "name": "stderr",
     "output_type": "stream",
     "text": [
      "\r",
      " 21%|██        | 128/622 [00:29<02:46,  2.97it/s]"
     ]
    },
    {
     "name": "stdout",
     "output_type": "stream",
     "text": [
      "bone-penn-112\n",
      "Does this patient have T2 available? True\n",
      "I'm doing the thing.\n"
     ]
    },
    {
     "name": "stderr",
     "output_type": "stream",
     "text": [
      " 21%|██        | 130/622 [00:31<04:22,  1.87it/s]"
     ]
    },
    {
     "name": "stdout",
     "output_type": "stream",
     "text": [
      "bone-china-117\n",
      "Does this patient have T2 available? True\n",
      "I'm doing the thing.\n",
      "bone-penn-509\n",
      "Does this patient have T2 available? True\n",
      "I'm doing the thing.\n",
      "bone-penn-518\n",
      "Does this patient have T2 available? True\n",
      "I'm doing the thing.\n"
     ]
    },
    {
     "name": "stderr",
     "output_type": "stream",
     "text": [
      "\r",
      " 21%|██        | 132/622 [00:31<03:35,  2.27it/s]"
     ]
    },
    {
     "name": "stdout",
     "output_type": "stream",
     "text": [
      "bone-penn-553\n",
      "Does this patient have T2 available? True\n",
      "I'm doing the thing.\n"
     ]
    },
    {
     "name": "stderr",
     "output_type": "stream",
     "text": [
      " 22%|██▏       | 134/622 [00:32<02:40,  3.05it/s]"
     ]
    },
    {
     "name": "stdout",
     "output_type": "stream",
     "text": [
      "bone-china-110\n",
      "Does this patient have T2 available? True\n",
      "I'm doing the thing.\n",
      "bone-penn-595\n",
      "Does this patient have T2 available? True\n",
      "I'm doing the thing.\n"
     ]
    },
    {
     "name": "stderr",
     "output_type": "stream",
     "text": [
      " 22%|██▏       | 136/622 [00:32<02:03,  3.95it/s]"
     ]
    },
    {
     "name": "stdout",
     "output_type": "stream",
     "text": [
      "bone-china-140\n",
      "Does this patient have T2 available? True\n",
      "I'm doing the thing.\n",
      "bone-penn-070\n",
      "Does this patient have T2 available? True\n",
      "I'm doing the thing.\n"
     ]
    },
    {
     "name": "stderr",
     "output_type": "stream",
     "text": [
      " 22%|██▏       | 138/622 [00:33<02:51,  2.83it/s]"
     ]
    },
    {
     "name": "stdout",
     "output_type": "stream",
     "text": [
      "bone-china-010\n",
      "Does this patient have T2 available? True\n",
      "I'm doing the thing.\n",
      "bone-hup-147\n",
      "Does this patient have T2 available? True\n",
      "I'm doing the thing.\n"
     ]
    },
    {
     "name": "stderr",
     "output_type": "stream",
     "text": [
      " 23%|██▎       | 140/622 [00:34<03:00,  2.68it/s]"
     ]
    },
    {
     "name": "stdout",
     "output_type": "stream",
     "text": [
      "bone-china-044\n",
      "Does this patient have T2 available? True\n",
      "I'm doing the thing.\n",
      "bone-penn-296\n",
      "Does this patient have T2 available? True\n",
      "I'm doing the thing.\n"
     ]
    },
    {
     "name": "stderr",
     "output_type": "stream",
     "text": [
      " 23%|██▎       | 142/622 [00:35<02:19,  3.44it/s]"
     ]
    },
    {
     "name": "stdout",
     "output_type": "stream",
     "text": [
      "bone-penn-541\n",
      "Does this patient have T2 available? True\n",
      "I'm doing the thing.\n",
      "bone-penn-565\n",
      "Does this patient have T2 available? True\n",
      "I'm doing the thing.\n"
     ]
    },
    {
     "name": "stderr",
     "output_type": "stream",
     "text": [
      "\r",
      " 23%|██▎       | 143/622 [00:35<02:36,  3.05it/s]"
     ]
    },
    {
     "name": "stdout",
     "output_type": "stream",
     "text": [
      "bone-china-060\n",
      "Does this patient have T2 available? True\n",
      "I'm doing the thing.\n",
      "bone-penn-369\n",
      "Does this patient have T2 available? True\n",
      "I'm doing the thing.\n"
     ]
    },
    {
     "name": "stderr",
     "output_type": "stream",
     "text": [
      "\r",
      " 23%|██▎       | 145/622 [00:35<02:06,  3.78it/s]"
     ]
    },
    {
     "name": "stdout",
     "output_type": "stream",
     "text": [
      "bone-penn-150\n",
      "Does this patient have T2 available? True\n",
      "I'm doing the thing.\n"
     ]
    },
    {
     "name": "stderr",
     "output_type": "stream",
     "text": [
      " 24%|██▎       | 147/622 [00:36<01:55,  4.11it/s]"
     ]
    },
    {
     "name": "stdout",
     "output_type": "stream",
     "text": [
      "bone-china-168\n",
      "Does this patient have T2 available? True\n",
      "I'm doing the thing.\n",
      "bone-china-144\n",
      "Does this patient have T2 available? True\n",
      "I'm doing the thing.\n",
      "bone-hup-321\n",
      "Does this patient have T2 available? True\n",
      "I'm doing the thing.\n"
     ]
    },
    {
     "name": "stderr",
     "output_type": "stream",
     "text": [
      " 24%|██▍       | 150/622 [00:36<01:41,  4.64it/s]"
     ]
    },
    {
     "name": "stdout",
     "output_type": "stream",
     "text": [
      "bone-china-037\n",
      "Does this patient have T2 available? True\n",
      "I'm doing the thing.\n",
      "bone-china-009\n",
      "Does this patient have T2 available? True\n",
      "I'm doing the thing.\n"
     ]
    },
    {
     "name": "stderr",
     "output_type": "stream",
     "text": [
      "\r",
      " 24%|██▍       | 152/622 [00:37<01:25,  5.51it/s]"
     ]
    },
    {
     "name": "stdout",
     "output_type": "stream",
     "text": [
      "bone-hup-293\n",
      "Does this patient have T2 available? True\n",
      "I'm doing the thing.\n",
      "bone-penn-028\n",
      "Does this patient have T2 available? True\n",
      "I'm doing the thing.\n"
     ]
    },
    {
     "name": "stderr",
     "output_type": "stream",
     "text": [
      " 25%|██▍       | 154/622 [00:37<01:19,  5.88it/s]"
     ]
    },
    {
     "name": "stdout",
     "output_type": "stream",
     "text": [
      "bone-china-085\n",
      "Does this patient have T2 available? True\n",
      "I'm doing the thing.\n",
      "bone-china-115\n",
      "Does this patient have T2 available? True\n",
      "I'm doing the thing.\n"
     ]
    },
    {
     "name": "stderr",
     "output_type": "stream",
     "text": [
      " 25%|██▌       | 156/622 [00:37<01:11,  6.54it/s]"
     ]
    },
    {
     "name": "stdout",
     "output_type": "stream",
     "text": [
      "bone-penn-317\n",
      "Does this patient have T2 available? True\n",
      "I'm doing the thing.\n",
      "bone-china-103\n",
      "Does this patient have T2 available? True\n",
      "I'm doing the thing.\n"
     ]
    },
    {
     "name": "stderr",
     "output_type": "stream",
     "text": [
      " 25%|██▌       | 158/622 [00:37<01:01,  7.53it/s]"
     ]
    },
    {
     "name": "stdout",
     "output_type": "stream",
     "text": [
      "bone-china-034\n",
      "Does this patient have T2 available? True\n",
      "I'm doing the thing.\n",
      "bone-hup-146\n",
      "Does this patient have T2 available? True\n",
      "I'm doing the thing.\n",
      "bone-penn-152\n",
      "Does this patient have T2 available? True\n",
      "I'm doing the thing.\n"
     ]
    },
    {
     "name": "stderr",
     "output_type": "stream",
     "text": [
      "\r",
      " 26%|██▌       | 160/622 [00:38<01:06,  6.90it/s]"
     ]
    },
    {
     "name": "stdout",
     "output_type": "stream",
     "text": [
      "bone-penn-275\n",
      "Does this patient have T2 available? True\n",
      "I'm doing the thing.\n",
      "bone-hup-275\n",
      "Does this patient have T2 available? True\n",
      "I'm doing the thing.\n"
     ]
    },
    {
     "name": "stderr",
     "output_type": "stream",
     "text": [
      " 26%|██▌       | 163/622 [00:39<01:28,  5.16it/s]"
     ]
    },
    {
     "name": "stdout",
     "output_type": "stream",
     "text": [
      "bone-china-100\n",
      "Does this patient have T2 available? True\n",
      "I'm doing the thing.\n",
      "bone-penn-042\n",
      "Does this patient have T2 available? True\n",
      "I'm doing the thing.\n"
     ]
    },
    {
     "name": "stderr",
     "output_type": "stream",
     "text": [
      "\r",
      " 26%|██▋       | 164/622 [00:39<01:24,  5.45it/s]"
     ]
    },
    {
     "name": "stdout",
     "output_type": "stream",
     "text": [
      "bone-china-154\n",
      "Does this patient have T2 available? True\n",
      "I'm doing the thing.\n",
      "bone-penn-96\n",
      "Does this patient have T2 available? True\n",
      "I'm doing the thing.\n"
     ]
    },
    {
     "name": "stderr",
     "output_type": "stream",
     "text": [
      " 27%|██▋       | 167/622 [00:40<01:31,  4.96it/s]"
     ]
    },
    {
     "name": "stdout",
     "output_type": "stream",
     "text": [
      "bone-penn-527\n",
      "Does this patient have T2 available? True\n",
      "I'm doing the thing.\n",
      "bone-penn-004\n",
      "Does this patient have T2 available? True\n",
      "I'm doing the thing.\n"
     ]
    },
    {
     "name": "stderr",
     "output_type": "stream",
     "text": [
      "\r",
      " 27%|██▋       | 168/622 [00:40<01:48,  4.18it/s]"
     ]
    },
    {
     "name": "stdout",
     "output_type": "stream",
     "text": [
      "bone-penn-108\n",
      "Does this patient have T2 available? True\n",
      "I'm doing the thing.\n"
     ]
    },
    {
     "name": "stderr",
     "output_type": "stream",
     "text": [
      " 27%|██▋       | 170/622 [00:41<01:53,  4.00it/s]"
     ]
    },
    {
     "name": "stdout",
     "output_type": "stream",
     "text": [
      "bone-china-035\n",
      "Does this patient have T2 available? True\n",
      "I'm doing the thing.\n",
      "bone-penn-051\n",
      "Does this patient have T2 available? True\n",
      "I'm doing the thing.\n"
     ]
    },
    {
     "name": "stderr",
     "output_type": "stream",
     "text": [
      "\r",
      " 27%|██▋       | 171/622 [00:41<01:41,  4.43it/s]"
     ]
    },
    {
     "name": "stdout",
     "output_type": "stream",
     "text": [
      "bone-penn-612\n",
      "Does this patient have T2 available? True\n",
      "I'm doing the thing.\n"
     ]
    },
    {
     "name": "stderr",
     "output_type": "stream",
     "text": [
      "\r",
      " 28%|██▊       | 172/622 [00:41<02:15,  3.31it/s]"
     ]
    },
    {
     "name": "stdout",
     "output_type": "stream",
     "text": [
      "bone-penn-502\n",
      "Does this patient have T2 available? True\n",
      "I'm doing the thing.\n"
     ]
    },
    {
     "name": "stderr",
     "output_type": "stream",
     "text": [
      "\r",
      " 28%|██▊       | 173/622 [00:42<02:54,  2.57it/s]"
     ]
    },
    {
     "name": "stdout",
     "output_type": "stream",
     "text": [
      "bone-penn-97\n",
      "Does this patient have T2 available? True\n",
      "I'm doing the thing.\n"
     ]
    },
    {
     "name": "stderr",
     "output_type": "stream",
     "text": [
      " 28%|██▊       | 175/622 [00:43<02:49,  2.64it/s]"
     ]
    },
    {
     "name": "stdout",
     "output_type": "stream",
     "text": [
      "bone-china-073\n",
      "Does this patient have T2 available? True\n",
      "I'm doing the thing.\n",
      "bone-china-173\n",
      "Does this patient have T2 available? True\n",
      "I'm doing the thing.\n"
     ]
    },
    {
     "name": "stderr",
     "output_type": "stream",
     "text": [
      "\r",
      " 28%|██▊       | 177/622 [00:43<02:08,  3.46it/s]"
     ]
    },
    {
     "name": "stdout",
     "output_type": "stream",
     "text": [
      "bone-penn-549\n",
      "Does this patient have T2 available? True\n",
      "I'm doing the thing.\n",
      "bone-penn-349\n",
      "Does this patient have T2 available? True\n",
      "I'm doing the thing.\n"
     ]
    },
    {
     "name": "stderr",
     "output_type": "stream",
     "text": [
      "\r",
      " 29%|██▊       | 178/622 [00:43<01:51,  3.98it/s]"
     ]
    },
    {
     "name": "stdout",
     "output_type": "stream",
     "text": [
      "bone-penn-456\n",
      "Does this patient have T2 available? True\n",
      "I'm doing the thing.\n"
     ]
    },
    {
     "name": "stderr",
     "output_type": "stream",
     "text": [
      "\r",
      " 29%|██▉       | 179/622 [00:43<02:12,  3.35it/s]"
     ]
    },
    {
     "name": "stdout",
     "output_type": "stream",
     "text": [
      "bone-hup-267\n",
      "Does this patient have T2 available? True\n",
      "I'm doing the thing.\n"
     ]
    },
    {
     "name": "stderr",
     "output_type": "stream",
     "text": [
      " 29%|██▉       | 181/622 [00:44<01:43,  4.25it/s]"
     ]
    },
    {
     "name": "stdout",
     "output_type": "stream",
     "text": [
      "bone-china-135\n",
      "Does this patient have T2 available? True\n",
      "I'm doing the thing.\n",
      "bone-hup-291\n",
      "Does this patient have T2 available? True\n",
      "I'm doing the thing.\n"
     ]
    },
    {
     "name": "stderr",
     "output_type": "stream",
     "text": [
      "\r",
      " 29%|██▉       | 182/622 [00:44<01:29,  4.94it/s]"
     ]
    },
    {
     "name": "stdout",
     "output_type": "stream",
     "text": [
      "bone-penn-575\n",
      "Does this patient have T2 available? True\n",
      "I'm doing the thing.\n"
     ]
    },
    {
     "name": "stderr",
     "output_type": "stream",
     "text": [
      "\r",
      " 29%|██▉       | 183/622 [00:44<01:42,  4.27it/s]"
     ]
    },
    {
     "name": "stdout",
     "output_type": "stream",
     "text": [
      "bone-hup-276\n",
      "Does this patient have T2 available? True\n",
      "I'm doing the thing.\n",
      "bone-penn-99\n",
      "Does this patient have T2 available? True\n",
      "I'm doing the thing.\n"
     ]
    },
    {
     "name": "stderr",
     "output_type": "stream",
     "text": [
      "\r",
      " 30%|██▉       | 185/622 [00:45<01:38,  4.45it/s]"
     ]
    },
    {
     "name": "stdout",
     "output_type": "stream",
     "text": [
      "bone-penn-568\n",
      "Does this patient have T2 available? True\n",
      "I'm doing the thing.\n"
     ]
    },
    {
     "name": "stderr",
     "output_type": "stream",
     "text": [
      " 30%|███       | 187/622 [00:45<01:25,  5.07it/s]"
     ]
    },
    {
     "name": "stdout",
     "output_type": "stream",
     "text": [
      "bone-china-041\n",
      "Does this patient have T2 available? True\n",
      "I'm doing the thing.\n",
      "bone-china-029\n",
      "Does this patient have T2 available? True\n",
      "I'm doing the thing.\n",
      "bone-china-158\n",
      "Does this patient have T2 available? True\n",
      "I'm doing the thing.\n"
     ]
    },
    {
     "name": "stderr",
     "output_type": "stream",
     "text": [
      " 31%|███       | 190/622 [00:45<01:03,  6.79it/s]"
     ]
    },
    {
     "name": "stdout",
     "output_type": "stream",
     "text": [
      "bone-china-132\n",
      "Does this patient have T2 available? True\n",
      "I'm doing the thing.\n",
      "bone-hup-119\n",
      "Does this patient have T2 available? True\n",
      "I'm doing the thing.\n"
     ]
    },
    {
     "name": "stderr",
     "output_type": "stream",
     "text": [
      "\r",
      " 31%|███       | 191/622 [00:45<01:03,  6.78it/s]"
     ]
    },
    {
     "name": "stdout",
     "output_type": "stream",
     "text": [
      "bone-hup-154\n",
      "Does this patient have T2 available? True\n",
      "I'm doing the thing.\n"
     ]
    },
    {
     "name": "stderr",
     "output_type": "stream",
     "text": [
      "\r",
      " 31%|███       | 192/622 [00:46<01:16,  5.64it/s]"
     ]
    },
    {
     "name": "stdout",
     "output_type": "stream",
     "text": [
      "bone-penn-571\n",
      "Does this patient have T2 available? True\n",
      "I'm doing the thing.\n"
     ]
    },
    {
     "name": "stderr",
     "output_type": "stream",
     "text": [
      " 31%|███       | 194/622 [00:46<01:25,  5.03it/s]"
     ]
    },
    {
     "name": "stdout",
     "output_type": "stream",
     "text": [
      "bone-penn-413\n",
      "Does this patient have T2 available? True\n",
      "I'm doing the thing.\n",
      "bone-china-092\n",
      "Does this patient have T2 available? True\n",
      "I'm doing the thing.\n"
     ]
    },
    {
     "name": "stderr",
     "output_type": "stream",
     "text": [
      "\r",
      " 32%|███▏      | 196/622 [00:46<01:14,  5.68it/s]"
     ]
    },
    {
     "name": "stdout",
     "output_type": "stream",
     "text": [
      "bone-china-086\n",
      "Does this patient have T2 available? True\n",
      "I'm doing the thing.\n",
      "bone-penn-304\n",
      "Does this patient have T2 available? True\n",
      "I'm doing the thing.\n"
     ]
    },
    {
     "name": "stderr",
     "output_type": "stream",
     "text": [
      " 32%|███▏      | 198/622 [00:47<01:01,  6.86it/s]"
     ]
    },
    {
     "name": "stdout",
     "output_type": "stream",
     "text": [
      "bone-china-119\n",
      "Does this patient have T2 available? True\n",
      "I'm doing the thing.\n",
      "bone-penn-286\n",
      "Does this patient have T2 available? True\n",
      "I'm doing the thing.\n"
     ]
    },
    {
     "name": "stderr",
     "output_type": "stream",
     "text": [
      " 32%|███▏      | 200/622 [00:47<00:57,  7.31it/s]"
     ]
    },
    {
     "name": "stdout",
     "output_type": "stream",
     "text": [
      "bone-china-126\n",
      "Does this patient have T2 available? True\n",
      "I'm doing the thing.\n",
      "bone-china-045\n",
      "Does this patient have T2 available? True\n",
      "I'm doing the thing.\n"
     ]
    },
    {
     "name": "stderr",
     "output_type": "stream",
     "text": [
      "\r",
      " 32%|███▏      | 202/622 [00:47<00:54,  7.78it/s]"
     ]
    },
    {
     "name": "stdout",
     "output_type": "stream",
     "text": [
      "bone-penn-320\n",
      "Does this patient have T2 available? True\n",
      "I'm doing the thing.\n",
      "bone-penn-501\n",
      "Does this patient have T2 available? True\n",
      "I'm doing the thing.\n",
      "bone-penn-480\n",
      "Does this patient have T2 available? True\n",
      "I'm doing the thing.\n"
     ]
    },
    {
     "name": "stderr",
     "output_type": "stream",
     "text": [
      " 33%|███▎      | 206/622 [00:47<00:47,  8.74it/s]"
     ]
    },
    {
     "name": "stdout",
     "output_type": "stream",
     "text": [
      "bone-penn-154\n",
      "Does this patient have T2 available? True\n",
      "I'm doing the thing.\n",
      "bone-penn-141\n",
      "Does this patient have T2 available? True\n",
      "I'm doing the thing.\n",
      "bone-penn-401\n",
      "Does this patient have T2 available? True\n",
      "I'm doing the thing.\n"
     ]
    },
    {
     "name": "stderr",
     "output_type": "stream",
     "text": [
      " 33%|███▎      | 208/622 [00:48<01:02,  6.65it/s]"
     ]
    },
    {
     "name": "stdout",
     "output_type": "stream",
     "text": [
      "bone-china-091\n",
      "Does this patient have T2 available? True\n",
      "I'm doing the thing.\n",
      "bone-china-134\n",
      "Does this patient have T2 available? True\n",
      "I'm doing the thing.\n"
     ]
    },
    {
     "name": "stderr",
     "output_type": "stream",
     "text": [
      " 34%|███▍      | 211/622 [00:48<00:48,  8.41it/s]"
     ]
    },
    {
     "name": "stdout",
     "output_type": "stream",
     "text": [
      "bone-penn-348\n",
      "Does this patient have T2 available? True\n",
      "I'm doing the thing.\n",
      "bone-china-116\n",
      "Does this patient have T2 available? True\n",
      "I'm doing the thing.\n",
      "bone-penn-488\n",
      "Does this patient have T2 available? True\n",
      "I'm doing the thing.\n",
      "bone-penn-556\n",
      "Does this patient have T2 available? True\n",
      "I'm doing the thing.\n"
     ]
    },
    {
     "name": "stderr",
     "output_type": "stream",
     "text": [
      " 34%|███▍      | 214/622 [00:49<00:58,  7.00it/s]"
     ]
    },
    {
     "name": "stdout",
     "output_type": "stream",
     "text": [
      "bone-china-147\n",
      "Does this patient have T2 available? True\n",
      "I'm doing the thing.\n",
      "bone-china-066\n",
      "Does this patient have T2 available? True\n",
      "I'm doing the thing.\n"
     ]
    },
    {
     "name": "stderr",
     "output_type": "stream",
     "text": [
      " 35%|███▍      | 216/622 [00:49<00:55,  7.38it/s]"
     ]
    },
    {
     "name": "stdout",
     "output_type": "stream",
     "text": [
      "bone-china-075\n",
      "Does this patient have T2 available? True\n",
      "I'm doing the thing.\n",
      "bone-china-074\n",
      "Does this patient have T2 available? True\n",
      "I'm doing the thing.\n"
     ]
    },
    {
     "name": "stderr",
     "output_type": "stream",
     "text": [
      "\r",
      " 35%|███▍      | 217/622 [00:49<00:59,  6.76it/s]"
     ]
    },
    {
     "name": "stdout",
     "output_type": "stream",
     "text": [
      "bone-penn-101\n",
      "Does this patient have T2 available? True\n",
      "I'm doing the thing.\n"
     ]
    },
    {
     "name": "stderr",
     "output_type": "stream",
     "text": [
      " 35%|███▌      | 219/622 [00:49<01:11,  5.64it/s]"
     ]
    },
    {
     "name": "stdout",
     "output_type": "stream",
     "text": [
      "bone-penn-057\n",
      "Does this patient have T2 available? True\n",
      "I'm doing the thing.\n",
      "bone-china-123\n",
      "Does this patient have T2 available? True\n",
      "I'm doing the thing.\n"
     ]
    },
    {
     "name": "stderr",
     "output_type": "stream",
     "text": [
      " 36%|███▌      | 221/622 [00:50<01:07,  5.91it/s]"
     ]
    },
    {
     "name": "stdout",
     "output_type": "stream",
     "text": [
      "bone-penn-459\n",
      "Does this patient have T2 available? True\n",
      "I'm doing the thing.\n",
      "bone-china-006\n",
      "Does this patient have T2 available? True\n",
      "I'm doing the thing.\n"
     ]
    },
    {
     "name": "stderr",
     "output_type": "stream",
     "text": [
      "\r",
      " 36%|███▌      | 222/622 [00:50<01:04,  6.23it/s]"
     ]
    },
    {
     "name": "stdout",
     "output_type": "stream",
     "text": [
      "bone-penn-334\n",
      "Does this patient have T2 available? True\n",
      "I'm doing the thing.\n"
     ]
    },
    {
     "name": "stderr",
     "output_type": "stream",
     "text": [
      " 36%|███▌      | 224/622 [00:51<01:30,  4.42it/s]"
     ]
    },
    {
     "name": "stdout",
     "output_type": "stream",
     "text": [
      "bone-china-016\n",
      "Does this patient have T2 available? True\n",
      "I'm doing the thing.\n",
      "bone-penn-516\n",
      "Does this patient have T2 available? True\n",
      "I'm doing the thing.\n"
     ]
    },
    {
     "name": "stderr",
     "output_type": "stream",
     "text": [
      "\r",
      " 36%|███▌      | 225/622 [00:51<01:46,  3.74it/s]"
     ]
    },
    {
     "name": "stdout",
     "output_type": "stream",
     "text": [
      "bone-penn-062\n",
      "Does this patient have T2 available? True\n",
      "I'm doing the thing.\n"
     ]
    },
    {
     "name": "stderr",
     "output_type": "stream",
     "text": [
      "\r",
      " 36%|███▋      | 226/622 [00:52<03:15,  2.03it/s]"
     ]
    },
    {
     "name": "stdout",
     "output_type": "stream",
     "text": [
      "bone-hup-266\n",
      "Does this patient have T2 available? True\n",
      "I'm doing the thing.\n"
     ]
    },
    {
     "name": "stderr",
     "output_type": "stream",
     "text": [
      " 37%|███▋      | 228/622 [00:52<02:22,  2.77it/s]"
     ]
    },
    {
     "name": "stdout",
     "output_type": "stream",
     "text": [
      "bone-penn-471\n",
      "Does this patient have T2 available? True\n",
      "I'm doing the thing.\n",
      "bone-penn-593\n",
      "Does this patient have T2 available? True\n",
      "I'm doing the thing.\n"
     ]
    },
    {
     "name": "stderr",
     "output_type": "stream",
     "text": [
      "\r",
      " 37%|███▋      | 230/622 [00:53<01:49,  3.57it/s]"
     ]
    },
    {
     "name": "stdout",
     "output_type": "stream",
     "text": [
      "bone-china-022\n",
      "Does this patient have T2 available? True\n",
      "I'm doing the thing.\n",
      "bone-penn-303\n",
      "Does this patient have T2 available? True\n",
      "I'm doing the thing.\n"
     ]
    },
    {
     "name": "stderr",
     "output_type": "stream",
     "text": [
      " 37%|███▋      | 232/622 [00:53<01:16,  5.08it/s]"
     ]
    },
    {
     "name": "stdout",
     "output_type": "stream",
     "text": [
      "bone-china-083\n",
      "Does this patient have T2 available? True\n",
      "I'm doing the thing.\n",
      "bone-china-099\n",
      "Does this patient have T2 available? True\n",
      "I'm doing the thing.\n",
      "bone-penn-528\n",
      "Does this patient have T2 available? True\n",
      "I'm doing the thing.\n"
     ]
    },
    {
     "name": "stderr",
     "output_type": "stream",
     "text": [
      " 38%|███▊      | 235/622 [00:53<01:04,  6.01it/s]"
     ]
    },
    {
     "name": "stdout",
     "output_type": "stream",
     "text": [
      "bone-penn-149\n",
      "Does this patient have T2 available? True\n",
      "I'm doing the thing.\n",
      "bone-china-121\n",
      "Does this patient have T2 available? True\n",
      "I'm doing the thing.\n"
     ]
    },
    {
     "name": "stderr",
     "output_type": "stream",
     "text": [
      "\r",
      " 38%|███▊      | 237/622 [00:53<00:59,  6.46it/s]"
     ]
    },
    {
     "name": "stdout",
     "output_type": "stream",
     "text": [
      "bone-penn-159\n",
      "Does this patient have T2 available? True\n",
      "I'm doing the thing.\n",
      "bone-hup-274\n",
      "Does this patient have T2 available? True\n",
      "I'm doing the thing.\n"
     ]
    },
    {
     "name": "stderr",
     "output_type": "stream",
     "text": [
      "\r",
      " 38%|███▊      | 238/622 [00:54<00:56,  6.74it/s]"
     ]
    },
    {
     "name": "stdout",
     "output_type": "stream",
     "text": [
      "bone-hup-328\n",
      "Does this patient have T2 available? True\n",
      "I'm doing the thing.\n"
     ]
    },
    {
     "name": "stderr",
     "output_type": "stream",
     "text": [
      " 39%|███▊      | 240/622 [00:54<01:18,  4.87it/s]"
     ]
    },
    {
     "name": "stdout",
     "output_type": "stream",
     "text": [
      "bone-hup-142\n",
      "Does this patient have T2 available? True\n",
      "I'm doing the thing.\n",
      "bone-penn-87\n",
      "Does this patient have T2 available? True\n",
      "I'm doing the thing.\n"
     ]
    },
    {
     "name": "stderr",
     "output_type": "stream",
     "text": [
      " 39%|███▉      | 242/622 [00:55<01:14,  5.07it/s]"
     ]
    },
    {
     "name": "stdout",
     "output_type": "stream",
     "text": [
      "bone-china-071\n",
      "Does this patient have T2 available? True\n",
      "I'm doing the thing.\n",
      "bone-penn-592\n",
      "Does this patient have T2 available? True\n",
      "I'm doing the thing.\n",
      "bone-penn-498\n",
      "Does this patient have T2 available? True\n",
      "I'm doing the thing.\n"
     ]
    },
    {
     "name": "stderr",
     "output_type": "stream",
     "text": [
      "\r",
      " 39%|███▉      | 244/622 [00:55<01:02,  6.00it/s]"
     ]
    },
    {
     "name": "stdout",
     "output_type": "stream",
     "text": [
      "bone-china-088\n",
      "Does this patient have T2 available? True\n",
      "I'm doing the thing.\n"
     ]
    },
    {
     "name": "stderr",
     "output_type": "stream",
     "text": [
      " 40%|███▉      | 246/622 [00:55<01:03,  5.93it/s]"
     ]
    },
    {
     "name": "stdout",
     "output_type": "stream",
     "text": [
      "bone-china-042\n",
      "Does this patient have T2 available? True\n",
      "I'm doing the thing.\n",
      "bone-hup-129\n",
      "Does this patient have T2 available? True\n",
      "I'm doing the thing.\n"
     ]
    },
    {
     "name": "stderr",
     "output_type": "stream",
     "text": [
      " 40%|███▉      | 248/622 [00:56<01:35,  3.93it/s]"
     ]
    },
    {
     "name": "stdout",
     "output_type": "stream",
     "text": [
      "bone-china-153\n",
      "Does this patient have T2 available? True\n",
      "I'm doing the thing.\n",
      "bone-penn-137\n",
      "Does this patient have T2 available? True\n",
      "I'm doing the thing.\n"
     ]
    },
    {
     "name": "stderr",
     "output_type": "stream",
     "text": [
      "\r",
      " 40%|████      | 249/622 [00:56<01:45,  3.54it/s]"
     ]
    },
    {
     "name": "stdout",
     "output_type": "stream",
     "text": [
      "bone-penn-508\n",
      "Does this patient have T2 available? True\n",
      "I'm doing the thing.\n"
     ]
    },
    {
     "name": "stderr",
     "output_type": "stream",
     "text": [
      "\r",
      " 40%|████      | 250/622 [00:57<01:42,  3.63it/s]"
     ]
    },
    {
     "name": "stdout",
     "output_type": "stream",
     "text": [
      "bone-penn-538\n",
      "Does this patient have T2 available? True\n",
      "I'm doing the thing.\n"
     ]
    },
    {
     "name": "stderr",
     "output_type": "stream",
     "text": [
      "\r",
      " 40%|████      | 251/622 [00:57<02:00,  3.07it/s]"
     ]
    },
    {
     "name": "stdout",
     "output_type": "stream",
     "text": [
      "bone-china-014\n",
      "Does this patient have T2 available? True\n",
      "I'm doing the thing.\n",
      "bone-penn-589\n",
      "Does this patient have T2 available? True\n",
      "I'm doing the thing.\n"
     ]
    },
    {
     "name": "stderr",
     "output_type": "stream",
     "text": [
      "\r",
      " 41%|████      | 253/622 [00:57<01:43,  3.56it/s]"
     ]
    },
    {
     "name": "stdout",
     "output_type": "stream",
     "text": [
      "bone-penn-446\n",
      "Does this patient have T2 available? True\n",
      "I'm doing the thing.\n"
     ]
    },
    {
     "name": "stderr",
     "output_type": "stream",
     "text": [
      " 41%|████      | 255/622 [00:58<01:21,  4.51it/s]"
     ]
    },
    {
     "name": "stdout",
     "output_type": "stream",
     "text": [
      "bone-china-080\n",
      "Does this patient have T2 available? True\n",
      "I'm doing the thing.\n",
      "bone-china-087\n",
      "Does this patient have T2 available? True\n",
      "I'm doing the thing.\n",
      "bone-penn-111\n",
      "Does this patient have T2 available? True\n",
      "I'm doing the thing.\n"
     ]
    },
    {
     "name": "stderr",
     "output_type": "stream",
     "text": [
      " 41%|████▏     | 258/622 [00:58<01:05,  5.56it/s]"
     ]
    },
    {
     "name": "stdout",
     "output_type": "stream",
     "text": [
      "bone-hup-330\n",
      "Does this patient have T2 available? True\n",
      "I'm doing the thing.\n",
      "bone-china-131\n",
      "Does this patient have T2 available? True\n",
      "I'm doing the thing.\n",
      "bone-china-143\n",
      "Does this patient have T2 available? True\n",
      "I'm doing the thing.\n"
     ]
    },
    {
     "name": "stderr",
     "output_type": "stream",
     "text": [
      " 42%|████▏     | 261/622 [00:59<00:58,  6.20it/s]"
     ]
    },
    {
     "name": "stdout",
     "output_type": "stream",
     "text": [
      "bone-china-104\n",
      "Does this patient have T2 available? True\n",
      "I'm doing the thing.\n",
      "bone-china-155\n",
      "Does this patient have T2 available? True\n",
      "I'm doing the thing.\n"
     ]
    },
    {
     "name": "stderr",
     "output_type": "stream",
     "text": [
      "\r",
      " 42%|████▏     | 263/622 [00:59<00:50,  7.13it/s]"
     ]
    },
    {
     "name": "stdout",
     "output_type": "stream",
     "text": [
      "bone-penn-504\n",
      "Does this patient have T2 available? True\n",
      "I'm doing the thing.\n",
      "bone-china-027\n",
      "Does this patient have T2 available? True\n",
      "I'm doing the thing.\n"
     ]
    },
    {
     "name": "stderr",
     "output_type": "stream",
     "text": [
      " 43%|████▎     | 265/622 [00:59<00:43,  8.14it/s]"
     ]
    },
    {
     "name": "stdout",
     "output_type": "stream",
     "text": [
      "bone-hup-257\n",
      "Does this patient have T2 available? True\n",
      "I'm doing the thing.\n",
      "bone-china-129\n",
      "Does this patient have T2 available? True\n",
      "I'm doing the thing.\n",
      "bone-penn-045\n",
      "Does this patient have T2 available? True\n",
      "I'm doing the thing.\n"
     ]
    },
    {
     "name": "stderr",
     "output_type": "stream",
     "text": [
      " 43%|████▎     | 268/622 [00:59<00:47,  7.45it/s]"
     ]
    },
    {
     "name": "stdout",
     "output_type": "stream",
     "text": [
      "bone-china-084\n",
      "Does this patient have T2 available? True\n",
      "I'm doing the thing.\n",
      "bone-hup-327\n",
      "Does this patient have T2 available? True\n",
      "I'm doing the thing.\n"
     ]
    },
    {
     "name": "stderr",
     "output_type": "stream",
     "text": [
      "\r",
      " 43%|████▎     | 269/622 [00:59<00:45,  7.80it/s]"
     ]
    },
    {
     "name": "stdout",
     "output_type": "stream",
     "text": [
      "bone-penn-313\n",
      "Does this patient have T2 available? True\n",
      "I'm doing the thing.\n"
     ]
    },
    {
     "name": "stderr",
     "output_type": "stream",
     "text": [
      " 44%|████▎     | 271/622 [01:00<01:01,  5.74it/s]"
     ]
    },
    {
     "name": "stdout",
     "output_type": "stream",
     "text": [
      "bone-hup-292\n",
      "Does this patient have T2 available? True\n",
      "I'm doing the thing.\n",
      "bone-penn-506\n",
      "Does this patient have T2 available? True\n",
      "I'm doing the thing.\n"
     ]
    },
    {
     "name": "stderr",
     "output_type": "stream",
     "text": [
      " 44%|████▍     | 274/622 [01:00<00:58,  5.92it/s]"
     ]
    },
    {
     "name": "stdout",
     "output_type": "stream",
     "text": [
      "bone-penn-586\n",
      "Does this patient have T2 available? True\n",
      "I'm doing the thing.\n",
      "bone-china-138\n",
      "Does this patient have T2 available? True\n",
      "I'm doing the thing.\n",
      "bone-hup-161\n",
      "Does this patient have T2 available? True\n",
      "I'm doing the thing.\n"
     ]
    },
    {
     "name": "stderr",
     "output_type": "stream",
     "text": [
      "\r",
      " 44%|████▍     | 276/622 [01:01<00:48,  7.14it/s]"
     ]
    },
    {
     "name": "stdout",
     "output_type": "stream",
     "text": [
      "bone-hup-310\n",
      "Does this patient have T2 available? True\n",
      "I'm doing the thing.\n",
      "bone-china-017\n",
      "Does this patient have T2 available? True\n",
      "I'm doing the thing.\n",
      "bone-penn-382\n",
      "Does this patient have T2 available? True\n",
      "I'm doing the thing.\n"
     ]
    },
    {
     "name": "stderr",
     "output_type": "stream",
     "text": [
      "\r",
      " 45%|████▍     | 278/622 [01:01<00:42,  8.02it/s]"
     ]
    },
    {
     "name": "stdout",
     "output_type": "stream",
     "text": [
      "bone-hup-122\n",
      "Does this patient have T2 available? True\n",
      "I'm doing the thing.\n",
      "bone-hup-126\n",
      "Does this patient have T2 available? True\n",
      "I'm doing the thing.\n"
     ]
    },
    {
     "name": "stderr",
     "output_type": "stream",
     "text": [
      " 45%|████▌     | 282/622 [01:01<00:43,  7.84it/s]"
     ]
    },
    {
     "name": "stdout",
     "output_type": "stream",
     "text": [
      "bone-hup-298\n",
      "Does this patient have T2 available? True\n",
      "I'm doing the thing.\n",
      "bone-china-049\n",
      "Does this patient have T2 available? True\n",
      "I'm doing the thing.\n",
      "bone-hup-306\n",
      "Does this patient have T2 available? True\n",
      "I'm doing the thing.\n"
     ]
    },
    {
     "name": "stderr",
     "output_type": "stream",
     "text": [
      "\r",
      " 45%|████▌     | 283/622 [01:01<00:49,  6.82it/s]"
     ]
    },
    {
     "name": "stdout",
     "output_type": "stream",
     "text": [
      "bone-hup-295\n",
      "Does this patient have T2 available? True\n",
      "I'm doing the thing.\n"
     ]
    },
    {
     "name": "stderr",
     "output_type": "stream",
     "text": [
      "\r",
      " 46%|████▌     | 284/622 [01:02<01:38,  3.43it/s]"
     ]
    },
    {
     "name": "stdout",
     "output_type": "stream",
     "text": [
      "bone-penn-289\n",
      "Does this patient have T2 available? True\n",
      "I'm doing the thing.\n"
     ]
    },
    {
     "name": "stderr",
     "output_type": "stream",
     "text": [
      "\r",
      " 46%|████▌     | 285/622 [01:02<01:39,  3.39it/s]"
     ]
    },
    {
     "name": "stdout",
     "output_type": "stream",
     "text": [
      "bone-china-059\n",
      "Does this patient have T2 available? True\n",
      "I'm doing the thing.\n",
      "bone-china-118\n",
      "Does this patient have T2 available? True\n",
      "I'm doing the thing.\n"
     ]
    },
    {
     "name": "stderr",
     "output_type": "stream",
     "text": [
      "\r",
      " 46%|████▌     | 287/622 [01:03<01:22,  4.08it/s]"
     ]
    },
    {
     "name": "stdout",
     "output_type": "stream",
     "text": [
      "bone-hup-158\n",
      "Does this patient have T2 available? True\n",
      "I'm doing the thing.\n"
     ]
    },
    {
     "name": "stderr",
     "output_type": "stream",
     "text": [
      " 46%|████▋     | 289/622 [01:03<01:14,  4.45it/s]"
     ]
    },
    {
     "name": "stdout",
     "output_type": "stream",
     "text": [
      "bone-china-001\n",
      "Does this patient have T2 available? True\n",
      "I'm doing the thing.\n",
      "bone-china-047\n",
      "Does this patient have T2 available? True\n",
      "I'm doing the thing.\n"
     ]
    },
    {
     "name": "stderr",
     "output_type": "stream",
     "text": [
      "\r",
      " 47%|████▋     | 290/622 [01:03<01:03,  5.21it/s]"
     ]
    },
    {
     "name": "stdout",
     "output_type": "stream",
     "text": [
      "bone-china-054\n",
      "Does this patient have T2 available? True\n",
      "I'm doing the thing.\n",
      "bone-penn-058\n",
      "Does this patient have T2 available? True\n",
      "I'm doing the thing.\n"
     ]
    },
    {
     "name": "stderr",
     "output_type": "stream",
     "text": [
      "\r",
      " 47%|████▋     | 292/622 [01:04<01:14,  4.44it/s]"
     ]
    },
    {
     "name": "stdout",
     "output_type": "stream",
     "text": [
      "bone-china-021\n",
      "Does this patient have T2 available? True\n",
      "I'm doing the thing.\n",
      "bone-china-076\n",
      "Does this patient have T2 available? True\n",
      "I'm doing the thing.\n"
     ]
    },
    {
     "name": "stderr",
     "output_type": "stream",
     "text": [
      " 47%|████▋     | 295/622 [01:04<01:07,  4.84it/s]"
     ]
    },
    {
     "name": "stdout",
     "output_type": "stream",
     "text": [
      "bone-hup-150\n",
      "Does this patient have T2 available? True\n",
      "I'm doing the thing.\n",
      "bone-china-136\n",
      "Does this patient have T2 available? True\n",
      "I'm doing the thing.\n"
     ]
    },
    {
     "name": "stderr",
     "output_type": "stream",
     "text": [
      "\r",
      " 48%|████▊     | 297/622 [01:05<00:55,  5.86it/s]"
     ]
    },
    {
     "name": "stdout",
     "output_type": "stream",
     "text": [
      "bone-penn-015\n",
      "Does this patient have T2 available? True\n",
      "I'm doing the thing.\n",
      "bone-hup-312\n",
      "Does this patient have T2 available? True\n",
      "I'm doing the thing.\n"
     ]
    },
    {
     "name": "stderr",
     "output_type": "stream",
     "text": [
      " 48%|████▊     | 299/622 [01:05<00:55,  5.78it/s]"
     ]
    },
    {
     "name": "stdout",
     "output_type": "stream",
     "text": [
      "bone-penn-548\n",
      "Does this patient have T2 available? True\n",
      "I'm doing the thing.\n",
      "bone-penn-056\n",
      "Does this patient have T2 available? True\n",
      "I'm doing the thing.\n"
     ]
    },
    {
     "name": "stderr",
     "output_type": "stream",
     "text": [
      "\r",
      " 48%|████▊     | 300/622 [01:05<01:10,  4.58it/s]"
     ]
    },
    {
     "name": "stdout",
     "output_type": "stream",
     "text": [
      "bone-penn-453\n",
      "Does this patient have T2 available? True\n",
      "I'm doing the thing.\n"
     ]
    },
    {
     "name": "stderr",
     "output_type": "stream",
     "text": [
      " 49%|████▊     | 302/622 [01:06<01:10,  4.53it/s]"
     ]
    },
    {
     "name": "stdout",
     "output_type": "stream",
     "text": [
      "bone-china-015\n",
      "Does this patient have T2 available? True\n",
      "I'm doing the thing.\n",
      "bone-hup-271\n",
      "Does this patient have T2 available? True\n",
      "I'm doing the thing.\n"
     ]
    },
    {
     "name": "stderr",
     "output_type": "stream",
     "text": [
      " 49%|████▉     | 304/622 [01:06<01:05,  4.84it/s]"
     ]
    },
    {
     "name": "stdout",
     "output_type": "stream",
     "text": [
      "bone-penn-071\n",
      "Does this patient have T2 available? True\n",
      "I'm doing the thing.\n",
      "bone-penn-555\n",
      "Does this patient have T2 available? True\n",
      "I'm doing the thing.\n"
     ]
    },
    {
     "name": "stderr",
     "output_type": "stream",
     "text": [
      " 50%|████▉     | 308/622 [01:07<00:53,  5.88it/s]"
     ]
    },
    {
     "name": "stdout",
     "output_type": "stream",
     "text": [
      "bone-penn-403\n",
      "Does this patient have T2 available? True\n",
      "I'm doing the thing.\n",
      "bone-china-061\n",
      "Does this patient have T2 available? True\n",
      "I'm doing the thing.\n",
      "bone-penn-537\n",
      "Does this patient have T2 available? True\n",
      "I'm doing the thing.\n",
      "bone-penn-503\n",
      "Does this patient have T2 available? True\n",
      "I'm doing the thing.\n"
     ]
    },
    {
     "name": "stderr",
     "output_type": "stream",
     "text": [
      "\r",
      " 50%|████▉     | 309/622 [01:07<00:49,  6.28it/s]"
     ]
    },
    {
     "name": "stdout",
     "output_type": "stream",
     "text": [
      "bone-china-152\n",
      "Does this patient have T2 available? True\n",
      "I'm doing the thing.\n",
      "bone-hup-322\n",
      "Does this patient have T2 available? True\n",
      "I'm doing the thing.\n"
     ]
    },
    {
     "name": "stderr",
     "output_type": "stream",
     "text": [
      "\r",
      " 50%|█████     | 311/622 [01:07<00:49,  6.24it/s]"
     ]
    },
    {
     "name": "stdout",
     "output_type": "stream",
     "text": [
      "bone-china-002\n",
      "Does this patient have T2 available? True\n",
      "I'm doing the thing.\n",
      "bone-penn-462\n",
      "Does this patient have T2 available? True\n",
      "I'm doing the thing.\n"
     ]
    },
    {
     "name": "stderr",
     "output_type": "stream",
     "text": [
      " 50%|█████     | 314/622 [01:08<00:50,  6.12it/s]"
     ]
    },
    {
     "name": "stdout",
     "output_type": "stream",
     "text": [
      "bone-hup-315\n",
      "Does this patient have T2 available? True\n",
      "I'm doing the thing.\n",
      "bone-penn-116\n",
      "Does this patient have T2 available? True\n",
      "I'm doing the thing.\n"
     ]
    },
    {
     "name": "stderr",
     "output_type": "stream",
     "text": [
      "\r",
      " 51%|█████     | 315/622 [01:08<00:46,  6.63it/s]"
     ]
    },
    {
     "name": "stdout",
     "output_type": "stream",
     "text": [
      "bone-penn-86\n",
      "Does this patient have T2 available? True\n",
      "I'm doing the thing.\n"
     ]
    },
    {
     "name": "stderr",
     "output_type": "stream",
     "text": [
      " 51%|█████     | 317/622 [01:08<00:59,  5.15it/s]"
     ]
    },
    {
     "name": "stdout",
     "output_type": "stream",
     "text": [
      "bone-china-170\n",
      "Does this patient have T2 available? True\n",
      "I'm doing the thing.\n",
      "bone-penn-291\n",
      "Does this patient have T2 available? True\n",
      "I'm doing the thing.\n"
     ]
    },
    {
     "name": "stderr",
     "output_type": "stream",
     "text": [
      "\r",
      " 51%|█████     | 318/622 [01:08<00:52,  5.80it/s]"
     ]
    },
    {
     "name": "stdout",
     "output_type": "stream",
     "text": [
      "bone-china-058\n",
      "Does this patient have T2 available? True\n",
      "I'm doing the thing.\n"
     ]
    },
    {
     "name": "stderr",
     "output_type": "stream",
     "text": [
      "\r",
      " 51%|█████▏    | 319/622 [01:09<01:57,  2.58it/s]"
     ]
    },
    {
     "name": "stdout",
     "output_type": "stream",
     "text": [
      "bone-hup-299\n",
      "Does this patient have T2 available? True\n",
      "I'm doing the thing.\n"
     ]
    },
    {
     "name": "stderr",
     "output_type": "stream",
     "text": [
      "\r",
      " 51%|█████▏    | 320/622 [01:09<01:41,  2.99it/s]"
     ]
    },
    {
     "name": "stdout",
     "output_type": "stream",
     "text": [
      "bone-penn-452\n",
      "Does this patient have T2 available? True\n",
      "I'm doing the thing.\n"
     ]
    },
    {
     "name": "stderr",
     "output_type": "stream",
     "text": [
      "\r",
      " 52%|█████▏    | 321/622 [01:10<01:42,  2.94it/s]"
     ]
    },
    {
     "name": "stdout",
     "output_type": "stream",
     "text": [
      "bone-hup-314\n",
      "Does this patient have T2 available? True\n",
      "I'm doing the thing.\n",
      "bone-penn-578\n",
      "Does this patient have T2 available? True\n",
      "I'm doing the thing.\n"
     ]
    },
    {
     "name": "stderr",
     "output_type": "stream",
     "text": [
      "\r",
      " 52%|█████▏    | 323/622 [01:11<02:00,  2.49it/s]"
     ]
    },
    {
     "name": "stdout",
     "output_type": "stream",
     "text": [
      "bone-penn-131\n",
      "Does this patient have T2 available? True\n",
      "I'm doing the thing.\n"
     ]
    },
    {
     "name": "stderr",
     "output_type": "stream",
     "text": [
      "\r",
      " 52%|█████▏    | 324/622 [01:11<01:55,  2.58it/s]"
     ]
    },
    {
     "name": "stdout",
     "output_type": "stream",
     "text": [
      "bone-penn-037\n",
      "Does this patient have T2 available? True\n",
      "I'm doing the thing.\n",
      "bone-china-122\n",
      "Does this patient have T2 available? True\n",
      "I'm doing the thing.\n"
     ]
    },
    {
     "name": "stderr",
     "output_type": "stream",
     "text": [
      " 53%|█████▎    | 327/622 [01:12<01:15,  3.89it/s]"
     ]
    },
    {
     "name": "stdout",
     "output_type": "stream",
     "text": [
      "bone-penn-281\n",
      "Does this patient have T2 available? True\n",
      "I'm doing the thing.\n",
      "bone-hup-272\n",
      "Does this patient have T2 available? True\n",
      "I'm doing the thing.\n"
     ]
    },
    {
     "name": "stderr",
     "output_type": "stream",
     "text": [
      "\r",
      " 53%|█████▎    | 328/622 [01:12<01:30,  3.24it/s]"
     ]
    },
    {
     "name": "stdout",
     "output_type": "stream",
     "text": [
      "bone-china-161\n",
      "Does this patient have T2 available? True\n",
      "I'm doing the thing.\n",
      "bone-penn-385\n",
      "Does this patient have T2 available? True\n",
      "I'm doing the thing.\n"
     ]
    },
    {
     "name": "stderr",
     "output_type": "stream",
     "text": [
      "\r",
      " 53%|█████▎    | 330/622 [01:12<01:23,  3.48it/s]"
     ]
    },
    {
     "name": "stdout",
     "output_type": "stream",
     "text": [
      "bone-penn-591\n",
      "Does this patient have T2 available? True\n",
      "I'm doing the thing.\n"
     ]
    },
    {
     "name": "stderr",
     "output_type": "stream",
     "text": [
      "\r",
      " 53%|█████▎    | 331/622 [01:13<01:23,  3.48it/s]"
     ]
    },
    {
     "name": "stdout",
     "output_type": "stream",
     "text": [
      "bone-hup-281\n",
      "Does this patient have T2 available? True\n",
      "I'm doing the thing.\n"
     ]
    },
    {
     "name": "stderr",
     "output_type": "stream",
     "text": [
      " 54%|█████▎    | 333/622 [01:13<01:10,  4.13it/s]"
     ]
    },
    {
     "name": "stdout",
     "output_type": "stream",
     "text": [
      "bone-penn-061\n",
      "Does this patient have T2 available? True\n",
      "I'm doing the thing.\n",
      "bone-penn-91\n",
      "Does this patient have T2 available? True\n",
      "I'm doing the thing.\n",
      "bone-penn-397\n",
      "Does this patient have T2 available? True\n",
      "I'm doing the thing.\n"
     ]
    },
    {
     "name": "stderr",
     "output_type": "stream",
     "text": [
      "\r",
      " 54%|█████▍    | 335/622 [01:13<01:03,  4.55it/s]"
     ]
    },
    {
     "name": "stdout",
     "output_type": "stream",
     "text": [
      "bone-penn-521\n",
      "Does this patient have T2 available? True\n",
      "I'm doing the thing.\n"
     ]
    },
    {
     "name": "stderr",
     "output_type": "stream",
     "text": [
      " 54%|█████▍    | 337/622 [01:14<01:31,  3.13it/s]"
     ]
    },
    {
     "name": "stdout",
     "output_type": "stream",
     "text": [
      "bone-china-038\n",
      "Does this patient have T2 available? True\n",
      "I'm doing the thing.\n",
      "bone-china-030\n",
      "Does this patient have T2 available? True\n",
      "I'm doing the thing.\n",
      "bone-penn-002\n",
      "Does this patient have T2 available? True\n",
      "I'm doing the thing.\n"
     ]
    },
    {
     "name": "stderr",
     "output_type": "stream",
     "text": [
      " 55%|█████▍    | 340/622 [01:15<01:04,  4.39it/s]"
     ]
    },
    {
     "name": "stdout",
     "output_type": "stream",
     "text": [
      "bone-china-065\n",
      "Does this patient have T2 available? True\n",
      "I'm doing the thing.\n",
      "bone-penn-572\n",
      "Does this patient have T2 available? True\n",
      "I'm doing the thing.\n"
     ]
    },
    {
     "name": "stderr",
     "output_type": "stream",
     "text": [
      "\r",
      " 55%|█████▍    | 341/622 [01:15<00:56,  5.02it/s]"
     ]
    },
    {
     "name": "stdout",
     "output_type": "stream",
     "text": [
      "bone-hup-302\n",
      "Does this patient have T2 available? True\n",
      "I'm doing the thing.\n"
     ]
    },
    {
     "name": "stderr",
     "output_type": "stream",
     "text": [
      " 55%|█████▌    | 343/622 [01:16<01:02,  4.45it/s]"
     ]
    },
    {
     "name": "stdout",
     "output_type": "stream",
     "text": [
      "bone-penn-491\n",
      "Does this patient have T2 available? True\n",
      "I'm doing the thing.\n",
      "bone-penn-423\n",
      "Does this patient have T2 available? True\n",
      "I'm doing the thing.\n"
     ]
    },
    {
     "name": "stderr",
     "output_type": "stream",
     "text": [
      "\r",
      " 55%|█████▌    | 344/622 [01:16<01:47,  2.58it/s]"
     ]
    },
    {
     "name": "stdout",
     "output_type": "stream",
     "text": [
      "bone-hup-320\n",
      "Does this patient have T2 available? True\n",
      "I'm doing the thing.\n"
     ]
    },
    {
     "name": "stderr",
     "output_type": "stream",
     "text": [
      "\r",
      " 55%|█████▌    | 345/622 [01:17<02:24,  1.92it/s]"
     ]
    },
    {
     "name": "stdout",
     "output_type": "stream",
     "text": [
      "bone-penn-500\n",
      "Does this patient have T2 available? True\n",
      "I'm doing the thing.\n"
     ]
    },
    {
     "name": "stderr",
     "output_type": "stream",
     "text": [
      "\r",
      " 56%|█████▌    | 346/622 [01:17<02:06,  2.18it/s]"
     ]
    },
    {
     "name": "stdout",
     "output_type": "stream",
     "text": [
      "bone-china-036\n",
      "Does this patient have T2 available? True\n",
      "I'm doing the thing.\n",
      "bone-penn-484\n",
      "Does this patient have T2 available? True\n",
      "I'm doing the thing.\n"
     ]
    },
    {
     "name": "stderr",
     "output_type": "stream",
     "text": [
      " 56%|█████▌    | 349/622 [01:18<01:16,  3.57it/s]"
     ]
    },
    {
     "name": "stdout",
     "output_type": "stream",
     "text": [
      "bone-china-175\n",
      "Does this patient have T2 available? True\n",
      "I'm doing the thing.\n",
      "bone-penn-030\n",
      "Does this patient have T2 available? True\n",
      "I'm doing the thing.\n"
     ]
    },
    {
     "name": "stderr",
     "output_type": "stream",
     "text": [
      " 56%|█████▋    | 351/622 [01:18<01:01,  4.43it/s]"
     ]
    },
    {
     "name": "stdout",
     "output_type": "stream",
     "text": [
      "bone-hup-79\n",
      "Does this patient have T2 available? True\n",
      "I'm doing the thing.\n",
      "bone-hup-175\n",
      "Does this patient have T2 available? True\n",
      "I'm doing the thing.\n"
     ]
    },
    {
     "name": "stderr",
     "output_type": "stream",
     "text": [
      "\r",
      " 57%|█████▋    | 352/622 [01:18<00:54,  4.96it/s]"
     ]
    },
    {
     "name": "stdout",
     "output_type": "stream",
     "text": [
      "bone-penn-226\n",
      "Does this patient have T2 available? True\n",
      "I'm doing the thing.\n",
      "bone-penn-011\n",
      "Does this patient have T2 available? True\n",
      "I'm doing the thing.\n"
     ]
    },
    {
     "name": "stderr",
     "output_type": "stream",
     "text": [
      " 57%|█████▋    | 355/622 [01:19<00:44,  6.00it/s]"
     ]
    },
    {
     "name": "stdout",
     "output_type": "stream",
     "text": [
      "bone-penn-188\n",
      "Does this patient have T2 available? True\n",
      "I'm doing the thing.\n",
      "bone-penn-166\n",
      "Does this patient have T2 available? True\n",
      "I'm doing the thing.\n"
     ]
    },
    {
     "name": "stderr",
     "output_type": "stream",
     "text": [
      "\r",
      " 57%|█████▋    | 356/622 [01:19<00:42,  6.32it/s]"
     ]
    },
    {
     "name": "stdout",
     "output_type": "stream",
     "text": [
      "bone-penn-239\n",
      "Does this patient have T2 available? True\n",
      "I'm doing the thing.\n"
     ]
    },
    {
     "name": "stderr",
     "output_type": "stream",
     "text": [
      "\r",
      " 57%|█████▋    | 357/622 [01:19<00:48,  5.43it/s]"
     ]
    },
    {
     "name": "stdout",
     "output_type": "stream",
     "text": [
      "bone-hup-101\n",
      "Does this patient have T2 available? True\n",
      "I'm doing the thing.\n"
     ]
    },
    {
     "name": "stderr",
     "output_type": "stream",
     "text": [
      "\r",
      " 58%|█████▊    | 358/622 [01:19<00:55,  4.73it/s]"
     ]
    },
    {
     "name": "stdout",
     "output_type": "stream",
     "text": [
      "bone-penn-311\n",
      "Does this patient have T2 available? True\n",
      "I'm doing the thing.\n"
     ]
    },
    {
     "name": "stderr",
     "output_type": "stream",
     "text": [
      " 58%|█████▊    | 360/622 [01:20<00:52,  4.96it/s]"
     ]
    },
    {
     "name": "stdout",
     "output_type": "stream",
     "text": [
      "bone-penn-161\n",
      "Does this patient have T2 available? True\n",
      "I'm doing the thing.\n",
      "bone-penn-628\n",
      "Does this patient have T2 available? True\n",
      "I'm doing the thing.\n"
     ]
    },
    {
     "name": "stderr",
     "output_type": "stream",
     "text": [
      " 58%|█████▊    | 362/622 [01:20<00:41,  6.29it/s]"
     ]
    },
    {
     "name": "stdout",
     "output_type": "stream",
     "text": [
      "bone-penn-180\n",
      "Does this patient have T2 available? True\n",
      "I'm doing the thing.\n",
      "bone-penn-599\n",
      "Does this patient have T2 available? True\n",
      "I'm doing the thing.\n"
     ]
    },
    {
     "name": "stderr",
     "output_type": "stream",
     "text": [
      "\r",
      " 58%|█████▊    | 363/622 [01:20<00:57,  4.52it/s]"
     ]
    },
    {
     "name": "stdout",
     "output_type": "stream",
     "text": [
      "bone-china-195\n",
      "Does this patient have T2 available? True\n",
      "I'm doing the thing.\n",
      "bone-hup-88\n",
      "Does this patient have T2 available? True\n",
      "I'm doing the thing.\n"
     ]
    },
    {
     "name": "stderr",
     "output_type": "stream",
     "text": [
      "\r",
      " 59%|█████▊    | 365/622 [01:21<00:59,  4.33it/s]"
     ]
    },
    {
     "name": "stdout",
     "output_type": "stream",
     "text": [
      "bone-penn-264\n",
      "Does this patient have T2 available? True\n",
      "I'm doing the thing.\n"
     ]
    },
    {
     "name": "stderr",
     "output_type": "stream",
     "text": [
      "\r",
      " 59%|█████▉    | 366/622 [01:21<01:07,  3.79it/s]"
     ]
    },
    {
     "name": "stdout",
     "output_type": "stream",
     "text": [
      "bone-penn-615\n",
      "Does this patient have T2 available? True\n",
      "I'm doing the thing.\n"
     ]
    },
    {
     "name": "stderr",
     "output_type": "stream",
     "text": [
      " 59%|█████▉    | 368/622 [01:22<01:03,  4.01it/s]"
     ]
    },
    {
     "name": "stdout",
     "output_type": "stream",
     "text": [
      "bone-china-203\n",
      "Does this patient have T2 available? True\n",
      "I'm doing the thing.\n",
      "bone-hup-98\n",
      "Does this patient have T2 available? True\n",
      "I'm doing the thing.\n"
     ]
    },
    {
     "name": "stderr",
     "output_type": "stream",
     "text": [
      " 59%|█████▉    | 370/622 [01:22<00:53,  4.71it/s]"
     ]
    },
    {
     "name": "stdout",
     "output_type": "stream",
     "text": [
      "bone-hup-73\n",
      "Does this patient have T2 available? True\n",
      "I'm doing the thing.\n",
      "bone-penn-641\n",
      "Does this patient have T2 available? True\n",
      "I'm doing the thing.\n",
      "bone-penn-378\n",
      "Does this patient have T2 available? True\n",
      "I'm doing the thing.\n"
     ]
    },
    {
     "name": "stderr",
     "output_type": "stream",
     "text": [
      " 60%|██████    | 374/622 [01:23<00:44,  5.63it/s]"
     ]
    },
    {
     "name": "stdout",
     "output_type": "stream",
     "text": [
      "bone-hup-113\n",
      "Does this patient have T2 available? True\n",
      "I'm doing the thing.\n",
      "bone-china-228\n",
      "Does this patient have T2 available? True\n",
      "I'm doing the thing.\n",
      "bone-penn-206\n",
      "Does this patient have T2 available? True\n",
      "I'm doing the thing.\n"
     ]
    },
    {
     "name": "stderr",
     "output_type": "stream",
     "text": [
      "\r",
      " 60%|██████    | 376/622 [01:23<00:40,  6.10it/s]"
     ]
    },
    {
     "name": "stdout",
     "output_type": "stream",
     "text": [
      "bone-penn-651\n",
      "Does this patient have T2 available? True\n",
      "I'm doing the thing.\n",
      "bone-hup-80\n",
      "Does this patient have T2 available? True\n",
      "I'm doing the thing.\n"
     ]
    },
    {
     "name": "stderr",
     "output_type": "stream",
     "text": [
      "\r",
      " 61%|██████    | 377/622 [01:23<00:51,  4.74it/s]"
     ]
    },
    {
     "name": "stdout",
     "output_type": "stream",
     "text": [
      "bone-hup-141\n",
      "Does this patient have T2 available? True\n",
      "I'm doing the thing.\n"
     ]
    },
    {
     "name": "stderr",
     "output_type": "stream",
     "text": [
      "\r",
      " 61%|██████    | 378/622 [01:24<01:27,  2.80it/s]"
     ]
    },
    {
     "name": "stdout",
     "output_type": "stream",
     "text": [
      "bone-penn-429\n",
      "Does this patient have T2 available? True\n",
      "I'm doing the thing.\n"
     ]
    },
    {
     "name": "stderr",
     "output_type": "stream",
     "text": [
      " 61%|██████    | 380/622 [01:24<01:08,  3.53it/s]"
     ]
    },
    {
     "name": "stdout",
     "output_type": "stream",
     "text": [
      "bone-penn-370\n",
      "Does this patient have T2 available? True\n",
      "I'm doing the thing.\n",
      "bone-china-186\n",
      "Does this patient have T2 available? True\n",
      "I'm doing the thing.\n",
      "bone-hup-277\n",
      "Does this patient have T2 available? True\n",
      "I'm doing the thing.\n"
     ]
    },
    {
     "name": "stderr",
     "output_type": "stream",
     "text": [
      " 62%|██████▏   | 384/622 [01:25<00:45,  5.25it/s]"
     ]
    },
    {
     "name": "stdout",
     "output_type": "stream",
     "text": [
      "bone-penn-165\n",
      "Does this patient have T2 available? True\n",
      "I'm doing the thing.\n",
      "bone-hup-283\n",
      "Does this patient have T2 available? True\n",
      "I'm doing the thing.\n",
      "bone-china-200\n",
      "Does this patient have T2 available? True\n",
      "I'm doing the thing.\n"
     ]
    },
    {
     "name": "stderr",
     "output_type": "stream",
     "text": [
      " 62%|██████▏   | 386/622 [01:25<00:38,  6.06it/s]"
     ]
    },
    {
     "name": "stdout",
     "output_type": "stream",
     "text": [
      "bone-penn-298\n",
      "Does this patient have T2 available? True\n",
      "I'm doing the thing.\n",
      "bone-china-204\n",
      "Does this patient have T2 available? True\n",
      "I'm doing the thing.\n"
     ]
    },
    {
     "name": "stderr",
     "output_type": "stream",
     "text": [
      "\r",
      " 62%|██████▏   | 387/622 [01:25<00:36,  6.41it/s]"
     ]
    },
    {
     "name": "stdout",
     "output_type": "stream",
     "text": [
      "bone-penn-263\n",
      "Does this patient have T2 available? True\n",
      "I'm doing the thing.\n"
     ]
    },
    {
     "name": "stderr",
     "output_type": "stream",
     "text": [
      " 63%|██████▎   | 389/622 [01:26<00:47,  4.86it/s]"
     ]
    },
    {
     "name": "stdout",
     "output_type": "stream",
     "text": [
      "bone-penn-193\n",
      "Does this patient have T2 available? True\n",
      "I'm doing the thing.\n",
      "bone-penn-211\n",
      "Does this patient have T2 available? True\n",
      "I'm doing the thing.\n"
     ]
    },
    {
     "name": "stderr",
     "output_type": "stream",
     "text": [
      " 63%|██████▎   | 391/622 [01:26<00:48,  4.79it/s]"
     ]
    },
    {
     "name": "stdout",
     "output_type": "stream",
     "text": [
      "bone-china-196\n",
      "Does this patient have T2 available? True\n",
      "I'm doing the thing.\n",
      "bone-penn-024\n",
      "Does this patient have T2 available? True\n",
      "I'm doing the thing.\n",
      "bone-hup-148\n",
      "Does this patient have T2 available? True\n",
      "I'm doing the thing.\n"
     ]
    },
    {
     "name": "stderr",
     "output_type": "stream",
     "text": [
      " 64%|██████▎   | 395/622 [01:27<00:36,  6.27it/s]"
     ]
    },
    {
     "name": "stdout",
     "output_type": "stream",
     "text": [
      "bone-penn-256\n",
      "Does this patient have T2 available? True\n",
      "I'm doing the thing.\n",
      "bone-hup-222\n",
      "Does this patient have T2 available? True\n",
      "I'm doing the thing.\n",
      "bone-penn-189\n",
      "Does this patient have T2 available? True\n",
      "I'm doing the thing.\n"
     ]
    },
    {
     "name": "stderr",
     "output_type": "stream",
     "text": [
      "\r",
      " 64%|██████▎   | 396/622 [01:28<01:15,  3.00it/s]"
     ]
    },
    {
     "name": "stdout",
     "output_type": "stream",
     "text": [
      "bone-hup-201\n",
      "Does this patient have T2 available? True\n",
      "I'm doing the thing.\n"
     ]
    },
    {
     "name": "stderr",
     "output_type": "stream",
     "text": [
      " 64%|██████▍   | 398/622 [01:28<01:02,  3.57it/s]"
     ]
    },
    {
     "name": "stdout",
     "output_type": "stream",
     "text": [
      "bone-penn-629\n",
      "Does this patient have T2 available? True\n",
      "I'm doing the thing.\n",
      "bone-penn-422\n",
      "Does this patient have T2 available? True\n",
      "I'm doing the thing.\n"
     ]
    },
    {
     "name": "stderr",
     "output_type": "stream",
     "text": [
      "\r",
      " 64%|██████▍   | 399/622 [01:28<00:59,  3.72it/s]"
     ]
    },
    {
     "name": "stdout",
     "output_type": "stream",
     "text": [
      "bone-penn-029\n",
      "Does this patient have T2 available? True\n",
      "I'm doing the thing.\n"
     ]
    },
    {
     "name": "stderr",
     "output_type": "stream",
     "text": [
      "\r",
      " 64%|██████▍   | 400/622 [01:29<01:17,  2.86it/s]"
     ]
    },
    {
     "name": "stdout",
     "output_type": "stream",
     "text": [
      "bone-penn-624\n",
      "Does this patient have T2 available? True\n",
      "I'm doing the thing.\n"
     ]
    },
    {
     "name": "stderr",
     "output_type": "stream",
     "text": [
      " 65%|██████▍   | 402/622 [01:29<00:57,  3.80it/s]"
     ]
    },
    {
     "name": "stdout",
     "output_type": "stream",
     "text": [
      "bone-hup-133\n",
      "Does this patient have T2 available? True\n",
      "I'm doing the thing.\n",
      "bone-penn-222\n",
      "Does this patient have T2 available? True\n",
      "I'm doing the thing.\n"
     ]
    },
    {
     "name": "stderr",
     "output_type": "stream",
     "text": [
      " 65%|██████▍   | 404/622 [01:29<00:44,  4.95it/s]"
     ]
    },
    {
     "name": "stdout",
     "output_type": "stream",
     "text": [
      "bone-china-188\n",
      "Does this patient have T2 available? True\n",
      "I'm doing the thing.\n",
      "bone-china-210\n",
      "Does this patient have T2 available? True\n",
      "I'm doing the thing.\n"
     ]
    },
    {
     "name": "stderr",
     "output_type": "stream",
     "text": [
      "\r",
      " 65%|██████▌   | 405/622 [01:30<00:38,  5.61it/s]"
     ]
    },
    {
     "name": "stdout",
     "output_type": "stream",
     "text": [
      "bone-penn-514\n",
      "Does this patient have T2 available? True\n",
      "I'm doing the thing.\n"
     ]
    },
    {
     "name": "stderr",
     "output_type": "stream",
     "text": [
      "\r",
      " 65%|██████▌   | 406/622 [01:30<00:43,  4.99it/s]"
     ]
    },
    {
     "name": "stdout",
     "output_type": "stream",
     "text": [
      "bone-penn-167\n",
      "Does this patient have T2 available? True\n",
      "I'm doing the thing.\n"
     ]
    },
    {
     "name": "stderr",
     "output_type": "stream",
     "text": [
      "\r",
      " 65%|██████▌   | 407/622 [01:30<00:49,  4.38it/s]"
     ]
    },
    {
     "name": "stdout",
     "output_type": "stream",
     "text": [
      "bone-penn-637\n",
      "Does this patient have T2 available? True\n",
      "I'm doing the thing.\n"
     ]
    },
    {
     "name": "stderr",
     "output_type": "stream",
     "text": [
      "\r",
      " 66%|██████▌   | 408/622 [01:30<00:48,  4.39it/s]"
     ]
    },
    {
     "name": "stdout",
     "output_type": "stream",
     "text": [
      "bone-hup-97\n",
      "Does this patient have T2 available? True\n",
      "I'm doing the thing.\n"
     ]
    },
    {
     "name": "stderr",
     "output_type": "stream",
     "text": [
      " 66%|██████▌   | 410/622 [01:31<00:39,  5.37it/s]"
     ]
    },
    {
     "name": "stdout",
     "output_type": "stream",
     "text": [
      "bone-penn-640\n",
      "Does this patient have T2 available? True\n",
      "I'm doing the thing.\n",
      "bone-hup-103\n",
      "Does this patient have T2 available? True\n",
      "I'm doing the thing.\n"
     ]
    },
    {
     "name": "stderr",
     "output_type": "stream",
     "text": [
      "\r",
      " 66%|██████▌   | 411/622 [01:31<00:34,  6.15it/s]"
     ]
    },
    {
     "name": "stdout",
     "output_type": "stream",
     "text": [
      "bone-hup-22\n",
      "Does this patient have T2 available? True\n",
      "I'm doing the thing.\n"
     ]
    },
    {
     "name": "stderr",
     "output_type": "stream",
     "text": [
      "\r",
      " 66%|██████▌   | 412/622 [01:31<00:38,  5.38it/s]"
     ]
    },
    {
     "name": "stdout",
     "output_type": "stream",
     "text": [
      "bone-hup-246\n",
      "Does this patient have T2 available? True\n",
      "I'm doing the thing.\n"
     ]
    },
    {
     "name": "stderr",
     "output_type": "stream",
     "text": [
      " 67%|██████▋   | 414/622 [01:31<00:38,  5.35it/s]"
     ]
    },
    {
     "name": "stdout",
     "output_type": "stream",
     "text": [
      "bone-china-223\n",
      "Does this patient have T2 available? True\n",
      "I'm doing the thing.\n",
      "bone-hup-82\n",
      "Does this patient have T2 available? True\n",
      "I'm doing the thing.\n"
     ]
    },
    {
     "name": "stderr",
     "output_type": "stream",
     "text": [
      " 67%|██████▋   | 416/622 [01:32<00:36,  5.61it/s]"
     ]
    },
    {
     "name": "stdout",
     "output_type": "stream",
     "text": [
      "bone-hup-153\n",
      "Does this patient have T2 available? True\n",
      "I'm doing the thing.\n",
      "bone-hup-200\n",
      "Does this patient have T2 available? True\n",
      "I'm doing the thing.\n",
      "bone-hup-234\n",
      "Does this patient have T2 available? True\n",
      "I'm doing the thing.\n"
     ]
    },
    {
     "name": "stderr",
     "output_type": "stream",
     "text": [
      "\r",
      " 67%|██████▋   | 418/622 [01:32<00:33,  6.12it/s]"
     ]
    },
    {
     "name": "stdout",
     "output_type": "stream",
     "text": [
      "bone-penn-255\n",
      "Does this patient have T2 available? True\n",
      "I'm doing the thing.\n"
     ]
    },
    {
     "name": "stderr",
     "output_type": "stream",
     "text": [
      " 68%|██████▊   | 420/622 [01:32<00:35,  5.72it/s]"
     ]
    },
    {
     "name": "stdout",
     "output_type": "stream",
     "text": [
      "bone-penn-631\n",
      "Does this patient have T2 available? True\n",
      "I'm doing the thing.\n",
      "bone-penn-639\n",
      "Does this patient have T2 available? True\n",
      "I'm doing the thing.\n"
     ]
    },
    {
     "name": "stderr",
     "output_type": "stream",
     "text": [
      "\r",
      " 68%|██████▊   | 421/622 [01:33<00:37,  5.33it/s]"
     ]
    },
    {
     "name": "stdout",
     "output_type": "stream",
     "text": [
      "bone-hup-84\n",
      "Does this patient have T2 available? True\n",
      "I'm doing the thing.\n"
     ]
    },
    {
     "name": "stderr",
     "output_type": "stream",
     "text": [
      "\r",
      " 68%|██████▊   | 422/622 [01:33<01:03,  3.15it/s]"
     ]
    },
    {
     "name": "stdout",
     "output_type": "stream",
     "text": [
      "bone-penn-621\n",
      "Does this patient have T2 available? True\n",
      "I'm doing the thing.\n"
     ]
    },
    {
     "name": "stderr",
     "output_type": "stream",
     "text": [
      "\r",
      " 68%|██████▊   | 423/622 [01:34<01:30,  2.21it/s]"
     ]
    },
    {
     "name": "stdout",
     "output_type": "stream",
     "text": [
      "bone-penn-645\n",
      "Does this patient have T2 available? True\n",
      "I'm doing the thing.\n"
     ]
    },
    {
     "name": "stderr",
     "output_type": "stream",
     "text": [
      "\r",
      " 68%|██████▊   | 424/622 [01:34<01:26,  2.30it/s]"
     ]
    },
    {
     "name": "stdout",
     "output_type": "stream",
     "text": [
      "bone-hup-86\n",
      "Does this patient have T2 available? True\n",
      "I'm doing the thing.\n"
     ]
    },
    {
     "name": "stderr",
     "output_type": "stream",
     "text": [
      " 68%|██████▊   | 426/622 [01:35<01:20,  2.43it/s]"
     ]
    },
    {
     "name": "stdout",
     "output_type": "stream",
     "text": [
      "bone-china-187\n",
      "Does this patient have T2 available? True\n",
      "I'm doing the thing.\n",
      "bone-hup-85\n",
      "Does this patient have T2 available? True\n",
      "I'm doing the thing.\n"
     ]
    },
    {
     "name": "stderr",
     "output_type": "stream",
     "text": [
      " 69%|██████▉   | 428/622 [01:36<01:09,  2.77it/s]"
     ]
    },
    {
     "name": "stdout",
     "output_type": "stream",
     "text": [
      "bone-penn-183\n",
      "Does this patient have T2 available? True\n",
      "I'm doing the thing.\n",
      "bone-penn-466\n",
      "Does this patient have T2 available? True\n",
      "I'm doing the thing.\n"
     ]
    },
    {
     "name": "stderr",
     "output_type": "stream",
     "text": [
      "\r",
      " 69%|██████▉   | 429/622 [01:37<01:23,  2.31it/s]"
     ]
    },
    {
     "name": "stdout",
     "output_type": "stream",
     "text": [
      "bone-hup-96\n",
      "Does this patient have T2 available? True\n",
      "I'm doing the thing.\n"
     ]
    },
    {
     "name": "stderr",
     "output_type": "stream",
     "text": [
      "\r",
      " 69%|██████▉   | 430/622 [01:37<01:10,  2.71it/s]"
     ]
    },
    {
     "name": "stdout",
     "output_type": "stream",
     "text": [
      "bone-china-180\n",
      "Does this patient have T2 available? True\n",
      "I'm doing the thing.\n"
     ]
    },
    {
     "name": "stderr",
     "output_type": "stream",
     "text": [
      "\r",
      " 69%|██████▉   | 431/622 [01:37<01:08,  2.79it/s]"
     ]
    },
    {
     "name": "stdout",
     "output_type": "stream",
     "text": [
      "bone-penn-224\n",
      "Does this patient have T2 available? True\n",
      "I'm doing the thing.\n",
      "bone-hup-109\n",
      "Does this patient have T2 available? True\n",
      "I'm doing the thing.\n"
     ]
    },
    {
     "name": "stderr",
     "output_type": "stream",
     "text": [
      " 70%|██████▉   | 434/622 [01:38<00:52,  3.58it/s]"
     ]
    },
    {
     "name": "stdout",
     "output_type": "stream",
     "text": [
      "bone-hup-168\n",
      "Does this patient have T2 available? True\n",
      "I'm doing the thing.\n",
      "bone-penn-022\n",
      "Does this patient have T2 available? True\n",
      "I'm doing the thing.\n"
     ]
    },
    {
     "name": "stderr",
     "output_type": "stream",
     "text": [
      "\r",
      " 70%|███████   | 436/622 [01:38<00:41,  4.45it/s]"
     ]
    },
    {
     "name": "stdout",
     "output_type": "stream",
     "text": [
      "bone-penn-511\n",
      "Does this patient have T2 available? True\n",
      "I'm doing the thing.\n",
      "bone-penn-234\n",
      "Does this patient have T2 available? True\n",
      "I'm doing the thing.\n"
     ]
    },
    {
     "name": "stderr",
     "output_type": "stream",
     "text": [
      "\r",
      " 70%|███████   | 437/622 [01:39<01:01,  3.01it/s]"
     ]
    },
    {
     "name": "stdout",
     "output_type": "stream",
     "text": [
      "bone-penn-364\n",
      "Does this patient have T2 available? True\n",
      "I'm doing the thing.\n"
     ]
    },
    {
     "name": "stderr",
     "output_type": "stream",
     "text": [
      " 71%|███████   | 439/622 [01:39<00:50,  3.60it/s]"
     ]
    },
    {
     "name": "stdout",
     "output_type": "stream",
     "text": [
      "bone-penn-616\n",
      "Does this patient have T2 available? True\n",
      "I'm doing the thing.\n",
      "bone-hup-214\n",
      "Does this patient have T2 available? True\n",
      "I'm doing the thing.\n"
     ]
    },
    {
     "name": "stderr",
     "output_type": "stream",
     "text": [
      " 71%|███████   | 441/622 [01:39<00:41,  4.32it/s]"
     ]
    },
    {
     "name": "stdout",
     "output_type": "stream",
     "text": [
      "bone-penn-163\n",
      "Does this patient have T2 available? True\n",
      "I'm doing the thing.\n",
      "bone-hup-205\n",
      "Does this patient have T2 available? True\n",
      "I'm doing the thing.\n"
     ]
    },
    {
     "name": "stderr",
     "output_type": "stream",
     "text": [
      " 71%|███████   | 443/622 [01:40<00:40,  4.37it/s]"
     ]
    },
    {
     "name": "stdout",
     "output_type": "stream",
     "text": [
      "bone-hup-192\n",
      "Does this patient have T2 available? True\n",
      "I'm doing the thing.\n",
      "bone-china-215\n",
      "Does this patient have T2 available? True\n",
      "I'm doing the thing.\n"
     ]
    },
    {
     "name": "stderr",
     "output_type": "stream",
     "text": [
      "\r",
      " 71%|███████▏  | 444/622 [01:40<00:35,  5.08it/s]"
     ]
    },
    {
     "name": "stdout",
     "output_type": "stream",
     "text": [
      "bone-penn-356\n",
      "Does this patient have T2 available? True\n",
      "I'm doing the thing.\n"
     ]
    },
    {
     "name": "stderr",
     "output_type": "stream",
     "text": [
      "\r",
      " 72%|███████▏  | 445/622 [01:41<00:56,  3.14it/s]"
     ]
    },
    {
     "name": "stdout",
     "output_type": "stream",
     "text": [
      "bone-hup-261\n",
      "Does this patient have T2 available? True\n",
      "I'm doing the thing.\n"
     ]
    },
    {
     "name": "stderr",
     "output_type": "stream",
     "text": [
      "\r",
      " 72%|███████▏  | 446/622 [01:42<01:34,  1.87it/s]"
     ]
    },
    {
     "name": "stdout",
     "output_type": "stream",
     "text": [
      "bone-hup-89\n",
      "Does this patient have T2 available? True\n",
      "I'm doing the thing.\n"
     ]
    },
    {
     "name": "stderr",
     "output_type": "stream",
     "text": [
      "\r",
      " 72%|███████▏  | 447/622 [01:42<01:23,  2.09it/s]"
     ]
    },
    {
     "name": "stdout",
     "output_type": "stream",
     "text": [
      "bone-penn-617\n",
      "Does this patient have T2 available? True\n",
      "I'm doing the thing.\n"
     ]
    },
    {
     "name": "stderr",
     "output_type": "stream",
     "text": [
      " 72%|███████▏  | 449/622 [01:43<01:14,  2.33it/s]"
     ]
    },
    {
     "name": "stdout",
     "output_type": "stream",
     "text": [
      "bone-china-234\n",
      "Does this patient have T2 available? True\n",
      "I'm doing the thing.\n",
      "bone-penn-388\n",
      "Does this patient have T2 available? True\n",
      "I'm doing the thing.\n"
     ]
    },
    {
     "name": "stderr",
     "output_type": "stream",
     "text": [
      "\r",
      " 73%|███████▎  | 451/622 [01:43<00:56,  3.04it/s]"
     ]
    },
    {
     "name": "stdout",
     "output_type": "stream",
     "text": [
      "bone-penn-633\n",
      "Does this patient have T2 available? True\n",
      "I'm doing the thing.\n",
      "bone-penn-380\n",
      "Does this patient have T2 available? True\n",
      "I'm doing the thing.\n"
     ]
    },
    {
     "name": "stderr",
     "output_type": "stream",
     "text": [
      "\r",
      " 73%|███████▎  | 452/622 [01:43<00:52,  3.26it/s]"
     ]
    },
    {
     "name": "stdout",
     "output_type": "stream",
     "text": [
      "bone-penn-261\n",
      "Does this patient have T2 available? True\n",
      "I'm doing the thing.\n",
      "bone-hup-118\n",
      "Does this patient have T2 available? True\n",
      "I'm doing the thing.\n"
     ]
    },
    {
     "name": "stderr",
     "output_type": "stream",
     "text": [
      "\r",
      " 73%|███████▎  | 454/622 [01:44<00:46,  3.60it/s]"
     ]
    },
    {
     "name": "stdout",
     "output_type": "stream",
     "text": [
      "bone-hup-224\n",
      "Does this patient have T2 available? True\n",
      "I'm doing the thing.\n",
      "bone-hup-213\n",
      "Does this patient have T2 available? True\n",
      "I'm doing the thing.\n"
     ]
    },
    {
     "name": "stderr",
     "output_type": "stream",
     "text": [
      "\r",
      " 73%|███████▎  | 456/622 [01:44<00:37,  4.42it/s]"
     ]
    },
    {
     "name": "stdout",
     "output_type": "stream",
     "text": [
      "bone-penn-241\n",
      "Does this patient have T2 available? True\n",
      "I'm doing the thing.\n"
     ]
    },
    {
     "name": "stderr",
     "output_type": "stream",
     "text": [
      "\r",
      " 73%|███████▎  | 457/622 [01:45<00:56,  2.90it/s]"
     ]
    },
    {
     "name": "stdout",
     "output_type": "stream",
     "text": [
      "bone-penn-646\n",
      "Does this patient have T2 available? True\n",
      "I'm doing the thing.\n"
     ]
    },
    {
     "name": "stderr",
     "output_type": "stream",
     "text": [
      "\r",
      " 74%|███████▎  | 458/622 [01:45<00:52,  3.10it/s]"
     ]
    },
    {
     "name": "stdout",
     "output_type": "stream",
     "text": [
      "bone-penn-203\n",
      "Does this patient have T2 available? True\n",
      "I'm doing the thing.\n"
     ]
    },
    {
     "name": "stderr",
     "output_type": "stream",
     "text": [
      "\r",
      " 74%|███████▍  | 459/622 [01:45<01:04,  2.52it/s]"
     ]
    },
    {
     "name": "stdout",
     "output_type": "stream",
     "text": [
      "bone-hup-193\n",
      "Does this patient have T2 available? True\n",
      "I'm doing the thing.\n",
      "bone-hup-166\n",
      "Does this patient have T2 available? True\n",
      "I'm doing the thing.\n"
     ]
    },
    {
     "name": "stderr",
     "output_type": "stream",
     "text": [
      "\r",
      " 74%|███████▍  | 461/622 [01:46<00:50,  3.20it/s]"
     ]
    },
    {
     "name": "stdout",
     "output_type": "stream",
     "text": [
      "bone-penn-611\n",
      "Does this patient have T2 available? True\n",
      "I'm doing the thing.\n"
     ]
    },
    {
     "name": "stderr",
     "output_type": "stream",
     "text": [
      "\r",
      " 74%|███████▍  | 462/622 [01:46<00:46,  3.46it/s]"
     ]
    },
    {
     "name": "stdout",
     "output_type": "stream",
     "text": [
      "bone-penn-178\n",
      "Does this patient have T2 available? True\n",
      "I'm doing the thing.\n"
     ]
    },
    {
     "name": "stderr",
     "output_type": "stream",
     "text": [
      "\r",
      " 74%|███████▍  | 463/622 [01:46<00:47,  3.38it/s]"
     ]
    },
    {
     "name": "stdout",
     "output_type": "stream",
     "text": [
      "bone-penn-627\n",
      "Does this patient have T2 available? True\n",
      "I'm doing the thing.\n"
     ]
    },
    {
     "name": "stderr",
     "output_type": "stream",
     "text": [
      "\r",
      " 75%|███████▍  | 464/622 [01:47<01:09,  2.27it/s]"
     ]
    },
    {
     "name": "stdout",
     "output_type": "stream",
     "text": [
      "bone-hup-54\n",
      "Does this patient have T2 available? True\n",
      "I'm doing the thing.\n"
     ]
    },
    {
     "name": "stderr",
     "output_type": "stream",
     "text": [
      "\r",
      " 75%|███████▍  | 465/622 [01:47<00:59,  2.65it/s]"
     ]
    },
    {
     "name": "stdout",
     "output_type": "stream",
     "text": [
      "bone-penn-171\n",
      "Does this patient have T2 available? True\n",
      "I'm doing the thing.\n"
     ]
    },
    {
     "name": "stderr",
     "output_type": "stream",
     "text": [
      "\r",
      " 75%|███████▍  | 466/622 [01:47<00:51,  3.00it/s]"
     ]
    },
    {
     "name": "stdout",
     "output_type": "stream",
     "text": [
      "bone-hup-226\n",
      "Does this patient have T2 available? True\n",
      "I'm doing the thing.\n"
     ]
    },
    {
     "name": "stderr",
     "output_type": "stream",
     "text": [
      " 75%|███████▌  | 468/622 [01:48<00:38,  3.96it/s]"
     ]
    },
    {
     "name": "stdout",
     "output_type": "stream",
     "text": [
      "bone-penn-198\n",
      "Does this patient have T2 available? True\n",
      "I'm doing the thing.\n",
      "bone-hup-2\n",
      "Does this patient have T2 available? True\n",
      "I'm doing the thing.\n"
     ]
    },
    {
     "name": "stderr",
     "output_type": "stream",
     "text": [
      " 76%|███████▌  | 470/622 [01:49<00:57,  2.66it/s]"
     ]
    },
    {
     "name": "stdout",
     "output_type": "stream",
     "text": [
      "bone-hup-67\n",
      "Does this patient have T2 available? True\n",
      "I'm doing the thing.\n",
      "bone-china-177\n",
      "Does this patient have T2 available? True\n",
      "I'm doing the thing.\n"
     ]
    },
    {
     "name": "stderr",
     "output_type": "stream",
     "text": [
      "\r",
      " 76%|███████▌  | 471/622 [01:49<00:45,  3.34it/s]"
     ]
    },
    {
     "name": "stdout",
     "output_type": "stream",
     "text": [
      "bone-hup-39\n",
      "Does this patient have T2 available? True\n",
      "I'm doing the thing.\n"
     ]
    },
    {
     "name": "stderr",
     "output_type": "stream",
     "text": [
      " 76%|███████▌  | 474/622 [01:49<00:34,  4.35it/s]"
     ]
    },
    {
     "name": "stdout",
     "output_type": "stream",
     "text": [
      "bone-penn-531\n",
      "Does this patient have T2 available? True\n",
      "I'm doing the thing.\n",
      "bone-hup-77\n",
      "Does this patient have T2 available? True\n",
      "I'm doing the thing.\n",
      "bone-penn-006\n",
      "Does this patient have T2 available? True\n",
      "I'm doing the thing.\n"
     ]
    },
    {
     "name": "stderr",
     "output_type": "stream",
     "text": [
      " 77%|███████▋  | 476/622 [01:50<00:27,  5.25it/s]"
     ]
    },
    {
     "name": "stdout",
     "output_type": "stream",
     "text": [
      "bone-penn-266\n",
      "Does this patient have T2 available? True\n",
      "I'm doing the thing.\n",
      "bone-penn-601\n",
      "Does this patient have T2 available? True\n",
      "I'm doing the thing.\n"
     ]
    },
    {
     "name": "stderr",
     "output_type": "stream",
     "text": [
      "\r",
      " 77%|███████▋  | 477/622 [01:51<01:01,  2.37it/s]"
     ]
    },
    {
     "name": "stdout",
     "output_type": "stream",
     "text": [
      "bone-penn-363\n",
      "Does this patient have T2 available? True\n",
      "I'm doing the thing.\n"
     ]
    },
    {
     "name": "stderr",
     "output_type": "stream",
     "text": [
      " 77%|███████▋  | 480/622 [01:51<00:46,  3.05it/s]"
     ]
    },
    {
     "name": "stdout",
     "output_type": "stream",
     "text": [
      "bone-penn-414\n",
      "Does this patient have T2 available? True\n",
      "I'm doing the thing.\n",
      "bone-hup-56\n",
      "Does this patient have T2 available? True\n",
      "I'm doing the thing.\n",
      "bone-hup-83\n",
      "Does this patient have T2 available? True\n",
      "I'm doing the thing.\n",
      "bone-penn-169\n",
      "Does this patient have T2 available? True\n",
      "I'm doing the thing.\n"
     ]
    },
    {
     "name": "stderr",
     "output_type": "stream",
     "text": [
      " 78%|███████▊  | 483/622 [01:52<00:35,  3.96it/s]"
     ]
    },
    {
     "name": "stdout",
     "output_type": "stream",
     "text": [
      "bone-penn-620\n",
      "Does this patient have T2 available? True\n",
      "I'm doing the thing.\n",
      "bone-hup-94\n",
      "Does this patient have T2 available? True\n",
      "I'm doing the thing.\n"
     ]
    },
    {
     "name": "stderr",
     "output_type": "stream",
     "text": [
      "\r",
      " 78%|███████▊  | 484/622 [01:52<00:30,  4.51it/s]"
     ]
    },
    {
     "name": "stdout",
     "output_type": "stream",
     "text": [
      "bone-penn-124\n",
      "Does this patient have T2 available? True\n",
      "I'm doing the thing.\n"
     ]
    },
    {
     "name": "stderr",
     "output_type": "stream",
     "text": [
      "\r",
      " 78%|███████▊  | 485/622 [01:53<00:48,  2.84it/s]"
     ]
    },
    {
     "name": "stdout",
     "output_type": "stream",
     "text": [
      "bone-hup-232\n",
      "Does this patient have T2 available? True\n",
      "I'm doing the thing.\n"
     ]
    },
    {
     "name": "stderr",
     "output_type": "stream",
     "text": [
      " 78%|███████▊  | 487/622 [01:53<00:44,  3.05it/s]"
     ]
    },
    {
     "name": "stdout",
     "output_type": "stream",
     "text": [
      "bone-penn-014\n",
      "Does this patient have T2 available? True\n",
      "I'm doing the thing.\n",
      "bone-penn-314\n",
      "Does this patient have T2 available? True\n",
      "I'm doing the thing.\n"
     ]
    },
    {
     "name": "stderr",
     "output_type": "stream",
     "text": [
      "\r",
      " 78%|███████▊  | 488/622 [01:54<00:48,  2.74it/s]"
     ]
    },
    {
     "name": "stdout",
     "output_type": "stream",
     "text": [
      "bone-penn-644\n",
      "Does this patient have T2 available? True\n",
      "I'm doing the thing.\n"
     ]
    },
    {
     "name": "stderr",
     "output_type": "stream",
     "text": [
      "\r",
      " 79%|███████▊  | 489/622 [01:54<00:58,  2.28it/s]"
     ]
    },
    {
     "name": "stdout",
     "output_type": "stream",
     "text": [
      "bone-penn-194\n",
      "Does this patient have T2 available? True\n",
      "I'm doing the thing.\n"
     ]
    },
    {
     "name": "stderr",
     "output_type": "stream",
     "text": [
      " 79%|███████▉  | 491/622 [01:55<00:54,  2.42it/s]"
     ]
    },
    {
     "name": "stdout",
     "output_type": "stream",
     "text": [
      "bone-penn-608\n",
      "Does this patient have T2 available? True\n",
      "I'm doing the thing.\n",
      "bone-penn-179\n",
      "Does this patient have T2 available? True\n",
      "I'm doing the thing.\n"
     ]
    },
    {
     "name": "stderr",
     "output_type": "stream",
     "text": [
      "\r",
      " 79%|███████▉  | 492/622 [01:56<00:54,  2.40it/s]"
     ]
    },
    {
     "name": "stdout",
     "output_type": "stream",
     "text": [
      "bone-penn-238\n",
      "Does this patient have T2 available? True\n",
      "I'm doing the thing.\n"
     ]
    },
    {
     "name": "stderr",
     "output_type": "stream",
     "text": [
      " 79%|███████▉  | 494/622 [01:56<00:38,  3.36it/s]"
     ]
    },
    {
     "name": "stdout",
     "output_type": "stream",
     "text": [
      "bone-penn-460\n",
      "Does this patient have T2 available? True\n",
      "I'm doing the thing.\n",
      "bone-hup-102\n",
      "Does this patient have T2 available? True\n",
      "I'm doing the thing.\n"
     ]
    },
    {
     "name": "stderr",
     "output_type": "stream",
     "text": [
      "\r",
      " 80%|███████▉  | 495/622 [01:56<00:31,  3.98it/s]"
     ]
    },
    {
     "name": "stdout",
     "output_type": "stream",
     "text": [
      "bone-penn-622\n",
      "Does this patient have T2 available? True\n",
      "I'm doing the thing.\n"
     ]
    },
    {
     "name": "stderr",
     "output_type": "stream",
     "text": [
      " 80%|███████▉  | 497/622 [01:57<00:27,  4.53it/s]"
     ]
    },
    {
     "name": "stdout",
     "output_type": "stream",
     "text": [
      "bone-hup-144\n",
      "Does this patient have T2 available? True\n",
      "I'm doing the thing.\n",
      "bone-hup-171\n",
      "Does this patient have T2 available? True\n",
      "I'm doing the thing.\n"
     ]
    },
    {
     "name": "stderr",
     "output_type": "stream",
     "text": [
      " 80%|████████  | 499/622 [01:57<00:22,  5.47it/s]"
     ]
    },
    {
     "name": "stdout",
     "output_type": "stream",
     "text": [
      "bone-china-176\n",
      "Does this patient have T2 available? True\n",
      "I'm doing the thing.\n",
      "bone-penn-607\n",
      "Does this patient have T2 available? True\n",
      "I'm doing the thing.\n"
     ]
    },
    {
     "name": "stderr",
     "output_type": "stream",
     "text": [
      "\r",
      " 80%|████████  | 500/622 [01:58<00:37,  3.25it/s]"
     ]
    },
    {
     "name": "stdout",
     "output_type": "stream",
     "text": [
      "bone-penn-439\n",
      "Does this patient have T2 available? True\n",
      "I'm doing the thing.\n"
     ]
    },
    {
     "name": "stderr",
     "output_type": "stream",
     "text": [
      "\r",
      " 81%|████████  | 501/622 [01:58<00:46,  2.58it/s]"
     ]
    },
    {
     "name": "stdout",
     "output_type": "stream",
     "text": [
      "bone-penn-020\n",
      "Does this patient have T2 available? True\n",
      "I'm doing the thing.\n",
      "bone-hup-111\n",
      "Does this patient have T2 available? True\n",
      "I'm doing the thing.\n"
     ]
    },
    {
     "name": "stderr",
     "output_type": "stream",
     "text": [
      " 81%|████████  | 504/622 [01:59<00:33,  3.51it/s]"
     ]
    },
    {
     "name": "stdout",
     "output_type": "stream",
     "text": [
      "bone-penn-596\n",
      "Does this patient have T2 available? True\n",
      "I'm doing the thing.\n",
      "bone-penn-367\n",
      "Does this patient have T2 available? True\n",
      "I'm doing the thing.\n"
     ]
    },
    {
     "name": "stderr",
     "output_type": "stream",
     "text": [
      "\r",
      " 81%|████████▏ | 506/622 [01:59<00:25,  4.48it/s]"
     ]
    },
    {
     "name": "stdout",
     "output_type": "stream",
     "text": [
      "bone-hup-55\n",
      "Does this patient have T2 available? True\n",
      "I'm doing the thing.\n",
      "bone-penn-316\n",
      "Does this patient have T2 available? True\n",
      "I'm doing the thing.\n"
     ]
    },
    {
     "name": "stderr",
     "output_type": "stream",
     "text": [
      "\r",
      " 82%|████████▏ | 507/622 [01:59<00:23,  4.90it/s]"
     ]
    },
    {
     "name": "stdout",
     "output_type": "stream",
     "text": [
      "bone-penn-458\n",
      "Does this patient have T2 available? True\n",
      "I'm doing the thing.\n"
     ]
    },
    {
     "name": "stderr",
     "output_type": "stream",
     "text": [
      "\r",
      " 82%|████████▏ | 508/622 [02:00<00:31,  3.58it/s]"
     ]
    },
    {
     "name": "stdout",
     "output_type": "stream",
     "text": [
      "bone-hup-211\n",
      "Does this patient have T2 available? True\n",
      "I'm doing the thing.\n"
     ]
    },
    {
     "name": "stderr",
     "output_type": "stream",
     "text": [
      " 82%|████████▏ | 510/622 [02:00<00:27,  4.07it/s]"
     ]
    },
    {
     "name": "stdout",
     "output_type": "stream",
     "text": [
      "bone-penn-268\n",
      "Does this patient have T2 available? True\n",
      "I'm doing the thing.\n",
      "bone-penn-026\n",
      "Does this patient have T2 available? True\n",
      "I'm doing the thing.\n"
     ]
    },
    {
     "name": "stderr",
     "output_type": "stream",
     "text": [
      "\r",
      " 82%|████████▏ | 511/622 [02:00<00:24,  4.53it/s]"
     ]
    },
    {
     "name": "stdout",
     "output_type": "stream",
     "text": [
      "bone-penn-010\n",
      "Does this patient have T2 available? True\n",
      "I'm doing the thing.\n"
     ]
    },
    {
     "name": "stderr",
     "output_type": "stream",
     "text": [
      "\r",
      " 82%|████████▏ | 512/622 [02:01<00:26,  4.20it/s]"
     ]
    },
    {
     "name": "stdout",
     "output_type": "stream",
     "text": [
      "bone-penn-191\n",
      "Does this patient have T2 available? True\n",
      "I'm doing the thing.\n"
     ]
    },
    {
     "name": "stderr",
     "output_type": "stream",
     "text": [
      "\r",
      " 82%|████████▏ | 513/622 [02:01<00:27,  3.94it/s]"
     ]
    },
    {
     "name": "stdout",
     "output_type": "stream",
     "text": [
      "bone-penn-052\n",
      "Does this patient have T2 available? True\n",
      "I'm doing the thing.\n"
     ]
    },
    {
     "name": "stderr",
     "output_type": "stream",
     "text": [
      "\r",
      " 83%|████████▎ | 514/622 [02:01<00:30,  3.56it/s]"
     ]
    },
    {
     "name": "stdout",
     "output_type": "stream",
     "text": [
      "bone-hup-160\n",
      "Does this patient have T2 available? True\n",
      "I'm doing the thing.\n"
     ]
    },
    {
     "name": "stderr",
     "output_type": "stream",
     "text": [
      " 83%|████████▎ | 516/622 [02:02<00:29,  3.57it/s]"
     ]
    },
    {
     "name": "stdout",
     "output_type": "stream",
     "text": [
      "bone-penn-073\n",
      "Does this patient have T2 available? True\n",
      "I'm doing the thing.\n",
      "bone-penn-368\n",
      "Does this patient have T2 available? True\n",
      "I'm doing the thing.\n",
      "bone-penn-479\n",
      "Does this patient have T2 available? True\n",
      "I'm doing the thing.\n"
     ]
    },
    {
     "name": "stderr",
     "output_type": "stream",
     "text": [
      " 83%|████████▎ | 519/622 [02:02<00:22,  4.66it/s]"
     ]
    },
    {
     "name": "stdout",
     "output_type": "stream",
     "text": [
      "bone-penn-172\n",
      "Does this patient have T2 available? True\n",
      "I'm doing the thing.\n",
      "bone-penn-063\n",
      "Does this patient have T2 available? True\n",
      "I'm doing the thing.\n"
     ]
    },
    {
     "name": "stderr",
     "output_type": "stream",
     "text": [
      " 84%|████████▍ | 521/622 [02:02<00:16,  6.23it/s]"
     ]
    },
    {
     "name": "stdout",
     "output_type": "stream",
     "text": [
      "bone-penn-119\n",
      "Does this patient have T2 available? True\n",
      "I'm doing the thing.\n",
      "bone-penn-069\n",
      "Does this patient have T2 available? True\n",
      "I'm doing the thing.\n"
     ]
    },
    {
     "name": "stderr",
     "output_type": "stream",
     "text": [
      " 84%|████████▍ | 524/622 [02:03<00:13,  7.09it/s]"
     ]
    },
    {
     "name": "stdout",
     "output_type": "stream",
     "text": [
      "bone-china-209\n",
      "Does this patient have T2 available? True\n",
      "I'm doing the thing.\n",
      "bone-penn-300\n",
      "Does this patient have T2 available? True\n",
      "I'm doing the thing.\n",
      "bone-hup-273\n",
      "Does this patient have T2 available? True\n",
      "I'm doing the thing.\n"
     ]
    },
    {
     "name": "stderr",
     "output_type": "stream",
     "text": [
      " 85%|████████▍ | 526/622 [02:03<00:14,  6.50it/s]"
     ]
    },
    {
     "name": "stdout",
     "output_type": "stream",
     "text": [
      "bone-hup-65\n",
      "Does this patient have T2 available? True\n",
      "I'm doing the thing.\n",
      "bone-penn-259\n",
      "Does this patient have T2 available? True\n",
      "I'm doing the thing.\n",
      "bone-hup-169\n",
      "Does this patient have T2 available? True\n",
      "I'm doing the thing.\n"
     ]
    },
    {
     "name": "stderr",
     "output_type": "stream",
     "text": [
      " 85%|████████▌ | 529/622 [02:04<00:14,  6.48it/s]"
     ]
    },
    {
     "name": "stdout",
     "output_type": "stream",
     "text": [
      "bone-hup-61\n",
      "Does this patient have T2 available? True\n",
      "I'm doing the thing.\n",
      "bone-penn-309\n",
      "Does this patient have T2 available? True\n",
      "I'm doing the thing.\n"
     ]
    },
    {
     "name": "stderr",
     "output_type": "stream",
     "text": [
      " 85%|████████▌ | 531/622 [02:04<00:15,  5.94it/s]"
     ]
    },
    {
     "name": "stdout",
     "output_type": "stream",
     "text": [
      "bone-penn-650\n",
      "Does this patient have T2 available? True\n",
      "I'm doing the thing.\n",
      "bone-penn-614\n",
      "Does this patient have T2 available? True\n",
      "I'm doing the thing.\n"
     ]
    },
    {
     "name": "stderr",
     "output_type": "stream",
     "text": [
      " 86%|████████▌ | 533/622 [02:04<00:14,  5.94it/s]"
     ]
    },
    {
     "name": "stdout",
     "output_type": "stream",
     "text": [
      "bone-penn-405\n",
      "Does this patient have T2 available? True\n",
      "I'm doing the thing.\n",
      "bone-penn-600\n",
      "Does this patient have T2 available? True\n",
      "I'm doing the thing.\n"
     ]
    },
    {
     "name": "stderr",
     "output_type": "stream",
     "text": [
      "\r",
      " 86%|████████▌ | 534/622 [02:04<00:14,  6.14it/s]"
     ]
    },
    {
     "name": "stdout",
     "output_type": "stream",
     "text": [
      "bone-hup-81\n",
      "Does this patient have T2 available? True\n",
      "I'm doing the thing.\n",
      "bone-penn-626\n",
      "Does this patient have T2 available? True\n",
      "I'm doing the thing.\n",
      "bone-hup-52\n",
      "Does this patient have T2 available? True\n",
      "I'm doing the thing.\n"
     ]
    },
    {
     "name": "stderr",
     "output_type": "stream",
     "text": [
      "\r",
      " 86%|████████▋ | 537/622 [02:05<00:14,  5.88it/s]"
     ]
    },
    {
     "name": "stdout",
     "output_type": "stream",
     "text": [
      "bone-hup-93\n",
      "Does this patient have T2 available? True\n",
      "I'm doing the thing.\n"
     ]
    },
    {
     "name": "stderr",
     "output_type": "stream",
     "text": [
      "\r",
      " 86%|████████▋ | 538/622 [02:06<00:24,  3.37it/s]"
     ]
    },
    {
     "name": "stdout",
     "output_type": "stream",
     "text": [
      "bone-hup-23\n",
      "Does this patient have T2 available? True\n",
      "I'm doing the thing.\n"
     ]
    },
    {
     "name": "stderr",
     "output_type": "stream",
     "text": [
      "\r",
      " 87%|████████▋ | 539/622 [02:06<00:33,  2.47it/s]"
     ]
    },
    {
     "name": "stdout",
     "output_type": "stream",
     "text": [
      "bone-penn-643\n",
      "Does this patient have T2 available? True\n",
      "I'm doing the thing.\n"
     ]
    },
    {
     "name": "stderr",
     "output_type": "stream",
     "text": [
      "\r",
      " 87%|████████▋ | 540/622 [02:07<00:32,  2.51it/s]"
     ]
    },
    {
     "name": "stdout",
     "output_type": "stream",
     "text": [
      "bone-hup-237\n",
      "Does this patient have T2 available? True\n",
      "I'm doing the thing.\n"
     ]
    },
    {
     "name": "stderr",
     "output_type": "stream",
     "text": [
      " 87%|████████▋ | 542/622 [02:07<00:22,  3.62it/s]"
     ]
    },
    {
     "name": "stdout",
     "output_type": "stream",
     "text": [
      "bone-china-231\n",
      "Does this patient have T2 available? True\n",
      "I'm doing the thing.\n",
      "bone-penn-598\n",
      "Does this patient have T2 available? True\n",
      "I'm doing the thing.\n"
     ]
    },
    {
     "name": "stderr",
     "output_type": "stream",
     "text": [
      " 88%|████████▊ | 545/622 [02:07<00:16,  4.53it/s]"
     ]
    },
    {
     "name": "stdout",
     "output_type": "stream",
     "text": [
      "bone-hup-179\n",
      "Does this patient have T2 available? True\n",
      "I'm doing the thing.\n",
      "bone-penn-244\n",
      "Does this patient have T2 available? True\n",
      "I'm doing the thing.\n"
     ]
    },
    {
     "name": "stderr",
     "output_type": "stream",
     "text": [
      " 88%|████████▊ | 547/622 [02:08<00:14,  5.08it/s]"
     ]
    },
    {
     "name": "stdout",
     "output_type": "stream",
     "text": [
      "bone-hup-138\n",
      "Does this patient have T2 available? True\n",
      "I'm doing the thing.\n",
      "bone-hup-244\n",
      "Does this patient have T2 available? True\n",
      "I'm doing the thing.\n",
      "bone-penn-219\n",
      "Does this patient have T2 available? True\n",
      "I'm doing the thing.\n"
     ]
    },
    {
     "name": "stderr",
     "output_type": "stream",
     "text": [
      "\r",
      " 88%|████████▊ | 549/622 [02:08<00:11,  6.15it/s]"
     ]
    },
    {
     "name": "stdout",
     "output_type": "stream",
     "text": [
      "bone-hup-262\n",
      "Does this patient have T2 available? True\n",
      "I'm doing the thing.\n",
      "bone-penn-055\n",
      "Does this patient have T2 available? True\n",
      "I'm doing the thing.\n"
     ]
    },
    {
     "name": "stderr",
     "output_type": "stream",
     "text": [
      "\r",
      " 88%|████████▊ | 550/622 [02:08<00:12,  5.84it/s]"
     ]
    },
    {
     "name": "stdout",
     "output_type": "stream",
     "text": [
      "bone-penn-192\n",
      "Does this patient have T2 available? True\n",
      "I'm doing the thing.\n"
     ]
    },
    {
     "name": "stderr",
     "output_type": "stream",
     "text": [
      "\r",
      " 89%|████████▊ | 551/622 [02:08<00:14,  4.94it/s]"
     ]
    },
    {
     "name": "stdout",
     "output_type": "stream",
     "text": [
      "bone-penn-236\n",
      "Does this patient have T2 available? True\n",
      "I'm doing the thing.\n"
     ]
    },
    {
     "name": "stderr",
     "output_type": "stream",
     "text": [
      "\r",
      " 89%|████████▊ | 552/622 [02:09<00:17,  4.01it/s]"
     ]
    },
    {
     "name": "stdout",
     "output_type": "stream",
     "text": [
      "bone-penn-018\n",
      "Does this patient have T2 available? True\n",
      "I'm doing the thing.\n"
     ]
    },
    {
     "name": "stderr",
     "output_type": "stream",
     "text": [
      "\r",
      " 89%|████████▉ | 553/622 [02:09<00:23,  2.97it/s]"
     ]
    },
    {
     "name": "stdout",
     "output_type": "stream",
     "text": [
      "bone-penn-072\n",
      "Does this patient have T2 available? True\n",
      "I'm doing the thing.\n"
     ]
    },
    {
     "name": "stderr",
     "output_type": "stream",
     "text": [
      "\r",
      " 89%|████████▉ | 554/622 [02:10<00:23,  2.85it/s]"
     ]
    },
    {
     "name": "stdout",
     "output_type": "stream",
     "text": [
      "bone-penn-546\n",
      "Does this patient have T2 available? True\n",
      "I'm doing the thing.\n"
     ]
    },
    {
     "name": "stderr",
     "output_type": "stream",
     "text": [
      "\r",
      " 89%|████████▉ | 555/622 [02:10<00:21,  3.09it/s]"
     ]
    },
    {
     "name": "stdout",
     "output_type": "stream",
     "text": [
      "bone-china-201\n",
      "Does this patient have T2 available? True\n",
      "I'm doing the thing.\n",
      "bone-penn-597\n",
      "Does this patient have T2 available? True\n",
      "I'm doing the thing.\n"
     ]
    },
    {
     "name": "stderr",
     "output_type": "stream",
     "text": [
      " 90%|████████▉ | 558/622 [02:11<00:20,  3.06it/s]"
     ]
    },
    {
     "name": "stdout",
     "output_type": "stream",
     "text": [
      "bone-hup-91\n",
      "Does this patient have T2 available? True\n",
      "I'm doing the thing.\n",
      "bone-penn-227\n",
      "Does this patient have T2 available? True\n",
      "I'm doing the thing.\n"
     ]
    },
    {
     "name": "stderr",
     "output_type": "stream",
     "text": [
      " 90%|█████████ | 560/622 [02:13<00:27,  2.26it/s]"
     ]
    },
    {
     "name": "stdout",
     "output_type": "stream",
     "text": [
      "bone-penn-464\n",
      "Does this patient have T2 available? True\n",
      "I'm doing the thing.\n",
      "bone-penn-467\n",
      "Does this patient have T2 available? True\n",
      "I'm doing the thing.\n"
     ]
    },
    {
     "name": "stderr",
     "output_type": "stream",
     "text": [
      " 90%|█████████ | 562/622 [02:13<00:17,  3.45it/s]"
     ]
    },
    {
     "name": "stdout",
     "output_type": "stream",
     "text": [
      "bone-hup-228\n",
      "Does this patient have T2 available? True\n",
      "I'm doing the thing.\n",
      "bone-penn-618\n",
      "Does this patient have T2 available? True\n",
      "I'm doing the thing.\n"
     ]
    },
    {
     "name": "stderr",
     "output_type": "stream",
     "text": [
      " 91%|█████████ | 564/622 [02:13<00:14,  3.98it/s]"
     ]
    },
    {
     "name": "stdout",
     "output_type": "stream",
     "text": [
      "bone-penn-253\n",
      "Does this patient have T2 available? True\n",
      "I'm doing the thing.\n",
      "bone-china-198\n",
      "Does this patient have T2 available? True\n",
      "I'm doing the thing.\n"
     ]
    },
    {
     "name": "stderr",
     "output_type": "stream",
     "text": [
      "\r",
      " 91%|█████████ | 565/622 [02:13<00:11,  4.83it/s]"
     ]
    },
    {
     "name": "stdout",
     "output_type": "stream",
     "text": [
      "bone-penn-223\n",
      "Does this patient have T2 available? True\n",
      "I'm doing the thing.\n"
     ]
    },
    {
     "name": "stderr",
     "output_type": "stream",
     "text": [
      "\r",
      " 91%|█████████ | 566/622 [02:14<00:18,  2.98it/s]"
     ]
    },
    {
     "name": "stdout",
     "output_type": "stream",
     "text": [
      "bone-hup-112\n",
      "Does this patient have T2 available? True\n",
      "I'm doing the thing.\n"
     ]
    },
    {
     "name": "stderr",
     "output_type": "stream",
     "text": [
      "\r",
      " 91%|█████████ | 567/622 [02:14<00:17,  3.21it/s]"
     ]
    },
    {
     "name": "stdout",
     "output_type": "stream",
     "text": [
      "bone-hup-105\n",
      "Does this patient have T2 available? True\n",
      "I'm doing the thing.\n",
      "bone-hup-62\n",
      "Does this patient have T2 available? True\n",
      "I'm doing the thing.\n"
     ]
    },
    {
     "name": "stderr",
     "output_type": "stream",
     "text": [
      "\r",
      " 91%|█████████▏| 569/622 [02:15<00:13,  3.87it/s]"
     ]
    },
    {
     "name": "stdout",
     "output_type": "stream",
     "text": [
      "bone-china-199\n",
      "Does this patient have T2 available? True\n",
      "I'm doing the thing.\n",
      "bone-penn-126\n",
      "Does this patient have T2 available? True\n",
      "I'm doing the thing.\n"
     ]
    },
    {
     "name": "stderr",
     "output_type": "stream",
     "text": [
      " 92%|█████████▏| 572/622 [02:15<00:10,  4.60it/s]"
     ]
    },
    {
     "name": "stdout",
     "output_type": "stream",
     "text": [
      "bone-penn-064\n",
      "Does this patient have T2 available? True\n",
      "I'm doing the thing.\n",
      "bone-penn-461\n",
      "Does this patient have T2 available? True\n",
      "I'm doing the thing.\n"
     ]
    },
    {
     "name": "stderr",
     "output_type": "stream",
     "text": [
      " 92%|█████████▏| 574/622 [02:16<00:12,  3.76it/s]"
     ]
    },
    {
     "name": "stdout",
     "output_type": "stream",
     "text": [
      "bone-penn-606\n",
      "Does this patient have T2 available? True\n",
      "I'm doing the thing.\n",
      "bone-penn-265\n",
      "Does this patient have T2 available? True\n",
      "I'm doing the thing.\n"
     ]
    },
    {
     "name": "stderr",
     "output_type": "stream",
     "text": [
      " 93%|█████████▎| 577/622 [02:16<00:09,  4.69it/s]"
     ]
    },
    {
     "name": "stdout",
     "output_type": "stream",
     "text": [
      "bone-hup-225\n",
      "Does this patient have T2 available? True\n",
      "I'm doing the thing.\n",
      "bone-hup-60\n",
      "Does this patient have T2 available? True\n",
      "I'm doing the thing.\n",
      "bone-hup-279\n",
      "Does this patient have T2 available? True\n",
      "I'm doing the thing.\n"
     ]
    },
    {
     "name": "stderr",
     "output_type": "stream",
     "text": [
      "\r",
      " 93%|█████████▎| 579/622 [02:17<00:07,  5.53it/s]"
     ]
    },
    {
     "name": "stdout",
     "output_type": "stream",
     "text": [
      "bone-hup-53\n",
      "Does this patient have T2 available? True\n",
      "I'm doing the thing.\n",
      "bone-hup-196\n",
      "Does this patient have T2 available? True\n",
      "I'm doing the thing.\n"
     ]
    },
    {
     "name": "stderr",
     "output_type": "stream",
     "text": [
      " 93%|█████████▎| 581/622 [02:17<00:06,  6.16it/s]"
     ]
    },
    {
     "name": "stdout",
     "output_type": "stream",
     "text": [
      "bone-penn-254\n",
      "Does this patient have T2 available? True\n",
      "I'm doing the thing.\n",
      "bone-penn-079\n",
      "Does this patient have T2 available? True\n",
      "I'm doing the thing.\n",
      "bone-penn-602\n",
      "Does this patient have T2 available? True\n",
      "I'm doing the thing.\n"
     ]
    },
    {
     "name": "stderr",
     "output_type": "stream",
     "text": [
      " 94%|█████████▍| 584/622 [02:17<00:06,  5.69it/s]"
     ]
    },
    {
     "name": "stdout",
     "output_type": "stream",
     "text": [
      "bone-penn-652\n",
      "Does this patient have T2 available? True\n",
      "I'm doing the thing.\n",
      "bone-hup-70\n",
      "Does this patient have T2 available? True\n",
      "I'm doing the thing.\n"
     ]
    },
    {
     "name": "stderr",
     "output_type": "stream",
     "text": [
      " 94%|█████████▍| 586/622 [02:18<00:05,  6.30it/s]"
     ]
    },
    {
     "name": "stdout",
     "output_type": "stream",
     "text": [
      "bone-china-212\n",
      "Does this patient have T2 available? True\n",
      "I'm doing the thing.\n",
      "bone-penn-386\n",
      "Does this patient have T2 available? True\n",
      "I'm doing the thing.\n"
     ]
    },
    {
     "name": "stderr",
     "output_type": "stream",
     "text": [
      "\r",
      " 94%|█████████▍| 587/622 [02:18<00:08,  4.23it/s]"
     ]
    },
    {
     "name": "stdout",
     "output_type": "stream",
     "text": [
      "bone-china-243\n",
      "Does this patient have T2 available? True\n",
      "I'm doing the thing.\n"
     ]
    },
    {
     "name": "stderr",
     "output_type": "stream",
     "text": [
      " 95%|█████████▍| 589/622 [02:19<00:07,  4.50it/s]"
     ]
    },
    {
     "name": "stdout",
     "output_type": "stream",
     "text": [
      "bone-penn-174\n",
      "Does this patient have T2 available? True\n",
      "I'm doing the thing.\n",
      "bone-hup-170\n",
      "Does this patient have T2 available? True\n",
      "I'm doing the thing.\n"
     ]
    },
    {
     "name": "stderr",
     "output_type": "stream",
     "text": [
      " 95%|█████████▌| 591/622 [02:19<00:05,  5.43it/s]"
     ]
    },
    {
     "name": "stdout",
     "output_type": "stream",
     "text": [
      "bone-penn-647\n",
      "Does this patient have T2 available? True\n",
      "I'm doing the thing.\n",
      "bone-china-194\n",
      "Does this patient have T2 available? True\n",
      "I'm doing the thing.\n"
     ]
    },
    {
     "name": "stderr",
     "output_type": "stream",
     "text": [
      "\r",
      " 95%|█████████▌| 592/622 [02:19<00:05,  5.96it/s]"
     ]
    },
    {
     "name": "stdout",
     "output_type": "stream",
     "text": [
      "bone-penn-610\n",
      "Does this patient have T2 available? True\n",
      "I'm doing the thing.\n"
     ]
    },
    {
     "name": "stderr",
     "output_type": "stream",
     "text": [
      "\r",
      " 95%|█████████▌| 593/622 [02:19<00:05,  5.15it/s]"
     ]
    },
    {
     "name": "stdout",
     "output_type": "stream",
     "text": [
      "bone-penn-372\n",
      "Does this patient have T2 available? True\n",
      "I'm doing the thing.\n"
     ]
    },
    {
     "name": "stderr",
     "output_type": "stream",
     "text": [
      " 96%|█████████▌| 596/622 [02:20<00:04,  5.75it/s]"
     ]
    },
    {
     "name": "stdout",
     "output_type": "stream",
     "text": [
      "bone-penn-176\n",
      "Does this patient have T2 available? True\n",
      "I'm doing the thing.\n",
      "bone-china-190\n",
      "Does this patient have T2 available? True\n",
      "I'm doing the thing.\n",
      "bone-penn-636\n",
      "Does this patient have T2 available? True\n",
      "I'm doing the thing.\n"
     ]
    },
    {
     "name": "stderr",
     "output_type": "stream",
     "text": [
      " 96%|█████████▌| 598/622 [02:20<00:04,  5.97it/s]"
     ]
    },
    {
     "name": "stdout",
     "output_type": "stream",
     "text": [
      "bone-hup-110\n",
      "Does this patient have T2 available? True\n",
      "I'm doing the thing.\n",
      "bone-penn-041\n",
      "Does this patient have T2 available? True\n",
      "I'm doing the thing.\n"
     ]
    },
    {
     "name": "stderr",
     "output_type": "stream",
     "text": [
      " 97%|█████████▋| 601/622 [02:21<00:04,  4.96it/s]"
     ]
    },
    {
     "name": "stdout",
     "output_type": "stream",
     "text": [
      "bone-china-184\n",
      "Does this patient have T2 available? True\n",
      "I'm doing the thing.\n",
      "bone-hup-207\n",
      "Does this patient have T2 available? True\n",
      "I'm doing the thing.\n",
      "bone-hup-248\n",
      "Does this patient have T2 available? True\n",
      "I'm doing the thing.\n"
     ]
    },
    {
     "name": "stderr",
     "output_type": "stream",
     "text": [
      "\r",
      " 97%|█████████▋| 603/622 [02:21<00:03,  5.90it/s]"
     ]
    },
    {
     "name": "stdout",
     "output_type": "stream",
     "text": [
      "bone-hup-183\n",
      "Does this patient have T2 available? True\n",
      "I'm doing the thing.\n",
      "bone-hup-180\n",
      "Does this patient have T2 available? True\n",
      "I'm doing the thing.\n"
     ]
    },
    {
     "name": "stderr",
     "output_type": "stream",
     "text": [
      "\r",
      " 97%|█████████▋| 604/622 [02:21<00:03,  5.75it/s]"
     ]
    },
    {
     "name": "stdout",
     "output_type": "stream",
     "text": [
      "bone-penn-418\n",
      "Does this patient have T2 available? True\n",
      "I'm doing the thing.\n"
     ]
    },
    {
     "name": "stderr",
     "output_type": "stream",
     "text": [
      "\r",
      " 97%|█████████▋| 605/622 [02:22<00:05,  3.35it/s]"
     ]
    },
    {
     "name": "stdout",
     "output_type": "stream",
     "text": [
      "bone-hup-106\n",
      "Does this patient have T2 available? True\n",
      "I'm doing the thing.\n"
     ]
    },
    {
     "name": "stderr",
     "output_type": "stream",
     "text": [
      "\r",
      " 97%|█████████▋| 606/622 [02:22<00:05,  3.09it/s]"
     ]
    },
    {
     "name": "stdout",
     "output_type": "stream",
     "text": [
      "bone-penn-247\n",
      "Does this patient have T2 available? True\n",
      "I'm doing the thing.\n",
      "bone-hup-191\n",
      "Does this patient have T2 available? True\n",
      "I'm doing the thing.\n"
     ]
    },
    {
     "name": "stderr",
     "output_type": "stream",
     "text": [
      " 98%|█████████▊| 609/622 [02:22<00:03,  4.15it/s]"
     ]
    },
    {
     "name": "stdout",
     "output_type": "stream",
     "text": [
      "bone-hup-231\n",
      "Does this patient have T2 available? True\n",
      "I'm doing the thing.\n",
      "bone-penn-160\n",
      "Does this patient have T2 available? True\n",
      "I'm doing the thing.\n"
     ]
    },
    {
     "name": "stderr",
     "output_type": "stream",
     "text": [
      " 98%|█████████▊| 611/622 [02:23<00:02,  4.95it/s]"
     ]
    },
    {
     "name": "stdout",
     "output_type": "stream",
     "text": [
      "bone-penn-653\n",
      "Does this patient have T2 available? True\n",
      "I'm doing the thing.\n",
      "bone-penn-231\n",
      "Does this patient have T2 available? True\n",
      "I'm doing the thing.\n"
     ]
    },
    {
     "name": "stderr",
     "output_type": "stream",
     "text": [
      "\r",
      " 98%|█████████▊| 612/622 [02:23<00:03,  3.25it/s]"
     ]
    },
    {
     "name": "stdout",
     "output_type": "stream",
     "text": [
      "bone-penn-246\n",
      "Does this patient have T2 available? True\n",
      "I'm doing the thing.\n",
      "bone-penn-214\n",
      "Does this patient have T2 available? True\n",
      "I'm doing the thing.\n"
     ]
    },
    {
     "name": "stderr",
     "output_type": "stream",
     "text": [
      "\r",
      " 99%|█████████▊| 614/622 [02:24<00:02,  3.72it/s]"
     ]
    },
    {
     "name": "stdout",
     "output_type": "stream",
     "text": [
      "bone-china-222\n",
      "Does this patient have T2 available? True\n",
      "I'm doing the thing.\n",
      "bone-hup-69\n",
      "Does this patient have T2 available? True\n",
      "I'm doing the thing.\n"
     ]
    },
    {
     "name": "stderr",
     "output_type": "stream",
     "text": [
      " 99%|█████████▉| 617/622 [02:24<00:01,  4.95it/s]"
     ]
    },
    {
     "name": "stdout",
     "output_type": "stream",
     "text": [
      "bone-china-221\n",
      "Does this patient have T2 available? True\n",
      "I'm doing the thing.\n",
      "bone-penn-390\n",
      "Does this patient have T2 available? True\n",
      "I'm doing the thing.\n"
     ]
    },
    {
     "name": "stderr",
     "output_type": "stream",
     "text": [
      "100%|█████████▉| 619/622 [02:24<00:00,  5.32it/s]"
     ]
    },
    {
     "name": "stdout",
     "output_type": "stream",
     "text": [
      "bone-china-193\n",
      "Does this patient have T2 available? True\n",
      "I'm doing the thing.\n",
      "bone-hup-263\n",
      "Does this patient have T2 available? True\n",
      "I'm doing the thing.\n"
     ]
    },
    {
     "name": "stderr",
     "output_type": "stream",
     "text": [
      "100%|█████████▉| 621/622 [02:25<00:00,  6.00it/s]"
     ]
    },
    {
     "name": "stdout",
     "output_type": "stream",
     "text": [
      "bone-penn-168\n",
      "Does this patient have T2 available? True\n",
      "I'm doing the thing.\n",
      "bone-penn-217\n",
      "Does this patient have T2 available? True\n",
      "I'm doing the thing.\n"
     ]
    },
    {
     "name": "stderr",
     "output_type": "stream",
     "text": [
      "100%|██████████| 622/622 [02:25<00:00,  4.26it/s]\n",
      "  0%|          | 0/168 [00:00<?, ?it/s]"
     ]
    },
    {
     "name": "stdout",
     "output_type": "stream",
     "text": [
      "bone-penn-113\n",
      "Does this patient have T2 available? True\n",
      "I'm doing the thing.\n",
      "bone-china-003\n",
      "Does this patient have T2 available? True\n",
      "I'm doing the thing.\n"
     ]
    },
    {
     "name": "stderr",
     "output_type": "stream",
     "text": [
      "  2%|▏         | 3/168 [00:00<00:22,  7.21it/s]"
     ]
    },
    {
     "name": "stdout",
     "output_type": "stream",
     "text": [
      "bone-penn-630\n",
      "Does this patient have T2 available? True\n",
      "I'm doing the thing.\n",
      "bone-china-078\n",
      "Does this patient have T2 available? True\n",
      "I'm doing the thing.\n"
     ]
    },
    {
     "name": "stderr",
     "output_type": "stream",
     "text": [
      "\r",
      "  2%|▏         | 4/168 [00:00<00:21,  7.53it/s]"
     ]
    },
    {
     "name": "stdout",
     "output_type": "stream",
     "text": [
      "bone-hup-326\n",
      "Does this patient have T2 available? True\n",
      "I'm doing the thing.\n"
     ]
    },
    {
     "name": "stderr",
     "output_type": "stream",
     "text": [
      "\r",
      "  3%|▎         | 5/168 [00:01<00:45,  3.62it/s]"
     ]
    },
    {
     "name": "stdout",
     "output_type": "stream",
     "text": [
      "bone-penn-054\n",
      "Does this patient have T2 available? True\n",
      "I'm doing the thing.\n",
      "bone-penn-312\n",
      "Does this patient have T2 available? True\n",
      "I'm doing the thing.\n"
     ]
    },
    {
     "name": "stderr",
     "output_type": "stream",
     "text": [
      "\r",
      "  4%|▍         | 7/168 [00:01<00:45,  3.55it/s]"
     ]
    },
    {
     "name": "stdout",
     "output_type": "stream",
     "text": [
      "bone-hup-116\n",
      "Does this patient have T2 available? True\n",
      "I'm doing the thing.\n"
     ]
    },
    {
     "name": "stderr",
     "output_type": "stream",
     "text": [
      "\r",
      "  5%|▍         | 8/168 [00:02<00:47,  3.36it/s]"
     ]
    },
    {
     "name": "stdout",
     "output_type": "stream",
     "text": [
      "bone-penn-031\n",
      "Does this patient have T2 available? True\n",
      "I'm doing the thing.\n",
      "bone-penn-482\n",
      "Does this patient have T2 available? True\n",
      "I'm doing the thing.\n"
     ]
    },
    {
     "name": "stderr",
     "output_type": "stream",
     "text": [
      "\r",
      "  6%|▌         | 10/168 [00:02<00:52,  3.03it/s]"
     ]
    },
    {
     "name": "stdout",
     "output_type": "stream",
     "text": [
      "bone-penn-82\n",
      "Does this patient have T2 available? True\n",
      "I'm doing the thing.\n"
     ]
    },
    {
     "name": "stderr",
     "output_type": "stream",
     "text": [
      "\r",
      "  7%|▋         | 11/168 [00:03<00:49,  3.18it/s]"
     ]
    },
    {
     "name": "stdout",
     "output_type": "stream",
     "text": [
      "bone-china-165\n",
      "Does this patient have T2 available? True\n",
      "I'm doing the thing.\n",
      "bone-penn-583\n",
      "Does this patient have T2 available? True\n",
      "I'm doing the thing.\n"
     ]
    },
    {
     "name": "stderr",
     "output_type": "stream",
     "text": [
      "  8%|▊         | 14/168 [00:03<00:35,  4.34it/s]"
     ]
    },
    {
     "name": "stdout",
     "output_type": "stream",
     "text": [
      "bone-china-145\n",
      "Does this patient have T2 available? True\n",
      "I'm doing the thing.\n",
      "bone-china-079\n",
      "Does this patient have T2 available? True\n",
      "I'm doing the thing.\n"
     ]
    },
    {
     "name": "stderr",
     "output_type": "stream",
     "text": [
      " 10%|▉         | 16/168 [00:03<00:28,  5.42it/s]"
     ]
    },
    {
     "name": "stdout",
     "output_type": "stream",
     "text": [
      "bone-hup-287\n",
      "Does this patient have T2 available? True\n",
      "I'm doing the thing.\n",
      "bone-penn-328\n",
      "Does this patient have T2 available? True\n",
      "I'm doing the thing.\n"
     ]
    },
    {
     "name": "stderr",
     "output_type": "stream",
     "text": [
      "\r",
      " 10%|█         | 17/168 [00:03<00:24,  6.23it/s]"
     ]
    },
    {
     "name": "stdout",
     "output_type": "stream",
     "text": [
      "bone-hup-128\n",
      "Does this patient have T2 available? True\n",
      "I'm doing the thing.\n"
     ]
    },
    {
     "name": "stderr",
     "output_type": "stream",
     "text": [
      "\r",
      " 11%|█         | 18/168 [00:04<00:32,  4.63it/s]"
     ]
    },
    {
     "name": "stdout",
     "output_type": "stream",
     "text": [
      "bone-penn-283\n",
      "Does this patient have T2 available? True\n",
      "I'm doing the thing.\n"
     ]
    },
    {
     "name": "stderr",
     "output_type": "stream",
     "text": [
      "\r",
      " 11%|█▏        | 19/168 [00:04<00:34,  4.33it/s]"
     ]
    },
    {
     "name": "stdout",
     "output_type": "stream",
     "text": [
      "bone-penn-576\n",
      "Does this patient have T2 available? True\n",
      "I'm doing the thing.\n"
     ]
    },
    {
     "name": "stderr",
     "output_type": "stream",
     "text": [
      "\r",
      " 12%|█▏        | 20/168 [00:04<00:38,  3.80it/s]"
     ]
    },
    {
     "name": "stdout",
     "output_type": "stream",
     "text": [
      "bone-penn-392\n",
      "Does this patient have T2 available? True\n",
      "I'm doing the thing.\n"
     ]
    },
    {
     "name": "stderr",
     "output_type": "stream",
     "text": [
      " 13%|█▎        | 22/168 [00:05<00:37,  3.93it/s]"
     ]
    },
    {
     "name": "stdout",
     "output_type": "stream",
     "text": [
      "bone-penn-454\n",
      "Does this patient have T2 available? True\n",
      "I'm doing the thing.\n",
      "bone-penn-374\n",
      "Does this patient have T2 available? True\n",
      "I'm doing the thing.\n"
     ]
    },
    {
     "name": "stderr",
     "output_type": "stream",
     "text": [
      " 14%|█▍        | 24/168 [00:05<00:33,  4.35it/s]"
     ]
    },
    {
     "name": "stdout",
     "output_type": "stream",
     "text": [
      "bone-china-127\n",
      "Does this patient have T2 available? True\n",
      "I'm doing the thing.\n",
      "bone-penn-147\n",
      "Does this patient have T2 available? True\n",
      "I'm doing the thing.\n"
     ]
    },
    {
     "name": "stderr",
     "output_type": "stream",
     "text": [
      " 15%|█▌        | 26/168 [00:06<00:32,  4.32it/s]"
     ]
    },
    {
     "name": "stdout",
     "output_type": "stream",
     "text": [
      "bone-hup-301\n",
      "Does this patient have T2 available? True\n",
      "I'm doing the thing.\n",
      "bone-china-174\n",
      "Does this patient have T2 available? True\n",
      "I'm doing the thing.\n"
     ]
    },
    {
     "name": "stderr",
     "output_type": "stream",
     "text": [
      "\r",
      " 16%|█▌        | 27/168 [00:06<00:35,  4.02it/s]"
     ]
    },
    {
     "name": "stdout",
     "output_type": "stream",
     "text": [
      "bone-hup-316\n",
      "Does this patient have T2 available? True\n",
      "I'm doing the thing.\n"
     ]
    },
    {
     "name": "stderr",
     "output_type": "stream",
     "text": [
      "\r",
      " 17%|█▋        | 28/168 [00:06<00:35,  3.93it/s]"
     ]
    },
    {
     "name": "stdout",
     "output_type": "stream",
     "text": [
      "bone-china-025\n",
      "Does this patient have T2 available? True\n",
      "I'm doing the thing.\n",
      "bone-penn-285\n",
      "Does this patient have T2 available? True\n",
      "I'm doing the thing.\n"
     ]
    },
    {
     "name": "stderr",
     "output_type": "stream",
     "text": [
      " 19%|█▉        | 32/168 [00:07<00:27,  4.98it/s]"
     ]
    },
    {
     "name": "stdout",
     "output_type": "stream",
     "text": [
      "bone-penn-512\n",
      "Does this patient have T2 available? True\n",
      "I'm doing the thing.\n",
      "bone-china-171\n",
      "Does this patient have T2 available? True\n",
      "I'm doing the thing.\n",
      "bone-hup-325\n",
      "Does this patient have T2 available? True\n",
      "I'm doing the thing.\n"
     ]
    },
    {
     "name": "stderr",
     "output_type": "stream",
     "text": [
      "\r",
      " 20%|█▉        | 33/168 [00:07<00:30,  4.49it/s]"
     ]
    },
    {
     "name": "stdout",
     "output_type": "stream",
     "text": [
      "bone-penn-517\n",
      "Does this patient have T2 available? True\n",
      "I'm doing the thing.\n"
     ]
    },
    {
     "name": "stderr",
     "output_type": "stream",
     "text": [
      " 21%|██        | 35/168 [00:08<00:26,  5.03it/s]"
     ]
    },
    {
     "name": "stdout",
     "output_type": "stream",
     "text": [
      "bone-china-105\n",
      "Does this patient have T2 available? True\n",
      "I'm doing the thing.\n",
      "bone-penn-109\n",
      "Does this patient have T2 available? True\n",
      "I'm doing the thing.\n"
     ]
    },
    {
     "name": "stderr",
     "output_type": "stream",
     "text": [
      "\r",
      " 21%|██▏       | 36/168 [00:08<00:22,  5.81it/s]"
     ]
    },
    {
     "name": "stdout",
     "output_type": "stream",
     "text": [
      "bone-china-125\n",
      "Does this patient have T2 available? True\n",
      "I'm doing the thing.\n",
      "bone-penn-016\n",
      "Does this patient have T2 available? True\n",
      "I'm doing the thing.\n"
     ]
    },
    {
     "name": "stderr",
     "output_type": "stream",
     "text": [
      " 23%|██▎       | 39/168 [00:08<00:21,  6.14it/s]"
     ]
    },
    {
     "name": "stdout",
     "output_type": "stream",
     "text": [
      "bone-china-028\n",
      "Does this patient have T2 available? True\n",
      "I'm doing the thing.\n",
      "bone-hup-136\n",
      "Does this patient have T2 available? True\n",
      "I'm doing the thing.\n"
     ]
    },
    {
     "name": "stderr",
     "output_type": "stream",
     "text": [
      "\r",
      " 24%|██▍       | 40/168 [00:09<00:19,  6.55it/s]"
     ]
    },
    {
     "name": "stdout",
     "output_type": "stream",
     "text": [
      "bone-penn-83\n",
      "Does this patient have T2 available? True\n",
      "I'm doing the thing.\n"
     ]
    },
    {
     "name": "stderr",
     "output_type": "stream",
     "text": [
      " 25%|██▌       | 42/168 [00:09<00:21,  5.79it/s]"
     ]
    },
    {
     "name": "stdout",
     "output_type": "stream",
     "text": [
      "bone-penn-130\n",
      "Does this patient have T2 available? True\n",
      "I'm doing the thing.\n",
      "bone-penn-017\n",
      "Does this patient have T2 available? True\n",
      "I'm doing the thing.\n"
     ]
    },
    {
     "name": "stderr",
     "output_type": "stream",
     "text": [
      "\r",
      " 26%|██▌       | 44/168 [00:09<00:18,  6.68it/s]"
     ]
    },
    {
     "name": "stdout",
     "output_type": "stream",
     "text": [
      "bone-penn-346\n",
      "Does this patient have T2 available? True\n",
      "I'm doing the thing.\n",
      "bone-penn-489\n",
      "Does this patient have T2 available? True\n",
      "I'm doing the thing.\n"
     ]
    },
    {
     "name": "stderr",
     "output_type": "stream",
     "text": [
      " 28%|██▊       | 47/168 [00:10<00:20,  5.80it/s]"
     ]
    },
    {
     "name": "stdout",
     "output_type": "stream",
     "text": [
      "bone-china-167\n",
      "Does this patient have T2 available? True\n",
      "I'm doing the thing.\n",
      "bone-penn-417\n",
      "Does this patient have T2 available? True\n",
      "I'm doing the thing.\n",
      "bone-penn-156\n",
      "Does this patient have T2 available? True\n",
      "I'm doing the thing.\n"
     ]
    },
    {
     "name": "stderr",
     "output_type": "stream",
     "text": [
      " 29%|██▉       | 49/168 [00:10<00:20,  5.91it/s]"
     ]
    },
    {
     "name": "stdout",
     "output_type": "stream",
     "text": [
      "bone-penn-590\n",
      "Does this patient have T2 available? True\n",
      "I'm doing the thing.\n",
      "bone-china-051\n",
      "Does this patient have T2 available? True\n",
      "I'm doing the thing.\n"
     ]
    },
    {
     "name": "stderr",
     "output_type": "stream",
     "text": [
      "\r",
      " 30%|███       | 51/168 [00:10<00:16,  6.95it/s]"
     ]
    },
    {
     "name": "stdout",
     "output_type": "stream",
     "text": [
      "bone-penn-98\n",
      "Does this patient have T2 available? True\n",
      "I'm doing the thing.\n",
      "bone-penn-077\n",
      "Does this patient have T2 available? True\n",
      "I'm doing the thing.\n",
      "bone-china-050\n",
      "Does this patient have T2 available? True\n",
      "I'm doing the thing.\n"
     ]
    },
    {
     "name": "stderr",
     "output_type": "stream",
     "text": [
      "\r",
      " 32%|███▏      | 53/168 [00:10<00:13,  8.22it/s]"
     ]
    },
    {
     "name": "stdout",
     "output_type": "stream",
     "text": [
      "bone-penn-494\n",
      "Does this patient have T2 available? True\n",
      "I'm doing the thing.\n",
      "bone-penn-542\n",
      "Does this patient have T2 available? True\n",
      "I'm doing the thing.\n"
     ]
    },
    {
     "name": "stderr",
     "output_type": "stream",
     "text": [
      "\r",
      " 33%|███▎      | 55/168 [00:11<00:22,  5.12it/s]"
     ]
    },
    {
     "name": "stdout",
     "output_type": "stream",
     "text": [
      "bone-penn-049\n",
      "Does this patient have T2 available? True\n",
      "I'm doing the thing.\n"
     ]
    },
    {
     "name": "stderr",
     "output_type": "stream",
     "text": [
      "\r",
      " 33%|███▎      | 56/168 [00:11<00:24,  4.59it/s]"
     ]
    },
    {
     "name": "stdout",
     "output_type": "stream",
     "text": [
      "bone-penn-536\n",
      "Does this patient have T2 available? True\n",
      "I'm doing the thing.\n"
     ]
    },
    {
     "name": "stderr",
     "output_type": "stream",
     "text": [
      " 35%|███▍      | 58/168 [00:12<00:26,  4.13it/s]"
     ]
    },
    {
     "name": "stdout",
     "output_type": "stream",
     "text": [
      "bone-penn-564\n",
      "Does this patient have T2 available? True\n",
      "I'm doing the thing.\n",
      "bone-china-113\n",
      "Does this patient have T2 available? True\n",
      "I'm doing the thing.\n"
     ]
    },
    {
     "name": "stderr",
     "output_type": "stream",
     "text": [
      " 36%|███▌      | 60/168 [00:12<00:19,  5.40it/s]"
     ]
    },
    {
     "name": "stdout",
     "output_type": "stream",
     "text": [
      "bone-penn-613\n",
      "Does this patient have T2 available? True\n",
      "I'm doing the thing.\n",
      "bone-penn-455\n",
      "Does this patient have T2 available? True\n",
      "I'm doing the thing.\n"
     ]
    },
    {
     "name": "stderr",
     "output_type": "stream",
     "text": [
      " 37%|███▋      | 62/168 [00:13<00:22,  4.79it/s]"
     ]
    },
    {
     "name": "stdout",
     "output_type": "stream",
     "text": [
      "bone-penn-520\n",
      "Does this patient have T2 available? True\n",
      "I'm doing the thing.\n",
      "bone-penn-155\n",
      "Does this patient have T2 available? True\n",
      "I'm doing the thing.\n"
     ]
    },
    {
     "name": "stderr",
     "output_type": "stream",
     "text": [
      "\r",
      " 38%|███▊      | 63/168 [00:13<00:20,  5.11it/s]"
     ]
    },
    {
     "name": "stdout",
     "output_type": "stream",
     "text": [
      "bone-penn-068\n",
      "Does this patient have T2 available? True\n",
      "I'm doing the thing.\n",
      "bone-penn-332\n",
      "Does this patient have T2 available? True\n",
      "I'm doing the thing.\n"
     ]
    },
    {
     "name": "stderr",
     "output_type": "stream",
     "text": [
      "\r",
      " 39%|███▊      | 65/168 [00:13<00:19,  5.26it/s]"
     ]
    },
    {
     "name": "stdout",
     "output_type": "stream",
     "text": [
      "bone-penn-007\n",
      "Does this patient have T2 available? True\n",
      "I'm doing the thing.\n"
     ]
    },
    {
     "name": "stderr",
     "output_type": "stream",
     "text": [
      " 40%|███▉      | 67/168 [00:14<00:19,  5.19it/s]"
     ]
    },
    {
     "name": "stdout",
     "output_type": "stream",
     "text": [
      "bone-penn-561\n",
      "Does this patient have T2 available? True\n",
      "I'm doing the thing.\n",
      "bone-china-005\n",
      "Does this patient have T2 available? True\n",
      "I'm doing the thing.\n",
      "bone-penn-039\n",
      "Does this patient have T2 available? True\n",
      "I'm doing the thing.\n"
     ]
    },
    {
     "name": "stderr",
     "output_type": "stream",
     "text": [
      " 42%|████▏     | 70/168 [00:14<00:15,  6.30it/s]"
     ]
    },
    {
     "name": "stdout",
     "output_type": "stream",
     "text": [
      "bone-china-039\n",
      "Does this patient have T2 available? True\n",
      "I'm doing the thing.\n",
      "bone-penn-396\n",
      "Does this patient have T2 available? True\n",
      "I'm doing the thing.\n"
     ]
    },
    {
     "name": "stderr",
     "output_type": "stream",
     "text": [
      "\r",
      " 42%|████▏     | 71/168 [00:14<00:25,  3.80it/s]"
     ]
    },
    {
     "name": "stdout",
     "output_type": "stream",
     "text": [
      "bone-penn-329\n",
      "Does this patient have T2 available? True\n",
      "I'm doing the thing.\n"
     ]
    },
    {
     "name": "stderr",
     "output_type": "stream",
     "text": [
      " 44%|████▍     | 74/168 [00:15<00:26,  3.51it/s]"
     ]
    },
    {
     "name": "stdout",
     "output_type": "stream",
     "text": [
      "bone-penn-319\n",
      "Does this patient have T2 available? True\n",
      "I'm doing the thing.\n",
      "bone-penn-282\n",
      "Does this patient have T2 available? True\n",
      "I'm doing the thing.\n",
      "bone-hup-329\n",
      "Does this patient have T2 available? True\n",
      "I'm doing the thing.\n"
     ]
    },
    {
     "name": "stderr",
     "output_type": "stream",
     "text": [
      " 46%|████▌     | 77/168 [00:16<00:22,  4.01it/s]"
     ]
    },
    {
     "name": "stdout",
     "output_type": "stream",
     "text": [
      "bone-penn-476\n",
      "Does this patient have T2 available? True\n",
      "I'm doing the thing.\n",
      "bone-china-159\n",
      "Does this patient have T2 available? True\n",
      "I'm doing the thing.\n",
      "bone-hup-139\n",
      "Does this patient have T2 available? True\n",
      "I'm doing the thing.\n"
     ]
    },
    {
     "name": "stderr",
     "output_type": "stream",
     "text": [
      " 47%|████▋     | 79/168 [00:16<00:17,  5.04it/s]"
     ]
    },
    {
     "name": "stdout",
     "output_type": "stream",
     "text": [
      "bone-hup-307\n",
      "Does this patient have T2 available? True\n",
      "I'm doing the thing.\n",
      "bone-penn-297\n",
      "Does this patient have T2 available? True\n",
      "I'm doing the thing.\n"
     ]
    },
    {
     "name": "stderr",
     "output_type": "stream",
     "text": [
      "\r",
      " 48%|████▊     | 80/168 [00:16<00:16,  5.32it/s]"
     ]
    },
    {
     "name": "stdout",
     "output_type": "stream",
     "text": [
      "bone-china-133\n",
      "Does this patient have T2 available? True\n",
      "I'm doing the thing.\n",
      "bone-penn-132\n",
      "Does this patient have T2 available? True\n",
      "I'm doing the thing.\n"
     ]
    },
    {
     "name": "stderr",
     "output_type": "stream",
     "text": [
      " 49%|████▉     | 83/168 [00:17<00:16,  5.10it/s]"
     ]
    },
    {
     "name": "stdout",
     "output_type": "stream",
     "text": [
      "bone-penn-375\n",
      "Does this patient have T2 available? True\n",
      "I'm doing the thing.\n",
      "bone-penn-391\n",
      "Does this patient have T2 available? True\n",
      "I'm doing the thing.\n"
     ]
    },
    {
     "name": "stderr",
     "output_type": "stream",
     "text": [
      "\r",
      " 50%|█████     | 84/168 [00:17<00:14,  5.91it/s]"
     ]
    },
    {
     "name": "stdout",
     "output_type": "stream",
     "text": [
      "bone-penn-040\n",
      "Does this patient have T2 available? True\n",
      "I'm doing the thing.\n"
     ]
    },
    {
     "name": "stderr",
     "output_type": "stream",
     "text": [
      " 51%|█████     | 86/168 [00:17<00:16,  5.08it/s]"
     ]
    },
    {
     "name": "stdout",
     "output_type": "stream",
     "text": [
      "bone-china-093\n",
      "Does this patient have T2 available? True\n",
      "I'm doing the thing.\n",
      "bone-penn-293\n",
      "Does this patient have T2 available? True\n",
      "I'm doing the thing.\n"
     ]
    },
    {
     "name": "stderr",
     "output_type": "stream",
     "text": [
      "\r",
      " 52%|█████▏    | 87/168 [00:18<00:13,  5.81it/s]"
     ]
    },
    {
     "name": "stdout",
     "output_type": "stream",
     "text": [
      "bone-penn-515\n",
      "Does this patient have T2 available? True\n",
      "I'm doing the thing.\n"
     ]
    },
    {
     "name": "stderr",
     "output_type": "stream",
     "text": [
      " 53%|█████▎    | 89/168 [00:18<00:16,  4.85it/s]"
     ]
    },
    {
     "name": "stdout",
     "output_type": "stream",
     "text": [
      "bone-china-164\n",
      "Does this patient have T2 available? True\n",
      "I'm doing the thing.\n",
      "bone-china-019\n",
      "Does this patient have T2 available? True\n",
      "I'm doing the thing.\n",
      "bone-hup-157\n",
      "Does this patient have T2 available? True\n",
      "I'm doing the thing.\n"
     ]
    },
    {
     "name": "stderr",
     "output_type": "stream",
     "text": [
      " 55%|█████▍    | 92/168 [00:19<00:18,  4.16it/s]"
     ]
    },
    {
     "name": "stdout",
     "output_type": "stream",
     "text": [
      "bone-penn-078\n",
      "Does this patient have T2 available? True\n",
      "I'm doing the thing.\n",
      "bone-china-043\n",
      "Does this patient have T2 available? True\n",
      "I'm doing the thing.\n"
     ]
    },
    {
     "name": "stderr",
     "output_type": "stream",
     "text": [
      "\r",
      " 56%|█████▌    | 94/168 [00:19<00:15,  4.91it/s]"
     ]
    },
    {
     "name": "stdout",
     "output_type": "stream",
     "text": [
      "bone-hup-145\n",
      "Does this patient have T2 available? True\n",
      "I'm doing the thing.\n",
      "bone-penn-579\n",
      "Does this patient have T2 available? True\n",
      "I'm doing the thing.\n"
     ]
    },
    {
     "name": "stderr",
     "output_type": "stream",
     "text": [
      "\r",
      " 57%|█████▋    | 96/168 [00:20<00:12,  5.65it/s]"
     ]
    },
    {
     "name": "stdout",
     "output_type": "stream",
     "text": [
      "bone-hup-308\n",
      "Does this patient have T2 available? True\n",
      "I'm doing the thing.\n",
      "bone-penn-059\n",
      "Does this patient have T2 available? True\n",
      "I'm doing the thing.\n"
     ]
    },
    {
     "name": "stderr",
     "output_type": "stream",
     "text": [
      " 58%|█████▊    | 98/168 [00:20<00:15,  4.38it/s]"
     ]
    },
    {
     "name": "stdout",
     "output_type": "stream",
     "text": [
      "bone-hup-229\n",
      "Does this patient have T2 available? True\n",
      "I'm doing the thing.\n",
      "bone-hup-204\n",
      "Does this patient have T2 available? True\n",
      "I'm doing the thing.\n",
      "bone-penn-044\n",
      "Does this patient have T2 available? True\n",
      "I'm doing the thing.\n"
     ]
    },
    {
     "name": "stderr",
     "output_type": "stream",
     "text": [
      " 60%|██████    | 101/168 [00:21<00:15,  4.40it/s]"
     ]
    },
    {
     "name": "stdout",
     "output_type": "stream",
     "text": [
      "bone-penn-245\n",
      "Does this patient have T2 available? True\n",
      "I'm doing the thing.\n",
      "bone-china-242\n",
      "Does this patient have T2 available? True\n",
      "I'm doing the thing.\n"
     ]
    },
    {
     "name": "stderr",
     "output_type": "stream",
     "text": [
      "\r",
      " 61%|██████    | 102/168 [00:21<00:14,  4.40it/s]"
     ]
    },
    {
     "name": "stdout",
     "output_type": "stream",
     "text": [
      "bone-penn-260\n",
      "Does this patient have T2 available? True\n",
      "I'm doing the thing.\n"
     ]
    },
    {
     "name": "stderr",
     "output_type": "stream",
     "text": [
      " 62%|██████▏   | 104/168 [00:22<00:15,  4.06it/s]"
     ]
    },
    {
     "name": "stdout",
     "output_type": "stream",
     "text": [
      "bone-china-225\n",
      "Does this patient have T2 available? True\n",
      "I'm doing the thing.\n",
      "bone-penn-048\n",
      "Does this patient have T2 available? True\n",
      "I'm doing the thing.\n"
     ]
    },
    {
     "name": "stderr",
     "output_type": "stream",
     "text": [
      "\r",
      " 62%|██████▎   | 105/168 [00:22<00:24,  2.61it/s]"
     ]
    },
    {
     "name": "stdout",
     "output_type": "stream",
     "text": [
      "bone-penn-603\n",
      "Does this patient have T2 available? True\n",
      "I'm doing the thing.\n"
     ]
    },
    {
     "name": "stderr",
     "output_type": "stream",
     "text": [
      " 64%|██████▎   | 107/168 [00:23<00:17,  3.57it/s]"
     ]
    },
    {
     "name": "stdout",
     "output_type": "stream",
     "text": [
      "bone-penn-632\n",
      "Does this patient have T2 available? True\n",
      "I'm doing the thing.\n",
      "bone-hup-203\n",
      "Does this patient have T2 available? True\n",
      "I'm doing the thing.\n"
     ]
    },
    {
     "name": "stderr",
     "output_type": "stream",
     "text": [
      " 65%|██████▌   | 110/168 [00:23<00:10,  5.45it/s]"
     ]
    },
    {
     "name": "stdout",
     "output_type": "stream",
     "text": [
      "bone-china-211\n",
      "Does this patient have T2 available? True\n",
      "I'm doing the thing.\n",
      "bone-penn-379\n",
      "Does this patient have T2 available? True\n",
      "I'm doing the thing.\n",
      "bone-penn-609\n",
      "Does this patient have T2 available? True\n",
      "I'm doing the thing.\n"
     ]
    },
    {
     "name": "stderr",
     "output_type": "stream",
     "text": [
      "\r",
      " 66%|██████▌   | 111/168 [00:24<00:19,  2.95it/s]"
     ]
    },
    {
     "name": "stdout",
     "output_type": "stream",
     "text": [
      "bone-hup-188\n",
      "Does this patient have T2 available? True\n",
      "I'm doing the thing.\n"
     ]
    },
    {
     "name": "stderr",
     "output_type": "stream",
     "text": [
      "\r",
      " 67%|██████▋   | 112/168 [00:24<00:20,  2.70it/s]"
     ]
    },
    {
     "name": "stdout",
     "output_type": "stream",
     "text": [
      "bone-penn-065\n",
      "Does this patient have T2 available? True\n",
      "I'm doing the thing.\n"
     ]
    },
    {
     "name": "stderr",
     "output_type": "stream",
     "text": [
      " 68%|██████▊   | 114/168 [00:25<00:23,  2.27it/s]"
     ]
    },
    {
     "name": "stdout",
     "output_type": "stream",
     "text": [
      "bone-china-226\n",
      "Does this patient have T2 available? True\n",
      "I'm doing the thing.\n",
      "bone-penn-120\n",
      "Does this patient have T2 available? True\n",
      "I'm doing the thing.\n"
     ]
    },
    {
     "name": "stderr",
     "output_type": "stream",
     "text": [
      "\r",
      " 68%|██████▊   | 115/168 [00:26<00:19,  2.73it/s]"
     ]
    },
    {
     "name": "stdout",
     "output_type": "stream",
     "text": [
      "bone-penn-433\n",
      "Does this patient have T2 available? True\n",
      "I'm doing the thing.\n"
     ]
    },
    {
     "name": "stderr",
     "output_type": "stream",
     "text": [
      "\r",
      " 69%|██████▉   | 116/168 [00:26<00:24,  2.12it/s]"
     ]
    },
    {
     "name": "stdout",
     "output_type": "stream",
     "text": [
      "bone-hup-76\n",
      "Does this patient have T2 available? True\n",
      "I'm doing the thing.\n",
      "bone-penn-190\n",
      "Does this patient have T2 available? True\n",
      "I'm doing the thing.\n"
     ]
    },
    {
     "name": "stderr",
     "output_type": "stream",
     "text": [
      " 71%|███████   | 119/168 [00:27<00:15,  3.17it/s]"
     ]
    },
    {
     "name": "stdout",
     "output_type": "stream",
     "text": [
      "bone-penn-197\n",
      "Does this patient have T2 available? True\n",
      "I'm doing the thing.\n",
      "bone-hup-104\n",
      "Does this patient have T2 available? True\n",
      "I'm doing the thing.\n"
     ]
    },
    {
     "name": "stderr",
     "output_type": "stream",
     "text": [
      " 72%|███████▏  | 121/168 [00:27<00:11,  4.09it/s]"
     ]
    },
    {
     "name": "stdout",
     "output_type": "stream",
     "text": [
      "bone-penn-220\n",
      "Does this patient have T2 available? True\n",
      "I'm doing the thing.\n",
      "bone-penn-122\n",
      "Does this patient have T2 available? True\n",
      "I'm doing the thing.\n"
     ]
    },
    {
     "name": "stderr",
     "output_type": "stream",
     "text": [
      "\r",
      " 73%|███████▎  | 122/168 [00:27<00:09,  4.63it/s]"
     ]
    },
    {
     "name": "stdout",
     "output_type": "stream",
     "text": [
      "bone-penn-019\n",
      "Does this patient have T2 available? True\n",
      "I'm doing the thing.\n",
      "bone-hup-219\n",
      "Does this patient have T2 available? True\n",
      "I'm doing the thing.\n"
     ]
    },
    {
     "name": "stderr",
     "output_type": "stream",
     "text": [
      "\r",
      " 74%|███████▍  | 124/168 [00:28<00:08,  5.29it/s]"
     ]
    },
    {
     "name": "stdout",
     "output_type": "stream",
     "text": [
      "bone-hup-108\n",
      "Does this patient have T2 available? True\n",
      "I'm doing the thing.\n",
      "bone-penn-013\n",
      "Does this patient have T2 available? True\n",
      "I'm doing the thing.\n"
     ]
    },
    {
     "name": "stderr",
     "output_type": "stream",
     "text": [
      " 76%|███████▌  | 127/168 [00:28<00:08,  4.79it/s]"
     ]
    },
    {
     "name": "stdout",
     "output_type": "stream",
     "text": [
      "bone-hup-132\n",
      "Does this patient have T2 available? True\n",
      "I'm doing the thing.\n",
      "bone-penn-269\n",
      "Does this patient have T2 available? True\n",
      "I'm doing the thing.\n"
     ]
    },
    {
     "name": "stderr",
     "output_type": "stream",
     "text": [
      "\r",
      " 77%|███████▋  | 129/168 [00:28<00:06,  6.12it/s]"
     ]
    },
    {
     "name": "stdout",
     "output_type": "stream",
     "text": [
      "bone-penn-021\n",
      "Does this patient have T2 available? True\n",
      "I'm doing the thing.\n",
      "bone-penn-035\n",
      "Does this patient have T2 available? True\n",
      "I'm doing the thing.\n",
      "bone-penn-232\n",
      "Does this patient have T2 available? True\n",
      "I'm doing the thing.\n"
     ]
    },
    {
     "name": "stderr",
     "output_type": "stream",
     "text": [
      " 79%|███████▊  | 132/168 [00:29<00:05,  6.76it/s]"
     ]
    },
    {
     "name": "stdout",
     "output_type": "stream",
     "text": [
      "bone-hup-227\n",
      "Does this patient have T2 available? True\n",
      "I'm doing the thing.\n",
      "bone-hup-95\n",
      "Does this patient have T2 available? True\n",
      "I'm doing the thing.\n"
     ]
    },
    {
     "name": "stderr",
     "output_type": "stream",
     "text": [
      "\r",
      " 79%|███████▉  | 133/168 [00:29<00:04,  7.37it/s]"
     ]
    },
    {
     "name": "stdout",
     "output_type": "stream",
     "text": [
      "bone-penn-465\n",
      "Does this patient have T2 available? True\n",
      "I'm doing the thing.\n"
     ]
    },
    {
     "name": "stderr",
     "output_type": "stream",
     "text": [
      " 81%|████████  | 136/168 [00:30<00:06,  5.06it/s]"
     ]
    },
    {
     "name": "stdout",
     "output_type": "stream",
     "text": [
      "bone-china-216\n",
      "Does this patient have T2 available? True\n",
      "I'm doing the thing.\n",
      "bone-penn-605\n",
      "Does this patient have T2 available? True\n",
      "I'm doing the thing.\n",
      "bone-china-217\n",
      "Does this patient have T2 available? True\n",
      "I'm doing the thing.\n"
     ]
    },
    {
     "name": "stderr",
     "output_type": "stream",
     "text": [
      "\r",
      " 82%|████████▏ | 138/168 [00:30<00:05,  5.91it/s]"
     ]
    },
    {
     "name": "stdout",
     "output_type": "stream",
     "text": [
      "bone-penn-200\n",
      "Does this patient have T2 available? True\n",
      "I'm doing the thing.\n",
      "bone-penn-053\n",
      "Does this patient have T2 available? True\n",
      "I'm doing the thing.\n"
     ]
    },
    {
     "name": "stderr",
     "output_type": "stream",
     "text": [
      "\r",
      " 83%|████████▎ | 139/168 [00:30<00:04,  5.99it/s]"
     ]
    },
    {
     "name": "stdout",
     "output_type": "stream",
     "text": [
      "bone-penn-205\n",
      "Does this patient have T2 available? True\n",
      "I'm doing the thing.\n"
     ]
    },
    {
     "name": "stderr",
     "output_type": "stream",
     "text": [
      "\r",
      " 83%|████████▎ | 140/168 [00:32<00:17,  1.63it/s]"
     ]
    },
    {
     "name": "stdout",
     "output_type": "stream",
     "text": [
      "bone-china-179\n",
      "Does this patient have T2 available? True\n",
      "I'm doing the thing.\n",
      "bone-penn-463\n",
      "Does this patient have T2 available? True\n",
      "I'm doing the thing.\n"
     ]
    },
    {
     "name": "stderr",
     "output_type": "stream",
     "text": [
      " 85%|████████▌ | 143/168 [00:32<00:09,  2.72it/s]"
     ]
    },
    {
     "name": "stdout",
     "output_type": "stream",
     "text": [
      "bone-penn-187\n",
      "Does this patient have T2 available? True\n",
      "I'm doing the thing.\n",
      "bone-hup-59\n",
      "Does this patient have T2 available? True\n",
      "I'm doing the thing.\n"
     ]
    },
    {
     "name": "stderr",
     "output_type": "stream",
     "text": [
      " 86%|████████▋ | 145/168 [00:32<00:06,  3.55it/s]"
     ]
    },
    {
     "name": "stdout",
     "output_type": "stream",
     "text": [
      "bone-penn-258\n",
      "Does this patient have T2 available? True\n",
      "I'm doing the thing.\n",
      "bone-penn-648\n",
      "Does this patient have T2 available? True\n",
      "I'm doing the thing.\n"
     ]
    },
    {
     "name": "stderr",
     "output_type": "stream",
     "text": [
      "\r",
      " 88%|████████▊ | 147/168 [00:33<00:04,  4.44it/s]"
     ]
    },
    {
     "name": "stdout",
     "output_type": "stream",
     "text": [
      "bone-china-192\n",
      "Does this patient have T2 available? True\n",
      "I'm doing the thing.\n",
      "bone-hup-216\n",
      "Does this patient have T2 available? True\n",
      "I'm doing the thing.\n"
     ]
    },
    {
     "name": "stderr",
     "output_type": "stream",
     "text": [
      " 89%|████████▊ | 149/168 [00:33<00:03,  4.86it/s]"
     ]
    },
    {
     "name": "stdout",
     "output_type": "stream",
     "text": [
      "bone-penn-181\n",
      "Does this patient have T2 available? True\n",
      "I'm doing the thing.\n",
      "bone-china-213\n",
      "Does this patient have T2 available? True\n",
      "I'm doing the thing.\n"
     ]
    },
    {
     "name": "stderr",
     "output_type": "stream",
     "text": [
      "\r",
      " 89%|████████▉ | 150/168 [00:33<00:03,  5.53it/s]"
     ]
    },
    {
     "name": "stdout",
     "output_type": "stream",
     "text": [
      "bone-hup-78\n",
      "Does this patient have T2 available? True\n",
      "I'm doing the thing.\n"
     ]
    },
    {
     "name": "stderr",
     "output_type": "stream",
     "text": [
      "\r",
      " 90%|████████▉ | 151/168 [00:33<00:03,  5.27it/s]"
     ]
    },
    {
     "name": "stdout",
     "output_type": "stream",
     "text": [
      "bone-hup-156\n",
      "Does this patient have T2 available? True\n",
      "I'm doing the thing.\n"
     ]
    },
    {
     "name": "stderr",
     "output_type": "stream",
     "text": [
      "\r",
      " 90%|█████████ | 152/168 [00:34<00:04,  3.51it/s]"
     ]
    },
    {
     "name": "stdout",
     "output_type": "stream",
     "text": [
      "bone-penn-075\n",
      "Does this patient have T2 available? True\n",
      "I'm doing the thing.\n"
     ]
    },
    {
     "name": "stderr",
     "output_type": "stream",
     "text": [
      "\r",
      " 91%|█████████ | 153/168 [00:34<00:04,  3.27it/s]"
     ]
    },
    {
     "name": "stdout",
     "output_type": "stream",
     "text": [
      "bone-penn-654\n",
      "Does this patient have T2 available? True\n",
      "I'm doing the thing.\n",
      "bone-penn-182\n",
      "Does this patient have T2 available? True\n",
      "I'm doing the thing.\n"
     ]
    },
    {
     "name": "stderr",
     "output_type": "stream",
     "text": [
      " 93%|█████████▎| 156/168 [00:35<00:02,  4.25it/s]"
     ]
    },
    {
     "name": "stdout",
     "output_type": "stream",
     "text": [
      "bone-penn-173\n",
      "Does this patient have T2 available? True\n",
      "I'm doing the thing.\n",
      "bone-penn-207\n",
      "Does this patient have T2 available? True\n",
      "I'm doing the thing.\n"
     ]
    },
    {
     "name": "stderr",
     "output_type": "stream",
     "text": [
      " 94%|█████████▍| 158/168 [00:35<00:02,  4.41it/s]"
     ]
    },
    {
     "name": "stdout",
     "output_type": "stream",
     "text": [
      "bone-hup-181\n",
      "Does this patient have T2 available? True\n",
      "I'm doing the thing.\n",
      "bone-hup-177\n",
      "Does this patient have T2 available? True\n",
      "I'm doing the thing.\n"
     ]
    },
    {
     "name": "stderr",
     "output_type": "stream",
     "text": [
      "\r",
      " 95%|█████████▌| 160/168 [00:35<00:01,  5.00it/s]"
     ]
    },
    {
     "name": "stdout",
     "output_type": "stream",
     "text": [
      "bone-hup-72\n",
      "Does this patient have T2 available? True\n",
      "I'm doing the thing.\n",
      "bone-hup-173\n",
      "Does this patient have T2 available? True\n",
      "I'm doing the thing.\n"
     ]
    },
    {
     "name": "stderr",
     "output_type": "stream",
     "text": [
      "\r",
      " 96%|█████████▌| 161/168 [00:36<00:02,  3.12it/s]"
     ]
    },
    {
     "name": "stdout",
     "output_type": "stream",
     "text": [
      "bone-hup-92\n",
      "Does this patient have T2 available? True\n",
      "I'm doing the thing.\n"
     ]
    },
    {
     "name": "stderr",
     "output_type": "stream",
     "text": [
      "\r",
      " 96%|█████████▋| 162/168 [00:36<00:01,  3.20it/s]"
     ]
    },
    {
     "name": "stdout",
     "output_type": "stream",
     "text": [
      "bone-penn-034\n",
      "Does this patient have T2 available? True\n",
      "I'm doing the thing.\n"
     ]
    },
    {
     "name": "stderr",
     "output_type": "stream",
     "text": [
      "\r",
      " 97%|█████████▋| 163/168 [00:38<00:03,  1.48it/s]"
     ]
    },
    {
     "name": "stdout",
     "output_type": "stream",
     "text": [
      "bone-penn-307\n",
      "Does this patient have T2 available? True\n",
      "I'm doing the thing.\n"
     ]
    },
    {
     "name": "stderr",
     "output_type": "stream",
     "text": [
      " 98%|█████████▊| 165/168 [00:38<00:01,  2.21it/s]"
     ]
    },
    {
     "name": "stdout",
     "output_type": "stream",
     "text": [
      "bone-penn-210\n",
      "Does this patient have T2 available? True\n",
      "I'm doing the thing.\n",
      "bone-penn-305\n",
      "Does this patient have T2 available? True\n",
      "I'm doing the thing.\n"
     ]
    },
    {
     "name": "stderr",
     "output_type": "stream",
     "text": [
      "\r",
      " 99%|█████████▉| 166/168 [00:39<00:00,  2.69it/s]"
     ]
    },
    {
     "name": "stdout",
     "output_type": "stream",
     "text": [
      "bone-penn-218\n",
      "Does this patient have T2 available? True\n",
      "I'm doing the thing.\n"
     ]
    },
    {
     "name": "stderr",
     "output_type": "stream",
     "text": [
      "100%|██████████| 168/168 [00:39<00:00,  4.24it/s]\n",
      "  0%|          | 0/99 [00:00<?, ?it/s]"
     ]
    },
    {
     "name": "stdout",
     "output_type": "stream",
     "text": [
      "bone-china-189\n",
      "Does this patient have T2 available? True\n",
      "I'm doing the thing.\n",
      "bone-hup-137\n",
      "Does this patient have T2 available? True\n",
      "I'm doing the thing.\n"
     ]
    },
    {
     "name": "stderr",
     "output_type": "stream",
     "text": [
      "  2%|▏         | 2/99 [00:00<00:11,  8.09it/s]"
     ]
    },
    {
     "name": "stdout",
     "output_type": "stream",
     "text": [
      "bone-hup-130\n",
      "Does this patient have T2 available? True\n",
      "I'm doing the thing.\n",
      "bone-hup-120\n",
      "Does this patient have T2 available? True\n",
      "I'm doing the thing.\n"
     ]
    },
    {
     "name": "stderr",
     "output_type": "stream",
     "text": [
      "  5%|▌         | 5/99 [00:00<00:12,  7.76it/s]"
     ]
    },
    {
     "name": "stdout",
     "output_type": "stream",
     "text": [
      "bone-hup-143\n",
      "Does this patient have T2 available? True\n",
      "I'm doing the thing.\n",
      "bone-hup-127\n",
      "Does this patient have T2 available? True\n",
      "I'm doing the thing.\n",
      "bone-penn-295\n",
      "Does this patient have T2 available? True\n",
      "I'm doing the thing.\n"
     ]
    },
    {
     "name": "stderr",
     "output_type": "stream",
     "text": [
      "\r",
      "  7%|▋         | 7/99 [00:00<00:10,  8.46it/s]"
     ]
    },
    {
     "name": "stdout",
     "output_type": "stream",
     "text": [
      "bone-penn-594\n",
      "Does this patient have T2 available? True\n",
      "I'm doing the thing.\n",
      "bone-penn-582\n",
      "Does this patient have T2 available? True\n",
      "I'm doing the thing.\n"
     ]
    },
    {
     "name": "stderr",
     "output_type": "stream",
     "text": [
      "\r",
      "  9%|▉         | 9/99 [00:00<00:10,  8.90it/s]"
     ]
    },
    {
     "name": "stdout",
     "output_type": "stream",
     "text": [
      "bone-penn-574\n",
      "Does this patient have T2 available? True\n",
      "I'm doing the thing.\n",
      "bone-penn-125\n",
      "Does this patient have T2 available? True\n",
      "I'm doing the thing.\n"
     ]
    },
    {
     "name": "stderr",
     "output_type": "stream",
     "text": [
      "\r",
      " 10%|█         | 10/99 [00:01<00:12,  7.36it/s]"
     ]
    },
    {
     "name": "stdout",
     "output_type": "stream",
     "text": [
      "bone-penn-407\n",
      "Does this patient have T2 available? True\n",
      "I'm doing the thing.\n"
     ]
    },
    {
     "name": "stderr",
     "output_type": "stream",
     "text": [
      " 12%|█▏        | 12/99 [00:01<00:15,  5.75it/s]"
     ]
    },
    {
     "name": "stdout",
     "output_type": "stream",
     "text": [
      "bone-penn-432\n",
      "Does this patient have T2 available? True\n",
      "I'm doing the thing.\n",
      "bone-penn-117\n",
      "Does this patient have T2 available? True\n",
      "I'm doing the thing.\n"
     ]
    },
    {
     "name": "stderr",
     "output_type": "stream",
     "text": [
      "\r",
      " 13%|█▎        | 13/99 [00:01<00:13,  6.55it/s]"
     ]
    },
    {
     "name": "stdout",
     "output_type": "stream",
     "text": [
      "bone-penn-393\n",
      "Does this patient have T2 available? True\n",
      "I'm doing the thing.\n",
      "bone-penn-389\n",
      "Does this patient have T2 available? True\n",
      "I'm doing the thing.\n"
     ]
    },
    {
     "name": "stderr",
     "output_type": "stream",
     "text": [
      "\r",
      " 15%|█▌        | 15/99 [00:02<00:16,  5.24it/s]"
     ]
    },
    {
     "name": "stdout",
     "output_type": "stream",
     "text": [
      "bone-penn-387\n",
      "Does this patient have T2 available? True\n",
      "I'm doing the thing.\n"
     ]
    },
    {
     "name": "stderr",
     "output_type": "stream",
     "text": [
      "\r",
      " 16%|█▌        | 16/99 [00:02<00:23,  3.55it/s]"
     ]
    },
    {
     "name": "stdout",
     "output_type": "stream",
     "text": [
      "bone-penn-229\n",
      "Does this patient have T2 available? True\n",
      "I'm doing the thing.\n"
     ]
    },
    {
     "name": "stderr",
     "output_type": "stream",
     "text": [
      "\r",
      " 17%|█▋        | 17/99 [00:03<00:25,  3.26it/s]"
     ]
    },
    {
     "name": "stdout",
     "output_type": "stream",
     "text": [
      "bone-hup-174\n",
      "Does this patient have T2 available? True\n",
      "I'm doing the thing.\n"
     ]
    },
    {
     "name": "stderr",
     "output_type": "stream",
     "text": [
      "\r",
      " 18%|█▊        | 18/99 [00:03<00:35,  2.30it/s]"
     ]
    },
    {
     "name": "stdout",
     "output_type": "stream",
     "text": [
      "bone-hup-190\n",
      "Does this patient have T2 available? True\n",
      "I'm doing the thing.\n"
     ]
    },
    {
     "name": "stderr",
     "output_type": "stream",
     "text": [
      "\r",
      " 19%|█▉        | 19/99 [00:04<00:33,  2.37it/s]"
     ]
    },
    {
     "name": "stdout",
     "output_type": "stream",
     "text": [
      "bone-hup-238\n",
      "Does this patient have T2 available? True\n",
      "I'm doing the thing.\n",
      "bone-hup-164\n",
      "Does this patient have T2 available? True\n",
      "I'm doing the thing.\n"
     ]
    },
    {
     "name": "stderr",
     "output_type": "stream",
     "text": [
      " 23%|██▎       | 23/99 [00:04<00:20,  3.79it/s]"
     ]
    },
    {
     "name": "stdout",
     "output_type": "stream",
     "text": [
      "bone-hup-212\n",
      "Does this patient have T2 available? True\n",
      "I'm doing the thing.\n",
      "bone-hup-195\n",
      "Does this patient have T2 available? True\n",
      "I'm doing the thing.\n",
      "bone-hup-236\n",
      "Does this patient have T2 available? True\n",
      "I'm doing the thing.\n"
     ]
    },
    {
     "name": "stderr",
     "output_type": "stream",
     "text": [
      " 26%|██▋       | 26/99 [00:05<00:14,  4.94it/s]"
     ]
    },
    {
     "name": "stdout",
     "output_type": "stream",
     "text": [
      "bone-hup-182\n",
      "Does this patient have T2 available? True\n",
      "I'm doing the thing.\n",
      "bone-penn-290\n",
      "Does this patient have T2 available? True\n",
      "I'm doing the thing.\n",
      "bone-penn-202\n",
      "Does this patient have T2 available? True\n",
      "I'm doing the thing.\n"
     ]
    },
    {
     "name": "stderr",
     "output_type": "stream",
     "text": [
      "\r",
      " 27%|██▋       | 27/99 [00:06<00:33,  2.18it/s]"
     ]
    },
    {
     "name": "stdout",
     "output_type": "stream",
     "text": [
      "bone-penn-184\n",
      "Does this patient have T2 available? True\n",
      "I'm doing the thing.\n",
      "bone-penn-208\n",
      "Does this patient have T2 available? True\n",
      "I'm doing the thing.\n"
     ]
    },
    {
     "name": "stderr",
     "output_type": "stream",
     "text": [
      " 30%|███       | 30/99 [00:06<00:22,  3.08it/s]"
     ]
    },
    {
     "name": "stdout",
     "output_type": "stream",
     "text": [
      "bone-penn-175\n",
      "Does this patient have T2 available? True\n",
      "I'm doing the thing.\n",
      "bone-penn-185\n",
      "Does this patient have T2 available? True\n",
      "I'm doing the thing.\n"
     ]
    },
    {
     "name": "stderr",
     "output_type": "stream",
     "text": [
      "\r",
      " 32%|███▏      | 32/99 [00:06<00:17,  3.87it/s]"
     ]
    },
    {
     "name": "stdout",
     "output_type": "stream",
     "text": [
      "bone-penn-103\n",
      "Does this patient have T2 available? True\n",
      "I'm doing the thing.\n",
      "bone-penn-102\n",
      "Does this patient have T2 available? True\n",
      "I'm doing the thing.\n"
     ]
    },
    {
     "name": "stderr",
     "output_type": "stream",
     "text": [
      " 34%|███▍      | 34/99 [00:07<00:21,  3.05it/s]"
     ]
    },
    {
     "name": "stdout",
     "output_type": "stream",
     "text": [
      "bone-penn-80\n",
      "Does this patient have T2 available? True\n",
      "I'm doing the thing.\n",
      "bone-hup-114\n",
      "Does this patient have T2 available? True\n",
      "I'm doing the thing.\n"
     ]
    },
    {
     "name": "stderr",
     "output_type": "stream",
     "text": [
      "\r",
      " 35%|███▌      | 35/99 [00:08<00:20,  3.06it/s]"
     ]
    },
    {
     "name": "stdout",
     "output_type": "stream",
     "text": [
      "bone-hup-87\n",
      "Does this patient have T2 available? True\n",
      "I'm doing the thing.\n"
     ]
    },
    {
     "name": "stderr",
     "output_type": "stream",
     "text": [
      "\r",
      " 36%|███▋      | 36/99 [00:08<00:21,  2.94it/s]"
     ]
    },
    {
     "name": "stdout",
     "output_type": "stream",
     "text": [
      "bone-hup-99\n",
      "Does this patient have T2 available? True\n",
      "I'm doing the thing.\n"
     ]
    },
    {
     "name": "stderr",
     "output_type": "stream",
     "text": [
      "\r",
      " 37%|███▋      | 37/99 [00:09<00:23,  2.67it/s]"
     ]
    },
    {
     "name": "stdout",
     "output_type": "stream",
     "text": [
      "bone-hup-90\n",
      "Does this patient have T2 available? True\n",
      "I'm doing the thing.\n"
     ]
    },
    {
     "name": "stderr",
     "output_type": "stream",
     "text": [
      " 39%|███▉      | 39/99 [00:09<00:20,  2.97it/s]"
     ]
    },
    {
     "name": "stdout",
     "output_type": "stream",
     "text": [
      "bone-penn-544\n",
      "Does this patient have T2 available? True\n",
      "I'm doing the thing.\n",
      "bone-penn-547"
     ]
    },
    {
     "name": "stderr",
     "output_type": "stream",
     "text": [
      "\r",
      " 40%|████      | 40/99 [00:09<00:16,  3.59it/s]"
     ]
    },
    {
     "name": "stdout",
     "output_type": "stream",
     "text": [
      "\n",
      "Does this patient have T2 available? True\n",
      "I'm doing the thing.\n",
      "bone-penn-135\n",
      "Does this patient have T2 available? True\n",
      "I'm doing the thing.\n"
     ]
    },
    {
     "name": "stderr",
     "output_type": "stream",
     "text": [
      "\r",
      " 41%|████▏     | 41/99 [00:09<00:14,  4.10it/s]"
     ]
    },
    {
     "name": "stdout",
     "output_type": "stream",
     "text": [
      "bone-penn-145\n",
      "Does this patient have T2 available? True\n",
      "I'm doing the thing.\n"
     ]
    },
    {
     "name": "stderr",
     "output_type": "stream",
     "text": [
      " 43%|████▎     | 43/99 [00:10<00:14,  3.78it/s]"
     ]
    },
    {
     "name": "stdout",
     "output_type": "stream",
     "text": [
      "bone-penn-366\n",
      "Does this patient have T2 available? True\n",
      "I'm doing the thing.\n",
      "bone-penn-383\n",
      "Does this patient have T2 available? True\n",
      "I'm doing the thing.\n"
     ]
    },
    {
     "name": "stderr",
     "output_type": "stream",
     "text": [
      " 45%|████▌     | 45/99 [00:11<00:12,  4.17it/s]"
     ]
    },
    {
     "name": "stdout",
     "output_type": "stream",
     "text": [
      "bone-penn-519\n",
      "Does this patient have T2 available? True\n",
      "I'm doing the thing.\n",
      "bone-penn-540\n",
      "Does this patient have T2 available? True\n",
      "I'm doing the thing.\n"
     ]
    },
    {
     "name": "stderr",
     "output_type": "stream",
     "text": [
      "\r",
      " 46%|████▋     | 46/99 [00:11<00:12,  4.26it/s]"
     ]
    },
    {
     "name": "stdout",
     "output_type": "stream",
     "text": [
      "bone-penn-524\n",
      "Does this patient have T2 available? True\n",
      "I'm doing the thing.\n"
     ]
    },
    {
     "name": "stderr",
     "output_type": "stream",
     "text": [
      "\r",
      " 47%|████▋     | 47/99 [00:11<00:12,  4.02it/s]"
     ]
    },
    {
     "name": "stdout",
     "output_type": "stream",
     "text": [
      "bone-penn-539\n",
      "Does this patient have T2 available? True\n",
      "I'm doing the thing.\n"
     ]
    },
    {
     "name": "stderr",
     "output_type": "stream",
     "text": [
      "\r",
      " 48%|████▊     | 48/99 [00:11<00:12,  4.06it/s]"
     ]
    },
    {
     "name": "stdout",
     "output_type": "stream",
     "text": [
      "bone-china-137\n",
      "Does this patient have T2 available? True\n",
      "I'm doing the thing.\n",
      "bone-china-150\n",
      "Does this patient have T2 available? True\n",
      "I'm doing the thing.\n"
     ]
    },
    {
     "name": "stderr",
     "output_type": "stream",
     "text": [
      "\r",
      " 51%|█████     | 50/99 [00:12<00:09,  4.92it/s]"
     ]
    },
    {
     "name": "stdout",
     "output_type": "stream",
     "text": [
      "bone-china-141\n",
      "Does this patient have T2 available? True\n",
      "I'm doing the thing.\n",
      "bone-china-142\n",
      "Does this patient have T2 available? True\n",
      "I'm doing the thing.\n"
     ]
    },
    {
     "name": "stderr",
     "output_type": "stream",
     "text": [
      " 55%|█████▍    | 54/99 [00:12<00:06,  6.45it/s]"
     ]
    },
    {
     "name": "stdout",
     "output_type": "stream",
     "text": [
      "bone-china-156\n",
      "Does this patient have T2 available? True\n",
      "I'm doing the thing.\n",
      "bone-china-157\n",
      "Does this patient have T2 available? True\n",
      "I'm doing the thing.\n",
      "bone-china-094\n",
      "Does this patient have T2 available? True\n",
      "I'm doing the thing.\n"
     ]
    },
    {
     "name": "stderr",
     "output_type": "stream",
     "text": [
      "\r",
      " 57%|█████▋    | 56/99 [00:12<00:05,  7.26it/s]"
     ]
    },
    {
     "name": "stdout",
     "output_type": "stream",
     "text": [
      "bone-china-108\n",
      "Does this patient have T2 available? True\n",
      "I'm doing the thing.\n",
      "bone-china-130\n",
      "Does this patient have T2 available? True\n",
      "I'm doing the thing.\n"
     ]
    },
    {
     "name": "stderr",
     "output_type": "stream",
     "text": [
      " 59%|█████▊    | 58/99 [00:12<00:06,  6.81it/s]"
     ]
    },
    {
     "name": "stdout",
     "output_type": "stream",
     "text": [
      "bone-hup-294\n",
      "Does this patient have T2 available? True\n",
      "I'm doing the thing.\n",
      "bone-hup-318\n",
      "Does this patient have T2 available? True\n",
      "I'm doing the thing.\n"
     ]
    },
    {
     "name": "stderr",
     "output_type": "stream",
     "text": [
      " 61%|██████    | 60/99 [00:13<00:09,  4.19it/s]"
     ]
    },
    {
     "name": "stdout",
     "output_type": "stream",
     "text": [
      "bone-hup-300\n",
      "Does this patient have T2 available? True\n",
      "I'm doing the thing.\n",
      "bone-hup-313\n",
      "Does this patient have T2 available? True\n",
      "I'm doing the thing.\n"
     ]
    },
    {
     "name": "stderr",
     "output_type": "stream",
     "text": [
      "\r",
      " 62%|██████▏   | 61/99 [00:14<00:09,  4.01it/s]"
     ]
    },
    {
     "name": "stdout",
     "output_type": "stream",
     "text": [
      "bone-hup-311\n",
      "Does this patient have T2 available? True\n",
      "I'm doing the thing.\n"
     ]
    },
    {
     "name": "stderr",
     "output_type": "stream",
     "text": [
      " 65%|██████▍   | 64/99 [00:14<00:09,  3.75it/s]"
     ]
    },
    {
     "name": "stdout",
     "output_type": "stream",
     "text": [
      "bone-penn-326\n",
      "Does this patient have T2 available? True\n",
      "I'm doing the thing.\n",
      "bone-china-067\n",
      "Does this patient have T2 available? True\n",
      "I'm doing the thing.\n",
      "bone-china-082\n",
      "Does this patient have T2 available? True\n",
      "I'm doing the thing.\n",
      "bone-china-090\n",
      "Does this patient have T2 available? True\n",
      "I'm doing the thing.\n"
     ]
    },
    {
     "name": "stderr",
     "output_type": "stream",
     "text": [
      " 68%|██████▊   | 67/99 [00:15<00:05,  5.44it/s]"
     ]
    },
    {
     "name": "stdout",
     "output_type": "stream",
     "text": [
      "bone-china-012\n",
      "Does this patient have T2 available? True\n",
      "I'm doing the thing.\n",
      "bone-china-064\n",
      "Does this patient have T2 available? True\n",
      "I'm doing the thing.\n"
     ]
    },
    {
     "name": "stderr",
     "output_type": "stream",
     "text": [
      " 70%|██████▉   | 69/99 [00:15<00:04,  6.37it/s]"
     ]
    },
    {
     "name": "stdout",
     "output_type": "stream",
     "text": [
      "bone-china-063\n",
      "Does this patient have T2 available? True\n",
      "I'm doing the thing.\n",
      "bone-china-007\n",
      "Does this patient have T2 available? True\n",
      "I'm doing the thing.\n",
      "bone-china-018\n",
      "Does this patient have T2 available? True\n",
      "I'm doing the thing.\n"
     ]
    },
    {
     "name": "stderr",
     "output_type": "stream",
     "text": [
      "\r",
      " 72%|███████▏  | 71/99 [00:15<00:03,  7.80it/s]"
     ]
    },
    {
     "name": "stdout",
     "output_type": "stream",
     "text": [
      "bone-china-013\n",
      "Does this patient have T2 available? True\n",
      "I'm doing the thing.\n",
      "bone-hup-50\n",
      "Does this patient have T2 available? True\n",
      "I'm doing the thing.\n"
     ]
    },
    {
     "name": "stderr",
     "output_type": "stream",
     "text": [
      "\r",
      " 74%|███████▎  | 73/99 [00:18<00:15,  1.68it/s]"
     ]
    },
    {
     "name": "stdout",
     "output_type": "stream",
     "text": [
      "bone-penn-638\n",
      "Does this patient have T2 available? True\n",
      "I'm doing the thing.\n"
     ]
    },
    {
     "name": "stderr",
     "output_type": "stream",
     "text": [
      " 76%|███████▌  | 75/99 [00:19<00:10,  2.35it/s]"
     ]
    },
    {
     "name": "stdout",
     "output_type": "stream",
     "text": [
      "bone-penn-649\n",
      "Does this patient have T2 available? True\n",
      "I'm doing the thing.\n",
      "bone-china-206\n",
      "Does this patient have T2 available? True\n",
      "I'm doing the thing.\n"
     ]
    },
    {
     "name": "stderr",
     "output_type": "stream",
     "text": [
      "\r",
      " 78%|███████▊  | 77/99 [00:19<00:07,  3.01it/s]"
     ]
    },
    {
     "name": "stdout",
     "output_type": "stream",
     "text": [
      "bone-china-235\n",
      "Does this patient have T2 available? True\n",
      "I'm doing the thing.\n",
      "bone-china-232\n",
      "Does this patient have T2 available? True\n",
      "I'm doing the thing.\n"
     ]
    },
    {
     "name": "stderr",
     "output_type": "stream",
     "text": [
      " 80%|███████▉  | 79/99 [00:19<00:04,  4.36it/s]"
     ]
    },
    {
     "name": "stdout",
     "output_type": "stream",
     "text": [
      "bone-china-182\n",
      "Does this patient have T2 available? True\n",
      "I'm doing the thing.\n",
      "bone-china-229\n",
      "Does this patient have T2 available? True\n",
      "I'm doing the thing.\n"
     ]
    },
    {
     "name": "stderr",
     "output_type": "stream",
     "text": [
      " 82%|████████▏ | 81/99 [00:20<00:03,  5.14it/s]"
     ]
    },
    {
     "name": "stdout",
     "output_type": "stream",
     "text": [
      "bone-china-208\n",
      "Does this patient have T2 available? True\n",
      "I'm doing the thing.\n",
      "bone-china-181\n",
      "Does this patient have T2 available? True\n",
      "I'm doing the thing.\n"
     ]
    },
    {
     "name": "stderr",
     "output_type": "stream",
     "text": [
      "\r",
      " 84%|████████▍ | 83/99 [00:20<00:02,  6.05it/s]"
     ]
    },
    {
     "name": "stdout",
     "output_type": "stream",
     "text": [
      "bone-china-202\n",
      "Does this patient have T2 available? True\n",
      "I'm doing the thing.\n",
      "bone-china-241\n",
      "Does this patient have T2 available? True\n",
      "I'm doing the thing.\n"
     ]
    },
    {
     "name": "stderr",
     "output_type": "stream",
     "text": [
      "\r",
      " 85%|████████▍ | 84/99 [00:20<00:02,  6.48it/s]"
     ]
    },
    {
     "name": "stdout",
     "output_type": "stream",
     "text": [
      "bone-china-233\n",
      "Does this patient have T2 available? True\n",
      "I'm doing the thing.\n",
      "bone-penn-469\n",
      "Does this patient have T2 available? True\n",
      "I'm doing the thing.\n"
     ]
    },
    {
     "name": "stderr",
     "output_type": "stream",
     "text": [
      " 88%|████████▊ | 87/99 [00:20<00:01,  7.25it/s]"
     ]
    },
    {
     "name": "stdout",
     "output_type": "stream",
     "text": [
      "bone-penn-486\n",
      "Does this patient have T2 available? True\n",
      "I'm doing the thing.\n",
      "bone-penn-505\n",
      "Does this patient have T2 available? True\n",
      "I'm doing the thing.\n"
     ]
    },
    {
     "name": "stderr",
     "output_type": "stream",
     "text": [
      "\r",
      " 89%|████████▉ | 88/99 [00:21<00:02,  4.97it/s]"
     ]
    },
    {
     "name": "stdout",
     "output_type": "stream",
     "text": [
      "bone-penn-513\n",
      "Does this patient have T2 available? True\n",
      "I'm doing the thing.\n"
     ]
    },
    {
     "name": "stderr",
     "output_type": "stream",
     "text": [
      "\r",
      " 90%|████████▉ | 89/99 [00:21<00:02,  4.77it/s]"
     ]
    },
    {
     "name": "stdout",
     "output_type": "stream",
     "text": [
      "bone-penn-499\n",
      "Does this patient have T2 available? True\n",
      "I'm doing the thing.\n"
     ]
    },
    {
     "name": "stderr",
     "output_type": "stream",
     "text": [
      " 92%|█████████▏| 91/99 [00:21<00:01,  4.81it/s]"
     ]
    },
    {
     "name": "stdout",
     "output_type": "stream",
     "text": [
      "bone-penn-470\n",
      "Does this patient have T2 available? True\n",
      "I'm doing the thing.\n",
      "bone-penn-510\n",
      "Does this patient have T2 available? True\n",
      "I'm doing the thing.\n",
      "bone-penn-475\n",
      "Does this patient have T2 available? True\n",
      "I'm doing the thing.\n"
     ]
    },
    {
     "name": "stderr",
     "output_type": "stream",
     "text": [
      "\r",
      " 94%|█████████▍| 93/99 [00:22<00:01,  5.47it/s]"
     ]
    },
    {
     "name": "stdout",
     "output_type": "stream",
     "text": [
      "bone-penn-493\n",
      "Does this patient have T2 available? True\n",
      "I'm doing the thing.\n"
     ]
    },
    {
     "name": "stderr",
     "output_type": "stream",
     "text": [
      " 96%|█████████▌| 95/99 [00:22<00:00,  4.54it/s]"
     ]
    },
    {
     "name": "stdout",
     "output_type": "stream",
     "text": [
      "bone-penn-559\n",
      "Does this patient have T2 available? True\n",
      "I'm doing the thing.\n",
      "bone-penn-569\n",
      "Does this patient have T2 available? True\n",
      "I'm doing the thing.\n"
     ]
    },
    {
     "name": "stderr",
     "output_type": "stream",
     "text": [
      "\r",
      " 97%|█████████▋| 96/99 [00:22<00:00,  5.07it/s]"
     ]
    },
    {
     "name": "stdout",
     "output_type": "stream",
     "text": [
      "bone-penn-554\n",
      "Does this patient have T2 available? True\n",
      "I'm doing the thing.\n"
     ]
    },
    {
     "name": "stderr",
     "output_type": "stream",
     "text": [
      "\r",
      " 98%|█████████▊| 97/99 [00:23<00:00,  4.84it/s]"
     ]
    },
    {
     "name": "stdout",
     "output_type": "stream",
     "text": [
      "bone-penn-566\n",
      "Does this patient have T2 available? True\n",
      "I'm doing the thing.\n",
      "bone-penn-557\n",
      "Does this patient have T2 available? True\n",
      "I'm doing the thing.\n"
     ]
    },
    {
     "name": "stderr",
     "output_type": "stream",
     "text": [
      "100%|██████████| 99/99 [00:23<00:00,  4.22it/s]\n"
     ]
    },
    {
     "name": "stdout",
     "output_type": "stream",
     "text": [
      "622\n",
      "99\n",
      "168\n"
     ]
    }
   ],
   "source": [
    "import uuid\n",
    "result = Result.query.filter(Result.uuid == UUIDS[0]).first()\n",
    "print(result.uuid)\n",
    "print(result.split_seed)\n",
    "train_set, validation_set, test_set = data(seed=uuid.UUID(result.split_seed), label_form=result.label_form, input_form=result.input_form, train_shuffle=False, test_shuffle=False, validation_shuffle=False, train_augment=False, validation_augment=False, test_augment=False)"
   ]
  },
  {
   "cell_type": "code",
   "execution_count": 19,
   "metadata": {
    "scrolled": true
   },
   "outputs": [
    {
     "name": "stdout",
     "output_type": "stream",
     "text": [
      "['bone-hup-137', 'bone-hup-130', 'bone-hup-120', 'bone-hup-143', 'bone-hup-127', 'bone-penn-295', 'bone-penn-594', 'bone-penn-582', 'bone-penn-574', 'bone-penn-125', 'bone-penn-407', 'bone-penn-432', 'bone-penn-117', 'bone-penn-393', 'bone-penn-389', 'bone-penn-387', 'bone-penn-229', 'bone-hup-174', 'bone-hup-190', 'bone-hup-238', 'bone-hup-164', 'bone-hup-212', 'bone-hup-195', 'bone-hup-236', 'bone-hup-182', 'bone-penn-290', 'bone-penn-202', 'bone-penn-184', 'bone-penn-208', 'bone-penn-175', 'bone-penn-185', 'bone-penn-103', 'bone-penn-102', 'bone-penn-80', 'bone-hup-114', 'bone-hup-87', 'bone-hup-99', 'bone-hup-90', 'bone-penn-544', 'bone-penn-547', 'bone-penn-135', 'bone-penn-145', 'bone-penn-366', 'bone-penn-383', 'bone-penn-519', 'bone-penn-540', 'bone-penn-524', 'bone-penn-539', 'bone-china-137', 'bone-china-150', 'bone-china-141', 'bone-china-142', 'bone-china-156', 'bone-china-157', 'bone-china-094', 'bone-china-108', 'bone-china-130', 'bone-hup-294', 'bone-hup-318', 'bone-hup-300', 'bone-hup-313', 'bone-hup-311', 'bone-penn-326', 'bone-china-067', 'bone-china-082', 'bone-china-090', 'bone-china-012', 'bone-china-064', 'bone-china-063', 'bone-china-007', 'bone-china-018', 'bone-china-013', 'bone-hup-50', 'bone-penn-638', 'bone-penn-649', 'bone-china-206', 'bone-china-235', 'bone-china-232', 'bone-china-182', 'bone-china-229', 'bone-china-208', 'bone-china-181', 'bone-china-202', 'bone-china-241', 'bone-china-233', 'bone-penn-469', 'bone-penn-486', 'bone-penn-505', 'bone-penn-513', 'bone-penn-499', 'bone-penn-470', 'bone-penn-510', 'bone-penn-475', 'bone-penn-493', 'bone-penn-559', 'bone-penn-569', 'bone-penn-554', 'bone-penn-566', 'bone-penn-557']\n"
     ]
    }
   ],
   "source": [
    "MODALITIES = [\n",
    "    #\"features\",     \n",
    "    \"t2\",\n",
    "    \"t1\",\n",
    "    \"ensemble\" \n",
    "]\n",
    "\n",
    "MODALITY_KEY = {\n",
    "    #\"features\": \"Clinical\",     \n",
    "    \"t1\": \"T1\", \n",
    "    \"t2\": \"T2\", \n",
    "    #\"t1-sensitive\": \"T1C Sensitive\", \n",
    "    #\"t2-sensitive\": \"T2WI Sensitive\",     \n",
    "    #\"t1-specific\": \"T1C Specific\", \n",
    "    #\"t2-specific\": \"T2WI Specific\",         \n",
    "    \"ensemble\": \"Ensemble\", \n",
    "}\n",
    "\n",
    "def get_pr_data_for_modality(dataset, comparison_models=[]): \n",
    "    results = list()\n",
    "    points = list()\n",
    "    for modality in MODALITIES: \n",
    "        labels = dataset[\"{}-labels\".format(modality)]\n",
    "        probabilities = dataset[\"{}-probabilities\".format(modality)]\n",
    "        predictions = dataset[\"{}-predictions\".format(modality)]\n",
    "        print(modality, len(labels), len(probabilities), len(predictions))\n",
    "        acc = accuracy_score(labels, predictions)\n",
    "        precision, recall, _ = precision_recall_curve(labels, probabilities)\n",
    "        pr_auc = auc(recall, precision)\n",
    "        stats = calculate_confusion_matrix_stats_predictions(labels, predictions)\n",
    "        points.append({\n",
    "            \"modality\": \"{} (auc={:.2f}, acc={:.2f})\".format(MODALITY_KEY[modality], pr_auc, acc),\n",
    "            \"precision\": stats[\"PPV\"][1],\n",
    "            \"recall\": stats[\"TPR\"][1],\n",
    "        })\n",
    "        for p, r in zip(precision, recall): \n",
    "            results.append({ \"precision\": p, \"recall\": r, \"modality\": \"{} (auc={:.2f}, acc={:.2f})\".format(MODALITY_KEY[modality], pr_auc, acc)})\n",
    "    for probabilities in comparison_models: \n",
    "        modality = \"Radiomics\"\n",
    "        labels = dataset[\"t1-labels\"]\n",
    "        predictions = [p > 0.5 for p in probabilities]\n",
    "        print(modality, len(labels), len(probabilities), len(predictions))\n",
    "        precision, recall, _ = precision_recall_curve(labels, probabilities)\n",
    "        pr_auc = auc(recall, precision)\n",
    "        stats = calculate_confusion_matrix_stats_predictions(labels, predictions)\n",
    "        acc = accuracy_score(labels, predictions)\n",
    "        points.append({\n",
    "            \"modality\": \"{} (auc={:.2f}, acc={:.2f})\".format(MODALITY_KEY[modality], pr_auc, acc),\n",
    "            \"precision\": stats[\"PPV\"][1],\n",
    "            \"recall\": stats[\"TPR\"][1],\n",
    "        })\n",
    "        for p, r in zip(precision, recall): \n",
    "            results.append({ \"precision\": p, \"recall\": r, \"modality\": \"{} (auc={:.2f}, acc={:.2f})\".format(MODALITY_KEY[modality], pr_auc, acc)})           \n",
    "    return results, pr_auc, []\n",
    "        \n",
    "def plot_multiple_precision_recall(dataset, experts=[], comparison_models=[]):\n",
    "    results, auc, points = get_pr_data_for_modality(dataset, comparison_models)        \n",
    "    if len(experts) > 0:\n",
    "        for i, expert in enumerate(experts): \n",
    "            labels = dataset[\"t1-labels\"]\n",
    "            predictions = expert\n",
    "            stats = calculate_confusion_matrix_stats_predictions(labels, predictions)\n",
    "            acc = accuracy_score(labels, predictions)\n",
    "            points.append({\n",
    "                \"precision\": stats[\"PPV\"][1],\n",
    "                \"recall\": stats[\"TPR\"][1],                \n",
    "                \"experts\": \"Expert {} (acc={:.2f})\".format(i + 1, acc), \n",
    "            })\n",
    "    fig, ax = plt.subplots()\n",
    "    seaborn.lineplot(\n",
    "        data=pandas.DataFrame(results),\n",
    "        x=\"recall\",\n",
    "        y=\"precision\",\n",
    "        hue=\"modality\",\n",
    "        ax=ax, \n",
    "        err_style=None,\n",
    "    )\n",
    "    if points: \n",
    "        seaborn.scatterplot(\n",
    "            data=pandas.DataFrame(points),\n",
    "            x=\"recall\",\n",
    "            y=\"precision\",\n",
    "            hue=\"experts\",\n",
    "            style=\"experts\",                        \n",
    "            markers=[\"o\", \"v\", \"s\", \"P\"],\n",
    "            palette={ p[\"experts\"]: \"black\" for p in points },            \n",
    "            ax=ax,\n",
    "        )\n",
    "    ax.set_ylim(0.5, 1.04)\n",
    "    ax.set_xlim(-0.04, 1.02)\n",
    "    ax.legend(bbox_to_anchor=(1.05, 1), loc=2, borderaxespad=0.)\n",
    "    return fig\n",
    "\n",
    "def get_roc_data_for_modality(dataset, comparison_models=[]): \n",
    "    results = list()\n",
    "    points = list()\n",
    "    for modality in MODALITIES: \n",
    "        labels = dataset[\"{}-labels\".format(modality)]\n",
    "        probabilities = dataset[\"{}-probabilities\".format(modality)]\n",
    "        predictions = dataset[\"{}-predictions\".format(modality)]\n",
    "        fpr, tpr, _ = roc_curve(labels, probabilities, drop_intermediate=False)\n",
    "        roc_auc = roc_auc_score(labels, probabilities)\n",
    "        stats = calculate_confusion_matrix_stats_predictions(labels, predictions)\n",
    "        acc = accuracy_score(labels, predictions)\n",
    "        points.append({\n",
    "            \"modality\": \"{} (auc={:.2f}, acc={:.2f})\".format(MODALITY_KEY[modality], roc_auc, acc),\n",
    "            \"fpr\": stats[\"FPR\"][1],\n",
    "            \"tpr\": stats[\"TPR\"][1],\n",
    "        })\n",
    "        for f, t in zip(fpr, tpr): \n",
    "            results.append({ \"fpr\": f, \"tpr\": t, \"modality\": \"{} (auc={:.2f}, acc={:.2f})\".format(MODALITY_KEY[modality], roc_auc, acc)})\n",
    "    for probabilities in comparison_models: \n",
    "        modality = \"Radiomics\"\n",
    "        labels = dataset[\"t1-labels\"]\n",
    "        predictions = [p > 0.5 for p in probabilities]\n",
    "        fpr, tpr, _ = roc_curve(labels, probabilities, drop_intermediate=False)\n",
    "        roc_auc = roc_auc_score(labels, probabilities)\n",
    "        stats = calculate_confusion_matrix_stats_predictions(labels, predictions)\n",
    "        acc = accuracy_score(labels, predictions)\n",
    "        points.append({\n",
    "            \"modality\": \"{} (auc={:.2f}, acc={:.2f})\".format(MODALITY_KEY[modality], roc_auc, acc),\n",
    "            \"fpr\": stats[\"FPR\"][1],\n",
    "            \"tpr\": stats[\"TPR\"][1],\n",
    "        })\n",
    "        for f, t in zip(fpr, tpr): \n",
    "            results.append({ \"fpr\": f, \"tpr\": t, \"modality\": \"{} (auc={:.2f}, acc={:.2f})\".format(MODALITY_KEY[modality], roc_auc, acc)})        \n",
    "    return results, roc_auc, []\n",
    "        \n",
    "def plot_multiple_roc_curve(dataset, experts=[], comparison_models=[]):\n",
    "    results, auc, points = get_roc_data_for_modality(dataset, comparison_models)\n",
    "    if len(experts) > 0:\n",
    "        for i, expert in enumerate(experts): \n",
    "            labels = dataset[\"t1-labels\"]\n",
    "            predictions = expert\n",
    "            stats = calculate_confusion_matrix_stats_predictions(labels, predictions)\n",
    "            acc = accuracy_score(labels, predictions)            \n",
    "            points.append({\n",
    "                \"fpr\": stats[\"FPR\"][1],\n",
    "                \"tpr\": stats[\"TPR\"][1],\n",
    "                \"experts\": \"Expert {} (acc={:.2f})\".format(i + 1, acc),                 \n",
    "            })\n",
    "    fig, ax = plt.subplots()\n",
    "    seaborn.lineplot(\n",
    "        data=pandas.DataFrame(results),\n",
    "        x=\"fpr\",\n",
    "        y=\"tpr\",\n",
    "        hue=\"modality\",\n",
    "        ax=ax,\n",
    "        err_style=None,\n",
    "    )\n",
    "    if points:     \n",
    "        seaborn.scatterplot(\n",
    "            data=pandas.DataFrame(points),\n",
    "            x=\"fpr\",\n",
    "            y=\"tpr\",\n",
    "            hue=\"experts\",\n",
    "            style=\"experts\",            \n",
    "            ax=ax,\n",
    "            markers=[\"o\", \"v\", \"s\", \"P\"],\n",
    "            palette={ p[\"experts\"]: \"black\" for p in points },\n",
    "        )\n",
    "    ax.plot([0, 1], [0, 1], linestyle='--')\n",
    "    ax.set_ylim(-0.04, 1.04)\n",
    "    ax.set_xlim(-0.04, 1.02)\n",
    "    ax.legend(bbox_to_anchor=(1.05, 1), loc=2, borderaxespad=0.)\n",
    "    return fig\n",
    "\n",
    "def get_statistics(dataset, experts=[]):#, comparison_models=[]): \n",
    "    results = list()\n",
    "    for modality in MODALITIES: \n",
    "        labels = dataset[\"{}-labels\".format(modality)]\n",
    "        probabilities = dataset[\"{}-probabilities\".format(modality)]\n",
    "        predictions = dataset[\"{}-predictions\".format(modality)]\n",
    "        roc_auc = roc_auc_score(labels, probabilities)\n",
    "        precision, recall, _ = precision_recall_curve(labels, probabilities)\n",
    "        pr_auc = auc(recall, precision)\n",
    "        f1 = f1_score(labels, predictions)\n",
    "        d = {\n",
    "            \"F1 Score\": [f1, f1],            \n",
    "            \"ROC AUC\": [roc_auc, roc_auc], \n",
    "            \"PR AUC\": [pr_auc, pr_auc],\n",
    "            **calculate_confusion_matrix_stats_predictions(labels, predictions), \n",
    "            \"Modality\": [modality.capitalize(), modality.capitalize()], \n",
    "            \"Total\": [len(labels), len(labels)], \n",
    "            \"Malignant\": [len([l for l in labels if l]), len([l for l in labels if l])], \n",
    "            \"Benign\": [len([l for l in labels if not l]), len([l for l in labels if not l])], \n",
    "        } \n",
    "        # remove more that are not relevant to imbalanced datasets\n",
    "        del d[\"TP\"]\n",
    "        del d[\"TN\"]\n",
    "        del d[\"FN\"]\n",
    "        del d[\"FP\"]    \n",
    "        del d[\"AM\"]        \n",
    "        del d[\"GM\"]\n",
    "        del d[\"FPR\"]\n",
    "        del d[\"FNR\"]\n",
    "        d[\"Acc (95% CI)\"] = [\"\", \"{:.2f} ({:.2f}-{:.2f})\".format(d[\"Acc\"][1], *adjusted_wald(d[\"Acc\"][1], len(labels)))]\n",
    "        d[\"TPR (95% CI)\"] = [\"\", \"{:.2f} ({:.2f}-{:.2f})\".format(d[\"TPR\"][1], *adjusted_wald(d[\"TPR\"][1], len([l for l in labels if l])))]\n",
    "        d[\"TNR (95% CI)\"] = [\"\", \"{:.2f} ({:.2f}-{:.2f})\".format(d[\"TNR\"][1], *adjusted_wald(d[\"TNR\"][1], len([l for l in labels if not l])))]\n",
    "        results.append(pandas.DataFrame(d).iloc[[1]])\n",
    "    for i, expert in enumerate(experts): \n",
    "        labels = dataset[\"ensemble-labels\"]\n",
    "        predictions = expert\n",
    "        print(predictions)\n",
    "        f1 = f1_score(labels, predictions)        \n",
    "        d = {\n",
    "            \"F1 Score\": [f1, f1],            \n",
    "            **calculate_confusion_matrix_stats_predictions(labels, predictions),             \n",
    "            \"Modality\": [\"Expert {}\".format(i + 1), \"Expert {}\".format(i + 1)], \n",
    "            \"Total\": [len(labels), len(labels)], \n",
    "            \"Malignant\": [len([l for l in labels if l]), len([l for l in labels if l])], \n",
    "            \"Benign\": [len([l for l in labels if not l]), len([l for l in labels if not l])],             \n",
    "        }\n",
    "        # remove more that are not relevant to imbalanced datasets (remove from article too)\n",
    "        del d[\"TP\"]\n",
    "        del d[\"TN\"]\n",
    "        del d[\"FN\"]\n",
    "        del d[\"FP\"]               \n",
    "        del d[\"AM\"]        \n",
    "        del d[\"GM\"]\n",
    "        del d[\"FPR\"]\n",
    "        del d[\"FNR\"]        \n",
    "        d[\"Acc (95% CI)\"] = [\"\", \"{:.2f} ({:.2f}-{:.2f})\".format(d[\"Acc\"][1], *adjusted_wald(d[\"Acc\"][1], len(labels)))]\n",
    "        d[\"TPR (95% CI)\"] = [\"\", \"{:.2f} ({:.2f}-{:.2f})\".format(d[\"TPR\"][1], *adjusted_wald(d[\"TPR\"][1], len([l for l in labels if l])))]\n",
    "        d[\"TNR (95% CI)\"] = [\"\", \"{:.2f} ({:.2f}-{:.2f})\".format(d[\"TNR\"][1], *adjusted_wald(d[\"TNR\"][1], len([l for l in labels if not l])))]        \n",
    "        results.append(pandas.DataFrame(d).iloc[[1]])\n",
    "    #for probabilities in comparison_models: \n",
    "        #labels = dataset[\"ensemble-labels\"]\n",
    "        #predictions = [p > 0.5 for p in probabilities]\n",
    "        #roc_auc = roc_auc_score(labels, probabilities)\n",
    "        #precision, recall, _ = precision_recall_curve(labels, probabilities)\n",
    "        #pr_auc = auc(recall, precision)\n",
    "        #f1 = f1_score(labels, predictions)\n",
    "        #d = {\n",
    "        #    \"F1 Score\": [f1, f1],            \n",
    "        #    \"ROC AUC\": [roc_auc, roc_auc], \n",
    "        #    \"PR AUC\": [pr_auc, pr_auc],\n",
    "        #    **calculate_confusion_matrix_stats_predictions(labels, predictions), \n",
    "        #    \"Modality\": [\"Radiomics\", \"Radiomics\"], \n",
    "        #    \"Total\": [len(labels), len(labels)], \n",
    "        #    \"Malignant\": [len([l for l in labels if l]), len([l for l in labels if l])], \n",
    "        #    \"Benign\": [len([l for l in labels if not l]), len([l for l in labels if not l])],             \n",
    "        #} \n",
    "        # remove more that are not relevant to imbalanced datasets (remove from article too)\n",
    "        #del d[\"TP\"]\n",
    "        #del d[\"TN\"]\n",
    "        #del d[\"FN\"]\n",
    "        #del d[\"FP\"]         \n",
    "        #del d[\"AM\"]        \n",
    "        #del d[\"GM\"]\n",
    "        #del d[\"FPR\"]\n",
    "        #del d[\"FNR\"]\n",
    "        #d[\"Acc (95% CI)\"] = [\"\", \"{:.2f} ({:.2f}-{:.2f})\".format(d[\"Acc\"][1], *adjusted_wald(d[\"Acc\"][1], len(labels)))]\n",
    "        #d[\"TPR (95% CI)\"] = [\"\", \"{:.2f} ({:.2f}-{:.2f})\".format(d[\"TPR\"][1], *adjusted_wald(d[\"TPR\"][1], len([l for l in labels if l])))]\n",
    "        #d[\"TNR (95% CI)\"] = [\"\", \"{:.2f} ({:.2f}-{:.2f})\".format(d[\"TNR\"][1], *adjusted_wald(d[\"TNR\"][1], len([l for l in labels if not l])))]        \n",
    "        #results.append(pandas.DataFrame(d).iloc[[1]])\n",
    "\n",
    "    return pandas.concat(results, axis=0, sort=False).set_index(\"Modality\")\n",
    "\n",
    "def get_experts_for_names(features, names, experts=[\"expert1\"], transform=int, default=0): \n",
    "    result = list()\n",
    "    for e in experts: \n",
    "        expert_results = list()\n",
    "        for n in names:\n",
    "            f = features.get(n, None)\n",
    "            if f is None: \n",
    "                print(\"error, cannot find {}\".format(n))\n",
    "                expert_results.append(default)\n",
    "                continue\n",
    "            r = f.get(e, default)\n",
    "            if r == \"\": \n",
    "                r = 0\n",
    "            elif r == \"2\":# or r == \"1\": #benign vs. not benign (outcome_neg)\n",
    "                r = 1\n",
    "            else:\n",
    "                r = 0\n",
    "            r = transform(r)\n",
    "            expert_results.append(r)\n",
    "        result.append(expert_results)\n",
    "    return result"
   ]
  },
  {
   "cell_type": "code",
   "execution_count": 40,
   "metadata": {
    "scrolled": false
   },
   "outputs": [
    {
     "name": "stdout",
     "output_type": "stream",
     "text": [
      "\n",
      "##### Train\n",
      "\n",
      "| Modality   |   F1 Score |   ROC AUC |   PR AUC |   PPV |   NPV |     FDR | Acc (95% CI)     | TPR (95% CI)     | TNR (95% CI)     |\n",
      "|:-----------|-----------:|----------:|---------:|------:|------:|--------:|:-----------------|:-----------------|:-----------------|\n",
      "| T2         |      0.984 |      1.00 |     1.00 | 0.971 | 0.997 | 0.0286  | 0.99 (0.97-0.99) | 1.00 (0.98-1.00) | 0.98 (0.95-0.99) |\n",
      "| T1         |      0.996 |      1.00 |     1.00 | 0.993 | 1.00  | 0.00727 | 1.00 (0.99-1.00) | 1.00 (0.98-1.00) | 0.99 (0.98-1.00) |\n",
      "| Ensemble   |      0.998 |      1.00 |     1.00 | 1.00  | 0.997 | 0.00    | 1.00 (0.99-1.00) | 1.00 (0.98-1.00) | 1.00 (0.99-1.00) |\n",
      "\n",
      "##### Validation\n",
      "\n",
      "| Modality   |   F1 Score |   ROC AUC |   PR AUC |   PPV |   NPV |   FDR | Acc (95% CI)     | TPR (95% CI)     | TNR (95% CI)     |\n",
      "|:-----------|-----------:|----------:|---------:|------:|------:|------:|:-----------------|:-----------------|:-----------------|\n",
      "| T2         |      0.671 |     0.750 |    0.695 | 0.589 | 0.781 | 0.411 | 0.67 (0.60-0.74) | 0.78 (0.67-0.86) | 0.59 (0.49-0.69) |\n",
      "| T1         |      0.651 |     0.714 |    0.615 | 0.553 | 0.769 | 0.447 | 0.64 (0.56-0.71) | 0.79 (0.68-0.87) | 0.52 (0.42-0.62) |\n",
      "| Ensemble   |      0.685 |     0.749 |    0.712 | 0.690 | 0.763 | 0.310 | 0.73 (0.66-0.79) | 0.68 (0.57-0.78) | 0.77 (0.68-0.84) |\n",
      "[1, 1, 0, 1, 0, 1, 0, 1, 0, 0, 1, 1, 1, 1, 1, 1, 1, 1, 1, 0, 1, 1, 0, 0, 1, 0, 0, 1, 0, 1, 1, 1, 0, 1, 1, 1, 0, 0, 1, 1, 0, 1, 1, 0, 0, 1, 0, 0, 0, 1, 1, 1, 0, 0, 1, 1, 0, 0, 1, 0, 0, 0, 1, 0, 0, 0, 0, 0, 1, 0, 1, 1, 0, 1, 1, 1, 1, 1, 1, 1, 1, 1, 1, 1, 1, 1, 1, 1, 0, 1, 0, 1, 1, 1, 0, 0, 1, 0, 0]\n",
      "[1, 1, 1, 1, 0, 1, 0, 1, 0, 0, 1, 1, 0, 1, 1, 1, 0, 1, 1, 1, 1, 1, 0, 0, 1, 0, 0, 1, 0, 0, 1, 1, 0, 1, 1, 1, 1, 1, 1, 1, 0, 1, 1, 0, 0, 1, 0, 0, 1, 1, 1, 1, 0, 0, 1, 0, 0, 0, 0, 0, 0, 0, 0, 0, 0, 0, 0, 1, 1, 0, 1, 1, 0, 0, 1, 1, 1, 1, 1, 1, 1, 1, 1, 1, 1, 1, 1, 0, 0, 1, 1, 0, 1, 1, 0, 0, 0, 0, 0]\n",
      "\n",
      "##### Test\n",
      "\n",
      "| Modality   |   F1 Score |   ROC AUC |   PR AUC |   PPV |   NPV |   FDR | Acc (95% CI)     | TPR (95% CI)     | TNR (95% CI)     |\n",
      "|:-----------|-----------:|----------:|---------:|------:|------:|------:|:-----------------|:-----------------|:-----------------|\n",
      "| T2         |       0.68 |      0.73 |     0.63 |  0.62 |  0.75 |  0.38 | 0.68 (0.58-0.76) | 0.76 (0.61-0.86) | 0.61 (0.48-0.73) |\n",
      "| T1         |       0.65 |      0.67 |     0.64 |  0.58 |  0.71 |  0.42 | 0.64 (0.54-0.72) | 0.73 (0.59-0.84) | 0.56 (0.42-0.68) |\n",
      "| Ensemble   |       0.55 |      0.74 |     0.71 |  0.66 |  0.64 |  0.34 | 0.65 (0.55-0.73) | 0.47 (0.33-0.61) | 0.80 (0.67-0.88) |\n",
      "| Expert 1   |       0.67 |    N/A    |   N/A    |  0.59 |  0.75 |  0.41 | 0.66 (0.56-0.74) | 0.78 (0.64-0.88) | 0.56 (0.42-0.68) |\n",
      "| Expert 2   |       0.71 |    N/A    |   N/A    |  0.64 |  0.79 |  0.36 | 0.71 (0.61-0.79) | 0.80 (0.66-0.89) | 0.63 (0.50-0.75) |\n"
     ]
    }
   ],
   "source": [
    "expert_features = all_features(files = [\"experts.csv\"])\n",
    "#for n in test_set.names:\n",
    "    #print(n)\n",
    "#comparison_model_features = all_features(files=[\"features/comparison-models.csv\"])\n",
    "df = get_statistics(train)#, get_experts_for_names(expert_features, train_set.names))#, get_experts_for_names(comparison_model_features, train_set.names, experts=[\"radiomics\"], transform=float))\n",
    "df = df.drop(['Acc', \"TPR\", \"TNR\", \"Total\", \"Malignant\", \"Benign\"], axis=1)\n",
    "print()\n",
    "print(\"##### Train\")\n",
    "print()\n",
    "print(tabulate(df, tablefmt=\"pipe\", headers=\"keys\", floatfmt=\"#.3g\").replace(\"nan\", \"N/A\").replace(\"Features\", \"Clinical\"))\n",
    "df = get_statistics(validation)#, get_experts_for_names(expert_features, validation_set.names))#, get_experts_for_names(comparison_model_features, validation_set.names, experts=[\"radiomics\"], transform=float))\n",
    "df = df.drop(['Acc', \"TPR\", \"TNR\", \"Total\", \"Malignant\", \"Benign\"], axis=1)\n",
    "print()\n",
    "print(\"##### Validation\")\n",
    "print()\n",
    "print(tabulate(df, tablefmt=\"pipe\", headers=\"keys\", floatfmt=\"#.3g\").replace(\"nan\", \"N/A\").replace(\"Features\", \"Clinical\"))\n",
    "df = get_statistics((test), get_experts_for_names(expert_features, test_set.names, experts=[\"expert1\", \"expert2\"]))#, get_experts_for_names(comparison_model_features, test_set.names, experts=[\"radiomics\"], transform=float))\n",
    "test_statistics = df\n",
    "df = df.drop(['Acc', \"TPR\", \"TNR\", \"Total\", \"Malignant\", \"Benign\"], axis=1)\n",
    "print()\n",
    "print(\"##### Test\")\n",
    "print()\n",
    "print(tabulate(df, tablefmt=\"pipe\", headers=\"keys\", floatfmt=\"#.2g\").replace(\"nan\", \"N/A\").replace(\"Features\", \"Clinical\"))\n",
    "#df = get_statistics(test_1, get_experts_for_names(expert_features, test_set.names, experts=[\"expert1\", \"expert2\", \"expert3\", \"expert4\"]), get_experts_for_names(comparison_model_features, test_set.names, experts=[\"radiomics\"], transform=float))\n",
    "#test_1_statistics = df\n",
    "#df = df.drop(['Acc', \"TPR\", \"TNR\", \"Total\", \"Malignant\", \"Benign\"], axis=1)\n",
    "#print()\n",
    "#print(\"##### Test 1\")\n",
    "#print()\n",
    "#print(tabulate(df, tablefmt=\"pipe\", headers=\"keys\", floatfmt=\"#.2g\").replace(\"nan\", \"N/A\").replace(\"Features\", \"Clinical\"))\n",
    "#df = get_statistics(test_2, get_experts_for_names(expert_features, test_set.names, experts=[\"expert1\", \"expert2\", \"expert3\", \"expert4\"]), get_experts_for_names(comparison_model_features, test_set.names, experts=[\"radiomics\"], transform=float))\n",
    "#test_2_statistics = df\n",
    "#df = df.drop(['Acc', \"TPR\", \"TNR\", \"Total\", \"Malignant\", \"Benign\"], axis=1)\n",
    "#print()\n",
    "#print(\"##### Test 2\")\n",
    "#print()\n",
    "#print(tabulate(df, tablefmt=\"pipe\", headers=\"keys\", floatfmt=\"#.2g\").replace(\"nan\", \"N/A\").replace(\"Features\", \"Clinical\"))\n"
   ]
  },
  {
   "cell_type": "code",
   "execution_count": 28,
   "metadata": {},
   "outputs": [],
   "source": [
    "cross_validation_statistics = {\n",
    " 'F1 Score': 0.88,\n",
    " 'ROC AUC': 0.6243243243243244,\n",
    " 'PR AUC': 0.90,\n",
    " 'Acc': 0.80,\n",
    " 'TPR': 0.96,\n",
    " 'TNR': 0.22,\n",
    " 'PPV': 0.896551724137931,\n",
    " 'NPV': 0.3888888888888889,\n",
    " 'FDR': 0.10344827586206896,\n",
    " 'Total': 47,\n",
    " 'Malignant': 37,\n",
    " 'Benign': 10,\n",
    " 'Acc (95% CI)': '0.70 (0.56-0.81)',\n",
    " 'TPR (95% CI)': '0.70 (0.54-0.83)',\n",
    " 'TNR (95% CI)': '0.70 (0.39-0.90)'\n",
    "}"
   ]
  },
  {
   "cell_type": "code",
   "execution_count": 29,
   "metadata": {},
   "outputs": [
    {
     "ename": "NameError",
     "evalue": "name 'test_1_statistics' is not defined",
     "output_type": "error",
     "traceback": [
      "\u001b[0;31m---------------------------------------------------------------------------\u001b[0m",
      "\u001b[0;31mNameError\u001b[0m                                 Traceback (most recent call last)",
      "\u001b[0;32m<ipython-input-29-de514bd6d83b>\u001b[0m in \u001b[0;36m<module>\u001b[0;34m\u001b[0m\n\u001b[1;32m     69\u001b[0m     \u001b[0mt2_statistics\u001b[0m\u001b[0;34m=\u001b[0m\u001b[0mformat_AUC_statistics\u001b[0m\u001b[0;34m(\u001b[0m\u001b[0mdict\u001b[0m\u001b[0;34m(\u001b[0m\u001b[0mtest_statistics\u001b[0m\u001b[0;34m.\u001b[0m\u001b[0mloc\u001b[0m\u001b[0;34m[\u001b[0m\u001b[0;34m\"T2\"\u001b[0m\u001b[0;34m]\u001b[0m\u001b[0;34m)\u001b[0m\u001b[0;34m)\u001b[0m\u001b[0;34m,\u001b[0m\u001b[0;34m\u001b[0m\u001b[0m\n\u001b[1;32m     70\u001b[0m     \u001b[0mensemble_statistics\u001b[0m\u001b[0;34m=\u001b[0m\u001b[0mformat_AUC_statistics\u001b[0m\u001b[0;34m(\u001b[0m\u001b[0mdict\u001b[0m\u001b[0;34m(\u001b[0m\u001b[0mtest_statistics\u001b[0m\u001b[0;34m.\u001b[0m\u001b[0mloc\u001b[0m\u001b[0;34m[\u001b[0m\u001b[0;34m\"Ensemble\"\u001b[0m\u001b[0;34m]\u001b[0m\u001b[0;34m)\u001b[0m\u001b[0;34m)\u001b[0m\u001b[0;34m,\u001b[0m\u001b[0;34m\u001b[0m\u001b[0m\n\u001b[0;32m---> 71\u001b[0;31m     \u001b[0mensemble_1_statistics\u001b[0m\u001b[0;34m=\u001b[0m\u001b[0mformat_AUC_statistics\u001b[0m\u001b[0;34m(\u001b[0m\u001b[0mdict\u001b[0m\u001b[0;34m(\u001b[0m\u001b[0mtest_1_statistics\u001b[0m\u001b[0;34m.\u001b[0m\u001b[0mloc\u001b[0m\u001b[0;34m[\u001b[0m\u001b[0;34m\"Ensemble\"\u001b[0m\u001b[0;34m]\u001b[0m\u001b[0;34m)\u001b[0m\u001b[0;34m)\u001b[0m\u001b[0;34m,\u001b[0m\u001b[0;34m\u001b[0m\u001b[0m\n\u001b[0m\u001b[1;32m     72\u001b[0m     \u001b[0mensemble_2_statistics\u001b[0m\u001b[0;34m=\u001b[0m\u001b[0mformat_AUC_statistics\u001b[0m\u001b[0;34m(\u001b[0m\u001b[0mdict\u001b[0m\u001b[0;34m(\u001b[0m\u001b[0mtest_2_statistics\u001b[0m\u001b[0;34m.\u001b[0m\u001b[0mloc\u001b[0m\u001b[0;34m[\u001b[0m\u001b[0;34m\"Ensemble\"\u001b[0m\u001b[0;34m]\u001b[0m\u001b[0;34m)\u001b[0m\u001b[0;34m)\u001b[0m\u001b[0;34m,\u001b[0m\u001b[0;34m\u001b[0m\u001b[0m\n\u001b[1;32m     73\u001b[0m     \u001b[0mcross_validation_statistics\u001b[0m\u001b[0;34m=\u001b[0m\u001b[0mformat_AUC_statistics\u001b[0m\u001b[0;34m(\u001b[0m\u001b[0mcross_validation_statistics\u001b[0m\u001b[0;34m)\u001b[0m\u001b[0;34m,\u001b[0m\u001b[0;34m\u001b[0m\u001b[0m\n",
      "\u001b[0;31mNameError\u001b[0m: name 'test_1_statistics' is not defined"
     ]
    }
   ],
   "source": [
    "CI_text = \"\"\"{value:.2g} (95% CI: {low:.2g}-{high:.2g})\"\"\"\n",
    "\n",
    "statistics_text = \"\"\"test accuracy of {accuracy}, F1 score of {f1:.2g}, and sensitivity of {sensitivity}, and specificity of {specificity}\"\"\"\n",
    "def format_statistics(data):\n",
    "    acc_low, acc_high = adjusted_wald(data[\"Acc\"], data[\"Total\"])\n",
    "    tpr_low, tpr_high = adjusted_wald(data[\"TPR\"], data[\"Malignant\"])\n",
    "    tnr_low, tnr_high = adjusted_wald(data[\"TNR\"], data[\"Benign\"])\n",
    "    data_dict = {\n",
    "        \"accuracy\": CI_text.format(value=data[\"Acc\"], low=acc_low, high=acc_high),\n",
    "        \"sensitivity\": CI_text.format(value=data[\"TPR\"], low=tpr_low, high=tpr_high),\n",
    "        \"specificity\": CI_text.format(value=data[\"TNR\"], low=tnr_low, high=tnr_high),\n",
    "        \"f1\": data[\"F1 Score\"],\n",
    "    }\n",
    "    return statistics_text.format(**data_dict)\n",
    "\n",
    "statistics_AUC_text = \"\"\"test accuracy of {accuracy}, F1 score of {f1:.2g}, precision recall AUC of {PR_AUC:.2g}, sensitivity of {sensitivity}, and specificity of {specificity}\"\"\"\n",
    "def format_AUC_statistics(data):\n",
    "    acc_low, acc_high = adjusted_wald(data[\"Acc\"], data[\"Total\"])\n",
    "    tpr_low, tpr_high = adjusted_wald(data[\"TPR\"], data[\"Malignant\"])\n",
    "    tnr_low, tnr_high = adjusted_wald(data[\"TNR\"], data[\"Benign\"])\n",
    "    data_dict = {\n",
    "        \"accuracy\": CI_text.format(value=data[\"Acc\"], low=acc_low, high=acc_high),\n",
    "        \"sensitivity\": CI_text.format(value=data[\"TPR\"], low=tpr_low, high=tpr_high),\n",
    "        \"specificity\": CI_text.format(value=data[\"TNR\"], low=tnr_low, high=tnr_high),\n",
    "        \"f1\": data[\"F1 Score\"],\n",
    "        \"PR_AUC\": data[\"PR AUC\"],\n",
    "    }\n",
    "    return statistics_AUC_text.format(**data_dict)\n",
    "\n",
    "comparison_text =\"\"\"{accuracy_judge} test accuracy ({accuracy_1:.2g} vs. {accuracy_2:.2g}, p={accuracy_p:.2g}), {sensitivity_judge} test sensitivity ({sensitivity_1:.2g} vs. {sensitivity_2:.2g}, p={sensitivity_p:.2g}) and {specificity_judge} test specificity ({specificity_1:.2g} vs. {specificity_2:.2g}, p={specificity_p:.2g})\"\"\"\n",
    "def format_comparison_text(data_1, data_2):\n",
    "    data_dict = {\n",
    "        \"accuracy_judge\": \"higher\" if data_1[\"Acc\"] > data_2[\"Acc\"] else \"lower\",\n",
    "        \"sensitivity_judge\": \"higher\" if data_1[\"TPR\"] > data_2[\"TPR\"] else \"lower\",\n",
    "        \"specificity_judge\": \"higher\" if data_1[\"TNR\"] > data_2[\"TNR\"] else \"lower\",\n",
    "        \"accuracy_1\": data_1[\"Acc\"],\n",
    "        \"specificity_1\": data_1[\"TNR\"],\n",
    "        \"sensitivity_1\": data_1[\"TPR\"],\n",
    "        \"accuracy_2\": data_2[\"Acc\"],\n",
    "        \"specificity_2\": data_2[\"TNR\"],\n",
    "        \"sensitivity_2\": data_2[\"TPR\"],\n",
    "        \"accuracy_p\": binom_test(int(data_1[\"Acc\"] * data_1[\"Total\"]), data_1[\"Total\"], data_2[\"Acc\"]),\n",
    "        \"specificity_p\": binom_test(int(data_1[\"TNR\"] * data_1[\"Benign\"]), data_1[\"Benign\"], data_2[\"TNR\"]),\n",
    "        \"sensitivity_p\": binom_test(int(data_1[\"TPR\"] * data_1[\"Malignant\"]), data_1[\"Malignant\"], data_2[\"TPR\"]),\n",
    "    }\n",
    "    return comparison_text.format(**data_dict)\n",
    "\n",
    "results_text = \"\"\"\n",
    "## Model performance\n",
    "The train, validation and test sets were balanced in terms of age, gender, tumor size, tumor laterality, tumor location, histologic diagnosis, and institution (Supplemental table S1).\n",
    "\n",
    "Performance characteristics of the clinical variable logistic regression, models trained on T1C and T2WI images, and the final ensemble model in test set are summarized in Table 2. Performance characteristics in training and validation sets are summarized in Supplemental table S2. The clinical variable logistic regression achieved a {logistic_regression_statistics}.\n",
    "\n",
    "The T1C trained model achieved a {t1_statistics}. The T2WI trained model achieved a {t2_statistics}. The ensemble model achieved a {ensemble_statistics}. The ensemble model achieved comparative performance on the second set of test set segmentations with a {ensemble_1_statistics} and the third set of test set segmentation with a {ensemble_2_statistics} (Supplemental table S3). On average, cross validation analysis of the ensemble model demonstrated a {cross_validation_statistics}. Supplemental table S4 summarizes the cross-validation performance of the ensemble model.\n",
    "\n",
    "In comparison, expert 1 achieved a {expert_1_statistics}; expert 2 had a {expert_2_statistics}; expert 3 had a {expert_3_statistics}; expert 4 had a {expert_4_statistics}. Radiomics model achieved a {radiomics_statistics} (Supplemental table S5).\n",
    "\n",
    "CONFIRM THE BELOW PARAGRAPH IS STILL TRUE\n",
    "\n",
    "Compared to all experts averaged, the ensemble deep learning model had {ensemble_vs_experts}, COMMENT although none of these statistics was significantly different. Compared to the radiomics model, the ensemble deep learning model had {ensemble_vs_radiomics}; COMMENT difference in accuracy was not significant but differences in sensitivity and specificity between radiomics and ensemble deep learning models were significant. Compared to all experts averaged, the radiomics model had {radiomics_vs_experts}; COMMENT difference in accuracy was not significant, but differences in sensitivity and specificity between radiomics and averaged expert performance metrics were significant. Figure 2 shows the precision recall curves of all models overlaid with expert performance.\n",
    "\n",
    "Grad-Cam focus maps demonstrate that for the correctly classified images by our model, the algorithm was more likely to focus on the lesion or part of the lesion deemed important by the radiologists, while focus was more likely to be on the surrounding tissue for the incorrectly classified lesions (Figure 3). t-SNE representation of the final dense layer of ResNet demonstrates good separation of malignant and benign lesions by the model when compared to histopathological diagnosis (Figure 4).\n",
    "\n",
    "\"\"\"\n",
    "\n",
    "print(results_text.format(\n",
    "    logistic_regression_statistics=format_AUC_statistics(dict(test_statistics.loc[\"Features\"])),\n",
    "    t1_statistics=format_AUC_statistics(dict(test_statistics.loc[\"T1\"])),\n",
    "    t2_statistics=format_AUC_statistics(dict(test_statistics.loc[\"T2\"])),\n",
    "    ensemble_statistics=format_AUC_statistics(dict(test_statistics.loc[\"Ensemble\"])),\n",
    "    ensemble_1_statistics=format_AUC_statistics(dict(test_1_statistics.loc[\"Ensemble\"])),\n",
    "    ensemble_2_statistics=format_AUC_statistics(dict(test_2_statistics.loc[\"Ensemble\"])),\n",
    "    cross_validation_statistics=format_AUC_statistics(cross_validation_statistics),\n",
    "    expert_1_statistics=format_statistics(dict(test_statistics.loc[\"Expert 1\"])),\n",
    "    expert_2_statistics=format_statistics(dict(test_statistics.loc[\"Expert 2\"])),\n",
    "    expert_3_statistics=format_statistics(dict(test_statistics.loc[\"Expert 3\"])),\n",
    "    expert_4_statistics=format_statistics(dict(test_statistics.loc[\"Expert 4\"])),\n",
    "    radiomics_statistics=format_statistics(dict(test_statistics.loc[\"Radiomics\"])),\n",
    "    ensemble_vs_experts=format_comparison_text(dict(test_statistics.loc[\"Ensemble\"]), dict(test_statistics.loc[[\"Expert 1\", \"Expert 2\", \"Expert 3\", \"Expert 4\"]].mean())),\n",
    "    ensemble_vs_radiomics=format_comparison_text(dict(test_statistics.loc[\"Ensemble\"]), dict(test_statistics.loc[\"Radiomics\"])),\n",
    "    radiomics_vs_experts=format_comparison_text(dict(test_statistics.loc[\"Radiomics\"]), dict(test_statistics.loc[[\"Expert 1\", \"Expert 2\", \"Expert 3\", \"Expert 4\"]].mean())),\n",
    "))"
   ]
  },
  {
   "cell_type": "code",
   "execution_count": null,
   "metadata": {},
   "outputs": [],
   "source": [
    "results_text = \"\"\"\n",
    "## Inter-segmenter agreement\n",
    "\n",
    "The average DSC among our three segmenters was {dice_average}. Segmenter 1 and 2 had an average DSC of {dice_1_2}. Segmenter 2 and 3 had an average DSC of {dice_2_3}. Segmenter 1 and 3 had an average DSC of {dice_1_3}. Benign lesions had an average DSC of {dice_benign} across all reviewers, while malignant lesions had an average DSC of {dice_malignant} across all reviewers. \n",
    "\n",
    "## Model performance\n",
    "The train, validation and test sets were balanced in terms of age, gender, tumor size, tumor laterality, tumor location, histologic diagnosis, and institution (Supplemental table S1). \n",
    "\n",
    "Performance characteristics of the clinical variable logistic regression, models trained on T1C and T2WI images, and the final ensemble model in test set are summarized in Table 2. Performance characteristics in training and validation sets are summarized in Supplemental table S2. The clinical variable logistic regression achieved a test accuracy of {regression_accuracy}, F1 score of {regression_F1}, precision recall AUC of {regression_PR_AUC}, sensitivity of {regression_sensitivity}, and specificity of {regression_specificity}. \n",
    "\n",
    "The T1C trained model achieved a test accuracy of {t1c_accuracy}, F1 score of {t1c_f1}, precision recall AUC of {t1c_PR_AUC}, sensitivity of 0.92 (95% CI: 0.78-0.98), and specificity of 0.50 (95% CI: 0.24-0.76). The T2WI trained model achieved a test accuracy of 0.83 (95% CI: 0.70-0.91), F1 score of 0.90, precision recall AUC of 0.92, sensitivity of 0.97 (95% CI: 0.84-1.00), and specificity of 0.30 (95% CI: 0.10-0.61). The ensemble model achieved a test accuracy of 0.89 (95% CI: 0.77-0.96), F1 score of 0.94, precision recall AUC of 0.90, sensitivity of 1.0 (95% CI: 0.88-1.00), and specificity of 0.50 (95% CI: 0.24-0.76). The ensemble model achieved comparative performance on the second set of test set segmentations with an accuracy of 0.81 (95% CI: 0.67-0.90), F1 score of 0.89, precision recall AUC of 0.89, sensitivity of 0.97 (95% CI: 0.84-1.00), and specificity of 0.20 (95% CI: 0.05-0.52) and the third set of test set segmentation with an accuracy of 0.81 (95% CI: 0.67-0.90), F1 score of 0.89, precision recall AUC of 0.83, sensitivity of 1.0 (95% CI: 0.88-1.00), and specificity of 0.10 (95% CI: 0.00-0.42) (Supplemental table S3). The average cross validation test accuracy was 0.80 (95% CI: 0.66-0.89) with average F1 score of 0.88, precision recall AUC of 0.90, sensitivity of 0.96 (95% CI: 0.83-1.00), and specificity of 0.22 (95% CI: 0.06-0.54). Supplemental table S4 summarizes the cross-validation performance of the ensemble model.\n",
    "\n",
    "In comparison, expert 1 achieved a test accuracy of 0.85 (95% CI: 0.72-0.92), F1 score of 0.91, and sensitivity of 1.0 (95% CI: 0.88-1.00), and specificity of 0.30 (95% CI: 0.10-0.61); expert 2 had a test accuracy of 0.79 (95% CI: 0.65-0.88), F1 score of 0.88, and sensitivity of 0.95 (95% CI: 0.82-1.00), and specificity of 0.20 (95% CI: 0.05-0.52); expert 3 had a test accuracy of 0.74 (95% CI: 0.60-0.84), F1 score of 0.73, sensitivity of 0.81 (95% CI: 0.65-0.90), and specificity of 0.50 (95% CI: 0.24-0.76); expert 4 had a test accuracy of 0.85 (95% CI: 0.72-0.93), F1 score of 0.91, and sensitivity of 0.92 (95% CI: 0.78 -0.98), and specificity of 0.60 (95% CI: 0.31-0.83). Radiomics model achieved a test accuracy of 0.78 (95% CI: 0.64-0.88), F1 score of 0.84, sensitivity of 0.76 (95% CI: 0.60-0.87), and specificity of 0.80 (95% CI: 0.47-0.95) (Supplemental table S5).\n",
    "\n",
    "Compared to all experts averaged, the ensemble deep learning model had higher test accuracy (0.89 vs. 0.81, p=0.32), higher test sensitivity (1.00 vs. 0.92, p=0.07) and higher test specificity (0.50 vs. 0.40, p=0.53), although none of these statistics was significantly different. Compared to the radiomics model, the ensemble deep learning model had higher test accuracy (0.89 vs. 0.77, p=0.12), higher test sensitivity (1.00 vs. 0.76, p<0.01) and lower test specificity (0.50 vs. 0.80, p=0.03); difference in accuracy was not significant but differences in sensitivity and specificity between radiomics and ensemble deep learning models were significant. Compared to all experts averaged, the radiomics model had lower test accuracy (0.77 vs. 0.81, p=0.61), lower test sensitivity (0.76 vs. 0.92, p=0.0021) and higher test specificity (0.80 vs. 0.40, p<0.01); difference in accuracy was not significant, but differences in sensitivity and specificity between radiomics and averaged expert performance metrics were significant. Figure 2 shows the precision recall curves of all models overlaid with expert performance. \n",
    "\n",
    "Grad-Cam focus maps demonstrate that for the correctly classified images by our model, the algorithm was more likely to focus on the lesion or part of the lesion deemed important by the radiologists, while focus was more likely to be on the surrounding tissue for the incorrectly classified lesions (Figure 3). t-SNE representation of the final dense layer of ResNet demonstrates good separation of malignant and benign lesions by the model when compared to histopathological diagnosis (Figure 4).\n",
    "\n",
    "\"\"\""
   ]
  },
  {
   "cell_type": "code",
   "execution_count": null,
   "metadata": {
    "scrolled": true
   },
   "outputs": [],
   "source": [
    "train"
   ]
  },
  {
   "cell_type": "code",
   "execution_count": 205,
   "metadata": {
    "scrolled": true
   },
   "outputs": [
    {
     "name": "stdout",
     "output_type": "stream",
     "text": [
      "bone-hup-137\n",
      "bone-hup-130\n",
      "bone-hup-120\n",
      "bone-hup-143\n",
      "bone-hup-127\n",
      "bone-penn-295\n",
      "bone-penn-594\n",
      "bone-penn-582\n",
      "bone-penn-574\n",
      "bone-penn-125\n",
      "bone-penn-407\n",
      "bone-penn-432\n",
      "bone-penn-117\n",
      "bone-penn-393\n",
      "bone-penn-389\n",
      "bone-penn-387\n",
      "bone-penn-229\n",
      "bone-penn-233\n",
      "bone-hup-174\n",
      "bone-hup-190\n",
      "bone-hup-238\n",
      "bone-hup-164\n",
      "bone-hup-212\n",
      "bone-hup-195\n",
      "bone-hup-236\n",
      "bone-hup-182\n",
      "bone-penn-290\n",
      "bone-penn-202\n",
      "bone-penn-184\n",
      "bone-penn-208\n",
      "bone-penn-175\n",
      "bone-penn-185\n",
      "bone-penn-103\n",
      "bone-penn-102\n",
      "bone-penn-80\n",
      "bone-hup-114\n",
      "bone-hup-87\n",
      "bone-hup-99\n",
      "bone-hup-90\n",
      "bone-penn-544\n",
      "bone-penn-547\n",
      "bone-penn-135\n",
      "bone-penn-145\n",
      "bone-penn-366\n",
      "bone-penn-383\n",
      "bone-penn-519\n",
      "bone-penn-540\n",
      "bone-penn-524\n",
      "bone-penn-539\n",
      "bone-china-137\n",
      "bone-china-150\n",
      "bone-china-141\n",
      "bone-china-142\n",
      "bone-china-156\n",
      "bone-china-157\n",
      "bone-china-094\n",
      "bone-china-108\n",
      "bone-china-130\n",
      "bone-hup-294\n",
      "bone-hup-318\n",
      "bone-hup-300\n",
      "bone-hup-313\n",
      "bone-hup-311\n",
      "bone-penn-326\n",
      "bone-china-067\n",
      "bone-china-082\n",
      "bone-china-090\n",
      "bone-china-012\n",
      "bone-china-064\n",
      "bone-china-063\n",
      "bone-china-007\n",
      "bone-china-018\n",
      "bone-china-013\n",
      "bone-hup-50\n",
      "bone-penn-638\n",
      "bone-penn-649\n",
      "bone-china-206\n",
      "bone-china-235\n",
      "bone-china-232\n",
      "bone-china-182\n",
      "bone-china-229\n",
      "bone-china-208\n",
      "bone-china-181\n",
      "bone-china-202\n",
      "bone-china-241\n",
      "bone-china-233\n",
      "bone-penn-469\n",
      "bone-penn-486\n",
      "bone-penn-505\n",
      "bone-penn-513\n",
      "bone-penn-499\n",
      "bone-penn-470\n",
      "bone-penn-510\n",
      "bone-penn-475\n",
      "bone-penn-493\n",
      "bone-penn-559\n",
      "bone-penn-569\n",
      "bone-penn-554\n",
      "bone-penn-566\n",
      "bone-penn-557\n",
      "t2 100 100 100\n",
      "t1 99 99 99\n",
      "ensemble 100 100 100\n"
     ]
    },
    {
     "ename": "ValueError",
     "evalue": "Found input variables with inconsistent numbers of samples: [99, 100]",
     "output_type": "error",
     "traceback": [
      "\u001b[0;31m--------------------------------------------------------------------------\u001b[0m",
      "\u001b[0;31mValueError\u001b[0m                               Traceback (most recent call last)",
      "\u001b[0;32m<ipython-input-205-e0e109627f42>\u001b[0m in \u001b[0;36m<module>\u001b[0;34m\u001b[0m\n\u001b[1;32m      3\u001b[0m \u001b[0;31m#fig = plot_multiple_precision_recall(validation, experts=get_experts_for_names(expert_features, validation_set.names))#,  comparison_models=get_experts_for_names(comparison_model_features, validation_set.names, experts=['radiomics'], transform=float))\u001b[0m\u001b[0;34m\u001b[0m\u001b[0;34m\u001b[0m\u001b[0m\n\u001b[1;32m      4\u001b[0m \u001b[0;31m#fig.savefig(\"figures/combined-validation-precision-recall.svg\", bbox_inches = \"tight\")\u001b[0m\u001b[0;34m\u001b[0m\u001b[0;34m\u001b[0m\u001b[0m\n\u001b[0;32m----> 5\u001b[0;31m \u001b[0mfig\u001b[0m \u001b[0;34m=\u001b[0m \u001b[0mplot_multiple_precision_recall\u001b[0m\u001b[0;34m(\u001b[0m\u001b[0mtest\u001b[0m\u001b[0;34m,\u001b[0m \u001b[0mexperts\u001b[0m\u001b[0;34m=\u001b[0m\u001b[0mget_experts_for_names\u001b[0m\u001b[0;34m(\u001b[0m\u001b[0mexpert_features\u001b[0m\u001b[0;34m,\u001b[0m \u001b[0mtest_set\u001b[0m\u001b[0;34m.\u001b[0m\u001b[0mnames\u001b[0m\u001b[0;34m,\u001b[0m \u001b[0mexperts\u001b[0m\u001b[0;34m=\u001b[0m\u001b[0;34m[\u001b[0m\u001b[0;34m\"expert1\"\u001b[0m\u001b[0;34m]\u001b[0m\u001b[0;34m)\u001b[0m\u001b[0;34m)\u001b[0m\u001b[0;31m#, comparison_models=get_experts_for_names(comparison_model_features, test_set.names, experts=['radiomics'], transform=float))\u001b[0m\u001b[0;34m\u001b[0m\u001b[0m\n\u001b[0m\u001b[1;32m      6\u001b[0m \u001b[0mfig\u001b[0m\u001b[0;34m.\u001b[0m\u001b[0msavefig\u001b[0m\u001b[0;34m(\u001b[0m\u001b[0;34m\"figures/combined-test-precision-recall.svg\"\u001b[0m\u001b[0;34m,\u001b[0m \u001b[0mbbox_inches\u001b[0m \u001b[0;34m=\u001b[0m \u001b[0;34m\"tight\"\u001b[0m\u001b[0;34m)\u001b[0m\u001b[0;34m\u001b[0m\u001b[0m\n\u001b[1;32m      7\u001b[0m \u001b[0;31m#fig = plot_multiple_precision_recall(test_1, experts=get_experts_for_names(expert_features, test_set.names, experts=[\"expert1\", \"expert2\", \"expert3\", \"expert4\"]))#, comparison_models=get_experts_for_names(comparison_model_features, test_set.names, experts=['radiomics'], transform=float))\u001b[0m\u001b[0;34m\u001b[0m\u001b[0;34m\u001b[0m\u001b[0m\n",
      "\u001b[0;32m<ipython-input-200-bc304a4b1587>\u001b[0m in \u001b[0;36mplot_multiple_precision_recall\u001b[0;34m(dataset, experts, comparison_models)\u001b[0m\n\u001b[1;32m     60\u001b[0m             \u001b[0mlabels\u001b[0m \u001b[0;34m=\u001b[0m \u001b[0mdataset\u001b[0m\u001b[0;34m[\u001b[0m\u001b[0;34m\"t1-labels\"\u001b[0m\u001b[0;34m]\u001b[0m\u001b[0;34m\u001b[0m\u001b[0m\n\u001b[1;32m     61\u001b[0m             \u001b[0mpredictions\u001b[0m \u001b[0;34m=\u001b[0m \u001b[0mexpert\u001b[0m\u001b[0;34m\u001b[0m\u001b[0m\n\u001b[0;32m---> 62\u001b[0;31m             \u001b[0mstats\u001b[0m \u001b[0;34m=\u001b[0m \u001b[0mcalculate_confusion_matrix_stats_predictions\u001b[0m\u001b[0;34m(\u001b[0m\u001b[0mlabels\u001b[0m\u001b[0;34m,\u001b[0m \u001b[0mpredictions\u001b[0m\u001b[0;34m)\u001b[0m\u001b[0;34m\u001b[0m\u001b[0m\n\u001b[0m\u001b[1;32m     63\u001b[0m             \u001b[0macc\u001b[0m \u001b[0;34m=\u001b[0m \u001b[0maccuracy_score\u001b[0m\u001b[0;34m(\u001b[0m\u001b[0mlabels\u001b[0m\u001b[0;34m,\u001b[0m \u001b[0mpredictions\u001b[0m\u001b[0;34m)\u001b[0m\u001b[0;34m\u001b[0m\u001b[0m\n\u001b[1;32m     64\u001b[0m             points.append({\n",
      "\u001b[0;32m~/Documents/Bone-MRI/evaluate.py\u001b[0m in \u001b[0;36mcalculate_confusion_matrix_stats_predictions\u001b[0;34m(labels, predictions)\u001b[0m\n\u001b[1;32m    117\u001b[0m \u001b[0;34m\u001b[0m\u001b[0m\n\u001b[1;32m    118\u001b[0m \u001b[0;32mdef\u001b[0m \u001b[0mcalculate_confusion_matrix_stats_predictions\u001b[0m\u001b[0;34m(\u001b[0m\u001b[0mlabels\u001b[0m\u001b[0;34m,\u001b[0m \u001b[0mpredictions\u001b[0m\u001b[0;34m)\u001b[0m\u001b[0;34m:\u001b[0m\u001b[0;34m\u001b[0m\u001b[0m\n\u001b[0;32m--> 119\u001b[0;31m     \u001b[0mconfusion_matrix\u001b[0m \u001b[0;34m=\u001b[0m \u001b[0mcalculate_confusion_matrix_predictions\u001b[0m\u001b[0;34m(\u001b[0m\u001b[0mlabels\u001b[0m\u001b[0;34m,\u001b[0m \u001b[0mpredictions\u001b[0m\u001b[0;34m)\u001b[0m\u001b[0;34m\u001b[0m\u001b[0m\n\u001b[0m\u001b[1;32m    120\u001b[0m     \u001b[0mFP\u001b[0m \u001b[0;34m=\u001b[0m \u001b[0mconfusion_matrix\u001b[0m\u001b[0;34m.\u001b[0m\u001b[0msum\u001b[0m\u001b[0;34m(\u001b[0m\u001b[0maxis\u001b[0m\u001b[0;34m=\u001b[0m\u001b[0;36m0\u001b[0m\u001b[0;34m)\u001b[0m \u001b[0;34m-\u001b[0m \u001b[0mnp\u001b[0m\u001b[0;34m.\u001b[0m\u001b[0mdiag\u001b[0m\u001b[0;34m(\u001b[0m\u001b[0mconfusion_matrix\u001b[0m\u001b[0;34m)\u001b[0m\u001b[0;34m\u001b[0m\u001b[0m\n\u001b[1;32m    121\u001b[0m     \u001b[0mFN\u001b[0m \u001b[0;34m=\u001b[0m \u001b[0mconfusion_matrix\u001b[0m\u001b[0;34m.\u001b[0m\u001b[0msum\u001b[0m\u001b[0;34m(\u001b[0m\u001b[0maxis\u001b[0m\u001b[0;34m=\u001b[0m\u001b[0;36m1\u001b[0m\u001b[0;34m)\u001b[0m \u001b[0;34m-\u001b[0m \u001b[0mnp\u001b[0m\u001b[0;34m.\u001b[0m\u001b[0mdiag\u001b[0m\u001b[0;34m(\u001b[0m\u001b[0mconfusion_matrix\u001b[0m\u001b[0;34m)\u001b[0m\u001b[0;34m\u001b[0m\u001b[0m\n",
      "\u001b[0;32m~/Documents/Bone-MRI/evaluate.py\u001b[0m in \u001b[0;36mcalculate_confusion_matrix_predictions\u001b[0;34m(labels, predictions)\u001b[0m\n\u001b[1;32m    114\u001b[0m     \u001b[0mreturns\u001b[0m \u001b[0ma\u001b[0m \u001b[0mconfusion\u001b[0m \u001b[0mmatrix\u001b[0m\u001b[0;34m\u001b[0m\u001b[0m\n\u001b[1;32m    115\u001b[0m     \"\"\"\n\u001b[0;32m--> 116\u001b[0;31m     \u001b[0;32mreturn\u001b[0m \u001b[0mconfusion_matrix\u001b[0m\u001b[0;34m(\u001b[0m\u001b[0mlabels\u001b[0m\u001b[0;34m,\u001b[0m \u001b[0mpredictions\u001b[0m\u001b[0;34m)\u001b[0m\u001b[0;34m\u001b[0m\u001b[0m\n\u001b[0m\u001b[1;32m    117\u001b[0m \u001b[0;34m\u001b[0m\u001b[0m\n\u001b[1;32m    118\u001b[0m \u001b[0;32mdef\u001b[0m \u001b[0mcalculate_confusion_matrix_stats_predictions\u001b[0m\u001b[0;34m(\u001b[0m\u001b[0mlabels\u001b[0m\u001b[0;34m,\u001b[0m \u001b[0mpredictions\u001b[0m\u001b[0;34m)\u001b[0m\u001b[0;34m:\u001b[0m\u001b[0;34m\u001b[0m\u001b[0m\n",
      "\u001b[0;32m~/.local/share/virtualenvs/Bone-MRI-iLizu8rs/lib/python3.6/site-packages/sklearn/metrics/_classification.py\u001b[0m in \u001b[0;36mconfusion_matrix\u001b[0;34m(y_true, y_pred, labels, sample_weight, normalize)\u001b[0m\n\u001b[1;32m    266\u001b[0m \u001b[0;34m\u001b[0m\u001b[0m\n\u001b[1;32m    267\u001b[0m     \"\"\"\n\u001b[0;32m--> 268\u001b[0;31m     \u001b[0my_type\u001b[0m\u001b[0;34m,\u001b[0m \u001b[0my_true\u001b[0m\u001b[0;34m,\u001b[0m \u001b[0my_pred\u001b[0m \u001b[0;34m=\u001b[0m \u001b[0m_check_targets\u001b[0m\u001b[0;34m(\u001b[0m\u001b[0my_true\u001b[0m\u001b[0;34m,\u001b[0m \u001b[0my_pred\u001b[0m\u001b[0;34m)\u001b[0m\u001b[0;34m\u001b[0m\u001b[0m\n\u001b[0m\u001b[1;32m    269\u001b[0m     \u001b[0;32mif\u001b[0m \u001b[0my_type\u001b[0m \u001b[0;32mnot\u001b[0m \u001b[0;32min\u001b[0m \u001b[0;34m(\u001b[0m\u001b[0;34m\"binary\"\u001b[0m\u001b[0;34m,\u001b[0m \u001b[0;34m\"multiclass\"\u001b[0m\u001b[0;34m)\u001b[0m\u001b[0;34m:\u001b[0m\u001b[0;34m\u001b[0m\u001b[0m\n\u001b[1;32m    270\u001b[0m         \u001b[0;32mraise\u001b[0m \u001b[0mValueError\u001b[0m\u001b[0;34m(\u001b[0m\u001b[0;34m\"%s is not supported\"\u001b[0m \u001b[0;34m%\u001b[0m \u001b[0my_type\u001b[0m\u001b[0;34m)\u001b[0m\u001b[0;34m\u001b[0m\u001b[0m\n",
      "\u001b[0;32m~/.local/share/virtualenvs/Bone-MRI-iLizu8rs/lib/python3.6/site-packages/sklearn/metrics/_classification.py\u001b[0m in \u001b[0;36m_check_targets\u001b[0;34m(y_true, y_pred)\u001b[0m\n\u001b[1;32m     78\u001b[0m     \u001b[0my_pred\u001b[0m \u001b[0;34m:\u001b[0m \u001b[0marray\u001b[0m \u001b[0;32mor\u001b[0m \u001b[0mindicator\u001b[0m \u001b[0mmatrix\u001b[0m\u001b[0;34m\u001b[0m\u001b[0m\n\u001b[1;32m     79\u001b[0m     \"\"\"\n\u001b[0;32m---> 80\u001b[0;31m     \u001b[0mcheck_consistent_length\u001b[0m\u001b[0;34m(\u001b[0m\u001b[0my_true\u001b[0m\u001b[0;34m,\u001b[0m \u001b[0my_pred\u001b[0m\u001b[0;34m)\u001b[0m\u001b[0;34m\u001b[0m\u001b[0m\n\u001b[0m\u001b[1;32m     81\u001b[0m     \u001b[0mtype_true\u001b[0m \u001b[0;34m=\u001b[0m \u001b[0mtype_of_target\u001b[0m\u001b[0;34m(\u001b[0m\u001b[0my_true\u001b[0m\u001b[0;34m)\u001b[0m\u001b[0;34m\u001b[0m\u001b[0m\n\u001b[1;32m     82\u001b[0m     \u001b[0mtype_pred\u001b[0m \u001b[0;34m=\u001b[0m \u001b[0mtype_of_target\u001b[0m\u001b[0;34m(\u001b[0m\u001b[0my_pred\u001b[0m\u001b[0;34m)\u001b[0m\u001b[0;34m\u001b[0m\u001b[0m\n",
      "\u001b[0;32m~/.local/share/virtualenvs/Bone-MRI-iLizu8rs/lib/python3.6/site-packages/sklearn/utils/validation.py\u001b[0m in \u001b[0;36mcheck_consistent_length\u001b[0;34m(*arrays)\u001b[0m\n\u001b[1;32m    210\u001b[0m     \u001b[0;32mif\u001b[0m \u001b[0mlen\u001b[0m\u001b[0;34m(\u001b[0m\u001b[0muniques\u001b[0m\u001b[0;34m)\u001b[0m \u001b[0;34m>\u001b[0m \u001b[0;36m1\u001b[0m\u001b[0;34m:\u001b[0m\u001b[0;34m\u001b[0m\u001b[0m\n\u001b[1;32m    211\u001b[0m         raise ValueError(\"Found input variables with inconsistent numbers of\"\n\u001b[0;32m--> 212\u001b[0;31m                          \" samples: %r\" % [int(l) for l in lengths])\n\u001b[0m\u001b[1;32m    213\u001b[0m \u001b[0;34m\u001b[0m\u001b[0m\n\u001b[1;32m    214\u001b[0m \u001b[0;34m\u001b[0m\u001b[0m\n",
      "\u001b[0;31mValueError\u001b[0m: Found input variables with inconsistent numbers of samples: [99, 100]"
     ]
    }
   ],
   "source": [
    "fig = plot_multiple_precision_recall(train, experts=get_experts_for_names(expert_features, train_set.names))#, comparison_models=get_experts_for_names(comparison_model_features, train_set.names, experts=['radiomics'], transform=float))\n",
    "fig.savefig(\"figures/combined-train-precision-recall.svg\", bbox_inches = \"tight\")\n",
    "fig = plot_multiple_precision_recall(validation, experts=get_experts_for_names(expert_features, validation_set.names))#,  comparison_models=get_experts_for_names(comparison_model_features, validation_set.names, experts=['radiomics'], transform=float))\n",
    "fig.savefig(\"figures/combined-validation-precision-recall.svg\", bbox_inches = \"tight\")\n",
    "fig = plot_multiple_precision_recall(test, experts=get_experts_for_names(expert_features, test_set.names, experts=[\"expert1\"]))#, comparison_models=get_experts_for_names(comparison_model_features, test_set.names, experts=['radiomics'], transform=float))\n",
    "fig.savefig(\"figures/combined-test-precision-recall.svg\", bbox_inches = \"tight\")\n",
    "#fig = plot_multiple_precision_recall(test_1, experts=get_experts_for_names(expert_features, test_set.names, experts=[\"expert1\", \"expert2\", \"expert3\", \"expert4\"]))#, comparison_models=get_experts_for_names(comparison_model_features, test_set.names, experts=['radiomics'], transform=float))\n",
    "#fig.savefig(\"figures/combined-test-1-precision-recall.svg\", bbox_inches = \"tight\")\n",
    "#fig = plot_multiple_precision_recall(test_2, experts=get_experts_for_names(expert_features, test_set.names, experts=[\"expert1\", \"expert2\", \"expert3\", \"expert4\"]))#, comparison_models=get_experts_for_names(comparison_model_features, test_set.names, experts=['radiomics'], transform=float))\n",
    "#fig.savefig(\"figures/combined-test-2-precision-recall.svg\", bbox_inches = \"tight\")\n",
    "fig = plot_multiple_roc_curve(train, experts=get_experts_for_names(expert_features, train_set.names))#, comparison_models=get_experts_for_names(comparison_model_features, train_set.names, experts=['radiomics'], transform=float))\n",
    "fig.savefig(\"figures/combined-train-roc.svg\", bbox_inches = \"tight\")\n",
    "fig = plot_multiple_roc_curve(validation, experts=get_experts_for_names(expert_features, validation_set.names))#, comparison_models=get_experts_for_names(comparison_model_features, validation_set.names, experts=['radiomics'], transform=float))\n",
    "fig.savefig(\"figures/combined-validation-roc.svg\", bbox_inches = \"tight\")\n",
    "fig = plot_multiple_roc_curve(test, experts=get_experts_for_names(expert_features, test_set.names, experts=[\"expert1\"]))#, comparison_models=get_experts_for_names(comparison_model_features, test_set.names, experts=['radiomics'], transform=float))\n",
    "fig.savefig(\"figures/combined-test-roc.svg\", bbox_inches = \"tight\")\n",
    "#fig = plot_multiple_roc_curve(test_1, experts=get_experts_for_names(expert_features, test_set.names, experts=[\"expert1\", \"expert2\", \"expert3\", \"expert4\"]))#, comparison_models=get_experts_for_names(comparison_model_features, test_set.names, experts=['radiomics'], transform=float))\n",
    "#fig.savefig(\"figures/combined-test-1-roc.svg\", bbox_inches = \"tight\")\n",
    "#fig = plot_multiple_roc_curve(test_2, experts=get_experts_for_names(expert_features, test_set.names, experts=[\"expert1\", \"expert2\", \"expert3\", \"expert4\"]))#, comparison_models=get_experts_for_names(comparison_model_features, test_set.names, experts=['radiomics'], transform=float))\n",
    "#fig.savefig(\"figures/combined-test-2-roc.svg\", bbox_inches = \"tight\")"
   ]
  },
  {
   "cell_type": "code",
   "execution_count": 43,
   "metadata": {},
   "outputs": [],
   "source": [
    "def correct_num_for_modality(dataset, experts=[], comparison_models=[]): \n",
    "    results = list()\n",
    "    if len(experts) > 0:\n",
    "        for i, expert in enumerate(experts): \n",
    "            labels = dataset[\"t1-labels\"]\n",
    "            predictions = expert\n",
    "            correct = sum([ labels[i] == p for i, p in enumerate(predictions) ])\n",
    "            total = len(labels)\n",
    "            results.append({ \n",
    "                \"correct\": correct, \n",
    "                \"total\": total, \n",
    "                \"incorrect\": total-correct, \n",
    "                \"modality\": \"Expert {}\".format(i),\n",
    "                \"acc\": correct/total,                \n",
    "                \"wald\": adjusted_wald(correct/total, total),\n",
    "                **calculate_confusion_matrix_stats_predictions(labels, predictions),\n",
    "            })\n",
    "    for modality in MODALITIES: \n",
    "        labels = dataset[\"{}-labels\".format(modality)]\n",
    "        probabilities = dataset[\"{}-probabilities\".format(modality)]\n",
    "        predictions = dataset[\"{}-predictions\".format(modality)]\n",
    "        total = len(labels)\n",
    "        correct = sum([ labels[i] == p for i, p in enumerate(predictions) ])\n",
    "        results.append({ \n",
    "            \"correct\": correct, \n",
    "            \"total\": total, \n",
    "            \"incorrect\": total-correct, \n",
    "            \"modality\": MODALITY_KEY[modality],\n",
    "            \"acc\": correct/total,\n",
    "            \"wald\": adjusted_wald(correct/total, total),\n",
    "            **calculate_confusion_matrix_stats_predictions(labels, predictions),            \n",
    "        })        \n",
    "    for probabilities in comparison_models: \n",
    "        modality = \"Radiomics\"\n",
    "        labels = dataset[\"t1-labels\"]\n",
    "        predictions = [p > 0.5 for p in probabilities]\n",
    "        predictions = dataset[\"{}-predictions\".format(modality)]\n",
    "        total = len(labels)\n",
    "        correct = sum([ labels[i] == p for i, p in enumerate(predictions) ])\n",
    "        results.append({ \n",
    "            \"correct\": correct, \n",
    "            \"total\": total, \n",
    "            \"incorrect\": total-correct, \n",
    "            \"modality\": modality,\n",
    "            \"acc\": correct/total,\n",
    "            \"wald\": adjusted_wald(correct/total, total),\n",
    "            **calculate_confusion_matrix_stats_predictions(labels, predictions),            \n",
    "        })                \n",
    "    return results"
   ]
  },
  {
   "cell_type": "code",
   "execution_count": 45,
   "metadata": {},
   "outputs": [],
   "source": [
    "results = correct_num_for_modality(test, experts=get_experts_for_names(expert_features, test_set.names, experts=[\"expert1\", \"expert2\"]))#, comparison_models=get_experts_for_names(comparison_model_features, test_set.names, experts=['radiomics'], transform=float))"
   ]
  },
  {
   "cell_type": "code",
   "execution_count": 46,
   "metadata": {
    "scrolled": false
   },
   "outputs": [],
   "source": [
    "experts = get_experts_for_names(expert_features, test_set.names, experts=[\"expert1\", \"expert2\"])"
   ]
  },
  {
   "cell_type": "code",
   "execution_count": 47,
   "metadata": {},
   "outputs": [
    {
     "data": {
      "text/plain": [
       "[[1.0, 0.6476868327402135], [0.6476868327402135, 1.0]]"
      ]
     },
     "execution_count": 47,
     "metadata": {},
     "output_type": "execute_result"
    }
   ],
   "source": [
    "kappa_scores = list()\n",
    "for e in experts: \n",
    "    current = list()\n",
    "    for x in experts: \n",
    "        current.append(cohen_kappa_score(e, x))\n",
    "    kappa_scores.append(current)\n",
    "kappa_scores"
   ]
  },
  {
   "cell_type": "code",
   "execution_count": 48,
   "metadata": {},
   "outputs": [
    {
     "data": {
      "text/plain": [
       "<matplotlib.axes._subplots.AxesSubplot at 0x7f6dc2a0a7f0>"
      ]
     },
     "execution_count": 48,
     "metadata": {},
     "output_type": "execute_result"
    },
    {
     "data": {
      "image/png": "[encoded data removed]",
      "text/plain": [
       "<Figure size 432x288 with 2 Axes>"
      ]
     },
     "metadata": {},
     "output_type": "display_data"
    }
   ],
   "source": [
    "seaborn.heatmap(kappa_scores, annot=True, square=True, fmt=\".2f\", xticklabels=[\"1\", \"2\", \"3\", \"4\"], yticklabels=[\"1\", \"2\", \"3\", \"4\"])"
   ]
  },
  {
   "cell_type": "code",
   "execution_count": 49,
   "metadata": {},
   "outputs": [],
   "source": [
    "from itertools import combinations\n",
    "import numpy as np"
   ]
  },
  {
   "cell_type": "code",
   "execution_count": 50,
   "metadata": {},
   "outputs": [
    {
     "data": {
      "text/plain": [
       "0.6476868327402135"
      ]
     },
     "execution_count": 50,
     "metadata": {},
     "output_type": "execute_result"
    }
   ],
   "source": [
    "unique_kappa = list()\n",
    "for x, y in combinations(experts, 2): \n",
    "    unique_kappa.append(cohen_kappa_score(x, y))\n",
    "np.average(unique_kappa)"
   ]
  },
  {
   "cell_type": "code",
   "execution_count": 51,
   "metadata": {},
   "outputs": [],
   "source": [
    "def fleiss_kappa(ratings, n):\n",
    "    '''\n",
    "    Computes the Fleiss' kappa measure for assessing the reliability of \n",
    "    agreement between a fixed number n of raters when assigning categorical\n",
    "    ratings to a number of items.\n",
    "    \n",
    "    Args:\n",
    "        ratings: a list of (item, category)-ratings\n",
    "        n: number of raters\n",
    "        k: number of categories\n",
    "    Returns:\n",
    "        the Fleiss' kappa score\n",
    "    \n",
    "    See also:\n",
    "        http://en.wikipedia.org/wiki/Fleiss'_kappa\n",
    "    '''\n",
    "    items = set()\n",
    "    categories = set()\n",
    "    n_ij = {}\n",
    "    \n",
    "    for i, c in ratings:\n",
    "        items.add(i)\n",
    "        categories.add(c)\n",
    "        n_ij[(i,c)] = n_ij.get((i,c), 0) + 1\n",
    "    \n",
    "    N = len(items)\n",
    "    \n",
    "    p_j = dict(((c, sum(n_ij.get((i, c), 0) for i in items) / (1.0 * n * N)) for c in categories))\n",
    "    P_i = dict(((i, (sum(n_ij.get((i, c), 0) ** 2 for c in categories) - n) / (n * (n - 1.0))) for i in items))\n",
    "\n",
    "    P_bar = sum(P_i.values()) / (1.0 * N)\n",
    "    P_e_bar = sum(value ** 2 for value in p_j.values())\n",
    "    \n",
    "    kappa = (P_bar - P_e_bar) / (1 - P_e_bar)\n",
    "    \n",
    "    return kappa"
   ]
  },
  {
   "cell_type": "code",
   "execution_count": 52,
   "metadata": {},
   "outputs": [],
   "source": [
    "fleiss_kappa_array = list()\n",
    "for e in list(zip(*experts)): \n",
    "    for i in e: \n",
    "        fleiss_kappa_array.append((1, i))"
   ]
  },
  {
   "cell_type": "code",
   "execution_count": 53,
   "metadata": {},
   "outputs": [
    {
     "data": {
      "text/plain": [
       "-0.33333333333333326"
      ]
     },
     "execution_count": 53,
     "metadata": {},
     "output_type": "execute_result"
    }
   ],
   "source": [
    "fleiss_kappa(fleiss_kappa_array, 4)"
   ]
  },
  {
   "cell_type": "code",
   "execution_count": 54,
   "metadata": {},
   "outputs": [
    {
     "data": {
      "text/plain": [
       "[(1, 'yes'),\n",
       " (1, 'yes'),\n",
       " (1, 'yes'),\n",
       " (1, 'yes'),\n",
       " (1, 'yes'),\n",
       " (1, 'yes'),\n",
       " (1, 'yes'),\n",
       " (1, 'yes'),\n",
       " (1, 'yes'),\n",
       " (1, 'yes'),\n",
       " (2, 'yes'),\n",
       " (2, 'yes'),\n",
       " (2, 'yes'),\n",
       " (2, 'yes'),\n",
       " (2, 'yes'),\n",
       " (2, 'yes'),\n",
       " (2, 'yes'),\n",
       " (2, 'yes'),\n",
       " (2, 'no'),\n",
       " (2, 'no'),\n",
       " (3, 'yes'),\n",
       " (3, 'yes'),\n",
       " (3, 'yes'),\n",
       " (3, 'yes'),\n",
       " (3, 'yes'),\n",
       " (3, 'yes'),\n",
       " (3, 'yes'),\n",
       " (3, 'yes'),\n",
       " (3, 'yes'),\n",
       " (3, 'no'),\n",
       " (4, 'no'),\n",
       " (4, 'no'),\n",
       " (4, 'no'),\n",
       " (4, 'no'),\n",
       " (4, 'no'),\n",
       " (4, 'no'),\n",
       " (4, 'no'),\n",
       " (4, 'no'),\n",
       " (4, 'no'),\n",
       " (4, 'no'),\n",
       " (5, 'yes'),\n",
       " (5, 'yes'),\n",
       " (5, 'yes'),\n",
       " (5, 'yes'),\n",
       " (5, 'yes'),\n",
       " (5, 'yes'),\n",
       " (5, 'yes'),\n",
       " (5, 'no'),\n",
       " (5, 'no'),\n",
       " (5, 'no')]"
      ]
     },
     "execution_count": 54,
     "metadata": {},
     "output_type": "execute_result"
    }
   ],
   "source": [
    "ratings = [(1, 'yes')] * 10 + [(1, 'no')] * 0  + \\\n",
    "[(2, 'yes')] * 8  + [(2, 'no')] * 2  + \\\n",
    "[(3, 'yes')] * 9  + [(3, 'no')] * 1  + \\\n",
    "[(4, 'yes')] * 0  + [(4, 'no')] * 10 + \\\n",
    "[(5, 'yes')] * 7  + [(5, 'no')] * 3\n",
    "ratings"
   ]
  },
  {
   "cell_type": "code",
   "execution_count": 55,
   "metadata": {},
   "outputs": [
    {
     "ename": "TypeError",
     "evalue": "fleiss_kappa() missing 1 required positional argument: 'n'",
     "output_type": "error",
     "traceback": [
      "\u001b[0;31m---------------------------------------------------------------------------\u001b[0m",
      "\u001b[0;31mTypeError\u001b[0m                                 Traceback (most recent call last)",
      "\u001b[0;32m<ipython-input-55-40264f0e3261>\u001b[0m in \u001b[0;36m<module>\u001b[0;34m\u001b[0m\n\u001b[1;32m      1\u001b[0m \u001b[0mx\u001b[0m \u001b[0;34m=\u001b[0m \u001b[0mnp\u001b[0m\u001b[0;34m.\u001b[0m\u001b[0marray\u001b[0m\u001b[0;34m(\u001b[0m\u001b[0mexperts\u001b[0m\u001b[0;34m)\u001b[0m\u001b[0;34m.\u001b[0m\u001b[0mT\u001b[0m\u001b[0;34m\u001b[0m\u001b[0m\n\u001b[0;32m----> 2\u001b[0;31m \u001b[0mfleiss_kappa\u001b[0m\u001b[0;34m(\u001b[0m\u001b[0mx\u001b[0m\u001b[0;34m)\u001b[0m\u001b[0;34m\u001b[0m\u001b[0m\n\u001b[0m",
      "\u001b[0;31mTypeError\u001b[0m: fleiss_kappa() missing 1 required positional argument: 'n'"
     ]
    }
   ],
   "source": [
    "x = np.array(experts).T\n",
    "fleiss_kappa(x)"
   ]
  },
  {
   "cell_type": "code",
   "execution_count": null,
   "metadata": {},
   "outputs": [],
   "source": [
    "ensemble = results.pop()\n",
    "for r in results: \n",
    "    print(r[\"modality\"], fisher_exact([[ensemble[\"correct\"], r[\"correct\"]], [ensemble[\"incorrect\"], r[\"incorrect\"]]]))"
   ]
  },
  {
   "cell_type": "code",
   "execution_count": null,
   "metadata": {},
   "outputs": [],
   "source": [
    "results"
   ]
  },
  {
   "cell_type": "code",
   "execution_count": null,
   "metadata": {},
   "outputs": [],
   "source": []
  },
  {
   "cell_type": "code",
   "execution_count": null,
   "metadata": {},
   "outputs": [],
   "source": [
    "from IPython.display import HTML\n",
    "HTML('''<script>\n",
    "code_show=true; \n",
    "function code_toggle() {\n",
    " if (code_show){\n",
    " $('div.input').hide();\n",
    " } else {\n",
    " $('div.input').show();\n",
    " }\n",
    " code_show = !code_show\n",
    "} \n",
    "$( document ).ready(code_toggle);\n",
    "</script>\n",
    "The raw code for this IPython notebook is by default hidden for easier reading.\n",
    "To toggle on/off the raw code, click <a href=\"javascript:code_toggle()\">here</a>.''')"
   ]
  },
  {
   "cell_type": "code",
   "execution_count": null,
   "metadata": {},
   "outputs": [],
   "source": []
  },
  {
   "cell_type": "code",
   "execution_count": null,
   "metadata": {},
   "outputs": [],
   "source": []
  },
  {
   "cell_type": "code",
   "execution_count": null,
   "metadata": {},
   "outputs": [],
   "source": []
  },
  {
   "cell_type": "code",
   "execution_count": null,
   "metadata": {},
   "outputs": [],
   "source": []
  },
  {
   "cell_type": "code",
   "execution_count": null,
   "metadata": {},
   "outputs": [],
   "source": []
  }
 ],
 "metadata": {
  "kernelspec": {
   "display_name": "Python 3",
   "language": "python",
   "name": "python3"
  },
  "language_info": {
   "codemirror_mode": {
    "name": "ipython",
    "version": 3
   },
   "file_extension": ".py",
   "mimetype": "text/x-python",
   "name": "python",
   "nbconvert_exporter": "python",
   "pygments_lexer": "ipython3",
   "version": "3.6.1"
  }
 },
 "nbformat": 4,
 "nbformat_minor": 2
}
