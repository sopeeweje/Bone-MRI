{
 "cells": [
  {
   "cell_type": "code",
   "execution_count": 1,
   "metadata": {},
   "outputs": [],
   "source": [
    "%load_ext autoreload\n",
    "%autoreload 2\n",
    "%matplotlib inline  "
   ]
  },
  {
   "cell_type": "code",
   "execution_count": 13,
   "metadata": {},
   "outputs": [],
   "source": [
    "from config import config\n",
    "import pandas\n",
    "import seaborn\n",
    "import numpy as np\n",
    "import scipy\n",
    "import matplotlib.pyplot as plt\n",
    "import papermill as pm\n",
    "import scrapbook as sb\n",
    "from stacked_data import stacked_data\n",
    "from tqdm import tqdm\n",
    "from sklearn.ensemble import ExtraTreesClassifier, AdaBoostClassifier, BaggingClassifier, GradientBoostingClassifier, IsolationForest, RandomForestClassifier, VotingClassifier\n",
    "from sklearn.linear_model import LogisticRegression, SGDClassifier\n",
    "from sklearn import metrics\n",
    "\n",
    "from evaluate import calculate_confusion_matrix_stats, plot_roc_curve, plot_precision_recall, plot_confusion_matrix_ensemble"
   ]
  },
  {
   "cell_type": "markdown",
   "metadata": {},
   "source": [
    "# Ensemble models"
   ]
  },
  {
   "cell_type": "code",
   "execution_count": 2,
   "metadata": {
    "scrolled": true,
    "tags": [
     "parameters"
    ]
   },
   "outputs": [],
   "source": [
    "MODELS = [\n",
    "    \"2718a5c3-50cf-4b0c-aa44-8cbf5cd26136\", # features\n",
    "    \"6baad1dd-8b7c-42ae-8ba0-417b5f967852\" # t2 \n",
    "]"
   ]
  },
  {
   "cell_type": "code",
   "execution_count": 3,
   "metadata": {
    "scrolled": true
   },
   "outputs": [
    {
     "name": "stdout",
     "output_type": "stream",
     "text": [
      "models: ['2718a5c3-50cf-4b0c-aa44-8cbf5cd26136', '6baad1dd-8b7c-42ae-8ba0-417b5f967852']\n"
     ]
    }
   ],
   "source": [
    "models = MODELS\n",
    "print(\"models: {}\".format(models))"
   ]
  },
  {
   "cell_type": "code",
   "execution_count": 4,
   "metadata": {
    "scrolled": true
   },
   "outputs": [
    {
     "name": "stderr",
     "output_type": "stream",
     "text": [
      " 15%|█▍        | 87/597 [00:00<00:00, 868.59it/s]"
     ]
    },
    {
     "name": "stdout",
     "output_type": "stream",
     "text": [
      "Training points = 597\n",
      "Benign: 347, Intermediate: 250, Malignant: 0\n",
      "\n",
      "Validation points = 163\n",
      "Benign: 98, Intermediate: 65, Malignant: 0\n",
      "\n",
      "Testing points = 92\n",
      "Benign: 53, Intermediate: 39, Malignant: 0\n",
      "bone-china-002\n",
      "bone-china-004\n",
      "bone-china-005\n",
      "bone-china-006\n",
      "bone-china-008\n",
      "bone-china-009\n",
      "bone-china-010\n",
      "bone-china-014\n",
      "bone-china-015\n",
      "bone-china-019\n",
      "bone-china-020\n",
      "bone-china-021\n",
      "bone-china-022\n",
      "bone-china-023\n",
      "bone-china-027\n",
      "bone-china-028\n",
      "bone-china-029\n",
      "bone-china-031\n",
      "bone-china-032\n",
      "bone-china-033\n",
      "bone-china-035\n",
      "bone-china-037\n",
      "bone-china-038\n",
      "bone-china-039\n",
      "bone-china-041\n",
      "bone-china-042\n",
      "bone-china-044\n",
      "bone-china-045\n",
      "bone-china-046\n",
      "bone-china-047\n",
      "bone-china-050\n",
      "bone-china-051\n",
      "bone-china-052\n",
      "bone-china-053\n",
      "bone-china-055\n",
      "bone-china-056\n",
      "bone-china-058\n",
      "bone-china-059\n",
      "bone-china-060\n",
      "bone-china-061\n",
      "bone-china-062\n",
      "bone-china-065\n",
      "bone-china-066\n",
      "bone-china-068\n",
      "bone-china-069\n",
      "bone-china-070\n",
      "bone-china-071\n",
      "bone-china-072\n",
      "bone-china-074\n",
      "bone-china-075\n",
      "bone-china-076\n",
      "bone-china-079\n",
      "bone-china-080\n",
      "bone-china-081\n",
      "bone-china-083\n",
      "bone-china-084\n",
      "bone-china-085\n",
      "bone-china-086\n",
      "bone-china-087\n",
      "bone-china-088\n",
      "bone-china-089\n",
      "bone-china-092\n",
      "bone-china-093\n",
      "bone-china-099\n",
      "bone-china-100\n",
      "bone-china-101\n",
      "bone-china-103\n",
      "bone-china-104\n",
      "bone-china-105\n",
      "bone-china-107\n",
      "bone-china-109\n",
      "bone-china-110\n",
      "bone-china-113\n",
      "bone-china-114\n",
      "bone-china-115\n",
      "bone-china-117\n",
      "bone-china-118\n",
      "bone-china-121\n",
      "bone-china-122\n",
      "bone-china-123\n",
      "bone-china-124\n",
      "bone-china-125\n",
      "bone-china-126\n",
      "bone-china-127\n",
      "bone-china-131\n",
      "bone-china-132\n",
      "bone-china-133\n",
      "bone-china-134\n",
      "bone-china-135\n",
      "bone-china-136\n",
      "bone-china-138\n",
      "bone-china-140\n",
      "bone-china-143\n",
      "bone-china-145\n",
      "bone-china-146\n",
      "bone-china-148\n",
      "bone-china-149\n",
      "bone-china-152\n",
      "bone-china-153\n",
      "bone-china-154\n",
      "bone-china-158\n",
      "bone-china-159\n",
      "bone-china-160\n",
      "bone-china-161\n",
      "bone-china-164\n",
      "bone-china-166\n",
      "bone-china-167\n",
      "bone-china-169\n",
      "bone-china-170\n",
      "bone-china-174\n",
      "bone-china-175\n",
      "bone-china-176\n",
      "bone-china-177\n",
      "bone-china-180\n",
      "bone-china-184\n",
      "bone-china-186\n",
      "bone-china-187\n",
      "bone-china-188\n",
      "bone-china-189\n",
      "bone-china-190"
     ]
    },
    {
     "name": "stderr",
     "output_type": "stream",
     "text": [
      " 47%|████▋     | 278/597 [00:00<00:00, 908.61it/s]"
     ]
    },
    {
     "name": "stdout",
     "output_type": "stream",
     "text": [
      "\n",
      "bone-china-192\n",
      "bone-china-193\n",
      "bone-china-194\n",
      "bone-china-196\n",
      "bone-china-198\n",
      "bone-china-199\n",
      "bone-china-203\n",
      "bone-china-209\n",
      "bone-china-212\n",
      "bone-china-213\n",
      "bone-china-215\n",
      "bone-china-216\n",
      "bone-china-217\n",
      "bone-china-221\n",
      "bone-china-222\n",
      "bone-china-223\n",
      "bone-china-225\n",
      "bone-china-228\n",
      "bone-china-231\n",
      "bone-china-234\n",
      "bone-china-242\n",
      "bone-china-243\n",
      "bone-penn-081\n",
      "bone-penn-082\n",
      "bone-penn-083\n",
      "bone-penn-084\n",
      "bone-penn-085\n",
      "bone-penn-086\n",
      "bone-penn-090\n",
      "bone-penn-091\n",
      "bone-penn-092\n",
      "bone-penn-093\n",
      "bone-penn-094\n",
      "bone-penn-095\n",
      "bone-penn-097\n",
      "bone-penn-099\n",
      "bone-penn-105\n",
      "bone-penn-106\n",
      "bone-penn-107\n",
      "bone-penn-109\n",
      "bone-penn-110\n",
      "bone-penn-111\n",
      "bone-penn-112\n",
      "bone-penn-113\n",
      "bone-penn-116\n",
      "bone-penn-118\n",
      "bone-penn-119\n",
      "bone-penn-120\n",
      "bone-penn-122\n",
      "bone-penn-126\n",
      "bone-penn-130\n",
      "bone-penn-131\n",
      "bone-penn-134\n",
      "bone-penn-137\n",
      "bone-penn-139\n",
      "bone-penn-140\n",
      "bone-penn-141\n",
      "bone-penn-142\n",
      "bone-penn-147\n",
      "bone-penn-148\n",
      "bone-penn-149\n",
      "bone-penn-150\n",
      "bone-penn-152\n",
      "bone-penn-154\n",
      "bone-penn-155\n",
      "bone-penn-156\n",
      "bone-penn-157\n",
      "bone-penn-160\n",
      "bone-penn-161\n",
      "bone-penn-162\n",
      "bone-penn-163\n",
      "bone-penn-167\n",
      "bone-penn-168\n",
      "bone-penn-170\n",
      "bone-penn-171\n",
      "bone-penn-172\n",
      "bone-penn-173\n",
      "bone-penn-174\n",
      "bone-penn-178\n",
      "bone-penn-179\n",
      "bone-penn-180\n",
      "bone-penn-183\n",
      "bone-penn-187\n",
      "bone-penn-188\n",
      "bone-penn-189\n",
      "bone-penn-191\n",
      "bone-penn-192\n",
      "bone-penn-193\n",
      "bone-penn-194\n",
      "bone-penn-197\n",
      "bone-penn-198\n",
      "bone-penn-200\n",
      "bone-penn-205\n",
      "bone-penn-206\n",
      "bone-penn-207\n",
      "bone-penn-209\n",
      "bone-penn-210\n",
      "bone-penn-214\n",
      "bone-penn-217\n",
      "bone-penn-218\n",
      "bone-penn-219\n",
      "bone-penn-220\n",
      "bone-penn-222\n",
      "bone-penn-223\n",
      "bone-penn-224\n",
      "bone-penn-227\n",
      "bone-penn-231\n",
      "bone-penn-236\n",
      "bone-penn-238\n",
      "bone-penn-239\n",
      "bone-penn-241\n",
      "bone-penn-245\n",
      "bone-penn-246\n",
      "bone-penn-247\n",
      "bone-penn-250\n",
      "bone-penn-252\n",
      "bone-penn-253\n",
      "bone-penn-254\n",
      "bone-penn-255\n",
      "bone-penn-257\n",
      "bone-penn-260\n",
      "bone-penn-261\n",
      "bone-penn-262\n",
      "bone-penn-266\n",
      "bone-penn-268\n",
      "bone-penn-269\n",
      "bone-penn-277\n",
      "bone-penn-278\n",
      "bone-penn-279\n",
      "bone-penn-280\n",
      "bone-penn-282\n",
      "bone-penn-283\n",
      "bone-penn-285\n",
      "bone-penn-286\n",
      "bone-penn-289\n",
      "bone-penn-291\n",
      "bone-penn-292\n",
      "bone-penn-293\n",
      "bone-penn-296\n",
      "bone-penn-297\n",
      "bone-penn-298\n",
      "bone-penn-299\n",
      "bone-penn-300\n",
      "bone-penn-304\n",
      "bone-penn-305\n",
      "bone-penn-307\n",
      "bone-penn-311\n",
      "bone-penn-312\n",
      "bone-penn-313\n",
      "bone-penn-314\n",
      "bone-penn-316\n",
      "bone-penn-317\n",
      "bone-penn-319\n",
      "bone-penn-320\n",
      "bone-penn-322\n",
      "bone-penn-328\n",
      "bone-penn-330\n",
      "bone-penn-332\n",
      "bone-penn-335\n",
      "bone-penn-337\n",
      "bone-penn-338\n",
      "bone-penn-339\n",
      "bone-penn-340\n",
      "bone-penn-341\n",
      "bone-penn-342\n",
      "bone-penn-343\n",
      "bone-penn-345\n",
      "bone-penn-346\n",
      "bone-penn-347\n",
      "bone-penn-348\n",
      "bone-penn-349\n",
      "bone-penn-356\n",
      "bone-penn-362\n",
      "bone-penn-363\n",
      "bone-penn-364\n",
      "bone-penn-367\n",
      "bone-penn-368\n",
      "bone-penn-369\n",
      "bone-penn-370\n",
      "bone-penn-372\n",
      "bone-penn-374\n",
      "bone-penn-375\n",
      "bone-penn-379\n",
      "bone-penn-380\n",
      "bone-penn-382\n",
      "bone-penn-384\n",
      "bone-penn-385\n",
      "bone-penn-386\n",
      "bone-penn-388\n",
      "bone-penn-391\n",
      "bone-penn-392\n",
      "bone-penn-396\n",
      "bone-penn-397\n",
      "bone-penn-405\n",
      "bone-penn-413\n",
      "bone-penn-425\n",
      "bone-penn-429\n",
      "bone-penn-433\n",
      "bone-penn-435"
     ]
    },
    {
     "name": "stderr",
     "output_type": "stream",
     "text": [
      " 76%|███████▌  | 454/597 [00:00<00:00, 872.52it/s]"
     ]
    },
    {
     "name": "stdout",
     "output_type": "stream",
     "text": [
      "\n",
      "bone-penn-446\n",
      "bone-penn-453\n",
      "bone-penn-454\n",
      "bone-penn-457\n",
      "bone-penn-458\n",
      "bone-penn-459\n",
      "bone-penn-460\n",
      "bone-penn-461\n",
      "bone-penn-463\n",
      "bone-penn-465\n",
      "bone-penn-467\n",
      "bone-penn-471\n",
      "bone-penn-473\n",
      "bone-penn-476\n",
      "bone-penn-478\n",
      "bone-penn-480\n",
      "bone-penn-482\n",
      "bone-penn-484\n",
      "bone-penn-487\n",
      "bone-penn-489\n",
      "bone-penn-490\n",
      "bone-penn-494\n",
      "bone-penn-495\n",
      "bone-penn-496\n",
      "bone-penn-497\n",
      "bone-penn-501\n",
      "bone-penn-503\n",
      "bone-penn-506\n",
      "bone-penn-509\n",
      "bone-penn-512\n",
      "bone-penn-514\n",
      "bone-penn-515\n",
      "bone-penn-516\n",
      "bone-penn-517\n",
      "bone-penn-518\n",
      "bone-penn-520\n",
      "bone-penn-521\n",
      "bone-penn-522\n",
      "bone-penn-527\n",
      "bone-penn-528\n",
      "bone-penn-529\n",
      "bone-penn-530\n",
      "bone-penn-535\n",
      "bone-penn-536\n",
      "bone-penn-538\n",
      "bone-penn-541\n",
      "bone-penn-546\n",
      "bone-penn-548\n",
      "bone-penn-549\n",
      "bone-penn-551\n",
      "bone-penn-555\n",
      "bone-penn-556\n",
      "bone-penn-561\n",
      "bone-penn-565\n",
      "bone-penn-568\n",
      "bone-penn-571\n",
      "bone-penn-572\n",
      "bone-penn-575\n",
      "bone-penn-577\n",
      "bone-penn-578\n",
      "bone-penn-579\n",
      "bone-penn-585\n",
      "bone-penn-586\n",
      "bone-penn-587\n",
      "bone-penn-588\n",
      "bone-penn-589\n",
      "bone-penn-591\n",
      "bone-penn-592\n",
      "bone-penn-593\n",
      "bone-penn-596\n",
      "bone-penn-597\n",
      "bone-penn-598\n",
      "bone-penn-599\n",
      "bone-penn-600\n",
      "bone-penn-601\n",
      "bone-penn-602\n",
      "bone-penn-603\n",
      "bone-penn-605\n",
      "bone-penn-606\n",
      "bone-penn-609\n",
      "bone-penn-610\n",
      "bone-penn-611\n",
      "bone-penn-613\n",
      "bone-penn-614\n",
      "bone-penn-615\n",
      "bone-penn-616\n",
      "bone-penn-617\n",
      "bone-penn-619\n",
      "bone-penn-620\n",
      "bone-penn-621\n",
      "bone-penn-622\n",
      "bone-penn-623\n",
      "bone-penn-624\n",
      "bone-penn-625\n",
      "bone-penn-626\n",
      "bone-penn-627\n",
      "bone-penn-629\n",
      "bone-penn-630\n",
      "bone-penn-631\n",
      "bone-penn-632\n",
      "bone-penn-633\n",
      "bone-penn-634\n",
      "bone-penn-635\n",
      "bone-penn-636\n",
      "bone-penn-637\n",
      "bone-penn-639\n",
      "bone-penn-640\n",
      "bone-penn-641\n",
      "bone-penn-643\n",
      "bone-penn-648\n",
      "bone-penn-650\n",
      "bone-penn-651\n",
      "bone-penn-652\n",
      "bone-penn-653\n",
      "bone-penn-654\n",
      "bone-hup-101\n",
      "bone-hup-102\n",
      "bone-hup-103\n",
      "bone-hup-104\n",
      "bone-hup-108\n",
      "bone-hup-109\n",
      "bone-hup-111\n",
      "bone-hup-112\n",
      "bone-hup-116\n",
      "bone-hup-118\n",
      "bone-hup-119\n",
      "bone-hup-122\n",
      "bone-hup-123\n",
      "bone-hup-124\n",
      "bone-hup-126\n",
      "bone-hup-128\n",
      "bone-hup-131\n",
      "bone-hup-132\n",
      "bone-hup-133\n",
      "bone-hup-134\n",
      "bone-hup-136\n",
      "bone-hup-138\n",
      "bone-hup-139\n",
      "bone-hup-141\n",
      "bone-hup-142\n",
      "bone-hup-146\n",
      "bone-hup-148\n",
      "bone-hup-150\n",
      "bone-hup-151\n",
      "bone-hup-152\n",
      "bone-hup-154\n",
      "bone-hup-155\n",
      "bone-hup-156\n",
      "bone-hup-158\n",
      "bone-hup-160\n",
      "bone-hup-161\n",
      "bone-hup-168\n",
      "bone-hup-169\n",
      "bone-hup-173\n",
      "bone-hup-177\n",
      "bone-hup-179\n",
      "bone-hup-180\n",
      "bone-hup-188\n",
      "bone-hup-193\n",
      "bone-hup-201\n",
      "bone-hup-203\n",
      "bone-hup-207\n",
      "bone-hup-211\n",
      "bone-hup-213\n",
      "bone-hup-214\n",
      "bone-hup-219\n",
      "bone-hup-225\n",
      "bone-hup-228\n",
      "bone-hup-229"
     ]
    },
    {
     "name": "stderr",
     "output_type": "stream",
     "text": [
      "100%|██████████| 597/597 [00:00<00:00, 862.05it/s]\n",
      "  0%|          | 0/163 [00:00<?, ?it/s]"
     ]
    },
    {
     "name": "stdout",
     "output_type": "stream",
     "text": [
      "\n",
      "bone-hup-23\n",
      "bone-hup-231\n",
      "bone-hup-232\n",
      "bone-hup-234\n",
      "bone-hup-237\n",
      "bone-hup-244\n",
      "bone-hup-248\n",
      "bone-hup-257\n",
      "bone-hup-261\n",
      "bone-hup-262\n",
      "bone-hup-263\n",
      "bone-hup-265\n",
      "bone-hup-266\n",
      "bone-hup-271\n",
      "bone-hup-272\n",
      "bone-hup-275\n",
      "bone-hup-276\n",
      "bone-hup-277\n",
      "bone-hup-279\n",
      "bone-hup-281\n",
      "bone-hup-287\n",
      "bone-hup-290\n",
      "bone-hup-291\n",
      "bone-hup-293\n",
      "bone-hup-296\n",
      "bone-hup-297\n",
      "bone-hup-298\n",
      "bone-hup-299\n",
      "bone-hup-3\n",
      "bone-hup-302\n",
      "bone-hup-305\n",
      "bone-hup-306\n",
      "bone-hup-308\n",
      "bone-hup-310\n",
      "bone-hup-312\n",
      "bone-hup-314\n",
      "bone-hup-316\n",
      "bone-hup-317\n",
      "bone-hup-321\n",
      "bone-hup-325\n",
      "bone-hup-326\n",
      "bone-hup-328\n",
      "bone-hup-330\n",
      "bone-hup-51\n",
      "bone-hup-52\n",
      "bone-hup-53\n",
      "bone-hup-55\n",
      "bone-hup-56\n",
      "bone-hup-59\n",
      "bone-hup-60\n",
      "bone-hup-61\n",
      "bone-hup-62\n",
      "bone-hup-65\n",
      "bone-hup-67\n",
      "bone-hup-69\n",
      "bone-hup-70\n",
      "bone-hup-76\n",
      "bone-hup-78\n",
      "bone-hup-79\n",
      "bone-hup-80\n",
      "bone-hup-81\n",
      "bone-hup-85\n",
      "bone-hup-93\n",
      "bone-hup-94\n",
      "bone-hup-95\n",
      "bone-penn-001\n",
      "bone-penn-005\n",
      "bone-penn-007\n",
      "bone-penn-011\n",
      "bone-penn-014\n",
      "bone-penn-015\n",
      "bone-penn-018\n",
      "bone-penn-019\n",
      "bone-penn-020\n",
      "bone-penn-021\n",
      "bone-penn-022\n",
      "bone-penn-024\n",
      "bone-penn-027\n",
      "bone-penn-029\n",
      "bone-penn-030\n",
      "bone-penn-034\n",
      "bone-penn-036\n",
      "bone-penn-037\n",
      "bone-penn-038\n",
      "bone-penn-039\n",
      "bone-penn-040\n",
      "bone-penn-042\n",
      "bone-penn-045\n",
      "bone-penn-047\n",
      "bone-penn-048\n",
      "bone-penn-051\n",
      "bone-penn-052\n",
      "bone-penn-053\n",
      "bone-penn-054\n",
      "bone-penn-056\n",
      "bone-penn-057\n",
      "bone-penn-058\n",
      "bone-penn-062\n",
      "bone-penn-064\n",
      "bone-penn-068\n",
      "bone-penn-069\n",
      "bone-penn-070\n",
      "bone-penn-071\n",
      "bone-penn-072\n",
      "bone-penn-073\n",
      "bone-penn-074\n",
      "bone-penn-077\n",
      "bone-penn-078\n",
      "bone-penn-079\n",
      "bone-china-001\n",
      "bone-china-003\n",
      "bone-china-016\n",
      "bone-china-017\n",
      "bone-china-025\n",
      "bone-china-026\n",
      "bone-china-030\n",
      "bone-china-034\n",
      "bone-china-036\n",
      "bone-china-040\n",
      "bone-china-043\n",
      "bone-china-049\n",
      "bone-china-054\n",
      "bone-china-057\n",
      "bone-china-073\n",
      "bone-china-077\n",
      "bone-china-078\n",
      "bone-china-091\n",
      "bone-china-112\n",
      "bone-china-119\n",
      "bone-china-120\n",
      "bone-china-128\n",
      "bone-china-129\n",
      "bone-china-139\n",
      "bone-china-147\n",
      "bone-china-151\n",
      "bone-china-155\n",
      "bone-china-162\n",
      "bone-china-163\n",
      "bone-china-165\n",
      "bone-china-168\n",
      "bone-china-173\n",
      "bone-china-179\n",
      "bone-china-195\n",
      "bone-china-201\n",
      "bone-china-204\n",
      "bone-china-210\n",
      "bone-china-211\n",
      "bone-china-226\n",
      "bone-penn-087\n",
      "bone-penn-096\n",
      "bone-penn-101\n",
      "bone-penn-104"
     ]
    },
    {
     "name": "stderr",
     "output_type": "stream",
     "text": [
      "100%|██████████| 163/163 [00:00<00:00, 625.40it/s]"
     ]
    },
    {
     "name": "stdout",
     "output_type": "stream",
     "text": [
      "\n",
      "bone-penn-108\n",
      "bone-penn-115\n",
      "bone-penn-124\n",
      "bone-penn-132\n",
      "bone-penn-143\n",
      "bone-penn-151\n",
      "bone-penn-159\n",
      "bone-penn-165\n",
      "bone-penn-166\n",
      "bone-penn-169\n",
      "bone-penn-176\n",
      "bone-penn-182\n",
      "bone-penn-186\n",
      "bone-penn-203\n",
      "bone-penn-211\n",
      "bone-penn-226\n",
      "bone-penn-234\n",
      "bone-penn-259\n",
      "bone-penn-263\n",
      "bone-penn-265\n",
      "bone-penn-270\n",
      "bone-penn-273\n",
      "bone-penn-274\n",
      "bone-penn-275\n",
      "bone-penn-281\n",
      "bone-penn-309\n",
      "bone-penn-329\n",
      "bone-penn-334\n",
      "bone-penn-378\n",
      "bone-penn-381\n",
      "bone-penn-390\n",
      "bone-penn-401\n",
      "bone-penn-403\n",
      "bone-penn-439\n",
      "bone-penn-456\n",
      "bone-penn-462\n",
      "bone-penn-464\n",
      "bone-penn-466\n",
      "bone-penn-468\n",
      "bone-penn-479\n",
      "bone-penn-481\n",
      "bone-penn-485\n",
      "bone-penn-488\n",
      "bone-penn-491\n",
      "bone-penn-492\n",
      "bone-penn-498\n",
      "bone-penn-500\n",
      "bone-penn-502\n",
      "bone-penn-504\n",
      "bone-penn-508\n",
      "bone-penn-511\n",
      "bone-penn-526\n",
      "bone-penn-532\n",
      "bone-penn-537\n",
      "bone-penn-553\n",
      "bone-penn-564\n",
      "bone-penn-576\n",
      "bone-penn-583\n",
      "bone-penn-584\n",
      "bone-penn-590\n",
      "bone-penn-595\n",
      "bone-penn-607\n",
      "bone-penn-608\n",
      "bone-penn-618\n",
      "bone-penn-628\n",
      "bone-penn-645\n",
      "bone-penn-646\n",
      "bone-penn-647\n",
      "bone-hup-129\n",
      "bone-hup-144\n",
      "bone-hup-145\n",
      "bone-hup-147\n",
      "bone-hup-153\n",
      "bone-hup-157\n",
      "bone-hup-166\n",
      "bone-hup-170\n",
      "bone-hup-176\n",
      "bone-hup-183\n",
      "bone-hup-192\n",
      "bone-hup-196\n",
      "bone-hup-204\n",
      "bone-hup-205\n",
      "bone-hup-216\n",
      "bone-hup-222\n",
      "bone-hup-246\n",
      "bone-hup-292\n",
      "bone-hup-295\n",
      "bone-hup-301\n",
      "bone-hup-303\n",
      "bone-hup-307\n",
      "bone-hup-315\n",
      "bone-hup-320\n",
      "bone-hup-322\n",
      "bone-hup-327\n",
      "bone-hup-329\n",
      "bone-hup-48\n",
      "bone-hup-54\n",
      "bone-hup-72\n",
      "bone-hup-73\n",
      "bone-hup-77\n",
      "bone-hup-89\n",
      "bone-penn-002\n",
      "bone-penn-004\n",
      "bone-penn-010\n",
      "bone-penn-013\n",
      "bone-penn-017\n",
      "bone-penn-026\n",
      "bone-penn-028\n",
      "bone-penn-031\n",
      "bone-penn-032\n",
      "bone-penn-035\n",
      "bone-penn-041\n",
      "bone-penn-044\n",
      "bone-penn-055\n",
      "bone-penn-059\n",
      "bone-penn-061\n",
      "bone-penn-063\n",
      "bone-penn-065\n",
      "bone-penn-067\n",
      "bone-penn-075\n"
     ]
    },
    {
     "name": "stderr",
     "output_type": "stream",
     "text": [
      "\n",
      "100%|██████████| 92/92 [00:00<00:00, 749.68it/s]\n"
     ]
    },
    {
     "name": "stdout",
     "output_type": "stream",
     "text": [
      "bone-china-007\n",
      "bone-china-012\n",
      "bone-china-013\n",
      "bone-china-018\n",
      "bone-china-063\n",
      "bone-china-064\n",
      "bone-china-067\n",
      "bone-china-082\n",
      "bone-china-090\n",
      "bone-china-094\n",
      "bone-china-130\n",
      "bone-china-137\n",
      "bone-china-141\n",
      "bone-china-142\n",
      "bone-china-150\n",
      "bone-china-156\n",
      "bone-china-157\n",
      "bone-china-181\n",
      "bone-china-182\n",
      "bone-china-202\n",
      "bone-china-206\n",
      "bone-china-208\n",
      "bone-china-229\n",
      "bone-china-232\n",
      "bone-china-233\n",
      "bone-china-235\n",
      "bone-china-241\n",
      "bone-penn-080\n",
      "bone-penn-102\n",
      "bone-penn-103\n",
      "bone-penn-117\n",
      "bone-penn-135\n",
      "bone-penn-145\n",
      "bone-penn-175\n",
      "bone-penn-184\n",
      "bone-penn-185\n",
      "bone-penn-202\n",
      "bone-penn-229\n",
      "bone-penn-233\n",
      "bone-penn-271\n",
      "bone-penn-290\n",
      "bone-penn-295\n",
      "bone-penn-326\n",
      "bone-penn-366\n",
      "bone-penn-383\n",
      "bone-penn-387\n",
      "bone-penn-389\n",
      "bone-penn-393\n",
      "bone-penn-407\n",
      "bone-penn-432\n",
      "bone-penn-469\n",
      "bone-penn-470\n",
      "bone-penn-475\n",
      "bone-penn-486\n",
      "bone-penn-493\n",
      "bone-penn-499\n",
      "bone-penn-505\n",
      "bone-penn-510\n",
      "bone-penn-513\n",
      "bone-penn-519\n",
      "bone-penn-524\n",
      "bone-penn-539\n",
      "bone-penn-540\n",
      "bone-penn-544\n",
      "bone-penn-547\n",
      "bone-penn-554\n",
      "bone-penn-557\n",
      "bone-penn-566\n",
      "bone-penn-569\n",
      "bone-penn-574\n",
      "bone-penn-582\n",
      "bone-penn-594\n",
      "bone-penn-638\n",
      "bone-penn-649\n",
      "bone-hup-114\n",
      "bone-hup-120\n",
      "bone-hup-130\n",
      "bone-hup-137\n",
      "bone-hup-143\n",
      "bone-hup-164\n",
      "bone-hup-182\n",
      "bone-hup-190\n",
      "bone-hup-195\n",
      "bone-hup-236\n",
      "bone-hup-238\n",
      "bone-hup-294\n",
      "bone-hup-300\n",
      "bone-hup-311\n",
      "bone-hup-313\n",
      "bone-hup-318\n",
      "bone-hup-50\n",
      "bone-hup-90\n",
      "597\n",
      "92\n",
      "163\n",
      "Training points = 597\n",
      "Benign: 347, Intermediate: 250, Malignant: 0\n",
      "\n",
      "Validation points = 163\n",
      "Benign: 98, Intermediate: 65, Malignant: 0\n",
      "\n",
      "Testing points = 92\n",
      "Benign: 53, Intermediate: 39, Malignant: 0\n"
     ]
    },
    {
     "name": "stderr",
     "output_type": "stream",
     "text": [
      " 10%|▉         | 57/597 [00:00<00:00, 561.89it/s]"
     ]
    },
    {
     "name": "stdout",
     "output_type": "stream",
     "text": [
      "bone-china-002\n",
      "bone-china-004\n",
      "bone-china-005\n",
      "bone-china-006\n",
      "bone-china-008\n",
      "bone-china-009\n",
      "bone-china-010\n",
      "bone-china-014\n",
      "bone-china-015\n",
      "bone-china-019\n",
      "bone-china-020\n",
      "bone-china-021\n",
      "bone-china-022\n",
      "bone-china-023\n",
      "bone-china-027\n",
      "bone-china-028\n",
      "bone-china-029\n",
      "bone-china-031\n",
      "bone-china-032\n",
      "bone-china-033\n",
      "bone-china-035\n",
      "bone-china-037\n",
      "bone-china-038\n",
      "bone-china-039\n",
      "bone-china-041\n",
      "bone-china-042\n",
      "bone-china-044\n",
      "bone-china-045\n",
      "bone-china-046\n",
      "bone-china-047\n",
      "bone-china-050\n",
      "bone-china-051\n",
      "bone-china-052\n",
      "bone-china-053\n",
      "bone-china-055\n",
      "bone-china-056\n",
      "bone-china-058\n",
      "bone-china-059\n",
      "bone-china-060\n",
      "bone-china-061\n",
      "bone-china-062\n",
      "bone-china-065\n",
      "bone-china-066\n",
      "bone-china-068\n",
      "bone-china-069\n",
      "bone-china-070\n",
      "bone-china-071\n",
      "bone-china-072\n",
      "bone-china-074\n",
      "bone-china-075\n",
      "bone-china-076\n",
      "bone-china-079\n",
      "bone-china-080\n",
      "bone-china-081\n",
      "bone-china-083\n",
      "bone-china-084\n",
      "bone-china-085\n",
      "bone-china-086\n",
      "bone-china-087\n",
      "bone-china-088\n",
      "bone-china-089\n",
      "bone-china-092\n",
      "bone-china-093\n",
      "bone-china-099\n",
      "bone-china-100\n",
      "bone-china-101\n",
      "bone-china-103\n",
      "bone-china-104\n",
      "bone-china-105\n",
      "bone-china-107\n",
      "bone-china-109\n",
      "bone-china-110\n",
      "bone-china-113\n",
      "bone-china-114\n",
      "bone-china-115\n",
      "bone-china-117\n",
      "bone-china-118\n",
      "bone-china-121\n",
      "bone-china-122\n",
      "bone-china-123\n",
      "bone-china-124\n",
      "bone-china-125\n",
      "bone-china-126\n",
      "bone-china-127\n",
      "bone-china-131\n",
      "bone-china-132\n",
      "bone-china-133\n",
      "bone-china-134\n",
      "bone-china-135\n",
      "bone-china-136\n",
      "bone-china-138\n",
      "bone-china-140\n",
      "bone-china-143\n",
      "bone-china-145\n",
      "bone-china-146\n",
      "bone-china-148\n",
      "bone-china-149\n",
      "bone-china-152\n",
      "bone-china-153\n",
      "bone-china-154\n",
      "bone-china-158\n",
      "bone-china-159\n",
      "bone-china-160\n",
      "bone-china-161\n",
      "bone-china-164\n",
      "bone-china-166\n",
      "bone-china-167\n",
      "bone-china-169\n",
      "bone-china-170\n",
      "bone-china-174\n",
      "bone-china-175\n",
      "bone-china-176\n",
      "bone-china-177\n",
      "bone-china-180\n",
      "bone-china-184\n",
      "bone-china-186\n",
      "bone-china-187\n",
      "bone-china-188\n",
      "bone-china-189\n",
      "bone-china-190\n",
      "bone-china-192\n",
      "bone-china-193\n",
      "bone-china-194\n",
      "bone-china-196\n",
      "bone-china-198\n",
      "bone-china-199\n",
      "bone-china-203\n",
      "bone-china-209\n",
      "bone-china-212\n",
      "bone-china-213\n",
      "bone-china-215\n",
      "bone-china-216\n",
      "bone-china-217\n",
      "bone-china-221\n",
      "bone-china-222\n",
      "bone-china-223\n",
      "bone-china-225\n",
      "bone-china-228\n",
      "bone-china-231\n",
      "bone-china-234\n",
      "bone-china-242\n",
      "bone-china-243\n"
     ]
    },
    {
     "name": "stderr",
     "output_type": "stream",
     "text": [
      " 30%|██▉       | 179/597 [00:00<00:00, 487.54it/s]"
     ]
    },
    {
     "name": "stdout",
     "output_type": "stream",
     "text": [
      "bone-penn-081\n",
      "bone-penn-082\n",
      "bone-penn-083\n",
      "bone-penn-084\n",
      "bone-penn-085\n",
      "bone-penn-086\n",
      "bone-penn-090\n",
      "bone-penn-091\n",
      "bone-penn-092\n",
      "bone-penn-093\n",
      "bone-penn-094\n",
      "bone-penn-095\n",
      "bone-penn-097\n",
      "bone-penn-099\n",
      "bone-penn-105\n",
      "bone-penn-106\n",
      "bone-penn-107\n",
      "bone-penn-109\n",
      "bone-penn-110\n",
      "bone-penn-111\n",
      "bone-penn-112\n",
      "bone-penn-113\n",
      "bone-penn-116\n",
      "bone-penn-118\n",
      "bone-penn-119\n",
      "bone-penn-120\n",
      "bone-penn-122\n",
      "bone-penn-126\n",
      "bone-penn-130\n",
      "bone-penn-131\n",
      "bone-penn-134\n",
      "bone-penn-137\n",
      "bone-penn-139\n",
      "bone-penn-140\n",
      "bone-penn-141\n",
      "bone-penn-142\n",
      "bone-penn-147\n",
      "bone-penn-148\n",
      "bone-penn-149\n",
      "bone-penn-150\n",
      "bone-penn-152\n",
      "bone-penn-154\n",
      "bone-penn-155\n",
      "bone-penn-156\n",
      "bone-penn-157\n",
      "bone-penn-160\n",
      "bone-penn-161\n",
      "bone-penn-162\n",
      "bone-penn-163\n",
      "bone-penn-167\n",
      "bone-penn-168\n",
      "bone-penn-170\n",
      "bone-penn-171\n",
      "bone-penn-172\n",
      "bone-penn-173\n",
      "bone-penn-174\n",
      "bone-penn-178\n",
      "bone-penn-179\n",
      "bone-penn-180\n",
      "bone-penn-183\n",
      "bone-penn-187\n",
      "bone-penn-188\n",
      "bone-penn-189\n",
      "bone-penn-191\n",
      "bone-penn-192\n",
      "bone-penn-193\n",
      "bone-penn-194\n",
      "bone-penn-197\n",
      "bone-penn-198\n",
      "bone-penn-200\n",
      "bone-penn-205\n",
      "bone-penn-206\n",
      "bone-penn-207\n",
      "bone-penn-209\n",
      "bone-penn-210\n",
      "bone-penn-214\n",
      "bone-penn-217\n",
      "bone-penn-218\n",
      "bone-penn-219\n",
      "bone-penn-220\n",
      "bone-penn-222\n",
      "bone-penn-223\n",
      "bone-penn-224\n",
      "bone-penn-227\n",
      "bone-penn-231\n",
      "bone-penn-236\n",
      "bone-penn-238\n",
      "bone-penn-239\n",
      "bone-penn-241\n",
      "bone-penn-245\n",
      "bone-penn-246\n",
      "bone-penn-247\n",
      "bone-penn-250\n",
      "bone-penn-252\n",
      "bone-penn-253\n",
      "bone-penn-254\n",
      "bone-penn-255\n",
      "bone-penn-257\n",
      "bone-penn-260\n",
      "bone-penn-261\n",
      "bone-penn-262\n",
      "bone-penn-266\n",
      "bone-penn-268\n",
      "bone-penn-269\n",
      "bone-penn-277\n",
      "bone-penn-278\n",
      "bone-penn-279\n",
      "bone-penn-280\n",
      "bone-penn-282\n",
      "bone-penn-283\n",
      "bone-penn-285\n",
      "bone-penn-286\n",
      "bone-penn-289\n",
      "bone-penn-291\n",
      "bone-penn-292\n",
      "bone-penn-293\n",
      "bone-penn-296\n",
      "bone-penn-297\n",
      "bone-penn-298\n",
      "bone-penn-299\n",
      "bone-penn-300\n",
      "bone-penn-304\n",
      "bone-penn-305\n",
      "bone-penn-307\n",
      "bone-penn-311\n",
      "bone-penn-312\n",
      "bone-penn-313\n",
      "bone-penn-314\n",
      "bone-penn-316\n",
      "bone-penn-317\n",
      "bone-penn-319"
     ]
    },
    {
     "name": "stderr",
     "output_type": "stream",
     "text": [
      " 56%|█████▌    | 333/597 [00:00<00:00, 480.76it/s]"
     ]
    },
    {
     "name": "stdout",
     "output_type": "stream",
     "text": [
      "\n",
      "bone-penn-320\n",
      "bone-penn-322\n",
      "bone-penn-328\n",
      "bone-penn-330\n",
      "bone-penn-332\n",
      "bone-penn-335\n",
      "bone-penn-337\n",
      "bone-penn-338\n",
      "bone-penn-339\n",
      "bone-penn-340\n",
      "bone-penn-341\n",
      "bone-penn-342\n",
      "bone-penn-343\n",
      "bone-penn-345\n",
      "bone-penn-346\n",
      "bone-penn-347\n",
      "bone-penn-348\n",
      "bone-penn-349\n",
      "bone-penn-356\n",
      "bone-penn-362\n",
      "bone-penn-363\n",
      "bone-penn-364\n",
      "bone-penn-367\n",
      "bone-penn-368\n",
      "bone-penn-369\n",
      "bone-penn-370\n",
      "bone-penn-372\n",
      "bone-penn-374\n",
      "bone-penn-375\n",
      "bone-penn-379\n",
      "bone-penn-380\n",
      "bone-penn-382\n",
      "bone-penn-384\n",
      "bone-penn-385\n",
      "bone-penn-386\n",
      "bone-penn-388\n",
      "bone-penn-391\n",
      "bone-penn-392\n",
      "bone-penn-396\n",
      "bone-penn-397\n",
      "bone-penn-405\n",
      "bone-penn-413\n",
      "bone-penn-425\n",
      "bone-penn-429\n",
      "bone-penn-433\n",
      "bone-penn-435\n",
      "bone-penn-446\n",
      "bone-penn-453\n",
      "bone-penn-454\n",
      "bone-penn-457\n",
      "bone-penn-458\n",
      "bone-penn-459\n",
      "bone-penn-460\n",
      "bone-penn-461\n",
      "bone-penn-463\n",
      "bone-penn-465\n",
      "bone-penn-467\n",
      "bone-penn-471\n",
      "bone-penn-473\n",
      "bone-penn-476\n",
      "bone-penn-478\n",
      "bone-penn-480\n",
      "bone-penn-482\n",
      "bone-penn-484\n",
      "bone-penn-487\n",
      "bone-penn-489\n",
      "bone-penn-490\n",
      "bone-penn-494\n",
      "bone-penn-495\n",
      "bone-penn-496\n",
      "bone-penn-497\n",
      "bone-penn-501\n",
      "bone-penn-503\n",
      "bone-penn-506\n",
      "bone-penn-509\n",
      "bone-penn-512"
     ]
    },
    {
     "name": "stderr",
     "output_type": "stream",
     "text": [
      " 76%|███████▌  | 454/597 [00:00<00:00, 520.67it/s]"
     ]
    },
    {
     "name": "stdout",
     "output_type": "stream",
     "text": [
      "\n",
      "bone-penn-514\n",
      "bone-penn-515\n",
      "bone-penn-516\n",
      "bone-penn-517\n",
      "bone-penn-518\n",
      "bone-penn-520\n",
      "bone-penn-521\n",
      "bone-penn-522\n",
      "bone-penn-527\n",
      "bone-penn-528\n",
      "bone-penn-529\n",
      "bone-penn-530\n",
      "bone-penn-535\n",
      "bone-penn-536\n",
      "bone-penn-538\n",
      "bone-penn-541\n",
      "bone-penn-546\n",
      "bone-penn-548\n",
      "bone-penn-549\n",
      "bone-penn-551\n",
      "bone-penn-555\n",
      "bone-penn-556\n",
      "bone-penn-561\n",
      "bone-penn-565\n",
      "bone-penn-568\n",
      "bone-penn-571\n",
      "bone-penn-572\n",
      "bone-penn-575\n",
      "bone-penn-577\n",
      "bone-penn-578\n",
      "bone-penn-579\n",
      "bone-penn-585\n",
      "bone-penn-586\n",
      "bone-penn-587\n",
      "bone-penn-588\n",
      "bone-penn-589\n",
      "bone-penn-591\n",
      "bone-penn-592\n",
      "bone-penn-593\n",
      "bone-penn-596\n",
      "bone-penn-597\n",
      "bone-penn-598\n",
      "bone-penn-599\n",
      "bone-penn-600\n",
      "bone-penn-601\n",
      "bone-penn-602\n",
      "bone-penn-603\n",
      "bone-penn-605\n",
      "bone-penn-606\n",
      "bone-penn-609\n",
      "bone-penn-610\n",
      "bone-penn-611\n",
      "bone-penn-613\n",
      "bone-penn-614\n",
      "bone-penn-615\n",
      "bone-penn-616\n",
      "bone-penn-617\n",
      "bone-penn-619\n",
      "bone-penn-620\n",
      "bone-penn-621\n",
      "bone-penn-622\n",
      "bone-penn-623\n",
      "bone-penn-624\n",
      "bone-penn-625\n",
      "bone-penn-626\n",
      "bone-penn-627\n",
      "bone-penn-629\n",
      "bone-penn-630\n",
      "bone-penn-631\n",
      "bone-penn-632\n",
      "bone-penn-633\n",
      "bone-penn-634\n",
      "bone-penn-635\n",
      "bone-penn-636\n",
      "bone-penn-637\n",
      "bone-penn-639\n",
      "bone-penn-640\n",
      "bone-penn-641\n",
      "bone-penn-643\n",
      "bone-penn-648\n",
      "bone-penn-650\n",
      "bone-penn-651\n",
      "bone-penn-652\n",
      "bone-penn-653\n",
      "bone-penn-654\n",
      "bone-hup-101\n",
      "bone-hup-102\n",
      "bone-hup-103\n",
      "bone-hup-104\n",
      "bone-hup-108\n",
      "bone-hup-109\n",
      "bone-hup-111\n",
      "bone-hup-112\n",
      "bone-hup-116\n",
      "bone-hup-118\n",
      "bone-hup-119\n",
      "bone-hup-122\n",
      "bone-hup-123\n",
      "bone-hup-124\n",
      "bone-hup-126\n",
      "bone-hup-128\n",
      "bone-hup-131\n",
      "bone-hup-132\n",
      "bone-hup-133\n",
      "bone-hup-134\n",
      "bone-hup-136\n",
      "bone-hup-138\n",
      "bone-hup-139\n",
      "bone-hup-141\n",
      "bone-hup-142\n",
      "bone-hup-146\n",
      "bone-hup-148\n",
      "bone-hup-150\n"
     ]
    },
    {
     "name": "stderr",
     "output_type": "stream",
     "text": [
      "\r",
      " 85%|████████▌ | 508/597 [00:00<00:00, 490.76it/s]"
     ]
    },
    {
     "name": "stdout",
     "output_type": "stream",
     "text": [
      "bone-hup-151\n",
      "bone-hup-152\n",
      "bone-hup-154\n",
      "bone-hup-155\n",
      "bone-hup-156\n",
      "bone-hup-158\n",
      "bone-hup-160\n",
      "bone-hup-161\n",
      "bone-hup-168\n",
      "bone-hup-169\n",
      "bone-hup-173\n",
      "bone-hup-177\n",
      "bone-hup-179\n",
      "bone-hup-180\n",
      "bone-hup-188\n",
      "bone-hup-193\n",
      "bone-hup-201\n",
      "bone-hup-203\n",
      "bone-hup-207\n",
      "bone-hup-211\n",
      "bone-hup-213\n",
      "bone-hup-214\n",
      "bone-hup-219\n",
      "bone-hup-225\n",
      "bone-hup-228\n",
      "bone-hup-229\n",
      "bone-hup-23\n",
      "bone-hup-231\n",
      "bone-hup-232\n",
      "bone-hup-234\n",
      "bone-hup-237\n",
      "bone-hup-244\n",
      "bone-hup-248\n",
      "bone-hup-257\n",
      "bone-hup-261\n",
      "bone-hup-262\n",
      "bone-hup-263\n",
      "bone-hup-265\n",
      "bone-hup-266\n",
      "bone-hup-271\n",
      "bone-hup-272\n",
      "bone-hup-275\n",
      "bone-hup-276\n",
      "bone-hup-277\n",
      "bone-hup-279\n",
      "bone-hup-281\n",
      "bone-hup-287\n",
      "bone-hup-290\n",
      "bone-hup-291\n",
      "bone-hup-293\n",
      "bone-hup-296\n",
      "bone-hup-297\n",
      "bone-hup-298\n",
      "bone-hup-299\n",
      "bone-hup-3\n",
      "bone-hup-302\n",
      "bone-hup-305\n",
      "bone-hup-306\n",
      "bone-hup-308\n",
      "bone-hup-310\n",
      "bone-hup-312\n",
      "bone-hup-314\n",
      "bone-hup-316\n",
      "bone-hup-317\n",
      "bone-hup-321\n",
      "bone-hup-325\n",
      "bone-hup-326\n",
      "bone-hup-328\n",
      "bone-hup-330\n",
      "bone-hup-51\n",
      "bone-hup-52\n",
      "bone-hup-53\n",
      "bone-hup-55\n",
      "bone-hup-56\n",
      "bone-hup-59\n",
      "bone-hup-60\n",
      "bone-hup-61\n",
      "bone-hup-62\n",
      "bone-hup-65\n",
      "bone-hup-67\n",
      "bone-hup-69\n",
      "bone-hup-70\n"
     ]
    },
    {
     "name": "stderr",
     "output_type": "stream",
     "text": [
      "100%|██████████| 597/597 [00:01<00:00, 534.65it/s]\n",
      " 94%|█████████▍| 154/163 [00:00<00:00, 1535.74it/s]"
     ]
    },
    {
     "name": "stdout",
     "output_type": "stream",
     "text": [
      "bone-hup-76\n",
      "bone-hup-78\n",
      "bone-hup-79\n",
      "bone-hup-80\n",
      "bone-hup-81\n",
      "bone-hup-85\n",
      "bone-hup-93\n",
      "bone-hup-94\n",
      "bone-hup-95\n",
      "bone-penn-001\n",
      "bone-penn-005\n",
      "bone-penn-007\n",
      "bone-penn-011\n",
      "bone-penn-014\n",
      "bone-penn-015\n",
      "bone-penn-018\n",
      "bone-penn-019\n",
      "bone-penn-020\n",
      "bone-penn-021\n",
      "bone-penn-022\n",
      "bone-penn-024\n",
      "bone-penn-027\n",
      "bone-penn-029\n",
      "bone-penn-030\n",
      "bone-penn-034\n",
      "bone-penn-036\n",
      "bone-penn-037\n",
      "bone-penn-038\n",
      "bone-penn-039\n",
      "bone-penn-040\n",
      "bone-penn-042\n",
      "bone-penn-045\n",
      "bone-penn-047\n",
      "bone-penn-048\n",
      "bone-penn-051\n",
      "bone-penn-052\n",
      "bone-penn-053\n",
      "bone-penn-054\n",
      "bone-penn-056\n",
      "bone-penn-057\n",
      "bone-penn-058\n",
      "bone-penn-062\n",
      "bone-penn-064\n",
      "bone-penn-068\n",
      "bone-penn-069\n",
      "bone-penn-070\n",
      "bone-penn-071\n",
      "bone-penn-072\n",
      "bone-penn-073\n",
      "bone-penn-074\n",
      "bone-penn-077\n",
      "bone-penn-078\n",
      "bone-penn-079\n",
      "bone-china-001\n",
      "bone-china-003\n",
      "bone-china-016\n",
      "bone-china-017\n",
      "bone-china-025\n",
      "bone-china-026\n",
      "bone-china-030\n",
      "bone-china-034\n",
      "bone-china-036\n",
      "bone-china-040\n",
      "bone-china-043\n",
      "bone-china-049\n",
      "bone-china-054\n",
      "bone-china-057\n",
      "bone-china-073\n",
      "bone-china-077\n",
      "bone-china-078\n",
      "bone-china-091\n",
      "bone-china-112\n",
      "bone-china-119\n",
      "bone-china-120\n",
      "bone-china-128\n",
      "bone-china-129\n",
      "bone-china-139\n",
      "bone-china-147\n",
      "bone-china-151\n",
      "bone-china-155\n",
      "bone-china-162\n",
      "bone-china-163\n",
      "bone-china-165\n",
      "bone-china-168\n",
      "bone-china-173\n",
      "bone-china-179\n",
      "bone-china-195\n",
      "bone-china-201\n",
      "bone-china-204\n",
      "bone-china-210\n",
      "bone-china-211\n",
      "bone-china-226\n",
      "bone-penn-087\n",
      "bone-penn-096\n",
      "bone-penn-101\n",
      "bone-penn-104\n",
      "bone-penn-108\n",
      "bone-penn-115\n",
      "bone-penn-124\n",
      "bone-penn-132\n",
      "bone-penn-143\n",
      "bone-penn-151\n",
      "bone-penn-159\n",
      "bone-penn-165\n",
      "bone-penn-166\n",
      "bone-penn-169\n",
      "bone-penn-176\n",
      "bone-penn-182\n",
      "bone-penn-186\n",
      "bone-penn-203\n",
      "bone-penn-211\n",
      "bone-penn-226\n",
      "bone-penn-234\n",
      "bone-penn-259\n",
      "bone-penn-263\n",
      "bone-penn-265\n",
      "bone-penn-270\n",
      "bone-penn-273\n",
      "bone-penn-274\n",
      "bone-penn-275\n",
      "bone-penn-281\n",
      "bone-penn-309\n",
      "bone-penn-329\n",
      "bone-penn-334\n",
      "bone-penn-378\n",
      "bone-penn-381\n",
      "bone-penn-390\n",
      "bone-penn-401\n",
      "bone-penn-403\n",
      "bone-penn-439\n",
      "bone-penn-456\n",
      "bone-penn-462\n",
      "bone-penn-464\n",
      "bone-penn-466\n",
      "bone-penn-468\n",
      "bone-penn-479\n",
      "bone-penn-481\n",
      "bone-penn-485\n",
      "bone-penn-488\n",
      "bone-penn-491\n",
      "bone-penn-492\n",
      "bone-penn-498\n",
      "bone-penn-500\n",
      "bone-penn-502\n",
      "bone-penn-504\n",
      "bone-penn-508\n",
      "bone-penn-511\n",
      "bone-penn-526\n",
      "bone-penn-532\n",
      "bone-penn-537\n",
      "bone-penn-553\n",
      "bone-penn-564\n",
      "bone-penn-576\n",
      "bone-penn-583\n",
      "bone-penn-584\n",
      "bone-penn-590\n",
      "bone-penn-595\n",
      "bone-penn-607\n",
      "bone-penn-608\n",
      "bone-penn-618\n",
      "bone-penn-628\n",
      "bone-penn-645\n",
      "bone-penn-646\n",
      "bone-penn-647\n",
      "bone-hup-129\n",
      "bone-hup-144\n",
      "bone-hup-145\n",
      "bone-hup-147\n",
      "bone-hup-153\n",
      "bone-hup-157\n",
      "bone-hup-166\n",
      "bone-hup-170\n",
      "bone-hup-176\n",
      "bone-hup-183\n",
      "bone-hup-192\n",
      "bone-hup-196\n",
      "bone-hup-204\n",
      "bone-hup-205\n",
      "bone-hup-216\n",
      "bone-hup-222\n",
      "bone-hup-246\n",
      "bone-hup-292\n",
      "bone-hup-295\n",
      "bone-hup-301\n",
      "bone-hup-303\n",
      "bone-hup-307\n",
      "bone-hup-315\n",
      "bone-hup-320\n",
      "bone-hup-322\n",
      "bone-hup-327\n",
      "bone-hup-329\n",
      "bone-hup-48\n",
      "bone-hup-54\n",
      "bone-hup-72\n",
      "bone-hup-73\n",
      "bone-hup-77\n",
      "bone-hup-89\n",
      "bone-penn-002\n",
      "bone-penn-004\n",
      "bone-penn-010\n",
      "bone-penn-013\n",
      "bone-penn-017\n",
      "bone-penn-026\n",
      "bone-penn-028\n",
      "bone-penn-031\n",
      "bone-penn-032\n",
      "bone-penn-035\n",
      "bone-penn-041\n",
      "bone-penn-044\n",
      "bone-penn-055\n",
      "bone-penn-059\n",
      "bone-penn-061\n",
      "bone-penn-063\n",
      "bone-penn-065\n",
      "bone-penn-067\n",
      "bone-penn-075\n"
     ]
    },
    {
     "name": "stderr",
     "output_type": "stream",
     "text": [
      "100%|██████████| 163/163 [00:00<00:00, 1434.68it/s]\n",
      "100%|██████████| 92/92 [00:00<00:00, 610.50it/s]\n"
     ]
    },
    {
     "name": "stdout",
     "output_type": "stream",
     "text": [
      "bone-china-007\n",
      "bone-china-012\n",
      "bone-china-013\n",
      "bone-china-018\n",
      "bone-china-063\n",
      "bone-china-064\n",
      "bone-china-067\n",
      "bone-china-082\n",
      "bone-china-090\n",
      "bone-china-094\n",
      "bone-china-130\n",
      "bone-china-137\n",
      "bone-china-141\n",
      "bone-china-142\n",
      "bone-china-150\n",
      "bone-china-156\n",
      "bone-china-157\n",
      "bone-china-181\n",
      "bone-china-182\n",
      "bone-china-202\n",
      "bone-china-206\n",
      "bone-china-208\n",
      "bone-china-229\n",
      "bone-china-232\n",
      "bone-china-233\n",
      "bone-china-235\n",
      "bone-china-241\n",
      "bone-penn-080\n",
      "bone-penn-102\n",
      "bone-penn-103\n",
      "bone-penn-117\n",
      "bone-penn-135\n",
      "bone-penn-145\n",
      "bone-penn-175\n",
      "bone-penn-184\n",
      "bone-penn-185\n",
      "bone-penn-202\n",
      "bone-penn-229\n",
      "bone-penn-233\n",
      "bone-penn-271\n",
      "bone-penn-290\n",
      "bone-penn-295\n",
      "bone-penn-326\n",
      "bone-penn-366\n",
      "bone-penn-383\n",
      "bone-penn-387\n",
      "bone-penn-389\n",
      "bone-penn-393\n",
      "bone-penn-407\n",
      "bone-penn-432\n",
      "bone-penn-469\n",
      "bone-penn-470\n",
      "bone-penn-475\n",
      "bone-penn-486\n",
      "bone-penn-493\n",
      "bone-penn-499\n",
      "bone-penn-505\n",
      "bone-penn-510\n",
      "bone-penn-513\n",
      "bone-penn-519\n",
      "bone-penn-524\n",
      "bone-penn-539\n",
      "bone-penn-540\n",
      "bone-penn-544\n",
      "bone-penn-547\n",
      "bone-penn-554\n",
      "bone-penn-557\n",
      "bone-penn-566\n",
      "bone-penn-569\n",
      "bone-penn-574\n",
      "bone-penn-582\n",
      "bone-penn-594\n",
      "bone-penn-638\n",
      "bone-penn-649\n",
      "bone-hup-114\n",
      "bone-hup-120\n",
      "bone-hup-130\n",
      "bone-hup-137\n",
      "bone-hup-143\n",
      "bone-hup-164\n",
      "bone-hup-182\n",
      "bone-hup-190\n",
      "bone-hup-195\n",
      "bone-hup-236\n",
      "bone-hup-238\n",
      "bone-hup-294\n",
      "bone-hup-300\n",
      "bone-hup-311\n",
      "bone-hup-313\n",
      "bone-hup-318\n",
      "bone-hup-50\n",
      "bone-hup-90\n",
      "597\n",
      "92\n",
      "163\n",
      "Training points = 597\n",
      "Benign: 347, Intermediate: 250, Malignant: 0"
     ]
    },
    {
     "name": "stderr",
     "output_type": "stream",
     "text": [
      "\r",
      "  0%|          | 0/597 [00:00<?, ?it/s]"
     ]
    },
    {
     "name": "stdout",
     "output_type": "stream",
     "text": [
      "\n",
      "\n",
      "Validation points = 163\n",
      "Benign: 98, Intermediate: 65, Malignant: 0\n",
      "\n",
      "Testing points = 92\n",
      "Benign: 53, Intermediate: 39, Malignant: 0\n",
      "bone-china-002\n",
      "I'm doing the thing.\n"
     ]
    },
    {
     "name": "stderr",
     "output_type": "stream",
     "text": [
      "  0%|          | 2/597 [00:00<04:54,  2.02it/s]"
     ]
    },
    {
     "name": "stdout",
     "output_type": "stream",
     "text": [
      "bone-china-004\n",
      "I'm doing the thing.\n",
      "bone-china-005\n",
      "I'm doing the thing.\n"
     ]
    },
    {
     "name": "stderr",
     "output_type": "stream",
     "text": [
      "  1%|          | 4/597 [00:00<02:57,  3.35it/s]"
     ]
    },
    {
     "name": "stdout",
     "output_type": "stream",
     "text": [
      "bone-china-006\n",
      "I'm doing the thing.\n",
      "bone-china-008\n",
      "I'm doing the thing.\n"
     ]
    },
    {
     "name": "stderr",
     "output_type": "stream",
     "text": [
      "  1%|          | 6/597 [00:01<02:21,  4.18it/s]"
     ]
    },
    {
     "name": "stdout",
     "output_type": "stream",
     "text": [
      "bone-china-009\n",
      "I'm doing the thing.\n",
      "bone-china-010\n",
      "I'm doing the thing.\n"
     ]
    },
    {
     "name": "stderr",
     "output_type": "stream",
     "text": [
      "  1%|▏         | 8/597 [00:01<02:01,  4.86it/s]"
     ]
    },
    {
     "name": "stdout",
     "output_type": "stream",
     "text": [
      "bone-china-014\n",
      "I'm doing the thing.\n",
      "bone-china-015\n",
      "I'm doing the thing.\n"
     ]
    },
    {
     "name": "stderr",
     "output_type": "stream",
     "text": [
      "  2%|▏         | 10/597 [00:02<02:09,  4.54it/s]"
     ]
    },
    {
     "name": "stdout",
     "output_type": "stream",
     "text": [
      "bone-china-019\n",
      "I'm doing the thing.\n",
      "bone-china-020\n",
      "I'm doing the thing.\n"
     ]
    },
    {
     "name": "stderr",
     "output_type": "stream",
     "text": [
      "  2%|▏         | 12/597 [00:02<01:51,  5.23it/s]"
     ]
    },
    {
     "name": "stdout",
     "output_type": "stream",
     "text": [
      "bone-china-021\n",
      "I'm doing the thing.\n",
      "bone-china-022\n",
      "I'm doing the thing.\n"
     ]
    },
    {
     "name": "stderr",
     "output_type": "stream",
     "text": [
      "\r",
      "  2%|▏         | 13/597 [00:02<01:56,  5.02it/s]"
     ]
    },
    {
     "name": "stdout",
     "output_type": "stream",
     "text": [
      "bone-china-023\n",
      "I'm doing the thing.\n"
     ]
    },
    {
     "name": "stderr",
     "output_type": "stream",
     "text": [
      "\r",
      "  2%|▏         | 14/597 [00:03<02:03,  4.73it/s]"
     ]
    },
    {
     "name": "stdout",
     "output_type": "stream",
     "text": [
      "bone-china-027\n",
      "I'm doing the thing.\n"
     ]
    },
    {
     "name": "stderr",
     "output_type": "stream",
     "text": [
      "\r",
      "  3%|▎         | 15/597 [00:03<02:37,  3.69it/s]"
     ]
    },
    {
     "name": "stdout",
     "output_type": "stream",
     "text": [
      "bone-china-028\n",
      "I'm doing the thing.\n"
     ]
    },
    {
     "name": "stderr",
     "output_type": "stream",
     "text": [
      "\r",
      "  3%|▎         | 16/597 [00:03<02:31,  3.84it/s]"
     ]
    },
    {
     "name": "stdout",
     "output_type": "stream",
     "text": [
      "bone-china-029\n",
      "I'm doing the thing.\n",
      "bone-china-031\n",
      "I'm doing the thing.\n"
     ]
    },
    {
     "name": "stderr",
     "output_type": "stream",
     "text": [
      "\r",
      "  3%|▎         | 18/597 [00:04<02:31,  3.82it/s]"
     ]
    },
    {
     "name": "stdout",
     "output_type": "stream",
     "text": [
      "bone-china-032\n",
      "I'm doing the thing.\n"
     ]
    },
    {
     "name": "stderr",
     "output_type": "stream",
     "text": [
      "\r",
      "  3%|▎         | 19/597 [00:04<02:31,  3.81it/s]"
     ]
    },
    {
     "name": "stdout",
     "output_type": "stream",
     "text": [
      "bone-china-033\n",
      "I'm doing the thing.\n"
     ]
    },
    {
     "name": "stderr",
     "output_type": "stream",
     "text": [
      "  4%|▎         | 21/597 [00:04<02:22,  4.05it/s]"
     ]
    },
    {
     "name": "stdout",
     "output_type": "stream",
     "text": [
      "bone-china-035\n",
      "I'm doing the thing.\n",
      "bone-china-037\n",
      "I'm doing the thing.\n"
     ]
    },
    {
     "name": "stderr",
     "output_type": "stream",
     "text": [
      "  4%|▍         | 23/597 [00:05<02:30,  3.82it/s]"
     ]
    },
    {
     "name": "stdout",
     "output_type": "stream",
     "text": [
      "bone-china-038\n",
      "I'm doing the thing.\n",
      "bone-china-039\n",
      "I'm doing the thing.\n"
     ]
    },
    {
     "name": "stderr",
     "output_type": "stream",
     "text": [
      "\r",
      "  4%|▍         | 24/597 [00:05<02:15,  4.23it/s]"
     ]
    },
    {
     "name": "stdout",
     "output_type": "stream",
     "text": [
      "bone-china-041\n",
      "I'm doing the thing.\n"
     ]
    },
    {
     "name": "stderr",
     "output_type": "stream",
     "text": [
      "  4%|▍         | 26/597 [00:06<02:04,  4.60it/s]"
     ]
    },
    {
     "name": "stdout",
     "output_type": "stream",
     "text": [
      "bone-china-042\n",
      "I'm doing the thing.\n",
      "bone-china-044\n",
      "I'm doing the thing.\n"
     ]
    },
    {
     "name": "stderr",
     "output_type": "stream",
     "text": [
      "  5%|▍         | 28/597 [00:06<01:51,  5.10it/s]"
     ]
    },
    {
     "name": "stdout",
     "output_type": "stream",
     "text": [
      "bone-china-045\n",
      "I'm doing the thing.\n",
      "bone-china-046\n",
      "I'm doing the thing.\n"
     ]
    },
    {
     "name": "stderr",
     "output_type": "stream",
     "text": [
      "  5%|▌         | 30/597 [00:06<01:54,  4.94it/s]"
     ]
    },
    {
     "name": "stdout",
     "output_type": "stream",
     "text": [
      "bone-china-047\n",
      "I'm doing the thing.\n",
      "bone-china-050\n",
      "I'm doing the thing.\n"
     ]
    },
    {
     "name": "stderr",
     "output_type": "stream",
     "text": [
      "  5%|▌         | 32/597 [00:07<01:41,  5.54it/s]"
     ]
    },
    {
     "name": "stdout",
     "output_type": "stream",
     "text": [
      "bone-china-051\n",
      "I'm doing the thing.\n",
      "bone-china-052\n",
      "I'm doing the thing.\n"
     ]
    },
    {
     "name": "stderr",
     "output_type": "stream",
     "text": [
      "  6%|▌         | 34/597 [00:07<01:26,  6.52it/s]"
     ]
    },
    {
     "name": "stdout",
     "output_type": "stream",
     "text": [
      "bone-china-053\n",
      "I'm doing the thing.\n",
      "bone-china-055\n",
      "I'm doing the thing.\n"
     ]
    },
    {
     "name": "stderr",
     "output_type": "stream",
     "text": [
      "  6%|▌         | 36/597 [00:07<01:31,  6.13it/s]"
     ]
    },
    {
     "name": "stdout",
     "output_type": "stream",
     "text": [
      "bone-china-056\n",
      "I'm doing the thing.\n",
      "bone-china-058\n",
      "I'm doing the thing.\n"
     ]
    },
    {
     "name": "stderr",
     "output_type": "stream",
     "text": [
      "  6%|▋         | 38/597 [00:08<02:10,  4.29it/s]"
     ]
    },
    {
     "name": "stdout",
     "output_type": "stream",
     "text": [
      "bone-china-059\n",
      "I'm doing the thing.\n",
      "bone-china-060\n",
      "I'm doing the thing.\n"
     ]
    },
    {
     "name": "stderr",
     "output_type": "stream",
     "text": [
      "\r",
      "  7%|▋         | 39/597 [00:08<01:55,  4.84it/s]"
     ]
    },
    {
     "name": "stdout",
     "output_type": "stream",
     "text": [
      "bone-china-061\n",
      "I'm doing the thing.\n",
      "bone-china-062\n",
      "I'm doing the thing.\n"
     ]
    },
    {
     "name": "stderr",
     "output_type": "stream",
     "text": [
      "\r",
      "  7%|▋         | 41/597 [00:09<02:02,  4.54it/s]"
     ]
    },
    {
     "name": "stdout",
     "output_type": "stream",
     "text": [
      "bone-china-065\n",
      "I'm doing the thing.\n"
     ]
    },
    {
     "name": "stderr",
     "output_type": "stream",
     "text": [
      "\r",
      "  7%|▋         | 42/597 [00:09<02:02,  4.53it/s]"
     ]
    },
    {
     "name": "stdout",
     "output_type": "stream",
     "text": [
      "bone-china-066\n",
      "I'm doing the thing.\n",
      "bone-china-068\n",
      "I'm doing the thing.\n"
     ]
    },
    {
     "name": "stderr",
     "output_type": "stream",
     "text": [
      "\r",
      "  7%|▋         | 44/597 [00:09<01:51,  4.95it/s]"
     ]
    },
    {
     "name": "stdout",
     "output_type": "stream",
     "text": [
      "bone-china-069\n",
      "I'm doing the thing.\n"
     ]
    },
    {
     "name": "stderr",
     "output_type": "stream",
     "text": [
      "  8%|▊         | 46/597 [00:10<02:06,  4.36it/s]"
     ]
    },
    {
     "name": "stdout",
     "output_type": "stream",
     "text": [
      "bone-china-070\n",
      "I'm doing the thing.\n",
      "bone-china-071\n",
      "I'm doing the thing.\n"
     ]
    },
    {
     "name": "stderr",
     "output_type": "stream",
     "text": [
      "\r",
      "  8%|▊         | 47/597 [00:10<02:29,  3.68it/s]"
     ]
    },
    {
     "name": "stdout",
     "output_type": "stream",
     "text": [
      "bone-china-072\n",
      "I'm doing the thing.\n"
     ]
    },
    {
     "name": "stderr",
     "output_type": "stream",
     "text": [
      "\r",
      "  8%|▊         | 48/597 [00:10<02:20,  3.91it/s]"
     ]
    },
    {
     "name": "stdout",
     "output_type": "stream",
     "text": [
      "bone-china-074\n",
      "I'm doing the thing.\n"
     ]
    },
    {
     "name": "stderr",
     "output_type": "stream",
     "text": [
      "\r",
      "  8%|▊         | 49/597 [00:11<02:15,  4.05it/s]"
     ]
    },
    {
     "name": "stdout",
     "output_type": "stream",
     "text": [
      "bone-china-075\n",
      "I'm doing the thing.\n"
     ]
    },
    {
     "name": "stderr",
     "output_type": "stream",
     "text": [
      "\r",
      "  8%|▊         | 50/597 [00:11<02:14,  4.08it/s]"
     ]
    },
    {
     "name": "stdout",
     "output_type": "stream",
     "text": [
      "bone-china-076\n",
      "I'm doing the thing.\n"
     ]
    },
    {
     "name": "stderr",
     "output_type": "stream",
     "text": [
      "  9%|▊         | 52/597 [00:12<02:37,  3.47it/s]"
     ]
    },
    {
     "name": "stdout",
     "output_type": "stream",
     "text": [
      "bone-china-079\n",
      "I'm doing the thing.\n",
      "bone-china-080\n",
      "I'm doing the thing.\n"
     ]
    },
    {
     "name": "stderr",
     "output_type": "stream",
     "text": [
      "\r",
      "  9%|▉         | 53/597 [00:12<02:28,  3.67it/s]"
     ]
    },
    {
     "name": "stdout",
     "output_type": "stream",
     "text": [
      "bone-china-081\n",
      "I'm doing the thing.\n"
     ]
    },
    {
     "name": "stderr",
     "output_type": "stream",
     "text": [
      "\r",
      "  9%|▉         | 54/597 [00:12<02:18,  3.93it/s]"
     ]
    },
    {
     "name": "stdout",
     "output_type": "stream",
     "text": [
      "bone-china-083\n",
      "I'm doing the thing.\n"
     ]
    },
    {
     "name": "stderr",
     "output_type": "stream",
     "text": [
      "\r",
      "  9%|▉         | 55/597 [00:12<02:11,  4.11it/s]"
     ]
    },
    {
     "name": "stdout",
     "output_type": "stream",
     "text": [
      "bone-china-084\n",
      "I'm doing the thing.\n"
     ]
    },
    {
     "name": "stderr",
     "output_type": "stream",
     "text": [
      " 10%|▉         | 57/597 [00:13<02:10,  4.12it/s]"
     ]
    },
    {
     "name": "stdout",
     "output_type": "stream",
     "text": [
      "bone-china-085\n",
      "I'm doing the thing.\n",
      "bone-china-086\n",
      "I'm doing the thing.\n"
     ]
    },
    {
     "name": "stderr",
     "output_type": "stream",
     "text": [
      " 10%|▉         | 59/597 [00:13<01:52,  4.79it/s]"
     ]
    },
    {
     "name": "stdout",
     "output_type": "stream",
     "text": [
      "bone-china-087\n",
      "I'm doing the thing.\n",
      "bone-china-088\n",
      "I'm doing the thing.\n"
     ]
    },
    {
     "name": "stderr",
     "output_type": "stream",
     "text": [
      " 10%|█         | 61/597 [00:14<02:47,  3.21it/s]"
     ]
    },
    {
     "name": "stdout",
     "output_type": "stream",
     "text": [
      "bone-china-089\n",
      "I'm doing the thing.\n",
      "bone-china-092"
     ]
    },
    {
     "name": "stderr",
     "output_type": "stream",
     "text": [
      "\r",
      " 10%|█         | 62/597 [00:14<02:17,  3.90it/s]"
     ]
    },
    {
     "name": "stdout",
     "output_type": "stream",
     "text": [
      "\n",
      "I'm doing the thing.\n",
      "bone-china-093\n",
      "I'm doing the thing.\n"
     ]
    },
    {
     "name": "stderr",
     "output_type": "stream",
     "text": [
      "\r",
      " 11%|█         | 63/597 [00:15<02:44,  3.24it/s]"
     ]
    },
    {
     "name": "stdout",
     "output_type": "stream",
     "text": [
      "bone-china-099\n",
      "I'm doing the thing.\n"
     ]
    },
    {
     "name": "stderr",
     "output_type": "stream",
     "text": [
      "\r",
      " 11%|█         | 64/597 [00:15<02:27,  3.61it/s]"
     ]
    },
    {
     "name": "stdout",
     "output_type": "stream",
     "text": [
      "bone-china-100\n",
      "I'm doing the thing.\n"
     ]
    },
    {
     "name": "stderr",
     "output_type": "stream",
     "text": [
      "\r",
      " 11%|█         | 65/597 [00:15<02:43,  3.25it/s]"
     ]
    },
    {
     "name": "stdout",
     "output_type": "stream",
     "text": [
      "bone-china-101\n",
      "I'm doing the thing.\n"
     ]
    },
    {
     "name": "stderr",
     "output_type": "stream",
     "text": [
      " 11%|█         | 67/597 [00:16<03:22,  2.61it/s]"
     ]
    },
    {
     "name": "stdout",
     "output_type": "stream",
     "text": [
      "bone-china-103\n",
      "I'm doing the thing.\n",
      "bone-china-104\n",
      "I'm doing the thing.\n"
     ]
    },
    {
     "name": "stderr",
     "output_type": "stream",
     "text": [
      "\r",
      " 11%|█▏        | 68/597 [00:18<07:47,  1.13it/s]"
     ]
    },
    {
     "name": "stdout",
     "output_type": "stream",
     "text": [
      "bone-china-105\n",
      "I'm doing the thing.\n"
     ]
    },
    {
     "name": "stderr",
     "output_type": "stream",
     "text": [
      "\r",
      " 12%|█▏        | 69/597 [00:19<07:13,  1.22it/s]"
     ]
    },
    {
     "name": "stdout",
     "output_type": "stream",
     "text": [
      "bone-china-107\n",
      "I'm doing the thing.\n"
     ]
    },
    {
     "name": "stderr",
     "output_type": "stream",
     "text": [
      "\r",
      " 12%|█▏        | 70/597 [00:20<06:37,  1.33it/s]"
     ]
    },
    {
     "name": "stdout",
     "output_type": "stream",
     "text": [
      "bone-china-109\n",
      "I'm doing the thing.\n"
     ]
    },
    {
     "name": "stderr",
     "output_type": "stream",
     "text": [
      "\r",
      " 12%|█▏        | 71/597 [00:20<05:50,  1.50it/s]"
     ]
    },
    {
     "name": "stdout",
     "output_type": "stream",
     "text": [
      "bone-china-110\n",
      "I'm doing the thing.\n"
     ]
    },
    {
     "name": "stderr",
     "output_type": "stream",
     "text": [
      "\r",
      " 12%|█▏        | 72/597 [00:21<06:01,  1.45it/s]"
     ]
    },
    {
     "name": "stdout",
     "output_type": "stream",
     "text": [
      "bone-china-113\n",
      "I'm doing the thing.\n"
     ]
    },
    {
     "name": "stderr",
     "output_type": "stream",
     "text": [
      "\r",
      " 12%|█▏        | 73/597 [00:21<05:23,  1.62it/s]"
     ]
    },
    {
     "name": "stdout",
     "output_type": "stream",
     "text": [
      "bone-china-114\n",
      "I'm doing the thing.\n"
     ]
    },
    {
     "name": "stderr",
     "output_type": "stream",
     "text": [
      "\r",
      " 12%|█▏        | 74/597 [00:22<04:40,  1.87it/s]"
     ]
    },
    {
     "name": "stdout",
     "output_type": "stream",
     "text": [
      "bone-china-115\n",
      "I'm doing the thing.\n"
     ]
    },
    {
     "name": "stderr",
     "output_type": "stream",
     "text": [
      " 13%|█▎        | 76/597 [00:22<03:15,  2.66it/s]"
     ]
    },
    {
     "name": "stdout",
     "output_type": "stream",
     "text": [
      "bone-china-117\n",
      "I'm doing the thing.\n",
      "bone-china-118\n",
      "I'm doing the thing.\n"
     ]
    },
    {
     "name": "stderr",
     "output_type": "stream",
     "text": [
      "\r",
      " 13%|█▎        | 77/597 [00:22<03:08,  2.76it/s]"
     ]
    },
    {
     "name": "stdout",
     "output_type": "stream",
     "text": [
      "bone-china-121\n",
      "I'm doing the thing.\n"
     ]
    },
    {
     "name": "stderr",
     "output_type": "stream",
     "text": [
      "\r",
      " 13%|█▎        | 78/597 [00:23<02:54,  2.97it/s]"
     ]
    },
    {
     "name": "stdout",
     "output_type": "stream",
     "text": [
      "bone-china-122\n",
      "I'm doing the thing.\n"
     ]
    },
    {
     "name": "stderr",
     "output_type": "stream",
     "text": [
      "\r",
      " 13%|█▎        | 79/597 [00:23<02:41,  3.21it/s]"
     ]
    },
    {
     "name": "stdout",
     "output_type": "stream",
     "text": [
      "bone-china-123\n",
      "I'm doing the thing.\n"
     ]
    },
    {
     "name": "stderr",
     "output_type": "stream",
     "text": [
      "\r",
      " 13%|█▎        | 80/597 [00:23<02:36,  3.29it/s]"
     ]
    },
    {
     "name": "stdout",
     "output_type": "stream",
     "text": [
      "bone-china-124\n",
      "I'm doing the thing.\n"
     ]
    },
    {
     "name": "stderr",
     "output_type": "stream",
     "text": [
      "\r",
      " 14%|█▎        | 81/597 [00:23<02:27,  3.50it/s]"
     ]
    },
    {
     "name": "stdout",
     "output_type": "stream",
     "text": [
      "bone-china-125\n",
      "I'm doing the thing.\n",
      "bone-china-126\n",
      "I'm doing the thing.\n"
     ]
    },
    {
     "name": "stderr",
     "output_type": "stream",
     "text": [
      "\r",
      " 14%|█▍        | 83/597 [00:24<02:08,  4.00it/s]"
     ]
    },
    {
     "name": "stdout",
     "output_type": "stream",
     "text": [
      "bone-china-127\n",
      "I'm doing the thing.\n"
     ]
    },
    {
     "name": "stderr",
     "output_type": "stream",
     "text": [
      " 14%|█▍        | 85/597 [00:24<01:52,  4.55it/s]"
     ]
    },
    {
     "name": "stdout",
     "output_type": "stream",
     "text": [
      "bone-china-131\n",
      "I'm doing the thing.\n",
      "bone-china-132\n",
      "I'm doing the thing.\n"
     ]
    },
    {
     "name": "stderr",
     "output_type": "stream",
     "text": [
      "\r",
      " 14%|█▍        | 86/597 [00:24<01:47,  4.74it/s]"
     ]
    },
    {
     "name": "stdout",
     "output_type": "stream",
     "text": [
      "bone-china-133\n",
      "I'm doing the thing.\n"
     ]
    },
    {
     "name": "stderr",
     "output_type": "stream",
     "text": [
      "\r",
      " 15%|█▍        | 87/597 [00:25<01:49,  4.65it/s]"
     ]
    },
    {
     "name": "stdout",
     "output_type": "stream",
     "text": [
      "bone-china-134\n",
      "I'm doing the thing.\n"
     ]
    },
    {
     "name": "stderr",
     "output_type": "stream",
     "text": [
      " 15%|█▍        | 89/597 [00:25<01:55,  4.41it/s]"
     ]
    },
    {
     "name": "stdout",
     "output_type": "stream",
     "text": [
      "bone-china-135\n",
      "I'm doing the thing.\n"
     ]
    },
    {
     "name": "stderr",
     "output_type": "stream",
     "text": [
      "\r",
      " 15%|█▌        | 90/597 [00:25<01:39,  5.11it/s]"
     ]
    },
    {
     "name": "stdout",
     "output_type": "stream",
     "text": [
      "bone-china-136\n",
      "I'm doing the thing.\n",
      "bone-china-138\n",
      "I'm doing the thing.\n"
     ]
    },
    {
     "name": "stderr",
     "output_type": "stream",
     "text": [
      " 15%|█▌        | 92/597 [00:26<01:41,  4.97it/s]"
     ]
    },
    {
     "name": "stdout",
     "output_type": "stream",
     "text": [
      "bone-china-140\n",
      "I'm doing the thing.\n",
      "bone-china-143\n",
      "I'm doing the thing.\n"
     ]
    },
    {
     "name": "stderr",
     "output_type": "stream",
     "text": [
      "\r",
      " 16%|█▌        | 93/597 [00:26<01:32,  5.44it/s]"
     ]
    },
    {
     "name": "stdout",
     "output_type": "stream",
     "text": [
      "bone-china-145\n",
      "I'm doing the thing.\n"
     ]
    },
    {
     "name": "stderr",
     "output_type": "stream",
     "text": [
      "\r",
      " 16%|█▌        | 94/597 [00:26<01:51,  4.50it/s]"
     ]
    },
    {
     "name": "stdout",
     "output_type": "stream",
     "text": [
      "bone-china-146\n",
      "I'm doing the thing.\n"
     ]
    },
    {
     "name": "stderr",
     "output_type": "stream",
     "text": [
      " 16%|█▌        | 96/597 [00:27<01:47,  4.65it/s]"
     ]
    },
    {
     "name": "stdout",
     "output_type": "stream",
     "text": [
      "bone-china-148\n",
      "I'm doing the thing.\n",
      "bone-china-149\n",
      "I'm doing the thing.\n"
     ]
    },
    {
     "name": "stderr",
     "output_type": "stream",
     "text": [
      "\r",
      " 16%|█▌        | 97/597 [00:27<01:49,  4.58it/s]"
     ]
    },
    {
     "name": "stdout",
     "output_type": "stream",
     "text": [
      "bone-china-152\n",
      "I'm doing the thing.\n"
     ]
    },
    {
     "name": "stderr",
     "output_type": "stream",
     "text": [
      "\r",
      " 16%|█▋        | 98/597 [00:27<01:48,  4.61it/s]"
     ]
    },
    {
     "name": "stdout",
     "output_type": "stream",
     "text": [
      "bone-china-153\n",
      "I'm doing the thing.\n"
     ]
    },
    {
     "name": "stderr",
     "output_type": "stream",
     "text": [
      "\r",
      " 17%|█▋        | 99/597 [00:27<01:51,  4.46it/s]"
     ]
    },
    {
     "name": "stdout",
     "output_type": "stream",
     "text": [
      "bone-china-154\n",
      "I'm doing the thing.\n",
      "bone-china-158\n",
      "I'm doing the thing.\n"
     ]
    },
    {
     "name": "stderr",
     "output_type": "stream",
     "text": [
      " 17%|█▋        | 102/597 [00:28<01:35,  5.20it/s]"
     ]
    },
    {
     "name": "stdout",
     "output_type": "stream",
     "text": [
      "bone-china-159\n",
      "I'm doing the thing.\n",
      "bone-china-160\n",
      "I'm doing the thing.\n"
     ]
    },
    {
     "name": "stderr",
     "output_type": "stream",
     "text": [
      " 17%|█▋        | 104/597 [00:28<01:26,  5.67it/s]"
     ]
    },
    {
     "name": "stdout",
     "output_type": "stream",
     "text": [
      "bone-china-161\n",
      "I'm doing the thing.\n",
      "bone-china-164\n",
      "I'm doing the thing.\n"
     ]
    },
    {
     "name": "stderr",
     "output_type": "stream",
     "text": [
      " 18%|█▊        | 106/597 [00:28<01:23,  5.91it/s]"
     ]
    },
    {
     "name": "stdout",
     "output_type": "stream",
     "text": [
      "bone-china-166\n",
      "I'm doing the thing.\n",
      "bone-china-167\n",
      "I'm doing the thing.\n"
     ]
    },
    {
     "name": "stderr",
     "output_type": "stream",
     "text": [
      " 18%|█▊        | 108/597 [00:29<01:27,  5.56it/s]"
     ]
    },
    {
     "name": "stdout",
     "output_type": "stream",
     "text": [
      "bone-china-169\n",
      "I'm doing the thing.\n",
      "bone-china-170\n",
      "I'm doing the thing.\n"
     ]
    },
    {
     "name": "stderr",
     "output_type": "stream",
     "text": [
      "\r",
      " 18%|█▊        | 109/597 [00:29<01:34,  5.14it/s]"
     ]
    },
    {
     "name": "stdout",
     "output_type": "stream",
     "text": [
      "bone-china-174\n",
      "I'm doing the thing.\n"
     ]
    },
    {
     "name": "stderr",
     "output_type": "stream",
     "text": [
      " 19%|█▊        | 111/597 [00:29<01:50,  4.41it/s]"
     ]
    },
    {
     "name": "stdout",
     "output_type": "stream",
     "text": [
      "bone-china-175\n",
      "I'm doing the thing.\n",
      "bone-china-176\n",
      "I'm doing the thing.\n"
     ]
    },
    {
     "name": "stderr",
     "output_type": "stream",
     "text": [
      "\r",
      " 19%|█▉        | 112/597 [00:30<01:59,  4.05it/s]"
     ]
    },
    {
     "name": "stdout",
     "output_type": "stream",
     "text": [
      "bone-china-177\n",
      "I'm doing the thing.\n"
     ]
    },
    {
     "name": "stderr",
     "output_type": "stream",
     "text": [
      "\r",
      " 19%|█▉        | 113/597 [00:30<01:55,  4.19it/s]"
     ]
    },
    {
     "name": "stdout",
     "output_type": "stream",
     "text": [
      "bone-china-180\n",
      "I'm doing the thing.\n"
     ]
    },
    {
     "name": "stderr",
     "output_type": "stream",
     "text": [
      " 19%|█▉        | 115/597 [00:30<01:56,  4.13it/s]"
     ]
    },
    {
     "name": "stdout",
     "output_type": "stream",
     "text": [
      "bone-china-184\n",
      "I'm doing the thing.\n",
      "bone-china-186\n",
      "I'm doing the thing.\n",
      "bone-china-187\n",
      "I'm doing the thing.\n"
     ]
    },
    {
     "name": "stderr",
     "output_type": "stream",
     "text": [
      "\r",
      " 20%|█▉        | 117/597 [00:31<01:43,  4.62it/s]"
     ]
    },
    {
     "name": "stdout",
     "output_type": "stream",
     "text": [
      "bone-china-188\n",
      "I'm doing the thing.\n"
     ]
    },
    {
     "name": "stderr",
     "output_type": "stream",
     "text": [
      "\r",
      " 20%|█▉        | 118/597 [00:31<02:13,  3.58it/s]"
     ]
    },
    {
     "name": "stdout",
     "output_type": "stream",
     "text": [
      "bone-china-189\n",
      "I'm doing the thing.\n"
     ]
    },
    {
     "name": "stderr",
     "output_type": "stream",
     "text": [
      "\r",
      " 20%|█▉        | 119/597 [00:31<02:10,  3.66it/s]"
     ]
    },
    {
     "name": "stdout",
     "output_type": "stream",
     "text": [
      "bone-china-190\n",
      "I'm doing the thing.\n"
     ]
    },
    {
     "name": "stderr",
     "output_type": "stream",
     "text": [
      "\r",
      " 20%|██        | 120/597 [00:32<02:12,  3.59it/s]"
     ]
    },
    {
     "name": "stdout",
     "output_type": "stream",
     "text": [
      "bone-china-192\n",
      "I'm doing the thing.\n"
     ]
    },
    {
     "name": "stderr",
     "output_type": "stream",
     "text": [
      "\r",
      " 20%|██        | 121/597 [00:32<02:05,  3.78it/s]"
     ]
    },
    {
     "name": "stdout",
     "output_type": "stream",
     "text": [
      "bone-china-193\n",
      "I'm doing the thing.\n"
     ]
    },
    {
     "name": "stderr",
     "output_type": "stream",
     "text": [
      "\r",
      " 20%|██        | 122/597 [00:32<01:59,  3.97it/s]"
     ]
    },
    {
     "name": "stdout",
     "output_type": "stream",
     "text": [
      "bone-china-194\n",
      "I'm doing the thing.\n"
     ]
    },
    {
     "name": "stderr",
     "output_type": "stream",
     "text": [
      "\r",
      " 21%|██        | 123/597 [00:33<02:27,  3.22it/s]"
     ]
    },
    {
     "name": "stdout",
     "output_type": "stream",
     "text": [
      "bone-china-196\n",
      "I'm doing the thing.\n"
     ]
    },
    {
     "name": "stderr",
     "output_type": "stream",
     "text": [
      " 21%|██        | 125/597 [00:33<02:08,  3.67it/s]"
     ]
    },
    {
     "name": "stdout",
     "output_type": "stream",
     "text": [
      "bone-china-198\n",
      "I'm doing the thing.\n",
      "bone-china-199\n",
      "I'm doing the thing.\n"
     ]
    },
    {
     "name": "stderr",
     "output_type": "stream",
     "text": [
      "\r",
      " 21%|██        | 126/597 [00:33<01:53,  4.14it/s]"
     ]
    },
    {
     "name": "stdout",
     "output_type": "stream",
     "text": [
      "bone-china-203\n",
      "I'm doing the thing.\n"
     ]
    },
    {
     "name": "stderr",
     "output_type": "stream",
     "text": [
      " 21%|██▏       | 128/597 [00:34<01:39,  4.71it/s]"
     ]
    },
    {
     "name": "stdout",
     "output_type": "stream",
     "text": [
      "bone-china-209\n",
      "I'm doing the thing.\n",
      "bone-china-212\n",
      "I'm doing the thing.\n"
     ]
    },
    {
     "name": "stderr",
     "output_type": "stream",
     "text": [
      " 22%|██▏       | 130/597 [00:34<01:26,  5.42it/s]"
     ]
    },
    {
     "name": "stdout",
     "output_type": "stream",
     "text": [
      "bone-china-213\n",
      "I'm doing the thing.\n",
      "bone-china-215\n",
      "I'm doing the thing.\n"
     ]
    },
    {
     "name": "stderr",
     "output_type": "stream",
     "text": [
      " 22%|██▏       | 132/597 [00:34<01:22,  5.62it/s]"
     ]
    },
    {
     "name": "stdout",
     "output_type": "stream",
     "text": [
      "bone-china-216\n",
      "I'm doing the thing.\n",
      "bone-china-217\n",
      "I'm doing the thing.\n"
     ]
    },
    {
     "name": "stderr",
     "output_type": "stream",
     "text": [
      "\r",
      " 22%|██▏       | 133/597 [00:34<01:15,  6.17it/s]"
     ]
    },
    {
     "name": "stdout",
     "output_type": "stream",
     "text": [
      "bone-china-221\n",
      "I'm doing the thing.\n"
     ]
    },
    {
     "name": "stderr",
     "output_type": "stream",
     "text": [
      " 23%|██▎       | 135/597 [00:35<01:21,  5.64it/s]"
     ]
    },
    {
     "name": "stdout",
     "output_type": "stream",
     "text": [
      "bone-china-222\n",
      "I'm doing the thing.\n",
      "bone-china-223\n",
      "I'm doing the thing.\n"
     ]
    },
    {
     "name": "stderr",
     "output_type": "stream",
     "text": [
      "\r",
      " 23%|██▎       | 136/597 [00:35<01:32,  4.98it/s]"
     ]
    },
    {
     "name": "stdout",
     "output_type": "stream",
     "text": [
      "bone-china-225\n",
      "I'm doing the thing.\n"
     ]
    },
    {
     "name": "stderr",
     "output_type": "stream",
     "text": [
      " 23%|██▎       | 138/597 [00:36<01:36,  4.76it/s]"
     ]
    },
    {
     "name": "stdout",
     "output_type": "stream",
     "text": [
      "bone-china-228\n",
      "I'm doing the thing.\n",
      "bone-china-231\n",
      "I'm doing the thing.\n"
     ]
    },
    {
     "name": "stderr",
     "output_type": "stream",
     "text": [
      "\r",
      " 23%|██▎       | 139/597 [00:36<01:35,  4.81it/s]"
     ]
    },
    {
     "name": "stdout",
     "output_type": "stream",
     "text": [
      "bone-china-234\n",
      "I'm doing the thing.\n"
     ]
    },
    {
     "name": "stderr",
     "output_type": "stream",
     "text": [
      "\r",
      " 23%|██▎       | 140/597 [00:36<01:40,  4.55it/s]"
     ]
    },
    {
     "name": "stdout",
     "output_type": "stream",
     "text": [
      "bone-china-242\n",
      "I'm doing the thing.\n"
     ]
    },
    {
     "name": "stderr",
     "output_type": "stream",
     "text": [
      "\r",
      " 24%|██▎       | 141/597 [00:36<02:03,  3.70it/s]"
     ]
    },
    {
     "name": "stdout",
     "output_type": "stream",
     "text": [
      "bone-china-243\n",
      "I'm doing the thing.\n"
     ]
    },
    {
     "name": "stderr",
     "output_type": "stream",
     "text": [
      " 24%|██▍       | 143/597 [00:37<02:00,  3.76it/s]"
     ]
    },
    {
     "name": "stdout",
     "output_type": "stream",
     "text": [
      "bone-penn-081\n",
      "I'm doing the thing.\n",
      "bone-penn-082\n",
      "I'm doing the thing.\n"
     ]
    },
    {
     "name": "stderr",
     "output_type": "stream",
     "text": [
      "\r",
      " 24%|██▍       | 144/597 [00:37<02:22,  3.19it/s]"
     ]
    },
    {
     "name": "stdout",
     "output_type": "stream",
     "text": [
      "bone-penn-083\n",
      "I'm doing the thing.\n"
     ]
    },
    {
     "name": "stderr",
     "output_type": "stream",
     "text": [
      "\r",
      " 24%|██▍       | 145/597 [00:38<02:43,  2.77it/s]"
     ]
    },
    {
     "name": "stdout",
     "output_type": "stream",
     "text": [
      "bone-penn-084\n",
      "I'm doing the thing.\n"
     ]
    },
    {
     "name": "stderr",
     "output_type": "stream",
     "text": [
      " 25%|██▍       | 147/597 [00:39<02:36,  2.88it/s]"
     ]
    },
    {
     "name": "stdout",
     "output_type": "stream",
     "text": [
      "bone-penn-085\n",
      "I'm doing the thing.\n",
      "bone-penn-086\n",
      "I'm doing the thing.\n"
     ]
    },
    {
     "name": "stderr",
     "output_type": "stream",
     "text": [
      "\r",
      " 25%|██▍       | 148/597 [00:39<03:22,  2.22it/s]"
     ]
    },
    {
     "name": "stdout",
     "output_type": "stream",
     "text": [
      "bone-penn-090\n",
      "I'm doing the thing.\n"
     ]
    },
    {
     "name": "stderr",
     "output_type": "stream",
     "text": [
      " 25%|██▌       | 150/597 [00:40<02:21,  3.15it/s]"
     ]
    },
    {
     "name": "stdout",
     "output_type": "stream",
     "text": [
      "bone-penn-091\n",
      "I'm doing the thing.\n",
      "bone-penn-092\n",
      "I'm doing the thing.\n"
     ]
    },
    {
     "name": "stderr",
     "output_type": "stream",
     "text": [
      " 25%|██▌       | 152/597 [00:40<01:48,  4.10it/s]"
     ]
    },
    {
     "name": "stdout",
     "output_type": "stream",
     "text": [
      "bone-penn-093\n",
      "I'm doing the thing.\n",
      "bone-penn-094\n",
      "I'm doing the thing.\n"
     ]
    },
    {
     "name": "stderr",
     "output_type": "stream",
     "text": [
      " 26%|██▌       | 154/597 [00:40<01:22,  5.37it/s]"
     ]
    },
    {
     "name": "stdout",
     "output_type": "stream",
     "text": [
      "bone-penn-095\n",
      "I'm doing the thing.\n",
      "bone-penn-097\n",
      "I'm doing the thing.\n"
     ]
    },
    {
     "name": "stderr",
     "output_type": "stream",
     "text": [
      "\r",
      " 26%|██▌       | 155/597 [00:41<02:13,  3.30it/s]"
     ]
    },
    {
     "name": "stdout",
     "output_type": "stream",
     "text": [
      "bone-penn-099\n",
      "I'm doing the thing.\n"
     ]
    },
    {
     "name": "stderr",
     "output_type": "stream",
     "text": [
      "\r",
      " 26%|██▌       | 156/597 [00:42<04:04,  1.80it/s]"
     ]
    },
    {
     "name": "stdout",
     "output_type": "stream",
     "text": [
      "bone-penn-105\n",
      "I'm doing the thing.\n"
     ]
    },
    {
     "name": "stderr",
     "output_type": "stream",
     "text": [
      "\r",
      " 26%|██▋       | 157/597 [00:43<04:36,  1.59it/s]"
     ]
    },
    {
     "name": "stdout",
     "output_type": "stream",
     "text": [
      "bone-penn-106\n",
      "I'm doing the thing.\n"
     ]
    },
    {
     "name": "stderr",
     "output_type": "stream",
     "text": [
      "/Users/feyisope/.local/share/virtualenvs/Bone-MRI-jS0JPId9/lib/python3.6/site-packages/numpy/lib/nanfunctions.py:1371: RuntimeWarning: All-NaN slice encountered\n",
      "  overwrite_input=overwrite_input, interpolation=interpolation\n",
      "\r",
      " 26%|██▋       | 158/597 [00:43<04:34,  1.60it/s]"
     ]
    },
    {
     "name": "stdout",
     "output_type": "stream",
     "text": [
      "bone-penn-107\n",
      "I'm doing the thing.\n"
     ]
    },
    {
     "name": "stderr",
     "output_type": "stream",
     "text": [
      " 27%|██▋       | 160/597 [00:44<03:27,  2.11it/s]"
     ]
    },
    {
     "name": "stdout",
     "output_type": "stream",
     "text": [
      "bone-penn-109\n",
      "I'm doing the thing.\n",
      "bone-penn-110\n",
      "I'm doing the thing.\n"
     ]
    },
    {
     "name": "stderr",
     "output_type": "stream",
     "text": [
      "\r",
      " 27%|██▋       | 161/597 [00:45<03:43,  1.95it/s]"
     ]
    },
    {
     "name": "stdout",
     "output_type": "stream",
     "text": [
      "bone-penn-111\n",
      "I'm doing the thing.\n"
     ]
    },
    {
     "name": "stderr",
     "output_type": "stream",
     "text": [
      "\r",
      " 27%|██▋       | 162/597 [00:45<04:00,  1.81it/s]"
     ]
    },
    {
     "name": "stdout",
     "output_type": "stream",
     "text": [
      "bone-penn-112\n",
      "I'm doing the thing.\n"
     ]
    },
    {
     "name": "stderr",
     "output_type": "stream",
     "text": [
      " 27%|██▋       | 164/597 [00:47<04:27,  1.62it/s]"
     ]
    },
    {
     "name": "stdout",
     "output_type": "stream",
     "text": [
      "bone-penn-113\n",
      "I'm doing the thing.\n",
      "bone-penn-116\n",
      "I'm doing the thing.\n"
     ]
    },
    {
     "name": "stderr",
     "output_type": "stream",
     "text": [
      "\r",
      " 28%|██▊       | 165/597 [00:47<03:32,  2.03it/s]"
     ]
    },
    {
     "name": "stdout",
     "output_type": "stream",
     "text": [
      "bone-penn-118\n",
      "I'm doing the thing.\n"
     ]
    },
    {
     "name": "stderr",
     "output_type": "stream",
     "text": [
      " 28%|██▊       | 167/597 [00:50<05:35,  1.28it/s]"
     ]
    },
    {
     "name": "stdout",
     "output_type": "stream",
     "text": [
      "bone-penn-119\n",
      "I'm doing the thing.\n",
      "bone-penn-120\n",
      "I'm doing the thing.\n"
     ]
    },
    {
     "name": "stderr",
     "output_type": "stream",
     "text": [
      "\r",
      " 28%|██▊       | 168/597 [00:50<04:39,  1.53it/s]"
     ]
    },
    {
     "name": "stdout",
     "output_type": "stream",
     "text": [
      "bone-penn-122\n",
      "I'm doing the thing.\n"
     ]
    },
    {
     "name": "stderr",
     "output_type": "stream",
     "text": [
      "\r",
      " 28%|██▊       | 169/597 [00:50<03:43,  1.92it/s]"
     ]
    },
    {
     "name": "stdout",
     "output_type": "stream",
     "text": [
      "bone-penn-126\n",
      "I'm doing the thing.\n"
     ]
    },
    {
     "name": "stderr",
     "output_type": "stream",
     "text": [
      "\r",
      " 28%|██▊       | 170/597 [00:51<03:55,  1.81it/s]"
     ]
    },
    {
     "name": "stdout",
     "output_type": "stream",
     "text": [
      "bone-penn-130\n",
      "I'm doing the thing.\n"
     ]
    },
    {
     "name": "stderr",
     "output_type": "stream",
     "text": [
      "\r",
      " 29%|██▊       | 171/597 [00:51<03:37,  1.96it/s]"
     ]
    },
    {
     "name": "stdout",
     "output_type": "stream",
     "text": [
      "bone-penn-131\n",
      "I'm doing the thing.\n"
     ]
    },
    {
     "name": "stderr",
     "output_type": "stream",
     "text": [
      "\r",
      " 29%|██▉       | 172/597 [00:52<04:01,  1.76it/s]"
     ]
    },
    {
     "name": "stdout",
     "output_type": "stream",
     "text": [
      "bone-penn-134\n",
      "I'm doing the thing.\n"
     ]
    },
    {
     "name": "stderr",
     "output_type": "stream",
     "text": [
      "\r",
      " 29%|██▉       | 173/597 [00:53<04:46,  1.48it/s]"
     ]
    },
    {
     "name": "stdout",
     "output_type": "stream",
     "text": [
      "bone-penn-137\n",
      "I'm doing the thing.\n"
     ]
    },
    {
     "name": "stderr",
     "output_type": "stream",
     "text": [
      "\r",
      " 29%|██▉       | 174/597 [00:54<04:36,  1.53it/s]"
     ]
    },
    {
     "name": "stdout",
     "output_type": "stream",
     "text": [
      "bone-penn-139\n",
      "I'm doing the thing.\n"
     ]
    },
    {
     "name": "stderr",
     "output_type": "stream",
     "text": [
      " 29%|██▉       | 176/597 [00:54<03:07,  2.24it/s]"
     ]
    },
    {
     "name": "stdout",
     "output_type": "stream",
     "text": [
      "bone-penn-140\n",
      "I'm doing the thing.\n",
      "bone-penn-141\n",
      "I'm doing the thing.\n"
     ]
    },
    {
     "name": "stderr",
     "output_type": "stream",
     "text": [
      "\r",
      " 30%|██▉       | 177/597 [00:54<02:24,  2.91it/s]"
     ]
    },
    {
     "name": "stdout",
     "output_type": "stream",
     "text": [
      "bone-penn-142\n",
      "I'm doing the thing.\n"
     ]
    },
    {
     "name": "stderr",
     "output_type": "stream",
     "text": [
      "\r",
      " 30%|██▉       | 178/597 [00:54<02:11,  3.20it/s]"
     ]
    },
    {
     "name": "stdout",
     "output_type": "stream",
     "text": [
      "bone-penn-147\n",
      "I'm doing the thing.\n"
     ]
    },
    {
     "name": "stderr",
     "output_type": "stream",
     "text": [
      "\r",
      " 30%|██▉       | 179/597 [00:55<02:43,  2.56it/s]"
     ]
    },
    {
     "name": "stdout",
     "output_type": "stream",
     "text": [
      "bone-penn-148\n",
      "I'm doing the thing.\n"
     ]
    },
    {
     "name": "stderr",
     "output_type": "stream",
     "text": [
      "\r",
      " 30%|███       | 180/597 [00:55<02:47,  2.50it/s]"
     ]
    },
    {
     "name": "stdout",
     "output_type": "stream",
     "text": [
      "bone-penn-149\n",
      "I'm doing the thing.\n"
     ]
    },
    {
     "name": "stderr",
     "output_type": "stream",
     "text": [
      "\r",
      " 30%|███       | 181/597 [00:56<02:35,  2.67it/s]"
     ]
    },
    {
     "name": "stdout",
     "output_type": "stream",
     "text": [
      "bone-penn-150\n",
      "I'm doing the thing.\n"
     ]
    },
    {
     "name": "stderr",
     "output_type": "stream",
     "text": [
      "\r",
      " 30%|███       | 182/597 [00:56<02:52,  2.41it/s]"
     ]
    },
    {
     "name": "stdout",
     "output_type": "stream",
     "text": [
      "bone-penn-152\n",
      "I'm doing the thing.\n"
     ]
    },
    {
     "name": "stderr",
     "output_type": "stream",
     "text": [
      "\r",
      " 31%|███       | 183/597 [00:57<03:09,  2.19it/s]"
     ]
    },
    {
     "name": "stdout",
     "output_type": "stream",
     "text": [
      "bone-penn-154\n",
      "I'm doing the thing.\n"
     ]
    },
    {
     "name": "stderr",
     "output_type": "stream",
     "text": [
      "\r",
      " 31%|███       | 184/597 [00:57<02:40,  2.58it/s]"
     ]
    },
    {
     "name": "stdout",
     "output_type": "stream",
     "text": [
      "bone-penn-155\n",
      "I'm doing the thing.\n"
     ]
    },
    {
     "name": "stderr",
     "output_type": "stream",
     "text": [
      "\r",
      " 31%|███       | 185/597 [00:57<02:26,  2.81it/s]"
     ]
    },
    {
     "name": "stdout",
     "output_type": "stream",
     "text": [
      "bone-penn-156\n",
      "I'm doing the thing.\n"
     ]
    },
    {
     "name": "stderr",
     "output_type": "stream",
     "text": [
      "\r",
      " 31%|███       | 186/597 [00:58<02:18,  2.96it/s]"
     ]
    },
    {
     "name": "stdout",
     "output_type": "stream",
     "text": [
      "bone-penn-157\n",
      "I'm doing the thing.\n"
     ]
    },
    {
     "name": "stderr",
     "output_type": "stream",
     "text": [
      " 31%|███▏      | 188/597 [00:58<02:01,  3.37it/s]"
     ]
    },
    {
     "name": "stdout",
     "output_type": "stream",
     "text": [
      "bone-penn-160\n",
      "I'm doing the thing.\n"
     ]
    },
    {
     "name": "stderr",
     "output_type": "stream",
     "text": [
      "\r",
      " 32%|███▏      | 189/597 [00:58<01:45,  3.85it/s]"
     ]
    },
    {
     "name": "stdout",
     "output_type": "stream",
     "text": [
      "bone-penn-161\n",
      "I'm doing the thing.\n",
      "bone-penn-162\n",
      "I'm doing the thing.\n"
     ]
    },
    {
     "name": "stderr",
     "output_type": "stream",
     "text": [
      "\r",
      " 32%|███▏      | 190/597 [00:59<01:56,  3.48it/s]"
     ]
    },
    {
     "name": "stdout",
     "output_type": "stream",
     "text": [
      "bone-penn-163\n",
      "I'm doing the thing.\n"
     ]
    },
    {
     "name": "stderr",
     "output_type": "stream",
     "text": [
      "\r",
      " 32%|███▏      | 191/597 [00:59<01:55,  3.51it/s]"
     ]
    },
    {
     "name": "stdout",
     "output_type": "stream",
     "text": [
      "bone-penn-167\n",
      "I'm doing the thing.\n"
     ]
    },
    {
     "name": "stderr",
     "output_type": "stream",
     "text": [
      " 32%|███▏      | 193/597 [01:00<02:11,  3.06it/s]"
     ]
    },
    {
     "name": "stdout",
     "output_type": "stream",
     "text": [
      "bone-penn-168\n",
      "I'm doing the thing.\n",
      "bone-penn-170\n",
      "I'm doing the thing.\n"
     ]
    },
    {
     "name": "stderr",
     "output_type": "stream",
     "text": [
      "\r",
      " 32%|███▏      | 194/597 [01:01<04:28,  1.50it/s]"
     ]
    },
    {
     "name": "stdout",
     "output_type": "stream",
     "text": [
      "bone-penn-171\n",
      "I'm doing the thing.\n"
     ]
    },
    {
     "name": "stderr",
     "output_type": "stream",
     "text": [
      "\r",
      " 33%|███▎      | 195/597 [01:03<05:58,  1.12it/s]"
     ]
    },
    {
     "name": "stdout",
     "output_type": "stream",
     "text": [
      "bone-penn-172\n",
      "I'm doing the thing.\n"
     ]
    },
    {
     "name": "stderr",
     "output_type": "stream",
     "text": [
      "\r",
      " 33%|███▎      | 196/597 [01:03<05:23,  1.24it/s]"
     ]
    },
    {
     "name": "stdout",
     "output_type": "stream",
     "text": [
      "bone-penn-173\n",
      "I'm doing the thing.\n"
     ]
    },
    {
     "name": "stderr",
     "output_type": "stream",
     "text": [
      "\r",
      " 33%|███▎      | 197/597 [01:04<04:28,  1.49it/s]"
     ]
    },
    {
     "name": "stdout",
     "output_type": "stream",
     "text": [
      "bone-penn-174\n",
      "I'm doing the thing.\n"
     ]
    },
    {
     "name": "stderr",
     "output_type": "stream",
     "text": [
      "\r",
      " 33%|███▎      | 198/597 [01:04<03:58,  1.67it/s]"
     ]
    },
    {
     "name": "stdout",
     "output_type": "stream",
     "text": [
      "bone-penn-178\n",
      "I'm doing the thing.\n"
     ]
    },
    {
     "name": "stderr",
     "output_type": "stream",
     "text": [
      "\r",
      " 33%|███▎      | 199/597 [01:05<05:07,  1.29it/s]"
     ]
    },
    {
     "name": "stdout",
     "output_type": "stream",
     "text": [
      "bone-penn-179\n",
      "I'm doing the thing.\n"
     ]
    },
    {
     "name": "stderr",
     "output_type": "stream",
     "text": [
      "\r",
      " 34%|███▎      | 200/597 [01:06<04:57,  1.34it/s]"
     ]
    },
    {
     "name": "stdout",
     "output_type": "stream",
     "text": [
      "bone-penn-180\n",
      "I'm doing the thing.\n"
     ]
    },
    {
     "name": "stderr",
     "output_type": "stream",
     "text": [
      "\r",
      " 34%|███▎      | 201/597 [01:06<04:00,  1.65it/s]"
     ]
    },
    {
     "name": "stdout",
     "output_type": "stream",
     "text": [
      "bone-penn-183\n",
      "I'm doing the thing.\n"
     ]
    },
    {
     "name": "stderr",
     "output_type": "stream",
     "text": [
      "\r",
      " 34%|███▍      | 202/597 [01:06<03:13,  2.04it/s]"
     ]
    },
    {
     "name": "stdout",
     "output_type": "stream",
     "text": [
      "bone-penn-187\n",
      "I'm doing the thing.\n"
     ]
    },
    {
     "name": "stderr",
     "output_type": "stream",
     "text": [
      "\r",
      " 34%|███▍      | 203/597 [01:07<02:46,  2.36it/s]"
     ]
    },
    {
     "name": "stdout",
     "output_type": "stream",
     "text": [
      "bone-penn-188\n",
      "I'm doing the thing.\n"
     ]
    },
    {
     "name": "stderr",
     "output_type": "stream",
     "text": [
      "\r",
      " 34%|███▍      | 204/597 [01:07<02:51,  2.29it/s]"
     ]
    },
    {
     "name": "stdout",
     "output_type": "stream",
     "text": [
      "bone-penn-189\n",
      "I'm doing the thing.\n"
     ]
    },
    {
     "name": "stderr",
     "output_type": "stream",
     "text": [
      "\r",
      " 34%|███▍      | 205/597 [01:08<04:33,  1.43it/s]"
     ]
    },
    {
     "name": "stdout",
     "output_type": "stream",
     "text": [
      "bone-penn-191\n",
      "I'm doing the thing.\n"
     ]
    },
    {
     "name": "stderr",
     "output_type": "stream",
     "text": [
      "\r",
      " 35%|███▍      | 206/597 [01:09<04:09,  1.57it/s]"
     ]
    },
    {
     "name": "stdout",
     "output_type": "stream",
     "text": [
      "bone-penn-192\n",
      "I'm doing the thing.\n"
     ]
    },
    {
     "name": "stderr",
     "output_type": "stream",
     "text": [
      "\r",
      " 35%|███▍      | 207/597 [01:09<03:23,  1.91it/s]"
     ]
    },
    {
     "name": "stdout",
     "output_type": "stream",
     "text": [
      "bone-penn-193\n",
      "I'm doing the thing.\n"
     ]
    },
    {
     "name": "stderr",
     "output_type": "stream",
     "text": [
      "\r",
      " 35%|███▍      | 208/597 [01:10<03:13,  2.01it/s]"
     ]
    },
    {
     "name": "stdout",
     "output_type": "stream",
     "text": [
      "bone-penn-194\n",
      "I'm doing the thing.\n"
     ]
    },
    {
     "name": "stderr",
     "output_type": "stream",
     "text": [
      "\r",
      " 35%|███▌      | 209/597 [01:11<05:23,  1.20it/s]"
     ]
    },
    {
     "name": "stdout",
     "output_type": "stream",
     "text": [
      "bone-penn-197\n",
      "I'm doing the thing.\n"
     ]
    },
    {
     "name": "stderr",
     "output_type": "stream",
     "text": [
      "\r",
      " 35%|███▌      | 210/597 [01:12<04:26,  1.45it/s]"
     ]
    },
    {
     "name": "stdout",
     "output_type": "stream",
     "text": [
      "bone-penn-198\n",
      "I'm doing the thing.\n"
     ]
    },
    {
     "name": "stderr",
     "output_type": "stream",
     "text": [
      "\r",
      " 35%|███▌      | 211/597 [01:12<03:34,  1.80it/s]"
     ]
    },
    {
     "name": "stdout",
     "output_type": "stream",
     "text": [
      "bone-penn-200\n",
      "I'm doing the thing.\n"
     ]
    },
    {
     "name": "stderr",
     "output_type": "stream",
     "text": [
      "\r",
      " 36%|███▌      | 212/597 [01:12<02:53,  2.22it/s]"
     ]
    },
    {
     "name": "stdout",
     "output_type": "stream",
     "text": [
      "bone-penn-205\n",
      "I'm doing the thing.\n"
     ]
    },
    {
     "name": "stderr",
     "output_type": "stream",
     "text": [
      " 36%|███▌      | 214/597 [01:16<06:05,  1.05it/s]"
     ]
    },
    {
     "name": "stdout",
     "output_type": "stream",
     "text": [
      "bone-penn-206\n",
      "I'm doing the thing.\n",
      "bone-penn-207\n",
      "I'm doing the thing.\n"
     ]
    },
    {
     "name": "stderr",
     "output_type": "stream",
     "text": [
      "\r",
      " 36%|███▌      | 215/597 [01:16<06:07,  1.04it/s]"
     ]
    },
    {
     "name": "stdout",
     "output_type": "stream",
     "text": [
      "bone-penn-209\n",
      "I'm doing the thing.\n"
     ]
    },
    {
     "name": "stderr",
     "output_type": "stream",
     "text": [
      "\r",
      " 36%|███▌      | 216/597 [01:17<05:40,  1.12it/s]"
     ]
    },
    {
     "name": "stdout",
     "output_type": "stream",
     "text": [
      "bone-penn-210\n",
      "I'm doing the thing.\n"
     ]
    },
    {
     "name": "stderr",
     "output_type": "stream",
     "text": [
      "\r",
      " 36%|███▋      | 217/597 [01:18<04:48,  1.32it/s]"
     ]
    },
    {
     "name": "stdout",
     "output_type": "stream",
     "text": [
      "bone-penn-214\n",
      "I'm doing the thing.\n"
     ]
    },
    {
     "name": "stderr",
     "output_type": "stream",
     "text": [
      "\r",
      " 37%|███▋      | 218/597 [01:18<04:33,  1.39it/s]"
     ]
    },
    {
     "name": "stdout",
     "output_type": "stream",
     "text": [
      "bone-penn-217\n",
      "I'm doing the thing.\n"
     ]
    },
    {
     "name": "stderr",
     "output_type": "stream",
     "text": [
      "\r",
      " 37%|███▋      | 219/597 [01:19<04:12,  1.49it/s]"
     ]
    },
    {
     "name": "stdout",
     "output_type": "stream",
     "text": [
      "bone-penn-218\n",
      "I'm doing the thing.\n"
     ]
    },
    {
     "name": "stderr",
     "output_type": "stream",
     "text": [
      "\r",
      " 37%|███▋      | 220/597 [01:20<04:28,  1.40it/s]"
     ]
    },
    {
     "name": "stdout",
     "output_type": "stream",
     "text": [
      "bone-penn-219\n",
      "I'm doing the thing.\n"
     ]
    },
    {
     "name": "stderr",
     "output_type": "stream",
     "text": [
      "\r",
      " 37%|███▋      | 221/597 [01:20<03:57,  1.58it/s]"
     ]
    },
    {
     "name": "stdout",
     "output_type": "stream",
     "text": [
      "bone-penn-220\n",
      "I'm doing the thing.\n"
     ]
    },
    {
     "name": "stderr",
     "output_type": "stream",
     "text": [
      "\r",
      " 37%|███▋      | 222/597 [01:21<04:02,  1.55it/s]"
     ]
    },
    {
     "name": "stdout",
     "output_type": "stream",
     "text": [
      "bone-penn-222\n",
      "I'm doing the thing.\n"
     ]
    },
    {
     "name": "stderr",
     "output_type": "stream",
     "text": [
      "\r",
      " 37%|███▋      | 223/597 [01:21<03:24,  1.83it/s]"
     ]
    },
    {
     "name": "stdout",
     "output_type": "stream",
     "text": [
      "bone-penn-223\n",
      "I'm doing the thing.\n"
     ]
    },
    {
     "name": "stderr",
     "output_type": "stream",
     "text": [
      "\r",
      " 38%|███▊      | 224/597 [01:23<05:05,  1.22it/s]"
     ]
    },
    {
     "name": "stdout",
     "output_type": "stream",
     "text": [
      "bone-penn-224\n",
      "I'm doing the thing.\n"
     ]
    },
    {
     "name": "stderr",
     "output_type": "stream",
     "text": [
      "\r",
      " 38%|███▊      | 225/597 [01:23<03:57,  1.57it/s]"
     ]
    },
    {
     "name": "stdout",
     "output_type": "stream",
     "text": [
      "bone-penn-227\n",
      "I'm doing the thing.\n"
     ]
    },
    {
     "name": "stderr",
     "output_type": "stream",
     "text": [
      "\r",
      " 38%|███▊      | 226/597 [01:23<03:53,  1.59it/s]"
     ]
    },
    {
     "name": "stdout",
     "output_type": "stream",
     "text": [
      "bone-penn-231\n",
      "I'm doing the thing.\n"
     ]
    },
    {
     "name": "stderr",
     "output_type": "stream",
     "text": [
      "\r",
      " 38%|███▊      | 227/597 [01:25<05:22,  1.15it/s]"
     ]
    },
    {
     "name": "stdout",
     "output_type": "stream",
     "text": [
      "bone-penn-236\n",
      "I'm doing the thing.\n"
     ]
    },
    {
     "name": "stderr",
     "output_type": "stream",
     "text": [
      "\r",
      " 38%|███▊      | 228/597 [01:26<05:29,  1.12it/s]"
     ]
    },
    {
     "name": "stdout",
     "output_type": "stream",
     "text": [
      "bone-penn-238\n",
      "I'm doing the thing.\n"
     ]
    },
    {
     "name": "stderr",
     "output_type": "stream",
     "text": [
      "\r",
      " 38%|███▊      | 229/597 [01:26<05:06,  1.20it/s]"
     ]
    },
    {
     "name": "stdout",
     "output_type": "stream",
     "text": [
      "bone-penn-239\n",
      "I'm doing the thing.\n"
     ]
    },
    {
     "name": "stderr",
     "output_type": "stream",
     "text": [
      "\r",
      " 39%|███▊      | 230/597 [01:27<04:48,  1.27it/s]"
     ]
    },
    {
     "name": "stdout",
     "output_type": "stream",
     "text": [
      "bone-penn-241\n",
      "I'm doing the thing.\n"
     ]
    },
    {
     "name": "stderr",
     "output_type": "stream",
     "text": [
      "\r",
      " 39%|███▊      | 231/597 [01:29<07:07,  1.17s/it]"
     ]
    },
    {
     "name": "stdout",
     "output_type": "stream",
     "text": [
      "bone-penn-245\n",
      "I'm doing the thing.\n"
     ]
    },
    {
     "name": "stderr",
     "output_type": "stream",
     "text": [
      " 39%|███▉      | 233/597 [01:30<04:14,  1.43it/s]"
     ]
    },
    {
     "name": "stdout",
     "output_type": "stream",
     "text": [
      "bone-penn-246\n",
      "I'm doing the thing.\n",
      "bone-penn-247\n",
      "I'm doing the thing.\n"
     ]
    },
    {
     "name": "stderr",
     "output_type": "stream",
     "text": [
      "\r",
      " 39%|███▉      | 234/597 [01:30<03:24,  1.78it/s]"
     ]
    },
    {
     "name": "stdout",
     "output_type": "stream",
     "text": [
      "bone-penn-250\n",
      "I'm doing the thing.\n"
     ]
    },
    {
     "name": "stderr",
     "output_type": "stream",
     "text": [
      " 40%|███▉      | 236/597 [01:31<02:35,  2.33it/s]"
     ]
    },
    {
     "name": "stdout",
     "output_type": "stream",
     "text": [
      "bone-penn-252\n",
      "I'm doing the thing.\n",
      "bone-penn-253\n",
      "I'm doing the thing.\n"
     ]
    },
    {
     "name": "stderr",
     "output_type": "stream",
     "text": [
      "\r",
      " 40%|███▉      | 237/597 [01:31<02:23,  2.51it/s]"
     ]
    },
    {
     "name": "stdout",
     "output_type": "stream",
     "text": [
      "bone-penn-254\n",
      "I'm doing the thing.\n"
     ]
    },
    {
     "name": "stderr",
     "output_type": "stream",
     "text": [
      "\r",
      " 40%|███▉      | 238/597 [01:31<02:20,  2.56it/s]"
     ]
    },
    {
     "name": "stdout",
     "output_type": "stream",
     "text": [
      "bone-penn-255\n",
      "I'm doing the thing.\n"
     ]
    },
    {
     "name": "stderr",
     "output_type": "stream",
     "text": [
      " 40%|████      | 240/597 [01:32<01:59,  2.99it/s]"
     ]
    },
    {
     "name": "stdout",
     "output_type": "stream",
     "text": [
      "bone-penn-257\n",
      "I'm doing the thing.\n",
      "bone-penn-260\n",
      "I'm doing the thing.\n"
     ]
    },
    {
     "name": "stderr",
     "output_type": "stream",
     "text": [
      " 41%|████      | 242/597 [01:33<02:00,  2.94it/s]"
     ]
    },
    {
     "name": "stdout",
     "output_type": "stream",
     "text": [
      "bone-penn-261\n",
      "I'm doing the thing.\n",
      "bone-penn-262\n",
      "I'm doing the thing.\n"
     ]
    },
    {
     "name": "stderr",
     "output_type": "stream",
     "text": [
      "\r",
      " 41%|████      | 243/597 [01:33<02:13,  2.64it/s]"
     ]
    },
    {
     "name": "stdout",
     "output_type": "stream",
     "text": [
      "bone-penn-266\n",
      "I'm doing the thing.\n"
     ]
    },
    {
     "name": "stderr",
     "output_type": "stream",
     "text": [
      " 41%|████      | 245/597 [01:34<01:37,  3.60it/s]"
     ]
    },
    {
     "name": "stdout",
     "output_type": "stream",
     "text": [
      "bone-penn-268\n",
      "I'm doing the thing.\n",
      "bone-penn-269\n",
      "I'm doing the thing.\n",
      "bone-penn-277\n",
      "I'm doing the thing.\n"
     ]
    },
    {
     "name": "stderr",
     "output_type": "stream",
     "text": [
      "\r",
      " 41%|████▏     | 247/597 [01:34<01:54,  3.05it/s]"
     ]
    },
    {
     "name": "stdout",
     "output_type": "stream",
     "text": [
      "bone-penn-278\n",
      "I'm doing the thing.\n"
     ]
    },
    {
     "name": "stderr",
     "output_type": "stream",
     "text": [
      "\r",
      " 42%|████▏     | 248/597 [01:35<02:29,  2.33it/s]"
     ]
    },
    {
     "name": "stdout",
     "output_type": "stream",
     "text": [
      "bone-penn-279\n",
      "I'm doing the thing.\n"
     ]
    },
    {
     "name": "stderr",
     "output_type": "stream",
     "text": [
      " 42%|████▏     | 250/597 [01:37<03:04,  1.88it/s]"
     ]
    },
    {
     "name": "stdout",
     "output_type": "stream",
     "text": [
      "bone-penn-280\n",
      "I'm doing the thing.\n",
      "bone-penn-282\n",
      "I'm doing the thing.\n"
     ]
    },
    {
     "name": "stderr",
     "output_type": "stream",
     "text": [
      "\r",
      " 42%|████▏     | 251/597 [01:37<02:36,  2.22it/s]"
     ]
    },
    {
     "name": "stdout",
     "output_type": "stream",
     "text": [
      "bone-penn-283\n",
      "I'm doing the thing.\n"
     ]
    },
    {
     "name": "stderr",
     "output_type": "stream",
     "text": [
      "\r",
      " 42%|████▏     | 252/597 [01:38<03:08,  1.83it/s]"
     ]
    },
    {
     "name": "stdout",
     "output_type": "stream",
     "text": [
      "bone-penn-285\n",
      "I'm doing the thing.\n"
     ]
    },
    {
     "name": "stderr",
     "output_type": "stream",
     "text": [
      "\r",
      " 42%|████▏     | 253/597 [01:39<04:40,  1.23it/s]"
     ]
    },
    {
     "name": "stdout",
     "output_type": "stream",
     "text": [
      "bone-penn-286\n",
      "I'm doing the thing.\n"
     ]
    },
    {
     "name": "stderr",
     "output_type": "stream",
     "text": [
      "\r",
      " 43%|████▎     | 254/597 [01:39<03:43,  1.54it/s]"
     ]
    },
    {
     "name": "stdout",
     "output_type": "stream",
     "text": [
      "bone-penn-289\n",
      "I'm doing the thing.\n"
     ]
    },
    {
     "name": "stderr",
     "output_type": "stream",
     "text": [
      "\r",
      " 43%|████▎     | 255/597 [01:40<03:44,  1.53it/s]"
     ]
    },
    {
     "name": "stdout",
     "output_type": "stream",
     "text": [
      "bone-penn-291\n",
      "I'm doing the thing.\n"
     ]
    },
    {
     "name": "stderr",
     "output_type": "stream",
     "text": [
      "\r",
      " 43%|████▎     | 256/597 [01:40<03:15,  1.75it/s]"
     ]
    },
    {
     "name": "stdout",
     "output_type": "stream",
     "text": [
      "bone-penn-292\n",
      "I'm doing the thing.\n"
     ]
    },
    {
     "name": "stderr",
     "output_type": "stream",
     "text": [
      " 43%|████▎     | 258/597 [01:41<02:25,  2.33it/s]"
     ]
    },
    {
     "name": "stdout",
     "output_type": "stream",
     "text": [
      "bone-penn-293\n",
      "I'm doing the thing.\n",
      "bone-penn-296\n",
      "I'm doing the thing.\n"
     ]
    },
    {
     "name": "stderr",
     "output_type": "stream",
     "text": [
      "\r",
      " 43%|████▎     | 259/597 [01:42<02:44,  2.05it/s]"
     ]
    },
    {
     "name": "stdout",
     "output_type": "stream",
     "text": [
      "bone-penn-297\n",
      "I'm doing the thing.\n"
     ]
    },
    {
     "name": "stderr",
     "output_type": "stream",
     "text": [
      "\r",
      " 44%|████▎     | 260/597 [01:42<02:26,  2.29it/s]"
     ]
    },
    {
     "name": "stdout",
     "output_type": "stream",
     "text": [
      "bone-penn-298\n",
      "I'm doing the thing.\n"
     ]
    },
    {
     "name": "stderr",
     "output_type": "stream",
     "text": [
      "\r",
      " 44%|████▎     | 261/597 [01:42<02:07,  2.64it/s]"
     ]
    },
    {
     "name": "stdout",
     "output_type": "stream",
     "text": [
      "bone-penn-299\n",
      "I'm doing the thing.\n"
     ]
    },
    {
     "name": "stderr",
     "output_type": "stream",
     "text": [
      " 44%|████▍     | 263/597 [01:43<01:52,  2.98it/s]"
     ]
    },
    {
     "name": "stdout",
     "output_type": "stream",
     "text": [
      "bone-penn-300\n",
      "I'm doing the thing.\n",
      "bone-penn-304\n",
      "I'm doing the thing.\n"
     ]
    },
    {
     "name": "stderr",
     "output_type": "stream",
     "text": [
      "\r",
      " 44%|████▍     | 264/597 [01:43<01:43,  3.21it/s]"
     ]
    },
    {
     "name": "stdout",
     "output_type": "stream",
     "text": [
      "bone-penn-305\n",
      "I'm doing the thing.\n"
     ]
    },
    {
     "name": "stderr",
     "output_type": "stream",
     "text": [
      "\r",
      " 44%|████▍     | 265/597 [01:43<01:37,  3.40it/s]"
     ]
    },
    {
     "name": "stdout",
     "output_type": "stream",
     "text": [
      "bone-penn-307\n",
      "I'm doing the thing.\n"
     ]
    },
    {
     "name": "stderr",
     "output_type": "stream",
     "text": [
      "\r",
      " 45%|████▍     | 266/597 [01:44<02:16,  2.42it/s]"
     ]
    },
    {
     "name": "stdout",
     "output_type": "stream",
     "text": [
      "bone-penn-311\n",
      "I'm doing the thing.\n"
     ]
    },
    {
     "name": "stderr",
     "output_type": "stream",
     "text": [
      "\r",
      " 45%|████▍     | 267/597 [01:45<03:12,  1.72it/s]"
     ]
    },
    {
     "name": "stdout",
     "output_type": "stream",
     "text": [
      "bone-penn-312\n",
      "I'm doing the thing.\n"
     ]
    },
    {
     "name": "stderr",
     "output_type": "stream",
     "text": [
      "\r",
      " 45%|████▍     | 268/597 [01:46<03:42,  1.48it/s]"
     ]
    },
    {
     "name": "stdout",
     "output_type": "stream",
     "text": [
      "bone-penn-313\n",
      "I'm doing the thing.\n"
     ]
    },
    {
     "name": "stderr",
     "output_type": "stream",
     "text": [
      "\r",
      " 45%|████▌     | 269/597 [01:47<04:01,  1.36it/s]"
     ]
    },
    {
     "name": "stdout",
     "output_type": "stream",
     "text": [
      "bone-penn-314\n",
      "I'm doing the thing.\n"
     ]
    },
    {
     "name": "stderr",
     "output_type": "stream",
     "text": [
      "\r",
      " 45%|████▌     | 270/597 [01:48<04:09,  1.31it/s]"
     ]
    },
    {
     "name": "stdout",
     "output_type": "stream",
     "text": [
      "bone-penn-316\n",
      "I'm doing the thing.\n"
     ]
    },
    {
     "name": "stderr",
     "output_type": "stream",
     "text": [
      " 46%|████▌     | 272/597 [01:48<02:36,  2.08it/s]"
     ]
    },
    {
     "name": "stdout",
     "output_type": "stream",
     "text": [
      "bone-penn-317\n",
      "I'm doing the thing.\n",
      "bone-penn-319\n",
      "I'm doing the thing.\n"
     ]
    },
    {
     "name": "stderr",
     "output_type": "stream",
     "text": [
      "\r",
      " 46%|████▌     | 274/597 [01:48<02:00,  2.67it/s]"
     ]
    },
    {
     "name": "stdout",
     "output_type": "stream",
     "text": [
      "bone-penn-320\n",
      "I'm doing the thing.\n",
      "bone-penn-322\n",
      "I'm doing the thing.\n"
     ]
    },
    {
     "name": "stderr",
     "output_type": "stream",
     "text": [
      "\r",
      " 46%|████▌     | 275/597 [01:48<01:40,  3.22it/s]"
     ]
    },
    {
     "name": "stdout",
     "output_type": "stream",
     "text": [
      "bone-penn-328\n",
      "I'm doing the thing.\n"
     ]
    },
    {
     "name": "stderr",
     "output_type": "stream",
     "text": [
      "\r",
      " 46%|████▌     | 276/597 [01:49<01:35,  3.35it/s]"
     ]
    },
    {
     "name": "stdout",
     "output_type": "stream",
     "text": [
      "bone-penn-330\n",
      "I'm doing the thing.\n"
     ]
    },
    {
     "name": "stderr",
     "output_type": "stream",
     "text": [
      "\r",
      " 46%|████▋     | 277/597 [01:50<02:43,  1.96it/s]"
     ]
    },
    {
     "name": "stdout",
     "output_type": "stream",
     "text": [
      "bone-penn-332\n",
      "I'm doing the thing.\n"
     ]
    },
    {
     "name": "stderr",
     "output_type": "stream",
     "text": [
      "\r",
      " 47%|████▋     | 278/597 [01:50<02:56,  1.81it/s]"
     ]
    },
    {
     "name": "stdout",
     "output_type": "stream",
     "text": [
      "bone-penn-335\n",
      "I'm doing the thing.\n"
     ]
    },
    {
     "name": "stderr",
     "output_type": "stream",
     "text": [
      " 47%|████▋     | 280/597 [01:53<03:53,  1.36it/s]"
     ]
    },
    {
     "name": "stdout",
     "output_type": "stream",
     "text": [
      "bone-penn-337\n",
      "I'm doing the thing.\n",
      "bone-penn-338\n",
      "I'm doing the thing.\n"
     ]
    },
    {
     "name": "stderr",
     "output_type": "stream",
     "text": [
      "\r",
      " 47%|████▋     | 281/597 [01:53<02:55,  1.80it/s]"
     ]
    },
    {
     "name": "stdout",
     "output_type": "stream",
     "text": [
      "bone-penn-339\n",
      "I'm doing the thing.\n"
     ]
    },
    {
     "name": "stderr",
     "output_type": "stream",
     "text": [
      "\r",
      " 47%|████▋     | 282/597 [01:53<02:57,  1.78it/s]"
     ]
    },
    {
     "name": "stdout",
     "output_type": "stream",
     "text": [
      "bone-penn-340\n",
      "I'm doing the thing.\n"
     ]
    },
    {
     "name": "stderr",
     "output_type": "stream",
     "text": [
      "\r",
      " 47%|████▋     | 283/597 [01:53<02:27,  2.13it/s]"
     ]
    },
    {
     "name": "stdout",
     "output_type": "stream",
     "text": [
      "bone-penn-341\n",
      "I'm doing the thing.\n"
     ]
    },
    {
     "name": "stderr",
     "output_type": "stream",
     "text": [
      "\r",
      " 48%|████▊     | 284/597 [01:54<02:40,  1.95it/s]"
     ]
    },
    {
     "name": "stdout",
     "output_type": "stream",
     "text": [
      "bone-penn-342\n",
      "I'm doing the thing.\n"
     ]
    },
    {
     "name": "stderr",
     "output_type": "stream",
     "text": [
      " 48%|████▊     | 286/597 [01:55<01:53,  2.73it/s]"
     ]
    },
    {
     "name": "stdout",
     "output_type": "stream",
     "text": [
      "bone-penn-343\n",
      "I'm doing the thing.\n",
      "bone-penn-345\n",
      "I'm doing the thing.\n"
     ]
    },
    {
     "name": "stderr",
     "output_type": "stream",
     "text": [
      " 48%|████▊     | 288/597 [01:55<01:17,  4.01it/s]"
     ]
    },
    {
     "name": "stdout",
     "output_type": "stream",
     "text": [
      "bone-penn-346\n",
      "I'm doing the thing.\n",
      "bone-penn-347\n",
      "I'm doing the thing.\n"
     ]
    },
    {
     "name": "stderr",
     "output_type": "stream",
     "text": [
      " 49%|████▊     | 290/597 [01:55<01:04,  4.74it/s]"
     ]
    },
    {
     "name": "stdout",
     "output_type": "stream",
     "text": [
      "bone-penn-348\n",
      "I'm doing the thing.\n",
      "bone-penn-349\n",
      "I'm doing the thing.\n"
     ]
    },
    {
     "name": "stderr",
     "output_type": "stream",
     "text": [
      "\r",
      " 49%|████▊     | 291/597 [01:55<00:59,  5.13it/s]"
     ]
    },
    {
     "name": "stdout",
     "output_type": "stream",
     "text": [
      "bone-penn-356\n",
      "I'm doing the thing.\n"
     ]
    },
    {
     "name": "stderr",
     "output_type": "stream",
     "text": [
      "\r",
      " 49%|████▉     | 292/597 [01:56<02:12,  2.30it/s]"
     ]
    },
    {
     "name": "stdout",
     "output_type": "stream",
     "text": [
      "bone-penn-362\n",
      "I'm doing the thing.\n"
     ]
    },
    {
     "name": "stderr",
     "output_type": "stream",
     "text": [
      "\r",
      " 49%|████▉     | 293/597 [01:57<02:32,  2.00it/s]"
     ]
    },
    {
     "name": "stdout",
     "output_type": "stream",
     "text": [
      "bone-penn-363\n",
      "I'm doing the thing.\n"
     ]
    },
    {
     "name": "stderr",
     "output_type": "stream",
     "text": [
      "\r",
      " 49%|████▉     | 294/597 [01:58<03:11,  1.58it/s]"
     ]
    },
    {
     "name": "stdout",
     "output_type": "stream",
     "text": [
      "bone-penn-364\n",
      "I'm doing the thing.\n"
     ]
    },
    {
     "name": "stderr",
     "output_type": "stream",
     "text": [
      "\r",
      " 49%|████▉     | 295/597 [01:59<03:14,  1.55it/s]"
     ]
    },
    {
     "name": "stdout",
     "output_type": "stream",
     "text": [
      "bone-penn-367\n",
      "I'm doing the thing.\n",
      "bone-penn-368\n",
      "I'm doing the thing.\n"
     ]
    },
    {
     "name": "stderr",
     "output_type": "stream",
     "text": [
      "\r",
      " 50%|████▉     | 297/597 [01:59<02:25,  2.06it/s]"
     ]
    },
    {
     "name": "stdout",
     "output_type": "stream",
     "text": [
      "bone-penn-369\n",
      "I'm doing the thing.\n"
     ]
    },
    {
     "name": "stderr",
     "output_type": "stream",
     "text": [
      "\r",
      " 50%|████▉     | 298/597 [01:59<02:00,  2.49it/s]"
     ]
    },
    {
     "name": "stdout",
     "output_type": "stream",
     "text": [
      "bone-penn-370\n",
      "I'm doing the thing.\n"
     ]
    },
    {
     "name": "stderr",
     "output_type": "stream",
     "text": [
      "\r",
      " 50%|█████     | 299/597 [01:59<01:42,  2.90it/s]"
     ]
    },
    {
     "name": "stdout",
     "output_type": "stream",
     "text": [
      "bone-penn-372\n",
      "I'm doing the thing.\n"
     ]
    },
    {
     "name": "stderr",
     "output_type": "stream",
     "text": [
      "\r",
      " 50%|█████     | 300/597 [02:00<01:52,  2.65it/s]"
     ]
    },
    {
     "name": "stdout",
     "output_type": "stream",
     "text": [
      "bone-penn-374\n",
      "I'm doing the thing.\n"
     ]
    },
    {
     "name": "stderr",
     "output_type": "stream",
     "text": [
      "\r",
      " 50%|█████     | 301/597 [02:00<01:56,  2.55it/s]"
     ]
    },
    {
     "name": "stdout",
     "output_type": "stream",
     "text": [
      "bone-penn-375\n",
      "I'm doing the thing.\n"
     ]
    },
    {
     "name": "stderr",
     "output_type": "stream",
     "text": [
      "\r",
      " 51%|█████     | 302/597 [02:01<02:01,  2.43it/s]"
     ]
    },
    {
     "name": "stdout",
     "output_type": "stream",
     "text": [
      "bone-penn-379\n",
      "I'm doing the thing.\n"
     ]
    },
    {
     "name": "stderr",
     "output_type": "stream",
     "text": [
      "\r",
      " 51%|█████     | 303/597 [02:01<01:47,  2.73it/s]"
     ]
    },
    {
     "name": "stdout",
     "output_type": "stream",
     "text": [
      "bone-penn-380\n",
      "I'm doing the thing.\n"
     ]
    },
    {
     "name": "stderr",
     "output_type": "stream",
     "text": [
      " 51%|█████     | 305/597 [02:02<02:03,  2.37it/s]"
     ]
    },
    {
     "name": "stdout",
     "output_type": "stream",
     "text": [
      "bone-penn-382\n",
      "I'm doing the thing.\n",
      "bone-penn-384\n",
      "I'm doing the thing.\n"
     ]
    },
    {
     "name": "stderr",
     "output_type": "stream",
     "text": [
      "\r",
      " 51%|█████▏    | 306/597 [02:02<01:40,  2.88it/s]"
     ]
    },
    {
     "name": "stdout",
     "output_type": "stream",
     "text": [
      "bone-penn-385\n",
      "I'm doing the thing.\n"
     ]
    },
    {
     "name": "stderr",
     "output_type": "stream",
     "text": [
      "\r",
      " 51%|█████▏    | 307/597 [02:03<02:01,  2.38it/s]"
     ]
    },
    {
     "name": "stdout",
     "output_type": "stream",
     "text": [
      "bone-penn-386\n",
      "I'm doing the thing.\n"
     ]
    },
    {
     "name": "stderr",
     "output_type": "stream",
     "text": [
      " 52%|█████▏    | 309/597 [02:04<01:55,  2.49it/s]"
     ]
    },
    {
     "name": "stdout",
     "output_type": "stream",
     "text": [
      "bone-penn-388\n",
      "I'm doing the thing.\n",
      "bone-penn-391\n",
      "I'm doing the thing.\n"
     ]
    },
    {
     "name": "stderr",
     "output_type": "stream",
     "text": [
      "\r",
      " 52%|█████▏    | 310/597 [02:04<01:45,  2.73it/s]"
     ]
    },
    {
     "name": "stdout",
     "output_type": "stream",
     "text": [
      "bone-penn-392\n",
      "I'm doing the thing.\n"
     ]
    },
    {
     "name": "stderr",
     "output_type": "stream",
     "text": [
      "\r",
      " 52%|█████▏    | 311/597 [02:05<02:22,  2.01it/s]"
     ]
    },
    {
     "name": "stdout",
     "output_type": "stream",
     "text": [
      "bone-penn-396\n",
      "I'm doing the thing.\n"
     ]
    },
    {
     "name": "stderr",
     "output_type": "stream",
     "text": [
      "\r",
      " 52%|█████▏    | 312/597 [02:06<02:56,  1.61it/s]"
     ]
    },
    {
     "name": "stdout",
     "output_type": "stream",
     "text": [
      "bone-penn-397\n",
      "I'm doing the thing.\n"
     ]
    },
    {
     "name": "stderr",
     "output_type": "stream",
     "text": [
      "\r",
      " 52%|█████▏    | 313/597 [02:07<03:28,  1.36it/s]"
     ]
    },
    {
     "name": "stdout",
     "output_type": "stream",
     "text": [
      "bone-penn-405\n",
      "I'm doing the thing.\n"
     ]
    },
    {
     "name": "stderr",
     "output_type": "stream",
     "text": [
      "\r",
      " 53%|█████▎    | 314/597 [02:07<02:58,  1.58it/s]"
     ]
    },
    {
     "name": "stdout",
     "output_type": "stream",
     "text": [
      "bone-penn-413\n",
      "I'm doing the thing.\n"
     ]
    },
    {
     "name": "stderr",
     "output_type": "stream",
     "text": [
      "\r",
      " 53%|█████▎    | 315/597 [02:07<02:39,  1.77it/s]"
     ]
    },
    {
     "name": "stdout",
     "output_type": "stream",
     "text": [
      "bone-penn-425\n",
      "I'm doing the thing.\n"
     ]
    },
    {
     "name": "stderr",
     "output_type": "stream",
     "text": [
      "\r",
      " 53%|█████▎    | 316/597 [02:08<02:47,  1.68it/s]"
     ]
    },
    {
     "name": "stdout",
     "output_type": "stream",
     "text": [
      "bone-penn-429\n",
      "I'm doing the thing.\n"
     ]
    },
    {
     "name": "stderr",
     "output_type": "stream",
     "text": [
      "\r",
      " 53%|█████▎    | 317/597 [02:09<02:35,  1.80it/s]"
     ]
    },
    {
     "name": "stdout",
     "output_type": "stream",
     "text": [
      "bone-penn-433\n",
      "I'm doing the thing.\n"
     ]
    },
    {
     "name": "stderr",
     "output_type": "stream",
     "text": [
      "\r",
      " 53%|█████▎    | 318/597 [02:10<03:55,  1.18it/s]"
     ]
    },
    {
     "name": "stdout",
     "output_type": "stream",
     "text": [
      "bone-penn-435\n",
      "I'm doing the thing.\n"
     ]
    },
    {
     "name": "stderr",
     "output_type": "stream",
     "text": [
      "\r",
      " 53%|█████▎    | 319/597 [02:10<03:06,  1.49it/s]"
     ]
    },
    {
     "name": "stdout",
     "output_type": "stream",
     "text": [
      "bone-penn-446\n",
      "I'm doing the thing.\n"
     ]
    },
    {
     "name": "stderr",
     "output_type": "stream",
     "text": [
      "\r",
      " 54%|█████▎    | 320/597 [02:11<03:12,  1.44it/s]"
     ]
    },
    {
     "name": "stdout",
     "output_type": "stream",
     "text": [
      "bone-penn-453\n",
      "I'm doing the thing.\n"
     ]
    },
    {
     "name": "stderr",
     "output_type": "stream",
     "text": [
      " 54%|█████▍    | 322/597 [02:12<02:10,  2.10it/s]"
     ]
    },
    {
     "name": "stdout",
     "output_type": "stream",
     "text": [
      "bone-penn-454\n",
      "I'm doing the thing.\n",
      "bone-penn-457\n",
      "I'm doing the thing.\n"
     ]
    },
    {
     "name": "stderr",
     "output_type": "stream",
     "text": [
      "\r",
      " 54%|█████▍    | 323/597 [02:12<01:44,  2.61it/s]"
     ]
    },
    {
     "name": "stdout",
     "output_type": "stream",
     "text": [
      "bone-penn-458\n",
      "I'm doing the thing.\n"
     ]
    },
    {
     "name": "stderr",
     "output_type": "stream",
     "text": [
      " 54%|█████▍    | 325/597 [02:13<01:49,  2.49it/s]"
     ]
    },
    {
     "name": "stdout",
     "output_type": "stream",
     "text": [
      "bone-penn-459\n",
      "I'm doing the thing.\n",
      "bone-penn-460\n",
      "I'm doing the thing.\n"
     ]
    },
    {
     "name": "stderr",
     "output_type": "stream",
     "text": [
      "\r",
      " 55%|█████▍    | 326/597 [02:13<01:36,  2.81it/s]"
     ]
    },
    {
     "name": "stdout",
     "output_type": "stream",
     "text": [
      "bone-penn-461\n",
      "I'm doing the thing.\n"
     ]
    },
    {
     "name": "stderr",
     "output_type": "stream",
     "text": [
      "\r",
      " 55%|█████▍    | 327/597 [02:14<01:54,  2.35it/s]"
     ]
    },
    {
     "name": "stdout",
     "output_type": "stream",
     "text": [
      "bone-penn-463\n",
      "I'm doing the thing.\n"
     ]
    },
    {
     "name": "stderr",
     "output_type": "stream",
     "text": [
      "\r",
      " 55%|█████▍    | 328/597 [02:14<01:42,  2.61it/s]"
     ]
    },
    {
     "name": "stdout",
     "output_type": "stream",
     "text": [
      "bone-penn-465\n",
      "I'm doing the thing.\n"
     ]
    },
    {
     "name": "stderr",
     "output_type": "stream",
     "text": [
      "\r",
      " 55%|█████▌    | 329/597 [02:15<02:22,  1.89it/s]"
     ]
    },
    {
     "name": "stdout",
     "output_type": "stream",
     "text": [
      "bone-penn-467\n",
      "I'm doing the thing.\n"
     ]
    },
    {
     "name": "stderr",
     "output_type": "stream",
     "text": [
      "\r",
      " 55%|█████▌    | 330/597 [02:15<02:00,  2.22it/s]"
     ]
    },
    {
     "name": "stdout",
     "output_type": "stream",
     "text": [
      "bone-penn-471\n",
      "I'm doing the thing.\n"
     ]
    },
    {
     "name": "stderr",
     "output_type": "stream",
     "text": [
      " 56%|█████▌    | 332/597 [02:15<01:26,  3.05it/s]"
     ]
    },
    {
     "name": "stdout",
     "output_type": "stream",
     "text": [
      "bone-penn-473\n",
      "I'm doing the thing.\n",
      "bone-penn-476\n",
      "I'm doing the thing.\n"
     ]
    },
    {
     "name": "stderr",
     "output_type": "stream",
     "text": [
      "\r",
      " 56%|█████▌    | 333/597 [02:16<01:12,  3.66it/s]"
     ]
    },
    {
     "name": "stdout",
     "output_type": "stream",
     "text": [
      "bone-penn-478\n",
      "I'm doing the thing.\n"
     ]
    },
    {
     "name": "stderr",
     "output_type": "stream",
     "text": [
      "\r",
      " 56%|█████▌    | 334/597 [02:16<01:18,  3.35it/s]"
     ]
    },
    {
     "name": "stdout",
     "output_type": "stream",
     "text": [
      "bone-penn-480\n",
      "I'm doing the thing.\n"
     ]
    },
    {
     "name": "stderr",
     "output_type": "stream",
     "text": [
      "\r",
      " 56%|█████▌    | 335/597 [02:16<01:30,  2.89it/s]"
     ]
    },
    {
     "name": "stdout",
     "output_type": "stream",
     "text": [
      "bone-penn-482\n",
      "I'm doing the thing.\n"
     ]
    },
    {
     "name": "stderr",
     "output_type": "stream",
     "text": [
      "\r",
      " 56%|█████▋    | 336/597 [02:18<02:47,  1.56it/s]"
     ]
    },
    {
     "name": "stdout",
     "output_type": "stream",
     "text": [
      "bone-penn-484\n",
      "I'm doing the thing.\n"
     ]
    },
    {
     "name": "stderr",
     "output_type": "stream",
     "text": [
      "\r",
      " 56%|█████▋    | 337/597 [02:18<02:24,  1.81it/s]"
     ]
    },
    {
     "name": "stdout",
     "output_type": "stream",
     "text": [
      "bone-penn-487\n",
      "I'm doing the thing.\n"
     ]
    },
    {
     "name": "stderr",
     "output_type": "stream",
     "text": [
      "\r",
      " 57%|█████▋    | 338/597 [02:19<03:22,  1.28it/s]"
     ]
    },
    {
     "name": "stdout",
     "output_type": "stream",
     "text": [
      "bone-penn-489\n",
      "I'm doing the thing.\n"
     ]
    },
    {
     "name": "stderr",
     "output_type": "stream",
     "text": [
      "\r",
      " 57%|█████▋    | 339/597 [02:21<03:57,  1.09it/s]"
     ]
    },
    {
     "name": "stdout",
     "output_type": "stream",
     "text": [
      "bone-penn-490\n",
      "I'm doing the thing.\n"
     ]
    },
    {
     "name": "stderr",
     "output_type": "stream",
     "text": [
      "\r",
      " 57%|█████▋    | 340/597 [02:21<03:38,  1.18it/s]"
     ]
    },
    {
     "name": "stdout",
     "output_type": "stream",
     "text": [
      "bone-penn-494\n",
      "I'm doing the thing.\n"
     ]
    },
    {
     "name": "stderr",
     "output_type": "stream",
     "text": [
      "\r",
      " 57%|█████▋    | 341/597 [02:22<03:34,  1.19it/s]"
     ]
    },
    {
     "name": "stdout",
     "output_type": "stream",
     "text": [
      "bone-penn-495\n",
      "I'm doing the thing.\n"
     ]
    },
    {
     "name": "stderr",
     "output_type": "stream",
     "text": [
      "\r",
      " 57%|█████▋    | 342/597 [02:22<02:46,  1.53it/s]"
     ]
    },
    {
     "name": "stdout",
     "output_type": "stream",
     "text": [
      "bone-penn-496\n",
      "I'm doing the thing.\n"
     ]
    },
    {
     "name": "stderr",
     "output_type": "stream",
     "text": [
      " 58%|█████▊    | 344/597 [02:23<02:14,  1.88it/s]"
     ]
    },
    {
     "name": "stdout",
     "output_type": "stream",
     "text": [
      "bone-penn-497\n",
      "I'm doing the thing.\n",
      "bone-penn-501\n",
      "I'm doing the thing.\n"
     ]
    },
    {
     "name": "stderr",
     "output_type": "stream",
     "text": [
      " 58%|█████▊    | 346/597 [02:24<01:25,  2.94it/s]"
     ]
    },
    {
     "name": "stdout",
     "output_type": "stream",
     "text": [
      "bone-penn-503\n",
      "I'm doing the thing.\n",
      "bone-penn-506\n",
      "I'm doing the thing.\n"
     ]
    },
    {
     "name": "stderr",
     "output_type": "stream",
     "text": [
      " 58%|█████▊    | 349/597 [02:24<01:01,  4.02it/s]"
     ]
    },
    {
     "name": "stdout",
     "output_type": "stream",
     "text": [
      "bone-penn-509\n",
      "I'm doing the thing.\n",
      "bone-penn-512\n",
      "I'm doing the thing.\n",
      "bone-penn-514\n",
      "I'm doing the thing.\n"
     ]
    },
    {
     "name": "stderr",
     "output_type": "stream",
     "text": [
      "\r",
      " 59%|█████▊    | 350/597 [02:25<01:19,  3.09it/s]"
     ]
    },
    {
     "name": "stdout",
     "output_type": "stream",
     "text": [
      "bone-penn-515\n",
      "I'm doing the thing.\n"
     ]
    },
    {
     "name": "stderr",
     "output_type": "stream",
     "text": [
      "\r",
      " 59%|█████▉    | 351/597 [02:25<01:44,  2.35it/s]"
     ]
    },
    {
     "name": "stdout",
     "output_type": "stream",
     "text": [
      "bone-penn-516\n",
      "I'm doing the thing.\n"
     ]
    },
    {
     "name": "stderr",
     "output_type": "stream",
     "text": [
      "\r",
      " 59%|█████▉    | 352/597 [02:26<01:48,  2.26it/s]"
     ]
    },
    {
     "name": "stdout",
     "output_type": "stream",
     "text": [
      "bone-penn-517\n",
      "I'm doing the thing.\n"
     ]
    },
    {
     "name": "stderr",
     "output_type": "stream",
     "text": [
      "\r",
      " 59%|█████▉    | 353/597 [02:26<01:49,  2.22it/s]"
     ]
    },
    {
     "name": "stdout",
     "output_type": "stream",
     "text": [
      "bone-penn-518\n",
      "I'm doing the thing.\n"
     ]
    },
    {
     "name": "stderr",
     "output_type": "stream",
     "text": [
      " 59%|█████▉    | 355/597 [02:27<01:27,  2.75it/s]"
     ]
    },
    {
     "name": "stdout",
     "output_type": "stream",
     "text": [
      "bone-penn-520\n",
      "I'm doing the thing.\n",
      "bone-penn-521\n",
      "I'm doing the thing.\n"
     ]
    },
    {
     "name": "stderr",
     "output_type": "stream",
     "text": [
      "\r",
      " 60%|█████▉    | 356/597 [02:27<01:38,  2.45it/s]"
     ]
    },
    {
     "name": "stdout",
     "output_type": "stream",
     "text": [
      "bone-penn-522\n",
      "I'm doing the thing.\n"
     ]
    },
    {
     "name": "stderr",
     "output_type": "stream",
     "text": [
      " 60%|█████▉    | 358/597 [02:28<01:13,  3.27it/s]"
     ]
    },
    {
     "name": "stdout",
     "output_type": "stream",
     "text": [
      "bone-penn-527\n",
      "I'm doing the thing.\n",
      "bone-penn-528\n",
      "I'm doing the thing.\n"
     ]
    },
    {
     "name": "stderr",
     "output_type": "stream",
     "text": [
      "\r",
      " 60%|██████    | 359/597 [02:28<00:58,  4.08it/s]"
     ]
    },
    {
     "name": "stdout",
     "output_type": "stream",
     "text": [
      "bone-penn-529\n",
      "I'm doing the thing.\n"
     ]
    },
    {
     "name": "stderr",
     "output_type": "stream",
     "text": [
      "\r",
      " 60%|██████    | 360/597 [02:29<01:37,  2.42it/s]"
     ]
    },
    {
     "name": "stdout",
     "output_type": "stream",
     "text": [
      "bone-penn-530\n",
      "I'm doing the thing.\n"
     ]
    },
    {
     "name": "stderr",
     "output_type": "stream",
     "text": [
      "\r",
      " 60%|██████    | 361/597 [02:29<01:35,  2.46it/s]"
     ]
    },
    {
     "name": "stdout",
     "output_type": "stream",
     "text": [
      "bone-penn-535\n",
      "I'm doing the thing.\n"
     ]
    },
    {
     "name": "stderr",
     "output_type": "stream",
     "text": [
      "\r",
      " 61%|██████    | 362/597 [02:30<02:26,  1.60it/s]"
     ]
    },
    {
     "name": "stdout",
     "output_type": "stream",
     "text": [
      "bone-penn-536\n",
      "I'm doing the thing.\n"
     ]
    },
    {
     "name": "stderr",
     "output_type": "stream",
     "text": [
      "\r",
      " 61%|██████    | 363/597 [02:31<02:23,  1.64it/s]"
     ]
    },
    {
     "name": "stdout",
     "output_type": "stream",
     "text": [
      "bone-penn-538\n",
      "I'm doing the thing.\n"
     ]
    },
    {
     "name": "stderr",
     "output_type": "stream",
     "text": [
      " 61%|██████    | 365/597 [02:32<02:00,  1.93it/s]"
     ]
    },
    {
     "name": "stdout",
     "output_type": "stream",
     "text": [
      "bone-penn-541\n",
      "I'm doing the thing.\n",
      "bone-penn-546\n",
      "I'm doing the thing.\n"
     ]
    },
    {
     "name": "stderr",
     "output_type": "stream",
     "text": [
      "\r",
      " 61%|██████▏   | 366/597 [02:32<01:58,  1.95it/s]"
     ]
    },
    {
     "name": "stdout",
     "output_type": "stream",
     "text": [
      "bone-penn-548\n",
      "I'm doing the thing.\n"
     ]
    },
    {
     "name": "stderr",
     "output_type": "stream",
     "text": [
      " 62%|██████▏   | 368/597 [02:33<01:25,  2.69it/s]"
     ]
    },
    {
     "name": "stdout",
     "output_type": "stream",
     "text": [
      "bone-penn-549\n",
      "I'm doing the thing.\n",
      "bone-penn-551\n",
      "I'm doing the thing.\n"
     ]
    },
    {
     "name": "stderr",
     "output_type": "stream",
     "text": [
      "\r",
      " 62%|██████▏   | 369/597 [02:33<01:12,  3.15it/s]"
     ]
    },
    {
     "name": "stdout",
     "output_type": "stream",
     "text": [
      "bone-penn-555\n",
      "I'm doing the thing.\n"
     ]
    },
    {
     "name": "stderr",
     "output_type": "stream",
     "text": [
      "\r",
      " 62%|██████▏   | 370/597 [02:34<01:49,  2.08it/s]"
     ]
    },
    {
     "name": "stdout",
     "output_type": "stream",
     "text": [
      "bone-penn-556\n",
      "I'm doing the thing.\n"
     ]
    },
    {
     "name": "stderr",
     "output_type": "stream",
     "text": [
      "\r",
      " 62%|██████▏   | 371/597 [02:34<02:05,  1.81it/s]"
     ]
    },
    {
     "name": "stdout",
     "output_type": "stream",
     "text": [
      "bone-penn-561\n",
      "I'm doing the thing.\n"
     ]
    },
    {
     "name": "stderr",
     "output_type": "stream",
     "text": [
      "\r",
      " 62%|██████▏   | 372/597 [02:35<02:01,  1.85it/s]"
     ]
    },
    {
     "name": "stdout",
     "output_type": "stream",
     "text": [
      "bone-penn-565\n",
      "I'm doing the thing.\n"
     ]
    },
    {
     "name": "stderr",
     "output_type": "stream",
     "text": [
      "\r",
      " 62%|██████▏   | 373/597 [02:36<02:15,  1.65it/s]"
     ]
    },
    {
     "name": "stdout",
     "output_type": "stream",
     "text": [
      "bone-penn-568\n",
      "I'm doing the thing.\n"
     ]
    },
    {
     "name": "stderr",
     "output_type": "stream",
     "text": [
      "\r",
      " 63%|██████▎   | 374/597 [02:36<01:59,  1.86it/s]"
     ]
    },
    {
     "name": "stdout",
     "output_type": "stream",
     "text": [
      "bone-penn-571\n",
      "I'm doing the thing.\n"
     ]
    },
    {
     "name": "stderr",
     "output_type": "stream",
     "text": [
      "\r",
      " 63%|██████▎   | 375/597 [02:37<02:10,  1.70it/s]"
     ]
    },
    {
     "name": "stdout",
     "output_type": "stream",
     "text": [
      "bone-penn-572\n",
      "I'm doing the thing.\n"
     ]
    },
    {
     "name": "stderr",
     "output_type": "stream",
     "text": [
      "\r",
      " 63%|██████▎   | 376/597 [02:37<01:49,  2.03it/s]"
     ]
    },
    {
     "name": "stdout",
     "output_type": "stream",
     "text": [
      "bone-penn-575\n",
      "I'm doing the thing.\n"
     ]
    },
    {
     "name": "stderr",
     "output_type": "stream",
     "text": [
      "\r",
      " 63%|██████▎   | 377/597 [02:38<02:00,  1.83it/s]"
     ]
    },
    {
     "name": "stdout",
     "output_type": "stream",
     "text": [
      "bone-penn-577\n",
      "I'm doing the thing.\n"
     ]
    },
    {
     "name": "stderr",
     "output_type": "stream",
     "text": [
      "\r",
      " 63%|██████▎   | 378/597 [02:39<02:43,  1.34it/s]"
     ]
    },
    {
     "name": "stdout",
     "output_type": "stream",
     "text": [
      "bone-penn-578\n",
      "I'm doing the thing.\n"
     ]
    },
    {
     "name": "stderr",
     "output_type": "stream",
     "text": [
      " 64%|██████▎   | 380/597 [02:42<03:56,  1.09s/it]"
     ]
    },
    {
     "name": "stdout",
     "output_type": "stream",
     "text": [
      "bone-penn-579\n",
      "I'm doing the thing.\n",
      "bone-penn-585\n",
      "I'm doing the thing.\n"
     ]
    },
    {
     "name": "stderr",
     "output_type": "stream",
     "text": [
      " 64%|██████▍   | 382/597 [02:43<02:15,  1.59it/s]"
     ]
    },
    {
     "name": "stdout",
     "output_type": "stream",
     "text": [
      "bone-penn-586\n",
      "I'm doing the thing.\n",
      "bone-penn-587\n",
      "I'm doing the thing.\n"
     ]
    },
    {
     "name": "stderr",
     "output_type": "stream",
     "text": [
      "\r",
      " 64%|██████▍   | 383/597 [02:43<02:07,  1.68it/s]"
     ]
    },
    {
     "name": "stdout",
     "output_type": "stream",
     "text": [
      "bone-penn-588\n",
      "I'm doing the thing.\n"
     ]
    },
    {
     "name": "stderr",
     "output_type": "stream",
     "text": [
      "\r",
      " 64%|██████▍   | 384/597 [02:44<02:08,  1.66it/s]"
     ]
    },
    {
     "name": "stdout",
     "output_type": "stream",
     "text": [
      "bone-penn-589\n",
      "I'm doing the thing.\n"
     ]
    },
    {
     "name": "stderr",
     "output_type": "stream",
     "text": [
      "\r",
      " 64%|██████▍   | 385/597 [02:44<02:06,  1.67it/s]"
     ]
    },
    {
     "name": "stdout",
     "output_type": "stream",
     "text": [
      "bone-penn-591\n",
      "I'm doing the thing.\n"
     ]
    },
    {
     "name": "stderr",
     "output_type": "stream",
     "text": [
      "\r",
      " 65%|██████▍   | 386/597 [02:45<02:07,  1.66it/s]"
     ]
    },
    {
     "name": "stdout",
     "output_type": "stream",
     "text": [
      "bone-penn-592\n",
      "I'm doing the thing.\n"
     ]
    },
    {
     "name": "stderr",
     "output_type": "stream",
     "text": [
      "\r",
      " 65%|██████▍   | 387/597 [02:45<01:43,  2.02it/s]"
     ]
    },
    {
     "name": "stdout",
     "output_type": "stream",
     "text": [
      "bone-penn-593\n",
      "I'm doing the thing.\n"
     ]
    },
    {
     "name": "stderr",
     "output_type": "stream",
     "text": [
      " 65%|██████▌   | 389/597 [02:46<01:08,  3.05it/s]"
     ]
    },
    {
     "name": "stdout",
     "output_type": "stream",
     "text": [
      "bone-penn-596\n",
      "I'm doing the thing.\n",
      "bone-penn-597\n",
      "I'm doing the thing.\n"
     ]
    },
    {
     "name": "stderr",
     "output_type": "stream",
     "text": [
      "\r",
      " 65%|██████▌   | 390/597 [02:48<03:31,  1.02s/it]"
     ]
    },
    {
     "name": "stdout",
     "output_type": "stream",
     "text": [
      "bone-penn-598\n",
      "I'm doing the thing.\n"
     ]
    },
    {
     "name": "stderr",
     "output_type": "stream",
     "text": [
      "\r",
      " 65%|██████▌   | 391/597 [02:49<03:08,  1.10it/s]"
     ]
    },
    {
     "name": "stdout",
     "output_type": "stream",
     "text": [
      "bone-penn-599\n",
      "I'm doing the thing.\n"
     ]
    },
    {
     "name": "stderr",
     "output_type": "stream",
     "text": [
      "\r",
      " 66%|██████▌   | 392/597 [02:49<02:26,  1.40it/s]"
     ]
    },
    {
     "name": "stdout",
     "output_type": "stream",
     "text": [
      "bone-penn-600\n",
      "I'm doing the thing.\n"
     ]
    },
    {
     "name": "stderr",
     "output_type": "stream",
     "text": [
      "\r",
      " 66%|██████▌   | 393/597 [02:50<02:00,  1.70it/s]"
     ]
    },
    {
     "name": "stdout",
     "output_type": "stream",
     "text": [
      "bone-penn-601\n",
      "I'm doing the thing.\n"
     ]
    },
    {
     "name": "stderr",
     "output_type": "stream",
     "text": [
      "\r",
      " 66%|██████▌   | 394/597 [02:52<04:09,  1.23s/it]"
     ]
    },
    {
     "name": "stdout",
     "output_type": "stream",
     "text": [
      "bone-penn-602\n",
      "I'm doing the thing.\n"
     ]
    },
    {
     "name": "stderr",
     "output_type": "stream",
     "text": [
      "\r",
      " 66%|██████▌   | 395/597 [02:53<03:30,  1.04s/it]"
     ]
    },
    {
     "name": "stdout",
     "output_type": "stream",
     "text": [
      "bone-penn-603\n",
      "I'm doing the thing.\n"
     ]
    },
    {
     "name": "stderr",
     "output_type": "stream",
     "text": [
      "\r",
      " 66%|██████▋   | 396/597 [02:53<03:04,  1.09it/s]"
     ]
    },
    {
     "name": "stdout",
     "output_type": "stream",
     "text": [
      "bone-penn-605\n",
      "I'm doing the thing.\n"
     ]
    },
    {
     "name": "stderr",
     "output_type": "stream",
     "text": [
      "\r",
      " 66%|██████▋   | 397/597 [02:54<02:28,  1.35it/s]"
     ]
    },
    {
     "name": "stdout",
     "output_type": "stream",
     "text": [
      "bone-penn-606\n",
      "I'm doing the thing.\n"
     ]
    },
    {
     "name": "stderr",
     "output_type": "stream",
     "text": [
      "\r",
      " 67%|██████▋   | 398/597 [02:54<02:05,  1.58it/s]"
     ]
    },
    {
     "name": "stdout",
     "output_type": "stream",
     "text": [
      "bone-penn-609\n",
      "I'm doing the thing.\n"
     ]
    },
    {
     "name": "stderr",
     "output_type": "stream",
     "text": [
      "\r",
      " 67%|██████▋   | 399/597 [02:55<02:27,  1.34it/s]"
     ]
    },
    {
     "name": "stdout",
     "output_type": "stream",
     "text": [
      "bone-penn-610\n",
      "I'm doing the thing.\n"
     ]
    },
    {
     "name": "stderr",
     "output_type": "stream",
     "text": [
      " 67%|██████▋   | 401/597 [02:56<01:35,  2.04it/s]"
     ]
    },
    {
     "name": "stdout",
     "output_type": "stream",
     "text": [
      "bone-penn-611\n",
      "I'm doing the thing.\n",
      "bone-penn-613\n",
      "I'm doing the thing.\n"
     ]
    },
    {
     "name": "stderr",
     "output_type": "stream",
     "text": [
      "\r",
      " 67%|██████▋   | 402/597 [02:56<01:16,  2.56it/s]"
     ]
    },
    {
     "name": "stdout",
     "output_type": "stream",
     "text": [
      "bone-penn-614\n",
      "I'm doing the thing.\n"
     ]
    },
    {
     "name": "stderr",
     "output_type": "stream",
     "text": [
      "\r",
      " 68%|██████▊   | 403/597 [02:56<01:12,  2.67it/s]"
     ]
    },
    {
     "name": "stdout",
     "output_type": "stream",
     "text": [
      "bone-penn-615\n",
      "I'm doing the thing.\n"
     ]
    },
    {
     "name": "stderr",
     "output_type": "stream",
     "text": [
      "\r",
      " 68%|██████▊   | 404/597 [02:57<01:25,  2.26it/s]"
     ]
    },
    {
     "name": "stdout",
     "output_type": "stream",
     "text": [
      "bone-penn-616\n",
      "I'm doing the thing.\n"
     ]
    },
    {
     "name": "stderr",
     "output_type": "stream",
     "text": [
      "\r",
      " 68%|██████▊   | 405/597 [02:57<01:18,  2.46it/s]"
     ]
    },
    {
     "name": "stdout",
     "output_type": "stream",
     "text": [
      "bone-penn-617\n",
      "I'm doing the thing.\n"
     ]
    },
    {
     "name": "stderr",
     "output_type": "stream",
     "text": [
      " 68%|██████▊   | 407/597 [02:58<01:30,  2.11it/s]"
     ]
    },
    {
     "name": "stdout",
     "output_type": "stream",
     "text": [
      "bone-penn-619\n",
      "I'm doing the thing.\n",
      "bone-penn-620\n",
      "I'm doing the thing.\n"
     ]
    },
    {
     "name": "stderr",
     "output_type": "stream",
     "text": [
      "\r",
      " 68%|██████▊   | 408/597 [02:59<01:19,  2.37it/s]"
     ]
    },
    {
     "name": "stdout",
     "output_type": "stream",
     "text": [
      "bone-penn-621\n",
      "I'm doing the thing.\n"
     ]
    },
    {
     "name": "stderr",
     "output_type": "stream",
     "text": [
      "\r",
      " 69%|██████▊   | 409/597 [03:00<01:49,  1.72it/s]"
     ]
    },
    {
     "name": "stdout",
     "output_type": "stream",
     "text": [
      "bone-penn-622\n",
      "I'm doing the thing.\n"
     ]
    },
    {
     "name": "stderr",
     "output_type": "stream",
     "text": [
      " 69%|██████▉   | 411/597 [03:00<01:21,  2.28it/s]"
     ]
    },
    {
     "name": "stdout",
     "output_type": "stream",
     "text": [
      "bone-penn-623\n",
      "I'm doing the thing.\n",
      "bone-penn-624\n",
      "I'm doing the thing.\n"
     ]
    },
    {
     "name": "stderr",
     "output_type": "stream",
     "text": [
      " 69%|██████▉   | 413/597 [03:01<01:17,  2.37it/s]"
     ]
    },
    {
     "name": "stdout",
     "output_type": "stream",
     "text": [
      "bone-penn-625\n",
      "I'm doing the thing.\n",
      "bone-penn-626\n",
      "I'm doing the thing.\n",
      "bone-penn-627\n",
      "I'm doing the thing.\n"
     ]
    },
    {
     "name": "stderr",
     "output_type": "stream",
     "text": [
      "\r",
      " 70%|██████▉   | 415/597 [03:02<01:22,  2.21it/s]"
     ]
    },
    {
     "name": "stdout",
     "output_type": "stream",
     "text": [
      "bone-penn-629\n",
      "I'm doing the thing.\n"
     ]
    },
    {
     "name": "stderr",
     "output_type": "stream",
     "text": [
      "\r",
      " 70%|██████▉   | 416/597 [03:03<01:11,  2.53it/s]"
     ]
    },
    {
     "name": "stdout",
     "output_type": "stream",
     "text": [
      "bone-penn-630\n",
      "I'm doing the thing.\n"
     ]
    },
    {
     "name": "stderr",
     "output_type": "stream",
     "text": [
      "\r",
      " 70%|██████▉   | 417/597 [03:03<01:01,  2.90it/s]"
     ]
    },
    {
     "name": "stdout",
     "output_type": "stream",
     "text": [
      "bone-penn-631\n",
      "I'm doing the thing.\n"
     ]
    },
    {
     "name": "stderr",
     "output_type": "stream",
     "text": [
      "\r",
      " 70%|███████   | 418/597 [03:03<00:54,  3.27it/s]"
     ]
    },
    {
     "name": "stdout",
     "output_type": "stream",
     "text": [
      "bone-penn-632\n",
      "I'm doing the thing.\n"
     ]
    },
    {
     "name": "stderr",
     "output_type": "stream",
     "text": [
      " 70%|███████   | 420/597 [03:03<00:43,  4.07it/s]"
     ]
    },
    {
     "name": "stdout",
     "output_type": "stream",
     "text": [
      "bone-penn-633\n",
      "I'm doing the thing.\n",
      "bone-penn-634\n",
      "I'm doing the thing.\n"
     ]
    },
    {
     "name": "stderr",
     "output_type": "stream",
     "text": [
      " 71%|███████   | 422/597 [03:04<00:32,  5.33it/s]"
     ]
    },
    {
     "name": "stdout",
     "output_type": "stream",
     "text": [
      "bone-penn-635\n",
      "I'm doing the thing.\n",
      "bone-penn-636\n",
      "I'm doing the thing.\n"
     ]
    },
    {
     "name": "stderr",
     "output_type": "stream",
     "text": [
      "\r",
      " 71%|███████   | 423/597 [03:04<00:42,  4.11it/s]"
     ]
    },
    {
     "name": "stdout",
     "output_type": "stream",
     "text": [
      "bone-penn-637\n",
      "I'm doing the thing.\n"
     ]
    },
    {
     "name": "stderr",
     "output_type": "stream",
     "text": [
      "\r",
      " 71%|███████   | 424/597 [03:04<00:46,  3.69it/s]"
     ]
    },
    {
     "name": "stdout",
     "output_type": "stream",
     "text": [
      "bone-penn-639\n",
      "I'm doing the thing.\n"
     ]
    },
    {
     "name": "stderr",
     "output_type": "stream",
     "text": [
      " 71%|███████▏  | 426/597 [03:05<00:52,  3.28it/s]"
     ]
    },
    {
     "name": "stdout",
     "output_type": "stream",
     "text": [
      "bone-penn-640\n",
      "I'm doing the thing.\n",
      "bone-penn-641\n",
      "I'm doing the thing.\n"
     ]
    },
    {
     "name": "stderr",
     "output_type": "stream",
     "text": [
      "\r",
      " 72%|███████▏  | 427/597 [03:06<01:12,  2.34it/s]"
     ]
    },
    {
     "name": "stdout",
     "output_type": "stream",
     "text": [
      "bone-penn-643\n",
      "I'm doing the thing.\n"
     ]
    },
    {
     "name": "stderr",
     "output_type": "stream",
     "text": [
      " 72%|███████▏  | 429/597 [03:08<01:35,  1.76it/s]"
     ]
    },
    {
     "name": "stdout",
     "output_type": "stream",
     "text": [
      "bone-penn-648\n",
      "I'm doing the thing.\n",
      "bone-penn-650\n",
      "I'm doing the thing.\n"
     ]
    },
    {
     "name": "stderr",
     "output_type": "stream",
     "text": [
      "\r",
      " 72%|███████▏  | 430/597 [03:08<01:43,  1.61it/s]"
     ]
    },
    {
     "name": "stdout",
     "output_type": "stream",
     "text": [
      "bone-penn-651\n",
      "I'm doing the thing.\n"
     ]
    },
    {
     "name": "stderr",
     "output_type": "stream",
     "text": [
      "\r",
      " 72%|███████▏  | 431/597 [03:09<01:27,  1.89it/s]"
     ]
    },
    {
     "name": "stdout",
     "output_type": "stream",
     "text": [
      "bone-penn-652\n",
      "I'm doing the thing.\n"
     ]
    },
    {
     "name": "stderr",
     "output_type": "stream",
     "text": [
      "\r",
      " 72%|███████▏  | 432/597 [03:09<01:12,  2.28it/s]"
     ]
    },
    {
     "name": "stdout",
     "output_type": "stream",
     "text": [
      "bone-penn-653\n",
      "I'm doing the thing.\n"
     ]
    },
    {
     "name": "stderr",
     "output_type": "stream",
     "text": [
      "\r",
      " 73%|███████▎  | 433/597 [03:09<01:14,  2.21it/s]"
     ]
    },
    {
     "name": "stdout",
     "output_type": "stream",
     "text": [
      "bone-penn-654\n",
      "I'm doing the thing.\n"
     ]
    },
    {
     "name": "stderr",
     "output_type": "stream",
     "text": [
      "\r",
      " 73%|███████▎  | 434/597 [03:10<01:03,  2.58it/s]"
     ]
    },
    {
     "name": "stdout",
     "output_type": "stream",
     "text": [
      "bone-hup-101\n",
      "I'm doing the thing.\n"
     ]
    },
    {
     "name": "stderr",
     "output_type": "stream",
     "text": [
      "\r",
      " 73%|███████▎  | 435/597 [03:10<01:30,  1.79it/s]"
     ]
    },
    {
     "name": "stdout",
     "output_type": "stream",
     "text": [
      "bone-hup-102\n",
      "I'm doing the thing.\n"
     ]
    },
    {
     "name": "stderr",
     "output_type": "stream",
     "text": [
      " 73%|███████▎  | 437/597 [03:11<01:00,  2.66it/s]"
     ]
    },
    {
     "name": "stdout",
     "output_type": "stream",
     "text": [
      "bone-hup-103\n",
      "I'm doing the thing.\n",
      "bone-hup-104\n",
      "I'm doing the thing.\n"
     ]
    },
    {
     "name": "stderr",
     "output_type": "stream",
     "text": [
      "\r",
      " 73%|███████▎  | 438/597 [03:11<01:03,  2.51it/s]"
     ]
    },
    {
     "name": "stdout",
     "output_type": "stream",
     "text": [
      "bone-hup-108\n",
      "I'm doing the thing.\n"
     ]
    },
    {
     "name": "stderr",
     "output_type": "stream",
     "text": [
      "\r",
      " 74%|███████▎  | 439/597 [03:12<00:55,  2.84it/s]"
     ]
    },
    {
     "name": "stdout",
     "output_type": "stream",
     "text": [
      "bone-hup-109\n",
      "I'm doing the thing.\n"
     ]
    },
    {
     "name": "stderr",
     "output_type": "stream",
     "text": [
      "\r",
      " 74%|███████▎  | 440/597 [03:13<01:30,  1.74it/s]"
     ]
    },
    {
     "name": "stdout",
     "output_type": "stream",
     "text": [
      "bone-hup-111\n",
      "I'm doing the thing.\n"
     ]
    },
    {
     "name": "stderr",
     "output_type": "stream",
     "text": [
      "\r",
      " 74%|███████▍  | 441/597 [03:14<01:45,  1.48it/s]"
     ]
    },
    {
     "name": "stdout",
     "output_type": "stream",
     "text": [
      "bone-hup-112\n",
      "I'm doing the thing.\n"
     ]
    },
    {
     "name": "stderr",
     "output_type": "stream",
     "text": [
      "\r",
      " 74%|███████▍  | 442/597 [03:14<01:38,  1.58it/s]"
     ]
    },
    {
     "name": "stdout",
     "output_type": "stream",
     "text": [
      "bone-hup-116\n",
      "I'm doing the thing.\n"
     ]
    },
    {
     "name": "stderr",
     "output_type": "stream",
     "text": [
      "\r",
      " 74%|███████▍  | 443/597 [03:15<01:41,  1.51it/s]"
     ]
    },
    {
     "name": "stdout",
     "output_type": "stream",
     "text": [
      "bone-hup-118\n",
      "I'm doing the thing.\n"
     ]
    },
    {
     "name": "stderr",
     "output_type": "stream",
     "text": [
      "\r",
      " 74%|███████▍  | 444/597 [03:16<01:44,  1.46it/s]"
     ]
    },
    {
     "name": "stdout",
     "output_type": "stream",
     "text": [
      "bone-hup-119\n",
      "I'm doing the thing.\n"
     ]
    },
    {
     "name": "stderr",
     "output_type": "stream",
     "text": [
      " 75%|███████▍  | 446/597 [03:16<01:08,  2.20it/s]"
     ]
    },
    {
     "name": "stdout",
     "output_type": "stream",
     "text": [
      "bone-hup-122\n",
      "I'm doing the thing.\n",
      "bone-hup-123\n",
      "I'm doing the thing.\n"
     ]
    },
    {
     "name": "stderr",
     "output_type": "stream",
     "text": [
      "\r",
      " 75%|███████▍  | 447/597 [03:17<01:10,  2.13it/s]"
     ]
    },
    {
     "name": "stdout",
     "output_type": "stream",
     "text": [
      "bone-hup-124\n",
      "I'm doing the thing.\n"
     ]
    },
    {
     "name": "stderr",
     "output_type": "stream",
     "text": [
      "\r",
      " 75%|███████▌  | 448/597 [03:17<00:59,  2.52it/s]"
     ]
    },
    {
     "name": "stdout",
     "output_type": "stream",
     "text": [
      "bone-hup-126\n",
      "I'm doing the thing.\n"
     ]
    },
    {
     "name": "stderr",
     "output_type": "stream",
     "text": [
      "\r",
      " 75%|███████▌  | 449/597 [03:17<01:11,  2.06it/s]"
     ]
    },
    {
     "name": "stdout",
     "output_type": "stream",
     "text": [
      "bone-hup-128\n",
      "I'm doing the thing.\n"
     ]
    },
    {
     "name": "stderr",
     "output_type": "stream",
     "text": [
      "\r",
      " 75%|███████▌  | 450/597 [03:19<01:50,  1.33it/s]"
     ]
    },
    {
     "name": "stdout",
     "output_type": "stream",
     "text": [
      "bone-hup-131\n",
      "I'm doing the thing.\n"
     ]
    },
    {
     "name": "stderr",
     "output_type": "stream",
     "text": [
      "\r",
      " 76%|███████▌  | 451/597 [03:19<01:35,  1.53it/s]"
     ]
    },
    {
     "name": "stdout",
     "output_type": "stream",
     "text": [
      "bone-hup-132\n",
      "I'm doing the thing.\n"
     ]
    },
    {
     "name": "stderr",
     "output_type": "stream",
     "text": [
      "\r",
      " 76%|███████▌  | 452/597 [03:20<01:54,  1.26it/s]"
     ]
    },
    {
     "name": "stdout",
     "output_type": "stream",
     "text": [
      "bone-hup-133\n",
      "I'm doing the thing.\n"
     ]
    },
    {
     "name": "stderr",
     "output_type": "stream",
     "text": [
      "\r",
      " 76%|███████▌  | 453/597 [03:21<01:40,  1.44it/s]"
     ]
    },
    {
     "name": "stdout",
     "output_type": "stream",
     "text": [
      "bone-hup-134\n",
      "I'm doing the thing.\n"
     ]
    },
    {
     "name": "stderr",
     "output_type": "stream",
     "text": [
      "\r",
      " 76%|███████▌  | 454/597 [03:23<02:22,  1.01it/s]"
     ]
    },
    {
     "name": "stdout",
     "output_type": "stream",
     "text": [
      "bone-hup-136\n",
      "I'm doing the thing.\n"
     ]
    },
    {
     "name": "stderr",
     "output_type": "stream",
     "text": [
      "\r",
      " 76%|███████▌  | 455/597 [03:23<02:07,  1.12it/s]"
     ]
    },
    {
     "name": "stdout",
     "output_type": "stream",
     "text": [
      "bone-hup-138\n",
      "I'm doing the thing.\n"
     ]
    },
    {
     "name": "stderr",
     "output_type": "stream",
     "text": [
      "\r",
      " 76%|███████▋  | 456/597 [03:24<02:16,  1.04it/s]"
     ]
    },
    {
     "name": "stdout",
     "output_type": "stream",
     "text": [
      "bone-hup-139\n",
      "I'm doing the thing.\n"
     ]
    },
    {
     "name": "stderr",
     "output_type": "stream",
     "text": [
      "\r",
      " 77%|███████▋  | 457/597 [03:25<01:57,  1.20it/s]"
     ]
    },
    {
     "name": "stdout",
     "output_type": "stream",
     "text": [
      "bone-hup-141\n",
      "I'm doing the thing.\n"
     ]
    },
    {
     "name": "stderr",
     "output_type": "stream",
     "text": [
      "\r",
      " 77%|███████▋  | 458/597 [03:27<02:55,  1.27s/it]"
     ]
    },
    {
     "name": "stdout",
     "output_type": "stream",
     "text": [
      "bone-hup-142\n",
      "I'm doing the thing.\n"
     ]
    },
    {
     "name": "stderr",
     "output_type": "stream",
     "text": [
      " 77%|███████▋  | 460/597 [03:28<01:45,  1.30it/s]"
     ]
    },
    {
     "name": "stdout",
     "output_type": "stream",
     "text": [
      "bone-hup-146\n",
      "I'm doing the thing.\n",
      "bone-hup-148\n",
      "I'm doing the thing.\n"
     ]
    },
    {
     "name": "stderr",
     "output_type": "stream",
     "text": [
      "\r",
      " 77%|███████▋  | 461/597 [03:29<02:02,  1.11it/s]"
     ]
    },
    {
     "name": "stdout",
     "output_type": "stream",
     "text": [
      "bone-hup-150\n",
      "I'm doing the thing.\n"
     ]
    },
    {
     "name": "stderr",
     "output_type": "stream",
     "text": [
      "\r",
      " 77%|███████▋  | 462/597 [03:29<01:43,  1.31it/s]"
     ]
    },
    {
     "name": "stdout",
     "output_type": "stream",
     "text": [
      "bone-hup-151\n",
      "I'm doing the thing.\n"
     ]
    },
    {
     "name": "stderr",
     "output_type": "stream",
     "text": [
      "\r",
      " 78%|███████▊  | 463/597 [03:30<01:19,  1.68it/s]"
     ]
    },
    {
     "name": "stdout",
     "output_type": "stream",
     "text": [
      "bone-hup-152\n",
      "I'm doing the thing.\n"
     ]
    },
    {
     "name": "stderr",
     "output_type": "stream",
     "text": [
      "\r",
      " 78%|███████▊  | 464/597 [03:30<01:12,  1.84it/s]"
     ]
    },
    {
     "name": "stdout",
     "output_type": "stream",
     "text": [
      "bone-hup-154\n",
      "I'm doing the thing.\n"
     ]
    },
    {
     "name": "stderr",
     "output_type": "stream",
     "text": [
      "\r",
      " 78%|███████▊  | 465/597 [03:30<01:05,  2.01it/s]"
     ]
    },
    {
     "name": "stdout",
     "output_type": "stream",
     "text": [
      "bone-hup-155\n",
      "I'm doing the thing.\n"
     ]
    },
    {
     "name": "stderr",
     "output_type": "stream",
     "text": [
      "\r",
      " 78%|███████▊  | 466/597 [03:31<00:54,  2.43it/s]"
     ]
    },
    {
     "name": "stdout",
     "output_type": "stream",
     "text": [
      "bone-hup-156\n",
      "I'm doing the thing.\n"
     ]
    },
    {
     "name": "stderr",
     "output_type": "stream",
     "text": [
      "\r",
      " 78%|███████▊  | 467/597 [03:32<01:19,  1.64it/s]"
     ]
    },
    {
     "name": "stdout",
     "output_type": "stream",
     "text": [
      "bone-hup-158\n",
      "I'm doing the thing.\n"
     ]
    },
    {
     "name": "stderr",
     "output_type": "stream",
     "text": [
      "\r",
      " 78%|███████▊  | 468/597 [03:32<01:22,  1.57it/s]"
     ]
    },
    {
     "name": "stdout",
     "output_type": "stream",
     "text": [
      "bone-hup-160\n",
      "I'm doing the thing.\n"
     ]
    },
    {
     "name": "stderr",
     "output_type": "stream",
     "text": [
      " 79%|███████▊  | 470/597 [03:34<01:11,  1.77it/s]"
     ]
    },
    {
     "name": "stdout",
     "output_type": "stream",
     "text": [
      "bone-hup-161\n",
      "I'm doing the thing.\n",
      "bone-hup-168\n",
      "I'm doing the thing.\n"
     ]
    },
    {
     "name": "stderr",
     "output_type": "stream",
     "text": [
      "\r",
      " 79%|███████▉  | 471/597 [03:34<01:09,  1.81it/s]"
     ]
    },
    {
     "name": "stdout",
     "output_type": "stream",
     "text": [
      "bone-hup-169\n",
      "I'm doing the thing.\n"
     ]
    },
    {
     "name": "stderr",
     "output_type": "stream",
     "text": [
      "\r",
      " 79%|███████▉  | 472/597 [03:35<01:17,  1.61it/s]"
     ]
    },
    {
     "name": "stdout",
     "output_type": "stream",
     "text": [
      "bone-hup-173\n",
      "I'm doing the thing.\n"
     ]
    },
    {
     "name": "stderr",
     "output_type": "stream",
     "text": [
      " 79%|███████▉  | 474/597 [03:37<01:22,  1.50it/s]"
     ]
    },
    {
     "name": "stdout",
     "output_type": "stream",
     "text": [
      "bone-hup-177\n",
      "I'm doing the thing.\n",
      "bone-hup-179\n",
      "I'm doing the thing.\n"
     ]
    },
    {
     "name": "stderr",
     "output_type": "stream",
     "text": [
      "\r",
      " 80%|███████▉  | 475/597 [03:37<01:03,  1.93it/s]"
     ]
    },
    {
     "name": "stdout",
     "output_type": "stream",
     "text": [
      "bone-hup-180\n",
      "I'm doing the thing.\n"
     ]
    },
    {
     "name": "stderr",
     "output_type": "stream",
     "text": [
      "\r",
      " 80%|███████▉  | 476/597 [03:37<00:57,  2.12it/s]"
     ]
    },
    {
     "name": "stdout",
     "output_type": "stream",
     "text": [
      "bone-hup-188\n",
      "I'm doing the thing.\n"
     ]
    },
    {
     "name": "stderr",
     "output_type": "stream",
     "text": [
      "\r",
      " 80%|███████▉  | 477/597 [03:38<01:23,  1.43it/s]"
     ]
    },
    {
     "name": "stdout",
     "output_type": "stream",
     "text": [
      "bone-hup-193\n",
      "I'm doing the thing.\n"
     ]
    },
    {
     "name": "stderr",
     "output_type": "stream",
     "text": [
      "\r",
      " 80%|████████  | 478/597 [03:39<01:08,  1.75it/s]"
     ]
    },
    {
     "name": "stdout",
     "output_type": "stream",
     "text": [
      "bone-hup-201\n",
      "I'm doing the thing.\n"
     ]
    },
    {
     "name": "stderr",
     "output_type": "stream",
     "text": [
      " 80%|████████  | 480/597 [03:40<01:00,  1.93it/s]"
     ]
    },
    {
     "name": "stdout",
     "output_type": "stream",
     "text": [
      "bone-hup-203\n",
      "I'm doing the thing.\n",
      "bone-hup-207\n",
      "I'm doing the thing.\n"
     ]
    },
    {
     "name": "stderr",
     "output_type": "stream",
     "text": [
      "\r",
      " 81%|████████  | 481/597 [03:40<00:52,  2.21it/s]"
     ]
    },
    {
     "name": "stdout",
     "output_type": "stream",
     "text": [
      "bone-hup-211\n",
      "I'm doing the thing.\n"
     ]
    },
    {
     "name": "stderr",
     "output_type": "stream",
     "text": [
      "\r",
      " 81%|████████  | 482/597 [03:41<01:20,  1.42it/s]"
     ]
    },
    {
     "name": "stdout",
     "output_type": "stream",
     "text": [
      "bone-hup-213\n",
      "I'm doing the thing.\n"
     ]
    },
    {
     "name": "stderr",
     "output_type": "stream",
     "text": [
      "\r",
      " 81%|████████  | 483/597 [03:42<01:06,  1.71it/s]"
     ]
    },
    {
     "name": "stdout",
     "output_type": "stream",
     "text": [
      "bone-hup-214\n",
      "I'm doing the thing.\n"
     ]
    },
    {
     "name": "stderr",
     "output_type": "stream",
     "text": [
      "\r",
      " 81%|████████  | 484/597 [03:42<00:56,  2.01it/s]"
     ]
    },
    {
     "name": "stdout",
     "output_type": "stream",
     "text": [
      "bone-hup-219\n",
      "I'm doing the thing.\n"
     ]
    },
    {
     "name": "stderr",
     "output_type": "stream",
     "text": [
      "\r",
      " 81%|████████  | 485/597 [03:42<00:46,  2.38it/s]"
     ]
    },
    {
     "name": "stdout",
     "output_type": "stream",
     "text": [
      "bone-hup-225\n",
      "I'm doing the thing.\n",
      "bone-hup-228\n",
      "I'm doing the thing.\n"
     ]
    },
    {
     "name": "stderr",
     "output_type": "stream",
     "text": [
      " 82%|████████▏ | 488/597 [03:42<00:29,  3.73it/s]"
     ]
    },
    {
     "name": "stdout",
     "output_type": "stream",
     "text": [
      "bone-hup-229\n",
      "I'm doing the thing.\n",
      "bone-hup-23\n",
      "I'm doing the thing.\n"
     ]
    },
    {
     "name": "stderr",
     "output_type": "stream",
     "text": [
      "\r",
      " 82%|████████▏ | 489/597 [03:43<00:49,  2.18it/s]"
     ]
    },
    {
     "name": "stdout",
     "output_type": "stream",
     "text": [
      "bone-hup-231\n",
      "I'm doing the thing.\n"
     ]
    },
    {
     "name": "stderr",
     "output_type": "stream",
     "text": [
      "\r",
      " 82%|████████▏ | 490/597 [03:44<00:50,  2.11it/s]"
     ]
    },
    {
     "name": "stdout",
     "output_type": "stream",
     "text": [
      "bone-hup-232\n",
      "I'm doing the thing.\n"
     ]
    },
    {
     "name": "stderr",
     "output_type": "stream",
     "text": [
      "\r",
      " 82%|████████▏ | 491/597 [03:44<00:51,  2.06it/s]"
     ]
    },
    {
     "name": "stdout",
     "output_type": "stream",
     "text": [
      "bone-hup-234\n",
      "I'm doing the thing.\n"
     ]
    },
    {
     "name": "stderr",
     "output_type": "stream",
     "text": [
      "\r",
      " 82%|████████▏ | 492/597 [03:45<00:50,  2.09it/s]"
     ]
    },
    {
     "name": "stdout",
     "output_type": "stream",
     "text": [
      "bone-hup-237\n",
      "I'm doing the thing.\n"
     ]
    },
    {
     "name": "stderr",
     "output_type": "stream",
     "text": [
      "\r",
      " 83%|████████▎ | 493/597 [03:45<00:46,  2.24it/s]"
     ]
    },
    {
     "name": "stdout",
     "output_type": "stream",
     "text": [
      "bone-hup-244\n",
      "I'm doing the thing.\n"
     ]
    },
    {
     "name": "stderr",
     "output_type": "stream",
     "text": [
      " 83%|████████▎ | 495/597 [03:46<00:32,  3.09it/s]"
     ]
    },
    {
     "name": "stdout",
     "output_type": "stream",
     "text": [
      "bone-hup-248\n",
      "I'm doing the thing.\n",
      "bone-hup-257\n",
      "I'm doing the thing.\n"
     ]
    },
    {
     "name": "stderr",
     "output_type": "stream",
     "text": [
      "\r",
      " 83%|████████▎ | 496/597 [03:46<00:25,  3.89it/s]"
     ]
    },
    {
     "name": "stdout",
     "output_type": "stream",
     "text": [
      "bone-hup-261\n",
      "I'm doing the thing.\n"
     ]
    },
    {
     "name": "stderr",
     "output_type": "stream",
     "text": [
      " 83%|████████▎ | 498/597 [03:47<00:36,  2.68it/s]"
     ]
    },
    {
     "name": "stdout",
     "output_type": "stream",
     "text": [
      "bone-hup-262\n",
      "I'm doing the thing.\n",
      "bone-hup-263\n",
      "I'm doing the thing.\n"
     ]
    },
    {
     "name": "stderr",
     "output_type": "stream",
     "text": [
      "\r",
      " 84%|████████▎ | 499/597 [03:47<00:30,  3.24it/s]"
     ]
    },
    {
     "name": "stdout",
     "output_type": "stream",
     "text": [
      "bone-hup-265\n",
      "I'm doing the thing.\n"
     ]
    },
    {
     "name": "stderr",
     "output_type": "stream",
     "text": [
      "\r",
      " 84%|████████▍ | 500/597 [03:47<00:27,  3.56it/s]"
     ]
    },
    {
     "name": "stdout",
     "output_type": "stream",
     "text": [
      "bone-hup-266\n",
      "I'm doing the thing.\n"
     ]
    },
    {
     "name": "stderr",
     "output_type": "stream",
     "text": [
      "\r",
      " 84%|████████▍ | 501/597 [03:48<00:39,  2.41it/s]"
     ]
    },
    {
     "name": "stdout",
     "output_type": "stream",
     "text": [
      "bone-hup-271\n",
      "I'm doing the thing.\n"
     ]
    },
    {
     "name": "stderr",
     "output_type": "stream",
     "text": [
      "\r",
      " 84%|████████▍ | 502/597 [03:49<00:46,  2.06it/s]"
     ]
    },
    {
     "name": "stdout",
     "output_type": "stream",
     "text": [
      "bone-hup-272\n",
      "I'm doing the thing.\n"
     ]
    },
    {
     "name": "stderr",
     "output_type": "stream",
     "text": [
      "\r",
      " 84%|████████▍ | 503/597 [03:50<01:11,  1.32it/s]"
     ]
    },
    {
     "name": "stdout",
     "output_type": "stream",
     "text": [
      "bone-hup-275\n",
      "I'm doing the thing.\n"
     ]
    },
    {
     "name": "stderr",
     "output_type": "stream",
     "text": [
      "\r",
      " 84%|████████▍ | 504/597 [03:53<02:13,  1.44s/it]"
     ]
    },
    {
     "name": "stdout",
     "output_type": "stream",
     "text": [
      "bone-hup-276\n",
      "I'm doing the thing.\n",
      "bone-hup-277\n",
      "I'm doing the thing.\n"
     ]
    },
    {
     "name": "stderr",
     "output_type": "stream",
     "text": [
      " 85%|████████▍ | 507/597 [03:54<01:12,  1.24it/s]"
     ]
    },
    {
     "name": "stdout",
     "output_type": "stream",
     "text": [
      "bone-hup-279\n",
      "I'm doing the thing.\n",
      "bone-hup-281\n",
      "I'm doing the thing.\n"
     ]
    },
    {
     "name": "stderr",
     "output_type": "stream",
     "text": [
      "\r",
      " 85%|████████▌ | 508/597 [03:54<01:02,  1.43it/s]"
     ]
    },
    {
     "name": "stdout",
     "output_type": "stream",
     "text": [
      "bone-hup-287\n",
      "I'm doing the thing.\n"
     ]
    },
    {
     "name": "stderr",
     "output_type": "stream",
     "text": [
      "\r",
      " 85%|████████▌ | 509/597 [03:54<00:49,  1.77it/s]"
     ]
    },
    {
     "name": "stdout",
     "output_type": "stream",
     "text": [
      "bone-hup-290\n",
      "I'm doing the thing.\n"
     ]
    },
    {
     "name": "stderr",
     "output_type": "stream",
     "text": [
      "\r",
      " 85%|████████▌ | 510/597 [03:55<00:54,  1.58it/s]"
     ]
    },
    {
     "name": "stdout",
     "output_type": "stream",
     "text": [
      "bone-hup-291\n",
      "I'm doing the thing.\n"
     ]
    },
    {
     "name": "stderr",
     "output_type": "stream",
     "text": [
      "\r",
      " 86%|████████▌ | 511/597 [03:56<00:46,  1.87it/s]"
     ]
    },
    {
     "name": "stdout",
     "output_type": "stream",
     "text": [
      "bone-hup-293\n",
      "I'm doing the thing.\n"
     ]
    },
    {
     "name": "stderr",
     "output_type": "stream",
     "text": [
      "\r",
      " 86%|████████▌ | 512/597 [03:56<00:38,  2.21it/s]"
     ]
    },
    {
     "name": "stdout",
     "output_type": "stream",
     "text": [
      "bone-hup-296\n",
      "I'm doing the thing.\n"
     ]
    },
    {
     "name": "stderr",
     "output_type": "stream",
     "text": [
      "\r",
      " 86%|████████▌ | 513/597 [03:56<00:38,  2.21it/s]"
     ]
    },
    {
     "name": "stdout",
     "output_type": "stream",
     "text": [
      "bone-hup-297\n",
      "I'm doing the thing.\n"
     ]
    },
    {
     "name": "stderr",
     "output_type": "stream",
     "text": [
      " 86%|████████▋ | 515/597 [03:58<00:43,  1.87it/s]"
     ]
    },
    {
     "name": "stdout",
     "output_type": "stream",
     "text": [
      "bone-hup-298\n",
      "I'm doing the thing.\n",
      "bone-hup-299\n",
      "I'm doing the thing.\n"
     ]
    },
    {
     "name": "stderr",
     "output_type": "stream",
     "text": [
      "\r",
      " 86%|████████▋ | 516/597 [03:58<00:36,  2.23it/s]"
     ]
    },
    {
     "name": "stdout",
     "output_type": "stream",
     "text": [
      "bone-hup-3\n",
      "I'm doing the thing.\n"
     ]
    },
    {
     "name": "stderr",
     "output_type": "stream",
     "text": [
      "\r",
      " 87%|████████▋ | 517/597 [03:58<00:38,  2.07it/s]"
     ]
    },
    {
     "name": "stdout",
     "output_type": "stream",
     "text": [
      "bone-hup-302\n",
      "I'm doing the thing.\n"
     ]
    },
    {
     "name": "stderr",
     "output_type": "stream",
     "text": [
      "\r",
      " 87%|████████▋ | 518/597 [03:59<00:39,  1.98it/s]"
     ]
    },
    {
     "name": "stdout",
     "output_type": "stream",
     "text": [
      "bone-hup-305\n",
      "I'm doing the thing.\n"
     ]
    },
    {
     "name": "stderr",
     "output_type": "stream",
     "text": [
      "\r",
      " 87%|████████▋ | 519/597 [04:00<00:44,  1.76it/s]"
     ]
    },
    {
     "name": "stdout",
     "output_type": "stream",
     "text": [
      "bone-hup-306\n",
      "I'm doing the thing.\n"
     ]
    },
    {
     "name": "stderr",
     "output_type": "stream",
     "text": [
      "\r",
      " 87%|████████▋ | 520/597 [04:00<00:37,  2.03it/s]"
     ]
    },
    {
     "name": "stdout",
     "output_type": "stream",
     "text": [
      "bone-hup-308\n",
      "I'm doing the thing.\n"
     ]
    },
    {
     "name": "stderr",
     "output_type": "stream",
     "text": [
      "\r",
      " 87%|████████▋ | 521/597 [04:00<00:34,  2.19it/s]"
     ]
    },
    {
     "name": "stdout",
     "output_type": "stream",
     "text": [
      "bone-hup-310\n",
      "I'm doing the thing.\n"
     ]
    },
    {
     "name": "stderr",
     "output_type": "stream",
     "text": [
      "\r",
      " 87%|████████▋ | 522/597 [04:01<00:29,  2.51it/s]"
     ]
    },
    {
     "name": "stdout",
     "output_type": "stream",
     "text": [
      "bone-hup-312\n",
      "I'm doing the thing.\n"
     ]
    },
    {
     "name": "stderr",
     "output_type": "stream",
     "text": [
      " 88%|████████▊ | 524/597 [04:01<00:22,  3.21it/s]"
     ]
    },
    {
     "name": "stdout",
     "output_type": "stream",
     "text": [
      "bone-hup-314\n",
      "I'm doing the thing.\n",
      "bone-hup-316\n",
      "I'm doing the thing.\n"
     ]
    },
    {
     "name": "stderr",
     "output_type": "stream",
     "text": [
      "\r",
      " 88%|████████▊ | 525/597 [04:03<00:45,  1.58it/s]"
     ]
    },
    {
     "name": "stdout",
     "output_type": "stream",
     "text": [
      "bone-hup-317\n",
      "I'm doing the thing.\n"
     ]
    },
    {
     "name": "stderr",
     "output_type": "stream",
     "text": [
      "\r",
      " 88%|████████▊ | 526/597 [04:04<00:52,  1.36it/s]"
     ]
    },
    {
     "name": "stdout",
     "output_type": "stream",
     "text": [
      "bone-hup-321\n",
      "I'm doing the thing.\n"
     ]
    },
    {
     "name": "stderr",
     "output_type": "stream",
     "text": [
      "\r",
      " 88%|████████▊ | 527/597 [04:05<00:58,  1.19it/s]"
     ]
    },
    {
     "name": "stdout",
     "output_type": "stream",
     "text": [
      "bone-hup-325\n",
      "I'm doing the thing.\n"
     ]
    },
    {
     "name": "stderr",
     "output_type": "stream",
     "text": [
      "\r",
      " 88%|████████▊ | 528/597 [04:05<00:57,  1.20it/s]"
     ]
    },
    {
     "name": "stdout",
     "output_type": "stream",
     "text": [
      "bone-hup-326\n",
      "I'm doing the thing.\n"
     ]
    },
    {
     "name": "stderr",
     "output_type": "stream",
     "text": [
      "\r",
      " 89%|████████▊ | 529/597 [04:07<01:02,  1.10it/s]"
     ]
    },
    {
     "name": "stdout",
     "output_type": "stream",
     "text": [
      "bone-hup-328\n",
      "I'm doing the thing.\n"
     ]
    },
    {
     "name": "stderr",
     "output_type": "stream",
     "text": [
      "\r",
      " 89%|████████▉ | 530/597 [04:08<01:09,  1.03s/it]"
     ]
    },
    {
     "name": "stdout",
     "output_type": "stream",
     "text": [
      "bone-hup-330\n",
      "I'm doing the thing.\n"
     ]
    },
    {
     "name": "stderr",
     "output_type": "stream",
     "text": [
      "\r",
      " 89%|████████▉ | 531/597 [04:08<00:53,  1.24it/s]"
     ]
    },
    {
     "name": "stdout",
     "output_type": "stream",
     "text": [
      "bone-hup-51\n",
      "I'm doing the thing.\n"
     ]
    },
    {
     "name": "stderr",
     "output_type": "stream",
     "text": [
      "\r",
      " 89%|████████▉ | 532/597 [04:09<00:45,  1.44it/s]"
     ]
    },
    {
     "name": "stdout",
     "output_type": "stream",
     "text": [
      "bone-hup-52\n",
      "I'm doing the thing.\n"
     ]
    },
    {
     "name": "stderr",
     "output_type": "stream",
     "text": [
      "\r",
      " 89%|████████▉ | 533/597 [04:09<00:47,  1.35it/s]"
     ]
    },
    {
     "name": "stdout",
     "output_type": "stream",
     "text": [
      "bone-hup-53\n",
      "I'm doing the thing.\n"
     ]
    },
    {
     "name": "stderr",
     "output_type": "stream",
     "text": [
      " 90%|████████▉ | 535/597 [04:10<00:28,  2.15it/s]"
     ]
    },
    {
     "name": "stdout",
     "output_type": "stream",
     "text": [
      "bone-hup-55\n",
      "I'm doing the thing.\n",
      "bone-hup-56\n",
      "I'm doing the thing.\n"
     ]
    },
    {
     "name": "stderr",
     "output_type": "stream",
     "text": [
      "\r",
      " 90%|████████▉ | 536/597 [04:10<00:25,  2.35it/s]"
     ]
    },
    {
     "name": "stdout",
     "output_type": "stream",
     "text": [
      "bone-hup-59\n",
      "I'm doing the thing.\n"
     ]
    },
    {
     "name": "stderr",
     "output_type": "stream",
     "text": [
      " 90%|█████████ | 538/597 [04:11<00:22,  2.66it/s]"
     ]
    },
    {
     "name": "stdout",
     "output_type": "stream",
     "text": [
      "bone-hup-60\n",
      "I'm doing the thing.\n",
      "bone-hup-61\n",
      "I'm doing the thing.\n"
     ]
    },
    {
     "name": "stderr",
     "output_type": "stream",
     "text": [
      "\r",
      " 90%|█████████ | 539/597 [04:11<00:19,  3.00it/s]"
     ]
    },
    {
     "name": "stdout",
     "output_type": "stream",
     "text": [
      "bone-hup-62\n",
      "I'm doing the thing.\n"
     ]
    },
    {
     "name": "stderr",
     "output_type": "stream",
     "text": [
      "\r",
      " 90%|█████████ | 540/597 [04:12<00:20,  2.78it/s]"
     ]
    },
    {
     "name": "stdout",
     "output_type": "stream",
     "text": [
      "bone-hup-65\n",
      "I'm doing the thing.\n"
     ]
    },
    {
     "name": "stderr",
     "output_type": "stream",
     "text": [
      "\r",
      " 91%|█████████ | 541/597 [04:12<00:18,  3.00it/s]"
     ]
    },
    {
     "name": "stdout",
     "output_type": "stream",
     "text": [
      "bone-hup-67\n",
      "I'm doing the thing.\n"
     ]
    },
    {
     "name": "stderr",
     "output_type": "stream",
     "text": [
      "\r",
      " 91%|█████████ | 542/597 [04:12<00:18,  2.90it/s]"
     ]
    },
    {
     "name": "stdout",
     "output_type": "stream",
     "text": [
      "bone-hup-69\n",
      "I'm doing the thing.\n"
     ]
    },
    {
     "name": "stderr",
     "output_type": "stream",
     "text": [
      "\r",
      " 91%|█████████ | 543/597 [04:13<00:20,  2.66it/s]"
     ]
    },
    {
     "name": "stdout",
     "output_type": "stream",
     "text": [
      "bone-hup-70\n",
      "I'm doing the thing.\n"
     ]
    },
    {
     "name": "stderr",
     "output_type": "stream",
     "text": [
      " 91%|█████████▏| 545/597 [04:13<00:14,  3.58it/s]"
     ]
    },
    {
     "name": "stdout",
     "output_type": "stream",
     "text": [
      "bone-hup-76\n",
      "I'm doing the thing.\n",
      "bone-hup-78\n",
      "I'm doing the thing.\n"
     ]
    },
    {
     "name": "stderr",
     "output_type": "stream",
     "text": [
      " 92%|█████████▏| 547/597 [04:14<00:14,  3.40it/s]"
     ]
    },
    {
     "name": "stdout",
     "output_type": "stream",
     "text": [
      "bone-hup-79\n",
      "I'm doing the thing.\n",
      "bone-hup-80\n",
      "I'm doing the thing.\n"
     ]
    },
    {
     "name": "stderr",
     "output_type": "stream",
     "text": [
      "\r",
      " 92%|█████████▏| 548/597 [04:15<00:21,  2.29it/s]"
     ]
    },
    {
     "name": "stdout",
     "output_type": "stream",
     "text": [
      "bone-hup-81\n",
      "I'm doing the thing.\n",
      "bone-hup-85\n",
      "I'm doing the thing.\n"
     ]
    },
    {
     "name": "stderr",
     "output_type": "stream",
     "text": [
      "\r",
      " 92%|█████████▏| 550/597 [04:16<00:27,  1.71it/s]"
     ]
    },
    {
     "name": "stdout",
     "output_type": "stream",
     "text": [
      "bone-hup-93\n",
      "I'm doing the thing.\n"
     ]
    },
    {
     "name": "stderr",
     "output_type": "stream",
     "text": [
      "\r",
      " 92%|█████████▏| 551/597 [04:18<00:38,  1.18it/s]"
     ]
    },
    {
     "name": "stdout",
     "output_type": "stream",
     "text": [
      "bone-hup-94\n",
      "I'm doing the thing.\n"
     ]
    },
    {
     "name": "stderr",
     "output_type": "stream",
     "text": [
      "\r",
      " 92%|█████████▏| 552/597 [04:18<00:34,  1.30it/s]"
     ]
    },
    {
     "name": "stdout",
     "output_type": "stream",
     "text": [
      "bone-hup-95\n",
      "I'm doing the thing.\n"
     ]
    },
    {
     "name": "stderr",
     "output_type": "stream",
     "text": [
      "\r",
      " 93%|█████████▎| 553/597 [04:19<00:27,  1.57it/s]"
     ]
    },
    {
     "name": "stdout",
     "output_type": "stream",
     "text": [
      "bone-penn-001\n",
      "I'm doing the thing.\n"
     ]
    },
    {
     "name": "stderr",
     "output_type": "stream",
     "text": [
      "\r",
      " 93%|█████████▎| 554/597 [04:19<00:26,  1.64it/s]"
     ]
    },
    {
     "name": "stdout",
     "output_type": "stream",
     "text": [
      "bone-penn-005\n",
      "I'm doing the thing.\n"
     ]
    },
    {
     "name": "stderr",
     "output_type": "stream",
     "text": [
      "\r",
      " 93%|█████████▎| 555/597 [04:20<00:32,  1.28it/s]"
     ]
    },
    {
     "name": "stdout",
     "output_type": "stream",
     "text": [
      "bone-penn-007\n",
      "I'm doing the thing.\n"
     ]
    },
    {
     "name": "stderr",
     "output_type": "stream",
     "text": [
      "\r",
      " 93%|█████████▎| 556/597 [04:21<00:28,  1.42it/s]"
     ]
    },
    {
     "name": "stdout",
     "output_type": "stream",
     "text": [
      "bone-penn-011\n",
      "I'm doing the thing.\n"
     ]
    },
    {
     "name": "stderr",
     "output_type": "stream",
     "text": [
      "\r",
      " 93%|█████████▎| 557/597 [04:22<00:25,  1.55it/s]"
     ]
    },
    {
     "name": "stdout",
     "output_type": "stream",
     "text": [
      "bone-penn-014\n",
      "I'm doing the thing.\n"
     ]
    },
    {
     "name": "stderr",
     "output_type": "stream",
     "text": [
      "\r",
      " 93%|█████████▎| 558/597 [04:22<00:21,  1.85it/s]"
     ]
    },
    {
     "name": "stdout",
     "output_type": "stream",
     "text": [
      "bone-penn-015\n",
      "I'm doing the thing.\n"
     ]
    },
    {
     "name": "stderr",
     "output_type": "stream",
     "text": [
      "\r",
      " 94%|█████████▎| 559/597 [04:22<00:19,  1.99it/s]"
     ]
    },
    {
     "name": "stdout",
     "output_type": "stream",
     "text": [
      "bone-penn-018\n",
      "I'm doing the thing.\n"
     ]
    },
    {
     "name": "stderr",
     "output_type": "stream",
     "text": [
      " 94%|█████████▍| 561/597 [04:24<00:21,  1.64it/s]"
     ]
    },
    {
     "name": "stdout",
     "output_type": "stream",
     "text": [
      "bone-penn-019\n",
      "I'm doing the thing.\n",
      "bone-penn-020\n",
      "I'm doing the thing.\n"
     ]
    },
    {
     "name": "stderr",
     "output_type": "stream",
     "text": [
      "\r",
      " 94%|█████████▍| 563/597 [04:24<00:15,  2.20it/s]"
     ]
    },
    {
     "name": "stdout",
     "output_type": "stream",
     "text": [
      "bone-penn-021\n",
      "I'm doing the thing.\n",
      "bone-penn-022\n",
      "I'm doing the thing.\n"
     ]
    },
    {
     "name": "stderr",
     "output_type": "stream",
     "text": [
      "\r",
      " 94%|█████████▍| 564/597 [04:24<00:11,  2.80it/s]"
     ]
    },
    {
     "name": "stdout",
     "output_type": "stream",
     "text": [
      "bone-penn-024\n",
      "I'm doing the thing.\n",
      "bone-penn-027\n",
      "I'm doing the thing.\n"
     ]
    },
    {
     "name": "stderr",
     "output_type": "stream",
     "text": [
      "\r",
      " 95%|█████████▍| 566/597 [04:25<00:09,  3.27it/s]"
     ]
    },
    {
     "name": "stdout",
     "output_type": "stream",
     "text": [
      "bone-penn-029\n",
      "I'm doing the thing.\n"
     ]
    },
    {
     "name": "stderr",
     "output_type": "stream",
     "text": [
      "\r",
      " 95%|█████████▍| 567/597 [04:26<00:16,  1.87it/s]"
     ]
    },
    {
     "name": "stdout",
     "output_type": "stream",
     "text": [
      "bone-penn-030\n",
      "I'm doing the thing.\n"
     ]
    },
    {
     "name": "stderr",
     "output_type": "stream",
     "text": [
      "\r",
      " 95%|█████████▌| 568/597 [04:26<00:17,  1.68it/s]"
     ]
    },
    {
     "name": "stdout",
     "output_type": "stream",
     "text": [
      "bone-penn-034\n",
      "I'm doing the thing.\n"
     ]
    },
    {
     "name": "stderr",
     "output_type": "stream",
     "text": [
      "\r",
      " 95%|█████████▌| 569/597 [04:30<00:40,  1.44s/it]"
     ]
    },
    {
     "name": "stdout",
     "output_type": "stream",
     "text": [
      "bone-penn-036\n",
      "I'm doing the thing.\n"
     ]
    },
    {
     "name": "stderr",
     "output_type": "stream",
     "text": [
      " 96%|█████████▌| 571/597 [04:30<00:21,  1.22it/s]"
     ]
    },
    {
     "name": "stdout",
     "output_type": "stream",
     "text": [
      "bone-penn-037\n",
      "I'm doing the thing.\n",
      "bone-penn-038\n",
      "I'm doing the thing.\n"
     ]
    },
    {
     "name": "stderr",
     "output_type": "stream",
     "text": [
      "\r",
      " 96%|█████████▌| 572/597 [04:31<00:16,  1.54it/s]"
     ]
    },
    {
     "name": "stdout",
     "output_type": "stream",
     "text": [
      "bone-penn-039\n",
      "I'm doing the thing.\n"
     ]
    },
    {
     "name": "stderr",
     "output_type": "stream",
     "text": [
      "\r",
      " 96%|█████████▌| 573/597 [04:31<00:14,  1.71it/s]"
     ]
    },
    {
     "name": "stdout",
     "output_type": "stream",
     "text": [
      "bone-penn-040\n",
      "I'm doing the thing.\n"
     ]
    },
    {
     "name": "stderr",
     "output_type": "stream",
     "text": [
      "\r",
      " 96%|█████████▌| 574/597 [04:32<00:13,  1.70it/s]"
     ]
    },
    {
     "name": "stdout",
     "output_type": "stream",
     "text": [
      "bone-penn-042\n",
      "I'm doing the thing.\n"
     ]
    },
    {
     "name": "stderr",
     "output_type": "stream",
     "text": [
      "\r",
      " 96%|█████████▋| 575/597 [04:32<00:10,  2.06it/s]"
     ]
    },
    {
     "name": "stdout",
     "output_type": "stream",
     "text": [
      "bone-penn-045\n",
      "I'm doing the thing.\n"
     ]
    },
    {
     "name": "stderr",
     "output_type": "stream",
     "text": [
      "\r",
      " 96%|█████████▋| 576/597 [04:32<00:10,  2.02it/s]"
     ]
    },
    {
     "name": "stdout",
     "output_type": "stream",
     "text": [
      "bone-penn-047\n",
      "I'm doing the thing.\n"
     ]
    },
    {
     "name": "stderr",
     "output_type": "stream",
     "text": [
      "\r",
      " 97%|█████████▋| 577/597 [04:33<00:12,  1.62it/s]"
     ]
    },
    {
     "name": "stdout",
     "output_type": "stream",
     "text": [
      "bone-penn-048\n",
      "I'm doing the thing.\n"
     ]
    },
    {
     "name": "stderr",
     "output_type": "stream",
     "text": [
      "\r",
      " 97%|█████████▋| 578/597 [04:34<00:14,  1.28it/s]"
     ]
    },
    {
     "name": "stdout",
     "output_type": "stream",
     "text": [
      "bone-penn-051\n",
      "I'm doing the thing.\n"
     ]
    },
    {
     "name": "stderr",
     "output_type": "stream",
     "text": [
      "\r",
      " 97%|█████████▋| 579/597 [04:35<00:11,  1.57it/s]"
     ]
    },
    {
     "name": "stdout",
     "output_type": "stream",
     "text": [
      "bone-penn-052\n",
      "I'm doing the thing.\n"
     ]
    },
    {
     "name": "stderr",
     "output_type": "stream",
     "text": [
      "\r",
      " 97%|█████████▋| 580/597 [04:35<00:10,  1.64it/s]"
     ]
    },
    {
     "name": "stdout",
     "output_type": "stream",
     "text": [
      "bone-penn-053\n",
      "I'm doing the thing.\n"
     ]
    },
    {
     "name": "stderr",
     "output_type": "stream",
     "text": [
      " 97%|█████████▋| 582/597 [04:36<00:05,  2.52it/s]"
     ]
    },
    {
     "name": "stdout",
     "output_type": "stream",
     "text": [
      "bone-penn-054\n",
      "I'm doing the thing.\n",
      "bone-penn-056\n",
      "I'm doing the thing.\n"
     ]
    },
    {
     "name": "stderr",
     "output_type": "stream",
     "text": [
      "\r",
      " 98%|█████████▊| 583/597 [04:36<00:06,  2.08it/s]"
     ]
    },
    {
     "name": "stdout",
     "output_type": "stream",
     "text": [
      "bone-penn-057\n",
      "I'm doing the thing.\n"
     ]
    },
    {
     "name": "stderr",
     "output_type": "stream",
     "text": [
      "\r",
      " 98%|█████████▊| 584/597 [04:37<00:05,  2.51it/s]"
     ]
    },
    {
     "name": "stdout",
     "output_type": "stream",
     "text": [
      "bone-penn-058\n",
      "I'm doing the thing.\n"
     ]
    },
    {
     "name": "stderr",
     "output_type": "stream",
     "text": [
      "\r",
      " 98%|█████████▊| 585/597 [04:37<00:04,  2.41it/s]"
     ]
    },
    {
     "name": "stdout",
     "output_type": "stream",
     "text": [
      "bone-penn-062\n",
      "I'm doing the thing.\n"
     ]
    },
    {
     "name": "stderr",
     "output_type": "stream",
     "text": [
      "\r",
      " 98%|█████████▊| 586/597 [04:39<00:08,  1.23it/s]"
     ]
    },
    {
     "name": "stdout",
     "output_type": "stream",
     "text": [
      "bone-penn-064\n",
      "I'm doing the thing.\n"
     ]
    },
    {
     "name": "stderr",
     "output_type": "stream",
     "text": [
      " 98%|█████████▊| 588/597 [04:40<00:05,  1.68it/s]"
     ]
    },
    {
     "name": "stdout",
     "output_type": "stream",
     "text": [
      "bone-penn-068\n",
      "I'm doing the thing.\n",
      "bone-penn-069\n",
      "I'm doing the thing.\n"
     ]
    },
    {
     "name": "stderr",
     "output_type": "stream",
     "text": [
      "\r",
      " 99%|█████████▊| 589/597 [04:40<00:03,  2.11it/s]"
     ]
    },
    {
     "name": "stdout",
     "output_type": "stream",
     "text": [
      "bone-penn-070\n",
      "I'm doing the thing.\n"
     ]
    },
    {
     "name": "stderr",
     "output_type": "stream",
     "text": [
      " 99%|█████████▉| 591/597 [04:41<00:03,  1.87it/s]"
     ]
    },
    {
     "name": "stdout",
     "output_type": "stream",
     "text": [
      "bone-penn-071\n",
      "I'm doing the thing.\n",
      "bone-penn-072\n",
      "I'm doing the thing.\n"
     ]
    },
    {
     "name": "stderr",
     "output_type": "stream",
     "text": [
      "\r",
      " 99%|█████████▉| 592/597 [04:42<00:02,  1.67it/s]"
     ]
    },
    {
     "name": "stdout",
     "output_type": "stream",
     "text": [
      "bone-penn-073\n",
      "I'm doing the thing.\n"
     ]
    },
    {
     "name": "stderr",
     "output_type": "stream",
     "text": [
      " 99%|█████████▉| 594/597 [04:42<00:01,  2.54it/s]"
     ]
    },
    {
     "name": "stdout",
     "output_type": "stream",
     "text": [
      "bone-penn-074\n",
      "I'm doing the thing.\n",
      "bone-penn-077\n",
      "I'm doing the thing.\n"
     ]
    },
    {
     "name": "stderr",
     "output_type": "stream",
     "text": [
      "\r",
      "100%|█████████▉| 595/597 [04:42<00:00,  2.97it/s]"
     ]
    },
    {
     "name": "stdout",
     "output_type": "stream",
     "text": [
      "bone-penn-078\n",
      "I'm doing the thing.\n"
     ]
    },
    {
     "name": "stderr",
     "output_type": "stream",
     "text": [
      "100%|██████████| 597/597 [04:43<00:00,  3.61it/s]"
     ]
    },
    {
     "name": "stdout",
     "output_type": "stream",
     "text": [
      "bone-penn-079\n",
      "I'm doing the thing.\n"
     ]
    },
    {
     "name": "stderr",
     "output_type": "stream",
     "text": [
      "100%|██████████| 597/597 [04:43<00:00,  2.11it/s]\n",
      "  1%|          | 1/163 [00:00<00:29,  5.58it/s]"
     ]
    },
    {
     "name": "stdout",
     "output_type": "stream",
     "text": [
      "bone-china-001\n",
      "I'm doing the thing.\n",
      "bone-china-003\n",
      "I'm doing the thing.\n"
     ]
    },
    {
     "name": "stderr",
     "output_type": "stream",
     "text": [
      "  2%|▏         | 3/163 [00:00<00:28,  5.63it/s]"
     ]
    },
    {
     "name": "stdout",
     "output_type": "stream",
     "text": [
      "bone-china-016\n",
      "I'm doing the thing.\n",
      "bone-china-017\n",
      "I'm doing the thing.\n"
     ]
    },
    {
     "name": "stderr",
     "output_type": "stream",
     "text": [
      "\r",
      "  2%|▏         | 4/163 [00:00<00:24,  6.38it/s]"
     ]
    },
    {
     "name": "stdout",
     "output_type": "stream",
     "text": [
      "bone-china-025\n",
      "I'm doing the thing.\n"
     ]
    },
    {
     "name": "stderr",
     "output_type": "stream",
     "text": [
      "  4%|▍         | 7/163 [00:01<00:23,  6.69it/s]"
     ]
    },
    {
     "name": "stdout",
     "output_type": "stream",
     "text": [
      "bone-china-026\n",
      "I'm doing the thing.\n",
      "bone-china-030\n",
      "I'm doing the thing.\n",
      "bone-china-034\n",
      "I'm doing the thing.\n"
     ]
    },
    {
     "name": "stderr",
     "output_type": "stream",
     "text": [
      "  6%|▌         | 10/163 [00:01<00:23,  6.56it/s]"
     ]
    },
    {
     "name": "stdout",
     "output_type": "stream",
     "text": [
      "bone-china-036\n",
      "I'm doing the thing.\n",
      "bone-china-040\n",
      "I'm doing the thing.\n",
      "bone-china-043\n",
      "I'm doing the thing.\n"
     ]
    },
    {
     "name": "stderr",
     "output_type": "stream",
     "text": [
      "\r",
      "  7%|▋         | 11/163 [00:01<00:22,  6.77it/s]"
     ]
    },
    {
     "name": "stdout",
     "output_type": "stream",
     "text": [
      "bone-china-049\n",
      "I'm doing the thing.\n"
     ]
    },
    {
     "name": "stderr",
     "output_type": "stream",
     "text": [
      "  8%|▊         | 13/163 [00:02<00:26,  5.56it/s]"
     ]
    },
    {
     "name": "stdout",
     "output_type": "stream",
     "text": [
      "bone-china-054\n",
      "I'm doing the thing.\n",
      "bone-china-057\n",
      "I'm doing the thing.\n"
     ]
    },
    {
     "name": "stderr",
     "output_type": "stream",
     "text": [
      "\r",
      "  9%|▊         | 14/163 [00:02<00:28,  5.26it/s]"
     ]
    },
    {
     "name": "stdout",
     "output_type": "stream",
     "text": [
      "bone-china-073\n",
      "I'm doing the thing.\n"
     ]
    },
    {
     "name": "stderr",
     "output_type": "stream",
     "text": [
      " 10%|▉         | 16/163 [00:02<00:25,  5.76it/s]"
     ]
    },
    {
     "name": "stdout",
     "output_type": "stream",
     "text": [
      "bone-china-077\n",
      "I'm doing the thing.\n",
      "bone-china-078\n",
      "I'm doing the thing.\n"
     ]
    },
    {
     "name": "stderr",
     "output_type": "stream",
     "text": [
      " 11%|█         | 18/163 [00:02<00:24,  6.03it/s]"
     ]
    },
    {
     "name": "stdout",
     "output_type": "stream",
     "text": [
      "bone-china-091\n",
      "I'm doing the thing.\n",
      "bone-china-112\n",
      "I'm doing the thing.\n"
     ]
    },
    {
     "name": "stderr",
     "output_type": "stream",
     "text": [
      " 12%|█▏        | 20/163 [00:03<00:25,  5.57it/s]"
     ]
    },
    {
     "name": "stdout",
     "output_type": "stream",
     "text": [
      "bone-china-119\n",
      "I'm doing the thing.\n",
      "bone-china-120\n",
      "I'm doing the thing.\n"
     ]
    },
    {
     "name": "stderr",
     "output_type": "stream",
     "text": [
      "\r",
      " 13%|█▎        | 21/163 [00:03<00:29,  4.87it/s]"
     ]
    },
    {
     "name": "stdout",
     "output_type": "stream",
     "text": [
      "bone-china-128\n",
      "I'm doing the thing.\n"
     ]
    },
    {
     "name": "stderr",
     "output_type": "stream",
     "text": [
      " 14%|█▍        | 23/163 [00:03<00:24,  5.63it/s]"
     ]
    },
    {
     "name": "stdout",
     "output_type": "stream",
     "text": [
      "bone-china-129\n",
      "I'm doing the thing.\n",
      "bone-china-139\n",
      "I'm doing the thing.\n"
     ]
    },
    {
     "name": "stderr",
     "output_type": "stream",
     "text": [
      " 15%|█▌        | 25/163 [00:04<00:23,  5.84it/s]"
     ]
    },
    {
     "name": "stdout",
     "output_type": "stream",
     "text": [
      "bone-china-147\n",
      "I'm doing the thing.\n",
      "bone-china-151\n",
      "I'm doing the thing.\n"
     ]
    },
    {
     "name": "stderr",
     "output_type": "stream",
     "text": [
      " 17%|█▋        | 27/163 [00:04<00:24,  5.47it/s]"
     ]
    },
    {
     "name": "stdout",
     "output_type": "stream",
     "text": [
      "bone-china-155\n",
      "I'm doing the thing.\n",
      "bone-china-162\n",
      "I'm doing the thing.\n",
      "bone-china-163\n",
      "I'm doing the thing.\n"
     ]
    },
    {
     "name": "stderr",
     "output_type": "stream",
     "text": [
      " 18%|█▊        | 30/163 [00:05<00:23,  5.62it/s]"
     ]
    },
    {
     "name": "stdout",
     "output_type": "stream",
     "text": [
      "bone-china-165\n",
      "I'm doing the thing.\n",
      "bone-china-168\n",
      "I'm doing the thing.\n"
     ]
    },
    {
     "name": "stderr",
     "output_type": "stream",
     "text": [
      " 20%|█▉        | 32/163 [00:05<00:24,  5.45it/s]"
     ]
    },
    {
     "name": "stdout",
     "output_type": "stream",
     "text": [
      "bone-china-173\n",
      "I'm doing the thing.\n",
      "bone-china-179\n",
      "I'm doing the thing.\n"
     ]
    },
    {
     "name": "stderr",
     "output_type": "stream",
     "text": [
      " 21%|██        | 34/163 [00:05<00:21,  5.98it/s]"
     ]
    },
    {
     "name": "stdout",
     "output_type": "stream",
     "text": [
      "bone-china-195\n",
      "I'm doing the thing.\n",
      "bone-china-201\n",
      "I'm doing the thing.\n"
     ]
    },
    {
     "name": "stderr",
     "output_type": "stream",
     "text": [
      "\r",
      " 21%|██▏       | 35/163 [00:06<00:24,  5.30it/s]"
     ]
    },
    {
     "name": "stdout",
     "output_type": "stream",
     "text": [
      "bone-china-204\n",
      "I'm doing the thing.\n"
     ]
    },
    {
     "name": "stderr",
     "output_type": "stream",
     "text": [
      "\r",
      " 22%|██▏       | 36/163 [00:06<00:34,  3.73it/s]"
     ]
    },
    {
     "name": "stdout",
     "output_type": "stream",
     "text": [
      "bone-china-210\n",
      "I'm doing the thing.\n"
     ]
    },
    {
     "name": "stderr",
     "output_type": "stream",
     "text": [
      " 23%|██▎       | 38/163 [00:06<00:29,  4.21it/s]"
     ]
    },
    {
     "name": "stdout",
     "output_type": "stream",
     "text": [
      "bone-china-211\n",
      "I'm doing the thing.\n",
      "bone-china-226\n",
      "I'm doing the thing.\n"
     ]
    },
    {
     "name": "stderr",
     "output_type": "stream",
     "text": [
      "\r",
      " 24%|██▍       | 39/163 [00:07<00:27,  4.54it/s]"
     ]
    },
    {
     "name": "stdout",
     "output_type": "stream",
     "text": [
      "bone-penn-087\n",
      "I'm doing the thing.\n"
     ]
    },
    {
     "name": "stderr",
     "output_type": "stream",
     "text": [
      "\r",
      " 25%|██▍       | 40/163 [00:07<00:39,  3.11it/s]"
     ]
    },
    {
     "name": "stdout",
     "output_type": "stream",
     "text": [
      "bone-penn-096\n",
      "I'm doing the thing.\n"
     ]
    },
    {
     "name": "stderr",
     "output_type": "stream",
     "text": [
      "\r",
      " 25%|██▌       | 41/163 [00:08<00:48,  2.53it/s]"
     ]
    },
    {
     "name": "stdout",
     "output_type": "stream",
     "text": [
      "bone-penn-101\n",
      "I'm doing the thing.\n"
     ]
    },
    {
     "name": "stderr",
     "output_type": "stream",
     "text": [
      " 26%|██▋       | 43/163 [00:08<00:37,  3.18it/s]"
     ]
    },
    {
     "name": "stdout",
     "output_type": "stream",
     "text": [
      "bone-penn-104\n",
      "I'm doing the thing.\n",
      "bone-penn-108\n",
      "I'm doing the thing.\n"
     ]
    },
    {
     "name": "stderr",
     "output_type": "stream",
     "text": [
      " 28%|██▊       | 45/163 [00:09<00:43,  2.73it/s]"
     ]
    },
    {
     "name": "stdout",
     "output_type": "stream",
     "text": [
      "bone-penn-115\n",
      "I'm doing the thing.\n",
      "bone-penn-124\n",
      "I'm doing the thing.\n"
     ]
    },
    {
     "name": "stderr",
     "output_type": "stream",
     "text": [
      "\r",
      " 28%|██▊       | 46/163 [00:10<01:04,  1.80it/s]"
     ]
    },
    {
     "name": "stdout",
     "output_type": "stream",
     "text": [
      "bone-penn-132\n",
      "I'm doing the thing.\n"
     ]
    },
    {
     "name": "stderr",
     "output_type": "stream",
     "text": [
      "\r",
      " 29%|██▉       | 47/163 [00:11<01:13,  1.58it/s]"
     ]
    },
    {
     "name": "stdout",
     "output_type": "stream",
     "text": [
      "bone-penn-143\n",
      "I'm doing the thing.\n"
     ]
    },
    {
     "name": "stderr",
     "output_type": "stream",
     "text": [
      "\r",
      " 29%|██▉       | 48/163 [00:11<00:59,  1.93it/s]"
     ]
    },
    {
     "name": "stdout",
     "output_type": "stream",
     "text": [
      "bone-penn-151\n",
      "I'm doing the thing.\n"
     ]
    },
    {
     "name": "stderr",
     "output_type": "stream",
     "text": [
      "\r",
      " 30%|███       | 49/163 [00:12<01:15,  1.52it/s]"
     ]
    },
    {
     "name": "stdout",
     "output_type": "stream",
     "text": [
      "bone-penn-159\n",
      "I'm doing the thing.\n"
     ]
    },
    {
     "name": "stderr",
     "output_type": "stream",
     "text": [
      " 31%|███▏      | 51/163 [00:13<00:48,  2.33it/s]"
     ]
    },
    {
     "name": "stdout",
     "output_type": "stream",
     "text": [
      "bone-penn-165\n",
      "I'm doing the thing.\n",
      "bone-penn-166\n",
      "I'm doing the thing.\n"
     ]
    },
    {
     "name": "stderr",
     "output_type": "stream",
     "text": [
      "\r",
      " 32%|███▏      | 52/163 [00:13<00:41,  2.70it/s]"
     ]
    },
    {
     "name": "stdout",
     "output_type": "stream",
     "text": [
      "bone-penn-169\n",
      "I'm doing the thing.\n"
     ]
    },
    {
     "name": "stderr",
     "output_type": "stream",
     "text": [
      "\r",
      " 33%|███▎      | 53/163 [00:13<00:46,  2.36it/s]"
     ]
    },
    {
     "name": "stdout",
     "output_type": "stream",
     "text": [
      "bone-penn-176\n",
      "I'm doing the thing.\n",
      "bone-penn-182\n",
      "I'm doing the thing.\n"
     ]
    },
    {
     "name": "stderr",
     "output_type": "stream",
     "text": [
      "\r",
      " 34%|███▎      | 55/163 [00:14<00:42,  2.57it/s]"
     ]
    },
    {
     "name": "stdout",
     "output_type": "stream",
     "text": [
      "bone-penn-186\n",
      "I'm doing the thing.\n"
     ]
    },
    {
     "name": "stderr",
     "output_type": "stream",
     "text": [
      "\r",
      " 34%|███▍      | 56/163 [00:15<00:55,  1.95it/s]"
     ]
    },
    {
     "name": "stdout",
     "output_type": "stream",
     "text": [
      "bone-penn-203\n",
      "I'm doing the thing.\n"
     ]
    },
    {
     "name": "stderr",
     "output_type": "stream",
     "text": [
      "\r",
      " 35%|███▍      | 57/163 [00:16<00:57,  1.84it/s]"
     ]
    },
    {
     "name": "stdout",
     "output_type": "stream",
     "text": [
      "bone-penn-211\n",
      "I'm doing the thing.\n"
     ]
    },
    {
     "name": "stderr",
     "output_type": "stream",
     "text": [
      " 36%|███▌      | 59/163 [00:16<00:50,  2.08it/s]"
     ]
    },
    {
     "name": "stdout",
     "output_type": "stream",
     "text": [
      "bone-penn-226\n",
      "I'm doing the thing.\n",
      "bone-penn-234\n",
      "I'm doing the thing.\n"
     ]
    },
    {
     "name": "stderr",
     "output_type": "stream",
     "text": [
      " 37%|███▋      | 61/163 [00:18<00:53,  1.92it/s]"
     ]
    },
    {
     "name": "stdout",
     "output_type": "stream",
     "text": [
      "bone-penn-259\n",
      "I'm doing the thing.\n",
      "bone-penn-263\n",
      "I'm doing the thing.\n"
     ]
    },
    {
     "name": "stderr",
     "output_type": "stream",
     "text": [
      "\r",
      " 38%|███▊      | 62/163 [00:18<00:56,  1.79it/s]"
     ]
    },
    {
     "name": "stdout",
     "output_type": "stream",
     "text": [
      "bone-penn-265\n",
      "I'm doing the thing.\n"
     ]
    },
    {
     "name": "stderr",
     "output_type": "stream",
     "text": [
      "\r",
      " 39%|███▊      | 63/163 [00:19<00:52,  1.90it/s]"
     ]
    },
    {
     "name": "stdout",
     "output_type": "stream",
     "text": [
      "bone-penn-270\n",
      "I'm doing the thing.\n"
     ]
    },
    {
     "name": "stderr",
     "output_type": "stream",
     "text": [
      "\r",
      " 39%|███▉      | 64/163 [00:20<01:01,  1.61it/s]"
     ]
    },
    {
     "name": "stdout",
     "output_type": "stream",
     "text": [
      "bone-penn-273\n",
      "I'm doing the thing.\n"
     ]
    },
    {
     "name": "stderr",
     "output_type": "stream",
     "text": [
      "\r",
      " 40%|███▉      | 65/163 [00:20<01:03,  1.55it/s]"
     ]
    },
    {
     "name": "stdout",
     "output_type": "stream",
     "text": [
      "bone-penn-274\n",
      "I'm doing the thing.\n"
     ]
    },
    {
     "name": "stderr",
     "output_type": "stream",
     "text": [
      " 41%|████      | 67/163 [00:21<00:53,  1.79it/s]"
     ]
    },
    {
     "name": "stdout",
     "output_type": "stream",
     "text": [
      "bone-penn-275\n",
      "I'm doing the thing.\n",
      "bone-penn-281\n",
      "I'm doing the thing.\n"
     ]
    },
    {
     "name": "stderr",
     "output_type": "stream",
     "text": [
      "\r",
      " 42%|████▏     | 68/163 [00:22<00:44,  2.12it/s]"
     ]
    },
    {
     "name": "stdout",
     "output_type": "stream",
     "text": [
      "bone-penn-309\n",
      "I'm doing the thing.\n"
     ]
    },
    {
     "name": "stderr",
     "output_type": "stream",
     "text": [
      "\r",
      " 42%|████▏     | 69/163 [00:22<00:38,  2.46it/s]"
     ]
    },
    {
     "name": "stdout",
     "output_type": "stream",
     "text": [
      "bone-penn-329\n",
      "I'm doing the thing.\n"
     ]
    },
    {
     "name": "stderr",
     "output_type": "stream",
     "text": [
      "\r",
      " 43%|████▎     | 70/163 [00:23<00:50,  1.86it/s]"
     ]
    },
    {
     "name": "stdout",
     "output_type": "stream",
     "text": [
      "bone-penn-334\n",
      "I'm doing the thing.\n"
     ]
    },
    {
     "name": "stderr",
     "output_type": "stream",
     "text": [
      "\r",
      " 44%|████▎     | 71/163 [00:24<01:00,  1.51it/s]"
     ]
    },
    {
     "name": "stdout",
     "output_type": "stream",
     "text": [
      "bone-penn-378\n",
      "I'm doing the thing.\n"
     ]
    },
    {
     "name": "stderr",
     "output_type": "stream",
     "text": [
      "\r",
      " 44%|████▍     | 72/163 [00:24<00:57,  1.59it/s]"
     ]
    },
    {
     "name": "stdout",
     "output_type": "stream",
     "text": [
      "bone-penn-381\n",
      "I'm doing the thing.\n",
      "bone-penn-390\n",
      "I'm doing the thing.\n"
     ]
    },
    {
     "name": "stderr",
     "output_type": "stream",
     "text": [
      "\r",
      " 45%|████▌     | 74/163 [00:25<00:46,  1.92it/s]"
     ]
    },
    {
     "name": "stdout",
     "output_type": "stream",
     "text": [
      "bone-penn-401\n",
      "I'm doing the thing.\n"
     ]
    },
    {
     "name": "stderr",
     "output_type": "stream",
     "text": [
      "\r",
      " 46%|████▌     | 75/163 [00:26<00:51,  1.73it/s]"
     ]
    },
    {
     "name": "stdout",
     "output_type": "stream",
     "text": [
      "bone-penn-403\n",
      "I'm doing the thing.\n",
      "bone-penn-439\n",
      "I'm doing the thing.\n"
     ]
    },
    {
     "name": "stderr",
     "output_type": "stream",
     "text": [
      "\r",
      " 47%|████▋     | 77/163 [00:27<00:53,  1.62it/s]"
     ]
    },
    {
     "name": "stdout",
     "output_type": "stream",
     "text": [
      "bone-penn-456\n",
      "I'm doing the thing.\n"
     ]
    },
    {
     "name": "stderr",
     "output_type": "stream",
     "text": [
      "\r",
      " 48%|████▊     | 78/163 [00:28<00:53,  1.58it/s]"
     ]
    },
    {
     "name": "stdout",
     "output_type": "stream",
     "text": [
      "bone-penn-462\n",
      "I'm doing the thing.\n"
     ]
    },
    {
     "name": "stderr",
     "output_type": "stream",
     "text": [
      "\r",
      " 48%|████▊     | 79/163 [00:28<00:51,  1.63it/s]"
     ]
    },
    {
     "name": "stdout",
     "output_type": "stream",
     "text": [
      "bone-penn-464\n",
      "I'm doing the thing.\n"
     ]
    },
    {
     "name": "stderr",
     "output_type": "stream",
     "text": [
      "\r",
      " 49%|████▉     | 80/163 [00:29<00:44,  1.88it/s]"
     ]
    },
    {
     "name": "stdout",
     "output_type": "stream",
     "text": [
      "bone-penn-466\n",
      "I'm doing the thing.\n"
     ]
    },
    {
     "name": "stderr",
     "output_type": "stream",
     "text": [
      "\r",
      " 50%|████▉     | 81/163 [00:30<00:57,  1.42it/s]"
     ]
    },
    {
     "name": "stdout",
     "output_type": "stream",
     "text": [
      "bone-penn-468\n",
      "I'm doing the thing.\n"
     ]
    },
    {
     "name": "stderr",
     "output_type": "stream",
     "text": [
      "\r",
      " 50%|█████     | 82/163 [00:31<01:02,  1.30it/s]"
     ]
    },
    {
     "name": "stdout",
     "output_type": "stream",
     "text": [
      "bone-penn-479\n",
      "I'm doing the thing.\n"
     ]
    },
    {
     "name": "stderr",
     "output_type": "stream",
     "text": [
      "\r",
      " 51%|█████     | 83/163 [00:31<00:49,  1.61it/s]"
     ]
    },
    {
     "name": "stdout",
     "output_type": "stream",
     "text": [
      "bone-penn-481\n",
      "I'm doing the thing.\n",
      "bone-penn-485\n",
      "I'm doing the thing.\n"
     ]
    },
    {
     "name": "stderr",
     "output_type": "stream",
     "text": [
      "\r",
      " 52%|█████▏    | 85/163 [00:32<00:43,  1.81it/s]"
     ]
    },
    {
     "name": "stdout",
     "output_type": "stream",
     "text": [
      "bone-penn-488\n",
      "I'm doing the thing.\n",
      "bone-penn-491\n",
      "I'm doing the thing.\n"
     ]
    },
    {
     "name": "stderr",
     "output_type": "stream",
     "text": [
      "\r",
      " 53%|█████▎    | 87/163 [00:32<00:32,  2.33it/s]"
     ]
    },
    {
     "name": "stdout",
     "output_type": "stream",
     "text": [
      "bone-penn-492\n",
      "I'm doing the thing.\n"
     ]
    },
    {
     "name": "stderr",
     "output_type": "stream",
     "text": [
      " 55%|█████▍    | 89/163 [00:32<00:22,  3.24it/s]"
     ]
    },
    {
     "name": "stdout",
     "output_type": "stream",
     "text": [
      "bone-penn-498\n",
      "I'm doing the thing.\n",
      "bone-penn-500\n",
      "I'm doing the thing.\n"
     ]
    },
    {
     "name": "stderr",
     "output_type": "stream",
     "text": [
      "\r",
      " 55%|█████▌    | 90/163 [00:33<00:28,  2.55it/s]"
     ]
    },
    {
     "name": "stdout",
     "output_type": "stream",
     "text": [
      "bone-penn-502\n",
      "I'm doing the thing.\n"
     ]
    },
    {
     "name": "stderr",
     "output_type": "stream",
     "text": [
      " 56%|█████▋    | 92/163 [00:34<00:34,  2.03it/s]"
     ]
    },
    {
     "name": "stdout",
     "output_type": "stream",
     "text": [
      "bone-penn-504\n",
      "I'm doing the thing.\n",
      "bone-penn-508\n",
      "I'm doing the thing.\n"
     ]
    },
    {
     "name": "stderr",
     "output_type": "stream",
     "text": [
      " 58%|█████▊    | 94/163 [00:35<00:26,  2.65it/s]"
     ]
    },
    {
     "name": "stdout",
     "output_type": "stream",
     "text": [
      "bone-penn-511\n",
      "I'm doing the thing.\n",
      "bone-penn-526\n",
      "I'm doing the thing.\n"
     ]
    },
    {
     "name": "stderr",
     "output_type": "stream",
     "text": [
      "\r",
      " 58%|█████▊    | 95/163 [00:36<00:47,  1.43it/s]"
     ]
    },
    {
     "name": "stdout",
     "output_type": "stream",
     "text": [
      "bone-penn-532\n",
      "I'm doing the thing.\n"
     ]
    },
    {
     "name": "stderr",
     "output_type": "stream",
     "text": [
      " 60%|█████▉    | 97/163 [00:37<00:28,  2.30it/s]"
     ]
    },
    {
     "name": "stdout",
     "output_type": "stream",
     "text": [
      "bone-penn-537\n",
      "I'm doing the thing.\n",
      "bone-penn-553\n",
      "I'm doing the thing.\n"
     ]
    },
    {
     "name": "stderr",
     "output_type": "stream",
     "text": [
      "\r",
      " 60%|██████    | 98/163 [00:37<00:32,  1.99it/s]"
     ]
    },
    {
     "name": "stdout",
     "output_type": "stream",
     "text": [
      "bone-penn-564\n",
      "I'm doing the thing.\n"
     ]
    },
    {
     "name": "stderr",
     "output_type": "stream",
     "text": [
      "\r",
      " 61%|██████    | 99/163 [00:38<00:28,  2.22it/s]"
     ]
    },
    {
     "name": "stdout",
     "output_type": "stream",
     "text": [
      "bone-penn-576\n",
      "I'm doing the thing.\n"
     ]
    },
    {
     "name": "stderr",
     "output_type": "stream",
     "text": [
      " 62%|██████▏   | 101/163 [00:39<00:25,  2.44it/s]"
     ]
    },
    {
     "name": "stdout",
     "output_type": "stream",
     "text": [
      "bone-penn-583\n",
      "I'm doing the thing.\n",
      "bone-penn-584\n",
      "I'm doing the thing.\n"
     ]
    },
    {
     "name": "stderr",
     "output_type": "stream",
     "text": [
      "\r",
      " 63%|██████▎   | 102/163 [00:39<00:19,  3.07it/s]"
     ]
    },
    {
     "name": "stdout",
     "output_type": "stream",
     "text": [
      "bone-penn-590\n",
      "I'm doing the thing.\n"
     ]
    },
    {
     "name": "stderr",
     "output_type": "stream",
     "text": [
      "\r",
      " 63%|██████▎   | 103/163 [00:39<00:21,  2.73it/s]"
     ]
    },
    {
     "name": "stdout",
     "output_type": "stream",
     "text": [
      "bone-penn-595\n",
      "I'm doing the thing.\n"
     ]
    },
    {
     "name": "stderr",
     "output_type": "stream",
     "text": [
      "\r",
      " 64%|██████▍   | 104/163 [00:39<00:21,  2.76it/s]"
     ]
    },
    {
     "name": "stdout",
     "output_type": "stream",
     "text": [
      "bone-penn-607\n",
      "I'm doing the thing.\n"
     ]
    },
    {
     "name": "stderr",
     "output_type": "stream",
     "text": [
      "\r",
      " 64%|██████▍   | 105/163 [00:40<00:31,  1.81it/s]"
     ]
    },
    {
     "name": "stdout",
     "output_type": "stream",
     "text": [
      "bone-penn-608\n",
      "I'm doing the thing.\n"
     ]
    },
    {
     "name": "stderr",
     "output_type": "stream",
     "text": [
      "\r",
      " 65%|██████▌   | 106/163 [00:41<00:26,  2.15it/s]"
     ]
    },
    {
     "name": "stdout",
     "output_type": "stream",
     "text": [
      "bone-penn-618\n",
      "I'm doing the thing.\n"
     ]
    },
    {
     "name": "stderr",
     "output_type": "stream",
     "text": [
      "\r",
      " 66%|██████▌   | 107/163 [00:41<00:25,  2.20it/s]"
     ]
    },
    {
     "name": "stdout",
     "output_type": "stream",
     "text": [
      "bone-penn-628\n",
      "I'm doing the thing.\n"
     ]
    },
    {
     "name": "stderr",
     "output_type": "stream",
     "text": [
      "\r",
      " 66%|██████▋   | 108/163 [00:41<00:21,  2.59it/s]"
     ]
    },
    {
     "name": "stdout",
     "output_type": "stream",
     "text": [
      "bone-penn-645\n",
      "I'm doing the thing.\n"
     ]
    },
    {
     "name": "stderr",
     "output_type": "stream",
     "text": [
      "\r",
      " 67%|██████▋   | 109/163 [00:42<00:23,  2.34it/s]"
     ]
    },
    {
     "name": "stdout",
     "output_type": "stream",
     "text": [
      "bone-penn-646\n",
      "I'm doing the thing.\n"
     ]
    },
    {
     "name": "stderr",
     "output_type": "stream",
     "text": [
      "\r",
      " 67%|██████▋   | 110/163 [00:42<00:22,  2.37it/s]"
     ]
    },
    {
     "name": "stdout",
     "output_type": "stream",
     "text": [
      "bone-penn-647\n",
      "I'm doing the thing.\n"
     ]
    },
    {
     "name": "stderr",
     "output_type": "stream",
     "text": [
      "\r",
      " 68%|██████▊   | 111/163 [00:43<00:19,  2.72it/s]"
     ]
    },
    {
     "name": "stdout",
     "output_type": "stream",
     "text": [
      "bone-hup-129\n",
      "I'm doing the thing.\n"
     ]
    },
    {
     "name": "stderr",
     "output_type": "stream",
     "text": [
      "\r",
      " 69%|██████▊   | 112/163 [00:43<00:27,  1.87it/s]"
     ]
    },
    {
     "name": "stdout",
     "output_type": "stream",
     "text": [
      "bone-hup-144\n",
      "I'm doing the thing.\n"
     ]
    },
    {
     "name": "stderr",
     "output_type": "stream",
     "text": [
      "\r",
      " 69%|██████▉   | 113/163 [00:44<00:23,  2.16it/s]"
     ]
    },
    {
     "name": "stdout",
     "output_type": "stream",
     "text": [
      "bone-hup-145\n",
      "I'm doing the thing.\n"
     ]
    },
    {
     "name": "stderr",
     "output_type": "stream",
     "text": [
      "\r",
      " 70%|██████▉   | 114/163 [00:44<00:19,  2.49it/s]"
     ]
    },
    {
     "name": "stdout",
     "output_type": "stream",
     "text": [
      "bone-hup-147\n",
      "I'm doing the thing.\n"
     ]
    },
    {
     "name": "stderr",
     "output_type": "stream",
     "text": [
      "\r",
      " 71%|███████   | 115/163 [00:45<00:25,  1.86it/s]"
     ]
    },
    {
     "name": "stdout",
     "output_type": "stream",
     "text": [
      "bone-hup-153\n",
      "I'm doing the thing.\n"
     ]
    },
    {
     "name": "stderr",
     "output_type": "stream",
     "text": [
      "\r",
      " 71%|███████   | 116/163 [00:45<00:20,  2.25it/s]"
     ]
    },
    {
     "name": "stdout",
     "output_type": "stream",
     "text": [
      "bone-hup-157\n",
      "I'm doing the thing.\n"
     ]
    },
    {
     "name": "stderr",
     "output_type": "stream",
     "text": [
      "\r",
      " 72%|███████▏  | 117/163 [00:47<00:41,  1.10it/s]"
     ]
    },
    {
     "name": "stdout",
     "output_type": "stream",
     "text": [
      "bone-hup-166\n",
      "I'm doing the thing.\n"
     ]
    },
    {
     "name": "stderr",
     "output_type": "stream",
     "text": [
      " 73%|███████▎  | 119/163 [00:48<00:24,  1.82it/s]"
     ]
    },
    {
     "name": "stdout",
     "output_type": "stream",
     "text": [
      "bone-hup-170\n",
      "I'm doing the thing.\n",
      "bone-hup-176\n",
      "I'm doing the thing.\n"
     ]
    },
    {
     "name": "stderr",
     "output_type": "stream",
     "text": [
      " 74%|███████▍  | 121/163 [00:48<00:15,  2.63it/s]"
     ]
    },
    {
     "name": "stdout",
     "output_type": "stream",
     "text": [
      "bone-hup-183\n",
      "I'm doing the thing.\n",
      "bone-hup-192\n",
      "I'm doing the thing.\n"
     ]
    },
    {
     "name": "stderr",
     "output_type": "stream",
     "text": [
      " 75%|███████▌  | 123/163 [00:48<00:11,  3.51it/s]"
     ]
    },
    {
     "name": "stdout",
     "output_type": "stream",
     "text": [
      "bone-hup-196\n",
      "I'm doing the thing.\n",
      "bone-hup-204\n",
      "I'm doing the thing.\n",
      "bone-hup-205\n",
      "I'm doing the thing.\n"
     ]
    },
    {
     "name": "stderr",
     "output_type": "stream",
     "text": [
      "\r",
      " 77%|███████▋  | 125/163 [00:49<00:11,  3.45it/s]"
     ]
    },
    {
     "name": "stdout",
     "output_type": "stream",
     "text": [
      "bone-hup-216\n",
      "I'm doing the thing.\n"
     ]
    },
    {
     "name": "stderr",
     "output_type": "stream",
     "text": [
      "\r",
      " 77%|███████▋  | 126/163 [00:49<00:11,  3.13it/s]"
     ]
    },
    {
     "name": "stdout",
     "output_type": "stream",
     "text": [
      "bone-hup-222\n",
      "I'm doing the thing.\n",
      "bone-hup-246\n",
      "I'm doing the thing.\n"
     ]
    },
    {
     "name": "stderr",
     "output_type": "stream",
     "text": [
      "\r",
      " 79%|███████▊  | 128/163 [00:50<00:10,  3.30it/s]"
     ]
    },
    {
     "name": "stdout",
     "output_type": "stream",
     "text": [
      "bone-hup-292\n",
      "I'm doing the thing.\n"
     ]
    },
    {
     "name": "stderr",
     "output_type": "stream",
     "text": [
      "\r",
      " 79%|███████▉  | 129/163 [00:50<00:10,  3.22it/s]"
     ]
    },
    {
     "name": "stdout",
     "output_type": "stream",
     "text": [
      "bone-hup-295\n",
      "I'm doing the thing.\n"
     ]
    },
    {
     "name": "stderr",
     "output_type": "stream",
     "text": [
      "\r",
      " 80%|███████▉  | 130/163 [00:51<00:15,  2.13it/s]"
     ]
    },
    {
     "name": "stdout",
     "output_type": "stream",
     "text": [
      "bone-hup-301\n",
      "I'm doing the thing.\n"
     ]
    },
    {
     "name": "stderr",
     "output_type": "stream",
     "text": [
      "\r",
      " 80%|████████  | 131/163 [00:51<00:13,  2.40it/s]"
     ]
    },
    {
     "name": "stdout",
     "output_type": "stream",
     "text": [
      "bone-hup-303\n",
      "I'm doing the thing.\n"
     ]
    },
    {
     "name": "stderr",
     "output_type": "stream",
     "text": [
      "\r",
      " 81%|████████  | 132/163 [00:52<00:18,  1.70it/s]"
     ]
    },
    {
     "name": "stdout",
     "output_type": "stream",
     "text": [
      "bone-hup-307\n",
      "I'm doing the thing.\n"
     ]
    },
    {
     "name": "stderr",
     "output_type": "stream",
     "text": [
      "\r",
      " 82%|████████▏ | 133/163 [00:53<00:14,  2.05it/s]"
     ]
    },
    {
     "name": "stdout",
     "output_type": "stream",
     "text": [
      "bone-hup-315\n",
      "I'm doing the thing.\n"
     ]
    },
    {
     "name": "stderr",
     "output_type": "stream",
     "text": [
      "\r",
      " 82%|████████▏ | 134/163 [00:53<00:12,  2.38it/s]"
     ]
    },
    {
     "name": "stdout",
     "output_type": "stream",
     "text": [
      "bone-hup-320\n",
      "I'm doing the thing.\n"
     ]
    },
    {
     "name": "stderr",
     "output_type": "stream",
     "text": [
      "\r",
      " 83%|████████▎ | 135/163 [00:54<00:20,  1.37it/s]"
     ]
    },
    {
     "name": "stdout",
     "output_type": "stream",
     "text": [
      "bone-hup-322\n",
      "I'm doing the thing.\n"
     ]
    },
    {
     "name": "stderr",
     "output_type": "stream",
     "text": [
      "\r",
      " 83%|████████▎ | 136/163 [00:55<00:19,  1.40it/s]"
     ]
    },
    {
     "name": "stdout",
     "output_type": "stream",
     "text": [
      "bone-hup-327\n",
      "I'm doing the thing.\n"
     ]
    },
    {
     "name": "stderr",
     "output_type": "stream",
     "text": [
      "\r",
      " 84%|████████▍ | 137/163 [00:55<00:15,  1.72it/s]"
     ]
    },
    {
     "name": "stdout",
     "output_type": "stream",
     "text": [
      "bone-hup-329\n",
      "I'm doing the thing.\n"
     ]
    },
    {
     "name": "stderr",
     "output_type": "stream",
     "text": [
      "\r",
      " 85%|████████▍ | 138/163 [00:56<00:18,  1.36it/s]"
     ]
    },
    {
     "name": "stdout",
     "output_type": "stream",
     "text": [
      "bone-hup-48\n",
      "I'm doing the thing.\n"
     ]
    },
    {
     "name": "stderr",
     "output_type": "stream",
     "text": [
      "\r",
      " 85%|████████▌ | 139/163 [00:57<00:16,  1.48it/s]"
     ]
    },
    {
     "name": "stdout",
     "output_type": "stream",
     "text": [
      "bone-hup-54\n",
      "I'm doing the thing.\n"
     ]
    },
    {
     "name": "stderr",
     "output_type": "stream",
     "text": [
      "\r",
      " 86%|████████▌ | 140/163 [00:57<00:13,  1.70it/s]"
     ]
    },
    {
     "name": "stdout",
     "output_type": "stream",
     "text": [
      "bone-hup-72\n",
      "I'm doing the thing.\n"
     ]
    },
    {
     "name": "stderr",
     "output_type": "stream",
     "text": [
      " 87%|████████▋ | 142/163 [00:58<00:09,  2.26it/s]"
     ]
    },
    {
     "name": "stdout",
     "output_type": "stream",
     "text": [
      "bone-hup-73\n",
      "I'm doing the thing.\n",
      "bone-hup-77\n",
      "I'm doing the thing.\n",
      "bone-hup-89\n",
      "I'm doing the thing.\n"
     ]
    },
    {
     "name": "stderr",
     "output_type": "stream",
     "text": [
      "\r",
      " 88%|████████▊ | 144/163 [00:59<00:07,  2.54it/s]"
     ]
    },
    {
     "name": "stdout",
     "output_type": "stream",
     "text": [
      "bone-penn-002\n",
      "I'm doing the thing.\n"
     ]
    },
    {
     "name": "stderr",
     "output_type": "stream",
     "text": [
      "\r",
      " 89%|████████▉ | 145/163 [00:59<00:06,  2.74it/s]"
     ]
    },
    {
     "name": "stdout",
     "output_type": "stream",
     "text": [
      "bone-penn-004\n",
      "I'm doing the thing.\n"
     ]
    },
    {
     "name": "stderr",
     "output_type": "stream",
     "text": [
      "\r",
      " 90%|████████▉ | 146/163 [00:59<00:06,  2.77it/s]"
     ]
    },
    {
     "name": "stdout",
     "output_type": "stream",
     "text": [
      "bone-penn-010\n",
      "I'm doing the thing.\n"
     ]
    },
    {
     "name": "stderr",
     "output_type": "stream",
     "text": [
      "\r",
      " 90%|█████████ | 147/163 [00:59<00:05,  2.98it/s]"
     ]
    },
    {
     "name": "stdout",
     "output_type": "stream",
     "text": [
      "bone-penn-013\n",
      "I'm doing the thing.\n"
     ]
    },
    {
     "name": "stderr",
     "output_type": "stream",
     "text": [
      "\r",
      " 91%|█████████ | 148/163 [01:00<00:06,  2.30it/s]"
     ]
    },
    {
     "name": "stdout",
     "output_type": "stream",
     "text": [
      "bone-penn-017\n",
      "I'm doing the thing.\n"
     ]
    },
    {
     "name": "stderr",
     "output_type": "stream",
     "text": [
      "\r",
      " 91%|█████████▏| 149/163 [01:00<00:05,  2.43it/s]"
     ]
    },
    {
     "name": "stdout",
     "output_type": "stream",
     "text": [
      "bone-penn-026\n",
      "I'm doing the thing.\n"
     ]
    },
    {
     "name": "stderr",
     "output_type": "stream",
     "text": [
      "\r",
      " 92%|█████████▏| 150/163 [01:01<00:04,  2.85it/s]"
     ]
    },
    {
     "name": "stdout",
     "output_type": "stream",
     "text": [
      "bone-penn-028\n",
      "I'm doing the thing.\n"
     ]
    },
    {
     "name": "stderr",
     "output_type": "stream",
     "text": [
      "\r",
      " 93%|█████████▎| 151/163 [01:01<00:03,  3.06it/s]"
     ]
    },
    {
     "name": "stdout",
     "output_type": "stream",
     "text": [
      "bone-penn-031\n",
      "I'm doing the thing.\n",
      "bone-penn-032\n",
      "I'm doing the thing.\n"
     ]
    },
    {
     "name": "stderr",
     "output_type": "stream",
     "text": [
      "\r",
      " 94%|█████████▍| 153/163 [01:01<00:03,  3.27it/s]"
     ]
    },
    {
     "name": "stdout",
     "output_type": "stream",
     "text": [
      "bone-penn-035\n",
      "I'm doing the thing.\n",
      "bone-penn-041\n",
      "I'm doing the thing.\n"
     ]
    },
    {
     "name": "stderr",
     "output_type": "stream",
     "text": [
      "\r",
      " 95%|█████████▌| 155/163 [01:02<00:02,  3.07it/s]"
     ]
    },
    {
     "name": "stdout",
     "output_type": "stream",
     "text": [
      "bone-penn-044\n",
      "I'm doing the thing.\n"
     ]
    },
    {
     "name": "stderr",
     "output_type": "stream",
     "text": [
      "\r",
      " 96%|█████████▌| 156/163 [01:03<00:03,  2.26it/s]"
     ]
    },
    {
     "name": "stdout",
     "output_type": "stream",
     "text": [
      "bone-penn-055\n",
      "I'm doing the thing.\n"
     ]
    },
    {
     "name": "stderr",
     "output_type": "stream",
     "text": [
      "\r",
      " 96%|█████████▋| 157/163 [01:03<00:02,  2.31it/s]"
     ]
    },
    {
     "name": "stdout",
     "output_type": "stream",
     "text": [
      "bone-penn-059\n",
      "I'm doing the thing.\n"
     ]
    },
    {
     "name": "stderr",
     "output_type": "stream",
     "text": [
      "\r",
      " 97%|█████████▋| 158/163 [01:04<00:01,  2.66it/s]"
     ]
    },
    {
     "name": "stdout",
     "output_type": "stream",
     "text": [
      "bone-penn-061\n",
      "I'm doing the thing.\n"
     ]
    },
    {
     "name": "stderr",
     "output_type": "stream",
     "text": [
      "\r",
      " 98%|█████████▊| 159/163 [01:04<00:01,  2.74it/s]"
     ]
    },
    {
     "name": "stdout",
     "output_type": "stream",
     "text": [
      "bone-penn-063\n",
      "I'm doing the thing.\n"
     ]
    },
    {
     "name": "stderr",
     "output_type": "stream",
     "text": [
      "\r",
      " 98%|█████████▊| 160/163 [01:04<00:00,  3.02it/s]"
     ]
    },
    {
     "name": "stdout",
     "output_type": "stream",
     "text": [
      "bone-penn-065\n",
      "I'm doing the thing.\n"
     ]
    },
    {
     "name": "stderr",
     "output_type": "stream",
     "text": [
      " 99%|█████████▉| 162/163 [01:07<00:00,  1.45it/s]"
     ]
    },
    {
     "name": "stdout",
     "output_type": "stream",
     "text": [
      "bone-penn-067\n",
      "I'm doing the thing.\n",
      "bone-penn-075\n",
      "I'm doing the thing.\n"
     ]
    },
    {
     "name": "stderr",
     "output_type": "stream",
     "text": [
      "100%|██████████| 163/163 [01:07<00:00,  2.40it/s]\n",
      "  1%|          | 1/92 [00:00<00:13,  6.76it/s]"
     ]
    },
    {
     "name": "stdout",
     "output_type": "stream",
     "text": [
      "bone-china-007\n",
      "I'm doing the thing.\n",
      "bone-china-012\n",
      "I'm doing the thing.\n"
     ]
    },
    {
     "name": "stderr",
     "output_type": "stream",
     "text": [
      "\r",
      "  2%|▏         | 2/92 [00:00<00:14,  6.27it/s]"
     ]
    },
    {
     "name": "stdout",
     "output_type": "stream",
     "text": [
      "bone-china-013\n",
      "I'm doing the thing.\n"
     ]
    },
    {
     "name": "stderr",
     "output_type": "stream",
     "text": [
      "  4%|▍         | 4/92 [00:00<00:15,  5.56it/s]"
     ]
    },
    {
     "name": "stdout",
     "output_type": "stream",
     "text": [
      "bone-china-018\n",
      "I'm doing the thing.\n",
      "bone-china-063\n",
      "I'm doing the thing.\n"
     ]
    },
    {
     "name": "stderr",
     "output_type": "stream",
     "text": [
      "  7%|▋         | 6/92 [00:01<00:16,  5.14it/s]"
     ]
    },
    {
     "name": "stdout",
     "output_type": "stream",
     "text": [
      "bone-china-064\n",
      "I'm doing the thing.\n",
      "bone-china-067\n",
      "I'm doing the thing.\n"
     ]
    },
    {
     "name": "stderr",
     "output_type": "stream",
     "text": [
      "  9%|▊         | 8/92 [00:01<00:14,  5.84it/s]"
     ]
    },
    {
     "name": "stdout",
     "output_type": "stream",
     "text": [
      "bone-china-082\n",
      "I'm doing the thing.\n",
      "bone-china-090\n",
      "I'm doing the thing.\n"
     ]
    },
    {
     "name": "stderr",
     "output_type": "stream",
     "text": [
      " 11%|█         | 10/92 [00:01<00:13,  5.90it/s]"
     ]
    },
    {
     "name": "stdout",
     "output_type": "stream",
     "text": [
      "bone-china-094\n",
      "I'm doing the thing.\n",
      "bone-china-130\n",
      "I'm doing the thing.\n"
     ]
    },
    {
     "name": "stderr",
     "output_type": "stream",
     "text": [
      " 13%|█▎        | 12/92 [00:02<00:12,  6.49it/s]"
     ]
    },
    {
     "name": "stdout",
     "output_type": "stream",
     "text": [
      "bone-china-137\n",
      "I'm doing the thing.\n",
      "bone-china-141\n",
      "I'm doing the thing.\n"
     ]
    },
    {
     "name": "stderr",
     "output_type": "stream",
     "text": [
      "\r",
      " 14%|█▍        | 13/92 [00:02<00:11,  6.85it/s]"
     ]
    },
    {
     "name": "stdout",
     "output_type": "stream",
     "text": [
      "bone-china-142\n",
      "I'm doing the thing.\n"
     ]
    },
    {
     "name": "stderr",
     "output_type": "stream",
     "text": [
      "\r",
      " 15%|█▌        | 14/92 [00:02<00:17,  4.37it/s]"
     ]
    },
    {
     "name": "stdout",
     "output_type": "stream",
     "text": [
      "bone-china-150\n",
      "I'm doing the thing.\n"
     ]
    },
    {
     "name": "stderr",
     "output_type": "stream",
     "text": [
      " 17%|█▋        | 16/92 [00:03<00:15,  4.82it/s]"
     ]
    },
    {
     "name": "stdout",
     "output_type": "stream",
     "text": [
      "bone-china-156\n",
      "I'm doing the thing.\n",
      "bone-china-157\n",
      "I'm doing the thing.\n"
     ]
    },
    {
     "name": "stderr",
     "output_type": "stream",
     "text": [
      "\r",
      " 18%|█▊        | 17/92 [00:03<00:13,  5.52it/s]"
     ]
    },
    {
     "name": "stdout",
     "output_type": "stream",
     "text": [
      "bone-china-181\n",
      "I'm doing the thing.\n",
      "bone-china-182\n",
      "I'm doing the thing.\n"
     ]
    },
    {
     "name": "stderr",
     "output_type": "stream",
     "text": [
      " 22%|██▏       | 20/92 [00:03<00:12,  5.94it/s]"
     ]
    },
    {
     "name": "stdout",
     "output_type": "stream",
     "text": [
      "bone-china-202\n",
      "I'm doing the thing.\n",
      "bone-china-206\n",
      "I'm doing the thing.\n"
     ]
    },
    {
     "name": "stderr",
     "output_type": "stream",
     "text": [
      "\r",
      " 23%|██▎       | 21/92 [00:03<00:11,  6.33it/s]"
     ]
    },
    {
     "name": "stdout",
     "output_type": "stream",
     "text": [
      "bone-china-208\n",
      "I'm doing the thing.\n"
     ]
    },
    {
     "name": "stderr",
     "output_type": "stream",
     "text": [
      "\r",
      " 24%|██▍       | 22/92 [00:04<00:14,  4.68it/s]"
     ]
    },
    {
     "name": "stdout",
     "output_type": "stream",
     "text": [
      "bone-china-229\n",
      "I'm doing the thing.\n"
     ]
    },
    {
     "name": "stderr",
     "output_type": "stream",
     "text": [
      " 26%|██▌       | 24/92 [00:04<00:17,  3.92it/s]"
     ]
    },
    {
     "name": "stdout",
     "output_type": "stream",
     "text": [
      "bone-china-232\n",
      "I'm doing the thing.\n",
      "bone-china-233\n",
      "I'm doing the thing."
     ]
    },
    {
     "name": "stderr",
     "output_type": "stream",
     "text": [
      "\r",
      " 27%|██▋       | 25/92 [00:04<00:14,  4.58it/s]"
     ]
    },
    {
     "name": "stdout",
     "output_type": "stream",
     "text": [
      "\n",
      "bone-china-235\n",
      "I'm doing the thing.\n"
     ]
    },
    {
     "name": "stderr",
     "output_type": "stream",
     "text": [
      " 29%|██▉       | 27/92 [00:05<00:14,  4.64it/s]"
     ]
    },
    {
     "name": "stdout",
     "output_type": "stream",
     "text": [
      "bone-china-241\n",
      "I'm doing the thing.\n",
      "bone-penn-080\n",
      "I'm doing the thing.\n"
     ]
    },
    {
     "name": "stderr",
     "output_type": "stream",
     "text": [
      "\r",
      " 30%|███       | 28/92 [00:05<00:13,  4.73it/s]"
     ]
    },
    {
     "name": "stdout",
     "output_type": "stream",
     "text": [
      "bone-penn-102\n",
      "I'm doing the thing.\n"
     ]
    },
    {
     "name": "stderr",
     "output_type": "stream",
     "text": [
      " 33%|███▎      | 30/92 [00:06<00:17,  3.52it/s]"
     ]
    },
    {
     "name": "stdout",
     "output_type": "stream",
     "text": [
      "bone-penn-103\n",
      "I'm doing the thing.\n",
      "bone-penn-117\n",
      "I'm doing the thing.\n"
     ]
    },
    {
     "name": "stderr",
     "output_type": "stream",
     "text": [
      " 35%|███▍      | 32/92 [00:06<00:13,  4.46it/s]"
     ]
    },
    {
     "name": "stdout",
     "output_type": "stream",
     "text": [
      "bone-penn-135\n",
      "I'm doing the thing.\n",
      "bone-penn-145\n",
      "I'm doing the thing.\n"
     ]
    },
    {
     "name": "stderr",
     "output_type": "stream",
     "text": [
      "\r",
      " 36%|███▌      | 33/92 [00:07<00:29,  2.02it/s]"
     ]
    },
    {
     "name": "stdout",
     "output_type": "stream",
     "text": [
      "bone-penn-175\n",
      "I'm doing the thing.\n"
     ]
    },
    {
     "name": "stderr",
     "output_type": "stream",
     "text": [
      " 38%|███▊      | 35/92 [00:08<00:25,  2.23it/s]"
     ]
    },
    {
     "name": "stdout",
     "output_type": "stream",
     "text": [
      "bone-penn-184\n",
      "I'm doing the thing.\n",
      "bone-penn-185\n",
      "I'm doing the thing.\n"
     ]
    },
    {
     "name": "stderr",
     "output_type": "stream",
     "text": [
      "\r",
      " 39%|███▉      | 36/92 [00:08<00:22,  2.50it/s]"
     ]
    },
    {
     "name": "stdout",
     "output_type": "stream",
     "text": [
      "bone-penn-202\n",
      "I'm doing the thing.\n"
     ]
    },
    {
     "name": "stderr",
     "output_type": "stream",
     "text": [
      "\r",
      " 40%|████      | 37/92 [00:10<00:42,  1.30it/s]"
     ]
    },
    {
     "name": "stdout",
     "output_type": "stream",
     "text": [
      "bone-penn-229\n",
      "I'm doing the thing.\n"
     ]
    },
    {
     "name": "stderr",
     "output_type": "stream",
     "text": [
      "\r",
      " 41%|████▏     | 38/92 [00:10<00:34,  1.55it/s]"
     ]
    },
    {
     "name": "stdout",
     "output_type": "stream",
     "text": [
      "bone-penn-233\n",
      "I'm doing the thing.\n"
     ]
    },
    {
     "name": "stderr",
     "output_type": "stream",
     "text": [
      "\r",
      " 42%|████▏     | 39/92 [00:11<00:28,  1.84it/s]"
     ]
    },
    {
     "name": "stdout",
     "output_type": "stream",
     "text": [
      "bone-penn-271\n",
      "I'm doing the thing.\n"
     ]
    },
    {
     "name": "stderr",
     "output_type": "stream",
     "text": [
      " 45%|████▍     | 41/92 [00:11<00:18,  2.72it/s]"
     ]
    },
    {
     "name": "stdout",
     "output_type": "stream",
     "text": [
      "bone-penn-290\n",
      "I'm doing the thing.\n",
      "bone-penn-295\n",
      "I'm doing the thing.\n"
     ]
    },
    {
     "name": "stderr",
     "output_type": "stream",
     "text": [
      " 47%|████▋     | 43/92 [00:11<00:12,  4.00it/s]"
     ]
    },
    {
     "name": "stdout",
     "output_type": "stream",
     "text": [
      "bone-penn-326\n",
      "I'm doing the thing.\n",
      "bone-penn-366\n",
      "I'm doing the thing.\n"
     ]
    },
    {
     "name": "stderr",
     "output_type": "stream",
     "text": [
      "\r",
      " 48%|████▊     | 44/92 [00:12<00:12,  3.98it/s]"
     ]
    },
    {
     "name": "stdout",
     "output_type": "stream",
     "text": [
      "bone-penn-383\n",
      "I'm doing the thing.\n"
     ]
    },
    {
     "name": "stderr",
     "output_type": "stream",
     "text": [
      "\r",
      " 49%|████▉     | 45/92 [00:12<00:13,  3.54it/s]"
     ]
    },
    {
     "name": "stdout",
     "output_type": "stream",
     "text": [
      "bone-penn-387\n",
      "I'm doing the thing.\n"
     ]
    },
    {
     "name": "stderr",
     "output_type": "stream",
     "text": [
      "\r",
      " 50%|█████     | 46/92 [00:13<00:23,  2.00it/s]"
     ]
    },
    {
     "name": "stdout",
     "output_type": "stream",
     "text": [
      "bone-penn-389\n",
      "I'm doing the thing.\n"
     ]
    },
    {
     "name": "stderr",
     "output_type": "stream",
     "text": [
      " 52%|█████▏    | 48/92 [00:14<00:23,  1.85it/s]"
     ]
    },
    {
     "name": "stdout",
     "output_type": "stream",
     "text": [
      "bone-penn-393\n",
      "I'm doing the thing.\n",
      "bone-penn-407\n",
      "I'm doing the thing.\n"
     ]
    },
    {
     "name": "stderr",
     "output_type": "stream",
     "text": [
      "\r",
      " 53%|█████▎    | 49/92 [00:15<00:20,  2.08it/s]"
     ]
    },
    {
     "name": "stdout",
     "output_type": "stream",
     "text": [
      "bone-penn-432\n",
      "I'm doing the thing.\n"
     ]
    },
    {
     "name": "stderr",
     "output_type": "stream",
     "text": [
      "\r",
      " 54%|█████▍    | 50/92 [00:15<00:20,  2.09it/s]"
     ]
    },
    {
     "name": "stdout",
     "output_type": "stream",
     "text": [
      "bone-penn-469\n",
      "I'm doing the thing.\n"
     ]
    },
    {
     "name": "stderr",
     "output_type": "stream",
     "text": [
      "\r",
      " 55%|█████▌    | 51/92 [00:16<00:18,  2.16it/s]"
     ]
    },
    {
     "name": "stdout",
     "output_type": "stream",
     "text": [
      "bone-penn-470\n",
      "I'm doing the thing.\n"
     ]
    },
    {
     "name": "stderr",
     "output_type": "stream",
     "text": [
      "\r",
      " 57%|█████▋    | 52/92 [00:16<00:19,  2.07it/s]"
     ]
    },
    {
     "name": "stdout",
     "output_type": "stream",
     "text": [
      "bone-penn-475\n",
      "I'm doing the thing.\n"
     ]
    },
    {
     "name": "stderr",
     "output_type": "stream",
     "text": [
      "\r",
      " 58%|█████▊    | 53/92 [00:16<00:16,  2.31it/s]"
     ]
    },
    {
     "name": "stdout",
     "output_type": "stream",
     "text": [
      "bone-penn-486\n",
      "I'm doing the thing.\n"
     ]
    },
    {
     "name": "stderr",
     "output_type": "stream",
     "text": [
      "\r",
      " 59%|█████▊    | 54/92 [00:17<00:14,  2.68it/s]"
     ]
    },
    {
     "name": "stdout",
     "output_type": "stream",
     "text": [
      "bone-penn-493\n",
      "I'm doing the thing.\n"
     ]
    },
    {
     "name": "stderr",
     "output_type": "stream",
     "text": [
      "\r",
      " 60%|█████▉    | 55/92 [00:19<00:36,  1.03it/s]"
     ]
    },
    {
     "name": "stdout",
     "output_type": "stream",
     "text": [
      "bone-penn-499\n",
      "I'm doing the thing.\n"
     ]
    },
    {
     "name": "stderr",
     "output_type": "stream",
     "text": [
      "\r",
      " 61%|██████    | 56/92 [00:20<00:33,  1.08it/s]"
     ]
    },
    {
     "name": "stdout",
     "output_type": "stream",
     "text": [
      "bone-penn-505\n",
      "I'm doing the thing.\n"
     ]
    },
    {
     "name": "stderr",
     "output_type": "stream",
     "text": [
      "\r",
      " 62%|██████▏   | 57/92 [00:21<00:36,  1.03s/it]"
     ]
    },
    {
     "name": "stdout",
     "output_type": "stream",
     "text": [
      "bone-penn-510\n",
      "I'm doing the thing.\n"
     ]
    },
    {
     "name": "stderr",
     "output_type": "stream",
     "text": [
      "\r",
      " 63%|██████▎   | 58/92 [00:21<00:27,  1.23it/s]"
     ]
    },
    {
     "name": "stdout",
     "output_type": "stream",
     "text": [
      "bone-penn-513\n",
      "I'm doing the thing.\n"
     ]
    },
    {
     "name": "stderr",
     "output_type": "stream",
     "text": [
      "\r",
      " 64%|██████▍   | 59/92 [00:22<00:23,  1.38it/s]"
     ]
    },
    {
     "name": "stdout",
     "output_type": "stream",
     "text": [
      "bone-penn-519\n",
      "I'm doing the thing.\n"
     ]
    },
    {
     "name": "stderr",
     "output_type": "stream",
     "text": [
      "\r",
      " 65%|██████▌   | 60/92 [00:22<00:18,  1.70it/s]"
     ]
    },
    {
     "name": "stdout",
     "output_type": "stream",
     "text": [
      "bone-penn-524\n",
      "I'm doing the thing.\n"
     ]
    },
    {
     "name": "stderr",
     "output_type": "stream",
     "text": [
      "\r",
      " 66%|██████▋   | 61/92 [00:23<00:17,  1.75it/s]"
     ]
    },
    {
     "name": "stdout",
     "output_type": "stream",
     "text": [
      "bone-penn-539\n",
      "I'm doing the thing.\n"
     ]
    },
    {
     "name": "stderr",
     "output_type": "stream",
     "text": [
      "\r",
      " 67%|██████▋   | 62/92 [00:23<00:14,  2.00it/s]"
     ]
    },
    {
     "name": "stdout",
     "output_type": "stream",
     "text": [
      "bone-penn-540\n",
      "I'm doing the thing.\n"
     ]
    },
    {
     "name": "stderr",
     "output_type": "stream",
     "text": [
      " 70%|██████▉   | 64/92 [00:24<00:09,  2.90it/s]"
     ]
    },
    {
     "name": "stdout",
     "output_type": "stream",
     "text": [
      "bone-penn-544\n",
      "I'm doing the thing.\n",
      "bone-penn-547\n",
      "I'm doing the thing.\n"
     ]
    },
    {
     "name": "stderr",
     "output_type": "stream",
     "text": [
      "\r",
      " 71%|███████   | 65/92 [00:24<00:07,  3.41it/s]"
     ]
    },
    {
     "name": "stdout",
     "output_type": "stream",
     "text": [
      "bone-penn-554\n",
      "I'm doing the thing.\n"
     ]
    },
    {
     "name": "stderr",
     "output_type": "stream",
     "text": [
      "\r",
      " 72%|███████▏  | 66/92 [00:24<00:08,  2.95it/s]"
     ]
    },
    {
     "name": "stdout",
     "output_type": "stream",
     "text": [
      "bone-penn-557\n",
      "I'm doing the thing.\n"
     ]
    },
    {
     "name": "stderr",
     "output_type": "stream",
     "text": [
      " 74%|███████▍  | 68/92 [00:25<00:08,  2.89it/s]"
     ]
    },
    {
     "name": "stdout",
     "output_type": "stream",
     "text": [
      "bone-penn-566\n",
      "I'm doing the thing.\n",
      "bone-penn-569\n",
      "I'm doing the thing.\n"
     ]
    },
    {
     "name": "stderr",
     "output_type": "stream",
     "text": [
      "\r",
      " 75%|███████▌  | 69/92 [00:25<00:07,  3.00it/s]"
     ]
    },
    {
     "name": "stdout",
     "output_type": "stream",
     "text": [
      "bone-penn-574\n",
      "I'm doing the thing.\n"
     ]
    },
    {
     "name": "stderr",
     "output_type": "stream",
     "text": [
      " 77%|███████▋  | 71/92 [00:26<00:05,  3.50it/s]"
     ]
    },
    {
     "name": "stdout",
     "output_type": "stream",
     "text": [
      "bone-penn-582\n",
      "I'm doing the thing.\n",
      "bone-penn-594\n",
      "I'm doing the thing.\n"
     ]
    },
    {
     "name": "stderr",
     "output_type": "stream",
     "text": [
      "\r",
      " 78%|███████▊  | 72/92 [00:26<00:05,  3.73it/s]"
     ]
    },
    {
     "name": "stdout",
     "output_type": "stream",
     "text": [
      "bone-penn-638\n",
      "I'm doing the thing.\n"
     ]
    },
    {
     "name": "stderr",
     "output_type": "stream",
     "text": [
      "\r",
      " 79%|███████▉  | 73/92 [00:27<00:08,  2.34it/s]"
     ]
    },
    {
     "name": "stdout",
     "output_type": "stream",
     "text": [
      "bone-penn-649\n",
      "I'm doing the thing.\n"
     ]
    },
    {
     "name": "stderr",
     "output_type": "stream",
     "text": [
      "\r",
      " 80%|████████  | 74/92 [00:27<00:07,  2.49it/s]"
     ]
    },
    {
     "name": "stdout",
     "output_type": "stream",
     "text": [
      "bone-hup-114\n",
      "I'm doing the thing.\n"
     ]
    },
    {
     "name": "stderr",
     "output_type": "stream",
     "text": [
      "\r",
      " 82%|████████▏ | 75/92 [00:28<00:08,  2.12it/s]"
     ]
    },
    {
     "name": "stdout",
     "output_type": "stream",
     "text": [
      "bone-hup-120\n",
      "I'm doing the thing.\n"
     ]
    },
    {
     "name": "stderr",
     "output_type": "stream",
     "text": [
      " 84%|████████▎ | 77/92 [00:28<00:05,  2.87it/s]"
     ]
    },
    {
     "name": "stdout",
     "output_type": "stream",
     "text": [
      "bone-hup-130\n",
      "I'm doing the thing.\n",
      "bone-hup-137\n",
      "I'm doing the thing.\n"
     ]
    },
    {
     "name": "stderr",
     "output_type": "stream",
     "text": [
      "\r",
      " 85%|████████▍ | 78/92 [00:28<00:04,  3.28it/s]"
     ]
    },
    {
     "name": "stdout",
     "output_type": "stream",
     "text": [
      "bone-hup-143\n",
      "I'm doing the thing.\n",
      "bone-hup-164\n",
      "I'm doing the thing.\n"
     ]
    },
    {
     "name": "stderr",
     "output_type": "stream",
     "text": [
      " 88%|████████▊ | 81/92 [00:29<00:02,  4.38it/s]"
     ]
    },
    {
     "name": "stdout",
     "output_type": "stream",
     "text": [
      "bone-hup-182\n",
      "I'm doing the thing.\n",
      "bone-hup-190\n",
      "I'm doing the thing.\n"
     ]
    },
    {
     "name": "stderr",
     "output_type": "stream",
     "text": [
      "\r",
      " 89%|████████▉ | 82/92 [00:30<00:03,  2.60it/s]"
     ]
    },
    {
     "name": "stdout",
     "output_type": "stream",
     "text": [
      "bone-hup-195\n",
      "I'm doing the thing.\n",
      "bone-hup-236\n",
      "I'm doing the thing.\n"
     ]
    },
    {
     "name": "stderr",
     "output_type": "stream",
     "text": [
      "\r",
      " 91%|█████████▏| 84/92 [00:30<00:02,  3.03it/s]"
     ]
    },
    {
     "name": "stdout",
     "output_type": "stream",
     "text": [
      "bone-hup-238\n",
      "I'm doing the thing.\n"
     ]
    },
    {
     "name": "stderr",
     "output_type": "stream",
     "text": [
      "\r",
      " 92%|█████████▏| 85/92 [00:30<00:02,  3.41it/s]"
     ]
    },
    {
     "name": "stdout",
     "output_type": "stream",
     "text": [
      "bone-hup-294\n",
      "I'm doing the thing.\n"
     ]
    },
    {
     "name": "stderr",
     "output_type": "stream",
     "text": [
      "\r",
      " 93%|█████████▎| 86/92 [00:31<00:02,  2.21it/s]"
     ]
    },
    {
     "name": "stdout",
     "output_type": "stream",
     "text": [
      "bone-hup-300\n",
      "I'm doing the thing.\n"
     ]
    },
    {
     "name": "stderr",
     "output_type": "stream",
     "text": [
      "\r",
      " 95%|█████████▍| 87/92 [00:31<00:01,  2.59it/s]"
     ]
    },
    {
     "name": "stdout",
     "output_type": "stream",
     "text": [
      "bone-hup-311\n",
      "I'm doing the thing.\n"
     ]
    },
    {
     "name": "stderr",
     "output_type": "stream",
     "text": [
      "\r",
      " 96%|█████████▌| 88/92 [00:33<00:02,  1.38it/s]"
     ]
    },
    {
     "name": "stdout",
     "output_type": "stream",
     "text": [
      "bone-hup-313\n",
      "I'm doing the thing.\n"
     ]
    },
    {
     "name": "stderr",
     "output_type": "stream",
     "text": [
      "\r",
      " 97%|█████████▋| 89/92 [00:33<00:01,  1.64it/s]"
     ]
    },
    {
     "name": "stdout",
     "output_type": "stream",
     "text": [
      "bone-hup-318\n",
      "I'm doing the thing.\n"
     ]
    },
    {
     "name": "stderr",
     "output_type": "stream",
     "text": [
      "\r",
      " 98%|█████████▊| 90/92 [00:35<00:01,  1.23it/s]"
     ]
    },
    {
     "name": "stdout",
     "output_type": "stream",
     "text": [
      "bone-hup-50\n",
      "I'm doing the thing.\n"
     ]
    },
    {
     "name": "stderr",
     "output_type": "stream",
     "text": [
      "\r",
      " 99%|█████████▉| 91/92 [00:39<00:02,  2.00s/it]"
     ]
    },
    {
     "name": "stdout",
     "output_type": "stream",
     "text": [
      "bone-hup-90\n",
      "I'm doing the thing.\n"
     ]
    },
    {
     "name": "stderr",
     "output_type": "stream",
     "text": [
      "100%|██████████| 92/92 [00:40<00:00,  2.25it/s]\n"
     ]
    },
    {
     "name": "stdout",
     "output_type": "stream",
     "text": [
      "597\n",
      "92\n",
      "163\n"
     ]
    },
    {
     "name": "stderr",
     "output_type": "stream",
     "text": [
      "\r",
      "  0%|          | 0/597 [00:00<?, ?it/s]"
     ]
    },
    {
     "name": "stdout",
     "output_type": "stream",
     "text": [
      "Training points = 597\n",
      "Benign: 347, Intermediate: 250, Malignant: 0\n",
      "\n",
      "Validation points = 163\n",
      "Benign: 98, Intermediate: 65, Malignant: 0\n",
      "\n",
      "Testing points = 92\n",
      "Benign: 53, Intermediate: 39, Malignant: 0\n",
      "bone-china-002\n",
      "I'm doing the thing.\n"
     ]
    },
    {
     "name": "stderr",
     "output_type": "stream",
     "text": [
      "  0%|          | 2/597 [00:00<02:18,  4.29it/s]"
     ]
    },
    {
     "name": "stdout",
     "output_type": "stream",
     "text": [
      "bone-china-004\n",
      "I'm doing the thing.\n",
      "bone-china-005\n",
      "I'm doing the thing.\n"
     ]
    },
    {
     "name": "stderr",
     "output_type": "stream",
     "text": [
      "  1%|          | 4/597 [00:00<01:54,  5.18it/s]"
     ]
    },
    {
     "name": "stdout",
     "output_type": "stream",
     "text": [
      "bone-china-006\n",
      "I'm doing the thing.\n",
      "bone-china-008\n",
      "I'm doing the thing.\n"
     ]
    },
    {
     "name": "stderr",
     "output_type": "stream",
     "text": [
      "  1%|          | 6/597 [00:01<02:02,  4.83it/s]"
     ]
    },
    {
     "name": "stdout",
     "output_type": "stream",
     "text": [
      "bone-china-009\n",
      "I'm doing the thing.\n",
      "bone-china-010\n",
      "I'm doing the thing.\n"
     ]
    },
    {
     "name": "stderr",
     "output_type": "stream",
     "text": [
      "\r",
      "  1%|          | 7/597 [00:01<02:32,  3.88it/s]"
     ]
    },
    {
     "name": "stdout",
     "output_type": "stream",
     "text": [
      "bone-china-014\n",
      "I'm doing the thing.\n"
     ]
    },
    {
     "name": "stderr",
     "output_type": "stream",
     "text": [
      "\r",
      "  1%|▏         | 8/597 [00:01<02:44,  3.58it/s]"
     ]
    },
    {
     "name": "stdout",
     "output_type": "stream",
     "text": [
      "bone-china-015\n",
      "I'm doing the thing.\n"
     ]
    },
    {
     "name": "stderr",
     "output_type": "stream",
     "text": [
      "  2%|▏         | 11/597 [00:02<02:09,  4.51it/s]"
     ]
    },
    {
     "name": "stdout",
     "output_type": "stream",
     "text": [
      "bone-china-019\n",
      "I'm doing the thing.\n",
      "bone-china-020\n",
      "I'm doing the thing.\n",
      "bone-china-021\n",
      "I'm doing the thing.\n"
     ]
    },
    {
     "name": "stderr",
     "output_type": "stream",
     "text": [
      "\r",
      "  2%|▏         | 13/597 [00:02<01:55,  5.05it/s]"
     ]
    },
    {
     "name": "stdout",
     "output_type": "stream",
     "text": [
      "bone-china-022\n",
      "I'm doing the thing.\n"
     ]
    },
    {
     "name": "stderr",
     "output_type": "stream",
     "text": [
      "\r",
      "  2%|▏         | 14/597 [00:02<01:44,  5.60it/s]"
     ]
    },
    {
     "name": "stdout",
     "output_type": "stream",
     "text": [
      "bone-china-023\n",
      "I'm doing the thing.\n",
      "bone-china-027\n",
      "I'm doing the thing.\n"
     ]
    },
    {
     "name": "stderr",
     "output_type": "stream",
     "text": [
      "  3%|▎         | 16/597 [00:03<01:31,  6.36it/s]"
     ]
    },
    {
     "name": "stdout",
     "output_type": "stream",
     "text": [
      "bone-china-028\n",
      "I'm doing the thing.\n",
      "bone-china-029\n",
      "I'm doing the thing.\n",
      "bone-china-031\n",
      "I'm doing the thing.\n"
     ]
    },
    {
     "name": "stderr",
     "output_type": "stream",
     "text": [
      "  3%|▎         | 19/597 [00:03<01:29,  6.44it/s]"
     ]
    },
    {
     "name": "stdout",
     "output_type": "stream",
     "text": [
      "bone-china-032\n",
      "I'm doing the thing.\n",
      "bone-china-033\n",
      "I'm doing the thing.\n"
     ]
    },
    {
     "name": "stderr",
     "output_type": "stream",
     "text": [
      "  4%|▎         | 21/597 [00:03<01:24,  6.84it/s]"
     ]
    },
    {
     "name": "stdout",
     "output_type": "stream",
     "text": [
      "bone-china-035\n",
      "I'm doing the thing.\n",
      "bone-china-037\n",
      "I'm doing the thing.\n"
     ]
    },
    {
     "name": "stderr",
     "output_type": "stream",
     "text": [
      "  4%|▍         | 23/597 [00:04<01:34,  6.05it/s]"
     ]
    },
    {
     "name": "stdout",
     "output_type": "stream",
     "text": [
      "bone-china-038\n",
      "I'm doing the thing.\n",
      "bone-china-039\n",
      "I'm doing the thing.\n"
     ]
    },
    {
     "name": "stderr",
     "output_type": "stream",
     "text": [
      "\r",
      "  4%|▍         | 24/597 [00:04<01:31,  6.29it/s]"
     ]
    },
    {
     "name": "stdout",
     "output_type": "stream",
     "text": [
      "bone-china-041\n",
      "I'm doing the thing.\n"
     ]
    },
    {
     "name": "stderr",
     "output_type": "stream",
     "text": [
      "\r",
      "  4%|▍         | 25/597 [00:04<01:41,  5.66it/s]"
     ]
    },
    {
     "name": "stdout",
     "output_type": "stream",
     "text": [
      "bone-china-042\n",
      "I'm doing the thing.\n"
     ]
    },
    {
     "name": "stderr",
     "output_type": "stream",
     "text": [
      "\r",
      "  4%|▍         | 26/597 [00:04<02:02,  4.65it/s]"
     ]
    },
    {
     "name": "stdout",
     "output_type": "stream",
     "text": [
      "bone-china-044\n",
      "I'm doing the thing.\n"
     ]
    },
    {
     "name": "stderr",
     "output_type": "stream",
     "text": [
      "  5%|▍         | 28/597 [00:05<01:51,  5.11it/s]"
     ]
    },
    {
     "name": "stdout",
     "output_type": "stream",
     "text": [
      "bone-china-045\n",
      "I'm doing the thing.\n",
      "bone-china-046\n",
      "I'm doing the thing.\n"
     ]
    },
    {
     "name": "stderr",
     "output_type": "stream",
     "text": [
      "  5%|▌         | 30/597 [00:05<01:41,  5.61it/s]"
     ]
    },
    {
     "name": "stdout",
     "output_type": "stream",
     "text": [
      "bone-china-047\n",
      "I'm doing the thing.\n",
      "bone-china-050\n",
      "I'm doing the thing.\n"
     ]
    },
    {
     "name": "stderr",
     "output_type": "stream",
     "text": [
      "  5%|▌         | 32/597 [00:05<01:31,  6.16it/s]"
     ]
    },
    {
     "name": "stdout",
     "output_type": "stream",
     "text": [
      "bone-china-051\n",
      "I'm doing the thing.\n",
      "bone-china-052\n",
      "I'm doing the thing.\n"
     ]
    },
    {
     "name": "stderr",
     "output_type": "stream",
     "text": [
      "\r",
      "  6%|▌         | 34/597 [00:06<01:25,  6.56it/s]"
     ]
    },
    {
     "name": "stdout",
     "output_type": "stream",
     "text": [
      "bone-china-053\n",
      "I'm doing the thing.\n",
      "bone-china-055\n",
      "I'm doing the thing.\n"
     ]
    },
    {
     "name": "stderr",
     "output_type": "stream",
     "text": [
      "  6%|▌         | 36/597 [00:06<01:15,  7.43it/s]"
     ]
    },
    {
     "name": "stdout",
     "output_type": "stream",
     "text": [
      "bone-china-056\n",
      "I'm doing the thing.\n",
      "bone-china-058\n",
      "I'm doing the thing.\n"
     ]
    },
    {
     "name": "stderr",
     "output_type": "stream",
     "text": [
      "  6%|▋         | 38/597 [00:07<02:09,  4.30it/s]"
     ]
    },
    {
     "name": "stdout",
     "output_type": "stream",
     "text": [
      "bone-china-059\n",
      "I'm doing the thing.\n",
      "bone-china-060\n",
      "I'm doing the thing.\n"
     ]
    },
    {
     "name": "stderr",
     "output_type": "stream",
     "text": [
      "\r",
      "  7%|▋         | 39/597 [00:07<02:48,  3.31it/s]"
     ]
    },
    {
     "name": "stdout",
     "output_type": "stream",
     "text": [
      "bone-china-061\n",
      "I'm doing the thing.\n",
      "bone-china-062\n",
      "I'm doing the thing.\n"
     ]
    },
    {
     "name": "stderr",
     "output_type": "stream",
     "text": [
      "\r",
      "  7%|▋         | 41/597 [00:08<03:04,  3.01it/s]"
     ]
    },
    {
     "name": "stdout",
     "output_type": "stream",
     "text": [
      "bone-china-065\n",
      "I'm doing the thing.\n"
     ]
    },
    {
     "name": "stderr",
     "output_type": "stream",
     "text": [
      "\r",
      "  7%|▋         | 42/597 [00:08<03:22,  2.74it/s]"
     ]
    },
    {
     "name": "stdout",
     "output_type": "stream",
     "text": [
      "bone-china-066\n",
      "I'm doing the thing.\n"
     ]
    },
    {
     "name": "stderr",
     "output_type": "stream",
     "text": [
      "\r",
      "  7%|▋         | 43/597 [00:09<03:10,  2.90it/s]"
     ]
    },
    {
     "name": "stdout",
     "output_type": "stream",
     "text": [
      "bone-china-068\n",
      "I'm doing the thing.\n"
     ]
    },
    {
     "name": "stderr",
     "output_type": "stream",
     "text": [
      "\r",
      "  7%|▋         | 44/597 [00:09<02:56,  3.14it/s]"
     ]
    },
    {
     "name": "stdout",
     "output_type": "stream",
     "text": [
      "bone-china-069\n",
      "I'm doing the thing.\n"
     ]
    },
    {
     "name": "stderr",
     "output_type": "stream",
     "text": [
      "  8%|▊         | 46/597 [00:09<02:37,  3.49it/s]"
     ]
    },
    {
     "name": "stdout",
     "output_type": "stream",
     "text": [
      "bone-china-070\n",
      "I'm doing the thing.\n",
      "bone-china-071\n",
      "I'm doing the thing.\n"
     ]
    },
    {
     "name": "stderr",
     "output_type": "stream",
     "text": [
      "  8%|▊         | 48/597 [00:10<02:17,  3.98it/s]"
     ]
    },
    {
     "name": "stdout",
     "output_type": "stream",
     "text": [
      "bone-china-072\n",
      "I'm doing the thing.\n",
      "bone-china-074\n",
      "I'm doing the thing.\n"
     ]
    },
    {
     "name": "stderr",
     "output_type": "stream",
     "text": [
      "\r",
      "  8%|▊         | 49/597 [00:10<02:41,  3.39it/s]"
     ]
    },
    {
     "name": "stdout",
     "output_type": "stream",
     "text": [
      "bone-china-075\n",
      "I'm doing the thing.\n"
     ]
    },
    {
     "name": "stderr",
     "output_type": "stream",
     "text": [
      "\r",
      "  8%|▊         | 50/597 [00:11<03:14,  2.82it/s]"
     ]
    },
    {
     "name": "stdout",
     "output_type": "stream",
     "text": [
      "bone-china-076\n",
      "I'm doing the thing.\n"
     ]
    },
    {
     "name": "stderr",
     "output_type": "stream",
     "text": [
      "\r",
      "  9%|▊         | 51/597 [00:11<03:59,  2.28it/s]"
     ]
    },
    {
     "name": "stdout",
     "output_type": "stream",
     "text": [
      "bone-china-079\n",
      "I'm doing the thing.\n"
     ]
    },
    {
     "name": "stderr",
     "output_type": "stream",
     "text": [
      "\r",
      "  9%|▊         | 52/597 [00:12<03:37,  2.50it/s]"
     ]
    },
    {
     "name": "stdout",
     "output_type": "stream",
     "text": [
      "bone-china-080\n",
      "I'm doing the thing.\n"
     ]
    },
    {
     "name": "stderr",
     "output_type": "stream",
     "text": [
      "\r",
      "  9%|▉         | 53/597 [00:12<03:16,  2.77it/s]"
     ]
    },
    {
     "name": "stdout",
     "output_type": "stream",
     "text": [
      "bone-china-081\n",
      "I'm doing the thing.\n"
     ]
    },
    {
     "name": "stderr",
     "output_type": "stream",
     "text": [
      "\r",
      "  9%|▉         | 54/597 [00:12<02:56,  3.07it/s]"
     ]
    },
    {
     "name": "stdout",
     "output_type": "stream",
     "text": [
      "bone-china-083\n",
      "I'm doing the thing.\n"
     ]
    },
    {
     "name": "stderr",
     "output_type": "stream",
     "text": [
      "\r",
      "  9%|▉         | 55/597 [00:12<02:39,  3.39it/s]"
     ]
    },
    {
     "name": "stdout",
     "output_type": "stream",
     "text": [
      "bone-china-084\n",
      "I'm doing the thing.\n"
     ]
    },
    {
     "name": "stderr",
     "output_type": "stream",
     "text": [
      " 10%|▉         | 57/597 [00:13<02:11,  4.10it/s]"
     ]
    },
    {
     "name": "stdout",
     "output_type": "stream",
     "text": [
      "bone-china-085\n",
      "I'm doing the thing.\n",
      "bone-china-086\n",
      "I'm doing the thing.\n"
     ]
    },
    {
     "name": "stderr",
     "output_type": "stream",
     "text": [
      " 10%|▉         | 59/597 [00:13<01:57,  4.58it/s]"
     ]
    },
    {
     "name": "stdout",
     "output_type": "stream",
     "text": [
      "bone-china-087\n",
      "I'm doing the thing.\n",
      "bone-china-088\n",
      "I'm doing the thing.\n"
     ]
    },
    {
     "name": "stderr",
     "output_type": "stream",
     "text": [
      " 10%|█         | 61/597 [00:14<02:11,  4.06it/s]"
     ]
    },
    {
     "name": "stdout",
     "output_type": "stream",
     "text": [
      "bone-china-089\n",
      "I'm doing the thing.\n",
      "bone-china-092\n",
      "I'm doing the thing.\n"
     ]
    },
    {
     "name": "stderr",
     "output_type": "stream",
     "text": [
      " 11%|█         | 63/597 [00:14<01:48,  4.93it/s]"
     ]
    },
    {
     "name": "stdout",
     "output_type": "stream",
     "text": [
      "bone-china-093\n",
      "I'm doing the thing.\n",
      "bone-china-099\n",
      "I'm doing the thing.\n"
     ]
    },
    {
     "name": "stderr",
     "output_type": "stream",
     "text": [
      " 11%|█         | 65/597 [00:14<01:39,  5.35it/s]"
     ]
    },
    {
     "name": "stdout",
     "output_type": "stream",
     "text": [
      "bone-china-100\n",
      "I'm doing the thing.\n",
      "bone-china-101\n",
      "I'm doing the thing.\n"
     ]
    },
    {
     "name": "stderr",
     "output_type": "stream",
     "text": [
      "\r",
      " 11%|█         | 66/597 [00:15<01:41,  5.22it/s]"
     ]
    },
    {
     "name": "stdout",
     "output_type": "stream",
     "text": [
      "bone-china-103\n",
      "I'm doing the thing.\n",
      "bone-china-104\n",
      "I'm doing the thing.\n"
     ]
    },
    {
     "name": "stderr",
     "output_type": "stream",
     "text": [
      "\r",
      " 11%|█▏        | 68/597 [00:15<01:42,  5.17it/s]"
     ]
    },
    {
     "name": "stdout",
     "output_type": "stream",
     "text": [
      "bone-china-105\n",
      "I'm doing the thing.\n"
     ]
    },
    {
     "name": "stderr",
     "output_type": "stream",
     "text": [
      " 12%|█▏        | 70/597 [00:15<01:45,  4.98it/s]"
     ]
    },
    {
     "name": "stdout",
     "output_type": "stream",
     "text": [
      "bone-china-107\n",
      "I'm doing the thing.\n",
      "bone-china-109\n",
      "I'm doing the thing.\n",
      "bone-china-110\n",
      "I'm doing the thing.\n"
     ]
    },
    {
     "name": "stderr",
     "output_type": "stream",
     "text": [
      "\r",
      " 12%|█▏        | 72/597 [00:16<01:38,  5.31it/s]"
     ]
    },
    {
     "name": "stdout",
     "output_type": "stream",
     "text": [
      "bone-china-113\n",
      "I'm doing the thing.\n"
     ]
    },
    {
     "name": "stderr",
     "output_type": "stream",
     "text": [
      " 12%|█▏        | 74/597 [00:16<01:43,  5.04it/s]"
     ]
    },
    {
     "name": "stdout",
     "output_type": "stream",
     "text": [
      "bone-china-114\n",
      "I'm doing the thing.\n",
      "bone-china-115\n",
      "I'm doing the thing.\n"
     ]
    },
    {
     "name": "stderr",
     "output_type": "stream",
     "text": [
      "\r",
      " 13%|█▎        | 75/597 [00:16<01:52,  4.64it/s]"
     ]
    },
    {
     "name": "stdout",
     "output_type": "stream",
     "text": [
      "bone-china-117\n",
      "I'm doing the thing.\n",
      "bone-china-118\n",
      "I'm doing the thing.\n"
     ]
    },
    {
     "name": "stderr",
     "output_type": "stream",
     "text": [
      " 13%|█▎        | 78/597 [00:17<01:39,  5.21it/s]"
     ]
    },
    {
     "name": "stdout",
     "output_type": "stream",
     "text": [
      "bone-china-121\n",
      "I'm doing the thing.\n",
      "bone-china-122\n",
      "I'm doing the thing.\n"
     ]
    },
    {
     "name": "stderr",
     "output_type": "stream",
     "text": [
      " 13%|█▎        | 80/597 [00:17<01:45,  4.92it/s]"
     ]
    },
    {
     "name": "stdout",
     "output_type": "stream",
     "text": [
      "bone-china-123\n",
      "I'm doing the thing.\n",
      "bone-china-124\n",
      "I'm doing the thing.\n"
     ]
    },
    {
     "name": "stderr",
     "output_type": "stream",
     "text": [
      " 14%|█▎        | 82/597 [00:18<01:33,  5.49it/s]"
     ]
    },
    {
     "name": "stdout",
     "output_type": "stream",
     "text": [
      "bone-china-125\n",
      "I'm doing the thing.\n",
      "bone-china-126\n",
      "I'm doing the thing.\n"
     ]
    },
    {
     "name": "stderr",
     "output_type": "stream",
     "text": [
      "\r",
      " 14%|█▍        | 83/597 [00:18<01:53,  4.52it/s]"
     ]
    },
    {
     "name": "stdout",
     "output_type": "stream",
     "text": [
      "bone-china-127\n",
      "I'm doing the thing.\n"
     ]
    },
    {
     "name": "stderr",
     "output_type": "stream",
     "text": [
      " 14%|█▍        | 85/597 [00:18<01:43,  4.95it/s]"
     ]
    },
    {
     "name": "stdout",
     "output_type": "stream",
     "text": [
      "bone-china-131\n",
      "I'm doing the thing.\n",
      "bone-china-132\n",
      "I'm doing the thing.\n"
     ]
    },
    {
     "name": "stderr",
     "output_type": "stream",
     "text": [
      "\r",
      " 14%|█▍        | 86/597 [00:19<01:38,  5.19it/s]"
     ]
    },
    {
     "name": "stdout",
     "output_type": "stream",
     "text": [
      "bone-china-133\n",
      "I'm doing the thing.\n"
     ]
    },
    {
     "name": "stderr",
     "output_type": "stream",
     "text": [
      "\r",
      " 15%|█▍        | 87/597 [00:19<01:43,  4.95it/s]"
     ]
    },
    {
     "name": "stdout",
     "output_type": "stream",
     "text": [
      "bone-china-134\n",
      "I'm doing the thing.\n"
     ]
    },
    {
     "name": "stderr",
     "output_type": "stream",
     "text": [
      " 15%|█▍        | 89/597 [00:19<01:43,  4.92it/s]"
     ]
    },
    {
     "name": "stdout",
     "output_type": "stream",
     "text": [
      "bone-china-135\n",
      "I'm doing the thing.\n",
      "bone-china-136\n",
      "I'm doing the thing.\n",
      "bone-china-138\n",
      "I'm doing the thing.\n"
     ]
    },
    {
     "name": "stderr",
     "output_type": "stream",
     "text": [
      "\r",
      " 15%|█▌        | 91/597 [00:20<01:41,  5.01it/s]"
     ]
    },
    {
     "name": "stdout",
     "output_type": "stream",
     "text": [
      "bone-china-140\n",
      "I'm doing the thing.\n"
     ]
    },
    {
     "name": "stderr",
     "output_type": "stream",
     "text": [
      "\r",
      " 15%|█▌        | 92/597 [00:20<01:54,  4.42it/s]"
     ]
    },
    {
     "name": "stdout",
     "output_type": "stream",
     "text": [
      "bone-china-143\n",
      "I'm doing the thing.\n"
     ]
    },
    {
     "name": "stderr",
     "output_type": "stream",
     "text": [
      "\r",
      " 16%|█▌        | 93/597 [00:20<01:59,  4.23it/s]"
     ]
    },
    {
     "name": "stdout",
     "output_type": "stream",
     "text": [
      "bone-china-145\n",
      "I'm doing the thing.\n"
     ]
    },
    {
     "name": "stderr",
     "output_type": "stream",
     "text": [
      "\r",
      " 16%|█▌        | 94/597 [00:21<02:49,  2.96it/s]"
     ]
    },
    {
     "name": "stdout",
     "output_type": "stream",
     "text": [
      "bone-china-146\n",
      "I'm doing the thing.\n"
     ]
    },
    {
     "name": "stderr",
     "output_type": "stream",
     "text": [
      "\r",
      " 16%|█▌        | 95/597 [00:22<04:16,  1.96it/s]"
     ]
    },
    {
     "name": "stdout",
     "output_type": "stream",
     "text": [
      "bone-china-148\n",
      "I'm doing the thing.\n"
     ]
    },
    {
     "name": "stderr",
     "output_type": "stream",
     "text": [
      "\r",
      " 16%|█▌        | 96/597 [00:23<05:25,  1.54it/s]"
     ]
    },
    {
     "name": "stdout",
     "output_type": "stream",
     "text": [
      "bone-china-149\n",
      "I'm doing the thing.\n"
     ]
    },
    {
     "name": "stderr",
     "output_type": "stream",
     "text": [
      "\r",
      " 16%|█▌        | 97/597 [00:23<05:39,  1.47it/s]"
     ]
    },
    {
     "name": "stdout",
     "output_type": "stream",
     "text": [
      "bone-china-152\n",
      "I'm doing the thing.\n"
     ]
    },
    {
     "name": "stderr",
     "output_type": "stream",
     "text": [
      "\r",
      " 16%|█▋        | 98/597 [00:24<06:03,  1.37it/s]"
     ]
    },
    {
     "name": "stdout",
     "output_type": "stream",
     "text": [
      "bone-china-153\n",
      "I'm doing the thing.\n"
     ]
    },
    {
     "name": "stderr",
     "output_type": "stream",
     "text": [
      " 17%|█▋        | 100/597 [00:25<04:28,  1.85it/s]"
     ]
    },
    {
     "name": "stdout",
     "output_type": "stream",
     "text": [
      "bone-china-154\n",
      "I'm doing the thing.\n",
      "bone-china-158\n",
      "I'm doing the thing.\n"
     ]
    },
    {
     "name": "stderr",
     "output_type": "stream",
     "text": [
      "\r",
      " 17%|█▋        | 101/597 [00:25<03:54,  2.11it/s]"
     ]
    },
    {
     "name": "stdout",
     "output_type": "stream",
     "text": [
      "bone-china-159\n",
      "I'm doing the thing.\n"
     ]
    },
    {
     "name": "stderr",
     "output_type": "stream",
     "text": [
      "\r",
      " 17%|█▋        | 102/597 [00:26<03:31,  2.34it/s]"
     ]
    },
    {
     "name": "stdout",
     "output_type": "stream",
     "text": [
      "bone-china-160\n",
      "I'm doing the thing.\n"
     ]
    },
    {
     "name": "stderr",
     "output_type": "stream",
     "text": [
      " 17%|█▋        | 104/597 [00:26<03:00,  2.73it/s]"
     ]
    },
    {
     "name": "stdout",
     "output_type": "stream",
     "text": [
      "bone-china-161\n",
      "I'm doing the thing.\n",
      "bone-china-164\n",
      "I'm doing the thing.\n"
     ]
    },
    {
     "name": "stderr",
     "output_type": "stream",
     "text": [
      "\r",
      " 18%|█▊        | 105/597 [00:27<02:38,  3.10it/s]"
     ]
    },
    {
     "name": "stdout",
     "output_type": "stream",
     "text": [
      "bone-china-166\n",
      "I'm doing the thing.\n"
     ]
    },
    {
     "name": "stderr",
     "output_type": "stream",
     "text": [
      " 18%|█▊        | 107/597 [00:27<02:18,  3.54it/s]"
     ]
    },
    {
     "name": "stdout",
     "output_type": "stream",
     "text": [
      "bone-china-167\n",
      "I'm doing the thing.\n",
      "bone-china-169\n",
      "I'm doing the thing.\n"
     ]
    },
    {
     "name": "stderr",
     "output_type": "stream",
     "text": [
      "\r",
      " 18%|█▊        | 108/597 [00:27<01:58,  4.12it/s]"
     ]
    },
    {
     "name": "stdout",
     "output_type": "stream",
     "text": [
      "bone-china-170\n",
      "I'm doing the thing.\n"
     ]
    },
    {
     "name": "stderr",
     "output_type": "stream",
     "text": [
      "\r",
      " 18%|█▊        | 109/597 [00:28<02:00,  4.06it/s]"
     ]
    },
    {
     "name": "stdout",
     "output_type": "stream",
     "text": [
      "bone-china-174\n",
      "I'm doing the thing.\n"
     ]
    },
    {
     "name": "stderr",
     "output_type": "stream",
     "text": [
      " 19%|█▊        | 111/597 [00:28<02:01,  4.00it/s]"
     ]
    },
    {
     "name": "stdout",
     "output_type": "stream",
     "text": [
      "bone-china-175\n",
      "I'm doing the thing.\n",
      "bone-china-176\n",
      "I'm doing the thing.\n"
     ]
    },
    {
     "name": "stderr",
     "output_type": "stream",
     "text": [
      " 19%|█▉        | 113/597 [00:28<01:46,  4.53it/s]"
     ]
    },
    {
     "name": "stdout",
     "output_type": "stream",
     "text": [
      "bone-china-177\n",
      "I'm doing the thing.\n",
      "bone-china-180\n",
      "I'm doing the thing.\n"
     ]
    },
    {
     "name": "stderr",
     "output_type": "stream",
     "text": [
      " 19%|█▉        | 115/597 [00:29<01:29,  5.40it/s]"
     ]
    },
    {
     "name": "stdout",
     "output_type": "stream",
     "text": [
      "bone-china-184\n",
      "I'm doing the thing.\n",
      "bone-china-186\n",
      "I'm doing the thing.\n",
      "bone-china-187\n",
      "I'm doing the thing.\n"
     ]
    },
    {
     "name": "stderr",
     "output_type": "stream",
     "text": [
      " 20%|█▉        | 118/597 [00:29<01:21,  5.91it/s]"
     ]
    },
    {
     "name": "stdout",
     "output_type": "stream",
     "text": [
      "bone-china-188\n",
      "I'm doing the thing.\n",
      "bone-china-189\n",
      "I'm doing the thing.\n"
     ]
    },
    {
     "name": "stderr",
     "output_type": "stream",
     "text": [
      " 20%|██        | 120/597 [00:30<01:17,  6.15it/s]"
     ]
    },
    {
     "name": "stdout",
     "output_type": "stream",
     "text": [
      "bone-china-190\n",
      "I'm doing the thing.\n",
      "bone-china-192\n",
      "I'm doing the thing.\n"
     ]
    },
    {
     "name": "stderr",
     "output_type": "stream",
     "text": [
      " 20%|██        | 122/597 [00:30<01:11,  6.69it/s]"
     ]
    },
    {
     "name": "stdout",
     "output_type": "stream",
     "text": [
      "bone-china-193\n",
      "I'm doing the thing.\n",
      "bone-china-194\n",
      "I'm doing the thing.\n"
     ]
    },
    {
     "name": "stderr",
     "output_type": "stream",
     "text": [
      " 21%|██        | 124/597 [00:30<01:20,  5.86it/s]"
     ]
    },
    {
     "name": "stdout",
     "output_type": "stream",
     "text": [
      "bone-china-196\n",
      "I'm doing the thing.\n",
      "bone-china-198\n",
      "I'm doing the thing.\n"
     ]
    },
    {
     "name": "stderr",
     "output_type": "stream",
     "text": [
      " 21%|██        | 126/597 [00:30<01:16,  6.15it/s]"
     ]
    },
    {
     "name": "stdout",
     "output_type": "stream",
     "text": [
      "bone-china-199\n",
      "I'm doing the thing.\n",
      "bone-china-203\n",
      "I'm doing the thing.\n"
     ]
    },
    {
     "name": "stderr",
     "output_type": "stream",
     "text": [
      " 21%|██▏       | 128/597 [00:31<01:24,  5.57it/s]"
     ]
    },
    {
     "name": "stdout",
     "output_type": "stream",
     "text": [
      "bone-china-209\n",
      "I'm doing the thing.\n",
      "bone-china-212\n",
      "I'm doing the thing.\n"
     ]
    },
    {
     "name": "stderr",
     "output_type": "stream",
     "text": [
      "\r",
      " 22%|██▏       | 129/597 [00:31<01:23,  5.64it/s]"
     ]
    },
    {
     "name": "stdout",
     "output_type": "stream",
     "text": [
      "bone-china-213\n",
      "I'm doing the thing.\n"
     ]
    },
    {
     "name": "stderr",
     "output_type": "stream",
     "text": [
      "\r",
      " 22%|██▏       | 130/597 [00:31<01:31,  5.11it/s]"
     ]
    },
    {
     "name": "stdout",
     "output_type": "stream",
     "text": [
      "bone-china-215\n",
      "I'm doing the thing.\n"
     ]
    },
    {
     "name": "stderr",
     "output_type": "stream",
     "text": [
      " 22%|██▏       | 132/597 [00:32<01:40,  4.62it/s]"
     ]
    },
    {
     "name": "stdout",
     "output_type": "stream",
     "text": [
      "bone-china-216\n",
      "I'm doing the thing.\n",
      "bone-china-217\n",
      "I'm doing the thing.\n",
      "bone-china-221\n",
      "I'm doing the thing.\n"
     ]
    },
    {
     "name": "stderr",
     "output_type": "stream",
     "text": [
      " 23%|██▎       | 135/597 [00:33<01:34,  4.88it/s]"
     ]
    },
    {
     "name": "stdout",
     "output_type": "stream",
     "text": [
      "bone-china-222\n",
      "I'm doing the thing.\n",
      "bone-china-223\n",
      "I'm doing the thing.\n"
     ]
    },
    {
     "name": "stderr",
     "output_type": "stream",
     "text": [
      "\r",
      " 23%|██▎       | 136/597 [00:33<01:40,  4.59it/s]"
     ]
    },
    {
     "name": "stdout",
     "output_type": "stream",
     "text": [
      "bone-china-225\n",
      "I'm doing the thing.\n"
     ]
    },
    {
     "name": "stderr",
     "output_type": "stream",
     "text": [
      "\r",
      " 23%|██▎       | 137/597 [00:33<01:54,  4.03it/s]"
     ]
    },
    {
     "name": "stdout",
     "output_type": "stream",
     "text": [
      "bone-china-228\n",
      "I'm doing the thing.\n"
     ]
    },
    {
     "name": "stderr",
     "output_type": "stream",
     "text": [
      " 23%|██▎       | 139/597 [00:34<01:45,  4.36it/s]"
     ]
    },
    {
     "name": "stdout",
     "output_type": "stream",
     "text": [
      "bone-china-231\n",
      "I'm doing the thing.\n",
      "bone-china-234\n",
      "I'm doing the thing.\n"
     ]
    },
    {
     "name": "stderr",
     "output_type": "stream",
     "text": [
      "\r",
      " 23%|██▎       | 140/597 [00:34<01:42,  4.47it/s]"
     ]
    },
    {
     "name": "stdout",
     "output_type": "stream",
     "text": [
      "bone-china-242\n",
      "I'm doing the thing.\n"
     ]
    },
    {
     "name": "stderr",
     "output_type": "stream",
     "text": [
      "\r",
      " 24%|██▎       | 141/597 [00:34<01:55,  3.93it/s]"
     ]
    },
    {
     "name": "stdout",
     "output_type": "stream",
     "text": [
      "bone-china-243\n",
      "I'm doing the thing.\n"
     ]
    },
    {
     "name": "stderr",
     "output_type": "stream",
     "text": [
      " 24%|██▍       | 143/597 [00:34<01:45,  4.29it/s]"
     ]
    },
    {
     "name": "stdout",
     "output_type": "stream",
     "text": [
      "bone-penn-081\n",
      "I'm doing the thing.\n",
      "bone-penn-082\n",
      "I'm doing the thing.\n"
     ]
    },
    {
     "name": "stderr",
     "output_type": "stream",
     "text": [
      "\r",
      " 24%|██▍       | 144/597 [00:35<02:10,  3.47it/s]"
     ]
    },
    {
     "name": "stdout",
     "output_type": "stream",
     "text": [
      "bone-penn-083\n",
      "I'm doing the thing.\n"
     ]
    },
    {
     "name": "stderr",
     "output_type": "stream",
     "text": [
      "\r",
      " 24%|██▍       | 145/597 [00:36<04:38,  1.62it/s]"
     ]
    },
    {
     "name": "stdout",
     "output_type": "stream",
     "text": [
      "bone-penn-084\n",
      "I'm doing the thing.\n"
     ]
    },
    {
     "name": "stderr",
     "output_type": "stream",
     "text": [
      "\r",
      " 24%|██▍       | 146/597 [00:38<06:26,  1.17it/s]"
     ]
    },
    {
     "name": "stdout",
     "output_type": "stream",
     "text": [
      "bone-penn-085\n",
      "I'm doing the thing.\n"
     ]
    },
    {
     "name": "stderr",
     "output_type": "stream",
     "text": [
      "\r",
      " 25%|██▍       | 147/597 [00:38<05:04,  1.48it/s]"
     ]
    },
    {
     "name": "stdout",
     "output_type": "stream",
     "text": [
      "bone-penn-086\n",
      "I'm doing the thing.\n"
     ]
    },
    {
     "name": "stderr",
     "output_type": "stream",
     "text": [
      "\r",
      " 25%|██▍       | 148/597 [00:39<05:15,  1.42it/s]"
     ]
    },
    {
     "name": "stdout",
     "output_type": "stream",
     "text": [
      "bone-penn-090\n",
      "I'm doing the thing.\n"
     ]
    },
    {
     "name": "stderr",
     "output_type": "stream",
     "text": [
      " 25%|██▌       | 150/597 [00:39<03:16,  2.28it/s]"
     ]
    },
    {
     "name": "stdout",
     "output_type": "stream",
     "text": [
      "bone-penn-091\n",
      "I'm doing the thing.\n",
      "bone-penn-092\n",
      "I'm doing the thing.\n"
     ]
    },
    {
     "name": "stderr",
     "output_type": "stream",
     "text": [
      " 25%|██▌       | 152/597 [00:40<02:20,  3.17it/s]"
     ]
    },
    {
     "name": "stdout",
     "output_type": "stream",
     "text": [
      "bone-penn-093\n",
      "I'm doing the thing.\n",
      "bone-penn-094\n",
      "I'm doing the thing.\n"
     ]
    },
    {
     "name": "stderr",
     "output_type": "stream",
     "text": [
      " 26%|██▌       | 154/597 [00:40<01:43,  4.30it/s]"
     ]
    },
    {
     "name": "stdout",
     "output_type": "stream",
     "text": [
      "bone-penn-095\n",
      "I'm doing the thing.\n",
      "bone-penn-097\n",
      "I'm doing the thing.\n"
     ]
    },
    {
     "name": "stderr",
     "output_type": "stream",
     "text": [
      "\r",
      " 26%|██▌       | 155/597 [00:40<02:27,  3.00it/s]"
     ]
    },
    {
     "name": "stdout",
     "output_type": "stream",
     "text": [
      "bone-penn-099\n",
      "I'm doing the thing.\n"
     ]
    },
    {
     "name": "stderr",
     "output_type": "stream",
     "text": [
      "\r",
      " 26%|██▌       | 156/597 [00:41<03:02,  2.42it/s]"
     ]
    },
    {
     "name": "stdout",
     "output_type": "stream",
     "text": [
      "bone-penn-105\n",
      "I'm doing the thing.\n"
     ]
    },
    {
     "name": "stderr",
     "output_type": "stream",
     "text": [
      "\r",
      " 26%|██▋       | 157/597 [00:41<03:03,  2.39it/s]"
     ]
    },
    {
     "name": "stdout",
     "output_type": "stream",
     "text": [
      "bone-penn-106\n",
      "I'm doing the thing.\n"
     ]
    },
    {
     "name": "stderr",
     "output_type": "stream",
     "text": [
      "/Users/feyisope/.local/share/virtualenvs/Bone-MRI-jS0JPId9/lib/python3.6/site-packages/numpy/lib/nanfunctions.py:1371: RuntimeWarning: All-NaN slice encountered\n",
      "  overwrite_input=overwrite_input, interpolation=interpolation\n",
      "\r",
      " 26%|██▋       | 158/597 [00:42<03:03,  2.39it/s]"
     ]
    },
    {
     "name": "stdout",
     "output_type": "stream",
     "text": [
      "bone-penn-107\n",
      "I'm doing the thing.\n"
     ]
    },
    {
     "name": "stderr",
     "output_type": "stream",
     "text": [
      " 27%|██▋       | 160/597 [00:43<02:42,  2.69it/s]"
     ]
    },
    {
     "name": "stdout",
     "output_type": "stream",
     "text": [
      "bone-penn-109\n",
      "I'm doing the thing.\n",
      "bone-penn-110\n",
      "I'm doing the thing.\n"
     ]
    },
    {
     "name": "stderr",
     "output_type": "stream",
     "text": [
      "\r",
      " 27%|██▋       | 161/597 [00:43<03:54,  1.86it/s]"
     ]
    },
    {
     "name": "stdout",
     "output_type": "stream",
     "text": [
      "bone-penn-111\n",
      "I'm doing the thing.\n"
     ]
    },
    {
     "name": "stderr",
     "output_type": "stream",
     "text": [
      "\r",
      " 27%|██▋       | 162/597 [00:44<04:18,  1.68it/s]"
     ]
    },
    {
     "name": "stdout",
     "output_type": "stream",
     "text": [
      "bone-penn-112\n",
      "I'm doing the thing.\n"
     ]
    },
    {
     "name": "stderr",
     "output_type": "stream",
     "text": [
      " 27%|██▋       | 164/597 [00:46<04:58,  1.45it/s]"
     ]
    },
    {
     "name": "stdout",
     "output_type": "stream",
     "text": [
      "bone-penn-113\n",
      "I'm doing the thing.\n",
      "bone-penn-116\n",
      "I'm doing the thing.\n"
     ]
    },
    {
     "name": "stderr",
     "output_type": "stream",
     "text": [
      "\r",
      " 28%|██▊       | 165/597 [00:46<03:57,  1.82it/s]"
     ]
    },
    {
     "name": "stdout",
     "output_type": "stream",
     "text": [
      "bone-penn-118\n",
      "I'm doing the thing.\n"
     ]
    },
    {
     "name": "stderr",
     "output_type": "stream",
     "text": [
      " 28%|██▊       | 167/597 [00:50<07:22,  1.03s/it]"
     ]
    },
    {
     "name": "stdout",
     "output_type": "stream",
     "text": [
      "bone-penn-119\n",
      "I'm doing the thing.\n",
      "bone-penn-120\n",
      "I'm doing the thing.\n"
     ]
    },
    {
     "name": "stderr",
     "output_type": "stream",
     "text": [
      "\r",
      " 28%|██▊       | 168/597 [00:50<05:57,  1.20it/s]"
     ]
    },
    {
     "name": "stdout",
     "output_type": "stream",
     "text": [
      "bone-penn-122\n",
      "I'm doing the thing.\n"
     ]
    },
    {
     "name": "stderr",
     "output_type": "stream",
     "text": [
      "\r",
      " 28%|██▊       | 169/597 [00:50<04:40,  1.53it/s]"
     ]
    },
    {
     "name": "stdout",
     "output_type": "stream",
     "text": [
      "bone-penn-126\n",
      "I'm doing the thing.\n"
     ]
    },
    {
     "name": "stderr",
     "output_type": "stream",
     "text": [
      "\r",
      " 28%|██▊       | 170/597 [00:51<04:31,  1.57it/s]"
     ]
    },
    {
     "name": "stdout",
     "output_type": "stream",
     "text": [
      "bone-penn-130\n",
      "I'm doing the thing.\n"
     ]
    },
    {
     "name": "stderr",
     "output_type": "stream",
     "text": [
      "\r",
      " 29%|██▊       | 171/597 [00:51<03:37,  1.96it/s]"
     ]
    },
    {
     "name": "stdout",
     "output_type": "stream",
     "text": [
      "bone-penn-131\n",
      "I'm doing the thing.\n"
     ]
    },
    {
     "name": "stderr",
     "output_type": "stream",
     "text": [
      "\r",
      " 29%|██▉       | 172/597 [00:52<03:36,  1.96it/s]"
     ]
    },
    {
     "name": "stdout",
     "output_type": "stream",
     "text": [
      "bone-penn-134\n",
      "I'm doing the thing.\n"
     ]
    },
    {
     "name": "stderr",
     "output_type": "stream",
     "text": [
      "\r",
      " 29%|██▉       | 173/597 [00:52<03:39,  1.93it/s]"
     ]
    },
    {
     "name": "stdout",
     "output_type": "stream",
     "text": [
      "bone-penn-137\n",
      "I'm doing the thing.\n"
     ]
    },
    {
     "name": "stderr",
     "output_type": "stream",
     "text": [
      "\r",
      " 29%|██▉       | 174/597 [00:53<03:45,  1.87it/s]"
     ]
    },
    {
     "name": "stdout",
     "output_type": "stream",
     "text": [
      "bone-penn-139\n",
      "I'm doing the thing.\n"
     ]
    },
    {
     "name": "stderr",
     "output_type": "stream",
     "text": [
      " 29%|██▉       | 176/597 [00:53<02:36,  2.69it/s]"
     ]
    },
    {
     "name": "stdout",
     "output_type": "stream",
     "text": [
      "bone-penn-140\n",
      "I'm doing the thing.\n",
      "bone-penn-141\n",
      "I'm doing the thing.\n"
     ]
    },
    {
     "name": "stderr",
     "output_type": "stream",
     "text": [
      "\r",
      " 30%|██▉       | 177/597 [00:53<02:02,  3.42it/s]"
     ]
    },
    {
     "name": "stdout",
     "output_type": "stream",
     "text": [
      "bone-penn-142\n",
      "I'm doing the thing.\n"
     ]
    },
    {
     "name": "stderr",
     "output_type": "stream",
     "text": [
      "\r",
      " 30%|██▉       | 178/597 [00:54<01:55,  3.62it/s]"
     ]
    },
    {
     "name": "stdout",
     "output_type": "stream",
     "text": [
      "bone-penn-147\n",
      "I'm doing the thing.\n"
     ]
    },
    {
     "name": "stderr",
     "output_type": "stream",
     "text": [
      "\r",
      " 30%|██▉       | 179/597 [00:54<02:38,  2.64it/s]"
     ]
    },
    {
     "name": "stdout",
     "output_type": "stream",
     "text": [
      "bone-penn-148\n",
      "I'm doing the thing.\n"
     ]
    },
    {
     "name": "stderr",
     "output_type": "stream",
     "text": [
      "\r",
      " 30%|███       | 180/597 [00:55<02:38,  2.63it/s]"
     ]
    },
    {
     "name": "stdout",
     "output_type": "stream",
     "text": [
      "bone-penn-149\n",
      "I'm doing the thing.\n"
     ]
    },
    {
     "name": "stderr",
     "output_type": "stream",
     "text": [
      "\r",
      " 30%|███       | 181/597 [00:55<02:36,  2.66it/s]"
     ]
    },
    {
     "name": "stdout",
     "output_type": "stream",
     "text": [
      "bone-penn-150\n",
      "I'm doing the thing.\n"
     ]
    },
    {
     "name": "stderr",
     "output_type": "stream",
     "text": [
      "\r",
      " 30%|███       | 182/597 [00:55<02:42,  2.55it/s]"
     ]
    },
    {
     "name": "stdout",
     "output_type": "stream",
     "text": [
      "bone-penn-152\n",
      "I'm doing the thing.\n"
     ]
    },
    {
     "name": "stderr",
     "output_type": "stream",
     "text": [
      " 31%|███       | 184/597 [00:56<02:28,  2.78it/s]"
     ]
    },
    {
     "name": "stdout",
     "output_type": "stream",
     "text": [
      "bone-penn-154\n",
      "I'm doing the thing.\n",
      "bone-penn-155\n",
      "I'm doing the thing.\n"
     ]
    },
    {
     "name": "stderr",
     "output_type": "stream",
     "text": [
      "\r",
      " 31%|███       | 185/597 [00:57<02:21,  2.91it/s]"
     ]
    },
    {
     "name": "stdout",
     "output_type": "stream",
     "text": [
      "bone-penn-156\n",
      "I'm doing the thing.\n"
     ]
    },
    {
     "name": "stderr",
     "output_type": "stream",
     "text": [
      "\r",
      " 31%|███       | 186/597 [00:57<02:26,  2.80it/s]"
     ]
    },
    {
     "name": "stdout",
     "output_type": "stream",
     "text": [
      "bone-penn-157\n",
      "I'm doing the thing.\n"
     ]
    },
    {
     "name": "stderr",
     "output_type": "stream",
     "text": [
      "\r",
      " 31%|███▏      | 187/597 [00:58<03:04,  2.22it/s]"
     ]
    },
    {
     "name": "stdout",
     "output_type": "stream",
     "text": [
      "bone-penn-160\n",
      "I'm doing the thing.\n"
     ]
    },
    {
     "name": "stderr",
     "output_type": "stream",
     "text": [
      " 32%|███▏      | 189/597 [00:58<02:25,  2.80it/s]"
     ]
    },
    {
     "name": "stdout",
     "output_type": "stream",
     "text": [
      "bone-penn-161\n",
      "I'm doing the thing.\n",
      "bone-penn-162\n",
      "I'm doing the thing.\n"
     ]
    },
    {
     "name": "stderr",
     "output_type": "stream",
     "text": [
      "\r",
      " 32%|███▏      | 190/597 [00:58<02:17,  2.97it/s]"
     ]
    },
    {
     "name": "stdout",
     "output_type": "stream",
     "text": [
      "bone-penn-163\n",
      "I'm doing the thing.\n"
     ]
    },
    {
     "name": "stderr",
     "output_type": "stream",
     "text": [
      "\r",
      " 32%|███▏      | 191/597 [00:59<02:14,  3.02it/s]"
     ]
    },
    {
     "name": "stdout",
     "output_type": "stream",
     "text": [
      "bone-penn-167\n",
      "I'm doing the thing.\n"
     ]
    },
    {
     "name": "stderr",
     "output_type": "stream",
     "text": [
      "\r",
      " 32%|███▏      | 192/597 [00:59<02:31,  2.68it/s]"
     ]
    },
    {
     "name": "stdout",
     "output_type": "stream",
     "text": [
      "bone-penn-168\n",
      "I'm doing the thing.\n"
     ]
    },
    {
     "name": "stderr",
     "output_type": "stream",
     "text": [
      "\r",
      " 32%|███▏      | 193/597 [00:59<02:11,  3.08it/s]"
     ]
    },
    {
     "name": "stdout",
     "output_type": "stream",
     "text": [
      "bone-penn-170\n",
      "I'm doing the thing.\n"
     ]
    },
    {
     "name": "stderr",
     "output_type": "stream",
     "text": [
      "\r",
      " 32%|███▏      | 194/597 [01:00<02:38,  2.54it/s]"
     ]
    },
    {
     "name": "stdout",
     "output_type": "stream",
     "text": [
      "bone-penn-171\n",
      "I'm doing the thing.\n"
     ]
    },
    {
     "name": "stderr",
     "output_type": "stream",
     "text": [
      "\r",
      " 33%|███▎      | 195/597 [01:00<02:20,  2.86it/s]"
     ]
    },
    {
     "name": "stdout",
     "output_type": "stream",
     "text": [
      "bone-penn-172\n",
      "I'm doing the thing.\n"
     ]
    },
    {
     "name": "stderr",
     "output_type": "stream",
     "text": [
      "\r",
      " 33%|███▎      | 196/597 [01:01<02:12,  3.02it/s]"
     ]
    },
    {
     "name": "stdout",
     "output_type": "stream",
     "text": [
      "bone-penn-173\n",
      "I'm doing the thing.\n"
     ]
    },
    {
     "name": "stderr",
     "output_type": "stream",
     "text": [
      "\r",
      " 33%|███▎      | 197/597 [01:01<02:06,  3.17it/s]"
     ]
    },
    {
     "name": "stdout",
     "output_type": "stream",
     "text": [
      "bone-penn-174\n",
      "I'm doing the thing.\n"
     ]
    },
    {
     "name": "stderr",
     "output_type": "stream",
     "text": [
      "\r",
      " 33%|███▎      | 198/597 [01:01<02:10,  3.05it/s]"
     ]
    },
    {
     "name": "stdout",
     "output_type": "stream",
     "text": [
      "bone-penn-178\n",
      "I'm doing the thing.\n"
     ]
    },
    {
     "name": "stderr",
     "output_type": "stream",
     "text": [
      "\r",
      " 33%|███▎      | 199/597 [01:02<02:39,  2.50it/s]"
     ]
    },
    {
     "name": "stdout",
     "output_type": "stream",
     "text": [
      "bone-penn-179\n",
      "I'm doing the thing.\n"
     ]
    },
    {
     "name": "stderr",
     "output_type": "stream",
     "text": [
      "\r",
      " 34%|███▎      | 200/597 [01:03<03:27,  1.91it/s]"
     ]
    },
    {
     "name": "stdout",
     "output_type": "stream",
     "text": [
      "bone-penn-180\n",
      "I'm doing the thing.\n"
     ]
    },
    {
     "name": "stderr",
     "output_type": "stream",
     "text": [
      "\r",
      " 34%|███▎      | 201/597 [01:03<03:00,  2.19it/s]"
     ]
    },
    {
     "name": "stdout",
     "output_type": "stream",
     "text": [
      "bone-penn-183\n",
      "I'm doing the thing.\n"
     ]
    },
    {
     "name": "stderr",
     "output_type": "stream",
     "text": [
      "\r",
      " 34%|███▍      | 202/597 [01:03<02:33,  2.57it/s]"
     ]
    },
    {
     "name": "stdout",
     "output_type": "stream",
     "text": [
      "bone-penn-187\n",
      "I'm doing the thing.\n"
     ]
    },
    {
     "name": "stderr",
     "output_type": "stream",
     "text": [
      "\r",
      " 34%|███▍      | 203/597 [01:03<02:26,  2.70it/s]"
     ]
    },
    {
     "name": "stdout",
     "output_type": "stream",
     "text": [
      "bone-penn-188\n",
      "I'm doing the thing.\n"
     ]
    },
    {
     "name": "stderr",
     "output_type": "stream",
     "text": [
      "\r",
      " 34%|███▍      | 204/597 [01:04<02:18,  2.84it/s]"
     ]
    },
    {
     "name": "stdout",
     "output_type": "stream",
     "text": [
      "bone-penn-189\n",
      "I'm doing the thing.\n"
     ]
    },
    {
     "name": "stderr",
     "output_type": "stream",
     "text": [
      "\r",
      " 34%|███▍      | 205/597 [01:05<03:45,  1.74it/s]"
     ]
    },
    {
     "name": "stdout",
     "output_type": "stream",
     "text": [
      "bone-penn-191\n",
      "I'm doing the thing.\n"
     ]
    },
    {
     "name": "stderr",
     "output_type": "stream",
     "text": [
      "\r",
      " 35%|███▍      | 206/597 [01:05<03:26,  1.89it/s]"
     ]
    },
    {
     "name": "stdout",
     "output_type": "stream",
     "text": [
      "bone-penn-192\n",
      "I'm doing the thing.\n"
     ]
    },
    {
     "name": "stderr",
     "output_type": "stream",
     "text": [
      "\r",
      " 35%|███▍      | 207/597 [01:05<02:54,  2.24it/s]"
     ]
    },
    {
     "name": "stdout",
     "output_type": "stream",
     "text": [
      "bone-penn-193\n",
      "I'm doing the thing.\n"
     ]
    },
    {
     "name": "stderr",
     "output_type": "stream",
     "text": [
      "\r",
      " 35%|███▍      | 208/597 [01:06<02:45,  2.35it/s]"
     ]
    },
    {
     "name": "stdout",
     "output_type": "stream",
     "text": [
      "bone-penn-194\n",
      "I'm doing the thing.\n"
     ]
    },
    {
     "name": "stderr",
     "output_type": "stream",
     "text": [
      "\r",
      " 35%|███▌      | 209/597 [01:07<05:04,  1.27it/s]"
     ]
    },
    {
     "name": "stdout",
     "output_type": "stream",
     "text": [
      "bone-penn-197\n",
      "I'm doing the thing.\n"
     ]
    },
    {
     "name": "stderr",
     "output_type": "stream",
     "text": [
      "\r",
      " 35%|███▌      | 210/597 [01:08<04:19,  1.49it/s]"
     ]
    },
    {
     "name": "stdout",
     "output_type": "stream",
     "text": [
      "bone-penn-198\n",
      "I'm doing the thing.\n"
     ]
    },
    {
     "name": "stderr",
     "output_type": "stream",
     "text": [
      "\r",
      " 35%|███▌      | 211/597 [01:08<03:38,  1.76it/s]"
     ]
    },
    {
     "name": "stdout",
     "output_type": "stream",
     "text": [
      "bone-penn-200\n",
      "I'm doing the thing.\n"
     ]
    },
    {
     "name": "stderr",
     "output_type": "stream",
     "text": [
      "\r",
      " 36%|███▌      | 212/597 [01:08<03:03,  2.10it/s]"
     ]
    },
    {
     "name": "stdout",
     "output_type": "stream",
     "text": [
      "bone-penn-205\n",
      "I'm doing the thing.\n"
     ]
    },
    {
     "name": "stderr",
     "output_type": "stream",
     "text": [
      " 36%|███▌      | 214/597 [01:12<05:39,  1.13it/s]"
     ]
    },
    {
     "name": "stdout",
     "output_type": "stream",
     "text": [
      "bone-penn-206\n",
      "I'm doing the thing.\n",
      "bone-penn-207\n",
      "I'm doing the thing.\n"
     ]
    },
    {
     "name": "stderr",
     "output_type": "stream",
     "text": [
      "\r",
      " 36%|███▌      | 215/597 [01:12<05:28,  1.16it/s]"
     ]
    },
    {
     "name": "stdout",
     "output_type": "stream",
     "text": [
      "bone-penn-209\n",
      "I'm doing the thing.\n"
     ]
    },
    {
     "name": "stderr",
     "output_type": "stream",
     "text": [
      "\r",
      " 36%|███▌      | 216/597 [01:13<05:32,  1.15it/s]"
     ]
    },
    {
     "name": "stdout",
     "output_type": "stream",
     "text": [
      "bone-penn-210\n",
      "I'm doing the thing.\n"
     ]
    },
    {
     "name": "stderr",
     "output_type": "stream",
     "text": [
      "\r",
      " 36%|███▋      | 217/597 [01:14<04:34,  1.38it/s]"
     ]
    },
    {
     "name": "stdout",
     "output_type": "stream",
     "text": [
      "bone-penn-214\n",
      "I'm doing the thing.\n"
     ]
    },
    {
     "name": "stderr",
     "output_type": "stream",
     "text": [
      "\r",
      " 37%|███▋      | 218/597 [01:14<04:29,  1.41it/s]"
     ]
    },
    {
     "name": "stdout",
     "output_type": "stream",
     "text": [
      "bone-penn-217\n",
      "I'm doing the thing.\n"
     ]
    },
    {
     "name": "stderr",
     "output_type": "stream",
     "text": [
      "\r",
      " 37%|███▋      | 219/597 [01:15<04:03,  1.55it/s]"
     ]
    },
    {
     "name": "stdout",
     "output_type": "stream",
     "text": [
      "bone-penn-218\n",
      "I'm doing the thing.\n"
     ]
    },
    {
     "name": "stderr",
     "output_type": "stream",
     "text": [
      "\r",
      " 37%|███▋      | 220/597 [01:16<04:49,  1.30it/s]"
     ]
    },
    {
     "name": "stdout",
     "output_type": "stream",
     "text": [
      "bone-penn-219\n",
      "I'm doing the thing.\n"
     ]
    },
    {
     "name": "stderr",
     "output_type": "stream",
     "text": [
      "\r",
      " 37%|███▋      | 221/597 [01:16<03:58,  1.57it/s]"
     ]
    },
    {
     "name": "stdout",
     "output_type": "stream",
     "text": [
      "bone-penn-220\n",
      "I'm doing the thing.\n"
     ]
    },
    {
     "name": "stderr",
     "output_type": "stream",
     "text": [
      "\r",
      " 37%|███▋      | 222/597 [01:17<03:49,  1.64it/s]"
     ]
    },
    {
     "name": "stdout",
     "output_type": "stream",
     "text": [
      "bone-penn-222\n",
      "I'm doing the thing.\n"
     ]
    },
    {
     "name": "stderr",
     "output_type": "stream",
     "text": [
      "\r",
      " 37%|███▋      | 223/597 [01:17<03:05,  2.02it/s]"
     ]
    },
    {
     "name": "stdout",
     "output_type": "stream",
     "text": [
      "bone-penn-223\n",
      "I'm doing the thing.\n"
     ]
    },
    {
     "name": "stderr",
     "output_type": "stream",
     "text": [
      " 38%|███▊      | 225/597 [01:19<03:46,  1.64it/s]"
     ]
    },
    {
     "name": "stdout",
     "output_type": "stream",
     "text": [
      "bone-penn-224\n",
      "I'm doing the thing.\n",
      "bone-penn-227\n",
      "I'm doing the thing.\n"
     ]
    },
    {
     "name": "stderr",
     "output_type": "stream",
     "text": [
      "\r",
      " 38%|███▊      | 226/597 [01:19<03:23,  1.82it/s]"
     ]
    },
    {
     "name": "stdout",
     "output_type": "stream",
     "text": [
      "bone-penn-231\n",
      "I'm doing the thing.\n"
     ]
    },
    {
     "name": "stderr",
     "output_type": "stream",
     "text": [
      "\r",
      " 38%|███▊      | 227/597 [01:21<05:43,  1.08it/s]"
     ]
    },
    {
     "name": "stdout",
     "output_type": "stream",
     "text": [
      "bone-penn-236\n",
      "I'm doing the thing.\n"
     ]
    },
    {
     "name": "stderr",
     "output_type": "stream",
     "text": [
      "\r",
      " 38%|███▊      | 228/597 [01:22<05:28,  1.12it/s]"
     ]
    },
    {
     "name": "stdout",
     "output_type": "stream",
     "text": [
      "bone-penn-238\n",
      "I'm doing the thing.\n"
     ]
    },
    {
     "name": "stderr",
     "output_type": "stream",
     "text": [
      "\r",
      " 38%|███▊      | 229/597 [01:22<04:47,  1.28it/s]"
     ]
    },
    {
     "name": "stdout",
     "output_type": "stream",
     "text": [
      "bone-penn-239\n",
      "I'm doing the thing.\n"
     ]
    },
    {
     "name": "stderr",
     "output_type": "stream",
     "text": [
      "\r",
      " 39%|███▊      | 230/597 [01:23<04:09,  1.47it/s]"
     ]
    },
    {
     "name": "stdout",
     "output_type": "stream",
     "text": [
      "bone-penn-241\n",
      "I'm doing the thing.\n"
     ]
    },
    {
     "name": "stderr",
     "output_type": "stream",
     "text": [
      "\r",
      " 39%|███▊      | 231/597 [01:24<05:05,  1.20it/s]"
     ]
    },
    {
     "name": "stdout",
     "output_type": "stream",
     "text": [
      "bone-penn-245\n",
      "I'm doing the thing.\n"
     ]
    },
    {
     "name": "stderr",
     "output_type": "stream",
     "text": [
      " 39%|███▉      | 233/597 [01:24<03:16,  1.85it/s]"
     ]
    },
    {
     "name": "stdout",
     "output_type": "stream",
     "text": [
      "bone-penn-246\n",
      "I'm doing the thing.\n",
      "bone-penn-247\n",
      "I'm doing the thing.\n"
     ]
    },
    {
     "name": "stderr",
     "output_type": "stream",
     "text": [
      "\r",
      " 39%|███▉      | 234/597 [01:25<02:51,  2.12it/s]"
     ]
    },
    {
     "name": "stdout",
     "output_type": "stream",
     "text": [
      "bone-penn-250\n",
      "I'm doing the thing.\n"
     ]
    },
    {
     "name": "stderr",
     "output_type": "stream",
     "text": [
      " 40%|███▉      | 236/597 [01:26<02:51,  2.11it/s]"
     ]
    },
    {
     "name": "stdout",
     "output_type": "stream",
     "text": [
      "bone-penn-252\n",
      "I'm doing the thing.\n",
      "bone-penn-253\n",
      "I'm doing the thing.\n"
     ]
    },
    {
     "name": "stderr",
     "output_type": "stream",
     "text": [
      "\r",
      " 40%|███▉      | 237/597 [01:26<03:10,  1.89it/s]"
     ]
    },
    {
     "name": "stdout",
     "output_type": "stream",
     "text": [
      "bone-penn-254\n",
      "I'm doing the thing.\n"
     ]
    },
    {
     "name": "stderr",
     "output_type": "stream",
     "text": [
      "\r",
      " 40%|███▉      | 238/597 [01:27<03:38,  1.64it/s]"
     ]
    },
    {
     "name": "stdout",
     "output_type": "stream",
     "text": [
      "bone-penn-255\n",
      "I'm doing the thing.\n"
     ]
    },
    {
     "name": "stderr",
     "output_type": "stream",
     "text": [
      "\r",
      " 40%|████      | 239/597 [01:30<07:50,  1.32s/it]"
     ]
    },
    {
     "name": "stdout",
     "output_type": "stream",
     "text": [
      "bone-penn-257\n",
      "I'm doing the thing.\n"
     ]
    },
    {
     "name": "stderr",
     "output_type": "stream",
     "text": [
      "\r",
      " 40%|████      | 240/597 [01:30<05:51,  1.02it/s]"
     ]
    },
    {
     "name": "stdout",
     "output_type": "stream",
     "text": [
      "bone-penn-260\n",
      "I'm doing the thing.\n"
     ]
    },
    {
     "name": "stderr",
     "output_type": "stream",
     "text": [
      "\r",
      " 40%|████      | 241/597 [01:31<05:05,  1.16it/s]"
     ]
    },
    {
     "name": "stdout",
     "output_type": "stream",
     "text": [
      "bone-penn-261\n",
      "I'm doing the thing.\n"
     ]
    },
    {
     "name": "stderr",
     "output_type": "stream",
     "text": [
      "\r",
      " 41%|████      | 242/597 [01:31<04:06,  1.44it/s]"
     ]
    },
    {
     "name": "stdout",
     "output_type": "stream",
     "text": [
      "bone-penn-262\n",
      "I'm doing the thing.\n"
     ]
    },
    {
     "name": "stderr",
     "output_type": "stream",
     "text": [
      "\r",
      " 41%|████      | 243/597 [01:32<03:51,  1.53it/s]"
     ]
    },
    {
     "name": "stdout",
     "output_type": "stream",
     "text": [
      "bone-penn-266\n",
      "I'm doing the thing.\n"
     ]
    },
    {
     "name": "stderr",
     "output_type": "stream",
     "text": [
      " 41%|████      | 245/597 [01:32<02:29,  2.35it/s]"
     ]
    },
    {
     "name": "stdout",
     "output_type": "stream",
     "text": [
      "bone-penn-268\n",
      "I'm doing the thing.\n",
      "bone-penn-269\n",
      "I'm doing the thing.\n",
      "bone-penn-277\n",
      "I'm doing the thing.\n"
     ]
    },
    {
     "name": "stderr",
     "output_type": "stream",
     "text": [
      "\r",
      " 41%|████▏     | 247/597 [01:33<02:39,  2.19it/s]"
     ]
    },
    {
     "name": "stdout",
     "output_type": "stream",
     "text": [
      "bone-penn-278\n",
      "I'm doing the thing.\n"
     ]
    },
    {
     "name": "stderr",
     "output_type": "stream",
     "text": [
      "\r",
      " 42%|████▏     | 248/597 [01:34<02:44,  2.12it/s]"
     ]
    },
    {
     "name": "stdout",
     "output_type": "stream",
     "text": [
      "bone-penn-279\n",
      "I'm doing the thing.\n"
     ]
    },
    {
     "name": "stderr",
     "output_type": "stream",
     "text": [
      "\r",
      " 42%|████▏     | 249/597 [01:35<03:25,  1.69it/s]"
     ]
    },
    {
     "name": "stdout",
     "output_type": "stream",
     "text": [
      "bone-penn-280\n",
      "I'm doing the thing.\n"
     ]
    },
    {
     "name": "stderr",
     "output_type": "stream",
     "text": [
      "\r",
      " 42%|████▏     | 250/597 [01:35<02:54,  1.99it/s]"
     ]
    },
    {
     "name": "stdout",
     "output_type": "stream",
     "text": [
      "bone-penn-282\n",
      "I'm doing the thing.\n"
     ]
    },
    {
     "name": "stderr",
     "output_type": "stream",
     "text": [
      "\r",
      " 42%|████▏     | 251/597 [01:35<02:41,  2.15it/s]"
     ]
    },
    {
     "name": "stdout",
     "output_type": "stream",
     "text": [
      "bone-penn-283\n",
      "I'm doing the thing.\n"
     ]
    },
    {
     "name": "stderr",
     "output_type": "stream",
     "text": [
      "\r",
      " 42%|████▏     | 252/597 [01:36<03:21,  1.71it/s]"
     ]
    },
    {
     "name": "stdout",
     "output_type": "stream",
     "text": [
      "bone-penn-285\n",
      "I'm doing the thing.\n"
     ]
    },
    {
     "name": "stderr",
     "output_type": "stream",
     "text": [
      "\r",
      " 42%|████▏     | 253/597 [01:38<05:10,  1.11it/s]"
     ]
    },
    {
     "name": "stdout",
     "output_type": "stream",
     "text": [
      "bone-penn-286\n",
      "I'm doing the thing.\n"
     ]
    },
    {
     "name": "stderr",
     "output_type": "stream",
     "text": [
      "\r",
      " 43%|████▎     | 254/597 [01:38<04:00,  1.43it/s]"
     ]
    },
    {
     "name": "stdout",
     "output_type": "stream",
     "text": [
      "bone-penn-289\n",
      "I'm doing the thing.\n"
     ]
    },
    {
     "name": "stderr",
     "output_type": "stream",
     "text": [
      " 43%|████▎     | 256/597 [01:39<02:43,  2.09it/s]"
     ]
    },
    {
     "name": "stdout",
     "output_type": "stream",
     "text": [
      "bone-penn-291\n",
      "I'm doing the thing.\n",
      "bone-penn-292\n",
      "I'm doing the thing.\n"
     ]
    },
    {
     "name": "stderr",
     "output_type": "stream",
     "text": [
      " 43%|████▎     | 258/597 [01:39<01:57,  2.88it/s]"
     ]
    },
    {
     "name": "stdout",
     "output_type": "stream",
     "text": [
      "bone-penn-293\n",
      "I'm doing the thing.\n",
      "bone-penn-296\n",
      "I'm doing the thing.\n"
     ]
    },
    {
     "name": "stderr",
     "output_type": "stream",
     "text": [
      "\r",
      " 43%|████▎     | 259/597 [01:40<02:24,  2.33it/s]"
     ]
    },
    {
     "name": "stdout",
     "output_type": "stream",
     "text": [
      "bone-penn-297\n",
      "I'm doing the thing.\n"
     ]
    },
    {
     "name": "stderr",
     "output_type": "stream",
     "text": [
      "\r",
      " 44%|████▎     | 260/597 [01:40<02:08,  2.63it/s]"
     ]
    },
    {
     "name": "stdout",
     "output_type": "stream",
     "text": [
      "bone-penn-298\n",
      "I'm doing the thing.\n"
     ]
    },
    {
     "name": "stderr",
     "output_type": "stream",
     "text": [
      "\r",
      " 44%|████▎     | 261/597 [01:40<01:55,  2.91it/s]"
     ]
    },
    {
     "name": "stdout",
     "output_type": "stream",
     "text": [
      "bone-penn-299\n",
      "I'm doing the thing.\n"
     ]
    },
    {
     "name": "stderr",
     "output_type": "stream",
     "text": [
      "\r",
      " 44%|████▍     | 262/597 [01:41<02:20,  2.38it/s]"
     ]
    },
    {
     "name": "stdout",
     "output_type": "stream",
     "text": [
      "bone-penn-300\n",
      "I'm doing the thing.\n"
     ]
    },
    {
     "name": "stderr",
     "output_type": "stream",
     "text": [
      "\r",
      " 44%|████▍     | 263/597 [01:41<02:06,  2.65it/s]"
     ]
    },
    {
     "name": "stdout",
     "output_type": "stream",
     "text": [
      "bone-penn-304\n",
      "I'm doing the thing.\n"
     ]
    },
    {
     "name": "stderr",
     "output_type": "stream",
     "text": [
      "\r",
      " 44%|████▍     | 264/597 [01:42<02:34,  2.16it/s]"
     ]
    },
    {
     "name": "stdout",
     "output_type": "stream",
     "text": [
      "bone-penn-305\n",
      "I'm doing the thing.\n"
     ]
    },
    {
     "name": "stderr",
     "output_type": "stream",
     "text": [
      "\r",
      " 44%|████▍     | 265/597 [01:42<02:33,  2.16it/s]"
     ]
    },
    {
     "name": "stdout",
     "output_type": "stream",
     "text": [
      "bone-penn-307\n",
      "I'm doing the thing.\n"
     ]
    },
    {
     "name": "stderr",
     "output_type": "stream",
     "text": [
      "\r",
      " 45%|████▍     | 266/597 [01:43<03:50,  1.44it/s]"
     ]
    },
    {
     "name": "stdout",
     "output_type": "stream",
     "text": [
      "bone-penn-311\n",
      "I'm doing the thing.\n"
     ]
    },
    {
     "name": "stderr",
     "output_type": "stream",
     "text": [
      "\r",
      " 45%|████▍     | 267/597 [01:45<04:28,  1.23it/s]"
     ]
    },
    {
     "name": "stdout",
     "output_type": "stream",
     "text": [
      "bone-penn-312\n",
      "I'm doing the thing.\n"
     ]
    },
    {
     "name": "stderr",
     "output_type": "stream",
     "text": [
      "\r",
      " 45%|████▍     | 268/597 [01:46<04:42,  1.16it/s]"
     ]
    },
    {
     "name": "stdout",
     "output_type": "stream",
     "text": [
      "bone-penn-313\n",
      "I'm doing the thing.\n"
     ]
    },
    {
     "name": "stderr",
     "output_type": "stream",
     "text": [
      "\r",
      " 45%|████▌     | 269/597 [01:46<04:19,  1.27it/s]"
     ]
    },
    {
     "name": "stdout",
     "output_type": "stream",
     "text": [
      "bone-penn-314\n",
      "I'm doing the thing.\n"
     ]
    },
    {
     "name": "stderr",
     "output_type": "stream",
     "text": [
      "\r",
      " 45%|████▌     | 270/597 [01:47<04:01,  1.36it/s]"
     ]
    },
    {
     "name": "stdout",
     "output_type": "stream",
     "text": [
      "bone-penn-316\n",
      "I'm doing the thing.\n"
     ]
    },
    {
     "name": "stderr",
     "output_type": "stream",
     "text": [
      " 46%|████▌     | 272/597 [01:47<02:31,  2.15it/s]"
     ]
    },
    {
     "name": "stdout",
     "output_type": "stream",
     "text": [
      "bone-penn-317\n",
      "I'm doing the thing.\n",
      "bone-penn-319\n",
      "I'm doing the thing.\n"
     ]
    },
    {
     "name": "stderr",
     "output_type": "stream",
     "text": [
      "\r",
      " 46%|████▌     | 274/597 [01:47<01:56,  2.77it/s]"
     ]
    },
    {
     "name": "stdout",
     "output_type": "stream",
     "text": [
      "bone-penn-320\n",
      "I'm doing the thing.\n",
      "bone-penn-322\n",
      "I'm doing the thing.\n"
     ]
    },
    {
     "name": "stderr",
     "output_type": "stream",
     "text": [
      " 46%|████▌     | 276/597 [01:48<01:27,  3.65it/s]"
     ]
    },
    {
     "name": "stdout",
     "output_type": "stream",
     "text": [
      "bone-penn-328\n",
      "I'm doing the thing.\n",
      "bone-penn-330\n",
      "I'm doing the thing.\n"
     ]
    },
    {
     "name": "stderr",
     "output_type": "stream",
     "text": [
      "\r",
      " 46%|████▋     | 277/597 [01:48<01:53,  2.81it/s]"
     ]
    },
    {
     "name": "stdout",
     "output_type": "stream",
     "text": [
      "bone-penn-332\n",
      "I'm doing the thing.\n"
     ]
    },
    {
     "name": "stderr",
     "output_type": "stream",
     "text": [
      "\r",
      " 47%|████▋     | 278/597 [01:49<02:09,  2.47it/s]"
     ]
    },
    {
     "name": "stdout",
     "output_type": "stream",
     "text": [
      "bone-penn-335\n",
      "I'm doing the thing.\n"
     ]
    },
    {
     "name": "stderr",
     "output_type": "stream",
     "text": [
      " 47%|████▋     | 280/597 [01:50<02:01,  2.62it/s]"
     ]
    },
    {
     "name": "stdout",
     "output_type": "stream",
     "text": [
      "bone-penn-337\n",
      "I'm doing the thing.\n",
      "bone-penn-338\n",
      "I'm doing the thing.\n"
     ]
    },
    {
     "name": "stderr",
     "output_type": "stream",
     "text": [
      "\r",
      " 47%|████▋     | 281/597 [01:50<01:39,  3.17it/s]"
     ]
    },
    {
     "name": "stdout",
     "output_type": "stream",
     "text": [
      "bone-penn-339\n",
      "I'm doing the thing.\n"
     ]
    },
    {
     "name": "stderr",
     "output_type": "stream",
     "text": [
      "\r",
      " 47%|████▋     | 282/597 [01:51<02:15,  2.32it/s]"
     ]
    },
    {
     "name": "stdout",
     "output_type": "stream",
     "text": [
      "bone-penn-340\n",
      "I'm doing the thing.\n"
     ]
    },
    {
     "name": "stderr",
     "output_type": "stream",
     "text": [
      "\r",
      " 47%|████▋     | 283/597 [01:51<02:27,  2.12it/s]"
     ]
    },
    {
     "name": "stdout",
     "output_type": "stream",
     "text": [
      "bone-penn-341\n",
      "I'm doing the thing.\n"
     ]
    },
    {
     "name": "stderr",
     "output_type": "stream",
     "text": [
      "\r",
      " 48%|████▊     | 284/597 [01:52<02:53,  1.81it/s]"
     ]
    },
    {
     "name": "stdout",
     "output_type": "stream",
     "text": [
      "bone-penn-342\n",
      "I'm doing the thing.\n"
     ]
    },
    {
     "name": "stderr",
     "output_type": "stream",
     "text": [
      " 48%|████▊     | 286/597 [01:52<01:54,  2.73it/s]"
     ]
    },
    {
     "name": "stdout",
     "output_type": "stream",
     "text": [
      "bone-penn-343\n",
      "I'm doing the thing.\n",
      "bone-penn-345\n",
      "I'm doing the thing.\n"
     ]
    },
    {
     "name": "stderr",
     "output_type": "stream",
     "text": [
      "\r",
      " 48%|████▊     | 287/597 [01:52<01:32,  3.35it/s]"
     ]
    },
    {
     "name": "stdout",
     "output_type": "stream",
     "text": [
      "bone-penn-346\n",
      "I'm doing the thing.\n"
     ]
    },
    {
     "name": "stderr",
     "output_type": "stream",
     "text": [
      "\r",
      " 48%|████▊     | 288/597 [01:53<01:32,  3.36it/s]"
     ]
    },
    {
     "name": "stdout",
     "output_type": "stream",
     "text": [
      "bone-penn-347\n",
      "I'm doing the thing.\n"
     ]
    },
    {
     "name": "stderr",
     "output_type": "stream",
     "text": [
      " 49%|████▊     | 290/597 [01:53<01:36,  3.18it/s]"
     ]
    },
    {
     "name": "stdout",
     "output_type": "stream",
     "text": [
      "bone-penn-348\n",
      "I'm doing the thing.\n",
      "bone-penn-349\n",
      "I'm doing the thing.\n"
     ]
    },
    {
     "name": "stderr",
     "output_type": "stream",
     "text": [
      "\r",
      " 49%|████▊     | 291/597 [01:54<01:26,  3.53it/s]"
     ]
    },
    {
     "name": "stdout",
     "output_type": "stream",
     "text": [
      "bone-penn-356\n",
      "I'm doing the thing.\n"
     ]
    },
    {
     "name": "stderr",
     "output_type": "stream",
     "text": [
      "\r",
      " 49%|████▉     | 292/597 [01:56<03:54,  1.30it/s]"
     ]
    },
    {
     "name": "stdout",
     "output_type": "stream",
     "text": [
      "bone-penn-362\n",
      "I'm doing the thing.\n"
     ]
    },
    {
     "name": "stderr",
     "output_type": "stream",
     "text": [
      "\r",
      " 49%|████▉     | 293/597 [01:56<03:52,  1.31it/s]"
     ]
    },
    {
     "name": "stdout",
     "output_type": "stream",
     "text": [
      "bone-penn-363\n",
      "I'm doing the thing.\n"
     ]
    },
    {
     "name": "stderr",
     "output_type": "stream",
     "text": [
      "\r",
      " 49%|████▉     | 294/597 [01:57<04:26,  1.14it/s]"
     ]
    },
    {
     "name": "stdout",
     "output_type": "stream",
     "text": [
      "bone-penn-364\n",
      "I'm doing the thing.\n"
     ]
    },
    {
     "name": "stderr",
     "output_type": "stream",
     "text": [
      "\r",
      " 49%|████▉     | 295/597 [01:58<04:01,  1.25it/s]"
     ]
    },
    {
     "name": "stdout",
     "output_type": "stream",
     "text": [
      "bone-penn-367\n",
      "I'm doing the thing.\n",
      "bone-penn-368\n",
      "I'm doing the thing.\n"
     ]
    },
    {
     "name": "stderr",
     "output_type": "stream",
     "text": [
      " 50%|████▉     | 298/597 [01:58<02:22,  2.10it/s]"
     ]
    },
    {
     "name": "stdout",
     "output_type": "stream",
     "text": [
      "bone-penn-369\n",
      "I'm doing the thing.\n",
      "bone-penn-370\n",
      "I'm doing the thing.\n"
     ]
    },
    {
     "name": "stderr",
     "output_type": "stream",
     "text": [
      "\r",
      " 50%|█████     | 299/597 [01:59<02:01,  2.45it/s]"
     ]
    },
    {
     "name": "stdout",
     "output_type": "stream",
     "text": [
      "bone-penn-372\n",
      "I'm doing the thing.\n"
     ]
    },
    {
     "name": "stderr",
     "output_type": "stream",
     "text": [
      "\r",
      " 50%|█████     | 300/597 [01:59<02:10,  2.28it/s]"
     ]
    },
    {
     "name": "stdout",
     "output_type": "stream",
     "text": [
      "bone-penn-374\n",
      "I'm doing the thing.\n"
     ]
    },
    {
     "name": "stderr",
     "output_type": "stream",
     "text": [
      "\r",
      " 50%|█████     | 301/597 [02:00<02:10,  2.27it/s]"
     ]
    },
    {
     "name": "stdout",
     "output_type": "stream",
     "text": [
      "bone-penn-375\n",
      "I'm doing the thing.\n"
     ]
    },
    {
     "name": "stderr",
     "output_type": "stream",
     "text": [
      "\r",
      " 51%|█████     | 302/597 [02:00<02:03,  2.39it/s]"
     ]
    },
    {
     "name": "stdout",
     "output_type": "stream",
     "text": [
      "bone-penn-379\n",
      "I'm doing the thing.\n"
     ]
    },
    {
     "name": "stderr",
     "output_type": "stream",
     "text": [
      "\r",
      " 51%|█████     | 303/597 [02:00<01:45,  2.80it/s]"
     ]
    },
    {
     "name": "stdout",
     "output_type": "stream",
     "text": [
      "bone-penn-380\n",
      "I'm doing the thing.\n"
     ]
    },
    {
     "name": "stderr",
     "output_type": "stream",
     "text": [
      " 51%|█████     | 305/597 [02:01<01:35,  3.05it/s]"
     ]
    },
    {
     "name": "stdout",
     "output_type": "stream",
     "text": [
      "bone-penn-382\n",
      "I'm doing the thing.\n",
      "bone-penn-384\n",
      "I'm doing the thing.\n"
     ]
    },
    {
     "name": "stderr",
     "output_type": "stream",
     "text": [
      "\r",
      " 51%|█████▏    | 306/597 [02:01<01:23,  3.48it/s]"
     ]
    },
    {
     "name": "stdout",
     "output_type": "stream",
     "text": [
      "bone-penn-385\n",
      "I'm doing the thing.\n"
     ]
    },
    {
     "name": "stderr",
     "output_type": "stream",
     "text": [
      "\r",
      " 51%|█████▏    | 307/597 [02:02<01:51,  2.61it/s]"
     ]
    },
    {
     "name": "stdout",
     "output_type": "stream",
     "text": [
      "bone-penn-386\n",
      "I'm doing the thing.\n"
     ]
    },
    {
     "name": "stderr",
     "output_type": "stream",
     "text": [
      "\r",
      " 52%|█████▏    | 308/597 [02:02<02:06,  2.28it/s]"
     ]
    },
    {
     "name": "stdout",
     "output_type": "stream",
     "text": [
      "bone-penn-388\n",
      "I'm doing the thing.\n",
      "bone-penn-391\n",
      "I'm doing the thing.\n"
     ]
    },
    {
     "name": "stderr",
     "output_type": "stream",
     "text": [
      "\r",
      " 52%|█████▏    | 310/597 [02:03<01:43,  2.78it/s]"
     ]
    },
    {
     "name": "stdout",
     "output_type": "stream",
     "text": [
      "bone-penn-392\n",
      "I'm doing the thing.\n"
     ]
    },
    {
     "name": "stderr",
     "output_type": "stream",
     "text": [
      "\r",
      " 52%|█████▏    | 311/597 [02:03<02:16,  2.09it/s]"
     ]
    },
    {
     "name": "stdout",
     "output_type": "stream",
     "text": [
      "bone-penn-396\n",
      "I'm doing the thing.\n"
     ]
    },
    {
     "name": "stderr",
     "output_type": "stream",
     "text": [
      "\r",
      " 52%|█████▏    | 312/597 [02:04<02:59,  1.59it/s]"
     ]
    },
    {
     "name": "stdout",
     "output_type": "stream",
     "text": [
      "bone-penn-397\n",
      "I'm doing the thing.\n"
     ]
    },
    {
     "name": "stderr",
     "output_type": "stream",
     "text": [
      "\r",
      " 52%|█████▏    | 313/597 [02:06<04:06,  1.15it/s]"
     ]
    },
    {
     "name": "stdout",
     "output_type": "stream",
     "text": [
      "bone-penn-405\n",
      "I'm doing the thing.\n"
     ]
    },
    {
     "name": "stderr",
     "output_type": "stream",
     "text": [
      "\r",
      " 53%|█████▎    | 314/597 [02:06<03:31,  1.34it/s]"
     ]
    },
    {
     "name": "stdout",
     "output_type": "stream",
     "text": [
      "bone-penn-413\n",
      "I'm doing the thing.\n"
     ]
    },
    {
     "name": "stderr",
     "output_type": "stream",
     "text": [
      "\r",
      " 53%|█████▎    | 315/597 [02:07<03:02,  1.54it/s]"
     ]
    },
    {
     "name": "stdout",
     "output_type": "stream",
     "text": [
      "bone-penn-425\n",
      "I'm doing the thing.\n"
     ]
    },
    {
     "name": "stderr",
     "output_type": "stream",
     "text": [
      "\r",
      " 53%|█████▎    | 316/597 [02:08<03:19,  1.41it/s]"
     ]
    },
    {
     "name": "stdout",
     "output_type": "stream",
     "text": [
      "bone-penn-429\n",
      "I'm doing the thing.\n"
     ]
    },
    {
     "name": "stderr",
     "output_type": "stream",
     "text": [
      "\r",
      " 53%|█████▎    | 317/597 [02:08<03:01,  1.54it/s]"
     ]
    },
    {
     "name": "stdout",
     "output_type": "stream",
     "text": [
      "bone-penn-433\n",
      "I'm doing the thing.\n"
     ]
    },
    {
     "name": "stderr",
     "output_type": "stream",
     "text": [
      "\r",
      " 53%|█████▎    | 318/597 [02:09<03:52,  1.20it/s]"
     ]
    },
    {
     "name": "stdout",
     "output_type": "stream",
     "text": [
      "bone-penn-435\n",
      "I'm doing the thing.\n"
     ]
    },
    {
     "name": "stderr",
     "output_type": "stream",
     "text": [
      "\r",
      " 53%|█████▎    | 319/597 [02:10<03:02,  1.52it/s]"
     ]
    },
    {
     "name": "stdout",
     "output_type": "stream",
     "text": [
      "bone-penn-446\n",
      "I'm doing the thing.\n"
     ]
    },
    {
     "name": "stderr",
     "output_type": "stream",
     "text": [
      "\r",
      " 54%|█████▎    | 320/597 [02:10<02:40,  1.73it/s]"
     ]
    },
    {
     "name": "stdout",
     "output_type": "stream",
     "text": [
      "bone-penn-453\n",
      "I'm doing the thing.\n"
     ]
    },
    {
     "name": "stderr",
     "output_type": "stream",
     "text": [
      " 54%|█████▍    | 322/597 [02:11<01:54,  2.39it/s]"
     ]
    },
    {
     "name": "stdout",
     "output_type": "stream",
     "text": [
      "bone-penn-454\n",
      "I'm doing the thing.\n",
      "bone-penn-457\n",
      "I'm doing the thing.\n"
     ]
    },
    {
     "name": "stderr",
     "output_type": "stream",
     "text": [
      "\r",
      " 54%|█████▍    | 323/597 [02:11<01:33,  2.92it/s]"
     ]
    },
    {
     "name": "stdout",
     "output_type": "stream",
     "text": [
      "bone-penn-458\n",
      "I'm doing the thing.\n"
     ]
    },
    {
     "name": "stderr",
     "output_type": "stream",
     "text": [
      " 54%|█████▍    | 325/597 [02:12<01:41,  2.68it/s]"
     ]
    },
    {
     "name": "stdout",
     "output_type": "stream",
     "text": [
      "bone-penn-459\n",
      "I'm doing the thing.\n",
      "bone-penn-460\n",
      "I'm doing the thing.\n"
     ]
    },
    {
     "name": "stderr",
     "output_type": "stream",
     "text": [
      "\r",
      " 55%|█████▍    | 326/597 [02:12<01:29,  3.03it/s]"
     ]
    },
    {
     "name": "stdout",
     "output_type": "stream",
     "text": [
      "bone-penn-461\n",
      "I'm doing the thing.\n"
     ]
    },
    {
     "name": "stderr",
     "output_type": "stream",
     "text": [
      "\r",
      " 55%|█████▍    | 327/597 [02:12<01:42,  2.63it/s]"
     ]
    },
    {
     "name": "stdout",
     "output_type": "stream",
     "text": [
      "bone-penn-463\n",
      "I'm doing the thing.\n"
     ]
    },
    {
     "name": "stderr",
     "output_type": "stream",
     "text": [
      "\r",
      " 55%|█████▍    | 328/597 [02:13<01:31,  2.94it/s]"
     ]
    },
    {
     "name": "stdout",
     "output_type": "stream",
     "text": [
      "bone-penn-465\n",
      "I'm doing the thing.\n"
     ]
    },
    {
     "name": "stderr",
     "output_type": "stream",
     "text": [
      "\r",
      " 55%|█████▌    | 329/597 [02:14<02:28,  1.80it/s]"
     ]
    },
    {
     "name": "stdout",
     "output_type": "stream",
     "text": [
      "bone-penn-467\n",
      "I'm doing the thing.\n"
     ]
    },
    {
     "name": "stderr",
     "output_type": "stream",
     "text": [
      "\r",
      " 55%|█████▌    | 330/597 [02:14<02:06,  2.10it/s]"
     ]
    },
    {
     "name": "stdout",
     "output_type": "stream",
     "text": [
      "bone-penn-471\n",
      "I'm doing the thing.\n"
     ]
    },
    {
     "name": "stderr",
     "output_type": "stream",
     "text": [
      " 56%|█████▌    | 332/597 [02:14<01:31,  2.88it/s]"
     ]
    },
    {
     "name": "stdout",
     "output_type": "stream",
     "text": [
      "bone-penn-473\n",
      "I'm doing the thing.\n",
      "bone-penn-476\n",
      "I'm doing the thing.\n"
     ]
    },
    {
     "name": "stderr",
     "output_type": "stream",
     "text": [
      "\r",
      " 56%|█████▌    | 333/597 [02:15<01:15,  3.49it/s]"
     ]
    },
    {
     "name": "stdout",
     "output_type": "stream",
     "text": [
      "bone-penn-478\n",
      "I'm doing the thing.\n"
     ]
    },
    {
     "name": "stderr",
     "output_type": "stream",
     "text": [
      "\r",
      " 56%|█████▌    | 334/597 [02:15<01:24,  3.10it/s]"
     ]
    },
    {
     "name": "stdout",
     "output_type": "stream",
     "text": [
      "bone-penn-480\n",
      "I'm doing the thing.\n"
     ]
    },
    {
     "name": "stderr",
     "output_type": "stream",
     "text": [
      "\r",
      " 56%|█████▌    | 335/597 [02:16<01:51,  2.35it/s]"
     ]
    },
    {
     "name": "stdout",
     "output_type": "stream",
     "text": [
      "bone-penn-482\n",
      "I'm doing the thing.\n"
     ]
    },
    {
     "name": "stderr",
     "output_type": "stream",
     "text": [
      "\r",
      " 56%|█████▋    | 336/597 [02:18<04:25,  1.02s/it]"
     ]
    },
    {
     "name": "stdout",
     "output_type": "stream",
     "text": [
      "bone-penn-484\n",
      "I'm doing the thing.\n"
     ]
    },
    {
     "name": "stderr",
     "output_type": "stream",
     "text": [
      "\r",
      " 56%|█████▋    | 337/597 [02:18<03:36,  1.20it/s]"
     ]
    },
    {
     "name": "stdout",
     "output_type": "stream",
     "text": [
      "bone-penn-487\n",
      "I'm doing the thing.\n"
     ]
    },
    {
     "name": "stderr",
     "output_type": "stream",
     "text": [
      "\r",
      " 57%|█████▋    | 338/597 [02:19<03:50,  1.13it/s]"
     ]
    },
    {
     "name": "stdout",
     "output_type": "stream",
     "text": [
      "bone-penn-489\n",
      "I'm doing the thing.\n"
     ]
    },
    {
     "name": "stderr",
     "output_type": "stream",
     "text": [
      "\r",
      " 57%|█████▋    | 339/597 [02:20<03:39,  1.18it/s]"
     ]
    },
    {
     "name": "stdout",
     "output_type": "stream",
     "text": [
      "bone-penn-490\n",
      "I'm doing the thing.\n"
     ]
    },
    {
     "name": "stderr",
     "output_type": "stream",
     "text": [
      "\r",
      " 57%|█████▋    | 340/597 [02:22<04:22,  1.02s/it]"
     ]
    },
    {
     "name": "stdout",
     "output_type": "stream",
     "text": [
      "bone-penn-494\n",
      "I'm doing the thing.\n"
     ]
    },
    {
     "name": "stderr",
     "output_type": "stream",
     "text": [
      "\r",
      " 57%|█████▋    | 341/597 [02:23<04:42,  1.10s/it]"
     ]
    },
    {
     "name": "stdout",
     "output_type": "stream",
     "text": [
      "bone-penn-495\n",
      "I'm doing the thing.\n"
     ]
    },
    {
     "name": "stderr",
     "output_type": "stream",
     "text": [
      "\r",
      " 57%|█████▋    | 342/597 [02:23<03:37,  1.17it/s]"
     ]
    },
    {
     "name": "stdout",
     "output_type": "stream",
     "text": [
      "bone-penn-496\n",
      "I'm doing the thing.\n"
     ]
    },
    {
     "name": "stderr",
     "output_type": "stream",
     "text": [
      " 58%|█████▊    | 344/597 [02:24<02:55,  1.44it/s]"
     ]
    },
    {
     "name": "stdout",
     "output_type": "stream",
     "text": [
      "bone-penn-497\n",
      "I'm doing the thing.\n",
      "bone-penn-501\n",
      "I'm doing the thing.\n"
     ]
    },
    {
     "name": "stderr",
     "output_type": "stream",
     "text": [
      " 58%|█████▊    | 346/597 [02:25<01:48,  2.32it/s]"
     ]
    },
    {
     "name": "stdout",
     "output_type": "stream",
     "text": [
      "bone-penn-503\n",
      "I'm doing the thing.\n",
      "bone-penn-506\n",
      "I'm doing the thing.\n"
     ]
    },
    {
     "name": "stderr",
     "output_type": "stream",
     "text": [
      " 58%|█████▊    | 348/597 [02:25<01:22,  3.04it/s]"
     ]
    },
    {
     "name": "stdout",
     "output_type": "stream",
     "text": [
      "bone-penn-509\n",
      "I'm doing the thing.\n",
      "bone-penn-512\n",
      "I'm doing the thing.\n"
     ]
    },
    {
     "name": "stderr",
     "output_type": "stream",
     "text": [
      "\r",
      " 58%|█████▊    | 349/597 [02:25<01:08,  3.62it/s]"
     ]
    },
    {
     "name": "stdout",
     "output_type": "stream",
     "text": [
      "bone-penn-514\n",
      "I'm doing the thing.\n"
     ]
    },
    {
     "name": "stderr",
     "output_type": "stream",
     "text": [
      "\r",
      " 59%|█████▊    | 350/597 [02:26<01:28,  2.79it/s]"
     ]
    },
    {
     "name": "stdout",
     "output_type": "stream",
     "text": [
      "bone-penn-515\n",
      "I'm doing the thing.\n"
     ]
    },
    {
     "name": "stderr",
     "output_type": "stream",
     "text": [
      "\r",
      " 59%|█████▉    | 351/597 [02:27<01:54,  2.15it/s]"
     ]
    },
    {
     "name": "stdout",
     "output_type": "stream",
     "text": [
      "bone-penn-516\n",
      "I'm doing the thing.\n"
     ]
    },
    {
     "name": "stderr",
     "output_type": "stream",
     "text": [
      "\r",
      " 59%|█████▉    | 352/597 [02:27<02:15,  1.81it/s]"
     ]
    },
    {
     "name": "stdout",
     "output_type": "stream",
     "text": [
      "bone-penn-517\n",
      "I'm doing the thing.\n"
     ]
    },
    {
     "name": "stderr",
     "output_type": "stream",
     "text": [
      "\r",
      " 59%|█████▉    | 353/597 [02:28<02:29,  1.63it/s]"
     ]
    },
    {
     "name": "stdout",
     "output_type": "stream",
     "text": [
      "bone-penn-518\n",
      "I'm doing the thing.\n"
     ]
    },
    {
     "name": "stderr",
     "output_type": "stream",
     "text": [
      "\r",
      " 59%|█████▉    | 354/597 [02:29<02:50,  1.42it/s]"
     ]
    },
    {
     "name": "stdout",
     "output_type": "stream",
     "text": [
      "bone-penn-520\n",
      "I'm doing the thing.\n"
     ]
    },
    {
     "name": "stderr",
     "output_type": "stream",
     "text": [
      "\r",
      " 59%|█████▉    | 355/597 [02:29<02:22,  1.70it/s]"
     ]
    },
    {
     "name": "stdout",
     "output_type": "stream",
     "text": [
      "bone-penn-521\n",
      "I'm doing the thing.\n"
     ]
    },
    {
     "name": "stderr",
     "output_type": "stream",
     "text": [
      "\r",
      " 60%|█████▉    | 356/597 [02:31<03:03,  1.32it/s]"
     ]
    },
    {
     "name": "stdout",
     "output_type": "stream",
     "text": [
      "bone-penn-522\n",
      "I'm doing the thing.\n"
     ]
    },
    {
     "name": "stderr",
     "output_type": "stream",
     "text": [
      "\r",
      " 60%|█████▉    | 357/597 [02:31<02:57,  1.35it/s]"
     ]
    },
    {
     "name": "stdout",
     "output_type": "stream",
     "text": [
      "bone-penn-527\n",
      "I'm doing the thing.\n"
     ]
    },
    {
     "name": "stderr",
     "output_type": "stream",
     "text": [
      " 60%|██████    | 359/597 [02:32<01:49,  2.18it/s]"
     ]
    },
    {
     "name": "stdout",
     "output_type": "stream",
     "text": [
      "bone-penn-528\n",
      "I'm doing the thing.\n",
      "bone-penn-529\n",
      "I'm doing the thing.\n"
     ]
    },
    {
     "name": "stderr",
     "output_type": "stream",
     "text": [
      "\r",
      " 60%|██████    | 360/597 [02:32<02:02,  1.93it/s]"
     ]
    },
    {
     "name": "stdout",
     "output_type": "stream",
     "text": [
      "bone-penn-530\n",
      "I'm doing the thing.\n"
     ]
    },
    {
     "name": "stderr",
     "output_type": "stream",
     "text": [
      "\r",
      " 60%|██████    | 361/597 [02:33<01:41,  2.33it/s]"
     ]
    },
    {
     "name": "stdout",
     "output_type": "stream",
     "text": [
      "bone-penn-535\n",
      "I'm doing the thing.\n"
     ]
    },
    {
     "name": "stderr",
     "output_type": "stream",
     "text": [
      "\r",
      " 61%|██████    | 362/597 [02:33<02:01,  1.94it/s]"
     ]
    },
    {
     "name": "stdout",
     "output_type": "stream",
     "text": [
      "bone-penn-536\n",
      "I'm doing the thing.\n"
     ]
    },
    {
     "name": "stderr",
     "output_type": "stream",
     "text": [
      "\r",
      " 61%|██████    | 363/597 [02:34<02:08,  1.81it/s]"
     ]
    },
    {
     "name": "stdout",
     "output_type": "stream",
     "text": [
      "bone-penn-538\n",
      "I'm doing the thing.\n"
     ]
    },
    {
     "name": "stderr",
     "output_type": "stream",
     "text": [
      "\r",
      " 61%|██████    | 364/597 [02:35<03:03,  1.27it/s]"
     ]
    },
    {
     "name": "stdout",
     "output_type": "stream",
     "text": [
      "bone-penn-541\n",
      "I'm doing the thing.\n"
     ]
    },
    {
     "name": "stderr",
     "output_type": "stream",
     "text": [
      "\r",
      " 61%|██████    | 365/597 [02:36<02:32,  1.52it/s]"
     ]
    },
    {
     "name": "stdout",
     "output_type": "stream",
     "text": [
      "bone-penn-546\n",
      "I'm doing the thing.\n"
     ]
    },
    {
     "name": "stderr",
     "output_type": "stream",
     "text": [
      "\r",
      " 61%|██████▏   | 366/597 [02:36<02:36,  1.48it/s]"
     ]
    },
    {
     "name": "stdout",
     "output_type": "stream",
     "text": [
      "bone-penn-548\n",
      "I'm doing the thing.\n"
     ]
    },
    {
     "name": "stderr",
     "output_type": "stream",
     "text": [
      " 62%|██████▏   | 368/597 [02:37<02:02,  1.86it/s]"
     ]
    },
    {
     "name": "stdout",
     "output_type": "stream",
     "text": [
      "bone-penn-549\n",
      "I'm doing the thing.\n",
      "bone-penn-551\n",
      "I'm doing the thing.\n"
     ]
    },
    {
     "name": "stderr",
     "output_type": "stream",
     "text": [
      "\r",
      " 62%|██████▏   | 369/597 [02:38<01:44,  2.19it/s]"
     ]
    },
    {
     "name": "stdout",
     "output_type": "stream",
     "text": [
      "bone-penn-555\n",
      "I'm doing the thing.\n"
     ]
    },
    {
     "name": "stderr",
     "output_type": "stream",
     "text": [
      "\r",
      " 62%|██████▏   | 370/597 [02:38<02:12,  1.71it/s]"
     ]
    },
    {
     "name": "stdout",
     "output_type": "stream",
     "text": [
      "bone-penn-556\n",
      "I'm doing the thing.\n"
     ]
    },
    {
     "name": "stderr",
     "output_type": "stream",
     "text": [
      "\r",
      " 62%|██████▏   | 371/597 [02:39<02:05,  1.80it/s]"
     ]
    },
    {
     "name": "stdout",
     "output_type": "stream",
     "text": [
      "bone-penn-561\n",
      "I'm doing the thing.\n"
     ]
    },
    {
     "name": "stderr",
     "output_type": "stream",
     "text": [
      "\r",
      " 62%|██████▏   | 372/597 [02:39<01:55,  1.95it/s]"
     ]
    },
    {
     "name": "stdout",
     "output_type": "stream",
     "text": [
      "bone-penn-565\n",
      "I'm doing the thing.\n"
     ]
    },
    {
     "name": "stderr",
     "output_type": "stream",
     "text": [
      "\r",
      " 62%|██████▏   | 373/597 [02:41<02:51,  1.31it/s]"
     ]
    },
    {
     "name": "stdout",
     "output_type": "stream",
     "text": [
      "bone-penn-568\n",
      "I'm doing the thing.\n"
     ]
    },
    {
     "name": "stderr",
     "output_type": "stream",
     "text": [
      "\r",
      " 63%|██████▎   | 374/597 [02:41<02:28,  1.50it/s]"
     ]
    },
    {
     "name": "stdout",
     "output_type": "stream",
     "text": [
      "bone-penn-571\n",
      "I'm doing the thing.\n"
     ]
    },
    {
     "name": "stderr",
     "output_type": "stream",
     "text": [
      "\r",
      " 63%|██████▎   | 375/597 [02:42<02:52,  1.29it/s]"
     ]
    },
    {
     "name": "stdout",
     "output_type": "stream",
     "text": [
      "bone-penn-572\n",
      "I'm doing the thing.\n"
     ]
    },
    {
     "name": "stderr",
     "output_type": "stream",
     "text": [
      "\r",
      " 63%|██████▎   | 376/597 [02:42<02:23,  1.54it/s]"
     ]
    },
    {
     "name": "stdout",
     "output_type": "stream",
     "text": [
      "bone-penn-575\n",
      "I'm doing the thing.\n"
     ]
    },
    {
     "name": "stderr",
     "output_type": "stream",
     "text": [
      "\r",
      " 63%|██████▎   | 377/597 [02:43<02:42,  1.35it/s]"
     ]
    },
    {
     "name": "stdout",
     "output_type": "stream",
     "text": [
      "bone-penn-577\n",
      "I'm doing the thing.\n"
     ]
    },
    {
     "name": "stderr",
     "output_type": "stream",
     "text": [
      "\r",
      " 63%|██████▎   | 378/597 [02:44<02:54,  1.26it/s]"
     ]
    },
    {
     "name": "stdout",
     "output_type": "stream",
     "text": [
      "bone-penn-578\n",
      "I'm doing the thing.\n"
     ]
    },
    {
     "name": "stderr",
     "output_type": "stream",
     "text": [
      " 64%|██████▎   | 380/597 [02:46<02:58,  1.22it/s]"
     ]
    },
    {
     "name": "stdout",
     "output_type": "stream",
     "text": [
      "bone-penn-579\n",
      "I'm doing the thing.\n",
      "bone-penn-585\n",
      "I'm doing the thing.\n"
     ]
    },
    {
     "name": "stderr",
     "output_type": "stream",
     "text": [
      " 64%|██████▍   | 382/597 [02:47<01:49,  1.96it/s]"
     ]
    },
    {
     "name": "stdout",
     "output_type": "stream",
     "text": [
      "bone-penn-586\n",
      "I'm doing the thing.\n",
      "bone-penn-587\n",
      "I'm doing the thing.\n"
     ]
    },
    {
     "name": "stderr",
     "output_type": "stream",
     "text": [
      "\r",
      " 64%|██████▍   | 383/597 [02:47<01:48,  1.97it/s]"
     ]
    },
    {
     "name": "stdout",
     "output_type": "stream",
     "text": [
      "bone-penn-588\n",
      "I'm doing the thing.\n"
     ]
    },
    {
     "name": "stderr",
     "output_type": "stream",
     "text": [
      "\r",
      " 64%|██████▍   | 384/597 [02:48<01:51,  1.92it/s]"
     ]
    },
    {
     "name": "stdout",
     "output_type": "stream",
     "text": [
      "bone-penn-589\n",
      "I'm doing the thing.\n"
     ]
    },
    {
     "name": "stderr",
     "output_type": "stream",
     "text": [
      "\r",
      " 64%|██████▍   | 385/597 [02:48<01:49,  1.93it/s]"
     ]
    },
    {
     "name": "stdout",
     "output_type": "stream",
     "text": [
      "bone-penn-591\n",
      "I'm doing the thing.\n"
     ]
    },
    {
     "name": "stderr",
     "output_type": "stream",
     "text": [
      " 65%|██████▍   | 387/597 [02:49<01:28,  2.37it/s]"
     ]
    },
    {
     "name": "stdout",
     "output_type": "stream",
     "text": [
      "bone-penn-592\n",
      "I'm doing the thing.\n",
      "bone-penn-593\n",
      "I'm doing the thing.\n"
     ]
    },
    {
     "name": "stderr",
     "output_type": "stream",
     "text": [
      " 65%|██████▌   | 389/597 [02:49<00:56,  3.69it/s]"
     ]
    },
    {
     "name": "stdout",
     "output_type": "stream",
     "text": [
      "bone-penn-596\n",
      "I'm doing the thing.\n",
      "bone-penn-597\n",
      "I'm doing the thing.\n"
     ]
    },
    {
     "name": "stderr",
     "output_type": "stream",
     "text": [
      "\r",
      " 65%|██████▌   | 390/597 [02:53<04:37,  1.34s/it]"
     ]
    },
    {
     "name": "stdout",
     "output_type": "stream",
     "text": [
      "bone-penn-598\n",
      "I'm doing the thing.\n"
     ]
    },
    {
     "name": "stderr",
     "output_type": "stream",
     "text": [
      "\r",
      " 65%|██████▌   | 391/597 [02:54<04:08,  1.21s/it]"
     ]
    },
    {
     "name": "stdout",
     "output_type": "stream",
     "text": [
      "bone-penn-599\n",
      "I'm doing the thing.\n"
     ]
    },
    {
     "name": "stderr",
     "output_type": "stream",
     "text": [
      "\r",
      " 66%|██████▌   | 392/597 [02:55<03:20,  1.02it/s]"
     ]
    },
    {
     "name": "stdout",
     "output_type": "stream",
     "text": [
      "bone-penn-600\n",
      "I'm doing the thing.\n"
     ]
    },
    {
     "name": "stderr",
     "output_type": "stream",
     "text": [
      "\r",
      " 66%|██████▌   | 393/597 [02:55<02:37,  1.29it/s]"
     ]
    },
    {
     "name": "stdout",
     "output_type": "stream",
     "text": [
      "bone-penn-601\n",
      "I'm doing the thing.\n"
     ]
    },
    {
     "name": "stderr",
     "output_type": "stream",
     "text": [
      "\r",
      " 66%|██████▌   | 394/597 [02:56<03:30,  1.04s/it]"
     ]
    },
    {
     "name": "stdout",
     "output_type": "stream",
     "text": [
      "bone-penn-602\n",
      "I'm doing the thing.\n"
     ]
    },
    {
     "name": "stderr",
     "output_type": "stream",
     "text": [
      "\r",
      " 66%|██████▌   | 395/597 [02:57<03:08,  1.07it/s]"
     ]
    },
    {
     "name": "stdout",
     "output_type": "stream",
     "text": [
      "bone-penn-603\n",
      "I'm doing the thing.\n"
     ]
    },
    {
     "name": "stderr",
     "output_type": "stream",
     "text": [
      "\r",
      " 66%|██████▋   | 396/597 [02:58<02:59,  1.12it/s]"
     ]
    },
    {
     "name": "stdout",
     "output_type": "stream",
     "text": [
      "bone-penn-605\n",
      "I'm doing the thing.\n"
     ]
    },
    {
     "name": "stderr",
     "output_type": "stream",
     "text": [
      "\r",
      " 66%|██████▋   | 397/597 [02:58<02:19,  1.44it/s]"
     ]
    },
    {
     "name": "stdout",
     "output_type": "stream",
     "text": [
      "bone-penn-606\n",
      "I'm doing the thing.\n"
     ]
    },
    {
     "name": "stderr",
     "output_type": "stream",
     "text": [
      "\r",
      " 67%|██████▋   | 398/597 [02:59<02:01,  1.64it/s]"
     ]
    },
    {
     "name": "stdout",
     "output_type": "stream",
     "text": [
      "bone-penn-609\n",
      "I'm doing the thing.\n"
     ]
    },
    {
     "name": "stderr",
     "output_type": "stream",
     "text": [
      "\r",
      " 67%|██████▋   | 399/597 [03:00<02:24,  1.37it/s]"
     ]
    },
    {
     "name": "stdout",
     "output_type": "stream",
     "text": [
      "bone-penn-610\n",
      "I'm doing the thing.\n"
     ]
    },
    {
     "name": "stderr",
     "output_type": "stream",
     "text": [
      " 67%|██████▋   | 401/597 [03:00<01:35,  2.05it/s]"
     ]
    },
    {
     "name": "stdout",
     "output_type": "stream",
     "text": [
      "bone-penn-611\n",
      "I'm doing the thing.\n",
      "bone-penn-613\n",
      "I'm doing the thing.\n"
     ]
    },
    {
     "name": "stderr",
     "output_type": "stream",
     "text": [
      "\r",
      " 67%|██████▋   | 402/597 [03:00<01:18,  2.47it/s]"
     ]
    },
    {
     "name": "stdout",
     "output_type": "stream",
     "text": [
      "bone-penn-614\n",
      "I'm doing the thing.\n"
     ]
    },
    {
     "name": "stderr",
     "output_type": "stream",
     "text": [
      "\r",
      " 68%|██████▊   | 403/597 [03:01<01:29,  2.16it/s]"
     ]
    },
    {
     "name": "stdout",
     "output_type": "stream",
     "text": [
      "bone-penn-615\n",
      "I'm doing the thing.\n"
     ]
    },
    {
     "name": "stderr",
     "output_type": "stream",
     "text": [
      "\r",
      " 68%|██████▊   | 404/597 [03:02<01:50,  1.74it/s]"
     ]
    },
    {
     "name": "stdout",
     "output_type": "stream",
     "text": [
      "bone-penn-616\n",
      "I'm doing the thing.\n"
     ]
    },
    {
     "name": "stderr",
     "output_type": "stream",
     "text": [
      "\r",
      " 68%|██████▊   | 405/597 [03:02<01:39,  1.93it/s]"
     ]
    },
    {
     "name": "stdout",
     "output_type": "stream",
     "text": [
      "bone-penn-617\n",
      "I'm doing the thing.\n"
     ]
    },
    {
     "name": "stderr",
     "output_type": "stream",
     "text": [
      " 68%|██████▊   | 407/597 [03:04<02:07,  1.49it/s]"
     ]
    },
    {
     "name": "stdout",
     "output_type": "stream",
     "text": [
      "bone-penn-619\n",
      "I'm doing the thing.\n",
      "bone-penn-620\n",
      "I'm doing the thing.\n"
     ]
    },
    {
     "name": "stderr",
     "output_type": "stream",
     "text": [
      "\r",
      " 68%|██████▊   | 408/597 [03:05<01:59,  1.58it/s]"
     ]
    },
    {
     "name": "stdout",
     "output_type": "stream",
     "text": [
      "bone-penn-621\n",
      "I'm doing the thing.\n"
     ]
    },
    {
     "name": "stderr",
     "output_type": "stream",
     "text": [
      "\r",
      " 69%|██████▊   | 409/597 [03:06<02:59,  1.05it/s]"
     ]
    },
    {
     "name": "stdout",
     "output_type": "stream",
     "text": [
      "bone-penn-622\n",
      "I'm doing the thing.\n"
     ]
    },
    {
     "name": "stderr",
     "output_type": "stream",
     "text": [
      " 69%|██████▉   | 411/597 [03:07<01:57,  1.59it/s]"
     ]
    },
    {
     "name": "stdout",
     "output_type": "stream",
     "text": [
      "bone-penn-623\n",
      "I'm doing the thing.\n",
      "bone-penn-624\n",
      "I'm doing the thing.\n"
     ]
    },
    {
     "name": "stderr",
     "output_type": "stream",
     "text": [
      " 69%|██████▉   | 413/597 [03:08<01:24,  2.18it/s]"
     ]
    },
    {
     "name": "stdout",
     "output_type": "stream",
     "text": [
      "bone-penn-625\n",
      "I'm doing the thing.\n",
      "bone-penn-626\n",
      "I'm doing the thing.\n"
     ]
    },
    {
     "name": "stderr",
     "output_type": "stream",
     "text": [
      "\r",
      " 69%|██████▉   | 414/597 [03:08<01:04,  2.83it/s]"
     ]
    },
    {
     "name": "stdout",
     "output_type": "stream",
     "text": [
      "bone-penn-627\n",
      "I'm doing the thing.\n"
     ]
    },
    {
     "name": "stderr",
     "output_type": "stream",
     "text": [
      "\r",
      " 70%|██████▉   | 415/597 [03:09<01:45,  1.73it/s]"
     ]
    },
    {
     "name": "stdout",
     "output_type": "stream",
     "text": [
      "bone-penn-629\n",
      "I'm doing the thing.\n"
     ]
    },
    {
     "name": "stderr",
     "output_type": "stream",
     "text": [
      "\r",
      " 70%|██████▉   | 416/597 [03:09<01:32,  1.96it/s]"
     ]
    },
    {
     "name": "stdout",
     "output_type": "stream",
     "text": [
      "bone-penn-630\n",
      "I'm doing the thing.\n"
     ]
    },
    {
     "name": "stderr",
     "output_type": "stream",
     "text": [
      "\r",
      " 70%|██████▉   | 417/597 [03:10<01:18,  2.30it/s]"
     ]
    },
    {
     "name": "stdout",
     "output_type": "stream",
     "text": [
      "bone-penn-631\n",
      "I'm doing the thing.\n"
     ]
    },
    {
     "name": "stderr",
     "output_type": "stream",
     "text": [
      "\r",
      " 70%|███████   | 418/597 [03:10<01:07,  2.63it/s]"
     ]
    },
    {
     "name": "stdout",
     "output_type": "stream",
     "text": [
      "bone-penn-632\n",
      "I'm doing the thing.\n"
     ]
    },
    {
     "name": "stderr",
     "output_type": "stream",
     "text": [
      " 70%|███████   | 420/597 [03:10<00:54,  3.24it/s]"
     ]
    },
    {
     "name": "stdout",
     "output_type": "stream",
     "text": [
      "bone-penn-633\n",
      "I'm doing the thing.\n",
      "bone-penn-634\n",
      "I'm doing the thing.\n"
     ]
    },
    {
     "name": "stderr",
     "output_type": "stream",
     "text": [
      " 71%|███████   | 422/597 [03:11<00:37,  4.67it/s]"
     ]
    },
    {
     "name": "stdout",
     "output_type": "stream",
     "text": [
      "bone-penn-635\n",
      "I'm doing the thing.\n",
      "bone-penn-636\n",
      "I'm doing the thing.\n"
     ]
    },
    {
     "name": "stderr",
     "output_type": "stream",
     "text": [
      "\r",
      " 71%|███████   | 423/597 [03:11<00:50,  3.44it/s]"
     ]
    },
    {
     "name": "stdout",
     "output_type": "stream",
     "text": [
      "bone-penn-637\n",
      "I'm doing the thing.\n"
     ]
    },
    {
     "name": "stderr",
     "output_type": "stream",
     "text": [
      "\r",
      " 71%|███████   | 424/597 [03:11<00:55,  3.09it/s]"
     ]
    },
    {
     "name": "stdout",
     "output_type": "stream",
     "text": [
      "bone-penn-639\n",
      "I'm doing the thing.\n"
     ]
    },
    {
     "name": "stderr",
     "output_type": "stream",
     "text": [
      " 71%|███████▏  | 426/597 [03:12<00:56,  3.03it/s]"
     ]
    },
    {
     "name": "stdout",
     "output_type": "stream",
     "text": [
      "bone-penn-640\n",
      "I'm doing the thing.\n",
      "bone-penn-641\n",
      "I'm doing the thing.\n"
     ]
    },
    {
     "name": "stderr",
     "output_type": "stream",
     "text": [
      "\r",
      " 72%|███████▏  | 427/597 [03:12<00:47,  3.61it/s]"
     ]
    },
    {
     "name": "stdout",
     "output_type": "stream",
     "text": [
      "bone-penn-643\n",
      "I'm doing the thing.\n"
     ]
    },
    {
     "name": "stderr",
     "output_type": "stream",
     "text": [
      " 72%|███████▏  | 429/597 [03:13<00:56,  2.99it/s]"
     ]
    },
    {
     "name": "stdout",
     "output_type": "stream",
     "text": [
      "bone-penn-648\n",
      "I'm doing the thing.\n",
      "bone-penn-650\n",
      "I'm doing the thing.\n"
     ]
    },
    {
     "name": "stderr",
     "output_type": "stream",
     "text": [
      "\r",
      " 72%|███████▏  | 430/597 [03:14<01:04,  2.60it/s]"
     ]
    },
    {
     "name": "stdout",
     "output_type": "stream",
     "text": [
      "bone-penn-651\n",
      "I'm doing the thing.\n"
     ]
    },
    {
     "name": "stderr",
     "output_type": "stream",
     "text": [
      "\r",
      " 72%|███████▏  | 431/597 [03:14<00:58,  2.84it/s]"
     ]
    },
    {
     "name": "stdout",
     "output_type": "stream",
     "text": [
      "bone-penn-652\n",
      "I'm doing the thing.\n"
     ]
    },
    {
     "name": "stderr",
     "output_type": "stream",
     "text": [
      "\r",
      " 72%|███████▏  | 432/597 [03:14<00:51,  3.23it/s]"
     ]
    },
    {
     "name": "stdout",
     "output_type": "stream",
     "text": [
      "bone-penn-653\n",
      "I'm doing the thing.\n"
     ]
    },
    {
     "name": "stderr",
     "output_type": "stream",
     "text": [
      "\r",
      " 73%|███████▎  | 433/597 [03:15<01:12,  2.28it/s]"
     ]
    },
    {
     "name": "stdout",
     "output_type": "stream",
     "text": [
      "bone-penn-654\n",
      "I'm doing the thing.\n"
     ]
    },
    {
     "name": "stderr",
     "output_type": "stream",
     "text": [
      "\r",
      " 73%|███████▎  | 434/597 [03:15<01:03,  2.55it/s]"
     ]
    },
    {
     "name": "stdout",
     "output_type": "stream",
     "text": [
      "bone-hup-101\n",
      "I'm doing the thing.\n"
     ]
    },
    {
     "name": "stderr",
     "output_type": "stream",
     "text": [
      "\r",
      " 73%|███████▎  | 435/597 [03:16<01:32,  1.75it/s]"
     ]
    },
    {
     "name": "stdout",
     "output_type": "stream",
     "text": [
      "bone-hup-102\n",
      "I'm doing the thing.\n"
     ]
    },
    {
     "name": "stderr",
     "output_type": "stream",
     "text": [
      " 73%|███████▎  | 437/597 [03:17<01:12,  2.19it/s]"
     ]
    },
    {
     "name": "stdout",
     "output_type": "stream",
     "text": [
      "bone-hup-103\n",
      "I'm doing the thing.\n",
      "bone-hup-104\n",
      "I'm doing the thing.\n"
     ]
    },
    {
     "name": "stderr",
     "output_type": "stream",
     "text": [
      " 74%|███████▎  | 439/597 [03:17<00:50,  3.11it/s]"
     ]
    },
    {
     "name": "stdout",
     "output_type": "stream",
     "text": [
      "bone-hup-108\n",
      "I'm doing the thing.\n",
      "bone-hup-109\n",
      "I'm doing the thing.\n"
     ]
    },
    {
     "name": "stderr",
     "output_type": "stream",
     "text": [
      "\r",
      " 74%|███████▎  | 440/597 [03:18<01:15,  2.09it/s]"
     ]
    },
    {
     "name": "stdout",
     "output_type": "stream",
     "text": [
      "bone-hup-111\n",
      "I'm doing the thing.\n"
     ]
    },
    {
     "name": "stderr",
     "output_type": "stream",
     "text": [
      "\r",
      " 74%|███████▍  | 441/597 [03:19<01:21,  1.91it/s]"
     ]
    },
    {
     "name": "stdout",
     "output_type": "stream",
     "text": [
      "bone-hup-112\n",
      "I'm doing the thing.\n"
     ]
    },
    {
     "name": "stderr",
     "output_type": "stream",
     "text": [
      "\r",
      " 74%|███████▍  | 442/597 [03:19<01:16,  2.02it/s]"
     ]
    },
    {
     "name": "stdout",
     "output_type": "stream",
     "text": [
      "bone-hup-116\n",
      "I'm doing the thing.\n"
     ]
    },
    {
     "name": "stderr",
     "output_type": "stream",
     "text": [
      "\r",
      " 74%|███████▍  | 443/597 [03:20<01:19,  1.95it/s]"
     ]
    },
    {
     "name": "stdout",
     "output_type": "stream",
     "text": [
      "bone-hup-118\n",
      "I'm doing the thing.\n"
     ]
    },
    {
     "name": "stderr",
     "output_type": "stream",
     "text": [
      "\r",
      " 74%|███████▍  | 444/597 [03:20<01:21,  1.89it/s]"
     ]
    },
    {
     "name": "stdout",
     "output_type": "stream",
     "text": [
      "bone-hup-119\n",
      "I'm doing the thing.\n"
     ]
    },
    {
     "name": "stderr",
     "output_type": "stream",
     "text": [
      "\r",
      " 75%|███████▍  | 445/597 [03:21<01:11,  2.12it/s]"
     ]
    },
    {
     "name": "stdout",
     "output_type": "stream",
     "text": [
      "bone-hup-122\n",
      "I'm doing the thing.\n"
     ]
    },
    {
     "name": "stderr",
     "output_type": "stream",
     "text": [
      "\r",
      " 75%|███████▍  | 446/597 [03:21<00:59,  2.54it/s]"
     ]
    },
    {
     "name": "stdout",
     "output_type": "stream",
     "text": [
      "bone-hup-123\n",
      "I'm doing the thing.\n"
     ]
    },
    {
     "name": "stderr",
     "output_type": "stream",
     "text": [
      " 75%|███████▌  | 448/597 [03:22<00:51,  2.90it/s]"
     ]
    },
    {
     "name": "stdout",
     "output_type": "stream",
     "text": [
      "bone-hup-124\n",
      "I'm doing the thing.\n",
      "bone-hup-126\n",
      "I'm doing the thing.\n"
     ]
    },
    {
     "name": "stderr",
     "output_type": "stream",
     "text": [
      "\r",
      " 75%|███████▌  | 449/597 [03:22<01:03,  2.35it/s]"
     ]
    },
    {
     "name": "stdout",
     "output_type": "stream",
     "text": [
      "bone-hup-128\n",
      "I'm doing the thing.\n"
     ]
    },
    {
     "name": "stderr",
     "output_type": "stream",
     "text": [
      "\r",
      " 75%|███████▌  | 450/597 [03:23<01:19,  1.84it/s]"
     ]
    },
    {
     "name": "stdout",
     "output_type": "stream",
     "text": [
      "bone-hup-131\n",
      "I'm doing the thing.\n"
     ]
    },
    {
     "name": "stderr",
     "output_type": "stream",
     "text": [
      "\r",
      " 76%|███████▌  | 451/597 [03:23<01:09,  2.09it/s]"
     ]
    },
    {
     "name": "stdout",
     "output_type": "stream",
     "text": [
      "bone-hup-132\n",
      "I'm doing the thing.\n"
     ]
    },
    {
     "name": "stderr",
     "output_type": "stream",
     "text": [
      " 76%|███████▌  | 453/597 [03:24<00:55,  2.61it/s]"
     ]
    },
    {
     "name": "stdout",
     "output_type": "stream",
     "text": [
      "bone-hup-133\n",
      "I'm doing the thing.\n",
      "bone-hup-134\n",
      "I'm doing the thing.\n"
     ]
    },
    {
     "name": "stderr",
     "output_type": "stream",
     "text": [
      "\r",
      " 76%|███████▌  | 454/597 [03:25<01:09,  2.06it/s]"
     ]
    },
    {
     "name": "stdout",
     "output_type": "stream",
     "text": [
      "bone-hup-136\n",
      "I'm doing the thing.\n"
     ]
    },
    {
     "name": "stderr",
     "output_type": "stream",
     "text": [
      "\r",
      " 76%|███████▌  | 455/597 [03:25<01:00,  2.35it/s]"
     ]
    },
    {
     "name": "stdout",
     "output_type": "stream",
     "text": [
      "bone-hup-138\n",
      "I'm doing the thing.\n"
     ]
    },
    {
     "name": "stderr",
     "output_type": "stream",
     "text": [
      "\r",
      " 76%|███████▋  | 456/597 [03:26<01:07,  2.10it/s]"
     ]
    },
    {
     "name": "stdout",
     "output_type": "stream",
     "text": [
      "bone-hup-139\n",
      "I'm doing the thing.\n"
     ]
    },
    {
     "name": "stderr",
     "output_type": "stream",
     "text": [
      "\r",
      " 77%|███████▋  | 457/597 [03:26<01:07,  2.07it/s]"
     ]
    },
    {
     "name": "stdout",
     "output_type": "stream",
     "text": [
      "bone-hup-141\n",
      "I'm doing the thing.\n"
     ]
    },
    {
     "name": "stderr",
     "output_type": "stream",
     "text": [
      "\r",
      " 77%|███████▋  | 458/597 [03:28<01:45,  1.31it/s]"
     ]
    },
    {
     "name": "stdout",
     "output_type": "stream",
     "text": [
      "bone-hup-142\n",
      "I'm doing the thing.\n"
     ]
    },
    {
     "name": "stderr",
     "output_type": "stream",
     "text": [
      "\r",
      " 77%|███████▋  | 459/597 [03:28<01:28,  1.56it/s]"
     ]
    },
    {
     "name": "stdout",
     "output_type": "stream",
     "text": [
      "bone-hup-146\n",
      "I'm doing the thing.\n"
     ]
    },
    {
     "name": "stderr",
     "output_type": "stream",
     "text": [
      "\r",
      " 77%|███████▋  | 460/597 [03:28<01:12,  1.90it/s]"
     ]
    },
    {
     "name": "stdout",
     "output_type": "stream",
     "text": [
      "bone-hup-148\n",
      "I'm doing the thing.\n"
     ]
    },
    {
     "name": "stderr",
     "output_type": "stream",
     "text": [
      "\r",
      " 77%|███████▋  | 461/597 [03:29<01:23,  1.63it/s]"
     ]
    },
    {
     "name": "stdout",
     "output_type": "stream",
     "text": [
      "bone-hup-150\n",
      "I'm doing the thing.\n"
     ]
    },
    {
     "name": "stderr",
     "output_type": "stream",
     "text": [
      "\r",
      " 77%|███████▋  | 462/597 [03:29<01:13,  1.83it/s]"
     ]
    },
    {
     "name": "stdout",
     "output_type": "stream",
     "text": [
      "bone-hup-151\n",
      "I'm doing the thing.\n"
     ]
    },
    {
     "name": "stderr",
     "output_type": "stream",
     "text": [
      "\r",
      " 78%|███████▊  | 463/597 [03:30<01:02,  2.15it/s]"
     ]
    },
    {
     "name": "stdout",
     "output_type": "stream",
     "text": [
      "bone-hup-152\n",
      "I'm doing the thing.\n"
     ]
    },
    {
     "name": "stderr",
     "output_type": "stream",
     "text": [
      "\r",
      " 78%|███████▊  | 464/597 [03:30<01:01,  2.17it/s]"
     ]
    },
    {
     "name": "stdout",
     "output_type": "stream",
     "text": [
      "bone-hup-154\n",
      "I'm doing the thing.\n"
     ]
    },
    {
     "name": "stderr",
     "output_type": "stream",
     "text": [
      "\r",
      " 78%|███████▊  | 465/597 [03:31<01:01,  2.13it/s]"
     ]
    },
    {
     "name": "stdout",
     "output_type": "stream",
     "text": [
      "bone-hup-155\n",
      "I'm doing the thing.\n"
     ]
    },
    {
     "name": "stderr",
     "output_type": "stream",
     "text": [
      "\r",
      " 78%|███████▊  | 466/597 [03:31<00:54,  2.41it/s]"
     ]
    },
    {
     "name": "stdout",
     "output_type": "stream",
     "text": [
      "bone-hup-156\n",
      "I'm doing the thing.\n"
     ]
    },
    {
     "name": "stderr",
     "output_type": "stream",
     "text": [
      "\r",
      " 78%|███████▊  | 467/597 [03:32<01:22,  1.58it/s]"
     ]
    },
    {
     "name": "stdout",
     "output_type": "stream",
     "text": [
      "bone-hup-158\n",
      "I'm doing the thing.\n"
     ]
    },
    {
     "name": "stderr",
     "output_type": "stream",
     "text": [
      "\r",
      " 78%|███████▊  | 468/597 [03:33<01:23,  1.55it/s]"
     ]
    },
    {
     "name": "stdout",
     "output_type": "stream",
     "text": [
      "bone-hup-160\n",
      "I'm doing the thing.\n"
     ]
    },
    {
     "name": "stderr",
     "output_type": "stream",
     "text": [
      " 79%|███████▊  | 470/597 [03:34<01:10,  1.81it/s]"
     ]
    },
    {
     "name": "stdout",
     "output_type": "stream",
     "text": [
      "bone-hup-161\n",
      "I'm doing the thing.\n",
      "bone-hup-168\n",
      "I'm doing the thing.\n"
     ]
    },
    {
     "name": "stderr",
     "output_type": "stream",
     "text": [
      "\r",
      " 79%|███████▉  | 471/597 [03:34<01:06,  1.90it/s]"
     ]
    },
    {
     "name": "stdout",
     "output_type": "stream",
     "text": [
      "bone-hup-169\n",
      "I'm doing the thing.\n"
     ]
    },
    {
     "name": "stderr",
     "output_type": "stream",
     "text": [
      "\r",
      " 79%|███████▉  | 472/597 [03:35<01:20,  1.55it/s]"
     ]
    },
    {
     "name": "stdout",
     "output_type": "stream",
     "text": [
      "bone-hup-173\n",
      "I'm doing the thing.\n"
     ]
    },
    {
     "name": "stderr",
     "output_type": "stream",
     "text": [
      " 79%|███████▉  | 474/597 [03:36<01:14,  1.65it/s]"
     ]
    },
    {
     "name": "stdout",
     "output_type": "stream",
     "text": [
      "bone-hup-177\n",
      "I'm doing the thing.\n",
      "bone-hup-179\n",
      "I'm doing the thing.\n"
     ]
    },
    {
     "name": "stderr",
     "output_type": "stream",
     "text": [
      "\r",
      " 80%|███████▉  | 475/597 [03:37<00:59,  2.06it/s]"
     ]
    },
    {
     "name": "stdout",
     "output_type": "stream",
     "text": [
      "bone-hup-180\n",
      "I'm doing the thing.\n"
     ]
    },
    {
     "name": "stderr",
     "output_type": "stream",
     "text": [
      "\r",
      " 80%|███████▉  | 476/597 [03:37<00:55,  2.19it/s]"
     ]
    },
    {
     "name": "stdout",
     "output_type": "stream",
     "text": [
      "bone-hup-188\n",
      "I'm doing the thing.\n"
     ]
    },
    {
     "name": "stderr",
     "output_type": "stream",
     "text": [
      " 80%|████████  | 478/597 [03:38<00:53,  2.21it/s]"
     ]
    },
    {
     "name": "stdout",
     "output_type": "stream",
     "text": [
      "bone-hup-193\n",
      "I'm doing the thing.\n",
      "bone-hup-201\n",
      "I'm doing the thing.\n"
     ]
    },
    {
     "name": "stderr",
     "output_type": "stream",
     "text": [
      " 80%|████████  | 480/597 [03:39<00:51,  2.29it/s]"
     ]
    },
    {
     "name": "stdout",
     "output_type": "stream",
     "text": [
      "bone-hup-203\n",
      "I'm doing the thing.\n",
      "bone-hup-207\n",
      "I'm doing the thing.\n"
     ]
    },
    {
     "name": "stderr",
     "output_type": "stream",
     "text": [
      "\r",
      " 81%|████████  | 481/597 [03:39<00:46,  2.48it/s]"
     ]
    },
    {
     "name": "stdout",
     "output_type": "stream",
     "text": [
      "bone-hup-211\n",
      "I'm doing the thing.\n"
     ]
    },
    {
     "name": "stderr",
     "output_type": "stream",
     "text": [
      "\r",
      " 81%|████████  | 482/597 [03:40<01:03,  1.82it/s]"
     ]
    },
    {
     "name": "stdout",
     "output_type": "stream",
     "text": [
      "bone-hup-213\n",
      "I'm doing the thing.\n"
     ]
    },
    {
     "name": "stderr",
     "output_type": "stream",
     "text": [
      "\r",
      " 81%|████████  | 483/597 [03:41<01:05,  1.75it/s]"
     ]
    },
    {
     "name": "stdout",
     "output_type": "stream",
     "text": [
      "bone-hup-214\n",
      "I'm doing the thing.\n"
     ]
    },
    {
     "name": "stderr",
     "output_type": "stream",
     "text": [
      "\r",
      " 81%|████████  | 484/597 [03:41<00:56,  2.02it/s]"
     ]
    },
    {
     "name": "stdout",
     "output_type": "stream",
     "text": [
      "bone-hup-219\n",
      "I'm doing the thing.\n"
     ]
    },
    {
     "name": "stderr",
     "output_type": "stream",
     "text": [
      " 81%|████████▏ | 486/597 [03:42<00:44,  2.52it/s]"
     ]
    },
    {
     "name": "stdout",
     "output_type": "stream",
     "text": [
      "bone-hup-225\n",
      "I'm doing the thing.\n",
      "bone-hup-228\n",
      "I'm doing the thing.\n"
     ]
    },
    {
     "name": "stderr",
     "output_type": "stream",
     "text": [
      " 82%|████████▏ | 488/597 [03:42<00:32,  3.40it/s]"
     ]
    },
    {
     "name": "stdout",
     "output_type": "stream",
     "text": [
      "bone-hup-229\n",
      "I'm doing the thing.\n",
      "bone-hup-23\n",
      "I'm doing the thing.\n"
     ]
    },
    {
     "name": "stderr",
     "output_type": "stream",
     "text": [
      "\r",
      " 82%|████████▏ | 489/597 [03:43<00:50,  2.16it/s]"
     ]
    },
    {
     "name": "stdout",
     "output_type": "stream",
     "text": [
      "bone-hup-231\n",
      "I'm doing the thing.\n"
     ]
    },
    {
     "name": "stderr",
     "output_type": "stream",
     "text": [
      "\r",
      " 82%|████████▏ | 490/597 [03:44<00:48,  2.21it/s]"
     ]
    },
    {
     "name": "stdout",
     "output_type": "stream",
     "text": [
      "bone-hup-232\n",
      "I'm doing the thing.\n"
     ]
    },
    {
     "name": "stderr",
     "output_type": "stream",
     "text": [
      "\r",
      " 82%|████████▏ | 491/597 [03:44<00:57,  1.85it/s]"
     ]
    },
    {
     "name": "stdout",
     "output_type": "stream",
     "text": [
      "bone-hup-234\n",
      "I'm doing the thing.\n"
     ]
    },
    {
     "name": "stderr",
     "output_type": "stream",
     "text": [
      "\r",
      " 82%|████████▏ | 492/597 [03:45<00:55,  1.88it/s]"
     ]
    },
    {
     "name": "stdout",
     "output_type": "stream",
     "text": [
      "bone-hup-237\n",
      "I'm doing the thing.\n"
     ]
    },
    {
     "name": "stderr",
     "output_type": "stream",
     "text": [
      "\r",
      " 83%|████████▎ | 493/597 [03:45<00:52,  2.00it/s]"
     ]
    },
    {
     "name": "stdout",
     "output_type": "stream",
     "text": [
      "bone-hup-244\n",
      "I'm doing the thing.\n"
     ]
    },
    {
     "name": "stderr",
     "output_type": "stream",
     "text": [
      " 83%|████████▎ | 495/597 [03:46<00:35,  2.85it/s]"
     ]
    },
    {
     "name": "stdout",
     "output_type": "stream",
     "text": [
      "bone-hup-248\n",
      "I'm doing the thing.\n",
      "bone-hup-257\n",
      "I'm doing the thing.\n",
      "bone-hup-261\n",
      "I'm doing the thing.\n"
     ]
    },
    {
     "name": "stderr",
     "output_type": "stream",
     "text": [
      " 83%|████████▎ | 498/597 [03:47<00:29,  3.32it/s]"
     ]
    },
    {
     "name": "stdout",
     "output_type": "stream",
     "text": [
      "bone-hup-262\n",
      "I'm doing the thing.\n",
      "bone-hup-263\n",
      "I'm doing the thing.\n"
     ]
    },
    {
     "name": "stderr",
     "output_type": "stream",
     "text": [
      "\r",
      " 84%|████████▎ | 499/597 [03:47<00:24,  3.97it/s]"
     ]
    },
    {
     "name": "stdout",
     "output_type": "stream",
     "text": [
      "bone-hup-265\n",
      "I'm doing the thing.\n"
     ]
    },
    {
     "name": "stderr",
     "output_type": "stream",
     "text": [
      "\r",
      " 84%|████████▍ | 500/597 [03:47<00:23,  4.10it/s]"
     ]
    },
    {
     "name": "stdout",
     "output_type": "stream",
     "text": [
      "bone-hup-266\n",
      "I'm doing the thing.\n"
     ]
    },
    {
     "name": "stderr",
     "output_type": "stream",
     "text": [
      "\r",
      " 84%|████████▍ | 501/597 [03:48<00:36,  2.63it/s]"
     ]
    },
    {
     "name": "stdout",
     "output_type": "stream",
     "text": [
      "bone-hup-271\n",
      "I'm doing the thing.\n"
     ]
    },
    {
     "name": "stderr",
     "output_type": "stream",
     "text": [
      "\r",
      " 84%|████████▍ | 502/597 [03:48<00:40,  2.33it/s]"
     ]
    },
    {
     "name": "stdout",
     "output_type": "stream",
     "text": [
      "bone-hup-272\n",
      "I'm doing the thing.\n"
     ]
    },
    {
     "name": "stderr",
     "output_type": "stream",
     "text": [
      "\r",
      " 84%|████████▍ | 503/597 [03:49<00:49,  1.89it/s]"
     ]
    },
    {
     "name": "stdout",
     "output_type": "stream",
     "text": [
      "bone-hup-275\n",
      "I'm doing the thing.\n"
     ]
    },
    {
     "name": "stderr",
     "output_type": "stream",
     "text": [
      "\r",
      " 84%|████████▍ | 504/597 [03:51<01:24,  1.10it/s]"
     ]
    },
    {
     "name": "stdout",
     "output_type": "stream",
     "text": [
      "bone-hup-276\n",
      "I'm doing the thing.\n",
      "bone-hup-277\n",
      "I'm doing the thing.\n"
     ]
    },
    {
     "name": "stderr",
     "output_type": "stream",
     "text": [
      " 85%|████████▍ | 507/597 [03:52<00:51,  1.75it/s]"
     ]
    },
    {
     "name": "stdout",
     "output_type": "stream",
     "text": [
      "bone-hup-279\n",
      "I'm doing the thing.\n",
      "bone-hup-281\n",
      "I'm doing the thing.\n"
     ]
    },
    {
     "name": "stderr",
     "output_type": "stream",
     "text": [
      "\r",
      " 85%|████████▌ | 508/597 [03:52<00:54,  1.63it/s]"
     ]
    },
    {
     "name": "stdout",
     "output_type": "stream",
     "text": [
      "bone-hup-287\n",
      "I'm doing the thing.\n"
     ]
    },
    {
     "name": "stderr",
     "output_type": "stream",
     "text": [
      "\r",
      " 85%|████████▌ | 509/597 [03:53<00:49,  1.78it/s]"
     ]
    },
    {
     "name": "stdout",
     "output_type": "stream",
     "text": [
      "bone-hup-290\n",
      "I'm doing the thing.\n"
     ]
    },
    {
     "name": "stderr",
     "output_type": "stream",
     "text": [
      "\r",
      " 85%|████████▌ | 510/597 [03:54<00:53,  1.62it/s]"
     ]
    },
    {
     "name": "stdout",
     "output_type": "stream",
     "text": [
      "bone-hup-291\n",
      "I'm doing the thing.\n"
     ]
    },
    {
     "name": "stderr",
     "output_type": "stream",
     "text": [
      "\r",
      " 86%|████████▌ | 511/597 [03:54<00:43,  1.97it/s]"
     ]
    },
    {
     "name": "stdout",
     "output_type": "stream",
     "text": [
      "bone-hup-293\n",
      "I'm doing the thing.\n"
     ]
    },
    {
     "name": "stderr",
     "output_type": "stream",
     "text": [
      "\r",
      " 86%|████████▌ | 512/597 [03:54<00:36,  2.33it/s]"
     ]
    },
    {
     "name": "stdout",
     "output_type": "stream",
     "text": [
      "bone-hup-296\n",
      "I'm doing the thing.\n"
     ]
    },
    {
     "name": "stderr",
     "output_type": "stream",
     "text": [
      "\r",
      " 86%|████████▌ | 513/597 [03:54<00:36,  2.30it/s]"
     ]
    },
    {
     "name": "stdout",
     "output_type": "stream",
     "text": [
      "bone-hup-297\n",
      "I'm doing the thing.\n"
     ]
    },
    {
     "name": "stderr",
     "output_type": "stream",
     "text": [
      " 86%|████████▋ | 515/597 [03:56<00:41,  1.99it/s]"
     ]
    },
    {
     "name": "stdout",
     "output_type": "stream",
     "text": [
      "bone-hup-298\n",
      "I'm doing the thing.\n",
      "bone-hup-299\n",
      "I'm doing the thing.\n"
     ]
    },
    {
     "name": "stderr",
     "output_type": "stream",
     "text": [
      "\r",
      " 86%|████████▋ | 516/597 [03:56<00:33,  2.39it/s]"
     ]
    },
    {
     "name": "stdout",
     "output_type": "stream",
     "text": [
      "bone-hup-3\n",
      "I'm doing the thing.\n"
     ]
    },
    {
     "name": "stderr",
     "output_type": "stream",
     "text": [
      "\r",
      " 87%|████████▋ | 517/597 [03:57<00:36,  2.22it/s]"
     ]
    },
    {
     "name": "stdout",
     "output_type": "stream",
     "text": [
      "bone-hup-302\n",
      "I'm doing the thing.\n"
     ]
    },
    {
     "name": "stderr",
     "output_type": "stream",
     "text": [
      "\r",
      " 87%|████████▋ | 518/597 [03:57<00:38,  2.06it/s]"
     ]
    },
    {
     "name": "stdout",
     "output_type": "stream",
     "text": [
      "bone-hup-305\n",
      "I'm doing the thing.\n"
     ]
    },
    {
     "name": "stderr",
     "output_type": "stream",
     "text": [
      "\r",
      " 87%|████████▋ | 519/597 [03:58<00:43,  1.80it/s]"
     ]
    },
    {
     "name": "stdout",
     "output_type": "stream",
     "text": [
      "bone-hup-306\n",
      "I'm doing the thing.\n"
     ]
    },
    {
     "name": "stderr",
     "output_type": "stream",
     "text": [
      "\r",
      " 87%|████████▋ | 520/597 [03:58<00:37,  2.07it/s]"
     ]
    },
    {
     "name": "stdout",
     "output_type": "stream",
     "text": [
      "bone-hup-308\n",
      "I'm doing the thing.\n"
     ]
    },
    {
     "name": "stderr",
     "output_type": "stream",
     "text": [
      "\r",
      " 87%|████████▋ | 521/597 [03:59<00:34,  2.18it/s]"
     ]
    },
    {
     "name": "stdout",
     "output_type": "stream",
     "text": [
      "bone-hup-310\n",
      "I'm doing the thing.\n"
     ]
    },
    {
     "name": "stderr",
     "output_type": "stream",
     "text": [
      "\r",
      " 87%|████████▋ | 522/597 [03:59<00:30,  2.48it/s]"
     ]
    },
    {
     "name": "stdout",
     "output_type": "stream",
     "text": [
      "bone-hup-312\n",
      "I'm doing the thing.\n"
     ]
    },
    {
     "name": "stderr",
     "output_type": "stream",
     "text": [
      " 88%|████████▊ | 524/597 [03:59<00:22,  3.28it/s]"
     ]
    },
    {
     "name": "stdout",
     "output_type": "stream",
     "text": [
      "bone-hup-314\n",
      "I'm doing the thing.\n",
      "bone-hup-316\n",
      "I'm doing the thing.\n"
     ]
    },
    {
     "name": "stderr",
     "output_type": "stream",
     "text": [
      "\r",
      " 88%|████████▊ | 525/597 [04:00<00:23,  3.09it/s]"
     ]
    },
    {
     "name": "stdout",
     "output_type": "stream",
     "text": [
      "bone-hup-317\n",
      "I'm doing the thing.\n"
     ]
    },
    {
     "name": "stderr",
     "output_type": "stream",
     "text": [
      "\r",
      " 88%|████████▊ | 526/597 [04:00<00:31,  2.23it/s]"
     ]
    },
    {
     "name": "stdout",
     "output_type": "stream",
     "text": [
      "bone-hup-321\n",
      "I'm doing the thing.\n"
     ]
    },
    {
     "name": "stderr",
     "output_type": "stream",
     "text": [
      "\r",
      " 88%|████████▊ | 527/597 [04:03<01:09,  1.01it/s]"
     ]
    },
    {
     "name": "stdout",
     "output_type": "stream",
     "text": [
      "bone-hup-325\n",
      "I'm doing the thing.\n"
     ]
    },
    {
     "name": "stderr",
     "output_type": "stream",
     "text": [
      "\r",
      " 88%|████████▊ | 528/597 [04:03<01:04,  1.06it/s]"
     ]
    },
    {
     "name": "stdout",
     "output_type": "stream",
     "text": [
      "bone-hup-326\n",
      "I'm doing the thing.\n"
     ]
    },
    {
     "name": "stderr",
     "output_type": "stream",
     "text": [
      "\r",
      " 89%|████████▊ | 529/597 [04:07<01:55,  1.70s/it]"
     ]
    },
    {
     "name": "stdout",
     "output_type": "stream",
     "text": [
      "bone-hup-328\n",
      "I'm doing the thing.\n"
     ]
    },
    {
     "name": "stderr",
     "output_type": "stream",
     "text": [
      "\r",
      " 89%|████████▉ | 530/597 [04:08<01:41,  1.52s/it]"
     ]
    },
    {
     "name": "stdout",
     "output_type": "stream",
     "text": [
      "bone-hup-330\n",
      "I'm doing the thing.\n"
     ]
    },
    {
     "name": "stderr",
     "output_type": "stream",
     "text": [
      "\r",
      " 89%|████████▉ | 531/597 [04:08<01:14,  1.13s/it]"
     ]
    },
    {
     "name": "stdout",
     "output_type": "stream",
     "text": [
      "bone-hup-51\n",
      "I'm doing the thing.\n"
     ]
    },
    {
     "name": "stderr",
     "output_type": "stream",
     "text": [
      "\r",
      " 89%|████████▉ | 532/597 [04:09<00:57,  1.12it/s]"
     ]
    },
    {
     "name": "stdout",
     "output_type": "stream",
     "text": [
      "bone-hup-52\n",
      "I'm doing the thing.\n"
     ]
    },
    {
     "name": "stderr",
     "output_type": "stream",
     "text": [
      "\r",
      " 89%|████████▉ | 533/597 [04:09<00:54,  1.18it/s]"
     ]
    },
    {
     "name": "stdout",
     "output_type": "stream",
     "text": [
      "bone-hup-53\n",
      "I'm doing the thing.\n"
     ]
    },
    {
     "name": "stderr",
     "output_type": "stream",
     "text": [
      "\r",
      " 89%|████████▉ | 534/597 [04:10<00:43,  1.45it/s]"
     ]
    },
    {
     "name": "stdout",
     "output_type": "stream",
     "text": [
      "bone-hup-55\n",
      "I'm doing the thing.\n",
      "bone-hup-56\n",
      "I'm doing the thing.\n"
     ]
    },
    {
     "name": "stderr",
     "output_type": "stream",
     "text": [
      "\r",
      " 90%|████████▉ | 536/597 [04:10<00:32,  1.87it/s]"
     ]
    },
    {
     "name": "stdout",
     "output_type": "stream",
     "text": [
      "bone-hup-59\n",
      "I'm doing the thing.\n"
     ]
    },
    {
     "name": "stderr",
     "output_type": "stream",
     "text": [
      "\r",
      " 90%|████████▉ | 537/597 [04:11<00:32,  1.85it/s]"
     ]
    },
    {
     "name": "stdout",
     "output_type": "stream",
     "text": [
      "bone-hup-60\n",
      "I'm doing the thing.\n"
     ]
    },
    {
     "name": "stderr",
     "output_type": "stream",
     "text": [
      "\r",
      " 90%|█████████ | 538/597 [04:11<00:26,  2.19it/s]"
     ]
    },
    {
     "name": "stdout",
     "output_type": "stream",
     "text": [
      "bone-hup-61\n",
      "I'm doing the thing.\n"
     ]
    },
    {
     "name": "stderr",
     "output_type": "stream",
     "text": [
      "\r",
      " 90%|█████████ | 539/597 [04:11<00:22,  2.56it/s]"
     ]
    },
    {
     "name": "stdout",
     "output_type": "stream",
     "text": [
      "bone-hup-62\n",
      "I'm doing the thing.\n"
     ]
    },
    {
     "name": "stderr",
     "output_type": "stream",
     "text": [
      "\r",
      " 90%|█████████ | 540/597 [04:11<00:23,  2.47it/s]"
     ]
    },
    {
     "name": "stdout",
     "output_type": "stream",
     "text": [
      "bone-hup-65\n",
      "I'm doing the thing.\n"
     ]
    },
    {
     "name": "stderr",
     "output_type": "stream",
     "text": [
      "\r",
      " 91%|█████████ | 541/597 [04:12<00:21,  2.59it/s]"
     ]
    },
    {
     "name": "stdout",
     "output_type": "stream",
     "text": [
      "bone-hup-67\n",
      "I'm doing the thing.\n"
     ]
    },
    {
     "name": "stderr",
     "output_type": "stream",
     "text": [
      "\r",
      " 91%|█████████ | 542/597 [04:12<00:20,  2.73it/s]"
     ]
    },
    {
     "name": "stdout",
     "output_type": "stream",
     "text": [
      "bone-hup-69\n",
      "I'm doing the thing.\n"
     ]
    },
    {
     "name": "stderr",
     "output_type": "stream",
     "text": [
      "\r",
      " 91%|█████████ | 543/597 [04:13<00:21,  2.53it/s]"
     ]
    },
    {
     "name": "stdout",
     "output_type": "stream",
     "text": [
      "bone-hup-70\n",
      "I'm doing the thing.\n"
     ]
    },
    {
     "name": "stderr",
     "output_type": "stream",
     "text": [
      " 91%|█████████▏| 545/597 [04:13<00:15,  3.28it/s]"
     ]
    },
    {
     "name": "stdout",
     "output_type": "stream",
     "text": [
      "bone-hup-76\n",
      "I'm doing the thing.\n",
      "bone-hup-78\n",
      "I'm doing the thing.\n"
     ]
    },
    {
     "name": "stderr",
     "output_type": "stream",
     "text": [
      "\r",
      " 91%|█████████▏| 546/597 [04:14<00:18,  2.80it/s]"
     ]
    },
    {
     "name": "stdout",
     "output_type": "stream",
     "text": [
      "bone-hup-79\n",
      "I'm doing the thing.\n"
     ]
    },
    {
     "name": "stderr",
     "output_type": "stream",
     "text": [
      "\r",
      " 92%|█████████▏| 547/597 [04:14<00:16,  2.97it/s]"
     ]
    },
    {
     "name": "stdout",
     "output_type": "stream",
     "text": [
      "bone-hup-80\n",
      "I'm doing the thing.\n"
     ]
    },
    {
     "name": "stderr",
     "output_type": "stream",
     "text": [
      "\r",
      " 92%|█████████▏| 548/597 [04:14<00:19,  2.47it/s]"
     ]
    },
    {
     "name": "stdout",
     "output_type": "stream",
     "text": [
      "bone-hup-81\n",
      "I'm doing the thing.\n"
     ]
    },
    {
     "name": "stderr",
     "output_type": "stream",
     "text": [
      "\r",
      " 92%|█████████▏| 549/597 [04:15<00:16,  2.83it/s]"
     ]
    },
    {
     "name": "stdout",
     "output_type": "stream",
     "text": [
      "bone-hup-85\n",
      "I'm doing the thing.\n"
     ]
    },
    {
     "name": "stderr",
     "output_type": "stream",
     "text": [
      "\r",
      " 92%|█████████▏| 550/597 [04:16<00:24,  1.88it/s]"
     ]
    },
    {
     "name": "stdout",
     "output_type": "stream",
     "text": [
      "bone-hup-93\n",
      "I'm doing the thing.\n"
     ]
    },
    {
     "name": "stderr",
     "output_type": "stream",
     "text": [
      "\r",
      " 92%|█████████▏| 551/597 [04:17<00:33,  1.36it/s]"
     ]
    },
    {
     "name": "stdout",
     "output_type": "stream",
     "text": [
      "bone-hup-94\n",
      "I'm doing the thing.\n"
     ]
    },
    {
     "name": "stderr",
     "output_type": "stream",
     "text": [
      "\r",
      " 92%|█████████▏| 552/597 [04:17<00:30,  1.48it/s]"
     ]
    },
    {
     "name": "stdout",
     "output_type": "stream",
     "text": [
      "bone-hup-95\n",
      "I'm doing the thing.\n"
     ]
    },
    {
     "name": "stderr",
     "output_type": "stream",
     "text": [
      "\r",
      " 93%|█████████▎| 553/597 [04:18<00:32,  1.34it/s]"
     ]
    },
    {
     "name": "stdout",
     "output_type": "stream",
     "text": [
      "bone-penn-001\n",
      "I'm doing the thing.\n"
     ]
    },
    {
     "name": "stderr",
     "output_type": "stream",
     "text": [
      "\r",
      " 93%|█████████▎| 554/597 [04:20<00:39,  1.08it/s]"
     ]
    },
    {
     "name": "stdout",
     "output_type": "stream",
     "text": [
      "bone-penn-005\n",
      "I'm doing the thing.\n"
     ]
    },
    {
     "name": "stderr",
     "output_type": "stream",
     "text": [
      "\r",
      " 93%|█████████▎| 555/597 [04:21<00:44,  1.07s/it]"
     ]
    },
    {
     "name": "stdout",
     "output_type": "stream",
     "text": [
      "bone-penn-007\n",
      "I'm doing the thing.\n"
     ]
    },
    {
     "name": "stderr",
     "output_type": "stream",
     "text": [
      "\r",
      " 93%|█████████▎| 556/597 [04:22<00:36,  1.12it/s]"
     ]
    },
    {
     "name": "stdout",
     "output_type": "stream",
     "text": [
      "bone-penn-011\n",
      "I'm doing the thing.\n"
     ]
    },
    {
     "name": "stderr",
     "output_type": "stream",
     "text": [
      "\r",
      " 93%|█████████▎| 557/597 [04:22<00:34,  1.17it/s]"
     ]
    },
    {
     "name": "stdout",
     "output_type": "stream",
     "text": [
      "bone-penn-014\n",
      "I'm doing the thing.\n"
     ]
    },
    {
     "name": "stderr",
     "output_type": "stream",
     "text": [
      "\r",
      " 93%|█████████▎| 558/597 [04:23<00:28,  1.37it/s]"
     ]
    },
    {
     "name": "stdout",
     "output_type": "stream",
     "text": [
      "bone-penn-015\n",
      "I'm doing the thing.\n"
     ]
    },
    {
     "name": "stderr",
     "output_type": "stream",
     "text": [
      "\r",
      " 94%|█████████▎| 559/597 [04:23<00:24,  1.57it/s]"
     ]
    },
    {
     "name": "stdout",
     "output_type": "stream",
     "text": [
      "bone-penn-018\n",
      "I'm doing the thing.\n"
     ]
    },
    {
     "name": "stderr",
     "output_type": "stream",
     "text": [
      " 94%|█████████▍| 561/597 [04:25<00:22,  1.59it/s]"
     ]
    },
    {
     "name": "stdout",
     "output_type": "stream",
     "text": [
      "bone-penn-019\n",
      "I'm doing the thing.\n",
      "bone-penn-020\n",
      "I'm doing the thing.\n"
     ]
    },
    {
     "name": "stderr",
     "output_type": "stream",
     "text": [
      " 94%|█████████▍| 563/597 [04:25<00:13,  2.61it/s]"
     ]
    },
    {
     "name": "stdout",
     "output_type": "stream",
     "text": [
      "bone-penn-021\n",
      "I'm doing the thing.\n",
      "bone-penn-022\n",
      "I'm doing the thing.\n"
     ]
    },
    {
     "name": "stderr",
     "output_type": "stream",
     "text": [
      " 95%|█████████▍| 565/597 [04:25<00:08,  3.89it/s]"
     ]
    },
    {
     "name": "stdout",
     "output_type": "stream",
     "text": [
      "bone-penn-024\n",
      "I'm doing the thing.\n",
      "bone-penn-027\n",
      "I'm doing the thing.\n"
     ]
    },
    {
     "name": "stderr",
     "output_type": "stream",
     "text": [
      "\r",
      " 95%|█████████▍| 566/597 [04:26<00:09,  3.35it/s]"
     ]
    },
    {
     "name": "stdout",
     "output_type": "stream",
     "text": [
      "bone-penn-029\n",
      "I'm doing the thing.\n"
     ]
    },
    {
     "name": "stderr",
     "output_type": "stream",
     "text": [
      "\r",
      " 95%|█████████▍| 567/597 [04:27<00:16,  1.82it/s]"
     ]
    },
    {
     "name": "stdout",
     "output_type": "stream",
     "text": [
      "bone-penn-030\n",
      "I'm doing the thing.\n"
     ]
    },
    {
     "name": "stderr",
     "output_type": "stream",
     "text": [
      "\r",
      " 95%|█████████▌| 568/597 [04:27<00:16,  1.76it/s]"
     ]
    },
    {
     "name": "stdout",
     "output_type": "stream",
     "text": [
      "bone-penn-034\n",
      "I'm doing the thing.\n"
     ]
    },
    {
     "name": "stderr",
     "output_type": "stream",
     "text": [
      "\r",
      " 95%|█████████▌| 569/597 [04:31<00:41,  1.46s/it]"
     ]
    },
    {
     "name": "stdout",
     "output_type": "stream",
     "text": [
      "bone-penn-036\n",
      "I'm doing the thing.\n"
     ]
    },
    {
     "name": "stderr",
     "output_type": "stream",
     "text": [
      "\r",
      " 95%|█████████▌| 570/597 [04:31<00:32,  1.20s/it]"
     ]
    },
    {
     "name": "stdout",
     "output_type": "stream",
     "text": [
      "bone-penn-037\n",
      "I'm doing the thing.\n"
     ]
    },
    {
     "name": "stderr",
     "output_type": "stream",
     "text": [
      "\r",
      " 96%|█████████▌| 571/597 [04:32<00:24,  1.08it/s]"
     ]
    },
    {
     "name": "stdout",
     "output_type": "stream",
     "text": [
      "bone-penn-038\n",
      "I'm doing the thing.\n"
     ]
    },
    {
     "name": "stderr",
     "output_type": "stream",
     "text": [
      "\r",
      " 96%|█████████▌| 572/597 [04:32<00:19,  1.31it/s]"
     ]
    },
    {
     "name": "stdout",
     "output_type": "stream",
     "text": [
      "bone-penn-039\n",
      "I'm doing the thing.\n"
     ]
    },
    {
     "name": "stderr",
     "output_type": "stream",
     "text": [
      "\r",
      " 96%|█████████▌| 573/597 [04:33<00:16,  1.42it/s]"
     ]
    },
    {
     "name": "stdout",
     "output_type": "stream",
     "text": [
      "bone-penn-040\n",
      "I'm doing the thing.\n"
     ]
    },
    {
     "name": "stderr",
     "output_type": "stream",
     "text": [
      "\r",
      " 96%|█████████▌| 574/597 [04:33<00:15,  1.49it/s]"
     ]
    },
    {
     "name": "stdout",
     "output_type": "stream",
     "text": [
      "bone-penn-042\n",
      "I'm doing the thing.\n"
     ]
    },
    {
     "name": "stderr",
     "output_type": "stream",
     "text": [
      "\r",
      " 96%|█████████▋| 575/597 [04:33<00:12,  1.81it/s]"
     ]
    },
    {
     "name": "stdout",
     "output_type": "stream",
     "text": [
      "bone-penn-045\n",
      "I'm doing the thing.\n"
     ]
    },
    {
     "name": "stderr",
     "output_type": "stream",
     "text": [
      "\r",
      " 96%|█████████▋| 576/597 [04:34<00:11,  1.80it/s]"
     ]
    },
    {
     "name": "stdout",
     "output_type": "stream",
     "text": [
      "bone-penn-047\n",
      "I'm doing the thing.\n"
     ]
    },
    {
     "name": "stderr",
     "output_type": "stream",
     "text": [
      "\r",
      " 97%|█████████▋| 577/597 [04:35<00:14,  1.35it/s]"
     ]
    },
    {
     "name": "stdout",
     "output_type": "stream",
     "text": [
      "bone-penn-048\n",
      "I'm doing the thing.\n"
     ]
    },
    {
     "name": "stderr",
     "output_type": "stream",
     "text": [
      "\r",
      " 97%|█████████▋| 578/597 [04:37<00:18,  1.04it/s]"
     ]
    },
    {
     "name": "stdout",
     "output_type": "stream",
     "text": [
      "bone-penn-051\n",
      "I'm doing the thing.\n"
     ]
    },
    {
     "name": "stderr",
     "output_type": "stream",
     "text": [
      "\r",
      " 97%|█████████▋| 579/597 [04:37<00:13,  1.29it/s]"
     ]
    },
    {
     "name": "stdout",
     "output_type": "stream",
     "text": [
      "bone-penn-052\n",
      "I'm doing the thing.\n"
     ]
    },
    {
     "name": "stderr",
     "output_type": "stream",
     "text": [
      "\r",
      " 97%|█████████▋| 580/597 [04:38<00:12,  1.31it/s]"
     ]
    },
    {
     "name": "stdout",
     "output_type": "stream",
     "text": [
      "bone-penn-053\n",
      "I'm doing the thing.\n"
     ]
    },
    {
     "name": "stderr",
     "output_type": "stream",
     "text": [
      "\r",
      " 97%|█████████▋| 581/597 [04:38<00:10,  1.58it/s]"
     ]
    },
    {
     "name": "stdout",
     "output_type": "stream",
     "text": [
      "bone-penn-054\n",
      "I'm doing the thing.\n"
     ]
    },
    {
     "name": "stderr",
     "output_type": "stream",
     "text": [
      "\r",
      " 97%|█████████▋| 582/597 [04:38<00:07,  1.94it/s]"
     ]
    },
    {
     "name": "stdout",
     "output_type": "stream",
     "text": [
      "bone-penn-056\n",
      "I'm doing the thing.\n"
     ]
    },
    {
     "name": "stderr",
     "output_type": "stream",
     "text": [
      "\r",
      " 98%|█████████▊| 583/597 [04:39<00:08,  1.71it/s]"
     ]
    },
    {
     "name": "stdout",
     "output_type": "stream",
     "text": [
      "bone-penn-057\n",
      "I'm doing the thing.\n"
     ]
    },
    {
     "name": "stderr",
     "output_type": "stream",
     "text": [
      "\r",
      " 98%|█████████▊| 584/597 [04:40<00:06,  1.86it/s]"
     ]
    },
    {
     "name": "stdout",
     "output_type": "stream",
     "text": [
      "bone-penn-058\n",
      "I'm doing the thing.\n"
     ]
    },
    {
     "name": "stderr",
     "output_type": "stream",
     "text": [
      "\r",
      " 98%|█████████▊| 585/597 [04:40<00:06,  1.93it/s]"
     ]
    },
    {
     "name": "stdout",
     "output_type": "stream",
     "text": [
      "bone-penn-062\n",
      "I'm doing the thing.\n"
     ]
    },
    {
     "name": "stderr",
     "output_type": "stream",
     "text": [
      "\r",
      " 98%|█████████▊| 586/597 [04:41<00:08,  1.31it/s]"
     ]
    },
    {
     "name": "stdout",
     "output_type": "stream",
     "text": [
      "bone-penn-064\n",
      "I'm doing the thing.\n"
     ]
    },
    {
     "name": "stderr",
     "output_type": "stream",
     "text": [
      "\r",
      " 98%|█████████▊| 587/597 [04:42<00:07,  1.31it/s]"
     ]
    },
    {
     "name": "stdout",
     "output_type": "stream",
     "text": [
      "bone-penn-068\n",
      "I'm doing the thing.\n"
     ]
    },
    {
     "name": "stderr",
     "output_type": "stream",
     "text": [
      "\r",
      " 98%|█████████▊| 588/597 [04:42<00:05,  1.64it/s]"
     ]
    },
    {
     "name": "stdout",
     "output_type": "stream",
     "text": [
      "bone-penn-069\n",
      "I'm doing the thing.\n"
     ]
    },
    {
     "name": "stderr",
     "output_type": "stream",
     "text": [
      "\r",
      " 99%|█████████▊| 589/597 [04:43<00:04,  1.63it/s]"
     ]
    },
    {
     "name": "stdout",
     "output_type": "stream",
     "text": [
      "bone-penn-070\n",
      "I'm doing the thing.\n"
     ]
    },
    {
     "name": "stderr",
     "output_type": "stream",
     "text": [
      "\r",
      " 99%|█████████▉| 590/597 [04:45<00:07,  1.12s/it]"
     ]
    },
    {
     "name": "stdout",
     "output_type": "stream",
     "text": [
      "bone-penn-071\n",
      "I'm doing the thing.\n"
     ]
    },
    {
     "name": "stderr",
     "output_type": "stream",
     "text": [
      "\r",
      " 99%|█████████▉| 591/597 [04:46<00:05,  1.15it/s]"
     ]
    },
    {
     "name": "stdout",
     "output_type": "stream",
     "text": [
      "bone-penn-072\n",
      "I'm doing the thing.\n"
     ]
    },
    {
     "name": "stderr",
     "output_type": "stream",
     "text": [
      "\r",
      " 99%|█████████▉| 592/597 [04:47<00:04,  1.12it/s]"
     ]
    },
    {
     "name": "stdout",
     "output_type": "stream",
     "text": [
      "bone-penn-073\n",
      "I'm doing the thing.\n"
     ]
    },
    {
     "name": "stderr",
     "output_type": "stream",
     "text": [
      "\r",
      " 99%|█████████▉| 593/597 [04:47<00:02,  1.41it/s]"
     ]
    },
    {
     "name": "stdout",
     "output_type": "stream",
     "text": [
      "bone-penn-074\n",
      "I'm doing the thing.\n"
     ]
    },
    {
     "name": "stderr",
     "output_type": "stream",
     "text": [
      "\r",
      " 99%|█████████▉| 594/597 [04:47<00:01,  1.76it/s]"
     ]
    },
    {
     "name": "stdout",
     "output_type": "stream",
     "text": [
      "bone-penn-077\n",
      "I'm doing the thing.\n"
     ]
    },
    {
     "name": "stderr",
     "output_type": "stream",
     "text": [
      "\r",
      "100%|█████████▉| 595/597 [04:47<00:00,  2.08it/s]"
     ]
    },
    {
     "name": "stdout",
     "output_type": "stream",
     "text": [
      "bone-penn-078\n",
      "I'm doing the thing.\n"
     ]
    },
    {
     "name": "stderr",
     "output_type": "stream",
     "text": [
      "\r",
      "100%|█████████▉| 596/597 [04:48<00:00,  2.31it/s]"
     ]
    },
    {
     "name": "stdout",
     "output_type": "stream",
     "text": [
      "bone-penn-079\n",
      "I'm doing the thing.\n"
     ]
    },
    {
     "name": "stderr",
     "output_type": "stream",
     "text": [
      "100%|██████████| 597/597 [04:48<00:00,  2.07it/s]\n",
      "  1%|          | 1/163 [00:00<00:29,  5.41it/s]"
     ]
    },
    {
     "name": "stdout",
     "output_type": "stream",
     "text": [
      "bone-china-001\n",
      "I'm doing the thing.\n",
      "bone-china-003\n",
      "I'm doing the thing.\n"
     ]
    },
    {
     "name": "stderr",
     "output_type": "stream",
     "text": [
      "\r",
      "  1%|          | 2/163 [00:00<00:40,  4.01it/s]"
     ]
    },
    {
     "name": "stdout",
     "output_type": "stream",
     "text": [
      "bone-china-016\n",
      "I'm doing the thing.\n"
     ]
    },
    {
     "name": "stderr",
     "output_type": "stream",
     "text": [
      "\r",
      "  2%|▏         | 3/163 [00:00<00:42,  3.74it/s]"
     ]
    },
    {
     "name": "stdout",
     "output_type": "stream",
     "text": [
      "bone-china-017\n",
      "I'm doing the thing.\n"
     ]
    },
    {
     "name": "stderr",
     "output_type": "stream",
     "text": [
      "\r",
      "  2%|▏         | 4/163 [00:01<00:40,  3.93it/s]"
     ]
    },
    {
     "name": "stdout",
     "output_type": "stream",
     "text": [
      "bone-china-025\n",
      "I'm doing the thing.\n"
     ]
    },
    {
     "name": "stderr",
     "output_type": "stream",
     "text": [
      "  4%|▎         | 6/163 [00:01<00:35,  4.46it/s]"
     ]
    },
    {
     "name": "stdout",
     "output_type": "stream",
     "text": [
      "bone-china-026\n",
      "I'm doing the thing.\n",
      "bone-china-030\n",
      "I'm doing the thing.\n"
     ]
    },
    {
     "name": "stderr",
     "output_type": "stream",
     "text": [
      "\r",
      "  4%|▍         | 7/163 [00:01<00:31,  4.91it/s]"
     ]
    },
    {
     "name": "stdout",
     "output_type": "stream",
     "text": [
      "bone-china-034\n",
      "I'm doing the thing.\n"
     ]
    },
    {
     "name": "stderr",
     "output_type": "stream",
     "text": [
      "  6%|▌         | 9/163 [00:02<00:28,  5.37it/s]"
     ]
    },
    {
     "name": "stdout",
     "output_type": "stream",
     "text": [
      "bone-china-036\n",
      "I'm doing the thing.\n",
      "bone-china-040\n",
      "I'm doing the thing.\n"
     ]
    },
    {
     "name": "stderr",
     "output_type": "stream",
     "text": [
      "  7%|▋         | 11/163 [00:02<00:24,  6.09it/s]"
     ]
    },
    {
     "name": "stdout",
     "output_type": "stream",
     "text": [
      "bone-china-043\n",
      "I'm doing the thing.\n",
      "bone-china-049\n",
      "I'm doing the thing.\n"
     ]
    },
    {
     "name": "stderr",
     "output_type": "stream",
     "text": [
      "  8%|▊         | 13/163 [00:02<00:27,  5.45it/s]"
     ]
    },
    {
     "name": "stdout",
     "output_type": "stream",
     "text": [
      "bone-china-054\n",
      "I'm doing the thing.\n",
      "bone-china-057\n",
      "I'm doing the thing.\n"
     ]
    },
    {
     "name": "stderr",
     "output_type": "stream",
     "text": [
      "\r",
      "  9%|▊         | 14/163 [00:03<00:31,  4.75it/s]"
     ]
    },
    {
     "name": "stdout",
     "output_type": "stream",
     "text": [
      "bone-china-073\n",
      "I'm doing the thing.\n"
     ]
    },
    {
     "name": "stderr",
     "output_type": "stream",
     "text": [
      "\r",
      "  9%|▉         | 15/163 [00:03<00:33,  4.43it/s]"
     ]
    },
    {
     "name": "stdout",
     "output_type": "stream",
     "text": [
      "bone-china-077\n",
      "I'm doing the thing.\n"
     ]
    },
    {
     "name": "stderr",
     "output_type": "stream",
     "text": [
      "\r",
      " 10%|▉         | 16/163 [00:03<00:32,  4.48it/s]"
     ]
    },
    {
     "name": "stdout",
     "output_type": "stream",
     "text": [
      "bone-china-078\n",
      "I'm doing the thing.\n"
     ]
    },
    {
     "name": "stderr",
     "output_type": "stream",
     "text": [
      " 11%|█         | 18/163 [00:03<00:30,  4.69it/s]"
     ]
    },
    {
     "name": "stdout",
     "output_type": "stream",
     "text": [
      "bone-china-091\n",
      "I'm doing the thing.\n",
      "bone-china-112\n",
      "I'm doing the thing.\n"
     ]
    },
    {
     "name": "stderr",
     "output_type": "stream",
     "text": [
      " 12%|█▏        | 20/163 [00:04<00:30,  4.71it/s]"
     ]
    },
    {
     "name": "stdout",
     "output_type": "stream",
     "text": [
      "bone-china-119\n",
      "I'm doing the thing.\n",
      "bone-china-120\n",
      "I'm doing the thing.\n"
     ]
    },
    {
     "name": "stderr",
     "output_type": "stream",
     "text": [
      "\r",
      " 13%|█▎        | 21/163 [00:04<00:31,  4.55it/s]"
     ]
    },
    {
     "name": "stdout",
     "output_type": "stream",
     "text": [
      "bone-china-128\n",
      "I'm doing the thing.\n"
     ]
    },
    {
     "name": "stderr",
     "output_type": "stream",
     "text": [
      " 14%|█▍        | 23/163 [00:04<00:28,  4.88it/s]"
     ]
    },
    {
     "name": "stdout",
     "output_type": "stream",
     "text": [
      "bone-china-129\n",
      "I'm doing the thing.\n",
      "bone-china-139\n",
      "I'm doing the thing.\n"
     ]
    },
    {
     "name": "stderr",
     "output_type": "stream",
     "text": [
      "\r",
      " 15%|█▍        | 24/163 [00:05<00:29,  4.72it/s]"
     ]
    },
    {
     "name": "stdout",
     "output_type": "stream",
     "text": [
      "bone-china-147\n",
      "I'm doing the thing.\n"
     ]
    },
    {
     "name": "stderr",
     "output_type": "stream",
     "text": [
      "\r",
      " 15%|█▌        | 25/163 [00:05<00:30,  4.46it/s]"
     ]
    },
    {
     "name": "stdout",
     "output_type": "stream",
     "text": [
      "bone-china-151\n",
      "I'm doing the thing.\n"
     ]
    },
    {
     "name": "stderr",
     "output_type": "stream",
     "text": [
      "\r",
      " 16%|█▌        | 26/163 [00:05<00:35,  3.87it/s]"
     ]
    },
    {
     "name": "stdout",
     "output_type": "stream",
     "text": [
      "bone-china-155\n",
      "I'm doing the thing.\n"
     ]
    },
    {
     "name": "stderr",
     "output_type": "stream",
     "text": [
      "\r",
      " 17%|█▋        | 27/163 [00:06<00:38,  3.55it/s]"
     ]
    },
    {
     "name": "stdout",
     "output_type": "stream",
     "text": [
      "bone-china-162\n",
      "I'm doing the thing.\n"
     ]
    },
    {
     "name": "stderr",
     "output_type": "stream",
     "text": [
      "\r",
      " 17%|█▋        | 28/163 [00:06<00:37,  3.59it/s]"
     ]
    },
    {
     "name": "stdout",
     "output_type": "stream",
     "text": [
      "bone-china-163\n",
      "I'm doing the thing.\n"
     ]
    },
    {
     "name": "stderr",
     "output_type": "stream",
     "text": [
      "\r",
      " 18%|█▊        | 29/163 [00:06<00:40,  3.31it/s]"
     ]
    },
    {
     "name": "stdout",
     "output_type": "stream",
     "text": [
      "bone-china-165\n",
      "I'm doing the thing.\n"
     ]
    },
    {
     "name": "stderr",
     "output_type": "stream",
     "text": [
      "\r",
      " 18%|█▊        | 30/163 [00:07<00:49,  2.68it/s]"
     ]
    },
    {
     "name": "stdout",
     "output_type": "stream",
     "text": [
      "bone-china-168\n",
      "I'm doing the thing.\n"
     ]
    },
    {
     "name": "stderr",
     "output_type": "stream",
     "text": [
      " 20%|█▉        | 32/163 [00:08<00:47,  2.77it/s]"
     ]
    },
    {
     "name": "stdout",
     "output_type": "stream",
     "text": [
      "bone-china-173\n",
      "I'm doing the thing.\n",
      "bone-china-179\n",
      "I'm doing the thing.\n"
     ]
    },
    {
     "name": "stderr",
     "output_type": "stream",
     "text": [
      "\r",
      " 20%|██        | 33/163 [00:08<00:39,  3.27it/s]"
     ]
    },
    {
     "name": "stdout",
     "output_type": "stream",
     "text": [
      "bone-china-195\n",
      "I'm doing the thing.\n"
     ]
    },
    {
     "name": "stderr",
     "output_type": "stream",
     "text": [
      " 21%|██▏       | 35/163 [00:08<00:30,  4.13it/s]"
     ]
    },
    {
     "name": "stdout",
     "output_type": "stream",
     "text": [
      "bone-china-201\n",
      "I'm doing the thing.\n",
      "bone-china-204\n",
      "I'm doing the thing.\n"
     ]
    },
    {
     "name": "stderr",
     "output_type": "stream",
     "text": [
      "\r",
      " 22%|██▏       | 36/163 [00:08<00:32,  3.91it/s]"
     ]
    },
    {
     "name": "stdout",
     "output_type": "stream",
     "text": [
      "bone-china-210\n",
      "I'm doing the thing.\n"
     ]
    },
    {
     "name": "stderr",
     "output_type": "stream",
     "text": [
      "\r",
      " 23%|██▎       | 37/163 [00:09<00:31,  4.06it/s]"
     ]
    },
    {
     "name": "stdout",
     "output_type": "stream",
     "text": [
      "bone-china-211\n",
      "I'm doing the thing.\n"
     ]
    },
    {
     "name": "stderr",
     "output_type": "stream",
     "text": [
      " 24%|██▍       | 39/163 [00:09<00:27,  4.48it/s]"
     ]
    },
    {
     "name": "stdout",
     "output_type": "stream",
     "text": [
      "bone-china-226\n",
      "I'm doing the thing.\n",
      "bone-penn-087\n",
      "I'm doing the thing.\n"
     ]
    },
    {
     "name": "stderr",
     "output_type": "stream",
     "text": [
      "\r",
      " 25%|██▍       | 40/163 [00:10<00:41,  2.99it/s]"
     ]
    },
    {
     "name": "stdout",
     "output_type": "stream",
     "text": [
      "bone-penn-096\n",
      "I'm doing the thing.\n"
     ]
    },
    {
     "name": "stderr",
     "output_type": "stream",
     "text": [
      "\r",
      " 25%|██▌       | 41/163 [00:10<00:55,  2.18it/s]"
     ]
    },
    {
     "name": "stdout",
     "output_type": "stream",
     "text": [
      "bone-penn-101\n",
      "I'm doing the thing.\n"
     ]
    },
    {
     "name": "stderr",
     "output_type": "stream",
     "text": [
      "\r",
      " 26%|██▌       | 42/163 [00:11<00:49,  2.45it/s]"
     ]
    },
    {
     "name": "stdout",
     "output_type": "stream",
     "text": [
      "bone-penn-104\n",
      "I'm doing the thing.\n"
     ]
    },
    {
     "name": "stderr",
     "output_type": "stream",
     "text": [
      "\r",
      " 26%|██▋       | 43/163 [00:11<00:42,  2.84it/s]"
     ]
    },
    {
     "name": "stdout",
     "output_type": "stream",
     "text": [
      "bone-penn-108\n",
      "I'm doing the thing.\n"
     ]
    },
    {
     "name": "stderr",
     "output_type": "stream",
     "text": [
      " 28%|██▊       | 45/163 [00:12<00:49,  2.38it/s]"
     ]
    },
    {
     "name": "stdout",
     "output_type": "stream",
     "text": [
      "bone-penn-115\n",
      "I'm doing the thing.\n",
      "bone-penn-124\n",
      "I'm doing the thing.\n"
     ]
    },
    {
     "name": "stderr",
     "output_type": "stream",
     "text": [
      "\r",
      " 28%|██▊       | 46/163 [00:13<01:13,  1.60it/s]"
     ]
    },
    {
     "name": "stdout",
     "output_type": "stream",
     "text": [
      "bone-penn-132\n",
      "I'm doing the thing.\n"
     ]
    },
    {
     "name": "stderr",
     "output_type": "stream",
     "text": [
      "\r",
      " 29%|██▉       | 47/163 [00:14<01:26,  1.34it/s]"
     ]
    },
    {
     "name": "stdout",
     "output_type": "stream",
     "text": [
      "bone-penn-143\n",
      "I'm doing the thing.\n"
     ]
    },
    {
     "name": "stderr",
     "output_type": "stream",
     "text": [
      "\r",
      " 29%|██▉       | 48/163 [00:14<01:11,  1.60it/s]"
     ]
    },
    {
     "name": "stdout",
     "output_type": "stream",
     "text": [
      "bone-penn-151\n",
      "I'm doing the thing.\n"
     ]
    },
    {
     "name": "stderr",
     "output_type": "stream",
     "text": [
      "\r",
      " 30%|███       | 49/163 [00:16<01:29,  1.28it/s]"
     ]
    },
    {
     "name": "stdout",
     "output_type": "stream",
     "text": [
      "bone-penn-159\n",
      "I'm doing the thing.\n"
     ]
    },
    {
     "name": "stderr",
     "output_type": "stream",
     "text": [
      " 31%|███▏      | 51/163 [00:16<01:00,  1.84it/s]"
     ]
    },
    {
     "name": "stdout",
     "output_type": "stream",
     "text": [
      "bone-penn-165\n",
      "I'm doing the thing.\n",
      "bone-penn-166\n",
      "I'm doing the thing.\n"
     ]
    },
    {
     "name": "stderr",
     "output_type": "stream",
     "text": [
      "\r",
      " 32%|███▏      | 52/163 [00:17<00:52,  2.10it/s]"
     ]
    },
    {
     "name": "stdout",
     "output_type": "stream",
     "text": [
      "bone-penn-169\n",
      "I'm doing the thing.\n"
     ]
    },
    {
     "name": "stderr",
     "output_type": "stream",
     "text": [
      "\r",
      " 33%|███▎      | 53/163 [00:18<01:26,  1.27it/s]"
     ]
    },
    {
     "name": "stdout",
     "output_type": "stream",
     "text": [
      "bone-penn-176\n",
      "I'm doing the thing.\n"
     ]
    },
    {
     "name": "stderr",
     "output_type": "stream",
     "text": [
      "\r",
      " 33%|███▎      | 54/163 [00:19<01:13,  1.49it/s]"
     ]
    },
    {
     "name": "stdout",
     "output_type": "stream",
     "text": [
      "bone-penn-182\n",
      "I'm doing the thing.\n"
     ]
    },
    {
     "name": "stderr",
     "output_type": "stream",
     "text": [
      "\r",
      " 34%|███▎      | 55/163 [00:19<01:14,  1.46it/s]"
     ]
    },
    {
     "name": "stdout",
     "output_type": "stream",
     "text": [
      "bone-penn-186\n",
      "I'm doing the thing.\n"
     ]
    },
    {
     "name": "stderr",
     "output_type": "stream",
     "text": [
      "\r",
      " 34%|███▍      | 56/163 [00:20<01:19,  1.34it/s]"
     ]
    },
    {
     "name": "stdout",
     "output_type": "stream",
     "text": [
      "bone-penn-203\n",
      "I'm doing the thing.\n"
     ]
    },
    {
     "name": "stderr",
     "output_type": "stream",
     "text": [
      "\r",
      " 35%|███▍      | 57/163 [00:21<01:18,  1.35it/s]"
     ]
    },
    {
     "name": "stdout",
     "output_type": "stream",
     "text": [
      "bone-penn-211\n",
      "I'm doing the thing.\n"
     ]
    },
    {
     "name": "stderr",
     "output_type": "stream",
     "text": [
      "\r",
      " 36%|███▌      | 58/163 [00:22<01:25,  1.23it/s]"
     ]
    },
    {
     "name": "stdout",
     "output_type": "stream",
     "text": [
      "bone-penn-226\n",
      "I'm doing the thing.\n"
     ]
    },
    {
     "name": "stderr",
     "output_type": "stream",
     "text": [
      "\r",
      " 36%|███▌      | 59/163 [00:22<01:09,  1.50it/s]"
     ]
    },
    {
     "name": "stdout",
     "output_type": "stream",
     "text": [
      "bone-penn-234\n",
      "I'm doing the thing.\n"
     ]
    },
    {
     "name": "stderr",
     "output_type": "stream",
     "text": [
      " 37%|███▋      | 61/163 [00:24<01:03,  1.61it/s]"
     ]
    },
    {
     "name": "stdout",
     "output_type": "stream",
     "text": [
      "bone-penn-259\n",
      "I'm doing the thing.\n",
      "bone-penn-263\n",
      "I'm doing the thing.\n"
     ]
    },
    {
     "name": "stderr",
     "output_type": "stream",
     "text": [
      "\r",
      " 38%|███▊      | 62/163 [00:24<01:04,  1.56it/s]"
     ]
    },
    {
     "name": "stdout",
     "output_type": "stream",
     "text": [
      "bone-penn-265\n",
      "I'm doing the thing.\n"
     ]
    },
    {
     "name": "stderr",
     "output_type": "stream",
     "text": [
      "\r",
      " 39%|███▊      | 63/163 [00:25<00:58,  1.71it/s]"
     ]
    },
    {
     "name": "stdout",
     "output_type": "stream",
     "text": [
      "bone-penn-270\n",
      "I'm doing the thing.\n"
     ]
    },
    {
     "name": "stderr",
     "output_type": "stream",
     "text": [
      "\r",
      " 39%|███▉      | 64/163 [00:26<01:09,  1.43it/s]"
     ]
    },
    {
     "name": "stdout",
     "output_type": "stream",
     "text": [
      "bone-penn-273\n",
      "I'm doing the thing.\n"
     ]
    },
    {
     "name": "stderr",
     "output_type": "stream",
     "text": [
      "\r",
      " 40%|███▉      | 65/163 [00:26<01:06,  1.47it/s]"
     ]
    },
    {
     "name": "stdout",
     "output_type": "stream",
     "text": [
      "bone-penn-274\n",
      "I'm doing the thing.\n"
     ]
    },
    {
     "name": "stderr",
     "output_type": "stream",
     "text": [
      "\r",
      " 40%|████      | 66/163 [00:28<01:25,  1.13it/s]"
     ]
    },
    {
     "name": "stdout",
     "output_type": "stream",
     "text": [
      "bone-penn-275\n",
      "I'm doing the thing.\n"
     ]
    },
    {
     "name": "stderr",
     "output_type": "stream",
     "text": [
      "\r",
      " 41%|████      | 67/163 [00:28<01:06,  1.44it/s]"
     ]
    },
    {
     "name": "stdout",
     "output_type": "stream",
     "text": [
      "bone-penn-281\n",
      "I'm doing the thing.\n"
     ]
    },
    {
     "name": "stderr",
     "output_type": "stream",
     "text": [
      "\r",
      " 42%|████▏     | 68/163 [00:29<01:04,  1.47it/s]"
     ]
    },
    {
     "name": "stdout",
     "output_type": "stream",
     "text": [
      "bone-penn-309\n",
      "I'm doing the thing.\n"
     ]
    },
    {
     "name": "stderr",
     "output_type": "stream",
     "text": [
      "\r",
      " 42%|████▏     | 69/163 [00:30<01:24,  1.11it/s]"
     ]
    },
    {
     "name": "stdout",
     "output_type": "stream",
     "text": [
      "bone-penn-329\n",
      "I'm doing the thing.\n"
     ]
    },
    {
     "name": "stderr",
     "output_type": "stream",
     "text": [
      "\r",
      " 43%|████▎     | 70/163 [00:31<01:26,  1.08it/s]"
     ]
    },
    {
     "name": "stdout",
     "output_type": "stream",
     "text": [
      "bone-penn-334\n",
      "I'm doing the thing.\n"
     ]
    },
    {
     "name": "stderr",
     "output_type": "stream",
     "text": [
      "\r",
      " 44%|████▎     | 71/163 [00:32<01:28,  1.04it/s]"
     ]
    },
    {
     "name": "stdout",
     "output_type": "stream",
     "text": [
      "bone-penn-378\n",
      "I'm doing the thing.\n"
     ]
    },
    {
     "name": "stderr",
     "output_type": "stream",
     "text": [
      " 45%|████▍     | 73/163 [00:33<00:59,  1.52it/s]"
     ]
    },
    {
     "name": "stdout",
     "output_type": "stream",
     "text": [
      "bone-penn-381\n",
      "I'm doing the thing.\n",
      "bone-penn-390\n",
      "I'm doing the thing.\n"
     ]
    },
    {
     "name": "stderr",
     "output_type": "stream",
     "text": [
      "\r",
      " 45%|████▌     | 74/163 [00:33<00:55,  1.60it/s]"
     ]
    },
    {
     "name": "stdout",
     "output_type": "stream",
     "text": [
      "bone-penn-401\n",
      "I'm doing the thing.\n"
     ]
    },
    {
     "name": "stderr",
     "output_type": "stream",
     "text": [
      " 47%|████▋     | 76/163 [00:34<00:36,  2.41it/s]"
     ]
    },
    {
     "name": "stdout",
     "output_type": "stream",
     "text": [
      "bone-penn-403\n",
      "I'm doing the thing.\n",
      "bone-penn-439\n",
      "I'm doing the thing.\n"
     ]
    },
    {
     "name": "stderr",
     "output_type": "stream",
     "text": [
      "\r",
      " 47%|████▋     | 77/163 [00:35<00:45,  1.91it/s]"
     ]
    },
    {
     "name": "stdout",
     "output_type": "stream",
     "text": [
      "bone-penn-456\n",
      "I'm doing the thing.\n"
     ]
    },
    {
     "name": "stderr",
     "output_type": "stream",
     "text": [
      "\r",
      " 48%|████▊     | 78/163 [00:35<00:49,  1.71it/s]"
     ]
    },
    {
     "name": "stdout",
     "output_type": "stream",
     "text": [
      "bone-penn-462\n",
      "I'm doing the thing.\n"
     ]
    },
    {
     "name": "stderr",
     "output_type": "stream",
     "text": [
      "\r",
      " 48%|████▊     | 79/163 [00:36<00:50,  1.66it/s]"
     ]
    },
    {
     "name": "stdout",
     "output_type": "stream",
     "text": [
      "bone-penn-464\n",
      "I'm doing the thing.\n"
     ]
    },
    {
     "name": "stderr",
     "output_type": "stream",
     "text": [
      "\r",
      " 49%|████▉     | 80/163 [00:36<00:44,  1.86it/s]"
     ]
    },
    {
     "name": "stdout",
     "output_type": "stream",
     "text": [
      "bone-penn-466\n",
      "I'm doing the thing.\n"
     ]
    },
    {
     "name": "stderr",
     "output_type": "stream",
     "text": [
      "\r",
      " 50%|████▉     | 81/163 [00:38<01:00,  1.35it/s]"
     ]
    },
    {
     "name": "stdout",
     "output_type": "stream",
     "text": [
      "bone-penn-468\n",
      "I'm doing the thing.\n"
     ]
    },
    {
     "name": "stderr",
     "output_type": "stream",
     "text": [
      "\r",
      " 50%|█████     | 82/163 [00:39<01:26,  1.06s/it]"
     ]
    },
    {
     "name": "stdout",
     "output_type": "stream",
     "text": [
      "bone-penn-479\n",
      "I'm doing the thing.\n"
     ]
    },
    {
     "name": "stderr",
     "output_type": "stream",
     "text": [
      "\r",
      " 51%|█████     | 83/163 [00:40<01:14,  1.08it/s]"
     ]
    },
    {
     "name": "stdout",
     "output_type": "stream",
     "text": [
      "bone-penn-481\n",
      "I'm doing the thing.\n"
     ]
    },
    {
     "name": "stderr",
     "output_type": "stream",
     "text": [
      "\r",
      " 52%|█████▏    | 84/163 [00:40<00:57,  1.38it/s]"
     ]
    },
    {
     "name": "stdout",
     "output_type": "stream",
     "text": [
      "bone-penn-485\n",
      "I'm doing the thing.\n"
     ]
    },
    {
     "name": "stderr",
     "output_type": "stream",
     "text": [
      " 53%|█████▎    | 86/163 [00:42<00:57,  1.35it/s]"
     ]
    },
    {
     "name": "stdout",
     "output_type": "stream",
     "text": [
      "bone-penn-488\n",
      "I'm doing the thing.\n",
      "bone-penn-491\n",
      "I'm doing the thing.\n"
     ]
    },
    {
     "name": "stderr",
     "output_type": "stream",
     "text": [
      "\r",
      " 53%|█████▎    | 87/163 [00:42<00:45,  1.65it/s]"
     ]
    },
    {
     "name": "stdout",
     "output_type": "stream",
     "text": [
      "bone-penn-492\n",
      "I'm doing the thing.\n"
     ]
    },
    {
     "name": "stderr",
     "output_type": "stream",
     "text": [
      "\r",
      " 54%|█████▍    | 88/163 [00:43<00:37,  2.00it/s]"
     ]
    },
    {
     "name": "stdout",
     "output_type": "stream",
     "text": [
      "bone-penn-498\n",
      "I'm doing the thing.\n"
     ]
    },
    {
     "name": "stderr",
     "output_type": "stream",
     "text": [
      "\r",
      " 55%|█████▍    | 89/163 [00:43<00:31,  2.38it/s]"
     ]
    },
    {
     "name": "stdout",
     "output_type": "stream",
     "text": [
      "bone-penn-500\n",
      "I'm doing the thing.\n"
     ]
    },
    {
     "name": "stderr",
     "output_type": "stream",
     "text": [
      "\r",
      " 55%|█████▌    | 90/163 [00:44<00:39,  1.86it/s]"
     ]
    },
    {
     "name": "stdout",
     "output_type": "stream",
     "text": [
      "bone-penn-502\n",
      "I'm doing the thing.\n"
     ]
    },
    {
     "name": "stderr",
     "output_type": "stream",
     "text": [
      "\r",
      " 56%|█████▌    | 91/163 [00:45<00:58,  1.22it/s]"
     ]
    },
    {
     "name": "stdout",
     "output_type": "stream",
     "text": [
      "bone-penn-504\n",
      "I'm doing the thing.\n"
     ]
    },
    {
     "name": "stderr",
     "output_type": "stream",
     "text": [
      "\r",
      " 56%|█████▋    | 92/163 [00:45<00:45,  1.57it/s]"
     ]
    },
    {
     "name": "stdout",
     "output_type": "stream",
     "text": [
      "bone-penn-508\n",
      "I'm doing the thing.\n"
     ]
    },
    {
     "name": "stderr",
     "output_type": "stream",
     "text": [
      "\r",
      " 57%|█████▋    | 93/163 [00:46<00:42,  1.66it/s]"
     ]
    },
    {
     "name": "stdout",
     "output_type": "stream",
     "text": [
      "bone-penn-511\n",
      "I'm doing the thing.\n"
     ]
    },
    {
     "name": "stderr",
     "output_type": "stream",
     "text": [
      "\r",
      " 58%|█████▊    | 94/163 [00:46<00:36,  1.90it/s]"
     ]
    },
    {
     "name": "stdout",
     "output_type": "stream",
     "text": [
      "bone-penn-526\n",
      "I'm doing the thing.\n"
     ]
    },
    {
     "name": "stderr",
     "output_type": "stream",
     "text": [
      " 59%|█████▉    | 96/163 [00:47<00:34,  1.92it/s]"
     ]
    },
    {
     "name": "stdout",
     "output_type": "stream",
     "text": [
      "bone-penn-532\n",
      "I'm doing the thing.\n",
      "bone-penn-537\n",
      "I'm doing the thing.\n"
     ]
    },
    {
     "name": "stderr",
     "output_type": "stream",
     "text": [
      "\r",
      " 60%|█████▉    | 97/163 [00:47<00:27,  2.43it/s]"
     ]
    },
    {
     "name": "stdout",
     "output_type": "stream",
     "text": [
      "bone-penn-553\n",
      "I'm doing the thing.\n"
     ]
    },
    {
     "name": "stderr",
     "output_type": "stream",
     "text": [
      "\r",
      " 60%|██████    | 98/163 [00:48<00:33,  1.96it/s]"
     ]
    },
    {
     "name": "stdout",
     "output_type": "stream",
     "text": [
      "bone-penn-564\n",
      "I'm doing the thing.\n"
     ]
    },
    {
     "name": "stderr",
     "output_type": "stream",
     "text": [
      "\r",
      " 61%|██████    | 99/163 [00:49<00:30,  2.13it/s]"
     ]
    },
    {
     "name": "stdout",
     "output_type": "stream",
     "text": [
      "bone-penn-576\n",
      "I'm doing the thing.\n"
     ]
    },
    {
     "name": "stderr",
     "output_type": "stream",
     "text": [
      "\r",
      " 61%|██████▏   | 100/163 [00:50<00:40,  1.56it/s]"
     ]
    },
    {
     "name": "stdout",
     "output_type": "stream",
     "text": [
      "bone-penn-583\n",
      "I'm doing the thing.\n"
     ]
    },
    {
     "name": "stderr",
     "output_type": "stream",
     "text": [
      " 63%|██████▎   | 102/163 [00:50<00:25,  2.36it/s]"
     ]
    },
    {
     "name": "stdout",
     "output_type": "stream",
     "text": [
      "bone-penn-584\n",
      "I'm doing the thing.\n",
      "bone-penn-590\n",
      "I'm doing the thing.\n"
     ]
    },
    {
     "name": "stderr",
     "output_type": "stream",
     "text": [
      "\r",
      " 63%|██████▎   | 103/163 [00:51<00:30,  1.96it/s]"
     ]
    },
    {
     "name": "stdout",
     "output_type": "stream",
     "text": [
      "bone-penn-595\n",
      "I'm doing the thing.\n"
     ]
    },
    {
     "name": "stderr",
     "output_type": "stream",
     "text": [
      "\r",
      " 64%|██████▍   | 104/163 [00:52<00:39,  1.51it/s]"
     ]
    },
    {
     "name": "stdout",
     "output_type": "stream",
     "text": [
      "bone-penn-607\n",
      "I'm doing the thing.\n"
     ]
    },
    {
     "name": "stderr",
     "output_type": "stream",
     "text": [
      "\r",
      " 64%|██████▍   | 105/163 [00:54<00:56,  1.03it/s]"
     ]
    },
    {
     "name": "stdout",
     "output_type": "stream",
     "text": [
      "bone-penn-608\n",
      "I'm doing the thing.\n"
     ]
    },
    {
     "name": "stderr",
     "output_type": "stream",
     "text": [
      "\r",
      " 65%|██████▌   | 106/163 [00:54<00:46,  1.22it/s]"
     ]
    },
    {
     "name": "stdout",
     "output_type": "stream",
     "text": [
      "bone-penn-618\n",
      "I'm doing the thing.\n"
     ]
    },
    {
     "name": "stderr",
     "output_type": "stream",
     "text": [
      "\r",
      " 66%|██████▌   | 107/163 [00:55<00:42,  1.31it/s]"
     ]
    },
    {
     "name": "stdout",
     "output_type": "stream",
     "text": [
      "bone-penn-628\n",
      "I'm doing the thing.\n"
     ]
    },
    {
     "name": "stderr",
     "output_type": "stream",
     "text": [
      "\r",
      " 66%|██████▋   | 108/163 [00:55<00:35,  1.56it/s]"
     ]
    },
    {
     "name": "stdout",
     "output_type": "stream",
     "text": [
      "bone-penn-645\n",
      "I'm doing the thing.\n"
     ]
    },
    {
     "name": "stderr",
     "output_type": "stream",
     "text": [
      "\r",
      " 67%|██████▋   | 109/163 [00:56<00:38,  1.40it/s]"
     ]
    },
    {
     "name": "stdout",
     "output_type": "stream",
     "text": [
      "bone-penn-646\n",
      "I'm doing the thing.\n"
     ]
    },
    {
     "name": "stderr",
     "output_type": "stream",
     "text": [
      "\r",
      " 67%|██████▋   | 110/163 [00:57<00:39,  1.35it/s]"
     ]
    },
    {
     "name": "stdout",
     "output_type": "stream",
     "text": [
      "bone-penn-647\n",
      "I'm doing the thing.\n"
     ]
    },
    {
     "name": "stderr",
     "output_type": "stream",
     "text": [
      "\r",
      " 68%|██████▊   | 111/163 [00:57<00:34,  1.52it/s]"
     ]
    },
    {
     "name": "stdout",
     "output_type": "stream",
     "text": [
      "bone-hup-129\n",
      "I'm doing the thing.\n"
     ]
    },
    {
     "name": "stderr",
     "output_type": "stream",
     "text": [
      "\r",
      " 69%|██████▊   | 112/163 [00:58<00:40,  1.26it/s]"
     ]
    },
    {
     "name": "stdout",
     "output_type": "stream",
     "text": [
      "bone-hup-144\n",
      "I'm doing the thing.\n"
     ]
    },
    {
     "name": "stderr",
     "output_type": "stream",
     "text": [
      "\r",
      " 69%|██████▉   | 113/163 [00:59<00:33,  1.48it/s]"
     ]
    },
    {
     "name": "stdout",
     "output_type": "stream",
     "text": [
      "bone-hup-145\n",
      "I'm doing the thing.\n"
     ]
    },
    {
     "name": "stderr",
     "output_type": "stream",
     "text": [
      "\r",
      " 70%|██████▉   | 114/163 [00:59<00:29,  1.67it/s]"
     ]
    },
    {
     "name": "stdout",
     "output_type": "stream",
     "text": [
      "bone-hup-147\n",
      "I'm doing the thing.\n"
     ]
    },
    {
     "name": "stderr",
     "output_type": "stream",
     "text": [
      "\r",
      " 71%|███████   | 115/163 [01:00<00:38,  1.25it/s]"
     ]
    },
    {
     "name": "stdout",
     "output_type": "stream",
     "text": [
      "bone-hup-153\n",
      "I'm doing the thing.\n"
     ]
    },
    {
     "name": "stderr",
     "output_type": "stream",
     "text": [
      "\r",
      " 71%|███████   | 116/163 [01:01<00:34,  1.35it/s]"
     ]
    },
    {
     "name": "stdout",
     "output_type": "stream",
     "text": [
      "bone-hup-157\n",
      "I'm doing the thing.\n"
     ]
    },
    {
     "name": "stderr",
     "output_type": "stream",
     "text": [
      "\r",
      " 72%|███████▏  | 117/163 [01:02<00:45,  1.02it/s]"
     ]
    },
    {
     "name": "stdout",
     "output_type": "stream",
     "text": [
      "bone-hup-166\n",
      "I'm doing the thing.\n"
     ]
    },
    {
     "name": "stderr",
     "output_type": "stream",
     "text": [
      " 73%|███████▎  | 119/163 [01:03<00:27,  1.62it/s]"
     ]
    },
    {
     "name": "stdout",
     "output_type": "stream",
     "text": [
      "bone-hup-170\n",
      "I'm doing the thing.\n",
      "bone-hup-176\n",
      "I'm doing the thing.\n"
     ]
    },
    {
     "name": "stderr",
     "output_type": "stream",
     "text": [
      " 74%|███████▍  | 121/163 [01:03<00:17,  2.43it/s]"
     ]
    },
    {
     "name": "stdout",
     "output_type": "stream",
     "text": [
      "bone-hup-183\n",
      "I'm doing the thing.\n",
      "bone-hup-192\n",
      "I'm doing the thing.\n"
     ]
    },
    {
     "name": "stderr",
     "output_type": "stream",
     "text": [
      " 75%|███████▌  | 123/163 [01:04<00:12,  3.17it/s]"
     ]
    },
    {
     "name": "stdout",
     "output_type": "stream",
     "text": [
      "bone-hup-196\n",
      "I'm doing the thing.\n",
      "bone-hup-204\n",
      "I'm doing the thing.\n",
      "bone-hup-205\n",
      "I'm doing the thing.\n"
     ]
    },
    {
     "name": "stderr",
     "output_type": "stream",
     "text": [
      "\r",
      " 77%|███████▋  | 125/163 [01:05<00:12,  3.06it/s]"
     ]
    },
    {
     "name": "stdout",
     "output_type": "stream",
     "text": [
      "bone-hup-216\n",
      "I'm doing the thing.\n"
     ]
    },
    {
     "name": "stderr",
     "output_type": "stream",
     "text": [
      " 78%|███████▊  | 127/163 [01:05<00:10,  3.48it/s]"
     ]
    },
    {
     "name": "stdout",
     "output_type": "stream",
     "text": [
      "bone-hup-222\n",
      "I'm doing the thing.\n",
      "bone-hup-246\n",
      "I'm doing the thing.\n"
     ]
    },
    {
     "name": "stderr",
     "output_type": "stream",
     "text": [
      "\r",
      " 79%|███████▊  | 128/163 [01:06<00:11,  2.96it/s]"
     ]
    },
    {
     "name": "stdout",
     "output_type": "stream",
     "text": [
      "bone-hup-292\n",
      "I'm doing the thing.\n"
     ]
    },
    {
     "name": "stderr",
     "output_type": "stream",
     "text": [
      "\r",
      " 79%|███████▉  | 129/163 [01:06<00:12,  2.76it/s]"
     ]
    },
    {
     "name": "stdout",
     "output_type": "stream",
     "text": [
      "bone-hup-295\n",
      "I'm doing the thing.\n"
     ]
    },
    {
     "name": "stderr",
     "output_type": "stream",
     "text": [
      "\r",
      " 80%|███████▉  | 130/163 [01:07<00:17,  1.85it/s]"
     ]
    },
    {
     "name": "stdout",
     "output_type": "stream",
     "text": [
      "bone-hup-301\n",
      "I'm doing the thing.\n"
     ]
    },
    {
     "name": "stderr",
     "output_type": "stream",
     "text": [
      "\r",
      " 80%|████████  | 131/163 [01:07<00:15,  2.12it/s]"
     ]
    },
    {
     "name": "stdout",
     "output_type": "stream",
     "text": [
      "bone-hup-303\n",
      "I'm doing the thing.\n"
     ]
    },
    {
     "name": "stderr",
     "output_type": "stream",
     "text": [
      "\r",
      " 81%|████████  | 132/163 [01:08<00:20,  1.49it/s]"
     ]
    },
    {
     "name": "stdout",
     "output_type": "stream",
     "text": [
      "bone-hup-307\n",
      "I'm doing the thing.\n"
     ]
    },
    {
     "name": "stderr",
     "output_type": "stream",
     "text": [
      "\r",
      " 82%|████████▏ | 133/163 [01:09<00:17,  1.75it/s]"
     ]
    },
    {
     "name": "stdout",
     "output_type": "stream",
     "text": [
      "bone-hup-315\n",
      "I'm doing the thing.\n"
     ]
    },
    {
     "name": "stderr",
     "output_type": "stream",
     "text": [
      "\r",
      " 82%|████████▏ | 134/163 [01:09<00:14,  1.94it/s]"
     ]
    },
    {
     "name": "stdout",
     "output_type": "stream",
     "text": [
      "bone-hup-320\n",
      "I'm doing the thing.\n"
     ]
    },
    {
     "name": "stderr",
     "output_type": "stream",
     "text": [
      "\r",
      " 83%|████████▎ | 135/163 [01:11<00:22,  1.25it/s]"
     ]
    },
    {
     "name": "stdout",
     "output_type": "stream",
     "text": [
      "bone-hup-322\n",
      "I'm doing the thing.\n"
     ]
    },
    {
     "name": "stderr",
     "output_type": "stream",
     "text": [
      "\r",
      " 83%|████████▎ | 136/163 [01:11<00:19,  1.38it/s]"
     ]
    },
    {
     "name": "stdout",
     "output_type": "stream",
     "text": [
      "bone-hup-327\n",
      "I'm doing the thing.\n"
     ]
    },
    {
     "name": "stderr",
     "output_type": "stream",
     "text": [
      "\r",
      " 84%|████████▍ | 137/163 [01:11<00:15,  1.72it/s]"
     ]
    },
    {
     "name": "stdout",
     "output_type": "stream",
     "text": [
      "bone-hup-329\n",
      "I'm doing the thing.\n"
     ]
    },
    {
     "name": "stderr",
     "output_type": "stream",
     "text": [
      "\r",
      " 85%|████████▍ | 138/163 [01:12<00:15,  1.61it/s]"
     ]
    },
    {
     "name": "stdout",
     "output_type": "stream",
     "text": [
      "bone-hup-48\n",
      "I'm doing the thing.\n"
     ]
    },
    {
     "name": "stderr",
     "output_type": "stream",
     "text": [
      "\r",
      " 85%|████████▌ | 139/163 [01:13<00:13,  1.74it/s]"
     ]
    },
    {
     "name": "stdout",
     "output_type": "stream",
     "text": [
      "bone-hup-54\n",
      "I'm doing the thing.\n"
     ]
    },
    {
     "name": "stderr",
     "output_type": "stream",
     "text": [
      "\r",
      " 86%|████████▌ | 140/163 [01:13<00:11,  1.96it/s]"
     ]
    },
    {
     "name": "stdout",
     "output_type": "stream",
     "text": [
      "bone-hup-72\n",
      "I'm doing the thing.\n"
     ]
    },
    {
     "name": "stderr",
     "output_type": "stream",
     "text": [
      "\r",
      " 87%|████████▋ | 141/163 [01:13<00:10,  2.06it/s]"
     ]
    },
    {
     "name": "stdout",
     "output_type": "stream",
     "text": [
      "bone-hup-73\n",
      "I'm doing the thing.\n"
     ]
    },
    {
     "name": "stderr",
     "output_type": "stream",
     "text": [
      "\r",
      " 87%|████████▋ | 142/163 [01:14<00:08,  2.49it/s]"
     ]
    },
    {
     "name": "stdout",
     "output_type": "stream",
     "text": [
      "bone-hup-77\n",
      "I'm doing the thing.\n",
      "bone-hup-89\n",
      "I'm doing the thing.\n"
     ]
    },
    {
     "name": "stderr",
     "output_type": "stream",
     "text": [
      "\r",
      " 88%|████████▊ | 144/163 [01:14<00:07,  2.71it/s]"
     ]
    },
    {
     "name": "stdout",
     "output_type": "stream",
     "text": [
      "bone-penn-002\n",
      "I'm doing the thing.\n"
     ]
    },
    {
     "name": "stderr",
     "output_type": "stream",
     "text": [
      "\r",
      " 89%|████████▉ | 145/163 [01:15<00:06,  2.75it/s]"
     ]
    },
    {
     "name": "stdout",
     "output_type": "stream",
     "text": [
      "bone-penn-004\n",
      "I'm doing the thing.\n"
     ]
    },
    {
     "name": "stderr",
     "output_type": "stream",
     "text": [
      "\r",
      " 90%|████████▉ | 146/163 [01:15<00:06,  2.80it/s]"
     ]
    },
    {
     "name": "stdout",
     "output_type": "stream",
     "text": [
      "bone-penn-010\n",
      "I'm doing the thing.\n"
     ]
    },
    {
     "name": "stderr",
     "output_type": "stream",
     "text": [
      "\r",
      " 90%|█████████ | 147/163 [01:15<00:05,  2.79it/s]"
     ]
    },
    {
     "name": "stdout",
     "output_type": "stream",
     "text": [
      "bone-penn-013\n",
      "I'm doing the thing.\n"
     ]
    },
    {
     "name": "stderr",
     "output_type": "stream",
     "text": [
      "\r",
      " 91%|█████████ | 148/163 [01:16<00:06,  2.16it/s]"
     ]
    },
    {
     "name": "stdout",
     "output_type": "stream",
     "text": [
      "bone-penn-017\n",
      "I'm doing the thing.\n"
     ]
    },
    {
     "name": "stderr",
     "output_type": "stream",
     "text": [
      "\r",
      " 91%|█████████▏| 149/163 [01:16<00:05,  2.39it/s]"
     ]
    },
    {
     "name": "stdout",
     "output_type": "stream",
     "text": [
      "bone-penn-026\n",
      "I'm doing the thing.\n"
     ]
    },
    {
     "name": "stderr",
     "output_type": "stream",
     "text": [
      "\r",
      " 92%|█████████▏| 150/163 [01:17<00:04,  2.63it/s]"
     ]
    },
    {
     "name": "stdout",
     "output_type": "stream",
     "text": [
      "bone-penn-028\n",
      "I'm doing the thing.\n"
     ]
    },
    {
     "name": "stderr",
     "output_type": "stream",
     "text": [
      "\r",
      " 93%|█████████▎| 151/163 [01:17<00:04,  2.81it/s]"
     ]
    },
    {
     "name": "stdout",
     "output_type": "stream",
     "text": [
      "bone-penn-031\n",
      "I'm doing the thing.\n",
      "bone-penn-032\n",
      "I'm doing the thing.\n"
     ]
    },
    {
     "name": "stderr",
     "output_type": "stream",
     "text": [
      " 94%|█████████▍| 154/163 [01:18<00:02,  3.71it/s]"
     ]
    },
    {
     "name": "stdout",
     "output_type": "stream",
     "text": [
      "bone-penn-035\n",
      "I'm doing the thing.\n",
      "bone-penn-041\n",
      "I'm doing the thing.\n"
     ]
    },
    {
     "name": "stderr",
     "output_type": "stream",
     "text": [
      "\r",
      " 95%|█████████▌| 155/163 [01:18<00:03,  2.44it/s]"
     ]
    },
    {
     "name": "stdout",
     "output_type": "stream",
     "text": [
      "bone-penn-044\n",
      "I'm doing the thing.\n"
     ]
    },
    {
     "name": "stderr",
     "output_type": "stream",
     "text": [
      "\r",
      " 96%|█████████▌| 156/163 [01:19<00:04,  1.55it/s]"
     ]
    },
    {
     "name": "stdout",
     "output_type": "stream",
     "text": [
      "bone-penn-055\n",
      "I'm doing the thing.\n"
     ]
    },
    {
     "name": "stderr",
     "output_type": "stream",
     "text": [
      "\r",
      " 96%|█████████▋| 157/163 [01:20<00:03,  1.60it/s]"
     ]
    },
    {
     "name": "stdout",
     "output_type": "stream",
     "text": [
      "bone-penn-059\n",
      "I'm doing the thing.\n"
     ]
    },
    {
     "name": "stderr",
     "output_type": "stream",
     "text": [
      "\r",
      " 97%|█████████▋| 158/163 [01:21<00:03,  1.58it/s]"
     ]
    },
    {
     "name": "stdout",
     "output_type": "stream",
     "text": [
      "bone-penn-061\n",
      "I'm doing the thing.\n"
     ]
    },
    {
     "name": "stderr",
     "output_type": "stream",
     "text": [
      "\r",
      " 98%|█████████▊| 159/163 [01:21<00:02,  1.53it/s]"
     ]
    },
    {
     "name": "stdout",
     "output_type": "stream",
     "text": [
      "bone-penn-063\n",
      "I'm doing the thing.\n"
     ]
    },
    {
     "name": "stderr",
     "output_type": "stream",
     "text": [
      "\r",
      " 98%|█████████▊| 160/163 [01:22<00:01,  1.65it/s]"
     ]
    },
    {
     "name": "stdout",
     "output_type": "stream",
     "text": [
      "bone-penn-065\n",
      "I'm doing the thing.\n"
     ]
    },
    {
     "name": "stderr",
     "output_type": "stream",
     "text": [
      " 99%|█████████▉| 162/163 [01:23<00:00,  1.60it/s]"
     ]
    },
    {
     "name": "stdout",
     "output_type": "stream",
     "text": [
      "bone-penn-067\n",
      "I'm doing the thing.\n",
      "bone-penn-075\n",
      "I'm doing the thing.\n"
     ]
    },
    {
     "name": "stderr",
     "output_type": "stream",
     "text": [
      "100%|██████████| 163/163 [01:24<00:00,  1.93it/s]\n",
      "  1%|          | 1/92 [00:00<00:12,  7.03it/s]"
     ]
    },
    {
     "name": "stdout",
     "output_type": "stream",
     "text": [
      "bone-china-007\n",
      "I'm doing the thing.\n",
      "bone-china-012\n",
      "I'm doing the thing.\n"
     ]
    },
    {
     "name": "stderr",
     "output_type": "stream",
     "text": [
      "\r",
      "  2%|▏         | 2/92 [00:00<00:14,  6.03it/s]"
     ]
    },
    {
     "name": "stdout",
     "output_type": "stream",
     "text": [
      "bone-china-013\n",
      "I'm doing the thing.\n"
     ]
    },
    {
     "name": "stderr",
     "output_type": "stream",
     "text": [
      "  4%|▍         | 4/92 [00:00<00:16,  5.26it/s]"
     ]
    },
    {
     "name": "stdout",
     "output_type": "stream",
     "text": [
      "bone-china-018\n",
      "I'm doing the thing.\n",
      "bone-china-063\n",
      "I'm doing the thing.\n"
     ]
    },
    {
     "name": "stderr",
     "output_type": "stream",
     "text": [
      "\r",
      "  5%|▌         | 5/92 [00:01<00:17,  4.99it/s]"
     ]
    },
    {
     "name": "stdout",
     "output_type": "stream",
     "text": [
      "bone-china-064\n",
      "I'm doing the thing.\n"
     ]
    },
    {
     "name": "stderr",
     "output_type": "stream",
     "text": [
      "  8%|▊         | 7/92 [00:01<00:15,  5.38it/s]"
     ]
    },
    {
     "name": "stdout",
     "output_type": "stream",
     "text": [
      "bone-china-067\n",
      "I'm doing the thing.\n",
      "bone-china-082\n",
      "I'm doing the thing.\n"
     ]
    },
    {
     "name": "stderr",
     "output_type": "stream",
     "text": [
      "\r",
      "  9%|▊         | 8/92 [00:01<00:14,  5.70it/s]"
     ]
    },
    {
     "name": "stdout",
     "output_type": "stream",
     "text": [
      "bone-china-090\n",
      "I'm doing the thing.\n"
     ]
    },
    {
     "name": "stderr",
     "output_type": "stream",
     "text": [
      " 11%|█         | 10/92 [00:01<00:14,  5.63it/s]"
     ]
    },
    {
     "name": "stdout",
     "output_type": "stream",
     "text": [
      "bone-china-094\n",
      "I'm doing the thing.\n",
      "bone-china-130\n",
      "I'm doing the thing.\n"
     ]
    },
    {
     "name": "stderr",
     "output_type": "stream",
     "text": [
      " 13%|█▎        | 12/92 [00:02<00:12,  6.34it/s]"
     ]
    },
    {
     "name": "stdout",
     "output_type": "stream",
     "text": [
      "bone-china-137\n",
      "I'm doing the thing.\n",
      "bone-china-141\n",
      "I'm doing the thing.\n"
     ]
    },
    {
     "name": "stderr",
     "output_type": "stream",
     "text": [
      "\r",
      " 14%|█▍        | 13/92 [00:02<00:12,  6.47it/s]"
     ]
    },
    {
     "name": "stdout",
     "output_type": "stream",
     "text": [
      "bone-china-142\n",
      "I'm doing the thing.\n"
     ]
    },
    {
     "name": "stderr",
     "output_type": "stream",
     "text": [
      "\r",
      " 15%|█▌        | 14/92 [00:02<00:18,  4.22it/s]"
     ]
    },
    {
     "name": "stdout",
     "output_type": "stream",
     "text": [
      "bone-china-150\n",
      "I'm doing the thing.\n"
     ]
    },
    {
     "name": "stderr",
     "output_type": "stream",
     "text": [
      " 17%|█▋        | 16/92 [00:03<00:16,  4.57it/s]"
     ]
    },
    {
     "name": "stdout",
     "output_type": "stream",
     "text": [
      "bone-china-156\n",
      "I'm doing the thing.\n",
      "bone-china-157\n",
      "I'm doing the thing.\n"
     ]
    },
    {
     "name": "stderr",
     "output_type": "stream",
     "text": [
      " 20%|█▉        | 18/92 [00:03<00:12,  5.84it/s]"
     ]
    },
    {
     "name": "stdout",
     "output_type": "stream",
     "text": [
      "bone-china-181\n",
      "I'm doing the thing.\n",
      "bone-china-182\n",
      "I'm doing the thing.\n"
     ]
    },
    {
     "name": "stderr",
     "output_type": "stream",
     "text": [
      " 22%|██▏       | 20/92 [00:03<00:14,  4.86it/s]"
     ]
    },
    {
     "name": "stdout",
     "output_type": "stream",
     "text": [
      "bone-china-202\n",
      "I'm doing the thing.\n",
      "bone-china-206\n",
      "I'm doing the thing.\n"
     ]
    },
    {
     "name": "stderr",
     "output_type": "stream",
     "text": [
      " 24%|██▍       | 22/92 [00:04<00:10,  6.42it/s]"
     ]
    },
    {
     "name": "stdout",
     "output_type": "stream",
     "text": [
      "bone-china-208\n",
      "I'm doing the thing.\n",
      "bone-china-229\n",
      "I'm doing the thing.\n"
     ]
    },
    {
     "name": "stderr",
     "output_type": "stream",
     "text": [
      "\r",
      " 25%|██▌       | 23/92 [00:04<00:16,  4.19it/s]"
     ]
    },
    {
     "name": "stdout",
     "output_type": "stream",
     "text": [
      "bone-china-232\n",
      "I'm doing the thing.\n"
     ]
    },
    {
     "name": "stderr",
     "output_type": "stream",
     "text": [
      " 27%|██▋       | 25/92 [00:04<00:13,  4.89it/s]"
     ]
    },
    {
     "name": "stdout",
     "output_type": "stream",
     "text": [
      "bone-china-233\n",
      "I'm doing the thing.\n",
      "bone-china-235\n",
      "I'm doing the thing.\n"
     ]
    },
    {
     "name": "stderr",
     "output_type": "stream",
     "text": [
      "\r",
      " 28%|██▊       | 26/92 [00:05<00:17,  3.79it/s]"
     ]
    },
    {
     "name": "stdout",
     "output_type": "stream",
     "text": [
      "bone-china-241\n",
      "I'm doing the thing.\n"
     ]
    },
    {
     "name": "stderr",
     "output_type": "stream",
     "text": [
      "\r",
      " 29%|██▉       | 27/92 [00:05<00:19,  3.33it/s]"
     ]
    },
    {
     "name": "stdout",
     "output_type": "stream",
     "text": [
      "bone-penn-080\n",
      "I'm doing the thing.\n"
     ]
    },
    {
     "name": "stderr",
     "output_type": "stream",
     "text": [
      "\r",
      " 30%|███       | 28/92 [00:06<00:19,  3.21it/s]"
     ]
    },
    {
     "name": "stdout",
     "output_type": "stream",
     "text": [
      "bone-penn-102\n",
      "I'm doing the thing.\n"
     ]
    },
    {
     "name": "stderr",
     "output_type": "stream",
     "text": [
      "\r",
      " 32%|███▏      | 29/92 [00:07<00:38,  1.64it/s]"
     ]
    },
    {
     "name": "stdout",
     "output_type": "stream",
     "text": [
      "bone-penn-103\n",
      "I'm doing the thing.\n"
     ]
    },
    {
     "name": "stderr",
     "output_type": "stream",
     "text": [
      "\r",
      " 33%|███▎      | 30/92 [00:07<00:32,  1.92it/s]"
     ]
    },
    {
     "name": "stdout",
     "output_type": "stream",
     "text": [
      "bone-penn-117\n",
      "I'm doing the thing.\n"
     ]
    },
    {
     "name": "stderr",
     "output_type": "stream",
     "text": [
      "\r",
      " 34%|███▎      | 31/92 [00:08<00:29,  2.09it/s]"
     ]
    },
    {
     "name": "stdout",
     "output_type": "stream",
     "text": [
      "bone-penn-135\n",
      "I'm doing the thing.\n"
     ]
    },
    {
     "name": "stderr",
     "output_type": "stream",
     "text": [
      "\r",
      " 35%|███▍      | 32/92 [00:08<00:23,  2.51it/s]"
     ]
    },
    {
     "name": "stdout",
     "output_type": "stream",
     "text": [
      "bone-penn-145\n",
      "I'm doing the thing.\n"
     ]
    },
    {
     "name": "stderr",
     "output_type": "stream",
     "text": [
      "\r",
      " 36%|███▌      | 33/92 [00:09<00:33,  1.74it/s]"
     ]
    },
    {
     "name": "stdout",
     "output_type": "stream",
     "text": [
      "bone-penn-175\n",
      "I'm doing the thing.\n"
     ]
    },
    {
     "name": "stderr",
     "output_type": "stream",
     "text": [
      " 38%|███▊      | 35/92 [00:09<00:22,  2.48it/s]"
     ]
    },
    {
     "name": "stdout",
     "output_type": "stream",
     "text": [
      "bone-penn-184\n",
      "I'm doing the thing.\n",
      "bone-penn-185\n",
      "I'm doing the thing.\n"
     ]
    },
    {
     "name": "stderr",
     "output_type": "stream",
     "text": [
      "\r",
      " 39%|███▉      | 36/92 [00:09<00:19,  2.91it/s]"
     ]
    },
    {
     "name": "stdout",
     "output_type": "stream",
     "text": [
      "bone-penn-202\n",
      "I'm doing the thing.\n"
     ]
    },
    {
     "name": "stderr",
     "output_type": "stream",
     "text": [
      "\r",
      " 40%|████      | 37/92 [00:12<00:46,  1.18it/s]"
     ]
    },
    {
     "name": "stdout",
     "output_type": "stream",
     "text": [
      "bone-penn-229\n",
      "I'm doing the thing.\n"
     ]
    },
    {
     "name": "stderr",
     "output_type": "stream",
     "text": [
      "\r",
      " 41%|████▏     | 38/92 [00:12<00:40,  1.33it/s]"
     ]
    },
    {
     "name": "stdout",
     "output_type": "stream",
     "text": [
      "bone-penn-233\n",
      "I'm doing the thing.\n"
     ]
    },
    {
     "name": "stderr",
     "output_type": "stream",
     "text": [
      "\r",
      " 42%|████▏     | 39/92 [00:12<00:34,  1.54it/s]"
     ]
    },
    {
     "name": "stdout",
     "output_type": "stream",
     "text": [
      "bone-penn-271\n",
      "I'm doing the thing.\n"
     ]
    },
    {
     "name": "stderr",
     "output_type": "stream",
     "text": [
      "\r",
      " 43%|████▎     | 40/92 [00:13<00:29,  1.73it/s]"
     ]
    },
    {
     "name": "stdout",
     "output_type": "stream",
     "text": [
      "bone-penn-290\n",
      "I'm doing the thing.\n"
     ]
    },
    {
     "name": "stderr",
     "output_type": "stream",
     "text": [
      " 46%|████▌     | 42/92 [00:13<00:21,  2.35it/s]"
     ]
    },
    {
     "name": "stdout",
     "output_type": "stream",
     "text": [
      "bone-penn-295\n",
      "I'm doing the thing.\n",
      "bone-penn-326\n",
      "I'm doing the thing.\n"
     ]
    },
    {
     "name": "stderr",
     "output_type": "stream",
     "text": [
      "\r",
      " 47%|████▋     | 43/92 [00:14<00:16,  2.91it/s]"
     ]
    },
    {
     "name": "stdout",
     "output_type": "stream",
     "text": [
      "bone-penn-366\n",
      "I'm doing the thing.\n"
     ]
    },
    {
     "name": "stderr",
     "output_type": "stream",
     "text": [
      "\r",
      " 48%|████▊     | 44/92 [00:14<00:14,  3.21it/s]"
     ]
    },
    {
     "name": "stdout",
     "output_type": "stream",
     "text": [
      "bone-penn-383\n",
      "I'm doing the thing.\n"
     ]
    },
    {
     "name": "stderr",
     "output_type": "stream",
     "text": [
      "\r",
      " 49%|████▉     | 45/92 [00:14<00:15,  3.13it/s]"
     ]
    },
    {
     "name": "stdout",
     "output_type": "stream",
     "text": [
      "bone-penn-387\n",
      "I'm doing the thing.\n"
     ]
    },
    {
     "name": "stderr",
     "output_type": "stream",
     "text": [
      "\r",
      " 50%|█████     | 46/92 [00:16<00:28,  1.60it/s]"
     ]
    },
    {
     "name": "stdout",
     "output_type": "stream",
     "text": [
      "bone-penn-389\n",
      "I'm doing the thing.\n"
     ]
    },
    {
     "name": "stderr",
     "output_type": "stream",
     "text": [
      " 52%|█████▏    | 48/92 [00:18<00:32,  1.34it/s]"
     ]
    },
    {
     "name": "stdout",
     "output_type": "stream",
     "text": [
      "bone-penn-393\n",
      "I'm doing the thing.\n",
      "bone-penn-407\n",
      "I'm doing the thing.\n"
     ]
    },
    {
     "name": "stderr",
     "output_type": "stream",
     "text": [
      "\r",
      " 53%|█████▎    | 49/92 [00:18<00:32,  1.33it/s]"
     ]
    },
    {
     "name": "stdout",
     "output_type": "stream",
     "text": [
      "bone-penn-432\n",
      "I'm doing the thing.\n"
     ]
    },
    {
     "name": "stderr",
     "output_type": "stream",
     "text": [
      "\r",
      " 54%|█████▍    | 50/92 [00:19<00:31,  1.35it/s]"
     ]
    },
    {
     "name": "stdout",
     "output_type": "stream",
     "text": [
      "bone-penn-469\n",
      "I'm doing the thing.\n"
     ]
    },
    {
     "name": "stderr",
     "output_type": "stream",
     "text": [
      "\r",
      " 55%|█████▌    | 51/92 [00:20<00:28,  1.43it/s]"
     ]
    },
    {
     "name": "stdout",
     "output_type": "stream",
     "text": [
      "bone-penn-470\n",
      "I'm doing the thing.\n"
     ]
    },
    {
     "name": "stderr",
     "output_type": "stream",
     "text": [
      "\r",
      " 57%|█████▋    | 52/92 [00:20<00:22,  1.78it/s]"
     ]
    },
    {
     "name": "stdout",
     "output_type": "stream",
     "text": [
      "bone-penn-475\n",
      "I'm doing the thing.\n"
     ]
    },
    {
     "name": "stderr",
     "output_type": "stream",
     "text": [
      "\r",
      " 58%|█████▊    | 53/92 [00:20<00:19,  1.98it/s]"
     ]
    },
    {
     "name": "stdout",
     "output_type": "stream",
     "text": [
      "bone-penn-486\n",
      "I'm doing the thing.\n"
     ]
    },
    {
     "name": "stderr",
     "output_type": "stream",
     "text": [
      "\r",
      " 59%|█████▊    | 54/92 [00:20<00:16,  2.34it/s]"
     ]
    },
    {
     "name": "stdout",
     "output_type": "stream",
     "text": [
      "bone-penn-493\n",
      "I'm doing the thing.\n"
     ]
    },
    {
     "name": "stderr",
     "output_type": "stream",
     "text": [
      "\r",
      " 60%|█████▉    | 55/92 [00:21<00:19,  1.94it/s]"
     ]
    },
    {
     "name": "stdout",
     "output_type": "stream",
     "text": [
      "bone-penn-499\n",
      "I'm doing the thing.\n"
     ]
    },
    {
     "name": "stderr",
     "output_type": "stream",
     "text": [
      "\r",
      " 61%|██████    | 56/92 [00:22<00:18,  1.94it/s]"
     ]
    },
    {
     "name": "stdout",
     "output_type": "stream",
     "text": [
      "bone-penn-505\n",
      "I'm doing the thing.\n"
     ]
    },
    {
     "name": "stderr",
     "output_type": "stream",
     "text": [
      " 63%|██████▎   | 58/92 [00:23<00:16,  2.08it/s]"
     ]
    },
    {
     "name": "stdout",
     "output_type": "stream",
     "text": [
      "bone-penn-510\n",
      "I'm doing the thing.\n",
      "bone-penn-513\n",
      "I'm doing the thing.\n"
     ]
    },
    {
     "name": "stderr",
     "output_type": "stream",
     "text": [
      "\r",
      " 64%|██████▍   | 59/92 [00:23<00:15,  2.11it/s]"
     ]
    },
    {
     "name": "stdout",
     "output_type": "stream",
     "text": [
      "bone-penn-519\n",
      "I'm doing the thing.\n"
     ]
    },
    {
     "name": "stderr",
     "output_type": "stream",
     "text": [
      "\r",
      " 65%|██████▌   | 60/92 [00:24<00:13,  2.33it/s]"
     ]
    },
    {
     "name": "stdout",
     "output_type": "stream",
     "text": [
      "bone-penn-524\n",
      "I'm doing the thing.\n"
     ]
    },
    {
     "name": "stderr",
     "output_type": "stream",
     "text": [
      "\r",
      " 66%|██████▋   | 61/92 [00:24<00:15,  2.05it/s]"
     ]
    },
    {
     "name": "stdout",
     "output_type": "stream",
     "text": [
      "bone-penn-539\n",
      "I'm doing the thing.\n"
     ]
    },
    {
     "name": "stderr",
     "output_type": "stream",
     "text": [
      "\r",
      " 67%|██████▋   | 62/92 [00:25<00:13,  2.17it/s]"
     ]
    },
    {
     "name": "stdout",
     "output_type": "stream",
     "text": [
      "bone-penn-540\n",
      "I'm doing the thing.\n"
     ]
    },
    {
     "name": "stderr",
     "output_type": "stream",
     "text": [
      " 70%|██████▉   | 64/92 [00:25<00:09,  3.03it/s]"
     ]
    },
    {
     "name": "stdout",
     "output_type": "stream",
     "text": [
      "bone-penn-544\n",
      "I'm doing the thing.\n",
      "bone-penn-547\n",
      "I'm doing the thing.\n"
     ]
    },
    {
     "name": "stderr",
     "output_type": "stream",
     "text": [
      "\r",
      " 71%|███████   | 65/92 [00:25<00:07,  3.47it/s]"
     ]
    },
    {
     "name": "stdout",
     "output_type": "stream",
     "text": [
      "bone-penn-554\n",
      "I'm doing the thing.\n"
     ]
    },
    {
     "name": "stderr",
     "output_type": "stream",
     "text": [
      "\r",
      " 72%|███████▏  | 66/92 [00:26<00:08,  3.01it/s]"
     ]
    },
    {
     "name": "stdout",
     "output_type": "stream",
     "text": [
      "bone-penn-557\n",
      "I'm doing the thing.\n"
     ]
    },
    {
     "name": "stderr",
     "output_type": "stream",
     "text": [
      " 74%|███████▍  | 68/92 [00:26<00:07,  3.02it/s]"
     ]
    },
    {
     "name": "stdout",
     "output_type": "stream",
     "text": [
      "bone-penn-566\n",
      "I'm doing the thing.\n",
      "bone-penn-569\n",
      "I'm doing the thing.\n"
     ]
    },
    {
     "name": "stderr",
     "output_type": "stream",
     "text": [
      " 76%|███████▌  | 70/92 [00:27<00:06,  3.61it/s]"
     ]
    },
    {
     "name": "stdout",
     "output_type": "stream",
     "text": [
      "bone-penn-574\n",
      "I'm doing the thing.\n",
      "bone-penn-582\n",
      "I'm doing the thing.\n"
     ]
    },
    {
     "name": "stderr",
     "output_type": "stream",
     "text": [
      "\r",
      " 77%|███████▋  | 71/92 [00:27<00:05,  4.18it/s]"
     ]
    },
    {
     "name": "stdout",
     "output_type": "stream",
     "text": [
      "bone-penn-594\n",
      "I'm doing the thing.\n"
     ]
    },
    {
     "name": "stderr",
     "output_type": "stream",
     "text": [
      "\r",
      " 78%|███████▊  | 72/92 [00:27<00:05,  3.96it/s]"
     ]
    },
    {
     "name": "stdout",
     "output_type": "stream",
     "text": [
      "bone-penn-638\n",
      "I'm doing the thing.\n"
     ]
    },
    {
     "name": "stderr",
     "output_type": "stream",
     "text": [
      "\r",
      " 79%|███████▉  | 73/92 [00:29<00:11,  1.61it/s]"
     ]
    },
    {
     "name": "stdout",
     "output_type": "stream",
     "text": [
      "bone-penn-649\n",
      "I'm doing the thing.\n"
     ]
    },
    {
     "name": "stderr",
     "output_type": "stream",
     "text": [
      "\r",
      " 80%|████████  | 74/92 [00:29<00:10,  1.67it/s]"
     ]
    },
    {
     "name": "stdout",
     "output_type": "stream",
     "text": [
      "bone-hup-114\n",
      "I'm doing the thing.\n"
     ]
    },
    {
     "name": "stderr",
     "output_type": "stream",
     "text": [
      "\r",
      " 82%|████████▏ | 75/92 [00:30<00:10,  1.55it/s]"
     ]
    },
    {
     "name": "stdout",
     "output_type": "stream",
     "text": [
      "bone-hup-120\n",
      "I'm doing the thing.\n"
     ]
    },
    {
     "name": "stderr",
     "output_type": "stream",
     "text": [
      " 84%|████████▎ | 77/92 [00:30<00:06,  2.30it/s]"
     ]
    },
    {
     "name": "stdout",
     "output_type": "stream",
     "text": [
      "bone-hup-130\n",
      "I'm doing the thing.\n",
      "bone-hup-137\n",
      "I'm doing the thing.\n"
     ]
    },
    {
     "name": "stderr",
     "output_type": "stream",
     "text": [
      "\r",
      " 85%|████████▍ | 78/92 [00:31<00:05,  2.74it/s]"
     ]
    },
    {
     "name": "stdout",
     "output_type": "stream",
     "text": [
      "bone-hup-143\n",
      "I'm doing the thing.\n",
      "bone-hup-164\n",
      "I'm doing the thing.\n"
     ]
    },
    {
     "name": "stderr",
     "output_type": "stream",
     "text": [
      " 88%|████████▊ | 81/92 [00:31<00:02,  3.97it/s]"
     ]
    },
    {
     "name": "stdout",
     "output_type": "stream",
     "text": [
      "bone-hup-182\n",
      "I'm doing the thing.\n",
      "bone-hup-190\n",
      "I'm doing the thing.\n"
     ]
    },
    {
     "name": "stderr",
     "output_type": "stream",
     "text": [
      " 90%|█████████ | 83/92 [00:32<00:02,  3.21it/s]"
     ]
    },
    {
     "name": "stdout",
     "output_type": "stream",
     "text": [
      "bone-hup-195\n",
      "I'm doing the thing.\n",
      "bone-hup-236\n",
      "I'm doing the thing.\n"
     ]
    },
    {
     "name": "stderr",
     "output_type": "stream",
     "text": [
      "\r",
      " 91%|█████████▏| 84/92 [00:32<00:02,  2.97it/s]"
     ]
    },
    {
     "name": "stdout",
     "output_type": "stream",
     "text": [
      "bone-hup-238\n",
      "I'm doing the thing.\n"
     ]
    },
    {
     "name": "stderr",
     "output_type": "stream",
     "text": [
      "\r",
      " 92%|█████████▏| 85/92 [00:33<00:02,  3.32it/s]"
     ]
    },
    {
     "name": "stdout",
     "output_type": "stream",
     "text": [
      "bone-hup-294\n",
      "I'm doing the thing.\n"
     ]
    },
    {
     "name": "stderr",
     "output_type": "stream",
     "text": [
      "\r",
      " 93%|█████████▎| 86/92 [00:33<00:02,  2.77it/s]"
     ]
    },
    {
     "name": "stdout",
     "output_type": "stream",
     "text": [
      "bone-hup-300\n",
      "I'm doing the thing.\n"
     ]
    },
    {
     "name": "stderr",
     "output_type": "stream",
     "text": [
      "\r",
      " 95%|█████████▍| 87/92 [00:33<00:01,  3.08it/s]"
     ]
    },
    {
     "name": "stdout",
     "output_type": "stream",
     "text": [
      "bone-hup-311\n",
      "I'm doing the thing.\n"
     ]
    },
    {
     "name": "stderr",
     "output_type": "stream",
     "text": [
      "\r",
      " 96%|█████████▌| 88/92 [00:34<00:02,  1.93it/s]"
     ]
    },
    {
     "name": "stdout",
     "output_type": "stream",
     "text": [
      "bone-hup-313\n",
      "I'm doing the thing.\n"
     ]
    },
    {
     "name": "stderr",
     "output_type": "stream",
     "text": [
      "\r",
      " 97%|█████████▋| 89/92 [00:35<00:01,  2.19it/s]"
     ]
    },
    {
     "name": "stdout",
     "output_type": "stream",
     "text": [
      "bone-hup-318\n",
      "I'm doing the thing.\n"
     ]
    },
    {
     "name": "stderr",
     "output_type": "stream",
     "text": [
      "\r",
      " 98%|█████████▊| 90/92 [00:36<00:01,  1.30it/s]"
     ]
    },
    {
     "name": "stdout",
     "output_type": "stream",
     "text": [
      "bone-hup-50\n",
      "I'm doing the thing.\n"
     ]
    },
    {
     "name": "stderr",
     "output_type": "stream",
     "text": [
      "\r",
      " 99%|█████████▉| 91/92 [00:43<00:02,  2.51s/it]"
     ]
    },
    {
     "name": "stdout",
     "output_type": "stream",
     "text": [
      "bone-hup-90\n",
      "I'm doing the thing.\n"
     ]
    },
    {
     "name": "stderr",
     "output_type": "stream",
     "text": [
      "100%|██████████| 92/92 [00:44<00:00,  2.08it/s]\n"
     ]
    },
    {
     "name": "stdout",
     "output_type": "stream",
     "text": [
      "597\n",
      "92\n",
      "163\n",
      "output/models/2718a5c3-50cf-4b0c-aa44-8cbf5cd26136_features.sav\n",
      "WARNING:tensorflow:From /Users/feyisope/.local/share/virtualenvs/Bone-MRI-jS0JPId9/lib/python3.6/site-packages/tensorflow/python/ops/nn_impl.py:180: add_dispatch_support.<locals>.wrapper (from tensorflow.python.ops.array_ops) is deprecated and will be removed in a future version.\n",
      "Instructions for updating:\n",
      "Use tf.where in 2.0, which has the same broadcast rule as np.where\n",
      "WARNING:tensorflow:From /Users/feyisope/.local/share/virtualenvs/Bone-MRI-jS0JPId9/lib/python3.6/site-packages/keras/backend/tensorflow_backend.py:422: The name tf.global_variables is deprecated. Please use tf.compat.v1.global_variables instead.\n",
      "\n"
     ]
    }
   ],
   "source": [
    "sd = stacked_data(uuids=models)"
   ]
  },
  {
   "cell_type": "code",
   "execution_count": 11,
   "metadata": {},
   "outputs": [
    {
     "name": "stdout",
     "output_type": "stream",
     "text": [
      "597\n",
      "7857\n",
      "597\n",
      "597\n"
     ]
    }
   ],
   "source": [
    "train_set = np.array(list(zip(*sd[0])))\n",
    "print(len(train_set))\n",
    "validation_set = np.array(list(zip(*sd[1])))\n",
    "test_set = np.array(list(zip(*sd[2])))\n",
    "train_labels = np.array(sd[3])\n",
    "print(len(train_labels))\n",
    "validation_labels = np.array(sd[4])\n",
    "test_labels = np.array(sd[5])\n",
    "train_fix_set = np.array(list(zip(*sd[6])))\n",
    "print(len(train_fix_set))\n",
    "train_fix_labels = np.array(sd[7])\n",
    "print(len(train_fix_labels))"
   ]
  },
  {
   "cell_type": "code",
   "execution_count": 14,
   "metadata": {},
   "outputs": [],
   "source": [
    "CLASSIFIERS = [\n",
    "    ExtraTreesClassifier,\n",
    "    AdaBoostClassifier, \n",
    "    BaggingClassifier, \n",
    "    GradientBoostingClassifier, \n",
    "    RandomForestClassifier \n",
    "]\n",
    "PARAMETERS = [\n",
    "    dict(max_leaf_nodes=5, max_depth=2), \n",
    "    dict(),     \n",
    "    dict(base_estimator=LogisticRegression(), n_estimators=20, max_samples=0.1),#, max_features=1),   \n",
    "    dict(),     \n",
    "    dict(max_leaf_nodes=5, max_depth=2)    \n",
    "]"
   ]
  },
  {
   "cell_type": "code",
   "execution_count": 15,
   "metadata": {
    "scrolled": true
   },
   "outputs": [
    {
     "name": "stderr",
     "output_type": "stream",
     "text": [
      "100%|██████████| 1000/1000 [05:33<00:00,  3.00it/s]\n",
      "  2%|▏         | 17/1000 [00:00<00:06, 160.08it/s]"
     ]
    },
    {
     "name": "stdout",
     "output_type": "stream",
     "text": [
      "0.6809815950920245\n",
      "ExtraTreesClassifier(max_depth=2, max_leaf_nodes=5, random_state=159)\n",
      "0.6809815950920245\n",
      "ExtraTreesClassifier(max_depth=2, max_leaf_nodes=5, random_state=159)\n"
     ]
    },
    {
     "name": "stderr",
     "output_type": "stream",
     "text": [
      "100%|██████████| 1000/1000 [00:08<00:00, 117.25it/s]\n",
      "  0%|          | 0/1000 [00:00<?, ?it/s]"
     ]
    },
    {
     "name": "stdout",
     "output_type": "stream",
     "text": [
      "0.6687116564417178\n",
      "AdaBoostClassifier(random_state=0)\n",
      "0.6809815950920245\n",
      "ExtraTreesClassifier(max_depth=2, max_leaf_nodes=5, random_state=159)\n"
     ]
    },
    {
     "name": "stderr",
     "output_type": "stream",
     "text": [
      "100%|██████████| 1000/1000 [04:07<00:00,  4.04it/s]\n",
      "  0%|          | 0/1000 [00:00<?, ?it/s]"
     ]
    },
    {
     "name": "stdout",
     "output_type": "stream",
     "text": [
      "0.6748466257668712\n",
      "BaggingClassifier(base_estimator=LogisticRegression(), max_samples=0.1,\n",
      "                  n_estimators=20, random_state=0)\n",
      "0.6809815950920245\n",
      "ExtraTreesClassifier(max_depth=2, max_leaf_nodes=5, random_state=159)\n"
     ]
    },
    {
     "name": "stderr",
     "output_type": "stream",
     "text": [
      "100%|██████████| 1000/1000 [03:04<00:00,  5.41it/s]\n",
      "  0%|          | 0/1000 [00:00<?, ?it/s]"
     ]
    },
    {
     "name": "stdout",
     "output_type": "stream",
     "text": [
      "0.6687116564417178\n",
      "GradientBoostingClassifier(random_state=0)\n",
      "0.6809815950920245\n",
      "ExtraTreesClassifier(max_depth=2, max_leaf_nodes=5, random_state=159)\n"
     ]
    },
    {
     "name": "stderr",
     "output_type": "stream",
     "text": [
      "100%|██████████| 1000/1000 [07:03<00:00,  2.36it/s]"
     ]
    },
    {
     "name": "stdout",
     "output_type": "stream",
     "text": [
      "0.6748466257668712\n",
      "RandomForestClassifier(max_depth=2, max_leaf_nodes=5, random_state=0)\n",
      "0.6809815950920245\n",
      "ExtraTreesClassifier(max_depth=2, max_leaf_nodes=5, random_state=159)\n"
     ]
    },
    {
     "name": "stderr",
     "output_type": "stream",
     "text": [
      "\n"
     ]
    }
   ],
   "source": [
    "best_acc = 0\n",
    "best_model = None\n",
    "for j, c in enumerate(CLASSIFIERS): \n",
    "    model_best = 0\n",
    "    model_acc = 0\n",
    "    for i in tqdm(range(1000)): \n",
    "        clf = c(random_state=i, **(PARAMETERS[j]))\n",
    "        clf.fit(train_fix_set, train_fix_labels)\n",
    "        score = clf.score(validation_set, validation_labels)\n",
    "        if score > best_acc:\n",
    "            best_acc = score\n",
    "            best_model = clf\n",
    "        if score > model_acc:\n",
    "            model_acc = score\n",
    "            model_best = clf\n",
    "    print(model_acc)\n",
    "    print(model_best)\n",
    "    print(best_acc)\n",
    "    print(best_model)"
   ]
  },
  {
   "cell_type": "code",
   "execution_count": 16,
   "metadata": {
    "scrolled": true
   },
   "outputs": [
    {
     "name": "stdout",
     "output_type": "stream",
     "text": [
      "train accuracy: 1.0\n",
      "validation accuracy: 0.6809815950920245\n",
      "test accuracy: 0.717391304347826\n"
     ]
    }
   ],
   "source": [
    "print(\"train accuracy: {}\".format(best_model.score(train_fix_set, train_fix_labels)))\n",
    "print(\"validation accuracy: {}\".format(best_model.score(validation_set, validation_labels)))\n",
    "print(\"test accuracy: {}\".format(best_model.score(test_set, test_labels)))"
   ]
  },
  {
   "cell_type": "code",
   "execution_count": 17,
   "metadata": {},
   "outputs": [
    {
     "data": {
      "text/plain": [
       "ExtraTreesClassifier(max_depth=2, max_leaf_nodes=5, random_state=159)"
      ]
     },
     "execution_count": 17,
     "metadata": {},
     "output_type": "execute_result"
    }
   ],
   "source": [
    "best_model"
   ]
  },
  {
   "cell_type": "markdown",
   "metadata": {},
   "source": [
    "# Training"
   ]
  },
  {
   "cell_type": "code",
   "execution_count": 20,
   "metadata": {},
   "outputs": [
    {
     "data": {
      "application/papermill.record+json": {
       "train_labels": [
        0,
        0,
        0,
        0,
        0,
        0,
        0,
        0,
        0,
        0,
        0,
        0,
        0,
        0,
        0,
        0,
        0,
        0,
        0,
        0,
        0,
        0,
        0,
        0,
        0,
        0,
        0,
        0,
        0,
        0,
        0,
        0,
        0,
        0,
        0,
        0,
        0,
        0,
        0,
        0,
        0,
        0,
        0,
        0,
        0,
        0,
        0,
        0,
        0,
        0,
        0,
        0,
        0,
        0,
        0,
        0,
        0,
        0,
        0,
        0,
        0,
        0,
        0,
        0,
        0,
        0,
        0,
        0,
        0,
        0,
        0,
        0,
        0,
        0,
        0,
        0,
        0,
        0,
        0,
        0,
        0,
        0,
        0,
        0,
        0,
        0,
        0,
        0,
        0,
        0,
        0,
        0,
        0,
        0,
        0,
        0,
        0,
        0,
        0,
        0,
        0,
        0,
        0,
        0,
        0,
        0,
        0,
        0,
        0,
        0,
        0,
        0,
        0,
        0,
        0,
        0,
        0,
        0,
        0,
        0,
        0,
        0,
        0,
        0,
        0,
        0,
        0,
        0,
        0,
        0,
        0,
        0,
        0,
        0,
        0,
        0,
        0,
        0,
        0,
        0,
        0,
        0,
        0,
        0,
        0,
        0,
        0,
        0,
        0,
        0,
        0,
        0,
        0,
        0,
        0,
        0,
        0,
        0,
        0,
        0,
        0,
        0,
        0,
        0,
        0,
        0,
        0,
        0,
        0,
        0,
        0,
        0,
        0,
        0,
        0,
        0,
        0,
        0,
        0,
        0,
        0,
        0,
        0,
        0,
        0,
        0,
        0,
        0,
        0,
        0,
        0,
        0,
        0,
        0,
        0,
        0,
        0,
        0,
        0,
        0,
        0,
        0,
        0,
        0,
        0,
        0,
        0,
        0,
        0,
        0,
        0,
        0,
        0,
        0,
        0,
        0,
        0,
        0,
        0,
        0,
        0,
        0,
        0,
        0,
        0,
        0,
        0,
        0,
        0,
        0,
        0,
        0,
        0,
        0,
        0,
        0,
        0,
        0,
        0,
        0,
        0,
        0,
        0,
        0,
        0,
        0,
        0,
        0,
        0,
        0,
        0,
        0,
        0,
        0,
        0,
        0,
        0,
        0,
        0,
        0,
        0,
        0,
        0,
        0,
        0,
        0,
        0,
        0,
        0,
        0,
        0,
        0,
        0,
        0,
        0,
        0,
        0,
        0,
        0,
        0,
        0,
        0,
        0,
        0,
        0,
        0,
        0,
        0,
        0,
        0,
        0,
        0,
        0,
        0,
        0,
        0,
        0,
        0,
        0,
        0,
        0,
        0,
        0,
        0,
        0,
        0,
        0,
        0,
        0,
        0,
        0,
        0,
        0,
        0,
        0,
        0,
        0,
        0,
        0,
        0,
        0,
        0,
        0,
        0,
        0,
        0,
        0,
        0,
        0,
        0,
        0,
        0,
        0,
        0,
        0,
        1,
        1,
        1,
        1,
        1,
        1,
        1,
        1,
        1,
        1,
        1,
        1,
        1,
        1,
        1,
        1,
        1,
        1,
        1,
        1,
        1,
        1,
        1,
        1,
        1,
        1,
        1,
        1,
        1,
        1,
        1,
        1,
        1,
        1,
        1,
        1,
        1,
        1,
        1,
        1,
        1,
        1,
        1,
        1,
        1,
        1,
        1,
        1,
        1,
        1,
        1,
        1,
        1,
        1,
        1,
        1,
        1,
        1,
        1,
        1,
        1,
        1,
        1,
        1,
        1,
        1,
        1,
        1,
        1,
        1,
        1,
        1,
        1,
        1,
        1,
        1,
        1,
        1,
        1,
        1,
        1,
        1,
        1,
        1,
        1,
        1,
        1,
        1,
        1,
        1,
        1,
        1,
        1,
        1,
        1,
        1,
        1,
        1,
        1,
        1,
        1,
        1,
        1,
        1,
        1,
        1,
        1,
        1,
        1,
        1,
        1,
        1,
        1,
        1,
        1,
        1,
        1,
        1,
        1,
        1,
        1,
        1,
        1,
        1,
        1,
        1,
        1,
        1,
        1,
        1,
        1,
        1,
        1,
        1,
        1,
        1,
        1,
        1,
        1,
        1,
        1,
        1,
        1,
        1,
        1,
        1,
        1,
        1,
        1,
        1,
        1,
        1,
        1,
        1,
        1,
        1,
        1,
        1,
        1,
        1,
        1,
        1,
        1,
        1,
        1,
        1,
        1,
        1,
        1,
        1,
        1,
        1,
        1,
        1,
        1,
        1,
        1,
        1,
        1,
        1,
        1,
        1,
        1,
        1,
        1,
        1,
        1,
        1,
        1,
        1,
        1,
        1,
        1,
        1,
        1,
        1,
        1,
        1,
        1,
        1,
        1,
        1,
        1,
        1,
        1,
        1,
        1,
        1,
        1,
        1,
        1,
        1,
        1,
        1,
        1,
        1,
        1,
        1,
        1,
        1,
        1,
        1,
        1,
        1,
        1,
        1,
        1,
        1,
        1,
        1,
        1,
        1,
        1,
        1,
        1,
        1,
        1,
        1,
        1,
        1,
        1,
        1,
        1,
        1,
        1,
        1,
        1,
        1,
        1,
        1,
        1,
        1,
        1,
        1,
        1,
        1,
        1,
        1,
        1,
        1,
        1,
        1,
        1,
        1,
        1,
        1,
        1,
        1,
        1,
        1,
        1,
        1,
        1,
        1,
        1,
        1,
        1,
        1,
        1,
        1,
        1,
        1,
        1
       ]
      }
     },
     "metadata": {},
     "output_type": "display_data"
    },
    {
     "data": {
      "application/papermill.record+json": {
       "train_probabilities": [
        0.3,
        0,
        0.1,
        0.4,
        0.05,
        0.05,
        0.05,
        0.05,
        0.05,
        0.2,
        0.85,
        0.3,
        0.75,
        0.35,
        0.05,
        0.05,
        0.6,
        0,
        0.5,
        0.2,
        0.25,
        0.25,
        0.2,
        0.5,
        0,
        0.45,
        0,
        0.05,
        0.75,
        0.8,
        0.1,
        0,
        0.15,
        0,
        0.25,
        0.25,
        0,
        0.2,
        0.3,
        0.15,
        0.1,
        0,
        0.35,
        0.4,
        0.2,
        0.3,
        0.05,
        0.1,
        0.4,
        0.1,
        0.15,
        0,
        0.25,
        0.3,
        0,
        0.05,
        0.05,
        0.1,
        0.35,
        0.35,
        0,
        0,
        0.15,
        0,
        0.1,
        0.8,
        0.15,
        0.2,
        0.55,
        0.05,
        0.45,
        0.3,
        0.15,
        0.2,
        0.05,
        0.05,
        0.75,
        0,
        0.55,
        0.1,
        0.3,
        0.25,
        0.05,
        0,
        0.15,
        0.25,
        0.2,
        0.6,
        0.25,
        0,
        0.45,
        0.55,
        0.3,
        0,
        0.3,
        0.2,
        0.1,
        0.25,
        0.1,
        0,
        0,
        0.25,
        0.15,
        0.15,
        0.1,
        0.55,
        0.05,
        0,
        0.1,
        0.2,
        0.2,
        0,
        0.05,
        0.3,
        0.05,
        0.3,
        0.05,
        0.25,
        0.1,
        0.15,
        0.95,
        0.05,
        0.15,
        0.5,
        0.1,
        0.85,
        0.4,
        0.05,
        0.15,
        1,
        0.05,
        0,
        0.1,
        0.35,
        0.15,
        0.1,
        0.05,
        0.05,
        0,
        0,
        0.25,
        0,
        0.1,
        0.05,
        0,
        0.25,
        0.35,
        0.55,
        0.25,
        0.4,
        0.1,
        0.25,
        0,
        0,
        0.3,
        0,
        0.2,
        0.25,
        0,
        0.35,
        0.05,
        0.05,
        0.05,
        0.05,
        0.15,
        0.3,
        0.25,
        0.1,
        0.4,
        0.35,
        0.5,
        0,
        0.05,
        0.15,
        0,
        0.1,
        0.9,
        0.45,
        0.45,
        0.05,
        0.35,
        0,
        0.05,
        0.25,
        0.2,
        0.45,
        0,
        0.1,
        0.05,
        0.1,
        0.15,
        0.85,
        0.2,
        0.2,
        0.3,
        0.15,
        0.1,
        0.2,
        0.05,
        0.15,
        0.05,
        0.2,
        0.15,
        0,
        0.15,
        0,
        0.2,
        0.25,
        0.4,
        0,
        0.2,
        0.5,
        0.1,
        0.1,
        0.1,
        0.05,
        0.2,
        0.35,
        0.25,
        0.1,
        0.25,
        0.5,
        0.45,
        0.05,
        0.1,
        0.15,
        0.2,
        0.1,
        0.15,
        0.2,
        0.25,
        0.1,
        0.1,
        0.2,
        0.25,
        0.2,
        0.05,
        0,
        0,
        0.1,
        0.85,
        0.95,
        0.1,
        0.25,
        0.1,
        0.4,
        0.25,
        0.2,
        0.6,
        0.05,
        0.05,
        0.15,
        0.1,
        0.65,
        0.45,
        0.15,
        0,
        0.05,
        0.35,
        0.1,
        0.3,
        0.15,
        0.3,
        0,
        0.05,
        0,
        0.05,
        0.05,
        0.35,
        0.3,
        0.55,
        0.05,
        0.25,
        0.05,
        0.15,
        0.3,
        0.1,
        0.1,
        0.4,
        0.35,
        0.55,
        0.25,
        0.05,
        0.2,
        0.05,
        0.1,
        0.7,
        0.2,
        0.1,
        0.1,
        0.15,
        0.9,
        0.05,
        0.05,
        0.1,
        0.3,
        0,
        0.95,
        0.1,
        0.05,
        0.1,
        0.15,
        1,
        0.15,
        0,
        0.35,
        0.2,
        0.15,
        0.05,
        0.15,
        0.45,
        0.1,
        0,
        0.3,
        0.95,
        0,
        0.35,
        0.05,
        0.05,
        0.1,
        0,
        0.35,
        0,
        0.15,
        0.05,
        0.35,
        0.1,
        0.15,
        0,
        0,
        0.15,
        0.05,
        0.1,
        0.05,
        0,
        0.9,
        0.8,
        1,
        0.3,
        1,
        0.8,
        1,
        0.85,
        0.85,
        0.8,
        0.8,
        0.2,
        0.55,
        0.85,
        0.8,
        1,
        0.65,
        0.9,
        0.95,
        0.95,
        0.6,
        0.6,
        0.55,
        1,
        0.45,
        1,
        0.75,
        0.95,
        0.9,
        1,
        0.825,
        0.9,
        0.9,
        0.25,
        0.95,
        0.95,
        0.7,
        0.9,
        0.9,
        0.9,
        0.95,
        0.95,
        0.7,
        0.95,
        0.75,
        0.8,
        0.9,
        0.8,
        0.85,
        1,
        1,
        0.9,
        0.95,
        0.9,
        0.95,
        0.8,
        0.75,
        0.9,
        0.9,
        0.8,
        1,
        1,
        0.7,
        0.95,
        1,
        0.7,
        0.75,
        0.85,
        0.9,
        0.9,
        0,
        1,
        0.95,
        0.9,
        1,
        1,
        0.975,
        0.95,
        0.3,
        1,
        0.9,
        0.95,
        0.35,
        1,
        0.95,
        1,
        1,
        1,
        1,
        0.9,
        0.9,
        0.75,
        0.85,
        0.7,
        0.85,
        0.85,
        0.9,
        1,
        1,
        1,
        0.85,
        0.95,
        1,
        0.9,
        0.65,
        0.4,
        0.85,
        0.8,
        0.8,
        0.9,
        1,
        0.7,
        0.85,
        0.9,
        1,
        0.9,
        0.75,
        0.9,
        0.1,
        0.9,
        0.6,
        1,
        1,
        1,
        0.4,
        0.9,
        0.75,
        0.95,
        0.8,
        1,
        0.9,
        1,
        0.85,
        1,
        0.85,
        0.95,
        0.9,
        0.6,
        0.9,
        0.9,
        0.85,
        0.3,
        0.9,
        0.75,
        0.7,
        0.9,
        0.8,
        0.55,
        0.55,
        0.9,
        1,
        0.85,
        0.8,
        0.75,
        0.85,
        0.95,
        0.85,
        1,
        0.8,
        0.9,
        0.75,
        0.8,
        0.85,
        0.95,
        1,
        0.2,
        0.3,
        0.25,
        0.95,
        0.95,
        0.95,
        0.45,
        0.8,
        0.3,
        0.25,
        0.7,
        0.9,
        1,
        0.6,
        0.5,
        0.9,
        1,
        1,
        0.95,
        0.9,
        1,
        0.95,
        0.95,
        0.75,
        0.55,
        0.85,
        1,
        0.85,
        0.8,
        0.8,
        1,
        0.55,
        0.65,
        0.95,
        0.95,
        1,
        0.3,
        1,
        1,
        0.9,
        0.75,
        1,
        0.95,
        1,
        0.85,
        0.9,
        1,
        0.9,
        0.95,
        0.95,
        0.6,
        0.9,
        0.9,
        0.85,
        0.2,
        0.35,
        0.6,
        0.85,
        0.35,
        0.9,
        0.1,
        0.55,
        0.85,
        1,
        0.95,
        1,
        0.9,
        1,
        0.85,
        0.9,
        0.9,
        0.95,
        0.8,
        0.8,
        0.85,
        0.55,
        1,
        0.65,
        0.95,
        0.9,
        0.95,
        0.75,
        0.75,
        0.9,
        0.9,
        0.9,
        0.95,
        0.8,
        1,
        0.8,
        0.85,
        0.95,
        0.85,
        1,
        0.85,
        0.9,
        0.3,
        0.95,
        0.4,
        0.2,
        0.8,
        0.85,
        0.75,
        0.7,
        0.7,
        0.2,
        0.95,
        0.85,
        0.9,
        0.9,
        0.8,
        0.85,
        0.9,
        0.7,
        0.75,
        0.85,
        0.3,
        0.9
       ]
      }
     },
     "metadata": {},
     "output_type": "display_data"
    },
    {
     "data": {
      "application/papermill.record+json": {
       "train_predictions": [
        0,
        0,
        0,
        0,
        0,
        0,
        0,
        0,
        0,
        0,
        1,
        0,
        1,
        0,
        0,
        0,
        1,
        0,
        0,
        0,
        0,
        0,
        0,
        0,
        0,
        0,
        0,
        0,
        1,
        1,
        0,
        0,
        0,
        0,
        0,
        0,
        0,
        0,
        0,
        0,
        0,
        0,
        0,
        0,
        0,
        0,
        0,
        0,
        0,
        0,
        0,
        0,
        0,
        0,
        0,
        0,
        0,
        0,
        0,
        0,
        0,
        0,
        0,
        0,
        0,
        1,
        0,
        0,
        1,
        0,
        0,
        0,
        0,
        0,
        0,
        0,
        1,
        0,
        1,
        0,
        0,
        0,
        0,
        0,
        0,
        0,
        0,
        1,
        0,
        0,
        0,
        1,
        0,
        0,
        0,
        0,
        0,
        0,
        0,
        0,
        0,
        0,
        0,
        0,
        0,
        1,
        0,
        0,
        0,
        0,
        0,
        0,
        0,
        0,
        0,
        0,
        0,
        0,
        0,
        0,
        1,
        0,
        0,
        0,
        0,
        1,
        0,
        0,
        0,
        1,
        0,
        0,
        0,
        0,
        0,
        0,
        0,
        0,
        0,
        0,
        0,
        0,
        0,
        0,
        0,
        0,
        0,
        1,
        0,
        0,
        0,
        0,
        0,
        0,
        0,
        0,
        0,
        0,
        0,
        0,
        0,
        0,
        0,
        0,
        0,
        0,
        0,
        0,
        0,
        0,
        0,
        0,
        0,
        0,
        0,
        0,
        1,
        0,
        0,
        0,
        0,
        0,
        0,
        0,
        0,
        0,
        0,
        0,
        0,
        0,
        0,
        1,
        0,
        0,
        0,
        0,
        0,
        0,
        0,
        0,
        0,
        0,
        0,
        0,
        0,
        0,
        0,
        0,
        0,
        0,
        0,
        0,
        0,
        0,
        0,
        0,
        0,
        0,
        0,
        0,
        0,
        0,
        0,
        0,
        0,
        0,
        0,
        0,
        0,
        0,
        0,
        0,
        0,
        0,
        0,
        0,
        0,
        0,
        0,
        0,
        1,
        1,
        0,
        0,
        0,
        0,
        0,
        0,
        1,
        0,
        0,
        0,
        0,
        1,
        0,
        0,
        0,
        0,
        0,
        0,
        0,
        0,
        0,
        0,
        0,
        0,
        0,
        0,
        0,
        0,
        1,
        0,
        0,
        0,
        0,
        0,
        0,
        0,
        0,
        0,
        1,
        0,
        0,
        0,
        0,
        0,
        1,
        0,
        0,
        0,
        0,
        1,
        0,
        0,
        0,
        0,
        0,
        1,
        0,
        0,
        0,
        0,
        1,
        0,
        0,
        0,
        0,
        0,
        0,
        0,
        0,
        0,
        0,
        0,
        1,
        0,
        0,
        0,
        0,
        0,
        0,
        0,
        0,
        0,
        0,
        0,
        0,
        0,
        0,
        0,
        0,
        0,
        0,
        0,
        0,
        1,
        1,
        1,
        0,
        1,
        1,
        1,
        1,
        1,
        1,
        1,
        0,
        1,
        1,
        1,
        1,
        1,
        1,
        1,
        1,
        1,
        1,
        1,
        1,
        0,
        1,
        1,
        1,
        1,
        1,
        1,
        1,
        1,
        0,
        1,
        1,
        1,
        1,
        1,
        1,
        1,
        1,
        1,
        1,
        1,
        1,
        1,
        1,
        1,
        1,
        1,
        1,
        1,
        1,
        1,
        1,
        1,
        1,
        1,
        1,
        1,
        1,
        1,
        1,
        1,
        1,
        1,
        1,
        1,
        1,
        0,
        1,
        1,
        1,
        1,
        1,
        1,
        1,
        0,
        1,
        1,
        1,
        0,
        1,
        1,
        1,
        1,
        1,
        1,
        1,
        1,
        1,
        1,
        1,
        1,
        1,
        1,
        1,
        1,
        1,
        1,
        1,
        1,
        1,
        1,
        0,
        1,
        1,
        1,
        1,
        1,
        1,
        1,
        1,
        1,
        1,
        1,
        1,
        0,
        1,
        1,
        1,
        1,
        1,
        0,
        1,
        1,
        1,
        1,
        1,
        1,
        1,
        1,
        1,
        1,
        1,
        1,
        1,
        1,
        1,
        1,
        0,
        1,
        1,
        1,
        1,
        1,
        1,
        1,
        1,
        1,
        1,
        1,
        1,
        1,
        1,
        1,
        1,
        1,
        1,
        1,
        1,
        1,
        1,
        1,
        0,
        0,
        0,
        1,
        1,
        1,
        0,
        1,
        0,
        0,
        1,
        1,
        1,
        1,
        0,
        1,
        1,
        1,
        1,
        1,
        1,
        1,
        1,
        1,
        1,
        1,
        1,
        1,
        1,
        1,
        1,
        1,
        1,
        1,
        1,
        1,
        0,
        1,
        1,
        1,
        1,
        1,
        1,
        1,
        1,
        1,
        1,
        1,
        1,
        1,
        1,
        1,
        1,
        1,
        0,
        0,
        1,
        1,
        0,
        1,
        0,
        1,
        1,
        1,
        1,
        1,
        1,
        1,
        1,
        1,
        1,
        1,
        1,
        1,
        1,
        1,
        1,
        1,
        1,
        1,
        1,
        1,
        1,
        1,
        1,
        1,
        1,
        1,
        1,
        1,
        1,
        1,
        1,
        1,
        1,
        1,
        0,
        1,
        0,
        0,
        1,
        1,
        1,
        1,
        1,
        0,
        1,
        1,
        1,
        1,
        1,
        1,
        1,
        1,
        1,
        1,
        0,
        1
       ]
      }
     },
     "metadata": {},
     "output_type": "display_data"
    }
   ],
   "source": [
    "model = best_model\n",
    "predictions = model.predict(train_fix_set)\n",
    "probabilities = model.predict_proba(train_fix_set)\n",
    "pm.record(\"train_labels\", list(train_fix_labels))\n",
    "pm.record(\"train_probabilities\", list(probabilities[:,1]))\n",
    "pm.record(\"train_predictions\", list(predictions))"
   ]
  },
  {
   "cell_type": "code",
   "execution_count": 21,
   "metadata": {},
   "outputs": [
    {
     "name": "stdout",
     "output_type": "stream",
     "text": [
      "accuracy: 0.9077669902912622\n"
     ]
    }
   ],
   "source": [
    "print(\"accuracy: {}\".format(metrics.accuracy_score(train_fix_labels, predictions)))"
   ]
  },
  {
   "cell_type": "code",
   "execution_count": 22,
   "metadata": {},
   "outputs": [
    {
     "data": {
      "image/png": "[encoded data removed]",
      "text/plain": [
       "<Figure size 432x288 with 2 Axes>"
      ]
     },
     "metadata": {},
     "output_type": "display_data"
    }
   ],
   "source": [
    "fig = plot_confusion_matrix_ensemble(train_fix_labels, predictions, [\"benign\", \"malignant\"])\n",
    "fig.savefig(\"figures/ensemble-train-confusion-matrix.svg\", bbox_inches = \"tight\")"
   ]
  },
  {
   "cell_type": "code",
   "execution_count": 23,
   "metadata": {
    "scrolled": true
   },
   "outputs": [
    {
     "data": {
      "text/html": [
       "<div>\n",
       "<style scoped>\n",
       "    .dataframe tbody tr th:only-of-type {\n",
       "        vertical-align: middle;\n",
       "    }\n",
       "\n",
       "    .dataframe tbody tr th {\n",
       "        vertical-align: top;\n",
       "    }\n",
       "\n",
       "    .dataframe thead th {\n",
       "        text-align: right;\n",
       "    }\n",
       "</style>\n",
       "<table border=\"1\" class=\"dataframe\">\n",
       "  <thead>\n",
       "    <tr style=\"text-align: right;\">\n",
       "      <th></th>\n",
       "      <th>Acc</th>\n",
       "      <th>TP</th>\n",
       "      <th>TN</th>\n",
       "      <th>FP</th>\n",
       "      <th>FN</th>\n",
       "      <th>TPR</th>\n",
       "      <th>TNR</th>\n",
       "      <th>PPV</th>\n",
       "      <th>NPV</th>\n",
       "      <th>FPR</th>\n",
       "      <th>FNR</th>\n",
       "      <th>FDR</th>\n",
       "      <th>AM</th>\n",
       "      <th>GM</th>\n",
       "    </tr>\n",
       "  </thead>\n",
       "  <tbody>\n",
       "    <tr>\n",
       "      <th>0</th>\n",
       "      <td>0.907767</td>\n",
       "      <td>306</td>\n",
       "      <td>255</td>\n",
       "      <td>28</td>\n",
       "      <td>29</td>\n",
       "      <td>0.913433</td>\n",
       "      <td>0.901060</td>\n",
       "      <td>0.916168</td>\n",
       "      <td>0.897887</td>\n",
       "      <td>0.098940</td>\n",
       "      <td>0.086567</td>\n",
       "      <td>0.083832</td>\n",
       "      <td>0.907246</td>\n",
       "      <td>0.907225</td>\n",
       "    </tr>\n",
       "    <tr>\n",
       "      <th>1</th>\n",
       "      <td>0.907767</td>\n",
       "      <td>255</td>\n",
       "      <td>306</td>\n",
       "      <td>29</td>\n",
       "      <td>28</td>\n",
       "      <td>0.901060</td>\n",
       "      <td>0.913433</td>\n",
       "      <td>0.897887</td>\n",
       "      <td>0.916168</td>\n",
       "      <td>0.086567</td>\n",
       "      <td>0.098940</td>\n",
       "      <td>0.102113</td>\n",
       "      <td>0.907246</td>\n",
       "      <td>0.907225</td>\n",
       "    </tr>\n",
       "  </tbody>\n",
       "</table>\n",
       "</div>"
      ],
      "text/plain": [
       "        Acc   TP   TN  FP  FN       TPR       TNR       PPV       NPV  \\\n",
       "0  0.907767  306  255  28  29  0.913433  0.901060  0.916168  0.897887   \n",
       "1  0.907767  255  306  29  28  0.901060  0.913433  0.897887  0.916168   \n",
       "\n",
       "        FPR       FNR       FDR        AM        GM  \n",
       "0  0.098940  0.086567  0.083832  0.907246  0.907225  \n",
       "1  0.086567  0.098940  0.102113  0.907246  0.907225  "
      ]
     },
     "execution_count": 23,
     "metadata": {},
     "output_type": "execute_result"
    }
   ],
   "source": [
    "pandas.DataFrame(calculate_confusion_matrix_stats(train_fix_labels, probabilities[:,1]))"
   ]
  },
  {
   "cell_type": "markdown",
   "metadata": {},
   "source": [
    "## ROC Curve"
   ]
  },
  {
   "cell_type": "code",
   "execution_count": 24,
   "metadata": {
    "scrolled": false
   },
   "outputs": [
    {
     "data": {
      "image/png": "[encoded data removed]",
      "text/plain": [
       "<Figure size 432x288 with 1 Axes>"
      ]
     },
     "metadata": {},
     "output_type": "display_data"
    }
   ],
   "source": [
    "fig = plot_roc_curve(train_fix_labels, probabilities[:,1])\n",
    "fig.savefig(\"figures/ensemble-train-roc-curve.svg\", bbox_inches = \"tight\")"
   ]
  },
  {
   "cell_type": "markdown",
   "metadata": {},
   "source": [
    "## Precision recall curve"
   ]
  },
  {
   "cell_type": "code",
   "execution_count": null,
   "metadata": {
    "scrolled": true
   },
   "outputs": [],
   "source": [
    "fig = plot_precision_recall(train_fix_labels, probabilities[:,1])\n",
    "fig.savefig(\"figures/ensemble-train-precisionrecall.svg\", bbox_inches = \"tight\")"
   ]
  },
  {
   "cell_type": "markdown",
   "metadata": {},
   "source": [
    "# Validation"
   ]
  },
  {
   "cell_type": "code",
   "execution_count": null,
   "metadata": {},
   "outputs": [],
   "source": [
    "model = best_model\n",
    "predictions = model.predict(validation_set)\n",
    "probabilities = model.predict_proba(validation_set)\n",
    "pm.record(\"validation_labels\", list(validation_labels))\n",
    "pm.record(\"validation_probabilities\", list(probabilities[:,1]))\n",
    "pm.record(\"validation_predictions\", list(predictions))"
   ]
  },
  {
   "cell_type": "code",
   "execution_count": null,
   "metadata": {},
   "outputs": [],
   "source": [
    "print(\"accuracy: {}\".format(metrics.accuracy_score(validation_labels, predictions)))"
   ]
  },
  {
   "cell_type": "code",
   "execution_count": null,
   "metadata": {},
   "outputs": [],
   "source": [
    "fig = plot_confusion_matrix_ensemble(validation_labels, predictions, [\"benign\", \"malignant\"])\n",
    "fig.savefig(\"figures/ensemble-validation-confusion-matrix.svg\", bbox_inches = \"tight\")"
   ]
  },
  {
   "cell_type": "code",
   "execution_count": null,
   "metadata": {
    "scrolled": true
   },
   "outputs": [],
   "source": [
    "pandas.DataFrame(calculate_confusion_matrix_stats(validation_labels, probabilities[:,1]))"
   ]
  },
  {
   "cell_type": "markdown",
   "metadata": {},
   "source": [
    "## ROC Curve"
   ]
  },
  {
   "cell_type": "code",
   "execution_count": null,
   "metadata": {
    "scrolled": false
   },
   "outputs": [],
   "source": [
    "fig = plot_roc_curve(validation_labels, probabilities[:,1])\n",
    "fig.savefig(\"figures/ensemble-validation-roc-curve.svg\", bbox_inches = \"tight\")"
   ]
  },
  {
   "cell_type": "markdown",
   "metadata": {},
   "source": [
    "## Precision recall curve"
   ]
  },
  {
   "cell_type": "code",
   "execution_count": null,
   "metadata": {
    "scrolled": false
   },
   "outputs": [],
   "source": [
    "fig = plot_precision_recall(validation_labels, probabilities[:,1])\n",
    "fig.savefig(\"figures/ensemble-validation-precisionrecall.svg\", bbox_inches = \"tight\")"
   ]
  },
  {
   "cell_type": "markdown",
   "metadata": {},
   "source": [
    "# Test"
   ]
  },
  {
   "cell_type": "code",
   "execution_count": 25,
   "metadata": {},
   "outputs": [
    {
     "data": {
      "application/papermill.record+json": {
       "test_labels": [
        0,
        0,
        0,
        0,
        0,
        0,
        0,
        0,
        0,
        0,
        0,
        0,
        0,
        0,
        0,
        0,
        0,
        0,
        0,
        0,
        0,
        0,
        0,
        0,
        0,
        0,
        0,
        0,
        0,
        0,
        0,
        0,
        0,
        0,
        0,
        0,
        0,
        0,
        0,
        0,
        0,
        0,
        0,
        0,
        0,
        0,
        0,
        0,
        0,
        0,
        0,
        0,
        0,
        0,
        1,
        1,
        1,
        1,
        1,
        1,
        1,
        1,
        1,
        1,
        1,
        1,
        1,
        1,
        1,
        1,
        1,
        1,
        1,
        1,
        1,
        1,
        1,
        1,
        1,
        1,
        1,
        1,
        1,
        1,
        1,
        1,
        1,
        1,
        1,
        1,
        1,
        1,
        1,
        1,
        1,
        1,
        1,
        1,
        1,
        1
       ]
      }
     },
     "metadata": {},
     "output_type": "display_data"
    },
    {
     "data": {
      "application/papermill.record+json": {
       "test_probabilities": [
        0.05,
        0,
        0.3,
        0.15,
        0.15,
        0.3,
        0.75,
        0.35,
        0.1,
        0.3,
        0.1,
        0.15,
        0.2,
        0.45,
        0.2,
        0.8,
        0.25,
        1,
        0.3,
        0.1,
        0.2,
        0.1,
        0.2,
        0.1,
        0.05,
        0.25,
        0,
        0.1,
        0.1,
        0.38333333333333336,
        0,
        0,
        0.05,
        0.15,
        0.25,
        0.15,
        0.25,
        0.6,
        0,
        0.25,
        0.85,
        0.25,
        0.05,
        0,
        0.15,
        0.25,
        0.15,
        0,
        0.05,
        0.05,
        0.1,
        0.3,
        0.1,
        0.4,
        0.9,
        0.6,
        0.85,
        0.8,
        0.95,
        0.45,
        0.9,
        0.95,
        0.9,
        0.9,
        0.5,
        0.95,
        0.95,
        1,
        0.9,
        0.95,
        0.8,
        0.8,
        0.8,
        0.7,
        0.9,
        0.75,
        0.9,
        0.8,
        0.85,
        0.95,
        1,
        0.9,
        0.5,
        0.85,
        0.1,
        1,
        0.9,
        0.85,
        0.9,
        0.85,
        0.75,
        0.7,
        0.9,
        0.75,
        0.25,
        0.95,
        0.9,
        0.85,
        0.95,
        1
       ]
      }
     },
     "metadata": {},
     "output_type": "display_data"
    },
    {
     "data": {
      "application/papermill.record+json": {
       "test_predictions": [
        0,
        0,
        0,
        0,
        0,
        0,
        1,
        0,
        0,
        0,
        0,
        0,
        0,
        0,
        0,
        1,
        0,
        1,
        0,
        0,
        0,
        0,
        0,
        0,
        0,
        0,
        0,
        0,
        0,
        0,
        0,
        0,
        0,
        0,
        0,
        0,
        0,
        1,
        0,
        0,
        1,
        0,
        0,
        0,
        0,
        0,
        0,
        0,
        0,
        0,
        0,
        0,
        0,
        0,
        1,
        1,
        1,
        1,
        1,
        0,
        1,
        1,
        1,
        1,
        0,
        1,
        1,
        1,
        1,
        1,
        1,
        1,
        1,
        1,
        1,
        1,
        1,
        1,
        1,
        1,
        1,
        1,
        0,
        1,
        0,
        1,
        1,
        1,
        1,
        1,
        1,
        1,
        1,
        1,
        0,
        1,
        1,
        1,
        1,
        1
       ]
      }
     },
     "metadata": {},
     "output_type": "display_data"
    }
   ],
   "source": [
    "model = best_model\n",
    "predictions = model.predict(test_set)\n",
    "probabilities = model.predict_proba(test_set)\n",
    "pm.record(\"test_labels\", list(test_labels))\n",
    "pm.record(\"test_probabilities\", list(probabilities[:,1]))\n",
    "pm.record(\"test_predictions\", list(predictions))"
   ]
  },
  {
   "cell_type": "code",
   "execution_count": 26,
   "metadata": {},
   "outputs": [
    {
     "name": "stdout",
     "output_type": "stream",
     "text": [
      "accuracy: 0.9\n"
     ]
    }
   ],
   "source": [
    "print(\"accuracy: {}\".format(metrics.accuracy_score(test_labels, predictions)))"
   ]
  },
  {
   "cell_type": "code",
   "execution_count": 27,
   "metadata": {},
   "outputs": [
    {
     "data": {
      "image/png": "[encoded data removed]",
      "text/plain": [
       "<Figure size 432x288 with 2 Axes>"
      ]
     },
     "metadata": {},
     "output_type": "display_data"
    }
   ],
   "source": [
    "fig = plot_confusion_matrix_ensemble(test_labels, predictions, [\"benign\", \"malignant\"])\n",
    "fig.savefig(\"figures/ensemble-test-confusion-matrix.svg\", bbox_inches = \"tight\")"
   ]
  },
  {
   "cell_type": "code",
   "execution_count": 28,
   "metadata": {},
   "outputs": [
    {
     "data": {
      "text/plain": [
       "100"
      ]
     },
     "execution_count": 28,
     "metadata": {},
     "output_type": "execute_result"
    }
   ],
   "source": [
    "len(test_labels)"
   ]
  },
  {
   "cell_type": "code",
   "execution_count": 29,
   "metadata": {
    "scrolled": true
   },
   "outputs": [
    {
     "data": {
      "text/html": [
       "<div>\n",
       "<style scoped>\n",
       "    .dataframe tbody tr th:only-of-type {\n",
       "        vertical-align: middle;\n",
       "    }\n",
       "\n",
       "    .dataframe tbody tr th {\n",
       "        vertical-align: top;\n",
       "    }\n",
       "\n",
       "    .dataframe thead th {\n",
       "        text-align: right;\n",
       "    }\n",
       "</style>\n",
       "<table border=\"1\" class=\"dataframe\">\n",
       "  <thead>\n",
       "    <tr style=\"text-align: right;\">\n",
       "      <th></th>\n",
       "      <th>Acc</th>\n",
       "      <th>TP</th>\n",
       "      <th>TN</th>\n",
       "      <th>FP</th>\n",
       "      <th>FN</th>\n",
       "      <th>TPR</th>\n",
       "      <th>TNR</th>\n",
       "      <th>PPV</th>\n",
       "      <th>NPV</th>\n",
       "      <th>FPR</th>\n",
       "      <th>FNR</th>\n",
       "      <th>FDR</th>\n",
       "      <th>AM</th>\n",
       "      <th>GM</th>\n",
       "    </tr>\n",
       "  </thead>\n",
       "  <tbody>\n",
       "    <tr>\n",
       "      <th>0</th>\n",
       "      <td>0.9</td>\n",
       "      <td>49</td>\n",
       "      <td>41</td>\n",
       "      <td>5</td>\n",
       "      <td>5</td>\n",
       "      <td>0.907407</td>\n",
       "      <td>0.891304</td>\n",
       "      <td>0.907407</td>\n",
       "      <td>0.891304</td>\n",
       "      <td>0.108696</td>\n",
       "      <td>0.092593</td>\n",
       "      <td>0.092593</td>\n",
       "      <td>0.899356</td>\n",
       "      <td>0.89932</td>\n",
       "    </tr>\n",
       "    <tr>\n",
       "      <th>1</th>\n",
       "      <td>0.9</td>\n",
       "      <td>41</td>\n",
       "      <td>49</td>\n",
       "      <td>5</td>\n",
       "      <td>5</td>\n",
       "      <td>0.891304</td>\n",
       "      <td>0.907407</td>\n",
       "      <td>0.891304</td>\n",
       "      <td>0.907407</td>\n",
       "      <td>0.092593</td>\n",
       "      <td>0.108696</td>\n",
       "      <td>0.108696</td>\n",
       "      <td>0.899356</td>\n",
       "      <td>0.89932</td>\n",
       "    </tr>\n",
       "  </tbody>\n",
       "</table>\n",
       "</div>"
      ],
      "text/plain": [
       "   Acc  TP  TN  FP  FN       TPR       TNR       PPV       NPV       FPR  \\\n",
       "0  0.9  49  41   5   5  0.907407  0.891304  0.907407  0.891304  0.108696   \n",
       "1  0.9  41  49   5   5  0.891304  0.907407  0.891304  0.907407  0.092593   \n",
       "\n",
       "        FNR       FDR        AM       GM  \n",
       "0  0.092593  0.092593  0.899356  0.89932  \n",
       "1  0.108696  0.108696  0.899356  0.89932  "
      ]
     },
     "execution_count": 29,
     "metadata": {},
     "output_type": "execute_result"
    }
   ],
   "source": [
    "pandas.DataFrame(calculate_confusion_matrix_stats(test_labels, probabilities[:,1]))"
   ]
  },
  {
   "cell_type": "markdown",
   "metadata": {},
   "source": [
    "## ROC Curve"
   ]
  },
  {
   "cell_type": "code",
   "execution_count": 30,
   "metadata": {
    "scrolled": true
   },
   "outputs": [
    {
     "data": {
      "image/png": "[encoded data removed]",
      "text/plain": [
       "<Figure size 432x288 with 1 Axes>"
      ]
     },
     "metadata": {},
     "output_type": "display_data"
    }
   ],
   "source": [
    "fig = plot_roc_curve(test_labels, probabilities[:,1])\n",
    "fig.savefig(\"figures/ensemble-test-roc-curve.svg\", bbox_inches = \"tight\")"
   ]
  },
  {
   "cell_type": "markdown",
   "metadata": {},
   "source": [
    "## Precision recall curve"
   ]
  },
  {
   "cell_type": "code",
   "execution_count": null,
   "metadata": {
    "scrolled": true
   },
   "outputs": [],
   "source": [
    "fig = plot_precision_recall(test_labels, probabilities[:,1])\n",
    "fig.savefig(\"figures/ensemble-test-precisionrecall.svg\", bbox_inches = \"tight\")"
   ]
  },
  {
   "cell_type": "code",
   "execution_count": 1,
   "metadata": {},
   "outputs": [
    {
     "data": {
      "text/html": [
       "<script>\n",
       "code_show=true; \n",
       "function code_toggle() {\n",
       " if (code_show){\n",
       " $('div.input').hide();\n",
       " } else {\n",
       " $('div.input').show();\n",
       " }\n",
       " code_show = !code_show\n",
       "} \n",
       "$( document ).ready(code_toggle);\n",
       "</script>\n",
       "The raw code for this IPython notebook is by default hidden for easier reading.\n",
       "To toggle on/off the raw code, click <a href=\"javascript:code_toggle()\">here</a>."
      ],
      "text/plain": [
       "<script>\n",
       "code_show=true; \n",
       "function code_toggle() {\n",
       " if (code_show){\n",
       " $('div.input').hide();\n",
       " } else {\n",
       " $('div.input').show();\n",
       " }\n",
       " code_show = !code_show\n",
       "} \n",
       "$( document ).ready(code_toggle);\n",
       "</script>\n",
       "The raw code for this IPython notebook is by default hidden for easier reading.\n",
       "To toggle on/off the raw code, click <a href=\"javascript:code_toggle()\">here</a>."
      ]
     },
     "execution_count": 1,
     "metadata": {},
     "output_type": "execute_result"
    }
   ],
   "source": [
    "from IPython.display import HTML\n",
    "HTML('''<script>\n",
    "code_show=true; \n",
    "function code_toggle() {\n",
    " if (code_show){\n",
    " $('div.input').hide();\n",
    " } else {\n",
    " $('div.input').show();\n",
    " }\n",
    " code_show = !code_show\n",
    "} \n",
    "$( document ).ready(code_toggle);\n",
    "</script>\n",
    "The raw code for this IPython notebook is by default hidden for easier reading.\n",
    "To toggle on/off the raw code, click <a href=\"javascript:code_toggle()\">here</a>.''')"
   ]
  },
  {
   "cell_type": "code",
   "execution_count": null,
   "metadata": {},
   "outputs": [],
   "source": []
  },
  {
   "cell_type": "code",
   "execution_count": null,
   "metadata": {},
   "outputs": [],
   "source": []
  },
  {
   "cell_type": "code",
   "execution_count": null,
   "metadata": {},
   "outputs": [],
   "source": []
  },
  {
   "cell_type": "code",
   "execution_count": null,
   "metadata": {},
   "outputs": [],
   "source": []
  },
  {
   "cell_type": "code",
   "execution_count": null,
   "metadata": {},
   "outputs": [],
   "source": []
  },
  {
   "cell_type": "code",
   "execution_count": null,
   "metadata": {},
   "outputs": [],
   "source": []
  }
 ],
 "metadata": {
  "kernelspec": {
   "display_name": "Python 3",
   "language": "python",
   "name": "python3"
  },
  "language_info": {
   "codemirror_mode": {
    "name": "ipython",
    "version": 3
   },
   "file_extension": ".py",
   "mimetype": "text/x-python",
   "name": "python",
   "nbconvert_exporter": "python",
   "pygments_lexer": "ipython3",
   "version": "3.6.1"
  }
 },
 "nbformat": 4,
 "nbformat_minor": 2
}
