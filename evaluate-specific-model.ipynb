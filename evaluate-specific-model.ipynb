{
 "cells": [
  {
   "cell_type": "code",
   "execution_count": 1,
   "metadata": {},
   "outputs": [],
   "source": [
    "%load_ext autoreload\n",
    "%autoreload 2\n",
    "%matplotlib inline  \n",
    "from IPython.display import HTML"
   ]
  },
  {
   "cell_type": "code",
   "execution_count": 2,
   "metadata": {},
   "outputs": [
    {
     "name": "stderr",
     "output_type": "stream",
     "text": [
      "Using TensorFlow backend.\n",
      "/home/sopeeweje/.local/share/virtualenvs/bone_master-xLR2Nuxv/lib/python3.6/site-packages/tensorflow/python/framework/dtypes.py:516: FutureWarning: Passing (type, 1) or '1type' as a synonym of type is deprecated; in a future version of numpy, it will be understood as (type, (1,)) / '(1,)type'.\n",
      "  _np_qint8 = np.dtype([(\"qint8\", np.int8, 1)])\n",
      "/home/sopeeweje/.local/share/virtualenvs/bone_master-xLR2Nuxv/lib/python3.6/site-packages/tensorflow/python/framework/dtypes.py:517: FutureWarning: Passing (type, 1) or '1type' as a synonym of type is deprecated; in a future version of numpy, it will be understood as (type, (1,)) / '(1,)type'.\n",
      "  _np_quint8 = np.dtype([(\"quint8\", np.uint8, 1)])\n",
      "/home/sopeeweje/.local/share/virtualenvs/bone_master-xLR2Nuxv/lib/python3.6/site-packages/tensorflow/python/framework/dtypes.py:518: FutureWarning: Passing (type, 1) or '1type' as a synonym of type is deprecated; in a future version of numpy, it will be understood as (type, (1,)) / '(1,)type'.\n",
      "  _np_qint16 = np.dtype([(\"qint16\", np.int16, 1)])\n",
      "/home/sopeeweje/.local/share/virtualenvs/bone_master-xLR2Nuxv/lib/python3.6/site-packages/tensorflow/python/framework/dtypes.py:519: FutureWarning: Passing (type, 1) or '1type' as a synonym of type is deprecated; in a future version of numpy, it will be understood as (type, (1,)) / '(1,)type'.\n",
      "  _np_quint16 = np.dtype([(\"quint16\", np.uint16, 1)])\n",
      "/home/sopeeweje/.local/share/virtualenvs/bone_master-xLR2Nuxv/lib/python3.6/site-packages/tensorflow/python/framework/dtypes.py:520: FutureWarning: Passing (type, 1) or '1type' as a synonym of type is deprecated; in a future version of numpy, it will be understood as (type, (1,)) / '(1,)type'.\n",
      "  _np_qint32 = np.dtype([(\"qint32\", np.int32, 1)])\n",
      "/home/sopeeweje/.local/share/virtualenvs/bone_master-xLR2Nuxv/lib/python3.6/site-packages/tensorflow/python/framework/dtypes.py:525: FutureWarning: Passing (type, 1) or '1type' as a synonym of type is deprecated; in a future version of numpy, it will be understood as (type, (1,)) / '(1,)type'.\n",
      "  np_resource = np.dtype([(\"resource\", np.ubyte, 1)])\n",
      "WARNING:root:Limited tf.compat.v2.summary API due to missing TensorBoard installation.\n"
     ]
    }
   ],
   "source": [
    "from sklearn.metrics import f1_score, roc_auc_score, average_precision_score, precision_score, recall_score\n",
    "import pandas\n",
    "import numpy as np\n",
    "import papermill as pm\n",
    "import json\n",
    "import matplotlib.pyplot as plt\n",
    "import os\n",
    "import uuid\n",
    "from db import Result\n",
    "import ast\n",
    "import math\n",
    "from vis.visualization import visualize_cam, visualize_saliency, overlay\n",
    "from vis.utils.utils import load_img, normalize, find_layer_idx\n",
    "\n",
    "\n",
    "pandas.options.display.float_format = '{:,.3f}'.format"
   ]
  },
  {
   "cell_type": "code",
   "execution_count": 3,
   "metadata": {},
   "outputs": [],
   "source": [
    "from evaluate import load, get_results, get_labels, transform_binary_probabilities, transform_binary_predictions, calculate_accuracy_loss, plot_confusion_matrix, plot_precision_recall, plot_roc_curve, calculate_pr_auc, calculate_confusion_matrix_stats, calculate_confusion_matrix, plot_tsne, plot_multiple_grad_cam, plot_precision_recall"
   ]
  },
  {
   "cell_type": "code",
   "execution_count": 4,
   "metadata": {},
   "outputs": [],
   "source": [
    "from data_gen import data\n",
    "from run import characterize_data\n",
    "from config import config"
   ]
  },
  {
   "cell_type": "code",
   "execution_count": 5,
   "metadata": {
    "tags": [
     "parameters"
    ]
   },
   "outputs": [],
   "source": [
    "UUID = \"7956d353-e8a6-47b6-a13c-52b782a16690\"\n",
    "\n",
    "#t1: 4e4c0355-9643-4e22-80ba-78dd371c8900\n",
    "#t1_t: 7b6d44a6-5439-47d5-a2b9-bf62193c0c2e\n",
    "#t1_post: 2bcb25f3-b326-4f5b-ae3f-41eb90ae36ef\n",
    "#t1_post_t: e50a3e1e-d292-4eb8-b152-a9a97238b5cb\n",
    "#t2: 8c10b503-add4-48a0-92e1-49b156b9fb28\n",
    "#t2_t: 5b548ac7-508c-41b9-8626-c8b8367e71c9\n",
    "\n",
    "SELECTIONS = \"None\"\n",
    "TSNE_PERPLEXITY = 5"
   ]
  },
  {
   "cell_type": "code",
   "execution_count": 6,
   "metadata": {},
   "outputs": [],
   "source": [
    "SELECTIONS = eval(SELECTIONS)"
   ]
  },
  {
   "cell_type": "code",
   "execution_count": 7,
   "metadata": {},
   "outputs": [],
   "source": [
    "result = Result.query.filter(Result.uuid == UUID).first()"
   ]
  },
  {
   "cell_type": "code",
   "execution_count": 8,
   "metadata": {},
   "outputs": [
    {
     "name": "stdout",
     "output_type": "stream",
     "text": [
      "input form: t1c-features\n"
     ]
    }
   ],
   "source": [
    "print(\"input form:\", result.input_form)"
   ]
  },
  {
   "cell_type": "code",
   "execution_count": 9,
   "metadata": {},
   "outputs": [],
   "source": [
    "MODEL = \"{}/models/{}-{}.h5\".format(config.OUTPUT, UUID, result.model)"
   ]
  },
  {
   "cell_type": "code",
   "execution_count": 10,
   "metadata": {
    "scrolled": false
   },
   "outputs": [
    {
     "name": "stderr",
     "output_type": "stream",
     "text": [
      "  1%|▏         | 3/240 [00:00<01:13,  3.24it/s]"
     ]
    },
    {
     "name": "stdout",
     "output_type": "stream",
     "text": [
      "\n",
      "################################################################################\n",
      "Exception occurred for: sort          -\n",
      "volume    0.603\n",
      "outcome   0.000\n",
      "Name: chop-132, dtype: object\n",
      "[Errno 2] No such file or directory: '/home/sopeeweje/bone_master/data_dir/preprocessed/chop-132-t1c-imagingVolume.nrrd'\n",
      "T1C image unavailable\n",
      "Traceback (most recent call last):\n",
      "  File \"/home/sopeeweje/bone_master/data_gen.py\", line 383, in generate_from_features\n",
      "    t1c_masked = load_image(t1c_image_file, t1c_seg_file, verbose=verbose)\n",
      "  File \"/home/sopeeweje/bone_master/data_gen.py\", line 313, in load_image\n",
      "    image, _ = nrrd.read(image_path)\n",
      "  File \"/home/sopeeweje/.local/share/virtualenvs/bone_master-xLR2Nuxv/lib/python3.6/site-packages/nrrd/reader.py\", line 506, in read\n",
      "    with open(filename, 'rb') as fh:\n",
      "FileNotFoundError: [Errno 2] No such file or directory: '/home/sopeeweje/bone_master/data_dir/preprocessed/chop-132-t1c-imagingVolume.nrrd'\n",
      "\n",
      "\n",
      "################################################################################\n",
      "Exception occurred for: sort          -\n",
      "volume    0.603\n",
      "outcome   0.000\n",
      "Name: china085, dtype: object\n",
      "[Errno 2] No such file or directory: '/home/sopeeweje/bone_master/data_dir/preprocessed/china085-t1c-imagingVolume.nrrd'\n",
      "T1C image unavailable\n",
      "Traceback (most recent call last):\n",
      "  File \"/home/sopeeweje/bone_master/data_gen.py\", line 383, in generate_from_features\n",
      "    t1c_masked = load_image(t1c_image_file, t1c_seg_file, verbose=verbose)\n",
      "  File \"/home/sopeeweje/bone_master/data_gen.py\", line 313, in load_image\n",
      "    image, _ = nrrd.read(image_path)\n",
      "  File \"/home/sopeeweje/.local/share/virtualenvs/bone_master-xLR2Nuxv/lib/python3.6/site-packages/nrrd/reader.py\", line 506, in read\n",
      "    with open(filename, 'rb') as fh:\n",
      "FileNotFoundError: [Errno 2] No such file or directory: '/home/sopeeweje/bone_master/data_dir/preprocessed/china085-t1c-imagingVolume.nrrd'\n",
      "\n",
      "\n",
      "################################################################################\n",
      "Exception occurred for: sort          -\n",
      "volume    0.603\n",
      "outcome   0.000\n",
      "Name: chop-31, dtype: object\n",
      "[Errno 2] No such file or directory: '/home/sopeeweje/bone_master/data_dir/preprocessed/chop-31-t1c-imagingVolume.nrrd'\n",
      "T1C image unavailable\n",
      "Traceback (most recent call last):\n",
      "  File \"/home/sopeeweje/bone_master/data_gen.py\", line 383, in generate_from_features\n",
      "    t1c_masked = load_image(t1c_image_file, t1c_seg_file, verbose=verbose)\n",
      "  File \"/home/sopeeweje/bone_master/data_gen.py\", line 313, in load_image\n",
      "    image, _ = nrrd.read(image_path)\n",
      "  File \"/home/sopeeweje/.local/share/virtualenvs/bone_master-xLR2Nuxv/lib/python3.6/site-packages/nrrd/reader.py\", line 506, in read\n",
      "    with open(filename, 'rb') as fh:\n",
      "FileNotFoundError: [Errno 2] No such file or directory: '/home/sopeeweje/bone_master/data_dir/preprocessed/chop-31-t1c-imagingVolume.nrrd'\n",
      "\n"
     ]
    },
    {
     "name": "stderr",
     "output_type": "stream",
     "text": [
      "  2%|▎         | 6/240 [00:01<00:58,  3.99it/s]"
     ]
    },
    {
     "name": "stdout",
     "output_type": "stream",
     "text": [
      "\n",
      "################################################################################\n",
      "Exception occurred for: sort          -\n",
      "volume    0.604\n",
      "outcome   0.000\n",
      "Name: china019, dtype: object\n",
      "[Errno 2] No such file or directory: '/home/sopeeweje/bone_master/data_dir/preprocessed/china019-t1c-imagingVolume.nrrd'\n",
      "T1C image unavailable\n",
      "Traceback (most recent call last):\n",
      "  File \"/home/sopeeweje/bone_master/data_gen.py\", line 383, in generate_from_features\n",
      "    t1c_masked = load_image(t1c_image_file, t1c_seg_file, verbose=verbose)\n",
      "  File \"/home/sopeeweje/bone_master/data_gen.py\", line 313, in load_image\n",
      "    image, _ = nrrd.read(image_path)\n",
      "  File \"/home/sopeeweje/.local/share/virtualenvs/bone_master-xLR2Nuxv/lib/python3.6/site-packages/nrrd/reader.py\", line 506, in read\n",
      "    with open(filename, 'rb') as fh:\n",
      "FileNotFoundError: [Errno 2] No such file or directory: '/home/sopeeweje/bone_master/data_dir/preprocessed/china019-t1c-imagingVolume.nrrd'\n",
      "\n",
      "\n",
      "################################################################################\n",
      "Exception occurred for: sort          -\n",
      "volume    0.603\n",
      "outcome   0.000\n",
      "Name: penn-009, dtype: object\n",
      "[Errno 2] No such file or directory: '/home/sopeeweje/bone_master/data_dir/preprocessed/penn-009-t1-imagingVolume.nrrd'\n",
      "T1 image unavailable\n",
      "Traceback (most recent call last):\n",
      "  File \"/home/sopeeweje/bone_master/data_gen.py\", line 357, in generate_from_features\n",
      "    t1_masked = load_image(t1_image_file, t1_seg_file, verbose=verbose)\n",
      "  File \"/home/sopeeweje/bone_master/data_gen.py\", line 313, in load_image\n",
      "    image, _ = nrrd.read(image_path)\n",
      "  File \"/home/sopeeweje/.local/share/virtualenvs/bone_master-xLR2Nuxv/lib/python3.6/site-packages/nrrd/reader.py\", line 506, in read\n",
      "    with open(filename, 'rb') as fh:\n",
      "FileNotFoundError: [Errno 2] No such file or directory: '/home/sopeeweje/bone_master/data_dir/preprocessed/penn-009-t1-imagingVolume.nrrd'\n",
      "\n"
     ]
    },
    {
     "name": "stderr",
     "output_type": "stream",
     "text": [
      "\r",
      "  3%|▎         | 8/240 [00:01<00:48,  4.77it/s]"
     ]
    },
    {
     "name": "stdout",
     "output_type": "stream",
     "text": [
      "\n",
      "################################################################################\n",
      "Exception occurred for: sort          -\n",
      "volume    0.603\n",
      "outcome   0.000\n",
      "Name: penn-040, dtype: object\n",
      "[Errno 2] No such file or directory: '/home/sopeeweje/bone_master/data_dir/preprocessed/penn-040-t1c-imagingVolume.nrrd'\n",
      "T1C image unavailable\n",
      "Traceback (most recent call last):\n",
      "  File \"/home/sopeeweje/bone_master/data_gen.py\", line 383, in generate_from_features\n",
      "    t1c_masked = load_image(t1c_image_file, t1c_seg_file, verbose=verbose)\n",
      "  File \"/home/sopeeweje/bone_master/data_gen.py\", line 313, in load_image\n",
      "    image, _ = nrrd.read(image_path)\n",
      "  File \"/home/sopeeweje/.local/share/virtualenvs/bone_master-xLR2Nuxv/lib/python3.6/site-packages/nrrd/reader.py\", line 506, in read\n",
      "    with open(filename, 'rb') as fh:\n",
      "FileNotFoundError: [Errno 2] No such file or directory: '/home/sopeeweje/bone_master/data_dir/preprocessed/penn-040-t1c-imagingVolume.nrrd'\n",
      "\n"
     ]
    },
    {
     "name": "stderr",
     "output_type": "stream",
     "text": [
      "  5%|▍         | 11/240 [00:02<00:45,  4.98it/s]"
     ]
    },
    {
     "name": "stdout",
     "output_type": "stream",
     "text": [
      "\n",
      "################################################################################\n",
      "Exception occurred for: sort          -\n",
      "volume    0.603\n",
      "outcome   0.000\n",
      "Name: penn-044, dtype: object\n",
      "[Errno 2] No such file or directory: '/home/sopeeweje/bone_master/data_dir/preprocessed/penn-044-t1c-imagingVolume.nrrd'\n",
      "T1C image unavailable\n",
      "Traceback (most recent call last):\n",
      "  File \"/home/sopeeweje/bone_master/data_gen.py\", line 383, in generate_from_features\n",
      "    t1c_masked = load_image(t1c_image_file, t1c_seg_file, verbose=verbose)\n",
      "  File \"/home/sopeeweje/bone_master/data_gen.py\", line 313, in load_image\n",
      "    image, _ = nrrd.read(image_path)\n",
      "  File \"/home/sopeeweje/.local/share/virtualenvs/bone_master-xLR2Nuxv/lib/python3.6/site-packages/nrrd/reader.py\", line 506, in read\n",
      "    with open(filename, 'rb') as fh:\n",
      "FileNotFoundError: [Errno 2] No such file or directory: '/home/sopeeweje/bone_master/data_dir/preprocessed/penn-044-t1c-imagingVolume.nrrd'\n",
      "\n"
     ]
    },
    {
     "name": "stderr",
     "output_type": "stream",
     "text": [
      "  6%|▌         | 14/240 [00:02<00:40,  5.60it/s]"
     ]
    },
    {
     "name": "stdout",
     "output_type": "stream",
     "text": [
      "\n",
      "################################################################################\n",
      "Exception occurred for: sort          -\n",
      "volume    0.603\n",
      "outcome   0.000\n",
      "Name: penn-036, dtype: object\n",
      "[Errno 2] No such file or directory: '/home/sopeeweje/bone_master/data_dir/preprocessed/penn-036-t1c-imagingVolume.nrrd'\n",
      "T1C image unavailable\n",
      "Traceback (most recent call last):\n",
      "  File \"/home/sopeeweje/bone_master/data_gen.py\", line 383, in generate_from_features\n",
      "    t1c_masked = load_image(t1c_image_file, t1c_seg_file, verbose=verbose)\n",
      "  File \"/home/sopeeweje/bone_master/data_gen.py\", line 313, in load_image\n",
      "    image, _ = nrrd.read(image_path)\n",
      "  File \"/home/sopeeweje/.local/share/virtualenvs/bone_master-xLR2Nuxv/lib/python3.6/site-packages/nrrd/reader.py\", line 506, in read\n",
      "    with open(filename, 'rb') as fh:\n",
      "FileNotFoundError: [Errno 2] No such file or directory: '/home/sopeeweje/bone_master/data_dir/preprocessed/penn-036-t1c-imagingVolume.nrrd'\n",
      "\n",
      "\n",
      "################################################################################\n",
      "Exception occurred for: sort          -\n",
      "volume    0.603\n",
      "outcome   0.000\n",
      "Name: chop-14, dtype: object\n",
      "[Errno 2] No such file or directory: '/home/sopeeweje/bone_master/data_dir/preprocessed/chop-14-t1c-imagingVolume.nrrd'\n",
      "T1C image unavailable\n",
      "Traceback (most recent call last):\n",
      "  File \"/home/sopeeweje/bone_master/data_gen.py\", line 383, in generate_from_features\n",
      "    t1c_masked = load_image(t1c_image_file, t1c_seg_file, verbose=verbose)\n",
      "  File \"/home/sopeeweje/bone_master/data_gen.py\", line 313, in load_image\n",
      "    image, _ = nrrd.read(image_path)\n",
      "  File \"/home/sopeeweje/.local/share/virtualenvs/bone_master-xLR2Nuxv/lib/python3.6/site-packages/nrrd/reader.py\", line 506, in read\n",
      "    with open(filename, 'rb') as fh:\n",
      "FileNotFoundError: [Errno 2] No such file or directory: '/home/sopeeweje/bone_master/data_dir/preprocessed/chop-14-t1c-imagingVolume.nrrd'\n",
      "\n"
     ]
    },
    {
     "name": "stderr",
     "output_type": "stream",
     "text": [
      "  8%|▊         | 18/240 [00:03<00:37,  5.93it/s]"
     ]
    },
    {
     "name": "stdout",
     "output_type": "stream",
     "text": [
      "\n",
      "################################################################################\n",
      "Exception occurred for: sort          -\n",
      "volume    0.603\n",
      "outcome   0.000\n",
      "Name: chop-99, dtype: object\n",
      "[Errno 2] No such file or directory: '/home/sopeeweje/bone_master/data_dir/preprocessed/chop-99-t1c-imagingVolume.nrrd'\n",
      "T1C image unavailable\n",
      "Traceback (most recent call last):\n",
      "  File \"/home/sopeeweje/bone_master/data_gen.py\", line 383, in generate_from_features\n",
      "    t1c_masked = load_image(t1c_image_file, t1c_seg_file, verbose=verbose)\n",
      "  File \"/home/sopeeweje/bone_master/data_gen.py\", line 313, in load_image\n",
      "    image, _ = nrrd.read(image_path)\n",
      "  File \"/home/sopeeweje/.local/share/virtualenvs/bone_master-xLR2Nuxv/lib/python3.6/site-packages/nrrd/reader.py\", line 506, in read\n",
      "    with open(filename, 'rb') as fh:\n",
      "FileNotFoundError: [Errno 2] No such file or directory: '/home/sopeeweje/bone_master/data_dir/preprocessed/chop-99-t1c-imagingVolume.nrrd'\n",
      "\n"
     ]
    },
    {
     "name": "stderr",
     "output_type": "stream",
     "text": [
      "  9%|▉         | 21/240 [00:04<00:41,  5.27it/s]"
     ]
    },
    {
     "name": "stdout",
     "output_type": "stream",
     "text": [
      "\n",
      "################################################################################\n",
      "Exception occurred for: sort          -\n",
      "volume    0.603\n",
      "outcome   0.000\n",
      "Name: penn-062, dtype: object\n",
      "[Errno 2] No such file or directory: '/home/sopeeweje/bone_master/data_dir/preprocessed/penn-062-t1c-imagingVolume.nrrd'\n",
      "T1C image unavailable\n",
      "Traceback (most recent call last):\n",
      "  File \"/home/sopeeweje/bone_master/data_gen.py\", line 383, in generate_from_features\n",
      "    t1c_masked = load_image(t1c_image_file, t1c_seg_file, verbose=verbose)\n",
      "  File \"/home/sopeeweje/bone_master/data_gen.py\", line 313, in load_image\n",
      "    image, _ = nrrd.read(image_path)\n",
      "  File \"/home/sopeeweje/.local/share/virtualenvs/bone_master-xLR2Nuxv/lib/python3.6/site-packages/nrrd/reader.py\", line 506, in read\n",
      "    with open(filename, 'rb') as fh:\n",
      "FileNotFoundError: [Errno 2] No such file or directory: '/home/sopeeweje/bone_master/data_dir/preprocessed/penn-062-t1c-imagingVolume.nrrd'\n",
      "\n",
      "\n",
      "################################################################################\n",
      "Exception occurred for: sort          -\n",
      "volume    0.603\n",
      "outcome   0.000\n",
      "Name: chop-71, dtype: object\n",
      "[Errno 2] No such file or directory: '/home/sopeeweje/bone_master/data_dir/preprocessed/chop-71-t1c-imagingVolume.nrrd'\n",
      "T1C image unavailable\n",
      "Traceback (most recent call last):\n",
      "  File \"/home/sopeeweje/bone_master/data_gen.py\", line 383, in generate_from_features\n",
      "    t1c_masked = load_image(t1c_image_file, t1c_seg_file, verbose=verbose)\n",
      "  File \"/home/sopeeweje/bone_master/data_gen.py\", line 313, in load_image\n",
      "    image, _ = nrrd.read(image_path)\n",
      "  File \"/home/sopeeweje/.local/share/virtualenvs/bone_master-xLR2Nuxv/lib/python3.6/site-packages/nrrd/reader.py\", line 506, in read\n",
      "    with open(filename, 'rb') as fh:\n",
      "FileNotFoundError: [Errno 2] No such file or directory: '/home/sopeeweje/bone_master/data_dir/preprocessed/chop-71-t1c-imagingVolume.nrrd'\n",
      "\n"
     ]
    },
    {
     "name": "stderr",
     "output_type": "stream",
     "text": [
      " 10%|▉         | 23/240 [00:05<01:19,  2.71it/s]"
     ]
    },
    {
     "name": "stdout",
     "output_type": "stream",
     "text": [
      "\n",
      "################################################################################\n",
      "Exception occurred for: sort          -\n",
      "volume    0.603\n",
      "outcome   0.000\n",
      "Name: chop-57, dtype: object\n",
      "[Errno 2] No such file or directory: '/home/sopeeweje/bone_master/data_dir/preprocessed/chop-57-t1c-imagingVolume.nrrd'\n",
      "T1C image unavailable\n",
      "Traceback (most recent call last):\n",
      "  File \"/home/sopeeweje/bone_master/data_gen.py\", line 383, in generate_from_features\n",
      "    t1c_masked = load_image(t1c_image_file, t1c_seg_file, verbose=verbose)\n",
      "  File \"/home/sopeeweje/bone_master/data_gen.py\", line 313, in load_image\n",
      "    image, _ = nrrd.read(image_path)\n",
      "  File \"/home/sopeeweje/.local/share/virtualenvs/bone_master-xLR2Nuxv/lib/python3.6/site-packages/nrrd/reader.py\", line 506, in read\n",
      "    with open(filename, 'rb') as fh:\n",
      "FileNotFoundError: [Errno 2] No such file or directory: '/home/sopeeweje/bone_master/data_dir/preprocessed/chop-57-t1c-imagingVolume.nrrd'\n",
      "\n"
     ]
    },
    {
     "name": "stderr",
     "output_type": "stream",
     "text": [
      " 11%|█         | 26/240 [00:05<00:57,  3.71it/s]"
     ]
    },
    {
     "name": "stdout",
     "output_type": "stream",
     "text": [
      "\n",
      "################################################################################\n",
      "Exception occurred for: sort          -\n",
      "volume    0.603\n",
      "outcome   0.000\n",
      "Name: chop-142, dtype: object\n",
      "[Errno 2] No such file or directory: '/home/sopeeweje/bone_master/data_dir/preprocessed/chop-142-t1c-imagingVolume.nrrd'\n",
      "T1C image unavailable\n",
      "Traceback (most recent call last):\n",
      "  File \"/home/sopeeweje/bone_master/data_gen.py\", line 383, in generate_from_features\n",
      "    t1c_masked = load_image(t1c_image_file, t1c_seg_file, verbose=verbose)\n",
      "  File \"/home/sopeeweje/bone_master/data_gen.py\", line 313, in load_image\n",
      "    image, _ = nrrd.read(image_path)\n",
      "  File \"/home/sopeeweje/.local/share/virtualenvs/bone_master-xLR2Nuxv/lib/python3.6/site-packages/nrrd/reader.py\", line 506, in read\n",
      "    with open(filename, 'rb') as fh:\n",
      "FileNotFoundError: [Errno 2] No such file or directory: '/home/sopeeweje/bone_master/data_dir/preprocessed/chop-142-t1c-imagingVolume.nrrd'\n",
      "\n"
     ]
    },
    {
     "name": "stderr",
     "output_type": "stream",
     "text": [
      "\r",
      " 12%|█▏        | 28/240 [00:06<00:54,  3.90it/s]"
     ]
    },
    {
     "name": "stdout",
     "output_type": "stream",
     "text": [
      "\n",
      "################################################################################\n",
      "Exception occurred for: sort          -\n",
      "volume    0.603\n",
      "outcome   0.000\n",
      "Name: penn-028, dtype: object\n",
      "[Errno 2] No such file or directory: '/home/sopeeweje/bone_master/data_dir/preprocessed/penn-028-t1c-imagingVolume.nrrd'\n",
      "T1C image unavailable\n",
      "Traceback (most recent call last):\n",
      "  File \"/home/sopeeweje/bone_master/data_gen.py\", line 383, in generate_from_features\n",
      "    t1c_masked = load_image(t1c_image_file, t1c_seg_file, verbose=verbose)\n",
      "  File \"/home/sopeeweje/bone_master/data_gen.py\", line 313, in load_image\n",
      "    image, _ = nrrd.read(image_path)\n",
      "  File \"/home/sopeeweje/.local/share/virtualenvs/bone_master-xLR2Nuxv/lib/python3.6/site-packages/nrrd/reader.py\", line 506, in read\n",
      "    with open(filename, 'rb') as fh:\n",
      "FileNotFoundError: [Errno 2] No such file or directory: '/home/sopeeweje/bone_master/data_dir/preprocessed/penn-028-t1c-imagingVolume.nrrd'\n",
      "\n"
     ]
    },
    {
     "name": "stderr",
     "output_type": "stream",
     "text": [
      " 12%|█▎        | 30/240 [00:06<00:48,  4.37it/s]"
     ]
    },
    {
     "name": "stdout",
     "output_type": "stream",
     "text": [
      "\n",
      "################################################################################\n",
      "Exception occurred for: sort          -\n",
      "volume    0.603\n",
      "outcome   0.000\n",
      "Name: penn-017, dtype: object\n",
      "[Errno 2] No such file or directory: '/home/sopeeweje/bone_master/data_dir/preprocessed/penn-017-t1c-imagingVolume.nrrd'\n",
      "T1C image unavailable\n",
      "Traceback (most recent call last):\n",
      "  File \"/home/sopeeweje/bone_master/data_gen.py\", line 383, in generate_from_features\n",
      "    t1c_masked = load_image(t1c_image_file, t1c_seg_file, verbose=verbose)\n",
      "  File \"/home/sopeeweje/bone_master/data_gen.py\", line 313, in load_image\n",
      "    image, _ = nrrd.read(image_path)\n",
      "  File \"/home/sopeeweje/.local/share/virtualenvs/bone_master-xLR2Nuxv/lib/python3.6/site-packages/nrrd/reader.py\", line 506, in read\n",
      "    with open(filename, 'rb') as fh:\n",
      "FileNotFoundError: [Errno 2] No such file or directory: '/home/sopeeweje/bone_master/data_dir/preprocessed/penn-017-t1c-imagingVolume.nrrd'\n",
      "\n"
     ]
    },
    {
     "name": "stderr",
     "output_type": "stream",
     "text": [
      " 14%|█▍        | 33/240 [00:07<00:44,  4.66it/s]"
     ]
    },
    {
     "name": "stdout",
     "output_type": "stream",
     "text": [
      "\n",
      "################################################################################\n",
      "Exception occurred for: sort          -\n",
      "volume    0.603\n",
      "outcome   0.000\n",
      "Name: chop-15, dtype: object\n",
      "[Errno 2] No such file or directory: '/home/sopeeweje/bone_master/data_dir/preprocessed/chop-15-t1c-imagingVolume.nrrd'\n",
      "T1C image unavailable\n",
      "Traceback (most recent call last):\n",
      "  File \"/home/sopeeweje/bone_master/data_gen.py\", line 383, in generate_from_features\n",
      "    t1c_masked = load_image(t1c_image_file, t1c_seg_file, verbose=verbose)\n",
      "  File \"/home/sopeeweje/bone_master/data_gen.py\", line 313, in load_image\n",
      "    image, _ = nrrd.read(image_path)\n",
      "  File \"/home/sopeeweje/.local/share/virtualenvs/bone_master-xLR2Nuxv/lib/python3.6/site-packages/nrrd/reader.py\", line 506, in read\n",
      "    with open(filename, 'rb') as fh:\n",
      "FileNotFoundError: [Errno 2] No such file or directory: '/home/sopeeweje/bone_master/data_dir/preprocessed/chop-15-t1c-imagingVolume.nrrd'\n",
      "\n",
      "\n",
      "################################################################################\n",
      "Exception occurred for: sort          -\n",
      "volume    0.603\n",
      "outcome   0.000\n",
      "Name: chop-77, dtype: object\n",
      "[Errno 2] No such file or directory: '/home/sopeeweje/bone_master/data_dir/preprocessed/chop-77-t1c-imagingVolume.nrrd'\n",
      "T1C image unavailable\n",
      "Traceback (most recent call last):\n",
      "  File \"/home/sopeeweje/bone_master/data_gen.py\", line 383, in generate_from_features\n",
      "    t1c_masked = load_image(t1c_image_file, t1c_seg_file, verbose=verbose)\n",
      "  File \"/home/sopeeweje/bone_master/data_gen.py\", line 313, in load_image\n",
      "    image, _ = nrrd.read(image_path)\n",
      "  File \"/home/sopeeweje/.local/share/virtualenvs/bone_master-xLR2Nuxv/lib/python3.6/site-packages/nrrd/reader.py\", line 506, in read\n",
      "    with open(filename, 'rb') as fh:\n",
      "FileNotFoundError: [Errno 2] No such file or directory: '/home/sopeeweje/bone_master/data_dir/preprocessed/chop-77-t1c-imagingVolume.nrrd'\n",
      "\n"
     ]
    },
    {
     "name": "stderr",
     "output_type": "stream",
     "text": [
      " 15%|█▌        | 37/240 [00:08<00:46,  4.39it/s]"
     ]
    },
    {
     "name": "stdout",
     "output_type": "stream",
     "text": [
      "\n",
      "################################################################################\n",
      "Exception occurred for: sort          -\n",
      "volume    0.603\n",
      "outcome   0.000\n",
      "Name: chop-119, dtype: object\n",
      "[Errno 2] No such file or directory: '/home/sopeeweje/bone_master/data_dir/preprocessed/chop-119-t1c-imagingVolume.nrrd'\n",
      "T1C image unavailable\n",
      "Traceback (most recent call last):\n",
      "  File \"/home/sopeeweje/bone_master/data_gen.py\", line 383, in generate_from_features\n",
      "    t1c_masked = load_image(t1c_image_file, t1c_seg_file, verbose=verbose)\n",
      "  File \"/home/sopeeweje/bone_master/data_gen.py\", line 313, in load_image\n",
      "    image, _ = nrrd.read(image_path)\n",
      "  File \"/home/sopeeweje/.local/share/virtualenvs/bone_master-xLR2Nuxv/lib/python3.6/site-packages/nrrd/reader.py\", line 506, in read\n",
      "    with open(filename, 'rb') as fh:\n",
      "FileNotFoundError: [Errno 2] No such file or directory: '/home/sopeeweje/bone_master/data_dir/preprocessed/chop-119-t1c-imagingVolume.nrrd'\n",
      "\n"
     ]
    },
    {
     "name": "stderr",
     "output_type": "stream",
     "text": [
      "\r",
      " 16%|█▋        | 39/240 [00:09<00:51,  3.91it/s]"
     ]
    },
    {
     "name": "stdout",
     "output_type": "stream",
     "text": [
      "\n",
      "################################################################################\n",
      "Exception occurred for: sort          -\n",
      "volume    0.603\n",
      "outcome   0.000\n",
      "Name: penn-007, dtype: object\n",
      "[Errno 2] No such file or directory: '/home/sopeeweje/bone_master/data_dir/preprocessed/penn-007-t1c-imagingVolume.nrrd'\n",
      "T1C image unavailable\n",
      "Traceback (most recent call last):\n",
      "  File \"/home/sopeeweje/bone_master/data_gen.py\", line 383, in generate_from_features\n",
      "    t1c_masked = load_image(t1c_image_file, t1c_seg_file, verbose=verbose)\n",
      "  File \"/home/sopeeweje/bone_master/data_gen.py\", line 313, in load_image\n",
      "    image, _ = nrrd.read(image_path)\n",
      "  File \"/home/sopeeweje/.local/share/virtualenvs/bone_master-xLR2Nuxv/lib/python3.6/site-packages/nrrd/reader.py\", line 506, in read\n",
      "    with open(filename, 'rb') as fh:\n",
      "FileNotFoundError: [Errno 2] No such file or directory: '/home/sopeeweje/bone_master/data_dir/preprocessed/penn-007-t1c-imagingVolume.nrrd'\n",
      "\n"
     ]
    },
    {
     "name": "stderr",
     "output_type": "stream",
     "text": [
      " 18%|█▊        | 42/240 [00:09<00:38,  5.17it/s]"
     ]
    },
    {
     "name": "stdout",
     "output_type": "stream",
     "text": [
      "\n",
      "################################################################################\n",
      "Exception occurred for: sort          -\n",
      "volume    0.603\n",
      "outcome   0.000\n",
      "Name: china067, dtype: object\n",
      "[Errno 2] No such file or directory: '/home/sopeeweje/bone_master/data_dir/preprocessed/china067-t1c-imagingVolume.nrrd'\n",
      "T1C image unavailable\n",
      "Traceback (most recent call last):\n",
      "  File \"/home/sopeeweje/bone_master/data_gen.py\", line 383, in generate_from_features\n",
      "    t1c_masked = load_image(t1c_image_file, t1c_seg_file, verbose=verbose)\n",
      "  File \"/home/sopeeweje/bone_master/data_gen.py\", line 313, in load_image\n",
      "    image, _ = nrrd.read(image_path)\n",
      "  File \"/home/sopeeweje/.local/share/virtualenvs/bone_master-xLR2Nuxv/lib/python3.6/site-packages/nrrd/reader.py\", line 506, in read\n",
      "    with open(filename, 'rb') as fh:\n",
      "FileNotFoundError: [Errno 2] No such file or directory: '/home/sopeeweje/bone_master/data_dir/preprocessed/china067-t1c-imagingVolume.nrrd'\n",
      "\n",
      "\n",
      "################################################################################\n",
      "Exception occurred for: sort          -\n",
      "volume    0.603\n",
      "outcome   0.000\n",
      "Name: chop-79, dtype: object\n",
      "[Errno 2] No such file or directory: '/home/sopeeweje/bone_master/data_dir/preprocessed/chop-79-t1c-imagingVolume.nrrd'\n",
      "T1C image unavailable\n",
      "Traceback (most recent call last):\n",
      "  File \"/home/sopeeweje/bone_master/data_gen.py\", line 383, in generate_from_features\n",
      "    t1c_masked = load_image(t1c_image_file, t1c_seg_file, verbose=verbose)\n",
      "  File \"/home/sopeeweje/bone_master/data_gen.py\", line 313, in load_image\n",
      "    image, _ = nrrd.read(image_path)\n",
      "  File \"/home/sopeeweje/.local/share/virtualenvs/bone_master-xLR2Nuxv/lib/python3.6/site-packages/nrrd/reader.py\", line 506, in read\n",
      "    with open(filename, 'rb') as fh:\n",
      "FileNotFoundError: [Errno 2] No such file or directory: '/home/sopeeweje/bone_master/data_dir/preprocessed/chop-79-t1c-imagingVolume.nrrd'\n",
      "\n"
     ]
    },
    {
     "name": "stderr",
     "output_type": "stream",
     "text": [
      " 19%|█▉        | 45/240 [00:09<00:37,  5.16it/s]"
     ]
    },
    {
     "name": "stdout",
     "output_type": "stream",
     "text": [
      "\n",
      "################################################################################\n",
      "Exception occurred for: sort          -\n",
      "volume    0.603\n",
      "outcome   0.000\n",
      "Name: chop-40, dtype: object\n",
      "[Errno 2] No such file or directory: '/home/sopeeweje/bone_master/data_dir/preprocessed/chop-40-t1c-imagingVolume.nrrd'\n",
      "T1C image unavailable\n",
      "Traceback (most recent call last):\n",
      "  File \"/home/sopeeweje/bone_master/data_gen.py\", line 383, in generate_from_features\n",
      "    t1c_masked = load_image(t1c_image_file, t1c_seg_file, verbose=verbose)\n",
      "  File \"/home/sopeeweje/bone_master/data_gen.py\", line 313, in load_image\n",
      "    image, _ = nrrd.read(image_path)\n",
      "  File \"/home/sopeeweje/.local/share/virtualenvs/bone_master-xLR2Nuxv/lib/python3.6/site-packages/nrrd/reader.py\", line 506, in read\n",
      "    with open(filename, 'rb') as fh:\n",
      "FileNotFoundError: [Errno 2] No such file or directory: '/home/sopeeweje/bone_master/data_dir/preprocessed/chop-40-t1c-imagingVolume.nrrd'\n",
      "\n"
     ]
    },
    {
     "name": "stderr",
     "output_type": "stream",
     "text": [
      " 20%|██        | 49/240 [00:10<00:26,  7.31it/s]"
     ]
    },
    {
     "name": "stdout",
     "output_type": "stream",
     "text": [
      "\n",
      "################################################################################\n",
      "Exception occurred for: sort          -\n",
      "volume    0.606\n",
      "outcome   0.000\n",
      "Name: china133, dtype: object\n",
      "[Errno 2] No such file or directory: '/home/sopeeweje/bone_master/data_dir/preprocessed/china133-t1c-imagingVolume.nrrd'\n",
      "T1C image unavailable\n",
      "Traceback (most recent call last):\n",
      "  File \"/home/sopeeweje/bone_master/data_gen.py\", line 383, in generate_from_features\n",
      "    t1c_masked = load_image(t1c_image_file, t1c_seg_file, verbose=verbose)\n",
      "  File \"/home/sopeeweje/bone_master/data_gen.py\", line 313, in load_image\n",
      "    image, _ = nrrd.read(image_path)\n",
      "  File \"/home/sopeeweje/.local/share/virtualenvs/bone_master-xLR2Nuxv/lib/python3.6/site-packages/nrrd/reader.py\", line 506, in read\n",
      "    with open(filename, 'rb') as fh:\n",
      "FileNotFoundError: [Errno 2] No such file or directory: '/home/sopeeweje/bone_master/data_dir/preprocessed/china133-t1c-imagingVolume.nrrd'\n",
      "\n",
      "\n",
      "################################################################################\n",
      "Exception occurred for: sort          -\n",
      "volume    0.603\n",
      "outcome   0.000\n",
      "Name: penn-030, dtype: object\n",
      "[Errno 2] No such file or directory: '/home/sopeeweje/bone_master/data_dir/preprocessed/penn-030-t1c-imagingVolume.nrrd'\n",
      "T1C image unavailable\n",
      "Traceback (most recent call last):\n",
      "  File \"/home/sopeeweje/bone_master/data_gen.py\", line 383, in generate_from_features\n",
      "    t1c_masked = load_image(t1c_image_file, t1c_seg_file, verbose=verbose)\n",
      "  File \"/home/sopeeweje/bone_master/data_gen.py\", line 313, in load_image\n",
      "    image, _ = nrrd.read(image_path)\n",
      "  File \"/home/sopeeweje/.local/share/virtualenvs/bone_master-xLR2Nuxv/lib/python3.6/site-packages/nrrd/reader.py\", line 506, in read\n",
      "    with open(filename, 'rb') as fh:\n",
      "FileNotFoundError: [Errno 2] No such file or directory: '/home/sopeeweje/bone_master/data_dir/preprocessed/penn-030-t1c-imagingVolume.nrrd'\n",
      "\n"
     ]
    },
    {
     "name": "stderr",
     "output_type": "stream",
     "text": [
      " 22%|██▏       | 52/240 [00:11<00:50,  3.75it/s]"
     ]
    },
    {
     "name": "stdout",
     "output_type": "stream",
     "text": [
      "\n",
      "################################################################################\n",
      "Exception occurred for: sort          -\n",
      "volume    0.603\n",
      "outcome   0.000\n",
      "Name: china091, dtype: object\n",
      "[Errno 2] No such file or directory: '/home/sopeeweje/bone_master/data_dir/preprocessed/china091-t1c-imagingVolume.nrrd'\n",
      "T1C image unavailable\n",
      "Traceback (most recent call last):\n",
      "  File \"/home/sopeeweje/bone_master/data_gen.py\", line 383, in generate_from_features\n",
      "    t1c_masked = load_image(t1c_image_file, t1c_seg_file, verbose=verbose)\n",
      "  File \"/home/sopeeweje/bone_master/data_gen.py\", line 313, in load_image\n",
      "    image, _ = nrrd.read(image_path)\n",
      "  File \"/home/sopeeweje/.local/share/virtualenvs/bone_master-xLR2Nuxv/lib/python3.6/site-packages/nrrd/reader.py\", line 506, in read\n",
      "    with open(filename, 'rb') as fh:\n",
      "FileNotFoundError: [Errno 2] No such file or directory: '/home/sopeeweje/bone_master/data_dir/preprocessed/china091-t1c-imagingVolume.nrrd'\n",
      "\n",
      "\n",
      "################################################################################\n",
      "Exception occurred for: sort          -\n",
      "volume    0.603\n",
      "outcome   0.000\n",
      "Name: chop-134, dtype: object\n",
      "[Errno 2] No such file or directory: '/home/sopeeweje/bone_master/data_dir/preprocessed/chop-134-t1c-imagingVolume.nrrd'\n",
      "T1C image unavailable\n",
      "Traceback (most recent call last):\n",
      "  File \"/home/sopeeweje/bone_master/data_gen.py\", line 383, in generate_from_features\n",
      "    t1c_masked = load_image(t1c_image_file, t1c_seg_file, verbose=verbose)\n",
      "  File \"/home/sopeeweje/bone_master/data_gen.py\", line 313, in load_image\n",
      "    image, _ = nrrd.read(image_path)\n",
      "  File \"/home/sopeeweje/.local/share/virtualenvs/bone_master-xLR2Nuxv/lib/python3.6/site-packages/nrrd/reader.py\", line 506, in read\n",
      "    with open(filename, 'rb') as fh:\n",
      "FileNotFoundError: [Errno 2] No such file or directory: '/home/sopeeweje/bone_master/data_dir/preprocessed/chop-134-t1c-imagingVolume.nrrd'\n",
      "\n"
     ]
    },
    {
     "name": "stderr",
     "output_type": "stream",
     "text": [
      " 23%|██▎       | 55/240 [00:12<00:33,  5.55it/s]"
     ]
    },
    {
     "name": "stdout",
     "output_type": "stream",
     "text": [
      "\n",
      "################################################################################\n",
      "Exception occurred for: sort          -\n",
      "volume    0.603\n",
      "outcome   0.000\n",
      "Name: chop-43, dtype: object\n",
      "[Errno 2] No such file or directory: '/home/sopeeweje/bone_master/data_dir/preprocessed/chop-43-t1c-imagingVolume.nrrd'\n",
      "T1C image unavailable\n",
      "Traceback (most recent call last):\n",
      "  File \"/home/sopeeweje/bone_master/data_gen.py\", line 383, in generate_from_features\n",
      "    t1c_masked = load_image(t1c_image_file, t1c_seg_file, verbose=verbose)\n",
      "  File \"/home/sopeeweje/bone_master/data_gen.py\", line 313, in load_image\n",
      "    image, _ = nrrd.read(image_path)\n",
      "  File \"/home/sopeeweje/.local/share/virtualenvs/bone_master-xLR2Nuxv/lib/python3.6/site-packages/nrrd/reader.py\", line 506, in read\n",
      "    with open(filename, 'rb') as fh:\n",
      "FileNotFoundError: [Errno 2] No such file or directory: '/home/sopeeweje/bone_master/data_dir/preprocessed/chop-43-t1c-imagingVolume.nrrd'\n",
      "\n",
      "\n",
      "################################################################################\n",
      "Exception occurred for: sort          -\n",
      "volume    0.603\n",
      "outcome   0.000\n",
      "Name: china141, dtype: object\n",
      "[Errno 2] No such file or directory: '/home/sopeeweje/bone_master/data_dir/preprocessed/china141-t1c-imagingVolume.nrrd'\n",
      "T1C image unavailable\n",
      "Traceback (most recent call last):\n",
      "  File \"/home/sopeeweje/bone_master/data_gen.py\", line 383, in generate_from_features\n",
      "    t1c_masked = load_image(t1c_image_file, t1c_seg_file, verbose=verbose)\n",
      "  File \"/home/sopeeweje/bone_master/data_gen.py\", line 313, in load_image\n",
      "    image, _ = nrrd.read(image_path)\n",
      "  File \"/home/sopeeweje/.local/share/virtualenvs/bone_master-xLR2Nuxv/lib/python3.6/site-packages/nrrd/reader.py\", line 506, in read\n",
      "    with open(filename, 'rb') as fh:\n",
      "FileNotFoundError: [Errno 2] No such file or directory: '/home/sopeeweje/bone_master/data_dir/preprocessed/china141-t1c-imagingVolume.nrrd'\n",
      "\n"
     ]
    },
    {
     "name": "stderr",
     "output_type": "stream",
     "text": [
      " 25%|██▌       | 60/240 [00:13<00:54,  3.30it/s]"
     ]
    },
    {
     "name": "stdout",
     "output_type": "stream",
     "text": [
      "\n",
      "################################################################################\n",
      "Exception occurred for: sort          -\n",
      "volume    0.603\n",
      "outcome   0.000\n",
      "Name: chop-78, dtype: object\n",
      "[Errno 2] No such file or directory: '/home/sopeeweje/bone_master/data_dir/preprocessed/chop-78-t1c-imagingVolume.nrrd'\n",
      "T1C image unavailable\n",
      "Traceback (most recent call last):\n",
      "  File \"/home/sopeeweje/bone_master/data_gen.py\", line 383, in generate_from_features\n",
      "    t1c_masked = load_image(t1c_image_file, t1c_seg_file, verbose=verbose)\n",
      "  File \"/home/sopeeweje/bone_master/data_gen.py\", line 313, in load_image\n",
      "    image, _ = nrrd.read(image_path)\n",
      "  File \"/home/sopeeweje/.local/share/virtualenvs/bone_master-xLR2Nuxv/lib/python3.6/site-packages/nrrd/reader.py\", line 506, in read\n",
      "    with open(filename, 'rb') as fh:\n",
      "FileNotFoundError: [Errno 2] No such file or directory: '/home/sopeeweje/bone_master/data_dir/preprocessed/chop-78-t1c-imagingVolume.nrrd'\n",
      "\n"
     ]
    },
    {
     "name": "stderr",
     "output_type": "stream",
     "text": [
      " 26%|██▋       | 63/240 [00:13<00:37,  4.68it/s]"
     ]
    },
    {
     "name": "stdout",
     "output_type": "stream",
     "text": [
      "\n",
      "################################################################################\n",
      "Exception occurred for: sort          -\n",
      "volume    0.603\n",
      "outcome   0.000\n",
      "Name: chop-64, dtype: object\n",
      "[Errno 2] No such file or directory: '/home/sopeeweje/bone_master/data_dir/preprocessed/chop-64-t1c-imagingVolume.nrrd'\n",
      "T1C image unavailable\n",
      "Traceback (most recent call last):\n",
      "  File \"/home/sopeeweje/bone_master/data_gen.py\", line 383, in generate_from_features\n",
      "    t1c_masked = load_image(t1c_image_file, t1c_seg_file, verbose=verbose)\n",
      "  File \"/home/sopeeweje/bone_master/data_gen.py\", line 313, in load_image\n",
      "    image, _ = nrrd.read(image_path)\n",
      "  File \"/home/sopeeweje/.local/share/virtualenvs/bone_master-xLR2Nuxv/lib/python3.6/site-packages/nrrd/reader.py\", line 506, in read\n",
      "    with open(filename, 'rb') as fh:\n",
      "FileNotFoundError: [Errno 2] No such file or directory: '/home/sopeeweje/bone_master/data_dir/preprocessed/chop-64-t1c-imagingVolume.nrrd'\n",
      "\n",
      "\n",
      "################################################################################\n",
      "Exception occurred for: sort          -\n",
      "volume    0.603\n",
      "outcome   0.000\n",
      "Name: china117, dtype: object\n",
      "[Errno 2] No such file or directory: '/home/sopeeweje/bone_master/data_dir/preprocessed/china117-t1c-imagingVolume.nrrd'\n",
      "T1C image unavailable\n",
      "Traceback (most recent call last):\n",
      "  File \"/home/sopeeweje/bone_master/data_gen.py\", line 383, in generate_from_features\n",
      "    t1c_masked = load_image(t1c_image_file, t1c_seg_file, verbose=verbose)\n",
      "  File \"/home/sopeeweje/bone_master/data_gen.py\", line 313, in load_image\n",
      "    image, _ = nrrd.read(image_path)\n",
      "  File \"/home/sopeeweje/.local/share/virtualenvs/bone_master-xLR2Nuxv/lib/python3.6/site-packages/nrrd/reader.py\", line 506, in read\n",
      "    with open(filename, 'rb') as fh:\n",
      "FileNotFoundError: [Errno 2] No such file or directory: '/home/sopeeweje/bone_master/data_dir/preprocessed/china117-t1c-imagingVolume.nrrd'\n",
      "\n",
      "\n",
      "################################################################################\n",
      "Exception occurred for: sort          -\n",
      "volume    0.603\n",
      "outcome   0.000\n",
      "Name: china049, dtype: object\n",
      "[Errno 2] No such file or directory: '/home/sopeeweje/bone_master/data_dir/preprocessed/china049-t1c-imagingVolume.nrrd'\n",
      "T1C image unavailable\n",
      "Traceback (most recent call last):\n",
      "  File \"/home/sopeeweje/bone_master/data_gen.py\", line 383, in generate_from_features\n",
      "    t1c_masked = load_image(t1c_image_file, t1c_seg_file, verbose=verbose)\n",
      "  File \"/home/sopeeweje/bone_master/data_gen.py\", line 313, in load_image\n",
      "    image, _ = nrrd.read(image_path)\n",
      "  File \"/home/sopeeweje/.local/share/virtualenvs/bone_master-xLR2Nuxv/lib/python3.6/site-packages/nrrd/reader.py\", line 506, in read\n",
      "    with open(filename, 'rb') as fh:\n",
      "FileNotFoundError: [Errno 2] No such file or directory: '/home/sopeeweje/bone_master/data_dir/preprocessed/china049-t1c-imagingVolume.nrrd'\n",
      "\n"
     ]
    },
    {
     "name": "stderr",
     "output_type": "stream",
     "text": [
      " 28%|██▊       | 67/240 [00:14<00:25,  6.87it/s]"
     ]
    },
    {
     "name": "stdout",
     "output_type": "stream",
     "text": [
      "\n",
      "################################################################################\n",
      "Exception occurred for: sort          -\n",
      "volume    0.603\n",
      "outcome   0.000\n",
      "Name: china099, dtype: object\n",
      "[Errno 2] No such file or directory: '/home/sopeeweje/bone_master/data_dir/preprocessed/china099-t1c-imagingVolume.nrrd'\n",
      "T1C image unavailable\n",
      "Traceback (most recent call last):\n",
      "  File \"/home/sopeeweje/bone_master/data_gen.py\", line 383, in generate_from_features\n",
      "    t1c_masked = load_image(t1c_image_file, t1c_seg_file, verbose=verbose)\n",
      "  File \"/home/sopeeweje/bone_master/data_gen.py\", line 313, in load_image\n",
      "    image, _ = nrrd.read(image_path)\n",
      "  File \"/home/sopeeweje/.local/share/virtualenvs/bone_master-xLR2Nuxv/lib/python3.6/site-packages/nrrd/reader.py\", line 506, in read\n",
      "    with open(filename, 'rb') as fh:\n",
      "FileNotFoundError: [Errno 2] No such file or directory: '/home/sopeeweje/bone_master/data_dir/preprocessed/china099-t1c-imagingVolume.nrrd'\n",
      "\n",
      "\n",
      "################################################################################\n",
      "Exception occurred for: sort          -\n",
      "volume    0.603\n",
      "outcome   0.000\n",
      "Name: chop-24, dtype: object\n",
      "[Errno 2] No such file or directory: '/home/sopeeweje/bone_master/data_dir/preprocessed/chop-24-t1c-imagingVolume.nrrd'\n",
      "T1C image unavailable\n",
      "Traceback (most recent call last):\n",
      "  File \"/home/sopeeweje/bone_master/data_gen.py\", line 383, in generate_from_features\n",
      "    t1c_masked = load_image(t1c_image_file, t1c_seg_file, verbose=verbose)\n",
      "  File \"/home/sopeeweje/bone_master/data_gen.py\", line 313, in load_image\n",
      "    image, _ = nrrd.read(image_path)\n",
      "  File \"/home/sopeeweje/.local/share/virtualenvs/bone_master-xLR2Nuxv/lib/python3.6/site-packages/nrrd/reader.py\", line 506, in read\n",
      "    with open(filename, 'rb') as fh:\n",
      "FileNotFoundError: [Errno 2] No such file or directory: '/home/sopeeweje/bone_master/data_dir/preprocessed/chop-24-t1c-imagingVolume.nrrd'\n",
      "\n",
      "\n",
      "################################################################################\n",
      "Exception occurred for: sort          -\n",
      "volume    0.603\n",
      "outcome   0.000\n",
      "Name: chop-62, dtype: object\n",
      "[Errno 2] No such file or directory: '/home/sopeeweje/bone_master/data_dir/preprocessed/chop-62-t1c-imagingVolume.nrrd'\n",
      "T1C image unavailable\n",
      "Traceback (most recent call last):\n",
      "  File \"/home/sopeeweje/bone_master/data_gen.py\", line 383, in generate_from_features\n",
      "    t1c_masked = load_image(t1c_image_file, t1c_seg_file, verbose=verbose)\n",
      "  File \"/home/sopeeweje/bone_master/data_gen.py\", line 313, in load_image\n",
      "    image, _ = nrrd.read(image_path)\n",
      "  File \"/home/sopeeweje/.local/share/virtualenvs/bone_master-xLR2Nuxv/lib/python3.6/site-packages/nrrd/reader.py\", line 506, in read\n",
      "    with open(filename, 'rb') as fh:\n",
      "FileNotFoundError: [Errno 2] No such file or directory: '/home/sopeeweje/bone_master/data_dir/preprocessed/chop-62-t1c-imagingVolume.nrrd'\n",
      "\n"
     ]
    },
    {
     "name": "stderr",
     "output_type": "stream",
     "text": [
      " 29%|██▉       | 70/240 [00:14<00:33,  5.14it/s]"
     ]
    },
    {
     "name": "stdout",
     "output_type": "stream",
     "text": [
      "\n",
      "################################################################################\n",
      "Exception occurred for: sort          -\n",
      "volume    0.603\n",
      "outcome   0.000\n",
      "Name: china011, dtype: object\n",
      "[Errno 2] No such file or directory: '/home/sopeeweje/bone_master/data_dir/preprocessed/china011-t1-imagingVolume.nrrd'\n",
      "T1 image unavailable\n",
      "Traceback (most recent call last):\n",
      "  File \"/home/sopeeweje/bone_master/data_gen.py\", line 357, in generate_from_features\n",
      "    t1_masked = load_image(t1_image_file, t1_seg_file, verbose=verbose)\n",
      "  File \"/home/sopeeweje/bone_master/data_gen.py\", line 313, in load_image\n",
      "    image, _ = nrrd.read(image_path)\n",
      "  File \"/home/sopeeweje/.local/share/virtualenvs/bone_master-xLR2Nuxv/lib/python3.6/site-packages/nrrd/reader.py\", line 506, in read\n",
      "    with open(filename, 'rb') as fh:\n",
      "FileNotFoundError: [Errno 2] No such file or directory: '/home/sopeeweje/bone_master/data_dir/preprocessed/china011-t1-imagingVolume.nrrd'\n",
      "\n"
     ]
    },
    {
     "name": "stderr",
     "output_type": "stream",
     "text": [
      " 32%|███▏      | 76/240 [00:15<00:25,  6.41it/s]"
     ]
    },
    {
     "name": "stdout",
     "output_type": "stream",
     "text": [
      "\n",
      "################################################################################\n",
      "Exception occurred for: sort          -\n",
      "volume    0.603\n",
      "outcome   0.000\n",
      "Name: chop-135, dtype: object\n",
      "[Errno 2] No such file or directory: '/home/sopeeweje/bone_master/data_dir/preprocessed/chop-135-t1c-imagingVolume.nrrd'\n",
      "T1C image unavailable\n",
      "Traceback (most recent call last):\n",
      "  File \"/home/sopeeweje/bone_master/data_gen.py\", line 383, in generate_from_features\n",
      "    t1c_masked = load_image(t1c_image_file, t1c_seg_file, verbose=verbose)\n",
      "  File \"/home/sopeeweje/bone_master/data_gen.py\", line 313, in load_image\n",
      "    image, _ = nrrd.read(image_path)\n",
      "  File \"/home/sopeeweje/.local/share/virtualenvs/bone_master-xLR2Nuxv/lib/python3.6/site-packages/nrrd/reader.py\", line 506, in read\n",
      "    with open(filename, 'rb') as fh:\n",
      "FileNotFoundError: [Errno 2] No such file or directory: '/home/sopeeweje/bone_master/data_dir/preprocessed/chop-135-t1c-imagingVolume.nrrd'\n",
      "\n"
     ]
    },
    {
     "name": "stderr",
     "output_type": "stream",
     "text": [
      "\r",
      " 32%|███▏      | 77/240 [00:15<00:31,  5.18it/s]"
     ]
    },
    {
     "name": "stdout",
     "output_type": "stream",
     "text": [
      "\n",
      "################################################################################\n",
      "Exception occurred for: sort          -\n",
      "volume    0.603\n",
      "outcome   0.000\n",
      "Name: china030, dtype: object\n",
      "[Errno 2] No such file or directory: '/home/sopeeweje/bone_master/data_dir/preprocessed/china030-t1c-imagingVolume.nrrd'\n",
      "T1C image unavailable\n",
      "Traceback (most recent call last):\n",
      "  File \"/home/sopeeweje/bone_master/data_gen.py\", line 383, in generate_from_features\n",
      "    t1c_masked = load_image(t1c_image_file, t1c_seg_file, verbose=verbose)\n",
      "  File \"/home/sopeeweje/bone_master/data_gen.py\", line 313, in load_image\n",
      "    image, _ = nrrd.read(image_path)\n",
      "  File \"/home/sopeeweje/.local/share/virtualenvs/bone_master-xLR2Nuxv/lib/python3.6/site-packages/nrrd/reader.py\", line 506, in read\n",
      "    with open(filename, 'rb') as fh:\n",
      "FileNotFoundError: [Errno 2] No such file or directory: '/home/sopeeweje/bone_master/data_dir/preprocessed/china030-t1c-imagingVolume.nrrd'\n",
      "\n",
      "\n",
      "################################################################################\n",
      "Exception occurred for: sort          -\n",
      "volume    0.603\n",
      "outcome   0.000\n",
      "Name: china066, dtype: object\n",
      "[Errno 2] No such file or directory: '/home/sopeeweje/bone_master/data_dir/preprocessed/china066-t1c-imagingVolume.nrrd'\n",
      "T1C image unavailable\n",
      "Traceback (most recent call last):\n",
      "  File \"/home/sopeeweje/bone_master/data_gen.py\", line 383, in generate_from_features\n",
      "    t1c_masked = load_image(t1c_image_file, t1c_seg_file, verbose=verbose)\n",
      "  File \"/home/sopeeweje/bone_master/data_gen.py\", line 313, in load_image\n",
      "    image, _ = nrrd.read(image_path)\n",
      "  File \"/home/sopeeweje/.local/share/virtualenvs/bone_master-xLR2Nuxv/lib/python3.6/site-packages/nrrd/reader.py\", line 506, in read\n",
      "    with open(filename, 'rb') as fh:\n",
      "FileNotFoundError: [Errno 2] No such file or directory: '/home/sopeeweje/bone_master/data_dir/preprocessed/china066-t1c-imagingVolume.nrrd'\n",
      "\n"
     ]
    },
    {
     "name": "stderr",
     "output_type": "stream",
     "text": [
      " 34%|███▍      | 82/240 [00:16<00:21,  7.33it/s]"
     ]
    },
    {
     "name": "stdout",
     "output_type": "stream",
     "text": [
      "\n",
      "################################################################################\n",
      "Exception occurred for: sort          -\n",
      "volume    0.603\n",
      "outcome   0.000\n",
      "Name: china072, dtype: object\n",
      "[Errno 2] No such file or directory: '/home/sopeeweje/bone_master/data_dir/preprocessed/china072-t1c-imagingVolume.nrrd'\n",
      "T1C image unavailable\n",
      "Traceback (most recent call last):\n",
      "  File \"/home/sopeeweje/bone_master/data_gen.py\", line 383, in generate_from_features\n",
      "    t1c_masked = load_image(t1c_image_file, t1c_seg_file, verbose=verbose)\n",
      "  File \"/home/sopeeweje/bone_master/data_gen.py\", line 313, in load_image\n",
      "    image, _ = nrrd.read(image_path)\n",
      "  File \"/home/sopeeweje/.local/share/virtualenvs/bone_master-xLR2Nuxv/lib/python3.6/site-packages/nrrd/reader.py\", line 506, in read\n",
      "    with open(filename, 'rb') as fh:\n",
      "FileNotFoundError: [Errno 2] No such file or directory: '/home/sopeeweje/bone_master/data_dir/preprocessed/china072-t1c-imagingVolume.nrrd'\n",
      "\n",
      "\n",
      "################################################################################\n",
      "Exception occurred for: sort          -\n",
      "volume    0.603\n",
      "outcome   0.000\n",
      "Name: penn-073, dtype: object\n",
      "[Errno 2] No such file or directory: '/home/sopeeweje/bone_master/data_dir/preprocessed/penn-073-t1c-imagingVolume.nrrd'\n",
      "T1C image unavailable\n",
      "Traceback (most recent call last):\n",
      "  File \"/home/sopeeweje/bone_master/data_gen.py\", line 383, in generate_from_features\n",
      "    t1c_masked = load_image(t1c_image_file, t1c_seg_file, verbose=verbose)\n",
      "  File \"/home/sopeeweje/bone_master/data_gen.py\", line 313, in load_image\n",
      "    image, _ = nrrd.read(image_path)\n",
      "  File \"/home/sopeeweje/.local/share/virtualenvs/bone_master-xLR2Nuxv/lib/python3.6/site-packages/nrrd/reader.py\", line 506, in read\n",
      "    with open(filename, 'rb') as fh:\n",
      "FileNotFoundError: [Errno 2] No such file or directory: '/home/sopeeweje/bone_master/data_dir/preprocessed/penn-073-t1c-imagingVolume.nrrd'\n",
      "\n",
      "\n",
      "################################################################################\n",
      "Exception occurred for: sort          -\n",
      "volume    0.604\n",
      "outcome   0.000\n",
      "Name: chop-59, dtype: object\n",
      "[Errno 2] No such file or directory: '/home/sopeeweje/bone_master/data_dir/preprocessed/chop-59-t1c-imagingVolume.nrrd'\n",
      "T1C image unavailable\n",
      "Traceback (most recent call last):\n",
      "  File \"/home/sopeeweje/bone_master/data_gen.py\", line 383, in generate_from_features\n",
      "    t1c_masked = load_image(t1c_image_file, t1c_seg_file, verbose=verbose)\n",
      "  File \"/home/sopeeweje/bone_master/data_gen.py\", line 313, in load_image\n",
      "    image, _ = nrrd.read(image_path)\n",
      "  File \"/home/sopeeweje/.local/share/virtualenvs/bone_master-xLR2Nuxv/lib/python3.6/site-packages/nrrd/reader.py\", line 506, in read\n",
      "    with open(filename, 'rb') as fh:\n",
      "FileNotFoundError: [Errno 2] No such file or directory: '/home/sopeeweje/bone_master/data_dir/preprocessed/chop-59-t1c-imagingVolume.nrrd'\n",
      "\n"
     ]
    },
    {
     "name": "stderr",
     "output_type": "stream",
     "text": [
      " 38%|███▊      | 90/240 [00:18<00:26,  5.64it/s]"
     ]
    },
    {
     "name": "stdout",
     "output_type": "stream",
     "text": [
      "\n",
      "################################################################################\n",
      "Exception occurred for: sort          -\n",
      "volume    0.603\n",
      "outcome   0.000\n",
      "Name: chop-38, dtype: object\n",
      "[Errno 2] No such file or directory: '/home/sopeeweje/bone_master/data_dir/preprocessed/chop-38-t1c-imagingVolume.nrrd'\n",
      "T1C image unavailable\n",
      "Traceback (most recent call last):\n",
      "  File \"/home/sopeeweje/bone_master/data_gen.py\", line 383, in generate_from_features\n",
      "    t1c_masked = load_image(t1c_image_file, t1c_seg_file, verbose=verbose)\n",
      "  File \"/home/sopeeweje/bone_master/data_gen.py\", line 313, in load_image\n",
      "    image, _ = nrrd.read(image_path)\n",
      "  File \"/home/sopeeweje/.local/share/virtualenvs/bone_master-xLR2Nuxv/lib/python3.6/site-packages/nrrd/reader.py\", line 506, in read\n",
      "    with open(filename, 'rb') as fh:\n",
      "FileNotFoundError: [Errno 2] No such file or directory: '/home/sopeeweje/bone_master/data_dir/preprocessed/chop-38-t1c-imagingVolume.nrrd'\n",
      "\n"
     ]
    },
    {
     "name": "stderr",
     "output_type": "stream",
     "text": [
      " 42%|████▎     | 102/240 [00:21<00:43,  3.20it/s]"
     ]
    },
    {
     "name": "stdout",
     "output_type": "stream",
     "text": [
      "\n",
      "################################################################################\n",
      "Exception occurred for: sort          -\n",
      "volume    0.603\n",
      "outcome   0.000\n",
      "Name: penn-042, dtype: object\n",
      "[Errno 2] No such file or directory: '/home/sopeeweje/bone_master/data_dir/preprocessed/penn-042-t1c-imagingVolume.nrrd'\n",
      "T1C image unavailable\n",
      "Traceback (most recent call last):\n",
      "  File \"/home/sopeeweje/bone_master/data_gen.py\", line 383, in generate_from_features\n",
      "    t1c_masked = load_image(t1c_image_file, t1c_seg_file, verbose=verbose)\n",
      "  File \"/home/sopeeweje/bone_master/data_gen.py\", line 313, in load_image\n",
      "    image, _ = nrrd.read(image_path)\n",
      "  File \"/home/sopeeweje/.local/share/virtualenvs/bone_master-xLR2Nuxv/lib/python3.6/site-packages/nrrd/reader.py\", line 506, in read\n",
      "    with open(filename, 'rb') as fh:\n",
      "FileNotFoundError: [Errno 2] No such file or directory: '/home/sopeeweje/bone_master/data_dir/preprocessed/penn-042-t1c-imagingVolume.nrrd'\n",
      "\n",
      "\n",
      "################################################################################\n",
      "Exception occurred for: sort          -\n",
      "volume    0.603\n",
      "outcome   0.000\n",
      "Name: chop-35, dtype: object\n",
      "[Errno 2] No such file or directory: '/home/sopeeweje/bone_master/data_dir/preprocessed/chop-35-t1c-imagingVolume.nrrd'\n",
      "T1C image unavailable\n",
      "Traceback (most recent call last):\n",
      "  File \"/home/sopeeweje/bone_master/data_gen.py\", line 383, in generate_from_features\n",
      "    t1c_masked = load_image(t1c_image_file, t1c_seg_file, verbose=verbose)\n",
      "  File \"/home/sopeeweje/bone_master/data_gen.py\", line 313, in load_image\n",
      "    image, _ = nrrd.read(image_path)\n",
      "  File \"/home/sopeeweje/.local/share/virtualenvs/bone_master-xLR2Nuxv/lib/python3.6/site-packages/nrrd/reader.py\", line 506, in read\n",
      "    with open(filename, 'rb') as fh:\n",
      "FileNotFoundError: [Errno 2] No such file or directory: '/home/sopeeweje/bone_master/data_dir/preprocessed/chop-35-t1c-imagingVolume.nrrd'\n",
      "\n"
     ]
    },
    {
     "name": "stderr",
     "output_type": "stream",
     "text": [
      " 45%|████▍     | 107/240 [00:23<00:49,  2.70it/s]"
     ]
    },
    {
     "name": "stdout",
     "output_type": "stream",
     "text": [
      "\n",
      "################################################################################\n",
      "Exception occurred for: sort          -\n",
      "volume    0.603\n",
      "outcome   0.000\n",
      "Name: chop-104, dtype: object\n",
      "[Errno 2] No such file or directory: '/home/sopeeweje/bone_master/data_dir/preprocessed/chop-104-t1c-imagingVolume.nrrd'\n",
      "T1C image unavailable\n",
      "Traceback (most recent call last):\n",
      "  File \"/home/sopeeweje/bone_master/data_gen.py\", line 383, in generate_from_features\n",
      "    t1c_masked = load_image(t1c_image_file, t1c_seg_file, verbose=verbose)\n",
      "  File \"/home/sopeeweje/bone_master/data_gen.py\", line 313, in load_image\n",
      "    image, _ = nrrd.read(image_path)\n",
      "  File \"/home/sopeeweje/.local/share/virtualenvs/bone_master-xLR2Nuxv/lib/python3.6/site-packages/nrrd/reader.py\", line 506, in read\n",
      "    with open(filename, 'rb') as fh:\n",
      "FileNotFoundError: [Errno 2] No such file or directory: '/home/sopeeweje/bone_master/data_dir/preprocessed/chop-104-t1c-imagingVolume.nrrd'\n",
      "\n"
     ]
    },
    {
     "name": "stderr",
     "output_type": "stream",
     "text": [
      " 48%|████▊     | 114/240 [00:27<00:34,  3.65it/s]"
     ]
    },
    {
     "name": "stdout",
     "output_type": "stream",
     "text": [
      "\n",
      "################################################################################\n",
      "Exception occurred for: sort          -\n",
      "volume    0.603\n",
      "outcome   0.000\n",
      "Name: penn-083, dtype: object\n",
      "[Errno 2] No such file or directory: '/home/sopeeweje/bone_master/data_dir/preprocessed/penn-083-t1c-imagingVolume.nrrd'\n",
      "T1C image unavailable\n",
      "Traceback (most recent call last):\n",
      "  File \"/home/sopeeweje/bone_master/data_gen.py\", line 383, in generate_from_features\n",
      "    t1c_masked = load_image(t1c_image_file, t1c_seg_file, verbose=verbose)\n",
      "  File \"/home/sopeeweje/bone_master/data_gen.py\", line 313, in load_image\n",
      "    image, _ = nrrd.read(image_path)\n",
      "  File \"/home/sopeeweje/.local/share/virtualenvs/bone_master-xLR2Nuxv/lib/python3.6/site-packages/nrrd/reader.py\", line 506, in read\n",
      "    with open(filename, 'rb') as fh:\n",
      "FileNotFoundError: [Errno 2] No such file or directory: '/home/sopeeweje/bone_master/data_dir/preprocessed/penn-083-t1c-imagingVolume.nrrd'\n",
      "\n"
     ]
    },
    {
     "name": "stderr",
     "output_type": "stream",
     "text": [
      "\r",
      " 48%|████▊     | 115/240 [00:28<00:47,  2.61it/s]"
     ]
    },
    {
     "name": "stdout",
     "output_type": "stream",
     "text": [
      "\n",
      "################################################################################\n",
      "Exception occurred for: sort          -\n",
      "volume    0.603\n",
      "outcome   0.000\n",
      "Name: chop-17, dtype: object\n",
      "[Errno 2] No such file or directory: '/home/sopeeweje/bone_master/data_dir/preprocessed/chop-17-t1c-imagingVolume.nrrd'\n",
      "T1C image unavailable\n",
      "Traceback (most recent call last):\n",
      "  File \"/home/sopeeweje/bone_master/data_gen.py\", line 383, in generate_from_features\n",
      "    t1c_masked = load_image(t1c_image_file, t1c_seg_file, verbose=verbose)\n",
      "  File \"/home/sopeeweje/bone_master/data_gen.py\", line 313, in load_image\n",
      "    image, _ = nrrd.read(image_path)\n",
      "  File \"/home/sopeeweje/.local/share/virtualenvs/bone_master-xLR2Nuxv/lib/python3.6/site-packages/nrrd/reader.py\", line 506, in read\n",
      "    with open(filename, 'rb') as fh:\n",
      "FileNotFoundError: [Errno 2] No such file or directory: '/home/sopeeweje/bone_master/data_dir/preprocessed/chop-17-t1c-imagingVolume.nrrd'\n",
      "\n"
     ]
    },
    {
     "name": "stderr",
     "output_type": "stream",
     "text": [
      "\r",
      " 49%|████▉     | 117/240 [00:28<00:38,  3.23it/s]"
     ]
    },
    {
     "name": "stdout",
     "output_type": "stream",
     "text": [
      "\n",
      "################################################################################\n",
      "Exception occurred for: sort          -\n",
      "volume    0.603\n",
      "outcome   0.000\n",
      "Name: chop-56, dtype: object\n",
      "[Errno 2] No such file or directory: '/home/sopeeweje/bone_master/data_dir/preprocessed/chop-56-t1c-imagingVolume.nrrd'\n",
      "T1C image unavailable\n",
      "Traceback (most recent call last):\n",
      "  File \"/home/sopeeweje/bone_master/data_gen.py\", line 383, in generate_from_features\n",
      "    t1c_masked = load_image(t1c_image_file, t1c_seg_file, verbose=verbose)\n",
      "  File \"/home/sopeeweje/bone_master/data_gen.py\", line 313, in load_image\n",
      "    image, _ = nrrd.read(image_path)\n",
      "  File \"/home/sopeeweje/.local/share/virtualenvs/bone_master-xLR2Nuxv/lib/python3.6/site-packages/nrrd/reader.py\", line 506, in read\n",
      "    with open(filename, 'rb') as fh:\n",
      "FileNotFoundError: [Errno 2] No such file or directory: '/home/sopeeweje/bone_master/data_dir/preprocessed/chop-56-t1c-imagingVolume.nrrd'\n",
      "\n"
     ]
    },
    {
     "name": "stderr",
     "output_type": "stream",
     "text": [
      " 50%|████▉     | 119/240 [00:28<00:29,  4.10it/s]"
     ]
    },
    {
     "name": "stdout",
     "output_type": "stream",
     "text": [
      "\n",
      "################################################################################\n",
      "Exception occurred for: sort          -\n",
      "volume    0.603\n",
      "outcome   0.000\n",
      "Name: chop-25, dtype: object\n",
      "[Errno 2] No such file or directory: '/home/sopeeweje/bone_master/data_dir/preprocessed/chop-25-t1c-imagingVolume.nrrd'\n",
      "T1C image unavailable\n",
      "Traceback (most recent call last):\n",
      "  File \"/home/sopeeweje/bone_master/data_gen.py\", line 383, in generate_from_features\n",
      "    t1c_masked = load_image(t1c_image_file, t1c_seg_file, verbose=verbose)\n",
      "  File \"/home/sopeeweje/bone_master/data_gen.py\", line 313, in load_image\n",
      "    image, _ = nrrd.read(image_path)\n",
      "  File \"/home/sopeeweje/.local/share/virtualenvs/bone_master-xLR2Nuxv/lib/python3.6/site-packages/nrrd/reader.py\", line 506, in read\n",
      "    with open(filename, 'rb') as fh:\n",
      "FileNotFoundError: [Errno 2] No such file or directory: '/home/sopeeweje/bone_master/data_dir/preprocessed/chop-25-t1c-imagingVolume.nrrd'\n",
      "\n"
     ]
    },
    {
     "name": "stderr",
     "output_type": "stream",
     "text": [
      " 50%|█████     | 121/240 [00:29<00:26,  4.46it/s]"
     ]
    },
    {
     "name": "stdout",
     "output_type": "stream",
     "text": [
      "\n",
      "################################################################################\n",
      "Exception occurred for: sort          -\n",
      "volume    0.603\n",
      "outcome   0.000\n",
      "Name: chop-124, dtype: object\n",
      "[Errno 2] No such file or directory: '/home/sopeeweje/bone_master/data_dir/preprocessed/chop-124-t1c-imagingVolume.nrrd'\n",
      "T1C image unavailable\n",
      "Traceback (most recent call last):\n",
      "  File \"/home/sopeeweje/bone_master/data_gen.py\", line 383, in generate_from_features\n",
      "    t1c_masked = load_image(t1c_image_file, t1c_seg_file, verbose=verbose)\n",
      "  File \"/home/sopeeweje/bone_master/data_gen.py\", line 313, in load_image\n",
      "    image, _ = nrrd.read(image_path)\n",
      "  File \"/home/sopeeweje/.local/share/virtualenvs/bone_master-xLR2Nuxv/lib/python3.6/site-packages/nrrd/reader.py\", line 506, in read\n",
      "    with open(filename, 'rb') as fh:\n",
      "FileNotFoundError: [Errno 2] No such file or directory: '/home/sopeeweje/bone_master/data_dir/preprocessed/chop-124-t1c-imagingVolume.nrrd'\n",
      "\n",
      "\n",
      "################################################################################\n",
      "Exception occurred for: sort          -\n",
      "volume    0.603\n",
      "outcome   0.000\n",
      "Name: chop-88, dtype: object\n",
      "[Errno 2] No such file or directory: '/home/sopeeweje/bone_master/data_dir/preprocessed/chop-88-t1c-imagingVolume.nrrd'\n",
      "T1C image unavailable\n",
      "Traceback (most recent call last):\n",
      "  File \"/home/sopeeweje/bone_master/data_gen.py\", line 383, in generate_from_features\n",
      "    t1c_masked = load_image(t1c_image_file, t1c_seg_file, verbose=verbose)\n",
      "  File \"/home/sopeeweje/bone_master/data_gen.py\", line 313, in load_image\n",
      "    image, _ = nrrd.read(image_path)\n",
      "  File \"/home/sopeeweje/.local/share/virtualenvs/bone_master-xLR2Nuxv/lib/python3.6/site-packages/nrrd/reader.py\", line 506, in read\n",
      "    with open(filename, 'rb') as fh:\n",
      "FileNotFoundError: [Errno 2] No such file or directory: '/home/sopeeweje/bone_master/data_dir/preprocessed/chop-88-t1c-imagingVolume.nrrd'\n",
      "\n"
     ]
    },
    {
     "name": "stderr",
     "output_type": "stream",
     "text": [
      " 52%|█████▏    | 125/240 [00:29<00:18,  6.26it/s]"
     ]
    },
    {
     "name": "stdout",
     "output_type": "stream",
     "text": [
      "\n",
      "################################################################################\n",
      "Exception occurred for: sort          -\n",
      "volume    0.603\n",
      "outcome   0.000\n",
      "Name: chop-30, dtype: object\n",
      "[Errno 2] No such file or directory: '/home/sopeeweje/bone_master/data_dir/preprocessed/chop-30-t1c-imagingVolume.nrrd'\n",
      "T1C image unavailable\n",
      "Traceback (most recent call last):\n",
      "  File \"/home/sopeeweje/bone_master/data_gen.py\", line 383, in generate_from_features\n",
      "    t1c_masked = load_image(t1c_image_file, t1c_seg_file, verbose=verbose)\n",
      "  File \"/home/sopeeweje/bone_master/data_gen.py\", line 313, in load_image\n",
      "    image, _ = nrrd.read(image_path)\n",
      "  File \"/home/sopeeweje/.local/share/virtualenvs/bone_master-xLR2Nuxv/lib/python3.6/site-packages/nrrd/reader.py\", line 506, in read\n",
      "    with open(filename, 'rb') as fh:\n",
      "FileNotFoundError: [Errno 2] No such file or directory: '/home/sopeeweje/bone_master/data_dir/preprocessed/chop-30-t1c-imagingVolume.nrrd'\n",
      "\n",
      "\n",
      "################################################################################\n",
      "Exception occurred for: sort          -\n",
      "volume    0.603\n",
      "outcome   1.000\n",
      "Name: china095, dtype: object\n",
      "[Errno 2] No such file or directory: '/home/sopeeweje/bone_master/data_dir/preprocessed/china095-t1-imagingVolume.nrrd'\n",
      "T1 image unavailable\n",
      "Traceback (most recent call last):\n",
      "  File \"/home/sopeeweje/bone_master/data_gen.py\", line 357, in generate_from_features\n",
      "    t1_masked = load_image(t1_image_file, t1_seg_file, verbose=verbose)\n",
      "  File \"/home/sopeeweje/bone_master/data_gen.py\", line 313, in load_image\n",
      "    image, _ = nrrd.read(image_path)\n",
      "  File \"/home/sopeeweje/.local/share/virtualenvs/bone_master-xLR2Nuxv/lib/python3.6/site-packages/nrrd/reader.py\", line 506, in read\n",
      "    with open(filename, 'rb') as fh:\n",
      "FileNotFoundError: [Errno 2] No such file or directory: '/home/sopeeweje/bone_master/data_dir/preprocessed/china095-t1-imagingVolume.nrrd'\n",
      "\n"
     ]
    },
    {
     "name": "stderr",
     "output_type": "stream",
     "text": [
      " 53%|█████▎    | 128/240 [00:29<00:15,  7.02it/s]"
     ]
    },
    {
     "name": "stdout",
     "output_type": "stream",
     "text": [
      "\n",
      "################################################################################\n",
      "Exception occurred for: sort          -\n",
      "volume    0.603\n",
      "outcome   1.000\n",
      "Name: china048, dtype: object\n",
      "[Errno 2] No such file or directory: '/home/sopeeweje/bone_master/data_dir/preprocessed/china048-t1-imagingVolume.nrrd'\n",
      "T1 image unavailable\n",
      "Traceback (most recent call last):\n",
      "  File \"/home/sopeeweje/bone_master/data_gen.py\", line 357, in generate_from_features\n",
      "    t1_masked = load_image(t1_image_file, t1_seg_file, verbose=verbose)\n",
      "  File \"/home/sopeeweje/bone_master/data_gen.py\", line 313, in load_image\n",
      "    image, _ = nrrd.read(image_path)\n",
      "  File \"/home/sopeeweje/.local/share/virtualenvs/bone_master-xLR2Nuxv/lib/python3.6/site-packages/nrrd/reader.py\", line 506, in read\n",
      "    with open(filename, 'rb') as fh:\n",
      "FileNotFoundError: [Errno 2] No such file or directory: '/home/sopeeweje/bone_master/data_dir/preprocessed/china048-t1-imagingVolume.nrrd'\n",
      "\n"
     ]
    },
    {
     "name": "stderr",
     "output_type": "stream",
     "text": [
      " 57%|█████▊    | 138/240 [00:31<00:14,  6.83it/s]"
     ]
    },
    {
     "name": "stdout",
     "output_type": "stream",
     "text": [
      "\n",
      "################################################################################\n",
      "Exception occurred for: sort          -\n",
      "volume    0.603\n",
      "outcome   1.000\n",
      "Name: china147, dtype: object\n",
      "[Errno 2] No such file or directory: '/home/sopeeweje/bone_master/data_dir/preprocessed/china147-t1c-imagingVolume.nrrd'\n",
      "T1C image unavailable\n",
      "Traceback (most recent call last):\n",
      "  File \"/home/sopeeweje/bone_master/data_gen.py\", line 383, in generate_from_features\n",
      "    t1c_masked = load_image(t1c_image_file, t1c_seg_file, verbose=verbose)\n",
      "  File \"/home/sopeeweje/bone_master/data_gen.py\", line 313, in load_image\n",
      "    image, _ = nrrd.read(image_path)\n",
      "  File \"/home/sopeeweje/.local/share/virtualenvs/bone_master-xLR2Nuxv/lib/python3.6/site-packages/nrrd/reader.py\", line 506, in read\n",
      "    with open(filename, 'rb') as fh:\n",
      "FileNotFoundError: [Errno 2] No such file or directory: '/home/sopeeweje/bone_master/data_dir/preprocessed/china147-t1c-imagingVolume.nrrd'\n",
      "\n",
      "\n",
      "################################################################################\n",
      "Exception occurred for: sort          -\n",
      "volume    0.603\n",
      "outcome   1.000\n",
      "Name: china050, dtype: object\n",
      "[Errno 2] No such file or directory: '/home/sopeeweje/bone_master/data_dir/preprocessed/china050-t1c-imagingVolume.nrrd'\n",
      "T1C image unavailable\n",
      "Traceback (most recent call last):\n",
      "  File \"/home/sopeeweje/bone_master/data_gen.py\", line 383, in generate_from_features\n",
      "    t1c_masked = load_image(t1c_image_file, t1c_seg_file, verbose=verbose)\n",
      "  File \"/home/sopeeweje/bone_master/data_gen.py\", line 313, in load_image\n",
      "    image, _ = nrrd.read(image_path)\n",
      "  File \"/home/sopeeweje/.local/share/virtualenvs/bone_master-xLR2Nuxv/lib/python3.6/site-packages/nrrd/reader.py\", line 506, in read\n",
      "    with open(filename, 'rb') as fh:\n",
      "FileNotFoundError: [Errno 2] No such file or directory: '/home/sopeeweje/bone_master/data_dir/preprocessed/china050-t1c-imagingVolume.nrrd'\n",
      "\n",
      "\n",
      "################################################################################\n",
      "Exception occurred for: sort          -\n",
      "volume    0.603\n",
      "outcome   1.000\n",
      "Name: penn-004, dtype: object\n",
      "[Errno 2] No such file or directory: '/home/sopeeweje/bone_master/data_dir/preprocessed/penn-004-t1c-imagingVolume.nrrd'\n",
      "T1C image unavailable\n",
      "Traceback (most recent call last):\n",
      "  File \"/home/sopeeweje/bone_master/data_gen.py\", line 383, in generate_from_features\n",
      "    t1c_masked = load_image(t1c_image_file, t1c_seg_file, verbose=verbose)\n",
      "  File \"/home/sopeeweje/bone_master/data_gen.py\", line 313, in load_image\n",
      "    image, _ = nrrd.read(image_path)\n",
      "  File \"/home/sopeeweje/.local/share/virtualenvs/bone_master-xLR2Nuxv/lib/python3.6/site-packages/nrrd/reader.py\", line 506, in read\n",
      "    with open(filename, 'rb') as fh:\n",
      "FileNotFoundError: [Errno 2] No such file or directory: '/home/sopeeweje/bone_master/data_dir/preprocessed/penn-004-t1c-imagingVolume.nrrd'\n",
      "\n"
     ]
    },
    {
     "name": "stderr",
     "output_type": "stream",
     "text": [
      " 60%|█████▉    | 143/240 [00:32<00:15,  6.18it/s]"
     ]
    },
    {
     "name": "stdout",
     "output_type": "stream",
     "text": [
      "\n",
      "################################################################################\n",
      "Exception occurred for: sort          -\n",
      "volume    0.603\n",
      "outcome   1.000\n",
      "Name: china153, dtype: object\n",
      "[Errno 2] No such file or directory: '/home/sopeeweje/bone_master/data_dir/preprocessed/china153-t1c-imagingVolume.nrrd'\n",
      "T1C image unavailable\n",
      "Traceback (most recent call last):\n",
      "  File \"/home/sopeeweje/bone_master/data_gen.py\", line 383, in generate_from_features\n",
      "    t1c_masked = load_image(t1c_image_file, t1c_seg_file, verbose=verbose)\n",
      "  File \"/home/sopeeweje/bone_master/data_gen.py\", line 313, in load_image\n",
      "    image, _ = nrrd.read(image_path)\n",
      "  File \"/home/sopeeweje/.local/share/virtualenvs/bone_master-xLR2Nuxv/lib/python3.6/site-packages/nrrd/reader.py\", line 506, in read\n",
      "    with open(filename, 'rb') as fh:\n",
      "FileNotFoundError: [Errno 2] No such file or directory: '/home/sopeeweje/bone_master/data_dir/preprocessed/china153-t1c-imagingVolume.nrrd'\n",
      "\n"
     ]
    },
    {
     "name": "stderr",
     "output_type": "stream",
     "text": [
      "\r",
      " 60%|██████    | 144/240 [00:32<00:15,  6.35it/s]"
     ]
    },
    {
     "name": "stdout",
     "output_type": "stream",
     "text": [
      "\n",
      "################################################################################\n",
      "Exception occurred for: sort          -\n",
      "volume    0.603\n",
      "outcome   1.000\n",
      "Name: chop-133, dtype: object\n",
      "[Errno 2] No such file or directory: '/home/sopeeweje/bone_master/data_dir/preprocessed/chop-133-t1c-imagingVolume.nrrd'\n",
      "T1C image unavailable\n",
      "Traceback (most recent call last):\n",
      "  File \"/home/sopeeweje/bone_master/data_gen.py\", line 383, in generate_from_features\n",
      "    t1c_masked = load_image(t1c_image_file, t1c_seg_file, verbose=verbose)\n",
      "  File \"/home/sopeeweje/bone_master/data_gen.py\", line 313, in load_image\n",
      "    image, _ = nrrd.read(image_path)\n",
      "  File \"/home/sopeeweje/.local/share/virtualenvs/bone_master-xLR2Nuxv/lib/python3.6/site-packages/nrrd/reader.py\", line 506, in read\n",
      "    with open(filename, 'rb') as fh:\n",
      "FileNotFoundError: [Errno 2] No such file or directory: '/home/sopeeweje/bone_master/data_dir/preprocessed/chop-133-t1c-imagingVolume.nrrd'\n",
      "\n"
     ]
    },
    {
     "name": "stderr",
     "output_type": "stream",
     "text": [
      " 62%|██████▏   | 148/240 [00:33<00:11,  7.78it/s]"
     ]
    },
    {
     "name": "stdout",
     "output_type": "stream",
     "text": [
      "\n",
      "################################################################################\n",
      "Exception occurred for: sort          -\n",
      "volume    0.603\n",
      "outcome   1.000\n",
      "Name: china035, dtype: object\n",
      "[Errno 2] No such file or directory: '/home/sopeeweje/bone_master/data_dir/preprocessed/china035-t1c-imagingVolume.nrrd'\n",
      "T1C image unavailable\n",
      "Traceback (most recent call last):\n",
      "  File \"/home/sopeeweje/bone_master/data_gen.py\", line 383, in generate_from_features\n",
      "    t1c_masked = load_image(t1c_image_file, t1c_seg_file, verbose=verbose)\n",
      "  File \"/home/sopeeweje/bone_master/data_gen.py\", line 313, in load_image\n",
      "    image, _ = nrrd.read(image_path)\n",
      "  File \"/home/sopeeweje/.local/share/virtualenvs/bone_master-xLR2Nuxv/lib/python3.6/site-packages/nrrd/reader.py\", line 506, in read\n",
      "    with open(filename, 'rb') as fh:\n",
      "FileNotFoundError: [Errno 2] No such file or directory: '/home/sopeeweje/bone_master/data_dir/preprocessed/china035-t1c-imagingVolume.nrrd'\n",
      "\n"
     ]
    },
    {
     "name": "stderr",
     "output_type": "stream",
     "text": [
      " 63%|██████▎   | 151/240 [00:33<00:16,  5.51it/s]"
     ]
    },
    {
     "name": "stdout",
     "output_type": "stream",
     "text": [
      "\n",
      "################################################################################\n",
      "Exception occurred for: sort          -\n",
      "volume    0.603\n",
      "outcome   1.000\n",
      "Name: penn-010, dtype: object\n",
      "[Errno 2] No such file or directory: '/home/sopeeweje/bone_master/data_dir/preprocessed/penn-010-t1-imagingVolume.nrrd'\n",
      "T1 image unavailable\n",
      "Traceback (most recent call last):\n",
      "  File \"/home/sopeeweje/bone_master/data_gen.py\", line 357, in generate_from_features\n",
      "    t1_masked = load_image(t1_image_file, t1_seg_file, verbose=verbose)\n",
      "  File \"/home/sopeeweje/bone_master/data_gen.py\", line 313, in load_image\n",
      "    image, _ = nrrd.read(image_path)\n",
      "  File \"/home/sopeeweje/.local/share/virtualenvs/bone_master-xLR2Nuxv/lib/python3.6/site-packages/nrrd/reader.py\", line 506, in read\n",
      "    with open(filename, 'rb') as fh:\n",
      "FileNotFoundError: [Errno 2] No such file or directory: '/home/sopeeweje/bone_master/data_dir/preprocessed/penn-010-t1-imagingVolume.nrrd'\n",
      "\n",
      "\n",
      "################################################################################\n",
      "Exception occurred for: sort          -\n",
      "volume    0.603\n",
      "outcome   1.000\n",
      "Name: china027, dtype: object\n",
      "[Errno 2] No such file or directory: '/home/sopeeweje/bone_master/data_dir/preprocessed/china027-t1c-imagingVolume.nrrd'\n",
      "T1C image unavailable\n",
      "Traceback (most recent call last):\n",
      "  File \"/home/sopeeweje/bone_master/data_gen.py\", line 383, in generate_from_features\n",
      "    t1c_masked = load_image(t1c_image_file, t1c_seg_file, verbose=verbose)\n",
      "  File \"/home/sopeeweje/bone_master/data_gen.py\", line 313, in load_image\n",
      "    image, _ = nrrd.read(image_path)\n",
      "  File \"/home/sopeeweje/.local/share/virtualenvs/bone_master-xLR2Nuxv/lib/python3.6/site-packages/nrrd/reader.py\", line 506, in read\n",
      "    with open(filename, 'rb') as fh:\n",
      "FileNotFoundError: [Errno 2] No such file or directory: '/home/sopeeweje/bone_master/data_dir/preprocessed/china027-t1c-imagingVolume.nrrd'\n",
      "\n"
     ]
    },
    {
     "name": "stderr",
     "output_type": "stream",
     "text": [
      " 72%|███████▎  | 174/240 [00:37<00:10,  6.22it/s]"
     ]
    },
    {
     "name": "stdout",
     "output_type": "stream",
     "text": [
      "\n",
      "################################################################################\n",
      "Exception occurred for: sort          -\n",
      "volume    0.603\n",
      "outcome   1.000\n",
      "Name: penn-018, dtype: object\n",
      "[Errno 2] No such file or directory: '/home/sopeeweje/bone_master/data_dir/preprocessed/penn-018-t1c-imagingVolume.nrrd'\n",
      "T1C image unavailable\n",
      "Traceback (most recent call last):\n",
      "  File \"/home/sopeeweje/bone_master/data_gen.py\", line 383, in generate_from_features\n",
      "    t1c_masked = load_image(t1c_image_file, t1c_seg_file, verbose=verbose)\n",
      "  File \"/home/sopeeweje/bone_master/data_gen.py\", line 313, in load_image\n",
      "    image, _ = nrrd.read(image_path)\n",
      "  File \"/home/sopeeweje/.local/share/virtualenvs/bone_master-xLR2Nuxv/lib/python3.6/site-packages/nrrd/reader.py\", line 506, in read\n",
      "    with open(filename, 'rb') as fh:\n",
      "FileNotFoundError: [Errno 2] No such file or directory: '/home/sopeeweje/bone_master/data_dir/preprocessed/penn-018-t1c-imagingVolume.nrrd'\n",
      "\n"
     ]
    },
    {
     "name": "stderr",
     "output_type": "stream",
     "text": [
      " 78%|███████▊  | 188/240 [00:43<00:20,  2.55it/s]"
     ]
    },
    {
     "name": "stdout",
     "output_type": "stream",
     "text": [
      "\n",
      "################################################################################\n",
      "Exception occurred for: sort          -\n",
      "volume    0.603\n",
      "outcome   1.000\n",
      "Name: china152, dtype: object\n",
      "[Errno 2] No such file or directory: '/home/sopeeweje/bone_master/data_dir/preprocessed/china152-t1c-imagingVolume.nrrd'\n",
      "T1C image unavailable\n",
      "Traceback (most recent call last):\n",
      "  File \"/home/sopeeweje/bone_master/data_gen.py\", line 383, in generate_from_features\n",
      "    t1c_masked = load_image(t1c_image_file, t1c_seg_file, verbose=verbose)\n",
      "  File \"/home/sopeeweje/bone_master/data_gen.py\", line 313, in load_image\n",
      "    image, _ = nrrd.read(image_path)\n",
      "  File \"/home/sopeeweje/.local/share/virtualenvs/bone_master-xLR2Nuxv/lib/python3.6/site-packages/nrrd/reader.py\", line 506, in read\n",
      "    with open(filename, 'rb') as fh:\n",
      "FileNotFoundError: [Errno 2] No such file or directory: '/home/sopeeweje/bone_master/data_dir/preprocessed/china152-t1c-imagingVolume.nrrd'\n",
      "\n"
     ]
    },
    {
     "name": "stderr",
     "output_type": "stream",
     "text": [
      " 80%|████████  | 192/240 [00:44<00:09,  5.03it/s]"
     ]
    },
    {
     "name": "stdout",
     "output_type": "stream",
     "text": [
      "\n",
      "################################################################################\n",
      "Exception occurred for: sort          -\n",
      "volume    0.603\n",
      "outcome   1.000\n",
      "Name: penn-082, dtype: object\n",
      "[Errno 2] No such file or directory: '/home/sopeeweje/bone_master/data_dir/preprocessed/penn-082-t1c-imagingVolume.nrrd'\n",
      "T1C image unavailable\n",
      "Traceback (most recent call last):\n",
      "  File \"/home/sopeeweje/bone_master/data_gen.py\", line 383, in generate_from_features\n",
      "    t1c_masked = load_image(t1c_image_file, t1c_seg_file, verbose=verbose)\n",
      "  File \"/home/sopeeweje/bone_master/data_gen.py\", line 313, in load_image\n",
      "    image, _ = nrrd.read(image_path)\n",
      "  File \"/home/sopeeweje/.local/share/virtualenvs/bone_master-xLR2Nuxv/lib/python3.6/site-packages/nrrd/reader.py\", line 506, in read\n",
      "    with open(filename, 'rb') as fh:\n",
      "FileNotFoundError: [Errno 2] No such file or directory: '/home/sopeeweje/bone_master/data_dir/preprocessed/penn-082-t1c-imagingVolume.nrrd'\n",
      "\n"
     ]
    },
    {
     "name": "stderr",
     "output_type": "stream",
     "text": [
      "\r",
      " 81%|████████  | 194/240 [00:44<00:08,  5.29it/s]"
     ]
    },
    {
     "name": "stdout",
     "output_type": "stream",
     "text": [
      "\n",
      "################################################################################\n",
      "Exception occurred for: sort          -\n",
      "volume    0.604\n",
      "outcome   1.000\n",
      "Name: penn-049, dtype: object\n",
      "[Errno 2] No such file or directory: '/home/sopeeweje/bone_master/data_dir/preprocessed/penn-049-t1c-imagingVolume.nrrd'\n",
      "T1C image unavailable\n",
      "Traceback (most recent call last):\n",
      "  File \"/home/sopeeweje/bone_master/data_gen.py\", line 383, in generate_from_features\n",
      "    t1c_masked = load_image(t1c_image_file, t1c_seg_file, verbose=verbose)\n",
      "  File \"/home/sopeeweje/bone_master/data_gen.py\", line 313, in load_image\n",
      "    image, _ = nrrd.read(image_path)\n",
      "  File \"/home/sopeeweje/.local/share/virtualenvs/bone_master-xLR2Nuxv/lib/python3.6/site-packages/nrrd/reader.py\", line 506, in read\n",
      "    with open(filename, 'rb') as fh:\n",
      "FileNotFoundError: [Errno 2] No such file or directory: '/home/sopeeweje/bone_master/data_dir/preprocessed/penn-049-t1c-imagingVolume.nrrd'\n",
      "\n"
     ]
    },
    {
     "name": "stderr",
     "output_type": "stream",
     "text": [
      "\r",
      " 81%|████████▏ | 195/240 [00:45<00:10,  4.45it/s]"
     ]
    },
    {
     "name": "stdout",
     "output_type": "stream",
     "text": [
      "\n",
      "################################################################################\n",
      "Exception occurred for: sort          -\n",
      "volume    0.603\n",
      "outcome   1.000\n",
      "Name: china024, dtype: object\n",
      "[Errno 2] No such file or directory: '/home/sopeeweje/bone_master/data_dir/preprocessed/china024-t1-imagingVolume.nrrd'\n",
      "T1 image unavailable\n",
      "Traceback (most recent call last):\n",
      "  File \"/home/sopeeweje/bone_master/data_gen.py\", line 357, in generate_from_features\n",
      "    t1_masked = load_image(t1_image_file, t1_seg_file, verbose=verbose)\n",
      "  File \"/home/sopeeweje/bone_master/data_gen.py\", line 313, in load_image\n",
      "    image, _ = nrrd.read(image_path)\n",
      "  File \"/home/sopeeweje/.local/share/virtualenvs/bone_master-xLR2Nuxv/lib/python3.6/site-packages/nrrd/reader.py\", line 506, in read\n",
      "    with open(filename, 'rb') as fh:\n",
      "FileNotFoundError: [Errno 2] No such file or directory: '/home/sopeeweje/bone_master/data_dir/preprocessed/china024-t1-imagingVolume.nrrd'\n",
      "\n",
      "\n",
      "################################################################################\n",
      "Exception occurred for: sort          -\n",
      "volume    0.603\n",
      "outcome   1.000\n",
      "Name: penn-023, dtype: object\n",
      "[Errno 2] No such file or directory: '/home/sopeeweje/bone_master/data_dir/preprocessed/penn-023-t1-imagingVolume.nrrd'\n",
      "T1 image unavailable\n",
      "Traceback (most recent call last):\n",
      "  File \"/home/sopeeweje/bone_master/data_gen.py\", line 357, in generate_from_features\n",
      "    t1_masked = load_image(t1_image_file, t1_seg_file, verbose=verbose)\n",
      "  File \"/home/sopeeweje/bone_master/data_gen.py\", line 313, in load_image\n",
      "    image, _ = nrrd.read(image_path)\n",
      "  File \"/home/sopeeweje/.local/share/virtualenvs/bone_master-xLR2Nuxv/lib/python3.6/site-packages/nrrd/reader.py\", line 506, in read\n",
      "    with open(filename, 'rb') as fh:\n",
      "FileNotFoundError: [Errno 2] No such file or directory: '/home/sopeeweje/bone_master/data_dir/preprocessed/penn-023-t1-imagingVolume.nrrd'\n",
      "\n"
     ]
    },
    {
     "name": "stderr",
     "output_type": "stream",
     "text": [
      " 85%|████████▌ | 204/240 [00:46<00:04,  8.64it/s]"
     ]
    },
    {
     "name": "stdout",
     "output_type": "stream",
     "text": [
      "\n",
      "################################################################################\n",
      "Exception occurred for: sort          -\n",
      "volume    0.603\n",
      "outcome   1.000\n",
      "Name: penn-003, dtype: object\n",
      "[Errno 2] No such file or directory: '/home/sopeeweje/bone_master/data_dir/preprocessed/penn-003-t1-imagingVolume.nrrd'\n",
      "T1 image unavailable\n",
      "Traceback (most recent call last):\n",
      "  File \"/home/sopeeweje/bone_master/data_gen.py\", line 357, in generate_from_features\n",
      "    t1_masked = load_image(t1_image_file, t1_seg_file, verbose=verbose)\n",
      "  File \"/home/sopeeweje/bone_master/data_gen.py\", line 313, in load_image\n",
      "    image, _ = nrrd.read(image_path)\n",
      "  File \"/home/sopeeweje/.local/share/virtualenvs/bone_master-xLR2Nuxv/lib/python3.6/site-packages/nrrd/reader.py\", line 506, in read\n",
      "    with open(filename, 'rb') as fh:\n",
      "FileNotFoundError: [Errno 2] No such file or directory: '/home/sopeeweje/bone_master/data_dir/preprocessed/penn-003-t1-imagingVolume.nrrd'\n",
      "\n",
      "\n",
      "################################################################################\n",
      "Exception occurred for: sort          -\n",
      "volume    0.603\n",
      "outcome   1.000\n",
      "Name: china134, dtype: object\n",
      "[Errno 2] No such file or directory: '/home/sopeeweje/bone_master/data_dir/preprocessed/china134-t1c-imagingVolume.nrrd'\n",
      "T1C image unavailable\n",
      "Traceback (most recent call last):\n",
      "  File \"/home/sopeeweje/bone_master/data_gen.py\", line 383, in generate_from_features\n",
      "    t1c_masked = load_image(t1c_image_file, t1c_seg_file, verbose=verbose)\n",
      "  File \"/home/sopeeweje/bone_master/data_gen.py\", line 313, in load_image\n",
      "    image, _ = nrrd.read(image_path)\n",
      "  File \"/home/sopeeweje/.local/share/virtualenvs/bone_master-xLR2Nuxv/lib/python3.6/site-packages/nrrd/reader.py\", line 506, in read\n",
      "    with open(filename, 'rb') as fh:\n",
      "FileNotFoundError: [Errno 2] No such file or directory: '/home/sopeeweje/bone_master/data_dir/preprocessed/china134-t1c-imagingVolume.nrrd'\n",
      "\n"
     ]
    },
    {
     "name": "stderr",
     "output_type": "stream",
     "text": [
      "\r",
      " 86%|████████▌ | 206/240 [00:47<00:07,  4.36it/s]"
     ]
    },
    {
     "name": "stdout",
     "output_type": "stream",
     "text": [
      "\n",
      "################################################################################\n",
      "Exception occurred for: sort          -\n",
      "volume    0.603\n",
      "outcome   1.000\n",
      "Name: china041, dtype: object\n",
      "[Errno 2] No such file or directory: '/home/sopeeweje/bone_master/data_dir/preprocessed/china041-t1c-imagingVolume.nrrd'\n",
      "T1C image unavailable\n",
      "Traceback (most recent call last):\n",
      "  File \"/home/sopeeweje/bone_master/data_gen.py\", line 383, in generate_from_features\n",
      "    t1c_masked = load_image(t1c_image_file, t1c_seg_file, verbose=verbose)\n",
      "  File \"/home/sopeeweje/bone_master/data_gen.py\", line 313, in load_image\n",
      "    image, _ = nrrd.read(image_path)\n",
      "  File \"/home/sopeeweje/.local/share/virtualenvs/bone_master-xLR2Nuxv/lib/python3.6/site-packages/nrrd/reader.py\", line 506, in read\n",
      "    with open(filename, 'rb') as fh:\n",
      "FileNotFoundError: [Errno 2] No such file or directory: '/home/sopeeweje/bone_master/data_dir/preprocessed/china041-t1c-imagingVolume.nrrd'\n",
      "\n"
     ]
    },
    {
     "name": "stderr",
     "output_type": "stream",
     "text": [
      " 87%|████████▋ | 209/240 [00:47<00:06,  4.94it/s]"
     ]
    },
    {
     "name": "stdout",
     "output_type": "stream",
     "text": [
      "\n",
      "################################################################################\n",
      "Exception occurred for: sort          -\n",
      "volume    0.604\n",
      "outcome   1.000\n",
      "Name: chop-107, dtype: object\n",
      "[Errno 2] No such file or directory: '/home/sopeeweje/bone_master/data_dir/preprocessed/chop-107-t1c-imagingVolume.nrrd'\n",
      "T1C image unavailable\n",
      "Traceback (most recent call last):\n",
      "  File \"/home/sopeeweje/bone_master/data_gen.py\", line 383, in generate_from_features\n",
      "    t1c_masked = load_image(t1c_image_file, t1c_seg_file, verbose=verbose)\n",
      "  File \"/home/sopeeweje/bone_master/data_gen.py\", line 313, in load_image\n",
      "    image, _ = nrrd.read(image_path)\n",
      "  File \"/home/sopeeweje/.local/share/virtualenvs/bone_master-xLR2Nuxv/lib/python3.6/site-packages/nrrd/reader.py\", line 506, in read\n",
      "    with open(filename, 'rb') as fh:\n",
      "FileNotFoundError: [Errno 2] No such file or directory: '/home/sopeeweje/bone_master/data_dir/preprocessed/chop-107-t1c-imagingVolume.nrrd'\n",
      "\n",
      "\n",
      "################################################################################\n",
      "Exception occurred for: sort          -\n",
      "volume    0.603\n",
      "outcome   1.000\n",
      "Name: china111, dtype: object\n",
      "[Errno 2] No such file or directory: '/home/sopeeweje/bone_master/data_dir/preprocessed/china111-t1-imagingVolume.nrrd'\n",
      "T1 image unavailable\n",
      "Traceback (most recent call last):\n",
      "  File \"/home/sopeeweje/bone_master/data_gen.py\", line 357, in generate_from_features\n",
      "    t1_masked = load_image(t1_image_file, t1_seg_file, verbose=verbose)\n",
      "  File \"/home/sopeeweje/bone_master/data_gen.py\", line 313, in load_image\n",
      "    image, _ = nrrd.read(image_path)\n",
      "  File \"/home/sopeeweje/.local/share/virtualenvs/bone_master-xLR2Nuxv/lib/python3.6/site-packages/nrrd/reader.py\", line 506, in read\n",
      "    with open(filename, 'rb') as fh:\n",
      "FileNotFoundError: [Errno 2] No such file or directory: '/home/sopeeweje/bone_master/data_dir/preprocessed/china111-t1-imagingVolume.nrrd'\n",
      "\n"
     ]
    },
    {
     "name": "stderr",
     "output_type": "stream",
     "text": [
      " 90%|████████▉ | 215/240 [00:48<00:03,  7.11it/s]"
     ]
    },
    {
     "name": "stdout",
     "output_type": "stream",
     "text": [
      "\n",
      "################################################################################\n",
      "Exception occurred for: sort          -\n",
      "volume    0.603\n",
      "outcome   1.000\n",
      "Name: china046, dtype: object\n",
      "[Errno 2] No such file or directory: '/home/sopeeweje/bone_master/data_dir/preprocessed/china046-t1c-imagingVolume.nrrd'\n",
      "T1C image unavailable\n",
      "Traceback (most recent call last):\n",
      "  File \"/home/sopeeweje/bone_master/data_gen.py\", line 383, in generate_from_features\n",
      "    t1c_masked = load_image(t1c_image_file, t1c_seg_file, verbose=verbose)\n",
      "  File \"/home/sopeeweje/bone_master/data_gen.py\", line 313, in load_image\n",
      "    image, _ = nrrd.read(image_path)\n",
      "  File \"/home/sopeeweje/.local/share/virtualenvs/bone_master-xLR2Nuxv/lib/python3.6/site-packages/nrrd/reader.py\", line 506, in read\n",
      "    with open(filename, 'rb') as fh:\n",
      "FileNotFoundError: [Errno 2] No such file or directory: '/home/sopeeweje/bone_master/data_dir/preprocessed/china046-t1c-imagingVolume.nrrd'\n",
      "\n"
     ]
    },
    {
     "name": "stderr",
     "output_type": "stream",
     "text": [
      " 92%|█████████▏| 221/240 [00:49<00:03,  5.19it/s]"
     ]
    },
    {
     "name": "stdout",
     "output_type": "stream",
     "text": [
      "\n",
      "################################################################################\n",
      "Exception occurred for: sort          -\n",
      "volume    0.603\n",
      "outcome   1.000\n",
      "Name: china090, dtype: object\n",
      "[Errno 2] No such file or directory: '/home/sopeeweje/bone_master/data_dir/preprocessed/china090-t1c-imagingVolume.nrrd'\n",
      "T1C image unavailable\n",
      "Traceback (most recent call last):\n",
      "  File \"/home/sopeeweje/bone_master/data_gen.py\", line 383, in generate_from_features\n",
      "    t1c_masked = load_image(t1c_image_file, t1c_seg_file, verbose=verbose)\n",
      "  File \"/home/sopeeweje/bone_master/data_gen.py\", line 313, in load_image\n",
      "    image, _ = nrrd.read(image_path)\n",
      "  File \"/home/sopeeweje/.local/share/virtualenvs/bone_master-xLR2Nuxv/lib/python3.6/site-packages/nrrd/reader.py\", line 506, in read\n",
      "    with open(filename, 'rb') as fh:\n",
      "FileNotFoundError: [Errno 2] No such file or directory: '/home/sopeeweje/bone_master/data_dir/preprocessed/china090-t1c-imagingVolume.nrrd'\n",
      "\n",
      "\n",
      "################################################################################\n",
      "Exception occurred for: sort          -\n",
      "volume    0.603\n",
      "outcome   1.000\n",
      "Name: chop-136, dtype: object\n",
      "[Errno 2] No such file or directory: '/home/sopeeweje/bone_master/data_dir/preprocessed/chop-136-t1-imagingVolume.nrrd'\n",
      "T1 image unavailable\n",
      "Traceback (most recent call last):\n",
      "  File \"/home/sopeeweje/bone_master/data_gen.py\", line 357, in generate_from_features\n",
      "    t1_masked = load_image(t1_image_file, t1_seg_file, verbose=verbose)\n",
      "  File \"/home/sopeeweje/bone_master/data_gen.py\", line 313, in load_image\n",
      "    image, _ = nrrd.read(image_path)\n",
      "  File \"/home/sopeeweje/.local/share/virtualenvs/bone_master-xLR2Nuxv/lib/python3.6/site-packages/nrrd/reader.py\", line 506, in read\n",
      "    with open(filename, 'rb') as fh:\n",
      "FileNotFoundError: [Errno 2] No such file or directory: '/home/sopeeweje/bone_master/data_dir/preprocessed/chop-136-t1-imagingVolume.nrrd'\n",
      "\n",
      "\n",
      "################################################################################\n",
      "Exception occurred for: sort          -\n",
      "volume    0.603\n",
      "outcome   1.000\n",
      "Name: penn-061, dtype: object\n",
      "[Errno 2] No such file or directory: '/home/sopeeweje/bone_master/data_dir/preprocessed/penn-061-t1c-imagingVolume.nrrd'\n",
      "T1C image unavailable\n",
      "Traceback (most recent call last):\n",
      "  File \"/home/sopeeweje/bone_master/data_gen.py\", line 383, in generate_from_features\n",
      "    t1c_masked = load_image(t1c_image_file, t1c_seg_file, verbose=verbose)\n",
      "  File \"/home/sopeeweje/bone_master/data_gen.py\", line 313, in load_image\n",
      "    image, _ = nrrd.read(image_path)\n",
      "  File \"/home/sopeeweje/.local/share/virtualenvs/bone_master-xLR2Nuxv/lib/python3.6/site-packages/nrrd/reader.py\", line 506, in read\n",
      "    with open(filename, 'rb') as fh:\n",
      "FileNotFoundError: [Errno 2] No such file or directory: '/home/sopeeweje/bone_master/data_dir/preprocessed/penn-061-t1c-imagingVolume.nrrd'\n",
      "\n"
     ]
    },
    {
     "name": "stderr",
     "output_type": "stream",
     "text": [
      " 94%|█████████▍| 225/240 [00:50<00:04,  3.22it/s]"
     ]
    },
    {
     "name": "stdout",
     "output_type": "stream",
     "text": [
      "\n",
      "################################################################################\n",
      "Exception occurred for: sort          -\n",
      "volume    0.603\n",
      "outcome   1.000\n",
      "Name: china038, dtype: object\n",
      "[Errno 2] No such file or directory: '/home/sopeeweje/bone_master/data_dir/preprocessed/china038-t1c-imagingVolume.nrrd'\n",
      "T1C image unavailable\n",
      "Traceback (most recent call last):\n",
      "  File \"/home/sopeeweje/bone_master/data_gen.py\", line 383, in generate_from_features\n",
      "    t1c_masked = load_image(t1c_image_file, t1c_seg_file, verbose=verbose)\n",
      "  File \"/home/sopeeweje/bone_master/data_gen.py\", line 313, in load_image\n",
      "    image, _ = nrrd.read(image_path)\n",
      "  File \"/home/sopeeweje/.local/share/virtualenvs/bone_master-xLR2Nuxv/lib/python3.6/site-packages/nrrd/reader.py\", line 506, in read\n",
      "    with open(filename, 'rb') as fh:\n",
      "FileNotFoundError: [Errno 2] No such file or directory: '/home/sopeeweje/bone_master/data_dir/preprocessed/china038-t1c-imagingVolume.nrrd'\n",
      "\n"
     ]
    },
    {
     "name": "stderr",
     "output_type": "stream",
     "text": [
      "\r",
      " 95%|█████████▍| 227/240 [00:51<00:03,  3.87it/s]"
     ]
    },
    {
     "name": "stdout",
     "output_type": "stream",
     "text": [
      "\n",
      "################################################################################\n",
      "Exception occurred for: sort          -\n",
      "volume    0.603\n",
      "outcome   1.000\n",
      "Name: penn-089, dtype: object\n",
      "[Errno 2] No such file or directory: '/home/sopeeweje/bone_master/data_dir/preprocessed/penn-089-t1c-imagingVolume.nrrd'\n",
      "T1C image unavailable\n",
      "Traceback (most recent call last):\n",
      "  File \"/home/sopeeweje/bone_master/data_gen.py\", line 383, in generate_from_features\n",
      "    t1c_masked = load_image(t1c_image_file, t1c_seg_file, verbose=verbose)\n",
      "  File \"/home/sopeeweje/bone_master/data_gen.py\", line 313, in load_image\n",
      "    image, _ = nrrd.read(image_path)\n",
      "  File \"/home/sopeeweje/.local/share/virtualenvs/bone_master-xLR2Nuxv/lib/python3.6/site-packages/nrrd/reader.py\", line 506, in read\n",
      "    with open(filename, 'rb') as fh:\n",
      "FileNotFoundError: [Errno 2] No such file or directory: '/home/sopeeweje/bone_master/data_dir/preprocessed/penn-089-t1c-imagingVolume.nrrd'\n",
      "\n"
     ]
    },
    {
     "name": "stderr",
     "output_type": "stream",
     "text": [
      " 96%|█████████▋| 231/240 [00:53<00:03,  2.46it/s]"
     ]
    },
    {
     "name": "stdout",
     "output_type": "stream",
     "text": [
      "\n",
      "################################################################################\n",
      "Exception occurred for: sort          -\n",
      "volume    0.604\n",
      "outcome   1.000\n",
      "Name: chop-50, dtype: object\n",
      "[Errno 2] No such file or directory: '/home/sopeeweje/bone_master/data_dir/preprocessed/chop-50-t1-imagingVolume.nrrd'\n",
      "T1 image unavailable\n",
      "Traceback (most recent call last):\n",
      "  File \"/home/sopeeweje/bone_master/data_gen.py\", line 357, in generate_from_features\n",
      "    t1_masked = load_image(t1_image_file, t1_seg_file, verbose=verbose)\n",
      "  File \"/home/sopeeweje/bone_master/data_gen.py\", line 313, in load_image\n",
      "    image, _ = nrrd.read(image_path)\n",
      "  File \"/home/sopeeweje/.local/share/virtualenvs/bone_master-xLR2Nuxv/lib/python3.6/site-packages/nrrd/reader.py\", line 506, in read\n",
      "    with open(filename, 'rb') as fh:\n",
      "FileNotFoundError: [Errno 2] No such file or directory: '/home/sopeeweje/bone_master/data_dir/preprocessed/chop-50-t1-imagingVolume.nrrd'\n",
      "\n",
      "\n",
      "################################################################################\n",
      "Exception occurred for: sort          -\n",
      "volume    0.603\n",
      "outcome   1.000\n",
      "Name: china088, dtype: object\n",
      "[Errno 2] No such file or directory: '/home/sopeeweje/bone_master/data_dir/preprocessed/china088-t1c-imagingVolume.nrrd'\n",
      "T1C image unavailable\n",
      "Traceback (most recent call last):\n",
      "  File \"/home/sopeeweje/bone_master/data_gen.py\", line 383, in generate_from_features\n",
      "    t1c_masked = load_image(t1c_image_file, t1c_seg_file, verbose=verbose)\n",
      "  File \"/home/sopeeweje/bone_master/data_gen.py\", line 313, in load_image\n",
      "    image, _ = nrrd.read(image_path)\n",
      "  File \"/home/sopeeweje/.local/share/virtualenvs/bone_master-xLR2Nuxv/lib/python3.6/site-packages/nrrd/reader.py\", line 506, in read\n",
      "    with open(filename, 'rb') as fh:\n",
      "FileNotFoundError: [Errno 2] No such file or directory: '/home/sopeeweje/bone_master/data_dir/preprocessed/china088-t1c-imagingVolume.nrrd'\n",
      "\n"
     ]
    },
    {
     "name": "stderr",
     "output_type": "stream",
     "text": [
      " 98%|█████████▊| 234/240 [00:54<00:01,  3.87it/s]"
     ]
    },
    {
     "name": "stdout",
     "output_type": "stream",
     "text": [
      "\n",
      "################################################################################\n",
      "Exception occurred for: sort          -\n",
      "volume    0.603\n",
      "outcome   1.000\n",
      "Name: china002, dtype: object\n",
      "[Errno 2] No such file or directory: '/home/sopeeweje/bone_master/data_dir/preprocessed/china002-t1c-imagingVolume.nrrd'\n",
      "T1C image unavailable\n",
      "Traceback (most recent call last):\n",
      "  File \"/home/sopeeweje/bone_master/data_gen.py\", line 383, in generate_from_features\n",
      "    t1c_masked = load_image(t1c_image_file, t1c_seg_file, verbose=verbose)\n",
      "  File \"/home/sopeeweje/bone_master/data_gen.py\", line 313, in load_image\n",
      "    image, _ = nrrd.read(image_path)\n",
      "  File \"/home/sopeeweje/.local/share/virtualenvs/bone_master-xLR2Nuxv/lib/python3.6/site-packages/nrrd/reader.py\", line 506, in read\n",
      "    with open(filename, 'rb') as fh:\n",
      "FileNotFoundError: [Errno 2] No such file or directory: '/home/sopeeweje/bone_master/data_dir/preprocessed/china002-t1c-imagingVolume.nrrd'\n",
      "\n"
     ]
    },
    {
     "name": "stderr",
     "output_type": "stream",
     "text": [
      " 98%|█████████▊| 236/240 [00:54<00:00,  5.05it/s]"
     ]
    },
    {
     "name": "stdout",
     "output_type": "stream",
     "text": [
      "\n",
      "################################################################################\n",
      "Exception occurred for: sort          -\n",
      "volume    0.603\n",
      "outcome   1.000\n",
      "Name: china058, dtype: object\n",
      "[Errno 2] No such file or directory: '/home/sopeeweje/bone_master/data_dir/preprocessed/china058-t1c-imagingVolume.nrrd'\n",
      "T1C image unavailable\n",
      "Traceback (most recent call last):\n",
      "  File \"/home/sopeeweje/bone_master/data_gen.py\", line 383, in generate_from_features\n",
      "    t1c_masked = load_image(t1c_image_file, t1c_seg_file, verbose=verbose)\n",
      "  File \"/home/sopeeweje/bone_master/data_gen.py\", line 313, in load_image\n",
      "    image, _ = nrrd.read(image_path)\n",
      "  File \"/home/sopeeweje/.local/share/virtualenvs/bone_master-xLR2Nuxv/lib/python3.6/site-packages/nrrd/reader.py\", line 506, in read\n",
      "    with open(filename, 'rb') as fh:\n",
      "FileNotFoundError: [Errno 2] No such file or directory: '/home/sopeeweje/bone_master/data_dir/preprocessed/china058-t1c-imagingVolume.nrrd'\n",
      "\n",
      "\n",
      "################################################################################\n",
      "Exception occurred for: sort          -\n",
      "volume    0.603\n",
      "outcome   1.000\n",
      "Name: china096, dtype: object\n",
      "[Errno 2] No such file or directory: '/home/sopeeweje/bone_master/data_dir/preprocessed/china096-t1-imagingVolume.nrrd'\n",
      "T1 image unavailable\n",
      "Traceback (most recent call last):\n",
      "  File \"/home/sopeeweje/bone_master/data_gen.py\", line 357, in generate_from_features\n",
      "    t1_masked = load_image(t1_image_file, t1_seg_file, verbose=verbose)\n",
      "  File \"/home/sopeeweje/bone_master/data_gen.py\", line 313, in load_image\n",
      "    image, _ = nrrd.read(image_path)\n",
      "  File \"/home/sopeeweje/.local/share/virtualenvs/bone_master-xLR2Nuxv/lib/python3.6/site-packages/nrrd/reader.py\", line 506, in read\n",
      "    with open(filename, 'rb') as fh:\n",
      "FileNotFoundError: [Errno 2] No such file or directory: '/home/sopeeweje/bone_master/data_dir/preprocessed/china096-t1-imagingVolume.nrrd'\n",
      "\n"
     ]
    },
    {
     "name": "stderr",
     "output_type": "stream",
     "text": [
      "100%|██████████| 240/240 [00:54<00:00,  4.38it/s]\n",
      "  3%|▎         | 2/67 [00:00<00:04, 14.77it/s]"
     ]
    },
    {
     "name": "stdout",
     "output_type": "stream",
     "text": [
      "\n",
      "################################################################################\n",
      "Exception occurred for: sort          -\n",
      "volume    0.603\n",
      "outcome   0.000\n",
      "Name: penn-074, dtype: object\n",
      "[Errno 2] No such file or directory: '/home/sopeeweje/bone_master/data_dir/preprocessed/penn-074-t1c-imagingVolume.nrrd'\n",
      "T1C image unavailable\n",
      "Traceback (most recent call last):\n",
      "  File \"/home/sopeeweje/bone_master/data_gen.py\", line 383, in generate_from_features\n",
      "    t1c_masked = load_image(t1c_image_file, t1c_seg_file, verbose=verbose)\n",
      "  File \"/home/sopeeweje/bone_master/data_gen.py\", line 313, in load_image\n",
      "    image, _ = nrrd.read(image_path)\n",
      "  File \"/home/sopeeweje/.local/share/virtualenvs/bone_master-xLR2Nuxv/lib/python3.6/site-packages/nrrd/reader.py\", line 506, in read\n",
      "    with open(filename, 'rb') as fh:\n",
      "FileNotFoundError: [Errno 2] No such file or directory: '/home/sopeeweje/bone_master/data_dir/preprocessed/penn-074-t1c-imagingVolume.nrrd'\n",
      "\n",
      "\n",
      "################################################################################\n",
      "Exception occurred for: sort          -\n",
      "volume    0.603\n",
      "outcome   0.000\n",
      "Name: chop-58, dtype: object\n",
      "[Errno 2] No such file or directory: '/home/sopeeweje/bone_master/data_dir/preprocessed/chop-58-t1c-imagingVolume.nrrd'\n",
      "T1C image unavailable\n",
      "Traceback (most recent call last):\n",
      "  File \"/home/sopeeweje/bone_master/data_gen.py\", line 383, in generate_from_features\n",
      "    t1c_masked = load_image(t1c_image_file, t1c_seg_file, verbose=verbose)\n",
      "  File \"/home/sopeeweje/bone_master/data_gen.py\", line 313, in load_image\n",
      "    image, _ = nrrd.read(image_path)\n",
      "  File \"/home/sopeeweje/.local/share/virtualenvs/bone_master-xLR2Nuxv/lib/python3.6/site-packages/nrrd/reader.py\", line 506, in read\n",
      "    with open(filename, 'rb') as fh:\n",
      "FileNotFoundError: [Errno 2] No such file or directory: '/home/sopeeweje/bone_master/data_dir/preprocessed/chop-58-t1c-imagingVolume.nrrd'\n",
      "\n"
     ]
    },
    {
     "name": "stderr",
     "output_type": "stream",
     "text": [
      "  7%|▋         | 5/67 [00:00<00:04, 12.80it/s]"
     ]
    },
    {
     "name": "stdout",
     "output_type": "stream",
     "text": [
      "\n",
      "################################################################################\n",
      "Exception occurred for: sort          -\n",
      "volume    0.603\n",
      "outcome   0.000\n",
      "Name: chop-86, dtype: object\n",
      "[Errno 2] No such file or directory: '/home/sopeeweje/bone_master/data_dir/preprocessed/chop-86-t1c-imagingVolume.nrrd'\n",
      "T1C image unavailable\n",
      "Traceback (most recent call last):\n",
      "  File \"/home/sopeeweje/bone_master/data_gen.py\", line 383, in generate_from_features\n",
      "    t1c_masked = load_image(t1c_image_file, t1c_seg_file, verbose=verbose)\n",
      "  File \"/home/sopeeweje/bone_master/data_gen.py\", line 313, in load_image\n",
      "    image, _ = nrrd.read(image_path)\n",
      "  File \"/home/sopeeweje/.local/share/virtualenvs/bone_master-xLR2Nuxv/lib/python3.6/site-packages/nrrd/reader.py\", line 506, in read\n",
      "    with open(filename, 'rb') as fh:\n",
      "FileNotFoundError: [Errno 2] No such file or directory: '/home/sopeeweje/bone_master/data_dir/preprocessed/chop-86-t1c-imagingVolume.nrrd'\n",
      "\n",
      "\n",
      "################################################################################\n",
      "Exception occurred for: sort          -\n",
      "volume    0.603\n",
      "outcome   0.000\n",
      "Name: china079, dtype: object\n",
      "[Errno 2] No such file or directory: '/home/sopeeweje/bone_master/data_dir/preprocessed/china079-t1c-imagingVolume.nrrd'\n",
      "T1C image unavailable\n",
      "Traceback (most recent call last):\n",
      "  File \"/home/sopeeweje/bone_master/data_gen.py\", line 383, in generate_from_features\n",
      "    t1c_masked = load_image(t1c_image_file, t1c_seg_file, verbose=verbose)\n",
      "  File \"/home/sopeeweje/bone_master/data_gen.py\", line 313, in load_image\n",
      "    image, _ = nrrd.read(image_path)\n",
      "  File \"/home/sopeeweje/.local/share/virtualenvs/bone_master-xLR2Nuxv/lib/python3.6/site-packages/nrrd/reader.py\", line 506, in read\n",
      "    with open(filename, 'rb') as fh:\n",
      "FileNotFoundError: [Errno 2] No such file or directory: '/home/sopeeweje/bone_master/data_dir/preprocessed/china079-t1c-imagingVolume.nrrd'\n",
      "\n",
      "\n",
      "################################################################################\n",
      "Exception occurred for: sort          -\n",
      "volume    0.603\n",
      "outcome   0.000\n",
      "Name: china154, dtype: object\n",
      "[Errno 2] No such file or directory: '/home/sopeeweje/bone_master/data_dir/preprocessed/china154-t1c-imagingVolume.nrrd'\n",
      "T1C image unavailable\n",
      "Traceback (most recent call last):\n",
      "  File \"/home/sopeeweje/bone_master/data_gen.py\", line 383, in generate_from_features\n",
      "    t1c_masked = load_image(t1c_image_file, t1c_seg_file, verbose=verbose)\n",
      "  File \"/home/sopeeweje/bone_master/data_gen.py\", line 313, in load_image\n",
      "    image, _ = nrrd.read(image_path)\n",
      "  File \"/home/sopeeweje/.local/share/virtualenvs/bone_master-xLR2Nuxv/lib/python3.6/site-packages/nrrd/reader.py\", line 506, in read\n",
      "    with open(filename, 'rb') as fh:\n",
      "FileNotFoundError: [Errno 2] No such file or directory: '/home/sopeeweje/bone_master/data_dir/preprocessed/china154-t1c-imagingVolume.nrrd'\n",
      "\n"
     ]
    },
    {
     "name": "stderr",
     "output_type": "stream",
     "text": [
      " 21%|██        | 14/67 [00:02<00:14,  3.68it/s]"
     ]
    },
    {
     "name": "stdout",
     "output_type": "stream",
     "text": [
      "\n",
      "################################################################################\n",
      "Exception occurred for: sort          -\n",
      "volume    0.603\n",
      "outcome   0.000\n",
      "Name: chop-61, dtype: object\n",
      "[Errno 2] No such file or directory: '/home/sopeeweje/bone_master/data_dir/preprocessed/chop-61-t1c-imagingVolume.nrrd'\n",
      "T1C image unavailable\n",
      "Traceback (most recent call last):\n",
      "  File \"/home/sopeeweje/bone_master/data_gen.py\", line 383, in generate_from_features\n",
      "    t1c_masked = load_image(t1c_image_file, t1c_seg_file, verbose=verbose)\n",
      "  File \"/home/sopeeweje/bone_master/data_gen.py\", line 313, in load_image\n",
      "    image, _ = nrrd.read(image_path)\n",
      "  File \"/home/sopeeweje/.local/share/virtualenvs/bone_master-xLR2Nuxv/lib/python3.6/site-packages/nrrd/reader.py\", line 506, in read\n",
      "    with open(filename, 'rb') as fh:\n",
      "FileNotFoundError: [Errno 2] No such file or directory: '/home/sopeeweje/bone_master/data_dir/preprocessed/chop-61-t1c-imagingVolume.nrrd'\n",
      "\n",
      "\n",
      "################################################################################\n",
      "Exception occurred for: sort          -\n",
      "volume    0.603\n",
      "outcome   0.000\n",
      "Name: chop-141, dtype: object\n",
      "[Errno 2] No such file or directory: '/home/sopeeweje/bone_master/data_dir/preprocessed/chop-141-t1c-imagingVolume.nrrd'\n",
      "T1C image unavailable\n",
      "Traceback (most recent call last):\n",
      "  File \"/home/sopeeweje/bone_master/data_gen.py\", line 383, in generate_from_features\n",
      "    t1c_masked = load_image(t1c_image_file, t1c_seg_file, verbose=verbose)\n",
      "  File \"/home/sopeeweje/bone_master/data_gen.py\", line 313, in load_image\n",
      "    image, _ = nrrd.read(image_path)\n",
      "  File \"/home/sopeeweje/.local/share/virtualenvs/bone_master-xLR2Nuxv/lib/python3.6/site-packages/nrrd/reader.py\", line 506, in read\n",
      "    with open(filename, 'rb') as fh:\n",
      "FileNotFoundError: [Errno 2] No such file or directory: '/home/sopeeweje/bone_master/data_dir/preprocessed/chop-141-t1c-imagingVolume.nrrd'\n",
      "\n",
      "\n",
      "################################################################################\n",
      "Exception occurred for: sort          -\n",
      "volume    0.603\n",
      "outcome   0.000\n",
      "Name: china052, dtype: object\n",
      "[Errno 2] No such file or directory: '/home/sopeeweje/bone_master/data_dir/preprocessed/china052-t1c-imagingVolume.nrrd'\n",
      "T1C image unavailable\n",
      "Traceback (most recent call last):\n",
      "  File \"/home/sopeeweje/bone_master/data_gen.py\", line 383, in generate_from_features\n",
      "    t1c_masked = load_image(t1c_image_file, t1c_seg_file, verbose=verbose)\n",
      "  File \"/home/sopeeweje/bone_master/data_gen.py\", line 313, in load_image\n",
      "    image, _ = nrrd.read(image_path)\n",
      "  File \"/home/sopeeweje/.local/share/virtualenvs/bone_master-xLR2Nuxv/lib/python3.6/site-packages/nrrd/reader.py\", line 506, in read\n",
      "    with open(filename, 'rb') as fh:\n",
      "FileNotFoundError: [Errno 2] No such file or directory: '/home/sopeeweje/bone_master/data_dir/preprocessed/china052-t1c-imagingVolume.nrrd'\n",
      "\n"
     ]
    },
    {
     "name": "stderr",
     "output_type": "stream",
     "text": [
      " 25%|██▌       | 17/67 [00:03<00:09,  5.02it/s]"
     ]
    },
    {
     "name": "stdout",
     "output_type": "stream",
     "text": [
      "\n",
      "################################################################################\n",
      "Exception occurred for: sort          -\n",
      "volume    0.603\n",
      "outcome   0.000\n",
      "Name: chop-126, dtype: object\n",
      "[Errno 2] No such file or directory: '/home/sopeeweje/bone_master/data_dir/preprocessed/chop-126-t1c-imagingVolume.nrrd'\n",
      "T1C image unavailable\n",
      "Traceback (most recent call last):\n",
      "  File \"/home/sopeeweje/bone_master/data_gen.py\", line 383, in generate_from_features\n",
      "    t1c_masked = load_image(t1c_image_file, t1c_seg_file, verbose=verbose)\n",
      "  File \"/home/sopeeweje/bone_master/data_gen.py\", line 313, in load_image\n",
      "    image, _ = nrrd.read(image_path)\n",
      "  File \"/home/sopeeweje/.local/share/virtualenvs/bone_master-xLR2Nuxv/lib/python3.6/site-packages/nrrd/reader.py\", line 506, in read\n",
      "    with open(filename, 'rb') as fh:\n",
      "FileNotFoundError: [Errno 2] No such file or directory: '/home/sopeeweje/bone_master/data_dir/preprocessed/chop-126-t1c-imagingVolume.nrrd'\n",
      "\n",
      "\n",
      "################################################################################\n",
      "Exception occurred for: sort          -\n",
      "volume    0.603\n",
      "outcome   0.000\n",
      "Name: chop-120, dtype: object\n",
      "[Errno 2] No such file or directory: '/home/sopeeweje/bone_master/data_dir/preprocessed/chop-120-t1c-imagingVolume.nrrd'\n",
      "T1C image unavailable\n",
      "Traceback (most recent call last):\n",
      "  File \"/home/sopeeweje/bone_master/data_gen.py\", line 383, in generate_from_features\n",
      "    t1c_masked = load_image(t1c_image_file, t1c_seg_file, verbose=verbose)\n",
      "  File \"/home/sopeeweje/bone_master/data_gen.py\", line 313, in load_image\n",
      "    image, _ = nrrd.read(image_path)\n",
      "  File \"/home/sopeeweje/.local/share/virtualenvs/bone_master-xLR2Nuxv/lib/python3.6/site-packages/nrrd/reader.py\", line 506, in read\n",
      "    with open(filename, 'rb') as fh:\n",
      "FileNotFoundError: [Errno 2] No such file or directory: '/home/sopeeweje/bone_master/data_dir/preprocessed/chop-120-t1c-imagingVolume.nrrd'\n",
      "\n"
     ]
    },
    {
     "name": "stderr",
     "output_type": "stream",
     "text": [
      " 30%|██▉       | 20/67 [00:03<00:07,  6.20it/s]"
     ]
    },
    {
     "name": "stdout",
     "output_type": "stream",
     "text": [
      "\n",
      "################################################################################\n",
      "Exception occurred for: sort          -\n",
      "volume    0.603\n",
      "outcome   0.000\n",
      "Name: chop-87, dtype: object\n",
      "[Errno 2] No such file or directory: '/home/sopeeweje/bone_master/data_dir/preprocessed/chop-87-t1c-imagingVolume.nrrd'\n",
      "T1C image unavailable\n",
      "Traceback (most recent call last):\n",
      "  File \"/home/sopeeweje/bone_master/data_gen.py\", line 383, in generate_from_features\n",
      "    t1c_masked = load_image(t1c_image_file, t1c_seg_file, verbose=verbose)\n",
      "  File \"/home/sopeeweje/bone_master/data_gen.py\", line 313, in load_image\n",
      "    image, _ = nrrd.read(image_path)\n",
      "  File \"/home/sopeeweje/.local/share/virtualenvs/bone_master-xLR2Nuxv/lib/python3.6/site-packages/nrrd/reader.py\", line 506, in read\n",
      "    with open(filename, 'rb') as fh:\n",
      "FileNotFoundError: [Errno 2] No such file or directory: '/home/sopeeweje/bone_master/data_dir/preprocessed/chop-87-t1c-imagingVolume.nrrd'\n",
      "\n"
     ]
    },
    {
     "name": "stderr",
     "output_type": "stream",
     "text": [
      " 33%|███▎      | 22/67 [00:03<00:06,  6.87it/s]"
     ]
    },
    {
     "name": "stdout",
     "output_type": "stream",
     "text": [
      "\n",
      "################################################################################\n",
      "Exception occurred for: sort          -\n",
      "volume    0.603\n",
      "outcome   0.000\n",
      "Name: penn-063, dtype: object\n",
      "[Errno 2] No such file or directory: '/home/sopeeweje/bone_master/data_dir/preprocessed/penn-063-t1c-imagingVolume.nrrd'\n",
      "T1C image unavailable\n",
      "Traceback (most recent call last):\n",
      "  File \"/home/sopeeweje/bone_master/data_gen.py\", line 383, in generate_from_features\n",
      "    t1c_masked = load_image(t1c_image_file, t1c_seg_file, verbose=verbose)\n",
      "  File \"/home/sopeeweje/bone_master/data_gen.py\", line 313, in load_image\n",
      "    image, _ = nrrd.read(image_path)\n",
      "  File \"/home/sopeeweje/.local/share/virtualenvs/bone_master-xLR2Nuxv/lib/python3.6/site-packages/nrrd/reader.py\", line 506, in read\n",
      "    with open(filename, 'rb') as fh:\n",
      "FileNotFoundError: [Errno 2] No such file or directory: '/home/sopeeweje/bone_master/data_dir/preprocessed/penn-063-t1c-imagingVolume.nrrd'\n",
      "\n"
     ]
    },
    {
     "name": "stderr",
     "output_type": "stream",
     "text": [
      "\r",
      " 34%|███▍      | 23/67 [00:04<00:08,  4.96it/s]"
     ]
    },
    {
     "name": "stdout",
     "output_type": "stream",
     "text": [
      "\n",
      "################################################################################\n",
      "Exception occurred for: sort          -\n",
      "volume    0.603\n",
      "outcome   0.000\n",
      "Name: china023, dtype: object\n",
      "[Errno 2] No such file or directory: '/home/sopeeweje/bone_master/data_dir/preprocessed/china023-t1-imagingVolume.nrrd'\n",
      "T1 image unavailable\n",
      "Traceback (most recent call last):\n",
      "  File \"/home/sopeeweje/bone_master/data_gen.py\", line 357, in generate_from_features\n",
      "    t1_masked = load_image(t1_image_file, t1_seg_file, verbose=verbose)\n",
      "  File \"/home/sopeeweje/bone_master/data_gen.py\", line 313, in load_image\n",
      "    image, _ = nrrd.read(image_path)\n",
      "  File \"/home/sopeeweje/.local/share/virtualenvs/bone_master-xLR2Nuxv/lib/python3.6/site-packages/nrrd/reader.py\", line 506, in read\n",
      "    with open(filename, 'rb') as fh:\n",
      "FileNotFoundError: [Errno 2] No such file or directory: '/home/sopeeweje/bone_master/data_dir/preprocessed/china023-t1-imagingVolume.nrrd'\n",
      "\n"
     ]
    },
    {
     "name": "stderr",
     "output_type": "stream",
     "text": [
      " 42%|████▏     | 28/67 [00:04<00:05,  7.37it/s]"
     ]
    },
    {
     "name": "stdout",
     "output_type": "stream",
     "text": [
      "\n",
      "################################################################################\n",
      "Exception occurred for: sort          -\n",
      "volume    0.603\n",
      "outcome   0.000\n",
      "Name: chop-46, dtype: object\n",
      "[Errno 2] No such file or directory: '/home/sopeeweje/bone_master/data_dir/preprocessed/chop-46-t1-imagingVolume.nrrd'\n",
      "T1 image unavailable\n",
      "Traceback (most recent call last):\n",
      "  File \"/home/sopeeweje/bone_master/data_gen.py\", line 357, in generate_from_features\n",
      "    t1_masked = load_image(t1_image_file, t1_seg_file, verbose=verbose)\n",
      "  File \"/home/sopeeweje/bone_master/data_gen.py\", line 313, in load_image\n",
      "    image, _ = nrrd.read(image_path)\n",
      "  File \"/home/sopeeweje/.local/share/virtualenvs/bone_master-xLR2Nuxv/lib/python3.6/site-packages/nrrd/reader.py\", line 506, in read\n",
      "    with open(filename, 'rb') as fh:\n",
      "FileNotFoundError: [Errno 2] No such file or directory: '/home/sopeeweje/bone_master/data_dir/preprocessed/chop-46-t1-imagingVolume.nrrd'\n",
      "\n",
      "\n",
      "################################################################################\n",
      "Exception occurred for: sort          -\n",
      "volume    0.603\n",
      "outcome   0.000\n",
      "Name: china055, dtype: object\n",
      "[Errno 2] No such file or directory: '/home/sopeeweje/bone_master/data_dir/preprocessed/china055-t1c-imagingVolume.nrrd'\n",
      "T1C image unavailable\n",
      "Traceback (most recent call last):\n",
      "  File \"/home/sopeeweje/bone_master/data_gen.py\", line 383, in generate_from_features\n",
      "    t1c_masked = load_image(t1c_image_file, t1c_seg_file, verbose=verbose)\n",
      "  File \"/home/sopeeweje/bone_master/data_gen.py\", line 313, in load_image\n",
      "    image, _ = nrrd.read(image_path)\n",
      "  File \"/home/sopeeweje/.local/share/virtualenvs/bone_master-xLR2Nuxv/lib/python3.6/site-packages/nrrd/reader.py\", line 506, in read\n",
      "    with open(filename, 'rb') as fh:\n",
      "FileNotFoundError: [Errno 2] No such file or directory: '/home/sopeeweje/bone_master/data_dir/preprocessed/china055-t1c-imagingVolume.nrrd'\n",
      "\n"
     ]
    },
    {
     "name": "stderr",
     "output_type": "stream",
     "text": [
      "\r",
      " 45%|████▍     | 30/67 [00:04<00:04,  7.83it/s]"
     ]
    },
    {
     "name": "stdout",
     "output_type": "stream",
     "text": [
      "\n",
      "################################################################################\n",
      "Exception occurred for: sort          -\n",
      "volume    0.603\n",
      "outcome   0.000\n",
      "Name: china001, dtype: object\n",
      "[Errno 2] No such file or directory: '/home/sopeeweje/bone_master/data_dir/preprocessed/china001-t1c-imagingVolume.nrrd'\n",
      "T1C image unavailable\n",
      "Traceback (most recent call last):\n",
      "  File \"/home/sopeeweje/bone_master/data_gen.py\", line 383, in generate_from_features\n",
      "    t1c_masked = load_image(t1c_image_file, t1c_seg_file, verbose=verbose)\n",
      "  File \"/home/sopeeweje/bone_master/data_gen.py\", line 313, in load_image\n",
      "    image, _ = nrrd.read(image_path)\n",
      "  File \"/home/sopeeweje/.local/share/virtualenvs/bone_master-xLR2Nuxv/lib/python3.6/site-packages/nrrd/reader.py\", line 506, in read\n",
      "    with open(filename, 'rb') as fh:\n",
      "FileNotFoundError: [Errno 2] No such file or directory: '/home/sopeeweje/bone_master/data_dir/preprocessed/china001-t1c-imagingVolume.nrrd'\n",
      "\n"
     ]
    },
    {
     "name": "stderr",
     "output_type": "stream",
     "text": [
      " 55%|█████▌    | 37/67 [00:06<00:05,  5.21it/s]"
     ]
    },
    {
     "name": "stdout",
     "output_type": "stream",
     "text": [
      "\n",
      "################################################################################\n",
      "Exception occurred for: sort          -\n",
      "volume    0.603\n",
      "outcome   1.000\n",
      "Name: china040, dtype: object\n",
      "[Errno 2] No such file or directory: '/home/sopeeweje/bone_master/data_dir/preprocessed/china040-t1c-imagingVolume.nrrd'\n",
      "T1C image unavailable\n",
      "Traceback (most recent call last):\n",
      "  File \"/home/sopeeweje/bone_master/data_gen.py\", line 383, in generate_from_features\n",
      "    t1c_masked = load_image(t1c_image_file, t1c_seg_file, verbose=verbose)\n",
      "  File \"/home/sopeeweje/bone_master/data_gen.py\", line 313, in load_image\n",
      "    image, _ = nrrd.read(image_path)\n",
      "  File \"/home/sopeeweje/.local/share/virtualenvs/bone_master-xLR2Nuxv/lib/python3.6/site-packages/nrrd/reader.py\", line 506, in read\n",
      "    with open(filename, 'rb') as fh:\n",
      "FileNotFoundError: [Errno 2] No such file or directory: '/home/sopeeweje/bone_master/data_dir/preprocessed/china040-t1c-imagingVolume.nrrd'\n",
      "\n",
      "\n",
      "################################################################################\n",
      "Exception occurred for: sort          -\n",
      "volume    0.603\n",
      "outcome   1.000\n",
      "Name: china026, dtype: object\n",
      "[Errno 2] No such file or directory: '/home/sopeeweje/bone_master/data_dir/preprocessed/china026-t1c-imagingVolume.nrrd'\n",
      "T1C image unavailable\n",
      "Traceback (most recent call last):\n",
      "  File \"/home/sopeeweje/bone_master/data_gen.py\", line 383, in generate_from_features\n",
      "    t1c_masked = load_image(t1c_image_file, t1c_seg_file, verbose=verbose)\n",
      "  File \"/home/sopeeweje/bone_master/data_gen.py\", line 313, in load_image\n",
      "    image, _ = nrrd.read(image_path)\n",
      "  File \"/home/sopeeweje/.local/share/virtualenvs/bone_master-xLR2Nuxv/lib/python3.6/site-packages/nrrd/reader.py\", line 506, in read\n",
      "    with open(filename, 'rb') as fh:\n",
      "FileNotFoundError: [Errno 2] No such file or directory: '/home/sopeeweje/bone_master/data_dir/preprocessed/china026-t1c-imagingVolume.nrrd'\n",
      "\n"
     ]
    },
    {
     "name": "stderr",
     "output_type": "stream",
     "text": [
      " 67%|██████▋   | 45/67 [00:07<00:03,  5.76it/s]"
     ]
    },
    {
     "name": "stdout",
     "output_type": "stream",
     "text": [
      "\n",
      "################################################################################\n",
      "Exception occurred for: sort          -\n",
      "volume    0.603\n",
      "outcome   1.000\n",
      "Name: chop-140, dtype: object\n",
      "[Errno 2] No such file or directory: '/home/sopeeweje/bone_master/data_dir/preprocessed/chop-140-t1c-imagingVolume.nrrd'\n",
      "T1C image unavailable\n",
      "Traceback (most recent call last):\n",
      "  File \"/home/sopeeweje/bone_master/data_gen.py\", line 383, in generate_from_features\n",
      "    t1c_masked = load_image(t1c_image_file, t1c_seg_file, verbose=verbose)\n",
      "  File \"/home/sopeeweje/bone_master/data_gen.py\", line 313, in load_image\n",
      "    image, _ = nrrd.read(image_path)\n",
      "  File \"/home/sopeeweje/.local/share/virtualenvs/bone_master-xLR2Nuxv/lib/python3.6/site-packages/nrrd/reader.py\", line 506, in read\n",
      "    with open(filename, 'rb') as fh:\n",
      "FileNotFoundError: [Errno 2] No such file or directory: '/home/sopeeweje/bone_master/data_dir/preprocessed/chop-140-t1c-imagingVolume.nrrd'\n",
      "\n"
     ]
    },
    {
     "name": "stderr",
     "output_type": "stream",
     "text": [
      " 76%|███████▌  | 51/67 [00:08<00:02,  5.51it/s]"
     ]
    },
    {
     "name": "stdout",
     "output_type": "stream",
     "text": [
      "\n",
      "################################################################################\n",
      "Exception occurred for: sort          -\n",
      "volume    0.603\n",
      "outcome   1.000\n",
      "Name: chop-113, dtype: object\n",
      "[Errno 2] No such file or directory: '/home/sopeeweje/bone_master/data_dir/preprocessed/chop-113-t1c-imagingVolume.nrrd'\n",
      "T1C image unavailable\n",
      "Traceback (most recent call last):\n",
      "  File \"/home/sopeeweje/bone_master/data_gen.py\", line 383, in generate_from_features\n",
      "    t1c_masked = load_image(t1c_image_file, t1c_seg_file, verbose=verbose)\n",
      "  File \"/home/sopeeweje/bone_master/data_gen.py\", line 313, in load_image\n",
      "    image, _ = nrrd.read(image_path)\n",
      "  File \"/home/sopeeweje/.local/share/virtualenvs/bone_master-xLR2Nuxv/lib/python3.6/site-packages/nrrd/reader.py\", line 506, in read\n",
      "    with open(filename, 'rb') as fh:\n",
      "FileNotFoundError: [Errno 2] No such file or directory: '/home/sopeeweje/bone_master/data_dir/preprocessed/chop-113-t1c-imagingVolume.nrrd'\n",
      "\n",
      "\n",
      "################################################################################\n",
      "Exception occurred for: sort          -\n",
      "volume    0.603\n",
      "outcome   1.000\n",
      "Name: china022, dtype: object\n",
      "[Errno 2] No such file or directory: '/home/sopeeweje/bone_master/data_dir/preprocessed/china022-t1c-imagingVolume.nrrd'\n",
      "T1C image unavailable\n",
      "Traceback (most recent call last):\n",
      "  File \"/home/sopeeweje/bone_master/data_gen.py\", line 383, in generate_from_features\n",
      "    t1c_masked = load_image(t1c_image_file, t1c_seg_file, verbose=verbose)\n",
      "  File \"/home/sopeeweje/bone_master/data_gen.py\", line 313, in load_image\n",
      "    image, _ = nrrd.read(image_path)\n",
      "  File \"/home/sopeeweje/.local/share/virtualenvs/bone_master-xLR2Nuxv/lib/python3.6/site-packages/nrrd/reader.py\", line 506, in read\n",
      "    with open(filename, 'rb') as fh:\n",
      "FileNotFoundError: [Errno 2] No such file or directory: '/home/sopeeweje/bone_master/data_dir/preprocessed/china022-t1c-imagingVolume.nrrd'\n",
      "\n"
     ]
    },
    {
     "name": "stderr",
     "output_type": "stream",
     "text": [
      " 82%|████████▏ | 55/67 [00:09<00:02,  5.85it/s]"
     ]
    },
    {
     "name": "stdout",
     "output_type": "stream",
     "text": [
      "\n",
      "################################################################################\n",
      "Exception occurred for: sort          -\n",
      "volume    0.603\n",
      "outcome   1.000\n",
      "Name: china031, dtype: object\n",
      "[Errno 2] No such file or directory: '/home/sopeeweje/bone_master/data_dir/preprocessed/china031-t1c-imagingVolume.nrrd'\n",
      "T1C image unavailable\n",
      "Traceback (most recent call last):\n",
      "  File \"/home/sopeeweje/bone_master/data_gen.py\", line 383, in generate_from_features\n",
      "    t1c_masked = load_image(t1c_image_file, t1c_seg_file, verbose=verbose)\n",
      "  File \"/home/sopeeweje/bone_master/data_gen.py\", line 313, in load_image\n",
      "    image, _ = nrrd.read(image_path)\n",
      "  File \"/home/sopeeweje/.local/share/virtualenvs/bone_master-xLR2Nuxv/lib/python3.6/site-packages/nrrd/reader.py\", line 506, in read\n",
      "    with open(filename, 'rb') as fh:\n",
      "FileNotFoundError: [Errno 2] No such file or directory: '/home/sopeeweje/bone_master/data_dir/preprocessed/china031-t1c-imagingVolume.nrrd'\n",
      "\n",
      "\n",
      "################################################################################\n",
      "Exception occurred for: sort          -\n",
      "volume    0.603\n",
      "outcome   1.000\n",
      "Name: china056, dtype: object\n",
      "[Errno 2] No such file or directory: '/home/sopeeweje/bone_master/data_dir/preprocessed/china056-t1c-imagingVolume.nrrd'\n",
      "T1C image unavailable\n",
      "Traceback (most recent call last):\n",
      "  File \"/home/sopeeweje/bone_master/data_gen.py\", line 383, in generate_from_features\n",
      "    t1c_masked = load_image(t1c_image_file, t1c_seg_file, verbose=verbose)\n",
      "  File \"/home/sopeeweje/bone_master/data_gen.py\", line 313, in load_image\n",
      "    image, _ = nrrd.read(image_path)\n",
      "  File \"/home/sopeeweje/.local/share/virtualenvs/bone_master-xLR2Nuxv/lib/python3.6/site-packages/nrrd/reader.py\", line 506, in read\n",
      "    with open(filename, 'rb') as fh:\n",
      "FileNotFoundError: [Errno 2] No such file or directory: '/home/sopeeweje/bone_master/data_dir/preprocessed/china056-t1c-imagingVolume.nrrd'\n",
      "\n"
     ]
    },
    {
     "name": "stderr",
     "output_type": "stream",
     "text": [
      " 87%|████████▋ | 58/67 [00:09<00:01,  6.25it/s]"
     ]
    },
    {
     "name": "stdout",
     "output_type": "stream",
     "text": [
      "\n",
      "################################################################################\n",
      "Exception occurred for: sort          -\n",
      "volume    0.604\n",
      "outcome   1.000\n",
      "Name: penn-019, dtype: object\n",
      "[Errno 2] No such file or directory: '/home/sopeeweje/bone_master/data_dir/preprocessed/penn-019-t1c-imagingVolume.nrrd'\n",
      "T1C image unavailable\n",
      "Traceback (most recent call last):\n",
      "  File \"/home/sopeeweje/bone_master/data_gen.py\", line 383, in generate_from_features\n",
      "    t1c_masked = load_image(t1c_image_file, t1c_seg_file, verbose=verbose)\n",
      "  File \"/home/sopeeweje/bone_master/data_gen.py\", line 313, in load_image\n",
      "    image, _ = nrrd.read(image_path)\n",
      "  File \"/home/sopeeweje/.local/share/virtualenvs/bone_master-xLR2Nuxv/lib/python3.6/site-packages/nrrd/reader.py\", line 506, in read\n",
      "    with open(filename, 'rb') as fh:\n",
      "FileNotFoundError: [Errno 2] No such file or directory: '/home/sopeeweje/bone_master/data_dir/preprocessed/penn-019-t1c-imagingVolume.nrrd'\n",
      "\n",
      "\n",
      "################################################################################\n",
      "Exception occurred for: sort          -\n",
      "volume    0.603\n",
      "outcome   1.000\n",
      "Name: penn-011, dtype: object\n",
      "[Errno 2] No such file or directory: '/home/sopeeweje/bone_master/data_dir/preprocessed/penn-011-t1c-imagingVolume.nrrd'\n",
      "T1C image unavailable\n",
      "Traceback (most recent call last):\n",
      "  File \"/home/sopeeweje/bone_master/data_gen.py\", line 383, in generate_from_features\n",
      "    t1c_masked = load_image(t1c_image_file, t1c_seg_file, verbose=verbose)\n",
      "  File \"/home/sopeeweje/bone_master/data_gen.py\", line 313, in load_image\n",
      "    image, _ = nrrd.read(image_path)\n",
      "  File \"/home/sopeeweje/.local/share/virtualenvs/bone_master-xLR2Nuxv/lib/python3.6/site-packages/nrrd/reader.py\", line 506, in read\n",
      "    with open(filename, 'rb') as fh:\n",
      "FileNotFoundError: [Errno 2] No such file or directory: '/home/sopeeweje/bone_master/data_dir/preprocessed/penn-011-t1c-imagingVolume.nrrd'\n",
      "\n",
      "\n",
      "################################################################################\n",
      "Exception occurred for: sort          -\n",
      "volume    0.603\n",
      "outcome   1.000\n",
      "Name: china102, dtype: object\n",
      "[Errno 2] No such file or directory: '/home/sopeeweje/bone_master/data_dir/preprocessed/china102-t1-imagingVolume.nrrd'\n",
      "T1 image unavailable\n",
      "Traceback (most recent call last):\n",
      "  File \"/home/sopeeweje/bone_master/data_gen.py\", line 357, in generate_from_features\n",
      "    t1_masked = load_image(t1_image_file, t1_seg_file, verbose=verbose)\n",
      "  File \"/home/sopeeweje/bone_master/data_gen.py\", line 313, in load_image\n",
      "    image, _ = nrrd.read(image_path)\n",
      "  File \"/home/sopeeweje/.local/share/virtualenvs/bone_master-xLR2Nuxv/lib/python3.6/site-packages/nrrd/reader.py\", line 506, in read\n",
      "    with open(filename, 'rb') as fh:\n",
      "FileNotFoundError: [Errno 2] No such file or directory: '/home/sopeeweje/bone_master/data_dir/preprocessed/china102-t1-imagingVolume.nrrd'\n",
      "\n",
      "\n",
      "################################################################################\n",
      "Exception occurred for: sort          -\n",
      "volume    0.603\n",
      "outcome   1.000\n",
      "Name: chop-112, dtype: object\n",
      "[Errno 2] No such file or directory: '/home/sopeeweje/bone_master/data_dir/preprocessed/chop-112-t1-imagingVolume.nrrd'\n",
      "T1 image unavailable\n",
      "Traceback (most recent call last):\n",
      "  File \"/home/sopeeweje/bone_master/data_gen.py\", line 357, in generate_from_features\n",
      "    t1_masked = load_image(t1_image_file, t1_seg_file, verbose=verbose)\n",
      "  File \"/home/sopeeweje/bone_master/data_gen.py\", line 313, in load_image\n",
      "    image, _ = nrrd.read(image_path)\n",
      "  File \"/home/sopeeweje/.local/share/virtualenvs/bone_master-xLR2Nuxv/lib/python3.6/site-packages/nrrd/reader.py\", line 506, in read\n",
      "    with open(filename, 'rb') as fh:\n",
      "FileNotFoundError: [Errno 2] No such file or directory: '/home/sopeeweje/bone_master/data_dir/preprocessed/chop-112-t1-imagingVolume.nrrd'\n",
      "\n"
     ]
    },
    {
     "name": "stderr",
     "output_type": "stream",
     "text": [
      "\r",
      " 91%|█████████ | 61/67 [00:09<00:00,  7.88it/s]"
     ]
    },
    {
     "name": "stdout",
     "output_type": "stream",
     "text": [
      "\n",
      "################################################################################\n",
      "Exception occurred for: sort          -\n",
      "volume    0.603\n",
      "outcome   1.000\n",
      "Name: china057, dtype: object\n",
      "[Errno 2] No such file or directory: '/home/sopeeweje/bone_master/data_dir/preprocessed/china057-t1c-imagingVolume.nrrd'\n",
      "T1C image unavailable\n",
      "Traceback (most recent call last):\n",
      "  File \"/home/sopeeweje/bone_master/data_gen.py\", line 383, in generate_from_features\n",
      "    t1c_masked = load_image(t1c_image_file, t1c_seg_file, verbose=verbose)\n",
      "  File \"/home/sopeeweje/bone_master/data_gen.py\", line 313, in load_image\n",
      "    image, _ = nrrd.read(image_path)\n",
      "  File \"/home/sopeeweje/.local/share/virtualenvs/bone_master-xLR2Nuxv/lib/python3.6/site-packages/nrrd/reader.py\", line 506, in read\n",
      "    with open(filename, 'rb') as fh:\n",
      "FileNotFoundError: [Errno 2] No such file or directory: '/home/sopeeweje/bone_master/data_dir/preprocessed/china057-t1c-imagingVolume.nrrd'\n",
      "\n"
     ]
    },
    {
     "name": "stderr",
     "output_type": "stream",
     "text": [
      "100%|██████████| 67/67 [00:10<00:00,  6.21it/s]\n",
      "  6%|▌         | 2/33 [00:00<00:03, 10.31it/s]"
     ]
    },
    {
     "name": "stdout",
     "output_type": "stream",
     "text": [
      "\n",
      "################################################################################\n",
      "Exception occurred for: sort          -\n",
      "volume    0.603\n",
      "outcome   0.000\n",
      "Name: penn-008, dtype: object\n",
      "[Errno 2] No such file or directory: '/home/sopeeweje/bone_master/data_dir/preprocessed/penn-008-t1-imagingVolume.nrrd'\n",
      "T1 image unavailable\n",
      "Traceback (most recent call last):\n",
      "  File \"/home/sopeeweje/bone_master/data_gen.py\", line 357, in generate_from_features\n",
      "    t1_masked = load_image(t1_image_file, t1_seg_file, verbose=verbose)\n",
      "  File \"/home/sopeeweje/bone_master/data_gen.py\", line 313, in load_image\n",
      "    image, _ = nrrd.read(image_path)\n",
      "  File \"/home/sopeeweje/.local/share/virtualenvs/bone_master-xLR2Nuxv/lib/python3.6/site-packages/nrrd/reader.py\", line 506, in read\n",
      "    with open(filename, 'rb') as fh:\n",
      "FileNotFoundError: [Errno 2] No such file or directory: '/home/sopeeweje/bone_master/data_dir/preprocessed/penn-008-t1-imagingVolume.nrrd'\n",
      "\n",
      "\n",
      "################################################################################\n",
      "Exception occurred for: sort          -\n",
      "volume    0.603\n",
      "outcome   0.000\n",
      "Name: chop-81, dtype: object\n",
      "[Errno 2] No such file or directory: '/home/sopeeweje/bone_master/data_dir/preprocessed/chop-81-t1c-imagingVolume.nrrd'\n",
      "T1C image unavailable\n",
      "Traceback (most recent call last):\n",
      "  File \"/home/sopeeweje/bone_master/data_gen.py\", line 383, in generate_from_features\n",
      "    t1c_masked = load_image(t1c_image_file, t1c_seg_file, verbose=verbose)\n",
      "  File \"/home/sopeeweje/bone_master/data_gen.py\", line 313, in load_image\n",
      "    image, _ = nrrd.read(image_path)\n",
      "  File \"/home/sopeeweje/.local/share/virtualenvs/bone_master-xLR2Nuxv/lib/python3.6/site-packages/nrrd/reader.py\", line 506, in read\n",
      "    with open(filename, 'rb') as fh:\n",
      "FileNotFoundError: [Errno 2] No such file or directory: '/home/sopeeweje/bone_master/data_dir/preprocessed/chop-81-t1c-imagingVolume.nrrd'\n",
      "\n"
     ]
    },
    {
     "name": "stderr",
     "output_type": "stream",
     "text": [
      " 15%|█▌        | 5/33 [00:00<00:02,  9.92it/s]"
     ]
    },
    {
     "name": "stdout",
     "output_type": "stream",
     "text": [
      "\n",
      "################################################################################\n",
      "Exception occurred for: sort          -\n",
      "volume    0.603\n",
      "outcome   0.000\n",
      "Name: chop-70, dtype: object\n",
      "[Errno 2] No such file or directory: '/home/sopeeweje/bone_master/data_dir/preprocessed/chop-70-t1c-imagingVolume.nrrd'\n",
      "T1C image unavailable\n",
      "Traceback (most recent call last):\n",
      "  File \"/home/sopeeweje/bone_master/data_gen.py\", line 383, in generate_from_features\n",
      "    t1c_masked = load_image(t1c_image_file, t1c_seg_file, verbose=verbose)\n",
      "  File \"/home/sopeeweje/bone_master/data_gen.py\", line 313, in load_image\n",
      "    image, _ = nrrd.read(image_path)\n",
      "  File \"/home/sopeeweje/.local/share/virtualenvs/bone_master-xLR2Nuxv/lib/python3.6/site-packages/nrrd/reader.py\", line 506, in read\n",
      "    with open(filename, 'rb') as fh:\n",
      "FileNotFoundError: [Errno 2] No such file or directory: '/home/sopeeweje/bone_master/data_dir/preprocessed/chop-70-t1c-imagingVolume.nrrd'\n",
      "\n"
     ]
    },
    {
     "name": "stderr",
     "output_type": "stream",
     "text": [
      " 27%|██▋       | 9/33 [00:01<00:04,  5.22it/s]"
     ]
    },
    {
     "name": "stdout",
     "output_type": "stream",
     "text": [
      "\n",
      "################################################################################\n",
      "Exception occurred for: sort          -\n",
      "volume    0.603\n",
      "outcome   0.000\n",
      "Name: chop-34, dtype: object\n",
      "[Errno 2] No such file or directory: '/home/sopeeweje/bone_master/data_dir/preprocessed/chop-34-t1c-imagingVolume.nrrd'\n",
      "T1C image unavailable\n",
      "Traceback (most recent call last):\n",
      "  File \"/home/sopeeweje/bone_master/data_gen.py\", line 383, in generate_from_features\n",
      "    t1c_masked = load_image(t1c_image_file, t1c_seg_file, verbose=verbose)\n",
      "  File \"/home/sopeeweje/bone_master/data_gen.py\", line 313, in load_image\n",
      "    image, _ = nrrd.read(image_path)\n",
      "  File \"/home/sopeeweje/.local/share/virtualenvs/bone_master-xLR2Nuxv/lib/python3.6/site-packages/nrrd/reader.py\", line 506, in read\n",
      "    with open(filename, 'rb') as fh:\n",
      "FileNotFoundError: [Errno 2] No such file or directory: '/home/sopeeweje/bone_master/data_dir/preprocessed/chop-34-t1c-imagingVolume.nrrd'\n",
      "\n"
     ]
    },
    {
     "name": "stderr",
     "output_type": "stream",
     "text": [
      " 52%|█████▏    | 17/33 [00:03<00:03,  4.55it/s]"
     ]
    },
    {
     "name": "stdout",
     "output_type": "stream",
     "text": [
      "\n",
      "################################################################################\n",
      "Exception occurred for: sort          -\n",
      "volume    0.603\n",
      "outcome   1.000\n",
      "Name: penn-037, dtype: object\n",
      "[Errno 2] No such file or directory: '/home/sopeeweje/bone_master/data_dir/preprocessed/penn-037-t1-imagingVolume.nrrd'\n",
      "T1 image unavailable\n",
      "Traceback (most recent call last):\n",
      "  File \"/home/sopeeweje/bone_master/data_gen.py\", line 357, in generate_from_features\n",
      "    t1_masked = load_image(t1_image_file, t1_seg_file, verbose=verbose)\n",
      "  File \"/home/sopeeweje/bone_master/data_gen.py\", line 313, in load_image\n",
      "    image, _ = nrrd.read(image_path)\n",
      "  File \"/home/sopeeweje/.local/share/virtualenvs/bone_master-xLR2Nuxv/lib/python3.6/site-packages/nrrd/reader.py\", line 506, in read\n",
      "    with open(filename, 'rb') as fh:\n",
      "FileNotFoundError: [Errno 2] No such file or directory: '/home/sopeeweje/bone_master/data_dir/preprocessed/penn-037-t1-imagingVolume.nrrd'\n",
      "\n"
     ]
    },
    {
     "name": "stderr",
     "output_type": "stream",
     "text": [
      " 82%|████████▏ | 27/33 [00:05<00:01,  3.49it/s]"
     ]
    },
    {
     "name": "stdout",
     "output_type": "stream",
     "text": [
      "\n",
      "################################################################################\n",
      "Exception occurred for: sort          -\n",
      "volume    0.605\n",
      "outcome   1.000\n",
      "Name: china098, dtype: object\n",
      "[Errno 2] No such file or directory: '/home/sopeeweje/bone_master/data_dir/preprocessed/china098-t1-imagingVolume.nrrd'\n",
      "T1 image unavailable\n",
      "Traceback (most recent call last):\n",
      "  File \"/home/sopeeweje/bone_master/data_gen.py\", line 357, in generate_from_features\n",
      "    t1_masked = load_image(t1_image_file, t1_seg_file, verbose=verbose)\n",
      "  File \"/home/sopeeweje/bone_master/data_gen.py\", line 313, in load_image\n",
      "    image, _ = nrrd.read(image_path)\n",
      "  File \"/home/sopeeweje/.local/share/virtualenvs/bone_master-xLR2Nuxv/lib/python3.6/site-packages/nrrd/reader.py\", line 506, in read\n",
      "    with open(filename, 'rb') as fh:\n",
      "FileNotFoundError: [Errno 2] No such file or directory: '/home/sopeeweje/bone_master/data_dir/preprocessed/china098-t1-imagingVolume.nrrd'\n",
      "\n"
     ]
    },
    {
     "name": "stderr",
     "output_type": "stream",
     "text": [
      "100%|██████████| 33/33 [00:06<00:00,  4.80it/s]\n"
     ]
    }
   ],
   "source": [
    "train, validation, test = data(seed=uuid.UUID(result.split_seed), label_form=result.label_form, input_form=result.input_form, train_shuffle=False, test_shuffle=False, validation_shuffle=False, train_augment=False, validation_augment=False, test_augment=False)"
   ]
  },
  {
   "cell_type": "code",
   "execution_count": 14,
   "metadata": {
    "scrolled": true
   },
   "outputs": [
    {
     "name": "stdout",
     "output_type": "stream",
     "text": [
      "training N: 154\n",
      "validation N: 39\n",
      "test N: 27\n",
      "['china120', 'chop-28', 'penn-041', 'chop-2', 'chop-19', 'china020', 'penn-015', 'china093', 'china156', 'chop-138', 'china107', 'chop-69', 'chop-33', 'chop-117', 'china155', 'chop-121', 'penn-014', 'penn-058', 'china123', 'penn-053', 'china082', 'china115', 'penn-084', 'china108', 'chop-118', 'chop-92', 'china013']\n",
      "[0.0, 0.0, 0.0, 0.0, 0.0, 0.0, 0.0, 0.0, 0.0, 0.0, 0.0, 0.0, 0.0, 1.0, 1.0, 1.0, 1.0, 1.0, 1.0, 1.0, 1.0, 1.0, 1.0, 1.0, 1.0, 1.0, 1.0]\n"
     ]
    }
   ],
   "source": [
    "print(\"training N:\", len(train))\n",
    "print(\"validation N:\", len(validation))\n",
    "print(\"test N:\", len(test))\n",
    "print(test.names)\n",
    "print(test.labels)"
   ]
  },
  {
   "cell_type": "code",
   "execution_count": 15,
   "metadata": {},
   "outputs": [
    {
     "name": "stdout",
     "output_type": "stream",
     "text": [
      "training 1.0: 83\n",
      "validation 1.0: 20\n",
      "test 1.0: 14\n"
     ]
    }
   ],
   "source": [
    "class_inv = {v: k for k, v in train.class_indices.items()}\n",
    "print(\"training {}:\".format(class_inv[1]), sum(train.classes))\n",
    "print(\"validation {}:\".format(class_inv[1]), sum(validation.classes))\n",
    "print(\"test {}:\".format(class_inv[1]), sum(test.classes))"
   ]
  },
  {
   "cell_type": "code",
   "execution_count": 18,
   "metadata": {},
   "outputs": [
    {
     "name": "stdout",
     "output_type": "stream",
     "text": [
      "WARNING:tensorflow:From /home/sopeeweje/.local/share/virtualenvs/bone_master-xLR2Nuxv/lib/python3.6/site-packages/tensorflow/python/ops/nn_impl.py:180: add_dispatch_support.<locals>.wrapper (from tensorflow.python.ops.array_ops) is deprecated and will be removed in a future version.\n",
      "Instructions for updating:\n",
      "Use tf.where in 2.0, which has the same broadcast rule as np.where\n"
     ]
    },
    {
     "name": "stderr",
     "output_type": "stream",
     "text": [
      "WARNING:tensorflow:From /home/sopeeweje/.local/share/virtualenvs/bone_master-xLR2Nuxv/lib/python3.6/site-packages/tensorflow/python/ops/nn_impl.py:180: add_dispatch_support.<locals>.wrapper (from tensorflow.python.ops.array_ops) is deprecated and will be removed in a future version.\n",
      "Instructions for updating:\n",
      "Use tf.where in 2.0, which has the same broadcast rule as np.where\n"
     ]
    },
    {
     "name": "stdout",
     "output_type": "stream",
     "text": [
      "WARNING:tensorflow:From /home/sopeeweje/.local/share/virtualenvs/bone_master-xLR2Nuxv/lib/python3.6/site-packages/keras/backend/tensorflow_backend.py:422: The name tf.global_variables is deprecated. Please use tf.compat.v1.global_variables instead.\n",
      "\n"
     ]
    },
    {
     "name": "stderr",
     "output_type": "stream",
     "text": [
      "WARNING:tensorflow:From /home/sopeeweje/.local/share/virtualenvs/bone_master-xLR2Nuxv/lib/python3.6/site-packages/keras/backend/tensorflow_backend.py:422: The name tf.global_variables is deprecated. Please use tf.compat.v1.global_variables instead.\n",
      "\n"
     ]
    }
   ],
   "source": [
    "model = load(MODEL)"
   ]
  },
  {
   "cell_type": "code",
   "execution_count": 19,
   "metadata": {},
   "outputs": [
    {
     "data": {
      "text/plain": [
       "<keras.engine.training.Model at 0x7fcc0634a748>"
      ]
     },
     "execution_count": 19,
     "metadata": {},
     "output_type": "execute_result"
    }
   ],
   "source": [
    "model"
   ]
  },
  {
   "cell_type": "markdown",
   "metadata": {},
   "source": [
    "# Train"
   ]
  },
  {
   "cell_type": "code",
   "execution_count": 15,
   "metadata": {},
   "outputs": [],
   "source": [
    "results = get_results(model, train)"
   ]
  },
  {
   "cell_type": "code",
   "execution_count": 16,
   "metadata": {
    "scrolled": false
   },
   "outputs": [
    {
     "data": {
      "application/papermill.record+json": {
       "train_labels": [
        0,
        0,
        0,
        0,
        0,
        0,
        0,
        0,
        0,
        0,
        0,
        0,
        0,
        0,
        0,
        0,
        0,
        0,
        0,
        0,
        0,
        0,
        0,
        0,
        0,
        0,
        0,
        0,
        0,
        0,
        0,
        0,
        0,
        0,
        0,
        0,
        0,
        0,
        0,
        0,
        0,
        0,
        0,
        0,
        0,
        0,
        0,
        0,
        0,
        0,
        0,
        0,
        0,
        0,
        0,
        0,
        0,
        0,
        0,
        0,
        0,
        0,
        0,
        0,
        0,
        0,
        0,
        0,
        0,
        1,
        1,
        1,
        1,
        1,
        1,
        1,
        1,
        1,
        1,
        1,
        1,
        1,
        1,
        1,
        1,
        1,
        1,
        1,
        1,
        1,
        1,
        1,
        1,
        1,
        1,
        1,
        1,
        1,
        1,
        1,
        1,
        1,
        1,
        1,
        1,
        1,
        1,
        1,
        1,
        1,
        1,
        1,
        1,
        1,
        1,
        1,
        1,
        1,
        1,
        1,
        1,
        1,
        1,
        1,
        1,
        1,
        1,
        1,
        1,
        1,
        1,
        1,
        1,
        1,
        1,
        1,
        1,
        1,
        1,
        1,
        1,
        1,
        1,
        1,
        1,
        1,
        1,
        1,
        1,
        1,
        1,
        1,
        0,
        0
       ]
      }
     },
     "metadata": {},
     "output_type": "display_data"
    },
    {
     "data": {
      "application/papermill.record+json": {
       "train_probabilities": [
        0.07534494996070862,
        0.058029115200042725,
        0.03684103488922119,
        0.011327892541885376,
        0.20190271735191345,
        0.06413006782531738,
        0.02386552095413208,
        0.10729730129241943,
        0.051671236753463745,
        0.026309609413146973,
        0.017413198947906494,
        0.060989588499069214,
        0.05006366968154907,
        0.021339893341064453,
        0.0364966094493866,
        0.0627918541431427,
        0.02254435420036316,
        0.08209991455078125,
        0.09891700744628906,
        0.04987725615501404,
        0.012223660945892334,
        0.02343079447746277,
        0.05100110173225403,
        0.07924202084541321,
        0.04110082983970642,
        0.05245324969291687,
        0.03300091624259949,
        0.33418530225753784,
        0.04886496067047119,
        0.06044119596481323,
        0.04457905888557434,
        0.014204978942871094,
        0.05362659692764282,
        0.0908530056476593,
        0.1121758222579956,
        0.047808945178985596,
        0.029042482376098633,
        0.08406782150268555,
        0.06169310212135315,
        0.05561274290084839,
        0.053249359130859375,
        0.029558897018432617,
        0.047180742025375366,
        0.018858402967453003,
        0.02550286054611206,
        0.025067180395126343,
        0.027640730142593384,
        0.0625954270362854,
        0.0228615403175354,
        0.06636756658554077,
        0.04414483904838562,
        0.0576191246509552,
        0.03129541873931885,
        0.039685338735580444,
        0.04228520393371582,
        0.01798957586288452,
        0.1534673273563385,
        0.07064193487167358,
        0.02539193630218506,
        0.017419159412384033,
        0.030179738998413086,
        0.03642931580543518,
        0.03888598084449768,
        0.05760163068771362,
        0.01982051134109497,
        0.05862152576446533,
        0.0217016339302063,
        0.07583731412887573,
        0.057700932025909424,
        0.8933975100517273,
        0.9005163908004761,
        0.9040036797523499,
        0.8780863285064697,
        0.9032949209213257,
        0.8707882165908813,
        0.8620083332061768,
        0.8856894373893738,
        0.8896081447601318,
        0.8965662717819214,
        0.9053857326507568,
        0.9068158864974976,
        0.8876162171363831,
        0.8992769718170166,
        0.9088084697723389,
        0.883428692817688,
        0.9047961235046387,
        0.8965483903884888,
        0.8990991711616516,
        0.9007501602172852,
        0.8996968269348145,
        0.8918191194534302,
        0.8947168588638306,
        0.8815463781356812,
        0.8938161134719849,
        0.901306688785553,
        0.8886681795120239,
        0.8992305994033813,
        0.9003191590309143,
        0.8977797031402588,
        0.8874863386154175,
        0.8985655307769775,
        0.8914849758148193,
        0.8781811594963074,
        0.8887360095977783,
        0.8929906487464905,
        0.8995565176010132,
        0.8993125557899475,
        0.8921525478363037,
        0.8931028246879578,
        0.9027756452560425,
        0.8974131345748901,
        0.8497354984283447,
        0.8947991728782654,
        0.8954215049743652,
        0.9078513383865356,
        0.886391282081604,
        0.899879515171051,
        0.8525047898292542,
        0.9068371057510376,
        0.8983292579650879,
        0.8966875076293945,
        0.8925129175186157,
        0.9037050008773804,
        0.8728634119033813,
        0.9033428430557251,
        0.8755742311477661,
        0.9070626497268677,
        0.9004367589950562,
        0.8852705359458923,
        0.9090148210525513,
        0.9008907079696655,
        0.8803775310516357,
        0.9028940200805664,
        0.8986884355545044,
        0.8940721750259399,
        0.8975936770439148,
        0.8920215368270874,
        0.9050278663635254,
        0.8299203515052795,
        0.8992776870727539,
        0.8966901302337646,
        0.8996762037277222,
        0.8931565284729004,
        0.8604833483695984,
        0.8905562162399292,
        0.8939545750617981,
        0.8367648124694824,
        0.8965963125228882,
        0.8851208090782166,
        0.9023114442825317,
        0.8991826772689819,
        0.7703984379768372,
        0.0894436240196228,
        0.052973341196775436
       ]
      }
     },
     "metadata": {},
     "output_type": "display_data"
    },
    {
     "data": {
      "application/papermill.record+json": {
       "train_predictions": [
        0,
        0,
        0,
        0,
        0,
        0,
        0,
        0,
        0,
        0,
        0,
        0,
        0,
        0,
        0,
        0,
        0,
        0,
        0,
        0,
        0,
        0,
        0,
        0,
        0,
        0,
        0,
        0,
        0,
        0,
        0,
        0,
        0,
        0,
        0,
        0,
        0,
        0,
        0,
        0,
        0,
        0,
        0,
        0,
        0,
        0,
        0,
        0,
        0,
        0,
        0,
        0,
        0,
        0,
        0,
        0,
        0,
        0,
        0,
        0,
        0,
        0,
        0,
        0,
        0,
        0,
        0,
        0,
        0,
        1,
        1,
        1,
        1,
        1,
        1,
        1,
        1,
        1,
        1,
        1,
        1,
        1,
        1,
        1,
        1,
        1,
        1,
        1,
        1,
        1,
        1,
        1,
        1,
        1,
        1,
        1,
        1,
        1,
        1,
        1,
        1,
        1,
        1,
        1,
        1,
        1,
        1,
        1,
        1,
        1,
        1,
        1,
        1,
        1,
        1,
        1,
        1,
        1,
        1,
        1,
        1,
        1,
        1,
        1,
        1,
        1,
        1,
        1,
        1,
        1,
        1,
        1,
        1,
        1,
        1,
        1,
        1,
        1,
        1,
        1,
        1,
        1,
        1,
        1,
        1,
        1,
        1,
        1,
        1,
        1,
        1,
        1,
        0,
        0
       ]
      }
     },
     "metadata": {},
     "output_type": "display_data"
    }
   ],
   "source": [
    "probabilities = transform_binary_probabilities(results)\n",
    "predictions = transform_binary_predictions(results)\n",
    "labels = get_labels(train)\n",
    "pm.record(\"train_labels\", list(labels))\n",
    "pm.record(\"train_probabilities\", list(probabilities))\n",
    "pm.record(\"train_predictions\", list(predictions))"
   ]
  },
  {
   "cell_type": "markdown",
   "metadata": {},
   "source": [
    "## Train statistics"
   ]
  },
  {
   "cell_type": "code",
   "execution_count": 17,
   "metadata": {},
   "outputs": [
    {
     "name": "stdout",
     "output_type": "stream",
     "text": [
      "Accuracy: 1.0\n",
      "Loss: 4.629478454589844\n"
     ]
    },
    {
     "data": {
      "text/html": [
       "<div>\n",
       "<style scoped>\n",
       "    .dataframe tbody tr th:only-of-type {\n",
       "        vertical-align: middle;\n",
       "    }\n",
       "\n",
       "    .dataframe tbody tr th {\n",
       "        vertical-align: top;\n",
       "    }\n",
       "\n",
       "    .dataframe thead th {\n",
       "        text-align: right;\n",
       "    }\n",
       "</style>\n",
       "<table border=\"1\" class=\"dataframe\">\n",
       "  <thead>\n",
       "    <tr style=\"text-align: right;\">\n",
       "      <th></th>\n",
       "      <th>Acc</th>\n",
       "      <th>TP</th>\n",
       "      <th>TN</th>\n",
       "      <th>FP</th>\n",
       "      <th>FN</th>\n",
       "      <th>TPR</th>\n",
       "      <th>TNR</th>\n",
       "      <th>PPV</th>\n",
       "      <th>NPV</th>\n",
       "      <th>FPR</th>\n",
       "      <th>FNR</th>\n",
       "      <th>FDR</th>\n",
       "      <th>AM</th>\n",
       "      <th>GM</th>\n",
       "    </tr>\n",
       "  </thead>\n",
       "  <tbody>\n",
       "    <tr>\n",
       "      <th>0.000</th>\n",
       "      <td>1.000</td>\n",
       "      <td>71</td>\n",
       "      <td>83</td>\n",
       "      <td>0</td>\n",
       "      <td>0</td>\n",
       "      <td>1.000</td>\n",
       "      <td>1.000</td>\n",
       "      <td>1.000</td>\n",
       "      <td>1.000</td>\n",
       "      <td>0.000</td>\n",
       "      <td>0.000</td>\n",
       "      <td>0.000</td>\n",
       "      <td>1.000</td>\n",
       "      <td>1.000</td>\n",
       "    </tr>\n",
       "    <tr>\n",
       "      <th>1.000</th>\n",
       "      <td>1.000</td>\n",
       "      <td>83</td>\n",
       "      <td>71</td>\n",
       "      <td>0</td>\n",
       "      <td>0</td>\n",
       "      <td>1.000</td>\n",
       "      <td>1.000</td>\n",
       "      <td>1.000</td>\n",
       "      <td>1.000</td>\n",
       "      <td>0.000</td>\n",
       "      <td>0.000</td>\n",
       "      <td>0.000</td>\n",
       "      <td>1.000</td>\n",
       "      <td>1.000</td>\n",
       "    </tr>\n",
       "  </tbody>\n",
       "</table>\n",
       "</div>"
      ],
      "text/plain": [
       "        Acc  TP  TN  FP  FN   TPR   TNR   PPV   NPV   FPR   FNR   FDR    AM  \\\n",
       "0.000 1.000  71  83   0   0 1.000 1.000 1.000 1.000 0.000 0.000 0.000 1.000   \n",
       "1.000 1.000  83  71   0   0 1.000 1.000 1.000 1.000 0.000 0.000 0.000 1.000   \n",
       "\n",
       "         GM  \n",
       "0.000 1.000  \n",
       "1.000 1.000  "
      ]
     },
     "execution_count": 17,
     "metadata": {},
     "output_type": "execute_result"
    }
   ],
   "source": [
    "loss, accuracy = calculate_accuracy_loss(model, train)\n",
    "print(\"Accuracy:\", accuracy)\n",
    "print(\"Loss:\", loss)\n",
    "stats = calculate_confusion_matrix_stats(labels, results)\n",
    "pandas.DataFrame(stats, index=train.class_indices)"
   ]
  },
  {
   "cell_type": "markdown",
   "metadata": {},
   "source": [
    "## Train confusion matrix"
   ]
  },
  {
   "cell_type": "code",
   "execution_count": 18,
   "metadata": {},
   "outputs": [
    {
     "data": {
      "image/png": "[encoded data removed]",
      "text/plain": [
       "<Figure size 432x288 with 2 Axes>"
      ]
     },
     "metadata": {},
     "output_type": "display_data"
    }
   ],
   "source": [
    "fig = plot_confusion_matrix(train, results)\n",
    "fig.savefig(\"figures/{}-{}-train-confusion-matrix.svg\".format(result.description, result.input_form), bbox_inches = \"tight\")"
   ]
  },
  {
   "cell_type": "markdown",
   "metadata": {},
   "source": [
    "## Train ROC curve"
   ]
  },
  {
   "cell_type": "code",
   "execution_count": 19,
   "metadata": {},
   "outputs": [
    {
     "name": "stderr",
     "output_type": "stream",
     "text": [
      "No handles with labels found to put in legend.\n"
     ]
    },
    {
     "data": {
      "image/png": "[encoded data removed]",
      "text/plain": [
       "<Figure size 432x288 with 1 Axes>"
      ]
     },
     "metadata": {},
     "output_type": "display_data"
    }
   ],
   "source": [
    "fig = plot_roc_curve(labels, probabilities)\n",
    "fig.savefig(\"figures/{}-{}-train-ROC-curve.svg\".format(result.description, result.input_form), bbox_inches = \"tight\")"
   ]
  },
  {
   "cell_type": "markdown",
   "metadata": {},
   "source": [
    "## Train precision-recall curve"
   ]
  },
  {
   "cell_type": "code",
   "execution_count": 20,
   "metadata": {},
   "outputs": [
    {
     "data": {
      "image/png": "[encoded data removed]",
      "text/plain": [
       "<Figure size 432x288 with 1 Axes>"
      ]
     },
     "metadata": {},
     "output_type": "display_data"
    }
   ],
   "source": [
    "fig = plot_precision_recall(labels, results)\n",
    "fig.savefig(\"figures/{}-{}-train-precisionrecall-curve.svg\".format(result.description, result.input_form), bbox_inches = \"tight\")"
   ]
  },
  {
   "cell_type": "markdown",
   "metadata": {},
   "source": [
    "# Validation"
   ]
  },
  {
   "cell_type": "code",
   "execution_count": 21,
   "metadata": {},
   "outputs": [],
   "source": [
    "results = get_results(model, validation)"
   ]
  },
  {
   "cell_type": "code",
   "execution_count": 22,
   "metadata": {
    "scrolled": false
   },
   "outputs": [
    {
     "data": {
      "application/papermill.record+json": {
       "validation_labels": [
        0,
        0,
        0,
        0,
        0,
        0,
        0,
        0,
        0,
        0,
        0,
        0,
        0,
        0,
        0,
        0,
        0,
        0,
        0,
        1,
        1,
        1,
        1,
        1,
        1,
        1,
        1,
        1,
        1,
        1,
        1,
        1,
        1,
        1,
        1,
        1,
        1,
        1,
        1
       ]
      }
     },
     "metadata": {},
     "output_type": "display_data"
    },
    {
     "data": {
      "application/papermill.record+json": {
       "validation_probabilities": [
        0.026631295680999756,
        0.2665981352329254,
        0.871160626411438,
        0.8804084062576294,
        0.04910871386528015,
        0.8024498820304871,
        0.6868462562561035,
        0.2874135673046112,
        0.8998968005180359,
        0.7683954834938049,
        0.8478978872299194,
        0.7314966917037964,
        0.8946566581726074,
        0.851472020149231,
        0.6775672435760498,
        0.34294313192367554,
        0.0774608850479126,
        0.6147304177284241,
        0.32917529344558716,
        0.6719300746917725,
        0.6777743101119995,
        0.7374852895736694,
        0.06361442804336548,
        0.861606240272522,
        0.8540875911712646,
        0.7273282408714294,
        0.8264378309249878,
        0.42412272095680237,
        0.09293350577354431,
        0.7109308838844299,
        0.8881994485855103,
        0.8679614067077637,
        0.9030348658561707,
        0.6938639879226685,
        0.6856662034988403,
        0.8999201059341431,
        0.8590784668922424,
        0.68257737159729,
        0.863930881023407
       ]
      }
     },
     "metadata": {},
     "output_type": "display_data"
    },
    {
     "data": {
      "application/papermill.record+json": {
       "validation_predictions": [
        0,
        0,
        1,
        1,
        0,
        1,
        1,
        0,
        1,
        1,
        1,
        1,
        1,
        1,
        1,
        0,
        0,
        1,
        0,
        1,
        1,
        1,
        0,
        1,
        1,
        1,
        1,
        0,
        0,
        1,
        1,
        1,
        1,
        1,
        1,
        1,
        1,
        1,
        1
       ]
      }
     },
     "metadata": {},
     "output_type": "display_data"
    }
   ],
   "source": [
    "probabilities = transform_binary_probabilities(results)\n",
    "predictions = transform_binary_predictions(results)\n",
    "labels = get_labels(validation)\n",
    "pm.record(\"validation_labels\", list(labels))\n",
    "pm.record(\"validation_probabilities\", list(probabilities))\n",
    "pm.record(\"validation_predictions\", list(predictions))"
   ]
  },
  {
   "cell_type": "markdown",
   "metadata": {},
   "source": [
    "## Validation statistics"
   ]
  },
  {
   "cell_type": "code",
   "execution_count": 23,
   "metadata": {},
   "outputs": [
    {
     "name": "stdout",
     "output_type": "stream",
     "text": [
      "Accuracy: 0.6153846383094788\n",
      "Loss: 4.736837863922119\n"
     ]
    },
    {
     "data": {
      "text/html": [
       "<div>\n",
       "<style scoped>\n",
       "    .dataframe tbody tr th:only-of-type {\n",
       "        vertical-align: middle;\n",
       "    }\n",
       "\n",
       "    .dataframe tbody tr th {\n",
       "        vertical-align: top;\n",
       "    }\n",
       "\n",
       "    .dataframe thead th {\n",
       "        text-align: right;\n",
       "    }\n",
       "</style>\n",
       "<table border=\"1\" class=\"dataframe\">\n",
       "  <thead>\n",
       "    <tr style=\"text-align: right;\">\n",
       "      <th></th>\n",
       "      <th>Acc</th>\n",
       "      <th>TP</th>\n",
       "      <th>TN</th>\n",
       "      <th>FP</th>\n",
       "      <th>FN</th>\n",
       "      <th>TPR</th>\n",
       "      <th>TNR</th>\n",
       "      <th>PPV</th>\n",
       "      <th>NPV</th>\n",
       "      <th>FPR</th>\n",
       "      <th>FNR</th>\n",
       "      <th>FDR</th>\n",
       "      <th>AM</th>\n",
       "      <th>GM</th>\n",
       "    </tr>\n",
       "  </thead>\n",
       "  <tbody>\n",
       "    <tr>\n",
       "      <th>0.000</th>\n",
       "      <td>0.615</td>\n",
       "      <td>7</td>\n",
       "      <td>17</td>\n",
       "      <td>3</td>\n",
       "      <td>12</td>\n",
       "      <td>0.368</td>\n",
       "      <td>0.850</td>\n",
       "      <td>0.700</td>\n",
       "      <td>0.586</td>\n",
       "      <td>0.150</td>\n",
       "      <td>0.632</td>\n",
       "      <td>0.300</td>\n",
       "      <td>0.609</td>\n",
       "      <td>0.560</td>\n",
       "    </tr>\n",
       "    <tr>\n",
       "      <th>1.000</th>\n",
       "      <td>0.615</td>\n",
       "      <td>17</td>\n",
       "      <td>7</td>\n",
       "      <td>12</td>\n",
       "      <td>3</td>\n",
       "      <td>0.850</td>\n",
       "      <td>0.368</td>\n",
       "      <td>0.586</td>\n",
       "      <td>0.700</td>\n",
       "      <td>0.632</td>\n",
       "      <td>0.150</td>\n",
       "      <td>0.414</td>\n",
       "      <td>0.609</td>\n",
       "      <td>0.560</td>\n",
       "    </tr>\n",
       "  </tbody>\n",
       "</table>\n",
       "</div>"
      ],
      "text/plain": [
       "        Acc  TP  TN  FP  FN   TPR   TNR   PPV   NPV   FPR   FNR   FDR    AM  \\\n",
       "0.000 0.615   7  17   3  12 0.368 0.850 0.700 0.586 0.150 0.632 0.300 0.609   \n",
       "1.000 0.615  17   7  12   3 0.850 0.368 0.586 0.700 0.632 0.150 0.414 0.609   \n",
       "\n",
       "         GM  \n",
       "0.000 0.560  \n",
       "1.000 0.560  "
      ]
     },
     "execution_count": 23,
     "metadata": {},
     "output_type": "execute_result"
    }
   ],
   "source": [
    "loss, accuracy = calculate_accuracy_loss(model, validation)\n",
    "print(\"Accuracy:\", accuracy)\n",
    "print(\"Loss:\", loss)\n",
    "stats = calculate_confusion_matrix_stats(labels, results)\n",
    "pandas.DataFrame(stats, index=validation.class_indices)"
   ]
  },
  {
   "cell_type": "markdown",
   "metadata": {},
   "source": [
    "## Validation confusion matrix"
   ]
  },
  {
   "cell_type": "code",
   "execution_count": 24,
   "metadata": {},
   "outputs": [
    {
     "data": {
      "image/png": "[encoded data removed]",
      "text/plain": [
       "<Figure size 432x288 with 2 Axes>"
      ]
     },
     "metadata": {},
     "output_type": "display_data"
    }
   ],
   "source": [
    "fig = plot_confusion_matrix(validation, results)\n",
    "fig.savefig(\"figures/{}-{}-validation-confusion-matrix.svg\".format(result.description, result.input_form), bbox_inches = \"tight\")"
   ]
  },
  {
   "cell_type": "markdown",
   "metadata": {},
   "source": [
    "## Validation ROC curve"
   ]
  },
  {
   "cell_type": "code",
   "execution_count": 25,
   "metadata": {},
   "outputs": [
    {
     "name": "stderr",
     "output_type": "stream",
     "text": [
      "No handles with labels found to put in legend.\n"
     ]
    },
    {
     "data": {
      "image/png": "[encoded data removed]",
      "text/plain": [
       "<Figure size 432x288 with 1 Axes>"
      ]
     },
     "metadata": {},
     "output_type": "display_data"
    }
   ],
   "source": [
    "fig = plot_roc_curve(labels, probabilities)\n",
    "fig.savefig(\"figures/{}-{}-validation-ROC-curve.svg\".format(result.description, result.input_form), bbox_inches = \"tight\")"
   ]
  },
  {
   "cell_type": "markdown",
   "metadata": {},
   "source": [
    "## Validation precision-recall curve"
   ]
  },
  {
   "cell_type": "code",
   "execution_count": 26,
   "metadata": {},
   "outputs": [
    {
     "data": {
      "image/png": "[encoded data removed]",
      "text/plain": [
       "<Figure size 432x288 with 1 Axes>"
      ]
     },
     "metadata": {},
     "output_type": "display_data"
    }
   ],
   "source": [
    "fig = plot_precision_recall(labels, results)\n",
    "fig.savefig(\"figures/{}-{}-validation-precisionrecall-curve.svg\".format(result.description, result.input_form), bbox_inches = \"tight\")"
   ]
  },
  {
   "cell_type": "markdown",
   "metadata": {},
   "source": [
    "# Test"
   ]
  },
  {
   "cell_type": "code",
   "execution_count": 21,
   "metadata": {},
   "outputs": [],
   "source": [
    "results = get_results(model, test)"
   ]
  },
  {
   "cell_type": "code",
   "execution_count": 26,
   "metadata": {
    "scrolled": false
   },
   "outputs": [
    {
     "ename": "TypeError",
     "evalue": "'list' object is not callable",
     "output_type": "error",
     "traceback": [
      "\u001b[0;31m---------------------------------------------------------------------------\u001b[0m",
      "\u001b[0;31mTypeError\u001b[0m                                 Traceback (most recent call last)",
      "\u001b[0;32m<ipython-input-26-47c493075b52>\u001b[0m in \u001b[0;36m<module>\u001b[0;34m\u001b[0m\n\u001b[1;32m      2\u001b[0m \u001b[0mpredictions\u001b[0m \u001b[0;34m=\u001b[0m \u001b[0mtransform_binary_predictions\u001b[0m\u001b[0;34m(\u001b[0m\u001b[0mresults\u001b[0m\u001b[0;34m)\u001b[0m\u001b[0;34m\u001b[0m\u001b[0;34m\u001b[0m\u001b[0m\n\u001b[1;32m      3\u001b[0m \u001b[0mlabels\u001b[0m \u001b[0;34m=\u001b[0m \u001b[0mget_labels\u001b[0m\u001b[0;34m(\u001b[0m\u001b[0mtest\u001b[0m\u001b[0;34m)\u001b[0m\u001b[0;34m\u001b[0m\u001b[0;34m\u001b[0m\u001b[0m\n\u001b[0;32m----> 4\u001b[0;31m \u001b[0mnames\u001b[0m \u001b[0;34m=\u001b[0m \u001b[0mtest\u001b[0m\u001b[0;34m.\u001b[0m\u001b[0mnames\u001b[0m\u001b[0;34m(\u001b[0m\u001b[0;34m)\u001b[0m\u001b[0;34m\u001b[0m\u001b[0;34m\u001b[0m\u001b[0m\n\u001b[0m\u001b[1;32m      5\u001b[0m \u001b[0mpm\u001b[0m\u001b[0;34m.\u001b[0m\u001b[0mrecord\u001b[0m\u001b[0;34m(\u001b[0m\u001b[0;34m\"test_labels\"\u001b[0m\u001b[0;34m,\u001b[0m \u001b[0mlist\u001b[0m\u001b[0;34m(\u001b[0m\u001b[0mlabels\u001b[0m\u001b[0;34m)\u001b[0m\u001b[0;34m)\u001b[0m\u001b[0;34m\u001b[0m\u001b[0;34m\u001b[0m\u001b[0m\n\u001b[1;32m      6\u001b[0m \u001b[0mpm\u001b[0m\u001b[0;34m.\u001b[0m\u001b[0mrecord\u001b[0m\u001b[0;34m(\u001b[0m\u001b[0;34m\"test_probabilities\"\u001b[0m\u001b[0;34m,\u001b[0m \u001b[0mlist\u001b[0m\u001b[0;34m(\u001b[0m\u001b[0mprobabilities\u001b[0m\u001b[0;34m)\u001b[0m\u001b[0;34m)\u001b[0m\u001b[0;34m\u001b[0m\u001b[0;34m\u001b[0m\u001b[0m\n",
      "\u001b[0;31mTypeError\u001b[0m: 'list' object is not callable"
     ]
    }
   ],
   "source": [
    "probabilities = transform_binary_probabilities(results)\n",
    "predictions = transform_binary_predictions(results)\n",
    "labels = get_labels(test)\n",
    "names = test.names\n",
    "pm.record(\"test_labels\", list(labels))\n",
    "pm.record(\"test_probabilities\", list(probabilities))\n",
    "pm.record(\"test_predictions\", list(predictions))"
   ]
  },
  {
   "cell_type": "markdown",
   "metadata": {},
   "source": [
    "## Test statistics"
   ]
  },
  {
   "cell_type": "code",
   "execution_count": 29,
   "metadata": {},
   "outputs": [
    {
     "name": "stdout",
     "output_type": "stream",
     "text": [
      "Accuracy: 0.40740740299224854\n",
      "Loss: 5.355280876159668\n"
     ]
    },
    {
     "data": {
      "text/html": [
       "<div>\n",
       "<style scoped>\n",
       "    .dataframe tbody tr th:only-of-type {\n",
       "        vertical-align: middle;\n",
       "    }\n",
       "\n",
       "    .dataframe tbody tr th {\n",
       "        vertical-align: top;\n",
       "    }\n",
       "\n",
       "    .dataframe thead th {\n",
       "        text-align: right;\n",
       "    }\n",
       "</style>\n",
       "<table border=\"1\" class=\"dataframe\">\n",
       "  <thead>\n",
       "    <tr style=\"text-align: right;\">\n",
       "      <th></th>\n",
       "      <th>Acc</th>\n",
       "      <th>TP</th>\n",
       "      <th>TN</th>\n",
       "      <th>FP</th>\n",
       "      <th>FN</th>\n",
       "      <th>TPR</th>\n",
       "      <th>TNR</th>\n",
       "      <th>PPV</th>\n",
       "      <th>NPV</th>\n",
       "      <th>FPR</th>\n",
       "      <th>FNR</th>\n",
       "      <th>FDR</th>\n",
       "      <th>AM</th>\n",
       "      <th>GM</th>\n",
       "    </tr>\n",
       "  </thead>\n",
       "  <tbody>\n",
       "    <tr>\n",
       "      <th>0.000</th>\n",
       "      <td>0.407</td>\n",
       "      <td>4</td>\n",
       "      <td>7</td>\n",
       "      <td>7</td>\n",
       "      <td>9</td>\n",
       "      <td>0.308</td>\n",
       "      <td>0.500</td>\n",
       "      <td>0.364</td>\n",
       "      <td>0.438</td>\n",
       "      <td>0.500</td>\n",
       "      <td>0.692</td>\n",
       "      <td>0.636</td>\n",
       "      <td>0.404</td>\n",
       "      <td>0.392</td>\n",
       "    </tr>\n",
       "    <tr>\n",
       "      <th>1.000</th>\n",
       "      <td>0.407</td>\n",
       "      <td>7</td>\n",
       "      <td>4</td>\n",
       "      <td>9</td>\n",
       "      <td>7</td>\n",
       "      <td>0.500</td>\n",
       "      <td>0.308</td>\n",
       "      <td>0.438</td>\n",
       "      <td>0.364</td>\n",
       "      <td>0.692</td>\n",
       "      <td>0.500</td>\n",
       "      <td>0.562</td>\n",
       "      <td>0.404</td>\n",
       "      <td>0.392</td>\n",
       "    </tr>\n",
       "  </tbody>\n",
       "</table>\n",
       "</div>"
      ],
      "text/plain": [
       "        Acc  TP  TN  FP  FN   TPR   TNR   PPV   NPV   FPR   FNR   FDR    AM  \\\n",
       "0.000 0.407   4   7   7   9 0.308 0.500 0.364 0.438 0.500 0.692 0.636 0.404   \n",
       "1.000 0.407   7   4   9   7 0.500 0.308 0.438 0.364 0.692 0.500 0.562 0.404   \n",
       "\n",
       "         GM  \n",
       "0.000 0.392  \n",
       "1.000 0.392  "
      ]
     },
     "execution_count": 29,
     "metadata": {},
     "output_type": "execute_result"
    }
   ],
   "source": [
    "loss, accuracy = calculate_accuracy_loss(model, test)\n",
    "print(\"Accuracy:\", accuracy)\n",
    "print(\"Loss:\", loss)\n",
    "stats = calculate_confusion_matrix_stats(labels, results)\n",
    "pandas.DataFrame(stats, index=validation.class_indices)"
   ]
  },
  {
   "cell_type": "markdown",
   "metadata": {},
   "source": [
    "## Test confusion matrix"
   ]
  },
  {
   "cell_type": "code",
   "execution_count": 31,
   "metadata": {},
   "outputs": [
    {
     "data": {
      "image/png": "[encoded data removed]",
      "text/plain": [
       "<Figure size 432x288 with 2 Axes>"
      ]
     },
     "metadata": {},
     "output_type": "display_data"
    }
   ],
   "source": [
    "fig = plot_confusion_matrix(test, results)\n",
    "fig.savefig(\"figures/{}-{}-test-confusion-matrix.svg\".format(result.description, result.input_form), bbox_inches = \"tight\")"
   ]
  },
  {
   "cell_type": "markdown",
   "metadata": {},
   "source": [
    "## Test ROC curve"
   ]
  },
  {
   "cell_type": "code",
   "execution_count": 32,
   "metadata": {},
   "outputs": [
    {
     "name": "stderr",
     "output_type": "stream",
     "text": [
      "No handles with labels found to put in legend.\n"
     ]
    },
    {
     "data": {
      "image/png": "[encoded data removed]",
      "text/plain": [
       "<Figure size 432x288 with 1 Axes>"
      ]
     },
     "metadata": {},
     "output_type": "display_data"
    }
   ],
   "source": [
    "fig = plot_roc_curve(labels, probabilities)\n",
    "fig.savefig(\"figures/{}-{}-test-ROC-curve.svg\".format(result.description, result.input_form), bbox_inches = \"tight\")"
   ]
  },
  {
   "cell_type": "markdown",
   "metadata": {},
   "source": [
    "## Test precision-recall curve"
   ]
  },
  {
   "cell_type": "code",
   "execution_count": 33,
   "metadata": {},
   "outputs": [
    {
     "data": {
      "image/png": "[encoded data removed]",
      "text/plain": [
       "<Figure size 432x288 with 1 Axes>"
      ]
     },
     "metadata": {},
     "output_type": "display_data"
    }
   ],
   "source": [
    "fig = plot_precision_recall(labels, results)\n",
    "fig.savefig(\"figures/{}-{}-test-precisionrecall-curve.svg\".format(result.description, result.input_form), bbox_inches = \"tight\")"
   ]
  },
  {
   "cell_type": "code",
   "execution_count": 33,
   "metadata": {},
   "outputs": [],
   "source": [
    "import json\n",
    "hyperparameters = json.loads(result.hyperparameters)\n",
    "deep_top = hyperparameters[\"deep-dense-top\"]\n",
    "grad_cam_layer = \"dense_3\"\n",
    "if deep_top: \n",
    "    grad_cam_layer = \"dense_6\""
   ]
  },
  {
   "cell_type": "markdown",
   "metadata": {},
   "source": [
    "# TSNE"
   ]
  },
  {
   "cell_type": "code",
   "execution_count": 34,
   "metadata": {},
   "outputs": [
    {
     "data": {
      "image/png": "[encoded data removed]",
      "text/plain": [
       "<Figure size 432x288 with 1 Axes>"
      ]
     },
     "metadata": {},
     "output_type": "display_data"
    },
    {
     "data": {
      "image/png": "[encoded data removed]",
      "text/plain": [
       "<Figure size 432x288 with 1 Axes>"
      ]
     },
     "metadata": {},
     "output_type": "display_data"
    },
    {
     "ename": "FileNotFoundError",
     "evalue": "[Errno 2] No such file or directory: 'figures/test2-t1-model-output-tsne.svg'",
     "output_type": "error",
     "traceback": [
      "\u001b[0;31m---------------------------------------------------------------------------\u001b[0m",
      "\u001b[0;31mFileNotFoundError\u001b[0m                         Traceback (most recent call last)",
      "\u001b[0;32m<ipython-input-34-a336ec83dc7b>\u001b[0m in \u001b[0;36m<module>\u001b[0;34m\u001b[0m\n\u001b[1;32m     16\u001b[0m     )\n\u001b[1;32m     17\u001b[0m     \u001b[0;32mfor\u001b[0m \u001b[0mi\u001b[0m\u001b[0;34m,\u001b[0m \u001b[0mfield\u001b[0m \u001b[0;32min\u001b[0m \u001b[0menumerate\u001b[0m\u001b[0;34m(\u001b[0m\u001b[0;34m[\u001b[0m\u001b[0;34m\"model output\"\u001b[0m\u001b[0;34m,\u001b[0m \u001b[0;34m*\u001b[0m\u001b[0mfieldnames\u001b[0m\u001b[0;34m]\u001b[0m\u001b[0;34m)\u001b[0m\u001b[0;34m:\u001b[0m\u001b[0;34m\u001b[0m\u001b[0m\n\u001b[0;32m---> 18\u001b[0;31m         \u001b[0mfigs\u001b[0m\u001b[0;34m[\u001b[0m\u001b[0mi\u001b[0m\u001b[0;34m]\u001b[0m\u001b[0;34m.\u001b[0m\u001b[0msavefig\u001b[0m\u001b[0;34m(\u001b[0m\u001b[0;34m\"figures/{}-{}-{}-tsne.svg\"\u001b[0m\u001b[0;34m.\u001b[0m\u001b[0mformat\u001b[0m\u001b[0;34m(\u001b[0m\u001b[0mresult\u001b[0m\u001b[0;34m.\u001b[0m\u001b[0mdescription\u001b[0m\u001b[0;34m,\u001b[0m \u001b[0mresult\u001b[0m\u001b[0;34m.\u001b[0m\u001b[0minput_form\u001b[0m\u001b[0;34m,\u001b[0m \u001b[0mfield\u001b[0m\u001b[0;34m.\u001b[0m\u001b[0mreplace\u001b[0m\u001b[0;34m(\u001b[0m\u001b[0;34m\" \"\u001b[0m\u001b[0;34m,\u001b[0m \u001b[0;34m\"-\"\u001b[0m\u001b[0;34m)\u001b[0m\u001b[0;34m)\u001b[0m\u001b[0;34m,\u001b[0m \u001b[0mbbox_inches\u001b[0m \u001b[0;34m=\u001b[0m \u001b[0;34m\"tight\"\u001b[0m\u001b[0;34m)\u001b[0m\u001b[0;34m\u001b[0m\u001b[0m\n\u001b[0m\u001b[1;32m     19\u001b[0m     \u001b[0mtsne_dataset\u001b[0m\u001b[0;34m.\u001b[0m\u001b[0mreset\u001b[0m\u001b[0;34m(\u001b[0m\u001b[0;34m)\u001b[0m\u001b[0;34m\u001b[0m\u001b[0m\n",
      "\u001b[0;32m~/.local/share/virtualenvs/bone_master-gLgG60Le/lib/python3.6/site-packages/matplotlib/figure.py\u001b[0m in \u001b[0;36msavefig\u001b[0;34m(self, fname, transparent, **kwargs)\u001b[0m\n\u001b[1;32m   2178\u001b[0m             \u001b[0mself\u001b[0m\u001b[0;34m.\u001b[0m\u001b[0mpatch\u001b[0m\u001b[0;34m.\u001b[0m\u001b[0mset_visible\u001b[0m\u001b[0;34m(\u001b[0m\u001b[0mframeon\u001b[0m\u001b[0;34m)\u001b[0m\u001b[0;34m\u001b[0m\u001b[0m\n\u001b[1;32m   2179\u001b[0m \u001b[0;34m\u001b[0m\u001b[0m\n\u001b[0;32m-> 2180\u001b[0;31m         \u001b[0mself\u001b[0m\u001b[0;34m.\u001b[0m\u001b[0mcanvas\u001b[0m\u001b[0;34m.\u001b[0m\u001b[0mprint_figure\u001b[0m\u001b[0;34m(\u001b[0m\u001b[0mfname\u001b[0m\u001b[0;34m,\u001b[0m \u001b[0;34m**\u001b[0m\u001b[0mkwargs\u001b[0m\u001b[0;34m)\u001b[0m\u001b[0;34m\u001b[0m\u001b[0m\n\u001b[0m\u001b[1;32m   2181\u001b[0m \u001b[0;34m\u001b[0m\u001b[0m\n\u001b[1;32m   2182\u001b[0m         \u001b[0;32mif\u001b[0m \u001b[0mframeon\u001b[0m\u001b[0;34m:\u001b[0m\u001b[0;34m\u001b[0m\u001b[0m\n",
      "\u001b[0;32m~/.local/share/virtualenvs/bone_master-gLgG60Le/lib/python3.6/site-packages/matplotlib/backend_bases.py\u001b[0m in \u001b[0;36mprint_figure\u001b[0;34m(self, filename, dpi, facecolor, edgecolor, orientation, format, bbox_inches, **kwargs)\u001b[0m\n\u001b[1;32m   2089\u001b[0m                     \u001b[0morientation\u001b[0m\u001b[0;34m=\u001b[0m\u001b[0morientation\u001b[0m\u001b[0;34m,\u001b[0m\u001b[0;34m\u001b[0m\u001b[0m\n\u001b[1;32m   2090\u001b[0m                     \u001b[0mbbox_inches_restore\u001b[0m\u001b[0;34m=\u001b[0m\u001b[0m_bbox_inches_restore\u001b[0m\u001b[0;34m,\u001b[0m\u001b[0;34m\u001b[0m\u001b[0m\n\u001b[0;32m-> 2091\u001b[0;31m                     **kwargs)\n\u001b[0m\u001b[1;32m   2092\u001b[0m             \u001b[0;32mfinally\u001b[0m\u001b[0;34m:\u001b[0m\u001b[0;34m\u001b[0m\u001b[0m\n\u001b[1;32m   2093\u001b[0m                 \u001b[0;32mif\u001b[0m \u001b[0mbbox_inches\u001b[0m \u001b[0;32mand\u001b[0m \u001b[0mrestore_bbox\u001b[0m\u001b[0;34m:\u001b[0m\u001b[0;34m\u001b[0m\u001b[0m\n",
      "\u001b[0;32m~/.local/share/virtualenvs/bone_master-gLgG60Le/lib/python3.6/site-packages/matplotlib/backends/backend_svg.py\u001b[0m in \u001b[0;36mprint_svg\u001b[0;34m(self, filename, *args, **kwargs)\u001b[0m\n\u001b[1;32m   1188\u001b[0m \u001b[0;34m\u001b[0m\u001b[0m\n\u001b[1;32m   1189\u001b[0m     \u001b[0;32mdef\u001b[0m \u001b[0mprint_svg\u001b[0m\u001b[0;34m(\u001b[0m\u001b[0mself\u001b[0m\u001b[0;34m,\u001b[0m \u001b[0mfilename\u001b[0m\u001b[0;34m,\u001b[0m \u001b[0;34m*\u001b[0m\u001b[0margs\u001b[0m\u001b[0;34m,\u001b[0m \u001b[0;34m**\u001b[0m\u001b[0mkwargs\u001b[0m\u001b[0;34m)\u001b[0m\u001b[0;34m:\u001b[0m\u001b[0;34m\u001b[0m\u001b[0m\n\u001b[0;32m-> 1190\u001b[0;31m         \u001b[0;32mwith\u001b[0m \u001b[0mcbook\u001b[0m\u001b[0;34m.\u001b[0m\u001b[0mopen_file_cm\u001b[0m\u001b[0;34m(\u001b[0m\u001b[0mfilename\u001b[0m\u001b[0;34m,\u001b[0m \u001b[0;34m\"w\"\u001b[0m\u001b[0;34m,\u001b[0m \u001b[0mencoding\u001b[0m\u001b[0;34m=\u001b[0m\u001b[0;34m\"utf-8\"\u001b[0m\u001b[0;34m)\u001b[0m \u001b[0;32mas\u001b[0m \u001b[0mfh\u001b[0m\u001b[0;34m:\u001b[0m\u001b[0;34m\u001b[0m\u001b[0m\n\u001b[0m\u001b[1;32m   1191\u001b[0m \u001b[0;34m\u001b[0m\u001b[0m\n\u001b[1;32m   1192\u001b[0m             \u001b[0mfilename\u001b[0m \u001b[0;34m=\u001b[0m \u001b[0mgetattr\u001b[0m\u001b[0;34m(\u001b[0m\u001b[0mfh\u001b[0m\u001b[0;34m,\u001b[0m \u001b[0;34m'name'\u001b[0m\u001b[0;34m,\u001b[0m \u001b[0;34m''\u001b[0m\u001b[0;34m)\u001b[0m\u001b[0;34m\u001b[0m\u001b[0m\n",
      "\u001b[0;32m/Library/Frameworks/Python.framework/Versions/3.6/lib/python3.6/contextlib.py\u001b[0m in \u001b[0;36m__enter__\u001b[0;34m(self)\u001b[0m\n\u001b[1;32m     80\u001b[0m     \u001b[0;32mdef\u001b[0m \u001b[0m__enter__\u001b[0m\u001b[0;34m(\u001b[0m\u001b[0mself\u001b[0m\u001b[0;34m)\u001b[0m\u001b[0;34m:\u001b[0m\u001b[0;34m\u001b[0m\u001b[0m\n\u001b[1;32m     81\u001b[0m         \u001b[0;32mtry\u001b[0m\u001b[0;34m:\u001b[0m\u001b[0;34m\u001b[0m\u001b[0m\n\u001b[0;32m---> 82\u001b[0;31m             \u001b[0;32mreturn\u001b[0m \u001b[0mnext\u001b[0m\u001b[0;34m(\u001b[0m\u001b[0mself\u001b[0m\u001b[0;34m.\u001b[0m\u001b[0mgen\u001b[0m\u001b[0;34m)\u001b[0m\u001b[0;34m\u001b[0m\u001b[0m\n\u001b[0m\u001b[1;32m     83\u001b[0m         \u001b[0;32mexcept\u001b[0m \u001b[0mStopIteration\u001b[0m\u001b[0;34m:\u001b[0m\u001b[0;34m\u001b[0m\u001b[0m\n\u001b[1;32m     84\u001b[0m             \u001b[0;32mraise\u001b[0m \u001b[0mRuntimeError\u001b[0m\u001b[0;34m(\u001b[0m\u001b[0;34m\"generator didn't yield\"\u001b[0m\u001b[0;34m)\u001b[0m \u001b[0;32mfrom\u001b[0m \u001b[0;32mNone\u001b[0m\u001b[0;34m\u001b[0m\u001b[0m\n",
      "\u001b[0;32m~/.local/share/virtualenvs/bone_master-gLgG60Le/lib/python3.6/site-packages/matplotlib/cbook/__init__.py\u001b[0m in \u001b[0;36mopen_file_cm\u001b[0;34m(path_or_file, mode, encoding)\u001b[0m\n\u001b[1;32m    445\u001b[0m \u001b[0;32mdef\u001b[0m \u001b[0mopen_file_cm\u001b[0m\u001b[0;34m(\u001b[0m\u001b[0mpath_or_file\u001b[0m\u001b[0;34m,\u001b[0m \u001b[0mmode\u001b[0m\u001b[0;34m=\u001b[0m\u001b[0;34m\"r\"\u001b[0m\u001b[0;34m,\u001b[0m \u001b[0mencoding\u001b[0m\u001b[0;34m=\u001b[0m\u001b[0;32mNone\u001b[0m\u001b[0;34m)\u001b[0m\u001b[0;34m:\u001b[0m\u001b[0;34m\u001b[0m\u001b[0m\n\u001b[1;32m    446\u001b[0m     \u001b[0;34mr\"\"\"Pass through file objects and context-manage `.PathLike`\\s.\"\"\"\u001b[0m\u001b[0;34m\u001b[0m\u001b[0m\n\u001b[0;32m--> 447\u001b[0;31m     \u001b[0mfh\u001b[0m\u001b[0;34m,\u001b[0m \u001b[0mopened\u001b[0m \u001b[0;34m=\u001b[0m \u001b[0mto_filehandle\u001b[0m\u001b[0;34m(\u001b[0m\u001b[0mpath_or_file\u001b[0m\u001b[0;34m,\u001b[0m \u001b[0mmode\u001b[0m\u001b[0;34m,\u001b[0m \u001b[0;32mTrue\u001b[0m\u001b[0;34m,\u001b[0m \u001b[0mencoding\u001b[0m\u001b[0;34m)\u001b[0m\u001b[0;34m\u001b[0m\u001b[0m\n\u001b[0m\u001b[1;32m    448\u001b[0m     \u001b[0;32mif\u001b[0m \u001b[0mopened\u001b[0m\u001b[0;34m:\u001b[0m\u001b[0;34m\u001b[0m\u001b[0m\n\u001b[1;32m    449\u001b[0m         \u001b[0;32mwith\u001b[0m \u001b[0mfh\u001b[0m\u001b[0;34m:\u001b[0m\u001b[0;34m\u001b[0m\u001b[0m\n",
      "\u001b[0;32m~/.local/share/virtualenvs/bone_master-gLgG60Le/lib/python3.6/site-packages/matplotlib/cbook/__init__.py\u001b[0m in \u001b[0;36mto_filehandle\u001b[0;34m(fname, flag, return_opened, encoding)\u001b[0m\n\u001b[1;32m    430\u001b[0m             \u001b[0mfh\u001b[0m \u001b[0;34m=\u001b[0m \u001b[0mbz2\u001b[0m\u001b[0;34m.\u001b[0m\u001b[0mBZ2File\u001b[0m\u001b[0;34m(\u001b[0m\u001b[0mfname\u001b[0m\u001b[0;34m,\u001b[0m \u001b[0mflag\u001b[0m\u001b[0;34m)\u001b[0m\u001b[0;34m\u001b[0m\u001b[0m\n\u001b[1;32m    431\u001b[0m         \u001b[0;32melse\u001b[0m\u001b[0;34m:\u001b[0m\u001b[0;34m\u001b[0m\u001b[0m\n\u001b[0;32m--> 432\u001b[0;31m             \u001b[0mfh\u001b[0m \u001b[0;34m=\u001b[0m \u001b[0mopen\u001b[0m\u001b[0;34m(\u001b[0m\u001b[0mfname\u001b[0m\u001b[0;34m,\u001b[0m \u001b[0mflag\u001b[0m\u001b[0;34m,\u001b[0m \u001b[0mencoding\u001b[0m\u001b[0;34m=\u001b[0m\u001b[0mencoding\u001b[0m\u001b[0;34m)\u001b[0m\u001b[0;34m\u001b[0m\u001b[0m\n\u001b[0m\u001b[1;32m    433\u001b[0m         \u001b[0mopened\u001b[0m \u001b[0;34m=\u001b[0m \u001b[0;32mTrue\u001b[0m\u001b[0;34m\u001b[0m\u001b[0m\n\u001b[1;32m    434\u001b[0m     \u001b[0;32melif\u001b[0m \u001b[0mhasattr\u001b[0m\u001b[0;34m(\u001b[0m\u001b[0mfname\u001b[0m\u001b[0;34m,\u001b[0m \u001b[0;34m'seek'\u001b[0m\u001b[0;34m)\u001b[0m\u001b[0;34m:\u001b[0m\u001b[0;34m\u001b[0m\u001b[0m\n",
      "\u001b[0;31mFileNotFoundError\u001b[0m: [Errno 2] No such file or directory: 'figures/test2-t1-model-output-tsne.svg'"
     ]
    }
   ],
   "source": [
    "if result.input_form != \"features\": \n",
    "    layer = \"dense_1\"\n",
    "    if deep_top: \n",
    "        layer = \"dense_3\"\n",
    "    tsne_dataset = train\n",
    "    tsne_dataset.reset()\n",
    "    fieldnames = [\"histographic interpretation\"]\n",
    "    tsne_results = [\"malignant\" if i else \"benign\" for i in transform_binary_predictions(get_results(model, tsne_dataset))]\n",
    "    figs = plot_tsne(\n",
    "        model, \n",
    "        layer, \n",
    "        tsne_dataset, \n",
    "        [tsne_results, tsne_dataset.labels], \n",
    "        fieldnames=[\"model output\", *fieldnames], \n",
    "        perplexity=TSNE_PERPLEXITY,\n",
    "    )\n",
    "    for i, field in enumerate([\"model output\", *fieldnames]): \n",
    "        figs[i].savefig(\"figures/{}-{}-{}-tsne.svg\".format(result.description, result.input_form, field.replace(\" \", \"-\")), bbox_inches = \"tight\")\n",
    "    tsne_dataset.reset()"
   ]
  },
  {
   "cell_type": "markdown",
   "metadata": {},
   "source": [
    "# Grad Cam"
   ]
  },
  {
   "cell_type": "code",
   "execution_count": null,
   "metadata": {},
   "outputs": [],
   "source": [
    "def show_grad_cam_images(images, labels, predictions, names=None, penultimate_layer=\"res5c_branch2c\", layer=\"dense_3\", columns=2, include_label=True):\n",
    "    filter_idx = [0]\n",
    "    grad_modifier = None\n",
    "    backprop_modifier = None\n",
    "    penultimate_layer_idx = None\n",
    "    if penultimate_layer:\n",
    "        penultimate_layer_idx = find_layer_idx(model, penultimate_layer)    \n",
    "    rows = int(math.ceil(len(images) * 2/columns))\n",
    "    f, ax = plt.subplots(rows, columns, figsize=(5.5, 3 * rows))    \n",
    "    ax = ax.flatten()\n",
    "    for i, image in enumerate(images): \n",
    "        grad = visualize_cam(\n",
    "            model,\n",
    "            find_layer_idx(model, layer),\n",
    "            filter_idx,\n",
    "            normalize(image),\n",
    "            penultimate_layer_idx=penultimate_layer_idx,\n",
    "            backprop_modifier=backprop_modifier,\n",
    "            grad_modifier=grad_modifier)\n",
    "        if names is not None: \n",
    "            ax[2*i].set_title(\"{}\".format(names[i]))\n",
    "        ax[2*i].imshow(image)\n",
    "        ax[2*i].axis('off')\n",
    "        if include_label: \n",
    "            ax[2*i+1].set_title(\"label/pred: {}/{}\".format(labels[i], predictions[i]))\n",
    "        ax[2*i+1].imshow(overlay(grad, image))\n",
    "        ax[2*i+1].axis('off')\n",
    "    return f, ax"
   ]
  },
  {
   "cell_type": "code",
   "execution_count": null,
   "metadata": {},
   "outputs": [],
   "source": [
    "grad_cam_dataset = validation\n",
    "grad_cam_dataset.reset()\n",
    "grad_cam_results = [\"malignant\" if i else \"benign\" for i in transform_binary_predictions(get_results(model, grad_cam_dataset))]\n",
    "if grad_cam_dataset.parameters[\"t1\"]: \n",
    "    show_grad_cam_images(grad_cam_dataset.t1, grad_cam_dataset.labels, grad_cam_results, grad_cam_dataset.names, layer=grad_cam_layer)\n",
    "    plt.show()\n",
    "if grad_cam_dataset.parameters[\"t2\"]: \n",
    "    show_grad_cam_images(grad_cam_dataset.t2, grad_cam_dataset.labels, grad_cam_results, grad_cam_dataset.names, penultimate_layer=\"res5c_branch2c_t2\", layer=grad_cam_layer)\n",
    "    plt.show()"
   ]
  },
  {
   "cell_type": "code",
   "execution_count": 2,
   "metadata": {
    "scrolled": false
   },
   "outputs": [
    {
     "ename": "NameError",
     "evalue": "name 'test' is not defined",
     "output_type": "error",
     "traceback": [
      "\u001b[0;31m---------------------------------------------------------------------------\u001b[0m",
      "\u001b[0;31mNameError\u001b[0m                                 Traceback (most recent call last)",
      "\u001b[0;32m<ipython-input-2-76839da951fd>\u001b[0m in \u001b[0;36m<module>\u001b[0;34m()\u001b[0m\n\u001b[0;32m----> 1\u001b[0;31m \u001b[0mgrad_cam_dataset\u001b[0m \u001b[0;34m=\u001b[0m \u001b[0mtest\u001b[0m\u001b[0;34m\u001b[0m\u001b[0m\n\u001b[0m\u001b[1;32m      2\u001b[0m \u001b[0mgrad_cam_dataset\u001b[0m\u001b[0;34m.\u001b[0m\u001b[0mreset\u001b[0m\u001b[0;34m(\u001b[0m\u001b[0;34m)\u001b[0m\u001b[0;34m\u001b[0m\u001b[0m\n\u001b[1;32m      3\u001b[0m \u001b[0mgrad_cam_results\u001b[0m \u001b[0;34m=\u001b[0m \u001b[0;34m[\u001b[0m\u001b[0;34m\"shrunk\"\u001b[0m \u001b[0;32mif\u001b[0m \u001b[0mi\u001b[0m \u001b[0;32melse\u001b[0m \u001b[0;34m\"not shrunk\"\u001b[0m \u001b[0;32mfor\u001b[0m \u001b[0mi\u001b[0m \u001b[0;32min\u001b[0m \u001b[0mtransform_binary_predictions\u001b[0m\u001b[0;34m(\u001b[0m\u001b[0mget_results\u001b[0m\u001b[0;34m(\u001b[0m\u001b[0mmodel\u001b[0m\u001b[0;34m,\u001b[0m \u001b[0mgrad_cam_dataset\u001b[0m\u001b[0;34m)\u001b[0m\u001b[0;34m)\u001b[0m\u001b[0;34m]\u001b[0m\u001b[0;34m\u001b[0m\u001b[0m\n\u001b[1;32m      4\u001b[0m \u001b[0minv_indices\u001b[0m \u001b[0;34m=\u001b[0m \u001b[0;34m{\u001b[0m\u001b[0mv\u001b[0m\u001b[0;34m:\u001b[0m \u001b[0mk\u001b[0m \u001b[0;32mfor\u001b[0m \u001b[0mk\u001b[0m\u001b[0;34m,\u001b[0m \u001b[0mv\u001b[0m \u001b[0;32min\u001b[0m \u001b[0mgrad_cam_dataset\u001b[0m\u001b[0;34m.\u001b[0m\u001b[0mclass_indices\u001b[0m\u001b[0;34m.\u001b[0m\u001b[0mitems\u001b[0m\u001b[0;34m(\u001b[0m\u001b[0;34m)\u001b[0m\u001b[0;34m}\u001b[0m\u001b[0;34m\u001b[0m\u001b[0m\n\u001b[1;32m      5\u001b[0m \u001b[0;34m\u001b[0m\u001b[0m\n",
      "\u001b[0;31mNameError\u001b[0m: name 'test' is not defined"
     ]
    }
   ],
   "source": [
    "grad_cam_dataset = validation\n",
    "grad_cam_dataset.reset()\n",
    "grad_cam_results = [\"malignant\" if i else \"benign\" for i in transform_binary_predictions(get_results(model, grad_cam_dataset))]\n",
    "inv_indices = {v: k for k, v in grad_cam_dataset.class_indices.items()}\n",
    "\n",
    "if SELECTIONS == None: \n",
    "    SELECTIONS = dict()\n",
    "\n",
    "if grad_cam_dataset.parameters[\"t1\"]: \n",
    "    for k, v in SELECTIONS.items():\n",
    "        images = grad_cam_dataset.t1\n",
    "        selected_images = list()\n",
    "        selected_labels = list()\n",
    "        selected_results = list()\n",
    "        for i, name in enumerate(grad_cam_dataset.names): \n",
    "            if name in v: \n",
    "                selected_images.append(images[i])\n",
    "                selected_labels.append(grad_cam_dataset.labels[i])\n",
    "                selected_results.append(grad_cam_results[i])            \n",
    "        fig, ax = show_grad_cam_images(selected_images, selected_labels, selected_results, include_label=False, names=None, layer=grad_cam_layer)\n",
    "        title = fig.suptitle(\"Label: {} | Prediction: {}\".format(k[0], k[1]))\n",
    "        fig.savefig(\"figures/{}-{}-grad-cam-{}-{}.svg\".format(result.description, result.input_form, k[0], k[1]), bbox_inches = \"tight\", bbox_extra_artists=[title])                \n",
    "        fig.show()\n",
    "\n",
    "if grad_cam_dataset.parameters[\"t2\"]: \n",
    "    for k, v in SELECTIONS.items():\n",
    "        images = grad_cam_dataset.t2\n",
    "        selected_images = list()\n",
    "        selected_labels = list()\n",
    "        selected_results = list()\n",
    "        for i, name in enumerate(grad_cam_dataset.names): \n",
    "            if name in v: \n",
    "                selected_images.append(images[i])\n",
    "                selected_labels.append(grad_cam_dataset.labels[i])\n",
    "                selected_results.append(grad_cam_results[i])\n",
    "        fig, ax = show_grad_cam_images(selected_images, selected_labels, selected_results, names=None, penultimate_layer=\"res5c_branch2c_t2\",include_label=False, layer=grad_cam_layer)\n",
    "        title = fig.suptitle(\"Label: {} | Prediction: {}\".format(k[0], k[1]))\n",
    "        fig.savefig(\"figures/{}-{}-grad-cam-{}-{}.svg\".format(result.description, result.input_form, k[0], k[1]), bbox_inches = \"tight\", bbox_extra_artists=[title])        \n",
    "        fig.show()"
   ]
  },
  {
   "cell_type": "code",
   "execution_count": null,
   "metadata": {},
   "outputs": [],
   "source": [
    "from IPython.display import HTML\n",
    "HTML('''<script>\n",
    "code_show=true; \n",
    "function code_toggle() {\n",
    " if (code_show){\n",
    " $('div.input').hide();\n",
    " } else {\n",
    " $('div.input').show();\n",
    " }\n",
    " code_show = !code_show\n",
    "} \n",
    "$( document ).ready(code_toggle);\n",
    "</script>\n",
    "The raw code for this IPython notebook is by default hidden for easier reading.\n",
    "To toggle on/off the raw code, click <a href=\"javascript:code_toggle()\">here</a>.''')"
   ]
  },
  {
   "cell_type": "code",
   "execution_count": null,
   "metadata": {},
   "outputs": [],
   "source": []
  },
  {
   "cell_type": "code",
   "execution_count": null,
   "metadata": {},
   "outputs": [],
   "source": []
  },
  {
   "cell_type": "code",
   "execution_count": null,
   "metadata": {},
   "outputs": [],
   "source": []
  },
  {
   "cell_type": "code",
   "execution_count": null,
   "metadata": {},
   "outputs": [],
   "source": []
  },
  {
   "cell_type": "code",
   "execution_count": null,
   "metadata": {},
   "outputs": [],
   "source": []
  }
 ],
 "metadata": {
  "kernelspec": {
   "display_name": "Python 2",
   "language": "python",
   "name": "python2"
  },
  "language_info": {
   "codemirror_mode": {
    "name": "ipython",
    "version": 3
   },
   "file_extension": ".py",
   "mimetype": "text/x-python",
   "name": "python",
   "nbconvert_exporter": "python",
   "pygments_lexer": "ipython3",
   "version": "3.6.8"
  }
 },
 "nbformat": 4,
 "nbformat_minor": 2
}
