{
 "cells": [
  {
   "cell_type": "code",
   "execution_count": 1,
   "metadata": {},
   "outputs": [],
   "source": [
    "%load_ext autoreload\n",
    "%autoreload 2\n",
    "%matplotlib inline  \n",
    "from IPython.display import HTML"
   ]
  },
  {
   "cell_type": "code",
   "execution_count": 2,
   "metadata": {},
   "outputs": [
    {
     "name": "stderr",
     "output_type": "stream",
     "text": [
      "Using TensorFlow backend.\n",
      "/home/sopeeweje/.local/share/virtualenvs/bone_master-xLR2Nuxv/lib/python3.6/site-packages/tensorflow/python/framework/dtypes.py:516: FutureWarning: Passing (type, 1) or '1type' as a synonym of type is deprecated; in a future version of numpy, it will be understood as (type, (1,)) / '(1,)type'.\n",
      "  _np_qint8 = np.dtype([(\"qint8\", np.int8, 1)])\n",
      "/home/sopeeweje/.local/share/virtualenvs/bone_master-xLR2Nuxv/lib/python3.6/site-packages/tensorflow/python/framework/dtypes.py:517: FutureWarning: Passing (type, 1) or '1type' as a synonym of type is deprecated; in a future version of numpy, it will be understood as (type, (1,)) / '(1,)type'.\n",
      "  _np_quint8 = np.dtype([(\"quint8\", np.uint8, 1)])\n",
      "/home/sopeeweje/.local/share/virtualenvs/bone_master-xLR2Nuxv/lib/python3.6/site-packages/tensorflow/python/framework/dtypes.py:518: FutureWarning: Passing (type, 1) or '1type' as a synonym of type is deprecated; in a future version of numpy, it will be understood as (type, (1,)) / '(1,)type'.\n",
      "  _np_qint16 = np.dtype([(\"qint16\", np.int16, 1)])\n",
      "/home/sopeeweje/.local/share/virtualenvs/bone_master-xLR2Nuxv/lib/python3.6/site-packages/tensorflow/python/framework/dtypes.py:519: FutureWarning: Passing (type, 1) or '1type' as a synonym of type is deprecated; in a future version of numpy, it will be understood as (type, (1,)) / '(1,)type'.\n",
      "  _np_quint16 = np.dtype([(\"quint16\", np.uint16, 1)])\n",
      "/home/sopeeweje/.local/share/virtualenvs/bone_master-xLR2Nuxv/lib/python3.6/site-packages/tensorflow/python/framework/dtypes.py:520: FutureWarning: Passing (type, 1) or '1type' as a synonym of type is deprecated; in a future version of numpy, it will be understood as (type, (1,)) / '(1,)type'.\n",
      "  _np_qint32 = np.dtype([(\"qint32\", np.int32, 1)])\n",
      "/home/sopeeweje/.local/share/virtualenvs/bone_master-xLR2Nuxv/lib/python3.6/site-packages/tensorflow/python/framework/dtypes.py:525: FutureWarning: Passing (type, 1) or '1type' as a synonym of type is deprecated; in a future version of numpy, it will be understood as (type, (1,)) / '(1,)type'.\n",
      "  np_resource = np.dtype([(\"resource\", np.ubyte, 1)])\n",
      "/home/sopeeweje/.local/share/virtualenvs/bone_master-xLR2Nuxv/lib/python3.6/site-packages/tensorboard/compat/tensorflow_stub/dtypes.py:541: FutureWarning: Passing (type, 1) or '1type' as a synonym of type is deprecated; in a future version of numpy, it will be understood as (type, (1,)) / '(1,)type'.\n",
      "  _np_qint8 = np.dtype([(\"qint8\", np.int8, 1)])\n",
      "/home/sopeeweje/.local/share/virtualenvs/bone_master-xLR2Nuxv/lib/python3.6/site-packages/tensorboard/compat/tensorflow_stub/dtypes.py:542: FutureWarning: Passing (type, 1) or '1type' as a synonym of type is deprecated; in a future version of numpy, it will be understood as (type, (1,)) / '(1,)type'.\n",
      "  _np_quint8 = np.dtype([(\"quint8\", np.uint8, 1)])\n",
      "/home/sopeeweje/.local/share/virtualenvs/bone_master-xLR2Nuxv/lib/python3.6/site-packages/tensorboard/compat/tensorflow_stub/dtypes.py:543: FutureWarning: Passing (type, 1) or '1type' as a synonym of type is deprecated; in a future version of numpy, it will be understood as (type, (1,)) / '(1,)type'.\n",
      "  _np_qint16 = np.dtype([(\"qint16\", np.int16, 1)])\n",
      "/home/sopeeweje/.local/share/virtualenvs/bone_master-xLR2Nuxv/lib/python3.6/site-packages/tensorboard/compat/tensorflow_stub/dtypes.py:544: FutureWarning: Passing (type, 1) or '1type' as a synonym of type is deprecated; in a future version of numpy, it will be understood as (type, (1,)) / '(1,)type'.\n",
      "  _np_quint16 = np.dtype([(\"quint16\", np.uint16, 1)])\n",
      "/home/sopeeweje/.local/share/virtualenvs/bone_master-xLR2Nuxv/lib/python3.6/site-packages/tensorboard/compat/tensorflow_stub/dtypes.py:545: FutureWarning: Passing (type, 1) or '1type' as a synonym of type is deprecated; in a future version of numpy, it will be understood as (type, (1,)) / '(1,)type'.\n",
      "  _np_qint32 = np.dtype([(\"qint32\", np.int32, 1)])\n",
      "/home/sopeeweje/.local/share/virtualenvs/bone_master-xLR2Nuxv/lib/python3.6/site-packages/tensorboard/compat/tensorflow_stub/dtypes.py:550: FutureWarning: Passing (type, 1) or '1type' as a synonym of type is deprecated; in a future version of numpy, it will be understood as (type, (1,)) / '(1,)type'.\n",
      "  np_resource = np.dtype([(\"resource\", np.ubyte, 1)])\n"
     ]
    }
   ],
   "source": [
    "from sklearn.metrics import f1_score, roc_auc_score, average_precision_score, precision_score, recall_score\n",
    "import pandas\n",
    "import numpy as np\n",
    "import papermill as pm\n",
    "import json\n",
    "import matplotlib.pyplot as plt\n",
    "import os\n",
    "import uuid\n",
    "from db import Result\n",
    "import ast\n",
    "import math\n",
    "from vis.visualization import visualize_cam, visualize_saliency, overlay\n",
    "from vis.utils.utils import load_img, normalize, find_layer_idx\n",
    "\n",
    "\n",
    "pandas.options.display.float_format = '{:,.3f}'.format"
   ]
  },
  {
   "cell_type": "code",
   "execution_count": 3,
   "metadata": {},
   "outputs": [],
   "source": [
    "from evaluate import plot_learning_curve, load, get_results, get_labels, transform_binary_probabilities, transform_binary_predictions, calculate_accuracy_loss, plot_confusion_matrix, plot_precision_recall, plot_roc_curve, calculate_pr_auc, calculate_confusion_matrix_stats, calculate_confusion_matrix, plot_tsne, plot_multiple_grad_cam, plot_precision_recall"
   ]
  },
  {
   "cell_type": "code",
   "execution_count": 4,
   "metadata": {},
   "outputs": [],
   "source": [
    "from data_gen import data\n",
    "from run import characterize_data\n",
    "from config import config"
   ]
  },
  {
   "cell_type": "code",
   "execution_count": 25,
   "metadata": {
    "tags": [
     "parameters"
    ]
   },
   "outputs": [],
   "source": [
    "UUID = \"551051da-fdab-438c-9cee-079c171eb2d6\"\n",
    "\n",
    "#t1: 4e4c0355-9643-4e22-80ba-78dd371c8900\n",
    "#t1_t: 7b6d44a6-5439-47d5-a2b9-bf62193c0c2e\n",
    "#t1_post: 2bcb25f3-b326-4f5b-ae3f-41eb90ae36ef\n",
    "#t1_post_t: e50a3e1e-d292-4eb8-b152-a9a97238b5cb\n",
    "#t2: 8c10b503-add4-48a0-92e1-49b156b9fb28\n",
    "#t2_t: 5b548ac7-508c-41b9-8626-c8b8367e71c9\n",
    "\n",
    "SELECTIONS = \"None\"\n",
    "TSNE_PERPLEXITY = 5"
   ]
  },
  {
   "cell_type": "code",
   "execution_count": 26,
   "metadata": {},
   "outputs": [],
   "source": [
    "SELECTIONS = eval(SELECTIONS)"
   ]
  },
  {
   "cell_type": "markdown",
   "metadata": {},
   "source": [
    "# Learning Curve"
   ]
  },
  {
   "cell_type": "code",
   "execution_count": 27,
   "metadata": {},
   "outputs": [
    {
     "data": {
      "image/png": "[encoded data removed]",
      "text/plain": [
       "<Figure size 432x288 with 1 Axes>"
      ]
     },
     "metadata": {},
     "output_type": "display_data"
    }
   ],
   "source": [
    "result = Result.query.filter(Result.uuid == UUID).first()\n",
    "fig = plot_learning_curve(result)\n",
    "fig.savefig(\"output/learning_curves/{}-learning_curve.svg\".format(UUID))"
   ]
  },
  {
   "cell_type": "code",
   "execution_count": 8,
   "metadata": {},
   "outputs": [
    {
     "name": "stdout",
     "output_type": "stream",
     "text": [
      "input form: t1c-features\n"
     ]
    }
   ],
   "source": [
    "print(\"input form:\", result.input_form)"
   ]
  },
  {
   "cell_type": "code",
   "execution_count": 28,
   "metadata": {},
   "outputs": [],
   "source": [
    "MODEL = \"{}/models/{}-{}.h5\".format(config.OUTPUT, UUID, result.model)"
   ]
  },
  {
   "cell_type": "code",
   "execution_count": 33,
   "metadata": {
    "scrolled": false
   },
   "outputs": [
    {
     "name": "stderr",
     "output_type": "stream",
     "text": [
      "  1%|▏         | 3/240 [00:01<02:10,  1.81it/s]"
     ]
    },
    {
     "name": "stdout",
     "output_type": "stream",
     "text": [
      "\n",
      "################################################################################\n",
      "Exception occurred for: sort          -\n",
      "volume    0.603\n",
      "outcome   0.000\n",
      "Name: chop-132, dtype: object\n",
      "[Errno 2] No such file or directory: '/home/sopeeweje/bone_master/data_dir/preprocessed/chop-132-t1c-imagingVolume.nrrd'\n",
      "T1C image unavailable\n",
      "Traceback (most recent call last):\n",
      "  File \"/home/sopeeweje/bone_master/data_gen.py\", line 386, in generate_from_features\n",
      "    t1c_masked = load_image(t1c_image_file, t1c_seg_file, verbose=verbose)\n",
      "  File \"/home/sopeeweje/bone_master/data_gen.py\", line 316, in load_image\n",
      "    image, _ = nrrd.read(image_path)\n",
      "  File \"/home/sopeeweje/.local/share/virtualenvs/bone_master-xLR2Nuxv/lib/python3.6/site-packages/nrrd/reader.py\", line 506, in read\n",
      "    with open(filename, 'rb') as fh:\n",
      "FileNotFoundError: [Errno 2] No such file or directory: '/home/sopeeweje/bone_master/data_dir/preprocessed/chop-132-t1c-imagingVolume.nrrd'\n",
      "\n",
      "\n",
      "################################################################################\n",
      "Exception occurred for: sort          -\n",
      "volume    0.603\n",
      "outcome   0.000\n",
      "Name: china085, dtype: object\n",
      "[Errno 2] No such file or directory: '/home/sopeeweje/bone_master/data_dir/preprocessed/china085-t1c-imagingVolume.nrrd'\n",
      "T1C image unavailable\n",
      "Traceback (most recent call last):\n",
      "  File \"/home/sopeeweje/bone_master/data_gen.py\", line 386, in generate_from_features\n",
      "    t1c_masked = load_image(t1c_image_file, t1c_seg_file, verbose=verbose)\n",
      "  File \"/home/sopeeweje/bone_master/data_gen.py\", line 316, in load_image\n",
      "    image, _ = nrrd.read(image_path)\n",
      "  File \"/home/sopeeweje/.local/share/virtualenvs/bone_master-xLR2Nuxv/lib/python3.6/site-packages/nrrd/reader.py\", line 506, in read\n",
      "    with open(filename, 'rb') as fh:\n",
      "FileNotFoundError: [Errno 2] No such file or directory: '/home/sopeeweje/bone_master/data_dir/preprocessed/china085-t1c-imagingVolume.nrrd'\n",
      "\n",
      "\n",
      "################################################################################\n",
      "Exception occurred for: sort          -\n",
      "volume    0.603\n",
      "outcome   0.000\n",
      "Name: chop-31, dtype: object\n",
      "[Errno 2] No such file or directory: '/home/sopeeweje/bone_master/data_dir/preprocessed/chop-31-t1c-imagingVolume.nrrd'\n",
      "T1C image unavailable\n",
      "Traceback (most recent call last):\n",
      "  File \"/home/sopeeweje/bone_master/data_gen.py\", line 386, in generate_from_features\n",
      "    t1c_masked = load_image(t1c_image_file, t1c_seg_file, verbose=verbose)\n",
      "  File \"/home/sopeeweje/bone_master/data_gen.py\", line 316, in load_image\n",
      "    image, _ = nrrd.read(image_path)\n",
      "  File \"/home/sopeeweje/.local/share/virtualenvs/bone_master-xLR2Nuxv/lib/python3.6/site-packages/nrrd/reader.py\", line 506, in read\n",
      "    with open(filename, 'rb') as fh:\n",
      "FileNotFoundError: [Errno 2] No such file or directory: '/home/sopeeweje/bone_master/data_dir/preprocessed/chop-31-t1c-imagingVolume.nrrd'\n",
      "\n"
     ]
    },
    {
     "name": "stderr",
     "output_type": "stream",
     "text": [
      "  2%|▎         | 6/240 [00:02<01:37,  2.40it/s]"
     ]
    },
    {
     "name": "stdout",
     "output_type": "stream",
     "text": [
      "\n",
      "################################################################################\n",
      "Exception occurred for: sort          -\n",
      "volume    0.604\n",
      "outcome   0.000\n",
      "Name: china019, dtype: object\n",
      "[Errno 2] No such file or directory: '/home/sopeeweje/bone_master/data_dir/preprocessed/china019-t1c-imagingVolume.nrrd'\n",
      "T1C image unavailable\n",
      "Traceback (most recent call last):\n",
      "  File \"/home/sopeeweje/bone_master/data_gen.py\", line 386, in generate_from_features\n",
      "    t1c_masked = load_image(t1c_image_file, t1c_seg_file, verbose=verbose)\n",
      "  File \"/home/sopeeweje/bone_master/data_gen.py\", line 316, in load_image\n",
      "    image, _ = nrrd.read(image_path)\n",
      "  File \"/home/sopeeweje/.local/share/virtualenvs/bone_master-xLR2Nuxv/lib/python3.6/site-packages/nrrd/reader.py\", line 506, in read\n",
      "    with open(filename, 'rb') as fh:\n",
      "FileNotFoundError: [Errno 2] No such file or directory: '/home/sopeeweje/bone_master/data_dir/preprocessed/china019-t1c-imagingVolume.nrrd'\n",
      "\n",
      "\n",
      "################################################################################\n",
      "Exception occurred for: sort          -\n",
      "volume    0.603\n",
      "outcome   0.000\n",
      "Name: penn-009, dtype: object\n",
      "[Errno 2] No such file or directory: '/home/sopeeweje/bone_master/data_dir/preprocessed/penn-009-t1-imagingVolume.nrrd'\n",
      "T1 image unavailable\n",
      "Traceback (most recent call last):\n",
      "  File \"/home/sopeeweje/bone_master/data_gen.py\", line 360, in generate_from_features\n",
      "    t1_masked = load_image(t1_image_file, t1_seg_file, verbose=verbose)\n",
      "  File \"/home/sopeeweje/bone_master/data_gen.py\", line 316, in load_image\n",
      "    image, _ = nrrd.read(image_path)\n",
      "  File \"/home/sopeeweje/.local/share/virtualenvs/bone_master-xLR2Nuxv/lib/python3.6/site-packages/nrrd/reader.py\", line 506, in read\n",
      "    with open(filename, 'rb') as fh:\n",
      "FileNotFoundError: [Errno 2] No such file or directory: '/home/sopeeweje/bone_master/data_dir/preprocessed/penn-009-t1-imagingVolume.nrrd'\n",
      "\n"
     ]
    },
    {
     "name": "stderr",
     "output_type": "stream",
     "text": [
      "\r",
      "  3%|▎         | 8/240 [00:03<01:21,  2.83it/s]"
     ]
    },
    {
     "name": "stdout",
     "output_type": "stream",
     "text": [
      "\n",
      "################################################################################\n",
      "Exception occurred for: sort          -\n",
      "volume    0.603\n",
      "outcome   0.000\n",
      "Name: penn-040, dtype: object\n",
      "[Errno 2] No such file or directory: '/home/sopeeweje/bone_master/data_dir/preprocessed/penn-040-t1c-imagingVolume.nrrd'\n",
      "T1C image unavailable\n",
      "Traceback (most recent call last):\n",
      "  File \"/home/sopeeweje/bone_master/data_gen.py\", line 386, in generate_from_features\n",
      "    t1c_masked = load_image(t1c_image_file, t1c_seg_file, verbose=verbose)\n",
      "  File \"/home/sopeeweje/bone_master/data_gen.py\", line 316, in load_image\n",
      "    image, _ = nrrd.read(image_path)\n",
      "  File \"/home/sopeeweje/.local/share/virtualenvs/bone_master-xLR2Nuxv/lib/python3.6/site-packages/nrrd/reader.py\", line 506, in read\n",
      "    with open(filename, 'rb') as fh:\n",
      "FileNotFoundError: [Errno 2] No such file or directory: '/home/sopeeweje/bone_master/data_dir/preprocessed/penn-040-t1c-imagingVolume.nrrd'\n",
      "\n"
     ]
    },
    {
     "name": "stderr",
     "output_type": "stream",
     "text": [
      "  5%|▌         | 12/240 [00:04<01:00,  3.74it/s]"
     ]
    },
    {
     "name": "stdout",
     "output_type": "stream",
     "text": [
      "\n",
      "################################################################################\n",
      "Exception occurred for: sort          -\n",
      "volume    0.603\n",
      "outcome   0.000\n",
      "Name: penn-044, dtype: object\n",
      "[Errno 2] No such file or directory: '/home/sopeeweje/bone_master/data_dir/preprocessed/penn-044-t1c-imagingVolume.nrrd'\n",
      "T1C image unavailable\n",
      "Traceback (most recent call last):\n",
      "  File \"/home/sopeeweje/bone_master/data_gen.py\", line 386, in generate_from_features\n",
      "    t1c_masked = load_image(t1c_image_file, t1c_seg_file, verbose=verbose)\n",
      "  File \"/home/sopeeweje/bone_master/data_gen.py\", line 316, in load_image\n",
      "    image, _ = nrrd.read(image_path)\n",
      "  File \"/home/sopeeweje/.local/share/virtualenvs/bone_master-xLR2Nuxv/lib/python3.6/site-packages/nrrd/reader.py\", line 506, in read\n",
      "    with open(filename, 'rb') as fh:\n",
      "FileNotFoundError: [Errno 2] No such file or directory: '/home/sopeeweje/bone_master/data_dir/preprocessed/penn-044-t1c-imagingVolume.nrrd'\n",
      "\n"
     ]
    },
    {
     "name": "stderr",
     "output_type": "stream",
     "text": [
      "\r",
      "  5%|▌         | 13/240 [00:04<01:03,  3.55it/s]"
     ]
    },
    {
     "name": "stdout",
     "output_type": "stream",
     "text": [
      "\n",
      "################################################################################\n",
      "Exception occurred for: sort          -\n",
      "volume    0.603\n",
      "outcome   0.000\n",
      "Name: penn-036, dtype: object\n",
      "[Errno 2] No such file or directory: '/home/sopeeweje/bone_master/data_dir/preprocessed/penn-036-t1c-imagingVolume.nrrd'\n",
      "T1C image unavailable\n",
      "Traceback (most recent call last):\n",
      "  File \"/home/sopeeweje/bone_master/data_gen.py\", line 386, in generate_from_features\n",
      "    t1c_masked = load_image(t1c_image_file, t1c_seg_file, verbose=verbose)\n",
      "  File \"/home/sopeeweje/bone_master/data_gen.py\", line 316, in load_image\n",
      "    image, _ = nrrd.read(image_path)\n",
      "  File \"/home/sopeeweje/.local/share/virtualenvs/bone_master-xLR2Nuxv/lib/python3.6/site-packages/nrrd/reader.py\", line 506, in read\n",
      "    with open(filename, 'rb') as fh:\n",
      "FileNotFoundError: [Errno 2] No such file or directory: '/home/sopeeweje/bone_master/data_dir/preprocessed/penn-036-t1c-imagingVolume.nrrd'\n",
      "\n"
     ]
    },
    {
     "name": "stderr",
     "output_type": "stream",
     "text": [
      "\r",
      "  6%|▌         | 14/240 [00:04<01:01,  3.70it/s]"
     ]
    },
    {
     "name": "stdout",
     "output_type": "stream",
     "text": [
      "\n",
      "################################################################################\n",
      "Exception occurred for: sort          -\n",
      "volume    0.603\n",
      "outcome   0.000\n",
      "Name: chop-14, dtype: object\n",
      "[Errno 2] No such file or directory: '/home/sopeeweje/bone_master/data_dir/preprocessed/chop-14-t1c-imagingVolume.nrrd'\n",
      "T1C image unavailable\n",
      "Traceback (most recent call last):\n",
      "  File \"/home/sopeeweje/bone_master/data_gen.py\", line 386, in generate_from_features\n",
      "    t1c_masked = load_image(t1c_image_file, t1c_seg_file, verbose=verbose)\n",
      "  File \"/home/sopeeweje/bone_master/data_gen.py\", line 316, in load_image\n",
      "    image, _ = nrrd.read(image_path)\n",
      "  File \"/home/sopeeweje/.local/share/virtualenvs/bone_master-xLR2Nuxv/lib/python3.6/site-packages/nrrd/reader.py\", line 506, in read\n",
      "    with open(filename, 'rb') as fh:\n",
      "FileNotFoundError: [Errno 2] No such file or directory: '/home/sopeeweje/bone_master/data_dir/preprocessed/chop-14-t1c-imagingVolume.nrrd'\n",
      "\n"
     ]
    },
    {
     "name": "stderr",
     "output_type": "stream",
     "text": [
      "  8%|▊         | 18/240 [00:05<00:54,  4.08it/s]"
     ]
    },
    {
     "name": "stdout",
     "output_type": "stream",
     "text": [
      "\n",
      "################################################################################\n",
      "Exception occurred for: sort          -\n",
      "volume    0.603\n",
      "outcome   0.000\n",
      "Name: chop-99, dtype: object\n",
      "[Errno 2] No such file or directory: '/home/sopeeweje/bone_master/data_dir/preprocessed/chop-99-t1c-imagingVolume.nrrd'\n",
      "T1C image unavailable\n",
      "Traceback (most recent call last):\n",
      "  File \"/home/sopeeweje/bone_master/data_gen.py\", line 386, in generate_from_features\n",
      "    t1c_masked = load_image(t1c_image_file, t1c_seg_file, verbose=verbose)\n",
      "  File \"/home/sopeeweje/bone_master/data_gen.py\", line 316, in load_image\n",
      "    image, _ = nrrd.read(image_path)\n",
      "  File \"/home/sopeeweje/.local/share/virtualenvs/bone_master-xLR2Nuxv/lib/python3.6/site-packages/nrrd/reader.py\", line 506, in read\n",
      "    with open(filename, 'rb') as fh:\n",
      "FileNotFoundError: [Errno 2] No such file or directory: '/home/sopeeweje/bone_master/data_dir/preprocessed/chop-99-t1c-imagingVolume.nrrd'\n",
      "\n"
     ]
    },
    {
     "name": "stderr",
     "output_type": "stream",
     "text": [
      "  8%|▊         | 20/240 [00:06<01:04,  3.41it/s]"
     ]
    },
    {
     "name": "stdout",
     "output_type": "stream",
     "text": [
      "\n",
      "################################################################################\n",
      "Exception occurred for: sort          -\n",
      "volume    0.603\n",
      "outcome   0.000\n",
      "Name: penn-062, dtype: object\n",
      "[Errno 2] No such file or directory: '/home/sopeeweje/bone_master/data_dir/preprocessed/penn-062-t1c-imagingVolume.nrrd'\n",
      "T1C image unavailable\n",
      "Traceback (most recent call last):\n",
      "  File \"/home/sopeeweje/bone_master/data_gen.py\", line 386, in generate_from_features\n",
      "    t1c_masked = load_image(t1c_image_file, t1c_seg_file, verbose=verbose)\n",
      "  File \"/home/sopeeweje/bone_master/data_gen.py\", line 316, in load_image\n",
      "    image, _ = nrrd.read(image_path)\n",
      "  File \"/home/sopeeweje/.local/share/virtualenvs/bone_master-xLR2Nuxv/lib/python3.6/site-packages/nrrd/reader.py\", line 506, in read\n",
      "    with open(filename, 'rb') as fh:\n",
      "FileNotFoundError: [Errno 2] No such file or directory: '/home/sopeeweje/bone_master/data_dir/preprocessed/penn-062-t1c-imagingVolume.nrrd'\n",
      "\n"
     ]
    },
    {
     "name": "stderr",
     "output_type": "stream",
     "text": [
      "\r",
      "  9%|▉         | 21/240 [00:06<01:02,  3.51it/s]"
     ]
    },
    {
     "name": "stdout",
     "output_type": "stream",
     "text": [
      "\n",
      "################################################################################\n",
      "Exception occurred for: sort          -\n",
      "volume    0.603\n",
      "outcome   0.000\n",
      "Name: chop-71, dtype: object\n",
      "[Errno 2] No such file or directory: '/home/sopeeweje/bone_master/data_dir/preprocessed/chop-71-t1c-imagingVolume.nrrd'\n",
      "T1C image unavailable\n",
      "Traceback (most recent call last):\n",
      "  File \"/home/sopeeweje/bone_master/data_gen.py\", line 386, in generate_from_features\n",
      "    t1c_masked = load_image(t1c_image_file, t1c_seg_file, verbose=verbose)\n",
      "  File \"/home/sopeeweje/bone_master/data_gen.py\", line 316, in load_image\n",
      "    image, _ = nrrd.read(image_path)\n",
      "  File \"/home/sopeeweje/.local/share/virtualenvs/bone_master-xLR2Nuxv/lib/python3.6/site-packages/nrrd/reader.py\", line 506, in read\n",
      "    with open(filename, 'rb') as fh:\n",
      "FileNotFoundError: [Errno 2] No such file or directory: '/home/sopeeweje/bone_master/data_dir/preprocessed/chop-71-t1c-imagingVolume.nrrd'\n",
      "\n"
     ]
    },
    {
     "name": "stderr",
     "output_type": "stream",
     "text": [
      " 10%|█         | 24/240 [00:09<01:37,  2.21it/s]"
     ]
    },
    {
     "name": "stdout",
     "output_type": "stream",
     "text": [
      "\n",
      "################################################################################\n",
      "Exception occurred for: sort          -\n",
      "volume    0.603\n",
      "outcome   0.000\n",
      "Name: chop-57, dtype: object\n",
      "[Errno 2] No such file or directory: '/home/sopeeweje/bone_master/data_dir/preprocessed/chop-57-t1c-imagingVolume.nrrd'\n",
      "T1C image unavailable\n",
      "Traceback (most recent call last):\n",
      "  File \"/home/sopeeweje/bone_master/data_gen.py\", line 386, in generate_from_features\n",
      "    t1c_masked = load_image(t1c_image_file, t1c_seg_file, verbose=verbose)\n",
      "  File \"/home/sopeeweje/bone_master/data_gen.py\", line 316, in load_image\n",
      "    image, _ = nrrd.read(image_path)\n",
      "  File \"/home/sopeeweje/.local/share/virtualenvs/bone_master-xLR2Nuxv/lib/python3.6/site-packages/nrrd/reader.py\", line 506, in read\n",
      "    with open(filename, 'rb') as fh:\n",
      "FileNotFoundError: [Errno 2] No such file or directory: '/home/sopeeweje/bone_master/data_dir/preprocessed/chop-57-t1c-imagingVolume.nrrd'\n",
      "\n"
     ]
    },
    {
     "name": "stderr",
     "output_type": "stream",
     "text": [
      " 11%|█▏        | 27/240 [00:09<01:08,  3.12it/s]"
     ]
    },
    {
     "name": "stdout",
     "output_type": "stream",
     "text": [
      "\n",
      "################################################################################\n",
      "Exception occurred for: sort          -\n",
      "volume    0.603\n",
      "outcome   0.000\n",
      "Name: chop-142, dtype: object\n",
      "[Errno 2] No such file or directory: '/home/sopeeweje/bone_master/data_dir/preprocessed/chop-142-t1c-imagingVolume.nrrd'\n",
      "T1C image unavailable\n",
      "Traceback (most recent call last):\n",
      "  File \"/home/sopeeweje/bone_master/data_gen.py\", line 386, in generate_from_features\n",
      "    t1c_masked = load_image(t1c_image_file, t1c_seg_file, verbose=verbose)\n",
      "  File \"/home/sopeeweje/bone_master/data_gen.py\", line 316, in load_image\n",
      "    image, _ = nrrd.read(image_path)\n",
      "  File \"/home/sopeeweje/.local/share/virtualenvs/bone_master-xLR2Nuxv/lib/python3.6/site-packages/nrrd/reader.py\", line 506, in read\n",
      "    with open(filename, 'rb') as fh:\n",
      "FileNotFoundError: [Errno 2] No such file or directory: '/home/sopeeweje/bone_master/data_dir/preprocessed/chop-142-t1c-imagingVolume.nrrd'\n",
      "\n"
     ]
    },
    {
     "name": "stderr",
     "output_type": "stream",
     "text": [
      "\r",
      " 12%|█▏        | 28/240 [00:10<01:19,  2.68it/s]"
     ]
    },
    {
     "name": "stdout",
     "output_type": "stream",
     "text": [
      "\n",
      "################################################################################\n",
      "Exception occurred for: sort          -\n",
      "volume    0.603\n",
      "outcome   0.000\n",
      "Name: penn-028, dtype: object\n",
      "[Errno 2] No such file or directory: '/home/sopeeweje/bone_master/data_dir/preprocessed/penn-028-t1c-imagingVolume.nrrd'\n",
      "T1C image unavailable\n",
      "Traceback (most recent call last):\n",
      "  File \"/home/sopeeweje/bone_master/data_gen.py\", line 386, in generate_from_features\n",
      "    t1c_masked = load_image(t1c_image_file, t1c_seg_file, verbose=verbose)\n",
      "  File \"/home/sopeeweje/bone_master/data_gen.py\", line 316, in load_image\n",
      "    image, _ = nrrd.read(image_path)\n",
      "  File \"/home/sopeeweje/.local/share/virtualenvs/bone_master-xLR2Nuxv/lib/python3.6/site-packages/nrrd/reader.py\", line 506, in read\n",
      "    with open(filename, 'rb') as fh:\n",
      "FileNotFoundError: [Errno 2] No such file or directory: '/home/sopeeweje/bone_master/data_dir/preprocessed/penn-028-t1c-imagingVolume.nrrd'\n",
      "\n"
     ]
    },
    {
     "name": "stderr",
     "output_type": "stream",
     "text": [
      "\r",
      " 12%|█▏        | 29/240 [00:10<01:17,  2.72it/s]"
     ]
    },
    {
     "name": "stdout",
     "output_type": "stream",
     "text": [
      "\n",
      "################################################################################\n",
      "Exception occurred for: sort          -\n",
      "volume    0.603\n",
      "outcome   0.000\n",
      "Name: penn-017, dtype: object\n",
      "[Errno 2] No such file or directory: '/home/sopeeweje/bone_master/data_dir/preprocessed/penn-017-t1c-imagingVolume.nrrd'\n",
      "T1C image unavailable\n",
      "Traceback (most recent call last):\n",
      "  File \"/home/sopeeweje/bone_master/data_gen.py\", line 386, in generate_from_features\n",
      "    t1c_masked = load_image(t1c_image_file, t1c_seg_file, verbose=verbose)\n",
      "  File \"/home/sopeeweje/bone_master/data_gen.py\", line 316, in load_image\n",
      "    image, _ = nrrd.read(image_path)\n",
      "  File \"/home/sopeeweje/.local/share/virtualenvs/bone_master-xLR2Nuxv/lib/python3.6/site-packages/nrrd/reader.py\", line 506, in read\n",
      "    with open(filename, 'rb') as fh:\n",
      "FileNotFoundError: [Errno 2] No such file or directory: '/home/sopeeweje/bone_master/data_dir/preprocessed/penn-017-t1c-imagingVolume.nrrd'\n",
      "\n"
     ]
    },
    {
     "name": "stderr",
     "output_type": "stream",
     "text": [
      " 13%|█▎        | 32/240 [00:12<01:29,  2.34it/s]"
     ]
    },
    {
     "name": "stdout",
     "output_type": "stream",
     "text": [
      "\n",
      "################################################################################\n",
      "Exception occurred for: sort          -\n",
      "volume    0.603\n",
      "outcome   0.000\n",
      "Name: chop-15, dtype: object\n",
      "[Errno 2] No such file or directory: '/home/sopeeweje/bone_master/data_dir/preprocessed/chop-15-t1c-imagingVolume.nrrd'\n",
      "T1C image unavailable\n",
      "Traceback (most recent call last):\n",
      "  File \"/home/sopeeweje/bone_master/data_gen.py\", line 386, in generate_from_features\n",
      "    t1c_masked = load_image(t1c_image_file, t1c_seg_file, verbose=verbose)\n",
      "  File \"/home/sopeeweje/bone_master/data_gen.py\", line 316, in load_image\n",
      "    image, _ = nrrd.read(image_path)\n",
      "  File \"/home/sopeeweje/.local/share/virtualenvs/bone_master-xLR2Nuxv/lib/python3.6/site-packages/nrrd/reader.py\", line 506, in read\n",
      "    with open(filename, 'rb') as fh:\n",
      "FileNotFoundError: [Errno 2] No such file or directory: '/home/sopeeweje/bone_master/data_dir/preprocessed/chop-15-t1c-imagingVolume.nrrd'\n",
      "\n"
     ]
    },
    {
     "name": "stderr",
     "output_type": "stream",
     "text": [
      "\r",
      " 14%|█▍        | 33/240 [00:12<01:18,  2.63it/s]"
     ]
    },
    {
     "name": "stdout",
     "output_type": "stream",
     "text": [
      "\n",
      "################################################################################\n",
      "Exception occurred for: sort          -\n",
      "volume    0.603\n",
      "outcome   0.000\n",
      "Name: chop-77, dtype: object\n",
      "[Errno 2] No such file or directory: '/home/sopeeweje/bone_master/data_dir/preprocessed/chop-77-t1c-imagingVolume.nrrd'\n",
      "T1C image unavailable\n",
      "Traceback (most recent call last):\n",
      "  File \"/home/sopeeweje/bone_master/data_gen.py\", line 386, in generate_from_features\n",
      "    t1c_masked = load_image(t1c_image_file, t1c_seg_file, verbose=verbose)\n",
      "  File \"/home/sopeeweje/bone_master/data_gen.py\", line 316, in load_image\n",
      "    image, _ = nrrd.read(image_path)\n",
      "  File \"/home/sopeeweje/.local/share/virtualenvs/bone_master-xLR2Nuxv/lib/python3.6/site-packages/nrrd/reader.py\", line 506, in read\n",
      "    with open(filename, 'rb') as fh:\n",
      "FileNotFoundError: [Errno 2] No such file or directory: '/home/sopeeweje/bone_master/data_dir/preprocessed/chop-77-t1c-imagingVolume.nrrd'\n",
      "\n"
     ]
    },
    {
     "name": "stderr",
     "output_type": "stream",
     "text": [
      " 16%|█▌        | 38/240 [00:14<01:04,  3.15it/s]"
     ]
    },
    {
     "name": "stdout",
     "output_type": "stream",
     "text": [
      "\n",
      "################################################################################\n",
      "Exception occurred for: sort          -\n",
      "volume    0.603\n",
      "outcome   0.000\n",
      "Name: chop-119, dtype: object\n",
      "[Errno 2] No such file or directory: '/home/sopeeweje/bone_master/data_dir/preprocessed/chop-119-t1c-imagingVolume.nrrd'\n",
      "T1C image unavailable\n",
      "Traceback (most recent call last):\n",
      "  File \"/home/sopeeweje/bone_master/data_gen.py\", line 386, in generate_from_features\n",
      "    t1c_masked = load_image(t1c_image_file, t1c_seg_file, verbose=verbose)\n",
      "  File \"/home/sopeeweje/bone_master/data_gen.py\", line 316, in load_image\n",
      "    image, _ = nrrd.read(image_path)\n",
      "  File \"/home/sopeeweje/.local/share/virtualenvs/bone_master-xLR2Nuxv/lib/python3.6/site-packages/nrrd/reader.py\", line 506, in read\n",
      "    with open(filename, 'rb') as fh:\n",
      "FileNotFoundError: [Errno 2] No such file or directory: '/home/sopeeweje/bone_master/data_dir/preprocessed/chop-119-t1c-imagingVolume.nrrd'\n",
      "\n"
     ]
    },
    {
     "name": "stderr",
     "output_type": "stream",
     "text": [
      "\r",
      " 16%|█▋        | 39/240 [00:15<01:43,  1.94it/s]"
     ]
    },
    {
     "name": "stdout",
     "output_type": "stream",
     "text": [
      "\n",
      "################################################################################\n",
      "Exception occurred for: sort          -\n",
      "volume    0.603\n",
      "outcome   0.000\n",
      "Name: penn-007, dtype: object\n",
      "[Errno 2] No such file or directory: '/home/sopeeweje/bone_master/data_dir/preprocessed/penn-007-t1c-imagingVolume.nrrd'\n",
      "T1C image unavailable\n",
      "Traceback (most recent call last):\n",
      "  File \"/home/sopeeweje/bone_master/data_gen.py\", line 386, in generate_from_features\n",
      "    t1c_masked = load_image(t1c_image_file, t1c_seg_file, verbose=verbose)\n",
      "  File \"/home/sopeeweje/bone_master/data_gen.py\", line 316, in load_image\n",
      "    image, _ = nrrd.read(image_path)\n",
      "  File \"/home/sopeeweje/.local/share/virtualenvs/bone_master-xLR2Nuxv/lib/python3.6/site-packages/nrrd/reader.py\", line 506, in read\n",
      "    with open(filename, 'rb') as fh:\n",
      "FileNotFoundError: [Errno 2] No such file or directory: '/home/sopeeweje/bone_master/data_dir/preprocessed/penn-007-t1c-imagingVolume.nrrd'\n",
      "\n"
     ]
    },
    {
     "name": "stderr",
     "output_type": "stream",
     "text": [
      " 18%|█▊        | 42/240 [00:15<01:11,  2.78it/s]"
     ]
    },
    {
     "name": "stdout",
     "output_type": "stream",
     "text": [
      "\n",
      "################################################################################\n",
      "Exception occurred for: sort          -\n",
      "volume    0.603\n",
      "outcome   0.000\n",
      "Name: china067, dtype: object\n",
      "[Errno 2] No such file or directory: '/home/sopeeweje/bone_master/data_dir/preprocessed/china067-t1c-imagingVolume.nrrd'\n",
      "T1C image unavailable\n",
      "Traceback (most recent call last):\n",
      "  File \"/home/sopeeweje/bone_master/data_gen.py\", line 386, in generate_from_features\n",
      "    t1c_masked = load_image(t1c_image_file, t1c_seg_file, verbose=verbose)\n",
      "  File \"/home/sopeeweje/bone_master/data_gen.py\", line 316, in load_image\n",
      "    image, _ = nrrd.read(image_path)\n",
      "  File \"/home/sopeeweje/.local/share/virtualenvs/bone_master-xLR2Nuxv/lib/python3.6/site-packages/nrrd/reader.py\", line 506, in read\n",
      "    with open(filename, 'rb') as fh:\n",
      "FileNotFoundError: [Errno 2] No such file or directory: '/home/sopeeweje/bone_master/data_dir/preprocessed/china067-t1c-imagingVolume.nrrd'\n",
      "\n",
      "\n",
      "################################################################################\n",
      "Exception occurred for: sort          -\n",
      "volume    0.603\n",
      "outcome   0.000\n",
      "Name: chop-79, dtype: object\n",
      "[Errno 2] No such file or directory: '/home/sopeeweje/bone_master/data_dir/preprocessed/chop-79-t1c-imagingVolume.nrrd'\n",
      "T1C image unavailable\n",
      "Traceback (most recent call last):\n",
      "  File \"/home/sopeeweje/bone_master/data_gen.py\", line 386, in generate_from_features\n",
      "    t1c_masked = load_image(t1c_image_file, t1c_seg_file, verbose=verbose)\n",
      "  File \"/home/sopeeweje/bone_master/data_gen.py\", line 316, in load_image\n",
      "    image, _ = nrrd.read(image_path)\n",
      "  File \"/home/sopeeweje/.local/share/virtualenvs/bone_master-xLR2Nuxv/lib/python3.6/site-packages/nrrd/reader.py\", line 506, in read\n",
      "    with open(filename, 'rb') as fh:\n",
      "FileNotFoundError: [Errno 2] No such file or directory: '/home/sopeeweje/bone_master/data_dir/preprocessed/chop-79-t1c-imagingVolume.nrrd'\n",
      "\n"
     ]
    },
    {
     "name": "stderr",
     "output_type": "stream",
     "text": [
      " 18%|█▊        | 44/240 [00:16<01:10,  2.78it/s]"
     ]
    },
    {
     "name": "stdout",
     "output_type": "stream",
     "text": [
      "\n",
      "################################################################################\n",
      "Exception occurred for: sort          -\n",
      "volume    0.603\n",
      "outcome   0.000\n",
      "Name: chop-40, dtype: object\n",
      "[Errno 2] No such file or directory: '/home/sopeeweje/bone_master/data_dir/preprocessed/chop-40-t1c-imagingVolume.nrrd'\n",
      "T1C image unavailable\n",
      "Traceback (most recent call last):\n",
      "  File \"/home/sopeeweje/bone_master/data_gen.py\", line 386, in generate_from_features\n",
      "    t1c_masked = load_image(t1c_image_file, t1c_seg_file, verbose=verbose)\n",
      "  File \"/home/sopeeweje/bone_master/data_gen.py\", line 316, in load_image\n",
      "    image, _ = nrrd.read(image_path)\n",
      "  File \"/home/sopeeweje/.local/share/virtualenvs/bone_master-xLR2Nuxv/lib/python3.6/site-packages/nrrd/reader.py\", line 506, in read\n",
      "    with open(filename, 'rb') as fh:\n",
      "FileNotFoundError: [Errno 2] No such file or directory: '/home/sopeeweje/bone_master/data_dir/preprocessed/chop-40-t1c-imagingVolume.nrrd'\n",
      "\n"
     ]
    },
    {
     "name": "stderr",
     "output_type": "stream",
     "text": [
      " 20%|██        | 49/240 [00:17<00:41,  4.65it/s]"
     ]
    },
    {
     "name": "stdout",
     "output_type": "stream",
     "text": [
      "\n",
      "################################################################################\n",
      "Exception occurred for: sort          -\n",
      "volume    0.606\n",
      "outcome   0.000\n",
      "Name: china133, dtype: object\n",
      "[Errno 2] No such file or directory: '/home/sopeeweje/bone_master/data_dir/preprocessed/china133-t1c-imagingVolume.nrrd'\n",
      "T1C image unavailable\n",
      "Traceback (most recent call last):\n",
      "  File \"/home/sopeeweje/bone_master/data_gen.py\", line 386, in generate_from_features\n",
      "    t1c_masked = load_image(t1c_image_file, t1c_seg_file, verbose=verbose)\n",
      "  File \"/home/sopeeweje/bone_master/data_gen.py\", line 316, in load_image\n",
      "    image, _ = nrrd.read(image_path)\n",
      "  File \"/home/sopeeweje/.local/share/virtualenvs/bone_master-xLR2Nuxv/lib/python3.6/site-packages/nrrd/reader.py\", line 506, in read\n",
      "    with open(filename, 'rb') as fh:\n",
      "FileNotFoundError: [Errno 2] No such file or directory: '/home/sopeeweje/bone_master/data_dir/preprocessed/china133-t1c-imagingVolume.nrrd'\n",
      "\n",
      "\n",
      "################################################################################\n",
      "Exception occurred for: sort          -\n",
      "volume    0.603\n",
      "outcome   0.000\n",
      "Name: penn-030, dtype: object\n",
      "[Errno 2] No such file or directory: '/home/sopeeweje/bone_master/data_dir/preprocessed/penn-030-t1c-imagingVolume.nrrd'\n",
      "T1C image unavailable\n",
      "Traceback (most recent call last):\n",
      "  File \"/home/sopeeweje/bone_master/data_gen.py\", line 386, in generate_from_features\n",
      "    t1c_masked = load_image(t1c_image_file, t1c_seg_file, verbose=verbose)\n",
      "  File \"/home/sopeeweje/bone_master/data_gen.py\", line 316, in load_image\n",
      "    image, _ = nrrd.read(image_path)\n",
      "  File \"/home/sopeeweje/.local/share/virtualenvs/bone_master-xLR2Nuxv/lib/python3.6/site-packages/nrrd/reader.py\", line 506, in read\n",
      "    with open(filename, 'rb') as fh:\n",
      "FileNotFoundError: [Errno 2] No such file or directory: '/home/sopeeweje/bone_master/data_dir/preprocessed/penn-030-t1c-imagingVolume.nrrd'\n",
      "\n"
     ]
    },
    {
     "name": "stderr",
     "output_type": "stream",
     "text": [
      " 22%|██▏       | 52/240 [00:19<01:24,  2.23it/s]"
     ]
    },
    {
     "name": "stdout",
     "output_type": "stream",
     "text": [
      "\n",
      "################################################################################\n",
      "Exception occurred for: sort          -\n",
      "volume    0.603\n",
      "outcome   0.000\n",
      "Name: china091, dtype: object\n",
      "[Errno 2] No such file or directory: '/home/sopeeweje/bone_master/data_dir/preprocessed/china091-t1c-imagingVolume.nrrd'\n",
      "T1C image unavailable\n",
      "Traceback (most recent call last):\n",
      "  File \"/home/sopeeweje/bone_master/data_gen.py\", line 386, in generate_from_features\n",
      "    t1c_masked = load_image(t1c_image_file, t1c_seg_file, verbose=verbose)\n",
      "  File \"/home/sopeeweje/bone_master/data_gen.py\", line 316, in load_image\n",
      "    image, _ = nrrd.read(image_path)\n",
      "  File \"/home/sopeeweje/.local/share/virtualenvs/bone_master-xLR2Nuxv/lib/python3.6/site-packages/nrrd/reader.py\", line 506, in read\n",
      "    with open(filename, 'rb') as fh:\n",
      "FileNotFoundError: [Errno 2] No such file or directory: '/home/sopeeweje/bone_master/data_dir/preprocessed/china091-t1c-imagingVolume.nrrd'\n",
      "\n",
      "\n",
      "################################################################################\n",
      "Exception occurred for: sort          -\n",
      "volume    0.603\n",
      "outcome   0.000\n",
      "Name: chop-134, dtype: object\n",
      "[Errno 2] No such file or directory: '/home/sopeeweje/bone_master/data_dir/preprocessed/chop-134-t1c-imagingVolume.nrrd'\n",
      "T1C image unavailable\n",
      "Traceback (most recent call last):\n",
      "  File \"/home/sopeeweje/bone_master/data_gen.py\", line 386, in generate_from_features\n",
      "    t1c_masked = load_image(t1c_image_file, t1c_seg_file, verbose=verbose)\n",
      "  File \"/home/sopeeweje/bone_master/data_gen.py\", line 316, in load_image\n",
      "    image, _ = nrrd.read(image_path)\n",
      "  File \"/home/sopeeweje/.local/share/virtualenvs/bone_master-xLR2Nuxv/lib/python3.6/site-packages/nrrd/reader.py\", line 506, in read\n",
      "    with open(filename, 'rb') as fh:\n",
      "FileNotFoundError: [Errno 2] No such file or directory: '/home/sopeeweje/bone_master/data_dir/preprocessed/chop-134-t1c-imagingVolume.nrrd'\n",
      "\n"
     ]
    },
    {
     "name": "stderr",
     "output_type": "stream",
     "text": [
      " 23%|██▎       | 56/240 [00:20<00:50,  3.68it/s]"
     ]
    },
    {
     "name": "stdout",
     "output_type": "stream",
     "text": [
      "\n",
      "################################################################################\n",
      "Exception occurred for: sort          -\n",
      "volume    0.603\n",
      "outcome   0.000\n",
      "Name: chop-43, dtype: object\n",
      "[Errno 2] No such file or directory: '/home/sopeeweje/bone_master/data_dir/preprocessed/chop-43-t1c-imagingVolume.nrrd'\n",
      "T1C image unavailable\n",
      "Traceback (most recent call last):\n",
      "  File \"/home/sopeeweje/bone_master/data_gen.py\", line 386, in generate_from_features\n",
      "    t1c_masked = load_image(t1c_image_file, t1c_seg_file, verbose=verbose)\n",
      "  File \"/home/sopeeweje/bone_master/data_gen.py\", line 316, in load_image\n",
      "    image, _ = nrrd.read(image_path)\n",
      "  File \"/home/sopeeweje/.local/share/virtualenvs/bone_master-xLR2Nuxv/lib/python3.6/site-packages/nrrd/reader.py\", line 506, in read\n",
      "    with open(filename, 'rb') as fh:\n",
      "FileNotFoundError: [Errno 2] No such file or directory: '/home/sopeeweje/bone_master/data_dir/preprocessed/chop-43-t1c-imagingVolume.nrrd'\n",
      "\n",
      "\n",
      "################################################################################\n",
      "Exception occurred for: sort          -\n",
      "volume    0.603\n",
      "outcome   0.000\n",
      "Name: china141, dtype: object\n",
      "[Errno 2] No such file or directory: '/home/sopeeweje/bone_master/data_dir/preprocessed/china141-t1c-imagingVolume.nrrd'\n",
      "T1C image unavailable\n",
      "Traceback (most recent call last):\n",
      "  File \"/home/sopeeweje/bone_master/data_gen.py\", line 386, in generate_from_features\n",
      "    t1c_masked = load_image(t1c_image_file, t1c_seg_file, verbose=verbose)\n",
      "  File \"/home/sopeeweje/bone_master/data_gen.py\", line 316, in load_image\n",
      "    image, _ = nrrd.read(image_path)\n",
      "  File \"/home/sopeeweje/.local/share/virtualenvs/bone_master-xLR2Nuxv/lib/python3.6/site-packages/nrrd/reader.py\", line 506, in read\n",
      "    with open(filename, 'rb') as fh:\n",
      "FileNotFoundError: [Errno 2] No such file or directory: '/home/sopeeweje/bone_master/data_dir/preprocessed/china141-t1c-imagingVolume.nrrd'\n",
      "\n"
     ]
    },
    {
     "name": "stderr",
     "output_type": "stream",
     "text": [
      " 25%|██▌       | 60/240 [00:22<01:30,  1.98it/s]"
     ]
    },
    {
     "name": "stdout",
     "output_type": "stream",
     "text": [
      "\n",
      "################################################################################\n",
      "Exception occurred for: sort          -\n",
      "volume    0.603\n",
      "outcome   0.000\n",
      "Name: chop-78, dtype: object\n",
      "[Errno 2] No such file or directory: '/home/sopeeweje/bone_master/data_dir/preprocessed/chop-78-t1c-imagingVolume.nrrd'\n",
      "T1C image unavailable\n",
      "Traceback (most recent call last):\n",
      "  File \"/home/sopeeweje/bone_master/data_gen.py\", line 386, in generate_from_features\n",
      "    t1c_masked = load_image(t1c_image_file, t1c_seg_file, verbose=verbose)\n",
      "  File \"/home/sopeeweje/bone_master/data_gen.py\", line 316, in load_image\n",
      "    image, _ = nrrd.read(image_path)\n",
      "  File \"/home/sopeeweje/.local/share/virtualenvs/bone_master-xLR2Nuxv/lib/python3.6/site-packages/nrrd/reader.py\", line 506, in read\n",
      "    with open(filename, 'rb') as fh:\n",
      "FileNotFoundError: [Errno 2] No such file or directory: '/home/sopeeweje/bone_master/data_dir/preprocessed/chop-78-t1c-imagingVolume.nrrd'\n",
      "\n"
     ]
    },
    {
     "name": "stderr",
     "output_type": "stream",
     "text": [
      " 26%|██▌       | 62/240 [00:23<01:01,  2.88it/s]"
     ]
    },
    {
     "name": "stdout",
     "output_type": "stream",
     "text": [
      "\n",
      "################################################################################\n",
      "Exception occurred for: sort          -\n",
      "volume    0.603\n",
      "outcome   0.000\n",
      "Name: chop-64, dtype: object\n",
      "[Errno 2] No such file or directory: '/home/sopeeweje/bone_master/data_dir/preprocessed/chop-64-t1c-imagingVolume.nrrd'\n",
      "T1C image unavailable\n",
      "Traceback (most recent call last):\n",
      "  File \"/home/sopeeweje/bone_master/data_gen.py\", line 386, in generate_from_features\n",
      "    t1c_masked = load_image(t1c_image_file, t1c_seg_file, verbose=verbose)\n",
      "  File \"/home/sopeeweje/bone_master/data_gen.py\", line 316, in load_image\n",
      "    image, _ = nrrd.read(image_path)\n",
      "  File \"/home/sopeeweje/.local/share/virtualenvs/bone_master-xLR2Nuxv/lib/python3.6/site-packages/nrrd/reader.py\", line 506, in read\n",
      "    with open(filename, 'rb') as fh:\n",
      "FileNotFoundError: [Errno 2] No such file or directory: '/home/sopeeweje/bone_master/data_dir/preprocessed/chop-64-t1c-imagingVolume.nrrd'\n",
      "\n",
      "\n",
      "################################################################################\n",
      "Exception occurred for: sort          -\n",
      "volume    0.603\n",
      "outcome   0.000\n",
      "Name: china117, dtype: object\n",
      "[Errno 2] No such file or directory: '/home/sopeeweje/bone_master/data_dir/preprocessed/china117-t1c-imagingVolume.nrrd'\n",
      "T1C image unavailable\n",
      "Traceback (most recent call last):\n",
      "  File \"/home/sopeeweje/bone_master/data_gen.py\", line 386, in generate_from_features\n",
      "    t1c_masked = load_image(t1c_image_file, t1c_seg_file, verbose=verbose)\n",
      "  File \"/home/sopeeweje/bone_master/data_gen.py\", line 316, in load_image\n",
      "    image, _ = nrrd.read(image_path)\n",
      "  File \"/home/sopeeweje/.local/share/virtualenvs/bone_master-xLR2Nuxv/lib/python3.6/site-packages/nrrd/reader.py\", line 506, in read\n",
      "    with open(filename, 'rb') as fh:\n",
      "FileNotFoundError: [Errno 2] No such file or directory: '/home/sopeeweje/bone_master/data_dir/preprocessed/china117-t1c-imagingVolume.nrrd'\n",
      "\n"
     ]
    },
    {
     "name": "stderr",
     "output_type": "stream",
     "text": [
      " 27%|██▋       | 64/240 [00:23<00:43,  4.01it/s]"
     ]
    },
    {
     "name": "stdout",
     "output_type": "stream",
     "text": [
      "\n",
      "################################################################################\n",
      "Exception occurred for: sort          -\n",
      "volume    0.603\n",
      "outcome   0.000\n",
      "Name: china049, dtype: object\n",
      "[Errno 2] No such file or directory: '/home/sopeeweje/bone_master/data_dir/preprocessed/china049-t1c-imagingVolume.nrrd'\n",
      "T1C image unavailable\n",
      "Traceback (most recent call last):\n",
      "  File \"/home/sopeeweje/bone_master/data_gen.py\", line 386, in generate_from_features\n",
      "    t1c_masked = load_image(t1c_image_file, t1c_seg_file, verbose=verbose)\n",
      "  File \"/home/sopeeweje/bone_master/data_gen.py\", line 316, in load_image\n",
      "    image, _ = nrrd.read(image_path)\n",
      "  File \"/home/sopeeweje/.local/share/virtualenvs/bone_master-xLR2Nuxv/lib/python3.6/site-packages/nrrd/reader.py\", line 506, in read\n",
      "    with open(filename, 'rb') as fh:\n",
      "FileNotFoundError: [Errno 2] No such file or directory: '/home/sopeeweje/bone_master/data_dir/preprocessed/china049-t1c-imagingVolume.nrrd'\n",
      "\n"
     ]
    },
    {
     "name": "stderr",
     "output_type": "stream",
     "text": [
      "\r",
      " 27%|██▋       | 65/240 [00:23<00:37,  4.61it/s]"
     ]
    },
    {
     "name": "stdout",
     "output_type": "stream",
     "text": [
      "\n",
      "################################################################################\n",
      "Exception occurred for: sort          -\n",
      "volume    0.603\n",
      "outcome   0.000\n",
      "Name: china099, dtype: object\n",
      "[Errno 2] No such file or directory: '/home/sopeeweje/bone_master/data_dir/preprocessed/china099-t1c-imagingVolume.nrrd'\n",
      "T1C image unavailable\n",
      "Traceback (most recent call last):\n",
      "  File \"/home/sopeeweje/bone_master/data_gen.py\", line 386, in generate_from_features\n",
      "    t1c_masked = load_image(t1c_image_file, t1c_seg_file, verbose=verbose)\n",
      "  File \"/home/sopeeweje/bone_master/data_gen.py\", line 316, in load_image\n",
      "    image, _ = nrrd.read(image_path)\n",
      "  File \"/home/sopeeweje/.local/share/virtualenvs/bone_master-xLR2Nuxv/lib/python3.6/site-packages/nrrd/reader.py\", line 506, in read\n",
      "    with open(filename, 'rb') as fh:\n",
      "FileNotFoundError: [Errno 2] No such file or directory: '/home/sopeeweje/bone_master/data_dir/preprocessed/china099-t1c-imagingVolume.nrrd'\n",
      "\n",
      "\n",
      "################################################################################\n",
      "Exception occurred for: sort          -\n",
      "volume    0.603\n",
      "outcome   0.000\n",
      "Name: chop-24, dtype: object\n",
      "[Errno 2] No such file or directory: '/home/sopeeweje/bone_master/data_dir/preprocessed/chop-24-t1c-imagingVolume.nrrd'\n",
      "T1C image unavailable\n",
      "Traceback (most recent call last):\n",
      "  File \"/home/sopeeweje/bone_master/data_gen.py\", line 386, in generate_from_features\n",
      "    t1c_masked = load_image(t1c_image_file, t1c_seg_file, verbose=verbose)\n",
      "  File \"/home/sopeeweje/bone_master/data_gen.py\", line 316, in load_image\n",
      "    image, _ = nrrd.read(image_path)\n",
      "  File \"/home/sopeeweje/.local/share/virtualenvs/bone_master-xLR2Nuxv/lib/python3.6/site-packages/nrrd/reader.py\", line 506, in read\n",
      "    with open(filename, 'rb') as fh:\n",
      "FileNotFoundError: [Errno 2] No such file or directory: '/home/sopeeweje/bone_master/data_dir/preprocessed/chop-24-t1c-imagingVolume.nrrd'\n",
      "\n"
     ]
    },
    {
     "name": "stderr",
     "output_type": "stream",
     "text": [
      "\r",
      " 28%|██▊       | 67/240 [00:24<00:34,  5.06it/s]"
     ]
    },
    {
     "name": "stdout",
     "output_type": "stream",
     "text": [
      "\n",
      "################################################################################\n",
      "Exception occurred for: sort          -\n",
      "volume    0.603\n",
      "outcome   0.000\n",
      "Name: chop-62, dtype: object\n",
      "[Errno 2] No such file or directory: '/home/sopeeweje/bone_master/data_dir/preprocessed/chop-62-t1c-imagingVolume.nrrd'\n",
      "T1C image unavailable\n",
      "Traceback (most recent call last):\n",
      "  File \"/home/sopeeweje/bone_master/data_gen.py\", line 386, in generate_from_features\n",
      "    t1c_masked = load_image(t1c_image_file, t1c_seg_file, verbose=verbose)\n",
      "  File \"/home/sopeeweje/bone_master/data_gen.py\", line 316, in load_image\n",
      "    image, _ = nrrd.read(image_path)\n",
      "  File \"/home/sopeeweje/.local/share/virtualenvs/bone_master-xLR2Nuxv/lib/python3.6/site-packages/nrrd/reader.py\", line 506, in read\n",
      "    with open(filename, 'rb') as fh:\n",
      "FileNotFoundError: [Errno 2] No such file or directory: '/home/sopeeweje/bone_master/data_dir/preprocessed/chop-62-t1c-imagingVolume.nrrd'\n",
      "\n"
     ]
    },
    {
     "name": "stderr",
     "output_type": "stream",
     "text": [
      " 29%|██▉       | 70/240 [00:25<00:55,  3.05it/s]"
     ]
    },
    {
     "name": "stdout",
     "output_type": "stream",
     "text": [
      "\n",
      "################################################################################\n",
      "Exception occurred for: sort          -\n",
      "volume    0.603\n",
      "outcome   0.000\n",
      "Name: china011, dtype: object\n",
      "[Errno 2] No such file or directory: '/home/sopeeweje/bone_master/data_dir/preprocessed/china011-t1-imagingVolume.nrrd'\n",
      "T1 image unavailable\n",
      "Traceback (most recent call last):\n",
      "  File \"/home/sopeeweje/bone_master/data_gen.py\", line 360, in generate_from_features\n",
      "    t1_masked = load_image(t1_image_file, t1_seg_file, verbose=verbose)\n",
      "  File \"/home/sopeeweje/bone_master/data_gen.py\", line 316, in load_image\n",
      "    image, _ = nrrd.read(image_path)\n",
      "  File \"/home/sopeeweje/.local/share/virtualenvs/bone_master-xLR2Nuxv/lib/python3.6/site-packages/nrrd/reader.py\", line 506, in read\n",
      "    with open(filename, 'rb') as fh:\n",
      "FileNotFoundError: [Errno 2] No such file or directory: '/home/sopeeweje/bone_master/data_dir/preprocessed/china011-t1-imagingVolume.nrrd'\n",
      "\n"
     ]
    },
    {
     "name": "stderr",
     "output_type": "stream",
     "text": [
      " 31%|███       | 74/240 [00:26<00:50,  3.27it/s]"
     ]
    },
    {
     "name": "stdout",
     "output_type": "stream",
     "text": [
      "\n",
      "################################################################################\n",
      "Exception occurred for: sort          -\n",
      "volume    0.603\n",
      "outcome   0.000\n",
      "Name: chop-135, dtype: object\n",
      "[Errno 2] No such file or directory: '/home/sopeeweje/bone_master/data_dir/preprocessed/chop-135-t1c-imagingVolume.nrrd'\n",
      "T1C image unavailable\n",
      "Traceback (most recent call last):\n",
      "  File \"/home/sopeeweje/bone_master/data_gen.py\", line 386, in generate_from_features\n",
      "    t1c_masked = load_image(t1c_image_file, t1c_seg_file, verbose=verbose)\n",
      "  File \"/home/sopeeweje/bone_master/data_gen.py\", line 316, in load_image\n",
      "    image, _ = nrrd.read(image_path)\n",
      "  File \"/home/sopeeweje/.local/share/virtualenvs/bone_master-xLR2Nuxv/lib/python3.6/site-packages/nrrd/reader.py\", line 506, in read\n",
      "    with open(filename, 'rb') as fh:\n",
      "FileNotFoundError: [Errno 2] No such file or directory: '/home/sopeeweje/bone_master/data_dir/preprocessed/chop-135-t1c-imagingVolume.nrrd'\n",
      "\n"
     ]
    },
    {
     "name": "stderr",
     "output_type": "stream",
     "text": [
      " 33%|███▎      | 79/240 [00:27<00:43,  3.73it/s]"
     ]
    },
    {
     "name": "stdout",
     "output_type": "stream",
     "text": [
      "\n",
      "################################################################################\n",
      "Exception occurred for: sort          -\n",
      "volume    0.603\n",
      "outcome   0.000\n",
      "Name: china030, dtype: object\n",
      "[Errno 2] No such file or directory: '/home/sopeeweje/bone_master/data_dir/preprocessed/china030-t1c-imagingVolume.nrrd'\n",
      "T1C image unavailable\n",
      "Traceback (most recent call last):\n",
      "  File \"/home/sopeeweje/bone_master/data_gen.py\", line 386, in generate_from_features\n",
      "    t1c_masked = load_image(t1c_image_file, t1c_seg_file, verbose=verbose)\n",
      "  File \"/home/sopeeweje/bone_master/data_gen.py\", line 316, in load_image\n",
      "    image, _ = nrrd.read(image_path)\n",
      "  File \"/home/sopeeweje/.local/share/virtualenvs/bone_master-xLR2Nuxv/lib/python3.6/site-packages/nrrd/reader.py\", line 506, in read\n",
      "    with open(filename, 'rb') as fh:\n",
      "FileNotFoundError: [Errno 2] No such file or directory: '/home/sopeeweje/bone_master/data_dir/preprocessed/china030-t1c-imagingVolume.nrrd'\n",
      "\n",
      "\n",
      "################################################################################\n",
      "Exception occurred for: sort          -\n",
      "volume    0.603\n",
      "outcome   0.000\n",
      "Name: china066, dtype: object\n",
      "[Errno 2] No such file or directory: '/home/sopeeweje/bone_master/data_dir/preprocessed/china066-t1c-imagingVolume.nrrd'\n",
      "T1C image unavailable\n",
      "Traceback (most recent call last):\n",
      "  File \"/home/sopeeweje/bone_master/data_gen.py\", line 386, in generate_from_features\n",
      "    t1c_masked = load_image(t1c_image_file, t1c_seg_file, verbose=verbose)\n",
      "  File \"/home/sopeeweje/bone_master/data_gen.py\", line 316, in load_image\n",
      "    image, _ = nrrd.read(image_path)\n",
      "  File \"/home/sopeeweje/.local/share/virtualenvs/bone_master-xLR2Nuxv/lib/python3.6/site-packages/nrrd/reader.py\", line 506, in read\n",
      "    with open(filename, 'rb') as fh:\n",
      "FileNotFoundError: [Errno 2] No such file or directory: '/home/sopeeweje/bone_master/data_dir/preprocessed/china066-t1c-imagingVolume.nrrd'\n",
      "\n"
     ]
    },
    {
     "name": "stderr",
     "output_type": "stream",
     "text": [
      "\r",
      " 33%|███▎      | 80/240 [00:27<00:41,  3.85it/s]"
     ]
    },
    {
     "name": "stdout",
     "output_type": "stream",
     "text": [
      "\n",
      "################################################################################\n",
      "Exception occurred for: sort          -\n",
      "volume    0.603\n",
      "outcome   0.000\n",
      "Name: china072, dtype: object\n",
      "[Errno 2] No such file or directory: '/home/sopeeweje/bone_master/data_dir/preprocessed/china072-t1c-imagingVolume.nrrd'\n",
      "T1C image unavailable\n",
      "Traceback (most recent call last):\n",
      "  File \"/home/sopeeweje/bone_master/data_gen.py\", line 386, in generate_from_features\n",
      "    t1c_masked = load_image(t1c_image_file, t1c_seg_file, verbose=verbose)\n",
      "  File \"/home/sopeeweje/bone_master/data_gen.py\", line 316, in load_image\n",
      "    image, _ = nrrd.read(image_path)\n",
      "  File \"/home/sopeeweje/.local/share/virtualenvs/bone_master-xLR2Nuxv/lib/python3.6/site-packages/nrrd/reader.py\", line 506, in read\n",
      "    with open(filename, 'rb') as fh:\n",
      "FileNotFoundError: [Errno 2] No such file or directory: '/home/sopeeweje/bone_master/data_dir/preprocessed/china072-t1c-imagingVolume.nrrd'\n",
      "\n",
      "\n",
      "################################################################################\n",
      "Exception occurred for: sort          -\n",
      "volume    0.603\n",
      "outcome   0.000\n",
      "Name: penn-073, dtype: object\n",
      "[Errno 2] No such file or directory: '/home/sopeeweje/bone_master/data_dir/preprocessed/penn-073-t1c-imagingVolume.nrrd'\n",
      "T1C image unavailable\n",
      "Traceback (most recent call last):\n",
      "  File \"/home/sopeeweje/bone_master/data_gen.py\", line 386, in generate_from_features\n",
      "    t1c_masked = load_image(t1c_image_file, t1c_seg_file, verbose=verbose)\n",
      "  File \"/home/sopeeweje/bone_master/data_gen.py\", line 316, in load_image\n",
      "    image, _ = nrrd.read(image_path)\n",
      "  File \"/home/sopeeweje/.local/share/virtualenvs/bone_master-xLR2Nuxv/lib/python3.6/site-packages/nrrd/reader.py\", line 506, in read\n",
      "    with open(filename, 'rb') as fh:\n",
      "FileNotFoundError: [Errno 2] No such file or directory: '/home/sopeeweje/bone_master/data_dir/preprocessed/penn-073-t1c-imagingVolume.nrrd'\n",
      "\n"
     ]
    },
    {
     "name": "stderr",
     "output_type": "stream",
     "text": [
      "\r",
      " 34%|███▍      | 82/240 [00:27<00:35,  4.42it/s]"
     ]
    },
    {
     "name": "stdout",
     "output_type": "stream",
     "text": [
      "\n",
      "################################################################################\n",
      "Exception occurred for: sort          -\n",
      "volume    0.604\n",
      "outcome   0.000\n",
      "Name: chop-59, dtype: object\n",
      "[Errno 2] No such file or directory: '/home/sopeeweje/bone_master/data_dir/preprocessed/chop-59-t1c-imagingVolume.nrrd'\n",
      "T1C image unavailable\n",
      "Traceback (most recent call last):\n",
      "  File \"/home/sopeeweje/bone_master/data_gen.py\", line 386, in generate_from_features\n",
      "    t1c_masked = load_image(t1c_image_file, t1c_seg_file, verbose=verbose)\n",
      "  File \"/home/sopeeweje/bone_master/data_gen.py\", line 316, in load_image\n",
      "    image, _ = nrrd.read(image_path)\n",
      "  File \"/home/sopeeweje/.local/share/virtualenvs/bone_master-xLR2Nuxv/lib/python3.6/site-packages/nrrd/reader.py\", line 506, in read\n",
      "    with open(filename, 'rb') as fh:\n",
      "FileNotFoundError: [Errno 2] No such file or directory: '/home/sopeeweje/bone_master/data_dir/preprocessed/chop-59-t1c-imagingVolume.nrrd'\n",
      "\n"
     ]
    },
    {
     "name": "stderr",
     "output_type": "stream",
     "text": [
      " 38%|███▊      | 90/240 [00:30<00:51,  2.91it/s]"
     ]
    },
    {
     "name": "stdout",
     "output_type": "stream",
     "text": [
      "\n",
      "################################################################################\n",
      "Exception occurred for: sort          -\n",
      "volume    0.603\n",
      "outcome   0.000\n",
      "Name: chop-38, dtype: object\n",
      "[Errno 2] No such file or directory: '/home/sopeeweje/bone_master/data_dir/preprocessed/chop-38-t1c-imagingVolume.nrrd'\n",
      "T1C image unavailable\n",
      "Traceback (most recent call last):\n",
      "  File \"/home/sopeeweje/bone_master/data_gen.py\", line 386, in generate_from_features\n",
      "    t1c_masked = load_image(t1c_image_file, t1c_seg_file, verbose=verbose)\n",
      "  File \"/home/sopeeweje/bone_master/data_gen.py\", line 316, in load_image\n",
      "    image, _ = nrrd.read(image_path)\n",
      "  File \"/home/sopeeweje/.local/share/virtualenvs/bone_master-xLR2Nuxv/lib/python3.6/site-packages/nrrd/reader.py\", line 506, in read\n",
      "    with open(filename, 'rb') as fh:\n",
      "FileNotFoundError: [Errno 2] No such file or directory: '/home/sopeeweje/bone_master/data_dir/preprocessed/chop-38-t1c-imagingVolume.nrrd'\n",
      "\n"
     ]
    },
    {
     "name": "stderr",
     "output_type": "stream",
     "text": [
      " 42%|████▏     | 100/240 [00:36<01:30,  1.55it/s]"
     ]
    },
    {
     "name": "stdout",
     "output_type": "stream",
     "text": [
      "\n",
      "################################################################################\n",
      "Exception occurred for: sort          -\n",
      "volume    0.603\n",
      "outcome   0.000\n",
      "Name: penn-042, dtype: object\n",
      "[Errno 2] No such file or directory: '/home/sopeeweje/bone_master/data_dir/preprocessed/penn-042-t1c-imagingVolume.nrrd'\n",
      "T1C image unavailable\n",
      "Traceback (most recent call last):\n",
      "  File \"/home/sopeeweje/bone_master/data_gen.py\", line 386, in generate_from_features\n",
      "    t1c_masked = load_image(t1c_image_file, t1c_seg_file, verbose=verbose)\n",
      "  File \"/home/sopeeweje/bone_master/data_gen.py\", line 316, in load_image\n",
      "    image, _ = nrrd.read(image_path)\n",
      "  File \"/home/sopeeweje/.local/share/virtualenvs/bone_master-xLR2Nuxv/lib/python3.6/site-packages/nrrd/reader.py\", line 506, in read\n",
      "    with open(filename, 'rb') as fh:\n",
      "FileNotFoundError: [Errno 2] No such file or directory: '/home/sopeeweje/bone_master/data_dir/preprocessed/penn-042-t1c-imagingVolume.nrrd'\n",
      "\n"
     ]
    },
    {
     "name": "stderr",
     "output_type": "stream",
     "text": [
      "\r",
      " 42%|████▎     | 102/240 [00:36<01:08,  2.00it/s]"
     ]
    },
    {
     "name": "stdout",
     "output_type": "stream",
     "text": [
      "\n",
      "################################################################################\n",
      "Exception occurred for: sort          -\n",
      "volume    0.603\n",
      "outcome   0.000\n",
      "Name: chop-35, dtype: object\n",
      "[Errno 2] No such file or directory: '/home/sopeeweje/bone_master/data_dir/preprocessed/chop-35-t1c-imagingVolume.nrrd'\n",
      "T1C image unavailable\n",
      "Traceback (most recent call last):\n",
      "  File \"/home/sopeeweje/bone_master/data_gen.py\", line 386, in generate_from_features\n",
      "    t1c_masked = load_image(t1c_image_file, t1c_seg_file, verbose=verbose)\n",
      "  File \"/home/sopeeweje/bone_master/data_gen.py\", line 316, in load_image\n",
      "    image, _ = nrrd.read(image_path)\n",
      "  File \"/home/sopeeweje/.local/share/virtualenvs/bone_master-xLR2Nuxv/lib/python3.6/site-packages/nrrd/reader.py\", line 506, in read\n",
      "    with open(filename, 'rb') as fh:\n",
      "FileNotFoundError: [Errno 2] No such file or directory: '/home/sopeeweje/bone_master/data_dir/preprocessed/chop-35-t1c-imagingVolume.nrrd'\n",
      "\n"
     ]
    },
    {
     "name": "stderr",
     "output_type": "stream",
     "text": [
      " 45%|████▌     | 108/240 [00:40<01:15,  1.75it/s]"
     ]
    },
    {
     "name": "stdout",
     "output_type": "stream",
     "text": [
      "\n",
      "################################################################################\n",
      "Exception occurred for: sort          -\n",
      "volume    0.603\n",
      "outcome   0.000\n",
      "Name: chop-104, dtype: object\n",
      "[Errno 2] No such file or directory: '/home/sopeeweje/bone_master/data_dir/preprocessed/chop-104-t1c-imagingVolume.nrrd'\n",
      "T1C image unavailable\n",
      "Traceback (most recent call last):\n",
      "  File \"/home/sopeeweje/bone_master/data_gen.py\", line 386, in generate_from_features\n",
      "    t1c_masked = load_image(t1c_image_file, t1c_seg_file, verbose=verbose)\n",
      "  File \"/home/sopeeweje/bone_master/data_gen.py\", line 316, in load_image\n",
      "    image, _ = nrrd.read(image_path)\n",
      "  File \"/home/sopeeweje/.local/share/virtualenvs/bone_master-xLR2Nuxv/lib/python3.6/site-packages/nrrd/reader.py\", line 506, in read\n",
      "    with open(filename, 'rb') as fh:\n",
      "FileNotFoundError: [Errno 2] No such file or directory: '/home/sopeeweje/bone_master/data_dir/preprocessed/chop-104-t1c-imagingVolume.nrrd'\n",
      "\n"
     ]
    },
    {
     "name": "stderr",
     "output_type": "stream",
     "text": [
      " 48%|████▊     | 114/240 [00:47<01:14,  1.70it/s]"
     ]
    },
    {
     "name": "stdout",
     "output_type": "stream",
     "text": [
      "\n",
      "################################################################################\n",
      "Exception occurred for: sort          -\n",
      "volume    0.603\n",
      "outcome   0.000\n",
      "Name: penn-083, dtype: object\n",
      "[Errno 2] No such file or directory: '/home/sopeeweje/bone_master/data_dir/preprocessed/penn-083-t1c-imagingVolume.nrrd'\n",
      "T1C image unavailable\n",
      "Traceback (most recent call last):\n",
      "  File \"/home/sopeeweje/bone_master/data_gen.py\", line 386, in generate_from_features\n",
      "    t1c_masked = load_image(t1c_image_file, t1c_seg_file, verbose=verbose)\n",
      "  File \"/home/sopeeweje/bone_master/data_gen.py\", line 316, in load_image\n",
      "    image, _ = nrrd.read(image_path)\n",
      "  File \"/home/sopeeweje/.local/share/virtualenvs/bone_master-xLR2Nuxv/lib/python3.6/site-packages/nrrd/reader.py\", line 506, in read\n",
      "    with open(filename, 'rb') as fh:\n",
      "FileNotFoundError: [Errno 2] No such file or directory: '/home/sopeeweje/bone_master/data_dir/preprocessed/penn-083-t1c-imagingVolume.nrrd'\n",
      "\n"
     ]
    },
    {
     "name": "stderr",
     "output_type": "stream",
     "text": [
      " 48%|████▊     | 116/240 [00:48<01:08,  1.80it/s]"
     ]
    },
    {
     "name": "stdout",
     "output_type": "stream",
     "text": [
      "\n",
      "################################################################################\n",
      "Exception occurred for: sort          -\n",
      "volume    0.603\n",
      "outcome   0.000\n",
      "Name: chop-17, dtype: object\n",
      "[Errno 2] No such file or directory: '/home/sopeeweje/bone_master/data_dir/preprocessed/chop-17-t1c-imagingVolume.nrrd'\n",
      "T1C image unavailable\n",
      "Traceback (most recent call last):\n",
      "  File \"/home/sopeeweje/bone_master/data_gen.py\", line 386, in generate_from_features\n",
      "    t1c_masked = load_image(t1c_image_file, t1c_seg_file, verbose=verbose)\n",
      "  File \"/home/sopeeweje/bone_master/data_gen.py\", line 316, in load_image\n",
      "    image, _ = nrrd.read(image_path)\n",
      "  File \"/home/sopeeweje/.local/share/virtualenvs/bone_master-xLR2Nuxv/lib/python3.6/site-packages/nrrd/reader.py\", line 506, in read\n",
      "    with open(filename, 'rb') as fh:\n",
      "FileNotFoundError: [Errno 2] No such file or directory: '/home/sopeeweje/bone_master/data_dir/preprocessed/chop-17-t1c-imagingVolume.nrrd'\n",
      "\n"
     ]
    },
    {
     "name": "stderr",
     "output_type": "stream",
     "text": [
      "\r",
      " 49%|████▉     | 117/240 [00:48<00:59,  2.07it/s]"
     ]
    },
    {
     "name": "stdout",
     "output_type": "stream",
     "text": [
      "\n",
      "################################################################################\n",
      "Exception occurred for: sort          -\n",
      "volume    0.603\n",
      "outcome   0.000\n",
      "Name: chop-56, dtype: object\n",
      "[Errno 2] No such file or directory: '/home/sopeeweje/bone_master/data_dir/preprocessed/chop-56-t1c-imagingVolume.nrrd'\n",
      "T1C image unavailable\n",
      "Traceback (most recent call last):\n",
      "  File \"/home/sopeeweje/bone_master/data_gen.py\", line 386, in generate_from_features\n",
      "    t1c_masked = load_image(t1c_image_file, t1c_seg_file, verbose=verbose)\n",
      "  File \"/home/sopeeweje/bone_master/data_gen.py\", line 316, in load_image\n",
      "    image, _ = nrrd.read(image_path)\n",
      "  File \"/home/sopeeweje/.local/share/virtualenvs/bone_master-xLR2Nuxv/lib/python3.6/site-packages/nrrd/reader.py\", line 506, in read\n",
      "    with open(filename, 'rb') as fh:\n",
      "FileNotFoundError: [Errno 2] No such file or directory: '/home/sopeeweje/bone_master/data_dir/preprocessed/chop-56-t1c-imagingVolume.nrrd'\n",
      "\n"
     ]
    },
    {
     "name": "stderr",
     "output_type": "stream",
     "text": [
      " 50%|████▉     | 119/240 [00:49<00:46,  2.58it/s]"
     ]
    },
    {
     "name": "stdout",
     "output_type": "stream",
     "text": [
      "\n",
      "################################################################################\n",
      "Exception occurred for: sort          -\n",
      "volume    0.603\n",
      "outcome   0.000\n",
      "Name: chop-25, dtype: object\n",
      "[Errno 2] No such file or directory: '/home/sopeeweje/bone_master/data_dir/preprocessed/chop-25-t1c-imagingVolume.nrrd'\n",
      "T1C image unavailable\n",
      "Traceback (most recent call last):\n",
      "  File \"/home/sopeeweje/bone_master/data_gen.py\", line 386, in generate_from_features\n",
      "    t1c_masked = load_image(t1c_image_file, t1c_seg_file, verbose=verbose)\n",
      "  File \"/home/sopeeweje/bone_master/data_gen.py\", line 316, in load_image\n",
      "    image, _ = nrrd.read(image_path)\n",
      "  File \"/home/sopeeweje/.local/share/virtualenvs/bone_master-xLR2Nuxv/lib/python3.6/site-packages/nrrd/reader.py\", line 506, in read\n",
      "    with open(filename, 'rb') as fh:\n",
      "FileNotFoundError: [Errno 2] No such file or directory: '/home/sopeeweje/bone_master/data_dir/preprocessed/chop-25-t1c-imagingVolume.nrrd'\n",
      "\n"
     ]
    },
    {
     "name": "stderr",
     "output_type": "stream",
     "text": [
      "\r",
      " 50%|█████     | 120/240 [00:49<00:46,  2.56it/s]"
     ]
    },
    {
     "name": "stdout",
     "output_type": "stream",
     "text": [
      "\n",
      "################################################################################\n",
      "Exception occurred for: sort          -\n",
      "volume    0.603\n",
      "outcome   0.000\n",
      "Name: chop-124, dtype: object\n",
      "[Errno 2] No such file or directory: '/home/sopeeweje/bone_master/data_dir/preprocessed/chop-124-t1c-imagingVolume.nrrd'\n",
      "T1C image unavailable\n",
      "Traceback (most recent call last):\n",
      "  File \"/home/sopeeweje/bone_master/data_gen.py\", line 386, in generate_from_features\n",
      "    t1c_masked = load_image(t1c_image_file, t1c_seg_file, verbose=verbose)\n",
      "  File \"/home/sopeeweje/bone_master/data_gen.py\", line 316, in load_image\n",
      "    image, _ = nrrd.read(image_path)\n",
      "  File \"/home/sopeeweje/.local/share/virtualenvs/bone_master-xLR2Nuxv/lib/python3.6/site-packages/nrrd/reader.py\", line 506, in read\n",
      "    with open(filename, 'rb') as fh:\n",
      "FileNotFoundError: [Errno 2] No such file or directory: '/home/sopeeweje/bone_master/data_dir/preprocessed/chop-124-t1c-imagingVolume.nrrd'\n",
      "\n"
     ]
    },
    {
     "name": "stderr",
     "output_type": "stream",
     "text": [
      "\r",
      " 50%|█████     | 121/240 [00:50<00:45,  2.61it/s]"
     ]
    },
    {
     "name": "stdout",
     "output_type": "stream",
     "text": [
      "\n",
      "################################################################################\n",
      "Exception occurred for: sort          -\n",
      "volume    0.603\n",
      "outcome   0.000\n",
      "Name: chop-88, dtype: object\n",
      "[Errno 2] No such file or directory: '/home/sopeeweje/bone_master/data_dir/preprocessed/chop-88-t1c-imagingVolume.nrrd'\n",
      "T1C image unavailable\n",
      "Traceback (most recent call last):\n",
      "  File \"/home/sopeeweje/bone_master/data_gen.py\", line 386, in generate_from_features\n",
      "    t1c_masked = load_image(t1c_image_file, t1c_seg_file, verbose=verbose)\n",
      "  File \"/home/sopeeweje/bone_master/data_gen.py\", line 316, in load_image\n",
      "    image, _ = nrrd.read(image_path)\n",
      "  File \"/home/sopeeweje/.local/share/virtualenvs/bone_master-xLR2Nuxv/lib/python3.6/site-packages/nrrd/reader.py\", line 506, in read\n",
      "    with open(filename, 'rb') as fh:\n",
      "FileNotFoundError: [Errno 2] No such file or directory: '/home/sopeeweje/bone_master/data_dir/preprocessed/chop-88-t1c-imagingVolume.nrrd'\n",
      "\n"
     ]
    },
    {
     "name": "stderr",
     "output_type": "stream",
     "text": [
      " 51%|█████▏    | 123/240 [00:50<00:35,  3.27it/s]"
     ]
    },
    {
     "name": "stdout",
     "output_type": "stream",
     "text": [
      "\n",
      "################################################################################\n",
      "Exception occurred for: sort          -\n",
      "volume    0.603\n",
      "outcome   0.000\n",
      "Name: chop-30, dtype: object\n",
      "[Errno 2] No such file or directory: '/home/sopeeweje/bone_master/data_dir/preprocessed/chop-30-t1c-imagingVolume.nrrd'\n",
      "T1C image unavailable\n",
      "Traceback (most recent call last):\n",
      "  File \"/home/sopeeweje/bone_master/data_gen.py\", line 386, in generate_from_features\n",
      "    t1c_masked = load_image(t1c_image_file, t1c_seg_file, verbose=verbose)\n",
      "  File \"/home/sopeeweje/bone_master/data_gen.py\", line 316, in load_image\n",
      "    image, _ = nrrd.read(image_path)\n",
      "  File \"/home/sopeeweje/.local/share/virtualenvs/bone_master-xLR2Nuxv/lib/python3.6/site-packages/nrrd/reader.py\", line 506, in read\n",
      "    with open(filename, 'rb') as fh:\n",
      "FileNotFoundError: [Errno 2] No such file or directory: '/home/sopeeweje/bone_master/data_dir/preprocessed/chop-30-t1c-imagingVolume.nrrd'\n",
      "\n",
      "\n",
      "################################################################################\n",
      "Exception occurred for: sort          -\n",
      "volume    0.603\n",
      "outcome   1.000\n",
      "Name: china095, dtype: object\n",
      "[Errno 2] No such file or directory: '/home/sopeeweje/bone_master/data_dir/preprocessed/china095-t1-imagingVolume.nrrd'\n",
      "T1 image unavailable\n",
      "Traceback (most recent call last):\n",
      "  File \"/home/sopeeweje/bone_master/data_gen.py\", line 360, in generate_from_features\n",
      "    t1_masked = load_image(t1_image_file, t1_seg_file, verbose=verbose)\n",
      "  File \"/home/sopeeweje/bone_master/data_gen.py\", line 316, in load_image\n",
      "    image, _ = nrrd.read(image_path)\n",
      "  File \"/home/sopeeweje/.local/share/virtualenvs/bone_master-xLR2Nuxv/lib/python3.6/site-packages/nrrd/reader.py\", line 506, in read\n",
      "    with open(filename, 'rb') as fh:\n",
      "FileNotFoundError: [Errno 2] No such file or directory: '/home/sopeeweje/bone_master/data_dir/preprocessed/china095-t1-imagingVolume.nrrd'\n",
      "\n"
     ]
    },
    {
     "name": "stderr",
     "output_type": "stream",
     "text": [
      " 52%|█████▎    | 126/240 [00:51<00:31,  3.57it/s]"
     ]
    },
    {
     "name": "stdout",
     "output_type": "stream",
     "text": [
      "\n",
      "################################################################################\n",
      "Exception occurred for: sort          -\n",
      "volume    0.603\n",
      "outcome   1.000\n",
      "Name: china048, dtype: object\n",
      "[Errno 2] No such file or directory: '/home/sopeeweje/bone_master/data_dir/preprocessed/china048-t1-imagingVolume.nrrd'\n",
      "T1 image unavailable\n",
      "Traceback (most recent call last):\n",
      "  File \"/home/sopeeweje/bone_master/data_gen.py\", line 360, in generate_from_features\n",
      "    t1_masked = load_image(t1_image_file, t1_seg_file, verbose=verbose)\n",
      "  File \"/home/sopeeweje/bone_master/data_gen.py\", line 316, in load_image\n",
      "    image, _ = nrrd.read(image_path)\n",
      "  File \"/home/sopeeweje/.local/share/virtualenvs/bone_master-xLR2Nuxv/lib/python3.6/site-packages/nrrd/reader.py\", line 506, in read\n",
      "    with open(filename, 'rb') as fh:\n",
      "FileNotFoundError: [Errno 2] No such file or directory: '/home/sopeeweje/bone_master/data_dir/preprocessed/china048-t1-imagingVolume.nrrd'\n",
      "\n"
     ]
    },
    {
     "name": "stderr",
     "output_type": "stream",
     "text": [
      " 57%|█████▋    | 136/240 [00:54<00:28,  3.68it/s]"
     ]
    },
    {
     "name": "stdout",
     "output_type": "stream",
     "text": [
      "\n",
      "################################################################################\n",
      "Exception occurred for: sort          -\n",
      "volume    0.603\n",
      "outcome   1.000\n",
      "Name: china147, dtype: object\n",
      "[Errno 2] No such file or directory: '/home/sopeeweje/bone_master/data_dir/preprocessed/china147-t1c-imagingVolume.nrrd'\n",
      "T1C image unavailable\n",
      "Traceback (most recent call last):\n",
      "  File \"/home/sopeeweje/bone_master/data_gen.py\", line 386, in generate_from_features\n",
      "    t1c_masked = load_image(t1c_image_file, t1c_seg_file, verbose=verbose)\n",
      "  File \"/home/sopeeweje/bone_master/data_gen.py\", line 316, in load_image\n",
      "    image, _ = nrrd.read(image_path)\n",
      "  File \"/home/sopeeweje/.local/share/virtualenvs/bone_master-xLR2Nuxv/lib/python3.6/site-packages/nrrd/reader.py\", line 506, in read\n",
      "    with open(filename, 'rb') as fh:\n",
      "FileNotFoundError: [Errno 2] No such file or directory: '/home/sopeeweje/bone_master/data_dir/preprocessed/china147-t1c-imagingVolume.nrrd'\n",
      "\n",
      "\n",
      "################################################################################\n",
      "Exception occurred for: sort          -\n",
      "volume    0.603\n",
      "outcome   1.000\n",
      "Name: china050, dtype: object\n",
      "[Errno 2] No such file or directory: '/home/sopeeweje/bone_master/data_dir/preprocessed/china050-t1c-imagingVolume.nrrd'\n",
      "T1C image unavailable\n",
      "Traceback (most recent call last):\n",
      "  File \"/home/sopeeweje/bone_master/data_gen.py\", line 386, in generate_from_features\n",
      "    t1c_masked = load_image(t1c_image_file, t1c_seg_file, verbose=verbose)\n",
      "  File \"/home/sopeeweje/bone_master/data_gen.py\", line 316, in load_image\n",
      "    image, _ = nrrd.read(image_path)\n",
      "  File \"/home/sopeeweje/.local/share/virtualenvs/bone_master-xLR2Nuxv/lib/python3.6/site-packages/nrrd/reader.py\", line 506, in read\n",
      "    with open(filename, 'rb') as fh:\n",
      "FileNotFoundError: [Errno 2] No such file or directory: '/home/sopeeweje/bone_master/data_dir/preprocessed/china050-t1c-imagingVolume.nrrd'\n",
      "\n"
     ]
    },
    {
     "name": "stderr",
     "output_type": "stream",
     "text": [
      "\r",
      " 57%|█████▊    | 138/240 [00:54<00:22,  4.63it/s]"
     ]
    },
    {
     "name": "stdout",
     "output_type": "stream",
     "text": [
      "\n",
      "################################################################################\n",
      "Exception occurred for: sort          -\n",
      "volume    0.603\n",
      "outcome   1.000\n",
      "Name: penn-004, dtype: object\n",
      "[Errno 2] No such file or directory: '/home/sopeeweje/bone_master/data_dir/preprocessed/penn-004-t1c-imagingVolume.nrrd'\n",
      "T1C image unavailable\n",
      "Traceback (most recent call last):\n",
      "  File \"/home/sopeeweje/bone_master/data_gen.py\", line 386, in generate_from_features\n",
      "    t1c_masked = load_image(t1c_image_file, t1c_seg_file, verbose=verbose)\n",
      "  File \"/home/sopeeweje/bone_master/data_gen.py\", line 316, in load_image\n",
      "    image, _ = nrrd.read(image_path)\n",
      "  File \"/home/sopeeweje/.local/share/virtualenvs/bone_master-xLR2Nuxv/lib/python3.6/site-packages/nrrd/reader.py\", line 506, in read\n",
      "    with open(filename, 'rb') as fh:\n",
      "FileNotFoundError: [Errno 2] No such file or directory: '/home/sopeeweje/bone_master/data_dir/preprocessed/penn-004-t1c-imagingVolume.nrrd'\n",
      "\n"
     ]
    },
    {
     "name": "stderr",
     "output_type": "stream",
     "text": [
      " 59%|█████▉    | 142/240 [00:55<00:21,  4.61it/s]"
     ]
    },
    {
     "name": "stdout",
     "output_type": "stream",
     "text": [
      "\n",
      "################################################################################\n",
      "Exception occurred for: sort          -\n",
      "volume    0.603\n",
      "outcome   1.000\n",
      "Name: china153, dtype: object\n",
      "[Errno 2] No such file or directory: '/home/sopeeweje/bone_master/data_dir/preprocessed/china153-t1c-imagingVolume.nrrd'\n",
      "T1C image unavailable\n",
      "Traceback (most recent call last):\n",
      "  File \"/home/sopeeweje/bone_master/data_gen.py\", line 386, in generate_from_features\n",
      "    t1c_masked = load_image(t1c_image_file, t1c_seg_file, verbose=verbose)\n",
      "  File \"/home/sopeeweje/bone_master/data_gen.py\", line 316, in load_image\n",
      "    image, _ = nrrd.read(image_path)\n",
      "  File \"/home/sopeeweje/.local/share/virtualenvs/bone_master-xLR2Nuxv/lib/python3.6/site-packages/nrrd/reader.py\", line 506, in read\n",
      "    with open(filename, 'rb') as fh:\n",
      "FileNotFoundError: [Errno 2] No such file or directory: '/home/sopeeweje/bone_master/data_dir/preprocessed/china153-t1c-imagingVolume.nrrd'\n",
      "\n"
     ]
    },
    {
     "name": "stderr",
     "output_type": "stream",
     "text": [
      " 60%|██████    | 145/240 [00:56<00:20,  4.66it/s]"
     ]
    },
    {
     "name": "stdout",
     "output_type": "stream",
     "text": [
      "\n",
      "################################################################################\n",
      "Exception occurred for: sort          -\n",
      "volume    0.603\n",
      "outcome   1.000\n",
      "Name: chop-133, dtype: object\n",
      "[Errno 2] No such file or directory: '/home/sopeeweje/bone_master/data_dir/preprocessed/chop-133-t1c-imagingVolume.nrrd'\n",
      "T1C image unavailable\n",
      "Traceback (most recent call last):\n",
      "  File \"/home/sopeeweje/bone_master/data_gen.py\", line 386, in generate_from_features\n",
      "    t1c_masked = load_image(t1c_image_file, t1c_seg_file, verbose=verbose)\n",
      "  File \"/home/sopeeweje/bone_master/data_gen.py\", line 316, in load_image\n",
      "    image, _ = nrrd.read(image_path)\n",
      "  File \"/home/sopeeweje/.local/share/virtualenvs/bone_master-xLR2Nuxv/lib/python3.6/site-packages/nrrd/reader.py\", line 506, in read\n",
      "    with open(filename, 'rb') as fh:\n",
      "FileNotFoundError: [Errno 2] No such file or directory: '/home/sopeeweje/bone_master/data_dir/preprocessed/chop-133-t1c-imagingVolume.nrrd'\n",
      "\n"
     ]
    },
    {
     "name": "stderr",
     "output_type": "stream",
     "text": [
      "\r",
      " 61%|██████    | 146/240 [00:56<00:19,  4.84it/s]"
     ]
    },
    {
     "name": "stdout",
     "output_type": "stream",
     "text": [
      "\n",
      "################################################################################\n",
      "Exception occurred for: sort          -\n",
      "volume    0.603\n",
      "outcome   1.000\n",
      "Name: china035, dtype: object\n",
      "[Errno 2] No such file or directory: '/home/sopeeweje/bone_master/data_dir/preprocessed/china035-t1c-imagingVolume.nrrd'\n",
      "T1C image unavailable\n",
      "Traceback (most recent call last):\n",
      "  File \"/home/sopeeweje/bone_master/data_gen.py\", line 386, in generate_from_features\n",
      "    t1c_masked = load_image(t1c_image_file, t1c_seg_file, verbose=verbose)\n",
      "  File \"/home/sopeeweje/bone_master/data_gen.py\", line 316, in load_image\n",
      "    image, _ = nrrd.read(image_path)\n",
      "  File \"/home/sopeeweje/.local/share/virtualenvs/bone_master-xLR2Nuxv/lib/python3.6/site-packages/nrrd/reader.py\", line 506, in read\n",
      "    with open(filename, 'rb') as fh:\n",
      "FileNotFoundError: [Errno 2] No such file or directory: '/home/sopeeweje/bone_master/data_dir/preprocessed/china035-t1c-imagingVolume.nrrd'\n",
      "\n"
     ]
    },
    {
     "name": "stderr",
     "output_type": "stream",
     "text": [
      " 64%|██████▍   | 153/240 [00:58<00:23,  3.67it/s]"
     ]
    },
    {
     "name": "stdout",
     "output_type": "stream",
     "text": [
      "\n",
      "################################################################################\n",
      "Exception occurred for: sort          -\n",
      "volume    0.603\n",
      "outcome   1.000\n",
      "Name: penn-010, dtype: object\n",
      "[Errno 2] No such file or directory: '/home/sopeeweje/bone_master/data_dir/preprocessed/penn-010-t1-imagingVolume.nrrd'\n",
      "T1 image unavailable\n",
      "Traceback (most recent call last):\n",
      "  File \"/home/sopeeweje/bone_master/data_gen.py\", line 360, in generate_from_features\n",
      "    t1_masked = load_image(t1_image_file, t1_seg_file, verbose=verbose)\n",
      "  File \"/home/sopeeweje/bone_master/data_gen.py\", line 316, in load_image\n",
      "    image, _ = nrrd.read(image_path)\n",
      "  File \"/home/sopeeweje/.local/share/virtualenvs/bone_master-xLR2Nuxv/lib/python3.6/site-packages/nrrd/reader.py\", line 506, in read\n",
      "    with open(filename, 'rb') as fh:\n",
      "FileNotFoundError: [Errno 2] No such file or directory: '/home/sopeeweje/bone_master/data_dir/preprocessed/penn-010-t1-imagingVolume.nrrd'\n",
      "\n",
      "\n",
      "################################################################################\n",
      "Exception occurred for: sort          -\n",
      "volume    0.603\n",
      "outcome   1.000\n",
      "Name: china027, dtype: object\n",
      "[Errno 2] No such file or directory: '/home/sopeeweje/bone_master/data_dir/preprocessed/china027-t1c-imagingVolume.nrrd'\n",
      "T1C image unavailable\n",
      "Traceback (most recent call last):\n",
      "  File \"/home/sopeeweje/bone_master/data_gen.py\", line 386, in generate_from_features\n",
      "    t1c_masked = load_image(t1c_image_file, t1c_seg_file, verbose=verbose)\n",
      "  File \"/home/sopeeweje/bone_master/data_gen.py\", line 316, in load_image\n",
      "    image, _ = nrrd.read(image_path)\n",
      "  File \"/home/sopeeweje/.local/share/virtualenvs/bone_master-xLR2Nuxv/lib/python3.6/site-packages/nrrd/reader.py\", line 506, in read\n",
      "    with open(filename, 'rb') as fh:\n",
      "FileNotFoundError: [Errno 2] No such file or directory: '/home/sopeeweje/bone_master/data_dir/preprocessed/china027-t1c-imagingVolume.nrrd'\n",
      "\n"
     ]
    },
    {
     "name": "stderr",
     "output_type": "stream",
     "text": [
      " 72%|███████▎  | 174/240 [01:04<00:19,  3.39it/s]"
     ]
    },
    {
     "name": "stdout",
     "output_type": "stream",
     "text": [
      "\n",
      "################################################################################\n",
      "Exception occurred for: sort          -\n",
      "volume    0.603\n",
      "outcome   1.000\n",
      "Name: penn-018, dtype: object\n",
      "[Errno 2] No such file or directory: '/home/sopeeweje/bone_master/data_dir/preprocessed/penn-018-t1c-imagingVolume.nrrd'\n",
      "T1C image unavailable\n",
      "Traceback (most recent call last):\n",
      "  File \"/home/sopeeweje/bone_master/data_gen.py\", line 386, in generate_from_features\n",
      "    t1c_masked = load_image(t1c_image_file, t1c_seg_file, verbose=verbose)\n",
      "  File \"/home/sopeeweje/bone_master/data_gen.py\", line 316, in load_image\n",
      "    image, _ = nrrd.read(image_path)\n",
      "  File \"/home/sopeeweje/.local/share/virtualenvs/bone_master-xLR2Nuxv/lib/python3.6/site-packages/nrrd/reader.py\", line 506, in read\n",
      "    with open(filename, 'rb') as fh:\n",
      "FileNotFoundError: [Errno 2] No such file or directory: '/home/sopeeweje/bone_master/data_dir/preprocessed/penn-018-t1c-imagingVolume.nrrd'\n",
      "\n"
     ]
    },
    {
     "name": "stderr",
     "output_type": "stream",
     "text": [
      " 78%|███████▊  | 187/240 [01:15<00:48,  1.10it/s]"
     ]
    },
    {
     "name": "stdout",
     "output_type": "stream",
     "text": [
      "\n",
      "################################################################################\n",
      "Exception occurred for: sort          -\n",
      "volume    0.603\n",
      "outcome   1.000\n",
      "Name: china152, dtype: object\n",
      "[Errno 2] No such file or directory: '/home/sopeeweje/bone_master/data_dir/preprocessed/china152-t1c-imagingVolume.nrrd'\n",
      "T1C image unavailable\n",
      "Traceback (most recent call last):\n",
      "  File \"/home/sopeeweje/bone_master/data_gen.py\", line 386, in generate_from_features\n",
      "    t1c_masked = load_image(t1c_image_file, t1c_seg_file, verbose=verbose)\n",
      "  File \"/home/sopeeweje/bone_master/data_gen.py\", line 316, in load_image\n",
      "    image, _ = nrrd.read(image_path)\n",
      "  File \"/home/sopeeweje/.local/share/virtualenvs/bone_master-xLR2Nuxv/lib/python3.6/site-packages/nrrd/reader.py\", line 506, in read\n",
      "    with open(filename, 'rb') as fh:\n",
      "FileNotFoundError: [Errno 2] No such file or directory: '/home/sopeeweje/bone_master/data_dir/preprocessed/china152-t1c-imagingVolume.nrrd'\n",
      "\n"
     ]
    },
    {
     "name": "stderr",
     "output_type": "stream",
     "text": [
      " 80%|████████  | 193/240 [01:17<00:15,  2.94it/s]"
     ]
    },
    {
     "name": "stdout",
     "output_type": "stream",
     "text": [
      "\n",
      "################################################################################\n",
      "Exception occurred for: sort          -\n",
      "volume    0.603\n",
      "outcome   1.000\n",
      "Name: penn-082, dtype: object\n",
      "[Errno 2] No such file or directory: '/home/sopeeweje/bone_master/data_dir/preprocessed/penn-082-t1c-imagingVolume.nrrd'\n",
      "T1C image unavailable\n",
      "Traceback (most recent call last):\n",
      "  File \"/home/sopeeweje/bone_master/data_gen.py\", line 386, in generate_from_features\n",
      "    t1c_masked = load_image(t1c_image_file, t1c_seg_file, verbose=verbose)\n",
      "  File \"/home/sopeeweje/bone_master/data_gen.py\", line 316, in load_image\n",
      "    image, _ = nrrd.read(image_path)\n",
      "  File \"/home/sopeeweje/.local/share/virtualenvs/bone_master-xLR2Nuxv/lib/python3.6/site-packages/nrrd/reader.py\", line 506, in read\n",
      "    with open(filename, 'rb') as fh:\n",
      "FileNotFoundError: [Errno 2] No such file or directory: '/home/sopeeweje/bone_master/data_dir/preprocessed/penn-082-t1c-imagingVolume.nrrd'\n",
      "\n"
     ]
    },
    {
     "name": "stderr",
     "output_type": "stream",
     "text": [
      "\r",
      " 81%|████████  | 194/240 [01:17<00:16,  2.81it/s]"
     ]
    },
    {
     "name": "stdout",
     "output_type": "stream",
     "text": [
      "\n",
      "################################################################################\n",
      "Exception occurred for: sort          -\n",
      "volume    0.604\n",
      "outcome   1.000\n",
      "Name: penn-049, dtype: object\n",
      "[Errno 2] No such file or directory: '/home/sopeeweje/bone_master/data_dir/preprocessed/penn-049-t1c-imagingVolume.nrrd'\n",
      "T1C image unavailable\n",
      "Traceback (most recent call last):\n",
      "  File \"/home/sopeeweje/bone_master/data_gen.py\", line 386, in generate_from_features\n",
      "    t1c_masked = load_image(t1c_image_file, t1c_seg_file, verbose=verbose)\n",
      "  File \"/home/sopeeweje/bone_master/data_gen.py\", line 316, in load_image\n",
      "    image, _ = nrrd.read(image_path)\n",
      "  File \"/home/sopeeweje/.local/share/virtualenvs/bone_master-xLR2Nuxv/lib/python3.6/site-packages/nrrd/reader.py\", line 506, in read\n",
      "    with open(filename, 'rb') as fh:\n",
      "FileNotFoundError: [Errno 2] No such file or directory: '/home/sopeeweje/bone_master/data_dir/preprocessed/penn-049-t1c-imagingVolume.nrrd'\n",
      "\n"
     ]
    },
    {
     "name": "stderr",
     "output_type": "stream",
     "text": [
      "\r",
      " 81%|████████▏ | 195/240 [01:18<00:17,  2.51it/s]"
     ]
    },
    {
     "name": "stdout",
     "output_type": "stream",
     "text": [
      "\n",
      "################################################################################\n",
      "Exception occurred for: sort          -\n",
      "volume    0.603\n",
      "outcome   1.000\n",
      "Name: china024, dtype: object\n",
      "[Errno 2] No such file or directory: '/home/sopeeweje/bone_master/data_dir/preprocessed/china024-t1-imagingVolume.nrrd'\n",
      "T1 image unavailable\n",
      "Traceback (most recent call last):\n",
      "  File \"/home/sopeeweje/bone_master/data_gen.py\", line 360, in generate_from_features\n",
      "    t1_masked = load_image(t1_image_file, t1_seg_file, verbose=verbose)\n",
      "  File \"/home/sopeeweje/bone_master/data_gen.py\", line 316, in load_image\n",
      "    image, _ = nrrd.read(image_path)\n",
      "  File \"/home/sopeeweje/.local/share/virtualenvs/bone_master-xLR2Nuxv/lib/python3.6/site-packages/nrrd/reader.py\", line 506, in read\n",
      "    with open(filename, 'rb') as fh:\n",
      "FileNotFoundError: [Errno 2] No such file or directory: '/home/sopeeweje/bone_master/data_dir/preprocessed/china024-t1-imagingVolume.nrrd'\n",
      "\n",
      "\n",
      "################################################################################\n",
      "Exception occurred for: sort          -\n",
      "volume    0.603\n",
      "outcome   1.000\n",
      "Name: penn-023, dtype: object\n",
      "[Errno 2] No such file or directory: '/home/sopeeweje/bone_master/data_dir/preprocessed/penn-023-t1-imagingVolume.nrrd'\n",
      "T1 image unavailable\n",
      "Traceback (most recent call last):\n",
      "  File \"/home/sopeeweje/bone_master/data_gen.py\", line 360, in generate_from_features\n",
      "    t1_masked = load_image(t1_image_file, t1_seg_file, verbose=verbose)\n",
      "  File \"/home/sopeeweje/bone_master/data_gen.py\", line 316, in load_image\n",
      "    image, _ = nrrd.read(image_path)\n",
      "  File \"/home/sopeeweje/.local/share/virtualenvs/bone_master-xLR2Nuxv/lib/python3.6/site-packages/nrrd/reader.py\", line 506, in read\n",
      "    with open(filename, 'rb') as fh:\n",
      "FileNotFoundError: [Errno 2] No such file or directory: '/home/sopeeweje/bone_master/data_dir/preprocessed/penn-023-t1-imagingVolume.nrrd'\n",
      "\n"
     ]
    },
    {
     "name": "stderr",
     "output_type": "stream",
     "text": [
      " 85%|████████▌ | 204/240 [01:19<00:07,  4.93it/s]"
     ]
    },
    {
     "name": "stdout",
     "output_type": "stream",
     "text": [
      "\n",
      "################################################################################\n",
      "Exception occurred for: sort          -\n",
      "volume    0.603\n",
      "outcome   1.000\n",
      "Name: penn-003, dtype: object\n",
      "[Errno 2] No such file or directory: '/home/sopeeweje/bone_master/data_dir/preprocessed/penn-003-t1-imagingVolume.nrrd'\n",
      "T1 image unavailable\n",
      "Traceback (most recent call last):\n",
      "  File \"/home/sopeeweje/bone_master/data_gen.py\", line 360, in generate_from_features\n",
      "    t1_masked = load_image(t1_image_file, t1_seg_file, verbose=verbose)\n",
      "  File \"/home/sopeeweje/bone_master/data_gen.py\", line 316, in load_image\n",
      "    image, _ = nrrd.read(image_path)\n",
      "  File \"/home/sopeeweje/.local/share/virtualenvs/bone_master-xLR2Nuxv/lib/python3.6/site-packages/nrrd/reader.py\", line 506, in read\n",
      "    with open(filename, 'rb') as fh:\n",
      "FileNotFoundError: [Errno 2] No such file or directory: '/home/sopeeweje/bone_master/data_dir/preprocessed/penn-003-t1-imagingVolume.nrrd'\n",
      "\n",
      "\n",
      "################################################################################\n",
      "Exception occurred for: sort          -\n",
      "volume    0.603\n",
      "outcome   1.000\n",
      "Name: china134, dtype: object\n",
      "[Errno 2] No such file or directory: '/home/sopeeweje/bone_master/data_dir/preprocessed/china134-t1c-imagingVolume.nrrd'\n",
      "T1C image unavailable\n",
      "Traceback (most recent call last):\n",
      "  File \"/home/sopeeweje/bone_master/data_gen.py\", line 386, in generate_from_features\n",
      "    t1c_masked = load_image(t1c_image_file, t1c_seg_file, verbose=verbose)\n",
      "  File \"/home/sopeeweje/bone_master/data_gen.py\", line 316, in load_image\n",
      "    image, _ = nrrd.read(image_path)\n",
      "  File \"/home/sopeeweje/.local/share/virtualenvs/bone_master-xLR2Nuxv/lib/python3.6/site-packages/nrrd/reader.py\", line 506, in read\n",
      "    with open(filename, 'rb') as fh:\n",
      "FileNotFoundError: [Errno 2] No such file or directory: '/home/sopeeweje/bone_master/data_dir/preprocessed/china134-t1c-imagingVolume.nrrd'\n",
      "\n"
     ]
    },
    {
     "name": "stderr",
     "output_type": "stream",
     "text": [
      " 86%|████████▌ | 206/240 [01:21<00:15,  2.25it/s]"
     ]
    },
    {
     "name": "stdout",
     "output_type": "stream",
     "text": [
      "\n",
      "################################################################################\n",
      "Exception occurred for: sort          -\n",
      "volume    0.603\n",
      "outcome   1.000\n",
      "Name: china041, dtype: object\n",
      "[Errno 2] No such file or directory: '/home/sopeeweje/bone_master/data_dir/preprocessed/china041-t1c-imagingVolume.nrrd'\n",
      "T1C image unavailable\n",
      "Traceback (most recent call last):\n",
      "  File \"/home/sopeeweje/bone_master/data_gen.py\", line 386, in generate_from_features\n",
      "    t1c_masked = load_image(t1c_image_file, t1c_seg_file, verbose=verbose)\n",
      "  File \"/home/sopeeweje/bone_master/data_gen.py\", line 316, in load_image\n",
      "    image, _ = nrrd.read(image_path)\n",
      "  File \"/home/sopeeweje/.local/share/virtualenvs/bone_master-xLR2Nuxv/lib/python3.6/site-packages/nrrd/reader.py\", line 506, in read\n",
      "    with open(filename, 'rb') as fh:\n",
      "FileNotFoundError: [Errno 2] No such file or directory: '/home/sopeeweje/bone_master/data_dir/preprocessed/china041-t1c-imagingVolume.nrrd'\n",
      "\n"
     ]
    },
    {
     "name": "stderr",
     "output_type": "stream",
     "text": [
      " 87%|████████▋ | 208/240 [01:21<00:10,  2.97it/s]"
     ]
    },
    {
     "name": "stdout",
     "output_type": "stream",
     "text": [
      "\n",
      "################################################################################\n",
      "Exception occurred for: sort          -\n",
      "volume    0.604\n",
      "outcome   1.000\n",
      "Name: chop-107, dtype: object\n",
      "[Errno 2] No such file or directory: '/home/sopeeweje/bone_master/data_dir/preprocessed/chop-107-t1c-imagingVolume.nrrd'\n",
      "T1C image unavailable\n",
      "Traceback (most recent call last):\n",
      "  File \"/home/sopeeweje/bone_master/data_gen.py\", line 386, in generate_from_features\n",
      "    t1c_masked = load_image(t1c_image_file, t1c_seg_file, verbose=verbose)\n",
      "  File \"/home/sopeeweje/bone_master/data_gen.py\", line 316, in load_image\n",
      "    image, _ = nrrd.read(image_path)\n",
      "  File \"/home/sopeeweje/.local/share/virtualenvs/bone_master-xLR2Nuxv/lib/python3.6/site-packages/nrrd/reader.py\", line 506, in read\n",
      "    with open(filename, 'rb') as fh:\n",
      "FileNotFoundError: [Errno 2] No such file or directory: '/home/sopeeweje/bone_master/data_dir/preprocessed/chop-107-t1c-imagingVolume.nrrd'\n",
      "\n"
     ]
    },
    {
     "name": "stderr",
     "output_type": "stream",
     "text": [
      "\r",
      " 87%|████████▋ | 209/240 [01:22<00:09,  3.12it/s]"
     ]
    },
    {
     "name": "stdout",
     "output_type": "stream",
     "text": [
      "\n",
      "################################################################################\n",
      "Exception occurred for: sort          -\n",
      "volume    0.603\n",
      "outcome   1.000\n",
      "Name: china111, dtype: object\n",
      "[Errno 2] No such file or directory: '/home/sopeeweje/bone_master/data_dir/preprocessed/china111-t1-imagingVolume.nrrd'\n",
      "T1 image unavailable\n",
      "Traceback (most recent call last):\n",
      "  File \"/home/sopeeweje/bone_master/data_gen.py\", line 360, in generate_from_features\n",
      "    t1_masked = load_image(t1_image_file, t1_seg_file, verbose=verbose)\n",
      "  File \"/home/sopeeweje/bone_master/data_gen.py\", line 316, in load_image\n",
      "    image, _ = nrrd.read(image_path)\n",
      "  File \"/home/sopeeweje/.local/share/virtualenvs/bone_master-xLR2Nuxv/lib/python3.6/site-packages/nrrd/reader.py\", line 506, in read\n",
      "    with open(filename, 'rb') as fh:\n",
      "FileNotFoundError: [Errno 2] No such file or directory: '/home/sopeeweje/bone_master/data_dir/preprocessed/china111-t1-imagingVolume.nrrd'\n",
      "\n"
     ]
    },
    {
     "name": "stderr",
     "output_type": "stream",
     "text": [
      " 89%|████████▉ | 214/240 [01:23<00:06,  4.12it/s]"
     ]
    },
    {
     "name": "stdout",
     "output_type": "stream",
     "text": [
      "\n",
      "################################################################################\n",
      "Exception occurred for: sort          -\n",
      "volume    0.603\n",
      "outcome   1.000\n",
      "Name: china046, dtype: object\n",
      "[Errno 2] No such file or directory: '/home/sopeeweje/bone_master/data_dir/preprocessed/china046-t1c-imagingVolume.nrrd'\n",
      "T1C image unavailable\n",
      "Traceback (most recent call last):\n",
      "  File \"/home/sopeeweje/bone_master/data_gen.py\", line 386, in generate_from_features\n",
      "    t1c_masked = load_image(t1c_image_file, t1c_seg_file, verbose=verbose)\n",
      "  File \"/home/sopeeweje/bone_master/data_gen.py\", line 316, in load_image\n",
      "    image, _ = nrrd.read(image_path)\n",
      "  File \"/home/sopeeweje/.local/share/virtualenvs/bone_master-xLR2Nuxv/lib/python3.6/site-packages/nrrd/reader.py\", line 506, in read\n",
      "    with open(filename, 'rb') as fh:\n",
      "FileNotFoundError: [Errno 2] No such file or directory: '/home/sopeeweje/bone_master/data_dir/preprocessed/china046-t1c-imagingVolume.nrrd'\n",
      "\n"
     ]
    },
    {
     "name": "stderr",
     "output_type": "stream",
     "text": [
      " 91%|█████████▏| 219/240 [01:25<00:07,  2.93it/s]"
     ]
    },
    {
     "name": "stdout",
     "output_type": "stream",
     "text": [
      "\n",
      "################################################################################\n",
      "Exception occurred for: sort          -\n",
      "volume    0.603\n",
      "outcome   1.000\n",
      "Name: china090, dtype: object\n",
      "[Errno 2] No such file or directory: '/home/sopeeweje/bone_master/data_dir/preprocessed/china090-t1c-imagingVolume.nrrd'\n",
      "T1C image unavailable\n",
      "Traceback (most recent call last):\n",
      "  File \"/home/sopeeweje/bone_master/data_gen.py\", line 386, in generate_from_features\n",
      "    t1c_masked = load_image(t1c_image_file, t1c_seg_file, verbose=verbose)\n",
      "  File \"/home/sopeeweje/bone_master/data_gen.py\", line 316, in load_image\n",
      "    image, _ = nrrd.read(image_path)\n",
      "  File \"/home/sopeeweje/.local/share/virtualenvs/bone_master-xLR2Nuxv/lib/python3.6/site-packages/nrrd/reader.py\", line 506, in read\n",
      "    with open(filename, 'rb') as fh:\n",
      "FileNotFoundError: [Errno 2] No such file or directory: '/home/sopeeweje/bone_master/data_dir/preprocessed/china090-t1c-imagingVolume.nrrd'\n",
      "\n",
      "\n",
      "################################################################################\n",
      "Exception occurred for: sort          -\n",
      "volume    0.603\n",
      "outcome   1.000\n",
      "Name: chop-136, dtype: object\n",
      "[Errno 2] No such file or directory: '/home/sopeeweje/bone_master/data_dir/preprocessed/chop-136-t1-imagingVolume.nrrd'\n",
      "T1 image unavailable\n",
      "Traceback (most recent call last):\n",
      "  File \"/home/sopeeweje/bone_master/data_gen.py\", line 360, in generate_from_features\n",
      "    t1_masked = load_image(t1_image_file, t1_seg_file, verbose=verbose)\n",
      "  File \"/home/sopeeweje/bone_master/data_gen.py\", line 316, in load_image\n",
      "    image, _ = nrrd.read(image_path)\n",
      "  File \"/home/sopeeweje/.local/share/virtualenvs/bone_master-xLR2Nuxv/lib/python3.6/site-packages/nrrd/reader.py\", line 506, in read\n",
      "    with open(filename, 'rb') as fh:\n",
      "FileNotFoundError: [Errno 2] No such file or directory: '/home/sopeeweje/bone_master/data_dir/preprocessed/chop-136-t1-imagingVolume.nrrd'\n",
      "\n"
     ]
    },
    {
     "name": "stderr",
     "output_type": "stream",
     "text": [
      "\r",
      " 92%|█████████▏| 221/240 [01:25<00:05,  3.55it/s]"
     ]
    },
    {
     "name": "stdout",
     "output_type": "stream",
     "text": [
      "\n",
      "################################################################################\n",
      "Exception occurred for: sort          -\n",
      "volume    0.603\n",
      "outcome   1.000\n",
      "Name: penn-061, dtype: object\n",
      "[Errno 2] No such file or directory: '/home/sopeeweje/bone_master/data_dir/preprocessed/penn-061-t1c-imagingVolume.nrrd'\n",
      "T1C image unavailable\n",
      "Traceback (most recent call last):\n",
      "  File \"/home/sopeeweje/bone_master/data_gen.py\", line 386, in generate_from_features\n",
      "    t1c_masked = load_image(t1c_image_file, t1c_seg_file, verbose=verbose)\n",
      "  File \"/home/sopeeweje/bone_master/data_gen.py\", line 316, in load_image\n",
      "    image, _ = nrrd.read(image_path)\n",
      "  File \"/home/sopeeweje/.local/share/virtualenvs/bone_master-xLR2Nuxv/lib/python3.6/site-packages/nrrd/reader.py\", line 506, in read\n",
      "    with open(filename, 'rb') as fh:\n",
      "FileNotFoundError: [Errno 2] No such file or directory: '/home/sopeeweje/bone_master/data_dir/preprocessed/penn-061-t1c-imagingVolume.nrrd'\n",
      "\n"
     ]
    },
    {
     "name": "stderr",
     "output_type": "stream",
     "text": [
      " 94%|█████████▍| 225/240 [01:27<00:07,  2.00it/s]"
     ]
    },
    {
     "name": "stdout",
     "output_type": "stream",
     "text": [
      "\n",
      "################################################################################\n",
      "Exception occurred for: sort          -\n",
      "volume    0.603\n",
      "outcome   1.000\n",
      "Name: china038, dtype: object\n",
      "[Errno 2] No such file or directory: '/home/sopeeweje/bone_master/data_dir/preprocessed/china038-t1c-imagingVolume.nrrd'\n",
      "T1C image unavailable\n",
      "Traceback (most recent call last):\n",
      "  File \"/home/sopeeweje/bone_master/data_gen.py\", line 386, in generate_from_features\n",
      "    t1c_masked = load_image(t1c_image_file, t1c_seg_file, verbose=verbose)\n",
      "  File \"/home/sopeeweje/bone_master/data_gen.py\", line 316, in load_image\n",
      "    image, _ = nrrd.read(image_path)\n",
      "  File \"/home/sopeeweje/.local/share/virtualenvs/bone_master-xLR2Nuxv/lib/python3.6/site-packages/nrrd/reader.py\", line 506, in read\n",
      "    with open(filename, 'rb') as fh:\n",
      "FileNotFoundError: [Errno 2] No such file or directory: '/home/sopeeweje/bone_master/data_dir/preprocessed/china038-t1c-imagingVolume.nrrd'\n",
      "\n"
     ]
    },
    {
     "name": "stderr",
     "output_type": "stream",
     "text": [
      "\r",
      " 95%|█████████▍| 227/240 [01:28<00:05,  2.44it/s]"
     ]
    },
    {
     "name": "stdout",
     "output_type": "stream",
     "text": [
      "\n",
      "################################################################################\n",
      "Exception occurred for: sort          -\n",
      "volume    0.603\n",
      "outcome   1.000\n",
      "Name: penn-089, dtype: object\n",
      "[Errno 2] No such file or directory: '/home/sopeeweje/bone_master/data_dir/preprocessed/penn-089-t1c-imagingVolume.nrrd'\n",
      "T1C image unavailable\n",
      "Traceback (most recent call last):\n",
      "  File \"/home/sopeeweje/bone_master/data_gen.py\", line 386, in generate_from_features\n",
      "    t1c_masked = load_image(t1c_image_file, t1c_seg_file, verbose=verbose)\n",
      "  File \"/home/sopeeweje/bone_master/data_gen.py\", line 316, in load_image\n",
      "    image, _ = nrrd.read(image_path)\n",
      "  File \"/home/sopeeweje/.local/share/virtualenvs/bone_master-xLR2Nuxv/lib/python3.6/site-packages/nrrd/reader.py\", line 506, in read\n",
      "    with open(filename, 'rb') as fh:\n",
      "FileNotFoundError: [Errno 2] No such file or directory: '/home/sopeeweje/bone_master/data_dir/preprocessed/penn-089-t1c-imagingVolume.nrrd'\n",
      "\n"
     ]
    },
    {
     "name": "stderr",
     "output_type": "stream",
     "text": [
      "\r",
      " 95%|█████████▌| 229/240 [01:32<00:10,  1.06it/s]"
     ]
    },
    {
     "name": "stdout",
     "output_type": "stream",
     "text": [
      "\n",
      "################################################################################\n",
      "Exception occurred for: sort          -\n",
      "volume    0.604\n",
      "outcome   1.000\n",
      "Name: chop-50, dtype: object\n",
      "[Errno 2] No such file or directory: '/home/sopeeweje/bone_master/data_dir/preprocessed/chop-50-t1-imagingVolume.nrrd'\n",
      "T1 image unavailable\n",
      "Traceback (most recent call last):\n",
      "  File \"/home/sopeeweje/bone_master/data_gen.py\", line 360, in generate_from_features\n",
      "    t1_masked = load_image(t1_image_file, t1_seg_file, verbose=verbose)\n",
      "  File \"/home/sopeeweje/bone_master/data_gen.py\", line 316, in load_image\n",
      "    image, _ = nrrd.read(image_path)\n",
      "  File \"/home/sopeeweje/.local/share/virtualenvs/bone_master-xLR2Nuxv/lib/python3.6/site-packages/nrrd/reader.py\", line 506, in read\n",
      "    with open(filename, 'rb') as fh:\n",
      "FileNotFoundError: [Errno 2] No such file or directory: '/home/sopeeweje/bone_master/data_dir/preprocessed/chop-50-t1-imagingVolume.nrrd'\n",
      "\n"
     ]
    },
    {
     "name": "stderr",
     "output_type": "stream",
     "text": [
      "\r",
      " 96%|█████████▋| 231/240 [01:32<00:06,  1.44it/s]"
     ]
    },
    {
     "name": "stdout",
     "output_type": "stream",
     "text": [
      "\n",
      "################################################################################\n",
      "Exception occurred for: sort          -\n",
      "volume    0.603\n",
      "outcome   1.000\n",
      "Name: china088, dtype: object\n",
      "[Errno 2] No such file or directory: '/home/sopeeweje/bone_master/data_dir/preprocessed/china088-t1c-imagingVolume.nrrd'\n",
      "T1C image unavailable\n",
      "Traceback (most recent call last):\n",
      "  File \"/home/sopeeweje/bone_master/data_gen.py\", line 386, in generate_from_features\n",
      "    t1c_masked = load_image(t1c_image_file, t1c_seg_file, verbose=verbose)\n",
      "  File \"/home/sopeeweje/bone_master/data_gen.py\", line 316, in load_image\n",
      "    image, _ = nrrd.read(image_path)\n",
      "  File \"/home/sopeeweje/.local/share/virtualenvs/bone_master-xLR2Nuxv/lib/python3.6/site-packages/nrrd/reader.py\", line 506, in read\n",
      "    with open(filename, 'rb') as fh:\n",
      "FileNotFoundError: [Errno 2] No such file or directory: '/home/sopeeweje/bone_master/data_dir/preprocessed/china088-t1c-imagingVolume.nrrd'\n",
      "\n"
     ]
    },
    {
     "name": "stderr",
     "output_type": "stream",
     "text": [
      "\r",
      " 97%|█████████▋| 232/240 [01:33<00:04,  1.80it/s]"
     ]
    },
    {
     "name": "stdout",
     "output_type": "stream",
     "text": [
      "\n",
      "################################################################################\n",
      "Exception occurred for: sort          -\n",
      "volume    0.603\n",
      "outcome   1.000\n",
      "Name: china002, dtype: object\n",
      "[Errno 2] No such file or directory: '/home/sopeeweje/bone_master/data_dir/preprocessed/china002-t1c-imagingVolume.nrrd'\n",
      "T1C image unavailable\n",
      "Traceback (most recent call last):\n",
      "  File \"/home/sopeeweje/bone_master/data_gen.py\", line 386, in generate_from_features\n",
      "    t1c_masked = load_image(t1c_image_file, t1c_seg_file, verbose=verbose)\n",
      "  File \"/home/sopeeweje/bone_master/data_gen.py\", line 316, in load_image\n",
      "    image, _ = nrrd.read(image_path)\n",
      "  File \"/home/sopeeweje/.local/share/virtualenvs/bone_master-xLR2Nuxv/lib/python3.6/site-packages/nrrd/reader.py\", line 506, in read\n",
      "    with open(filename, 'rb') as fh:\n",
      "FileNotFoundError: [Errno 2] No such file or directory: '/home/sopeeweje/bone_master/data_dir/preprocessed/china002-t1c-imagingVolume.nrrd'\n",
      "\n"
     ]
    },
    {
     "name": "stderr",
     "output_type": "stream",
     "text": [
      " 98%|█████████▊| 236/240 [01:34<00:01,  2.82it/s]"
     ]
    },
    {
     "name": "stdout",
     "output_type": "stream",
     "text": [
      "\n",
      "################################################################################\n",
      "Exception occurred for: sort          -\n",
      "volume    0.603\n",
      "outcome   1.000\n",
      "Name: china058, dtype: object\n",
      "[Errno 2] No such file or directory: '/home/sopeeweje/bone_master/data_dir/preprocessed/china058-t1c-imagingVolume.nrrd'\n",
      "T1C image unavailable\n",
      "Traceback (most recent call last):\n",
      "  File \"/home/sopeeweje/bone_master/data_gen.py\", line 386, in generate_from_features\n",
      "    t1c_masked = load_image(t1c_image_file, t1c_seg_file, verbose=verbose)\n",
      "  File \"/home/sopeeweje/bone_master/data_gen.py\", line 316, in load_image\n",
      "    image, _ = nrrd.read(image_path)\n",
      "  File \"/home/sopeeweje/.local/share/virtualenvs/bone_master-xLR2Nuxv/lib/python3.6/site-packages/nrrd/reader.py\", line 506, in read\n",
      "    with open(filename, 'rb') as fh:\n",
      "FileNotFoundError: [Errno 2] No such file or directory: '/home/sopeeweje/bone_master/data_dir/preprocessed/china058-t1c-imagingVolume.nrrd'\n",
      "\n"
     ]
    },
    {
     "name": "stderr",
     "output_type": "stream",
     "text": [
      "\r",
      " 99%|█████████▉| 237/240 [01:34<00:00,  3.42it/s]"
     ]
    },
    {
     "name": "stdout",
     "output_type": "stream",
     "text": [
      "\n",
      "################################################################################\n",
      "Exception occurred for: sort          -\n",
      "volume    0.603\n",
      "outcome   1.000\n",
      "Name: china096, dtype: object\n",
      "[Errno 2] No such file or directory: '/home/sopeeweje/bone_master/data_dir/preprocessed/china096-t1-imagingVolume.nrrd'\n",
      "T1 image unavailable\n",
      "Traceback (most recent call last):\n",
      "  File \"/home/sopeeweje/bone_master/data_gen.py\", line 360, in generate_from_features\n",
      "    t1_masked = load_image(t1_image_file, t1_seg_file, verbose=verbose)\n",
      "  File \"/home/sopeeweje/bone_master/data_gen.py\", line 316, in load_image\n",
      "    image, _ = nrrd.read(image_path)\n",
      "  File \"/home/sopeeweje/.local/share/virtualenvs/bone_master-xLR2Nuxv/lib/python3.6/site-packages/nrrd/reader.py\", line 506, in read\n",
      "    with open(filename, 'rb') as fh:\n",
      "FileNotFoundError: [Errno 2] No such file or directory: '/home/sopeeweje/bone_master/data_dir/preprocessed/china096-t1-imagingVolume.nrrd'\n",
      "\n"
     ]
    },
    {
     "name": "stderr",
     "output_type": "stream",
     "text": [
      "100%|██████████| 240/240 [01:34<00:00,  2.53it/s]\n",
      "  3%|▎         | 2/67 [00:00<00:07,  9.14it/s]"
     ]
    },
    {
     "name": "stdout",
     "output_type": "stream",
     "text": [
      "\n",
      "################################################################################\n",
      "Exception occurred for: sort          -\n",
      "volume    0.603\n",
      "outcome   0.000\n",
      "Name: penn-074, dtype: object\n",
      "[Errno 2] No such file or directory: '/home/sopeeweje/bone_master/data_dir/preprocessed/penn-074-t1c-imagingVolume.nrrd'\n",
      "T1C image unavailable\n",
      "Traceback (most recent call last):\n",
      "  File \"/home/sopeeweje/bone_master/data_gen.py\", line 386, in generate_from_features\n",
      "    t1c_masked = load_image(t1c_image_file, t1c_seg_file, verbose=verbose)\n",
      "  File \"/home/sopeeweje/bone_master/data_gen.py\", line 316, in load_image\n",
      "    image, _ = nrrd.read(image_path)\n",
      "  File \"/home/sopeeweje/.local/share/virtualenvs/bone_master-xLR2Nuxv/lib/python3.6/site-packages/nrrd/reader.py\", line 506, in read\n",
      "    with open(filename, 'rb') as fh:\n",
      "FileNotFoundError: [Errno 2] No such file or directory: '/home/sopeeweje/bone_master/data_dir/preprocessed/penn-074-t1c-imagingVolume.nrrd'\n",
      "\n",
      "\n",
      "################################################################################\n",
      "Exception occurred for: sort          -\n",
      "volume    0.603\n",
      "outcome   0.000\n",
      "Name: chop-58, dtype: object\n",
      "[Errno 2] No such file or directory: '/home/sopeeweje/bone_master/data_dir/preprocessed/chop-58-t1c-imagingVolume.nrrd'\n",
      "T1C image unavailable\n",
      "Traceback (most recent call last):\n",
      "  File \"/home/sopeeweje/bone_master/data_gen.py\", line 386, in generate_from_features\n",
      "    t1c_masked = load_image(t1c_image_file, t1c_seg_file, verbose=verbose)\n",
      "  File \"/home/sopeeweje/bone_master/data_gen.py\", line 316, in load_image\n",
      "    image, _ = nrrd.read(image_path)\n",
      "  File \"/home/sopeeweje/.local/share/virtualenvs/bone_master-xLR2Nuxv/lib/python3.6/site-packages/nrrd/reader.py\", line 506, in read\n",
      "    with open(filename, 'rb') as fh:\n",
      "FileNotFoundError: [Errno 2] No such file or directory: '/home/sopeeweje/bone_master/data_dir/preprocessed/chop-58-t1c-imagingVolume.nrrd'\n",
      "\n"
     ]
    },
    {
     "name": "stderr",
     "output_type": "stream",
     "text": [
      "\r",
      "  4%|▍         | 3/67 [00:00<00:08,  7.99it/s]"
     ]
    },
    {
     "name": "stdout",
     "output_type": "stream",
     "text": [
      "\n",
      "################################################################################\n",
      "Exception occurred for: sort          -\n",
      "volume    0.603\n",
      "outcome   0.000\n",
      "Name: chop-86, dtype: object\n",
      "[Errno 2] No such file or directory: '/home/sopeeweje/bone_master/data_dir/preprocessed/chop-86-t1c-imagingVolume.nrrd'\n",
      "T1C image unavailable\n",
      "Traceback (most recent call last):\n",
      "  File \"/home/sopeeweje/bone_master/data_gen.py\", line 386, in generate_from_features\n",
      "    t1c_masked = load_image(t1c_image_file, t1c_seg_file, verbose=verbose)\n",
      "  File \"/home/sopeeweje/bone_master/data_gen.py\", line 316, in load_image\n",
      "    image, _ = nrrd.read(image_path)\n",
      "  File \"/home/sopeeweje/.local/share/virtualenvs/bone_master-xLR2Nuxv/lib/python3.6/site-packages/nrrd/reader.py\", line 506, in read\n",
      "    with open(filename, 'rb') as fh:\n",
      "FileNotFoundError: [Errno 2] No such file or directory: '/home/sopeeweje/bone_master/data_dir/preprocessed/chop-86-t1c-imagingVolume.nrrd'\n",
      "\n",
      "\n",
      "################################################################################\n",
      "Exception occurred for: sort          -\n",
      "volume    0.603\n",
      "outcome   0.000\n",
      "Name: china079, dtype: object\n",
      "[Errno 2] No such file or directory: '/home/sopeeweje/bone_master/data_dir/preprocessed/china079-t1c-imagingVolume.nrrd'"
     ]
    },
    {
     "name": "stderr",
     "output_type": "stream",
     "text": [
      "\r",
      "  6%|▌         | 4/67 [00:00<00:09,  6.70it/s]"
     ]
    },
    {
     "name": "stdout",
     "output_type": "stream",
     "text": [
      "\n",
      "T1C image unavailable\n",
      "Traceback (most recent call last):\n",
      "  File \"/home/sopeeweje/bone_master/data_gen.py\", line 386, in generate_from_features\n",
      "    t1c_masked = load_image(t1c_image_file, t1c_seg_file, verbose=verbose)\n",
      "  File \"/home/sopeeweje/bone_master/data_gen.py\", line 316, in load_image\n",
      "    image, _ = nrrd.read(image_path)\n",
      "  File \"/home/sopeeweje/.local/share/virtualenvs/bone_master-xLR2Nuxv/lib/python3.6/site-packages/nrrd/reader.py\", line 506, in read\n",
      "    with open(filename, 'rb') as fh:\n",
      "FileNotFoundError: [Errno 2] No such file or directory: '/home/sopeeweje/bone_master/data_dir/preprocessed/china079-t1c-imagingVolume.nrrd'\n",
      "\n",
      "\n",
      "################################################################################\n",
      "Exception occurred for: sort          -\n",
      "volume    0.603\n",
      "outcome   0.000\n",
      "Name: china154, dtype: object\n",
      "[Errno 2] No such file or directory: '/home/sopeeweje/bone_master/data_dir/preprocessed/china154-t1c-imagingVolume.nrrd'\n",
      "T1C image unavailable\n",
      "Traceback (most recent call last):\n",
      "  File \"/home/sopeeweje/bone_master/data_gen.py\", line 386, in generate_from_features\n",
      "    t1c_masked = load_image(t1c_image_file, t1c_seg_file, verbose=verbose)\n",
      "  File \"/home/sopeeweje/bone_master/data_gen.py\", line 316, in load_image\n",
      "    image, _ = nrrd.read(image_path)\n",
      "  File \"/home/sopeeweje/.local/share/virtualenvs/bone_master-xLR2Nuxv/lib/python3.6/site-packages/nrrd/reader.py\", line 506, in read\n",
      "    with open(filename, 'rb') as fh:\n",
      "FileNotFoundError: [Errno 2] No such file or directory: '/home/sopeeweje/bone_master/data_dir/preprocessed/china154-t1c-imagingVolume.nrrd'\n",
      "\n"
     ]
    },
    {
     "name": "stderr",
     "output_type": "stream",
     "text": [
      " 18%|█▊        | 12/67 [00:04<00:35,  1.54it/s]"
     ]
    },
    {
     "name": "stdout",
     "output_type": "stream",
     "text": [
      "\n",
      "################################################################################\n",
      "Exception occurred for: sort          -\n",
      "volume    0.603\n",
      "outcome   0.000\n",
      "Name: chop-61, dtype: object\n",
      "[Errno 2] No such file or directory: '/home/sopeeweje/bone_master/data_dir/preprocessed/chop-61-t1c-imagingVolume.nrrd'\n",
      "T1C image unavailable\n",
      "Traceback (most recent call last):\n",
      "  File \"/home/sopeeweje/bone_master/data_gen.py\", line 386, in generate_from_features\n",
      "    t1c_masked = load_image(t1c_image_file, t1c_seg_file, verbose=verbose)\n",
      "  File \"/home/sopeeweje/bone_master/data_gen.py\", line 316, in load_image\n",
      "    image, _ = nrrd.read(image_path)\n",
      "  File \"/home/sopeeweje/.local/share/virtualenvs/bone_master-xLR2Nuxv/lib/python3.6/site-packages/nrrd/reader.py\", line 506, in read\n",
      "    with open(filename, 'rb') as fh:\n",
      "FileNotFoundError: [Errno 2] No such file or directory: '/home/sopeeweje/bone_master/data_dir/preprocessed/chop-61-t1c-imagingVolume.nrrd'\n",
      "\n",
      "\n",
      "################################################################################\n",
      "Exception occurred for: sort          -\n",
      "volume    0.603\n",
      "outcome   0.000\n",
      "Name: chop-141, dtype: object\n",
      "[Errno 2] No such file or directory: '/home/sopeeweje/bone_master/data_dir/preprocessed/chop-141-t1c-imagingVolume.nrrd'\n",
      "T1C image unavailable\n",
      "Traceback (most recent call last):\n",
      "  File \"/home/sopeeweje/bone_master/data_gen.py\", line 386, in generate_from_features\n",
      "    t1c_masked = load_image(t1c_image_file, t1c_seg_file, verbose=verbose)\n",
      "  File \"/home/sopeeweje/bone_master/data_gen.py\", line 316, in load_image\n",
      "    image, _ = nrrd.read(image_path)\n",
      "  File \"/home/sopeeweje/.local/share/virtualenvs/bone_master-xLR2Nuxv/lib/python3.6/site-packages/nrrd/reader.py\", line 506, in read\n",
      "    with open(filename, 'rb') as fh:\n",
      "FileNotFoundError: [Errno 2] No such file or directory: '/home/sopeeweje/bone_master/data_dir/preprocessed/chop-141-t1c-imagingVolume.nrrd'\n",
      "\n"
     ]
    },
    {
     "name": "stderr",
     "output_type": "stream",
     "text": [
      " 22%|██▏       | 15/67 [00:05<00:19,  2.62it/s]"
     ]
    },
    {
     "name": "stdout",
     "output_type": "stream",
     "text": [
      "\n",
      "################################################################################\n",
      "Exception occurred for: sort          -\n",
      "volume    0.603\n",
      "outcome   0.000\n",
      "Name: china052, dtype: object\n",
      "[Errno 2] No such file or directory: '/home/sopeeweje/bone_master/data_dir/preprocessed/china052-t1c-imagingVolume.nrrd'\n",
      "T1C image unavailable\n",
      "Traceback (most recent call last):\n",
      "  File \"/home/sopeeweje/bone_master/data_gen.py\", line 386, in generate_from_features\n",
      "    t1c_masked = load_image(t1c_image_file, t1c_seg_file, verbose=verbose)\n",
      "  File \"/home/sopeeweje/bone_master/data_gen.py\", line 316, in load_image\n",
      "    image, _ = nrrd.read(image_path)\n",
      "  File \"/home/sopeeweje/.local/share/virtualenvs/bone_master-xLR2Nuxv/lib/python3.6/site-packages/nrrd/reader.py\", line 506, in read\n",
      "    with open(filename, 'rb') as fh:\n",
      "FileNotFoundError: [Errno 2] No such file or directory: '/home/sopeeweje/bone_master/data_dir/preprocessed/china052-t1c-imagingVolume.nrrd'\n",
      "\n"
     ]
    },
    {
     "name": "stderr",
     "output_type": "stream",
     "text": [
      " 27%|██▋       | 18/67 [00:06<00:13,  3.58it/s]"
     ]
    },
    {
     "name": "stdout",
     "output_type": "stream",
     "text": [
      "\n",
      "################################################################################\n",
      "Exception occurred for: sort          -\n",
      "volume    0.603\n",
      "outcome   0.000\n",
      "Name: chop-126, dtype: object\n",
      "[Errno 2] No such file or directory: '/home/sopeeweje/bone_master/data_dir/preprocessed/chop-126-t1c-imagingVolume.nrrd'\n",
      "T1C image unavailable\n",
      "Traceback (most recent call last):\n",
      "  File \"/home/sopeeweje/bone_master/data_gen.py\", line 386, in generate_from_features\n",
      "    t1c_masked = load_image(t1c_image_file, t1c_seg_file, verbose=verbose)\n",
      "  File \"/home/sopeeweje/bone_master/data_gen.py\", line 316, in load_image\n",
      "    image, _ = nrrd.read(image_path)\n",
      "  File \"/home/sopeeweje/.local/share/virtualenvs/bone_master-xLR2Nuxv/lib/python3.6/site-packages/nrrd/reader.py\", line 506, in read\n",
      "    with open(filename, 'rb') as fh:\n",
      "FileNotFoundError: [Errno 2] No such file or directory: '/home/sopeeweje/bone_master/data_dir/preprocessed/chop-126-t1c-imagingVolume.nrrd'\n",
      "\n",
      "\n",
      "################################################################################\n",
      "Exception occurred for: sort          -\n",
      "volume    0.603\n",
      "outcome   0.000\n",
      "Name: chop-120, dtype: object\n",
      "[Errno 2] No such file or directory: '/home/sopeeweje/bone_master/data_dir/preprocessed/chop-120-t1c-imagingVolume.nrrd'\n",
      "T1C image unavailable\n",
      "Traceback (most recent call last):\n",
      "  File \"/home/sopeeweje/bone_master/data_gen.py\", line 386, in generate_from_features\n",
      "    t1c_masked = load_image(t1c_image_file, t1c_seg_file, verbose=verbose)\n",
      "  File \"/home/sopeeweje/bone_master/data_gen.py\", line 316, in load_image\n",
      "    image, _ = nrrd.read(image_path)\n",
      "  File \"/home/sopeeweje/.local/share/virtualenvs/bone_master-xLR2Nuxv/lib/python3.6/site-packages/nrrd/reader.py\", line 506, in read\n",
      "    with open(filename, 'rb') as fh:\n",
      "FileNotFoundError: [Errno 2] No such file or directory: '/home/sopeeweje/bone_master/data_dir/preprocessed/chop-120-t1c-imagingVolume.nrrd'\n",
      "\n"
     ]
    },
    {
     "name": "stderr",
     "output_type": "stream",
     "text": [
      " 30%|██▉       | 20/67 [00:06<00:11,  4.16it/s]"
     ]
    },
    {
     "name": "stdout",
     "output_type": "stream",
     "text": [
      "\n",
      "################################################################################\n",
      "Exception occurred for: sort          -\n",
      "volume    0.603\n",
      "outcome   0.000\n",
      "Name: chop-87, dtype: object\n",
      "[Errno 2] No such file or directory: '/home/sopeeweje/bone_master/data_dir/preprocessed/chop-87-t1c-imagingVolume.nrrd'\n",
      "T1C image unavailable\n",
      "Traceback (most recent call last):\n",
      "  File \"/home/sopeeweje/bone_master/data_gen.py\", line 386, in generate_from_features\n",
      "    t1c_masked = load_image(t1c_image_file, t1c_seg_file, verbose=verbose)\n",
      "  File \"/home/sopeeweje/bone_master/data_gen.py\", line 316, in load_image\n",
      "    image, _ = nrrd.read(image_path)\n",
      "  File \"/home/sopeeweje/.local/share/virtualenvs/bone_master-xLR2Nuxv/lib/python3.6/site-packages/nrrd/reader.py\", line 506, in read\n",
      "    with open(filename, 'rb') as fh:\n",
      "FileNotFoundError: [Errno 2] No such file or directory: '/home/sopeeweje/bone_master/data_dir/preprocessed/chop-87-t1c-imagingVolume.nrrd'\n",
      "\n"
     ]
    },
    {
     "name": "stderr",
     "output_type": "stream",
     "text": [
      " 33%|███▎      | 22/67 [00:07<00:10,  4.34it/s]"
     ]
    },
    {
     "name": "stdout",
     "output_type": "stream",
     "text": [
      "\n",
      "################################################################################\n",
      "Exception occurred for: sort          -\n",
      "volume    0.603\n",
      "outcome   0.000\n",
      "Name: penn-063, dtype: object\n",
      "[Errno 2] No such file or directory: '/home/sopeeweje/bone_master/data_dir/preprocessed/penn-063-t1c-imagingVolume.nrrd'\n",
      "T1C image unavailable\n",
      "Traceback (most recent call last):\n",
      "  File \"/home/sopeeweje/bone_master/data_gen.py\", line 386, in generate_from_features\n",
      "    t1c_masked = load_image(t1c_image_file, t1c_seg_file, verbose=verbose)\n",
      "  File \"/home/sopeeweje/bone_master/data_gen.py\", line 316, in load_image\n",
      "    image, _ = nrrd.read(image_path)\n",
      "  File \"/home/sopeeweje/.local/share/virtualenvs/bone_master-xLR2Nuxv/lib/python3.6/site-packages/nrrd/reader.py\", line 506, in read\n",
      "    with open(filename, 'rb') as fh:\n",
      "FileNotFoundError: [Errno 2] No such file or directory: '/home/sopeeweje/bone_master/data_dir/preprocessed/penn-063-t1c-imagingVolume.nrrd'\n",
      "\n"
     ]
    },
    {
     "name": "stderr",
     "output_type": "stream",
     "text": [
      "\r",
      " 34%|███▍      | 23/67 [00:07<00:15,  2.84it/s]"
     ]
    },
    {
     "name": "stdout",
     "output_type": "stream",
     "text": [
      "\n",
      "################################################################################\n",
      "Exception occurred for: sort          -\n",
      "volume    0.603\n",
      "outcome   0.000\n",
      "Name: china023, dtype: object\n",
      "[Errno 2] No such file or directory: '/home/sopeeweje/bone_master/data_dir/preprocessed/china023-t1-imagingVolume.nrrd'\n",
      "T1 image unavailable\n",
      "Traceback (most recent call last):\n",
      "  File \"/home/sopeeweje/bone_master/data_gen.py\", line 360, in generate_from_features\n",
      "    t1_masked = load_image(t1_image_file, t1_seg_file, verbose=verbose)\n",
      "  File \"/home/sopeeweje/bone_master/data_gen.py\", line 316, in load_image\n",
      "    image, _ = nrrd.read(image_path)\n",
      "  File \"/home/sopeeweje/.local/share/virtualenvs/bone_master-xLR2Nuxv/lib/python3.6/site-packages/nrrd/reader.py\", line 506, in read\n",
      "    with open(filename, 'rb') as fh:\n",
      "FileNotFoundError: [Errno 2] No such file or directory: '/home/sopeeweje/bone_master/data_dir/preprocessed/china023-t1-imagingVolume.nrrd'\n",
      "\n"
     ]
    },
    {
     "name": "stderr",
     "output_type": "stream",
     "text": [
      "\r",
      " 37%|███▋      | 25/67 [00:08<00:13,  3.20it/s]"
     ]
    },
    {
     "name": "stdout",
     "output_type": "stream",
     "text": [
      "\n",
      "################################################################################\n",
      "Exception occurred for: sort          -\n",
      "volume    0.603\n",
      "outcome   0.000\n",
      "Name: chop-46, dtype: object\n",
      "[Errno 2] No such file or directory: '/home/sopeeweje/bone_master/data_dir/preprocessed/chop-46-t1-imagingVolume.nrrd'\n",
      "T1 image unavailable\n",
      "Traceback (most recent call last):\n",
      "  File \"/home/sopeeweje/bone_master/data_gen.py\", line 360, in generate_from_features\n",
      "    t1_masked = load_image(t1_image_file, t1_seg_file, verbose=verbose)\n",
      "  File \"/home/sopeeweje/bone_master/data_gen.py\", line 316, in load_image\n",
      "    image, _ = nrrd.read(image_path)\n",
      "  File \"/home/sopeeweje/.local/share/virtualenvs/bone_master-xLR2Nuxv/lib/python3.6/site-packages/nrrd/reader.py\", line 506, in read\n",
      "    with open(filename, 'rb') as fh:\n",
      "FileNotFoundError: [Errno 2] No such file or directory: '/home/sopeeweje/bone_master/data_dir/preprocessed/chop-46-t1-imagingVolume.nrrd'\n",
      "\n",
      "\n",
      "################################################################################\n",
      "Exception occurred for: sort          -\n",
      "volume    0.603\n",
      "outcome   0.000\n",
      "Name: china055, dtype: object\n",
      "[Errno 2] No such file or directory: '/home/sopeeweje/bone_master/data_dir/preprocessed/china055-t1c-imagingVolume.nrrd'\n",
      "T1C image unavailable\n",
      "Traceback (most recent call last):\n",
      "  File \"/home/sopeeweje/bone_master/data_gen.py\", line 386, in generate_from_features\n",
      "    t1c_masked = load_image(t1c_image_file, t1c_seg_file, verbose=verbose)\n",
      "  File \"/home/sopeeweje/bone_master/data_gen.py\", line 316, in load_image\n",
      "    image, _ = nrrd.read(image_path)\n",
      "  File \"/home/sopeeweje/.local/share/virtualenvs/bone_master-xLR2Nuxv/lib/python3.6/site-packages/nrrd/reader.py\", line 506, in read\n",
      "    with open(filename, 'rb') as fh:\n",
      "FileNotFoundError: [Errno 2] No such file or directory: '/home/sopeeweje/bone_master/data_dir/preprocessed/china055-t1c-imagingVolume.nrrd'\n",
      "\n"
     ]
    },
    {
     "name": "stderr",
     "output_type": "stream",
     "text": [
      " 45%|████▍     | 30/67 [00:08<00:07,  4.64it/s]"
     ]
    },
    {
     "name": "stdout",
     "output_type": "stream",
     "text": [
      "\n",
      "################################################################################\n",
      "Exception occurred for: sort          -\n",
      "volume    0.603\n",
      "outcome   0.000\n",
      "Name: china001, dtype: object\n",
      "[Errno 2] No such file or directory: '/home/sopeeweje/bone_master/data_dir/preprocessed/china001-t1c-imagingVolume.nrrd'\n",
      "T1C image unavailable\n",
      "Traceback (most recent call last):\n",
      "  File \"/home/sopeeweje/bone_master/data_gen.py\", line 386, in generate_from_features\n",
      "    t1c_masked = load_image(t1c_image_file, t1c_seg_file, verbose=verbose)\n",
      "  File \"/home/sopeeweje/bone_master/data_gen.py\", line 316, in load_image\n",
      "    image, _ = nrrd.read(image_path)\n",
      "  File \"/home/sopeeweje/.local/share/virtualenvs/bone_master-xLR2Nuxv/lib/python3.6/site-packages/nrrd/reader.py\", line 506, in read\n",
      "    with open(filename, 'rb') as fh:\n",
      "FileNotFoundError: [Errno 2] No such file or directory: '/home/sopeeweje/bone_master/data_dir/preprocessed/china001-t1c-imagingVolume.nrrd'\n",
      "\n"
     ]
    },
    {
     "name": "stderr",
     "output_type": "stream",
     "text": [
      " 58%|█████▊    | 39/67 [00:11<00:07,  3.81it/s]"
     ]
    },
    {
     "name": "stdout",
     "output_type": "stream",
     "text": [
      "\n",
      "################################################################################\n",
      "Exception occurred for: sort          -\n",
      "volume    0.603\n",
      "outcome   1.000\n",
      "Name: china040, dtype: object\n",
      "[Errno 2] No such file or directory: '/home/sopeeweje/bone_master/data_dir/preprocessed/china040-t1c-imagingVolume.nrrd'\n",
      "T1C image unavailable\n",
      "Traceback (most recent call last):\n",
      "  File \"/home/sopeeweje/bone_master/data_gen.py\", line 386, in generate_from_features\n",
      "    t1c_masked = load_image(t1c_image_file, t1c_seg_file, verbose=verbose)\n",
      "  File \"/home/sopeeweje/bone_master/data_gen.py\", line 316, in load_image\n",
      "    image, _ = nrrd.read(image_path)\n",
      "  File \"/home/sopeeweje/.local/share/virtualenvs/bone_master-xLR2Nuxv/lib/python3.6/site-packages/nrrd/reader.py\", line 506, in read\n",
      "    with open(filename, 'rb') as fh:\n",
      "FileNotFoundError: [Errno 2] No such file or directory: '/home/sopeeweje/bone_master/data_dir/preprocessed/china040-t1c-imagingVolume.nrrd'\n",
      "\n",
      "\n",
      "################################################################################\n",
      "Exception occurred for: sort          -\n",
      "volume    0.603\n",
      "outcome   1.000\n",
      "Name: china026, dtype: object\n",
      "[Errno 2] No such file or directory: '/home/sopeeweje/bone_master/data_dir/preprocessed/china026-t1c-imagingVolume.nrrd'\n",
      "T1C image unavailable\n",
      "Traceback (most recent call last):\n",
      "  File \"/home/sopeeweje/bone_master/data_gen.py\", line 386, in generate_from_features\n",
      "    t1c_masked = load_image(t1c_image_file, t1c_seg_file, verbose=verbose)\n",
      "  File \"/home/sopeeweje/bone_master/data_gen.py\", line 316, in load_image\n",
      "    image, _ = nrrd.read(image_path)\n",
      "  File \"/home/sopeeweje/.local/share/virtualenvs/bone_master-xLR2Nuxv/lib/python3.6/site-packages/nrrd/reader.py\", line 506, in read\n",
      "    with open(filename, 'rb') as fh:\n",
      "FileNotFoundError: [Errno 2] No such file or directory: '/home/sopeeweje/bone_master/data_dir/preprocessed/china026-t1c-imagingVolume.nrrd'\n",
      "\n"
     ]
    },
    {
     "name": "stderr",
     "output_type": "stream",
     "text": [
      " 66%|██████▌   | 44/67 [00:12<00:06,  3.77it/s]"
     ]
    },
    {
     "name": "stdout",
     "output_type": "stream",
     "text": [
      "\n",
      "################################################################################\n",
      "Exception occurred for: sort          -\n",
      "volume    0.603\n",
      "outcome   1.000\n",
      "Name: chop-140, dtype: object\n",
      "[Errno 2] No such file or directory: '/home/sopeeweje/bone_master/data_dir/preprocessed/chop-140-t1c-imagingVolume.nrrd'\n",
      "T1C image unavailable\n",
      "Traceback (most recent call last):\n",
      "  File \"/home/sopeeweje/bone_master/data_gen.py\", line 386, in generate_from_features\n",
      "    t1c_masked = load_image(t1c_image_file, t1c_seg_file, verbose=verbose)\n",
      "  File \"/home/sopeeweje/bone_master/data_gen.py\", line 316, in load_image\n",
      "    image, _ = nrrd.read(image_path)\n",
      "  File \"/home/sopeeweje/.local/share/virtualenvs/bone_master-xLR2Nuxv/lib/python3.6/site-packages/nrrd/reader.py\", line 506, in read\n",
      "    with open(filename, 'rb') as fh:\n",
      "FileNotFoundError: [Errno 2] No such file or directory: '/home/sopeeweje/bone_master/data_dir/preprocessed/chop-140-t1c-imagingVolume.nrrd'\n",
      "\n"
     ]
    },
    {
     "name": "stderr",
     "output_type": "stream",
     "text": [
      " 78%|███████▊  | 52/67 [00:15<00:03,  4.10it/s]"
     ]
    },
    {
     "name": "stdout",
     "output_type": "stream",
     "text": [
      "\n",
      "################################################################################\n",
      "Exception occurred for: sort          -\n",
      "volume    0.603\n",
      "outcome   1.000\n",
      "Name: chop-113, dtype: object\n",
      "[Errno 2] No such file or directory: '/home/sopeeweje/bone_master/data_dir/preprocessed/chop-113-t1c-imagingVolume.nrrd'\n",
      "T1C image unavailable\n",
      "Traceback (most recent call last):\n",
      "  File \"/home/sopeeweje/bone_master/data_gen.py\", line 386, in generate_from_features\n",
      "    t1c_masked = load_image(t1c_image_file, t1c_seg_file, verbose=verbose)\n",
      "  File \"/home/sopeeweje/bone_master/data_gen.py\", line 316, in load_image\n",
      "    image, _ = nrrd.read(image_path)\n",
      "  File \"/home/sopeeweje/.local/share/virtualenvs/bone_master-xLR2Nuxv/lib/python3.6/site-packages/nrrd/reader.py\", line 506, in read\n",
      "    with open(filename, 'rb') as fh:\n",
      "FileNotFoundError: [Errno 2] No such file or directory: '/home/sopeeweje/bone_master/data_dir/preprocessed/chop-113-t1c-imagingVolume.nrrd'\n",
      "\n",
      "\n",
      "################################################################################\n",
      "Exception occurred for: sort          -\n",
      "volume    0.603\n",
      "outcome   1.000\n",
      "Name: china022, dtype: object\n",
      "[Errno 2] No such file or directory: '/home/sopeeweje/bone_master/data_dir/preprocessed/china022-t1c-imagingVolume.nrrd'\n",
      "T1C image unavailable\n",
      "Traceback (most recent call last):\n",
      "  File \"/home/sopeeweje/bone_master/data_gen.py\", line 386, in generate_from_features\n",
      "    t1c_masked = load_image(t1c_image_file, t1c_seg_file, verbose=verbose)\n",
      "  File \"/home/sopeeweje/bone_master/data_gen.py\", line 316, in load_image\n",
      "    image, _ = nrrd.read(image_path)\n",
      "  File \"/home/sopeeweje/.local/share/virtualenvs/bone_master-xLR2Nuxv/lib/python3.6/site-packages/nrrd/reader.py\", line 506, in read\n",
      "    with open(filename, 'rb') as fh:\n",
      "FileNotFoundError: [Errno 2] No such file or directory: '/home/sopeeweje/bone_master/data_dir/preprocessed/china022-t1c-imagingVolume.nrrd'\n",
      "\n"
     ]
    },
    {
     "name": "stderr",
     "output_type": "stream",
     "text": [
      " 84%|████████▎ | 56/67 [00:16<00:02,  3.94it/s]"
     ]
    },
    {
     "name": "stdout",
     "output_type": "stream",
     "text": [
      "\n",
      "################################################################################\n",
      "Exception occurred for: sort          -\n",
      "volume    0.603\n",
      "outcome   1.000\n",
      "Name: china031, dtype: object\n",
      "[Errno 2] No such file or directory: '/home/sopeeweje/bone_master/data_dir/preprocessed/china031-t1c-imagingVolume.nrrd'\n",
      "T1C image unavailable\n",
      "Traceback (most recent call last):\n",
      "  File \"/home/sopeeweje/bone_master/data_gen.py\", line 386, in generate_from_features\n",
      "    t1c_masked = load_image(t1c_image_file, t1c_seg_file, verbose=verbose)\n",
      "  File \"/home/sopeeweje/bone_master/data_gen.py\", line 316, in load_image\n",
      "    image, _ = nrrd.read(image_path)\n",
      "  File \"/home/sopeeweje/.local/share/virtualenvs/bone_master-xLR2Nuxv/lib/python3.6/site-packages/nrrd/reader.py\", line 506, in read\n",
      "    with open(filename, 'rb') as fh:\n",
      "FileNotFoundError: [Errno 2] No such file or directory: '/home/sopeeweje/bone_master/data_dir/preprocessed/china031-t1c-imagingVolume.nrrd'\n",
      "\n",
      "\n",
      "################################################################################\n",
      "Exception occurred for: sort          -\n",
      "volume    0.603\n",
      "outcome   1.000\n",
      "Name: china056, dtype: object\n",
      "[Errno 2] No such file or directory: '/home/sopeeweje/bone_master/data_dir/preprocessed/china056-t1c-imagingVolume.nrrd'\n",
      "T1C image unavailable\n",
      "Traceback (most recent call last):\n",
      "  File \"/home/sopeeweje/bone_master/data_gen.py\", line 386, in generate_from_features\n",
      "    t1c_masked = load_image(t1c_image_file, t1c_seg_file, verbose=verbose)\n",
      "  File \"/home/sopeeweje/bone_master/data_gen.py\", line 316, in load_image\n",
      "    image, _ = nrrd.read(image_path)\n",
      "  File \"/home/sopeeweje/.local/share/virtualenvs/bone_master-xLR2Nuxv/lib/python3.6/site-packages/nrrd/reader.py\", line 506, in read\n",
      "    with open(filename, 'rb') as fh:\n",
      "FileNotFoundError: [Errno 2] No such file or directory: '/home/sopeeweje/bone_master/data_dir/preprocessed/china056-t1c-imagingVolume.nrrd'\n",
      "\n"
     ]
    },
    {
     "name": "stderr",
     "output_type": "stream",
     "text": [
      "\r",
      " 85%|████████▌ | 57/67 [00:16<00:02,  3.88it/s]"
     ]
    },
    {
     "name": "stdout",
     "output_type": "stream",
     "text": [
      "\n",
      "################################################################################\n",
      "Exception occurred for: sort          -\n",
      "volume    0.604\n",
      "outcome   1.000\n",
      "Name: penn-019, dtype: object\n",
      "[Errno 2] No such file or directory: '/home/sopeeweje/bone_master/data_dir/preprocessed/penn-019-t1c-imagingVolume.nrrd'\n",
      "T1C image unavailable\n",
      "Traceback (most recent call last):\n",
      "  File \"/home/sopeeweje/bone_master/data_gen.py\", line 386, in generate_from_features\n",
      "    t1c_masked = load_image(t1c_image_file, t1c_seg_file, verbose=verbose)\n",
      "  File \"/home/sopeeweje/bone_master/data_gen.py\", line 316, in load_image\n",
      "    image, _ = nrrd.read(image_path)\n",
      "  File \"/home/sopeeweje/.local/share/virtualenvs/bone_master-xLR2Nuxv/lib/python3.6/site-packages/nrrd/reader.py\", line 506, in read\n",
      "    with open(filename, 'rb') as fh:\n",
      "FileNotFoundError: [Errno 2] No such file or directory: '/home/sopeeweje/bone_master/data_dir/preprocessed/penn-019-t1c-imagingVolume.nrrd'\n",
      "\n"
     ]
    },
    {
     "name": "stderr",
     "output_type": "stream",
     "text": [
      "\r",
      " 87%|████████▋ | 58/67 [00:16<00:02,  3.93it/s]"
     ]
    },
    {
     "name": "stdout",
     "output_type": "stream",
     "text": [
      "\n",
      "################################################################################\n",
      "Exception occurred for: sort          -\n",
      "volume    0.603\n",
      "outcome   1.000\n",
      "Name: penn-011, dtype: object\n",
      "[Errno 2] No such file or directory: '/home/sopeeweje/bone_master/data_dir/preprocessed/penn-011-t1c-imagingVolume.nrrd'\n",
      "T1C image unavailable\n",
      "Traceback (most recent call last):\n",
      "  File \"/home/sopeeweje/bone_master/data_gen.py\", line 386, in generate_from_features\n",
      "    t1c_masked = load_image(t1c_image_file, t1c_seg_file, verbose=verbose)\n",
      "  File \"/home/sopeeweje/bone_master/data_gen.py\", line 316, in load_image\n",
      "    image, _ = nrrd.read(image_path)\n",
      "  File \"/home/sopeeweje/.local/share/virtualenvs/bone_master-xLR2Nuxv/lib/python3.6/site-packages/nrrd/reader.py\", line 506, in read\n",
      "    with open(filename, 'rb') as fh:\n",
      "FileNotFoundError: [Errno 2] No such file or directory: '/home/sopeeweje/bone_master/data_dir/preprocessed/penn-011-t1c-imagingVolume.nrrd'\n",
      "\n",
      "\n",
      "################################################################################\n",
      "Exception occurred for: sort          -\n",
      "volume    0.603\n",
      "outcome   1.000\n",
      "Name: china102, dtype: object\n",
      "[Errno 2] No such file or directory: '/home/sopeeweje/bone_master/data_dir/preprocessed/china102-t1-imagingVolume.nrrd'\n",
      "T1 image unavailable\n",
      "Traceback (most recent call last):\n",
      "  File \"/home/sopeeweje/bone_master/data_gen.py\", line 360, in generate_from_features\n",
      "    t1_masked = load_image(t1_image_file, t1_seg_file, verbose=verbose)\n",
      "  File \"/home/sopeeweje/bone_master/data_gen.py\", line 316, in load_image\n",
      "    image, _ = nrrd.read(image_path)\n",
      "  File \"/home/sopeeweje/.local/share/virtualenvs/bone_master-xLR2Nuxv/lib/python3.6/site-packages/nrrd/reader.py\", line 506, in read\n",
      "    with open(filename, 'rb') as fh:\n",
      "FileNotFoundError: [Errno 2] No such file or directory: '/home/sopeeweje/bone_master/data_dir/preprocessed/china102-t1-imagingVolume.nrrd'\n",
      "\n",
      "\n",
      "################################################################################\n",
      "Exception occurred for: sort          -\n",
      "volume    0.603\n",
      "outcome   1.000\n",
      "Name: chop-112, dtype: object\n",
      "[Errno 2] No such file or directory: '/home/sopeeweje/bone_master/data_dir/preprocessed/chop-112-t1-imagingVolume.nrrd'\n",
      "T1 image unavailable\n",
      "Traceback (most recent call last):\n",
      "  File \"/home/sopeeweje/bone_master/data_gen.py\", line 360, in generate_from_features\n",
      "    t1_masked = load_image(t1_image_file, t1_seg_file, verbose=verbose)\n",
      "  File \"/home/sopeeweje/bone_master/data_gen.py\", line 316, in load_image\n",
      "    image, _ = nrrd.read(image_path)\n",
      "  File \"/home/sopeeweje/.local/share/virtualenvs/bone_master-xLR2Nuxv/lib/python3.6/site-packages/nrrd/reader.py\", line 506, in read\n",
      "    with open(filename, 'rb') as fh:\n",
      "FileNotFoundError: [Errno 2] No such file or directory: '/home/sopeeweje/bone_master/data_dir/preprocessed/chop-112-t1-imagingVolume.nrrd'\n",
      "\n"
     ]
    },
    {
     "name": "stderr",
     "output_type": "stream",
     "text": [
      " 93%|█████████▎| 62/67 [00:17<00:00,  5.30it/s]"
     ]
    },
    {
     "name": "stdout",
     "output_type": "stream",
     "text": [
      "\n",
      "################################################################################\n",
      "Exception occurred for: sort          -\n",
      "volume    0.603\n",
      "outcome   1.000\n",
      "Name: china057, dtype: object\n",
      "[Errno 2] No such file or directory: '/home/sopeeweje/bone_master/data_dir/preprocessed/china057-t1c-imagingVolume.nrrd'\n",
      "T1C image unavailable\n",
      "Traceback (most recent call last):\n",
      "  File \"/home/sopeeweje/bone_master/data_gen.py\", line 386, in generate_from_features\n",
      "    t1c_masked = load_image(t1c_image_file, t1c_seg_file, verbose=verbose)\n",
      "  File \"/home/sopeeweje/bone_master/data_gen.py\", line 316, in load_image\n",
      "    image, _ = nrrd.read(image_path)\n",
      "  File \"/home/sopeeweje/.local/share/virtualenvs/bone_master-xLR2Nuxv/lib/python3.6/site-packages/nrrd/reader.py\", line 506, in read\n",
      "    with open(filename, 'rb') as fh:\n",
      "FileNotFoundError: [Errno 2] No such file or directory: '/home/sopeeweje/bone_master/data_dir/preprocessed/china057-t1c-imagingVolume.nrrd'\n",
      "\n"
     ]
    },
    {
     "name": "stderr",
     "output_type": "stream",
     "text": [
      "100%|██████████| 67/67 [00:19<00:00,  3.49it/s]\n",
      "  0%|          | 0/33 [00:00<?, ?it/s]"
     ]
    },
    {
     "name": "stdout",
     "output_type": "stream",
     "text": [
      "\n",
      "################################################################################\n",
      "Exception occurred for: sort          -\n",
      "volume    0.603\n",
      "outcome   0.000\n",
      "Name: penn-008, dtype: object\n",
      "[Errno 2] No such file or directory: '/home/sopeeweje/bone_master/data_dir/preprocessed/penn-008-t1-imagingVolume.nrrd'\n",
      "T1 image unavailable\n",
      "Traceback (most recent call last):\n",
      "  File \"/home/sopeeweje/bone_master/data_gen.py\", line 360, in generate_from_features\n",
      "    t1_masked = load_image(t1_image_file, t1_seg_file, verbose=verbose)\n",
      "  File \"/home/sopeeweje/bone_master/data_gen.py\", line 316, in load_image\n",
      "    image, _ = nrrd.read(image_path)\n",
      "  File \"/home/sopeeweje/.local/share/virtualenvs/bone_master-xLR2Nuxv/lib/python3.6/site-packages/nrrd/reader.py\", line 506, in read\n",
      "    with open(filename, 'rb') as fh:\n",
      "FileNotFoundError: [Errno 2] No such file or directory: '/home/sopeeweje/bone_master/data_dir/preprocessed/penn-008-t1-imagingVolume.nrrd'\n",
      "\n"
     ]
    },
    {
     "name": "stderr",
     "output_type": "stream",
     "text": [
      "\r",
      "  6%|▌         | 2/33 [00:00<00:03,  7.89it/s]"
     ]
    },
    {
     "name": "stdout",
     "output_type": "stream",
     "text": [
      "\n",
      "################################################################################\n",
      "Exception occurred for: sort          -\n",
      "volume    0.603\n",
      "outcome   0.000\n",
      "Name: chop-81, dtype: object\n",
      "[Errno 2] No such file or directory: '/home/sopeeweje/bone_master/data_dir/preprocessed/chop-81-t1c-imagingVolume.nrrd'\n",
      "T1C image unavailable\n",
      "Traceback (most recent call last):\n",
      "  File \"/home/sopeeweje/bone_master/data_gen.py\", line 386, in generate_from_features\n",
      "    t1c_masked = load_image(t1c_image_file, t1c_seg_file, verbose=verbose)\n",
      "  File \"/home/sopeeweje/bone_master/data_gen.py\", line 316, in load_image\n",
      "    image, _ = nrrd.read(image_path)\n",
      "  File \"/home/sopeeweje/.local/share/virtualenvs/bone_master-xLR2Nuxv/lib/python3.6/site-packages/nrrd/reader.py\", line 506, in read\n",
      "    with open(filename, 'rb') as fh:\n",
      "FileNotFoundError: [Errno 2] No such file or directory: '/home/sopeeweje/bone_master/data_dir/preprocessed/chop-81-t1c-imagingVolume.nrrd'\n",
      "\n"
     ]
    },
    {
     "name": "stderr",
     "output_type": "stream",
     "text": [
      " 18%|█▊        | 6/33 [00:00<00:04,  6.26it/s]"
     ]
    },
    {
     "name": "stdout",
     "output_type": "stream",
     "text": [
      "\n",
      "################################################################################\n",
      "Exception occurred for: sort          -\n",
      "volume    0.603\n",
      "outcome   0.000\n",
      "Name: chop-70, dtype: object\n",
      "[Errno 2] No such file or directory: '/home/sopeeweje/bone_master/data_dir/preprocessed/chop-70-t1c-imagingVolume.nrrd'\n",
      "T1C image unavailable\n",
      "Traceback (most recent call last):\n",
      "  File \"/home/sopeeweje/bone_master/data_gen.py\", line 386, in generate_from_features\n",
      "    t1c_masked = load_image(t1c_image_file, t1c_seg_file, verbose=verbose)\n",
      "  File \"/home/sopeeweje/bone_master/data_gen.py\", line 316, in load_image\n",
      "    image, _ = nrrd.read(image_path)\n",
      "  File \"/home/sopeeweje/.local/share/virtualenvs/bone_master-xLR2Nuxv/lib/python3.6/site-packages/nrrd/reader.py\", line 506, in read\n",
      "    with open(filename, 'rb') as fh:\n",
      "FileNotFoundError: [Errno 2] No such file or directory: '/home/sopeeweje/bone_master/data_dir/preprocessed/chop-70-t1c-imagingVolume.nrrd'\n",
      "\n"
     ]
    },
    {
     "name": "stderr",
     "output_type": "stream",
     "text": [
      " 27%|██▋       | 9/33 [00:03<00:09,  2.51it/s]"
     ]
    },
    {
     "name": "stdout",
     "output_type": "stream",
     "text": [
      "\n",
      "################################################################################\n",
      "Exception occurred for: sort          -\n",
      "volume    0.603\n",
      "outcome   0.000\n",
      "Name: chop-34, dtype: object\n",
      "[Errno 2] No such file or directory: '/home/sopeeweje/bone_master/data_dir/preprocessed/chop-34-t1c-imagingVolume.nrrd'\n",
      "T1C image unavailable\n",
      "Traceback (most recent call last):\n",
      "  File \"/home/sopeeweje/bone_master/data_gen.py\", line 386, in generate_from_features\n",
      "    t1c_masked = load_image(t1c_image_file, t1c_seg_file, verbose=verbose)\n",
      "  File \"/home/sopeeweje/bone_master/data_gen.py\", line 316, in load_image\n",
      "    image, _ = nrrd.read(image_path)\n",
      "  File \"/home/sopeeweje/.local/share/virtualenvs/bone_master-xLR2Nuxv/lib/python3.6/site-packages/nrrd/reader.py\", line 506, in read\n",
      "    with open(filename, 'rb') as fh:\n",
      "FileNotFoundError: [Errno 2] No such file or directory: '/home/sopeeweje/bone_master/data_dir/preprocessed/chop-34-t1c-imagingVolume.nrrd'\n",
      "\n"
     ]
    },
    {
     "name": "stderr",
     "output_type": "stream",
     "text": [
      " 58%|█████▊    | 19/33 [00:05<00:03,  3.89it/s]"
     ]
    },
    {
     "name": "stdout",
     "output_type": "stream",
     "text": [
      "\n",
      "################################################################################\n",
      "Exception occurred for: sort          -\n",
      "volume    0.603\n",
      "outcome   1.000\n",
      "Name: penn-037, dtype: object\n",
      "[Errno 2] No such file or directory: '/home/sopeeweje/bone_master/data_dir/preprocessed/penn-037-t1-imagingVolume.nrrd'\n",
      "T1 image unavailable\n",
      "Traceback (most recent call last):\n",
      "  File \"/home/sopeeweje/bone_master/data_gen.py\", line 360, in generate_from_features\n",
      "    t1_masked = load_image(t1_image_file, t1_seg_file, verbose=verbose)\n",
      "  File \"/home/sopeeweje/bone_master/data_gen.py\", line 316, in load_image\n",
      "    image, _ = nrrd.read(image_path)\n",
      "  File \"/home/sopeeweje/.local/share/virtualenvs/bone_master-xLR2Nuxv/lib/python3.6/site-packages/nrrd/reader.py\", line 506, in read\n",
      "    with open(filename, 'rb') as fh:\n",
      "FileNotFoundError: [Errno 2] No such file or directory: '/home/sopeeweje/bone_master/data_dir/preprocessed/penn-037-t1-imagingVolume.nrrd'\n",
      "\n"
     ]
    },
    {
     "name": "stderr",
     "output_type": "stream",
     "text": [
      " 82%|████████▏ | 27/33 [00:09<00:02,  2.07it/s]"
     ]
    },
    {
     "name": "stdout",
     "output_type": "stream",
     "text": [
      "\n",
      "################################################################################\n",
      "Exception occurred for: sort          -\n",
      "volume    0.605\n",
      "outcome   1.000\n",
      "Name: china098, dtype: object\n",
      "[Errno 2] No such file or directory: '/home/sopeeweje/bone_master/data_dir/preprocessed/china098-t1-imagingVolume.nrrd'\n",
      "T1 image unavailable\n",
      "Traceback (most recent call last):\n",
      "  File \"/home/sopeeweje/bone_master/data_gen.py\", line 360, in generate_from_features\n",
      "    t1_masked = load_image(t1_image_file, t1_seg_file, verbose=verbose)\n",
      "  File \"/home/sopeeweje/bone_master/data_gen.py\", line 316, in load_image\n",
      "    image, _ = nrrd.read(image_path)\n",
      "  File \"/home/sopeeweje/.local/share/virtualenvs/bone_master-xLR2Nuxv/lib/python3.6/site-packages/nrrd/reader.py\", line 506, in read\n",
      "    with open(filename, 'rb') as fh:\n",
      "FileNotFoundError: [Errno 2] No such file or directory: '/home/sopeeweje/bone_master/data_dir/preprocessed/china098-t1-imagingVolume.nrrd'\n",
      "\n"
     ]
    },
    {
     "name": "stderr",
     "output_type": "stream",
     "text": [
      "100%|██████████| 33/33 [00:11<00:00,  2.87it/s]\n"
     ]
    }
   ],
   "source": [
    "train, validation, test = data(seed=uuid.UUID(result.split_seed), label_form=result.label_form, input_form=result.input_form, train_shuffle=False, test_shuffle=False, validation_shuffle=False, train_augment=False, validation_augment=False, test_augment=False)"
   ]
  },
  {
   "cell_type": "code",
   "execution_count": 11,
   "metadata": {
    "scrolled": true
   },
   "outputs": [
    {
     "name": "stdout",
     "output_type": "stream",
     "text": [
      "training N: 154\n",
      "validation N: 39\n",
      "test N: 27\n"
     ]
    }
   ],
   "source": [
    "print(\"training N:\", len(train))\n",
    "print(\"validation N:\", len(validation))\n",
    "print(\"test N:\", len(test))"
   ]
  },
  {
   "cell_type": "code",
   "execution_count": 12,
   "metadata": {},
   "outputs": [
    {
     "name": "stdout",
     "output_type": "stream",
     "text": [
      "training 1.0: 83\n",
      "validation 1.0: 20\n",
      "test 1.0: 14\n"
     ]
    }
   ],
   "source": [
    "class_inv = {v: k for k, v in train.class_indices.items()}\n",
    "print(\"training {}:\".format(class_inv[1]), sum(train.classes))\n",
    "print(\"validation {}:\".format(class_inv[1]), sum(validation.classes))\n",
    "print(\"test {}:\".format(class_inv[1]), sum(test.classes))"
   ]
  },
  {
   "cell_type": "code",
   "execution_count": 29,
   "metadata": {},
   "outputs": [],
   "source": [
    "model = load(MODEL)"
   ]
  },
  {
   "cell_type": "code",
   "execution_count": 14,
   "metadata": {},
   "outputs": [
    {
     "data": {
      "text/plain": [
       "<keras.engine.training.Model at 0x7f2d0b6a1c18>"
      ]
     },
     "execution_count": 14,
     "metadata": {},
     "output_type": "execute_result"
    }
   ],
   "source": [
    "model"
   ]
  },
  {
   "cell_type": "markdown",
   "metadata": {},
   "source": [
    "# Train"
   ]
  },
  {
   "cell_type": "code",
   "execution_count": 34,
   "metadata": {},
   "outputs": [],
   "source": [
    "results = get_results(model, train)"
   ]
  },
  {
   "cell_type": "code",
   "execution_count": 35,
   "metadata": {
    "scrolled": false
   },
   "outputs": [
    {
     "data": {
      "application/papermill.record+json": {
       "train_labels": [
        0,
        0,
        0,
        0,
        0,
        0,
        0,
        0,
        0,
        0,
        0,
        0,
        0,
        0,
        0,
        0,
        0,
        0,
        0,
        0,
        0,
        0,
        0,
        0,
        0,
        0,
        0,
        0,
        0,
        0,
        0,
        0,
        0,
        0,
        0,
        0,
        0,
        0,
        0,
        0,
        0,
        0,
        0,
        0,
        0,
        0,
        0,
        0,
        0,
        0,
        0,
        0,
        0,
        0,
        0,
        0,
        0,
        0,
        0,
        0,
        0,
        0,
        0,
        0,
        0,
        0,
        0,
        0,
        0,
        1,
        1,
        1,
        1,
        1,
        1,
        1,
        1,
        1,
        1,
        1,
        1,
        1,
        1,
        1,
        1,
        1,
        1,
        1,
        1,
        1,
        1,
        1,
        1,
        1,
        1,
        1,
        1,
        1,
        1,
        1,
        1,
        1,
        1,
        1,
        1,
        1,
        1,
        1,
        1,
        1,
        1,
        1,
        1,
        1,
        1,
        1,
        1,
        1,
        1,
        1,
        1,
        1,
        1,
        1,
        1,
        1,
        1,
        1,
        1,
        1,
        1,
        1,
        1,
        1,
        1,
        1,
        1,
        1,
        1,
        1,
        1,
        1,
        1,
        1,
        1,
        1,
        1,
        1,
        1,
        1,
        1,
        1,
        0,
        0
       ]
      }
     },
     "metadata": {},
     "output_type": "display_data"
    },
    {
     "data": {
      "application/papermill.record+json": {
       "train_probabilities": [
        0.036053240299224854,
        0.03993666172027588,
        0.07406255602836609,
        0.03527924418449402,
        0.043876051902770996,
        0.04475376009941101,
        0.05051848292350769,
        0.04518619179725647,
        0.0476592481136322,
        0.048053860664367676,
        0.033623576164245605,
        0.048280298709869385,
        0.05116540193557739,
        0.04807037115097046,
        0.04606586694717407,
        0.03907477855682373,
        0.03726950287818909,
        0.03767850995063782,
        0.04118648171424866,
        0.0358889102935791,
        0.04163959622383118,
        0.061437517404556274,
        0.041558802127838135,
        0.04149985313415527,
        0.05332055687904358,
        0.05908620357513428,
        0.052904754877090454,
        0.05872860550880432,
        0.046912550926208496,
        0.042654186487197876,
        0.33277589082717896,
        0.10426568984985352,
        0.044766783714294434,
        0.05070880055427551,
        0.18228524923324585,
        0.0407051146030426,
        0.044187307357788086,
        0.04997965693473816,
        0.09227576851844788,
        0.09962615370750427,
        0.050224363803863525,
        0.037334322929382324,
        0.04795125126838684,
        0.06194522976875305,
        0.04717162251472473,
        0.029737383127212524,
        0.0363098680973053,
        0.1301286518573761,
        0.03843072056770325,
        0.0473877489566803,
        0.0572894811630249,
        0.057958900928497314,
        0.04038015007972717,
        0.03931930661201477,
        0.2251138985157013,
        0.056089431047439575,
        0.19335806369781494,
        0.054220616817474365,
        0.10887166857719421,
        0.05252045392990112,
        0.05360749363899231,
        0.04336211085319519,
        0.04173579812049866,
        0.05186307430267334,
        0.041090428829193115,
        0.046441614627838135,
        0.048078328371047974,
        0.05075478553771973,
        0.04729530215263367,
        0.8828296661376953,
        0.7860426902770996,
        0.8894549608230591,
        0.6952131390571594,
        0.8355926275253296,
        0.8423622250556946,
        0.8692814111709595,
        0.8391055464744568,
        0.8967655897140503,
        0.8773114085197449,
        0.8599990606307983,
        0.8831457495689392,
        0.8679148554801941,
        0.8880794048309326,
        0.8526389598846436,
        0.8437882661819458,
        0.8839528560638428,
        0.8746973872184753,
        0.8283019065856934,
        0.8578259348869324,
        0.887654185295105,
        0.6735062003135681,
        0.842360258102417,
        0.8626121282577515,
        0.8214236497879028,
        0.35531890392303467,
        0.775658369064331,
        0.7684726715087891,
        0.8449978828430176,
        0.8122811317443848,
        0.6654785871505737,
        0.8290669918060303,
        0.8742683529853821,
        0.8005312085151672,
        0.862499475479126,
        0.8358838558197021,
        0.8545799255371094,
        0.8246316909790039,
        0.8505016565322876,
        0.7845485210418701,
        0.8203050494194031,
        0.8490831851959229,
        0.8208249807357788,
        0.7967249751091003,
        0.8837144374847412,
        0.8319963216781616,
        0.8860284090042114,
        0.8662852048873901,
        0.8492521047592163,
        0.7689038515090942,
        0.806705892086029,
        0.8822962045669556,
        0.8503057360649109,
        0.8270356059074402,
        0.7480958104133606,
        0.8513306975364685,
        0.6774295568466187,
        0.877819299697876,
        0.7840567827224731,
        0.8630144000053406,
        0.7508590221405029,
        0.8848336338996887,
        0.803094744682312,
        0.8437020778656006,
        0.8494424819946289,
        0.8842067122459412,
        0.8938927054405212,
        0.8620636463165283,
        0.8914815187454224,
        0.8495874404907227,
        0.8442745208740234,
        0.8268716335296631,
        0.8773449659347534,
        0.8655691742897034,
        0.7730809450149536,
        0.8683665990829468,
        0.8757774829864502,
        0.7873693704605103,
        0.7905730605125427,
        0.8366544246673584,
        0.8779178261756897,
        0.8897604942321777,
        0.7952250242233276,
        0.04928796365857124,
        0.05361560732126236
       ]
      }
     },
     "metadata": {},
     "output_type": "display_data"
    },
    {
     "data": {
      "application/papermill.record+json": {
       "train_predictions": [
        0,
        0,
        0,
        0,
        0,
        0,
        0,
        0,
        0,
        0,
        0,
        0,
        0,
        0,
        0,
        0,
        0,
        0,
        0,
        0,
        0,
        0,
        0,
        0,
        0,
        0,
        0,
        0,
        0,
        0,
        0,
        0,
        0,
        0,
        0,
        0,
        0,
        0,
        0,
        0,
        0,
        0,
        0,
        0,
        0,
        0,
        0,
        0,
        0,
        0,
        0,
        0,
        0,
        0,
        0,
        0,
        0,
        0,
        0,
        0,
        0,
        0,
        0,
        0,
        0,
        0,
        0,
        0,
        0,
        1,
        1,
        1,
        1,
        1,
        1,
        1,
        1,
        1,
        1,
        1,
        1,
        1,
        1,
        1,
        1,
        1,
        1,
        1,
        1,
        1,
        1,
        1,
        1,
        1,
        0,
        1,
        1,
        1,
        1,
        1,
        1,
        1,
        1,
        1,
        1,
        1,
        1,
        1,
        1,
        1,
        1,
        1,
        1,
        1,
        1,
        1,
        1,
        1,
        1,
        1,
        1,
        1,
        1,
        1,
        1,
        1,
        1,
        1,
        1,
        1,
        1,
        1,
        1,
        1,
        1,
        1,
        1,
        1,
        1,
        1,
        1,
        1,
        1,
        1,
        1,
        1,
        1,
        1,
        1,
        1,
        1,
        1,
        0,
        0
       ]
      }
     },
     "metadata": {},
     "output_type": "display_data"
    }
   ],
   "source": [
    "probabilities = transform_binary_probabilities(results)\n",
    "predictions = transform_binary_predictions(results)\n",
    "labels = get_labels(train)\n",
    "pm.record(\"train_labels\", list(labels))\n",
    "pm.record(\"train_probabilities\", list(probabilities))\n",
    "pm.record(\"train_predictions\", list(predictions))"
   ]
  },
  {
   "cell_type": "markdown",
   "metadata": {},
   "source": [
    "## Train statistics"
   ]
  },
  {
   "cell_type": "code",
   "execution_count": 36,
   "metadata": {},
   "outputs": [
    {
     "name": "stdout",
     "output_type": "stream",
     "text": [
      "Accuracy: 0.9935064911842346\n",
      "Loss: 3.818328857421875\n"
     ]
    },
    {
     "data": {
      "text/html": [
       "<div>\n",
       "<style scoped>\n",
       "    .dataframe tbody tr th:only-of-type {\n",
       "        vertical-align: middle;\n",
       "    }\n",
       "\n",
       "    .dataframe tbody tr th {\n",
       "        vertical-align: top;\n",
       "    }\n",
       "\n",
       "    .dataframe thead th {\n",
       "        text-align: right;\n",
       "    }\n",
       "</style>\n",
       "<table border=\"1\" class=\"dataframe\">\n",
       "  <thead>\n",
       "    <tr style=\"text-align: right;\">\n",
       "      <th></th>\n",
       "      <th>Acc</th>\n",
       "      <th>TP</th>\n",
       "      <th>TN</th>\n",
       "      <th>FP</th>\n",
       "      <th>FN</th>\n",
       "      <th>TPR</th>\n",
       "      <th>TNR</th>\n",
       "      <th>PPV</th>\n",
       "      <th>NPV</th>\n",
       "      <th>FPR</th>\n",
       "      <th>FNR</th>\n",
       "      <th>FDR</th>\n",
       "      <th>AM</th>\n",
       "      <th>GM</th>\n",
       "    </tr>\n",
       "  </thead>\n",
       "  <tbody>\n",
       "    <tr>\n",
       "      <th>0.000</th>\n",
       "      <td>0.994</td>\n",
       "      <td>71</td>\n",
       "      <td>82</td>\n",
       "      <td>1</td>\n",
       "      <td>0</td>\n",
       "      <td>1.000</td>\n",
       "      <td>0.988</td>\n",
       "      <td>0.986</td>\n",
       "      <td>1.000</td>\n",
       "      <td>0.012</td>\n",
       "      <td>0.000</td>\n",
       "      <td>0.014</td>\n",
       "      <td>0.994</td>\n",
       "      <td>0.994</td>\n",
       "    </tr>\n",
       "    <tr>\n",
       "      <th>1.000</th>\n",
       "      <td>0.994</td>\n",
       "      <td>82</td>\n",
       "      <td>71</td>\n",
       "      <td>0</td>\n",
       "      <td>1</td>\n",
       "      <td>0.988</td>\n",
       "      <td>1.000</td>\n",
       "      <td>1.000</td>\n",
       "      <td>0.986</td>\n",
       "      <td>0.000</td>\n",
       "      <td>0.012</td>\n",
       "      <td>0.000</td>\n",
       "      <td>0.994</td>\n",
       "      <td>0.994</td>\n",
       "    </tr>\n",
       "  </tbody>\n",
       "</table>\n",
       "</div>"
      ],
      "text/plain": [
       "        Acc  TP  TN  FP  FN   TPR   TNR   PPV   NPV   FPR   FNR   FDR    AM  \\\n",
       "0.000 0.994  71  82   1   0 1.000 0.988 0.986 1.000 0.012 0.000 0.014 0.994   \n",
       "1.000 0.994  82  71   0   1 0.988 1.000 1.000 0.986 0.000 0.012 0.000 0.994   \n",
       "\n",
       "         GM  \n",
       "0.000 0.994  \n",
       "1.000 0.994  "
      ]
     },
     "execution_count": 36,
     "metadata": {},
     "output_type": "execute_result"
    }
   ],
   "source": [
    "loss, accuracy = calculate_accuracy_loss(model, train)\n",
    "print(\"Accuracy:\", accuracy)\n",
    "print(\"Loss:\", loss)\n",
    "stats = calculate_confusion_matrix_stats(labels, results)\n",
    "pandas.DataFrame(stats, index=train.class_indices)"
   ]
  },
  {
   "cell_type": "markdown",
   "metadata": {},
   "source": [
    "## Train confusion matrix"
   ]
  },
  {
   "cell_type": "code",
   "execution_count": 37,
   "metadata": {},
   "outputs": [
    {
     "data": {
      "image/png": "[encoded data removed]",
      "text/plain": [
       "<Figure size 432x288 with 2 Axes>"
      ]
     },
     "metadata": {},
     "output_type": "display_data"
    }
   ],
   "source": [
    "fig = plot_confusion_matrix(train, results)\n",
    "fig.savefig(\"figures/{}-{}-train-confusion-matrix.svg\".format(result.description, result.input_form), bbox_inches = \"tight\")"
   ]
  },
  {
   "cell_type": "markdown",
   "metadata": {},
   "source": [
    "## Train ROC curve"
   ]
  },
  {
   "cell_type": "code",
   "execution_count": 38,
   "metadata": {},
   "outputs": [
    {
     "name": "stderr",
     "output_type": "stream",
     "text": [
      "No handles with labels found to put in legend.\n"
     ]
    },
    {
     "data": {
      "image/png": "[encoded data removed]",
      "text/plain": [
       "<Figure size 432x288 with 1 Axes>"
      ]
     },
     "metadata": {},
     "output_type": "display_data"
    }
   ],
   "source": [
    "fig = plot_roc_curve(labels, probabilities)\n",
    "fig.savefig(\"figures/{}-{}-train-ROC-curve.svg\".format(result.description, result.input_form), bbox_inches = \"tight\")"
   ]
  },
  {
   "cell_type": "markdown",
   "metadata": {},
   "source": [
    "## Train precision-recall curve"
   ]
  },
  {
   "cell_type": "code",
   "execution_count": 20,
   "metadata": {
    "scrolled": false
   },
   "outputs": [
    {
     "data": {
      "image/png": "[encoded data removed]",
      "text/plain": [
       "<Figure size 432x288 with 1 Axes>"
      ]
     },
     "metadata": {},
     "output_type": "display_data"
    }
   ],
   "source": [
    "fig = plot_precision_recall(labels, results)\n",
    "fig.savefig(\"figures/{}-{}-train-precisionrecall-curve.svg\".format(result.description, result.input_form), bbox_inches = \"tight\")"
   ]
  },
  {
   "cell_type": "markdown",
   "metadata": {},
   "source": [
    "# Validation"
   ]
  },
  {
   "cell_type": "code",
   "execution_count": 44,
   "metadata": {},
   "outputs": [],
   "source": [
    "results = get_results(model, validation)"
   ]
  },
  {
   "cell_type": "code",
   "execution_count": 45,
   "metadata": {
    "scrolled": false
   },
   "outputs": [
    {
     "data": {
      "application/papermill.record+json": {
       "validation_labels": [
        0,
        0,
        0,
        0,
        0,
        0,
        0,
        0,
        0,
        0,
        0,
        0,
        0,
        0,
        0,
        0,
        0,
        0,
        0,
        1,
        1,
        1,
        1,
        1,
        1,
        1,
        1,
        1,
        1,
        1,
        1,
        1,
        1,
        1,
        1,
        1,
        1,
        1,
        1
       ]
      }
     },
     "metadata": {},
     "output_type": "display_data"
    },
    {
     "data": {
      "application/papermill.record+json": {
       "validation_probabilities": [
        0.8341057300567627,
        0.5231468081474304,
        0.5692678689956665,
        0.4774331748485565,
        0.7500739693641663,
        0.8309388160705566,
        0.5483612418174744,
        0.07148122787475586,
        0.514790415763855,
        0.4963358938694,
        0.8036147356033325,
        0.2416592240333557,
        0.3421574831008911,
        0.2823033332824707,
        0.5371384024620056,
        0.8867639899253845,
        0.09904024004936218,
        0.8220201134681702,
        0.06627073884010315,
        0.8679906129837036,
        0.7282657623291016,
        0.6839647889137268,
        0.2574980854988098,
        0.09823843836784363,
        0.6253864765167236,
        0.05466046929359436,
        0.41595974564552307,
        0.6357331871986389,
        0.5673378705978394,
        0.05405077338218689,
        0.8973342180252075,
        0.6646132469177246,
        0.260734498500824,
        0.03699496388435364,
        0.7951227426528931,
        0.31403857469558716,
        0.7673665285110474,
        0.708432674407959,
        0.7966856956481934
       ]
      }
     },
     "metadata": {},
     "output_type": "display_data"
    },
    {
     "data": {
      "application/papermill.record+json": {
       "validation_predictions": [
        1,
        1,
        1,
        0,
        1,
        1,
        1,
        0,
        1,
        0,
        1,
        0,
        0,
        0,
        1,
        1,
        0,
        1,
        0,
        1,
        1,
        1,
        0,
        0,
        1,
        0,
        0,
        1,
        1,
        0,
        1,
        1,
        0,
        0,
        1,
        0,
        1,
        1,
        1
       ]
      }
     },
     "metadata": {},
     "output_type": "display_data"
    }
   ],
   "source": [
    "probabilities = transform_binary_probabilities(results)\n",
    "predictions = transform_binary_predictions(results)\n",
    "labels = get_labels(validation)\n",
    "pm.record(\"validation_labels\", list(labels))\n",
    "pm.record(\"validation_probabilities\", list(probabilities))\n",
    "pm.record(\"validation_predictions\", list(predictions))"
   ]
  },
  {
   "cell_type": "markdown",
   "metadata": {},
   "source": [
    "## Validation statistics"
   ]
  },
  {
   "cell_type": "code",
   "execution_count": 46,
   "metadata": {},
   "outputs": [
    {
     "name": "stdout",
     "output_type": "stream",
     "text": [
      "Accuracy: 0.6153846383094788\n",
      "Loss: 4.125478744506836\n"
     ]
    },
    {
     "data": {
      "text/html": [
       "<div>\n",
       "<style scoped>\n",
       "    .dataframe tbody tr th:only-of-type {\n",
       "        vertical-align: middle;\n",
       "    }\n",
       "\n",
       "    .dataframe tbody tr th {\n",
       "        vertical-align: top;\n",
       "    }\n",
       "\n",
       "    .dataframe thead th {\n",
       "        text-align: right;\n",
       "    }\n",
       "</style>\n",
       "<table border=\"1\" class=\"dataframe\">\n",
       "  <thead>\n",
       "    <tr style=\"text-align: right;\">\n",
       "      <th></th>\n",
       "      <th>Acc</th>\n",
       "      <th>TP</th>\n",
       "      <th>TN</th>\n",
       "      <th>FP</th>\n",
       "      <th>FN</th>\n",
       "      <th>TPR</th>\n",
       "      <th>TNR</th>\n",
       "      <th>PPV</th>\n",
       "      <th>NPV</th>\n",
       "      <th>FPR</th>\n",
       "      <th>FNR</th>\n",
       "      <th>FDR</th>\n",
       "      <th>AM</th>\n",
       "      <th>GM</th>\n",
       "    </tr>\n",
       "  </thead>\n",
       "  <tbody>\n",
       "    <tr>\n",
       "      <th>0.000</th>\n",
       "      <td>0.513</td>\n",
       "      <td>8</td>\n",
       "      <td>12</td>\n",
       "      <td>8</td>\n",
       "      <td>11</td>\n",
       "      <td>0.421</td>\n",
       "      <td>0.600</td>\n",
       "      <td>0.500</td>\n",
       "      <td>0.522</td>\n",
       "      <td>0.400</td>\n",
       "      <td>0.579</td>\n",
       "      <td>0.500</td>\n",
       "      <td>0.511</td>\n",
       "      <td>0.503</td>\n",
       "    </tr>\n",
       "    <tr>\n",
       "      <th>1.000</th>\n",
       "      <td>0.513</td>\n",
       "      <td>12</td>\n",
       "      <td>8</td>\n",
       "      <td>11</td>\n",
       "      <td>8</td>\n",
       "      <td>0.600</td>\n",
       "      <td>0.421</td>\n",
       "      <td>0.522</td>\n",
       "      <td>0.500</td>\n",
       "      <td>0.579</td>\n",
       "      <td>0.400</td>\n",
       "      <td>0.478</td>\n",
       "      <td>0.511</td>\n",
       "      <td>0.503</td>\n",
       "    </tr>\n",
       "  </tbody>\n",
       "</table>\n",
       "</div>"
      ],
      "text/plain": [
       "        Acc  TP  TN  FP  FN   TPR   TNR   PPV   NPV   FPR   FNR   FDR    AM  \\\n",
       "0.000 0.513   8  12   8  11 0.421 0.600 0.500 0.522 0.400 0.579 0.500 0.511   \n",
       "1.000 0.513  12   8  11   8 0.600 0.421 0.522 0.500 0.579 0.400 0.478 0.511   \n",
       "\n",
       "         GM  \n",
       "0.000 0.503  \n",
       "1.000 0.503  "
      ]
     },
     "execution_count": 46,
     "metadata": {},
     "output_type": "execute_result"
    }
   ],
   "source": [
    "loss, accuracy = calculate_accuracy_loss(model, validation)\n",
    "print(\"Accuracy:\", accuracy)\n",
    "print(\"Loss:\", loss)\n",
    "stats = calculate_confusion_matrix_stats(labels, results)\n",
    "pandas.DataFrame(stats, index=validation.class_indices)"
   ]
  },
  {
   "cell_type": "markdown",
   "metadata": {},
   "source": [
    "## Validation confusion matrix"
   ]
  },
  {
   "cell_type": "code",
   "execution_count": 47,
   "metadata": {},
   "outputs": [
    {
     "data": {
      "image/png": "[encoded data removed]",
      "text/plain": [
       "<Figure size 432x288 with 2 Axes>"
      ]
     },
     "metadata": {},
     "output_type": "display_data"
    }
   ],
   "source": [
    "fig = plot_confusion_matrix(validation, results)\n",
    "fig.savefig(\"figures/{}-{}-validation-confusion-matrix.svg\".format(result.description, result.input_form), bbox_inches = \"tight\")"
   ]
  },
  {
   "cell_type": "markdown",
   "metadata": {},
   "source": [
    "## Validation ROC curve"
   ]
  },
  {
   "cell_type": "code",
   "execution_count": 48,
   "metadata": {},
   "outputs": [
    {
     "name": "stderr",
     "output_type": "stream",
     "text": [
      "No handles with labels found to put in legend.\n"
     ]
    },
    {
     "data": {
      "image/png": "[encoded data removed]",
      "text/plain": [
       "<Figure size 432x288 with 1 Axes>"
      ]
     },
     "metadata": {},
     "output_type": "display_data"
    }
   ],
   "source": [
    "fig = plot_roc_curve(labels, probabilities)\n",
    "fig.savefig(\"figures/{}-{}-validation-ROC-curve.svg\".format(result.description, result.input_form), bbox_inches = \"tight\")"
   ]
  },
  {
   "cell_type": "markdown",
   "metadata": {},
   "source": [
    "## Validation precision-recall curve"
   ]
  },
  {
   "cell_type": "code",
   "execution_count": 26,
   "metadata": {},
   "outputs": [
    {
     "data": {
      "image/png": "[encoded data removed]",
      "text/plain": [
       "<Figure size 432x288 with 1 Axes>"
      ]
     },
     "metadata": {},
     "output_type": "display_data"
    }
   ],
   "source": [
    "fig = plot_precision_recall(labels, results)\n",
    "fig.savefig(\"figures/{}-{}-validation-precisionrecall-curve.svg\".format(result.description, result.input_form), bbox_inches = \"tight\")"
   ]
  },
  {
   "cell_type": "markdown",
   "metadata": {},
   "source": [
    "# Test"
   ]
  },
  {
   "cell_type": "code",
   "execution_count": 49,
   "metadata": {},
   "outputs": [],
   "source": [
    "results = get_results(model, test)"
   ]
  },
  {
   "cell_type": "code",
   "execution_count": 50,
   "metadata": {
    "scrolled": false
   },
   "outputs": [
    {
     "data": {
      "application/papermill.record+json": {
       "test_labels": [
        0,
        0,
        0,
        0,
        0,
        0,
        0,
        0,
        0,
        0,
        0,
        0,
        0,
        1,
        1,
        1,
        1,
        1,
        1,
        1,
        1,
        1,
        1,
        1,
        1,
        1,
        1
       ]
      }
     },
     "metadata": {},
     "output_type": "display_data"
    },
    {
     "data": {
      "application/papermill.record+json": {
       "test_probabilities": [
        0.7808809280395508,
        0.049601584672927856,
        0.8779137134552002,
        0.05271705985069275,
        0.046658486127853394,
        0.5796726942062378,
        0.05126446485519409,
        0.8561621308326721,
        0.08248245716094971,
        0.12608665227890015,
        0.48490387201309204,
        0.11025914549827576,
        0.746594250202179,
        0.22332066297531128,
        0.6778636574745178,
        0.8795129060745239,
        0.1960444450378418,
        0.8008180856704712,
        0.14425811171531677,
        0.8132790327072144,
        0.4788101613521576,
        0.6254082322120667,
        0.4370163381099701,
        0.7765507698059082,
        0.40486589074134827,
        0.04222896322607994,
        0.7642993927001953
       ]
      }
     },
     "metadata": {},
     "output_type": "display_data"
    },
    {
     "data": {
      "application/papermill.record+json": {
       "test_predictions": [
        1,
        0,
        1,
        0,
        0,
        1,
        0,
        1,
        0,
        0,
        0,
        0,
        1,
        0,
        1,
        1,
        0,
        1,
        0,
        1,
        0,
        1,
        0,
        1,
        0,
        0,
        1
       ]
      }
     },
     "metadata": {},
     "output_type": "display_data"
    }
   ],
   "source": [
    "probabilities = transform_binary_probabilities(results)\n",
    "predictions = transform_binary_predictions(results)\n",
    "labels = get_labels(test)\n",
    "names = test.names\n",
    "test_results = [['PatientID','True label','Predicted label','Probability']]\n",
    "index = 0\n",
    "for name in names:\n",
    "    test_results.append([name, labels[index], predictions[index], probabilities[index]])\n",
    "    index += 1\n",
    "df = pandas.DataFrame(test_results)\n",
    "df.to_csv(\"output/test_results/{}-{}.csv\".format(UUID, result.model), header=False, index=False)\n",
    "pm.record(\"test_labels\", list(labels))\n",
    "pm.record(\"test_probabilities\", list(probabilities))\n",
    "pm.record(\"test_predictions\", list(predictions))"
   ]
  },
  {
   "cell_type": "markdown",
   "metadata": {},
   "source": [
    "## Test statistics"
   ]
  },
  {
   "cell_type": "code",
   "execution_count": 51,
   "metadata": {},
   "outputs": [
    {
     "name": "stdout",
     "output_type": "stream",
     "text": [
      "Accuracy: 0.5555555820465088\n",
      "Loss: 4.632849216461182\n"
     ]
    },
    {
     "data": {
      "text/html": [
       "<div>\n",
       "<style scoped>\n",
       "    .dataframe tbody tr th:only-of-type {\n",
       "        vertical-align: middle;\n",
       "    }\n",
       "\n",
       "    .dataframe tbody tr th {\n",
       "        vertical-align: top;\n",
       "    }\n",
       "\n",
       "    .dataframe thead th {\n",
       "        text-align: right;\n",
       "    }\n",
       "</style>\n",
       "<table border=\"1\" class=\"dataframe\">\n",
       "  <thead>\n",
       "    <tr style=\"text-align: right;\">\n",
       "      <th></th>\n",
       "      <th>Acc</th>\n",
       "      <th>TP</th>\n",
       "      <th>TN</th>\n",
       "      <th>FP</th>\n",
       "      <th>FN</th>\n",
       "      <th>TPR</th>\n",
       "      <th>TNR</th>\n",
       "      <th>PPV</th>\n",
       "      <th>NPV</th>\n",
       "      <th>FPR</th>\n",
       "      <th>FNR</th>\n",
       "      <th>FDR</th>\n",
       "      <th>AM</th>\n",
       "      <th>GM</th>\n",
       "    </tr>\n",
       "  </thead>\n",
       "  <tbody>\n",
       "    <tr>\n",
       "      <th>0.000</th>\n",
       "      <td>0.556</td>\n",
       "      <td>8</td>\n",
       "      <td>7</td>\n",
       "      <td>7</td>\n",
       "      <td>5</td>\n",
       "      <td>0.615</td>\n",
       "      <td>0.500</td>\n",
       "      <td>0.533</td>\n",
       "      <td>0.583</td>\n",
       "      <td>0.500</td>\n",
       "      <td>0.385</td>\n",
       "      <td>0.467</td>\n",
       "      <td>0.558</td>\n",
       "      <td>0.555</td>\n",
       "    </tr>\n",
       "    <tr>\n",
       "      <th>1.000</th>\n",
       "      <td>0.556</td>\n",
       "      <td>7</td>\n",
       "      <td>8</td>\n",
       "      <td>5</td>\n",
       "      <td>7</td>\n",
       "      <td>0.500</td>\n",
       "      <td>0.615</td>\n",
       "      <td>0.583</td>\n",
       "      <td>0.533</td>\n",
       "      <td>0.385</td>\n",
       "      <td>0.500</td>\n",
       "      <td>0.417</td>\n",
       "      <td>0.558</td>\n",
       "      <td>0.555</td>\n",
       "    </tr>\n",
       "  </tbody>\n",
       "</table>\n",
       "</div>"
      ],
      "text/plain": [
       "        Acc  TP  TN  FP  FN   TPR   TNR   PPV   NPV   FPR   FNR   FDR    AM  \\\n",
       "0.000 0.556   8   7   7   5 0.615 0.500 0.533 0.583 0.500 0.385 0.467 0.558   \n",
       "1.000 0.556   7   8   5   7 0.500 0.615 0.583 0.533 0.385 0.500 0.417 0.558   \n",
       "\n",
       "         GM  \n",
       "0.000 0.555  \n",
       "1.000 0.555  "
      ]
     },
     "execution_count": 51,
     "metadata": {},
     "output_type": "execute_result"
    }
   ],
   "source": [
    "loss, accuracy = calculate_accuracy_loss(model, test)\n",
    "print(\"Accuracy:\", accuracy)\n",
    "print(\"Loss:\", loss)\n",
    "stats = calculate_confusion_matrix_stats(labels, results)\n",
    "pandas.DataFrame(stats, index=validation.class_indices)"
   ]
  },
  {
   "cell_type": "markdown",
   "metadata": {},
   "source": [
    "## Test confusion matrix"
   ]
  },
  {
   "cell_type": "code",
   "execution_count": 52,
   "metadata": {},
   "outputs": [
    {
     "data": {
      "image/png": "[encoded data removed]",
      "text/plain": [
       "<Figure size 432x288 with 2 Axes>"
      ]
     },
     "metadata": {},
     "output_type": "display_data"
    }
   ],
   "source": [
    "fig = plot_confusion_matrix(test, results)\n",
    "fig.savefig(\"figures/{}-{}-test-confusion-matrix.svg\".format(result.description, result.input_form), bbox_inches = \"tight\")"
   ]
  },
  {
   "cell_type": "markdown",
   "metadata": {},
   "source": [
    "## Test ROC curve"
   ]
  },
  {
   "cell_type": "code",
   "execution_count": 53,
   "metadata": {},
   "outputs": [
    {
     "name": "stderr",
     "output_type": "stream",
     "text": [
      "No handles with labels found to put in legend.\n"
     ]
    },
    {
     "data": {
      "image/png": "[encoded data removed]",
      "text/plain": [
       "<Figure size 432x288 with 1 Axes>"
      ]
     },
     "metadata": {},
     "output_type": "display_data"
    }
   ],
   "source": [
    "fig = plot_roc_curve(labels, probabilities)\n",
    "fig.savefig(\"figures/{}-{}-test-ROC-curve.svg\".format(result.description, result.input_form), bbox_inches = \"tight\")"
   ]
  },
  {
   "cell_type": "markdown",
   "metadata": {},
   "source": [
    "## Test precision-recall curve"
   ]
  },
  {
   "cell_type": "code",
   "execution_count": 33,
   "metadata": {},
   "outputs": [
    {
     "data": {
      "image/png": "[encoded data removed]",
      "text/plain": [
       "<Figure size 432x288 with 1 Axes>"
      ]
     },
     "metadata": {},
     "output_type": "display_data"
    }
   ],
   "source": [
    "fig = plot_precision_recall(labels, results)\n",
    "fig.savefig(\"figures/{}-{}-test-precisionrecall-curve.svg\".format(result.description, result.input_form), bbox_inches = \"tight\")"
   ]
  },
  {
   "cell_type": "code",
   "execution_count": 33,
   "metadata": {},
   "outputs": [],
   "source": [
    "import json\n",
    "hyperparameters = json.loads(result.hyperparameters)\n",
    "deep_top = hyperparameters[\"deep-dense-top\"]\n",
    "grad_cam_layer = \"dense_3\"\n",
    "if deep_top: \n",
    "    grad_cam_layer = \"dense_6\""
   ]
  },
  {
   "cell_type": "markdown",
   "metadata": {},
   "source": [
    "# TSNE"
   ]
  },
  {
   "cell_type": "code",
   "execution_count": 34,
   "metadata": {},
   "outputs": [
    {
     "data": {
      "image/png": "[encoded data removed]",
      "text/plain": [
       "<Figure size 432x288 with 1 Axes>"
      ]
     },
     "metadata": {},
     "output_type": "display_data"
    },
    {
     "data": {
      "image/png": "[encoded data removed]",
      "text/plain": [
       "<Figure size 432x288 with 1 Axes>"
      ]
     },
     "metadata": {},
     "output_type": "display_data"
    },
    {
     "ename": "FileNotFoundError",
     "evalue": "[Errno 2] No such file or directory: 'figures/test2-t1-model-output-tsne.svg'",
     "output_type": "error",
     "traceback": [
      "\u001b[0;31m---------------------------------------------------------------------------\u001b[0m",
      "\u001b[0;31mFileNotFoundError\u001b[0m                         Traceback (most recent call last)",
      "\u001b[0;32m<ipython-input-34-a336ec83dc7b>\u001b[0m in \u001b[0;36m<module>\u001b[0;34m\u001b[0m\n\u001b[1;32m     16\u001b[0m     )\n\u001b[1;32m     17\u001b[0m     \u001b[0;32mfor\u001b[0m \u001b[0mi\u001b[0m\u001b[0;34m,\u001b[0m \u001b[0mfield\u001b[0m \u001b[0;32min\u001b[0m \u001b[0menumerate\u001b[0m\u001b[0;34m(\u001b[0m\u001b[0;34m[\u001b[0m\u001b[0;34m\"model output\"\u001b[0m\u001b[0;34m,\u001b[0m \u001b[0;34m*\u001b[0m\u001b[0mfieldnames\u001b[0m\u001b[0;34m]\u001b[0m\u001b[0;34m)\u001b[0m\u001b[0;34m:\u001b[0m\u001b[0;34m\u001b[0m\u001b[0m\n\u001b[0;32m---> 18\u001b[0;31m         \u001b[0mfigs\u001b[0m\u001b[0;34m[\u001b[0m\u001b[0mi\u001b[0m\u001b[0;34m]\u001b[0m\u001b[0;34m.\u001b[0m\u001b[0msavefig\u001b[0m\u001b[0;34m(\u001b[0m\u001b[0;34m\"figures/{}-{}-{}-tsne.svg\"\u001b[0m\u001b[0;34m.\u001b[0m\u001b[0mformat\u001b[0m\u001b[0;34m(\u001b[0m\u001b[0mresult\u001b[0m\u001b[0;34m.\u001b[0m\u001b[0mdescription\u001b[0m\u001b[0;34m,\u001b[0m \u001b[0mresult\u001b[0m\u001b[0;34m.\u001b[0m\u001b[0minput_form\u001b[0m\u001b[0;34m,\u001b[0m \u001b[0mfield\u001b[0m\u001b[0;34m.\u001b[0m\u001b[0mreplace\u001b[0m\u001b[0;34m(\u001b[0m\u001b[0;34m\" \"\u001b[0m\u001b[0;34m,\u001b[0m \u001b[0;34m\"-\"\u001b[0m\u001b[0;34m)\u001b[0m\u001b[0;34m)\u001b[0m\u001b[0;34m,\u001b[0m \u001b[0mbbox_inches\u001b[0m \u001b[0;34m=\u001b[0m \u001b[0;34m\"tight\"\u001b[0m\u001b[0;34m)\u001b[0m\u001b[0;34m\u001b[0m\u001b[0m\n\u001b[0m\u001b[1;32m     19\u001b[0m     \u001b[0mtsne_dataset\u001b[0m\u001b[0;34m.\u001b[0m\u001b[0mreset\u001b[0m\u001b[0;34m(\u001b[0m\u001b[0;34m)\u001b[0m\u001b[0;34m\u001b[0m\u001b[0m\n",
      "\u001b[0;32m~/.local/share/virtualenvs/bone_master-gLgG60Le/lib/python3.6/site-packages/matplotlib/figure.py\u001b[0m in \u001b[0;36msavefig\u001b[0;34m(self, fname, transparent, **kwargs)\u001b[0m\n\u001b[1;32m   2178\u001b[0m             \u001b[0mself\u001b[0m\u001b[0;34m.\u001b[0m\u001b[0mpatch\u001b[0m\u001b[0;34m.\u001b[0m\u001b[0mset_visible\u001b[0m\u001b[0;34m(\u001b[0m\u001b[0mframeon\u001b[0m\u001b[0;34m)\u001b[0m\u001b[0;34m\u001b[0m\u001b[0m\n\u001b[1;32m   2179\u001b[0m \u001b[0;34m\u001b[0m\u001b[0m\n\u001b[0;32m-> 2180\u001b[0;31m         \u001b[0mself\u001b[0m\u001b[0;34m.\u001b[0m\u001b[0mcanvas\u001b[0m\u001b[0;34m.\u001b[0m\u001b[0mprint_figure\u001b[0m\u001b[0;34m(\u001b[0m\u001b[0mfname\u001b[0m\u001b[0;34m,\u001b[0m \u001b[0;34m**\u001b[0m\u001b[0mkwargs\u001b[0m\u001b[0;34m)\u001b[0m\u001b[0;34m\u001b[0m\u001b[0m\n\u001b[0m\u001b[1;32m   2181\u001b[0m \u001b[0;34m\u001b[0m\u001b[0m\n\u001b[1;32m   2182\u001b[0m         \u001b[0;32mif\u001b[0m \u001b[0mframeon\u001b[0m\u001b[0;34m:\u001b[0m\u001b[0;34m\u001b[0m\u001b[0m\n",
      "\u001b[0;32m~/.local/share/virtualenvs/bone_master-gLgG60Le/lib/python3.6/site-packages/matplotlib/backend_bases.py\u001b[0m in \u001b[0;36mprint_figure\u001b[0;34m(self, filename, dpi, facecolor, edgecolor, orientation, format, bbox_inches, **kwargs)\u001b[0m\n\u001b[1;32m   2089\u001b[0m                     \u001b[0morientation\u001b[0m\u001b[0;34m=\u001b[0m\u001b[0morientation\u001b[0m\u001b[0;34m,\u001b[0m\u001b[0;34m\u001b[0m\u001b[0m\n\u001b[1;32m   2090\u001b[0m                     \u001b[0mbbox_inches_restore\u001b[0m\u001b[0;34m=\u001b[0m\u001b[0m_bbox_inches_restore\u001b[0m\u001b[0;34m,\u001b[0m\u001b[0;34m\u001b[0m\u001b[0m\n\u001b[0;32m-> 2091\u001b[0;31m                     **kwargs)\n\u001b[0m\u001b[1;32m   2092\u001b[0m             \u001b[0;32mfinally\u001b[0m\u001b[0;34m:\u001b[0m\u001b[0;34m\u001b[0m\u001b[0m\n\u001b[1;32m   2093\u001b[0m                 \u001b[0;32mif\u001b[0m \u001b[0mbbox_inches\u001b[0m \u001b[0;32mand\u001b[0m \u001b[0mrestore_bbox\u001b[0m\u001b[0;34m:\u001b[0m\u001b[0;34m\u001b[0m\u001b[0m\n",
      "\u001b[0;32m~/.local/share/virtualenvs/bone_master-gLgG60Le/lib/python3.6/site-packages/matplotlib/backends/backend_svg.py\u001b[0m in \u001b[0;36mprint_svg\u001b[0;34m(self, filename, *args, **kwargs)\u001b[0m\n\u001b[1;32m   1188\u001b[0m \u001b[0;34m\u001b[0m\u001b[0m\n\u001b[1;32m   1189\u001b[0m     \u001b[0;32mdef\u001b[0m \u001b[0mprint_svg\u001b[0m\u001b[0;34m(\u001b[0m\u001b[0mself\u001b[0m\u001b[0;34m,\u001b[0m \u001b[0mfilename\u001b[0m\u001b[0;34m,\u001b[0m \u001b[0;34m*\u001b[0m\u001b[0margs\u001b[0m\u001b[0;34m,\u001b[0m \u001b[0;34m**\u001b[0m\u001b[0mkwargs\u001b[0m\u001b[0;34m)\u001b[0m\u001b[0;34m:\u001b[0m\u001b[0;34m\u001b[0m\u001b[0m\n\u001b[0;32m-> 1190\u001b[0;31m         \u001b[0;32mwith\u001b[0m \u001b[0mcbook\u001b[0m\u001b[0;34m.\u001b[0m\u001b[0mopen_file_cm\u001b[0m\u001b[0;34m(\u001b[0m\u001b[0mfilename\u001b[0m\u001b[0;34m,\u001b[0m \u001b[0;34m\"w\"\u001b[0m\u001b[0;34m,\u001b[0m \u001b[0mencoding\u001b[0m\u001b[0;34m=\u001b[0m\u001b[0;34m\"utf-8\"\u001b[0m\u001b[0;34m)\u001b[0m \u001b[0;32mas\u001b[0m \u001b[0mfh\u001b[0m\u001b[0;34m:\u001b[0m\u001b[0;34m\u001b[0m\u001b[0m\n\u001b[0m\u001b[1;32m   1191\u001b[0m \u001b[0;34m\u001b[0m\u001b[0m\n\u001b[1;32m   1192\u001b[0m             \u001b[0mfilename\u001b[0m \u001b[0;34m=\u001b[0m \u001b[0mgetattr\u001b[0m\u001b[0;34m(\u001b[0m\u001b[0mfh\u001b[0m\u001b[0;34m,\u001b[0m \u001b[0;34m'name'\u001b[0m\u001b[0;34m,\u001b[0m \u001b[0;34m''\u001b[0m\u001b[0;34m)\u001b[0m\u001b[0;34m\u001b[0m\u001b[0m\n",
      "\u001b[0;32m/Library/Frameworks/Python.framework/Versions/3.6/lib/python3.6/contextlib.py\u001b[0m in \u001b[0;36m__enter__\u001b[0;34m(self)\u001b[0m\n\u001b[1;32m     80\u001b[0m     \u001b[0;32mdef\u001b[0m \u001b[0m__enter__\u001b[0m\u001b[0;34m(\u001b[0m\u001b[0mself\u001b[0m\u001b[0;34m)\u001b[0m\u001b[0;34m:\u001b[0m\u001b[0;34m\u001b[0m\u001b[0m\n\u001b[1;32m     81\u001b[0m         \u001b[0;32mtry\u001b[0m\u001b[0;34m:\u001b[0m\u001b[0;34m\u001b[0m\u001b[0m\n\u001b[0;32m---> 82\u001b[0;31m             \u001b[0;32mreturn\u001b[0m \u001b[0mnext\u001b[0m\u001b[0;34m(\u001b[0m\u001b[0mself\u001b[0m\u001b[0;34m.\u001b[0m\u001b[0mgen\u001b[0m\u001b[0;34m)\u001b[0m\u001b[0;34m\u001b[0m\u001b[0m\n\u001b[0m\u001b[1;32m     83\u001b[0m         \u001b[0;32mexcept\u001b[0m \u001b[0mStopIteration\u001b[0m\u001b[0;34m:\u001b[0m\u001b[0;34m\u001b[0m\u001b[0m\n\u001b[1;32m     84\u001b[0m             \u001b[0;32mraise\u001b[0m \u001b[0mRuntimeError\u001b[0m\u001b[0;34m(\u001b[0m\u001b[0;34m\"generator didn't yield\"\u001b[0m\u001b[0;34m)\u001b[0m \u001b[0;32mfrom\u001b[0m \u001b[0;32mNone\u001b[0m\u001b[0;34m\u001b[0m\u001b[0m\n",
      "\u001b[0;32m~/.local/share/virtualenvs/bone_master-gLgG60Le/lib/python3.6/site-packages/matplotlib/cbook/__init__.py\u001b[0m in \u001b[0;36mopen_file_cm\u001b[0;34m(path_or_file, mode, encoding)\u001b[0m\n\u001b[1;32m    445\u001b[0m \u001b[0;32mdef\u001b[0m \u001b[0mopen_file_cm\u001b[0m\u001b[0;34m(\u001b[0m\u001b[0mpath_or_file\u001b[0m\u001b[0;34m,\u001b[0m \u001b[0mmode\u001b[0m\u001b[0;34m=\u001b[0m\u001b[0;34m\"r\"\u001b[0m\u001b[0;34m,\u001b[0m \u001b[0mencoding\u001b[0m\u001b[0;34m=\u001b[0m\u001b[0;32mNone\u001b[0m\u001b[0;34m)\u001b[0m\u001b[0;34m:\u001b[0m\u001b[0;34m\u001b[0m\u001b[0m\n\u001b[1;32m    446\u001b[0m     \u001b[0;34mr\"\"\"Pass through file objects and context-manage `.PathLike`\\s.\"\"\"\u001b[0m\u001b[0;34m\u001b[0m\u001b[0m\n\u001b[0;32m--> 447\u001b[0;31m     \u001b[0mfh\u001b[0m\u001b[0;34m,\u001b[0m \u001b[0mopened\u001b[0m \u001b[0;34m=\u001b[0m \u001b[0mto_filehandle\u001b[0m\u001b[0;34m(\u001b[0m\u001b[0mpath_or_file\u001b[0m\u001b[0;34m,\u001b[0m \u001b[0mmode\u001b[0m\u001b[0;34m,\u001b[0m \u001b[0;32mTrue\u001b[0m\u001b[0;34m,\u001b[0m \u001b[0mencoding\u001b[0m\u001b[0;34m)\u001b[0m\u001b[0;34m\u001b[0m\u001b[0m\n\u001b[0m\u001b[1;32m    448\u001b[0m     \u001b[0;32mif\u001b[0m \u001b[0mopened\u001b[0m\u001b[0;34m:\u001b[0m\u001b[0;34m\u001b[0m\u001b[0m\n\u001b[1;32m    449\u001b[0m         \u001b[0;32mwith\u001b[0m \u001b[0mfh\u001b[0m\u001b[0;34m:\u001b[0m\u001b[0;34m\u001b[0m\u001b[0m\n",
      "\u001b[0;32m~/.local/share/virtualenvs/bone_master-gLgG60Le/lib/python3.6/site-packages/matplotlib/cbook/__init__.py\u001b[0m in \u001b[0;36mto_filehandle\u001b[0;34m(fname, flag, return_opened, encoding)\u001b[0m\n\u001b[1;32m    430\u001b[0m             \u001b[0mfh\u001b[0m \u001b[0;34m=\u001b[0m \u001b[0mbz2\u001b[0m\u001b[0;34m.\u001b[0m\u001b[0mBZ2File\u001b[0m\u001b[0;34m(\u001b[0m\u001b[0mfname\u001b[0m\u001b[0;34m,\u001b[0m \u001b[0mflag\u001b[0m\u001b[0;34m)\u001b[0m\u001b[0;34m\u001b[0m\u001b[0m\n\u001b[1;32m    431\u001b[0m         \u001b[0;32melse\u001b[0m\u001b[0;34m:\u001b[0m\u001b[0;34m\u001b[0m\u001b[0m\n\u001b[0;32m--> 432\u001b[0;31m             \u001b[0mfh\u001b[0m \u001b[0;34m=\u001b[0m \u001b[0mopen\u001b[0m\u001b[0;34m(\u001b[0m\u001b[0mfname\u001b[0m\u001b[0;34m,\u001b[0m \u001b[0mflag\u001b[0m\u001b[0;34m,\u001b[0m \u001b[0mencoding\u001b[0m\u001b[0;34m=\u001b[0m\u001b[0mencoding\u001b[0m\u001b[0;34m)\u001b[0m\u001b[0;34m\u001b[0m\u001b[0m\n\u001b[0m\u001b[1;32m    433\u001b[0m         \u001b[0mopened\u001b[0m \u001b[0;34m=\u001b[0m \u001b[0;32mTrue\u001b[0m\u001b[0;34m\u001b[0m\u001b[0m\n\u001b[1;32m    434\u001b[0m     \u001b[0;32melif\u001b[0m \u001b[0mhasattr\u001b[0m\u001b[0;34m(\u001b[0m\u001b[0mfname\u001b[0m\u001b[0;34m,\u001b[0m \u001b[0;34m'seek'\u001b[0m\u001b[0;34m)\u001b[0m\u001b[0;34m:\u001b[0m\u001b[0;34m\u001b[0m\u001b[0m\n",
      "\u001b[0;31mFileNotFoundError\u001b[0m: [Errno 2] No such file or directory: 'figures/test2-t1-model-output-tsne.svg'"
     ]
    }
   ],
   "source": [
    "if result.input_form != \"features\": \n",
    "    layer = \"dense_1\"\n",
    "    if deep_top: \n",
    "        layer = \"dense_3\"\n",
    "    tsne_dataset = train\n",
    "    tsne_dataset.reset()\n",
    "    fieldnames = [\"histographic interpretation\"]\n",
    "    tsne_results = [\"malignant\" if i else \"benign\" for i in transform_binary_predictions(get_results(model, tsne_dataset))]\n",
    "    figs = plot_tsne(\n",
    "        model, \n",
    "        layer, \n",
    "        tsne_dataset, \n",
    "        [tsne_results, tsne_dataset.labels], \n",
    "        fieldnames=[\"model output\", *fieldnames], \n",
    "        perplexity=TSNE_PERPLEXITY,\n",
    "    )\n",
    "    for i, field in enumerate([\"model output\", *fieldnames]): \n",
    "        figs[i].savefig(\"figures/{}-{}-{}-tsne.svg\".format(result.description, result.input_form, field.replace(\" \", \"-\")), bbox_inches = \"tight\")\n",
    "    tsne_dataset.reset()"
   ]
  },
  {
   "cell_type": "markdown",
   "metadata": {},
   "source": [
    "# Grad Cam"
   ]
  },
  {
   "cell_type": "code",
   "execution_count": null,
   "metadata": {},
   "outputs": [],
   "source": [
    "def show_grad_cam_images(images, labels, predictions, names=None, penultimate_layer=\"res5c_branch2c\", layer=\"dense_3\", columns=2, include_label=True):\n",
    "    filter_idx = [0]\n",
    "    grad_modifier = None\n",
    "    backprop_modifier = None\n",
    "    penultimate_layer_idx = None\n",
    "    if penultimate_layer:\n",
    "        penultimate_layer_idx = find_layer_idx(model, penultimate_layer)    \n",
    "    rows = int(math.ceil(len(images) * 2/columns))\n",
    "    f, ax = plt.subplots(rows, columns, figsize=(5.5, 3 * rows))    \n",
    "    ax = ax.flatten()\n",
    "    for i, image in enumerate(images): \n",
    "        grad = visualize_cam(\n",
    "            model,\n",
    "            find_layer_idx(model, layer),\n",
    "            filter_idx,\n",
    "            normalize(image),\n",
    "            penultimate_layer_idx=penultimate_layer_idx,\n",
    "            backprop_modifier=backprop_modifier,\n",
    "            grad_modifier=grad_modifier)\n",
    "        if names is not None: \n",
    "            ax[2*i].set_title(\"{}\".format(names[i]))\n",
    "        ax[2*i].imshow(image)\n",
    "        ax[2*i].axis('off')\n",
    "        if include_label: \n",
    "            ax[2*i+1].set_title(\"label/pred: {}/{}\".format(labels[i], predictions[i]))\n",
    "        ax[2*i+1].imshow(overlay(grad, image))\n",
    "        ax[2*i+1].axis('off')\n",
    "    return f, ax"
   ]
  },
  {
   "cell_type": "code",
   "execution_count": null,
   "metadata": {},
   "outputs": [],
   "source": [
    "grad_cam_dataset = validation\n",
    "grad_cam_dataset.reset()\n",
    "grad_cam_results = [\"malignant\" if i else \"benign\" for i in transform_binary_predictions(get_results(model, grad_cam_dataset))]\n",
    "if grad_cam_dataset.parameters[\"t1\"]: \n",
    "    show_grad_cam_images(grad_cam_dataset.t1, grad_cam_dataset.labels, grad_cam_results, grad_cam_dataset.names, layer=grad_cam_layer)\n",
    "    plt.show()\n",
    "if grad_cam_dataset.parameters[\"t2\"]: \n",
    "    show_grad_cam_images(grad_cam_dataset.t2, grad_cam_dataset.labels, grad_cam_results, grad_cam_dataset.names, penultimate_layer=\"res5c_branch2c_t2\", layer=grad_cam_layer)\n",
    "    plt.show()"
   ]
  },
  {
   "cell_type": "code",
   "execution_count": 2,
   "metadata": {
    "scrolled": false
   },
   "outputs": [
    {
     "ename": "NameError",
     "evalue": "name 'test' is not defined",
     "output_type": "error",
     "traceback": [
      "\u001b[0;31m---------------------------------------------------------------------------\u001b[0m",
      "\u001b[0;31mNameError\u001b[0m                                 Traceback (most recent call last)",
      "\u001b[0;32m<ipython-input-2-76839da951fd>\u001b[0m in \u001b[0;36m<module>\u001b[0;34m()\u001b[0m\n\u001b[0;32m----> 1\u001b[0;31m \u001b[0mgrad_cam_dataset\u001b[0m \u001b[0;34m=\u001b[0m \u001b[0mtest\u001b[0m\u001b[0;34m\u001b[0m\u001b[0m\n\u001b[0m\u001b[1;32m      2\u001b[0m \u001b[0mgrad_cam_dataset\u001b[0m\u001b[0;34m.\u001b[0m\u001b[0mreset\u001b[0m\u001b[0;34m(\u001b[0m\u001b[0;34m)\u001b[0m\u001b[0;34m\u001b[0m\u001b[0m\n\u001b[1;32m      3\u001b[0m \u001b[0mgrad_cam_results\u001b[0m \u001b[0;34m=\u001b[0m \u001b[0;34m[\u001b[0m\u001b[0;34m\"shrunk\"\u001b[0m \u001b[0;32mif\u001b[0m \u001b[0mi\u001b[0m \u001b[0;32melse\u001b[0m \u001b[0;34m\"not shrunk\"\u001b[0m \u001b[0;32mfor\u001b[0m \u001b[0mi\u001b[0m \u001b[0;32min\u001b[0m \u001b[0mtransform_binary_predictions\u001b[0m\u001b[0;34m(\u001b[0m\u001b[0mget_results\u001b[0m\u001b[0;34m(\u001b[0m\u001b[0mmodel\u001b[0m\u001b[0;34m,\u001b[0m \u001b[0mgrad_cam_dataset\u001b[0m\u001b[0;34m)\u001b[0m\u001b[0;34m)\u001b[0m\u001b[0;34m]\u001b[0m\u001b[0;34m\u001b[0m\u001b[0m\n\u001b[1;32m      4\u001b[0m \u001b[0minv_indices\u001b[0m \u001b[0;34m=\u001b[0m \u001b[0;34m{\u001b[0m\u001b[0mv\u001b[0m\u001b[0;34m:\u001b[0m \u001b[0mk\u001b[0m \u001b[0;32mfor\u001b[0m \u001b[0mk\u001b[0m\u001b[0;34m,\u001b[0m \u001b[0mv\u001b[0m \u001b[0;32min\u001b[0m \u001b[0mgrad_cam_dataset\u001b[0m\u001b[0;34m.\u001b[0m\u001b[0mclass_indices\u001b[0m\u001b[0;34m.\u001b[0m\u001b[0mitems\u001b[0m\u001b[0;34m(\u001b[0m\u001b[0;34m)\u001b[0m\u001b[0;34m}\u001b[0m\u001b[0;34m\u001b[0m\u001b[0m\n\u001b[1;32m      5\u001b[0m \u001b[0;34m\u001b[0m\u001b[0m\n",
      "\u001b[0;31mNameError\u001b[0m: name 'test' is not defined"
     ]
    }
   ],
   "source": [
    "grad_cam_dataset = validation\n",
    "grad_cam_dataset.reset()\n",
    "grad_cam_results = [\"malignant\" if i else \"benign\" for i in transform_binary_predictions(get_results(model, grad_cam_dataset))]\n",
    "inv_indices = {v: k for k, v in grad_cam_dataset.class_indices.items()}\n",
    "\n",
    "if SELECTIONS == None: \n",
    "    SELECTIONS = dict()\n",
    "\n",
    "if grad_cam_dataset.parameters[\"t1\"]: \n",
    "    for k, v in SELECTIONS.items():\n",
    "        images = grad_cam_dataset.t1\n",
    "        selected_images = list()\n",
    "        selected_labels = list()\n",
    "        selected_results = list()\n",
    "        for i, name in enumerate(grad_cam_dataset.names): \n",
    "            if name in v: \n",
    "                selected_images.append(images[i])\n",
    "                selected_labels.append(grad_cam_dataset.labels[i])\n",
    "                selected_results.append(grad_cam_results[i])            \n",
    "        fig, ax = show_grad_cam_images(selected_images, selected_labels, selected_results, include_label=False, names=None, layer=grad_cam_layer)\n",
    "        title = fig.suptitle(\"Label: {} | Prediction: {}\".format(k[0], k[1]))\n",
    "        fig.savefig(\"figures/{}-{}-grad-cam-{}-{}.svg\".format(result.description, result.input_form, k[0], k[1]), bbox_inches = \"tight\", bbox_extra_artists=[title])                \n",
    "        fig.show()\n",
    "\n",
    "if grad_cam_dataset.parameters[\"t2\"]: \n",
    "    for k, v in SELECTIONS.items():\n",
    "        images = grad_cam_dataset.t2\n",
    "        selected_images = list()\n",
    "        selected_labels = list()\n",
    "        selected_results = list()\n",
    "        for i, name in enumerate(grad_cam_dataset.names): \n",
    "            if name in v: \n",
    "                selected_images.append(images[i])\n",
    "                selected_labels.append(grad_cam_dataset.labels[i])\n",
    "                selected_results.append(grad_cam_results[i])\n",
    "        fig, ax = show_grad_cam_images(selected_images, selected_labels, selected_results, names=None, penultimate_layer=\"res5c_branch2c_t2\",include_label=False, layer=grad_cam_layer)\n",
    "        title = fig.suptitle(\"Label: {} | Prediction: {}\".format(k[0], k[1]))\n",
    "        fig.savefig(\"figures/{}-{}-grad-cam-{}-{}.svg\".format(result.description, result.input_form, k[0], k[1]), bbox_inches = \"tight\", bbox_extra_artists=[title])        \n",
    "        fig.show()"
   ]
  },
  {
   "cell_type": "code",
   "execution_count": null,
   "metadata": {},
   "outputs": [],
   "source": [
    "from IPython.display import HTML\n",
    "HTML('''<script>\n",
    "code_show=true; \n",
    "function code_toggle() {\n",
    " if (code_show){\n",
    " $('div.input').hide();\n",
    " } else {\n",
    " $('div.input').show();\n",
    " }\n",
    " code_show = !code_show\n",
    "} \n",
    "$( document ).ready(code_toggle);\n",
    "</script>\n",
    "The raw code for this IPython notebook is by default hidden for easier reading.\n",
    "To toggle on/off the raw code, click <a href=\"javascript:code_toggle()\">here</a>.''')"
   ]
  },
  {
   "cell_type": "code",
   "execution_count": null,
   "metadata": {},
   "outputs": [],
   "source": []
  },
  {
   "cell_type": "code",
   "execution_count": null,
   "metadata": {},
   "outputs": [],
   "source": []
  },
  {
   "cell_type": "code",
   "execution_count": null,
   "metadata": {},
   "outputs": [],
   "source": []
  },
  {
   "cell_type": "code",
   "execution_count": null,
   "metadata": {},
   "outputs": [],
   "source": []
  },
  {
   "cell_type": "code",
   "execution_count": null,
   "metadata": {},
   "outputs": [],
   "source": []
  }
 ],
 "metadata": {
  "kernelspec": {
   "display_name": "Python 2",
   "language": "python",
   "name": "python2"
  },
  "language_info": {
   "codemirror_mode": {
    "name": "ipython",
    "version": 3
   },
   "file_extension": ".py",
   "mimetype": "text/x-python",
   "name": "python",
   "nbconvert_exporter": "python",
   "pygments_lexer": "ipython3",
   "version": "3.6.8"
  }
 },
 "nbformat": 4,
 "nbformat_minor": 2
}
