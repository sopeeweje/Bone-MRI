{
 "cells": [
  {
   "cell_type": "code",
   "execution_count": 1,
   "metadata": {
    "papermill": {
     "duration": 1.32763,
     "end_time": "2020-05-29T17:44:08.247951",
     "exception": false,
     "start_time": "2020-05-29T17:44:06.920321",
     "status": "completed"
    },
    "tags": []
   },
   "outputs": [],
   "source": [
    "%load_ext autoreload\n",
    "%autoreload 2\n",
    "%matplotlib inline  \n",
    "from IPython.display import HTML"
   ]
  },
  {
   "cell_type": "code",
   "execution_count": 2,
   "metadata": {
    "collapsed": true,
    "papermill": {
     "duration": 7.860582,
     "end_time": "2020-05-29T17:44:16.138240",
     "exception": false,
     "start_time": "2020-05-29T17:44:08.277658",
     "status": "completed"
    },
    "tags": []
   },
   "outputs": [
    {
     "name": "stderr",
     "output_type": "stream",
     "text": [
      "Using TensorFlow backend.\n"
     ]
    },
    {
     "name": "stderr",
     "output_type": "stream",
     "text": [
      "/home/user1/.local/share/virtualenvs/Bone-MRI-iLizu8rs/lib/python3.6/site-packages/tensorflow/python/framework/dtypes.py:516: FutureWarning: Passing (type, 1) or '1type' as a synonym of type is deprecated; in a future version of numpy, it will be understood as (type, (1,)) / '(1,)type'.\n",
      "  _np_qint8 = np.dtype([(\"qint8\", np.int8, 1)])\n",
      "/home/user1/.local/share/virtualenvs/Bone-MRI-iLizu8rs/lib/python3.6/site-packages/tensorflow/python/framework/dtypes.py:517: FutureWarning: Passing (type, 1) or '1type' as a synonym of type is deprecated; in a future version of numpy, it will be understood as (type, (1,)) / '(1,)type'.\n",
      "  _np_quint8 = np.dtype([(\"quint8\", np.uint8, 1)])\n",
      "/home/user1/.local/share/virtualenvs/Bone-MRI-iLizu8rs/lib/python3.6/site-packages/tensorflow/python/framework/dtypes.py:518: FutureWarning: Passing (type, 1) or '1type' as a synonym of type is deprecated; in a future version of numpy, it will be understood as (type, (1,)) / '(1,)type'.\n",
      "  _np_qint16 = np.dtype([(\"qint16\", np.int16, 1)])\n",
      "/home/user1/.local/share/virtualenvs/Bone-MRI-iLizu8rs/lib/python3.6/site-packages/tensorflow/python/framework/dtypes.py:519: FutureWarning: Passing (type, 1) or '1type' as a synonym of type is deprecated; in a future version of numpy, it will be understood as (type, (1,)) / '(1,)type'.\n",
      "  _np_quint16 = np.dtype([(\"quint16\", np.uint16, 1)])\n",
      "/home/user1/.local/share/virtualenvs/Bone-MRI-iLizu8rs/lib/python3.6/site-packages/tensorflow/python/framework/dtypes.py:520: FutureWarning: Passing (type, 1) or '1type' as a synonym of type is deprecated; in a future version of numpy, it will be understood as (type, (1,)) / '(1,)type'.\n",
      "  _np_qint32 = np.dtype([(\"qint32\", np.int32, 1)])\n",
      "/home/user1/.local/share/virtualenvs/Bone-MRI-iLizu8rs/lib/python3.6/site-packages/tensorflow/python/framework/dtypes.py:525: FutureWarning: Passing (type, 1) or '1type' as a synonym of type is deprecated; in a future version of numpy, it will be understood as (type, (1,)) / '(1,)type'.\n",
      "  np_resource = np.dtype([(\"resource\", np.ubyte, 1)])\n"
     ]
    },
    {
     "name": "stderr",
     "output_type": "stream",
     "text": [
      "WARNING:root:Limited tf.compat.v2.summary API due to missing TensorBoard installation.\n"
     ]
    }
   ],
   "source": [
    "from sklearn.metrics import f1_score, roc_auc_score, average_precision_score, precision_score, recall_score\n",
    "import pandas\n",
    "import numpy as np\n",
    "import papermill as pm\n",
    "import json\n",
    "import matplotlib.pyplot as plt\n",
    "import os\n",
    "import uuid\n",
    "from db import Result\n",
    "import ast\n",
    "import math\n",
    "from vis.visualization import visualize_cam, visualize_saliency, overlay\n",
    "from vis.utils.utils import load_img, normalize, find_layer_idx\n",
    "\n",
    "\n",
    "pandas.options.display.float_format = '{:,.3f}'.format"
   ]
  },
  {
   "cell_type": "code",
   "execution_count": 3,
   "metadata": {
    "collapsed": true,
    "papermill": {
     "duration": 0.39133,
     "end_time": "2020-05-29T17:44:16.533263",
     "exception": false,
     "start_time": "2020-05-29T17:44:16.141933",
     "status": "completed"
    },
    "tags": []
   },
   "outputs": [],
   "source": [
    "from evaluate import plot_learning_curve, plot_accuracy_curve, load, get_results, get_labels, transform_binary_probabilities, transform_binary_predictions, calculate_accuracy_loss, plot_confusion_matrix, plot_precision_recall, plot_roc_curve, calculate_pr_auc, calculate_confusion_matrix_stats, calculate_confusion_matrix, plot_tsne, plot_multiple_grad_cam, plot_precision_recall"
   ]
  },
  {
   "cell_type": "code",
   "execution_count": 4,
   "metadata": {
    "collapsed": true,
    "papermill": {
     "duration": 0.17572,
     "end_time": "2020-05-29T17:44:16.711171",
     "exception": false,
     "start_time": "2020-05-29T17:44:16.535451",
     "status": "completed"
    },
    "tags": []
   },
   "outputs": [],
   "source": [
    "from data_gen import data\n",
    "from run import characterize_data\n",
    "from config import config"
   ]
  },
  {
   "cell_type": "code",
   "execution_count": 5,
   "metadata": {
    "papermill": {
     "duration": 0.108664,
     "end_time": "2020-05-29T17:44:16.822387",
     "exception": false,
     "start_time": "2020-05-29T17:44:16.713723",
     "status": "completed"
    },
    "tags": [
     "parameters"
    ]
   },
   "outputs": [],
   "source": [
    "# Parameters\n",
    "UUID = \"ec0a84dd-313b-44fc-9110-d72a62ee12a2\"\n",
    "SELECTIONS = \"None\"\n",
    "TSNE_PERPLEXITY = 10\n"
   ]
  },
  {
   "cell_type": "code",
   "execution_count": 6,
   "metadata": {
    "collapsed": true,
    "papermill": {
     "duration": 0.126593,
     "end_time": "2020-05-29T17:44:16.953233",
     "exception": false,
     "start_time": "2020-05-29T17:44:16.826640",
     "status": "completed"
    },
    "tags": []
   },
   "outputs": [],
   "source": [
    "SELECTIONS = eval(SELECTIONS)"
   ]
  },
  {
   "cell_type": "markdown",
   "metadata": {
    "papermill": {
     "duration": 2.3e-05,
     "end_time": "2020-05-29T17:44:16.954373",
     "exception": false,
     "start_time": "2020-05-29T17:44:16.954350",
     "status": "completed"
    },
    "tags": []
   },
   "source": [
    "# Learning Curve"
   ]
  },
  {
   "cell_type": "code",
   "execution_count": 7,
   "metadata": {
    "papermill": {
     "duration": 0.991351,
     "end_time": "2020-05-29T17:44:18.011098",
     "exception": false,
     "start_time": "2020-05-29T17:44:17.019747",
     "status": "completed"
    },
    "tags": []
   },
   "outputs": [
    {
     "data": {
      "image/png": "[encoded data removed]",
      "text/plain": [
       "<Figure size 432x288 with 1 Axes>"
      ]
     },
     "metadata": {},
     "output_type": "display_data"
    }
   ],
   "source": [
    "result = Result.query.filter(Result.uuid == UUID).first()\n",
    "fig = plot_learning_curve(result)\n",
    "fig.savefig(\"figures/learning_curves/{}-learning_curve.svg\".format(UUID))"
   ]
  },
  {
   "cell_type": "markdown",
   "metadata": {
    "papermill": {
     "duration": 2.5e-05,
     "end_time": "2020-05-29T17:44:18.013184",
     "exception": false,
     "start_time": "2020-05-29T17:44:18.013159",
     "status": "completed"
    },
    "tags": []
   },
   "source": [
    "# Accuracy Trend"
   ]
  },
  {
   "cell_type": "code",
   "execution_count": 8,
   "metadata": {
    "papermill": {
     "duration": 0.782847,
     "end_time": "2020-05-29T17:44:18.857523",
     "exception": false,
     "start_time": "2020-05-29T17:44:18.074676",
     "status": "completed"
    },
    "tags": []
   },
   "outputs": [
    {
     "data": {
      "image/png": "[encoded data removed]",
      "text/plain": [
       "<Figure size 432x288 with 1 Axes>"
      ]
     },
     "metadata": {},
     "output_type": "display_data"
    }
   ],
   "source": [
    "fig = plot_accuracy_curve(result)\n",
    "fig.savefig(\"figures/accuracy/{}-accuracy.svg\".format(UUID))"
   ]
  },
  {
   "cell_type": "code",
   "execution_count": 9,
   "metadata": {
    "papermill": {
     "duration": 0.132111,
     "end_time": "2020-05-29T17:44:18.990556",
     "exception": false,
     "start_time": "2020-05-29T17:44:18.858445",
     "status": "completed"
    },
    "tags": []
   },
   "outputs": [
    {
     "name": "stdout",
     "output_type": "stream",
     "text": [
      "input form: t1\n"
     ]
    }
   ],
   "source": [
    "print(\"input form:\", result.input_form)"
   ]
  },
  {
   "cell_type": "code",
   "execution_count": 10,
   "metadata": {
    "collapsed": true,
    "papermill": {
     "duration": 0.166345,
     "end_time": "2020-05-29T17:44:19.157956",
     "exception": false,
     "start_time": "2020-05-29T17:44:18.991611",
     "status": "completed"
    },
    "tags": []
   },
   "outputs": [],
   "source": [
    "MODEL = \"{}/models/{}-{}.h5\".format(config.OUTPUT, UUID, result.model)"
   ]
  },
  {
   "cell_type": "code",
   "execution_count": 11,
   "metadata": {
    "papermill": {
     "duration": 213.0636,
     "end_time": "2020-05-29T17:47:52.222466",
     "exception": false,
     "start_time": "2020-05-29T17:44:19.158866",
     "status": "completed"
    },
    "scrolled": false,
    "tags": []
   },
   "outputs": [
    {
     "name": "stdout",
     "output_type": "stream",
     "text": [
      "1072\n",
      "889\n",
      "Training points = 622\n",
      "Benign: 349, Intermediate: 273, Malignant: 0\n",
      "\n",
      "Validation points = 168\n",
      "Benign: 96, Intermediate: 72, Malignant: 0\n",
      "\n",
      "Testing points = 99\n",
      "Benign: 54, Intermediate: 45, Malignant: 0\n"
     ]
    },
    {
     "name": "stderr",
     "output_type": "stream",
     "text": [
      "\r",
      "  0%|          | 0/622 [00:00<?, ?it/s]"
     ]
    },
    {
     "name": "stdout",
     "output_type": "stream",
     "text": [
      "bone-china-046\n",
      "Does this patient have T1 available? True\n",
      "I'm doing the thing.\n"
     ]
    },
    {
     "name": "stderr",
     "output_type": "stream",
     "text": [
      "\r",
      "  0%|          | 1/622 [00:00<02:06,  4.89it/s]"
     ]
    },
    {
     "name": "stderr",
     "output_type": "stream",
     "text": [
      "\r",
      "  0%|          | 2/622 [00:00<01:48,  5.73it/s]"
     ]
    },
    {
     "name": "stdout",
     "output_type": "stream",
     "text": [
      "bone-penn-157\n",
      "Does this patient have T1 available? True\n",
      "I'm doing the thing.\n",
      "bone-china-124\n",
      "Does this patient have T1 available? True\n",
      "I'm doing the thing.\n"
     ]
    },
    {
     "name": "stderr",
     "output_type": "stream",
     "text": [
      "\r",
      "  0%|          | 3/622 [00:00<01:47,  5.75it/s]"
     ]
    },
    {
     "name": "stdout",
     "output_type": "stream",
     "text": [
      "bone-penn-107\n",
      "Does this patient have T1 available? True\n",
      "I'm doing the thing.\n"
     ]
    },
    {
     "name": "stderr",
     "output_type": "stream",
     "text": [
      "\r",
      "  1%|          | 4/622 [00:00<02:35,  3.98it/s]"
     ]
    },
    {
     "name": "stdout",
     "output_type": "stream",
     "text": [
      "bone-hup-134\n",
      "Does this patient have T1 available? True\n",
      "I'm doing the thing.\n"
     ]
    },
    {
     "name": "stderr",
     "output_type": "stream",
     "text": [
      "\r",
      "  1%|          | 5/622 [00:01<03:18,  3.10it/s]"
     ]
    },
    {
     "name": "stdout",
     "output_type": "stream",
     "text": [
      "bone-china-068\n",
      "Does this patient have T1 available? True\n",
      "I'm doing the thing.\n",
      "bone-penn-522\n",
      "Does this patient have T1 available? True\n",
      "I'm doing the thing.\n"
     ]
    },
    {
     "name": "stderr",
     "output_type": "stream",
     "text": [
      "\r",
      "  1%|          | 7/622 [00:01<02:55,  3.50it/s]"
     ]
    },
    {
     "name": "stderr",
     "output_type": "stream",
     "text": [
      "\r",
      "  1%|▏         | 8/622 [00:01<02:28,  4.14it/s]"
     ]
    },
    {
     "name": "stdout",
     "output_type": "stream",
     "text": [
      "bone-penn-279\n",
      "Does this patient have T1 available? True\n",
      "I'm doing the thing.\n",
      "bone-penn-81\n",
      "Does this patient have T1 available? True\n",
      "I'm doing the thing.\n"
     ]
    },
    {
     "name": "stderr",
     "output_type": "stream",
     "text": [
      "\r",
      "  1%|▏         | 9/622 [00:02<03:17,  3.10it/s]"
     ]
    },
    {
     "name": "stderr",
     "output_type": "stream",
     "text": [
      "\r",
      "  2%|▏         | 10/622 [00:02<02:48,  3.64it/s]"
     ]
    },
    {
     "name": "stdout",
     "output_type": "stream",
     "text": [
      "bone-china-128\n",
      "Does this patient have T1 available? True\n",
      "I'm doing the thing.\n",
      "bone-hup-296\n",
      "Does this patient have T1 available? True\n",
      "I'm doing the thing.\n"
     ]
    },
    {
     "name": "stderr",
     "output_type": "stream",
     "text": [
      "\r",
      "  2%|▏         | 12/622 [00:02<02:15,  4.50it/s]"
     ]
    },
    {
     "name": "stdout",
     "output_type": "stream",
     "text": [
      "bone-china-106\n",
      "Does this patient have T1 available? True\n",
      "I'm doing the thing.\n",
      "bone-penn-292\n",
      "Does this patient have T1 available? True\n",
      "I'm doing the thing.\n",
      "bone-hup-123\n",
      "Does this patient have T1 available? True\n",
      "I'm doing the thing.\n"
     ]
    },
    {
     "name": "stderr",
     "output_type": "stream",
     "text": [
      "\r",
      "  2%|▏         | 14/622 [00:03<02:09,  4.68it/s]"
     ]
    },
    {
     "name": "stderr",
     "output_type": "stream",
     "text": [
      "\r",
      "  2%|▏         | 15/622 [00:03<02:07,  4.77it/s]"
     ]
    },
    {
     "name": "stdout",
     "output_type": "stream",
     "text": [
      "bone-penn-362\n",
      "Does this patient have T1 available? True\n",
      "I'm doing the thing.\n",
      "bone-penn-588\n",
      "Does this patient have T1 available? True\n",
      "I'm doing the thing.\n"
     ]
    },
    {
     "name": "stderr",
     "output_type": "stream",
     "text": [
      "\r",
      "  3%|▎         | 16/622 [00:03<02:04,  4.89it/s]"
     ]
    },
    {
     "name": "stderr",
     "output_type": "stream",
     "text": [
      "\r",
      "  3%|▎         | 17/622 [00:03<01:48,  5.60it/s]"
     ]
    },
    {
     "name": "stdout",
     "output_type": "stream",
     "text": [
      "bone-penn-139\n",
      "Does this patient have T1 available? True\n",
      "I'm doing the thing.\n",
      "bone-penn-381\n",
      "Does this patient have T1 available? True\n",
      "I'm doing the thing.\n",
      "bone-penn-93\n",
      "Does this patient have T1 available? True\n",
      "I'm doing the thing.\n"
     ]
    },
    {
     "name": "stderr",
     "output_type": "stream",
     "text": [
      "\r",
      "  3%|▎         | 19/622 [00:03<01:30,  6.64it/s]"
     ]
    },
    {
     "name": "stdout",
     "output_type": "stream",
     "text": [
      "bone-china-052\n",
      "Does this patient have T1 available? True\n",
      "I'm doing the thing.\n",
      "bone-penn-142\n",
      "Does this patient have T1 available? True\n",
      "I'm doing the thing.\n"
     ]
    },
    {
     "name": "stderr",
     "output_type": "stream",
     "text": [
      "\r",
      "  3%|▎         | 21/622 [00:04<01:22,  7.27it/s]"
     ]
    },
    {
     "name": "stdout",
     "output_type": "stream",
     "text": [
      "bone-penn-280\n",
      "Does this patient have T1 available? True\n",
      "I'm doing the thing.\n",
      "bone-penn-457\n",
      "Does this patient have T1 available? True\n",
      "I'm doing the thing.\n"
     ]
    },
    {
     "name": "stderr",
     "output_type": "stream",
     "text": [
      "\r",
      "  4%|▎         | 23/622 [00:04<01:28,  6.77it/s]"
     ]
    },
    {
     "name": "stderr",
     "output_type": "stream",
     "text": [
      "\r",
      "  4%|▍         | 24/622 [00:04<01:26,  6.95it/s]"
     ]
    },
    {
     "name": "stdout",
     "output_type": "stream",
     "text": [
      "bone-hup-155\n",
      "Does this patient have T1 available? True\n",
      "I'm doing the thing.\n",
      "bone-hup-48\n",
      "Does this patient have T1 available? True\n",
      "I'm doing the thing.\n"
     ]
    },
    {
     "name": "stderr",
     "output_type": "stream",
     "text": [
      "\r",
      "  4%|▍         | 25/622 [00:04<01:25,  6.95it/s]"
     ]
    },
    {
     "name": "stderr",
     "output_type": "stream",
     "text": [
      "\r",
      "  4%|▍         | 26/622 [00:04<01:19,  7.53it/s]"
     ]
    },
    {
     "name": "stdout",
     "output_type": "stream",
     "text": [
      "bone-penn-85\n",
      "Does this patient have T1 available? True\n",
      "I'm doing the thing.\n",
      "bone-penn-551\n",
      "Does this patient have T1 available? True\n",
      "I'm doing the thing.\n",
      "bone-china-020\n",
      "Does this patient have T1 available? True\n",
      "I'm doing the thing.\n"
     ]
    },
    {
     "name": "stderr",
     "output_type": "stream",
     "text": [
      "\r",
      "  5%|▍         | 28/622 [00:04<01:08,  8.63it/s]"
     ]
    },
    {
     "name": "stderr",
     "output_type": "stream",
     "text": [
      "\r",
      "  5%|▍         | 29/622 [00:05<01:06,  8.97it/s]"
     ]
    },
    {
     "name": "stdout",
     "output_type": "stream",
     "text": [
      "bone-china-057\n",
      "Does this patient have T1 available? True\n",
      "I'm doing the thing.\n",
      "bone-china-107\n",
      "Does this patient have T1 available? True\n",
      "I'm doing the thing.\n"
     ]
    },
    {
     "name": "stderr",
     "output_type": "stream",
     "text": [
      "\r",
      "  5%|▍         | 30/622 [00:05<01:15,  7.80it/s]"
     ]
    },
    {
     "name": "stdout",
     "output_type": "stream",
     "text": [
      "bone-penn-105\n",
      "Does this patient have T1 available? True\n",
      "I'm doing the thing.\n"
     ]
    },
    {
     "name": "stderr",
     "output_type": "stream",
     "text": [
      "\r",
      "  5%|▍         | 31/622 [00:05<02:02,  4.81it/s]"
     ]
    },
    {
     "name": "stdout",
     "output_type": "stream",
     "text": [
      "bone-penn-106\n",
      "Does this patient have T1 available? True\n",
      "I'm doing the thing.\n"
     ]
    },
    {
     "name": "stderr",
     "output_type": "stream",
     "text": [
      "\r",
      "  5%|▌         | 32/622 [00:05<02:09,  4.54it/s]"
     ]
    },
    {
     "name": "stderr",
     "output_type": "stream",
     "text": [
      "\r",
      "  5%|▌         | 33/622 [00:06<01:51,  5.26it/s]"
     ]
    },
    {
     "name": "stdout",
     "output_type": "stream",
     "text": [
      "bone-penn-94\n",
      "Does this patient have T1 available? True\n",
      "I'm doing the thing.\n",
      "bone-china-089\n",
      "Does this patient have T1 available? True\n",
      "I'm doing the thing.\n",
      "bone-hup-303\n",
      "Does this patient have T1 available? True\n",
      "I'm doing the thing.\n"
     ]
    },
    {
     "name": "stderr",
     "output_type": "stream",
     "text": [
      "\r",
      "  6%|▌         | 35/622 [00:06<01:39,  5.89it/s]"
     ]
    },
    {
     "name": "stderr",
     "output_type": "stream",
     "text": [
      "\r",
      "  6%|▌         | 36/622 [00:06<01:31,  6.40it/s]"
     ]
    },
    {
     "name": "stdout",
     "output_type": "stream",
     "text": [
      "bone-china-081\n",
      "Does this patient have T1 available? True\n",
      "I'm doing the thing.\n",
      "bone-hup-51\n",
      "Does this patient have T1 available? True\n",
      "I'm doing the thing.\n"
     ]
    },
    {
     "name": "stderr",
     "output_type": "stream",
     "text": [
      "\r",
      "  6%|▌         | 37/622 [00:06<01:34,  6.22it/s]"
     ]
    },
    {
     "name": "stdout",
     "output_type": "stream",
     "text": [
      "bone-penn-277\n",
      "Does this patient have T1 available? True\n",
      "I'm doing the thing.\n"
     ]
    },
    {
     "name": "stderr",
     "output_type": "stream",
     "text": [
      "\r",
      "  6%|▌         | 38/622 [00:06<01:50,  5.29it/s]"
     ]
    },
    {
     "name": "stderr",
     "output_type": "stream",
     "text": [
      "\r",
      "  6%|▋         | 39/622 [00:06<01:45,  5.52it/s]"
     ]
    },
    {
     "name": "stdout",
     "output_type": "stream",
     "text": [
      "bone-penn-473\n",
      "Does this patient have T1 available? True\n",
      "I'm doing the thing.\n",
      "bone-penn-468\n",
      "Does this patient have T1 available? True\n",
      "I'm doing the thing.\n"
     ]
    },
    {
     "name": "stderr",
     "output_type": "stream",
     "text": [
      "\r",
      "  6%|▋         | 40/622 [00:08<04:18,  2.25it/s]"
     ]
    },
    {
     "name": "stderr",
     "output_type": "stream",
     "text": [
      "\r",
      "  7%|▋         | 41/622 [00:08<03:32,  2.74it/s]"
     ]
    },
    {
     "name": "stdout",
     "output_type": "stream",
     "text": [
      "bone-china-069\n",
      "Does this patient have T1 available? True\n",
      "I'm doing the thing.\n",
      "bone-penn-478\n",
      "Does this patient have T1 available? True\n",
      "I'm doing the thing.\n"
     ]
    },
    {
     "name": "stderr",
     "output_type": "stream",
     "text": [
      "\r",
      "  7%|▋         | 42/622 [00:08<04:14,  2.28it/s]"
     ]
    },
    {
     "name": "stdout",
     "output_type": "stream",
     "text": [
      "bone-penn-495\n",
      "Does this patient have T1 available? True\n",
      "I'm doing the thing.\n"
     ]
    },
    {
     "name": "stderr",
     "output_type": "stream",
     "text": [
      "\r",
      "  7%|▋         | 43/622 [00:09<04:19,  2.23it/s]"
     ]
    },
    {
     "name": "stdout",
     "output_type": "stream",
     "text": [
      "bone-china-040\n",
      "Does this patient have T1 available? True\n",
      "I'm doing the thing.\n",
      "bone-penn-148\n",
      "Does this patient have T1 available? True\n",
      "I'm doing the thing.\n"
     ]
    },
    {
     "name": "stderr",
     "output_type": "stream",
     "text": [
      "\r",
      "  7%|▋         | 45/622 [00:09<03:23,  2.84it/s]"
     ]
    },
    {
     "name": "stdout",
     "output_type": "stream",
     "text": [
      "bone-penn-481\n",
      "Does this patient have T1 available? True\n",
      "I'm doing the thing.\n",
      "bone-penn-330\n",
      "Does this patient have T1 available? True\n",
      "I'm doing the thing.\n"
     ]
    },
    {
     "name": "stderr",
     "output_type": "stream",
     "text": [
      "\r",
      "  8%|▊         | 47/622 [00:09<02:48,  3.41it/s]"
     ]
    },
    {
     "name": "stderr",
     "output_type": "stream",
     "text": [
      "\r",
      "  8%|▊         | 48/622 [00:09<02:17,  4.19it/s]"
     ]
    },
    {
     "name": "stdout",
     "output_type": "stream",
     "text": [
      "bone-china-151\n",
      "Does this patient have T1 available? True\n",
      "I'm doing the thing.\n",
      "bone-china-146\n",
      "Does this patient have T1 available? True\n",
      "I'm doing the thing.\n"
     ]
    },
    {
     "name": "stderr",
     "output_type": "stream",
     "text": [
      "\r",
      "  8%|▊         | 49/622 [00:10<01:58,  4.82it/s]"
     ]
    },
    {
     "name": "stderr",
     "output_type": "stream",
     "text": [
      "\r",
      "  8%|▊         | 50/622 [00:10<01:42,  5.59it/s]"
     ]
    },
    {
     "name": "stdout",
     "output_type": "stream",
     "text": [
      "bone-china-056\n",
      "Does this patient have T1 available? True\n",
      "I'm doing the thing.\n",
      "bone-penn-038\n",
      "Does this patient have T1 available? True\n",
      "I'm doing the thing.\n",
      "bone-china-169\n",
      "Does this patient have T1 available? True\n",
      "I'm doing the thing.\n"
     ]
    },
    {
     "name": "stderr",
     "output_type": "stream",
     "text": [
      "\r",
      "  8%|▊         | 52/622 [00:10<01:26,  6.59it/s]"
     ]
    },
    {
     "name": "stderr",
     "output_type": "stream",
     "text": [
      "\r",
      "  9%|▊         | 53/622 [00:10<01:17,  7.31it/s]"
     ]
    },
    {
     "name": "stdout",
     "output_type": "stream",
     "text": [
      "bone-penn-151\n",
      "Does this patient have T1 available? True\n",
      "I'm doing the thing.\n",
      "bone-hup-317\n",
      "Does this patient have T1 available? True\n",
      "I'm doing the thing.\n"
     ]
    },
    {
     "name": "stderr",
     "output_type": "stream",
     "text": [
      "\r",
      "  9%|▊         | 54/622 [00:10<01:16,  7.42it/s]"
     ]
    },
    {
     "name": "stderr",
     "output_type": "stream",
     "text": [
      "\r",
      "  9%|▉         | 55/622 [00:10<01:18,  7.23it/s]"
     ]
    },
    {
     "name": "stdout",
     "output_type": "stream",
     "text": [
      "bone-penn-047\n",
      "Does this patient have T1 available? True\n",
      "I'm doing the thing.\n",
      "bone-hup-151\n",
      "Does this patient have T1 available? True\n",
      "I'm doing the thing.\n",
      "bone-penn-118\n",
      "Does this patient have T1 available? True\n",
      "I'm doing the thing.\n"
     ]
    },
    {
     "name": "stderr",
     "output_type": "stream",
     "text": [
      "\r",
      "  9%|▉         | 57/622 [00:12<02:47,  3.38it/s]"
     ]
    },
    {
     "name": "stderr",
     "output_type": "stream",
     "text": [
      "\r",
      "  9%|▉         | 58/622 [00:12<02:25,  3.88it/s]"
     ]
    },
    {
     "name": "stdout",
     "output_type": "stream",
     "text": [
      "bone-china-114\n",
      "Does this patient have T1 available? True\n",
      "I'm doing the thing.\n",
      "bone-china-062\n",
      "Does this patient have T1 available? True\n",
      "I'm doing the thing.\n"
     ]
    },
    {
     "name": "stderr",
     "output_type": "stream",
     "text": [
      "\r",
      "  9%|▉         | 59/622 [00:12<02:16,  4.13it/s]"
     ]
    },
    {
     "name": "stdout",
     "output_type": "stream",
     "text": [
      "bone-china-163\n",
      "Does this patient have T1 available? True\n",
      "I'm doing the thing.\n",
      "bone-penn-90\n",
      "Does this patient have T1 available? True\n",
      "I'm doing the thing.\n"
     ]
    },
    {
     "name": "stderr",
     "output_type": "stream",
     "text": [
      "\r",
      " 10%|▉         | 61/622 [00:12<01:52,  5.00it/s]"
     ]
    },
    {
     "name": "stderr",
     "output_type": "stream",
     "text": [
      "\r",
      " 10%|▉         | 62/622 [00:12<01:40,  5.55it/s]"
     ]
    },
    {
     "name": "stdout",
     "output_type": "stream",
     "text": [
      "bone-penn-497\n",
      "Does this patient have T1 available? True\n",
      "I'm doing the thing.\n",
      "bone-hup-265\n",
      "Does this patient have T1 available? True\n",
      "I'm doing the thing.\n"
     ]
    },
    {
     "name": "stderr",
     "output_type": "stream",
     "text": [
      "\r",
      " 10%|█         | 63/622 [00:12<01:41,  5.52it/s]"
     ]
    },
    {
     "name": "stderr",
     "output_type": "stream",
     "text": [
      "\r",
      " 10%|█         | 64/622 [00:13<01:32,  6.01it/s]"
     ]
    },
    {
     "name": "stdout",
     "output_type": "stream",
     "text": [
      "bone-china-162\n",
      "Does this patient have T1 available? True\n",
      "I'm doing the thing.\n",
      "bone-penn-104\n",
      "Does this patient have T1 available? True\n",
      "I'm doing the thing.\n"
     ]
    },
    {
     "name": "stderr",
     "output_type": "stream",
     "text": [
      "\r",
      " 10%|█         | 65/622 [00:13<01:35,  5.86it/s]"
     ]
    },
    {
     "name": "stdout",
     "output_type": "stream",
     "text": [
      "bone-penn-485\n",
      "Does this patient have T1 available? True\n",
      "I'm doing the thing.\n"
     ]
    },
    {
     "name": "stderr",
     "output_type": "stream",
     "text": [
      "\r",
      " 11%|█         | 66/622 [00:13<02:21,  3.93it/s]"
     ]
    },
    {
     "name": "stderr",
     "output_type": "stream",
     "text": [
      "\r",
      " 11%|█         | 67/622 [00:13<02:02,  4.54it/s]"
     ]
    },
    {
     "name": "stdout",
     "output_type": "stream",
     "text": [
      "bone-china-004\n",
      "Does this patient have T1 available? True\n",
      "I'm doing the thing.\n",
      "bone-hup-131\n",
      "Does this patient have T1 available? True\n",
      "I'm doing the thing.\n"
     ]
    },
    {
     "name": "stderr",
     "output_type": "stream",
     "text": [
      "\r",
      " 11%|█         | 68/622 [00:14<03:18,  2.80it/s]"
     ]
    },
    {
     "name": "stdout",
     "output_type": "stream",
     "text": [
      "bone-penn-577\n",
      "Does this patient have T1 available? True\n",
      "I'm doing the thing.\n"
     ]
    },
    {
     "name": "stderr",
     "output_type": "stream",
     "text": [
      "\r",
      " 11%|█         | 69/622 [00:14<03:25,  2.69it/s]"
     ]
    },
    {
     "name": "stderr",
     "output_type": "stream",
     "text": [
      "\r",
      " 11%|█▏        | 70/622 [00:15<02:43,  3.37it/s]"
     ]
    },
    {
     "name": "stdout",
     "output_type": "stream",
     "text": [
      "bone-china-077\n",
      "Does this patient have T1 available? True\n",
      "I'm doing the thing.\n",
      "bone-china-032\n",
      "Does this patient have T1 available? True\n",
      "I'm doing the thing.\n",
      "bone-hup-152\n",
      "Does this patient have T1 available? True\n",
      "I'm doing the thing.\n"
     ]
    },
    {
     "name": "stderr",
     "output_type": "stream",
     "text": [
      "\r",
      " 12%|█▏        | 72/622 [00:15<02:17,  4.00it/s]"
     ]
    },
    {
     "name": "stdout",
     "output_type": "stream",
     "text": [
      "bone-penn-84\n",
      "Does this patient have T1 available? True\n",
      "I'm doing the thing.\n"
     ]
    },
    {
     "name": "stderr",
     "output_type": "stream",
     "text": [
      "\r",
      " 12%|█▏        | 73/622 [00:15<02:51,  3.20it/s]"
     ]
    },
    {
     "name": "stderr",
     "output_type": "stream",
     "text": [
      "\r",
      " 12%|█▏        | 74/622 [00:15<02:24,  3.79it/s]"
     ]
    },
    {
     "name": "stdout",
     "output_type": "stream",
     "text": [
      "bone-china-120\n",
      "Does this patient have T1 available? True\n",
      "I'm doing the thing.\n",
      "bone-penn-074\n",
      "Does this patient have T1 available? True\n",
      "I'm doing the thing.\n"
     ]
    },
    {
     "name": "stderr",
     "output_type": "stream",
     "text": [
      "\r",
      " 12%|█▏        | 75/622 [00:16<02:10,  4.18it/s]"
     ]
    },
    {
     "name": "stderr",
     "output_type": "stream",
     "text": [
      "\r",
      " 12%|█▏        | 76/622 [00:16<01:56,  4.67it/s]"
     ]
    },
    {
     "name": "stdout",
     "output_type": "stream",
     "text": [
      "bone-penn-143\n",
      "Does this patient have T1 available? True\n",
      "I'm doing the thing.\n",
      "bone-hup-124\n",
      "Does this patient have T1 available? True\n",
      "I'm doing the thing.\n"
     ]
    },
    {
     "name": "stderr",
     "output_type": "stream",
     "text": [
      "\r",
      " 12%|█▏        | 77/622 [00:16<02:18,  3.93it/s]"
     ]
    },
    {
     "name": "stderr",
     "output_type": "stream",
     "text": [
      "\r",
      " 13%|█▎        | 79/622 [00:16<01:52,  4.85it/s]"
     ]
    },
    {
     "name": "stdout",
     "output_type": "stream",
     "text": [
      "bone-penn-474\n",
      "Does this patient have T1 available? True\n",
      "I'm doing the thing.\n",
      "bone-penn-530\n",
      "Does this patient have T1 available? True\n",
      "I'm doing the thing.\n",
      "bone-penn-115\n",
      "Does this patient have T1 available? True\n",
      "I'm doing the thing.\n"
     ]
    },
    {
     "name": "stderr",
     "output_type": "stream",
     "text": [
      "\r",
      " 13%|█▎        | 80/622 [00:16<01:35,  5.69it/s]"
     ]
    },
    {
     "name": "stdout",
     "output_type": "stream",
     "text": [
      "bone-penn-384\n",
      "Does this patient have T1 available? True\n",
      "I'm doing the thing.\n",
      "bone-penn-322\n",
      "Does this patient have T1 available? True\n",
      "I'm doing the thing.\n"
     ]
    },
    {
     "name": "stderr",
     "output_type": "stream",
     "text": [
      "\r",
      " 13%|█▎        | 82/622 [00:17<01:43,  5.20it/s]"
     ]
    },
    {
     "name": "stdout",
     "output_type": "stream",
     "text": [
      "bone-china-055\n",
      "Does this patient have T1 available? True\n",
      "I'm doing the thing.\n",
      "bone-penn-585\n",
      "Does this patient have T1 available? True\n",
      "I'm doing the thing.\n"
     ]
    },
    {
     "name": "stderr",
     "output_type": "stream",
     "text": [
      "\r",
      " 14%|█▎        | 84/622 [00:17<01:29,  5.99it/s]"
     ]
    },
    {
     "name": "stderr",
     "output_type": "stream",
     "text": [
      "\r",
      " 14%|█▎        | 85/622 [00:17<01:24,  6.32it/s]"
     ]
    },
    {
     "name": "stdout",
     "output_type": "stream",
     "text": [
      "bone-china-148\n",
      "Does this patient have T1 available? True\n",
      "I'm doing the thing.\n",
      "bone-china-149\n",
      "Does this patient have T1 available? True\n",
      "I'm doing the thing.\n"
     ]
    },
    {
     "name": "stderr",
     "output_type": "stream",
     "text": [
      "\r",
      " 14%|█▍        | 86/622 [00:17<01:30,  5.90it/s]"
     ]
    },
    {
     "name": "stdout",
     "output_type": "stream",
     "text": [
      "bone-penn-005\n",
      "Does this patient have T1 available? True\n",
      "I'm doing the thing.\n"
     ]
    },
    {
     "name": "stderr",
     "output_type": "stream",
     "text": [
      "\r",
      " 14%|█▍        | 87/622 [00:18<02:11,  4.08it/s]"
     ]
    },
    {
     "name": "stderr",
     "output_type": "stream",
     "text": [
      "\r",
      " 14%|█▍        | 88/622 [00:18<01:53,  4.70it/s]"
     ]
    },
    {
     "name": "stdout",
     "output_type": "stream",
     "text": [
      "bone-china-031\n",
      "Does this patient have T1 available? True\n",
      "I'm doing the thing.\n",
      "bone-china-033\n",
      "Does this patient have T1 available? True\n",
      "I'm doing the thing.\n"
     ]
    },
    {
     "name": "stdout",
     "output_type": "stream",
     "text": [
      "bone-penn-032\n",
      "Does this patient have T1 available? True\n",
      "I'm doing the thing.\n"
     ]
    },
    {
     "name": "stderr",
     "output_type": "stream",
     "text": [
      "\r",
      " 14%|█▍        | 90/622 [00:18<01:46,  4.99it/s]"
     ]
    },
    {
     "name": "stderr",
     "output_type": "stream",
     "text": [
      "\r",
      " 15%|█▍        | 91/622 [00:19<01:43,  5.13it/s]"
     ]
    },
    {
     "name": "stdout",
     "output_type": "stream",
     "text": [
      "bone-penn-001\n",
      "Does this patient have T1 available? True\n",
      "I'm doing the thing.\n",
      "bone-penn-529\n",
      "Does this patient have T1 available? True\n",
      "I'm doing the thing.\n"
     ]
    },
    {
     "name": "stderr",
     "output_type": "stream",
     "text": [
      "\r",
      " 15%|█▍        | 92/622 [00:19<01:58,  4.49it/s]"
     ]
    },
    {
     "name": "stderr",
     "output_type": "stream",
     "text": [
      "\r",
      " 15%|█▍        | 93/622 [00:19<01:52,  4.72it/s]"
     ]
    },
    {
     "name": "stdout",
     "output_type": "stream",
     "text": [
      "bone-penn-492\n",
      "Does this patient have T1 available? True\n",
      "I'm doing the thing.\n",
      "bone-penn-587\n",
      "Does this patient have T1 available? True\n",
      "I'm doing the thing.\n"
     ]
    },
    {
     "name": "stderr",
     "output_type": "stream",
     "text": [
      "\r",
      " 15%|█▌        | 94/622 [00:19<01:37,  5.42it/s]"
     ]
    },
    {
     "name": "stdout",
     "output_type": "stream",
     "text": [
      "bone-china-053\n",
      "Does this patient have T1 available? True\n",
      "I'm doing the thing.\n"
     ]
    },
    {
     "name": "stderr",
     "output_type": "stream",
     "text": [
      "\r",
      " 15%|█▌        | 95/622 [00:19<01:45,  4.99it/s]"
     ]
    },
    {
     "name": "stderr",
     "output_type": "stream",
     "text": [
      "\r",
      " 15%|█▌        | 96/622 [00:20<01:34,  5.59it/s]"
     ]
    },
    {
     "name": "stdout",
     "output_type": "stream",
     "text": [
      "bone-penn-127\n",
      "Does this patient have T1 available? True\n",
      "I'm doing the thing.\n",
      "bone-hup-297\n",
      "Does this patient have T1 available? True\n",
      "I'm doing the thing.\n"
     ]
    },
    {
     "name": "stderr",
     "output_type": "stream",
     "text": [
      "\r",
      " 16%|█▌        | 97/622 [00:20<03:02,  2.87it/s]"
     ]
    },
    {
     "name": "stdout",
     "output_type": "stream",
     "text": [
      "bone-hup-290\n",
      "Does this patient have T1 available? True\n",
      "I'm doing the thing.\n"
     ]
    },
    {
     "name": "stderr",
     "output_type": "stream",
     "text": [
      "\r",
      " 16%|█▌        | 98/622 [00:21<03:01,  2.89it/s]"
     ]
    },
    {
     "name": "stderr",
     "output_type": "stream",
     "text": [
      "\r",
      " 16%|█▌        | 99/622 [00:21<02:24,  3.61it/s]"
     ]
    },
    {
     "name": "stdout",
     "output_type": "stream",
     "text": [
      "bone-china-166\n",
      "Does this patient have T1 available? True\n",
      "I'm doing the thing.\n",
      "bone-penn-95\n",
      "Does this patient have T1 available? True\n",
      "I'm doing the thing.\n"
     ]
    },
    {
     "name": "stderr",
     "output_type": "stream",
     "text": [
      "\r",
      " 16%|█▌        | 100/622 [00:21<02:02,  4.27it/s]"
     ]
    },
    {
     "name": "stdout",
     "output_type": "stream",
     "text": [
      "bone-penn-110\n",
      "Does this patient have T1 available? True\n",
      "I'm doing the thing.\n"
     ]
    },
    {
     "name": "stderr",
     "output_type": "stream",
     "text": [
      "\r",
      " 16%|█▌        | 101/622 [00:21<02:11,  3.98it/s]"
     ]
    },
    {
     "name": "stdout",
     "output_type": "stream",
     "text": [
      "bone-hup-305\n",
      "Does this patient have T1 available? True\n",
      "I'm doing the thing.\n"
     ]
    },
    {
     "name": "stderr",
     "output_type": "stream",
     "text": [
      "\r",
      " 16%|█▋        | 102/622 [00:21<02:22,  3.64it/s]"
     ]
    },
    {
     "name": "stdout",
     "output_type": "stream",
     "text": [
      "bone-china-072\n",
      "Does this patient have T1 available? True\n",
      "I'm doing the thing.\n"
     ]
    },
    {
     "name": "stderr",
     "output_type": "stream",
     "text": [
      "\r",
      " 17%|█▋        | 103/622 [00:22<02:16,  3.81it/s]"
     ]
    },
    {
     "name": "stderr",
     "output_type": "stream",
     "text": [
      "\r",
      " 17%|█▋        | 104/622 [00:22<01:57,  4.43it/s]"
     ]
    },
    {
     "name": "stdout",
     "output_type": "stream",
     "text": [
      "bone-penn-532\n",
      "Does this patient have T1 available? True\n",
      "I'm doing the thing.\n",
      "bone-china-139\n",
      "Does this patient have T1 available? True\n",
      "I'm doing the thing.\n"
     ]
    },
    {
     "name": "stderr",
     "output_type": "stream",
     "text": [
      "\r",
      " 17%|█▋        | 105/622 [00:22<01:37,  5.31it/s]"
     ]
    },
    {
     "name": "stdout",
     "output_type": "stream",
     "text": [
      "bone-penn-274\n",
      "Does this patient have T1 available? True\n",
      "I'm doing the thing.\n"
     ]
    },
    {
     "name": "stderr",
     "output_type": "stream",
     "text": [
      "\r",
      " 17%|█▋        | 106/622 [00:23<03:16,  2.62it/s]"
     ]
    },
    {
     "name": "stderr",
     "output_type": "stream",
     "text": [
      "\r",
      " 17%|█▋        | 107/622 [00:23<02:41,  3.19it/s]"
     ]
    },
    {
     "name": "stdout",
     "output_type": "stream",
     "text": [
      "bone-china-101\n",
      "Does this patient have T1 available? True\n",
      "I'm doing the thing.\n",
      "bone-penn-299\n",
      "Does this patient have T1 available? True\n",
      "I'm doing the thing.\n"
     ]
    },
    {
     "name": "stderr",
     "output_type": "stream",
     "text": [
      "\r",
      " 17%|█▋        | 108/622 [00:23<02:18,  3.71it/s]"
     ]
    },
    {
     "name": "stderr",
     "output_type": "stream",
     "text": [
      "\r",
      " 18%|█▊        | 109/622 [00:23<01:59,  4.29it/s]"
     ]
    },
    {
     "name": "stdout",
     "output_type": "stream",
     "text": [
      "bone-hup-309\n",
      "Does this patient have T1 available? True\n",
      "I'm doing the thing.\n",
      "bone-penn-490\n",
      "Does this patient have T1 available? True\n",
      "I'm doing the thing.\n"
     ]
    },
    {
     "name": "stderr",
     "output_type": "stream",
     "text": [
      "\r",
      " 18%|█▊        | 110/622 [00:24<02:22,  3.60it/s]"
     ]
    },
    {
     "name": "stderr",
     "output_type": "stream",
     "text": [
      "\r",
      " 18%|█▊        | 112/622 [00:24<01:51,  4.58it/s]"
     ]
    },
    {
     "name": "stdout",
     "output_type": "stream",
     "text": [
      "bone-penn-140\n",
      "Does this patient have T1 available? True\n",
      "I'm doing the thing.\n",
      "bone-hup-3\n",
      "Does this patient have T1 available? True\n",
      "I'm doing the thing.\n",
      "bone-china-109\n",
      "Does this patient have T1 available? True\n",
      "I'm doing the thing.\n"
     ]
    },
    {
     "name": "stderr",
     "output_type": "stream",
     "text": [
      "\r",
      " 18%|█▊        | 113/622 [00:24<01:37,  5.23it/s]"
     ]
    },
    {
     "name": "stdout",
     "output_type": "stream",
     "text": [
      "bone-penn-278\n",
      "Does this patient have T1 available? True\n",
      "I'm doing the thing.\n"
     ]
    },
    {
     "name": "stderr",
     "output_type": "stream",
     "text": [
      "\r",
      " 18%|█▊        | 114/622 [00:24<01:39,  5.11it/s]"
     ]
    },
    {
     "name": "stdout",
     "output_type": "stream",
     "text": [
      "bone-penn-134\n",
      "Does this patient have T1 available? True\n",
      "I'm doing the thing.\n"
     ]
    },
    {
     "name": "stderr",
     "output_type": "stream",
     "text": [
      "\r",
      " 18%|█▊        | 115/622 [00:24<01:53,  4.48it/s]"
     ]
    },
    {
     "name": "stderr",
     "output_type": "stream",
     "text": [
      "\r",
      " 19%|█▊        | 116/622 [00:25<01:34,  5.33it/s]"
     ]
    },
    {
     "name": "stdout",
     "output_type": "stream",
     "text": [
      "bone-china-160\n",
      "Does this patient have T1 available? True\n",
      "I'm doing the thing.\n",
      "bone-penn-067\n",
      "Does this patient have T1 available? True\n",
      "I'm doing the thing.\n",
      "bone-penn-550\n",
      "Does this patient have T1 available? True\n",
      "I'm doing the thing.\n"
     ]
    },
    {
     "name": "stderr",
     "output_type": "stream",
     "text": [
      "\r",
      " 19%|█▉        | 118/622 [00:25<01:17,  6.52it/s]"
     ]
    },
    {
     "name": "stderr",
     "output_type": "stream",
     "text": [
      "\r",
      " 19%|█▉        | 119/622 [00:25<01:09,  7.27it/s]"
     ]
    },
    {
     "name": "stdout",
     "output_type": "stream",
     "text": [
      "bone-china-112\n",
      "Does this patient have T1 available? True\n",
      "I'm doing the thing.\n",
      "bone-penn-487\n",
      "Does this patient have T1 available? True\n",
      "I'm doing the thing.\n"
     ]
    },
    {
     "name": "stderr",
     "output_type": "stream",
     "text": [
      "\r",
      " 19%|█▉        | 120/622 [00:25<01:49,  4.59it/s]"
     ]
    },
    {
     "name": "stdout",
     "output_type": "stream",
     "text": [
      "bone-hup-278\n",
      "Does this patient have T1 available? True\n",
      "I'm doing the thing.\n",
      "bone-penn-435\n",
      "Does this patient have T1 available? True\n",
      "I'm doing the thing.\n"
     ]
    },
    {
     "name": "stderr",
     "output_type": "stream",
     "text": [
      "\r",
      " 20%|█▉        | 122/622 [00:26<01:47,  4.65it/s]"
     ]
    },
    {
     "name": "stdout",
     "output_type": "stream",
     "text": [
      "bone-penn-496\n",
      "Does this patient have T1 available? True\n",
      "I'm doing the thing.\n"
     ]
    },
    {
     "name": "stderr",
     "output_type": "stream",
     "text": [
      "\r",
      " 20%|█▉        | 123/622 [00:28<07:41,  1.08it/s]"
     ]
    },
    {
     "name": "stdout",
     "output_type": "stream",
     "text": [
      "bone-china-026\n",
      "Does this patient have T1 available? True\n",
      "I'm doing the thing.\n",
      "bone-penn-347\n",
      "Does this patient have T1 available? True\n",
      "I'm doing the thing.\n"
     ]
    },
    {
     "name": "stderr",
     "output_type": "stream",
     "text": [
      "\r",
      " 20%|██        | 125/622 [00:28<05:45,  1.44it/s]"
     ]
    },
    {
     "name": "stdout",
     "output_type": "stream",
     "text": [
      "bone-penn-535\n",
      "Does this patient have T1 available? True\n",
      "I'm doing the thing.\n"
     ]
    },
    {
     "name": "stderr",
     "output_type": "stream",
     "text": [
      "\r",
      " 20%|██        | 126/622 [00:29<04:32,  1.82it/s]"
     ]
    },
    {
     "name": "stderr",
     "output_type": "stream",
     "text": [
      "\r",
      " 20%|██        | 127/622 [00:29<03:38,  2.26it/s]"
     ]
    },
    {
     "name": "stdout",
     "output_type": "stream",
     "text": [
      "bone-china-070\n",
      "Does this patient have T1 available? True\n",
      "I'm doing the thing.\n",
      "bone-penn-027\n",
      "Does this patient have T1 available? True\n",
      "I'm doing the thing.\n"
     ]
    },
    {
     "name": "stderr",
     "output_type": "stream",
     "text": [
      "\r",
      " 21%|██        | 128/622 [00:29<03:56,  2.09it/s]"
     ]
    },
    {
     "name": "stdout",
     "output_type": "stream",
     "text": [
      "bone-penn-112\n",
      "Does this patient have T1 available? True\n",
      "I'm doing the thing.\n"
     ]
    },
    {
     "name": "stderr",
     "output_type": "stream",
     "text": [
      "\r",
      " 21%|██        | 129/622 [00:30<04:07,  1.99it/s]"
     ]
    },
    {
     "name": "stderr",
     "output_type": "stream",
     "text": [
      "\r",
      " 21%|██        | 130/622 [00:30<03:18,  2.48it/s]"
     ]
    },
    {
     "name": "stdout",
     "output_type": "stream",
     "text": [
      "bone-china-117\n",
      "Does this patient have T1 available? True\n",
      "I'm doing the thing.\n",
      "bone-penn-509\n",
      "Does this patient have T1 available? True\n",
      "I'm doing the thing.\n"
     ]
    },
    {
     "name": "stderr",
     "output_type": "stream",
     "text": [
      "\r",
      " 21%|██        | 132/622 [00:30<02:35,  3.14it/s]"
     ]
    },
    {
     "name": "stdout",
     "output_type": "stream",
     "text": [
      "bone-penn-518\n",
      "Does this patient have T1 available? True\n",
      "I'm doing the thing.\n",
      "bone-penn-553\n",
      "Does this patient have T1 available? True\n",
      "I'm doing the thing.\n"
     ]
    },
    {
     "name": "stderr",
     "output_type": "stream",
     "text": [
      "\r",
      " 21%|██▏       | 133/622 [00:31<02:08,  3.80it/s]"
     ]
    },
    {
     "name": "stderr",
     "output_type": "stream",
     "text": [
      "\r",
      " 22%|██▏       | 134/622 [00:31<01:46,  4.58it/s]"
     ]
    },
    {
     "name": "stdout",
     "output_type": "stream",
     "text": [
      "bone-china-110\n",
      "Does this patient have T1 available? True\n",
      "I'm doing the thing.\n",
      "bone-penn-595\n",
      "Does this patient have T1 available? True\n",
      "I'm doing the thing.\n"
     ]
    },
    {
     "name": "stderr",
     "output_type": "stream",
     "text": [
      "\r",
      " 22%|██▏       | 135/622 [00:31<02:29,  3.26it/s]"
     ]
    },
    {
     "name": "stderr",
     "output_type": "stream",
     "text": [
      "\r",
      " 22%|██▏       | 136/622 [00:31<02:05,  3.86it/s]"
     ]
    },
    {
     "name": "stdout",
     "output_type": "stream",
     "text": [
      "bone-china-140\n",
      "Does this patient have T1 available? True\n",
      "I'm doing the thing.\n",
      "bone-penn-070\n",
      "Does this patient have T1 available? True\n",
      "I'm doing the thing.\n"
     ]
    },
    {
     "name": "stderr",
     "output_type": "stream",
     "text": [
      "\r",
      " 22%|██▏       | 137/622 [00:32<02:00,  4.02it/s]"
     ]
    },
    {
     "name": "stderr",
     "output_type": "stream",
     "text": [
      "\r",
      " 22%|██▏       | 138/622 [00:32<01:52,  4.32it/s]"
     ]
    },
    {
     "name": "stdout",
     "output_type": "stream",
     "text": [
      "bone-china-010\n",
      "Does this patient have T1 available? True\n",
      "I'm doing the thing.\n",
      "bone-hup-147\n",
      "Does this patient have T1 available? True\n",
      "I'm doing the thing.\n"
     ]
    },
    {
     "name": "stderr",
     "output_type": "stream",
     "text": [
      "\r",
      " 22%|██▏       | 139/622 [00:32<02:29,  3.24it/s]"
     ]
    },
    {
     "name": "stderr",
     "output_type": "stream",
     "text": [
      "\r",
      " 23%|██▎       | 140/622 [00:32<02:08,  3.75it/s]"
     ]
    },
    {
     "name": "stdout",
     "output_type": "stream",
     "text": [
      "bone-china-044\n",
      "Does this patient have T1 available? True\n",
      "I'm doing the thing.\n",
      "bone-penn-296\n",
      "Does this patient have T1 available? True\n",
      "I'm doing the thing.\n"
     ]
    },
    {
     "name": "stderr",
     "output_type": "stream",
     "text": [
      "\r",
      " 23%|██▎       | 141/622 [00:33<01:46,  4.50it/s]"
     ]
    },
    {
     "name": "stdout",
     "output_type": "stream",
     "text": [
      "bone-penn-541\n",
      "Does this patient have T1 available? True\n",
      "I'm doing the thing.\n"
     ]
    },
    {
     "name": "stderr",
     "output_type": "stream",
     "text": [
      "\r",
      " 23%|██▎       | 142/622 [00:33<02:12,  3.62it/s]"
     ]
    },
    {
     "name": "stdout",
     "output_type": "stream",
     "text": [
      "bone-penn-565\n",
      "Does this patient have T1 available? True\n",
      "I'm doing the thing.\n"
     ]
    },
    {
     "name": "stderr",
     "output_type": "stream",
     "text": [
      "\r",
      " 23%|██▎       | 143/622 [00:33<02:25,  3.28it/s]"
     ]
    },
    {
     "name": "stderr",
     "output_type": "stream",
     "text": [
      "\r",
      " 23%|██▎       | 144/622 [00:33<02:03,  3.87it/s]"
     ]
    },
    {
     "name": "stdout",
     "output_type": "stream",
     "text": [
      "bone-china-060\n",
      "Does this patient have T1 available? True\n",
      "I'm doing the thing.\n",
      "bone-penn-369\n",
      "Does this patient have T1 available? True\n",
      "I'm doing the thing.\n"
     ]
    },
    {
     "name": "stderr",
     "output_type": "stream",
     "text": [
      "\r",
      " 23%|██▎       | 145/622 [00:34<01:45,  4.54it/s]"
     ]
    },
    {
     "name": "stdout",
     "output_type": "stream",
     "text": [
      "bone-penn-150\n",
      "Does this patient have T1 available? True\n",
      "I'm doing the thing.\n"
     ]
    },
    {
     "name": "stderr",
     "output_type": "stream",
     "text": [
      "\r",
      " 23%|██▎       | 146/622 [00:34<02:00,  3.95it/s]"
     ]
    },
    {
     "name": "stderr",
     "output_type": "stream",
     "text": [
      "\r",
      " 24%|██▎       | 147/622 [00:34<01:42,  4.65it/s]"
     ]
    },
    {
     "name": "stdout",
     "output_type": "stream",
     "text": [
      "bone-china-168\n",
      "Does this patient have T1 available? True\n",
      "I'm doing the thing.\n",
      "bone-china-144\n",
      "Does this patient have T1 available? True\n",
      "I'm doing the thing.\n"
     ]
    },
    {
     "name": "stderr",
     "output_type": "stream",
     "text": [
      "\r",
      " 24%|██▍       | 148/622 [00:34<01:40,  4.71it/s]"
     ]
    },
    {
     "name": "stdout",
     "output_type": "stream",
     "text": [
      "bone-hup-321\n",
      "Does this patient have T1 available? True\n",
      "I'm doing the thing.\n"
     ]
    },
    {
     "name": "stderr",
     "output_type": "stream",
     "text": [
      "\r",
      " 24%|██▍       | 149/622 [00:35<02:10,  3.61it/s]"
     ]
    },
    {
     "name": "stderr",
     "output_type": "stream",
     "text": [
      "\r",
      " 24%|██▍       | 150/622 [00:35<01:55,  4.09it/s]"
     ]
    },
    {
     "name": "stdout",
     "output_type": "stream",
     "text": [
      "bone-china-037\n",
      "Does this patient have T1 available? True\n",
      "I'm doing the thing.\n",
      "bone-china-009\n",
      "Does this patient have T1 available? True\n",
      "I'm doing the thing.\n"
     ]
    },
    {
     "name": "stderr",
     "output_type": "stream",
     "text": [
      "\r",
      " 24%|██▍       | 152/622 [00:35<01:32,  5.11it/s]"
     ]
    },
    {
     "name": "stdout",
     "output_type": "stream",
     "text": [
      "bone-hup-293\n",
      "Does this patient have T1 available? True\n",
      "I'm doing the thing.\n",
      "bone-penn-028\n",
      "Does this patient have T1 available? True\n",
      "I'm doing the thing.\n"
     ]
    },
    {
     "name": "stderr",
     "output_type": "stream",
     "text": [
      "\r",
      " 25%|██▍       | 153/622 [00:35<01:21,  5.74it/s]"
     ]
    },
    {
     "name": "stderr",
     "output_type": "stream",
     "text": [
      "\r",
      " 25%|██▍       | 154/622 [00:35<01:21,  5.74it/s]"
     ]
    },
    {
     "name": "stdout",
     "output_type": "stream",
     "text": [
      "bone-china-085\n",
      "Does this patient have T1 available? True\n",
      "I'm doing the thing.\n",
      "bone-china-115\n",
      "Does this patient have T1 available? True\n",
      "I'm doing the thing.\n"
     ]
    },
    {
     "name": "stderr",
     "output_type": "stream",
     "text": [
      "\r",
      " 25%|██▍       | 155/622 [00:36<01:26,  5.39it/s]"
     ]
    },
    {
     "name": "stderr",
     "output_type": "stream",
     "text": [
      "\r",
      " 25%|██▌       | 157/622 [00:36<01:12,  6.43it/s]"
     ]
    },
    {
     "name": "stdout",
     "output_type": "stream",
     "text": [
      "bone-penn-317\n",
      "Does this patient have T1 available? True\n",
      "I'm doing the thing.\n",
      "bone-china-103\n",
      "Does this patient have T1 available? True\n",
      "I'm doing the thing.\n",
      "bone-china-034\n",
      "Does this patient have T1 available? True\n",
      "I'm doing the thing.\n"
     ]
    },
    {
     "name": "stderr",
     "output_type": "stream",
     "text": [
      "\r",
      " 25%|██▌       | 158/622 [00:36<01:19,  5.85it/s]"
     ]
    },
    {
     "name": "stdout",
     "output_type": "stream",
     "text": [
      "bone-hup-146\n",
      "Does this patient have T1 available? True\n",
      "I'm doing the thing.\n",
      "bone-penn-152\n",
      "Does this patient have T1 available? True\n",
      "I'm doing the thing.\n"
     ]
    },
    {
     "name": "stderr",
     "output_type": "stream",
     "text": [
      "\r",
      " 26%|██▌       | 160/622 [00:36<01:18,  5.87it/s]"
     ]
    },
    {
     "name": "stdout",
     "output_type": "stream",
     "text": [
      "bone-penn-275\n",
      "Does this patient have T1 available? True\n",
      "I'm doing the thing.\n",
      "bone-hup-275\n",
      "Does this patient have T1 available? True\n",
      "I'm doing the thing.\n"
     ]
    },
    {
     "name": "stderr",
     "output_type": "stream",
     "text": [
      "\r",
      " 26%|██▌       | 162/622 [00:37<01:41,  4.53it/s]"
     ]
    },
    {
     "name": "stderr",
     "output_type": "stream",
     "text": [
      "\r",
      " 26%|██▌       | 163/622 [00:37<01:38,  4.64it/s]"
     ]
    },
    {
     "name": "stdout",
     "output_type": "stream",
     "text": [
      "bone-china-100\n",
      "Does this patient have T1 available? True\n",
      "I'm doing the thing.\n",
      "bone-penn-042\n",
      "Does this patient have T1 available? True\n",
      "I'm doing the thing.\n"
     ]
    },
    {
     "name": "stderr",
     "output_type": "stream",
     "text": [
      "\r",
      " 26%|██▋       | 164/622 [00:37<01:28,  5.16it/s]"
     ]
    },
    {
     "name": "stdout",
     "output_type": "stream",
     "text": [
      "bone-china-154\n",
      "Does this patient have T1 available? True\n",
      "I'm doing the thing.\n",
      "bone-penn-96\n",
      "Does this patient have T1 available? True\n",
      "I'm doing the thing.\n"
     ]
    },
    {
     "name": "stderr",
     "output_type": "stream",
     "text": [
      "\r",
      " 27%|██▋       | 166/622 [00:37<01:16,  6.00it/s]"
     ]
    },
    {
     "name": "stdout",
     "output_type": "stream",
     "text": [
      "bone-penn-527\n",
      "Does this patient have T1 available? True\n",
      "I'm doing the thing.\n"
     ]
    },
    {
     "name": "stderr",
     "output_type": "stream",
     "text": [
      "\r",
      " 27%|██▋       | 167/622 [00:38<01:49,  4.14it/s]"
     ]
    },
    {
     "name": "stderr",
     "output_type": "stream",
     "text": [
      "\r",
      " 27%|██▋       | 168/622 [00:38<01:34,  4.82it/s]"
     ]
    },
    {
     "name": "stdout",
     "output_type": "stream",
     "text": [
      "bone-penn-004\n",
      "Does this patient have T1 available? True\n",
      "I'm doing the thing.\n",
      "bone-penn-108\n",
      "Does this patient have T1 available? True\n",
      "I'm doing the thing.\n"
     ]
    },
    {
     "name": "stderr",
     "output_type": "stream",
     "text": [
      "\r",
      " 27%|██▋       | 169/622 [00:39<02:15,  3.33it/s]"
     ]
    },
    {
     "name": "stdout",
     "output_type": "stream",
     "text": [
      "bone-china-035\n",
      "Does this patient have T1 available? True\n",
      "I'm doing the thing.\n",
      "bone-penn-051\n",
      "Does this patient have T1 available? True\n",
      "I'm doing the thing.\n"
     ]
    },
    {
     "name": "stderr",
     "output_type": "stream",
     "text": [
      "\r",
      " 27%|██▋       | 171/622 [00:39<02:04,  3.63it/s]"
     ]
    },
    {
     "name": "stdout",
     "output_type": "stream",
     "text": [
      "bone-penn-612\n",
      "Does this patient have T1 available? True\n",
      "I'm doing the thing.\n"
     ]
    },
    {
     "name": "stderr",
     "output_type": "stream",
     "text": [
      "\r",
      " 28%|██▊       | 172/622 [00:40<02:47,  2.68it/s]"
     ]
    },
    {
     "name": "stderr",
     "output_type": "stream",
     "text": [
      "\r",
      " 28%|██▊       | 173/622 [00:40<02:21,  3.18it/s]"
     ]
    },
    {
     "name": "stdout",
     "output_type": "stream",
     "text": [
      "bone-penn-502\n",
      "Does this patient have T1 available? True\n",
      "I'm doing the thing.\n",
      "bone-penn-97\n",
      "Does this patient have T1 available? True\n",
      "I'm doing the thing.\n"
     ]
    },
    {
     "name": "stderr",
     "output_type": "stream",
     "text": [
      "\r",
      " 28%|██▊       | 174/622 [00:40<02:29,  3.00it/s]"
     ]
    },
    {
     "name": "stderr",
     "output_type": "stream",
     "text": [
      "\r",
      " 28%|██▊       | 175/622 [00:40<02:05,  3.58it/s]"
     ]
    },
    {
     "name": "stdout",
     "output_type": "stream",
     "text": [
      "bone-china-073\n",
      "Does this patient have T1 available? True\n",
      "I'm doing the thing.\n",
      "bone-china-173\n",
      "Does this patient have T1 available? True\n",
      "I'm doing the thing.\n"
     ]
    },
    {
     "name": "stderr",
     "output_type": "stream",
     "text": [
      "\r",
      " 28%|██▊       | 177/622 [00:40<01:39,  4.46it/s]"
     ]
    },
    {
     "name": "stdout",
     "output_type": "stream",
     "text": [
      "bone-penn-549\n",
      "Does this patient have T1 available? True\n",
      "I'm doing the thing.\n",
      "bone-penn-349\n",
      "Does this patient have T1 available? True\n",
      "I'm doing the thing.\n"
     ]
    },
    {
     "name": "stderr",
     "output_type": "stream",
     "text": [
      "\r",
      " 29%|██▉       | 179/622 [00:41<01:23,  5.29it/s]"
     ]
    },
    {
     "name": "stdout",
     "output_type": "stream",
     "text": [
      "bone-penn-456\n",
      "Does this patient have T1 available? True\n",
      "I'm doing the thing.\n",
      "bone-hup-267\n",
      "Does this patient have T1 available? True\n",
      "I'm doing the thing.\n",
      "bone-china-135\n",
      "Does this patient have T1 available? True\n",
      "I'm doing the thing.\n"
     ]
    },
    {
     "name": "stderr",
     "output_type": "stream",
     "text": [
      "\r",
      " 29%|██▉       | 181/622 [00:41<01:11,  6.16it/s]"
     ]
    },
    {
     "name": "stdout",
     "output_type": "stream",
     "text": [
      "bone-hup-291\n",
      "Does this patient have T1 available? True\n",
      "I'm doing the thing.\n"
     ]
    },
    {
     "name": "stderr",
     "output_type": "stream",
     "text": [
      "\r",
      " 29%|██▉       | 182/622 [00:41<01:21,  5.39it/s]"
     ]
    },
    {
     "name": "stderr",
     "output_type": "stream",
     "text": [
      "\r",
      " 29%|██▉       | 183/622 [00:41<01:21,  5.38it/s]"
     ]
    },
    {
     "name": "stdout",
     "output_type": "stream",
     "text": [
      "bone-penn-575\n",
      "Does this patient have T1 available? True\n",
      "I'm doing the thing.\n",
      "bone-hup-276\n",
      "Does this patient have T1 available? True\n",
      "I'm doing the thing.\n"
     ]
    },
    {
     "name": "stdout",
     "output_type": "stream",
     "text": [
      "bone-penn-99\n",
      "Does this patient have T1 available? True\n",
      "I'm doing the thing.\n"
     ]
    },
    {
     "name": "stderr",
     "output_type": "stream",
     "text": [
      "\r",
      " 30%|██▉       | 185/622 [00:42<01:15,  5.79it/s]"
     ]
    },
    {
     "name": "stderr",
     "output_type": "stream",
     "text": [
      "\r",
      " 30%|██▉       | 186/622 [00:42<01:17,  5.62it/s]"
     ]
    },
    {
     "name": "stdout",
     "output_type": "stream",
     "text": [
      "bone-penn-568\n",
      "Does this patient have T1 available? True\n",
      "I'm doing the thing.\n",
      "bone-china-041\n",
      "Does this patient have T1 available? True\n",
      "I'm doing the thing.\n"
     ]
    },
    {
     "name": "stderr",
     "output_type": "stream",
     "text": [
      "\r",
      " 30%|███       | 187/622 [00:42<01:11,  6.06it/s]"
     ]
    },
    {
     "name": "stderr",
     "output_type": "stream",
     "text": [
      "\r",
      " 30%|███       | 189/622 [00:42<01:02,  6.94it/s]"
     ]
    },
    {
     "name": "stdout",
     "output_type": "stream",
     "text": [
      "bone-china-029\n",
      "Does this patient have T1 available? True\n",
      "I'm doing the thing.\n",
      "bone-china-158\n",
      "Does this patient have T1 available? True\n",
      "I'm doing the thing.\n",
      "bone-china-132\n",
      "Does this patient have T1 available? True\n",
      "I'm doing the thing.\n"
     ]
    },
    {
     "name": "stderr",
     "output_type": "stream",
     "text": [
      "\r",
      " 31%|███       | 190/622 [00:42<01:03,  6.82it/s]"
     ]
    },
    {
     "name": "stderr",
     "output_type": "stream",
     "text": [
      "\r",
      " 31%|███       | 191/622 [00:42<01:02,  6.90it/s]"
     ]
    },
    {
     "name": "stdout",
     "output_type": "stream",
     "text": [
      "bone-hup-119\n",
      "Does this patient have T1 available? True\n",
      "I'm doing the thing.\n",
      "bone-hup-154\n",
      "Does this patient have T1 available? True\n",
      "I'm doing the thing.\n"
     ]
    },
    {
     "name": "stderr",
     "output_type": "stream",
     "text": [
      "\r",
      " 31%|███       | 192/622 [00:43<01:07,  6.39it/s]"
     ]
    },
    {
     "name": "stdout",
     "output_type": "stream",
     "text": [
      "bone-penn-571\n",
      "Does this patient have T1 available? True\n",
      "I'm doing the thing.\n",
      "bone-penn-413\n",
      "Does this patient have T1 available? True\n",
      "I'm doing the thing.\n"
     ]
    },
    {
     "name": "stderr",
     "output_type": "stream",
     "text": [
      "\r",
      " 31%|███       | 194/622 [00:43<01:01,  6.96it/s]"
     ]
    },
    {
     "name": "stdout",
     "output_type": "stream",
     "text": [
      "bone-china-092\n",
      "Does this patient have T1 available? True\n",
      "I'm doing the thing.\n",
      "bone-china-086\n",
      "Does this patient have T1 available? True\n",
      "I'm doing the thing.\n"
     ]
    },
    {
     "name": "stderr",
     "output_type": "stream",
     "text": [
      "\r",
      " 32%|███▏      | 196/622 [00:43<00:57,  7.46it/s]"
     ]
    },
    {
     "name": "stderr",
     "output_type": "stream",
     "text": [
      "\r",
      " 32%|███▏      | 197/622 [00:43<00:56,  7.50it/s]"
     ]
    },
    {
     "name": "stdout",
     "output_type": "stream",
     "text": [
      "bone-penn-304\n",
      "Does this patient have T1 available? True\n",
      "I'm doing the thing.\n",
      "bone-china-119\n",
      "Does this patient have T1 available? True\n",
      "I'm doing the thing.\n"
     ]
    },
    {
     "name": "stderr",
     "output_type": "stream",
     "text": [
      "\r",
      " 32%|███▏      | 199/622 [00:43<00:49,  8.53it/s]"
     ]
    },
    {
     "name": "stdout",
     "output_type": "stream",
     "text": [
      "bone-penn-286\n",
      "Does this patient have T1 available? True\n",
      "I'm doing the thing.\n",
      "bone-china-126\n",
      "Does this patient have T1 available? True\n",
      "I'm doing the thing.\n"
     ]
    },
    {
     "name": "stderr",
     "output_type": "stream",
     "text": [
      "\r",
      " 32%|███▏      | 200/622 [00:44<01:04,  6.51it/s]"
     ]
    },
    {
     "name": "stdout",
     "output_type": "stream",
     "text": [
      "bone-china-045\n",
      "Does this patient have T1 available? True\n",
      "I'm doing the thing.\n"
     ]
    },
    {
     "name": "stderr",
     "output_type": "stream",
     "text": [
      "\r",
      " 32%|███▏      | 201/622 [00:44<01:28,  4.78it/s]"
     ]
    },
    {
     "name": "stdout",
     "output_type": "stream",
     "text": [
      "bone-penn-320\n",
      "Does this patient have T1 available? True\n",
      "I'm doing the thing.\n"
     ]
    },
    {
     "name": "stderr",
     "output_type": "stream",
     "text": [
      "\r",
      " 32%|███▏      | 202/622 [00:44<01:30,  4.66it/s]"
     ]
    },
    {
     "name": "stdout",
     "output_type": "stream",
     "text": [
      "bone-penn-501\n",
      "Does this patient have T1 available? True\n",
      "I'm doing the thing.\n"
     ]
    },
    {
     "name": "stderr",
     "output_type": "stream",
     "text": [
      "\r",
      " 33%|███▎      | 203/622 [00:46<05:59,  1.17it/s]"
     ]
    },
    {
     "name": "stderr",
     "output_type": "stream",
     "text": [
      "\r",
      " 33%|███▎      | 204/622 [00:47<04:33,  1.53it/s]"
     ]
    },
    {
     "name": "stdout",
     "output_type": "stream",
     "text": [
      "bone-penn-480\n",
      "Does this patient have T1 available? True\n",
      "I'm doing the thing.\n",
      "bone-penn-154\n",
      "Does this patient have T1 available? True\n",
      "I'm doing the thing.\n"
     ]
    },
    {
     "name": "stderr",
     "output_type": "stream",
     "text": [
      "\r",
      " 33%|███▎      | 206/622 [00:47<03:18,  2.10it/s]"
     ]
    },
    {
     "name": "stdout",
     "output_type": "stream",
     "text": [
      "bone-penn-141\n",
      "Does this patient have T1 available? True\n",
      "I'm doing the thing.\n",
      "bone-penn-401\n",
      "Does this patient have T1 available? True\n",
      "I'm doing the thing.\n"
     ]
    },
    {
     "name": "stderr",
     "output_type": "stream",
     "text": [
      "\r",
      " 33%|███▎      | 207/622 [00:47<02:48,  2.46it/s]"
     ]
    },
    {
     "name": "stderr",
     "output_type": "stream",
     "text": [
      "\r",
      " 33%|███▎      | 208/622 [00:47<02:20,  2.95it/s]"
     ]
    },
    {
     "name": "stdout",
     "output_type": "stream",
     "text": [
      "bone-china-091\n",
      "Does this patient have T1 available? True\n",
      "I'm doing the thing.\n",
      "bone-china-134\n",
      "Does this patient have T1 available? True\n",
      "I'm doing the thing.\n"
     ]
    },
    {
     "name": "stderr",
     "output_type": "stream",
     "text": [
      "\r",
      " 34%|███▎      | 209/622 [00:47<02:04,  3.31it/s]"
     ]
    },
    {
     "name": "stderr",
     "output_type": "stream",
     "text": [
      "\r",
      " 34%|███▍      | 210/622 [00:48<01:47,  3.84it/s]"
     ]
    },
    {
     "name": "stdout",
     "output_type": "stream",
     "text": [
      "bone-penn-348\n",
      "Does this patient have T1 available? True\n",
      "I'm doing the thing.\n",
      "bone-china-116\n",
      "Does this patient have T1 available? True\n",
      "I'm doing the thing.\n"
     ]
    },
    {
     "name": "stderr",
     "output_type": "stream",
     "text": [
      "\r",
      " 34%|███▍      | 212/622 [00:48<01:23,  4.88it/s]"
     ]
    },
    {
     "name": "stdout",
     "output_type": "stream",
     "text": [
      "bone-penn-488\n",
      "Does this patient have T1 available? True\n",
      "I'm doing the thing.\n",
      "bone-penn-556\n",
      "Does this patient have T1 available? True\n",
      "I'm doing the thing.\n"
     ]
    },
    {
     "name": "stderr",
     "output_type": "stream",
     "text": [
      "\r",
      " 34%|███▍      | 213/622 [00:48<01:24,  4.86it/s]"
     ]
    },
    {
     "name": "stderr",
     "output_type": "stream",
     "text": [
      "\r",
      " 34%|███▍      | 214/622 [00:48<01:11,  5.71it/s]"
     ]
    },
    {
     "name": "stdout",
     "output_type": "stream",
     "text": [
      "bone-china-147\n",
      "Does this patient have T1 available? True\n",
      "I'm doing the thing.\n",
      "bone-china-066\n",
      "Does this patient have T1 available? True\n",
      "I'm doing the thing.\n",
      "bone-china-075\n",
      "Does this patient have T1 available? True\n",
      "I'm doing the thing.\n"
     ]
    },
    {
     "name": "stderr",
     "output_type": "stream",
     "text": [
      "\r",
      " 35%|███▍      | 216/622 [00:48<01:05,  6.24it/s]"
     ]
    },
    {
     "name": "stderr",
     "output_type": "stream",
     "text": [
      "\r",
      " 35%|███▍      | 217/622 [00:48<01:00,  6.70it/s]"
     ]
    },
    {
     "name": "stdout",
     "output_type": "stream",
     "text": [
      "bone-china-074\n",
      "Does this patient have T1 available? True\n",
      "I'm doing the thing.\n",
      "bone-penn-101\n",
      "Does this patient have T1 available? True\n",
      "I'm doing the thing.\n"
     ]
    },
    {
     "name": "stderr",
     "output_type": "stream",
     "text": [
      "\r",
      " 35%|███▌      | 218/622 [00:49<01:10,  5.70it/s]"
     ]
    },
    {
     "name": "stderr",
     "output_type": "stream",
     "text": [
      "\r",
      " 35%|███▌      | 219/622 [00:49<01:08,  5.85it/s]"
     ]
    },
    {
     "name": "stdout",
     "output_type": "stream",
     "text": [
      "bone-penn-057\n",
      "Does this patient have T1 available? True\n",
      "I'm doing the thing.\n",
      "bone-china-123\n",
      "Does this patient have T1 available? True\n",
      "I'm doing the thing.\n"
     ]
    },
    {
     "name": "stderr",
     "output_type": "stream",
     "text": [
      "\r",
      " 36%|███▌      | 221/622 [00:49<01:03,  6.35it/s]"
     ]
    },
    {
     "name": "stdout",
     "output_type": "stream",
     "text": [
      "bone-penn-459\n",
      "Does this patient have T1 available? True\n",
      "I'm doing the thing.\n",
      "bone-china-006\n",
      "Does this patient have T1 available? True\n",
      "I'm doing the thing.\n"
     ]
    },
    {
     "name": "stdout",
     "output_type": "stream",
     "text": [
      "bone-penn-334\n",
      "Does this patient have T1 available? True\n",
      "I'm doing the thing.\n"
     ]
    },
    {
     "name": "stderr",
     "output_type": "stream",
     "text": [
      "\r",
      " 36%|███▌      | 223/622 [00:50<01:14,  5.35it/s]"
     ]
    },
    {
     "name": "stderr",
     "output_type": "stream",
     "text": [
      "\r",
      " 36%|███▌      | 224/622 [00:50<01:04,  6.21it/s]"
     ]
    },
    {
     "name": "stdout",
     "output_type": "stream",
     "text": [
      "bone-china-016\n",
      "Does this patient have T1 available? True\n",
      "I'm doing the thing.\n",
      "bone-penn-516\n",
      "Does this patient have T1 available? True\n",
      "I'm doing the thing.\n"
     ]
    },
    {
     "name": "stderr",
     "output_type": "stream",
     "text": [
      "\r",
      " 36%|███▌      | 225/622 [00:50<01:22,  4.82it/s]"
     ]
    },
    {
     "name": "stdout",
     "output_type": "stream",
     "text": [
      "bone-penn-062\n",
      "Does this patient have T1 available? True\n",
      "I'm doing the thing.\n"
     ]
    },
    {
     "name": "stderr",
     "output_type": "stream",
     "text": [
      "\r",
      " 36%|███▋      | 226/622 [00:50<01:28,  4.49it/s]"
     ]
    },
    {
     "name": "stdout",
     "output_type": "stream",
     "text": [
      "bone-hup-266\n",
      "Does this patient have T1 available? True\n",
      "I'm doing the thing.\n"
     ]
    },
    {
     "name": "stderr",
     "output_type": "stream",
     "text": [
      "\r",
      " 36%|███▋      | 227/622 [00:51<01:31,  4.31it/s]"
     ]
    },
    {
     "name": "stderr",
     "output_type": "stream",
     "text": [
      "\r",
      " 37%|███▋      | 228/622 [00:51<01:24,  4.68it/s]"
     ]
    },
    {
     "name": "stdout",
     "output_type": "stream",
     "text": [
      "bone-penn-471\n",
      "Does this patient have T1 available? True\n",
      "I'm doing the thing.\n",
      "bone-penn-593\n",
      "Does this patient have T1 available? True\n",
      "I'm doing the thing.\n"
     ]
    },
    {
     "name": "stderr",
     "output_type": "stream",
     "text": [
      "\r",
      " 37%|███▋      | 229/622 [00:51<01:27,  4.50it/s]"
     ]
    },
    {
     "name": "stderr",
     "output_type": "stream",
     "text": [
      "\r",
      " 37%|███▋      | 230/622 [00:51<01:13,  5.34it/s]"
     ]
    },
    {
     "name": "stdout",
     "output_type": "stream",
     "text": [
      "bone-china-022\n",
      "Does this patient have T1 available? True\n",
      "I'm doing the thing.\n",
      "bone-penn-303\n",
      "Does this patient have T1 available? True\n",
      "I'm doing the thing.\n"
     ]
    },
    {
     "name": "stderr",
     "output_type": "stream",
     "text": [
      "\r",
      " 37%|███▋      | 231/622 [00:51<01:19,  4.94it/s]"
     ]
    },
    {
     "name": "stderr",
     "output_type": "stream",
     "text": [
      "\r",
      " 37%|███▋      | 232/622 [00:51<01:09,  5.65it/s]"
     ]
    },
    {
     "name": "stdout",
     "output_type": "stream",
     "text": [
      "bone-china-083\n",
      "Does this patient have T1 available? True\n",
      "I'm doing the thing.\n",
      "bone-china-099\n",
      "Does this patient have T1 available? True\n",
      "I'm doing the thing.\n"
     ]
    },
    {
     "name": "stderr",
     "output_type": "stream",
     "text": [
      "\r",
      " 37%|███▋      | 233/622 [00:51<00:59,  6.49it/s]"
     ]
    },
    {
     "name": "stderr",
     "output_type": "stream",
     "text": [
      "\r",
      " 38%|███▊      | 234/622 [00:52<00:55,  7.00it/s]"
     ]
    },
    {
     "name": "stdout",
     "output_type": "stream",
     "text": [
      "bone-penn-528\n",
      "Does this patient have T1 available? True\n",
      "I'm doing the thing.\n",
      "bone-penn-149\n",
      "Does this patient have T1 available? True\n",
      "I'm doing the thing.\n"
     ]
    },
    {
     "name": "stderr",
     "output_type": "stream",
     "text": [
      "\r",
      " 38%|███▊      | 235/622 [00:52<00:58,  6.65it/s]"
     ]
    },
    {
     "name": "stderr",
     "output_type": "stream",
     "text": [
      "\r",
      " 38%|███▊      | 236/622 [00:52<00:58,  6.63it/s]"
     ]
    },
    {
     "name": "stdout",
     "output_type": "stream",
     "text": [
      "bone-china-121\n",
      "Does this patient have T1 available? True\n",
      "I'm doing the thing.\n",
      "bone-penn-159\n",
      "Does this patient have T1 available? True\n",
      "I'm doing the thing.\n"
     ]
    },
    {
     "name": "stderr",
     "output_type": "stream",
     "text": [
      "\r",
      " 38%|███▊      | 238/622 [00:52<00:53,  7.12it/s]"
     ]
    },
    {
     "name": "stdout",
     "output_type": "stream",
     "text": [
      "bone-hup-274\n",
      "Does this patient have T1 available? True\n",
      "I'm doing the thing.\n",
      "bone-hup-328\n",
      "Does this patient have T1 available? True\n",
      "I'm doing the thing.\n"
     ]
    },
    {
     "name": "stderr",
     "output_type": "stream",
     "text": [
      "\r",
      " 38%|███▊      | 239/622 [00:53<01:34,  4.06it/s]"
     ]
    },
    {
     "name": "stdout",
     "output_type": "stream",
     "text": [
      "bone-hup-142\n",
      "Does this patient have T1 available? True\n",
      "I'm doing the thing.\n"
     ]
    },
    {
     "name": "stderr",
     "output_type": "stream",
     "text": [
      "\r",
      " 39%|███▊      | 240/622 [00:53<01:36,  3.97it/s]"
     ]
    },
    {
     "name": "stdout",
     "output_type": "stream",
     "text": [
      "bone-penn-87\n",
      "Does this patient have T1 available? True\n",
      "I'm doing the thing.\n"
     ]
    },
    {
     "name": "stderr",
     "output_type": "stream",
     "text": [
      "\r",
      " 39%|███▊      | 241/622 [00:53<01:57,  3.25it/s]"
     ]
    },
    {
     "name": "stderr",
     "output_type": "stream",
     "text": [
      "\r",
      " 39%|███▉      | 242/622 [00:53<01:37,  3.91it/s]"
     ]
    },
    {
     "name": "stdout",
     "output_type": "stream",
     "text": [
      "bone-china-071\n",
      "Does this patient have T1 available? True\n",
      "I'm doing the thing.\n",
      "bone-penn-592\n",
      "Does this patient have T1 available? True\n",
      "I'm doing the thing.\n",
      "bone-penn-498\n",
      "Does this patient have T1 available? True\n",
      "I'm doing the thing.\n"
     ]
    },
    {
     "name": "stderr",
     "output_type": "stream",
     "text": [
      "\r",
      " 39%|███▉      | 244/622 [00:54<01:16,  4.92it/s]"
     ]
    },
    {
     "name": "stderr",
     "output_type": "stream",
     "text": [
      "\r",
      " 39%|███▉      | 245/622 [00:54<01:16,  4.94it/s]"
     ]
    },
    {
     "name": "stdout",
     "output_type": "stream",
     "text": [
      "bone-china-088\n",
      "Does this patient have T1 available? True\n",
      "I'm doing the thing.\n",
      "bone-china-042\n",
      "Does this patient have T1 available? True\n",
      "I'm doing the thing.\n"
     ]
    },
    {
     "name": "stderr",
     "output_type": "stream",
     "text": [
      "\r",
      " 40%|███▉      | 246/622 [00:54<01:10,  5.35it/s]"
     ]
    },
    {
     "name": "stderr",
     "output_type": "stream",
     "text": [
      "\r",
      " 40%|███▉      | 247/622 [00:54<01:02,  6.05it/s]"
     ]
    },
    {
     "name": "stdout",
     "output_type": "stream",
     "text": [
      "bone-hup-129\n",
      "Does this patient have T1 available? True\n",
      "I'm doing the thing.\n",
      "bone-china-153\n",
      "Does this patient have T1 available? True\n",
      "I'm doing the thing.\n"
     ]
    },
    {
     "name": "stderr",
     "output_type": "stream",
     "text": [
      "\r",
      " 40%|███▉      | 248/622 [00:54<00:56,  6.59it/s]"
     ]
    },
    {
     "name": "stdout",
     "output_type": "stream",
     "text": [
      "bone-penn-137\n",
      "Does this patient have T1 available? True\n",
      "I'm doing the thing.\n",
      "bone-penn-508\n",
      "Does this patient have T1 available? True\n",
      "I'm doing the thing.\n"
     ]
    },
    {
     "name": "stderr",
     "output_type": "stream",
     "text": [
      "\r",
      " 40%|████      | 250/622 [00:54<00:54,  6.88it/s]"
     ]
    },
    {
     "name": "stdout",
     "output_type": "stream",
     "text": [
      "bone-penn-538\n",
      "Does this patient have T1 available? True\n",
      "I'm doing the thing.\n"
     ]
    },
    {
     "name": "stderr",
     "output_type": "stream",
     "text": [
      "\r",
      " 40%|████      | 251/622 [00:55<01:28,  4.19it/s]"
     ]
    },
    {
     "name": "stdout",
     "output_type": "stream",
     "text": [
      "bone-china-014\n",
      "Does this patient have T1 available? True\n",
      "I'm doing the thing.\n",
      "bone-penn-589\n",
      "Does this patient have T1 available? True\n",
      "I'm doing the thing.\n"
     ]
    },
    {
     "name": "stderr",
     "output_type": "stream",
     "text": [
      "\r",
      " 41%|████      | 253/622 [00:55<01:16,  4.85it/s]"
     ]
    },
    {
     "name": "stderr",
     "output_type": "stream",
     "text": [
      "\r",
      " 41%|████      | 254/622 [00:55<01:09,  5.30it/s]"
     ]
    },
    {
     "name": "stdout",
     "output_type": "stream",
     "text": [
      "bone-penn-446\n",
      "Does this patient have T1 available? True\n",
      "I'm doing the thing.\n",
      "bone-china-080\n",
      "Does this patient have T1 available? True\n",
      "I'm doing the thing.\n"
     ]
    },
    {
     "name": "stderr",
     "output_type": "stream",
     "text": [
      "\r",
      " 41%|████      | 255/622 [00:56<01:05,  5.63it/s]"
     ]
    },
    {
     "name": "stderr",
     "output_type": "stream",
     "text": [
      "\r",
      " 41%|████      | 256/622 [00:56<01:02,  5.83it/s]"
     ]
    },
    {
     "name": "stdout",
     "output_type": "stream",
     "text": [
      "bone-china-087\n",
      "Does this patient have T1 available? True\n",
      "I'm doing the thing.\n",
      "bone-penn-111\n",
      "Does this patient have T1 available? True\n",
      "I'm doing the thing.\n"
     ]
    },
    {
     "name": "stderr",
     "output_type": "stream",
     "text": [
      "\r",
      " 41%|████▏     | 257/622 [00:56<01:58,  3.07it/s]"
     ]
    },
    {
     "name": "stdout",
     "output_type": "stream",
     "text": [
      "bone-hup-330\n",
      "Does this patient have T1 available? True\n",
      "I'm doing the thing.\n"
     ]
    },
    {
     "name": "stderr",
     "output_type": "stream",
     "text": [
      "\r",
      " 41%|████▏     | 258/622 [00:57<02:06,  2.88it/s]"
     ]
    },
    {
     "name": "stdout",
     "output_type": "stream",
     "text": [
      "bone-china-131\n",
      "Does this patient have T1 available? True\n",
      "I'm doing the thing.\n",
      "bone-china-143\n",
      "Does this patient have T1 available? True\n",
      "I'm doing the thing.\n"
     ]
    },
    {
     "name": "stderr",
     "output_type": "stream",
     "text": [
      "\r",
      " 42%|████▏     | 260/622 [00:57<01:39,  3.63it/s]"
     ]
    },
    {
     "name": "stderr",
     "output_type": "stream",
     "text": [
      "\r",
      " 42%|████▏     | 261/622 [00:57<01:32,  3.92it/s]"
     ]
    },
    {
     "name": "stdout",
     "output_type": "stream",
     "text": [
      "bone-china-104\n",
      "Does this patient have T1 available? True\n",
      "I'm doing the thing.\n",
      "bone-china-155"
     ]
    },
    {
     "name": "stderr",
     "output_type": "stream",
     "text": [
      "\r",
      " 42%|████▏     | 262/622 [00:57<01:15,  4.79it/s]"
     ]
    },
    {
     "name": "stdout",
     "output_type": "stream",
     "text": [
      "\n",
      "Does this patient have T1 available? True\n",
      "I'm doing the thing.\n",
      "bone-penn-504\n",
      "Does this patient have T1 available? True\n",
      "I'm doing the thing.\n"
     ]
    },
    {
     "name": "stderr",
     "output_type": "stream",
     "text": [
      "\r",
      " 42%|████▏     | 263/622 [00:58<01:22,  4.37it/s]"
     ]
    },
    {
     "name": "stderr",
     "output_type": "stream",
     "text": [
      "\r",
      " 42%|████▏     | 264/622 [00:58<01:15,  4.76it/s]"
     ]
    },
    {
     "name": "stdout",
     "output_type": "stream",
     "text": [
      "bone-china-027\n",
      "Does this patient have T1 available? True\n",
      "I'm doing the thing.\n",
      "bone-hup-257\n",
      "Does this patient have T1 available? True\n",
      "I'm doing the thing.\n"
     ]
    },
    {
     "name": "stderr",
     "output_type": "stream",
     "text": [
      "\r",
      " 43%|████▎     | 266/622 [00:58<01:01,  5.82it/s]"
     ]
    },
    {
     "name": "stdout",
     "output_type": "stream",
     "text": [
      "bone-china-129\n",
      "Does this patient have T1 available? True\n",
      "I'm doing the thing.\n",
      "bone-penn-045\n",
      "Does this patient have T1 available? True\n",
      "I'm doing the thing.\n"
     ]
    },
    {
     "name": "stderr",
     "output_type": "stream",
     "text": [
      "\r",
      " 43%|████▎     | 267/622 [00:58<01:02,  5.68it/s]"
     ]
    },
    {
     "name": "stderr",
     "output_type": "stream",
     "text": [
      "\r",
      " 43%|████▎     | 268/622 [00:58<01:00,  5.89it/s]"
     ]
    },
    {
     "name": "stdout",
     "output_type": "stream",
     "text": [
      "bone-china-084\n",
      "Does this patient have T1 available? True\n",
      "I'm doing the thing.\n",
      "bone-hup-327\n",
      "Does this patient have T1 available? True\n",
      "I'm doing the thing.\n"
     ]
    },
    {
     "name": "stderr",
     "output_type": "stream",
     "text": [
      "\r",
      " 43%|████▎     | 269/622 [00:58<00:54,  6.49it/s]"
     ]
    },
    {
     "name": "stderr",
     "output_type": "stream",
     "text": [
      "\r",
      " 43%|████▎     | 270/622 [00:59<00:55,  6.40it/s]"
     ]
    },
    {
     "name": "stdout",
     "output_type": "stream",
     "text": [
      "bone-penn-313\n",
      "Does this patient have T1 available? True\n",
      "I'm doing the thing.\n",
      "bone-hup-292\n",
      "Does this patient have T1 available? True\n",
      "I'm doing the thing.\n"
     ]
    },
    {
     "name": "stderr",
     "output_type": "stream",
     "text": [
      "\r",
      " 44%|████▎     | 271/622 [00:59<00:49,  7.09it/s]"
     ]
    },
    {
     "name": "stderr",
     "output_type": "stream",
     "text": [
      "\r",
      " 44%|████▍     | 273/622 [00:59<00:44,  7.82it/s]"
     ]
    },
    {
     "name": "stdout",
     "output_type": "stream",
     "text": [
      "bone-penn-506\n",
      "Does this patient have T1 available? True\n",
      "I'm doing the thing.\n",
      "bone-penn-586\n",
      "Does this patient have T1 available? True\n",
      "I'm doing the thing.\n",
      "bone-china-138\n",
      "Does this patient have T1 available? True\n",
      "I'm doing the thing.\n"
     ]
    },
    {
     "name": "stderr",
     "output_type": "stream",
     "text": [
      "\r",
      " 44%|████▍     | 274/622 [00:59<00:45,  7.67it/s]"
     ]
    },
    {
     "name": "stdout",
     "output_type": "stream",
     "text": [
      "bone-hup-161\n",
      "Does this patient have T1 available? True\n",
      "I'm doing the thing.\n",
      "bone-hup-310\n",
      "Does this patient have T1 available? True\n",
      "I'm doing the thing.\n"
     ]
    },
    {
     "name": "stderr",
     "output_type": "stream",
     "text": [
      "\r",
      " 44%|████▍     | 276/622 [00:59<00:44,  7.78it/s]"
     ]
    },
    {
     "name": "stderr",
     "output_type": "stream",
     "text": [
      "\r",
      " 45%|████▍     | 277/622 [00:59<00:50,  6.78it/s]"
     ]
    },
    {
     "name": "stdout",
     "output_type": "stream",
     "text": [
      "bone-china-017\n",
      "Does this patient have T1 available? True\n",
      "I'm doing the thing.\n",
      "bone-penn-382\n",
      "Does this patient have T1 available? True\n",
      "I'm doing the thing.\n"
     ]
    },
    {
     "name": "stderr",
     "output_type": "stream",
     "text": [
      "\r",
      " 45%|████▍     | 278/622 [01:00<01:10,  4.85it/s]"
     ]
    },
    {
     "name": "stderr",
     "output_type": "stream",
     "text": [
      "\r",
      " 45%|████▍     | 279/622 [01:00<01:03,  5.37it/s]"
     ]
    },
    {
     "name": "stdout",
     "output_type": "stream",
     "text": [
      "bone-hup-122\n",
      "Does this patient have T1 available? True\n",
      "I'm doing the thing.\n",
      "bone-hup-126\n",
      "Does this patient have T1 available? True\n",
      "I'm doing the thing.\n"
     ]
    },
    {
     "name": "stderr",
     "output_type": "stream",
     "text": [
      "\r",
      " 45%|████▌     | 280/622 [01:00<01:20,  4.23it/s]"
     ]
    },
    {
     "name": "stderr",
     "output_type": "stream",
     "text": [
      "\r",
      " 45%|████▌     | 281/622 [01:00<01:16,  4.45it/s]"
     ]
    },
    {
     "name": "stdout",
     "output_type": "stream",
     "text": [
      "bone-hup-298\n",
      "Does this patient have T1 available? True\n",
      "I'm doing the thing.\n"
     ]
    },
    {
     "name": "stderr",
     "output_type": "stream",
     "text": [
      "\r",
      " 45%|████▌     | 282/622 [01:01<01:07,  5.01it/s]"
     ]
    },
    {
     "name": "stdout",
     "output_type": "stream",
     "text": [
      "bone-china-049\n",
      "Does this patient have T1 available? True\n",
      "I'm doing the thing.\n",
      "bone-hup-306\n",
      "Does this patient have T1 available? True\n",
      "I'm doing the thing.\n"
     ]
    },
    {
     "name": "stderr",
     "output_type": "stream",
     "text": [
      "\r",
      " 45%|████▌     | 283/622 [01:01<01:15,  4.51it/s]"
     ]
    },
    {
     "name": "stderr",
     "output_type": "stream",
     "text": [
      "\r",
      " 46%|████▌     | 284/622 [01:01<01:03,  5.30it/s]"
     ]
    },
    {
     "name": "stdout",
     "output_type": "stream",
     "text": [
      "bone-hup-295\n",
      "Does this patient have T1 available? True\n",
      "I'm doing the thing.\n",
      "bone-penn-289\n",
      "Does this patient have T1 available? True\n",
      "I'm doing the thing.\n",
      "bone-china-059\n",
      "Does this patient have T1 available? True\n",
      "I'm doing the thing.\n"
     ]
    },
    {
     "name": "stderr",
     "output_type": "stream",
     "text": [
      "\r",
      " 46%|████▌     | 286/622 [01:01<00:50,  6.68it/s]"
     ]
    },
    {
     "name": "stderr",
     "output_type": "stream",
     "text": [
      "\r",
      " 46%|████▌     | 287/622 [01:01<00:49,  6.81it/s]"
     ]
    },
    {
     "name": "stdout",
     "output_type": "stream",
     "text": [
      "bone-china-118\n",
      "Does this patient have T1 available? True\n",
      "I'm doing the thing.\n",
      "bone-hup-158\n",
      "Does this patient have T1 available? True\n",
      "I'm doing the thing.\n"
     ]
    },
    {
     "name": "stderr",
     "output_type": "stream",
     "text": [
      "\r",
      " 46%|████▋     | 288/622 [01:01<00:48,  6.95it/s]"
     ]
    },
    {
     "name": "stderr",
     "output_type": "stream",
     "text": [
      "\r",
      " 46%|████▋     | 289/622 [01:01<00:46,  7.14it/s]"
     ]
    },
    {
     "name": "stdout",
     "output_type": "stream",
     "text": [
      "bone-china-001\n",
      "Does this patient have T1 available? True\n",
      "I'm doing the thing.\n",
      "bone-china-047\n",
      "Does this patient have T1 available? True\n",
      "I'm doing the thing.\n"
     ]
    },
    {
     "name": "stderr",
     "output_type": "stream",
     "text": [
      "\r",
      " 47%|████▋     | 290/622 [01:02<00:51,  6.46it/s]"
     ]
    },
    {
     "name": "stdout",
     "output_type": "stream",
     "text": [
      "bone-china-054\n",
      "Does this patient have T1 available? True\n",
      "I'm doing the thing.\n",
      "bone-penn-058\n",
      "Does this patient have T1 available? True\n",
      "I'm doing the thing.\n"
     ]
    },
    {
     "name": "stderr",
     "output_type": "stream",
     "text": [
      "\r",
      " 47%|████▋     | 292/622 [01:02<00:52,  6.23it/s]"
     ]
    },
    {
     "name": "stderr",
     "output_type": "stream",
     "text": [
      "\r",
      " 47%|████▋     | 293/622 [01:02<00:51,  6.34it/s]"
     ]
    },
    {
     "name": "stdout",
     "output_type": "stream",
     "text": [
      "bone-china-021\n",
      "Does this patient have T1 available? True\n",
      "I'm doing the thing.\n",
      "bone-china-076\n",
      "Does this patient have T1 available? True\n",
      "I'm doing the thing.\n"
     ]
    },
    {
     "name": "stderr",
     "output_type": "stream",
     "text": [
      "\r",
      " 47%|████▋     | 294/622 [01:03<01:15,  4.36it/s]"
     ]
    },
    {
     "name": "stdout",
     "output_type": "stream",
     "text": [
      "bone-hup-150\n",
      "Does this patient have T1 available? True\n",
      "I'm doing the thing.\n"
     ]
    },
    {
     "name": "stderr",
     "output_type": "stream",
     "text": [
      "\r",
      " 47%|████▋     | 295/622 [01:03<01:14,  4.39it/s]"
     ]
    },
    {
     "name": "stderr",
     "output_type": "stream",
     "text": [
      "\r",
      " 48%|████▊     | 296/622 [01:03<01:05,  5.01it/s]"
     ]
    },
    {
     "name": "stdout",
     "output_type": "stream",
     "text": [
      "bone-china-136\n",
      "Does this patient have T1 available? True\n",
      "I'm doing the thing.\n",
      "bone-penn-015\n",
      "Does this patient have T1 available? True\n",
      "I'm doing the thing.\n"
     ]
    },
    {
     "name": "stderr",
     "output_type": "stream",
     "text": [
      "\r",
      " 48%|████▊     | 297/622 [01:03<01:04,  5.04it/s]"
     ]
    },
    {
     "name": "stderr",
     "output_type": "stream",
     "text": [
      "\r",
      " 48%|████▊     | 299/622 [01:03<00:50,  6.40it/s]"
     ]
    },
    {
     "name": "stdout",
     "output_type": "stream",
     "text": [
      "bone-hup-312\n",
      "Does this patient have T1 available? True\n",
      "I'm doing the thing.\n",
      "bone-penn-548\n",
      "Does this patient have T1 available? True\n",
      "I'm doing the thing.\n",
      "bone-penn-056\n",
      "Does this patient have T1 available? True\n",
      "I'm doing the thing.\n"
     ]
    },
    {
     "name": "stderr",
     "output_type": "stream",
     "text": [
      "\r",
      " 48%|████▊     | 300/622 [01:04<01:11,  4.51it/s]"
     ]
    },
    {
     "name": "stdout",
     "output_type": "stream",
     "text": [
      "bone-penn-453\n",
      "Does this patient have T1 available? True\n",
      "I'm doing the thing.\n"
     ]
    },
    {
     "name": "stderr",
     "output_type": "stream",
     "text": [
      "\r",
      " 48%|████▊     | 301/622 [01:04<01:10,  4.58it/s]"
     ]
    },
    {
     "name": "stderr",
     "output_type": "stream",
     "text": [
      "\r",
      " 49%|████▊     | 302/622 [01:04<01:05,  4.87it/s]"
     ]
    },
    {
     "name": "stdout",
     "output_type": "stream",
     "text": [
      "bone-china-015\n",
      "Does this patient have T1 available? True\n",
      "I'm doing the thing.\n",
      "bone-hup-271\n",
      "Does this patient have T1 available? True\n",
      "I'm doing the thing.\n"
     ]
    },
    {
     "name": "stderr",
     "output_type": "stream",
     "text": [
      "\r",
      " 49%|████▉     | 304/622 [01:04<00:56,  5.65it/s]"
     ]
    },
    {
     "name": "stdout",
     "output_type": "stream",
     "text": [
      "bone-penn-071\n",
      "Does this patient have T1 available? True\n",
      "I'm doing the thing.\n",
      "bone-penn-555\n",
      "Does this patient have T1 available? True\n",
      "I'm doing the thing.\n"
     ]
    },
    {
     "name": "stderr",
     "output_type": "stream",
     "text": [
      "\r",
      " 49%|████▉     | 305/622 [01:05<01:08,  4.65it/s]"
     ]
    },
    {
     "name": "stderr",
     "output_type": "stream",
     "text": [
      "\r",
      " 49%|████▉     | 307/622 [01:05<00:54,  5.77it/s]"
     ]
    },
    {
     "name": "stdout",
     "output_type": "stream",
     "text": [
      "bone-penn-403\n",
      "Does this patient have T1 available? True\n",
      "I'm doing the thing.\n",
      "bone-china-061\n",
      "Does this patient have T1 available? True\n",
      "I'm doing the thing.\n",
      "bone-penn-537\n",
      "Does this patient have T1 available? True\n",
      "I'm doing the thing.\n"
     ]
    },
    {
     "name": "stderr",
     "output_type": "stream",
     "text": [
      "\r",
      " 50%|████▉     | 308/622 [01:05<00:59,  5.27it/s]"
     ]
    },
    {
     "name": "stdout",
     "output_type": "stream",
     "text": [
      "bone-penn-503\n",
      "Does this patient have T1 available? True\n",
      "I'm doing the thing.\n"
     ]
    },
    {
     "name": "stderr",
     "output_type": "stream",
     "text": [
      "\r",
      " 50%|████▉     | 309/622 [01:05<01:15,  4.15it/s]"
     ]
    },
    {
     "name": "stderr",
     "output_type": "stream",
     "text": [
      "\r",
      " 50%|████▉     | 310/622 [01:05<01:05,  4.76it/s]"
     ]
    },
    {
     "name": "stdout",
     "output_type": "stream",
     "text": [
      "bone-china-152\n",
      "Does this patient have T1 available? True\n",
      "I'm doing the thing.\n",
      "bone-hup-322\n",
      "Does this patient have T1 available? True\n",
      "I'm doing the thing.\n"
     ]
    },
    {
     "name": "stderr",
     "output_type": "stream",
     "text": [
      "\r",
      " 50%|█████     | 311/622 [01:06<01:12,  4.32it/s]"
     ]
    },
    {
     "name": "stdout",
     "output_type": "stream",
     "text": [
      "bone-china-002\n",
      "Does this patient have T1 available? True\n",
      "I'm doing the thing.\n",
      "bone-penn-462\n",
      "Does this patient have T1 available? True\n",
      "I'm doing the thing.\n"
     ]
    },
    {
     "name": "stderr",
     "output_type": "stream",
     "text": [
      "\r",
      " 50%|█████     | 313/622 [01:06<01:07,  4.55it/s]"
     ]
    },
    {
     "name": "stderr",
     "output_type": "stream",
     "text": [
      "\r",
      " 50%|█████     | 314/622 [01:06<00:57,  5.38it/s]"
     ]
    },
    {
     "name": "stdout",
     "output_type": "stream",
     "text": [
      "bone-hup-315\n",
      "Does this patient have T1 available? True\n",
      "I'm doing the thing.\n",
      "bone-penn-116\n",
      "Does this patient have T1 available? True\n",
      "I'm doing the thing.\n"
     ]
    },
    {
     "name": "stderr",
     "output_type": "stream",
     "text": [
      "\r",
      " 51%|█████     | 315/622 [01:06<01:11,  4.31it/s]"
     ]
    },
    {
     "name": "stdout",
     "output_type": "stream",
     "text": [
      "bone-penn-86\n",
      "Does this patient have T1 available? True\n",
      "I'm doing the thing.\n"
     ]
    },
    {
     "name": "stderr",
     "output_type": "stream",
     "text": [
      "\r",
      " 51%|█████     | 316/622 [01:07<01:19,  3.84it/s]"
     ]
    },
    {
     "name": "stderr",
     "output_type": "stream",
     "text": [
      "\r",
      " 51%|█████     | 317/622 [01:07<01:07,  4.49it/s]"
     ]
    },
    {
     "name": "stdout",
     "output_type": "stream",
     "text": [
      "bone-china-170\n",
      "Does this patient have T1 available? True\n",
      "I'm doing the thing.\n",
      "bone-penn-291\n",
      "Does this patient have T1 available? True\n",
      "I'm doing the thing.\n"
     ]
    },
    {
     "name": "stderr",
     "output_type": "stream",
     "text": [
      "\r",
      " 51%|█████     | 318/622 [01:07<01:00,  5.00it/s]"
     ]
    },
    {
     "name": "stdout",
     "output_type": "stream",
     "text": [
      "bone-china-058\n",
      "Does this patient have T1 available? True\n",
      "I'm doing the thing.\n"
     ]
    },
    {
     "name": "stderr",
     "output_type": "stream",
     "text": [
      "\r",
      " 51%|█████▏    | 319/622 [01:07<01:05,  4.62it/s]"
     ]
    },
    {
     "name": "stdout",
     "output_type": "stream",
     "text": [
      "bone-hup-299\n",
      "Does this patient have T1 available? True\n",
      "I'm doing the thing.\n",
      "bone-penn-452\n",
      "Does this patient have T1 available? True\n",
      "I'm doing the thing.\n"
     ]
    },
    {
     "name": "stderr",
     "output_type": "stream",
     "text": [
      "\r",
      " 52%|█████▏    | 321/622 [01:08<00:55,  5.46it/s]"
     ]
    },
    {
     "name": "stdout",
     "output_type": "stream",
     "text": [
      "bone-hup-314\n",
      "Does this patient have T1 available? True\n",
      "I'm doing the thing.\n"
     ]
    },
    {
     "name": "stderr",
     "output_type": "stream",
     "text": [
      "\r",
      " 52%|█████▏    | 322/622 [01:08<01:04,  4.66it/s]"
     ]
    },
    {
     "name": "stdout",
     "output_type": "stream",
     "text": [
      "bone-penn-578\n",
      "Does this patient have T1 available? True\n",
      "I'm doing the thing.\n"
     ]
    },
    {
     "name": "stderr",
     "output_type": "stream",
     "text": [
      "\r",
      " 52%|█████▏    | 323/622 [01:09<02:16,  2.18it/s]"
     ]
    },
    {
     "name": "stderr",
     "output_type": "stream",
     "text": [
      "\r",
      " 52%|█████▏    | 325/622 [01:09<01:42,  2.91it/s]"
     ]
    },
    {
     "name": "stdout",
     "output_type": "stream",
     "text": [
      "bone-penn-131\n",
      "Does this patient have T1 available? True\n",
      "I'm doing the thing.\n",
      "bone-penn-037\n",
      "Does this patient have T1 available? True\n",
      "I'm doing the thing.\n",
      "bone-china-122\n",
      "Does this patient have T1 available? True\n",
      "I'm doing the thing.\n"
     ]
    },
    {
     "name": "stderr",
     "output_type": "stream",
     "text": [
      "\r",
      " 52%|█████▏    | 326/622 [01:09<01:26,  3.41it/s]"
     ]
    },
    {
     "name": "stdout",
     "output_type": "stream",
     "text": [
      "bone-penn-281\n",
      "Does this patient have T1 available? True\n",
      "I'm doing the thing.\n",
      "bone-hup-272\n",
      "Does this patient have T1 available? True\n",
      "I'm doing the thing.\n"
     ]
    },
    {
     "name": "stderr",
     "output_type": "stream",
     "text": [
      "\r",
      " 53%|█████▎    | 328/622 [01:10<01:30,  3.26it/s]"
     ]
    },
    {
     "name": "stderr",
     "output_type": "stream",
     "text": [
      "\r",
      " 53%|█████▎    | 329/622 [01:10<01:12,  4.03it/s]"
     ]
    },
    {
     "name": "stdout",
     "output_type": "stream",
     "text": [
      "bone-china-161\n",
      "Does this patient have T1 available? True\n",
      "I'm doing the thing.\n",
      "bone-penn-385\n",
      "Does this patient have T1 available? True\n",
      "I'm doing the thing.\n"
     ]
    },
    {
     "name": "stderr",
     "output_type": "stream",
     "text": [
      "\r",
      " 53%|█████▎    | 330/622 [01:10<01:06,  4.40it/s]"
     ]
    },
    {
     "name": "stdout",
     "output_type": "stream",
     "text": [
      "bone-penn-591\n",
      "Does this patient have T1 available? True\n",
      "I'm doing the thing.\n"
     ]
    },
    {
     "name": "stderr",
     "output_type": "stream",
     "text": [
      "\r",
      " 53%|█████▎    | 331/622 [01:11<01:35,  3.05it/s]"
     ]
    },
    {
     "name": "stderr",
     "output_type": "stream",
     "text": [
      "\r",
      " 53%|█████▎    | 332/622 [01:11<01:21,  3.55it/s]"
     ]
    },
    {
     "name": "stdout",
     "output_type": "stream",
     "text": [
      "bone-hup-281\n",
      "Does this patient have T1 available? True\n",
      "I'm doing the thing.\n",
      "bone-penn-061\n",
      "Does this patient have T1 available? True\n",
      "I'm doing the thing.\n"
     ]
    },
    {
     "name": "stderr",
     "output_type": "stream",
     "text": [
      "\r",
      " 54%|█████▎    | 333/622 [01:11<01:21,  3.54it/s]"
     ]
    },
    {
     "name": "stderr",
     "output_type": "stream",
     "text": [
      "\r",
      " 54%|█████▎    | 334/622 [01:11<01:13,  3.92it/s]"
     ]
    },
    {
     "name": "stdout",
     "output_type": "stream",
     "text": [
      "bone-penn-91\n",
      "Does this patient have T1 available? True\n",
      "I'm doing the thing.\n",
      "bone-penn-397\n",
      "Does this patient have T1 available? True\n",
      "I'm doing the thing.\n"
     ]
    },
    {
     "name": "stderr",
     "output_type": "stream",
     "text": [
      "\r",
      " 54%|█████▍    | 335/622 [01:12<01:11,  4.04it/s]"
     ]
    },
    {
     "name": "stdout",
     "output_type": "stream",
     "text": [
      "bone-penn-521\n",
      "Does this patient have T1 available? True\n",
      "I'm doing the thing.\n"
     ]
    },
    {
     "name": "stderr",
     "output_type": "stream",
     "text": [
      "\r",
      " 54%|█████▍    | 336/622 [01:12<01:36,  2.98it/s]"
     ]
    },
    {
     "name": "stderr",
     "output_type": "stream",
     "text": [
      "\r",
      " 54%|█████▍    | 338/622 [01:12<01:13,  3.88it/s]"
     ]
    },
    {
     "name": "stdout",
     "output_type": "stream",
     "text": [
      "bone-china-038\n",
      "Does this patient have T1 available? True\n",
      "I'm doing the thing.\n",
      "bone-china-030\n",
      "Does this patient have T1 available? True\n",
      "I'm doing the thing.\n",
      "bone-penn-002\n",
      "Does this patient have T1 available? True\n",
      "I'm doing the thing.\n"
     ]
    },
    {
     "name": "stderr",
     "output_type": "stream",
     "text": [
      "\r",
      " 55%|█████▍    | 339/622 [01:12<01:04,  4.38it/s]"
     ]
    },
    {
     "name": "stderr",
     "output_type": "stream",
     "text": [
      "\r",
      " 55%|█████▍    | 340/622 [01:13<00:57,  4.93it/s]"
     ]
    },
    {
     "name": "stdout",
     "output_type": "stream",
     "text": [
      "bone-china-065\n",
      "Does this patient have T1 available? True\n",
      "I'm doing the thing.\n",
      "bone-penn-572\n",
      "Does this patient have T1 available? True\n",
      "I'm doing the thing.\n"
     ]
    },
    {
     "name": "stderr",
     "output_type": "stream",
     "text": [
      "\r",
      " 55%|█████▍    | 342/622 [01:13<00:49,  5.69it/s]"
     ]
    },
    {
     "name": "stdout",
     "output_type": "stream",
     "text": [
      "bone-hup-302\n",
      "Does this patient have T1 available? True\n",
      "I'm doing the thing.\n",
      "bone-penn-491\n",
      "Does this patient have T1 available? True\n",
      "I'm doing the thing.\n"
     ]
    },
    {
     "name": "stderr",
     "output_type": "stream",
     "text": [
      "\r",
      " 55%|█████▌    | 343/622 [01:13<00:48,  5.79it/s]"
     ]
    },
    {
     "name": "stdout",
     "output_type": "stream",
     "text": [
      "bone-penn-423\n",
      "Does this patient have T1 available? True\n",
      "I'm doing the thing.\n"
     ]
    },
    {
     "name": "stderr",
     "output_type": "stream",
     "text": [
      "\r",
      " 55%|█████▌    | 344/622 [01:13<01:01,  4.54it/s]"
     ]
    },
    {
     "name": "stderr",
     "output_type": "stream",
     "text": [
      "\r",
      " 55%|█████▌    | 345/622 [01:14<00:56,  4.90it/s]"
     ]
    },
    {
     "name": "stdout",
     "output_type": "stream",
     "text": [
      "bone-hup-320\n",
      "Does this patient have T1 available? True\n",
      "I'm doing the thing.\n",
      "bone-penn-500\n",
      "Does this patient have T1 available? True\n",
      "I'm doing the thing.\n"
     ]
    },
    {
     "name": "stderr",
     "output_type": "stream",
     "text": [
      "\r",
      " 56%|█████▌    | 346/622 [01:14<01:08,  4.04it/s]"
     ]
    },
    {
     "name": "stdout",
     "output_type": "stream",
     "text": [
      "bone-china-036\n",
      "Does this patient have T1 available? True\n",
      "I'm doing the thing.\n",
      "bone-penn-484\n",
      "Does this patient have T1 available? True\n",
      "I'm doing the thing.\n"
     ]
    },
    {
     "name": "stderr",
     "output_type": "stream",
     "text": [
      "\r",
      " 56%|█████▌    | 348/622 [01:14<00:56,  4.85it/s]"
     ]
    },
    {
     "name": "stderr",
     "output_type": "stream",
     "text": [
      "\r",
      " 56%|█████▌    | 349/622 [01:14<00:51,  5.27it/s]"
     ]
    },
    {
     "name": "stdout",
     "output_type": "stream",
     "text": [
      "bone-china-175\n",
      "Does this patient have T1 available? True\n",
      "I'm doing the thing.\n",
      "bone-penn-030\n",
      "Does this patient have T1 available? True\n",
      "I'm doing the thing.\n"
     ]
    },
    {
     "name": "stderr",
     "output_type": "stream",
     "text": [
      "\r",
      " 56%|█████▋    | 350/622 [01:15<01:44,  2.61it/s]"
     ]
    },
    {
     "name": "stderr",
     "output_type": "stream",
     "text": [
      "\r",
      " 56%|█████▋    | 351/622 [01:15<01:23,  3.24it/s]"
     ]
    },
    {
     "name": "stdout",
     "output_type": "stream",
     "text": [
      "bone-hup-79\n",
      "Does this patient have T1 available? True\n",
      "I'm doing the thing.\n",
      "bone-hup-175\n",
      "Does this patient have T1 available? True\n",
      "I'm doing the thing.\n"
     ]
    },
    {
     "name": "stderr",
     "output_type": "stream",
     "text": [
      "\r",
      " 57%|█████▋    | 352/622 [01:15<01:10,  3.85it/s]"
     ]
    },
    {
     "name": "stdout",
     "output_type": "stream",
     "text": [
      "bone-penn-226\n",
      "Does this patient have T1 available? True\n",
      "I'm doing the thing.\n",
      "bone-penn-011\n",
      "Does this patient have T1 available? True\n",
      "I'm doing the thing.\n"
     ]
    },
    {
     "name": "stderr",
     "output_type": "stream",
     "text": [
      "\r",
      " 57%|█████▋    | 354/622 [01:16<01:02,  4.25it/s]"
     ]
    },
    {
     "name": "stderr",
     "output_type": "stream",
     "text": [
      "\r",
      " 57%|█████▋    | 355/622 [01:16<00:55,  4.81it/s]"
     ]
    },
    {
     "name": "stdout",
     "output_type": "stream",
     "text": [
      "bone-penn-188\n",
      "Does this patient have T1 available? True\n",
      "I'm doing the thing.\n",
      "bone-penn-166\n",
      "Does this patient have T1 available? True\n",
      "I'm doing the thing.\n"
     ]
    },
    {
     "name": "stderr",
     "output_type": "stream",
     "text": [
      "\r",
      " 57%|█████▋    | 356/622 [01:16<00:56,  4.74it/s]"
     ]
    },
    {
     "name": "stdout",
     "output_type": "stream",
     "text": [
      "bone-penn-239\n",
      "Does this patient have T1 available? True\n",
      "I'm doing the thing.\n",
      "bone-hup-101\n",
      "Does this patient have T1 available? True\n",
      "I'm doing the thing.\n"
     ]
    },
    {
     "name": "stderr",
     "output_type": "stream",
     "text": [
      "\r",
      " 58%|█████▊    | 358/622 [01:16<00:53,  4.89it/s]"
     ]
    },
    {
     "name": "stdout",
     "output_type": "stream",
     "text": [
      "bone-penn-311\n",
      "Does this patient have T1 available? True\n",
      "I'm doing the thing.\n"
     ]
    },
    {
     "name": "stderr",
     "output_type": "stream",
     "text": [
      "\r",
      " 58%|█████▊    | 359/622 [01:17<00:56,  4.62it/s]"
     ]
    },
    {
     "name": "stderr",
     "output_type": "stream",
     "text": [
      "\r",
      " 58%|█████▊    | 360/622 [01:17<00:53,  4.94it/s]"
     ]
    },
    {
     "name": "stdout",
     "output_type": "stream",
     "text": [
      "bone-penn-161\n",
      "Does this patient have T1 available? True\n",
      "I'm doing the thing.\n",
      "bone-penn-628\n",
      "Does this patient have T1 available? True\n",
      "I'm doing the thing.\n"
     ]
    },
    {
     "name": "stderr",
     "output_type": "stream",
     "text": [
      "\r",
      " 58%|█████▊    | 361/622 [01:17<00:48,  5.37it/s]"
     ]
    },
    {
     "name": "stderr",
     "output_type": "stream",
     "text": [
      "\r",
      " 58%|█████▊    | 362/622 [01:17<00:42,  6.08it/s]"
     ]
    },
    {
     "name": "stdout",
     "output_type": "stream",
     "text": [
      "bone-penn-180\n",
      "Does this patient have T1 available? True\n",
      "I'm doing the thing.\n",
      "bone-penn-599\n",
      "Does this patient have T1 available? True\n",
      "I'm doing the thing.\n"
     ]
    },
    {
     "name": "stderr",
     "output_type": "stream",
     "text": [
      "\r",
      " 58%|█████▊    | 363/622 [01:19<02:19,  1.86it/s]"
     ]
    },
    {
     "name": "stdout",
     "output_type": "stream",
     "text": [
      "bone-china-195\n",
      "Does this patient have T1 available? True\n",
      "I'm doing the thing.\n",
      "bone-hup-88\n",
      "Does this patient have T1 available? True\n",
      "I'm doing the thing.\n"
     ]
    },
    {
     "name": "stderr",
     "output_type": "stream",
     "text": [
      "\r",
      " 59%|█████▊    | 365/622 [01:19<01:58,  2.16it/s]"
     ]
    },
    {
     "name": "stderr",
     "output_type": "stream",
     "text": [
      "\r",
      " 59%|█████▉    | 366/622 [01:19<01:37,  2.63it/s]"
     ]
    },
    {
     "name": "stdout",
     "output_type": "stream",
     "text": [
      "bone-penn-264\n",
      "Does this patient have T1 available? True\n",
      "I'm doing the thing.\n",
      "bone-penn-615\n",
      "Does this patient have T1 available? True\n",
      "I'm doing the thing.\n"
     ]
    },
    {
     "name": "stderr",
     "output_type": "stream",
     "text": [
      "\r",
      " 59%|█████▉    | 368/622 [01:20<01:15,  3.35it/s]"
     ]
    },
    {
     "name": "stdout",
     "output_type": "stream",
     "text": [
      "bone-china-203\n",
      "Does this patient have T1 available? True\n",
      "I'm doing the thing.\n",
      "bone-hup-98\n",
      "Does this patient have T1 available? True\n",
      "I'm doing the thing.\n"
     ]
    },
    {
     "name": "stderr",
     "output_type": "stream",
     "text": [
      "\r",
      " 59%|█████▉    | 369/622 [01:20<01:12,  3.50it/s]"
     ]
    },
    {
     "name": "stderr",
     "output_type": "stream",
     "text": [
      "\r",
      " 59%|█████▉    | 370/622 [01:20<01:02,  4.02it/s]"
     ]
    },
    {
     "name": "stdout",
     "output_type": "stream",
     "text": [
      "bone-hup-73\n",
      "Does this patient have T1 available? True\n",
      "I'm doing the thing.\n",
      "bone-penn-641\n",
      "Does this patient have T1 available? True\n",
      "I'm doing the thing.\n"
     ]
    },
    {
     "name": "stderr",
     "output_type": "stream",
     "text": [
      "\r",
      " 60%|█████▉    | 371/622 [01:20<01:01,  4.11it/s]"
     ]
    },
    {
     "name": "stdout",
     "output_type": "stream",
     "text": [
      "bone-penn-378\n",
      "Does this patient have T1 available? True\n",
      "I'm doing the thing.\n"
     ]
    },
    {
     "name": "stderr",
     "output_type": "stream",
     "text": [
      "\r",
      " 60%|█████▉    | 372/622 [01:20<01:03,  3.94it/s]"
     ]
    },
    {
     "name": "stderr",
     "output_type": "stream",
     "text": [
      "\r",
      " 60%|█████▉    | 373/622 [01:21<00:52,  4.70it/s]"
     ]
    },
    {
     "name": "stdout",
     "output_type": "stream",
     "text": [
      "bone-hup-113\n",
      "Does this patient have T1 available? True\n",
      "I'm doing the thing.\n",
      "bone-china-228\n",
      "Does this patient have T1 available? True\n",
      "I'm doing the thing.\n",
      "bone-penn-206\n",
      "Does this patient have T1 available? True\n",
      "I'm doing the thing.\n"
     ]
    },
    {
     "name": "stderr",
     "output_type": "stream",
     "text": [
      "\r",
      " 60%|██████    | 375/622 [01:21<00:46,  5.36it/s]"
     ]
    },
    {
     "name": "stdout",
     "output_type": "stream",
     "text": [
      "bone-penn-651\n",
      "Does this patient have T1 available? True\n",
      "I'm doing the thing.\n"
     ]
    },
    {
     "name": "stderr",
     "output_type": "stream",
     "text": [
      "\r",
      " 60%|██████    | 376/622 [01:21<01:12,  3.39it/s]"
     ]
    },
    {
     "name": "stderr",
     "output_type": "stream",
     "text": [
      "\r",
      " 61%|██████    | 377/622 [01:21<01:00,  4.05it/s]"
     ]
    },
    {
     "name": "stdout",
     "output_type": "stream",
     "text": [
      "bone-hup-80\n",
      "Does this patient have T1 available? True\n",
      "I'm doing the thing.\n",
      "bone-hup-141\n",
      "Does this patient have T1 available? True\n",
      "I'm doing the thing.\n"
     ]
    },
    {
     "name": "stderr",
     "output_type": "stream",
     "text": [
      "\r",
      " 61%|██████    | 378/622 [01:22<01:38,  2.47it/s]"
     ]
    },
    {
     "name": "stdout",
     "output_type": "stream",
     "text": [
      "bone-penn-429\n",
      "Does this patient have T1 available? True\n",
      "I'm doing the thing.\n"
     ]
    },
    {
     "name": "stderr",
     "output_type": "stream",
     "text": [
      "\r",
      " 61%|██████    | 379/622 [01:22<01:25,  2.84it/s]"
     ]
    },
    {
     "name": "stderr",
     "output_type": "stream",
     "text": [
      "\r",
      " 61%|██████    | 380/622 [01:23<01:10,  3.45it/s]"
     ]
    },
    {
     "name": "stdout",
     "output_type": "stream",
     "text": [
      "bone-penn-370\n",
      "Does this patient have T1 available? True\n",
      "I'm doing the thing.\n",
      "bone-china-186\n",
      "Does this patient have T1 available? True\n",
      "I'm doing the thing.\n",
      "bone-hup-277\n",
      "Does this patient have T1 available? True\n",
      "I'm doing the thing.\n"
     ]
    },
    {
     "name": "stderr",
     "output_type": "stream",
     "text": [
      "\r",
      " 61%|██████▏   | 382/622 [01:23<00:58,  4.14it/s]"
     ]
    },
    {
     "name": "stdout",
     "output_type": "stream",
     "text": [
      "bone-penn-165\n",
      "Does this patient have T1 available? True\n",
      "I'm doing the thing.\n",
      "bone-hup-283\n",
      "Does this patient have T1 available? True\n",
      "I'm doing the thing.\n"
     ]
    },
    {
     "name": "stderr",
     "output_type": "stream",
     "text": [
      "\r",
      " 62%|██████▏   | 384/622 [01:23<00:51,  4.64it/s]"
     ]
    },
    {
     "name": "stderr",
     "output_type": "stream",
     "text": [
      "\r",
      " 62%|██████▏   | 385/622 [01:23<00:45,  5.25it/s]"
     ]
    },
    {
     "name": "stdout",
     "output_type": "stream",
     "text": [
      "bone-china-200\n",
      "Does this patient have T1 available? True\n",
      "I'm doing the thing.\n",
      "bone-penn-298\n",
      "Does this patient have T1 available? True\n",
      "I'm doing the thing.\n"
     ]
    },
    {
     "name": "stderr",
     "output_type": "stream",
     "text": [
      "\r",
      " 62%|██████▏   | 387/622 [01:24<00:41,  5.67it/s]"
     ]
    },
    {
     "name": "stdout",
     "output_type": "stream",
     "text": [
      "bone-china-204\n",
      "Does this patient have T1 available? True\n",
      "I'm doing the thing.\n",
      "bone-penn-263\n",
      "Does this patient have T1 available? True\n",
      "I'm doing the thing.\n"
     ]
    },
    {
     "name": "stderr",
     "output_type": "stream",
     "text": [
      "\r",
      " 62%|██████▏   | 388/622 [01:24<00:36,  6.38it/s]"
     ]
    },
    {
     "name": "stderr",
     "output_type": "stream",
     "text": [
      "\r",
      " 63%|██████▎   | 389/622 [01:24<00:34,  6.69it/s]"
     ]
    },
    {
     "name": "stdout",
     "output_type": "stream",
     "text": [
      "bone-penn-193\n",
      "Does this patient have T1 available? True\n",
      "I'm doing the thing.\n",
      "bone-penn-211\n",
      "Does this patient have T1 available? True\n",
      "I'm doing the thing.\n"
     ]
    },
    {
     "name": "stderr",
     "output_type": "stream",
     "text": [
      "\r",
      " 63%|██████▎   | 390/622 [01:24<00:54,  4.27it/s]"
     ]
    },
    {
     "name": "stderr",
     "output_type": "stream",
     "text": [
      "\r",
      " 63%|██████▎   | 391/622 [01:24<00:49,  4.65it/s]"
     ]
    },
    {
     "name": "stdout",
     "output_type": "stream",
     "text": [
      "bone-china-196\n",
      "Does this patient have T1 available? True\n",
      "I'm doing the thing.\n",
      "bone-penn-024\n",
      "Does this patient have T1 available? True\n",
      "I'm doing the thing.\n"
     ]
    },
    {
     "name": "stderr",
     "output_type": "stream",
     "text": [
      "\r",
      " 63%|██████▎   | 392/622 [01:25<00:44,  5.14it/s]"
     ]
    },
    {
     "name": "stderr",
     "output_type": "stream",
     "text": [
      "\r",
      " 63%|██████▎   | 394/622 [01:25<00:36,  6.27it/s]"
     ]
    },
    {
     "name": "stdout",
     "output_type": "stream",
     "text": [
      "bone-hup-148\n",
      "Does this patient have T1 available? True\n",
      "I'm doing the thing.\n",
      "bone-penn-256\n",
      "Does this patient have T1 available? True\n",
      "I'm doing the thing.\n",
      "bone-hup-222\n",
      "Does this patient have T1 available? True\n",
      "I'm doing the thing.\n"
     ]
    },
    {
     "name": "stderr",
     "output_type": "stream",
     "text": [
      "\r",
      " 64%|██████▎   | 395/622 [01:25<00:45,  5.00it/s]"
     ]
    },
    {
     "name": "stdout",
     "output_type": "stream",
     "text": [
      "bone-penn-189\n",
      "Does this patient have T1 available? True\n",
      "I'm doing the thing.\n"
     ]
    },
    {
     "name": "stderr",
     "output_type": "stream",
     "text": [
      "\r",
      " 64%|██████▎   | 396/622 [01:26<01:18,  2.89it/s]"
     ]
    },
    {
     "name": "stderr",
     "output_type": "stream",
     "text": [
      "\r",
      " 64%|██████▍   | 397/622 [01:26<01:02,  3.61it/s]"
     ]
    },
    {
     "name": "stdout",
     "output_type": "stream",
     "text": [
      "bone-hup-201\n",
      "Does this patient have T1 available? True\n",
      "I'm doing the thing.\n",
      "bone-penn-629\n",
      "Does this patient have T1 available? True\n",
      "I'm doing the thing.\n"
     ]
    },
    {
     "name": "stderr",
     "output_type": "stream",
     "text": [
      "\r",
      " 64%|██████▍   | 398/622 [01:26<01:07,  3.33it/s]"
     ]
    },
    {
     "name": "stderr",
     "output_type": "stream",
     "text": [
      "\r",
      " 64%|██████▍   | 400/622 [01:26<00:52,  4.20it/s]"
     ]
    },
    {
     "name": "stdout",
     "output_type": "stream",
     "text": [
      "bone-penn-422\n",
      "Does this patient have T1 available? True\n",
      "I'm doing the thing.\n",
      "bone-penn-029\n",
      "Does this patient have T1 available? True\n",
      "I'm doing the thing.\n",
      "bone-penn-624\n",
      "Does this patient have T1 available? True\n",
      "I'm doing the thing.\n"
     ]
    },
    {
     "name": "stderr",
     "output_type": "stream",
     "text": [
      "\r",
      " 64%|██████▍   | 401/622 [01:27<00:48,  4.57it/s]"
     ]
    },
    {
     "name": "stderr",
     "output_type": "stream",
     "text": [
      "\r",
      " 65%|██████▍   | 402/622 [01:27<00:41,  5.28it/s]"
     ]
    },
    {
     "name": "stdout",
     "output_type": "stream",
     "text": [
      "bone-hup-133\n",
      "Does this patient have T1 available? True\n",
      "I'm doing the thing.\n",
      "bone-penn-222\n",
      "Does this patient have T1 available? True\n",
      "I'm doing the thing.\n"
     ]
    },
    {
     "name": "stderr",
     "output_type": "stream",
     "text": [
      "\r",
      " 65%|██████▍   | 403/622 [01:27<00:38,  5.70it/s]"
     ]
    },
    {
     "name": "stderr",
     "output_type": "stream",
     "text": [
      "\r",
      " 65%|██████▍   | 404/622 [01:27<00:35,  6.12it/s]"
     ]
    },
    {
     "name": "stdout",
     "output_type": "stream",
     "text": [
      "bone-china-188\n",
      "Does this patient have T1 available? True\n",
      "I'm doing the thing.\n",
      "bone-china-210\n",
      "Does this patient have T1 available? True\n",
      "I'm doing the thing.\n"
     ]
    },
    {
     "name": "stderr",
     "output_type": "stream",
     "text": [
      "\r",
      " 65%|██████▌   | 405/622 [01:27<00:36,  5.94it/s]"
     ]
    },
    {
     "name": "stdout",
     "output_type": "stream",
     "text": [
      "bone-penn-514\n",
      "Does this patient have T1 available? True\n",
      "I'm doing the thing.\n"
     ]
    },
    {
     "name": "stderr",
     "output_type": "stream",
     "text": [
      "\r",
      " 65%|██████▌   | 406/622 [01:28<01:09,  3.12it/s]"
     ]
    },
    {
     "name": "stdout",
     "output_type": "stream",
     "text": [
      "bone-penn-167\n",
      "Does this patient have T1 available? True\n",
      "I'm doing the thing.\n"
     ]
    },
    {
     "name": "stderr",
     "output_type": "stream",
     "text": [
      "\r",
      " 65%|██████▌   | 407/622 [01:30<02:44,  1.31it/s]"
     ]
    },
    {
     "name": "stdout",
     "output_type": "stream",
     "text": [
      "bone-penn-637\n",
      "Does this patient have T1 available? True\n",
      "I'm doing the thing.\n"
     ]
    },
    {
     "name": "stderr",
     "output_type": "stream",
     "text": [
      "\r",
      " 66%|██████▌   | 408/622 [01:30<02:08,  1.67it/s]"
     ]
    },
    {
     "name": "stdout",
     "output_type": "stream",
     "text": [
      "bone-hup-97\n",
      "Does this patient have T1 available? True\n",
      "I'm doing the thing.\n"
     ]
    },
    {
     "name": "stderr",
     "output_type": "stream",
     "text": [
      "\r",
      " 66%|██████▌   | 409/622 [01:30<01:50,  1.92it/s]"
     ]
    },
    {
     "name": "stdout",
     "output_type": "stream",
     "text": [
      "bone-penn-640\n",
      "Does this patient have T1 available? True\n",
      "I'm doing the thing.\n",
      "bone-hup-103\n",
      "Does this patient have T1 available? True\n",
      "I'm doing the thing.\n"
     ]
    },
    {
     "name": "stderr",
     "output_type": "stream",
     "text": [
      "\r",
      " 66%|██████▌   | 411/622 [01:30<01:26,  2.44it/s]"
     ]
    },
    {
     "name": "stderr",
     "output_type": "stream",
     "text": [
      "\r",
      " 66%|██████▌   | 412/622 [01:31<01:11,  2.93it/s]"
     ]
    },
    {
     "name": "stdout",
     "output_type": "stream",
     "text": [
      "bone-hup-22\n",
      "Does this patient have T1 available? True\n",
      "I'm doing the thing.\n",
      "bone-hup-246\n",
      "Does this patient have T1 available? True\n",
      "I'm doing the thing.\n"
     ]
    },
    {
     "name": "stderr",
     "output_type": "stream",
     "text": [
      "\r",
      " 66%|██████▋   | 413/622 [01:31<01:05,  3.18it/s]"
     ]
    },
    {
     "name": "stderr",
     "output_type": "stream",
     "text": [
      "\r",
      " 67%|██████▋   | 414/622 [01:31<00:57,  3.64it/s]"
     ]
    },
    {
     "name": "stdout",
     "output_type": "stream",
     "text": [
      "bone-china-223\n",
      "Does this patient have T1 available? True\n",
      "I'm doing the thing.\n",
      "bone-hup-82\n",
      "Does this patient have T1 available? True\n",
      "I'm doing the thing.\n"
     ]
    },
    {
     "name": "stderr",
     "output_type": "stream",
     "text": [
      "\r",
      " 67%|██████▋   | 415/622 [01:31<00:46,  4.43it/s]"
     ]
    },
    {
     "name": "stdout",
     "output_type": "stream",
     "text": [
      "bone-hup-153\n",
      "Does this patient have T1 available? True\n",
      "I'm doing the thing.\n"
     ]
    },
    {
     "name": "stderr",
     "output_type": "stream",
     "text": [
      "\r",
      " 67%|██████▋   | 416/622 [01:32<01:00,  3.42it/s]"
     ]
    },
    {
     "name": "stdout",
     "output_type": "stream",
     "text": [
      "bone-hup-200\n",
      "Does this patient have T1 available? True\n",
      "I'm doing the thing.\n",
      "bone-hup-234\n",
      "Does this patient have T1 available? True\n",
      "I'm doing the thing.\n"
     ]
    },
    {
     "name": "stderr",
     "output_type": "stream",
     "text": [
      "\r",
      " 67%|██████▋   | 418/622 [01:32<00:55,  3.65it/s]"
     ]
    },
    {
     "name": "stderr",
     "output_type": "stream",
     "text": [
      "\r",
      " 68%|██████▊   | 420/622 [01:32<00:44,  4.54it/s]"
     ]
    },
    {
     "name": "stdout",
     "output_type": "stream",
     "text": [
      "bone-penn-255\n",
      "Does this patient have T1 available? True\n",
      "I'm doing the thing.\n",
      "bone-penn-631\n",
      "Does this patient have T1 available? True\n",
      "I'm doing the thing.\n",
      "bone-penn-639\n",
      "Does this patient have T1 available? True\n",
      "I'm doing the thing.\n"
     ]
    },
    {
     "name": "stdout",
     "output_type": "stream",
     "text": [
      "bone-hup-84\n",
      "Does this patient have T1 available? True\n",
      "I'm doing the thing.\n"
     ]
    },
    {
     "name": "stderr",
     "output_type": "stream",
     "text": [
      "\r",
      " 68%|██████▊   | 422/622 [01:33<00:40,  4.95it/s]"
     ]
    },
    {
     "name": "stdout",
     "output_type": "stream",
     "text": [
      "bone-penn-621\n",
      "Does this patient have T1 available? True\n",
      "I'm doing the thing.\n"
     ]
    },
    {
     "name": "stderr",
     "output_type": "stream",
     "text": [
      "\r",
      " 68%|██████▊   | 423/622 [01:33<00:51,  3.88it/s]"
     ]
    },
    {
     "name": "stdout",
     "output_type": "stream",
     "text": [
      "bone-penn-645\n",
      "Does this patient have T1 available? True\n",
      "I'm doing the thing.\n",
      "bone-hup-86\n",
      "Does this patient have T1 available? True\n",
      "I'm doing the thing.\n"
     ]
    },
    {
     "name": "stderr",
     "output_type": "stream",
     "text": [
      "\r",
      " 68%|██████▊   | 425/622 [01:34<00:56,  3.49it/s]"
     ]
    },
    {
     "name": "stderr",
     "output_type": "stream",
     "text": [
      "\r",
      " 68%|██████▊   | 426/622 [01:34<00:47,  4.09it/s]"
     ]
    },
    {
     "name": "stdout",
     "output_type": "stream",
     "text": [
      "bone-china-187\n",
      "Does this patient have T1 available? True\n",
      "I'm doing the thing.\n",
      "bone-hup-85\n",
      "Does this patient have T1 available? True\n",
      "I'm doing the thing.\n"
     ]
    },
    {
     "name": "stderr",
     "output_type": "stream",
     "text": [
      "\r",
      " 69%|██████▊   | 427/622 [01:34<01:06,  2.95it/s]"
     ]
    },
    {
     "name": "stdout",
     "output_type": "stream",
     "text": [
      "bone-penn-183\n",
      "Does this patient have T1 available? True\n",
      "I'm doing the thing.\n"
     ]
    },
    {
     "name": "stderr",
     "output_type": "stream",
     "text": [
      "\r",
      " 69%|██████▉   | 428/622 [01:35<01:03,  3.05it/s]"
     ]
    },
    {
     "name": "stdout",
     "output_type": "stream",
     "text": [
      "bone-penn-466\n",
      "Does this patient have T1 available? True\n",
      "I'm doing the thing.\n"
     ]
    },
    {
     "name": "stderr",
     "output_type": "stream",
     "text": [
      "\r",
      " 69%|██████▉   | 429/622 [01:35<01:23,  2.31it/s]"
     ]
    },
    {
     "name": "stderr",
     "output_type": "stream",
     "text": [
      "\r",
      " 69%|██████▉   | 430/622 [01:36<01:05,  2.94it/s]"
     ]
    },
    {
     "name": "stdout",
     "output_type": "stream",
     "text": [
      "bone-hup-96\n",
      "Does this patient have T1 available? True\n",
      "I'm doing the thing.\n",
      "bone-china-180\n",
      "Does this patient have T1 available? True\n",
      "I'm doing the thing.\n"
     ]
    },
    {
     "name": "stderr",
     "output_type": "stream",
     "text": [
      "\r",
      " 69%|██████▉   | 431/622 [01:36<01:02,  3.07it/s]"
     ]
    },
    {
     "name": "stdout",
     "output_type": "stream",
     "text": [
      "bone-penn-224\n",
      "Does this patient have T1 available? True\n",
      "I'm doing the thing.\n",
      "bone-hup-109\n",
      "Does this patient have T1 available? True\n",
      "I'm doing the thing.\n"
     ]
    },
    {
     "name": "stderr",
     "output_type": "stream",
     "text": [
      "\r",
      " 70%|██████▉   | 433/622 [01:36<00:54,  3.50it/s]"
     ]
    },
    {
     "name": "stderr",
     "output_type": "stream",
     "text": [
      "\r",
      " 70%|██████▉   | 434/622 [01:36<00:44,  4.26it/s]"
     ]
    },
    {
     "name": "stdout",
     "output_type": "stream",
     "text": [
      "bone-hup-168\n",
      "Does this patient have T1 available? True\n",
      "I'm doing the thing.\n",
      "bone-penn-022\n",
      "Does this patient have T1 available? True\n",
      "I'm doing the thing.\n"
     ]
    },
    {
     "name": "stderr",
     "output_type": "stream",
     "text": [
      "\r",
      " 70%|███████   | 436/622 [01:37<00:35,  5.18it/s]"
     ]
    },
    {
     "name": "stdout",
     "output_type": "stream",
     "text": [
      "bone-penn-511\n",
      "Does this patient have T1 available? True\n",
      "I'm doing the thing.\n",
      "bone-penn-234\n",
      "Does this patient have T1 available? True\n",
      "I'm doing the thing.\n"
     ]
    },
    {
     "name": "stderr",
     "output_type": "stream",
     "text": [
      "\r",
      " 70%|███████   | 437/622 [01:37<00:39,  4.65it/s]"
     ]
    },
    {
     "name": "stdout",
     "output_type": "stream",
     "text": [
      "bone-penn-364\n",
      "Does this patient have T1 available? True\n",
      "I'm doing the thing.\n"
     ]
    },
    {
     "name": "stderr",
     "output_type": "stream",
     "text": [
      "\r",
      " 70%|███████   | 438/622 [01:37<00:48,  3.83it/s]"
     ]
    },
    {
     "name": "stderr",
     "output_type": "stream",
     "text": [
      "\r",
      " 71%|███████   | 439/622 [01:37<00:41,  4.41it/s]"
     ]
    },
    {
     "name": "stdout",
     "output_type": "stream",
     "text": [
      "bone-penn-616\n",
      "Does this patient have T1 available? True\n",
      "I'm doing the thing.\n",
      "bone-hup-214\n",
      "Does this patient have T1 available? True\n",
      "I'm doing the thing.\n"
     ]
    },
    {
     "name": "stderr",
     "output_type": "stream",
     "text": [
      "\r",
      " 71%|███████   | 440/622 [01:38<01:02,  2.91it/s]"
     ]
    },
    {
     "name": "stdout",
     "output_type": "stream",
     "text": [
      "bone-penn-163\n",
      "Does this patient have T1 available? True\n",
      "I'm doing the thing.\n"
     ]
    },
    {
     "name": "stderr",
     "output_type": "stream",
     "text": [
      "\r",
      " 71%|███████   | 441/622 [01:38<00:55,  3.25it/s]"
     ]
    },
    {
     "name": "stdout",
     "output_type": "stream",
     "text": [
      "bone-hup-205\n",
      "Does this patient have T1 available? True\n",
      "I'm doing the thing.\n"
     ]
    },
    {
     "name": "stderr",
     "output_type": "stream",
     "text": [
      "\r",
      " 71%|███████   | 442/622 [01:38<00:54,  3.31it/s]"
     ]
    },
    {
     "name": "stderr",
     "output_type": "stream",
     "text": [
      "\r",
      " 71%|███████▏  | 444/622 [01:39<00:42,  4.22it/s]"
     ]
    },
    {
     "name": "stdout",
     "output_type": "stream",
     "text": [
      "bone-hup-192\n",
      "Does this patient have T1 available? True\n",
      "I'm doing the thing.\n",
      "bone-china-215\n",
      "Does this patient have T1 available? True\n",
      "I'm doing the thing.\n",
      "bone-penn-356\n",
      "Does this patient have T1 available? True\n",
      "I'm doing the thing.\n"
     ]
    },
    {
     "name": "stderr",
     "output_type": "stream",
     "text": [
      "\r",
      " 72%|███████▏  | 445/622 [01:39<00:41,  4.23it/s]"
     ]
    },
    {
     "name": "stdout",
     "output_type": "stream",
     "text": [
      "bone-hup-261\n",
      "Does this patient have T1 available? True\n",
      "I'm doing the thing.\n",
      "bone-hup-89\n",
      "Does this patient have T1 available? True\n",
      "I'm doing the thing.\n"
     ]
    },
    {
     "name": "stderr",
     "output_type": "stream",
     "text": [
      "\r",
      " 72%|███████▏  | 447/622 [01:39<00:37,  4.66it/s]"
     ]
    },
    {
     "name": "stdout",
     "output_type": "stream",
     "text": [
      "bone-penn-617\n",
      "Does this patient have T1 available? True\n",
      "I'm doing the thing.\n"
     ]
    },
    {
     "name": "stderr",
     "output_type": "stream",
     "text": [
      "\r",
      " 72%|███████▏  | 448/622 [01:40<01:11,  2.45it/s]"
     ]
    },
    {
     "name": "stderr",
     "output_type": "stream",
     "text": [
      "\r",
      " 72%|███████▏  | 449/622 [01:40<00:57,  3.01it/s]"
     ]
    },
    {
     "name": "stdout",
     "output_type": "stream",
     "text": [
      "bone-china-234\n",
      "Does this patient have T1 available? True\n",
      "I'm doing the thing.\n",
      "bone-penn-388\n",
      "Does this patient have T1 available? True\n",
      "I'm doing the thing.\n"
     ]
    },
    {
     "name": "stderr",
     "output_type": "stream",
     "text": [
      "\r",
      " 72%|███████▏  | 450/622 [01:40<00:45,  3.78it/s]"
     ]
    },
    {
     "name": "stdout",
     "output_type": "stream",
     "text": [
      "bone-penn-633\n",
      "Does this patient have T1 available? True\n",
      "I'm doing the thing.\n",
      "bone-penn-380\n",
      "Does this patient have T1 available? True\n",
      "I'm doing the thing.\n"
     ]
    },
    {
     "name": "stderr",
     "output_type": "stream",
     "text": [
      "\r",
      " 73%|███████▎  | 452/622 [01:41<00:38,  4.46it/s]"
     ]
    },
    {
     "name": "stdout",
     "output_type": "stream",
     "text": [
      "bone-penn-261\n",
      "Does this patient have T1 available? True\n",
      "I'm doing the thing.\n",
      "bone-hup-118\n",
      "Does this patient have T1 available? True\n",
      "I'm doing the thing.\n"
     ]
    },
    {
     "name": "stderr",
     "output_type": "stream",
     "text": [
      "\r",
      " 73%|███████▎  | 454/622 [01:41<00:42,  3.91it/s]"
     ]
    },
    {
     "name": "stdout",
     "output_type": "stream",
     "text": [
      "bone-hup-224\n",
      "Does this patient have T1 available? True\n",
      "I'm doing the thing.\n",
      "bone-hup-213\n",
      "Does this patient have T1 available? True\n",
      "I'm doing the thing.\n"
     ]
    },
    {
     "name": "stderr",
     "output_type": "stream",
     "text": [
      "\r",
      " 73%|███████▎  | 456/622 [01:41<00:35,  4.70it/s]"
     ]
    },
    {
     "name": "stdout",
     "output_type": "stream",
     "text": [
      "bone-penn-241\n",
      "Does this patient have T1 available? True\n",
      "I'm doing the thing.\n"
     ]
    },
    {
     "name": "stderr",
     "output_type": "stream",
     "text": [
      "\r",
      " 73%|███████▎  | 457/622 [01:42<00:40,  4.09it/s]"
     ]
    },
    {
     "name": "stdout",
     "output_type": "stream",
     "text": [
      "bone-penn-646\n",
      "Does this patient have T1 available? True\n",
      "I'm doing the thing.\n"
     ]
    },
    {
     "name": "stderr",
     "output_type": "stream",
     "text": [
      "\r",
      " 74%|███████▎  | 458/622 [01:42<00:39,  4.17it/s]"
     ]
    },
    {
     "name": "stdout",
     "output_type": "stream",
     "text": [
      "bone-penn-203\n",
      "Does this patient have T1 available? True\n",
      "I'm doing the thing.\n"
     ]
    },
    {
     "name": "stderr",
     "output_type": "stream",
     "text": [
      "\r",
      " 74%|███████▍  | 459/622 [01:43<01:37,  1.68it/s]"
     ]
    },
    {
     "name": "stderr",
     "output_type": "stream",
     "text": [
      "\r",
      " 74%|███████▍  | 460/622 [01:44<01:12,  2.22it/s]"
     ]
    },
    {
     "name": "stdout",
     "output_type": "stream",
     "text": [
      "bone-hup-193\n",
      "Does this patient have T1 available? True\n",
      "I'm doing the thing.\n",
      "bone-hup-166\n",
      "Does this patient have T1 available? True\n",
      "I'm doing the thing.\n"
     ]
    },
    {
     "name": "stderr",
     "output_type": "stream",
     "text": [
      "\r",
      " 74%|███████▍  | 461/622 [01:44<00:56,  2.86it/s]"
     ]
    },
    {
     "name": "stdout",
     "output_type": "stream",
     "text": [
      "bone-penn-611\n",
      "Does this patient have T1 available? True\n",
      "I'm doing the thing.\n"
     ]
    },
    {
     "name": "stderr",
     "output_type": "stream",
     "text": [
      "\r",
      " 74%|███████▍  | 462/622 [01:44<00:51,  3.09it/s]"
     ]
    },
    {
     "name": "stdout",
     "output_type": "stream",
     "text": [
      "bone-penn-178\n",
      "Does this patient have T1 available? True\n",
      "I'm doing the thing.\n",
      "bone-penn-627\n",
      "Does this patient have T1 available? True\n",
      "I'm doing the thing.\n"
     ]
    },
    {
     "name": "stderr",
     "output_type": "stream",
     "text": [
      "\r",
      " 75%|███████▍  | 464/622 [01:48<02:12,  1.19it/s]"
     ]
    },
    {
     "name": "stderr",
     "output_type": "stream",
     "text": [
      "\r",
      " 75%|███████▍  | 466/622 [01:48<01:36,  1.62it/s]"
     ]
    },
    {
     "name": "stdout",
     "output_type": "stream",
     "text": [
      "bone-hup-54\n",
      "Does this patient have T1 available? True\n",
      "I'm doing the thing.\n",
      "bone-penn-171\n",
      "Does this patient have T1 available? True\n",
      "I'm doing the thing.\n",
      "bone-hup-226\n",
      "Does this patient have T1 available? True\n",
      "I'm doing the thing.\n"
     ]
    },
    {
     "name": "stderr",
     "output_type": "stream",
     "text": [
      "\r",
      " 75%|███████▌  | 467/622 [01:49<01:23,  1.87it/s]"
     ]
    },
    {
     "name": "stdout",
     "output_type": "stream",
     "text": [
      "bone-penn-198\n",
      "Does this patient have T1 available? True\n",
      "I'm doing the thing.\n"
     ]
    },
    {
     "name": "stderr",
     "output_type": "stream",
     "text": [
      "\r",
      " 75%|███████▌  | 468/622 [01:49<01:11,  2.15it/s]"
     ]
    },
    {
     "name": "stderr",
     "output_type": "stream",
     "text": [
      "\r",
      " 75%|███████▌  | 469/622 [01:49<00:56,  2.70it/s]"
     ]
    },
    {
     "name": "stdout",
     "output_type": "stream",
     "text": [
      "bone-hup-2\n",
      "Does this patient have T1 available? True\n",
      "I'm doing the thing.\n",
      "bone-hup-67\n",
      "Does this patient have T1 available? True\n",
      "I'm doing the thing.\n"
     ]
    },
    {
     "name": "stderr",
     "output_type": "stream",
     "text": [
      "\r",
      " 76%|███████▌  | 470/622 [01:49<00:45,  3.31it/s]"
     ]
    },
    {
     "name": "stdout",
     "output_type": "stream",
     "text": [
      "bone-china-177\n",
      "Does this patient have T1 available? True\n",
      "I'm doing the thing.\n",
      "bone-hup-39\n",
      "Does this patient have T1 available? True\n",
      "I'm doing the thing.\n"
     ]
    },
    {
     "name": "stderr",
     "output_type": "stream",
     "text": [
      "\r",
      " 76%|███████▌  | 472/622 [01:50<00:55,  2.70it/s]"
     ]
    },
    {
     "name": "stdout",
     "output_type": "stream",
     "text": [
      "bone-penn-531\n",
      "Does this patient have T1 available? True\n",
      "I'm doing the thing.\n"
     ]
    },
    {
     "name": "stderr",
     "output_type": "stream",
     "text": [
      "\r",
      " 76%|███████▌  | 473/622 [01:50<00:50,  2.93it/s]"
     ]
    },
    {
     "name": "stdout",
     "output_type": "stream",
     "text": [
      "bone-hup-77\n",
      "Does this patient have T1 available? True\n",
      "I'm doing the thing.\n",
      "bone-penn-006\n",
      "Does this patient have T1 available? True\n",
      "I'm doing the thing.\n"
     ]
    },
    {
     "name": "stderr",
     "output_type": "stream",
     "text": [
      "\r",
      " 76%|███████▋  | 475/622 [01:51<00:40,  3.65it/s]"
     ]
    },
    {
     "name": "stderr",
     "output_type": "stream",
     "text": [
      "\r",
      " 77%|███████▋  | 476/622 [01:51<00:32,  4.43it/s]"
     ]
    },
    {
     "name": "stdout",
     "output_type": "stream",
     "text": [
      "bone-penn-266\n",
      "Does this patient have T1 available? True\n",
      "I'm doing the thing.\n",
      "bone-penn-601\n",
      "Does this patient have T1 available? True\n",
      "I'm doing the thing.\n"
     ]
    },
    {
     "name": "stderr",
     "output_type": "stream",
     "text": [
      "\r",
      " 77%|███████▋  | 477/622 [01:52<01:00,  2.39it/s]"
     ]
    },
    {
     "name": "stdout",
     "output_type": "stream",
     "text": [
      "bone-penn-363\n",
      "Does this patient have T1 available? True\n",
      "I'm doing the thing.\n"
     ]
    },
    {
     "name": "stderr",
     "output_type": "stream",
     "text": [
      "\r",
      " 77%|███████▋  | 478/622 [01:52<01:01,  2.34it/s]"
     ]
    },
    {
     "name": "stderr",
     "output_type": "stream",
     "text": [
      "\r",
      " 77%|███████▋  | 479/622 [01:52<00:47,  3.03it/s]"
     ]
    },
    {
     "name": "stdout",
     "output_type": "stream",
     "text": [
      "bone-penn-414\n",
      "Does this patient have T1 available? True\n",
      "I'm doing the thing.\n",
      "bone-hup-56\n",
      "Does this patient have T1 available? True\n",
      "I'm doing the thing.\n"
     ]
    },
    {
     "name": "stderr",
     "output_type": "stream",
     "text": [
      "\r",
      " 77%|███████▋  | 480/622 [01:52<00:40,  3.53it/s]"
     ]
    },
    {
     "name": "stderr",
     "output_type": "stream",
     "text": [
      "\r",
      " 77%|███████▋  | 481/622 [01:53<00:36,  3.87it/s]"
     ]
    },
    {
     "name": "stdout",
     "output_type": "stream",
     "text": [
      "bone-hup-83\n",
      "Does this patient have T1 available? True\n",
      "I'm doing the thing.\n",
      "bone-penn-169\n",
      "Does this patient have T1 available? True\n",
      "I'm doing the thing.\n"
     ]
    },
    {
     "name": "stderr",
     "output_type": "stream",
     "text": [
      "\r",
      " 77%|███████▋  | 482/622 [01:53<00:31,  4.48it/s]"
     ]
    },
    {
     "name": "stderr",
     "output_type": "stream",
     "text": [
      "\r",
      " 78%|███████▊  | 483/622 [01:53<00:30,  4.62it/s]"
     ]
    },
    {
     "name": "stdout",
     "output_type": "stream",
     "text": [
      "bone-penn-620\n",
      "Does this patient have T1 available? True\n",
      "I'm doing the thing.\n",
      "bone-hup-94\n",
      "Does this patient have T1 available? True\n",
      "I'm doing the thing.\n"
     ]
    },
    {
     "name": "stderr",
     "output_type": "stream",
     "text": [
      "\r",
      " 78%|███████▊  | 484/622 [01:53<00:38,  3.62it/s]"
     ]
    },
    {
     "name": "stderr",
     "output_type": "stream",
     "text": [
      "\r",
      " 78%|███████▊  | 485/622 [01:54<00:34,  4.01it/s]"
     ]
    },
    {
     "name": "stdout",
     "output_type": "stream",
     "text": [
      "bone-penn-124\n",
      "Does this patient have T1 available? True\n",
      "I'm doing the thing.\n",
      "bone-hup-232\n",
      "Does this patient have T1 available? True\n",
      "I'm doing the thing.\n"
     ]
    },
    {
     "name": "stderr",
     "output_type": "stream",
     "text": [
      "\r",
      " 78%|███████▊  | 486/622 [01:54<00:50,  2.68it/s]"
     ]
    },
    {
     "name": "stdout",
     "output_type": "stream",
     "text": [
      "bone-penn-014\n",
      "Does this patient have T1 available? True\n",
      "I'm doing the thing.\n"
     ]
    },
    {
     "name": "stderr",
     "output_type": "stream",
     "text": [
      "\r",
      " 78%|███████▊  | 487/622 [01:54<00:45,  2.94it/s]"
     ]
    },
    {
     "name": "stdout",
     "output_type": "stream",
     "text": [
      "bone-penn-314\n",
      "Does this patient have T1 available? True\n",
      "I'm doing the thing.\n"
     ]
    },
    {
     "name": "stderr",
     "output_type": "stream",
     "text": [
      "\r",
      " 78%|███████▊  | 488/622 [01:55<00:42,  3.12it/s]"
     ]
    },
    {
     "name": "stdout",
     "output_type": "stream",
     "text": [
      "bone-penn-644\n",
      "Does this patient have T1 available? True\n",
      "I'm doing the thing.\n"
     ]
    },
    {
     "name": "stderr",
     "output_type": "stream",
     "text": [
      "\r",
      " 79%|███████▊  | 489/622 [01:55<00:57,  2.30it/s]"
     ]
    },
    {
     "name": "stdout",
     "output_type": "stream",
     "text": [
      "bone-penn-194\n",
      "Does this patient have T1 available? True\n",
      "I'm doing the thing.\n"
     ]
    },
    {
     "name": "stderr",
     "output_type": "stream",
     "text": [
      "\r",
      " 79%|███████▉  | 490/622 [01:56<00:53,  2.49it/s]"
     ]
    },
    {
     "name": "stderr",
     "output_type": "stream",
     "text": [
      "\r",
      " 79%|███████▉  | 491/622 [01:56<00:41,  3.12it/s]"
     ]
    },
    {
     "name": "stdout",
     "output_type": "stream",
     "text": [
      "bone-penn-608\n",
      "Does this patient have T1 available? True\n",
      "I'm doing the thing.\n",
      "bone-penn-179\n",
      "Does this patient have T1 available? True\n",
      "I'm doing the thing.\n"
     ]
    },
    {
     "name": "stderr",
     "output_type": "stream",
     "text": [
      "\r",
      " 79%|███████▉  | 493/622 [01:56<00:31,  4.09it/s]"
     ]
    },
    {
     "name": "stdout",
     "output_type": "stream",
     "text": [
      "bone-penn-238\n",
      "Does this patient have T1 available? True\n",
      "I'm doing the thing.\n",
      "bone-penn-460\n",
      "Does this patient have T1 available? True\n",
      "I'm doing the thing.\n",
      "bone-hup-102\n",
      "Does this patient have T1 available? True\n",
      "I'm doing the thing.\n"
     ]
    },
    {
     "name": "stderr",
     "output_type": "stream",
     "text": [
      "\r",
      " 80%|███████▉  | 495/622 [01:56<00:25,  4.96it/s]"
     ]
    },
    {
     "name": "stdout",
     "output_type": "stream",
     "text": [
      "bone-penn-622\n",
      "Does this patient have T1 available? True\n",
      "I'm doing the thing.\n"
     ]
    },
    {
     "name": "stderr",
     "output_type": "stream",
     "text": [
      "\r",
      " 80%|███████▉  | 496/622 [01:56<00:27,  4.54it/s]"
     ]
    },
    {
     "name": "stdout",
     "output_type": "stream",
     "text": [
      "bone-hup-144\n",
      "Does this patient have T1 available? True\n",
      "I'm doing the thing.\n"
     ]
    },
    {
     "name": "stderr",
     "output_type": "stream",
     "text": [
      "\r",
      " 80%|███████▉  | 497/622 [01:57<00:30,  4.06it/s]"
     ]
    },
    {
     "name": "stderr",
     "output_type": "stream",
     "text": [
      "\r",
      " 80%|████████  | 498/622 [01:57<00:25,  4.83it/s]"
     ]
    },
    {
     "name": "stdout",
     "output_type": "stream",
     "text": [
      "bone-hup-171\n",
      "Does this patient have T1 available? True\n",
      "I'm doing the thing.\n",
      "bone-china-176\n",
      "Does this patient have T1 available? True\n",
      "I'm doing the thing.\n"
     ]
    },
    {
     "name": "stderr",
     "output_type": "stream",
     "text": [
      "\r",
      " 80%|████████  | 499/622 [01:57<00:23,  5.17it/s]"
     ]
    },
    {
     "name": "stderr",
     "output_type": "stream",
     "text": [
      "\r",
      " 80%|████████  | 500/622 [01:57<00:21,  5.73it/s]"
     ]
    },
    {
     "name": "stdout",
     "output_type": "stream",
     "text": [
      "bone-penn-607\n",
      "Does this patient have T1 available? True\n",
      "I'm doing the thing.\n",
      "bone-penn-439\n",
      "Does this patient have T1 available? True\n",
      "I'm doing the thing.\n"
     ]
    },
    {
     "name": "stderr",
     "output_type": "stream",
     "text": [
      "\r",
      " 81%|████████  | 501/622 [01:58<00:34,  3.50it/s]"
     ]
    },
    {
     "name": "stdout",
     "output_type": "stream",
     "text": [
      "bone-penn-020\n",
      "Does this patient have T1 available? True\n",
      "I'm doing the thing.\n",
      "bone-hup-111\n",
      "Does this patient have T1 available? True\n",
      "I'm doing the thing.\n"
     ]
    },
    {
     "name": "stderr",
     "output_type": "stream",
     "text": [
      "\r",
      " 81%|████████  | 503/622 [01:58<00:36,  3.30it/s]"
     ]
    },
    {
     "name": "stdout",
     "output_type": "stream",
     "text": [
      "bone-penn-596\n",
      "Does this patient have T1 available? True\n",
      "I'm doing the thing.\n"
     ]
    },
    {
     "name": "stderr",
     "output_type": "stream",
     "text": [
      "\r",
      " 81%|████████  | 504/622 [01:59<00:34,  3.42it/s]"
     ]
    },
    {
     "name": "stderr",
     "output_type": "stream",
     "text": [
      "\r",
      " 81%|████████▏ | 506/622 [01:59<00:25,  4.47it/s]"
     ]
    },
    {
     "name": "stdout",
     "output_type": "stream",
     "text": [
      "bone-penn-367\n",
      "Does this patient have T1 available? True\n",
      "I'm doing the thing.\n",
      "bone-hup-55\n",
      "Does this patient have T1 available? True\n",
      "I'm doing the thing.\n",
      "bone-penn-316\n",
      "Does this patient have T1 available? True\n",
      "I'm doing the thing.\n"
     ]
    },
    {
     "name": "stderr",
     "output_type": "stream",
     "text": [
      "\r",
      " 82%|████████▏ | 507/622 [01:59<00:35,  3.24it/s]"
     ]
    },
    {
     "name": "stdout",
     "output_type": "stream",
     "text": [
      "bone-penn-458\n",
      "Does this patient have T1 available? True\n",
      "I'm doing the thing.\n"
     ]
    },
    {
     "name": "stderr",
     "output_type": "stream",
     "text": [
      "\r",
      " 82%|████████▏ | 508/622 [02:00<00:40,  2.85it/s]"
     ]
    },
    {
     "name": "stdout",
     "output_type": "stream",
     "text": [
      "bone-hup-211\n",
      "Does this patient have T1 available? True\n",
      "I'm doing the thing.\n"
     ]
    },
    {
     "name": "stderr",
     "output_type": "stream",
     "text": [
      "\r",
      " 82%|████████▏ | 509/622 [02:00<00:44,  2.55it/s]"
     ]
    },
    {
     "name": "stdout",
     "output_type": "stream",
     "text": [
      "bone-penn-268\n",
      "Does this patient have T1 available? True\n",
      "I'm doing the thing.\n",
      "bone-penn-026\n",
      "Does this patient have T1 available? True\n",
      "I'm doing the thing.\n"
     ]
    },
    {
     "name": "stderr",
     "output_type": "stream",
     "text": [
      "\r",
      " 82%|████████▏ | 511/622 [02:01<00:34,  3.23it/s]"
     ]
    },
    {
     "name": "stdout",
     "output_type": "stream",
     "text": [
      "bone-penn-010\n",
      "Does this patient have T1 available? True\n",
      "I'm doing the thing.\n"
     ]
    },
    {
     "name": "stderr",
     "output_type": "stream",
     "text": [
      "\r",
      " 82%|████████▏ | 512/622 [02:01<00:33,  3.33it/s]"
     ]
    },
    {
     "name": "stdout",
     "output_type": "stream",
     "text": [
      "bone-penn-191\n",
      "Does this patient have T1 available? True\n",
      "I'm doing the thing.\n"
     ]
    },
    {
     "name": "stderr",
     "output_type": "stream",
     "text": [
      "\r",
      " 82%|████████▏ | 513/622 [02:01<00:31,  3.49it/s]"
     ]
    },
    {
     "name": "stdout",
     "output_type": "stream",
     "text": [
      "bone-penn-052\n",
      "Does this patient have T1 available? True\n",
      "I'm doing the thing.\n"
     ]
    },
    {
     "name": "stderr",
     "output_type": "stream",
     "text": [
      "\r",
      " 83%|████████▎ | 514/622 [02:01<00:30,  3.50it/s]"
     ]
    },
    {
     "name": "stdout",
     "output_type": "stream",
     "text": [
      "bone-hup-160\n",
      "Does this patient have T1 available? True\n",
      "I'm doing the thing.\n"
     ]
    },
    {
     "name": "stderr",
     "output_type": "stream",
     "text": [
      "\r",
      " 83%|████████▎ | 515/622 [02:02<00:32,  3.30it/s]"
     ]
    },
    {
     "name": "stderr",
     "output_type": "stream",
     "text": [
      "\r",
      " 83%|████████▎ | 516/622 [02:02<00:25,  4.08it/s]"
     ]
    },
    {
     "name": "stdout",
     "output_type": "stream",
     "text": [
      "bone-penn-073\n",
      "Does this patient have T1 available? True\n",
      "I'm doing the thing.\n",
      "bone-penn-368\n",
      "Does this patient have T1 available? True\n",
      "I'm doing the thing.\n"
     ]
    },
    {
     "name": "stderr",
     "output_type": "stream",
     "text": [
      "\r",
      " 83%|████████▎ | 517/622 [02:02<00:22,  4.69it/s]"
     ]
    },
    {
     "name": "stderr",
     "output_type": "stream",
     "text": [
      "\r",
      " 83%|████████▎ | 519/622 [02:02<00:17,  5.77it/s]"
     ]
    },
    {
     "name": "stdout",
     "output_type": "stream",
     "text": [
      "bone-penn-479\n",
      "Does this patient have T1 available? True\n",
      "I'm doing the thing.\n",
      "bone-penn-172\n",
      "Does this patient have T1 available? True\n",
      "I'm doing the thing.\n",
      "bone-penn-063\n",
      "Does this patient have T1 available? True\n",
      "I'm doing the thing.\n"
     ]
    },
    {
     "name": "stderr",
     "output_type": "stream",
     "text": [
      "\r",
      " 84%|████████▎ | 520/622 [02:03<00:30,  3.31it/s]"
     ]
    },
    {
     "name": "stderr",
     "output_type": "stream",
     "text": [
      "\r",
      " 84%|████████▍ | 521/622 [02:03<00:24,  4.08it/s]"
     ]
    },
    {
     "name": "stdout",
     "output_type": "stream",
     "text": [
      "bone-penn-119\n",
      "Does this patient have T1 available? True\n",
      "I'm doing the thing.\n",
      "bone-penn-069\n",
      "Does this patient have T1 available? True\n",
      "I'm doing the thing.\n"
     ]
    },
    {
     "name": "stderr",
     "output_type": "stream",
     "text": [
      "\r",
      " 84%|████████▍ | 522/622 [02:03<00:22,  4.47it/s]"
     ]
    },
    {
     "name": "stderr",
     "output_type": "stream",
     "text": [
      "\r",
      " 84%|████████▍ | 523/622 [02:03<00:18,  5.34it/s]"
     ]
    },
    {
     "name": "stdout",
     "output_type": "stream",
     "text": [
      "bone-china-209\n",
      "Does this patient have T1 available? True\n",
      "I'm doing the thing.\n",
      "bone-penn-300\n",
      "Does this patient have T1 available? True\n",
      "I'm doing the thing.\n"
     ]
    },
    {
     "name": "stderr",
     "output_type": "stream",
     "text": [
      "\r",
      " 84%|████████▍ | 524/622 [02:03<00:25,  3.89it/s]"
     ]
    },
    {
     "name": "stdout",
     "output_type": "stream",
     "text": [
      "bone-hup-273\n",
      "Does this patient have T1 available? True\n",
      "I'm doing the thing.\n",
      "bone-hup-65\n",
      "Does this patient have T1 available? True\n",
      "I'm doing the thing.\n"
     ]
    },
    {
     "name": "stderr",
     "output_type": "stream",
     "text": [
      "\r",
      " 85%|████████▍ | 526/622 [02:04<00:21,  4.56it/s]"
     ]
    },
    {
     "name": "stdout",
     "output_type": "stream",
     "text": [
      "bone-penn-259\n",
      "Does this patient have T1 available? True\n",
      "I'm doing the thing.\n",
      "bone-hup-169\n",
      "Does this patient have T1 available? True\n",
      "I'm doing the thing.\n"
     ]
    },
    {
     "name": "stderr",
     "output_type": "stream",
     "text": [
      "\r",
      " 85%|████████▍ | 528/622 [02:04<00:21,  4.37it/s]"
     ]
    },
    {
     "name": "stderr",
     "output_type": "stream",
     "text": [
      "\r",
      " 85%|████████▌ | 529/622 [02:04<00:19,  4.78it/s]"
     ]
    },
    {
     "name": "stdout",
     "output_type": "stream",
     "text": [
      "bone-hup-61\n",
      "Does this patient have T1 available? True\n",
      "I'm doing the thing.\n",
      "bone-penn-309\n",
      "Does this patient have T1 available? True\n",
      "I'm doing the thing.\n"
     ]
    },
    {
     "name": "stderr",
     "output_type": "stream",
     "text": [
      "\r",
      " 85%|████████▌ | 530/622 [02:05<00:19,  4.79it/s]"
     ]
    },
    {
     "name": "stdout",
     "output_type": "stream",
     "text": [
      "bone-penn-650\n",
      "Does this patient have T1 available? True\n",
      "I'm doing the thing.\n"
     ]
    },
    {
     "name": "stderr",
     "output_type": "stream",
     "text": [
      "\r",
      " 85%|████████▌ | 531/622 [02:05<00:21,  4.27it/s]"
     ]
    },
    {
     "name": "stderr",
     "output_type": "stream",
     "text": [
      "\r",
      " 86%|████████▌ | 532/622 [02:05<00:20,  4.49it/s]"
     ]
    },
    {
     "name": "stdout",
     "output_type": "stream",
     "text": [
      "bone-penn-614\n",
      "Does this patient have T1 available? True\n",
      "I'm doing the thing.\n",
      "bone-penn-405\n",
      "Does this patient have T1 available? True\n",
      "I'm doing the thing.\n"
     ]
    },
    {
     "name": "stderr",
     "output_type": "stream",
     "text": [
      "\r",
      " 86%|████████▌ | 533/622 [02:05<00:20,  4.38it/s]"
     ]
    },
    {
     "name": "stdout",
     "output_type": "stream",
     "text": [
      "bone-penn-600\n",
      "Does this patient have T1 available? True\n",
      "I'm doing the thing.\n"
     ]
    },
    {
     "name": "stderr",
     "output_type": "stream",
     "text": [
      "\r",
      " 86%|████████▌ | 534/622 [02:06<00:21,  4.13it/s]"
     ]
    },
    {
     "name": "stderr",
     "output_type": "stream",
     "text": [
      "\r",
      " 86%|████████▌ | 535/622 [02:06<00:19,  4.46it/s]"
     ]
    },
    {
     "name": "stdout",
     "output_type": "stream",
     "text": [
      "bone-hup-81\n",
      "Does this patient have T1 available? True\n",
      "I'm doing the thing.\n",
      "bone-penn-626\n",
      "Does this patient have T1 available? True\n",
      "I'm doing the thing.\n"
     ]
    },
    {
     "name": "stderr",
     "output_type": "stream",
     "text": [
      "\r",
      " 86%|████████▋ | 537/622 [02:06<00:14,  5.67it/s]"
     ]
    },
    {
     "name": "stdout",
     "output_type": "stream",
     "text": [
      "bone-hup-52\n",
      "Does this patient have T1 available? True\n",
      "I'm doing the thing.\n",
      "bone-hup-93\n",
      "Does this patient have T1 available? True\n",
      "I'm doing the thing.\n"
     ]
    },
    {
     "name": "stderr",
     "output_type": "stream",
     "text": [
      "\r",
      " 86%|████████▋ | 538/622 [02:06<00:19,  4.38it/s]"
     ]
    },
    {
     "name": "stdout",
     "output_type": "stream",
     "text": [
      "bone-hup-23\n",
      "Does this patient have T1 available? True\n",
      "I'm doing the thing.\n"
     ]
    },
    {
     "name": "stderr",
     "output_type": "stream",
     "text": [
      "\r",
      " 87%|████████▋ | 539/622 [02:07<00:24,  3.39it/s]"
     ]
    },
    {
     "name": "stdout",
     "output_type": "stream",
     "text": [
      "bone-penn-643\n",
      "Does this patient have T1 available? True\n",
      "I'm doing the thing.\n"
     ]
    },
    {
     "name": "stderr",
     "output_type": "stream",
     "text": [
      "\r",
      " 87%|████████▋ | 540/622 [02:07<00:26,  3.15it/s]"
     ]
    },
    {
     "name": "stdout",
     "output_type": "stream",
     "text": [
      "bone-hup-237\n",
      "Does this patient have T1 available? True\n",
      "I'm doing the thing.\n"
     ]
    },
    {
     "name": "stderr",
     "output_type": "stream",
     "text": [
      "\r",
      " 87%|████████▋ | 541/622 [02:07<00:23,  3.49it/s]"
     ]
    },
    {
     "name": "stderr",
     "output_type": "stream",
     "text": [
      "\r",
      " 87%|████████▋ | 542/622 [02:08<00:20,  3.89it/s]"
     ]
    },
    {
     "name": "stdout",
     "output_type": "stream",
     "text": [
      "bone-china-231\n",
      "Does this patient have T1 available? True\n",
      "I'm doing the thing.\n",
      "bone-penn-598\n",
      "Does this patient have T1 available? True\n",
      "I'm doing the thing.\n"
     ]
    },
    {
     "name": "stderr",
     "output_type": "stream",
     "text": [
      "\r",
      " 87%|████████▋ | 543/622 [02:08<00:26,  3.01it/s]"
     ]
    },
    {
     "name": "stdout",
     "output_type": "stream",
     "text": [
      "bone-hup-179\n",
      "Does this patient have T1 available? True\n",
      "I'm doing the thing.\n"
     ]
    },
    {
     "name": "stderr",
     "output_type": "stream",
     "text": [
      "\r",
      " 87%|████████▋ | 544/622 [02:08<00:25,  3.02it/s]"
     ]
    },
    {
     "name": "stdout",
     "output_type": "stream",
     "text": [
      "bone-penn-244\n",
      "Does this patient have T1 available? True\n",
      "I'm doing the thing.\n"
     ]
    },
    {
     "name": "stderr",
     "output_type": "stream",
     "text": [
      "\r",
      " 88%|████████▊ | 545/622 [02:09<00:23,  3.28it/s]"
     ]
    },
    {
     "name": "stderr",
     "output_type": "stream",
     "text": [
      "\r",
      " 88%|████████▊ | 546/622 [02:09<00:19,  3.94it/s]"
     ]
    },
    {
     "name": "stdout",
     "output_type": "stream",
     "text": [
      "bone-hup-138\n",
      "Does this patient have T1 available? True\n",
      "I'm doing the thing.\n",
      "bone-hup-244\n",
      "Does this patient have T1 available? True\n",
      "I'm doing the thing.\n"
     ]
    },
    {
     "name": "stderr",
     "output_type": "stream",
     "text": [
      "\r",
      " 88%|████████▊ | 547/622 [02:09<00:16,  4.52it/s]"
     ]
    },
    {
     "name": "stderr",
     "output_type": "stream",
     "text": [
      "\r",
      " 88%|████████▊ | 548/622 [02:09<00:15,  4.63it/s]"
     ]
    },
    {
     "name": "stdout",
     "output_type": "stream",
     "text": [
      "bone-penn-219\n",
      "Does this patient have T1 available? True\n",
      "I'm doing the thing.\n"
     ]
    },
    {
     "name": "stdout",
     "output_type": "stream",
     "text": [
      "bone-hup-262\n",
      "Does this patient have T1 available? True\n",
      "I'm doing the thing.\n",
      "bone-penn-055\n",
      "Does this patient have T1 available? True\n",
      "I'm doing the thing.\n"
     ]
    },
    {
     "name": "stderr",
     "output_type": "stream",
     "text": [
      "\r",
      " 88%|████████▊ | 550/622 [02:09<00:13,  5.50it/s]"
     ]
    },
    {
     "name": "stdout",
     "output_type": "stream",
     "text": [
      "bone-penn-192\n",
      "Does this patient have T1 available? True\n",
      "I'm doing the thing.\n"
     ]
    },
    {
     "name": "stderr",
     "output_type": "stream",
     "text": [
      "\r",
      " 89%|████████▊ | 551/622 [02:10<00:14,  4.76it/s]"
     ]
    },
    {
     "name": "stdout",
     "output_type": "stream",
     "text": [
      "bone-penn-236\n",
      "Does this patient have T1 available? True\n",
      "I'm doing the thing.\n"
     ]
    },
    {
     "name": "stderr",
     "output_type": "stream",
     "text": [
      "\r",
      " 89%|████████▊ | 552/622 [02:10<00:14,  4.76it/s]"
     ]
    },
    {
     "name": "stdout",
     "output_type": "stream",
     "text": [
      "bone-penn-018\n",
      "Does this patient have T1 available? True\n",
      "I'm doing the thing.\n"
     ]
    },
    {
     "name": "stderr",
     "output_type": "stream",
     "text": [
      "\r",
      " 89%|████████▉ | 553/622 [02:10<00:21,  3.24it/s]"
     ]
    },
    {
     "name": "stdout",
     "output_type": "stream",
     "text": [
      "bone-penn-072\n",
      "Does this patient have T1 available? True\n",
      "I'm doing the thing.\n"
     ]
    },
    {
     "name": "stderr",
     "output_type": "stream",
     "text": [
      "\r",
      " 89%|████████▉ | 554/622 [02:11<00:27,  2.52it/s]"
     ]
    },
    {
     "name": "stderr",
     "output_type": "stream",
     "text": [
      "\r",
      " 89%|████████▉ | 556/622 [02:11<00:19,  3.31it/s]"
     ]
    },
    {
     "name": "stdout",
     "output_type": "stream",
     "text": [
      "bone-penn-546\n",
      "Does this patient have T1 available? True\n",
      "I'm doing the thing.\n",
      "bone-china-201\n",
      "Does this patient have T1 available? True\n",
      "I'm doing the thing.\n",
      "bone-penn-597\n",
      "Does this patient have T1 available? True\n",
      "I'm doing the thing.\n"
     ]
    },
    {
     "name": "stderr",
     "output_type": "stream",
     "text": [
      "\r",
      " 90%|████████▉ | 557/622 [02:11<00:16,  3.92it/s]"
     ]
    },
    {
     "name": "stderr",
     "output_type": "stream",
     "text": [
      "\r",
      " 90%|████████▉ | 558/622 [02:11<00:13,  4.62it/s]"
     ]
    },
    {
     "name": "stdout",
     "output_type": "stream",
     "text": [
      "bone-hup-91\n",
      "Does this patient have T1 available? True\n",
      "I'm doing the thing.\n",
      "bone-penn-227\n",
      "Does this patient have T1 available? True\n",
      "I'm doing the thing.\n"
     ]
    },
    {
     "name": "stderr",
     "output_type": "stream",
     "text": [
      "\r",
      " 90%|████████▉ | 559/622 [02:13<00:35,  1.80it/s]"
     ]
    },
    {
     "name": "stderr",
     "output_type": "stream",
     "text": [
      "\r",
      " 90%|█████████ | 560/622 [02:13<00:27,  2.29it/s]"
     ]
    },
    {
     "name": "stdout",
     "output_type": "stream",
     "text": [
      "bone-penn-464\n",
      "Does this patient have T1 available? True\n",
      "I'm doing the thing.\n",
      "bone-penn-467\n",
      "Does this patient have T1 available? True\n",
      "I'm doing the thing.\n"
     ]
    },
    {
     "name": "stderr",
     "output_type": "stream",
     "text": [
      "\r",
      " 90%|█████████ | 561/622 [02:13<00:20,  2.98it/s]"
     ]
    },
    {
     "name": "stdout",
     "output_type": "stream",
     "text": [
      "bone-hup-228\n",
      "Does this patient have T1 available? True\n",
      "I'm doing the thing.\n",
      "bone-penn-618\n",
      "Does this patient have T1 available? True\n",
      "I'm doing the thing.\n"
     ]
    },
    {
     "name": "stderr",
     "output_type": "stream",
     "text": [
      "\r",
      " 91%|█████████ | 563/622 [02:13<00:15,  3.76it/s]"
     ]
    },
    {
     "name": "stdout",
     "output_type": "stream",
     "text": [
      "bone-penn-253\n",
      "Does this patient have T1 available? True\n",
      "I'm doing the thing.\n",
      "bone-china-198\n",
      "Does this patient have T1 available? True\n",
      "I'm doing the thing.\n"
     ]
    },
    {
     "name": "stderr",
     "output_type": "stream",
     "text": [
      "\r",
      " 91%|█████████ | 565/622 [02:13<00:12,  4.58it/s]"
     ]
    },
    {
     "name": "stdout",
     "output_type": "stream",
     "text": [
      "bone-penn-223\n",
      "Does this patient have T1 available? True\n",
      "I'm doing the thing.\n"
     ]
    },
    {
     "name": "stderr",
     "output_type": "stream",
     "text": [
      "\r",
      " 91%|█████████ | 566/622 [02:14<00:12,  4.58it/s]"
     ]
    },
    {
     "name": "stdout",
     "output_type": "stream",
     "text": [
      "bone-hup-112\n",
      "Does this patient have T1 available? True\n",
      "I'm doing the thing.\n"
     ]
    },
    {
     "name": "stderr",
     "output_type": "stream",
     "text": [
      "\r",
      " 91%|█████████ | 567/622 [02:14<00:11,  4.60it/s]"
     ]
    },
    {
     "name": "stdout",
     "output_type": "stream",
     "text": [
      "bone-hup-105\n",
      "Does this patient have T1 available? True\n",
      "I'm doing the thing.\n"
     ]
    },
    {
     "name": "stderr",
     "output_type": "stream",
     "text": [
      "\r",
      " 91%|█████████▏| 568/622 [02:14<00:11,  4.66it/s]"
     ]
    },
    {
     "name": "stdout",
     "output_type": "stream",
     "text": [
      "bone-hup-62\n",
      "Does this patient have T1 available? True\n",
      "I'm doing the thing.\n"
     ]
    },
    {
     "name": "stderr",
     "output_type": "stream",
     "text": [
      "\r",
      " 91%|█████████▏| 569/622 [02:18<01:04,  1.21s/it]"
     ]
    },
    {
     "name": "stderr",
     "output_type": "stream",
     "text": [
      "\r",
      " 92%|█████████▏| 570/622 [02:18<00:45,  1.13it/s]"
     ]
    },
    {
     "name": "stdout",
     "output_type": "stream",
     "text": [
      "bone-china-199\n",
      "Does this patient have T1 available? True\n",
      "I'm doing the thing.\n",
      "bone-penn-126\n",
      "Does this patient have T1 available? True\n",
      "I'm doing the thing.\n"
     ]
    },
    {
     "name": "stderr",
     "output_type": "stream",
     "text": [
      "\r",
      " 92%|█████████▏| 571/622 [02:18<00:38,  1.34it/s]"
     ]
    },
    {
     "name": "stdout",
     "output_type": "stream",
     "text": [
      "bone-penn-064\n",
      "Does this patient have T1 available? True\n",
      "I'm doing the thing.\n"
     ]
    },
    {
     "name": "stderr",
     "output_type": "stream",
     "text": [
      "\r",
      " 92%|█████████▏| 572/622 [02:18<00:29,  1.67it/s]"
     ]
    },
    {
     "name": "stdout",
     "output_type": "stream",
     "text": [
      "bone-penn-461\n",
      "Does this patient have T1 available? True\n",
      "I'm doing the thing.\n"
     ]
    },
    {
     "name": "stderr",
     "output_type": "stream",
     "text": [
      "\r",
      " 92%|█████████▏| 573/622 [02:19<00:25,  1.90it/s]"
     ]
    },
    {
     "name": "stderr",
     "output_type": "stream",
     "text": [
      "\r",
      " 92%|█████████▏| 574/622 [02:19<00:20,  2.34it/s]"
     ]
    },
    {
     "name": "stdout",
     "output_type": "stream",
     "text": [
      "bone-penn-606\n",
      "Does this patient have T1 available? True\n",
      "I'm doing the thing.\n",
      "bone-penn-265\n",
      "Does this patient have T1 available? True\n",
      "I'm doing the thing.\n"
     ]
    },
    {
     "name": "stderr",
     "output_type": "stream",
     "text": [
      "\r",
      " 92%|█████████▏| 575/622 [02:19<00:19,  2.36it/s]"
     ]
    },
    {
     "name": "stderr",
     "output_type": "stream",
     "text": [
      "\r",
      " 93%|█████████▎| 576/622 [02:19<00:15,  2.88it/s]"
     ]
    },
    {
     "name": "stdout",
     "output_type": "stream",
     "text": [
      "bone-hup-225\n",
      "Does this patient have T1 available? True\n",
      "I'm doing the thing.\n",
      "bone-hup-60\n",
      "Does this patient have T1 available? True\n",
      "I'm doing the thing.\n"
     ]
    },
    {
     "name": "stderr",
     "output_type": "stream",
     "text": [
      "\r",
      " 93%|█████████▎| 577/622 [02:20<00:15,  2.85it/s]"
     ]
    },
    {
     "name": "stderr",
     "output_type": "stream",
     "text": [
      "\r",
      " 93%|█████████▎| 579/622 [02:20<00:11,  3.71it/s]"
     ]
    },
    {
     "name": "stdout",
     "output_type": "stream",
     "text": [
      "bone-hup-279\n",
      "Does this patient have T1 available? True\n",
      "I'm doing the thing.\n",
      "bone-hup-53\n",
      "Does this patient have T1 available? True\n",
      "I'm doing the thing.\n",
      "bone-hup-196\n",
      "Does this patient have T1 available? True\n",
      "I'm doing the thing.\n"
     ]
    },
    {
     "name": "stderr",
     "output_type": "stream",
     "text": [
      "\r",
      " 93%|█████████▎| 580/622 [02:20<00:10,  4.08it/s]"
     ]
    },
    {
     "name": "stderr",
     "output_type": "stream",
     "text": [
      "\r",
      " 93%|█████████▎| 581/622 [02:20<00:09,  4.34it/s]"
     ]
    },
    {
     "name": "stdout",
     "output_type": "stream",
     "text": [
      "bone-penn-254\n",
      "Does this patient have T1 available? True\n",
      "I'm doing the thing.\n",
      "bone-penn-079\n",
      "Does this patient have T1 available? True\n",
      "I'm doing the thing.\n"
     ]
    },
    {
     "name": "stdout",
     "output_type": "stream",
     "text": [
      "bone-penn-602\n",
      "Does this patient have T1 available? True\n",
      "I'm doing the thing.\n"
     ]
    },
    {
     "name": "stderr",
     "output_type": "stream",
     "text": [
      "\r",
      " 94%|█████████▎| 583/622 [02:21<00:08,  4.59it/s]"
     ]
    },
    {
     "name": "stdout",
     "output_type": "stream",
     "text": [
      "bone-penn-652\n",
      "Does this patient have T1 available? True\n",
      "I'm doing the thing.\n"
     ]
    },
    {
     "name": "stderr",
     "output_type": "stream",
     "text": [
      "\r",
      " 94%|█████████▍| 584/622 [02:21<00:08,  4.55it/s]"
     ]
    },
    {
     "name": "stderr",
     "output_type": "stream",
     "text": [
      "\r",
      " 94%|█████████▍| 585/622 [02:21<00:07,  4.84it/s]"
     ]
    },
    {
     "name": "stdout",
     "output_type": "stream",
     "text": [
      "bone-hup-70\n",
      "Does this patient have T1 available? True\n",
      "I'm doing the thing.\n",
      "bone-china-212\n",
      "Does this patient have T1 available? True\n",
      "I'm doing the thing.\n"
     ]
    },
    {
     "name": "stderr",
     "output_type": "stream",
     "text": [
      "\r",
      " 94%|█████████▍| 586/622 [02:21<00:06,  5.37it/s]"
     ]
    },
    {
     "name": "stdout",
     "output_type": "stream",
     "text": [
      "bone-penn-386\n",
      "Does this patient have T1 available? True\n",
      "I'm doing the thing.\n"
     ]
    },
    {
     "name": "stderr",
     "output_type": "stream",
     "text": [
      "\r",
      " 94%|█████████▍| 587/622 [02:22<00:07,  4.85it/s]"
     ]
    },
    {
     "name": "stderr",
     "output_type": "stream",
     "text": [
      "\r",
      " 95%|█████████▍| 588/622 [02:22<00:06,  4.96it/s]"
     ]
    },
    {
     "name": "stdout",
     "output_type": "stream",
     "text": [
      "bone-china-243\n",
      "Does this patient have T1 available? True\n",
      "I'm doing the thing.\n",
      "bone-penn-174\n",
      "Does this patient have T1 available? True\n",
      "I'm doing the thing.\n"
     ]
    },
    {
     "name": "stderr",
     "output_type": "stream",
     "text": [
      "\r",
      " 95%|█████████▍| 589/622 [02:22<00:06,  5.21it/s]"
     ]
    },
    {
     "name": "stderr",
     "output_type": "stream",
     "text": [
      "\r",
      " 95%|█████████▍| 590/622 [02:22<00:05,  5.98it/s]"
     ]
    },
    {
     "name": "stdout",
     "output_type": "stream",
     "text": [
      "bone-hup-170\n",
      "Does this patient have T1 available? True\n",
      "I'm doing the thing.\n",
      "bone-penn-647\n",
      "Does this patient have T1 available? True\n",
      "I'm doing the thing.\n"
     ]
    },
    {
     "name": "stderr",
     "output_type": "stream",
     "text": [
      "\r",
      " 95%|█████████▌| 591/622 [02:22<00:04,  6.34it/s]"
     ]
    },
    {
     "name": "stderr",
     "output_type": "stream",
     "text": [
      "\r",
      " 95%|█████████▌| 592/622 [02:22<00:04,  6.47it/s]"
     ]
    },
    {
     "name": "stdout",
     "output_type": "stream",
     "text": [
      "bone-china-194\n",
      "Does this patient have T1 available? True\n",
      "I'm doing the thing.\n",
      "bone-penn-610\n",
      "Does this patient have T1 available? True\n",
      "I'm doing the thing.\n"
     ]
    },
    {
     "name": "stderr",
     "output_type": "stream",
     "text": [
      "\r",
      " 95%|█████████▌| 593/622 [02:23<00:04,  5.95it/s]"
     ]
    },
    {
     "name": "stderr",
     "output_type": "stream",
     "text": [
      "\r",
      " 95%|█████████▌| 594/622 [02:23<00:04,  5.81it/s]"
     ]
    },
    {
     "name": "stdout",
     "output_type": "stream",
     "text": [
      "bone-penn-372\n",
      "Does this patient have T1 available? True\n",
      "I'm doing the thing.\n",
      "bone-penn-176\n",
      "Does this patient have T1 available? True\n",
      "I'm doing the thing.\n"
     ]
    },
    {
     "name": "stderr",
     "output_type": "stream",
     "text": [
      "\r",
      " 96%|█████████▌| 595/622 [02:23<00:05,  4.75it/s]"
     ]
    },
    {
     "name": "stderr",
     "output_type": "stream",
     "text": [
      "\r",
      " 96%|█████████▌| 596/622 [02:23<00:04,  5.33it/s]"
     ]
    },
    {
     "name": "stdout",
     "output_type": "stream",
     "text": [
      "bone-china-190\n",
      "Does this patient have T1 available? True\n",
      "I'm doing the thing.\n",
      "bone-penn-636\n",
      "Does this patient have T1 available? True\n",
      "I'm doing the thing.\n"
     ]
    },
    {
     "name": "stderr",
     "output_type": "stream",
     "text": [
      "\r",
      " 96%|█████████▌| 597/622 [02:23<00:05,  4.72it/s]"
     ]
    },
    {
     "name": "stdout",
     "output_type": "stream",
     "text": [
      "bone-hup-110\n",
      "Does this patient have T1 available? True\n",
      "I'm doing the thing.\n"
     ]
    },
    {
     "name": "stderr",
     "output_type": "stream",
     "text": [
      "\r",
      " 96%|█████████▌| 598/622 [02:24<00:05,  4.42it/s]"
     ]
    },
    {
     "name": "stdout",
     "output_type": "stream",
     "text": [
      "bone-penn-041\n",
      "Does this patient have T1 available? True\n",
      "I'm doing the thing.\n"
     ]
    },
    {
     "name": "stderr",
     "output_type": "stream",
     "text": [
      "\r",
      " 96%|█████████▋| 599/622 [02:24<00:05,  4.07it/s]"
     ]
    },
    {
     "name": "stderr",
     "output_type": "stream",
     "text": [
      "\r",
      " 97%|█████████▋| 601/622 [02:24<00:04,  5.05it/s]"
     ]
    },
    {
     "name": "stdout",
     "output_type": "stream",
     "text": [
      "bone-china-184\n",
      "Does this patient have T1 available? True\n",
      "I'm doing the thing.\n",
      "bone-hup-207\n",
      "Does this patient have T1 available? True\n",
      "I'm doing the thing.\n",
      "bone-hup-248\n",
      "Does this patient have T1 available? True\n",
      "I'm doing the thing.\n"
     ]
    },
    {
     "name": "stderr",
     "output_type": "stream",
     "text": [
      "\r",
      " 97%|█████████▋| 602/622 [02:24<00:04,  4.34it/s]"
     ]
    },
    {
     "name": "stderr",
     "output_type": "stream",
     "text": [
      "\r",
      " 97%|█████████▋| 603/622 [02:25<00:03,  5.13it/s]"
     ]
    },
    {
     "name": "stdout",
     "output_type": "stream",
     "text": [
      "bone-hup-183\n",
      "Does this patient have T1 available? True\n",
      "I'm doing the thing.\n",
      "bone-hup-180\n",
      "Does this patient have T1 available? True\n",
      "I'm doing the thing.\n"
     ]
    },
    {
     "name": "stderr",
     "output_type": "stream",
     "text": [
      "\r",
      " 97%|█████████▋| 604/622 [02:25<00:03,  5.01it/s]"
     ]
    },
    {
     "name": "stdout",
     "output_type": "stream",
     "text": [
      "bone-penn-418\n",
      "Does this patient have T1 available? True\n",
      "I'm doing the thing.\n"
     ]
    },
    {
     "name": "stderr",
     "output_type": "stream",
     "text": [
      "\r",
      " 97%|█████████▋| 605/622 [02:25<00:04,  3.42it/s]"
     ]
    },
    {
     "name": "stdout",
     "output_type": "stream",
     "text": [
      "bone-hup-106\n",
      "Does this patient have T1 available? True\n",
      "I'm doing the thing.\n"
     ]
    },
    {
     "name": "stderr",
     "output_type": "stream",
     "text": [
      "\r",
      " 97%|█████████▋| 606/622 [02:26<00:04,  3.35it/s]"
     ]
    },
    {
     "name": "stdout",
     "output_type": "stream",
     "text": [
      "bone-penn-247\n",
      "Does this patient have T1 available? True\n",
      "I'm doing the thing.\n",
      "bone-hup-191\n",
      "Does this patient have T1 available? True\n",
      "I'm doing the thing.\n"
     ]
    },
    {
     "name": "stderr",
     "output_type": "stream",
     "text": [
      "\r",
      " 98%|█████████▊| 608/622 [02:26<00:04,  3.04it/s]"
     ]
    },
    {
     "name": "stderr",
     "output_type": "stream",
     "text": [
      "\r",
      " 98%|█████████▊| 609/622 [02:27<00:03,  3.48it/s]"
     ]
    },
    {
     "name": "stdout",
     "output_type": "stream",
     "text": [
      "bone-hup-231\n",
      "Does this patient have T1 available? True\n",
      "I'm doing the thing.\n",
      "bone-penn-160\n",
      "Does this patient have T1 available? True\n",
      "I'm doing the thing.\n"
     ]
    },
    {
     "name": "stderr",
     "output_type": "stream",
     "text": [
      "\r",
      " 98%|█████████▊| 610/622 [02:27<00:03,  3.86it/s]"
     ]
    },
    {
     "name": "stdout",
     "output_type": "stream",
     "text": [
      "bone-penn-653\n",
      "Does this patient have T1 available? True\n",
      "I'm doing the thing.\n"
     ]
    },
    {
     "name": "stderr",
     "output_type": "stream",
     "text": [
      "\r",
      " 98%|█████████▊| 611/622 [02:27<00:02,  3.98it/s]"
     ]
    },
    {
     "name": "stderr",
     "output_type": "stream",
     "text": [
      "\r",
      " 98%|█████████▊| 612/622 [02:27<00:02,  4.63it/s]"
     ]
    },
    {
     "name": "stdout",
     "output_type": "stream",
     "text": [
      "bone-penn-231\n",
      "Does this patient have T1 available? True\n",
      "I'm doing the thing.\n",
      "bone-penn-246\n",
      "Does this patient have T1 available? True\n",
      "I'm doing the thing.\n"
     ]
    },
    {
     "name": "stderr",
     "output_type": "stream",
     "text": [
      "\r",
      " 99%|█████████▊| 614/622 [02:27<00:01,  5.26it/s]"
     ]
    },
    {
     "name": "stdout",
     "output_type": "stream",
     "text": [
      "bone-penn-214\n",
      "Does this patient have T1 available? True\n",
      "I'm doing the thing.\n",
      "bone-china-222\n",
      "Does this patient have T1 available? True\n",
      "I'm doing the thing.\n"
     ]
    },
    {
     "name": "stderr",
     "output_type": "stream",
     "text": [
      "\r",
      " 99%|█████████▉| 615/622 [02:27<00:01,  6.13it/s]"
     ]
    },
    {
     "name": "stderr",
     "output_type": "stream",
     "text": [
      "\r",
      " 99%|█████████▉| 616/622 [02:28<00:00,  6.44it/s]"
     ]
    },
    {
     "name": "stdout",
     "output_type": "stream",
     "text": [
      "bone-hup-69\n",
      "Does this patient have T1 available? True\n",
      "I'm doing the thing.\n",
      "bone-china-221\n",
      "Does this patient have T1 available? True\n",
      "I'm doing the thing.\n"
     ]
    },
    {
     "name": "stderr",
     "output_type": "stream",
     "text": [
      "\r",
      " 99%|█████████▉| 617/622 [02:28<00:00,  7.19it/s]"
     ]
    },
    {
     "name": "stderr",
     "output_type": "stream",
     "text": [
      "\r",
      " 99%|█████████▉| 618/622 [02:28<00:00,  6.53it/s]"
     ]
    },
    {
     "name": "stdout",
     "output_type": "stream",
     "text": [
      "bone-penn-390\n",
      "Does this patient have T1 available? True\n",
      "I'm doing the thing.\n",
      "bone-china-193\n",
      "Does this patient have T1 available? True\n",
      "I'm doing the thing.\n"
     ]
    },
    {
     "name": "stderr",
     "output_type": "stream",
     "text": [
      "\r",
      "100%|█████████▉| 620/622 [02:28<00:00,  7.29it/s]"
     ]
    },
    {
     "name": "stdout",
     "output_type": "stream",
     "text": [
      "bone-hup-263\n",
      "Does this patient have T1 available? True\n",
      "I'm doing the thing.\n",
      "bone-penn-168\n",
      "Does this patient have T1 available? True\n",
      "I'm doing the thing.\n"
     ]
    },
    {
     "name": "stderr",
     "output_type": "stream",
     "text": [
      "\r",
      "100%|█████████▉| 621/622 [02:28<00:00,  5.79it/s]"
     ]
    },
    {
     "name": "stderr",
     "output_type": "stream",
     "text": [
      "\r",
      "100%|██████████| 622/622 [02:28<00:00,  6.13it/s]"
     ]
    },
    {
     "name": "stderr",
     "output_type": "stream",
     "text": [
      "\r",
      "100%|██████████| 622/622 [02:29<00:00,  4.17it/s]"
     ]
    },
    {
     "name": "stderr",
     "output_type": "stream",
     "text": [
      "\n",
      "\r",
      "  0%|          | 0/168 [00:00<?, ?it/s]"
     ]
    },
    {
     "name": "stdout",
     "output_type": "stream",
     "text": [
      "bone-penn-217\n",
      "Does this patient have T1 available? True\n",
      "I'm doing the thing.\n",
      "bone-penn-113\n",
      "Does this patient have T1 available? True\n",
      "I'm doing the thing.\n"
     ]
    },
    {
     "name": "stdout",
     "output_type": "stream",
     "text": [
      "bone-china-003\n",
      "Does this patient have T1 available? True\n",
      "I'm doing the thing.\n"
     ]
    },
    {
     "name": "stderr",
     "output_type": "stream",
     "text": [
      "\r",
      "  1%|          | 2/168 [00:00<00:27,  6.00it/s]"
     ]
    },
    {
     "name": "stderr",
     "output_type": "stream",
     "text": [
      "\r",
      "  2%|▏         | 3/168 [00:00<00:29,  5.67it/s]"
     ]
    },
    {
     "name": "stdout",
     "output_type": "stream",
     "text": [
      "bone-penn-630\n",
      "Does this patient have T1 available? True\n",
      "I'm doing the thing.\n"
     ]
    },
    {
     "name": "stderr",
     "output_type": "stream",
     "text": [
      "\r",
      "  2%|▏         | 4/168 [00:00<00:28,  5.76it/s]"
     ]
    },
    {
     "name": "stdout",
     "output_type": "stream",
     "text": [
      "bone-china-078\n",
      "Does this patient have T1 available? True\n",
      "I'm doing the thing.\n",
      "bone-hup-326\n",
      "Does this patient have T1 available? True\n",
      "I'm doing the thing.\n"
     ]
    },
    {
     "name": "stderr",
     "output_type": "stream",
     "text": [
      "\r",
      "  3%|▎         | 5/168 [00:01<00:54,  2.97it/s]"
     ]
    },
    {
     "name": "stderr",
     "output_type": "stream",
     "text": [
      "\r",
      "  4%|▎         | 6/168 [00:01<00:47,  3.45it/s]"
     ]
    },
    {
     "name": "stdout",
     "output_type": "stream",
     "text": [
      "bone-penn-054\n",
      "Does this patient have T1 available? True\n",
      "I'm doing the thing.\n",
      "bone-penn-312\n",
      "Does this patient have T1 available? True\n",
      "I'm doing the thing.\n"
     ]
    },
    {
     "name": "stderr",
     "output_type": "stream",
     "text": [
      "\r",
      "  4%|▍         | 7/168 [00:01<00:45,  3.54it/s]"
     ]
    },
    {
     "name": "stderr",
     "output_type": "stream",
     "text": [
      "\r",
      "  5%|▍         | 8/168 [00:01<00:36,  4.35it/s]"
     ]
    },
    {
     "name": "stdout",
     "output_type": "stream",
     "text": [
      "bone-hup-116\n",
      "Does this patient have T1 available? True\n",
      "I'm doing the thing.\n",
      "bone-penn-031\n",
      "Does this patient have T1 available? True\n",
      "I'm doing the thing.\n",
      "bone-penn-482\n",
      "Does this patient have T1 available? True\n",
      "I'm doing the thing.\n"
     ]
    },
    {
     "name": "stderr",
     "output_type": "stream",
     "text": [
      "\r",
      "  6%|▌         | 10/168 [00:02<00:43,  3.64it/s]"
     ]
    },
    {
     "name": "stdout",
     "output_type": "stream",
     "text": [
      "bone-penn-82\n",
      "Does this patient have T1 available? True\n",
      "I'm doing the thing.\n"
     ]
    },
    {
     "name": "stderr",
     "output_type": "stream",
     "text": [
      "\r",
      "  7%|▋         | 11/168 [00:02<00:42,  3.71it/s]"
     ]
    },
    {
     "name": "stdout",
     "output_type": "stream",
     "text": [
      "bone-china-165\n",
      "Does this patient have T1 available? True\n",
      "I'm doing the thing.\n"
     ]
    },
    {
     "name": "stderr",
     "output_type": "stream",
     "text": [
      "\r",
      "  7%|▋         | 12/168 [00:03<00:40,  3.89it/s]"
     ]
    },
    {
     "name": "stdout",
     "output_type": "stream",
     "text": [
      "bone-penn-583\n",
      "Does this patient have T1 available? True\n",
      "I'm doing the thing.\n"
     ]
    },
    {
     "name": "stderr",
     "output_type": "stream",
     "text": [
      "\r",
      "  8%|▊         | 13/168 [00:03<00:47,  3.26it/s]"
     ]
    },
    {
     "name": "stderr",
     "output_type": "stream",
     "text": [
      "\r",
      "  8%|▊         | 14/168 [00:03<00:42,  3.62it/s]"
     ]
    },
    {
     "name": "stdout",
     "output_type": "stream",
     "text": [
      "bone-china-145\n",
      "Does this patient have T1 available? True\n",
      "I'm doing the thing.\n"
     ]
    },
    {
     "name": "stderr",
     "output_type": "stream",
     "text": [
      "\r",
      "  9%|▉         | 15/168 [00:04<00:36,  4.14it/s]"
     ]
    },
    {
     "name": "stdout",
     "output_type": "stream",
     "text": [
      "bone-china-079\n",
      "Does this patient have T1 available? True\n",
      "I'm doing the thing.\n",
      "bone-hup-287\n",
      "Does this patient have T1 available? True\n",
      "I'm doing the thing.\n"
     ]
    },
    {
     "name": "stderr",
     "output_type": "stream",
     "text": [
      "\r",
      " 10%|▉         | 16/168 [00:04<00:32,  4.68it/s]"
     ]
    },
    {
     "name": "stdout",
     "output_type": "stream",
     "text": [
      "bone-penn-328\n",
      "Does this patient have T1 available? True\n",
      "I'm doing the thing.\n",
      "bone-hup-128\n",
      "Does this patient have T1 available? True\n",
      "I'm doing the thing.\n"
     ]
    },
    {
     "name": "stderr",
     "output_type": "stream",
     "text": [
      "\r",
      " 11%|█         | 18/168 [00:04<00:34,  4.31it/s]"
     ]
    },
    {
     "name": "stdout",
     "output_type": "stream",
     "text": [
      "bone-penn-283\n",
      "Does this patient have T1 available? True\n",
      "I'm doing the thing.\n",
      "bone-penn-576\n",
      "Does this patient have T1 available? True\n",
      "I'm doing the thing.\n"
     ]
    },
    {
     "name": "stderr",
     "output_type": "stream",
     "text": [
      "\r",
      " 12%|█▏        | 20/168 [00:05<00:32,  4.59it/s]"
     ]
    },
    {
     "name": "stderr",
     "output_type": "stream",
     "text": [
      "\r",
      " 12%|█▎        | 21/168 [00:05<00:30,  4.78it/s]"
     ]
    },
    {
     "name": "stdout",
     "output_type": "stream",
     "text": [
      "bone-penn-392\n",
      "Does this patient have T1 available? True\n",
      "I'm doing the thing.\n",
      "bone-penn-454\n",
      "Does this patient have T1 available? True\n",
      "I'm doing the thing.\n"
     ]
    },
    {
     "name": "stderr",
     "output_type": "stream",
     "text": [
      "\r",
      " 14%|█▎        | 23/168 [00:05<00:24,  5.94it/s]"
     ]
    },
    {
     "name": "stdout",
     "output_type": "stream",
     "text": [
      "bone-penn-374\n",
      "Does this patient have T1 available? True\n",
      "I'm doing the thing.\n",
      "bone-china-127\n",
      "Does this patient have T1 available? True\n",
      "I'm doing the thing.\n"
     ]
    },
    {
     "name": "stderr",
     "output_type": "stream",
     "text": [
      "\r",
      " 14%|█▍        | 24/168 [00:05<00:23,  6.12it/s]"
     ]
    },
    {
     "name": "stdout",
     "output_type": "stream",
     "text": [
      "bone-penn-147\n",
      "Does this patient have T1 available? True\n",
      "I'm doing the thing.\n",
      "bone-hup-301\n",
      "Does this patient have T1 available? True\n",
      "I'm doing the thing.\n"
     ]
    },
    {
     "name": "stderr",
     "output_type": "stream",
     "text": [
      "\r",
      " 15%|█▌        | 26/168 [00:05<00:21,  6.64it/s]"
     ]
    },
    {
     "name": "stderr",
     "output_type": "stream",
     "text": [
      "\r",
      " 16%|█▌        | 27/168 [00:05<00:23,  6.07it/s]"
     ]
    },
    {
     "name": "stdout",
     "output_type": "stream",
     "text": [
      "bone-china-174\n",
      "Does this patient have T1 available? True\n",
      "I'm doing the thing.\n"
     ]
    },
    {
     "name": "stderr",
     "output_type": "stream",
     "text": [
      "\r",
      " 17%|█▋        | 28/168 [00:06<00:23,  5.86it/s]"
     ]
    },
    {
     "name": "stderr",
     "output_type": "stream",
     "text": [
      "\r",
      " 17%|█▋        | 29/168 [00:06<00:25,  5.49it/s]"
     ]
    },
    {
     "name": "stdout",
     "output_type": "stream",
     "text": [
      "bone-hup-316\n",
      "Does this patient have T1 available? True\n",
      "I'm doing the thing.\n",
      "bone-china-025\n",
      "Does this patient have T1 available? True\n",
      "I'm doing the thing.\n",
      "bone-penn-285\n",
      "Does this patient have T1 available? True\n",
      "I'm doing the thing.\n"
     ]
    },
    {
     "name": "stderr",
     "output_type": "stream",
     "text": [
      "\r",
      " 18%|█▊        | 30/168 [00:06<00:30,  4.53it/s]"
     ]
    },
    {
     "name": "stderr",
     "output_type": "stream",
     "text": [
      "\r",
      " 18%|█▊        | 31/168 [00:06<00:26,  5.21it/s]"
     ]
    },
    {
     "name": "stdout",
     "output_type": "stream",
     "text": [
      "bone-penn-512\n",
      "Does this patient have T1 available? True\n",
      "I'm doing the thing.\n",
      "bone-china-171\n",
      "Does this patient have T1 available? True\n",
      "I'm doing the thing.\n",
      "bone-hup-325\n",
      "Does this patient have T1 available? True\n",
      "I'm doing the thing.\n"
     ]
    },
    {
     "name": "stderr",
     "output_type": "stream",
     "text": [
      "\r",
      " 20%|█▉        | 33/168 [00:07<00:24,  5.44it/s]"
     ]
    },
    {
     "name": "stdout",
     "output_type": "stream",
     "text": [
      "bone-penn-517\n",
      "Does this patient have T1 available? True\n",
      "I'm doing the thing.\n"
     ]
    },
    {
     "name": "stderr",
     "output_type": "stream",
     "text": [
      "\r",
      " 20%|██        | 34/168 [00:07<00:27,  4.85it/s]"
     ]
    },
    {
     "name": "stderr",
     "output_type": "stream",
     "text": [
      "\r",
      " 21%|██        | 35/168 [00:07<00:25,  5.27it/s]"
     ]
    },
    {
     "name": "stdout",
     "output_type": "stream",
     "text": [
      "bone-china-105\n",
      "Does this patient have T1 available? True\n",
      "I'm doing the thing.\n",
      "bone-penn-109\n",
      "Does this patient have T1 available? True\n",
      "I'm doing the thing.\n"
     ]
    },
    {
     "name": "stderr",
     "output_type": "stream",
     "text": [
      "\r",
      " 21%|██▏       | 36/168 [00:07<00:23,  5.67it/s]"
     ]
    },
    {
     "name": "stderr",
     "output_type": "stream",
     "text": [
      "\r",
      " 22%|██▏       | 37/168 [00:07<00:20,  6.31it/s]"
     ]
    },
    {
     "name": "stdout",
     "output_type": "stream",
     "text": [
      "bone-china-125\n",
      "Does this patient have T1 available? True\n",
      "I'm doing the thing.\n",
      "bone-penn-016\n",
      "Does this patient have T1 available? True\n",
      "I'm doing the thing.\n"
     ]
    },
    {
     "name": "stderr",
     "output_type": "stream",
     "text": [
      "\r",
      " 23%|██▎       | 38/168 [00:08<00:28,  4.64it/s]"
     ]
    },
    {
     "name": "stderr",
     "output_type": "stream",
     "text": [
      "\r",
      " 23%|██▎       | 39/168 [00:08<00:24,  5.16it/s]"
     ]
    },
    {
     "name": "stdout",
     "output_type": "stream",
     "text": [
      "bone-china-028\n",
      "Does this patient have T1 available? True\n",
      "I'm doing the thing.\n",
      "bone-hup-136\n",
      "Does this patient have T1 available? True\n",
      "I'm doing the thing.\n"
     ]
    },
    {
     "name": "stderr",
     "output_type": "stream",
     "text": [
      "\r",
      " 24%|██▍       | 40/168 [00:08<00:22,  5.69it/s]"
     ]
    },
    {
     "name": "stderr",
     "output_type": "stream",
     "text": [
      "\r",
      " 24%|██▍       | 41/168 [00:08<00:22,  5.54it/s]"
     ]
    },
    {
     "name": "stdout",
     "output_type": "stream",
     "text": [
      "bone-penn-83\n",
      "Does this patient have T1 available? True\n",
      "I'm doing the thing.\n",
      "bone-penn-130\n",
      "Does this patient have T1 available? True\n",
      "I'm doing the thing.\n"
     ]
    },
    {
     "name": "stderr",
     "output_type": "stream",
     "text": [
      "\r",
      " 25%|██▌       | 42/168 [00:08<00:24,  5.09it/s]"
     ]
    },
    {
     "name": "stderr",
     "output_type": "stream",
     "text": [
      "\r",
      " 26%|██▌       | 43/168 [00:08<00:20,  5.96it/s]"
     ]
    },
    {
     "name": "stdout",
     "output_type": "stream",
     "text": [
      "bone-penn-017\n",
      "Does this patient have T1 available? True\n",
      "I'm doing the thing.\n",
      "bone-penn-346\n",
      "Does this patient have T1 available? True\n",
      "I'm doing the thing.\n",
      "bone-penn-489\n",
      "Does this patient have T1 available? True\n",
      "I'm doing the thing.\n"
     ]
    },
    {
     "name": "stderr",
     "output_type": "stream",
     "text": [
      "\r",
      " 27%|██▋       | 45/168 [00:09<00:20,  5.90it/s]"
     ]
    },
    {
     "name": "stderr",
     "output_type": "stream",
     "text": [
      "\r",
      " 27%|██▋       | 46/168 [00:09<00:18,  6.67it/s]"
     ]
    },
    {
     "name": "stdout",
     "output_type": "stream",
     "text": [
      "bone-china-167\n",
      "Does this patient have T1 available? True\n",
      "I'm doing the thing.\n",
      "bone-penn-417\n",
      "Does this patient have T1 available? True\n",
      "I'm doing the thing.\n",
      "bone-penn-156\n",
      "Does this patient have T1 available? True\n",
      "I'm doing the thing.\n"
     ]
    },
    {
     "name": "stderr",
     "output_type": "stream",
     "text": [
      "\r",
      " 29%|██▊       | 48/168 [00:09<00:17,  7.01it/s]"
     ]
    },
    {
     "name": "stdout",
     "output_type": "stream",
     "text": [
      "bone-penn-590\n",
      "Does this patient have T1 available? True\n",
      "I'm doing the thing.\n"
     ]
    },
    {
     "name": "stderr",
     "output_type": "stream",
     "text": [
      "\r",
      " 29%|██▉       | 49/168 [00:10<00:31,  3.84it/s]"
     ]
    },
    {
     "name": "stderr",
     "output_type": "stream",
     "text": [
      "\r",
      " 30%|███       | 51/168 [00:10<00:24,  4.71it/s]"
     ]
    },
    {
     "name": "stdout",
     "output_type": "stream",
     "text": [
      "bone-china-051\n",
      "Does this patient have T1 available? True\n",
      "I'm doing the thing.\n",
      "bone-penn-98\n",
      "Does this patient have T1 available? True\n",
      "I'm doing the thing.\n",
      "bone-penn-077\n",
      "Does this patient have T1 available? True\n",
      "I'm doing the thing.\n"
     ]
    },
    {
     "name": "stderr",
     "output_type": "stream",
     "text": [
      "\r",
      " 31%|███       | 52/168 [00:10<00:26,  4.46it/s]"
     ]
    },
    {
     "name": "stdout",
     "output_type": "stream",
     "text": [
      "bone-china-050\n",
      "Does this patient have T1 available? True\n",
      "I'm doing the thing.\n",
      "bone-penn-494\n",
      "Does this patient have T1 available? True\n",
      "I'm doing the thing.\n"
     ]
    },
    {
     "name": "stderr",
     "output_type": "stream",
     "text": [
      "\r",
      " 32%|███▏      | 54/168 [00:10<00:22,  5.15it/s]"
     ]
    },
    {
     "name": "stdout",
     "output_type": "stream",
     "text": [
      "bone-penn-542\n",
      "Does this patient have T1 available? True\n",
      "I'm doing the thing.\n"
     ]
    },
    {
     "name": "stderr",
     "output_type": "stream",
     "text": [
      "\r",
      " 33%|███▎      | 55/168 [00:11<00:23,  4.80it/s]"
     ]
    },
    {
     "name": "stdout",
     "output_type": "stream",
     "text": [
      "bone-penn-049\n",
      "Does this patient have T1 available? True\n",
      "I'm doing the thing.\n",
      "bone-penn-536\n",
      "Does this patient have T1 available? True\n",
      "I'm doing the thing.\n"
     ]
    },
    {
     "name": "stderr",
     "output_type": "stream",
     "text": [
      "\r",
      " 34%|███▍      | 57/168 [00:11<00:22,  4.89it/s]"
     ]
    },
    {
     "name": "stderr",
     "output_type": "stream",
     "text": [
      "\r",
      " 35%|███▌      | 59/168 [00:11<00:18,  5.76it/s]"
     ]
    },
    {
     "name": "stdout",
     "output_type": "stream",
     "text": [
      "bone-penn-564\n",
      "Does this patient have T1 available? True\n",
      "I'm doing the thing.\n",
      "bone-china-113\n",
      "Does this patient have T1 available? True\n",
      "I'm doing the thing.\n",
      "bone-penn-613\n",
      "Does this patient have T1 available? True\n",
      "I'm doing the thing.\n"
     ]
    },
    {
     "name": "stdout",
     "output_type": "stream",
     "text": [
      "bone-penn-455\n",
      "Does this patient have T1 available? True\n",
      "I'm doing the thing.\n"
     ]
    },
    {
     "name": "stderr",
     "output_type": "stream",
     "text": [
      "\r",
      " 36%|███▋      | 61/168 [00:12<00:17,  5.99it/s]"
     ]
    },
    {
     "name": "stdout",
     "output_type": "stream",
     "text": [
      "bone-penn-520\n",
      "Does this patient have T1 available? True\n",
      "I'm doing the thing.\n"
     ]
    },
    {
     "name": "stderr",
     "output_type": "stream",
     "text": [
      "\r",
      " 37%|███▋      | 62/168 [00:12<00:21,  4.84it/s]"
     ]
    },
    {
     "name": "stderr",
     "output_type": "stream",
     "text": [
      "\r",
      " 38%|███▊      | 63/168 [00:12<00:18,  5.58it/s]"
     ]
    },
    {
     "name": "stdout",
     "output_type": "stream",
     "text": [
      "bone-penn-155\n",
      "Does this patient have T1 available? True\n",
      "I'm doing the thing.\n",
      "bone-penn-068\n",
      "Does this patient have T1 available? True\n",
      "I'm doing the thing.\n",
      "bone-penn-332\n",
      "Does this patient have T1 available? True\n",
      "I'm doing the thing.\n"
     ]
    },
    {
     "name": "stderr",
     "output_type": "stream",
     "text": [
      "\r",
      " 39%|███▊      | 65/168 [00:12<00:18,  5.43it/s]"
     ]
    },
    {
     "name": "stdout",
     "output_type": "stream",
     "text": [
      "bone-penn-007\n",
      "Does this patient have T1 available? True\n",
      "I'm doing the thing.\n"
     ]
    },
    {
     "name": "stderr",
     "output_type": "stream",
     "text": [
      "\r",
      " 39%|███▉      | 66/168 [00:13<00:47,  2.15it/s]"
     ]
    },
    {
     "name": "stderr",
     "output_type": "stream",
     "text": [
      "\r",
      " 40%|███▉      | 67/168 [00:14<00:38,  2.63it/s]"
     ]
    },
    {
     "name": "stdout",
     "output_type": "stream",
     "text": [
      "bone-penn-561\n",
      "Does this patient have T1 available? True\n",
      "I'm doing the thing.\n",
      "bone-china-005\n",
      "Does this patient have T1 available? True\n",
      "I'm doing the thing.\n"
     ]
    },
    {
     "name": "stderr",
     "output_type": "stream",
     "text": [
      "\r",
      " 40%|████      | 68/168 [00:14<00:30,  3.26it/s]"
     ]
    },
    {
     "name": "stderr",
     "output_type": "stream",
     "text": [
      "\r",
      " 41%|████      | 69/168 [00:14<00:27,  3.63it/s]"
     ]
    },
    {
     "name": "stdout",
     "output_type": "stream",
     "text": [
      "bone-penn-039\n",
      "Does this patient have T1 available? True\n",
      "I'm doing the thing.\n",
      "bone-china-039\n",
      "Does this patient have T1 available? True\n",
      "I'm doing the thing.\n"
     ]
    },
    {
     "name": "stderr",
     "output_type": "stream",
     "text": [
      "\r",
      " 42%|████▏     | 70/168 [00:14<00:22,  4.37it/s]"
     ]
    },
    {
     "name": "stdout",
     "output_type": "stream",
     "text": [
      "bone-penn-396\n",
      "Does this patient have T1 available? True\n",
      "I'm doing the thing.\n"
     ]
    },
    {
     "name": "stderr",
     "output_type": "stream",
     "text": [
      "\r",
      " 42%|████▏     | 71/168 [00:15<00:28,  3.46it/s]"
     ]
    },
    {
     "name": "stdout",
     "output_type": "stream",
     "text": [
      "bone-penn-329\n",
      "Does this patient have T1 available? True\n",
      "I'm doing the thing.\n"
     ]
    },
    {
     "name": "stderr",
     "output_type": "stream",
     "text": [
      "\r",
      " 43%|████▎     | 72/168 [00:15<00:33,  2.86it/s]"
     ]
    },
    {
     "name": "stderr",
     "output_type": "stream",
     "text": [
      "\r",
      " 44%|████▍     | 74/168 [00:15<00:25,  3.73it/s]"
     ]
    },
    {
     "name": "stdout",
     "output_type": "stream",
     "text": [
      "bone-penn-319\n",
      "Does this patient have T1 available? True\n",
      "I'm doing the thing.\n",
      "bone-penn-282\n",
      "Does this patient have T1 available? True\n",
      "I'm doing the thing.\n",
      "bone-hup-329\n",
      "Does this patient have T1 available? True\n",
      "I'm doing the thing.\n"
     ]
    },
    {
     "name": "stderr",
     "output_type": "stream",
     "text": [
      "\r",
      " 45%|████▍     | 75/168 [00:16<00:27,  3.44it/s]"
     ]
    },
    {
     "name": "stderr",
     "output_type": "stream",
     "text": [
      "\r",
      " 45%|████▌     | 76/168 [00:16<00:22,  4.08it/s]"
     ]
    },
    {
     "name": "stdout",
     "output_type": "stream",
     "text": [
      "bone-penn-476\n",
      "Does this patient have T1 available? True\n",
      "I'm doing the thing.\n",
      "bone-china-159\n",
      "Does this patient have T1 available? True\n",
      "I'm doing the thing.\n"
     ]
    },
    {
     "name": "stderr",
     "output_type": "stream",
     "text": [
      "\r",
      " 46%|████▌     | 77/168 [00:16<00:20,  4.52it/s]"
     ]
    },
    {
     "name": "stdout",
     "output_type": "stream",
     "text": [
      "bone-hup-139\n",
      "Does this patient have T1 available? True\n",
      "I'm doing the thing.\n"
     ]
    },
    {
     "name": "stderr",
     "output_type": "stream",
     "text": [
      "\r",
      " 46%|████▋     | 78/168 [00:17<00:35,  2.55it/s]"
     ]
    },
    {
     "name": "stderr",
     "output_type": "stream",
     "text": [
      "\r",
      " 47%|████▋     | 79/168 [00:17<00:27,  3.28it/s]"
     ]
    },
    {
     "name": "stdout",
     "output_type": "stream",
     "text": [
      "bone-hup-307\n",
      "Does this patient have T1 available? True\n",
      "I'm doing the thing.\n",
      "bone-penn-297\n",
      "Does this patient have T1 available? True\n",
      "I'm doing the thing.\n"
     ]
    },
    {
     "name": "stderr",
     "output_type": "stream",
     "text": [
      "\r",
      " 48%|████▊     | 80/168 [00:17<00:22,  3.86it/s]"
     ]
    },
    {
     "name": "stderr",
     "output_type": "stream",
     "text": [
      "\r",
      " 48%|████▊     | 81/168 [00:17<00:18,  4.67it/s]"
     ]
    },
    {
     "name": "stdout",
     "output_type": "stream",
     "text": [
      "bone-china-133\n",
      "Does this patient have T1 available? True\n",
      "I'm doing the thing.\n",
      "bone-penn-132\n",
      "Does this patient have T1 available? True\n",
      "I'm doing the thing.\n"
     ]
    },
    {
     "name": "stderr",
     "output_type": "stream",
     "text": [
      "\r",
      " 49%|████▉     | 82/168 [00:17<00:16,  5.13it/s]"
     ]
    },
    {
     "name": "stderr",
     "output_type": "stream",
     "text": [
      "\r",
      " 49%|████▉     | 83/168 [00:17<00:14,  5.72it/s]"
     ]
    },
    {
     "name": "stdout",
     "output_type": "stream",
     "text": [
      "bone-penn-375\n",
      "Does this patient have T1 available? True\n",
      "I'm doing the thing.\n",
      "bone-penn-391\n",
      "Does this patient have T1 available? True\n",
      "I'm doing the thing.\n",
      "bone-penn-040\n",
      "Does this patient have T1 available? True\n",
      "I'm doing the thing.\n"
     ]
    },
    {
     "name": "stderr",
     "output_type": "stream",
     "text": [
      "\r",
      " 51%|█████     | 85/168 [00:18<00:13,  6.18it/s]"
     ]
    },
    {
     "name": "stderr",
     "output_type": "stream",
     "text": [
      "\r",
      " 51%|█████     | 86/168 [00:18<00:12,  6.51it/s]"
     ]
    },
    {
     "name": "stdout",
     "output_type": "stream",
     "text": [
      "bone-china-093\n",
      "Does this patient have T1 available? True\n",
      "I'm doing the thing.\n",
      "bone-penn-293\n",
      "Does this patient have T1 available? True\n",
      "I'm doing the thing.\n",
      "bone-penn-515\n",
      "Does this patient have T1 available? True\n",
      "I'm doing the thing.\n"
     ]
    },
    {
     "name": "stderr",
     "output_type": "stream",
     "text": [
      "\r",
      " 52%|█████▏    | 88/168 [00:18<00:10,  7.63it/s]"
     ]
    },
    {
     "name": "stderr",
     "output_type": "stream",
     "text": [
      "\r",
      " 53%|█████▎    | 89/168 [00:18<00:10,  7.54it/s]"
     ]
    },
    {
     "name": "stdout",
     "output_type": "stream",
     "text": [
      "bone-china-164\n",
      "Does this patient have T1 available? True\n",
      "I'm doing the thing.\n",
      "bone-china-019\n",
      "Does this patient have T1 available? True\n",
      "I'm doing the thing.\n"
     ]
    },
    {
     "name": "stderr",
     "output_type": "stream",
     "text": [
      "\r",
      " 54%|█████▎    | 90/168 [00:18<00:10,  7.20it/s]"
     ]
    },
    {
     "name": "stdout",
     "output_type": "stream",
     "text": [
      "bone-hup-157\n",
      "Does this patient have T1 available? True\n",
      "I'm doing the thing.\n"
     ]
    },
    {
     "name": "stderr",
     "output_type": "stream",
     "text": [
      "\r",
      " 54%|█████▍    | 91/168 [00:19<00:19,  3.85it/s]"
     ]
    },
    {
     "name": "stderr",
     "output_type": "stream",
     "text": [
      "\r",
      " 55%|█████▍    | 92/168 [00:19<00:17,  4.32it/s]"
     ]
    },
    {
     "name": "stdout",
     "output_type": "stream",
     "text": [
      "bone-penn-078\n",
      "Does this patient have T1 available? True\n",
      "I'm doing the thing.\n",
      "bone-china-043\n",
      "Does this patient have T1 available? True\n",
      "I'm doing the thing.\n"
     ]
    },
    {
     "name": "stderr",
     "output_type": "stream",
     "text": [
      "\r",
      " 55%|█████▌    | 93/168 [00:19<00:15,  4.94it/s]"
     ]
    },
    {
     "name": "stdout",
     "output_type": "stream",
     "text": [
      "bone-hup-145\n",
      "Does this patient have T1 available? True\n",
      "I'm doing the thing.\n"
     ]
    },
    {
     "name": "stderr",
     "output_type": "stream",
     "text": [
      "\r",
      " 56%|█████▌    | 94/168 [00:19<00:20,  3.64it/s]"
     ]
    },
    {
     "name": "stdout",
     "output_type": "stream",
     "text": [
      "bone-penn-579\n",
      "Does this patient have T1 available? True\n",
      "I'm doing the thing.\n",
      "bone-hup-308\n",
      "Does this patient have T1 available? True\n",
      "I'm doing the thing.\n"
     ]
    },
    {
     "name": "stderr",
     "output_type": "stream",
     "text": [
      "\r",
      " 57%|█████▋    | 96/168 [00:20<00:17,  4.05it/s]"
     ]
    },
    {
     "name": "stdout",
     "output_type": "stream",
     "text": [
      "bone-penn-059\n",
      "Does this patient have T1 available? True\n",
      "I'm doing the thing.\n"
     ]
    },
    {
     "name": "stderr",
     "output_type": "stream",
     "text": [
      "\r",
      " 58%|█████▊    | 97/168 [00:20<00:18,  3.89it/s]"
     ]
    },
    {
     "name": "stderr",
     "output_type": "stream",
     "text": [
      "\r",
      " 58%|█████▊    | 98/168 [00:20<00:15,  4.64it/s]"
     ]
    },
    {
     "name": "stdout",
     "output_type": "stream",
     "text": [
      "bone-hup-229\n",
      "Does this patient have T1 available? True\n",
      "I'm doing the thing.\n",
      "bone-hup-204\n",
      "Does this patient have T1 available? True\n",
      "I'm doing the thing.\n"
     ]
    },
    {
     "name": "stderr",
     "output_type": "stream",
     "text": [
      "\r",
      " 59%|█████▉    | 99/168 [00:20<00:15,  4.36it/s]"
     ]
    },
    {
     "name": "stdout",
     "output_type": "stream",
     "text": [
      "bone-penn-044\n",
      "Does this patient have T1 available? True\n",
      "I'm doing the thing.\n"
     ]
    },
    {
     "name": "stderr",
     "output_type": "stream",
     "text": [
      "\r",
      " 60%|█████▉    | 100/168 [00:21<00:19,  3.52it/s]"
     ]
    },
    {
     "name": "stdout",
     "output_type": "stream",
     "text": [
      "bone-penn-245\n",
      "Does this patient have T1 available? True\n",
      "I'm doing the thing.\n",
      "bone-china-242\n",
      "Does this patient have T1 available? True\n",
      "I'm doing the thing.\n"
     ]
    },
    {
     "name": "stderr",
     "output_type": "stream",
     "text": [
      "\r",
      " 61%|██████    | 102/168 [00:21<00:16,  4.11it/s]"
     ]
    },
    {
     "name": "stdout",
     "output_type": "stream",
     "text": [
      "bone-penn-260\n",
      "Does this patient have T1 available? True\n",
      "I'm doing the thing.\n",
      "bone-china-225\n",
      "Does this patient have T1 available? True\n",
      "I'm doing the thing.\n"
     ]
    },
    {
     "name": "stderr",
     "output_type": "stream",
     "text": [
      "\r",
      " 62%|██████▏   | 104/168 [00:21<00:13,  4.89it/s]"
     ]
    },
    {
     "name": "stdout",
     "output_type": "stream",
     "text": [
      "bone-penn-048\n",
      "Does this patient have T1 available? True\n",
      "I'm doing the thing.\n"
     ]
    },
    {
     "name": "stderr",
     "output_type": "stream",
     "text": [
      "\r",
      " 62%|██████▎   | 105/168 [00:22<00:16,  3.84it/s]"
     ]
    },
    {
     "name": "stdout",
     "output_type": "stream",
     "text": [
      "bone-penn-603\n",
      "Does this patient have T1 available? True\n",
      "I'm doing the thing.\n"
     ]
    },
    {
     "name": "stderr",
     "output_type": "stream",
     "text": [
      "\r",
      " 63%|██████▎   | 106/168 [00:22<00:16,  3.73it/s]"
     ]
    },
    {
     "name": "stdout",
     "output_type": "stream",
     "text": [
      "bone-penn-632\n",
      "Does this patient have T1 available? True\n",
      "I'm doing the thing.\n"
     ]
    },
    {
     "name": "stderr",
     "output_type": "stream",
     "text": [
      "\r",
      " 64%|██████▎   | 107/168 [00:22<00:16,  3.77it/s]"
     ]
    },
    {
     "name": "stderr",
     "output_type": "stream",
     "text": [
      "\r",
      " 65%|██████▍   | 109/168 [00:22<00:12,  4.66it/s]"
     ]
    },
    {
     "name": "stdout",
     "output_type": "stream",
     "text": [
      "bone-hup-203\n",
      "Does this patient have T1 available? True\n",
      "I'm doing the thing.\n",
      "bone-china-211\n",
      "Does this patient have T1 available? True\n",
      "I'm doing the thing.\n",
      "bone-penn-379\n",
      "Does this patient have T1 available? True\n",
      "I'm doing the thing.\n"
     ]
    },
    {
     "name": "stderr",
     "output_type": "stream",
     "text": [
      "\r",
      " 65%|██████▌   | 110/168 [00:23<00:11,  4.84it/s]"
     ]
    },
    {
     "name": "stdout",
     "output_type": "stream",
     "text": [
      "bone-penn-609\n",
      "Does this patient have T1 available? True\n",
      "I'm doing the thing.\n"
     ]
    },
    {
     "name": "stderr",
     "output_type": "stream",
     "text": [
      "\r",
      " 66%|██████▌   | 111/168 [00:23<00:12,  4.41it/s]"
     ]
    },
    {
     "name": "stdout",
     "output_type": "stream",
     "text": [
      "bone-hup-188\n",
      "Does this patient have T1 available? True\n",
      "I'm doing the thing.\n"
     ]
    },
    {
     "name": "stderr",
     "output_type": "stream",
     "text": [
      "\r",
      " 67%|██████▋   | 112/168 [00:23<00:17,  3.21it/s]"
     ]
    },
    {
     "name": "stdout",
     "output_type": "stream",
     "text": [
      "bone-penn-065\n",
      "Does this patient have T1 available? True\n",
      "I'm doing the thing.\n"
     ]
    },
    {
     "name": "stderr",
     "output_type": "stream",
     "text": [
      "\r",
      " 67%|██████▋   | 113/168 [00:24<00:17,  3.17it/s]"
     ]
    },
    {
     "name": "stderr",
     "output_type": "stream",
     "text": [
      "\r",
      " 68%|██████▊   | 114/168 [00:24<00:13,  3.92it/s]"
     ]
    },
    {
     "name": "stdout",
     "output_type": "stream",
     "text": [
      "bone-china-226\n",
      "Does this patient have T1 available? True\n",
      "I'm doing the thing.\n",
      "bone-penn-120\n",
      "Does this patient have T1 available? True\n",
      "I'm doing the thing.\n",
      "bone-penn-433\n",
      "Does this patient have T1 available? True\n",
      "I'm doing the thing.\n"
     ]
    },
    {
     "name": "stderr",
     "output_type": "stream",
     "text": [
      "\r",
      " 69%|██████▉   | 116/168 [00:25<00:14,  3.64it/s]"
     ]
    },
    {
     "name": "stdout",
     "output_type": "stream",
     "text": [
      "bone-hup-76\n",
      "Does this patient have T1 available? True\n",
      "I'm doing the thing.\n"
     ]
    },
    {
     "name": "stderr",
     "output_type": "stream",
     "text": [
      "\r",
      " 70%|██████▉   | 117/168 [00:25<00:13,  3.73it/s]"
     ]
    },
    {
     "name": "stdout",
     "output_type": "stream",
     "text": [
      "bone-penn-190\n",
      "Does this patient have T1 available? True\n",
      "I'm doing the thing.\n"
     ]
    },
    {
     "name": "stderr",
     "output_type": "stream",
     "text": [
      "\r",
      " 70%|███████   | 118/168 [00:25<00:13,  3.82it/s]"
     ]
    },
    {
     "name": "stdout",
     "output_type": "stream",
     "text": [
      "bone-penn-197\n",
      "Does this patient have T1 available? True\n",
      "I'm doing the thing.\n"
     ]
    },
    {
     "name": "stderr",
     "output_type": "stream",
     "text": [
      "\r",
      " 71%|███████   | 119/168 [00:25<00:12,  3.99it/s]"
     ]
    },
    {
     "name": "stdout",
     "output_type": "stream",
     "text": [
      "bone-hup-104\n",
      "Does this patient have T1 available? True\n",
      "I'm doing the thing.\n"
     ]
    },
    {
     "name": "stderr",
     "output_type": "stream",
     "text": [
      "\r",
      " 71%|███████▏  | 120/168 [00:25<00:11,  4.14it/s]"
     ]
    },
    {
     "name": "stdout",
     "output_type": "stream",
     "text": [
      "bone-penn-220\n",
      "Does this patient have T1 available? True\n",
      "I'm doing the thing.\n"
     ]
    },
    {
     "name": "stderr",
     "output_type": "stream",
     "text": [
      "\r",
      " 72%|███████▏  | 121/168 [00:26<00:16,  2.81it/s]"
     ]
    },
    {
     "name": "stderr",
     "output_type": "stream",
     "text": [
      "\r",
      " 73%|███████▎  | 122/168 [00:26<00:13,  3.49it/s]"
     ]
    },
    {
     "name": "stdout",
     "output_type": "stream",
     "text": [
      "bone-penn-122\n",
      "Does this patient have T1 available? True\n",
      "I'm doing the thing.\n",
      "bone-penn-019\n",
      "Does this patient have T1 available? True\n",
      "I'm doing the thing.\n"
     ]
    },
    {
     "name": "stderr",
     "output_type": "stream",
     "text": [
      "\r",
      " 73%|███████▎  | 123/168 [00:27<00:13,  3.45it/s]"
     ]
    },
    {
     "name": "stderr",
     "output_type": "stream",
     "text": [
      "\r",
      " 74%|███████▍  | 124/168 [00:27<00:11,  3.95it/s]"
     ]
    },
    {
     "name": "stdout",
     "output_type": "stream",
     "text": [
      "bone-hup-219\n",
      "Does this patient have T1 available? True\n",
      "I'm doing the thing.\n",
      "bone-hup-108\n",
      "Does this patient have T1 available? True\n",
      "I'm doing the thing.\n"
     ]
    },
    {
     "name": "stderr",
     "output_type": "stream",
     "text": [
      "\r",
      " 74%|███████▍  | 125/168 [00:27<00:09,  4.72it/s]"
     ]
    },
    {
     "name": "stdout",
     "output_type": "stream",
     "text": [
      "bone-penn-013\n",
      "Does this patient have T1 available? True\n",
      "I'm doing the thing.\n"
     ]
    },
    {
     "name": "stderr",
     "output_type": "stream",
     "text": [
      "\r",
      " 75%|███████▌  | 126/168 [00:29<00:31,  1.33it/s]"
     ]
    },
    {
     "name": "stdout",
     "output_type": "stream",
     "text": [
      "bone-hup-132\n",
      "Does this patient have T1 available? True\n",
      "I'm doing the thing.\n"
     ]
    },
    {
     "name": "stderr",
     "output_type": "stream",
     "text": [
      "\r",
      " 76%|███████▌  | 127/168 [00:29<00:24,  1.67it/s]"
     ]
    },
    {
     "name": "stdout",
     "output_type": "stream",
     "text": [
      "bone-penn-269\n",
      "Does this patient have T1 available? True\n",
      "I'm doing the thing.\n",
      "bone-penn-021\n",
      "Does this patient have T1 available? True\n",
      "I'm doing the thing.\n"
     ]
    },
    {
     "name": "stderr",
     "output_type": "stream",
     "text": [
      "\r",
      " 77%|███████▋  | 129/168 [00:29<00:18,  2.11it/s]"
     ]
    },
    {
     "name": "stderr",
     "output_type": "stream",
     "text": [
      "\r",
      " 77%|███████▋  | 130/168 [00:30<00:14,  2.59it/s]"
     ]
    },
    {
     "name": "stdout",
     "output_type": "stream",
     "text": [
      "bone-penn-035\n",
      "Does this patient have T1 available? True\n",
      "I'm doing the thing.\n",
      "bone-penn-232\n",
      "Does this patient have T1 available? True\n",
      "I'm doing the thing.\n"
     ]
    },
    {
     "name": "stderr",
     "output_type": "stream",
     "text": [
      "\r",
      " 78%|███████▊  | 131/168 [00:30<00:14,  2.53it/s]"
     ]
    },
    {
     "name": "stdout",
     "output_type": "stream",
     "text": [
      "bone-hup-227\n",
      "Does this patient have T1 available? True\n",
      "I'm doing the thing.\n"
     ]
    },
    {
     "name": "stderr",
     "output_type": "stream",
     "text": [
      "\r",
      " 79%|███████▊  | 132/168 [00:31<00:15,  2.31it/s]"
     ]
    },
    {
     "name": "stdout",
     "output_type": "stream",
     "text": [
      "bone-hup-95\n",
      "Does this patient have T1 available? True\n",
      "I'm doing the thing.\n"
     ]
    },
    {
     "name": "stderr",
     "output_type": "stream",
     "text": [
      "\r",
      " 79%|███████▉  | 133/168 [00:31<00:16,  2.07it/s]"
     ]
    },
    {
     "name": "stdout",
     "output_type": "stream",
     "text": [
      "bone-penn-465\n",
      "Does this patient have T1 available? True\n",
      "I'm doing the thing.\n"
     ]
    },
    {
     "name": "stderr",
     "output_type": "stream",
     "text": [
      "\r",
      " 80%|███████▉  | 134/168 [00:32<00:15,  2.25it/s]"
     ]
    },
    {
     "name": "stdout",
     "output_type": "stream",
     "text": [
      "bone-china-216\n",
      "Does this patient have T1 available? True\n",
      "I'm doing the thing.\n",
      "bone-penn-605\n",
      "Does this patient have T1 available? True\n",
      "I'm doing the thing.\n"
     ]
    },
    {
     "name": "stderr",
     "output_type": "stream",
     "text": [
      "\r",
      " 81%|████████  | 136/168 [00:32<00:11,  2.70it/s]"
     ]
    },
    {
     "name": "stderr",
     "output_type": "stream",
     "text": [
      "\r",
      " 82%|████████▏ | 137/168 [00:32<00:09,  3.33it/s]"
     ]
    },
    {
     "name": "stdout",
     "output_type": "stream",
     "text": [
      "bone-china-217\n",
      "Does this patient have T1 available? True\n",
      "I'm doing the thing.\n",
      "bone-penn-200\n",
      "Does this patient have T1 available? True\n",
      "I'm doing the thing.\n"
     ]
    },
    {
     "name": "stderr",
     "output_type": "stream",
     "text": [
      "\r",
      " 82%|████████▏ | 138/168 [00:32<00:09,  3.28it/s]"
     ]
    },
    {
     "name": "stdout",
     "output_type": "stream",
     "text": [
      "bone-penn-053\n",
      "Does this patient have T1 available? True\n",
      "I'm doing the thing.\n"
     ]
    },
    {
     "name": "stderr",
     "output_type": "stream",
     "text": [
      "\r",
      " 83%|████████▎ | 139/168 [00:33<00:11,  2.56it/s]"
     ]
    },
    {
     "name": "stdout",
     "output_type": "stream",
     "text": [
      "bone-penn-205\n",
      "Does this patient have T1 available? True\n",
      "I'm doing the thing.\n"
     ]
    },
    {
     "name": "stderr",
     "output_type": "stream",
     "text": [
      "\r",
      " 83%|████████▎ | 140/168 [00:33<00:09,  2.92it/s]"
     ]
    },
    {
     "name": "stdout",
     "output_type": "stream",
     "text": [
      "bone-china-179\n",
      "Does this patient have T1 available? True\n",
      "I'm doing the thing.\n",
      "bone-penn-463\n",
      "Does this patient have T1 available? True\n",
      "I'm doing the thing.\n"
     ]
    },
    {
     "name": "stderr",
     "output_type": "stream",
     "text": [
      "\r",
      " 85%|████████▍ | 142/168 [00:33<00:07,  3.64it/s]"
     ]
    },
    {
     "name": "stderr",
     "output_type": "stream",
     "text": [
      "\r",
      " 85%|████████▌ | 143/168 [00:34<00:06,  4.13it/s]"
     ]
    },
    {
     "name": "stdout",
     "output_type": "stream",
     "text": [
      "bone-penn-187\n",
      "Does this patient have T1 available? True\n",
      "I'm doing the thing.\n",
      "bone-hup-59\n",
      "Does this patient have T1 available? True\n",
      "I'm doing the thing.\n"
     ]
    },
    {
     "name": "stderr",
     "output_type": "stream",
     "text": [
      "\r",
      " 86%|████████▌ | 144/168 [00:34<00:05,  4.08it/s]"
     ]
    },
    {
     "name": "stderr",
     "output_type": "stream",
     "text": [
      "\r",
      " 86%|████████▋ | 145/168 [00:34<00:05,  4.52it/s]"
     ]
    },
    {
     "name": "stdout",
     "output_type": "stream",
     "text": [
      "bone-penn-258\n",
      "Does this patient have T1 available? True\n",
      "I'm doing the thing.\n",
      "bone-penn-648\n",
      "Does this patient have T1 available? True\n",
      "I'm doing the thing.\n"
     ]
    },
    {
     "name": "stderr",
     "output_type": "stream",
     "text": [
      "\r",
      " 87%|████████▋ | 146/168 [00:34<00:04,  5.08it/s]"
     ]
    },
    {
     "name": "stderr",
     "output_type": "stream",
     "text": [
      "\r",
      " 88%|████████▊ | 148/168 [00:34<00:03,  6.12it/s]"
     ]
    },
    {
     "name": "stdout",
     "output_type": "stream",
     "text": [
      "bone-china-192\n",
      "Does this patient have T1 available? True\n",
      "I'm doing the thing.\n",
      "bone-hup-216\n",
      "Does this patient have T1 available? True\n",
      "I'm doing the thing.\n",
      "bone-penn-181\n",
      "Does this patient have T1 available? True\n",
      "I'm doing the thing.\n"
     ]
    },
    {
     "name": "stderr",
     "output_type": "stream",
     "text": [
      "\r",
      " 89%|████████▊ | 149/168 [00:35<00:04,  3.98it/s]"
     ]
    },
    {
     "name": "stderr",
     "output_type": "stream",
     "text": [
      "\r",
      " 89%|████████▉ | 150/168 [00:35<00:03,  4.55it/s]"
     ]
    },
    {
     "name": "stdout",
     "output_type": "stream",
     "text": [
      "bone-china-213\n",
      "Does this patient have T1 available? True\n",
      "I'm doing the thing.\n",
      "bone-hup-78\n",
      "Does this patient have T1 available? True\n",
      "I'm doing the thing.\n"
     ]
    },
    {
     "name": "stderr",
     "output_type": "stream",
     "text": [
      "\r",
      " 90%|████████▉ | 151/168 [00:35<00:04,  3.85it/s]"
     ]
    },
    {
     "name": "stdout",
     "output_type": "stream",
     "text": [
      "bone-hup-156\n",
      "Does this patient have T1 available? True\n",
      "I'm doing the thing.\n"
     ]
    },
    {
     "name": "stderr",
     "output_type": "stream",
     "text": [
      "\r",
      " 90%|█████████ | 152/168 [00:36<00:04,  3.71it/s]"
     ]
    },
    {
     "name": "stdout",
     "output_type": "stream",
     "text": [
      "bone-penn-075\n",
      "Does this patient have T1 available? True\n",
      "I'm doing the thing.\n"
     ]
    },
    {
     "name": "stderr",
     "output_type": "stream",
     "text": [
      "\r",
      " 91%|█████████ | 153/168 [00:36<00:03,  3.80it/s]"
     ]
    },
    {
     "name": "stderr",
     "output_type": "stream",
     "text": [
      "\r",
      " 92%|█████████▏| 154/168 [00:36<00:03,  4.59it/s]"
     ]
    },
    {
     "name": "stdout",
     "output_type": "stream",
     "text": [
      "bone-penn-654\n",
      "Does this patient have T1 available? True\n",
      "I'm doing the thing.\n",
      "bone-penn-182\n",
      "Does this patient have T1 available? True\n",
      "I'm doing the thing.\n"
     ]
    },
    {
     "name": "stderr",
     "output_type": "stream",
     "text": [
      "\r",
      " 92%|█████████▏| 155/168 [00:36<00:02,  4.90it/s]"
     ]
    },
    {
     "name": "stdout",
     "output_type": "stream",
     "text": [
      "bone-penn-173\n",
      "Does this patient have T1 available? True\n",
      "I'm doing the thing.\n"
     ]
    },
    {
     "name": "stderr",
     "output_type": "stream",
     "text": [
      "\r",
      " 93%|█████████▎| 156/168 [00:36<00:02,  4.52it/s]"
     ]
    },
    {
     "name": "stdout",
     "output_type": "stream",
     "text": [
      "bone-penn-207\n",
      "Does this patient have T1 available? True\n",
      "I'm doing the thing.\n",
      "bone-hup-181\n",
      "Does this patient have T1 available? True\n",
      "I'm doing the thing.\n"
     ]
    },
    {
     "name": "stderr",
     "output_type": "stream",
     "text": [
      "\r",
      " 94%|█████████▍| 158/168 [00:37<00:02,  4.75it/s]"
     ]
    },
    {
     "name": "stderr",
     "output_type": "stream",
     "text": [
      "\r",
      " 95%|█████████▍| 159/168 [00:37<00:01,  5.02it/s]"
     ]
    },
    {
     "name": "stdout",
     "output_type": "stream",
     "text": [
      "bone-hup-177\n",
      "Does this patient have T1 available? True\n",
      "I'm doing the thing.\n",
      "bone-hup-72\n",
      "Does this patient have T1 available? True\n",
      "I'm doing the thing.\n"
     ]
    },
    {
     "name": "stderr",
     "output_type": "stream",
     "text": [
      "\r",
      " 95%|█████████▌| 160/168 [00:37<00:01,  4.13it/s]"
     ]
    },
    {
     "name": "stdout",
     "output_type": "stream",
     "text": [
      "bone-hup-173\n",
      "Does this patient have T1 available? True\n",
      "I'm doing the thing.\n"
     ]
    },
    {
     "name": "stderr",
     "output_type": "stream",
     "text": [
      "\r",
      " 96%|█████████▌| 161/168 [00:38<00:03,  1.94it/s]"
     ]
    },
    {
     "name": "stderr",
     "output_type": "stream",
     "text": [
      "\r",
      " 96%|█████████▋| 162/168 [00:39<00:02,  2.40it/s]"
     ]
    },
    {
     "name": "stdout",
     "output_type": "stream",
     "text": [
      "bone-hup-92\n",
      "Does this patient have T1 available? True\n",
      "I'm doing the thing.\n",
      "bone-penn-034\n",
      "Does this patient have T1 available? True\n",
      "I'm doing the thing.\n"
     ]
    },
    {
     "name": "stderr",
     "output_type": "stream",
     "text": [
      "\r",
      " 97%|█████████▋| 163/168 [00:39<00:01,  2.78it/s]"
     ]
    },
    {
     "name": "stderr",
     "output_type": "stream",
     "text": [
      "\r",
      " 98%|█████████▊| 164/168 [00:39<00:01,  3.47it/s]"
     ]
    },
    {
     "name": "stdout",
     "output_type": "stream",
     "text": [
      "bone-penn-307\n",
      "Does this patient have T1 available? True\n",
      "I'm doing the thing.\n",
      "bone-penn-210\n",
      "Does this patient have T1 available? True\n",
      "I'm doing the thing.\n"
     ]
    },
    {
     "name": "stderr",
     "output_type": "stream",
     "text": [
      "\r",
      " 98%|█████████▊| 165/168 [00:39<00:00,  3.93it/s]"
     ]
    },
    {
     "name": "stdout",
     "output_type": "stream",
     "text": [
      "bone-penn-305\n",
      "Does this patient have T1 available? True\n",
      "I'm doing the thing.\n",
      "bone-penn-218\n",
      "Does this patient have T1 available? True\n",
      "I'm doing the thing.\n"
     ]
    },
    {
     "name": "stderr",
     "output_type": "stream",
     "text": [
      "\r",
      " 99%|█████████▉| 167/168 [00:40<00:00,  4.06it/s]"
     ]
    },
    {
     "name": "stderr",
     "output_type": "stream",
     "text": [
      "\r",
      "100%|██████████| 168/168 [00:40<00:00,  4.19it/s]"
     ]
    },
    {
     "name": "stderr",
     "output_type": "stream",
     "text": [
      "\n",
      "\r",
      "  0%|          | 0/99 [00:00<?, ?it/s]"
     ]
    },
    {
     "name": "stdout",
     "output_type": "stream",
     "text": [
      "bone-china-189\n",
      "Does this patient have T1 available? True\n",
      "I'm doing the thing.\n",
      "bone-hup-137\n",
      "Does this patient have T1 available? True\n",
      "I'm doing the thing.\n"
     ]
    },
    {
     "name": "stderr",
     "output_type": "stream",
     "text": [
      "\r",
      "  1%|          | 1/99 [00:00<00:18,  5.32it/s]"
     ]
    },
    {
     "name": "stderr",
     "output_type": "stream",
     "text": [
      "\r",
      "  2%|▏         | 2/99 [00:00<00:18,  5.26it/s]"
     ]
    },
    {
     "name": "stdout",
     "output_type": "stream",
     "text": [
      "bone-hup-130\n",
      "Does this patient have T1 available? True\n",
      "I'm doing the thing.\n",
      "bone-hup-120\n",
      "Does this patient have T1 available? True\n",
      "I'm doing the thing.\n"
     ]
    },
    {
     "name": "stderr",
     "output_type": "stream",
     "text": [
      "\r",
      "  3%|▎         | 3/99 [00:00<00:19,  4.85it/s]"
     ]
    },
    {
     "name": "stderr",
     "output_type": "stream",
     "text": [
      "\r",
      "  5%|▌         | 5/99 [00:00<00:15,  6.25it/s]"
     ]
    },
    {
     "name": "stdout",
     "output_type": "stream",
     "text": [
      "bone-hup-143\n",
      "Does this patient have T1 available? True\n",
      "I'm doing the thing.\n",
      "bone-hup-127\n",
      "Does this patient have T1 available? True\n",
      "I'm doing the thing.\n",
      "bone-penn-295\n",
      "Does this patient have T1 available? True\n",
      "I'm doing the thing.\n"
     ]
    },
    {
     "name": "stderr",
     "output_type": "stream",
     "text": [
      "\r",
      "  6%|▌         | 6/99 [00:00<00:17,  5.32it/s]"
     ]
    },
    {
     "name": "stderr",
     "output_type": "stream",
     "text": [
      "\r",
      "  8%|▊         | 8/99 [00:01<00:14,  6.36it/s]"
     ]
    },
    {
     "name": "stdout",
     "output_type": "stream",
     "text": [
      "bone-penn-594\n",
      "Does this patient have T1 available? True\n",
      "I'm doing the thing.\n",
      "bone-penn-582\n",
      "Does this patient have T1 available? True\n",
      "I'm doing the thing.\n",
      "bone-penn-574\n",
      "Does this patient have T1 available? True\n",
      "I'm doing the thing.\n"
     ]
    },
    {
     "name": "stderr",
     "output_type": "stream",
     "text": [
      "\r",
      " 10%|█         | 10/99 [00:01<00:12,  7.18it/s]"
     ]
    },
    {
     "name": "stdout",
     "output_type": "stream",
     "text": [
      "bone-penn-125\n",
      "Does this patient have T1 available? True\n",
      "I'm doing the thing.\n",
      "bone-penn-407\n",
      "Does this patient have T1 available? True\n",
      "I'm doing the thing.\n"
     ]
    },
    {
     "name": "stderr",
     "output_type": "stream",
     "text": [
      "\r",
      " 11%|█         | 11/99 [00:01<00:14,  6.01it/s]"
     ]
    },
    {
     "name": "stdout",
     "output_type": "stream",
     "text": [
      "bone-penn-432\n",
      "Does this patient have T1 available? True\n",
      "I'm doing the thing.\n",
      "bone-penn-117\n",
      "Does this patient have T1 available? True\n",
      "I'm doing the thing.\n"
     ]
    },
    {
     "name": "stderr",
     "output_type": "stream",
     "text": [
      "\r",
      " 13%|█▎        | 13/99 [00:01<00:12,  6.80it/s]"
     ]
    },
    {
     "name": "stderr",
     "output_type": "stream",
     "text": [
      "\r",
      " 14%|█▍        | 14/99 [00:01<00:13,  6.28it/s]"
     ]
    },
    {
     "name": "stdout",
     "output_type": "stream",
     "text": [
      "bone-penn-393\n",
      "Does this patient have T1 available? True\n",
      "I'm doing the thing.\n",
      "bone-penn-389\n",
      "Does this patient have T1 available? True\n",
      "I'm doing the thing.\n"
     ]
    },
    {
     "name": "stderr",
     "output_type": "stream",
     "text": [
      "\r",
      " 15%|█▌        | 15/99 [00:02<00:14,  5.83it/s]"
     ]
    },
    {
     "name": "stdout",
     "output_type": "stream",
     "text": [
      "bone-penn-387\n",
      "Does this patient have T1 available? True\n",
      "I'm doing the thing.\n"
     ]
    },
    {
     "name": "stderr",
     "output_type": "stream",
     "text": [
      "\r",
      " 16%|█▌        | 16/99 [00:02<00:16,  5.00it/s]"
     ]
    },
    {
     "name": "stderr",
     "output_type": "stream",
     "text": [
      "\r",
      " 17%|█▋        | 17/99 [00:02<00:14,  5.69it/s]"
     ]
    },
    {
     "name": "stdout",
     "output_type": "stream",
     "text": [
      "bone-penn-229\n",
      "Does this patient have T1 available? True\n",
      "I'm doing the thing.\n",
      "bone-hup-174\n",
      "Does this patient have T1 available? True\n",
      "I'm doing the thing.\n"
     ]
    },
    {
     "name": "stderr",
     "output_type": "stream",
     "text": [
      "\r",
      " 18%|█▊        | 18/99 [00:03<00:27,  2.98it/s]"
     ]
    },
    {
     "name": "stdout",
     "output_type": "stream",
     "text": [
      "bone-hup-190\n",
      "Does this patient have T1 available? True\n",
      "I'm doing the thing.\n"
     ]
    },
    {
     "name": "stderr",
     "output_type": "stream",
     "text": [
      "\r",
      " 19%|█▉        | 19/99 [00:03<00:30,  2.66it/s]"
     ]
    },
    {
     "name": "stdout",
     "output_type": "stream",
     "text": [
      "bone-hup-238\n",
      "Does this patient have T1 available? True\n",
      "I'm doing the thing.\n",
      "bone-hup-164\n",
      "Does this patient have T1 available? True\n",
      "I'm doing the thing.\n"
     ]
    },
    {
     "name": "stderr",
     "output_type": "stream",
     "text": [
      "\r",
      " 21%|██        | 21/99 [00:04<00:24,  3.23it/s]"
     ]
    },
    {
     "name": "stderr",
     "output_type": "stream",
     "text": [
      "\r",
      " 22%|██▏       | 22/99 [00:04<00:19,  3.87it/s]"
     ]
    },
    {
     "name": "stdout",
     "output_type": "stream",
     "text": [
      "bone-hup-212\n",
      "Does this patient have T1 available? True\n",
      "I'm doing the thing.\n",
      "bone-hup-195\n",
      "Does this patient have T1 available? True\n",
      "I'm doing the thing.\n",
      "bone-hup-236\n",
      "Does this patient have T1 available? True\n",
      "I'm doing the thing.\n"
     ]
    },
    {
     "name": "stderr",
     "output_type": "stream",
     "text": [
      "\r",
      " 24%|██▍       | 24/99 [00:04<00:17,  4.27it/s]"
     ]
    },
    {
     "name": "stderr",
     "output_type": "stream",
     "text": [
      "\r",
      " 25%|██▌       | 25/99 [00:04<00:16,  4.47it/s]"
     ]
    },
    {
     "name": "stdout",
     "output_type": "stream",
     "text": [
      "bone-hup-182\n",
      "Does this patient have T1 available? True\n",
      "I'm doing the thing.\n"
     ]
    },
    {
     "name": "stderr",
     "output_type": "stream",
     "text": [
      "\r",
      " 26%|██▋       | 26/99 [00:04<00:14,  4.99it/s]"
     ]
    },
    {
     "name": "stdout",
     "output_type": "stream",
     "text": [
      "bone-penn-290\n",
      "Does this patient have T1 available? True\n",
      "I'm doing the thing.\n",
      "bone-penn-202\n",
      "Does this patient have T1 available? True\n",
      "I'm doing the thing.\n"
     ]
    },
    {
     "name": "stderr",
     "output_type": "stream",
     "text": [
      "\r",
      " 27%|██▋       | 27/99 [00:05<00:31,  2.27it/s]"
     ]
    },
    {
     "name": "stderr",
     "output_type": "stream",
     "text": [
      "\r",
      " 29%|██▉       | 29/99 [00:06<00:23,  3.02it/s]"
     ]
    },
    {
     "name": "stdout",
     "output_type": "stream",
     "text": [
      "bone-penn-184\n",
      "Does this patient have T1 available? True\n",
      "I'm doing the thing.\n",
      "bone-penn-208\n",
      "Does this patient have T1 available? True\n",
      "I'm doing the thing.\n",
      "bone-penn-175\n",
      "Does this patient have T1 available? True\n",
      "I'm doing the thing.\n"
     ]
    },
    {
     "name": "stderr",
     "output_type": "stream",
     "text": [
      "\r",
      " 30%|███       | 30/99 [00:06<00:20,  3.38it/s]"
     ]
    },
    {
     "name": "stdout",
     "output_type": "stream",
     "text": [
      "bone-penn-185\n",
      "Does this patient have T1 available? True\n",
      "I'm doing the thing.\n"
     ]
    },
    {
     "name": "stderr",
     "output_type": "stream",
     "text": [
      "\r",
      " 31%|███▏      | 31/99 [00:06<00:19,  3.58it/s]"
     ]
    },
    {
     "name": "stdout",
     "output_type": "stream",
     "text": [
      "bone-penn-103\n",
      "Does this patient have T1 available? True\n",
      "I'm doing the thing.\n"
     ]
    },
    {
     "name": "stderr",
     "output_type": "stream",
     "text": [
      "\r",
      " 32%|███▏      | 32/99 [00:06<00:18,  3.68it/s]"
     ]
    },
    {
     "name": "stdout",
     "output_type": "stream",
     "text": [
      "bone-penn-102\n",
      "Does this patient have T1 available? True\n",
      "I'm doing the thing.\n"
     ]
    },
    {
     "name": "stderr",
     "output_type": "stream",
     "text": [
      "\r",
      " 33%|███▎      | 33/99 [00:07<00:23,  2.86it/s]"
     ]
    },
    {
     "name": "stdout",
     "output_type": "stream",
     "text": [
      "bone-penn-80\n",
      "Does this patient have T1 available? True\n",
      "I'm doing the thing.\n"
     ]
    },
    {
     "name": "stderr",
     "output_type": "stream",
     "text": [
      "\r",
      " 34%|███▍      | 34/99 [00:07<00:24,  2.71it/s]"
     ]
    },
    {
     "name": "stderr",
     "output_type": "stream",
     "text": [
      "\r",
      " 35%|███▌      | 35/99 [00:07<00:20,  3.17it/s]"
     ]
    },
    {
     "name": "stdout",
     "output_type": "stream",
     "text": [
      "bone-hup-114\n",
      "Does this patient have T1 available? True\n",
      "I'm doing the thing.\n",
      "bone-hup-87\n",
      "Does this patient have T1 available? True\n",
      "I'm doing the thing.\n"
     ]
    },
    {
     "name": "stderr",
     "output_type": "stream",
     "text": [
      "\r",
      " 36%|███▋      | 36/99 [00:08<00:29,  2.17it/s]"
     ]
    },
    {
     "name": "stderr",
     "output_type": "stream",
     "text": [
      "\r",
      " 37%|███▋      | 37/99 [00:08<00:22,  2.79it/s]"
     ]
    },
    {
     "name": "stdout",
     "output_type": "stream",
     "text": [
      "bone-hup-99\n",
      "Does this patient have T1 available? True\n",
      "I'm doing the thing.\n",
      "bone-hup-90\n",
      "Does this patient have T1 available? True\n",
      "I'm doing the thing.\n"
     ]
    },
    {
     "name": "stderr",
     "output_type": "stream",
     "text": [
      "\r",
      " 38%|███▊      | 38/99 [00:09<00:22,  2.70it/s]"
     ]
    },
    {
     "name": "stdout",
     "output_type": "stream",
     "text": [
      "bone-penn-544\n",
      "Does this patient have T1 available? True\n",
      "I'm doing the thing.\n",
      "bone-penn-547\n",
      "Does this patient have T1 available? True\n",
      "I'm doing the thing.\n"
     ]
    },
    {
     "name": "stderr",
     "output_type": "stream",
     "text": [
      "\r",
      " 40%|████      | 40/99 [00:09<00:17,  3.44it/s]"
     ]
    },
    {
     "name": "stderr",
     "output_type": "stream",
     "text": [
      "\r",
      " 41%|████▏     | 41/99 [00:09<00:14,  4.10it/s]"
     ]
    },
    {
     "name": "stdout",
     "output_type": "stream",
     "text": [
      "bone-penn-135\n",
      "Does this patient have T1 available? True\n",
      "I'm doing the thing.\n",
      "bone-penn-145\n",
      "Does this patient have T1 available? True\n",
      "I'm doing the thing.\n"
     ]
    },
    {
     "name": "stderr",
     "output_type": "stream",
     "text": [
      "\r",
      " 42%|████▏     | 42/99 [00:09<00:12,  4.56it/s]"
     ]
    },
    {
     "name": "stderr",
     "output_type": "stream",
     "text": [
      "\r",
      " 43%|████▎     | 43/99 [00:09<00:11,  4.77it/s]"
     ]
    },
    {
     "name": "stdout",
     "output_type": "stream",
     "text": [
      "bone-penn-366\n",
      "Does this patient have T1 available? True\n",
      "I'm doing the thing.\n",
      "bone-penn-383\n",
      "Does this patient have T1 available? True\n",
      "I'm doing the thing.\n"
     ]
    },
    {
     "name": "stderr",
     "output_type": "stream",
     "text": [
      "\r",
      " 44%|████▍     | 44/99 [00:10<00:10,  5.05it/s]"
     ]
    },
    {
     "name": "stdout",
     "output_type": "stream",
     "text": [
      "bone-penn-519\n",
      "Does this patient have T1 available? True\n",
      "I'm doing the thing.\n"
     ]
    },
    {
     "name": "stderr",
     "output_type": "stream",
     "text": [
      "\r",
      " 45%|████▌     | 45/99 [00:10<00:10,  4.95it/s]"
     ]
    },
    {
     "name": "stdout",
     "output_type": "stream",
     "text": [
      "bone-penn-540\n",
      "Does this patient have T1 available? True\n",
      "I'm doing the thing.\n"
     ]
    },
    {
     "name": "stderr",
     "output_type": "stream",
     "text": [
      "\r",
      " 46%|████▋     | 46/99 [00:10<00:11,  4.64it/s]"
     ]
    },
    {
     "name": "stdout",
     "output_type": "stream",
     "text": [
      "bone-penn-524\n",
      "Does this patient have T1 available? True\n",
      "I'm doing the thing.\n"
     ]
    },
    {
     "name": "stderr",
     "output_type": "stream",
     "text": [
      "\r",
      " 47%|████▋     | 47/99 [00:10<00:13,  3.72it/s]"
     ]
    },
    {
     "name": "stdout",
     "output_type": "stream",
     "text": [
      "bone-penn-539\n",
      "Does this patient have T1 available? True\n",
      "I'm doing the thing.\n"
     ]
    },
    {
     "name": "stderr",
     "output_type": "stream",
     "text": [
      "\r",
      " 48%|████▊     | 48/99 [00:11<00:12,  3.98it/s]"
     ]
    },
    {
     "name": "stderr",
     "output_type": "stream",
     "text": [
      "\r",
      " 51%|█████     | 50/99 [00:11<00:09,  4.91it/s]"
     ]
    },
    {
     "name": "stdout",
     "output_type": "stream",
     "text": [
      "bone-china-137\n",
      "Does this patient have T1 available? True\n",
      "I'm doing the thing.\n",
      "bone-china-150\n",
      "Does this patient have T1 available? True\n",
      "I'm doing the thing.\n",
      "bone-china-141\n",
      "Does this patient have T1 available? True\n",
      "I'm doing the thing.\n"
     ]
    },
    {
     "name": "stdout",
     "output_type": "stream",
     "text": [
      "bone-china-142\n",
      "Does this patient have T1 available? True\n",
      "I'm doing the thing.\n"
     ]
    },
    {
     "name": "stderr",
     "output_type": "stream",
     "text": [
      "\r",
      " 53%|█████▎    | 52/99 [00:11<00:09,  5.06it/s]"
     ]
    },
    {
     "name": "stderr",
     "output_type": "stream",
     "text": [
      "\r",
      " 55%|█████▍    | 54/99 [00:11<00:07,  6.21it/s]"
     ]
    },
    {
     "name": "stdout",
     "output_type": "stream",
     "text": [
      "bone-china-156\n",
      "Does this patient have T1 available? True\n",
      "I'm doing the thing.\n",
      "bone-china-157\n",
      "Does this patient have T1 available? True\n",
      "I'm doing the thing.\n",
      "bone-china-094\n",
      "Does this patient have T1 available? True\n",
      "I'm doing the thing.\n"
     ]
    },
    {
     "name": "stderr",
     "output_type": "stream",
     "text": [
      "\r",
      " 56%|█████▌    | 55/99 [00:11<00:06,  6.53it/s]"
     ]
    },
    {
     "name": "stderr",
     "output_type": "stream",
     "text": [
      "\r",
      " 57%|█████▋    | 56/99 [00:12<00:06,  6.70it/s]"
     ]
    },
    {
     "name": "stdout",
     "output_type": "stream",
     "text": [
      "bone-china-108\n",
      "Does this patient have T1 available? True\n",
      "I'm doing the thing.\n",
      "bone-china-130\n",
      "Does this patient have T1 available? True\n",
      "I'm doing the thing.\n"
     ]
    },
    {
     "name": "stderr",
     "output_type": "stream",
     "text": [
      "\r",
      " 58%|█████▊    | 57/99 [00:12<00:06,  6.50it/s]"
     ]
    },
    {
     "name": "stderr",
     "output_type": "stream",
     "text": [
      "\r",
      " 59%|█████▊    | 58/99 [00:12<00:06,  6.13it/s]"
     ]
    },
    {
     "name": "stdout",
     "output_type": "stream",
     "text": [
      "bone-hup-294\n",
      "Does this patient have T1 available? True\n",
      "I'm doing the thing.\n",
      "bone-hup-318\n",
      "Does this patient have T1 available? True\n",
      "I'm doing the thing.\n"
     ]
    },
    {
     "name": "stderr",
     "output_type": "stream",
     "text": [
      "\r",
      " 60%|█████▉    | 59/99 [00:13<00:14,  2.79it/s]"
     ]
    },
    {
     "name": "stderr",
     "output_type": "stream",
     "text": [
      "\r",
      " 61%|██████    | 60/99 [00:13<00:11,  3.32it/s]"
     ]
    },
    {
     "name": "stdout",
     "output_type": "stream",
     "text": [
      "bone-hup-300\n",
      "Does this patient have T1 available? True\n",
      "I'm doing the thing.\n",
      "bone-hup-313\n",
      "Does this patient have T1 available? True\n",
      "I'm doing the thing.\n"
     ]
    },
    {
     "name": "stderr",
     "output_type": "stream",
     "text": [
      "\r",
      " 62%|██████▏   | 61/99 [00:13<00:10,  3.65it/s]"
     ]
    },
    {
     "name": "stdout",
     "output_type": "stream",
     "text": [
      "bone-hup-311\n",
      "Does this patient have T1 available? True\n",
      "I'm doing the thing.\n"
     ]
    },
    {
     "name": "stderr",
     "output_type": "stream",
     "text": [
      "\r",
      " 63%|██████▎   | 62/99 [00:14<00:13,  2.72it/s]"
     ]
    },
    {
     "name": "stdout",
     "output_type": "stream",
     "text": [
      "bone-penn-326\n",
      "Does this patient have T1 available? True\n",
      "I'm doing the thing.\n"
     ]
    },
    {
     "name": "stderr",
     "output_type": "stream",
     "text": [
      "\r",
      " 64%|██████▎   | 63/99 [00:14<00:11,  3.09it/s]"
     ]
    },
    {
     "name": "stderr",
     "output_type": "stream",
     "text": [
      "\r",
      " 67%|██████▋   | 66/99 [00:14<00:08,  4.11it/s]"
     ]
    },
    {
     "name": "stdout",
     "output_type": "stream",
     "text": [
      "bone-china-067\n",
      "Does this patient have T1 available? True\n",
      "I'm doing the thing.\n",
      "bone-china-082\n",
      "Does this patient have T1 available? True\n",
      "I'm doing the thing.\n",
      "bone-china-090\n",
      "Does this patient have T1 available? True\n",
      "I'm doing the thing.\n",
      "bone-china-012\n",
      "Does this patient have T1 available? True\n",
      "I'm doing the thing.\n"
     ]
    },
    {
     "name": "stderr",
     "output_type": "stream",
     "text": [
      "\r",
      " 69%|██████▊   | 68/99 [00:14<00:06,  4.92it/s]"
     ]
    },
    {
     "name": "stdout",
     "output_type": "stream",
     "text": [
      "bone-china-064\n",
      "Does this patient have T1 available? True\n",
      "I'm doing the thing.\n",
      "bone-china-063\n",
      "Does this patient have T1 available? True\n",
      "I'm doing the thing.\n"
     ]
    },
    {
     "name": "stderr",
     "output_type": "stream",
     "text": [
      "\r",
      " 70%|██████▉   | 69/99 [00:14<00:05,  5.34it/s]"
     ]
    },
    {
     "name": "stderr",
     "output_type": "stream",
     "text": [
      "\r",
      " 71%|███████   | 70/99 [00:15<00:04,  5.82it/s]"
     ]
    },
    {
     "name": "stdout",
     "output_type": "stream",
     "text": [
      "bone-china-007\n",
      "Does this patient have T1 available? True\n",
      "I'm doing the thing.\n",
      "bone-china-018\n",
      "Does this patient have T1 available? True\n",
      "I'm doing the thing.\n"
     ]
    },
    {
     "name": "stderr",
     "output_type": "stream",
     "text": [
      "\r",
      " 73%|███████▎  | 72/99 [00:15<00:04,  6.42it/s]"
     ]
    },
    {
     "name": "stdout",
     "output_type": "stream",
     "text": [
      "bone-china-013\n",
      "Does this patient have T1 available? True\n",
      "I'm doing the thing.\n",
      "bone-hup-50\n",
      "Does this patient have T1 available? True\n",
      "I'm doing the thing.\n"
     ]
    },
    {
     "name": "stderr",
     "output_type": "stream",
     "text": [
      "\r",
      " 74%|███████▎  | 73/99 [00:15<00:06,  4.00it/s]"
     ]
    },
    {
     "name": "stdout",
     "output_type": "stream",
     "text": [
      "bone-penn-638\n",
      "Does this patient have T1 available? True\n",
      "I'm doing the thing.\n"
     ]
    },
    {
     "name": "stderr",
     "output_type": "stream",
     "text": [
      "\r",
      " 75%|███████▍  | 74/99 [00:16<00:06,  3.65it/s]"
     ]
    },
    {
     "name": "stderr",
     "output_type": "stream",
     "text": [
      "\r",
      " 76%|███████▌  | 75/99 [00:16<00:06,  3.94it/s]"
     ]
    },
    {
     "name": "stdout",
     "output_type": "stream",
     "text": [
      "bone-penn-649\n",
      "Does this patient have T1 available? True\n",
      "I'm doing the thing.\n",
      "bone-china-206\n",
      "Does this patient have T1 available? True\n",
      "I'm doing the thing.\n"
     ]
    },
    {
     "name": "stderr",
     "output_type": "stream",
     "text": [
      "\r",
      " 78%|███████▊  | 77/99 [00:16<00:04,  4.60it/s]"
     ]
    },
    {
     "name": "stdout",
     "output_type": "stream",
     "text": [
      "bone-china-235\n",
      "Does this patient have T1 available? True\n",
      "I'm doing the thing.\n",
      "bone-china-232\n",
      "Does this patient have T1 available? True\n",
      "I'm doing the thing.\n"
     ]
    },
    {
     "name": "stderr",
     "output_type": "stream",
     "text": [
      "\r",
      " 80%|███████▉  | 79/99 [00:16<00:03,  5.40it/s]"
     ]
    },
    {
     "name": "stdout",
     "output_type": "stream",
     "text": [
      "bone-china-182\n",
      "Does this patient have T1 available? True\n",
      "I'm doing the thing.\n",
      "bone-china-229\n",
      "Does this patient have T1 available? True\n",
      "I'm doing the thing.\n"
     ]
    },
    {
     "name": "stderr",
     "output_type": "stream",
     "text": [
      "\r",
      " 81%|████████  | 80/99 [00:17<00:04,  4.08it/s]"
     ]
    },
    {
     "name": "stderr",
     "output_type": "stream",
     "text": [
      "\r",
      " 82%|████████▏ | 81/99 [00:17<00:03,  4.69it/s]"
     ]
    },
    {
     "name": "stdout",
     "output_type": "stream",
     "text": [
      "bone-china-208\n",
      "Does this patient have T1 available? True\n",
      "I'm doing the thing.\n",
      "bone-china-181\n",
      "Does this patient have T1 available? True\n",
      "I'm doing the thing.\n"
     ]
    },
    {
     "name": "stderr",
     "output_type": "stream",
     "text": [
      "\r",
      " 83%|████████▎ | 82/99 [00:17<00:03,  5.47it/s]"
     ]
    },
    {
     "name": "stdout",
     "output_type": "stream",
     "text": [
      "bone-china-202\n",
      "Does this patient have T1 available? True\n",
      "I'm doing the thing.\n",
      "bone-china-241\n",
      "Does this patient have T1 available? True\n",
      "I'm doing the thing.\n"
     ]
    },
    {
     "name": "stderr",
     "output_type": "stream",
     "text": [
      "\r",
      " 85%|████████▍ | 84/99 [00:17<00:02,  5.94it/s]"
     ]
    },
    {
     "name": "stdout",
     "output_type": "stream",
     "text": [
      "bone-china-233\n",
      "Does this patient have T1 available? True\n",
      "I'm doing the thing.\n",
      "bone-penn-469\n",
      "Does this patient have T1 available? True\n",
      "I'm doing the thing.\n"
     ]
    },
    {
     "name": "stderr",
     "output_type": "stream",
     "text": [
      "\r",
      " 87%|████████▋ | 86/99 [00:18<00:02,  5.54it/s]"
     ]
    },
    {
     "name": "stderr",
     "output_type": "stream",
     "text": [
      "\r",
      " 88%|████████▊ | 87/99 [00:18<00:02,  5.83it/s]"
     ]
    },
    {
     "name": "stdout",
     "output_type": "stream",
     "text": [
      "bone-penn-486\n",
      "Does this patient have T1 available? True\n",
      "I'm doing the thing.\n",
      "bone-penn-505\n",
      "Does this patient have T1 available? True\n",
      "I'm doing the thing.\n"
     ]
    },
    {
     "name": "stderr",
     "output_type": "stream",
     "text": [
      "\r",
      " 89%|████████▉ | 88/99 [00:18<00:01,  5.69it/s]"
     ]
    },
    {
     "name": "stdout",
     "output_type": "stream",
     "text": [
      "bone-penn-513\n",
      "Does this patient have T1 available? True\n",
      "I'm doing the thing.\n"
     ]
    },
    {
     "name": "stderr",
     "output_type": "stream",
     "text": [
      "\r",
      " 90%|████████▉ | 89/99 [00:18<00:01,  5.15it/s]"
     ]
    },
    {
     "name": "stdout",
     "output_type": "stream",
     "text": [
      "bone-penn-499\n",
      "Does this patient have T1 available? True\n",
      "I'm doing the thing.\n"
     ]
    },
    {
     "name": "stderr",
     "output_type": "stream",
     "text": [
      "\r",
      " 91%|█████████ | 90/99 [00:19<00:01,  4.71it/s]"
     ]
    },
    {
     "name": "stdout",
     "output_type": "stream",
     "text": [
      "bone-penn-470\n",
      "Does this patient have T1 available? True\n",
      "I'm doing the thing.\n",
      "bone-penn-510\n",
      "Does this patient have T1 available? True\n",
      "I'm doing the thing.\n"
     ]
    },
    {
     "name": "stderr",
     "output_type": "stream",
     "text": [
      "\r",
      " 93%|█████████▎| 92/99 [00:19<00:01,  5.13it/s]"
     ]
    },
    {
     "name": "stderr",
     "output_type": "stream",
     "text": [
      "\r",
      " 94%|█████████▍| 93/99 [00:19<00:01,  5.85it/s]"
     ]
    },
    {
     "name": "stdout",
     "output_type": "stream",
     "text": [
      "bone-penn-475\n",
      "Does this patient have T1 available? True\n",
      "I'm doing the thing.\n",
      "bone-penn-493\n",
      "Does this patient have T1 available? True\n",
      "I'm doing the thing.\n"
     ]
    },
    {
     "name": "stderr",
     "output_type": "stream",
     "text": [
      "\r",
      " 95%|█████████▍| 94/99 [00:19<00:00,  5.77it/s]"
     ]
    },
    {
     "name": "stdout",
     "output_type": "stream",
     "text": [
      "bone-penn-559\n",
      "Does this patient have T1 available? True\n",
      "I'm doing the thing.\n",
      "bone-penn-569\n",
      "Does this patient have T1 available? True\n",
      "I'm doing the thing.\n"
     ]
    },
    {
     "name": "stderr",
     "output_type": "stream",
     "text": [
      "\r",
      " 97%|█████████▋| 96/99 [00:20<00:00,  3.46it/s]"
     ]
    },
    {
     "name": "stdout",
     "output_type": "stream",
     "text": [
      "bone-penn-554\n",
      "Does this patient have T1 available? True\n",
      "I'm doing the thing.\n",
      "bone-penn-566\n",
      "Does this patient have T1 available? True\n",
      "I'm doing the thing.\n"
     ]
    },
    {
     "name": "stderr",
     "output_type": "stream",
     "text": [
      "\r",
      " 99%|█████████▉| 98/99 [00:21<00:00,  3.96it/s]"
     ]
    },
    {
     "name": "stderr",
     "output_type": "stream",
     "text": [
      "\r",
      "100%|██████████| 99/99 [00:21<00:00,  4.65it/s]"
     ]
    },
    {
     "name": "stderr",
     "output_type": "stream",
     "text": [
      "\r",
      "100%|██████████| 99/99 [00:21<00:00,  4.67it/s]"
     ]
    },
    {
     "name": "stderr",
     "output_type": "stream",
     "text": [
      "\n"
     ]
    },
    {
     "name": "stdout",
     "output_type": "stream",
     "text": [
      "bone-penn-557\n",
      "Does this patient have T1 available? True\n",
      "I'm doing the thing.\n",
      "622\n",
      "99\n",
      "168\n"
     ]
    }
   ],
   "source": [
    "train, validation, test = data(seed=uuid.UUID(result.split_seed), label_form=result.label_form, input_form=result.input_form, train_shuffle=False, test_shuffle=False, validation_shuffle=False, train_augment=False, validation_augment=False, test_augment=False)"
   ]
  },
  {
   "cell_type": "code",
   "execution_count": 12,
   "metadata": {
    "papermill": {
     "duration": 0.203928,
     "end_time": "2020-05-29T17:47:52.427998",
     "exception": false,
     "start_time": "2020-05-29T17:47:52.224070",
     "status": "completed"
    },
    "scrolled": true,
    "tags": []
   },
   "outputs": [
    {
     "name": "stdout",
     "output_type": "stream",
     "text": [
      "training N: 622\n",
      "validation N: 168\n",
      "test N: 99\n"
     ]
    }
   ],
   "source": [
    "print(\"training N:\", len(train))\n",
    "print(\"validation N:\", len(validation))\n",
    "print(\"test N:\", len(test))"
   ]
  },
  {
   "cell_type": "code",
   "execution_count": 13,
   "metadata": {
    "papermill": {
     "duration": 0.184335,
     "end_time": "2020-05-29T17:47:53.330894",
     "exception": false,
     "start_time": "2020-05-29T17:47:53.146559",
     "status": "completed"
    },
    "tags": []
   },
   "outputs": [
    {
     "name": "stdout",
     "output_type": "stream",
     "text": [
      "training 1.0: 273\n",
      "validation 1.0: 72\n",
      "test 1.0: 45\n"
     ]
    }
   ],
   "source": [
    "class_inv = {v: k for k, v in train.class_indices.items()}\n",
    "print(\"training {}:\".format(class_inv[1]), sum(train.classes))\n",
    "print(\"validation {}:\".format(class_inv[1]), sum(validation.classes))\n",
    "print(\"test {}:\".format(class_inv[1]), sum(test.classes))"
   ]
  },
  {
   "cell_type": "code",
   "execution_count": 14,
   "metadata": {
    "collapsed": true,
    "papermill": {
     "duration": 96.015519,
     "end_time": "2020-05-29T17:49:29.997683",
     "exception": false,
     "start_time": "2020-05-29T17:47:53.982164",
     "status": "completed"
    },
    "tags": []
   },
   "outputs": [
    {
     "name": "stdout",
     "output_type": "stream",
     "text": [
      "WARNING:tensorflow:From /home/user1/.local/share/virtualenvs/Bone-MRI-iLizu8rs/lib/python3.6/site-packages/tensorflow/python/ops/nn_impl.py:180: add_dispatch_support.<locals>.wrapper (from tensorflow.python.ops.array_ops) is deprecated and will be removed in a future version.\n",
      "Instructions for updating:\n",
      "Use tf.where in 2.0, which has the same broadcast rule as np.where\n"
     ]
    },
    {
     "name": "stderr",
     "output_type": "stream",
     "text": [
      "WARNING:tensorflow:From /home/user1/.local/share/virtualenvs/Bone-MRI-iLizu8rs/lib/python3.6/site-packages/tensorflow/python/ops/nn_impl.py:180: add_dispatch_support.<locals>.wrapper (from tensorflow.python.ops.array_ops) is deprecated and will be removed in a future version.\n",
      "Instructions for updating:\n",
      "Use tf.where in 2.0, which has the same broadcast rule as np.where\n"
     ]
    },
    {
     "name": "stdout",
     "output_type": "stream",
     "text": [
      "WARNING:tensorflow:From /home/user1/.local/share/virtualenvs/Bone-MRI-iLizu8rs/lib/python3.6/site-packages/keras/backend/tensorflow_backend.py:422: The name tf.global_variables is deprecated. Please use tf.compat.v1.global_variables instead.\n",
      "\n"
     ]
    },
    {
     "name": "stderr",
     "output_type": "stream",
     "text": [
      "WARNING:tensorflow:From /home/user1/.local/share/virtualenvs/Bone-MRI-iLizu8rs/lib/python3.6/site-packages/keras/backend/tensorflow_backend.py:422: The name tf.global_variables is deprecated. Please use tf.compat.v1.global_variables instead.\n",
      "\n"
     ]
    }
   ],
   "source": [
    "model = load(MODEL)"
   ]
  },
  {
   "cell_type": "code",
   "execution_count": 15,
   "metadata": {
    "papermill": {
     "duration": 0.231498,
     "end_time": "2020-05-29T17:49:30.233522",
     "exception": false,
     "start_time": "2020-05-29T17:49:30.002024",
     "status": "completed"
    },
    "tags": []
   },
   "outputs": [
    {
     "data": {
      "text/plain": [
       "<keras.engine.training.Model at 0x7fc6289c9a58>"
      ]
     },
     "execution_count": 15,
     "metadata": {},
     "output_type": "execute_result"
    }
   ],
   "source": [
    "model"
   ]
  },
  {
   "cell_type": "markdown",
   "metadata": {
    "papermill": {
     "duration": 0.000102,
     "end_time": "2020-05-29T17:49:30.918794",
     "exception": false,
     "start_time": "2020-05-29T17:49:30.918692",
     "status": "completed"
    },
    "tags": []
   },
   "source": [
    "# Train"
   ]
  },
  {
   "cell_type": "code",
   "execution_count": 16,
   "metadata": {
    "collapsed": true,
    "papermill": {
     "duration": 79.652927,
     "end_time": "2020-05-29T17:50:51.744707",
     "exception": false,
     "start_time": "2020-05-29T17:49:32.091780",
     "status": "completed"
    },
    "tags": []
   },
   "outputs": [],
   "source": [
    "results = get_results(model, train)"
   ]
  },
  {
   "cell_type": "code",
   "execution_count": 17,
   "metadata": {
    "papermill": {
     "duration": 0.405706,
     "end_time": "2020-05-29T17:50:52.151391",
     "exception": false,
     "start_time": "2020-05-29T17:50:51.745685",
     "status": "completed"
    },
    "scrolled": false,
    "tags": []
   },
   "outputs": [
    {
     "data": {
      "application/papermill.record+json": {
       "train_labels": [
        0,
        0,
        0,
        0,
        0,
        0,
        0,
        0,
        0,
        0,
        0,
        0,
        0,
        0,
        0,
        0,
        0,
        0,
        0,
        0,
        0,
        0,
        0,
        0,
        0,
        0,
        0,
        0,
        0,
        0,
        0,
        0,
        0,
        0,
        0,
        0,
        0,
        0,
        0,
        0,
        0,
        0,
        0,
        0,
        0,
        0,
        0,
        0,
        0,
        0,
        0,
        0,
        0,
        0,
        0,
        0,
        0,
        0,
        0,
        0,
        0,
        0,
        0,
        0,
        0,
        0,
        0,
        0,
        0,
        0,
        0,
        0,
        0,
        0,
        0,
        0,
        0,
        0,
        0,
        0,
        0,
        0,
        0,
        0,
        0,
        0,
        0,
        0,
        0,
        0,
        0,
        0,
        0,
        0,
        0,
        0,
        0,
        0,
        0,
        0,
        0,
        0,
        0,
        0,
        0,
        0,
        0,
        0,
        0,
        0,
        0,
        0,
        0,
        0,
        0,
        0,
        0,
        0,
        0,
        0,
        0,
        0,
        0,
        0,
        0,
        0,
        0,
        0,
        0,
        0,
        0,
        0,
        0,
        0,
        0,
        0,
        0,
        0,
        0,
        0,
        0,
        0,
        0,
        0,
        0,
        0,
        0,
        0,
        0,
        0,
        0,
        0,
        0,
        0,
        0,
        0,
        0,
        0,
        0,
        0,
        0,
        0,
        0,
        0,
        0,
        0,
        0,
        0,
        0,
        0,
        0,
        0,
        0,
        0,
        0,
        0,
        0,
        0,
        0,
        0,
        0,
        0,
        0,
        0,
        0,
        0,
        0,
        0,
        0,
        0,
        0,
        0,
        0,
        0,
        0,
        0,
        0,
        0,
        0,
        0,
        0,
        0,
        0,
        0,
        0,
        0,
        0,
        0,
        0,
        0,
        0,
        0,
        0,
        0,
        0,
        0,
        0,
        0,
        0,
        0,
        0,
        0,
        0,
        0,
        0,
        0,
        0,
        0,
        0,
        0,
        0,
        0,
        0,
        0,
        0,
        0,
        0,
        0,
        0,
        0,
        0,
        0,
        0,
        0,
        0,
        0,
        0,
        0,
        0,
        0,
        0,
        0,
        0,
        0,
        0,
        0,
        0,
        0,
        0,
        0,
        0,
        0,
        0,
        0,
        0,
        0,
        0,
        0,
        0,
        0,
        0,
        0,
        0,
        0,
        0,
        0,
        0,
        0,
        0,
        0,
        0,
        0,
        0,
        0,
        0,
        0,
        0,
        0,
        0,
        0,
        0,
        0,
        0,
        0,
        0,
        0,
        0,
        0,
        0,
        0,
        0,
        0,
        0,
        0,
        0,
        0,
        0,
        0,
        0,
        0,
        0,
        0,
        0,
        0,
        0,
        0,
        0,
        0,
        0,
        0,
        0,
        0,
        0,
        0,
        0,
        0,
        0,
        0,
        0,
        0,
        0,
        0,
        0,
        0,
        0,
        0,
        0,
        0,
        0,
        0,
        0,
        0,
        0,
        0,
        0,
        0,
        0,
        0,
        0,
        1,
        1,
        1,
        1,
        1,
        1,
        1,
        1,
        1,
        1,
        1,
        1,
        1,
        1,
        1,
        1,
        1,
        1,
        1,
        1,
        1,
        1,
        1,
        1,
        1,
        1,
        1,
        1,
        1,
        1,
        1,
        1,
        1,
        1,
        1,
        1,
        1,
        1,
        1,
        1,
        1,
        1,
        1,
        1,
        1,
        1,
        1,
        1,
        1,
        1,
        1,
        1,
        1,
        1,
        1,
        1,
        1,
        1,
        1,
        1,
        1,
        1,
        1,
        1,
        1,
        1,
        1,
        1,
        1,
        1,
        1,
        1,
        1,
        1,
        1,
        1,
        1,
        1,
        1,
        1,
        1,
        1,
        1,
        1,
        1,
        1,
        1,
        1,
        1,
        1,
        1,
        1,
        1,
        1,
        1,
        1,
        1,
        1,
        1,
        1,
        1,
        1,
        1,
        1,
        1,
        1,
        1,
        1,
        1,
        1,
        1,
        1,
        1,
        1,
        1,
        1,
        1,
        1,
        1,
        1,
        1,
        1,
        1,
        1,
        1,
        1,
        1,
        1,
        1,
        1,
        1,
        1,
        1,
        1,
        1,
        1,
        1,
        1,
        1,
        1,
        1,
        1,
        1,
        1,
        1,
        1,
        1,
        1,
        1,
        1,
        1,
        1,
        1,
        1,
        1,
        1,
        1,
        1,
        1,
        1,
        1,
        1,
        1,
        1,
        1,
        1,
        1,
        1,
        1,
        1,
        1,
        1,
        1,
        1,
        1,
        1,
        1,
        1,
        1,
        1,
        1,
        1,
        1,
        1,
        1,
        1,
        1,
        1,
        1,
        1,
        1,
        1,
        1,
        1,
        1,
        1,
        1,
        1,
        1,
        1,
        1,
        1,
        1,
        1,
        1,
        1,
        1,
        1,
        1,
        1,
        1,
        1,
        1,
        1,
        1,
        1,
        1,
        1,
        1,
        1,
        1,
        1,
        1,
        1,
        1,
        1,
        1,
        1,
        1,
        1,
        1,
        1,
        1,
        1,
        1,
        1,
        1,
        1,
        1,
        1,
        1,
        1,
        1,
        1,
        1,
        1,
        1,
        1,
        1,
        1,
        1,
        1,
        1,
        1,
        1,
        1,
        1,
        1,
        1,
        1,
        1,
        1,
        1,
        1,
        1,
        1,
        1,
        1,
        1,
        1,
        1,
        1,
        1
       ]
      }
     },
     "metadata": {},
     "output_type": "display_data"
    },
    {
     "data": {
      "application/papermill.record+json": {
       "train_probabilities": [
        0.056938111782073975,
        0.08009031414985657,
        0.04603385925292969,
        0.045118123292922974,
        0.04441860318183899,
        0.04582139849662781,
        0.041174620389938354,
        0.033113688230514526,
        0.048109859228134155,
        0.0463278591632843,
        0.04341822862625122,
        0.04571959376335144,
        0.04020148515701294,
        0.13479867577552795,
        0.03908199071884155,
        0.0360187292098999,
        0.06930282711982727,
        0.05832591652870178,
        0.06369102001190186,
        0.05872789025306702,
        0.05344891548156738,
        0.03678220510482788,
        0.046944648027420044,
        0.03869551420211792,
        0.043376028537750244,
        0.038966864347457886,
        0.08691886067390442,
        0.06352975964546204,
        0.05999156832695007,
        0.08063206076622009,
        0.04474106431007385,
        0.04850870370864868,
        0.03858271241188049,
        0.11424511671066284,
        0.06648916006088257,
        0.03868010640144348,
        0.05638307332992554,
        0.060906678438186646,
        0.04755920171737671,
        0.06966960430145264,
        0.05178177356719971,
        0.06050470471382141,
        0.15689319372177124,
        0.07438838481903076,
        0.07318460941314697,
        0.03957602381706238,
        0.07253646850585938,
        0.045530229806900024,
        0.05298352241516113,
        0.0571151077747345,
        0.06307759881019592,
        0.04544392228126526,
        0.03691181540489197,
        0.04244604706764221,
        0.3013383150100708,
        0.038775742053985596,
        0.1300678253173828,
        0.43457743525505066,
        0.09028688073158264,
        0.04227113723754883,
        0.0439009964466095,
        0.05291178822517395,
        0.05955180525779724,
        0.11260440945625305,
        0.09439730644226074,
        0.04404178261756897,
        0.04257878661155701,
        0.04245948791503906,
        0.04554155468940735,
        0.076905757188797,
        0.04857510328292847,
        0.09066170454025269,
        0.05103549361228943,
        0.06723877787590027,
        0.047119349241256714,
        0.11262881755828857,
        0.045528024435043335,
        0.055177152156829834,
        0.039439857006073,
        0.055483341217041016,
        0.05835893750190735,
        0.04625687003135681,
        0.06128484010696411,
        0.05031365156173706,
        0.05810055136680603,
        0.060564249753952026,
        0.04594910144805908,
        0.03810542821884155,
        0.03794190287590027,
        0.0718856155872345,
        0.06675988435745239,
        0.05397269129753113,
        0.05133330821990967,
        0.05517095327377319,
        0.039768069982528687,
        0.048216432332992554,
        0.06853029131889343,
        0.034400105476379395,
        0.04793292284011841,
        0.039820075035095215,
        0.04249459505081177,
        0.09323152899742126,
        0.05739235877990723,
        0.0443858802318573,
        0.05372309684753418,
        0.08198374509811401,
        0.060085684061050415,
        0.06281191110610962,
        0.19033637642860413,
        0.10094919800758362,
        0.03940299153327942,
        0.25070464611053467,
        0.05348801612854004,
        0.04365748167037964,
        0.06169542670249939,
        0.0851317048072815,
        0.031604230403900146,
        0.07590833306312561,
        0.04694169759750366,
        0.05711239576339722,
        0.05259862542152405,
        0.04944038391113281,
        0.04641222953796387,
        0.04174104332923889,
        0.062038928270339966,
        0.19544902443885803,
        0.07972246408462524,
        0.033996134996414185,
        0.05397677421569824,
        0.0539817214012146,
        0.05616980791091919,
        0.07590153813362122,
        0.043707966804504395,
        0.09027281403541565,
        0.03649988770484924,
        0.051266878843307495,
        0.05470737814903259,
        0.046031057834625244,
        0.04789039492607117,
        0.04105496406555176,
        0.06289932131767273,
        0.07596278190612793,
        0.05081471800804138,
        0.059567004442214966,
        0.06589406728744507,
        0.051089465618133545,
        0.08974415063858032,
        0.05600607395172119,
        0.05828207731246948,
        0.03706151247024536,
        0.057908982038497925,
        0.05244743824005127,
        0.035278648138046265,
        0.04283776879310608,
        0.048664242029190063,
        0.04825258255004883,
        0.04284876585006714,
        0.04484739899635315,
        0.058837950229644775,
        0.03979811072349548,
        0.05214858055114746,
        0.04883378744125366,
        0.03798186779022217,
        0.06534969806671143,
        0.03716602921485901,
        0.03975304961204529,
        0.031384944915771484,
        0.05566611886024475,
        0.049871087074279785,
        0.030173391103744507,
        0.04083150625228882,
        0.06173422932624817,
        0.04985395073890686,
        0.07047775387763977,
        0.05187526345252991,
        0.05880531668663025,
        0.0632733702659607,
        0.05338892340660095,
        0.09003990888595581,
        0.04180791974067688,
        0.05401751399040222,
        0.04120698571205139,
        0.06842073798179626,
        0.041349828243255615,
        0.43352657556533813,
        0.07314649224281311,
        0.04960983991622925,
        0.03582197427749634,
        0.08025932312011719,
        0.05520695447921753,
        0.04369285702705383,
        0.06360414624214172,
        0.0914553701877594,
        0.0499919056892395,
        0.03231292963027954,
        0.06093871593475342,
        0.12692514061927795,
        0.039436012506484985,
        0.038979798555374146,
        0.05656963586807251,
        0.04048264026641846,
        0.04740852117538452,
        0.050058513879776,
        0.12618288397789001,
        0.07137295603752136,
        0.036472827196121216,
        0.08990418910980225,
        0.044510841369628906,
        0.056067824363708496,
        0.06627917289733887,
        0.06214016675949097,
        0.05319812893867493,
        0.0496346652507782,
        0.047898679971694946,
        0.04349738359451294,
        0.06146708130836487,
        0.04238992929458618,
        0.20547086000442505,
        0.051020294427871704,
        0.06735903024673462,
        0.07954859733581543,
        0.041718870401382446,
        0.04171904921531677,
        0.059186071157455444,
        0.03475964069366455,
        0.04914596676826477,
        0.0578036904335022,
        0.03689080476760864,
        0.05455601215362549,
        0.054975926876068115,
        0.051736980676651,
        0.053122252225875854,
        0.08592426776885986,
        0.0450727641582489,
        0.03463146090507507,
        0.08921384811401367,
        0.04476472735404968,
        0.05091211199760437,
        0.050552308559417725,
        0.05878859758377075,
        0.04850837588310242,
        0.03933858871459961,
        0.05643695592880249,
        0.05295553803443909,
        0.059704095125198364,
        0.04338306188583374,
        0.04814383387565613,
        0.07633987069129944,
        0.16369113326072693,
        0.04896271228790283,
        0.05962419509887695,
        0.07476374506950378,
        0.051633864641189575,
        0.10103651881217957,
        0.14612159132957458,
        0.05879324674606323,
        0.3830385208129883,
        0.053265124559402466,
        0.04548490047454834,
        0.09530550241470337,
        0.058648258447647095,
        0.05540075898170471,
        0.04183360934257507,
        0.0499233603477478,
        0.038274943828582764,
        0.028725802898406982,
        0.0382634699344635,
        0.06544002890586853,
        0.2791462242603302,
        0.5478588938713074,
        0.0667993426322937,
        0.04867038130760193,
        0.04054814577102661,
        0.0390324592590332,
        0.07366743683815002,
        0.02967888116836548,
        0.07034966349601746,
        0.05960765480995178,
        0.045037299394607544,
        0.03487798571586609,
        0.06890371441841125,
        0.030940711498260498,
        0.10382035374641418,
        0.045658618211746216,
        0.03500562906265259,
        0.037664204835891724,
        0.08290937542915344,
        0.04724699258804321,
        0.03258514404296875,
        0.051807910203933716,
        0.08523145318031311,
        0.43564754724502563,
        0.07207062840461731,
        0.04850107431411743,
        0.20431920886039734,
        0.07312512397766113,
        0.05699673295021057,
        0.03984946012496948,
        0.031223297119140625,
        0.039846599102020264,
        0.05585700273513794,
        0.04976385831832886,
        0.04341360926628113,
        0.08778682351112366,
        0.0683591365814209,
        0.5065678954124451,
        0.05402567982673645,
        0.04063376784324646,
        0.05001351237297058,
        0.04110577702522278,
        0.04956573247909546,
        0.03044477105140686,
        0.060136497020721436,
        0.043430477380752563,
        0.04473307728767395,
        0.04667776823043823,
        0.041164934635162354,
        0.053029268980026245,
        0.05479985475540161,
        0.06440132856369019,
        0.03393268585205078,
        0.05014723539352417,
        0.07532978057861328,
        0.046887725591659546,
        0.05747237801551819,
        0.06853094696998596,
        0.06309115886688232,
        0.06657713651657104,
        0.08879092335700989,
        0.035034388303756714,
        0.06377825140953064,
        0.028972208499908447,
        0.4436819851398468,
        0.3959800601005554,
        0.11085346341133118,
        0.040641605854034424,
        0.08247718214988708,
        0.0383450984954834,
        0.0718768835067749,
        0.049022525548934937,
        0.04166892170906067,
        0.049086153507232666,
        0.03199625015258789,
        0.05153974890708923,
        0.06349599361419678,
        0.06777048110961914,
        0.15963196754455566,
        0.03522646427154541,
        0.028613150119781494,
        0.9801920652389526,
        0.9749550819396973,
        0.9829061031341553,
        0.9747594594955444,
        0.9718071222305298,
        0.9709410071372986,
        0.9823381900787354,
        0.9759706258773804,
        0.977260172367096,
        0.9840847849845886,
        0.9706799983978271,
        0.9691586494445801,
        0.968191385269165,
        0.9669065475463867,
        0.9712439775466919,
        0.9329791069030762,
        0.9842793345451355,
        0.9807353019714355,
        0.9688198566436768,
        0.9740181565284729,
        0.9778944849967957,
        0.9746926426887512,
        0.9710273742675781,
        0.9555196166038513,
        0.9693186283111572,
        0.9701879024505615,
        0.9701668620109558,
        0.9756021499633789,
        0.9697864651679993,
        0.9731671810150146,
        0.9750358462333679,
        0.9843684434890747,
        0.9758527874946594,
        0.9799941778182983,
        0.9537694454193115,
        0.984390139579773,
        0.9688165783882141,
        0.9654096364974976,
        0.976163387298584,
        0.9733870029449463,
        0.9649533033370972,
        0.9676461219787598,
        0.9661094546318054,
        0.9814335107803345,
        0.9756693840026855,
        0.9701073169708252,
        0.9738855361938477,
        0.9713246822357178,
        0.9783564209938049,
        0.9753320217132568,
        0.977997362613678,
        0.9826276302337646,
        0.9871710538864136,
        0.9744367599487305,
        0.9780110120773315,
        0.9793974161148071,
        0.9674912691116333,
        0.9663493633270264,
        0.9707830548286438,
        0.9711531400680542,
        0.9770971536636353,
        0.9730097055435181,
        0.9727281332015991,
        0.9583108425140381,
        0.9740581512451172,
        0.9725911617279053,
        0.9712092876434326,
        0.975969135761261,
        0.9828532338142395,
        0.9862926006317139,
        0.9544415473937988,
        0.9704671502113342,
        0.9850476980209351,
        0.9735836982727051,
        0.9765060544013977,
        0.9677194356918335,
        0.9816274046897888,
        0.9684003591537476,
        0.9782663583755493,
        0.9632622599601746,
        0.9771835803985596,
        0.9491990804672241,
        0.9804635047912598,
        0.9714661836624146,
        0.9787321090698242,
        0.9642630815505981,
        0.9819142818450928,
        0.9702941179275513,
        0.971328854560852,
        0.9603861570358276,
        0.9797567129135132,
        0.9821099638938904,
        0.9800904989242554,
        0.9863343238830566,
        0.9767263531684875,
        0.9620949625968933,
        0.9651783108711243,
        0.9680088758468628,
        0.9709678888320923,
        0.9697141647338867,
        0.951391339302063,
        0.9839560389518738,
        0.9658584594726562,
        0.9677680730819702,
        0.9830838441848755,
        0.9776012897491455,
        0.9517850875854492,
        0.9699630737304688,
        0.9611239433288574,
        0.9870094060897827,
        0.9710440039634705,
        0.9824004769325256,
        0.9553742408752441,
        0.9746156930923462,
        0.9503087997436523,
        0.9599316120147705,
        0.9743931293487549,
        0.9835765361785889,
        0.9747982621192932,
        0.9762802124023438,
        0.9665808081626892,
        0.9642102122306824,
        0.9712989330291748,
        0.9800886511802673,
        0.9542282223701477,
        0.9773002862930298,
        0.96942138671875,
        0.9653648734092712,
        0.9535576105117798,
        0.9659587144851685,
        0.980341911315918,
        0.9794820547103882,
        0.9784173369407654,
        0.9695185422897339,
        0.9718848466873169,
        0.9746189713478088,
        0.9852349162101746,
        0.968243420124054,
        0.961216390132904,
        0.9623690843582153,
        0.966988205909729,
        0.9541118741035461,
        0.9831435680389404,
        0.9680314660072327,
        0.9788309335708618,
        0.9744271636009216,
        0.9790337681770325,
        0.9860426187515259,
        0.9692148566246033,
        0.9821332693099976,
        0.971500813961029,
        0.9343894720077515,
        0.9760457873344421,
        0.9447716474533081,
        0.9761558771133423,
        0.9808129072189331,
        0.9791711568832397,
        0.9795584082603455,
        0.9662681818008423,
        0.9695553779602051,
        0.9725435972213745,
        0.9868495464324951,
        0.9740869998931885,
        0.962965726852417,
        0.9566450119018555,
        0.956574559211731,
        0.9792380332946777,
        0.9689801335334778,
        0.9713234901428223,
        0.976995587348938,
        0.9576284885406494,
        0.9746521711349487,
        0.9750032424926758,
        0.9826154112815857,
        0.9720662832260132,
        0.9696817994117737,
        0.9746596813201904,
        0.9727115035057068,
        0.9714390635490417,
        0.9779323935508728,
        0.978835940361023,
        0.9627355337142944,
        0.9733366966247559,
        0.9854522943496704,
        0.964995801448822,
        0.9745153188705444,
        0.9610017538070679,
        0.9598503112792969,
        0.9630270600318909,
        0.9735039472579956,
        0.9635137319564819,
        0.9634562730789185,
        0.9760435819625854,
        0.9732903838157654,
        0.9735215306282043,
        0.9790956974029541,
        0.9656603932380676,
        0.9776350259780884,
        0.9817028641700745,
        0.9743168950080872,
        0.962599515914917,
        0.9767446517944336,
        0.974319577217102,
        0.9710474014282227,
        0.9754406213760376,
        0.9720473289489746,
        0.9649286270141602,
        0.9827786087989807,
        0.9709242582321167,
        0.9784078598022461,
        0.9750903844833374,
        0.9828619956970215,
        0.9576648473739624,
        0.9576711654663086,
        0.9677271842956543,
        0.971432626247406,
        0.9735094308853149,
        0.9763203859329224,
        0.9852198362350464,
        0.9847546219825745,
        0.977263331413269,
        0.9766749143600464,
        0.977512001991272,
        0.9757338762283325,
        0.9717973470687866,
        0.9734580516815186,
        0.9789535999298096,
        0.9809150695800781,
        0.9670829176902771,
        0.9649932384490967,
        0.9670150876045227,
        0.9810230731964111,
        0.9788471460342407,
        0.970116138458252,
        0.9630126953125,
        0.9667061567306519,
        0.9740477800369263,
        0.964610755443573,
        0.9600295424461365,
        0.9659842252731323,
        0.9773635864257812,
        0.958674430847168,
        0.9842574596405029,
        0.9766167402267456,
        0.9578221440315247,
        0.9704721570014954,
        0.9713958501815796,
        0.9465726613998413,
        0.9689507484436035,
        0.9684978127479553,
        0.9756060838699341,
        0.9706016778945923,
        0.9741510152816772,
        0.9604252576828003,
        0.9729021191596985,
        0.9756356477737427,
        0.9719463586807251,
        0.9677519798278809,
        0.9803440570831299,
        0.976081371307373,
        0.984663188457489,
        0.9580466747283936,
        0.9785053730010986,
        0.9872797727584839,
        0.9620367288589478,
        0.9683119654655457,
        0.9679402709007263,
        0.9754485487937927,
        0.9820165038108826,
        0.959678590297699,
        0.9870097637176514,
        0.9805927276611328,
        0.9743393659591675
       ]
      }
     },
     "metadata": {},
     "output_type": "display_data"
    },
    {
     "data": {
      "application/papermill.record+json": {
       "train_predictions": [
        0,
        0,
        0,
        0,
        0,
        0,
        0,
        0,
        0,
        0,
        0,
        0,
        0,
        0,
        0,
        0,
        0,
        0,
        0,
        0,
        0,
        0,
        0,
        0,
        0,
        0,
        0,
        0,
        0,
        0,
        0,
        0,
        0,
        0,
        0,
        0,
        0,
        0,
        0,
        0,
        0,
        0,
        0,
        0,
        0,
        0,
        0,
        0,
        0,
        0,
        0,
        0,
        0,
        0,
        0,
        0,
        0,
        0,
        0,
        0,
        0,
        0,
        0,
        0,
        0,
        0,
        0,
        0,
        0,
        0,
        0,
        0,
        0,
        0,
        0,
        0,
        0,
        0,
        0,
        0,
        0,
        0,
        0,
        0,
        0,
        0,
        0,
        0,
        0,
        0,
        0,
        0,
        0,
        0,
        0,
        0,
        0,
        0,
        0,
        0,
        0,
        0,
        0,
        0,
        0,
        0,
        0,
        0,
        0,
        0,
        0,
        0,
        0,
        0,
        0,
        0,
        0,
        0,
        0,
        0,
        0,
        0,
        0,
        0,
        0,
        0,
        0,
        0,
        0,
        0,
        0,
        0,
        0,
        0,
        0,
        0,
        0,
        0,
        0,
        0,
        0,
        0,
        0,
        0,
        0,
        0,
        0,
        0,
        0,
        0,
        0,
        0,
        0,
        0,
        0,
        0,
        0,
        0,
        0,
        0,
        0,
        0,
        0,
        0,
        0,
        0,
        0,
        0,
        0,
        0,
        0,
        0,
        0,
        0,
        0,
        0,
        0,
        0,
        0,
        0,
        0,
        0,
        0,
        0,
        0,
        0,
        0,
        0,
        0,
        0,
        0,
        0,
        0,
        0,
        0,
        0,
        0,
        0,
        0,
        0,
        0,
        0,
        0,
        0,
        0,
        0,
        0,
        0,
        0,
        0,
        0,
        0,
        0,
        0,
        0,
        0,
        0,
        0,
        0,
        0,
        0,
        0,
        0,
        0,
        0,
        0,
        0,
        0,
        0,
        0,
        0,
        0,
        0,
        0,
        0,
        0,
        0,
        0,
        0,
        0,
        0,
        0,
        0,
        0,
        0,
        0,
        0,
        0,
        0,
        0,
        0,
        0,
        0,
        0,
        0,
        0,
        0,
        0,
        0,
        0,
        0,
        0,
        0,
        0,
        0,
        0,
        0,
        0,
        0,
        1,
        0,
        0,
        0,
        0,
        0,
        0,
        0,
        0,
        0,
        0,
        0,
        0,
        0,
        0,
        0,
        0,
        0,
        0,
        0,
        0,
        0,
        0,
        0,
        0,
        0,
        0,
        0,
        0,
        0,
        0,
        0,
        0,
        0,
        0,
        0,
        1,
        0,
        0,
        0,
        0,
        0,
        0,
        0,
        0,
        0,
        0,
        0,
        0,
        0,
        0,
        0,
        0,
        0,
        0,
        0,
        0,
        0,
        0,
        0,
        0,
        0,
        0,
        0,
        0,
        0,
        0,
        0,
        0,
        0,
        0,
        0,
        0,
        0,
        0,
        0,
        0,
        0,
        0,
        0,
        1,
        1,
        1,
        1,
        1,
        1,
        1,
        1,
        1,
        1,
        1,
        1,
        1,
        1,
        1,
        1,
        1,
        1,
        1,
        1,
        1,
        1,
        1,
        1,
        1,
        1,
        1,
        1,
        1,
        1,
        1,
        1,
        1,
        1,
        1,
        1,
        1,
        1,
        1,
        1,
        1,
        1,
        1,
        1,
        1,
        1,
        1,
        1,
        1,
        1,
        1,
        1,
        1,
        1,
        1,
        1,
        1,
        1,
        1,
        1,
        1,
        1,
        1,
        1,
        1,
        1,
        1,
        1,
        1,
        1,
        1,
        1,
        1,
        1,
        1,
        1,
        1,
        1,
        1,
        1,
        1,
        1,
        1,
        1,
        1,
        1,
        1,
        1,
        1,
        1,
        1,
        1,
        1,
        1,
        1,
        1,
        1,
        1,
        1,
        1,
        1,
        1,
        1,
        1,
        1,
        1,
        1,
        1,
        1,
        1,
        1,
        1,
        1,
        1,
        1,
        1,
        1,
        1,
        1,
        1,
        1,
        1,
        1,
        1,
        1,
        1,
        1,
        1,
        1,
        1,
        1,
        1,
        1,
        1,
        1,
        1,
        1,
        1,
        1,
        1,
        1,
        1,
        1,
        1,
        1,
        1,
        1,
        1,
        1,
        1,
        1,
        1,
        1,
        1,
        1,
        1,
        1,
        1,
        1,
        1,
        1,
        1,
        1,
        1,
        1,
        1,
        1,
        1,
        1,
        1,
        1,
        1,
        1,
        1,
        1,
        1,
        1,
        1,
        1,
        1,
        1,
        1,
        1,
        1,
        1,
        1,
        1,
        1,
        1,
        1,
        1,
        1,
        1,
        1,
        1,
        1,
        1,
        1,
        1,
        1,
        1,
        1,
        1,
        1,
        1,
        1,
        1,
        1,
        1,
        1,
        1,
        1,
        1,
        1,
        1,
        1,
        1,
        1,
        1,
        1,
        1,
        1,
        1,
        1,
        1,
        1,
        1,
        1,
        1,
        1,
        1,
        1,
        1,
        1,
        1,
        1,
        1,
        1,
        1,
        1,
        1,
        1,
        1,
        1,
        1,
        1,
        1,
        1,
        1,
        1,
        1,
        1,
        1,
        1,
        1,
        1,
        1,
        1,
        1,
        1,
        1,
        1,
        1,
        1,
        1,
        1,
        1,
        1,
        1,
        1,
        1,
        1,
        1
       ]
      }
     },
     "metadata": {},
     "output_type": "display_data"
    }
   ],
   "source": [
    "probabilities = transform_binary_probabilities(results)\n",
    "predictions = transform_binary_predictions(results)\n",
    "labels = get_labels(train)\n",
    "pm.record(\"train_labels\", list(labels))\n",
    "pm.record(\"train_probabilities\", list(probabilities))\n",
    "pm.record(\"train_predictions\", list(predictions))"
   ]
  },
  {
   "cell_type": "markdown",
   "metadata": {
    "papermill": {
     "duration": 3.9e-05,
     "end_time": "2020-05-29T17:50:52.450135",
     "exception": false,
     "start_time": "2020-05-29T17:50:52.450096",
     "status": "completed"
    },
    "tags": []
   },
   "source": [
    "## Train statistics"
   ]
  },
  {
   "cell_type": "code",
   "execution_count": 18,
   "metadata": {
    "papermill": {
     "duration": 82.092654,
     "end_time": "2020-05-29T17:52:15.505017",
     "exception": false,
     "start_time": "2020-05-29T17:50:53.412363",
     "status": "completed"
    },
    "tags": []
   },
   "outputs": [
    {
     "name": "stdout",
     "output_type": "stream",
     "text": [
      "Accuracy: 0.9967845678329468\n",
      "Loss: 3.4212539196014404\n"
     ]
    },
    {
     "data": {
      "text/html": [
       "<div>\n",
       "<style scoped>\n",
       "    .dataframe tbody tr th:only-of-type {\n",
       "        vertical-align: middle;\n",
       "    }\n",
       "\n",
       "    .dataframe tbody tr th {\n",
       "        vertical-align: top;\n",
       "    }\n",
       "\n",
       "    .dataframe thead th {\n",
       "        text-align: right;\n",
       "    }\n",
       "</style>\n",
       "<table border=\"1\" class=\"dataframe\">\n",
       "  <thead>\n",
       "    <tr style=\"text-align: right;\">\n",
       "      <th></th>\n",
       "      <th>Acc</th>\n",
       "      <th>TP</th>\n",
       "      <th>TN</th>\n",
       "      <th>FP</th>\n",
       "      <th>FN</th>\n",
       "      <th>TPR</th>\n",
       "      <th>TNR</th>\n",
       "      <th>PPV</th>\n",
       "      <th>NPV</th>\n",
       "      <th>FPR</th>\n",
       "      <th>FNR</th>\n",
       "      <th>FDR</th>\n",
       "      <th>AM</th>\n",
       "      <th>GM</th>\n",
       "    </tr>\n",
       "  </thead>\n",
       "  <tbody>\n",
       "    <tr>\n",
       "      <th>0.000</th>\n",
       "      <td>0.997</td>\n",
       "      <td>347</td>\n",
       "      <td>273</td>\n",
       "      <td>0</td>\n",
       "      <td>2</td>\n",
       "      <td>0.994</td>\n",
       "      <td>1.000</td>\n",
       "      <td>1.000</td>\n",
       "      <td>0.993</td>\n",
       "      <td>0.000</td>\n",
       "      <td>0.006</td>\n",
       "      <td>0.000</td>\n",
       "      <td>0.997</td>\n",
       "      <td>0.997</td>\n",
       "    </tr>\n",
       "    <tr>\n",
       "      <th>1.000</th>\n",
       "      <td>0.997</td>\n",
       "      <td>273</td>\n",
       "      <td>347</td>\n",
       "      <td>2</td>\n",
       "      <td>0</td>\n",
       "      <td>1.000</td>\n",
       "      <td>0.994</td>\n",
       "      <td>0.993</td>\n",
       "      <td>1.000</td>\n",
       "      <td>0.006</td>\n",
       "      <td>0.000</td>\n",
       "      <td>0.007</td>\n",
       "      <td>0.997</td>\n",
       "      <td>0.997</td>\n",
       "    </tr>\n",
       "  </tbody>\n",
       "</table>\n",
       "</div>"
      ],
      "text/plain": [
       "        Acc   TP   TN  FP  FN   TPR   TNR   PPV   NPV   FPR   FNR   FDR    AM  \\\n",
       "0.000 0.997  347  273   0   2 0.994 1.000 1.000 0.993 0.000 0.006 0.000 0.997   \n",
       "1.000 0.997  273  347   2   0 1.000 0.994 0.993 1.000 0.006 0.000 0.007 0.997   \n",
       "\n",
       "         GM  \n",
       "0.000 0.997  \n",
       "1.000 0.997  "
      ]
     },
     "execution_count": 18,
     "metadata": {},
     "output_type": "execute_result"
    }
   ],
   "source": [
    "loss, accuracy = calculate_accuracy_loss(model, train)\n",
    "print(\"Accuracy:\", accuracy)\n",
    "print(\"Loss:\", loss)\n",
    "stats = calculate_confusion_matrix_stats(labels, results)\n",
    "pandas.DataFrame(stats, index=train.class_indices)"
   ]
  },
  {
   "cell_type": "markdown",
   "metadata": {
    "papermill": {
     "duration": 2e-05,
     "end_time": "2020-05-29T17:52:15.506112",
     "exception": false,
     "start_time": "2020-05-29T17:52:15.506092",
     "status": "completed"
    },
    "tags": []
   },
   "source": [
    "## Train confusion matrix"
   ]
  },
  {
   "cell_type": "code",
   "execution_count": 19,
   "metadata": {
    "papermill": {
     "duration": 0.72872,
     "end_time": "2020-05-29T17:52:16.921444",
     "exception": false,
     "start_time": "2020-05-29T17:52:16.192724",
     "status": "completed"
    },
    "tags": []
   },
   "outputs": [
    {
     "data": {
      "image/png": "[encoded data removed]",
      "text/plain": [
       "<Figure size 432x288 with 2 Axes>"
      ]
     },
     "metadata": {},
     "output_type": "display_data"
    }
   ],
   "source": [
    "fig = plot_confusion_matrix(train, results)\n",
    "fig.savefig(\"figures/{}-{}-train-confusion-matrix.svg\".format(result.uuid, result.input_form), bbox_inches = \"tight\")"
   ]
  },
  {
   "cell_type": "markdown",
   "metadata": {
    "papermill": {
     "duration": 0.000248,
     "end_time": "2020-05-29T17:52:16.942863",
     "exception": false,
     "start_time": "2020-05-29T17:52:16.942615",
     "status": "completed"
    },
    "tags": []
   },
   "source": [
    "## Train ROC curve"
   ]
  },
  {
   "cell_type": "code",
   "execution_count": 20,
   "metadata": {
    "papermill": {
     "duration": 1.592679,
     "end_time": "2020-05-29T17:52:19.628717",
     "exception": false,
     "start_time": "2020-05-29T17:52:18.036038",
     "status": "completed"
    },
    "scrolled": false,
    "tags": []
   },
   "outputs": [
    {
     "data": {
      "image/png": "[encoded data removed]",
      "text/plain": [
       "<Figure size 432x288 with 1 Axes>"
      ]
     },
     "metadata": {},
     "output_type": "display_data"
    }
   ],
   "source": [
    "fig = plot_roc_curve(labels, probabilities)\n",
    "fig.savefig(\"figures/{}-{}-train-ROC-curve.svg\".format(result.uuid, result.input_form), bbox_inches = \"tight\")"
   ]
  },
  {
   "cell_type": "markdown",
   "metadata": {
    "papermill": {
     "duration": 1.6e-05,
     "end_time": "2020-05-29T17:52:19.629754",
     "exception": false,
     "start_time": "2020-05-29T17:52:19.629738",
     "status": "completed"
    },
    "tags": []
   },
   "source": [
    "## Train precision-recall curve"
   ]
  },
  {
   "cell_type": "code",
   "execution_count": 21,
   "metadata": {
    "papermill": {
     "duration": 1.283089,
     "end_time": "2020-05-29T17:52:21.732707",
     "exception": false,
     "start_time": "2020-05-29T17:52:20.449618",
     "status": "completed"
    },
    "scrolled": false,
    "tags": []
   },
   "outputs": [
    {
     "data": {
      "image/png": "[encoded data removed]",
      "text/plain": [
       "<Figure size 432x288 with 1 Axes>"
      ]
     },
     "metadata": {},
     "output_type": "display_data"
    }
   ],
   "source": [
    "fig = plot_precision_recall(labels, results)\n",
    "fig.savefig(\"figures/{}-{}-train-precisionrecall-curve.svg\".format(result.uuid, result.input_form), bbox_inches = \"tight\")"
   ]
  },
  {
   "cell_type": "markdown",
   "metadata": {
    "papermill": {
     "duration": 0.000212,
     "end_time": "2020-05-29T17:52:21.745206",
     "exception": false,
     "start_time": "2020-05-29T17:52:21.744994",
     "status": "completed"
    },
    "tags": []
   },
   "source": [
    "# Validation"
   ]
  },
  {
   "cell_type": "code",
   "execution_count": 22,
   "metadata": {
    "collapsed": true,
    "papermill": {
     "duration": 19.285017,
     "end_time": "2020-05-29T17:52:41.712408",
     "exception": false,
     "start_time": "2020-05-29T17:52:22.427391",
     "status": "completed"
    },
    "tags": []
   },
   "outputs": [],
   "source": [
    "results = get_results(model, validation)"
   ]
  },
  {
   "cell_type": "code",
   "execution_count": 23,
   "metadata": {
    "papermill": {
     "duration": 0.1696,
     "end_time": "2020-05-29T17:52:41.887479",
     "exception": false,
     "start_time": "2020-05-29T17:52:41.717879",
     "status": "completed"
    },
    "scrolled": false,
    "tags": []
   },
   "outputs": [
    {
     "data": {
      "application/papermill.record+json": {
       "validation_labels": [
        0,
        0,
        0,
        0,
        0,
        0,
        0,
        0,
        0,
        0,
        0,
        0,
        0,
        0,
        0,
        0,
        0,
        0,
        0,
        0,
        0,
        0,
        0,
        0,
        0,
        0,
        0,
        0,
        0,
        0,
        0,
        0,
        0,
        0,
        0,
        0,
        0,
        0,
        0,
        0,
        0,
        0,
        0,
        0,
        0,
        0,
        0,
        0,
        0,
        0,
        0,
        0,
        0,
        0,
        0,
        0,
        0,
        0,
        0,
        0,
        0,
        0,
        0,
        0,
        0,
        0,
        0,
        0,
        0,
        0,
        0,
        0,
        0,
        0,
        0,
        0,
        0,
        0,
        0,
        0,
        0,
        0,
        0,
        0,
        0,
        0,
        0,
        0,
        0,
        0,
        0,
        0,
        0,
        0,
        0,
        0,
        1,
        1,
        1,
        1,
        1,
        1,
        1,
        1,
        1,
        1,
        1,
        1,
        1,
        1,
        1,
        1,
        1,
        1,
        1,
        1,
        1,
        1,
        1,
        1,
        1,
        1,
        1,
        1,
        1,
        1,
        1,
        1,
        1,
        1,
        1,
        1,
        1,
        1,
        1,
        1,
        1,
        1,
        1,
        1,
        1,
        1,
        1,
        1,
        1,
        1,
        1,
        1,
        1,
        1,
        1,
        1,
        1,
        1,
        1,
        1,
        1,
        1,
        1,
        1,
        1,
        1,
        1,
        1,
        1,
        1,
        1,
        1
       ]
      }
     },
     "metadata": {},
     "output_type": "display_data"
    },
    {
     "data": {
      "application/papermill.record+json": {
       "validation_probabilities": [
        0.6854106783866882,
        0.5646082758903503,
        0.9096400737762451,
        0.5111047625541687,
        0.06746330857276917,
        0.07061046361923218,
        0.09346255660057068,
        0.1158757209777832,
        0.5248171091079712,
        0.08376699686050415,
        0.9282434582710266,
        0.039927542209625244,
        0.07485753297805786,
        0.8658392429351807,
        0.0478365421295166,
        0.9765920639038086,
        0.055876702070236206,
        0.7812796831130981,
        0.11280736327171326,
        0.1798730492591858,
        0.8975893259048462,
        0.04115745425224304,
        0.9657199382781982,
        0.9584963321685791,
        0.0480654239654541,
        0.9367543458938599,
        0.03594920039176941,
        0.7345929145812988,
        0.9859102964401245,
        0.4746350646018982,
        0.9016523957252502,
        0.06700536608695984,
        0.43218177556991577,
        0.807090163230896,
        0.046846866607666016,
        0.8361040353775024,
        0.0816144049167633,
        0.4864630103111267,
        0.0731097161769867,
        0.9364799857139587,
        0.05452054738998413,
        0.46966707706451416,
        0.048733264207839966,
        0.970707893371582,
        0.9058690071105957,
        0.1528269648551941,
        0.9588474035263062,
        0.10236984491348267,
        0.8173820972442627,
        0.08825433254241943,
        0.5960668325424194,
        0.8534557819366455,
        0.647538959980011,
        0.8978446125984192,
        0.9679705500602722,
        0.40345168113708496,
        0.4305243492126465,
        0.9087194204330444,
        0.936730146408081,
        0.9809157848358154,
        0.045021891593933105,
        0.09692907333374023,
        0.9410300850868225,
        0.061463862657547,
        0.890984058380127,
        0.03782045841217041,
        0.6956924200057983,
        0.16531875729560852,
        0.052204400300979614,
        0.07237833738327026,
        0.057380229234695435,
        0.9040415287017822,
        0.059753358364105225,
        0.16761812567710876,
        0.9550707936286926,
        0.36625784635543823,
        0.9700139164924622,
        0.9122759103775024,
        0.3951432704925537,
        0.9498886466026306,
        0.9182310104370117,
        0.05632007122039795,
        0.28243112564086914,
        0.876480221748352,
        0.8128513097763062,
        0.03548121452331543,
        0.8125287294387817,
        0.4487825334072113,
        0.07534486055374146,
        0.16728386282920837,
        0.9507285356521606,
        0.5221236348152161,
        0.14575842022895813,
        0.945602536201477,
        0.15412968397140503,
        0.08082911372184753,
        0.972771167755127,
        0.06213364005088806,
        0.964491605758667,
        0.05947321653366089,
        0.9248565435409546,
        0.9651927947998047,
        0.9012830257415771,
        0.8950767517089844,
        0.9632917046546936,
        0.9307857155799866,
        0.11076816916465759,
        0.873217761516571,
        0.9385148286819458,
        0.9746726155281067,
        0.8584224581718445,
        0.9704886674880981,
        0.9619321823120117,
        0.6435349583625793,
        0.9311193823814392,
        0.9285051822662354,
        0.3597770035266876,
        0.9646642804145813,
        0.08910855650901794,
        0.8157656192779541,
        0.8809694051742554,
        0.6558640003204346,
        0.9748899936676025,
        0.09550821781158447,
        0.8834752440452576,
        0.7290166020393372,
        0.9610856771469116,
        0.8336590528488159,
        0.9767029285430908,
        0.08591672778129578,
        0.9784940481185913,
        0.8005358576774597,
        0.9620794057846069,
        0.9708595275878906,
        0.9510523080825806,
        0.9309636354446411,
        0.8956997394561768,
        0.8435184955596924,
        0.9655492305755615,
        0.9735499620437622,
        0.9713354110717773,
        0.8915947079658508,
        0.9709993600845337,
        0.24081581830978394,
        0.9841848611831665,
        0.06577920913696289,
        0.5303803086280823,
        0.8758826851844788,
        0.1598469316959381,
        0.95890212059021,
        0.973659873008728,
        0.965779185295105,
        0.9150494337081909,
        0.9618939161300659,
        0.9551250338554382,
        0.9542838335037231,
        0.953687310218811,
        0.6287577748298645,
        0.07713940739631653,
        0.045180290937423706,
        0.9706343412399292,
        0.14616411924362183,
        0.247100830078125,
        0.7917488813400269,
        0.08624035120010376,
        0.8065704703330994,
        0.9395804405212402,
        0.9652905464172363
       ]
      }
     },
     "metadata": {},
     "output_type": "display_data"
    },
    {
     "data": {
      "application/papermill.record+json": {
       "validation_predictions": [
        1,
        1,
        1,
        1,
        0,
        0,
        0,
        0,
        1,
        0,
        1,
        0,
        0,
        1,
        0,
        1,
        0,
        1,
        0,
        0,
        1,
        0,
        1,
        1,
        0,
        1,
        0,
        1,
        1,
        0,
        1,
        0,
        0,
        1,
        0,
        1,
        0,
        0,
        0,
        1,
        0,
        0,
        0,
        1,
        1,
        0,
        1,
        0,
        1,
        0,
        1,
        1,
        1,
        1,
        1,
        0,
        0,
        1,
        1,
        1,
        0,
        0,
        1,
        0,
        1,
        0,
        1,
        0,
        0,
        0,
        0,
        1,
        0,
        0,
        1,
        0,
        1,
        1,
        0,
        1,
        1,
        0,
        0,
        1,
        1,
        0,
        1,
        0,
        0,
        0,
        1,
        1,
        0,
        1,
        0,
        0,
        1,
        0,
        1,
        0,
        1,
        1,
        1,
        1,
        1,
        1,
        0,
        1,
        1,
        1,
        1,
        1,
        1,
        1,
        1,
        1,
        0,
        1,
        0,
        1,
        1,
        1,
        1,
        0,
        1,
        1,
        1,
        1,
        1,
        0,
        1,
        1,
        1,
        1,
        1,
        1,
        1,
        1,
        1,
        1,
        1,
        1,
        1,
        0,
        1,
        0,
        1,
        1,
        0,
        1,
        1,
        1,
        1,
        1,
        1,
        1,
        1,
        1,
        0,
        0,
        1,
        0,
        0,
        1,
        0,
        1,
        1,
        1
       ]
      }
     },
     "metadata": {},
     "output_type": "display_data"
    }
   ],
   "source": [
    "probabilities = transform_binary_probabilities(results)\n",
    "predictions = transform_binary_predictions(results)\n",
    "labels = get_labels(validation)\n",
    "pm.record(\"validation_labels\", list(labels))\n",
    "pm.record(\"validation_probabilities\", list(probabilities))\n",
    "pm.record(\"validation_predictions\", list(predictions))"
   ]
  },
  {
   "cell_type": "markdown",
   "metadata": {
    "papermill": {
     "duration": 4.5e-05,
     "end_time": "2020-05-29T17:52:42.503416",
     "exception": false,
     "start_time": "2020-05-29T17:52:42.503371",
     "status": "completed"
    },
    "tags": []
   },
   "source": [
    "## Validation statistics"
   ]
  },
  {
   "cell_type": "code",
   "execution_count": 24,
   "metadata": {
    "papermill": {
     "duration": 19.645261,
     "end_time": "2020-05-29T17:53:02.934953",
     "exception": false,
     "start_time": "2020-05-29T17:52:43.289692",
     "status": "completed"
    },
    "tags": []
   },
   "outputs": [
    {
     "name": "stdout",
     "output_type": "stream",
     "text": [
      "Accuracy: 0.636904776096344\n",
      "Loss: 4.18873929977417\n"
     ]
    },
    {
     "data": {
      "text/html": [
       "<div>\n",
       "<style scoped>\n",
       "    .dataframe tbody tr th:only-of-type {\n",
       "        vertical-align: middle;\n",
       "    }\n",
       "\n",
       "    .dataframe tbody tr th {\n",
       "        vertical-align: top;\n",
       "    }\n",
       "\n",
       "    .dataframe thead th {\n",
       "        text-align: right;\n",
       "    }\n",
       "</style>\n",
       "<table border=\"1\" class=\"dataframe\">\n",
       "  <thead>\n",
       "    <tr style=\"text-align: right;\">\n",
       "      <th></th>\n",
       "      <th>Acc</th>\n",
       "      <th>TP</th>\n",
       "      <th>TN</th>\n",
       "      <th>FP</th>\n",
       "      <th>FN</th>\n",
       "      <th>TPR</th>\n",
       "      <th>TNR</th>\n",
       "      <th>PPV</th>\n",
       "      <th>NPV</th>\n",
       "      <th>FPR</th>\n",
       "      <th>FNR</th>\n",
       "      <th>FDR</th>\n",
       "      <th>AM</th>\n",
       "      <th>GM</th>\n",
       "    </tr>\n",
       "  </thead>\n",
       "  <tbody>\n",
       "    <tr>\n",
       "      <th>0.000</th>\n",
       "      <td>0.637</td>\n",
       "      <td>50</td>\n",
       "      <td>57</td>\n",
       "      <td>15</td>\n",
       "      <td>46</td>\n",
       "      <td>0.521</td>\n",
       "      <td>0.792</td>\n",
       "      <td>0.769</td>\n",
       "      <td>0.553</td>\n",
       "      <td>0.208</td>\n",
       "      <td>0.479</td>\n",
       "      <td>0.231</td>\n",
       "      <td>0.656</td>\n",
       "      <td>0.642</td>\n",
       "    </tr>\n",
       "    <tr>\n",
       "      <th>1.000</th>\n",
       "      <td>0.637</td>\n",
       "      <td>57</td>\n",
       "      <td>50</td>\n",
       "      <td>46</td>\n",
       "      <td>15</td>\n",
       "      <td>0.792</td>\n",
       "      <td>0.521</td>\n",
       "      <td>0.553</td>\n",
       "      <td>0.769</td>\n",
       "      <td>0.479</td>\n",
       "      <td>0.208</td>\n",
       "      <td>0.447</td>\n",
       "      <td>0.656</td>\n",
       "      <td>0.642</td>\n",
       "    </tr>\n",
       "  </tbody>\n",
       "</table>\n",
       "</div>"
      ],
      "text/plain": [
       "        Acc  TP  TN  FP  FN   TPR   TNR   PPV   NPV   FPR   FNR   FDR    AM  \\\n",
       "0.000 0.637  50  57  15  46 0.521 0.792 0.769 0.553 0.208 0.479 0.231 0.656   \n",
       "1.000 0.637  57  50  46  15 0.792 0.521 0.553 0.769 0.479 0.208 0.447 0.656   \n",
       "\n",
       "         GM  \n",
       "0.000 0.642  \n",
       "1.000 0.642  "
      ]
     },
     "execution_count": 24,
     "metadata": {},
     "output_type": "execute_result"
    }
   ],
   "source": [
    "loss, accuracy = calculate_accuracy_loss(model, validation)\n",
    "print(\"Accuracy:\", accuracy)\n",
    "print(\"Loss:\", loss)\n",
    "stats = calculate_confusion_matrix_stats(labels, results)\n",
    "pandas.DataFrame(stats, index=validation.class_indices)"
   ]
  },
  {
   "cell_type": "markdown",
   "metadata": {
    "papermill": {
     "duration": 1.6e-05,
     "end_time": "2020-05-29T17:53:02.935998",
     "exception": false,
     "start_time": "2020-05-29T17:53:02.935982",
     "status": "completed"
    },
    "tags": []
   },
   "source": [
    "## Validation confusion matrix"
   ]
  },
  {
   "cell_type": "code",
   "execution_count": 25,
   "metadata": {
    "papermill": {
     "duration": 0.766103,
     "end_time": "2020-05-29T17:53:04.522472",
     "exception": false,
     "start_time": "2020-05-29T17:53:03.756369",
     "status": "completed"
    },
    "tags": []
   },
   "outputs": [
    {
     "data": {
      "image/png": "[encoded data removed]",
      "text/plain": [
       "<Figure size 432x288 with 2 Axes>"
      ]
     },
     "metadata": {},
     "output_type": "display_data"
    }
   ],
   "source": [
    "fig = plot_confusion_matrix(validation, results)\n",
    "fig.savefig(\"figures/{}-{}-validation-confusion-matrix.svg\".format(result.uuid, result.input_form), bbox_inches = \"tight\")"
   ]
  },
  {
   "cell_type": "markdown",
   "metadata": {
    "papermill": {
     "duration": 2.9e-05,
     "end_time": "2020-05-29T17:53:04.529295",
     "exception": false,
     "start_time": "2020-05-29T17:53:04.529266",
     "status": "completed"
    },
    "tags": []
   },
   "source": [
    "## Validation ROC curve"
   ]
  },
  {
   "cell_type": "code",
   "execution_count": 26,
   "metadata": {
    "papermill": {
     "duration": 1.1803,
     "end_time": "2020-05-29T17:53:06.442924",
     "exception": false,
     "start_time": "2020-05-29T17:53:05.262624",
     "status": "completed"
    },
    "scrolled": true,
    "tags": []
   },
   "outputs": [
    {
     "data": {
      "image/png": "[encoded data removed]",
      "text/plain": [
       "<Figure size 432x288 with 1 Axes>"
      ]
     },
     "metadata": {},
     "output_type": "display_data"
    }
   ],
   "source": [
    "fig = plot_roc_curve(labels, probabilities)\n",
    "fig.savefig(\"figures/{}-{}-validation-ROC-curve.svg\".format(result.uuid, result.input_form), bbox_inches = \"tight\")"
   ]
  },
  {
   "cell_type": "markdown",
   "metadata": {
    "papermill": {
     "duration": 2.5e-05,
     "end_time": "2020-05-29T17:53:06.455566",
     "exception": false,
     "start_time": "2020-05-29T17:53:06.455541",
     "status": "completed"
    },
    "tags": []
   },
   "source": [
    "## Validation precision-recall curve"
   ]
  },
  {
   "cell_type": "code",
   "execution_count": 27,
   "metadata": {
    "papermill": {
     "duration": 1.444621,
     "end_time": "2020-05-29T17:53:08.980340",
     "exception": false,
     "start_time": "2020-05-29T17:53:07.535719",
     "status": "completed"
    },
    "tags": []
   },
   "outputs": [
    {
     "data": {
      "image/png": "[encoded data removed]",
      "text/plain": [
       "<Figure size 432x288 with 1 Axes>"
      ]
     },
     "metadata": {},
     "output_type": "display_data"
    }
   ],
   "source": [
    "fig = plot_precision_recall(labels, results)\n",
    "fig.savefig(\"figures/{}-{}-validation-precisionrecall-curve.svg\".format(result.uuid, result.input_form), bbox_inches = \"tight\")"
   ]
  },
  {
   "cell_type": "markdown",
   "metadata": {
    "papermill": {
     "duration": 0.000112,
     "end_time": "2020-05-29T17:53:08.984524",
     "exception": false,
     "start_time": "2020-05-29T17:53:08.984412",
     "status": "completed"
    },
    "tags": []
   },
   "source": [
    "# Test"
   ]
  },
  {
   "cell_type": "code",
   "execution_count": 28,
   "metadata": {
    "collapsed": true,
    "papermill": {
     "duration": 11.455135,
     "end_time": "2020-05-29T17:53:21.283003",
     "exception": false,
     "start_time": "2020-05-29T17:53:09.827868",
     "status": "completed"
    },
    "tags": []
   },
   "outputs": [],
   "source": [
    "results = get_results(model, test)"
   ]
  },
  {
   "cell_type": "code",
   "execution_count": 29,
   "metadata": {
    "papermill": {
     "duration": 0.271595,
     "end_time": "2020-05-29T17:53:21.555558",
     "exception": false,
     "start_time": "2020-05-29T17:53:21.283963",
     "status": "completed"
    },
    "scrolled": false,
    "tags": []
   },
   "outputs": [
    {
     "data": {
      "application/papermill.record+json": {
       "test_labels": [
        0,
        0,
        0,
        0,
        1,
        0,
        0,
        0,
        0,
        1,
        1,
        1,
        0,
        1,
        1,
        1,
        1,
        1,
        1,
        1,
        1,
        1,
        1,
        1,
        1,
        0,
        1,
        1,
        1,
        1,
        1,
        0,
        0,
        0,
        1,
        1,
        1,
        1,
        1,
        0,
        0,
        0,
        1,
        0,
        0,
        0,
        0,
        0,
        0,
        0,
        0,
        0,
        0,
        0,
        0,
        0,
        0,
        0,
        0,
        0,
        0,
        0,
        0,
        0,
        0,
        0,
        0,
        0,
        0,
        0,
        0,
        0,
        0,
        1,
        1,
        1,
        1,
        1,
        1,
        1,
        1,
        1,
        1,
        1,
        1,
        1,
        1,
        0,
        0,
        1,
        1,
        0,
        1,
        1,
        0,
        0,
        0,
        0,
        0
       ]
      }
     },
     "metadata": {},
     "output_type": "display_data"
    },
    {
     "data": {
      "application/papermill.record+json": {
       "test_probabilities": [
        0.9736838340759277,
        0.0575522780418396,
        0.9703097343444824,
        0.5550577640533447,
        0.8246997594833374,
        0.9441009163856506,
        0.030132442712783813,
        0.05984079837799072,
        0.16673463582992554,
        0.9090169668197632,
        0.1835635006427765,
        0.9448560476303101,
        0.06209444999694824,
        0.9532290697097778,
        0.94771808385849,
        0.3424533009529114,
        0.9715927839279175,
        0.9665617942810059,
        0.9631568193435669,
        0.058258771896362305,
        0.9755184650421143,
        0.07406848669052124,
        0.7169244289398193,
        0.9603069424629211,
        0.059271037578582764,
        0.8322021961212158,
        0.04248619079589844,
        0.23140576481819153,
        0.6035823225975037,
        0.7003685235977173,
        0.8947073817253113,
        0.06658560037612915,
        0.06523194909095764,
        0.6572996973991394,
        0.9749966263771057,
        0.9580935835838318,
        0.9572224617004395,
        0.9046764373779297,
        0.9453080892562866,
        0.7893975973129272,
        0.07049959897994995,
        0.8960615396499634,
        0.12965095043182373,
        0.25376734137535095,
        0.7401649951934814,
        0.9657443165779114,
        0.6864199638366699,
        0.07976996898651123,
        0.9203075170516968,
        0.12255886197090149,
        0.059174805879592896,
        0.9644816517829895,
        0.06709843873977661,
        0.2889905571937561,
        0.9307191371917725,
        0.10457736253738403,
        0.13458749651908875,
        0.6372830271720886,
        0.9643328189849854,
        0.25972917675971985,
        0.6873335242271423,
        0.7869564294815063,
        0.11355921626091003,
        0.07733052968978882,
        0.09518373012542725,
        0.10430794954299927,
        0.04675692319869995,
        0.047576189041137695,
        0.9752347469329834,
        0.3322891891002655,
        0.04551449418067932,
        0.10412406921386719,
        0.617063045501709,
        0.3063836693763733,
        0.9791141748428345,
        0.9001554250717163,
        0.9507399797439575,
        0.9648650288581848,
        0.9014708995819092,
        0.976244330406189,
        0.7113308906555176,
        0.9408591985702515,
        0.9077733755111694,
        0.9801218509674072,
        0.03048500418663025,
        0.05259418487548828,
        0.905825138092041,
        0.960034966468811,
        0.9381749629974365,
        0.9578847885131836,
        0.028212517499923706,
        0.9150264263153076,
        0.7301052808761597,
        0.5351958870887756,
        0.09898960590362549,
        0.9547865390777588,
        0.07631246000528336,
        0.15920136868953705,
        0.04932134225964546
       ]
      }
     },
     "metadata": {},
     "output_type": "display_data"
    },
    {
     "data": {
      "application/papermill.record+json": {
       "test_predictions": [
        1,
        0,
        1,
        1,
        1,
        1,
        0,
        0,
        0,
        1,
        0,
        1,
        0,
        1,
        1,
        0,
        1,
        1,
        1,
        0,
        1,
        0,
        1,
        1,
        0,
        1,
        0,
        0,
        1,
        1,
        1,
        0,
        0,
        1,
        1,
        1,
        1,
        1,
        1,
        1,
        0,
        1,
        0,
        0,
        1,
        1,
        1,
        0,
        1,
        0,
        0,
        1,
        0,
        0,
        1,
        0,
        0,
        1,
        1,
        0,
        1,
        1,
        0,
        0,
        0,
        0,
        0,
        0,
        1,
        0,
        0,
        0,
        1,
        0,
        1,
        1,
        1,
        1,
        1,
        1,
        1,
        1,
        1,
        1,
        0,
        0,
        1,
        1,
        1,
        1,
        0,
        1,
        1,
        1,
        0,
        1,
        0,
        0,
        0
       ]
      }
     },
     "metadata": {},
     "output_type": "display_data"
    }
   ],
   "source": [
    "probabilities = transform_binary_probabilities(results)\n",
    "predictions = transform_binary_predictions(results)\n",
    "labels = get_labels(test)\n",
    "names = test.names\n",
    "test_results = [['PatientID','True label','Predicted label','Probability']]\n",
    "index = 0\n",
    "for name in names:\n",
    "    test_results.append([name, labels[index], predictions[index], probabilities[index]])\n",
    "    index += 1\n",
    "df = pandas.DataFrame(test_results)\n",
    "df.to_csv(\"output/test_results/{}-{}.csv\".format(UUID, result.model), header=False, index=False)\n",
    "pm.record(\"test_labels\", list(labels))\n",
    "pm.record(\"test_probabilities\", list(probabilities))\n",
    "pm.record(\"test_predictions\", list(predictions))"
   ]
  },
  {
   "cell_type": "markdown",
   "metadata": {
    "papermill": {
     "duration": 2.5e-05,
     "end_time": "2020-05-29T17:53:22.120335",
     "exception": false,
     "start_time": "2020-05-29T17:53:22.120310",
     "status": "completed"
    },
    "tags": []
   },
   "source": [
    "## Test statistics"
   ]
  },
  {
   "cell_type": "code",
   "execution_count": 30,
   "metadata": {
    "papermill": {
     "duration": 11.96543,
     "end_time": "2020-05-29T17:53:34.784973",
     "exception": false,
     "start_time": "2020-05-29T17:53:22.819543",
     "status": "completed"
    },
    "tags": []
   },
   "outputs": [
    {
     "name": "stdout",
     "output_type": "stream",
     "text": [
      "Accuracy: 0.6363636255264282\n",
      "Loss: 3.496419906616211\n"
     ]
    },
    {
     "data": {
      "text/html": [
       "<div>\n",
       "<style scoped>\n",
       "    .dataframe tbody tr th:only-of-type {\n",
       "        vertical-align: middle;\n",
       "    }\n",
       "\n",
       "    .dataframe tbody tr th {\n",
       "        vertical-align: top;\n",
       "    }\n",
       "\n",
       "    .dataframe thead th {\n",
       "        text-align: right;\n",
       "    }\n",
       "</style>\n",
       "<table border=\"1\" class=\"dataframe\">\n",
       "  <thead>\n",
       "    <tr style=\"text-align: right;\">\n",
       "      <th></th>\n",
       "      <th>Acc</th>\n",
       "      <th>TP</th>\n",
       "      <th>TN</th>\n",
       "      <th>FP</th>\n",
       "      <th>FN</th>\n",
       "      <th>TPR</th>\n",
       "      <th>TNR</th>\n",
       "      <th>PPV</th>\n",
       "      <th>NPV</th>\n",
       "      <th>FPR</th>\n",
       "      <th>FNR</th>\n",
       "      <th>FDR</th>\n",
       "      <th>AM</th>\n",
       "      <th>GM</th>\n",
       "    </tr>\n",
       "  </thead>\n",
       "  <tbody>\n",
       "    <tr>\n",
       "      <th>0.000</th>\n",
       "      <td>0.636</td>\n",
       "      <td>30</td>\n",
       "      <td>33</td>\n",
       "      <td>12</td>\n",
       "      <td>24</td>\n",
       "      <td>0.556</td>\n",
       "      <td>0.733</td>\n",
       "      <td>0.714</td>\n",
       "      <td>0.579</td>\n",
       "      <td>0.267</td>\n",
       "      <td>0.444</td>\n",
       "      <td>0.286</td>\n",
       "      <td>0.644</td>\n",
       "      <td>0.638</td>\n",
       "    </tr>\n",
       "    <tr>\n",
       "      <th>1.000</th>\n",
       "      <td>0.636</td>\n",
       "      <td>33</td>\n",
       "      <td>30</td>\n",
       "      <td>24</td>\n",
       "      <td>12</td>\n",
       "      <td>0.733</td>\n",
       "      <td>0.556</td>\n",
       "      <td>0.579</td>\n",
       "      <td>0.714</td>\n",
       "      <td>0.444</td>\n",
       "      <td>0.267</td>\n",
       "      <td>0.421</td>\n",
       "      <td>0.644</td>\n",
       "      <td>0.638</td>\n",
       "    </tr>\n",
       "  </tbody>\n",
       "</table>\n",
       "</div>"
      ],
      "text/plain": [
       "        Acc  TP  TN  FP  FN   TPR   TNR   PPV   NPV   FPR   FNR   FDR    AM  \\\n",
       "0.000 0.636  30  33  12  24 0.556 0.733 0.714 0.579 0.267 0.444 0.286 0.644   \n",
       "1.000 0.636  33  30  24  12 0.733 0.556 0.579 0.714 0.444 0.267 0.421 0.644   \n",
       "\n",
       "         GM  \n",
       "0.000 0.638  \n",
       "1.000 0.638  "
      ]
     },
     "execution_count": 30,
     "metadata": {},
     "output_type": "execute_result"
    }
   ],
   "source": [
    "loss, accuracy = calculate_accuracy_loss(model, test)\n",
    "print(\"Accuracy:\", accuracy)\n",
    "print(\"Loss:\", loss)\n",
    "stats = calculate_confusion_matrix_stats(labels, results)\n",
    "pandas.DataFrame(stats, index=validation.class_indices)"
   ]
  },
  {
   "cell_type": "markdown",
   "metadata": {
    "papermill": {
     "duration": 0.000113,
     "end_time": "2020-05-29T17:53:34.787036",
     "exception": false,
     "start_time": "2020-05-29T17:53:34.786923",
     "status": "completed"
    },
    "tags": []
   },
   "source": [
    "## Test confusion matrix"
   ]
  },
  {
   "cell_type": "code",
   "execution_count": 31,
   "metadata": {
    "papermill": {
     "duration": 1.207368,
     "end_time": "2020-05-29T17:53:36.744329",
     "exception": false,
     "start_time": "2020-05-29T17:53:35.536961",
     "status": "completed"
    },
    "scrolled": true,
    "tags": []
   },
   "outputs": [
    {
     "data": {
      "image/png": "[encoded data removed]",
      "text/plain": [
       "<Figure size 432x288 with 2 Axes>"
      ]
     },
     "metadata": {},
     "output_type": "display_data"
    }
   ],
   "source": [
    "fig = plot_confusion_matrix(test, results)\n",
    "fig.savefig(\"figures/{}-{}-test-confusion-matrix.svg\".format(result.uuid, result.input_form), bbox_inches = \"tight\")"
   ]
  },
  {
   "cell_type": "markdown",
   "metadata": {
    "papermill": {
     "duration": 6.8e-05,
     "end_time": "2020-05-29T17:53:36.796480",
     "exception": false,
     "start_time": "2020-05-29T17:53:36.796412",
     "status": "completed"
    },
    "tags": []
   },
   "source": [
    "## Test ROC curve"
   ]
  },
  {
   "cell_type": "code",
   "execution_count": 32,
   "metadata": {
    "papermill": {
     "duration": 1.372735,
     "end_time": "2020-05-29T17:53:39.120931",
     "exception": false,
     "start_time": "2020-05-29T17:53:37.748196",
     "status": "completed"
    },
    "tags": []
   },
   "outputs": [
    {
     "data": {
      "image/png": "[encoded data removed]",
      "text/plain": [
       "<Figure size 432x288 with 1 Axes>"
      ]
     },
     "metadata": {},
     "output_type": "display_data"
    }
   ],
   "source": [
    "fig = plot_roc_curve(labels, probabilities)\n",
    "fig.savefig(\"figures/{}-{}-test-ROC-curve.svg\".format(result.uuid, result.input_form), bbox_inches = \"tight\")"
   ]
  },
  {
   "cell_type": "markdown",
   "metadata": {
    "papermill": {
     "duration": 2.6e-05,
     "end_time": "2020-05-29T17:53:39.122923",
     "exception": false,
     "start_time": "2020-05-29T17:53:39.122897",
     "status": "completed"
    },
    "tags": []
   },
   "source": [
    "## Test precision-recall curve"
   ]
  },
  {
   "cell_type": "code",
   "execution_count": 33,
   "metadata": {
    "papermill": {
     "duration": 1.09538,
     "end_time": "2020-05-29T17:53:41.040871",
     "exception": false,
     "start_time": "2020-05-29T17:53:39.945491",
     "status": "completed"
    },
    "tags": []
   },
   "outputs": [
    {
     "data": {
      "image/png": "[encoded data removed]",
      "text/plain": [
       "<Figure size 432x288 with 1 Axes>"
      ]
     },
     "metadata": {},
     "output_type": "display_data"
    }
   ],
   "source": [
    "fig = plot_precision_recall(labels, results)\n",
    "fig.savefig(\"figures/{}-{}-test-precisionrecall-curve.svg\".format(result.uuid, result.input_form), bbox_inches = \"tight\")"
   ]
  },
  {
   "cell_type": "code",
   "execution_count": 34,
   "metadata": {
    "collapsed": true,
    "papermill": {
     "duration": 0.248732,
     "end_time": "2020-05-29T17:53:41.291017",
     "exception": false,
     "start_time": "2020-05-29T17:53:41.042285",
     "status": "completed"
    },
    "tags": []
   },
   "outputs": [],
   "source": [
    "import json\n",
    "hyperparameters = json.loads(result.hyperparameters)\n",
    "deep_top = hyperparameters[\"deep-dense-top\"]\n",
    "grad_cam_layer = \"dense_3\"\n",
    "if deep_top: \n",
    "    grad_cam_layer = \"dense_6\""
   ]
  },
  {
   "cell_type": "markdown",
   "metadata": {
    "papermill": {
     "duration": 4e-05,
     "end_time": "2020-05-29T17:53:42.146768",
     "exception": false,
     "start_time": "2020-05-29T17:53:42.146728",
     "status": "completed"
    },
    "tags": []
   },
   "source": [
    "# TSNE"
   ]
  },
  {
   "cell_type": "markdown",
   "metadata": {
    "papermill": {
     "duration": 3.9e-05,
     "end_time": "2020-05-29T17:53:43.184216",
     "exception": false,
     "start_time": "2020-05-29T17:53:43.184177",
     "status": "completed"
    },
    "tags": []
   },
   "source": [
    "# Grad Cam"
   ]
  },
  {
   "cell_type": "code",
   "execution_count": 35,
   "metadata": {
    "collapsed": true,
    "papermill": {
     "duration": 0.229882,
     "end_time": "2020-05-29T17:53:44.301767",
     "exception": false,
     "start_time": "2020-05-29T17:53:44.071885",
     "status": "completed"
    },
    "tags": []
   },
   "outputs": [],
   "source": [
    "def show_grad_cam_images(images, labels, predictions, names=None, penultimate_layer=\"res5c_branch2c\", layer=\"dense_3\", columns=2, include_label=True):\n",
    "    filter_idx = [0]\n",
    "    grad_modifier = None\n",
    "    backprop_modifier = None\n",
    "    penultimate_layer_idx = None\n",
    "    if penultimate_layer:\n",
    "        penultimate_layer_idx = find_layer_idx(model, penultimate_layer)    \n",
    "    rows = int(math.ceil(len(images) * 2/columns))\n",
    "    f, ax = plt.subplots(rows, columns, figsize=(5.5, 3 * rows))    \n",
    "    ax = ax.flatten()\n",
    "    for i, image in enumerate(images): \n",
    "        grad = visualize_cam(\n",
    "            model,\n",
    "            find_layer_idx(model, layer),\n",
    "            filter_idx,\n",
    "            normalize(image),\n",
    "            penultimate_layer_idx=penultimate_layer_idx,\n",
    "            backprop_modifier=backprop_modifier,\n",
    "            grad_modifier=grad_modifier)\n",
    "        if names is not None: \n",
    "            ax[2*i].set_title(\"{}\".format(names[i]))\n",
    "        ax[2*i].imshow(image)\n",
    "        ax[2*i].axis('off')\n",
    "        if include_label: \n",
    "            ax[2*i+1].set_title(\"label/pred: {}/{}\".format(labels[i], predictions[i]))\n",
    "        ax[2*i+1].imshow(overlay(grad, image))\n",
    "        ax[2*i+1].axis('off')\n",
    "    return f, ax"
   ]
  },
  {
   "cell_type": "code",
   "execution_count": 36,
   "metadata": {
    "collapsed": true,
    "papermill": {
     "duration": 0.212855,
     "end_time": "2020-05-29T17:53:45.150702",
     "exception": false,
     "start_time": "2020-05-29T17:53:44.937847",
     "status": "completed"
    },
    "tags": []
   },
   "outputs": [
    {
     "data": {
      "text/html": [
       "<script>\n",
       "code_show=true; \n",
       "function code_toggle() {\n",
       " if (code_show){\n",
       " $('div.input').hide();\n",
       " } else {\n",
       " $('div.input').show();\n",
       " }\n",
       " code_show = !code_show\n",
       "} \n",
       "$( document ).ready(code_toggle);\n",
       "</script>\n",
       "The raw code for this IPython notebook is by default hidden for easier reading.\n",
       "To toggle on/off the raw code, click <a href=\"javascript:code_toggle()\">here</a>."
      ],
      "text/plain": [
       "<IPython.core.display.HTML object>"
      ]
     },
     "execution_count": 36,
     "metadata": {},
     "output_type": "execute_result"
    }
   ],
   "source": [
    "from IPython.display import HTML\n",
    "HTML('''<script>\n",
    "code_show=true; \n",
    "function code_toggle() {\n",
    " if (code_show){\n",
    " $('div.input').hide();\n",
    " } else {\n",
    " $('div.input').show();\n",
    " }\n",
    " code_show = !code_show\n",
    "} \n",
    "$( document ).ready(code_toggle);\n",
    "</script>\n",
    "The raw code for this IPython notebook is by default hidden for easier reading.\n",
    "To toggle on/off the raw code, click <a href=\"javascript:code_toggle()\">here</a>.''')"
   ]
  },
  {
   "cell_type": "code",
   "execution_count": null,
   "metadata": {
    "collapsed": true,
    "papermill": {
     "duration": 7e-06,
     "end_time": "2020-05-29T17:53:45.780055",
     "exception": null,
     "start_time": "2020-05-29T17:53:45.780048",
     "status": "completed"
    },
    "tags": []
   },
   "outputs": [],
   "source": []
  },
  {
   "cell_type": "code",
   "execution_count": null,
   "metadata": {
    "collapsed": true,
    "papermill": {
     "duration": 8e-06,
     "end_time": "2020-05-29T17:53:46.558713",
     "exception": null,
     "start_time": "2020-05-29T17:53:46.558705",
     "status": "completed"
    },
    "tags": []
   },
   "outputs": [],
   "source": []
  },
  {
   "cell_type": "code",
   "execution_count": null,
   "metadata": {
    "collapsed": true,
    "papermill": {
     "duration": 8e-06,
     "end_time": "2020-05-29T17:53:47.258737",
     "exception": null,
     "start_time": "2020-05-29T17:53:47.258729",
     "status": "completed"
    },
    "tags": []
   },
   "outputs": [],
   "source": []
  },
  {
   "cell_type": "code",
   "execution_count": null,
   "metadata": {
    "collapsed": true,
    "papermill": {
     "duration": 7e-06,
     "end_time": "2020-05-29T17:53:48.323803",
     "exception": null,
     "start_time": "2020-05-29T17:53:48.323796",
     "status": "completed"
    },
    "tags": []
   },
   "outputs": [],
   "source": []
  },
  {
   "cell_type": "code",
   "execution_count": null,
   "metadata": {
    "collapsed": true,
    "papermill": {
     "duration": 1e-05,
     "end_time": "2020-05-29T17:53:49.333690",
     "exception": null,
     "start_time": "2020-05-29T17:53:49.333680",
     "status": "completed"
    },
    "tags": []
   },
   "outputs": [],
   "source": []
  }
 ],
 "metadata": {
  "kernelspec": {
   "display_name": "Python 3",
   "language": "python",
   "name": "python3"
  },
  "language_info": {
   "codemirror_mode": {
    "name": "ipython",
    "version": 3
   },
   "file_extension": ".py",
   "mimetype": "text/x-python",
   "name": "python",
   "nbconvert_exporter": "python",
   "pygments_lexer": "ipython3",
   "version": "3.6.1"
  },
  "papermill": {
   "duration": 591.582407,
   "end_time": "2020-05-29T17:53:55.672487",
   "environment_variables": {},
   "exception": false,
   "output_path": "evaluate-t1-t2-verified_trial1-t1-ec0a84dd-313b-44fc-9110-d72a62ee12a2.ipynb",
   "parameters": {
    "SELECTIONS": "None",
    "TSNE_PERPLEXITY": 10,
    "UUID": "ec0a84dd-313b-44fc-9110-d72a62ee12a2"
   },
   "start_time": "2020-05-29T17:44:04.090080",
   "version": "0.10.1"
  }
 },
 "nbformat": 4,
 "nbformat_minor": 2
}