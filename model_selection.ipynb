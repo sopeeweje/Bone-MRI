{
 "cells": [
  {
   "cell_type": "code",
   "execution_count": 1,
   "metadata": {},
   "outputs": [],
   "source": [
    "%load_ext autoreload\n",
    "%autoreload 2\n",
    "%matplotlib inline  \n",
    "from IPython.display import HTML"
   ]
  },
  {
   "cell_type": "code",
   "execution_count": 2,
   "metadata": {},
   "outputs": [],
   "source": [
    "from sklearn.metrics import f1_score, roc_auc_score, average_precision_score, precision_score, recall_score\n",
    "import pandas\n",
    "import numpy as np\n",
    "import papermill as pm\n",
    "import json\n",
    "import matplotlib.pyplot as plt\n",
    "import os\n",
    "import uuid\n",
    "from db import Result\n",
    "import ast\n",
    "import math\n",
    "import scrapbook as sb\n",
    "pandas.options.display.float_format = '{:,.3f}'.format"
   ]
  },
  {
   "cell_type": "code",
   "execution_count": 3,
   "metadata": {},
   "outputs": [],
   "source": [
    "from evaluate import plot_learning_curve, plot_accuracy_curve, load, get_results, get_labels, transform_binary_probabilities, transform_binary_predictions, calculate_accuracy_loss, plot_confusion_matrix, plot_precision_recall, plot_roc_curve, calculate_pr_auc, calculate_confusion_matrix_stats, calculate_confusion_matrix, plot_precision_recall#, plot_tsne, plot_multiple_grad_cam\n",
    "from data_gen import data\n",
    "from run import characterize_data\n",
    "from config import config"
   ]
  },
  {
   "cell_type": "code",
   "execution_count": 4,
   "metadata": {},
   "outputs": [],
   "source": [
    "# T1 results\n",
    "t1_results = Result.query.filter(Result.description == \"t1_final_200\").all()\n",
    "\n",
    "# T2 results\n",
    "t2_results = Result.query.filter(Result.description == \"t2_final_run_200\").all()"
   ]
  },
  {
   "cell_type": "code",
   "execution_count": 5,
   "metadata": {},
   "outputs": [
    {
     "name": "stdout",
     "output_type": "stream",
     "text": [
      "[<Result accuracy: 0.6632652878761292>, <Result accuracy: 0.6785714030265808>, <Result accuracy: 0.6530612111091614>, <Result accuracy: 0.668367326259613>, <Result accuracy: 0.6479591727256775>, <Result accuracy: 0.7091836929321289>, <Result accuracy: 0.6887755393981934>, <Result accuracy: 0.6479591727256775>, <Result accuracy: 0.6836734414100647>, <Result accuracy: 0.6530612111091614>]\n",
      "[<Result accuracy: 0.6954314708709717>, <Result accuracy: 0.6852791905403137>, <Result accuracy: 0.6192893385887146>, <Result accuracy: 0.6548223495483398>, <Result accuracy: 0.6040608882904053>, <Result accuracy: 0.6903553009033203>, <Result accuracy: 0.6649746298789978>, <Result accuracy: 0.6395938992500305>, <Result accuracy: 0.6345177888870239>, <Result accuracy: 0.6345177888870239>]\n"
     ]
    }
   ],
   "source": [
    "print(t1_results)\n",
    "print(t2_results)"
   ]
  },
  {
   "cell_type": "code",
   "execution_count": 6,
   "metadata": {
    "scrolled": true
   },
   "outputs": [
    {
     "name": "stderr",
     "output_type": "stream",
     "text": [
      "  0%|          | 1/678 [00:00<01:23,  8.07it/s]"
     ]
    },
    {
     "name": "stdout",
     "output_type": "stream",
     "text": [
      "                outcome_pos  outcome_neg  outcome_3    age  sex  \\\n",
      "patientID                                                         \n",
      "bone-brown-1              0            0          0 52.000    1   \n",
      "bone-brown-10             0            0          0 52.000    0   \n",
      "bone-brown-100            1            1          2 22.000    1   \n",
      "bone-brown-101            0            0          0 88.000    0   \n",
      "bone-brown-102            0            0          0 56.000    1   \n",
      "...                     ...          ...        ...    ...  ...   \n",
      "bone-penn-650             1            1          2 20.000    1   \n",
      "bone-penn-651             0            0          0 16.000    1   \n",
      "bone-penn-652             1            1          2  8.000    0   \n",
      "bone-penn-653             1            1          2 16.000    1   \n",
      "bone-penn-654             1            1          2  3.000    1   \n",
      "\n",
      "                                                         location        sort  \n",
      "patientID                                                                      \n",
      "bone-brown-1    [0.0, 0.0, 0.0, 0.0, 0.0, 0.0, 0.0, 0.0, 0.0, ...       train  \n",
      "bone-brown-10   [0.0, 0.0, 0.0, 0.0, 1.0, 0.0, 0.0, 0.0, 0.0, ...  validation  \n",
      "bone-brown-100  [0.0, 0.0, 0.0, 0.0, 0.0, 0.0, 0.0, 0.0, 0.0, ...       train  \n",
      "bone-brown-101  [0.0, 0.0, 0.0, 0.0, 0.0, 0.0, 0.0, 0.0, 0.0, ...       train  \n",
      "bone-brown-102  [0.0, 0.0, 0.0, 0.0, 0.0, 0.0, 0.0, 0.0, 0.0, ...  validation  \n",
      "...                                                           ...         ...  \n",
      "bone-penn-650   [0.0, 0.0, 0.0, 0.0, 0.0, 0.0, 0.0, 0.0, 0.0, ...       train  \n",
      "bone-penn-651   [0.0, 0.0, 0.0, 0.0, 0.0, 0.0, 0.0, 0.0, 0.0, ...       train  \n",
      "bone-penn-652   [0.0, 0.0, 0.0, 0.0, 1.0, 0.0, 0.0, 0.0, 0.0, ...       train  \n",
      "bone-penn-653   [0.0, 0.0, 0.0, 0.0, 0.0, 0.0, 0.0, 0.0, 0.0, ...       train  \n",
      "bone-penn-654   [0.0, 0.0, 0.0, 0.0, 0.0, 0.0, 0.0, 0.0, 0.0, ...       train  \n",
      "\n",
      "[1060 rows x 7 columns]\n",
      "1060\n",
      "1059\n",
      "Training points = 678\n",
      "Benign: 368, Malignant: 310\n",
      "\n",
      "Validation points = 191\n",
      "Benign: 105, Malignant: 86\n",
      "\n",
      "Testing points = 93\n",
      "Benign: 51, Malignant: 42\n",
      "External points = 97\n",
      "Benign: 58, Malignant: 39\n",
      "bone-brown-1\n",
      "I'm doing the thing.\n",
      "bone-brown-100\n",
      "I'm doing the thing.\n"
     ]
    },
    {
     "name": "stderr",
     "output_type": "stream",
     "text": [
      "\r",
      "  0%|          | 2/678 [00:00<02:46,  4.05it/s]"
     ]
    },
    {
     "name": "stdout",
     "output_type": "stream",
     "text": [
      "bone-brown-101\n",
      "I'm doing the thing.\n"
     ]
    },
    {
     "name": "stderr",
     "output_type": "stream",
     "text": [
      "\r",
      "  0%|          | 3/678 [00:00<03:58,  2.83it/s]"
     ]
    },
    {
     "name": "stdout",
     "output_type": "stream",
     "text": [
      "bone-brown-103\n",
      "I'm doing the thing.\n"
     ]
    },
    {
     "name": "stderr",
     "output_type": "stream",
     "text": [
      "\r",
      "  1%|          | 4/678 [00:01<04:31,  2.48it/s]"
     ]
    },
    {
     "name": "stdout",
     "output_type": "stream",
     "text": [
      "bone-brown-106\n",
      "I'm doing the thing.\n"
     ]
    },
    {
     "name": "stderr",
     "output_type": "stream",
     "text": [
      "\r",
      "  1%|          | 5/678 [00:02<09:13,  1.22it/s]"
     ]
    },
    {
     "name": "stdout",
     "output_type": "stream",
     "text": [
      "bone-brown-107\n",
      "I'm doing the thing.\n"
     ]
    },
    {
     "name": "stderr",
     "output_type": "stream",
     "text": [
      "\r",
      "  1%|          | 6/678 [00:03<09:42,  1.15it/s]"
     ]
    },
    {
     "name": "stdout",
     "output_type": "stream",
     "text": [
      "bone-brown-11\n",
      "I'm doing the thing.\n",
      "bone-brown-110\n",
      "I'm doing the thing.\n"
     ]
    },
    {
     "name": "stderr",
     "output_type": "stream",
     "text": [
      "\r",
      "  1%|          | 8/678 [00:04<07:17,  1.53it/s]"
     ]
    },
    {
     "name": "stdout",
     "output_type": "stream",
     "text": [
      "bone-brown-112\n",
      "I'm doing the thing.\n"
     ]
    },
    {
     "name": "stderr",
     "output_type": "stream",
     "text": [
      "  1%|▏         | 10/678 [00:05<05:00,  2.22it/s]"
     ]
    },
    {
     "name": "stdout",
     "output_type": "stream",
     "text": [
      "bone-brown-113\n",
      "I'm doing the thing.\n",
      "bone-brown-114\n",
      "I'm doing the thing.\n"
     ]
    },
    {
     "name": "stderr",
     "output_type": "stream",
     "text": [
      "\r",
      "  2%|▏         | 11/678 [00:05<04:32,  2.45it/s]"
     ]
    },
    {
     "name": "stdout",
     "output_type": "stream",
     "text": [
      "bone-brown-115\n",
      "I'm doing the thing.\n"
     ]
    },
    {
     "name": "stderr",
     "output_type": "stream",
     "text": [
      "\r",
      "  2%|▏         | 12/678 [00:06<04:40,  2.37it/s]"
     ]
    },
    {
     "name": "stdout",
     "output_type": "stream",
     "text": [
      "bone-brown-116\n",
      "I'm doing the thing.\n"
     ]
    },
    {
     "name": "stderr",
     "output_type": "stream",
     "text": [
      "\r",
      "  2%|▏         | 13/678 [00:06<04:25,  2.50it/s]"
     ]
    },
    {
     "name": "stdout",
     "output_type": "stream",
     "text": [
      "bone-brown-117\n",
      "I'm doing the thing.\n"
     ]
    },
    {
     "name": "stderr",
     "output_type": "stream",
     "text": [
      "\r",
      "  2%|▏         | 14/678 [00:07<05:21,  2.06it/s]"
     ]
    },
    {
     "name": "stdout",
     "output_type": "stream",
     "text": [
      "bone-brown-120\n",
      "I'm doing the thing.\n"
     ]
    },
    {
     "name": "stderr",
     "output_type": "stream",
     "text": [
      "\r",
      "  2%|▏         | 15/678 [00:07<05:48,  1.90it/s]"
     ]
    },
    {
     "name": "stdout",
     "output_type": "stream",
     "text": [
      "bone-brown-121\n",
      "I'm doing the thing.\n"
     ]
    },
    {
     "name": "stderr",
     "output_type": "stream",
     "text": [
      "  3%|▎         | 17/678 [00:08<04:47,  2.30it/s]"
     ]
    },
    {
     "name": "stdout",
     "output_type": "stream",
     "text": [
      "bone-brown-123\n",
      "I'm doing the thing.\n",
      "bone-brown-124\n",
      "I'm doing the thing.\n"
     ]
    },
    {
     "name": "stderr",
     "output_type": "stream",
     "text": [
      "\r",
      "  3%|▎         | 18/678 [00:08<04:58,  2.21it/s]"
     ]
    },
    {
     "name": "stdout",
     "output_type": "stream",
     "text": [
      "bone-brown-125\n",
      "I'm doing the thing.\n"
     ]
    },
    {
     "name": "stderr",
     "output_type": "stream",
     "text": [
      "\r",
      "  3%|▎         | 19/678 [00:09<04:54,  2.24it/s]"
     ]
    },
    {
     "name": "stdout",
     "output_type": "stream",
     "text": [
      "bone-brown-13\n",
      "I'm doing the thing.\n"
     ]
    },
    {
     "name": "stderr",
     "output_type": "stream",
     "text": [
      "  3%|▎         | 21/678 [00:09<03:20,  3.27it/s]"
     ]
    },
    {
     "name": "stdout",
     "output_type": "stream",
     "text": [
      "bone-brown-14\n",
      "I'm doing the thing.\n",
      "bone-brown-15\n",
      "I'm doing the thing.\n"
     ]
    },
    {
     "name": "stderr",
     "output_type": "stream",
     "text": [
      "\r",
      "  3%|▎         | 22/678 [00:09<03:12,  3.40it/s]"
     ]
    },
    {
     "name": "stdout",
     "output_type": "stream",
     "text": [
      "bone-brown-17\n",
      "I'm doing the thing.\n"
     ]
    },
    {
     "name": "stderr",
     "output_type": "stream",
     "text": [
      "\r",
      "  3%|▎         | 23/678 [00:10<03:08,  3.47it/s]"
     ]
    },
    {
     "name": "stdout",
     "output_type": "stream",
     "text": [
      "bone-brown-19\n",
      "I'm doing the thing.\n"
     ]
    },
    {
     "name": "stderr",
     "output_type": "stream",
     "text": [
      "\r",
      "  4%|▎         | 24/678 [00:10<03:47,  2.88it/s]"
     ]
    },
    {
     "name": "stdout",
     "output_type": "stream",
     "text": [
      "bone-brown-2\n",
      "I'm doing the thing.\n"
     ]
    },
    {
     "name": "stderr",
     "output_type": "stream",
     "text": [
      "\r",
      "  4%|▎         | 25/678 [00:11<04:57,  2.19it/s]"
     ]
    },
    {
     "name": "stdout",
     "output_type": "stream",
     "text": [
      "bone-brown-20\n",
      "I'm doing the thing.\n"
     ]
    },
    {
     "name": "stderr",
     "output_type": "stream",
     "text": [
      "\r",
      "  4%|▍         | 26/678 [00:11<05:10,  2.10it/s]"
     ]
    },
    {
     "name": "stdout",
     "output_type": "stream",
     "text": [
      "bone-brown-21\n",
      "I'm doing the thing.\n"
     ]
    },
    {
     "name": "stderr",
     "output_type": "stream",
     "text": [
      "  4%|▍         | 28/678 [00:12<04:53,  2.22it/s]"
     ]
    },
    {
     "name": "stdout",
     "output_type": "stream",
     "text": [
      "bone-brown-22\n",
      "I'm doing the thing.\n",
      "bone-brown-23\n",
      "I'm doing the thing.\n"
     ]
    },
    {
     "name": "stderr",
     "output_type": "stream",
     "text": [
      "\r",
      "  4%|▍         | 29/678 [00:13<04:42,  2.30it/s]"
     ]
    },
    {
     "name": "stdout",
     "output_type": "stream",
     "text": [
      "bone-brown-24\n",
      "I'm doing the thing.\n",
      "bone-brown-25\n",
      "I'm doing the thing.\n"
     ]
    },
    {
     "name": "stderr",
     "output_type": "stream",
     "text": [
      "  5%|▍         | 33/678 [00:14<03:41,  2.91it/s]"
     ]
    },
    {
     "name": "stdout",
     "output_type": "stream",
     "text": [
      "bone-brown-27\n",
      "I'm doing the thing.\n",
      "bone-brown-29\n",
      "I'm doing the thing.\n",
      "bone-brown-3\n",
      "I'm doing the thing.\n",
      "bone-brown-31\n",
      "I'm doing the thing.\n"
     ]
    },
    {
     "name": "stderr",
     "output_type": "stream",
     "text": [
      "  5%|▌         | 36/678 [00:15<02:50,  3.77it/s]"
     ]
    },
    {
     "name": "stdout",
     "output_type": "stream",
     "text": [
      "bone-brown-32\n",
      "I'm doing the thing.\n",
      "bone-brown-34\n",
      "I'm doing the thing.\n"
     ]
    },
    {
     "name": "stderr",
     "output_type": "stream",
     "text": [
      "\r",
      "  5%|▌         | 37/678 [00:16<04:24,  2.42it/s]"
     ]
    },
    {
     "name": "stdout",
     "output_type": "stream",
     "text": [
      "bone-brown-35\n",
      "I'm doing the thing.\n"
     ]
    },
    {
     "name": "stderr",
     "output_type": "stream",
     "text": [
      "\r",
      "  6%|▌         | 38/678 [00:16<04:14,  2.51it/s]"
     ]
    },
    {
     "name": "stdout",
     "output_type": "stream",
     "text": [
      "bone-brown-37\n",
      "I'm doing the thing.\n"
     ]
    },
    {
     "name": "stderr",
     "output_type": "stream",
     "text": [
      "\r",
      "  6%|▌         | 39/678 [00:17<04:38,  2.29it/s]"
     ]
    },
    {
     "name": "stdout",
     "output_type": "stream",
     "text": [
      "bone-brown-38\n",
      "I'm doing the thing.\n"
     ]
    },
    {
     "name": "stderr",
     "output_type": "stream",
     "text": [
      "\r",
      "  6%|▌         | 40/678 [00:17<05:42,  1.86it/s]"
     ]
    },
    {
     "name": "stdout",
     "output_type": "stream",
     "text": [
      "bone-brown-39\n",
      "I'm doing the thing.\n"
     ]
    },
    {
     "name": "stderr",
     "output_type": "stream",
     "text": [
      "\r",
      "  6%|▌         | 41/678 [00:18<06:03,  1.75it/s]"
     ]
    },
    {
     "name": "stdout",
     "output_type": "stream",
     "text": [
      "bone-brown-41\n",
      "I'm doing the thing.\n"
     ]
    },
    {
     "name": "stderr",
     "output_type": "stream",
     "text": [
      "\r",
      "  6%|▌         | 42/678 [00:19<05:38,  1.88it/s]"
     ]
    },
    {
     "name": "stdout",
     "output_type": "stream",
     "text": [
      "bone-brown-42\n",
      "I'm doing the thing.\n"
     ]
    },
    {
     "name": "stderr",
     "output_type": "stream",
     "text": [
      "\r",
      "  6%|▋         | 43/678 [00:19<05:33,  1.90it/s]"
     ]
    },
    {
     "name": "stdout",
     "output_type": "stream",
     "text": [
      "bone-brown-44\n",
      "I'm doing the thing.\n"
     ]
    },
    {
     "name": "stderr",
     "output_type": "stream",
     "text": [
      "\r",
      "  6%|▋         | 44/678 [00:20<07:15,  1.46it/s]"
     ]
    },
    {
     "name": "stdout",
     "output_type": "stream",
     "text": [
      "bone-brown-46\n",
      "I'm doing the thing.\n",
      "bone-brown-50\n",
      "I'm doing the thing.\n"
     ]
    },
    {
     "name": "stderr",
     "output_type": "stream",
     "text": [
      "\r",
      "  7%|▋         | 46/678 [00:21<05:48,  1.81it/s]"
     ]
    },
    {
     "name": "stdout",
     "output_type": "stream",
     "text": [
      "bone-brown-51\n",
      "I'm doing the thing.\n"
     ]
    },
    {
     "name": "stderr",
     "output_type": "stream",
     "text": [
      "\r",
      "  7%|▋         | 47/678 [00:21<05:20,  1.97it/s]"
     ]
    },
    {
     "name": "stdout",
     "output_type": "stream",
     "text": [
      "bone-brown-52\n",
      "I'm doing the thing.\n"
     ]
    },
    {
     "name": "stderr",
     "output_type": "stream",
     "text": [
      "\r",
      "  7%|▋         | 48/678 [00:21<04:34,  2.30it/s]"
     ]
    },
    {
     "name": "stdout",
     "output_type": "stream",
     "text": [
      "bone-brown-53\n",
      "I'm doing the thing.\n",
      "bone-brown-54\n",
      "I'm doing the thing.\n"
     ]
    },
    {
     "name": "stderr",
     "output_type": "stream",
     "text": [
      "\r",
      "  7%|▋         | 50/678 [00:22<03:27,  3.03it/s]"
     ]
    },
    {
     "name": "stdout",
     "output_type": "stream",
     "text": [
      "bone-brown-56\n",
      "I'm doing the thing.\n"
     ]
    },
    {
     "name": "stderr",
     "output_type": "stream",
     "text": [
      "\r",
      "  8%|▊         | 51/678 [00:22<03:36,  2.90it/s]"
     ]
    },
    {
     "name": "stdout",
     "output_type": "stream",
     "text": [
      "bone-brown-58\n",
      "I'm doing the thing.\n"
     ]
    },
    {
     "name": "stderr",
     "output_type": "stream",
     "text": [
      "\r",
      "  8%|▊         | 52/678 [00:23<03:55,  2.66it/s]"
     ]
    },
    {
     "name": "stdout",
     "output_type": "stream",
     "text": [
      "bone-brown-59\n",
      "I'm doing the thing.\n"
     ]
    },
    {
     "name": "stderr",
     "output_type": "stream",
     "text": [
      "\r",
      "  8%|▊         | 53/678 [00:23<04:56,  2.10it/s]"
     ]
    },
    {
     "name": "stdout",
     "output_type": "stream",
     "text": [
      "bone-brown-6\n",
      "I'm doing the thing.\n"
     ]
    },
    {
     "name": "stderr",
     "output_type": "stream",
     "text": [
      "\r",
      "  8%|▊         | 54/678 [00:24<05:55,  1.75it/s]"
     ]
    },
    {
     "name": "stdout",
     "output_type": "stream",
     "text": [
      "bone-brown-63\n",
      "I'm doing the thing.\n"
     ]
    },
    {
     "name": "stderr",
     "output_type": "stream",
     "text": [
      "\r",
      "  8%|▊         | 55/678 [00:25<06:51,  1.51it/s]"
     ]
    },
    {
     "name": "stdout",
     "output_type": "stream",
     "text": [
      "bone-brown-64\n",
      "I'm doing the thing.\n"
     ]
    },
    {
     "name": "stderr",
     "output_type": "stream",
     "text": [
      "\r",
      "  8%|▊         | 56/678 [00:25<05:41,  1.82it/s]"
     ]
    },
    {
     "name": "stdout",
     "output_type": "stream",
     "text": [
      "bone-brown-65\n",
      "I'm doing the thing.\n"
     ]
    },
    {
     "name": "stderr",
     "output_type": "stream",
     "text": [
      "  9%|▊         | 58/678 [00:26<04:16,  2.42it/s]"
     ]
    },
    {
     "name": "stdout",
     "output_type": "stream",
     "text": [
      "bone-brown-68\n",
      "I'm doing the thing.\n",
      "bone-brown-70\n",
      "I'm doing the thing.\n"
     ]
    },
    {
     "name": "stderr",
     "output_type": "stream",
     "text": [
      "  9%|▉         | 60/678 [00:27<03:31,  2.92it/s]"
     ]
    },
    {
     "name": "stdout",
     "output_type": "stream",
     "text": [
      "bone-brown-72\n",
      "I'm doing the thing.\n",
      "bone-brown-73\n",
      "I'm doing the thing.\n"
     ]
    },
    {
     "name": "stderr",
     "output_type": "stream",
     "text": [
      "\r",
      "  9%|▉         | 61/678 [00:27<03:32,  2.90it/s]"
     ]
    },
    {
     "name": "stdout",
     "output_type": "stream",
     "text": [
      "bone-brown-74\n",
      "I'm doing the thing.\n"
     ]
    },
    {
     "name": "stderr",
     "output_type": "stream",
     "text": [
      "\r",
      "  9%|▉         | 62/678 [00:27<03:08,  3.27it/s]"
     ]
    },
    {
     "name": "stdout",
     "output_type": "stream",
     "text": [
      "bone-brown-75\n",
      "I'm doing the thing.\n"
     ]
    },
    {
     "name": "stderr",
     "output_type": "stream",
     "text": [
      "  9%|▉         | 64/678 [00:28<02:42,  3.77it/s]"
     ]
    },
    {
     "name": "stdout",
     "output_type": "stream",
     "text": [
      "bone-brown-76\n",
      "I'm doing the thing.\n",
      "bone-brown-77\n",
      "I'm doing the thing.\n"
     ]
    },
    {
     "name": "stderr",
     "output_type": "stream",
     "text": [
      " 10%|▉         | 66/678 [00:28<02:28,  4.11it/s]"
     ]
    },
    {
     "name": "stdout",
     "output_type": "stream",
     "text": [
      "bone-brown-78\n",
      "I'm doing the thing.\n",
      "bone-brown-8\n",
      "I'm doing the thing.\n"
     ]
    },
    {
     "name": "stderr",
     "output_type": "stream",
     "text": [
      "\r",
      " 10%|▉         | 67/678 [00:29<03:07,  3.25it/s]"
     ]
    },
    {
     "name": "stdout",
     "output_type": "stream",
     "text": [
      "bone-brown-81\n",
      "I'm doing the thing.\n"
     ]
    },
    {
     "name": "stderr",
     "output_type": "stream",
     "text": [
      "\r",
      " 10%|█         | 68/678 [00:29<02:53,  3.51it/s]"
     ]
    },
    {
     "name": "stdout",
     "output_type": "stream",
     "text": [
      "bone-brown-83\n",
      "I'm doing the thing.\n"
     ]
    },
    {
     "name": "stderr",
     "output_type": "stream",
     "text": [
      "\r",
      " 10%|█         | 69/678 [00:30<03:54,  2.60it/s]"
     ]
    },
    {
     "name": "stdout",
     "output_type": "stream",
     "text": [
      "bone-brown-84\n",
      "I'm doing the thing.\n"
     ]
    },
    {
     "name": "stderr",
     "output_type": "stream",
     "text": [
      "\r",
      " 10%|█         | 70/678 [00:31<08:16,  1.22it/s]"
     ]
    },
    {
     "name": "stdout",
     "output_type": "stream",
     "text": [
      "bone-brown-85\n",
      "I'm doing the thing.\n"
     ]
    },
    {
     "name": "stderr",
     "output_type": "stream",
     "text": [
      "\r",
      " 10%|█         | 71/678 [00:32<07:10,  1.41it/s]"
     ]
    },
    {
     "name": "stdout",
     "output_type": "stream",
     "text": [
      "bone-brown-86\n",
      "I'm doing the thing.\n"
     ]
    },
    {
     "name": "stderr",
     "output_type": "stream",
     "text": [
      " 11%|█         | 73/678 [00:32<04:46,  2.11it/s]"
     ]
    },
    {
     "name": "stdout",
     "output_type": "stream",
     "text": [
      "bone-brown-88\n",
      "I'm doing the thing.\n",
      "bone-brown-89\n",
      "I'm doing the thing.\n"
     ]
    },
    {
     "name": "stderr",
     "output_type": "stream",
     "text": [
      "\r",
      " 11%|█         | 74/678 [00:33<05:05,  1.97it/s]"
     ]
    },
    {
     "name": "stdout",
     "output_type": "stream",
     "text": [
      "bone-brown-91\n",
      "I'm doing the thing.\n"
     ]
    },
    {
     "name": "stderr",
     "output_type": "stream",
     "text": [
      "\r",
      " 11%|█         | 75/678 [00:34<05:36,  1.79it/s]"
     ]
    },
    {
     "name": "stdout",
     "output_type": "stream",
     "text": [
      "bone-brown-92\n",
      "I'm doing the thing.\n"
     ]
    },
    {
     "name": "stderr",
     "output_type": "stream",
     "text": [
      "\r",
      " 11%|█         | 76/678 [00:35<07:52,  1.27it/s]"
     ]
    },
    {
     "name": "stdout",
     "output_type": "stream",
     "text": [
      "bone-brown-94\n",
      "I'm doing the thing.\n"
     ]
    },
    {
     "name": "stderr",
     "output_type": "stream",
     "text": [
      "\r",
      " 11%|█▏        | 77/678 [00:35<06:45,  1.48it/s]"
     ]
    },
    {
     "name": "stdout",
     "output_type": "stream",
     "text": [
      "bone-brown-95\n",
      "I'm doing the thing.\n"
     ]
    },
    {
     "name": "stderr",
     "output_type": "stream",
     "text": [
      "\r",
      " 12%|█▏        | 78/678 [00:36<05:44,  1.74it/s]"
     ]
    },
    {
     "name": "stdout",
     "output_type": "stream",
     "text": [
      "bone-brown-96\n",
      "I'm doing the thing.\n"
     ]
    },
    {
     "name": "stderr",
     "output_type": "stream",
     "text": [
      "\r",
      " 12%|█▏        | 79/678 [00:36<06:07,  1.63it/s]"
     ]
    },
    {
     "name": "stdout",
     "output_type": "stream",
     "text": [
      "bone-brown-97\n",
      "I'm doing the thing.\n"
     ]
    },
    {
     "name": "stderr",
     "output_type": "stream",
     "text": [
      "\r",
      " 12%|█▏        | 80/678 [00:37<04:53,  2.03it/s]"
     ]
    },
    {
     "name": "stdout",
     "output_type": "stream",
     "text": [
      "bone-brown-99\n",
      "I'm doing the thing.\n"
     ]
    },
    {
     "name": "stderr",
     "output_type": "stream",
     "text": [
      " 12%|█▏        | 83/678 [00:37<02:34,  3.84it/s]"
     ]
    },
    {
     "name": "stdout",
     "output_type": "stream",
     "text": [
      "bone-china-002\n",
      "I'm doing the thing.\n",
      "bone-china-004\n",
      "I'm doing the thing.\n",
      "bone-china-005\n",
      "I'm doing the thing.\n"
     ]
    },
    {
     "name": "stderr",
     "output_type": "stream",
     "text": [
      "\r",
      " 12%|█▏        | 84/678 [00:37<02:15,  4.38it/s]"
     ]
    },
    {
     "name": "stdout",
     "output_type": "stream",
     "text": [
      "bone-china-006\n",
      "I'm doing the thing.\n",
      "bone-china-008\n",
      "I'm doing the thing.\n"
     ]
    },
    {
     "name": "stderr",
     "output_type": "stream",
     "text": [
      " 13%|█▎        | 88/678 [00:38<01:29,  6.61it/s]"
     ]
    },
    {
     "name": "stdout",
     "output_type": "stream",
     "text": [
      "bone-china-009\n",
      "I'm doing the thing.\n",
      "bone-china-010\n",
      "I'm doing the thing.\n",
      "bone-china-014\n",
      "I'm doing the thing.\n"
     ]
    },
    {
     "name": "stderr",
     "output_type": "stream",
     "text": [
      "\r",
      " 13%|█▎        | 90/678 [00:38<01:27,  6.72it/s]"
     ]
    },
    {
     "name": "stdout",
     "output_type": "stream",
     "text": [
      "bone-china-015\n",
      "I'm doing the thing.\n",
      "bone-china-019\n",
      "I'm doing the thing.\n"
     ]
    },
    {
     "name": "stderr",
     "output_type": "stream",
     "text": [
      " 14%|█▎        | 93/678 [00:38<01:10,  8.32it/s]"
     ]
    },
    {
     "name": "stdout",
     "output_type": "stream",
     "text": [
      "bone-china-020\n",
      "I'm doing the thing.\n",
      "bone-china-021\n",
      "I'm doing the thing.\n",
      "bone-china-022\n",
      "I'm doing the thing.\n"
     ]
    },
    {
     "name": "stderr",
     "output_type": "stream",
     "text": [
      "\r",
      " 14%|█▍        | 95/678 [00:38<01:03,  9.15it/s]"
     ]
    },
    {
     "name": "stdout",
     "output_type": "stream",
     "text": [
      "bone-china-023\n",
      "I'm doing the thing.\n",
      "4dim\n",
      "4dim\n",
      "4dim\n",
      "bone-china-027\n",
      "I'm doing the thing.\n",
      "bone-china-028\n",
      "I'm doing the thing.\n"
     ]
    },
    {
     "name": "stderr",
     "output_type": "stream",
     "text": [
      "\r",
      " 14%|█▍        | 97/678 [00:38<01:02,  9.32it/s]"
     ]
    },
    {
     "name": "stdout",
     "output_type": "stream",
     "text": [
      "bone-china-029\n",
      "I'm doing the thing.\n",
      "bone-china-031\n",
      "I'm doing the thing.\n"
     ]
    },
    {
     "name": "stderr",
     "output_type": "stream",
     "text": [
      " 15%|█▍        | 100/678 [00:39<01:03,  9.17it/s]"
     ]
    },
    {
     "name": "stdout",
     "output_type": "stream",
     "text": [
      "bone-china-033\n",
      "I'm doing the thing.\n",
      "bone-china-035\n",
      "I'm doing the thing.\n",
      "bone-china-037\n",
      "I'm doing the thing.\n"
     ]
    },
    {
     "name": "stderr",
     "output_type": "stream",
     "text": [
      " 15%|█▌        | 104/678 [00:39<00:54, 10.55it/s]"
     ]
    },
    {
     "name": "stdout",
     "output_type": "stream",
     "text": [
      "bone-china-038\n",
      "I'm doing the thing.\n",
      "bone-china-039\n",
      "I'm doing the thing.\n",
      "bone-china-041\n",
      "I'm doing the thing.\n"
     ]
    },
    {
     "name": "stderr",
     "output_type": "stream",
     "text": [
      "\r",
      " 16%|█▌        | 106/678 [00:39<00:58,  9.71it/s]"
     ]
    },
    {
     "name": "stdout",
     "output_type": "stream",
     "text": [
      "bone-china-044\n",
      "I'm doing the thing.\n",
      "bone-china-045\n",
      "I'm doing the thing.\n"
     ]
    },
    {
     "name": "stderr",
     "output_type": "stream",
     "text": [
      "\r",
      " 16%|█▌        | 108/678 [00:40<01:18,  7.27it/s]"
     ]
    },
    {
     "name": "stdout",
     "output_type": "stream",
     "text": [
      "bone-china-046\n",
      "I'm doing the thing.\n",
      "bone-china-047\n",
      "I'm doing the thing.\n"
     ]
    },
    {
     "name": "stderr",
     "output_type": "stream",
     "text": [
      " 16%|█▋        | 111/678 [00:40<00:59,  9.46it/s]"
     ]
    },
    {
     "name": "stdout",
     "output_type": "stream",
     "text": [
      "bone-china-050\n",
      "I'm doing the thing.\n",
      "bone-china-051\n",
      "I'm doing the thing.\n",
      "bone-china-052\n",
      "I'm doing the thing.\n",
      "bone-china-053\n",
      "I'm doing the thing.\n"
     ]
    },
    {
     "name": "stderr",
     "output_type": "stream",
     "text": [
      " 17%|█▋        | 115/678 [00:40<00:55, 10.18it/s]"
     ]
    },
    {
     "name": "stdout",
     "output_type": "stream",
     "text": [
      "bone-china-055\n",
      "I'm doing the thing.\n",
      "bone-china-056\n",
      "I'm doing the thing.\n",
      "bone-china-058\n",
      "I'm doing the thing.\n"
     ]
    },
    {
     "name": "stderr",
     "output_type": "stream",
     "text": [
      "\r",
      " 17%|█▋        | 117/678 [00:41<00:56,  9.97it/s]"
     ]
    },
    {
     "name": "stdout",
     "output_type": "stream",
     "text": [
      "bone-china-059\n",
      "I'm doing the thing.\n",
      "bone-china-060\n",
      "I'm doing the thing.\n",
      "bone-china-061\n",
      "I'm doing the thing.\n"
     ]
    },
    {
     "name": "stderr",
     "output_type": "stream",
     "text": [
      "\r",
      " 18%|█▊        | 119/678 [00:41<00:52, 10.65it/s]"
     ]
    },
    {
     "name": "stdout",
     "output_type": "stream",
     "text": [
      "bone-china-062\n",
      "I'm doing the thing.\n",
      "bone-china-065\n",
      "I'm doing the thing.\n"
     ]
    },
    {
     "name": "stderr",
     "output_type": "stream",
     "text": [
      " 18%|█▊        | 123/678 [00:41<00:50, 10.98it/s]"
     ]
    },
    {
     "name": "stdout",
     "output_type": "stream",
     "text": [
      "bone-china-066\n",
      "I'm doing the thing.\n",
      "bone-china-067\n",
      "I'm doing the thing.\n",
      "bone-china-068\n",
      "I'm doing the thing.\n",
      "bone-china-069\n",
      "I'm doing the thing.\n"
     ]
    },
    {
     "name": "stderr",
     "output_type": "stream",
     "text": [
      "\r",
      " 18%|█▊        | 125/678 [00:41<00:50, 11.00it/s]"
     ]
    },
    {
     "name": "stdout",
     "output_type": "stream",
     "text": [
      "bone-china-070\n",
      "I'm doing the thing.\n",
      "bone-china-071\n",
      "I'm doing the thing.\n"
     ]
    },
    {
     "name": "stderr",
     "output_type": "stream",
     "text": [
      "\r",
      " 19%|█▊        | 127/678 [00:42<00:58,  9.40it/s]"
     ]
    },
    {
     "name": "stdout",
     "output_type": "stream",
     "text": [
      "bone-china-072\n",
      "I'm doing the thing.\n"
     ]
    },
    {
     "name": "stderr",
     "output_type": "stream",
     "text": [
      "\r",
      " 19%|█▉        | 129/678 [00:42<01:09,  7.92it/s]"
     ]
    },
    {
     "name": "stdout",
     "output_type": "stream",
     "text": [
      "bone-china-074\n",
      "I'm doing the thing.\n",
      "bone-china-075\n",
      "I'm doing the thing.\n"
     ]
    },
    {
     "name": "stderr",
     "output_type": "stream",
     "text": [
      "\r",
      " 19%|█▉        | 130/678 [00:42<01:15,  7.25it/s]"
     ]
    },
    {
     "name": "stdout",
     "output_type": "stream",
     "text": [
      "bone-china-076\n",
      "I'm doing the thing.\n"
     ]
    },
    {
     "name": "stderr",
     "output_type": "stream",
     "text": [
      " 19%|█▉        | 132/678 [00:43<01:36,  5.67it/s]"
     ]
    },
    {
     "name": "stdout",
     "output_type": "stream",
     "text": [
      "bone-china-079\n",
      "I'm doing the thing.\n",
      "bone-china-080\n",
      "I'm doing the thing.\n"
     ]
    },
    {
     "name": "stderr",
     "output_type": "stream",
     "text": [
      " 20%|█▉        | 134/678 [00:43<01:21,  6.67it/s]"
     ]
    },
    {
     "name": "stdout",
     "output_type": "stream",
     "text": [
      "bone-china-081\n",
      "I'm doing the thing.\n",
      "bone-china-083\n",
      "I'm doing the thing.\n",
      "bone-china-084\n",
      "I'm doing the thing.\n"
     ]
    },
    {
     "name": "stderr",
     "output_type": "stream",
     "text": [
      " 20%|██        | 137/678 [00:43<01:09,  7.79it/s]"
     ]
    },
    {
     "name": "stdout",
     "output_type": "stream",
     "text": [
      "bone-china-085\n",
      "I'm doing the thing.\n",
      "bone-china-086\n",
      "I'm doing the thing.\n"
     ]
    },
    {
     "name": "stderr",
     "output_type": "stream",
     "text": [
      " 21%|██        | 139/678 [00:44<01:15,  7.12it/s]"
     ]
    },
    {
     "name": "stdout",
     "output_type": "stream",
     "text": [
      "bone-china-087\n",
      "I'm doing the thing.\n",
      "bone-china-088\n",
      "I'm doing the thing.\n"
     ]
    },
    {
     "name": "stderr",
     "output_type": "stream",
     "text": [
      " 21%|██        | 142/678 [00:44<01:01,  8.65it/s]"
     ]
    },
    {
     "name": "stdout",
     "output_type": "stream",
     "text": [
      "bone-china-089\n",
      "I'm doing the thing.\n",
      "bone-china-090\n",
      "I'm doing the thing.\n",
      "bone-china-092\n",
      "I'm doing the thing.\n"
     ]
    },
    {
     "name": "stderr",
     "output_type": "stream",
     "text": [
      "\r",
      " 21%|██        | 144/678 [00:44<01:00,  8.85it/s]"
     ]
    },
    {
     "name": "stdout",
     "output_type": "stream",
     "text": [
      "bone-china-093\n",
      "I'm doing the thing.\n",
      "bone-china-099\n",
      "I'm doing the thing.\n"
     ]
    },
    {
     "name": "stderr",
     "output_type": "stream",
     "text": [
      "\r",
      " 22%|██▏       | 146/678 [00:44<00:59,  8.91it/s]"
     ]
    },
    {
     "name": "stdout",
     "output_type": "stream",
     "text": [
      "bone-china-100\n",
      "I'm doing the thing.\n",
      "bone-china-101\n",
      "I'm doing the thing.\n"
     ]
    },
    {
     "name": "stderr",
     "output_type": "stream",
     "text": [
      "\r",
      " 22%|██▏       | 147/678 [00:44<01:01,  8.70it/s]"
     ]
    },
    {
     "name": "stdout",
     "output_type": "stream",
     "text": [
      "bone-china-103\n",
      "I'm doing the thing.\n",
      "bone-china-104\n",
      "I'm doing the thing.\n"
     ]
    },
    {
     "name": "stderr",
     "output_type": "stream",
     "text": [
      "\r",
      " 22%|██▏       | 149/678 [00:45<01:01,  8.59it/s]"
     ]
    },
    {
     "name": "stdout",
     "output_type": "stream",
     "text": [
      "bone-china-105\n",
      "I'm doing the thing.\n",
      "bone-china-107\n",
      "I'm doing the thing.\n"
     ]
    },
    {
     "name": "stderr",
     "output_type": "stream",
     "text": [
      " 23%|██▎       | 153/678 [00:45<00:55,  9.38it/s]"
     ]
    },
    {
     "name": "stdout",
     "output_type": "stream",
     "text": [
      "bone-china-109\n",
      "I'm doing the thing.\n",
      "bone-china-110\n",
      "I'm doing the thing.\n",
      "bone-china-113\n",
      "I'm doing the thing.\n"
     ]
    },
    {
     "name": "stderr",
     "output_type": "stream",
     "text": [
      " 23%|██▎       | 155/678 [00:45<01:00,  8.64it/s]"
     ]
    },
    {
     "name": "stdout",
     "output_type": "stream",
     "text": [
      "bone-china-114\n",
      "I'm doing the thing.\n",
      "bone-china-117\n",
      "I'm doing the thing.\n"
     ]
    },
    {
     "name": "stderr",
     "output_type": "stream",
     "text": [
      " 23%|██▎       | 157/678 [00:46<01:09,  7.54it/s]"
     ]
    },
    {
     "name": "stdout",
     "output_type": "stream",
     "text": [
      "bone-china-118\n",
      "I'm doing the thing.\n",
      "bone-china-121\n",
      "I'm doing the thing.\n"
     ]
    },
    {
     "name": "stderr",
     "output_type": "stream",
     "text": [
      "\r",
      " 23%|██▎       | 159/678 [00:46<01:05,  7.97it/s]"
     ]
    },
    {
     "name": "stdout",
     "output_type": "stream",
     "text": [
      "bone-china-122\n",
      "I'm doing the thing.\n",
      "bone-china-123\n",
      "I'm doing the thing.\n"
     ]
    },
    {
     "name": "stderr",
     "output_type": "stream",
     "text": [
      "\r",
      " 24%|██▎       | 161/678 [00:46<01:02,  8.32it/s]"
     ]
    },
    {
     "name": "stdout",
     "output_type": "stream",
     "text": [
      "bone-china-124\n",
      "I'm doing the thing.\n",
      "bone-china-125\n",
      "I'm doing the thing.\n"
     ]
    },
    {
     "name": "stderr",
     "output_type": "stream",
     "text": [
      "\r",
      " 24%|██▍       | 163/678 [00:46<00:59,  8.62it/s]"
     ]
    },
    {
     "name": "stdout",
     "output_type": "stream",
     "text": [
      "bone-china-126\n",
      "I'm doing the thing.\n",
      "bone-china-127\n",
      "I'm doing the thing.\n"
     ]
    },
    {
     "name": "stderr",
     "output_type": "stream",
     "text": [
      "\r",
      " 24%|██▍       | 164/678 [00:47<01:07,  7.64it/s]"
     ]
    },
    {
     "name": "stdout",
     "output_type": "stream",
     "text": [
      "bone-china-131\n",
      "I'm doing the thing.\n",
      "bone-china-132\n",
      "I'm doing the thing.\n"
     ]
    },
    {
     "name": "stderr",
     "output_type": "stream",
     "text": [
      "\r",
      " 24%|██▍       | 166/678 [00:47<01:02,  8.19it/s]"
     ]
    },
    {
     "name": "stdout",
     "output_type": "stream",
     "text": [
      "bone-china-133\n",
      "I'm doing the thing.\n",
      "bone-china-134\n",
      "I'm doing the thing.\n"
     ]
    },
    {
     "name": "stderr",
     "output_type": "stream",
     "text": [
      " 25%|██▍       | 169/678 [00:47<01:01,  8.21it/s]"
     ]
    },
    {
     "name": "stdout",
     "output_type": "stream",
     "text": [
      "bone-china-135\n",
      "I'm doing the thing.\n",
      "bone-china-136\n",
      "I'm doing the thing.\n"
     ]
    },
    {
     "name": "stderr",
     "output_type": "stream",
     "text": [
      " 25%|██▌       | 171/678 [00:47<01:00,  8.38it/s]"
     ]
    },
    {
     "name": "stdout",
     "output_type": "stream",
     "text": [
      "bone-china-138\n",
      "I'm doing the thing.\n",
      "bone-china-140\n",
      "I'm doing the thing.\n"
     ]
    },
    {
     "name": "stderr",
     "output_type": "stream",
     "text": [
      "\r",
      " 25%|██▌       | 172/678 [00:47<01:02,  8.11it/s]"
     ]
    },
    {
     "name": "stdout",
     "output_type": "stream",
     "text": [
      "bone-china-143\n",
      "I'm doing the thing.\n",
      "bone-china-145\n",
      "I'm doing the thing.\n"
     ]
    },
    {
     "name": "stderr",
     "output_type": "stream",
     "text": [
      " 26%|██▌       | 175/678 [00:48<01:03,  7.88it/s]"
     ]
    },
    {
     "name": "stdout",
     "output_type": "stream",
     "text": [
      "bone-china-146\n",
      "I'm doing the thing.\n",
      "bone-china-148\n",
      "I'm doing the thing.\n"
     ]
    },
    {
     "name": "stderr",
     "output_type": "stream",
     "text": [
      " 26%|██▌       | 177/678 [00:48<01:11,  7.04it/s]"
     ]
    },
    {
     "name": "stdout",
     "output_type": "stream",
     "text": [
      "bone-china-149\n",
      "I'm doing the thing.\n",
      "bone-china-152\n",
      "I'm doing the thing.\n"
     ]
    },
    {
     "name": "stderr",
     "output_type": "stream",
     "text": [
      " 27%|██▋       | 180/678 [00:48<00:54,  9.11it/s]"
     ]
    },
    {
     "name": "stdout",
     "output_type": "stream",
     "text": [
      "bone-china-153\n",
      "I'm doing the thing.\n",
      "bone-china-154\n",
      "I'm doing the thing.\n",
      "bone-china-158\n",
      "I'm doing the thing.\n"
     ]
    },
    {
     "name": "stderr",
     "output_type": "stream",
     "text": [
      "\r",
      " 27%|██▋       | 182/678 [00:49<00:51,  9.58it/s]"
     ]
    },
    {
     "name": "stdout",
     "output_type": "stream",
     "text": [
      "bone-china-159\n",
      "I'm doing the thing.\n",
      "bone-china-160\n",
      "I'm doing the thing.\n"
     ]
    },
    {
     "name": "stderr",
     "output_type": "stream",
     "text": [
      "\r",
      " 27%|██▋       | 183/678 [00:49<00:55,  8.89it/s]"
     ]
    },
    {
     "name": "stdout",
     "output_type": "stream",
     "text": [
      "bone-china-161\n",
      "I'm doing the thing.\n",
      "bone-china-164\n",
      "I'm doing the thing.\n"
     ]
    },
    {
     "name": "stderr",
     "output_type": "stream",
     "text": [
      " 28%|██▊       | 187/678 [00:49<00:47, 10.30it/s]"
     ]
    },
    {
     "name": "stdout",
     "output_type": "stream",
     "text": [
      "bone-china-166\n",
      "I'm doing the thing.\n",
      "bone-china-167\n",
      "I'm doing the thing.\n",
      "bone-china-169\n",
      "I'm doing the thing.\n"
     ]
    },
    {
     "name": "stderr",
     "output_type": "stream",
     "text": [
      "\r",
      " 28%|██▊       | 189/678 [00:49<00:47, 10.32it/s]"
     ]
    },
    {
     "name": "stdout",
     "output_type": "stream",
     "text": [
      "bone-china-170\n",
      "I'm doing the thing.\n",
      "bone-china-174\n",
      "I'm doing the thing.\n"
     ]
    },
    {
     "name": "stderr",
     "output_type": "stream",
     "text": [
      "\r",
      " 28%|██▊       | 191/678 [00:50<00:54,  8.90it/s]"
     ]
    },
    {
     "name": "stdout",
     "output_type": "stream",
     "text": [
      "bone-china-175\n",
      "I'm doing the thing.\n",
      "bone-china-176\n",
      "I'm doing the thing.\n"
     ]
    },
    {
     "name": "stderr",
     "output_type": "stream",
     "text": [
      " 29%|██▊       | 194/678 [00:50<00:51,  9.34it/s]"
     ]
    },
    {
     "name": "stdout",
     "output_type": "stream",
     "text": [
      "bone-china-177\n",
      "I'm doing the thing.\n",
      "bone-china-180\n",
      "I'm doing the thing.\n",
      "bone-china-184\n",
      "I'm doing the thing.\n"
     ]
    },
    {
     "name": "stderr",
     "output_type": "stream",
     "text": [
      "\r",
      " 29%|██▉       | 197/678 [00:50<00:38, 12.38it/s]"
     ]
    },
    {
     "name": "stdout",
     "output_type": "stream",
     "text": [
      "bone-china-186\n",
      "I'm doing the thing.\n",
      "bone-china-187\n",
      "I'm doing the thing.\n",
      "bone-china-189\n",
      "I'm doing the thing.\n",
      "bone-china-190\n",
      "I'm doing the thing.\n"
     ]
    },
    {
     "name": "stderr",
     "output_type": "stream",
     "text": [
      " 30%|██▉       | 201/678 [00:50<00:35, 13.62it/s]"
     ]
    },
    {
     "name": "stdout",
     "output_type": "stream",
     "text": [
      "bone-china-192\n",
      "I'm doing the thing.\n",
      "bone-china-193\n",
      "I'm doing the thing.\n",
      "bone-china-194\n",
      "I'm doing the thing.\n"
     ]
    },
    {
     "name": "stderr",
     "output_type": "stream",
     "text": [
      "\r",
      " 30%|██▉       | 203/678 [00:51<00:46, 10.22it/s]"
     ]
    },
    {
     "name": "stdout",
     "output_type": "stream",
     "text": [
      "bone-china-196\n",
      "I'm doing the thing.\n",
      "bone-china-198\n",
      "I'm doing the thing.\n"
     ]
    },
    {
     "name": "stderr",
     "output_type": "stream",
     "text": [
      "\r",
      " 30%|███       | 205/678 [00:51<00:50,  9.43it/s]"
     ]
    },
    {
     "name": "stdout",
     "output_type": "stream",
     "text": [
      "bone-china-199\n",
      "I'm doing the thing.\n",
      "bone-china-203\n",
      "I'm doing the thing.\n"
     ]
    },
    {
     "name": "stderr",
     "output_type": "stream",
     "text": [
      "\r",
      " 31%|███       | 207/678 [00:51<00:53,  8.83it/s]"
     ]
    },
    {
     "name": "stdout",
     "output_type": "stream",
     "text": [
      "bone-china-209\n",
      "I'm doing the thing.\n",
      "bone-china-212\n",
      "I'm doing the thing.\n"
     ]
    },
    {
     "name": "stderr",
     "output_type": "stream",
     "text": [
      " 31%|███       | 210/678 [00:51<00:51,  9.11it/s]"
     ]
    },
    {
     "name": "stdout",
     "output_type": "stream",
     "text": [
      "bone-china-213\n",
      "I'm doing the thing.\n",
      "bone-china-215\n",
      "I'm doing the thing.\n",
      "bone-china-216\n",
      "I'm doing the thing.\n"
     ]
    },
    {
     "name": "stderr",
     "output_type": "stream",
     "text": [
      "\r",
      " 31%|███▏      | 212/678 [00:52<00:45, 10.24it/s]"
     ]
    },
    {
     "name": "stdout",
     "output_type": "stream",
     "text": [
      "bone-china-217\n",
      "I'm doing the thing.\n",
      "bone-china-221\n",
      "I'm doing the thing.\n",
      "bone-china-222\n",
      "I'm doing the thing.\n"
     ]
    },
    {
     "name": "stderr",
     "output_type": "stream",
     "text": [
      "\r",
      " 32%|███▏      | 214/678 [00:52<00:42, 10.88it/s]"
     ]
    },
    {
     "name": "stdout",
     "output_type": "stream",
     "text": [
      "bone-china-223\n",
      "I'm doing the thing.\n",
      "bone-china-225\n",
      "I'm doing the thing.\n"
     ]
    },
    {
     "name": "stderr",
     "output_type": "stream",
     "text": [
      "\r",
      " 32%|███▏      | 216/678 [00:52<00:54,  8.42it/s]"
     ]
    },
    {
     "name": "stdout",
     "output_type": "stream",
     "text": [
      "bone-china-228\n",
      "I'm doing the thing.\n",
      "bone-china-231\n",
      "I'm doing the thing.\n"
     ]
    },
    {
     "name": "stderr",
     "output_type": "stream",
     "text": [
      " 32%|███▏      | 219/678 [00:52<00:54,  8.39it/s]"
     ]
    },
    {
     "name": "stdout",
     "output_type": "stream",
     "text": [
      "bone-china-234\n",
      "I'm doing the thing.\n",
      "bone-china-242\n",
      "I'm doing the thing.\n"
     ]
    },
    {
     "name": "stderr",
     "output_type": "stream",
     "text": [
      "\r",
      " 32%|███▏      | 220/678 [00:53<01:07,  6.77it/s]"
     ]
    },
    {
     "name": "stdout",
     "output_type": "stream",
     "text": [
      "bone-china-243\n",
      "I'm doing the thing.\n"
     ]
    },
    {
     "name": "stderr",
     "output_type": "stream",
     "text": [
      "\r",
      " 33%|███▎      | 221/678 [00:53<01:15,  6.04it/s]"
     ]
    },
    {
     "name": "stdout",
     "output_type": "stream",
     "text": [
      "bone-hup-101\n",
      "I'm doing the thing.\n"
     ]
    },
    {
     "name": "stderr",
     "output_type": "stream",
     "text": [
      "\r",
      " 33%|███▎      | 222/678 [00:53<01:30,  5.03it/s]"
     ]
    },
    {
     "name": "stdout",
     "output_type": "stream",
     "text": [
      "bone-hup-102\n",
      "I'm doing the thing.\n",
      "bone-hup-103\n",
      "I'm doing the thing.\n"
     ]
    },
    {
     "name": "stderr",
     "output_type": "stream",
     "text": [
      "\r",
      " 33%|███▎      | 224/678 [00:54<01:23,  5.46it/s]"
     ]
    },
    {
     "name": "stdout",
     "output_type": "stream",
     "text": [
      "bone-hup-104\n",
      "I'm doing the thing.\n"
     ]
    },
    {
     "name": "stderr",
     "output_type": "stream",
     "text": [
      "\r",
      " 33%|███▎      | 225/678 [00:54<01:26,  5.25it/s]"
     ]
    },
    {
     "name": "stdout",
     "output_type": "stream",
     "text": [
      "bone-hup-108\n",
      "I'm doing the thing.\n",
      "bone-hup-109\n",
      "I'm doing the thing.\n"
     ]
    },
    {
     "name": "stderr",
     "output_type": "stream",
     "text": [
      "\r",
      " 33%|███▎      | 227/678 [00:54<01:28,  5.10it/s]"
     ]
    },
    {
     "name": "stdout",
     "output_type": "stream",
     "text": [
      "bone-hup-111\n",
      "I'm doing the thing.\n"
     ]
    },
    {
     "name": "stderr",
     "output_type": "stream",
     "text": [
      "\r",
      " 34%|███▎      | 228/678 [00:55<01:53,  3.95it/s]"
     ]
    },
    {
     "name": "stdout",
     "output_type": "stream",
     "text": [
      "bone-hup-112\n",
      "I'm doing the thing.\n"
     ]
    },
    {
     "name": "stderr",
     "output_type": "stream",
     "text": [
      " 34%|███▍      | 230/678 [00:55<01:44,  4.28it/s]"
     ]
    },
    {
     "name": "stdout",
     "output_type": "stream",
     "text": [
      "bone-hup-114\n",
      "I'm doing the thing.\n",
      "bone-hup-116\n",
      "I'm doing the thing.\n",
      "bone-hup-118\n",
      "I'm doing the thing.\n"
     ]
    },
    {
     "name": "stderr",
     "output_type": "stream",
     "text": [
      " 34%|███▍      | 233/678 [00:56<01:38,  4.51it/s]"
     ]
    },
    {
     "name": "stdout",
     "output_type": "stream",
     "text": [
      "bone-hup-119\n",
      "I'm doing the thing.\n",
      "bone-hup-120\n",
      "I'm doing the thing.\n"
     ]
    },
    {
     "name": "stderr",
     "output_type": "stream",
     "text": [
      " 35%|███▍      | 235/678 [00:56<01:27,  5.06it/s]"
     ]
    },
    {
     "name": "stdout",
     "output_type": "stream",
     "text": [
      "bone-hup-122\n",
      "I'm doing the thing.\n",
      "bone-hup-123\n",
      "I'm doing the thing.\n"
     ]
    },
    {
     "name": "stderr",
     "output_type": "stream",
     "text": [
      "\r",
      " 35%|███▍      | 236/678 [00:56<01:34,  4.70it/s]"
     ]
    },
    {
     "name": "stdout",
     "output_type": "stream",
     "text": [
      "bone-hup-124\n",
      "I'm doing the thing.\n"
     ]
    },
    {
     "name": "stderr",
     "output_type": "stream",
     "text": [
      "\r",
      " 35%|███▍      | 237/678 [00:57<01:50,  4.00it/s]"
     ]
    },
    {
     "name": "stdout",
     "output_type": "stream",
     "text": [
      "bone-hup-126\n",
      "I'm doing the thing.\n"
     ]
    },
    {
     "name": "stderr",
     "output_type": "stream",
     "text": [
      "\r",
      " 35%|███▌      | 238/678 [00:57<01:58,  3.70it/s]"
     ]
    },
    {
     "name": "stdout",
     "output_type": "stream",
     "text": [
      "bone-hup-128\n",
      "I'm doing the thing.\n"
     ]
    },
    {
     "name": "stderr",
     "output_type": "stream",
     "text": [
      "\r",
      " 35%|███▌      | 239/678 [00:58<02:22,  3.07it/s]"
     ]
    },
    {
     "name": "stdout",
     "output_type": "stream",
     "text": [
      "bone-hup-130\n",
      "I'm doing the thing.\n"
     ]
    },
    {
     "name": "stderr",
     "output_type": "stream",
     "text": [
      "\r",
      " 35%|███▌      | 240/678 [00:58<02:09,  3.39it/s]"
     ]
    },
    {
     "name": "stdout",
     "output_type": "stream",
     "text": [
      "bone-hup-131\n",
      "I'm doing the thing.\n"
     ]
    },
    {
     "name": "stderr",
     "output_type": "stream",
     "text": [
      "\r",
      " 36%|███▌      | 241/678 [00:58<02:47,  2.61it/s]"
     ]
    },
    {
     "name": "stdout",
     "output_type": "stream",
     "text": [
      "bone-hup-132\n",
      "I'm doing the thing.\n"
     ]
    },
    {
     "name": "stderr",
     "output_type": "stream",
     "text": [
      "\r",
      " 36%|███▌      | 242/678 [00:59<02:33,  2.84it/s]"
     ]
    },
    {
     "name": "stdout",
     "output_type": "stream",
     "text": [
      "bone-hup-133\n",
      "I'm doing the thing.\n",
      "bone-hup-134\n",
      "I'm doing the thing.\n"
     ]
    },
    {
     "name": "stderr",
     "output_type": "stream",
     "text": [
      " 36%|███▌      | 245/678 [00:59<01:46,  4.07it/s]"
     ]
    },
    {
     "name": "stdout",
     "output_type": "stream",
     "text": [
      "bone-hup-136\n",
      "I'm doing the thing.\n",
      "bone-hup-137\n",
      "I'm doing the thing.\n"
     ]
    },
    {
     "name": "stderr",
     "output_type": "stream",
     "text": [
      " 36%|███▋      | 247/678 [00:59<01:27,  4.95it/s]"
     ]
    },
    {
     "name": "stdout",
     "output_type": "stream",
     "text": [
      "bone-hup-138\n",
      "I'm doing the thing.\n",
      "bone-hup-139\n",
      "I'm doing the thing.\n"
     ]
    },
    {
     "name": "stderr",
     "output_type": "stream",
     "text": [
      "\r",
      " 37%|███▋      | 248/678 [01:00<02:49,  2.54it/s]"
     ]
    },
    {
     "name": "stdout",
     "output_type": "stream",
     "text": [
      "bone-hup-141\n",
      "I'm doing the thing.\n"
     ]
    },
    {
     "name": "stderr",
     "output_type": "stream",
     "text": [
      "\r",
      " 37%|███▋      | 249/678 [01:01<03:01,  2.37it/s]"
     ]
    },
    {
     "name": "stdout",
     "output_type": "stream",
     "text": [
      "bone-hup-142\n",
      "I'm doing the thing.\n"
     ]
    },
    {
     "name": "stderr",
     "output_type": "stream",
     "text": [
      " 37%|███▋      | 253/678 [01:01<01:23,  5.08it/s]"
     ]
    },
    {
     "name": "stdout",
     "output_type": "stream",
     "text": [
      "bone-hup-143\n",
      "I'm doing the thing.\n",
      "bone-hup-146\n",
      "I'm doing the thing.\n",
      "bone-hup-148\n",
      "I'm doing the thing.\n",
      "bone-hup-150\n",
      "I'm doing the thing.\n"
     ]
    },
    {
     "name": "stderr",
     "output_type": "stream",
     "text": [
      " 38%|███▊      | 256/678 [01:02<01:06,  6.31it/s]"
     ]
    },
    {
     "name": "stdout",
     "output_type": "stream",
     "text": [
      "bone-hup-151\n",
      "I'm doing the thing.\n",
      "bone-hup-152\n",
      "I'm doing the thing.\n",
      "bone-hup-154\n",
      "I'm doing the thing.\n"
     ]
    },
    {
     "name": "stderr",
     "output_type": "stream",
     "text": [
      " 38%|███▊      | 258/678 [01:02<01:05,  6.43it/s]"
     ]
    },
    {
     "name": "stdout",
     "output_type": "stream",
     "text": [
      "bone-hup-155\n",
      "I'm doing the thing.\n",
      "bone-hup-156\n",
      "I'm doing the thing.\n"
     ]
    },
    {
     "name": "stderr",
     "output_type": "stream",
     "text": [
      " 38%|███▊      | 260/678 [01:02<01:14,  5.60it/s]"
     ]
    },
    {
     "name": "stdout",
     "output_type": "stream",
     "text": [
      "bone-hup-158\n",
      "I'm doing the thing.\n",
      "bone-hup-160\n",
      "I'm doing the thing.\n"
     ]
    },
    {
     "name": "stderr",
     "output_type": "stream",
     "text": [
      " 39%|███▉      | 263/678 [01:03<01:08,  6.07it/s]"
     ]
    },
    {
     "name": "stdout",
     "output_type": "stream",
     "text": [
      "bone-hup-161\n",
      "I'm doing the thing.\n",
      "bone-hup-168\n",
      "I'm doing the thing.\n",
      "bone-hup-169\n",
      "I'm doing the thing.\n"
     ]
    },
    {
     "name": "stderr",
     "output_type": "stream",
     "text": [
      "\r",
      " 39%|███▉      | 264/678 [01:03<01:25,  4.83it/s]"
     ]
    },
    {
     "name": "stdout",
     "output_type": "stream",
     "text": [
      "bone-hup-173\n",
      "I'm doing the thing.\n"
     ]
    },
    {
     "name": "stderr",
     "output_type": "stream",
     "text": [
      " 39%|███▉      | 266/678 [01:04<02:19,  2.96it/s]"
     ]
    },
    {
     "name": "stdout",
     "output_type": "stream",
     "text": [
      "bone-hup-177\n",
      "I'm doing the thing.\n",
      "bone-hup-179\n",
      "I'm doing the thing.\n"
     ]
    },
    {
     "name": "stderr",
     "output_type": "stream",
     "text": [
      " 40%|███▉      | 268/678 [01:05<02:03,  3.31it/s]"
     ]
    },
    {
     "name": "stdout",
     "output_type": "stream",
     "text": [
      "bone-hup-180\n",
      "I'm doing the thing.\n",
      "bone-hup-188\n",
      "I'm doing the thing.\n"
     ]
    },
    {
     "name": "stderr",
     "output_type": "stream",
     "text": [
      " 40%|███▉      | 271/678 [01:06<01:36,  4.22it/s]"
     ]
    },
    {
     "name": "stdout",
     "output_type": "stream",
     "text": [
      "bone-hup-193\n",
      "I'm doing the thing.\n",
      "bone-hup-201\n",
      "I'm doing the thing.\n",
      "bone-hup-203\n",
      "I'm doing the thing.\n"
     ]
    },
    {
     "name": "stderr",
     "output_type": "stream",
     "text": [
      "\r",
      " 40%|████      | 273/678 [01:06<01:07,  5.97it/s]"
     ]
    },
    {
     "name": "stdout",
     "output_type": "stream",
     "text": [
      "bone-hup-207\n",
      "I'm doing the thing.\n",
      "bone-hup-211\n",
      "I'm doing the thing.\n"
     ]
    },
    {
     "name": "stderr",
     "output_type": "stream",
     "text": [
      " 41%|████      | 275/678 [01:06<01:26,  4.68it/s]"
     ]
    },
    {
     "name": "stdout",
     "output_type": "stream",
     "text": [
      "bone-hup-213\n",
      "I'm doing the thing.\n",
      "bone-hup-214\n",
      "I'm doing the thing.\n"
     ]
    },
    {
     "name": "stderr",
     "output_type": "stream",
     "text": [
      " 41%|████      | 277/678 [01:07<01:51,  3.60it/s]"
     ]
    },
    {
     "name": "stdout",
     "output_type": "stream",
     "text": [
      "bone-hup-219\n",
      "I'm doing the thing.\n",
      "bone-hup-225\n",
      "I'm doing the thing.\n"
     ]
    },
    {
     "name": "stderr",
     "output_type": "stream",
     "text": [
      " 41%|████▏     | 280/678 [01:07<01:05,  6.11it/s]"
     ]
    },
    {
     "name": "stdout",
     "output_type": "stream",
     "text": [
      "bone-hup-228\n",
      "I'm doing the thing.\n",
      "bone-hup-229\n",
      "I'm doing the thing.\n",
      "bone-hup-23\n",
      "I'm doing the thing.\n"
     ]
    },
    {
     "name": "stderr",
     "output_type": "stream",
     "text": [
      "\r",
      " 41%|████▏     | 281/678 [01:08<01:26,  4.59it/s]"
     ]
    },
    {
     "name": "stdout",
     "output_type": "stream",
     "text": [
      "bone-hup-231\n",
      "I'm doing the thing.\n"
     ]
    },
    {
     "name": "stderr",
     "output_type": "stream",
     "text": [
      "\r",
      " 42%|████▏     | 282/678 [01:08<01:26,  4.60it/s]"
     ]
    },
    {
     "name": "stdout",
     "output_type": "stream",
     "text": [
      "bone-hup-232\n",
      "I'm doing the thing.\n"
     ]
    },
    {
     "name": "stderr",
     "output_type": "stream",
     "text": [
      "\r",
      " 42%|████▏     | 283/678 [01:09<02:11,  2.99it/s]"
     ]
    },
    {
     "name": "stdout",
     "output_type": "stream",
     "text": [
      "bone-hup-234\n",
      "I'm doing the thing.\n"
     ]
    },
    {
     "name": "stderr",
     "output_type": "stream",
     "text": [
      " 42%|████▏     | 285/678 [01:09<02:00,  3.27it/s]"
     ]
    },
    {
     "name": "stdout",
     "output_type": "stream",
     "text": [
      "bone-hup-237\n",
      "I'm doing the thing.\n"
     ]
    },
    {
     "name": "stderr",
     "output_type": "stream",
     "text": [
      "\r",
      " 42%|████▏     | 286/678 [01:09<01:39,  3.95it/s]"
     ]
    },
    {
     "name": "stdout",
     "output_type": "stream",
     "text": [
      "bone-hup-244\n",
      "I'm doing the thing.\n",
      "bone-hup-248\n",
      "I'm doing the thing.\n"
     ]
    },
    {
     "name": "stderr",
     "output_type": "stream",
     "text": [
      " 43%|████▎     | 289/678 [01:10<01:06,  5.89it/s]"
     ]
    },
    {
     "name": "stdout",
     "output_type": "stream",
     "text": [
      "bone-hup-257\n",
      "I'm doing the thing.\n",
      "bone-hup-261\n",
      "I'm doing the thing.\n",
      "bone-hup-262\n",
      "I'm doing the thing.\n",
      "bone-hup-263\n",
      "I'm doing the thing.\n"
     ]
    },
    {
     "name": "stderr",
     "output_type": "stream",
     "text": [
      " 43%|████▎     | 292/678 [01:10<00:52,  7.41it/s]"
     ]
    },
    {
     "name": "stdout",
     "output_type": "stream",
     "text": [
      "bone-hup-265\n",
      "I'm doing the thing.\n",
      "bone-hup-266\n",
      "I'm doing the thing.\n"
     ]
    },
    {
     "name": "stderr",
     "output_type": "stream",
     "text": [
      "\r",
      " 43%|████▎     | 293/678 [01:10<00:58,  6.58it/s]"
     ]
    },
    {
     "name": "stdout",
     "output_type": "stream",
     "text": [
      "bone-hup-271\n",
      "I'm doing the thing.\n",
      "bone-hup-272\n",
      "I'm doing the thing.\n"
     ]
    },
    {
     "name": "stderr",
     "output_type": "stream",
     "text": [
      "\r",
      " 44%|████▎     | 295/678 [01:11<01:12,  5.28it/s]"
     ]
    },
    {
     "name": "stdout",
     "output_type": "stream",
     "text": [
      "bone-hup-275\n",
      "I'm doing the thing.\n"
     ]
    },
    {
     "name": "stderr",
     "output_type": "stream",
     "text": [
      "\r",
      " 44%|████▎     | 296/678 [01:12<02:06,  3.02it/s]"
     ]
    },
    {
     "name": "stdout",
     "output_type": "stream",
     "text": [
      "bone-hup-276\n",
      "I'm doing the thing.\n",
      "bone-hup-277\n",
      "I'm doing the thing.\n"
     ]
    },
    {
     "name": "stderr",
     "output_type": "stream",
     "text": [
      " 44%|████▍     | 300/678 [01:12<01:10,  5.33it/s]"
     ]
    },
    {
     "name": "stdout",
     "output_type": "stream",
     "text": [
      "bone-hup-279\n",
      "I'm doing the thing.\n",
      "bone-hup-281\n",
      "I'm doing the thing.\n",
      "bone-hup-287\n",
      "I'm doing the thing.\n"
     ]
    },
    {
     "name": "stderr",
     "output_type": "stream",
     "text": [
      "\r",
      " 44%|████▍     | 301/678 [01:12<01:06,  5.70it/s]"
     ]
    },
    {
     "name": "stdout",
     "output_type": "stream",
     "text": [
      "bone-hup-290\n",
      "I'm doing the thing.\n"
     ]
    },
    {
     "name": "stderr",
     "output_type": "stream",
     "text": [
      "\r",
      " 45%|████▍     | 302/678 [01:12<01:10,  5.31it/s]"
     ]
    },
    {
     "name": "stdout",
     "output_type": "stream",
     "text": [
      "bone-hup-291\n",
      "I'm doing the thing.\n"
     ]
    },
    {
     "name": "stderr",
     "output_type": "stream",
     "text": [
      " 45%|████▍     | 305/678 [01:13<00:55,  6.74it/s]"
     ]
    },
    {
     "name": "stdout",
     "output_type": "stream",
     "text": [
      "bone-hup-293\n",
      "I'm doing the thing.\n",
      "bone-hup-296\n",
      "I'm doing the thing.\n",
      "bone-hup-297\n",
      "I'm doing the thing.\n"
     ]
    },
    {
     "name": "stderr",
     "output_type": "stream",
     "text": [
      " 45%|████▌     | 307/678 [01:14<01:24,  4.37it/s]"
     ]
    },
    {
     "name": "stdout",
     "output_type": "stream",
     "text": [
      "bone-hup-298\n",
      "I'm doing the thing.\n",
      "bone-hup-299\n",
      "I'm doing the thing.\n"
     ]
    },
    {
     "name": "stderr",
     "output_type": "stream",
     "text": [
      "\r",
      " 46%|████▌     | 309/678 [01:14<01:02,  5.89it/s]"
     ]
    },
    {
     "name": "stdout",
     "output_type": "stream",
     "text": [
      "bone-hup-3\n",
      "I'm doing the thing.\n",
      "bone-hup-302\n",
      "I'm doing the thing.\n"
     ]
    },
    {
     "name": "stderr",
     "output_type": "stream",
     "text": [
      "\r",
      " 46%|████▌     | 310/678 [01:14<01:02,  5.90it/s]"
     ]
    },
    {
     "name": "stdout",
     "output_type": "stream",
     "text": [
      "bone-hup-305\n",
      "I'm doing the thing.\n"
     ]
    },
    {
     "name": "stderr",
     "output_type": "stream",
     "text": [
      "\r",
      " 46%|████▌     | 311/678 [01:14<01:19,  4.63it/s]"
     ]
    },
    {
     "name": "stdout",
     "output_type": "stream",
     "text": [
      "bone-hup-306\n",
      "I'm doing the thing.\n"
     ]
    },
    {
     "name": "stderr",
     "output_type": "stream",
     "text": [
      "\r",
      " 46%|████▌     | 312/678 [01:15<01:28,  4.13it/s]"
     ]
    },
    {
     "name": "stdout",
     "output_type": "stream",
     "text": [
      "bone-hup-308\n",
      "I'm doing the thing.\n"
     ]
    },
    {
     "name": "stderr",
     "output_type": "stream",
     "text": [
      " 46%|████▋     | 314/678 [01:15<01:24,  4.33it/s]"
     ]
    },
    {
     "name": "stdout",
     "output_type": "stream",
     "text": [
      "bone-hup-310\n",
      "I'm doing the thing.\n",
      "bone-hup-312\n",
      "I'm doing the thing.\n",
      "bone-hup-314\n",
      "I'm doing the thing.\n"
     ]
    },
    {
     "name": "stderr",
     "output_type": "stream",
     "text": [
      " 47%|████▋     | 317/678 [01:16<01:12,  5.01it/s]"
     ]
    },
    {
     "name": "stdout",
     "output_type": "stream",
     "text": [
      "bone-hup-316\n",
      "I'm doing the thing.\n",
      "bone-hup-317\n",
      "I'm doing the thing.\n"
     ]
    },
    {
     "name": "stderr",
     "output_type": "stream",
     "text": [
      "\r",
      " 47%|████▋     | 318/678 [01:16<01:06,  5.45it/s]"
     ]
    },
    {
     "name": "stdout",
     "output_type": "stream",
     "text": [
      "bone-hup-321\n",
      "I'm doing the thing.\n"
     ]
    },
    {
     "name": "stderr",
     "output_type": "stream",
     "text": [
      "\r",
      " 47%|████▋     | 319/678 [01:16<01:29,  4.02it/s]"
     ]
    },
    {
     "name": "stdout",
     "output_type": "stream",
     "text": [
      "bone-hup-325\n",
      "I'm doing the thing.\n"
     ]
    },
    {
     "name": "stderr",
     "output_type": "stream",
     "text": [
      "\r",
      " 47%|████▋     | 320/678 [01:16<01:33,  3.84it/s]"
     ]
    },
    {
     "name": "stdout",
     "output_type": "stream",
     "text": [
      "bone-hup-326\n",
      "I'm doing the thing.\n"
     ]
    },
    {
     "name": "stderr",
     "output_type": "stream",
     "text": [
      "\r",
      " 47%|████▋     | 321/678 [01:17<02:01,  2.93it/s]"
     ]
    },
    {
     "name": "stdout",
     "output_type": "stream",
     "text": [
      "bone-hup-328\n",
      "I'm doing the thing.\n"
     ]
    },
    {
     "name": "stderr",
     "output_type": "stream",
     "text": [
      "\r",
      " 47%|████▋     | 322/678 [01:17<02:17,  2.58it/s]"
     ]
    },
    {
     "name": "stdout",
     "output_type": "stream",
     "text": [
      "bone-hup-330\n",
      "I'm doing the thing.\n"
     ]
    },
    {
     "name": "stderr",
     "output_type": "stream",
     "text": [
      "\r",
      " 48%|████▊     | 323/678 [01:18<02:15,  2.63it/s]"
     ]
    },
    {
     "name": "stdout",
     "output_type": "stream",
     "text": [
      "bone-hup-50\n",
      "I'm doing the thing.\n"
     ]
    },
    {
     "name": "stderr",
     "output_type": "stream",
     "text": [
      " 48%|████▊     | 325/678 [01:18<01:52,  3.14it/s]"
     ]
    },
    {
     "name": "stdout",
     "output_type": "stream",
     "text": [
      "bone-hup-51\n",
      "I'm doing the thing.\n",
      "bone-hup-52\n",
      "I'm doing the thing.\n"
     ]
    },
    {
     "name": "stderr",
     "output_type": "stream",
     "text": [
      "\r",
      " 48%|████▊     | 328/678 [01:19<01:00,  5.79it/s]"
     ]
    },
    {
     "name": "stdout",
     "output_type": "stream",
     "text": [
      "bone-hup-55\n",
      "I'm doing the thing.\n",
      "bone-hup-56\n",
      "I'm doing the thing.\n",
      "bone-hup-59\n",
      "I'm doing the thing.\n"
     ]
    },
    {
     "name": "stderr",
     "output_type": "stream",
     "text": [
      "\r",
      " 49%|████▊     | 329/678 [01:19<01:03,  5.51it/s]"
     ]
    },
    {
     "name": "stdout",
     "output_type": "stream",
     "text": [
      "bone-hup-60\n",
      "I'm doing the thing.\n"
     ]
    },
    {
     "name": "stderr",
     "output_type": "stream",
     "text": [
      "\r",
      " 49%|████▊     | 330/678 [01:19<01:14,  4.66it/s]"
     ]
    },
    {
     "name": "stdout",
     "output_type": "stream",
     "text": [
      "bone-hup-61\n",
      "I'm doing the thing.\n",
      "bone-hup-62\n",
      "I'm doing the thing.\n"
     ]
    },
    {
     "name": "stderr",
     "output_type": "stream",
     "text": [
      " 49%|████▉     | 333/678 [01:23<03:41,  1.56it/s]"
     ]
    },
    {
     "name": "stdout",
     "output_type": "stream",
     "text": [
      "bone-hup-65\n",
      "I'm doing the thing.\n",
      "bone-hup-67\n",
      "I'm doing the thing.\n"
     ]
    },
    {
     "name": "stderr",
     "output_type": "stream",
     "text": [
      " 49%|████▉     | 335/678 [01:23<02:25,  2.36it/s]"
     ]
    },
    {
     "name": "stdout",
     "output_type": "stream",
     "text": [
      "bone-hup-69\n",
      "I'm doing the thing.\n",
      "bone-hup-70\n",
      "I'm doing the thing.\n"
     ]
    },
    {
     "name": "stderr",
     "output_type": "stream",
     "text": [
      " 50%|████▉     | 337/678 [01:23<01:40,  3.40it/s]"
     ]
    },
    {
     "name": "stdout",
     "output_type": "stream",
     "text": [
      "bone-hup-76\n",
      "I'm doing the thing.\n",
      "bone-hup-78\n",
      "I'm doing the thing.\n"
     ]
    },
    {
     "name": "stderr",
     "output_type": "stream",
     "text": [
      " 50%|█████     | 340/678 [01:24<01:07,  4.97it/s]"
     ]
    },
    {
     "name": "stdout",
     "output_type": "stream",
     "text": [
      "bone-hup-79\n",
      "I'm doing the thing.\n",
      "bone-hup-80\n",
      "I'm doing the thing.\n",
      "bone-hup-81\n",
      "I'm doing the thing.\n"
     ]
    },
    {
     "name": "stderr",
     "output_type": "stream",
     "text": [
      "\r",
      " 50%|█████     | 341/678 [01:24<01:06,  5.06it/s]"
     ]
    },
    {
     "name": "stdout",
     "output_type": "stream",
     "text": [
      "bone-hup-85\n",
      "I'm doing the thing.\n"
     ]
    },
    {
     "name": "stderr",
     "output_type": "stream",
     "text": [
      "\r",
      " 50%|█████     | 342/678 [01:24<01:32,  3.65it/s]"
     ]
    },
    {
     "name": "stdout",
     "output_type": "stream",
     "text": [
      "bone-hup-90\n",
      "I'm doing the thing.\n"
     ]
    },
    {
     "name": "stderr",
     "output_type": "stream",
     "text": [
      "\r",
      " 51%|█████     | 343/678 [01:25<01:53,  2.96it/s]"
     ]
    },
    {
     "name": "stdout",
     "output_type": "stream",
     "text": [
      "bone-hup-93\n",
      "I'm doing the thing.\n"
     ]
    },
    {
     "name": "stderr",
     "output_type": "stream",
     "text": [
      "\r",
      " 51%|█████     | 344/678 [01:25<01:55,  2.90it/s]"
     ]
    },
    {
     "name": "stdout",
     "output_type": "stream",
     "text": [
      "bone-hup-95\n",
      "I'm doing the thing.\n"
     ]
    },
    {
     "name": "stderr",
     "output_type": "stream",
     "text": [
      "\r",
      " 51%|█████     | 345/678 [01:26<02:00,  2.76it/s]"
     ]
    },
    {
     "name": "stdout",
     "output_type": "stream",
     "text": [
      "bone-penn-001\n",
      "I'm doing the thing.\n"
     ]
    },
    {
     "name": "stderr",
     "output_type": "stream",
     "text": [
      "\r",
      " 51%|█████     | 346/678 [01:26<01:45,  3.15it/s]"
     ]
    },
    {
     "name": "stdout",
     "output_type": "stream",
     "text": [
      "bone-penn-005\n",
      "I'm doing the thing.\n"
     ]
    },
    {
     "name": "stderr",
     "output_type": "stream",
     "text": [
      "\r",
      " 51%|█████     | 347/678 [01:26<01:51,  2.98it/s]"
     ]
    },
    {
     "name": "stdout",
     "output_type": "stream",
     "text": [
      "bone-penn-007\n",
      "I'm doing the thing.\n"
     ]
    },
    {
     "name": "stderr",
     "output_type": "stream",
     "text": [
      "\r",
      " 51%|█████▏    | 348/678 [01:27<02:45,  1.99it/s]"
     ]
    },
    {
     "name": "stdout",
     "output_type": "stream",
     "text": [
      "bone-penn-011\n",
      "I'm doing the thing.\n"
     ]
    },
    {
     "name": "stderr",
     "output_type": "stream",
     "text": [
      "\r",
      " 51%|█████▏    | 349/678 [01:27<02:21,  2.33it/s]"
     ]
    },
    {
     "name": "stdout",
     "output_type": "stream",
     "text": [
      "bone-penn-014\n",
      "I'm doing the thing.\n"
     ]
    },
    {
     "name": "stderr",
     "output_type": "stream",
     "text": [
      "\r",
      " 52%|█████▏    | 350/678 [01:28<02:02,  2.67it/s]"
     ]
    },
    {
     "name": "stdout",
     "output_type": "stream",
     "text": [
      "bone-penn-018\n",
      "I'm doing the thing.\n"
     ]
    },
    {
     "name": "stderr",
     "output_type": "stream",
     "text": [
      "\r",
      " 52%|█████▏    | 351/678 [01:28<02:15,  2.41it/s]"
     ]
    },
    {
     "name": "stdout",
     "output_type": "stream",
     "text": [
      "bone-penn-019\n",
      "I'm doing the thing.\n"
     ]
    },
    {
     "name": "stderr",
     "output_type": "stream",
     "text": [
      "\r",
      " 52%|█████▏    | 352/678 [01:28<02:01,  2.68it/s]"
     ]
    },
    {
     "name": "stdout",
     "output_type": "stream",
     "text": [
      "bone-penn-020\n",
      "I'm doing the thing.\n",
      "bone-penn-021\n",
      "I'm doing the thing.\n"
     ]
    },
    {
     "name": "stderr",
     "output_type": "stream",
     "text": [
      "\r",
      " 52%|█████▏    | 354/678 [01:29<01:25,  3.80it/s]"
     ]
    },
    {
     "name": "stdout",
     "output_type": "stream",
     "text": [
      "bone-penn-022\n",
      "I'm doing the thing.\n",
      "bone-penn-024\n",
      "I'm doing the thing.\n"
     ]
    },
    {
     "name": "stderr",
     "output_type": "stream",
     "text": [
      " 53%|█████▎    | 357/678 [01:29<01:01,  5.22it/s]"
     ]
    },
    {
     "name": "stdout",
     "output_type": "stream",
     "text": [
      "bone-penn-027\n",
      "I'm doing the thing.\n",
      "bone-penn-029\n",
      "I'm doing the thing.\n"
     ]
    },
    {
     "name": "stderr",
     "output_type": "stream",
     "text": [
      "\r",
      " 53%|█████▎    | 358/678 [01:29<00:56,  5.68it/s]"
     ]
    },
    {
     "name": "stdout",
     "output_type": "stream",
     "text": [
      "bone-penn-030\n",
      "I'm doing the thing.\n"
     ]
    },
    {
     "name": "stderr",
     "output_type": "stream",
     "text": [
      " 53%|█████▎    | 360/678 [01:30<01:28,  3.58it/s]"
     ]
    },
    {
     "name": "stdout",
     "output_type": "stream",
     "text": [
      "bone-penn-034\n",
      "I'm doing the thing.\n",
      "bone-penn-036\n",
      "I'm doing the thing.\n"
     ]
    },
    {
     "name": "stderr",
     "output_type": "stream",
     "text": [
      "\r",
      " 53%|█████▎    | 361/678 [01:30<01:33,  3.40it/s]"
     ]
    },
    {
     "name": "stdout",
     "output_type": "stream",
     "text": [
      "bone-penn-037\n",
      "I'm doing the thing.\n",
      "bone-penn-038\n",
      "I'm doing the thing.\n",
      "bone-penn-039\n",
      "I'm doing the thing.\n"
     ]
    },
    {
     "name": "stderr",
     "output_type": "stream",
     "text": [
      " 54%|█████▍    | 365/678 [01:31<00:58,  5.33it/s]"
     ]
    },
    {
     "name": "stdout",
     "output_type": "stream",
     "text": [
      "bone-penn-040\n",
      "I'm doing the thing.\n",
      "bone-penn-042\n",
      "I'm doing the thing.\n"
     ]
    },
    {
     "name": "stderr",
     "output_type": "stream",
     "text": [
      " 54%|█████▍    | 367/678 [01:31<00:58,  5.28it/s]"
     ]
    },
    {
     "name": "stdout",
     "output_type": "stream",
     "text": [
      "bone-penn-045\n",
      "I'm doing the thing.\n",
      "bone-penn-047\n",
      "I'm doing the thing.\n"
     ]
    },
    {
     "name": "stderr",
     "output_type": "stream",
     "text": [
      "\r",
      " 54%|█████▍    | 368/678 [01:31<00:54,  5.73it/s]"
     ]
    },
    {
     "name": "stdout",
     "output_type": "stream",
     "text": [
      "bone-penn-048\n",
      "I'm doing the thing.\n"
     ]
    },
    {
     "name": "stderr",
     "output_type": "stream",
     "text": [
      "\r",
      " 54%|█████▍    | 369/678 [01:32<01:11,  4.30it/s]"
     ]
    },
    {
     "name": "stdout",
     "output_type": "stream",
     "text": [
      "bone-penn-051\n",
      "I'm doing the thing.\n"
     ]
    },
    {
     "name": "stderr",
     "output_type": "stream",
     "text": [
      "\r",
      " 55%|█████▍    | 370/678 [01:32<01:11,  4.33it/s]"
     ]
    },
    {
     "name": "stdout",
     "output_type": "stream",
     "text": [
      "bone-penn-052\n",
      "I'm doing the thing.\n"
     ]
    },
    {
     "name": "stderr",
     "output_type": "stream",
     "text": [
      "\r",
      " 55%|█████▍    | 371/678 [01:32<01:17,  3.97it/s]"
     ]
    },
    {
     "name": "stdout",
     "output_type": "stream",
     "text": [
      "bone-penn-053\n",
      "I'm doing the thing.\n"
     ]
    },
    {
     "name": "stderr",
     "output_type": "stream",
     "text": [
      " 55%|█████▌    | 373/678 [01:33<01:21,  3.76it/s]"
     ]
    },
    {
     "name": "stdout",
     "output_type": "stream",
     "text": [
      "bone-penn-054\n",
      "I'm doing the thing.\n",
      "bone-penn-056\n",
      "I'm doing the thing.\n"
     ]
    },
    {
     "name": "stderr",
     "output_type": "stream",
     "text": [
      " 55%|█████▌    | 375/678 [01:33<01:15,  3.99it/s]"
     ]
    },
    {
     "name": "stdout",
     "output_type": "stream",
     "text": [
      "bone-penn-057\n",
      "I'm doing the thing.\n",
      "bone-penn-058\n",
      "I'm doing the thing.\n"
     ]
    },
    {
     "name": "stderr",
     "output_type": "stream",
     "text": [
      " 56%|█████▌    | 377/678 [01:34<01:06,  4.56it/s]"
     ]
    },
    {
     "name": "stdout",
     "output_type": "stream",
     "text": [
      "bone-penn-062\n",
      "I'm doing the thing.\n",
      "bone-penn-064\n",
      "I'm doing the thing.\n"
     ]
    },
    {
     "name": "stderr",
     "output_type": "stream",
     "text": [
      " 56%|█████▌    | 380/678 [01:34<00:47,  6.25it/s]"
     ]
    },
    {
     "name": "stdout",
     "output_type": "stream",
     "text": [
      "bone-penn-068\n",
      "I'm doing the thing.\n",
      "bone-penn-069\n",
      "I'm doing the thing.\n",
      "bone-penn-070\n",
      "I'm doing the thing.\n"
     ]
    },
    {
     "name": "stderr",
     "output_type": "stream",
     "text": [
      "\r",
      " 56%|█████▌    | 381/678 [01:34<00:46,  6.33it/s]"
     ]
    },
    {
     "name": "stdout",
     "output_type": "stream",
     "text": [
      "bone-penn-072\n",
      "I'm doing the thing.\n"
     ]
    },
    {
     "name": "stderr",
     "output_type": "stream",
     "text": [
      " 57%|█████▋    | 384/678 [01:35<00:54,  5.43it/s]"
     ]
    },
    {
     "name": "stdout",
     "output_type": "stream",
     "text": [
      "bone-penn-073\n",
      "I'm doing the thing.\n",
      "bone-penn-074\n",
      "I'm doing the thing.\n",
      "bone-penn-078\n",
      "I'm doing the thing.\n"
     ]
    },
    {
     "name": "stderr",
     "output_type": "stream",
     "text": [
      "\r",
      " 57%|█████▋    | 385/678 [01:35<00:48,  6.01it/s]"
     ]
    },
    {
     "name": "stdout",
     "output_type": "stream",
     "text": [
      "bone-penn-079\n",
      "I'm doing the thing.\n",
      "bone-penn-081\n",
      "I'm doing the thing.\n"
     ]
    },
    {
     "name": "stderr",
     "output_type": "stream",
     "text": [
      " 57%|█████▋    | 388/678 [01:36<00:47,  6.06it/s]"
     ]
    },
    {
     "name": "stdout",
     "output_type": "stream",
     "text": [
      "bone-penn-082\n",
      "I'm doing the thing.\n",
      "bone-penn-083\n",
      "I'm doing the thing.\n"
     ]
    },
    {
     "name": "stderr",
     "output_type": "stream",
     "text": [
      "\r",
      " 57%|█████▋    | 389/678 [01:36<00:50,  5.76it/s]"
     ]
    },
    {
     "name": "stdout",
     "output_type": "stream",
     "text": [
      "bone-penn-084\n",
      "I'm doing the thing.\n"
     ]
    },
    {
     "name": "stderr",
     "output_type": "stream",
     "text": [
      "\r",
      " 58%|█████▊    | 390/678 [01:36<01:04,  4.43it/s]"
     ]
    },
    {
     "name": "stdout",
     "output_type": "stream",
     "text": [
      "bone-penn-085\n",
      "I'm doing the thing.\n",
      "bone-penn-091\n",
      "I'm doing the thing.\n"
     ]
    },
    {
     "name": "stderr",
     "output_type": "stream",
     "text": [
      " 58%|█████▊    | 394/678 [01:37<00:43,  6.57it/s]"
     ]
    },
    {
     "name": "stdout",
     "output_type": "stream",
     "text": [
      "bone-penn-092\n",
      "I'm doing the thing.\n",
      "bone-penn-093\n",
      "I'm doing the thing.\n",
      "bone-penn-094\n",
      "I'm doing the thing.\n"
     ]
    },
    {
     "name": "stderr",
     "output_type": "stream",
     "text": [
      "\r",
      " 58%|█████▊    | 396/678 [01:37<00:37,  7.62it/s]"
     ]
    },
    {
     "name": "stdout",
     "output_type": "stream",
     "text": [
      "bone-penn-095\n",
      "I'm doing the thing.\n",
      "bone-penn-097\n",
      "I'm doing the thing.\n"
     ]
    },
    {
     "name": "stderr",
     "output_type": "stream",
     "text": [
      "\r",
      " 59%|█████▊    | 397/678 [01:37<00:48,  5.76it/s]"
     ]
    },
    {
     "name": "stdout",
     "output_type": "stream",
     "text": [
      "bone-penn-099\n",
      "I'm doing the thing.\n"
     ]
    },
    {
     "name": "stderr",
     "output_type": "stream",
     "text": [
      " 59%|█████▉    | 399/678 [01:38<00:55,  5.03it/s]"
     ]
    },
    {
     "name": "stdout",
     "output_type": "stream",
     "text": [
      "bone-penn-102\n",
      "I'm doing the thing.\n",
      "bone-penn-105\n",
      "I'm doing the thing.\n"
     ]
    },
    {
     "name": "stderr",
     "output_type": "stream",
     "text": [
      "\r",
      " 59%|█████▉    | 400/678 [01:38<00:55,  5.03it/s]"
     ]
    },
    {
     "name": "stdout",
     "output_type": "stream",
     "text": [
      "bone-penn-106\n",
      "I'm doing the thing.\n"
     ]
    },
    {
     "name": "stderr",
     "output_type": "stream",
     "text": [
      "\r",
      " 59%|█████▉    | 401/678 [01:38<00:58,  4.71it/s]"
     ]
    },
    {
     "name": "stdout",
     "output_type": "stream",
     "text": [
      "bone-penn-107\n",
      "I'm doing the thing.\n"
     ]
    },
    {
     "name": "stderr",
     "output_type": "stream",
     "text": [
      "\r",
      " 59%|█████▉    | 402/678 [01:38<01:03,  4.35it/s]"
     ]
    },
    {
     "name": "stdout",
     "output_type": "stream",
     "text": [
      "bone-penn-109\n",
      "I'm doing the thing.\n",
      "bone-penn-110\n",
      "I'm doing the thing.\n"
     ]
    },
    {
     "name": "stderr",
     "output_type": "stream",
     "text": [
      "\r",
      " 60%|█████▉    | 404/678 [01:39<00:58,  4.70it/s]"
     ]
    },
    {
     "name": "stdout",
     "output_type": "stream",
     "text": [
      "bone-penn-111\n",
      "I'm doing the thing.\n"
     ]
    },
    {
     "name": "stderr",
     "output_type": "stream",
     "text": [
      "\r",
      " 60%|█████▉    | 405/678 [01:39<01:19,  3.45it/s]"
     ]
    },
    {
     "name": "stdout",
     "output_type": "stream",
     "text": [
      "bone-penn-112\n",
      "I'm doing the thing.\n"
     ]
    },
    {
     "name": "stderr",
     "output_type": "stream",
     "text": [
      "\r",
      " 60%|█████▉    | 406/678 [01:40<01:30,  2.99it/s]"
     ]
    },
    {
     "name": "stdout",
     "output_type": "stream",
     "text": [
      "bone-penn-113\n",
      "I'm doing the thing.\n",
      "bone-penn-116\n",
      "I'm doing the thing.\n"
     ]
    },
    {
     "name": "stderr",
     "output_type": "stream",
     "text": [
      "\r",
      " 60%|██████    | 408/678 [01:40<01:19,  3.40it/s]"
     ]
    },
    {
     "name": "stdout",
     "output_type": "stream",
     "text": [
      "bone-penn-118\n",
      "I'm doing the thing.\n"
     ]
    },
    {
     "name": "stderr",
     "output_type": "stream",
     "text": [
      " 61%|██████    | 411/678 [01:42<01:32,  2.87it/s]"
     ]
    },
    {
     "name": "stdout",
     "output_type": "stream",
     "text": [
      "bone-penn-119\n",
      "I'm doing the thing.\n",
      "bone-penn-120\n",
      "I'm doing the thing.\n",
      "bone-penn-122\n",
      "I'm doing the thing.\n",
      "bone-penn-126\n",
      "I'm doing the thing.\n"
     ]
    },
    {
     "name": "stderr",
     "output_type": "stream",
     "text": [
      "\r",
      " 61%|██████    | 413/678 [01:42<01:24,  3.15it/s]"
     ]
    },
    {
     "name": "stdout",
     "output_type": "stream",
     "text": [
      "bone-penn-134\n",
      "I'm doing the thing.\n"
     ]
    },
    {
     "name": "stderr",
     "output_type": "stream",
     "text": [
      "\r",
      " 61%|██████    | 414/678 [01:43<01:25,  3.08it/s]"
     ]
    },
    {
     "name": "stdout",
     "output_type": "stream",
     "text": [
      "bone-penn-135\n",
      "I'm doing the thing.\n",
      "bone-penn-137\n",
      "I'm doing the thing.\n",
      "bone-penn-139\n",
      "I'm doing the thing.\n"
     ]
    },
    {
     "name": "stderr",
     "output_type": "stream",
     "text": [
      " 62%|██████▏   | 419/678 [01:43<00:42,  6.08it/s]"
     ]
    },
    {
     "name": "stdout",
     "output_type": "stream",
     "text": [
      "bone-penn-140\n",
      "I'm doing the thing.\n",
      "bone-penn-141\n",
      "I'm doing the thing.\n",
      "bone-penn-142\n",
      "I'm doing the thing.\n"
     ]
    },
    {
     "name": "stderr",
     "output_type": "stream",
     "text": [
      "\r",
      " 62%|██████▏   | 420/678 [01:43<00:40,  6.34it/s]"
     ]
    },
    {
     "name": "stdout",
     "output_type": "stream",
     "text": [
      "bone-penn-147\n",
      "I'm doing the thing.\n",
      "bone-penn-148\n",
      "I'm doing the thing.\n"
     ]
    },
    {
     "name": "stderr",
     "output_type": "stream",
     "text": [
      " 62%|██████▏   | 423/678 [01:43<00:36,  6.99it/s]"
     ]
    },
    {
     "name": "stdout",
     "output_type": "stream",
     "text": [
      "bone-penn-149\n",
      "I'm doing the thing.\n",
      "bone-penn-150\n",
      "I'm doing the thing.\n"
     ]
    },
    {
     "name": "stderr",
     "output_type": "stream",
     "text": [
      "\r",
      " 63%|██████▎   | 424/678 [01:44<00:46,  5.41it/s]"
     ]
    },
    {
     "name": "stdout",
     "output_type": "stream",
     "text": [
      "bone-penn-152\n",
      "I'm doing the thing.\n"
     ]
    },
    {
     "name": "stderr",
     "output_type": "stream",
     "text": [
      " 63%|██████▎   | 427/678 [01:44<00:41,  6.08it/s]"
     ]
    },
    {
     "name": "stdout",
     "output_type": "stream",
     "text": [
      "bone-penn-154\n",
      "I'm doing the thing.\n",
      "bone-penn-155\n",
      "I'm doing the thing.\n",
      "bone-penn-156\n",
      "I'm doing the thing.\n"
     ]
    },
    {
     "name": "stderr",
     "output_type": "stream",
     "text": [
      "\r",
      " 63%|██████▎   | 428/678 [01:44<00:41,  6.04it/s]"
     ]
    },
    {
     "name": "stdout",
     "output_type": "stream",
     "text": [
      "bone-penn-157\n",
      "I'm doing the thing.\n",
      "bone-penn-160\n",
      "I'm doing the thing.\n"
     ]
    },
    {
     "name": "stderr",
     "output_type": "stream",
     "text": [
      " 64%|██████▎   | 431/678 [01:45<00:35,  6.94it/s]"
     ]
    },
    {
     "name": "stdout",
     "output_type": "stream",
     "text": [
      "bone-penn-161\n",
      "I'm doing the thing.\n",
      "bone-penn-162\n",
      "I'm doing the thing.\n"
     ]
    },
    {
     "name": "stderr",
     "output_type": "stream",
     "text": [
      " 64%|██████▍   | 433/678 [01:45<00:42,  5.83it/s]"
     ]
    },
    {
     "name": "stdout",
     "output_type": "stream",
     "text": [
      "bone-penn-163\n",
      "I'm doing the thing.\n",
      "bone-penn-167\n",
      "I'm doing the thing.\n"
     ]
    },
    {
     "name": "stderr",
     "output_type": "stream",
     "text": [
      "\r",
      " 64%|██████▍   | 434/678 [01:47<02:26,  1.67it/s]"
     ]
    },
    {
     "name": "stdout",
     "output_type": "stream",
     "text": [
      "bone-penn-168\n",
      "I'm doing the thing.\n"
     ]
    },
    {
     "name": "stderr",
     "output_type": "stream",
     "text": [
      " 64%|██████▍   | 436/678 [01:47<01:38,  2.45it/s]"
     ]
    },
    {
     "name": "stdout",
     "output_type": "stream",
     "text": [
      "bone-penn-170\n",
      "I'm doing the thing.\n",
      "bone-penn-171\n",
      "I'm doing the thing.\n"
     ]
    },
    {
     "name": "stderr",
     "output_type": "stream",
     "text": [
      "\r",
      " 65%|██████▍   | 438/678 [01:48<00:59,  4.02it/s]"
     ]
    },
    {
     "name": "stdout",
     "output_type": "stream",
     "text": [
      "bone-penn-172\n",
      "I'm doing the thing.\n",
      "bone-penn-173\n",
      "I'm doing the thing.\n"
     ]
    },
    {
     "name": "stderr",
     "output_type": "stream",
     "text": [
      " 65%|██████▍   | 440/678 [01:48<00:55,  4.28it/s]"
     ]
    },
    {
     "name": "stdout",
     "output_type": "stream",
     "text": [
      "bone-penn-174\n",
      "I'm doing the thing.\n",
      "bone-penn-178\n",
      "I'm doing the thing.\n"
     ]
    },
    {
     "name": "stderr",
     "output_type": "stream",
     "text": [
      " 65%|██████▌   | 443/678 [01:48<00:35,  6.65it/s]"
     ]
    },
    {
     "name": "stdout",
     "output_type": "stream",
     "text": [
      "bone-penn-179\n",
      "I'm doing the thing.\n",
      "bone-penn-180\n",
      "I'm doing the thing.\n",
      "bone-penn-183\n",
      "I'm doing the thing.\n"
     ]
    },
    {
     "name": "stderr",
     "output_type": "stream",
     "text": [
      " 66%|██████▌   | 445/678 [01:49<00:35,  6.65it/s]"
     ]
    },
    {
     "name": "stdout",
     "output_type": "stream",
     "text": [
      "bone-penn-187\n",
      "I'm doing the thing.\n",
      "bone-penn-188\n",
      "I'm doing the thing.\n"
     ]
    },
    {
     "name": "stderr",
     "output_type": "stream",
     "text": [
      "\r",
      " 66%|██████▌   | 446/678 [01:49<00:32,  7.12it/s]"
     ]
    },
    {
     "name": "stdout",
     "output_type": "stream",
     "text": [
      "bone-penn-189\n",
      "I'm doing the thing.\n"
     ]
    },
    {
     "name": "stderr",
     "output_type": "stream",
     "text": [
      "\r",
      " 66%|██████▌   | 447/678 [01:49<01:05,  3.52it/s]"
     ]
    },
    {
     "name": "stdout",
     "output_type": "stream",
     "text": [
      "bone-penn-191\n",
      "I'm doing the thing.\n"
     ]
    },
    {
     "name": "stderr",
     "output_type": "stream",
     "text": [
      " 66%|██████▌   | 449/678 [01:50<00:57,  3.99it/s]"
     ]
    },
    {
     "name": "stdout",
     "output_type": "stream",
     "text": [
      "bone-penn-192\n",
      "I'm doing the thing.\n",
      "bone-penn-193\n",
      "I'm doing the thing.\n"
     ]
    },
    {
     "name": "stderr",
     "output_type": "stream",
     "text": [
      "\r",
      " 66%|██████▋   | 450/678 [01:50<00:48,  4.71it/s]"
     ]
    },
    {
     "name": "stdout",
     "output_type": "stream",
     "text": [
      "bone-penn-194\n",
      "I'm doing the thing.\n"
     ]
    },
    {
     "name": "stderr",
     "output_type": "stream",
     "text": [
      "\r",
      " 67%|██████▋   | 451/678 [01:50<00:48,  4.73it/s]"
     ]
    },
    {
     "name": "stdout",
     "output_type": "stream",
     "text": [
      "bone-penn-197\n",
      "I'm doing the thing.\n"
     ]
    },
    {
     "name": "stderr",
     "output_type": "stream",
     "text": [
      "\r",
      " 67%|██████▋   | 452/678 [01:50<00:49,  4.60it/s]"
     ]
    },
    {
     "name": "stdout",
     "output_type": "stream",
     "text": [
      "bone-penn-198\n",
      "I'm doing the thing.\n"
     ]
    },
    {
     "name": "stderr",
     "output_type": "stream",
     "text": [
      "\r",
      " 67%|██████▋   | 453/678 [01:51<00:54,  4.11it/s]"
     ]
    },
    {
     "name": "stdout",
     "output_type": "stream",
     "text": [
      "bone-penn-200\n",
      "I'm doing the thing.\n"
     ]
    },
    {
     "name": "stderr",
     "output_type": "stream",
     "text": [
      "\r",
      " 67%|██████▋   | 454/678 [01:51<00:54,  4.12it/s]"
     ]
    },
    {
     "name": "stdout",
     "output_type": "stream",
     "text": [
      "bone-penn-205\n",
      "I'm doing the thing.\n"
     ]
    },
    {
     "name": "stderr",
     "output_type": "stream",
     "text": [
      " 67%|██████▋   | 456/678 [01:51<00:49,  4.53it/s]"
     ]
    },
    {
     "name": "stdout",
     "output_type": "stream",
     "text": [
      "bone-penn-206\n",
      "I'm doing the thing.\n",
      "bone-penn-207\n",
      "I'm doing the thing.\n",
      "bone-penn-209\n",
      "I'm doing the thing.\n"
     ]
    },
    {
     "name": "stderr",
     "output_type": "stream",
     "text": [
      " 68%|██████▊   | 459/678 [01:52<00:48,  4.51it/s]"
     ]
    },
    {
     "name": "stdout",
     "output_type": "stream",
     "text": [
      "bone-penn-210\n",
      "I'm doing the thing.\n",
      "bone-penn-214\n",
      "I'm doing the thing.\n"
     ]
    },
    {
     "name": "stderr",
     "output_type": "stream",
     "text": [
      " 68%|██████▊   | 461/678 [01:52<00:37,  5.86it/s]"
     ]
    },
    {
     "name": "stdout",
     "output_type": "stream",
     "text": [
      "bone-penn-217\n",
      "I'm doing the thing.\n",
      "bone-penn-218\n",
      "I'm doing the thing.\n"
     ]
    },
    {
     "name": "stderr",
     "output_type": "stream",
     "text": [
      "\r",
      " 68%|██████▊   | 462/678 [01:52<00:42,  5.03it/s]"
     ]
    },
    {
     "name": "stdout",
     "output_type": "stream",
     "text": [
      "bone-penn-219\n",
      "I'm doing the thing.\n"
     ]
    },
    {
     "name": "stderr",
     "output_type": "stream",
     "text": [
      "\r",
      " 68%|██████▊   | 463/678 [01:53<00:44,  4.78it/s]"
     ]
    },
    {
     "name": "stdout",
     "output_type": "stream",
     "text": [
      "bone-penn-220\n",
      "I'm doing the thing.\n"
     ]
    },
    {
     "name": "stderr",
     "output_type": "stream",
     "text": [
      " 69%|██████▊   | 465/678 [01:53<00:51,  4.17it/s]"
     ]
    },
    {
     "name": "stdout",
     "output_type": "stream",
     "text": [
      "bone-penn-222\n",
      "I'm doing the thing.\n",
      "bone-penn-223\n",
      "I'm doing the thing.\n"
     ]
    },
    {
     "name": "stderr",
     "output_type": "stream",
     "text": [
      "\r",
      " 69%|██████▊   | 466/678 [01:53<00:45,  4.65it/s]"
     ]
    },
    {
     "name": "stdout",
     "output_type": "stream",
     "text": [
      "bone-penn-224\n",
      "I'm doing the thing.\n",
      "bone-penn-227\n",
      "I'm doing the thing.\n"
     ]
    },
    {
     "name": "stderr",
     "output_type": "stream",
     "text": [
      " 69%|██████▉   | 469/678 [01:54<00:51,  4.02it/s]"
     ]
    },
    {
     "name": "stdout",
     "output_type": "stream",
     "text": [
      "bone-penn-231\n",
      "I'm doing the thing.\n",
      "bone-penn-236\n",
      "I'm doing the thing.\n"
     ]
    },
    {
     "name": "stderr",
     "output_type": "stream",
     "text": [
      " 70%|██████▉   | 472/678 [01:55<00:35,  5.72it/s]"
     ]
    },
    {
     "name": "stdout",
     "output_type": "stream",
     "text": [
      "bone-penn-238\n",
      "I'm doing the thing.\n",
      "bone-penn-239\n",
      "I'm doing the thing.\n",
      "bone-penn-241\n",
      "I'm doing the thing.\n"
     ]
    },
    {
     "name": "stderr",
     "output_type": "stream",
     "text": [
      " 70%|███████   | 475/678 [01:55<00:32,  6.17it/s]"
     ]
    },
    {
     "name": "stdout",
     "output_type": "stream",
     "text": [
      "bone-penn-245\n",
      "I'm doing the thing.\n",
      "bone-penn-246\n",
      "I'm doing the thing.\n",
      "bone-penn-247\n",
      "I'm doing the thing.\n",
      "bone-penn-250\n",
      "I'm doing the thing.\n"
     ]
    },
    {
     "name": "stderr",
     "output_type": "stream",
     "text": [
      " 71%|███████   | 479/678 [01:56<00:26,  7.48it/s]"
     ]
    },
    {
     "name": "stdout",
     "output_type": "stream",
     "text": [
      "bone-penn-252\n",
      "I'm doing the thing.\n",
      "bone-penn-253\n",
      "I'm doing the thing.\n",
      "bone-penn-254\n",
      "I'm doing the thing.\n"
     ]
    },
    {
     "name": "stderr",
     "output_type": "stream",
     "text": [
      " 71%|███████   | 482/678 [01:56<00:22,  8.68it/s]"
     ]
    },
    {
     "name": "stdout",
     "output_type": "stream",
     "text": [
      "bone-penn-255\n",
      "I'm doing the thing.\n",
      "bone-penn-257\n",
      "I'm doing the thing.\n",
      "bone-penn-260\n",
      "I'm doing the thing.\n",
      "bone-penn-261\n",
      "I'm doing the thing.\n"
     ]
    },
    {
     "name": "stderr",
     "output_type": "stream",
     "text": [
      "\r",
      " 71%|███████▏  | 484/678 [01:56<00:18, 10.67it/s]"
     ]
    },
    {
     "name": "stdout",
     "output_type": "stream",
     "text": [
      "bone-penn-262\n",
      "I'm doing the thing.\n"
     ]
    },
    {
     "name": "stderr",
     "output_type": "stream",
     "text": [
      "\r",
      " 72%|███████▏  | 486/678 [01:57<00:25,  7.41it/s]"
     ]
    },
    {
     "name": "stdout",
     "output_type": "stream",
     "text": [
      "bone-penn-266\n",
      "I'm doing the thing.\n",
      "bone-penn-268\n",
      "I'm doing the thing.\n",
      "bone-penn-269\n",
      "I'm doing the thing.\n"
     ]
    },
    {
     "name": "stderr",
     "output_type": "stream",
     "text": [
      "\r",
      " 72%|███████▏  | 488/678 [01:57<00:20,  9.22it/s]"
     ]
    },
    {
     "name": "stdout",
     "output_type": "stream",
     "text": [
      "bone-penn-277\n",
      "I'm doing the thing.\n",
      "bone-penn-278\n",
      "I'm doing the thing.\n"
     ]
    },
    {
     "name": "stderr",
     "output_type": "stream",
     "text": [
      " 73%|███████▎  | 492/678 [01:57<00:22,  8.17it/s]"
     ]
    },
    {
     "name": "stdout",
     "output_type": "stream",
     "text": [
      "bone-penn-279\n",
      "I'm doing the thing.\n",
      "bone-penn-280\n",
      "I'm doing the thing.\n",
      "bone-penn-282\n",
      "I'm doing the thing.\n"
     ]
    },
    {
     "name": "stderr",
     "output_type": "stream",
     "text": [
      "\r",
      " 73%|███████▎  | 494/678 [01:57<00:19,  9.37it/s]"
     ]
    },
    {
     "name": "stdout",
     "output_type": "stream",
     "text": [
      "bone-penn-283\n",
      "I'm doing the thing.\n",
      "bone-penn-285\n",
      "I'm doing the thing.\n"
     ]
    },
    {
     "name": "stderr",
     "output_type": "stream",
     "text": [
      "\r",
      " 73%|███████▎  | 496/678 [01:58<00:23,  7.77it/s]"
     ]
    },
    {
     "name": "stdout",
     "output_type": "stream",
     "text": [
      "bone-penn-286\n",
      "I'm doing the thing.\n",
      "bone-penn-289\n",
      "I'm doing the thing.\n",
      "bone-penn-290\n",
      "I'm doing the thing.\n"
     ]
    },
    {
     "name": "stderr",
     "output_type": "stream",
     "text": [
      " 74%|███████▎  | 500/678 [01:58<00:17,  9.90it/s]"
     ]
    },
    {
     "name": "stdout",
     "output_type": "stream",
     "text": [
      "bone-penn-292\n",
      "I'm doing the thing.\n",
      "bone-penn-293\n",
      "I'm doing the thing.\n",
      "bone-penn-296\n",
      "I'm doing the thing.\n"
     ]
    },
    {
     "name": "stderr",
     "output_type": "stream",
     "text": [
      "\r",
      " 74%|███████▍  | 502/678 [01:58<00:17, 10.25it/s]"
     ]
    },
    {
     "name": "stdout",
     "output_type": "stream",
     "text": [
      "bone-penn-298\n",
      "I'm doing the thing.\n",
      "bone-penn-299\n",
      "I'm doing the thing.\n",
      "bone-penn-300\n",
      "I'm doing the thing.\n"
     ]
    },
    {
     "name": "stderr",
     "output_type": "stream",
     "text": [
      " 74%|███████▍  | 505/678 [01:59<00:28,  6.06it/s]"
     ]
    },
    {
     "name": "stdout",
     "output_type": "stream",
     "text": [
      "bone-penn-304\n",
      "I'm doing the thing.\n",
      "bone-penn-305\n",
      "I'm doing the thing.\n",
      "bone-penn-307\n",
      "I'm doing the thing.\n"
     ]
    },
    {
     "name": "stderr",
     "output_type": "stream",
     "text": [
      "\r",
      " 75%|███████▍  | 507/678 [01:59<00:22,  7.51it/s]"
     ]
    },
    {
     "name": "stdout",
     "output_type": "stream",
     "text": [
      "bone-penn-311\n",
      "I'm doing the thing.\n",
      "bone-penn-312\n",
      "I'm doing the thing.\n"
     ]
    },
    {
     "name": "stderr",
     "output_type": "stream",
     "text": [
      " 75%|███████▌  | 510/678 [02:00<00:28,  5.86it/s]"
     ]
    },
    {
     "name": "stdout",
     "output_type": "stream",
     "text": [
      "bone-penn-313\n",
      "I'm doing the thing.\n",
      "bone-penn-314\n",
      "I'm doing the thing.\n"
     ]
    },
    {
     "name": "stderr",
     "output_type": "stream",
     "text": [
      "\r",
      " 75%|███████▌  | 511/678 [02:00<00:33,  4.98it/s]"
     ]
    },
    {
     "name": "stdout",
     "output_type": "stream",
     "text": [
      "bone-penn-316\n",
      "I'm doing the thing.\n"
     ]
    },
    {
     "name": "stderr",
     "output_type": "stream",
     "text": [
      "\r",
      " 76%|███████▌  | 512/678 [02:00<00:37,  4.45it/s]"
     ]
    },
    {
     "name": "stdout",
     "output_type": "stream",
     "text": [
      "bone-penn-317\n",
      "I'm doing the thing.\n",
      "bone-penn-319\n",
      "I'm doing the thing.\n",
      "bone-penn-320\n",
      "I'm doing the thing.\n"
     ]
    },
    {
     "name": "stderr",
     "output_type": "stream",
     "text": [
      "\r",
      " 76%|███████▌  | 515/678 [02:01<00:24,  6.74it/s]"
     ]
    },
    {
     "name": "stdout",
     "output_type": "stream",
     "text": [
      "bone-penn-322\n",
      "I'm doing the thing.\n"
     ]
    },
    {
     "name": "stderr",
     "output_type": "stream",
     "text": [
      " 76%|███████▋  | 517/678 [02:01<00:29,  5.48it/s]"
     ]
    },
    {
     "name": "stdout",
     "output_type": "stream",
     "text": [
      "bone-penn-326\n",
      "I'm doing the thing.\n",
      "bone-penn-328\n",
      "I'm doing the thing.\n",
      "bone-penn-330\n",
      "I'm doing the thing.\n"
     ]
    },
    {
     "name": "stderr",
     "output_type": "stream",
     "text": [
      "\r",
      " 77%|███████▋  | 519/678 [02:02<00:29,  5.36it/s]"
     ]
    },
    {
     "name": "stdout",
     "output_type": "stream",
     "text": [
      "bone-penn-332\n",
      "I'm doing the thing.\n"
     ]
    },
    {
     "name": "stderr",
     "output_type": "stream",
     "text": [
      "\r",
      " 77%|███████▋  | 520/678 [02:02<00:32,  4.86it/s]"
     ]
    },
    {
     "name": "stdout",
     "output_type": "stream",
     "text": [
      "bone-penn-335\n",
      "I'm doing the thing.\n"
     ]
    },
    {
     "name": "stderr",
     "output_type": "stream",
     "text": [
      " 77%|███████▋  | 523/678 [02:02<00:26,  5.94it/s]"
     ]
    },
    {
     "name": "stdout",
     "output_type": "stream",
     "text": [
      "bone-penn-337\n",
      "I'm doing the thing.\n",
      "bone-penn-338\n",
      "I'm doing the thing.\n",
      "bone-penn-339\n",
      "I'm doing the thing.\n"
     ]
    },
    {
     "name": "stderr",
     "output_type": "stream",
     "text": [
      "\r",
      " 77%|███████▋  | 524/678 [02:03<00:27,  5.58it/s]"
     ]
    },
    {
     "name": "stdout",
     "output_type": "stream",
     "text": [
      "bone-penn-340\n",
      "I'm doing the thing.\n",
      "bone-penn-341\n",
      "I'm doing the thing.\n"
     ]
    },
    {
     "name": "stderr",
     "output_type": "stream",
     "text": [
      " 78%|███████▊  | 527/678 [02:03<00:25,  5.84it/s]"
     ]
    },
    {
     "name": "stdout",
     "output_type": "stream",
     "text": [
      "bone-penn-342\n",
      "I'm doing the thing.\n",
      "bone-penn-343\n",
      "I'm doing the thing.\n"
     ]
    },
    {
     "name": "stderr",
     "output_type": "stream",
     "text": [
      " 78%|███████▊  | 529/678 [02:03<00:24,  6.06it/s]"
     ]
    },
    {
     "name": "stdout",
     "output_type": "stream",
     "text": [
      "bone-penn-345\n",
      "I'm doing the thing.\n",
      "bone-penn-346\n",
      "I'm doing the thing.\n"
     ]
    },
    {
     "name": "stderr",
     "output_type": "stream",
     "text": [
      "\r",
      " 78%|███████▊  | 531/678 [02:04<00:21,  6.94it/s]"
     ]
    },
    {
     "name": "stdout",
     "output_type": "stream",
     "text": [
      "bone-penn-347\n",
      "I'm doing the thing.\n",
      "bone-penn-348\n",
      "I'm doing the thing.\n"
     ]
    },
    {
     "name": "stderr",
     "output_type": "stream",
     "text": [
      "\r",
      " 78%|███████▊  | 532/678 [02:04<00:20,  6.96it/s]"
     ]
    },
    {
     "name": "stdout",
     "output_type": "stream",
     "text": [
      "bone-penn-349\n",
      "I'm doing the thing.\n",
      "bone-penn-356\n",
      "I'm doing the thing.\n"
     ]
    },
    {
     "name": "stderr",
     "output_type": "stream",
     "text": [
      " 79%|███████▉  | 535/678 [02:04<00:20,  6.88it/s]"
     ]
    },
    {
     "name": "stdout",
     "output_type": "stream",
     "text": [
      "bone-penn-362\n",
      "I'm doing the thing.\n",
      "bone-penn-363\n",
      "I'm doing the thing.\n"
     ]
    },
    {
     "name": "stderr",
     "output_type": "stream",
     "text": [
      "\r",
      " 79%|███████▉  | 536/678 [02:05<00:30,  4.70it/s]"
     ]
    },
    {
     "name": "stdout",
     "output_type": "stream",
     "text": [
      "bone-penn-364\n",
      "I'm doing the thing.\n"
     ]
    },
    {
     "name": "stderr",
     "output_type": "stream",
     "text": [
      " 79%|███████▉  | 539/678 [02:05<00:25,  5.41it/s]"
     ]
    },
    {
     "name": "stdout",
     "output_type": "stream",
     "text": [
      "bone-penn-367\n",
      "I'm doing the thing.\n",
      "bone-penn-368\n",
      "I'm doing the thing.\n",
      "bone-penn-369\n",
      "I'm doing the thing.\n"
     ]
    },
    {
     "name": "stderr",
     "output_type": "stream",
     "text": [
      " 80%|███████▉  | 542/678 [02:06<00:19,  7.13it/s]"
     ]
    },
    {
     "name": "stdout",
     "output_type": "stream",
     "text": [
      "bone-penn-370\n",
      "I'm doing the thing.\n",
      "bone-penn-372\n",
      "I'm doing the thing.\n",
      "bone-penn-374\n",
      "I'm doing the thing.\n"
     ]
    },
    {
     "name": "stderr",
     "output_type": "stream",
     "text": [
      "\r",
      " 80%|████████  | 543/678 [02:06<00:17,  7.57it/s]"
     ]
    },
    {
     "name": "stdout",
     "output_type": "stream",
     "text": [
      "bone-penn-375\n",
      "I'm doing the thing.\n",
      "bone-penn-379\n",
      "I'm doing the thing.\n"
     ]
    },
    {
     "name": "stderr",
     "output_type": "stream",
     "text": [
      " 81%|████████  | 546/678 [02:06<00:18,  7.26it/s]"
     ]
    },
    {
     "name": "stdout",
     "output_type": "stream",
     "text": [
      "bone-penn-380\n",
      "I'm doing the thing.\n",
      "bone-penn-382\n",
      "I'm doing the thing.\n"
     ]
    },
    {
     "name": "stderr",
     "output_type": "stream",
     "text": [
      "\r",
      " 81%|████████  | 547/678 [02:06<00:22,  5.79it/s]"
     ]
    },
    {
     "name": "stdout",
     "output_type": "stream",
     "text": [
      "bone-penn-384\n",
      "I'm doing the thing.\n",
      "bone-penn-385\n",
      "I'm doing the thing.\n"
     ]
    },
    {
     "name": "stderr",
     "output_type": "stream",
     "text": [
      "\r",
      " 81%|████████  | 549/678 [02:07<00:19,  6.76it/s]"
     ]
    },
    {
     "name": "stdout",
     "output_type": "stream",
     "text": [
      "bone-penn-386\n",
      "I'm doing the thing.\n"
     ]
    },
    {
     "name": "stderr",
     "output_type": "stream",
     "text": [
      "\r",
      " 81%|████████  | 550/678 [02:07<00:24,  5.20it/s]"
     ]
    },
    {
     "name": "stdout",
     "output_type": "stream",
     "text": [
      "bone-penn-387\n",
      "I'm doing the thing.\n"
     ]
    },
    {
     "name": "stderr",
     "output_type": "stream",
     "text": [
      "\r",
      " 81%|████████▏ | 551/678 [02:07<00:27,  4.67it/s]"
     ]
    },
    {
     "name": "stdout",
     "output_type": "stream",
     "text": [
      "bone-penn-388\n",
      "I'm doing the thing.\n",
      "bone-penn-389\n",
      "I'm doing the thing.\n"
     ]
    },
    {
     "name": "stderr",
     "output_type": "stream",
     "text": [
      " 82%|████████▏ | 554/678 [02:08<00:22,  5.39it/s]"
     ]
    },
    {
     "name": "stdout",
     "output_type": "stream",
     "text": [
      "bone-penn-391\n",
      "I'm doing the thing.\n",
      "bone-penn-392\n",
      "I'm doing the thing.\n"
     ]
    },
    {
     "name": "stderr",
     "output_type": "stream",
     "text": [
      "\r",
      " 82%|████████▏ | 555/678 [02:08<00:23,  5.20it/s]"
     ]
    },
    {
     "name": "stdout",
     "output_type": "stream",
     "text": [
      "bone-penn-396\n",
      "I'm doing the thing.\n"
     ]
    },
    {
     "name": "stderr",
     "output_type": "stream",
     "text": [
      "\r",
      " 82%|████████▏ | 556/678 [02:08<00:32,  3.70it/s]"
     ]
    },
    {
     "name": "stdout",
     "output_type": "stream",
     "text": [
      "bone-penn-397\n",
      "I'm doing the thing.\n"
     ]
    },
    {
     "name": "stderr",
     "output_type": "stream",
     "text": [
      " 82%|████████▏ | 558/678 [02:09<00:29,  4.04it/s]"
     ]
    },
    {
     "name": "stdout",
     "output_type": "stream",
     "text": [
      "bone-penn-405\n",
      "I'm doing the thing.\n",
      "bone-penn-413\n",
      "I'm doing the thing.\n"
     ]
    },
    {
     "name": "stderr",
     "output_type": "stream",
     "text": [
      " 83%|████████▎ | 560/678 [02:09<00:24,  4.74it/s]"
     ]
    },
    {
     "name": "stdout",
     "output_type": "stream",
     "text": [
      "bone-penn-425\n",
      "I'm doing the thing.\n",
      "bone-penn-429\n",
      "I'm doing the thing.\n"
     ]
    },
    {
     "name": "stderr",
     "output_type": "stream",
     "text": [
      " 83%|████████▎ | 562/678 [02:09<00:20,  5.78it/s]"
     ]
    },
    {
     "name": "stdout",
     "output_type": "stream",
     "text": [
      "bone-penn-446\n",
      "I'm doing the thing.\n",
      "bone-penn-453\n",
      "I'm doing the thing.\n"
     ]
    },
    {
     "name": "stderr",
     "output_type": "stream",
     "text": [
      "\r",
      " 83%|████████▎ | 563/678 [02:10<00:21,  5.47it/s]"
     ]
    },
    {
     "name": "stdout",
     "output_type": "stream",
     "text": [
      "bone-penn-454\n",
      "I'm doing the thing.\n",
      "bone-penn-457\n",
      "I'm doing the thing.\n"
     ]
    },
    {
     "name": "stderr",
     "output_type": "stream",
     "text": [
      "\r",
      " 83%|████████▎ | 565/678 [02:10<00:17,  6.59it/s]"
     ]
    },
    {
     "name": "stdout",
     "output_type": "stream",
     "text": [
      "bone-penn-458\n",
      "I'm doing the thing.\n"
     ]
    },
    {
     "name": "stderr",
     "output_type": "stream",
     "text": [
      "\r",
      " 83%|████████▎ | 566/678 [02:10<00:22,  5.05it/s]"
     ]
    },
    {
     "name": "stdout",
     "output_type": "stream",
     "text": [
      "bone-penn-459\n",
      "I'm doing the thing.\n"
     ]
    },
    {
     "name": "stderr",
     "output_type": "stream",
     "text": [
      "\r",
      " 84%|████████▎ | 567/678 [02:10<00:23,  4.66it/s]"
     ]
    },
    {
     "name": "stdout",
     "output_type": "stream",
     "text": [
      "bone-penn-460\n",
      "I'm doing the thing.\n",
      "bone-penn-461\n",
      "I'm doing the thing.\n"
     ]
    },
    {
     "name": "stderr",
     "output_type": "stream",
     "text": [
      " 84%|████████▍ | 570/678 [02:11<00:19,  5.50it/s]"
     ]
    },
    {
     "name": "stdout",
     "output_type": "stream",
     "text": [
      "bone-penn-463\n",
      "I'm doing the thing.\n",
      "bone-penn-465\n",
      "I'm doing the thing.\n"
     ]
    },
    {
     "name": "stderr",
     "output_type": "stream",
     "text": [
      " 84%|████████▍ | 572/678 [02:11<00:20,  5.27it/s]"
     ]
    },
    {
     "name": "stdout",
     "output_type": "stream",
     "text": [
      "bone-penn-467\n",
      "I'm doing the thing.\n",
      "bone-penn-471\n",
      "I'm doing the thing.\n"
     ]
    },
    {
     "name": "stderr",
     "output_type": "stream",
     "text": [
      "\r",
      " 85%|████████▍ | 573/678 [02:12<00:18,  5.72it/s]"
     ]
    },
    {
     "name": "stdout",
     "output_type": "stream",
     "text": [
      "bone-penn-473\n",
      "I'm doing the thing.\n",
      "bone-penn-476\n",
      "I'm doing the thing.\n"
     ]
    },
    {
     "name": "stderr",
     "output_type": "stream",
     "text": [
      "\r",
      " 85%|████████▍ | 575/678 [02:12<00:14,  6.95it/s]"
     ]
    },
    {
     "name": "stdout",
     "output_type": "stream",
     "text": [
      "bone-penn-478\n",
      "I'm doing the thing.\n"
     ]
    },
    {
     "name": "stderr",
     "output_type": "stream",
     "text": [
      " 85%|████████▌ | 577/678 [02:12<00:19,  5.07it/s]"
     ]
    },
    {
     "name": "stdout",
     "output_type": "stream",
     "text": [
      "bone-penn-480\n",
      "I'm doing the thing.\n",
      "bone-penn-482\n",
      "I'm doing the thing.\n"
     ]
    },
    {
     "name": "stderr",
     "output_type": "stream",
     "text": [
      " 85%|████████▌ | 579/678 [02:13<00:28,  3.46it/s]"
     ]
    },
    {
     "name": "stdout",
     "output_type": "stream",
     "text": [
      "bone-penn-484\n",
      "I'm doing the thing.\n",
      "bone-penn-487\n",
      "I'm doing the thing.\n"
     ]
    },
    {
     "name": "stderr",
     "output_type": "stream",
     "text": [
      "\r",
      " 86%|████████▌ | 580/678 [02:14<00:32,  3.00it/s]"
     ]
    },
    {
     "name": "stdout",
     "output_type": "stream",
     "text": [
      "bone-penn-489\n",
      "I'm doing the thing.\n"
     ]
    },
    {
     "name": "stderr",
     "output_type": "stream",
     "text": [
      "\r",
      " 86%|████████▌ | 581/678 [02:14<00:33,  2.91it/s]"
     ]
    },
    {
     "name": "stdout",
     "output_type": "stream",
     "text": [
      "bone-penn-490\n",
      "I'm doing the thing.\n"
     ]
    },
    {
     "name": "stderr",
     "output_type": "stream",
     "text": [
      " 86%|████████▌ | 583/678 [02:15<00:29,  3.23it/s]"
     ]
    },
    {
     "name": "stdout",
     "output_type": "stream",
     "text": [
      "bone-penn-494\n",
      "I'm doing the thing.\n",
      "bone-penn-495\n",
      "I'm doing the thing.\n"
     ]
    },
    {
     "name": "stderr",
     "output_type": "stream",
     "text": [
      "\r",
      " 86%|████████▌ | 584/678 [02:15<00:30,  3.06it/s]"
     ]
    },
    {
     "name": "stdout",
     "output_type": "stream",
     "text": [
      "bone-penn-496\n",
      "I'm doing the thing.\n"
     ]
    },
    {
     "name": "stderr",
     "output_type": "stream",
     "text": [
      " 86%|████████▋ | 586/678 [02:17<00:58,  1.57it/s]"
     ]
    },
    {
     "name": "stdout",
     "output_type": "stream",
     "text": [
      "bone-penn-497\n",
      "I'm doing the thing.\n",
      "bone-penn-503\n",
      "I'm doing the thing.\n"
     ]
    },
    {
     "name": "stderr",
     "output_type": "stream",
     "text": [
      " 87%|████████▋ | 588/678 [02:18<00:39,  2.25it/s]"
     ]
    },
    {
     "name": "stdout",
     "output_type": "stream",
     "text": [
      "bone-penn-505\n",
      "I'm doing the thing.\n",
      "bone-penn-506\n",
      "I'm doing the thing.\n",
      "bone-penn-509\n",
      "I'm doing the thing.\n"
     ]
    },
    {
     "name": "stderr",
     "output_type": "stream",
     "text": [
      "\r",
      " 87%|████████▋ | 591/678 [02:18<00:19,  4.48it/s]"
     ]
    },
    {
     "name": "stdout",
     "output_type": "stream",
     "text": [
      "bone-penn-512\n",
      "I'm doing the thing.\n",
      "bone-penn-514\n",
      "I'm doing the thing.\n"
     ]
    },
    {
     "name": "stderr",
     "output_type": "stream",
     "text": [
      " 87%|████████▋ | 593/678 [02:18<00:18,  4.55it/s]"
     ]
    },
    {
     "name": "stdout",
     "output_type": "stream",
     "text": [
      "bone-penn-515\n",
      "I'm doing the thing.\n",
      "bone-penn-516\n",
      "I'm doing the thing.\n"
     ]
    },
    {
     "name": "stderr",
     "output_type": "stream",
     "text": [
      "\r",
      " 88%|████████▊ | 594/678 [02:19<00:19,  4.25it/s]"
     ]
    },
    {
     "name": "stdout",
     "output_type": "stream",
     "text": [
      "bone-penn-517\n",
      "I'm doing the thing.\n"
     ]
    },
    {
     "name": "stderr",
     "output_type": "stream",
     "text": [
      " 88%|████████▊ | 596/678 [02:19<00:17,  4.76it/s]"
     ]
    },
    {
     "name": "stdout",
     "output_type": "stream",
     "text": [
      "bone-penn-518\n",
      "I'm doing the thing.\n",
      "bone-penn-519\n",
      "I'm doing the thing.\n"
     ]
    },
    {
     "name": "stderr",
     "output_type": "stream",
     "text": [
      " 88%|████████▊ | 598/678 [02:19<00:15,  5.33it/s]"
     ]
    },
    {
     "name": "stdout",
     "output_type": "stream",
     "text": [
      "bone-penn-521\n",
      "I'm doing the thing.\n",
      "bone-penn-522\n",
      "I'm doing the thing.\n"
     ]
    },
    {
     "name": "stderr",
     "output_type": "stream",
     "text": [
      "\r",
      " 88%|████████▊ | 599/678 [02:20<00:14,  5.51it/s]"
     ]
    },
    {
     "name": "stdout",
     "output_type": "stream",
     "text": [
      "bone-penn-524\n",
      "I'm doing the thing.\n"
     ]
    },
    {
     "name": "stderr",
     "output_type": "stream",
     "text": [
      "\r",
      " 88%|████████▊ | 600/678 [02:20<00:16,  4.75it/s]"
     ]
    },
    {
     "name": "stdout",
     "output_type": "stream",
     "text": [
      "bone-penn-527\n",
      "I'm doing the thing.\n"
     ]
    },
    {
     "name": "stderr",
     "output_type": "stream",
     "text": [
      "\r",
      " 89%|████████▊ | 601/678 [02:20<00:16,  4.80it/s]"
     ]
    },
    {
     "name": "stdout",
     "output_type": "stream",
     "text": [
      "bone-penn-528\n",
      "I'm doing the thing.\n",
      "bone-penn-529\n",
      "I'm doing the thing.\n"
     ]
    },
    {
     "name": "stderr",
     "output_type": "stream",
     "text": [
      "\r",
      " 89%|████████▉ | 603/678 [02:20<00:14,  5.06it/s]"
     ]
    },
    {
     "name": "stdout",
     "output_type": "stream",
     "text": [
      "bone-penn-530\n",
      "I'm doing the thing.\n",
      "bone-penn-535\n",
      "I'm doing the thing.\n"
     ]
    },
    {
     "name": "stderr",
     "output_type": "stream",
     "text": [
      "\r",
      " 89%|████████▉ | 605/678 [02:21<00:13,  5.54it/s]"
     ]
    },
    {
     "name": "stdout",
     "output_type": "stream",
     "text": [
      "bone-penn-536\n",
      "I'm doing the thing.\n"
     ]
    },
    {
     "name": "stderr",
     "output_type": "stream",
     "text": [
      "\r",
      " 89%|████████▉ | 606/678 [02:21<00:14,  4.93it/s]"
     ]
    },
    {
     "name": "stdout",
     "output_type": "stream",
     "text": [
      "bone-penn-538\n",
      "I'm doing the thing.\n"
     ]
    },
    {
     "name": "stderr",
     "output_type": "stream",
     "text": [
      "\r",
      " 90%|████████▉ | 607/678 [02:21<00:17,  4.08it/s]"
     ]
    },
    {
     "name": "stdout",
     "output_type": "stream",
     "text": [
      "bone-penn-541\n",
      "I'm doing the thing.\n"
     ]
    },
    {
     "name": "stderr",
     "output_type": "stream",
     "text": [
      " 90%|████████▉ | 610/678 [02:22<00:11,  6.03it/s]"
     ]
    },
    {
     "name": "stdout",
     "output_type": "stream",
     "text": [
      "bone-penn-546\n",
      "I'm doing the thing.\n",
      "bone-penn-548\n",
      "I'm doing the thing.\n",
      "bone-penn-549\n",
      "I'm doing the thing.\n"
     ]
    },
    {
     "name": "stderr",
     "output_type": "stream",
     "text": [
      " 90%|█████████ | 613/678 [02:22<00:07,  8.49it/s]"
     ]
    },
    {
     "name": "stdout",
     "output_type": "stream",
     "text": [
      "bone-penn-551\n",
      "I'm doing the thing.\n",
      "bone-penn-554\n",
      "I'm doing the thing.\n",
      "bone-penn-555\n",
      "I'm doing the thing.\n",
      "bone-penn-556\n",
      "I'm doing the thing.\n"
     ]
    },
    {
     "name": "stderr",
     "output_type": "stream",
     "text": [
      " 91%|█████████ | 616/678 [02:23<00:10,  6.01it/s]"
     ]
    },
    {
     "name": "stdout",
     "output_type": "stream",
     "text": [
      "bone-penn-561\n",
      "I'm doing the thing.\n",
      "bone-penn-565\n",
      "I'm doing the thing.\n"
     ]
    },
    {
     "name": "stderr",
     "output_type": "stream",
     "text": [
      " 91%|█████████ | 618/678 [02:23<00:11,  5.07it/s]"
     ]
    },
    {
     "name": "stdout",
     "output_type": "stream",
     "text": [
      "bone-penn-568\n",
      "I'm doing the thing.\n",
      "bone-penn-571\n",
      "I'm doing the thing.\n"
     ]
    },
    {
     "name": "stderr",
     "output_type": "stream",
     "text": [
      "\r",
      " 91%|█████████▏| 620/678 [02:23<00:08,  6.89it/s]"
     ]
    },
    {
     "name": "stdout",
     "output_type": "stream",
     "text": [
      "bone-penn-572\n",
      "I'm doing the thing.\n",
      "bone-penn-575\n",
      "I'm doing the thing.\n"
     ]
    },
    {
     "name": "stderr",
     "output_type": "stream",
     "text": [
      "\r",
      " 92%|█████████▏| 621/678 [02:23<00:08,  6.55it/s]"
     ]
    },
    {
     "name": "stdout",
     "output_type": "stream",
     "text": [
      "bone-penn-577\n",
      "I'm doing the thing.\n"
     ]
    },
    {
     "name": "stderr",
     "output_type": "stream",
     "text": [
      "\r",
      " 92%|█████████▏| 622/678 [02:24<00:10,  5.29it/s]"
     ]
    },
    {
     "name": "stdout",
     "output_type": "stream",
     "text": [
      "bone-penn-578\n",
      "I'm doing the thing.\n"
     ]
    },
    {
     "name": "stderr",
     "output_type": "stream",
     "text": [
      " 92%|█████████▏| 626/678 [02:25<00:10,  4.91it/s]"
     ]
    },
    {
     "name": "stdout",
     "output_type": "stream",
     "text": [
      "bone-penn-579\n",
      "I'm doing the thing.\n",
      "bone-penn-582\n",
      "I'm doing the thing.\n",
      "bone-penn-585\n",
      "I'm doing the thing.\n",
      "bone-penn-586\n",
      "I'm doing the thing.\n"
     ]
    },
    {
     "name": "stderr",
     "output_type": "stream",
     "text": [
      "\r",
      " 93%|█████████▎| 628/678 [02:25<00:07,  6.26it/s]"
     ]
    },
    {
     "name": "stdout",
     "output_type": "stream",
     "text": [
      "bone-penn-587\n",
      "I'm doing the thing.\n",
      "bone-penn-588\n",
      "I'm doing the thing.\n",
      "bone-penn-589\n",
      "I'm doing the thing.\n"
     ]
    },
    {
     "name": "stderr",
     "output_type": "stream",
     "text": [
      "\r",
      " 93%|█████████▎| 630/678 [02:25<00:08,  5.84it/s]"
     ]
    },
    {
     "name": "stdout",
     "output_type": "stream",
     "text": [
      "bone-penn-592\n",
      "I'm doing the thing.\n",
      "bone-penn-593\n",
      "I'm doing the thing.\n"
     ]
    },
    {
     "name": "stderr",
     "output_type": "stream",
     "text": [
      " 93%|█████████▎| 633/678 [02:26<00:07,  6.02it/s]"
     ]
    },
    {
     "name": "stdout",
     "output_type": "stream",
     "text": [
      "bone-penn-596\n",
      "I'm doing the thing.\n",
      "bone-penn-597\n",
      "I'm doing the thing.\n"
     ]
    },
    {
     "name": "stderr",
     "output_type": "stream",
     "text": [
      "\r",
      " 94%|█████████▎| 634/678 [02:26<00:06,  6.34it/s]"
     ]
    },
    {
     "name": "stdout",
     "output_type": "stream",
     "text": [
      "bone-penn-598\n",
      "I'm doing the thing.\n"
     ]
    },
    {
     "name": "stderr",
     "output_type": "stream",
     "text": [
      "\r",
      " 94%|█████████▎| 635/678 [02:26<00:09,  4.36it/s]"
     ]
    },
    {
     "name": "stdout",
     "output_type": "stream",
     "text": [
      "bone-penn-599\n",
      "I'm doing the thing.\n"
     ]
    },
    {
     "name": "stderr",
     "output_type": "stream",
     "text": [
      " 94%|█████████▍| 637/678 [02:28<00:13,  2.94it/s]"
     ]
    },
    {
     "name": "stdout",
     "output_type": "stream",
     "text": [
      "bone-penn-600\n",
      "I'm doing the thing.\n",
      "bone-penn-601\n",
      "I'm doing the thing.\n"
     ]
    },
    {
     "name": "stderr",
     "output_type": "stream",
     "text": [
      "\r",
      " 94%|█████████▍| 638/678 [02:28<00:19,  2.01it/s]"
     ]
    },
    {
     "name": "stdout",
     "output_type": "stream",
     "text": [
      "bone-penn-602\n",
      "I'm doing the thing.\n"
     ]
    },
    {
     "name": "stderr",
     "output_type": "stream",
     "text": [
      "\r",
      " 94%|█████████▍| 639/678 [02:29<00:17,  2.19it/s]"
     ]
    },
    {
     "name": "stdout",
     "output_type": "stream",
     "text": [
      "bone-penn-603\n",
      "I'm doing the thing.\n"
     ]
    },
    {
     "name": "stderr",
     "output_type": "stream",
     "text": [
      "\r",
      " 94%|█████████▍| 640/678 [02:29<00:15,  2.44it/s]"
     ]
    },
    {
     "name": "stdout",
     "output_type": "stream",
     "text": [
      "bone-penn-605\n",
      "I'm doing the thing.\n"
     ]
    },
    {
     "name": "stderr",
     "output_type": "stream",
     "text": [
      " 95%|█████████▍| 642/678 [02:30<00:11,  3.17it/s]"
     ]
    },
    {
     "name": "stdout",
     "output_type": "stream",
     "text": [
      "bone-penn-606\n",
      "I'm doing the thing.\n",
      "bone-penn-609\n",
      "I'm doing the thing.\n"
     ]
    },
    {
     "name": "stderr",
     "output_type": "stream",
     "text": [
      " 95%|█████████▍| 644/678 [02:30<00:08,  4.11it/s]"
     ]
    },
    {
     "name": "stdout",
     "output_type": "stream",
     "text": [
      "bone-penn-610\n",
      "I'm doing the thing.\n",
      "bone-penn-611\n",
      "I'm doing the thing.\n"
     ]
    },
    {
     "name": "stderr",
     "output_type": "stream",
     "text": [
      "\r",
      " 95%|█████████▌| 645/678 [02:30<00:06,  4.86it/s]"
     ]
    },
    {
     "name": "stdout",
     "output_type": "stream",
     "text": [
      "bone-penn-613\n",
      "I'm doing the thing.\n",
      "bone-penn-614\n",
      "I'm doing the thing.\n"
     ]
    },
    {
     "name": "stderr",
     "output_type": "stream",
     "text": [
      "\r",
      " 95%|█████████▌| 647/678 [02:30<00:05,  5.96it/s]"
     ]
    },
    {
     "name": "stdout",
     "output_type": "stream",
     "text": [
      "bone-penn-615\n",
      "I'm doing the thing.\n",
      "bone-penn-616\n",
      "I'm doing the thing.\n"
     ]
    },
    {
     "name": "stderr",
     "output_type": "stream",
     "text": [
      "\r",
      " 96%|█████████▌| 649/678 [02:31<00:04,  6.75it/s]"
     ]
    },
    {
     "name": "stdout",
     "output_type": "stream",
     "text": [
      "bone-penn-617\n",
      "I'm doing the thing.\n"
     ]
    },
    {
     "name": "stderr",
     "output_type": "stream",
     "text": [
      " 96%|█████████▌| 652/678 [02:31<00:05,  5.01it/s]"
     ]
    },
    {
     "name": "stdout",
     "output_type": "stream",
     "text": [
      "bone-penn-619\n",
      "I'm doing the thing.\n",
      "bone-penn-620\n",
      "I'm doing the thing.\n",
      "bone-penn-621\n",
      "I'm doing the thing.\n"
     ]
    },
    {
     "name": "stderr",
     "output_type": "stream",
     "text": [
      "\r",
      " 96%|█████████▋| 653/678 [02:32<00:06,  3.95it/s]"
     ]
    },
    {
     "name": "stdout",
     "output_type": "stream",
     "text": [
      "bone-penn-622\n",
      "I'm doing the thing.\n"
     ]
    },
    {
     "name": "stderr",
     "output_type": "stream",
     "text": [
      "\r",
      " 96%|█████████▋| 654/678 [02:32<00:05,  4.06it/s]"
     ]
    },
    {
     "name": "stdout",
     "output_type": "stream",
     "text": [
      "bone-penn-623\n",
      "I'm doing the thing.\n",
      "bone-penn-624\n",
      "I'm doing the thing.\n"
     ]
    },
    {
     "name": "stderr",
     "output_type": "stream",
     "text": [
      " 97%|█████████▋| 657/678 [02:32<00:03,  5.65it/s]"
     ]
    },
    {
     "name": "stdout",
     "output_type": "stream",
     "text": [
      "bone-penn-625\n",
      "I'm doing the thing.\n",
      "bone-penn-626\n",
      "I'm doing the thing.\n",
      "bone-penn-627\n",
      "I'm doing the thing.\n"
     ]
    },
    {
     "name": "stderr",
     "output_type": "stream",
     "text": [
      "\r",
      " 97%|█████████▋| 659/678 [02:36<00:16,  1.16it/s]"
     ]
    },
    {
     "name": "stdout",
     "output_type": "stream",
     "text": [
      "bone-penn-629\n",
      "I'm doing the thing.\n"
     ]
    },
    {
     "name": "stderr",
     "output_type": "stream",
     "text": [
      " 97%|█████████▋| 661/678 [02:37<00:10,  1.63it/s]"
     ]
    },
    {
     "name": "stdout",
     "output_type": "stream",
     "text": [
      "bone-penn-630\n",
      "I'm doing the thing.\n",
      "bone-penn-631\n",
      "I'm doing the thing.\n"
     ]
    },
    {
     "name": "stderr",
     "output_type": "stream",
     "text": [
      "\r",
      " 98%|█████████▊| 662/678 [02:37<00:07,  2.02it/s]"
     ]
    },
    {
     "name": "stdout",
     "output_type": "stream",
     "text": [
      "bone-penn-632\n",
      "I'm doing the thing.\n"
     ]
    },
    {
     "name": "stderr",
     "output_type": "stream",
     "text": [
      " 98%|█████████▊| 665/678 [02:37<00:03,  3.74it/s]"
     ]
    },
    {
     "name": "stdout",
     "output_type": "stream",
     "text": [
      "bone-penn-633\n",
      "I'm doing the thing.\n",
      "bone-penn-634\n",
      "I'm doing the thing.\n",
      "bone-penn-635\n",
      "I'm doing the thing.\n"
     ]
    },
    {
     "name": "stderr",
     "output_type": "stream",
     "text": [
      "\r",
      " 98%|█████████▊| 666/678 [02:37<00:02,  4.12it/s]"
     ]
    },
    {
     "name": "stdout",
     "output_type": "stream",
     "text": [
      "bone-penn-636\n",
      "I'm doing the thing.\n"
     ]
    },
    {
     "name": "stderr",
     "output_type": "stream",
     "text": [
      " 99%|█████████▊| 668/678 [02:38<00:02,  4.47it/s]"
     ]
    },
    {
     "name": "stdout",
     "output_type": "stream",
     "text": [
      "bone-penn-637\n",
      "I'm doing the thing.\n",
      "bone-penn-639\n",
      "I'm doing the thing.\n",
      "bone-penn-640\n",
      "I'm doing the thing.\n",
      "bone-penn-641\n",
      "I'm doing the thing.\n"
     ]
    },
    {
     "name": "stderr",
     "output_type": "stream",
     "text": [
      "\r",
      " 99%|█████████▉| 671/678 [02:38<00:01,  5.94it/s]"
     ]
    },
    {
     "name": "stdout",
     "output_type": "stream",
     "text": [
      "bone-penn-643\n",
      "I'm doing the thing.\n"
     ]
    },
    {
     "name": "stderr",
     "output_type": "stream",
     "text": [
      " 99%|█████████▉| 673/678 [02:39<00:00,  5.29it/s]"
     ]
    },
    {
     "name": "stdout",
     "output_type": "stream",
     "text": [
      "bone-penn-648\n",
      "I'm doing the thing.\n",
      "bone-penn-650\n",
      "I'm doing the thing.\n"
     ]
    },
    {
     "name": "stderr",
     "output_type": "stream",
     "text": [
      "\r",
      " 99%|█████████▉| 674/678 [02:39<00:00,  5.38it/s]"
     ]
    },
    {
     "name": "stdout",
     "output_type": "stream",
     "text": [
      "bone-penn-651\n",
      "I'm doing the thing.\n"
     ]
    },
    {
     "name": "stderr",
     "output_type": "stream",
     "text": [
      "\r",
      "100%|█████████▉| 675/678 [02:39<00:00,  3.85it/s]"
     ]
    },
    {
     "name": "stdout",
     "output_type": "stream",
     "text": [
      "bone-penn-652\n",
      "I'm doing the thing.\n"
     ]
    },
    {
     "name": "stderr",
     "output_type": "stream",
     "text": [
      "100%|█████████▉| 677/678 [02:40<00:00,  4.31it/s]"
     ]
    },
    {
     "name": "stdout",
     "output_type": "stream",
     "text": [
      "bone-penn-653\n",
      "I'm doing the thing.\n",
      "bone-penn-654\n",
      "I'm doing the thing.\n"
     ]
    },
    {
     "name": "stderr",
     "output_type": "stream",
     "text": [
      "100%|██████████| 678/678 [02:40<00:00,  4.23it/s]\n",
      "  0%|          | 0/191 [00:00<?, ?it/s]"
     ]
    },
    {
     "name": "stdout",
     "output_type": "stream",
     "text": [
      "bone-brown-10\n",
      "I'm doing the thing.\n"
     ]
    },
    {
     "name": "stderr",
     "output_type": "stream",
     "text": [
      "\r",
      "  1%|          | 1/191 [00:00<01:49,  1.74it/s]"
     ]
    },
    {
     "name": "stdout",
     "output_type": "stream",
     "text": [
      "bone-brown-102\n",
      "I'm doing the thing.\n"
     ]
    },
    {
     "name": "stderr",
     "output_type": "stream",
     "text": [
      "\r",
      "  1%|          | 2/191 [00:01<01:42,  1.84it/s]"
     ]
    },
    {
     "name": "stdout",
     "output_type": "stream",
     "text": [
      "bone-brown-105\n",
      "I'm doing the thing.\n"
     ]
    },
    {
     "name": "stderr",
     "output_type": "stream",
     "text": [
      "  2%|▏         | 4/191 [00:01<01:04,  2.88it/s]"
     ]
    },
    {
     "name": "stdout",
     "output_type": "stream",
     "text": [
      "bone-brown-108\n",
      "I'm doing the thing.\n",
      "bone-brown-109\n",
      "I'm doing the thing.\n"
     ]
    },
    {
     "name": "stderr",
     "output_type": "stream",
     "text": [
      "\r",
      "  3%|▎         | 5/191 [00:02<01:08,  2.71it/s]"
     ]
    },
    {
     "name": "stdout",
     "output_type": "stream",
     "text": [
      "bone-brown-111\n",
      "I'm doing the thing.\n"
     ]
    },
    {
     "name": "stderr",
     "output_type": "stream",
     "text": [
      "\r",
      "  3%|▎         | 6/191 [00:02<00:59,  3.12it/s]"
     ]
    },
    {
     "name": "stdout",
     "output_type": "stream",
     "text": [
      "bone-brown-12\n",
      "I'm doing the thing.\n"
     ]
    },
    {
     "name": "stderr",
     "output_type": "stream",
     "text": [
      "\r",
      "  4%|▎         | 7/191 [00:02<01:09,  2.63it/s]"
     ]
    },
    {
     "name": "stdout",
     "output_type": "stream",
     "text": [
      "bone-brown-122\n",
      "I'm doing the thing.\n"
     ]
    },
    {
     "name": "stderr",
     "output_type": "stream",
     "text": [
      "\r",
      "  4%|▍         | 8/191 [00:03<01:14,  2.47it/s]"
     ]
    },
    {
     "name": "stdout",
     "output_type": "stream",
     "text": [
      "bone-brown-28\n",
      "I'm doing the thing.\n"
     ]
    },
    {
     "name": "stderr",
     "output_type": "stream",
     "text": [
      "\r",
      "  5%|▍         | 9/191 [00:03<01:12,  2.51it/s]"
     ]
    },
    {
     "name": "stdout",
     "output_type": "stream",
     "text": [
      "bone-brown-33\n",
      "I'm doing the thing.\n"
     ]
    },
    {
     "name": "stderr",
     "output_type": "stream",
     "text": [
      "\r",
      "  5%|▌         | 10/191 [00:04<01:18,  2.29it/s]"
     ]
    },
    {
     "name": "stdout",
     "output_type": "stream",
     "text": [
      "bone-brown-36\n",
      "I'm doing the thing.\n"
     ]
    },
    {
     "name": "stderr",
     "output_type": "stream",
     "text": [
      "\r",
      "  6%|▌         | 11/191 [00:05<01:41,  1.77it/s]"
     ]
    },
    {
     "name": "stdout",
     "output_type": "stream",
     "text": [
      "bone-brown-4\n",
      "I'm doing the thing.\n"
     ]
    },
    {
     "name": "stderr",
     "output_type": "stream",
     "text": [
      "\r",
      "  6%|▋         | 12/191 [00:05<01:36,  1.85it/s]"
     ]
    },
    {
     "name": "stdout",
     "output_type": "stream",
     "text": [
      "bone-brown-40\n",
      "I'm doing the thing.\n"
     ]
    },
    {
     "name": "stderr",
     "output_type": "stream",
     "text": [
      "\r",
      "  7%|▋         | 13/191 [00:05<01:32,  1.92it/s]"
     ]
    },
    {
     "name": "stdout",
     "output_type": "stream",
     "text": [
      "bone-brown-47\n",
      "I'm doing the thing.\n"
     ]
    },
    {
     "name": "stderr",
     "output_type": "stream",
     "text": [
      "\r",
      "  7%|▋         | 14/191 [00:06<01:17,  2.29it/s]"
     ]
    },
    {
     "name": "stdout",
     "output_type": "stream",
     "text": [
      "bone-brown-48\n",
      "I'm doing the thing.\n"
     ]
    },
    {
     "name": "stderr",
     "output_type": "stream",
     "text": [
      "\r",
      "  8%|▊         | 15/191 [00:06<01:05,  2.71it/s]"
     ]
    },
    {
     "name": "stdout",
     "output_type": "stream",
     "text": [
      "bone-brown-49\n",
      "I'm doing the thing.\n"
     ]
    },
    {
     "name": "stderr",
     "output_type": "stream",
     "text": [
      "\r",
      "  8%|▊         | 16/191 [00:07<01:31,  1.91it/s]"
     ]
    },
    {
     "name": "stdout",
     "output_type": "stream",
     "text": [
      "bone-brown-5\n",
      "I'm doing the thing.\n"
     ]
    },
    {
     "name": "stderr",
     "output_type": "stream",
     "text": [
      "\r",
      "  9%|▉         | 17/191 [00:07<01:20,  2.17it/s]"
     ]
    },
    {
     "name": "stdout",
     "output_type": "stream",
     "text": [
      "bone-brown-57\n",
      "I'm doing the thing.\n"
     ]
    },
    {
     "name": "stderr",
     "output_type": "stream",
     "text": [
      "\r",
      "  9%|▉         | 18/191 [00:08<01:16,  2.25it/s]"
     ]
    },
    {
     "name": "stdout",
     "output_type": "stream",
     "text": [
      "bone-brown-61\n",
      "I'm doing the thing.\n"
     ]
    },
    {
     "name": "stderr",
     "output_type": "stream",
     "text": [
      "\r",
      " 10%|▉         | 19/191 [00:08<01:07,  2.53it/s]"
     ]
    },
    {
     "name": "stdout",
     "output_type": "stream",
     "text": [
      "bone-brown-66\n",
      "I'm doing the thing.\n"
     ]
    },
    {
     "name": "stderr",
     "output_type": "stream",
     "text": [
      "\r",
      " 10%|█         | 20/191 [00:08<01:18,  2.19it/s]"
     ]
    },
    {
     "name": "stdout",
     "output_type": "stream",
     "text": [
      "bone-brown-67\n",
      "I'm doing the thing.\n"
     ]
    },
    {
     "name": "stderr",
     "output_type": "stream",
     "text": [
      "\r",
      " 11%|█         | 21/191 [00:09<01:28,  1.93it/s]"
     ]
    },
    {
     "name": "stdout",
     "output_type": "stream",
     "text": [
      "bone-brown-69\n",
      "I'm doing the thing.\n"
     ]
    },
    {
     "name": "stderr",
     "output_type": "stream",
     "text": [
      "\r",
      " 12%|█▏        | 22/191 [00:09<01:17,  2.19it/s]"
     ]
    },
    {
     "name": "stdout",
     "output_type": "stream",
     "text": [
      "bone-brown-7\n",
      "I'm doing the thing.\n"
     ]
    },
    {
     "name": "stderr",
     "output_type": "stream",
     "text": [
      "\r",
      " 12%|█▏        | 23/191 [00:10<01:05,  2.55it/s]"
     ]
    },
    {
     "name": "stdout",
     "output_type": "stream",
     "text": [
      "bone-brown-71\n",
      "I'm doing the thing.\n"
     ]
    },
    {
     "name": "stderr",
     "output_type": "stream",
     "text": [
      "\r",
      " 13%|█▎        | 24/191 [00:10<01:10,  2.35it/s]"
     ]
    },
    {
     "name": "stdout",
     "output_type": "stream",
     "text": [
      "bone-brown-79\n",
      "I'm doing the thing.\n",
      "bone-brown-80\n",
      "I'm doing the thing.\n"
     ]
    },
    {
     "name": "stderr",
     "output_type": "stream",
     "text": [
      "\r",
      " 14%|█▎        | 26/191 [00:10<00:47,  3.48it/s]"
     ]
    },
    {
     "name": "stdout",
     "output_type": "stream",
     "text": [
      "bone-brown-87\n",
      "I'm doing the thing.\n"
     ]
    },
    {
     "name": "stderr",
     "output_type": "stream",
     "text": [
      "\r",
      " 14%|█▍        | 27/191 [00:11<00:54,  3.01it/s]"
     ]
    },
    {
     "name": "stdout",
     "output_type": "stream",
     "text": [
      "bone-brown-9\n",
      "I'm doing the thing.\n"
     ]
    },
    {
     "name": "stderr",
     "output_type": "stream",
     "text": [
      "\r",
      " 15%|█▍        | 28/191 [00:11<00:54,  2.99it/s]"
     ]
    },
    {
     "name": "stdout",
     "output_type": "stream",
     "text": [
      "bone-brown-98\n",
      "I'm doing the thing.\n"
     ]
    },
    {
     "name": "stderr",
     "output_type": "stream",
     "text": [
      " 16%|█▌        | 30/191 [00:12<00:43,  3.70it/s]"
     ]
    },
    {
     "name": "stdout",
     "output_type": "stream",
     "text": [
      "bone-china-001\n",
      "I'm doing the thing.\n",
      "bone-china-003\n",
      "I'm doing the thing.\n"
     ]
    },
    {
     "name": "stderr",
     "output_type": "stream",
     "text": [
      "\r",
      " 16%|█▌        | 31/191 [00:12<00:39,  4.00it/s]"
     ]
    },
    {
     "name": "stdout",
     "output_type": "stream",
     "text": [
      "bone-china-016\n",
      "I'm doing the thing.\n",
      "bone-china-017\n",
      "I'm doing the thing.\n"
     ]
    },
    {
     "name": "stderr",
     "output_type": "stream",
     "text": [
      " 18%|█▊        | 34/191 [00:12<00:28,  5.48it/s]"
     ]
    },
    {
     "name": "stdout",
     "output_type": "stream",
     "text": [
      "bone-china-025\n",
      "I'm doing the thing.\n",
      "bone-china-026\n",
      "I'm doing the thing.\n",
      "bone-china-030\n",
      "I'm doing the thing.\n"
     ]
    },
    {
     "name": "stderr",
     "output_type": "stream",
     "text": [
      " 19%|█▉        | 37/191 [00:12<00:21,  7.27it/s]"
     ]
    },
    {
     "name": "stdout",
     "output_type": "stream",
     "text": [
      "bone-china-034\n",
      "I'm doing the thing.\n",
      "bone-china-036\n",
      "I'm doing the thing.\n"
     ]
    },
    {
     "name": "stderr",
     "output_type": "stream",
     "text": [
      "\r",
      " 21%|██        | 40/191 [00:13<00:15,  9.81it/s]"
     ]
    },
    {
     "name": "stdout",
     "output_type": "stream",
     "text": [
      "bone-china-040\n",
      "I'm doing the thing.\n",
      "bone-china-043\n",
      "I'm doing the thing.\n",
      "bone-china-049\n",
      "I'm doing the thing.\n"
     ]
    },
    {
     "name": "stderr",
     "output_type": "stream",
     "text": [
      "\r",
      " 22%|██▏       | 42/191 [00:13<00:15,  9.56it/s]"
     ]
    },
    {
     "name": "stdout",
     "output_type": "stream",
     "text": [
      "bone-china-054\n",
      "I'm doing the thing.\n",
      "bone-china-057\n",
      "I'm doing the thing.\n",
      "bone-china-077\n",
      "I'm doing the thing.\n"
     ]
    },
    {
     "name": "stderr",
     "output_type": "stream",
     "text": [
      "\r",
      " 23%|██▎       | 44/191 [00:13<00:14,  9.95it/s]"
     ]
    },
    {
     "name": "stdout",
     "output_type": "stream",
     "text": [
      "bone-china-078\n",
      "I'm doing the thing.\n",
      "bone-china-091\n",
      "I'm doing the thing.\n"
     ]
    },
    {
     "name": "stderr",
     "output_type": "stream",
     "text": [
      " 25%|██▌       | 48/191 [00:14<00:14,  9.65it/s]"
     ]
    },
    {
     "name": "stdout",
     "output_type": "stream",
     "text": [
      "bone-china-112\n",
      "I'm doing the thing.\n",
      "bone-china-119\n",
      "I'm doing the thing.\n",
      "bone-china-120\n",
      "I'm doing the thing.\n"
     ]
    },
    {
     "name": "stderr",
     "output_type": "stream",
     "text": [
      " 26%|██▌       | 50/191 [00:14<00:15,  8.84it/s]"
     ]
    },
    {
     "name": "stdout",
     "output_type": "stream",
     "text": [
      "bone-china-128\n",
      "I'm doing the thing.\n",
      "bone-china-129\n",
      "I'm doing the thing.\n"
     ]
    },
    {
     "name": "stderr",
     "output_type": "stream",
     "text": [
      "\r",
      " 27%|██▋       | 52/191 [00:14<00:12, 10.75it/s]"
     ]
    },
    {
     "name": "stdout",
     "output_type": "stream",
     "text": [
      "bone-china-141\n",
      "I'm doing the thing.\n",
      "bone-china-147\n",
      "I'm doing the thing.\n",
      "bone-china-151\n",
      "I'm doing the thing.\n"
     ]
    },
    {
     "name": "stderr",
     "output_type": "stream",
     "text": [
      "\r",
      " 28%|██▊       | 54/191 [00:14<00:12, 10.84it/s]"
     ]
    },
    {
     "name": "stdout",
     "output_type": "stream",
     "text": [
      "bone-china-155\n",
      "I'm doing the thing.\n",
      "bone-china-162\n",
      "I'm doing the thing.\n"
     ]
    },
    {
     "name": "stderr",
     "output_type": "stream",
     "text": [
      "\r",
      " 29%|██▉       | 56/191 [00:14<00:13, 10.25it/s]"
     ]
    },
    {
     "name": "stdout",
     "output_type": "stream",
     "text": [
      "bone-china-163\n",
      "I'm doing the thing.\n",
      "bone-china-165\n",
      "I'm doing the thing.\n"
     ]
    },
    {
     "name": "stderr",
     "output_type": "stream",
     "text": [
      " 31%|███▏      | 60/191 [00:15<00:14,  9.23it/s]"
     ]
    },
    {
     "name": "stdout",
     "output_type": "stream",
     "text": [
      "bone-china-168\n",
      "I'm doing the thing.\n",
      "bone-china-173\n",
      "I'm doing the thing.\n",
      "bone-china-179\n",
      "I'm doing the thing.\n"
     ]
    },
    {
     "name": "stderr",
     "output_type": "stream",
     "text": [
      "\r",
      " 32%|███▏      | 62/191 [00:15<00:12, 10.22it/s]"
     ]
    },
    {
     "name": "stdout",
     "output_type": "stream",
     "text": [
      "bone-china-195\n",
      "I'm doing the thing.\n",
      "bone-china-201\n",
      "I'm doing the thing.\n",
      "bone-china-204\n",
      "I'm doing the thing.\n"
     ]
    },
    {
     "name": "stderr",
     "output_type": "stream",
     "text": [
      " 35%|███▍      | 66/191 [00:15<00:12, 10.26it/s]"
     ]
    },
    {
     "name": "stdout",
     "output_type": "stream",
     "text": [
      "bone-china-206\n",
      "I'm doing the thing.\n",
      "bone-china-210\n",
      "I'm doing the thing.\n",
      "bone-china-211\n",
      "I'm doing the thing.\n"
     ]
    },
    {
     "name": "stderr",
     "output_type": "stream",
     "text": [
      "\r",
      " 36%|███▌      | 68/191 [00:16<00:13,  9.26it/s]"
     ]
    },
    {
     "name": "stdout",
     "output_type": "stream",
     "text": [
      "bone-china-226\n",
      "I'm doing the thing.\n",
      "bone-hup-129\n",
      "I'm doing the thing.\n",
      "bone-hup-144\n",
      "I'm doing the thing.\n"
     ]
    },
    {
     "name": "stderr",
     "output_type": "stream",
     "text": [
      "\r",
      " 37%|███▋      | 70/191 [00:16<00:16,  7.49it/s]"
     ]
    },
    {
     "name": "stdout",
     "output_type": "stream",
     "text": [
      "bone-hup-145\n",
      "I'm doing the thing.\n"
     ]
    },
    {
     "name": "stderr",
     "output_type": "stream",
     "text": [
      "\r",
      " 37%|███▋      | 71/191 [00:16<00:20,  5.85it/s]"
     ]
    },
    {
     "name": "stdout",
     "output_type": "stream",
     "text": [
      "bone-hup-147\n",
      "I'm doing the thing.\n"
     ]
    },
    {
     "name": "stderr",
     "output_type": "stream",
     "text": [
      "\r",
      " 38%|███▊      | 72/191 [00:17<00:25,  4.74it/s]"
     ]
    },
    {
     "name": "stdout",
     "output_type": "stream",
     "text": [
      "bone-hup-153\n",
      "I'm doing the thing.\n"
     ]
    },
    {
     "name": "stderr",
     "output_type": "stream",
     "text": [
      "\r",
      " 38%|███▊      | 73/191 [00:17<00:30,  3.81it/s]"
     ]
    },
    {
     "name": "stdout",
     "output_type": "stream",
     "text": [
      "bone-hup-157\n",
      "I'm doing the thing.\n"
     ]
    },
    {
     "name": "stderr",
     "output_type": "stream",
     "text": [
      " 39%|███▉      | 75/191 [00:18<00:29,  3.87it/s]"
     ]
    },
    {
     "name": "stdout",
     "output_type": "stream",
     "text": [
      "bone-hup-166\n",
      "I'm doing the thing.\n",
      "bone-hup-170\n",
      "I'm doing the thing.\n",
      "bone-hup-176\n",
      "I'm doing the thing.\n"
     ]
    },
    {
     "name": "stderr",
     "output_type": "stream",
     "text": [
      " 41%|████▏     | 79/191 [00:18<00:15,  7.11it/s]"
     ]
    },
    {
     "name": "stdout",
     "output_type": "stream",
     "text": [
      "4dim\n",
      "4dim\n",
      "4dim\n",
      "bone-hup-183\n",
      "I'm doing the thing.\n",
      "bone-hup-192\n",
      "I'm doing the thing.\n",
      "bone-hup-196\n",
      "I'm doing the thing.\n"
     ]
    },
    {
     "name": "stderr",
     "output_type": "stream",
     "text": [
      "\r",
      " 42%|████▏     | 80/191 [00:18<00:16,  6.84it/s]"
     ]
    },
    {
     "name": "stdout",
     "output_type": "stream",
     "text": [
      "bone-hup-204\n",
      "I'm doing the thing.\n"
     ]
    },
    {
     "name": "stderr",
     "output_type": "stream",
     "text": [
      "\r",
      " 42%|████▏     | 81/191 [00:18<00:18,  6.02it/s]"
     ]
    },
    {
     "name": "stdout",
     "output_type": "stream",
     "text": [
      "bone-hup-205\n",
      "I'm doing the thing.\n"
     ]
    },
    {
     "name": "stderr",
     "output_type": "stream",
     "text": [
      " 43%|████▎     | 83/191 [00:19<00:18,  5.75it/s]"
     ]
    },
    {
     "name": "stdout",
     "output_type": "stream",
     "text": [
      "bone-hup-216\n",
      "I'm doing the thing.\n",
      "bone-hup-222\n",
      "I'm doing the thing.\n"
     ]
    },
    {
     "name": "stderr",
     "output_type": "stream",
     "text": [
      "\r",
      " 44%|████▍     | 84/191 [00:19<00:21,  4.95it/s]"
     ]
    },
    {
     "name": "stdout",
     "output_type": "stream",
     "text": [
      "bone-hup-246\n",
      "I'm doing the thing.\n"
     ]
    },
    {
     "name": "stderr",
     "output_type": "stream",
     "text": [
      " 46%|████▌     | 87/191 [00:19<00:16,  6.48it/s]"
     ]
    },
    {
     "name": "stdout",
     "output_type": "stream",
     "text": [
      "bone-hup-292\n",
      "I'm doing the thing.\n",
      "bone-hup-295\n",
      "I'm doing the thing.\n",
      "bone-hup-301\n",
      "I'm doing the thing.\n"
     ]
    },
    {
     "name": "stderr",
     "output_type": "stream",
     "text": [
      " 47%|████▋     | 89/191 [00:20<00:14,  7.09it/s]"
     ]
    },
    {
     "name": "stdout",
     "output_type": "stream",
     "text": [
      "bone-hup-303\n",
      "I'm doing the thing.\n",
      "bone-hup-307\n",
      "I'm doing the thing.\n"
     ]
    },
    {
     "name": "stderr",
     "output_type": "stream",
     "text": [
      " 48%|████▊     | 91/191 [00:20<00:13,  7.53it/s]"
     ]
    },
    {
     "name": "stdout",
     "output_type": "stream",
     "text": [
      "bone-hup-315\n",
      "I'm doing the thing.\n",
      "bone-hup-320\n",
      "I'm doing the thing.\n"
     ]
    },
    {
     "name": "stderr",
     "output_type": "stream",
     "text": [
      "\r",
      " 48%|████▊     | 92/191 [00:20<00:14,  7.04it/s]"
     ]
    },
    {
     "name": "stdout",
     "output_type": "stream",
     "text": [
      "bone-hup-322\n",
      "I'm doing the thing.\n"
     ]
    },
    {
     "name": "stderr",
     "output_type": "stream",
     "text": [
      "\r",
      " 49%|████▊     | 93/191 [00:20<00:17,  5.55it/s]"
     ]
    },
    {
     "name": "stdout",
     "output_type": "stream",
     "text": [
      "bone-hup-327\n",
      "I'm doing the thing.\n",
      "bone-hup-329\n",
      "I'm doing the thing.\n"
     ]
    },
    {
     "name": "stderr",
     "output_type": "stream",
     "text": [
      " 50%|█████     | 96/191 [00:21<00:17,  5.41it/s]"
     ]
    },
    {
     "name": "stdout",
     "output_type": "stream",
     "text": [
      "bone-hup-48\n",
      "I'm doing the thing.\n",
      "bone-hup-54\n",
      "I'm doing the thing.\n",
      "bone-hup-72\n",
      "I'm doing the thing.\n"
     ]
    },
    {
     "name": "stderr",
     "output_type": "stream",
     "text": [
      " 52%|█████▏    | 100/191 [00:22<00:12,  7.07it/s]"
     ]
    },
    {
     "name": "stdout",
     "output_type": "stream",
     "text": [
      "bone-hup-73\n",
      "I'm doing the thing.\n",
      "bone-hup-77\n",
      "I'm doing the thing.\n",
      "bone-hup-89\n",
      "I'm doing the thing.\n"
     ]
    },
    {
     "name": "stderr",
     "output_type": "stream",
     "text": [
      " 53%|█████▎    | 102/191 [00:22<00:14,  6.09it/s]"
     ]
    },
    {
     "name": "stdout",
     "output_type": "stream",
     "text": [
      "bone-penn-002\n",
      "I'm doing the thing.\n",
      "bone-penn-004\n",
      "I'm doing the thing.\n",
      "bone-penn-010\n",
      "I'm doing the thing.\n"
     ]
    },
    {
     "name": "stderr",
     "output_type": "stream",
     "text": [
      "\r",
      " 54%|█████▍    | 104/191 [00:22<00:13,  6.37it/s]"
     ]
    },
    {
     "name": "stdout",
     "output_type": "stream",
     "text": [
      "bone-penn-013\n",
      "I'm doing the thing.\n"
     ]
    },
    {
     "name": "stderr",
     "output_type": "stream",
     "text": [
      "\r",
      " 55%|█████▍    | 105/191 [00:24<00:48,  1.76it/s]"
     ]
    },
    {
     "name": "stdout",
     "output_type": "stream",
     "text": [
      "bone-penn-017\n",
      "I'm doing the thing.\n"
     ]
    },
    {
     "name": "stderr",
     "output_type": "stream",
     "text": [
      "\r",
      " 55%|█████▌    | 106/191 [00:25<00:47,  1.81it/s]"
     ]
    },
    {
     "name": "stdout",
     "output_type": "stream",
     "text": [
      "bone-penn-026\n",
      "I'm doing the thing.\n",
      "bone-penn-028\n",
      "I'm doing the thing.\n"
     ]
    },
    {
     "name": "stderr",
     "output_type": "stream",
     "text": [
      "\r",
      " 57%|█████▋    | 108/191 [00:25<00:30,  2.69it/s]"
     ]
    },
    {
     "name": "stdout",
     "output_type": "stream",
     "text": [
      "bone-penn-031\n",
      "I'm doing the thing.\n",
      "bone-penn-032\n",
      "I'm doing the thing.\n"
     ]
    },
    {
     "name": "stderr",
     "output_type": "stream",
     "text": [
      " 58%|█████▊    | 111/191 [00:26<00:22,  3.55it/s]"
     ]
    },
    {
     "name": "stdout",
     "output_type": "stream",
     "text": [
      "bone-penn-035\n",
      "I'm doing the thing.\n",
      "bone-penn-041\n",
      "I'm doing the thing.\n"
     ]
    },
    {
     "name": "stderr",
     "output_type": "stream",
     "text": [
      "\r",
      " 59%|█████▊    | 112/191 [00:26<00:19,  4.09it/s]"
     ]
    },
    {
     "name": "stdout",
     "output_type": "stream",
     "text": [
      "bone-penn-044\n",
      "I'm doing the thing.\n"
     ]
    },
    {
     "name": "stderr",
     "output_type": "stream",
     "text": [
      " 60%|█████▉    | 114/191 [00:26<00:20,  3.81it/s]"
     ]
    },
    {
     "name": "stdout",
     "output_type": "stream",
     "text": [
      "bone-penn-055\n",
      "I'm doing the thing.\n",
      "bone-penn-059\n",
      "I'm doing the thing.\n"
     ]
    },
    {
     "name": "stderr",
     "output_type": "stream",
     "text": [
      "\r",
      " 60%|██████    | 115/191 [00:26<00:18,  4.14it/s]"
     ]
    },
    {
     "name": "stdout",
     "output_type": "stream",
     "text": [
      "bone-penn-061\n",
      "I'm doing the thing.\n"
     ]
    },
    {
     "name": "stderr",
     "output_type": "stream",
     "text": [
      "\r",
      " 61%|██████    | 116/191 [00:27<00:18,  4.06it/s]"
     ]
    },
    {
     "name": "stdout",
     "output_type": "stream",
     "text": [
      "bone-penn-063\n",
      "I'm doing the thing.\n"
     ]
    },
    {
     "name": "stderr",
     "output_type": "stream",
     "text": [
      "\r",
      " 61%|██████▏   | 117/191 [00:27<00:24,  3.06it/s]"
     ]
    },
    {
     "name": "stdout",
     "output_type": "stream",
     "text": [
      "bone-penn-065\n",
      "I'm doing the thing.\n"
     ]
    },
    {
     "name": "stderr",
     "output_type": "stream",
     "text": [
      "\r",
      " 62%|██████▏   | 118/191 [00:28<00:27,  2.68it/s]"
     ]
    },
    {
     "name": "stdout",
     "output_type": "stream",
     "text": [
      "bone-penn-067\n",
      "I'm doing the thing.\n",
      "bone-penn-087\n",
      "I'm doing the thing.\n"
     ]
    },
    {
     "name": "stderr",
     "output_type": "stream",
     "text": [
      "\r",
      " 63%|██████▎   | 120/191 [00:28<00:24,  2.95it/s]"
     ]
    },
    {
     "name": "stdout",
     "output_type": "stream",
     "text": [
      "bone-penn-096\n",
      "I'm doing the thing.\n",
      "bone-penn-101\n",
      "I'm doing the thing.\n"
     ]
    },
    {
     "name": "stderr",
     "output_type": "stream",
     "text": [
      " 64%|██████▍   | 123/191 [00:29<00:15,  4.48it/s]"
     ]
    },
    {
     "name": "stdout",
     "output_type": "stream",
     "text": [
      "bone-penn-104\n",
      "I'm doing the thing.\n",
      "bone-penn-108\n",
      "I'm doing the thing.\n"
     ]
    },
    {
     "name": "stderr",
     "output_type": "stream",
     "text": [
      " 65%|██████▌   | 125/191 [00:29<00:14,  4.43it/s]"
     ]
    },
    {
     "name": "stdout",
     "output_type": "stream",
     "text": [
      "bone-penn-115\n",
      "I'm doing the thing.\n",
      "bone-penn-124\n",
      "I'm doing the thing.\n"
     ]
    },
    {
     "name": "stderr",
     "output_type": "stream",
     "text": [
      " 66%|██████▋   | 127/191 [00:29<00:11,  5.69it/s]"
     ]
    },
    {
     "name": "stdout",
     "output_type": "stream",
     "text": [
      "bone-penn-132\n",
      "I'm doing the thing.\n",
      "bone-penn-143\n",
      "I'm doing the thing.\n"
     ]
    },
    {
     "name": "stderr",
     "output_type": "stream",
     "text": [
      " 68%|██████▊   | 129/191 [00:30<00:09,  6.78it/s]"
     ]
    },
    {
     "name": "stdout",
     "output_type": "stream",
     "text": [
      "bone-penn-145\n",
      "I'm doing the thing.\n",
      "bone-penn-151\n",
      "I'm doing the thing.\n"
     ]
    },
    {
     "name": "stderr",
     "output_type": "stream",
     "text": [
      "\r",
      " 69%|██████▊   | 131/191 [00:30<00:07,  8.48it/s]"
     ]
    },
    {
     "name": "stdout",
     "output_type": "stream",
     "text": [
      "bone-penn-159\n",
      "I'm doing the thing.\n",
      "bone-penn-165\n",
      "I'm doing the thing.\n",
      "bone-penn-166\n",
      "I'm doing the thing.\n"
     ]
    },
    {
     "name": "stderr",
     "output_type": "stream",
     "text": [
      " 70%|███████   | 134/191 [00:30<00:06,  9.12it/s]"
     ]
    },
    {
     "name": "stdout",
     "output_type": "stream",
     "text": [
      "bone-penn-169\n",
      "I'm doing the thing.\n",
      "bone-penn-176\n",
      "I'm doing the thing.\n"
     ]
    },
    {
     "name": "stderr",
     "output_type": "stream",
     "text": [
      " 71%|███████   | 136/191 [00:30<00:06,  7.91it/s]"
     ]
    },
    {
     "name": "stdout",
     "output_type": "stream",
     "text": [
      "bone-penn-182\n",
      "I'm doing the thing.\n",
      "bone-penn-186\n",
      "I'm doing the thing.\n"
     ]
    },
    {
     "name": "stderr",
     "output_type": "stream",
     "text": [
      "\r",
      " 72%|███████▏  | 137/191 [00:31<00:11,  4.70it/s]"
     ]
    },
    {
     "name": "stdout",
     "output_type": "stream",
     "text": [
      "bone-penn-203\n",
      "I'm doing the thing.\n"
     ]
    },
    {
     "name": "stderr",
     "output_type": "stream",
     "text": [
      "\r",
      " 72%|███████▏  | 138/191 [00:32<00:21,  2.49it/s]"
     ]
    },
    {
     "name": "stdout",
     "output_type": "stream",
     "text": [
      "bone-penn-211\n",
      "I'm doing the thing.\n"
     ]
    },
    {
     "name": "stderr",
     "output_type": "stream",
     "text": [
      "\r",
      " 73%|███████▎  | 139/191 [00:32<00:21,  2.37it/s]"
     ]
    },
    {
     "name": "stdout",
     "output_type": "stream",
     "text": [
      "bone-penn-226\n",
      "I'm doing the thing.\n",
      "bone-penn-234\n",
      "I'm doing the thing.\n"
     ]
    },
    {
     "name": "stderr",
     "output_type": "stream",
     "text": [
      " 75%|███████▍  | 143/191 [00:33<00:10,  4.54it/s]"
     ]
    },
    {
     "name": "stdout",
     "output_type": "stream",
     "text": [
      "bone-penn-259\n",
      "I'm doing the thing.\n",
      "bone-penn-263\n",
      "I'm doing the thing.\n",
      "bone-penn-265\n",
      "I'm doing the thing.\n"
     ]
    },
    {
     "name": "stderr",
     "output_type": "stream",
     "text": [
      "\r",
      " 75%|███████▌  | 144/191 [00:33<00:11,  4.01it/s]"
     ]
    },
    {
     "name": "stdout",
     "output_type": "stream",
     "text": [
      "bone-penn-270\n",
      "I'm doing the thing.\n"
     ]
    },
    {
     "name": "stderr",
     "output_type": "stream",
     "text": [
      "\r",
      " 76%|███████▌  | 145/191 [00:33<00:11,  4.16it/s]"
     ]
    },
    {
     "name": "stdout",
     "output_type": "stream",
     "text": [
      "bone-penn-273\n",
      "I'm doing the thing.\n"
     ]
    },
    {
     "name": "stderr",
     "output_type": "stream",
     "text": [
      "\r",
      " 76%|███████▋  | 146/191 [00:34<00:10,  4.16it/s]"
     ]
    },
    {
     "name": "stdout",
     "output_type": "stream",
     "text": [
      "bone-penn-274\n",
      "I'm doing the thing.\n"
     ]
    },
    {
     "name": "stderr",
     "output_type": "stream",
     "text": [
      " 78%|███████▊  | 149/191 [00:35<00:11,  3.80it/s]"
     ]
    },
    {
     "name": "stdout",
     "output_type": "stream",
     "text": [
      "bone-penn-275\n",
      "I'm doing the thing.\n",
      "bone-penn-281\n",
      "I'm doing the thing.\n",
      "bone-penn-309\n",
      "I'm doing the thing.\n"
     ]
    },
    {
     "name": "stderr",
     "output_type": "stream",
     "text": [
      "\r",
      " 79%|███████▊  | 150/191 [00:35<00:09,  4.37it/s]"
     ]
    },
    {
     "name": "stdout",
     "output_type": "stream",
     "text": [
      "bone-penn-329\n",
      "I'm doing the thing.\n"
     ]
    },
    {
     "name": "stderr",
     "output_type": "stream",
     "text": [
      "\r",
      " 79%|███████▉  | 151/191 [00:35<00:11,  3.47it/s]"
     ]
    },
    {
     "name": "stdout",
     "output_type": "stream",
     "text": [
      "bone-penn-334\n",
      "I'm doing the thing.\n"
     ]
    },
    {
     "name": "stderr",
     "output_type": "stream",
     "text": [
      "\r",
      " 80%|███████▉  | 152/191 [00:36<00:13,  2.98it/s]"
     ]
    },
    {
     "name": "stdout",
     "output_type": "stream",
     "text": [
      "bone-penn-378\n",
      "I'm doing the thing.\n"
     ]
    },
    {
     "name": "stderr",
     "output_type": "stream",
     "text": [
      "\r",
      " 80%|████████  | 153/191 [00:36<00:13,  2.92it/s]"
     ]
    },
    {
     "name": "stdout",
     "output_type": "stream",
     "text": [
      "bone-penn-381\n",
      "I'm doing the thing.\n",
      "bone-penn-383\n",
      "I'm doing the thing.\n"
     ]
    },
    {
     "name": "stderr",
     "output_type": "stream",
     "text": [
      "\r",
      " 81%|████████  | 155/191 [00:36<00:08,  4.20it/s]"
     ]
    },
    {
     "name": "stdout",
     "output_type": "stream",
     "text": [
      "bone-penn-390\n",
      "I'm doing the thing.\n"
     ]
    },
    {
     "name": "stderr",
     "output_type": "stream",
     "text": [
      "\r",
      " 82%|████████▏ | 156/191 [00:36<00:08,  4.27it/s]"
     ]
    },
    {
     "name": "stdout",
     "output_type": "stream",
     "text": [
      "bone-penn-403\n",
      "I'm doing the thing.\n",
      "bone-penn-439\n",
      "I'm doing the thing.\n"
     ]
    },
    {
     "name": "stderr",
     "output_type": "stream",
     "text": [
      " 83%|████████▎ | 159/191 [00:37<00:06,  4.72it/s]"
     ]
    },
    {
     "name": "stdout",
     "output_type": "stream",
     "text": [
      "bone-penn-456\n",
      "I'm doing the thing.\n",
      "bone-penn-462\n",
      "I'm doing the thing.\n"
     ]
    },
    {
     "name": "stderr",
     "output_type": "stream",
     "text": [
      " 84%|████████▍ | 161/191 [00:37<00:06,  4.86it/s]"
     ]
    },
    {
     "name": "stdout",
     "output_type": "stream",
     "text": [
      "bone-penn-464\n",
      "I'm doing the thing.\n",
      "bone-penn-466\n",
      "I'm doing the thing.\n"
     ]
    },
    {
     "name": "stderr",
     "output_type": "stream",
     "text": [
      "\r",
      " 85%|████████▍ | 162/191 [00:38<00:09,  3.05it/s]"
     ]
    },
    {
     "name": "stdout",
     "output_type": "stream",
     "text": [
      "bone-penn-481\n",
      "I'm doing the thing.\n",
      "bone-penn-485\n",
      "I'm doing the thing.\n"
     ]
    },
    {
     "name": "stderr",
     "output_type": "stream",
     "text": [
      " 87%|████████▋ | 166/191 [00:39<00:05,  4.87it/s]"
     ]
    },
    {
     "name": "stdout",
     "output_type": "stream",
     "text": [
      "bone-penn-488\n",
      "I'm doing the thing.\n",
      "bone-penn-491\n",
      "I'm doing the thing.\n",
      "bone-penn-492\n",
      "I'm doing the thing.\n"
     ]
    },
    {
     "name": "stderr",
     "output_type": "stream",
     "text": [
      "\r",
      " 87%|████████▋ | 167/191 [00:39<00:04,  5.30it/s]"
     ]
    },
    {
     "name": "stdout",
     "output_type": "stream",
     "text": [
      "bone-penn-498\n",
      "I'm doing the thing.\n",
      "bone-penn-500\n",
      "I'm doing the thing.\n"
     ]
    },
    {
     "name": "stderr",
     "output_type": "stream",
     "text": [
      " 89%|████████▉ | 170/191 [00:40<00:04,  4.95it/s]"
     ]
    },
    {
     "name": "stdout",
     "output_type": "stream",
     "text": [
      "bone-penn-502\n",
      "I'm doing the thing.\n",
      "bone-penn-504\n",
      "I'm doing the thing.\n"
     ]
    },
    {
     "name": "stderr",
     "output_type": "stream",
     "text": [
      " 90%|█████████ | 172/191 [00:40<00:03,  5.00it/s]"
     ]
    },
    {
     "name": "stdout",
     "output_type": "stream",
     "text": [
      "bone-penn-508\n",
      "I'm doing the thing.\n",
      "bone-penn-511\n",
      "I'm doing the thing.\n",
      "bone-penn-513\n",
      "I'm doing the thing.\n"
     ]
    },
    {
     "name": "stderr",
     "output_type": "stream",
     "text": [
      "\r",
      " 91%|█████████ | 174/191 [00:40<00:03,  5.50it/s]"
     ]
    },
    {
     "name": "stdout",
     "output_type": "stream",
     "text": [
      "bone-penn-526\n",
      "I'm doing the thing.\n",
      "bone-penn-537\n",
      "I'm doing the thing.\n"
     ]
    },
    {
     "name": "stderr",
     "output_type": "stream",
     "text": [
      " 93%|█████████▎| 177/191 [00:41<00:02,  6.44it/s]"
     ]
    },
    {
     "name": "stdout",
     "output_type": "stream",
     "text": [
      "bone-penn-539\n",
      "I'm doing the thing.\n",
      "bone-penn-553\n",
      "I'm doing the thing.\n"
     ]
    },
    {
     "name": "stderr",
     "output_type": "stream",
     "text": [
      "\r",
      " 93%|█████████▎| 178/191 [00:41<00:01,  6.82it/s]"
     ]
    },
    {
     "name": "stdout",
     "output_type": "stream",
     "text": [
      "bone-penn-564\n",
      "I'm doing the thing.\n",
      "bone-penn-576\n",
      "I'm doing the thing.\n"
     ]
    },
    {
     "name": "stderr",
     "output_type": "stream",
     "text": [
      "\r",
      " 94%|█████████▍| 180/191 [00:41<00:01,  7.14it/s]"
     ]
    },
    {
     "name": "stdout",
     "output_type": "stream",
     "text": [
      "bone-penn-583\n",
      "I'm doing the thing.\n"
     ]
    },
    {
     "name": "stderr",
     "output_type": "stream",
     "text": [
      "\r",
      " 95%|█████████▍| 181/191 [00:41<00:02,  4.83it/s]"
     ]
    },
    {
     "name": "stdout",
     "output_type": "stream",
     "text": [
      "bone-penn-584\n",
      "I'm doing the thing.\n",
      "bone-penn-590\n",
      "I'm doing the thing.\n"
     ]
    },
    {
     "name": "stderr",
     "output_type": "stream",
     "text": [
      "\r",
      " 96%|█████████▌| 183/191 [00:42<00:02,  3.67it/s]"
     ]
    },
    {
     "name": "stdout",
     "output_type": "stream",
     "text": [
      "bone-penn-595\n",
      "I'm doing the thing.\n"
     ]
    },
    {
     "name": "stderr",
     "output_type": "stream",
     "text": [
      " 97%|█████████▋| 185/191 [00:43<00:01,  3.71it/s]"
     ]
    },
    {
     "name": "stdout",
     "output_type": "stream",
     "text": [
      "bone-penn-607\n",
      "I'm doing the thing.\n",
      "bone-penn-608\n",
      "I'm doing the thing.\n"
     ]
    },
    {
     "name": "stderr",
     "output_type": "stream",
     "text": [
      " 98%|█████████▊| 187/191 [00:43<00:00,  4.90it/s]"
     ]
    },
    {
     "name": "stdout",
     "output_type": "stream",
     "text": [
      "bone-penn-618\n",
      "I'm doing the thing.\n",
      "bone-penn-628\n",
      "I'm doing the thing.\n"
     ]
    },
    {
     "name": "stderr",
     "output_type": "stream",
     "text": [
      "\r",
      " 98%|█████████▊| 188/191 [00:43<00:00,  5.27it/s]"
     ]
    },
    {
     "name": "stdout",
     "output_type": "stream",
     "text": [
      "bone-penn-645\n",
      "I'm doing the thing.\n",
      "bone-penn-646\n",
      "I'm doing the thing.\n"
     ]
    },
    {
     "name": "stderr",
     "output_type": "stream",
     "text": [
      "100%|██████████| 191/191 [00:44<00:00,  4.33it/s]\n",
      "  0%|          | 0/93 [00:00<?, ?it/s]"
     ]
    },
    {
     "name": "stdout",
     "output_type": "stream",
     "text": [
      "bone-penn-647\n",
      "I'm doing the thing.\n",
      "bone-brown-90\n",
      "I'm doing the thing.\n"
     ]
    },
    {
     "name": "stderr",
     "output_type": "stream",
     "text": [
      "  3%|▎         | 3/93 [00:00<00:18,  4.78it/s]"
     ]
    },
    {
     "name": "stdout",
     "output_type": "stream",
     "text": [
      "bone-china-007\n",
      "I'm doing the thing.\n",
      "bone-china-012\n",
      "I'm doing the thing.\n",
      "bone-china-013\n",
      "I'm doing the thing.\n"
     ]
    },
    {
     "name": "stderr",
     "output_type": "stream",
     "text": [
      "  6%|▋         | 6/93 [00:01<00:10,  7.93it/s]"
     ]
    },
    {
     "name": "stdout",
     "output_type": "stream",
     "text": [
      "bone-china-018\n",
      "I'm doing the thing.\n",
      "bone-china-032\n",
      "I'm doing the thing.\n",
      "bone-china-042\n",
      "I'm doing the thing.\n"
     ]
    },
    {
     "name": "stderr",
     "output_type": "stream",
     "text": [
      "\r",
      "  9%|▊         | 8/93 [00:01<00:11,  7.35it/s]"
     ]
    },
    {
     "name": "stdout",
     "output_type": "stream",
     "text": [
      "bone-china-063\n",
      "I'm doing the thing.\n",
      "bone-china-064\n",
      "I'm doing the thing.\n"
     ]
    },
    {
     "name": "stderr",
     "output_type": "stream",
     "text": [
      " 11%|█         | 10/93 [00:01<00:11,  7.42it/s]"
     ]
    },
    {
     "name": "stdout",
     "output_type": "stream",
     "text": [
      "bone-china-073\n",
      "I'm doing the thing.\n",
      "bone-china-082\n",
      "I'm doing the thing.\n",
      "bone-china-094\n",
      "I'm doing the thing.\n"
     ]
    },
    {
     "name": "stderr",
     "output_type": "stream",
     "text": [
      "\r",
      " 13%|█▎        | 12/93 [00:01<00:08,  9.38it/s]"
     ]
    },
    {
     "name": "stdout",
     "output_type": "stream",
     "text": [
      "bone-china-115\n",
      "I'm doing the thing.\n",
      "bone-china-130\n",
      "I'm doing the thing.\n"
     ]
    },
    {
     "name": "stderr",
     "output_type": "stream",
     "text": [
      "\r",
      " 15%|█▌        | 14/93 [00:02<00:09,  7.94it/s]"
     ]
    },
    {
     "name": "stdout",
     "output_type": "stream",
     "text": [
      "bone-china-137\n",
      "I'm doing the thing.\n",
      "bone-china-139\n",
      "I'm doing the thing.\n",
      "bone-china-142\n",
      "I'm doing the thing.\n"
     ]
    },
    {
     "name": "stderr",
     "output_type": "stream",
     "text": [
      " 19%|█▉        | 18/93 [00:02<00:10,  7.48it/s]"
     ]
    },
    {
     "name": "stdout",
     "output_type": "stream",
     "text": [
      "bone-china-150\n",
      "I'm doing the thing.\n",
      "bone-china-156\n",
      "I'm doing the thing.\n",
      "bone-china-157\n",
      "I'm doing the thing.\n"
     ]
    },
    {
     "name": "stderr",
     "output_type": "stream",
     "text": [
      "\r",
      " 23%|██▎       | 21/93 [00:02<00:07, 10.09it/s]"
     ]
    },
    {
     "name": "stdout",
     "output_type": "stream",
     "text": [
      "bone-china-181\n",
      "I'm doing the thing.\n",
      "bone-china-182\n",
      "I'm doing the thing.\n",
      "bone-china-188\n",
      "I'm doing the thing.\n"
     ]
    },
    {
     "name": "stderr",
     "output_type": "stream",
     "text": [
      "\r",
      " 25%|██▍       | 23/93 [00:02<00:07,  9.97it/s]"
     ]
    },
    {
     "name": "stdout",
     "output_type": "stream",
     "text": [
      "bone-china-202\n",
      "I'm doing the thing.\n",
      "bone-china-208\n",
      "I'm doing the thing.\n"
     ]
    },
    {
     "name": "stderr",
     "output_type": "stream",
     "text": [
      "\r",
      " 27%|██▋       | 25/93 [00:03<00:06,  9.95it/s]"
     ]
    },
    {
     "name": "stdout",
     "output_type": "stream",
     "text": [
      "bone-china-229\n",
      "I'm doing the thing.\n"
     ]
    },
    {
     "name": "stderr",
     "output_type": "stream",
     "text": [
      "\r",
      " 29%|██▉       | 27/93 [00:03<00:08,  7.63it/s]"
     ]
    },
    {
     "name": "stdout",
     "output_type": "stream",
     "text": [
      "bone-china-232\n",
      "I'm doing the thing.\n",
      "bone-china-233\n",
      "I'm doing the thing.\n",
      "bone-china-235\n",
      "I'm doing the thing.\n"
     ]
    },
    {
     "name": "stderr",
     "output_type": "stream",
     "text": [
      " 32%|███▏      | 30/93 [00:03<00:08,  7.35it/s]"
     ]
    },
    {
     "name": "stdout",
     "output_type": "stream",
     "text": [
      "bone-china-241\n",
      "I'm doing the thing.\n",
      "bone-hup-164\n",
      "I'm doing the thing.\n"
     ]
    },
    {
     "name": "stderr",
     "output_type": "stream",
     "text": [
      " 34%|███▍      | 32/93 [00:04<00:09,  6.69it/s]"
     ]
    },
    {
     "name": "stdout",
     "output_type": "stream",
     "text": [
      "bone-hup-182\n",
      "I'm doing the thing.\n",
      "bone-hup-190\n",
      "I'm doing the thing.\n"
     ]
    },
    {
     "name": "stderr",
     "output_type": "stream",
     "text": [
      "\r",
      " 35%|███▌      | 33/93 [00:04<00:11,  5.31it/s]"
     ]
    },
    {
     "name": "stdout",
     "output_type": "stream",
     "text": [
      "bone-hup-195\n",
      "I'm doing the thing.\n",
      "bone-hup-236\n",
      "I'm doing the thing.\n"
     ]
    },
    {
     "name": "stderr",
     "output_type": "stream",
     "text": [
      "\r",
      " 38%|███▊      | 35/93 [00:04<00:09,  6.18it/s]"
     ]
    },
    {
     "name": "stdout",
     "output_type": "stream",
     "text": [
      "bone-hup-238\n",
      "I'm doing the thing.\n",
      "bone-hup-294\n",
      "I'm doing the thing.\n"
     ]
    },
    {
     "name": "stderr",
     "output_type": "stream",
     "text": [
      " 41%|████      | 38/93 [00:05<00:08,  6.35it/s]"
     ]
    },
    {
     "name": "stdout",
     "output_type": "stream",
     "text": [
      "bone-hup-300\n",
      "I'm doing the thing.\n",
      "bone-hup-311\n",
      "I'm doing the thing.\n"
     ]
    },
    {
     "name": "stderr",
     "output_type": "stream",
     "text": [
      "\r",
      " 42%|████▏     | 39/93 [00:05<00:13,  3.99it/s]"
     ]
    },
    {
     "name": "stdout",
     "output_type": "stream",
     "text": [
      "bone-hup-313\n",
      "I'm doing the thing.\n"
     ]
    },
    {
     "name": "stderr",
     "output_type": "stream",
     "text": [
      "\r",
      " 43%|████▎     | 40/93 [00:06<00:12,  4.11it/s]"
     ]
    },
    {
     "name": "stdout",
     "output_type": "stream",
     "text": [
      "bone-hup-318\n",
      "I'm doing the thing.\n"
     ]
    },
    {
     "name": "stderr",
     "output_type": "stream",
     "text": [
      "\r",
      " 44%|████▍     | 41/93 [00:07<00:22,  2.35it/s]"
     ]
    },
    {
     "name": "stdout",
     "output_type": "stream",
     "text": [
      "bone-hup-53\n",
      "I'm doing the thing.\n",
      "bone-hup-94\n",
      "I'm doing the thing.\n"
     ]
    },
    {
     "name": "stderr",
     "output_type": "stream",
     "text": [
      " 47%|████▋     | 44/93 [00:07<00:14,  3.44it/s]"
     ]
    },
    {
     "name": "stdout",
     "output_type": "stream",
     "text": [
      "bone-penn-015\n",
      "I'm doing the thing.\n",
      "bone-penn-071\n",
      "I'm doing the thing.\n"
     ]
    },
    {
     "name": "stderr",
     "output_type": "stream",
     "text": [
      "\r",
      " 48%|████▊     | 45/93 [00:07<00:11,  4.11it/s]"
     ]
    },
    {
     "name": "stdout",
     "output_type": "stream",
     "text": [
      "bone-penn-075\n",
      "I'm doing the thing.\n"
     ]
    },
    {
     "name": "stderr",
     "output_type": "stream",
     "text": [
      "\r",
      " 49%|████▉     | 46/93 [00:08<00:12,  3.75it/s]"
     ]
    },
    {
     "name": "stdout",
     "output_type": "stream",
     "text": [
      "bone-penn-077\n",
      "I'm doing the thing.\n"
     ]
    },
    {
     "name": "stderr",
     "output_type": "stream",
     "text": [
      "\r",
      " 51%|█████     | 47/93 [00:08<00:12,  3.57it/s]"
     ]
    },
    {
     "name": "stdout",
     "output_type": "stream",
     "text": [
      "bone-penn-080\n",
      "I'm doing the thing.\n"
     ]
    },
    {
     "name": "stderr",
     "output_type": "stream",
     "text": [
      "\r",
      " 52%|█████▏    | 48/93 [00:08<00:14,  3.15it/s]"
     ]
    },
    {
     "name": "stdout",
     "output_type": "stream",
     "text": [
      "bone-penn-086\n",
      "I'm doing the thing.\n"
     ]
    },
    {
     "name": "stderr",
     "output_type": "stream",
     "text": [
      " 54%|█████▍    | 50/93 [00:09<00:11,  3.69it/s]"
     ]
    },
    {
     "name": "stdout",
     "output_type": "stream",
     "text": [
      "bone-penn-090\n",
      "I'm doing the thing.\n",
      "bone-penn-103\n",
      "I'm doing the thing.\n"
     ]
    },
    {
     "name": "stderr",
     "output_type": "stream",
     "text": [
      " 56%|█████▌    | 52/93 [00:09<00:09,  4.49it/s]"
     ]
    },
    {
     "name": "stdout",
     "output_type": "stream",
     "text": [
      "bone-penn-117\n",
      "I'm doing the thing.\n",
      "bone-penn-130\n",
      "I'm doing the thing.\n"
     ]
    },
    {
     "name": "stderr",
     "output_type": "stream",
     "text": [
      "\r",
      " 57%|█████▋    | 53/93 [00:09<00:09,  4.36it/s]"
     ]
    },
    {
     "name": "stdout",
     "output_type": "stream",
     "text": [
      "bone-penn-131\n",
      "I'm doing the thing.\n",
      "bone-penn-175\n",
      "I'm doing the thing.\n"
     ]
    },
    {
     "name": "stderr",
     "output_type": "stream",
     "text": [
      "\r",
      " 59%|█████▉    | 55/93 [00:10<00:07,  5.32it/s]"
     ]
    },
    {
     "name": "stdout",
     "output_type": "stream",
     "text": [
      "bone-penn-184\n",
      "I'm doing the thing.\n",
      "bone-penn-185\n",
      "I'm doing the thing.\n"
     ]
    },
    {
     "name": "stderr",
     "output_type": "stream",
     "text": [
      "\r",
      " 61%|██████▏   | 57/93 [00:10<00:05,  6.18it/s]"
     ]
    },
    {
     "name": "stdout",
     "output_type": "stream",
     "text": [
      "bone-penn-202\n",
      "I'm doing the thing.\n"
     ]
    },
    {
     "name": "stderr",
     "output_type": "stream",
     "text": [
      " 63%|██████▎   | 59/93 [00:11<00:10,  3.37it/s]"
     ]
    },
    {
     "name": "stdout",
     "output_type": "stream",
     "text": [
      "bone-penn-229\n",
      "I'm doing the thing.\n",
      "bone-penn-233\n",
      "I'm doing the thing.\n"
     ]
    },
    {
     "name": "stderr",
     "output_type": "stream",
     "text": [
      " 67%|██████▋   | 62/93 [00:11<00:05,  5.21it/s]"
     ]
    },
    {
     "name": "stdout",
     "output_type": "stream",
     "text": [
      "bone-penn-271\n",
      "I'm doing the thing.\n",
      "bone-penn-291\n",
      "I'm doing the thing.\n",
      "bone-penn-295\n",
      "I'm doing the thing.\n"
     ]
    },
    {
     "name": "stderr",
     "output_type": "stream",
     "text": [
      " 69%|██████▉   | 64/93 [00:12<00:04,  5.84it/s]"
     ]
    },
    {
     "name": "stdout",
     "output_type": "stream",
     "text": [
      "bone-penn-297\n",
      "I'm doing the thing.\n",
      "bone-penn-366\n",
      "I'm doing the thing.\n"
     ]
    },
    {
     "name": "stderr",
     "output_type": "stream",
     "text": [
      " 71%|███████   | 66/93 [00:12<00:04,  6.32it/s]"
     ]
    },
    {
     "name": "stdout",
     "output_type": "stream",
     "text": [
      "bone-penn-393\n",
      "I'm doing the thing.\n",
      "bone-penn-401\n",
      "I'm doing the thing.\n"
     ]
    },
    {
     "name": "stderr",
     "output_type": "stream",
     "text": [
      "\r",
      " 72%|███████▏  | 67/93 [00:12<00:04,  5.40it/s]"
     ]
    },
    {
     "name": "stdout",
     "output_type": "stream",
     "text": [
      "bone-penn-407\n",
      "I'm doing the thing.\n"
     ]
    },
    {
     "name": "stderr",
     "output_type": "stream",
     "text": [
      " 74%|███████▍  | 69/93 [00:13<00:04,  5.98it/s]"
     ]
    },
    {
     "name": "stdout",
     "output_type": "stream",
     "text": [
      "bone-penn-432\n",
      "I'm doing the thing.\n",
      "bone-penn-433\n",
      "I'm doing the thing.\n"
     ]
    },
    {
     "name": "stderr",
     "output_type": "stream",
     "text": [
      "\r",
      " 75%|███████▌  | 70/93 [00:13<00:07,  3.03it/s]"
     ]
    },
    {
     "name": "stdout",
     "output_type": "stream",
     "text": [
      "bone-penn-435\n",
      "I'm doing the thing.\n"
     ]
    },
    {
     "name": "stderr",
     "output_type": "stream",
     "text": [
      "\r",
      " 76%|███████▋  | 71/93 [00:14<00:07,  2.98it/s]"
     ]
    },
    {
     "name": "stdout",
     "output_type": "stream",
     "text": [
      "bone-penn-468\n",
      "I'm doing the thing.\n"
     ]
    },
    {
     "name": "stderr",
     "output_type": "stream",
     "text": [
      "\r",
      " 77%|███████▋  | 72/93 [00:14<00:09,  2.19it/s]"
     ]
    },
    {
     "name": "stdout",
     "output_type": "stream",
     "text": [
      "bone-penn-469\n",
      "I'm doing the thing.\n"
     ]
    },
    {
     "name": "stderr",
     "output_type": "stream",
     "text": [
      " 81%|████████  | 75/93 [00:15<00:04,  4.09it/s]"
     ]
    },
    {
     "name": "stdout",
     "output_type": "stream",
     "text": [
      "bone-penn-470\n",
      "I'm doing the thing.\n",
      "bone-penn-475\n",
      "I'm doing the thing.\n",
      "bone-penn-486\n",
      "I'm doing the thing.\n"
     ]
    },
    {
     "name": "stderr",
     "output_type": "stream",
     "text": [
      " 83%|████████▎ | 77/93 [00:15<00:03,  5.23it/s]"
     ]
    },
    {
     "name": "stdout",
     "output_type": "stream",
     "text": [
      "bone-penn-493\n",
      "I'm doing the thing.\n",
      "bone-penn-499\n",
      "I'm doing the thing.\n"
     ]
    },
    {
     "name": "stderr",
     "output_type": "stream",
     "text": [
      "\r",
      " 84%|████████▍ | 78/93 [00:15<00:03,  4.73it/s]"
     ]
    },
    {
     "name": "stdout",
     "output_type": "stream",
     "text": [
      "bone-penn-501\n",
      "I'm doing the thing.\n"
     ]
    },
    {
     "name": "stderr",
     "output_type": "stream",
     "text": [
      " 86%|████████▌ | 80/93 [00:18<00:07,  1.67it/s]"
     ]
    },
    {
     "name": "stdout",
     "output_type": "stream",
     "text": [
      "bone-penn-510\n",
      "I'm doing the thing.\n",
      "bone-penn-520\n",
      "I'm doing the thing.\n"
     ]
    },
    {
     "name": "stderr",
     "output_type": "stream",
     "text": [
      " 88%|████████▊ | 82/93 [00:18<00:04,  2.56it/s]"
     ]
    },
    {
     "name": "stdout",
     "output_type": "stream",
     "text": [
      "bone-penn-532\n",
      "I'm doing the thing.\n",
      "bone-penn-540\n",
      "I'm doing the thing.\n"
     ]
    },
    {
     "name": "stderr",
     "output_type": "stream",
     "text": [
      " 91%|█████████▏| 85/93 [00:18<00:01,  4.67it/s]"
     ]
    },
    {
     "name": "stdout",
     "output_type": "stream",
     "text": [
      "bone-penn-544\n",
      "I'm doing the thing.\n",
      "bone-penn-547\n",
      "I'm doing the thing.\n",
      "bone-penn-557\n",
      "I'm doing the thing.\n"
     ]
    },
    {
     "name": "stderr",
     "output_type": "stream",
     "text": [
      "\r",
      " 92%|█████████▏| 86/93 [00:19<00:01,  5.04it/s]"
     ]
    },
    {
     "name": "stdout",
     "output_type": "stream",
     "text": [
      "bone-penn-566\n",
      "I'm doing the thing.\n"
     ]
    },
    {
     "name": "stderr",
     "output_type": "stream",
     "text": [
      "\r",
      " 94%|█████████▎| 87/93 [00:19<00:01,  4.74it/s]"
     ]
    },
    {
     "name": "stdout",
     "output_type": "stream",
     "text": [
      "bone-penn-569\n",
      "I'm doing the thing.\n"
     ]
    },
    {
     "name": "stderr",
     "output_type": "stream",
     "text": [
      "\r",
      " 95%|█████████▍| 88/93 [00:20<00:01,  2.59it/s]"
     ]
    },
    {
     "name": "stdout",
     "output_type": "stream",
     "text": [
      "bone-penn-574\n",
      "I'm doing the thing.\n",
      "bone-penn-591\n",
      "I'm doing the thing.\n"
     ]
    },
    {
     "name": "stderr",
     "output_type": "stream",
     "text": [
      "\r",
      " 97%|█████████▋| 90/93 [00:20<00:00,  3.08it/s]"
     ]
    },
    {
     "name": "stdout",
     "output_type": "stream",
     "text": [
      "bone-penn-594\n",
      "I'm doing the thing.\n",
      "bone-penn-638\n",
      "I'm doing the thing.\n"
     ]
    },
    {
     "name": "stderr",
     "output_type": "stream",
     "text": [
      "100%|██████████| 93/93 [00:21<00:00,  4.40it/s]\n",
      "  0%|          | 0/97 [00:00<?, ?it/s]"
     ]
    },
    {
     "name": "stdout",
     "output_type": "stream",
     "text": [
      "bone-penn-649\n",
      "I'm doing the thing.\n",
      "bone-china-249\n",
      "I'm doing the thing.\n"
     ]
    },
    {
     "name": "stderr",
     "output_type": "stream",
     "text": [
      "\r",
      "  2%|▏         | 2/97 [00:00<00:05, 16.42it/s]"
     ]
    },
    {
     "name": "stdout",
     "output_type": "stream",
     "text": [
      "bone-china-250\n",
      "I'm doing the thing.\n",
      "bone-china-251\n",
      "I'm doing the thing.\n",
      "bone-china-253\n",
      "I'm doing the thing.\n"
     ]
    },
    {
     "name": "stderr",
     "output_type": "stream",
     "text": [
      "\r",
      "  4%|▍         | 4/97 [00:00<00:11,  7.95it/s]"
     ]
    },
    {
     "name": "stdout",
     "output_type": "stream",
     "text": [
      "bone-china-254\n",
      "I'm doing the thing.\n",
      "bone-china-256\n",
      "I'm doing the thing.\n"
     ]
    },
    {
     "name": "stderr",
     "output_type": "stream",
     "text": [
      "  8%|▊         | 8/97 [00:00<00:08,  9.97it/s]"
     ]
    },
    {
     "name": "stdout",
     "output_type": "stream",
     "text": [
      "bone-china-258\n",
      "I'm doing the thing.\n",
      "bone-china-259\n",
      "I'm doing the thing.\n",
      "bone-china-260\n",
      "I'm doing the thing.\n"
     ]
    },
    {
     "name": "stderr",
     "output_type": "stream",
     "text": [
      "\r",
      " 10%|█         | 10/97 [00:01<00:08,  9.96it/s]"
     ]
    },
    {
     "name": "stdout",
     "output_type": "stream",
     "text": [
      "bone-china-261\n",
      "I'm doing the thing.\n",
      "bone-china-262\n",
      "I'm doing the thing.\n",
      "bone-china-263\n",
      "I'm doing the thing.\n"
     ]
    },
    {
     "name": "stderr",
     "output_type": "stream",
     "text": [
      " 14%|█▍        | 14/97 [00:01<00:07, 11.72it/s]"
     ]
    },
    {
     "name": "stdout",
     "output_type": "stream",
     "text": [
      "bone-china-264\n",
      "I'm doing the thing.\n",
      "bone-china-265\n",
      "I'm doing the thing.\n",
      "bone-china-266\n",
      "I'm doing the thing.\n"
     ]
    },
    {
     "name": "stderr",
     "output_type": "stream",
     "text": [
      "\r",
      " 16%|█▋        | 16/97 [00:01<00:07, 11.30it/s]"
     ]
    },
    {
     "name": "stdout",
     "output_type": "stream",
     "text": [
      "bone-china-267\n",
      "I'm doing the thing.\n",
      "bone-china-269\n",
      "I'm doing the thing.\n"
     ]
    },
    {
     "name": "stderr",
     "output_type": "stream",
     "text": [
      "\r",
      " 19%|█▊        | 18/97 [00:01<00:08,  9.15it/s]"
     ]
    },
    {
     "name": "stdout",
     "output_type": "stream",
     "text": [
      "bone-china-270\n",
      "I'm doing the thing.\n",
      "bone-china-271\n",
      "I'm doing the thing.\n",
      "bone-china-272\n",
      "I'm doing the thing.\n"
     ]
    },
    {
     "name": "stderr",
     "output_type": "stream",
     "text": [
      " 22%|██▏       | 21/97 [00:02<00:09,  8.15it/s]"
     ]
    },
    {
     "name": "stdout",
     "output_type": "stream",
     "text": [
      "bone-china-273\n",
      "I'm doing the thing.\n",
      "bone-china-274\n",
      "I'm doing the thing.\n",
      "bone-china-275\n",
      "I'm doing the thing.\n"
     ]
    },
    {
     "name": "stderr",
     "output_type": "stream",
     "text": [
      "\r",
      " 24%|██▎       | 23/97 [00:02<00:07,  9.40it/s]"
     ]
    },
    {
     "name": "stdout",
     "output_type": "stream",
     "text": [
      "bone-china-276\n",
      "I'm doing the thing.\n",
      "bone-china-277\n",
      "I'm doing the thing.\n"
     ]
    },
    {
     "name": "stderr",
     "output_type": "stream",
     "text": [
      " 28%|██▊       | 27/97 [00:02<00:07,  9.02it/s]"
     ]
    },
    {
     "name": "stdout",
     "output_type": "stream",
     "text": [
      "bone-china-278\n",
      "I'm doing the thing.\n",
      "bone-china-279\n",
      "I'm doing the thing.\n",
      "bone-china-280\n",
      "I'm doing the thing.\n"
     ]
    },
    {
     "name": "stderr",
     "output_type": "stream",
     "text": [
      "\r",
      " 30%|██▉       | 29/97 [00:03<00:06, 10.00it/s]"
     ]
    },
    {
     "name": "stdout",
     "output_type": "stream",
     "text": [
      "bone-china-281\n",
      "I'm doing the thing.\n",
      "bone-china-282\n",
      "I'm doing the thing.\n"
     ]
    },
    {
     "name": "stderr",
     "output_type": "stream",
     "text": [
      "\r",
      " 32%|███▏      | 31/97 [00:03<00:07,  8.75it/s]"
     ]
    },
    {
     "name": "stdout",
     "output_type": "stream",
     "text": [
      "bone-china-283\n",
      "I'm doing the thing.\n",
      "bone-china-285\n",
      "I'm doing the thing.\n"
     ]
    },
    {
     "name": "stderr",
     "output_type": "stream",
     "text": [
      " 34%|███▍      | 33/97 [00:03<00:07,  8.19it/s]"
     ]
    },
    {
     "name": "stdout",
     "output_type": "stream",
     "text": [
      "bone-china-286\n",
      "I'm doing the thing.\n",
      "bone-china-287\n",
      "I'm doing the thing.\n"
     ]
    },
    {
     "name": "stderr",
     "output_type": "stream",
     "text": [
      "\r",
      " 36%|███▌      | 35/97 [00:03<00:07,  8.68it/s]"
     ]
    },
    {
     "name": "stdout",
     "output_type": "stream",
     "text": [
      "bone-china-288\n",
      "I'm doing the thing.\n",
      "bone-china-289\n",
      "I'm doing the thing.\n"
     ]
    },
    {
     "name": "stderr",
     "output_type": "stream",
     "text": [
      " 38%|███▊      | 37/97 [00:04<00:07,  7.66it/s]"
     ]
    },
    {
     "name": "stdout",
     "output_type": "stream",
     "text": [
      "bone-china-290\n",
      "I'm doing the thing.\n",
      "bone-china-291\n",
      "I'm doing the thing.\n"
     ]
    },
    {
     "name": "stderr",
     "output_type": "stream",
     "text": [
      " 42%|████▏     | 41/97 [00:04<00:04, 11.86it/s]"
     ]
    },
    {
     "name": "stdout",
     "output_type": "stream",
     "text": [
      "bone-china-293\n",
      "I'm doing the thing.\n",
      "bone-china-295\n",
      "I'm doing the thing.\n",
      "bone-china-296\n",
      "I'm doing the thing.\n",
      "bone-china-298\n",
      "I'm doing the thing.\n"
     ]
    },
    {
     "name": "stderr",
     "output_type": "stream",
     "text": [
      "\r",
      " 44%|████▍     | 43/97 [00:04<00:04, 11.26it/s]"
     ]
    },
    {
     "name": "stdout",
     "output_type": "stream",
     "text": [
      "bone-china-299\n",
      "I'm doing the thing.\n",
      "bone-china-300\n",
      "I'm doing the thing.\n"
     ]
    },
    {
     "name": "stderr",
     "output_type": "stream",
     "text": [
      "\r",
      " 46%|████▋     | 45/97 [00:04<00:05,  9.49it/s]"
     ]
    },
    {
     "name": "stdout",
     "output_type": "stream",
     "text": [
      "bone-china-303\n",
      "I'm doing the thing.\n",
      "bone-china-304\n",
      "I'm doing the thing.\n"
     ]
    },
    {
     "name": "stderr",
     "output_type": "stream",
     "text": [
      " 51%|█████     | 49/97 [00:05<00:04, 10.99it/s]"
     ]
    },
    {
     "name": "stdout",
     "output_type": "stream",
     "text": [
      "bone-china-306\n",
      "I'm doing the thing.\n",
      "bone-china-307\n",
      "I'm doing the thing.\n",
      "bone-china-308\n",
      "I'm doing the thing.\n",
      "bone-china-309\n",
      "I'm doing the thing.\n"
     ]
    },
    {
     "name": "stderr",
     "output_type": "stream",
     "text": [
      "\r",
      " 53%|█████▎    | 51/97 [00:05<00:04, 10.88it/s]"
     ]
    },
    {
     "name": "stdout",
     "output_type": "stream",
     "text": [
      "bone-china-310\n",
      "I'm doing the thing.\n",
      "bone-china-311\n",
      "I'm doing the thing.\n",
      "bone-china-312\n",
      "I'm doing the thing.\n"
     ]
    },
    {
     "name": "stderr",
     "output_type": "stream",
     "text": [
      " 57%|█████▋    | 55/97 [00:05<00:03, 10.84it/s]"
     ]
    },
    {
     "name": "stdout",
     "output_type": "stream",
     "text": [
      "bone-china-313\n",
      "I'm doing the thing.\n",
      "bone-china-314\n",
      "I'm doing the thing.\n",
      "bone-china-315\n",
      "I'm doing the thing.\n",
      "bone-china-316\n",
      "I'm doing the thing.\n"
     ]
    },
    {
     "name": "stderr",
     "output_type": "stream",
     "text": [
      " 60%|█████▉    | 58/97 [00:06<00:04,  8.89it/s]"
     ]
    },
    {
     "name": "stdout",
     "output_type": "stream",
     "text": [
      "bone-china-317\n",
      "I'm doing the thing.\n",
      "bone-china-318\n",
      "I'm doing the thing.\n"
     ]
    },
    {
     "name": "stderr",
     "output_type": "stream",
     "text": [
      "\r",
      " 61%|██████    | 59/97 [00:06<00:05,  7.32it/s]"
     ]
    },
    {
     "name": "stdout",
     "output_type": "stream",
     "text": [
      "bone-china-319\n",
      "I'm doing the thing.\n",
      "bone-china-321\n",
      "I'm doing the thing.\n"
     ]
    },
    {
     "name": "stderr",
     "output_type": "stream",
     "text": [
      "\r",
      " 63%|██████▎   | 61/97 [00:06<00:04,  7.33it/s]"
     ]
    },
    {
     "name": "stdout",
     "output_type": "stream",
     "text": [
      "bone-china-322\n",
      "I'm doing the thing.\n",
      "bone-china-323\n",
      "I'm doing the thing.\n"
     ]
    },
    {
     "name": "stderr",
     "output_type": "stream",
     "text": [
      " 66%|██████▌   | 64/97 [00:06<00:04,  7.46it/s]"
     ]
    },
    {
     "name": "stdout",
     "output_type": "stream",
     "text": [
      "bone-china-324\n",
      "I'm doing the thing.\n",
      "bone-china-325\n",
      "I'm doing the thing.\n"
     ]
    },
    {
     "name": "stderr",
     "output_type": "stream",
     "text": [
      "\r",
      " 67%|██████▋   | 65/97 [00:07<00:04,  7.06it/s]"
     ]
    },
    {
     "name": "stdout",
     "output_type": "stream",
     "text": [
      "bone-china-326\n",
      "I'm doing the thing.\n"
     ]
    },
    {
     "name": "stderr",
     "output_type": "stream",
     "text": [
      " 69%|██████▉   | 67/97 [00:07<00:05,  5.92it/s]"
     ]
    },
    {
     "name": "stdout",
     "output_type": "stream",
     "text": [
      "bone-china-327\n",
      "I'm doing the thing.\n",
      "bone-china-328\n",
      "I'm doing the thing.\n"
     ]
    },
    {
     "name": "stderr",
     "output_type": "stream",
     "text": [
      "\r",
      " 70%|███████   | 68/97 [00:07<00:05,  5.36it/s]"
     ]
    },
    {
     "name": "stdout",
     "output_type": "stream",
     "text": [
      "bone-china-329\n",
      "I'm doing the thing.\n"
     ]
    },
    {
     "name": "stderr",
     "output_type": "stream",
     "text": [
      "\r",
      " 71%|███████   | 69/97 [00:08<00:06,  4.06it/s]"
     ]
    },
    {
     "name": "stdout",
     "output_type": "stream",
     "text": [
      "bone-china-330\n",
      "I'm doing the thing.\n"
     ]
    },
    {
     "name": "stderr",
     "output_type": "stream",
     "text": [
      " 73%|███████▎  | 71/97 [00:08<00:06,  4.27it/s]"
     ]
    },
    {
     "name": "stdout",
     "output_type": "stream",
     "text": [
      "bone-china-331\n",
      "I'm doing the thing.\n",
      "bone-china-332\n",
      "I'm doing the thing.\n"
     ]
    },
    {
     "name": "stderr",
     "output_type": "stream",
     "text": [
      "\r",
      " 74%|███████▍  | 72/97 [00:08<00:06,  3.99it/s]"
     ]
    },
    {
     "name": "stdout",
     "output_type": "stream",
     "text": [
      "bone-china-333\n",
      "I'm doing the thing.\n"
     ]
    },
    {
     "name": "stderr",
     "output_type": "stream",
     "text": [
      " 77%|███████▋  | 75/97 [00:09<00:03,  5.69it/s]"
     ]
    },
    {
     "name": "stdout",
     "output_type": "stream",
     "text": [
      "bone-china-334\n",
      "I'm doing the thing.\n",
      "bone-china-335\n",
      "I'm doing the thing.\n",
      "bone-china-337\n",
      "I'm doing the thing.\n",
      "bone-china-338\n",
      "I'm doing the thing.\n"
     ]
    },
    {
     "name": "stderr",
     "output_type": "stream",
     "text": [
      " 80%|████████  | 78/97 [00:09<00:02,  7.99it/s]"
     ]
    },
    {
     "name": "stdout",
     "output_type": "stream",
     "text": [
      "bone-china-340\n",
      "I'm doing the thing.\n",
      "bone-china-341\n",
      "I'm doing the thing.\n"
     ]
    },
    {
     "name": "stderr",
     "output_type": "stream",
     "text": [
      " 82%|████████▏ | 80/97 [00:09<00:02,  7.85it/s]"
     ]
    },
    {
     "name": "stdout",
     "output_type": "stream",
     "text": [
      "bone-china-342\n",
      "I'm doing the thing.\n",
      "bone-china-343\n",
      "I'm doing the thing.\n"
     ]
    },
    {
     "name": "stderr",
     "output_type": "stream",
     "text": [
      "\r",
      " 85%|████████▍ | 82/97 [00:10<00:01,  9.72it/s]"
     ]
    },
    {
     "name": "stdout",
     "output_type": "stream",
     "text": [
      "bone-china-344\n",
      "I'm doing the thing.\n",
      "bone-china-345\n",
      "I'm doing the thing.\n"
     ]
    },
    {
     "name": "stderr",
     "output_type": "stream",
     "text": [
      "\r",
      " 87%|████████▋ | 84/97 [00:10<00:01,  8.61it/s]"
     ]
    },
    {
     "name": "stdout",
     "output_type": "stream",
     "text": [
      "bone-china-347\n",
      "I'm doing the thing.\n",
      "bone-china-348\n",
      "I'm doing the thing.\n",
      "bone-china-349\n",
      "I'm doing the thing.\n"
     ]
    },
    {
     "name": "stderr",
     "output_type": "stream",
     "text": [
      "\r",
      " 89%|████████▊ | 86/97 [00:10<00:01, 10.04it/s]"
     ]
    },
    {
     "name": "stdout",
     "output_type": "stream",
     "text": [
      "bone-china-350\n",
      "I'm doing the thing.\n",
      "bone-china-353\n",
      "I'm doing the thing.\n"
     ]
    },
    {
     "name": "stderr",
     "output_type": "stream",
     "text": [
      " 92%|█████████▏| 89/97 [00:11<00:01,  7.02it/s]"
     ]
    },
    {
     "name": "stdout",
     "output_type": "stream",
     "text": [
      "bone-china-354\n",
      "I'm doing the thing.\n",
      "bone-china-355\n",
      "I'm doing the thing.\n",
      "bone-china-356\n",
      "I'm doing the thing.\n"
     ]
    },
    {
     "name": "stderr",
     "output_type": "stream",
     "text": [
      " 96%|█████████▌| 93/97 [00:11<00:00,  7.19it/s]"
     ]
    },
    {
     "name": "stdout",
     "output_type": "stream",
     "text": [
      "bone-china-357\n",
      "I'm doing the thing.\n",
      "bone-china-358\n",
      "I'm doing the thing.\n",
      "bone-china-359\n",
      "I'm doing the thing.\n"
     ]
    },
    {
     "name": "stderr",
     "output_type": "stream",
     "text": [
      "\r",
      " 98%|█████████▊| 95/97 [00:11<00:00,  8.72it/s]"
     ]
    },
    {
     "name": "stdout",
     "output_type": "stream",
     "text": [
      "bone-china-360\n",
      "I'm doing the thing.\n",
      "bone-china-361\n",
      "I'm doing the thing.\n",
      "bone-china-362\n",
      "I'm doing the thing.\n"
     ]
    },
    {
     "name": "stderr",
     "output_type": "stream",
     "text": [
      "100%|██████████| 97/97 [00:11<00:00,  8.14it/s]\n"
     ]
    },
    {
     "name": "stdout",
     "output_type": "stream",
     "text": [
      "Training: 678\n",
      "Validation: 191\n",
      "Testing: 93\n",
      "External: 97\n"
     ]
    },
    {
     "name": "stderr",
     "output_type": "stream",
     "text": [
      "/home/ubuntu/miniconda3/envs/bone-mri/lib/python3.8/site-packages/tensorflow/python/keras/engine/training.py:1905: UserWarning: `Model.predict_generator` is deprecated and will be removed in a future version. Please use `Model.predict`, which supports generators.\n",
      "  warnings.warn('`Model.predict_generator` is deprecated and '\n",
      "/home/ubuntu/miniconda3/envs/bone-mri/lib/python3.8/site-packages/tensorflow/python/keras/engine/training.py:1905: UserWarning: `Model.predict_generator` is deprecated and will be removed in a future version. Please use `Model.predict`, which supports generators.\n",
      "  warnings.warn('`Model.predict_generator` is deprecated and '\n",
      "/home/ubuntu/miniconda3/envs/bone-mri/lib/python3.8/site-packages/tensorflow/python/keras/engine/training.py:1905: UserWarning: `Model.predict_generator` is deprecated and will be removed in a future version. Please use `Model.predict`, which supports generators.\n",
      "  warnings.warn('`Model.predict_generator` is deprecated and '\n",
      "/home/ubuntu/miniconda3/envs/bone-mri/lib/python3.8/site-packages/tensorflow/python/keras/engine/training.py:1905: UserWarning: `Model.predict_generator` is deprecated and will be removed in a future version. Please use `Model.predict`, which supports generators.\n",
      "  warnings.warn('`Model.predict_generator` is deprecated and '\n",
      "/home/ubuntu/miniconda3/envs/bone-mri/lib/python3.8/site-packages/tensorflow/python/keras/engine/training.py:1905: UserWarning: `Model.predict_generator` is deprecated and will be removed in a future version. Please use `Model.predict`, which supports generators.\n",
      "  warnings.warn('`Model.predict_generator` is deprecated and '\n"
     ]
    },
    {
     "name": "stdout",
     "output_type": "stream",
     "text": [
      "WARNING:tensorflow:5 out of the last 13 calls to <function Model.make_predict_function.<locals>.predict_function at 0x7f29a6fd7dc0> triggered tf.function retracing. Tracing is expensive and the excessive number of tracings could be due to (1) creating @tf.function repeatedly in a loop, (2) passing tensors with different shapes, (3) passing Python objects instead of tensors. For (1), please define your @tf.function outside of the loop. For (2), @tf.function has experimental_relax_shapes=True option that relaxes argument shapes that can avoid unnecessary retracing. For (3), please refer to https://www.tensorflow.org/guide/function#controlling_retracing and https://www.tensorflow.org/api_docs/python/tf/function for  more details.\n"
     ]
    },
    {
     "name": "stderr",
     "output_type": "stream",
     "text": [
      "/home/ubuntu/miniconda3/envs/bone-mri/lib/python3.8/site-packages/tensorflow/python/keras/engine/training.py:1905: UserWarning: `Model.predict_generator` is deprecated and will be removed in a future version. Please use `Model.predict`, which supports generators.\n",
      "  warnings.warn('`Model.predict_generator` is deprecated and '\n"
     ]
    },
    {
     "name": "stdout",
     "output_type": "stream",
     "text": [
      "WARNING:tensorflow:5 out of the last 13 calls to <function Model.make_predict_function.<locals>.predict_function at 0x7f2a5c4e1a60> triggered tf.function retracing. Tracing is expensive and the excessive number of tracings could be due to (1) creating @tf.function repeatedly in a loop, (2) passing tensors with different shapes, (3) passing Python objects instead of tensors. For (1), please define your @tf.function outside of the loop. For (2), @tf.function has experimental_relax_shapes=True option that relaxes argument shapes that can avoid unnecessary retracing. For (3), please refer to https://www.tensorflow.org/guide/function#controlling_retracing and https://www.tensorflow.org/api_docs/python/tf/function for  more details.\n"
     ]
    },
    {
     "name": "stderr",
     "output_type": "stream",
     "text": [
      "/home/ubuntu/miniconda3/envs/bone-mri/lib/python3.8/site-packages/tensorflow/python/keras/engine/training.py:1905: UserWarning: `Model.predict_generator` is deprecated and will be removed in a future version. Please use `Model.predict`, which supports generators.\n",
      "  warnings.warn('`Model.predict_generator` is deprecated and '\n"
     ]
    },
    {
     "name": "stdout",
     "output_type": "stream",
     "text": [
      "WARNING:tensorflow:5 out of the last 13 calls to <function Model.make_predict_function.<locals>.predict_function at 0x7f2a5c1eb5e0> triggered tf.function retracing. Tracing is expensive and the excessive number of tracings could be due to (1) creating @tf.function repeatedly in a loop, (2) passing tensors with different shapes, (3) passing Python objects instead of tensors. For (1), please define your @tf.function outside of the loop. For (2), @tf.function has experimental_relax_shapes=True option that relaxes argument shapes that can avoid unnecessary retracing. For (3), please refer to https://www.tensorflow.org/guide/function#controlling_retracing and https://www.tensorflow.org/api_docs/python/tf/function for  more details.\n"
     ]
    },
    {
     "name": "stderr",
     "output_type": "stream",
     "text": [
      "/home/ubuntu/miniconda3/envs/bone-mri/lib/python3.8/site-packages/tensorflow/python/keras/engine/training.py:1905: UserWarning: `Model.predict_generator` is deprecated and will be removed in a future version. Please use `Model.predict`, which supports generators.\n",
      "  warnings.warn('`Model.predict_generator` is deprecated and '\n"
     ]
    },
    {
     "name": "stdout",
     "output_type": "stream",
     "text": [
      "WARNING:tensorflow:5 out of the last 13 calls to <function Model.make_predict_function.<locals>.predict_function at 0x7f2a5c08a0d0> triggered tf.function retracing. Tracing is expensive and the excessive number of tracings could be due to (1) creating @tf.function repeatedly in a loop, (2) passing tensors with different shapes, (3) passing Python objects instead of tensors. For (1), please define your @tf.function outside of the loop. For (2), @tf.function has experimental_relax_shapes=True option that relaxes argument shapes that can avoid unnecessary retracing. For (3), please refer to https://www.tensorflow.org/guide/function#controlling_retracing and https://www.tensorflow.org/api_docs/python/tf/function for  more details.\n"
     ]
    },
    {
     "name": "stderr",
     "output_type": "stream",
     "text": [
      "/home/ubuntu/miniconda3/envs/bone-mri/lib/python3.8/site-packages/tensorflow/python/keras/engine/training.py:1905: UserWarning: `Model.predict_generator` is deprecated and will be removed in a future version. Please use `Model.predict`, which supports generators.\n",
      "  warnings.warn('`Model.predict_generator` is deprecated and '\n"
     ]
    },
    {
     "name": "stdout",
     "output_type": "stream",
     "text": [
      "WARNING:tensorflow:5 out of the last 13 calls to <function Model.make_predict_function.<locals>.predict_function at 0x7f29a700bc10> triggered tf.function retracing. Tracing is expensive and the excessive number of tracings could be due to (1) creating @tf.function repeatedly in a loop, (2) passing tensors with different shapes, (3) passing Python objects instead of tensors. For (1), please define your @tf.function outside of the loop. For (2), @tf.function has experimental_relax_shapes=True option that relaxes argument shapes that can avoid unnecessary retracing. For (3), please refer to https://www.tensorflow.org/guide/function#controlling_retracing and https://www.tensorflow.org/api_docs/python/tf/function for  more details.\n"
     ]
    },
    {
     "name": "stderr",
     "output_type": "stream",
     "text": [
      "/home/ubuntu/miniconda3/envs/bone-mri/lib/python3.8/site-packages/tensorflow/python/keras/engine/training.py:1905: UserWarning: `Model.predict_generator` is deprecated and will be removed in a future version. Please use `Model.predict`, which supports generators.\n",
      "  warnings.warn('`Model.predict_generator` is deprecated and '\n"
     ]
    },
    {
     "name": "stdout",
     "output_type": "stream",
     "text": [
      "WARNING:tensorflow:5 out of the last 13 calls to <function Model.make_predict_function.<locals>.predict_function at 0x7f294c72fc10> triggered tf.function retracing. Tracing is expensive and the excessive number of tracings could be due to (1) creating @tf.function repeatedly in a loop, (2) passing tensors with different shapes, (3) passing Python objects instead of tensors. For (1), please define your @tf.function outside of the loop. For (2), @tf.function has experimental_relax_shapes=True option that relaxes argument shapes that can avoid unnecessary retracing. For (3), please refer to https://www.tensorflow.org/guide/function#controlling_retracing and https://www.tensorflow.org/api_docs/python/tf/function for  more details.\n"
     ]
    },
    {
     "name": "stderr",
     "output_type": "stream",
     "text": [
      "\r",
      "  0%|          | 0/678 [00:00<?, ?it/s]"
     ]
    },
    {
     "name": "stdout",
     "output_type": "stream",
     "text": [
      "                outcome_pos  outcome_neg  outcome_3    age  sex  \\\n",
      "patientID                                                         \n",
      "bone-brown-1              0            0          0 52.000    1   \n",
      "bone-brown-10             0            0          0 52.000    0   \n",
      "bone-brown-100            1            1          2 22.000    1   \n",
      "bone-brown-101            0            0          0 88.000    0   \n",
      "bone-brown-102            0            0          0 56.000    1   \n",
      "...                     ...          ...        ...    ...  ...   \n",
      "bone-penn-650             1            1          2 20.000    1   \n",
      "bone-penn-651             0            0          0 16.000    1   \n",
      "bone-penn-652             1            1          2  8.000    0   \n",
      "bone-penn-653             1            1          2 16.000    1   \n",
      "bone-penn-654             1            1          2  3.000    1   \n",
      "\n",
      "                                                         location        sort  \n",
      "patientID                                                                      \n",
      "bone-brown-1    [0.0, 0.0, 0.0, 0.0, 0.0, 0.0, 0.0, 0.0, 0.0, ...       train  \n",
      "bone-brown-10   [0.0, 0.0, 0.0, 0.0, 1.0, 0.0, 0.0, 0.0, 0.0, ...  validation  \n",
      "bone-brown-100  [0.0, 0.0, 0.0, 0.0, 0.0, 0.0, 0.0, 0.0, 0.0, ...       train  \n",
      "bone-brown-101  [0.0, 0.0, 0.0, 0.0, 0.0, 0.0, 0.0, 0.0, 0.0, ...       train  \n",
      "bone-brown-102  [0.0, 0.0, 0.0, 0.0, 0.0, 0.0, 0.0, 0.0, 0.0, ...  validation  \n",
      "...                                                           ...         ...  \n",
      "bone-penn-650   [0.0, 0.0, 0.0, 0.0, 0.0, 0.0, 0.0, 0.0, 0.0, ...       train  \n",
      "bone-penn-651   [0.0, 0.0, 0.0, 0.0, 0.0, 0.0, 0.0, 0.0, 0.0, ...       train  \n",
      "bone-penn-652   [0.0, 0.0, 0.0, 0.0, 1.0, 0.0, 0.0, 0.0, 0.0, ...       train  \n",
      "bone-penn-653   [0.0, 0.0, 0.0, 0.0, 0.0, 0.0, 0.0, 0.0, 0.0, ...       train  \n",
      "bone-penn-654   [0.0, 0.0, 0.0, 0.0, 0.0, 0.0, 0.0, 0.0, 0.0, ...       train  \n",
      "\n",
      "[1060 rows x 7 columns]\n",
      "1060\n",
      "1059\n",
      "Training points = 678\n",
      "Benign: 368, Malignant: 310\n",
      "\n",
      "Validation points = 191\n",
      "Benign: 105, Malignant: 86\n",
      "\n",
      "Testing points = 93\n",
      "Benign: 51, Malignant: 42\n",
      "External points = 97\n",
      "Benign: 58, Malignant: 39\n",
      "bone-brown-1\n",
      "I'm doing the thing.\n",
      "I'm doing the thing.\n",
      "bone-brown-100\n",
      "I'm doing the thing.\n"
     ]
    },
    {
     "name": "stderr",
     "output_type": "stream",
     "text": [
      "\r",
      "  0%|          | 2/678 [00:00<02:11,  5.15it/s]"
     ]
    },
    {
     "name": "stdout",
     "output_type": "stream",
     "text": [
      "I'm doing the thing.\n",
      "bone-brown-101\n",
      "I'm doing the thing.\n"
     ]
    },
    {
     "name": "stderr",
     "output_type": "stream",
     "text": [
      "\r",
      "  0%|          | 3/678 [00:00<02:50,  3.97it/s]"
     ]
    },
    {
     "name": "stdout",
     "output_type": "stream",
     "text": [
      "I'm doing the thing.\n",
      "bone-brown-103\n",
      "I'm doing the thing.\n"
     ]
    },
    {
     "name": "stderr",
     "output_type": "stream",
     "text": [
      "\r",
      "  1%|          | 4/678 [00:01<03:11,  3.51it/s]"
     ]
    },
    {
     "name": "stdout",
     "output_type": "stream",
     "text": [
      "I'm doing the thing.\n",
      "bone-brown-106\n",
      "I'm doing the thing.\n"
     ]
    },
    {
     "name": "stderr",
     "output_type": "stream",
     "text": [
      "  1%|          | 6/678 [00:02<05:54,  1.89it/s]"
     ]
    },
    {
     "name": "stdout",
     "output_type": "stream",
     "text": [
      "I'm doing the thing.\n",
      "bone-brown-107\n",
      "I'm doing the thing.\n",
      "I'm doing the thing.\n",
      "bone-brown-11\n",
      "I'm doing the thing.\n"
     ]
    },
    {
     "name": "stderr",
     "output_type": "stream",
     "text": [
      "\r",
      "  1%|          | 7/678 [00:02<04:54,  2.27it/s]"
     ]
    },
    {
     "name": "stdout",
     "output_type": "stream",
     "text": [
      "I'm doing the thing.\n",
      "bone-brown-110\n",
      "I'm doing the thing.\n",
      "I'm doing the thing.\n",
      "bone-brown-112\n",
      "I'm doing the thing.\n"
     ]
    },
    {
     "name": "stderr",
     "output_type": "stream",
     "text": [
      "\r",
      "  1%|▏         | 9/678 [00:03<03:29,  3.20it/s]"
     ]
    },
    {
     "name": "stdout",
     "output_type": "stream",
     "text": [
      "I'm doing the thing.\n",
      "bone-brown-113\n",
      "I'm doing the thing.\n"
     ]
    },
    {
     "name": "stderr",
     "output_type": "stream",
     "text": [
      "\r",
      "  1%|▏         | 10/678 [00:03<03:29,  3.19it/s]"
     ]
    },
    {
     "name": "stdout",
     "output_type": "stream",
     "text": [
      "I'm doing the thing.\n",
      "bone-brown-114\n",
      "I'm doing the thing.\n"
     ]
    },
    {
     "name": "stderr",
     "output_type": "stream",
     "text": [
      "\r",
      "  2%|▏         | 11/678 [00:03<03:24,  3.26it/s]"
     ]
    },
    {
     "name": "stdout",
     "output_type": "stream",
     "text": [
      "I'm doing the thing.\n",
      "bone-brown-115\n",
      "I'm doing the thing.\n"
     ]
    },
    {
     "name": "stderr",
     "output_type": "stream",
     "text": [
      "\r",
      "  2%|▏         | 12/678 [00:04<03:39,  3.03it/s]"
     ]
    },
    {
     "name": "stdout",
     "output_type": "stream",
     "text": [
      "I'm doing the thing.\n",
      "bone-brown-116\n",
      "I'm doing the thing.\n"
     ]
    },
    {
     "name": "stderr",
     "output_type": "stream",
     "text": [
      "\r",
      "  2%|▏         | 13/678 [00:04<03:34,  3.11it/s]"
     ]
    },
    {
     "name": "stdout",
     "output_type": "stream",
     "text": [
      "I'm doing the thing.\n",
      "bone-brown-117\n",
      "I'm doing the thing.\n"
     ]
    },
    {
     "name": "stderr",
     "output_type": "stream",
     "text": [
      "  2%|▏         | 15/678 [00:05<03:55,  2.81it/s]"
     ]
    },
    {
     "name": "stdout",
     "output_type": "stream",
     "text": [
      "I'm doing the thing.\n",
      "bone-brown-120\n",
      "I'm doing the thing.\n",
      "I'm doing the thing.\n",
      "bone-brown-121\n",
      "I'm doing the thing.\n"
     ]
    },
    {
     "name": "stderr",
     "output_type": "stream",
     "text": [
      "  3%|▎         | 17/678 [00:05<02:34,  4.27it/s]"
     ]
    },
    {
     "name": "stdout",
     "output_type": "stream",
     "text": [
      "I'm doing the thing.\n",
      "bone-brown-123\n",
      "I'm doing the thing.\n",
      "I'm doing the thing.\n",
      "bone-brown-124\n",
      "I'm doing the thing.\n"
     ]
    },
    {
     "name": "stderr",
     "output_type": "stream",
     "text": [
      "\r",
      "  3%|▎         | 18/678 [00:06<03:21,  3.27it/s]"
     ]
    },
    {
     "name": "stdout",
     "output_type": "stream",
     "text": [
      "I'm doing the thing.\n",
      "bone-brown-125\n",
      "I'm doing the thing.\n"
     ]
    },
    {
     "name": "stderr",
     "output_type": "stream",
     "text": [
      "  3%|▎         | 20/678 [00:06<02:55,  3.76it/s]"
     ]
    },
    {
     "name": "stdout",
     "output_type": "stream",
     "text": [
      "I'm doing the thing.\n",
      "bone-brown-13\n",
      "I'm doing the thing.\n",
      "I'm doing the thing.\n",
      "bone-brown-14\n",
      "I'm doing the thing.\n",
      "I'm doing the thing.\n",
      "bone-brown-15\n",
      "I'm doing the thing.\n"
     ]
    },
    {
     "name": "stderr",
     "output_type": "stream",
     "text": [
      "\r",
      "  3%|▎         | 22/678 [00:07<02:22,  4.61it/s]"
     ]
    },
    {
     "name": "stdout",
     "output_type": "stream",
     "text": [
      "I'm doing the thing.\n",
      "bone-brown-17\n",
      "I'm doing the thing.\n"
     ]
    },
    {
     "name": "stderr",
     "output_type": "stream",
     "text": [
      "\r",
      "  3%|▎         | 23/678 [00:07<02:54,  3.76it/s]"
     ]
    },
    {
     "name": "stdout",
     "output_type": "stream",
     "text": [
      "I'm doing the thing.\n",
      "bone-brown-19\n",
      "I'm doing the thing.\n"
     ]
    },
    {
     "name": "stderr",
     "output_type": "stream",
     "text": [
      "\r",
      "  4%|▎         | 24/678 [00:07<03:02,  3.59it/s]"
     ]
    },
    {
     "name": "stdout",
     "output_type": "stream",
     "text": [
      "I'm doing the thing.\n",
      "bone-brown-2\n",
      "I'm doing the thing.\n"
     ]
    },
    {
     "name": "stderr",
     "output_type": "stream",
     "text": [
      "\r",
      "  4%|▎         | 25/678 [00:08<03:08,  3.46it/s]"
     ]
    },
    {
     "name": "stdout",
     "output_type": "stream",
     "text": [
      "I'm doing the thing.\n",
      "bone-brown-20\n",
      "I'm doing the thing.\n"
     ]
    },
    {
     "name": "stderr",
     "output_type": "stream",
     "text": [
      "\r",
      "  4%|▍         | 26/678 [00:08<03:10,  3.42it/s]"
     ]
    },
    {
     "name": "stdout",
     "output_type": "stream",
     "text": [
      "I'm doing the thing.\n",
      "bone-brown-21\n",
      "I'm doing the thing.\n"
     ]
    },
    {
     "name": "stderr",
     "output_type": "stream",
     "text": [
      "\r",
      "  4%|▍         | 27/678 [00:08<04:05,  2.65it/s]"
     ]
    },
    {
     "name": "stdout",
     "output_type": "stream",
     "text": [
      "I'm doing the thing.\n",
      "bone-brown-22\n",
      "I'm doing the thing.\n",
      "I'm doing the thing.\n",
      "bone-brown-23\n",
      "I'm doing the thing.\n"
     ]
    },
    {
     "name": "stderr",
     "output_type": "stream",
     "text": [
      "\r",
      "  4%|▍         | 29/678 [00:09<03:05,  3.50it/s]"
     ]
    },
    {
     "name": "stdout",
     "output_type": "stream",
     "text": [
      "I'm doing the thing.\n",
      "bone-brown-24\n",
      "I'm doing the thing.\n",
      "I'm doing the thing.\n",
      "bone-brown-25\n",
      "I'm doing the thing.\n"
     ]
    },
    {
     "name": "stderr",
     "output_type": "stream",
     "text": [
      "  5%|▍         | 33/678 [00:10<02:18,  4.67it/s]"
     ]
    },
    {
     "name": "stdout",
     "output_type": "stream",
     "text": [
      "I'm doing the thing.\n",
      "bone-brown-27\n",
      "I'm doing the thing.\n",
      "I'm doing the thing.\n",
      "bone-brown-29\n",
      "I'm doing the thing.\n",
      "I'm doing the thing.\n",
      "bone-brown-3\n",
      "I'm doing the thing.\n"
     ]
    },
    {
     "name": "stderr",
     "output_type": "stream",
     "text": [
      "  5%|▌         | 35/678 [00:10<02:19,  4.59it/s]"
     ]
    },
    {
     "name": "stdout",
     "output_type": "stream",
     "text": [
      "I'm doing the thing.\n",
      "bone-brown-31\n",
      "I'm doing the thing.\n",
      "I'm doing the thing.\n",
      "bone-brown-32\n",
      "I'm doing the thing.\n"
     ]
    },
    {
     "name": "stderr",
     "output_type": "stream",
     "text": [
      "\r",
      "  5%|▌         | 36/678 [00:10<02:16,  4.69it/s]"
     ]
    },
    {
     "name": "stdout",
     "output_type": "stream",
     "text": [
      "I'm doing the thing.\n",
      "bone-brown-34\n",
      "I'm doing the thing.\n"
     ]
    },
    {
     "name": "stderr",
     "output_type": "stream",
     "text": [
      "\r",
      "  5%|▌         | 37/678 [00:11<02:45,  3.86it/s]"
     ]
    },
    {
     "name": "stdout",
     "output_type": "stream",
     "text": [
      "I'm doing the thing.\n",
      "bone-brown-35\n",
      "I'm doing the thing.\n"
     ]
    },
    {
     "name": "stderr",
     "output_type": "stream",
     "text": [
      "\r",
      "  6%|▌         | 38/678 [00:11<02:49,  3.78it/s]"
     ]
    },
    {
     "name": "stdout",
     "output_type": "stream",
     "text": [
      "I'm doing the thing.\n",
      "bone-brown-37\n",
      "I'm doing the thing.\n"
     ]
    },
    {
     "name": "stderr",
     "output_type": "stream",
     "text": [
      "  6%|▌         | 40/678 [00:11<02:24,  4.41it/s]"
     ]
    },
    {
     "name": "stdout",
     "output_type": "stream",
     "text": [
      "I'm doing the thing.\n",
      "bone-brown-38\n",
      "I'm doing the thing.\n",
      "I'm doing the thing.\n",
      "bone-brown-39\n",
      "I'm doing the thing.\n"
     ]
    },
    {
     "name": "stderr",
     "output_type": "stream",
     "text": [
      "\r",
      "  6%|▌         | 41/678 [00:12<02:31,  4.19it/s]"
     ]
    },
    {
     "name": "stdout",
     "output_type": "stream",
     "text": [
      "I'm doing the thing.\n",
      "bone-brown-41\n",
      "I'm doing the thing.\n"
     ]
    },
    {
     "name": "stderr",
     "output_type": "stream",
     "text": [
      "\r",
      "  6%|▌         | 42/678 [00:12<03:00,  3.53it/s]"
     ]
    },
    {
     "name": "stdout",
     "output_type": "stream",
     "text": [
      "I'm doing the thing.\n",
      "bone-brown-42\n",
      "I'm doing the thing.\n"
     ]
    },
    {
     "name": "stderr",
     "output_type": "stream",
     "text": [
      "\r",
      "  6%|▋         | 43/678 [00:13<05:31,  1.91it/s]"
     ]
    },
    {
     "name": "stdout",
     "output_type": "stream",
     "text": [
      "I'm doing the thing.\n",
      "bone-brown-44\n",
      "I'm doing the thing.\n"
     ]
    },
    {
     "name": "stderr",
     "output_type": "stream",
     "text": [
      "\r",
      "  6%|▋         | 44/678 [00:14<06:55,  1.53it/s]"
     ]
    },
    {
     "name": "stdout",
     "output_type": "stream",
     "text": [
      "I'm doing the thing.\n",
      "bone-brown-46\n",
      "I'm doing the thing.\n",
      "I'm doing the thing.\n",
      "bone-brown-50\n",
      "I'm doing the thing.\n"
     ]
    },
    {
     "name": "stderr",
     "output_type": "stream",
     "text": [
      "\r",
      "  7%|▋         | 46/678 [00:15<05:27,  1.93it/s]"
     ]
    },
    {
     "name": "stdout",
     "output_type": "stream",
     "text": [
      "I'm doing the thing.\n",
      "bone-brown-51\n",
      "I'm doing the thing.\n"
     ]
    },
    {
     "name": "stderr",
     "output_type": "stream",
     "text": [
      "\r",
      "  7%|▋         | 47/678 [00:15<04:59,  2.11it/s]"
     ]
    },
    {
     "name": "stdout",
     "output_type": "stream",
     "text": [
      "I'm doing the thing.\n",
      "bone-brown-52\n",
      "I'm doing the thing.\n"
     ]
    },
    {
     "name": "stderr",
     "output_type": "stream",
     "text": [
      "\r",
      "  7%|▋         | 48/678 [00:15<04:18,  2.44it/s]"
     ]
    },
    {
     "name": "stdout",
     "output_type": "stream",
     "text": [
      "I'm doing the thing.\n",
      "bone-brown-53\n",
      "I'm doing the thing.\n",
      "I'm doing the thing.\n",
      "bone-brown-54\n",
      "I'm doing the thing.\n"
     ]
    },
    {
     "name": "stderr",
     "output_type": "stream",
     "text": [
      "\r",
      "  7%|▋         | 50/678 [00:16<03:23,  3.09it/s]"
     ]
    },
    {
     "name": "stdout",
     "output_type": "stream",
     "text": [
      "I'm doing the thing.\n",
      "bone-brown-56\n",
      "I'm doing the thing.\n"
     ]
    },
    {
     "name": "stderr",
     "output_type": "stream",
     "text": [
      "  8%|▊         | 52/678 [00:16<02:51,  3.65it/s]"
     ]
    },
    {
     "name": "stdout",
     "output_type": "stream",
     "text": [
      "I'm doing the thing.\n",
      "bone-brown-58\n",
      "I'm doing the thing.\n",
      "I'm doing the thing.\n",
      "bone-brown-59\n",
      "I'm doing the thing.\n"
     ]
    },
    {
     "name": "stderr",
     "output_type": "stream",
     "text": [
      "\r",
      "  8%|▊         | 53/678 [00:17<03:42,  2.81it/s]"
     ]
    },
    {
     "name": "stdout",
     "output_type": "stream",
     "text": [
      "I'm doing the thing.\n",
      "bone-brown-6\n",
      "I'm doing the thing.\n"
     ]
    },
    {
     "name": "stderr",
     "output_type": "stream",
     "text": [
      "\r",
      "  8%|▊         | 54/678 [00:18<05:45,  1.81it/s]"
     ]
    },
    {
     "name": "stdout",
     "output_type": "stream",
     "text": [
      "I'm doing the thing.\n",
      "bone-brown-63\n",
      "I'm doing the thing.\n"
     ]
    },
    {
     "name": "stderr",
     "output_type": "stream",
     "text": [
      "  8%|▊         | 56/678 [00:18<04:13,  2.45it/s]"
     ]
    },
    {
     "name": "stdout",
     "output_type": "stream",
     "text": [
      "I'm doing the thing.\n",
      "bone-brown-64\n",
      "I'm doing the thing.\n",
      "I'm doing the thing.\n",
      "bone-brown-65\n",
      "I'm doing the thing.\n"
     ]
    },
    {
     "name": "stderr",
     "output_type": "stream",
     "text": [
      "  9%|▊         | 59/678 [00:19<02:35,  3.98it/s]"
     ]
    },
    {
     "name": "stdout",
     "output_type": "stream",
     "text": [
      "I'm doing the thing.\n",
      "bone-brown-68\n",
      "I'm doing the thing.\n",
      "I'm doing the thing.\n",
      "bone-brown-70\n",
      "I'm doing the thing.\n",
      "I'm doing the thing.\n",
      "bone-brown-72\n",
      "I'm doing the thing.\n"
     ]
    },
    {
     "name": "stderr",
     "output_type": "stream",
     "text": [
      "\r",
      "  9%|▉         | 60/678 [00:19<02:50,  3.62it/s]"
     ]
    },
    {
     "name": "stdout",
     "output_type": "stream",
     "text": [
      "I'm doing the thing.\n",
      "bone-brown-73\n",
      "I'm doing the thing.\n"
     ]
    },
    {
     "name": "stderr",
     "output_type": "stream",
     "text": [
      "  9%|▉         | 62/678 [00:20<02:28,  4.15it/s]"
     ]
    },
    {
     "name": "stdout",
     "output_type": "stream",
     "text": [
      "I'm doing the thing.\n",
      "bone-brown-74\n",
      "I'm doing the thing.\n",
      "I'm doing the thing.\n",
      "bone-brown-75\n",
      "I'm doing the thing.\n"
     ]
    },
    {
     "name": "stderr",
     "output_type": "stream",
     "text": [
      "  9%|▉         | 64/678 [00:20<02:22,  4.32it/s]"
     ]
    },
    {
     "name": "stdout",
     "output_type": "stream",
     "text": [
      "I'm doing the thing.\n",
      "bone-brown-76\n",
      "I'm doing the thing.\n",
      "I'm doing the thing.\n",
      "bone-brown-77\n",
      "I'm doing the thing.\n"
     ]
    },
    {
     "name": "stderr",
     "output_type": "stream",
     "text": [
      " 10%|▉         | 66/678 [00:21<02:13,  4.59it/s]"
     ]
    },
    {
     "name": "stdout",
     "output_type": "stream",
     "text": [
      "I'm doing the thing.\n",
      "bone-brown-78\n",
      "I'm doing the thing.\n",
      "I'm doing the thing.\n",
      "bone-brown-8\n",
      "I'm doing the thing.\n"
     ]
    },
    {
     "name": "stderr",
     "output_type": "stream",
     "text": [
      "\r",
      " 10%|▉         | 67/678 [00:21<02:30,  4.07it/s]"
     ]
    },
    {
     "name": "stdout",
     "output_type": "stream",
     "text": [
      "I'm doing the thing.\n",
      "bone-brown-81\n",
      "I'm doing the thing.\n",
      "I'm doing the thing.\n",
      "bone-brown-83\n",
      "I'm doing the thing.\n"
     ]
    },
    {
     "name": "stderr",
     "output_type": "stream",
     "text": [
      "\r",
      " 10%|█         | 69/678 [00:21<02:21,  4.30it/s]"
     ]
    },
    {
     "name": "stdout",
     "output_type": "stream",
     "text": [
      "I'm doing the thing.\n",
      "bone-brown-84\n",
      "I'm doing the thing.\n"
     ]
    },
    {
     "name": "stderr",
     "output_type": "stream",
     "text": [
      "\r",
      " 10%|█         | 70/678 [00:23<06:11,  1.64it/s]"
     ]
    },
    {
     "name": "stdout",
     "output_type": "stream",
     "text": [
      "I'm doing the thing.\n",
      "bone-brown-85\n",
      "I'm doing the thing.\n"
     ]
    },
    {
     "name": "stderr",
     "output_type": "stream",
     "text": [
      "\r",
      " 10%|█         | 71/678 [00:24<06:15,  1.62it/s]"
     ]
    },
    {
     "name": "stdout",
     "output_type": "stream",
     "text": [
      "I'm doing the thing.\n",
      "bone-brown-86\n",
      "I'm doing the thing.\n"
     ]
    },
    {
     "name": "stderr",
     "output_type": "stream",
     "text": [
      "\r",
      " 11%|█         | 72/678 [00:24<05:27,  1.85it/s]"
     ]
    },
    {
     "name": "stdout",
     "output_type": "stream",
     "text": [
      "I'm doing the thing.\n",
      "bone-brown-88\n",
      "I'm doing the thing.\n"
     ]
    },
    {
     "name": "stderr",
     "output_type": "stream",
     "text": [
      "\r",
      " 11%|█         | 73/678 [00:24<04:45,  2.12it/s]"
     ]
    },
    {
     "name": "stdout",
     "output_type": "stream",
     "text": [
      "I'm doing the thing.\n",
      "bone-brown-89\n",
      "I'm doing the thing.\n"
     ]
    },
    {
     "name": "stderr",
     "output_type": "stream",
     "text": [
      " 11%|█         | 75/678 [00:25<03:13,  3.12it/s]"
     ]
    },
    {
     "name": "stdout",
     "output_type": "stream",
     "text": [
      "I'm doing the thing.\n",
      "bone-brown-91\n",
      "I'm doing the thing.\n",
      "I'm doing the thing.\n",
      "bone-brown-92\n",
      "I'm doing the thing.\n"
     ]
    },
    {
     "name": "stderr",
     "output_type": "stream",
     "text": [
      "\r",
      " 11%|█         | 76/678 [00:25<03:31,  2.84it/s]"
     ]
    },
    {
     "name": "stdout",
     "output_type": "stream",
     "text": [
      "I'm doing the thing.\n",
      "bone-brown-94\n",
      "I'm doing the thing.\n"
     ]
    },
    {
     "name": "stderr",
     "output_type": "stream",
     "text": [
      "\r",
      " 11%|█▏        | 77/678 [00:25<03:06,  3.22it/s]"
     ]
    },
    {
     "name": "stdout",
     "output_type": "stream",
     "text": [
      "I'm doing the thing.\n",
      "bone-brown-95\n",
      "I'm doing the thing.\n"
     ]
    },
    {
     "name": "stderr",
     "output_type": "stream",
     "text": [
      "\r",
      " 12%|█▏        | 78/678 [00:26<03:09,  3.17it/s]"
     ]
    },
    {
     "name": "stdout",
     "output_type": "stream",
     "text": [
      "I'm doing the thing.\n",
      "bone-brown-96\n",
      "I'm doing the thing.\n",
      "I'm doing the thing.\n",
      "bone-brown-97\n",
      "I'm doing the thing.\n"
     ]
    },
    {
     "name": "stderr",
     "output_type": "stream",
     "text": [
      "\r",
      " 12%|█▏        | 80/678 [00:26<02:17,  4.34it/s]"
     ]
    },
    {
     "name": "stdout",
     "output_type": "stream",
     "text": [
      "I'm doing the thing.\n",
      "bone-brown-99\n",
      "I'm doing the thing.\n"
     ]
    },
    {
     "name": "stderr",
     "output_type": "stream",
     "text": [
      " 12%|█▏        | 82/678 [00:27<02:42,  3.66it/s]"
     ]
    },
    {
     "name": "stdout",
     "output_type": "stream",
     "text": [
      "I'm doing the thing.\n",
      "bone-china-002\n",
      "I'm doing the thing.\n",
      "I'm doing the thing.\n",
      "bone-china-004\n",
      "I'm doing the thing.\n",
      "I'm doing the thing.\n",
      "bone-china-005\n",
      "I'm doing the thing.\n"
     ]
    },
    {
     "name": "stderr",
     "output_type": "stream",
     "text": [
      " 13%|█▎        | 86/678 [00:27<01:26,  6.86it/s]"
     ]
    },
    {
     "name": "stdout",
     "output_type": "stream",
     "text": [
      "I'm doing the thing.\n",
      "bone-china-006\n",
      "I'm doing the thing.\n",
      "I'm doing the thing.\n",
      "bone-china-008\n",
      "I'm doing the thing.\n",
      "I'm doing the thing.\n",
      "bone-china-009\n",
      "I'm doing the thing.\n"
     ]
    },
    {
     "name": "stderr",
     "output_type": "stream",
     "text": [
      "\r",
      " 13%|█▎        | 88/678 [00:27<01:12,  8.13it/s]"
     ]
    },
    {
     "name": "stdout",
     "output_type": "stream",
     "text": [
      "I'm doing the thing.\n",
      "bone-china-010\n",
      "I'm doing the thing.\n",
      "I'm doing the thing.\n",
      "bone-china-014\n",
      "I'm doing the thing.\n",
      "I'm doing the thing.\n",
      "bone-china-015\n",
      "I'm doing the thing.\n"
     ]
    },
    {
     "name": "stderr",
     "output_type": "stream",
     "text": [
      " 14%|█▎        | 93/678 [00:27<00:48, 12.00it/s]"
     ]
    },
    {
     "name": "stdout",
     "output_type": "stream",
     "text": [
      "I'm doing the thing.\n",
      "bone-china-019\n",
      "I'm doing the thing.\n",
      "I'm doing the thing.\n",
      "bone-china-020\n",
      "I'm doing the thing.\n",
      "I'm doing the thing.\n",
      "bone-china-021\n",
      "I'm doing the thing.\n",
      "I'm doing the thing.\n",
      "bone-china-022\n",
      "I'm doing the thing.\n",
      "I'm doing the thing.\n",
      "bone-china-023\n",
      "I'm doing the thing.\n"
     ]
    },
    {
     "name": "stderr",
     "output_type": "stream",
     "text": [
      " 14%|█▍        | 97/678 [00:28<00:46, 12.62it/s]"
     ]
    },
    {
     "name": "stdout",
     "output_type": "stream",
     "text": [
      "I'm doing the thing.\n",
      "bone-china-027\n",
      "I'm doing the thing.\n",
      "I'm doing the thing.\n",
      "bone-china-028\n",
      "I'm doing the thing.\n",
      "I'm doing the thing.\n",
      "bone-china-029\n",
      "I'm doing the thing.\n",
      "I'm doing the thing.\n",
      "bone-china-031\n",
      "I'm doing the thing.\n"
     ]
    },
    {
     "name": "stderr",
     "output_type": "stream",
     "text": [
      " 15%|█▍        | 101/678 [00:28<00:43, 13.22it/s]"
     ]
    },
    {
     "name": "stdout",
     "output_type": "stream",
     "text": [
      "I'm doing the thing.\n",
      "bone-china-033\n",
      "I'm doing the thing.\n",
      "I'm doing the thing.\n",
      "bone-china-035\n",
      "I'm doing the thing.\n",
      "I'm doing the thing.\n",
      "bone-china-037\n",
      "I'm doing the thing.\n"
     ]
    },
    {
     "name": "stderr",
     "output_type": "stream",
     "text": [
      "\r",
      " 15%|█▌        | 103/678 [00:28<00:46, 12.42it/s]"
     ]
    },
    {
     "name": "stdout",
     "output_type": "stream",
     "text": [
      "I'm doing the thing.\n",
      "bone-china-038\n",
      "I'm doing the thing.\n",
      "I'm doing the thing.\n",
      "bone-china-039\n",
      "I'm doing the thing.\n",
      "I'm doing the thing.\n",
      "bone-china-041\n",
      "I'm doing the thing.\n"
     ]
    },
    {
     "name": "stderr",
     "output_type": "stream",
     "text": [
      " 16%|█▌        | 107/678 [00:29<00:47, 12.08it/s]"
     ]
    },
    {
     "name": "stdout",
     "output_type": "stream",
     "text": [
      "I'm doing the thing.\n",
      "bone-china-044\n",
      "I'm doing the thing.\n",
      "I'm doing the thing.\n",
      "bone-china-045\n",
      "I'm doing the thing.\n",
      "I'm doing the thing.\n",
      "bone-china-046\n",
      "I'm doing the thing.\n"
     ]
    },
    {
     "name": "stderr",
     "output_type": "stream",
     "text": [
      " 16%|█▋        | 111/678 [00:29<00:44, 12.63it/s]"
     ]
    },
    {
     "name": "stdout",
     "output_type": "stream",
     "text": [
      "I'm doing the thing.\n",
      "bone-china-047\n",
      "I'm doing the thing.\n",
      "I'm doing the thing.\n",
      "bone-china-050\n",
      "I'm doing the thing.\n",
      "I'm doing the thing.\n",
      "bone-china-051\n",
      "I'm doing the thing.\n",
      "I'm doing the thing.\n",
      "bone-china-052\n",
      "I'm doing the thing.\n"
     ]
    },
    {
     "name": "stderr",
     "output_type": "stream",
     "text": [
      "\r",
      " 17%|█▋        | 114/678 [00:29<00:38, 14.76it/s]"
     ]
    },
    {
     "name": "stdout",
     "output_type": "stream",
     "text": [
      "I'm doing the thing.\n",
      "bone-china-053\n",
      "I'm doing the thing.\n",
      "I'm doing the thing.\n",
      "bone-china-055\n",
      "I'm doing the thing.\n",
      "I'm doing the thing.\n",
      "bone-china-056\n",
      "I'm doing the thing.\n",
      "I'm doing the thing.\n",
      "bone-china-058\n",
      "I'm doing the thing.\n"
     ]
    },
    {
     "name": "stderr",
     "output_type": "stream",
     "text": [
      " 17%|█▋        | 118/678 [00:30<00:51, 10.83it/s]"
     ]
    },
    {
     "name": "stdout",
     "output_type": "stream",
     "text": [
      "I'm doing the thing.\n",
      "bone-china-059\n",
      "I'm doing the thing.\n",
      "I'm doing the thing.\n",
      "bone-china-060\n",
      "I'm doing the thing.\n",
      "I'm doing the thing.\n",
      "bone-china-061\n",
      "I'm doing the thing.\n",
      "I'm doing the thing.\n",
      "bone-china-062\n",
      "I'm doing the thing.\n"
     ]
    },
    {
     "name": "stderr",
     "output_type": "stream",
     "text": [
      " 18%|█▊        | 122/678 [00:30<00:47, 11.61it/s]"
     ]
    },
    {
     "name": "stdout",
     "output_type": "stream",
     "text": [
      "I'm doing the thing.\n",
      "bone-china-065\n",
      "I'm doing the thing.\n",
      "I'm doing the thing.\n",
      "bone-china-066\n",
      "I'm doing the thing.\n",
      "I'm doing the thing.\n",
      "bone-china-067\n",
      "I'm doing the thing.\n"
     ]
    },
    {
     "name": "stderr",
     "output_type": "stream",
     "text": [
      "\r",
      " 18%|█▊        | 124/678 [00:30<00:45, 12.10it/s]"
     ]
    },
    {
     "name": "stdout",
     "output_type": "stream",
     "text": [
      "I'm doing the thing.\n",
      "bone-china-068\n",
      "I'm doing the thing.\n",
      "I'm doing the thing.\n",
      "bone-china-069\n",
      "I'm doing the thing.\n",
      "I'm doing the thing.\n",
      "bone-china-070\n",
      "I'm doing the thing.\n"
     ]
    },
    {
     "name": "stderr",
     "output_type": "stream",
     "text": [
      " 19%|█▉        | 128/678 [00:30<00:41, 13.22it/s]"
     ]
    },
    {
     "name": "stdout",
     "output_type": "stream",
     "text": [
      "I'm doing the thing.\n",
      "bone-china-071\n",
      "I'm doing the thing.\n",
      "I'm doing the thing.\n",
      "bone-china-072\n",
      "I'm doing the thing.\n",
      "I'm doing the thing.\n",
      "bone-china-074\n",
      "I'm doing the thing.\n"
     ]
    },
    {
     "name": "stderr",
     "output_type": "stream",
     "text": [
      "\r",
      " 19%|█▉        | 130/678 [00:30<00:44, 12.45it/s]"
     ]
    },
    {
     "name": "stdout",
     "output_type": "stream",
     "text": [
      "I'm doing the thing.\n",
      "bone-china-075\n",
      "I'm doing the thing.\n",
      "I'm doing the thing.\n",
      "bone-china-076\n",
      "I'm doing the thing.\n"
     ]
    },
    {
     "name": "stderr",
     "output_type": "stream",
     "text": [
      "\r",
      " 19%|█▉        | 132/678 [00:31<00:57,  9.50it/s]"
     ]
    },
    {
     "name": "stdout",
     "output_type": "stream",
     "text": [
      "I'm doing the thing.\n",
      "bone-china-079\n",
      "I'm doing the thing.\n",
      "I'm doing the thing.\n",
      "bone-china-080\n",
      "I'm doing the thing.\n",
      "I'm doing the thing.\n",
      "bone-china-081\n",
      "I'm doing the thing.\n"
     ]
    },
    {
     "name": "stderr",
     "output_type": "stream",
     "text": [
      "\r",
      " 20%|█▉        | 134/678 [00:31<00:54,  9.97it/s]"
     ]
    },
    {
     "name": "stdout",
     "output_type": "stream",
     "text": [
      "I'm doing the thing.\n",
      "bone-china-083\n",
      "I'm doing the thing.\n",
      "I'm doing the thing.\n",
      "bone-china-084\n",
      "I'm doing the thing.\n"
     ]
    },
    {
     "name": "stderr",
     "output_type": "stream",
     "text": [
      " 20%|██        | 138/678 [00:31<00:53, 10.02it/s]"
     ]
    },
    {
     "name": "stdout",
     "output_type": "stream",
     "text": [
      "I'm doing the thing.\n",
      "bone-china-085\n",
      "I'm doing the thing.\n",
      "I'm doing the thing.\n",
      "bone-china-086\n",
      "I'm doing the thing.\n",
      "I'm doing the thing.\n",
      "bone-china-087\n",
      "I'm doing the thing.\n"
     ]
    },
    {
     "name": "stderr",
     "output_type": "stream",
     "text": [
      "\r",
      " 21%|██        | 140/678 [00:32<00:57,  9.41it/s]"
     ]
    },
    {
     "name": "stdout",
     "output_type": "stream",
     "text": [
      "I'm doing the thing.\n",
      "bone-china-088\n",
      "I'm doing the thing.\n",
      "I'm doing the thing.\n",
      "bone-china-089\n",
      "I'm doing the thing.\n"
     ]
    },
    {
     "name": "stderr",
     "output_type": "stream",
     "text": [
      "\r",
      " 21%|██        | 142/678 [00:32<00:50, 10.59it/s]"
     ]
    },
    {
     "name": "stdout",
     "output_type": "stream",
     "text": [
      "I'm doing the thing.\n",
      "bone-china-090\n",
      "I'm doing the thing.\n",
      "I'm doing the thing.\n",
      "bone-china-092\n",
      "I'm doing the thing.\n",
      "I'm doing the thing.\n",
      "bone-china-093\n",
      "I'm doing the thing.\n"
     ]
    },
    {
     "name": "stderr",
     "output_type": "stream",
     "text": [
      " 22%|██▏       | 146/678 [00:32<00:44, 11.97it/s]"
     ]
    },
    {
     "name": "stdout",
     "output_type": "stream",
     "text": [
      "I'm doing the thing.\n",
      "bone-china-099\n",
      "I'm doing the thing.\n",
      "I'm doing the thing.\n",
      "bone-china-100\n",
      "I'm doing the thing.\n",
      "I'm doing the thing.\n",
      "bone-china-101\n",
      "I'm doing the thing.\n"
     ]
    },
    {
     "name": "stderr",
     "output_type": "stream",
     "text": [
      "\r",
      " 22%|██▏       | 148/678 [00:32<00:42, 12.39it/s]"
     ]
    },
    {
     "name": "stdout",
     "output_type": "stream",
     "text": [
      "I'm doing the thing.\n",
      "bone-china-103\n",
      "I'm doing the thing.\n",
      "I'm doing the thing.\n",
      "bone-china-104\n",
      "I'm doing the thing.\n",
      "I'm doing the thing.\n"
     ]
    },
    {
     "name": "stderr",
     "output_type": "stream",
     "text": [
      "\r",
      " 22%|██▏       | 150/678 [00:32<00:49, 10.68it/s]"
     ]
    },
    {
     "name": "stdout",
     "output_type": "stream",
     "text": [
      "bone-china-105\n",
      "I'm doing the thing.\n",
      "I'm doing the thing.\n",
      "bone-china-107\n",
      "I'm doing the thing.\n"
     ]
    },
    {
     "name": "stderr",
     "output_type": "stream",
     "text": [
      "\r",
      " 22%|██▏       | 152/678 [00:33<00:45, 11.44it/s]"
     ]
    },
    {
     "name": "stdout",
     "output_type": "stream",
     "text": [
      "I'm doing the thing.\n",
      "bone-china-109\n",
      "I'm doing the thing.\n",
      "I'm doing the thing.\n",
      "bone-china-110\n",
      "I'm doing the thing.\n",
      "I'm doing the thing.\n",
      "bone-china-113\n",
      "I'm doing the thing.\n"
     ]
    },
    {
     "name": "stderr",
     "output_type": "stream",
     "text": [
      " 23%|██▎       | 156/678 [00:33<00:44, 11.60it/s]"
     ]
    },
    {
     "name": "stdout",
     "output_type": "stream",
     "text": [
      "I'm doing the thing.\n",
      "bone-china-114\n",
      "I'm doing the thing.\n",
      "I'm doing the thing.\n",
      "bone-china-117\n",
      "I'm doing the thing.\n",
      "I'm doing the thing.\n",
      "bone-china-118\n",
      "I'm doing the thing.\n"
     ]
    },
    {
     "name": "stderr",
     "output_type": "stream",
     "text": [
      "\r",
      " 23%|██▎       | 158/678 [00:33<00:49, 10.55it/s]"
     ]
    },
    {
     "name": "stdout",
     "output_type": "stream",
     "text": [
      "I'm doing the thing.\n",
      "bone-china-121\n",
      "I'm doing the thing.\n",
      "I'm doing the thing.\n",
      "bone-china-122\n",
      "I'm doing the thing.\n"
     ]
    },
    {
     "name": "stderr",
     "output_type": "stream",
     "text": [
      "\r",
      " 24%|██▎       | 160/678 [00:33<00:51, 10.12it/s]"
     ]
    },
    {
     "name": "stdout",
     "output_type": "stream",
     "text": [
      "I'm doing the thing.\n",
      "bone-china-123\n",
      "I'm doing the thing.\n",
      "I'm doing the thing.\n",
      "bone-china-124\n",
      "I'm doing the thing.\n"
     ]
    },
    {
     "name": "stderr",
     "output_type": "stream",
     "text": [
      "\r",
      " 24%|██▍       | 162/678 [00:34<00:48, 10.63it/s]"
     ]
    },
    {
     "name": "stdout",
     "output_type": "stream",
     "text": [
      "I'm doing the thing.\n",
      "bone-china-125\n",
      "I'm doing the thing.\n",
      "I'm doing the thing.\n",
      "bone-china-126\n",
      "I'm doing the thing.\n",
      "I'm doing the thing.\n",
      "bone-china-127\n",
      "I'm doing the thing.\n"
     ]
    },
    {
     "name": "stderr",
     "output_type": "stream",
     "text": [
      " 24%|██▍       | 166/678 [00:34<00:48, 10.51it/s]"
     ]
    },
    {
     "name": "stdout",
     "output_type": "stream",
     "text": [
      "I'm doing the thing.\n",
      "bone-china-131\n",
      "I'm doing the thing.\n",
      "I'm doing the thing.\n",
      "bone-china-132\n",
      "I'm doing the thing.\n",
      "I'm doing the thing.\n",
      "bone-china-133\n",
      "I'm doing the thing.\n"
     ]
    },
    {
     "name": "stderr",
     "output_type": "stream",
     "text": [
      "\r",
      " 25%|██▍       | 168/678 [00:34<00:51,  9.87it/s]"
     ]
    },
    {
     "name": "stdout",
     "output_type": "stream",
     "text": [
      "I'm doing the thing.\n",
      "bone-china-134\n",
      "I'm doing the thing.\n",
      "I'm doing the thing.\n",
      "bone-china-135\n",
      "I'm doing the thing.\n"
     ]
    },
    {
     "name": "stderr",
     "output_type": "stream",
     "text": [
      "\r",
      " 25%|██▌       | 170/678 [00:34<00:45, 11.27it/s]"
     ]
    },
    {
     "name": "stdout",
     "output_type": "stream",
     "text": [
      "I'm doing the thing.\n",
      "bone-china-136\n",
      "I'm doing the thing.\n",
      "I'm doing the thing.\n",
      "bone-china-138\n",
      "I'm doing the thing.\n",
      "I'm doing the thing.\n",
      "bone-china-140\n",
      "I'm doing the thing.\n"
     ]
    },
    {
     "name": "stderr",
     "output_type": "stream",
     "text": [
      "\r",
      " 25%|██▌       | 172/678 [00:35<00:47, 10.59it/s]"
     ]
    },
    {
     "name": "stdout",
     "output_type": "stream",
     "text": [
      "I'm doing the thing.\n",
      "bone-china-143\n",
      "I'm doing the thing.\n",
      "I'm doing the thing.\n",
      "bone-china-145\n",
      "I'm doing the thing.\n"
     ]
    },
    {
     "name": "stderr",
     "output_type": "stream",
     "text": [
      "\r",
      " 26%|██▌       | 174/678 [00:35<00:53,  9.34it/s]"
     ]
    },
    {
     "name": "stdout",
     "output_type": "stream",
     "text": [
      "I'm doing the thing.\n",
      "bone-china-146\n",
      "I'm doing the thing.\n",
      "I'm doing the thing.\n",
      "bone-china-148\n",
      "I'm doing the thing.\n"
     ]
    },
    {
     "name": "stderr",
     "output_type": "stream",
     "text": [
      " 26%|██▌       | 177/678 [00:35<00:54,  9.17it/s]"
     ]
    },
    {
     "name": "stdout",
     "output_type": "stream",
     "text": [
      "I'm doing the thing.\n",
      "bone-china-149\n",
      "I'm doing the thing.\n",
      "I'm doing the thing.\n",
      "bone-china-152\n",
      "I'm doing the thing.\n",
      "I'm doing the thing.\n",
      "bone-china-153\n"
     ]
    },
    {
     "name": "stderr",
     "output_type": "stream",
     "text": [
      "\r",
      " 26%|██▋       | 179/678 [00:35<00:51,  9.66it/s]"
     ]
    },
    {
     "name": "stdout",
     "output_type": "stream",
     "text": [
      "I'm doing the thing.\n",
      "I'm doing the thing.\n",
      "bone-china-154\n",
      "I'm doing the thing.\n",
      "I'm doing the thing.\n",
      "bone-china-158\n",
      "I'm doing the thing.\n"
     ]
    },
    {
     "name": "stderr",
     "output_type": "stream",
     "text": [
      "\r",
      " 27%|██▋       | 181/678 [00:35<00:43, 11.55it/s]"
     ]
    },
    {
     "name": "stdout",
     "output_type": "stream",
     "text": [
      "I'm doing the thing.\n",
      "bone-china-159\n",
      "I'm doing the thing.\n",
      "I'm doing the thing.\n",
      "bone-china-160\n",
      "I'm doing the thing.\n"
     ]
    },
    {
     "name": "stderr",
     "output_type": "stream",
     "text": [
      " 27%|██▋       | 185/678 [00:36<00:41, 11.81it/s]"
     ]
    },
    {
     "name": "stdout",
     "output_type": "stream",
     "text": [
      "I'm doing the thing.\n",
      "bone-china-161\n",
      "I'm doing the thing.\n",
      "I'm doing the thing.\n",
      "bone-china-164\n",
      "I'm doing the thing.\n",
      "I'm doing the thing.\n",
      "bone-china-166\n",
      "I'm doing the thing.\n"
     ]
    },
    {
     "name": "stderr",
     "output_type": "stream",
     "text": [
      "\r",
      " 28%|██▊       | 187/678 [00:36<00:39, 12.35it/s]"
     ]
    },
    {
     "name": "stdout",
     "output_type": "stream",
     "text": [
      "I'm doing the thing.\n",
      "bone-china-167\n",
      "I'm doing the thing.\n",
      "I'm doing the thing.\n",
      "bone-china-169\n",
      "I'm doing the thing.\n",
      "I'm doing the thing.\n",
      "bone-china-170\n",
      "I'm doing the thing.\n"
     ]
    },
    {
     "name": "stderr",
     "output_type": "stream",
     "text": [
      "\r",
      " 28%|██▊       | 189/678 [00:36<00:39, 12.30it/s]"
     ]
    },
    {
     "name": "stdout",
     "output_type": "stream",
     "text": [
      "I'm doing the thing.\n",
      "bone-china-174\n",
      "I'm doing the thing.\n",
      "I'm doing the thing.\n",
      "bone-china-175\n",
      "I'm doing the thing.\n"
     ]
    },
    {
     "name": "stderr",
     "output_type": "stream",
     "text": [
      " 28%|██▊       | 193/678 [00:37<00:45, 10.75it/s]"
     ]
    },
    {
     "name": "stdout",
     "output_type": "stream",
     "text": [
      "I'm doing the thing.\n",
      "bone-china-176\n",
      "I'm doing the thing.\n",
      "I'm doing the thing.\n",
      "bone-china-177\n",
      "I'm doing the thing.\n",
      "I'm doing the thing.\n",
      "bone-china-180\n",
      "I'm doing the thing.\n"
     ]
    },
    {
     "name": "stderr",
     "output_type": "stream",
     "text": [
      " 29%|██▉       | 197/678 [00:37<00:38, 12.53it/s]"
     ]
    },
    {
     "name": "stdout",
     "output_type": "stream",
     "text": [
      "I'm doing the thing.\n",
      "bone-china-184\n",
      "I'm doing the thing.\n",
      "I'm doing the thing.\n",
      "bone-china-186\n",
      "I'm doing the thing.\n",
      "I'm doing the thing.\n",
      "bone-china-187\n",
      "I'm doing the thing.\n",
      "I'm doing the thing.\n",
      "bone-china-189\n",
      "I'm doing the thing.\n"
     ]
    },
    {
     "name": "stderr",
     "output_type": "stream",
     "text": [
      "\r",
      " 29%|██▉       | 199/678 [00:37<00:36, 13.01it/s]"
     ]
    },
    {
     "name": "stdout",
     "output_type": "stream",
     "text": [
      "I'm doing the thing.\n",
      "bone-china-190\n",
      "I'm doing the thing.\n",
      "I'm doing the thing.\n",
      "bone-china-192\n",
      "I'm doing the thing.\n",
      "I'm doing the thing.\n",
      "bone-china-193\n",
      "I'm doing the thing.\n"
     ]
    },
    {
     "name": "stderr",
     "output_type": "stream",
     "text": [
      "\r",
      " 30%|██▉       | 201/678 [00:37<00:36, 13.15it/s]"
     ]
    },
    {
     "name": "stdout",
     "output_type": "stream",
     "text": [
      "I'm doing the thing.\n",
      "bone-china-194\n",
      "I'm doing the thing.\n",
      "I'm doing the thing.\n",
      "bone-china-196\n",
      "I'm doing the thing.\n"
     ]
    },
    {
     "name": "stderr",
     "output_type": "stream",
     "text": [
      " 30%|███       | 205/678 [00:37<00:39, 11.95it/s]"
     ]
    },
    {
     "name": "stdout",
     "output_type": "stream",
     "text": [
      "I'm doing the thing.\n",
      "bone-china-198\n",
      "I'm doing the thing.\n",
      "I'm doing the thing.\n",
      "bone-china-199\n",
      "I'm doing the thing.\n",
      "I'm doing the thing.\n",
      "bone-china-203\n",
      "I'm doing the thing.\n"
     ]
    },
    {
     "name": "stderr",
     "output_type": "stream",
     "text": [
      "\r",
      " 31%|███       | 207/678 [00:38<00:40, 11.75it/s]"
     ]
    },
    {
     "name": "stdout",
     "output_type": "stream",
     "text": [
      "I'm doing the thing.\n",
      "bone-china-209\n",
      "I'm doing the thing.\n",
      "I'm doing the thing.\n",
      "bone-china-212\n",
      "I'm doing the thing.\n",
      "I'm doing the thing.\n",
      "bone-china-213\n",
      "I'm doing the thing.\n"
     ]
    },
    {
     "name": "stderr",
     "output_type": "stream",
     "text": [
      " 31%|███       | 211/678 [00:38<00:37, 12.43it/s]"
     ]
    },
    {
     "name": "stdout",
     "output_type": "stream",
     "text": [
      "I'm doing the thing.\n",
      "bone-china-215\n",
      "I'm doing the thing.\n",
      "I'm doing the thing.\n",
      "bone-china-216\n",
      "I'm doing the thing.\n",
      "I'm doing the thing.\n",
      "bone-china-217\n",
      "I'm doing the thing.\n"
     ]
    },
    {
     "name": "stderr",
     "output_type": "stream",
     "text": [
      "\r",
      " 31%|███▏      | 213/678 [00:38<00:38, 12.08it/s]"
     ]
    },
    {
     "name": "stdout",
     "output_type": "stream",
     "text": [
      "I'm doing the thing.\n",
      "bone-china-221\n",
      "I'm doing the thing.\n",
      "I'm doing the thing.\n",
      "bone-china-222\n",
      "I'm doing the thing.\n",
      "I'm doing the thing.\n",
      "bone-china-223\n",
      "I'm doing the thing.\n"
     ]
    },
    {
     "name": "stderr",
     "output_type": "stream",
     "text": [
      "\r",
      " 32%|███▏      | 215/678 [00:38<00:39, 11.59it/s]"
     ]
    },
    {
     "name": "stdout",
     "output_type": "stream",
     "text": [
      "I'm doing the thing.\n",
      "bone-china-225\n",
      "I'm doing the thing.\n",
      "I'm doing the thing.\n",
      "bone-china-228\n",
      "I'm doing the thing.\n"
     ]
    },
    {
     "name": "stderr",
     "output_type": "stream",
     "text": [
      "\r",
      " 32%|███▏      | 217/678 [00:39<00:45, 10.16it/s]"
     ]
    },
    {
     "name": "stdout",
     "output_type": "stream",
     "text": [
      "I'm doing the thing.\n",
      "bone-china-231\n",
      "I'm doing the thing.\n",
      "I'm doing the thing.\n",
      "bone-china-234\n",
      "I'm doing the thing.\n"
     ]
    },
    {
     "name": "stderr",
     "output_type": "stream",
     "text": [
      "\r",
      " 32%|███▏      | 219/678 [00:39<00:48,  9.56it/s]"
     ]
    },
    {
     "name": "stdout",
     "output_type": "stream",
     "text": [
      "I'm doing the thing.\n",
      "bone-china-242\n",
      "I'm doing the thing.\n"
     ]
    },
    {
     "name": "stderr",
     "output_type": "stream",
     "text": [
      " 33%|███▎      | 221/678 [00:39<00:58,  7.82it/s]"
     ]
    },
    {
     "name": "stdout",
     "output_type": "stream",
     "text": [
      "I'm doing the thing.\n",
      "bone-china-243\n",
      "I'm doing the thing.\n",
      "I'm doing the thing.\n",
      "bone-hup-101\n",
      "I'm doing the thing.\n"
     ]
    },
    {
     "name": "stderr",
     "output_type": "stream",
     "text": [
      " 33%|███▎      | 223/678 [00:40<01:08,  6.66it/s]"
     ]
    },
    {
     "name": "stdout",
     "output_type": "stream",
     "text": [
      "I'm doing the thing.\n",
      "bone-hup-102\n",
      "I'm doing the thing.\n",
      "I'm doing the thing.\n",
      "bone-hup-103\n",
      "I'm doing the thing.\n",
      "I'm doing the thing.\n",
      "bone-hup-104\n",
      "I'm doing the thing.\n"
     ]
    },
    {
     "name": "stderr",
     "output_type": "stream",
     "text": [
      "\r",
      " 33%|███▎      | 225/678 [00:40<00:58,  7.68it/s]"
     ]
    },
    {
     "name": "stdout",
     "output_type": "stream",
     "text": [
      "I'm doing the thing.\n",
      "bone-hup-108\n",
      "I'm doing the thing.\n",
      "I'm doing the thing.\n",
      "bone-hup-109\n",
      "I'm doing the thing.\n"
     ]
    },
    {
     "name": "stderr",
     "output_type": "stream",
     "text": [
      "\r",
      " 33%|███▎      | 227/678 [00:40<01:10,  6.44it/s]"
     ]
    },
    {
     "name": "stdout",
     "output_type": "stream",
     "text": [
      "I'm doing the thing.\n",
      "bone-hup-111\n",
      "I'm doing the thing.\n"
     ]
    },
    {
     "name": "stderr",
     "output_type": "stream",
     "text": [
      "\r",
      " 34%|███▎      | 228/678 [00:41<01:33,  4.82it/s]"
     ]
    },
    {
     "name": "stdout",
     "output_type": "stream",
     "text": [
      "I'm doing the thing.\n",
      "bone-hup-112\n",
      "I'm doing the thing.\n"
     ]
    },
    {
     "name": "stderr",
     "output_type": "stream",
     "text": [
      "\r",
      " 34%|███▍      | 229/678 [00:41<01:38,  4.57it/s]"
     ]
    },
    {
     "name": "stdout",
     "output_type": "stream",
     "text": [
      "I'm doing the thing.\n",
      "bone-hup-114\n",
      "I'm doing the thing.\n"
     ]
    },
    {
     "name": "stderr",
     "output_type": "stream",
     "text": [
      "\r",
      " 34%|███▍      | 230/678 [00:41<01:54,  3.91it/s]"
     ]
    },
    {
     "name": "stdout",
     "output_type": "stream",
     "text": [
      "I'm doing the thing.\n",
      "bone-hup-116\n",
      "I'm doing the thing.\n"
     ]
    },
    {
     "name": "stderr",
     "output_type": "stream",
     "text": [
      "\r",
      " 34%|███▍      | 231/678 [00:42<02:05,  3.56it/s]"
     ]
    },
    {
     "name": "stdout",
     "output_type": "stream",
     "text": [
      "I'm doing the thing.\n",
      "bone-hup-118\n",
      "I'm doing the thing.\n"
     ]
    },
    {
     "name": "stderr",
     "output_type": "stream",
     "text": [
      " 34%|███▍      | 233/678 [00:42<01:49,  4.07it/s]"
     ]
    },
    {
     "name": "stdout",
     "output_type": "stream",
     "text": [
      "I'm doing the thing.\n",
      "bone-hup-119\n",
      "I'm doing the thing.\n",
      "I'm doing the thing.\n",
      "bone-hup-120\n",
      "I'm doing the thing.\n"
     ]
    },
    {
     "name": "stderr",
     "output_type": "stream",
     "text": [
      "\r",
      " 35%|███▍      | 234/678 [00:42<01:37,  4.54it/s]"
     ]
    },
    {
     "name": "stdout",
     "output_type": "stream",
     "text": [
      "I'm doing the thing.\n",
      "bone-hup-122\n",
      "I'm doing the thing.\n",
      "I'm doing the thing.\n",
      "bone-hup-123\n",
      "I'm doing the thing.\n"
     ]
    },
    {
     "name": "stderr",
     "output_type": "stream",
     "text": [
      "\r",
      " 35%|███▍      | 236/678 [00:42<01:25,  5.14it/s]"
     ]
    },
    {
     "name": "stdout",
     "output_type": "stream",
     "text": [
      "I'm doing the thing.\n",
      "bone-hup-124\n",
      "I'm doing the thing.\n",
      "I'm doing the thing.\n",
      "bone-hup-126\n",
      "I'm doing the thing.\n"
     ]
    },
    {
     "name": "stderr",
     "output_type": "stream",
     "text": [
      "\r",
      " 35%|███▌      | 238/678 [00:43<01:24,  5.23it/s]"
     ]
    },
    {
     "name": "stdout",
     "output_type": "stream",
     "text": [
      "I'm doing the thing.\n",
      "bone-hup-128\n",
      "I'm doing the thing.\n"
     ]
    },
    {
     "name": "stderr",
     "output_type": "stream",
     "text": [
      "\r",
      " 35%|███▌      | 239/678 [00:43<01:48,  4.06it/s]"
     ]
    },
    {
     "name": "stdout",
     "output_type": "stream",
     "text": [
      "I'm doing the thing.\n",
      "bone-hup-130\n",
      "I'm doing the thing.\n",
      "I'm doing the thing.\n",
      "bone-hup-131\n",
      "I'm doing the thing.\n"
     ]
    },
    {
     "name": "stderr",
     "output_type": "stream",
     "text": [
      " 36%|███▌      | 242/678 [00:44<01:23,  5.19it/s]"
     ]
    },
    {
     "name": "stdout",
     "output_type": "stream",
     "text": [
      "I'm doing the thing.\n",
      "bone-hup-132\n",
      "I'm doing the thing.\n",
      "I'm doing the thing.\n",
      "bone-hup-133\n",
      "I'm doing the thing.\n",
      "I'm doing the thing.\n",
      "bone-hup-134\n",
      "I'm doing the thing.\n"
     ]
    },
    {
     "name": "stderr",
     "output_type": "stream",
     "text": [
      " 36%|███▌      | 245/678 [00:44<01:17,  5.55it/s]"
     ]
    },
    {
     "name": "stdout",
     "output_type": "stream",
     "text": [
      "I'm doing the thing.\n",
      "bone-hup-136\n",
      "I'm doing the thing.\n",
      "I'm doing the thing.\n",
      "bone-hup-137\n",
      "I'm doing the thing.\n",
      "I'm doing the thing.\n",
      "bone-hup-138\n",
      "I'm doing the thing.\n"
     ]
    },
    {
     "name": "stderr",
     "output_type": "stream",
     "text": [
      " 37%|███▋      | 248/678 [00:45<01:09,  6.20it/s]"
     ]
    },
    {
     "name": "stdout",
     "output_type": "stream",
     "text": [
      "I'm doing the thing.\n",
      "bone-hup-139\n",
      "I'm doing the thing.\n",
      "I'm doing the thing.\n",
      "bone-hup-141\n",
      "I'm doing the thing.\n"
     ]
    },
    {
     "name": "stderr",
     "output_type": "stream",
     "text": [
      " 37%|███▋      | 251/678 [00:45<01:08,  6.27it/s]"
     ]
    },
    {
     "name": "stdout",
     "output_type": "stream",
     "text": [
      "I'm doing the thing.\n",
      "bone-hup-142\n",
      "I'm doing the thing.\n",
      "I'm doing the thing.\n",
      "bone-hup-143\n",
      "I'm doing the thing.\n",
      "I'm doing the thing.\n",
      "bone-hup-146\n",
      "I'm doing the thing.\n",
      "I'm doing the thing.\n",
      "bone-hup-148\n",
      "I'm doing the thing.\n"
     ]
    },
    {
     "name": "stderr",
     "output_type": "stream",
     "text": [
      " 37%|███▋      | 254/678 [00:46<01:11,  5.93it/s]"
     ]
    },
    {
     "name": "stdout",
     "output_type": "stream",
     "text": [
      "I'm doing the thing.\n",
      "bone-hup-150\n",
      "I'm doing the thing.\n",
      "I'm doing the thing.\n",
      "bone-hup-151\n",
      "I'm doing the thing.\n"
     ]
    },
    {
     "name": "stderr",
     "output_type": "stream",
     "text": [
      "\r",
      " 38%|███▊      | 256/678 [00:46<01:07,  6.22it/s]"
     ]
    },
    {
     "name": "stdout",
     "output_type": "stream",
     "text": [
      "I'm doing the thing.\n",
      "bone-hup-152\n",
      "I'm doing the thing.\n",
      "I'm doing the thing.\n",
      "bone-hup-154\n",
      "I'm doing the thing.\n"
     ]
    },
    {
     "name": "stderr",
     "output_type": "stream",
     "text": [
      " 38%|███▊      | 258/678 [00:46<01:03,  6.58it/s]"
     ]
    },
    {
     "name": "stdout",
     "output_type": "stream",
     "text": [
      "I'm doing the thing.\n",
      "bone-hup-155\n",
      "I'm doing the thing.\n",
      "I'm doing the thing.\n",
      "bone-hup-156\n",
      "I'm doing the thing.\n"
     ]
    },
    {
     "name": "stderr",
     "output_type": "stream",
     "text": [
      "\r",
      " 38%|███▊      | 259/678 [00:47<01:30,  4.62it/s]"
     ]
    },
    {
     "name": "stdout",
     "output_type": "stream",
     "text": [
      "I'm doing the thing.\n",
      "bone-hup-158\n",
      "I'm doing the thing.\n"
     ]
    },
    {
     "name": "stderr",
     "output_type": "stream",
     "text": [
      "\r",
      " 38%|███▊      | 260/678 [00:47<01:38,  4.25it/s]"
     ]
    },
    {
     "name": "stdout",
     "output_type": "stream",
     "text": [
      "I'm doing the thing.\n",
      "bone-hup-160\n",
      "I'm doing the thing.\n"
     ]
    },
    {
     "name": "stderr",
     "output_type": "stream",
     "text": [
      "\r",
      " 38%|███▊      | 261/678 [00:47<02:01,  3.43it/s]"
     ]
    },
    {
     "name": "stdout",
     "output_type": "stream",
     "text": [
      "I'm doing the thing.\n",
      "bone-hup-161\n",
      "I'm doing the thing.\n",
      "I'm doing the thing.\n",
      "bone-hup-168\n",
      "I'm doing the thing.\n"
     ]
    },
    {
     "name": "stderr",
     "output_type": "stream",
     "text": [
      "\r",
      " 39%|███▉      | 263/678 [00:48<01:28,  4.71it/s]"
     ]
    },
    {
     "name": "stdout",
     "output_type": "stream",
     "text": [
      "I'm doing the thing.\n",
      "bone-hup-169\n",
      "I'm doing the thing.\n"
     ]
    },
    {
     "name": "stderr",
     "output_type": "stream",
     "text": [
      "\r",
      " 39%|███▉      | 264/678 [00:48<01:39,  4.15it/s]"
     ]
    },
    {
     "name": "stdout",
     "output_type": "stream",
     "text": [
      "I'm doing the thing.\n",
      "bone-hup-173\n",
      "I'm doing the thing.\n"
     ]
    },
    {
     "name": "stderr",
     "output_type": "stream",
     "text": [
      " 39%|███▉      | 267/678 [00:49<01:33,  4.40it/s]"
     ]
    },
    {
     "name": "stdout",
     "output_type": "stream",
     "text": [
      "I'm doing the thing.\n",
      "bone-hup-177\n",
      "I'm doing the thing.\n",
      "I'm doing the thing.\n",
      "bone-hup-179\n",
      "I'm doing the thing.\n",
      "I'm doing the thing.\n",
      "bone-hup-180\n",
      "I'm doing the thing.\n"
     ]
    },
    {
     "name": "stderr",
     "output_type": "stream",
     "text": [
      "\r",
      " 40%|███▉      | 268/678 [00:49<01:26,  4.76it/s]"
     ]
    },
    {
     "name": "stdout",
     "output_type": "stream",
     "text": [
      "I'm doing the thing.\n",
      "bone-hup-188\n",
      "I'm doing the thing.\n"
     ]
    },
    {
     "name": "stderr",
     "output_type": "stream",
     "text": [
      "\r",
      " 40%|███▉      | 269/678 [00:49<01:38,  4.17it/s]"
     ]
    },
    {
     "name": "stdout",
     "output_type": "stream",
     "text": [
      "I'm doing the thing.\n",
      "bone-hup-193\n",
      "I'm doing the thing.\n",
      "I'm doing the thing.\n",
      "bone-hup-201\n",
      "I'm doing the thing.\n"
     ]
    },
    {
     "name": "stderr",
     "output_type": "stream",
     "text": [
      " 40%|████      | 273/678 [00:50<00:59,  6.78it/s]"
     ]
    },
    {
     "name": "stdout",
     "output_type": "stream",
     "text": [
      "I'm doing the thing.\n",
      "bone-hup-203\n",
      "I'm doing the thing.\n",
      "I'm doing the thing.\n",
      "bone-hup-207\n",
      "I'm doing the thing.\n",
      "I'm doing the thing.\n",
      "bone-hup-211\n",
      "I'm doing the thing.\n"
     ]
    },
    {
     "name": "stderr",
     "output_type": "stream",
     "text": [
      " 41%|████      | 275/678 [00:50<01:08,  5.87it/s]"
     ]
    },
    {
     "name": "stdout",
     "output_type": "stream",
     "text": [
      "I'm doing the thing.\n",
      "bone-hup-213\n",
      "I'm doing the thing.\n",
      "I'm doing the thing.\n",
      "bone-hup-214\n",
      "I'm doing the thing.\n"
     ]
    },
    {
     "name": "stderr",
     "output_type": "stream",
     "text": [
      " 41%|████      | 278/678 [00:50<00:48,  8.27it/s]"
     ]
    },
    {
     "name": "stdout",
     "output_type": "stream",
     "text": [
      "I'm doing the thing.\n",
      "bone-hup-219\n",
      "I'm doing the thing.\n",
      "I'm doing the thing.\n",
      "bone-hup-225\n",
      "I'm doing the thing.\n",
      "I'm doing the thing.\n",
      "bone-hup-228\n",
      "I'm doing the thing.\n",
      "I'm doing the thing.\n",
      "bone-hup-229\n",
      "I'm doing the thing.\n"
     ]
    },
    {
     "name": "stderr",
     "output_type": "stream",
     "text": [
      "\r",
      " 41%|████▏     | 280/678 [00:51<00:39, 10.18it/s]"
     ]
    },
    {
     "name": "stdout",
     "output_type": "stream",
     "text": [
      "I'm doing the thing.\n",
      "bone-hup-23\n",
      "I'm doing the thing.\n",
      "I'm doing the thing.\n",
      "bone-hup-231\n",
      "I'm doing the thing.\n"
     ]
    },
    {
     "name": "stderr",
     "output_type": "stream",
     "text": [
      "\r",
      " 42%|████▏     | 282/678 [00:51<01:09,  5.67it/s]"
     ]
    },
    {
     "name": "stdout",
     "output_type": "stream",
     "text": [
      "I'm doing the thing.\n",
      "bone-hup-232\n",
      "I'm doing the thing.\n"
     ]
    },
    {
     "name": "stderr",
     "output_type": "stream",
     "text": [
      "\r",
      " 42%|████▏     | 283/678 [00:51<01:18,  5.03it/s]"
     ]
    },
    {
     "name": "stdout",
     "output_type": "stream",
     "text": [
      "I'm doing the thing.\n",
      "bone-hup-234\n",
      "I'm doing the thing.\n"
     ]
    },
    {
     "name": "stderr",
     "output_type": "stream",
     "text": [
      " 42%|████▏     | 285/678 [00:52<01:17,  5.07it/s]"
     ]
    },
    {
     "name": "stdout",
     "output_type": "stream",
     "text": [
      "I'm doing the thing.\n",
      "bone-hup-237\n",
      "I'm doing the thing.\n",
      "I'm doing the thing.\n",
      "bone-hup-244\n",
      "I'm doing the thing.\n"
     ]
    },
    {
     "name": "stderr",
     "output_type": "stream",
     "text": [
      " 42%|████▏     | 288/678 [00:52<00:48,  8.06it/s]"
     ]
    },
    {
     "name": "stdout",
     "output_type": "stream",
     "text": [
      "I'm doing the thing.\n",
      "bone-hup-248\n",
      "I'm doing the thing.\n",
      "I'm doing the thing.\n",
      "bone-hup-257\n",
      "I'm doing the thing.\n",
      "I'm doing the thing.\n",
      "bone-hup-261\n",
      "I'm doing the thing.\n"
     ]
    },
    {
     "name": "stderr",
     "output_type": "stream",
     "text": [
      " 43%|████▎     | 292/678 [00:53<01:00,  6.35it/s]"
     ]
    },
    {
     "name": "stdout",
     "output_type": "stream",
     "text": [
      "I'm doing the thing.\n",
      "bone-hup-262\n",
      "I'm doing the thing.\n",
      "I'm doing the thing.\n",
      "bone-hup-263\n",
      "I'm doing the thing.\n",
      "I'm doing the thing.\n",
      "bone-hup-265\n",
      "I'm doing the thing.\n",
      "I'm doing the thing.\n",
      "bone-hup-266\n",
      "I'm doing the thing.\n"
     ]
    },
    {
     "name": "stderr",
     "output_type": "stream",
     "text": [
      "\r",
      " 43%|████▎     | 293/678 [00:53<01:14,  5.15it/s]"
     ]
    },
    {
     "name": "stdout",
     "output_type": "stream",
     "text": [
      "I'm doing the thing.\n",
      "bone-hup-271\n",
      "I'm doing the thing.\n"
     ]
    },
    {
     "name": "stderr",
     "output_type": "stream",
     "text": [
      "\r",
      " 43%|████▎     | 294/678 [00:54<01:23,  4.60it/s]"
     ]
    },
    {
     "name": "stdout",
     "output_type": "stream",
     "text": [
      "I'm doing the thing.\n",
      "bone-hup-272\n",
      "I'm doing the thing.\n"
     ]
    },
    {
     "name": "stderr",
     "output_type": "stream",
     "text": [
      "\r",
      " 44%|████▎     | 295/678 [00:54<01:39,  3.87it/s]"
     ]
    },
    {
     "name": "stdout",
     "output_type": "stream",
     "text": [
      "I'm doing the thing.\n",
      "bone-hup-275\n",
      "I'm doing the thing.\n"
     ]
    },
    {
     "name": "stderr",
     "output_type": "stream",
     "text": [
      "\r",
      " 44%|████▎     | 296/678 [00:55<02:34,  2.48it/s]"
     ]
    },
    {
     "name": "stdout",
     "output_type": "stream",
     "text": [
      "I'm doing the thing.\n",
      "bone-hup-276\n",
      "I'm doing the thing.\n",
      "I'm doing the thing.\n",
      "bone-hup-277\n",
      "I'm doing the thing.\n"
     ]
    },
    {
     "name": "stderr",
     "output_type": "stream",
     "text": [
      "\r",
      " 44%|████▍     | 298/678 [00:55<01:45,  3.61it/s]"
     ]
    },
    {
     "name": "stdout",
     "output_type": "stream",
     "text": [
      "I'm doing the thing.\n",
      "bone-hup-279\n",
      "I'm doing the thing.\n",
      "I'm doing the thing.\n",
      "bone-hup-281\n",
      "I'm doing the thing.\n"
     ]
    },
    {
     "name": "stderr",
     "output_type": "stream",
     "text": [
      " 44%|████▍     | 301/678 [00:55<01:13,  5.16it/s]"
     ]
    },
    {
     "name": "stdout",
     "output_type": "stream",
     "text": [
      "I'm doing the thing.\n",
      "bone-hup-287\n",
      "I'm doing the thing.\n",
      "I'm doing the thing.\n",
      "bone-hup-290\n",
      "I'm doing the thing.\n"
     ]
    },
    {
     "name": "stderr",
     "output_type": "stream",
     "text": [
      " 45%|████▍     | 303/678 [00:56<01:14,  5.02it/s]"
     ]
    },
    {
     "name": "stdout",
     "output_type": "stream",
     "text": [
      "I'm doing the thing.\n",
      "bone-hup-291\n",
      "I'm doing the thing.\n",
      "I'm doing the thing.\n",
      "bone-hup-293\n",
      "I'm doing the thing.\n"
     ]
    },
    {
     "name": "stderr",
     "output_type": "stream",
     "text": [
      "\r",
      " 45%|████▍     | 304/678 [00:56<01:05,  5.75it/s]"
     ]
    },
    {
     "name": "stdout",
     "output_type": "stream",
     "text": [
      "I'm doing the thing.\n",
      "bone-hup-296\n",
      "I'm doing the thing.\n"
     ]
    },
    {
     "name": "stderr",
     "output_type": "stream",
     "text": [
      "\r",
      " 45%|████▍     | 305/678 [00:56<01:08,  5.48it/s]"
     ]
    },
    {
     "name": "stdout",
     "output_type": "stream",
     "text": [
      "I'm doing the thing.\n",
      "bone-hup-297\n",
      "I'm doing the thing.\n"
     ]
    },
    {
     "name": "stderr",
     "output_type": "stream",
     "text": [
      " 45%|████▌     | 308/678 [00:57<01:14,  4.97it/s]"
     ]
    },
    {
     "name": "stdout",
     "output_type": "stream",
     "text": [
      "I'm doing the thing.\n",
      "bone-hup-298\n",
      "I'm doing the thing.\n",
      "I'm doing the thing.\n",
      "bone-hup-299\n",
      "I'm doing the thing.\n",
      "I'm doing the thing.\n",
      "bone-hup-3\n",
      "I'm doing the thing.\n"
     ]
    },
    {
     "name": "stderr",
     "output_type": "stream",
     "text": [
      "\r",
      " 46%|████▌     | 309/678 [00:57<01:18,  4.69it/s]"
     ]
    },
    {
     "name": "stdout",
     "output_type": "stream",
     "text": [
      "I'm doing the thing.\n",
      "bone-hup-302\n",
      "I'm doing the thing.\n"
     ]
    },
    {
     "name": "stderr",
     "output_type": "stream",
     "text": [
      "\r",
      " 46%|████▌     | 310/678 [00:57<01:26,  4.24it/s]"
     ]
    },
    {
     "name": "stdout",
     "output_type": "stream",
     "text": [
      "I'm doing the thing.\n",
      "bone-hup-305\n",
      "I'm doing the thing.\n"
     ]
    },
    {
     "name": "stderr",
     "output_type": "stream",
     "text": [
      " 46%|████▌     | 312/678 [00:58<01:26,  4.25it/s]"
     ]
    },
    {
     "name": "stdout",
     "output_type": "stream",
     "text": [
      "I'm doing the thing.\n",
      "bone-hup-306\n",
      "I'm doing the thing.\n",
      "I'm doing the thing.\n",
      "bone-hup-308\n",
      "I'm doing the thing.\n"
     ]
    },
    {
     "name": "stderr",
     "output_type": "stream",
     "text": [
      " 46%|████▋     | 314/678 [00:58<01:09,  5.25it/s]"
     ]
    },
    {
     "name": "stdout",
     "output_type": "stream",
     "text": [
      "I'm doing the thing.\n",
      "bone-hup-310\n",
      "I'm doing the thing.\n",
      "I'm doing the thing.\n",
      "bone-hup-312\n",
      "I'm doing the thing.\n"
     ]
    },
    {
     "name": "stderr",
     "output_type": "stream",
     "text": [
      "\r",
      " 46%|████▋     | 315/678 [00:58<01:05,  5.52it/s]"
     ]
    },
    {
     "name": "stdout",
     "output_type": "stream",
     "text": [
      "I'm doing the thing.\n",
      "bone-hup-314\n",
      "I'm doing the thing.\n",
      "I'm doing the thing.\n",
      "bone-hup-316\n",
      "I'm doing the thing.\n"
     ]
    },
    {
     "name": "stderr",
     "output_type": "stream",
     "text": [
      "\r",
      " 47%|████▋     | 317/678 [00:59<00:56,  6.44it/s]"
     ]
    },
    {
     "name": "stdout",
     "output_type": "stream",
     "text": [
      "I'm doing the thing.\n",
      "bone-hup-317\n",
      "I'm doing the thing.\n"
     ]
    },
    {
     "name": "stderr",
     "output_type": "stream",
     "text": [
      "\r",
      " 47%|████▋     | 318/678 [00:59<00:59,  6.00it/s]"
     ]
    },
    {
     "name": "stdout",
     "output_type": "stream",
     "text": [
      "I'm doing the thing.\n",
      "bone-hup-321\n",
      "I'm doing the thing.\n"
     ]
    },
    {
     "name": "stderr",
     "output_type": "stream",
     "text": [
      "\r",
      " 47%|████▋     | 319/678 [00:59<01:14,  4.81it/s]"
     ]
    },
    {
     "name": "stdout",
     "output_type": "stream",
     "text": [
      "I'm doing the thing.\n",
      "bone-hup-325\n",
      "I'm doing the thing.\n"
     ]
    },
    {
     "name": "stderr",
     "output_type": "stream",
     "text": [
      "\r",
      " 47%|████▋     | 320/678 [00:59<01:20,  4.44it/s]"
     ]
    },
    {
     "name": "stdout",
     "output_type": "stream",
     "text": [
      "I'm doing the thing.\n",
      "bone-hup-326\n",
      "I'm doing the thing.\n"
     ]
    },
    {
     "name": "stderr",
     "output_type": "stream",
     "text": [
      "\r",
      " 47%|████▋     | 321/678 [01:00<01:45,  3.37it/s]"
     ]
    },
    {
     "name": "stdout",
     "output_type": "stream",
     "text": [
      "I'm doing the thing.\n",
      "bone-hup-328\n",
      "I'm doing the thing.\n"
     ]
    },
    {
     "name": "stderr",
     "output_type": "stream",
     "text": [
      "\r",
      " 47%|████▋     | 322/678 [01:00<02:10,  2.72it/s]"
     ]
    },
    {
     "name": "stdout",
     "output_type": "stream",
     "text": [
      "I'm doing the thing.\n",
      "bone-hup-330\n",
      "I'm doing the thing.\n",
      "I'm doing the thing.\n",
      "bone-hup-50\n",
      "I'm doing the thing.\n"
     ]
    },
    {
     "name": "stderr",
     "output_type": "stream",
     "text": [
      " 48%|████▊     | 325/678 [01:03<03:55,  1.50it/s]"
     ]
    },
    {
     "name": "stdout",
     "output_type": "stream",
     "text": [
      "I'm doing the thing.\n",
      "bone-hup-51\n",
      "I'm doing the thing.\n",
      "I'm doing the thing.\n",
      "bone-hup-52\n",
      "I'm doing the thing.\n"
     ]
    },
    {
     "name": "stderr",
     "output_type": "stream",
     "text": [
      " 48%|████▊     | 328/678 [01:04<02:11,  2.66it/s]"
     ]
    },
    {
     "name": "stdout",
     "output_type": "stream",
     "text": [
      "I'm doing the thing.\n",
      "bone-hup-55\n",
      "I'm doing the thing.\n",
      "I'm doing the thing.\n",
      "bone-hup-56\n",
      "I'm doing the thing.\n",
      "I'm doing the thing.\n",
      "bone-hup-59\n",
      "I'm doing the thing.\n"
     ]
    },
    {
     "name": "stderr",
     "output_type": "stream",
     "text": [
      " 49%|████▉     | 331/678 [01:04<01:21,  4.24it/s]"
     ]
    },
    {
     "name": "stdout",
     "output_type": "stream",
     "text": [
      "I'm doing the thing.\n",
      "bone-hup-60\n",
      "I'm doing the thing.\n",
      "I'm doing the thing.\n",
      "bone-hup-61\n",
      "I'm doing the thing.\n",
      "I'm doing the thing.\n",
      "bone-hup-62\n",
      "I'm doing the thing.\n"
     ]
    },
    {
     "name": "stderr",
     "output_type": "stream",
     "text": [
      " 49%|████▉     | 333/678 [01:05<01:08,  5.01it/s]"
     ]
    },
    {
     "name": "stdout",
     "output_type": "stream",
     "text": [
      "I'm doing the thing.\n",
      "bone-hup-65\n",
      "I'm doing the thing.\n",
      "I'm doing the thing.\n",
      "bone-hup-67\n",
      "I'm doing the thing.\n"
     ]
    },
    {
     "name": "stderr",
     "output_type": "stream",
     "text": [
      " 49%|████▉     | 335/678 [01:05<01:02,  5.47it/s]"
     ]
    },
    {
     "name": "stdout",
     "output_type": "stream",
     "text": [
      "I'm doing the thing.\n",
      "bone-hup-69\n",
      "I'm doing the thing.\n",
      "I'm doing the thing.\n",
      "bone-hup-70\n",
      "I'm doing the thing.\n"
     ]
    },
    {
     "name": "stderr",
     "output_type": "stream",
     "text": [
      "\r",
      " 50%|████▉     | 336/678 [01:05<00:59,  5.77it/s]"
     ]
    },
    {
     "name": "stdout",
     "output_type": "stream",
     "text": [
      "I'm doing the thing.\n",
      "bone-hup-76\n",
      "I'm doing the thing.\n",
      "I'm doing the thing.\n",
      "bone-hup-78\n",
      "I'm doing the thing.\n"
     ]
    },
    {
     "name": "stderr",
     "output_type": "stream",
     "text": [
      "\r",
      " 50%|████▉     | 338/678 [01:05<00:53,  6.41it/s]"
     ]
    },
    {
     "name": "stdout",
     "output_type": "stream",
     "text": [
      "I'm doing the thing.\n",
      "bone-hup-79\n",
      "I'm doing the thing.\n",
      "I'm doing the thing.\n",
      "bone-hup-80\n",
      "I'm doing the thing.\n"
     ]
    },
    {
     "name": "stderr",
     "output_type": "stream",
     "text": [
      "\r",
      " 50%|█████     | 340/678 [01:06<00:50,  6.68it/s]"
     ]
    },
    {
     "name": "stdout",
     "output_type": "stream",
     "text": [
      "I'm doing the thing.\n",
      "bone-hup-81\n",
      "I'm doing the thing.\n",
      "I'm doing the thing.\n",
      "bone-hup-85\n",
      "I'm doing the thing.\n"
     ]
    },
    {
     "name": "stderr",
     "output_type": "stream",
     "text": [
      "\r",
      " 50%|█████     | 342/678 [01:06<01:02,  5.37it/s]"
     ]
    },
    {
     "name": "stdout",
     "output_type": "stream",
     "text": [
      "I'm doing the thing.\n",
      "bone-hup-90\n",
      "I'm doing the thing.\n"
     ]
    },
    {
     "name": "stderr",
     "output_type": "stream",
     "text": [
      "\r",
      " 51%|█████     | 343/678 [01:07<01:24,  3.95it/s]"
     ]
    },
    {
     "name": "stdout",
     "output_type": "stream",
     "text": [
      "I'm doing the thing.\n",
      "bone-hup-93\n",
      "I'm doing the thing.\n"
     ]
    },
    {
     "name": "stderr",
     "output_type": "stream",
     "text": [
      " 51%|█████     | 345/678 [01:07<01:22,  4.03it/s]"
     ]
    },
    {
     "name": "stdout",
     "output_type": "stream",
     "text": [
      "I'm doing the thing.\n",
      "bone-hup-95\n",
      "I'm doing the thing.\n",
      "I'm doing the thing.\n",
      "bone-penn-001\n",
      "I'm doing the thing.\n"
     ]
    },
    {
     "name": "stderr",
     "output_type": "stream",
     "text": [
      "\r",
      " 51%|█████     | 346/678 [01:07<01:16,  4.32it/s]"
     ]
    },
    {
     "name": "stdout",
     "output_type": "stream",
     "text": [
      "I'm doing the thing.\n",
      "bone-penn-005\n",
      "I'm doing the thing.\n"
     ]
    },
    {
     "name": "stderr",
     "output_type": "stream",
     "text": [
      "\r",
      " 51%|█████     | 347/678 [01:08<01:30,  3.67it/s]"
     ]
    },
    {
     "name": "stdout",
     "output_type": "stream",
     "text": [
      "I'm doing the thing.\n",
      "bone-penn-007\n",
      "I'm doing the thing.\n"
     ]
    },
    {
     "name": "stderr",
     "output_type": "stream",
     "text": [
      "\r",
      " 51%|█████▏    | 348/678 [01:08<01:26,  3.79it/s]"
     ]
    },
    {
     "name": "stdout",
     "output_type": "stream",
     "text": [
      "I'm doing the thing.\n",
      "bone-penn-011\n",
      "I'm doing the thing.\n"
     ]
    },
    {
     "name": "stderr",
     "output_type": "stream",
     "text": [
      " 52%|█████▏    | 350/678 [01:08<01:13,  4.46it/s]"
     ]
    },
    {
     "name": "stdout",
     "output_type": "stream",
     "text": [
      "I'm doing the thing.\n",
      "bone-penn-014\n",
      "I'm doing the thing.\n",
      "I'm doing the thing.\n",
      "bone-penn-018\n",
      "I'm doing the thing.\n"
     ]
    },
    {
     "name": "stderr",
     "output_type": "stream",
     "text": [
      " 52%|█████▏    | 353/678 [01:09<01:02,  5.17it/s]"
     ]
    },
    {
     "name": "stdout",
     "output_type": "stream",
     "text": [
      "I'm doing the thing.\n",
      "bone-penn-019\n",
      "I'm doing the thing.\n",
      "I'm doing the thing.\n",
      "bone-penn-020\n",
      "I'm doing the thing.\n",
      "I'm doing the thing.\n",
      "bone-penn-021\n",
      "I'm doing the thing.\n",
      "I'm doing the thing.\n",
      "bone-penn-022\n",
      "I'm doing the thing.\n"
     ]
    },
    {
     "name": "stderr",
     "output_type": "stream",
     "text": [
      " 53%|█████▎    | 357/678 [01:09<00:37,  8.51it/s]"
     ]
    },
    {
     "name": "stdout",
     "output_type": "stream",
     "text": [
      "I'm doing the thing.\n",
      "bone-penn-024\n",
      "I'm doing the thing.\n",
      "I'm doing the thing.\n",
      "bone-penn-027\n",
      "I'm doing the thing.\n",
      "I'm doing the thing.\n",
      "bone-penn-029\n",
      "I'm doing the thing.\n",
      "I'm doing the thing.\n",
      "bone-penn-030\n",
      "I'm doing the thing.\n"
     ]
    },
    {
     "name": "stderr",
     "output_type": "stream",
     "text": [
      "\r",
      " 53%|█████▎    | 359/678 [01:10<01:00,  5.26it/s]"
     ]
    },
    {
     "name": "stdout",
     "output_type": "stream",
     "text": [
      "I'm doing the thing.\n",
      "bone-penn-034\n",
      "I'm doing the thing.\n"
     ]
    },
    {
     "name": "stderr",
     "output_type": "stream",
     "text": [
      " 53%|█████▎    | 362/678 [01:11<01:29,  3.51it/s]"
     ]
    },
    {
     "name": "stdout",
     "output_type": "stream",
     "text": [
      "I'm doing the thing.\n",
      "bone-penn-036\n",
      "I'm doing the thing.\n",
      "I'm doing the thing.\n",
      "bone-penn-037\n",
      "I'm doing the thing.\n",
      "I'm doing the thing.\n",
      "bone-penn-038\n",
      "I'm doing the thing.\n"
     ]
    },
    {
     "name": "stderr",
     "output_type": "stream",
     "text": [
      "\r",
      " 54%|█████▎    | 364/678 [01:12<01:13,  4.26it/s]"
     ]
    },
    {
     "name": "stdout",
     "output_type": "stream",
     "text": [
      "I'm doing the thing.\n",
      "bone-penn-039\n",
      "I'm doing the thing.\n",
      "I'm doing the thing.\n",
      "bone-penn-040\n",
      "I'm doing the thing.\n"
     ]
    },
    {
     "name": "stderr",
     "output_type": "stream",
     "text": [
      " 54%|█████▍    | 366/678 [01:12<01:07,  4.60it/s]"
     ]
    },
    {
     "name": "stdout",
     "output_type": "stream",
     "text": [
      "I'm doing the thing.\n",
      "bone-penn-042\n",
      "I'm doing the thing.\n",
      "I'm doing the thing.\n",
      "bone-penn-045\n",
      "I'm doing the thing.\n"
     ]
    },
    {
     "name": "stderr",
     "output_type": "stream",
     "text": [
      "\r",
      " 54%|█████▍    | 367/678 [01:12<01:10,  4.40it/s]"
     ]
    },
    {
     "name": "stdout",
     "output_type": "stream",
     "text": [
      "I'm doing the thing.\n",
      "bone-penn-047\n",
      "I'm doing the thing.\n"
     ]
    },
    {
     "name": "stderr",
     "output_type": "stream",
     "text": [
      "\r",
      " 54%|█████▍    | 368/678 [01:13<01:32,  3.34it/s]"
     ]
    },
    {
     "name": "stdout",
     "output_type": "stream",
     "text": [
      "I'm doing the thing.\n",
      "bone-penn-048\n",
      "I'm doing the thing.\n"
     ]
    },
    {
     "name": "stderr",
     "output_type": "stream",
     "text": [
      " 55%|█████▍    | 370/678 [01:14<01:41,  3.04it/s]"
     ]
    },
    {
     "name": "stdout",
     "output_type": "stream",
     "text": [
      "I'm doing the thing.\n",
      "bone-penn-051\n",
      "I'm doing the thing.\n",
      "I'm doing the thing.\n",
      "bone-penn-052\n",
      "I'm doing the thing.\n"
     ]
    },
    {
     "name": "stderr",
     "output_type": "stream",
     "text": [
      " 55%|█████▍    | 372/678 [01:14<01:22,  3.70it/s]"
     ]
    },
    {
     "name": "stdout",
     "output_type": "stream",
     "text": [
      "I'm doing the thing.\n",
      "bone-penn-053\n",
      "I'm doing the thing.\n",
      "I'm doing the thing.\n",
      "bone-penn-054\n",
      "I'm doing the thing.\n",
      "I'm doing the thing.\n",
      "bone-penn-056\n",
      "I'm doing the thing.\n"
     ]
    },
    {
     "name": "stderr",
     "output_type": "stream",
     "text": [
      " 55%|█████▌    | 375/678 [01:15<01:03,  4.79it/s]"
     ]
    },
    {
     "name": "stdout",
     "output_type": "stream",
     "text": [
      "I'm doing the thing.\n",
      "bone-penn-057\n",
      "I'm doing the thing.\n",
      "I'm doing the thing.\n",
      "bone-penn-058\n",
      "I'm doing the thing.\n"
     ]
    },
    {
     "name": "stderr",
     "output_type": "stream",
     "text": [
      "\r",
      " 55%|█████▌    | 376/678 [01:15<01:04,  4.70it/s]"
     ]
    },
    {
     "name": "stdout",
     "output_type": "stream",
     "text": [
      "I'm doing the thing.\n",
      "bone-penn-062\n",
      "I'm doing the thing.\n"
     ]
    },
    {
     "name": "stderr",
     "output_type": "stream",
     "text": [
      "\r",
      " 56%|█████▌    | 377/678 [01:15<01:38,  3.04it/s]"
     ]
    },
    {
     "name": "stdout",
     "output_type": "stream",
     "text": [
      "I'm doing the thing.\n",
      "bone-penn-064\n",
      "I'm doing the thing.\n"
     ]
    },
    {
     "name": "stderr",
     "output_type": "stream",
     "text": [
      " 56%|█████▌    | 380/678 [01:16<01:00,  4.95it/s]"
     ]
    },
    {
     "name": "stdout",
     "output_type": "stream",
     "text": [
      "I'm doing the thing.\n",
      "bone-penn-068\n",
      "I'm doing the thing.\n",
      "I'm doing the thing.\n",
      "bone-penn-069\n",
      "I'm doing the thing.\n",
      "I'm doing the thing.\n",
      "bone-penn-070\n",
      "I'm doing the thing.\n"
     ]
    },
    {
     "name": "stderr",
     "output_type": "stream",
     "text": [
      "\r",
      " 56%|█████▌    | 381/678 [01:17<01:36,  3.06it/s]"
     ]
    },
    {
     "name": "stdout",
     "output_type": "stream",
     "text": [
      "I'm doing the thing.\n",
      "bone-penn-072\n",
      "I'm doing the thing.\n"
     ]
    },
    {
     "name": "stderr",
     "output_type": "stream",
     "text": [
      " 56%|█████▋    | 383/678 [01:17<01:22,  3.58it/s]"
     ]
    },
    {
     "name": "stdout",
     "output_type": "stream",
     "text": [
      "I'm doing the thing.\n",
      "bone-penn-073\n",
      "I'm doing the thing.\n",
      "I'm doing the thing.\n",
      "bone-penn-074\n",
      "I'm doing the thing.\n"
     ]
    },
    {
     "name": "stderr",
     "output_type": "stream",
     "text": [
      "\r",
      " 57%|█████▋    | 385/678 [01:17<01:00,  4.86it/s]"
     ]
    },
    {
     "name": "stdout",
     "output_type": "stream",
     "text": [
      "I'm doing the thing.\n",
      "bone-penn-078\n",
      "I'm doing the thing.\n",
      "I'm doing the thing.\n",
      "bone-penn-079\n",
      "I'm doing the thing.\n"
     ]
    },
    {
     "name": "stderr",
     "output_type": "stream",
     "text": [
      "\r",
      " 57%|█████▋    | 387/678 [01:17<00:45,  6.33it/s]"
     ]
    },
    {
     "name": "stdout",
     "output_type": "stream",
     "text": [
      "I'm doing the thing.\n",
      "bone-penn-081\n",
      "I'm doing the thing.\n",
      "I'm doing the thing.\n",
      "bone-penn-082\n",
      "I'm doing the thing.\n"
     ]
    },
    {
     "name": "stderr",
     "output_type": "stream",
     "text": [
      " 57%|█████▋    | 389/678 [01:18<00:47,  6.09it/s]"
     ]
    },
    {
     "name": "stdout",
     "output_type": "stream",
     "text": [
      "I'm doing the thing.\n",
      "bone-penn-083\n",
      "I'm doing the thing.\n",
      "I'm doing the thing.\n",
      "bone-penn-084\n",
      "I'm doing the thing.\n"
     ]
    },
    {
     "name": "stderr",
     "output_type": "stream",
     "text": [
      " 58%|█████▊    | 392/678 [01:18<00:39,  7.32it/s]"
     ]
    },
    {
     "name": "stdout",
     "output_type": "stream",
     "text": [
      "I'm doing the thing.\n",
      "bone-penn-085\n",
      "I'm doing the thing.\n",
      "I'm doing the thing.\n",
      "bone-penn-091\n",
      "I'm doing the thing.\n",
      "I'm doing the thing.\n",
      "bone-penn-092\n",
      "I'm doing the thing.\n"
     ]
    },
    {
     "name": "stderr",
     "output_type": "stream",
     "text": [
      " 58%|█████▊    | 395/678 [01:18<00:29,  9.54it/s]"
     ]
    },
    {
     "name": "stdout",
     "output_type": "stream",
     "text": [
      "I'm doing the thing.\n",
      "bone-penn-093\n",
      "I'm doing the thing.\n",
      "I'm doing the thing.\n",
      "bone-penn-094\n",
      "I'm doing the thing.\n",
      "I'm doing the thing.\n",
      "bone-penn-095\n",
      "I'm doing the thing.\n",
      "I'm doing the thing.\n",
      "bone-penn-097\n",
      "I'm doing the thing.\n"
     ]
    },
    {
     "name": "stderr",
     "output_type": "stream",
     "text": [
      "\r",
      " 59%|█████▊    | 397/678 [01:19<00:41,  6.70it/s]"
     ]
    },
    {
     "name": "stdout",
     "output_type": "stream",
     "text": [
      "I'm doing the thing.\n",
      "bone-penn-099\n",
      "I'm doing the thing.\n"
     ]
    },
    {
     "name": "stderr",
     "output_type": "stream",
     "text": [
      "\r",
      " 59%|█████▊    | 398/678 [01:19<00:54,  5.16it/s]"
     ]
    },
    {
     "name": "stdout",
     "output_type": "stream",
     "text": [
      "I'm doing the thing.\n",
      "bone-penn-102\n",
      "I'm doing the thing.\n"
     ]
    },
    {
     "name": "stderr",
     "output_type": "stream",
     "text": [
      "\r",
      " 59%|█████▉    | 399/678 [01:20<01:02,  4.46it/s]"
     ]
    },
    {
     "name": "stdout",
     "output_type": "stream",
     "text": [
      "I'm doing the thing.\n",
      "bone-penn-105\n",
      "I'm doing the thing.\n"
     ]
    },
    {
     "name": "stderr",
     "output_type": "stream",
     "text": [
      "\r",
      " 59%|█████▉    | 400/678 [01:20<01:04,  4.32it/s]"
     ]
    },
    {
     "name": "stdout",
     "output_type": "stream",
     "text": [
      "I'm doing the thing.\n",
      "bone-penn-106\n",
      "I'm doing the thing.\n"
     ]
    },
    {
     "name": "stderr",
     "output_type": "stream",
     "text": [
      "\r",
      " 59%|█████▉    | 401/678 [01:20<01:02,  4.41it/s]"
     ]
    },
    {
     "name": "stdout",
     "output_type": "stream",
     "text": [
      "I'm doing the thing.\n",
      "bone-penn-107\n",
      "I'm doing the thing.\n"
     ]
    },
    {
     "name": "stderr",
     "output_type": "stream",
     "text": [
      "\r",
      " 59%|█████▉    | 402/678 [01:20<01:08,  4.03it/s]"
     ]
    },
    {
     "name": "stdout",
     "output_type": "stream",
     "text": [
      "I'm doing the thing.\n",
      "bone-penn-109\n",
      "I'm doing the thing.\n",
      "I'm doing the thing.\n",
      "bone-penn-110\n",
      "I'm doing the thing.\n"
     ]
    },
    {
     "name": "stderr",
     "output_type": "stream",
     "text": [
      "\r",
      " 60%|█████▉    | 404/678 [01:21<01:02,  4.38it/s]"
     ]
    },
    {
     "name": "stdout",
     "output_type": "stream",
     "text": [
      "I'm doing the thing.\n",
      "bone-penn-111\n",
      "I'm doing the thing.\n"
     ]
    },
    {
     "name": "stderr",
     "output_type": "stream",
     "text": [
      "\r",
      " 60%|█████▉    | 405/678 [01:21<01:07,  4.07it/s]"
     ]
    },
    {
     "name": "stdout",
     "output_type": "stream",
     "text": [
      "I'm doing the thing.\n",
      "bone-penn-112\n",
      "I'm doing the thing.\n"
     ]
    },
    {
     "name": "stderr",
     "output_type": "stream",
     "text": [
      " 60%|██████    | 408/678 [01:22<01:20,  3.36it/s]"
     ]
    },
    {
     "name": "stdout",
     "output_type": "stream",
     "text": [
      "I'm doing the thing.\n",
      "bone-penn-113\n",
      "I'm doing the thing.\n",
      "I'm doing the thing.\n",
      "bone-penn-116\n",
      "I'm doing the thing.\n",
      "I'm doing the thing.\n",
      "bone-penn-118\n",
      "I'm doing the thing.\n"
     ]
    },
    {
     "name": "stderr",
     "output_type": "stream",
     "text": [
      "\r",
      " 60%|██████    | 409/678 [01:24<02:24,  1.86it/s]"
     ]
    },
    {
     "name": "stdout",
     "output_type": "stream",
     "text": [
      "I'm doing the thing.\n",
      "bone-penn-119\n",
      "I'm doing the thing.\n",
      "I'm doing the thing.\n",
      "bone-penn-120\n",
      "I'm doing the thing.\n"
     ]
    },
    {
     "name": "stderr",
     "output_type": "stream",
     "text": [
      " 61%|██████    | 412/678 [01:24<01:24,  3.14it/s]"
     ]
    },
    {
     "name": "stdout",
     "output_type": "stream",
     "text": [
      "I'm doing the thing.\n",
      "bone-penn-122\n",
      "I'm doing the thing.\n",
      "I'm doing the thing.\n",
      "bone-penn-126\n",
      "I'm doing the thing.\n"
     ]
    },
    {
     "name": "stderr",
     "output_type": "stream",
     "text": [
      "\r",
      " 61%|██████    | 413/678 [01:24<01:25,  3.11it/s]"
     ]
    },
    {
     "name": "stdout",
     "output_type": "stream",
     "text": [
      "I'm doing the thing.\n",
      "bone-penn-134\n",
      "I'm doing the thing.\n"
     ]
    },
    {
     "name": "stderr",
     "output_type": "stream",
     "text": [
      " 61%|██████    | 415/678 [01:25<01:10,  3.73it/s]"
     ]
    },
    {
     "name": "stdout",
     "output_type": "stream",
     "text": [
      "I'm doing the thing.\n",
      "bone-penn-135\n",
      "I'm doing the thing.\n",
      "I'm doing the thing.\n",
      "bone-penn-137\n",
      "I'm doing the thing.\n"
     ]
    },
    {
     "name": "stderr",
     "output_type": "stream",
     "text": [
      " 62%|██████▏   | 417/678 [01:25<01:08,  3.79it/s]"
     ]
    },
    {
     "name": "stdout",
     "output_type": "stream",
     "text": [
      "I'm doing the thing.\n",
      "bone-penn-139\n",
      "I'm doing the thing.\n",
      "I'm doing the thing.\n"
     ]
    },
    {
     "name": "stderr",
     "output_type": "stream",
     "text": [
      "\r",
      " 62%|██████▏   | 419/678 [01:25<00:46,  5.57it/s]"
     ]
    },
    {
     "name": "stdout",
     "output_type": "stream",
     "text": [
      "bone-penn-140\n",
      "I'm doing the thing.\n",
      "I'm doing the thing.\n",
      "bone-penn-141\n",
      "I'm doing the thing.\n",
      "I'm doing the thing.\n",
      "bone-penn-142\n",
      "I'm doing the thing.\n"
     ]
    },
    {
     "name": "stderr",
     "output_type": "stream",
     "text": [
      "\r",
      " 62%|██████▏   | 420/678 [01:26<00:42,  6.03it/s]"
     ]
    },
    {
     "name": "stdout",
     "output_type": "stream",
     "text": [
      "I'm doing the thing.\n",
      "bone-penn-147\n",
      "I'm doing the thing.\n"
     ]
    },
    {
     "name": "stderr",
     "output_type": "stream",
     "text": [
      "\r",
      " 62%|██████▏   | 421/678 [01:26<00:53,  4.81it/s]"
     ]
    },
    {
     "name": "stdout",
     "output_type": "stream",
     "text": [
      "I'm doing the thing.\n",
      "bone-penn-148\n",
      "I'm doing the thing.\n"
     ]
    },
    {
     "name": "stderr",
     "output_type": "stream",
     "text": [
      " 62%|██████▏   | 423/678 [01:26<00:52,  4.83it/s]"
     ]
    },
    {
     "name": "stdout",
     "output_type": "stream",
     "text": [
      "I'm doing the thing.\n",
      "bone-penn-149\n",
      "I'm doing the thing.\n",
      "I'm doing the thing.\n",
      "bone-penn-150\n",
      "I'm doing the thing.\n"
     ]
    },
    {
     "name": "stderr",
     "output_type": "stream",
     "text": [
      "\r",
      " 63%|██████▎   | 424/678 [01:27<00:56,  4.47it/s]"
     ]
    },
    {
     "name": "stdout",
     "output_type": "stream",
     "text": [
      "I'm doing the thing.\n",
      "bone-penn-152\n",
      "I'm doing the thing.\n"
     ]
    },
    {
     "name": "stderr",
     "output_type": "stream",
     "text": [
      "\r",
      " 63%|██████▎   | 425/678 [01:27<01:03,  3.96it/s]"
     ]
    },
    {
     "name": "stdout",
     "output_type": "stream",
     "text": [
      "I'm doing the thing.\n",
      "bone-penn-154\n",
      "I'm doing the thing.\n",
      "I'm doing the thing.\n",
      "bone-penn-155\n",
      "I'm doing the thing.\n"
     ]
    },
    {
     "name": "stderr",
     "output_type": "stream",
     "text": [
      " 63%|██████▎   | 428/678 [01:27<00:45,  5.52it/s]"
     ]
    },
    {
     "name": "stdout",
     "output_type": "stream",
     "text": [
      "I'm doing the thing.\n",
      "bone-penn-156\n",
      "I'm doing the thing.\n",
      "I'm doing the thing.\n",
      "bone-penn-157\n",
      "I'm doing the thing.\n"
     ]
    },
    {
     "name": "stderr",
     "output_type": "stream",
     "text": [
      "\r",
      " 63%|██████▎   | 429/678 [01:28<00:45,  5.43it/s]"
     ]
    },
    {
     "name": "stdout",
     "output_type": "stream",
     "text": [
      "I'm doing the thing.\n",
      "bone-penn-160\n",
      "I'm doing the thing.\n",
      "I'm doing the thing.\n",
      "bone-penn-161\n",
      "I'm doing the thing.\n"
     ]
    },
    {
     "name": "stderr",
     "output_type": "stream",
     "text": [
      " 64%|██████▎   | 432/678 [01:28<00:37,  6.60it/s]"
     ]
    },
    {
     "name": "stdout",
     "output_type": "stream",
     "text": [
      "I'm doing the thing.\n",
      "bone-penn-162\n",
      "I'm doing the thing.\n",
      "I'm doing the thing.\n",
      "bone-penn-163\n",
      "I'm doing the thing.\n"
     ]
    },
    {
     "name": "stderr",
     "output_type": "stream",
     "text": [
      "\r",
      " 64%|██████▍   | 433/678 [01:28<00:37,  6.45it/s]"
     ]
    },
    {
     "name": "stdout",
     "output_type": "stream",
     "text": [
      "I'm doing the thing.\n",
      "bone-penn-167\n",
      "I'm doing the thing.\n"
     ]
    },
    {
     "name": "stderr",
     "output_type": "stream",
     "text": [
      "\r",
      " 64%|██████▍   | 434/678 [01:28<00:45,  5.36it/s]"
     ]
    },
    {
     "name": "stdout",
     "output_type": "stream",
     "text": [
      "I'm doing the thing.\n",
      "bone-penn-168\n",
      "I'm doing the thing.\n",
      "I'm doing the thing.\n",
      "bone-penn-170\n",
      "I'm doing the thing.\n"
     ]
    },
    {
     "name": "stderr",
     "output_type": "stream",
     "text": [
      " 64%|██████▍   | 437/678 [01:29<00:39,  6.09it/s]"
     ]
    },
    {
     "name": "stdout",
     "output_type": "stream",
     "text": [
      "I'm doing the thing.\n",
      "bone-penn-171\n",
      "I'm doing the thing.\n",
      "I'm doing the thing.\n",
      "bone-penn-172\n",
      "I'm doing the thing.\n"
     ]
    },
    {
     "name": "stderr",
     "output_type": "stream",
     "text": [
      "\r",
      " 65%|██████▍   | 438/678 [01:29<00:36,  6.61it/s]"
     ]
    },
    {
     "name": "stdout",
     "output_type": "stream",
     "text": [
      "I'm doing the thing.\n",
      "bone-penn-173\n",
      "I'm doing the thing.\n",
      "I'm doing the thing.\n",
      "bone-penn-174\n",
      "I'm doing the thing.\n"
     ]
    },
    {
     "name": "stderr",
     "output_type": "stream",
     "text": [
      "\r",
      " 65%|██████▍   | 440/678 [01:29<00:31,  7.48it/s]"
     ]
    },
    {
     "name": "stdout",
     "output_type": "stream",
     "text": [
      "I'm doing the thing.\n",
      "bone-penn-178\n",
      "I'm doing the thing.\n"
     ]
    },
    {
     "name": "stderr",
     "output_type": "stream",
     "text": [
      "\r",
      " 65%|██████▌   | 441/678 [01:29<00:36,  6.56it/s]"
     ]
    },
    {
     "name": "stdout",
     "output_type": "stream",
     "text": [
      "I'm doing the thing.\n",
      "bone-penn-179\n",
      "I'm doing the thing.\n"
     ]
    },
    {
     "name": "stderr",
     "output_type": "stream",
     "text": [
      " 65%|██████▌   | 443/678 [01:30<00:44,  5.33it/s]"
     ]
    },
    {
     "name": "stdout",
     "output_type": "stream",
     "text": [
      "I'm doing the thing.\n",
      "bone-penn-180\n",
      "I'm doing the thing.\n",
      "I'm doing the thing.\n",
      "bone-penn-183\n",
      "I'm doing the thing.\n"
     ]
    },
    {
     "name": "stderr",
     "output_type": "stream",
     "text": [
      " 66%|██████▌   | 445/678 [01:30<00:36,  6.43it/s]"
     ]
    },
    {
     "name": "stdout",
     "output_type": "stream",
     "text": [
      "I'm doing the thing.\n",
      "bone-penn-187\n",
      "I'm doing the thing.\n",
      "I'm doing the thing.\n",
      "bone-penn-188\n",
      "I'm doing the thing.\n"
     ]
    },
    {
     "name": "stderr",
     "output_type": "stream",
     "text": [
      "\r",
      " 66%|██████▌   | 446/678 [01:30<00:32,  7.07it/s]"
     ]
    },
    {
     "name": "stdout",
     "output_type": "stream",
     "text": [
      "I'm doing the thing.\n",
      "bone-penn-189\n",
      "I'm doing the thing.\n"
     ]
    },
    {
     "name": "stderr",
     "output_type": "stream",
     "text": [
      "\r",
      " 66%|██████▌   | 447/678 [01:31<01:03,  3.66it/s]"
     ]
    },
    {
     "name": "stdout",
     "output_type": "stream",
     "text": [
      "I'm doing the thing.\n",
      "bone-penn-191\n",
      "I'm doing the thing.\n"
     ]
    },
    {
     "name": "stderr",
     "output_type": "stream",
     "text": [
      " 66%|██████▌   | 449/678 [01:31<00:50,  4.53it/s]"
     ]
    },
    {
     "name": "stdout",
     "output_type": "stream",
     "text": [
      "I'm doing the thing.\n",
      "bone-penn-192\n",
      "I'm doing the thing.\n",
      "I'm doing the thing.\n",
      "bone-penn-193\n",
      "I'm doing the thing.\n"
     ]
    },
    {
     "name": "stderr",
     "output_type": "stream",
     "text": [
      "\r",
      " 66%|██████▋   | 450/678 [01:31<00:48,  4.75it/s]"
     ]
    },
    {
     "name": "stdout",
     "output_type": "stream",
     "text": [
      "I'm doing the thing.\n",
      "bone-penn-194\n",
      "I'm doing the thing.\n"
     ]
    },
    {
     "name": "stderr",
     "output_type": "stream",
     "text": [
      " 67%|██████▋   | 452/678 [01:32<01:07,  3.34it/s]"
     ]
    },
    {
     "name": "stdout",
     "output_type": "stream",
     "text": [
      "I'm doing the thing.\n",
      "bone-penn-197\n",
      "I'm doing the thing.\n",
      "I'm doing the thing.\n",
      "bone-penn-198\n",
      "I'm doing the thing.\n"
     ]
    },
    {
     "name": "stderr",
     "output_type": "stream",
     "text": [
      "\r",
      " 67%|██████▋   | 453/678 [01:32<00:55,  4.03it/s]"
     ]
    },
    {
     "name": "stdout",
     "output_type": "stream",
     "text": [
      "I'm doing the thing.\n",
      "bone-penn-200\n",
      "I'm doing the thing.\n",
      "I'm doing the thing.\n",
      "bone-penn-205\n",
      "I'm doing the thing.\n"
     ]
    },
    {
     "name": "stderr",
     "output_type": "stream",
     "text": [
      "\r",
      " 67%|██████▋   | 455/678 [01:34<01:50,  2.02it/s]"
     ]
    },
    {
     "name": "stdout",
     "output_type": "stream",
     "text": [
      "I'm doing the thing.\n",
      "bone-penn-206\n",
      "I'm doing the thing.\n",
      "I'm doing the thing.\n",
      "bone-penn-207\n",
      "I'm doing the thing.\n"
     ]
    },
    {
     "name": "stderr",
     "output_type": "stream",
     "text": [
      "\r",
      " 67%|██████▋   | 457/678 [01:34<01:21,  2.70it/s]"
     ]
    },
    {
     "name": "stdout",
     "output_type": "stream",
     "text": [
      "I'm doing the thing.\n",
      "bone-penn-209\n",
      "I'm doing the thing.\n"
     ]
    },
    {
     "name": "stderr",
     "output_type": "stream",
     "text": [
      "\r",
      " 68%|██████▊   | 458/678 [01:35<01:22,  2.66it/s]"
     ]
    },
    {
     "name": "stdout",
     "output_type": "stream",
     "text": [
      "I'm doing the thing.\n",
      "bone-penn-210\n",
      "I'm doing the thing.\n"
     ]
    },
    {
     "name": "stderr",
     "output_type": "stream",
     "text": [
      "\r",
      " 68%|██████▊   | 459/678 [01:35<01:13,  2.97it/s]"
     ]
    },
    {
     "name": "stdout",
     "output_type": "stream",
     "text": [
      "I'm doing the thing.\n",
      "bone-penn-214\n",
      "I'm doing the thing.\n"
     ]
    },
    {
     "name": "stderr",
     "output_type": "stream",
     "text": [
      "\r",
      " 68%|██████▊   | 460/678 [01:35<01:14,  2.94it/s]"
     ]
    },
    {
     "name": "stdout",
     "output_type": "stream",
     "text": [
      "I'm doing the thing.\n",
      "bone-penn-217\n",
      "I'm doing the thing.\n"
     ]
    },
    {
     "name": "stderr",
     "output_type": "stream",
     "text": [
      "\r",
      " 68%|██████▊   | 461/678 [01:35<01:10,  3.06it/s]"
     ]
    },
    {
     "name": "stdout",
     "output_type": "stream",
     "text": [
      "I'm doing the thing.\n",
      "bone-penn-218\n",
      "I'm doing the thing.\n"
     ]
    },
    {
     "name": "stderr",
     "output_type": "stream",
     "text": [
      "\r",
      " 68%|██████▊   | 462/678 [01:36<01:16,  2.81it/s]"
     ]
    },
    {
     "name": "stdout",
     "output_type": "stream",
     "text": [
      "I'm doing the thing.\n",
      "bone-penn-219\n",
      "I'm doing the thing.\n",
      "I'm doing the thing.\n",
      "bone-penn-220\n",
      "I'm doing the thing.\n"
     ]
    },
    {
     "name": "stderr",
     "output_type": "stream",
     "text": [
      " 69%|██████▊   | 465/678 [01:36<00:48,  4.39it/s]"
     ]
    },
    {
     "name": "stdout",
     "output_type": "stream",
     "text": [
      "I'm doing the thing.\n",
      "bone-penn-222\n",
      "I'm doing the thing.\n",
      "I'm doing the thing.\n",
      "bone-penn-223\n",
      "I'm doing the thing.\n"
     ]
    },
    {
     "name": "stderr",
     "output_type": "stream",
     "text": [
      "\r",
      " 69%|██████▊   | 466/678 [01:37<01:09,  3.05it/s]"
     ]
    },
    {
     "name": "stdout",
     "output_type": "stream",
     "text": [
      "I'm doing the thing.\n",
      "bone-penn-224\n",
      "I'm doing the thing.\n",
      "I'm doing the thing.\n",
      "bone-penn-227\n",
      "I'm doing the thing.\n"
     ]
    },
    {
     "name": "stderr",
     "output_type": "stream",
     "text": [
      "\r",
      " 69%|██████▉   | 468/678 [01:37<00:55,  3.79it/s]"
     ]
    },
    {
     "name": "stdout",
     "output_type": "stream",
     "text": [
      "I'm doing the thing.\n",
      "bone-penn-231\n",
      "I'm doing the thing.\n"
     ]
    },
    {
     "name": "stderr",
     "output_type": "stream",
     "text": [
      "\r",
      " 69%|██████▉   | 469/678 [01:38<01:20,  2.60it/s]"
     ]
    },
    {
     "name": "stdout",
     "output_type": "stream",
     "text": [
      "I'm doing the thing.\n",
      "bone-penn-236\n",
      "I'm doing the thing.\n"
     ]
    },
    {
     "name": "stderr",
     "output_type": "stream",
     "text": [
      "\r",
      " 69%|██████▉   | 470/678 [01:38<01:18,  2.66it/s]"
     ]
    },
    {
     "name": "stdout",
     "output_type": "stream",
     "text": [
      "I'm doing the thing.\n",
      "bone-penn-238\n",
      "I'm doing the thing.\n"
     ]
    },
    {
     "name": "stderr",
     "output_type": "stream",
     "text": [
      "\r",
      " 69%|██████▉   | 471/678 [01:39<01:10,  2.93it/s]"
     ]
    },
    {
     "name": "stdout",
     "output_type": "stream",
     "text": [
      "I'm doing the thing.\n",
      "bone-penn-239\n",
      "I'm doing the thing.\n"
     ]
    },
    {
     "name": "stderr",
     "output_type": "stream",
     "text": [
      "\r",
      " 70%|██████▉   | 472/678 [01:39<01:03,  3.24it/s]"
     ]
    },
    {
     "name": "stdout",
     "output_type": "stream",
     "text": [
      "I'm doing the thing.\n",
      "bone-penn-241\n",
      "I'm doing the thing.\n"
     ]
    },
    {
     "name": "stderr",
     "output_type": "stream",
     "text": [
      " 70%|██████▉   | 474/678 [01:40<01:00,  3.38it/s]"
     ]
    },
    {
     "name": "stdout",
     "output_type": "stream",
     "text": [
      "I'm doing the thing.\n",
      "bone-penn-245\n",
      "I'm doing the thing.\n",
      "I'm doing the thing.\n",
      "bone-penn-246\n",
      "I'm doing the thing.\n"
     ]
    },
    {
     "name": "stderr",
     "output_type": "stream",
     "text": [
      "\r",
      " 70%|███████   | 476/678 [01:40<00:40,  5.00it/s]"
     ]
    },
    {
     "name": "stdout",
     "output_type": "stream",
     "text": [
      "I'm doing the thing.\n",
      "bone-penn-247\n",
      "I'm doing the thing.\n",
      "I'm doing the thing.\n",
      "bone-penn-250\n",
      "I'm doing the thing.\n"
     ]
    },
    {
     "name": "stderr",
     "output_type": "stream",
     "text": [
      "\r",
      " 70%|███████   | 477/678 [01:40<00:42,  4.70it/s]"
     ]
    },
    {
     "name": "stdout",
     "output_type": "stream",
     "text": [
      "I'm doing the thing.\n",
      "bone-penn-252\n",
      "I'm doing the thing.\n",
      "I'm doing the thing.\n",
      "bone-penn-253\n",
      "I'm doing the thing.\n"
     ]
    },
    {
     "name": "stderr",
     "output_type": "stream",
     "text": [
      " 71%|███████   | 480/678 [01:40<00:33,  5.85it/s]"
     ]
    },
    {
     "name": "stdout",
     "output_type": "stream",
     "text": [
      "I'm doing the thing.\n",
      "bone-penn-254\n",
      "I'm doing the thing.\n",
      "I'm doing the thing.\n",
      "bone-penn-255\n",
      "I'm doing the thing.\n"
     ]
    },
    {
     "name": "stderr",
     "output_type": "stream",
     "text": [
      "\r",
      " 71%|███████   | 481/678 [01:41<00:37,  5.25it/s]"
     ]
    },
    {
     "name": "stdout",
     "output_type": "stream",
     "text": [
      "I'm doing the thing.\n",
      "bone-penn-257\n",
      "I'm doing the thing.\n",
      "I'm doing the thing.\n",
      "bone-penn-260\n",
      "I'm doing the thing.\n"
     ]
    },
    {
     "name": "stderr",
     "output_type": "stream",
     "text": [
      "\r",
      " 71%|███████   | 483/678 [01:41<00:36,  5.37it/s]"
     ]
    },
    {
     "name": "stdout",
     "output_type": "stream",
     "text": [
      "I'm doing the thing.\n",
      "bone-penn-261\n",
      "I'm doing the thing.\n",
      "I'm doing the thing.\n",
      "bone-penn-262\n",
      "I'm doing the thing.\n"
     ]
    },
    {
     "name": "stderr",
     "output_type": "stream",
     "text": [
      " 72%|███████▏  | 486/678 [01:41<00:30,  6.21it/s]"
     ]
    },
    {
     "name": "stdout",
     "output_type": "stream",
     "text": [
      "I'm doing the thing.\n",
      "bone-penn-266\n",
      "I'm doing the thing.\n",
      "I'm doing the thing.\n",
      "bone-penn-268\n",
      "I'm doing the thing.\n",
      "I'm doing the thing.\n",
      "bone-penn-269\n",
      "I'm doing the thing.\n",
      "I'm doing the thing.\n",
      "bone-penn-277\n",
      "I'm doing the thing.\n"
     ]
    },
    {
     "name": "stderr",
     "output_type": "stream",
     "text": [
      "\r",
      " 72%|███████▏  | 489/678 [01:42<00:30,  6.12it/s]"
     ]
    },
    {
     "name": "stdout",
     "output_type": "stream",
     "text": [
      "I'm doing the thing.\n",
      "bone-penn-278\n",
      "I'm doing the thing.\n"
     ]
    },
    {
     "name": "stderr",
     "output_type": "stream",
     "text": [
      "\r",
      " 72%|███████▏  | 490/678 [01:42<00:34,  5.43it/s]"
     ]
    },
    {
     "name": "stdout",
     "output_type": "stream",
     "text": [
      "I'm doing the thing.\n",
      "bone-penn-279\n",
      "I'm doing the thing.\n"
     ]
    },
    {
     "name": "stderr",
     "output_type": "stream",
     "text": [
      " 73%|███████▎  | 493/678 [01:43<00:33,  5.50it/s]"
     ]
    },
    {
     "name": "stdout",
     "output_type": "stream",
     "text": [
      "I'm doing the thing.\n",
      "bone-penn-280\n",
      "I'm doing the thing.\n",
      "I'm doing the thing.\n",
      "bone-penn-282\n",
      "I'm doing the thing.\n",
      "I'm doing the thing.\n",
      "bone-penn-283\n",
      "I'm doing the thing.\n"
     ]
    },
    {
     "name": "stderr",
     "output_type": "stream",
     "text": [
      "\r",
      " 73%|███████▎  | 494/678 [01:43<00:38,  4.82it/s]"
     ]
    },
    {
     "name": "stdout",
     "output_type": "stream",
     "text": [
      "I'm doing the thing.\n",
      "bone-penn-285\n",
      "I'm doing the thing.\n"
     ]
    },
    {
     "name": "stderr",
     "output_type": "stream",
     "text": [
      "\r",
      " 73%|███████▎  | 495/678 [01:44<00:50,  3.62it/s]"
     ]
    },
    {
     "name": "stdout",
     "output_type": "stream",
     "text": [
      "I'm doing the thing.\n",
      "bone-penn-286\n",
      "I'm doing the thing.\n",
      "I'm doing the thing.\n",
      "bone-penn-289\n",
      "I'm doing the thing.\n"
     ]
    },
    {
     "name": "stderr",
     "output_type": "stream",
     "text": [
      "\r",
      " 73%|███████▎  | 497/678 [01:44<00:40,  4.42it/s]"
     ]
    },
    {
     "name": "stdout",
     "output_type": "stream",
     "text": [
      "I'm doing the thing.\n",
      "bone-penn-290\n",
      "I'm doing the thing.\n",
      "I'm doing the thing.\n",
      "bone-penn-292\n",
      "I'm doing the thing.\n"
     ]
    },
    {
     "name": "stderr",
     "output_type": "stream",
     "text": [
      "\r",
      " 74%|███████▎  | 499/678 [01:44<00:34,  5.26it/s]"
     ]
    },
    {
     "name": "stdout",
     "output_type": "stream",
     "text": [
      "I'm doing the thing.\n",
      "bone-penn-293\n",
      "I'm doing the thing.\n",
      "I'm doing the thing.\n",
      "bone-penn-296\n",
      "I'm doing the thing.\n"
     ]
    },
    {
     "name": "stderr",
     "output_type": "stream",
     "text": [
      " 74%|███████▍  | 502/678 [01:45<00:30,  5.80it/s]"
     ]
    },
    {
     "name": "stdout",
     "output_type": "stream",
     "text": [
      "I'm doing the thing.\n",
      "bone-penn-298\n",
      "I'm doing the thing.\n",
      "I'm doing the thing.\n",
      "bone-penn-299\n",
      "I'm doing the thing.\n"
     ]
    },
    {
     "name": "stderr",
     "output_type": "stream",
     "text": [
      " 74%|███████▍  | 505/678 [01:45<00:24,  7.16it/s]"
     ]
    },
    {
     "name": "stdout",
     "output_type": "stream",
     "text": [
      "I'm doing the thing.\n",
      "bone-penn-300\n",
      "I'm doing the thing.\n",
      "I'm doing the thing.\n",
      "bone-penn-304\n",
      "I'm doing the thing.\n",
      "I'm doing the thing.\n",
      "bone-penn-305\n",
      "I'm doing the thing.\n"
     ]
    },
    {
     "name": "stderr",
     "output_type": "stream",
     "text": [
      "\r",
      " 75%|███████▍  | 506/678 [01:45<00:22,  7.51it/s]"
     ]
    },
    {
     "name": "stdout",
     "output_type": "stream",
     "text": [
      "I'm doing the thing.\n",
      "bone-penn-307\n",
      "I'm doing the thing.\n"
     ]
    },
    {
     "name": "stderr",
     "output_type": "stream",
     "text": [
      "\r",
      " 75%|███████▍  | 507/678 [01:45<00:29,  5.79it/s]"
     ]
    },
    {
     "name": "stdout",
     "output_type": "stream",
     "text": [
      "I'm doing the thing.\n",
      "bone-penn-311\n",
      "I'm doing the thing.\n"
     ]
    },
    {
     "name": "stderr",
     "output_type": "stream",
     "text": [
      "\r",
      " 75%|███████▍  | 508/678 [01:46<00:37,  4.47it/s]"
     ]
    },
    {
     "name": "stdout",
     "output_type": "stream",
     "text": [
      "I'm doing the thing.\n",
      "bone-penn-312\n",
      "I'm doing the thing.\n"
     ]
    },
    {
     "name": "stderr",
     "output_type": "stream",
     "text": [
      "\r",
      " 75%|███████▌  | 509/678 [01:46<00:46,  3.61it/s]"
     ]
    },
    {
     "name": "stdout",
     "output_type": "stream",
     "text": [
      "I'm doing the thing.\n",
      "bone-penn-313\n",
      "I'm doing the thing.\n"
     ]
    },
    {
     "name": "stderr",
     "output_type": "stream",
     "text": [
      "\r",
      " 75%|███████▌  | 510/678 [01:46<00:50,  3.35it/s]"
     ]
    },
    {
     "name": "stdout",
     "output_type": "stream",
     "text": [
      "I'm doing the thing.\n",
      "bone-penn-314\n",
      "I'm doing the thing.\n"
     ]
    },
    {
     "name": "stderr",
     "output_type": "stream",
     "text": [
      " 76%|███████▌  | 512/678 [01:47<00:42,  3.90it/s]"
     ]
    },
    {
     "name": "stdout",
     "output_type": "stream",
     "text": [
      "I'm doing the thing.\n",
      "bone-penn-316\n",
      "I'm doing the thing.\n",
      "I'm doing the thing.\n",
      "bone-penn-317\n",
      "I'm doing the thing.\n",
      "I'm doing the thing.\n",
      "bone-penn-319\n",
      "I'm doing the thing.\n"
     ]
    },
    {
     "name": "stderr",
     "output_type": "stream",
     "text": [
      " 76%|███████▌  | 516/678 [01:47<00:22,  7.34it/s]"
     ]
    },
    {
     "name": "stdout",
     "output_type": "stream",
     "text": [
      "I'm doing the thing.\n",
      "bone-penn-320\n",
      "I'm doing the thing.\n",
      "I'm doing the thing.\n",
      "bone-penn-322\n",
      "I'm doing the thing.\n",
      "I'm doing the thing.\n",
      "bone-penn-326\n",
      "I'm doing the thing.\n"
     ]
    },
    {
     "name": "stderr",
     "output_type": "stream",
     "text": [
      "\r",
      " 76%|███████▋  | 518/678 [01:47<00:17,  8.94it/s]"
     ]
    },
    {
     "name": "stdout",
     "output_type": "stream",
     "text": [
      "I'm doing the thing.\n",
      "bone-penn-328\n",
      "I'm doing the thing.\n",
      "I'm doing the thing.\n",
      "bone-penn-330\n",
      "I'm doing the thing.\n",
      "I'm doing the thing.\n",
      "bone-penn-332\n",
      "I'm doing the thing.\n"
     ]
    },
    {
     "name": "stderr",
     "output_type": "stream",
     "text": [
      "\r",
      " 77%|███████▋  | 520/678 [01:48<00:26,  5.87it/s]"
     ]
    },
    {
     "name": "stdout",
     "output_type": "stream",
     "text": [
      "I'm doing the thing.\n",
      "bone-penn-335\n",
      "I'm doing the thing.\n"
     ]
    },
    {
     "name": "stderr",
     "output_type": "stream",
     "text": [
      " 77%|███████▋  | 523/678 [01:48<00:24,  6.24it/s]"
     ]
    },
    {
     "name": "stdout",
     "output_type": "stream",
     "text": [
      "I'm doing the thing.\n",
      "bone-penn-337\n",
      "I'm doing the thing.\n",
      "I'm doing the thing.\n",
      "bone-penn-338\n",
      "I'm doing the thing.\n",
      "I'm doing the thing.\n",
      "bone-penn-339\n",
      "I'm doing the thing.\n"
     ]
    },
    {
     "name": "stderr",
     "output_type": "stream",
     "text": [
      " 77%|███████▋  | 525/678 [01:49<00:26,  5.84it/s]"
     ]
    },
    {
     "name": "stdout",
     "output_type": "stream",
     "text": [
      "I'm doing the thing.\n",
      "bone-penn-340\n",
      "I'm doing the thing.\n",
      "I'm doing the thing.\n",
      "bone-penn-341\n",
      "I'm doing the thing.\n"
     ]
    },
    {
     "name": "stderr",
     "output_type": "stream",
     "text": [
      " 78%|███████▊  | 527/678 [01:49<00:28,  5.28it/s]"
     ]
    },
    {
     "name": "stdout",
     "output_type": "stream",
     "text": [
      "I'm doing the thing.\n",
      "bone-penn-342\n",
      "I'm doing the thing.\n",
      "I'm doing the thing.\n",
      "bone-penn-343\n",
      "I'm doing the thing.\n"
     ]
    },
    {
     "name": "stderr",
     "output_type": "stream",
     "text": [
      "\r",
      " 78%|███████▊  | 529/678 [01:49<00:21,  7.06it/s]"
     ]
    },
    {
     "name": "stdout",
     "output_type": "stream",
     "text": [
      "I'm doing the thing.\n",
      "bone-penn-345\n",
      "I'm doing the thing.\n",
      "I'm doing the thing.\n",
      "bone-penn-346\n",
      "I'm doing the thing.\n",
      "I'm doing the thing.\n",
      "bone-penn-347\n",
      "I'm doing the thing.\n"
     ]
    },
    {
     "name": "stderr",
     "output_type": "stream",
     "text": [
      " 79%|███████▊  | 533/678 [01:50<00:14,  9.71it/s]"
     ]
    },
    {
     "name": "stdout",
     "output_type": "stream",
     "text": [
      "I'm doing the thing.\n",
      "bone-penn-348\n",
      "I'm doing the thing.\n",
      "I'm doing the thing.\n",
      "bone-penn-349\n",
      "I'm doing the thing.\n",
      "I'm doing the thing.\n",
      "bone-penn-356\n",
      "I'm doing the thing.\n",
      "I'm doing the thing.\n",
      "bone-penn-362\n",
      "I'm doing the thing.\n"
     ]
    },
    {
     "name": "stderr",
     "output_type": "stream",
     "text": [
      "\r",
      " 79%|███████▉  | 535/678 [01:51<00:30,  4.71it/s]"
     ]
    },
    {
     "name": "stdout",
     "output_type": "stream",
     "text": [
      "I'm doing the thing.\n",
      "bone-penn-363\n",
      "I'm doing the thing.\n"
     ]
    },
    {
     "name": "stderr",
     "output_type": "stream",
     "text": [
      "\r",
      " 79%|███████▉  | 536/678 [01:51<00:36,  3.91it/s]"
     ]
    },
    {
     "name": "stdout",
     "output_type": "stream",
     "text": [
      "I'm doing the thing.\n",
      "bone-penn-364\n",
      "I'm doing the thing.\n"
     ]
    },
    {
     "name": "stderr",
     "output_type": "stream",
     "text": [
      " 79%|███████▉  | 539/678 [01:52<00:26,  5.17it/s]"
     ]
    },
    {
     "name": "stdout",
     "output_type": "stream",
     "text": [
      "I'm doing the thing.\n",
      "bone-penn-367\n",
      "I'm doing the thing.\n",
      "I'm doing the thing.\n",
      "bone-penn-368\n",
      "I'm doing the thing.\n",
      "I'm doing the thing.\n",
      "bone-penn-369\n",
      "I'm doing the thing.\n",
      "I'm doing the thing.\n",
      "bone-penn-370\n",
      "I'm doing the thing.\n"
     ]
    },
    {
     "name": "stderr",
     "output_type": "stream",
     "text": [
      "\r",
      " 80%|███████▉  | 541/678 [01:52<00:21,  6.26it/s]"
     ]
    },
    {
     "name": "stdout",
     "output_type": "stream",
     "text": [
      "I'm doing the thing.\n",
      "bone-penn-372\n",
      "I'm doing the thing.\n"
     ]
    },
    {
     "name": "stderr",
     "output_type": "stream",
     "text": [
      " 80%|████████  | 543/678 [01:52<00:23,  5.68it/s]"
     ]
    },
    {
     "name": "stdout",
     "output_type": "stream",
     "text": [
      "I'm doing the thing.\n",
      "bone-penn-374\n",
      "I'm doing the thing.\n",
      "I'm doing the thing.\n",
      "bone-penn-375\n",
      "I'm doing the thing.\n"
     ]
    },
    {
     "name": "stderr",
     "output_type": "stream",
     "text": [
      " 80%|████████  | 545/678 [01:52<00:19,  6.65it/s]"
     ]
    },
    {
     "name": "stdout",
     "output_type": "stream",
     "text": [
      "I'm doing the thing.\n",
      "bone-penn-379\n",
      "I'm doing the thing.\n",
      "I'm doing the thing.\n",
      "bone-penn-380\n",
      "I'm doing the thing.\n"
     ]
    },
    {
     "name": "stderr",
     "output_type": "stream",
     "text": [
      " 81%|████████  | 547/678 [01:53<00:20,  6.27it/s]"
     ]
    },
    {
     "name": "stdout",
     "output_type": "stream",
     "text": [
      "I'm doing the thing.\n",
      "bone-penn-382\n",
      "I'm doing the thing.\n",
      "I'm doing the thing.\n",
      "bone-penn-384\n",
      "I'm doing the thing.\n",
      "I'm doing the thing.\n",
      "bone-penn-385\n",
      "I'm doing the thing.\n"
     ]
    },
    {
     "name": "stderr",
     "output_type": "stream",
     "text": [
      "\r",
      " 81%|████████  | 549/678 [01:53<00:23,  5.40it/s]"
     ]
    },
    {
     "name": "stdout",
     "output_type": "stream",
     "text": [
      "I'm doing the thing.\n",
      "bone-penn-386\n",
      "I'm doing the thing.\n"
     ]
    },
    {
     "name": "stderr",
     "output_type": "stream",
     "text": [
      "\r",
      " 81%|████████  | 550/678 [01:54<00:28,  4.44it/s]"
     ]
    },
    {
     "name": "stdout",
     "output_type": "stream",
     "text": [
      "I'm doing the thing.\n",
      "bone-penn-387\n",
      "I'm doing the thing.\n"
     ]
    },
    {
     "name": "stderr",
     "output_type": "stream",
     "text": [
      "\r",
      " 81%|████████▏ | 551/678 [01:54<00:37,  3.35it/s]"
     ]
    },
    {
     "name": "stdout",
     "output_type": "stream",
     "text": [
      "I'm doing the thing.\n",
      "bone-penn-388\n",
      "I'm doing the thing.\n",
      "I'm doing the thing.\n",
      "bone-penn-389\n",
      "I'm doing the thing.\n"
     ]
    },
    {
     "name": "stderr",
     "output_type": "stream",
     "text": [
      " 82%|████████▏ | 554/678 [01:55<00:34,  3.58it/s]"
     ]
    },
    {
     "name": "stdout",
     "output_type": "stream",
     "text": [
      "I'm doing the thing.\n",
      "bone-penn-391\n",
      "I'm doing the thing.\n",
      "I'm doing the thing.\n",
      "bone-penn-392\n",
      "I'm doing the thing.\n"
     ]
    },
    {
     "name": "stderr",
     "output_type": "stream",
     "text": [
      "\r",
      " 82%|████████▏ | 555/678 [01:55<00:37,  3.30it/s]"
     ]
    },
    {
     "name": "stdout",
     "output_type": "stream",
     "text": [
      "I'm doing the thing.\n",
      "bone-penn-396\n",
      "I'm doing the thing.\n"
     ]
    },
    {
     "name": "stderr",
     "output_type": "stream",
     "text": [
      "\r",
      " 82%|████████▏ | 556/678 [01:56<00:43,  2.82it/s]"
     ]
    },
    {
     "name": "stdout",
     "output_type": "stream",
     "text": [
      "I'm doing the thing.\n",
      "bone-penn-397\n",
      "I'm doing the thing.\n"
     ]
    },
    {
     "name": "stderr",
     "output_type": "stream",
     "text": [
      " 82%|████████▏ | 558/678 [01:57<00:40,  2.97it/s]"
     ]
    },
    {
     "name": "stdout",
     "output_type": "stream",
     "text": [
      "I'm doing the thing.\n",
      "bone-penn-405\n",
      "I'm doing the thing.\n",
      "I'm doing the thing.\n",
      "bone-penn-413\n",
      "I'm doing the thing.\n"
     ]
    },
    {
     "name": "stderr",
     "output_type": "stream",
     "text": [
      "\r",
      " 82%|████████▏ | 559/678 [01:57<00:33,  3.58it/s]"
     ]
    },
    {
     "name": "stdout",
     "output_type": "stream",
     "text": [
      "I'm doing the thing.\n",
      "bone-penn-425\n",
      "I'm doing the thing.\n"
     ]
    },
    {
     "name": "stderr",
     "output_type": "stream",
     "text": [
      "\r",
      " 83%|████████▎ | 560/678 [01:57<00:38,  3.09it/s]"
     ]
    },
    {
     "name": "stdout",
     "output_type": "stream",
     "text": [
      "I'm doing the thing.\n",
      "bone-penn-429\n",
      "I'm doing the thing.\n"
     ]
    },
    {
     "name": "stderr",
     "output_type": "stream",
     "text": [
      "\r",
      " 83%|████████▎ | 561/678 [01:57<00:36,  3.24it/s]"
     ]
    },
    {
     "name": "stdout",
     "output_type": "stream",
     "text": [
      "I'm doing the thing.\n",
      "bone-penn-446\n",
      "I'm doing the thing.\n"
     ]
    },
    {
     "name": "stderr",
     "output_type": "stream",
     "text": [
      "\r",
      " 83%|████████▎ | 562/678 [01:58<00:32,  3.55it/s]"
     ]
    },
    {
     "name": "stdout",
     "output_type": "stream",
     "text": [
      "I'm doing the thing.\n",
      "bone-penn-453\n",
      "I'm doing the thing.\n"
     ]
    },
    {
     "name": "stderr",
     "output_type": "stream",
     "text": [
      " 83%|████████▎ | 565/678 [01:58<00:20,  5.54it/s]"
     ]
    },
    {
     "name": "stdout",
     "output_type": "stream",
     "text": [
      "I'm doing the thing.\n",
      "bone-penn-454\n",
      "I'm doing the thing.\n",
      "I'm doing the thing.\n",
      "bone-penn-457\n",
      "I'm doing the thing.\n",
      "I'm doing the thing.\n",
      "bone-penn-458\n",
      "I'm doing the thing.\n"
     ]
    },
    {
     "name": "stderr",
     "output_type": "stream",
     "text": [
      "\r",
      " 83%|████████▎ | 566/678 [01:58<00:25,  4.43it/s]"
     ]
    },
    {
     "name": "stdout",
     "output_type": "stream",
     "text": [
      "I'm doing the thing.\n",
      "bone-penn-459\n",
      "I'm doing the thing.\n",
      "I'm doing the thing.\n",
      "bone-penn-460\n",
      "I'm doing the thing.\n"
     ]
    },
    {
     "name": "stderr",
     "output_type": "stream",
     "text": [
      "\r",
      " 84%|████████▍ | 568/678 [01:59<00:19,  5.67it/s]"
     ]
    },
    {
     "name": "stdout",
     "output_type": "stream",
     "text": [
      "I'm doing the thing.\n",
      "bone-penn-461\n",
      "I'm doing the thing.\n"
     ]
    },
    {
     "name": "stderr",
     "output_type": "stream",
     "text": [
      " 84%|████████▍ | 570/678 [01:59<00:20,  5.21it/s]"
     ]
    },
    {
     "name": "stdout",
     "output_type": "stream",
     "text": [
      "I'm doing the thing.\n",
      "bone-penn-463\n",
      "I'm doing the thing.\n",
      "I'm doing the thing.\n",
      "bone-penn-465\n",
      "I'm doing the thing.\n"
     ]
    },
    {
     "name": "stderr",
     "output_type": "stream",
     "text": [
      " 84%|████████▍ | 572/678 [02:00<00:25,  4.23it/s]"
     ]
    },
    {
     "name": "stdout",
     "output_type": "stream",
     "text": [
      "I'm doing the thing.\n",
      "bone-penn-467\n",
      "I'm doing the thing.\n",
      "I'm doing the thing.\n",
      "bone-penn-471\n",
      "I'm doing the thing.\n"
     ]
    },
    {
     "name": "stderr",
     "output_type": "stream",
     "text": [
      " 85%|████████▍ | 575/678 [02:00<00:14,  7.04it/s]"
     ]
    },
    {
     "name": "stdout",
     "output_type": "stream",
     "text": [
      "I'm doing the thing.\n",
      "bone-penn-473\n",
      "I'm doing the thing.\n",
      "I'm doing the thing.\n",
      "bone-penn-476\n",
      "I'm doing the thing.\n",
      "I'm doing the thing.\n",
      "bone-penn-478\n",
      "I'm doing the thing.\n"
     ]
    },
    {
     "name": "stderr",
     "output_type": "stream",
     "text": [
      "\r",
      " 85%|████████▍ | 576/678 [02:00<00:15,  6.40it/s]"
     ]
    },
    {
     "name": "stdout",
     "output_type": "stream",
     "text": [
      "I'm doing the thing.\n",
      "bone-penn-480\n",
      "I'm doing the thing.\n"
     ]
    },
    {
     "name": "stderr",
     "output_type": "stream",
     "text": [
      "\r",
      " 85%|████████▌ | 577/678 [02:00<00:17,  5.66it/s]"
     ]
    },
    {
     "name": "stdout",
     "output_type": "stream",
     "text": [
      "I'm doing the thing.\n",
      "bone-penn-482\n",
      "I'm doing the thing.\n"
     ]
    },
    {
     "name": "stderr",
     "output_type": "stream",
     "text": [
      " 85%|████████▌ | 579/678 [02:01<00:27,  3.60it/s]"
     ]
    },
    {
     "name": "stdout",
     "output_type": "stream",
     "text": [
      "I'm doing the thing.\n",
      "bone-penn-484\n",
      "I'm doing the thing.\n",
      "I'm doing the thing.\n",
      "bone-penn-487\n",
      "I'm doing the thing.\n"
     ]
    },
    {
     "name": "stderr",
     "output_type": "stream",
     "text": [
      "\r",
      " 86%|████████▌ | 580/678 [02:02<00:32,  3.00it/s]"
     ]
    },
    {
     "name": "stdout",
     "output_type": "stream",
     "text": [
      "I'm doing the thing.\n",
      "bone-penn-489\n",
      "I'm doing the thing.\n"
     ]
    },
    {
     "name": "stderr",
     "output_type": "stream",
     "text": [
      "\r",
      " 86%|████████▌ | 581/678 [02:02<00:31,  3.10it/s]"
     ]
    },
    {
     "name": "stdout",
     "output_type": "stream",
     "text": [
      "I'm doing the thing.\n",
      "bone-penn-490\n",
      "I'm doing the thing.\n"
     ]
    },
    {
     "name": "stderr",
     "output_type": "stream",
     "text": [
      "\r",
      " 86%|████████▌ | 582/678 [02:02<00:32,  2.97it/s]"
     ]
    },
    {
     "name": "stdout",
     "output_type": "stream",
     "text": [
      "I'm doing the thing.\n",
      "bone-penn-494\n",
      "I'm doing the thing.\n"
     ]
    },
    {
     "name": "stderr",
     "output_type": "stream",
     "text": [
      " 86%|████████▌ | 584/678 [02:03<00:27,  3.38it/s]"
     ]
    },
    {
     "name": "stdout",
     "output_type": "stream",
     "text": [
      "I'm doing the thing.\n",
      "bone-penn-495\n",
      "I'm doing the thing.\n",
      "I'm doing the thing.\n",
      "bone-penn-496\n",
      "I'm doing the thing.\n"
     ]
    },
    {
     "name": "stderr",
     "output_type": "stream",
     "text": [
      " 87%|████████▋ | 587/678 [02:03<00:19,  4.67it/s]"
     ]
    },
    {
     "name": "stdout",
     "output_type": "stream",
     "text": [
      "I'm doing the thing.\n",
      "bone-penn-497\n",
      "I'm doing the thing.\n",
      "I'm doing the thing.\n",
      "bone-penn-503\n",
      "I'm doing the thing.\n",
      "I'm doing the thing.\n",
      "bone-penn-505\n",
      "I'm doing the thing.\n"
     ]
    },
    {
     "name": "stderr",
     "output_type": "stream",
     "text": [
      "\r",
      " 87%|████████▋ | 588/678 [02:04<00:24,  3.73it/s]"
     ]
    },
    {
     "name": "stdout",
     "output_type": "stream",
     "text": [
      "I'm doing the thing.\n",
      "bone-penn-506\n",
      "I'm doing the thing.\n"
     ]
    },
    {
     "name": "stderr",
     "output_type": "stream",
     "text": [
      " 87%|████████▋ | 591/678 [02:04<00:14,  5.94it/s]"
     ]
    },
    {
     "name": "stdout",
     "output_type": "stream",
     "text": [
      "I'm doing the thing.\n",
      "bone-penn-509\n",
      "I'm doing the thing.\n",
      "I'm doing the thing.\n",
      "bone-penn-512\n",
      "I'm doing the thing.\n",
      "I'm doing the thing.\n",
      "bone-penn-514\n",
      "I'm doing the thing.\n"
     ]
    },
    {
     "name": "stderr",
     "output_type": "stream",
     "text": [
      "\r",
      " 87%|████████▋ | 592/678 [02:05<00:16,  5.30it/s]"
     ]
    },
    {
     "name": "stdout",
     "output_type": "stream",
     "text": [
      "I'm doing the thing.\n",
      "bone-penn-515\n",
      "I'm doing the thing.\n"
     ]
    },
    {
     "name": "stderr",
     "output_type": "stream",
     "text": [
      "\r",
      " 87%|████████▋ | 593/678 [02:05<00:19,  4.35it/s]"
     ]
    },
    {
     "name": "stdout",
     "output_type": "stream",
     "text": [
      "I'm doing the thing.\n",
      "bone-penn-516\n",
      "I'm doing the thing.\n"
     ]
    },
    {
     "name": "stderr",
     "output_type": "stream",
     "text": [
      "\r",
      " 88%|████████▊ | 594/678 [02:05<00:20,  4.08it/s]"
     ]
    },
    {
     "name": "stdout",
     "output_type": "stream",
     "text": [
      "I'm doing the thing.\n",
      "bone-penn-517\n",
      "I'm doing the thing.\n"
     ]
    },
    {
     "name": "stderr",
     "output_type": "stream",
     "text": [
      " 88%|████████▊ | 596/678 [02:06<00:18,  4.39it/s]"
     ]
    },
    {
     "name": "stdout",
     "output_type": "stream",
     "text": [
      "I'm doing the thing.\n",
      "bone-penn-518\n",
      "I'm doing the thing.\n",
      "I'm doing the thing.\n",
      "bone-penn-519\n",
      "I'm doing the thing.\n"
     ]
    },
    {
     "name": "stderr",
     "output_type": "stream",
     "text": [
      "\r",
      " 88%|████████▊ | 597/678 [02:06<00:16,  4.96it/s]"
     ]
    },
    {
     "name": "stdout",
     "output_type": "stream",
     "text": [
      "I'm doing the thing.\n",
      "bone-penn-521\n",
      "I'm doing the thing.\n"
     ]
    },
    {
     "name": "stderr",
     "output_type": "stream",
     "text": [
      " 88%|████████▊ | 599/678 [02:06<00:17,  4.59it/s]"
     ]
    },
    {
     "name": "stdout",
     "output_type": "stream",
     "text": [
      "I'm doing the thing.\n",
      "bone-penn-522\n",
      "I'm doing the thing.\n",
      "I'm doing the thing.\n",
      "bone-penn-524\n",
      "I'm doing the thing.\n"
     ]
    },
    {
     "name": "stderr",
     "output_type": "stream",
     "text": [
      " 89%|████████▉ | 602/678 [02:07<00:12,  6.11it/s]"
     ]
    },
    {
     "name": "stdout",
     "output_type": "stream",
     "text": [
      "I'm doing the thing.\n",
      "bone-penn-527\n",
      "I'm doing the thing.\n",
      "I'm doing the thing.\n",
      "bone-penn-528\n",
      "I'm doing the thing.\n",
      "I'm doing the thing.\n",
      "bone-penn-529\n",
      "I'm doing the thing.\n"
     ]
    },
    {
     "name": "stderr",
     "output_type": "stream",
     "text": [
      "\r",
      " 89%|████████▉ | 603/678 [02:07<00:14,  5.13it/s]"
     ]
    },
    {
     "name": "stdout",
     "output_type": "stream",
     "text": [
      "I'm doing the thing.\n",
      "bone-penn-530\n",
      "I'm doing the thing.\n",
      "I'm doing the thing.\n",
      "bone-penn-535\n",
      "I'm doing the thing.\n"
     ]
    },
    {
     "name": "stderr",
     "output_type": "stream",
     "text": [
      "\r",
      " 89%|████████▉ | 605/678 [02:07<00:14,  5.17it/s]"
     ]
    },
    {
     "name": "stdout",
     "output_type": "stream",
     "text": [
      "I'm doing the thing.\n",
      "bone-penn-536\n",
      "I'm doing the thing.\n"
     ]
    },
    {
     "name": "stderr",
     "output_type": "stream",
     "text": [
      "\r",
      " 89%|████████▉ | 606/678 [02:08<00:15,  4.65it/s]"
     ]
    },
    {
     "name": "stdout",
     "output_type": "stream",
     "text": [
      "I'm doing the thing.\n",
      "bone-penn-538\n",
      "I'm doing the thing.\n"
     ]
    },
    {
     "name": "stderr",
     "output_type": "stream",
     "text": [
      "\r",
      " 90%|████████▉ | 607/678 [02:08<00:18,  3.80it/s]"
     ]
    },
    {
     "name": "stdout",
     "output_type": "stream",
     "text": [
      "I'm doing the thing.\n",
      "bone-penn-541\n",
      "I'm doing the thing.\n",
      "I'm doing the thing.\n",
      "bone-penn-546\n",
      "I'm doing the thing.\n"
     ]
    },
    {
     "name": "stderr",
     "output_type": "stream",
     "text": [
      " 90%|████████▉ | 610/678 [02:09<00:15,  4.42it/s]"
     ]
    },
    {
     "name": "stdout",
     "output_type": "stream",
     "text": [
      "I'm doing the thing.\n",
      "bone-penn-548\n",
      "I'm doing the thing.\n",
      "I'm doing the thing.\n",
      "bone-penn-549\n",
      "I'm doing the thing.\n"
     ]
    },
    {
     "name": "stderr",
     "output_type": "stream",
     "text": [
      "\r",
      " 90%|█████████ | 612/678 [02:09<00:11,  5.96it/s]"
     ]
    },
    {
     "name": "stdout",
     "output_type": "stream",
     "text": [
      "I'm doing the thing.\n",
      "bone-penn-551\n",
      "I'm doing the thing.\n",
      "I'm doing the thing.\n",
      "bone-penn-554\n",
      "I'm doing the thing.\n"
     ]
    },
    {
     "name": "stderr",
     "output_type": "stream",
     "text": [
      "\r",
      " 90%|█████████ | 613/678 [02:09<00:11,  5.53it/s]"
     ]
    },
    {
     "name": "stdout",
     "output_type": "stream",
     "text": [
      "I'm doing the thing.\n",
      "bone-penn-555\n",
      "I'm doing the thing.\n"
     ]
    },
    {
     "name": "stderr",
     "output_type": "stream",
     "text": [
      "\r",
      " 91%|█████████ | 614/678 [02:09<00:12,  4.95it/s]"
     ]
    },
    {
     "name": "stdout",
     "output_type": "stream",
     "text": [
      "I'm doing the thing.\n",
      "bone-penn-556\n",
      "I'm doing the thing.\n"
     ]
    },
    {
     "name": "stderr",
     "output_type": "stream",
     "text": [
      " 91%|█████████ | 616/678 [02:10<00:12,  4.98it/s]"
     ]
    },
    {
     "name": "stdout",
     "output_type": "stream",
     "text": [
      "I'm doing the thing.\n",
      "bone-penn-561\n",
      "I'm doing the thing.\n",
      "I'm doing the thing.\n",
      "bone-penn-565\n",
      "I'm doing the thing.\n"
     ]
    },
    {
     "name": "stderr",
     "output_type": "stream",
     "text": [
      " 91%|█████████ | 618/678 [02:10<00:12,  4.64it/s]"
     ]
    },
    {
     "name": "stdout",
     "output_type": "stream",
     "text": [
      "I'm doing the thing.\n",
      "bone-penn-568\n",
      "I'm doing the thing.\n",
      "I'm doing the thing.\n",
      "bone-penn-571\n",
      "I'm doing the thing.\n"
     ]
    },
    {
     "name": "stderr",
     "output_type": "stream",
     "text": [
      "\r",
      " 91%|█████████▏| 619/678 [02:10<00:14,  4.18it/s]"
     ]
    },
    {
     "name": "stdout",
     "output_type": "stream",
     "text": [
      "I'm doing the thing.\n",
      "bone-penn-572\n",
      "I'm doing the thing.\n",
      "I'm doing the thing.\n",
      "bone-penn-575\n",
      "I'm doing the thing.\n"
     ]
    },
    {
     "name": "stderr",
     "output_type": "stream",
     "text": [
      "\r",
      " 92%|█████████▏| 621/678 [02:11<00:13,  4.38it/s]"
     ]
    },
    {
     "name": "stdout",
     "output_type": "stream",
     "text": [
      "I'm doing the thing.\n",
      "bone-penn-577\n",
      "I'm doing the thing.\n"
     ]
    },
    {
     "name": "stderr",
     "output_type": "stream",
     "text": [
      "\r",
      " 92%|█████████▏| 622/678 [02:11<00:15,  3.59it/s]"
     ]
    },
    {
     "name": "stdout",
     "output_type": "stream",
     "text": [
      "I'm doing the thing.\n",
      "bone-penn-578\n",
      "I'm doing the thing.\n"
     ]
    },
    {
     "name": "stderr",
     "output_type": "stream",
     "text": [
      " 92%|█████████▏| 626/678 [02:12<00:12,  4.05it/s]"
     ]
    },
    {
     "name": "stdout",
     "output_type": "stream",
     "text": [
      "I'm doing the thing.\n",
      "bone-penn-579\n",
      "I'm doing the thing.\n",
      "I'm doing the thing.\n",
      "bone-penn-582\n",
      "I'm doing the thing.\n",
      "I'm doing the thing.\n",
      "bone-penn-585\n",
      "I'm doing the thing.\n",
      "I'm doing the thing.\n",
      "bone-penn-586\n",
      "I'm doing the thing.\n",
      "I'm doing the thing.\n",
      "bone-penn-587\n",
      "I'm doing the thing.\n"
     ]
    },
    {
     "name": "stderr",
     "output_type": "stream",
     "text": [
      "\r",
      " 93%|█████████▎| 628/678 [02:13<00:10,  4.56it/s]"
     ]
    },
    {
     "name": "stdout",
     "output_type": "stream",
     "text": [
      "I'm doing the thing.\n",
      "bone-penn-588\n",
      "I'm doing the thing.\n"
     ]
    },
    {
     "name": "stderr",
     "output_type": "stream",
     "text": [
      "\r",
      " 93%|█████████▎| 629/678 [02:13<00:11,  4.26it/s]"
     ]
    },
    {
     "name": "stdout",
     "output_type": "stream",
     "text": [
      "I'm doing the thing.\n",
      "bone-penn-589\n",
      "I'm doing the thing.\n"
     ]
    },
    {
     "name": "stderr",
     "output_type": "stream",
     "text": [
      " 93%|█████████▎| 632/678 [02:13<00:08,  5.59it/s]"
     ]
    },
    {
     "name": "stdout",
     "output_type": "stream",
     "text": [
      "I'm doing the thing.\n",
      "bone-penn-592\n",
      "I'm doing the thing.\n",
      "I'm doing the thing.\n",
      "bone-penn-593\n",
      "I'm doing the thing.\n",
      "I'm doing the thing.\n",
      "bone-penn-596\n",
      "I'm doing the thing.\n",
      "I'm doing the thing.\n",
      "bone-penn-597\n",
      "I'm doing the thing.\n"
     ]
    },
    {
     "name": "stderr",
     "output_type": "stream",
     "text": [
      "\r",
      " 94%|█████████▎| 634/678 [02:15<00:16,  2.61it/s]"
     ]
    },
    {
     "name": "stdout",
     "output_type": "stream",
     "text": [
      "I'm doing the thing.\n",
      "bone-penn-598\n",
      "I'm doing the thing.\n"
     ]
    },
    {
     "name": "stderr",
     "output_type": "stream",
     "text": [
      " 94%|█████████▍| 636/678 [02:15<00:12,  3.28it/s]"
     ]
    },
    {
     "name": "stdout",
     "output_type": "stream",
     "text": [
      "I'm doing the thing.\n",
      "bone-penn-599\n",
      "I'm doing the thing.\n",
      "I'm doing the thing.\n",
      "bone-penn-600\n",
      "I'm doing the thing.\n"
     ]
    },
    {
     "name": "stderr",
     "output_type": "stream",
     "text": [
      "\r",
      " 94%|█████████▍| 637/678 [02:16<00:10,  3.76it/s]"
     ]
    },
    {
     "name": "stdout",
     "output_type": "stream",
     "text": [
      "I'm doing the thing.\n",
      "bone-penn-601\n",
      "I'm doing the thing.\n"
     ]
    },
    {
     "name": "stderr",
     "output_type": "stream",
     "text": [
      "\r",
      " 94%|█████████▍| 638/678 [02:16<00:17,  2.33it/s]"
     ]
    },
    {
     "name": "stdout",
     "output_type": "stream",
     "text": [
      "I'm doing the thing.\n",
      "bone-penn-602\n",
      "I'm doing the thing.\n"
     ]
    },
    {
     "name": "stderr",
     "output_type": "stream",
     "text": [
      "\r",
      " 94%|█████████▍| 639/678 [02:17<00:15,  2.47it/s]"
     ]
    },
    {
     "name": "stdout",
     "output_type": "stream",
     "text": [
      "I'm doing the thing.\n",
      "bone-penn-603\n",
      "I'm doing the thing.\n"
     ]
    },
    {
     "name": "stderr",
     "output_type": "stream",
     "text": [
      " 95%|█████████▍| 641/678 [02:17<00:11,  3.27it/s]"
     ]
    },
    {
     "name": "stdout",
     "output_type": "stream",
     "text": [
      "I'm doing the thing.\n",
      "bone-penn-605\n",
      "I'm doing the thing.\n",
      "I'm doing the thing.\n",
      "bone-penn-606\n",
      "I'm doing the thing.\n"
     ]
    },
    {
     "name": "stderr",
     "output_type": "stream",
     "text": [
      "\r",
      " 95%|█████████▍| 642/678 [02:17<00:09,  3.76it/s]"
     ]
    },
    {
     "name": "stdout",
     "output_type": "stream",
     "text": [
      "I'm doing the thing.\n",
      "bone-penn-609\n",
      "I'm doing the thing.\n"
     ]
    },
    {
     "name": "stderr",
     "output_type": "stream",
     "text": [
      "\r",
      " 95%|█████████▍| 643/678 [02:18<00:12,  2.82it/s]"
     ]
    },
    {
     "name": "stdout",
     "output_type": "stream",
     "text": [
      "I'm doing the thing.\n",
      "bone-penn-610\n",
      "I'm doing the thing.\n"
     ]
    },
    {
     "name": "stderr",
     "output_type": "stream",
     "text": [
      " 95%|█████████▌| 646/678 [02:18<00:06,  4.86it/s]"
     ]
    },
    {
     "name": "stdout",
     "output_type": "stream",
     "text": [
      "I'm doing the thing.\n",
      "bone-penn-611\n",
      "I'm doing the thing.\n",
      "I'm doing the thing.\n",
      "bone-penn-613\n",
      "I'm doing the thing.\n",
      "I'm doing the thing.\n",
      "bone-penn-614\n",
      "I'm doing the thing.\n"
     ]
    },
    {
     "name": "stderr",
     "output_type": "stream",
     "text": [
      "\r",
      " 95%|█████████▌| 647/678 [02:18<00:05,  5.26it/s]"
     ]
    },
    {
     "name": "stdout",
     "output_type": "stream",
     "text": [
      "I'm doing the thing.\n",
      "bone-penn-615\n",
      "I'm doing the thing.\n"
     ]
    },
    {
     "name": "stderr",
     "output_type": "stream",
     "text": [
      " 96%|█████████▌| 649/678 [02:19<00:06,  4.75it/s]"
     ]
    },
    {
     "name": "stdout",
     "output_type": "stream",
     "text": [
      "I'm doing the thing.\n",
      "bone-penn-616\n",
      "I'm doing the thing.\n",
      "I'm doing the thing.\n",
      "bone-penn-617\n",
      "I'm doing the thing.\n"
     ]
    },
    {
     "name": "stderr",
     "output_type": "stream",
     "text": [
      " 96%|█████████▌| 652/678 [02:20<00:05,  4.68it/s]"
     ]
    },
    {
     "name": "stdout",
     "output_type": "stream",
     "text": [
      "I'm doing the thing.\n",
      "bone-penn-619\n",
      "I'm doing the thing.\n",
      "I'm doing the thing.\n",
      "bone-penn-620\n",
      "I'm doing the thing.\n",
      "I'm doing the thing.\n",
      "bone-penn-621\n",
      "I'm doing the thing.\n"
     ]
    },
    {
     "name": "stderr",
     "output_type": "stream",
     "text": [
      "\r",
      " 96%|█████████▋| 653/678 [02:20<00:07,  3.42it/s]"
     ]
    },
    {
     "name": "stdout",
     "output_type": "stream",
     "text": [
      "I'm doing the thing.\n",
      "bone-penn-622\n",
      "I'm doing the thing.\n"
     ]
    },
    {
     "name": "stderr",
     "output_type": "stream",
     "text": [
      "\r",
      " 96%|█████████▋| 654/678 [02:20<00:06,  3.61it/s]"
     ]
    },
    {
     "name": "stdout",
     "output_type": "stream",
     "text": [
      "I'm doing the thing.\n",
      "bone-penn-623\n",
      "I'm doing the thing.\n",
      "I'm doing the thing.\n",
      "bone-penn-624\n",
      "I'm doing the thing.\n"
     ]
    },
    {
     "name": "stderr",
     "output_type": "stream",
     "text": [
      " 97%|█████████▋| 658/678 [02:21<00:03,  6.49it/s]"
     ]
    },
    {
     "name": "stdout",
     "output_type": "stream",
     "text": [
      "I'm doing the thing.\n",
      "bone-penn-625\n",
      "I'm doing the thing.\n",
      "I'm doing the thing.\n",
      "bone-penn-626\n",
      "I'm doing the thing.\n",
      "I'm doing the thing.\n",
      "bone-penn-627\n",
      "I'm doing the thing.\n"
     ]
    },
    {
     "name": "stderr",
     "output_type": "stream",
     "text": [
      " 97%|█████████▋| 660/678 [02:21<00:03,  4.85it/s]"
     ]
    },
    {
     "name": "stdout",
     "output_type": "stream",
     "text": [
      "I'm doing the thing.\n",
      "bone-penn-629\n",
      "I'm doing the thing.\n",
      "I'm doing the thing.\n",
      "bone-penn-630\n",
      "I'm doing the thing.\n"
     ]
    },
    {
     "name": "stderr",
     "output_type": "stream",
     "text": [
      " 98%|█████████▊| 662/678 [02:22<00:02,  6.13it/s]"
     ]
    },
    {
     "name": "stdout",
     "output_type": "stream",
     "text": [
      "I'm doing the thing.\n",
      "bone-penn-631\n",
      "I'm doing the thing.\n",
      "I'm doing the thing.\n",
      "bone-penn-632\n",
      "I'm doing the thing.\n"
     ]
    },
    {
     "name": "stderr",
     "output_type": "stream",
     "text": [
      " 98%|█████████▊| 665/678 [02:22<00:01,  8.86it/s]"
     ]
    },
    {
     "name": "stdout",
     "output_type": "stream",
     "text": [
      "I'm doing the thing.\n",
      "bone-penn-633\n",
      "I'm doing the thing.\n",
      "I'm doing the thing.\n",
      "bone-penn-634\n",
      "I'm doing the thing.\n",
      "I'm doing the thing.\n",
      "bone-penn-635\n",
      "I'm doing the thing.\n",
      "I'm doing the thing.\n",
      "bone-penn-636\n",
      "I'm doing the thing.\n"
     ]
    },
    {
     "name": "stderr",
     "output_type": "stream",
     "text": [
      " 99%|█████████▊| 668/678 [02:22<00:01,  7.44it/s]"
     ]
    },
    {
     "name": "stdout",
     "output_type": "stream",
     "text": [
      "I'm doing the thing.\n",
      "bone-penn-637\n",
      "I'm doing the thing.\n",
      "I'm doing the thing.\n",
      "bone-penn-639\n",
      "I'm doing the thing.\n"
     ]
    },
    {
     "name": "stderr",
     "output_type": "stream",
     "text": [
      " 99%|█████████▉| 671/678 [02:23<00:00,  7.72it/s]"
     ]
    },
    {
     "name": "stdout",
     "output_type": "stream",
     "text": [
      "I'm doing the thing.\n",
      "bone-penn-640\n",
      "I'm doing the thing.\n",
      "I'm doing the thing.\n",
      "bone-penn-641\n",
      "I'm doing the thing.\n",
      "I'm doing the thing.\n",
      "bone-penn-643\n",
      "I'm doing the thing.\n"
     ]
    },
    {
     "name": "stderr",
     "output_type": "stream",
     "text": [
      "\r",
      " 99%|█████████▉| 672/678 [02:23<00:01,  5.55it/s]"
     ]
    },
    {
     "name": "stdout",
     "output_type": "stream",
     "text": [
      "I'm doing the thing.\n",
      "bone-penn-648\n",
      "I'm doing the thing.\n",
      "I'm doing the thing.\n",
      "bone-penn-650\n",
      "I'm doing the thing.\n"
     ]
    },
    {
     "name": "stderr",
     "output_type": "stream",
     "text": [
      "100%|█████████▉| 675/678 [02:24<00:00,  6.18it/s]"
     ]
    },
    {
     "name": "stdout",
     "output_type": "stream",
     "text": [
      "I'm doing the thing.\n",
      "bone-penn-651\n",
      "I'm doing the thing.\n",
      "I'm doing the thing.\n",
      "bone-penn-652\n",
      "I'm doing the thing.\n"
     ]
    },
    {
     "name": "stderr",
     "output_type": "stream",
     "text": [
      "100%|█████████▉| 677/678 [02:24<00:00,  6.35it/s]"
     ]
    },
    {
     "name": "stdout",
     "output_type": "stream",
     "text": [
      "I'm doing the thing.\n",
      "bone-penn-653\n",
      "I'm doing the thing.\n",
      "I'm doing the thing.\n",
      "bone-penn-654\n",
      "I'm doing the thing.\n"
     ]
    },
    {
     "name": "stderr",
     "output_type": "stream",
     "text": [
      "100%|██████████| 678/678 [02:24<00:00,  4.69it/s]\n",
      "  0%|          | 0/191 [00:00<?, ?it/s]"
     ]
    },
    {
     "name": "stdout",
     "output_type": "stream",
     "text": [
      "I'm doing the thing.\n",
      "bone-brown-10\n",
      "I'm doing the thing.\n",
      "I'm doing the thing.\n",
      "bone-brown-102\n",
      "I'm doing the thing.\n"
     ]
    },
    {
     "name": "stderr",
     "output_type": "stream",
     "text": [
      "\r",
      "  1%|          | 2/191 [00:00<00:28,  6.57it/s]"
     ]
    },
    {
     "name": "stdout",
     "output_type": "stream",
     "text": [
      "I'm doing the thing.\n",
      "bone-brown-105\n",
      "I'm doing the thing.\n"
     ]
    },
    {
     "name": "stderr",
     "output_type": "stream",
     "text": [
      "\r",
      "  2%|▏         | 3/191 [00:00<01:00,  3.08it/s]"
     ]
    },
    {
     "name": "stdout",
     "output_type": "stream",
     "text": [
      "I'm doing the thing.\n",
      "bone-brown-108\n",
      "I'm doing the thing.\n"
     ]
    },
    {
     "name": "stderr",
     "output_type": "stream",
     "text": [
      "\r",
      "  2%|▏         | 4/191 [00:01<01:15,  2.47it/s]"
     ]
    },
    {
     "name": "stdout",
     "output_type": "stream",
     "text": [
      "I'm doing the thing.\n",
      "bone-brown-109\n",
      "I'm doing the thing.\n"
     ]
    },
    {
     "name": "stderr",
     "output_type": "stream",
     "text": [
      "  3%|▎         | 6/191 [00:01<00:56,  3.30it/s]"
     ]
    },
    {
     "name": "stdout",
     "output_type": "stream",
     "text": [
      "I'm doing the thing.\n",
      "bone-brown-111\n",
      "I'm doing the thing.\n",
      "I'm doing the thing.\n",
      "bone-brown-12\n",
      "I'm doing the thing.\n"
     ]
    },
    {
     "name": "stderr",
     "output_type": "stream",
     "text": [
      "\r",
      "  4%|▎         | 7/191 [00:02<00:58,  3.15it/s]"
     ]
    },
    {
     "name": "stdout",
     "output_type": "stream",
     "text": [
      "I'm doing the thing.\n",
      "bone-brown-122\n",
      "I'm doing the thing.\n"
     ]
    },
    {
     "name": "stderr",
     "output_type": "stream",
     "text": [
      "\r",
      "  4%|▍         | 8/191 [00:02<00:58,  3.13it/s]"
     ]
    },
    {
     "name": "stdout",
     "output_type": "stream",
     "text": [
      "I'm doing the thing.\n",
      "bone-brown-28\n",
      "I'm doing the thing.\n"
     ]
    },
    {
     "name": "stderr",
     "output_type": "stream",
     "text": [
      "\r",
      "  5%|▍         | 9/191 [00:02<01:02,  2.93it/s]"
     ]
    },
    {
     "name": "stdout",
     "output_type": "stream",
     "text": [
      "I'm doing the thing.\n",
      "bone-brown-33\n",
      "I'm doing the thing.\n"
     ]
    },
    {
     "name": "stderr",
     "output_type": "stream",
     "text": [
      "\r",
      "  5%|▌         | 10/191 [00:03<01:02,  2.89it/s]"
     ]
    },
    {
     "name": "stdout",
     "output_type": "stream",
     "text": [
      "I'm doing the thing.\n",
      "bone-brown-36\n",
      "I'm doing the thing.\n"
     ]
    },
    {
     "name": "stderr",
     "output_type": "stream",
     "text": [
      "  6%|▋         | 12/191 [00:03<00:53,  3.34it/s]"
     ]
    },
    {
     "name": "stdout",
     "output_type": "stream",
     "text": [
      "I'm doing the thing.\n",
      "bone-brown-4\n",
      "I'm doing the thing.\n",
      "I'm doing the thing.\n",
      "bone-brown-40\n",
      "I'm doing the thing.\n"
     ]
    },
    {
     "name": "stderr",
     "output_type": "stream",
     "text": [
      "\r",
      "  7%|▋         | 13/191 [00:04<01:25,  2.09it/s]"
     ]
    },
    {
     "name": "stdout",
     "output_type": "stream",
     "text": [
      "I'm doing the thing.\n",
      "bone-brown-47\n",
      "I'm doing the thing.\n"
     ]
    },
    {
     "name": "stderr",
     "output_type": "stream",
     "text": [
      "  8%|▊         | 15/191 [00:05<00:55,  3.15it/s]"
     ]
    },
    {
     "name": "stdout",
     "output_type": "stream",
     "text": [
      "I'm doing the thing.\n",
      "bone-brown-48\n",
      "I'm doing the thing.\n",
      "I'm doing the thing.\n",
      "bone-brown-49\n",
      "I'm doing the thing.\n"
     ]
    },
    {
     "name": "stderr",
     "output_type": "stream",
     "text": [
      "\r",
      "  8%|▊         | 16/191 [00:05<01:06,  2.65it/s]"
     ]
    },
    {
     "name": "stdout",
     "output_type": "stream",
     "text": [
      "I'm doing the thing.\n",
      "bone-brown-5\n",
      "I'm doing the thing.\n"
     ]
    },
    {
     "name": "stderr",
     "output_type": "stream",
     "text": [
      "  9%|▉         | 18/191 [00:06<00:48,  3.54it/s]"
     ]
    },
    {
     "name": "stdout",
     "output_type": "stream",
     "text": [
      "I'm doing the thing.\n",
      "bone-brown-57\n",
      "I'm doing the thing.\n",
      "I'm doing the thing.\n",
      "bone-brown-61\n",
      "I'm doing the thing.\n"
     ]
    },
    {
     "name": "stderr",
     "output_type": "stream",
     "text": [
      " 10%|█         | 20/191 [00:06<00:34,  4.92it/s]"
     ]
    },
    {
     "name": "stdout",
     "output_type": "stream",
     "text": [
      "I'm doing the thing.\n",
      "bone-brown-66\n",
      "I'm doing the thing.\n",
      "I'm doing the thing.\n",
      "bone-brown-67\n",
      "I'm doing the thing.\n"
     ]
    },
    {
     "name": "stderr",
     "output_type": "stream",
     "text": [
      " 12%|█▏        | 22/191 [00:07<00:58,  2.90it/s]"
     ]
    },
    {
     "name": "stdout",
     "output_type": "stream",
     "text": [
      "I'm doing the thing.\n",
      "bone-brown-69\n",
      "I'm doing the thing.\n",
      "I'm doing the thing.\n",
      "bone-brown-7\n",
      "I'm doing the thing.\n",
      "I'm doing the thing.\n",
      "bone-brown-71\n",
      "I'm doing the thing.\n"
     ]
    },
    {
     "name": "stderr",
     "output_type": "stream",
     "text": [
      " 13%|█▎        | 25/191 [00:07<00:40,  4.06it/s]"
     ]
    },
    {
     "name": "stdout",
     "output_type": "stream",
     "text": [
      "I'm doing the thing.\n",
      "bone-brown-79\n",
      "I'm doing the thing.\n",
      "I'm doing the thing.\n",
      "bone-brown-80\n",
      "I'm doing the thing.\n"
     ]
    },
    {
     "name": "stderr",
     "output_type": "stream",
     "text": [
      "\r",
      " 14%|█▎        | 26/191 [00:08<00:39,  4.18it/s]"
     ]
    },
    {
     "name": "stdout",
     "output_type": "stream",
     "text": [
      "I'm doing the thing.\n",
      "bone-brown-87\n",
      "I'm doing the thing.\n"
     ]
    },
    {
     "name": "stderr",
     "output_type": "stream",
     "text": [
      "\r",
      " 14%|█▍        | 27/191 [00:08<00:41,  3.98it/s]"
     ]
    },
    {
     "name": "stdout",
     "output_type": "stream",
     "text": [
      "I'm doing the thing.\n",
      "bone-brown-9\n",
      "I'm doing the thing.\n"
     ]
    },
    {
     "name": "stderr",
     "output_type": "stream",
     "text": [
      " 15%|█▌        | 29/191 [00:08<00:33,  4.87it/s]"
     ]
    },
    {
     "name": "stdout",
     "output_type": "stream",
     "text": [
      "I'm doing the thing.\n",
      "bone-brown-98\n",
      "I'm doing the thing.\n",
      "I'm doing the thing.\n",
      "bone-china-001\n",
      "I'm doing the thing.\n",
      "I'm doing the thing.\n",
      "bone-china-003\n",
      "I'm doing the thing.\n"
     ]
    },
    {
     "name": "stderr",
     "output_type": "stream",
     "text": [
      " 17%|█▋        | 33/191 [00:09<00:18,  8.46it/s]"
     ]
    },
    {
     "name": "stdout",
     "output_type": "stream",
     "text": [
      "I'm doing the thing.\n",
      "bone-china-016\n",
      "I'm doing the thing.\n",
      "I'm doing the thing.\n",
      "bone-china-017\n",
      "I'm doing the thing.\n",
      "I'm doing the thing.\n",
      "bone-china-025\n",
      "I'm doing the thing.\n"
     ]
    },
    {
     "name": "stderr",
     "output_type": "stream",
     "text": [
      "\r",
      " 18%|█▊        | 35/191 [00:09<00:15, 10.14it/s]"
     ]
    },
    {
     "name": "stdout",
     "output_type": "stream",
     "text": [
      "I'm doing the thing.\n",
      "bone-china-026\n",
      "I'm doing the thing.\n",
      "I'm doing the thing.\n",
      "bone-china-030\n",
      "I'm doing the thing.\n",
      "I'm doing the thing.\n",
      "bone-china-034\n",
      "I'm doing the thing.\n"
     ]
    },
    {
     "name": "stderr",
     "output_type": "stream",
     "text": [
      " 21%|██        | 40/191 [00:09<00:10, 13.92it/s]"
     ]
    },
    {
     "name": "stdout",
     "output_type": "stream",
     "text": [
      "I'm doing the thing.\n",
      "bone-china-036\n",
      "I'm doing the thing.\n",
      "I'm doing the thing.\n",
      "bone-china-040\n",
      "I'm doing the thing.\n",
      "I'm doing the thing.\n",
      "bone-china-043\n",
      "I'm doing the thing.\n",
      "I'm doing the thing.\n",
      "bone-china-049\n",
      "I'm doing the thing.\n"
     ]
    },
    {
     "name": "stderr",
     "output_type": "stream",
     "text": [
      " 23%|██▎       | 44/191 [00:09<00:10, 13.93it/s]"
     ]
    },
    {
     "name": "stdout",
     "output_type": "stream",
     "text": [
      "I'm doing the thing.\n",
      "bone-china-054\n",
      "I'm doing the thing.\n",
      "I'm doing the thing.\n",
      "bone-china-057\n",
      "I'm doing the thing.\n",
      "I'm doing the thing.\n",
      "bone-china-077\n",
      "I'm doing the thing.\n",
      "I'm doing the thing.\n",
      "bone-china-078\n",
      "I'm doing the thing.\n"
     ]
    },
    {
     "name": "stderr",
     "output_type": "stream",
     "text": [
      "\r",
      " 24%|██▍       | 46/191 [00:09<00:10, 13.69it/s]"
     ]
    },
    {
     "name": "stdout",
     "output_type": "stream",
     "text": [
      "I'm doing the thing.\n",
      "bone-china-091\n",
      "I'm doing the thing.\n",
      "I'm doing the thing.\n",
      "bone-china-112\n",
      "I'm doing the thing.\n",
      "I'm doing the thing.\n",
      "bone-china-119\n",
      "I'm doing the thing.\n"
     ]
    },
    {
     "name": "stderr",
     "output_type": "stream",
     "text": [
      "\r",
      " 25%|██▌       | 48/191 [00:10<00:11, 12.49it/s]"
     ]
    },
    {
     "name": "stdout",
     "output_type": "stream",
     "text": [
      "I'm doing the thing.\n",
      "bone-china-120\n",
      "I'm doing the thing.\n",
      "I'm doing the thing.\n",
      "bone-china-128\n",
      "I'm doing the thing.\n"
     ]
    },
    {
     "name": "stderr",
     "output_type": "stream",
     "text": [
      " 27%|██▋       | 52/191 [00:10<00:11, 12.49it/s]"
     ]
    },
    {
     "name": "stdout",
     "output_type": "stream",
     "text": [
      "I'm doing the thing.\n",
      "bone-china-129\n",
      "I'm doing the thing.\n",
      "I'm doing the thing.\n",
      "bone-china-141\n",
      "I'm doing the thing.\n",
      "I'm doing the thing.\n",
      "bone-china-147\n",
      "I'm doing the thing.\n",
      "I'm doing the thing.\n",
      "bone-china-151\n",
      "I'm doing the thing.\n"
     ]
    },
    {
     "name": "stderr",
     "output_type": "stream",
     "text": [
      " 29%|██▉       | 56/191 [00:10<00:10, 13.05it/s]"
     ]
    },
    {
     "name": "stdout",
     "output_type": "stream",
     "text": [
      "I'm doing the thing.\n",
      "bone-china-155\n",
      "I'm doing the thing.\n",
      "I'm doing the thing.\n",
      "bone-china-162\n",
      "I'm doing the thing.\n",
      "I'm doing the thing.\n",
      "bone-china-163\n",
      "I'm doing the thing.\n"
     ]
    },
    {
     "name": "stderr",
     "output_type": "stream",
     "text": [
      "\r",
      " 30%|███       | 58/191 [00:10<00:09, 13.60it/s]"
     ]
    },
    {
     "name": "stdout",
     "output_type": "stream",
     "text": [
      "I'm doing the thing.\n",
      "bone-china-165\n",
      "I'm doing the thing.\n",
      "I'm doing the thing.\n",
      "bone-china-168\n",
      "I'm doing the thing.\n",
      "I'm doing the thing.\n",
      "bone-china-173\n",
      "I'm doing the thing.\n"
     ]
    },
    {
     "name": "stderr",
     "output_type": "stream",
     "text": [
      " 32%|███▏      | 62/191 [00:11<00:09, 13.39it/s]"
     ]
    },
    {
     "name": "stdout",
     "output_type": "stream",
     "text": [
      "I'm doing the thing.\n",
      "bone-china-179\n",
      "I'm doing the thing.\n",
      "I'm doing the thing.\n",
      "bone-china-195\n",
      "I'm doing the thing.\n",
      "I'm doing the thing.\n",
      "bone-china-201\n",
      "I'm doing the thing.\n"
     ]
    },
    {
     "name": "stderr",
     "output_type": "stream",
     "text": [
      "\r",
      " 34%|███▎      | 64/191 [00:11<00:10, 12.16it/s]"
     ]
    },
    {
     "name": "stdout",
     "output_type": "stream",
     "text": [
      "I'm doing the thing.\n",
      "bone-china-204\n",
      "I'm doing the thing.\n",
      "I'm doing the thing.\n",
      "bone-china-206\n",
      "I'm doing the thing.\n",
      "I'm doing the thing.\n",
      "bone-china-210\n",
      "I'm doing the thing.\n"
     ]
    },
    {
     "name": "stderr",
     "output_type": "stream",
     "text": [
      " 36%|███▌      | 68/191 [00:11<00:10, 12.14it/s]"
     ]
    },
    {
     "name": "stdout",
     "output_type": "stream",
     "text": [
      "I'm doing the thing.\n",
      "bone-china-211\n",
      "I'm doing the thing.\n",
      "I'm doing the thing.\n",
      "bone-china-226\n",
      "I'm doing the thing.\n",
      "I'm doing the thing.\n",
      "bone-hup-129\n",
      "I'm doing the thing.\n"
     ]
    },
    {
     "name": "stderr",
     "output_type": "stream",
     "text": [
      "\r",
      " 37%|███▋      | 70/191 [00:12<00:17,  6.92it/s]"
     ]
    },
    {
     "name": "stdout",
     "output_type": "stream",
     "text": [
      "I'm doing the thing.\n",
      "bone-hup-144\n",
      "I'm doing the thing.\n",
      "I'm doing the thing.\n",
      "bone-hup-145\n",
      "I'm doing the thing.\n"
     ]
    },
    {
     "name": "stderr",
     "output_type": "stream",
     "text": [
      "\r",
      " 37%|███▋      | 71/191 [00:12<00:17,  6.96it/s]"
     ]
    },
    {
     "name": "stdout",
     "output_type": "stream",
     "text": [
      "I'm doing the thing.\n",
      "bone-hup-147\n",
      "I'm doing the thing.\n"
     ]
    },
    {
     "name": "stderr",
     "output_type": "stream",
     "text": [
      "\r",
      " 38%|███▊      | 72/191 [00:12<00:25,  4.72it/s]"
     ]
    },
    {
     "name": "stdout",
     "output_type": "stream",
     "text": [
      "I'm doing the thing.\n",
      "bone-hup-153\n",
      "I'm doing the thing.\n",
      "I'm doing the thing.\n",
      "bone-hup-157\n",
      "I'm doing the thing.\n"
     ]
    },
    {
     "name": "stderr",
     "output_type": "stream",
     "text": [
      " 39%|███▉      | 75/191 [00:13<00:27,  4.20it/s]"
     ]
    },
    {
     "name": "stdout",
     "output_type": "stream",
     "text": [
      "I'm doing the thing.\n",
      "bone-hup-166\n",
      "I'm doing the thing.\n",
      "I'm doing the thing.\n",
      "bone-hup-170\n",
      "I'm doing the thing.\n",
      "I'm doing the thing.\n",
      "bone-hup-176\n",
      "I'm doing the thing.\n"
     ]
    },
    {
     "name": "stderr",
     "output_type": "stream",
     "text": [
      " 41%|████▏     | 79/191 [00:14<00:16,  6.95it/s]"
     ]
    },
    {
     "name": "stdout",
     "output_type": "stream",
     "text": [
      "I'm doing the thing.\n",
      "bone-hup-183\n",
      "I'm doing the thing.\n",
      "I'm doing the thing.\n",
      "bone-hup-192\n",
      "I'm doing the thing.\n",
      "I'm doing the thing.\n",
      "bone-hup-196\n",
      "I'm doing the thing.\n"
     ]
    },
    {
     "name": "stderr",
     "output_type": "stream",
     "text": [
      "\r",
      " 42%|████▏     | 81/191 [00:14<00:12,  8.65it/s]"
     ]
    },
    {
     "name": "stdout",
     "output_type": "stream",
     "text": [
      "I'm doing the thing.\n",
      "bone-hup-204\n",
      "I'm doing the thing.\n",
      "I'm doing the thing.\n",
      "bone-hup-205\n",
      "I'm doing the thing.\n",
      "I'm doing the thing.\n",
      "bone-hup-216\n",
      "I'm doing the thing.\n"
     ]
    },
    {
     "name": "stderr",
     "output_type": "stream",
     "text": [
      "\r",
      " 43%|████▎     | 83/191 [00:14<00:17,  6.22it/s]"
     ]
    },
    {
     "name": "stdout",
     "output_type": "stream",
     "text": [
      "I'm doing the thing.\n",
      "bone-hup-222\n",
      "I'm doing the thing.\n",
      "I'm doing the thing.\n",
      "bone-hup-246\n",
      "I'm doing the thing.\n"
     ]
    },
    {
     "name": "stderr",
     "output_type": "stream",
     "text": [
      " 45%|████▌     | 86/191 [00:15<00:15,  6.62it/s]"
     ]
    },
    {
     "name": "stdout",
     "output_type": "stream",
     "text": [
      "I'm doing the thing.\n",
      "bone-hup-292\n",
      "I'm doing the thing.\n",
      "I'm doing the thing.\n",
      "bone-hup-295\n",
      "I'm doing the thing.\n"
     ]
    },
    {
     "name": "stderr",
     "output_type": "stream",
     "text": [
      " 46%|████▌     | 88/191 [00:15<00:20,  5.01it/s]"
     ]
    },
    {
     "name": "stdout",
     "output_type": "stream",
     "text": [
      "I'm doing the thing.\n",
      "bone-hup-301\n",
      "I'm doing the thing.\n",
      "I'm doing the thing.\n",
      "bone-hup-303\n",
      "I'm doing the thing.\n"
     ]
    },
    {
     "name": "stderr",
     "output_type": "stream",
     "text": [
      " 47%|████▋     | 90/191 [00:16<00:26,  3.87it/s]"
     ]
    },
    {
     "name": "stdout",
     "output_type": "stream",
     "text": [
      "I'm doing the thing.\n",
      "bone-hup-307\n",
      "I'm doing the thing.\n",
      "I'm doing the thing.\n",
      "bone-hup-315\n",
      "I'm doing the thing.\n"
     ]
    },
    {
     "name": "stderr",
     "output_type": "stream",
     "text": [
      "\r",
      " 48%|████▊     | 91/191 [00:16<00:22,  4.45it/s]"
     ]
    },
    {
     "name": "stdout",
     "output_type": "stream",
     "text": [
      "I'm doing the thing.\n",
      "bone-hup-320\n",
      "I'm doing the thing.\n"
     ]
    },
    {
     "name": "stderr",
     "output_type": "stream",
     "text": [
      "\r",
      " 48%|████▊     | 92/191 [00:17<00:36,  2.69it/s]"
     ]
    },
    {
     "name": "stdout",
     "output_type": "stream",
     "text": [
      "I'm doing the thing.\n",
      "bone-hup-322\n",
      "I'm doing the thing.\n"
     ]
    },
    {
     "name": "stderr",
     "output_type": "stream",
     "text": [
      " 49%|████▉     | 94/191 [00:17<00:26,  3.67it/s]"
     ]
    },
    {
     "name": "stdout",
     "output_type": "stream",
     "text": [
      "I'm doing the thing.\n",
      "bone-hup-327\n",
      "I'm doing the thing.\n",
      "I'm doing the thing.\n",
      "bone-hup-329\n",
      "I'm doing the thing.\n"
     ]
    },
    {
     "name": "stderr",
     "output_type": "stream",
     "text": [
      " 50%|█████     | 96/191 [00:18<00:24,  3.94it/s]"
     ]
    },
    {
     "name": "stdout",
     "output_type": "stream",
     "text": [
      "I'm doing the thing.\n",
      "bone-hup-48\n",
      "I'm doing the thing.\n",
      "I'm doing the thing.\n",
      "bone-hup-54\n",
      "I'm doing the thing.\n"
     ]
    },
    {
     "name": "stderr",
     "output_type": "stream",
     "text": [
      "\r",
      " 51%|█████     | 97/191 [00:18<00:19,  4.73it/s]"
     ]
    },
    {
     "name": "stdout",
     "output_type": "stream",
     "text": [
      "I'm doing the thing.\n",
      "bone-hup-72\n",
      "I'm doing the thing.\n"
     ]
    },
    {
     "name": "stderr",
     "output_type": "stream",
     "text": [
      " 52%|█████▏    | 100/191 [00:18<00:13,  6.83it/s]"
     ]
    },
    {
     "name": "stdout",
     "output_type": "stream",
     "text": [
      "I'm doing the thing.\n",
      "bone-hup-73\n",
      "I'm doing the thing.\n",
      "I'm doing the thing.\n",
      "bone-hup-77\n",
      "I'm doing the thing.\n",
      "I'm doing the thing.\n",
      "bone-hup-89\n",
      "I'm doing the thing.\n"
     ]
    },
    {
     "name": "stderr",
     "output_type": "stream",
     "text": [
      " 53%|█████▎    | 102/191 [00:19<00:14,  5.94it/s]"
     ]
    },
    {
     "name": "stdout",
     "output_type": "stream",
     "text": [
      "I'm doing the thing.\n",
      "bone-penn-002\n",
      "I'm doing the thing.\n",
      "I'm doing the thing.\n",
      "bone-penn-004\n",
      "I'm doing the thing.\n"
     ]
    },
    {
     "name": "stderr",
     "output_type": "stream",
     "text": [
      "\r",
      " 54%|█████▍    | 103/191 [00:19<00:15,  5.69it/s]"
     ]
    },
    {
     "name": "stdout",
     "output_type": "stream",
     "text": [
      "I'm doing the thing.\n",
      "bone-penn-010\n",
      "I'm doing the thing.\n"
     ]
    },
    {
     "name": "stderr",
     "output_type": "stream",
     "text": [
      "\r",
      " 54%|█████▍    | 104/191 [00:19<00:16,  5.42it/s]"
     ]
    },
    {
     "name": "stdout",
     "output_type": "stream",
     "text": [
      "I'm doing the thing.\n",
      "bone-penn-013\n",
      "I'm doing the thing.\n"
     ]
    },
    {
     "name": "stderr",
     "output_type": "stream",
     "text": [
      " 55%|█████▌    | 106/191 [00:20<00:18,  4.53it/s]"
     ]
    },
    {
     "name": "stdout",
     "output_type": "stream",
     "text": [
      "I'm doing the thing.\n",
      "bone-penn-017\n",
      "I'm doing the thing.\n",
      "I'm doing the thing.\n",
      "bone-penn-026\n",
      "I'm doing the thing.\n"
     ]
    },
    {
     "name": "stderr",
     "output_type": "stream",
     "text": [
      " 57%|█████▋    | 108/191 [00:20<00:14,  5.84it/s]"
     ]
    },
    {
     "name": "stdout",
     "output_type": "stream",
     "text": [
      "I'm doing the thing.\n",
      "bone-penn-028\n",
      "I'm doing the thing.\n",
      "I'm doing the thing.\n",
      "bone-penn-031\n",
      "I'm doing the thing.\n",
      "I'm doing the thing.\n",
      "bone-penn-032\n",
      "I'm doing the thing.\n"
     ]
    },
    {
     "name": "stderr",
     "output_type": "stream",
     "text": [
      "\r",
      " 58%|█████▊    | 110/191 [00:20<00:13,  6.06it/s]"
     ]
    },
    {
     "name": "stdout",
     "output_type": "stream",
     "text": [
      "I'm doing the thing.\n",
      "bone-penn-035\n",
      "I'm doing the thing.\n",
      "I'm doing the thing.\n",
      "bone-penn-041\n",
      "I'm doing the thing.\n"
     ]
    },
    {
     "name": "stderr",
     "output_type": "stream",
     "text": [
      "\r",
      " 59%|█████▊    | 112/191 [00:21<00:14,  5.48it/s]"
     ]
    },
    {
     "name": "stdout",
     "output_type": "stream",
     "text": [
      "I'm doing the thing.\n",
      "bone-penn-044\n",
      "I'm doing the thing.\n"
     ]
    },
    {
     "name": "stderr",
     "output_type": "stream",
     "text": [
      " 60%|█████▉    | 114/191 [00:21<00:17,  4.50it/s]"
     ]
    },
    {
     "name": "stdout",
     "output_type": "stream",
     "text": [
      "I'm doing the thing.\n",
      "bone-penn-055\n",
      "I'm doing the thing.\n",
      "I'm doing the thing.\n",
      "bone-penn-059\n",
      "I'm doing the thing.\n"
     ]
    },
    {
     "name": "stderr",
     "output_type": "stream",
     "text": [
      " 61%|██████    | 116/191 [00:21<00:14,  5.17it/s]"
     ]
    },
    {
     "name": "stdout",
     "output_type": "stream",
     "text": [
      "I'm doing the thing.\n",
      "bone-penn-061\n",
      "I'm doing the thing.\n",
      "I'm doing the thing.\n",
      "bone-penn-063\n",
      "I'm doing the thing.\n"
     ]
    },
    {
     "name": "stderr",
     "output_type": "stream",
     "text": [
      "\r",
      " 61%|██████▏   | 117/191 [00:22<00:12,  5.83it/s]"
     ]
    },
    {
     "name": "stdout",
     "output_type": "stream",
     "text": [
      "I'm doing the thing.\n",
      "bone-penn-065\n",
      "I'm doing the thing.\n"
     ]
    },
    {
     "name": "stderr",
     "output_type": "stream",
     "text": [
      "\r",
      " 62%|██████▏   | 118/191 [00:22<00:25,  2.81it/s]"
     ]
    },
    {
     "name": "stdout",
     "output_type": "stream",
     "text": [
      "I'm doing the thing.\n",
      "bone-penn-067\n",
      "I'm doing the thing.\n",
      "I'm doing the thing.\n",
      "bone-penn-087\n",
      "I'm doing the thing.\n"
     ]
    },
    {
     "name": "stderr",
     "output_type": "stream",
     "text": [
      "\r",
      " 63%|██████▎   | 120/191 [00:23<00:19,  3.70it/s]"
     ]
    },
    {
     "name": "stdout",
     "output_type": "stream",
     "text": [
      "I'm doing the thing.\n",
      "bone-penn-096\n",
      "I'm doing the thing.\n"
     ]
    },
    {
     "name": "stderr",
     "output_type": "stream",
     "text": [
      " 64%|██████▍   | 122/191 [00:23<00:18,  3.79it/s]"
     ]
    },
    {
     "name": "stdout",
     "output_type": "stream",
     "text": [
      "I'm doing the thing.\n",
      "bone-penn-101\n",
      "I'm doing the thing.\n",
      "I'm doing the thing.\n",
      "bone-penn-104\n",
      "I'm doing the thing.\n",
      "I'm doing the thing.\n",
      "bone-penn-108\n",
      "I'm doing the thing.\n"
     ]
    },
    {
     "name": "stderr",
     "output_type": "stream",
     "text": [
      "\r",
      " 65%|██████▍   | 124/191 [00:24<00:17,  3.87it/s]"
     ]
    },
    {
     "name": "stdout",
     "output_type": "stream",
     "text": [
      "I'm doing the thing.\n",
      "bone-penn-115\n",
      "I'm doing the thing.\n",
      "I'm doing the thing.\n",
      "bone-penn-124\n",
      "I'm doing the thing.\n"
     ]
    },
    {
     "name": "stderr",
     "output_type": "stream",
     "text": [
      "\r",
      " 66%|██████▌   | 126/191 [00:24<00:18,  3.52it/s]"
     ]
    },
    {
     "name": "stdout",
     "output_type": "stream",
     "text": [
      "I'm doing the thing.\n",
      "bone-penn-132\n",
      "I'm doing the thing.\n"
     ]
    },
    {
     "name": "stderr",
     "output_type": "stream",
     "text": [
      " 67%|██████▋   | 128/191 [00:25<00:18,  3.38it/s]"
     ]
    },
    {
     "name": "stdout",
     "output_type": "stream",
     "text": [
      "I'm doing the thing.\n",
      "bone-penn-143\n",
      "I'm doing the thing.\n",
      "I'm doing the thing.\n",
      "bone-penn-145\n",
      "I'm doing the thing.\n"
     ]
    },
    {
     "name": "stderr",
     "output_type": "stream",
     "text": [
      "\r",
      " 68%|██████▊   | 129/191 [00:26<00:21,  2.88it/s]"
     ]
    },
    {
     "name": "stdout",
     "output_type": "stream",
     "text": [
      "I'm doing the thing.\n",
      "bone-penn-151\n",
      "I'm doing the thing.\n"
     ]
    },
    {
     "name": "stderr",
     "output_type": "stream",
     "text": [
      " 69%|██████▊   | 131/191 [00:26<00:20,  2.87it/s]"
     ]
    },
    {
     "name": "stdout",
     "output_type": "stream",
     "text": [
      "I'm doing the thing.\n",
      "bone-penn-159\n",
      "I'm doing the thing.\n",
      "I'm doing the thing.\n",
      "bone-penn-165\n",
      "I'm doing the thing.\n"
     ]
    },
    {
     "name": "stderr",
     "output_type": "stream",
     "text": [
      "\r",
      " 70%|██████▉   | 133/191 [00:27<00:13,  4.27it/s]"
     ]
    },
    {
     "name": "stdout",
     "output_type": "stream",
     "text": [
      "I'm doing the thing.\n",
      "bone-penn-166\n",
      "I'm doing the thing.\n",
      "I'm doing the thing.\n",
      "bone-penn-169\n",
      "I'm doing the thing.\n"
     ]
    },
    {
     "name": "stderr",
     "output_type": "stream",
     "text": [
      "\r",
      " 70%|███████   | 134/191 [00:27<00:14,  4.02it/s]"
     ]
    },
    {
     "name": "stdout",
     "output_type": "stream",
     "text": [
      "I'm doing the thing.\n",
      "bone-penn-176\n",
      "I'm doing the thing.\n",
      "I'm doing the thing.\n",
      "bone-penn-182\n",
      "I'm doing the thing.\n"
     ]
    },
    {
     "name": "stderr",
     "output_type": "stream",
     "text": [
      "\r",
      " 71%|███████   | 136/191 [00:27<00:12,  4.51it/s]"
     ]
    },
    {
     "name": "stdout",
     "output_type": "stream",
     "text": [
      "I'm doing the thing.\n",
      "bone-penn-186\n",
      "I'm doing the thing.\n"
     ]
    },
    {
     "name": "stderr",
     "output_type": "stream",
     "text": [
      "\r",
      " 72%|███████▏  | 137/191 [00:28<00:15,  3.53it/s]"
     ]
    },
    {
     "name": "stdout",
     "output_type": "stream",
     "text": [
      "I'm doing the thing.\n",
      "bone-penn-203\n",
      "I'm doing the thing.\n"
     ]
    },
    {
     "name": "stderr",
     "output_type": "stream",
     "text": [
      "\r",
      " 72%|███████▏  | 138/191 [00:28<00:15,  3.46it/s]"
     ]
    },
    {
     "name": "stdout",
     "output_type": "stream",
     "text": [
      "I'm doing the thing.\n",
      "bone-penn-211\n",
      "I'm doing the thing.\n"
     ]
    },
    {
     "name": "stderr",
     "output_type": "stream",
     "text": [
      "\r",
      " 73%|███████▎  | 139/191 [00:28<00:17,  2.99it/s]"
     ]
    },
    {
     "name": "stdout",
     "output_type": "stream",
     "text": [
      "I'm doing the thing.\n",
      "bone-penn-226\n",
      "I'm doing the thing.\n",
      "I'm doing the thing.\n",
      "bone-penn-234\n",
      "I'm doing the thing.\n"
     ]
    },
    {
     "name": "stderr",
     "output_type": "stream",
     "text": [
      "\r",
      " 74%|███████▍  | 141/191 [00:29<00:17,  2.94it/s]"
     ]
    },
    {
     "name": "stdout",
     "output_type": "stream",
     "text": [
      "I'm doing the thing.\n",
      "bone-penn-259\n",
      "I'm doing the thing.\n",
      "I'm doing the thing.\n",
      "bone-penn-263\n",
      "I'm doing the thing.\n"
     ]
    },
    {
     "name": "stderr",
     "output_type": "stream",
     "text": [
      "\r",
      " 75%|███████▍  | 143/191 [00:30<00:13,  3.48it/s]"
     ]
    },
    {
     "name": "stdout",
     "output_type": "stream",
     "text": [
      "I'm doing the thing.\n",
      "bone-penn-265\n",
      "I'm doing the thing.\n"
     ]
    },
    {
     "name": "stderr",
     "output_type": "stream",
     "text": [
      "\r",
      " 75%|███████▌  | 144/191 [00:30<00:13,  3.60it/s]"
     ]
    },
    {
     "name": "stdout",
     "output_type": "stream",
     "text": [
      "I'm doing the thing.\n",
      "bone-penn-270\n",
      "I'm doing the thing.\n"
     ]
    },
    {
     "name": "stderr",
     "output_type": "stream",
     "text": [
      "\r",
      " 76%|███████▌  | 145/191 [00:30<00:15,  3.05it/s]"
     ]
    },
    {
     "name": "stdout",
     "output_type": "stream",
     "text": [
      "I'm doing the thing.\n",
      "bone-penn-273\n",
      "I'm doing the thing.\n"
     ]
    },
    {
     "name": "stderr",
     "output_type": "stream",
     "text": [
      "\r",
      " 76%|███████▋  | 146/191 [00:31<00:14,  3.08it/s]"
     ]
    },
    {
     "name": "stdout",
     "output_type": "stream",
     "text": [
      "I'm doing the thing.\n",
      "bone-penn-274\n",
      "I'm doing the thing.\n"
     ]
    },
    {
     "name": "stderr",
     "output_type": "stream",
     "text": [
      " 78%|███████▊  | 149/191 [00:31<00:10,  3.85it/s]"
     ]
    },
    {
     "name": "stdout",
     "output_type": "stream",
     "text": [
      "I'm doing the thing.\n",
      "bone-penn-275\n",
      "I'm doing the thing.\n",
      "I'm doing the thing.\n",
      "bone-penn-281\n",
      "I'm doing the thing.\n",
      "I'm doing the thing.\n",
      "bone-penn-309\n",
      "I'm doing the thing.\n"
     ]
    },
    {
     "name": "stderr",
     "output_type": "stream",
     "text": [
      "\r",
      " 79%|███████▊  | 150/191 [00:32<00:09,  4.37it/s]"
     ]
    },
    {
     "name": "stdout",
     "output_type": "stream",
     "text": [
      "I'm doing the thing.\n",
      "bone-penn-329\n",
      "I'm doing the thing.\n"
     ]
    },
    {
     "name": "stderr",
     "output_type": "stream",
     "text": [
      "\r",
      " 79%|███████▉  | 151/191 [00:32<00:11,  3.52it/s]"
     ]
    },
    {
     "name": "stdout",
     "output_type": "stream",
     "text": [
      "I'm doing the thing.\n",
      "bone-penn-334\n",
      "I'm doing the thing.\n"
     ]
    },
    {
     "name": "stderr",
     "output_type": "stream",
     "text": [
      "\r",
      " 80%|███████▉  | 152/191 [00:33<00:13,  2.83it/s]"
     ]
    },
    {
     "name": "stdout",
     "output_type": "stream",
     "text": [
      "I'm doing the thing.\n",
      "bone-penn-378\n",
      "I'm doing the thing.\n"
     ]
    },
    {
     "name": "stderr",
     "output_type": "stream",
     "text": [
      "\r",
      " 80%|████████  | 153/191 [00:33<00:13,  2.88it/s]"
     ]
    },
    {
     "name": "stdout",
     "output_type": "stream",
     "text": [
      "I'm doing the thing.\n",
      "bone-penn-381\n",
      "I'm doing the thing.\n",
      "I'm doing the thing.\n",
      "bone-penn-383\n",
      "I'm doing the thing.\n"
     ]
    },
    {
     "name": "stderr",
     "output_type": "stream",
     "text": [
      "\r",
      " 81%|████████  | 155/191 [00:33<00:08,  4.03it/s]"
     ]
    },
    {
     "name": "stdout",
     "output_type": "stream",
     "text": [
      "I'm doing the thing.\n",
      "bone-penn-390\n",
      "I'm doing the thing.\n"
     ]
    },
    {
     "name": "stderr",
     "output_type": "stream",
     "text": [
      "\r",
      " 82%|████████▏ | 156/191 [00:33<00:08,  4.20it/s]"
     ]
    },
    {
     "name": "stdout",
     "output_type": "stream",
     "text": [
      "I'm doing the thing.\n",
      "bone-penn-403\n",
      "I'm doing the thing.\n",
      "I'm doing the thing.\n",
      "bone-penn-439\n",
      "I'm doing the thing.\n"
     ]
    },
    {
     "name": "stderr",
     "output_type": "stream",
     "text": [
      "\r",
      " 83%|████████▎ | 158/191 [00:34<00:07,  4.20it/s]"
     ]
    },
    {
     "name": "stdout",
     "output_type": "stream",
     "text": [
      "I'm doing the thing.\n",
      "bone-penn-456\n",
      "I'm doing the thing.\n"
     ]
    },
    {
     "name": "stderr",
     "output_type": "stream",
     "text": [
      "\r",
      " 83%|████████▎ | 159/191 [00:34<00:08,  3.95it/s]"
     ]
    },
    {
     "name": "stdout",
     "output_type": "stream",
     "text": [
      "I'm doing the thing.\n",
      "bone-penn-462\n",
      "I'm doing the thing.\n"
     ]
    },
    {
     "name": "stderr",
     "output_type": "stream",
     "text": [
      " 84%|████████▍ | 161/191 [00:35<00:07,  4.00it/s]"
     ]
    },
    {
     "name": "stdout",
     "output_type": "stream",
     "text": [
      "I'm doing the thing.\n",
      "bone-penn-464\n",
      "I'm doing the thing.\n",
      "I'm doing the thing.\n",
      "bone-penn-466\n",
      "I'm doing the thing.\n"
     ]
    },
    {
     "name": "stderr",
     "output_type": "stream",
     "text": [
      "\r",
      " 85%|████████▍ | 162/191 [00:35<00:09,  2.95it/s]"
     ]
    },
    {
     "name": "stdout",
     "output_type": "stream",
     "text": [
      "I'm doing the thing.\n",
      "bone-penn-481\n",
      "I'm doing the thing.\n",
      "I'm doing the thing.\n",
      "bone-penn-485\n",
      "I'm doing the thing.\n"
     ]
    },
    {
     "name": "stderr",
     "output_type": "stream",
     "text": [
      " 87%|████████▋ | 166/191 [00:36<00:04,  5.03it/s]"
     ]
    },
    {
     "name": "stdout",
     "output_type": "stream",
     "text": [
      "I'm doing the thing.\n",
      "bone-penn-488\n",
      "I'm doing the thing.\n",
      "I'm doing the thing.\n",
      "bone-penn-491\n",
      "I'm doing the thing.\n",
      "I'm doing the thing.\n",
      "bone-penn-492\n",
      "I'm doing the thing.\n"
     ]
    },
    {
     "name": "stderr",
     "output_type": "stream",
     "text": [
      "\r",
      " 87%|████████▋ | 167/191 [00:36<00:04,  5.51it/s]"
     ]
    },
    {
     "name": "stdout",
     "output_type": "stream",
     "text": [
      "I'm doing the thing.\n",
      "bone-penn-498\n",
      "I'm doing the thing.\n",
      "I'm doing the thing.\n",
      "bone-penn-500\n",
      "I'm doing the thing.\n"
     ]
    },
    {
     "name": "stderr",
     "output_type": "stream",
     "text": [
      "\r",
      " 88%|████████▊ | 169/191 [00:36<00:03,  5.65it/s]"
     ]
    },
    {
     "name": "stdout",
     "output_type": "stream",
     "text": [
      "I'm doing the thing.\n",
      "bone-penn-502\n",
      "I'm doing the thing.\n"
     ]
    },
    {
     "name": "stderr",
     "output_type": "stream",
     "text": [
      "\r",
      " 89%|████████▉ | 170/191 [00:37<00:05,  3.66it/s]"
     ]
    },
    {
     "name": "stdout",
     "output_type": "stream",
     "text": [
      "I'm doing the thing.\n",
      "bone-penn-504\n",
      "I'm doing the thing.\n",
      "I'm doing the thing.\n",
      "bone-penn-508\n",
      "I'm doing the thing.\n"
     ]
    },
    {
     "name": "stderr",
     "output_type": "stream",
     "text": [
      "\r",
      " 90%|█████████ | 172/191 [00:37<00:04,  4.57it/s]"
     ]
    },
    {
     "name": "stdout",
     "output_type": "stream",
     "text": [
      "I'm doing the thing.\n",
      "bone-penn-511\n",
      "I'm doing the thing.\n",
      "I'm doing the thing.\n",
      "bone-penn-513\n",
      "I'm doing the thing.\n"
     ]
    },
    {
     "name": "stderr",
     "output_type": "stream",
     "text": [
      "\r",
      " 91%|█████████ | 174/191 [00:37<00:03,  5.14it/s]"
     ]
    },
    {
     "name": "stdout",
     "output_type": "stream",
     "text": [
      "I'm doing the thing.\n",
      "bone-penn-526\n",
      "I'm doing the thing.\n"
     ]
    },
    {
     "name": "stderr",
     "output_type": "stream",
     "text": [
      "\r",
      " 92%|█████████▏| 175/191 [00:38<00:03,  4.14it/s]"
     ]
    },
    {
     "name": "stdout",
     "output_type": "stream",
     "text": [
      "I'm doing the thing.\n",
      "bone-penn-537\n",
      "I'm doing the thing.\n",
      "I'm doing the thing.\n",
      "bone-penn-539\n",
      "I'm doing the thing.\n"
     ]
    },
    {
     "name": "stderr",
     "output_type": "stream",
     "text": [
      "\r",
      " 93%|█████████▎| 177/191 [00:38<00:02,  5.15it/s]"
     ]
    },
    {
     "name": "stdout",
     "output_type": "stream",
     "text": [
      "I'm doing the thing.\n",
      "bone-penn-553\n",
      "I'm doing the thing.\n"
     ]
    },
    {
     "name": "stderr",
     "output_type": "stream",
     "text": [
      " 94%|█████████▎| 179/191 [00:38<00:02,  4.87it/s]"
     ]
    },
    {
     "name": "stdout",
     "output_type": "stream",
     "text": [
      "I'm doing the thing.\n",
      "bone-penn-564\n",
      "I'm doing the thing.\n",
      "I'm doing the thing.\n",
      "bone-penn-576\n",
      "I'm doing the thing.\n"
     ]
    },
    {
     "name": "stderr",
     "output_type": "stream",
     "text": [
      " 95%|█████████▍| 181/191 [00:39<00:02,  4.75it/s]"
     ]
    },
    {
     "name": "stdout",
     "output_type": "stream",
     "text": [
      "I'm doing the thing.\n",
      "bone-penn-583\n",
      "I'm doing the thing.\n",
      "I'm doing the thing.\n",
      "bone-penn-584\n",
      "I'm doing the thing.\n",
      "I'm doing the thing.\n",
      "bone-penn-590\n",
      "I'm doing the thing.\n"
     ]
    },
    {
     "name": "stderr",
     "output_type": "stream",
     "text": [
      " 96%|█████████▋| 184/191 [00:39<00:01,  5.56it/s]"
     ]
    },
    {
     "name": "stdout",
     "output_type": "stream",
     "text": [
      "I'm doing the thing.\n",
      "bone-penn-595\n",
      "I'm doing the thing.\n",
      "I'm doing the thing.\n",
      "bone-penn-607\n",
      "I'm doing the thing.\n"
     ]
    },
    {
     "name": "stderr",
     "output_type": "stream",
     "text": [
      " 97%|█████████▋| 186/191 [00:40<00:01,  4.21it/s]"
     ]
    },
    {
     "name": "stdout",
     "output_type": "stream",
     "text": [
      "I'm doing the thing.\n",
      "bone-penn-608\n",
      "I'm doing the thing.\n",
      "I'm doing the thing.\n",
      "bone-penn-618\n",
      "I'm doing the thing.\n"
     ]
    },
    {
     "name": "stderr",
     "output_type": "stream",
     "text": [
      " 98%|█████████▊| 188/191 [00:40<00:00,  5.23it/s]"
     ]
    },
    {
     "name": "stdout",
     "output_type": "stream",
     "text": [
      "I'm doing the thing.\n",
      "bone-penn-628\n",
      "I'm doing the thing.\n",
      "I'm doing the thing.\n",
      "bone-penn-645\n",
      "I'm doing the thing.\n"
     ]
    },
    {
     "name": "stderr",
     "output_type": "stream",
     "text": [
      " 99%|█████████▉| 190/191 [00:41<00:00,  4.70it/s]"
     ]
    },
    {
     "name": "stdout",
     "output_type": "stream",
     "text": [
      "I'm doing the thing.\n",
      "bone-penn-646\n",
      "I'm doing the thing.\n",
      "I'm doing the thing.\n",
      "bone-penn-647\n",
      "I'm doing the thing.\n"
     ]
    },
    {
     "name": "stderr",
     "output_type": "stream",
     "text": [
      "100%|██████████| 191/191 [00:41<00:00,  4.60it/s]\n",
      "  0%|          | 0/93 [00:00<?, ?it/s]"
     ]
    },
    {
     "name": "stdout",
     "output_type": "stream",
     "text": [
      "I'm doing the thing.\n",
      "bone-brown-90\n",
      "I'm doing the thing.\n"
     ]
    },
    {
     "name": "stderr",
     "output_type": "stream",
     "text": [
      "  3%|▎         | 3/93 [00:00<00:13,  6.90it/s]"
     ]
    },
    {
     "name": "stdout",
     "output_type": "stream",
     "text": [
      "I'm doing the thing.\n",
      "bone-china-007\n",
      "I'm doing the thing.\n",
      "I'm doing the thing.\n",
      "bone-china-012\n",
      "I'm doing the thing.\n",
      "I'm doing the thing.\n",
      "bone-china-013\n",
      "I'm doing the thing.\n"
     ]
    },
    {
     "name": "stderr",
     "output_type": "stream",
     "text": [
      "  6%|▋         | 6/93 [00:00<00:08, 10.34it/s]"
     ]
    },
    {
     "name": "stdout",
     "output_type": "stream",
     "text": [
      "I'm doing the thing.\n",
      "bone-china-018\n",
      "I'm doing the thing.\n",
      "I'm doing the thing.\n",
      "bone-china-032\n",
      "I'm doing the thing.\n",
      "I'm doing the thing.\n",
      "bone-china-042\n",
      "I'm doing the thing.\n",
      "I'm doing the thing.\n",
      "bone-china-063\n",
      "I'm doing the thing.\n"
     ]
    },
    {
     "name": "stderr",
     "output_type": "stream",
     "text": [
      "\r",
      "  9%|▊         | 8/93 [00:00<00:08, 10.60it/s]"
     ]
    },
    {
     "name": "stdout",
     "output_type": "stream",
     "text": [
      "I'm doing the thing.\n",
      "bone-china-064\n",
      "I'm doing the thing.\n",
      "I'm doing the thing.\n",
      "bone-china-073\n",
      "I'm doing the thing.\n"
     ]
    },
    {
     "name": "stderr",
     "output_type": "stream",
     "text": [
      " 13%|█▎        | 12/93 [00:01<00:06, 12.19it/s]"
     ]
    },
    {
     "name": "stdout",
     "output_type": "stream",
     "text": [
      "I'm doing the thing.\n",
      "bone-china-082\n",
      "I'm doing the thing.\n",
      "I'm doing the thing.\n",
      "bone-china-094\n",
      "I'm doing the thing.\n",
      "I'm doing the thing.\n",
      "bone-china-115\n",
      "I'm doing the thing.\n"
     ]
    },
    {
     "name": "stderr",
     "output_type": "stream",
     "text": [
      "\r",
      " 15%|█▌        | 14/93 [00:01<00:07, 10.91it/s]"
     ]
    },
    {
     "name": "stdout",
     "output_type": "stream",
     "text": [
      "I'm doing the thing.\n",
      "bone-china-130\n",
      "I'm doing the thing.\n",
      "I'm doing the thing.\n",
      "bone-china-137\n",
      "I'm doing the thing.\n",
      "I'm doing the thing.\n",
      "bone-china-139\n",
      "I'm doing the thing.\n"
     ]
    },
    {
     "name": "stderr",
     "output_type": "stream",
     "text": [
      "\r",
      " 17%|█▋        | 16/93 [00:01<00:06, 11.81it/s]"
     ]
    },
    {
     "name": "stdout",
     "output_type": "stream",
     "text": [
      "I'm doing the thing.\n",
      "bone-china-142\n",
      "I'm doing the thing.\n"
     ]
    },
    {
     "name": "stderr",
     "output_type": "stream",
     "text": [
      "\r",
      " 19%|█▉        | 18/93 [00:01<00:08,  8.79it/s]"
     ]
    },
    {
     "name": "stdout",
     "output_type": "stream",
     "text": [
      "I'm doing the thing.\n",
      "bone-china-150\n",
      "I'm doing the thing.\n",
      "I'm doing the thing.\n",
      "bone-china-156\n",
      "I'm doing the thing.\n",
      "I'm doing the thing.\n",
      "bone-china-157\n",
      "I'm doing the thing.\n"
     ]
    },
    {
     "name": "stderr",
     "output_type": "stream",
     "text": [
      " 24%|██▎       | 22/93 [00:02<00:06, 11.04it/s]"
     ]
    },
    {
     "name": "stdout",
     "output_type": "stream",
     "text": [
      "I'm doing the thing.\n",
      "bone-china-181\n",
      "I'm doing the thing.\n",
      "I'm doing the thing.\n",
      "bone-china-182\n",
      "I'm doing the thing.\n",
      "I'm doing the thing.\n",
      "bone-china-188\n",
      "I'm doing the thing.\n"
     ]
    },
    {
     "name": "stderr",
     "output_type": "stream",
     "text": [
      "\r",
      " 26%|██▌       | 24/93 [00:02<00:06, 10.97it/s]"
     ]
    },
    {
     "name": "stdout",
     "output_type": "stream",
     "text": [
      "I'm doing the thing.\n",
      "bone-china-202\n",
      "I'm doing the thing.\n",
      "I'm doing the thing.\n",
      "bone-china-208\n",
      "I'm doing the thing.\n",
      "I'm doing the thing.\n",
      "bone-china-229\n",
      "I'm doing the thing.\n"
     ]
    },
    {
     "name": "stderr",
     "output_type": "stream",
     "text": [
      " 30%|███       | 28/93 [00:02<00:06, 10.44it/s]"
     ]
    },
    {
     "name": "stdout",
     "output_type": "stream",
     "text": [
      "I'm doing the thing.\n",
      "bone-china-232\n",
      "I'm doing the thing.\n",
      "I'm doing the thing.\n",
      "bone-china-233\n",
      "I'm doing the thing.\n",
      "I'm doing the thing.\n",
      "bone-china-235\n",
      "I'm doing the thing.\n"
     ]
    },
    {
     "name": "stderr",
     "output_type": "stream",
     "text": [
      "\r",
      " 32%|███▏      | 30/93 [00:03<00:06,  9.82it/s]"
     ]
    },
    {
     "name": "stdout",
     "output_type": "stream",
     "text": [
      "I'm doing the thing.\n",
      "bone-china-241\n",
      "I'm doing the thing.\n",
      "I'm doing the thing.\n",
      "bone-hup-164\n",
      "I'm doing the thing.\n"
     ]
    },
    {
     "name": "stderr",
     "output_type": "stream",
     "text": [
      "\r",
      " 34%|███▍      | 32/93 [00:03<00:05, 10.17it/s]"
     ]
    },
    {
     "name": "stdout",
     "output_type": "stream",
     "text": [
      "I'm doing the thing.\n",
      "bone-hup-182\n",
      "I'm doing the thing.\n",
      "I'm doing the thing.\n",
      "bone-hup-190\n",
      "I'm doing the thing.\n"
     ]
    },
    {
     "name": "stderr",
     "output_type": "stream",
     "text": [
      "\r",
      " 37%|███▋      | 34/93 [00:03<00:07,  8.20it/s]"
     ]
    },
    {
     "name": "stdout",
     "output_type": "stream",
     "text": [
      "I'm doing the thing.\n",
      "bone-hup-195\n",
      "I'm doing the thing.\n",
      "I'm doing the thing.\n",
      "bone-hup-236\n",
      "I'm doing the thing.\n"
     ]
    },
    {
     "name": "stderr",
     "output_type": "stream",
     "text": [
      "\r",
      " 38%|███▊      | 35/93 [00:03<00:08,  7.17it/s]"
     ]
    },
    {
     "name": "stdout",
     "output_type": "stream",
     "text": [
      "I'm doing the thing.\n",
      "bone-hup-238\n",
      "I'm doing the thing.\n",
      "I'm doing the thing.\n",
      "bone-hup-294\n",
      "I'm doing the thing.\n"
     ]
    },
    {
     "name": "stderr",
     "output_type": "stream",
     "text": [
      "\r",
      " 40%|███▉      | 37/93 [00:04<00:07,  7.71it/s]"
     ]
    },
    {
     "name": "stdout",
     "output_type": "stream",
     "text": [
      "I'm doing the thing.\n",
      "bone-hup-300\n",
      "I'm doing the thing.\n",
      "I'm doing the thing.\n",
      "bone-hup-311\n",
      "I'm doing the thing.\n"
     ]
    },
    {
     "name": "stderr",
     "output_type": "stream",
     "text": [
      " 43%|████▎     | 40/93 [00:04<00:09,  5.71it/s]"
     ]
    },
    {
     "name": "stdout",
     "output_type": "stream",
     "text": [
      "I'm doing the thing.\n",
      "bone-hup-313\n",
      "I'm doing the thing.\n",
      "I'm doing the thing.\n",
      "bone-hup-318\n",
      "I'm doing the thing.\n"
     ]
    },
    {
     "name": "stderr",
     "output_type": "stream",
     "text": [
      "\r",
      " 44%|████▍     | 41/93 [00:05<00:16,  3.21it/s]"
     ]
    },
    {
     "name": "stdout",
     "output_type": "stream",
     "text": [
      "I'm doing the thing.\n",
      "bone-hup-53\n",
      "I'm doing the thing.\n",
      "I'm doing the thing.\n",
      "bone-hup-94\n",
      "I'm doing the thing.\n"
     ]
    },
    {
     "name": "stderr",
     "output_type": "stream",
     "text": [
      " 47%|████▋     | 44/93 [00:05<00:10,  4.64it/s]"
     ]
    },
    {
     "name": "stdout",
     "output_type": "stream",
     "text": [
      "I'm doing the thing.\n",
      "bone-penn-015\n",
      "I'm doing the thing.\n",
      "I'm doing the thing.\n",
      "bone-penn-071\n",
      "I'm doing the thing.\n",
      "I'm doing the thing.\n",
      "bone-penn-075\n",
      "I'm doing the thing.\n"
     ]
    },
    {
     "name": "stderr",
     "output_type": "stream",
     "text": [
      " 51%|█████     | 47/93 [00:06<00:08,  5.44it/s]"
     ]
    },
    {
     "name": "stdout",
     "output_type": "stream",
     "text": [
      "I'm doing the thing.\n",
      "bone-penn-077\n",
      "I'm doing the thing.\n",
      "I'm doing the thing.\n",
      "bone-penn-080\n",
      "I'm doing the thing.\n"
     ]
    },
    {
     "name": "stderr",
     "output_type": "stream",
     "text": [
      "\r",
      " 52%|█████▏    | 48/93 [00:06<00:07,  6.00it/s]"
     ]
    },
    {
     "name": "stdout",
     "output_type": "stream",
     "text": [
      "I'm doing the thing.\n",
      "bone-penn-086\n",
      "I'm doing the thing.\n"
     ]
    },
    {
     "name": "stderr",
     "output_type": "stream",
     "text": [
      " 54%|█████▍    | 50/93 [00:06<00:07,  5.69it/s]"
     ]
    },
    {
     "name": "stdout",
     "output_type": "stream",
     "text": [
      "I'm doing the thing.\n",
      "bone-penn-090\n",
      "I'm doing the thing.\n",
      "I'm doing the thing.\n",
      "bone-penn-103\n",
      "I'm doing the thing.\n"
     ]
    },
    {
     "name": "stderr",
     "output_type": "stream",
     "text": [
      " 57%|█████▋    | 53/93 [00:07<00:05,  7.68it/s]"
     ]
    },
    {
     "name": "stdout",
     "output_type": "stream",
     "text": [
      "I'm doing the thing.\n",
      "bone-penn-117\n",
      "I'm doing the thing.\n",
      "I'm doing the thing.\n",
      "bone-penn-130\n",
      "I'm doing the thing.\n",
      "I'm doing the thing.\n",
      "bone-penn-131\n",
      "I'm doing the thing.\n"
     ]
    },
    {
     "name": "stderr",
     "output_type": "stream",
     "text": [
      "\r",
      " 58%|█████▊    | 54/93 [00:07<00:06,  5.78it/s]"
     ]
    },
    {
     "name": "stdout",
     "output_type": "stream",
     "text": [
      "I'm doing the thing.\n",
      "bone-penn-175\n",
      "I'm doing the thing.\n"
     ]
    },
    {
     "name": "stderr",
     "output_type": "stream",
     "text": [
      " 61%|██████▏   | 57/93 [00:07<00:04,  7.59it/s]"
     ]
    },
    {
     "name": "stdout",
     "output_type": "stream",
     "text": [
      "I'm doing the thing.\n",
      "bone-penn-184\n",
      "I'm doing the thing.\n",
      "I'm doing the thing.\n",
      "bone-penn-185\n",
      "I'm doing the thing.\n",
      "I'm doing the thing.\n",
      "bone-penn-202\n",
      "I'm doing the thing.\n"
     ]
    },
    {
     "name": "stderr",
     "output_type": "stream",
     "text": [
      "\r",
      " 62%|██████▏   | 58/93 [00:08<00:11,  3.18it/s]"
     ]
    },
    {
     "name": "stdout",
     "output_type": "stream",
     "text": [
      "I'm doing the thing.\n",
      "bone-penn-229\n",
      "I'm doing the thing.\n"
     ]
    },
    {
     "name": "stderr",
     "output_type": "stream",
     "text": [
      " 65%|██████▍   | 60/93 [00:09<00:08,  3.84it/s]"
     ]
    },
    {
     "name": "stdout",
     "output_type": "stream",
     "text": [
      "I'm doing the thing.\n",
      "bone-penn-233\n",
      "I'm doing the thing.\n",
      "I'm doing the thing.\n",
      "bone-penn-271\n",
      "I'm doing the thing.\n"
     ]
    },
    {
     "name": "stderr",
     "output_type": "stream",
     "text": [
      "\r",
      " 67%|██████▋   | 62/93 [00:09<00:05,  5.54it/s]"
     ]
    },
    {
     "name": "stdout",
     "output_type": "stream",
     "text": [
      "I'm doing the thing.\n",
      "bone-penn-291\n",
      "I'm doing the thing.\n",
      "I'm doing the thing.\n",
      "bone-penn-295\n",
      "I'm doing the thing.\n",
      "I'm doing the thing.\n",
      "bone-penn-297\n",
      "I'm doing the thing.\n"
     ]
    },
    {
     "name": "stderr",
     "output_type": "stream",
     "text": [
      " 70%|██████▉   | 65/93 [00:09<00:03,  7.17it/s]"
     ]
    },
    {
     "name": "stdout",
     "output_type": "stream",
     "text": [
      "I'm doing the thing.\n",
      "bone-penn-366\n",
      "I'm doing the thing.\n",
      "I'm doing the thing.\n",
      "bone-penn-393\n",
      "I'm doing the thing.\n",
      "I'm doing the thing.\n",
      "bone-penn-401\n",
      "I'm doing the thing.\n"
     ]
    },
    {
     "name": "stderr",
     "output_type": "stream",
     "text": [
      " 73%|███████▎  | 68/93 [00:09<00:03,  7.33it/s]"
     ]
    },
    {
     "name": "stdout",
     "output_type": "stream",
     "text": [
      "I'm doing the thing.\n",
      "bone-penn-407\n",
      "I'm doing the thing.\n",
      "I'm doing the thing.\n",
      "bone-penn-432\n",
      "I'm doing the thing.\n"
     ]
    },
    {
     "name": "stderr",
     "output_type": "stream",
     "text": [
      "\r",
      " 74%|███████▍  | 69/93 [00:10<00:03,  6.84it/s]"
     ]
    },
    {
     "name": "stdout",
     "output_type": "stream",
     "text": [
      "I'm doing the thing.\n",
      "bone-penn-433\n",
      "I'm doing the thing.\n"
     ]
    },
    {
     "name": "stderr",
     "output_type": "stream",
     "text": [
      " 76%|███████▋  | 71/93 [00:10<00:05,  4.23it/s]"
     ]
    },
    {
     "name": "stdout",
     "output_type": "stream",
     "text": [
      "I'm doing the thing.\n",
      "bone-penn-435\n",
      "I'm doing the thing.\n",
      "I'm doing the thing.\n",
      "bone-penn-468\n",
      "I'm doing the thing.\n"
     ]
    },
    {
     "name": "stderr",
     "output_type": "stream",
     "text": [
      " 78%|███████▊  | 73/93 [00:11<00:06,  3.31it/s]"
     ]
    },
    {
     "name": "stdout",
     "output_type": "stream",
     "text": [
      "I'm doing the thing.\n",
      "bone-penn-469\n",
      "I'm doing the thing.\n",
      "I'm doing the thing.\n",
      "bone-penn-470\n",
      "I'm doing the thing.\n"
     ]
    },
    {
     "name": "stderr",
     "output_type": "stream",
     "text": [
      "\r",
      " 81%|████████  | 75/93 [00:12<00:03,  4.65it/s]"
     ]
    },
    {
     "name": "stdout",
     "output_type": "stream",
     "text": [
      "I'm doing the thing.\n",
      "bone-penn-475\n",
      "I'm doing the thing.\n",
      "I'm doing the thing.\n",
      "bone-penn-486\n",
      "I'm doing the thing.\n"
     ]
    },
    {
     "name": "stderr",
     "output_type": "stream",
     "text": [
      "\r",
      " 82%|████████▏ | 76/93 [00:12<00:03,  5.21it/s]"
     ]
    },
    {
     "name": "stdout",
     "output_type": "stream",
     "text": [
      "I'm doing the thing.\n",
      "bone-penn-493\n",
      "I'm doing the thing.\n"
     ]
    },
    {
     "name": "stderr",
     "output_type": "stream",
     "text": [
      "\r",
      " 83%|████████▎ | 77/93 [00:12<00:03,  4.10it/s]"
     ]
    },
    {
     "name": "stdout",
     "output_type": "stream",
     "text": [
      "I'm doing the thing.\n",
      "bone-penn-499\n",
      "I'm doing the thing.\n"
     ]
    },
    {
     "name": "stderr",
     "output_type": "stream",
     "text": [
      " 86%|████████▌ | 80/93 [00:12<00:02,  5.96it/s]"
     ]
    },
    {
     "name": "stdout",
     "output_type": "stream",
     "text": [
      "I'm doing the thing.\n",
      "bone-penn-501\n",
      "I'm doing the thing.\n",
      "I'm doing the thing.\n",
      "bone-penn-510\n",
      "I'm doing the thing.\n",
      "I'm doing the thing.\n",
      "bone-penn-520\n",
      "I'm doing the thing.\n"
     ]
    },
    {
     "name": "stderr",
     "output_type": "stream",
     "text": [
      "\r",
      " 88%|████████▊ | 82/93 [00:13<00:01,  7.52it/s]"
     ]
    },
    {
     "name": "stdout",
     "output_type": "stream",
     "text": [
      "I'm doing the thing.\n",
      "bone-penn-532\n",
      "I'm doing the thing.\n",
      "I'm doing the thing.\n",
      "bone-penn-540\n",
      "I'm doing the thing.\n"
     ]
    },
    {
     "name": "stderr",
     "output_type": "stream",
     "text": [
      " 91%|█████████▏| 85/93 [00:13<00:00,  8.74it/s]"
     ]
    },
    {
     "name": "stdout",
     "output_type": "stream",
     "text": [
      "I'm doing the thing.\n",
      "bone-penn-544\n",
      "I'm doing the thing.\n",
      "I'm doing the thing.\n",
      "bone-penn-547\n",
      "I'm doing the thing.\n",
      "I'm doing the thing.\n",
      "bone-penn-557\n",
      "I'm doing the thing.\n"
     ]
    },
    {
     "name": "stderr",
     "output_type": "stream",
     "text": [
      " 95%|█████████▍| 88/93 [00:13<00:00,  7.75it/s]"
     ]
    },
    {
     "name": "stdout",
     "output_type": "stream",
     "text": [
      "I'm doing the thing.\n",
      "bone-penn-566\n",
      "I'm doing the thing.\n",
      "I'm doing the thing.\n",
      "bone-penn-569\n",
      "I'm doing the thing.\n",
      "I'm doing the thing.\n",
      "bone-penn-574\n",
      "I'm doing the thing.\n",
      "I'm doing the thing.\n",
      "bone-penn-591\n",
      "I'm doing the thing.\n"
     ]
    },
    {
     "name": "stderr",
     "output_type": "stream",
     "text": [
      "\r",
      " 97%|█████████▋| 90/93 [00:14<00:00,  6.62it/s]"
     ]
    },
    {
     "name": "stdout",
     "output_type": "stream",
     "text": [
      "I'm doing the thing.\n",
      "bone-penn-594\n",
      "I'm doing the thing.\n",
      "I'm doing the thing.\n",
      "bone-penn-638\n",
      "I'm doing the thing.\n"
     ]
    },
    {
     "name": "stderr",
     "output_type": "stream",
     "text": [
      "100%|██████████| 93/93 [00:14<00:00,  6.25it/s]\n",
      "  0%|          | 0/97 [00:00<?, ?it/s]"
     ]
    },
    {
     "name": "stdout",
     "output_type": "stream",
     "text": [
      "I'm doing the thing.\n",
      "bone-penn-649\n",
      "I'm doing the thing.\n",
      "I'm doing the thing.\n",
      "bone-china-249\n",
      "I'm doing the thing.\n"
     ]
    },
    {
     "name": "stderr",
     "output_type": "stream",
     "text": [
      "\r",
      "  2%|▏         | 2/97 [00:00<00:06, 15.14it/s]"
     ]
    },
    {
     "name": "stdout",
     "output_type": "stream",
     "text": [
      "I'm doing the thing.\n",
      "bone-china-250\n",
      "I'm doing the thing.\n",
      "I'm doing the thing.\n",
      "bone-china-251\n",
      "I'm doing the thing.\n",
      "I'm doing the thing.\n",
      "bone-china-253\n",
      "I'm doing the thing.\n"
     ]
    },
    {
     "name": "stderr",
     "output_type": "stream",
     "text": [
      "\r",
      "  4%|▍         | 4/97 [00:00<00:07, 11.86it/s]"
     ]
    },
    {
     "name": "stdout",
     "output_type": "stream",
     "text": [
      "I'm doing the thing.\n",
      "bone-china-254\n",
      "I'm doing the thing.\n",
      "I'm doing the thing.\n",
      "bone-china-256\n",
      "I'm doing the thing.\n"
     ]
    },
    {
     "name": "stderr",
     "output_type": "stream",
     "text": [
      "  8%|▊         | 8/97 [00:00<00:07, 12.46it/s]"
     ]
    },
    {
     "name": "stdout",
     "output_type": "stream",
     "text": [
      "I'm doing the thing.\n",
      "bone-china-258\n",
      "I'm doing the thing.\n",
      "I'm doing the thing.\n",
      "bone-china-259\n",
      "I'm doing the thing.\n",
      "I'm doing the thing.\n",
      "bone-china-260\n",
      "I'm doing the thing.\n"
     ]
    },
    {
     "name": "stderr",
     "output_type": "stream",
     "text": [
      "\r",
      " 10%|█         | 10/97 [00:00<00:06, 12.85it/s]"
     ]
    },
    {
     "name": "stdout",
     "output_type": "stream",
     "text": [
      "I'm doing the thing.\n",
      "bone-china-261\n",
      "I'm doing the thing.\n",
      "I'm doing the thing.\n",
      "bone-china-262\n",
      "I'm doing the thing.\n",
      "I'm doing the thing.\n",
      "bone-china-263\n",
      "I'm doing the thing.\n"
     ]
    },
    {
     "name": "stderr",
     "output_type": "stream",
     "text": [
      " 14%|█▍        | 14/97 [00:01<00:07, 11.53it/s]"
     ]
    },
    {
     "name": "stdout",
     "output_type": "stream",
     "text": [
      "I'm doing the thing.\n",
      "bone-china-264\n",
      "I'm doing the thing.\n",
      "I'm doing the thing.\n",
      "bone-china-265\n",
      "I'm doing the thing.\n",
      "I'm doing the thing.\n",
      "bone-china-266\n",
      "I'm doing the thing.\n"
     ]
    },
    {
     "name": "stderr",
     "output_type": "stream",
     "text": [
      "\r",
      " 16%|█▋        | 16/97 [00:01<00:06, 12.03it/s]"
     ]
    },
    {
     "name": "stdout",
     "output_type": "stream",
     "text": [
      "I'm doing the thing.\n",
      "bone-china-267\n",
      "I'm doing the thing.\n",
      "I'm doing the thing.\n",
      "bone-china-269\n",
      "I'm doing the thing.\n",
      "I'm doing the thing.\n",
      "bone-china-270\n",
      "I'm doing the thing.\n"
     ]
    },
    {
     "name": "stderr",
     "output_type": "stream",
     "text": [
      "\r",
      " 19%|█▊        | 18/97 [00:01<00:07, 10.96it/s]"
     ]
    },
    {
     "name": "stdout",
     "output_type": "stream",
     "text": [
      "I'm doing the thing.\n",
      "bone-china-271\n",
      "I'm doing the thing.\n",
      "I'm doing the thing.\n",
      "bone-china-272\n",
      "I'm doing the thing.\n"
     ]
    },
    {
     "name": "stderr",
     "output_type": "stream",
     "text": [
      " 23%|██▎       | 22/97 [00:01<00:07, 10.27it/s]"
     ]
    },
    {
     "name": "stdout",
     "output_type": "stream",
     "text": [
      "I'm doing the thing.\n",
      "bone-china-273\n",
      "I'm doing the thing.\n",
      "I'm doing the thing.\n",
      "bone-china-274\n",
      "I'm doing the thing.\n",
      "I'm doing the thing.\n",
      "bone-china-275\n",
      "I'm doing the thing.\n"
     ]
    },
    {
     "name": "stderr",
     "output_type": "stream",
     "text": [
      "\r",
      " 25%|██▍       | 24/97 [00:02<00:07, 10.35it/s]"
     ]
    },
    {
     "name": "stdout",
     "output_type": "stream",
     "text": [
      "I'm doing the thing.\n",
      "bone-china-276\n",
      "I'm doing the thing.\n",
      "I'm doing the thing.\n",
      "bone-china-277\n",
      "I'm doing the thing.\n",
      "I'm doing the thing.\n",
      "bone-china-278\n",
      "I'm doing the thing.\n"
     ]
    },
    {
     "name": "stderr",
     "output_type": "stream",
     "text": [
      " 28%|██▊       | 27/97 [00:02<00:08,  8.74it/s]"
     ]
    },
    {
     "name": "stdout",
     "output_type": "stream",
     "text": [
      "I'm doing the thing.\n",
      "bone-china-279\n",
      "I'm doing the thing.\n",
      "I'm doing the thing.\n",
      "bone-china-280\n",
      "I'm doing the thing.\n",
      "I'm doing the thing.\n",
      "bone-china-281\n",
      "I'm doing the thing.\n"
     ]
    },
    {
     "name": "stderr",
     "output_type": "stream",
     "text": [
      "\r",
      " 31%|███       | 30/97 [00:02<00:06, 11.02it/s]"
     ]
    },
    {
     "name": "stdout",
     "output_type": "stream",
     "text": [
      "I'm doing the thing.\n",
      "bone-china-282\n",
      "I'm doing the thing.\n",
      "I'm doing the thing.\n",
      "bone-china-283\n",
      "I'm doing the thing.\n"
     ]
    },
    {
     "name": "stderr",
     "output_type": "stream",
     "text": [
      "\r",
      " 33%|███▎      | 32/97 [00:02<00:06, 10.83it/s]"
     ]
    },
    {
     "name": "stdout",
     "output_type": "stream",
     "text": [
      "I'm doing the thing.\n",
      "bone-china-285\n",
      "I'm doing the thing.\n",
      "I'm doing the thing.\n",
      "bone-china-286\n",
      "I'm doing the thing.\n"
     ]
    },
    {
     "name": "stderr",
     "output_type": "stream",
     "text": [
      "\r",
      " 35%|███▌      | 34/97 [00:03<00:07,  8.54it/s]"
     ]
    },
    {
     "name": "stdout",
     "output_type": "stream",
     "text": [
      "I'm doing the thing.\n",
      "bone-china-287\n",
      "I'm doing the thing.\n",
      "I'm doing the thing.\n",
      "bone-china-288\n",
      "I'm doing the thing.\n",
      "I'm doing the thing.\n",
      "bone-china-289\n",
      "I'm doing the thing.\n"
     ]
    },
    {
     "name": "stderr",
     "output_type": "stream",
     "text": [
      " 39%|███▉      | 38/97 [00:03<00:05, 10.04it/s]"
     ]
    },
    {
     "name": "stdout",
     "output_type": "stream",
     "text": [
      "I'm doing the thing.\n",
      "bone-china-290\n",
      "I'm doing the thing.\n",
      "I'm doing the thing.\n",
      "bone-china-291\n",
      "I'm doing the thing.\n",
      "I'm doing the thing.\n",
      "bone-china-293\n",
      "I'm doing the thing.\n",
      "I'm doing the thing.\n",
      "bone-china-295\n",
      "I'm doing the thing.\n"
     ]
    },
    {
     "name": "stderr",
     "output_type": "stream",
     "text": [
      " 44%|████▍     | 43/97 [00:03<00:04, 13.30it/s]"
     ]
    },
    {
     "name": "stdout",
     "output_type": "stream",
     "text": [
      "I'm doing the thing.\n",
      "bone-china-296\n",
      "I'm doing the thing.\n",
      "I'm doing the thing.\n",
      "bone-china-298\n",
      "I'm doing the thing.\n",
      "I'm doing the thing.\n",
      "bone-china-299\n",
      "I'm doing the thing.\n",
      "I'm doing the thing.\n",
      "bone-china-300\n",
      "I'm doing the thing.\n"
     ]
    },
    {
     "name": "stderr",
     "output_type": "stream",
     "text": [
      "\r",
      " 46%|████▋     | 45/97 [00:04<00:04, 10.52it/s]"
     ]
    },
    {
     "name": "stdout",
     "output_type": "stream",
     "text": [
      "I'm doing the thing.\n",
      "bone-china-303\n",
      "I'm doing the thing.\n",
      "I'm doing the thing.\n",
      "bone-china-304\n",
      "I'm doing the thing.\n"
     ]
    },
    {
     "name": "stderr",
     "output_type": "stream",
     "text": [
      " 51%|█████     | 49/97 [00:04<00:03, 12.32it/s]"
     ]
    },
    {
     "name": "stdout",
     "output_type": "stream",
     "text": [
      "I'm doing the thing.\n",
      "bone-china-306\n",
      "I'm doing the thing.\n",
      "I'm doing the thing.\n",
      "bone-china-307\n",
      "I'm doing the thing.\n",
      "I'm doing the thing.\n",
      "bone-china-308\n",
      "I'm doing the thing.\n",
      "I'm doing the thing.\n",
      "bone-china-309\n",
      "I'm doing the thing.\n"
     ]
    },
    {
     "name": "stderr",
     "output_type": "stream",
     "text": [
      "\r",
      " 53%|█████▎    | 51/97 [00:04<00:03, 11.81it/s]"
     ]
    },
    {
     "name": "stdout",
     "output_type": "stream",
     "text": [
      "I'm doing the thing.\n",
      "bone-china-310\n",
      "I'm doing the thing.\n",
      "I'm doing the thing.\n",
      "bone-china-311\n",
      "I'm doing the thing.\n",
      "I'm doing the thing.\n",
      "bone-china-312\n",
      "I'm doing the thing.\n",
      "I'm doing the thing.\n",
      "bone-china-313\n",
      "I'm doing the thing.\n"
     ]
    },
    {
     "name": "stderr",
     "output_type": "stream",
     "text": [
      " 58%|█████▊    | 56/97 [00:05<00:02, 14.16it/s]"
     ]
    },
    {
     "name": "stdout",
     "output_type": "stream",
     "text": [
      "I'm doing the thing.\n",
      "bone-china-314\n",
      "I'm doing the thing.\n",
      "I'm doing the thing.\n",
      "bone-china-315\n",
      "I'm doing the thing.\n",
      "I'm doing the thing.\n",
      "bone-china-316\n",
      "I'm doing the thing.\n",
      "I'm doing the thing.\n",
      "bone-china-317\n",
      "I'm doing the thing.\n"
     ]
    },
    {
     "name": "stderr",
     "output_type": "stream",
     "text": [
      "\r",
      " 60%|█████▉    | 58/97 [00:05<00:02, 13.95it/s]"
     ]
    },
    {
     "name": "stdout",
     "output_type": "stream",
     "text": [
      "I'm doing the thing.\n",
      "bone-china-318\n",
      "I'm doing the thing.\n"
     ]
    },
    {
     "name": "stderr",
     "output_type": "stream",
     "text": [
      "\r",
      " 62%|██████▏   | 60/97 [00:05<00:03, 11.23it/s]"
     ]
    },
    {
     "name": "stdout",
     "output_type": "stream",
     "text": [
      "I'm doing the thing.\n",
      "bone-china-319\n",
      "I'm doing the thing.\n",
      "I'm doing the thing.\n",
      "bone-china-321\n",
      "I'm doing the thing.\n",
      "I'm doing the thing.\n",
      "bone-china-322\n",
      "I'm doing the thing.\n",
      "I'm doing the thing.\n",
      "bone-china-323\n",
      "I'm doing the thing.\n"
     ]
    },
    {
     "name": "stderr",
     "output_type": "stream",
     "text": [
      "\r",
      " 65%|██████▍   | 63/97 [00:05<00:02, 13.07it/s]"
     ]
    },
    {
     "name": "stdout",
     "output_type": "stream",
     "text": [
      "I'm doing the thing.\n",
      "bone-china-324\n",
      "I'm doing the thing.\n",
      "I'm doing the thing.\n",
      "bone-china-325\n",
      "I'm doing the thing.\n"
     ]
    },
    {
     "name": "stderr",
     "output_type": "stream",
     "text": [
      "\r",
      " 67%|██████▋   | 65/97 [00:05<00:03, 10.03it/s]"
     ]
    },
    {
     "name": "stdout",
     "output_type": "stream",
     "text": [
      "I'm doing the thing.\n",
      "bone-china-326\n",
      "I'm doing the thing.\n"
     ]
    },
    {
     "name": "stderr",
     "output_type": "stream",
     "text": [
      "\r",
      " 69%|██████▉   | 67/97 [00:06<00:03,  8.36it/s]"
     ]
    },
    {
     "name": "stdout",
     "output_type": "stream",
     "text": [
      "I'm doing the thing.\n",
      "bone-china-327\n",
      "I'm doing the thing.\n",
      "I'm doing the thing.\n",
      "bone-china-328\n",
      "I'm doing the thing.\n"
     ]
    },
    {
     "name": "stderr",
     "output_type": "stream",
     "text": [
      "\r",
      " 70%|███████   | 68/97 [00:06<00:03,  8.29it/s]"
     ]
    },
    {
     "name": "stdout",
     "output_type": "stream",
     "text": [
      "I'm doing the thing.\n",
      "bone-china-329\n",
      "I'm doing the thing.\n",
      "I'm doing the thing.\n",
      "bone-china-330\n",
      "I'm doing the thing.\n"
     ]
    },
    {
     "name": "stderr",
     "output_type": "stream",
     "text": [
      " 73%|███████▎  | 71/97 [00:06<00:03,  8.16it/s]"
     ]
    },
    {
     "name": "stdout",
     "output_type": "stream",
     "text": [
      "I'm doing the thing.\n",
      "bone-china-331\n",
      "I'm doing the thing.\n",
      "I'm doing the thing.\n",
      "bone-china-332\n",
      "I'm doing the thing.\n"
     ]
    },
    {
     "name": "stderr",
     "output_type": "stream",
     "text": [
      "\r",
      " 75%|███████▌  | 73/97 [00:06<00:02,  8.94it/s]"
     ]
    },
    {
     "name": "stdout",
     "output_type": "stream",
     "text": [
      "I'm doing the thing.\n",
      "bone-china-333\n",
      "I'm doing the thing.\n",
      "I'm doing the thing.\n",
      "bone-china-334\n",
      "I'm doing the thing.\n",
      "I'm doing the thing.\n",
      "bone-china-335\n",
      "I'm doing the thing.\n"
     ]
    },
    {
     "name": "stderr",
     "output_type": "stream",
     "text": [
      " 79%|███████▉  | 77/97 [00:07<00:01, 10.88it/s]"
     ]
    },
    {
     "name": "stdout",
     "output_type": "stream",
     "text": [
      "I'm doing the thing.\n",
      "bone-china-337\n",
      "I'm doing the thing.\n",
      "I'm doing the thing.\n",
      "bone-china-338\n",
      "I'm doing the thing.\n",
      "I'm doing the thing.\n",
      "bone-china-340\n",
      "I'm doing the thing.\n",
      "I'm doing the thing.\n",
      "bone-china-341\n",
      "I'm doing the thing.\n"
     ]
    },
    {
     "name": "stderr",
     "output_type": "stream",
     "text": [
      " 82%|████████▏ | 80/97 [00:07<00:01,  8.69it/s]"
     ]
    },
    {
     "name": "stdout",
     "output_type": "stream",
     "text": [
      "I'm doing the thing.\n",
      "bone-china-342\n",
      "I'm doing the thing.\n",
      "I'm doing the thing.\n",
      "bone-china-343\n",
      "I'm doing the thing.\n"
     ]
    },
    {
     "name": "stderr",
     "output_type": "stream",
     "text": [
      " 86%|████████▌ | 83/97 [00:07<00:01, 10.28it/s]"
     ]
    },
    {
     "name": "stdout",
     "output_type": "stream",
     "text": [
      "I'm doing the thing.\n",
      "bone-china-344\n",
      "I'm doing the thing.\n",
      "I'm doing the thing.\n",
      "bone-china-345\n",
      "I'm doing the thing.\n",
      "I'm doing the thing.\n",
      "bone-china-347\n",
      "I'm doing the thing.\n"
     ]
    },
    {
     "name": "stderr",
     "output_type": "stream",
     "text": [
      "\r",
      " 88%|████████▊ | 85/97 [00:08<00:01, 11.47it/s]"
     ]
    },
    {
     "name": "stdout",
     "output_type": "stream",
     "text": [
      "I'm doing the thing.\n",
      "bone-china-348\n",
      "I'm doing the thing.\n",
      "I'm doing the thing.\n",
      "bone-china-349\n",
      "I'm doing the thing.\n",
      "I'm doing the thing.\n",
      "bone-china-350\n",
      "I'm doing the thing.\n"
     ]
    },
    {
     "name": "stderr",
     "output_type": "stream",
     "text": [
      "\r",
      " 90%|████████▉ | 87/97 [00:08<00:00, 12.11it/s]"
     ]
    },
    {
     "name": "stdout",
     "output_type": "stream",
     "text": [
      "I'm doing the thing.\n",
      "bone-china-353\n",
      "I'm doing the thing.\n"
     ]
    },
    {
     "name": "stderr",
     "output_type": "stream",
     "text": [
      "\r",
      " 92%|█████████▏| 89/97 [00:08<00:00,  9.91it/s]"
     ]
    },
    {
     "name": "stdout",
     "output_type": "stream",
     "text": [
      "I'm doing the thing.\n",
      "bone-china-354\n",
      "I'm doing the thing.\n",
      "I'm doing the thing.\n",
      "bone-china-355\n",
      "I'm doing the thing.\n",
      "I'm doing the thing.\n",
      "bone-china-356\n",
      "I'm doing the thing.\n"
     ]
    },
    {
     "name": "stderr",
     "output_type": "stream",
     "text": [
      " 96%|█████████▌| 93/97 [00:08<00:00, 11.32it/s]"
     ]
    },
    {
     "name": "stdout",
     "output_type": "stream",
     "text": [
      "I'm doing the thing.\n",
      "bone-china-357\n",
      "I'm doing the thing.\n",
      "I'm doing the thing.\n",
      "bone-china-358\n",
      "I'm doing the thing.\n",
      "I'm doing the thing.\n",
      "bone-china-359\n",
      "I'm doing the thing.\n"
     ]
    },
    {
     "name": "stderr",
     "output_type": "stream",
     "text": [
      "\r",
      " 98%|█████████▊| 95/97 [00:09<00:00, 10.51it/s]"
     ]
    },
    {
     "name": "stdout",
     "output_type": "stream",
     "text": [
      "I'm doing the thing.\n",
      "bone-china-360\n",
      "I'm doing the thing.\n",
      "I'm doing the thing.\n",
      "bone-china-361\n",
      "I'm doing the thing.\n"
     ]
    },
    {
     "name": "stderr",
     "output_type": "stream",
     "text": [
      "100%|██████████| 97/97 [00:09<00:00, 10.57it/s]\n"
     ]
    },
    {
     "name": "stdout",
     "output_type": "stream",
     "text": [
      "I'm doing the thing.\n",
      "bone-china-362\n",
      "I'm doing the thing.\n",
      "I'm doing the thing.\n",
      "Training: 678\n",
      "Validation: 191\n",
      "Testing: 93\n",
      "External: 97\n"
     ]
    },
    {
     "name": "stderr",
     "output_type": "stream",
     "text": [
      "/home/ubuntu/miniconda3/envs/bone-mri/lib/python3.8/site-packages/tensorflow/python/keras/engine/training.py:1905: UserWarning: `Model.predict_generator` is deprecated and will be removed in a future version. Please use `Model.predict`, which supports generators.\n",
      "  warnings.warn('`Model.predict_generator` is deprecated and '\n"
     ]
    },
    {
     "name": "stdout",
     "output_type": "stream",
     "text": [
      "WARNING:tensorflow:5 out of the last 13 calls to <function Model.make_predict_function.<locals>.predict_function at 0x7f2a5c5b3700> triggered tf.function retracing. Tracing is expensive and the excessive number of tracings could be due to (1) creating @tf.function repeatedly in a loop, (2) passing tensors with different shapes, (3) passing Python objects instead of tensors. For (1), please define your @tf.function outside of the loop. For (2), @tf.function has experimental_relax_shapes=True option that relaxes argument shapes that can avoid unnecessary retracing. For (3), please refer to https://www.tensorflow.org/guide/function#controlling_retracing and https://www.tensorflow.org/api_docs/python/tf/function for  more details.\n"
     ]
    },
    {
     "name": "stderr",
     "output_type": "stream",
     "text": [
      "/home/ubuntu/miniconda3/envs/bone-mri/lib/python3.8/site-packages/tensorflow/python/keras/engine/training.py:1905: UserWarning: `Model.predict_generator` is deprecated and will be removed in a future version. Please use `Model.predict`, which supports generators.\n",
      "  warnings.warn('`Model.predict_generator` is deprecated and '\n"
     ]
    },
    {
     "name": "stdout",
     "output_type": "stream",
     "text": [
      "WARNING:tensorflow:5 out of the last 13 calls to <function Model.make_predict_function.<locals>.predict_function at 0x7f2a539a9d30> triggered tf.function retracing. Tracing is expensive and the excessive number of tracings could be due to (1) creating @tf.function repeatedly in a loop, (2) passing tensors with different shapes, (3) passing Python objects instead of tensors. For (1), please define your @tf.function outside of the loop. For (2), @tf.function has experimental_relax_shapes=True option that relaxes argument shapes that can avoid unnecessary retracing. For (3), please refer to https://www.tensorflow.org/guide/function#controlling_retracing and https://www.tensorflow.org/api_docs/python/tf/function for  more details.\n"
     ]
    },
    {
     "name": "stderr",
     "output_type": "stream",
     "text": [
      "/home/ubuntu/miniconda3/envs/bone-mri/lib/python3.8/site-packages/tensorflow/python/keras/engine/training.py:1905: UserWarning: `Model.predict_generator` is deprecated and will be removed in a future version. Please use `Model.predict`, which supports generators.\n",
      "  warnings.warn('`Model.predict_generator` is deprecated and '\n"
     ]
    },
    {
     "name": "stdout",
     "output_type": "stream",
     "text": [
      "WARNING:tensorflow:5 out of the last 13 calls to <function Model.make_predict_function.<locals>.predict_function at 0x7f29a421f700> triggered tf.function retracing. Tracing is expensive and the excessive number of tracings could be due to (1) creating @tf.function repeatedly in a loop, (2) passing tensors with different shapes, (3) passing Python objects instead of tensors. For (1), please define your @tf.function outside of the loop. For (2), @tf.function has experimental_relax_shapes=True option that relaxes argument shapes that can avoid unnecessary retracing. For (3), please refer to https://www.tensorflow.org/guide/function#controlling_retracing and https://www.tensorflow.org/api_docs/python/tf/function for  more details.\n"
     ]
    },
    {
     "name": "stderr",
     "output_type": "stream",
     "text": [
      "/home/ubuntu/miniconda3/envs/bone-mri/lib/python3.8/site-packages/tensorflow/python/keras/engine/training.py:1905: UserWarning: `Model.predict_generator` is deprecated and will be removed in a future version. Please use `Model.predict`, which supports generators.\n",
      "  warnings.warn('`Model.predict_generator` is deprecated and '\n"
     ]
    },
    {
     "name": "stdout",
     "output_type": "stream",
     "text": [
      "WARNING:tensorflow:5 out of the last 13 calls to <function Model.make_predict_function.<locals>.predict_function at 0x7f2a5c1eb820> triggered tf.function retracing. Tracing is expensive and the excessive number of tracings could be due to (1) creating @tf.function repeatedly in a loop, (2) passing tensors with different shapes, (3) passing Python objects instead of tensors. For (1), please define your @tf.function outside of the loop. For (2), @tf.function has experimental_relax_shapes=True option that relaxes argument shapes that can avoid unnecessary retracing. For (3), please refer to https://www.tensorflow.org/guide/function#controlling_retracing and https://www.tensorflow.org/api_docs/python/tf/function for  more details.\n"
     ]
    },
    {
     "name": "stderr",
     "output_type": "stream",
     "text": [
      "/home/ubuntu/miniconda3/envs/bone-mri/lib/python3.8/site-packages/tensorflow/python/keras/engine/training.py:1905: UserWarning: `Model.predict_generator` is deprecated and will be removed in a future version. Please use `Model.predict`, which supports generators.\n",
      "  warnings.warn('`Model.predict_generator` is deprecated and '\n"
     ]
    },
    {
     "name": "stdout",
     "output_type": "stream",
     "text": [
      "WARNING:tensorflow:5 out of the last 13 calls to <function Model.make_predict_function.<locals>.predict_function at 0x7f29a41711f0> triggered tf.function retracing. Tracing is expensive and the excessive number of tracings could be due to (1) creating @tf.function repeatedly in a loop, (2) passing tensors with different shapes, (3) passing Python objects instead of tensors. For (1), please define your @tf.function outside of the loop. For (2), @tf.function has experimental_relax_shapes=True option that relaxes argument shapes that can avoid unnecessary retracing. For (3), please refer to https://www.tensorflow.org/guide/function#controlling_retracing and https://www.tensorflow.org/api_docs/python/tf/function for  more details.\n"
     ]
    },
    {
     "name": "stderr",
     "output_type": "stream",
     "text": [
      "/home/ubuntu/miniconda3/envs/bone-mri/lib/python3.8/site-packages/tensorflow/python/keras/engine/training.py:1905: UserWarning: `Model.predict_generator` is deprecated and will be removed in a future version. Please use `Model.predict`, which supports generators.\n",
      "  warnings.warn('`Model.predict_generator` is deprecated and '\n"
     ]
    },
    {
     "name": "stdout",
     "output_type": "stream",
     "text": [
      "WARNING:tensorflow:5 out of the last 13 calls to <function Model.make_predict_function.<locals>.predict_function at 0x7f294c72f8b0> triggered tf.function retracing. Tracing is expensive and the excessive number of tracings could be due to (1) creating @tf.function repeatedly in a loop, (2) passing tensors with different shapes, (3) passing Python objects instead of tensors. For (1), please define your @tf.function outside of the loop. For (2), @tf.function has experimental_relax_shapes=True option that relaxes argument shapes that can avoid unnecessary retracing. For (3), please refer to https://www.tensorflow.org/guide/function#controlling_retracing and https://www.tensorflow.org/api_docs/python/tf/function for  more details.\n"
     ]
    },
    {
     "name": "stderr",
     "output_type": "stream",
     "text": [
      "/home/ubuntu/miniconda3/envs/bone-mri/lib/python3.8/site-packages/tensorflow/python/keras/engine/training.py:1905: UserWarning: `Model.predict_generator` is deprecated and will be removed in a future version. Please use `Model.predict`, which supports generators.\n",
      "  warnings.warn('`Model.predict_generator` is deprecated and '\n"
     ]
    },
    {
     "name": "stdout",
     "output_type": "stream",
     "text": [
      "WARNING:tensorflow:5 out of the last 13 calls to <function Model.make_predict_function.<locals>.predict_function at 0x7f29a6fd7700> triggered tf.function retracing. Tracing is expensive and the excessive number of tracings could be due to (1) creating @tf.function repeatedly in a loop, (2) passing tensors with different shapes, (3) passing Python objects instead of tensors. For (1), please define your @tf.function outside of the loop. For (2), @tf.function has experimental_relax_shapes=True option that relaxes argument shapes that can avoid unnecessary retracing. For (3), please refer to https://www.tensorflow.org/guide/function#controlling_retracing and https://www.tensorflow.org/api_docs/python/tf/function for  more details.\n"
     ]
    },
    {
     "name": "stderr",
     "output_type": "stream",
     "text": [
      "/home/ubuntu/miniconda3/envs/bone-mri/lib/python3.8/site-packages/tensorflow/python/keras/engine/training.py:1905: UserWarning: `Model.predict_generator` is deprecated and will be removed in a future version. Please use `Model.predict`, which supports generators.\n",
      "  warnings.warn('`Model.predict_generator` is deprecated and '\n"
     ]
    },
    {
     "name": "stdout",
     "output_type": "stream",
     "text": [
      "WARNING:tensorflow:5 out of the last 13 calls to <function Model.make_predict_function.<locals>.predict_function at 0x7f2a5c1eb820> triggered tf.function retracing. Tracing is expensive and the excessive number of tracings could be due to (1) creating @tf.function repeatedly in a loop, (2) passing tensors with different shapes, (3) passing Python objects instead of tensors. For (1), please define your @tf.function outside of the loop. For (2), @tf.function has experimental_relax_shapes=True option that relaxes argument shapes that can avoid unnecessary retracing. For (3), please refer to https://www.tensorflow.org/guide/function#controlling_retracing and https://www.tensorflow.org/api_docs/python/tf/function for  more details.\n"
     ]
    },
    {
     "name": "stderr",
     "output_type": "stream",
     "text": [
      "/home/ubuntu/miniconda3/envs/bone-mri/lib/python3.8/site-packages/tensorflow/python/keras/engine/training.py:1905: UserWarning: `Model.predict_generator` is deprecated and will be removed in a future version. Please use `Model.predict`, which supports generators.\n",
      "  warnings.warn('`Model.predict_generator` is deprecated and '\n"
     ]
    },
    {
     "name": "stdout",
     "output_type": "stream",
     "text": [
      "WARNING:tensorflow:5 out of the last 13 calls to <function Model.make_predict_function.<locals>.predict_function at 0x7f29a43a3700> triggered tf.function retracing. Tracing is expensive and the excessive number of tracings could be due to (1) creating @tf.function repeatedly in a loop, (2) passing tensors with different shapes, (3) passing Python objects instead of tensors. For (1), please define your @tf.function outside of the loop. For (2), @tf.function has experimental_relax_shapes=True option that relaxes argument shapes that can avoid unnecessary retracing. For (3), please refer to https://www.tensorflow.org/guide/function#controlling_retracing and https://www.tensorflow.org/api_docs/python/tf/function for  more details.\n"
     ]
    },
    {
     "name": "stderr",
     "output_type": "stream",
     "text": [
      "/home/ubuntu/miniconda3/envs/bone-mri/lib/python3.8/site-packages/tensorflow/python/keras/engine/training.py:1905: UserWarning: `Model.predict_generator` is deprecated and will be removed in a future version. Please use `Model.predict`, which supports generators.\n",
      "  warnings.warn('`Model.predict_generator` is deprecated and '\n"
     ]
    },
    {
     "name": "stdout",
     "output_type": "stream",
     "text": [
      "WARNING:tensorflow:5 out of the last 13 calls to <function Model.make_predict_function.<locals>.predict_function at 0x7f2a5399eee0> triggered tf.function retracing. Tracing is expensive and the excessive number of tracings could be due to (1) creating @tf.function repeatedly in a loop, (2) passing tensors with different shapes, (3) passing Python objects instead of tensors. For (1), please define your @tf.function outside of the loop. For (2), @tf.function has experimental_relax_shapes=True option that relaxes argument shapes that can avoid unnecessary retracing. For (3), please refer to https://www.tensorflow.org/guide/function#controlling_retracing and https://www.tensorflow.org/api_docs/python/tf/function for  more details.\n"
     ]
    }
   ],
   "source": [
    "train, validation, test, external = data(seed=uuid.UUID(\"84a64c17-fe3e-440c-aaaf-e1bd5b02576f\"), label_form=\"outcome_pos\", input_form=\"t1\", train_shuffle=False, test_shuffle=False, validation_shuffle=False, train_augment=False, validation_augment=False, test_augment=False)\n",
    "all_results_t1 = {}\n",
    "for result in t1_results:\n",
    "    MODEL = \"{}/models/{}-{}.h5\".format(config.OUTPUT, result.uuid, result.model)\n",
    "    model = load(MODEL)\n",
    "    results = get_results(model, validation)\n",
    "    labels = get_labels(validation)\n",
    "    stats = calculate_confusion_matrix_stats(labels, results)\n",
    "    all_results_t1[str(result.uuid)] = {\"sensitivity\": stats[\"TPR\"][1], \"specificity\": stats[\"TNR\"][1], \"roc_auc\": roc_auc_score(labels,results)}\n",
    "\n",
    "train, validation, test, external = data(seed=uuid.UUID(\"84a64c17-fe3e-440c-aaaf-e1bd5b02576f\"), label_form=\"outcome_pos\", input_form=\"t2\", train_shuffle=False, test_shuffle=False, validation_shuffle=False, train_augment=False, validation_augment=False, test_augment=False)\n",
    "all_results_t2 = {}\n",
    "for result in t2_results:\n",
    "    MODEL = \"{}/models/{}-{}.h5\".format(config.OUTPUT, result.uuid, result.model)\n",
    "    model = load(MODEL)\n",
    "    results = get_results(model, validation)\n",
    "    labels = get_labels(validation)\n",
    "    stats = calculate_confusion_matrix_stats(labels, results)\n",
    "    all_results_t2[str(result.uuid)] = {\"sensitivity\": stats[\"TPR\"][1], \"specificity\": stats[\"TNR\"][1], \"roc_auc\": roc_auc_score(labels,results)}"
   ]
  },
  {
   "cell_type": "code",
   "execution_count": 7,
   "metadata": {},
   "outputs": [
    {
     "name": "stdout",
     "output_type": "stream",
     "text": [
      "T1\n",
      "                                      sensitivity  specificity  roc_auc\n",
      "b9f0f48c-bfe7-44a5-9b8d-0f549e3a9973        0.535        0.762    0.723\n",
      "6ead6748-eafd-4374-b928-0bd736c787fa        0.698        0.648    0.707\n",
      "c91703fc-1af2-40d4-bafd-32ad70a3a98d        0.605        0.695    0.699\n",
      "69d65638-156f-4a73-bf6c-b6658294af4a        0.640        0.686    0.698\n",
      "52792e67-2606-4085-bcce-adccf6e2f91c        0.616        0.667    0.717\n",
      "bb10c0e7-e7dc-418b-8b59-d9ac94790031        0.558        0.819    0.702\n",
      "e8ea6c3a-9635-4d10-97e0-e2c09ade23b2        0.698        0.667    0.704\n",
      "43a64e79-3c40-442f-b318-7ca9e0c4a2be        0.779        0.533    0.712\n",
      "cd40b79a-7071-4beb-97dd-248b52f2687e        0.709        0.657    0.757\n",
      "765f43a0-bbb4-46ea-890d-618b88b679fd        0.674        0.629    0.741\n",
      "T2\n",
      "                                      sensitivity  specificity  roc_auc\n",
      "d786bcef-7a8a-4bcb-b80a-b2125d18fbfa        0.512        0.838    0.741\n",
      "261eb4bc-b88c-4001-abce-55a55b8237e3        0.651        0.705    0.719\n",
      "884a108b-64b2-4a27-a929-e573eae479a4        0.384        0.810    0.704\n",
      "d8563137-6958-41e4-9d35-d9a9be745887        0.523        0.752    0.692\n",
      "bbe11c88-075c-4331-ab72-4d7250c9c8d4        0.593        0.590    0.637\n",
      "dcae56f4-f8fb-4d8c-856e-984937195aa1        0.826        0.562    0.747\n",
      "8b6d5c6a-2150-4bf3-87a1-fdf503462c8f        0.581        0.714    0.687\n",
      "7a652543-15d1-4039-864a-878d18937eda        0.547        0.714    0.703\n",
      "e30bf182-f447-4726-9d94-5e5db341a5ed        0.523        0.724    0.689\n",
      "0b208320-c0de-446c-83b2-2a004b946c07        0.512        0.724    0.662\n"
     ]
    }
   ],
   "source": [
    "import pandas as pd\n",
    "print(\"T1\")\n",
    "print(pd.DataFrame.from_dict(all_results_t1, orient='index'))\n",
    "print(\"T2\")\n",
    "print(pd.DataFrame.from_dict(all_results_t2, orient='index'))"
   ]
  },
  {
   "cell_type": "code",
   "execution_count": null,
   "metadata": {},
   "outputs": [],
   "source": []
  }
 ],
 "metadata": {
  "kernelspec": {
   "display_name": "Python 3",
   "language": "python",
   "name": "python3"
  },
  "language_info": {
   "codemirror_mode": {
    "name": "ipython",
    "version": 3
   },
   "file_extension": ".py",
   "mimetype": "text/x-python",
   "name": "python",
   "nbconvert_exporter": "python",
   "pygments_lexer": "ipython3",
   "version": "3.8.5"
  }
 },
 "nbformat": 4,
 "nbformat_minor": 4
}
